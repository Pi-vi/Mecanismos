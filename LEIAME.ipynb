{
 "cells": [
  {
   "cell_type": "markdown",
   "metadata": {},
   "source": [
    "# Mecanismos\n",
    "Professor Paulo Victor <br>\n",
    "e-mail: paulo.gomes@cefet-rj.br <br>\n",
    "CEFET/RJ Campus Angra dos Reis - Sala 6E\n",
    "\n",
    "\n",
    "\n",
    "## Ementa: \n",
    "\n",
    "\n",
    "1. [Introdução ao estudo dos mecanismos](Mecs1.ipynb)\n",
    "2. [Fundamentos da cinemática e Mecanismos Articulados](Mecs2.ipynb)\n",
    "3. [Síntese gráfica de mecanismos](Mecs3.ipynb)\n",
    "4. [Análise de posição](Mecs4.ipynb)\n",
    "5. [Síntese analítica de mecanismos](Mecs5.ipynb)\n",
    "6. [Análise de velocidade](Mecs6.ipynb)\n",
    "7. [Análise de aceleração](Mecs7.ipynb)\n",
    "8. [Cames](Mecs8.ipynb)\n",
    "9. [Transmissão por engrenagens](Mecs9.ipynb)\n",
    "\n",
    "\n",
    "\n",
    "## Objetivos\n",
    "* Iniciação e capacitação dos alunos em conhecimentos nas principais áreas relacionadas a Mecanismos e Dinâmica das Máquinas.\n",
    "\n",
    "\n",
    "\n",
    "## Bibliografia Recomendada:\n",
    "* NORTON, R. Cinemática e dinâmica dos mecanismos. Porto Alegre: Ed. AMGH, 2010.\n",
    "* MABIE, H. Mecanismos e Dinâmica das Máquinas. Rio de Janeiro: Livro Técnico S.A.\n",
    "\n",
    "\n",
    "\n",
    "## Links Recomendados: \n",
    "* [Python/Anaconda](https://www.anaconda.com/)\n",
    "* [How Stuff Works](https://www.howstuffworks.com/)\n",
    "* [Canal Youtube](https://www.youtube.com/user/thang010146)\n",
    "* [Canal Youtube](https://www.youtube.com/user/mekanizmalar)\n",
    "\n",
    "\n",
    "\n",
    "## Forma de Avaliação:\n",
    "* P1 -> Trabalho + Prova\n",
    "* P2 -> Trabalho + Prova\n",
    "* P3 -> Prova\n",
    "\n",
    "\n",
    "\n",
    "## Datas Importantes\n",
    "* Período de Trancamento:\n",
    "> 01/02 a 20/02   \n",
    "> 01/03 a 27/05\n",
    "* Avaliações:\n",
    ">P1: 26/03  \n",
    ">P2: 14/05  \n",
    ">P3: 28/05 "
   ]
  }
 ],
 "metadata": {
  "kernelspec": {
   "display_name": "Python 3",
   "language": "python",
   "name": "python3"
  },
  "language_info": {
   "codemirror_mode": {
    "name": "ipython",
    "version": 3
   },
   "file_extension": ".py",
   "mimetype": "text/x-python",
   "name": "python",
   "nbconvert_exporter": "python",
   "pygments_lexer": "ipython3",
   "version": "3.8.3"
  }
 },
 "nbformat": 4,
 "nbformat_minor": 4
}
