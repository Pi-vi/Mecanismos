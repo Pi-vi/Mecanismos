{
 "cells": [
  {
   "cell_type": "markdown",
   "metadata": {
    "slideshow": {
     "slide_type": "slide"
    }
   },
   "source": [
    "# 1 - Introdução ao Estudo de Mecanismos\n",
    "Professor Paulo Victor <br>\n",
    "e-mail: paulo.gomes@cefet-rj.br <br>\n",
    "CEFET/RJ Campus Angra dos Reis - Sala 6E"
   ]
  },
  {
   "cell_type": "markdown",
   "metadata": {
    "slideshow": {
     "slide_type": "slide"
    }
   },
   "source": [
    "## 1.1 Cinemática e Cinética\n",
    "\n",
    "![Divisão da Dinâmica](fig1-1.svg \"Divisão da Dinâmica\")\n",
    "\n",
    "\n",
    "* Cinemática -> Estudo do movimento, desconsiderando as forças que o causaram\n",
    "* Cinética -> Estudo das forças de sistemas em movimento\n",
    "\n",
    "\n",
    "Um dos objetivos principais da **cinemática** é criar (projetar) movimentos desejados de elementos mecânicos e então calcular as posições, velocidades e acelerações que esses movimentos irão gerar nos respectivos componentes.\n",
    "\n",
    "\n",
    "**A cinemática é a base fundamental de um projeto mecânico**"
   ]
  },
  {
   "cell_type": "markdown",
   "metadata": {
    "slideshow": {
     "slide_type": "slide"
    }
   },
   "source": [
    "\n",
    "## 1.2 Máquinas e Mecanismos\n",
    "\n",
    "\n",
    "* mecanismos -> é um sistema de elementos unidos e organizados para transmitir movimento de uma maneira predeterminada\n",
    "\n",
    "\n",
    "* máquina -> é um sistema de elementos unidos e organizados para transmitir movimento e energia de uma maneira predeterminada\n",
    "\n",
    "\n",
    "* **mecanismos, se pouco carregados e com baixas velocidades de funcionamento, podem ser analisados cinematicamente, desprezando-se as forças.** \n",
    "\n",
    "\n",
    "* **Máquinas e mecanismos vêm sendo criados por pessoas desde os primórdios da história**"
   ]
  },
  {
   "cell_type": "markdown",
   "metadata": {
    "slideshow": {
     "slide_type": "subslide"
    }
   },
   "source": [
    "**Por que estudar Mecanismos?**"
   ]
  },
  {
   "cell_type": "markdown",
   "metadata": {
    "slideshow": {
     "slide_type": "subslide"
    }
   },
   "source": [
    "**Mecanismos vêm sendo criados desde os primórdios da história para os mais diversos fins!**"
   ]
  },
  {
   "cell_type": "markdown",
   "metadata": {
    "slideshow": {
     "slide_type": "subslide"
    }
   },
   "source": [
    "![](roda01.png)"
   ]
  },
  {
   "cell_type": "code",
   "execution_count": 1,
   "metadata": {
    "slideshow": {
     "slide_type": "skip"
    }
   },
   "outputs": [],
   "source": [
    "from IPython.display import IFrame"
   ]
  },
  {
   "cell_type": "code",
   "execution_count": 2,
   "metadata": {
    "slideshow": {
     "slide_type": "subslide"
    }
   },
   "outputs": [
    {
     "data": {
      "text/html": [
       "\n",
       "        <iframe\n",
       "            width=\"640\"\n",
       "            height=\"360\"\n",
       "            src=\"https://www.youtube.com/embed/jjzNQasJ72M\"\n",
       "            frameborder=\"0\"\n",
       "            allowfullscreen\n",
       "        ></iframe>\n",
       "        "
      ],
      "text/plain": [
       "<IPython.lib.display.IFrame at 0x22551f23400>"
      ]
     },
     "execution_count": 2,
     "metadata": {},
     "output_type": "execute_result"
    }
   ],
   "source": [
    "IFrame(\"https://www.youtube.com/embed/jjzNQasJ72M\",640,360)"
   ]
  },
  {
   "cell_type": "markdown",
   "metadata": {
    "slideshow": {
     "slide_type": "subslide"
    }
   },
   "source": [
    "Karakuri-ningyo (XVIII)\n",
    "![](karakuri.jpeg)"
   ]
  },
  {
   "cell_type": "markdown",
   "metadata": {
    "slideshow": {
     "slide_type": "subslide"
    }
   },
   "source": [
    "The Writer - Pierre Jaquet-Droz (XVIII)\n",
    "![](http://history-computer.com/Dreamers/images/Jaquet-Droz_Writer.jpg)"
   ]
  },
  {
   "cell_type": "code",
   "execution_count": 3,
   "metadata": {
    "scrolled": false,
    "slideshow": {
     "slide_type": "subslide"
    }
   },
   "outputs": [
    {
     "data": {
      "text/html": [
       "\n",
       "        <iframe\n",
       "            width=\"640\"\n",
       "            height=\"360\"\n",
       "            src=\"https://www.youtube.com/embed/ReslaWsL7PI\"\n",
       "            frameborder=\"0\"\n",
       "            allowfullscreen\n",
       "        ></iframe>\n",
       "        "
      ],
      "text/plain": [
       "<IPython.lib.display.IFrame at 0x22551f3cb80>"
      ]
     },
     "execution_count": 3,
     "metadata": {},
     "output_type": "execute_result"
    }
   ],
   "source": [
    "IFrame(\"https://www.youtube.com/embed/ReslaWsL7PI\",640,360)"
   ]
  },
  {
   "cell_type": "code",
   "execution_count": 4,
   "metadata": {
    "scrolled": false,
    "slideshow": {
     "slide_type": "subslide"
    }
   },
   "outputs": [
    {
     "data": {
      "text/html": [
       "\n",
       "        <iframe\n",
       "            width=\"640\"\n",
       "            height=\"360\"\n",
       "            src=\"https://www.youtube.com/embed/V2RDitgCaD0\"\n",
       "            frameborder=\"0\"\n",
       "            allowfullscreen\n",
       "        ></iframe>\n",
       "        "
      ],
      "text/plain": [
       "<IPython.lib.display.IFrame at 0x22551f23d90>"
      ]
     },
     "execution_count": 4,
     "metadata": {},
     "output_type": "execute_result"
    }
   ],
   "source": [
    "IFrame('https://www.youtube.com/embed/V2RDitgCaD0',640,360)"
   ]
  },
  {
   "cell_type": "code",
   "execution_count": 5,
   "metadata": {
    "scrolled": false,
    "slideshow": {
     "slide_type": "subslide"
    }
   },
   "outputs": [
    {
     "data": {
      "text/html": [
       "\n",
       "        <iframe\n",
       "            width=\"640\"\n",
       "            height=\"360\"\n",
       "            src=\"https://www.youtube.com/embed/ROP45rjvOHg\"\n",
       "            frameborder=\"0\"\n",
       "            allowfullscreen\n",
       "        ></iframe>\n",
       "        "
      ],
      "text/plain": [
       "<IPython.lib.display.IFrame at 0x22551f2e190>"
      ]
     },
     "execution_count": 5,
     "metadata": {},
     "output_type": "execute_result"
    }
   ],
   "source": [
    "IFrame('https://www.youtube.com/embed/ROP45rjvOHg',640,360)"
   ]
  },
  {
   "cell_type": "code",
   "execution_count": 6,
   "metadata": {
    "scrolled": false,
    "slideshow": {
     "slide_type": "subslide"
    }
   },
   "outputs": [
    {
     "data": {
      "text/html": [
       "\n",
       "        <iframe\n",
       "            width=\"640\"\n",
       "            height=\"360\"\n",
       "            src=\"https://www.youtube.com/embed/b5E-VyQOfNM\"\n",
       "            frameborder=\"0\"\n",
       "            allowfullscreen\n",
       "        ></iframe>\n",
       "        "
      ],
      "text/plain": [
       "<IPython.lib.display.IFrame at 0x22551f3cd90>"
      ]
     },
     "execution_count": 6,
     "metadata": {},
     "output_type": "execute_result"
    }
   ],
   "source": [
    "IFrame('https://www.youtube.com/embed/b5E-VyQOfNM',640,360)"
   ]
  },
  {
   "cell_type": "code",
   "execution_count": 7,
   "metadata": {
    "scrolled": false,
    "slideshow": {
     "slide_type": "subslide"
    }
   },
   "outputs": [
    {
     "data": {
      "text/html": [
       "\n",
       "        <iframe\n",
       "            width=\"640\"\n",
       "            height=\"360\"\n",
       "            src=\"https://www.youtube.com/embed/CdPLzA4xIF0\"\n",
       "            frameborder=\"0\"\n",
       "            allowfullscreen\n",
       "        ></iframe>\n",
       "        "
      ],
      "text/plain": [
       "<IPython.lib.display.IFrame at 0x22551f82100>"
      ]
     },
     "execution_count": 7,
     "metadata": {},
     "output_type": "execute_result"
    }
   ],
   "source": [
    "IFrame('https://www.youtube.com/embed/CdPLzA4xIF0',640,360)"
   ]
  },
  {
   "cell_type": "code",
   "execution_count": 8,
   "metadata": {
    "scrolled": false,
    "slideshow": {
     "slide_type": "subslide"
    }
   },
   "outputs": [
    {
     "data": {
      "text/html": [
       "\n",
       "        <iframe\n",
       "            width=\"640\"\n",
       "            height=\"360\"\n",
       "            src=\"https://www.youtube.com/embed/dnixuCu49o4\"\n",
       "            frameborder=\"0\"\n",
       "            allowfullscreen\n",
       "        ></iframe>\n",
       "        "
      ],
      "text/plain": [
       "<IPython.lib.display.IFrame at 0x22551f82730>"
      ]
     },
     "execution_count": 8,
     "metadata": {},
     "output_type": "execute_result"
    }
   ],
   "source": [
    "IFrame('https://www.youtube.com/embed/dnixuCu49o4',640,360)"
   ]
  },
  {
   "cell_type": "code",
   "execution_count": 10,
   "metadata": {
    "slideshow": {
     "slide_type": "subslide"
    }
   },
   "outputs": [
    {
     "data": {
      "text/html": [
       "\n",
       "        <iframe\n",
       "            width=\"640\"\n",
       "            height=\"360\"\n",
       "            src=\"https://www.youtube.com/embed/bzZufNCXaeE\"\n",
       "            frameborder=\"0\"\n",
       "            allowfullscreen\n",
       "        ></iframe>\n",
       "        "
      ],
      "text/plain": [
       "<IPython.lib.display.IFrame at 0x22551f823d0>"
      ]
     },
     "execution_count": 10,
     "metadata": {},
     "output_type": "execute_result"
    }
   ],
   "source": [
    "IFrame(\"https://www.youtube.com/embed/bzZufNCXaeE\",640,360)"
   ]
  },
  {
   "cell_type": "markdown",
   "metadata": {
    "slideshow": {
     "slide_type": "slide"
    }
   },
   "source": [
    "\n",
    "## 1.3 Aplicações de Cinemática\n",
    "\n",
    "\n",
    "Um dos primeiros passos para resolver qualquer problema de projeto de máquinas é definir a configuração cinemática necessária para fornecer os movimentos desejados\n",
    "\n",
    "\n",
    "Qualquer máquinas ou aparelho que se mova contém um ou mais elementos cinemáticos como conexões, cames, engrenagens, correias ou correntes.\n",
    "![Exemplos de Mecanismos](fig1-1.jpg)"
   ]
  },
  {
   "cell_type": "markdown",
   "metadata": {
    "slideshow": {
     "slide_type": "subslide"
    }
   },
   "source": [
    "![](https://i.pinimg.com/564x/87/20/48/87204886a3ed3cc45c0550c33e0ef4f0.jpg)"
   ]
  },
  {
   "cell_type": "markdown",
   "metadata": {
    "slideshow": {
     "slide_type": "subslide"
    }
   },
   "source": [
    "![](https://i.pinimg.com/564x/34/ff/3f/34ff3fa64a909abe090ca182c4071dea.jpg)"
   ]
  },
  {
   "cell_type": "markdown",
   "metadata": {
    "slideshow": {
     "slide_type": "subslide"
    }
   },
   "source": [
    "![](https://i.pinimg.com/564x/2b/3c/11/2b3c11e3c5159f0c3b7205feb3b5ea8f.jpg)"
   ]
  },
  {
   "cell_type": "markdown",
   "metadata": {
    "slideshow": {
     "slide_type": "subslide"
    }
   },
   "source": [
    "![](https://i.pinimg.com/564x/65/67/a8/6567a81db8ac811182a05f90e03f3783.jpg)"
   ]
  },
  {
   "cell_type": "markdown",
   "metadata": {
    "slideshow": {
     "slide_type": "slide"
    }
   },
   "source": [
    "\n",
    "## 1.4 Metodologia de um Projeto\n",
    "\n",
    "\n",
    "### Projeto, invenção, criatividade\n",
    "\n",
    "\n",
    "* **Problema não estruturado**\n",
    "Muitas pesquisas são realizadas para definir várias *metodologias de projeto* com a intenção de prover meios para estruturar problemas desestruturados e levar a uma solução viável. \n"
   ]
  },
  {
   "cell_type": "markdown",
   "metadata": {
    "slideshow": {
     "slide_type": "subslide"
    }
   },
   "source": [
    "\n",
    "### Etapas de um projeto: \n",
    "1. Identificação de necessidades\n",
    "2. Pesquisa preliminar\n",
    "3. Estabelecimento do objetivo\n",
    "4. Especificação de desempenho\n",
    "5. Identificação e invenção\n",
    "6. Análise\n",
    "7. Seleção\n",
    "8. Projeto detalhado\n",
    "9. Prototipagem e teste\n",
    "10. Produção \n"
   ]
  },
  {
   "cell_type": "markdown",
   "metadata": {
    "slideshow": {
     "slide_type": "subslide"
    }
   },
   "source": [
    "\n",
    "\n",
    "**Processo iterativo**\n",
    "\n"
   ]
  },
  {
   "cell_type": "markdown",
   "metadata": {
    "slideshow": {
     "slide_type": "subslide"
    }
   },
   "source": [
    "- A etapa inicial, *Identificação da necessidade*, geralmente consiste em uma exposição mal definida e vaga do problema.\n",
    "- O desenvolvimento das informações na *Pesquisa preliminar* é necessário para definir e compreender completamente o problema.\n",
    "- O *objetivo é estabelecido* de forma mais razoável e realista do que na exposição original do problema.\n",
    "- A *Especificação de desempenho* é elaborada de forma detalhada e fecha o problema e limita o seu alcance.\n",
    "- Na *Idealização e invenção* se busca tantas alternativas de projeto quanto possíveis, geralmente sem considerar (nesta etapa) seu valor ou qualidade. Esse passo associa diversão e frustração. **Esta fase é provavelmente, para muitos projetistas, a mais gratificante, mas também a mais difícil.**\n",
    "- Na etapa de *Análise* as possíveis soluções da etapa anterior são analisadas e aceitas, rejeitadas ou modificadas.\n",
    "- A solução mais promissora é selecionada na etapa *Seleção*.\n",
    "- Quando um projeto aceitável é selecionado, o *Projeto detalhado* pode ser realizado.\n",
    "- A construção real do projeto é feita pela primeira vez como um *Protótipo* na etapa 9 e, finalmente, em quantidade na etapa 10 de *Produção*. "
   ]
  },
  {
   "cell_type": "markdown",
   "metadata": {},
   "source": [
    "-----"
   ]
  },
  {
   "cell_type": "markdown",
   "metadata": {},
   "source": [
    " [Voltar para o capítulo anterior](LEIAME.ipynb)     $\\qquad$   [Avançar para o próximo capítulo](Mecs2.ipynb)"
   ]
  }
 ],
 "metadata": {
  "kernelspec": {
   "display_name": "Python 3",
   "language": "python",
   "name": "python3"
  },
  "language_info": {
   "codemirror_mode": {
    "name": "ipython",
    "version": 3
   },
   "file_extension": ".py",
   "mimetype": "text/x-python",
   "name": "python",
   "nbconvert_exporter": "python",
   "pygments_lexer": "ipython3",
   "version": "3.8.3"
  }
 },
 "nbformat": 4,
 "nbformat_minor": 4
}
