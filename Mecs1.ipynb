{
 "cells": [
  {
   "cell_type": "markdown",
   "metadata": {},
   "source": [
    "# 1 - Introdução ao Estudo de Mecanismos"
   ]
  },
  {
   "cell_type": "markdown",
   "metadata": {},
   "source": [
    "## 1.1 Cinemática e Cinética\n",
    "![Divisão da Dinâmica](fig1-1.svg)\n",
    "\n",
    "* Cinemática -> Estudo do movimento, desconsiderando as forças que o causaram\n",
    "* Cinética -> Estudo das forças de sistemas em movimento\n",
    "\n",
    "Um dos objetivos principais da **cinemática** é criar (projetar) movimentos desejados de elementos mecânicos e então calcular as posições, velocidades e acelerações que esses movimentos irão gerar nos respectivos componentes.\n",
    "\n",
    "**A cinemática é a base fundamental de um projeto mecânico**"
   ]
  },
  {
   "cell_type": "markdown",
   "metadata": {},
   "source": [
    "## 1.2 Máquinas e Mecanismos\n",
    "\n",
    "* mecanismos -> é um sistema de elementos unidos e organizados para transmitir movimento de uma maneira predeterminada\n",
    "\n",
    "* máquina -> é um sistema de elementos unidos e organizados para transmitir movimento e energia de uma maneira predeterminada\n",
    "\n",
    "* **mecanismos, se pouco carregados e com baixas velocidades de funcionamento, poden ser analisados cinematicamente, desprezando-se as forças.** \n",
    "\n",
    "\n",
    "* **Máquinas e mecanismos vêm sendo criados por pessoas desde os primórdios da história** "
   ]
  },
  {
   "cell_type": "markdown",
   "metadata": {},
   "source": [
    "## 1.3 Aplicações de Cinemática\n",
    "\n",
    "Um dos primeiros passos para resolver qualquer problema de projeto de máquinas é definir a configuração cinemática necessária para fornecer os movimentos desejados\n",
    "\n",
    "Qualquer máquinas ou aparelho que se mova contém um ou mais elementos cinemáticos como conexões, cames, engrenagens, correias ou correntes.\n",
    "![Exemplos de Mecanismos](fig1-1.jpg)"
   ]
  },
  {
   "cell_type": "markdown",
   "metadata": {},
   "source": [
    "## 1.4 Metodologia de um Projeto\n",
    "\n",
    "### Projeto, invenção, criatividade\n",
    "\n",
    "* **Problema não estruturado**\n",
    "Muitas pesquisas são realizadas para definir várias *metodologias de projeto* com a intenção de prover meios para estruturar problemas desestruturados e levar a uma solução viável. \n",
    "\n",
    "### Etapas de um projeto: \n",
    "1. Identificação de necessidades\n",
    "2. Pesquisa preliminar\n",
    "3. Estabelecimento do objetivo\n",
    "4. Especificação de desempenho\n",
    "5. Identificação e invenção\n",
    "6. Análise\n",
    "7. Seleção\n",
    "8. Projeto detalhado\n",
    "9. Prototipagem e teste\n",
    "10. Produção \n",
    "\n",
    "**Processo iterativo**\n",
    "\n",
    "1. A etapa inicial, *Identificação da necessidade*, geralmente consiste em uma exposição mal definida e vaga do problema.\n",
    "\n",
    "2. O desenvolvimento das informações na *Pesquisa preliminar* é necessário para definir e compreender completamente o problema.\n",
    "\n",
    "3. O *objetivo é estabelecido* de forma mais razoável e realista do que na exposição original do problema.\n",
    "\n",
    "4. A *Especificação de desempenho* é elaborada de forma detalhada e fecha o problema e limita o seu alcance.\n",
    "\n",
    "5. Na *Idealização e invenção* se busca tantas alternativas de projeto quanto possíveis, geralmente sem considerar (nesta etapa) seu valor ou qualidade. Esse passo associa diversão e frustração. **Esta fase é provavelmente, para muitos projetistas, a mais gratificante, mas também a mais difícil.\n",
    "\n",
    "6. Na etapa de *Análise* as possíveis soluções da etapa anterior são analisadas e aceitas, rejeitadas ou modificadas.\n",
    "\n",
    "7. A solução mais promissora é selecionada na etapa *Seleção*.\n",
    "\n",
    "8. Quando um projeto aceitável é selecionado, o *Projeto detalhado* pode ser realizado.\n",
    "\n",
    "* A construção real do projeto é feita pela primeira vez como um *Protótipo* na etapa 9 e, finalmente, em quantidade na etapa 10 de *Produção*. "
   ]
  }
 ],
 "metadata": {
  "kernelspec": {
   "display_name": "Python 3",
   "language": "python",
   "name": "python3"
  },
  "language_info": {
   "codemirror_mode": {
    "name": "ipython",
    "version": 3
   },
   "file_extension": ".py",
   "mimetype": "text/x-python",
   "name": "python",
   "nbconvert_exporter": "python",
   "pygments_lexer": "ipython3",
   "version": "3.8.5"
  }
 },
 "nbformat": 4,
 "nbformat_minor": 4
}
