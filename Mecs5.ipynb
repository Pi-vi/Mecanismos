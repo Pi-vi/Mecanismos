{
 "cells": [
  {
   "cell_type": "markdown",
   "metadata": {
    "slideshow": {
     "slide_type": "slide"
    }
   },
   "source": [
    "# 5. Síntese Analítica de Mecanismos \n",
    "Professor Paulo Victor <br>\n",
    "e-mail: paulo.gomes@cefet-rj.br <br>\n",
    "CEFET/RJ Campus Angra dos Reis - Sala 6E\n",
    "<br>\n",
    "<br>"
   ]
  },
  {
   "cell_type": "markdown",
   "metadata": {
    "slideshow": {
     "slide_type": "subslide"
    }
   },
   "source": [
    "Com os fundamentos da análise de posição já estabelecidos, podemos agora usar essas técnicas de **síntese de mecanismos** para posições de saída especificadas **analiticamente**. <br>\n",
    "O procedimento da **síntese analítica** é mais algébrico do que gráfico e menos intuitivo. De qualquer modo, sua natureza algébrica o torna mais compatível para computadores. "
   ]
  },
  {
   "cell_type": "markdown",
   "metadata": {
    "slideshow": {
     "slide_type": "subslide"
    }
   },
   "source": [
    "O processo de síntese de mecanismos não é algo trivial, tornado-se alvo de diversos estudos até os dias atuais. Entre os estudos, destacam-se:\n",
    "- Método de Síntese de Bloch\n",
    "- Equações de Freudenstein\n",
    "- Métodos criados por Sandor e seus discípulos"
   ]
  },
  {
   "cell_type": "markdown",
   "metadata": {
    "slideshow": {
     "slide_type": "subslide"
    }
   },
   "source": [
    "![](sint02.jpg)"
   ]
  },
  {
   "cell_type": "markdown",
   "metadata": {
    "slideshow": {
     "slide_type": "subslide"
    }
   },
   "source": [
    "![](sint01.jpg)"
   ]
  },
  {
   "cell_type": "markdown",
   "metadata": {
    "slideshow": {
     "slide_type": "subslide"
    }
   },
   "source": [
    "![](sint03.jpg)"
   ]
  },
  {
   "cell_type": "markdown",
   "metadata": {
    "slideshow": {
     "slide_type": "subslide"
    }
   },
   "source": [
    "![](sint05.jpg)"
   ]
  },
  {
   "cell_type": "markdown",
   "metadata": {
    "slideshow": {
     "slide_type": "subslide"
    }
   },
   "source": [
    "![](sint04.jpg)"
   ]
  },
  {
   "cell_type": "markdown",
   "metadata": {
    "slideshow": {
     "slide_type": "slide"
    }
   },
   "source": [
    "## 5.1 Tipos de Sínteses Cinemáticas"
   ]
  },
  {
   "cell_type": "markdown",
   "metadata": {
    "slideshow": {
     "slide_type": "subslide"
    }
   },
   "source": [
    "* Geração da Função:\n",
    "    - é definida como a correlação entre uma **função de entrada** e uma **função de saída** em um mecanismo. Tipicamente, um duplo seguidor ou manivela-seguidor é o resultado. \n",
    "* Geração da Trajetória:\n",
    "    - é definida como o controle de um **ponto** no plano que percorre uma trajetória preestabelecida. Isso é normalmente obtido por um mecanismos manivela seguidor de quatro barras ou um duplo seguidor, em que um ponto no acoplador traça o percurso de saída. Não existe a intenção, na geração de trajetória, de controlar a orientação do elo que contém o ponto de interesse.\n",
    "* Geração de Movimento:\n",
    "    - é definida como o controle de uma **linha** no plano, de modo que assuma algumas posições sequenciais preestabelecidas. A orientação do elo que contém essa linha, nesse caso, é importante. Isso normalmente é obtido por uma mecanismo manivela seguidor ou um duplo seguidor, em que um ponto do acoplador traça o percurso de saída e o mecanismo também controla os ângulos do acoplador que contêm a linha de saída de interesse. "
   ]
  },
  {
   "cell_type": "markdown",
   "metadata": {
    "slideshow": {
     "slide_type": "slide"
    }
   },
   "source": [
    "## 5.2 Síntese de Duas Posições Para a Saída do Seguidor"
   ]
  },
  {
   "cell_type": "markdown",
   "metadata": {
    "slideshow": {
     "slide_type": "subslide"
    }
   },
   "source": [
    "Queremos que o mecanismo resultante seja um manivela seguidor Grashof Classe 1. Queremos também obtê-lo estipulando o pivô $O_2$ da manivela longe o bastante de $B_1$ pela linha $\\vec{L}$ <br>\n",
    "O elo 4 é, nesse caso, o elo de saída que será acionado por uma díade formada pelos elos 2 e 3, cujos comprimentos serão determinados junto com o elo terra 1 e a localização de se pivô $O_2$ <br>\n",
    "O pivô $O_4$, o ângulo inicial $\\theta_4$ e o ângulo de percurso $\\beta$ são dados. "
   ]
  },
  {
   "cell_type": "markdown",
   "metadata": {
    "slideshow": {
     "slide_type": "subslide"
    }
   },
   "source": [
    "![](fig5-0.jpg)"
   ]
  },
  {
   "cell_type": "markdown",
   "metadata": {
    "slideshow": {
     "slide_type": "subslide"
    }
   },
   "source": [
    "Primeiro escolha um local adequado no elo 4 para anexar o elo 3, aqui denominados $B_1$ e $B_2$ em suas localizações extremas. Isso define $R_4$ como o comprimento do elo 4. Esses pontos podem ser definidos no sistema de coordenadas escolhido como:\n",
    "$$B_{1_x} = O_{4_x} + R_{4} cos (\\theta_{4}) \\qquad B_{1_y} = O_{4_y} + R_{4} sen (\\theta_4) $$\n",
    "$$ B_{2_x} = O_{4_x} cos(\\theta_4 + \\beta) \\qquad B_{2_y} = O_{4_y} + R_{4} sen (\\theta_4 + \\beta) $$"
   ]
  },
  {
   "cell_type": "markdown",
   "metadata": {
    "slideshow": {
     "slide_type": "fragment"
    }
   },
   "source": [
    "Definimos $\\vec{M}$ como:\n",
    "$$\\vec{M} = \\vec{R}_{B_2} - \\vec{R}_{B_1} $$\n",
    "A equação paramétrica para a linha $\\bar{L}$ pode ser escrita como: \n",
    "$$\\mathbf{L}(u) = \\vec{R}_{B_1} + u \\vec{M} \\qquad -\\infty \\leq u \\leq \\infty $$"
   ]
  },
  {
   "cell_type": "markdown",
   "metadata": {
    "slideshow": {
     "slide_type": "fragment"
    }
   },
   "source": [
    "Sendo $|\\vec{M}| = M$: \n",
    "- $ B_1 O_2 \\leq M $ o mecanismo será Classe 2\n",
    "- $ B_1 O_2 = M $, ou $B_1 O_2 >> M$ o mecanismo será Classe 3\n",
    "- $ B_1 O_2 > M $ o mecanismo será Classe 1"
   ]
  },
  {
   "cell_type": "markdown",
   "metadata": {
    "slideshow": {
     "slide_type": "subslide"
    }
   },
   "source": [
    "Valores razoáveis para $B_1 O_2$ normalmente ficam entre duas ou três vezes o valor de M: \n",
    "$$ \\vec{R}_{O_2} = \\vec{R}_{B_1} \\pm K \\vec{M} \\qquad 2 < K < 3 $$\n",
    "O comprimento da manivela deve ser metade do comprimento do vetor $\\vec{M}$:\n",
    "$$R_2 = 0,5 |\\vec{M}| = R_4 sen( \\beta/2) $$"
   ]
  },
  {
   "cell_type": "markdown",
   "metadata": {
    "slideshow": {
     "slide_type": "fragment"
    }
   },
   "source": [
    "O elo 3 pode ser encontrado subtraindo-se $R_2$ do módulo de $\\vec{R}_{B1} = \\vec{R}_{O2}$ e o elo 1 é obtido subtraindo $\\vec{R}_{O2}$ de $\\vec{R}_{O4}$.\n",
    "$$ R_3 = |\\vec{R}_{B_1} - \\vec{R}_{O_2}| - R_{2} \\qquad R_{1} = |\\vec{R}_{O_4} - \\vec{R}_{O_2}| $$"
   ]
  },
  {
   "cell_type": "markdown",
   "metadata": {
    "slideshow": {
     "slide_type": "fragment"
    }
   },
   "source": [
    "Esse algoritmo resultará em um mecanismo manivela seguidor de Grashof que movimenta o seguidor por meio de um ângulo especificado sem retorno rápido. "
   ]
  },
  {
   "cell_type": "markdown",
   "metadata": {
    "slideshow": {
     "slide_type": "slide"
    }
   },
   "source": [
    "## 5.3 Pontos de Precisão"
   ]
  },
  {
   "cell_type": "markdown",
   "metadata": {
    "slideshow": {
     "slide_type": "subslide"
    }
   },
   "source": [
    "Os pontos, ou posições, preestabelecidos para sucessivos locais do elo de saída (acoplador ou seguidor) no plano são geralmente referidos como **pontos de precisão** ou **posições de precisão**. <br>\n",
    "O número de pontos de precisão que podem ser sintetizados é limitado pelo número de equações disponíveis por solução. <br>\n",
    "O mecanismo de quatro barras pode ser sintetizado por métodos de laços ou malhas fechadas para até cinco pontos de precisão por geração de movimento ou trajetória com tempos pré-ajustados (acoplador como saída) e até sete pontos de precisão para geração de função (seguidor como saída). <br>\n",
    "Síntese para dois ou três pontos de precisão são relativamente diretos, e cada um desses casos pode ser reduzido a um sistema de equações lineares simultâmeas. <br>\n",
    "Os problemas de síntese de quatro ou mais posições envolvem a solução de sistemas de equações simultâneas, não lineares, e por isso são mais complicados para se resolverem, e exigem um computador. <br>\n",
    "Esses procedimentos de síntese analítica fornecem soluções que levam a \"permanecer\" nos pontos de precisão especificados, porém não garantem a maneira como o mecanismo se comportará entre esses pontos. "
   ]
  },
  {
   "cell_type": "markdown",
   "metadata": {
    "slideshow": {
     "slide_type": "slide"
    }
   },
   "source": [
    "## 5.4 Geração de Movimento de Duas Posições por Síntese Analítica"
   ]
  },
  {
   "cell_type": "markdown",
   "metadata": {
    "slideshow": {
     "slide_type": "subslide"
    }
   },
   "source": [
    "A figura a seguir mostra uma mecanismo de quatro barras em uma posição com o ponto do acoplador localizado na primeira posição de precião $P_1$. A figura indica também uma segunda posição de precisão (ponto P2) a ser obtida pela rotação do seguidor de entrada, elo 2, através de um ângulo $\\beta_2$ ainda não especificado. Note também que o ângulo do acoplador 3, em cada posição de precisão, é definido pelos ângulos dos vetores de posição$\\vec{Z_1}$ e $\\vec{Z_2}$. O ângulo $\\phi$ corresponde ao ângulo $\\theta_3$ do elo 3 em sua primeira posição. Esse ângulo é desconhecido no início da síntese e será encontrado. O ângulo $\\alpha_2$ representa a variação angular do elo 3 da posição 1 para a posição 2. Esse ângulo é definido no enunciado do problema. \n",
    "![](fig5-1.jpg)"
   ]
  },
  {
   "cell_type": "markdown",
   "metadata": {
    "slideshow": {
     "slide_type": "subslide"
    }
   },
   "source": [
    "Vamos projetar um mecanismo de quatro barras que moverá uma linha em seu acoplador de tal forma que um ponto $P$ nessa linha estará inicialmente em $P_1$ e posteriormente em $P_2$ e também irá rotacionar a linha através do ângulo $\\alpha_2$, entre aquelas duas posições de precisão. Econtre os comprimentos e os ângulos dos quatro elos e as dimensões $A_1P_1$ e $B_1P_1$ do acoplador. <br> \n",
    "Definiremos duas posições de precisão desejadas no plano em relação a um sistema de coordenadas global XY escolhido, usando os vetores posição $\\vec{R_1}$ e $\\vec{R_2}$. A variação do ângulo $\\alpha_2$ do vetor $\\vec{Z}$ é a rotação requerida no acoplador. "
   ]
  },
  {
   "cell_type": "markdown",
   "metadata": {
    "slideshow": {
     "slide_type": "subslide"
    }
   },
   "source": [
    "O vetor posição $\\vec{P_{21}}$ que define o movimento de saída do ponto $P$ é definido por:\n",
    "$$\\vec{P_{21}} = \\vec{R_2} \\vec{R_1}$$"
   ]
  },
  {
   "cell_type": "markdown",
   "metadata": {
    "slideshow": {
     "slide_type": "subslide"
    }
   },
   "source": [
    "Através da observação, podemos obter as seguintes relações geométricas: \n",
    "$$\\vec{V_1} = \\vec{Z_1} - \\vec{S_1}$$\n",
    "$$\\vec{G_1} = \\vec{W_1} + \\vec{V_1} - \\vec{U_1}$$\n",
    "$$\\vec{W_2} + \\vec{Z_2} - \\vec{P_{21}} - \\vec{Z_1} - \\vec{W_1} = 0$$"
   ]
  },
  {
   "cell_type": "markdown",
   "metadata": {
    "slideshow": {
     "slide_type": "subslide"
    }
   },
   "source": [
    "Resolveremos primeiro o lado esquerdo do mecanismo (vetores $\\vec{W_1}$ e $\\vec{Z_1}$) e depois usaremos o mesmo procedimento para resolver o lado direito (vetores $\\vec{U_1}$ e $\\vec{S_1}$)."
   ]
  },
  {
   "cell_type": "code",
   "execution_count": 1,
   "metadata": {
    "slideshow": {
     "slide_type": "subslide"
    }
   },
   "outputs": [],
   "source": [
    "from sympy import *"
   ]
  },
  {
   "cell_type": "code",
   "execution_count": 2,
   "metadata": {
    "slideshow": {
     "slide_type": "fragment"
    }
   },
   "outputs": [],
   "source": [
    "w,z,p21,beta2,alfa2,delta2,phi,teta = symbols('w z p_{21} beta_2 alpha_2 delta_2 phi theta')"
   ]
  },
  {
   "cell_type": "code",
   "execution_count": 3,
   "metadata": {
    "slideshow": {
     "slide_type": "fragment"
    }
   },
   "outputs": [],
   "source": [
    "e,i = [E,I]"
   ]
  },
  {
   "cell_type": "markdown",
   "metadata": {
    "slideshow": {
     "slide_type": "fragment"
    }
   },
   "source": [
    "Vamos escrever a equação $\\vec{W_2} + \\vec{Z_2} - \\vec{P_{21}} - \\vec{Z_1} - \\vec{W_1} = 0$:"
   ]
  },
  {
   "cell_type": "code",
   "execution_count": 4,
   "metadata": {
    "slideshow": {
     "slide_type": "fragment"
    }
   },
   "outputs": [
    {
     "data": {
      "text/latex": [
       "$\\displaystyle - p_{21} e^{i \\delta_{2}} - w e^{i \\theta} + w e^{i \\left(\\beta_{2} + \\theta\\right)} - z e^{i \\phi} + z e^{i \\left(\\alpha_{2} + \\phi\\right)}$"
      ],
      "text/plain": [
       "-p_{21}*exp(I*delta_2) - w*exp(I*theta) + w*exp(I*(beta_2 + theta)) - z*exp(I*phi) + z*exp(I*(alpha_2 + phi))"
      ]
     },
     "execution_count": 4,
     "metadata": {},
     "output_type": "execute_result"
    }
   ],
   "source": [
    "Eq1 = w*e**(i*(teta + beta2)) + z*e**(i*(phi + alfa2)) - p21*e**(i*delta2) - z*e**(i*phi) - w*e**(i*teta)\n",
    "Eq1"
   ]
  },
  {
   "cell_type": "code",
   "execution_count": 5,
   "metadata": {
    "slideshow": {
     "slide_type": "fragment"
    }
   },
   "outputs": [
    {
     "data": {
      "text/latex": [
       "$\\displaystyle - p_{21} e^{i \\delta_{2}} - w e^{i \\theta} + w e^{i \\left(\\beta_{2} + \\theta\\right)} - z e^{i \\phi} + z e^{i \\left(\\alpha_{2} + \\phi\\right)} = 0$"
      ],
      "text/plain": [
       "Eq(-p_{21}*exp(I*delta_2) - w*exp(I*theta) + w*exp(I*(beta_2 + theta)) - z*exp(I*phi) + z*exp(I*(alpha_2 + phi)), 0)"
      ]
     },
     "execution_count": 5,
     "metadata": {},
     "output_type": "execute_result"
    }
   ],
   "source": [
    "Eq(Eq1,0)"
   ]
  },
  {
   "cell_type": "markdown",
   "metadata": {
    "slideshow": {
     "slide_type": "fragment"
    }
   },
   "source": [
    "Usaremos a fórmula de Euler:\n",
    "$$e^{i\\theta} = \\cos{\\theta} + i\\sin{\\theta}$$"
   ]
  },
  {
   "cell_type": "code",
   "execution_count": 6,
   "metadata": {
    "slideshow": {
     "slide_type": "fragment"
    }
   },
   "outputs": [],
   "source": [
    "euler_id = {e**(i*(teta + beta2)):cos(teta + beta2) + i*sin(teta + beta2),\n",
    "            e**(i*(phi + alfa2)):cos(phi + alfa2) + i*sin(phi + alfa2),\n",
    "            e**(i*delta2):cos(delta2) + i*sin(delta2),\n",
    "            e**(i*phi):cos(phi) + i*sin(phi),\n",
    "            e**(i*teta):cos(teta) + i*sin(teta)\n",
    "           }"
   ]
  },
  {
   "cell_type": "code",
   "execution_count": 7,
   "metadata": {
    "slideshow": {
     "slide_type": "fragment"
    }
   },
   "outputs": [
    {
     "data": {
      "text/latex": [
       "$\\displaystyle - p_{21} \\left(i \\sin{\\left(\\delta_{2} \\right)} + \\cos{\\left(\\delta_{2} \\right)}\\right) - w \\left(i \\sin{\\left(\\theta \\right)} + \\cos{\\left(\\theta \\right)}\\right) + w \\left(i \\sin{\\left(\\beta_{2} + \\theta \\right)} + \\cos{\\left(\\beta_{2} + \\theta \\right)}\\right) - z \\left(i \\sin{\\left(\\phi \\right)} + \\cos{\\left(\\phi \\right)}\\right) + z \\left(i \\sin{\\left(\\alpha_{2} + \\phi \\right)} + \\cos{\\left(\\alpha_{2} + \\phi \\right)}\\right)$"
      ],
      "text/plain": [
       "-p_{21}*(I*sin(delta_2) + cos(delta_2)) - w*(I*sin(theta) + cos(theta)) + w*(I*sin(beta_2 + theta) + cos(beta_2 + theta)) - z*(I*sin(phi) + cos(phi)) + z*(I*sin(alpha_2 + phi) + cos(alpha_2 + phi))"
      ]
     },
     "execution_count": 7,
     "metadata": {},
     "output_type": "execute_result"
    }
   ],
   "source": [
    "Eq2 = Eq1.subs(euler_id)\n",
    "Eq2"
   ]
  },
  {
   "cell_type": "code",
   "execution_count": 8,
   "metadata": {
    "slideshow": {
     "slide_type": "fragment"
    }
   },
   "outputs": [
    {
     "data": {
      "text/latex": [
       "$\\displaystyle - i p_{21} \\sin{\\left(\\delta_{2} \\right)} - p_{21} \\cos{\\left(\\delta_{2} \\right)} - i w \\sin{\\left(\\theta \\right)} + i w \\sin{\\left(\\beta_{2} + \\theta \\right)} - w \\cos{\\left(\\theta \\right)} + w \\cos{\\left(\\beta_{2} + \\theta \\right)} - i z \\sin{\\left(\\phi \\right)} + i z \\sin{\\left(\\alpha_{2} + \\phi \\right)} - z \\cos{\\left(\\phi \\right)} + z \\cos{\\left(\\alpha_{2} + \\phi \\right)}$"
      ],
      "text/plain": [
       "-I*p_{21}*sin(delta_2) - p_{21}*cos(delta_2) - I*w*sin(theta) + I*w*sin(beta_2 + theta) - w*cos(theta) + w*cos(beta_2 + theta) - I*z*sin(phi) + I*z*sin(alpha_2 + phi) - z*cos(phi) + z*cos(alpha_2 + phi)"
      ]
     },
     "execution_count": 8,
     "metadata": {},
     "output_type": "execute_result"
    }
   ],
   "source": [
    "Eq2 = Eq2.expand()\n",
    "Eq2"
   ]
  },
  {
   "cell_type": "markdown",
   "metadata": {
    "slideshow": {
     "slide_type": "fragment"
    }
   },
   "source": [
    "Separaremos a parte real da imaginária:"
   ]
  },
  {
   "cell_type": "code",
   "execution_count": 9,
   "metadata": {
    "slideshow": {
     "slide_type": "fragment"
    }
   },
   "outputs": [
    {
     "data": {
      "text/latex": [
       "$\\displaystyle - p_{21} \\cos{\\left(\\delta_{2} \\right)} - w \\cos{\\left(\\theta \\right)} + w \\cos{\\left(\\beta_{2} + \\theta \\right)} - z \\cos{\\left(\\phi \\right)} + z \\cos{\\left(\\alpha_{2} + \\phi \\right)}$"
      ],
      "text/plain": [
       "-p_{21}*cos(delta_2) - w*cos(theta) + w*cos(beta_2 + theta) - z*cos(phi) + z*cos(alpha_2 + phi)"
      ]
     },
     "execution_count": 9,
     "metadata": {},
     "output_type": "execute_result"
    }
   ],
   "source": [
    "Eq2_real = Eq2.subs(i,0)\n",
    "Eq2_real"
   ]
  },
  {
   "cell_type": "code",
   "execution_count": 10,
   "metadata": {
    "slideshow": {
     "slide_type": "fragment"
    }
   },
   "outputs": [
    {
     "data": {
      "text/latex": [
       "$\\displaystyle - i p_{21} \\sin{\\left(\\delta_{2} \\right)} - i w \\sin{\\left(\\theta \\right)} + i w \\sin{\\left(\\beta_{2} + \\theta \\right)} - i z \\sin{\\left(\\phi \\right)} + i z \\sin{\\left(\\alpha_{2} + \\phi \\right)}$"
      ],
      "text/plain": [
       "-I*p_{21}*sin(delta_2) - I*w*sin(theta) + I*w*sin(beta_2 + theta) - I*z*sin(phi) + I*z*sin(alpha_2 + phi)"
      ]
     },
     "execution_count": 10,
     "metadata": {},
     "output_type": "execute_result"
    }
   ],
   "source": [
    "Eq2_im = Eq2 - Eq2_real\n",
    "Eq2_im"
   ]
  },
  {
   "cell_type": "code",
   "execution_count": 11,
   "metadata": {
    "slideshow": {
     "slide_type": "fragment"
    }
   },
   "outputs": [
    {
     "data": {
      "text/latex": [
       "$\\displaystyle - p_{21} \\sin{\\left(\\delta_{2} \\right)} - w \\sin{\\left(\\theta \\right)} + w \\sin{\\left(\\beta_{2} + \\theta \\right)} - z \\sin{\\left(\\phi \\right)} + z \\sin{\\left(\\alpha_{2} + \\phi \\right)}$"
      ],
      "text/plain": [
       "-p_{21}*sin(delta_2) - w*sin(theta) + w*sin(beta_2 + theta) - z*sin(phi) + z*sin(alpha_2 + phi)"
      ]
     },
     "execution_count": 11,
     "metadata": {},
     "output_type": "execute_result"
    }
   ],
   "source": [
    "Eq2_im = Eq2_im.subs(i,1)\n",
    "Eq2_im"
   ]
  },
  {
   "cell_type": "markdown",
   "metadata": {
    "slideshow": {
     "slide_type": "subslide"
    }
   },
   "source": [
    "Existem oito variáveis nessas duas equações: $w$, $\\theta$, $\\beta_2$, $z$, $\\phi$, $\\alpha_2$, $p_{21}$ e $\\delta_2$. Podemos resolver apenas duas. Três das oito estão definidas no enunciado do problema, ou seja, $\\alpha_2$, $p_{21}$ e $\\delta_2$. Das cinco restantes $w$, $\\theta$, $z$, $\\phi$, seremos forçados a escolher três como \"escolhas arbitrárias ou livres\" para resolver as outras duas. <br>\n",
    "Uma estratégia é assumir valores para os três ângulos $\\theta$, $\\beta_2$ e $\\phi$, como premissa que desejamos especificar a orientação $\\theta$, $\\phi$ dos vetores $\\vec{W_1}$ e $\\vec{Z_1}$ dos dois elos para atender restrições de projeto e também especificar a variação angular $\\beta_2$ do elo 2 para adequar alguma restrição de acionamento. Essa escolha também tem a vantagem de conduzir o conjunto de equações a um **sistema linear**. \n",
    "Temos, então, como incógnitas $w$ e $z$."
   ]
  },
  {
   "cell_type": "code",
   "execution_count": 12,
   "metadata": {
    "slideshow": {
     "slide_type": "fragment"
    }
   },
   "outputs": [
    {
     "data": {
      "text/plain": [
       "{w: p_{21}*(sin(delta_2 - phi) + sin(alpha_2 - delta_2 + phi))/(sin(phi - theta) - sin(alpha_2 + phi - theta) + sin(beta_2 - phi + theta) + sin(alpha_2 - beta_2 + phi - theta)),\n",
       " z: -p_{21}*(sin(delta_2 - theta) + sin(beta_2 - delta_2 + theta))/(sin(phi - theta) - sin(alpha_2 + phi - theta) + sin(beta_2 - phi + theta) + sin(alpha_2 - beta_2 + phi - theta))}"
      ]
     },
     "execution_count": 12,
     "metadata": {},
     "output_type": "execute_result"
    }
   ],
   "source": [
    "sol = solve([Eq2_real,Eq2_im],w,z)\n",
    "sol"
   ]
  },
  {
   "cell_type": "code",
   "execution_count": 13,
   "metadata": {
    "slideshow": {
     "slide_type": "fragment"
    }
   },
   "outputs": [
    {
     "data": {
      "text/latex": [
       "$\\displaystyle \\frac{p_{21} \\left(\\sin{\\left(\\delta_{2} - \\phi \\right)} + \\sin{\\left(\\alpha_{2} - \\delta_{2} + \\phi \\right)}\\right)}{\\sin{\\left(\\phi - \\theta \\right)} - \\sin{\\left(\\alpha_{2} + \\phi - \\theta \\right)} + \\sin{\\left(\\beta_{2} - \\phi + \\theta \\right)} + \\sin{\\left(\\alpha_{2} - \\beta_{2} + \\phi - \\theta \\right)}}$"
      ],
      "text/plain": [
       "p_{21}*(sin(delta_2 - phi) + sin(alpha_2 - delta_2 + phi))/(sin(phi - theta) - sin(alpha_2 + phi - theta) + sin(beta_2 - phi + theta) + sin(alpha_2 - beta_2 + phi - theta))"
      ]
     },
     "execution_count": 13,
     "metadata": {},
     "output_type": "execute_result"
    }
   ],
   "source": [
    "w_sol = sol[w]\n",
    "w_sol"
   ]
  },
  {
   "cell_type": "code",
   "execution_count": 14,
   "metadata": {
    "slideshow": {
     "slide_type": "fragment"
    }
   },
   "outputs": [
    {
     "data": {
      "text/latex": [
       "$\\displaystyle - \\frac{p_{21} \\left(\\sin{\\left(\\delta_{2} - \\theta \\right)} + \\sin{\\left(\\beta_{2} - \\delta_{2} + \\theta \\right)}\\right)}{\\sin{\\left(\\phi - \\theta \\right)} - \\sin{\\left(\\alpha_{2} + \\phi - \\theta \\right)} + \\sin{\\left(\\beta_{2} - \\phi + \\theta \\right)} + \\sin{\\left(\\alpha_{2} - \\beta_{2} + \\phi - \\theta \\right)}}$"
      ],
      "text/plain": [
       "-p_{21}*(sin(delta_2 - theta) + sin(beta_2 - delta_2 + theta))/(sin(phi - theta) - sin(alpha_2 + phi - theta) + sin(beta_2 - phi + theta) + sin(alpha_2 - beta_2 + phi - theta))"
      ]
     },
     "execution_count": 14,
     "metadata": {},
     "output_type": "execute_result"
    }
   ],
   "source": [
    "z_sol = sol[z]\n",
    "z_sol"
   ]
  },
  {
   "cell_type": "markdown",
   "metadata": {
    "slideshow": {
     "slide_type": "subslide"
    }
   },
   "source": [
    "**Observação:** <br>\n",
    "Maneira mais tradicional de se resolver um sistema de equações:\n",
    "$$\\ 2x + 3y = 5 \\\\ 3x - 8y = -12 $$\n",
    "$$\\left[\\begin{matrix}2 & 3\\\\3 & -8\\end{matrix}\\right] \\left[\\begin{matrix} x \\\\ y \\end{matrix} \\right] = \\left[\\begin{matrix}5\\\\-12\\end{matrix}\\right]$$\n",
    "De modo geral, podemos escrever essa equação matricial como:\n",
    "$$\\mathbf{A} \\mathbf{x} = \\mathbf{B}$$\n",
    "Onde:\n",
    "$$\\mathbf{A} = \\left[\\begin{matrix}2 & 3\\\\3 & -8\\end{matrix}\\right]$$\n",
    "$$\\mathbf{x} =  \\left[\\begin{matrix} x \\\\ y \\end{matrix} \\right] $$\n",
    "$$\\mathbf{B} = \\left[\\begin{matrix}5\\\\-12\\end{matrix}\\right] $$\n",
    "O sistema é resolvido da seguinte maneira:\n",
    "$$\\mathbf{x} = \\mathbf{A}^{-1} \\mathbf{B}$$"
   ]
  },
  {
   "cell_type": "code",
   "execution_count": 15,
   "metadata": {
    "slideshow": {
     "slide_type": "fragment"
    }
   },
   "outputs": [],
   "source": [
    "x,y = symbols('x y')\n",
    "eq_obs_1 = 2*x + 3*y - 5\n",
    "eq_obs_2 = 3*x - 8*y + 12\n",
    "A,B = linear_eq_to_matrix([eq_obs_1,eq_obs_2],x,y)"
   ]
  },
  {
   "cell_type": "code",
   "execution_count": 16,
   "metadata": {
    "slideshow": {
     "slide_type": "fragment"
    }
   },
   "outputs": [
    {
     "data": {
      "text/latex": [
       "$\\displaystyle \\left[\\begin{matrix}2 & 3\\\\3 & -8\\end{matrix}\\right]$"
      ],
      "text/plain": [
       "Matrix([\n",
       "[2,  3],\n",
       "[3, -8]])"
      ]
     },
     "execution_count": 16,
     "metadata": {},
     "output_type": "execute_result"
    }
   ],
   "source": [
    "A"
   ]
  },
  {
   "cell_type": "code",
   "execution_count": 17,
   "metadata": {
    "slideshow": {
     "slide_type": "fragment"
    }
   },
   "outputs": [
    {
     "data": {
      "text/latex": [
       "$\\displaystyle \\left[\\begin{matrix}5\\\\-12\\end{matrix}\\right]$"
      ],
      "text/plain": [
       "Matrix([\n",
       "[  5],\n",
       "[-12]])"
      ]
     },
     "execution_count": 17,
     "metadata": {},
     "output_type": "execute_result"
    }
   ],
   "source": [
    "B"
   ]
  },
  {
   "cell_type": "code",
   "execution_count": 18,
   "metadata": {
    "slideshow": {
     "slide_type": "fragment"
    }
   },
   "outputs": [
    {
     "data": {
      "text/latex": [
       "$\\displaystyle \\left[\\begin{matrix}\\frac{4}{25}\\\\\\frac{39}{25}\\end{matrix}\\right]$"
      ],
      "text/plain": [
       "Matrix([\n",
       "[ 4/25],\n",
       "[39/25]])"
      ]
     },
     "execution_count": 18,
     "metadata": {},
     "output_type": "execute_result"
    }
   ],
   "source": [
    "A.inv()*B"
   ]
  },
  {
   "cell_type": "markdown",
   "metadata": {
    "slideshow": {
     "slide_type": "subslide"
    }
   },
   "source": [
    "Voltando ao nosso mecanismo:"
   ]
  },
  {
   "cell_type": "code",
   "execution_count": 19,
   "metadata": {
    "scrolled": true,
    "slideshow": {
     "slide_type": "fragment"
    }
   },
   "outputs": [],
   "source": [
    "A,B = linear_eq_to_matrix([Eq2_real,Eq2_im],w,z)"
   ]
  },
  {
   "cell_type": "code",
   "execution_count": 20,
   "metadata": {
    "slideshow": {
     "slide_type": "fragment"
    }
   },
   "outputs": [
    {
     "data": {
      "text/latex": [
       "$\\displaystyle \\left[\\begin{matrix}- \\cos{\\left(\\theta \\right)} + \\cos{\\left(\\beta_{2} + \\theta \\right)} & - \\cos{\\left(\\phi \\right)} + \\cos{\\left(\\alpha_{2} + \\phi \\right)}\\\\- \\sin{\\left(\\theta \\right)} + \\sin{\\left(\\beta_{2} + \\theta \\right)} & - \\sin{\\left(\\phi \\right)} + \\sin{\\left(\\alpha_{2} + \\phi \\right)}\\end{matrix}\\right]$"
      ],
      "text/plain": [
       "Matrix([\n",
       "[-cos(theta) + cos(beta_2 + theta), -cos(phi) + cos(alpha_2 + phi)],\n",
       "[-sin(theta) + sin(beta_2 + theta), -sin(phi) + sin(alpha_2 + phi)]])"
      ]
     },
     "execution_count": 20,
     "metadata": {},
     "output_type": "execute_result"
    }
   ],
   "source": [
    "A"
   ]
  },
  {
   "cell_type": "code",
   "execution_count": 21,
   "metadata": {
    "slideshow": {
     "slide_type": "fragment"
    }
   },
   "outputs": [
    {
     "data": {
      "text/latex": [
       "$\\displaystyle \\left[\\begin{matrix}p_{21} \\cos{\\left(\\delta_{2} \\right)}\\\\p_{21} \\sin{\\left(\\delta_{2} \\right)}\\end{matrix}\\right]$"
      ],
      "text/plain": [
       "Matrix([\n",
       "[p_{21}*cos(delta_2)],\n",
       "[p_{21}*sin(delta_2)]])"
      ]
     },
     "execution_count": 21,
     "metadata": {},
     "output_type": "execute_result"
    }
   ],
   "source": [
    "B"
   ]
  },
  {
   "cell_type": "code",
   "execution_count": 22,
   "metadata": {
    "slideshow": {
     "slide_type": "fragment"
    }
   },
   "outputs": [],
   "source": [
    "[w_sol2,z_sol2] = A.inv()*B"
   ]
  },
  {
   "cell_type": "code",
   "execution_count": 23,
   "metadata": {
    "slideshow": {
     "slide_type": "fragment"
    }
   },
   "outputs": [
    {
     "data": {
      "text/latex": [
       "$\\displaystyle - \\frac{p_{21} \\left(\\sin{\\left(\\delta_{2} - \\phi \\right)} + \\sin{\\left(\\alpha_{2} - \\delta_{2} + \\phi \\right)}\\right)}{- \\sin{\\left(\\phi - \\theta \\right)} + \\sin{\\left(\\alpha_{2} + \\phi - \\theta \\right)} - \\sin{\\left(\\beta_{2} - \\phi + \\theta \\right)} - \\sin{\\left(\\alpha_{2} - \\beta_{2} + \\phi - \\theta \\right)}}$"
      ],
      "text/plain": [
       "-p_{21}*(sin(delta_2 - phi) + sin(alpha_2 - delta_2 + phi))/(-sin(phi - theta) + sin(alpha_2 + phi - theta) - sin(beta_2 - phi + theta) - sin(alpha_2 - beta_2 + phi - theta))"
      ]
     },
     "execution_count": 23,
     "metadata": {},
     "output_type": "execute_result"
    }
   ],
   "source": [
    "w_sol2.trigsimp()"
   ]
  },
  {
   "cell_type": "code",
   "execution_count": 24,
   "metadata": {
    "slideshow": {
     "slide_type": "subslide"
    }
   },
   "outputs": [
    {
     "data": {
      "text/latex": [
       "$\\displaystyle \\frac{p_{21} \\left(\\sin{\\left(\\delta_{2} - \\theta \\right)} + \\sin{\\left(\\beta_{2} - \\delta_{2} + \\theta \\right)}\\right)}{- \\sin{\\left(\\phi - \\theta \\right)} + \\sin{\\left(\\alpha_{2} + \\phi - \\theta \\right)} - \\sin{\\left(\\beta_{2} - \\phi + \\theta \\right)} - \\sin{\\left(\\alpha_{2} - \\beta_{2} + \\phi - \\theta \\right)}}$"
      ],
      "text/plain": [
       "p_{21}*(sin(delta_2 - theta) + sin(beta_2 - delta_2 + theta))/(-sin(phi - theta) + sin(alpha_2 + phi - theta) - sin(beta_2 - phi + theta) - sin(alpha_2 - beta_2 + phi - theta))"
      ]
     },
     "execution_count": 24,
     "metadata": {},
     "output_type": "execute_result"
    }
   ],
   "source": [
    "z_sol2.trigsimp()"
   ]
  },
  {
   "cell_type": "markdown",
   "metadata": {
    "slideshow": {
     "slide_type": "subslide"
    }
   },
   "source": [
    "Uma segunda estratégia é assumir o comprimento e o ângulo $\\phi$ do vetor $\\vec{Z_1}$ e a variação angular $\\beta_2$ do elo 2 e assim resolver o vetor $\\vec{W_1}$. Essa é a abordagem mais utilizada. "
   ]
  },
  {
   "cell_type": "code",
   "execution_count": 25,
   "metadata": {
    "slideshow": {
     "slide_type": "fragment"
    }
   },
   "outputs": [],
   "source": [
    "W1x,W1y,Z1x,Z1y = symbols('W_{1_x} W_{1_y} Z_{1_x} Z_{1_y}')"
   ]
  },
  {
   "cell_type": "code",
   "execution_count": 26,
   "metadata": {
    "slideshow": {
     "slide_type": "fragment"
    }
   },
   "outputs": [
    {
     "data": {
      "text/latex": [
       "$\\displaystyle - p_{21} \\cos{\\left(\\delta_{2} \\right)} - w \\cos{\\left(\\theta \\right)} + w \\cos{\\left(\\beta_{2} + \\theta \\right)} - z \\cos{\\left(\\phi \\right)} + z \\cos{\\left(\\alpha_{2} + \\phi \\right)}$"
      ],
      "text/plain": [
       "-p_{21}*cos(delta_2) - w*cos(theta) + w*cos(beta_2 + theta) - z*cos(phi) + z*cos(alpha_2 + phi)"
      ]
     },
     "execution_count": 26,
     "metadata": {},
     "output_type": "execute_result"
    }
   ],
   "source": [
    "Eq2_real"
   ]
  },
  {
   "cell_type": "code",
   "execution_count": 27,
   "metadata": {
    "slideshow": {
     "slide_type": "fragment"
    }
   },
   "outputs": [
    {
     "data": {
      "text/latex": [
       "$\\displaystyle - p_{21} \\sin{\\left(\\delta_{2} \\right)} - w \\sin{\\left(\\theta \\right)} + w \\sin{\\left(\\beta_{2} + \\theta \\right)} - z \\sin{\\left(\\phi \\right)} + z \\sin{\\left(\\alpha_{2} + \\phi \\right)}$"
      ],
      "text/plain": [
       "-p_{21}*sin(delta_2) - w*sin(theta) + w*sin(beta_2 + theta) - z*sin(phi) + z*sin(alpha_2 + phi)"
      ]
     },
     "execution_count": 27,
     "metadata": {},
     "output_type": "execute_result"
    }
   ],
   "source": [
    "Eq2_im"
   ]
  },
  {
   "cell_type": "code",
   "execution_count": 28,
   "metadata": {
    "slideshow": {
     "slide_type": "fragment"
    }
   },
   "outputs": [],
   "source": [
    "dicWZ = {w*cos(teta):W1x,\n",
    "         w*sin(teta):W1y,\n",
    "         z*cos(phi):Z1x,\n",
    "         z*sin(phi):Z1y}"
   ]
  },
  {
   "cell_type": "code",
   "execution_count": 29,
   "metadata": {
    "scrolled": true,
    "slideshow": {
     "slide_type": "fragment"
    }
   },
   "outputs": [
    {
     "data": {
      "text/latex": [
       "$\\displaystyle - W_{1_x} - Z_{1_x} - p_{21} \\cos{\\left(\\delta_{2} \\right)} + w \\cos{\\left(\\beta_{2} + \\theta \\right)} + z \\cos{\\left(\\alpha_{2} + \\phi \\right)}$"
      ],
      "text/plain": [
       "-W_{1_x} - Z_{1_x} - p_{21}*cos(delta_2) + w*cos(beta_2 + theta) + z*cos(alpha_2 + phi)"
      ]
     },
     "execution_count": 29,
     "metadata": {},
     "output_type": "execute_result"
    }
   ],
   "source": [
    "Eq3 = Eq2_real.subs(dicWZ)\n",
    "Eq3"
   ]
  },
  {
   "cell_type": "markdown",
   "metadata": {
    "slideshow": {
     "slide_type": "fragment"
    }
   },
   "source": [
    "Observamos que o $w$ ainda está na equação. Precisaremos fazer uma expansão trigonométrica antes de fazer a substituição..."
   ]
  },
  {
   "cell_type": "code",
   "execution_count": 30,
   "metadata": {
    "slideshow": {
     "slide_type": "fragment"
    }
   },
   "outputs": [
    {
     "data": {
      "text/latex": [
       "$\\displaystyle - p_{21} \\cos{\\left(\\delta_{2} \\right)} + w \\left(- \\sin{\\left(\\beta_{2} \\right)} \\sin{\\left(\\theta \\right)} + \\cos{\\left(\\beta_{2} \\right)} \\cos{\\left(\\theta \\right)}\\right) - w \\cos{\\left(\\theta \\right)} + z \\left(- \\sin{\\left(\\alpha_{2} \\right)} \\sin{\\left(\\phi \\right)} + \\cos{\\left(\\alpha_{2} \\right)} \\cos{\\left(\\phi \\right)}\\right) - z \\cos{\\left(\\phi \\right)}$"
      ],
      "text/plain": [
       "-p_{21}*cos(delta_2) + w*(-sin(beta_2)*sin(theta) + cos(beta_2)*cos(theta)) - w*cos(theta) + z*(-sin(alpha_2)*sin(phi) + cos(alpha_2)*cos(phi)) - z*cos(phi)"
      ]
     },
     "execution_count": 30,
     "metadata": {},
     "output_type": "execute_result"
    }
   ],
   "source": [
    "Eq3 = expand_trig(Eq2_real)\n",
    "Eq3"
   ]
  },
  {
   "cell_type": "markdown",
   "metadata": {
    "slideshow": {
     "slide_type": "fragment"
    }
   },
   "source": [
    "Em seguida, precisaremos realizar uma expansão algébrica:"
   ]
  },
  {
   "cell_type": "code",
   "execution_count": 31,
   "metadata": {
    "slideshow": {
     "slide_type": "fragment"
    }
   },
   "outputs": [
    {
     "data": {
      "text/latex": [
       "$\\displaystyle - p_{21} \\cos{\\left(\\delta_{2} \\right)} - w \\sin{\\left(\\beta_{2} \\right)} \\sin{\\left(\\theta \\right)} + w \\cos{\\left(\\beta_{2} \\right)} \\cos{\\left(\\theta \\right)} - w \\cos{\\left(\\theta \\right)} - z \\sin{\\left(\\alpha_{2} \\right)} \\sin{\\left(\\phi \\right)} + z \\cos{\\left(\\alpha_{2} \\right)} \\cos{\\left(\\phi \\right)} - z \\cos{\\left(\\phi \\right)}$"
      ],
      "text/plain": [
       "-p_{21}*cos(delta_2) - w*sin(beta_2)*sin(theta) + w*cos(beta_2)*cos(theta) - w*cos(theta) - z*sin(alpha_2)*sin(phi) + z*cos(alpha_2)*cos(phi) - z*cos(phi)"
      ]
     },
     "execution_count": 31,
     "metadata": {},
     "output_type": "execute_result"
    }
   ],
   "source": [
    "Eq3 = expand(Eq3)\n",
    "Eq3"
   ]
  },
  {
   "cell_type": "code",
   "execution_count": 32,
   "metadata": {
    "slideshow": {
     "slide_type": "fragment"
    }
   },
   "outputs": [
    {
     "data": {
      "text/latex": [
       "$\\displaystyle W_{1_x} \\cos{\\left(\\beta_{2} \\right)} - W_{1_x} - W_{1_y} \\sin{\\left(\\beta_{2} \\right)} + Z_{1_x} \\cos{\\left(\\alpha_{2} \\right)} - Z_{1_x} - Z_{1_y} \\sin{\\left(\\alpha_{2} \\right)} - p_{21} \\cos{\\left(\\delta_{2} \\right)}$"
      ],
      "text/plain": [
       "W_{1_x}*cos(beta_2) - W_{1_x} - W_{1_y}*sin(beta_2) + Z_{1_x}*cos(alpha_2) - Z_{1_x} - Z_{1_y}*sin(alpha_2) - p_{21}*cos(delta_2)"
      ]
     },
     "execution_count": 32,
     "metadata": {},
     "output_type": "execute_result"
    }
   ],
   "source": [
    "Eq3 = Eq3.subs(dicWZ)\n",
    "Eq3"
   ]
  },
  {
   "cell_type": "code",
   "execution_count": 33,
   "metadata": {
    "scrolled": true,
    "slideshow": {
     "slide_type": "fragment"
    }
   },
   "outputs": [
    {
     "data": {
      "text/latex": [
       "$\\displaystyle W_{1_x} \\sin{\\left(\\beta_{2} \\right)} + W_{1_y} \\cos{\\left(\\beta_{2} \\right)} - W_{1_y} + Z_{1_x} \\sin{\\left(\\alpha_{2} \\right)} + Z_{1_y} \\cos{\\left(\\alpha_{2} \\right)} - Z_{1_y} - p_{21} \\sin{\\left(\\delta_{2} \\right)}$"
      ],
      "text/plain": [
       "W_{1_x}*sin(beta_2) + W_{1_y}*cos(beta_2) - W_{1_y} + Z_{1_x}*sin(alpha_2) + Z_{1_y}*cos(alpha_2) - Z_{1_y} - p_{21}*sin(delta_2)"
      ]
     },
     "execution_count": 33,
     "metadata": {},
     "output_type": "execute_result"
    }
   ],
   "source": [
    "Eq4 = expand(expand_trig(Eq2_im)).subs(dicWZ)\n",
    "Eq4"
   ]
  },
  {
   "cell_type": "code",
   "execution_count": 34,
   "metadata": {
    "slideshow": {
     "slide_type": "fragment"
    }
   },
   "outputs": [],
   "source": [
    "sol1b = solve([Eq3,Eq4],W1x,W1y)"
   ]
  },
  {
   "cell_type": "code",
   "execution_count": 35,
   "metadata": {
    "slideshow": {
     "slide_type": "fragment"
    }
   },
   "outputs": [
    {
     "data": {
      "text/latex": [
       "$\\displaystyle \\frac{\\left(\\cos{\\left(\\beta_{2} \\right)} - 1\\right) \\left(- Z_{1_x} \\cos{\\left(\\alpha_{2} \\right)} + Z_{1_x} + Z_{1_y} \\sin{\\left(\\alpha_{2} \\right)} + p_{21} \\cos{\\left(\\delta_{2} \\right)}\\right) - \\left(Z_{1_x} \\sin{\\left(\\alpha_{2} \\right)} + Z_{1_y} \\cos{\\left(\\alpha_{2} \\right)} - Z_{1_y} - p_{21} \\sin{\\left(\\delta_{2} \\right)}\\right) \\sin{\\left(\\beta_{2} \\right)}}{2 - 2 \\cos{\\left(\\beta_{2} \\right)}}$"
      ],
      "text/plain": [
       "((cos(beta_2) - 1)*(-Z_{1_x}*cos(alpha_2) + Z_{1_x} + Z_{1_y}*sin(alpha_2) + p_{21}*cos(delta_2)) - (Z_{1_x}*sin(alpha_2) + Z_{1_y}*cos(alpha_2) - Z_{1_y} - p_{21}*sin(delta_2))*sin(beta_2))/(2 - 2*cos(beta_2))"
      ]
     },
     "execution_count": 35,
     "metadata": {},
     "output_type": "execute_result"
    }
   ],
   "source": [
    "sol1b[W1x]"
   ]
  },
  {
   "cell_type": "code",
   "execution_count": 36,
   "metadata": {
    "slideshow": {
     "slide_type": "fragment"
    }
   },
   "outputs": [
    {
     "data": {
      "text/latex": [
       "$\\displaystyle \\frac{- \\left(\\cos{\\left(\\beta_{2} \\right)} - 1\\right) \\left(Z_{1_x} \\sin{\\left(\\alpha_{2} \\right)} + Z_{1_y} \\cos{\\left(\\alpha_{2} \\right)} - Z_{1_y} - p_{21} \\sin{\\left(\\delta_{2} \\right)}\\right) - \\left(- Z_{1_x} \\cos{\\left(\\alpha_{2} \\right)} + Z_{1_x} + Z_{1_y} \\sin{\\left(\\alpha_{2} \\right)} + p_{21} \\cos{\\left(\\delta_{2} \\right)}\\right) \\sin{\\left(\\beta_{2} \\right)}}{2 - 2 \\cos{\\left(\\beta_{2} \\right)}}$"
      ],
      "text/plain": [
       "(-(cos(beta_2) - 1)*(Z_{1_x}*sin(alpha_2) + Z_{1_y}*cos(alpha_2) - Z_{1_y} - p_{21}*sin(delta_2)) - (-Z_{1_x}*cos(alpha_2) + Z_{1_x} + Z_{1_y}*sin(alpha_2) + p_{21}*cos(delta_2))*sin(beta_2))/(2 - 2*cos(beta_2))"
      ]
     },
     "execution_count": 36,
     "metadata": {},
     "output_type": "execute_result"
    }
   ],
   "source": [
    "sol1b[W1y]"
   ]
  },
  {
   "cell_type": "markdown",
   "metadata": {
    "slideshow": {
     "slide_type": "subslide"
    }
   },
   "source": [
    "Devemor repetir os mesmos procedimentos para o lado direito do mecanismo:\n",
    "![](fig5-2.jpg)\n",
    "$$\\vec{U_2} + \\vec{S_2} - \\vec{P_{21}} - \\vec{S_1} - \\vec{U_1} = 0$$"
   ]
  },
  {
   "cell_type": "code",
   "execution_count": 37,
   "metadata": {
    "slideshow": {
     "slide_type": "fragment"
    }
   },
   "outputs": [],
   "source": [
    "u,sigma,gama2,s,psi = symbols('u sigma gamma_2 s psi')"
   ]
  },
  {
   "cell_type": "code",
   "execution_count": 38,
   "metadata": {
    "slideshow": {
     "slide_type": "fragment"
    }
   },
   "outputs": [
    {
     "data": {
      "text/latex": [
       "$\\displaystyle - p_{21} e^{i \\delta_{2}} - s e^{i \\psi} + s e^{i \\left(\\alpha_{2} + \\psi\\right)} - u e^{i \\sigma} + u e^{i \\left(\\gamma_{2} + \\sigma\\right)}$"
      ],
      "text/plain": [
       "-p_{21}*exp(I*delta_2) - s*exp(I*psi) + s*exp(I*(alpha_2 + psi)) - u*exp(I*sigma) + u*exp(I*(gamma_2 + sigma))"
      ]
     },
     "execution_count": 38,
     "metadata": {},
     "output_type": "execute_result"
    }
   ],
   "source": [
    "Eq5 = u*e**(i*(sigma+gama2)) + s*e**(i*(psi+alfa2)) - p21*e**(i*delta2) - s*e**(i*psi) - u*e**(i*sigma)\n",
    "Eq5"
   ]
  },
  {
   "cell_type": "code",
   "execution_count": 39,
   "metadata": {
    "slideshow": {
     "slide_type": "fragment"
    }
   },
   "outputs": [],
   "source": [
    "euler_id2 = {\n",
    "    e**(i*(sigma+gama2)):cos(sigma+gama2) + i*sin(sigma+gama2),\n",
    "    e**(i*(psi+alfa2)):cos(psi+alfa2) + i*sin(psi+alfa2),\n",
    "    e**(i*delta2):cos(delta2) + i*sin(delta2),\n",
    "    e**(i*psi):cos(psi) + i*sin(psi),\n",
    "    e**(i*sigma):cos(sigma) + i*sin(sigma)\n",
    "}"
   ]
  },
  {
   "cell_type": "code",
   "execution_count": 40,
   "metadata": {
    "slideshow": {
     "slide_type": "fragment"
    }
   },
   "outputs": [
    {
     "data": {
      "text/latex": [
       "$\\displaystyle - p_{21} \\left(i \\sin{\\left(\\delta_{2} \\right)} + \\cos{\\left(\\delta_{2} \\right)}\\right) - s \\left(i \\sin{\\left(\\psi \\right)} + \\cos{\\left(\\psi \\right)}\\right) + s \\left(i \\sin{\\left(\\alpha_{2} + \\psi \\right)} + \\cos{\\left(\\alpha_{2} + \\psi \\right)}\\right) - u \\left(i \\sin{\\left(\\sigma \\right)} + \\cos{\\left(\\sigma \\right)}\\right) + u \\left(i \\sin{\\left(\\gamma_{2} + \\sigma \\right)} + \\cos{\\left(\\gamma_{2} + \\sigma \\right)}\\right)$"
      ],
      "text/plain": [
       "-p_{21}*(I*sin(delta_2) + cos(delta_2)) - s*(I*sin(psi) + cos(psi)) + s*(I*sin(alpha_2 + psi) + cos(alpha_2 + psi)) - u*(I*sin(sigma) + cos(sigma)) + u*(I*sin(gamma_2 + sigma) + cos(gamma_2 + sigma))"
      ]
     },
     "execution_count": 40,
     "metadata": {},
     "output_type": "execute_result"
    }
   ],
   "source": [
    "Eq6 = Eq5.subs(euler_id2)\n",
    "Eq6"
   ]
  },
  {
   "cell_type": "code",
   "execution_count": 41,
   "metadata": {
    "slideshow": {
     "slide_type": "fragment"
    }
   },
   "outputs": [
    {
     "data": {
      "text/latex": [
       "$\\displaystyle - i p_{21} \\sin{\\left(\\delta_{2} \\right)} - p_{21} \\cos{\\left(\\delta_{2} \\right)} - i s \\sin{\\left(\\psi \\right)} + i s \\sin{\\left(\\alpha_{2} + \\psi \\right)} - s \\cos{\\left(\\psi \\right)} + s \\cos{\\left(\\alpha_{2} + \\psi \\right)} - i u \\sin{\\left(\\sigma \\right)} + i u \\sin{\\left(\\gamma_{2} + \\sigma \\right)} - u \\cos{\\left(\\sigma \\right)} + u \\cos{\\left(\\gamma_{2} + \\sigma \\right)}$"
      ],
      "text/plain": [
       "-I*p_{21}*sin(delta_2) - p_{21}*cos(delta_2) - I*s*sin(psi) + I*s*sin(alpha_2 + psi) - s*cos(psi) + s*cos(alpha_2 + psi) - I*u*sin(sigma) + I*u*sin(gamma_2 + sigma) - u*cos(sigma) + u*cos(gamma_2 + sigma)"
      ]
     },
     "execution_count": 41,
     "metadata": {},
     "output_type": "execute_result"
    }
   ],
   "source": [
    "Eq6 = Eq6.expand()\n",
    "Eq6"
   ]
  },
  {
   "cell_type": "code",
   "execution_count": 42,
   "metadata": {
    "slideshow": {
     "slide_type": "fragment"
    }
   },
   "outputs": [
    {
     "data": {
      "text/latex": [
       "$\\displaystyle - p_{21} \\cos{\\left(\\delta_{2} \\right)} - s \\cos{\\left(\\psi \\right)} + s \\cos{\\left(\\alpha_{2} + \\psi \\right)} - u \\cos{\\left(\\sigma \\right)} + u \\cos{\\left(\\gamma_{2} + \\sigma \\right)}$"
      ],
      "text/plain": [
       "-p_{21}*cos(delta_2) - s*cos(psi) + s*cos(alpha_2 + psi) - u*cos(sigma) + u*cos(gamma_2 + sigma)"
      ]
     },
     "execution_count": 42,
     "metadata": {},
     "output_type": "execute_result"
    }
   ],
   "source": [
    "Eq6_real = Eq6.subs(i,0)\n",
    "Eq6_real"
   ]
  },
  {
   "cell_type": "code",
   "execution_count": 43,
   "metadata": {
    "slideshow": {
     "slide_type": "fragment"
    }
   },
   "outputs": [
    {
     "data": {
      "text/latex": [
       "$\\displaystyle - i p_{21} \\sin{\\left(\\delta_{2} \\right)} - i s \\sin{\\left(\\psi \\right)} + i s \\sin{\\left(\\alpha_{2} + \\psi \\right)} - i u \\sin{\\left(\\sigma \\right)} + i u \\sin{\\left(\\gamma_{2} + \\sigma \\right)}$"
      ],
      "text/plain": [
       "-I*p_{21}*sin(delta_2) - I*s*sin(psi) + I*s*sin(alpha_2 + psi) - I*u*sin(sigma) + I*u*sin(gamma_2 + sigma)"
      ]
     },
     "execution_count": 43,
     "metadata": {},
     "output_type": "execute_result"
    }
   ],
   "source": [
    "Eq6_im = Eq6 - Eq6_real\n",
    "Eq6_im"
   ]
  },
  {
   "cell_type": "code",
   "execution_count": 44,
   "metadata": {
    "slideshow": {
     "slide_type": "fragment"
    }
   },
   "outputs": [
    {
     "data": {
      "text/latex": [
       "$\\displaystyle - p_{21} \\sin{\\left(\\delta_{2} \\right)} - s \\sin{\\left(\\psi \\right)} + s \\sin{\\left(\\alpha_{2} + \\psi \\right)} - u \\sin{\\left(\\sigma \\right)} + u \\sin{\\left(\\gamma_{2} + \\sigma \\right)}$"
      ],
      "text/plain": [
       "-p_{21}*sin(delta_2) - s*sin(psi) + s*sin(alpha_2 + psi) - u*sin(sigma) + u*sin(gamma_2 + sigma)"
      ]
     },
     "execution_count": 44,
     "metadata": {},
     "output_type": "execute_result"
    }
   ],
   "source": [
    "Eq6_im = Eq6_im.subs(i,1)\n",
    "Eq6_im"
   ]
  },
  {
   "cell_type": "markdown",
   "metadata": {
    "slideshow": {
     "slide_type": "fragment"
    }
   },
   "source": [
    "Queremos obter os módulos dos vetores $\\vec{U}$ e $\\vec{S}$. Assumiremos os valores dos ângulos $\\sigma$, $\\psi$ e $\\gamma_2$. As quantidades $p_{21}$, $\\delta_2$ e $\\alpha_2$ também são definidas a partir do enunciado do problema."
   ]
  },
  {
   "cell_type": "code",
   "execution_count": 45,
   "metadata": {
    "slideshow": {
     "slide_type": "fragment"
    }
   },
   "outputs": [],
   "source": [
    "sol2 = solve([Eq6_im,Eq6_real],u,s)"
   ]
  },
  {
   "cell_type": "code",
   "execution_count": 46,
   "metadata": {
    "slideshow": {
     "slide_type": "fragment"
    }
   },
   "outputs": [
    {
     "data": {
      "text/latex": [
       "$\\displaystyle \\frac{p_{21} \\left(\\sin{\\left(\\delta_{2} - \\psi \\right)} + \\sin{\\left(\\alpha_{2} - \\delta_{2} + \\psi \\right)}\\right)}{\\sin{\\left(\\psi - \\sigma \\right)} - \\sin{\\left(\\alpha_{2} + \\psi - \\sigma \\right)} + \\sin{\\left(\\gamma_{2} - \\psi + \\sigma \\right)} + \\sin{\\left(\\alpha_{2} - \\gamma_{2} + \\psi - \\sigma \\right)}}$"
      ],
      "text/plain": [
       "p_{21}*(sin(delta_2 - psi) + sin(alpha_2 - delta_2 + psi))/(sin(psi - sigma) - sin(alpha_2 + psi - sigma) + sin(gamma_2 - psi + sigma) + sin(alpha_2 - gamma_2 + psi - sigma))"
      ]
     },
     "execution_count": 46,
     "metadata": {},
     "output_type": "execute_result"
    }
   ],
   "source": [
    "sol2[u]"
   ]
  },
  {
   "cell_type": "code",
   "execution_count": 47,
   "metadata": {
    "slideshow": {
     "slide_type": "fragment"
    }
   },
   "outputs": [
    {
     "data": {
      "text/latex": [
       "$\\displaystyle - \\frac{p_{21} \\left(\\sin{\\left(\\delta_{2} - \\sigma \\right)} + \\sin{\\left(- \\delta_{2} + \\gamma_{2} + \\sigma \\right)}\\right)}{\\sin{\\left(\\psi - \\sigma \\right)} - \\sin{\\left(\\alpha_{2} + \\psi - \\sigma \\right)} + \\sin{\\left(\\gamma_{2} - \\psi + \\sigma \\right)} + \\sin{\\left(\\alpha_{2} - \\gamma_{2} + \\psi - \\sigma \\right)}}$"
      ],
      "text/plain": [
       "-p_{21}*(sin(delta_2 - sigma) + sin(-delta_2 + gamma_2 + sigma))/(sin(psi - sigma) - sin(alpha_2 + psi - sigma) + sin(gamma_2 - psi + sigma) + sin(alpha_2 - gamma_2 + psi - sigma))"
      ]
     },
     "execution_count": 47,
     "metadata": {},
     "output_type": "execute_result"
    }
   ],
   "source": [
    "sol2[s]"
   ]
  },
  {
   "cell_type": "markdown",
   "metadata": {
    "slideshow": {
     "slide_type": "fragment"
    }
   },
   "source": [
    "Se a segunda estratégia for usada, assumindo o ângulo $\\gamma_2$ e o módulo e direção do vetor $S_1$ (que definirá o elo 3), o resultado será: "
   ]
  },
  {
   "cell_type": "code",
   "execution_count": 48,
   "metadata": {
    "slideshow": {
     "slide_type": "fragment"
    }
   },
   "outputs": [],
   "source": [
    "U1x,U1y,S1x,S1y = symbols('U_{1_x} U_{1_y} S_{1_x} S_{1_y}')"
   ]
  },
  {
   "cell_type": "code",
   "execution_count": 49,
   "metadata": {
    "slideshow": {
     "slide_type": "fragment"
    }
   },
   "outputs": [],
   "source": [
    "dicUS = {\n",
    "    u*cos(sigma):U1x,\n",
    "    u*sin(sigma):U1y,\n",
    "    s*cos(psi):S1x,\n",
    "    s*sin(psi):S1y\n",
    "}"
   ]
  },
  {
   "cell_type": "code",
   "execution_count": 50,
   "metadata": {
    "slideshow": {
     "slide_type": "fragment"
    }
   },
   "outputs": [],
   "source": [
    "Eq7 = expand(expand_trig(Eq6_real)).subs(dicUS)\n",
    "Eq8 = expand(expand_trig(Eq6_im)).subs(dicUS)"
   ]
  },
  {
   "cell_type": "code",
   "execution_count": 51,
   "metadata": {
    "slideshow": {
     "slide_type": "fragment"
    }
   },
   "outputs": [
    {
     "data": {
      "text/latex": [
       "$\\displaystyle S_{1_x} \\cos{\\left(\\alpha_{2} \\right)} - S_{1_x} - S_{1_y} \\sin{\\left(\\alpha_{2} \\right)} + U_{1_x} \\cos{\\left(\\gamma_{2} \\right)} - U_{1_x} - U_{1_y} \\sin{\\left(\\gamma_{2} \\right)} - p_{21} \\cos{\\left(\\delta_{2} \\right)}$"
      ],
      "text/plain": [
       "S_{1_x}*cos(alpha_2) - S_{1_x} - S_{1_y}*sin(alpha_2) + U_{1_x}*cos(gamma_2) - U_{1_x} - U_{1_y}*sin(gamma_2) - p_{21}*cos(delta_2)"
      ]
     },
     "execution_count": 51,
     "metadata": {},
     "output_type": "execute_result"
    }
   ],
   "source": [
    "Eq7"
   ]
  },
  {
   "cell_type": "code",
   "execution_count": 52,
   "metadata": {
    "slideshow": {
     "slide_type": "fragment"
    }
   },
   "outputs": [
    {
     "data": {
      "text/latex": [
       "$\\displaystyle S_{1_x} \\sin{\\left(\\alpha_{2} \\right)} + S_{1_y} \\cos{\\left(\\alpha_{2} \\right)} - S_{1_y} + U_{1_x} \\sin{\\left(\\gamma_{2} \\right)} + U_{1_y} \\cos{\\left(\\gamma_{2} \\right)} - U_{1_y} - p_{21} \\sin{\\left(\\delta_{2} \\right)}$"
      ],
      "text/plain": [
       "S_{1_x}*sin(alpha_2) + S_{1_y}*cos(alpha_2) - S_{1_y} + U_{1_x}*sin(gamma_2) + U_{1_y}*cos(gamma_2) - U_{1_y} - p_{21}*sin(delta_2)"
      ]
     },
     "execution_count": 52,
     "metadata": {},
     "output_type": "execute_result"
    }
   ],
   "source": [
    "Eq8"
   ]
  },
  {
   "cell_type": "code",
   "execution_count": 53,
   "metadata": {
    "slideshow": {
     "slide_type": "fragment"
    }
   },
   "outputs": [],
   "source": [
    "sol2b = solve([Eq7,Eq8],U1x,U1y)"
   ]
  },
  {
   "cell_type": "code",
   "execution_count": 54,
   "metadata": {
    "slideshow": {
     "slide_type": "fragment"
    }
   },
   "outputs": [
    {
     "data": {
      "text/latex": [
       "$\\displaystyle \\frac{\\left(\\cos{\\left(\\gamma_{2} \\right)} - 1\\right) \\left(- S_{1_x} \\cos{\\left(\\alpha_{2} \\right)} + S_{1_x} + S_{1_y} \\sin{\\left(\\alpha_{2} \\right)} + p_{21} \\cos{\\left(\\delta_{2} \\right)}\\right) - \\left(S_{1_x} \\sin{\\left(\\alpha_{2} \\right)} + S_{1_y} \\cos{\\left(\\alpha_{2} \\right)} - S_{1_y} - p_{21} \\sin{\\left(\\delta_{2} \\right)}\\right) \\sin{\\left(\\gamma_{2} \\right)}}{2 - 2 \\cos{\\left(\\gamma_{2} \\right)}}$"
      ],
      "text/plain": [
       "((cos(gamma_2) - 1)*(-S_{1_x}*cos(alpha_2) + S_{1_x} + S_{1_y}*sin(alpha_2) + p_{21}*cos(delta_2)) - (S_{1_x}*sin(alpha_2) + S_{1_y}*cos(alpha_2) - S_{1_y} - p_{21}*sin(delta_2))*sin(gamma_2))/(2 - 2*cos(gamma_2))"
      ]
     },
     "execution_count": 54,
     "metadata": {},
     "output_type": "execute_result"
    }
   ],
   "source": [
    "sol2b[U1x]"
   ]
  },
  {
   "cell_type": "code",
   "execution_count": 55,
   "metadata": {
    "scrolled": true,
    "slideshow": {
     "slide_type": "fragment"
    }
   },
   "outputs": [
    {
     "data": {
      "text/latex": [
       "$\\displaystyle \\frac{- \\left(\\cos{\\left(\\gamma_{2} \\right)} - 1\\right) \\left(S_{1_x} \\sin{\\left(\\alpha_{2} \\right)} + S_{1_y} \\cos{\\left(\\alpha_{2} \\right)} - S_{1_y} - p_{21} \\sin{\\left(\\delta_{2} \\right)}\\right) - \\left(- S_{1_x} \\cos{\\left(\\alpha_{2} \\right)} + S_{1_x} + S_{1_y} \\sin{\\left(\\alpha_{2} \\right)} + p_{21} \\cos{\\left(\\delta_{2} \\right)}\\right) \\sin{\\left(\\gamma_{2} \\right)}}{2 - 2 \\cos{\\left(\\gamma_{2} \\right)}}$"
      ],
      "text/plain": [
       "(-(cos(gamma_2) - 1)*(S_{1_x}*sin(alpha_2) + S_{1_y}*cos(alpha_2) - S_{1_y} - p_{21}*sin(delta_2)) - (-S_{1_x}*cos(alpha_2) + S_{1_x} + S_{1_y}*sin(alpha_2) + p_{21}*cos(delta_2))*sin(gamma_2))/(2 - 2*cos(gamma_2))"
      ]
     },
     "execution_count": 55,
     "metadata": {},
     "output_type": "execute_result"
    }
   ],
   "source": [
    "sol2b[U1y]"
   ]
  },
  {
   "cell_type": "markdown",
   "metadata": {},
   "source": [
    "[Voltar para o capítulo anterior](Mecs4.ipynb)     $\\qquad$   [Avançar para o próximo capítulo](Mecs6.ipynb)"
   ]
  }
 ],
 "metadata": {
  "kernelspec": {
   "display_name": "Python 3",
   "language": "python",
   "name": "python3"
  },
  "language_info": {
   "codemirror_mode": {
    "name": "ipython",
    "version": 3
   },
   "file_extension": ".py",
   "mimetype": "text/x-python",
   "name": "python",
   "nbconvert_exporter": "python",
   "pygments_lexer": "ipython3",
   "version": "3.8.10"
  }
 },
 "nbformat": 4,
 "nbformat_minor": 4
}
