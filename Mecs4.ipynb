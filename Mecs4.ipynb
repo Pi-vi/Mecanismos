{
 "cells": [
  {
   "cell_type": "markdown",
   "metadata": {
    "slideshow": {
     "slide_type": "slide"
    }
   },
   "source": [
    "# 4. Análise de Posição\n",
    "Professor Paulo Victor <br>\n",
    "CEFET/RJ Campus Angra dos Reis - Sala 6E\n",
    "<br>\n",
    "*Este material serve apenas como um guia para estudos e para as aulas, não substituindo a leitura dos livros indicados e é de uso exclusivo dos alunos do CEFET/RJ campus Angra dos Reis.* "
   ]
  },
  {
   "cell_type": "markdown",
   "metadata": {
    "slideshow": {
     "slide_type": "subslide"
    }
   },
   "source": [
    "Uma vez que um projeto de mecanismo tenha sido **sintetizado**, ele deve ser **analisado**. <br>\n",
    "O principal objetivo de uma análise cinemática é determinar as acelerações de todas as partes móveis do conjunto. **Forças Dinâmicas** são proporcionais à aceleração conforme a segunda lei de Newton. Precisamos conhecer as forças dinâmicas para calcularmos as **tensões** nos componentes."
   ]
  },
  {
   "cell_type": "markdown",
   "metadata": {
    "slideshow": {
     "slide_type": "subslide"
    }
   },
   "source": [
    "![](figs4-0.jpg)"
   ]
  },
  {
   "cell_type": "markdown",
   "metadata": {
    "slideshow": {
     "slide_type": "slide"
    }
   },
   "source": [
    "## 4.1 Sistemas de Coordenadas"
   ]
  },
  {
   "cell_type": "markdown",
   "metadata": {
    "slideshow": {
     "slide_type": "subslide"
    }
   },
   "source": [
    "* Sistema de coordenadas global ou absoluto\n",
    "* Sistema de coordenadas local"
   ]
  },
  {
   "cell_type": "markdown",
   "metadata": {},
   "source": [
    "![](figs4-1.png)"
   ]
  },
  {
   "cell_type": "markdown",
   "metadata": {
    "slideshow": {
     "slide_type": "slide"
    }
   },
   "source": [
    "## 4.2 Posição e Deslocamento"
   ]
  },
  {
   "cell_type": "markdown",
   "metadata": {
    "slideshow": {
     "slide_type": "subslide"
    }
   },
   "source": [
    "### Posição"
   ]
  },
  {
   "cell_type": "markdown",
   "metadata": {
    "slideshow": {
     "slide_type": "fragment"
    }
   },
   "source": [
    "A posição de um ponto no **plano** pode ser definida por meio de um **vetor posição**. <br>\n",
    "A escolha dos **eixos de referência** é arbritrária, selecionada para satisfazer o observador. <br>\n",
    "Um vetor de duas dimensões tem dois atributos, que podem ser expressos tento na forma *polar* quanto em *coordenadas cartesianas*. \n",
    "* forma polar\n",
    "    * fornece o módulo e o ângulo do vetor: $\\vec{p} = | R | @ \\angle \\theta$\n",
    "* forma cartesiana\n",
    "    * fornece os componentes X e Y do vetor: $\\vec{p} = R_x,R_y$\n",
    "Observa-se que:\n",
    "$$ R = \\sqrt{R_x^2 + R_y^2}$$\n",
    "$$ \\theta = arctan \\left( \\dfrac{R_y}{R_x} \\right)$$"
   ]
  },
  {
   "cell_type": "markdown",
   "metadata": {
    "slideshow": {
     "slide_type": "subslide"
    }
   },
   "source": [
    "### Deslocamentos\n",
    "O vetor posição $\\vec{R}_{BA}$ define o deslocamento do ponto $B$ em relação ao ponto $A$. "
   ]
  },
  {
   "cell_type": "markdown",
   "metadata": {},
   "source": [
    "![](figs4-3.png)"
   ]
  },
  {
   "cell_type": "markdown",
   "metadata": {
    "slideshow": {
     "slide_type": "fragment"
    }
   },
   "source": [
    "A posição de $B$ em consideração a $A$ é igual a posição absoluta de $B$ menos a posição absoluta de $A$\n",
    "$$\\vec{R}_{BA} = \\vec{R}_B - \\vec{R}_A$$\n",
    "Ou:\n",
    "$$\\vec{R}_{BA} = \\vec{R}_{BO} - \\vec{R}_{AO}$$"
   ]
  },
  {
   "cell_type": "markdown",
   "metadata": {
    "slideshow": {
     "slide_type": "slide"
    }
   },
   "source": [
    "## 4.3 Translação, Rotação e Movimento Complexo"
   ]
  },
  {
   "cell_type": "markdown",
   "metadata": {
    "slideshow": {
     "slide_type": "subslide"
    }
   },
   "source": [
    "#### Translação\n",
    "Todos os pontos do corpo tem o mesmo deslocamento. A orientação angular é mantida.\n",
    "#### Rotação \n",
    "Diferentes pontos do corpo suportam difenrentes deslocamentos, portanto há uma diferença de deslocamento entre quaisquer dois pontos escolhidos\n",
    "#### Movimento complexo\n",
    "É a união dos dois movimentos anteriores\n",
    "\n",
    "#### Teoremas:\n",
    "**Teorema de Euler** <br>\n",
    "O deslocamento geral de um corpo rígido com um ponto fixo é igual a rotação relacionada a algum eixo.<br>\n",
    "**Teorema de Chasles** <br>\n",
    "Qualquer deslocamento de um corpo rígido é equivalente à soma da translação de qualquer ponto naquele corpo com rotação sobre um eixo por meio desse ponto."
   ]
  },
  {
   "cell_type": "markdown",
   "metadata": {
    "slideshow": {
     "slide_type": "slide"
    }
   },
   "source": [
    "## 4.4 Análise Gráfica da Posição de Mecanismos"
   ]
  },
  {
   "cell_type": "markdown",
   "metadata": {
    "slideshow": {
     "slide_type": "subslide"
    }
   },
   "source": [
    "Para qualquer mecanismo de um GDL, somente um parâmetro é necessário para definir a posição de todos os elos. O parâmetro usualmente escolhido é o ângulo do elo de entrada.<br>\n",
    "Os comprimentos dos elos $a$, $b$, $c$ e $d$ são conhecidos."
   ]
  },
  {
   "cell_type": "markdown",
   "metadata": {},
   "source": [
    "![](figs4-4.png)"
   ]
  },
  {
   "cell_type": "markdown",
   "metadata": {},
   "source": [
    "![](figs4-5.png)"
   ]
  },
  {
   "cell_type": "markdown",
   "metadata": {
    "slideshow": {
     "slide_type": "slide"
    }
   },
   "source": [
    "## 4.5 Análise Algébrica da Posição de Mecanismos"
   ]
  },
  {
   "cell_type": "markdown",
   "metadata": {
    "slideshow": {
     "slide_type": "subslide"
    }
   },
   "source": [
    "A mesma ideia pode ser utilizada para se fazer a análise algébrica do mecanismo de 4 barras."
   ]
  },
  {
   "cell_type": "code",
   "execution_count": 5,
   "metadata": {},
   "outputs": [],
   "source": [
    "from sympy import *"
   ]
  },
  {
   "cell_type": "code",
   "execution_count": 6,
   "metadata": {
    "scrolled": true,
    "slideshow": {
     "slide_type": "fragment"
    }
   },
   "outputs": [],
   "source": [
    "theta2,a,b,c,d = symbols('theta2 a b c d')"
   ]
  },
  {
   "cell_type": "code",
   "execution_count": 7,
   "metadata": {
    "slideshow": {
     "slide_type": "fragment"
    }
   },
   "outputs": [
    {
     "data": {
      "text/latex": [
       "$\\displaystyle a \\cos{\\left(\\theta_{2} \\right)}$"
      ],
      "text/plain": [
       "a*cos(theta2)"
      ]
     },
     "execution_count": 7,
     "metadata": {},
     "output_type": "execute_result"
    }
   ],
   "source": [
    "Ax = a*cos(theta2)\n",
    "Ax"
   ]
  },
  {
   "cell_type": "code",
   "execution_count": 8,
   "metadata": {
    "slideshow": {
     "slide_type": "fragment"
    }
   },
   "outputs": [
    {
     "data": {
      "text/latex": [
       "$\\displaystyle a \\sin{\\left(\\theta_{2} \\right)}$"
      ],
      "text/plain": [
       "a*sin(theta2)"
      ]
     },
     "execution_count": 8,
     "metadata": {},
     "output_type": "execute_result"
    }
   ],
   "source": [
    "Ay = a*sin(theta2)\n",
    "Ay"
   ]
  },
  {
   "cell_type": "markdown",
   "metadata": {
    "slideshow": {
     "slide_type": "fragment"
    }
   },
   "source": [
    "Escrevendo as duas equações dos círculos com centros em $A$ e $O_4$ e com os respectivos raios $b$ e $c$:"
   ]
  },
  {
   "cell_type": "code",
   "execution_count": 9,
   "metadata": {
    "slideshow": {
     "slide_type": "fragment"
    }
   },
   "outputs": [],
   "source": [
    "Bx,By = symbols('B_x B_y')"
   ]
  },
  {
   "cell_type": "code",
   "execution_count": 10,
   "metadata": {
    "slideshow": {
     "slide_type": "fragment"
    }
   },
   "outputs": [
    {
     "data": {
      "text/latex": [
       "$\\displaystyle b^{2} = \\left(B_{x} - a \\cos{\\left(\\theta_{2} \\right)}\\right)^{2} + \\left(B_{y} - a \\sin{\\left(\\theta_{2} \\right)}\\right)^{2}$"
      ],
      "text/plain": [
       "Eq(b**2, (B_x - a*cos(theta2))**2 + (B_y - a*sin(theta2))**2)"
      ]
     },
     "execution_count": 10,
     "metadata": {},
     "output_type": "execute_result"
    }
   ],
   "source": [
    "b2 = (Bx - Ax)**2 + (By - Ay)**2\n",
    "Eq1 = Eq(b**2,b2)\n",
    "Eq1"
   ]
  },
  {
   "cell_type": "code",
   "execution_count": 11,
   "metadata": {
    "slideshow": {
     "slide_type": "fragment"
    }
   },
   "outputs": [
    {
     "data": {
      "text/latex": [
       "$\\displaystyle - b^{2} + \\left(B_{x} - a \\cos{\\left(\\theta_{2} \\right)}\\right)^{2} + \\left(B_{y} - a \\sin{\\left(\\theta_{2} \\right)}\\right)^{2}$"
      ],
      "text/plain": [
       "-b**2 + (B_x - a*cos(theta2))**2 + (B_y - a*sin(theta2))**2"
      ]
     },
     "execution_count": 11,
     "metadata": {},
     "output_type": "execute_result"
    }
   ],
   "source": [
    "Eq1 = b2 - b**2\n",
    "Eq1"
   ]
  },
  {
   "cell_type": "code",
   "execution_count": 12,
   "metadata": {
    "slideshow": {
     "slide_type": "fragment"
    }
   },
   "outputs": [
    {
     "data": {
      "text/latex": [
       "$\\displaystyle c^{2} = B_{y}^{2} + \\left(B_{x} - d\\right)^{2}$"
      ],
      "text/plain": [
       "Eq(c**2, B_y**2 + (B_x - d)**2)"
      ]
     },
     "execution_count": 12,
     "metadata": {},
     "output_type": "execute_result"
    }
   ],
   "source": [
    "c2 = (Bx - d)**2 + By**2\n",
    "Eq2 = Eq(c**2,c2)\n",
    "Eq2"
   ]
  },
  {
   "cell_type": "code",
   "execution_count": 13,
   "metadata": {
    "slideshow": {
     "slide_type": "fragment"
    }
   },
   "outputs": [
    {
     "data": {
      "text/latex": [
       "$\\displaystyle B_{y}^{2} - c^{2} + \\left(B_{x} - d\\right)^{2}$"
      ],
      "text/plain": [
       "B_y**2 - c**2 + (B_x - d)**2"
      ]
     },
     "execution_count": 13,
     "metadata": {},
     "output_type": "execute_result"
    }
   ],
   "source": [
    "Eq2 = c2 - c**2\n",
    "Eq2"
   ]
  },
  {
   "cell_type": "code",
   "execution_count": 14,
   "metadata": {
    "slideshow": {
     "slide_type": "fragment"
    }
   },
   "outputs": [
    {
     "data": {
      "text/latex": [
       "$\\displaystyle - B_{y}^{2} - b^{2} + c^{2} - \\left(B_{x} - d\\right)^{2} + \\left(B_{x} - a \\cos{\\left(\\theta_{2} \\right)}\\right)^{2} + \\left(B_{y} - a \\sin{\\left(\\theta_{2} \\right)}\\right)^{2}$"
      ],
      "text/plain": [
       "-B_y**2 - b**2 + c**2 - (B_x - d)**2 + (B_x - a*cos(theta2))**2 + (B_y - a*sin(theta2))**2"
      ]
     },
     "execution_count": 14,
     "metadata": {},
     "output_type": "execute_result"
    }
   ],
   "source": [
    "Eq3 = Eq1 - Eq2\n",
    "Eq3"
   ]
  },
  {
   "cell_type": "code",
   "execution_count": 15,
   "metadata": {
    "slideshow": {
     "slide_type": "fragment"
    }
   },
   "outputs": [
    {
     "data": {
      "text/latex": [
       "$\\displaystyle - 2 B_{x} a \\cos{\\left(\\theta_{2} \\right)} + 2 B_{x} d - 2 B_{y} a \\sin{\\left(\\theta_{2} \\right)} + a^{2} \\sin^{2}{\\left(\\theta_{2} \\right)} + a^{2} \\cos^{2}{\\left(\\theta_{2} \\right)} - b^{2} + c^{2} - d^{2}$"
      ],
      "text/plain": [
       "-2*B_x*a*cos(theta2) + 2*B_x*d - 2*B_y*a*sin(theta2) + a**2*sin(theta2)**2 + a**2*cos(theta2)**2 - b**2 + c**2 - d**2"
      ]
     },
     "execution_count": 15,
     "metadata": {},
     "output_type": "execute_result"
    }
   ],
   "source": [
    "expand(Eq3)"
   ]
  },
  {
   "cell_type": "code",
   "execution_count": 16,
   "metadata": {
    "slideshow": {
     "slide_type": "fragment"
    }
   },
   "outputs": [
    {
     "data": {
      "text/latex": [
       "$\\displaystyle \\frac{- 2 B_{y} a \\sin{\\left(\\theta_{2} \\right)} + a^{2} - b^{2} + c^{2} - d^{2}}{2 \\left(a \\cos{\\left(\\theta_{2} \\right)} - d\\right)}$"
      ],
      "text/plain": [
       "(-2*B_y*a*sin(theta2) + a**2 - b**2 + c**2 - d**2)/(2*(a*cos(theta2) - d))"
      ]
     },
     "execution_count": 16,
     "metadata": {},
     "output_type": "execute_result"
    }
   ],
   "source": [
    "solBx = solve(Eq3,Bx)[0]\n",
    "solBx"
   ]
  },
  {
   "cell_type": "code",
   "execution_count": 17,
   "metadata": {
    "slideshow": {
     "slide_type": "fragment"
    }
   },
   "outputs": [
    {
     "data": {
      "text/latex": [
       "$\\displaystyle \\frac{4 B_{y}^{2} a^{2} \\sin^{2}{\\left(\\theta_{2} \\right)}}{4 a^{2} \\cos^{2}{\\left(\\theta_{2} \\right)} - 8 a d \\cos{\\left(\\theta_{2} \\right)} + 4 d^{2}} + B_{y}^{2} - \\frac{4 B_{y} a^{3} \\sin{\\left(\\theta_{2} \\right)}}{4 a^{2} \\cos^{2}{\\left(\\theta_{2} \\right)} - 8 a d \\cos{\\left(\\theta_{2} \\right)} + 4 d^{2}} + \\frac{4 B_{y} a b^{2} \\sin{\\left(\\theta_{2} \\right)}}{4 a^{2} \\cos^{2}{\\left(\\theta_{2} \\right)} - 8 a d \\cos{\\left(\\theta_{2} \\right)} + 4 d^{2}} - \\frac{4 B_{y} a c^{2} \\sin{\\left(\\theta_{2} \\right)}}{4 a^{2} \\cos^{2}{\\left(\\theta_{2} \\right)} - 8 a d \\cos{\\left(\\theta_{2} \\right)} + 4 d^{2}} + \\frac{4 B_{y} a d^{2} \\sin{\\left(\\theta_{2} \\right)}}{4 a^{2} \\cos^{2}{\\left(\\theta_{2} \\right)} - 8 a d \\cos{\\left(\\theta_{2} \\right)} + 4 d^{2}} + \\frac{2 B_{y} a d \\sin{\\left(\\theta_{2} \\right)}}{a \\cos{\\left(\\theta_{2} \\right)} - d} + \\frac{a^{4}}{4 a^{2} \\cos^{2}{\\left(\\theta_{2} \\right)} - 8 a d \\cos{\\left(\\theta_{2} \\right)} + 4 d^{2}} - \\frac{2 a^{2} b^{2}}{4 a^{2} \\cos^{2}{\\left(\\theta_{2} \\right)} - 8 a d \\cos{\\left(\\theta_{2} \\right)} + 4 d^{2}} + \\frac{2 a^{2} c^{2}}{4 a^{2} \\cos^{2}{\\left(\\theta_{2} \\right)} - 8 a d \\cos{\\left(\\theta_{2} \\right)} + 4 d^{2}} - \\frac{2 a^{2} d^{2}}{4 a^{2} \\cos^{2}{\\left(\\theta_{2} \\right)} - 8 a d \\cos{\\left(\\theta_{2} \\right)} + 4 d^{2}} - \\frac{a^{2} d}{a \\cos{\\left(\\theta_{2} \\right)} - d} + \\frac{b^{4}}{4 a^{2} \\cos^{2}{\\left(\\theta_{2} \\right)} - 8 a d \\cos{\\left(\\theta_{2} \\right)} + 4 d^{2}} - \\frac{2 b^{2} c^{2}}{4 a^{2} \\cos^{2}{\\left(\\theta_{2} \\right)} - 8 a d \\cos{\\left(\\theta_{2} \\right)} + 4 d^{2}} + \\frac{2 b^{2} d^{2}}{4 a^{2} \\cos^{2}{\\left(\\theta_{2} \\right)} - 8 a d \\cos{\\left(\\theta_{2} \\right)} + 4 d^{2}} + \\frac{b^{2} d}{a \\cos{\\left(\\theta_{2} \\right)} - d} + \\frac{c^{4}}{4 a^{2} \\cos^{2}{\\left(\\theta_{2} \\right)} - 8 a d \\cos{\\left(\\theta_{2} \\right)} + 4 d^{2}} - \\frac{2 c^{2} d^{2}}{4 a^{2} \\cos^{2}{\\left(\\theta_{2} \\right)} - 8 a d \\cos{\\left(\\theta_{2} \\right)} + 4 d^{2}} - \\frac{c^{2} d}{a \\cos{\\left(\\theta_{2} \\right)} - d} - c^{2} + \\frac{d^{4}}{4 a^{2} \\cos^{2}{\\left(\\theta_{2} \\right)} - 8 a d \\cos{\\left(\\theta_{2} \\right)} + 4 d^{2}} + \\frac{d^{3}}{a \\cos{\\left(\\theta_{2} \\right)} - d} + d^{2}$"
      ],
      "text/plain": [
       "4*B_y**2*a**2*sin(theta2)**2/(4*a**2*cos(theta2)**2 - 8*a*d*cos(theta2) + 4*d**2) + B_y**2 - 4*B_y*a**3*sin(theta2)/(4*a**2*cos(theta2)**2 - 8*a*d*cos(theta2) + 4*d**2) + 4*B_y*a*b**2*sin(theta2)/(4*a**2*cos(theta2)**2 - 8*a*d*cos(theta2) + 4*d**2) - 4*B_y*a*c**2*sin(theta2)/(4*a**2*cos(theta2)**2 - 8*a*d*cos(theta2) + 4*d**2) + 4*B_y*a*d**2*sin(theta2)/(4*a**2*cos(theta2)**2 - 8*a*d*cos(theta2) + 4*d**2) + 2*B_y*a*d*sin(theta2)/(a*cos(theta2) - d) + a**4/(4*a**2*cos(theta2)**2 - 8*a*d*cos(theta2) + 4*d**2) - 2*a**2*b**2/(4*a**2*cos(theta2)**2 - 8*a*d*cos(theta2) + 4*d**2) + 2*a**2*c**2/(4*a**2*cos(theta2)**2 - 8*a*d*cos(theta2) + 4*d**2) - 2*a**2*d**2/(4*a**2*cos(theta2)**2 - 8*a*d*cos(theta2) + 4*d**2) - a**2*d/(a*cos(theta2) - d) + b**4/(4*a**2*cos(theta2)**2 - 8*a*d*cos(theta2) + 4*d**2) - 2*b**2*c**2/(4*a**2*cos(theta2)**2 - 8*a*d*cos(theta2) + 4*d**2) + 2*b**2*d**2/(4*a**2*cos(theta2)**2 - 8*a*d*cos(theta2) + 4*d**2) + b**2*d/(a*cos(theta2) - d) + c**4/(4*a**2*cos(theta2)**2 - 8*a*d*cos(theta2) + 4*d**2) - 2*c**2*d**2/(4*a**2*cos(theta2)**2 - 8*a*d*cos(theta2) + 4*d**2) - c**2*d/(a*cos(theta2) - d) - c**2 + d**4/(4*a**2*cos(theta2)**2 - 8*a*d*cos(theta2) + 4*d**2) + d**3/(a*cos(theta2) - d) + d**2"
      ]
     },
     "execution_count": 17,
     "metadata": {},
     "output_type": "execute_result"
    }
   ],
   "source": [
    "Eq4 = Eq2.subs(Bx,solBx).expand()\n",
    "Eq4"
   ]
  },
  {
   "cell_type": "code",
   "execution_count": 18,
   "metadata": {
    "slideshow": {
     "slide_type": "fragment"
    }
   },
   "outputs": [
    {
     "data": {
      "text/plain": [
       "[(a*(a**2 - 2*a*d*cos(theta2) - b**2 + c**2 + d**2)*sin(theta2) + (-a*cos(theta2) + d)*sqrt(-a**4 + 4*a**3*d*cos(theta2) + 2*a**2*b**2 + 2*a**2*c**2 + 4*a**2*d**2*sin(theta2)**2 - 6*a**2*d**2 - 4*a*b**2*d*cos(theta2) - 4*a*c**2*d*cos(theta2) + 4*a*d**3*cos(theta2) - b**4 + 2*b**2*c**2 + 2*b**2*d**2 - c**4 + 2*c**2*d**2 - d**4))/(2*(a**2 - 2*a*d*cos(theta2) + d**2)),\n",
       " (a*(a**2 - 2*a*d*cos(theta2) - b**2 + c**2 + d**2)*sin(theta2) + (a*cos(theta2) - d)*sqrt(-a**4 + 4*a**3*d*cos(theta2) + 2*a**2*b**2 + 2*a**2*c**2 + 4*a**2*d**2*sin(theta2)**2 - 6*a**2*d**2 - 4*a*b**2*d*cos(theta2) - 4*a*c**2*d*cos(theta2) + 4*a*d**3*cos(theta2) - b**4 + 2*b**2*c**2 + 2*b**2*d**2 - c**4 + 2*c**2*d**2 - d**4))/(2*(a**2 - 2*a*d*cos(theta2) + d**2))]"
      ]
     },
     "execution_count": 18,
     "metadata": {},
     "output_type": "execute_result"
    }
   ],
   "source": [
    "solBy = solve(Eq4,By)\n",
    "solBy"
   ]
  },
  {
   "cell_type": "code",
   "execution_count": 19,
   "metadata": {
    "slideshow": {
     "slide_type": "fragment"
    }
   },
   "outputs": [
    {
     "data": {
      "text/plain": [
       "2"
      ]
     },
     "execution_count": 19,
     "metadata": {},
     "output_type": "execute_result"
    }
   ],
   "source": [
    "len(solBy)"
   ]
  },
  {
   "cell_type": "code",
   "execution_count": 20,
   "metadata": {
    "slideshow": {
     "slide_type": "fragment"
    }
   },
   "outputs": [
    {
     "data": {
      "text/latex": [
       "$\\displaystyle \\frac{a \\left(a^{2} - 2 a d \\cos{\\left(\\theta_{2} \\right)} - b^{2} + c^{2} + d^{2}\\right) \\sin{\\left(\\theta_{2} \\right)} + \\left(- a \\cos{\\left(\\theta_{2} \\right)} + d\\right) \\sqrt{- a^{4} + 4 a^{3} d \\cos{\\left(\\theta_{2} \\right)} + 2 a^{2} b^{2} + 2 a^{2} c^{2} + 4 a^{2} d^{2} \\sin^{2}{\\left(\\theta_{2} \\right)} - 6 a^{2} d^{2} - 4 a b^{2} d \\cos{\\left(\\theta_{2} \\right)} - 4 a c^{2} d \\cos{\\left(\\theta_{2} \\right)} + 4 a d^{3} \\cos{\\left(\\theta_{2} \\right)} - b^{4} + 2 b^{2} c^{2} + 2 b^{2} d^{2} - c^{4} + 2 c^{2} d^{2} - d^{4}}}{2 \\left(a^{2} - 2 a d \\cos{\\left(\\theta_{2} \\right)} + d^{2}\\right)}$"
      ],
      "text/plain": [
       "(a*(a**2 - 2*a*d*cos(theta2) - b**2 + c**2 + d**2)*sin(theta2) + (-a*cos(theta2) + d)*sqrt(-a**4 + 4*a**3*d*cos(theta2) + 2*a**2*b**2 + 2*a**2*c**2 + 4*a**2*d**2*sin(theta2)**2 - 6*a**2*d**2 - 4*a*b**2*d*cos(theta2) - 4*a*c**2*d*cos(theta2) + 4*a*d**3*cos(theta2) - b**4 + 2*b**2*c**2 + 2*b**2*d**2 - c**4 + 2*c**2*d**2 - d**4))/(2*(a**2 - 2*a*d*cos(theta2) + d**2))"
      ]
     },
     "execution_count": 20,
     "metadata": {},
     "output_type": "execute_result"
    }
   ],
   "source": [
    "By1 = solBy[0]\n",
    "By1"
   ]
  },
  {
   "cell_type": "code",
   "execution_count": 21,
   "metadata": {
    "slideshow": {
     "slide_type": "fragment"
    }
   },
   "outputs": [
    {
     "data": {
      "text/latex": [
       "$\\displaystyle \\frac{a \\left(a^{2} - 2 a d \\cos{\\left(\\theta_{2} \\right)} - b^{2} + c^{2} + d^{2}\\right) \\sin{\\left(\\theta_{2} \\right)} + \\left(a \\cos{\\left(\\theta_{2} \\right)} - d\\right) \\sqrt{- a^{4} + 4 a^{3} d \\cos{\\left(\\theta_{2} \\right)} + 2 a^{2} b^{2} + 2 a^{2} c^{2} + 4 a^{2} d^{2} \\sin^{2}{\\left(\\theta_{2} \\right)} - 6 a^{2} d^{2} - 4 a b^{2} d \\cos{\\left(\\theta_{2} \\right)} - 4 a c^{2} d \\cos{\\left(\\theta_{2} \\right)} + 4 a d^{3} \\cos{\\left(\\theta_{2} \\right)} - b^{4} + 2 b^{2} c^{2} + 2 b^{2} d^{2} - c^{4} + 2 c^{2} d^{2} - d^{4}}}{2 \\left(a^{2} - 2 a d \\cos{\\left(\\theta_{2} \\right)} + d^{2}\\right)}$"
      ],
      "text/plain": [
       "(a*(a**2 - 2*a*d*cos(theta2) - b**2 + c**2 + d**2)*sin(theta2) + (a*cos(theta2) - d)*sqrt(-a**4 + 4*a**3*d*cos(theta2) + 2*a**2*b**2 + 2*a**2*c**2 + 4*a**2*d**2*sin(theta2)**2 - 6*a**2*d**2 - 4*a*b**2*d*cos(theta2) - 4*a*c**2*d*cos(theta2) + 4*a*d**3*cos(theta2) - b**4 + 2*b**2*c**2 + 2*b**2*d**2 - c**4 + 2*c**2*d**2 - d**4))/(2*(a**2 - 2*a*d*cos(theta2) + d**2))"
      ]
     },
     "execution_count": 21,
     "metadata": {},
     "output_type": "execute_result"
    }
   ],
   "source": [
    "By2 = solBy[1]\n",
    "By2"
   ]
  },
  {
   "cell_type": "code",
   "execution_count": 22,
   "metadata": {
    "slideshow": {
     "slide_type": "fragment"
    }
   },
   "outputs": [
    {
     "data": {
      "text/latex": [
       "$\\displaystyle \\frac{a^{2} - \\frac{a \\left(a \\left(a^{2} - 2 a d \\cos{\\left(\\theta_{2} \\right)} - b^{2} + c^{2} + d^{2}\\right) \\sin{\\left(\\theta_{2} \\right)} + \\left(- a \\cos{\\left(\\theta_{2} \\right)} + d\\right) \\sqrt{- a^{4} + 4 a^{3} d \\cos{\\left(\\theta_{2} \\right)} + 2 a^{2} b^{2} + 2 a^{2} c^{2} + 4 a^{2} d^{2} \\sin^{2}{\\left(\\theta_{2} \\right)} - 6 a^{2} d^{2} - 4 a b^{2} d \\cos{\\left(\\theta_{2} \\right)} - 4 a c^{2} d \\cos{\\left(\\theta_{2} \\right)} + 4 a d^{3} \\cos{\\left(\\theta_{2} \\right)} - b^{4} + 2 b^{2} c^{2} + 2 b^{2} d^{2} - c^{4} + 2 c^{2} d^{2} - d^{4}}\\right) \\sin{\\left(\\theta_{2} \\right)}}{a^{2} - 2 a d \\cos{\\left(\\theta_{2} \\right)} + d^{2}} - b^{2} + c^{2} - d^{2}}{2 \\left(a \\cos{\\left(\\theta_{2} \\right)} - d\\right)}$"
      ],
      "text/plain": [
       "(a**2 - a*(a*(a**2 - 2*a*d*cos(theta2) - b**2 + c**2 + d**2)*sin(theta2) + (-a*cos(theta2) + d)*sqrt(-a**4 + 4*a**3*d*cos(theta2) + 2*a**2*b**2 + 2*a**2*c**2 + 4*a**2*d**2*sin(theta2)**2 - 6*a**2*d**2 - 4*a*b**2*d*cos(theta2) - 4*a*c**2*d*cos(theta2) + 4*a*d**3*cos(theta2) - b**4 + 2*b**2*c**2 + 2*b**2*d**2 - c**4 + 2*c**2*d**2 - d**4))*sin(theta2)/(a**2 - 2*a*d*cos(theta2) + d**2) - b**2 + c**2 - d**2)/(2*(a*cos(theta2) - d))"
      ]
     },
     "execution_count": 22,
     "metadata": {},
     "output_type": "execute_result"
    }
   ],
   "source": [
    "Bx1 = solBx.subs(By,By1)\n",
    "Bx1"
   ]
  },
  {
   "cell_type": "code",
   "execution_count": 23,
   "metadata": {
    "slideshow": {
     "slide_type": "fragment"
    }
   },
   "outputs": [
    {
     "data": {
      "text/latex": [
       "$\\displaystyle \\frac{a^{2} - \\frac{a \\left(a \\left(a^{2} - 2 a d \\cos{\\left(\\theta_{2} \\right)} - b^{2} + c^{2} + d^{2}\\right) \\sin{\\left(\\theta_{2} \\right)} + \\left(a \\cos{\\left(\\theta_{2} \\right)} - d\\right) \\sqrt{- a^{4} + 4 a^{3} d \\cos{\\left(\\theta_{2} \\right)} + 2 a^{2} b^{2} + 2 a^{2} c^{2} + 4 a^{2} d^{2} \\sin^{2}{\\left(\\theta_{2} \\right)} - 6 a^{2} d^{2} - 4 a b^{2} d \\cos{\\left(\\theta_{2} \\right)} - 4 a c^{2} d \\cos{\\left(\\theta_{2} \\right)} + 4 a d^{3} \\cos{\\left(\\theta_{2} \\right)} - b^{4} + 2 b^{2} c^{2} + 2 b^{2} d^{2} - c^{4} + 2 c^{2} d^{2} - d^{4}}\\right) \\sin{\\left(\\theta_{2} \\right)}}{a^{2} - 2 a d \\cos{\\left(\\theta_{2} \\right)} + d^{2}} - b^{2} + c^{2} - d^{2}}{2 \\left(a \\cos{\\left(\\theta_{2} \\right)} - d\\right)}$"
      ],
      "text/plain": [
       "(a**2 - a*(a*(a**2 - 2*a*d*cos(theta2) - b**2 + c**2 + d**2)*sin(theta2) + (a*cos(theta2) - d)*sqrt(-a**4 + 4*a**3*d*cos(theta2) + 2*a**2*b**2 + 2*a**2*c**2 + 4*a**2*d**2*sin(theta2)**2 - 6*a**2*d**2 - 4*a*b**2*d*cos(theta2) - 4*a*c**2*d*cos(theta2) + 4*a*d**3*cos(theta2) - b**4 + 2*b**2*c**2 + 2*b**2*d**2 - c**4 + 2*c**2*d**2 - d**4))*sin(theta2)/(a**2 - 2*a*d*cos(theta2) + d**2) - b**2 + c**2 - d**2)/(2*(a*cos(theta2) - d))"
      ]
     },
     "execution_count": 23,
     "metadata": {},
     "output_type": "execute_result"
    }
   ],
   "source": [
    "Bx2 = solBx.subs(By,By2)\n",
    "Bx2"
   ]
  },
  {
   "cell_type": "code",
   "execution_count": 24,
   "metadata": {
    "slideshow": {
     "slide_type": "fragment"
    }
   },
   "outputs": [],
   "source": [
    "dic1 = {a:10,b:15,c:15,d:10,theta2:pi/6}"
   ]
  },
  {
   "cell_type": "code",
   "execution_count": 25,
   "metadata": {
    "slideshow": {
     "slide_type": "fragment"
    }
   },
   "outputs": [
    {
     "data": {
      "text/latex": [
       "$\\displaystyle \\frac{\\pi}{6}$"
      ],
      "text/plain": [
       "pi/6"
      ]
     },
     "execution_count": 25,
     "metadata": {},
     "output_type": "execute_result"
    }
   ],
   "source": [
    "dic1[theta2]"
   ]
  },
  {
   "cell_type": "code",
   "execution_count": 26,
   "metadata": {
    "slideshow": {
     "slide_type": "fragment"
    }
   },
   "outputs": [
    {
     "data": {
      "text/latex": [
       "$\\displaystyle 23.601702192173$"
      ],
      "text/plain": [
       "23.6017021921730"
      ]
     },
     "execution_count": 26,
     "metadata": {},
     "output_type": "execute_result"
    }
   ],
   "source": [
    "Bx1num = Bx1.subs(dic1).evalf()\n",
    "Bx1num"
   ]
  },
  {
   "cell_type": "code",
   "execution_count": 27,
   "metadata": {
    "slideshow": {
     "slide_type": "fragment"
    }
   },
   "outputs": [
    {
     "data": {
      "text/plain": [
       "[0, 8.66025403784439, 23.6017021921730, 10.0000000000000]"
      ]
     },
     "execution_count": 27,
     "metadata": {},
     "output_type": "execute_result"
    }
   ],
   "source": [
    "X1 = [0,Ax.subs(dic1).evalf(),Bx1.subs(dic1).evalf(),d.subs(dic1).evalf()]\n",
    "X1"
   ]
  },
  {
   "cell_type": "code",
   "execution_count": 28,
   "metadata": {
    "slideshow": {
     "slide_type": "fragment"
    }
   },
   "outputs": [
    {
     "data": {
      "text/plain": [
       "[0, 5.00000000000000, 6.32405704239262, 0]"
      ]
     },
     "execution_count": 28,
     "metadata": {},
     "output_type": "execute_result"
    }
   ],
   "source": [
    "Y1 = [0,Ay.subs(dic1).evalf(),By1.subs(dic1).evalf(),0]\n",
    "Y1"
   ]
  },
  {
   "cell_type": "code",
   "execution_count": 29,
   "metadata": {
    "slideshow": {
     "slide_type": "fragment"
    }
   },
   "outputs": [],
   "source": [
    "import matplotlib.pyplot as plt"
   ]
  },
  {
   "cell_type": "code",
   "execution_count": 30,
   "metadata": {
    "slideshow": {
     "slide_type": "fragment"
    }
   },
   "outputs": [
    {
     "data": {
      "image/png": "[encoded data removed]",
      "text/plain": [
       "<Figure size 432x288 with 1 Axes>"
      ]
     },
     "metadata": {
      "needs_background": "light"
     },
     "output_type": "display_data"
    }
   ],
   "source": [
    "plt.figure()\n",
    "plt.plot(X1,Y1,'-o')\n",
    "plt.grid(True)"
   ]
  },
  {
   "cell_type": "code",
   "execution_count": 31,
   "metadata": {
    "scrolled": true,
    "slideshow": {
     "slide_type": "fragment"
    }
   },
   "outputs": [
    {
     "data": {
      "text/plain": [
       "5"
      ]
     },
     "execution_count": 31,
     "metadata": {},
     "output_type": "execute_result"
    }
   ],
   "source": [
    "lista=[1,2,4,5]\n",
    "max(lista)"
   ]
  },
  {
   "cell_type": "code",
   "execution_count": 32,
   "metadata": {},
   "outputs": [
    {
     "data": {
      "text/plain": [
       "1"
      ]
     },
     "execution_count": 32,
     "metadata": {},
     "output_type": "execute_result"
    }
   ],
   "source": [
    "min(lista)"
   ]
  },
  {
   "cell_type": "code",
   "execution_count": 33,
   "metadata": {},
   "outputs": [
    {
     "data": {
      "text/plain": [
       "12"
      ]
     },
     "execution_count": 33,
     "metadata": {},
     "output_type": "execute_result"
    }
   ],
   "source": [
    "sum(lista)"
   ]
  },
  {
   "cell_type": "code",
   "execution_count": 34,
   "metadata": {
    "slideshow": {
     "slide_type": "fragment"
    }
   },
   "outputs": [],
   "source": [
    "def plot4barras(an,bn,cn,dn,thetan):\n",
    "    dicn = {a:an,b:bn,c:cn,d:dn,theta2:thetan}\n",
    "    elos = [an,bn,cn,dn]\n",
    "    elo_maior = max(elos)\n",
    "    elo_menor = min(elos)\n",
    "    soma_elos = sum(elos)\n",
    "    Xn = [0,Ax.subs(dicn).evalf(),Bx1.subs(dicn).evalf(),d.subs(dicn).evalf()]\n",
    "    Yn = [0,Ay.subs(dicn).evalf(),By1.subs(dicn).evalf(),0]\n",
    "    plt.figure(dpi=150)\n",
    "    plt.plot(Xn,Yn,'-o')\n",
    "    plt.xlim([-20,30])\n",
    "    plt.ylim([-20,30])\n",
    "    plt.grid(True)\n",
    "    plt.gca().set_aspect('equal', adjustable='box')\n",
    "\n",
    "    if (elo_maior+elo_menor)<=(sum(elos)-(elo_maior+elo_menor)):\n",
    "        print('Grashof')\n",
    "    else:\n",
    "        print('Não-Grashof')"
   ]
  },
  {
   "cell_type": "code",
   "execution_count": 35,
   "metadata": {
    "scrolled": true,
    "slideshow": {
     "slide_type": "fragment"
    },
    "tags": []
   },
   "outputs": [
    {
     "name": "stdout",
     "output_type": "stream",
     "text": [
      "Grashof\n"
     ]
    },
    {
     "data": {
      "image/png": "[encoded data removed]",
      "text/plain": [
       "<Figure size 900x600 with 1 Axes>"
      ]
     },
     "metadata": {
      "needs_background": "light"
     },
     "output_type": "display_data"
    }
   ],
   "source": [
    "plot4barras(10,10,12,12,pi/4)"
   ]
  },
  {
   "cell_type": "code",
   "execution_count": 36,
   "metadata": {
    "slideshow": {
     "slide_type": "fragment"
    }
   },
   "outputs": [],
   "source": [
    "from ipywidgets import interact"
   ]
  },
  {
   "cell_type": "code",
   "execution_count": 37,
   "metadata": {
    "slideshow": {
     "slide_type": "fragment"
    }
   },
   "outputs": [
    {
     "name": "stderr",
     "output_type": "stream",
     "text": [
      "Widget Javascript not detected.  It may not be installed or enabled properly. Reconnecting the current kernel may help.\n"
     ]
    },
    {
     "data": {
      "application/vnd.jupyter.widget-view+json": {
       "model_id": "d9883a8427b64dd9bf326c14ed594138"
      }
     },
     "metadata": {},
     "output_type": "display_data"
    },
    {
     "data": {
      "text/plain": [
       "<function __main__.plot4barras(an, bn, cn, dn, thetan)>"
      ]
     },
     "execution_count": 37,
     "metadata": {},
     "output_type": "execute_result"
    },
    {
     "data": {
      "image/png": "[encoded data removed]",
      "text/plain": [
       "<Figure size 900x600 with 1 Axes>"
      ]
     },
     "metadata": {
      "needs_background": "light"
     },
     "output_type": "display_data"
    }
   ],
   "source": [
    "interact(plot4barras,an=(1,20),bn=(1,20),cn=(1,20),dn=(1,20),thetan=(0,4*pi.evalf()))"
   ]
  },
  {
   "cell_type": "code",
   "execution_count": 38,
   "metadata": {
    "slideshow": {
     "slide_type": "fragment"
    }
   },
   "outputs": [],
   "source": [
    "from matplotlib import animation\n",
    "from IPython.display import HTML"
   ]
  },
  {
   "cell_type": "code",
   "execution_count": 39,
   "metadata": {
    "slideshow": {
     "slide_type": "fragment"
    }
   },
   "outputs": [
    {
     "data": {
      "image/png": "[encoded data removed]",
      "text/plain": [
       "<Figure size 864x864 with 1 Axes>"
      ]
     },
     "metadata": {
      "needs_background": "light"
     },
     "output_type": "display_data"
    }
   ],
   "source": [
    "\n",
    "fig, ax = plt.subplots(figsize=(12,12))\n",
    "\n",
    "ax.set_xlim(( -20, 20))\n",
    "ax.set_ylim((-20, 20))\n",
    "ax.grid(True)\n",
    "plt.gca().set_aspect('equal', adjustable='box')\n",
    "line, = ax.plot([], [], 'o-')"
   ]
  },
  {
   "cell_type": "code",
   "execution_count": 40,
   "metadata": {
    "slideshow": {
     "slide_type": "fragment"
    }
   },
   "outputs": [],
   "source": [
    "import numpy as np\n",
    "th = np.linspace(0,4*np.pi,720)"
   ]
  },
  {
   "cell_type": "code",
   "execution_count": 41,
   "metadata": {
    "slideshow": {
     "slide_type": "fragment"
    }
   },
   "outputs": [],
   "source": [
    "def animate(i):\n",
    "    dic2 = {a:9,b:12,c:15,d:13,theta2:th[i]}\n",
    "    X1 = [0,Ax.subs(dic2).evalf(),Bx1.subs(dic2).evalf(),d.subs(dic2).evalf()]\n",
    "    Y1 = [0,Ay.subs(dic2).evalf(),By1.subs(dic2).evalf(),0]\n",
    "    line.set_data(X1,Y1)\n",
    "    return (line,)"
   ]
  },
  {
   "cell_type": "code",
   "execution_count": 42,
   "metadata": {
    "slideshow": {
     "slide_type": "fragment"
    }
   },
   "outputs": [],
   "source": [
    "def init():\n",
    "    line.set_data([],[])\n",
    "    return (line,)"
   ]
  },
  {
   "cell_type": "code",
   "execution_count": 43,
   "metadata": {
    "slideshow": {
     "slide_type": "fragment"
    }
   },
   "outputs": [],
   "source": [
    "anim = animation.FuncAnimation(fig, animate, init_func=init,frames=720, interval=20, blit=True)"
   ]
  },
  {
   "cell_type": "code",
   "execution_count": 44,
   "metadata": {
    "slideshow": {
     "slide_type": "fragment"
    }
   },
   "outputs": [
    {
     "data": {
      "text/html": [
       "<video width=\"864\" height=\"864\" controls autoplay loop>\n",
       "  <source type=\"video/mp4\" src=\"data:video/mp4;base64,AAAAIGZ0eXBNNFYgAAACAE00ViBpc29taXNvMmF2YzEAAAAIZnJlZQAD+j9tZGF0AAACrgYF//+q\n",
       "3EXpvebZSLeWLNgg2SPu73gyNjQgLSBjb3JlIDE2MyByMzA2MCA1ZGI2YWE2IC0gSC4yNjQvTVBF\n",
       "Ry00IEFWQyBjb2RlYyAtIENvcHlsZWZ0IDIwMDMtMjAyMSAtIGh0dHA6Ly93d3cudmlkZW9sYW4u\n",
       "b3JnL3gyNjQuaHRtbCAtIG9wdGlvbnM6IGNhYmFjPTEgcmVmPTMgZGVibG9jaz0xOjA6MCBhbmFs\n",
       "eXNlPTB4MzoweDExMyBtZT1oZXggc3VibWU9NyBwc3k9MSBwc3lfcmQ9MS4wMDowLjAwIG1peGVk\n",
       "X3JlZj0xIG1lX3JhbmdlPTE2IGNocm9tYV9tZT0xIHRyZWxsaXM9MSA4eDhkY3Q9MSBjcW09MCBk\n",
       "ZWFkem9uZT0yMSwxMSBmYXN0X3Bza2lwPTEgY2hyb21hX3FwX29mZnNldD0tMiB0aHJlYWRzPTYg\n",
       "bG9va2FoZWFkX3RocmVhZHM9MSBzbGljZWRfdGhyZWFkcz0wIG5yPTAgZGVjaW1hdGU9MSBpbnRl\n",
       "cmxhY2VkPTAgYmx1cmF5X2NvbXBhdD0wIGNvbnN0cmFpbmVkX2ludHJhPTAgYmZyYW1lcz0zIGJf\n",
       "cHlyYW1pZD0yIGJfYWRhcHQ9MSBiX2JpYXM9MCBkaXJlY3Q9MSB3ZWlnaHRiPTEgb3Blbl9nb3A9\n",
       "MCB3ZWlnaHRwPTIga2V5aW50PTI1MCBrZXlpbnRfbWluPTI1IHNjZW5lY3V0PTQwIGludHJhX3Jl\n",
       "ZnJlc2g9MCByY19sb29rYWhlYWQ9NDAgcmM9Y3JmIG1idHJlZT0xIGNyZj0yMy4wIHFjb21wPTAu\n",
       "NjAgcXBtaW49MCBxcG1heD02OSBxcHN0ZXA9NCBpcF9yYXRpbz0xLjQwIGFxPTE6MS4wMACAAAAT\n",
       "qmWIhAAr//72c3wKa0czlS4Fdvdmo+XQkuX7EGD60AAAAwAAAwAAAwACHzBq5R7EkyPQAAADAATk\n",
       "AN0AgwBmAIuaf5JE6NWYArq37DJY5wGFFfcrtMOigUSuZ3KyCDumbgnnYTZFIpZzD+ADMI5Du/ta\n",
       "xZ16SIc+o6Rr017MdFg6tnV9hO1YshILf/Emw5iATv5CUb7KddelnCgqxbD04ehfdkQNcsjFrtzX\n",
       "3w2F9Kd2J7irvgkxTheV5lmzXRAEdQjTusDuXje0U8z6r4oesfHz/o4KFubXA9Q/uIn8Fo98/AhY\n",
       "WKpk0+TYNgBSzaEM4u9qPWNaRsl5o3+VsBBIhKHYCJvOVBslpfD/wH4vAmVukJ2oXlMeH9uhB5F7\n",
       "3L+EPbr3mjdlqlcd9mCJ1gUZwOKRDTkWainVOWDtBBUUMSOV4d0Y4a8DGzkA4dMAAAMAgGABsoAS\n",
       "jSGGAozcnhCvfyDvT5mQ+VZiJhMiWw967l6i/0QbMp0Kwt9ARuVmmdKSEChz7BRwdKHNw7zaz/bH\n",
       "UFNB6Jn36uvL+mZn8OTe1xu8/GXQSOTVH4uP/oOcd8NUgFXfWKOD7/4UfVC1Ec8qd9cofwSoLsdt\n",
       "IYHmLmnFFdwZ6vDgHc0x6eVlsMo7dBfgVYfzXqOCkOd1EH9hIiMDU2qfwYfe+5r8Bjt/T9LoIRVV\n",
       "msWE/18UscmejfkJxJXGmKXNoLm5pNu4leg4m9TIB/r/DijTCvj9uynZJ+V2lbApfdB+hJoWcza2\n",
       "L567bwUlFJnajko26OrEVhLta7OD3Ffd4QT906at6aqiVrGNqJOz/AAAAwAAAwAAAwAAAwBmiVIY\n",
       "etQfWuMEcv2GMBkmarRGWymt1/qUMUjHHMOLIBu1hP/6UiapyLM2T+x2a7aRdlpHauaEUSZqCWAa\n",
       "zZcT7dkCAvOjGzA6EEdIdD4qrpIOvhWjTvDtAcJW+yNp6FT7Vd7atiOZeZua5jokAqxkVpWnV7kz\n",
       "x/00rDucyNv4p0l9hFt85J90cDcWYbmdhJ59veM3CO4K0xSKEVc7NGUevWXRQgYxVUGZdq2kHu9A\n",
       "5IGAkSgfec4zWUHc33mZHh+ZoOcjrNzI8IgzxLCR42P8kRszX58KMcNoO07x2BGkvJ20El2l3o74\n",
       "ePBAUmP+kv+1yP1RU7jaGNKkeXYQNlEKbTC9ovNd/i4JYmYyONR3ECtOMfrrdUwrt8tmH49ZCrx1\n",
       "8/1IkxkObeTbHkDtf61voI+jsKFpOPngyuhZbtEytTqbHfWwAupB0kzcEoeWCiXycQSfXkTzOgAA\n",
       "AwLB/HyVoWPuRm1BKR5MLeikrmleCfx5HSwyXWEvzJc02wiR1JKnYbhkZ8kJ7E7dZXHKwwYV/tba\n",
       "Cemx2PoJXqWiZnXxd1P4cMATZ/xhSRlHk1A5Zr+iYyYmrq/b0pKd++TDO7Rde1b7AAAEcx9S5m6I\n",
       "t4Rfh2ErUkDnAXOnDDxTHhtfGD6CDe05qugKXV1tvFfExE1I9mrO2GuFuF4lngg3Vg62g7K0UmEu\n",
       "UTGzZVZQeAlSFSbYnpbuhYgtHkxErqRsY7BSONNlEsHlGuzFBs678ZjY98uPX6P0YMFAQABeOH9u\n",
       "f8hVwID+GXcpFmnin8+EDDIt/MKb/vxE3nucHj+ebPr2//8SlFSKq4egPweNnN/oO6BMY1hYPJT/\n",
       "8/tM+X3Jv5sFPnWA2uaFqBhOklV7UA+mD+VKEUf1ucHpxrhcB2tyzV3uu96waRNsBqqsN7HO9mIT\n",
       "FdumuADhZFiekSJ8PQH6KfM1Gyb5GjlQwkVPkbkcUHeWtIRQmU21GV8uX8kji4rNcGo6F2R30DUc\n",
       "q4LPpR8LZZrLhHQRnFKr/xumpimVSodaCA6I5gg469BltijnCsocVQrDlCJkzYsFKkmANKP6u4N8\n",
       "NsjqSGfUggpxQ8aVfoShTxDb6Loo+yB35uoj3dP10B8kMHfs0OXIrK/5QptsUflC4uw8lVjtcTRj\n",
       "AHQ8iUUOkpbugIz0qIyTwD/df21UIg0o6/W04gAMG/A8z3G79aOatXsNjixO1cCop7uGe6tTJ5Se\n",
       "LSeCUCXICDYL8wYuAh0PWySSiCeXUjSFj2WrZi67CLyFHVYna2Xz8tAaAeNVlaiLacqQZrtNJaOV\n",
       "85+crbEjqi7X0SNzzYldSD7eO/wyr16HUmDvKb/abaEznxD2JdN+i4kterW2/2xJIvrE61Bop7NU\n",
       "QWgz+5Z48iOXHZFJ+bjHKfilmkcLnBfptuWSBSpFaS+Drtk7OP6qOknNDQJsFcSQzB+qjVUBfFvB\n",
       "AcLMdMGLetrDbFLZ8S4nWW4dM2p5HW9rNnSCyysJXeiBbl2akgjtOytCNrtDAajoXFQdC2NXnAyI\n",
       "hZw6xwWlUm6hcFD84hj5dSZ3mAAAAwCUF5ArTFb9GM/W6cjeFelF9X93P5cldPLJAD8PKirA10Rr\n",
       "RUhKYN9YZkButuX4N6SbJ1oWB7QwESi4qrOxH5+SYunszhL7an6g5grgsmFeVW2hlxJglDnAMzSt\n",
       "y23MdfuUE6q+iVhAC3F2z4Y+wGnfuXdYnBFoVNup6Qv1I6c/7riKtw3AABnedLqNg4GqpNnXUalI\n",
       "CI6B4rvr274eqwfOktAlTT8wc4fZNI7o7iIAUZKZlyCzsyvr4HcRNxrD0z6to+UJ7TmpD509L+xi\n",
       "AoJK/5Xy3BwGFrBovjiAkBdJFsvhdsyBMcL75OR+SOp/dpKxSbUQ8/uKiLyTihY6MMA9bttP3O3S\n",
       "o5m4ISGABRPBy238BGo0YIJZ1FfY4KWNFLdm9c0FMMt+8yCiMGPab79GodfMBi4Pa5G9nkWZSHon\n",
       "zb1zV4RiAvPXUqi056T16AJBGF6e8nWHKUFITOcIE4hMFXdHU7pMAtCJAjYfw979TBNGdYaY4v9o\n",
       "8YLE1pPomnjIAMQTCpnEX4qUCcJkxDiamatKInWjxZsb3jx9fedP5AMdOdsMjQu8n3YkXHdhAdTq\n",
       "FMKfUh/4XPXRFp7eJOsrp+hJh/mCssEAgJ3WsxB1qv2mbfEagztudat+mY0bLHk6hMc+HtJe4jPo\n",
       "X6+ZY9h8kN2cdLzUEACf2aa1LgR41Kf5aNUJm1hgVi/iFZHHws483BwYxIIj2vNy/dahhEtBGMOB\n",
       "VnAEGWOq+vWYWe/vg+Ib3yegTMS2lorbAOTMfWNL25BzgINPHiB7Y/fUGBFJB3s6i6xGovB/4CyA\n",
       "p5zW8lswl9QE+sSovnNrlnSVQfjvq5mZRxZLP9xkWfHmGZaymjiA/8yoHwA1qRk56of51LE2pm/J\n",
       "UE3z8MMNcHtn9EC5drDkb/tXd9oRySX4qNnP/3/r+RWhubTzS7GOo1lvW3wg5a9c2ss7J4spn2sI\n",
       "MC8EcPFy614EDHpkctgCR2sM4w36NGQOcapjuP47Et0v3QRef3DUAtOnyL7xWxsAa/HmEz+HjQnL\n",
       "dJ21TfOhNqQAmM6HvFDC/KHsd+Xgscd6W97h/zLSa1gxwe6hGSA1p//xCWu8gzXinPiYSlnUoIJ1\n",
       "QNJfmZuOu1Zc4sopW2r4n5H/sj2oQZ6MXNiyX9DkyJEg6tWHlCCQXw/m/Cpov/RtLAZu5QcxZAQb\n",
       "7cMYgoxBw7o7VAS9zg8tw7aJ19q0M6j5MxnuV5FAn5XV90cN9IFTp//o4rE3V9Wrea4V5ERSG5kQ\n",
       "J9+udi5IWCdW/lUEK25rqYzFoL9eS6ZNEtLCAWxwGo47ORlold8+lbxUVO1o+pH7rdENmFc8J+2n\n",
       "sYIU2zFd86JfP5y/hQWzFrzjJIOUr5V1KjwQZ6sQpg2y/XU6+xcpiaAX/vC/0Cy8S5xNNx67fvIU\n",
       "iD5jTaK8AAADAAADAAAaduMyx8wrpgHC9Gy/0FhT+/RaqB9EKyjoFAeBB2nnJSWulS10IHxCWlUH\n",
       "vs4AOxAqbc4NXmGoHN125hG7SasEl4o6vbN3nm/w2tXQ59/B1bdSemwpbUS64twZCjWzmnmiAAKp\n",
       "J1ksD6ePzjXCsC+WhaDzsThDHBiSytY8my4dnpSI1PfChTBteh7OQ2F4Xi30mTvKj06Hp/5StU5c\n",
       "Em7mw6TvVgn07tbKB5/IgSP6ipnb0vPeePyghlvFDSm/8lVst1/QeXA+MuJW4IaIMVoSffq+8G6t\n",
       "+NlssBJh/b/wnWlkttg9jgeSlmXO4Jnajkk1xIZUgQ8WXOyPSSYrZf4XxDIUcCuh1PpxzLE+zTEc\n",
       "dnzrdHh9DjBiv+ceMRpEN0zciEMZWBwdbO+TOqNJ1gcT/G7QUXaxjCWjzqL/S9JPrZuAd6FW+meq\n",
       "iHLEsualgRWcumfleANXRKUmYzbv5X+EPoKl8FGxK58uawnygzbsqbhvl7HzyI6VQyZkz0p3oJlB\n",
       "E8sZa6g/NMpn/NEHO7wKCRnpTQJEMXcrbaL2hwZGKKoMN6LyPgY6KxUd2ods2G4kaixk66xIRrJh\n",
       "3O4p6Qa5NYH13G+FSS4JaRRlUirN/7iPF+vtxggICoXAAE3nKkDgUA5nrZFFH0rchJfduKpfOTGu\n",
       "M1PiVNAcU0DvtTm+mxlzotkydl+f7J72nTSmkpUTYrIISHiCHxABG5kwnMzjOSD6Nrrnyh1Tdbgm\n",
       "yVeg3IsBhNtZ/MNklyUhViGw5RWXLVJV+h1es5v7nF3kHp75WoGl7orSrp6FcuUijmFr1Y1+WgyS\n",
       "NYPyplf75tsrvyzxCaYf6M7LhoqVDywAIeY0E2eo0wSugAAJF3IAAAMAAAMBBctV6r/ZQKCswJoH\n",
       "sMm56y3juNR3H5fp1GuzLGo06PTHRDmP+CRC0OSDAVSRaABf7wjrOUq1dtSx0BRuVZ3/dSrmAOJF\n",
       "KMH6cT0vIej67kr+CtJQvlQlyoTMzGG24yD+GMAybXxFEC+iYrI2wIFwtNs02Avc0bh1qFDTFmPV\n",
       "cyc5PNXbONuDyIHVp6jUj4ZcExCLlQ0Z5nr8E4PQdk/XuvqF2lg+ElEgmPIUchR4yt8Yxz/Tvtk9\n",
       "jkZFHEIprtPQwynxGIFchTtYn9WEFl/CFs2ry8yaKdyjVaaV3QxgrcVT4AyFUry1qn76/ltt4TUk\n",
       "103EovJg9J1x66ebTY5SPv1y3f49Y9ahYr39OuXPA173AnXc3Sz0l1WA/0ORf1QHJgqCLXWqSz2G\n",
       "LdhgSBeXKBLI5BWd1rawAABsL9gAAAMAAAMAACaz4Fm7QiGD30p2Y7Koksz0XvUTQN0A2N1nlTib\n",
       "4ZCPsSm7Y48lDP8vmnI/iyq3UMT2Ggz+tRYYwmPrifRqLcnAu/X4H/dtXfXBrWw5U62QpMvt0HNl\n",
       "+Z8gudzeQPQwdoSemNuX3Kk5S/xXspnBonQZU+fv7JpTb5zjjXWk91okuVuhZ1kINnu9HdOXsmba\n",
       "U6HNCghG1yLB3x/t4/9plenP0SZ3XhcPT9CUZ70NeScUAAFZgorngES4s6TaJD3MiAKb60Q+1c8q\n",
       "kADGbsHrxMS14hQwA0ulYz9JhnLFDOiDUTvSSqtdr95HPGbTvUy3gjulcN28WRHp9MDUkbTKb+fy\n",
       "kJKybnVIzNtkvBNIsAqXzNrSe0LYysAYC/myXDyiJuPyBdqcxvVIUdmBPG6MRPYegR0yek749BSe\n",
       "79Jvxi6wX6sYKjMxOCq+zkQnO2zc4+OwNCInbnUTiRxImGDjkNp52R/SFPBNSkjz4joZIN5u84z+\n",
       "CIyEZwIqhbSXD74pdKXQYrG6FRTq0ov0aWhvL0LkA2g6qfVVoLs8rYgTBrzW9uwszeRHdE9bIaqJ\n",
       "RTTGrcGfT6yFG91/QW9AtsOrz+CVr61KwlIUGLvijZG5wSGSHPL0FNSdytTlK/3izNQL8ES1xSc1\n",
       "ZV/M3S4Rxjm6VbawFjWtB/Jzbqd+W4xbzpQS40UX1XzuBCmVtkfLMnGQaprbQo2uO+INhKlt6Ezt\n",
       "ZKYQgzm8R68Ia5CegjHGCYGM//6URc8q+jF/sdjYrwjsDcW+W+Lw84SVjIs9qzIOdXxGNeai+V9z\n",
       "2ik0jTtxnUDEZN6GX/3/hZgpGKdSuM4mxDFKYtBQTHrQBT8pxzOSfvrfUiq6ECD+Tp1XhAOinAuZ\n",
       "m8xJLXcrf13menvR8xmZEd8NQKv1Wu1Vk2/YEUdeFCeKUDNj0KDrVSlYu4x4IHB//mGI3g66AkRf\n",
       "yjkSuOOV7RQdGxnPPtNH9n4jAjywgXLwEG3VWiBZiQ+rf3sIRQTmi04EA7aZDE0s0h/te7ORg8Ed\n",
       "DIFCmVpGkV7NQs/cDyJUxu87mFvSzPFZjLJbJC2IgHdyZZDBnxkiQ0WsamxiPMBT/jHwNORjGZ/w\n",
       "QdPQEY2rpNrmKKtGr+hJUelVIjGNqMzpQU1mVtnWH9b/juIQNuujcvz6PyfscPlxYiHY8bSxvbd2\n",
       "XpnZR4oA2bZSpY+9BoQG1Sl08fQ+xbChnR3s4rm72R5eaQXWHqj5LyUp5nb0Mcl7XzNd0mlohVhc\n",
       "KFKHnDdtf+nyndSMSVIi+PJALKANBKJ5PIXXM7vNGcfcbUAoTbOQBeevUxTgIYfG4aXxYORZKr5z\n",
       "b1oynknRUpdphYzMpw9ZrwtgKTU/6YEwqR4y7cWQ+3zUGtkR2pXC/sjI1WAGqsONkTqqOxJGaoZx\n",
       "hsODuuVjKyVIFuSivuLyDjKheF8VyTDozfgWxsZHyX1yWteSknavqQtxIkjRmYTKloRhr15jQTZN\n",
       "UxtOES9G6o70GtU6V0CgUEVpvPe3GtoAd/adAvA+cXU7WEzxlY7PV9ta97Z0VHJn/b+iy4WAAwOe\n",
       "AO8rAAADAAADAAADAAADAAAW8QAABNdBmiJsQr/+OEAABh7EkAI9tMfukAnjdCrvFb/AIx4hGmKP\n",
       "lTYPY24dMUajP+q/mw6gUXdvKLq3R/8AJ8yIIcVoz04kl+C9u/XVAX6JpR1SK3NXxdoBOAGQxBXM\n",
       "H+VVYdrV21PSppgofMwxyoWOFHpQMapz9P4NQz/Ud9iVomd4OnkZkozg0MLI0tOvNAZLha4MERSj\n",
       "skOYi8mhpfT2Nur6J5fPDuOdiCSw7DiOcCJn0nR+HPrYNVSn+kKewBZdWgJnt/TWqQ1cnN+G4Sw+\n",
       "KqwgM1RUFapUVTPi9TLTDxHXu/9rXnMTQDC2yawjVv531fYPMvOOUyUv/w2iyXq7B1yB5WodHbGr\n",
       "QqDDP0ojmj/C3CP0vuOanTlUC/CM3o/tfuGNe8NycdkBXijILikdySqpy+mgFlKSJLwMl0Ify0SY\n",
       "6mnukw/6eqBCy0D+f9DDCk3cM1+6HmSdRY/XLtkaWQiNI2skILUwYV+tM4PgsWn2f7mSpw2wigZu\n",
       "F8OAGWKww7hrHv80LzcAy1U12N4Lb0iN4NqIeXITz7sVUVvct0gDr9tRY2HkFgnd8Y8WipJpOsv0\n",
       "ZbYQu8JlY0770/ZdubttC1AJ8fYcncJMQ5nHPHA9bnYwUI5Y5+xVzrgFXc6GSkL5c9e4W/TPnm6E\n",
       "8Epnync/ox7pW28+2X96PrUoxFTq3ycgExpc7BTKOdLZdoW2/z1zQu62EMkjs4F7qs+KvK8jOE3r\n",
       "v3zLHl9aQkDws5hj7S4FORltSHNYDgVGpHt+EGxlGXyitGkrhsLz4KNc0CgVyYAX1TNjNxl6eGGa\n",
       "ILOUPEjNlm7FV7kjBt6u8PCJziNEz16rbuXTaagThvk9KYKvf4K1zHVV9Yu/6FKI1d1waGQpfrwb\n",
       "BtlMfzXRxbeEp1IWJTFb1yrvIXe3TBCT9Ffxy7LxzuTW7aLcKhsoYPFcs3ho9LVTGBPSbbnt4PzU\n",
       "FST6tloeXozlPo2kpO9bF09hmzWOpL7kgIAD97e7lWks8+oV3yhuhglA5ilBTllIrqNq07//0FMa\n",
       "H6Hbu4BEuRexLwy/Ki0CnS3nngL42AV3MGOuNSULQGnmbZkCyCUntkwi0Y5zIr0L/bbd1nAoSqsJ\n",
       "YkefLbx0OIrMLyryJwjjNdh4FqpXcXgWuU/3E4Msv8bwZFh785S49q9Ej/4UprVMY5mZ5nzPwgnN\n",
       "1qlQaG1lGUmcbA0VQgAPX8u9O0y0CC2NKuA330DCZoAQ7r64BHsMX/GdxXjKRxnHkzpxeyraalnS\n",
       "a+EDA1HLAO+LC/iDbS5yiygX9NKDo74bhmFJyMTE/pBc730FunATcObdBrzMZc9seHsS3ys1wxbL\n",
       "Nm/wZU0GeTi+Dz80wKJZcMrOfMG8eLyI7wFFCRKwm6O1LNmrmlWusWMPevCQcSDz+2s6dt17Qjjp\n",
       "qjtCLdqjWyH6p4cE2gZhsttmlHvyQKA2MOVsg+HbPn5D7GHuDf63WW/9fGC/Vh6Qn7WH1xQJ0xEn\n",
       "niKrSNuMjYZaRqOIyJPUsVEJS3dULKd71ALZLkZiIrfb4MYEspGKd1yujguZF+PsGwCUkpS33Pz7\n",
       "GMO2isK11gyHaiQIVWCJSiTwfWDrDnHRcEzBaOkG8ABgV+XsqsX5+YtsHY165sHkIgnemdywBFaO\n",
       "jlJmdC8AG1AAAAFVAZ5BeR//AADN/XFO4Qo8GR/ZNjNvtEOTrqJpGvHcDjMUlRgyXjaJu10NxoVa\n",
       "9c8Vy3NIp1n2IpDVEGXk+7h50uAN7FkmcQiIMEM8i0R1mPAnsYnFObT3+544T+7uXC5/kmF6BOnQ\n",
       "3e8+2zvxrkAZh5omAEiDGHo2bIWxQM3a5+u6oUXcqfEHp9EMraAhSriRnwUuXbh0dokkZ+l7JMNF\n",
       "XFUHBNLzhqaHSS/5d3h4mVjd+/YqrRfIepHvJckHr89gC9r8tY+z9ztXrR0zRtxT9w+OkhyS0ttW\n",
       "ENMcIaL4E7sT7WyGdvXf+66PAcafgSXWVl5rIdx8M1Enr5ttv0koSvn299dVhltuCDKMIsqkPIpM\n",
       "EkuGew0/Ka1dG6I9+jqxl9gwVySCKjtdqavqtBTE79+hnLNPJHEDiV+EHxHVxI4An5KpI6I7QxRc\n",
       "1V4YGjrU3EKADekAAAMZQZpDPCGTKYQr//44QAACo9ShANLLbijxOBrTsW5dlvsL6MNxiRtgFZH7\n",
       "p3unZzuBblrXMx3gXtEvXBnLSjkNeq0eDk2qte4URyQgeHpjXj+ueW08J7TZvl/nBm/GNBlJRPc/\n",
       "X892CFDC5u9YMB7zfBiymKd4i8dKUl0h3zfqcYrp7uf4pMCqrEyHW61w5jy1BuquT1xfC+JM9vtm\n",
       "O8tGMwF7LLFdc3Btorn2k8o6PEZqrxjRYvOmw4jmQG6N/wmNBtuMWLMkz/3brNYn2bFO2ALXRoRo\n",
       "wdkzt94zt+1qIf5syjTBCnS9t2hamA99ksq2oYrnc3a35wWyw2bqRMPfPcpUVAj43w0PgED9ryZa\n",
       "mOENzr2mK9Zjk5HONhYotqCjbO0fxatPPLDueYxjoXsmTE06ZGFaUyo2Yn6o9n8MV+reDBlekfF5\n",
       "x52h5n76qQvlPzgaAZ9uY7jPt3op59qWpTC4vesnlJ7ZuuI3vmz9Fmclqj2P8Wk8kd20I2bdT6BL\n",
       "8O/E623nwux+Zxx+zMGWb7RlK1q433KxKph1vIXMxXGkDxQYqIKSUqXKAsF6+KOLVbx78Ch9BGTx\n",
       "rhnz+sppRaXG2PCyH9+mzjQ6Wzz9FLzjXHwAG4WX/NvT/8/fRyKtSGeK9187/sD2iChVNEqY4D1E\n",
       "LiJQBmSsTNvKhUhvGOCOuAVSs8KAGcJzh3OzaKRn/SGBU+LdJ/a35OPoIyYTz5xEJJauRyuBzpj/\n",
       "jetvbP6zzdHuwNUKONrwuT5K3xbTsSMrZlWFCzO9QU8YHyoK2j0dPmgtdt0rKwmNAYuoWUdqUUPH\n",
       "0WCNidRLAnqA0BRY0WvTIuC2scJv+s6EgFkjkCh7/SOSeobu+fUzP7LyFRfTbTsDIvjmitTJXRF4\n",
       "uDhC86VtX5YOuHZbH9RzVFSC9dSh23AhaenMWjDvgNmOKO1/iH6btMfrjt9IJvylYtqVvZP+LUNX\n",
       "nW3Tv+RBTL34N/AXKf5jmtKgCk0PLA/Yj557XeCnuLbyst7oWqTW0yJmZbALOY+uOwTyIF16r7jE\n",
       "lysCFzKSIgfHIAAAA8dBmmVJ4Q8mUwU8K//+OEAAAVr4cBIgCXV1hneDPbQAc0XRY47Qzb2CNL9h\n",
       "QcGYVI9W5ybVLA2af0LvDxH+bl1hSmSRF+DGrBn2mDSAp6d6RpMZyRnoiIdcd4z5cT/AZwNr5ll3\n",
       "5SGc/9MObgOqec871zflzwUOkCa44byN7WFXoDoG+sfiR8XNt5wXV88CiJ1FQJEtFFolmOio0P0O\n",
       "XmTsoBxU3/pLNtrTe1/OkgO44Pl0taSGW2d9p1hXdlsdUJ2+5D+EUOoxoiCio4KmdQJIB5qjOVpk\n",
       "3I+IaG43C6HGLNrnjE5Kzn8EtdSMROLNruPFcY2ar1s7sKSvf3xeuLcerAAfuQifsnHUzi/8tlZL\n",
       "eeCjhZ433dRg8X4eV/xYK/kGy9yGYtVlzFf3VIxPFIJJ26h6XzfX859QJPG4xApd8uCCDwjNxEdu\n",
       "ArBs5BqQuHny2zUZ34A9t8gciI4KWRsT8ca5zYjgniodlAcMhVjwI7O19zPiZZFM602q4+P+3xJD\n",
       "udt3lmc/5HpOK5VmQuO+H8bsRpUGiPmq4eZTI47G3bovdXw7/+EdGG3SjZF5Ytfzi2gVICHZuRKm\n",
       "SN5eHgraBE8/AXUyYAPLNQ0BAYVZSYxm3UtCpIrZCUOdi0QXXL/jcN2xDl4tQtOysCFTUo+C2+Qt\n",
       "z1eV2qEWyyDLfZ+ONNvrLlZnPfgWy4a/FKO5c2t7ClSn4FAK8audN3tlYo8otCEANkmoJlB6CMIL\n",
       "LjeJLIGdEoq84vxQ5U19qbxQAA1qX8EIHdBmr6sME3X60pccKwTlrR/bBHFjEdFPv3Y6lYFOJMsC\n",
       "paKkniTp3kf0BJ9n+6qcVkIHRQdFPvLsvZEg/btVULimJu+HaAoF/bScxNpkA0bSRRm7Atqi0ZGa\n",
       "u6hJSDFPyGSpKNKfu2OZmD2JGZ12QYTleC1rLEF4ZVWznoG0/7nxiCpQUKc9cvsWc4jzkatN4YFB\n",
       "QPTNhvWLLgCDvun3fh18e2JdPtCVsMbGU7ywhmyM7kFdgBWzO0wvj6gx3W29qGNFTojM7ewNeuJH\n",
       "y1LC/KualZkUImKaS6FmXE29MjnHnY5RSrHgdLYv7AtTeSJd7yn+aoKtwxsmzJUxqxDICsL55EgA\n",
       "za9cNLAtFv2vswFAcqQk2IPhMIdrehC8gdqIrZQJg/hax7EBEPuogJd3ReyyFA3NhRM/r2jLj1vT\n",
       "QYN9AqJFw1Xn5v3nSVp4kvH3JCg+KbCGJaaH0gq/4G0e5LFr0wxjnw4jzJ/ZfyxDJMBQmBx5MnuM\n",
       "yrynV8a5IoqLHsUJAAABqwGehGpH/wAALWnvKWth6ZcEIN7wcgjal9MMnZCAFqaObMiK7klmFV5I\n",
       "UeydKvcla1UMNkVfKAYn3jPE2Sn5PG5utK/8Vs9UGAS9ml0ey9SM2gmd3LNPjF+kStQ4WVkjsbF3\n",
       "ULkbbnzAmmIXKUy+UV8B+v0Fg4L5AK88KEULiWV9Ao7warLh8GVRR91TJ4T1RKPpmWk9fQsPRxlF\n",
       "gzbZy0kOSTEuFIDQQqp6loAiWcIM94zUx0aemmcBJTeK9Om+Ac6HvVkzcYfAGTtw5pcHytUS7o4y\n",
       "wg+J0Pi9UW41EBMvbdW6C0LpnxxHJFGSUY/pPaTyf+fASUec9olzl0H4sGE6cSuuGujbo9qJi3rT\n",
       "SKHLYve8hJ7paiXOEotRiG9Cwipu8o+dNvFfLLfdboxXpSJCg8dsL8IGU+uTy08Oc11WB9aAnABW\n",
       "BUx1Df98zXdwAWNQ9KgwSOQO1W0GaT37dvK6Zge2dD0l4Ujst3o5SxP8trFJw9IeEIOwxmoLYx0d\n",
       "Y3BJAgoiwGuRJCByuoDzeTO0vKXelLfj0uJ18XUz4eN6XAGNPQAATPkgtoEAAAJgQZqGSeEPJlMC\n",
       "Ff/+OEAAAAMAMnqpPNnRpMqd3Exer7PeQfNB31XXpChOh8cDbQmXY1DrP2qLEPehDN+GdRH733Nr\n",
       "VY/XZmS7zJ8W18DA3Kt3XZSI/Z31fe+6ktIne2tCH5ZYjbYN8jVCnhuWUuEC7EwuuLgto6Uo3kMF\n",
       "p6GQerdiScVKdIHiVuUjBAKDZ9aIiJJi7GT3/AtRufDqWbdpqwlZ6+JiwL4b+To15oe1mb2U76P3\n",
       "W2+DXY+PTX5ugsrQ4al+M5jmEQu9UIL/dW2UwTHXFJjDNoRRlQtJpYmSbSY9QHqo1kF/GnFWxdwc\n",
       "ur+bCXBTGeVxFZrFLWp3TC+I92cY8op+Azi5a/PXao3bASQ/gglxHHKPapLi26lBNIVnjZzYri6/\n",
       "FBwJXG+LUql5HwZmaF/LHgR3hnGcBbD6azFLnpw2s/P4LvEOVD9rylW4aYZhD0KLk3X0+yB7W3/2\n",
       "M62jqdG3zlObZcdU6ElMedL1qJgwh9QcwiWBCTqdJ8vgk26ag6lkE6eIAyUqsHa2OxokEIRCAC2J\n",
       "mRUHMPrD2RqS64437CWfiCTBIMBBSTLlo0kmgrzMQdtiwsMh8bqp9qqWH25GIfQamElhtxFynct8\n",
       "eKlGWJIHP6fVxlo1g51+4eB4YAx2wJwKMXLFsVfJg/F9sCGddw902Q1g3N8IYlJPWsIdpDRkVi2z\n",
       "/NMYeHTlraTgHYxrURa6Gt7J1G+SE0QuhQU2isXbY+EQLP8ElfYy9QtipanJvZavHkeXHhFBxHul\n",
       "gvBSjBTMMkJavwCzVhsAweZzHdICg+oG48EwLpEAAAOjQZqoSeEPJlMFETwr//44QAACsR0axiI7\n",
       "nNAPWbQYPfFJCk+qVUnoEz0AlXlUEdvNYiMHXWG7w3P8B6CEtaxcDbWMShNcPFZjw8QGTJs1P8nd\n",
       "OtZoWolq5HK3GkYEUhCTc4PDhm571v8JCaA/b6o37qETIaGolOwEk247odpuvhWAFNXZK2MQKvts\n",
       "LKWU8gtxK7ylci3j4gWwWgitbUFnvD4eFzFSv4hPTn07OHkjQKzrxtoOtyeZ0VICvVFLNt+RatNP\n",
       "BaWcbHPeE9grbpu/MLYH7idY1th/6F/FocfqlmYjcgsL9gzs8RXYwkQO7DDRLfXpLCTKcHY1e3pf\n",
       "LL0VkUbxDuGm/rYZbQFlUv+8akptzJstrOw9wLVpBID/PHeH8pliVUhWEZ6DfCDXo9b9+h9Uzkjd\n",
       "1gO7HvHdyIcsrsaTM7AHToTpl78ADqeXBuylBDnmsOkjvnLlYsPXfF0hAfAeyG7y0um6tBXme4E7\n",
       "DhrZaJvI99Tpzanz1H6gaEJTeyfH0eB4Wc1bY1cK1F98CiJsKGzTuRoJDqoOj+QGfOsZtnYpORFm\n",
       "MpNT3eMFgbnMIr05/lojW98xgHP/NfojKSW1d/paBAyLQgue/Ufx+mu9En8aPlI8qi3b/xzfXLUW\n",
       "XOLymbU9iJckwptdnVlwPxUZCnUqVBjVY5w6dutxR8q6kAginsnoua+ajaq7HRLOFFMy8F3whjpk\n",
       "AKZmkCvO8igPYo6MyMchHlL+loQ2vUtf/cFKGKu7T1RUfCmPuKCv3og7r5E2mPlkkwaE1wBuwt9G\n",
       "FmSZ6t1jsYlF8NNupUvb2kbbuvwbfkxsmr1Q3bqg2/mZ86ee0aS6QjOZk4rf7v0Bc2GUZEHKMXsI\n",
       "w5f7OMKukI8SyaI9/ug+mmc6v0gS3y9J+wM+ShT5dtWI0t63r17eWNAIa+iWt9ytofYefPQChoFz\n",
       "PSC3s5d+DWh1wQEkJzXcHwmnUr91FW4009+JlmGFuZyyP7QV+bf4wUHgcsV23zj/vi4fQgs27AFg\n",
       "Lk9u8zsZ6uDm7vEd1QKY3kres2G3g+hDGPhDIm8luCFfFQLAjgNnTOeBbpEZGms6xhu/tEiwOiDu\n",
       "+aYd0Ck+rIFAoXEdSHhJLrmpG9QW14X/6WHROs5SfsLauyaRc0OPNK20E5e28HDDMXdbfpjt4U1B\n",
       "PAGj8nrBIsRv5t86pYSbYeD+wNZSfGFbUknARprCBoibolxtldZhpfrNgAAAAwAAAwC2gQAAAVoB\n",
       "nsdqR/8AAAMADL758+IwMdrcz0FOBI+pofkkAK3d+xFIOE112z7o8EQgPz/mJtFQtATJWEWZWWD/\n",
       "NjzkX0mlKAK6W11zWAOk5Y3kOkt3a7srO1WBwJjP2pAgYTxuTwWZkcWvn7t4w/6uxe+Cmebfu11B\n",
       "i/ZkXYcdOPxGwjT4HorsWYhDvDrA/Sv9uGeCWMVjv4TUE6KqqK9x/KTwcYgueZWHl/+jvPw5DGH4\n",
       "/e1N8ZbosRtjBnirp5/iNelNcq1ZnXCccJcNcFAJvA90qEId8WFW+LApGOOP5JdcXDIvpknvUX/g\n",
       "ccUysvj70b8nj1Wk7ZgnajpdRV2T+K5MnTGsPOji+UAjNTQ6VZCC2ET8B6ZAbTZVY+UVvL2iiaw+\n",
       "Q2lfmHOMJCWNfiMIXN1WAg07zmoi5/PzMkexso5aLiioZnK45fRn09OJmF78y+AOYkgJmm4AAUiO\n",
       "SDZgAAACGUGayUnhDyZTAhX//jhAAALVbDkCoI9oxEEwIHGa37t7GM0RVDOhcr314ZJdxNYFMzGW\n",
       "oRMuculf8DNwW7Aflc61qCL6evO0gEBiEig7ONUsIaBlzH01Pnjz1+nEhku9/okwBXMaF3H4nyDw\n",
       "8nLHIxqs4bUCUbojtN39zMu852DoIlSsRKwJ2MpyrFxvb54gU2JkmmOXrexbEmR9u/3H1S6Kh3bn\n",
       "4ZiYq652cTgh/yvLSsVGL4T1di2ITm2osm9nN4/LURda1vys1X9o6oogRrOvo6AhpLtqZHzDLeXA\n",
       "JL69jc5j792S/5/zkOodIZB899kH/jEhoSptnALOBfm3SvM46vCgCurftcUJsEzWCzfdoyqFvo4T\n",
       "qmuVCbAGVE3iNx0s84npW4ZYQZBoiXzqpUAO7I3NDJq3wn8dK6dRKNkmWO2vL/oPOVvwvmWpVlZf\n",
       "sNmn6o/p8w31PMOe+Y1GzcscHoTHfBABt9C6RcovCQ4IkCfYy5jECzFiWzDSmr8ME7RVE/WI3Ksu\n",
       "jH3BXm8ezGJ+3YEl5PgHGluAw9WiP7DscaaiSqLZXX+XGqI0Di1CsB6vzXE8CUbac4aqxHqwNTqi\n",
       "rIEHje3b38YIkmePKhfcoCzIcnZ67AFOZXuAnzj69FOjqzG/xDdQ0khJmlhHwZh1hETxNqJ/GrB2\n",
       "4BvdrjfnTdORQ/UhA4wd5ZCoqZl45vm9i3fu2rd5UAAAA/NBmutJ4Q8mUwURPCv//jhAAAADADDu\n",
       "6+t3gCJCqgjtiC4g+ZGdT/mr3USXgPqPa9LPpwYbm+zmiCiWsPTxKVt7yo7S6gybmxcOucyynCzO\n",
       "Ssi4y2QLtjSIBD7zL24nYutERV/q4BFe1agqzvGgMx92eaxpr3whfgVTFmUi0OJbx3Bfusfeq5uG\n",
       "3pnBNlWDVqwjKtOWPYjMuRhuHHC4ltM7BLAVR11DP8Ih3zwWtAfqf9LMlrarS4a8YeN/cJjGRewr\n",
       "scBZFei5EuI298O/XUlCd8mWwJIgU5a5o7yEHyfi3V1gHYlN85P5eg2oKnCcIKCUyucvLwW1AipV\n",
       "JScTh83PqrT8//RJsFSpGvwfolU954m/Opu3JHmfJZkAr1yNMWdqZYf00+GlKYv/kC3ttTqLN9v8\n",
       "woRQcLy78nKc/hDu7JVV6FxL62yFqgxHWQN9b/17mrvzILl6KambzDdFIEBwwBQEB04FfLRZecUE\n",
       "HrASz/9+ltNRgQZe9KADwns0LvLuf1IfmYmdQwgXoX0tOY4+KNYg6Totxjw/AWAoQdgcgwH/suBm\n",
       "2GyTT34Hei+cP2A5JIuYsxZvtQqKgo36mY6iFqa6uAevcxbDxxzBkrL5C7HSMqYGsk6PIWsaWqdw\n",
       "eV1rnYK3SuETnwULSqdiLLMBk+PIOCDICFzPFx0mXY+qgP0CKVfVvZAvWNRH26kEPxCqmhFsJlJB\n",
       "gjls0yuXaZY9Vb3YcIo4k4MUxearnWQ47qIzRYMq9rRBTXPp548mcqdsZeh7MJ9t5A9Pptp74brM\n",
       "bfmQ0M7RgDC2nChtA4RfpI+Ln+LSYGf45/2JI7SkFy94Uw8lVywLaMrgKPbGboWclQaIdiNXMswF\n",
       "Jj7E+l9ittWK3+TUdiENw3LYIjHCWyAwJlDlym/D1ocqYx0BXgXIasWRmbv3SnPY0W0+W8R+u2Su\n",
       "kAhsoUgAJhuHcTZvPl0OLGFjoUFf549LSB8HIfuLw9NcEMOKqpO8GCPamxinsKAGYM0yRssJRdNU\n",
       "BFL4YH3CE3loOTbaNsZtdQ1B14ZMpCgcLcQ8R07SGhcW3Z1i02d9iY6yxCbygQ6zfXJhqdr6pteT\n",
       "2EwUQXhO7x3baLh6DyfCMUGeDARt13NBQTpV3S6vTw48/8wicOHEgtKeFtPV1y+b+ZS+h5LAuoao\n",
       "wG6VzFJsbckF3Fl6Ag/NdQuwn7km3cub5A0xp/vn/zXwuwhkFuDLfRqEYrRvUzrq6FFWVf0tJQTz\n",
       "k38zjEqW+ZiI09btgkXfBOE19D7M7MUxCB+w4BR8pYmx+adqBazY2++JxTgVeJtimrkrUM+Yu73s\n",
       "UdpzLaRxNJ4ycgyDy3xXoX+7zlEAAAEfAZ8Kakf/AAADAAy++fHWoY1gYMIpSl3/L/8li91EAC4d\n",
       "Eqx0ljxkZlc8g56evu/jFmsnIu9Bj7c9xm8O12bNdtiXSDBy9P2HP0Rl78lMdshWK+lrCNcxZxoN\n",
       "l3Nyz2/hceYzsDBwUZPpFinMoScMYQaO32b4DGu33T3lshc8GmP82vJT2/0ZL0hlxFiMnC6uHbXA\n",
       "6aF0gOPplWi3OPBDAc2WrysOAEVZsqD1Nugxl0uKyj0UUwjhfcwLXlvX+7DlF6mH9gI5G3xFixEA\n",
       "JnfLtYe/eyQ10HhTFHxUeptvluMq0B4Z1qoYj3bqMXJ9Wmvvex+Krpl/FAfbCjhD4hhLBST0GcSW\n",
       "gmlXtpteJxg2hjVgXMULCEU6QDcmyFcwB7QAAAIdQZsMSeEPJlMCFf/+OEAAAAMAL6e2OhXg+chO\n",
       "5TauoATVK2tcvAYXqNyO4qXrB0JBMfmLSGz3HsoVHCrqubTdHB5NXVkGdl+hn8e/+Oi8qwgt3dm6\n",
       "FSkmrRpdT/svgx+xTA9P1ca5MT/8+a6X25UpGeGbpDum5ZwgksyUQWonH0U8KaehOGu/i1ZCZf4G\n",
       "7q8qXtoQ4fyl+3og6+e3OQPqIvMvcOzmwOuWNmRUDWc+uT69FPcfxlKghhTiDYy/lk9qPTO0jXQV\n",
       "2kOIlRU4mDzQT8F8RkgdcvQUSmG+vgtFY2N9jVa9tWC+x5T3TkbDpfRfTOEKqrinhAXqGDhlmdrC\n",
       "V8BStpzr36fLywGVn1MGt3/20uSqICGCaZOBXDkBfqdVekNSNSktyum2WWWE5l2bpz+E2Dd34Ktr\n",
       "7+aofQ8GFbn51fFd1dHI8iks0dIuq7Y42cyK7FCV10JMuVWh8HxtajV7J6P3DbJ2NcYrHVXqR7Er\n",
       "9vPpn1mCW7q5JF23/FTWiFnYYChty5gs6C0KQrP/FgmlOUhzAijO8EgxDacAygS0ViGJsFvOfiUD\n",
       "pRzP9FZJaXxedk0sUuMjTwkM1aBWwV1RfVf/jpYtOcChGj/i4jHIf9b94B0hy9gqvvivLgp2mAbK\n",
       "f35U4kxKsQCU88qvDm4SkWJICG+xWOv7b73RJvYVLZS0U6p1V927P1mhUpI9221sZ6Xp3PdKViYI\n",
       "8AAAAdFBmy1J4Q8mUwIV//44QAAAAwAyfqcQBt7XLGe2gViIa6IGInXFQZVE/RjxE6AsOvx/IRZ/\n",
       "EVo7DKJKKETichwoTTpNAqNfUTi0GCD5ezZ4eqIyjb8xDtJG10TNThKVCrRjdG3t0LrkHFVBvUyL\n",
       "Xud5o9PT1GvOHdTRAprqpadhzsiqXiVOn3UE6Payatcbrpt2pgAeArzSbJa8z0Z9WYdzLY9HRxE+\n",
       "1tBpQiBclxF3fP0ocuiQx5LIZIMC1FluNfMgS42ZA6+oRdYaPe4bjbhqiK37OTtt/uC6KpsZHV3C\n",
       "RUx1mIgBujEX3ZJepZEUZZScZFyxZ2Qu/l8tVhojYq5ROCRuWjeUalP0aDzrQ4oxQ9JEEYwSPdxl\n",
       "0A1g2/D1CqKe3bQ79v/uG8hOuU6jw4n/anmWN4zHZkAlbvAzSSL/A3a50JjzsMUV1GRnWu6ZovG+\n",
       "mevjenH+S0eYU/poYy1BMW+BFoEhoALwbQyy266f5BJ9T6FRYT8LvAKICC+2mbp5KqZgfDt4sRU/\n",
       "NYQQVWW3RzK64t+sshRn2l7GQAHadFzcomtKUNmEMv2X869VlnLaGARNsqGkUKSLgxLRvizSx9HQ\n",
       "q8k4JxStQdC+n7a0vHEAAALbQZtPSeEPJlMFETwr//44QAAAAwAufcspa0Gi248ACl1/q7Mew12v\n",
       "/issKZVLdhmU7hpCOsmQqQ8SFVUVQ1jFjo9jaxOVjADZSdg3Zc2n+t7J1+NMPp8VjeRhweJ/g18a\n",
       "An+h6h7urOT/emVVWM9mODhKZh1v6DeqoSPQPSihc8w4nkd8zMsLQ671xH+3TZ2Au8bxV5E+EUuQ\n",
       "NxUdS+OCEDYuclkT33J2FxYLsSb18a1kqdWrQHum0clcnoPYXg+TJWgfXi83g6SjktR8kJsp7oiX\n",
       "VfhFink1gFFAH6nqIW40fRWEb6Pnu0kYQsmArVQTiZMXU72+MIyhlGWC5PDi+ExlBWqqih+79QOw\n",
       "ww6S1WrmfvUcq4pv+wIWFCWrR/Gj6+2f4MfrQrollkzqT02ByyX1uCMxemrP3PUExImoU54NrjqP\n",
       "YvQy2pUq6KIFq+EgyQfNAZIqL791SrqWrVdXsNP8j49PrUJHjPkj7K4NX4Smda1O8WXtpAPIB2QQ\n",
       "ZeOQQ842jYk5Att59tuAm2K7hd99gFE7WK3hltbv4dScTdwzQC3QWM+Ki8arY8qWEjYJhrkumKeF\n",
       "ZuPyS+3GnTk5QwdELhoxFaxVsSCvCtL2jVGkSbNjtYtb00QmlNOVSLkZFRy2jGs+Tsq4hSUY9QZq\n",
       "Gswx4KM/Jg+BwMpNGFV11OilBBNUYnpvesAaNf4jl14kE7NkbBfrM/Fl7sEaHhA2u9fDEp5I085Q\n",
       "1zTT3zYhnkjauuJfaJJkeYgdRPL/j9KmPzREGbaz8cifnvHiupXHgKK32KK4xWQZH9geydoEi5ky\n",
       "fm9q4fzj4Bine5yC3Tgea4Vi7rMkN7DPHFLEYy/CYsXjrRrIMcHwPqEkdOoL5QTcJIrIJckMDO5D\n",
       "SzOdqumeBFed5HjYnMNphNhvs9OobdgfiKepPMRTKi83CAWpPX+zfXbH6jsetb6Dhq9lTzsMu4KF\n",
       "cOsCa7EhEVEAAAFAAZ9uakf/AAADAAy++fBwiNgsgwAmpu4dAmOZ1+HYBkiBMSKM7JaieITQ8C8r\n",
       "AIooDCumutQIxR8JIEbKz5MKIZT4NLzVAhDVcukuPoIK4PmOf8CjKLOjQh2yBFhmcBIBQVDwlv4L\n",
       "loa39nvJKckGqvH9Tcp2itC7wC3QvllygdZ6LaLaoxbF/HVRATkUMbuzxTV4aZ3IWwyuIhu8fTFV\n",
       "KWs5GAuTrDSvYeGsHAc1Iw3/QkGf3aLqyAWi9yKpcx7rPAb5zpUpKY2CU+Xpdyx52m72zNBgnAd6\n",
       "4KNACQIyJspziOBPA9Q+Qc0FzIm/JDEaHETVGG21EnpaS1rQ78buuwjToOu1gJqRcTLtV1mOWSX+\n",
       "n4O8d/Zp730r4oKzIp9ddK6Y03bPTPoTuVBiatvGlWWDmCuxAZBPwL4agAAABD0AAAJSQZtwSeEP\n",
       "JlMCF//+jLAAAAMALtjMgAP56Mvtt5yJ6tLnBqW6yN0keGKRsV5dx81Hrvjw5qj9JLMUWroDu9jL\n",
       "/ZtF//yHc135KbOzIKdEqUlf869YwtTwr+86tlv2snTDEgFOyWSDv0CpN6i7k7yUK7fHFHd80BH0\n",
       "MpS9At+4FbN5syakdqNZFen+QkhJiNCFZymaKZlVz52lQWxWlUAL5ACnuXN+U2uuKeJ1nLXLxx99\n",
       "ucXTnxKD+HPHjTp8Gz2JfWjNN6GXIyRPXo/QmZyLvMdREO97CTP6M69cFVw8fj2FGqOxCDGaHg9f\n",
       "euB07Le0hBemeyt53By2luoOVi1GChPlaNL7/XC9Wd4Vd7W6TO14J5UxYaAXC0Et8VLRibTKfQ6q\n",
       "uPwzsqKluJpcMx/Fnq1JXzRi+9aHeOvpIz4DDiDd7FwGUGD0Vc1jr31eK2hEHiFDIhYcNteec0R0\n",
       "1b/fJNC4c3QbrtBl/I1Eki2z0Z7ewgYx86SHRVJjJ3oABL1dHSFkkxNr0TNPmcJlZ0qVV1KcqauJ\n",
       "g3txHFRS5R3dnwaVUOiq3TOhgwstlUT4rSiB5hqcGvm+gBlqXFLNtjvQhF2QJspohU+Q2J5GKbJq\n",
       "vvI3BXdWJ8747rQd7qpZGSxINoCNUODy5ckcPZ+mQHlqdhN0YDCQa57QE29NzwPtL4OkS+aEbFZH\n",
       "OUhU2kt5dFEYAtZ2B21HM9QkAxk4Z2HWG+tiHvbHrK7x3gqgeqsb4YajWcWcW2p02DByQuGnFLi7\n",
       "wjqlTfAVDxBRMrmOBgNIrwLgAAAD7kGbk0nhDyZTAhX//jhAAAADALV+UPqevoIAtcO5gAQfKdYz\n",
       "+K4vcdFnotlEfoTye2Nx3KFKHgNSFW5lr54FousAOH48dyKPNoMHvikhTIWb7ztpvyHVSDtoEs1Y\n",
       "3b/ZJIACm9w5JT4zm1jPKFw61/vbXpN35O1/4d9QS3ECgPNBy68F04cqpLi8PEL1+/9HG035LUL8\n",
       "oKR6W+EXyFn89/PLk0Jwe6TrEt93EzaIDx72hiwC+e3CuertrQH7v/E75sWxpTTeiZaNBxd5TtNd\n",
       "QMTXAIgdbh8MxnFst/sorsGYpeTjltt2hWmgUjZWHkacl5Pc6af8MGPJswAGE92C6b2H9PZWZuzT\n",
       "6aZKfJIJqo6a85AvTLzGkxPD25/MBh5LnjgScEfDddAyITCbF/i/Kdkl3hf/MSuME8t4cy/5C2QA\n",
       "hRI6p+4NO4uDSPbtX3tv61Z9vLe/fQvhXEWdaS9mZiLShYHcJugdEnBuzbxKfpSvrEOjzYaNHmjG\n",
       "gXoLjrnPXDmTA/4dsDWbMuSqBHLgP4ICGKo7TkdqU8s4ozpcatDz/T6xBnMLlgmpdBe2eZr7RGBi\n",
       "RFpCi/DTB37YMkituYejMlpl8b/WQvDcpMKK7rMGv7rgOMj5pa0UsAy91wYZI57WnwkW5lUvInp2\n",
       "82cpG+0uTPA+FEB1xHVELTdFfPcPjZ80yIvlpB0dqOU9dbXohrGPRBghcvQt3qdY3CsR4X4d90mV\n",
       "4TOGJJ1UCJaLbolweZzgtTbabgvnZ7AM8rNKQcJuwO9Urz2yzFKXDDPobdYqoIHXZ5AWjO1xWNRb\n",
       "k7LM2Jcjd1qN7io+lXQvE1BWdhXNdzBR7WT1VqeIJjAvpQAmzPUYi4CnIT8mEqjOiVGrWkjV2Erm\n",
       "WT+ZkOpYjAVxM431Tr+44Cme5BXaH3J1Du6tHP5B5XqJ8vIdzEdYC9mmW7kGNJCUQLjslw2HBhNN\n",
       "ZJVEC2uUd5ip7HJaBMZ4l975k/qPX9VPoky5rbedqzKshfq+grnG0esW+28zqRdgy6xz0lWicU+Q\n",
       "8VeRvwG2Zmvr7XhgCbMHrPJ1dd6qszIGxhKIsxUQHPD1VF6Ht2XQWsBobgncWOtim6i2J6HX/7lO\n",
       "WYGO/0Q9VFjcoLWZfOvcpEeHdKW52YxAgzuKPufRJMhSk2p3PCgsVgoFdyoT1Q1xD0dCAY/FgeXb\n",
       "SSAVTLFN4GcGtGTpF4IKJRGtP4oJTIiOzVmeE34Exui0LHzaJ6lc4RnM21chJhrvDCeAXXmenJFv\n",
       "s15BnMCdNKV3DaVKphpASo2JbRpMBxqVg8ktcsN+/jqwouEZWsMEv0uEnnqFtA4OzO7GJck7d85z\n",
       "jkAAAAGQQZ+xRRE8I/8AAAMADtfDNvFHGJ6ABdRlfUpK6fkwiXp+SYIIbBdFRL6VUcPbO7sLNmII\n",
       "bj0T/n7NJ1ltpgLM9AgX5V+Kj8jx6JEbNapu+ockdNnHzzXymzGx74tH5rD+8w9zN4xQf9MiQVqa\n",
       "73XZLgGz7g1N0Q8lO6a2gmhK3EaOmOXh28V8p0rbwd8JDQDVGgv7WK04b1EPJidsIiCw/elncfU5\n",
       "KRBCD2d9q1b51ri+bmEdz0dIom2mmkWaMNXAsyWPiMEybbB6LMzHe/4U3O47a/PxJTG0SsyTcfoy\n",
       "ZJ6GyxlPNNAnwm/zx6EBI0T0MTVHomwfoImwhzWlDA1C0+Yv+a3qbCluoqiLIH4aNla9KfvM1AVi\n",
       "u01DX9GPWUV1dCpDWRe+icAVT6sSfgwQdFYzu3CpEvV5z5c1K6eF7KJ3SPI2dV9N6hDfTKfYU6TI\n",
       "7NWiw0MV2BvdnMyTrIjjo2E00198HgZEiTh8O9TKQh6Gdk/Oz/vTKucHv/xPjcmUIyUDnZsGHJwA\n",
       "A4x2w44BEwAAASwBn9JqR/8AAAMAFv1jl2wNy7+ogAs8BMIodz23QhCqyPfD30gvuyOhpGHmWeC1\n",
       "Pf1RHqpOQUnFVITUY0azJzoptCl+39DQKxHHiNJa/uD10RiaKkTbbX4VArU2ZMba4bce7NP5YM87\n",
       "L3UIXoup2lnNZTyxTIPnyz11cbt+bdkYcwl347j3V9udFqWhuZO8IdzTcPP1KFeVvHWQMc9ZAIYr\n",
       "r7AjCqWlep6n6Res/NF8rJMGNu8+n6oqHW0sGhXovwyHHQ9tHSqzMpgE7BqxHSiV4vwdP0THfRWd\n",
       "Q1S8FNsQnsrfis+jOD5VH1tR1gLw89letzrpS/vUKL46WYmEQbJvxuOTaSWmXrdg2Fz02pjBNq7r\n",
       "u8TrhJ+dP7Vr2VL++NsxAAADAAADAAADAqYAAAHkQZvUSahBaJlMCF///oywAAADACyQFA46NyPh\n",
       "cAH2P+t6uEMz/+70KjsUOhMAuuYFw/EnkGN8Nj6dyDUY/Q6PWTAjlT/Nv931NkSNYSg7PV+7mNvI\n",
       "t2t1XgGP4xvNSv06W7lnPtHfQRxEhYcFIBE2Mdpp1q/pSYWB8jDcxZ1bS03ftqaJ2tcjWFMkR1Gy\n",
       "xvP1fLp8ENUBC9rJGfgASy3aq2wsHOA20LbfF0nsQrK4mSFANsGTtq0k/BTJ/3dIl+glAiWdStRy\n",
       "oqCBBI58HIr42On6lZtFEHTbtlznHFzCm8xvaEsQdd/aSxS1JEVfOFmyZlKd+yIvhtv8BjZFESh1\n",
       "AUVeeT75i+8tDLhekIjA062+wiXTS1N2qsO91ijx1Ypwe601w76tXFGR3WltkCT55lIropc/dI0O\n",
       "JmDjLz5eDVVizvmofCkp3LUsueHc8rNURxDmwOZgcURbWUVOZwpy0NrcXDBJFeAjXQYYcQnQ1bE4\n",
       "0Ev3b59wO9E/vC0/nN3bup4J6MT9Xooyhxlxi6r+8nNTJbgC56Nc5BMVVOdfN0jQCrINSY+7/xn3\n",
       "1EexUH/2ypqhmElCotwHKTp26MQeLWB27YHxmcmq9ddvJQx3t4zwPg64p4sotewwz4R52pSUBVGP\n",
       "XgAAA/NBm/hJ4QpSZTAhX/44QAAAAwCsga0u9wZdtwCyAEq11SBGtQmRZgl8lfrncV1emZoU1Zfu\n",
       "rLdWOlGUd3zf8OrE+4s+QgGUFuKUARYXS9Rl8+f4f5qzL04rmQ7uyy77BE/hkoRYbZHOtjC3n25x\n",
       "K+4itPurZeDTjN0MP64OxkwrAw18GmvGR8AIO1XOVpcfjk14pHomekn5f6enmiUsKmbfR7ZVZWX6\n",
       "ZUoEmVqDCl3TVcDdKglMmby0ZWMJSw77k5GCN6/LTTXrrgBR0CaUKY9N7EAaY56p2v5BO1k06iHw\n",
       "N8QsvdmFHaWYqzYsVNs8Qq0lhYNeVAc8tHsQF5G90bYx4I4MYMaOU97oa35zzDVCaubJsmMq+IYq\n",
       "ZUnVjOjN/GQSCntHvAi9weXFDCT8YEdGcAqpxEt3ep3Rd6h3eqS86HvDyx0LZERKsDGa0ghc97V2\n",
       "N7e3dr/bo/l4O4iVREcgHsptWOmxz4eQfS1GnYRbcuISTe+J2IQAnoStFx3fNo2EqSOlUX6q36o2\n",
       "VqB4leumag0UnNmdydTF2T1Qyu5eRBLL8UnHS3Oaki9zMhHy4J6VLlsTcS9/5YCBPc7hjIXkvzJc\n",
       "2HwTEkhZK/nkZL1DVSg0VQu+FcMK8RbINA4R1bnBFwv348BK54HvORU7+2dh1i/MBo6Y2gQ7kYvY\n",
       "tmHutRS5ZNJ8kTs8O9b54GGgPITIJZKMB+XR9ukh/RItu/kpLSpSEh8WaZnHrs/T4Qg6L7sklRX6\n",
       "CC6db7k8Z/JBWsI4IaOjCuPmNRcwZ+pvhB9sY6CYoG8zsz2/S+GvS3longUuMHiS90xfu66a7iCu\n",
       "oFNv3e+eWpJ/frhy+bPutvVaF84bMp8F4Gdn0yXS8jMKK9hN4jpMV/TYUCRDem5jiQ6d7a8SZgZu\n",
       "lQ/f29rY8ROc8IfQWL/J0bJY/JmoWDazk3fsftic15sdWOWghnaEjxLS0CRdpNpmIXHSzPMxkzS1\n",
       "7eHIx3PpeGSweazEkUfBB5WBNl4sBEU7sc3CItSB0PwaKII4N/vBt+ZFYBWY4BcM1kUHnUzAn62V\n",
       "+/FijsxHzCS4MmsY3qtXst/7T2mvyre2sBbXaikdN5W9vuvJ8qnVtd/vSquml5W9ta8cmFJb5LwK\n",
       "AUElnIAIvYoZrUUWBRB6V2ZzZ/6SC+oCFUx+QMYh9T5sZPWMNljSlLq1gsN7bbF6+AaSgsP0b670\n",
       "DHf4JuXqs8LH/xih/3pYMD6qfuwSC78azGeX6rkTq7CU69LddMlfgmY5MbbfDKF4HFo+m74m3L86\n",
       "k+/hjjIpBMVsIlQxmfnpO6dMvB3hlSuRNm2hOxx/jrkTdWOznDp8i5pOAJcxMHEAAAGNQZ4WRTRM\n",
       "I/8AAAMADif6jgsITwAITFWViailh0z7PAoOzVJkvEkzadxVGoPGAGrxtNLwaB+DGhD2G4n6tFnu\n",
       "poUZlI43fE+c5687anExYY5rJY4QiedBYCTunAFAkbUMEYflRYJjApGwK7wLR8b2i5M3y/iJq8QB\n",
       "08oo44kiFZK0hMAvWdudBOdbKN4pYFc0hVyqKxUdsR+/SIqwCg2hzU5/cBlIGNdQ3O7fexe0k3d5\n",
       "tsTzZ0Zh5NnkEljioUS2vA/+lJyvN+d7EigfKPc4lVWCRd1PRGdWMJWsR20gzysLGqUIuCdtEM3A\n",
       "zOtjwVHEkpK4g0R2Hhla9b6zJIOIgP+w1Mh0+XjCTkgdA9FIuSv4vP9flwflqzX2+7PYe0Xx+8/O\n",
       "pE44Vi+P9AlgfzRGsyjH3qvVoy8nKv62FSfo2zwMgkOvuPTmLD74rCRTFM3vRV4yvPACEx+jx6El\n",
       "UZqsO1ciQbu2WdKAxXz4lzBBZiCw95DsVk1WVorzBALe2gGrIYGhTAAAfsuZeWALOAAAAOEBnjV0\n",
       "R/8AAAMAFm71AkEAIqtLUjOQHzpFTo7fwow57qR+Z9PBrygRZwH52/+lpjzsXr+QHHCX0nfxxED8\n",
       "WpyqUEo2OErRpipY29JOmJFE4DL0rqB3tjD8OKZT1R0ImElMyUT2spJou//T3/NfidWjeBIKZMHH\n",
       "BOSPHqMCRcW67DKwCZv0plWgLF695+ZS6E2u0pCJm8W18qeXA4rjmPb+LTFpJojhSS3qoP/5Xn0e\n",
       "l1rBHEH85gWVCFUtea9dG3oAzUz75Q5EEtd5CsXjGlQrYdcMPI4AAAMAAAMABrC+AakAAADDAZ43\n",
       "akf/AAADABYXkDTn7zUpCmAJoQeUDXCOGyGx0wHsxDkSPqFzNMZzECwsQrkXgq/Z1TmcXzjk9B8l\n",
       "tTzm3FsW3v+GNdOOr2i2d7mMbYd35uYgB3IwgIBjRf4F5KiCU0+eSiXQtTmqYLay1bNrSzZ42O+r\n",
       "ajd841SevVcywIVHFboEWEWFzN1rEwwp/RZJc3dzWvUIYsn+mxGBNcSucO2A9t1kBUj9CA6E6UPK\n",
       "xOeWvOdj1LAQusAAAAMAAe31QCphAAACfUGaOkmoQWiZTBTwr/44QAAAAwCo/DThsgWlMAFfFT2E\n",
       "tUM8SF6SZcrg5IUUFd+iHa5ObZJnWU30133YkF3RM4hQp47Y/eTtg0vfILuSQvcKba+f7UgyRjuj\n",
       "0gvclHsD5YzhTZS0oFlpUnNJ7x/u7JQ4+HiDaiX4XIA3nD9cIaVmQ9oofyBPk/zw7l+UKrSTbXJY\n",
       "Ucd1287cP8k10+XxoQiXsjHVGMF+ClhV2v0uLPqnWV5Ksz/Bwk35Sd6w2SXJmc+EKs/HdxMj0mDi\n",
       "zPD+KM7aW2CJreiH08DrA4Lfx4JSSdKcv+WNwWt1+UX8DWaOXIdKU3BjRdtPmSMXW33Vx8xnORIX\n",
       "vr1XCurwE9xgJuHplwNS5r3YiO2n1xOy4aTc98+93z+tOqFgwuzo4jfxzonJaCq2Z0T9hg7hqmei\n",
       "bA/5x9zJbBLwIkSlcFuOe7qBb9WVuhbW+jPdLV3GkJL5o9nnqT/Dlc9KHn7pwtni1uJ0aK18SbNi\n",
       "fZZ5bQT8UY3H3BzsgACv9XznRLRvtBSxiw0MB8n3Rsdcgz351kZ/VOdhXzr6QzUbrjOwkWVPYGRI\n",
       "+Qxkk5nOmsI0gBJBtZQIN5pUw0eX8vf+9vDCzBvhf08Rt+FYra+EqtSw22QAg8dOMPuNXlAiMFdN\n",
       "4+jP/hdfGbBbD5rTG3Ajo3kR2SRAVDTpO7s7RT9X3htyxfJfR62T78FT4bPosadSuFAPODzpmsmJ\n",
       "ivYPMvwIBVQu2QLjlRSrmetF3YupGkHH41HRPOIeFepuC0PGAMEFWfr51fRXVugIKB5zA5Uo2d8s\n",
       "Ud35U38p95hOAgx+0SIZCARJFHtAvoy0+EOeX+A96LoV6YAAAADcAZ5Zakf/AAADABYktnsLnJ3y\n",
       "tN1z6RzD7YSs19PyMi41kCOExL7ePnJYy+eZl3mABSX/Gnme9WrJqB8EAC0SXtQQaqsryidX/Qd2\n",
       "hr/E39mpJ5aNyCGg63e3hQmf+QdMLa/AyngKeqRPlZTY0e60njvEWLFj98CUk/JpEPoB7qrHMKjB\n",
       "koLZfxa9prGgTTKgN/ipTHaL+ElbFVmsa6F+wa2A+OC7AIpomEY7DcGq/jJLrLWXYip14tP9MSlK\n",
       "TpPoJ/zYkxe4T8wbGbHFVvpdEdhN1iCvwQAAAwAK2QAAAqBBmlxJ4QpSZTBSwr/+OEAAAAMAo0ay\n",
       "rsAK5ONgQZlMjK05WXkfI1o48ZBcqN+E7NAqGBfzBYUB3lOuASjYHbmCb6dRUO/LZGxjfLIHrYCA\n",
       "ualOvXfMhn6/xPAxrqsHkAZ80YVB8bYFzPAS9QgheudKvV2ltW9MnTCOmi11IkcsXg7e3ljXUyTx\n",
       "z+0ZkeEYQY5/of1KMgWrux5+XTDXjLJvoKkJHAeuD8zJSc1lmq0Ymb7TqIUTS/KUUXvpiuhcpWOd\n",
       "NbcSs/W3ioFtKXOyCDbR2fvNxC+TodQSC/TjcEE4/oiXQhzgnGQapb9ZG+wGP8K2EbpnkH5hXnCr\n",
       "6feYH1JbkrpScRF3wKyY1VXIo0cZ/V8cmyub6zOjmklunVf20+maEvqdzaJmDrC0esvkDEjKttF7\n",
       "EflrvgtQwbryV9hZGviJ3YThj0VpYXpNJsTEqmVLdabZ6h5yFECIwE5CuFpU8kE7SJ6WI8RdEscC\n",
       "q6fIYfdD2x8Ls0a3zesdnSaZt0veSB9G1oXzhNbtxntzAjZSfBz9TlqZTeopIPBQ680s2O6mE5Jq\n",
       "rYx9xqDhRzjuzR+SBCIVFE5JPfoWlm7mf0cRdUPsem/B9q+PcmJaK5tSwCdSOhVus4rZsFV/6ivg\n",
       "sLDsbkykUv6K6iY7CNG8E3PrSYC4Tzu7mIg93jweMuK6dTu/ffuoPF+BXAV8T9OjIWHXubz3gxVu\n",
       "90sThJAbRXyI3OR+74D3eEH84XODwkdNjUdWh7I8lzibnRa/rEzYDkdewPLVdmCOebNKsKLZyrEg\n",
       "FKtmvudrB7i2CwzGAyHPGC1ZKrnUf2kon0izSAmlF8F9n/gp98t8/O5CZsAigTL/o0XYoDAd6lZI\n",
       "ajQ1Wl0z7gvtQ3amQSbe6UBtofq8h14AAAC9AZ57akf/AAADABWMaKUPZG/Hp3Ugu+GlKspZOHD2\n",
       "2kGQz8QoOoNxy59WAprMwAi+OtlhEmnRcNTb7oHFrLOctO5/ZnAvt9Qwtj0k54NVo/qOGXgNnBKS\n",
       "xgoOOzuT26foO3daCL+lE7zEqBo4DTzvUvpGRWSu8GwSLMv6W72KU6ad0g9dyGyMGKzb61HnxTEt\n",
       "j6fqNI5qiryN2NrJwYAa74egNkvGzRwHYN+N8Z5jmcRc5QC9McEi94AAAAspAAACGkGafUnhDomU\n",
       "wIX//oywAAADACpeiU2hodPQAQ9OLLIgYs9ixg/tvP07fgxmzMoT2ybsL5BvxzP93cp38+Yj4hYS\n",
       "OItYBZVr+ohoDiU7y8uaSi2Iq8hfWlWxXgWRGviQqF2a+asOr1tR0cCA9yKSZ+Wq4RwRLRO78xPo\n",
       "++Xq4YBB/fbVMNJdvEkNmHAPOHbi2uUVPDs6jwdO4czZLHocE6PdZb14rWtp+hKZPWtssTsEgmyO\n",
       "jDvEdi+Mk8D9CoM6rPK9LdZhWIKgKP4Mjsau28jx2Dvra2o0R8TG2nrM/25DAKgGsNpwa8gKmj8K\n",
       "WjzBAGCqfG9WfvGbaeOkmf/KfnQs4L4ocgsY2jyEKDhjk5627B+hzOTM6aTTXz3vaeNsulsXTn10\n",
       "2ZXRUDxteIIMMKGypfwsum57VvUHHX3yfwXXE79mtF7bO8qZ0eUfqgLLPiwBrDxYxTQKLGbHhk9Q\n",
       "DtkaAYEwZXPwjKKLFiNYwBIV21yBQSVIlr70xgv83gUiKC05ZUWfc0LPDZUMKPYSkQxqD509fHVt\n",
       "SynOB89CayIxmaUqIEvv+A9pVsxIrjqDmNbrd4Irk16B+OOIe0IiUPayHcQMp69j/FztR5lx2K2H\n",
       "l/wq/5OdwfUBoI7NXAyw+sclSryj2uAF56KtxJmbzcyowZl1CK/l+4Q14hpRoE5D1y1p6p1793mN\n",
       "W37iOkHzmQrUmh4b8s10OvkAAAMsQZqASeEPJlMCF//+jLAAAAMAKS0Hy9kkZdm3YALqPThUYgST\n",
       "61RVMtnwBhxwt3Bx6MuFbiRAHoPmVOTl0vpMvfEmzRnNoM4wF0HWaCuq8C/zKxx5deGgFnMeuYeN\n",
       "6TS+GJ1xcz4tNpS/G8cicif6dHNJACCU2fdpINvVBOMKEH7tnRCbl3xc6Z7np0Tq9YRzYcYZA9tU\n",
       "86MwsgFh3enHNKNINyn2qgJbXccvVAXqenD11Dy5fdhBDFQWRMkG+ip0H8+17vfJj95ZX3TCmeXk\n",
       "Sk6g6Sqk/ojP7qsJ1LGlAd+e0DwHM5W3ed9eFEvdDGeWoSk9jtPWEsWcIFszwGFuXi2NmZ3sxYcM\n",
       "nw/HEWa/nw6wEcjuU6Qlp87OKO4HPabYqzsENgUfsHH1OeLjtNalYvYZTILbZou7b/K4d02c8GOf\n",
       "jua9da4YY2kGOQycPPt4IK4MO/3VV0cHDc+Ie+5I9QEhucFqvK2NdT0srpCBrimU15VOXbX/YhZs\n",
       "0dwjlhNcadQeRh+Dwg3BJ4um+nc+jYR/iQLwMrHDGAOfUkajOwJpv0BYBegeA7ku9KMOKLbIVQKG\n",
       "ETvMHehZ/JIh7roabYoWbwLgycsY2T9F8jSiG+bc7Lah4+plckiOaRMVwgnwFVxmyopBgfo5WbPR\n",
       "BGFeDELgtm6ra4zJGEk3Y5Y5l3s1hs8/EATDwOswA8JqWJj8KAVLf34TxIzz8w5fg4F7fryehbZu\n",
       "0KbRs3EXUABeQKICNYOvp/kJ7hWXLyAfIOsvJhvfrGK65iY/wuKUlq7iXpTIb18XJkAYLcEp0QYz\n",
       "ppvy/vQ4wC9tu8XRfUUJILzYaa4RBwc46i1dJGeSZ7r4mj7OX7YlRdyM9w86bhIg/hclFnkFHK7o\n",
       "05A7uN+9yeundC5hBS4SBiUeJYsVkK3On/o/3QyKM3d2vPVSPnHHDFI2cgbiY2P0lTocdSdCRfS2\n",
       "PkjqOrPtFC4QmnjDM0LrPEOyeUkp7RG1DSAmGZ7utPSB6OdUgO1NpUpNQOHDG+2rKGiE/YjqiYkM\n",
       "6fYrDaaZEIlx/qe3mhQEhHQEj7dR/i5hTa46w2ixcVkdrKAAAAD5QZ6+RRE8I/8AAAMADTQyqsna\n",
       "znf+yfADMX0qSk9QAA20gtFJ/mGy92IKfK8vFcrBr6Ff5oPbKMLDMJb3qXaxuzBTtVE5DmEsOcBO\n",
       "du4RkcrNryhI384WKI9xF7uH5qI/d368+yLLScagIEES0QzA5U7MNxv7LeV0umzohFMe4DjcrsZl\n",
       "sB0TcNTePvpAogAoNPMS8YWC+8gYojBmkfafu0pcxROyOAcbD+NXzeYDe4tdraGMlkGF4AwXhAN8\n",
       "pp0dLbpWcKyONmrNZ90m87nNnJpUMetJ1hiD7jIB2PmOMNoT3AhaQGKc3jHuyjWgLCmQQo1AACdL\n",
       "wCygAAAAygGe32pH/wAAAwAVAgLUwAmhblahRh8x2a4JLn9kZRuLi8ABtXcFk+fsFaz8OhJNXbDe\n",
       "C2+heQjePmQpOt62i6+uDyedzYKrK6i2GSqTlrSzZVy+gV09WUCyn8+CT4TpE9KmoZtTrBIzat9P\n",
       "+vwPmVlskrmeSP52tvdtAa9xhTqXU01vqcbRD3eSO/+ENcOmn/9fm0JFeLh2pcFRfUhJx7mUJAf0\n",
       "P38hG+HcJbMGgIs95IHUBLbvar2rxFoOE5F1aAAAAwAACwkYATsAAAHKQZrBSahBaJlMCF///oyw\n",
       "AAADACllPUnB8ADfkaKgsNoexPqI3pi/IImLLimmxZ+5G/JN2nHb2OHnxn5mhCXPbm36sIT6SzPE\n",
       "8fKz3NVUhYVdin7r1Im8MRCUN6wDsocogCYq7fuLwdpeUaUzaHAk65G0/gY7Au+cvqYwDnH0PJfg\n",
       "7j4dTujfLNQPX3C5zdwNohCxBkbcuW4btZ/iYgk1bsndQVfVKvarfqstDb8qMOWMQMM84vGtGW1c\n",
       "gOPGVNOc0Q7yQP3vr/EWS1VOcVbNBKtjGmiNJquqJH+HZ7eNHmtmd0wfbVvEXMGYtaPQDKTBDArj\n",
       "WngcV7qGe/N6sF93JZa1tcn+GomjY1zDSzXSWw0/3ZhwzI0nAvlIJbGO3BRanC9OUNd2t5+7WLMu\n",
       "j39Ki8w0gt3A81UFHs4zLqDvAtMzRY4CSY4nq1jNS30Lbqq3wR9iFaaICC8e2dGN0xAzoVxZABS+\n",
       "YctxMtS5iEaT32yByRJCLMO3nPpNPOj/ssnUgTVpJvFaDfbYt0Xibpv4Snh/ZCBVv813b4dTygkx\n",
       "xRj/h3QSlcGKCG+XPvp3X7eUExzqjOlqcxA4g2Bmkt0lrSssGOWBWR1o7sAAAAN6QZrlSeEKUmUw\n",
       "IX/+jLAAAAMAoGZsAMQg4PLQBhngrvL1zFRt818y7XiZ237+FionR0POywwfPPOe4Pluzimf8+od\n",
       "EQ3bUzFNFPl1kgvgHUezhZylkVnLeFOdRDf6dlncCSvoZFiX6VUo8BrdiSMrJ8ygcJIiuBZf7w0K\n",
       "XcwOnHoSsH8nGsmfnW36VtjQOBxhT+gLv2HOUjacEjDY5+gTsp2Tzxg6qIfeRONxruX1t6Slea6y\n",
       "AR1S3chigYYYmQ2Xt5JsdECbmF8QzeAT7/szf95Ml5LMdpQMhK8xJflVEMJfe0nllWp5SnSjd3iQ\n",
       "TSWe7GTCKHN/5NQZfZ0A0kNcxELmtjLbdZdFPB4cfZcmKK79/lQf3tu2YHnkkhj4iM2q0AXpanDR\n",
       "97Ltwictg8c4FTZSYPrlg11jrhZYvQbtcjYp4LT4JiVpqj3+uIzVO/Hf0NdIBDj3dUbtmGW4ENh1\n",
       "Atvrfa5KoPdEMkU5+lCSH+izycZnoXCFBbZFDFIOEbOE9+rF0o838cPCUsjw2GJSI0JurUGpNyzm\n",
       "c/I/WzttayJL+wxL2yJqoSvWWqJfbnm21NtrpLOGKWmurXq25px9Awblnu2OEf5g7s58Uy+Ncu1Z\n",
       "t5ePUq2bgIp+8d00J//mRTOQLYSkyZBeiCRmT7ja0wTsUqdDwoPyY45s1/dK8lZsitVWoLR2cGkm\n",
       "oieOfnqfxG7s/FmB0hgXEH//KcL5wyR2aJTCQ/2OOWfajK3uBMCI0sJE+6Y9ZEl7XxNwPMbTqHc+\n",
       "oOd09AbwHryieuPnELBpqQHSPCraR/y/U+ba7vvZIev/w/3/5mKSI6IV49kNu2u9wrwrMEF7VxFh\n",
       "OuoAbXOkUK2RrCtz7PL7Vj1EYXNLCwaMPlPPVHtyk6ZGbfguC4Dobs7g5kB1J6LZ8UkE09PWhEVW\n",
       "qrpEBBi6Bo+l5W6EnuySZHZVRae0RdZskpXdGIlHHEpvO5/ECfqrnFvwft9BEos/VJS3hVct+yBH\n",
       "7Sm4F45853cwu00aOQ8GniKySzkfn+nd2WwXS6NBSAp19sjdE7MQkrIY+ZQPkMfFeIruHhj57jwv\n",
       "XdJhZkv4vzHl0VMIvYPuWs4gGYQN/iB2ScWRxlu98ua1JvASv/IwZvTDXRz6leA8wXzhcOBTBvKJ\n",
       "lzj5QDwyt7Y15tMjmXr20kxxkF3OFD6dqhkAAAEjQZ8DRTRMI/8AAAMADTEr5Z1boAQKDNDaLfJm\n",
       "EVFbTRps9ZuFMPDdbVNWi1BJcn7s0mQBdfcLQlgiPjGSM5SLLd9Uho9pOAOZ1YvxgpFEjwM8d9Qd\n",
       "H/k4uaMxG+x5qVSgqaYjFWNsI+S7UHkdw20QXr0/uUB5ZbrzhLZ08zBliTiEBiTpjpf1JGSR90x/\n",
       "YdwV0qvHcXt3UcuOZWYr9MKFeHNLx86PaEX8L20AZE177dtgxf4R688PJQoa0QFlKu1bMKIG/HKm\n",
       "4O8vtFR7bPVTIpy8/0k0giUeVLXiuOyNpYtrg1zMEcwMnlQwIqncC3dmWPNPmTBWutramEVZNXvv\n",
       "LV0UvupFQ+pTkZpKewcv18DTj0xMiFgDxFADmIAuNEAAAPmAAAAAswGfInRH/wAAAwAU/8d9+JUp\n",
       "hjlMnmI0nAC5tLNqlgT71c8P4ygD1pxoUMx4qbdOIW8yWzy7KRyxEKIoBMUM5Tlwt+i6aTdipNVU\n",
       "D0Nd34/5v0Dqwgl0HZWsHONm+OC+aMiBEJWzRPz3gXmAE74z0N1VpO/iWyUnUuecbu6XSw6VHZd3\n",
       "r7WtzESD7VlP6sT0pCEAfcUAEVQsbBFLmBzByvGkygqXVQKPMlAAAAMAAAMAABxxAAAA2gGfJGpH\n",
       "/wAAAwAUKqoThmO4TACYNAw33zzEe8J1rSO8OX5U5veJNObicUCwJBLLvc7yuue/dlxhkVmZ9t3T\n",
       "H0CtR+SkrNjAenNVstNR7hhoHVNWn3sP48dTjXiX+b6a21ntyl6awcraHLn6JPlO3cUbVyCY4pUw\n",
       "faOEiI1PBNLLJJUSjCDM2+d/TCf8cpHsVYo4pc0AbsGEGIM2SRyRM2sZB0+ZZ5Qqo2eu/3fd8rVe\n",
       "PMJs1ZqiMaiVwYNoEmy1lH5gg8w8EIJzdWClT1V1u9kAAAMAAAMAAAbdAAACV0GbKEmoQWiZTAhf\n",
       "//6MsAAAAwAoS0yv2J/PgAFaw7fnucC+IC/W/WHxS19pJWd8XJcufvqLM5FvV5+1+5mWvOlgclC6\n",
       "38MzEsbL5ruHEtbMn8Ix3soSb9RIixj+176sEbBlWtkCXCv/HfFkKDfX8DCYhoUQktxje9FP1cb3\n",
       "7OjEkEWwajifKZdU/UZX7YDFUvT+qZxACFc4MzsT1lSjXiUF2DhV6zgDAuTtnE8cuCelpJEez9Jw\n",
       "sbr4oVppfmJICF1qPu10dBDLilyzoIsduiDuKN0jjkDa/xveWfBWs63Kr6/nTY+HWwnwAlDpJV8b\n",
       "ay7bk+4WCW3jJITX9jvjWb2ZYnAUJDBH3CfhfEq/2P4z+ZuWwT3Z0OsWXjadaREdPl97nLzT7o5g\n",
       "iZYYIAZYXt/e4rVO6O3npOfpS27r0qVJFyHZjCUhnjQCsaC8vugpli5q1RvQqXRPvwMJlpM311kY\n",
       "XcgzV2an7lWnHqfwfcdLZs6kin3ByAlK+avfwvLM/pvxbi4LR19eMgaOhd39QFEVDtPzyRVDBTwD\n",
       "wAZlQHe4N+3GO8HiDVyexpRZc9PpQbqj5FjnA2fmI9H31R7djuO1gqZFJqEpyPbjLTVT27WJGqyI\n",
       "uOcW85fgYehqMCMsVFkMGXAvwlyOgfYjZ5XFLPBy7f6kqKdircoO3U1X4MKflKlZiFNTfq4PyF5H\n",
       "SFdcAh2JSX2z7s6cUS/8Vipqf7U9Lg9WE0v0/CR2eRta0WUesApYhFWEMogHxHWwgGFt9t5GIiKQ\n",
       "1Ll2nNqu7LEyp6o5oMDn3ZwhAAABBUGfRkURLCP/AAADAAy2MNOK9zw40AAJvE+AB8z8Rtf0XKCS\n",
       "AWQND93N6mUnul4cZ7rT6Ctf/R7Z9i+EeevqFpSO2g1Onni1iDB8iYnD9asguRhFs3UmMa2OAUxZ\n",
       "xuRRK+i449XOR1BmYZWHBmeZflhWEEgP8dSFjRIhIjJtIrlkkrobKHIpdmzW/DSeRm212jI3SmcB\n",
       "fCP6lMozP1q6z1wbGAUiqR/Px8fwbpWVj6r5NcCF1NtRVkwr6JWaZY8cKulN5Z2lZZdW6CTin8h+\n",
       "f3QI6hyzUMhVBQR4hMOgdyTCayCIuwvsHEDQSmJZQAAF3/e/M+gAEV7AIWADCXAB5oQUqyAF3QAA\n",
       "AKcBn2dqR/8AAAMAFGPWfQQATnMmQOhHD4wJB+SnRybDYfUllpdVqZxOqi9A0tLw1HmbVmKUcPsN\n",
       "vwDLGc1YpFFdiOWoDSQ0/6RoE2F3VioPonv1lYQOn7jDfdS67k1G6G2BMNLjKtVRM68IFMakM1aC\n",
       "RmdBV13p4APDAmwvST0JKkGe2J2jf/HKHVOMqJ/LHQfn9REXjJlaSoprZAAAAwAAAwAZFSKBzQAA\n",
       "AohBm2pJqEFsmUwUTC///oywAAADACgNPzS5cR5AAjEYyc0Qursy8yzf+RQ2+a61fQKAXnA46Oi2\n",
       "KthDpu9it9D/BbpIj4Z14lhRtZmcoiW/+Kqy7TZMpKy9PlFXPrN1WCCo5AGCsU5qdyNtdo88FdXg\n",
       "eckDD+KiGk3kOrhN819oqTP4xHFuVL9r744g2io77GZwGV5I3bxLut2g1x+EUtbByaidpDNy/qx/\n",
       "e2LQIu7RCVefvBUT59fPMfhcc3xfuQt6eUyGchIIKda/IgEBks/6ltLVIqx603rolQumT3858Npq\n",
       "o5M/cy3FXO9Nga5J1tImWGKGeOYXoRqNetcTxFM0bqNGoYThwxHOSsa2gkP9J3vZftsI/YF/31cE\n",
       "eh7n29qu64h2L5nJH+b5v+qZhUREmnRJw/gZkJClBZ2krgh3fKBMifLgDvPzDq5BFE+kOr2I76q8\n",
       "EX5QL7yb6GZt5a9h/Rit5etpj/L6xuM8p2UVLopixSUMy/j0cafGznTQ7JxL9RRtSk4VUNUhbUzQ\n",
       "rhjlPd4/KY+VOrZzCuwabBvHUPGnjJz4RTnGh92VaJl831uD2hw03SDfNcLQ+o45mWP2C3D8eqmH\n",
       "ClEG/hVoGxE3guSAig9KCYgTTADlnDcfXzpYFlml8KteyqYNLgbRndIGIqvjWErPln7Tor1U+MzQ\n",
       "9yVYNEInAzPfVZfgaqxOxAPRQEFGKHTt1crVyMrdTqBZR86pkVZ1Okf/WyS7hOc96tjm15pYAtoT\n",
       "silb6p50YtyMVAeQGkH0syCuNyyBbgS5j7JDTOY2adoXdOjcTbMjFxSEjaWR6xWFuRG7nJxJWXey\n",
       "8M1vlIRZxKqPBtxM7dtHKVoC2FahhmAAAACnAZ+Jakf/AAADABQtY8Cwp+CT6Pr8dh/segLYym/V\n",
       "VgCZhj6jJNk30A1jNBd6mgAjGl2DRAB732weEN13c8fyl2debygjb9/8ZmusLI8WHi3tDyeDq0fs\n",
       "llU6TjLer29Q6ynEFILqrSNX1noe3PTI3Gi0GCC09LIJ1Pfnk17pw0unxlCUODjGRVgZ80vC/lxp\n",
       "/i1NFxHpal1MhgLUFERgdbMT8cAAAccAAAIzQZuMSeEKUmUwUsL//oywAAADAChHB/4gCHEh8zJM\n",
       "V0eegSRdFeYex01DsMGfaJInm52C1fOYRC5VkDdSMlg/CIB9jDuxxw/xfTjxNNjtvm+hLn3VuqhF\n",
       "WjD0AdBcxain1OR88h3nzU5DojOHNvM87Kox8onwaKigkyKkuvHl9NizDPqyhj9qBbOjW4/KlEdJ\n",
       "/12wWFofitJ6avUC0/xZxaD91pPkC+xJ3WFIwvN+JZh2DyWIMGRmsA1GiDsJAZ0pyCyTgHer5kW8\n",
       "yFLsQbSU/0DeX6/0Je8b95CUqgBiJV9tlEPWE40/Gh39958SzbPmg55cLvKBFMxka72RbYvqpM4G\n",
       "j2IVp/1uZd7gTmMRR7+0OefMsBm1rnOtK5tfy12JQhZrn0pmza7cqIC2DFjw2zSSnoijUBqjcL39\n",
       "q5AyoSawv40UF6ZhX6H3HZNBLbCnScLFrgBnsK/3VFPp02XHCiBLhHiko8U+sdCBZMLRT/pJDoVY\n",
       "9uwuE+3A3MMwSXWkubkyH+C2PMsOO5Aqip1Ryel9+clnee9Lt1vRXZcwCMwQl3r8hUSblEmA8MLA\n",
       "vTywHS0/F2PKcki/VRJE692A95t3y0zwdAVRa4Q6O6ynf4gZNx6ENNXUFxP90tkkDzPmowcqaN8e\n",
       "Uik7XOaREBmQxALjplJAcZ0tj0zyPjirl9zWlpfdvxqkig80E33MAx7JO9TovG+uE4EaihPjaeGJ\n",
       "QzaeDS4Ld7rPRmlEB2q9IIV642QAAACnAZ+rakf/AAADAAy++c82VduYq7oN7a+HyIeVf65i3alg\n",
       "NH9qIACD9Ubgus/AA4GbftjmMsG69N/Cpygeqq4QPHORBsMDTJsdrysybX0J8FCPfR3+Kkfyab3S\n",
       "/DPWDeDd7SnOAKwNT+3IUXt4q4QGKXki8fHuGbg1AZZpJbSeu0cA0jzVXZkTO3wO1beQDb2bLt1q\n",
       "X+gpppCNw6sgCcmyYhhrMAAANmAAAAJJQZuvSeEOiZTAhf/+jLAAAAMAKCeDNgCJkAwrIDBcYc7t\n",
       "aFr6xPn5beIWwLYAS5B3Djv3tl0Em2cFXisrpZ8CwTr5KzbG3ljCEUcU3++qzsI4e0f6QJK5krRa\n",
       "on9jpMRWKG/vGRJGMFju6DFbdmJqhOyBzTZdB6YW+GX7CWqLxRdMgjpi13D8h+L+LFE3/hB/xedx\n",
       "sYPEEkyIbK5Ng72eZ02L2cB9eVKQYlbUTVxJP8RGdYTixoZjlcIZQ3W+qwMUrcXyu01DGuX1I//H\n",
       "w3aKxKQGenBC3hwo7nzKBXHkuxeF7bfYfCxqrhOELDRSpwOXH3C55K7BwmwuZRZ+SzoH42SqHiKu\n",
       "BRKVOJeh3M8nusizLQyeHIkF3Gv5daGWxtj7NlmxUwWA6np8Qu3x4tSxv8U+uAtYzsLypnZs83QO\n",
       "OXYs7WLoFvEq9txnIgLisT45gqWTRMFUY1IFaDi+kZUlDqyY+2D3+oVM4fDSPuPYTKreuFSzkfC+\n",
       "UkoV3rMPoPF0KW41bZfTjLHFslr91sPYrRMm558VKyiLyNWQuoxcIB6y8VoMW55aePQjeDqQUoa3\n",
       "Qi9mkp+8v6ccuXS5YlEhRkEaO9kOOrnFTp6+/5E02LIebi+2Igg5mp/VBpg2eAg0sJ3KH0Om1Pg8\n",
       "KnZNfp3JY1FsIOl3OSNy4zXfpJPCGcn+R7MnVMD23a0owkBCq3sJKxQnYQmyab4pxLDue9TBj9CC\n",
       "mlvHmw1IP2sNUoHtHK8bQ9KqkOaB2GUgPkK1QBcIMcJo2FO9NHmjAAAA0EGfzUUVPCP/AAADAAfc\n",
       "NvfpmvPWEoo9gpFKP7H8HAb2spLebFo70luZ/+2WGkyccXxB32d1ekeABdRsZV+HzVLbPHIbZPS9\n",
       "kgLTsjf5Q52ZKAvEhVzw2JpZzQbGw2bawa7pAryBAqdutL/s0hjsomxw1Hnz29a+l/hq+JXLwSca\n",
       "c/0VEaS7adxssiEYwysSQORI5u2vYks6PJemLrQm8DwHlPq4MN3T5ycPzhUuMXXc9J5EVenUgqVZ\n",
       "92q9cXBhVAgX8hrcTWkPB8UAddwAaMEAAACQAZ/uakf/AAADABR83eZqoPlg1D4uhvLe/BraPDa/\n",
       "vNRSIWbp7kI60lsOgAuFjLNsuofKMJxrqJkEdOBp6WATiv6ozqKrjw+zaAhEy8N3IOhp6z+V5V1x\n",
       "UpkMDP7S1a4vvKd+lDnCcAH5EWU0P8zCi1rgAtf/Ru+G+JSJ4dyC8PruyoRRhATkAAADAAADABAx\n",
       "AAAB9EGb8UmoQWiZTBTwv/6MsAAAAwAoR2rcsALRMztiJR4Wb2XZKQiLNwps6n3qoIE7DGgZ3h0o\n",
       "z7yJhJxT/zWtqcGvOu20TK0+6pPQR1ACIC3h2CuGY6lw1Ys+3QZl0veob+KjJ9FEHT9PqFh0Kcms\n",
       "whplM6eIkIYcYjWirFgC5wbTe++7cnFQdQd3K+44xW7i5FeuAwhnSTqj+DQBzlQ68cCQa06KVIPA\n",
       "BQS218CQIusA9NDOh3YxmOS1yAx/LVTAKBNjxX/9xgBv1Dk0oeay5uLDQZ+Cqv9ERMgoQbY67Y6R\n",
       "c+yyKBYOIollM2YMR8I2Y1jb1/aHlLmeYJyyTbGstHAVBcJieaID9a0RJT5vIVNpi7o003PuW1jJ\n",
       "z+1jqqzo6COuQ82i3n1Nw2MpAFLd6GegMC/7Bu03dfHvRxiggIbe/60AcmtyeGjSi6EnwykyzZjx\n",
       "JQpWvKipA3kYoONoKVY7qjkvdq/BUZHnnVurSqM31/1WJn2zLg5UgvUebvU//RWVlt5dM1mMxMSj\n",
       "A00nx+UoltqETXbGqfUPtVaXEDI2JN96rihkgLOpRRYP53SCE3n//gjmwyXkSvXDtpilqC3gVFTG\n",
       "36dVngdLcJBvibyOgHLdhVdtZe+MtDxOiaIlXmyyWTbH7zUSWA4Hs4AAAAMAAKSAAAAArwGeEGpH\n",
       "/wAAAwAUYJed5hBQneCQsRUvIQbT5lOJ2OCGXUOfQSjGVIk48juM0vZgFeibSpSi3ooARs5hsPLR\n",
       "j/9G3S6BLRKTiNP51IiB5/yJT+Nn/mIjYL9phAtnibSd2pYlk+ceKDrh0X+3f0Z3ZVktJb5Hb7t9\n",
       "lIqEpmCzl6WnWbw14Ot5PDEDEZR8cuxF/SHxQUxm2a0+RhldbREnbkSAcdU6ABMQBc4yAAADAxYA\n",
       "AAJEQZoUSeEKUmUwIX/+jLAAAAMAKT6ShG9YRi1mGgBqvC61Mb6c3Z5pDB7LWVNl0OQ0UXEEG0BL\n",
       "yVAsdii6mv7xS/YrSFwRrChG/5IT/c0PawqfLAsellT9POnV4TETIesq0v1UqbhpkjpEMyMIpvtY\n",
       "CHfgz+h3pgUlxL9OUCup/C2Z05atV/AWd4rokq3AOePVWS48IBGNtJmyMM/+zhhQzWk9GyWXTjJR\n",
       "V0J73zEAOJaQXVWlqihY+/TcEOeyuBShL3iRQjQP0LxLo6xr9sRaGr3q7aOq13vtgZh4vcpzZyB1\n",
       "liSfYfFlxFFGRREM4w8s1/15/hUS/ZY/kYxmahfWvpxlcxDWyOuZCgH2obU8A65PuhJI6ikQaNSA\n",
       "0JTwUG04jncnJj8HrHYwGuTTMSibCQvyJSDvMR5cCvTvfc3KoYb/RMMWyTQ35sSONSGys/7GJU/f\n",
       "3Z6HYwbaPV5BWExYCrCoiLBDqentaeRLnuprzg/EQ2QLy0NESVGU6TKfCxhhMzdKVQ+Fc+ZrofcO\n",
       "5mDwqQdUrxKTJGT6t3BygUdGola9PpO62IRKaotCaPS3mSnxKrI2mhpOYn9+DO8vjypgbHYBTMye\n",
       "QIXkbOC9gZXw+N/s6colYrUOhIMqZ3BYidIf0c0EZZ2XCluK2o6bdj9ihtjdCpwqHVyzeIrdMqj3\n",
       "F+k0+OAKS/9AJPP+iToXYVR7Q+xzUdJW3+lXKFByt1i/dQpsPEME5vQ/hGTesmpcKWpiUrB9Jrxu\n",
       "Ov4thcLvn1BSIvt1IQAAAN1BnjJFNEwj/wAAAwAMuo1wjyWJLgAyP10ZrGX3cBAutCtsLovoWPp1\n",
       "1smANbaEHa8TKrXekmizO/VzmsZ+1XxGYWi0lToasGf/hvh/hVh5GFg6TaQkOhCpUL15U1y+7aDq\n",
       "BMs1WS6H2NW2LgD4hScwmwK1S+a46BZsm3IAZzgRrxu13l3/RlNnKTWXhrUjnsR2G0/fYYCzRJXx\n",
       "WF3NjkH0PSTk7ssM1RsQfGXli4fc9eSfO+ZeafOXMNIUVwuC9IsJx7DFhwJw01iWU9wA61YBGuYU\n",
       "RfwAF50adYAoIAAAAJkBnlNqR/8AAAMAFGPULQQATnM1xa6UGlD1hYMlkjLdLL1z/joBOt1lE/SN\n",
       "yNi0Q6RNQfi5kAjNTcTKrkBMOxmE8tOgxkFT47IBMtQnu85rP4k6hiUDxn6krVPqvMCE1uRkwXsR\n",
       "u6mjbQ4hqDF1kMJBvjueCJRs2y8Qd4tqLJmei6Jg5MkXc9J3lEtqdT3V1QAAAwAAAwAAPCAAAAKj\n",
       "QZpYSahBaJlMCF///oywAAADACk1B0NwEMQn9jHX9ssaVkPYDN1YdL91ym5/i6q1CuOsUhv4ytnh\n",
       "g+W4PJIxkTQzS/53rbs5Z3niHG1OVpLqw50kBVMJJg5GDB+4oaMre7/e2MnhaMf/NtUy/nDCVfZ0\n",
       "ZweYpj1BgagA1h0SEobL+DY43ICkEz1Lvk9Kfiz2bo+Tei8zxM1n+cdS2k4eNS3v/z9tdSQoDF7m\n",
       "eFN47KMIjWGfN/UADCN4nybDMf8lR7EKh/pe7J3pTStTmdIkTD+mu4/UbBDAi15UTETBszETjgsr\n",
       "nuAZLkqzdJQGTfPLGrcTHEfJIVOtFmXhnvIQzynziP8AaZ6ztdFIFUrt4zqmOquNGc8AFQ3rlZYF\n",
       "DdjF/ZQh4p4yrUQ7FUVAFmDtmN6VCLenUjzO2zg6i3uu9jDXJ1ETLTDM3Z8RC2E+Hm+mhYPYL70m\n",
       "n0OEzkHUSUDfgzz89Z5LPuOH9r8Y3CEota68Lzrei5D55p/o2UcDAgWqzejPa5nWvYvC/YtWVf/l\n",
       "UCcuucWEdTRAUKqEpYBLXgjtJn08KWweF2bJyJBn+gqaLIlZmyt5JTEwr6zQvOnUm+eZ34Ricj1G\n",
       "KlGcL6i2GlEFZ6k+5+J1Ad4fk8Os7UULm8bxpKkvLWtX1iq45ac7kRjNjGW/UCM1R98vepgvUPDa\n",
       "TgYKH3SiCehEoKhII7A7Ve/mmXSmx4oBiVG8WiNPehXq6mUfwVfSbLhzdrMWQmuVa1SS3aAOREDN\n",
       "nY/0uoCpplrt0Sk5b4YVGh+xqRwdOVtze0xRZwYL3Z3XzcZvl6xV0XEqqEDmKK2lrJpvCBTlGBba\n",
       "Noao/inTrc3en/25kILIt0iVlnQsD/njSHzQg+KlIfEe/7JkAAADAAADAAADAEPBAAABBkGedkUR\n",
       "LCP/AAADAA00vDEphAALXzDUJ7Hsn4mRwBe1rWoNs2JsbI+eCM5DJE1BoLhvT2ORxVjkkhXBOyah\n",
       "12OTcgDUkN5VkdEX9Czp/YsS8Bx5MHo7KMvIO7JTOW1fzAAZhts5Mrf9EuXduvwt8IHxQIyNK3Mn\n",
       "IJJbnGfoN8YvPTZiA0bO6KA+Pqrh3BeMPoZ058x4HZhue7DYkcyD3s5Zd3zz1k4zJDgw45DQkgsg\n",
       "waut0IMVB94o2Z+bc+kOBxjsZFRlCjy1RzO5OG9rGKyOvvpyR+RoU/rRajLqDIgA9eQCaTdHJXLs\n",
       "E9KNl0YNu2tmWPwTCgFZl4C4YAIkmEKf4AAADKgAAACvAZ6VdEf/AAADABRlvw+gACVaoOqFEa8T\n",
       "mL3XFlIE5LnVzNYXyiUo+WcO2mHqSyZAsjHgTma6ZAyvkdQ7LiORwsvqCFScgoyGJX1GgDvXeKrZ\n",
       "sOF4hWrdd8ZaNL9Ac3Z7YNMUlGgjCxcWRDPV/PNROM8xikk7A79Vh5qu097vRwJqd6FmFr3RovMV\n",
       "bfEDd2J/zkhJG/hTs9NzppNvBJ+6fQbjbsQu8AAAAwAAAwAIuQAAALQBnpdqR/8AAAMAFQJ2zEVm\n",
       "yUp48ABKvw3Om2kChpkSHmJ1tyNDWKGyXvmbC3bdlyrO0ckp0MXWitxDRKabbjveu3/vGafVfO9Z\n",
       "rOJVutTh1ajHu6ptiVlopsgt453h6DZtIZ2B0RpcXbYVD9mtimOpBV+Dju431GDIAMGuEUsvRk/i\n",
       "36scbgcnbSqlR1/SyLEC+NmIA6qLGiylXufzA+6roCwF07Qyk5wAAAMAAAMAAAMAV8EAAAK2QZqc\n",
       "SahBbJlMCF///oywAAADAClMLBQvgAoXHpGAV0n7IBCHqS4NG6extr9Y8YmG2FPMBjq+Shx8MZtg\n",
       "0R+pwEFUv3G0l9RB12Oywz6NdtZEM7ORbU0x/7pD0pVaUWuDmJfrXVsAc/4gYtt5HG/X3WPCP02S\n",
       "aG+8ywog/l2lqBwdF+Llf2NVHWwWeYMEEkzpYxV9pSIefZhZrtOTPM0PywGBpUOMVcQK6SFqBCHr\n",
       "4UxnztEAWxdjxgJ5sJ1WEKK3nWoD4rDiZJ00qtRzz31GrDpbT0Ct0+cT5j54WEgDKkimqBP4nj/g\n",
       "ucZvxSzsgGfnQDjesqyf83pP593+nlUTbn97pX1FV2x07RsMn5+Dw7Nhl9IR7kbXZrEr3lemB+4n\n",
       "vWrD1SfFaii4dH3in6ruRt/ylvUfclu5Qznne1s1yIHvJOPN50hUgdOBeTADsm0bf4vZ+dT6UHRH\n",
       "U60MZGUjtw3Ss7an9raGjY+GqIYhQRvWJ/OiXP0TgNjwsbtWBzkDa8X4vokr0i1cnQlpx2UTJfAr\n",
       "/1h/BU2L61Gbbj+CgtkpzKul90sqR4YDIdOIMbrP/HYRHV3BjtVjZuvDq2yzBCP9KfK7QCHWk9q8\n",
       "vvZf1GIQPEFK/U5dWlqvUPV7kbf1M0eBOuB8SwuOObnvcQI8G4bNZF6aVFjD8QswlpQEz0AQHOgC\n",
       "YPCtfJFXqjeEud9Q9GrkRPzIhIO/09H+c/i2t1SDlvAHjgyLOoqAFEJ8QVGWjbA5MRkM3scqgf9h\n",
       "5JKtAVNFe/JhzffhKA5hANr3LlRELnuA/0hI/u5NwZz0cEwwYbzpuf8kfwwGBPHNX/yeeN8rwgZj\n",
       "Y8HeVpH3jPloSl7fPKi5i6nmlw5OIwodV96prMCQisepdOEGCxOvpAF8sRbYb+ZOtGYwQR+QAAAD\n",
       "AAADAAA44AAAASRBnrpFFSwj/wAAAwANL6HAUquiOWcK1eouIRBVSZUVA4Tptb5RP4/dFG+q3sTU\n",
       "a/rD+uVZkKTv6n94dS4PFZ8opdggz6DRHUPPJ2rCCwkUHJt6h5eaHzBr7PIAblAA7LqmH1zTszmw\n",
       "55eec7H0dcXejNQeqO6QdlillafQ2Ths96y06L1NdOHJdlZNKehc+AjLWoNGGzRpbWMitCRnPnzk\n",
       "9o7HQNmfpfaExrTML/RLmPCIWgNcbdvszwX6k49nhMsdCTCIFhHy1G66q7WVmy3Rp6U7ec73y4Jz\n",
       "o84odE2dneaNjceEw7tI4CbrPFHq1AlkHnjzCa0fh18qqxd4TszhkFCo5PrRPzwy9acd51dcmtMm\n",
       "oPVuZSwDskwNMGIF1YAAAI+BAAAApQGe2XRH/wAAAwAVDYwMXc1DAA7WAw0MZMmmt/HNZ5YKvlxn\n",
       "bKovNucIU4U6Isng6sC+/zjZAgPsOBj3wwVDMc1p30IYZY4glO+TSJ/DABh8m40XxKRJmP/Y7c/a\n",
       "BfZ+Ebry1ZDHak9w+qCh7s+KP1OhG2qkJ3mtTpbHdx3eqBAXtQgZQVdxKh71I/GFRyBG8WYiXs3I\n",
       "czQq4s8xwAAAAwAAAwADugAAALMBnttqR/8AAAMAFQJSgIAOBpGOGsVSXgbmzxNPVvNO/gbYIfnD\n",
       "QUjbi5Jii6OLze+TFcLbR7d1cpFElni1xamoh3Esxsstjz0LGdbT8qkcPUilcStHNKvOAhECGm9Z\n",
       "U2EBTanQyytpLSQi3ApsWIFj3VQ2LSEZp/OH/G3oqrRPXepOJN6MvCORQX3K+QEya8FD+JYpv9pI\n",
       "4sE98t88FQMZ34dBKmY72AYqgAAAAwAAAwAJOQAAAbdBmt1JqEFsmUwIX//+jLAAAAMAKTWd74AI\n",
       "x7YbgTSyz5UgIW1jb1il07CsaGliUZpdVUy0auFJ85iF21VPoILLqNRST4DuRDTFDtQ8GZ1A1CAo\n",
       "mkJpJVXy+w58/8etPOLVI27/rPkvI/J9rWcw+NQe/QrtFCSiKlzU1hBJfp/0irIbz9AE3wM0DQ0P\n",
       "r78G4K5EY4eTp51i/6qUctYhENtp8cE2aRGKRyKM8ubu6/Kwsy0I2DgZwvZBD1DPpZ/Y8ZgyTikr\n",
       "pFdhaLj+Ajm30u+KjH1frFMiweEL0d+K0rS1OeFKjSpA/tTi85HtUpTDxi2cWMiygjIKzYM8lYGU\n",
       "lMl0hIQwNt+ZVYs5k82I0vIfP6be9F5e/RTX7WZWQ85hlaeJZ07JXrAbV6VcKiPwZ9YWOE0LxrHS\n",
       "xIMHjI2T8H+XMQLNknwL889Y4o7gOFBYrKZnNYC2cQVxJE0NwJ5jJRCF7DFZxMAyhZ9+o+IFiD53\n",
       "kJEbVCtIfsAxOZKYpNGbakvL9yo0n6ICR8x/tqgCpkCwEhwKMhm624bz3EsVZdgaydmdd6+efKFB\n",
       "7W5sKPeAAAADAAADAAetAAACuUGa4UnhClJlMCF//oywAAADACpfoVgknUoTJ2dTCMXyfXnKpEE7\n",
       "APxIq+NrJ3l5xcI+evkIKmf6Z9qWas8y7Hq4uIrlO7G4eU7an7tHc1exvyXC4V9cGf1UgM4DjbZK\n",
       "n1aiFQ4ozJSuH4WKVSUeTmgq40nDr1GIpcy0c5zt+/EdtoXwBXMrHnUErAgaWgkr1XXX0dIgrCek\n",
       "OyT/XC7IcwGwzgvxoHxddQohUCaOuGKOv0VGTncEZV9YOOKfnZq0GVX2NoHcdQ/8ZlrINtw6LhLZ\n",
       "837qZVHmw5m/ZaQO+tcK35b2rECgJ3Apblghtj70Edn5iTc6IxYvCnNfqI6fu73Qoz2xeqjgHQXl\n",
       "LHlhRZqTWJr9RgGhFc93zwR/Py2Lm+iFD66GmyPzAKfGuoHVneMcAw2CQYnhpOSBWd8tvHEnETuu\n",
       "RRlIoWgPjnm4AqV7hSdgcDg++Xdi7LdXcUnaJwqhdKxr8icrhpbXsi/8QeRtOwMu/sAc6BTdnztT\n",
       "jM63iIFLLu8WeQaBkwLAh/LAP1IhBSOxYmUJvMJ/FbpA0IcSQ0DbHbYRYGAJU4V+i9wPtYui8JHt\n",
       "iFgFYgBSTn8Us/MjW/dxK+bbRravJ30SBCwBv7G+fGRxmJR3QtMAm4X4nuPMc7DqcicNynKJC9Ny\n",
       "1Vh4qFKyEk33UWqSQ4rRp189vbwyPsyMvu1lxTzJoY3lDoM27r59gYXI/btpUNBwI7oVyd5oddFA\n",
       "BqQseAExgHw6thOJfPZru5fw2L5wswnO3WagGyiad7uAXeJMZEa0lKDKfZfB0b3cUzvDhwy7MbfN\n",
       "pCJYs1zYROB7IQAb9QU8miVBUyugUpuAlphHyzajQ43qW1vvZAcsYffccgk6xxFcX3hvszl82WwF\n",
       "fWmxlOW6KM8SCIV/t99zxcNw6dwdU7LTtOCs+FAAAScAAAEVQZ8fRTRMI/8AAAMADYS7vH3HyeQA\n",
       "BtqRqjn555gvR3mQv8dM8CNDDG6A3nMrIKds4seqLjwSHTQ8kzayy3yvLv8P5AlmHOa/ovprWQb4\n",
       "Swn8RCh5lEWvaGwxJdYBXwLGVzB77ReEEpad94ARZNBGNCokjQKoT23ABvK1tt5hCC/9khcVgMHf\n",
       "PpLdzXIVoIHDGpsR09U1H1S52YVhujhlCcL715apvsl9aGDXsjePuSoG3H+SATsEjY6EGNz+jtU7\n",
       "lsd3X09b36hmJArBKLFq5aL2GDNUX54T575yqRV8k/W5fOnMPZ6txuO+18BsTkFM5qXLMO0oCc9Y\n",
       "+vEdY0/PFZkfusEoW4wongBolQayXwAAAwBlQAAAAKgBnz50R/8AAAMAFQ1gees1nn0LafP2eRzw\n",
       "AF0AASfCVtqE8PbZ9/6DP0GOj4rcviafG6H0SzCEuADknNiDnzpYjqJRnPKSrK25Jny/l2FzFpai\n",
       "z3tlZhLskdOLLIJhatI2rw95GJr6JRw4FCxKFF7iAxQwBoR5WO57y8xWoT4x80Htnix9CwtyAl0M\n",
       "grfoivpPMOPeXAiI0EYBbk1ECAAAAwAAAwAA1IEAAACpAZ8gakf/AAADABWcx0OMyAAnOZvbbgAZ\n",
       "/6afgizunnJ5RO8fW7z9+ORskhdvf5OzW7utfgSbdRVkzmxx0qczijPm1hpVb6dx2m8wkpeKE4uv\n",
       "ODQ73YsP+O+Pl35mrQWeRNrTCQtM54WVsHoGUmF6vbcfFhgCuHAR56FQA6AADuptGJQoS5Tef47x\n",
       "S7tMOG2yoN5Da2xqAmpKjNvs1h4ExAAAAwAAAwAGXAAAAd1BmyNJqEFomUwU8M/+nhAAAAMAL/8H\n",
       "lYCOXDADo9v2pGq/G8JQxAUPQ9txNfHuquvrJPsEp8nCdqk6wPJfpn/lCLFHLZbz03yIXe9JGD4/\n",
       "xnqDkkwTphe9g7mwwhsrx+ScMxzCF3hl0P9gEFcaATaBiSupXnd4f/WuMv8uFXUzGT17sgHMR+nN\n",
       "BSknCKO2YcpzUBSGJv9LZgiN/xz7dJIB4hmKg5jCTu1O9iERrFoQN/WJUbhY8TPg5+Lmurs/91d3\n",
       "bdcNkNYl83Z+9exMj949sQoDLp7SPfIeMH2f6xN0nSiBpFp+ZbU63mEyjFPTpSdNJ79J17bxc6Q9\n",
       "+G36+TDIrgTmhxnC5HnHRMogKPGYGh0Ko+H6HoxEQqLf7P87+BxpowueBJMiLpyrfEopRFTeH1ff\n",
       "S+Hz7xDpu0KJmXpvf8W0UuQBIyjFHNk+YVX+WPzIz06vn69sGN3NDrRTmrxNI3kv05OYJodX4r6I\n",
       "94Cpbu2eoqjFNB0HsqKVvcwDiqzZJ+HvNtW2j42JfJMFm/KJ8pHbvS4jHTr+x08h43d7pX4hOiXc\n",
       "EgDHCPmYYYd/uNecaD8fgm5ZwsfSFmWpMoGhVJwdIHxE6dtOnVuT9lYvNk+xvwscssxbZ+BsDn8A\n",
       "AACvAZ9Cakf/AAADABWSDHPpCQxIwCW5ebyhrjFUGVivpDOBj6gcn1qZYiZqVRaVtMJjeiDfqjXr\n",
       "Lfq0d9AbZaekyp7MevS/UEKjQ6cH0t1rIkRnZI3X+5D3xYWjgxAw1aU1pLrIcaQI6lU/4eMsxJAi\n",
       "AfY4wfEMCRq2UFZ2oDIiIVsN7+ZNDvfSAkwzGizHA9+fsnShcgX9UWo8439fws8e8t0H5m/gwFWa\n",
       "kjREAAAKuAAAAn5Bm0dJ4QpSZTAhn/6eEAAAAwAxPweTe2MIqA0v6AEi1mT0wig0zJmefEAF9KTg\n",
       "K60GD70agb1v7WD35euDXNyWWCoRZ7RudVZkWjWCkBoLq3dTZvclzFlXEj/WxiInO8ANkPiqBB65\n",
       "tmkHua3FS0C7o7GSFwHcfpExXEPgEc8fIL6fVQLaCw/oXJq5IRkglRO84JAoEcwCpQFvWWGQLU/O\n",
       "FX8uPnyKnHuo/BBHrWTr5fXnr0+Db5SLViuhm64YnnxSfQth7l/bfx5VaOs3degDYsJ6KC7rcDWQ\n",
       "QYP5olWnvqUtrSrm8Tn3Ai2oi7hHWWIYx9d2qK61Hn8uqTRD7GVYo6+XEHGxOK43S4J/mTr6IQRv\n",
       "feVCY9TElkVLLIeJyK2wG8xmMvJcg638j9Rd8uGrRI8T63pdty0ti3PcmsTmahc4ijMuthMqXJqR\n",
       "8owflInUyILwmddeA0wrcBIQA63KDGfxjZeBICHEAWn43tj3+PS5q9Jfm6VDCLZJNvJDmeUk7b51\n",
       "d7RTg6v774R/AV786X+ppeCxhz9ivzMm9Qh/l4IpHUi8fnZufT3a7xpMNx1+qqs+sIgaumDGwWyP\n",
       "VDePfrFHdOPqAOMyU4Do7BzpKB9Eyqu7i6/T05HWsTQWSVQs2CsreXQdVzCDBbeL03YuTGuqLfx5\n",
       "9Gvs6OGRzs+VhusySpHCI/0e+Mh1+CRZZgLvOcvCumMxCHLrPvi9INu0xJHGalTNAGArlnojuR29\n",
       "ENpcPt1MvdWAHcOU8xPJdlXX+5//7sq6tYNoVs+dXUu74yB0vfzPKAl6W8DX8FzJCqQi/7AkT0B7\n",
       "cx73CgBybO+gvQBCY1AZOAAAAwA1IQAAASxBn2VFNEwj/wAAAwANf7pzJCQQaV4G3zpGLHkFR3m9\n",
       "uJ3zku0a9MoYUT6Ly2PSNANzh5a/0r1pqRhf4ZwnihxalHzufLy+Z0CeMBsckjAzqUO64oAAr9g3\n",
       "h+wDab6GjsgJ6WWPZvAuu07C+Dfi0EtDQg5zpOV3hWg/BfH7PvlRMNFzpzCR0jreLBxqWKt0j/jo\n",
       "xz+HUVJxEcn9zQ9jmUbfBwgCyxvtUpc5dVcKmAfRc2S0Zn/joaNFB9GPdAmO790VKdxZgOijei15\n",
       "n2ZhM7/iqEWy7PRgGdhKJa3JN621VgHz9fI4im1wjefAnHMUuKNT2Kl468hMFyOi0tnsO2MaqffF\n",
       "Dv7HvxQV9BxPFnY5VkUjrNQS9z1BPuAR2jOvrOwFHJAzBBQAFD2QBvUAAACsAZ+EdEf/AAADABWE\n",
       "D1caESQATVItHzXGjgrdnwPUE0mt58KhEIxWTZeAa8eypWq5jRoNJDuzQE8rQ90mGlzoIIL8Gn/i\n",
       "tVCRmscarHjxDFtKnl320EFE1OGf/XbaZ8kwZl6Td+TcqPzgOxbexgHk4keGKkhQuEeJOgzocRFq\n",
       "KvXgR1E/EgjASDCrqAaPpXfXiExFTttPCdudfDDUHAZFPUigAAADAAADAADPgQAAAMABn4ZqR/8A\n",
       "AAMAFZIM9xAVFkUyhcpigutxROhgwAAsO0cMSfgZuZXlEO7uxe4tWx6/LA7a4ySjSUlEL2tgSMYF\n",
       "JsUyoPs1zC9xx2JcXjrRvZYVeF2G9/IJOxABETOJdcv5KsagRhdYDTNQ2AxVDXY1TWAM8LFA8VH/\n",
       "ITk+b/iSfvrffLRLlAfI5VoYDETDLy6qm9Jjfzu8BKp/p6Qamkxp+9v/DSj6lTiqMYF9/XAKp4LW\n",
       "90P00AAAAwAAAwAAg4EAAAKkQZuLSahBaJlMCF///oywAAADADGe95P/uApPAC/a66XYySNoNbB2\n",
       "EU/UJHrpvocsxKNdl+8WVFiB6XPgPTyOnia7Y/daoMv+svxEaQTj4jWR7k9j9V4bCeVqE0tu81Sc\n",
       "H1ygPBCtTaO6b2naRUCSreWtRfwQcTNRxKKumtxciG2LpjUJYiIRBmPMIq19uq46WuCOyX4JgBj7\n",
       "ADgkYlDah0snP3b31Atzt6uN4eP+2dOP0psdUoXL34tZzTG65glHlSDYQOKaycxABt3QugfPL9Iv\n",
       "BztKGnmp2KUP9RiOjesVHbuCvAs4DLMgbwhBvB6gSm4YOraGgvSe1KxE0Ez5YfGtNb3cHPAVx0PF\n",
       "A8FyM9Y0orF1GYT3YjEaSy0UneyA+Np9DQ9PjQxywaVFkNEwEago9xFlu5FE3OqP6kxMUvObV47e\n",
       "aQ3hdGwMS+lSTXS9YDfi/PA0zGopPAUyOKaIgCP34FdQdSTluJCvMUU1K0XUCiSTMigDveHTHig9\n",
       "B3x56NATlctyK4Mrpz0lpAzWb7nhdlD8y1oPhM4MY8BS4HVrX2LrKP8zz+pKy1VthY1gRQ+TgtCV\n",
       "+a44awWesIIZb5iktGg5/hlB9IvW2pdfwh0RJBrA18bYvs4S2184f/vVmWLcW0WknfK+nuvAAjSm\n",
       "Y+NOYWFkrmjbafeq0dVHWFJf6V41I/nTFqiMUb6ygbh2ONxtYvbLYmewbKAOmZxl+Pt9SRxxNNOo\n",
       "kkrF+rA6skEAJNi8ZvWcLf9hdeeCj4LD1kaf1QB3i8bWh1yVDGzi2qgIQNYnpYKiJsvHL9uVWdMS\n",
       "uOzPth/sQyhLe7PWOr37OGOsGh+xJ84uslrhDRx1S+aCl33ZaDELtmukHbyN34XJCDzzeTFc8Dke\n",
       "UUY4vFBq1kh94AAAAQxBn6lFESwj/wAAAwANz7qaiq9u0k4CvSfnFSL9DEPZFQAlhEbOrbjz98Wc\n",
       "dDtUE6OelZTIa7TPfbbqOMcCnLOVGI8XLj0at0JHtJz6t7H6GhK4rfqAmzD1GymgB2KVTeR97L5s\n",
       "eZs08z/oujLe1yyZbCACRKgA7QS9Ky0KaEn7eL4CP2WL0w5iOqEHEcbAs//r4Q0ZNXBgD7tzjq+k\n",
       "DvvLTgLSruxhfulPAmJtnzNYDNZDpudwri0VB8E+0JqkohmAH0GvWX59m9TCcM2IsqlaVXPmw3ap\n",
       "mSyolAJL1N8R+wFg4fSPMsV9kcOpXTiSuVxakkU5TJvGLxp7lsAIVXAILoBemFgAUEuCQDUgAAAA\n",
       "uQGfyHRH/wAAAwAWLyxH1hsEK727GpKv3QQWABa+fuWCU7tF7scCoOE6Xa5x7kS4PP7mHJ3HrdqK\n",
       "O5a7ukEr9sO3cDc2aDmvk0AWoxzURovBbBxExYGWyeJadUPo2hHInbhBTIkIjBdnvzyl2QLPJcnF\n",
       "rYQobX0IxSCjA8AmYNpRjlMGp1qGyQSULMn0DfAEAowIEAO3nPTr/b4L++jda6GGWw2kJg4NdTqo\n",
       "l5+H9YgAAAMAAAMAAImBAAAAtAGfympH/wAAAwAWIgz3EA8yRNCmruFGiAKRSH+Js7eD9FLdXMcG\n",
       "/K8rTZ8WFGvwpgBWbiMPYa1mTo7VCzWYnxIshqCfLbx9/d1oI2LkMUX4huBWob3bEbhNTkRjCxGS\n",
       "/AXf7eaVEeIHpPEn7dDPT6QbplwHeMMQ/vl2GkfXgR0CwXf9VLQupGAoWM1P3YjugPBcsx9fLVmf\n",
       "0RAoesa4X1DFeEwHB1n0BwQBoAAAAwAAAwAfMAAAAshBm89JqEFsmUwIX//+jLAAAAMAMZ73k/sz\n",
       "MsiqEAJasiJY3J5gtmj7unNFHp2SEX2qLabfewZZsw4HGbS8bKUuk2XGSvFurHEHu8f3PX+dUw5d\n",
       "gDu1V1surkRIHTGUa0UyhTfGh8PRNY/uZqxTlw1zIySPE3UrN3WsLurCXLL0xo/tyxSqDh88eRW2\n",
       "jvLcUxLAqDkUyZyJvoBrW0hLkhOWpgpK2Iv7ZBdPRg8I5m2yCxrxdSffo+vdisMu87fDWPtv1te3\n",
       "gHwUsJWAEl1w9Q7u/zdM2ATesv0QVr9NeJ2+DzJBoKabZuxC5ylugzIC/OGiaOnIqO0jlwXWmXcn\n",
       "WCdFS807m1WgVThfrbuni5fPBPhqgYY63WtjFIhu4Tyv8S+1BHLBr/j1RyhEnwE2FsZeTBFEMEAF\n",
       "HgQbLgyvs7KYkJZzJo1wQbJQcapJ3gr7BzVYhWqGHciR+rlfIF2GXhq/7fwltiCq8SaSc6AHH41p\n",
       "SlDnh67nB9H4x2ig+lNdtd9SPw8qghB1mYfsrlAxHJdFL2/yLmU0L1etsONpiGTPWpoYOtYXmyk5\n",
       "sSPkM/3xMFAmcrXt/wLM7LJt9a24M3ZmgZ4zvFAsfTarNRkLCG91/qmQCSUVccRR0O8YInTfDqYU\n",
       "Y2VDY/bWZsJ3IuN2L/4q0uRpDhhOB8AkhGTt+5ufr6PlbNnaBISUwuR/h0qPTT/H5+PDbmPjMY0G\n",
       "eEfExhxZ23LF6kTAd6gkEw9jOyWUxBiQCBb6RNDwyehhIMvYVzz1y2ih090/aXc0IW2mkdzq35wW\n",
       "XaITtns9pCzm2rxCvLhiNXKPEbKsBadjvjrHFAkt3FSFUxDYuymAu8U+ZWCnL2VxteJHxyJwtv1C\n",
       "ELFjLj9HJa67L161VspZQhK4El0SysXdNsVaVT4RNjvpSLniBz1QKilPqrJe5347osAU/xwAAAMA\n",
       "AB8wAAAA8EGf7UUVLCP/AAADAA3I+aWKHWkPYGTnyprfuzb5omvLYWJvwJOdtOvHtbNf2YBHT0qT\n",
       "X6V8YgrAKaZkZYUdzrznSbSN58AVvuQCFqkyohyrUfi2yS5xzOXKKnF0W/GmQBOefNUN3pJyI7ng\n",
       "uYALOYUF7w31fZEpek2GeInv+NQtzgbFaRNRFdi0trNLIWZnJ+E0HD7ZzTeJ1OIDKOxKdbV1WY9r\n",
       "lEr8hoKa8nYyFR0pIBFVlQDn5QijndGuMYMOO0EXMhFepCPI36qQ9nH2i6Xcy1FdCXRUNmx0JxVy\n",
       "FmkIAwF0bgGiVheqeAAZh/gEbQAAAJsBngx0R/8AAAMAFh/PbSsMdfvVXrt6O+fgwk3bJoaskMhH\n",
       "UrxVTqk0av00BK1p4Mc85xvwgImiNR+E+FMUuxVcAC3JlJLE21qRG+RU3Zlu6LFZstrWgcw6R3qZ\n",
       "IzmAD1rJUeJqeqcJG02+/gkDle+jkcF1+jMB+PVYjqbXREAFxcRHyG/CP6OieNrh/jVvhmq4AAAD\n",
       "AAD79+APyQAAAKMBng5qR/8AAAMAFiuZoqqJbc9FBFcN7rq3RxDCil0dR+OdCye0xcWY9V6x/CFe\n",
       "F3sjz70Bk+jgScF91Oo3uZA5OE8dgnQ1k6a3XDUHyEqziZJyt8b6ejOhh+NlL/SfjkXy1fXM/0Zq\n",
       "38i0C1IAW4BuAQh+keD4aguKpIrHZiBzFz4cSMEveiJ0n80wHLZtEarI2Hv2hsKp14AAAAMAAp0U\n",
       "AA7pAAABzkGaEUmoQWyZTBRML//+jLAAAAMALJjMgBCPUMbb0lJrum7Xc3b7qfuSbpF2xLvoTuyA\n",
       "uaqJrliUW6uMarbjQuhA4fXXG0mHboVM1kwKJ1s710FXMS/+rGhRzt1Vo5TUbhh2MeCWyJJ/fkM/\n",
       "ORjAWESVNhulG//uM2QZkDSx20ot8y8cuYGEKHOg8H75NpOCy4ktGxj2pnnLohrO/KmSXat05qnG\n",
       "pbMUvt0hVnjaUhKz13BnbAfh/UY9g06f9a3Jt/MTfHFgk6mS//Bjh1E2w+aobRwuS2G9J7ODB/fI\n",
       "sB/eyylM5KgIwngxlVDhUjJbu1cCYoFGuQH4HTNTnU2lgfV5Ao8/N52ZmFGm08/8sKfk0mox3ViS\n",
       "g+5PfJ8V5BQkVosYDQ+AgahO9lfKkDSEM3++HRc3OiXHD6Er5qPbiy3YJ8T+L7SfGKNiN6LzX51j\n",
       "q9dp4aqzVj4zuxxgufCL3nnOl4IiCSLQg+KIiIQDV4RGvFlvBbxVIH4r8qut/ahL3MOh5xEiUdEn\n",
       "gQpaaROysZY6yW/HXda+kooDMlD9t0K5gurEMQftyKN+n+IEsf5J2b0xawqaxRm57PjemGorzhaW\n",
       "YvptvyfrIL5jDqku4AAAAKUBnjBqR/8AAAMAFrymADDUBPXLgYiQs2oNAPwXrp3jtXGp35IZQuwl\n",
       "LV6U2ZvLLem8sixJa5d8Y45spioXxTqd17X6r5P1JiDAixMkjr/7SDIBjcfPtFMhDDwodDRw2ytq\n",
       "9sGpE6wy4+m8HC7I0hEI1zQ+CJJV/dhpNagwuekwVWgbVtPLAX8zSVXyz+5CZWHXkosz2h0//QGE\n",
       "0AaKwPK6gAAAY0AAAAKeQZo1SeEKUmUwIX/+jLAAAAMALJUuY0YAODwoIT4zdmymlEfy+0d4y7jz\n",
       "1LJAUT2Q1NN0Pmv2OtdPfvo+JvK8+bShMb2twZdpphKfw1Vihntw73eTsfRDTyw/jjLvojnXJdWs\n",
       "f0d7FewTARRxjklf8V/mTNfiIDl5laaw/FdZSSehzhTLmrBAcQQxcfuYpYuULGlA9AXNC/QuQPwN\n",
       "qTuHNRay52iQg63+GWbU6crHjnMgdx3y7lnuQmihwEpNs7CJAOxwZmwDRFpMBIP8SJ/2y+991goG\n",
       "TG+zAblx3X28RegijZ8PGHribtnJn0Xj7gmZgaJUUkLblQUlhsZkHaWSRwMQ26vM37uIFpcp7Oxp\n",
       "D2WcUUmVJezDaIjh0oZrsCxXuaPBEzpNKt8PaV4Ib8qqv0gJcweY+jFpM58h/uSdatQfcjyGrFfG\n",
       "TVxtdJxO8MIgq0nPnXO/xvyDCQlL0gvhyJbKrMzukTRxh3HtbvUzrv8JVVP9wIhVKsXXWiMu1K4s\n",
       "3R8ISlCU4jEA1hGlsO0msu+QG5oTnRUukHbjdCWhgVS57lrQXezVW9G2hnggHJieJHr9aiA9YIeU\n",
       "gbbFG8ecw4euSTMrpTfAEhtCNOR2Db8yYjI3Pw9CCPUQay+db8MNMgFchFZmRZgKG90Ydi0s0JkH\n",
       "dwq2qJG1jCpC5BNJhyrXK3/Zdi9FRXKWgxNdrx2D562fj+4KXeL1gjMNKZJeSXiVdafG1MND0k0R\n",
       "VgYVMk7Cj9RFYhAsVdFD6tQSo5lNsnNXAnp0ntn+A/Zjq3lPbRuDYUwu7J3qtp0WUZSEePyWDT8r\n",
       "7ResK1cj5nBaehfoV19e8EBO8eIfhvjiaoWFGjAX1RsBMRiayQMxu59dPnf+n22XgiFtU4i3mzpv\n",
       "IQAAAPVBnlNFNEwj/wAAAwAOHcj6+4ar0AH8bd02RX1fUeU4raoPHW1L8O5norHLRr41gBSvljWP\n",
       "wU2vCjdDJbbGJHB8U/+lCxkJ/OwX7pIQmppnroO2Ox3Qpvp/8Iipbwv49wC+3J3742Oij/5hh70Y\n",
       "sGTd9OzSasYkdrArK/cBP8T1LtquBtYAwV5QVNV9SlvO5WgopDgCy6rVZz0dSpqeAQK2lgIftogm\n",
       "jztFedcJJlRp4jiww6YQsZpVUVrBGVfu4KHacjT8oSMkZidaLNGGOoTFq9QLyY5u0wRpEhvouAAZ\n",
       "FyrdW/Ec5KQCZTQDsvQ2hAcaAADUgAAAAJYBnnJ0R/8AAAMAFr1OjGeOn4hfU0jdmbg+wHtOWqvX\n",
       "g2ldHDBd5KNarnNstLQKjLVsB2KSLfDHme/OX5OZKsQkP9FNesgwAJo6oU84Y0omTo/oZzANbgen\n",
       "LjjtEQUAhgDYCIPSvt6jFbmghACtaOOScdMCq2YgpC660yOaN3vjlGXR3o0D6jl1HjSAAAADAAvA\n",
       "AAADAcEAAACRAZ50akf/AAADABakDr7G/qgA/uhvLuPfOVL/WKlSBRMNCuFdU/cbuVkZf72eb4ii\n",
       "758wbthQBU2ynVartqDgCaczPSsV/j1qhjgvO/zabVqGxhprU4zJK459CjmoClSLiUd68AKpz2pS\n",
       "q+FwuM1FbxCvEllv0BiiI6RpIejVjLowD9kJDwAAAwADvlWOgAAPmQAAAkpBmnlJqEFomUwIX//+\n",
       "jLAAAAMALJU2lyphABnoL+85DhvvhAGRluuR/tLElG8lknJIWtbpX7N1wKjl2OixNKjg16maIj2y\n",
       "6LS3iEjCLYWw5lg2rmP8+/R1AUTmgC0nPKXVZCMflofFYXp9x0vEQrwEKy/sAFRuRPaMgO8T12mr\n",
       "aZ4hrjQ2d9eW8yPXgbuWtdX6moFGp07oPDYDRkbV4VKAWwBpMRSqA5CgQZx7KGHIhFvEi9r4k8Jj\n",
       "W5vH8bjz2rdVaWHm0ma6fWcteZ+oa2LypxI23KZg/AVvArqTN9KBfqiXO0/ETnjuwQn+NGKqkIOX\n",
       "kJPeBT3wdHThRH4ICaRmoUR4aMTnFAUdvsM/paLFNa4hnJGS45PjiRYIbHsvkkgyv4NQkADQgAGC\n",
       "zUCtjEBCQE8xxlahxJCELddpw+9LSW2ef/f8eB1r0aKI7AHaO0TRHUo1vKLfP0I+JToIpvVYgeq4\n",
       "+vpkEk+ymLwzln4jrqWWvBKl0lmcBGUjXgRtpI8weEeSSkuCmQguBLmc3UVrumxTfAZEeqPWcBm1\n",
       "cpGnMqL7xjV08VL74CJRwIeAN7qHw1E+eZJkzNZAUpUh9w7kBiAKyBAs7Wq58e/QekjKSoazszFY\n",
       "7TKBVBkIPJY1qkqI6UYPepwkPf+gmZd0nkEPIc2DafPyZ+pzti554JtLvY2WNThSGlD1lZr2IzAJ\n",
       "c7kNfJHQwykhU1WtnPoJyO8S60JToZ7mqwOQhM4BoHzJzpS+bC4jW4XwfIROKyAG0OgAF7pTKjaA\n",
       "ADegAAABPUGel0URLCP/AAADAA4dmvHun4gBbIvLwzTR2n1SU95tcVqHkb0AO9vDUezr/zpRim36\n",
       "n7bEyjqva3h4Q4TgdM9NrgaPVoI0nvNOEzJWUYgnN0O/A9sY/Ux7e6xUmxpk7MFnkPDQHG83m/vT\n",
       "ZqlGSI1m3RscUyp7KRrx+6Xlf//I8f6UrjyjlTns3uURSh1YWTY+2zE5XGec7k1IOshXjQ7XSLZJ\n",
       "cFLO/an7q4/WXinlbBhDNVVnf9vEDXvKP3wUiephFlb5/Z6L01OCH6CzHUGDleVpbQtQGAKtDosD\n",
       "vtEFjLjmaBRXrlLGij98i5UVWhL/1t0faHeqIwH5ST9P4sWm/AxBVCR9LvD3tSxM59Vmpk4GqyE/\n",
       "lrziWxJpnEmWQQmE3CF4Ptp+bheJgwQqNQAKgEAs+QdgAP3gAAP9AAAAtgGetnRH/wAAAwAWvU7G\n",
       "sR8VEn47N+nhNV1uagEOuTuDAX1YGezj3LNBY4Rjx7zOG9UUp+fy1h+geKWaqvSn9zV+ltbLrP6/\n",
       "kOPNolHXU4yMwbUvW2zAL7K4ABoHeMvfxFwbMkouTgeQ4zxsYJkfTZrSKFqSDcgqydBwLa82o6zX\n",
       "y4XuiiXvKnUt+QbRctkuPqC6zlxn9nd0faMKCKFzyFic64/J+t3rR5AAAAMAAGFGI4wAAMWBAAAA\n",
       "4gGeuGpH/wAAAwAWu5mToxDhAVmGe1tqRX6w9oanPx35yYRqlBPvn81fD1sPhW/Mm8gTBqI6LbrB\n",
       "ZMgbFgiuCyjVP30rGe8XJRkQiMAC0fbTzMt4Fw2FWOZJjs/ty4xd/DXpuWPxP7a6M/oXaLA2IVqy\n",
       "uM6ftotlWY3UXW6aGzxoCXxMYV1wPJPcbVzBpKwoQyyJETM1vXvQfgz8E2dK9stu2IMFge2Wik6X\n",
       "FSdwaKg0q6KrrtPy3WfAVq5zo4TdYQSjmQcun6IwYHFyMr+S1TqyGT4MnvvAAAADARMYAAADA9IA\n",
       "AAGyQZq6SahBbJlMCF///oywAAADADALS0uL1hoARkenB5NowG5yWFhHHqTuoxCD4d/dKLskdKYm\n",
       "upwWlG9Zxpk11xEMxauHOr5Yni3DfWYtM/kiP8jH+qCxtlSUhVLOAFKr+G+gK0Bc7zgr1GnQ1NCH\n",
       "g5Nnm91491SINB38sGiwSVkfrcXJxYDQwxglX900sV4ztAaFzNceFoWGzFHK4/xmykk7UQzv3yjK\n",
       "lc5JozR5jFOLfYbY6y/6W48AErOi+KVcUX1kuZpj1I2spE+BuLaJvHa6IuKJMTjaZZz+8XD0tBK0\n",
       "fLf/gNnn9RZSAh4AyGmjgY/tYwfWba5HFumyYAscRBOzui7prjWTPiMgWzAicT0s6B8hKhNwH2GP\n",
       "YkARvNChzTd+kCPK7ZG2QJLNka/r3Tl386N+yXE19kLrmfFpKf3/XMxF/eHrKLATMN/fFN7Wj4HQ\n",
       "fH/B54x6EpTwbTIz2/iOvI2AfyH4vRoHj5M0M1d2nL6C92HLeD0Mh6hrW4DyUaFQmxJdRKDgOPBq\n",
       "YqHpM2TjtXY+mkx9eyG1NQS3De+X1Xvz7BNzIKa5N9+r/SCh7SEAAALSQZreSeEKUmUwIX/+jLAA\n",
       "AAMAMUtLS4PYku1jhl64AGbwhgcYN2jJhlanjU4WydX2lV2JZsP4m3i3eY4+CwglI47ploAwP+5m\n",
       "xb3v1+nmK/VspaVLtiJaT5b5Uuzptp0roZQiYHus11IEXrZYcw5vrQJ+TtYq7vodLnA8bxqscgwQ\n",
       "rg7+bfKAIjnFSQakYRH5FDRXnTz4HJh7kDFrhqsAzCjoCZJOJq6G6vhw2CDzf9ASxv8lDoCJzOiU\n",
       "YSiQCWqwV7GkPW7sxvPRuctbtudWv49/N9TKI5aAWlOSQo7n6D8/GW+42GOKByVQ0HyIEvYKoxW8\n",
       "DALCKOb9GSw9+lwDbwZi76N1iRXV7oTmSmRkVJ9XiqFHl0pqd6GQ3OIWFLdk+72jAtcU8Epmwjtf\n",
       "fxWgfq3NSSw6F00pN2XkvFKG7Z9tzBdXoljj/NVEOCaDSaH6Nu+4FQTxN4fSlXSJGaRfgB48sk/A\n",
       "i8AiprfQaS2sQvVtSne5+OGfTTdpXyFHK4phpBMVXFwJsqA1wQyHVmG/1yU8AO2gJHp8/uiryBuU\n",
       "qpbBdIZFJfJBUjPRcHeRUUVMBXaF76HwEdAJm9zPg6NXhMeeFJcKlMBAVFHs1dc+vMHEplVW0nCC\n",
       "nTzIL9h/NZ1AU970gnaqmeaz9R+nbrdLgYSo/fB3hMlfbsKLZz4RAeWgu2CoSVw6C1qec27aIozS\n",
       "gyQQIZUu5X36yFCscO1ogrFTQ4ylUZX1JY0xvY12akfEFLSH1WWtVn0cjGtwxudwviT+6ut54OKt\n",
       "FV9Zb8wjPzJ8ScNA59wPnw9bVjUoE5Ic/+yzmsQrgC3IRAcNHVSEbx8VvDZs1T4T148l+sKhIIiH\n",
       "LTAYZHbJMJ3es6nSi9iCs+qtG5uGDfQPxn779MahquKqoXj4ifLLOymD980YPSJSq4PkwEfZwcdI\n",
       "ze0uXVEZLzFZdfnXl5QPUA8RU7SAKSAAAAE4QZ78RTRMI/8AAAMADnbV1aHABZgpYKfCyjpn0sVB\n",
       "XTOruGarHeSbxoXulkjXvkaV6W3LK/FrCIUTZ6NuoujDFAWx+deJV5Wl1NLturQ1J4zNP68w6Wl8\n",
       "EGt69ZdK+qbDV2TiPwIF94UAedwbwrvs149OekFq33YHvpocMErXSxrZt7UX9+fFdmUQ85z420+F\n",
       "eDAChDnM6JtVvUQqhkCK+9bW2Cu6VL5KXvktHpu99n/OEZ3KzVoYK9lHoSugKa+Ivs0dV55b1vLi\n",
       "7IhVUIH59dDPt7XAWqhoszFOvn2OLFSbYvgMGyOW1SgAYfejPuHXo0c8Dyg9Mc5uvZLloMnAZY6n\n",
       "QmwEZvxO149RYG948wwR8BJOxedtfTB1Egbpem4/QXw28dVOp6xc1WBwLWL0vLAuAdCIboJPAAAA\n",
       "ywGfG3RH/wAAAwAXT+IgBGRckKzUVxlPj4yrz1nrvGKxgFJNqt+s3Bx0AYfjhKJZ6A63x4BVERyj\n",
       "NakIUImVfu8FpM+7WcgIrOdkrzc/SpYlZC9gxQJYUzKCLnIsUbhUQ2LyncVihHvHk7/f2NtSzgmA\n",
       "RTSmw3wHeIlk8QooFEsZL39yvMRElDEpFuSsaXM7eibpdxHOIc2DnoFvF7cd0BixnTm0CIGd/6zG\n",
       "FpkeCU8Z60xv4D3nDXoynhxA5IAXgUULeMEAmIzAAAIHAAAAugGfHWpH/wAAAwAXOxZvkwAs+oCQ\n",
       "ZAHSM+9Ip1WOQcgUUk9WPZYu/HNsI0GZ8RqO+ntYGgT/96wvdH81uBRPHi9PLyumrO/EbEhbn3O3\n",
       "M24aGaPld549qlrqV/5Lo64EBWq6IKZN20RHrtcKszlvnvd1hu5yRUrdQqDN+3pxWlmZnuC+ZnAH\n",
       "1hRUvCIaWBARbfTS0PF3FXlJf5e8wqoM0g3VPNlLC6dJ4eIZREzzoQCAiMgEpAAAAwDKgAAAAtBB\n",
       "mwJJqEFomUwIX//+jLAAAAMAMt73lcQ2L7WgBD9E5j7Cav+8v9hwdxxe2pIf7tc4p/gDKL/4IckS\n",
       "GB2pBZnj9miCsgIU1tQ+mReAnIOsxjcYjrw9UfHhYMBdCELHROaRp+A3fUHnJQkuiTfiNHyVnV2G\n",
       "8kpUtgrXgApqtM7DVmd06YAVhmRmn91djeYw3btxTU+l23Y35D2yZIMFGudYgvlJR3jpwIp/xGm3\n",
       "/rLWJiypkWmou/W5i8OQMAPZheyZp6hoUjDBlqETy6YGYQvxGDP/EeFBPtx3JvI8dWmvLlocb6ji\n",
       "Vw47rTtv4ti6vCeh4rcQfEv14Ugq/p1Ws2bqQ+vDd5meceERlpqasNatqd3z8slGppECd8IBz7bA\n",
       "2/TY2HHIVi78unD5UJ/HMRU6tavze3Mvz1vqviuyGH+A/W9KGwlJFql0qDPChUv4ScCqRq8BdyZB\n",
       "4U3k23TXCQP7AB7NANQLtAseI9hilB0lYDNCmbHhkUEJuMUHkA1vMnApaxvJ+ZQ1GAPoYcsaTktZ\n",
       "kPMD5KR5PgNh/HOn2Kvt31JRsXSa7U6XCCItZ90j8pWNRFlSTmxIFxSYvob6xVzeFwjZPjCSYjh7\n",
       "aogoZaQ7k4/8uLlE3przFj2dcD+pJFNvhXbdqRa0ENIUxSVvdLQ+2572Cd3LBQ38h2IznbXuBa4l\n",
       "G1JMazb+0HXlaiWC1sWLvzDKDZ/8Yx4o51sW3MBhwtnemUjmOx9cU3Qlux4ijoOQfWc+jYfc75eX\n",
       "rWsH/HJU7fHtfaGz+qPuXmIIC4U65BE/my9vv1bj5QDPyQEj1YMiBSy6TxRDoWHIRFTrDztwWcsw\n",
       "SrYmHsWIqvJsaYXZL5orMabL5TdOjcpSGk66as0kgakz672uG/+ir0Mp+meVIDtXDGLbwthbp9H7\n",
       "1aZMxcm+ROatC90aUgmRHr1OvRYK5ChAtnp0AAADAAADAakAAAEkQZ8gRREsI/8AAAMADlRf2ZvQ\n",
       "AcbsCjfNEa6FJzSuVB+uMEjOvpVQs46w7ZI4hFymJkn79OcPzBAGvHMIz2MAntEHwn0y+XxleLVs\n",
       "UbIyQ2iMvuyfYf2YWPY0jt4aAW+NIeuIet68zs3eVMKnbfI+qLZUZWLSqI4h17zlmTcp6h6JjvZH\n",
       "XMyt5goM+Fy16ohUR+VGAqmK/h00O793GL/MpREDxapFUSP95KEl1HE9RqnSIOy8NBk1Kpujvs5k\n",
       "UxBfCBPZS2QCZB+SfxCVJFJEnFf/3XlHNh/2rch3AvEddgJ5/ECCK2J4i+JBveJ/ZhkS7tyBF4xC\n",
       "jBbqr1O3t62GeMzfxxVF+hBOVVyseuNEcxTqAodYbLl9kz3p6KESfkmeAAAFlQAAAMQBn190R/8A\n",
       "AAMAF1qoABLSBtAEPi0847GXj85g8OHyzRagCCMi1j0SawwtYlGlzCcqNpTMD4DHjh3O4FMHUxP/\n",
       "5T69OdecH3J3cVv1JpxwxAuRWyikx//T/d2xCbOfYxLZhEprotYdIZkT4tkB6VOpPN+Nem07Z20c\n",
       "0ybeD6q7r32PbryATaX/F/FvjAVR5efq9WGvk0Tn8sX8HxMVXrPgEnrYkNrg9Xfwo3p7PxCW8a5i\n",
       "tSGQHXWZpOISEAARsgAAAwJeAAAAtAGfQWpH/wAAAwAXM7mNwQAXQAvGL+jUT1mYzeKaTKh/IPyD\n",
       "O7luEiz2qS3GG3vNXNIGWLct/dL2D5xUZ7zqV9H6wbV9fhgCHvUnVaBRDzdWRaA/ukKOBY+i/Cst\n",
       "+95ZOHIShQsxVUn/1lYLMdOe2A0xX6ZJM2QMGcTFwQQeCI83jh5RLEE8qzPuXjdJyQoit0htBPhb\n",
       "SiQfQoqOMkcRESIuGsU1ptQpdgwEjoABXQAAAwAu4QAAAftBm0RJqEFsmUwUTCv//jhAAAADALVE\n",
       "CJsAF0vVbGXHDw9VNDIwgfqFgsAH7zf/3gtdj6Y7RGZQj3mU5YqAi7ZOgYxDN/DkW3+ITu4xEw9S\n",
       "npy6rdjNQDc1pego4fK4O/N9rEugZNsV+nrahmQ7KWLV/PXrBp6FS4Os1fm6QBTsWrnLxRw3ZARg\n",
       "gJmLLqk4+epjBpPQmPAT+HhDVO3AX+hB2t80P0+sgC+CTeRkNT4MiGp39R/C12QBr24UFuEmqWyM\n",
       "9HnP5Mj5YZDOFfQVi+6zX27ap9meP++3+Y+X7KAcRXLjH5mVMUAVeV21MqVbN9//3RNW3yu7lqf4\n",
       "s10ljyy+LSflbXNC9jiRoMZAkvMlmRDMiJs+aDMbs3Aj8MfOOLZSgod63gqZDiYC9JxzW+ylPsb0\n",
       "5ay5GR+FbvjAHfxEFX0+sg/Vh/zzLFa0mJ/PZNhNtQmAaHah77M+lhwftG4cbEPv0pOHxyVDuvqY\n",
       "Gy30QaE1wRUWuXIxBUgbl2/qpz7HcN+zOl1J/RPniMKkXcAicOE0VvikqaRr8kIOpK5QkwpMED97\n",
       "QCgVOvGoWLy0OzoTmRbNALR4gqkrDlnsd/oEQ1+YxztKjI93vJo7YBCJa/tL8B5MeODjNYwdfEQD\n",
       "AV2ZMRawcIIBZZjqWbVgPygcGAAAAwAAAwAAu4AAAADFAZ9jakf/AAADABfncH2s+gAzmyRWSkMQ\n",
       "1QAXURTL86nITqx2ryOkWMTnmj0xCtDDcKJ1CUD89VmEJ+U8l+CBgPBxVkjSW+mCVi99V7xXvF3k\n",
       "nceetMOOXAz2g6ni+NkAI8lgcJkffAOJnmvZdWdah4xIETwBbLUFYMQ1OqR+8GjLKelar0CcuMfs\n",
       "T49rFHAKMJtr6mA1KUbw5ynoUXYuOqW1m4Y8r0sK240015/3PChgSHQWjlEsr3iz46d8A3wAAAMA\n",
       "kYEAAAHJQZtlSeEKUmUwIX/+jLAAAAMALt9dqdiBJhm7ixxJwAgZXHG8Lhhqd9gYUqI1y8z1tVy3\n",
       "X0bz14KQFBXUuce60yhTUj3i76Pahbsht1mhUgXfO9tfmy7v7d2yzZu91MsSMtfkz+ildH3lAxAF\n",
       "OS42EMP8Pg0O5Ltxl2xFuJUuOdFHX121UUIFXzrY5LZFgThqZqZhdFWv7qnjJVpA2rADlK6S9Cfj\n",
       "Hdn4WM1UAiHrpEeSXBNzSRR0hOI2vXD62tK7ObvjktbUzYauNTn7qw2+4Hwvm+Rh+lqyKpCh8JpP\n",
       "9cERMTIdqmgkBZZrDlfuztZToB/jg03TblhtcFxaAuUmg2ecZuA/WMWUqbGWKJn8VOqtAO6MIawI\n",
       "NhjSHQ6FlmJ9ro6wTSpz7PEKF+ZneVkRHnisw5HO4++DYAjw4qc1KOGzgKKf9FCX6LtLOtoYo9gK\n",
       "Lr4qtZbWyFVKUj8LLdJb0ViTTd1MQhdcoajA1sezqResGi5ymbDEVKhjJO3NkupyaiTGv58ABBLo\n",
       "lAJ/Nd2Tzp1OX0Hzalrf2sgvooj6wpgefWM6c/duLkW1N1Xt/bY6GcgUEESybj4PDIALl8m/cLAK\n",
       "oAAAAwCygQAAAkRBm4hJ4Q6JlMCF//6MsAAAAwAMVdecsxEzoLrPLABC75mLNmq1JKzPyPxsYCQV\n",
       "FQzAkAEx1++w+HCENs0hU0qyAarbnZzPNlnaLsFC5xkh5EcbgdONznjYI1pqr6KnqIzh1n41cOHQ\n",
       "l2bZwwazeysT+euV22xtTkjF1TnXPSI8pMSJvluwoYrWvIGGVkhw4dBygz1Xq6/8gZCwOXVejVsg\n",
       "7YyYsPb5Mu7M5TS2RzO5bSodrawaaU62DDha2e0bBQKEUQTKO0oRv0MKX/NbnynrS+REpi3905V7\n",
       "gqX1kBKuh3mxpwyho9pcKB0vvePotpSs2YW79dDHjK0pB6za9l4neTRp/ggYifxEfN3gtOECOPP/\n",
       "5Vz7w2zWYmOW3EFY7kYRR/e/tuWb/cLoZo0B3gd9I8UDFchtWYtUzcNhHIKTENxUSRxSLLlJxVEq\n",
       "KE27eFcPPseix4LZj7Yo63ODV05dV+mPis36DhVCmBOvla2bK2fHOgRt7XZijAk51vNfHK1LfcgC\n",
       "xHlbMcxgX2X/U2hafwI3T+JWD/jG4ow/GuH1yIXNFd9knfjHZcIdFJSCd/mWFKG7QTF+5d/0RlHd\n",
       "H/3ibfleTDfgMlUp2O9LM8HUwgnDrl5kOaiEcB330+D2kWttBE1kYKNR7YHRdiM/mz0/Xd39pBqj\n",
       "aMeeeXRlJS1B0x+Z2jwNAw2BjIOM03+nCShj6GoMpbN4PPlj6olldKimM3y7XlIif3GoOy0ekeOj\n",
       "ObipLP/o5uBPgyh1euuQoKQAAAQ9AAAA8EGfpkURPCP/AAADAAfcNvxuBsgGlMS50wwOiesY9oAC\n",
       "4ZdnQVV1xX5B8gXIuJoywY3E865FL+Bf57TT2HzionpqPH4/1ZFFnAacx2mvswDrlGM/bvJFgddK\n",
       "xdTcAQVpvN1u0FDT+bSgS87GO0/njFjtvdUt22vacInEEefUJNHWMUcTbkpNRAat2dsZjnTucVzB\n",
       "rUZN5FCDBoyhR2WVJA5Wgl+GxLU7BwiC1Bx1nLSgiky45xqU5Sn5VvLXPDy5Lals0hstpFt0PDde\n",
       "Ikf7imiHMyPNRerG8M0tUyZQdGHFgNyTW/iwzB4pYAAq/JgLuQAAAKQBn8dqR/8AAAMADOSg3l77\n",
       "/aGchWTqWE+Pt0eMwCMJOIYFCvLo/GCFSy77q3DwcMFJn7rGproaZABbb0a91XArETEm4XLMK4el\n",
       "l0hRFwlM6tGo8TwdCQL9CuRFbPkMlHiXeC6is3IusobTuNx/tsYj6QazlKrLgQOiaBF8b8mPniA7\n",
       "/OOitXao9XqiZBHVqw+e1qoRDkJQFUAAAAMDLfQAAAMBgQAAAehBm8pJqEFomUwU8L/+jLAAAAMA\n",
       "DFLZSAMqjv+GHbYKGgB/fxH4AuzieY6ighilxf3vBOj/ADPtHTKZcQDoQzNgbuquq5JeYpiimsk5\n",
       "zTYtZU7cXwJcMS703Vq4SOslspE5AsTH6ofxXnhI97vDrsZ7rCwUeWTHIrfHR+MOKGhK+cXPTeN5\n",
       "7269k0QjXLMdLxeilHFHAuyZY/WRlmeROFj4Zm2tMwfykaOIBSLQ/lZu6T23TAFUkVcvTC8rXzyt\n",
       "pyJ1niAhClw94BPRxXWq2/KcSOXK72JUmufVPPIQzEQYYCac+m1UVSzCKp9c3WLbJ/WSvaom3huX\n",
       "4PJOm1Y7Wlxl31prTjmz9Ud4ixyA6HNixxyBw5taKuNM1we3J1AlKnfe84ktdd0JDREIFMz7snbU\n",
       "4g0iviYBk2ee970Q5O62unyub/ULtb3+IGq+l1SpWbenmlkGZHXiAQPoj+o8+Kjmoe84LH7oPZGE\n",
       "sOp2gKzlZubVscnpgQ8s7Z32ITrOHRSW27Vcgk6Rh66Zqz28mDIByfZda3F6unRJQULXKusJvchO\n",
       "ZebdNxl1LwVdTLo7ZqdKH+JjaYvK5rUsEjy/Q4mK4eak97vue8sH7NB4eFm4Cdge4oQJ+P7ajJAO\n",
       "zRyjMf4AyAAAAwAHzAAAALYBn+lqR/8AAAMADOeRTUTIReFfDUVHYq+YsZdWQURubZ/lV+Fp8s7f\n",
       "peqknFVkWw8HhFFWlopexZTORLT8FgBIeIUniXmTfxWLy67Te7pQXmOjKcGoMw2ElApgpfVMjFRf\n",
       "yfkRzdd77RK2gShw6MAgtuUUsJpzVK+EDGkr3zMuCW9LwVotXG/T7pNkrhxSVvSlOlMzh1/vQJUa\n",
       "NXPwCvWep9ZuAItdyigiNqIIUQl7+ERAAAAFBQAAAehBm+1J4QpSZTAhf/6MsAAAAwAMVRtKUydj\n",
       "wnAA0O3FdaVlEMfp7dJ/YWSnYs6rKV4B1j6xIfnXVj1p4s5t3BxWRuwcAYhCI4IVZC+3UXfCcCng\n",
       "a3ZpXNNHa7+4yxR/0EKR5Ch4BV2Z4v8TFcolNPlb1AnPn1L9PsITJRfvBveWvS/51cZqC2vyM/df\n",
       "69d3wQO+SJ5a0/gxVf572ttgnBIui4C161pgSujagfSvvyKnzkSlZqwrZkyGG3pUdvlVwMyzKLJ9\n",
       "JWlodY8z/aTUxPm7Aopas1OFTCiUt3/yjjwaL2uOxnxvx/GbBCqR9wnYLE+SmzKIUEUpNKvv428j\n",
       "x3FxsIXCv3wKzCenJGuhmfjARhUxFYoomS4YDQxvfODqf2L+5k/pNkGxHQg+lb2SfM8HCmNT9gMQ\n",
       "XxFnxpKAlK1GxJ0TNzTnaDbYIPAabBosSp7yaBBunq0kHdXvzH5/fSX0tdjcyEzPUa2dRkAXjXqx\n",
       "H3l2pnqJwKz/0wPSa/C39GxNQUm5+fOigjfpShiY3x9HNMwFmKB7vYFygpxP1AddVVnvDXEL5f7d\n",
       "nwkF+NEutMhTkEv+uzfALL6CpqCwtLNj7C9RizSiLKstZP/ZbUzcjY9yusaAJs9UM+AOzxWOLhIA\n",
       "5wAAAwAHTAAAANNBngtFNEwj/wAAAwAH8tthqVs/RAid1TsjFAB6YMlZT05S02RkIeMzNm51IjHA\n",
       "W0robV/pEXBMwdxKffXIjGCXFExwgcKhpyRNgryNDqpzwPEHnUf/tYz/dY40T1OivtpaFbPhHq3V\n",
       "UVPlkBOPGpSlphDDV1t0XGUiyP5//YPbCOnDwKUtaf0gKL/7y4PsFIl46n67LKTzvhs+sjgmi/Bi\n",
       "Rj0qMhcRRjKwIwYbHN7A9KgE/9A2cF7VdcRNHG0ka4ojEG02YYTLqb+DJOkZAAADAB0wAAAAkwGe\n",
       "LGpH/wAAAwAM5KDhsnJLx3xlP9UKYxAe/hMfzWCF6Jx+18cwWw1A+FzClo2WiRakYjJiquWiOUVi\n",
       "cK39G0uUseEwUdI8vRxwfaATQsGb8XeFzRDf9qj5DMAa//sazX1WFY/i4FLTnzkTDQIUFE2Hzvyr\n",
       "8TSMmOnXXh8AjD8wH8Ce7bqwByb5AAAFCAAAAwCbgQAAAm1BmjFJqEFomUwIX//+jLAAAKodVbq7\n",
       "9hhxpoSJXIRj+8PczHABz1822eezkKqL6XwfMQBy7GFfXfWErJuM4JslbnQiEskT3NF1COfbbHmb\n",
       "rZbLNIGCVloDA0ZWkPEV6AUbuwAeiImwrkjWIZIzeIXyBvy8HG/th4AHufE9GgxHKVv7OtbZUmtZ\n",
       "/Rr+p9QHjPX/lDcB0LlrLhtZ3MJ89fZerfYhXt/EiDT5uCBNR5ZBhdimM8fufW4b4VC7+Dn4jEK6\n",
       "nMYy3Kk0iqn5dn6FYKYCMXOkbKAqPlbrlfrpIRctrIlLBUastCjWKZB8p/tSpFWxZdoGA/DL7mFC\n",
       "Lhy5wXjL56o4qwlJTL2bSguscx449a+eNbd1ByD5yOcGEDRL3mdKQNEfkRVJKu2u+gwbG48HqhXf\n",
       "xhqElPp1nOrs0PMK4qOw3jwHkev+WqLq2Scqggzbmj/RcrtmycDA8q0W/Cg1pkCbBwMTiDvv0yxr\n",
       "8olF5AheY2w02Jd2snEC5gY5FB8o5e+tsBV9Mz2/xnuxd856N1rp8iTYjTql1tQ8ZPVjV4wqRgG9\n",
       "y6bBGcfjBkMRUPFc9kP9d+Qo7P+wngmVRnQbLzs8S+44kYCkNQJ4mx2UHCTZ4nZ6rNcFXlOY9Lee\n",
       "EIQyWVqnDUYYWOMlsajfCnf8IW0bmC1h0pOY+gfPmcFlCkqUruDCXTVeoo9fDpkf0ILebam4Ze92\n",
       "rWLRp1Om4nsTLmkfrBQ0tgsMimXv+un8mIGWAeN96l4E+Le6EstQvCtu+on4xgHX//8x4/01httA\n",
       "HLSBjktBqk1iCHJAdiUJjSSaN5+MFk+U3kTXVlMAAAEHQZ5PRREsI/8AAAMAB/NyQ/A6GhyhtEgA\n",
       "C6TxeoAVH5BLU6uecPmJTpTcYjBA7GH+mGSWTnKR6/K9mAnKb4e7Se/neyIeC7N8gwTcs1Sb4C2V\n",
       "5q5w1bA8IZHNSIzegjwOyhalZugtgRU56RPNvp6r/ez7J8Kz9EZiKIKlXrVQkhxvkBaBkZidEhbW\n",
       "+m8eC8Zuu+fR0UleZ9v03r07f2GFXK4ADTkLmm+ud07EIpn1/517HXKkbTsYE/zsE7K1tPCPlziA\n",
       "ZRETNBLE1vTwFoOtbhJRPNDKGj46FfljKZuHZhNDy33TojaEqQCLzrKcG9bxkqJteWmzpnZDWHPU\n",
       "+wnpaSJUDQAACTkAAACUAZ5udEf/AAADAAzeFzp9EN7TIpfVgWSXkkqtBhvhV7i37hjVKqV+sxJG\n",
       "QAiry63eaLo9oTfWGCSrqvKcYzd+i4NOM0bkf1oCykJ2RbfHEDEhBNrHvrySVFDDIDXkEsxCVkrR\n",
       "apcY8/olqG13wq3syyzzNU82Lis+xZJjl4s0xA+36dbR6VDVEBZorgAAAwAAAwAJOAAAAJMBnnBq\n",
       "R/8AAAMADOSg482RVo1eDVg8QjMXIuiqbItcwariEme9j2QDRCMxXp0f2L61qLT1iXYQYkJjIgQY\n",
       "Oo0lqAD0xfSryjTCdKb/0P8/Ch/RVs68pJxZNduWPBqtur2eAgGYO6TrYEUhuKjSxvopqU62xE/Y\n",
       "xEVf71HQ9saNTlKoq+M0PBTJmAAOXXAAAAMAJOAAAAI8QZp1SahBbJlMCF///oywAACt2bJ+wvs3\n",
       "6S96u/j2hfZ3kA34RZrm72R04gAlQc8xiOhbU10SP1mW/iQxyA8WgbKPwkcC2VyUny1FzM6ncUIQ\n",
       "Vb4tmpBer80ZyOajQngl9toAXXz1PEgD4KNcpVP/4x44/LzFqTmJD/6rfwxyIpgnc/fAl5I4qNjH\n",
       "ton3MeD8xeKjQSv8gv4jecd/T4TqR9siMyux9Y7UmFpsZG36Z25FYf1PNFOqEDh07KId+4ROGAeq\n",
       "/iUofh6/vU3SHQPfoUt0lVsoC4maxLYPAztFwQbzDUrbfe7AZoxvftrJMF07YmBsSkyH4PdQX3C/\n",
       "PqEbtJDPpZnYbwc5P9fjZqVykvHKLGCzhSDBWjL+xy+98EyLVdFjwjK9z93vONOrwvRhhNfjYkWL\n",
       "Bt5Naq0uHHH9sfpAhOJ5khPmw8UeRm6TcYDMY0TybhLiAfdOVON0dYVeICnCUWcPcc+EOoFG+OAB\n",
       "RKY5zMLxWxbgVErY2Jh2UG05Q0mN4MI9AA1vOLMlx2iTihCjPByJGxGyFENGNujg7UXWMy3KYA7g\n",
       "EpArp1TRgIV2Qq0IHRQ+0+r8JoAE/jNS95FOtLZEOt3VNiWNO5O+tK6QLO59OPr7dpCNe6XlwU1n\n",
       "YWEN7pSFrJ7Lt1gOQ5ke2ODAIgWrhI731KVkQCiicAnTHlukfBnNXaxjHvyeaWzA551xWAsYhpBy\n",
       "O0s1K42YqHqgGGOMt7KatLpY22mnoLxpwAATrOAAAAMAK2EAAADvQZ6TRRUsI/8AAAMAB/NyQ0vY\n",
       "GQ8kb0KB3L4AU/1SKfqHF3hlumQj4cIZ/YxFu5OvWewyY+Qm/RM2Db5jHCSp3W5ZbRN3ZLuyzdx+\n",
       "WXIiOXVQVsvTQD6Pm8PAk4kaWIlD2Mops+qBnN+m2wlISbJIBcBdqbwRvlSBu1Xtdwm9dIykqEXG\n",
       "+9R0rDR/7kanDyMtroJCACs5G07y7cXEXh2L+/p9F2Y3G14eVS55FJdsEU/Junv9OXv1NnxmWl2c\n",
       "q8Z/Y381Ylg22jVGuA/wDKnenrS7VnkhGKoDrFQZwIIhVZNAZ0rcGXe2MwFoIAAA+4AAAACNAZ6y\n",
       "dEf/AAADAAzeFzBO20G7QWwYAUKdPWMbWjTtkDXjcy0UvpH3kSCRKHDlvT57uvD/DOkWqcMnoFUl\n",
       "6kEfQeFf8EVz1mBs7eDMq0BYoPzT4wiKf79sKw5ksR6BMdVlrAp7qO2Bs8nbopZ5GtBuC8SsVm7t\n",
       "qAwWolDazBqUfbmBl4JQAMiDAAADABOwAAAAhwGetGpH/wAAAwAM5KDd8YCy6wQ3UJfzmVYpewZD\n",
       "tiEMoxVlQoaJYoG3pe3eeJoWjQqaaIMPP2N7W0ocOFOutjiGbVjn6WWrcig6s4jdVMpO6yfU2d3W\n",
       "rW7cJ2jFzaBsAw+IhpU6ha7jyQHEWPwFkfygPMa1BuDqL1CdAHwBUAAAAwAAAwA6YQAAAglBmrdJ\n",
       "qEFsmUwUTC///oywAAADAAxS0tLFrxt7ACD+E+JANFt/fizEitPzDFlOOndKqJmTRJu7ljtvlPCZ\n",
       "IqdLBBVXcBMXNmxdt2NuXK16Dt7N0Px/KZH75YnWdu4SPTCJ3U0j4ypQ6K4GN8L/AjkphsU4XD9F\n",
       "IH1XETLyB0kwjgfoZr49mzgwQ2YFmexeAIRzle4hr05M0OnfYhjlgEozpQDBiW+h4fCQNMkzq1p1\n",
       "QPyCKf/Z7x9TMcKCSWOcZRyITicZhZPi638G+fgHIktiu8ku7b7OeSKJNKj540aAk/lqVTjlOzly\n",
       "K7dgP32cFilrJGt6RiLzBxd7cxuMvlAZsVmIaKpYVynQE5QcT+sPSAp0MjUnFExry/at/6XFqRWf\n",
       "6KBZXHAlwiMNIYzsBvJC4qbJ9ibZBgQ5BxU1yoftOrheZfGH02V9c5n/M87b8Mg1LRnEmmkeheb7\n",
       "0cMSwzOCXpsDsnw+Xy2kmsqboa+5VMrEINh3GUtjwhhndsHXfbmTLMxpNrQ+bGEW3g0fp0Lp4vxM\n",
       "B7+DSOePEe3y5H0oh6JksP5f774byMbs8fokw5O3m6DNN2wzollfDtQK2dc3+vOdTBB+V4Mq2WzU\n",
       "XQJ9dZpFNE9rpHxkGXhVZopEMQH6P94TY5Nr1p7vWGXbELdND33JyTEOjmhNaxgDXvOKqSKoB5GA\n",
       "AAAz4AAAAJcBntZqR/8AAAMADOeRWVcu1IteBNiqnzxaB6Sbn+DeuKANXq+b68cKuqqr9S7vZAO2\n",
       "jhCXCLxG/D2vxMit2Sa+d1Pf6WGjnJoRTESKUaWoSdVdO7PImfCOazpKuVIX3IKlTHPlNVeYBHXk\n",
       "UMwDHk7FMM+ibhq8QgBK58d6cnme0JoF1gphlF9Bot7YQJDyWAJSi4AAABUxAAACAEGa2knhClJl\n",
       "MCF//oywAAADAAMoZj11KL9IKj7eGwAbSwhZ79qGx3ECfBGStgRZUpnZqqA8aeUVSO/f+6MR52d6\n",
       "UvHqjG5hr1/XQrT0RSXegZqCbvEBKbJ+sevSLGaf9UEc00GhO81V21QNA7JimAxpNcrhtP4oUw4f\n",
       "6Bf09zdE7lZEG3S3NiPs+etkWBCCT/gQIUX6UFXUx0tRHXuVa3RIq1Usd00F/m2wy1KX3/TYi4IC\n",
       "+0O+AoVanSLil1A9YeN+Leuu9NJZRx6HhL9EWLDMpd/Pw6D80PyXzLrp/MehpAznl5GK9nBhdoAS\n",
       "entlBw8gxcsq4OvyLWVJlOJL7zLzw7OyXEV0EL7jJcuZIDIDrdu9Y//HkPW/xy3zTsS48rlEyZ87\n",
       "3SeRvIdb+89shuQt6KxrJHB1SImX78jtij4MpFg39X1RCR3SqLzeOJxeQFJS1eKdP+kEHhFwqE3F\n",
       "AhFdsc04M1NEz0FyN+rP6BmUpsPiWEEDF4QNJMQPZj8TjVmR6DGxzHUWhMPsT1nc9HMVjDHHNbvo\n",
       "rOBsK9gAff2D96nDU9uKgXBcLI92ED/lDI/zuUjxxgmh108T+nWBMKrCPNSDWJR/+9BIk7tJs7hj\n",
       "qQmkOWInAM77dpmrM+cmethf28QmyGrxD3rzhiObeGgCDy9E3aw+mgUq7mxxGcpnAAAA0EGe+EU0\n",
       "TCP/AAADAAfy22S6rOgQoJW4pwY7znivwxivw1POrUIovGblDjDlXC2bBTy7FlYh+so6Xr10cAG6\n",
       "7zX6/p7yAfUV4NRl5+Y2s9sdEYGwvlaRg76Sj4G4IaHjXxAhv92/cwk4l59JyRv/z9s6Xc4qI+r0\n",
       "wRs1qhIDOmybzCZbXBk4PtS9chKyYl7fy29VjRFzea1LCkdPHo3Zedp62eJneLIEV9qEvd0KtQwu\n",
       "r8BxzA4wZLGqsTiiMw/jRGSJHl141hgkYNIgC4REA34AAACZAZ8Zakf/AAADAAzknXB5/ux+w0kA\n",
       "QSlbNJHjz+sMQ5BPJqh20YWvXKADjYvfhl8nkq8RNuqudLjUcZBFn+SMECJtrZNv0lU7B9zWdb2Z\n",
       "Rgk+U6VXNlQ2vHyQqnxwGACY08hJg2z5KMfshezexVB53dR00eVJZflSJiTUrVA+hG5VeiYO+kss\n",
       "WLPPdBpD1ivwAAADAAADAIuBAAABxkGbHEmoQWiZTBTwv/6MsAAAAwADKXYOSd1oyy5ZPbGOKIOf\n",
       "M0IArrtB0ufo9vFMTIfkuiaBCf32Cb3zSKmhZW0umTzwGXx3sL5G7wVHtXATQ2/iCrlx6RCZ9I6U\n",
       "7Z2o+NYDFG179lQb0tJQkWZ4+vgNXGWN1Hr5C3+jewszbF4CfBFep4JWcEl/cMhAJ2MJZszRXnN7\n",
       "BVE0v3EOzfebQ0MvopPkTnTs0Mk9xbr2eWWQ/LKolH+yTK8YKWTlkT8fhXOVMxKukjKDJe1N/f/q\n",
       "EfpEfq/9Svo+wquAXG/HwJLVwyx54NgaT9sKKZphX7uyv7ByLypC0mMQH2ArGJjgWhM7uvwsKs/k\n",
       "0k6U99sJMJ2B8iHK14V3xsPwM3XCWrPBAQ4ifS3iMCvmUMYI7kyPRPn8LfN1p0Q8bOBx0S8JnnYd\n",
       "pUSUCosALXc3HTibQb1PlG6wXgAB+kHs3x/BAHdW4rk/FFKceC3wSIRTSzEpNYrtJUuJpaq5QdE5\n",
       "tIDeKf9jvEZOeE2lykQdsBltMt5VAAmpHN3tGPb8BlRS9recAYqTi/wjvByoz2qYzCDrOlunOWdN\n",
       "xgWh5/C4BZOY/lDNQEsXAAADAoIAAAC1AZ87akf/AAADAAznkVn1d0LZb7FowanuueJlm69m5jkX\n",
       "1UaE1Yueote6lOgJ3R/OSPq6s//lD/PEEajL9FIGfey/daOpcXP5OowACb54anMw1Ef+khNaVmaH\n",
       "4Y+fyUizB25g3+53bm+B/UjbmIme4Q15psABjm7FLkurybj9LSpFSjbxBweR+lIKL+YXC72g9mVV\n",
       "G4K89kYnebz32a0OWZc0RUlTy7iY7t5YPMirwAAAAwAMeQAAAdpBmz5J4QpSZTBSwv/+jLAAAAMA\n",
       "Az0wzgABOOBJ+/6Njb5z3xheNfq+wpj8qYKMsl6WpGtI3HkK/n1oiUpwuHj0mFgdB2VH0YOQmlar\n",
       "LzDqneBPI4uxui4Pw3M9MxYjl64OtXqLpjEi4xClNWxZjjf6mAS7YmEEN/vL1qvztB14M4A0J+tL\n",
       "Y+xyNPH5HnIwuX7W7H30lSWAlaG0Oj2UpTKhW9v+Cbannr3Fkcg+AVTe9r7Nt6jGjD2QdlR+D45T\n",
       "kyJkItE+Bb/bFDJlxbbUfhonHDhO+z2n3h5qgGEOygyNtaqiko5tgNZp3WDeATDZIctEwm0UzFuJ\n",
       "QUOuKw88s+n5XNXxRNozA6RuL7+k5BS12nFG29BD+oSA7ts6+m2XkvQQNSRg0bnp//+jX38HhO2y\n",
       "wsA94zmAiT865ECd3fsEQni71r9FL4vL9GaZderpyegru5Gfd12+LOcfBl/ssb1cWzQj8WKEuNJF\n",
       "+C/DVhMLfk3W58WP7xHPNjNW6sakCqRoDRPpgl+vK+uvy/zl2rg+3kJgN9vUNajMKN1r1didCSr3\n",
       "xLSNrGZ7EAn+6ZCIRXY/1hqBPs9X6UynXFwXK7dChBiecwA1kRTd7hoHrebDmYAAAAMAAAMAAxsA\n",
       "AACkAZ9dakf/AAADAAy++dA0gvU0/agA96Yme3XD7qpQu7shqIx+tjW/OaPgLNUVamhso5XzbNAV\n",
       "0d/7+IRtjrrIcfbJine37nfTeMuDga4/bDxx2fYabTTbVh/E9Kj0MZCitU0+uASbSmvy2aXe61se\n",
       "pla3HM7/31pfMhiMcG81OTJfb0oLBl2iBXNqds8RnhazyCUY97F1SyAZjbgT7WgAAAMAm4AAAAH4\n",
       "QZtASeEOiZTBRML//oywAAADAAM9bJQ8ACH20rkGEqRV07v+jwvF+V196tInFc9dQ+K1dbJKpwIQ\n",
       "rYuRAl0Rw3ZyfTB9nskZ+7ddscQfsBj1lzQW3PCccZS/+PQDSFrvsV8y81tkfsSwgnc2jv5Mx6AM\n",
       "MiJBtCgYq0C6JA+hTgJqwYh7ft8R+s+Pa1yXig1BqcG4G7LEs29jPygivSas9emwfnvbs0Fz+yxA\n",
       "EFuJqbh6TOHShbms87WEOEll/gZRCO9XEhRXfae42m43D7VIiBwiP4pr/nD6OuZMZNUzZ0Lx7g09\n",
       "XI4j1VMaflUcsc2s0FJ6XqCcYcV9FuhhXV6i1YCbpyZhfQ7WuuSJBlKFOVVhhWFthpDH+6oYMfkE\n",
       "YLK+HvUk7Q9k/HaLojAsW/Vh1W4PNinKXsVxS0HkUtLNBTlfdorYoQFhayWIDXDTxT2CPXj3NrCa\n",
       "+icFwSSTc5dCLV44puceqrGmugCYsrgc7wLZrEVi/0LUzlEuoAhMChxtaNJ1wEL6bh+b8W9AWliX\n",
       "KoKt3hN/ttmYteJj2LhHvwBBol2sljbPQXeaNAneclvRteGGRht7PVLYeRORnn0toZCje6iA9mUP\n",
       "C0tZPGeEMb1KIav4pRz7Sxh/f/9TBukvwj9WuOlMI4kPhahq5wbeNWAKMOAAADpgAAAAqQGff2pH\n",
       "/wAAAwAMvvnQLMXj5P0oAXEj8f+z8Q1yl5aNmrXMOfisun+46DwcppowANdxfRqipCtqAAA9yJwA\n",
       "YQ3hb5jX2QXOp34AkqfHAr2Y5dgxQwdrU+owygwZz8k4z4zRkAx22vtz3nRQOuvmJkSlTNMHrUUL\n",
       "BzraxURtCK5prYlY/1Yuc8hFCnEcZvrLt8uQ7bqD4x+gfazJAFBIA5zDAdGHgAAABmUAAALJQZtk\n",
       "SeEPJlMCF//+jLAAAAMAA0Ho4KG0ljfRp9iQJlbuaJ8h7QQAZ0SygyyVJGGga5zmMk8/NpyHk65p\n",
       "MkK1i2I0ZonmcCx4VgpXulIBYVA4TZvX7ifsAsmFzW4Q46fpi5ePxEzlVYaMt2I35qOGyzg4N1Yu\n",
       "rlOZDaeERhmnDFtLw85nstEMlSMnlbHS/6CU4O6pCrhiXeo53//nUdfgQmilTKtvakfgV3SMxFzs\n",
       "XEAdXhwxiR6dTldwfapIWAwe+eA4C8paH1vCOo/OJqWk22UU7gKbbVwmwW/cMaMh6ag+6YWEVYpL\n",
       "SOoZKAwWHG6E7esKPaJmb+02eNYz/Ye7UUtOWf57+3+OEizbl0VDpW5T7Z4AmryXGXx1LHEPADcg\n",
       "BB7swEgZ1jDFbAgkqiiJXB3wDbpU4DVTwfU04HRN/+cfDlyqfkqho0GCYyKyu7iCwUd2HIu34iLg\n",
       "BgOSYcl1QzBF/xqB9yWYDGnUXIKA5pQD8LKSjwP9BzJAi1+TNPjDp2SO5KVgVDdo/hVd9d/IZdqs\n",
       "6gntZDE637SjbWKgbCjKg3mAnXu0PYOErDrlAzarqTFOUcAytLeZNesDPw8DCe/46hQ8jA0cvI0Y\n",
       "hrJaJVBtQhdn9IlUbm8wYllplJBn2u5NIDHX+fyvcWWOUR9fqLIWh+IG8l4RV9lVX7HXfOcmOWOn\n",
       "ACjWPy/DsDTI6gu9kFkT2TywkBSujZvwBubS0mkHAZMoecwuXNYUEbbXqjksJZi+zK0dgVhgxCXu\n",
       "uxHkdAn5B/6wM0zI7CY7zllzP7W4GLdQONPQbSqhQdY1Uhu3asQSxnv+bAdViVYQyYt/79GvH9Gl\n",
       "N6l9F30rygCIFMTb+BA7GQz9hSnl40dBwaLi20igT/pPrwDne/3y8km4YpgSpVrC3/3WYADBnnds\n",
       "lSsBRZ8PRNt8hwz0bpDmQbQPH5ZCSLWl2oAAAAEdQZ+CRRE8I/8AAAMAB9w27FF8A4R0jZwiAFn8\n",
       "B1arH0iiq975MALkRESBWDpMQy+ypAzZQBrnHpe/SDYOph+sKbFO4fjnhe9boqC5pbBkOwuyMMpE\n",
       "yt54Z4/1jFDb8NftwK1/UfcRl2ei8TFhov1F2Fq+TBGZ9d1qRrPN771+o1EbS9fSMv/nGmVlk8Wi\n",
       "8ygs80IcFn/kQdxKRBvBuyXADjOrqVXCOAoh/tMFMcsdojc3k0CVJn3efmRXW9lIhXMtKAJYNzoK\n",
       "NgP8wC0nO54YZwSq1+IiT62SSPBZzCY+zqvuHXaruFuNmb3Xhsd+L4Nxkpap319AQRk0fMzw/WjM\n",
       "7lIzUVdXKilLUyu2tlA+DHDQBrF4AAE/YL/tABsxAAAAsQGfoXRH/wAAAwAM3hMEZlL1d/PiAFqR\n",
       "tOvRHz+tbst4mcAd86Af7jrL5eHu+IjttZBUYdXowCsN/2q3ualVqTFX+7VcdPDbxQWKLl0+qoao\n",
       "zzA0P+2e3/KPdWTkXPQQ4PS+eHIDn5DDXlWVtgcWhbpOCOs1q1zKts1CuMMxTXrLBRkIJTkHMtco\n",
       "3ysFmK1dxkg0CA6gJMDLXo7ofN1mv36ex71bsQAAAwAAAwDNJOAKCAAAAKcBn6NqR/8AAAMADOSd\n",
       "bC+GN+JlQzqiFA/KCQAB98QWMEw9fh/fAk2yIkepcphRsxgzeF3QnCHnLXl/4TXKHqhQ5/benjAj\n",
       "ZVOFhdvFAtTOtC5eJX8Q+Fcei74J0OKi7yCXfJTM5Z8FCO2e5F9Z3ji2mu4tfHYXcPYLLnWjcI43\n",
       "bcjSyEJ5XSL4vwAgPRPyYtlA189pp0S+mhqxhgAAAwAAAwAvoAoEfQAAAolBm6dJqEFomUwIX//+\n",
       "jLAAAAMAANkqqnspyigA2XILAjAQGxsGiZxipzyQ1zDzjE3Xvau9qBeJZ+nio3CQw5HG9K4U3SQa\n",
       "GZjN0ToJBQ6dUu24KSEwc897MnjFCQ+i/64mQhjTotKiYledI7SfSUFZuEXdaaZ8qz3KUKD8CP2v\n",
       "nCenO/DwEtXnRwzpLtqo96FU7EwrULrKPM0gZ/DML/HHhsyxz/Hz00xzg5MHsKt0TZtBtmJ61ADt\n",
       "wf5DWq0Ewj/j7mWYawJS5tf93Ll6Yo60H/2SyuiaE2uztVGVuuk/xMhp/+rmu/J+lwqYUwFAFx0H\n",
       "YgC4UgV+sRB/SZxlzce2BDb0cUXhmaAuEriGBAAdCdxfOZ73qPUW4APffq5nemCx7aRwtlXMWeGk\n",
       "TQyGOY+WyEVDNoxRetB+kXhxZR1qdkc2Wva2CxcxRfR+NvNuex2Fvyxjc9lHxBwe9q+Vj/Y1jpI6\n",
       "MiwNlr4yy2syIRmpsSj40hTe2DyFmxhLVyy5PFxqTIzUMTAb3sIa9hxdSwi71YU3OXJn+nW+F2ra\n",
       "ph8Qmz42cHkcK8dBa7dZTaWwkznKWxKkgXwiPkvgZE3lhIlRwGdVrX2QW2M0A6MNnfrXyyOQrnkQ\n",
       "wDTRMXNKIb+pynXM0k6+gJWzqsgHcjq6xJXb9pyWtmlsLFjGAS/rXto4IKZEzEuXxQWQF8cDdVSO\n",
       "mXP2QVPwGCWEnP5ygB+HHHuyDXQTwu/iVr9I56Zlmx3+UsGEh/bUe/ZBexnSUV/UZYHSuJjosiKi\n",
       "mqYpJeuJHFhGNFhwVaI41Gbue31w5sSAiiEylMuUxzAuJe05hWT+TXn6CJRgSD/dop/stTFobz2x\n",
       "G5DIZDIZDItZAAAA8UGfxUURLCP/AAADAAfzcbRn+eCKQJtzpjf6ovoMAHr2uO4poMLhY2maQdXD\n",
       "1FlA6jIsOJhZx4LWASGjEPcB+pRJbYFSrWVp6JhLN3V5FwoBlmuOFtK46idCz8geQ5FcZpLNnebt\n",
       "zIh6OH5sQQtSgPVfCqzogor2qF0xg2vnu1Ka5amvE1YyppHAX3eOqsF5inucEwAyRWqNCP7XRofa\n",
       "z/jESo3ZWYnr1m3asI39dA9zWXGAjAvTlw/NZhA1t2dbGhBNOpJrMPj2sZ48GeeAF9uO3Jp0tVk5\n",
       "kZlb0hLkDjO10cYzFXzID2LhRiJAHIScCFkAAAClAZ/makf/AAADAAzknQgcEUjIXM8tmm9sXrrY\n",
       "ZJ9KFfi5YY7X3RG8aLEcIadX0/7JbmCBqpuv4PnI2EnSF0EWnS/NlSQk804ehgbtamwy04AJ1KhG\n",
       "K7YrscyzVs07xOxU2eQ1Lg3UhGLGxbBRsDFgCSZ7x4f11q+g9qTlZH3faGCxTemveKykhCdja2ch\n",
       "5e5X/+RZHxveO2JOAvn0AAADAAADAB6RAAACQ0Gb6UmoQWyZTBRML//+jLAAAAMAANp63C3iPoP3\n",
       "JUoR5fkMv5pc7vaZXK2QJl6st7zTd5oUePwuJz3iI+d9w/alpYmG5uVXiX1Y2kGVLQC0wXFIVXfp\n",
       "coLBPcuqFr3GheufiAv5oRo6Zxl+iPqwSotxGAcQ3c/7Ba0v6L6A2Bl6uvgACEMmhyszNb1GzR5x\n",
       "RYNq7mtGh3iecLuEy+n+p/35vyhSEaP5FoM4qqdEBCTGYIdlFcGn6jYsu/In0bbeRm8Iqd83Clto\n",
       "job1VNzZR+iTe0Iun+NgK8vpbeocTZRzpp8uobCM2va6aDTYEB48YOjR5jqckcMYhNPVI2+xGAji\n",
       "kayB/Zp9YwSkB9sIu8bp67uw39dZU5SWPVR4uWvuvXUAGd0jOcxq1jzXBySZtHjdPzlNMBRDLYXb\n",
       "ARw6NG0z5dd9cfYGKpRi8QHDjatPHFnZ9ohA9tnCxKS2M3tptKmkV37luuResWovcDr3SfoCkHhG\n",
       "jPrFp2AgWaD0tYWcAg3WLNFNcvBj/ARJ8Cv6oAZc4fDwVALQWCvmAk62Ulq+a34+gJiIFj8Ky3be\n",
       "rdnnlOID/zExkEAx5TyoLPIG8bmI7hOOhX7KEmjWRbelPysOPB2T5cUYSoh55orQe7colE5nRxbo\n",
       "CiQU/+Yd+cX1UuahnnlFRVkrzfBtBGOxQWMPZlH1hKr7PrG2g9WtA7sNEaI36sQ5yGGx0qsjO6u/\n",
       "Gt6tsclM3l8jB8JPHD8x17zF+MH5LR7J9FyIhR6IGRHZsU9jGAAAALkBnghqR/8AAAMADOeQJNC0\n",
       "GjIQlNvaXQgjgSU8bFj0799xL6MiW3k1e6pETwoCEn6uZrFKDpxA1qw8QJS4IqUJJkkMwOSW3Yu4\n",
       "0+bwE0dEYNy4iR4QpHFpTQHhWD01Yc0sql8iO4AFwwhcuTIV+ihw4bZBBsYvqY8X0mEALmF7jXZ5\n",
       "057ybuJoirr9zhPww2TJ8YfzhXgewC6L67HgGziVsRTqD/qph2PdhzoBC0E/yAVXYHWdAAAEjAAA\n",
       "AoBBmgxJ4QpSZTAhf/6MsAAAAwAA1Cw5INDd5I5nKGTzo514sfmAEHbjM42+NjXpBKm7ElnD6Fc2\n",
       "myuX8NVpDpx4N5EyRwHaGgBLe6EwEMTYdhh7xLydFw+wpsly4hj8G6SYJ+actzCeEcmiT2cFXUOf\n",
       "JJ2Ed38mHDN2p5C2dJ5a9OiejeHv5Rd+NMadR/XWiG6tDjeJ85LR76CCsxHYdCHdYswmXyQtoVUL\n",
       "Sjn+2RnVEky18NU+WT383WT36ffqw31Jb7/xlinhwrDT8Edyqo3P3PSkoq83w7IGeynJKsyUisBz\n",
       "/6XDGQlfC7bEmP5MW7Z3yvgqc/EGXdDbrd9CF7kgVA1zFDkHQm0Uqv7EjNj4U6AfUPacmdG31mNA\n",
       "J57jqGPvKTfNYsZ4JNGHpU+G8n8Saisq6XMTNrBFqzZbRbWBK/RSLezoI+yfx4MRYuI9KNjwOmE+\n",
       "lDRr1/ZTm5DEMlLfABv8Z0W4w62od8xC2XjXyUFizCzTbyvolx8zh1XoF6GVKBcFLkGOWfK8Ko/Q\n",
       "iQdhH6gJV0uurefIDYt/5J630VTMVRARQxuTLhRdxqdqvT9eOsVNxWjdI6XTTMTSEVcEmIcx/GvX\n",
       "MBCScXtQ0mmx0XaC5N5la9r+GbFvrpFAnxUjnz5S1xSnXd7K/gKniAjO1NBM9HyrIRgYFIb2lykn\n",
       "KlaHmqVUjXBcG0ZgIwxX4dcm8AeRjwlKA1Ffg5a7JDJPM7yFjaNpIIX4oIs02CoAD2Ior0ELYORE\n",
       "PSZE5jp3/GV6Jtp3KOp60pJY8C7m9CdqKE0UOS2zEMK95vcYlzkBRqAFSmoSURZNnnbXb653kFRc\n",
       "uxHZzyv+QPrxTiLj9QzxAAAA7UGeKkU0TCP/AAADAAfy2xoZwZEiCf6nBfFjIM2IGJUVOw6iSxch\n",
       "xmgBW0adyF3KuelpIXE4CNK3D5twzEpAREmkOPt9vnolfvyIxGLXHnyl+PbgeDlEn8BShle+cXi0\n",
       "WK+WT45kLZI4bC5GRxdQKwguQe90sx1zfumBwWW5V9GFrFBxXI+IX0I3Nb8gUCvmRcrXBvW/cfTr\n",
       "ssXMTfyma1xLOl5x2jPuw2nNUZMBKI+XJWWinH0w9M3dKGIjFEk/dncQjL8UHhlQLazmsicNgQ+6\n",
       "D7+cmF48Ln53vBUV4HCJgJHoCZjcAQs5VIANCAAAAKcBnktqR/8AAAMADOSdBxu1MN9S07Shz4Sy\n",
       "7chb6+wAcYMYwfnnuKcwHHpBmQgWtF9RFHrFGI7mMa4QAY20QY3HJx5aFCn/8CITzpOpchWRLiFJ\n",
       "GY/GzpuJf8Y+90uy/JVMIF0+MOJyn50lTh0fWHgNOBMB0a+k++h6rRt07kNZqsFFholPWorAq7zg\n",
       "1tUjMURrclnqybO42zaSpAAAAwAAAwKkAABJwAAAAsNBmlBJqEFomUwIX//+jLAAAAMAANV7kPdF\n",
       "1KwZ5J40B5iTQAcwmvWHVli6YaxiQrEp1DUsIOO+VHSEgkm2dT5TsLeqanB37yXvtvAb9w2805OM\n",
       "1hHgpIhjU4oxGhqA/ceAT7JFcHOWxzUFKjuPDwTLYOUEQ1OrMOHQxmi24noBgo6M2LLefrRnVMkW\n",
       "CG7NrzNeCO3dx9JAwafq1SiG8Xz66kQrwx4WvdTYsfbxXTwCdNjb58imEy9RsMvT1/JFFrIyghdj\n",
       "fHCW+xL5893A/abObo9vbuJaujSyd6EdLY+ohS51B91iDc5/ryvbGCtpHyz9ZJKAL//L+xif9ZYc\n",
       "ifSB46l3lUu8CC4UmPvUqu3kXdgjrz/9bWxVEYsqcM5ubz3cy+ftDCCq4GZO+uSAtP62imdKtl6B\n",
       "XWbP6WHRZIEzm1It/87gpG4yW2BNuZzn6fkbl8UxR4My9ywE+FrPLW5cSfcLo92if/qDrP9GkvHW\n",
       "M5GwxtJoufg6gk7CMRwZv7GDar33HVi/p+hFwSMdDT30NmlQTjF6tGpeiah1d0IT6NyBsWNgssFC\n",
       "kPvejmVgbEqRBkxnb8P3NVvy6FpFfUx+1tpxgFs2I1NzVv/Z3u1dNy15gw+CLlmKIPmJbHfG8O18\n",
       "fCJiCI+dvUVCmsFaTxXnV8lTWfLOCrMu6nUYOXDziySIsaqLOC3uXFmGs11+xm+jT9R1XzjjUDb9\n",
       "5dtRFnjUBcdaLNuUgiGlgnwUqo4NqKyEWlTw91QqTB0B3gPz+Lz1kXXbZRFPtkp9g4cRpmyJNsAF\n",
       "LPcBbH+P07Ua6IdIWuC+6wtqh0XEY/rg/zUX2cQJhXqWy0qAZ336pjuGuyVmqhWbAzikSiLFtLJm\n",
       "Q9EqO7Z2fqR/0zOzJOKqWBCSLOCNEa3wlh24X+vZi4a6HND6sYXe49C6QFtvQY6YIJYgAACigQAA\n",
       "AR9Bnm5FESwj/wAAAwAH83G0RLbmviJ92Qkd4wA2wVCFllN87fUAEcHBh4NLTX6nTh/jLQTUDj3r\n",
       "gayMEP05uLHgmEADgD2iJDOFKOrmMHjTYLXRNzCa14NAodvZVvYt1ybSYjyrt+4uUdDjLALlggsb\n",
       "Y3oVVdIYfLAON4Lvag7rHT7bjk6xpNwPybqFDvgxpCzj2g/AFHK83kKMSL9IdjhMHNSBdRI13vwG\n",
       "9KER14EFczb2cJuSYO3DfxiPDQQ5oCQVB2pUCN5Ls2A0zaocnmWNRpl09SHg2KiZNbARJH2q8lHe\n",
       "pjnJ2UPtW439P7fmlZV/qB4Y83Tk0jtnxFOPkpu4NiR5pH7y1Ozjsgl88XOzAQ2UAXQmGb1/pAC2\n",
       "+K8DAwAAAK0Bno10R/8AAAMADN4Skjm8HgqAQkpOdUW4ETPr7ABxhtqTKJW92rW8pJ+M7fdDHKVO\n",
       "C+Cx4EA55N9++I/9VhDF0U/QkBC5P4HBXaKartCTSPtu2OVQbkM0q8mAO0TGOGHGk2XpDPErb6OL\n",
       "f/iPwDUEWZrXr/KOPr/q0YQ9OcstI7XXd7SSJ5rzVyDFEc3jeTndNdNd/m9VGyQCU2BK2CbXAKvM\n",
       "wAAAAwAAAwAR8QAAAKgBno9qR/8AAAMADOSc7UHe6tXtRobcoT0S+A+BI+jtdk6E3fcAEnSMDmUV\n",
       "scwN2GLJR0uLVrgCNeGEq1HL5VFj+MPxK3IiXSTkpZ2RxCcn/nCKkSR6W4IKY+HV6clJhYnCfP+S\n",
       "PBENgVEuJ+iaPTKlUzpgY0eAlNfoeCYB31+NKctVxN9b39+UJr6wau2XXEnXHuGmie3+Zwkk5uIf\n",
       "ZmAAAAMAAAMAAkYAAAJSQZqSSahBbJlMFEwv//6MsAAAAwAAN4twWSEqcaQh4ngwoTJZk7u9k6Po\n",
       "CBsv/RrqJZt8jgl5eEPfIUtbHKjut8gq38FZ2O0hi11CffysMaSDDwi4tisx6pFYidB+WOvVuU0G\n",
       "N5h5ByrEhU8hUqG3td7Op1DcJRRnRwFdW2SaW/gsFk//rJrQwpxWxbmeQ54czMI4hL3kDSJxhvqd\n",
       "plpWmzIDf87Vm9FrUW3Bvl8xrmposRcAgsg9Mi2eobsFEMOtBnqd4X2qQ8slm6XvLTgb1tCpVw7R\n",
       "ZaLPHpnft0iUuahvaTOYhVVXx+fxg2U4woXtciiwDFOSqfO2g97LzdzfKbTAqyFDA4BY1SIttHNd\n",
       "/xqSm4H5G42YrXhLubLbTZrjlqyg3Cf2E+Rv5pf44kGiqxcdI281ds1bpWsiVna1XXCjyHedGQS2\n",
       "7BwQfIt5FCqOzTq+wfOhmGqlJSY7ifrduxpPJ4h5izLVJEG8w57/Ph/2fWNoWTDyeAaMcw6Mt49l\n",
       "jCtSG1YlmW0xvwUV3PMMZZuI/EytAm7RRx75OWjJ7M2stOYLIcjdV2+RsB5XuhFaCHx5DfIumvM4\n",
       "CzVNrIdEwALJGFylGMDeLMXYFohEqWs1GNbMS5dE3+mGkJ7gca6r6HwMo5rfhJ2fbUsN+0NrawTE\n",
       "aaRKbyxDeikygCCZexjgyEZqb4S5CauBGNRj1Q4eaEGPd/mbxnGRA5pk2AuPCsk+JCBx4LMiYr5t\n",
       "Pd0CvTaOZtZY/ac1ll8lVAdDAjUtjZ4PLctwtTfhJBUnYtkIweyAAAAAxwGesWpH/wAAAwAM55Ad\n",
       "J1b+e0sqZQAJw6KYhOeLvbVQg9H9zEIdQkfQDXWsvpqhlFfPALv+JZFuvPDJUQ8vjGwJRSd61yuk\n",
       "hDzGTNdvBe15jeH3+LBAUIIW2EyqJeLwOYCx11DvShnofDWju6ycdzWHdYw5k8R8WAtsEDQqqvdl\n",
       "Qz6W7pFyIKCDok8AyvmQKFo4Zcnysf33L5AtH7zaC0T4rgc8HtU9sDa5PkdN4gEtKYQw6w4/baH+\n",
       "AlYkCDkxrNhwAAADA2cAAAK/QZq2SeEKUmUwIX/+jLAAAAMAADfetn7MpXhHRoxD5nW/WqEAI96h\n",
       "jbe+JFCibD0jaHaXKoUzIk5jaqV9lBXr3kL8mIid2gjMQVlgC9D4P1RUryNTD+TC+GP7/28JLjcg\n",
       "d2+/gbXEECIpjm9GhuUHMArdEOW/AzrRLW9HOOMM+fl5wxM0sGpFI40WaUs4uM9JOTYNoo6lc9+J\n",
       "Cnc87LikNyxCmKwyF9fvrY32Tf9TDMS//gHGxT/JTbUny3ZaR33xyJVDz8Q0/FUZT8VKKOi+1gfB\n",
       "aIrsSQkSZlpFuKtL2McxTFDrHEcoC+CnCz9fjFSPsL+TAlhoOjPoU6BwVBPk5fPengpVupfBSFzI\n",
       "1e0D8xihvhUd5J1fN3c+y6vdeWzGpl+gph4sew3VqUaDPDdxJMEq/MxGD6SDdnjb//yHOZsbc8Q4\n",
       "4bysUj1sMrrN0PvKmBEWmiZKc1+ZmbfaY81iUoqRQd0bkgbmrKsxN2+sX6J44D09bMa7QkYs7tUM\n",
       "X+DjcohNVx11txC+atluIcB3YqtASLJpR/0JX01zOdJzEYYp6JzgjvFl0w+KhDzxRmdXFr+T9JBb\n",
       "4z3Cu8oIrICvIbNfiG8Vxr6Yee+dp4TFgL9yVHggebR7dd8JXQ7AEIzjds7ikqx547I4UcADbv4p\n",
       "OEFVvD/A+k1u+gfv/MLod0Gmgree2HSyiRmC/x7I080HUaD231/4TZsTv82S4b3Spf4mPQRPITYQ\n",
       "n95n4YLo70gyZ8r3T5WTPVIAOBO9++PagbZvGgcJ7OM4/iDHHde2hsXVGDmWSv/LEEljeSF3ieY9\n",
       "UGegDfCZhovng9jfX+xjr+r/9HrM98BRxT+MKPoYlo4FzQOpxnpTad9LvZwOFK5ER7eIjKamvq4r\n",
       "OUnIihEcgX+TCArUK26erLqyCgJTTSpXwuLZ7a7pYS7eASJGEAAAAOtBntRFNEwj/wAAAwAH8tsY\n",
       "SdAbGA0HKjvvP5F6bnRUgdPGVfVu6R0yGXJTbbjvygFq0hrr2Z8oL2OoYQgJBi123UZjjknJOs5U\n",
       "rfJkF/6955FPk8HJajqyxnoWE9EhH3j7jxyeTfMgFqWGaomvPIldc1OSLqTfiTgNvn6I8ZQhZZhO\n",
       "NNZMuLLYOxYnEd8GJqPao8YbreAbZ6V0gvV+UgF/5JQSzrw2HuH2TJAlrWbd3NHCcrC+qo/UwdrP\n",
       "mLLrO72nQEN7D/dye2HFlv3wOtVTHNZMLvqgbzQxsJm2AI2qCFp3ZgAkSHk2AIuAAAAArgGe83RH\n",
       "/wAAAwAM3hJ0npISwtF9T938CfT8G0g0IIVSCB7v1hvqFi0GRSsquKtLVUm6FbRjqjVrKEAnUJoB\n",
       "okY1kyEa6pzGmBOse725d74xW5nsAEWk/0Oe6SfBAfCT8fKJraGGYz0n+elbxKoe/adW+tED7+Nl\n",
       "aqrXy6UugUFN+QvEHKA+wHeU7OQdQBSOi1hMST0Q46d/7vL60d5hlQpwFJ+AAAADAABX0yAVMQAA\n",
       "AJYBnvVqR/8AAAMADOSc7ULzrLkHdZao3B5WK3kXBC5HBhjmGWorSf4WRbYUGpeQJp694Xf5Kr1z\n",
       "NhRLiT/HUpaWEwX0FBxainw+npgfatRc5lIKqmyQTyF7ATEvDsB0dTv6G2P2LzB0Rwmj1RwySsZH\n",
       "/aEuDY5cRIC4v8MDTNsnGNX5u847IVTvnq7AZbuAAAAEsg+AZUAAAAJHQZr4SahBaJlMFPC//oyw\n",
       "AAADAAA2nrd9067jJpXiAeABDfCe/7uQA+tnHxqIFq6ity2CgSj9KpKia3M5pTd4T88A01orPD22\n",
       "ndFQzPwJXRDENX2NZCRwRPHtKGJAkRFzRvMml72Dummq6+YXzAw88cuJRitgA/2ysrPTub99ZXHZ\n",
       "zT0QMpNopheR5CWD4YX8Lp7lqPyGCeUUFPiNC20bMgZDQjJIjwLBMATCJ59uC7IJ0ndKbC0W3zXI\n",
       "ZnX6NaJw8QSPZLREeZ8Ku2rGgLCFJH+TFLKCOiT7UH60nYUz0HaFllLivq2w9fYPibWetad37MtW\n",
       "uBYt+Ky4f0Zyut+wi+L7GcUl+d67yBnTpUWWiaQyCGIWyuA+lu8D1T/DZ34x6B+l1faqdnYlcFJh\n",
       "43Lt1olSERBf5unaMWL6vjZkwUModF1I8DPHKqHe9uXtHxciqz05K39VWVF31iwvToXKcC1zv2il\n",
       "aaTADzJLqhl/4/8F7vl5keAp0BgSM3aNMPSG7hXji+/BmSoolHl45yMsDyCJTwZafiUr+stNun3m\n",
       "ROrm0UQqt+YmduzHmVsVxL+nSW0Ztc3gnQ+pJhbQUplwUAQ0o8Ncx0YHUMtFQsWoDWm6bo0P9kjJ\n",
       "g5YM/HWXpwmuI11BzcdcQp+IKijZRLlUic7qXsxnLzXtJl9nusCNXGHHpgsKAC7JQmqX+d6YDHyy\n",
       "+mA6/tBSNa717UoGaVKqHb4bVkYcL1Ps9XiQrVD9I+CEminMNsNyrTJTMbHXqko9fyL31Ko9gQAA\n",
       "AL0BnxdqR/8AAAMADOeQHShtdUfqg6EIDF/K5oAEqCkQ1AhBvR5fk/3ln1t4jCiZwJu6c32YcwGX\n",
       "E+JFCM5qQfOKZ1sDqCoW0ZG9Vz0Bc62yBXxovC7+ls3Bj0eZ8U0i3RPkcDfDMim8B2wqP75t2U/H\n",
       "LhvPL96SRJPz3yQXNF/GUvzG3Bqyi3XJxn/yrEGJjlePo7O7MKvqsow2kOrAbFSBXzpYpWvp+TN7\n",
       "Xe4YeoQNsBciQELvDsDMRAAAHtEAAAI5QZsaSeEKUmUwUsL//oywAAADAAAONv4/tuWyXCADZfwZ\n",
       "0d/nSn1yWZBTWQ9kuDh2sstQJgjRCiDjZ+FU1PDgOzlFPNo/3uZhVE9bnDesaBYsaTfXWv/qB1Hk\n",
       "FgQ+3WxDTvir6NUT+pSkkT0FDIsV7sv/Wz+0szsearRCUwBjnCm9EX7xrO62bQr8D5AZ1YgxE2tq\n",
       "VJqoQ8ZoirR0tDYYFSF3ArEEPGW2DqgOEIv0oB94Xdhm4ewHDM7wTv2NdfUkZ1G2gKkL5jBTLS1O\n",
       "A0mK7oM8ck73beRFnqFLJ5QIf0WpQrQ/mIF+R3VgiLQVQqIxbtIbh+jPNcqGvSv6qmg6q1ELBuEG\n",
       "iYes3ikp6RkE06M8OBskwca7owA8dHqcLLtjrq+T1fBwDn1tAliVVPeih3GQh3QaZBtA2jubCzN3\n",
       "0KWjaRXeqMLPb8SYss8JygaEBCjlNRiGDKi+vuWtAzwtEUlqCn0rVRJWhoMN6cpFwVpgeNMmLaEs\n",
       "YmkwjPjS2rdJmDddtJir+CuNbZJGs4cuzSiEjNU2Ms8tDCVQL4uZDBwhfmxPj1kC1fo6b+kS/CNK\n",
       "4Sl34doweyvn1KAW4XwXMDf2ZIuIyxDBNX/fDfvKtBEjfx3Lknw5jtrAAK4rjCncKlZuNO8IpjJZ\n",
       "j9SxQwuK8M5SoeUGqtnDVyPYLbM2aM07uuBhK7eZhjcvMjx+O4QZppbODUesaNth1tqxIFabMIb3\n",
       "E1SnXTUKSEu2Po8OESGgnH7KX0mxUVgAAACyAZ85akf/AAADAAy++ctlxC1YYgQ0c8AJIIUMEnTM\n",
       "F1mELo8luJx4o4G8wDigX79A6uhx3QYJFYaIvcgW96V5RQwKGW2yTyIpqczyzV7YSxYlgAKwTdBY\n",
       "Cs5eQjlx08xK1SAcM6xhiBXArZ6ZNmLPBHeHW29T3mMciUlFH0SHvRvxeYMyD0mYGKt6/G3SLTUu\n",
       "VGEUSXqBAVYigMrgQ50JuohmgXLpK2irtCEoIKJfAAAGBQAAAglBmzxJ4Q6JlMFEwv/+jLAAAAMA\n",
       "AA43BoAzatK2gBCXbEP9UZOP8LJ0l5ziRa2e3DeyLPiT6V75Iy6z9TTasSY5+YzOX93BiZ+KTS74\n",
       "O6M7Biz5IvaxCwhXvBt2U0GcFidKqqrVXAVsDSYt/7SM7ZaIrzPN5Jw58AKDbkAJBYItoKStywQF\n",
       "mxGGYZB+45Q2hwIMH14VX4hwGbwcLN3RBJg7oak62Gijps77nOXnKfsiiJAfRY5hCnhjEwtnHL6Z\n",
       "O1XsKwCS7QyMUV+umeeUQZPql7+hL6BksHDQpgIdgPt0P/So2GrGAy2isQLdQicpQWYZbmQV4tg1\n",
       "7xJRbcR7YmVCe2hcKX7Id2wC7eQPbi0RhJLlYYmxuUbsDI+lK0587dPNweKDfqWDZ5QXJamP6+HK\n",
       "TcLGpzDWUKB8YA8at+USflZWpe1u2peTA92o4yzqft7Cl2Ure+z7HkQtdXb/APAtrPInCtJkKWim\n",
       "yEPc4G8gZjAPzFpodEYI/OqZZKC+DV19iD5kQcQfanvIj1NdzTsO9lIbf6WiWewuDsudRAOb2Gns\n",
       "gz7svJF6CXU5lxsAlHDMBPzhH4lybnbkcshPW8HrNyIlSslyYfnBj1E1HuKyU7k0qk7RK5CjOx5W\n",
       "AM/gStn/OeeD65DLsvKaJv2XJfrtcMJF02lC9BnqFUupUbB0jKYYZ6XiIgmXsAAAAJkBn1tqR/8A\n",
       "AAMADL75y2XNFbWYkNQ4AJmIJweh7BEa38GFWPb5FkCltLQ57p1UupAdwzX1xs3axGgAb8aBO6Vo\n",
       "z5YBbapZ830pk9GyVo/uAO7+IO2EWh0K+hCtMh16iyLNiZhC97dm8lavZJKGFvP3HM//AJSMYDZa\n",
       "9x9fQf8hAXGlsvnJMch8zZXuTAsCdAn7jHZUvAAAPSEAAAL8QZtASeEPJlMCFf/+OEAAAAMAADd+\n",
       "vaK6/1pP7gsuZxFwAD2H44tp7ZPwc/ffvmOmYbSXg2DYCEaRYTkZwynaZN5EvqMYhJOEn8gifGtG\n",
       "1v7olw+cKwyw4q+699ljG5as7CfAChVJKiqnwjulDuXnMtzpAQ4nzG2kPTADUKr1tdclZezdnlaO\n",
       "vq5k2JuiLebbjJ7u61wxmyOvzfp/QF4xmo6HoWQtffasa/zypYhqnYOWdkb9V8bVU/dVeJGwYqRK\n",
       "I4Nh1dItioUj1G7U5QbahDvJfArE4lmOXKQbM4MnR8z4VltTrWx0i65XMVjFQnqkNt5YicATTLTo\n",
       "9IXTpInQqE1tSjM1h0/DeG3GwXp+t1YR+5ddF8neZNHPHFk8JE1SL7OhTOR5PXOsLS70K8lCe8+0\n",
       "XA/5cjDeAj1Fl1856szUwo5LxI2Eno/08yuLfBqADZI9kFRfFZ3E+KklMXMCrpfCbYsptgAedSWj\n",
       "qFGdU/wMis5l4dmeuUkWO73wW2HDWWMPbRzu5DYr5WhDJ1oH/bBozghv7nY7Zr6aRAFAfmIyQtdU\n",
       "d2lpkHPpm/ss6ld7sOnvk6gyB014WKu6qc2eWwMz93onhxe/4PQPSoBMVCJO+5FVkObkBwU7F/NH\n",
       "c9ctBh0y5hcokS4AOG7/vdkBbQPAI1BqmkvbltFBLfSGYwICd5aZ+0oKx7ItOa+3KxW0eR9vxlQz\n",
       "Z1/4ErOhAurkQ7Go2GkX4aNCP5MxTR/SNxpWeiCwa3nDjfzMctqsNpAwjb0nyOKPGRlADaiDGB+W\n",
       "9qHntdtH00DR0PHBRD9nRT21nm2wr8fyUEUn7BclsFBmhdJ8lyNd+yjsNaPVqoyE+rb65iJCX1/K\n",
       "NEFIuMNLv8dWE9fR8PU59CH+vVrd1LXUhSrIIzLYN4A7/aH/J8Jiqd5dKKmSWlBN8RfSG9Ry3MPM\n",
       "FGPNKfcG1zae1cwW3xLzV/s3DpXNCrLkKvXk6KUr83bN6x2sl8yteHS74SKVanFc1oQCSjUajUaj\n",
       "UvcAAAD7QZ9+RRE8I/8AAAMAB9w26fLjGsRdhjnmAASGnFM9AD+fUckELZ33DsG1z6uxy8UbfcGh\n",
       "Fk0kCuVQOlHTVwKVi+eVabL8cE60CjkshLXLeS8JlfJQKrOpbm0rN7Vw2ia/OGU4XE9SayQ5oGf9\n",
       "Z/ZBzSw+phO8HTyJUXU5iB3NvU6mMHItjXkAxjJM1YDoIoNDaU4+yKoLrE1TKDD9CpxxlWVok/uO\n",
       "g6Cbw5isLEcaEKZtEEqiqQzfNaRRJdIKDEUAJFfcmDh94BKJc6eKUOMJejsHi8U9brrVVItwJoKg\n",
       "E4DqVxHnFJSKeNopEEYkYJDpyZfbgDqKnbR2A44AAACgAZ+ddEf/AAADAAzeEmywLs+Ajasd/TAA\n",
       "HgpcVzpHInHcsZBjSDQDYhASgDO1aahB5hkYPsg/wb2I7oIGueD8Dlf+2gDFnBhfk5rlqYdMRQ2E\n",
       "7yDBXEMyse9pgGojSO6aXomiqqTnWPYElWch9e8rScp+xiw/zUuwT9P9hqRr0ntNEO/DwDTP9loH\n",
       "NzEjq0mPYDu86RpAAAADAAADAAAm4AAAAK8Bn59qR/8AAAMADOSc5k4/JEWT6kgAAkK2LLNLY3Cx\n",
       "S0xLFS/SH/G8pAzHZb7gnLiQQFyb4wTEfzmDVUN7qwo56iiJT6GU1QxVjVE4r8ulGbXkUKKSL2kB\n",
       "G60QCTnmUOwyoVAdKx/KNlk+JdYulAB84+oDFNpca6QimjTIs9tuRHJT7q8AdA3K+aicKtpyWD1r\n",
       "2zc6WZCVOxPoPROP6TpVRxwN3MAAAAMAAAMAAFpBAAABxUGbgkmoQWiZTBTwr/44QAAAAwAAN3qr\n",
       "3Afw8tyuLj4Jod+goezbvcBFTPwbRn1dJEWU6m7dpHD0PgwJNmHqpHKaPsgjFg9+P7U1n6WkmF6W\n",
       "V+nXqMjitkMqh4ZdtGjDzu0BCjLKtdhj7gLklDtP+Esfd2c41r8AK7qhKPC2YKMdqLJAnSBMwCVQ\n",
       "VlUZ7MKwBQQUVjrRC0NcOb2DSLUbzWSP2KoYDzE8hyFbdE+IcCD4ZJIzNJnvh2g7/V7jmchc9aMH\n",
       "T1enZiSh4iNIxbFNtGmWLdblXTCUFqq18SXXvdEQdBgNQ4FmpI+zo2AI6SwcIz7IGgDBE9LWTalb\n",
       "QE1vGXb971V6KniY0H8FDs+pC5TXiPsj4FAhK+zhxXmJmXSS439Ps/Fe8hPgmfdMhQTWkovhaBeY\n",
       "/rB6nI8URS5bRgeyo6x3+tL5zQafazlq7nJ0cWaTMseIoA0wlfs52iZbwxaXPchVaPvKVlmg1+Al\n",
       "OhGTsV9b3VNsrcyuy7J+wgzU8VM+7AzIfXA0QRj/Mz1azqaZJx/xcKvybEOXDgHG3zY0WPWyifsj\n",
       "WNM1CmWHek0H31QJz7cv4pB5X2v8PZesznFRe9CaqwAAAMwBn6FqR/8AAAMADOeQGypikgBERf5e\n",
       "30jcyT7UR/GGXiKJRyWy0/kGDHmVZiIgyd71L03krtI/jibeQkmTtiHCtmIs7SkRdN4p5Hz9MmQ/\n",
       "Q2n3tFKFyBDMW1ZTO02lLhW8Xct15HtD7z7OZwYJ9gvXg7LhTzKocowQAZbooUv68nUh2ijywWE9\n",
       "RboHHMr/LTtMt8KTR+V9viRPEAYTgrmJ472Ma2931Obkx78PDfWEe+XFABbwGp5ultvasBvgEzIg\n",
       "PaEHh+AFgQwA1IEAAAHVQZukSeEKUmUwUsK//jhAAAADAAAON6S0PwyuqDHSXgtXKyyTUifYnqxq\n",
       "xKg6tMGjxu782TtN9Z4bluHPN4O+opFHG0rWMpCCFjVcijfQ3IpQ+DcvbAv4T5fNyRvKdER+eiy6\n",
       "BmUbQ0Y6oQqejUIW7BFivwBVLjl5v5iUom8eyLJCylPKwcGeKLTIueO2jH5b0xyclNWNslt4zL2O\n",
       "q4UPJfwxyHkX2YReKdhNAS8kS4VTvtjKtQpb9MGZQv1MYEw+h14qufr/M8wM6KjxUpzSlI1PfjVz\n",
       "ANzKMq5J9NLvgMOSs6TJKQb2EkvybuhDPTsoclk8ONvJ8ndnVSnpMcmln9/IzgtfPtwHv2nQ+sSm\n",
       "L+7LBvsQy0vu/bDguQIpdTUMBNy8WTkGHAQck2HNxebZ/8yHmmtfW+Ok0wRysu7NOKMvHb7TpQw0\n",
       "IPaWXBKRInjKHfo5DxIOjz7IUJaUWHlsDxvnsEjCcQmBtHPx1dqbpMCxLnTI1h3m9LqYaP7pWZtw\n",
       "18BuV8oCAzmLXdFRCzBVRHebOsybzzlDBDIQu6DKS5gHzMWzi6UNKrgo7IThe6NiIW/ePVdPERIz\n",
       "33NFLg/04KWGc9p7VrCU+hzo81vxPlJGIh0tIAAAALABn8NqR/8AAAMADL75y1WWwIrSOMB4RjKT\n",
       "P7COSm05gBjvwIu0g+Tt1ncUga25kJv1EutByBSVs+rvj5JPWBujod8MTPaA2xgpvAAFozn5LWEa\n",
       "9EA6SG0kdHyst8bhohLvtg9plmk1GXLEpORN4B7RXD4XC8p4k1xeMDxMzT0O64nrBFABRNLVKR4h\n",
       "dZ5UoiEmDSMkztPe/GOWkqK5OmQWzexegOZuwOD4yWOHQAAFlQAAAcBBm8ZJ4Q6JlMFEwr/+OEAA\n",
       "AAMAAA3QT2ReWiczgBJG6xGR+SwMRhYUYwmsoaSnUDZ/0LArp4xUoX6rE/Q5jG4Som/wqabJVQ/u\n",
       "nS2NahZO71vkMfL78Aqu7UZ+W541LmfsN4nG0Y3cByhtVK+gJzE5kMKyQ6aTHn8yo0ffIf5DZtVp\n",
       "wJyxCThz/uPOQCupdk0dtcpG3HhZALC152tBR+yQWyxOSuE2iHgzSGA2FAv3jzhc65PhGoRLFg+m\n",
       "aCOWMTWN7yq3UBGhM0uRi8nTgzVsE3g5RcbVq4B8oL/P03Z02RwkEONQRHnSaY1d0OjCqDxGVxJ1\n",
       "GZOug8YxWnlBWK4NYV2oPaj+pMrd0bBrntYHqlZfkQbl4ewgduR2Drpg61ibvFGAiR2u1h7p/ZpF\n",
       "aWQCHlJiw7DHuuQVGT4jhsVbA/42xKMxTK6fi7acgMi5d8QoBQPDzCa2TyEH8jodAm3C73Vb0wKr\n",
       "nnTA3IgvHgnYg8lO9MrYSsP3wzERRnQotq/0r/Rq5iRi7BzBw1jsJE1Jl9WEkxT69OvYvGqoqoQt\n",
       "kGllTvo3XwPDwAC8aWgrPo2HRQX8mFMpa8GOJxOJxOMDAAAAsAGf5WpH/wAAAwAMvvnLVW1+1vJw\n",
       "cOQ/gWOK/bo+lk6fhv+dVyWHWTTp08cY+8/5s4mY3jAJwqOyba0cbP8UWQZ6bDwg8racgAkUQmNg\n",
       "0QuvuPV3/etpQp1FBU8h2o5RMYBoBfROSbwu+/fmfuH/4Ku6oEirvffTYlEnQuSlvVgWXCkY60pn\n",
       "3dXLw0yNUN2fwo5FPyAeTFgnfNRVto2CGNCAhFyAdfBgcTOmav8gAANnAAABfUGb50nhDyZTAhX/\n",
       "/jhAAAADAAAN2fQl4HFqVACSMuKNUYCyNkScloNskyBmBcK97eOXSYTKB1e876K/9BSplZSnWnO1\n",
       "24FRefUa6e9FN6BIubCH1eeT7yTXsakWU9ozTu+Z+bsW7d+rP5SgI+AP7F+LNms8xJcYY/C9d3Zk\n",
       "pATkPWw2U56WS4m092Rvb6fZjJ3Fy4Ao0vbB3j7d3yE9ZAnqC0ePpaBLQ7VVp1zPJnyB4QU9bnK/\n",
       "yGNj2AditOquCfcnKfxbzvbEpPSoMekREHj81adtObS9dElIc8rOSd2cn2fIH/IUVWgzoGnDYIdr\n",
       "IbWjitOxcBZKZqxYqutgjayzF66zuHgImikpOjgxHLyOBA0SuoQHT/t12JDR3Dxuck4g2h3xX5h4\n",
       "Hnn43dxJyC5Etwg2lU21KiUYJ4ZAcP+45vqEw0rV/YoyKWuFZGcElImFtXfvV8eMwX1JAWOLU8dK\n",
       "CYKGpgKMkhrC5dWqK6tUe1hAY4gnA7YETdPpgQAAAW1BmghJ4Q8mUwIV//44QAAAAwAADdBtN13N\n",
       "0Jd5rINX0oK+AIk9WRdIMCGOWCx/+42wk91GEhzIkjkWdPJMkEtY+oO070PzxfAwAGcwB1wdV9K4\n",
       "s0yRlBzCzslgfD9V1CEc79TxtEk06wHnIpahjKJuKgetBsDiQ5uqrlEG3kzrrfIECGsIwkBUlDhX\n",
       "CgLMxgqmY1NtsegsJ6uGBOjfXmKUTv3VRXe5MauOgJDxWTAea1/0mM0WwhPtuN9nLtbB8NV0z5gP\n",
       "R5y+9tuElvp+pzmwEuwI+P/fQOFdqV9rCtF5RcfHCkgkSaiGHXMSzF2bd6XD105mUJ7WrHT611xl\n",
       "fTUQtz92sNCYZnfb3iDRCbuEErslpSMT+INGMIveAogtOHq3U+acfJQgkCSh8MV/+9IjlvwhqlrT\n",
       "CFB/zDeP89z8wSB3u1GOUTeASQFT6B+6T2a2t2UcqsXTYuFQHWMXDKFQUGpFdU1CbRvViAmzwAAA\n",
       "AUxBmilJ4Q8mUwIV//44QAAAAwAADdnmGusb0Tv5imzfV2rtzMx+KSAFg/vF0AFULS6yNxmYqf5b\n",
       "0BCV3qB62bz+//64yEDQf8+cWRFqw7+gJeiTxNEimDSpDKr/1ZCtEuAS4Pd1130QQP2CgArfpaX2\n",
       "mq/aDhYKS85aG9t0B8OgD04t1dxYOA8v83UxuIikPuvvitIpKfKzAIK6++hIvRaNcbKdFu7KsWrI\n",
       "znv2tlHiTIPTasQ7yvf3vj5LXffune8N5jxAKnFNiwR8OShBi3LnSF6mgZharDCk7xfo2q+ClolP\n",
       "KqBLOyfRexhRRh/8gY7OAdwzSm5v627qRSqdwfbL4n/VlZZOGcrgCQp2LepK65aexkKxzD9hOkxE\n",
       "3rOHFgFCJEw3/FQxU6J2DdRL4oPlAZ0Ac5bGDFR9GHpnmzELPIQcs2SztFFHAR++IAAAAWBBmkpJ\n",
       "4Q8mUwIV//44QAAAAwAADcousgT7omxPfeAdFdASuAC2wc97J4QE8AjazQMliNSmLO5PzAFxDJfR\n",
       "3J7W32WY0z6guzs81CrQMDLyN9HZg8g4EGAQVgacaomr9Ud2uzUpDt4I2lXUhAbXGxXZv8Wg+OYC\n",
       "6KPPHc2++OJpaWBPOETKKXbAAIUl3wyWRy9V5NFznbkKk+tt/KR96qC8wvSLhyvokgVdGfJmxpJd\n",
       "0MP2CtfzkLyLn8wR7I0VunF5LyBqWu9qMwUNvqx0KaOFilVx/JhalijWdgscjQsUPCikb/62nETn\n",
       "nCnf+Tde0PjN5kR2W9f/OEiZehTD0FwgXgOlRvJpZ/zshWjLXXGjVgwrHIlumZx+P2QDgXaFPgP7\n",
       "H6rS7Rja++HGBCnfVhxpMHB165XNEhIpc14YN/wGEZQVWrD70XCtgMscuo1OFqTMceMRGaO25cNn\n",
       "iQu62Eb3AAABeUGaa0nhDyZTAhX//jhAAAADAAANyi5xwmkmcp45/ADODIbFmGyuOQNr9OvmteZn\n",
       "mMSRvMQKkwc/UdSMKT9tJlFyce1jp4WAQQTzRYNdT2hds5xU7Xk5Mv+fbeAxRQDSC3ggSbz8oQ1C\n",
       "V0CpIE869dCacCU0/gXzPcnZFx9SnI+/Pe3K+qfBI2ZqZbc33BOrJV8pDlMsmhivpZn2LjkldNgX\n",
       "vm9PQUKOX1ZqNgP11F3CBhnmkC7X0h9RsCevqiuRVNy5dU3sXIXXCzK7awIUJR1G79ksW9AQfXSZ\n",
       "P2r11c3qNr6dJS300ioF7CjXvRG1YLNotgWkrp0zqvHjmOL6MRh6jRfDPz0bdHH2k+4RdeA9Gzip\n",
       "dhJZuNGe8N7IcIy7tp9iOr2r0R/MFg/U7Huumz7dBY1M/TPoh53Rys0tewADEIDwkKonuljfDTTB\n",
       "yXzYV8pvr4dJgdtaYjOCuxbI9VJviqDXaPSdzyHlqzGxuAsEKQJUa+glHr34AAABsUGajUnhDyZT\n",
       "BRE8K//+OEAAAAMAAA3f6pM8itUjC1L8kWs+/jkABRLjQXsv9/62X5iw3av3uKn0+rg3L9fShDut\n",
       "Ld35verrBll8qVo5LpDD+oABZa6jg0EXTAQazag16/WhXs3K3VXJmgur+nGmVh9zS8DxXp+7no4b\n",
       "t3TG5KyIwS5Su9JxMnWdbsRNGmh6JduFPUmf65PPCH/+tkzxi/tRUBKltVDp/upqGo3rPeHcBVWX\n",
       "xELQqm21MXeufrru/PNfkkKQ4zxXraIn1h8KXcuI1gWTae7QDOqXZpZebKPLpN1omev1JuYmnWH9\n",
       "h8KwUzEE5Ucb6/MrtL4EczRJUytfGhX9CuU9E8yA6rGVQUQHJLoyyi+ybQdwRnMNMq3BjbYgXbOp\n",
       "PAA+6iQI7SsYTkwpYG+7LU4yJmM8/zNEvv7XRoJCWO9iRZGZYEitmFCMhIih1w5ITfDus30fR1ic\n",
       "SxpM+NtNg80avcf6dtdPhOognoGbYvv+HCPa5aqW80tkYRO5akpJYmLDwGlTrgyQAY2nG+IAtQXA\n",
       "9qhqQMOrBP1u1MXrHnSRslnGw4sMOtJvWfkAAACkAZ6sakf/AAADAAy++ctVcaL4gQZ2tcj8uvjI\n",
       "7Xsz+OKEYySSmep01aQ15ZN710DfIbgjXJn7D+UkAC2ByyO9+QVPxtI1HfpR9AJWMdp0ByFxSHiE\n",
       "Sv7QJD3tbJJKAZleYIrNCn4gYQqce6bFhcwGHot/n8YcaWz56jUdP/ECmhDCNMBbFQ2PZjDeUdEz\n",
       "XG9MbAGaPwB5hDgbhTgc3eFqOnAAAS8AAAFlQZquSeEPJlMCFf/+OEAAAAMAAAMDigyaCC0ACx4F\n",
       "A4mUUQS4IDfWvaJZ3nLAv1lrR2U1tY5g00pj9sjRbvO83LKHr17JNUDIZQhNx8ZeDHGgY7yU33yw\n",
       "j6nLqvHVboM3TYIgJtOwaY2igsmmMO0Y0wbNf2H0jawBM++6Tufzar6R+YMPo1V1xy42rtGr1rFU\n",
       "lGPHBBe37f9C4/M/K5i7DmOw/W8HG3NlZAt/RiacZN5MUqo8nEGzkTwcZtq5FK657hHh1SQzdLo/\n",
       "jXfbMpt/vQlQsDOm2HD6bGqRMj2UTBElWAUqdknnY2LJ7KRzuMlYvza2kNVsvxdcmROwIpDzG+q9\n",
       "mSD7yKeNujyQm7jzCa/jSi8nZB5x5vWg6iBmguDuQQoz9aUAGRqiPEJhyvQHuhH7o3ze9/0g5RhA\n",
       "np+tMOCK4X07lrLCQkEDlPygKfYJy1tIlyqzHDEioRAgTVQLZt6Ogx85AAABdkGaz0nhDyZTAhX/\n",
       "/jhAAAADAAADA4vuz7CIAOMEtlEy6LwNEPDmYY98mdovgfqte3+zKguNRvQU0au+NQISQtFPVKLg\n",
       "iy2MVIVv7z6EVtsinVjt/7oYjHS8cF8O2EjIdkRXsZU48CobKj8vcIrvH7ozbZo1tHqCRGHhnOII\n",
       "L78LEqDTsLLTmQIypNlR5mDhC++IfRB/r6UmmkYNWz53Kb20t5B45xx2itKst27dijuicfJemAL/\n",
       "bNlPEAOXnpToICq5/kMVW2fbuvsNzrajx0IkPOIihBayufH7Xs/L/nAk+2XAO2IyS5WmVJFkIbaI\n",
       "1UebvXa4Yp32JxABWnQiWQ8ZctiMg/n1xJ/aInBJPnByuVJ4JErOms/YQIzB0ywOAWE2qn21RciA\n",
       "0GJ/+CPho7jSqJl7P2RvHJqjix5ldrcxPWIXVnKL9/OPYUamRiFqanb4araH8Fc9BQb56sa/u2xp\n",
       "Fqseg9T0x3wJHaSLDXfdc3GFu0wlAAABVUGa8EnhDyZTAhf//oywAAADAAADAOkXBs4AE4url+9Q\n",
       "rvcV6e6etP1HmTHxusRrvFXiZsuhxeDqCvIW8zNOGDvfwFRSxf+obQwzR8frRsFhJrgMXNW4rH28\n",
       "qeeyGV4bnE2fSCfJkJ4SRb/ZpFgW7E2wsKHBazX7jVK6Y9xd5ZdKXMvY/LGErk6AjnXJEHwbQRq2\n",
       "fWJ4XEBwyFt6dZ0M68xkMSZlGAvbSHskq4FLdP2bm8IyofS6MFrOSbuZMXbUh5paI2T+7PUwCOCa\n",
       "oM87AT5gzxro2XTSLtNdF4NZLVK+9HUBSKrRFR1PUpqzgSY3gVDiumRat1Rh1h50Dz1r0uoI4L66\n",
       "RdfDZyQBSGMdvYUs9akQkExiEb0CXKizdat6vFjmsRZ3Dm/BgTmDE09UjtAoQ9I7SsuYyB19X8hx\n",
       "XHx8D4I4QHDObJwopiOP6NtiMgdf8doYAAABm0GbEUnhDyZTAhf//oywAAADAAADAOkXlX6AExu8\n",
       "4jn+9DEY8XNSi+I759IrSL3NzN03qP/X1O/6//rkVQf+a1Hzxowep5wc+twCbJSxylqhD2cdhDux\n",
       "tiejXusup5tKQUKBMrvffraW1SkoUOeyhTEEHFkX9I7XK7+f74MYRWMeY4c/TvB5a4FA5ABUk3pS\n",
       "5dsCRtLHsaYCkVwM+MIywt5e/BQTocMpB4RrsSibV+kMM5HVmDaBCmOQ2cVI2swJdPRMOlktfi/g\n",
       "NNtsTUiEz2qEbo+dwY46U62jfKlW2Iofzq19h8d0oyob/IxfzVjGIq1T/VhcaMmhK0wgWcElPq/Y\n",
       "gN3moH0Elkv0g+ffvjNiel/E/MJelyblqVQWT/py0QRb2+v96B9zu6ik9XUZ9WpCpJbo4ZBkUpIe\n",
       "54eRx9TN9qkBETyh/LHhKhBWnE6ykdWfizR82ppNQWmgtKiXcwUK5tY0YZngwfw3q0LZGcWsF6pt\n",
       "1NuxxH3XFExai8TfVtHG98fZogSjPkhoapu1ao4otZ4ua58GNQjNIAAAAtVBmzVJ4Q8mUwIX//6M\n",
       "sAAAAwAAAwDoxXcotDAAHFoszs1b0mTeMIcrScz3FgoHsAqNCCyC1vJ+H572FHupcx+j0o0HwZ7y\n",
       "G+mu9hdJPDRZMJOre2Id2B6dG0eMQJCyT0FejqSVKrjrDb8dmIYNvS4N5XZwq2ktSqaPMaDThq3g\n",
       "G+s5LSGxHlXZ11a7i6wIxmqS7L8YbXk39K+HsRQH32diBfDHCvli2scP2vLjlxppq3tGcnvlER63\n",
       "gl5BJ/ScaXh0fq+1rlkehQeMjALzgKA4oFb7kKRojsxuyodtQZJ1l7FTa/RqobO4Mc7tvYxHxg2A\n",
       "CnkZ9S8K5eD6QTTMAYUwrQ/vg8x1hCVubBfzrGJtu6SlamWRBmn8BA194GSKdjskY3Cl1dOd9ASf\n",
       "8mlGlDivapBGT0obpJKhZGgjZel4Yx6/FiVXWj/VJts3Shq7evbpMqPcVENWiWjHnsqtCoyf3hdq\n",
       "WaIx4zRuaI4iNjOC8j3lNZQVrm4h5YBv41CJJsVOhQ7wd1BaMA0XpwLKbfaeiJdNDIAGYpdox6Ro\n",
       "XCBx57ftcTjQWK7opcrM5zRavX3t+VDVTeAANL2RyujRyFcK57rCUZEIEq7zkMWfGu5gV0zneJsK\n",
       "qr2umw15jp2xp8A9UdiBd8Pp4+wqtgyIYDfObon79RHZgC/S5n9a92cgbBX57+tXeyoey9RxOAkP\n",
       "irnOtm1CiaXobCid8w1iMp3vjhNP5AaWMrukDDqhvFN9WHm6akOdJHAfKdpDSJ+zuVEidx4dBzRZ\n",
       "wmg9qDeHLCNxX6UjzNL5Jw43eR6XWzzbEnDKKkf/o/ZDhltVxRB/81gy2Prsifsk5GJZuRPVbce4\n",
       "u6oG++KyN2RTQb5IajzT4omRErjlbCH652/eA2kN520mZbJi/wdN73ZNmTRJbMjnNnAhGk739F9q\n",
       "d+fjgPwL0JUQEEoqGFB+lxoqkAAAAwAAAwACVwAAATZBn1NFETwj/wAAAwAH3Dbp6rnspptWqfDN\n",
       "AC2MKvvkhgYX2zSXImkJ18qqzqqNJuND3fd3RctDfDnTa4CdMwNIJUpewVADGI1uV7W4k4akcdKk\n",
       "R4AEn/Q1c5sCtebnMiI/RclsQ4FFpAPNaIC92+L9cILyrNgGIKNIlrisczU6vxC3tHoITxq3ZFkB\n",
       "QOM/46wx+TgMOD4K4OiwKDO62rxcAHFhzh+Pq6MqLtNwrKO/rs9t25qv8IEIRBrj/suqbnvi7gdm\n",
       "1Df+nkwHqWh6dokfbmdLzaz85GD5zSrcdWYBP/7P1h+UqtgInVd7PRQl7wR3TzF0se74V4wJmywv\n",
       "tJwTAAAwwtGPus0cWD5xQURY0HmtcChZdhJ65zoaURonJbgBWAAar4AkOJuBtHQBBuAP3RxjUAN6\n",
       "AAAA1AGfcnRH/wAAAwAM3hJqrfcA8H8ytNFQmluTIlPTlymmORjeQHwqRUJVOrsr+wioRUxUwDcR\n",
       "6aOENe1sjMXAF9CE1uhQAgXVEABJzn2VqYdvhuibWTX3Yj3O40b/udkKsyJTOd0eRitJuQ0c5CCL\n",
       "L1RcnLD7zfHEe24EsWBkWhbDsJ5s2uNcrGHhUgWvdFbyDqyYG+ElkagInn4C3Ths3Y1L1skb9zct\n",
       "o2vD28e3PFEJFP0ChBlVazSGMy7ZmGCIh27fBRbbdB68ucAAAAMAAEOMyAZ8AAAAqgGfdGpH/wAA\n",
       "AwAM5JzkmHh1ACIkc5WEEJ/QYLbkAH238vF2FqhFtsyktUxlzVD4UsSmXvzPIMY4qET8tTXVo8D3\n",
       "5uwdzu81C2gwVAl9TNiUNeoaOBXDuNIG4h+GkwpQQS56GFGne6gulQGFFcsX09khwsUdu61ouF0K\n",
       "J1Uqe07TLsldd5fTOw8w73/oyr0+Qrbz1QfcQf7BlrVvIL/hT3/AAAADAATzkAF3AAADBEGbeEmo\n",
       "QWiZTAhf//6MsAAAAwAAAwDpKVZYCqbWA7levRplqte1kvNIPdbUSjEqu8MjggtHVKNQ4+b3A+BN\n",
       "JxxkUpMpOlhee9umhKutVExfgGlgF9ZMMaDl9acS4dY154ptTJ94zSHS5mW/59V9kEx4cekaPWa9\n",
       "YGEgSQVvRXIheHM6QRbadJzZqkoEaD9m+ToP6LMBjEcK35FfSezE1t24AcZeyBErtd9gZyM+FRsS\n",
       "7J1AO4OGTTFlGI8g/Z/JqW6n1xC66Td/C0v6qtTqfJEpdNEIeyKZygaaH/TLC3yHsO5+nfL4J5qM\n",
       "J5ccpalHTThdBbs61h/8dyrM4JrmD9EK/Y4A3x97Z6NRXtv5ZyBC+/Wc7uQwm71u4EYjlriI8Von\n",
       "1MHzJ9FNHCmQaS0pjcTOCYkdQkFe2GtibUimvJIg4eXdgVzGRN5sdaiFmKBP0jgnRZzg2ocUN8DI\n",
       "Ici4a1ou6dWsR48lNhgdk3W6O7Ql1WqzC3UAnfVCHf9hOUTYfMDGU3tSziZQ8+tlEff85ooR2mNU\n",
       "+GGa7p1AKOKfRx57yOA80bbWVN9anNzb03CMGrywIia5P7h1pG9KOo1+0AoDoVeIGtjjYvIPxAi3\n",
       "zl6sSj8Rtpzf5H4dpBfrQwv1sFj5+cKACTV6Ydu0EFKNnZpg2aCOryv/0W23Q4d2d8W06IqpNpaZ\n",
       "WmT98/SRy81/OQgDcn9K0mEm7E+8zN1v3gMIMgK/t8aCNTX7t7YF6Dlk7dmp7h5f8TSrgETBnrfj\n",
       "NAziccF6+ZYMmiYxHtJ1vGZwF7OOBHTZMUc1J1lf8DOyfvXFe74c9l/9ToR7JVKet4AvqiA247ih\n",
       "hsZtB65ecI/OGHZxKriTSXNLDrE6r4ScXUPJ1F3jgXI7EP13GLiQQAwNkDBy9Si7Icke5Qw3JPEh\n",
       "HbbL6C0E8s+H2Gy/5HaLWeReC1wLvSCCW/+WkVO5CYDB38xeOkcYZ3EPPG1jefg+S5l1qTswHV7F\n",
       "iSg4O6eVwSYXO1xWTh78zx4C6Yjd2Ov++aAAAAEaQZ+WRREsI/8AAAMAB/Nxr1XRJ4s/XKfb7v0I\n",
       "mgpX6aAA/hvKdUwzVhIassY6WHFIv7+cmsk4MUDLL3HhjX9nWtrcvH1MUEfBFNVagL4DqbQBfZ4H\n",
       "NkJLtyLp8G/VKRxZV2vYLKFqD4DUeq+1driSEsI6F+GYfHhZ7Vl5gJtT3AoUiyR2HFJrtc1Qk3P6\n",
       "2NGHIgwljTXoqnblhz5gLFxFGCHHqGkt5MwO0ImChxWl0hEOt4hUR56SiLqjuwBvbxGOwjJRSvv/\n",
       "Zkp9qImORsJXoir+AGckL3l2TzONhPWTCn0qYvTUsznjGeMdY5vUUdlYBX0HBlmZRfLQvKoGIugg\n",
       "Uuqu+8HfTBf6q6IPFizsuQKIMHLoiK+AAAKTAAAAoAGft2pH/wAAAwAM5JzkmHhfavhDvkoWcAE7\n",
       "HrtloZLUnFYa+RxSd2H96SsUA6JkaHEBv8t0Ed+xfy+zeGnOyNoacziqyS4psxFwEffrPQXcHEkq\n",
       "bBIkyq151K9oVY19rvvN3RylW3J1QcyQFkCTgpE0n5WYgpdh960S3jUYIIkXtZ8ReltYbi0gRTrY\n",
       "JAo4xlN9BiRjPGAAAAMAAAMAA9MAAAK+QZu7SahBbJlMCF///oywAAADAAADAOkYpnW0MZ3pvlAU\n",
       "MPQDzgsSSAHi3qjkzIEUW+iySyuZ3Nvc6/3riVHRNU6PDzkMLAkP/waBaxU6n3dTkRPkht0Ojo1b\n",
       "d8CQk1DQJnTQsTtd1b8yC5trQ2/jhnFvQTlBCsXFcFtDAgGZXAm5dINt7yESFHFON3OuEyRex3/8\n",
       "gy29UqpNd2AFx1ZONe6kx58T6wLYV7OSosBsy5aIJHwnYDybxvAPMcBL/MRJ50RzkfQHgS97Bz1Q\n",
       "aAT6Z4xa0mhxf2xmZqb1HfvXDcy8WmsNLDJF2NPck/7TkojJF4mIq9yEHaYW+oEZInFtq9BDgi5I\n",
       "MndSpIiE3+3qkV9kSmTStHszD3HOFOW3ClH42AX3QDBbs6QtrRKVZTmWknBmOLGEP01my/u+CuIS\n",
       "SXJfngcVXg68Xatx8pdzUsqKLvLY69yQVGBQAfavA4Lgk41ZC4wH3Y1vRqJqG1c/7O0gCghbFehs\n",
       "tQKnZX/dnWv++zYhq9zBWIqE18SFWABJSucxffbn48y7tmuDD8o+iYpc+XyBpzFAnVSVEq5VbhHk\n",
       "R4Va7oMvvyCqysiMF14Or8mbRuWsItj//B03CeROXzlc8rHq97w+TV5iAdhOwWktS4CkeSTbC/OI\n",
       "HKM9FE0/JrmGtXFBW0jIUjHdYCco1M5cY35ytX++UA0/IqFerYN+tbSEZQl0Z7I4eNZFGQl2HMIq\n",
       "Yd2oK9Kt2VYujWeEBjh4DNaom0o/96PhBj7o4PUMMLqcGmmccj6Ua1cSP0n0aMRO6lLf633XZS8c\n",
       "heLlIOpGoXjGCEV/SzR6JtKqhs6+d4vu+OUfIasUn8cczZg/yT6P2Eu5yP0qBN2nsjsF0qKWVGsl\n",
       "ZyxKAZtooiHvBzkBOL73/uOnP/ZURLieaLcYUGnJyQpaCw226S8Ld8jmAAAA1EGf2UUVLCP/AAAD\n",
       "AAfzca9V0SXGHVinSw0OzGD1RWn/cACwVuzjeqXGalng5iE/KgWyWDcVqKc1E5mBc1GKFWsZdNBq\n",
       "Bj6EOJNqFppaSp/KpL97tCNbH5V73tXnO6uC91CtJ4FExcEAbUEIldoTXjAyWan5PfpkDV2jqzeG\n",
       "QVq7jro9eXBqJkiGD3kOhNXSxVC+MvZT1RadPjn/B+caY4+yXIWcSmpK7PlfC2nqxmZ0Y3X/5l1C\n",
       "2DvRh1IEzXzupe+xUAc9hQVz7mr5bOpABJXvvAPbAAAAsAGf+mpH/wAAAwAM5JzkmHhfav73NNyQ\n",
       "Gz8AAm2lD8nOlrQd/pa/cLdrNiDhmC3Lo2lLtXvcNrdhDDcF4YSundHaxwijGUflASJxIMbJ19C6\n",
       "TqUZRTnLOcrAj51xQjAEIAAChYZeYAzjidxUnWh7jn8AzH4YdVsQgr1AtKfzf/oXMqPzGtthSiys\n",
       "zTCXW+Ipo7Vp2hOAtsOTvjNdNoukcyFS11ZoDKmnwAAAAwAAAwNSAAACQEGb/kmoQWyZTAhf//6M\n",
       "sAAAAwAAAwA6Vt/6bQE3ABzMhQVNPEm4vPHPDIFheYeyx4qQaHcw0TkVEUMLeyROrB/RSS7UFDR6\n",
       "CoOsctc11Gu7rHlJbMZzxEdXtUhhpPJ6EOlS2o580jD9lhmrppCzxLYcneWndJGmKjknTQWiGuP4\n",
       "nzXh2NUJuFvT8ROFiEVW0qd711dDinA87accLXXZTetobZIgV9X9/rGDD5gg42ffNYANWdPiso57\n",
       "5N7013h+LaJp8IlMXrYX5NyS0Ii2LbAxyhjemmG6zF3PIvT5+B5SBGxZ0XRIjQeqX5aPPxAJi5Yj\n",
       "oifIEDHdE85Faw6NjoDJfQZCUeVVvoeoyI7Ef6xuMaO8CT3i0VCaHSlrfUfH4kujyxXLtusQWVLR\n",
       "q742DxqoWVsD9/UZfnTs03MN5ouHPz1oRov/xQ7rMaffriPjrH4UIEOaHQ3rORZJqtjuojO+abyS\n",
       "f93SrXMdAQcH7j/+247m+fX/R89wvKPbRggAjoGnGWOAX0uDQ+5IkZTmDLo4uEFaMmREch887poN\n",
       "qKhYDntW90F5S6RynXSpo2H078G0NTF/m6xzj6CBD/wpa5X/KBpmIPMozWfs854ks+kKfg4c0PTb\n",
       "d2xXZVvtWEVES6P80AOUXyT1i4ISVtp7I5lttrEDkxC6ksNze3SBhj1dnkWCVmeKNkEeL+jiSHgQ\n",
       "flFL4+EI3ZTOWtEPH6xAAD2JaXuog//5GU2zpIlOG/L5IeoWRXf7FlaNrG0IDe3HaQAAANxBnhxF\n",
       "FSwj/wAAAwAH83GvVdEmkDGLu4AW2rj+bmcmU46NNr05XnfDzjxFLAzOdi2sgcbCw3nJwHTAIPuv\n",
       "TdpHvgYDWvRdoIRLa6GvC0damuRgrz/k6LnO2fYYAoGG6FfF+6HRskmcbWpxEgVWgBN+tbApknIt\n",
       "ooe9JDQ3X+bCiLpoF3LugOs2Cso3UU+Jr1/Cdl5AcHBHiWyEoiIDLJO1tkPCYWUl+Zd1O2vKq2fU\n",
       "pIETVPrx9ffS26OzGaIcynhKdQwDCB5s5cYMbnK0SEFxbi5U4shgA9mzAPCBAAAApgGePWpH/wAA\n",
       "AwAM5JzkmHhfb+rldzXjwASVfjvpSje2IViXsIZASarZ9AzPqaoZidMVLPEZvAcJdZJYf78oUuZu\n",
       "yuhX5QvrLR49zH+FGeXH2XyE6iGvb8E1+qWechWm+/1ZttdQ2oY/U2d9tOC8dC7N4KWDLmJ7z0xm\n",
       "ix4sIJmCnVhlEej0v8Wi6qYJqJATNMuR34cguFuUwFz/ZeAAAAMAEWnOA44AAAJZQZogSahBbJlM\n",
       "FEwv//6MsAAAAwAAAwA6ms+a0OrAABa6nwNJVMSZsK+7ei4PVA2Svb2D297HbhOGDp/CAyx5sPVB\n",
       "DoEBvcrlTcAIY4MX2CkLb8BngEIxXuXhNPzxYCZPTu9QZEXxgf1uykqH4J4s/MP+zrG+N/ZUWGpL\n",
       "ZktlGhYpoPc0uv3KbBG6eBG9Rl82eLHMmt+inNNmU19wDDNkGy233iGrMHhYc7aJSOUK9+5r2JrT\n",
       "RabHjJBFPbtW3Y6TQIZUyRYxlBGsrL8nTZw9QLNaUbzPjGa28/RJ9XR0f2mdEEgTcga9Egf41nLh\n",
       "OBOOp4iGky46kUuDBGGf4CFwOn3Q/1pDmpY9tIYMBwK0xTclxUDfG1Rru6LiIi4bSP15pKyKUY9B\n",
       "Fcwm59K71zPHXrx3DSAcTSXaF+TS9dOIaRqrqRICU6+3WfxhZzd1rjmvOk3k6m6w1qPwD2K5lHw1\n",
       "2ar/vMQtV01op/tmNYfItOP1r3RXOa4odqPt8EpP03t1ITxtoUudH9n8hYpXFuWLwV2DVaiC9ZZO\n",
       "mPRzasLsZ5/0dbguSbR7sHetKsSvhhXQxnTTl1C4rqqR0gjBV8gz5ir9Lgatm78BzXMW3sJdoNYF\n",
       "P3DzbaQkk9CFWh4gSfBME5yYwxbT0nFv3aYXL0XFmkedWAev2yR+JoeS1HzeluDL4gtKro8PVomJ\n",
       "3Kxtz7hF9eopDn6pNseJLFcxU25ciS6cQ4e+dVRqESCwLMUb/UsTV/Tox45Qy+UIxO2/fbw9AcEN\n",
       "2pqeBSjfoGGXfqGMOV/NXJ/nwfa3IAAAALUBnl9qR/8AAAMADOeQGqulTiR7EMuSTqucanZEcjo8\n",
       "qUfRbqG6E16h4ds+CWIN9w5Y/ksKghBUwSJkbqnE1o1UOulY0UeqaRTnPo0kX8qv0kc31wrNG0V3\n",
       "eR58tbW79Ztf3I9x3nwzmqqpiBWZiDqvh9r7e2CLEKoizUAoluazeWyXUAJpEiyrVkfCvUn01Yyu\n",
       "i8Veh3cLy49XAw/vNh1JIa+zSediHmTQ9tkJKQcWuiOTPAI/AAACjUGaQ0nhClJlMCF//oywAAAD\n",
       "AAADADqcioEqsCBIfS1kQJwd5xdmMjqlAugDJ5ucDtALu/Ir5UlArxlNbboAPZxLCNGpHs84QR/l\n",
       "uPB+3lI7sJpV8jKM3WVUuJ7+OiEpNlCTVGxCcUttVEOFIqAda3kHTLiaZrtYuvutFCgXbCD5UTTs\n",
       "PGt4rA9IPBQFDSwP1+Oc9yqueo7MXFaQgMSTUKoMsri3GACkUmnBZUFUQd9P+V5d1B+lmTDoJ3/Y\n",
       "o9tSIvhjvTnmPR1OsWD50cwTXmnlr8ScnBzJ/3MHLfK6nIAaaJdjrxKrfTGZ7xN+TrITBQmX7zoh\n",
       "rRO6rSJGfkhOWKCuVCJyT8eoXt/EzTP0gXP4d8s660h5Q2Ez4t9KwKKl6r0ncG3VqkAdB1UB12HU\n",
       "9DyilWoT4z1eWJTdujaTftj/bI2YAXUJVl2mfIgYAKNTlZacN/yN4J9Wy/8UnuTcxwGoaWZDNPc+\n",
       "PFuCDc/wAMFtKpAN07Bmg8s1lqMIBglY3DWgwIKTvgSJHqgbZ5S/ArhMahLLHysMNg7SzWYuftmV\n",
       "pphdeAXxFJ0GfLUDnA7BSVbW/8pHJ0NSbMn2rHMjdwmUxwzuhhk5dOZZ9CMqQE3KPD1qZfCXZFHj\n",
       "kTOVotw/euMUWoJT8RCBUuqhxvDzJdX7Z4782keLD4/Xe5Yxq6d/PEurbGU9DjugGNnButEW0tKi\n",
       "ZtM9F6ZscEY2SvGWFovakVXB6gSnUpjw6CVEChrKBDV/h1BlSn8FhSzlJ7pjqyYrU7Pu+3mbfFs7\n",
       "qan+XTlZ4izwRd0KXYneyBdFZxFb1JBJy4PAh87e9d+iXsZFN9rdUhmHu9q0WMphOIS4ndxY+/dn\n",
       "dX5+VAKrSMGgAAAAuEGeYUU0TCP/AAADAAfy2xeq52Cj7UsshjxZWYPOnH8YAAsPEFos5Z3oCoQ0\n",
       "ne5AzBUgZBw38Bz/wmaNgQj0FVz16YhukInFeJFPC+VOefmw1H1kChhJ1oOD8EEUjMvV1TgeDmod\n",
       "00XFyx/N0AwyNsNDvgbbkATcH4x3JhaxwR42f7ZXLkzo3I7Ye7TlvQqiBlt9WJ76ceOuEKoJsZ3N\n",
       "mNKEMhQyRCA5E+UwTKUAhVgLhoAD7lGA7oEAAACZAZ6Cakf/AAADAAzknOSYeF89f6IaHqYRXzy9\n",
       "jAAJ2O8P3EgC8HZDU9Gq6ghOrnwj8ldjmWOnXZnQRCyygk9aqA4wqCo+E1LgA5u9QargSaTVbNd/\n",
       "IpK4xZlgFaa4ycw8UpZdPMCwcWteq4kNOyFYjF/pmBnwxQaZjRlQY8BQVSWayOLWag6rBlESzejV\n",
       "IV6AAAADAIQxYBdwAAACKkGahUmoQWiZTBTwv/6MsAAAAwAAAwAO9y3J730laPktAAa3PPpj7CK+\n",
       "JnJc2fNrLoDSSUuhwUAQodMTSmBOUtl1IS1d1eutvzhsd5Xlcw8WttjsJgqp9UN2BBUU9gPn51Wm\n",
       "UkRJ+b4cftY0RF7UfGlXCsQfLyWYk/6oPbcH3sxsKzTaMj9PX6/lk7YWi4sAhljjmX62tyTNcA07\n",
       "RW/vDykb8W03um52+oZHfi0LnJKl/T4fqUFd0TtNlcooh/QIIsEOfn1WqKoYD5lH5AIlxt/qtmQ2\n",
       "LHYuSp4NdoM1dmo9Q96qjQaiN7MIZgIf3iCm3dWNqNGz/LLUJT6VldL5GfnKWAwPsgs06PEIDZ4F\n",
       "vE3xLphNvyC3nukhP5i4CHAT2qX5wuirXbF64PqHlSBT367UiHh/TBGjVbh89OFIMlMM+xHdhySb\n",
       "VqD+xcPOi8ATjvO++K6F51DbCaIAwDEPcWex94xDLSE+QjxOsivQYS6+U0Hh8KDU4tpp5AYPGPUd\n",
       "6qpa8NpNS1cMsCuOAT5WQrX3eAaFyqow3J239LPccruUcrJnIx4G1DxrRChO9IKJ59KiQmIxKXkc\n",
       "jybFqK+eLNgK6p6TW8alTfSrZAj/kJJOm6qo1bTIKHIp+n5oWja4LFBPS+0G0dk7WBdZJhlH7Z38\n",
       "xfyMe1s9BLnLWoxaTgMrn8Fv8rw+GpEJwRHtkrU7Ywx/BPdAkgDDeLARcpl4pD7NBAcktJVJOqEh\n",
       "AAAAqgGepGpH/wAAAwAM55Aaq6VNoyqPVIU0jt4iezbNvS+BIIJqeqgiRE9S/NxMFNRW7vTiOQ0D\n",
       "MuQmKWKO0CF0d4f7/Qps0z90uhAAZRfsVqIjRQmRHuOSU6LcjqwS6t8MgCm76tPZNRAcjQzA9+n5\n",
       "vIPS4Ad1lSGCqPsy6pAWAVjeRph63VJg9/NLIFFWKMGbv1U1PXfWDDxvOTPK0B2HWiaATlPCNQBC\n",
       "QAKnAAACvEGaqUnhClJlMCF//oywAAADAAADAA7nQb5fJBoSE0ACWnnVDdWjE10zYF2YdiqCx2sE\n",
       "XMU/H+ZD/oy9xkkQ91fWQkAdQDjWcE4ltqr9icBdWzoytXrad/8crTz9plFRZgfvY5AkWtDbGkHZ\n",
       "hmKpMukN1uXjgRJyQLX5mnZkzQ+3U48RaJKEkjatF/9bgWwfsvgJwKF0nq933YePeO6+STScny+X\n",
       "RZ8ZRCjVxEqxtYS7XPQ8twTmapokHzxQSMIWT3LiVyaBftabdKSk5rkJRMu/tkbLdh7BxMCsd8Qe\n",
       "IGlQ4+B3gdik3pG4iiKT3vXxOWX00KYcis6ICtz33DPa6frDAVwHaGGhV22aRuL1rym+ULqQz6OZ\n",
       "FnDeLuYAMWSOsDLz2080XwG1UtUvvX0YbN0K+xSxfeTj57s4i8Pnf1qbpmDB2ZIOazlWlgabvfbe\n",
       "ZddPW0xN+L1+EifFLL3v94KNlrn0cTI116qHlVgS+1jd6VbfkPlclTeTu1gMt7zjvoztWG44Nuyj\n",
       "1Ly5fClR8/83QV2a9ZyFaDv0FSvRX2FCBEp81EhtP/aE3oEI90hGWnDhgNRlWHZq8OeiA5G1yKK9\n",
       "HVihbG889jcIYqiT0TaKkvHI8VnL02I458aQPmcMaAT/aMtUCPlc6uB5cNNv8IMzZg2fujmKTXdz\n",
       "mgdzGDFjJNRxmxMKcdCeMCB5Lomg2Is49pY4HK7YpsFRkrk9Hv/4pH12c8u48YqPWGUDl60T23v5\n",
       "qgFwKPbD/egvyLqjquqYO+sg8nJBYZikbYqtLzVoad9PlQ48P7tgwHrd5TLHz4CU2i1jU6teKSGa\n",
       "6U8Sh0riScBilmEizWfHiLCKhWYr44IY6hcF/bHXMMSEHkRxiqUKBprddvpOKt2vvtfzQ+/YgQJe\n",
       "P3zn6An073+ZUVlhG/fswp7NCJohHGEAAADyQZ7HRTRMI/8AAAMAB/LbF6rnYJRoPexA0oLtqN5A\n",
       "6PHH1a/EezmP8qLgClCzFGRLZ5iwa8Re+w4MNwghc/BaqcXjy5kUXZtoNo7blvIcieSLFy6GRLFh\n",
       "11i98Dfw24G7o+ZTL3WWNYY7u2uUcGfdjdZ40ytMzWOOp/5xk/vovU0mal86XYiwXMOQ1acIMuRV\n",
       "+PAPJsn8o9bhlogQyWSp7jN8JlCVg3aTrHejVOOjRGnDRjL6y9Y6gMKuqBCTu+trVFFM4nSrS8mp\n",
       "lBI/J/dRXaYSrLcaR+O/GFCh5d8elJAg4FkTPDZ1SwBcHo205zsANCEAAACUAZ7mdEf/AAADAAze\n",
       "Emqt9towZMxH8qHACvFSqZ0BNCvmw0jSj2EKVhbX7rQfTlgKT/1zlfpkYy6S9vukGN2uDsAXKZUk\n",
       "6i7K/zy1OqIiqpRXigw6u/ts7uK2I00dujC4A0U5ZGbKzxkNIUsaIBzga0W3AJYORimdBm29cAJq\n",
       "x+3RbYr2c6qReogBNDpDw1fkAACvgAAAAJABnuhqR/8AAAMADOSc5Jh4Wdq+D39cPz29fJiIwUhk\n",
       "7DpDN3t0J854ryAb3WT0X1S56YK3YitnnrDcxuASFp7JDagUjIEL5OpfhvodgzeEJqgdfDXJKqJx\n",
       "qSBngYO73OPQormnItZyweAwpdZj6Ei8m5+6HV9OY8az15tMLYBmQyFf6FxlVWRgANUHEAAAnYAA\n",
       "AAIuQZrrSahBaJlMFPC//oywAAADAAADAA7ncAZkUsu7F9Cscw83tchXdoMAHoxgwnsumP3j8eKg\n",
       "rMl5UBFA0pJ/AB/EQWh8R9kp2D0TjIfo6f0JnIM9ucwLRumjSAkWy3X/2QWv3BdldovvCW/DZyRI\n",
       "iALyrWivTxdVSix9cDK42MQNQ/ZRlCxETrLQp3eyC2WO99G+bFjbrWhxviAzTdzVdOqOFKYMqJGi\n",
       "feBOe0drynRGfuxVMan9pydIJII5zMPBipiU7KCKkutbkAfL5uOUFofWEDL5MOP5Skf3bTe5VQNI\n",
       "raBcW6gtdsg2FFP67znM7CFCUy3xokjunJoTEYi7bqLZmpbVY2ayk6M2vLuWuant7Ukdb4vfpUU0\n",
       "qBn7fpoYJnV6CRZER5LPnb0BTYC9xtejy0rYIezpHbgAwbfnTSJPh4jGeqQCnFYpSb4ndocRavU2\n",
       "/BoTWNXX4Af8DAmdGQgQ0229+I+UHiaxDWdK1VCdbabmmiDwJC0G5tmzCXrNYkV5BAysN0tMbAML\n",
       "xxBmifA1NKnIJ1FgK/5A0OcQ6q8Yk+BAFIApiMfgfU6CJdBiQEG+mnplo2Yibyli09M5FMiXU/ta\n",
       "2OPf0dqJoPMt5pr0OCHbhqLeDAInkDowp+In+MpIZLWJBEP+PoXFr/3L0q657gk9uhIyKn5F90P9\n",
       "HMZjx0qBvI1Qptcxa5NXaI2IITb9R2k2rKjwdhNdBu1TUgFn6WeZypDyvLxsut5rAAAAnwGfCmpH\n",
       "/wAAAwAM55Aaq6VNoypiKCZzrmzAhGL3//eW+V7+2rppL3+bKtjpI2684xHZXdasuUeC0+mihOBy\n",
       "n52fnngJTO5PubKsBwtEQcSDXYgnZGgi/c2xAkJxppuj8Y7CJpIMA0GIFb+tVNbHitRiuw7bgDgV\n",
       "ydT1wZMyVX6z9WjWa0XPMwkhTNjNqfsAxctCAia4ZMSsrYDWmgD5gAAAAo5Bmw5J4QpSZTAhf/6M\n",
       "sAAAAwAAAwAO50G7FvD78tw+i+HWOxkCRffwAtcbwL5w18e/1KfOlMmLiHzLa0hKEe2k8GSXH9jI\n",
       "GTDfel0QFoyzaSYaZUXq5hwOaI11W+Y7Rt6b0GQtRJ9eoYKf3E4a5xg8d8ZqCZTMtMuKtw2OqNT+\n",
       "j0Yv3U4+nOa+AnIFqDC+XUzpk06PQmBI107kXsUcIt8pusNZwKq6RLpvvNvfPUJIE6lmijWNksxw\n",
       "lXu6/mnaGiV45E3HuKtHnL5O7fMTT2DqjEEKcjgVsDK7HYeS2mvtHSF3K+6YPJUcdi/L6tFaT/cj\n",
       "UIJwJPbKtKCYRNCOuHAke1/oPlq/7cb3q37/qB1Z1Ko53ft+flGg3tnq25GwKMPxcTZWz4VR48iV\n",
       "aiMQk9/360wbTfwpFzhruoL9aDAe4EQhqEOP/4LYekHIYuffFfqen/gMy8Phk/MF4ubp5bfvTopt\n",
       "U+fT77Qe5UD8XiYc4f+NXkbgRd8JhXEuGH2qlRJrBGMpMc+XQzNKCIdjbHxZzh8re+qZbvlxEmxT\n",
       "ZELhqU5eHQLuQkeO4itI5p758fDLFVL0ezbp3NleyRAeFGWNqjWS8pyNHPNB3X/HjESPiHovRvzK\n",
       "jo/8iIIdP96/A7ZS6PX1dN6c25aRQG6ShqXuCuNdPfCPbTZuAj1XV1wlnGJMl4txi6QkRZcOmY3M\n",
       "QZGsABO9tyodT73EH2YLy86ytFfZgYiaYfIx/KIwi72fi4Xo1DpGlWam9NY7dyINTEFxNLL0T2cU\n",
       "tUchmT+pYtdSLcF+ADTiWVuwmZAfaBioZVsEMoo/wF9JCbrs4xj8AcxXMJMXYPloQfMmbVI14oOI\n",
       "O8uKpmTDNn61nYK3J3IAAADwQZ8sRTRMI/8AAAMAB/LbF6rnYJRnUtIRBw/2wFjV7/JXmiZ394YP\n",
       "dbJ4qtACNxcy1DaYwImMUbpyOuQRHQqs7vRY29YyN5cAAHs7z3Btu94M+vpw7pjs96WcUVDLT9mK\n",
       "KbsRP9lc9Mphp2eDkElS3fBGpE2yHWJEsDEsHY49krMAjxN4L0u2AexLtt6RjJs3lUInm2uc3biI\n",
       "Kvn8Ph5rqGFEprLoV/kocak/okvi9ngb7deQOHijfn0tl6vztyD9e9dcUXhHtgMuJGb9OZvtXJTN\n",
       "d39fT8om8i4chbWvzAE3Wr06hIYS4qgRzvGlmQUFAAAAoQGfTWpH/wAAAwAM5JzkmHhZ24m7uzi8\n",
       "jYIN6A2cAEqKEQgxkx9Qm+07ONxhNlFoca7XxAzQ6ugLgph+iSeT4BknhojZZ+UjJQfq5FaO5tEz\n",
       "EVRMXbfZic3Dwsm0d30aOb/x2KCR2w5Foh8HxTSBO+BDM2yJESsZxeP17/uuQ1e2e1UAQ2vGlyM8\n",
       "BcBd/9eLrqBEt6AAA5gY5iGZHi9moBsxAAACj0GbUUmoQWiZTAhf//6MsAAAAwAAAwAO/+alPD5p\n",
       "Qugl3RtLAExg2dCDRMG/txnLN14U7d8+noOtp02pmAzD+o1iwTQWV6EHK2ZcZRuJ9+FfGMPH8IDh\n",
       "iswSuPaqXsBB+6fkRctNagtfOuTgarIwmDWMYGejFPfxs7h2ukWHnAcUjS5haocPlUPl8d7S4yCp\n",
       "MdKqctzBrmeOPmVZwzOk9jkajmdz9HrBQxZmRTmP0p0mr3z6wYWoqkqylmlJCrmW1oMvURzCi2Ag\n",
       "8cqxHOiBA/t2zIAzqAGbRPb8rObrj/BkoRPle01elQMbegorHbR+UM07/Epqzuu1tTXYq2AWvgBT\n",
       "DBOiyplj3bUSf/05zwjGgxD1ZkSOG3IPYKCWPHKoHz9htA0MfDE1+YDklXgtt4a1UpLUtyjhgdco\n",
       "VZlnw6FCzKx0eqQZJZvRPM90ZhZSybk1fKALRjBr8tTXzKC0LOg5NGIyEqNhrs9gFRSqDm8eJl71\n",
       "N4RcX0yQY45ZOAI4nGMD0fECkqhjyZBB68rQzmlvGfCgrY6tOPniYCOPtZik5ZVcUkz0mThcZen8\n",
       "VuX/TEUkION0vyAniLnVYDXiHdbzJNuollh331nPpuzwmbsw9ACc8vAPkc5RbXswVPHGuIo+NTIv\n",
       "tJvdtt7Fl+KwneTC2uu0O6qbvBofroCGpCQ5YbN1HXI8FQJpqLyY9jznwlFkRpTYZ7sKWZEgPrq2\n",
       "fVT/772/j4PbBdpGul2qVLKSdiOSYUqmdUoMacWgFkvuIa57OQGHB53YwQ1GJ4vLxEE6s6OxoTXC\n",
       "I+wEJ+aUYsoGbsiXYfbgKKZrTF4qS4JWTEcMF1z2eJY5yjwvL72tnvDDeALxE5zVAZ043AIHijEA\n",
       "AADXQZ9vRREsI/8AAAMAB/Nxr1XRJlGQVsB5ZXWD8BQAlcdpgN4M0yb9b4HFPmsIbVBCkdKzXShQ\n",
       "moWtN/KCa+2RrKmlkIF/2L7PIUvUSnMJK2Ph1snmZl14B3EmEha+ZWCIbHHT354elbc3kMgt1yue\n",
       "oyvYni0bIlWBIGzmIzvuVNSl4oJyR+h3Y+mv14UTDWFVFukdPQtViGFlQriAKofqQNx2lu1zC0fx\n",
       "V2PlWXxGY8xu5q+5HdP79Cgr0932Bc4BwHIhsAhXppZO0cihTxXVdIvc72rUCZgAAAClAZ+Qakf/\n",
       "AAADAAzknOSYeFh1LnYdPEKSIrwrYAI6MRA1eTWUzKx3Pv6/OGyKtbo5eEbKqm7KNTGIm4yV8zeq\n",
       "8KrN6Vi4tN6a+BlCry+/YItsNZi7fyc4qmU3+4K3rZX8n6ONSLUEtmH6n7whFE0IQCgZGi49PooQ\n",
       "wGvEIX1/3Mcr4sMdeAL/apLpYK6KjmBYLnvTNM3cLtAAApyraBzouGXxgFxAAAACHEGbk0moQWyZ\n",
       "TBRML//+jLAAAAMAAAMABIfoVurVjAWxpQrVwAtlMLQi3j8N4gkQ77BqZCBil3PZFEm0EY/mB7CM\n",
       "k8ht+OxzBorRAYxs0+GaAsqXp3lET4+7VZwgsdgobKr136zS0c5vX1bQavNwyDeH6szoM3sXgzon\n",
       "qqEMt2EvWmxvNBe+mM/D+JAvlEuS+71ixOwvyzhjgLLJSQZofWiKdfnqTBbjdNKIIa8CmXkg7aAm\n",
       "wC6OKKHq9GIQKWVuiRhOGCmmGwMbBDipWYYek3VYVAMtjQD8DCKBCWdYeBYfaH78pVGyrKviP4uN\n",
       "hVNd+oSFcOvm5zPjBVFfDL+jubFy4qxwAOjJYkz7eY0Wr0Rn6xVVBHnFXdCmxzPX+ZLHjBMJ3N2L\n",
       "gKOQqFg8RWUuOCpcWfyvFg/sYAPa9Ahnm3q4at2jUwZkD2USBGekUMI1KVvf6MnUVg8wz8Kin+1M\n",
       "KoPNpH31/23W2I5HpsndPeQuWCUhX1XZTBaurtPy/RSzttf1vaGzX3ZMPW2e5EYdaw7TRrqZKKlO\n",
       "uUuUZpmfqz6D8fJ0Zw3xYU91d+N+tk6xPnTsd3ybd7A061jPoYQtpDaetslcX+cxATH08GRc1nka\n",
       "biw2lvtGG6AJgfIXPdQnojKhCLk5c2oHpWBHdQjWTP7EJZo/AIL9JQJvl24H+RMDNa8iK75wPBcC\n",
       "8AJJstAW4bpn3roo5NwTzRAh2QAAALQBn7JqR/8AAAMADOeQGqulTYTdv5QWe5j2HMAAEjLalpQM\n",
       "KfURviBP+7ku1a9o0CWzZBoyjeoBIdkqc8EuMoH+tEHHDskiJLS/g78+1B3YvSB6bNmo2JsC8V0Q\n",
       "w26HxiHhRDMSnWaAoOCOxUPWKuslmLxDrcsqiy1q5LiXZMaaretdN8s2iVW8dnNhH+vIjg//362G\n",
       "MJPobXcAcggjqpZX1/WyAAg5YPESMGrvlvLWN1ggA/wAAAL9QZu3SeEKUmUwIX/+jLAAAAMAAAMA\n",
       "A7qwalgI2AFtyxWwfZ3oFHuI6jogroh0hx3c4fTJbt92SRFJ07EsTNd7xJhaCEjhOFEDa5Y5leRN\n",
       "Mb1UhwDAWZzuJQeoRm2YZZuVfer8JSnnwJjlmBB3z/2mV0PWwf2qYAsLdCb4W3LP1iv+S82urLB2\n",
       "y/NGCUIvHGoYP8Zq/Ycb/BtYshMMJ82AddQl9/4bLouJRdFfWRqFwQtfzEm3vo0Djr9L3RfqqQlu\n",
       "4lBjPImsfuVAkmAVYqskZxtzgc9WR3KL3L97nPqyaesVRv2K+JpgV2BUf15AO8g49t7pvx6oHcwQ\n",
       "wn75NulBqObeO2FPqAj291CzFxSCLtf1VSNgnUeHQ3OL0HNbD8NGkTZ3wP2kqe9aWpvaI8Bg9Lo4\n",
       "l77HFdRgeLOeH+QCgwWefV4f3ITuwD7nfPmy8Sf1hlGZ2ihGNjmLd1VK9UirDqqf661d1+2jpVaE\n",
       "z0vK4yRwM3sMGl1nZDG4UuQRLzHIHMcZc2XVEVDsoaEajikgpogtmANkiRST58ehXhQ4nDMXvBXD\n",
       "h7VkdeyyDarUoqIECZZc8Kxi94esrc7UzpcEcSrTGZOR8hzopPvx55eYg8eYPLIrAJK1+howaUz3\n",
       "KPxsk1mwItlaLQ3Bn0zrnH6qP6kj76R8LjSW6AX7g+oNwdOd9ecXcmel4C2d8/lNJ1e2iA/F4Amq\n",
       "W6T4UsKilla58c/2qkMYfBuHptk4J/i0lNr2uGlH0BwWxLqdW6oatONtEtwPoJC8Qu8R0BchhqOs\n",
       "A51SGIaGYaDI8AMDGmUQkUgyY/4obRxrxTkPZWlGFJUxHC9LQl6PwQkjFLAcuV0hFWzDRcM4mUOX\n",
       "o/1zcuU0R19Rwcw84S5i7q1vVpaYV8nfqgAMgurO2kSFR2QibC8Gez8czV6tuTwGxhF031EaSsx8\n",
       "+RQR0JjmKwGecCkxmS2N0Ms4QET2VLJ6KbDzQgFHHN0Dq75kXUwG2S1vohs0clqoXSdL19wWEhUP\n",
       "nWssAAABF0Gf1UU0TCP/AAADAAfy2xeq52CQdN95KqtydLABOaVQFOdTMf7LhVYc7pT/87TUFV+q\n",
       "jk1A+P1po7sL1HDG5HIVIqbfC0VrbIz773R8G31KH4UWXUL7L3TS/AjCO5PIvDhoKhkNsyTgrWIb\n",
       "1WJhmKbVJjiENf3TFYLKn18oXy7gR9721gmtzKB7zYD8d2zPXYLMssUCTT4hYbcZrhorgzCUm5A+\n",
       "2E4cljXJA8x1oTtakxK8TuhBF2PZsQGS2Z7nbjbQpq6wMZzfs2zEwF0cEOsVahkBTKderm7dUruz\n",
       "gKuKL7LbnVoysathhoLTYdCLfz0SjNyiYZoP8jotziGhwiPCAGzAGH6BZ+K2d8GwQ4yb+dJ9K5AE\n",
       "fQAAALUBn/R0R/8AAAMADN4Saq322CpWM7Ft3CHgAfli/YDknrPTV9ZJl+SmyuVsYqnGjbcLX2jJ\n",
       "9y8i9o9ZaHT7TELF+pQ5mgOSWUlrDeedvan34QvxoHG/QEHtPcdLd+rhJ9l8CWLeLq0QHGxxNH40\n",
       "pcLxl9uQ481icZU2FqcuvHt7hg9SB+W14U7mIEuQyrnaA8sUL7BYwr300+L7LecNWp1t22I+Tt2e\n",
       "auu7cAAcuJos0ZfIAAu4AAAAsgGf9mpH/wAAAwAM5JzkmHhYdS6rgOoEUa4kyADcksPeylpbKFEi\n",
       "GJGrafDDB4LkAKwL+Yv3A77kk759rSmbpyIbeCXxCC3SU59fJln1QzpcJnQMLx4praqdPizb+b4g\n",
       "mljba4CZgUWRLmsr8acrcq4iv0MqjLLbqdKaxbZMUqdk50Qk1BRTvoXhTE+kAFPWN0DvX5IWI8fg\n",
       "kb/UltCdcpcyP16adYPIAA9xP5rwxjaAB80AAAH8QZv5SahBaJlMFPC//oywAAADAAADAAO6saw8\n",
       "SCACWJIqu4AVSax81Hk7i2bCdplzbMvycHHKCqd5rWVDgfs13QS5oD8qDcEOb8bovSeu2aqyfMVn\n",
       "p/XaAvBivmE/L2xR372VRdmJuR51ynOudJ0/EWxXl1L5I+nTLRwU06WXc1bXRMkgJDtC8v1TbLRv\n",
       "xXSblQvI/Rv16UHXj4iwhbRcTY9faKS0M9VoLAkqIwUgGDbbge2Qv+fQUXsUZc1fkaS0cqvLjw4Z\n",
       "w5Y4YkkT6IPWLvaTMeUAGDiOAAWu3Lqtzs4yWLBlgAk9o6OWs+sxvWNj4tLhb1tt/JVVAiAGWqq4\n",
       "l4qivs/AD1W98IE7cGG+cUfIKHcVaY9PRTRYmfhErFJf7pEP2qRK8cSfviJTHGIbsZ2mzWCcn+J9\n",
       "SQAQb2vKUB3ioSQ/Ud/fcYZ2v+/TrUSAf+QjJhZgyC8mQlMmVv9QrNp2IN10insbOgVoRfd97rza\n",
       "dDqAq604hC5ToZt6ZmS190qPOeBKbR5HYb4sfw+x2kThhBO3cbMlrQZ4g/jOlHity7ulyZKREIk9\n",
       "GvvN22P/Z4kfAc1h7xsJyHrdCZWv/MwOETQQeoex7J5jmTnfaPjbj2tJcqbVfXQx3WfLroKU7CwK\n",
       "NKoR1n0JIXVH4tF64Gai3bX1RIDf/SS3QQAAAMoBnhhqR/8AAAMADOeQGqulTYOnay1QnxwAHsQV\n",
       "TokhrMsAfbvptuVmEaBAyDv9LAbbvWbiKGwpspDB1hhjstEVxXGcw9jN1+yJl1+TO+N/GMb0kcBM\n",
       "wjTXnKxVWam++1AW/uHlHZIABmdho0JyF3ZF7W+Dm5xhqmzM0O+XwbDRX2X+7hs7LmOQwmJ4qomC\n",
       "6ljdRGWLr+al19ViPQwJP3poFo6Inru+KwRxhwPYC0BWkICs21RXiGAIRjzh31sAnVQhTHln6Azw\n",
       "ACZgAAACTEGaG0nhClJlMFLC//6MsAAAAwAAAwAEB+hXfy3C2mVcALblithAdSnO1RYaLHN6/dDl\n",
       "X/c7FGm8aOtijg9y0H+l/1G+sypYE3ur32iDEreTPlh/qA+7Ss1295NIxe/tX0/s75nTlvVX6pyP\n",
       "5WVrwdPCXz7aDfhT6Gb7XcIaXS0x9zLT2FNpc/cRDjvuBB3e96kysR9ErQvtlXsaRmzjjGgNEQ3G\n",
       "V63p5vzxmWTKXw6gWZkdpo+qQF9QxDzvoNwSMXJECX+BT2Pb3k0ng29VLDnD9TxZlDdH3O9Kde9p\n",
       "0Qbm6lYRxK5S0moi3E7+4DpVot8dSAed/uRMJGRLa/RyozOw5VFbfowuZawsiP9TZCkbqCZqBqQQ\n",
       "SYaY1zhLHDGn3iveWCVTN6ZBkkMOR9CKOx0LCamnhL+xhNm7dqFAqgFwInFWtRcsSiguCM8Q765i\n",
       "8ZOupgGARQxy7Rv/bp0E5eBHLRDxfgFgn0Q4J1xAyFb3VIi3uwaZd4Sw9vUKxwfLUK9Gpp32Eim6\n",
       "Ue2BiBWBZnuhyQ2ai4IrUUEkLyD8S9xuPHlSPQ1KiBFuAFK9h5P9idWnll/EHtKB8XU4JQOXU7qr\n",
       "WkR/hBmtEEC5DBzeke9Pv3nqitAxi+aVv5k0ez2Wm/5dNwehDGKFklFAMzaWm1BjBkfWb6zelOO4\n",
       "8I0l8ZFOGel2lkHQzOW7BszgErNfbZOQnlWMDJfpqRrKc0QGt2zZQYs4oP8FWrJJcmtuBEdirajf\n",
       "adXXVfMJIVi0XscRlMod4jCjtTUqdqq7mwAAAKQBnjpqR/8AAAMADL75y1AGLOEdLPwfGACWcSlk\n",
       "N2psI+DGmiyLPTrXzq9z2GYrlo4DJkhYTUekGLkvltWB4wVm9AQjvXu3EZs/PfRvfQaXCFn9cjae\n",
       "ekk3vvTz4TV5zmEq+SuQjnOJQaCwtGmCiW6OU4+7erdWgU7OTDFpD8hRCm/cxOMF06toVf0Q7rZq\n",
       "Yn70hKUHyLV/JsATsrgJSFpm0wAMCAAAAkpBmj5J4Q6JlMCF//6MsAAAAwAAAwADurBqUKjYAiOW\n",
       "LrsYAPPCrBV/AYwlD2XvHSrRlg8GDiAArGksxMTan3VzAb1R7v20quaynhy6trMX1s9wZC9Emqpc\n",
       "pdh/kjtdYUL5NLzJwJuDuWbiXLDvMkZ0c+nGwd19GkqM22pCHW6aFQTfB1rx5Xd/91xpO1DZyvya\n",
       "Xj8eg7DiuIFXOXqLFvrfVs66phV/lbyr9innN0YVpziQ/iorSP3nigbav4UWNE+E9hXGpz161tbg\n",
       "6FC0Mc26irxH6Hd8O5Xb+bixdTs2vLQNBacOxzYzTduQxfoHGynoYmQJ3THVW3iyHlqTlI5Nyaxr\n",
       "fermrkXn2SeWZETvCD+NUG9bUu/YPO53Lqzsnu1DAoXizZnb7zQZlk6yqPsC173JrZROse3vRPjd\n",
       "7hpH+eeit0Pe5lsTyETs/jJMIOK6KX0n7NLN4yVRofRnDzfALYA3maJIKnmYKHbVNc8U74wQFmxo\n",
       "FBZBMbShEaMu6xoUqcGZZ/3g5St+8CMQemCPRe7uYx24cLJ9lGENLL1PetpduqZVRGfnO0UV4WXW\n",
       "IZxUj3KC+vWTHTV06yaDbPasX8HPTKnGTlEL50FYRUihl52D6xAabwW3ap8unIdDXynonj5OJEzA\n",
       "gsks63OZ0jSq7SFHX3LuIeiq9ZE/MFQAzkmleCOxj6umAVYhE0gj4xG5hakV7UNmPbvMuzkQxWgD\n",
       "M6LW6FCpRj5/ae9+sI3TJcqak1gK4zwXmt/mb1olpIZ75M/ePZIJDFWBAAAA3kGeXEUVPCP/AAAD\n",
       "AAfcNunoCsYd2a1UADjPJOb+CT6gxnT/SHa/nOFweR1oBoRRXF+vmKDJJRbChoUGWri29SK8B13V\n",
       "jvjdfOMgwU4uzveiFm7XD7VfBO+v6hKNqiIbH7xUT90AA4Pu0Alzk1k0z/m08uGJtQtQ9ClevzQN\n",
       "8TG1Pb/ggoZEH3MM29bCdjE+5/6j2209A1qlVhZzSeMMN3qTmJfl9ZYSnI4UYt2gwpTD9OXiR339\n",
       "0UtqGWFwxXPsTETrzZ1oRRsnRHdMBeb+0PllA2E9LOeY6uh4VoAIOQAAAK8Bnn1qR/8AAAMADOSc\n",
       "5AJh3oI1KKxO8ABxihWj+vcADRvUv2NKZRTJk3qS5EeZ/eH/qD3UXa6wuTuYoI2otg0ntzPT1Q92\n",
       "7SiMJxqjPfsacrmzaast8QSrm4jrKu35YSTlbPkxd9aqjEcCPNtpZ3DEIaELH8bttbQ6lYsVb90X\n",
       "RRBpsG5FCApS1TM4KximHGq2J104XemrHlX1wb+HXO79mYgIAAfdLvEaSKcQAN+AAAACQUGaYEmo\n",
       "QWiZTBTwv/6MsAAAAwAAAwAEZ+hXELr6wL43K6WGm7paxbN8ahcQ5YrGFAxnjGtPjf65ckmS3R0E\n",
       "n1GeVpgVDp6UTpEsy4S1IpYngZ0Dhq5EPfGUc6dT5APlgtafNdFgfjAfcUBbf+U056vX2HBazjtn\n",
       "5kpy8D6nM9liVthzN6USiSQ/KQAr/H5o6JUw74Rsxp0GsmfWHqJVZh2VMsznvDkD8jnv4nYRYGhm\n",
       "MR2gbrh7FVPHQen7HuyuWVTo1ANmsewwDjcCUsH5VKaSo8ejdQiweA1SoTYv8OWCDtJzIE0To1dr\n",
       "KgUF2rEte2jRpKFEq/6KNONseaQG++H0jlusKFxBRlcbfFwf+o44YpIiPVorcbAWLV6ynYCLOQ6O\n",
       "DY1b3b22S01CZG9JyMSl/S9foUBRyOj3Zk7CqoS19RqanWuOL7jYZzg1T6g2I12F8/UVpaqAAS8M\n",
       "JBTLjGaMJrgwC7TjFUbowY3oNLqWKc6F7D8HY0r/ORyz6Y8q4lDD4hQxeg5EwzM+TLzy/36E7URa\n",
       "Y1RnK108kCx4Rpu7XZNstTeeOa51rfa/vW9jxHDV0R/8veUzW3f78hF8Yn6XfP0tGzgYvVLfEybn\n",
       "sAiI1YvrtxThhjYSueikaZ26U5dM9n5hEFdqINBA1rCQV0BRaf6/gFd9YQtNXld8XJitajLKWZyV\n",
       "z3zWAZpPu4rYNjUbSL8qeoQH/OLVEFMcWFzEXrG54OFC0MaqhansFnnmNno8n0D0HyRrLPXk1+Cj\n",
       "TOYAAAC2AZ6fakf/AAADAAznkBqArpTzwbEMqLIH5LP2kj9rpYQ2+NgVei9F4i9GDVBdVgCBZwjX\n",
       "6Dc4u76tewv+5/1jioIXdJTb3ArSf4Kz5OGaqCWf+FMUFqMPnCoBVXdy9s/Fhsh+VTGcROvFfgzZ\n",
       "Kp+imuGVw/1HqbvMY4uul84L2/gcSkYzgBcLE3wUYpzAxgmFYqfI6/NI4hgprkevXpkn5pBm5va6\n",
       "zyf5ChcZF2hW4ZpAUH0Ag4EAAAHjQZqCSeEKUmUwUsL//oywAAADAAADAAO/rT6wNC31APgTf3bS\n",
       "NbYQxLzUz0mF68Lzv78gMNwmyKWwrN69CWP8iYAY3cnQqiKuPJA5srst/pb+vRWlN3JAtItqaIbM\n",
       "bhJ6sMOzrp0N5+LrtBt82Cw2QJs1LMT6jOkSTM2FrUJvB3kDFq3GVAKSfJIbYIbBPOS2HKtGPKro\n",
       "xmdTlJehBTypuqK0o01JGnSntB+95wKQeMPp7Anblk4QXdhD6bkXZQsu62s1UBnxfBvGw4OmsrJp\n",
       "ZwUoKMhm9f/kaEeZtI9wE88VUT0UAQMZx20Jvwd7cxoN/HnjM5oO1Nzsm9dyRSMxvEOyCKIrpRzb\n",
       "JrWxOQ1SvSXXs0LDH7rxN/cpgVwQpmgf461ySM5FXHEKEvm3WplR1joJEgBfWfwNVN+ECzcH+cU/\n",
       "DInxwVu/KBOH/6mAI55F/S625tdk8GlFmDqHaXr2QAjMCoDOfubnk8kh6udP+o/0YQsV+HBjKWMQ\n",
       "/uSJgXNBtUh0Eo1a/eCDkSYGl3S81k+8VwWANSpk5KUvtqRV8d5bwkrJT0KVwXB2BLXe6jWH1Vnk\n",
       "GmUuKmcZ1gtBf6O0P9Ejmm7PsXWswScUxPcBjFdEui6gr+a5dz8IbxxK0K7NVCBAAAAApAGeoWpH\n",
       "/wAAAwAMvvnLUAVQllonzikYwpoxe9N2n0zSr+lH42CyG17A+3IhCvnvoxdmTKJN9Tzc+pEx6XM1\n",
       "jsEfEi9BMYbbNesmlXcxhVNpDPdlcd/XNboWdaGrcsU2CjVo9v0aHNSUKpXAhZcB/7GQ/FKcJ+E1\n",
       "QIiNAAlh9d6sXjHT+mi6u6KUR6rAY5s6edO0f8Bsz5JJoAdkPiR87AVB8AVtAAAB50GapEnhDomU\n",
       "wUTC//6MsAAAAwAAAwADv60+sDQtQEsW1g/dtI1uup+0GlWGQf3t8ClJHKCOonrV+QP7WBvMXLwI\n",
       "YlGqOZR+xyrgIJARPs7Z4e9uB7O12X9+m6LQrpS45InP8iGRFPPWEzeTy4UMKf0YuQxbw/gqPCUG\n",
       "YfXjvbp9O3yxBP9CdPQUDzf1D77RNTMnCG8zLgy3v2IUGH5pL4hT9I9R91R7qdu0ng2AgDk/miMq\n",
       "xS4TpbzkUmk+FmW5A88k0Ei59a9Ny2QTLlG/eR388/409af9TLqQ5MSAxEDb5vpwV0r/R7lKuP0H\n",
       "zMn2kEPShD6mhFS4XksstCn4gkjQb2MazoFyzx9yy/x3Kg0cFlYCbLIt5qVeWCqMktAA1NPdz/Gy\n",
       "FVwEDB7+41NU2fNWfe1Z95lqTraV7u2ZYGKox1b6Z1/6V8F2IKwTyB/2jbWpvK6EDVHxutWUnikv\n",
       "z2HLQi8WoSoCjnbEUyriPxi9d5PaGEnTYGbJqRP3t3ple7IF2Z94R/4yaoFfaL+Fq/X9CsrDVQje\n",
       "5V1Y5w1S7zovMzhyAxruMXryZ+xKjBRcfQfEoLkPLGLLg6EMn80QjK/Ov1kx8AsaJvBWfIuqbbXD\n",
       "+GGCErUYol7Iuiqqlyj7j5WgvlfmQGgAAACqAZ7Dakf/AAADAAy++ctQAXdkBjINSlTv8+spsTDX\n",
       "tRkH3HXKRnllfQj6cO/kK6Yxo5xL4Hn8HoC0zDd/Zbdq5OpheJWiFAaY+7vWqGVtZHM3h4YSnhx6\n",
       "OJydYSlsWT8NPQ5ohMVjghvhdKGJ+fgYmzFtIAWk8B+dmNkXhrxUZvZ0hawbbHniTBefFlTsaVlF\n",
       "GjAuSVc4t8VW6912gU1iQ1klENKcAQEAB/kAAALMQZrISeEPJlMCF//+jLAAAAMAAAMAA7+tPrA0\n",
       "LQJ+dBdt7aRaiYLkSV4d8gOO/WdNoeBdSSOJKRiVRJ7aIaW4iCyrBWKrb9jNm7FL0epabxfeQcuG\n",
       "q/o4xP9WMgMmR+5ZvY/mULtFOG8jyQBgCUVkKsv/2GQN4WmbrbIJSH44oXlfHaAZQVjIb0ru5J0c\n",
       "4as/itaFPnsU2AFZgFk3BNKLHkJJp0xl6/e3SzxJy2gy20MUsN7RZJvRRYyoDg01MJrjEO8UKtRj\n",
       "is6V7D4VXuYysGERPV4heEjLrJvwq6SxOF7v0GUJFfx/62Ta5+ZG9EkRt+2NoHQ1wIjAnq5N/u/j\n",
       "+wOsOGQyvKNl4eT3z5CeeDtZKYKIalaaMAvuk4yIhI9Yi94LD5kOfIWJ+vgqdBxzXNQ6DpS0qSG3\n",
       "zUsUgo/A7yWLGQCw67WnqUI+RFhgcWtvDcJd50W3uXgvQNXnu26WfePR/CTxIa3QfCqDegaFkXU/\n",
       "1M1JqyVo15JHy3553VqcSsaJ44k1dlo44fKTWSHv8M9TUVQPGGffBK9PtjoLVDGSdCPmdRjewqX0\n",
       "fkcl4Z7bOC3mwMuGdfenMsH5JvVJynzKKL+JAukpYSVB/T84ydBGOvNmv8daQF1uMO7QM6radox+\n",
       "zzcHmtDcVCFsyJt+Y4PFkR/WCq1AzedPQbWOOjia9rpLUl0huu1TaFvRKbxtLw5GwLH1vbN9nxje\n",
       "u7IaL4ouGPQhzmzL4GNIag1ErHzp2E4izdoHu6wQhLQmfgwWq6ZQeYvJTdd8WQhqesA5HLFWJCBW\n",
       "oCvTVOiLMkfox2Htmsm63XHCuYmfpr0z3JOkFbRZ3k7k3Qk1Q6hXanmiOE+kpIEgB67/K8maD8Qh\n",
       "C9EAlfr3hqkL3+ClT558dhzYm/FJjX5HNNStyJXX1C6xlobFyX01Pkl2GxPfNINbCDmeCI8s6t4v\n",
       "EQ5SNbUAAAEGQZ7mRRE8I/8AAAMAB9w26egKmz1j7MyPx8VWmV+QoUibRj4FpaX+P+jyf2gv6ngb\n",
       "rMMfJPdhPhGB1ajSo6SGY0qhDoyKgG3qff1owOl6st1XCdceQvQUI2wBHv+aareGu+Dv6zkoLH9x\n",
       "X4DTy3I1BvwWB435/avzFR/u1baVxeRyeAsbrV5+i0RE7Jnqdk/uRKDUYwWAeCAuKg5dIerYRqdM\n",
       "G7+fjapWLeBJl/Ry1+IPNYAUQxJv10+VY8dQWzDPjJZX803T5RB4KcpO+bVBm2uVsQwxH7ng+Tw6\n",
       "ovM8hfI16/KH9Lee/lJc0xPpv4uEjNpDcDzSWqEkDphjnjAEFahxcEAUkQAAAKABnwV0R/8AAAMA\n",
       "DN4SagKl3Bl0CYNMWl+Y9lVmoS0UJDCSTzEYFYEIFtutFeaQKU3enBveJ3QIXxDZ9ycpoTib5ydu\n",
       "HFp6l3vC7pZaPqR2iXDNV2pA+RN852i/vS5AxLDsOuPiAC4YPdj8IoBZnjrodkxRomL/KUSRPv/I\n",
       "TYI1SmLDNp5yzXMNDaS20/2mT0WLZfwqKhd8AAADAZjl0D/BAAAAkgGfB2pH/wAAAwAM5JzkAJh4\n",
       "eapmFfKC6nz6+O0eoPQUM1SpTZjYA+euC8Vx5X/e0NUlPrNnvwS3NW77ScejtH7e4HPICAP4znMw\n",
       "vI7oKhXhXu6fCAEveJBEi9zkLTH2NrXH+xACWnHIqFImoFrmpTsA0S+dilfi7aklXEwcQ3WkQfnp\n",
       "zIkHKmfkLSAAABZM9AOOAAACd0GbC0moQWiZTAhX//44QAAAAwAAAwAOeeE4chnzXRIBPHwoAPTo\n",
       "4Xpn27TfxY2ybQa62D04fDEZ4QbU0lY8xyqXF6Fa5baeS2VgeunQQWmrAHO9ctqTsoLvIYvPedKL\n",
       "8Ul5xRehrNTsPSsR4PjBdn2KwEFf1/oEcMKILChXXpZPlOjkuqF/5nVAg6b3klAciv/uOCWGES7e\n",
       "QDInxYqg2Nax8UvCHCoRIIlZmPUs1wPdbBx6It/ZTE+iHFct/805cRAjqpwnrrNPNmFSqVM6MAEF\n",
       "d9M/r536Fi4yeIUb/AjccekSf6+2pDcUFJ4hosmvnLz6mseQwfLegMvsE55KWqs4dPJKT2+Le0fN\n",
       "G/LV2ziy+wc6i2Nh4ZUBEd0ODjYi3PS7RJVeBCz2PHCE7FaGvYmoMNdH8iCRYhmYdWwFdCnkeqlk\n",
       "YAK67nusFKGGDIv1sGJR0/CXB7unZsmyr9DsqLo4AZ1MfBTNRd3NUzjCTgPgZYH4So/aVRZpC41V\n",
       "EGQN7n4vYzwlcaBlvor6zzpJob7hOa3IsGjnmM/dFR6fajvk3X849UmfQBHciaXhCOOG9kCBJvKm\n",
       "A1wd65OqyOmElMM+1tlAeHYlC3BFLXm3bMqkJXsssTsS7vtrKTEKT1wlxrFEtlSqj0ERDOF1d8vd\n",
       "qb/JCdNR9uXtI23BZBaeNgWJRi99nZ7fmVTJjVZMHcdjvdYl4FQT1awK6sf+wbE+KYK6ByXoqyQk\n",
       "mYBx94NtQ560TBxQnnvlo2+Lw9xrGyWszZnrk+ryw8ZZjlFmeGnKxjLo9atYwpXh60S87RDOG7Qd\n",
       "AJp4UWHprTK52RFTBApE52itZqY7SEsAAADgQZ8pRREsI/8AAAMAB/Nxr0AW40BowC1K3a4CVhag\n",
       "A/LF4bikHbZlqa9n3K1KZNs7xhdidoqmDml9sDXyR0bk0+I8/75cYNrFqrlZ9pL/ZX/onAsLmsVO\n",
       "Mnonw4lJRHXSpg/6VKjVfUpqLSjElS8MG0Ns2An6xFXR+NfgAKshzluC4Dx7mSt9yNYzrTT9mDC6\n",
       "lMcjJAEMmT1IWTeLroH9PVfzy8MKufgmQwYfJuA0vjf61YGhWWSjYSaWMTK0NzaIZGEi4vny/aHX\n",
       "BSMO1cBqzIffckJtYMXYpiaBmpwAAssAAACRAZ9Kakf/AAADAAzknOQAmHh2bc6bnHwkc8kiiFi5\n",
       "CdO53NsgNx8BnkTDVrzLMhiXN+dGs1mejMW2RDNIvbHU0VKO7I/HS41GeGlAO9zjCUdN7tcZY6x+\n",
       "g8Msvud26C1KnDNnwqkSLTn0R1gf88G1mQ0778AJXzuTi5u5OhvGNiynC4afaaTQlyogAAADAADe\n",
       "gAAAAXZBm0xJqEFsmUwIX//+jLAAAAMAAAMAA46Mh9z/ANZeFlse2W8Rku0wASwIyyxDrxIYLnMo\n",
       "KUKsRWXugmyS9hP2BT1RiszaS/kDj0GdvxA8fM+YgaN665vpVy6agcLIp3ugaj8ZpOBTIuOP4gz0\n",
       "gceqvESkZkJN7PwaEVA97mrBQBl3NJT8StRvIYDWFWxBsjcTIOGKdKpR+3Y7mMTNtaKH3l1c8h1s\n",
       "z1NFjuaWswYJsJicBi4/W089rJDpQx7NaZHDeGQX/6gDe1THOCB8KabYq9gVo2B83B1cU2Jr9rSf\n",
       "zQC7aigtEidxFQClD2dgF9uDRT+HdNeS4grfSZD8ZoRJPnXCrTJ2rw5xLf/8h8j1Rp9kTsTdiMuQ\n",
       "nbOPIf0W2QhKetOfbF7I9H8QJQen49nVbNPHxK/97Yy1Ehotufzldah3qy1yRH8MF84Bk4CeGx9R\n",
       "f9rVDV9AKhgBbq9AHIN0Ft0dtOW+2Ron8IDlr1AunZfNHt0JKAAAAlhBm29J4QpSZTAhf/6MsAAA\n",
       "AwAAAwAA9Ps3zGrEURe3VAAG5GMN/3B2826WiomnCMTBuIWEZkKba+jA0L+3JjZ3WwRdJkON55Q1\n",
       "1t5T/5QJYl3DCygMq/t7DRa8SKoNXf6kyB8XmSufMdApwVEtAotrRAp8rqFT+HJpZYOdH+ciHrBS\n",
       "55QJX59FX/s0dDJrLWthWsRk8S4xWWt1CZKbHQlPCbHhlqPFL2f9xYhvTMSE8VEcUJl3/o/AQqSY\n",
       "R7X/Mo6UbdDkLCxQA1Cv2YuVPnoqqrkk1NhUQ1JWyEWkFYg5lC8iVzOrpM2aT47ZqJbIkl7IMUfK\n",
       "d90Vyx2Br5q4uAlulqfKPnE9PV59RYJ9UFOJekkdPvwL2gciNBh8nCtOKiC/XUdS+2Rj/optSG7x\n",
       "B4ZdwGtL60XLHgkTVMQ+r7jcWFr4Gc1Em6yHqgY8U9SdQG7j6hVHv9Rsx/7wVwB3pX+L2+74zdeu\n",
       "cFT5OYOzFv3X3u7bIEFoWHwICJilF1IYj1moUjAmZAPnX7/0LfqWxpnNwLQn2dsYoq8GJPc7+LPE\n",
       "KYAVvqSjQ/zafLm+8ehzW7lmS0iegtLXEAX8eQBtLHbwz2M5typk1JnNnuc9E0etndiFCkPKrEIM\n",
       "btr0UMSJl2NTObt8zCPkTDXzqPSmWuFNOy0pqbuoBVItvQTYLS/OBfF8SCCq0JbCSttnwTUYZO3d\n",
       "GGUakchVCbnNVoraMH5nOFn+70H5i/S7G5MYOWeXTHesf1S2UK/uKL+0SBNg8o8WpGur8xi+ASxt\n",
       "Qkeruea1xcEZAdcqWDEAAACrQZ+NRTRMI/8AAAMAB/LbF6AC5uUuwATzap3+IwwMpweu5Lrajfiv\n",
       "VhTj4nIHIG/DMdQVOI4CZUqg+3cpisyKSxcTddi+uIHDyH1+NduBvMfQUzXBzDaQ/RfLyetweEcu\n",
       "7yRybVvitXb4R5nv/0xia9zgTqRsFpYIzVxHO/GaV9+eMQ4UVPj3QSVD5es66mgaDlhFdABB4roG\n",
       "4kjpJhTY9V6yvbgY8YAAAPmBAAAAjAGfrmpH/wAAAwAM5JzkAClXITb1iUFb6JTVuOhrywlK393B\n",
       "1FNWpzJgCqSR+Hqx4JXag91OYlzvhzHR5j1QYfYPoIFtYp1bppehoSAAxd+VEeW/OVJM4+JtgfGL\n",
       "8mtie90C3M7FezWNnbA2EIuDbubSJI3jbPiAEklSAjxaUSdg7z0iCuhoAAADALaBAAABskGbsUmo\n",
       "QWiZTBTwv/6MsAAAAwAAAwAA9Bb7y3dpONQcq+DESyLNgBbgjCdt/xlK8TJ+G4SNG9SqQtZiROqs\n",
       "RhjxJVcsI6J/v3NRzyUBfScdcslxWB03g6yaLjfM00/XyI+Oy5iKRhSb/KKLS7fYnc5T9yCuMHA+\n",
       "6xlCbyA4GR4VqrdLymKe1/XuVF6w4Yasam9WqvZ6NLg4Pyj548/4eXlVP+LRpXPe/kh1cTqHataG\n",
       "MYzySMCHFGuug1/3uhFEqm9mJwHaS6dO88cIkwJpinqiKCpQEdOIK+mMr1AB8Mdalw5qfBTWPoCa\n",
       "brbUmI7NJvbCvjKdpcKD/YxXKBPxGe2yse+FDqzMm849ebVWpaOsVElOssB3J8bpeQPg1qSuy3CR\n",
       "MRxytcEt7KVg8NFwbnL0zB/eshtREsaiZYxvjaj7zZ+DoEJxgcEwM9naOib7Xex7/mo4uhj5lKEr\n",
       "VP+wCDgM07vzykG/CBvIYLks2DC7Z69LlxKsyggdzPa8hS6AxUDNy9u2T5Z8g2cYoMRoJBev7QYs\n",
       "WGkbqSrwLpyVj8LY/tLkXxMllb85IHB4TNRqRxqAAAAAqwGf0GpH/wAAAwAM55AagAu4yWNadDe5\n",
       "Pgkw8/LQEk4CxFdE/xGVAErUczD67sktmZ/nry/KwsBfpg8/MqXpEH6q7AUoXhb4d5u0Im8kcHXk\n",
       "5qVLSCzTQNX0oOdiMVuTgZBFkO4JyQLVPLR3YX9RBXUAofuDDB7DBGF1Tjg0IvlgAEVLoFsVh2Vn\n",
       "+YqRSXjWRSphPO8lwqLCzUk/SV5E0w94EtifakFA1kCvgAAAAfJBm9RJ4QpSZTAhf/6MsAAAAwAA\n",
       "AwAA9C2UybLjizuACgy8R/Lh8nSlTDGYmT4KWfsiBDademDwyT3M71tq9aEyvBmC91I1j0HOJMYz\n",
       "JNroQFA4bzZj1SAlrNN6f0mpq0VoBhLK4HNgXz6Psnc+SElBD7fdN6ZAh2PVi2Vt+E7UOm3VyLEF\n",
       "cS3mmft+b3861Xvxr7EMFEYl/o/DMOwczKe3/CHv/jjyC4sIfwECnrjsNQPs7wdJTI+rpeOOq/X7\n",
       "xnZQXC+SejDQzerTcgDiHQti3fbP254dH2+RsWgNGzqpqUWnSx3spP2BVhEk6acazEz4EDiov2hy\n",
       "MVO37p6PRfD7/GsU/jI8gOVEsYHgd8cDgLJ0lTUJ/zF2cktq16MyB+us/sg6H+PsQZ73md1ut45h\n",
       "LT+vQWVCdr/aqGgz9iUeR+diVo4eR06WvQGCG8q/C1rqODSZahxMaAniTExrTHKlIHnsantS1F8K\n",
       "7Sy5t1UKZGk6tAicdWGoo5x6y6SSuZa3LW0HSOdqQJ7aFLyeF4SAU0Tdq53Yx4zxVHi9N1/gLDTj\n",
       "3ylfW+rXeUdzg5Fx8HMRCp72AR5aVdnK6cUiQwwTMwdI8boYfpZs/3nFkukJbu4oWYABkPoVoCOX\n",
       "Y4pqVuFLCfrfirET00dTWF7NjkmThAUAAAC+QZ/yRTRMI/8AAAMAB/LbF6AC7LDGsHeLRxf8aicB\n",
       "UyvF4QPf/H/nGioSbaQI9mhSCGTRP2/ro1RTcAt4m7O5AvNdaudQGhWdACmNfv1x0DAbZ32gqAFM\n",
       "jaIpXzSh9pIH+IWFju0rgK0E9Rlz7dQQJUzrXCT8b3U7xLy8neEWuNlLbEsxExV7b9VMVVNrrvOQ\n",
       "e9MWqFeDC5NcUu/l3icVulgBNU9TAiKgCNRV6tSEHawN7ELwBEfe8MwYlkCLgAAAAIgBnhNqR/8A\n",
       "AAMADOSc5AApQuuq6gACqn9C5WqEZcmh1918UWY5POIViCMjGBdKUhhkBr4GoHhVKdmvaBIPWb50\n",
       "ajRvf/+m9cPgXsAHv/oaqYyQxCwP6lRfDOeSgphHM3vMJq0eB5V3GUfYmq+N9jsX8yNFNpPelNp4\n",
       "qo3FLP06oKQhn+4AAAbMAAAB+EGaF0moQWiZTAhf//6MsAAAAwAAAwAA7/9/Qa1sS2loujx4q4A+\n",
       "N9SVw0jBqMG28BnKKaIxRSfXtB+pQTy9PZ4HOR2gz9Up7mF/W60AAffwy9KrnzKkYHqi9dgWBmoG\n",
       "S61HYm92j1BqRTQ0KHCQeCM5DcWaDikLj2fYjs2QsQVn5XpvPSqe2ffaaQkYQm6AAPXEDmipRegk\n",
       "bHuxeekPOca9JLx8LthUv5hEqlRbaqcczenRyOJfSc0/uUTdVG5iQ07xJMlOnEfhKJ0ziq1hqqud\n",
       "v0Pmx+Atqn7THR8GcXhan6NZTjXxM7R77+HJzQDnEE0WYp421mxj7GUSsKRRAGLb9oatcAzYIKLD\n",
       "xVWzHKIN3JPVrkyvEIudrjm3GkWu0XxYgWLzg4aWGTzpa+3mzAqvPCO6hWVO9b3qqQE9XAPin9N/\n",
       "gUN+IhxhlOdjpRRecl1YVE+437bhosIozHHsaMzWv3XKm3Qamv2yxDyAU9YsgUv+1kahUP7VWuB6\n",
       "US6BOjrGikgPSWA3v3pHfixJE7pTVAruhUqYESu/CF+euHozX3xA2psJ2Tku4InlLPxIa0MqYltb\n",
       "yYaTbXayb6OQiGrxFaJpr2OWkFo9l+XjHya2BQmHNDE+iPH1lqQiQKuMp8zzT22CZdNNlGxcFIC3\n",
       "vCYDh6ZQ8kGP2QAAALJBnjVFESwj/wAAAwAH83GvQAW40BpexV6yNyPa+wng6YJ9EqWghnimGNEq\n",
       "Rjzix2OGFCfawSB1Pu6YGiJU66Phigfht7AjZ3FT7lG2eSsBQkf97wcEVpAYGTvOpY+uQbd+lWo7\n",
       "dfaeAFWPuX7/QcPj5KMIp8qVd+E1UBr4+BDcrAho6SsIMa/KYxH+dIV0FkaVI/E1NxFWc4k54L6x\n",
       "64oC0+TX0kWMqeHm2+cjYAlRIQHTAAAAeAGeVmpH/wAAAwAM5JzkACYd6CPN6xP9tl7BQAej2+Yu\n",
       "wozWS0J6BC6jQ6p7mgQCydTgv07o1rj4sJa2BEKXY9U2lUj7OjAQf4cGieDHzi773tNCVtZrNS50\n",
       "a2qw9eegt+nEvldVV9n5gji+lLBBos+QQB42gAACLwAAAapBmllJqEFsmUwUTC///oywAAADAAAD\n",
       "AAA9BcHb0AcQaqYl63MaNPZ5p6a53GmqnXWd8EdVYn+0Cw3lgnCLxU7TCuJ9G1Zv7H8M3t9ixoIO\n",
       "2UaAPQ9PT7Gx1KqXymcwaj7UlkIB+1/BVPz1EEzL3+x5KkPJSvLgXoZIg/wl/Ls5+pGJR12ixyov\n",
       "p3WhWMBeFoA8SttA8WDTSYmzNo77qvGBG1iQyb5uQBlsDfpw/3S4YOR8b8BAaOPO8lTk6PZGGofW\n",
       "L71PytiDFNzPniug1lZ4BqpniLVCF7oT6rA/pCCvJj9Onjr4AmFSQr8LW/bjAGsmQvTt5XVkZ0sx\n",
       "TU/KXx+u34axJPlIJnUntq+LLEcUSx+ZbymJEorM6EV09YHBKkRpPWiM/GYUN0KjmC97Y6wbm+hj\n",
       "H4lFjwB7SaNSIxzfxP7EUbs4g1rXRQwpts8po5uW/4xym1BeE6fplpYMb5vztg7EcuAUhMdx6bbH\n",
       "KU26Z5qXldSBPuHe7a/ODYNPD2u9l8XMiiRH2N6WCjJk62PRTXqUk7TBk3SW0F2O8gBOiizYLEBh\n",
       "psjM+20AAACOAZ54akf/AAADAAznkBqACulPPG99b2kahTYCbniDEencTg0oi+KNm8BozkIcKDVR\n",
       "f6b1dQZAQMIMtkDARy8rq0GygL+ac+QHMWSfH9tr9YRixnhc2zqrSu45we4QS8yRQkNXapw8W6aY\n",
       "Nx/b4d9d1M6G8vfkpkE1FFCfHhyywno0pY/P0APqpwABAQAE3AAAGJ9liIIADv/+906/AptFl2oD\n",
       "klcK9sqkJlm5UmsB8qYAAAMAAAMAAAMAABH5cLAuyiEuZJAAAAMAEzAC3gGqAVYBfcLfM4WoFzAD\n",
       "hQ9sMVvaD5XjTGVJBtPGaT8zZLZJmm+NJtvQE4IplrXzRfjDs9nW34xRZwTUZwJJQC/wNNoUlzAw\n",
       "SKnGKkvXOAqUSry7//mTYcyXAFMvdgXVinufkjhlRTMd1KIpg3zFh249zcQK/fNA6X/UHYdhkqAN\n",
       "86jtoz0P2ADq+2wPPere/WrGcoe/rZzl2u7sti/6s9FrD5QvZKqgVqbyc/LBTS90dyckYQ1B3a3P\n",
       "rTbHZgBri4MUURImo5uHZHjBQ1N0keprb/ClmpgsU856WRNrWJuwDUZcrWy7R/0IGDCCqkhfCVpA\n",
       "OIoiCoZ3z823ytmNVu4WafbGudpkdzuHKVPEoVpieZyUpWePtCJP4AbqXfAm9o0il/vGbBsHzEl1\n",
       "fZkJsAAAAwAGCAAAAwPaG1nVMPoxwGCyaGQ4jqi6ztx17tX4sli3TKU4Y4yRZ44JuPDxjVX21gH8\n",
       "xP0DuaX3PKdj95RzkOXxupn/hR4uIChDitkMUsCI4fR6BalD0LR6ls0Xb/xyeM7IIvcDqLWmHF+I\n",
       "nQ+8aVNLzRda9nsB2btIqXy51ZKBWxO9NnbR0YrjxxQB2tRpgs1Eg1Ug/GPc1/zeoc4yEjrRzC7e\n",
       "r4Zoj+UGR4K77dZIBz08HAf0mWZVOr6NsFQbXXn/T344VGB49Rl8pB1FCigZsUdXTPTb+Mq9ePMt\n",
       "Cc0bkFgNinI/IU+LaqStggD1lTt8kDg40M/RlZVTAfIS0oxylX9K1SkfUxQfNMXwUvcPZBC4f5MB\n",
       "HdOqFDjuHw33PiERs2eBwo2k/lh0ebaEmckFOeOfDPJrCii6hnKB7Gph59GLGg/UYAajwAAAAwAA\n",
       "xC7q0/SBQW9c7VhDXBQKdLSzOXp5M0nth6mAxv8D1ovE5IJq7FMxJu15hk/zhEswvlgQ2X8cNCdd\n",
       "cEVOYG+v6B4VhmSQ690Ah9cpu4AbOeka/Oym8dnWYA4BqYFsIYRhfb24vE1ht/uvvpVVYwqRx/PD\n",
       "VvjrCU2+2rIl9xciGWczp0cRcjaeDBHZtu11/Y5pbXNu5uYEk0yOlNZr/QwrdEtjFeQlHYAmkvg3\n",
       "+ifC+pbj3KDejWxLC8x5A/jNNg+S8UKiGw3FQ7+zjLauFI1HUkXJApgpygZEvRMw8Zuy/MIf3Yn7\n",
       "/LMMgRDpPH9Q/LMWAxRFLzYKDV41f/kkoyhBCW4ffe8fIz2+Cn5sMaRJI+uNXeToNKpj/iYxAvBE\n",
       "C9Glmmn7I+sgY6UM1MwRhRk9TS3+X0nQ7mMT7wYP457Fjpc7Ha7S8+A8oAAAAwAAAwAAAwAAAwCK\n",
       "vubpCPMzM7DOZKAb5D4oD81wKhrxCs5vhjavvpsxrEtQgbfOSBC5d18nl7O5i3Wp+DTmfeq0xGJN\n",
       "9os24MfT5XjkCYZrCjjb7KdIiHehpCdmNNpmuFPLM8zm3EACZ827wQDI0RsAfXxcEdVM4Cpr7hrG\n",
       "ljMvZqRgRgUaa3TaoaJ+VujOWv9Rw139LG57T5ow0VkqrBVbf4c56JBTBo771nwNZzbSIsJlunGm\n",
       "YWqAX2GYDwgnF7ZwZd8f90n0NSPozIJPGvAvbYddYidSz9297+G55MalKYwW9gL+qS8+l6o6huBC\n",
       "jIvXv4Fui85oaoykt7jsCfXXJu+ai1KNqEi4kubBWQ3Bg6tVuzVjmbyVk1Xux4+uqWLk3sCvH583\n",
       "eDy/fpYEqXLVEz5m+3ow68l4dCzxMmSD+Zo9pDAboa//4HM4EaLqxPlzu1i3CX0qeNrHhBJKgGe6\n",
       "UWRYJXkZDi8MNcfZ5REhjOLL00HiCe7UH9625hHJ4RDjxH8AgH6c12b41/txXdOA+xDfVm2rFfZg\n",
       "/pNe5VAp0+alZ8zxjz1pAVwI1/LlUY3bYYqPhb7vw5aHKAx0l5iAzV4UvI2l6iKgZMvivXNcW6vy\n",
       "NE9gdKioPuAX1X2HK3XpR2cN96p8czPJFD+HebGPJztXjkuQDQ2MI7344HB+b8QFIvSAbOy6Ere8\n",
       "ZYVrIzjgAAzb3JCVlRJsh6HsD7NGw4ZcTP3aERfjMaxIebgSfC/0VqB7uLJ2dMFuNTLfnNH9z11T\n",
       "N7y8VX+O53M7W+gLUgikaMJ/rd5v2LXVOANw5NOAXNRUuJ9bvVY1SObgBlDxRoMdtJ68uuXi8avi\n",
       "VoaIW+fTSetuBlw5fMn0ckzuOw+d040zQmYIHNdqda98RASqMhM05RPuwRZYLTyrY5cz7y7+b6GV\n",
       "VPocF6Az+i27yc8vKC7UIMpWujIoqGEPuvyIf2wZY5wmNuT24obWM/ibnh9zc704RKuKqWM6y29k\n",
       "9rr7CNYAEddUNqyZTgmJllUsVIx4t4Yb0M7Fyzhm4iE9o1zHt3ulKrYiRdpN/uBruq4AUCxNeaNO\n",
       "/iJK5yZ3MJuAcPQdZH7i2whLvcV5dzobNoJdLG4Ie+b7AtrmCsKCm5ayswmxMNeyz65/CT/CfumW\n",
       "yxj4Fg1rASVkuXbQAehkY1HJW1AOz7JbNyIlZRWnmpe4LA87XaAANfHGCjUCZ6D11jf47oe6o4uW\n",
       "fvOH0LBLKEP0es1O0Jb9RLS3ZihbrNyHonXytKREo4soabqoKQRlzQQ2X9h6OJVhHV4GH40gizNo\n",
       "BBpaf2XvkhZsztUmyX5mfoBueUyclvRMiQDArFHICBI3VtMqgPOiZYbLBOTk2rhMoESjf6SAIIkP\n",
       "W6fLCF/WhyQjcrZPaEiLQxgVPtXP23Wk5pNr2Hii1XxBPyRh0XM0e1JRSgfxfPcpXQlIPTF3Iwbu\n",
       "xOchC4gZdjz538AopM/UZ7Ka4fcMA6fFNCIGlAQk3R9VvMSJaaFc1owJs7Ekh2uEB1YlKm1SOdHW\n",
       "v4IuMkMkxJzI2dUYTrgA05X3Qtrerwo5agBohtN9oE6AemlGsqZ/k0+0ZmJ+CLXIJradE2QzcClM\n",
       "3CAwKQmLy82MlfX4wVU1ENvl9MHvIat2uzU+VPkZCWQHxeN8NoHLfCxHvgZRr/ss4LItVAeTA5t7\n",
       "WHCrVe/cugqIP9fSZBoqAqKlZM/8MAS1uaI13+GvH8CGLIgCmv/s/8KRKrht9YKMMsnwafKIWD1S\n",
       "X0h0/aC7fdBEplsOawAkBL44MdggQhape8GSb45GjIR9how2PyrSekTMcWrRzjhr8jKcpPlGMg/2\n",
       "45vpXmaJBfmv4060+8HcDU3h9Q1b1qwe13LZF3qn+x6egZmmjCcKKEjmhgCGWRzdHwBSa/VaVt8U\n",
       "nVZQ37O0X4gSjIbIX+z9LtdUw2UrhPC7iht2Y4six26utLch+7Vy3SfSqcTOv9ybqMQew/of1z2o\n",
       "Md6eB51oVW1wAmoCAPS6xM7T9vE9aHliEQZXy81ZE0gxNol3Q1pfPG7zVBw92fCrlLKgzOxvBNAg\n",
       "tvzJK2/7Vq4e9i+xlzomGSl6/U6auZd9WU19hS/IeAAr/9syytcRAZrKiyIz2VCdWp4IW1X9/tGk\n",
       "Q86CQ16qYyKYJVpaaKPNEqfv9cA+/lTsyv2ZMmc5d88KPTnmYeBITSnbf6d+Av+xtRAySBGRgyU6\n",
       "jRVNx7lVBDdyAy4nvG9gqCD9/1xUoy3KcbmBG115+suZZ7L7cxWSZRlHtortS/uMhnY3t1SmHgWO\n",
       "TxYrBLO/4IAFgIRpGhxFyLj8Q+VAmMVE21d7+7TbjnNuhs93rz2/LwyZJsImmViC2OpFkkVW0aD9\n",
       "EpDb79L958tgn0gSiOJRbqRJrarUZCYCj6WKkf6KlooGRGiDxvCGBgNYnKlxSJPtkTHC+0sYMnl4\n",
       "kWxGCGFOhifCAFYAQNJVEAOyhE4ladrSEGqj+lR7KjZBAIn/W7MvaH2X4exWtQthR0hxz4f44M9K\n",
       "OWJjpdBxq5TUX/h8Okt4EKp/OojUNqf3oCPMAVKPkhDZ36nBXH8ZB98GMKJy7xrJ+2nCz5AAPnhX\n",
       "NQrGM1fyhsHVIy9vHggm1cQmnrCfwdsWiihVEhTCnQOoW00TEpdCUXpZRAfstIq4163ZMla/kBfK\n",
       "xe95Jd3sYCB3Uhk5ja94Xq3AEKZOtgnJ8QiSX2+CLMdVoyrMeuZlhiA8CQ+2Av+g7g/QstMGWbwY\n",
       "Q0tW9YMizM72KcaxkrUvVadXWy6YNbKwM9pS6fpnpWFyQXQWVG2BSyW+t3sKQZEV1B4dIsQrO4J6\n",
       "01m858tN1K8JNER2ypSG4Dg63AoigEYtFahQhx3/jVmVw8zrUR8z/+dzZ5WD01vzRNMrQJaoBoKL\n",
       "aRdqxe84VoBNhgCCW4iZrzSaIMG47irq3CsHSwdiX3RqAfP1bs5x8ZOsVcQB4ul/KwWnHjsn3gn4\n",
       "DVpNTcnTgskqHnHbOWAKAGnFA8By5xXMA/oQLWTenISheJbR0ty5L+mOz0l80MvFYYyI3c0C1dtt\n",
       "UK5C8t4zD5vQkE+Gazf5AXCpILrA+0J3XMOBPfg9Hft2tfBUOt8JGoU4UrJ3UXCl3KQVpxowtrt5\n",
       "xtE85eAAkv8ryQpbbUVoAhsh5f+QxGFCzwDUfRN4t9/hCoSiWDyDdSWtEeigzfdwlps0bs8DhkQW\n",
       "Xpo+VeyFEJRlKsGtIaEiCBND6JWl50D2P1kSmieYL6nk7HpeJGNDxl40/hisAqNx++0/DPcKM78g\n",
       "mMWGdXbgDpFT/////rDC/mnrxUdBOcRsW59og3nH2yA2NqBko6Dp/l6u6MlfejgdCoPvAlyexlgq\n",
       "+8hqe+j8IELW4fx0SG7d/a+/+JoBfSstnrqEGucy0ZnjI82HBWtUpLCp2pzlKljEX9x//vo0Zt3l\n",
       "gpDB+BUZpOj1e2qsbD3g5cIcO6vsZz/yddxbBARgZkljkql7uy7iwiFpraAFLPTLqE8AWahsvkZd\n",
       "kmu6ZHu8snuoQ2wVtFBFVpwWJe8S2MqPv2Kaoit+OqPw8J1c6gs56vkCvffbrk8TO4CpZj3DFCzI\n",
       "YmFayuXI0/yyDFND+Tl7z6E99fE5nVrqI7kd7gtq8ib/1LJbT2Gv8mvPvN2TsFDJAR0Rqz+hi3xc\n",
       "KYRRb8cl5B9z69sIchXWNyfDvbQNU6pNY40wj0K92/UKLUVYJFU+AFW1Ydp7dXIHhGA2uifqMmKV\n",
       "RotPwo9NwGizrYFr1CY4uGkXuXERFk2RpAqQtkn9GL14G09dmVHAxFVYk6ZNeCLcCfTXB0kf7u0A\n",
       "cr9+SJReJQ1gxqlQhGJTxcwf/iHHTmEzl8bG2BXgJYLa4Os0sEfXukz2F1RvWiNZ0bXtci+5abtl\n",
       "IYsfCpyto5ty17XdfRcrPlVBYgf23gc+shT+PKTvk87s8TDA2aRYTZqjx7lIZ6LXLU2Yw9sPDwTK\n",
       "Xxi/nk5KI9qPFcxZuc6cqyJ0H4hTxXvMe/06qFzzNYvHbHfXZU26ICCx1mXt0Oo3rnm9HGq8PklY\n",
       "xe0ZW5uh+MhRebsSKn38gMV9kMb//r6lVef+ZmPCybV7anXSoJE/WM6Gy1z3LLHZ7q3Hpn55PvDd\n",
       "dGxRzLJxN4Z28dF+FymOUTvNCWNHZkwNTVsSAAADAQALqf6dyO+oqTxQSyh5omoOFrPlL9RDvCwi\n",
       "LJkvlM0SKYS8E4Yr2gzpMdlMsng5KbI3I+mRWoF3KnIil8d5hUKiRfYjoff1d8CTIK/Ijqtl4YAD\n",
       "6SE3P2NhlFTyKCa+5y6wNxf0xBs4Cxz1yhj1eCTyt7woglvcAQKWRuQGuak+fs0uRapp1tqFVKf5\n",
       "/xED9Nt5BMsbwt/E7IB6Z20hpARYYs9jdwvs9eBAJZi5fRgU0PVkKJ2KZZs3pH++VbeiHf1JS+ub\n",
       "0D0aXda5/bAdx1NrW9q/G5nZ+hhM46DQgaQAgGOHMw2OUFIRT0k296p07HuLGWm6XCvAFKGLXyuI\n",
       "JgDU4wIXJilG0uPr8d4SomR5XaPYnYgxWeCmucpLHBDDEVm4wqOU24bR9zyei2Gl0dfSoUiVwNRE\n",
       "dqyZJk04uxHkyfAV0p3XkV/HF29xYxRkbdq7UgVwHIyusnsELPFeMmrttgaqtCYpls21iNhRqJWg\n",
       "HPh5j2C9KtBEqUzY2AloNBVkH8Z8SM8Wm4XoOL6dI5f52NvNsPw/Ii6WsQ+UDWSRQa6NiEiEnDFH\n",
       "RjvZ3sZQ/TOZ3I78JePiGvn5gbOPQK2zcqQOeVEX9cpJyIZRjbLz/vSrP9jtR1OPrK83aKUS2OIh\n",
       "GMxeSfonxwnKDP4ywQGrQAAAAwAARwAAJPJ6UPWjeBrHAGWtL6ZNwCAlhiSNfXed979hNpfebNuS\n",
       "jAUbkOBYK8w7v5detF8KI6hDZLCZkEBcmRt+3rVXLY8QF+H89kJnZWS/+D6i+4dmSNDqry6CYCcM\n",
       "p8f+pJIJ5apxNxk81ffp9LdJnENqH3oIOGFvMfQHS6I+xxh6gt8qcSEYfsTLm2rqsCVQeRV8h4ix\n",
       "wrbwKDo2jhB/jOjw1h7kyaByocAL+66fih04qSCw7HNjmH4i81CP1XG0fnd6oodocJJeEPF2xpgH\n",
       "0aLXj6jpVMYm4ePLgvN0OYPakBqoeTHJ+D3Hoz00QWA7hi2DZ73B8tKNSZtxpgkC/7g5wChaa+wK\n",
       "yEH+PIG2jE4qz/OcXpIgSTU3UUjnf5STih8Ti/YqMnqBdpwyR2+9Ah61muCvyw/rHIjIl3JLdrZZ\n",
       "QBEN+NqRwou2moqaG9whJYTroWjZ02YojMiAAAADAAHIIjqAAXPgAO3dD0hKctUuEUBPpHsrWym+\n",
       "nn1HR2DoFIVrBE3U4KfHC1FiDJCfn2s0XTp7SKa18uodLF3K7Px6+dO3AchJL1tEmXcjVF1oQ9Jm\n",
       "/3VRM2PBRBy4Fm+FnYNZTXkGQLv/f0Y+lOPNV6CJyY4YCC3EQmh10e06ibv0FNXaf8zxiJ/Ud5zW\n",
       "vguDZvm0z5JUMk9eoRfKn1yZvxxzOHhnn+kNGDE1Bfzh5Kz3au+A/xXCuTEELtjuAPCkr8dDycOA\n",
       "msZGytfpmZh1x1ctqcawnsXfBileovJljeJOZ903+iCpOT+nb5F5yu+0m68ZC1jkG3uzSHBFWR4t\n",
       "eOtX3YdcFcUpA+SznRljga4tPQiSKfWmOje/Lv7Uwvcx5Uvng8uCyLbtP68M0MnDBUNw9Qeqd/uQ\n",
       "3AF9Ggaid5PrCjmqUCWLE+9QeNcMBpd/9/tvnrXcKkx0Tztqp/FK5eiMbTkcNKBeo1kfJEZPKrmf\n",
       "vr4vEQWr+rsCS5N52uUaVH3pY8rWA5UJUNSysaP7gAoirGzWh7LhyEH5gbVfnuKESvyzMrbSqcuC\n",
       "GJuzKGdjEVC2+CgdONiLUbpr+ghIF6srY1XV28coj5cMZd19cNp7HaDjldpPQxUJFRx/rAVEn+1u\n",
       "kdSNjS9sKyctMukavRcygCyf6r8NoVY3JSn/eZftztaaDQPjFkC/UZ380X/e8TdHaf0EPdOy/Inm\n",
       "dtsPRkBCkabyaBmdJqEIG5X76p8+Wewz0vHpiX38C9kuApbCs6mMR9Nzyk+YyCchsGeSDTy71Vi+\n",
       "Y/2IzDKSXFVZ0rAjt+w95ZHWcEx6ni7hAeYb9+ET/ilz7AT4cf3z8G9EOokI4twZCJnvqudOU+B5\n",
       "d+kY4Nfl7qc6iJZL9DKbwCNNrnkn3uySyrY1Vyg6CtfT0JwfQjGIBs4MzlTYM6PTIkxf6ULPtj0z\n",
       "bHwtZOpTL7Dd8ZssWTFCDw5YasekhWOr1e70MDJnKr1qDgwfXit99b0Gc+OX9QDhyDlNSxw7Xr2W\n",
       "6kQRGV5f/4Re9VEoS9pfBf4RAd4YWPFhbonLigViD9NHOfbhi4qes4HsHkOEH+/sqJZbt5GeAwdU\n",
       "6VMjhjJB0fzE94xQGEJ2lseZtpn2PR6fXg10RZiJ16ySPmlTbXHFbOjppZ4KibTuZTg8MXWQquUg\n",
       "H0BETR2N6bblTL0Q/ECGOqPI/hOIpw/vXSyFSnfRS0zZO+efOn1a3eCrJ8CMBt0QnZlTGKiThZvP\n",
       "BTRHgo2YKzvM44PQTupF2Kd54nChpCyo8jknrHPKI3qY6iBOnaOZ0gTNh02HHb4THeTkcKbBF87R\n",
       "axK30h2zSuJ1YzMjtwEd3pcbNcGyoapWtHCVNRe1J5/eoDblCT6/2Py9EDGYyV39u30a/VspCtth\n",
       "dqtIfZQRuKHymG7FF6VTBv1Gy23Ibw3913wYepC/CMDNl6H97tmjmjA3S4we/nm4LbYoT91PN0/1\n",
       "prG5/3HArho1fL4UQTyH3RGdJeDoQsqAVi6ZvrGTQoNneERKniby1hrvAggoWB1lY0goEwmY7IbW\n",
       "ys2d34bYXOcbGocCL05V290a7g8JSYxqDfd393WNZTgqT/L8bhaVlfZmlG26cKSyYEhDinjMVTK9\n",
       "m/NvIAh/6hmngNlvh/Ed/uSQnHzAA9gydx69BnL8MvxTFZoT2uGTp813u/rnysFmH7UgATgAA4av\n",
       "magAAAMAAAMAAAMAAAMAMmEAAALIQZojbEL//oywAAADADPXK0A9C/zPu+V5aPl+yoAapFut5u/0\n",
       "4J1AEhAfG6N3L5zoFlzhx6Yp6a8dMeOuTAxxdgR0vXhpi40YgOU3xXEPTpIyP+W4CqJShloIUKY9\n",
       "MFZuEOPvbq88Dc73115dadifwcySP0sJ0Bny+eTWWSZgerYKbjDQB/gR+9BXLrSBHlfP+2afD7rb\n",
       "CV4xuBkKuzJClgpSJr1HyhL7m1W+Egp/Orekm6vOoRhdXHhZirisXLaMy7vD+YVuhjIoqkO7/27h\n",
       "KF/6Kmk/9Hc8B/+akM7qBsv8BCF9Dst022j71/DSh+EKmYN1wHWQO2X/i+G8vR8GB/WocWOaFDn4\n",
       "C1doL0Erqp6UQBBLIcMplY0K7sfdbN9iUXdAjArL3qVYgVSu52JSCEkU4stM/6EG1fIW7L5A3JbI\n",
       "Ew/wCyOjr/MDFF5hNP7R2wkYlCyoPxEYLzU7okBttk2KRhR2hq8uPq5hSv75cUKRPDrDkO0X17E9\n",
       "eCZwzm9WFBn3fpj8+QXyHIXaDEk7oBg/FyJvvpYJ7SU0MGwJfkL/a4gmMK7GRzVRgDprsLwYA3V2\n",
       "XDSWRMRf0qY+c53SWK6lKE63oYmcAZgyjm22NGC6xin1yC6LRtpsMYUnwheDEORryDlHKt16pcEL\n",
       "q3Jo+KYfkelr2vHDNL4AshY2+WhAu2vqBwUul4pucVa99bew7OwCZ5HwDW4B6frZ9V8pc8KAxkVj\n",
       "KgOpoytd8QxuvRzE6qd8qznu4LVMZyqQ4Rn1rpIrBUDe89OccDt42gxW8HWZ8qJ/DoDo3V3bWw82\n",
       "0iXqV0AavbldOZ9ZB2Zc5DSrecRIkeBLfsqfVFZ14ZSAy2Pm/qQcY9rFvPOjce0i/DM97dn6t/ro\n",
       "OlPLu6p2vVONTI6m8SvvfIkEmchmO9d/82SsKX5kWVSCwue3MrLiuAGXYjm6MQA8IAAAALZBnkF4\n",
       "hH8AAAMAEFgS9mDYG24ZBv6R6XUd/2ylwASKG+9wqP6lxZAADDtL1SSIdgG8pK+SqA213YZzaB4f\n",
       "n4fLVSSxrPuTC+dSEI59T72mrwq+zAlcKC59JbU2nCiPIeozpjeEw1kq5XwEHb0/r3L679B57Sz6\n",
       "RBr3WIPp1inPvo/vGjZJFsPa3qO++YLjdl97rVW272GeDWJoBt1zdXSm6WeIADylRajiesLk7+qy\n",
       "i4U8IACHgQAAAIwBnmJqR/8AAAMAAAMAAZKSpBbxRZG1ohBlKD6+nC/tSE+ik1D6wcZFEUZyextZ\n",
       "ry68bgr4bxZ4VyocWgAW1sa6dLz5U99i0CIXJE64Wx0TK5FeHniN9wMnBgcFAMrXhFO/rydfrwuO\n",
       "6wgYTTruM854FAoXw3MEJ39RewSSRqIXyKLB3gDLAbSRwMAB9wAAAWxBmmVJqEFomUwU8L/+jLAA\n",
       "AAMAAAMAA5OtPrCGEAJ+dCZ/ArD70TWFEv6mSpLaxI9bGR7+wjqiu5a9PHPvJR8TZbnVPAuLOZD2\n",
       "SCQKVdo/W7vYhLHa3Efcy9+E0qNmknEm0boHAoFUXnkJImD4rcwwewXHiSA7dsWoBePArGoFgvf/\n",
       "KwIodnRuQ3VOnSnjiPjCm4IT35ce75v5Glh92KnNMnFR4gYWAPe5rjjAj0LyypJzVrnkzcuPJTo6\n",
       "LZmavLVXJP4O59RVYwqyy2/MX1w1R0Q6pP16IVqeOervZzYrha5l21azbKyOIjH/LdOALWsqZeO9\n",
       "GYqWSzqPI+HKfin85d/lFM3gfRfj6eQx8Y88MOiMGH4l7bMqJBROUhnZxpjsN15yVs4WSzSOONoY\n",
       "Z4pxyBIquHHOHNknMthzOhKfOWzzrzCQDTIH44AfsD+0zpyIhDkWrnQszuISP8gfkdc9S9abbbvI\n",
       "9tE/bjoDAAAAqQGehGpH/wAAAwAAAwAC2EFFFQOASGI/5rGOWThcxly9O2YSvi/bh9do/Qu5WR/N\n",
       "KTMi0tEg/M+KSQqYVirRuDGmvlWAF0AANvUh49rf5z46ScZ2e5PrVYld0bbKPh03R3p7+0sQ8EZh\n",
       "lisnsX18dlS9gzIMCh2BY+kIclqJ03znvwD5FmIYfxU2bonXiB3d4j9GEqoYHEGYpoz5nNhmT4Ik\n",
       "xavUVszAIOAAAAHtQZqISeEKUmUwIZ/+nhAAAAMAAAMAA/vwd05j4D+sH55gpqvWEwn11fxwPSHt\n",
       "HJaAUON+CWfs6P1kmgrbLaRezz+kZgfXcGLCcjDOYZR6zfrrWb4YnK9+3eI2syT2wUsih2sbT+PM\n",
       "z5MJmKjf9knNI7vnVwN0eVEGHM6eKmpoLeFDQEjEOp4h/K2TzqBMpIxWvi413D9MCapkvElLozYV\n",
       "49v2RSa1TlZoJxFG5YNGdhW5oFRrNXrMYqSUkJN5kVIupHE5+qpGuBLx/lrP1AQhLD1PEfkjwni/\n",
       "MgBxlJ3ZwAILPc3XGrw+lRs7UAJS854y/mkQAxKPPuNOWJzhZFgiTJ2mY+koz5H8KwjF/6wJbbtP\n",
       "gkmPvP+I6gVZaDab0/i9/X0p2DQui/peYHZcTGWoApCkchRQL4TwTCLPGMRKjQsh8XLVeAt3/G0A\n",
       "RZm8lLYqoaN5gBz2sSw/GVhABYO9mbadtLsLqviOzHgftuZGxMQ+jZ+J7u4m9THWghIekoPXEWd6\n",
       "NO4qbwEVlmF1MVYseLEe3h07czZNyqPRlL5JFVVes5mtCjPHCsVfF5GLdQRyfPXZ3qBTXTPq30ED\n",
       "qathiuBoM/ugYqcssB7pglE0OnpKH5EdfBmadPYZtroDRZXR2O2Ku5dyd5cXqIXVwQAAAL1BnqZF\n",
       "NEwj/wAAAwAAAwABxbbcXXycBi83Siem3olZU2YzxtoH04Bb6/b1mwVzxbGKUZkAkaA3hjTOdOdF\n",
       "TVhQoayA2CJMU2yLfEsbZKQBFotN1T4RP/4rHxz2dH7f8chpLAClt5HFWJJTso/4vcFyxhtK23x4\n",
       "I8svQAcP1+yE7ltfswAak7VDCTLKwiWnIRe1m2ozcQKczUkXE7mn0eyX3eegGW+aZngSmhCBHS0X\n",
       "pWcr4Ifxq/QoivVIBdwAAACMAZ7Hakf/AAADAAADAAGSkqQW6FAK0e9g4bNN5S+WH57+KDqoLCSl\n",
       "R/SfdnH4TEiyGWSC3LqwWQgCeMECIBCdAH8T68HphpuTlQZtV3moOLzWP4lACSuCyPHG4BaiX68m\n",
       "kOm6Dj2cfQIFcA3UaLkmULVwzzlF2/C6Lv2qBquIcc4wbC2P9aUvr15gAYsAAAIdQZrMSahBaJlM\n",
       "CF///oywAAADAAADAAQH6FSV0xqvrCAm4T5Thl2ht3e4QKMXLn18ljuDILVkWNcEpQhL3LkPEcfI\n",
       "9udKZIvNxLIK/zdO9zECD6ympjw5PyOn1e6ATCyyDnGlTkCanzuCeDOc7g/5g3ne/aLwHcORD29J\n",
       "bDBcKfZRu6lmkBXmFEnaQ5FSkrKmjYg8fOBGc4GMwN0jC3Heu54kO1En0nEIVT3JEGIGRrgOjb/O\n",
       "zYLm1sp1LMkM7A/UC7PfBMXBr7IQdIG3gPdROmF667d0ZNcQ/fuux1tWx3Trm8dez0Nz2+em07TV\n",
       "T3qmhcFNDYbZwarC6aMLm/5aVhZaqoyXaUR8H9+fV0Z1QX/Z4a00HSVdJg6J8ByBUC/4IYowSW+A\n",
       "dIzqzPqumUt4hN2U6vjrCT0lKCrf6PI7iqAgczZc5CkZ7Vqw/QUKB7hGc7VsVZoRsjnR9q4D6xaY\n",
       "NB93LjzFzPoiApvKbMTzaklvAN3sHaImUtMrJoEoi0g9eIw0wxtqhAafIFQOwx/IWMxtrh1JKCBs\n",
       "mDkXsKCssRkdPIcrPDAvJniBawikTg/ez//4kIMRuLjlPrCRXcRws/TEldjJnXDJabw2Dxu1baau\n",
       "lB3SLdByD6MT44hdTLWiGB+ZeQqeNoPWHb4lni2PXYYai4CUbU4SNXkUcWkWbBz2uSOU6JTgGeDe\n",
       "fmzLOB4F385yDWHB0vm1jJ0J4AAAAOFBnupFESwj/wAAAwAAAwABxdyYxIM67dVCTxXnSjJqrVOf\n",
       "w8XoyyfbdAfEGAK5HUi/J8lM1NiRU9mwxb71ecAOJgAGSxRN3awTS8ck6S4NKHjST/r8ydOYJG66\n",
       "JHbi6SaL20JJv95bD3oqLlJ62zpgQ7Awt/KWkqFvWmjJ7EqDQj52CpfEOYA21Ewhdj/i1M3EV3nb\n",
       "/uPZXuJVlGJDVhNcqXe7PDnNLhDS7rxfq32vtKoGcBYTRIQE6encCD9YaPn3bzYETVUEWFbdUTXT\n",
       "Z64ix2Rs8eqGWBAAMIGBXgCAKSEAAACVAZ8JdEf/AAADAAADAAGRwBYlXt/kkyS0bUInnleDXmhw\n",
       "kcvfb0mqfPXiUgLqtYaa32j6QnqI0X5hdrZ/uMDsFjpqd7wBYBa75zuGxPKnxEb769qX6enO9yrz\n",
       "RdcrfZboJbTIZPrTeJh2f8Mgw1+uw1EfkOmsnyIUucK9D9Bj77d//EzhOOt8gA8ishzEqASNYwRw\n",
       "I+EAAACPAZ8Lakf/AAADAAADAAGSkqQWOnDnKuE73obbZc8IJcUM9IS1tS9TW+lJe0qqtS4L+RlP\n",
       "PDmdSa4C0ACNb0oVXoqm86ZqWORqLMACdbd/xpTGdomdwCZC7AeNYGCf0yo0k1EK+Rfa372dFCRb\n",
       "Lb4VLFesXmbOXuse9Gbhm7lPkKKlg3WcLrwGxdmABI/3AQcAAAI6QZsQSahBbJlMCF///oywAAAD\n",
       "AAADAAQH6FSV0xqvrCAm4T5Thlnu/NwAdOiOfzKbNrOWlgmHw3KKib5AR/JMxYWY5217YvOdao5c\n",
       "NgtiMDslW+jnjcCKPx8MEV15GpkCQStA2AlvptNlanD/iB71UBvk7OLkT4R591wiZlO5dqPVOxJD\n",
       "LQUiGUEnEwEd7082FKQDTmEttH8I1lX7Kt5A3KSinOg1BiKa6E4qhI/KDjNw2hO9nXFrJDBDkDeQ\n",
       "WdHNuymwH4C40MGhnboC5dw3kniz7kW7Bv80jSAWv4kdHznM8NXmqbW5c/3sCTQAuRfxoeIWW0dc\n",
       "V1iU4pR4Fi731AHbKibfo/SXrMhnzhqpuo4lu/pdVefXOo8B3QZH8cCSb7NTYCnEAwqhsTB7FWzL\n",
       "wZ/IUv2sHSujXRX98pGzBAiu1cvjd3e+c2bHYwUrfh2V24NDGOLkl1jU4gHYTIeTYJuXP+CFFS5H\n",
       "Q2wQbcWhdu3PfN4S7IxEkR/pJVfJlh0hJGu3I4mQ0nq6FGH7Ksm0O92b2d/7hF1irrGdeo4SVjec\n",
       "czw4b1zSiQnzbMAwfLYOcVgHCabWd1LM9bkISKelqNd7OKMvwzkvHWyg3qPy3ZTbWkPaYJ0XxCqk\n",
       "Dgsi/KrTSeS0ezLg1ruwYcOj1NsgKIziqxSgu2rQujYLQIpKrLaxxLlniLvY2TNj7iHL6ofSB4EK\n",
       "P8awvk2ZM/PRLFK+4OOObHtlwQmdELgnVzYsXTUuIF2FtY5tKKOBAAAA5kGfLkUVLCP/AAADAAAD\n",
       "AAHF3JjEgzrpoNZePh3Po7okN+xNbxxv2EnAsRVuK2GGAuFbZY9dHKIj1SAFrQYja817SawIk6qQ\n",
       "CunohuGkvCU4X2PIh8V+DahO+QKab0r/DR89RJpHEqli6fA6xVneufnN7dO/Kj/rAgfBVbpgAavR\n",
       "yV1tW32R8jkBCxDtcYzPUdT8sfCHmRalQtJRXoBoIZJF/BOkDOUJRZyoRrnf37nTvGz6UXA707KT\n",
       "7beN627V1/9xkY7b9qnJdj4H9zL5rQ+85JrwHE7P5BM6Jt6Un9gAA+CLgLaAAAAAkQGfTXRH/wAA\n",
       "AwAAAwABkcAWI3bhLuApQqv3mps84Bg+PF4sYUNCKbcsjzYdnHFxot29Id1XqewFSrw0AJYQAd4s\n",
       "pbtnd3AVtc18FxKe3yk27QlFTlpM2l1vciLyt2hl98OK9yPEkocHjTigUWiIekZFk0JwAWPPF7LM\n",
       "QJNzY37Ui66Os2iFusvcj+6gB4X8Ab8AAAB+AZ9Pakf/AAADAAADAAGSkqQWOlYSc7Smo6je4nLa\n",
       "ooPNmZPIZ+ZKuPFmM/CHoeGyVkKT2etB5CMe5i5HGkZWEyt8dbxn4wZssSdAp7nUQONQ+uAWCHQi\n",
       "Kt83J43VkTSnUg1FbGGVD+l+QWhcKIgd6I877m+5/4AEzz7owAUlAAACMkGbU0moQWyZTAhf//6M\n",
       "sAAAAwAAAwAEB+hUldMar6wgJuKMJmeZXzknp059Tk2P6nf/DdOOKrlZAzMwVscZEmmNlQ1pxDRL\n",
       "MIQskFciYYSuEKStGN8qLQpkzF2oDDT8dEY8pU+J8MDgwfL9j8U96VWhzuYKZnX66CybtdajRFaJ\n",
       "GBRIyxBKjNkBPlRJBXr0/C2XPzegzN+DSOkLDOwACdtnilyMn80qtexhUhHI/jLtVZ1+O0NCeHxM\n",
       "Yf163jWs6O+YLmlEfod0J6RxdceAotLfaMKOJ47w2j4qq969dWZvnTlAD5765ORYoGIP08PoyGbk\n",
       "IZsUeLKf8k0xNqXDkAq8xk15naqZHQ79buzeUgq6ftPUaClU0c8YQtuHnzpauTdlNKlKNww7B3kX\n",
       "bwwOjHKxoGfRu9mdj/7SDwasd9PhDfliikhvd0NsCeb1b93sSeZUL1ivOVLQR1WyXuUpzGaWUWRe\n",
       "O/YcY1NarabT7g7BjecKeYfNFE0+/wDIeeHhubPWbwgq8gBC7pHKybrFPPMfLGg+xyuGoZPnMvCi\n",
       "QMGFjk1QytoN5aPeq73VE8U+iKha4qAjIFweONE3jjbMsmySTshDeuGyEYKc1lHQXrcs0KV1VSC6\n",
       "qIpLARATjxOjTAeZuCrXZnAv1WL1O4ZMo5vbbrrFu9NVkVRdaZwDG755+kw02PypMgHNsUOdGqV1\n",
       "rvmeH2XFxvhgSDW44rhg/YLwdai2r/VynOs14p0tK2ziZ2gAAADNQZ9xRRUsI/8AAAMAAAMAAcXc\n",
       "mMSDOurWBCslJ9+3bVS0fWUPo356Pa/EIuIfQBxj3vuJUODRT1891QSck4L/iX5HVNa+Ks+k7DWS\n",
       "4s8hwFLIgBu24DbrSJmTM0cHzbaTvQ5ZMHb/SES5Kn3aAbYZcdnQBaXj2+2s5cJ7PViU/KEKeJMQ\n",
       "iSvDl6CWoNdCis6CSHwvuy8Y1yOb92Uv6K5fx/46F0YY634Iktp3KdTFTy730rtws/tyPCzb4pQy\n",
       "e9h8ZUKgZ2PLgU2lcAAWUAAAAMABn5JqR/8AAAMAAAMAAZKSpBY6cx2ZTyvb4hGjWefbYmHSKWUV\n",
       "Hoql7PpA4EM+UrDvEcBgxn39sZDQSv/cH8qlJ0kBwuTSFawHQqJ+Qz88u/IASsmTEpZ0alykw1i1\n",
       "B1aW/zbG8CmH9nrOdMg7pUxYhN22DnGhlFZetMLRjYP2affOJmEPyTVQ+x8qR4/eOMzAyDThBq9h\n",
       "H4Kc/xjw0F+2GET8hU/QVIEukzU8DxiRW3u4PtyG6y5n8ADPV2owA7sAAAKcQZuXSahBbJlMCF//\n",
       "/oywAAADAAADAAQH6FSV0xqvrCAm4T86Eza+cj1iPMjaYpRGh+cVqpOXCc6cWmtdOGBWRfHR/VtT\n",
       "Rr17sDGG2yHj9xIl5e6JDdf62lxLww2yYdtEgZG6z7GZY+26GXDqHjq9A9ynEbxYbyM0bJWW4tuP\n",
       "hK8FXRNmSEh528TrZxLG07GO8j7XTdV/XbYme4qiBBhAcBnx3KX3+fHNf80hllsuwLcEo6Jtkz+r\n",
       "faUPd8qRiTtcFiO7+E2uGfcfGTFTgpdJSOtUuDo65z4kAfAqdtimPuGd5uItr6kLm40qy1dYmXHy\n",
       "oS/OR3rr2n7wm+InGAPlNJvF0VRYUghXlAXEHuGNbBuL2kvYPTUiElXLCeSgewLlVRgsIjGjNftR\n",
       "4w3yRhM3rM0mGJT3BGTDK6SMVZ582LGf80BWbCqnoMhG3BFheZh4Plj7jUsb+oFw28btWmlPIxqg\n",
       "dkhqGtA5V5rogksZ2XCmqjqPsspeQG+zvh51Vvn1ttYE1P2KbmLrwOLR5mPbMkw36IHDiu/lTT1X\n",
       "JGR+pz8F888+cdte2cMoyUeYoEfJMLuKmHKrSqGxEFSnqyBXkbVd+/EwKisxBriFYWnNpI/xrhnL\n",
       "42adLtqOqEVh6qqK6FxF28i+taznW6F0KuA++5ugTAOjsO2Bv9Hsp9atr51JKli4S+PSfrQapYr7\n",
       "U4XBTcRgU0u3NiggImkFJcqDOqnUPjGaxX5e/xUde6F4YH64qNlPCo9+K+FH35nNl6MVuKIMIcOK\n",
       "3zKNhvaCH7piUa0drd8yypQb4QRcynALN652Pk2zT8WwbF7GV1LE0ahoqlZqWKUnEHVyBRxqN0qB\n",
       "ho1tUzyNz0Oovi1NVZ23gCawRMuMURg+CsIADtEAAAD9QZ+1RRUsI/8AAAMAAAMAAcXcmMSDOumg\n",
       "xpCM4al17ffsqdKakdgY/uIlsHiq5tNzPchtVYg/F8DzLTlIHsldx2r/RZw9E6ZVusBSbgnSMPwQ\n",
       "mgAMcpDTxTWAIduyrAA8aTIBHrcjvGayjMBjfLNUDAQP0D2WP7Laq5oDMij7NQb8q11a9ZXWFShA\n",
       "CI4RjQ7Ngs8aFgUPpfJ8TMyxolXVnpseTlPha3sAmWYw4OWY8GpiV5uQ5GGcwyr3XR2rQ+KZvYBO\n",
       "RtcrAgz3BGOcLvOUC3yBlVeJjMU9bulMDMfDSlFLlWzONeDnVl2sMqLnajqNAPyCjRF6zgBXgmAO\n",
       "OQAAAKUBn9R0R/8AAAMAAAMAAZHAFiN2aRErQ4jgyMUNru+a5OumLxwPxy+aFmxxvVvJExBllUGZ\n",
       "KmJujzusVm2E5cJMW8ENAviiONdACLltXMcY/n8qAnx3cJhV+JQ9snttXCFn797yF4RnLrEmnWYi\n",
       "ddWb5AE9xMkdK3WCUsoagsM+zysJ49C1cqvLBDYiMtjzS0jPLfib0TgxFIjqPs026d1ADSBEA6YA\n",
       "AADIAZ/Wakf/AAADAAADAAGSkqQWOnLXD7ji26Lp10Qw9Xq/U7KXKp1dF38NXDweQvjoWjIiTKV7\n",
       "DBt6U/G1+qfSY+32hvL3WgjH8jZYUGq+q3R930gAE3hLMSH6ZGRSRxuzRK/QGAa6eeGKu896JqpN\n",
       "d61FQOmIe5yUiPI0SrINYGo6gg0Yi41qGkT0N9pfCF+me/kuIOQl1HC/8HK5V0G3b2lifa4D380R\n",
       "41Zxa95rUyT0O8l42NTFwrofWfvUlG23zf+AG2PABTQAAAHiQZvZSahBbJlMFEwv//6MsAAAAwAA\n",
       "AwAEB+hUldMar6wgJuKMJd8r5yT8s4UVuI8N41se9I8Rg5U15EvuiCJ2tmVCuGT5/YdQLtdp683P\n",
       "0+ovxuFX2dQe8OI05baueI7JdC1bfYb+K09ta/CT9IUdfcl4dIBQlJv5J9DH1iIrmoTycxzKmhF4\n",
       "RCzI5oIY9h49IDB68sR9/xvzqT3AIum7RCA6aoVxP4BPzOTenckF0bNNxMnzJtElw+GUKJnmgXbV\n",
       "P5g7bnATONRKc0yiayfSzQfZ1XdZbSGXMVaNnoHqhA9+E/tmAhilLbDjOFbzPYVN8eV9kkwdyIs/\n",
       "ilYG9iJqC3hZ96eG/x2zTlXz4C+ECnVTWmGLUvBBmN1f4vcTqgEmgI/noMhXlS0VL9CfAXBkV9sW\n",
       "AY9WlRonazD+bnpfwAdF9iTgwnnJyy5iZ1REpRwlJVddzC1uQ/rnkOYxaF98S7/VhX0s5fB/ys0L\n",
       "myb0m/HMQ3TipZZV4l4afmCshiA+bc/pRJ7shNHS4zNC7lJRfsTfBox1CCiJke8TvPxsGKfS/ow5\n",
       "zIJ18x4MuZRogEt8Hdu27CJBU11hP/RqxRENIzA4qcmFUDJ6zDPrbsAMdkZxNhbn+1Ml2ejkjGPr\n",
       "yntdJuEAAACiAZ/4akf/AAADAAADAALYQWQqk+MTY/xhb2iuFzOfA99b+bpJFVCKuFO9ldxToiwH\n",
       "qwE2yelUDonFcmhC30GX9gQyog7Yd4V5Qa6SYgTV5qD6Sx4xloAXDB0aoGXnaX7b6bEYoMUr9tW3\n",
       "jHvexnCX5e6sB4xsoxWWohdJSDRjlkSP55fkrgJppfzdoIXYZ9NDq9SHPKQBWlfMBAD1UAAAAwI+\n",
       "AAACVEGb/UnhClJlMCF//oywAAADAAADAAQH6FSVxTPMay3IngUPOBAJCLF3pJ1O3DnkmIi5g7lC\n",
       "yFpnzDjkzvsAmha3YXJ1oDzksfRgA+PJvT8Bkjwm+koVXqvt4s4zTTx/MBCsMUZIcIoirEt3TgmB\n",
       "e1GsnA52eVtFV/ekBGXB1Zy2lPHQd1oCQNQZ+H5vhJ4JMaW2cHLqltr/M2Ifkz9SQ+3EVDXsA0Sv\n",
       "fwF8ynMJFI8a13WJ+zjlNASaYQtzKkTts70KRdzAbDz+5dpzpw1j2yH8GqyaZ9vzd6FybAnmznUo\n",
       "0YmTB9SL7M+oO/ueLTa9pXaCf7ACWkr6/p1JG8+ZT4m5XZKF/TLDRT802lXi8DdW0qlj5y21PMW/\n",
       "2Jf2EqWDUCzgnfqtjyX7l57XA0E10lCpIgI8n/IDg6oRS4y44Weesg7UCAYKb60ri/3arxlZVCzO\n",
       "7ObH+f0tFFnN0RD2PbruKHovbraOz0mjrg5RRJ6uliEeAp/kIwCcWLLFq7yH1yKQlYVpRaKKRTo9\n",
       "4G6UF8vSO44x3RzaSGbZ54PnZNBRVJAlEsXFDnt1N5ZD34pjxg6vdw5F3TtyY//h8JjF9LGrrKOt\n",
       "CqTYUvoVJtfmYhRP7EFcARU+XKx6Df3WJ4k/bCoLGTtaEPj3Pdd3GUX2MzCIdJ8yZAPo5Sv54Ps5\n",
       "/gP6VWCtrWAsSKtUO4Zx4fvW1ixDeADeo39fSTioTuK62uyND8UfTN0+KHtbn+f0y07mfL8DzzH4\n",
       "yz5ZmxKa7eWo8mZExlhkUHl91Ddz6BkmVZnt257wAAAAzUGeG0U0TCP/AAADAAADAAHFtu12B2Eu\n",
       "pNpagDEs08MfGOX1Uf92ZbDuf0brICfizhNxfNSeyW8uG1csha/NlIfd9KeWSJZAH99lazxXzUyV\n",
       "OqVcy5yjIsdXyZDU2wBkMFv3V47sLSHMJw6r/8Frp8C1dpmmQwjy+KOgYibQANhysBlE9hP3Zw0l\n",
       "FxWSel/pPsDGb9NiRCpbtWZBsPyGPtmTuBtNWpMkTbFWKElBSDC4jvAVnSCLilSx2fDDfbm7jSd1\n",
       "u7WeNDAeoAAABW0AAACKAZ46dEf/AAADAAADAAGRwBYjduFgn7rMCG4kSxCXig7UIYfYH1/fxki3\n",
       "Ad8a0/im1XNPAXMIRt1e2Z+uaUM/8lOqvWcxYkYAIyLgJLEAiDd5u4mAcgjMJjyv6IdQxk22zIB1\n",
       "WphC4Vm6x/VxdfSGFYwnDesWel+/BqM5EPL0v8YqPJmqDUAAAA3oAAAAbAGePGpH/wAAAwAAAwAB\n",
       "kpKkFjpKxm0dbCvd/0vT1XoZldcUvwDKGVCvEjGU+kMGst9x1T+88OrF5v401OwlYk+IAV9ztU6F\n",
       "Oc/sgkmwYE0cfcGpbxkNUrkt1ZqY+kU0Z8Ay4AyWK/cAAAMBswAAAbRBmj9JqEFomUwU8L/+jLAA\n",
       "AAMAAAMAA9Xvd9K9+byMKfmwFt2fkVeayBZRsKN/0fE2Sbkph4oPj/z1hB0DR+rRZ5atN+BiAelK\n",
       "9TimukyIhFLIbYhufYGWZcWFFiZL462oW2Y0W9xd4NJZX1QBD9PSrsSJXtL5XPtvgOm+SCG9zh8w\n",
       "amcLodqIYpgaPVKuQpIJoBZox5NJayhVFp/nX3YzpgxIOBh5wt7/eBSWL6pqJFlF70r0DCCJKDzv\n",
       "5pnssD+0W4LM3eS0CCXyxKb6L8YzmbS7N+892Cm2t/61O98QyL68LCToPNWtM795A95fUHJLsiDT\n",
       "T7SweRn1tQLMxlZU5BvAtIOUFXH23tEKI2Xi8plYhR0wXUdSZi11Hv8saRKsSeaeERaZ3osNCM52\n",
       "cWK0xcSbtOeDezldz6AMh5d1FC+PN0jEeseXogduM89v87myto+fuVqXhSCADj2/mHkjnm1fI6yf\n",
       "5Vz8wNS/GgYE6k2PNYBl0tVMWIIS0HSqm11xTj3Na+wm7AenRao1dLhN9Wt4bTK+brvN0Xtzqjt+\n",
       "dPkk++UCj/kWzOjcMyc0OVJ4EpKBAAAAeAGeXmpH/wAAAwAAAwAC2EF6ItgPMqNvZayBxPiQP2dl\n",
       "pzFVcEiwHRqzqsicpVpP8qu5ayk/XoQo6WtETk1vmFBVJm6J5oFsGAAasfu42tjh9a8LcWppR3zX\n",
       "+3U6F2H/UwLwyCcpEqW8d4INHbBF8XQXjAAAAwA/wAAAAZ1BmkJJ4QpSZTAhf/6MsAAAAwAAAwAA\n",
       "PV/Q1QPdmgiIay/UHYjeyI9ptcxYJde357PyxnaPCe0RAWOStfjXmuvjoJegTELS9JNjbuBDU/bB\n",
       "zfuhJBvQfJuHbO2GESNSlUtjOgs8cNqnutF1XOAhd5BKkRRq2fdTHk/z/GaXYE/yEi+nyZQR1F8I\n",
       "vpa9ZKsMb+6tyj0z+USS5qtUYJPnT6YRedJZzTVweZN85W7N1bQCaPoSLJGVqNEFizflD8NUh9Qe\n",
       "Xm2XgqoPhi5XjCtv2Lu0gHcG15OLXdlDzK2EgDenRuzElRJUS/kLaIvleW0I4kjuEsQam8wGCcgf\n",
       "JYaB4a9PSYIprjb1TUShZkhcEnA5abzTy+K3KCXMCrr53MeZwihbo6Qx3Lx0jTEAbNz1smjID1qe\n",
       "XlQVZ1wzSOxkXjDIv798u3HBnDE0X8N1CGPcISxUii6t7sdifPSx2eLhhVtPbueg5fol5WVCI8t1\n",
       "VA4nO2mN45OtE0/XZ/jmdqo0tY8C9etFN8nQJb1bPkzpGHucbZbn40dIcgBLnL2h4QAAAJJBnmBF\n",
       "NEwj/wAAAwAAAwABxbbcXXycBcNNJZVhScl6/Ry4JVOQS6So1XkJY72VCAE5keGSwwnthFgKpW+K\n",
       "Rs2qdkQSl/7p4hSvYwoVT6GXdeS+qImhJLKP+AAXQCRYKymB256ctZkNfQGTbosNm3xAC0719ojl\n",
       "Q01R2QlBWXUvFWHEpoCtvWP1h3iNXcPAAAAUkAAAAHEBnoFqR/8AAAMAAAMAAZKSpBY6SseZFUCo\n",
       "1jkYPZ1GbDIjxz00R7FxoWBV179x/VpgMf1TAqqns6YfOwFfA2wNccLoIAEv8d8W3Dv5Qdj9EMVT\n",
       "q/F1kk1OyP/TB+lkk87NHzVfnjt9hSfmjO5AAAAccQAAAfNBmoZJqEFomUwIX//+jLAAAAMAAAMA\n",
       "AA9QYN3F3AJedGKH685fJaHXppkVMAEd9QOVkJr3oqvSABlSfXqxSTM9711iS3ixgsvi8WcO4UcK\n",
       "KifMfbQ7t/sac7KWjdOkys3BvAz9mownRaY2hhire2cQptRBnThq2SjNsOnW0g+Mbl/HxK7yfAh8\n",
       "vECFPfohPfOEhlxH7Ahfe4UhwAcJIa5eAUtzOjzkXowsWmJgSFLbbfjsKMDGt8SX7gzAQHQB7JLF\n",
       "veNoaEJ15NICrh57err7SwTWrCJctjdjWWvRXwpIpTX1UuHZ6lZg7vf1STSKjE1DRti+BAXBQhN4\n",
       "AVD8AHsVIjN7p6tJOQFnj6ChpRSzds0wQjcFB3kgnHZqirPXlYEw7rfloNVrQDSFpvlywgZxFqKX\n",
       "V53IvxsNZmlHX196lJ8QA7LLKtZsfxwzF1wQ3N9FSsbp0lwZEfnegDzbMaxdEAk1Uhmzp5nBv/V0\n",
       "C0Akwyzeo8K6vXTMRdAllYwJdodB/JQAaliEnGrsw44bFlAU7G7saW5u/A7RlopGv6WOCwg9kxK3\n",
       "MSMDUMabfKNbU4l9ugU1e1g0HW7gt2MGgkZ2YGshV81M7E0+0OUY9j0xDq3wEJ/MuCYpo3+cmUrs\n",
       "2R1VLYuPMHzVSquGfRKlAI7i0VUZAAAArUGepEURLCP/AAADAAADAAHF3JjEgzrpn07hUbBtUuz6\n",
       "gK0HhFiREFBrglf9QG9STcDPfbCkBQ6XIuawtaAylp4xCk150+gYGjqNX0ntMzxsF3qqsCPhAXoC\n",
       "SOrERd5/+L56YjAANbqVAo1WGW5EdZaSdmLtJAHMYcfxZcGXT/ncBlYe1lldOTVari8rnFYHBgrU\n",
       "k4XRCC1FzdJJYh7woynXCXs75HwDzdAAAAvYAAAAZAGew3RH/wAAAwAAAwABkcAWI3ZpDMJyHGj9\n",
       "ftXU1REz+gzfX/QBawS/g29kKC3b9sMMHwW1XWmXYQkhtfLWHYcuIXVIQMy3YO8Bohre7PxyQfQg\n",
       "x2XYBHiLMyX4ztS8gAAAEzAAAABiAZ7Fakf/AAADAAADAAGSkqQWOkrHl+/7tGDSetAsTeQxCYVV\n",
       "xWOnOR/Ia/KlBKw+K+eKTwHiDNacPQtxLHd5lsCF4YIxoYP/dTRS5yJ26EJEMdvQiHj11JMBX1x3\n",
       "AAADAtsAAAF2QZrISahBbJlMFEwv//6MsAAAAwAAAwAAPVwmUyrsh6q3kPAEQYYJRB0lNqEfD+kT\n",
       "UO/2VDBJ0sPfckS5BI+wCZ8XiVD6gzCD6L2nGDCiCMqR2KiKQNh1nGAdVR0AKMJiBLzRWSWXOauc\n",
       "WfFI2R0/qj45J1YhB27xcLCKLAC5U0K1fr3O+cbe5CHI8ErT1JW4Y4dvoQj0gBIVQEYvU/nec9uF\n",
       "3b1knRKF82j55xjaivMqDdwz3jCzRQXyphKBiBpPjy6O5rwK92H5I4jEGKpj9VJ/ghzys6UEASFg\n",
       "714vveY3wxrmyrYZx4lSBV7gxFOxiWm+OVqYZDIowJuRj8lRLO01aelO+Kus/leidU7xCh21XMaC\n",
       "292N7w11+hrXGBJw6bIvR5ay/w9nh3XSiPbKMddldwk6pe3R1F/HB78BeoifvhfAv8mAsF0lNHqW\n",
       "JdLIV/XMvZ53SPSSyq9Wj4Ugs9sA2rx4HV5qztbp7/HLaw/awinV6YAAAAByAZ7nakf/AAADAAAD\n",
       "AALYQUUVA3/zPqA5yLz0DJ87vth3L9a55XhLGjQIwGQY7V4MRXy2fglY6GuWyO80eKq+UP5AoAaY\n",
       "VLovTqpXVnAZ7JYMwoxQNbMpJ+z2u1GIWqcrAE07YKHiWapHCBxDAcAAAAk5AAAByUGa60nhClJl\n",
       "MCF//oywAAADAAADAAAPUGDdy/gBO5unEWUspd7zgsLEHLJziN9ztanAeTGu5OJ/jGsBhpo5YhJc\n",
       "wlH4KtDDBYkGutQLHS8zVaRehjaQQQthOGdiQFWeeE93vfXoOqBa/eDKcJWawZglOG7Av16uB7zG\n",
       "EuCxXEfZD7re/4ioMhsJ6o4dx1ypsjLh5em9YpGYNgkOYYlqXcdT1QYlFvdtJhGHcDXpqfjyy5o9\n",
       "JinZ8iwNUHojUnV8ilnPbhU3IIWkIxZFNxmTOs4zrBCoDfiQetH8H2psdLNOdiP1qSTOYBt55oTM\n",
       "cHQvJxFoNLuXjmNJTB8PpBldNapdKY6uA7Ct+YxetcrC+WVajdTljV4vdkQ+vCnA15xaUwfL3Hcm\n",
       "BQpGrfypg0B7BMyCJEzuuRnrzSY5WcBHFQGauSsg5Hwei9Wo37u9b5dK7Qftcx2829jaOJvM4d63\n",
       "dRFXs8gR1T+fZdIcmolWvr5Gr03Y8XttM1THlqXVrzCtBGjn3a8CkGY5D3S4NKaix4HlWMvKuudD\n",
       "3tzncyelmH0XLNcziEv6rRbcPP1b/hxdaS+TQuPt0cr1Nj/w6wC1cQQhkSHTJSrVImYAAACAQZ8J\n",
       "RTRMI/8AAAMAAAMAAcW23F18nAXDTSWVal1GkbqkoSNens0y9ujn/qQvdphHf+J6e5DhgBK+rLzZ\n",
       "0XQMBgUoHGDlJ291xh3IZZVGsz0nRPXnYgkZXXa6ebgPaEn/eMvsqEyFeA+RFISatPhFRKqJxjFT\n",
       "kohAbBWUCwAABD0AAABoAZ8qakf/AAADAAADAAGSkqQWOkrHmRfomH+/QqhFt0gU4JSTao8L2dhq\n",
       "sVNEMW/VED7U5PjE6vRIlefZAMz78p8ZXGBzOmUM2vFmNKOSIujC79a9kxhyuPgK39STNxj1EeAA\n",
       "AAMAAYEAAAHyQZsvSahBaJlMCF///oywAAADAAADAAAPTyx7nwAttCagZTXo3X9GyZa5DZOoeXAp\n",
       "C7/j/JirzDUSvUUhkzg7Z38QOBzBB3vFXaIgevPvajdOpBfxLf+py3SPs6BV17pxT564zqHIJmrN\n",
       "020YIsPPTW2E5alYMYGRVtyBeLY3DLAK8aTH2IR73790KBPOzQxTbGfvdDnyK7opE4zgdkNQSo0f\n",
       "PfON/dcY7dbfinUvB92VK21UnQD5jxdYplpmzQAhpD+7K575FZNN2+HEmK2YWpyVosxqSryunjXr\n",
       "UmAWk4kYjfyEZ4iD8Hob83eE1kaJLzd5WyBdXaPNNyf4L+hnro37ideISyAnHmvpDHv3/t0hKM6z\n",
       "/69O+V8wnhwvPv08SiW1QUqp5nWoPdaOJ4Xlb2D8cp070yq80d4tKVsu2rR2Ce+Tn9U548nOg8cV\n",
       "lC2HutO52zhm/pKayGqyx1ttm9AuXDcy2eaCOGiwTcZ31b7xy9JZLIE/KlnvUrY1UiFQ99MpetSe\n",
       "AVSzQ4h8cPmrFgBpiP9fpmrpLi/N4/FT2+eDpbQIlJgTAzMD2GGXh3aZ7042MX7v62UgAKNTdW9o\n",
       "ibMSwFO73d9ilo3L3f5v9qHvasnsXfD4r63pIEUrUFGEZ/VwesRGBY2dSj/ByfKsilaDAAAArkGf\n",
       "TUURLCP/AAADAAADAAHF3JjEgzrpn07hX7/iQPofGJ0nWv2IjUHcRtL0PvtDS5+28HyZ4V/lTraB\n",
       "rW+KQALnx8iip9m8fHHj4hQeyxG2ho7pgEQJ1cnZ3fxrhW/Q9VfZlwN1cOVYzBOo2jKT8RboLdPC\n",
       "14ziLL20qESCkWsrfqQkJfTSpfinCmx5k6VsQT6hLtZlV2+SwpA/cuXx9Cv5faMVcPQ3bAAAAwAC\n",
       "XwAAAGkBn2x0R/8AAAMAAAMAAZHAFiN2aRGE6YR33hR2NG/wzyt6Y2Y4q2/EWIWiE9MuhaAAngB2\n",
       "Ih8zO5evbXbLT68B6dQ8EF13iFM9uAAS91AT1vIjZvK6Wiy10YnGJZn1hWoJagAAAwAALKAAAABe\n",
       "AZ9uakf/AAADAAADAAGSkqQWOkrHVkz/xrdh30XTlqrmipoNPoAzfZTu71mn8dYeAEu3kxzv9NYL\n",
       "ltqxhVbKCY1KNtuxkaufoaxpJ3DmJFww8i4l2CQ1IAAAAwADFgAAAYhBm3FJqEFsmUwUTC///oyw\n",
       "AAADAAADAAAO9fxEBOwBEGOLg7/PrEq8NPMPHrjKrTpghIFSoXA4i0DV2l2VgXscnOYNMD7yWeAO\n",
       "VOhsK85q7zCL5nzOBN59eW01FylTVXPppmldV8/NBtqKniTfa12V4Dp3agZ9TSowsdjqrm9CwxB/\n",
       "gLtaJH1j9uBoekwHV3/uwfsLDXnXHc60TSil8/JGslz1Hb5QiBhxoRog8TTM5mB5m8DQWDYvpq92\n",
       "F6y+REidJtD1ImMNmxqsrnBSK90TBuieuBD9WxDDNFRRs7DtJjsIT6YI3/g/yK33tbo1RcOYKjw5\n",
       "iYuK3nRnsxmr5nFdWy0DRi2zhwrXuINji5rtrvSrqcMk4BZnzxUs/DMHlxI1hARivKN3d8fqKpLy\n",
       "NhxxblgR2aRLE97fYX4mBuXo78ru43fGOEQD9Y3z9tR8cNq21LY/WIdXJUgJqpIxK2tfSKuT07zR\n",
       "6+WP/E+P5XDr+oB5XVobkFHjw0DmCCNgGIsSVAxh4LU8oQAAAGcBn5BqR/8AAAMAAAMAAthBRRUD\n",
       "f/M+oEW0Mo4hEIyrvtoxNy/VZ1jvsQVILToa/9ZVKeLZ4yEKN5PmX7BpLcpmSa2pLGHjLEZLnkAh\n",
       "ooATGeG3QXzkJzP+yGVvyyaqAAADAAADAMWAAAACDEGblUnhClJlMCF//oywAAADAAADAAO/73jy\n",
       "1h0XZuW/7ucz7gA5YngwNlIvgg1/+U91s4MJlPKCXQoD7XVEbTkF6nlPxd7JHgzDkgDqxHgvFBb6\n",
       "dyQ60xDeIp3F79WV1EcohRLqYXWsq2U3wZpKgyQijASXCkxPjzjx5/h+XwAsqyTihIMFgI7fJPjk\n",
       "fWqKqb6nCs8SGokgrp87NkpvBlD5A/jQDLn1ydTvXLSoAEy3nUftAF3Bjz6QFfSvj1q6WBbZet/f\n",
       "qrx3r0R2kYEZ5T/udZ1X0QjJzGkS68nVcAOTkOJbX8pkqOsmnTg8s3kM18Kp5FIsYz82YPBzCXBN\n",
       "lUJJOfesPWB88iqBcyd2XbsoFthW8VuS21cpaVQ4vBoYzgtVcOeqZIuC7rPw0zG+fY81m99tWn7i\n",
       "NC4LP9VEQoR6FpWqedV+3ppyItLw1ucxghiHhVDBzfJS4naT0iDoqbqqbqIh90hPpxAJbZVFoGeh\n",
       "y1hZjUo7bwhetytZxExo8vgLZNssObmBQTFd2FAJgGdS1LaRP0eWfEEUUAKFBITjYCLep3+XY57e\n",
       "8msO+JC4BI7RDrIe7CTmamjG4ETYE1iQxfr/IOVBZqfw5laBX+Vx3BDbjLWAfc3xDuDeRTVcyzjK\n",
       "aRb4mDF3PhZFY78N1tceb/67GiSjB4Nam2oLUcKePBbxPZGiKDlUJXqPAAAAuUGfs0U0TCP/AAAD\n",
       "AAADAAHFtudX2JA66GHSr6wAs75G4gbTsnhEIbNmFGnzB3TncsnvFOmuHZhGACR8Wy4ARXt5UjjP\n",
       "gJOR6MD9eTy5ojhPzOaaRdF87AnHV6QtJ633BH/vqh0RPjvI8+EMMxsbmcwrgkThqEonrGKMIsDZ\n",
       "0eXuR+qLp7bywBvis8tl8kWXCFmOf8MDPX6Y0GqI/u7KrkDatDhpx179Ew0tNRyJcLyAAAADAsOL\n",
       "gFlBAAAAagGf0nRH/wAAAwAAAwABkcAWI3ZpEYTliKPOURZDY+/zMZeekZ0yh1ncAJAGy2sysdxA\n",
       "faGVczlW/L0GgCu0YDbzJGXpTHJ5YhWqrPkZ0pHyTK4IxUsVugA+j+5WsbP7YCPSNEAAHGKdgs8A\n",
       "AABmAZ/Uakf/AAADAAADAAAdB/2bZiigDxCp8RHt7T2+QXmA5awCqNwByqZ2X15ndgZdRqcS8gRn\n",
       "FaTcnnKIJxl1i82B0B9OcpdVNh5zZ+DjoopY4AE2aWo/CYR06lbIm+AAAeovIBoRAAABxUGb2Emo\n",
       "QWiZTAhX//44QAAAAwAAAwAM7qrlhUZQBRneNfpMqaj6Z9h5lSa42tuQD49LyfIGXN/IAd/+A22o\n",
       "7rqBlZbIu8+bIf1NQSPLV3cQRFRJHv1PmPUi7e56x9LkUZ7Jf3dKDTQGxdVk8McumWTmb30zgWwH\n",
       "PJW3Dy/s9OUyvRR3cmXO4d2o0EoQvkRYIByI+q5wXy3YHWaptIv+LqOoYNKQNd5DSviyFJed6S1p\n",
       "gyqckOz4l8mfcX7seEf5iwI758AEfNPe9Yew1o1ZL1Sp/nCjEzZe2pvAfkekyM5qxg8S6RVGbUlp\n",
       "USs5/rEQ3D5GCKui/Kz6+9kA9Sw1IL8hGi0h+y+jVia1X8UhkR+MWvmyj3BmWRJP4bRAej5YTR2P\n",
       "ufaRn9j8KbK8v2vAeb1PYsNzo2FFN6KaIzxqNpVVZepMZwMjNMhPnjv22qXmHlNxbnn3oe/1E9lQ\n",
       "a+a4Ae6ezcMaaNuFBQH4E5utOs4Ak/AR/8eIILPLzUh3CHscPmsa+/gaRQje4TMkwvtFUkNvEwVP\n",
       "gDLohY+3Y2H5KhE3+qb5gQBlwmSABwWuJEQt7T0VXh7Kmbn4BlScTrGj+AAAAwAO6AAAAJBBn/ZF\n",
       "ESwj/wAAAwAAAwABxdxtW+p1kOyK652DoUXdYGUMQIfsOrVeoqYEBRaQAXFSIRsIZ0fMFqNb0fRg\n",
       "q4J+8yE15ojhZBT9T4ztOOAzulb0JxghJFDum8fHtJPV63IJuC5AoUTxEaZ0AsGdySLm0kT7RI63\n",
       "FQVA31ZHZ/V+4uNJyfLQKPk44AAANq5gBqQAAABhAZ4Xakf/AAADAAADAAAdB/2bZiiZspLFbo/I\n",
       "ytC2hlHUW66faJlVQ1jVziz2x4iCZfTGli6VRIoNYm/6mARY9m2cmKAzmyzaBfh7ZLWjAAFt2CU+\n",
       "459XsWwQAAAP2SQC7wAAAOJBmhlJqEFsmUwIV//+OEAAAAMAAAMADO6q5YVGUAxQyk5Vkmcu2IxE\n",
       "yocTEa7i9amZe7+YLHr3PocyN0YaJYFAUnDf/tDmxMCNYv22K7ZMe1Y+XmKur6rzeXVwDyT3E/29\n",
       "SWi+r7caouA4/m5YYNmepm34WD8ZsFhpDn4eRjA6mw2WfzJDa84hH64o/MNt9UUsdgAHK2SVndlB\n",
       "O+EL4TeBP+b4I8KpXIgZutuJV6ykmDkutTEEVJCUA52XA1XwlhCykEb79AYLLmV3bLWpGgjR5hJL\n",
       "5bNZR0gk6Zdn7SAAAA0IAAAA2kGaOknhClJlMCF//oywAAADAAADAANS3KgNFYr8GSOEoaABpMc5\n",
       "AFhZpFt8VSBvVZ/OEOSok8/qY2/e9YvjcWnB1g5Ovwqyi8oreWZbJRZQD7pPVTaRKpmhHXeg/w38\n",
       "Om5SDAmDJyCwexzM1h4ZGXBA5PP5QEBq/pVh90W7tBviRiIya3EbWwxTUH0iH43tMXP0/tAn+7u4\n",
       "V7RZc09NJk1ja1UWCkcS4CpE5z1DbPUTMyNIZLERFeeioLvFX5FLqI9I6cyyUEWoqfNp0ct+84/g\n",
       "jmfcAAADAGzAAAAB00GaXUnhDomUwIX//oywAAC7ZNUAG12Z4Q/YAAADAG5WuZdLiwHgZBHEzsqQ\n",
       "KqiMdsEpwwE0f0UKHu1YyDILmXTN3klOfzmqj9dkhGHszR6XCt5kkYlqhvYAH5ovCcLUHCJFgzhx\n",
       "e02963zXvDyAeVgBZLAYeXuLhOnabSKbFAWRDAFcdDJ8ifxQZMi7OoSi3akzf6GSjkYmNBj7iWXu\n",
       "DUy6ZGmX0O3tdh2vHhqcYnfBR5BKhCuAmfz+NfQdw1cPROhiZywC9pvAO20FfcLfbLddyCa6ERje\n",
       "spAMu6ttPuHRIhOys15aQMm09Rprz/zuJEepvChby/HgT87XBBfZwq99sRfp2HevUnvPxpBredzw\n",
       "w9FNlte5X7+tqbpbQyAnWWlFWYajBQLMKKctmUc4caMRrbYmBE9IaCQnsNhP/SPLkTRBCAY+p5oA\n",
       "dic45rdZKmTDbH4g4S9WJE6AyOMYmCDT3eUfjFr3VopK0NAVPIoB3EHT0r9NH8D7K4LnkfMIvDAv\n",
       "iy2qLbr/DWnMAexJbD5dMw6JbuMbPcu8NxC8JuS/wqQzM6gPWpM5JctHQnoP5yG1dW+O1iyrUKpO\n",
       "WwcgcXxS5PUZxwb3Dy7jTiKEAAADAAF3AAAAikGee0URPCP/AAADAAADAAHFtsat4g1kHGK6GG9n\n",
       "tTVc9/B3J4EexgAJPmKttyRQmNPCd/TTSC0DD5qYAbAHemLMQWbP2PmThBAkpcU1X1ZQk3SfJBRy\n",
       "A/R2jc6b+9r1OhaCswhian8qakY5C+0DqzsT3h5lb1p2gBPA8+qDC/zxVS6kAAASui4CPgAAAGgB\n",
       "npxqR/8AAAMAAAMAAB0H/ZtmKJiB9S2G85L/W6Fbbje49dtkSJobmTs1ZurygXqbN/wACW1cFtjt\n",
       "EHZLxXcObGjrcEYPds8KW2PcoXOqVNfkcDjKANtQwBTMnH9M3g1QAAAO4VgCPwAAAh9BmoBJqEFo\n",
       "mUwIX//+jLAAAC8e5oPoAAADAJ7SvcZ5qJjJ4h1TgA4qn+wpE+apkjJnBSNWljEK90SOEgmiIMRQ\n",
       "2x3Xp7AqBKk5cn+ejfhXtKPXbKHUvq4zlFxM5JUGfh/3vO1Wyqb8YcvaS6p+Afg3+p6nAi4Nzkfm\n",
       "KE5vDU0n2g13mc6Z4HQkHWxJQs2vps+fVBEDQbPEUfkrXnbncjlT1I61PhYXTVgBFfy3xIlAjRFd\n",
       "kcHNc4a6Y2a0wbV91h0t/DGRPTrCfeCFOeKWBleFrx5I7WBEkOtn8oNbcFT7wdVKhR//VCMo581U\n",
       "gVpb82DrUCgvebKsMLbAGwtkAXc6fOlOnPtrUZiodmhNopyfL8ZSezn8GLNgY4+QbzNdXZX9YBKL\n",
       "UZmj7RijXzZQXGzAmM/nEW7Go88R3PHutDCdmWzJXj+YKqThsFFXLqxXZ/RC6kIZG/X9qq9QYnj9\n",
       "b/jShbpfiPSNXjdzplI8GVEtLsSP6tOc9JRogBBRbBi5gYjLAsBu0lB+AQzKiyYl8x8oE/SemFhJ\n",
       "YVR6ttihbEbyvauukPOWOAAj3q+OYKyHYH8xaBwVzmqMqxUvtdADl0SB3E5FJa4Vh90UNznfjeNf\n",
       "ZG+O+kp5NpYybcLQ/FXzuAi0i2yrZYlMGGXKUWLYJLYesgk0Kgp6NsBJgK9HZ4zkT3H9DSwtqB+u\n",
       "JBdybvfIvcxL9h8ksw3h/2KSOHNLWJEAAACNQZ6+RREsI/8AAA7YDAQAAPp1M4bleszqhv62mcaB\n",
       "392zjVl1tI7grxjaQUPNEAH63DewOkNLErYddFWT0BtWh3xJjS0/pfjaL4gwbQvazkEAt5eMdc+/\n",
       "nNWwZtSPmDg5+OX952vaZr4o3AgcTSgMcRNEFUOEYZ7w6Eo+dCB4daQugwDWR4AAA8gSAHHAAAAA\n",
       "egGe32pH/wAAAwAAAwAAHmgfOHmJfouUMovBiFLgZPiwTseyUetYYBGaockx3PBOfbIATPrSn4Du\n",
       "rMDPaybg2yj/7shwd+V+35ouU7m3Cqx+cMkpItdQr7tuemk8NJfeL/e+m+Sk5Qdgd/Q22qXT6YEr\n",
       "AAADACV/IAWVAAAB10GawkmoQWyZTBRML//+jLAAAAMAAAMAADv+t32ule6O9XilbQvq5oAi8JzT\n",
       "QkIZVXUvEGJ7Wd7N8inhylyD4PYYtGDDhsX2nfpxvz3OpyzQ+KvIGYx3T49ojXOjYzejE1lwWsdZ\n",
       "qMjrT7CQJS0Y3ZIWJKIc4JD2pQVSCrApz/7AaF3N4+T70bXI/47sC0qI7+gEvjX+h/RP5W+n+epc\n",
       "IQ5tzQua6a6h0fovPwJGK5JgoyfCu7siivoM7nL/s3wQ89lDlwkCCOfBC4qU5ovEXQO98nQ43agl\n",
       "yeDQXlVynUYGcCg8JZOyhTyyl1OMDmMoOigOT9a4NKPyyjwKUfzAqPJpIR07Ncy60rpNUu7PVAn6\n",
       "C9f4SH7kynRAvv8rZTcyScKaICZI9SIN5xXg3A4hP0kuAzfCvlg4kByKSsP4sfcBryu9NMDksgR6\n",
       "xn/38a80AzNeVwXQp+oFlAvVQrInbbF/JFCsJzs2jvDnYnkc1k1jaHrcYNX71n4rolouGl3tW2Ao\n",
       "TOuBlVwAXN9rA95RwfroKQ2nwbquJf6Ix+eYOcuCBwbVdO2SMFk/QuAtZMvHTclOsEZeoWaLUzye\n",
       "zOeojwrjEfKH8QAHe309NJG14RnwWJUCMUys6AAAAGkBnuFqR/8AAAMAAAMAAthA6d2pM6oyrpTX\n",
       "6LClWNq7zN7kiofl8jz6qI66NWCzaAUrva2r0F8UDdhf+keAZHP+YaaT3olVw4lHQZzIOiL4ATBp\n",
       "1rRcDsgmVU8rk9lx2WIkAgAAAwAABd0AAAH3QZrkSeEKUmUwUsL//oywAAADAAADAAAPQgdbP/Wc\n",
       "EXP1ABxo5O9ABCJ2tWpCZxvmKAdrxGENFn3tUx6lh9raL16UnOHvNHNg4dV7vcnZPGLDYBV5dTYA\n",
       "WWk2JT8df4bI6WBWme9rtb6B8jcY70S3D0l7yY/glznNdVnaxnkxOjhp15EihwWXawsEo4pxHB2h\n",
       "uTnkE3zl1oCji/6/k0CCW70+l0Uu3zFGCK9xYeUZQVPIVJU4qIO2CxY/dtWiyaiGHCkJlbhi/sS6\n",
       "RNoHNkakbPGxC/JA7HPEEmRqxTrzBFYWWmPPqmGt9RJXuzVNja6SwBYH9lk71K1d8MSZYEdP/QXu\n",
       "SsamsVMBkhsCYRBOMtBuH9Bk1dItBTOxIqdvJYmoS+A/AsU9n1w04oJUXUQCZLcRfpCsFtp1gYS9\n",
       "RyQSWQyAq24wrh1o9b+POZ9DL4M4u5HVyN1kaQeC3nu0KwwJnKzJIXKtLnbQ8/2dOnWB1jPeNkxs\n",
       "mk0OZ7SMV4WnQhmJpDh3Boc2Y55q2dzTeSfSDpjxyro0KGtP5tpY4HF0M2FiNbAX2AACZ8LActg2\n",
       "rH0c3sskohnZ/9VmYlpU9ll5Vc8htZEbx2+j7Yx5ZpajEKIlSY4P/KO5xmXGlYLuwG34t0L9weYa\n",
       "KxAuyRFG19LT+SYeRLh+cXkAAAB5AZ8Dakf/AAADAAADAAAHxe7bbOZXFPfmajNwgnKKojlE9XTj\n",
       "HfCQE8XcM3tWDGL5mACcXxnLyr5OhJTv21jomJk4MTbhlVQKOJsipC/NCbxH7omb5lfAA3MaCm11\n",
       "FcOYupNOJetlz178hZk1jnDy60rIQAAAAwAEzAAAAbRBmwZJ4Q6JlMFEwv/+jLAAAAMAAAvHx8Ag\n",
       "Dbci0NyEdkSRoJxD8B9WN9/tWmn3dWGpYgZ0ZDq340covTs9YF5Fxk1VgxFYqbTkf9Aa/qXSCW2J\n",
       "/MTpY1IH0vcFyhZa2dG0b5fDsA0PhI3bgh6K1kYqLkunr3TSS2wF4tylVfK6xXa6hLTjWsCkV059\n",
       "t6YAzmlBktNeTbwa/+MLhj+DLKhVmFhZs2xzJ3nAG3BdCjvqR+Ai+spJuoldp2XV5sLk9ualTxpV\n",
       "2GD54MtrUdNJZkaJ9+p8gHNBq4QI1bD6zdQ5O1gTOcPx5aEOegc/jJeDgKp2C9VzNhOUBXri6sHs\n",
       "QR6TDE9PG5xPxdi7a75bg6bZrhE52ogpOMmd3Y7ZXgt4Dt5ZUDl+5kbMpTHxpyNcgI2xDVRn+cDm\n",
       "jmJZ0meMRDvcr4yXmliK7GjG0YBCC6gBAKyzGjZ3fRdWpOtUHTZdstY1jTGJqPBP3F83q0ZCz705\n",
       "w+GO7QO448RDvNWbhm2qs3/mBtapaRo6E/n+vQ0i/QOKeIdtbShmgRwaRM264sZwURoqktiwpUYv\n",
       "PsJeuJEAAAMAAFbAAAAAagGfJWpH/wAAAwAAAwAAB8MewKLO/pCX4WC6zrFKgUUt/3xGElHhq7rw\n",
       "VWd0+eLDOkK0zupJuUYDQs8482Tto8iDtjXXBTqhguH/dJt42/C4MBQALU6d9n+7wnLzI/QVRplU\n",
       "leUAAAMAAk8AAAH5QZspSeEPJlMCF//+jLAAAAMAAAwFWZ+wNfQKQpXgJ/e1Dfse+cy+Kbi+wIQH\n",
       "WXODpLSGv7Jv8aLQLCoDbFIHzyXACpkc6x673dFjYdbMUIunDvTct00ecDAduiA/s/BngEwvK53n\n",
       "tM1+OczsLcF4xOlhRI94xpVHJqhkC718qxep8u43oHTyntWaBSOmexSHTLgYwxNeI8bVaYA/c2hu\n",
       "ppvm+tGzZMxwmJouyEvj3VEvGlab3yQTHeip0hs6KEgAepzqDAj24cQAD1bVMkEJKbH9wlZCpylD\n",
       "9RX0NqkDhM8VqbnIZN5o0QPlAK6KoNsZpJQv3DiLsKZUzh6whVb38WeW4lVX5Hq9RqMaMmDm9C7U\n",
       "D7/cXOgjl+8VesXKlX1eWZd8KDiPpaGvTtyozoNI/zkc42tlYduCUbZzkqtOWrUx0nkD3KT0OVqt\n",
       "D/HTvsJlt0J6Cwi0cFwUMNTjNjoT0J2ap8012oj+s+9liT5uGJCXxO7R4/G+RJ7qH0Tpcur2g1Vf\n",
       "T2JWKtgBQw213YS9Ip9WUA9yMl6p8YIyvAhhtJ3kFAVETiHRBCQWf5KiOF2fDyrV33AXFODyVcfp\n",
       "O1e8MWIaD4BNTNeWT93DL6bxIJ/TF30as0dqISB24BDtw0B9Mpfwp8yD3k8HA50gnWttijx6Wwy5\n",
       "0mrBDgAAAKhBn0dFETwj/wAAAwAAAwAABPpN/gcaG50zCrdmdAGR6osLxT49WWl9yYY9/ilwaafC\n",
       "zT8qBhUFmF2iA0N2iBDwNQwxUDOEnAC2x/OtACu1+hGVm6da5q2v1O0UjM1l4Fi+5CA6padVn/LX\n",
       "y//uXorPdRcuMlk7XjJpkvPFUK5W18OYmfAs5TJS0Z0HsjlYWwRMDpOJTIkxd97nqzLwHigRIAAA\n",
       "Dh3uAfMAAAB+AZ9oakf/AAADAAADAAAHwvo6Vq+zdDdxwlLSvuvQiozcpWFHUXarzFhJDoPaYSBA\n",
       "c8vCp/1xDm7t6I5YHZJkxiLEzbS/llAfzsGceJxYpJTmM1JMP/cz+tgATqOY+HtGUVze9pYfHyGu\n",
       "D3mLEdvl4Up5YTyZW0AAAAgfcAEvAAABsEGba0moQWiZTBTwv/6MsAAAAwAADBe930IC6/m8gv80\n",
       "4wLbtHlm/y7EcTN8vD/ykDVWvk7xondcsIIz4sc5tN2FZ/veq8nXqSTLK7hrM4MHie1YzVr/ZsJA\n",
       "dMI0Ugct+QQKFT/mbM/L3Wb1vfdAV8u6pst443cLmGqJ6ulz5+gZSWTGfsoqD4prw3Jmd8Dsndyf\n",
       "ikkGJ4wiRatGoWuAgJ3+nm3RFwHMao2RPDqKIyR3CmOmIa+kmGYkkRbJKMY45bHyaThdF1BmKbiK\n",
       "YqjappYslcTp3JGnK2qsN2c5kYVqKY4qJkvwDN+O/uld8ji3zO977br6OePOvSo5pe4tcpmgte2T\n",
       "VFaWp6aor9aCIakllSInVcSw7eAo20KPDOl8DAnxe7JtIiMG37tShHo//oM2S1ylwhI5glVgdZWO\n",
       "Fe9dAA8ab7mF//3WV0GYmaamaaTo9rWLWBWSd+ExqLKXthgy0lyts1sSqj7C14Sc4KnpSs+n16VJ\n",
       "FfowmswGdES/ShditG3KvGGTGxwdl1oBPEdxnsLJBaMkVFBjfNMkJFmlDv8D+WcVmZ1vcU1axwPq\n",
       "kQAAAH4Bn4pqR/8AAAMAAAMAAB5u9fj1LJKSQ+mmCH9YUOQhJGg9HG+2kMz6WoOdNDdc8ekCWIUL\n",
       "p4XsuoCJjj9DI1ABnbeiCuCO73kJdk+c2ZH5dIYd9NW3xmee6hEMDnDs7BACUZoGz9nBHbCAdkqz\n",
       "eFU2yo3jX51YSnAAAAMAA2cAAAF1QZuNSeEKUmUwUsL//oywAAADAAAMF73fQgLnSoItxxQdq1fx\n",
       "Fh/1CAFTTADTW8W57bIwuIpTu2/j9ojrlDF2C2gMkME2//Uh/Omef73+4LihjFIx89D6pP/cm5Az\n",
       "jybn1ovwuyCQ/brR30+b9p6bv4R/RXUajCqQvcTDKgtCBtBd58s8Eih6fOMy5bE08eVeqsthJBJO\n",
       "AnbDem4hr8QJy4FXYOuCwotoj/c8iKL+6Xw6EnWTBuO5ZXCoBNMJsh9Krn8tsyyzQu/YXHUErtVy\n",
       "NXiKeC7qUZs19aeIrdGtgGIOV9geiZwpqJ3Vs8QN58wpAqHwvCNrs7jRJcyMZH72mx5KkJ6bJNMN\n",
       "V+B/yT4KM010gbQ01dtt93OA1dWS3MvAAbiT8wAVfOZJwfQAsl2Jkl0ZXcXXM47bzthxJeiHyfsw\n",
       "F3iDkeEFpSGzH54CVoASEc+nB2nqwDy8FlGLr5zHmvkwXPelIy0kF7V2+ZPFIyZnyO6TfwAAAJMB\n",
       "n6xqR/8AAAMAAAMAAB8X7+r8QsWAeX48LRN/YMAEvJWOg/YvJxHRf9nbsgfgejA7H4z4sSyxlcZz\n",
       "/iBsvbAP7zbJO1sfhBcuRD02cQbhE2vXY8PoZPjkYXwAEprqa/sVhTc1OXtSOTDihhhhDsW7Yk55\n",
       "qsFeEvF/KRpPXBrhhAFczjw2NcDxyWg0QAAAAwAAFfEAAAJBQZuxSeEOiZTAhX/+OEAAAAMAAC+z\n",
       "zgiRb5mb2dZXnfhAO7gDkFAX1fw09sNHvo2ff3w1t6HCYf8Q46+JqBA7d7Dv2l7Ck0ROT90vE41p\n",
       "GJl8JB0I/q5YeCg/kQmxy2W1kyiIs4sbHkcv6CF34owkADU9C6wa13WcjQtgE7sgVjX8zFO8j0Ll\n",
       "rwQPLJXnfw5k1NX1tuAFZgp4TaXTSP/8whw1d7cPOqBZdm67Y6XwjRzmbqpCyoP4u3JK9HQYLx2X\n",
       "jHlp8z9zLttKxLf3GIj/jtHjsy4epU8CYuvg5Brf6M4Wz7oV7My/Hl1M9FHct4PEjN1WU4KzCY7U\n",
       "UmfXJ8AvOocNwy7d1j11ogK1QloPOLd2icL71QA1OJAlUEpj3B8awLUgzmXPJmQAL9ic1Z4vmoHd\n",
       "cwPGLMySSADkCq1+jn7A9gllyZTZIsHnqljpeg7CLrXDjzlZ5ZxMD1BA8Y1j+Mksa1aflTUGwxKQ\n",
       "sLE2jRf1J7vB0aHcUjm6pxmYHE3P3vLBullgExITUWtC8FZ9XPzZDzB0hOKVI/FniFi+aHWjwmdm\n",
       "PVLd5uE+6/0ah1p/kzzXErTu2gUi+4nzY1qvdxmGmPsq1tGsnYbokMe+NGeHTZeSvPgfbiOHWMJL\n",
       "cASkbc52KFlcYFVd/3n371mmpPlv23YO9OsuWeQBW8xwwxv0vUeGmYYkkdniketKoNkNVSGCH013\n",
       "hL/PV+fxT8tU8EJDAAr/IosUkt1b1zAV4PBQpWSyxqhduS7ZwAAAAwAB/gAAALlBn89FFTwj/wAA\n",
       "AwAAAwABHYE53vZOmDuT+N/3xuqJNEPWIUBqH9uhQjBCo7MI/baZBz5TC1v/JWSsXxXNJO8MnX87\n",
       "iButmbijfcyysVWDVqGfVASYOOcPcZLN7hxSilSGuP/VRegA1ubT3RZdhvgq9QFQbgydqILuYABK\n",
       "sxDwjPHm0Ql+hj8Hzo/008O2YkS7IcBSEIyLCSN52LYZ9fo8F2GQs4SpwG/1S70RV9UA4aoAAAMA\n",
       "AAMCHgAAAIgBn+50R/8AAAMAAAMAAcSKF9dVfGFeXzTVILj1H7RWV4stU8XUqq2EyOUzz0ikPZqA\n",
       "lUX7D2PF4e65OWg2n1V3zSn4vcNLMg6/v/++TCnfC3p/BCBmBmwJj2pk/xmOm5uIdq0V6/Q+cE2s\n",
       "WR4AtktNt4STcUAJEOXmVJawJazeNbQAAAMAAAWVAAAAiQGf8GpH/wAAAwAAAwAAHxMd0dgep0zI\n",
       "7PZ7NP2Ec9C06kuVPiQUmZGPW9PjY3BkABdAAAQmty0WfuOk/bG8SYmI6SefpBsqX4MgPppDZFEs\n",
       "427pey0XweAZGWo8ebkxL+Fn9xN4ILMZPAxILN5q9RxbElitZerEbLPuFxYuLtfrtgQAAAMAAA9I\n",
       "AAAB0kGb80moQWiZTBTwr/44QAAAAwAAAwAA7Q4xdiO0EaACpK0QmonFDe4IbddxAIkjtz7fn2f+\n",
       "9MobUeSz3+Z4vmOIXMXb+AAe3shP+feOz5k/ec6ELKMRgWXad7gVGH5zZj4NrpB8JQmsmceEx9HT\n",
       "/D1vbZiep6cfVWT0PnMjBlFkTpLYdyO4fQOUcC0aySK9M9HSPFlEVjLfvYD9iFVxd2oIgNliVO1B\n",
       "PygTKlEY6xj6dqqBMHQVC1l6GJJQw5K5cJWcTFcCVEg7V18z0R06lPjF9fKG95ZvAhGIInGk2nQ9\n",
       "I/SoJ62reFy/scnyK9TBdKGFzN9FuJAAo4Y1TyiH+ikhGfaaSqebHvfOFPZ06j3k8/Jp4HVJdxO5\n",
       "2OkSENuc5G86tYeNilkqtjE8gIvPtPT85hQGW3DBzZBDHN67G6WSeI1RtvMXE8HCmGxqdrY/k+ig\n",
       "Ue9GpUX03BFS3LMPDruIqPaM0+oEqWdjhJdJxK7a6vbhyht2jOo+Hwgj4Xhya00dhw2EE3KTdRYT\n",
       "seEwPDMXmqhq/HPTmElnAIel1DEd4zHrwHTJ/dJhZN0XyIcz4eISe3dAjaCjYmh+kXPL8hBIR1oI\n",
       "pKwy4TwBAAADAAADAUkAAACDAZ4Sakf/AAADAAADAAAfEx15B6oKbVp/OYJvh4twZ9npGe+mnlwM\n",
       "SSOPgQhZjFAd3QAtwAAINRRP7868NwOdTeES5jwJKpOJzl4Z8WOYvZoWivB4qCWDfZidLhB/k69l\n",
       "/rDwwdVIIPFFY/zAdIIBTsK+shXRI7LEmQq8OwAAAwAAChkAAAEWQZoUSeEKUmUwIX/+jLAAAAMA\n",
       "AAMAAD0FtlK4eADeSysiqLrN25EvDf5/goAjrPcQ5/AAIjE5KJpwbteAoP6PHK5vQDaCKP4+wdWi\n",
       "sQAqmC1B5FswvF+5TmEHVO3DIGGF738mIBM3yR5ekKgWs2wW2hIm+lFBVmoXHG2DgjcfTcAo7xAN\n",
       "l7EQiRYr73gIxSkC/617Upk8jaQ5Ce7EYncyhNCiW/8keUoAHTdagIXCJCtpq7Gl8jyjx0IffMOT\n",
       "JtXjBYMLpvLNVG+XOes5sgeBsirVtCfpu1L6r3H0i2kQ93mngUPpnz4EHIpDV3Vjrpo90fI8wENI\n",
       "jnvfaOoePvXuJEnp8dJxIsAhMMze1uQpwMNzgS37ZMEAAAGrQZo2SeEOiZTBTRML//6MsAAAAwAA\n",
       "AwAAPP3ghRaF0UgACYBA97nNfWdcB683t495axJwZYJiRmkDA173j0nqZ6Ci1+tI8UbRts0ihw7x\n",
       "GopHJfJXFNpKEh/KHHI6lIw1qK3S1WGCrsgaZIkmkOPBlsNU50l2Hd4ZtttQCAPTSJvUfdaCEz/d\n",
       "RYgGDTNzF5WpXstthX8d0baxOfSjG5KviAAXF9MZXzcPV52FPb8l5WLftXmnBSXACrSBiAJ1QRPV\n",
       "NftF3B6X6GA+6q/lIbCAHkUNA9YMca4fyxzDyEzO8z89NCnbMGNRsXU0hBnUDog4hg7WFp3uY9Cw\n",
       "KFY7dqSKJ3rN1YUQPW/dZyrk6rKMjYlAi7s5czfD7OOcqXSIuc+OS5eYZ/l85wTubRKcwvgoGv7j\n",
       "ZbjJlVeZPK0yjAhL/578YDdbrsuXiRokUX2cYtnKw+N1BrFEtdpaX1XE/wp/TYEg6URsg26ulMGP\n",
       "lqTOJfdFtw+Oh/NX/mRDs8al61J99U6kr2NQmCXL6vAD/+N28RNRx2tYBF2MkcunxfsHnT9xyp8c\n",
       "jdz08QoAoQAAAI0BnlVqR/8AAAMAAAMAAB8aMXnWES4LpWyp25ISoLZviW7ENkB94q2qNuDImP79\n",
       "2uyxFe+0/mPqu7upkt8FYt9aHrKzpDqVKylHJ2N/YVS7kx1jsSJDfUAG01odgbvMVq2K4XDEvKGS\n",
       "EFY0ohEfvqQ99EYUp4PujMSat2IO8AVp+cJJ6AgQIAAAAwAA2YAAAAGwQZpYSeEPJlMFPC///oyw\n",
       "AAADAAADAADv8J09a499yz84X/wAg3x6UiY8RdRGlJpzuZ7KAFVaOy4T00n0YUYyVgs8+A5qPwMY\n",
       "vwVvww50tRQe5ugz42ZHiyJrGfuDy6sK8EpzTQal3uDcRxhhHxa9X5jEQQ7CTAPyvWyE2MaTqhb9\n",
       "6rZqKsOtHPnUhEuo3drN6t9Cpq+dr98NvCuXLsrc2x8KfUDZywuty/PqP9boekl/+eeb5/RT3Ouy\n",
       "Q2U/6tB47V2WHUDAvIK05fMIp8Keg31t/mHF8EuXNYp4g/18ohPch0kyIB1Dq+7DNI2d9yrvpirw\n",
       "jjbyC3EzHMiXOOc6jGzjFRk5eKqR8MR1OZm+BtDjjTo4u11WUUx/Wa2OvsGD+OUNybVwza9Lc84o\n",
       "SKfWcYNiOkDha8oJi1ksSW1yduQAt5AmCoO1XqZvTZDovEO2I0t9QhwyBKrWJ4AD94l5I/o8gSE6\n",
       "tP2QgVjf+JP795JJn7g3euteuGZEGW0eHgGRJWqyDk7NQpJhN9Zwvq3wVC5M86Wpdqyj/QAIbAgL\n",
       "sGZLtMC3RnpfeytgAAADAAS8AAAAhgGed2pH/wAAAwAAAwAAHxLZ7IqbLWdXeDF508Q95XHOR+FY\n",
       "s/ADxLcc2xU34ABYquIOHkH3GoKiUNAJFv/R17UtQmtzFdSMABC9JgA7fkbw42LjkZg2oierMArs\n",
       "jr1YYGaRiD0/bgfIfRDdwgZhOHDBI/dR6ypUS52XeGPITMwAAAMAAAV9AAACEEGae0nhDyZTAhf/\n",
       "/oywAAADAAADAANp73fh+vMs0EBblnCli+ikEcABNxLB0qKqB4lla0xRTtvQSFz0htsHkSAs9lCv\n",
       "Q6hSdf2Xy6SxIr2u6unBrCBI51dh7MwYTgJoULZn7LddqvkBTCO5ccbRVIOU0w+Pv8wMf6GZBJ6I\n",
       "3wAVSSuzj1k1gcpDsK65ix7C59kv+eEXhvDfmXSDd285utVCXjIFg+nkMcj7OZ6bcjw0u48rvW7i\n",
       "qP3PdzvX10oi7pPSVwFAlrzQgmEjG9tQGMcfGuws8DWJWAVCmGjJTKFaCSpme73VrH2wZftyhLRp\n",
       "GhvABU0HzQso5w/iJB6MVOpObNE5+YbX//RFaMqVw6k/oSkr3uMgqIRG2Tgy65pEU5zBAx06jsqQ\n",
       "JGzLx0kZk03VoHQcujNo4fZ5cmG8i2j1ihejCFSNAqb0jOXOcApRlF7ktiakXYvthyfTBbkk95IK\n",
       "y0wB6egJD4OCXUHy4d2zV6B3JpEV+IroMpsdGroryvltyMpfbYn7gXB1aDYi/B4+PPYxHshnnQMu\n",
       "byuQl74GWylIzEhzlJuI17ZF1Z/57MrTIsNjPTpxfZY0vQnFvrrm+U6l13+UqRUUOnGlgQ56ORzz\n",
       "1tPpdorZy7SCWrJEZiOgT4C/iVpkP3qFIslRhgCHAUGeny+8rFXhKwujh8sn7GpObp6waRwX9rLt\n",
       "ScQ4YAAAAK5BnplFETwj/wAAAwAAAwABFYFf8KXc/0d1epZxqMT0pj9d9o/GZwBPco2eyXyArWCU\n",
       "BAHBDoPLf05TnIZP/737IOfF9yaklA/dRIQgONcPNHu8ij2jMftGWemU1pah2h9kMxIF1ORDaPhG\n",
       "fdTUihhtEr3QDIyeYlLucLy9mjXbHR3PxWvMqhczRFicPqKmKukcqg2VtbBjx0G9KF0uKSeTTgC0\n",
       "1yAAAAMAAAMAakAAAACLAZ66akf/AAADAAADAAB5n/fLOkvV+jTc1vvUfPKMzCGi5gb1H0EoiqCe\n",
       "zUD7mdml3Bw0gew1ZdtKwHcimruc9MW6FqMynt1y9qSJ09dedFat2DVScdBa1MGnlWqdmJ+lhNnK\n",
       "CmXVSR9YAVV+DqknoqoEw+NCo9ma9j/6KKdMXX8KxuAAAAMAAAMCpwAAAftBmr5JqEFomUwIX//+\n",
       "jLAAAAMAAAMAAO81QvWEmX39ACFNPx6TSLiITGS6CBnjsup+Q2IkBO6JnqZgkeBUB7d9KWCx7GHQ\n",
       "RSjdmQSx3eOguKn/eL8rUBuxwort2IFKAxsi7CH8Hhdwf+i1v+ToD3EPzaXBrDIQUrmyG5mAKVtR\n",
       "1n0/KTo0+PMww6ZGMalffkqesFqi9q9rw8Mz1M7NvCYeXs5Ao1jYgHAo9aXnBFX6Qo9g6+X8LT+z\n",
       "cU23iVL3LqUTkSduB8ydGSRKHI/GdNE0ReH7uI62fQ50DvSK8ZcRvAx7tZL+52HhE6NrRYvQcGvp\n",
       "FDNJ/mA+HLGVXAx8pKVU3CHx/YuY5+fvmgItKgknR0TD6OOx/h8yDOgv9vxpEq6N1B6whcDiEroe\n",
       "9hd6CRtgJfkgKevF0OQsrb1ULDIg39/PKAMh97aWUOHkG0OExvHjLM0A4uxgal9e61GgbJfUBa+i\n",
       "PuRlasVMYPh2sea1K3BbEIFIL2X2mPzEhGztlNPR+DRNXrmzNfJ/keyHiu8QMRizXoDYGQrFZCmJ\n",
       "DBJLkrHHbSfn8Z3YC8AExM9ZY1bcP3lJ5w76+RfQLJlKKdoNGrvD3+TeBbUHoPvWS95I5s1kTWJY\n",
       "jLrmdAxqQyvo1OJkoZG7vWXcoEJSPC8yocC+6/kIsh+UI9x2fYEAAAC0QZ7cRREsI/8AAAMAAAMA\n",
       "AE+3PG4FNpwy/qMCiIQatgJZkisvBnRmNIdx+bMHhu1zHbAyEZzW3HQAtEcQ/RmBE6MRsC8wyQ58\n",
       "eT+KHByq/1GpkooPQzSYFRt2ujXWemhZqFySrHOQDxCcFhXmr9wcv5Ep59HE25B5uc4rxzZH3w38\n",
       "Hhbt6QVYfu4gfCNfgDtlEG5rcBDfWENdKV3sXoWspx+jAgNmvKJLPctAAAADAcNKAIeBAAAAngGe\n",
       "/WpH/wAAAwAAAwAAfDLcF1ABjW2r/ALGhfXrTX0Ty0hG5pwJzPttSv7Uv4PS1L/nRwS5U7WIugAB\n",
       "eW8wVJVK2PAaQey2dXZ2NAJjy673VgBcMISz4eNcN6240yII5LRAmlKku/KPmKo5JBOIcmO8WfUW\n",
       "i+cOdjHpEJSBdILeLbTEpmZdXmvc4OLE6Y3whnsuInQAAAMAACicEAj5AAAB+0Ga4UmoQWyZTAhf\n",
       "//6MsAAAAwAAAwAA7p8jknSOgAlvYq5bRPagqMi5Xt3Kz7F1GgNvTOgf7y9ZzJeyhaGhSS9xhdpz\n",
       "bGOBdFjpOkp5vnpoeUe7rVtIix3lDzWR6TUn7ISupT0BPGddo54z4/eiRJ5AnbmFMKpzaGLifOvr\n",
       "rWXebY+fan/W1YCOb4LdgkmouFBka5ebAYXahwObd007rhdn7uBL8Q+3Utou8IXNlBz3sOs0Xh1x\n",
       "JTGEdp6+tJhAl/XMo5cmBfHxSgR/nBoG2SLtY/j5GoM1jM4J8hT5iR/dxzjJmHcTc2zIYZKmXCb0\n",
       "CKc7FVhtYtvs5wJ91lXzQJHXMhRmWqiC9siLyL/4u69oaiwbTIzx5iGS/u2LG//C9rSIx9zMxDZ+\n",
       "Dzb0EgBwQbSi6LWCe/6kLLMUv8+BmNQ8B3M0gTEm5m4+/1qQDE6Z4R3a93pGuC5QEtSHGpZx/zB4\n",
       "GLDXQcTCiszRZmQxfx6ss0fcdEG0kxfjVqYrr1B9AVvaygEOtLM459DqnOgRuok7ZVCfsEeLYJM3\n",
       "nDWWMK/wmz+aK+MQqwQzR6RRj5uN4aXUozSgOR/ZgJ5XNqxhxtMtmVuaEj4aCDDT76MfOAyyjR3O\n",
       "LqkJTy1ef/pl8E215Q4eWro92v6nNDkAetFJGoighgAAAwAAAwDZgAAAAL9Bnx9FFSwj/wAAAwAA\n",
       "AwAATT1l5+l5z8AAlxYl36I14vSVOjPukZQVmIVeO24G8sVru/N5UpMl8K/hpV0sC2ehCd0DyY8V\n",
       "56y+0eGk4IUHo9gPOAnBWJbEDC0Mdjk0DGTUsgmvVw8RqNENF3qQrKBe+ZgXC2Vle38lRfa6U2gs\n",
       "GaxJTBX7K5Ts0MbhviN7++NtgEcbJyblwwCuzTMZK2bMwhaObvlLVnXIcyT4LpKsnKvjQVBY2VIA\n",
       "AAMAAAMBZQAAAKYBnyBqR/8AAAMAAAMAAHlnCAtbytZKqCugU7mJFVbpXQzAtYcTgMsPFdv4+jXM\n",
       "mpv0zQEtAcBM/IF0AEprqIZCZ51K8fm4GmwDT3oXeolkf3ax7smiwsuLYaWrm09GokDAVsFcl4QX\n",
       "2iR3BgHGqbhHYlKqYGcABAPW+rHHOnBatDUrPOzn96CkDpWs9MdGfCmfuWuO1579vPuGJUzHAAAD\n",
       "AAADACpgAAAC00GbJUmoQWyZTAhX//44QAAAAwAAAwAOd/FwABKbb6mGFo/GSn+a/BNveYuSVaQN\n",
       "bJ+g4qKg24qdiUt3WSWcGyQ5wcbsyrbB/uY2l5LFzd35qHInrjn8pIFyCS61f5y6Jdk58A4nS/jj\n",
       "xkV4AJbAmlJ2HU3hguW4Yg9UqtRlb1g1iv69E6u/PL4qZko4xZoZ77p2DHjtHDkrhqg3HUGlScau\n",
       "k6+gH3QbjSPo1P+4AiUEhw7532Z0Rb4SREg5QOT0RFSq7qvwWlAJYtiVMHF+Zzzr6YL4xkGwrdao\n",
       "iqig3V5bsdM2GJ4ffBdIIQDu+Y2jNP2qX7tf08rKWZrIx2qwl0vhYw8KsxiQjgVZ/l2tMgh6/WgC\n",
       "+opICgWU/Pt3UrxKt0QG0+ucXqjuiYX6HIDNH7R9TStRdudZVxGa/RPc9jsInZheTE066ZVkvc3n\n",
       "+c4YGr2BugDc1QRjwJcCzEfPxoWKmGZj3K7ivOkewZ/NboKpqB5Gn6bNE6t8JLVhKshoVjfuOTBD\n",
       "hc6aIS57iLF6T+X+EFk5odSGYge55MhYtwyLtMCGdOiPaBPs7guqPy182NCKuTwCMAguHB7i0r4T\n",
       "PmE91mHDmFSFd1p6rQoGTere0jnjmEgQswl3l7wZKVE1V1eTkbTGm3mGtCQzJz07yxRPfJVpCrII\n",
       "vAzAqKAcXe76+bp7EIJmiBJhw0Cq2MRvuGalCgpKC2+id2xOMG04nuRCWZThkEgozuTX+Ftu+oPE\n",
       "kTGZBQp520qPybAkAtZh2bsfoR3Bl8BChM/9XJtoqf2nIlg8h6DLIslUIRRWZdPkIewf713UyDX1\n",
       "z2ouYd688EnrlQr1ymFLw/JQ4hmCEaEUn8se8ciO1EolU9uaNEIIE6jFUijOrLRzV9B0f0CHuqRi\n",
       "+GGMOHSk+oKSCELJjJJqJrKKvAO64T8ZGaqmU9sNW/TWaHGBseJJISU0mrGBxxa24QAAATtBn0NF\n",
       "FSwj/wAAAwAAAwABNQ1mhSCMAEsMX9P+E1JxeSe42t4BrEYFk7qhW/qRvMqKtv+yYjHnwnBBReSc\n",
       "DBwaxgdbD2TUo+QOLKbVsSEi3ocPQy8wFL7DUu5gfVk2+7KvfMl9h1Hxol/rqhTTQYKiQGFf9JEg\n",
       "Q0U3RDhCSRbc9D+e39E+C2t/TWcssDTOgScUCI5BBfZf91S6vYPyKPKSuylqJB+RiOD33OaWGWGZ\n",
       "ulZ4z20ILPwrUzqgdx7iJ1sGNS8nCuTsqmwwi5I2rvNhFQC5X8OMtON1ARbRzK7NnaYaM1anU09+\n",
       "mHP/5gFKpXovvEUaV/2ftxOj2C0E7jSVemv/xkCiXe3muRN3JOys8c9BIisSFfw3mIs482dX2ceK\n",
       "GCiZ4Ek7E9BDy1kDlm1KvgAAAwAAAwAAsoEAAADIAZ9idEf/AAADAAADAAHlb5VtuAC21gbWLtZf\n",
       "GrGMwlcZ2jLzqiRulUUHU/9kWQEjnve2dGxOiDv1JtQoc/0EAUyFJ370A6FnZNQR8p9HdLd6CzUm\n",
       "GtoCkeyP2IQSswzfzjmMsA7aQqJaVvALSdySYkM9lphtEzz5hZpOzg66j0NatrIZR7LAHF61COgn\n",
       "RmWtX1UkbIOy6nfKspWGtTeWGqCoBBdEYXhYB3KhxKXcz4ADVuGSJdD6uO/y4X+1IB254AAAAwAA\n",
       "FlAAAADFAZ9kakf/AAADAAADAAHmZpBTcIATQCEuNGYpmPyBWWPfG9fLNYAs9kEacau+PtSVTA5p\n",
       "4yS6kR4IAAni6ExpsgKW2e4+FBDT3N0rvWB1JkZL+PMeuapClnUsC0td20NvafYpIZtCPU171lZF\n",
       "e26sIYnfXiUtcIKTNS/LyqGcKb+C7tO1itSoFVUQsujYjJaXumPAMstuuAEz6qBu3vtiS3cPnQaI\n",
       "2jgMUFED0A/wcixIo82JI2Ekztp4nWAAAAMAAAMAtIAAAAIzQZtnSahBbJlMFEwr//44QAAAAwAA\n",
       "AwA52MBerU01vb4pBTyCgAnWcM1eBzA+x1qJfJEftMCh/A2sQy0gHIIsw6VKcqw2S6SlWnIzIpPx\n",
       "8kxuRLXztqic0vVhcpanTMee31+ev9oaw+JDZMEfLjr9v+ar/iRiZt1VCMicGUdSrpcIaB4qnzjx\n",
       "cywURJgTTiMPkNMIZZs/0Ys2nmhLBQwYmtOezwM6tU7Nh1c4fnLAW+T+Pd2uxQ1BF0GAp3n7es0D\n",
       "DtaeEYel6i6NwsAEoSMAfx8106L/8oAI6UX3OeXbfC5JYPmrz666AAtZP3pkMrnk/C4knocVLvzB\n",
       "DZqpgR3GmYmgRH7EEHHG216F9h56VpnSzZlPOGhWP/e+Tj1rbkgTq0OeHh/Ohlp7Q2uNIK0O2onH\n",
       "3XOnv9vz0WCZWUOtPxhTxW8Wb+dIO0wwEdAopMPORNWbaRM2NX41w7aPl1JsRaOScMxjFzfTOiTr\n",
       "bhstkFqHCJwiHIjCNsvRmgm4aqlRD6KAmnEedT0swYCBNHLKym9SIS4+f6BkvHYYed3/W24ecedT\n",
       "y7cOreTAP4W6VImjBI98J54Z93u9Jo4LSw0H+9c7YFGWJ0NZNBxckrmMp9ibosrVeSCA71w7wvE0\n",
       "XbXzIP+tRTnqhGehPFV6/9iHgjT2eWG6rwdTMBKxBiumZuhpet8wADPt9oC8bm19U5Ep8GEO3UE5\n",
       "5/p3zxg1QKxej8vfzX/c6HbnnOo2e9YVdNuy40EAAADwAZ+Gakf/AAADAAADAAeZmkL3f30MUwF6\n",
       "mYwYCHhJkaugATXpU4ZDTnrQxtFzoKr4BeApx9ChASiCV7kx/CR2oj2328atHIERQ4Ws/Z5TWh0u\n",
       "twDH7pcFdhFop54AWFyfAYxhucBBoRiMHwESEsmZfNM2Re1q/lyz7gyzV8gOFWpMFVVK9jVQPXLR\n",
       "ZpVOITKVgf0AlNmwuVP2OL0pjMgj7rALcU/G6dwWacImScrRbDokWAeS4wwmTbKLzSqIAjQiza40\n",
       "g2wNqoVEzSqDWB4gaDr6aGR8hMGQlH6vm8uy43d+Vi5UnagoAAADAAADAMqAAAACLkGbiUnhClJl\n",
       "MFLCv/44QAAAAwAAAwDi8HAvo57ABB5/Htl/4zaltzrmdQItkqlh0wa3U7JaEOKGljPyeLmB2+A8\n",
       "wgpFtX1z8ZA5htSrqtyInmRLi9CtwQ7prAb0P8xnq1DhArjYARLOhTS9FJBRrfE/22EaQFtwz55m\n",
       "Aipa8bbsferFyT4aOcPKO+5yefUNBNtJJlLRAAos6rk1gpEwEzAwnubx+UVWEp/l8AQfCyOKN9Hw\n",
       "S8s9MTeOS8GlmWxEAlPu7s5GmPR2lo3GPrmHWGJnKS0YD76RNVWgzOZij8X7th7Nz7ZjFCTk1ykQ\n",
       "NlF8945lCWNJUFH50+D7QL8cF9adARsPfXpUCIO9WuvDVaCrqjDfWl5rGqR6lFtikzU1jhNCKHJE\n",
       "X9Vrt5CDPVAKz2SrdCkCo96Ti4xTBsgNWPNFogqSCU1T8807e1Cw6aQDvjRBhZA9DG2w2YRMAIbX\n",
       "VtIQyK2irnkvOypp+wCCc8NNIItFR1utfu6Nst06EhOKI3/iVUUl4K7rZcz0QcBT2nolj1ZwnQ2+\n",
       "j1hYfcRX8ihIhGlNwuS9DmOy16dWbrVJf9AAoWfdFNdj/XTiI8FFUdkWmt2gOZZdMmEdDVosPBcF\n",
       "50b8YZySrOvchYuIvHxdawBSz0ns5utHMtcyCfdwUeQN9ZXLEqikJI8Tule7cGV6MQuJzzCl7YRP\n",
       "SdCwDd2NrLHou6cNNmCCwokpJTnwPnICKN70MAAAAwAAAwD2gQAAAO0Bn6hqR/8AAAMAAAMAHbfp\n",
       "ba2yh6v/j4so3gAB4XSag9zCxTIUGYXbTfnSj/uKRcnesb99zaJqHwQFsWsSKfRQ9+skzylMuCBm\n",
       "In+pZBFu2CWLAQgj4uQVir4evdiD8vUyrqXuBorW3YEXPPlXcoi5vXTgyNvHapJp8ikPs+KCZCdG\n",
       "fg6gbzG3jXuJy+poB9cwmrFq/46cBZ1NVki5XKu2aqlOC3hr5k6jvoAp0Lb+n17yBxSwXZ5JmIvz\n",
       "6+A4Ftl7qlqZ2GzWBxf3ZAzgucO4e1X0OGV60VLaFs9kOHsGPu0RnW7BgAAAAwAAEfAAAAHaQZuq\n",
       "SeEOiZTAhX/+OEAAAAMAAAMA4yn+8GBEQP3QgAc5FmzjG/ixqk9DdtWFJapqK8ehQ55wkQY0X7ee\n",
       "Ywz0N/ntqNdhMgtTq4B+2bZsMbAyd7hBwDXCjtmS/icsK1WnkQzrFGHHoPjzNmlbREapDtHHEaiO\n",
       "R6bnl8w2U9l2Gps9Fj2wOS/XyXCEf0+lFGVv8KxOJZLWZw66dXZeMUoGUnHbxomd6yREBbDn/8DS\n",
       "+m16iuM8X2+NS5IPBxvXTdG+HrGrvThdShpos5wChToLh29HVw2601Qxjn3F7NyImKvX7xExUwbn\n",
       "nnpIjzpt/VR9MfiEmStCJxeLSvYKuNE62tv6Uyz4jGA7ifNBxjnzDzf4MuxHeBKRGaS1vHYBcArv\n",
       "3BFqs6sAih/pQ/kaad6qiDbkMGrT5DZCplRJQySvdRnz0KBc9CEHiNsymX0Uy/rwMb8evHZRFAv5\n",
       "MP9btfBvWoZIzr6OZ6e4RjAIdqf4oPQgu9H8G2wuGnx6nxUlW689PJ56rPxIUnnFK3oB2ktILp2s\n",
       "2GpdJeK9rompIinT7yO+on5UNg4I4ubPg3OelhQd7TcMbviV9LglV8y+X5fGTMcfnjJNxU14eQkG\n",
       "FEdij8OtGImPZT64w7PxAAAB+kGby0nhDyZTAhX//jhAAAADADJ8ciAs9GUfwdD5n52PjkQiwgJT\n",
       "qAt6XnMmPKacX5yQNHWSTmvce2xAMl7HgFkHxV39vDQgKw7e99imDMJC1o3JDRLP7yBWuGNPOr9l\n",
       "dum31GeMGwEa3PkGQFqzKTjrcgJAwkkFqGXCprD5dRQi7tRVytVYlfSuZCYmSorngTjgUkDLn5qe\n",
       "jlbBZeMiBuprNY7jAJ7Enl0eKG3ns4fL13Z0S1WvqxLiamxNgXZUmpUESmi6Eb0YHyg5A+ICjfjy\n",
       "V62LxJLjkO9iqzAzjMP6V4mF8dm+Hu2SXAZa6ypaNoZFDiRtwaBK8lVrSw7fCbva7UocAHAzRlr3\n",
       "4Iwg2ges+gi8v+gyYkqv+iW+PSOAQITF+zRTNpgvf2T/9ZPqVRNoG5H77XEOOxglY2RpXrHd0Zw4\n",
       "Vx/pzkzffq4kjTQwaZ9Td1SIHMLYvnCir41rMNGxrX1ZTr5E/JaXJ8IlAFXJ61oSYl/3qX5Oj7ww\n",
       "/CTZTKye/3PpjZBX9bi7A/nbXQdoDkM2MCnJgHYRMsf7KmN80tlj/SNbJqUibZcwnLe2xpKpendW\n",
       "RE4jsD046hmZ8dDsiCArmQC39VmxizDOhbdsQLTWRbDIIY9SDUhq+CEnq5BSVNfQcCVDS2on3/fk\n",
       "qyuFo1n1YPHvPSV7AAACikGb7UnhDyZTBRE8K//+OEAAAAMAMnqpPNnRoKfv+BiCcBJAgg+xcmGD\n",
       "5bQMczJTs6NYGsY0LvV9dag/cPm+XqEVLLOxzlZsKUwo8H7uolqlbe6Vrn+N3gIwuqvCn9DQhdQ6\n",
       "hzQYOnfcaTkmSqxMLegogXBR9W6BHTJb7GkR0E5+gLmf7CxJ2obyyj8Q7DeaiBpCG+aA5d1WGul+\n",
       "Mb2TAnancEv9qoSiKugF4pFsxtbk+E4gMVgrzluxdwBO0ckdun0U5cbKbIM7RA76dQPYGN2UH95B\n",
       "xfx7ZFi7Wl2x2c4wk5kJgY0lkQE07gQfZZsUIFguM+yo89FF2XgT5G2Jt7iclEQRXQADYiFmznHL\n",
       "I3jaLK42Ks43NWcx5E6++XTdm8Di+Jsn5KIrFN5sBrrIpxeTrMxongfMoaCxbZQOETEI2wFVNskd\n",
       "LedXr8mDhVYefnwVQ0DQhE9zKzGJ00kvMNa5f1EpQdX6b3A2hwtTkh80mULPNtbqBn0cRAFDyZR2\n",
       "U7vggRw6GGmKuyG+3LkpqKbeWNVFpXCh+pKHaKovLpjEIlpiXHjrX40/dp6vHXezk0WTgkIgS7FM\n",
       "+GwdcwfVt5Ud2Jd1wojE2PwHeWJtOJW3ZwtDM5oQ2wvyFaKWu3DSgX0Vn1WfMgraRJqmaSO/dtLU\n",
       "wIjiTzbXs7QhN5zL/DphBMiI+pn2LpRRwxTSHZ/IXbLUrbBCRqA6axw9ZdAj6anmS3MSLca5ntkA\n",
       "JLrQhF3MRxlCnX1hMe/vz3AXp3kvZeN60TIuILi0cON+89bqYsuWbF6IPf2JK8oTvkclyBNYMLPe\n",
       "w2APFeA3xfMD9+02J8y2hdHrT0Df5gxJtG4QI32fwAAAAwAAAwEvAAABFwGeDGpH/wAAAwAGck5y\n",
       "mHh1uFgAC2dpON0T2+3rTM9mpmpiwjsK7SfMkXjDWCPQ63EX6KGPX8hTfcmGrBickVjHQUTiBdDn\n",
       "7PvfRxGS0lso24ECBGyiH9L9x6QSsdgkok/S76QXzMXToIZ6Xm4s4ExmU4WvOLPTqQqVC5SotqOX\n",
       "njEZ15yJBsQRzVo2f5RPj+ySIb+SdKHVlysCqj8lPAF05X9t5h79C3YaFJzIfz+6EBR9kF7u7rKs\n",
       "/k8BHZMnaC73zBAl0HGYX7hQusheWAd3lR2BZwf3dkXkAXI9lz8fxKbo11/10pVzjAqIEswyemFG\n",
       "ooY3p+4GItnGgurZnsPyArUBUdTVvGHbAGewwAAAAwHUiwAk4QAAAjtBmg5J4Q8mUwIV//44QAAA\n",
       "AwAyeqk82dGiUCvQqQqmpUJvmMncq28knGeC1kVreP2KLIDj+Or99QWkdRzlaBNIwRX7E4igtUxc\n",
       "+Eiw0qVL7BEevBvybBfPBPjgISvrpjQTGWUdP9iHQ8NzGvEIigJ1J8Rm4xYVtFjk2HpMd8qU71i3\n",
       "rUIPtvgS4PQYNQmNeIK5givxG69VAdrE+yjRDr1JBRJr0CbbiOWvr35dUUJBDdNMJhB8dWGOl7x6\n",
       "T/tEweai2hkUWoDsgkaa9Zarr4P/y7guf7C1pc+L/tvCaT7NCfettgAomj8yz7WYJBm40VbNXqBD\n",
       "ZODEguqmNO/QjSgTCPfDsEaRmg8WLtyMdQU36cCQZ7UAqo/SKMuVXu835Cs/CgjvifrmCjC5h/yk\n",
       "GVKiV6+KRsoyAXU6FhQ7RDphKE5CGQBCGdtv5WrCjIzSMYwfBJmr+ZkpN5UdPxX1CNTX7M7qAjrc\n",
       "baVXDiEsRU3IowWUw8CNOdZ+tRfh7gts4Z8gvmRd+Ul8fGXwPPccMmQa+np1E3pJHC2Uc44smw0e\n",
       "fj18mCVg1UbTe5E4WG3q0F3R7vzTpO+nVaY1yy0xEBasHttXFoXkgFsaDPpJMl71inNrhE7fBZbQ\n",
       "RL4vcy8svOR6TdmXia6ocoj6b32+c5cbqrDpGw4qeXKai0a36CH9WssfRBol1SjSCszaQLoq58CY\n",
       "qBKQKfsFjsZs+w2HjJKj4Y4S99sxff44pdHuhJmLqr8XjAAAAwAAAwLuAAACeUGaL0nhDyZTAhf/\n",
       "/oywAAADAA0GtIySK/gkjALlElppQqczR5u0n98iN0k/VgKtv8NS11OoAWjXaPoLrFs4RZR0rVIQ\n",
       "RGqiKwJNnvcQ1FJYrjHLLwPMCGyDpIT+qKJ2mT8U5Hl+Rt6Y4I+N6G4FiZoiUsU1YbavcLcyu3s+\n",
       "xnq9cWtHSjH8aWb6wMKs01eHfBPYcl2hwDpKv3pE7vnwOHC34mFqoNGYRcfAhTXZXB7ewfWbdW4w\n",
       "J8MJnydUj9A0STprltBswN5guHr3kAtvbe34f7i2sNK2ke1BghSb0MEC4c3UtdazLlfvSjZPcy49\n",
       "yPc+NRLkiV3M4EqeMd4JdLmWLaNnEU7faZDaHsM1Y3KLw5SlExjh9hhuPkRpThuM7dkJZHQw9Ti6\n",
       "gGtv/JViLel886Bx5xGuz4E7Q8fM+1C7mj4jFJd4gUUST48UFWy0X3YpNV3P29AsFBmKxFNvya2x\n",
       "m0AyqcO97TBKoW5zdg+M8zrQVvS+Cu6dKzZchpHojMMxvoZ/CU/5nG36v2WLCeiZ63QJBM6xQ74g\n",
       "PGXq6tOVFg2IHuE87hqJtiY2KwJAMv48livAqRpv+wz2/v6j82VTSFwuJ2zuatsjpTStLyqt2L+V\n",
       "8uNEY46zR6ymXIyb1zKFfUGP/+FtHyfAPRb5gZ6zfW75G0hNMxPqq0rYyM5atZ2BzHif7dOOUKuN\n",
       "uFDcCSTv59sEJHa8Q9FjkULLRYd0jE4XwShsU40QqcGNrfV2SdmDTuCV6dbTSo61dD9ZeWnwouko\n",
       "lSUdF2zXFOHK3RaGzHz+tkxhjYhQ+ZDoGcKVcXoABSsclSA5MtFQ7IdDgAAAAwAAAwDZgAAAA6JB\n",
       "mlFJ4Q8mUwURPC///oywAAADAA0Hrd8w2YXpK0CjauiUyoaVsOdkRYzRns5fV6EV3wqq6CpM2gkM\n",
       "PYpe7khEiMn/1tsodmuj7nccMETSyPf2ok4J1k2UAxd4CWhDe8BKBLZiNCoe3sm0qHi8LmVlMkV1\n",
       "Kzu8Tke6zSPTPvxnpMK9YCMwBA8bP9onemtuPIqjBCcCd1RksfTxRKPQX4FX1DIOWn8JPQEDWIoB\n",
       "ATXEgd1gjI1xGyc6331OvvoQny86ukdKPOkeo+TxHm/44l/GXsG/mGDVMifr3Y38LCIwg6NadLn+\n",
       "Qlu5LEMrEtlv6+aO3w8vUaOx837yeZrLQXVt2PDrvSRfmrr6QxgARa5R/yAr0Gb3IRy/Se0In5Zo\n",
       "+Qkf91879iSKLtxWJZOljlz5/0Wo9ps1UblYXPKIU8qIjeSNVW/tb3Rt/Kd45SM5qC/ziueHO+j3\n",
       "DSBBKidW0Xdff6BzZnzZJfE5jxW57MpsbUOeRYACsOGfIG8tVFF+QwgN6ucQI+wznawBaWZxT4vS\n",
       "1qclYmbp49xiGRLz2UW0H61VykfcqsDBUDLNF/aA+07//ZEe8HQFvLBaQCOzLobRAuEw8K724Ebj\n",
       "I9qxrMVOD3QpMsGbFTKBJE+7Fe0pbtrUvfd72uTpK1UI6n+mSW+K8375PAI73mctrnZipEne6FoY\n",
       "pI0Mya2bKN08KMSvJroejhiftnCmR11ChytRYmq/9f2lVmElUY9mP+e/ghr6X9Jpf+sDLOaFBevu\n",
       "QzBIcOABUtxaADkKEhJUHKABGP3+UJqsMio0KcdNlLJccdjWvxO6QAAI3/F45XMMvb/B3/CZhaP4\n",
       "x6eFN3VS3i+KPXqUCLv2QwWoai0IbrdDi3yfkizbhGT7ip1ZzmnuRUEghqWqmcaTkwjgSGNSYWzo\n",
       "e+A+W/j9Z5Ymunr2L//xHNf8TgdNpPDNBgBcyjyNBnIOKM93QtzwNcMOUouQKtFdtdZiphOQYior\n",
       "lUDTWhekA6N+anlmShOj9wkNjI4olXyRyBCoO4WD8Mpr7/CJwsb0D87jKdD9zqp7pYyjVucrKNaR\n",
       "N1hnBW0quQgejpZkcCJQymkPn5SODN44FNiRPkPhOU5wy/krOKOcucYYF66if+S40hkdrNHoWtiA\n",
       "0oDLuKwmlygu4Kvc0SIKpUR/Jp+atCi4Qak/GQTuHk2Byepm4sL9NlUz1HClcmRQ5UBf0vx4Ox4+\n",
       "jN4InVKkDEAAAAMAAAMAMqEAAAFiAZ5wakf/AAADAAaX65L7Yt3zgglzlp3HQAlV2Dlz/yfpqzU/\n",
       "SgRva/JISc2wLU1GCjj8xv1btHP2KmrZA4igq6+diUX1ueC77l1wVuZF0SFBcBpXlFXwyREwj/pd\n",
       "lBv69Dy20xIGtMukiNW5Oo8pSegwiz087DPJ3SuBIifM6x0NQ55OfnGssnFa4rjAq+Un1Mlof7jm\n",
       "ddJupaa0yg4b+Pq1kB1y6ritNA4EBfhhpWKofM0lNHnuZQ6k3lB1rvEVZV+8sss35LyLcDQonxTr\n",
       "TcwRZXl+zolOj8qJxYGROMBMzhkDtolrJ89t5gAwCHaFBFPbWkqTetcGaq8U/mrqKhWelcKL/TCk\n",
       "keuMwUvtWhE7IKvci8ckXk5oJQ3Z7ArPjdpy6a8pqmDHMtyy6+oIhxoseLT6ExlsblqdPr8OqPir\n",
       "jhWb281rwlmMChSVb73o85aB9fShDnE0iIAAAAMAAIuAAAAFN0GadUnhDyZTAhf//oywAAADAANB\n",
       "rSMkiv4Am7B8p/Y/T00515GzW1s2x2Ay4umsdVcAb4tYdVveWifdOQ808/FWRM+XAJnUiTDEtX90\n",
       "NgaSdLR6hbHZxfmtDJZnMi25zu6Nt3xEApz3N0RZiCOQHYTPBUbHNQc6hF0NuWj8WzEM9czKi1mi\n",
       "9Nam30sCh4nR2UzYWzxYnGvrzI/Cy/7CVt3wZ6w8OWcNB3w339pscFKijUagyoYHnsGlHWLkRiuk\n",
       "svICwsV+v0FrJ/+0wKY4sYsmnmo5cT0hsX9vjtx4Kmc7fVM7c7CFEmejFlGapy6w6fnI0spNz7ll\n",
       "0KPUurioGQ7x8ePG/bmTOxhpEGYE7voMgF0fj+W56vbDQFZkpdB0nzkFmByW5d6KDo//UswdcGaI\n",
       "95+oKTfuYkazZ4wKl+e0E/6GoPzy4OI7xyXioM2polaQvcH1klcl7FU4mCU6UPRaQ1/jGj+cSQEO\n",
       "X4GJqn63XFC5XsxcNekLkCYbaX0e1MtiSamYJ4dusPiBeOJXy7CaHA2Vv0VxiSr6abVdXcX5Z8EM\n",
       "zXP3r2ycTgancQILv4X2vl/rsNWZmoL+q0c/Eh9MxgSnHkYXPwfraqOmlBOh2kutSTuz878IyOQi\n",
       "e1T5XvkiakVy/k1ZVfWPsb/wKjPd7/zDVfXdHaONVVz8Up3ceQdx1kOgd9uUGaRwsoKMG+Ty8QFA\n",
       "4e/qGMDhtoK4Io7oz67ReT3tlbJ67BqiMBE2EYa9HJsuIFUd+SiKfkKW/8hFTdWnMYl31RlkS2FQ\n",
       "2Y2T1azmaFMHCnGOn9aFmzzW3weeFt9E4d/BS44WPLLbwAoBWpGftbvHavQ3RJcKSSn1iMFbAXVc\n",
       "7KBmTwUsfqTuWaUZAlDqB28JbutIqUrGr12RVcYRY8yLPdwwhUUnhw7VZpQQpJaGYwxj8kqH4HSD\n",
       "fAz5cGdZY0PYN0UOELJP4MqleDAiEs9fwLDgJuK56s6V47uZ/DX/5+gtsikq3OOcHTr84yOd/VTv\n",
       "l0L4+7t/6DYilVtxp53hUlqS/tYy4QnuNQtHkqY/YgEZXK6HkzHAV3uHrDdQLgmgM0Uolse0BmeT\n",
       "JSKVQKNdfpVkP8gSUBUsPql9daXbriJ3cbIZGDcfSIje4CiVLe21X1oLty3ZGZx9SpAr5tmLQ24q\n",
       "6Q1V0GLCvrxGZdf8POWCpE0CQob0X+w7Ib9eLaEIxI4lz5sUTnaNEYocuYBTSt7/1khiXdRFgSa0\n",
       "558GMpxo7HLiPfEZfT7YxU4gq5Z7O7HtQzW5OJwAScMRdlRzSlzD1vM0dMSqeCD4UrJuypqNleh4\n",
       "tzMDFmXmdGoS+11EVzWmGL+nL8JlJpwDm5OQrIUgc6CME09DUxlhEHAiQIruapT/P/7pf9At2BJ7\n",
       "WGKpIJuVc+6+1X73ohpZ3Y5zSNOinGPeKw+WJimq/ZRksIyrc41PVPh3DAsTX3s5DSioi/7pdK3g\n",
       "aJgyH6nUfSALUO8b2xvKF9grAajsJKGGCvOWRdJ8rjpVgZQxo/jYVUKFqttnFcGlmk6GycZ5f7lw\n",
       "CQCxG/y5CnMojPW6N/QPJrc+QDWQNTAcIOXk94Cv2UfdLXuYBOO1k/DGRY2mb///qJdPnrAT8vKj\n",
       "Mhu6nd16YFDKWOBthCuok70exhNU73Q+RIO7BXq8G5wK6ATnqJJNe3AIjt6ukvPuHTxvMBsuhwlC\n",
       "s3elM2k5xhIyWTsrJ8PSGOTR5do8/4nZIZU/eVnXUZW8TL9tZX9dAH9ggF8HbYsT0X9snbtAAAAD\n",
       "AAAW0AAAAo9BnpNFETwj/wAAAwABAlFGV98WbM/jvXcETCNEndFQmQo04RGO9AA/PZnDDql2YFX5\n",
       "RnPZOnHXIsUtLQLw0cBlIN/Ef27uqbaE3ZoPa42hu25vBozEgb29HOnZO9Z5CVQiKb7Wbp2ttgGE\n",
       "ca9QyE9IptIQ3kpS5v7AhLcj8FKBcVUuhRcw6UO+nCpK6WCJ+o5DveYvD9prbGDqUUFOK1lIaC2Z\n",
       "n8cOBw6u759ahX5TCz7yqnO93ufzq5BW45fP9fk7WW7VKsVRjO+b/R2loYfuhGaCuTWrfd59lmah\n",
       "hcrPTdhGBYvg7AVIwNW/3sxf7v7VD7gMCnhT9H3oRKutKXG9IjYlLfOhLyL1Kv/PYmSafQ7ZGLae\n",
       "NlSP6194IUXzs6C36XWjGtm3uSnhQhkZttVM6lWtaT/vRVSyGR9vtkVHY6wOkq4S9CU31R1bz/0C\n",
       "/yMwAlBCuCF2ATapbOV64AYuL4qzoupI8XnpoBpX6dYv/D23uAR9D9pr5zW7wjJLfv9AkxpO7CB9\n",
       "GelsuNJXHwOG1ZVA59JqbUMDHu20TD/KhoBefoX1tKJLj2AxGD5sAlCTZ+SrfIYj5dMOIkdPRrTd\n",
       "haHfIv+wTtjzpCr0dKg/PBOnASRTQvwsz+J0vrcpaOEDGyXhXVw5fVoiyRJbZm4pSYhJ7V9WCgwM\n",
       "1m/jCyWc06o9nAChQh9+CtBpfNLAyw+rJy9SC6o+I/gQe40He+STsqcIMt9ZNdUaOucDhoYzn7RV\n",
       "yWh8hYWv2zHMRgoTl1hto+XZejVbHIDdPc+wnZVhmZtW/phWMOdAMPRaunNDKKk6aJ0JIRGvp8Kw\n",
       "W4FwH1lcR1DGlEcmu1ER64cCQgNPAzR32SSAAAADAAADAAalAAABNgGesnRH/wAAAwABpcAao9iy\n",
       "yu+cRLxNAATaNI/Fv6dm61MkVJlpUTDlgn5cDv1rS4baVXNMGZDurDm28VxeIxREJGJExV6A6pG4\n",
       "Qm/xBjlnLZkptMyhcUFBq0IObPMlKyXIixLqVUiWH6Z+iCp3GZBjgDgTW80XwQlPgnzCLB02gA21\n",
       "zNKMaZ7OGdMIb0tOJKmZwcNczJcINntlYeQfG4RCySWa2zOG319UWBQLQfXVGAirZZWsxzAJ0O59\n",
       "gat7pwWPBuONaa6u0pywEXAQNJk3X6IIVqAzD3ACc15/2ROHqve6j69qca87XfVl7wzkcUMFfEyR\n",
       "1yl2EdhvQSqGE47HC08v4fOseMpXCWPOGPf1dz0g4OdV74bej8IuC+588iaHgV1A5ph0sTV9rAAA\n",
       "AwAAAwAAZ8EAAAFJAZ60akf/AAADAAGmk760LQGi+pI1RzyLbaLW8TgAlNeso+38mA2NTafe7joT\n",
       "RiJY5+py++E1WCy4cNMKCk8RhRT6ZnaJgwckPbdBNxe2ScuWNUTSW7VymiyiZqJvo2y+JZCL0Tf/\n",
       "kc1PHuU+/irHZCLdoCvLT5Qb++d6tTZCAuY6jaqz7orbhi8KrUANsMMYuREVAVzBBrbfrPfRgeme\n",
       "ChGfYunmoKTi8ZBmplfaV+1SuiouQjlTa6qLq4FjXsdA+T4ciMIxlMlZBbYPe+dfJSpvsUVjVEpz\n",
       "b/45ieKt40VLH6G2B7Yt+gGpJCkHIDPl26csW3F0TsMGAJhQN0WpKq00HX9MR21UhlzpB+fJwwst\n",
       "eyh5bmjTTmXvu6soEbdKd3x0sg1ZBWpJ3bfxLDM2SoF9cO5dIKqWuqXU05UStLAAAAMAAAMACgkA\n",
       "AARGQZq4SahBaJlMCFf//jhAAAKj1KP6/Z8rX7EQI9XW+NpklYB8q15v2mXKz8Ds1PVeQHhh920z\n",
       "zoxVsA+fCkDcL0hKXNunias1PIW9q3O+tPGfSRk5P79z1RfLZoIQoFDv+mL6vxY1XnRyp88DNEdc\n",
       "SogkqcAaXIBmjgG5/BYISmkUeI4lkeQQkCtJe85+k4XdByHkdOjQ8kDmHwwULnk+ogYgrED1+u7m\n",
       "bx9jcd8hn/e3E0lQRd6W/c0HhnodUPzowYs+l1pDDz26PY9kXbdj1h3yGNjFmDQEajFWzmed3swA\n",
       "b/n+ukxQXdNdNh1FtqzB66vg22IPGN9vXot2JbIt3ega8O0B2hVof8tZ54/7QPmmDWY3P+7wNYRa\n",
       "MdEItGRG/sUCfLQnrLJdLChtOwLrOkpJTfWSEmAaRDXB62f+4J57z7bW5aby9SJxoSmzkcrZzUXw\n",
       "RUQQQ1Ut5xh3B4ztuWqhtZzYM/6cSwFxKEOSL7aEMVtUFV+w+m2AqZimM6+XXHzS4QFNKO5pj0fX\n",
       "1qVu6sG5o+L7maF8UjYKYG5AqXOjvE68H5K1goNtmMShRZ3VRRu6oQgCqyCUbQdNBQzVkPY8W4F2\n",
       "etS3eUcOkf8M6KamdIBll16X3YhqVuP8y0rwxNykgi/DbG/eJnOHC52DPszXTQRIU6MGuomfSo8P\n",
       "lxvhuLkJBxx3tKrkJEQrQ1dzXoru8gfISW+dyEJ5Aooaf/HH5o1FbssNShm3iRqbXvB9Y/354FvR\n",
       "RhhS4fFWmKL7rVqP+emsBJG+TlBVWwHc4ctLrImJLz4VoFowF7Vchq0W9oByLFy0DMqA6ZwLhvvd\n",
       "FMxMbijO+mA75xu/hCnHtIOFEoBDJ5Y516Pke/1MuKnhna6FnUgon8iaMigzbNAxPLTol24Ho3dG\n",
       "gXBJ+JXKlOlvxJGJ+fGdVn6xGJS84GKCX7NyncELpmwuh+btMfOMWC6nGW+CPfSwX88jsPEBWKVW\n",
       "jVoiBXZ9EMeMGAcdo8MEhMxRZ+2T9t1lhsckK4DkqLN57yMadIeYux3NsNOCjRH2ylY75vFxbz/M\n",
       "ejzPf1WFSDcrFj/Bhl/wBmUdr5J6Pvw7RQ0ysWqjsf2Xf74xotqcs4S93iCCp5LJfk0cWeRfycH/\n",
       "jTQxv69kujfnxN9x3EGAT/wm6P/wOlcXFTD0ku8ydU1TXZu4zsJGqnba8+aVKPmKfH1mbfDNSZJU\n",
       "ZVkbdw8XYfK1CV/JKA8RofyWq3iPhb5/OErTWsP2QyTw96HRzuhBJ+pKbt698ikLHPjwpNI9J+D2\n",
       "vR5bpVzjUqGt509D+cRee8YoJdNGNV2jMpxKBy7eF/RrrYnp7UN1QWAU9EAfW3skepHSbt8lE896\n",
       "Yjkug6mU22iM6v+7ogu1yezwkURCKhlC+qXSze04TX9aeMihlip/D61CnT1sanSUI4I8YBvhAfVw\n",
       "DDCYIRWDTFIKJDI41XAAAAGOQZ7WRREsI/8AAAMAAQTpRUBKNV4ATJ0zbeJWE6qubMk49zjv8Pri\n",
       "ltXKtXIQcaAuqUuTWCXcrN1LGjwKcpcuCnxowE1gVvkO79mn33RZfQw/t4Xd84yb+62c/7kXQqzx\n",
       "oaqSDNR7e+IL2WMbgV0WrKzO+drl1LKiWOVldHjWVn26ijw6LiCD8LrnXMuK/sCmmzUzfRgTU9aR\n",
       "FR27ZA9dbacl4JC4FgMoaOtskKHKpKDINGidD+mH84Ta1TvzY8rKRLmN00lbHoUZQDYXq2EIcSEh\n",
       "KJiAsm0PS1wEJTr94fcCCEj/3znLt4NkC5fvp3k5BfJCDuZfKrPTo3pbh7QJN1tlPfVTqF0JjFmR\n",
       "rGrv/phE49ILxFw2DE76HeW81TviI8sXp2bzXTFiFKQR2l5dGX90zsn+zHFDIGq5rZu0Kfckb/3a\n",
       "JbsYaFNNcwVUQm8KOUAr0u4jhFqf6/pF6JVO1W63vtEXSz9AUIvaMPOyFol2e2pm4YJ5lPGzhC/Z\n",
       "Dr/hwdeAbhkAAAMAAAMAUEAAAAEcAZ73akf/AAADAAZyTvdrbISkbdGgBNE82DkLkRQGXus13pIE\n",
       "VINEDIHUNRsbJ3IcjpFor6CHFMIcJ7kj5k7OiI0hhIZZnBpfRDe74qr+cTJHJjDybSy3fUedn4Zz\n",
       "dMpSUVpJqfYXyx/zG+Hpe/qgjJzXNHqHqUUrNxHtW6zVYpXxu64H+pFi0jJrrEQpw4OEXSUJecoD\n",
       "kTwRuiRKwOliNTTMFuywiGLOTn8i1Tv8Cpujx0KyJul5tX6wWbrv+805aecbtt7uHsVzWLYvgRl5\n",
       "1bnQ5qT5jJsd8N16sVR/oQsvalafaYRI5Jo4Vb9IAQWAFI7RfawhkLYSXX85Y9X1tBvOFG6FsMdv\n",
       "qLz5gfyLjDeWAAADAAADA8gwApMAAALOQZr5SahBbJlMCFf//jhAAAADAC/6q4JR47gATt5v+mHQ\n",
       "kyUfMYC4PauJC3/Z1+LJnT991RpnV4ZPCLL7h8xQ/l59sUyDKL9Z1hbKmOTnEWirbMFm98CfaDWn\n",
       "TirKl6TS31/hyxqyeeB+7Ug/31K/CiBFSEURwHE45DxXTh5lsldt5ctOtVVMsVZNzujHHXtNOk9Q\n",
       "PAp2noQblAASYfhBsfUtiMCnhQrlKsrAlSrAsP5SACrlhKShdRvuWyvW2Rb2lX5kb0m5wqye61rn\n",
       "w7wmM4xZ62Q5Iztd18imIsTgVDSCls+HPFx2ODC4v9ilYXPifX9uqySPAAVJIc6tccFeyaBGv1dp\n",
       "ExYLbPa71ZCG8wb+TEXw8QqM5MeFf14SgFesQm1h/zyMO6p1XJYhPOFcp/4T1UrFeu+kLX3dR5Rf\n",
       "Wlt4vGkXqsgLG+Y21YYKvg/PGz59r3KR5NX/0rUHnRfFY0UZR/lTmKv0e704qOV+1N02q8JOGi0N\n",
       "7Z54eMCriiCzO1VSaUDZYHEinP3bMi7iq3lWCGi7LF2k56/4tg6kFEiiOC2ly3eVeFdwKehcLP9i\n",
       "jgTqMMEVgpwYLWF0mM/JSr984gzQj1UDRZHVlgbrS0glDgN4aazk7cKpP2qromugjEPoqWjmth6D\n",
       "LCreBFpFze680yF5LJF9u6N28aNPvhyv+BwZSM4p3Y6n8JA2bsvyCpMW188TrJ55uPuqxcXMOK4R\n",
       "axiqX4inbr5WN72Q/C2L5nKxOu9oZYVE4jG2bEr28rz6mAwKA8s2LC4CIrPJRZ/uM782yQ3+UfPC\n",
       "hv6wHxReAjjvs89GNE45TlDEyaeeSIyiVKaNE2eyENqIi/euyghUdLQfk1RBdpkZu8tuJjZ1KGIv\n",
       "YqPXbof5Bd5woWzfqq/BqbxeSWlMUVGtAWM2gPPdaSnXPl1Zt5ZP8sjz7nh265Dc0UuJjkKVUZZQ\n",
       "fQAAAdxBmxpJ4QpSZTAhf/6MsAAAAwAMUs28aFCgNetMtz1vo1TvgA2t1tHHW2OFM5JlsMlOYzs7\n",
       "lKRE9iYrmWSx1zGrwAwhCtaL+uO5/4djKkirV1hsFk7OMc713Rj4QHi8cfR8UiT3/2iJdHzf3DIR\n",
       "H1AOCAknysSG6Whth+0nr0Q2b9pOOFfMXams3UpCQENVnaUzxwzpWf2nm8xFhoPZ6+m7JrKrt5FV\n",
       "baLgbYr2j61Mk2zCU4TVWgqaq+i11APO2umTApplBm2XXTgVqHs4ZRKExDznZ5aLoUfIrJHOvBYE\n",
       "07XilgTnMPOhYmskSD6Dej5pTV18Xz12aL/M7OBrLGCeFyi/G0oETRHQ+ZbyPIK3XsdLnH6Fu28m\n",
       "3EUUl1Ho1Vik7UVaef+UJIb6rqmeRiFEmEvoghCSDj2Oi7sbmyEaaqJeqVACF2uIag9PCAatjpYD\n",
       "aZYry0gj/7qMIkq8jC0PhPpvkNXAMDd9asm9irigEzvtYbQrMC/dHrUieO2Vlr0/yvsMArqh+QNb\n",
       "trHDsiTSZYdgHc29hOlRvxC6QiawZMpB4U5+YYAmtAJz2L69ODEhPxVQLGSsD2o+R/M2m/vI0ndb\n",
       "1S5DYeivgHUiU2IHfc7GOR5u68R2QpkTQAAAA49Bmz1J4Q6JlMCFf/44QAAAAwAv/uN/l72NL4AK\n",
       "C3bpg+uPa5xAcXU6EwNqkQKriPQlsmDPcEa74YnFRY/P0nexNxTGCRaQ+ZCBFsRylhmPW/8vIRuC\n",
       "TvPX46VWN0Jdv36c7/XidcktSRY6rsBFOiYFx+OGhj83p6iBMM9GfznLT9Jw7F3fgIm8R/Bzem6p\n",
       "FsroF7pn+npplZbFnbRc4GQOHZxESxBn2p87PMvalewV5Gur8AoY5g3HD/Lul25OrWKsazZfQEdn\n",
       "YKdL8d/By9H0iet3Sa2PbPKx4itYxV1aZ76jU99n9rut8ZgKbXeo5NrYxoAyYBKMWkeZHRIKv6hh\n",
       "kLjelY1wnOl1x9YUb6rskKOfa5wZEZ5/yQ2j62QrtBGAbbI5DYhjwFmQIEvV6zSDpxcGD/MpRJI9\n",
       "jxgOQMuT1yryoI7TpVDsR+Ilk1HuWc7m4KIUq70xRJmUUfY9ixybtHNLJ4ZBn7PaOPdgWgucipUP\n",
       "ecWHLNNZPBXc9cXgmpmyxWwNTVDS0N9rIj64VI4yh1E6VHT1zAzVmWmCjRVehBCAef6v16disNsk\n",
       "dXdxYA9zy6gX+hBmZAwSw5sG25GdWYP9sZeeuGBySCNKxFcA/zRd2VWc2sO4pOFLbJQB7SGeONLm\n",
       "x+WdrZ8SyqdVPGKjGzonpcKg+SXttYKBYfMgNAkybiMMIxYeEBz255rR5FxaMKgW3y/yl1J0Yiij\n",
       "AjtTxzGoOuNTv9OYTR2EFKhpliqfenrEgsm7juA8T3QzZYKZ0dtQlq0wAzbMertWKl0wNDsB80b4\n",
       "ssJZ4r7iM8O2xRB4p4jt41aVM08+X+WIFlS568GKFUP62uiABTRaL9kK6VJYUARLfKjk5L0ptkui\n",
       "WOSM811vm2XOoPa6vM496iAOuh6qjt2bFytTY3DVHc5VsCfE73MZWcn1cqJUBwS5sunw6FmEaJvG\n",
       "sZ06DojCgFsMklgUUhkzREHoXT4WDZgjsPctDOzAsJPmxsre3T4vzHU6VZB0xl6oIu0qxUcqiLw6\n",
       "aahI/q1L3oNGQrQqov5ohgwwI8itlrdJZDz1WcTHACe4l9Lp143pImwrfK7MtTMmO7Wl6QMWl/qz\n",
       "0LPLsFN+NlldWsDYtHhVTwxZgkqbHSKyjfVBDSMgu8WajF1wLaE+70a/7m4QjdwEv2cmnSSR+nsD\n",
       "FjtmxgPC9HDmihjDaA6Opz0IDeAtNx3mK5mE/wAAAXtBn1tFETwj/wAAAwAD4f6is+Jd0AJpPlSb\n",
       "4TvFvaV1WBdU+YGad7jPBYsP5O9VaWQedXTm1KMrpTjxLC8NCSBiij1I0d+QY4fxnHa3sF7Psvs/\n",
       "7R9iSsBQ2NNUqVEZ4q5NNmmmkWHygKGtHlHb49XAFqrIPwoQ83tsKEGdqFlSlSaAzWsdEBjUfQ6U\n",
       "aott70IGMnh03hu0Ove64hnTJKzdOvyxhoGg0BytpTOqB6BbX9WHsxXL3kXSMo2qNQmLnscpCHDz\n",
       "fxrHP6jMw9mjnfKOPwhFxXnc6rbH0Hb3Mb0i1SWykG1dU6L2v3kcRVHv9CIbS8CYo3asU+oy8C39\n",
       "oxRKtsLAyouCV0ksl8NFWqhxjxxRQH9aOw0qEx4Cc34EZo+TiFt5MQO1RFivZXMKUQR2jbu3cx8f\n",
       "zICm+nFSMjlDZOvoEiKlwWDrhmbrNcvAcykB/cNn/ccz7OwTW8hLwk8gGbZocKlshHCHj+1WbJ2A\n",
       "AW/7tNUAAAaL1gFBAAABCAGffGpH/wAAAwAGIe2/j8tFnBofvj6lQq0nusAEqk/r+Dv2NwUAj6oz\n",
       "C+u2HAKWEQE5YpNqU6Rz8xGE9aYVEupejNb3g0ugPNQGBfLZvfvt1lx3A2t1/LW1htcVR1TERX79\n",
       "qg0PHpnhQELRxCnx2IE8Pixl1LpvESzERnFSYPc0MzyXlLQLwTSewHrTvzFWSB5x3veo3gMViwnH\n",
       "YcioW64tKG7vNrG9St//PxoxVVuPv3GtzVqr8dCLQt4w5DzoD6BsbqmWJauNkSdzsY9eYxO7fUAo\n",
       "sj6oeEG2o4W1PBOZOrE1V+1guu0NJ+9YPa5jvCrXZdooPGW2KxpAAAADAADCJrghiggZ8QAAAdhB\n",
       "m35JqEFomUwIV//+OEAAAAMAsNwMAATrPXm/ahYLVmsXVck273nqe5sBhcDc8n5wLBXJ70KD6n2R\n",
       "v0we33sjLEnmM3nvZvZxXNR0uprk+h1xsXgU7DE61wDGunA4klZqhABVVRUPfb2kSQh2aj42uGH4\n",
       "9en2wnXoIp8cxIMTvcTCkG7H5wynICvJTxDSZDPEFwU3/IXCeQ0xFV6pRdLjMaIpzvOrIv0whYtE\n",
       "qZ/O1ns2Om7zu68ikuC8V+iTVG7nleljtvewGoORhDMU3m1aejdwBtpVQUcOArcQd4kmVFJLtOcX\n",
       "nTTxMsJfh+C0bII8mdkwg9P+Xq12Rrs/C5Hf4Hl7kAqli2yN5i6SVqarZ5IZvY2uv5trKybiB/5x\n",
       "6yg1k+67ikwWMTe+uZCYnrdQX8rN1e2oaX2VKLdcJthFM0U2KEKIK6sejCnRb+SbQ/w7NmoQeXnt\n",
       "w4U6CWJQhw2HXv5PlWO+fs+pvvQsZlj7mfcdnnOXyakp4hTec6gNMA2axrHZGlpkZ586mE2vVg5+\n",
       "6lZXBULdNz04b0R3w0npmtiYucJnlC2Tt0wcUX1s7VxFnEWFsiilQXP5+g2CY1miTd9U80Evx/CL\n",
       "8UQxAzEv+0tPkZs1V6OhAAACDEGbn0nhClJlMCF//oywAAADAC2tEBZs/MEGhABfR/VaeFKuJWJh\n",
       "wCi9vxL7aziMlRgAmIU06z1FobohXdmmusFZL16GoBHhO/SDdYQvSXTkNRo66YOd5nduTozD3AY6\n",
       "iTdbbb6xNNi4ejyZ8xrWA5cXGDf7H+Xp82e9kOd74jnTjeZMM2xgumqxnrEDjj89wftByxfVv4lQ\n",
       "y/CZWMxoxOTaUWxZQg59WNYoLWR3Ka4W4JfH/YY31Nxo8L5NSyyGAmSy2Dl6eO5ESzm4H9k2ttLK\n",
       "ID8i9zDdwLn790A66+6oRJb+kms7qXb31KVOATlUBeaInzhse4ZFSBpiRlQFqJUwexopfAOvaAYL\n",
       "uhQVzb6wSxZK9LxuY6Rv1UYs4FZEmaY1J6V0DIUso2bxJ7n5JQu2iN3PE+a9/EhmaxG+FSAzKXP2\n",
       "mS3PcJnQRLUBNALdwHurWCibFsEJcBsK6zQ/WgT6x6BPc1HIYpR+gkvh9lkmMg/20jh5kXbw6yfT\n",
       "83GPBIifYyw0mJ6BWH8bAb183wMKATk7rpP4KRlffuPltFMwAOdMjiSXeOO+ds+w9mbZSbW+C+e1\n",
       "XoHRslk8gjB3u8moTlJc1skJRK3S0pvVpnEahScMIVt1g54+fniKFsyqiMovMPG86BdN0HaJL/bv\n",
       "5QQKDeU2jnL06O8wcO1yxm5NEavle/eWCMZoChpuAAAC0kGboUnhDomUwU0TC//+jLAAAAMALxvj\n",
       "zhjgIT9xFbGjvvnhxwA5nVV8uxTl3gwMgxwIAG+ksrYyQmOVE/8/LMaWfbHDklgNFJX+rKV9EZh/\n",
       "Qngj6Qw/gLIEEtip14Zzo119cabhcmbORuuQFBsc6vgQabMKGxzUeYHaVug+CDyizGbD4Ipd7tlo\n",
       "P41l6Xag3lTJ8AW9wIgfEkZAEzYMuACiKPCWNyCqdqIQH85IPUA4j8MQp9GBUjfzq5Z3GohpKyvE\n",
       "QmxxyJzY3VF9oKFjv7isuU5JwVrFtEO8azURVHZrd9y2B+eUwvMuhv44RxmwvdMoljqPZji3gHwI\n",
       "d+H7fXeDryj/aPiUIrGPe+SM5qmSq/zi6aIcOJ6q2+3jGdEwTrBJ6V7mpbsQtpxwNvp08M7tshss\n",
       "/Rd1uIbisM/2D8Z3hd7mYXtXYT8pdGK799nEaUbfUVnjUo4Ijo36XcGoh9H4zMX/LrR7Ed0OU8GP\n",
       "qrO98xVQ5x9PH8UXmcEEWPzyRpnSYGVGLIC1A/ST3HQdcG0ltsC+f1UwdFbE40NPqLJ7OT59+fvA\n",
       "VSWyU7vaWMbI0vWrv8fz1mYcoAjjq55UyHCTaiZqSldiD+mPw2uqoaJSxHiTPD9gIwT0SLsRN/+Q\n",
       "nEvnmPV6niZDpLiIw7JaQV2JYE/MfM64jLIJ3bFwJa+SvPBayk+l9ezOQBGn9q5zZ7NWqgQcPUv7\n",
       "Pl6efCXMz4voaKvO4jUH33d2CrGlANWjS8BvHppFKM7ZlOW2YWypg5ucgG/qRmAjSxgqqTG4s3F8\n",
       "MbFIAfqxhjgchqUwJrz/KQxkyXwu9IkrA/yoD/4zKy1aPqo9Vge86dBmuYdDzQB+CPWBcIxORzpu\n",
       "2tZySOT0/p63ONe6k+QkNkBVqsLVHN+6Nl5eGUTs2ynivyRkFUSV1Jb2ikEFRneBkWlDMMrisYL7\n",
       "XgS2XcCIzRv/PBA8/lzBAAABEwGfwGpH/wAAAwAW/WOW3l11vIAZ4lymYjB8U8/cE+vCl1ZdPJUg\n",
       "+CtyhglOOzus2IfdGYz/4s+/lT2SF39i3T7j6vc5xXWBNAjxwc3W849Ts9p6huc1jPUjvYBgY38q\n",
       "y0/4gqJppk3KlEbgYsX6JXLyn6Nr8/07dUu8g4ApEzHG/7cy1RQ8p9tnRAdzzazQlLyIKVXiwEtO\n",
       "QF2PjnhBI65PJHKSMqbPwCHYMv82xYa4ZAcsHdR8YikYKXDs016CXA5/A+iylxzWBN4N6EpyF2iL\n",
       "GvQ2A38velkq4+zw2SpAMISyF7e8F1g50arXqnOTA5lKQn9Ldcpm3hYUgq++XV7Y+K7UB47EaoAA\n",
       "V71gAAADABzQAAAED0GbxUnhDyZTAhf//oywAAADACyVV+qz955bOxcAFs9QyhAvf7c7fIBpSP7g\n",
       "jLIa0/d03afmpOtOb0EiCVa1hdpmAjXGSKJHYCNSZlC5kPTNOKPkyrJ/R8z9BUpL102siQvlcuV3\n",
       "X8V1nzCp+7f1WHRjRoscAnM6JewBCT4Us6SzmhZJ93+pgR2QqNIcpdH/SQ2Jk/zgs3Sd/gH9acDA\n",
       "ZoOdySjIdVFeyaRlsNe4PWSDLUSPJ3TV5wgztP21Vm7zNroJo4rhbKH/xjPIWoFUbFlttfIAlDzF\n",
       "7g8I4iOjBL4MX6BQLXXLjowHbhp6wL1jODqh1TyM15ci+YskM2l9rKbpzg3k536ixjOoE/FZMGSw\n",
       "nk4Zmd0TiII6mLCbWBbsJ3AnLwaSO7JU1xH0/NEFwkzVgG1ur0rAp75nBJ2Zmp17qV7jxEbQty1s\n",
       "kxv3QYLTJ+10nGe2s0QCoC0PWDM/o2h8NdDN/HWq+6FQVZB1VUpm6aWAaOJa6B+tjULBRR8n/O96\n",
       "MN7DOaWBF5HTpYGpZvqgDESXM9KWPBzK6JGt+NKyuEaAqKob0smeWwvv8rZlcRdTHb2fDvhqtEcZ\n",
       "xkJd1PSmkTf9AYbzQBjDUDj0+D31zlgZ+pucuZUDRUeQq9tSuHistaELFtUQ+p2mBN1xMp9IF6vS\n",
       "8NODSJ97LeaTTtE66y5vfPm+/64tbBwY6H2LgP/WlBTNSOsmolZkSpYgfXPf+KJsACsa2r/mUJMu\n",
       "8dQ9Wkptiu2ODXte/8GGFCf6U7xeJFEvKbEKb+kuFs8U2LZUjTAEMAZGpeody2cbBdgpJ6ylvhnZ\n",
       "xYebn8489a2EThQVmbMQIHzkIEBN10dJtkcHRnulaOLwYmU2YP8Me1CcEqmx/7mETj1iebgIEIqG\n",
       "WfZLmrmGoCSBmq6KbzFciXX0W4DYz/PR+7JSyKa4A8dOsAKu7R4bC7DyK98z1x3qgY1c1Pxnh1fd\n",
       "IOO41Zjq5/0CV8KsCOl05/vM1Yf38qofV+CT4gbyMAY/zWdP+lfif22tyWvjXOy0fyUSDD724m33\n",
       "SwUCqjUSZRl4dv4/TtGbB/FQRH3TPlCB5AFVi/nrl2bcvij1Rt6bs/2AEY7g4XcaswJ/Rp0yOmG7\n",
       "VPyCkTaf5WuZ9iJm59xsDB/V5+YmUikwHuONxVtpFDckJiDJb5PhD2WoMYqfLOn1/BFKKw3YjfCZ\n",
       "QVH3hlrSdMAHcr+AosRgYII/0hvS2l0UtXxYo/lIjm5GbHc/I0NPYlvqchGAuQ1fYK3lY1kCjnK+\n",
       "XWE+7GxeERBAWyRas0zy3RyGhBsRcSQGAVq5TSUibmdjRdH0n9YkXVwR89ZVGmfUkf0FBtI3KkeM\n",
       "pJN+xBWTUbN+56ufQBMd4nntt2zvzLGWDSkAAAF7QZ/jRRE8I/8AAAMADifx2RsTCAFYHFnwdlBf\n",
       "S7bQOFctzuqOjEdEFB+Io38Qh5VLIcA4JGgagg2DmFOjrqkLJ4UxXcOvaGzi6sij2hnPNrDuMwGi\n",
       "0wVvgrXEEz0HPsH0TGmNx/ZXMjbyy79M6PS0aaDJyjv0iM1LCn4X/6pRUceWdp/2C7QZDMzrw7Ih\n",
       "vi/UAUQCsmpvp+FQYxvROoNL6K3kWKnoVRpVjv6OHpV/u0j6GoW2QtvFuJlUw8URkyptpyIv43Vu\n",
       "H7DcDtPZgb+ozASYBXUhjFW5uL2MYTzUuyPxp0oaQQvBUU0LKiDnw7Ke9Emz0BY3uuv5X3M4Ydbd\n",
       "pUXudBdUSqEJ+bmnVTn8XRN/zNbRyD52VGBzuSd/EL5CXr7I5hLuL86s7QZ2m4OWKCfGQYwEVN0t\n",
       "wPZ+fM0rZ4kYfwEwtW7Sj74MgNE80ssVNvbBzeExrqx1Ysi2MtkMfBrm8B0L2dqYin1KkNJEYkD1\n",
       "8AAAAwAAAwACgwAAAPYBngJ0R/8AAAMAFqW5sq+h7xj1ir5tQAWkfTft5/9++UPEXdsiHbdDemUy\n",
       "tzGqScFkBKtciLsRGoVkBaifdaNYZOsXTK/f9m5hbrsBPnqEHBMoVJTBtKFeluXkYzUs0uT/widZ\n",
       "/0rY/aZOBzz8D9Br1MXJFMvqQMUPpieQBYoWeEeGePu/2ic3yu0FEcro9qgG5DHOpvNmzsHG0cof\n",
       "4x6PbNd/Hm05MzMb9WLvyIWiIrBi/26ARFdoH7xGJJ17A35BZkJwydPuyX4y2XngSeruOY37tWu3\n",
       "5Q80hI03di4t3QFQYGKL/5oAhp7MfaAAAAMAAAMAAYsAAADEAZ4Eakf/AAADABYhpv7OACduhe6+\n",
       "46Hazut7bE7MCSMVYgcKXH9IvpkC0bKtaHa/hDTCyXzhcqTmI1vlOo1OUh089Jk+SeaBnle36ZEQ\n",
       "JTBVmjM4OPKF3mgjH2QMITnINitf4FyWhCcKWolkKF8Webtlz6M9aSzAx0e10bgVB0Xg9RCQzUzN\n",
       "cYpBoqGr1eCph2GQqAoH4jRsDcIa3Or/l+YY3/Wq+Se/nobBSBSf8VKx/zL8PAalbNaFAAADAAAD\n",
       "AABswAAAAwRBmghJqEFomUwIX//+jLAAAAMAK7+osAxcVJugHBcRzJ0g3ZGe2WfCtWCvYV14YcMa\n",
       "XYYa5x3vL/gqH4+FpvixM5BRTJiVtX4gRZtGYrb6MFljRPLLHkfw287s3mNzUolREbRLkw5czVR4\n",
       "CAm3XIYZEMHdVgJn0jMIjyIceg3xGGF7xJWdh0nXP1SEG+qGgb9JbdhkAkKrFEm6vB8bciqmHJSL\n",
       "O7CW/mzMV09QZiB9nd1BjYFvzQS23yDExwJNbWK42CGUf4ZO+0AHQba/8zSB3hi8sspjEirsi0cq\n",
       "9I/+zvHtu17JcpGIS0DQItNN5nHO6gLlEprYDB4hMm1rQHc/HJX2QtvNhcZxhRueXWt9ZoVAVOxY\n",
       "g7BhZZ79KPymnH8UVAUFYonG+PCChcBoAuFkZ9AOHFtfZMEf3vzi301AQWw/TqFjfloIUy7NkinT\n",
       "Dg0lYktndAqGyJB61f/bveODjD3afo0ArMeaqDiesNor+5nSJUjoikXjHLievGIRS6yRIvMloq9Z\n",
       "zPQNzaPmz6bKzU3gDTv5UbA1Em2kBveYFRe64kzM1YQsnksZE4FCk+14IuQt/O2AAd9WQTP4H/nv\n",
       "Esy2vlF7Ua5FrK+ReULiPtKhd1ejpfrjsuy8tlCP4koyJwyyrbufS2ky3ZTWwYjcSG1EsWpIvCcY\n",
       "aaj49M0QRQa0QV27Xt7n2qmkLD3TK5NMrl+GJ540IGyCMJTbrYrmGqz9ZbXA1/wP8gUEZGeTcYqA\n",
       "PjItUkUWjpn9ggOLFMdXzP4Ky9JqqpiR3Gy6x+rv/RiIxpD0bwMcuti9KRhC+JUnHFfGlKYH6Ifl\n",
       "xLvgNvmZfM1gc7eG2KU9MCHIvBKZRe/1FZdaz1fnBQQOCPb7FFJUkBC2SaMCnPJFQNBo8RpIlt3/\n",
       "HVEdCuKUm0x6c4/JgO5Q/m9wtSKQsbxQAymWxD9FG2SoAX9r20MzA4dPiWkYnSNWBQU4QA/0/3iI\n",
       "BlMrgG6tW/KS7pBfWYdzUbpzSj/+2nGrsWPo5v35R23N4RlTheIRAAAA+UGeJkURLCP/AAADAA3Q\n",
       "/qtcISACHzP2fjuTUjBjKXpnXvCTjc/MnK/m3CFMnsh6nSfR1aS/jSy1mWUaIZfzH9GMEbjFiEft\n",
       "B+dVCfwy0tlDzJc3YQ5NQtyffzLjt5LaIdJNt7jM3pMnv8Q9FZgG0vtK+z1reTv4vSqhg/GIwJal\n",
       "zMPD/0MWVRbusrCN2pFtMQr1VcW3bj9ovnbHIcsq6kzDucFBK62AKyf52w/bVtgazeALWl6FVOBu\n",
       "bxb3xTYpauI580vzl4jO/6tLVRkSqO0fyE0J4VbpVYMACTHFASmT2AScofkjgGrM4FbI+yHCAAAD\n",
       "AAJp21BNwAAAALUBnkdqR/8AAAMAFZGAMxE5VHzyvx+oATTlWizvvDWqxLUijar6k2jBL2acUymU\n",
       "z/QQHqdQJ8Dx56hD7I9+E/smyJ0RIsnR0wuvS4DNFV/xpeuGGmtcIHmqG+d8Ft2lliTD5cZ+EeP6\n",
       "dVE530RqM20bfTk71zgeK+oB3MBaMspqObREWVRg2mS2W2+FDGzKLmgVNMbMo/clPTAVkiX+3J4a\n",
       "ZbaZ36JBzxWhDx1gAAADACAnwAWdAAACoEGaSkmoQWyZTBRML//+jLAAAAMAKp+iF93N481joCV+\n",
       "6zkSWVRk2E8B3nd57WePZJ8Qpvv+8Ux0X9uyR+Psu246+IlTWgpJB+XRubxV02NdibSMkgVcRT3a\n",
       "mTxYJwENAsrpTsBk7ds0Pe8ya62F2RmxEouPCFX0hm0HG7S2sj8mb7Drnk+WjsL1tyQO73BfPqT6\n",
       "aDf88KxZ7/g2taCAJOY/EtgBK7sPErRctB+O+wdCX0QKoOyXm61yfbWGY0MdZVz4hftb5S5Sh8sK\n",
       "006AMjpQT84k8STKJo5NqnvPb49wDEPBznHXFcZbUMxetMoUYPuQgmlIn6uFK1TwoBUndPsCIoq6\n",
       "n++/TvATap97I6hGy0WXOsrQP4au5jpdq62n+KuU7tkhYUnnAvUw0XrVtC16xtiiLJ1u3GVHVOoC\n",
       "zPNSvunp3CvcaKDvTfCsB4O6fj4/sKOsRocotoumA+8go/wyGdVfEWaYwHOYkz5tGEvlF1/3MSBF\n",
       "2t3WKXiC1dlktdekb9K5erwSUs2u9yFVi8W45nQvx6v41OB2VJ05PkhyPRyR7LanBGVzuFv9nb5M\n",
       "Ts61YXSBrnlbKw2WbTCAN8nBq1z3axRmoRae6L/TnumX7NdqFq+9g7tr/3jT6VPMRcxL6G2zTRsj\n",
       "g1p/RqTkRiTLWLoltICR6NzgWfrKjYERsdytB/RoCunoOFw5fH2gLkTziWjjGmviu9eG9hqQcrhf\n",
       "z+1UEE78kc2ZlZvCzluvTY33ouDpxhAtcM69ZTTCyBMUfTt7eEh4jSPeQ2OuE3dJme/AkZfPax/1\n",
       "NTWBNbXmDrINErFneWuURi2uM952BoPia0LU3LyWlNOrm0iuR45rs5t1GKssd2SurGlkeElwQcPi\n",
       "j6iRG4R9Jvcl8XROoAAAAMEBnmlqR/8AAAMAFZFItmAG61nuvUtlTmew5k+IzNMkHg3+yACkAKiR\n",
       "ztincXNwxS/a/5/NZ2YiOLTnnAA2WKghonbT+KS9+lx4G1i15anKSRGvWHPGm43dpGrChKYCCBXB\n",
       "2TEgeYkONMi2EEXtJL6yH5BCqdqe5a6qnzToc1fzaRqE4ahSOlww3By5mb4GCRO6u/Rdzmh+w7IT\n",
       "+0ASAx4CG28YqZyEU7KHt5oOUELPIEz7FEdAhc+4AAADAAADAIeBAAADVkGabUnhClJlMCF//oyw\n",
       "AAADAClESrdpugAfy/lTLntcI8c34E90D9/zyGdDempaAHzR5g5QJ8idYkuCSnfPHJ2zUYdYepjt\n",
       "7ZGFiClwxguSFBt3kfmOJ70MOU3NQCF59P5l2w7RL8uq9KibK8JiOgM9lZB3thlkq06dk9WJjVnT\n",
       "TiMGgJoiEdcOhP6dcL/TyvyG4y6M2KFzGq7lXgFjXUWtb8wioHB/MbJjqlMIIMezLPzEvLFtR9vB\n",
       "i2+J4LTqGkQkGsu8fIX/w3I9f//q7ybBOpT6AOB9IuqiAPtUYdCTkTsHv+gA+eNlFohUvGD9y3R4\n",
       "W3r8tjZ5ROu1TM0i4HiF5f9CW+OR/Z06ACxEX0wzcmoSWK2ivnQCUHKpHIadDm6SYT1EzBQZbJ0S\n",
       "q5X8PgSVR2eWdZv0WG/maWaN2/FZSD9vM/GsQcPjIU2RQEj/e9MDGkly+LZYd23kyGAzC/g/Nfbq\n",
       "60wqub2Js1oolYDFXcLlgLWg+euZ/TtMgBBaLveSqNrJZvPCRx811iA2iZX77dtUYR7RWJOBSzd4\n",
       "H8/rKnvnG6U882cxaSyk9Ik9kgIvQtFP/F0FnfmJXEoVJy/VjzsBxVwn2aXRnFucGebnuGQRSgMd\n",
       "zyDlSAfpi9X1wyNlxY+P2Bvc/fmAXgu2QbA4u1cVNUrclsgVtbhwgIHhe32VVIXZXD/cNkFrvfFp\n",
       "JXPiupGE38r3DLaFOQn+2RbsSHULhTvfFHOTeNbSAl4jn0AKJj2Fy0LRTwwUbOkkj9QxynpRz85L\n",
       "wxsapunloX6vqT+y7tAW9XS3GgO4jyMd0jWDoHnBqepp/KUHdkqxPhM2qfrreP6/gYS4wLrIk6co\n",
       "S/42aKcye/EeqZyrptZfbGwGR/2coiBseKMVGELVeJU+JrVFhTiKYvZALyZS4/6RQkhWWZDAfHnn\n",
       "NduBU+2IEim0fr8HDRQiCwrm95iILUBKPXU1SPpRnZuCBQpjLPYGEHclMy+5qP9PvZg7jQpcCwhA\n",
       "mN2KntMuAphxUury0BGFSqmPweRVXE74vrrkV/X2RkyBcUVThABedPePIjWJT2WSyZt75NCvo+d4\n",
       "agl+HkZkn7tesykWbWez4sziNVQSp7Fp5/aL+NCb6RYSzTa5paXIz+TVAAABCUGei0U0TCP/AAAD\n",
       "AA0FjIBdqee9tFgBB8ZCICwA/45Ip3r3YzLhyBiMt+NHtjbLcSBMNrJ+/hM5R6lcQw9cynENMeXd\n",
       "u2ll7eunH/QOz+fu6hgjS4Zc+zaOYu5RtUTFjn82K53OzZ0VTYk9E95smWiTRo+WnQj21GsP6pOp\n",
       "rH52S6Bf7XHtSSO5x9VKAZy9XQ/UYu16IF7k1BxXWhPfSYyyM+hfQbzq/IgQB5uGdWmuvNeXJdVp\n",
       "rgVjCPmJtT0vP0Fsu4nSTcwXJzxdMhbpNA1PEOmkOVgTJh3W7H2AX7ubCxBl/M/S2Q4IN53IxBFz\n",
       "SvhvJX6QQTXuMoWQa8DRkwAAAwAAAwAAUEEAAADGAZ6sakf/AAADABTzuf8upgBM/SXI03d5me8n\n",
       "wqHh5v+Rqj3Eu6Xg8txqxi7M8rIe2jVEvjFzuhMfkvOdt9p1v/KFbwX4YNVaV9VwUFZTywsPfekM\n",
       "JpnF+6RjRGYa3v/Jsh37i8Zk8aBNVki3F3vKonZvNStA4KzRPQxewGfDQDhOcaa8eYKMH5HV91ji\n",
       "KsrC7vmjWX4XYDgBGJJwsWMlZqDiWXf4oODrjwyz+iLs2EK3WRwnPtr0o2OLCaxAAAADAAADAD5h\n",
       "AAADq0GasUmoQWiZTAhf//6MsAAAAwApQWK5qocx5KLmACcSzpTEITfYn3pu09OR9VAwobmZHN8N\n",
       "YqrabYcMIUDZwoX96VwQOVbWDzD9Eyq0Zx0WvjZN0VQX+0T7HZfa7amfmT64x+Xai2tCfyEFwQ2e\n",
       "iGS3moTl5yEAX8LohOw2JukIdYvIByUMhuHP1IVvzd0pvZjbxDC4TE+92Lv6Kpq7v3PLFNuGFlQQ\n",
       "8ZedzY4WCKArzMzv+lVx3RkfOBTJE5tkcGLIB0UVh3xOKyaLhzSmts0csZtDNZ6Tzk3f/TfZgd/O\n",
       "fx0NX9wH1jO+3gFFkZ/fG3Em5j3k8h+eiuVWAamXatgVWHLQaf5EFdD/GnVxgXftCDxTs6pLgn/b\n",
       "Pi1sBdiTaEUD73spSf6U05T9HBgVUiqADry3UI0uDiO/1B3A/lx6bmfwaGrlvmORLl0b+z3H/JTV\n",
       "rKrjKOwVz8feZrD4uh/H6glcHzKyIqbsOl5BuOhUS4oaxQfbQVOh29ltDFrCDxZm4MyHi6gwO0Md\n",
       "xNFvzDQskogb9eiVC4GpvyBn16O2+mIitwjrcbsET7c3Me7R/M30GOIRyrZJxVvZ6t28Hkp3tgSA\n",
       "0kwwHJmue3gNfU8EH2i0nQ5Rhp4MzunIsyDl7qqEmsxtPhW46sYk7Sl11KXryLqT99P/F8UHTfkU\n",
       "woyEXK1DKsrbFDuhUyGgA1v3WpXq4V/iI8xHPAFJcLWhZ6QZp69PoJHJG/Mm6q0Kgvxw9kdtivUZ\n",
       "P6lQnVUA+PZAqCwwur2RehqrmqCi0arrWsE7N2k7FuVAMOz3i83X2ggAFGW/FU1CkOdtorcdY7w2\n",
       "K8mzfItuZML94m35dlSpq0ISHKDzHGUycD+bBtL0/JYj66ZRIsJIj7RS5iN36AeuBafFE+n5cAur\n",
       "QJjet7v14cilz9zCrOC4UyEB3kxosyz94ky9YnijQ7yV9EqZjTsRCc6UbG293WpaJQI6gD4GhIbb\n",
       "axQ2WU38HCs7tpnwn+XCNnsQdnF/TKSQeDdp6lzWkNQm2YYMVlM4Cf1Bbf6nfh0SA2JDQjYc6M38\n",
       "zSpHRQmAfm3BVhyGjIr5SFRNlb/jT8rk3TJM5otsooe4NA4foVB2QLXGCuq/hqKNqNz8pnC1Gkfs\n",
       "cRK9AlQscSN38v6B/AGfVCQQpe3iKhIYPjwiF/6tjinX18St8lZ26QHa3bogaRloHzU6n2Nl435d\n",
       "4RfEZX8s51nVJN8EOO3WUCJcWqUMzgqkfEKiGXpHgAAAARRBns9FESwj/wAAAwANJ5H9OqQBFgPT\n",
       "fO+mcRwIymJ5rWECYKz5xt9lr01V5VnsEVSZOwSONrzaldN7sZ42ayGoASIKZNRgq2LM+oL5Thc0\n",
       "kyioGlXVdlilo3oPkENJJsV/ApxFq+wPyMHYlPrw7daDpbqgzuZCQ92kXLIh0h6o64HxkmIlHFxW\n",
       "iurg7PXIovjv5zLXdi9EAwA1PnzXDryJpWl77b0U+3EklZYYsQ3K5PqqA6jY1Ol75d6XJ9EA5Cc4\n",
       "rQJvH/n6thnDLABxQ2LrEB0iAL6avXEzVIKMM159yif4wr3EPiTewljmaoj8KWwyyfhj7MTHtrD3\n",
       "vU8hVGY579JqX6dyvLur3sAAAAMAAAMABlQAAAC4AZ7udEf/AAADABT/xzOLKofCtLSBP7j9vBqf\n",
       "GYaaZZIqJtdg/q+72PyA+oJuKqHE1hIrlJhLGqbcLIAFs1fAZmtmtO3q7qeFPMqnFMFHj2nDlu2O\n",
       "9Wa1K9j0qT7x0s+DduC1iXH3JBZIjFgu939XNGUwGFNy092+/OAQlNIQS3X+sRQbublkLw7cBTzV\n",
       "Xm+/3Lpi40EdSVwqBb4rqILvS/t6n2sFNiZ9W1EQkWQsAAADAAADAAAoIQAAALEBnvBqR/8AAAMA\n",
       "FQue3MEk1Llhf654EwsyrklWO9A80NjKN7nOP5OM6KcZL7nviJ715PmlnMn+YdpGGgy/qngBYX9X\n",
       "6l1NXIBlW5tFJRgrxVfKwyYEXf1P4PX67uARGbAE6ZiTRayvmrsU2v0Sap454OoCEjMVijioVcvy\n",
       "zwo1T2ub9/GvTxqFPZ1heODBliyCI9QVospMrh+E6xC2smDQ24oIuWTMvCAAAAMAAAMABvQAAAI6\n",
       "QZrzSahBbJlMFEwv//6MsAAAAwArv6iwS49pQyODbwA1pxU7VHsxqdEOj1eq+mJ6ON8YSf/GbmKH\n",
       "xPv0zNTe4LzAm3YcQ8gtJqBys184h+NGlsDyQybBoSqqwgdta2K/HQ9GtxYj58BSjVYMxV7fczux\n",
       "s9tZTz5fhpE3aCRRxVR/PwNjQOZlf4KkwHY434N1wM+QzqL8vYXSXSGG5pSKkNP+H+Df8cvA5OBK\n",
       "bmniWtifM0sHjcnim4ay524cfQVF6dWG16dx9YgnSC8qG5sZjmiKIsLjYTTimAacddO+IWlk+gjm\n",
       "mIzdbWlqJluHFt5JafHSx/dkATVpHLWGN3nYEKZ6IRgnS3+hacMeWNLBpZ4IkqF2leUUenCFpM+a\n",
       "PyWVrXBGFgZCkfYMh3bfuzQ1BM9SylylhnRTigXyTsj+W3eWjV+5CLkTN+ba38culSNIVeXEx9bf\n",
       "nj/2lMaO5FTcMIAKybfF+gkp22OXhFFrM1ga0zg48LULmF5xnxkUA4Yt/HzMTUFTvzDJvEde93sI\n",
       "v62v2Qnhh1iC49/8AiEcNi+8fN0Gz7Ljr+wsnJrkEeUU9upHn7suEX76beJ49dGHOZicaSiEsdkh\n",
       "/MTz4f9aR9ccfUs4UOQcVX0pqAxjPJ7NJmEJgweF7CC40V46miggpUr6PGc+0xP38yRXfVzuS2Oh\n",
       "9lB+DDXJwwCS52WC97F0SNnqkLvSKEu77zWOqaGWtoOV9G+sPjeosePErYIqFfBj06jnshdFtcKA\n",
       "AAAAvQGfEmpH/wAAAwAUgY7ViIASTVB7cGQOtMfTUTG60O66SeXOCjlVgM5Mk/KXnN4+9bMlW+9j\n",
       "xyMo7vXWpSBSbFOUPPzNXcYRI3gGZY9lSkn0W2BzfJM9BBMpwPY9wPjNzwpd+quI5SQ3ciVZvMiF\n",
       "To9rWui35Rx9RX6lOk5XZn3njNcKzHhsS+MIZKnMo7QhcAWqemvKabwfuV8TKACwG4lh7AXup/KC\n",
       "Wk5PyI57SsYMWC1gAEklMAAAAwAK+QAAAwNBmxdJ4QpSZTAhf/6MsAAAAwAoDMa5bdf6AG2GPWgO\n",
       "prTgddGptqteNeChWBb2wA9C4mnEr0AJkc9n02xxUgAStZ7l6o/7/JsTfR/MO3n9HfZSIVH10OIe\n",
       "rZ1oPBJ/k5FP0A3fr3aF8fsPMwdMpJXnAFUrBCkCKKAV2iyrtIgE752dEXNZuKe0LIK3+JzqmnQs\n",
       "JmVNsuk0qolZ0SpU6+6Ci6MVjm5eKI3WsQ8by7K+utodDDpYLdvHEcIz56lUPexUj2e15Sp3uy4c\n",
       "P1ytdOvGR+IaoR0Fj6glp3ePcE3PGbUpyleon8oUHkonYpJz3E8VhOABLamDwGDNJSW3NgjF9m85\n",
       "iJLfkSUzRnF0Lz9MOYCVFg557r2QIHlLunfsxaB9T4F+nJio/6/ibzaO/PUZb7hGxKhf3a1cpHtV\n",
       "Skd1p07kzdfuWsCI79wWUtn5fMj/BJam95fgwmgwRYsSKnwRLG3mbGJRitYqUFgixKyewuPDsdx3\n",
       "7YyX/OlT+ICotuODqqeMW2eMadJo35KD1bjYhQ+kH+7k1FYeRxd46z/YTTnm+aAECVw7s46f5Ct7\n",
       "22cCl6vJZtMhybQpGyV0j9VB0AjKezg/rKXkSlpcYYM99x8FknpmVx1Z18HWCeqXW9tgFjrjfDHy\n",
       "1KPXs9ZfSqS0j7tOjpuzdkUsRn6DgRls6etl7lRh+EG46rwBWbly1vbK2CFsTbT8WOA5vGyJp2Es\n",
       "UPUN25biE2m0heBqmg1yaClIHBn38bJ++Vc0n72qW4extWf2Cniq29+mv/jaLZIVpSfy4uT23E40\n",
       "rdSaekDQXmrVuncdmAE9MllIU7Xq5BErXax81NOuCJ5nZDJQVMcbFLl8YSA3s4oUVHKZ/ry9DsGn\n",
       "+fr95Tgl4YhDX5Dt9pdjV+7mFiB2EISNxBwvxqYw4+TfL2OXJjxHIVvurZtIEkaCdrugJBcnUPie\n",
       "Wd7ATypCG8mPGt9ZiT3PcC/oUceiOYVEBsOhv5EYZpforGHUqF85kX9Dgz/O///i4d9iq3rhOOUA\n",
       "AAEKQZ81RTRMI/8AAAMADNaYJwoALhtggUbUMuFJvTML8tAcI21FaiCEVI2IHpzRXpOsiVcKbE1g\n",
       "2x3TL8e4H0wo5Qa9Q3RYvo+E0WzQnVbGWXj8Y4MD7Htxk/8Qi1YuVLHgM2aRwLZUi8e7BesECIzI\n",
       "og4b2gdo+W9IGuk/ur+hxnoVJe+fSXVYF9ZDQ4rZO/U7fP2nCW7eKN73B49hUsVPdJwIBgdtQoOJ\n",
       "vLYDjvC9EEeJo6929IfE2x4LZkZImDvVPczdg6R3o6qmbvJyFq37UekjXpSA1PhxEIMU4T9nv0w5\n",
       "25o5EW0dDwOTY+pRBag6bvPFk8m45slru/mVaRAAA9QAAAMA7iwAP8EAAACoAZ9UdEf/AAADABRl\n",
       "vnugACdaNYq8xR/lCswRSn2oh/pud/vgvR0NQvtnIa1kmioZxf1qsJ4Uhj0D4nAe/Lw06xKCUtqz\n",
       "yqWIx0ntpmdkFE6MlfFcQXxrt6eReOTll7FwUsW28Ns2pwxvsj1lZA9QJ5/+Rt7614AAo6Hjn/13\n",
       "jDev2uWl0M336CjdmXI2STGQUwP+HtSWbdyBHNHnCkAAAAMAAK0CoCDgAAAAnQGfVmpH/wAAAwAU\n",
       "Y94HCS8ORM+NEDJwc7CnzE5ikYtMu5Vjs8SramPRwqNAABdCUYVEoG+/5MM1S9uTN3XV0IZExJz6\n",
       "mGO3KyLCxcqZrGDamYLvkon9kax3xt6+JWPCtGCYN/A/dufvrxYrJOlvRjbsfW3l1lbPJu7QdrUi\n",
       "j1YKO6uKSuVDL7cdAPCD7CcidIR13wAAAwAAh5sAG3AAAAKVQZtaSahBaJlMCF///oywAAADAChH\n",
       "eQqAA43qgF5gdl+6JyA6YszVBUnSyx0IC17wmF6ZtIgAHJTnJMIXRPVuaIjIauVHdvnvJ4ka9ltA\n",
       "vd5A9TjJVCC6lbp4wYbT9jUO+K4IrY/bk/OJhBTsMJ0BiYp8zztXL26158z2KZHdRlhdgd4mlhJe\n",
       "VGdw1Yc1JXTGE7sYASVB6WtvB88FzRjiu+QwYVA0PV/eQeEY2RUapOX1n/b/hp6WwDKZLimiSvYf\n",
       "WjhSPO3Lz2xzuOJ1khWxCjMzw+Z6u3SYhh4TH/cO0oqrSh7sTberco02yxnETLqXemVL9MNCo8EU\n",
       "1R2hZspZF9dsK/yJhmNOrNNNV74pnaqWSaJW0/EgUDTlFBpQnhCUS8r4Y7MMHXmiBk91MQM9L/VN\n",
       "6gvK9dS3tYxLxVk/HXJD5SmlfhAjPuUhxst0DtbelbozvrN2UJ0ge2zsC4UiM8k7dNcsqffuhbEh\n",
       "XbTE9ssKEwc3rDQRRt8bMHypQvMlIwxWX5ynCKTYEBH/oN0R7830XOdoBaoG3DSerpNjgUgvfZDY\n",
       "xZ71Ss0UGTdrEksPMFu30XJEAsV6DAiG0QHo/XIUhm0oXnq77wHYlNuEK23ygEdR75/L9uqhAwVp\n",
       "71CzGrrbTDlE8b7Qacjt7/QU5ESR0BNAlh1txM9xnJEcdbDQsbTwnCGOu5vh4ImeozxEV5V7vazX\n",
       "xZEuN4KONRGnCsYPUvlyIa+0Bunu8Qt3J0IBGOvnSHMH3icMubotkIyLPr6awLl6D3GFt+XoBlEX\n",
       "GqFQg4ahGE/SpvT+BRuqrFTOoDNT1DJ9vYfF7JmkLu/uLLqjFxITyUK2I8zfeRnX+Az7+gpG0XLN\n",
       "cauSfeDUsmYD3nFswQAAAMlBn3hFESwj/wAAAwAM4U58NvpDGjVwUNJVB/R9tAYXtwd2N9B6G79Z\n",
       "tIN3EYm5uti/cnWHvrwlzUhVHILACz90TXNThU53JFfEhgpr0niYEHqp52vEfrdNHUCkGw0aS0Ci\n",
       "u7zHorn1I1CLPUqv09SyioqkBcFEeSdJRGooCq47Ct1NVuWBY+bsTVrQ2YRYB18z2a/IJPEFE5IJ\n",
       "oqaGmQoZO4WkZ7nhn8CqGjFpAqURGpwJJxFFHZ70oBIgOXYAAAMAAAMAprhAM+AAAACTAZ+Zakf/\n",
       "AAADAAFYrMFhs9p1aT2ht0D988izSIp2cDYXBah+EYy+krrQAN5oHDUw8XUk47SiW0sPNEh9aM3z\n",
       "cjnRnv4ug12fRF+RTiELmBEZx7BDdNWEM7lkTmKEb1erxK3RPQLKjnD6Gt6fyhFuaoRP6skWiQFG\n",
       "feQUxyltOQryMb1gyhhhyoAAAAMAAgNSwDugAAACG0GbnUmoQWyZTAhn//6eEAAAAwAnyt7FAALm\n",
       "efaUSsbkG63inAAejTcbtpl5rZloILzwhb0h0LU9/KuzzEN5ZHwoOrc8DbriXo5KQXRLnafOsQVu\n",
       "fp/e31eyn2ANx8Xk8QPhnIDxmjzRNK++KJjLSCQDcg11N9fvPO1e+6luS2InZnHVykPGW8QG4erz\n",
       "0GfborYjiYWge1RjGt6Mj9DsqpTg9BTe/U/L0rW6av0X2NpBdO2rWOk2k8+0uO9Bt8MlZaYre+bT\n",
       "3LCYYxBDJBa24m2OoE1k1DU5uD5G5vo57y1OhW4LsA+9dRTv2MCsdfXIR2pNRCUY/uYz4m3xAIgg\n",
       "7JshSUpwbaZJFl39r4n2BZuq8S/d/du8teFuYs9KfBJsxIiTrnp3PabmZha6L2ljipcvsxZcYS0e\n",
       "u+u/CkjRQSe++kIiSxymvQghLnq34YJjOWRs9DzBq1FLceQV+ndLimNvvHXgs1rejYUTvHxJ2o+U\n",
       "vDhEsK9JOWq4NWjoNbNNSiI/z+xOrt3dJxSeN+1hY9nno2JeRmKUmeH9oz11BsS5IbBVmK/C2+at\n",
       "Cd7gWjXcBQ4fdb88O9+ednTmml9PiAJUPrzEXw9xBwtOsP0TIM64bs82ljDoI/lUI4dgdumLgoH6\n",
       "R/FbJ52BOM6zmzOefP2+GxfhObWUoL3j3G/YHMY+tatjV8k1LpVHulxJUEYxD/AAAAMAAAMAAA45\n",
       "AAAApkGfu0UVLCP/AAADAANJKGf///mK5GT5XZLk2oqOPHzgfiAvW8hythp6T5e0rnFrajNKyIiA\n",
       "BbofE/9uhKNlYCeYVmKMqso+BHmHhUkhAxj+sfETdQdPcK1gJDCo0EE4h45ZwsSa+eIIPJqw8zno\n",
       "YjeQZfllFTrsFYdUO/cTWJJFEfSKJsjQI9O3kLUcU1+YP5OTMVAEucR2xlIAAAMAAAMAyWSgTcAA\n",
       "AACEAZ/cakf/AAADAAVDs+HQpFbDEZthw2Bs4fryZfaReLdwdIT7Z0WR1jgAtWDu/BvnsCf1E0DY\n",
       "nta2dEVYGxzwj93kxZ1l7Ve2tm0VNFyi/CP0O/RtKHMLRKjPsJ8zAz3u3Dox1KOFfu3P2oceUP7H\n",
       "kLpzqvBj6fNVOIAAAAMAABDOewIfAAACpUGbwUmoQWyZTAhf//6MsAAAAwApMSEPtQLxHoABO6R6\n",
       "DFjqQObFX1KEf6R78TScwnu2nUX9l0/yoh1n0vnHnOQX7FGDI5IEfhnW0HXvDHWxO1eetIHn2MlD\n",
       "4t3Sr8Pu95PdYYbzb0FjDpM/+a+7Ul6Dd62D1cqZC5BOhA0HxKJ2EB5JNWuOfP+yZNuaQGBa2T4o\n",
       "my9ZT4CWucnFO0UTwnTzqkARyqBpldvm9zLWCQsK05fjGxg79RX2x9P0b7RM42airzji2U8HTLbg\n",
       "1/ruKKbc17YNXVYZCMBN2ZPAfRqfgPddmY3H0St0fVar1kjJgWItNt0BUivSGyJs5YRAomzoUDHe\n",
       "lO7mdlRkvdNt95vBGN0xrNsJ98GB2YJt99XnFcvLh0YQXNMUdZBm24/R8PXnMYDYTYK/UXuulj4Q\n",
       "Z1iEYemC1CUsI6gY57x+k2xgrsm1gptiwtl8l8VYmOEOxGBaYrvbzSNptsoS5u4S+Idq4ilLF2b+\n",
       "WODAR8ytbDui83qEeLawlv+XZ4q8GFwKuDr1GpnOUzJdg2mrlxHh7Qa2DKgtJcFXiMbgG/MBal+i\n",
       "wDxVob67xhX5G98mO7EB5YXXTHjYlDge2Fp+3bYXegWt1KgN2atxyn3DkHAByoBBuUtcBqKHeja+\n",
       "fj3vO7Ga+dWNRsQQ/5OpFkvxcghQQpfjU0CRz6x2RzF0XgHe78RwZMZyeUZry8G3f5ok911F9S+K\n",
       "Q/GzNWBNkFs3qFl5oLbRgyhwkaSt/dyxEIinPyjQrJ6zPj3Cz/K00h9P4M6owHySzbuQQUn58Jw4\n",
       "PvkxKziObaEwBnaohJGZzEOjIozi9TeOaAiGj6PH6qsunIrBat/9fgQHigzvVmn/H8s61OF8z1F8\n",
       "Dfzke5cMlTQAAAMAAAMAAC8hAAABAkGf/0UVLCP/AAADAAzWoZMUAE4dJ8TIFU+frwynue73HdG6\n",
       "V2mMm3XtdYh7Vaua0ftJsJoXEQq1V48nms25b16xAYP9wj/kQHXDF5pu72BeQDf8D7/N/jhGEoRH\n",
       "J56F0OtKnaSKLieENg2AyPu8esEbOqhCbdFXMnt94av5Bf7mVlmgJ6T4O7BKxK1fjD94SS4TsuPT\n",
       "iC69lsg4GbmXDsAp0sh71+xQu7wQkkuRn4HtZyTLM7KI5ok6loMhaqKnNGftDeayqyNcLdeTSfF0\n",
       "vKG2NXd2FGMZ2nC9OQ4W9UJ2xd3UDttvrGv3eZyVB003/AsDtb55nx0gAAADAAApBdAJuAAAAJgB\n",
       "nh50R/8AAAMAFGo3SDACZpq2THqeai7KYMqMNpFLLdzYtJzELaWN7MBJa7sfuT/epVuaRcXTbfIg\n",
       "LV5Y0B1iaz/bDOFbAfgR2aMtP5XMdVC2H8QIbvayn0pYCKvrfkBxv/dUtZrpZjFmFUw7h94JPvC0\n",
       "C48GrY3B25miH2mGZdFssSgokjnhp3RGA0xoAAADAAKJkADpgQAAAJkBngBqR/8AAAMAFDBGBxvg\n",
       "ChQ1dSYlCoMKKpQw7PzCO1PMRAdPNA4kMDFcJmWx3ND2znBvPLZVlr/JiSy80rO4864l86lcfx7O\n",
       "Tgfb8LmAw1Pic5uZB/qYfywRR2wNvPXOeZrvds8iFfFDsYV5mMqXM/a15TpDfTOw6QoYf6sWvMBM\n",
       "z6ENlXmXumPmAioAAAMAAAMADolcA6YAAAK+QZoFSahBbJlMCF///oywAAADACk47bAf564S4MwL\n",
       "v7U221zJsVSQI9A0fwladJ7PsPWN3oNqS2uaIgxSEK9X0HNOJdjvafXooB5qbj8s/y7IrIl/i2i7\n",
       "JtNVDqt00X1PGgzhVtDhZSAYeCd84E+KVM4lT7FQ/hrxRgwT8a1vrVYh15QtmvpTvwatuSgiqFt1\n",
       "/jVzHiVLbzmuFlA6Om9uI3PFECZFqEANBg6lQs0UjuTFrUtrSm9lAjSyPMLjTYjzBb9aS01Dwki0\n",
       "cNyBApo1x0fY/0Y4aGOusFmStnRv548xV+O5ixzvcF/tZ80ruP7KRet9eR+fTdD+0PjMdTKAU0j3\n",
       "1FGwQBcb7lkqCBbvwNOUmq/RMVo7wqBtq7a5luvpwPU+O+Adi5voPOdrIiy+Pk18+fAZgoNT9eU5\n",
       "eimiD2RQ2RLPTY8fZwKbKdmOBnxh1elLpwrzS9WVhCuTDTDr4f01XTBCcgOvc7MdYxXHXxc6Nk9D\n",
       "2xadIQD4zqC2cWhKWWk5/ld4RVEl0+S0ZdXg2zCjVijybt87Rp7T1RSZzE7wVA2qRtiqQ71LKiK0\n",
       "nBnn4Z1TUPpeoynD49hwh+MCgZYNJRz9TD6a9U6ThsGvCX8f9YU+3/lf2ncTIE1VnYi5KSTlgzan\n",
       "IzanBKcl4Gn/ttFDmAJ2E+rruTvUCxFkID+E2qTf2l9ONs4a5/cFIccwVxIYuAqEyqpwmLI0ey1B\n",
       "InEkDyYEb7dugDNWEtmdDYJ8FbF5VsbJOgQq54WVt4FJi44qVX+92asCAqULta+/gO/I2+T1KV2Q\n",
       "85kvBNh/k31hjmCV3mcx0c6JN8CCPwOK5x+Hnz02UJIc/yqscGVFePMb5SYrDv4tA7VaLTLAYANo\n",
       "FVU5uCUt3sU0WzdIl5wH3SDPZ1kdnL6aG+3vrr3Gh6kFTncAAAMAAAMAAIOBAAAA/EGeI0UVLCP/\n",
       "AAADAA018JylGWgAmzJkpW0NMK/nu6D/nz5VU5ENVJ3s/ku+VBuCbCDYgywQ9O/nxbCmrBKi3oon\n",
       "322SE6MenIbwWo2fxLzJ7Hb3w3JsBr7l58AtGJxgHy8McX3F21qW9r+KTMH/plEtu/z15pDINjXx\n",
       "+Tbpg3BkGG1o9Zhv1CbyvdwqTnURWRszHUjOBIjhlxVr4dPLPCsdhXxBAmwNEtsl2hStUidQxn0F\n",
       "x/3KwgHsIp8ds9i/ueNAhhVftjdiEEstUNGhp7YCzf0dk+lNTHjtnBAjWqCYPgLgRM9te6UZbuAo\n",
       "PaHKhWYoAAADAAADAABtwQAAAJwBnkJ0R/8AAAMAFGW/DgQAThmDeuzsIBmb0Z/k30GND0zJ4TyU\n",
       "zx8vVSdDqHAg3QWfkfJRjGEhE6ufaYtd8ke4utN2ZHRvDR68GVI0qfuGSNjqLgz7WAxgB8JLYuCO\n",
       "I8DUjL1Jl3Pjy/Ig02hiQCYrZuITWeGwXP1U0zd7zsljQh425th0ljU1fTNjWoHToR7bMAAAAwAA\n",
       "AwAACkgAAACpAZ5Eakf/AAADABUR8qw+hNcAE4aMABc80lq0/ZY+BNYB5Ivwv+RJCZOghhAuf+TW\n",
       "KAiPEguAmCs/98NEmOqdbImGKM4J9omA43zQZrCm0M/29c73OUrOFbwh4TWoE4/DJwfpKvZcgSaN\n",
       "9CGNPqyFwr1V4/aWVwX1TXRVUwrgv8SrNwusA2AqqrtW2UyCa+ax1WBj4D6FjsbRod+kTvpgAAAD\n",
       "AAADAADpgAAAAiVBmkdJqEFsmUwUTC///oywAAADACt5LsqMd68U0JQDR9HD0wORYu5YdszLkk/X\n",
       "wvBMIk+C6kNJwaQFefQjpVX1JyqxU9cOeQwQ2+kNknWLN2Oxyumrk0/qQavq99a59BuT5k8yxrHy\n",
       "deP59BriwrcFEUrbvdo8omjG014CJi/y18dpyJxmO1h3IFnLQWOe58jQeiOqZx3XfQC9jLstpqs2\n",
       "GC1VkgxtAkaXjiZCe5U2fUkqLqs4ghMgv5hWgV3wrARWWKRj5g+2eiEGVbWG3hEjsl/94jTyDuE2\n",
       "T6//UQOXCw0+v/qY2BIL0evEJ56iw8vH6xzzuRQxwcfFnM+GWubgX03JWd2AX54D7NO0HI+dZS/y\n",
       "2MONrqnT+Ve88FWPBV0a25Q9/yFyttBA3QixuNMrMUd2qAYQTwS1fzjVRHwh4CtFTEdN02WNAnxm\n",
       "PJt9XrCv2GMtDXmA+ku9Gv/NGqLTuaJ6r4dmQUTrlJzlew7lncAa/gVFjDaP+QSL9ItcUCAHGIB1\n",
       "MYCtesvPSMdQ2lKQCPYSH+Q9BHuoUoWYd4/tr1vFaFSolJCEp0fVLTdRpV/NSbseoLttnzG5jXMV\n",
       "T/HAmglySbJxX0I179X+d8t0bsg2Hq1jN3zM8rjsyYhlMYhFI5Ac3M6xEX+H3g297MNq7v1oo5jN\n",
       "hlKN5NHVeOJgxbHr8mxZgqZvaY8clm4IrsVh88Q0KCJ0lDroO18uG8ONULEa8DcAAACwAZ5makf/\n",
       "AAADABUCTM1zyK4XzAA7WAw0K86PLmZGrnwgaZl0CVvdFoBr/3VbsPfQJA3V8BxuhPt/zUa5MphC\n",
       "2eFpJud/3zYwB+1NnuvY5sevJzK6eIMk7MmajIEMpvPCuPK+pRvm0fu9Fir3rulxcWqt/F45WAlD\n",
       "1n/b1GWfZQELV1jNJXniCXCPKlxJlabwkrfCGB+5wuBu9ihzRRj62OE6lH18WwAAAwAAAwAAGXAA\n",
       "AAKTQZprSeEKUmUwIX/+jLAAAAMAKTURAt0AFswHkcXBN9PnvpJe82rCFRuL+URFyqTi1qmtXltr\n",
       "e1kl3QngZuER6w/ORU92O0Y7kWaeriLRO8aU8b+p0b9KVxHbsda0qbuVc9Bt+HiURg43DdW6TEVh\n",
       "kdgHM1EHC7GrpLO21XLdcYReLmBwVfmDjRhElOe0Xdfl/6ph7j4sXc4teVs5TWpUE9tN+1vD6EMW\n",
       "0N7vcpf811QR90DtDI9csXgfPv+uvSpYZHz7DbD9URQia0YYruAnd2/LGT+UF1cw9jCteRMcN1f1\n",
       "g5CkEReAckTp+0ILopNqICDNVS29BnmyK29+R2oT1SDsb0oEXxGxOMSdHsecDIPF3MB8D55jPa+C\n",
       "jFQtk6aDNLXmxWwWdqMAUiI3U30OWhsr9Zd1SUbVmem/DEj4OMLkZ1sApDJEScfFyoWqN7MfAsau\n",
       "VtofNlJu78KipDbQFQKIJKq2ikKP8LMHvNRJUSOQTzWBY+qO+GV/pXvehM9xywBj8xDXpB5XHWRn\n",
       "XXCvpxFIuVQyBs7apJqncFOtgGLhoqOU0e1tRD+MHegdzn7B1pA1pB5tPtZRocr5qv4RTfRlR0sY\n",
       "2FbFEY40qaGJZqlvAVMAAM8NpGV40AVA0OdfaBIb0nfmR/yRN4BcPjtiJiJkk1fKQ5zd7cF/mv4P\n",
       "/YmdcVuHIcspo1nu6L0VHz6EUYRzF+8d4rvOjlPlSSRUbCoHfyp8qj8dbMwE4NsYajlZtV5CbXB1\n",
       "RQojw0jLAQUv1HsgoF4fpeg82o+02xq+//AqlE1kcJWCT8QiEbEVzDwhTzRvHQfEYhz8dATKNx0n\n",
       "zcerq+rm34hJcicPob8Sue587IFuUiPswgrSc4o264IPXA0AAAEGQZ6JRTRMI/8AAAMADSgOomEj\n",
       "8WiJrXJ4c6VtAzRK3I8YvSvOOcNAvmll2SyLJ/p4a4lunjjv0pdKQwt7ieX+rCN8NVNjJk0ekFwu\n",
       "aUojsx5Jrkb48YWEh6ObB0zhC2LopZHTfYFQ3zlekAHud9KQbtgEYBfh+2kj+b3lx6ZaIbzQ3IYT\n",
       "PqGKh7TzYyo0eczrj5OKM3RmkdVFWVHTIaT4drXhdJDrxxjGDHfGI3G8e9YjXBLaOi+3SzJviv/k\n",
       "Kr8qlsTcTY7PeywdiS8ZON41RFan49Af2/68yaTSuHhNBLjBWlG70fLaN992FYGwL67fXbFDuu4V\n",
       "JjuEpGpz4AAAAwAAAwADZgAAALQBnqh0R/8AAAMAFPxx8qf3W/GbM7cN3DJktcjw3VlmA6YKik7r\n",
       "/IJGafinmTsvABF8dZeqp/493e/9xJ4Ygcys1RqywtxUdzxILFJkbdNBc2CTi3NcOaXwK3wEWNxA\n",
       "klkX/2DNpqQMqDpiqvDGKyE7BON2Q6kMV1KMaLAFzEbBlAJQbZ/EABh1QpCMxkSGoyz9c4w2TTo/\n",
       "pRcyIJ1Jqs9iH3gBtyG1JyEEAAADAAADAAADAW0AAAChAZ6qakf/AAADABULpeeQAtn9xkR3AVQf\n",
       "kEUZf8Bg3cHzzodtgBStkFee2gbDueZBWjDiDwhPMqDmUGtjPH9kxoZSSVJOXbEvq0C/Ns6xtdNr\n",
       "BiCVq0K4Oo/ODwDeplyBWTXYD2zzAhpIO9VsQFEn+ccihwC6WHeP+olMNMo6wVhCCcxNLgWJk0sZ\n",
       "i1zA5p3LfmUCBshAAAADAAADAAADATcAAAIyQZqtSahBaJlMFPDP/p4QAAADACo/DRyU6XYef6AF\n",
       "t9tnICWxqQEuWk//P6mrO48u4Jaq3Om/23T9qzYJd9mLHvoB+T2tr5EP8+kwix2OksuXyktOitt6\n",
       "xRJ+rghjZ36iPRtDQpH7FTteg6cBeOk8Y6ZVu8FcqGnAZfcNRdSbBeAzhf32pZe0KqcPSPB64RV8\n",
       "WqL6JcT3QOxNA/H5r08zF7DHSVIe7Af1+sLUVAEuefZy+lHOYZa7B49FdrjiCzCiqEXf1eIcy9Vv\n",
       "Of2t0Nf41hythaS2VaTdBJFUc4qn7zfG2Njl+VvoebxBbjAOZRpNqr48ojUd/9yUk76L5Rx+vz3+\n",
       "Qq5nUgJwxi3wNR+JQA5PzP9MjhlZH/bVcM6YaqhZXayr02FbjRkBE7SYI6s2T9qaKC6YTXV+Jogh\n",
       "iowhUt+cTA9bUppPyMRGzFpVF6YXulzbPaXJwoAKBu2w5Ylsz8oMpSbSFFwQRQAWWTmBcdCix7LT\n",
       "nKhQOVqny3wPBV/EV77/c0+Z7CIwZU/rHkWcJl83xUROywLkx8F4+mg1j6N6JfYv1O7YAsAyPvNe\n",
       "coyk+5mmNrg9KmdIrPKtM2qC5YdrG/dBhbNlcg/gFYW+1TcI80aGlCOY4YG7EMm+khUrgbm10Mmm\n",
       "i38eMt5D1g97nhITpr1uiF2BjLFimr9ssSo+BZnCieDpxYNYOV4/iEvQ9EsIaUL83R5qEttMjYZ4\n",
       "Fch6PodTdr3lvmA4zF6yoMswyQAAAKABnsxqR/8AAAMAFQIpPfrPTpoW/1381CqCYfZ1wmHTP7Kf\n",
       "JarwNQc/TKiUV95ij4FVRBJjwaoHbZyCB7FUAArbDVUvvw2z1x3wFASzZQqGTFVcSa6Pc+lRuKbK\n",
       "IO4MWQFzSakMLQs21DXNPgoVhTqRfbgDCjIByTmQBK7q6gbmTjt7vByL9dPzCMT5+fd9/oiPmJtq\n",
       "mVeAAAADAAADAAKnAAACmEGa0UnhClJlMCGf/p4QAAADAConXvMEAHKN9rXGr7q2nfkP4/3K3tD0\n",
       "Al77RqVGwRD4IL61/H+ESD++bQj93TO0bJYDMmUTawFp1Ie2xI2QBBmhMp8WGLmZFXtXppJS84Mw\n",
       "pvIguyrBLIxlsSv+Y7+6ydHIjjxN9XXn+RL5nDCvj+DnfzAvKTjdTmxrOd7NsZYXj1LZpHtd0kvo\n",
       "qGvw34OJP0ADmET8pqOnXBLWNY8EapHcAx+X1xJhuimyesEMrwl6olkSXALpGJk2wTkyuSFP8lYT\n",
       "VOIuHUI4eySzqIRPEipqVvYcL9KqJ5ducgGKeABL4grjLKxmVQDEHo7pFOzWjc1304C7nHhfjIBv\n",
       "ZXd5K19E96bdG2miV2YwGegwXhdnlxQSAm4wTtXbKqwrqzQo06TOMBDApu6ujDsZtmMMS8XrsAAk\n",
       "LTPtPmg7xJiDa8gJDfTksIrYj55d4oWLe6aEZSVzojLadnkCBoUyrQO3sC2B2VuGn0QO2kQyT72U\n",
       "Jy7ObqgjatJgSMpaiRwAeATpA5efy9TF+/6tNqIvJWWxrbNszwLOc37E/RdVVxdIel65YJAvXxrb\n",
       "ZgOjC1x1owJZv+HsmSO1nxz4KgNfqRfNI76ge0yKoQRbgllo0M/CvF0Ive/z2brj486XDfVaZSWw\n",
       "BZHv4xO42Hsjh4NkNjDkGpW3Z/m2uatRHZ+ngDxiEUQERjthMkr4h8/1l9iSikP4h/4YZvz0Vzg/\n",
       "CVHO6NF4symI5yVSeJxB3uW14Mwpw3V6HGKqeCK0kBe19GMLv7L++U6vhkNIsv5rGEiuM6cOU3gs\n",
       "sLOCl0f9y8CW79VINV19hZjEqutxvLk5UzhUqx6HofN76kkBUeqFHV00UqMT538RcCZggaAAAAED\n",
       "QZ7vRTRMI/8AAAMADX+0bnIPQAtW+Nvun+ACaMSw2EucRVm35nFwKgG7sDfgfcHLG9pcPRZwSkHT\n",
       "7xoPOKXeg5yM8DMD+6XUKJPEzHKo1b8pWhYmkjvfz2DLtMyOQay/9bXvc/LqyL7Y01ySgGgFVHCg\n",
       "lP30/MUB2OSpwT23lTXGeBU1Lr+MbD+z6AkhoB+NAVd5FjYyglRB2tnPtpLQJCw9yKsJqjyvjuoN\n",
       "PXTB92U0SMLvWsGv9fe0Vi12CKlAJzW92mJImP8FWuqSk7pJzIGIrXumHnDEHbm3+/ePgD2DaQ44\n",
       "5xCtRRUF/ecbha+faFxAAdlXuKw4AAADAAAJ8rcCLgAAAKQBnw50R/8AAAMAFZ8OrfEVVhAAm/DM\n",
       "qJT2WcHHAGl6fhUwdJiHlailDSLOfuEJZmuthhq6d8TLbb3IWyHHKuMim+/r/M4LofyOfYKZBdvo\n",
       "L+Cz8vgXNZxI1220QkNbrqeOZdPJFas9UIyxwmzkLVXLk1CPk5TgDM8+DbDtJLBLot9/NK8o7FHM\n",
       "8Y4u5TKlbt0rcFrLRyHBLgAAAwAAAwAUYMACbwAAALQBnxBqR/8AAAMAFZIMiQlOH+SghJxc3FnK\n",
       "Qx0kCilYiGA3yJHEHCbA/A5bSIjQAAXQABJ7o70PUlVJlzaeCF/WWkc7jQbyNe3EnTKiVUvc/2GZ\n",
       "2U3aWue+Sv49PxJ1sfvwDAZ7BW63vpWJe4MWyuxQl/GCBhTfr1rHlXbG9yn+qf17tgbue97X06W6\n",
       "H1a5A071kr2caKYrSdOCtZe+cGVyl57lpnn4YoAAAAMAAAMB+trgI+AAAAJAQZsVSahBaJlMCF//\n",
       "/oywAAADACpMwAqm9rkACrzLIeG8Ec0p/pn32XCNATuWHjSj7ZjmpaNN438yTKDum5l4Gi8izCD7\n",
       "OILTDFTUZ29uT74QddnLDvWiYwCI1uc1Y2EVA5wFx1a/TCwvruJKyC9AqZZx/oh3Q1f4Caik/UOv\n",
       "0fguCU8rujRRWKwtdZyVYnW4r2X4+I4USxEHa/1bhzWOOjzW2bHCSx1376jzQ2L31pmJlzTjTzYB\n",
       "paEVIc24kYuKsaVJDA2PCfZhpwvELyJn4nvEZr7beVcpsu4mU5hEFMKtgvEHEODbRjmm4YIPwq/j\n",
       "8DaIH80tnrfcbRfdeiIFDNsRv7aWibUMsOo4KYxO69RhdH+lqjw/3UegvgAMeAKO6/MYBX0KJuJx\n",
       "88BJbrJ0mJO94koCGxcr0D6ow4LP2MuncfmRRhENhv0EvPwdpyFG/TZXoXbh2vRncMt1RqBTIXsb\n",
       "s+ZaTtd6tg/UPYFCRcLcFLc2JdoY1tXYcRu6bJW68fbIoYmkuO9400iZoMf5vEXhHsX1LMoLPwbc\n",
       "3IMOFD2Vv50Sb84nszfz9Af+YDoOzFCiwFt2UE0BmbBfbGMuslxMH+K7A4gNvFT8zQNzxsUEzVV8\n",
       "jikI3Z3X+Tjkd20262Kcf2xo5gmlss9YBEBKjME/S8hQz1/C1jtFNulOyjhmjM6c3PRvz3DkwY60\n",
       "J1tVR33V+K1vhWIspHEHZhO0CYVAgcBMT37P9pvD/8dEsSjdeRY6QgAAAwAAAwAAAwI+AAABIUGf\n",
       "M0URLCP/AAADAA154Q0HKePhwiNf56BFD9YSU+OjH98pFACpqPD4SRHnSmMs44teVlDhH0BKxL7Y\n",
       "xZXjfLf+5yC0X5GuEIwqOFSHswtU2lvgunUn0H998mwUu+s7igw1e/lTpSD44Dqzlqi7G79BtwAA\n",
       "7LfFC6rrFCX6ap1MkCzFjTQ5QZUuWLYnmqqZ090bb3i9OqczF8O15aGYu+49l/rRjqNWYzHYTugu\n",
       "r/eZphkBsaFhsTtLR3YFZIwyxT7qgYc3fl863RR+O+UeCQS4PErnZYNgG/gfchfGp8hNyXZeDqpg\n",
       "Wzazvd38EYoeGYymiBqvWqEehfkZSYFrPSSasgx1Rt7J7qLxckPzdgitG+1RZku6gAAAAwAAAwAA\n",
       "Bg0AAAC1AZ9SdEf/AAADABWP4K4A5lQRSlO25bQAtwABub630vzQhsMMwbA9pJULq/L8BcbWa6aE\n",
       "sCLFXrsAcIzfjEk/LXuLcyzc07pD4uKOznjfPysNo3FNBiRAoJ4rJSInUJehMTWAhJj0ocb4aLXE\n",
       "1Cdi/7xyJ20PsNZSzssQq4cX85NE37HJ0zQ7t3LFiKVt1zswdAbegxkgiUZVaxeNQ+UmBoq8mWlc\n",
       "tqD10QqLgAAAAwAAAwAGfQAAALMBn1RqR/8AAAMAFZuZghFfC8wbrpNd4ksT/2s98eoK3llj/Fp4\n",
       "AWpaV5f/K+Z86rxoCM5hKjSJh2jMvFmKFQd1WRHNEV7IveV1qgej+XyMG0H8OX6XvPKucIf1GZmF\n",
       "Tpls2BGb2LYLCFVFj9Uk0nkQb+fcaMzhTlV/EbMq8N8ncMC/aRmH1/n5DLb0w1i+NG91VaMyGRZi\n",
       "3c6UeuG16QCl1EXXiQhkUeP4AAADAAADAAARcQAAAoZBm1lJqEFsmUwIX//+jLAAAAMAK36BlGkP\n",
       "09ABOy8lnFR/OGOJglkcouIZW6qZsI2hwICHpGSmsgIeLreGA1Ze4QameHImkog+XVrgcIioEAuw\n",
       "k/ChTiPyCg4cUHzI6I7Whv8tEh6xhwy9V04ddwD4KgYP+CXzV4FlfY2txIt273dqzTpyuR+19M2/\n",
       "pK/GKaQMJjjej4jydtV9S54btZbUpK5/e36ix9a89BnprtnsqbCyjI9DFd4IYEe143aMkOkG0ZAX\n",
       "AgNpOoYXSdoCbWUnskCfPr6G5nwtK6hGmVxr8GWFL72jyvgUn7oiK8MW8ny6QpYXB9l6QxWg1pUx\n",
       "nDhKDFYieS7pNROtKMxvZJOQiCh4zu/UlRv9zMlIIhM9FaArKjUI+724HEg6TJq38iydj+9xPb3G\n",
       "g07pd0fylUJ18OW3tC+01VVOOEeGWe9CYPMME9KDJkBlR1XcTcvl/Ws58NXyc0OBgdcMPogt5Kpb\n",
       "nwpUVnkgrLeZ/J0i93ebjRHLYB7uj0seo1Bau/AA1hBUduiw0aNjXOi71A6BhT+0sr9+hoLjcW28\n",
       "Exp4aOYEDryK5tFTcwxAZiABhebRnMlVBujJfNLXkxPp0oTXz/z/E6crvH9Rrba/oWkJGstQxBzu\n",
       "FbZDWpv+n71dGrgnRiJ0YsrVexjPKFj7rnr6eRrkwTXVkaXxzKBQ4zNyyDNJ/2mwVepBlgJ4HK7L\n",
       "G74X21Y5jM6u6YA0rOYrwXy7u1H8PvBNdkOaszr6xPRidYV2Gbe/qy7UCK68uzM/meaFSwRsX+If\n",
       "umNMERMJFok5EK3cj0+jqSJrC6AATGZCWbLdptt4vX6ct9YZKKqEMSkeZGb8wrUz8JyAAAABEUGf\n",
       "d0UVLCP/AAADAA3PupqKrwU+zIojjKJEitQ3SiAFrk+zbwDpnMeKvht87ZAM5uGOuAznMk53La/W\n",
       "VgxebBfaDe0rCM8gjXY9PderhVelg4pkyK6n/jQyloCeICPH0yIj+0O8eFfFHT9/pGj5BIzEZaWc\n",
       "ErDeKMnI3mbAmyhu2M7QmjI8qLOPMBPfNNiYEii0869/3MCzb3CA2diJcVDDoj0emu0kj3pYkct6\n",
       "+0qjE59OPvgy9miiid4Vhz96ibVF5+v+DTi6Hq0fC1aDeYQzEk92dd38pJPKo4Uo0sJCix0vs+hr\n",
       "NCnMl4L9eXxqZHoUCuEMHueEWXFu0bBbPbl+mL8usqVAAAADAAANe1oB8wAAAKwBn5Z0R/8AAAMA\n",
       "Fi8Z7jL0r0fRwq3upXIACSuBMGwciom6VCsiVqXCJR4yM/SHNrToGw+rm/5nxpejyAsElcZQrQUL\n",
       "RCLfWEHiA1tVySZMJPFngLaHIvEyBHuwsruTz29uCYmTZ6sGI/BI/mqlAsCvRvEygjzLA5kw7ulJ\n",
       "DPMKXd3tZog1M7iIRjeY9sUQ2dY8iIdzXdMpI9UjXVv6meGNAAADAAADAZiT8zqhAAAAogGfmGpH\n",
       "/wAAAwAWIgzL5LXXBk58+ru7UzvMFBcrzSsKhJYNcMoe3VS3xpIKI/e60niWAZ6mFS5B2pm1zxH6\n",
       "TACTo5W4yjuog4HYijnikcIkOhzCqp/0WlLqRaZMxgbA2g0OsvpC92mi6TdbKW+8ngv7awylN2bP\n",
       "E92hfnI83CIbDboBLVP9R5qIbbfv3ff+WAfwnmvft9XAAAADAAH7/SBlQAAAAjlBm5tJqEFsmUwU\n",
       "TDP//p4QAAADACtHWMMQAQ+M72fdrDc+EhTSFouJ2pC5GJ7UZdQUnw6EBYzRx37jmJTKQGM/rkko\n",
       "/NL47RICarUPs/dAxHvNw0zzNqGBuUhJjwWjwvBUypvY+QaSM1G1GmixdeQjv/zcxKsczt2GpeB8\n",
       "jtoBfvU1U8trAon+VvOhYJZ5CndasSGWnXHzxeKflyALo9NGJqeK54jeJiSn2eD9UCuEYVjyi1oV\n",
       "lVyerHrVeuF+c1SNftpmoCS6c9fT1o0pB5pKcbF4+u3kqlY2cA1y4EgOwGapru/6nLcPs4LLH1fo\n",
       "j1BedcEPcPXJ7sFKEI8Uw9CTj6wLv0PSURMsHqh0g90fGfoIr7BmALKuOkjipMVWtT5733kVDGx0\n",
       "deZh3WzzrO2vUWeFaFZFno4DgBN6NAdz4rxHWC9fLiSMiJHAUB1X8oWeAZdy0VX5YzkP6LNKMsZz\n",
       "i2di1YhuwcRZFejmZTe2/KrldrT1qWcjxkYewW5UNRFvbU2E1HykMD6zPTNOdTuhQnyHEfXRew9L\n",
       "xcqNNzfrWLsYStMpzQKlw9PgUWFWiyN/9I+nRZzl5CDMA3g5fAhwiSOUWcV/mLVoHEyalMUWStlB\n",
       "lF3IF0yGCvtp8fpGW4fMahk/kGJDFUkjPWBLGV26PQFXt9yjWjxOEbNpCJqMfnIoOpXirnVHJn78\n",
       "vSJLKbsPKp24APqnmGLvnctoOvyJDZPgdOo33JsblqkoVwaEAAADAAADAADKgAAAAKUBn7pqR/8A\n",
       "AAMAFhQOvOMtGf1cSJPJIZDWNQ8QCyG60QVAzs66inRtS/G/GvyU64U4tIlXh2l2EtlEuAgecHp1\n",
       "j6Nk/sLTcp39Fs5oNlCQ4SzkE15ONgW3S/1wgZ68eqO7XqSnN0sLKkH3CS691e7T3UNncvuoFB9S\n",
       "1ye+K8/BEq+fb7XFzGzO6SHRlFx0Y0fHO5VmEBGoJAUwngAAAwAAAwAADPkAAAKWQZu/SeEKUmUw\n",
       "IZ/+nhAAAAMALDXZMuBsmBTgAzKjiP+ja5nZnhtLtNLoKNSA5lz9v+nPV3e1e0p2CeLWKYBeEx+q\n",
       "H1e5aueji3Gzy392kAlOwO+9U82rQPifBlJBxdwHgmShG9izAQMMiIDCgBfd/duRcyAQEIsRq3O7\n",
       "mNEp8lclFtv5g5Oz4TOVUOIRPHgRlgqP4Wn1dfuDqhLjL1U5cSV5IYpPJzMnTd5MsRPZC82+U7Fn\n",
       "hgtAGCDAxTSq5y9detkEOwrqYLdaccbVTNRiNeF4xMzvNWZEQ05n+1QpRKdz9GRVF2GURlsaa5h2\n",
       "t1eKjg1ENcoAt+2NJrKF7wPBXuBJ+t/MDtpWaB7iD44juaiwQd0KOKnzMw2jUdyQDv18Yx1Cuosh\n",
       "D6uiK4usG2U5RNAp371ZISLgNmEN5Ue8wHYgthhP9nUGlxpryBi9P46U3WFEnjFi2BmEEdz5Unrw\n",
       "19OqUhNy1P/H5PwxfetOCwNuNRNpDVlYDgijFdDbIGR8tUg9fy+ALjh3mlXSVGAX6dq1gvz+ekFv\n",
       "SM57wp8vU9mnRjfCyiIjO/+VMBRfuymqzpciwIjMymkzNILRaN+G46BW6FylvJ+HjldYJonb/zir\n",
       "+2zTGaPeQ5dqdukqD+Uf/QLkmiVyE9a7ujX1ybB9KtGKDJLetke77/S8Lpik8ZbA7UWawIQUmSjl\n",
       "/8EzUnSThzT3qdRgn1ROF3h8x1Ysf4g9rXrOeXyfhHvy1kH8pNWksnJa2te6yAhXG+vZg/Q/vq+O\n",
       "R+9LyQctUC/9nPPd8GgcVKK2bdBGVRaLNlocB6G8+Jy+q6USqTIAzppykO2l6a0NzGQabA00EU9E\n",
       "PveAgwDm9IcOrriCdSYJ1knH0BNxB7Gt+IAAAADaQZ/dRTRMI/8AAAMADiw9acMbe3TVxBGBBxQ3\n",
       "4jv39Or0hZhfUfgWhpOg/iIjsLYBrZnvkE5uLkb5MKH+6ObxoGnhsmvMR6KQzxgyT1J0maMavYT7\n",
       "bQ4RQ2LBocg+KVssAqRSuAa5tRkNzqC8q3dtcQLDx2KhVZgx6yDnyamBhB7APGIb0C79AIzTdTAn\n",
       "fEDCvnShckD/EzaW5lMPbDx56U7ToC/FraBV6f8UZCnp46TzuiFgRJMeFVSUJMusuYwPD7fdFJS2\n",
       "HRsNwZ2R0D/DUAAAAwAAAwAA6YEAAACbAZ/8dEf/AAADABYtToxnkAHUSWhihcZRV73BqE6APdTs\n",
       "ChhusCX/eNuk8IajVo7Lyuv8jndKKNOaEUV8+l3wlskF8P8Jsaf15WWLswuqQJpcGlJn8Ro1V+bg\n",
       "AFa0cdKZ7ZmezWcsR/ySQ/ExFW+coEJL8dnWCKXrfmquuNDYO0UlnZYjZyUEC4UnlnXHpsKrLzYA\n",
       "AAMAAAMABZ0AAACbAZ/+akf/AAADABa8wMhPkg3ZM5acmCvRHUR0ZG+fIKhNz1XidlkXcVqyTr7b\n",
       "XmuaxKY6XqEd2JLlZ1vU4BrVSj0lN6b9JzHXh/elYKBU64m0wURWC4D3ck6wcqxPnTxQT2R2pNz9\n",
       "6eB9u8+L28O0AN7Ia+ywmh4Cm5XErd7KODT6+0KZASgOFZ9IHEG3mDWu+AAAAwAAAwAAO6AAAAJJ\n",
       "QZvjSahBaJlMCF///oywAAADACyVK1cgASme+xSfa45V4F4hSHOwZnIShfE1DtpPk1x6pOUS/dhM\n",
       "8f+ODdDkStQO1m/Yj0527FF5n9j1+kru0A3kSlJrUcdkBG0V7YTJz8saQpaAGq/kjrr+eyvsumVa\n",
       "6KZGSQ8mpqzRQAtOoDA13zeI3aPfoyBNRypsIAQcsNB52ay18P8fG9uF6Tu8AXu/f/1akvJ2e+bE\n",
       "lI52ETP5MEAMlmOTvhWQEaoNrUNpVLn/Ssn82zlxaQOGYMDDvnsVCTol0fxzR9jC5yx7k3zDrcc9\n",
       "e6Ueny5c0827hAT3rqnMW6uQP8e6fVoGgEnjNNxTe2NvA8jGCmpcPoIwqC3iz8sMdKVy5xRYXO3R\n",
       "/iSi0ebopPMuLa2jcGQH8EfJF28JRu4zv3dXQPSYfFCObDWEoeUAFbOV4mgDIfucSoIs7sYBPuLQ\n",
       "pjS5WRuxY/qt0VpUUIka6scCAZhr5DOyUMjbJQ8uVMjn+vKGloiXYnc0ViSmE72kJffEov1i+dGu\n",
       "VDe9c68MrlRrtAtPkmEWnLuxbSlUKa2Py713wsfKmufEBz0Qo2yvWtvA8LbWP36LTaNUljbmYp6o\n",
       "KMVbYvDAy+m4P/HGUpH9f31e7/sf47v90bcnask4GeKOwVJE0ThPm0UQT/t/vtvzmte/Atp4PO85\n",
       "T4kn1L/f8RD0YS1JUDkY4rtpyBmZC/hoKonATpL7RNme/tNFOOrO+PHZp2gzQGK1qS6y75LgxNva\n",
       "cVarabv1udwk6Ubn+LaZAAAA7UGeAUURLCP/AAADAA4reKSep4/lIAkAFeHOBhrPRXNBNhTkn1h6\n",
       "8HhwKrCP3L+5Og1QvXMn+vMw/KmdXfbCPbxMdA+y4V/t5qF543Wsf7wyqp5A6bkPoH3i9JtUmIQv\n",
       "TZLhlqicbR+inRSnQlVy3e1HVJ3XNdkz7y/TwMVGvbEjxNUWOo9Cw/pOUbAEmX6K70CkoFw1mdnC\n",
       "yYtEW6bE5REErt/7j3hon3o6+t3ivxO7315jpIzUZGYny0fZfy2GFl3zVKLGIx4EXcr7bOV4/zCK\n",
       "6MBSHSzRXp44UQZso/UKEeAJlSAAAAMAAAMDegAAAJkBniB0R/8AAAMAFr1OxrEdKEg+w3kFSNfm\n",
       "c0nKc+JnfJcMKj5NMBTVdmuqRiVQhiWXMNR2Hq4UmBjmUBz3MiDBae4ABXRHAHTkNPBksGeNV7qz\n",
       "q+8hX0hgPpky5jmCsUylFo0o1gdT4a7wds8nnXiXPJrcdJY0g05enh7zsiYSqdX30SU2LvikhVk8\n",
       "qQJrMEAAAAMAAAMAUkEAAAClAZ4iakf/AAADABa7mXDWTFUfo1Nbhf7hps71GgeA9J48SxydOA3f\n",
       "bu4h8sL2iPDUxqezxMoAv8qeHe834rYipEAC6AAAFNG5I6eEQy9yylfotNSs7wzut3eqFEyWYNl3\n",
       "9KyskO6WeNiJ//biGzEGRGaaU154f1VCS9rbBbQE0p4JXIqgWLtnAKTjXez+cRVhriwz4HgdsXhK\n",
       "zQmAAAADAAADAHzBAAACEkGaJ0moQWyZTAhf//6MsAAAAwAs0Enay0OCABn+/v7v7WcbWsEr07Tj\n",
       "R/oTGC1DN9o8/Cr/pcpU5XOlwtWfkQsqF1S2n8LPha0TSwppKncH4l6rfP9ShoBKI+1S8hGxjrWq\n",
       "PHQU+B6v/cqiTkcboQy6NZacgjdNgd2T+V17UKTC88PSs0iCClq0Qz29o5g3Fw7jx0gv3Tkt9ADj\n",
       "t31ZdmWOtYV2lZsrZvWRGtA1FlAuJqteJJ5xcxn3oOvJnVWOlPy2QhOoS9dsCpyN6AuIn7Aa6P+L\n",
       "0wFnnLy/7erKWwYLwDR3HdVWtGOeZKHgtdBnd/P+n1vMsYRWDR0iqTf/DwfJ4ykzFT6xG67XHZTQ\n",
       "QuzKkH8Xq7wy78255q8dq20loXuAYaaqwbZwphiq4CzLNrFAuQ45QuIT4S4uh52HFpcuceB95bUd\n",
       "3OdXF2BFgFs7bhAeg+TSC39uNNaPa4OqJnCqjvrF0g1+V1Ru3DRKP8i5/W7GX17JpnmYoZUuIcH9\n",
       "4vxl4hN1F1aLhTBroqRKA1zCUC2DVGfbCyieGejm2FLyxBKuYx4K/aPTaxT2wh4gVtEOZwkIz4gY\n",
       "9Rdy1Wy/gQJTiWFjl8eXNt9ra80N1cS9FnE97aI8eHkVTONigYS4oT4u/CjfaqFWDOpFxf96p8m4\n",
       "2n8kZI6YcjnjbzitFDp4mXp39bQ6xsmvRYngmO9S+BwuAAABI0GeRUUVLCP/AAADAA4dm55uWkAH\n",
       "5yvKiQG+LJG9wof8hs3q8XItBZ+9ubLzu9AiQJ50oJEdy6Y9HjpldNckVHWSkJJ4ubTX4cDohUNi\n",
       "8nW7pPLG4MoX+r7HoKqYI3GjOlhriGQZhEeFP3dECSuD6tg0TvqWQ9FGjDQeV+A96SirZTE0p2om\n",
       "ZvX8vxL9ozS/tmPljfc/ofVXm/yT5k6KSJ01VtvVJwmhk59hay7dgIRVkGdYq2WjSKn+jvaxDNKD\n",
       "AIyJsB5Eih0WZ536hFejt8YqB4fuNjsryA/K7GyJCn8oogF07jUEzyEuz8ipErfMJv3ai6F/p3Ou\n",
       "XU7ZmxWOTrnqDvuEOWFQljxPLEISFUBuTMUpi25SkmpKgAAAAwAAAwABnwAAAMQBnmR0R/8AAAMA\n",
       "FqEifRT+9/sWMbg0lAxMQW9bQCyNw8dYUybdvkqSISaUnVmMTSLzBkqqda0qzLtLWCEGzP5N9AF+\n",
       "Y0/n8IrdoPcd/EAJmxCjFEe8+MFVYhPPmR0XhnCjcTce7mjZxdk3sh1R8TnAOBI1P+iZwOjSchyx\n",
       "Q8kKHz0RnnmgyFBau0LFXgzpZRC1RI0Aj590jrWPjieZFNT8n/6cg+6oAxEyBhUZlwm0D5CRT+SP\n",
       "CKRtetgAAAMAAAMAAAypAAAA0AGeZmpH/wAAAwAWqQ3bLAAe1pHmZMnoV/nyPWTk1grO2M4GUSn5\n",
       "EzxsP8YelCCiJDAei9bEOlobHG7mFRT8BHDko4xyerj+5sL42bDdfdRSU/EmTYXTpwyNcnHQrgEM\n",
       "AOC3PWiz/pS0vKvbIdFuaZAgfGEQP+xZI+lgIGIG57ASKgXFa7p0SQX3ocyH0lWiXrStB2XisPS2\n",
       "trFnHfU0vH1NNPRK1R9/vEqrvJnoanAkCwgsFKnEny/rukefiah5dFTCtHwrGLgAAAMAAAMABjQA\n",
       "AAJSQZpqSahBbJlMCF///oywAAADAC374l2roa0AAH4mniIJ53+NXvy4hfQ7iyb8rr7rnJ1NKdce\n",
       "0wAlkT8QGNr/pu73wmvp95jdxN41davGgMu0zyIYAHxlWMdY1uremhLIJxba6YNyQykHDH691+KX\n",
       "Gyj4w3LFf7oqqI5qXgJgjN397Hr17CJCVdtmN3d7mBuLk0fOUL+oZtGzXrMK0+SVFQNHPpCe3nkD\n",
       "dPVgmcquO6Vfsal0+p/eSw9QwSQxtiZnpIAAP7CjZH/rMd0yqChK9DOKtv9gpENHF673nXupq1bi\n",
       "ZaFcMzm+VCgBQMbhpeDH1/rzqsbqjCrrjSpLqPqPOqVA5KSL16OanQYn35p69ne70VKKwARYQmOn\n",
       "mrY4hNFKe9VYiyYx0c1bFodhcK5V7cJ92ddzYU1xjqGVPaLBeH8Gh/YN838pLNPQVTo4vmsaipuC\n",
       "au4rQUubuG4LH2NAiprmJYw/G/JrMrwhRcDalrh5qRMhl/PJs4554sYZzkAhdw1jk0fscfIqCt3m\n",
       "xaiAyiFui8N4DIYnIFyE/JgEN4ZLqlqIR4yGj1O3vZSboaCJ/gIg9ZGMWsBgBd6uS5xwGl/zq+Ma\n",
       "EmmyHTn0K1lpRLWm6aV1pSCKsPBbIbXB//gHTc/4HNYL7a4HHgDq54FuhBhb9lmp3JBJXAO+ykVc\n",
       "7ymljmfhZ9FYBVBNSLfGHAEMKjRwvHqROKRa4Z2YYlhxQBQG0Boz8ukW2PjUBbVX71bAaBJBmZyC\n",
       "0k31hiCTwEwPFxvHRBor7F0ZPRkE0tlp/PdFAAABC0GeiEUVLCP/AAADAA5TAp4AiY2L6zJmUl70\n",
       "fWusvPB0B4z+8TqrEjSbS8EpZkQyUuqI9hxmDKm3DQs9GWXxxKjCQ9SsknXJCXI0B+XYAb0GM4Sw\n",
       "klrMPDjdyNTEVLHuGVeVIzyQm8InSkGIkoQYgGGE4uexI23hqVwnWJhNXdKvG0oWI5EVtMdeWJ1S\n",
       "pEGaLQ7wAJzIvKqqy9+CElNsDG80IswsF++TMSRzAVjGyEVDyCq9kOz3zyjz+0MbtPTGRFvI8mpR\n",
       "vh7RkGPDxkK5kEq/Sawfh71A09k1rOyVD3Ty/LnxRkuhh1d1mYl+w8y5Z8DMCgXo6GnnQtp6RPFW\n",
       "UAQNgAAAAwBGrDAXcAAAANMBnqlqR/8AAAMAF1mOABbGHCmHyAwgA8k6KxtWxf8iwK/+yf58HHEW\n",
       "fcFT5gidSooENm5ZFYrPDoQW5/dVuFMFAC7NUt/pMKdbQGjcg5lIMPpp3oqmfIgs8ZR02Am1lFk4\n",
       "CQSvBffcQBQStPRqGGwM+BuWzJEanH6DTcR63zBx2v/QCFG/grdIseyd/QcgkRM4KISabQ37ALut\n",
       "7m3Vycju6NYllGNCo0IIReYciFbobE71urAtPRo15yzTLUeos3lZ91XtEPWI+NQAAAMAAAc0a4EX\n",
       "AAACwUGarkmoQWyZTAhf//6MsAAAAwAwC0tLjEzbwAHZE1X2yPIAsBGFtUGFTH/ILABUcNt1RFov\n",
       "KsuMK6oI7kDD9A/qY4c3/Kk8uv5xl0vNaTdoN2ncQeQUzVwOrHGdoHkT69vDGyUhDI11tadDeNNR\n",
       "bDSxqwmy/GyyxygLuoUAqyGpUBO4BcAzkbbrJg+Xwb4ZouwPEqf5SOoU1f9mxuRCnkKdXrjKNysL\n",
       "/lWD7zqpsFHP2sW8oCMuNgLjITJSGlH1F5mvbuud9fi+Z8N4G2vMsKWDsvpf53aYF6fUtBiw+bHC\n",
       "V01iS62qrVu7dKJYsTwSfkxeGq7BsgKKhYUu2UaR6CMDbtEX77Enlryy2EwRdurRsCZ7mXxxExu5\n",
       "7MEstbznm6M1AubGwjJ2g+5FntHnv6cn5EKhGUNRpf98vIyF56yHjdkQZ051Oka59pcXE8cccXM0\n",
       "eN1j4z0dNZoykHs+i2ObAvSkvhrzTFwj46sCTlX0RexsPToVlQGWUNCBJ8usQTmxaboZAbYULMEh\n",
       "Hfosc9lLkpM9zawfFlXumAKVAunN4JTe/OwM9WBgph9oPNO5ZpdKn73nmLKkl0SdjtIqZFK23pFa\n",
       "XC+8fecWNPvr7B9PRCJcXSre4OY7ATjZaAaiclyUYXK5GA/H42dR2Ir//i0ftjWOw9Osdx3ZPiK3\n",
       "nFGf2Z/f8FX5gHNcNcXqiHn7KutRNU1fiTqQzF2bkWXpnRQT89pe+qJVaoglfptgpJmuQrMlDr6y\n",
       "3wZtk7QGIPDfW2VcFp45xbr+U4wME2KCxz81IQXg9BkajmQRciTWrhFVu4ltwpVLQcMbnwACeGqI\n",
       "JKCQzqGoN+TgD0r7y318uKBkR5pPV0KVpjE2UAeGbhc2KxQrg9H5DjwV3nBfUYIauFGfcJVARRKN\n",
       "tFzVjyWyhOrXNFyl4ZYbwAAAAwAAAwAZ8QAAAQRBnsxFFSwj/wAAAwAOUDLV8uLKfz0AKpU241o+\n",
       "WCrDmVNfeCqHwlKjiyze1TvVp74KHwo3HvkLqciTg6LMlw496TcJYWsjI4oyyQ5xMA7KTrUcDaSi\n",
       "K3lfnTXW2o4eIGpiV4pbF1q8NdXEksWs1WJADqA8xiKmfm6m/71z5uWsCrq+NJcGohGT0v7+Vkmm\n",
       "+gkDkLD/Jw+GTJLN7oYKs/r8VWPDvv704BZw9E78ArVlXUosGz6ds+2lVcW/A2e6XxwsQGwF6pC9\n",
       "Fok6CXBYrtUhfRohvnoBY+z2OC6mgd2tmI0xXdBvufKqsQSVvaXMh3uMNYP5xFaqfgAAAwAAAwAA\n",
       "AwD5gQAAAKwBnut0R/8AAAMAFzEmmgwAs+oA3rVLFEr5RPwm66hjhbrov8KWz+8uki1lnnpgvOAM\n",
       "BDopJ7Tswi2aa/tkAZX7DHer36koeko3NpOSkARMvHUDegIB+HKm5A3oEQzihXUSZ59rH2+3cEXS\n",
       "ljJQ1xpeB3OneKa8RR659W/fHkAyOjJyoykTsgWBi2gpSgllArbjwxeFPm1Ijg5uIhTPd30fa0AA\n",
       "AAMAAAMAADuhAAAAtAGe7WpH/wAAAwAXMSKU5ABbciY5tT1MYQX7GqV1NWmq4y9ThoHXnwC1TKCg\n",
       "HMrWolA8AtlAG4VOGX+cwHBV6chm9TgJV+snXeLenyt9lFjJKD+lSKymPatV2JD6OD9vo4DLVzuY\n",
       "MAZCrDd9bauDq+mGrp5DBmFOntQVIBGoSPiKB3Urapa7eSbcaPIbmwnIBGYCLAwGHtKvNE2DHQ7m\n",
       "8sbMloHjRULC63egAAADAAADAABNwAAAAghBmvBJqEFsmUwUTC///oywAAADAC7YzIAHHtbD7/HV\n",
       "sBLP5dz3bA7tt63WQBPayVwk9Xq3PvCZ7k/++QVTTMflgaJ3HEHmus0d+OXcQ+IbzTZrJJtfDRBR\n",
       "3fmgvKZPbcGdA5mnz03SRScdY5z2h3UIKVXQnIher7RiWOtJmfZjtOdp980NemAd1Aybi3Iakr/+\n",
       "o0KUOWS+EoEvo4Mr4mBvFxEpHm2tBa4tzh66nhmYi42VbuS7iWvtLfulxXOs7iDCvehT+yC+nclD\n",
       "lqLZGdQ0OLtQOkKFTNXwQDs8Thq7sHeUSwM4vfXxxprm5jR8O+aLvVINSVDdbG3cMDPFi73j/5a4\n",
       "W1scvpXorfsKQXdsU01i0VurhYaHyDcJLhiaFiQDA8KV/by2Ydic16c5OtIKNNq+9qLvRLxlTScE\n",
       "pjFqGtmLp/iL+n6ASa4BqPjIa/pyYJcHfPY2wqxxQuqr7g09WQNEHyR5gqhRRBTtR+GGBnyrSL0v\n",
       "u0klrBmmIVLwFOvrBgxIuyfs+UmJcq7DeNUHlwA8+tLf+Sjcn/PzWPnMu9OngA0d2PIoAq9RMC8T\n",
       "oNAdxhCK45zN/KLobDKFtStI7jti4LcDVdOqbB+F8bpbD9JD4jLj5wSyJD7MEwLBCNwO97+lIkIK\n",
       "944Z+G2k10xF7LPJrCzKXN8L86hbKS3AAAADAAADAApoAAAAqQGfD2pH/wAAAwAX7xLNECO+JQdu\n",
       "5+frgDmCimb2g2DrZ1BxTt5EnvVGspGiShNrWewOWFMpw9hou9tMARKfbJ7sfIf0ILw9FMP1ynNQ\n",
       "uMU+f3j2ut+StlYtF0H7djUppy2+iimnMlXVwqZOWyhjGch8P6LmP1fUPMiSUA39h73Kz0RIb+X0\n",
       "RKUAk3b2eioFnD2WYb1WBLfe+p4FL7wRwAAAAwAAAwAAMCEAAAJ3QZsUSeEKUmUwIX/+jLAAAAMA\n",
       "Lx8c2lcbsMBypHdWYQ/9meuEydjxn1u5ehlqzkUEz5yKgqlTp+gSj9l3zx4DpEDuTqtouZcHBjka\n",
       "jxu0quvuBETvL9ZWrM2MRLyQNMaCYWJxjJ1JtHYvfGyABJStAC4Gm2WYMUKWe2I7o+EIXyETtNjm\n",
       "1H28Gqfeut3aLwd9N2prq+yG5d3tODEnf7y2Z8Ly+rRMYtKGYvrs7bQM5htptiCC+y29K2swIvo2\n",
       "5Ep5bml3q8/n8COos97TiXUqJssuF2tGHbWXmAxbw4gxWcquuYaOtw08BpOT4GFv+WrxkflrKxBx\n",
       "SiZ6LnXjC75ggdTkoXGXvKGJqAV37PAcnQj2LnLwnmkDzWSnRK46PtJLN2JuSkcIBNAtBEMvwuVJ\n",
       "xaukrlEexw6Ocp6AYqpGnSGaluCHYjFCNyfAAYW14WuYASRdEFaYh2K2WI+FBOiTUAxOfU+FI4oP\n",
       "ubrF21z7xZrjfcPoJEjX4NFcbKToGqbFgCI1Tf16O+kCXXfjxG3p02mmNtIWRM47mRMckNcxIQqK\n",
       "RdTGZ/Aajk5mDDUjIjQvk8XnaoqNAwPJ0UM2DAvqM+W4WpEB0+NQFg4DI6X/3FVTCTpwZ+r2hGFh\n",
       "mHv2zOMmj+G715KJdF2vPweaKT/QJW3ROdoKr5DuZ+gtQernAtVwrgrH5ZBX9SEpBzmlyRUhaC8G\n",
       "CaYCxDDgWt0i2ckfDFwqBWhvPqlXTPzPSVt+VRFtOjWgzKfvc6LYKqw3PTKCXg5/NuZE89Kb47C/\n",
       "/+fePMPhYESKUgcQmIyYY2eVoDfDGx9BjZyFSG3wuH/NwAAAAwAAAwAHzAAAAQVBnzJFNEwj/wAA\n",
       "AwAO2InwBW+8bFO5UcagqTRJlufdNmbKqwKbXDtJY/LFBU8BFGxfk+zhArMhJHJUZid4VZhu1ln1\n",
       "zR4gLlzDL0YWKwX95/XvhH4XrCpfWFg/UthRe0EpJep6pxjYwICafbwdyb+qglmMNs7fOHCaHU1X\n",
       "RB5F0l7ZUL2yFQ/8FYtKhRWB0/25zl9VSX2rahaXXQYhAnkvCTLwge/TCYzb9dfwLOULO7YqH3xK\n",
       "AXepcKcYzl6z4rT6j5nidUY4ekutqpV2eUDtrpEc2qoIu5lJU+B0i/IdnW4GnoQVfHDuoPDC7pqJ\n",
       "Ga+hcwk4oIQEiQ5SPAAAAwAAAwAABDwAAACnAZ9RdEf/AAADABfaUrAXEsy6vWFnHc+MuDwMjXP1\n",
       "OtOFoywYP3cFy1ITjOo0XWsfcaKHesd9fV5jA5ecsALUSIF1afcTLvWz+uZct6ZP2KxwsH4P61qJ\n",
       "vCCPM4LpMxTgRagYvj9lHv0bscDXyGqq1hFc4LCT+k+KDzhWSQ4aj/+N6nonUrsM03R7mPMa5M98\n",
       "8f4mnIna0pSR0VcyAAADAAADAAADAssAAACzAZ9Takf/AAADABffrtbC4vpKrkB6JVT3XtKIASlJ\n",
       "4jK/JGoVkkH2XGNs7BjFa4UBf2jSAAf9Y1hD0c4SZ3pM0MC6nDAJLEMwC2UXoieH7EbrRwy9W9Or\n",
       "jX3/dsMY69yn3cm8mDrSjd3X/3BFBI7byB9huj3CgTut8wbpWcZaOHfzLCK6gFNMnYeqyXATVkiU\n",
       "l8MCo5jzfT6xX477OhirQYlDlUJgWn2sMAAAAwAAAwAAEXEAAAHNQZtWSahBaJlMFPC//oywAAAD\n",
       "AAxS2Tadqh4CLyXRgAiBfS1LcVZLs0yy9UQ0FC1T1aBd1iN3LwPQnk5z2DkTX8roreThbN/iOL0L\n",
       "qEmAM+d2F9jh15XmS3QKf6/f+95RJpGNzcEDwrn996Rok3zpYTInbqMCatvoVU/h6FdumothYG+0\n",
       "gT+zDvl886P+nR9cPKs7OURi0YHB0hugJhi4uyZRGALpHIGGltUWjV98l5KO0eOVMPkCmnBQlAZr\n",
       "YJtfcAcy2CCJ+TMUQ9vDyXS/zzTR3kizQ13UbB9Tm493WrnMuFb92SmX/P0oh6JOV0OSn7lpzxqm\n",
       "GEuRERN8OGcbr89+0JBJIOSkJs2NvZpfvHbI1vQgS33Y17oWBttdsrFGbi4bj7r1m/zHhROPs2SX\n",
       "IgXQCKKMiPgAiZbPj6B8aCs8UgoTNwdbOmcGqai1WjtcG1xGKCvNI+W6kI7CMzm0I2F6n5ZEu94N\n",
       "i2RJYUq8BuxAZ1pCLGpyGeXQpfZt+Sz+tfbWwt/Cn5kotzgvDwEG15yW4AYwDAe7m9TWRduMN783\n",
       "b3rqQpV0qK1AjAJYE0jSvqMMx+3rrgaVT8O/qPQif2Sgkj4AAAMAAAMAAZUAAACpAZ91akf/AAAD\n",
       "AAZHShb8wYgQKDT+3KHJgNQdZGBf/vDEaTRuutKHD09/+wDMsZM/hZoGK6H64FAnF1UPVMAJDABe\n",
       "ixAbennRTK5rpgErtzs+oUYh2rFUhILuyyVr37aucdegJw14stx5aAX+2voB+is4azYnAKaqK4o2\n",
       "l7eVC5tkQAIYK1eBOKCmMOKD6ue6uiSZqvRDeLVpp+QIqVzygAAAAwAAAwAB/gAAAcdBm3hJ4QpS\n",
       "ZTBSwv/+jLAAAAMADFLfDK/RAlqACAuPB+lgAt/73JzXUxcheyPSyKNbdPDfQCiZmsKlJ93HU/5t\n",
       "p7ovbgVZOinHNyQfBIbDqUs2ib6Brc0a3RkY1MrHJhhed9b20tW96ByGV69ChvcGabwLf5tpFJXy\n",
       "g/2tms6w7A0Oauy2RAqHVZ3C4DJjK/rP/TWSHqLsInWEjrWqybOeoNWhfIM0Bo4KQ9NWfw8XdN1Y\n",
       "oS/HQ1qVfke7teG0NMb9r1zBQAfvhCpiIBpRfOnAh4K3OoEbrmo827B7s0jw0GWtpRuFyartfGvd\n",
       "1NVIKiWjX/am9s4zKVEe+xa6uwkx0ICX92ZRtk25LPI98a9ibXc8sLYGS0P8jcHDQuwWqqLYQNe2\n",
       "F8BB3tqgPJYEiDCQtgqcliSKpbkfllhBS7cncmXwx/wowR6YXXK8YisKEBuxoB0PLtlFZdg3LZ1F\n",
       "c0Sr/+1Tz/Zea6Jx8fah7okOR8+n50cPRzCJHdgaLfVtoc9mVhRKZVkHbw5vqbsEDOcCAeqbskgn\n",
       "vZSsPLr5G5NH39iOPsHzhKg+Z5Ow9feLWJ6evSgnAVW2/sp+yRT1ZAXyKCnHXIcUBAAAAKwBn5dq\n",
       "R/8AAAMABkdhEKW0GH+7tesEkmv6jACee3tXSeCTALPAZ0p27jcq14GYwbGJL+2M8+sYqqDh2AAs\n",
       "7+r9S5NcUMo2A2jGOr+7dfOZ4t0dG4eaJuhKdu63thR30o087/0qmnSIpdCe5Ulz4P//lT0M2dHb\n",
       "GyV3kQiKinNneYDLRYnhp9uHwxSrG+HUZjuQHeuUBMPcY8TgEo3w6StQXUqAAAADAAADAAFbAAAB\n",
       "R0GbmUnhDomUwIX//oywAAADAAxVFBH+tQMO4+kaYIAOC52T23aFexLTJoOivUxvCUutXlLf5Zhp\n",
       "46/7eEo3MIa0If1UfTr0wN5zJuyndaCEd1w0ygozSBT6v+2sK3q0OVVns1WuveEjiROTOmpd9Diq\n",
       "JnBP+Y217iQ9XpRIvnTaaQVkXoKK63IW9k/Aeq/6uD0+ROsbLDshfnLEDwvt9WQl4kpJzdOWekd9\n",
       "T631bOXhFZBWJFnJ+O8JrU2ZB+mMqBZsD041f0T2vwui5WlglUNQDh04PEbHH6ciXyM+hnc9ZA92\n",
       "Wysufdf6ePY7LB9VqZbSL0uKtPJNxYDCoJ8Vegc+mADVxmr5LIKWqr4dk7GntKAF0VjDs8YfVR3j\n",
       "GtSFuUJ13SA/l4ZXeyL+89u65mKSELQ4i3l8UDvwOrulEgZZ24YD8/E3QAAAAjpBm71J4Q8mUwIX\n",
       "//6MsAAAAwAxS0tLDmjIOgBaJpGif3tVoKm9tnFY3fgGPWNRhX9rFxbNMhq3VZbbCBp5n3VYhwNs\n",
       "ccL4A9OJDlBtpmAc4513FRqm3/lP3f7qPTKL0dU3fGRa/fNZaR6j+x65pRNacbLFglGH5ie4scDY\n",
       "sfVAd8cY8OHIRI66aIxdJflTivb9EVZyWfFG52Rh7mwPm8L98cUckYY2AlY931atpXakBceq352B\n",
       "mFcIiXphZpel2qurIhByRPA3IwD8GXkFgZfMGOf/5nHkYgIbSOG5F6ksAUtcE4O3YclyES1qH/Bb\n",
       "4JzExw/RsiA2VGlsOgN7baFRN6VJQekTfHru9+huDbXg9vpnO+mCy6asdAmiZ1xGjBBYhde+ZbrP\n",
       "4ZsLYFAcHyLG3WiHfJWXkm/fq44ht+gfZvEkjY4WJW1CCaDH4pt/BsS9GZxJUMWJbZ59OkeBdinc\n",
       "RjEYHcxGhnXZTi0LzcUXMcyR0VC+TcW8hAwTsbz2/nOd4HLUeubYsh+j/fxfVYnXPhjZeP7CxBC8\n",
       "QW8AIW71FjUL4NoWtGokI2QJFYm3KblLZaSqbS4iEZxQvQQ9//d+VsjKPrDwVX2+PfqREUPtvjt0\n",
       "zfcGWbrHg46e0eSkBtgYU6k/WY1iSxoP+xhCXjj+etsiVExMkr2rdAZtyAbylpwBzvycjM5WR1KP\n",
       "YjJnX9wnuOWfdjT1dnYrrkuYEAQTVWIm3tmOEnwYYXmaezEwHEPggADlMMMZdYsAAADOQZ/bRRE8\n",
       "I/8AAAMAA+LplIwSl+Pzkk+1wIbGBV8MSb7uK75zPVm7DmbC7FelXs1H3X2EPmJZOOK5GUShKABQ\n",
       "5gNBqPdfmLxuAy4VNHWvcI1WZPiC61m63pj/guVnieVKWIoaA2PJ6XRwN8mJJIBUfPO/tzi64KKI\n",
       "Ap7QXLocOgAWtNea9gxLkOscITbgKJZ73ROZAYeHQGxStG/Gd47rE5FtsKDjt7D7UeIaFMK19crf\n",
       "ZvleuHbjAqf8DXO3ez0XxpqJVkAAAAMAAAMAAu8AAACIAZ/6dEf/AAADAAZKge4Dbqi9vACaY062\n",
       "i2U0xKfLQw5XNnS0ukPe1G2wWAjS+FMQ3SOKGRArzHZmvPCkF5t2uW3jLhj6WH9EXlNoVLYXXhAO\n",
       "57sCfgtkqS5EO4kGhDLETw8CMwkAhpO2WDQenTWw0rwBN8Q6SSnncM9MrIr+AAADAAADAAAEXAAA\n",
       "AIwBn/xqR/8AAAMABkuo513UhAKs5jPt9veH+lWCWkJeejsRsadaAKDarLA6gVVBHaxDQWiqGWES\n",
       "296YhRHwh3FhREL7D/UNat9e47OdkZgHTkTmuy1GziN7j/2i7KsMDkxLI27jF3ex0kadHMW6G8Yu\n",
       "SMnpK3y+A1eopgonfbIxOhjL2AAAAwAAAwADAwAAAYpBm/9JqEFomUwU8L/+jLAAAAMADFA2IjJd\n",
       "ZsABD6TzlTfeRIvqSrMSyTZh6khDJYznUKeI0WbZmUIZGCNMF4qKZI4IXMQtcrEnRvAd39/Cf93v\n",
       "nTkwxDWLgjqjh5jmlWRNnZ4Augqz/4xe+xSsIKvikY1ciONPvHpZ70B1Exnu6Ul6VXrFQ75fZN6H\n",
       "DjwSe4OuKDxj6bNXj2ZbLbbMMK+zVb+qa9V7I93mv772mbsVvBOQ7K7u/1lE5J3yY427gqrvLhX1\n",
       "S853gWWtHrMhpj/bIAan5lMRiQN5bctNFmC8Vn1vyQbGOgkFlAdUSO9D/FfpJGS4uc1QJRVdRku8\n",
       "7eIYCa4IPh7VnNfGETDISoeFUitYpUox3QKix4xe7zCuN1zA7ea9q07+/5c4+chhb6vnYab1BgfH\n",
       "rlDN6D+4HHKvGgo2k/JgYI05oBfnRCAY2bSv0dPcz7qorziUYfPQxU88jGXHx+fkQHJopCGuiNGn\n",
       "BxHUEE/wdPvwSfiqoXEyMhQUGHkTwig5/xqNAAAAjAGeHmpH/wAAAwAGRx68eGP2lWvjlAlSLPjt\n",
       "fF5baFfmAP7SQw79IB8uKvE2j9ye8nHfgzcKD1RSisVZg8pfBqYAtj/m6OIoc+/9C6LH2CJxBhN7\n",
       "eE2jWq4nq1qvx1d3rstth6pD22MTLd1fo6oM3gOFXgLlMEDlqUZn1NKjW/1JuS4AAAMAAAMAAFpA\n",
       "AAAB7UGaA0nhClJlMCFf/jhAAAADAC/hvGz0BNzjzcjH8c3vopiiw/BSKuBANZ4uQycGKG/w+rB7\n",
       "kRVhTK2bLDt88ChEQ9l2RQ0F7fNYY95m/VXVShnT4PFsY3h/LMGUOYwjZkJ8O5LAKkaH4ybW4zky\n",
       "N629iRuZp9qxFEjcob7VqPmHzu5UIq9rTBBbgVKkFJPSaDGcqfvEeivkOzMBBj33X4basFI16tu4\n",
       "+Mvtl4TkxodB+O6IMjeBBAqftAD/7a6f2E0qOCdnBB2HPs2z+juG24wd9Zb99w4OzxVdgF0CJHbw\n",
       "xynEzbLBPi8JotzFNgIiX69+JW1xJBuMViff1RZJZclAHc54VNtkXYrYMzwOiZ7ds2LwTT8BauzV\n",
       "85iOMeXqSQUZnTnnn0j3nPnWnxHo0efPgTdl5oxjDDGkd/pEakDq2iOyaq6cRaqmgDupsjnN3+UI\n",
       "ujDjy/Q1RJIskAeCVa37ap2IVUO5W7HqbP7L2tKeNbWJDL/FGjqQVngFpuwVWXa6I1JMdTUhWccn\n",
       "1xg76zFc7HMn0L5mCJnSCH+0MIBQgCHmITGt0O7Lay2Cg0JHeCrCMpU2CyQak5EhsxE7P7c28oyX\n",
       "eC1riqjrQ4KSvLa6QxUZ/gbAiagHSYxyBgihfHkgixWpAAADAAADATcAAADlQZ4hRTRMI/8AAAMA\n",
       "A+Oq3ARCcTfHNGLadtKhZwCajSb79C/x0AogFx0OGegAK5eHscf8K0U/WhGGsAapBxey+JqyCuoM\n",
       "4AN5UtK1tkreVwaU/GnFvUhSm3Bho30EK+n8LDzmUIWh0eRA/nDFppUvyRGAIk8rKx1iP1hZADIf\n",
       "djsHK5mlMFh05+IYPa4J6/Ma4YB4vgx+lkmtt4zIZRRDxH7XVQPUDyWP5aEKln7UZAVVYeesbrf4\n",
       "WobS1yu6uvA3ZlT54LXuASJE/kaXLFXixB8R2QLWeqFtI/zAAAADAAADAAD0gAAAAIYBnkB0R/8A\n",
       "AAMABkaR0E7bARj9B5YHYq38CNwn67BYt/X/Hlk4pfkrxhQivGK5TYMYCBV6apSyb8NP704MQeG/\n",
       "1GEJ7axQTTQBmQ0+clp1FxYMyPz/VrmHEN+MiQHKzdcqzIEDKYkSs4MrsW2BMGYKt69VqGjd+p5s\n",
       "NERqgAAAAwAAAwAH+QAAAHoBnkJqR/8AAAMABkn2PMexJM7DpH8sSF4nz0VDf76QrzqG2zxrRHrr\n",
       "U0/IUv8SXqLM0+VF9M6NGx8zgzqcIYK++rMfuaJe5TfxJ0Rofp+eOR467Byp+QZfFcrNoW+rj+aO\n",
       "cgGsuobhgBT40K3EMaQAAAMAAAMAAAMC7wAAARxBmkRJqEFomUwIV//+OEAAAAMAL/6kW/I+3Z3z\n",
       "cwBDrX50bECF5T9RJgu5cOo4GWDj9xQ+Ju+ikJQaAtbIcd6rO/7bwdbhL2uJodkTSRKbiU7Dq6m2\n",
       "pUfxyBRis9k9un1cRinBrsv9LeGddB9B0o38mLxUkeLofKuNtdT3ZEP4zqNU3PY/vMO96nILf3O4\n",
       "N5tBBmIlZjubY88i7QrGPE9A9GnrH7b2H2X496ItUKVCB7g422loALJxBaGYGcbzhYeU71Se79T3\n",
       "7IvzouJf7Zcu8owmjsCG4YsXND76EyFRZ8F7jD0Ug7OpIq11gmz6qcaxso6e8WMmdAFQvrOZZgXT\n",
       "U3k2r6LA6eBd3+eHYaUKJfppAAADAAADAAAh4AAAAQ5BmmVJ4QpSZTAhf/6MsAAAAwADLGbvucQg\n",
       "Bba8Z0u14VR80Ih0wXC+cOGE0k9i9yEXDRGvdA5dAOexq2mkIkFvpvPrWkdwswGlmyVZSGgmD0my\n",
       "5H1MvPMOekeIvIDUflPxcKQo0ejP6ckf0zbleVLxUcXdnoBy6AR/A/T/Ti6H9m9IKne3EeM2QPte\n",
       "b05nigpidTL7AY82KMsjl0YAYZyxskFxOxAStPanNlsq8IdyTl6ygBAWbwvDX/74H3F44AgHrgef\n",
       "DydRHoHtSLtU++XHazN2WvYiIusCROosXxOrOd4cRrdZ6GlwkzeQzM6xByLgjON1NepclNUEsxLM\n",
       "4ZRgdTPthAAAAwAAAwAAJeAAAAE8QZqGSeEOiZTAhf/+jLAAAAMAAyomwlo8wATZ5ijyw1kXS8ZZ\n",
       "keSIWdOC/4+PtOIKvhAp4O88k+W8Cwyi30Lp7jStNFwzZzB7MpcoN4O53y2OOFEoRDdYd6/kAH7C\n",
       "zR/89NJtz3OSrZlx73MkrQC42B/OYt+GYGwTaJ8nbIDDyKEp+kgZSGr6pZqoQTSgZbemy/h8JAJ1\n",
       "iL3qMx6vgVYKgi6gMaM+Y1N1LhxMRkdeEBNJ78yMPvLH3Sr9Gc7v65+gSPApqwnFIxTGOmCTIswA\n",
       "AcPGkaarNTvuvtF+1P3YCfnCL6UQf3RciOztkxel9LXaOHke19l7+FbgTec58V0zEYv2prT4rY4I\n",
       "T+flo/MqpSgRTnrBuYpLF7vvRYW9dbB0MGWj5SRDR5YiUFYWfolDl1eyUAAAAwAAAwAFxQAAAcNB\n",
       "mqlJ4Q8mUwIX//6MsAAAAwADPe+ugppa9ep1DPx3pGZIbxpVdAFKbEqgOITVeWCOK5aEejzbkQp1\n",
       "rKmKeu0bTSde1FdXyEsCSTfZ6Qy/o1GsejyUTPw9x1dx+WgrBlLCo1X5cE6M8lJ96fTzqgKkdww3\n",
       "DwVi5VSuTmLn0oXydDF+h0MHtbZIpeCqrwjxv8x5uYDUq4kq3lqGB4S5j31bmCd3RUxy1NSGfi7M\n",
       "V7OfYEp4kh0cy3ejq1SnJdPzmHJDtKo2jRGse9SD9ZhcR8qtOU/TnW/BlXepc/jU2HcjHOwjqva1\n",
       "/7G4jwOV4LJlvKKY24HLnrALFnZ8vU82eh/+MOC3p/xxWaPWuaKBe4H8WtiwxSWs1qhipojdSHNE\n",
       "8MiWT1O3IunjxOm/ZndqrvO4OzDttY/MiPFzLIihC/9J1v1AdYpDrNQzJBELEtwcOg2KpSt+FurI\n",
       "LG1MH4Z12XFcfI2+zSuNKlteG+5dLczwxaXeLB/7dH8oxnst51MbNBtmDrFZuxaSoq6ITN/0+iD+\n",
       "aj85AtPUkx8NwARe46PGF+CJmmEPL2Ce9USc9KrXCWV7t0N4+X5n6N4AAAMAAAMAAOmAAAAAo0Ge\n",
       "x0URPCP/AAADAAPu8dv6CBo4qAFuVDk2Nj1h48YN3rmwwuQjp8D+3AG6U9sbAsB6FLLPJn4T7Wye\n",
       "bzoQfhqWYamsVH+zMNqVLeDqn7P+iVBGu5dvRStq9eNsUc3WMtoJKijjhPywNygtt3GPaSzRpgHn\n",
       "dixa4l2Uti+5P4bsNUtrez5jeDNF6P6SftFxAvI3xwjw6Kcg/AAAAwAAAwAACtkAAACWAZ7oakf/\n",
       "AAADAAGah5aplXAITm5/f018foKnmRYtcVDxxoZaTfTHRwafG9bQARgJHN5HlOomzy8lH6CoP9QM\n",
       "5zoS4YITKU3WbSe/MmvUvgip0WQq6vOGmcNH/K5s+hjXzXd8K2w9r+csaX91hTlR6zKo07NKHBGF\n",
       "8kW8wDpQsGodUauD+zlkyYgTM8gAAAMAAAMAABWwAAACTkGa7UmoQWiZTAhf//6MsAAAAwADQIDa\n",
       "JVrTkABepgClyO+CpYqrScWfFL6adBalXxYrLHdT1Vfh0PuMlDxJmuwBmrl+1PWjI2FEJdO741/9\n",
       "XY0PkEx+DyH1GBbn1g5fruJkHtkNDbKsoYuliGZGVplV6iADvzV/7JSblrBxFQO9a0OmovT/n/GJ\n",
       "UuUj6ssT4rM0vxHIvnldVHzBkoiQmnmHo8mlyp7jNv7uUfcKay2ZmAxUwL+42bz8QfnbtPIEvGS8\n",
       "oOXIhU+sbvEknD96Qhfzo3J4RFJ5btnRtZ26ybhUGykzeAO/JWe0q7U95HePQI7Jhva/t3eW4vrc\n",
       "W3p+r3YajkYlYmIG/Dhguz6WY/SFC6eFNsirZzDi82afG7SVXx3knMcYFg1mpWLyZrfUZ2y07kBp\n",
       "XEgaJ9o+lHpYJJKUJAj7jFdUoo5DUinxngii7dos8eD0Uv4wOgWbPiBtmcclG0eOfD5V0lxZGBt5\n",
       "iSzA9gDnS4Yc65kiUjmML7qm7mlprWV5KU578ObmnKXl4P7NPHPh3/PRdjJLML4aro3EBgd8IBE5\n",
       "0yJtvWraksbXeqTxLWXsxs/15cqQ78mKm0cricV4EorOXzOkV7NHSLYhcUulciBqm82weK9ac0Pk\n",
       "qjFeJ+gHHhMoCyV4D97FaSzbHLZRk3+yVbrghLhHG1Zym0FhP2sXEBSmjLYuQRL4jovUvU3FLgGa\n",
       "g4qNr3OVOy/RSmzyST76NbOzOBa+8GL8VTI7xqKvDhwKmc/MA31ny/bv8EmAAAADAAADAASdAAAA\n",
       "7UGfC0URLCP/AAADAAPuK3dy6C/ABKinVSo4APIHIm3hzclvkNojiemjq+z/wiQM8+l0HmMpUtPd\n",
       "zVl1y9TZF6DS4qm3sv/NVDhXd/tNPqDyBY7QPSJZjluyCcBe9biTh5/8IOK7EU7wEtIJLP2QZcyl\n",
       "E289NDatDOV349fpE4jVNeX+4JL2jwKydKB1CXk8n/OdkC3VIdyyW3Zqe3SdGWsYd478Qb4lR9xC\n",
       "qWeyDBH4hrUHl45XPIy8brUj+2ATMs61UqCoOc4OM6TJ1bVZsVlrzlJiW7wtQmNKX4/FnCHegy+4\n",
       "AAADAAADAAA3oQAAAJcBnyp0R/8AAAMABm8J1PhbI1Gk6AD+6G58K4hWmhXgG9PDK7SVf5NSpH4r\n",
       "5AMZW+yIY5PwB4Wn6iDN9RVgkCyZwJMvRusNDRHi1Pt3Jovhw3cqSJELqjeRCDgt65asD1HHhy1n\n",
       "LNbV8tq0N19vpWs7PoKkhXt2xeEzzA4mL4dfcjV+6DaPxI952qgnwXTgAAADAAADAAS9AAAAoQGf\n",
       "LGpH/wAAAwAGck79nTABKgzFV57ZDBrAS54aNyPb9CNdopMBOpdE9/6Z8aL6rVvwov38O+AScp/n\n",
       "rlkSjLR5dQIR3PwG+tknL6w4FTCGb+Mf7aKOuekN4rnXFell5ffoQF4XBJAoFmKBNULtEJl0YIWr\n",
       "qnNh07czYwru2OZHxO2aPE86l+o19VP8amt+MXf+vIT6FioAAAMAAAMAAA+ZAAACg0GbMUmoQWyZ\n",
       "TAhf//6MsAAAAwADQet1h1mLXWqnK4fzgyRUVqodt9+ugAnbwAEE3dCG++nnQF4yz4DXL/M2EeKX\n",
       "gN+Tc+xq3vCnFpUv6oNlmfxv3k23hot/ViL4HN7oNnMxazBPVrcPm92jpFw5pmS/mQI6PAmqvMBZ\n",
       "qq3tr9YN4DytALrgzxb4Nsm4fM/FaKWOkNnHorhdbzR11Fse25RntIuBP8AMQh79hJka3gxAOpSj\n",
       "ynnP2DHLLg/NeNRF2ysBXxVTteR2mYL0YPWTw63nuNN4BhWS18QgvXA6O5C2IHUK1vh3DiTwPcN4\n",
       "Psz46xaQiZ1/3caT8gL0xFKxqx2C8KzPLwHFTPGdo+as1kMqlrdULP2bEVwvGTBl/L+pyW81KBjo\n",
       "pSHHONqzOUbza54m0WjIOf+8DO5rSYqtqxJx9ht21pKDJbakiMLyxo7KpW2an4onIa+7HC5/g/e1\n",
       "OEu6Bgah90X0yC8orDiWZ8Roap1uHxN4VKvzhJDXvfZ2hAo2uqmNanDGNcvMd3Qu0vt4JnCaIg2m\n",
       "NwJOB4KWQk8QwiZOPH7AiQzBf87Crcyin/I9yqVCIgfAudDKtT4LYUByciAsUSMlrJLN6PzZCAbS\n",
       "Cz361DifeUacBYZfDPoxhLA9ohNhs+cbK7yz3u8U5NSFrhUndBrX2zaBmFqQ/kO0at+Ve6jPyGKW\n",
       "EhkcJYCrH486hAHT3UxXtDcIP0O3hak6EaAk11jARAsRgGpb8OCh6UBayNAmaLbO3qfU8Jo2Nr4U\n",
       "ggOAc3VADbUGKTlTj0DcfVTm8CGGYcagBkwkLiOAtaWzOpLvPrrYV/Dx4MvQiV/Q3SMgmWXVioAA\n",
       "AAMAAAMACkgAAAEOQZ9PRRUsI/8AAAMAA/m46y6lujRRoAV1prSArUkdrcjSwRON/NjlXKroHIL6\n",
       "9dmwyKLWA/FG4cwkAbrBG/fnbM4hdexG5twzzkEhhL2e6rzOrMic69Eg9T6y1bag0EY1tanbw1TA\n",
       "iD75z9YYDwrr8wUZLU38JfSZJY43AiHcPsoIAZSRD6SGKMeh4kvMOFJgSfFHaZMQ1SleOS2IoFdm\n",
       "7O/JcX3KE59m1Tm6SPu3Usd/OFkre41d6v4DGfnHBJ1TNY1QeKiP5dr97DGcaVeCEKLvxqwri6V7\n",
       "TQNI9iW7U6SxVYFOM1oYDB2QvkQf1KPhZS1i+N2CsyUO0U1ZtCdFZywFr6IAAAMAAAMAAA/wAAAA\n",
       "nQGfbnRH/wAAAwAGbwnSU+sqpvQAFwwguA5OII9Gab4o1tNDkp2KLYMfMffV6u9Z4R7eb008cEkx\n",
       "W9xdcbT292xMIhA+e1nSsTD88awiTVTCrE3FSyWl/pWF0pXATXa9r+Wptw8uUnkZa8sXtz8JSKSu\n",
       "0x75u8/fkeKJ40wXU7IfiNM+Bks2GXPuK+Y0av/ZkEd1wAAAAwAAAwAAIGEAAACnAZ9wakf/AAAD\n",
       "AAZyTvppTJoAOPWBhKQw6FeUUMDkY3LN1frw7ltZJNzAjOgkqDOQGUEyNk349zZ6JyFAfuYkY+Az\n",
       "NEDU0WTpso8rT32IDHEw/Kq+xyey7u3VaVg5my/o/Yuj/HEO4KpveDN20Yrq51wqXt1g0+ic0Y8m\n",
       "EF5MtjWIGDMX3DpO3tRmiHWA79H0r1FSZdi3MuGde2mKcUAAAAMAAAMACdgAAAIbQZtzSahBbJlM\n",
       "FEwv//6MsAAAAwAA2S84iOIhfw7RNzIANS7olu/WLSpUDDel+8VdzozUBWv4GJB15/RoXa99vj2X\n",
       "wPC/XO0A1qzas5TBFT0P6bqc7ik1renZAQksmBHbFN3iFqU6+oI1lqU1kH/qYq7IkygpwirZhZnb\n",
       "chxIOlstnuU0oPFEvW+c2VVhcfmGSV0+OMxKQe1wnYIXywJFVhdEj4OQifWpZb08E6yOKEMj/niJ\n",
       "hgq91/TvVHTLs45eiNlRKoeTSvJ/0RQGFNX5j3V+RmYLYP5rtr5KVZtLtisXO6pf0dUP3//Rytog\n",
       "ZyV4BmcR/h/YBtstcNOaD2bLbvMDO3S35v3+VKUdKWSNcBzK7QT1Q24IE/6mBIsqLqLPg/vvqwDo\n",
       "sUmsBo+WyqkrpXsj8YezrHeeLsht/GH5MMZcuF93UY2mL6o/PF8kh+x8sHh242aU84bFIBBhDDVc\n",
       "X3KX9KKqfHU8Sp08nt8P/5A7L8unZMtDORgNUHA4vfiIU8vDkHO+vkzrsPE3qzNGrtD0q1be24gh\n",
       "fr5E2vKA5veRs8PvFpugtnVSpG5lss4O/OmlPnFmYoz/QBb3VmhzpeoZMn+ABCmJHQb8qeG4p5i8\n",
       "M8qv86fQyEqN0IANMWBDeNUnxIMn+x81kWqm7uv5XJB23MMK0RHYfPBouVqf8ZOHFDAHn7BYYOZ/\n",
       "JmnLZBoV8EX8i7VPtb4wMM4AAAC0AZ+Sakf/AAADAAZzyBc7Qi44EmcSxUFsd8gATBp9lJNI81Kf\n",
       "DflPTwIFo0mPg4By99cFKgDr0olZg3T7tA77tHPMqcFd0JnUajEzNyOq4Or+b1jIKLgygz9NCf8G\n",
       "0dDYwmtDKzZjyrdcESOKkLLjqWaajLYQ8CubXqc6R3NI3JBoE16Gbi6hU4ODjnp433noecAiM6wt\n",
       "nZ8ZCjvegw2OsDSEBdtf1tkHZMAAAAMAAAgLiB6RAAAB+UGblUnhClJlMFLC//6MsAAAAwAA2S4o\n",
       "CstqLZMcgn9eUsPLbmyO0FOL2qd9uDv0wADvVsO7s0V+EX5yv8VdaMvAPTbko710amIioaGqQ8dr\n",
       "N+reQDLiMw3d6VooX6XoymiM2+XU+8iti5Zhxch9StcqlNY3iSUe3jHwW2M19lu838pftGc/JVmR\n",
       "lSaNY6tMgyIn7nPyA/WqAWbsVCRXj6llETcYNdVnggLa8p4EQEyWgJhBe0xKDoGLjHCj+ESj6VMV\n",
       "Zt5ZNHzU5Jf+GH+fyQi07bzO06Ulp0RzP1w9V0yL11g+rJYxZl84TXhoDoQoRHL4rXsogVLEp8Lf\n",
       "JpjoZ8f+PWvO5QnR7u5qydqFJ6ud4gvo1wAohUUw8feRQ0UEvwppnlWFbtoMkK/0TTVVC6ClPtXL\n",
       "cCRxg2N/nz4S0gg/ya/z2oEat3tIRlIs45RF1jUNbpP1X0Li8+jSB/rYrqrs6N0RhLkcnbPeHK8Q\n",
       "tVMcRFzkmohbqlC9d7Enn0eR0NuVDuYUX4aZQRmHXWW9yJpke0w3wuLxP9RVAYq3CkiaRX/SBw8N\n",
       "2W3XIhFF4infOWJ+uvPVOQFGz2kGlgsJugBjbnj5qgo7tOyATZ6mTVg/A1pYYOBqfwmxMCMRzzo5\n",
       "iOPd18PTboOe7QvIm/ATkIAAAAMAAAMABlUAAACkAZ+0akf/AAADAABqvXYzSrzIPPZBHF/r8Wcn\n",
       "UvYN2DEhKHhMOnwUcz8HaPbi8goqpJi2PF0FDjQDpMFqGsivpKcGM80lVOjzVvlwqLndpxuQWmbs\n",
       "7enwJjM6AHV6fceeObdjHqhhUgArya4TJ+d9W20/md5kYN+rR8S0gO9sR3bj/4kfCRHPH0UYcdSu\n",
       "Rop7mqYb1T9g7e4ybAAAAwAAAwAABn0AAAI8QZu4SeEOiZTAhf/+jLAAAAMAANpwnP2zKVcm+ABD\n",
       "ruz4hKZxgTetZuvO1f7pqxK0CITIyNtMeQAbeZqvehOls/caCJGBrwjOCW0zVj8dICfR6LPl3OUc\n",
       "Wrqyb4wvsToOXkK2ZC72lcPvyT+fqIpwzQOrPeFEDEf4syzE5l/zvWQtlP4Q0gbaqLm89FmbotOT\n",
       "R/oHUX2pLHyZpGqEPJ46xotDtoF6F9G/s8W8i6i5+9ZDRSaH0UTwlHuA6kNRX9uYeW4zQGMolsfb\n",
       "ltBAWAmL++NMqfNaKnJlFvIUFmSTVq8w831Nt9nZAKy5m3ou9w+fEv4FVdSkvrJQYJdCTTA8+ecq\n",
       "ZqddjGFPjWAvqqL/yq93SaUge9nrfP3Q9RCu+fd7ndKOhtQWfkRILey/YaQVFctG37GoiIIO+z5r\n",
       "8kHBNzG4ErPjA4UQCoSjE8dTnm4ZebwRMahW7PJXFMHNxwgf7XkIaeClsOKZ757SHnEuUMiHo4YA\n",
       "qe4/xTVhu9Vmmu/jjIyTPhfc5K7EcZQjbER/UgtD8Ow5ikrbEK7c27OwCAr6DEKX8C83oUl9B/jl\n",
       "VSsbIjAIsQZM2+WaZteujadf1Qhy2MR1Uy3nVc0oEFhESG72sVjoHxkACEymtkC62BUSOlDQ0vHl\n",
       "TZEf6QVfQ3Ey200PK5w5Zm40E4ixZ/dFdba+rv0pbGqsput6zPKt6/eYuCOOKVvfW+4IA8YBI56f\n",
       "aGtFnX/EE26tJp82R/P0B8AAAAMAAAMAAAMAf4AAAADYQZ/WRRU8I/8AAAMAAESUT8VpfVMKsl1B\n",
       "CF5eYLdfMjXGC563erjiwzAC6CH1Wx/XqaC+8P8o50rn+wuTRewjqPMLI57UrPV+kPJUG/ouupUc\n",
       "MS9AIqImYqXz8xza6fh2Tvrn43eA2bycdDjkesTAM5a28eUh1Td9MykIzVlwbaAlE1+zwDrNdmMl\n",
       "uapUEzWe3XhQdqdJ76bdipm1zUJH+K5iPZa+i2lvsl2dwj87XiGy95rjL7TFxlWpnAfr8P5D5uSA\n",
       "kxlK0byihGAAAAMAAAMAAXoKAFJAAAAAngGf92pH/wAAAwABq9c42THojM9UFRVn3huT9Z9/PheK\n",
       "c6D6zBQASoUhKJ4z+oTaESl1HZsnP8OtNZmwafyPf5AyWxtRQ4mbH/h3VfZ2cs3s2Z8k85SrYY+e\n",
       "zIzqUhZXsW7P2x4yvN2kwRbhj4btrtRyQ1eG85w3NnXQN5leHao/slSn+iGRGJrPNoRD87iV1MO8\n",
       "AAADAAADACKV8APnAAAA0kGb+UmoQWiZTAj//IQAAAMAADDhdWPezx+Dru7p7vpK7hFP9p37PAAA\n",
       "bjd+JMkeMZorSEH3ai30kCT1vjvxj/4awmCEkvKqCeKH/fNF92i9E0fNWIsDAzNBC0F+hdz+0/Gx\n",
       "tEMs4sfTl7URIS3eodPxqAnL+ScMDqqNpngu9HcGmamSREbAth+xzA/x2irYgW3GYyy424RvV9Na\n",
       "h2CsEgTql2pKgop+W6U1yR2S5350XcNLS6uW4XRzsFveuI3Xt3tVWGcNUpQQitc1ajJgT0wXMAAA\n",
       "GdRliIQAO//+906/AptFl2oDklcK9sqkJlm5UmsB8qYAAAMAAAMAAAMAABH5cLAuyiEuZJAAAAMA\n",
       "EzAC3gGqAVYBfcLfM4WoFzADhQ9sMVvaD5XjTGVJBtPGaT8zZLZJmm+NJtvQE4IplrXzRfjDs9nW\n",
       "34xRZwTUZwJJQC/wNNoUlzAwSKnGKkvXOAqUSry7//mTYcyXAFMvdgXVinufkjhlRTMd1KIpg3zF\n",
       "h249zcQK/fNA6X/UHYdhkqAN86jtoz0P2ADq+2wPPere/WrGcoe/rZzl2u8CJrHfNVbuYEaPp3KL\n",
       "bD6grEVUCtTfXL3XB59S7hMn5r2ITiQAWYtd/QP5eyaSdLVThFz8lW8gSI1t/xvgaSO9E2vAW5Lg\n",
       "rCLEut6Jbf15WGcGBwYfwyOXT9n5BUM7587jHAYK11hbGpAjtxKkSIw5QZ4ZC/li4agSebejLijI\n",
       "sObwAAADAA4QGCBNDCeha13/BTdw4sFvyCC48SFDkmwx8o26RU4iJFnjE96SVtvwjZ0v6sZrItOh\n",
       "T3NL7ngZHUHAur/LlEn2RH9xziAoQ4rYNogt1dHNGQWpQ9C0epbNG5ufFWzOyCL3A6ilPerMxBPi\n",
       "0KEVfXeUdYGewHZu0ipfLo00oJYxZp296kYJXHjigDtajTp68JBqpB+MGiUcWHdptkJHWjmF28nw\n",
       "1rxQ5zaxfWwpT8YQOmKaZWHfNHtdJyGVutjvn/Svk4qmFPh8HX1y53wDx6i9M5t1/AfYDWvfjnsK\n",
       "dCgIXEsQsS6qYMWHXj7bgAja5eZIaizl62Vzj33BtoTPegXX7dvFo1CCUEvvx0wR54NcT92U2Tun\n",
       "OeJ9945WpVCExQkey3GvvUqmyeRpG6xhUCMHhNxNbfmTo1oO2hBu2tb5vXgFkkQDeA+Ukn0cF9bm\n",
       "wf0KOorkWFFHyRPLmEhQUxonyGnHdNrPJOSciABVbLfHS///P8pJT94dW83WoVawRKv2pt51FTl7\n",
       "kjgXESqcPEdOzCD8bkdZzDGn/Gf2RJ7ODHNlYJX3PB+XltVeSYhIPefS716dcsplXjH1XW/RYGVY\n",
       "HjhjoWFYtuDG/hun3N6XPxEj8/X27nW6jnoTDS3DIzfaIL63mXl/uhG97DIO2xZNzQCxuuouhLy9\n",
       "wbUAl/dgNge0JaA3y+wPlU3tK/FJ3FdMhkuUxEhX1USh3A9jif1n4/Vb2VHW+dhHHZdwjxRqRYIQ\n",
       "2/P1GKya8AwuXQk4Cl8IAO4yGWkTJOpMvZxAK5hY+O0kwDAJ6oVv1Gpecp76ydqjp8+So6DFRfEo\n",
       "cxq0f7mwCvUB8Avc2YfG8xm+dKdfip73igO/vJZute8n1xS0FGYkRQ+b2YPD8bWO/B30qqsYVNl3\n",
       "E49LyDaXGaI9TVS3Ue3T6weFruzlPdnMsMh7ymDo4S8ckB7fhhBpOYoc9CRnJxtZL/f7H/GTEH7X\n",
       "cVYS+8I7mmoD3fwA0ydpZn8Fpt5jz7DaUNOutIpt0hWZv1DoN6/oUrfjbDEnqdM1s85/JQRC1ymH\n",
       "7CibBTafVkOns2CdF16Be6BxBn2REomJew6j3Uqu15AhgBsMeLR9YR5AcnKICPkMzuGpR8MP8XRp\n",
       "TsRbBSCVyDGyU0cLEJULJWiK38LOXY2MJnbRsCUSK5WCmBZEacV5ZoLues5K/XQzcDg+3Z98iWxc\n",
       "5emmNVBlnL9z4KLIX3o420x83+LlNK7PL18AGVMglFLs0iCKZNY7/YOR5yiG4RK2K6q+JsxRWGRC\n",
       "c+/q03dKIOfqUY6vwCpiMfdRFjbhPmiW1sTIlJlMEy//entXhR5n+lba34SQhJTlDko5hgVFO/GW\n",
       "W2I0BEUaWkUQxzWpaygwb98cVnEPXgA2Kb3IAmknwmng9XXSjKIBg8JU9E46LpkuSES66YfSx+4g\n",
       "ORU3sm5H0EZtnfPMaHlYWf/5H2+zT2zRvHyoqOcPUsCqBcd9LCwfiK23KswcTAVrYSCx8t/////H\n",
       "7jf+M3FJ1hCO4TKcswFK/Py30gw+6/sk+h79tnEYDMajXMOcXb6GI2UwA1YFfLucOVyoO7XPehKa\n",
       "gCPyg3tv750DgM/YMh7nVq039L1Z6GO51OdKtckrwZv8HWsV4jW5EoJv0QXNtcdHWW8rlQctfbRb\n",
       "UXJIZj/MZa4PqRjWCn+7isIbP+e14fxZl9xaXi+gpdI+QQ70mYrAySi4zGP85OTCXizQdt1SOWyi\n",
       "E4xwTa3OBzhChco+Y/wA5EucMpTVUVD2yeLprufmteUM9RvGr72wLnzOXtPCHd8Jy9Atk+m/zRk0\n",
       "tj0LALfCkUAABJ5xhI7O+3Lo+rCMHf4DHmqCNo57VZvcHveUZiVvs81LQzFboM8HZWy3grCs72hL\n",
       "r2ZQtTski9RvB+sLZJ9YtXqicn0LMoqU3w8Jpx/hUXsjWsFwFS+dYaRFo/PoFHYp1O9ezh8kHgdJ\n",
       "loxvSn2zKjepWtzGW3LCuCj7r6boiIFUvAnhViry6vyJX1Sd9Iy1VnW3/7RjJqenvxcHP+1M2407\n",
       "M0Pw2TkGeVB0v1uq2AZ8eCgMzXBga+jBCGnUYhzIt1aufBcPYmDo+x+F0wr2VSmmwItZKkRhfahC\n",
       "p0PYAkPAbwUMGEITrqi/brZ8H5YDWbfe/Sf+98Nf3ffTcgAAFLcdLc5nOPmPcsNM80qkU8JfUdHm\n",
       "SvjKX36KEXlxDw5qzt4lxlDJNPsXlFt90O9IrkN5CCYnHA5HwIkGLMyIRa7USHqHJ7DLvr5xi4CV\n",
       "hbfWJW4J2iVgMVFrE1npRO8w4t3yt1Pl//JquRsBYipPiGickLpZUIs3AEcnOJUS4Wcw11bGj9If\n",
       "orHj+995iEz4sZdN5eYkLdBtYglVyT2DA6H3wQFnpMcZfAcZp3rlT89L28Zn5+rgNkk0W24TADmz\n",
       "QXbe8qU0gcqaUQ4k60hObtOGEsG1RK1Jr1MC1f1xtrwAmPchcXtRyI7IjcCLM/oAYvB939qyLdBJ\n",
       "rhvfgDJA/E/ecESWdqhnUCbNgWJSrtjAnfxTDp9UC1jXHyzFsSNykN+OvGu0LdpzG8FDKdwgSuaP\n",
       "hdODk7UJ9uIzGV6iRwMXSbiZosP2QvYBXL5DYr2GQvPtYZQ5n8ZotosTrfENl3VVsjlHneVTPzrm\n",
       "++OmtFhh9D9O+ZdBxWRmD7X0jqdVBte9M2xRub4AZq+WtVHUn9ZFPCXJ4lyJWU9hCelVp7S/709L\n",
       "LTv2KsjwV8Q043XWaKwny7f/YPTDDRPDsVsFg41TJ55/ERFfoyBES0Ob5H+5SMWI0onCAEVo7Hyd\n",
       "AcyAYoorj0IdWfP86//BuIKxOYeEnwrcvM+ftEQToELAhPvCTX07ZKs3nwiHv8JvJVxPN3LYa7Nh\n",
       "JjjaMS6E04RovZEL0jZLeTuIUNDxG0/Z/7OXc4tcjdyLxYeF3sA+CvMJ2NaQUqMau58qI7+Ildi0\n",
       "+JOSKnLkIySOX1Cel1gZaQzhn2Mq5/4Tec5c9V34kLQaa2DrjPWgXHmSUYcfZnK6eNJ+JBwEcl9a\n",
       "0quuRG8LBYnCL3KIoDrnT0nrCeWL1THDwGtrGLylBcHxKgRVL4VUZiRJzo/LQLfZciEW1TDxz6WL\n",
       "2vQdtAH3fHJIrP11JGRC7AmRwkDsuEwouE7GFCXlX5T4ufVhopawWNCj47l2NHWJJCywAAAmGA3r\n",
       "9SGjdmXuaBr1MeT2vWa0SVH9NyNqYsmY4JylslvZuJg/pr3V7mhbcjGUlhoNbhoyA+VJPnAqApo4\n",
       "lbegGJBhFv7HmMsB/zJeDFIP9QaAb2w1ZrtmBn+AaL0hWhFuSAYSsAHkSbsIf2H4EgrxtTHCINw4\n",
       "ugMBGlzr6RtYb3heCSfJUDdagKUImaKpZl3wXtwkGuqeuYXK+kgR5MxwtR61mJYwU56Z+1jpbik9\n",
       "lkXsrXR51R2pV4Uzr7tnL8RcKW0ldjq6cwy0QG9ECVnh0RrrqtkXFOVcjidJ7vsQtAuTyK84OwpL\n",
       "rCx7XLdZ0AChd4fXixVUtTSGMuFYbv6XXeHVBtn47Dbdntjwg7FGLUzpR2TJmuPovVQlTemzGET3\n",
       "+GdMF2XISSzzo6nog2xYUQuMzRQc3RfwpDcrjVIK2iIgGwB2skwN6CJTFREIObqtNgAIRYCVPMA5\n",
       "uXwZZF9CPOR6p/3u2JbK+tzPhAwoW2U/R/DM7ztrKaGlyP7SrrZns/KI14C00Ix6wZkrVCSqSfwi\n",
       "LyLQ+vBlzpi3z6ZZHMxtA/sRbQKWrFgMAlOfxVKTtX5W1WV8/nwun1vn/ypmsFN2vEbFAWTx4dbZ\n",
       "llWcP5bB9MVQMTJtenu0LLh8ryBwbuMGSH056Zug3LRDhB60I/t1OXLNC5R6xskvshDQLSvFS/rY\n",
       "AFCV1oTWXGjogAD9YAO1tPRUS9Of6qr7KBCYHX0+NyYsr2Ek5wNXm7LHLevU7fiOYBQ7Cnb+COum\n",
       "d1Zb+Lxc3kKe/KeAudhegb9QTwEldKDaJPcuz7qsVIYGStsXTkplfegcd+RXvatVP6UEoAnv2Ayz\n",
       "5mdv3dhWW8BOSfZ1cjKoQQcIvki0094bESHIXiu+R48Lxgn2o+dWkYxUY0LcqXGXoQxrH/WGGkqv\n",
       "deG2lvE+3GxW5pU4VGUpV0jIAAADAzJNsCXWnVGe7sLTBmoVVin/11Ae1ZnHySZ8yqbTrx+I4f/v\n",
       "gie7OF7hMTJqZsMRbl4hIo/K+UYF/g4MYh1pa27HCV30gWGoXrrGwVflUPoLw+9BtVr/ri2hW9tE\n",
       "6jav5f52nZXcazp7mAcV2atgndWbJskoSnISWzbq1hWDGbtyUuIIXbah8dGQfff7QBVLhfsSorIM\n",
       "duCkMvNvlvbQ/qQ/upWGYO7S5Z6MyU7pDpqfe2QOSTGOK1y83XVWpWOBR/lRCEq6ssQmsm19c6Mr\n",
       "oj5k9PfrPc1Yf8R3NVoWp5PEVivn/AAAnAh+GduqrEWgYvHQUFjHsism96mvSlSnhio/U7aV9CGj\n",
       "Dfj654Xu88oVJyMfaS1FGawcB6U2oiJF/4WV8tU9c9499Ao6MjrHOC6pD4wPsrH5EAetd8XkmAAA\n",
       "F/nhwOnKO4ZkC0/go9vn1HEfGqIHTqKmrZjxn2ePlwzOTvaBcOk8pKX8pVSvuFURncpPYYjniSIK\n",
       "PsNpfS5bFVaSokFXuFAmmNIgpZzRKViRrKD3R+5KLGTCQuOFyOx7krQ5Fbt/ssHBn1VaTEIrF1jb\n",
       "UrlNTySFH2CfUmOFPRh0p2wbj8GWjzc+MO7EEdkwprVuIgHTAPU/rTc0OzFI09l0Dc4x5mOwcxdM\n",
       "NXOerpvX2hVF8hZ152UKHj8bjFfBOHf2wRPD8iuAcbkjnRV7EqzWdL7p4AEREIC2TMxfXX85xSVQ\n",
       "NTVfTQt+paGf8p0S7kRafgRimnVN6r1gT5Nw/KePJFrW0bfmU3LRCmHNLQ7bbW+joAFW5U4T394E\n",
       "C4Jr6iXHlbGpPj2xKncH//BU62wyiLDKqYCnDhhwMZM2Iqr8Db/1UryoYQ13zw7lQGm0egPpyGZQ\n",
       "EgmdpvyRwfPGnDYzOLByltg4tD3UCn8hs4CXwk/buKVxVSndhAsgIkZ5zqWt2/o5kWgFtMI+FUNj\n",
       "wC9N8KHFrs5WgIBHCqb5URWdq2/tSH4ngE0CE/bvWw2ZFaZsCp/QSGHsmoVjamwLFy/utomkYDnv\n",
       "+P99Bzb58jPcFBMVZsY0Nt+WGCo3iRTD5071lKMECFuaFGjSQ8o++T5poAAZQ9qKx5yplAAAAwAN\n",
       "y21/7X0y4r6gfJvEx92CmTdd9kgoCI1+Jbr9ZCP36AdUHstPsegE3ukAfRbtxvAF9jzn3bEqIKgq\n",
       "W3P7qxMWPF/81MnsUZgG7WSVtvweB/kLGFRIdz6EGyXgHR7NCH9frr5tq4ElJJhuO2L7x7UKrpjK\n",
       "87ahecO8zxOsCmmSEQkMLjdSusn6q8/GVTjMSOPCwrAfIfTozDj0HMmxoAa496uZmq+cyEsqEFm4\n",
       "GGOftgt+Ka3Vc97IWMCvzZfnwzlspauSP0CFG+zf+6/7yZxSJrn7gJNrw7wQTTBfxBwXt9hFN2Xa\n",
       "gmdsej0HEvyCycwLFLrZJimcL6b2of75Dc5vht88Xj74HpUno4ty7GdHIH/kDtzAEyX761gWPFJf\n",
       "qsZP9/jGCvGEXAW3NOvTNSmC7OlrJPYacncqhLbdZIzz4zvvp4fi9Io7Fwy+C9jP4lHZHFwSoqDV\n",
       "hP8GTqsEaC2hb6fnBAHDg8UF8mWX+v/1IenoyWqGxehxV5LPaea3upLfpABtpMmawKhVP0X5/72Z\n",
       "3k2r/tRGFvDflBnMmHQHUmsfcl7+qL8zxxAlAxlMcOoOXUguLtakJAmIbfgbw+43Gj+yxCi5TZWV\n",
       "WHNGkzbZYMv5n1g408gkSPYnQAUWxQ1Vh5Qj+7i7S4TCK34o7aKruTyzAf8zUPV9SvRKsFWkyTJp\n",
       "xYiSd29zzX+DJFfxw45K1VEUyFXSkUcLuxEtjXWebu8V06T12ELDWClublWbaxG0Xl7ncFkBEOOE\n",
       "Se2aIrHB4DNawy/sRrWs+XKUo29A4vp0Lr+uHQbuJer27O0swJpZJFBro2GbGR4StM6hgUstyZli\n",
       "Z3sZQ/TNVy0P9bwEEm5/AwNnHoFbZuYR3Vvftx0xWnfioI9YB6ipfQedEVGYs+QAMwj9xN2TRSGc\n",
       "CXARHM8lIAAAAwAABSsP5H+tHYFx9SAe0vpk3AICWGcC8/2YkxslQ72SuPHCmys56wFiT6KyVgwE\n",
       "XbyTY9i3AByHnAw0OTweIxqcLrGPEDz//BiIlHt4WSMwzkUvw18/qry6CcIAZT4/9SSQUam/Mo53\n",
       "LL7NgqsazQumNTr9gekRGbiAsjIGLT4P1OZh6eqlMbvGIa4K/glUSif0bJ03ZNl4GCo2jhB/jOkL\n",
       "wV14Qh44MWN2+52figBpHnTh2ObHMPxF5plcySxKEYijTe3Jh5mIeLtjS/nJl1PbXXm93uJJ/fIx\n",
       "Cbd5MfUma47L6g3dlrkk77LMR0RfJaWCSiXivsLmy00o/QAfKbSV/66FtfgCRxzwLe+uYBSxKI/x\n",
       "r+DVFATIGIctM3naIRk2VM2aaS9qIFq/xgudwsuM/o0blz5rRf+dX9ixE4Qst8+bd++SsHf/j4+w\n",
       "j8D+dUUV49jSOs7Grp9nAAADAAADAAADACUVqsTu3eEi6nJ9bbNW89U4PDDaxJxclzj5crkeQZ2p\n",
       "Gz83bbo2hDER+N9RgtzACjTGPJcrs/Hr507d+ojsXeNqCqG8Myd4+wCf/hki+ST3SwyZeYA20FUy\n",
       "eJM363W/bYv+sSeI1jW2uY4YCC3EQrVbHf75EoTsFNt2fKUzlfpTK3rrLh7YbN82mgxKhknr1CL5\n",
       "U+s/aAGOZw8M8/0hk9+Q4L+cPJWe7Vz0f/kml1MQQu2PIA8KSvx0PJw4Cac/7VP9mZmHXHVyZRxr\n",
       "Cexd8GIiNH3CWN4k5n3OP6APBPMaSQV6FiYcin6bhsTFrOyl2fjzLcqU/LV92HW9w6yNUJxHkirg\n",
       "kXyiznbW1SW2rvkDmLy4TADcfYXSINVuy2RocGz7WThgqHOeoPVO/3IbgCh2J/RO8n1hRzVJ7isT\n",
       "ljOJFwhBkU5GpG3gBySXKyAeZ5hbxlcvRGNpyOGlAvUYh/kiMnlVzP318XiHMnKj49pcm87XKNKj\n",
       "7z8NW5NKO4aOPzV65/gAFEVY2auvRcOQg4buytZ9KtWLQkCefM1JlFgYqg6yp4JOgjsk7W/+uGlC\n",
       "iP6CEgXqytjVdXbxyY0Fwxl3X1w2nseL2OV2k9DFQkVHH+uhUSf7W6R1I2ZFOwrJy0y6Rq9Fre9v\n",
       "SR24Uu4exjyU9fIbmZOE0GgfGswx+ozv5ov+94m6Mk/oo3HbiRQPBc8T65SuRMabyaBk9JqEIG5X\n",
       "76p9I2ewz0vHpiX37+9i2CBkj6gn5nxpshEtLBhGhsGeSDTy8vVi+Y/2IzDKSV52MVVgR2/Ye8sj\n",
       "rOLW9TxdwgPMN+/CJ/yMk+wDnHe3XPC4OJc7DP8pya91J9V1hynwPLv0jHBr6R/TnURLJfoZTeAR\n",
       "5tc8k+92SWVbGKwVnQVr6ehOEMGjmwrc/1UFn7gR6ZEmL/OBCNsembY+FrJ1KZfWoyt0ab/2dn5s\n",
       "PF8bOnwAp9C+PTyshyq9ag4MH18rffW9BnPjl/UA4cg5TUscO169lh3iTIysqf/OI5m5crOr5pn/\n",
       "K5jvDB94tLdE5cUCsQfpoTKNaIuKorOB7B5DhB/v62aWW7eRngMHUvjjI4YyQdH8xPePLXuzkTkn\n",
       "zDJn/xKKyEZ8pYtlUFjp8C9nWXfVZsGxSH4cfHhzWQSCC/gfZPR/2SFY7MTR2N6bbj3p/S5AMrfx\n",
       "j4Gm79hRqQhy8D0Yr+9BVOlDU7oYBEYF3UjxlfPDpm6SZje3nDakncku33yBlcdjNhOOE1T9QJtr\n",
       "3EPE4UNIWVHkcl9Y55RG9THUQJ07RnOkCZsOmw47fCY7ycjg110zdb6nIMRZjlrK6OdBJcv6+7NL\n",
       "uPnNyHrUleQ06ypqL2pPP71AbcqyTOs+Ge9HBxc+XqLIMf07xyWLikKlx8linYR6sOWTdUePCFVl\n",
       "aTRtVVbMmNLXfP7WsCLi0PmbBMTwrwmNyMrzq9P8fdhvZdkktYfyyf6+ljc/7jgVw0avl8HIJ5D7\n",
       "ojOkvB0IWVAKyrAXpRpkKDZ3hESp4m8tYa7wHIKFgdZWNIKBMJmTw3DrK3zMZC3qH2BQssvBUuVf\n",
       "DdGu4PCUmMag33d9d1jWU4Kk/y/G4WlZX4RiRtunCksmBIQ4p4yR1qTHRHbyAIf+oZp4DZb4XxHf\n",
       "7kkuZEMAD2CfkHrt4YTPLhEE5UwkTevVXktNzssYaIKosLfAASQAA+SvhaAAAAMAAAMAAAMAAAMA\n",
       "LuAAAARcQZokbEL//oywAADPVuQAhG9+5X0O0uwajDOR4qFqyX5JNL6b0KiXp/TNjW0wXaN9RnoT\n",
       "e72RdItxqOLAEt+wQuOdSsdlA/Vlew5vwqHwyyptZy0FLhYvKobAYxINOYJG9c/e7gQAlRUvMnBV\n",
       "cBXX6S0PX9lYZqulycib2AuHSokkncfOGG4sn5GAx1APr+wQF7plHJSbnv/BWjCOzfdIXwJ3InCC\n",
       "4Y/7PhpSHHRFK2e06Cp8mkQztoBE9+tXUDQIrwvYtmjOLOmyQjXKTLfLCdYNJwgCaNuty10CZztG\n",
       "lz+fCeuincESjkZkENxhbDIUdIBquH5Gtu6TpVtAnrFS4LfBEex09gAUAM+qPmNj5/mKHbVY/XgO\n",
       "tJZGIsQw7YYsRihU0EzuzS/GRi9HLfLu6D+iQw2hA+FoGIRXFvrHe34t7hueHsgaL8JP/ate4yx+\n",
       "kKVS4Xb/wODpFNG7hbOLGYzIV/w7tpBlzJGs3sVZ4W9aCIZqRBFfXtUVONDBnxcV0IayDL/4K5YQ\n",
       "g6p4+y6BDcrggDAQf1zhkky8g5QbUI28nDSmDK/826lYJ0GAzkJq3leGr+O2fnJYpq4MZ45+UBJL\n",
       "vtfzoi5Osh6tfDf6zuR4XmMZXHOyvkdt9PLcyu+OJft3W1DLAf+85KsLF5mS5TMX0qK4LSvU0yYO\n",
       "A9ymwEUuUb9RTc9HKhBwejrYLyH2iGrUbvlxC8VrdXj3Lia8l451Rdyp30WvqD0wvTUVP4pNf0cA\n",
       "8LJNvuCVZZsc5FjB8181/igsmj49AXdaYoEvgEFLIVN/8rd2c06LyNqhKtKGIzs9ChPoOTGJih5y\n",
       "BBs5S337++Sa8EhbNnQp+7VRD6zkHZ+hziebq5GPl+1Xsg/OIJDq53Zz3/FbdHb3n2k+GVPv6AR3\n",
       "8HcOmyPA6W5ZeQnRTgbnozmjhKy63fowv2+KrgjDjJW/MUmBzkimfAPqDmPuhH2nxqvPq8fiucoN\n",
       "yueKGipqfsWPEj98uMq0GUe/X7ZBmBg1gSRykBivvlhYnmA3YC6OKo87XQ0FpwXqc/a3KktQmfrW\n",
       "iHc60liDHItfVQ0q7/FDa47cAL46AW6ZaPpkcfNf/7whH8BxnR40A68O0cLGudmv+tGqPgefHh+n\n",
       "DGQt1JPAzwoJru+cZy+Lepg/6rl3J10OgVNZot7wQz8MqK3oPFz2kIHXcQKOrkr7t4Y9svJXYhbU\n",
       "siUq3n80OdKFnBLbB2JFU0LpTCjPeJgRKdEjcVW4pxa8ZC7SKTnj7RbItOlb/e/ahoYuyhMkeE5b\n",
       "VYrf+LaUdBrF3sQQKVy7iwYOHpc5JQ5qeRQzjXvB5ZYjECGyOVOeOA4gx3qoo4TtwvHfDWVsAIQ5\n",
       "4cn3EN94ixsWtbC7/ca41LPbDzjOZiYIoMtVfYGpzwaKYh06FfO62rC8Yc1wbhUSBiyju72PAvNa\n",
       "KHjmaUXkTecbqpx7ZoCsmi3WvDSIsGTy5IrJJvAPysAd4zVOcxqFAAABMkGeQniEfwAAAwAQWBMc\n",
       "JZKDdTjeCfSB0AB9tHcYoUuJdxyKsdqdl4C3dQpbTBxyfiaxjv7fTz3jF+CFErNYj66dQge/JGXe\n",
       "CSowuG7Tk4ERRBQS4bH1+X0Xd4Xlnt7v6KMcWNkt6P1iMYBo0u+LfvTSKbLAtlOJKJbj2HDMQaMy\n",
       "6EGgKBvxVXyBQPHAapVg+H6TyowQPAJ/qscDdafwFXwUL1TIE21PJMqbDXXVVffQItAP8YI6FNUh\n",
       "NilfPvUjUL+7YB11V/7CgZMWrl/fW5W/bRSfbUqeJnp1QU4HwOJyhND1JsPOrua+N7Iv+9GTxFgD\n",
       "MLxSvrrAsivSbV+NjZocVXiaL3gl4oDYPlyH3R0idBZLy4AABDfnYg8zVkViA9ZshIoJXlG7JW3H\n",
       "zIhlW4AJGAAAAMIBnmF0R/8AAAMAGlwk/B2AWD4d9Oc29xJ0AK3TpKbpAR20EkCVDkfMGQndBapn\n",
       "7iWycwTtLfAJaqDkNP2OhaJvozUJyMc6e8Jlfew/4+AU+iPBE8Jy9i7QL+Tnmy797OcL3UJWBCha\n",
       "mr7FlY440CbswGpHk9lP8N6OdULhSD8T75Byhhrou9sF29ldBMN0H8/qne8XsyBfdlyrs/DryHXa\n",
       "Q4iSnKAAJYK/gJJqiaXu2ID8GMcigliBraJN2CkUHWABlQAAAMYBnmNqR/8AAAMAABxWwBPtbG4p\n",
       "mxhNxonyAov6SYBAzGHD2cGp856bRzjbSlvMoAWrCC3MbTnwmima6iq2llz439lu6iJYoQO9dOzh\n",
       "HOowmfM8ieb5fC5KIzvnVIa9k2XehROkkTtgXCoi7ypmALQEF9LEJcQcstyNv888HLiUeLmiV3fo\n",
       "I9Hx3O9Vmhgm4qSbPlM1Nkt+R5GX+OkablLE1j93kftDB3Uh664ja/Rvua7LAAADAAq18ZKgCZQj\n",
       "2OGgokQAKSEAAALVQZpoSahBaJlMCF///oywAAADAAA33Itr9WK1SZ2OSShr2mCkAWy7vGxbtNm6\n",
       "IGw9vbAj62dABVFpeHtuEs7Xizd1/bMiRaUUbG5NA6HXVaJ9ge1qhz4OiC19RmM81tqWxzHmznDj\n",
       "Y9zQMS98sKwpSJXFNVuasX+LH7VfWEouDrT+9AZizB0FuPIttj4/ErECm70Eovu5vRzpE6XRz0gz\n",
       "kJQgHeTfdeCoNeNLMsGEotk4e+qaRUn7olLx6gaCg/92uLhwN62SrX7vzonYqDvgHQM3aEWmGtE6\n",
       "6QeEsMCunY0ppFeM7kgdAbwQQMygzbP6RVWeQnTk33LECspnuXgzFiIWmLeXX7qIrn1lptnH2hcV\n",
       "AE+pPW1/bMqmvLL+Oph492ZzUwyO74yRs2ljS9gs7uTC3am4RXzXvRnn5stPbWz9BNkgyabRnqpB\n",
       "LaM8R8BwdEcdTAXTVdRCOIGLjssZMrSPsb1wNPBgJx2+IUWP4zHQ0h9+CtiPcNz5EB2N2c+8fJPQ\n",
       "iYBaXAD7TZDaCDMYUFOJY3tkhnDdvtXI7fgxOr+ng9Sux38GqznTs3glpIAykw+RlGJa/DkdU6zt\n",
       "Zn3GfRVoT8+7NYwT9yyaAzS94lp28pILxF4nQ2c0PH2urkyCq/3nQszfGIdqbJGuDdLEYlgpTIpF\n",
       "VgGNJ4Jl4Jt7Sm1z3isdeutTymcXB74FYVpu4XVA3FdC8/2IQQ85VkEhuELNtH6wDeRJnZKO62yu\n",
       "2ulLZViyyWCCa6e4TIFIv5Q9VSJobcxHJ6MyNOD11l7AdUmyfiklAdiZ2DvZspKb/YnkgE2f6AV9\n",
       "km5krgyhifopwatuPPW9gL3hddWflOFHE3Eo76yTyOgXM/RYJGgZqjOf0SBk9fkcbJjye1eq9rvf\n",
       "06DA20uEkxe4tE0KICp/w+TnfvgYWA0JxFFW29mOLHlsS9RnlCGK82TpNA5hfyfMFtaSI4AAAAD+\n",
       "QZ6GRREsI/8AAAMAABHdX24qk2aVRWX67MjusoAmYHS5AAWe7K9G0gYfKULOq64a4I7Lt3XKMNm2\n",
       "JP5/esO4165/dRdtRZt7kXohlYigtDorLyKnjm5xkGL0odPz2LIgIMR3SLrDTpHWXKHfENeF9AWX\n",
       "qoyHfGKY+HzJnr0r5+4rMXnUGHHonrXXV/sBttiumIr37AXOpy5kyZd/H/gGwgAS/X/myH6UN1w/\n",
       "J6xnqDWE4squNpzsBoGRbuBRLFX0XCxjtRSUxPgo2SS36bYnPOtJvLOnNUD7Ii4IWpYWT1jxsAZX\n",
       "nzWZqtqeXbjmqAAAAwAAhUrGTSm/HaMAN6EAAACvAZ6ldEf/AAADAAAcWMl2utLrUaAFBHn2xJK2\n",
       "Wb6Wgr6UKUsJrlTWE8lBJbw+eef3exlScdrnJgDyEeI0kkYW7BDWP8/rf9URvTzV6AHBHmDCnJvP\n",
       "vtWIN9hA1BsTuN7mawhsbIVi0CpMnKZvnzkk9uQ/JWg1PxqS5b6dyfY120EDnUEQMFT40VHTjip5\n",
       "z9+LVVXALWYzX/yeF/lrmJl48eclAAADAAADAABX/QBvQAAAALMBnqdqR/8AAAMAABxJp1kXykMV\n",
       "1LUUNpz87Kl6A42zTZRfPn2RztWK3UYJx4S0629P6Gi0nbjmv5SVuPIm3tYtgMYuaLpLOA6cq2zW\n",
       "uTzqQ/J2cpqjWAG5I7/bmlnOAbODxVIQdCKkbVAbrxUieqhL9Ntx/eTMQaNQSTzLp9mTGSMIE53E\n",
       "hLABUjmAqVFksexfyTfFRsEavRNNS+JyeBjHtZ0y1BDkjcAAAAMAAXs2pYAm4QAAArxBmqtJqEFs\n",
       "mUwIX//+jLAAAAMAADeMZ/WvDX6+yyi2qAIkrz+DuDmVAITxUL07wRbCZC9iAyf2ga7RfJSVbXth\n",
       "Oui6hgDruU5wlTyEsLX0QK6yRDzI9HvizsWZFHHiUBEFnxHTtQEOttqJaZ3B6EXqkwbKxbfQyLXy\n",
       "CAJreFFVewnQTVl6xRLrcJKhKyCNUt4oVr9EfxmsZNOaX9QaG1HEsdojHiJHLaEfOVGvvK9Bpp6o\n",
       "Z6YfiH6s3j+B53ZZIeknRQBkwvG5OPEdPf8VXfOG5RVN9HUQADmCQ2YgDwnWm0mbNir3JTiOjtsZ\n",
       "lSjEH/inQngwlwZav2ootk87AQkSSPynf9A5FkL682G0Ez6dnT9Ua/707HFIIzjpeoToy0l1J3tp\n",
       "IY2Ykn8FtqodYv2T9h82lG59nN1yqu7Q5b/X2zIhFhJ1BBiIbUqylNPtR2k7k1XChcHLWIl1s8/D\n",
       "xrESGIyqjQ606yvRygvQUf7BDJWTgEyWSmPVYRuLKyqVEDe6d6KpMFVR9fp/dbJLsRAjUgie5w//\n",
       "wMjxtBaMdyUKNxtpE/0v+9dgWhQmgbL0HqDFrj9LXqnxBPn2Cr4u2O0sac85yB6PdgbN9iq6jQLo\n",
       "nYjJcEWsjXBA5TEs0gc093SV5k06nk63JgE2Uu0Iy84USTG+dbiEwNDHPs6Vj1E15MChVr1PIAJH\n",
       "FvMfcByMFm+Soqvbd/bX6mprtt7Ssq/4LKZSinkYJJ1ciSLakdBpHDJNaNKDD9RFwMGFT/M1tWKA\n",
       "GAuu9EbVUtWQbEt3n+grPEIebW/mca8RYBrZCQ0oVNh1jhQOSWu5AVDPjIWWmoAgWNVx4THK6cZt\n",
       "0mNg/IMgXpgOoAzEwN5Hu33u+cAxttraCFvPmv6qqL8PEMds2ndUg2R/BnsrvGOKHcUCsnPDsIaw\n",
       "rVJEkcsrzZnRAAAAxUGeyUUVLCP/AAADAAARpRPxfKdfLVPiwsBVhB5ZyZyj05KM5HYLNFM4OffL\n",
       "q1H/bBoWoWBIX4Yp49Znn3hcH0m1EIFJAwYp4s2K0Az95dH+PAx36P5eMmly/8Ijo2paAC6Bjqv4\n",
       "wk8x7pZc51uIZlCJ3BhkaDxwHoC4jjTTeOPRsUFhuHqfhvmRRYtoZjWVBXBfj9LE+/Jt2yEE/exe\n",
       "2Aqa5ZNQFePAFeJj0bqgXVvVS3ucRg2kvwAAAwAAAwBDnmz4AH+AAAAArgGe6mpH/wAAAwAAHEyn\n",
       "s2a6WdPk0sYZkUvO0kACcByT6iKN1BJRbg5U6ZKXpHC9vtv4ZIzHYsAOOzAqb/Uzhse6zTNUSGBz\n",
       "/1soxX7JS5AhkOTBnupdviZ8L/4T145k2CCMRw77OP6W6/750PnZBmxKVpTg+6P9FEd2lPWN13Jb\n",
       "ZnNu8oGoJVpBWD1FDl7+iVF6ZblhPdUEEvMD09sTh0sAAAMAAAMBZjCulcgOOAAAArtBmu9JqEFs\n",
       "mUwIX//+jLAAAAMAADfcJ05p38s0p+7SJhe1PoAGoeDzIEnhiLeoibK2evkiT9aC0pFs+SdTTWxF\n",
       "OyvQNkFpmQQI0UuyAS++xumoeNEdauwZMq/gcASXcSuCaLU1WJ52a98KWShZzqlw2kqzbC0k371s\n",
       "qAHpmu+RZc38AvgoetmDLxnPJb4+EnSfBUuC3N810UYHNbAEKJbJx5xRPzwpaqOaxxAq67U6udWI\n",
       "6YeeF9KckUy09I6vhobIqiZJqgZWG82IBwEaLshB1MXQd6FeD+IQmCSBwBpiqyVDh+eeZUyLuiqv\n",
       "bRHSKq2YqoQ0YZF34EudEk15oOWfFnc4SEhIolZXVyTrOt1Ekp6w5J3Sz6dgK60/4xKi/+K0mJ+2\n",
       "kt5GrvN0POLVOwkpGNI0/Fw61kVJatJJLWQbvlWID7E0XYozaAAHAX41CrhVLCoIOwXYgha7QzDZ\n",
       "4KoDwMYj9gIMcoN2nPp4d1p5nSg7tMSAkKaEHGh4mezXEK5Z8eewpaVG6a5i4hntdhvRoqehr7nC\n",
       "2rpUEgKNcepnVU5YxRQUdZN0ECD4JL0mn0xDCbu0UVwuOGRK1NQbRWQrzy2cqNVW+lCt91Z0X83W\n",
       "hNniTybeUlqC+2pN5jcCAE7ZVQGAm+hUnHo/808DrnrfkxKLkbD01/s8n9RcGzjHFz+SPQbGNFTA\n",
       "U38jBLlFVuPtvFwve6U3EfctwvKf1233u9vHLACXlYIdGKEqKGXkIsACQit4obffNN4Ciytl3u6T\n",
       "s7+TXWAfEf/za6+6KtmKBcCvsYWGZmgjwlOWNgeKoMWir+FO/n9KaX3764vkiLukfhJrZekQV8w6\n",
       "4wDlSIr8RgFM7WdfER+SKFNrD1Ph3tI53SrU/9h/frxYD7+jtxZiLNl9rM85kuTLGTQnGmprIeyf\n",
       "DNFKTFQlEcEAAAD6QZ8NRRUsI/8AAAMAABHX9dGeYN2Ijz3w92tkAJoBQB94czLxUABZFqhg5tzF\n",
       "2foqwJQGrHZV3IvV86H5rcOGpSqWXSly2mibO9sS1ouySpvHUFySOkylur3vfL/i9MoTd2K4PRbY\n",
       "B+V6ASJFJzsAZjVWn8fvp7tUo3RNUMKbh89stNcA4gbinAxaUqOsdWxtptd8lYmMOxaGh2vV/IyT\n",
       "r7ok+y9yvRJQyf1QzgsC6y6pZEOXFeWUzEJzUeq2zY0oJd2xB9aKxz+u+OwdVKDF1x3CdvSOVMdH\n",
       "Ql5XIbvz+BlxacYbJ69lhbNzq7DpIAAAAwAAAwH9EEUCDgAAAJoBnyx0R/8AAAMAABxSUVVO1zYK\n",
       "kz8OBJmSVWn4rt7yegRhgcxZPz9Or3aCfh/5N20fRmwKr7Rq0aW8IZe0k79FD6Wl+FJ8DExo65mG\n",
       "1nTC+iulFKZEcH8MvcJQiirUdbt5J2W7l9uukFdJ8iawC8ak4Anr5DMLQR2xYm/JjVm/+IsD+Yok\n",
       "S06EVKwcTAAAAwAAAwAAI3eVIAz5AAAApgGfLmpH/wAAAwAABz5aXvlkb7EABMLsd1LMZ7MB/yIS\n",
       "B7uaZLujEHhMSCJAW0uZtes1iZtTOUnwD71O0yBRZExMfGhfh3m5gbGphsaRX8K2IkNqzC7Fog/r\n",
       "Kxp9nnSBCp2D6azdlCadcUbIOu8Y1j+OhtVP2wV4yKruWtIQycSe7sZSj26vv+AkHhZeXU1C0DY2\n",
       "kZfmxSO5vwAAAwAAAwCujmAAHzAAAAIiQZsxSahBbJlMFEwv//6MsAAAAwAADk86EMeNLs2p4UKO\n",
       "CqoCRKfpakc4MTvP0ztaDTdnAET+XvngVbS6nxCZGZelAVzaa1AgTnzRfKQXn6NKRRhoX8yC+hX2\n",
       "DmFxL9k48lDr0kvFgZGW+B6P2cNPLp6hmG5oQ+InbVcMSsi4B3GbkeqppCMvjP43L2HTX/GJ5sbA\n",
       "tUttkmTzkK8Z+YdQlik+dnBNqwUmS2g2LMDL1SdGvIdUUMjQl3NOs0OTr796pZp7qyIMmR3XG4fG\n",
       "mnOEzISRcA5RouKc85cHdVCLVQLo21I+e7Ss5K3m5oz4suNmd2UZGDJEtcCxjjy+RSEteLlyEkyQ\n",
       "1DM8ejroeGiTRp/k/Uo40YJ0dj18/n+d4UpcEUzRSv/Txa2Yu0i379H9oucqRoUcVtUI3WYgeWLT\n",
       "4eMfoWWeZtf1cK05qumyStn+5ZSPTu5U1hdsMy19BQRwZBkIAwGRsIc+IBCngytMaxUMDqzwX5rh\n",
       "8fuvQluYB/IdvxTAkceUrf8KOqLCfLp10e/oS5UxUTzQh7BF3XwuNCN2GJ0I03QzFpyvDeHjlrMC\n",
       "bCgnFJbLs/ZbLYGQwnadjwWB1vAL4V1QcikFcVHH1exjl2nt2HNyW8mEJIJvRMpX8LGwrsKO4ubQ\n",
       "RId6yaxt9mLbCir2KNuLhZu917pB3XZW4YHVPd3HMap+O6D7QJufsIkokeoMbDv5osENgbr4J4Fx\n",
       "AAAAsgGfUGpH/wAAAwAABxJDg2AAA79T4gYIbfXXzBrvP1BG0hj+5uqJ50cCU2+yQo4MvRkg6EFk\n",
       "lXMadySj9dJGQcMwUdskEFWkch27PKev4MHdWo8/zTfLLV5NAnxZ2btx+ZPZWNPqv0m2czk1J7Py\n",
       "TZavvdH96ldwrn69QXz7RObRDoa9eaKkZzYrP3oqO/85298aGAJuVvckVfinBdHtV6Ee4AWAAZM4\n",
       "ia4AAGWMKGVAA7sAAAJMQZtUSeEKUmUwIX/+jLAAAAMADQeudAFt+V0t+LyHDTgT4QMp7T9VY34z\n",
       "lrhJ5g3rLzU/hfLmUJo9h633U9wKyA2AG/KdZ9WK1QU+Sbe2E6Yol01ADkIEUnie//sGW6UdwUCM\n",
       "6aopNwA9C6JdrFb/JHx5msHosOGyy88UAh9WWas8O85vgGDN04HFcINxSzFhcO1E6ZbDjhnl7EvZ\n",
       "LKJ7Y/kp0ZugWZBoLLHlfrJVxmWutzc/sQ30AVsOPAtWvTbPaFl6tU7LhKzZZYqnnOjrc14wcdvL\n",
       "rfSQw3244bPrZ18HR9asFaQRKJldg1q4WUD1IyiTf91JfltQNdfuic+v+vhbW1LVsotl8VFKEpFM\n",
       "UDtQ1MR/6ESkN6WIz0fCj/Op46O0Yiq4ZMTw66yDECIG1kvC+Ze+JsMN8WGYy3/R74H/BIME18Pp\n",
       "toRQZXaAEnh/pNmrwBo0v9Ax8PmeZGrEzbqX2fM1hjGpryLAq2px3l1CBsZuJX5cavhhBRUvE6yw\n",
       "pDqH7f5ROGiHjPfzlaZIDil6OeDTqn1btN37MIOy3wPrfnYIIZmPaR1HuiaLxeoQMQQoggYknz6V\n",
       "RSRAdKfGDJXk99fV6/X00bQYxb2U85ExV7gpvYy6tM62HTXOOecdG1eruVLsoUm5MqolSMYgVNEk\n",
       "cWTFg5g7mG6akflmdX/oWPSWUD4jKNmBk5yvGVFvxdZr2fnMfwvugl6PHkW4zzTQV92FIu/nKYFS\n",
       "aN+tfoUALhSPJLv6H8ZtydlfpzLNWhVdBuwx54g+ZoHBAAAAzkGfckU0TCP/AAADAAEFgTHWGHBa\n",
       "pQAB69uSMEGnlJHQvtBPg1CF3jheG7DJW3kX2jISQhGUbjQylMxzA3s8HnZ9kxgfF/JtkEr42omQ\n",
       "o2WmfKRJMiIV2bUXgLEzpKXRRU5+34Fy6UZ668HTvlH1KBD6cpJWw156/ypTrWiXWXyrtHHcVDBi\n",
       "Tfdq5icejmy7FG7MF6xWlKPJu3VMmY4+ey7YftaB3X8cIrlWuL0UShXNB0GnTmM2q+QXF24q8Ha2\n",
       "VLFAAAADAAANE1MiABTRAAAAwQGfk2pH/wAAAwAGck5M08A4tqbURJkAFwPjG+aAwWqsC92VG+rR\n",
       "FyGUX/HmbG09lnC1RnEoWopH0vEWHlgVAD8Vzed5Y1VtfW6jx2YeDH0GzsGJMKBoq0josr2TWfbi\n",
       "vvlZR1jX4H9PhUUnWPxYAZVVLKSxAGSgnHzN+/OqBMtSLrmTc5BQYc7CeQkdx0GaOoOajUdafkn+\n",
       "7vHYTUaVIfIfFl8OaZGQvRtZL+D11M9egAACNIBWZ6m5FAkJS2YAAi4AAAHsQZuWSahBaJlMFPC/\n",
       "/oywAAADAA0HraA+ScK3/sVGLGBfOUdJyitE54ABORGpDmRMfdJYYYcn7r4Ly/Qu9JBXWG0GRSv7\n",
       "z2kta3hAO0jjPUtdBjdMoaIrwZnglcSpWJlUB9kSjkxSmSxA+zDHFXu0EBj07fYE/ZgcFftuokHI\n",
       "x9BMQs0Zx0eyo/1u3GiPybg74B5IrSiZ4eBnhmSMwJXYQqtGUSL8RUhE/bYXOzlIrs4bVDvXvsJU\n",
       "14zgkv2XW5dipDYqgsVeNIUE5OYymqD5IZMp06kZrdz+/nDyCiDv6N1vgzI/Xt3bI/VYvRnOpdxD\n",
       "2UfCuyM0l5io+xP5GZ5IBHyHf7BnmRxBnOdx36kn4yxqXbVUnkddHxZOltlxYnsw2Bjm9zGefYR3\n",
       "Rg3Jk80vSOCBiMo/6VZOAjKjr89V7WIDre7DzgsmxWMuHWZEOZfIWQFgWzTjPgqC5mULbkeOJ9UP\n",
       "E2R4NeckQaUkO79nzU49DpnYpkZvW72fEK8vaZO0/6C/PzpfTK2yam4PXrJ3bDeiUfip49feua92\n",
       "aJ7YKPMBwAxSj9yhScBR5wPwt0c1cK3N3xhzTQNA9p+8KjSpKcyHI/Merk22Oh6hblx2xGN9wmHJ\n",
       "q9plF/RretqRBQoO5fC5YVpLhZMZSl8pAAAApAGftWpH/wAAAwAGl9tGtES2LX0jOKNn9GjJVaAD\n",
       "9HZPIr6r6Pz58iMDOr5mbiqRVuIa8CkLmKGopSbqWXdYqmikkrig9srW+9Y5LQELztWjC2SoQBPQ\n",
       "x1G/kSWwZJcGOVYDDnNIWhgi5sgtvmLWoG9P91f9+UvtiNmU3yGZADfbLuvnUTVcJn9QpJqwf078\n",
       "lVcGvsAAACim0vFW3jYgawjokA6ZAAAB00GbuEnhClJlMFLC//6MsAAAAwAAAwOpyKhTyZyJ6AiA\n",
       "o+uEBhmuyTxg2N/R2albLGkt7u8uTOiUOtKp7IN2t+O53BBihT+cGIy2lTiN6PunSRVVxUAKdiAU\n",
       "ALMJ0WVAyiXiJwjI+3j61fW+AZvTt5oBxI10ahRJm5RXOznvIn3kA31L50xHyapyCMF5F0u/f/J5\n",
       "IC0DdId0w+YyrTdATpizj1zRMyIJZzRDmBDDXotGxAPEl2C2TKECA4w03kdZYNKdCo+Pp/CwJB2D\n",
       "Hll2mi6H8yF953XQI7pM+MxMREG1mMthIliA7O6SQ7y+FTcRozNWMGGxQZJuLhSP+bhdz1Lzf01e\n",
       "OsrIYlG5tsZDXEPzAKc7ltfkjxKXsSE4PxpZZM+srsRN47tpzSCMSoPXXYslXfMWEjJETaMJkS+f\n",
       "9yaV5YuG6yqgJBpCAwaWvf6j/Nz8gT8s389HaM8ab5kSx2RjzSa8pn1ieHinkIR+TI+U4/SaleIw\n",
       "x6Z+kjintjGm6clBGATYqo2zH2uYzryCXF6QJUPC0uv+7Ne79sz2fxuzHfvbo+5xkCERNr5Y26Ju\n",
       "Dweq+I6JdqiXKYEppGxIf4ZW5FkrnazMfqOA3o6HQ6HQ6IAQAAAAsAGf12pH/wAAAwAAAwHaHNFW\n",
       "vt4P2Ds6Ki1/5RwuTFy6Cbv+cBtmfdinseQke3+Ym7Z+FN9T0mmg3NoEc9fsoJlgvLkBOU3AAslq\n",
       "CDqAO7USf1iUlsNwSy3iDbd6pBfYr057tH09SLsNF8E2b9tfZkDV5KGCLa/SngRg4cvRlzTpWGpY\n",
       "F+9jzL2Z8+xMJOyccFUjjZHsBgqg3WhZfJT+XD2fELQAJ6AA74gdUAkIAAzIAAACFEGb2knhDomU\n",
       "wUTC//6MsAAAAwAAAwOPbf21TcbIwATtmAlpP9BvOLzfQyEpZ7yqyEhXrbDFiFsfEr7rStKKSZ8L\n",
       "S2+X0libCPl15ZhY6+WdX/L3wkXv5CuNsAYheQeKxtB67Of3yKqWbVeXVJlBb3TyGkSVYmFK+2PV\n",
       "eiUpX+j8AS65uUjqt+at8VEIa4cd3Q+1//L3gwkWLEiGqxizz3g2gr8Iv0KATTF9Laci9/Gh7GVw\n",
       "+h4ma/CThRiyvENzfNNIQwMv9AZ1kTARBj557XekVkuG7qzld2+VMfQ8g/spVbKZ5Rnvh4zXZYHa\n",
       "e535xNLQ/iqdYHUX4Z6UUWW54hzHizjs8b0J763bx/DdU9V/zVVlUa43eUUYmPWtA036ZSlAt7tm\n",
       "fGGD8HyvQhJRGgdS+PZlokc+UXYKnRLi9B/W6TQtFJmV5a/VTEQ1KXw4pEFE+Z+9hoeMs8TR9SFd\n",
       "mgI9i9+Lqm+yPHoqGOnBncJqtQ6hg9Pa/+DEn9Ip+ktGz+/74SCCVXNACfkKBCfeYWpoLgc5CwST\n",
       "3Xn3pp/baho5ek0u3s6lgFeGPiMJUWdJae1u1q/HikPLzmzi4HLPN3/nI42PNKkIILXCt+b6FLUe\n",
       "MV98K67e+tsQs3h709NduEAJO/yzaxJ1w91qCdFMnIyCzPTnTAVxNsbVuMOE894EnLML1boXLAaz\n",
       "HgSb/n/P+f9AcoEAAACoAZ/5akf/AAADAAADAeXSduUJC4CoaE3gm9FQTOLeP7Te82ALk6inNGMC\n",
       "dgZhlMr9oHJDvCUwJ1Dh00uHJG5wAWjOfpiokpC4kJ2lTVavBUIBQQYnaB1dkKsh/pXbx5RrtJZg\n",
       "Uzlx9/Xc7G3YOP7TrfToyZ96v6H9fR3/LMYtkCgRyR06Gq0bB2QWRnBgtQpsf2imnskLCunHSYLw\n",
       "AAADABZgABC1wGXBAAACLkGb/UnhDyZTAhf//oywAAADAANB63fPT2+n9ASrFmVU8Q4Wf22ao0Xz\n",
       "/PfXoN4qjAC6NBoHsm1hAX7aqXUhOf/wLsssCigdAvHnrRqpvw78NyKKmib3czZE/mYR7C3+404W\n",
       "aHeophOK3OH8zpAnctMFAHp9j6S/+XkIjl+wH2kvahGoOZBcLsf/qInt2gokuf/mvNXYA84iY02V\n",
       "oIay0ZFkqDYp42jEvmmnF2MvufMO9MZkSx+mT/duwVRIgfJku3iFUiOomnv78YeDM9kI7/HyZ3kS\n",
       "vRKoXNoNZ7FQCVXuj5HHrgKQ9HvIJf8f49aA8Becq6gHPHOMM87YtL1JkjjbPf2ZH26XW4Amg/bg\n",
       "i0S4USZWEyBa2KV6n4VjTjaW29IumPwGKA7IffXjPKa+AfRFmtaxe7xiSZDwww/oq6l1epNMnzzK\n",
       "7WWA6E6LFR5JZ1C5KWbSDcJ2jrz/g1dR9nY3J+iyuXWBtt3UZMoHy7sj/0A7wtsw48ktbRRle2iV\n",
       "BXGCNqnRNZ/8L/FPkEu6ltwPBxfk/VRFyxq4svznBe1kF3YmXeBtI0SVbRXppmIPksL6hxwoR+av\n",
       "B7edYCnPKNvovXg9JnR2pS8dG4yTs+g288YWoKIK5FrwlReGuNWG0prUdN6VnUgg8twiIdypJURK\n",
       "l1wImhOJrTX7hesu54+F7CRXDHhHWhuhaEyRgDKq8RC7o5y9AaHeMffMZXXGNPpxhAPFzqFQe+yO\n",
       "JxOMDQAAANhBnhtFETwj/wAAAwABBYEgahpBOUCB8+4ATUz/CsUOxulS7Q6ag53m9uN7n2V4ndmN\n",
       "2lM2NsKTL/VoGDpw3am9q8jx1Fn243D3N50It/3knEaTNFSKNhTKAgdrWY0sjjzkp5B8ve1BKm00\n",
       "EiCZqcNrkj1zciIxMp965I/Or8A72oOG/tdektvMFNxSY/K9sUfyUA0XmW1CW1aN0yv2jdswM/+N\n",
       "ED/19W2hAOGzMFb77s6sAAl3+JgtM4822udtJiHriTf4NeMl5LER8qCaCAAAYLbwAAADApIAAACr\n",
       "AZ48akf/AAADAAADAdDlrC2WDEbSLSQcYG7CwRkIYVe0bh6E1YIfF+YNDyE8JQoobnmsKTpnNIeu\n",
       "cAIxX+hi7C4ACvarECrl6S8U7vaLTyGctEPmRs2GRlvNgaPEQkbNCIyAX/noF5lf77WtdS9fgFnd\n",
       "m8svAYT8ZOSBNO3H5MaQRmiCDOh7Vvy9yHhD1DaeMwmO53a0pik7TGDHYy++AAADAe2CkAAAAwNS\n",
       "AAACKEGaIEmoQWiZTAhf//6MsAAAAwAAAwOOfksI7tcV85s4fYa7VRNilCnRtyrAACHP3xmBsQD7\n",
       "zFNcTZLpdkuxbeV+S/3VgVw7S9uujmoZ9oUbCAmlczQt7rJPuISVvFcA9G7VSKg/pQGl+0wNA4hj\n",
       "BYX6X6jL8UVzEH0pJXZKGNEkysh8d9IlqQmo7kVSaCt5evGRvyi2fWzPTKxNtZZKRCa2sJKihDzK\n",
       "GSQxCIZha3hRk3Zv3jO+QolEPFfCLECZ7P6xSN1p3lTkfeyOUPEDOuZeSPogfiZ29fjGuIfwllHZ\n",
       "VOuAyvT/LJVP3XhwMp2X5snXqC3/1tKJlf8ZkBWaPe61PWu0er5rLgfmIMa/gebv3h0X81TLr8lB\n",
       "htYBRbuoOR8VylCTQANVF54wsklWYE7cOkFnLmKXIgxaaWQ88xt5eUFfzcXKUukXvF9Lk+Yn5vYa\n",
       "qChBabBURZb7Z6A6POmV+1tdtUGRoyeKzDVJYoUsXcSDnYmR7vf3nMTXKu3h9enLfpdWLrrMFfa5\n",
       "7wCbJUDoh2cj+27SkR+zq1ZBvBmhCtjevd1JEtJ912ctVt1f3+nuixnDC+t0WEDmPSFQ6bxpXOks\n",
       "961llFMJLZSuu2YJ6BvgwoNsPOfFTjGN/pwmkUIg3rKr+aRw2yGJjst40QkdgKlCRCmy0qKK/qTb\n",
       "HevP4SVVyqQqRHZovHwId4+YQZuMWSSrmtfkkirdBl9g/r6x2sHpSZPCIQAAALZBnl5FESwj/wAA\n",
       "AwAAAwEl2SkgGzDZaUdqKI7XjkCfePdxWcjkUK/qOqYQZmOlKout5e6skiY0JgT7g3ivJ04MGseu\n",
       "YCOKrVwset87S6a86RrR7FNZZCeEz1Z2rm1UOIjMX26hD2sy5qqMkNciDdj93MeceeRvY9/hrjes\n",
       "2WQvXcnMcdSHKyLAVSfshoDANc1etVGkdPydetRYdBZ0xatVKoz4YG7+ZOuLVQC9gAABGwAAAwAX\n",
       "cAAAAKMBnn9qR/8AAAMAAAMBz81qEmmOClZfdVWEsPwbq/G8hs0n2cHGwZFA7PKgqIarYHwpoW2o\n",
       "Bsy5TGACzBp4x/Xp7/9r30gS5f0tTX6ZVXn/3SBqRaPO/38LCRn/o/0ml134CHSCEaJTyCpkOteJ\n",
       "+LdC+ib0fgRhHYsxzo57ZsuhgOSxgGN5tU4o28P3997Q64Uwy8XXOZT9vwAAAwAiIAAroAGLAAAC\n",
       "VUGaY0moQWyZTAhX//44QAAAAwAAAwOL4XXxSADjaBJgzzQkNk7SDDVFuLGEIoMwBj013DGf7uDn\n",
       "xtEknXk+qJ0VaQFuepwqlx8ArYehty1OgiSWIc61gYi1MZ9xw6IQuj6Eg4bpl97nb8WELRAkP68D\n",
       "/iQ3tLR/DqkGq/FIqi+iNg7VZgjRt7Chl0on+RxUDbIJq8oXnZKxz5mOtv1iMDbimhwRyVboyrQ5\n",
       "AwBi2y2IG0GpF7kGbBfQrOmWu2fTc6zozlekCK+URr1/cdKU9rnwqGqo9cVTwPmdBk4nUnn6ACvi\n",
       "PmC2GdnliSPmZS9qjl/yDp7zSLvSAW236W25j2q64a05Yizwf6bR882FXCQaijY39eNdh+fGcNGw\n",
       "XtPSXOUic2moMK07GimRNxQI+xYfLC2nc6+0B6KZWYg/vfrxr5yTPfvN7Hru5QCTCVr95q9tRDkC\n",
       "ExDgGDpKe8VBVWYvILUMii6bD9vdQNQbx3plIO5NJgv0MFPErT1W3I8QbaUEl2BSuBFxDOQX8png\n",
       "Js9AiDowUaeYSIx/kXRrUB0zDLvXLHjK39XcMzD07Fz4WHxCZjBSzIasMav2VsPgEVCIFXBW9bMy\n",
       "OR61hwu7d/IOq9FLlXQnmzQQZIY2gFwlD4o6kHGVB9/3tnubfXFcMKhloWxLmQMMkELt98VHhzog\n",
       "12M6zFGNIm1meuscMvNwAsfF1LbZHsIi6JvJDLNISgjFiVfx69ucdKYVQWKzEc3rag8uqkVlrM0i\n",
       "5ZCOo59iBP6Pe9AFLov/S/b7595cOL0V1ZX7XQAAAM5BnoFFFSwj/wAAAwAAAwEk5+TV1AEfTpoW\n",
       "Yjz++Ps4TSL6pzuUN3lMMbQm/nPrcpCpIj6QXEVOuXj2eAL9LDCn3VsjnBH1rOi8qwAFxczltp0M\n",
       "vpCEJ5PoB9Juq7I9yj0lR4MpNWOGCoh3K52DkpZAxvieh0akeFCcwcOZUA6DaRhqXavZuphNRNeo\n",
       "3AmYRTBeFAaM1xEU2h3S+O8arFNDDkjneqVRkZhrADftpL8CfRsWqRSTvq6DYM37uEWayWksNtTA\n",
       "AAkoAB99ywAGLAAAALQBnqJqR/8AAAMAAAMAdocchMngAukiuKlKmq2maK8irfDSLQB46O11HUjz\n",
       "nk+tOXvICJ9JzxziQRaDKBbPFP5tnTJfHTh/UfGTYKyF0DIOUz868v89u2LtI7PiQW+CqVEDOPro\n",
       "10CsBEAmendxkcZBwNO7p4Lw36UsSD4iOZjtGBq/U9mpDrxSTbKwE89EIkwEGS4+Hz16wGNj8ktQ\n",
       "CK/n4dm7b1iq0JmyIAAAAwMQiAAALKEAAAGLQZqkSahBbJlMCF///oywAAADAAADAOoC7k8jABJz\n",
       "hpgNVQwCMKr6wim4W2j4UmK/alIss1oozTeUbuOCETPTuzs9ut9L6EQV9xKSYo2nzq2blZi5Hkvr\n",
       "Et/b4zBAORWoq+jpaRnVR+Ql0WXyhCB55uF3k3bd1QEk+V9VohbPu36uq++W8dxu8Yl7NBBU88Qr\n",
       "Xldub8OaZ3PaGpRg7MBcotco3WXj7Z/1qgZkZksji+1kVHpam+GgnlRUTsU2v7e3hGJEvrdOlPwX\n",
       "QkzWZp+kWQHqP1caTdvjWPDQLkG6ttU8Ky1EMDgCOwUKsX8Ct2/JZv7LBtYx+aroIiRZ9OOpuoEQ\n",
       "Q1ql2cjxeR8a2Lumt2wmhbfnsWofQlAPQWVc5mL0oa1pysyFhJBJPFMk5pHJwqhm0hlygbM/pms5\n",
       "KEtBwvJPy3Tqg8+hsEvyVuQCcLcCnaX+okndOo+h7zc/so1AwYZp192qAQAtBLtrpblBMCRMb0rw\n",
       "6xQwDDkrZh84uvQmNi82zjwZZ2rfMkEAAAGXQZrFSeEKUmUwIZ/+nhAAAAMAAAMA6IEDGCmvAAlh\n",
       "A3yvbKnw+0BqMdJhu6iwygFjplBLRJIgu+G3xIFyJHDbx+IA7g+qQkpugqwz1AwKd1jiAkPCoLnH\n",
       "O0sYJnJA18IgvEd7ZcogtqMG4tWayb6GLE9oIf+1xF2BH4Pm3D+02ZZIEAMI6nlWqLlrttfvtz5l\n",
       "jXWd74LoBOKVxe8XldvDhK1cbS2jlS7sJoXNuXBmuTz+Ny9uAHB68F9FOTTC5vjNqSEH8yOY/9Dx\n",
       "h8lKJ1BMJ17clcrJQfuVRBVUBp0Siy50tzvd0dxO9cUId4sLpFArNibpxkpreSaFI75u6FAirIlO\n",
       "Dj2wBzsfP+5nSBk3zhI+xQ0oj5riGO0nplU4YD3v6Ov3si443MxQo00C1mB70Sp0s1tfPI3peNdD\n",
       "WTePZrzkwQ0ZsPK6nHGehnEubFjeSfBMRT0oYomVJ84DFCumh1PSrFMpu7ejSgL1610FKYFfb7ai\n",
       "Iet6EKZW1fKHxVFwSuT50VeRNeEOED17UD7+cjtvbD/VRkAAAAKaQZrpSeEOiZTAhf/+jLAAAAMA\n",
       "AAMA7/Cc/ELgZgCO1VpkuNHVrHWfzkBZTnObXF1sAt9pzIt73lzR/be8FpPr/a9vQBj9sNmuUY/x\n",
       "ESQka8175YTxL3C7xnD4Y/tvTWACXMBd7uTjytOZWgEPssiFpnhPwSpyVrQSEavChAu4X6nXXl2D\n",
       "kGTikVa0omdJ6XG8TufjGObMwj9T/YQpMdzoAsbpxGoXoWX72wHYDxkDpGmTJhbll1q0L3cGskL8\n",
       "7LfEwsfXZnAhkOx//azRONcDvFPSTf8dgEV+KhO/qcU3H0OQ3BrU7cI4C1XXYjDVR2sYApDC0fwP\n",
       "mbWXIZLgaAx+kEkCUVAAm2DWrNQNyDSyxnVXoCG9sB73hILX07wy3JMFVBk0q0B6ZHy3kIBgO+27\n",
       "MqaAiXd9b1hRwvJLPyzH5kOx/YQ9i8zIORoDfjQWz/lNQQ4bII0Ve+eLHeVXw5fs3F4/XAOxnF4S\n",
       "8voDsoz3GOt6/sq+OL10qUBQVOUigpImQOJ6hFSllrHDP02mdg5p+Sscq60XqROXs1tVnjktdWQ5\n",
       "Le+TcDm5jRHnT1MopIUgAGa9TeLXPwyZ/FBN59IV/6skxgIA1W9JqraA17usy8FERFZ0YGtPTvsH\n",
       "vs+xwY+8D+8v7y7cFQ0N32iTJA/KSqA4sPKS/2W7/tVKCwRc8YoHyGjeyOXXdftYMn7n+/g52G/B\n",
       "Vh6f+UQk/8DVSuS2acIinSmk4cLUT4yIpC9bPpp4xz7ZP3J5zZMFoUmjBvk6S2eqq7XudiAVXuSW\n",
       "uYSdiPRZJkEMOHN6GAFewPze7JCWV4PkKe/eP4b2yZsRt7BVyrzQLhP1QFOmdc9i6hyGn1Sjrh2z\n",
       "paM/a2iqS7BWatQAAAMArz0AAASdAAABEkGfB0URPCP/AAADAAADAE1fdlmRjyAB+9DiIsblf13L\n",
       "27CL+G9B5bTFGsNFeO/NQal6LiZBUDhbiB8dmj5zDRxIrwMY/nfPYHcGH3SUCo0ReM/mqVgeuN4t\n",
       "oQKAShj4CZzMfhQqIKiQjZZVadyGsckuUv4AMTG+wB49iaAiT8sNNSpMhkaauC5Ed1y9p4pTc+XQ\n",
       "GjBON9BZ9Yp1IDqttBngf6I74hqwLwzxKOopAU+46k/8pnKvsQloIrXZbIxSAIiHZIIoZjagYXJJ\n",
       "bKm4vyEJfw4n2WYsWrftp7htvi7FnIAW8+yeXTAke2hv+nQX45roE3romJX5Js/nme/l6aB1XrkI\n",
       "JP/R5AAAAwBCQgAABZQAAAC8AZ8mdEf/AAADAAADAHliUGjDeU0VTR93l4AC5wiLbBZlGf817ksW\n",
       "LDxrvz0mDtEqoU2x5FIiK92GIVdIgSqfrw6fZYI9gNbEP7JPODr4GgPDHV6Fo6wVqD3a0dSOECGF\n",
       "zsZZ66GNi0rbVn7lgJ/DNdQEe+o9QgYkQxuuZdfB0cI/FS3E+hGawTt8EXvBH1c/SMfbA+hukw8w\n",
       "DR3aXi5qzt3WFRXUFxMexTkvPzHA/UHafQAAAwAAAwAAJeEAAAC3AZ8oakf/AAADAAADAHYY3K2d\n",
       "lit1P6opk4AJXIorz9nsGM+9hICiIbK+lXb+ryMJWikZKoy9TpR6H8IwMps/dhr7fFdDhtXkF/Cr\n",
       "x0fb5pp0v3847HVEWvQyqVhrKtyQVBoYr7WCQfQdt/HWWXa7sfZaTdYmXp3EIm3iFc1DOeEH0gGm\n",
       "oI4MsuOO/F1GCJCrSSbBsHOvGw0SrblaIn41Y619CRDBoEskhL0PfoWAAAADAAADAHdBAAACsUGb\n",
       "LEmoQWiZTAhn//6eEAAAAwAAAwDnlLirkKvWPg+znJb5KrxkiU0N8AJYxHOPq24D+layO9NZQP3v\n",
       "qYRKmyzYH0ItTfflq6nrzNQXhCQjZWDhOS1nfarQC66GlCAG23vecqU2bCorpefNiNx8BbaJgWLm\n",
       "TvzDAOdttTlPxaH3rEG5LaCpt6JYNKdyil7KfxfA9HJIQXK6TUqi4eYAiq1VebxPxX4efVkVnewH\n",
       "zjxzb8MlP6OGhSyIL2zRqpA0TfCoo/QOYpHWXMTBwyP6u/AQh4rLcGVAbLWYmiQ7/rHSn6HOdWlj\n",
       "pV0mFbuXPiNrR3a7xfBTrxJjbDNmLG1QNBwLaIr8J1miVI2SznT620pn56d2+82d1/3G536nkAcD\n",
       "Vj5iQNv8tGivXY5v1un5k7nd8FH2uMK7EJaZ0oq64rgXO7XtUGVkJUB01S90+F79MZlBlVw9FbGv\n",
       "ReOiM8oNGkuhV+ca5fu7zJNYn17BcaIuvf99/oqHCXh386M/yMGFkQsoUEPI5X54V1jOrrgefIXw\n",
       "qUfHuv+hWc/6ekevu2eMqhSdc6BAju3hdg+OEtVRwNtmnLmIzoHuf7dgf5wJ91LuAt0rVsnEsea+\n",
       "kAiqohKdUnHZuG8tflkFere5q0yJ1UZ5z53ii53HqYwk80Hb5Q9ayJ+AJYAJa06eLnlkD8jZjp9A\n",
       "ICmB13/fjZVsQiX9eXSFcuvOrg6eyInqIHz3AQEz3zJnKeIqEnTyOIIvlkyumCICUKojuo00/vDj\n",
       "p9l6g+7LRKt+R7HXSrv3wpVvaVILFrsCCNMFTg8uUe5HEl1YWmAqwxBVE5avx9Fs87J/ra3hVitc\n",
       "IikHM7KcgmL2o8MRxph6+Az0qWV4Ejunb8H5An7U0N+JBc9DEe9BLocT/AMtqZUdYXGqAAADAAAD\n",
       "AAFBAAAA8kGfSkURLCP/AAADAAADAEsti5lckSIQWQSIXWK/iwATlvUQjNG32lt+LvG99ZDNFoBP\n",
       "KVuaoQixgPpaRbPG3tAg31+jnFy/ptC/8kaZDEdKU0QTNJuPfSoeGgzO/DDgqc+1hnw5XnRZufon\n",
       "FBo3WGcBVZrlXAt3ySjD70nVDv0XuZTzUqdnkKXl6rM7zXpp6senhV5kbji0vJMPbpSlZd7WBWvD\n",
       "TD5G39NtzLnZEhfQ2ZPvEzWoIv60Ac+zVc8cUgH2Q6CtCO8IBj8jeHbvTv+G/keTI/NcGTGl2OLB\n",
       "RIyqQxP7yKL3DlooAAADAAADAALaAAAArQGfa2pH/wAAAwAAAwBz81w7XLUl5zzeGiY/vUCDu2S+\n",
       "ejmnmi5CqnIi2zLBav3QgdXtilWzrWm1o/kIJc3cUucSYNkQIfvWrf0hw0XDFuiv6eKZNJoNsIEE\n",
       "wJmjSYQbyYWPeXJfhvUvyt07GvVOrLNJPwAsUO73VpQc2KJUUQVfZFt20pkPAAAsn+1Wvtjmt6vp\n",
       "KFyDnb4mmdlvALmBGJA8BbcYAAADAAADAAFlAAADAkGbcEmoQWyZTAhf//6MsAAAAwAAAwA7/CdI\n",
       "er8SeZPgATm6zHBMX8OnNhUZLr/nOaFeNVPXZbtTCAzlu9136lo5/jL2OVwwpsbQmDFY7F1XBx1p\n",
       "rsdVZoRfl9HAcsyI6i9RVeTaHLXmfYKU36cOPmozosyVbRVjugf6OptcANjrMCKVd5DFqg9SWtUK\n",
       "PSvLG52m79382PdiWwURhKe5YzkOVTitM6U4dt9O+6HC8ZHMbMt1Jv5l8Ib2KoI8un0ZJorx/Lxz\n",
       "HU1YgFwSznoxVQXAJVhWdgNSijJ3xbicfob71ACx943UJCouFyywqDYAz7qGofj1EC1zPQh8Z7s/\n",
       "dKApO/EC1UbxHihAuHLVN6eViW0MhhgpGmHBZS165/L+EntBy8/mT+Wvc34Z/QlpeoBVNYROjLZB\n",
       "YY7Cy1jVFaqJ6vGZkPyhmnHpT+aIiLbFVH/1cAJD/8O3xnbgeksh18pKvrkq7vKxc1tHq4va2M2B\n",
       "B0Y/CmZXF+enQyHTUWT3zoTaIQl+DdJ10Q214OzZl6q24SGW87gizC1oA5LCm3ZrOMNw67yHpovL\n",
       "cPULCHsbtHZRjElewbAd9cjGVU9HdYwU5u9CwC+iClhpiQJ9krI43cY2zbOA9b7pe9ytDZCLWl57\n",
       "Loxqu2Q9Mxb8emAHj22XDCvJ01JQLKfjnVQhuSsLCwWTsFbE6v/yx9e0Sd2zyUxJc8N7AiYY2bu9\n",
       "q3VsdLnK8STpMRZq3UHj68ABndEMHBfHCxTt7Vdf7afPlAJYLH9Ewn/Y6TySuj69jMa+dJWPlCX4\n",
       "iuN0vv5gONa7WWLz+NiKw6hls1cN1a15gKCGEI58RSz35405q7+6vb8odAl2MCjXdJfutUmNCmpp\n",
       "BDkd61TXfJg2R4WZ5uHe6uKqBW0FZBgnFM9Au6Q7XBEC1SWmD9QrZcr/0Wa0TFFe4YrOqhnFm8uE\n",
       "e04SHFAIH+giAth5sS0K+ayfMIUWGEnAvYPurs0T2w4a07trWC/rCezBoofPxbaSfBNG94nB5iN9\n",
       "piKAAAAA8UGfjkUVLCP/AAADAAADABMitaIaO4zaXJyyWSgAg7HMq8nI7GBl+ruQvqharevg5MzP\n",
       "S9a2ANrcl5b7H7f54rlILn+6VtOj9V5KP2B7ijdTctGYkF8oGPTyeDhQ1x9eql9FenoMx9SMpN+3\n",
       "UQgwAoMyp8Nba9HVNaHC5ZT9wyY+crleobiHIrhuF9s9E4FaFYbQEZM++0XDauuq3mPYjqbH6WeC\n",
       "5e/mTIn6x7i3UuKfMp+GN+VbEtorVLAAHSPi0un4xPBnU6O5MSkeOzhIOWinJS4PsYnoHNtZ+FAr\n",
       "NmQO6PJki9oR7XwAAAMAAAMAHdEAAACTAZ+tdEf/AAADAAADAB5W5lczGDYH8ec6J5IjYbqpnSRj\n",
       "6PfdvLkDvd0SwGYcTomPDisTli1pwZWRoiZcr7GcoL5+gARB1BhmeuIqIymPfv4bt8dqZdBraLnt\n",
       "GypztqLDvQSaqggSxNLgPLDVpI7eBfowLhui2WDUGjP0x0BpZ+bpWNPBeFfsQXhaAAADAAADAAPC\n",
       "AAAAqQGfr2pH/wAAAwAAAwAeD3GQKfI9Y4agA/FBiPX/PxxpNdyvCxuua1XXYztbd7MiQ0gs5418\n",
       "BmSYjkoPszdMOSZ9W6Xg8XYiRbnX00DhBOSvCD7X9kTd+faGF2/dJD9oYP7msb0kFQIaNEJfjbxr\n",
       "QmRJ+TI1SElebQ8+7l8D4UceYwbqvsHMclQY9VTGaspK9GZq9AlaffMkma4f96/fqcAAAAMAAAMA\n",
       "CbkAAALPQZu0SahBbJlMCF///oywAAADAAADADv8J0Lrt9L6HWw/wluSH8iiqtrlptkwYE70HMAJ\n",
       "LP2AE39dDdTI0edaathoWeN9WiOkg234snQEjBjEyYAQtQT4y79rE1iKGgDZxBrtqNSc6iKaNWkA\n",
       "n1h17SYzSBVmjazmqCp0pKixGtleRTanntgd3gQp78rUhEdItLiiXu/TAWDZhTuQv8OMksQdhYpx\n",
       "CTiZMEzMDIx7J1KXPcGE8/KhZRGV+hZkPX1WV3g1RoeyJEQL9X65IDs8Xf5+q+buGWKTgnIz8pqW\n",
       "g4eflJptQvFkIRr24nujD0gjhs3Sm0PtGmRgKGC0qrYzqv1Lq/2KM21sz4f/vcVz4dWixdPXgs25\n",
       "BodSwAuylBQ9Tti3y+P8iMqVUEjwio/pniT9o0qJv0fOXmXiuHL3NTaL398tXT1iVAPpPo7gvsm7\n",
       "tsOlhxWAAyXLGZYVtwa7KCKnR9mO6KvMJ9XkU/FcSjuBu6Sp4piopXFD/1IcFjC14Kv4mUwlGwUl\n",
       "d20Hn4yMmXJrhVGOvSeUqAi44uxTDqh/E/kYAIdbjssb510AXHqv3uBHVs8kzsQn20WixdpcR4Nj\n",
       "Z+tmQa6rHwcQnRRY1S31Fg5EVlbgwTjPUvUCS5+8peUY2g8jk4op03b0qoY5IUYJD3L1/rXV4uJs\n",
       "ymXnnZr6tbGYwVSr3B/VSiJME1m4XQDA3wbWelmZfgq+wMQEpI3k2lFaInaXLtLDEuOn/N0Xl2/o\n",
       "g+S8t3z3vm7WPNmK1BGmK36oppOPq8Vamj1cP3lcn0TDvizuiYw5m8nSvFXxV4AhBFnhdOfRjgs6\n",
       "2U46tkSeX8AEXM6JLbVCnlY9XUe1z9c+elQ5ru26pmrWi70vDPgJfge9LumTILge9zO2/XMk5oPz\n",
       "KicHY8oawwDtFl5CbtYGUmCEjhH8Ux5VGRNQpH+qAPm2Wzwy6cHdloEAAADdQZ/SRRUsI/8AAAMA\n",
       "AAMAEp8yPku9ngBbEkzBS1PRqDMXRR65hLK0caLrCyBvoTwiz9DY/Q6RGxbqPrAc8kjlDQoPeLKC\n",
       "N9CW7N5xcp6K7iLkDxT7SHxfYY9gaCn7dNeiFqlFI0+BisIpyK4Fipl54oxd3e+5jc89FMpAR0i3\n",
       "GfNR29fSRh2kYxB6/HBpuzRc7mL9om5/0iqqYH+WnivQDpZqyB63nOJUucxIhvljqI7hukq2ArfB\n",
       "dJg5ujMEh9EcC2PPznANpcQ3bLMAVXXU2UAAAAMAAlImbwTQFBEAAACVAZ/xdEf/AAADAAADAB2f\n",
       "Egk7tLsHFo24MQy/qGbLTOZf2xdTAnutCFR5hciHDfcT/jIHZY3S3lUBE/XwzhTAS8vCnlM+UvSs\n",
       "gRgAAzagBEgVpo6Y0AQopHQCLf7qDvu23NMZDW/gonxkU2c7z5RRDnklwSu/x5cgtARWfdTw6KSf\n",
       "eiWB19fhfcQFmAAAAwAABKzwCbkAAACTAZ/zakf/AAADAAADAB2zEqp2+i+hgJ/i22yX6+R2tfu6\n",
       "zuVCc4dLNdBye2D755bC4lZ4cHo6eIbSA6Fb3rMR5qFa0SwSZW/8q1mNhpRHHHtXGPB9yFMzDlcQ\n",
       "v6ov+8BnwMdXlLBnYPgpaqdrAU0ENhhV2PMIo9GVAuWa0bnmPNAmNQltgqBJoKcIAAADAAgomCFg\n",
       "AAACkUGb90moQWyZTAhf//6MsAAAAwAAAwA6S+TsL3byLMjhiaAElLjzaU1kSZj25Wc/ZT3TQyD9\n",
       "6oaayTbf5mCWHqkh3DMLzpF/2QXjEW6X6whMw7BdekPxWAZ5T/fNTs3IZr12yhKVqo4P2v3uhid5\n",
       "PTw6DGOTOziyEj2dKH5HGbA8GmAszaIwxzfIbtt/9s6UNgmvbZvcN54R4Q31vK9M8g5At/nbirWE\n",
       "8Cu6nsBLmIX/pupv7t5bfjJXEYy7nc4BDQ/yNakMox6eYr52D3t3UzPcmurkdFzRBs/XIwtiOw9Q\n",
       "ZD6TvukNRQi33BrEBP8TOoG8PTOQyREBsYKL/nvBbfvqcDcjzSdQmeSkYlLpqcsH4LOcV1u48tPO\n",
       "t9rJwK3C9JNZ3mlJi9MqG8YS4e6ohLjv7yu+Bxl7oqZ5i7+A+vOFux3K0NDOTZfyfXtaquXie2Vt\n",
       "O/5oVL0D3vBTgl5SMq3G5HxCBMD0F8SrvBACCR4PnikzXpuqI1xiYcrzUSsqhPIdgSyNBv3rXfX7\n",
       "0U/mpFM3hGqLc2z4t1f5X29n6jdbGC0iCS3Wwh5VgjJH4WEDtTrD4ebuB1NFgnaJMbCw3UzjRX5T\n",
       "4NkkEis8mK6hUP/OKX5R3aN/a8oTkG4eYpcFul6X65PQiJLRqFTKjGoTPQZr+AQ+1QKX2A+uu7J0\n",
       "zJbuiiIEL80tSacIrrh0SFGjKFETRoNYUzUZCl5EJzn4GzUWkplKIJziecfdBPYKUgQTk/jmneLk\n",
       "Nb5IIZH03vIhAI1KmFgswWQ5zxj3nG9JIuzljepZR0xEjAiVyr+sJy5Lw9OnMc+v6bXp0vIUkdoF\n",
       "WFctiuNrTHfE78o2hAmV2dWpB03fyYoFrd0eTzoHhh+nwAAAALtBnhVFFSwj/wAAAwAAAwAS2DMa\n",
       "oHovu40UKEZhJ6AAC5TjIe9QisUCStXsLMrT2/3d31zEM6rASO9FMWYcPWcP3+zvd1DNbaxDjNeg\n",
       "c/bnQXurnLi9/wtP64GDCYa1+p979dm/eDjTI5vj1ujqiin1F8isJY7LRYZvPmA9z36+xX3s6DOE\n",
       "Pbqm7+EhhPodSmbm5llRhP3levLNiOLm4lqcQ65BF44rTxnO2wbnLgAAMMM+ADhLIuxwwCghAAAA\n",
       "jgGeNmpH/wAAAwAAAwAaaTztj19COQYDRA0aLuDIOWh83Mhk0wndTyN2Je70li2WvCjVyMtBwgYm\n",
       "eL2gtr0D4HYDjQ7XIXN7zqCIbC7SXQLBKHHEsAEcIWCKPDWZ21xBxXFs2j6tF+vdSq3FSKgtQYGU\n",
       "TNGYcqsouwBrd2IgHusl2c4WYAADSQCALeAAu4AAAAJpQZo5SahBbJlMFEwz//6eEAAAAwArXWVR\n",
       "/5vWY4bg1h5wAmvojujO00MUq+3Sz97FoXrjA6VWnZ3+sIbMhsdTtA186TaxbaYXh5mSy9SroFs/\n",
       "d1IHTtO20CTBsKxxaaeILHrg+4D1wFDfk0mE6cINbbPimz7n41IF41sUHjSCnXgfX8IAN1k49dV8\n",
       "wIcIyAnQsTPuyh+A9KBFcUQ1PXPjFjdGgIVV5ZJOoHLiZWcSGSl16v2ZcwFItPzUv/WJm7jh4d2B\n",
       "gSKL3PrbyPWe4NEQlDPmP+6e1M25qgTvi1KKLj5RhLMo7PLeurOJYv2WChW5azNptEZHdmXx6ghe\n",
       "Y50LVBeCWi2wiQtuarb3Yp+FnztycAxmTg6UUj7YXq6px+Pu3/VDFFL2x61yjbeXbKv3VKWzS/cD\n",
       "JZMo29K3RD5G+PHT8Wb4V2xe80Vd2dj0dH7I9tCk/seLMpZJrKYFXaj3WFecrWW4u0iYwBTohJuS\n",
       "wCD9KfKaGYmD/0yKpzwEdNiRrskGxHjs7bFlvCM0lgmXGxCF2SpfpXPoi1HPtkiVRy7xUIcfYhjw\n",
       "CNbMvZffOwuIFCdIyxWVH9Ve7BUrkSukZTGQ3w8EhkKb0rBrxqqSiGzC+Iiou7Dypfrlf6vrAE9W\n",
       "bTM+AVbGg9DD4nqHpsPMXV+r8z7GaM0EpuCTsJNj7WqgtayK8Qzf1GvVOxXvvLRAsNhoW+ybnVic\n",
       "uLHqUALvEWuTnOmNk90ep2ExrRDLNLtkFhk7BUvrIX0rb1B0S2BhH7T0B+CC0TZEEvpA4ZPjd0Hf\n",
       "3KO94wAxXIocTFBHZoujqcb0kxKV/zcAAACmAZ5Yakf/AAADAAADABpvITKMb81v/HJ4IO0KrAkP\n",
       "tpCrUTehpGHO7nko1KslLKFPJnvhsiRogfL8z0HmfnHVOJfVMfeAT2vk3S4ni9l35nMTyNwcBRyZ\n",
       "H/nT3DjxJ/dZGhlLll6sT9GDqbCVMNUivoruIwb6glUaRz7LHEcrbXgrE9i6wE75mKp5eHCdESzy\n",
       "bAQEKN3rN+lUA1ldXKEkMrvYoADrgQAAAulBml1J4QpSZTAhf/6MsAAAAwAAAwAO50G+XwTnfrQA\n",
       "H7A1yjaK7Y5T47V1yf6+JmITNQi6gK88ck3Xyq5ycx1SFgnsXFMzWLizy+2ujRP2RQXo+zXekQyj\n",
       "3ere9TBEkDSfYNr5cNenoTzkkoRTYDeIcKUn0hjm483AFQZiylsshcF6hVoiOO6Go0ix8hxAniov\n",
       "YVrfpUzJjA4Tg0wDtl3SmRF55cIjFPMXvK1FoJLzIuqe/DdJ98+oao9Y2ixJxkBoAtCBtu+WNFEE\n",
       "JaZ85TD1JZnXmVpytsJ30OlEagLgU2/4lmkpALXYZJ5GYmb/1hqSvf1uuyIcOU3sox6nOEwoBBal\n",
       "2hiJ7S0l1yX93igtO+LEoEP468TcH9s6Im4c+gfqo9BRafWPATsEPSe+37G8HI1PEV4BdAfSjrwT\n",
       "jZs32Esm9QJC7rLK+BGg6yGAFaJynD50LVwLqMEQQ+xSr77bf4s+Zj8HM1WR00le1eLDxyvA/m6r\n",
       "VZwWR0rBlru/aknnUdgc0wl3w1dWW+3Ed1rdOErhpyAiLk3/IZgcfk129Pb77NTbbEdgiajNjXva\n",
       "THWKdGy5/SPWN3riAlYUQmbJk2vNVr4Yw6G6rv51ue0THvtKL67t4mirWU2KFuoGpAAUJpxdjHuX\n",
       "6IXNqeQ9YOwzZl9+gfYDnNEenMYbtGyXPMZTmAqLq49SfX1oNeWL9432FdydqHH5YHqI+xbukmgG\n",
       "SXA57Qrs45goOSYEE0SelUo60BkpsEsdVJYxpLT3HJOZld2kLvaY7BB9uAvA6e2JpfuZa4g0ZFWo\n",
       "cA7/awdRgwEcZNAGxBRDnEBhbLyuhOuzvKCQ0LOqNxtQ0mm+GsrYAzia2L1ZIfd+RPGk7+dkrsT3\n",
       "l2usKwEjfufKxJmIdzPHNLy0I0SOHOoIPxnLU1g1zKqG4RkjSTv+kMpPEebyMAaZPTRZkKvt4E3c\n",
       "G3gHjk9n+ay3Ht3tEGnvC0stjbyc0GdAJHo1oMKLAAAA2EGee0U0TCP/AAADAAADABBgps8+D8qA\n",
       "vuzPhYpx24AFOnh8XThoIuQQ+E9R109Ci10DvKc3QzNewh+NW/vcLATzVYbGvsF4aSD0ZOp+UJqc\n",
       "cGMJCWEXHENyowRNEXigymMprmCnAM+DwiMJOJ6N1mFniuGUR/Zd01I9oS2pCVduNg2uz4grDXnZ\n",
       "ocKtEFBa+RB0zsoDI3fKC2Ra2INzKujDfMYhUGRivGIiFLhO90CKQQnHRecgpub6MdBcgmnf1kVx\n",
       "HKEzalRCwPsBBLHC4b1QAAADAAAJeQAAAJABnpp0R/8AAAMAAAMAGlwofw+NisCFAgWe2a9OBkdy\n",
       "dNqH73sPKsI5BmcwjSQgKckIAk3c+pQLxfvTZLCBoqI6AdRJDLelg+1uPUlvSS8oDEx/i9861naS\n",
       "Wlx4WwlTC9XwNSaqvJVz6E4rTAMnPCFJA6zyMq/OF+v57cykj1VhNdjkok1UOBOgkAAAAwAASsAA\n",
       "AACXAZ6cakf/AAADAAADABppPLnFUYmQAFv6Az8bn68YqELEAkg3wlcZqVFjsM+hNsSZvFWQsg4T\n",
       "ZpL+5zGCxiwZqhGeHwRC7llVA/HJL4mO1cotLA9VAS6P5B0uGloFt+N/17VRPG9fbbVJn3UJm0Ws\n",
       "9kd6phaHvE7+C4UkThFvFVEAMoA+Ac33hELT+DD6ZYAQABaDYAACkgAAAuxBmoFJqEFomUwIX//+\n",
       "jLAAAAMAAAMADudBuxbw/Ab1Ci/F9YQ7LACv1OGD4wdbQyzR7OddXzvwtRsvOd3PU9wNryxkW6l5\n",
       "wni94/cv2PSg1x5jp1TAmKdE+kVVZEnyJu/8sRy/gTJPHaRr64TD3qq7r5rq1NgjMS7C2G9Du+NJ\n",
       "DxoWlMFxtcaWm+uGCDOB3JBuZgCp28ch5QPGJyLII1g59tiXyOkJG+IDxs474okCC0RVvklq0zeF\n",
       "ggBsx5RQEZxtMKqhm5BKus3vF6JXIo5z9EV6rc4E+GPG5KgZDctnGHZr7fZ1RgxGuDyAfGLnEgED\n",
       "xuoeG29S12G0woPHItexFjTocb9e1VncmcjQSfPvMsG0K4FsX3Qbg8cf2Hb6odnCevL6kN2JmTBU\n",
       "W4zA4VYbASmjRpymmgKqUcLZskSynNcnXTEySggGVVct1NjxAXa7Gs8ucf/ociqStSu08Y0H8R4f\n",
       "bSD0eb4/udgC5771KU19Lcqb8eFM2sL1ATTifliRxQKN/lw/Dzlx/7sPNxrpEI1dOYPepZnQ9Yvy\n",
       "PIb69d3OxCyQH/xlqJFH95PDrJXtwjBx0cSXBrrpx7m/Lw8qjuAGEn1p8qO8z3as+MZByNAVnuUb\n",
       "BC45l/KFM7hOotexXDiL0nN6kfjPnJ+12coOb+yLC9C2SPToo4JraDR9yxuZOoZBY3CNrVVInUhJ\n",
       "TD3K5fbBcgiszl0fFB9WzVyMjfuujeC2oL16La1/dyi/LplGDy60CnPejUoIvoRQie042/OE1O87\n",
       "v62gJJc0JKAF10rqZLbwKuwppShp6Xw52Uhd6XXHVbCe8o4nCkNGoJKSQny2BvvuMJ9GzKmg2qfS\n",
       "P7uCTHyxfGQc0BwKdg66yb88zsig+sHObgPokgxXqq90hSkLtiUenyenV0bULF1m3Q+jwNVg8Nva\n",
       "hCY8d0OeMBWP/z6wQIxrbo6f1Tj2GvirjpJQdK+xbC5/LtQmgsXdOhhpbrQfuYzLnxyhAAAA20Ge\n",
       "v0URLCP/AAADAAADABBin8fXrAYuEB9jrPlrATU1/TTIAHK1Fr2IPDRv7K93iPY/+fx/RBZa6K90\n",
       "9vFkf+tpLFoi9kBWXZAbq0WVfsVVQeuDi2NKIanw8cR2eKeoOdjoRjLoOmkG6M1fyP2r2qkCORSh\n",
       "Mp6fNS0thbXka1rFAuOs3G3kCwgvn/2qkSVO8Yhcd8vTVS6FMoCDQ3/J0NZttSq2hnGMivqCJBtE\n",
       "TZLA/AC3pebBjOT7HIoPaZedbBmf6tVK5HqBKBOIXzR8zqIP4WgAAAMAAAMBUwAAAIQBnt50R/8A\n",
       "AAMAAAMAGlwowg0m2UnVV+pa2f9gBMxSciOc9ZDQSevgxDaUL44Ld5iYOQO9fq8RrHhlESA8Y6hY\n",
       "D4T86/YGYBi4vMdfuWAtVfedZlg4KMN8djbZXICJzvI3MvS//zLPugYjz29gorzA92gPmqirI2Um\n",
       "8cSkAAADAAADAVsAAACmAZ7Aakf/AAADAAADABppPMJZz/ny9owdWRzfyABcVT7bR7zPCRME5mwW\n",
       "ES1xJ0RjYMYMMw6aLlohI2KsYFttv7jCgVydCLxeTAgLTg54O4AwgW/QZQ7E20MHu/d/tVRsHOc8\n",
       "hrhppWTBCXWzts5QGP3i4fYFB8KttwqF854VxBgLhpMoI++eFMJTH9PaYodBlGCXvh2Lu8IsrgsE\n",
       "+AAAAwAAAwCHgQAAAqtBmsRJqEFsmUwIX//+jLAAAAMAAAMADv8Jaq9o7+BbxC3hC2tunAuTNARA\n",
       "A/iMDGF+uZB8ziQcvUoze5WBPmB8LmF0kHy7ld3f14n++g1KoTHAv16c0aiP3Ad349Fccb8YO60s\n",
       "UjbnCY+e5thZA0gHqq+bR0esMN+PnNvUshJx1woqHysDoBxdRkW4AkrAS7S9k1E94fC1NBM0GIhS\n",
       "xIHN2FPhhNk/RtgjnzMzJ5V3frvYhthtFBsK9c1nrklBIM/8KZgvuUxvvvAM/bjbEdldtnsf+PXU\n",
       "ddS+3zWWGuf/hzT9g30Wa/eyrRDLEZKYpOfccdTlMCm6IAuqA5M5WJ0E0GJbXJIqqYtCFxLxtK4K\n",
       "GOox5fNfd76GQmoUB8VUT4Vj5XaaCNjftJm5JO65K1VZFlwFUp0fekC/7j5ZTO37Qo3TJQzAnP8e\n",
       "Jj7S58V5VUfBnB63OW74odo0wRBdLgzXoQLlYMcJaY03wlGYtcGE3oHFEODHuky4eyqyyZlMqCJs\n",
       "Mg8x6I/1wArFFtM/OGJuZ5YeqmJIhkXrbaKrQc+GG1oArnlSURA2K2PsZ0+xEJa77wgHL1NdvZ5V\n",
       "LaO6UIN+yEAtL8AaMG8MKOrsBHx8ZWRZf+hMkAgOozLWCWkLiYy3xQmYJOQI4gXZhaynqwmn1xD7\n",
       "91LgvuawA3tQMzu1fLX6XV70PNCBUa39Rlznp4cKER7ayTH1P/B8NyxyM1d2VEREO8ZloS/iOV9+\n",
       "mO4VmInLP9WVhnwp56apDAUcyfUR6mFhpQw9PWlPrrFeALeG8TGd8g+lb7sgdYP5TSYAbtyasKJ3\n",
       "hgtbyN6TzOIbjMZ8JVD7HeUrudZAy4byCwuQw/vOYHZJ++43Bsmnl5wesVYxikT1kctdb5tf08Vg\n",
       "iFxBZ1mrGFHH/q8KUAAAAMlBnuJFFSwj/wAAAwAAAwAQYp+9Z99hMYU2+0XgYiHwhKgALeutwTzL\n",
       "6dhmqY0/Zuc2xnSV5sRTrW+D8xoQrCMeDcDWTz/792swB/+O0nBKm8uEdXfYbmc6iSzyCXH7YI2c\n",
       "Sa80J4AXtLsv7RLc8pA+cAUw+yzGJ10EUYtOBdR00KXDCjhwgqWWh1cmXXsKPds7FxQEd44ZkXc+\n",
       "XZaxzd+NWU8+u1gSTgHWbvk9IUIWV9EW1bKbFoYJh2u+8JERUAAAAwGbx1MgIWEAAAClAZ8Dakf/\n",
       "AAADAAADABppPL4oydHQYVlgMEboRwYABaPtpZkhHluQ7L/xEtd6eQCjm2ee7yu98kaSUk7rhcGB\n",
       "O8+X5SoYH4h4Os9oTiEdLtMu0nWL9BZ4lSP/n5XPA+VeMmaOAkP50+269GQpDZva09bpwigHkd5f\n",
       "X/qnCMnaZh169s4GtZ20tnwQG5bBAN+8VFtDk4w2TdskAAADAAADAC49gMaBAAAB/UGbBkmoQWyZ\n",
       "TBRML//+jLAAAAMAAAMAA7kR19DedcLLACEYYsp83D4Ca5rqip8GP7Jgik3JpZME/06NgETXBL+l\n",
       "+LZ0FdeUt/m4qUoQkfgWVDaT3vRYHa7rrmQOGITghLi9e5n+e2ixbB7rF2FgaAr5fyVfn/+CZx6j\n",
       "noMSHFug1XgiI+GYlSYeUiWUWA0KgaRcdJw4kyX/vsf8emzsnOz1TCH3KzWi2VwMrm0ZrP2/Bz93\n",
       "lmpCHxa0tRRo2nC51iwQmKguDwPAWMDgzJVFaB9m5fXCfUP6X3XdoiDGNum3csKCVSs4iAqsna2a\n",
       "dfbBJpQeNx2FPmDjJIaG/giDAwkxJZdV4Tp31kTb171s5mL06Ev9MSe5uB5Ub4geXKeXhniPXvjw\n",
       "g4Z9j0rZlYRV+vCgcghiffNV3zLBnwWhg5O+lsrXy9IcW9xUKXRpxmz7dIiSO9/q03/arXEX5BWM\n",
       "72M+DfCBGoOw0pBvClqkBcK7d/aCNDXDSaCgOmgpb0y0IGunGUrkgAReNsMo2uaCWG/GoxbRQCfL\n",
       "HMdpAi4eh3syawvDS+p9klyRz5dIUiJmH7upmK4k2KI98x2xgoQ/2oFjE1eGFm02KRzcMrX439qC\n",
       "XWULvnb+Gm3Mz7oKqj6k4842uwQXDFuus2+rre01sHUpySJ14rYLTR+Ky/z4AAAAtAGfJWpH/wAA\n",
       "AwAAAwAabyBhiuRM/cABOGfiBie71nogELWowXDa2F7Xmt50TdurgJky21xPlFVTSZvR6VMHD+cG\n",
       "Y/U8h6IFg+ToPh9oK7ZkMzLp4H7csJ4kp4pVQZS/4uZ4nyMjFPIpXWQyzJfOkgP6LY7ZS6UUXmvX\n",
       "3mJvg3H5mCrecroPrNupIt74YkeqO7n25DWC0Jv8Y908dtRiJ7Zk3fz7DSxpvg3BqAP2AAADAAAI\n",
       "+QAAAsRBmypJ4QpSZTAhf/6MsAAAAwAAAwAD1a0+sIYQABz5YefrDxD/FkJoli+/lir3IAzgTr7y\n",
       "scMJ9xbdZWDxGP0oCx5ulCDZzCWIW1eDm1vMNy9/5QqJ7UdCKIEL+WsuLTOxu6nhn8w7PGZVXR+r\n",
       "GaQhdFXoPX7atG2PzT84xAbzDaGrEIykuMvYya3vXCVqXyUl+dD6sJKPlIthswJUnW62JIL1bUDC\n",
       "Sa2jGvnHi56TWvjblOIkjphlh6E6QMKAYr8iYtcQ1NAfYfTVUFQkdxGWWV1g6MVjs3dVZ56MINQ0\n",
       "OJkoSWt3C96+fFZW+1xHTWp80xRH1N6NUh/puRSmd4NxIsIz4Zc9HFmKGu7u8iZL5xR4oQSKAG1G\n",
       "BVBO2eV/jytPn5ihOW4JBhmrd+6SSc7bSLIIs45qiJ4k1/dy9GKsdmiHYj3hQc0N76i8qyHMHLgx\n",
       "Y/QNR5EKfNqqmzk2Xkj37wGxADIqKtZc9ZtzQ8XQczigh+rk8T0/At6VgbVx3GGTAw5iPMAbmZRd\n",
       "XZhwxgMz84ctsLdC8RXbkdoVsop05fgLijBCodes0hw5Xp5MKpBBkrx0YWHJj3a7zrZhvr9UFVfF\n",
       "K8w4xgzXLpYbmCy8RbU9pZNDWonCG+MR7QEznlVQottQPHyMmBn0PkCKc5MtoTjVj3yiD/n0cK0h\n",
       "Awa+p0ah4hmZcLZ58x3Wl72P6h5cBUGZwhidbL3UEd+zfDnELdUFtlpEqaX31aW99ideIlckyV8N\n",
       "DRzj9kjj95vRPVUR2dyr04wyY1aDn19AK0//YOlAt0Qoibd9BySz+rPP3CCmRumcQsvjyPZyXUrS\n",
       "+cSv/4nxfTN4IiXV6kElF0UsjHrpsjwDm53YThq2IqH2pL2+YYvvyfeOJbufK9b2sfPacLQ78hOe\n",
       "uKczn0Tpwr/+NTbZdVMAJxtEqApcCJ1Ab1JzylAAAAEEQZ9IRTRMI/8AAAMAAAMAEGCmdMCYjX15\n",
       "zgAnN16B45pt9wacD1JnjZpdq32voxiZsEyRMTJlAOsrPPd6lQUgkAHYDljUuqcMFGhrReeAmA37\n",
       "4uxV4r/kA1yI+xuMU3Z7V5HrrsK5AoIdQ4c4Rt37Ih30O3P1qASffv990qze7jhwIF/sFWddLSmy\n",
       "77kvem9sIbBd2cNXvUedeXuNXLG/0d8ekaqZMGrdIi7idZIcSRwupul42k7BYJXAmTPs1cCe+I7b\n",
       "He8zn5Ik0FoII8SUgtoOMVg5ycsjKnd5dAlgoEqZl7ydCrbxFLKVPqKYfbrsJE2oIAz4wfDH+VTY\n",
       "/MAAAvUoAh8AAAC8AZ9ndEf/AAADAAADABpcJYRS8uqfbTpEoAH17a2wUt3OFWSxyxyGCGGo/g3K\n",
       "q9lV9/jlU5gQOmRCG3FmpGKH1Sf/ku20y/u+RGBrNLnFBqujZRs3n2Dm5CNmEUU3/J6oJzbVPXRB\n",
       "TztF0BjOaznBWpE3TW8SyaPzECZe5DL2lrvzU5dCzxJb7zSSkhQe+BxUDy87C5xG6ctn+MjDFFC1\n",
       "mwCN89OGnyoj8J75BT3WLGd/st5RnPAAAICAAfMAAACiAZ9pakf/AAADAAADABppOmJDngmJxDLC\n",
       "PpiCbG6iyC7HsEND+EYn5A1AWFHQjf3w7eSvkieFi274T1/DazDBeLdMbvTYODLpKOtz2iyncsSG\n",
       "UtRg8yCbgNLyb+RvUnWaHPw4tabqiuVA/bwKSdJwODZYv4cIQENd4ARGr71RZEGKUeZWU5l1oxcM\n",
       "NSnaOmohOiwoJrMBFwvT4hAAACfTQAl4AAACRUGbbEmoQWiZTBTwv/6MsAAAAwAAAwAOp6jndqq+\n",
       "sIcAABX6nCfu+f2HT0ul0F3tj/k0Ip8AkJC/Q1Xb5i6XwgS7CWrs0DobyZ/iljMk1zPzjQDYnQIz\n",
       "/pjyjO/YRmQT2a7tamdWs224wKYABJb+8l2fmM83Vhv+pq45pfVAQOmRLJuGJIoPOQNlxh+yP/AS\n",
       "KHVZ1RN2uzBp3RQjyOzb1n5XY1VhLCBp93K+VKIHggrc48/uE4K4tSLPUWlNSxYBsKWwEaFugi60\n",
       "9Gd2YN8nnUuP2qnhZz09x//C86+HwRvAbvgw4fkOmNVPmMENYekUp02zuquGeTi34uC5+siNpIQS\n",
       "CWP13LeeGdgAzSw/Lmp3JZjb4UN8EExz3SM7UHUgnSngMe3vKVInjLB3hLk/NoFrc8I7uqAAG7nL\n",
       "lf12dkPWWB+N0JwCtQaEr5dvCCRhN2dDouRxWWUck9MP0/zBNZXoEhpHH1eclqvpsRugV/TddsP/\n",
       "y559PcNFltmvlDNPrhtG8JbNuJHcTIskkItwIbPu4bupEVaJBvFxGvxrqiJbrxvXx6C8LhFlI0iE\n",
       "hV4hrK0rUxWy1d3I0uaiCgdbm2iwsjgxzbhDxUiSCqCeADm+dcMmvZ0fP0QEhZdJ5fu7rRfvuN+i\n",
       "lXI/A8JmZiVT0hdc3EQbr+wt3FRUw459m/N5Hfirhy6amr2NhnGsqTSGZW+KRJKHGpSz/xfsPUuY\n",
       "oWfqRtOP67ci+tiLaDHBbX7b0oStZsNY8g0p0hm9TZTJ0l0j1izYAAAAswGfi2pH/wAAAwAAAwAa\n",
       "byBhtWrBiwAmc0LPo7t8Hr870owG9IsItFbr384QuriaRZgF+/HaQ5ObJLjdPnXg+RfXezgvF/BY\n",
       "50A5aqjqDImgLKKsz2zbPamiwFPX8zO5vcug0tBtfHdurT2lx9pqitZYufbldWhJLPaXHkJG1C4w\n",
       "E4aR4Oz3ykGjKJ/YlgRjFPgVB5yy92MAQN/X7NJ4a9MAi9/9Q1hG/gX0GggAAARK4AiZAAAC4UGb\n",
       "kEnhClJlMCF//oywAAADAAADAAPVrT6whhAAxR0WsE/fra7mbSvJFi4U+Nm2+dZTb48r8tMQazdv\n",
       "YrXXybo8fnnipXeyZR2bmW5RjutSxVafbynOWlDHAlHTrNyq5rCTtuZdU0ph22KmhrSRdEeYSnKO\n",
       "Jyl2pDNQPZEuKBJfWSMQz9Nu6f6rD/p/lDXB//b9kXi2POL5tEMXFb0gRNUd3Zl603AhI2iXu38U\n",
       "KQefHu7U2VTO7RVrXUdowW9FprjfypRdVbMm2FY6GMnnXkgYEh9ieYphAAVMPbP1x4SWpdPjC75v\n",
       "DeO5MQcZ8mA/tX3U86HQdm7Qq/rgj86bXPYkK8rMvnkZud7L7LFK7IVDAk8v63gzU4ZmcrAucQ6g\n",
       "szkOnHuL0fxrSNI1c977cinumsV4vD7okmls8gPiA5ggiDQu4vKZL5OTNsW02PghPXzygwqgTYEU\n",
       "ySmPEe+pfTzgcyAStUth6c/X0AlkfMEaEcGtSWFMjmlpniSnu5DQFtcOqzEe//P35U0I3RPoFMDk\n",
       "3ncdNmFLADbMtfj+HEtrMjn+2e0UEpEu9zMS/4ajwblYGG83zaPPaHK33Pr+foVjETpz6fQa7FpV\n",
       "HS0lU08ZfMS26vJE+ygZYGM9zyL58jx7tR6cZ9vSm0oBzwLtT7jL5tNkLp9x9GDPIGM4by5DHYaJ\n",
       "DW6prTNuseHPNUXmCvsp6xv7fY9V34Q4c1hr7nvXwyxXWP/lzOmw7LLL3szNwOlVQKF/3r5jJs0k\n",
       "GnwJFj77FGziFLjnBGFVHB3M1iOWCZF9Y6vwCtgqRcG5J+krsZJteoVqT1dJSIrT8qKi28Gbctny\n",
       "v6jWzYFvJESRGvlVgeEbrCrJz95N7uB3B+HHollgeW20zhRvg+Um6hxE0yRJ4c3hd4ojwC01DxKO\n",
       "05l7A1UIZmJ3ZbQuLUN1GgUoVohksc4IQq2phr6IZ94MUKm/9LeK9snYhT0T+6Y9U4nUAAAA+kGf\n",
       "rkU0TCP/AAADAAADABBgpnVsbiAGxtcyn5kFz/tpzjrZE1DMSCjHMKh9Rr53SmcCAYORWV5ww0B4\n",
       "KeyfRgWVJ+UDhbIBxshrVLIW6pMh5blz+rq1cbRvK4OpyZkZefVVRYPNp+XS14LjlUuEUjJ8Tyqy\n",
       "FwZlqtcdc327LEgbBXH8kGtFF8NMkFTAuYUSWwQRKEIU91mC06TQleEyoxHNA1VwSnIdI46v9Oqo\n",
       "1pTS9HWs16QgyqfHmHkFw26Zl1gQl1HAIXSzeo+IX7HcUbA28IEbV9sd5bw3HmB0jqmAsUp03BPp\n",
       "+QbTxkGMw20ACwM7ACNvwtYAdMEAAACcAZ/NdEf/AAADAAADABpcJYV9s+sGTAA/hkSHLsVILQKH\n",
       "khmT8dQ7Bn+noxNfR40T5nHQhu8HGbJm7sN3UbjWsbrRS4l6iEYrvoGYxWSDR/TGmhbYUtTrL32I\n",
       "jGWZ+9bSI3fVfWBS8xQlikElAIDlE8CgJTkk+Ipd6ciX7pWTmC1qve9f9xlRx+iZM6HFnD4MghhF\n",
       "B+ADvgAAAwJOAAAAqQGfz2pH/wAAAwAAAwAaaTpo4I2EAEsyQj3EP7rgIRvdXMfcw7RqKw8ewKU1\n",
       "vL3caLZM0KfpoG4UlieCskoWBoXLUDC9lw1nvgmLbaGokra6KxknpL9BiR5qKJLkDeI70ksOVPys\n",
       "aHES/p8e6XScsLT5W+c3OXj9NZy6Xg0aV3fmp43ulob4r+BGZ5q+QCdWduAPoAS+BzjE576KqX40\n",
       "ECZNQgAABoAACDkAAAKHQZvTSahBaJlMCF///oywAAADAAADAAPQjHv2IB3YXXKPc39a3Xg6l9tI\n",
       "ovxAkJXR/Y0yIhcXwUmtsM63ZHg/G5uKBR0wK0xBLH6+KNlI+Tg2rg4D4+tg4GD4tbILYzbW9stM\n",
       "VcLLb1hYVg+pxyOYlTHm5PZxsQ13aBsfnbOIwfODwFVJkWd+ufXkV3oxJ6uDsHWlrxDhE537HP28\n",
       "SWzQ5bMrSnKXyhYJQ3y43EECX5JKkqlgBXEzwus++PFI6JIjoZs6E4/Zvev8ckZC1ykjRCKp+99j\n",
       "XqAso5tcgz9apo1MOY4wdgrtkEJFB42S4ixZPnByjuna3cDWA3R5CCmi/5fUFhwajKBoe2M8RmHG\n",
       "44H6jvPwEYb7esDtMqfAZ4rzbdaTqg07I7cDhfMRHb8oUwAg1fFVcl6JLmS7w7iau4CtV2q6bitJ\n",
       "pV40ZIP8omsRyBy/BlkeldzjvlcpGpg/Fchp7mAc/1bDcEiDTfStVtk8zDQPo1zS9f9W5NJzs7tk\n",
       "EA7nEtHRGJ+eVhidbb1Rekx2dI0UXTAfz+MSVO+Gk0EkWS/hS2FpyU0v2kpvUuPC+/+03Oz4O5yB\n",
       "8U0Q9ET0FscMPu+sqTHYHopMNqqk1GAAS/k0a6g3zYtuzcLwUqqL5QLKV4CWma6/8PU0lRukNM7+\n",
       "Htd7WECWg5t4kt/sL42Hmba4JSsdjN4pYlDWd24/wgCf8hERf1AVfdgkD/S4NwPw3G4J6hvLlFCC\n",
       "kwjepA9yonpCOeM8Y4MoT9Q8faknlisuSgko0QdR+Jy6KN+1B59N4NcXZlovV5fArUV5gyCQ77BH\n",
       "iNCnB5r6kt/4NucMb+sRUbvs2gJ5XnOJMUzJx4UkvzwzOuEAAADEQZ/xRREsI/8AAAMAAAMAEGKf\n",
       "KSVT2CzAsa0MfPmPYF3mgAJ1gE8Jp/LCsnQ3h8gmYnbGOqKJWkJYAJodTVpgOawE2q2RVFMbMK27\n",
       "9pyc71NrPePWpTIQN6HnRnV3VQYkBxaQ6buArt7EjrxMUFtzczPRpsYrJp8B2t7zXbtPFT5LaZT8\n",
       "nEVkY17ZzUx/KiAjJWL05bSroGdEOE3bK2ylH4yXPCJQSlRvRbkaOAJW9DVO6h3UEaNP7HgYBsFA\n",
       "DdlAglBZQQAAAK0BnhJqR/8AAAMAAAMAGmk6ZOdSAESX1UxPtyph3oP+biJqzRtHlL4uSHKjhkDr\n",
       "xM8Z+v8CrmvBLLsfE7AGxoHn9NaflwBB3uw+PaCuAKxJyBtLwahTnEWDDEqW5Koy4xH6VDlopT8L\n",
       "xQvT/UHmUsGvsXGVflg/Ln3J8q+VMlnrzwcx650c42IKXXfgxuUqfL0690h1t15Z7wBtUX+WzHRE\n",
       "PEsx6UAAAAVcVsBHwQAAAgFBmhVJqEFsmUwUTC///oywAAADAAADAAO/73mPo+rW7VEgVL927CI2\n",
       "YHLoSuxzO78OClY686YZbCsSLuE1s/RK54/ViJeHppGPSxfjvSlzO13y+zcLMuUuaBqXHbiFP2k5\n",
       "4YtBKoqr0Xmjpmqwpi8WjhakRh2jcF+qg/13flJuA8GxARbCQTJS9vuwU8WyfIexUGoj0WLb6q43\n",
       "IrE48VjI9zg05/QtCc7Hfvjg6Qbo2RFZuXqLAw5ryka6SxMdm8hUqVpviNRN8rHl6JY4dfc7zJK6\n",
       "3h+f4hMbeyl3pAeU+eHLkFn2pnntp24ZcjSrCal2u9OG+igRkqg0ptaZAWabQ/kbmaIp9I+SJYE7\n",
       "FFO/dzO2CSGTOfMTVJMmPY63miFIZl7ZkNdzmAmW9bWPIiSukhBaKyYhxsqBNn2IkZLRmguhXkxQ\n",
       "j7CYr7Tovpbt7PdPZ2w8X4KfmnB9Gn2syQ48yRnlB7WX4ChErjAnyEt7NinsdOpbU+Ftqv5/LiTP\n",
       "NC3OyYhGKx+mkZLWZOoE7nnRvyV/smP2PssSl4gr6zyXh5USFE+M6jdW/3Lw0F4GW4gUh6e0wX6Q\n",
       "woAo6yV1KMlDHncO0wyLkBSJSI7hZZTm1jNOdzjXsf/jJj17r12ooCxaeUZwhQ5Yr9kZB9E2eASb\n",
       "h1+CuFbRjvU7SNk3iZekDz0AAACxAZ40akf/AAADAAADABpvIGEq8M/AWesgvEdtRvQAeiQSDxfN\n",
       "aB+adf94/urE3BHjMEE8VwnMJkH9Q5d5tTKp5CYaxPS0dNc6rrvdzubBUfHDdb3bTnPO0jwFE+L9\n",
       "CsGkswyrp79zPbU4UVNRoABifDFzIyerBEs4L8WuUUwltj5T0CW3v3EfXkMApg1ysTvFDazuXQAH\n",
       "qi6MWbd8O7g6+a0CliWPVzis4AhIAB1kgDugAAACikGaOEnhClJlMCF//oywAAADAAADAAQH6FSV\n",
       "1djgMSGIRdX/nItkkowEvdgbC6NEOyzQV8uAsGIssZYcJ0Dwt15yJwTScLvIkNoku4o6OJE3u3Wl\n",
       "Rlc7D6U0Qd5q05UC/lY4UHDNmnS3HCDGqa1mt7PNuzKWnLyNuYEH2ZN2HW0n/xjjzYZpBGQewfIl\n",
       "tNE9K54fQsuXJNlyHKoem/3P8V9m+IJjLEc/U+W8mdoFUV6aqGwLIHmqajFXwIEKSnVugQKUoq2C\n",
       "flBtASgDCm9jlYEzCjGy9kja7rO9KReFGGnY2VCvWiRGWGO5OekwHNvCmIh+r9Rqb6AAAAiFZTeH\n",
       "kUJr91ZyN2OL7cqz3IXmeAj6lwpLGAYvJis2ICsdXMj37R81NFXtM5H/+EAz0kAIhmVcvMWd5Jqw\n",
       "1BKYRqH+2nkj36Vh4PZahgsM6bn4Q6mRYpGkGTHqJ6YsZB7sHx3ieww/wCMg652ltMume1Ny1Wz9\n",
       "rw7K7sTm7rGg+qja/vPD1V5K0MiHCes4d+fhbkrjojxfRHD3sN5HOW4T46M3p+yUAv8kNaIDSJir\n",
       "1wVkQyOdQhrVm4e3XkiVsSbDqv0qtDH0/2iA4xoVXwciz14bryIwYPE591v2O1zX5L+dxVGvB845\n",
       "DizhFXRKHhewpkhr9/cZLx2N3IbJCvVyKWXsW19aBlkwqZiBc7G+tGEh4cwYenDC+uWsb0euuRJS\n",
       "PQQHiwxNTrlwJyOkvK/PUTLUpHC5zVTiPso6A4TEgXAvekpxyYoXfwjNUv/tr1cxpb2LACDCy2TR\n",
       "BmaUoS4GR9SJPg3X/ZKNJ1I+X67wK/qILODGSoQ3+Ea+myXufYU6MyKpilP6kPuPR2akMbbxAAAA\n",
       "20GeVkU0TCP/AAADAAADABBgpnaQGWshVld/ZjSr5+/5mK1n3PbQ3xViT5YYK/NwoO88gd8iU6JV\n",
       "Vd+Th5xTtO7yiZMqYs1TiBkXriUdTlmduD+cpbQuHOAEaYnm054weABF8FFRFOBCeB9MTtZ0cSKF\n",
       "tT2mcLr49yvPNWsoBV80hZHBpL6YV3BaFZYKPqvZ0vQIbfGSdpou/4mXEgBbSD59wbtzczGQlMDr\n",
       "WN9Fr+9dVcd5LCDWppNvsBcwExDPglIR6c8FQKqI7glueA4SlBSddGoAyYACFSQB6QAAALUBnndq\n",
       "R/8AAAMAAAMAGmk6ZHnlh3+KelOvJIcjzDQFkMx6LK1Hz8VnoiKOzc1u+5zsfPCvoCXHiXLdTJGx\n",
       "BA8O4WHCJNr0Re9j5YpZw/lKiZWxw2/bFW9RBBLPbZoFrzDVQJDR1bwombKszLWyZ/omiWzl/OE7\n",
       "SENAAWT55eixBwCsLrmdcCZB2GVeE1x/GX05UbMyuLiEkuz+AFKwYdQXu4tiqdgN0rwtVqwOtAJi\n",
       "ABvgADagAAADA0GafEmoQWiZTAhf//6MsAAAAwAAAwADuoysfZ2zMLhnPwAJzxT8jrZAfr/vX9Ai\n",
       "LtcJTwhA45KYpKxSYeIAzFx1Y2eMFvvCwXEhbF8ixzxXS6EAxAhqTAX96tF7vs59uir0OIw1C1Cz\n",
       "0yx5O3s68ywq/5ys5o03iPQWI3OD8eMno7CQGZQf4x65e4uZ8glxLxafaeTzEekhTswtEfHUsgPI\n",
       "nb65y2Ouir4EhsvK2l0G+yZaGwtqPkPy2RupdD+4oidS0TMdF/F19PjmYCbmiUq3Yn9H8y1pqWJk\n",
       "GD4MBokxv3H9eexwISH13C8G2pcYPTJbMK4dtmW5/InyPs+bksxpk7OxizIAdnBH6ZgqwsHh2jVs\n",
       "+PuEVOd5PQ5/kZI7aGaripX8sEZt5Cg+UWmTvwCHqxj1VGxeBpo7qQOD7Nygzx7OzoN248Y+31nY\n",
       "mHIncUx7HNX5+Y2L0Kjhi6X2Rc0YcKfZvdBEQAegGVnY/l5LV3I3QKv/nmWcRY5vFFqXtIkCKPSn\n",
       "/Ky/mJ7xvfPss/5X/1h5AcLdlgWe4gtIqyxQLxFzDfSkDQYRpPBmIdpea3i1YVlLNI2p4GZPlsLy\n",
       "FivgxGmvOf8Rvfnryllq+CwkdKNiIKIpmjsMuHGxtSUL0u2XnXQuv9cGo1KtPfd8Tw8/1Qa6Xkg1\n",
       "PbYyY1yO4Xo/sybVZUBeUIRKY3urmMsVtWkVstavDluSrK6XblfLtTh7I6bRiLek9c9hs5DFJskh\n",
       "rkCVeMkmYUJwUFF+4xSYhiTnnw86PsClUXobveZ2p4t1fw3ZP5+b9f3cFopmfKjM+1ctTWSN+bD7\n",
       "pEWV1uv2PFPAvJAb7SHojPKyXh4nPU0xdgVqy6amAySzX6yQQF82NnjHgkUa5l3aItWbvglEzqS/\n",
       "MnnBEaUZTOGd16H0G2D2qTEJ05UJ0VOlj5MhAHD25Zr0EUqdpijmcHu6TgWwQH57CwjHwezauf+L\n",
       "eakMZv4m43AjxsLjBRj3sT/CfqwczsBiRFyIrGV8F1dmJuaakq1X1QAAAQdBnppFESwj/wAAAwAA\n",
       "AwAQYp8oJm4qGy6SMEe8+HK4aiBdEj6MAQkiN8XtqUzpvgXcJz7bS+yqSL3c2xIKyxoax/gocjnw\n",
       "qZ594WBItJgIej4ZDuHKfCm4s+OajeCxRC6YHitPzH5q7H7QAnbIx62E4mTSmEpLxHnATKpGr+7A\n",
       "MYf1whdqTCN6Gg8+WU8ZO5uxZD4Ll/vXtCT+/lCgZgei/Cg32ZDsMQseBRbgRQ3vDNdhcQM51ml9\n",
       "w6wLdmELiD3pX0TyQM3F2Q/Ey4+Byv/clGLKH3e/z1rfOCfUIgvqr0L6p8PBvrYnUn21AUatdrNZ\n",
       "2BQXPpL0ovdYRDQd9y/fiAAAAwAFJQAAAJ8Bnrl0R/8AAAMAAAMAGlwlhnjsiCHZKiMb8MwABM73\n",
       "yiyb95AO2Wtb3cg43DxFXStYa6Xvo1+asDU4gPrbCkcqofP7n3EwQ+qASqG48oIIHl1f1XzXbujH\n",
       "PV/4jDtCEssL768ATEuK8dSqmS8AxqncNGH4AAqe6KbpiSRbtyEM7KjWtX5+/l5oJLkIJwhw0RUA\n",
       "oWFruScwCgAAAwAAXcEAAACnAZ67akf/AAADAAADABppOlh6B+F3UwBp9ea0nhl2Hnhj1GoRrfec\n",
       "MMSrcBmlWeBx858fPnNPqyk+ebdzmICJJXCn5PubT1qH8nGNuvvDTmez8OYe69JwIbfMEVXH5kVI\n",
       "edRajvjAuXAAud8h623DCusI8Jm0kBPza+1fxMJAwvdfUqiZFPt3XNS3dimXTVdJwC6u7KsI8O66\n",
       "lph3lxYsRAAAAwAAEnAAAAIfQZq+SahBbJlMFEwv//6MsAAAAwAAAwADfe9338IB0a+j8wAuc+e6\n",
       "qk8Do5kOT6iDWnyiGaUtSxBJUutjY7uPAS6ADIUgqjXKJIkPuJn/U2v/24u6oJGRXZvbiNI02bvH\n",
       "ZnIhzYZS6Lw7pE/3J0w2anV299sJeDkWrtE6LG52MBB/GOaE2SngnbPqdaUKv/D8bOplJxLCKm6X\n",
       "R4vH1iGG6RSdXmEYPx1RZvOjszyg4gooZMX5iBFz5p1LbbJOMF3nYttLE7cmSGeTnq1nZPArHqwt\n",
       "MRvAc+Qx5crHvPy0tBu9KEDIT3TpNmqPhSZ7mFffshp12TnQ1+wKYSBBbdtve44C01S4chk0pcn4\n",
       "LCQ6xGzC3Wnxwr0ZjpbCXR+o3o2KLKQg61PG3+bwQxbrsm4Tk9B/dZFRNsWDJ+mrKGv98w7MB8wc\n",
       "WJM8AoK6C9j7QgZxWBqWBN23GD7R+3X90YVCm9PvQH3gOXTllLUGu1s0u7Ih8tNAP+tOHYifxxwR\n",
       "0vJy0WmME7mHmLEG0++cFbdhIDTXlSzYLyxPHmEkmod6YZNRLTvIvSKyvvx/hb2Sle518yIiDTUj\n",
       "MsZbE2+qRMR6gh4jm9xXGgKC1IDRuqFIYBG1bcapoYC6/mQxqfeDg5fE5v/66HVBL33GiQAemcGF\n",
       "SdunAUu45gg+hGEQ1VVmYB4t0U+XkyGxCTaU03MtLr1fLbNKd3f/1UENAdVQcSqAAAAAmgGe3WpH\n",
       "/wAAAwAAAwAabyBeZXJL3gcH9mEAVV9KANwn59lRB3dyk8abeO4canWCoOAEE7cbuvHn4vb4Z+9i\n",
       "/XbvbVttiV8TroBRZvw5Ako33uTa9/SbmrQJ6QbcvPnx98c1rALDJDBSPfHzed8aV2S7wYnFOzjF\n",
       "iXLp+u4lmDMACVsNoe+zDjlrJVvanbcAlLwSAAADAYZMAkcAAAJHQZrBSeEKUmUwIX/+jLAAAAMA\n",
       "AAMAAO75IMH04gBZQFkByLJs1uqg/xfm8yltyWUp/EH7NcyUwp2NhetYDS741HxCebwiEwlz8ma9\n",
       "yOOIy87t1zSvDaWHD1vuJs18b6XhC2Yhh+Tja+0059IyBaLDacZLmG6kb65WJCVV0coG9p5n73D5\n",
       "SXGpcQexq8HQYmSumWzBGLex8M87QJ9kXCwvFK8jUD4yxr3FxXkbOJ270UCFrikw+k/CfOLJ9F5c\n",
       "AFPz7eXB/aGBQRsgrMitZCafJXWlSX8t+sAcZPUllK66k0KO3zhYYZqoqe2z/CDY3jOAKcSEzya3\n",
       "KOutnN6tSkov7IChGjKBcaFD29gMTlZeZYAt8G36+AX38i6vA0xT6cHn0haKZ6xx0A3zE6OXPCZ6\n",
       "/7hii7V+4wIVdueAnOhlgoxzgWTtKxgkICgZ5LBM/+ZuDP+AwefZ8LbZli9hd7cLd9nNMm6ukV1k\n",
       "WsbLPpWZL+m+1w2esg7pnnFc5af8JfOvZpFcWSgzk6gnlS3vcYl466BvbpKL01LQRMeDNkhcTZ4P\n",
       "cYsz9//P+fMko+QujGNW1/LLMwzeeIuCfiW3zymbOZydTHN0zxx6u1e8YMLUzmV0BDKbx3X4dvLe\n",
       "u2veQ+hbRNPLfR45qeT3/cKE3UfSrJBcnWhhQCof4Ry2KCUyIJub6ovAEjwVBpfoAERkbFKJtFcL\n",
       "xuixa0WFuJqCcEHbLsUKv5uPxp8uEMxmmBnaGkkw7o9hRTzSQVu9dzBcFgFtrtGJSv6cJAAAAMZB\n",
       "nv9FNEwj/wAAAwAAAwAQYKZzLspRBLPkVfL/MrQAZvGXe4ZdDB0DBRNSx7/276PAyzG4ikC+beDo\n",
       "R74LY1qH3EwWyEPyrUxoYHcpboUh2gEpND3jO09yWFm7AoY7+Nry06WKhTNg9FtipxrRJ0ONid46\n",
       "DSC9uMrIetSPkLGRlg+5OZnK3Wpm6kmwbpZjS1/kaPtOpmZmBCqUqRrv4qSxNk+e/nPXvdG2kEvK\n",
       "wmHuR4Cgmbr9KmP5INz0AMZqQAAAKaaAHrAAAACdAZ8Aakf/AAADAAADABppOlh6B+F3UyPE5stt\n",
       "q9qGIkjQfFAlUNeyzVM1TVAlKDxmPZDjak4mCQt1WvvV6CL0AlEqUnwroX0D0ff9XeOwhBso+wc0\n",
       "D1ACPtqFXTlqJbzpN9qKoGOHi3ULJcYZHbJNL8Us9xmeuXDoBLysLf3SdtMizX++E771SUVcXb7Z\n",
       "YvJan54kPmMAAHsIAAAIeQAAAj1BmwRJqEFomUwIX//+jLAAAAMAAAMAAPT7N8z3HTfcOeR5lgBp\n",
       "d8sw/zJHefAbxVwx8rSUcN+dALSluemfmENZ1klz4yMt1PHE9ubz7FMkXy2+E1oPKCkFA0/mus4t\n",
       "AkkFXQJv2OgrBvV4gy6ITCDc7BQ7/jB4FE/eaGZSGDIf58skIWcVe+lz+LUs8X9SMUOh9xz/G4on\n",
       "BL84T3lMuKLZYq1DqjyOzJLRadCT1CVTYFuHvKeBgraKF+QY0ZEgYR0D3JzvvCoUIXNa7ZkYUlvW\n",
       "TVjJFdz/NcrWeoaeVQDuHnLeRdmV5jexV3TRpienmbwv5kbTxb8XBmXIxcExRfrgV1Hw1KRffA0Z\n",
       "4oEogo5ASX6SzwyyyXK91C1rcuIr89THMbxW66IU9la2gbaG5FTt3MniHQMrTGcky4TXDiX/c2Ov\n",
       "bl56OZ0RPCJl2+7EjFY3dwNTB6GAspFhpKxGQIq4lHqEnZJQYLoSaZmyhHC+keKNjeKPbImyubAt\n",
       "3JsVhW+81bfu9VLoRCmZjp10auIwR076KnwAc97d0vJeBLZkuHIzn2wkDl6ZdNwEU5TOFl3nss0E\n",
       "j61+kRR9LRZnVRKHtgP9BuPefO8UvxhIkri11LZaF1/nTi1HBHWNYfGneda+hZnnyxxYlsYOAJ0F\n",
       "hYMItBvgiurRKud3stB6pHqu+wpIRZXtuMsmV21IzrX0bPiM5nX+RZSiSkgkE6MdWwU47zJo17Qv\n",
       "R0Lg0esFOAzQiRaLVwBrhjYgkXX0P+AAAACtQZ8iRREsI/8AAAMAAAMAEGKfJyF8rfSv+RYswQ5I\n",
       "kyufd7mJcZiRA9qGMm3cRHHtHFELmfOIld8yS87F0v+vOKXEKjUUneE9wpaoVlpl96C4RWkEbcBs\n",
       "H+AL7krPGGrCA4qS51oZaYblUCKmAwoPbe4A7eyTiyHWq7iDS+fC6F4mr/+p6q2SPS0rAWMXrqzp\n",
       "NYAXUXIwQBfohSjgO91s19BCZZ2AHLjALYOAxYEAAACbAZ9Dakf/AAADAAADABppOlh6B+F3UyPl\n",
       "KsDIAgfUEvb6Q6jhcL19W2SzEneSTyuDsEZU07f+YEwuAmK3nvQSYNpwh/2dYPAoRMMUPNw46U5x\n",
       "Kcpb4x6rkBa/i0QY61paSKIv3IfSgDolOoL7OFodPMlmWsfPW9vhKkPO3S/aiF+dAANKsqNa1f1Z\n",
       "F6Zkwa0VQrHZASPBARH3AysAAAIVQZtHSahBbJlMCF///oywAAADAAADAAD1cJz8U2XftGoqgAhH\n",
       "hGT9XY7rW2oJfilftAdZ7lUaZJPRH5UpbLjlSpte5+dKcb57SHjQZO95CXj/qQo5ilnVaCfBhes4\n",
       "L7lziEmqS/Cg7FE9LL5NcP84dGKReot2A71McB4NMbILMTr+UgAj5Cf0ux/S2+Keiv3T/4I5VZIf\n",
       "fWXRusGjQpvwzoEqw70vK/nT377T+udKQVVMDXNqktOh1t7HxEVuLtqg3aVoevTeJeQnKoSmPT/i\n",
       "k2iLw5dOAkfUdlK/WL2H11YUjEGKHA/m0gkEQhwjEvzCQap1sNOKk8Z11/zXS1y/5Wfm3buvwdrI\n",
       "Z2z9FiUuk4tYLJm2nPD9N3Gco5bQC+RwYtwalawTXL6BP92s0YYsZBJ8hQMqZoTwcZkLFOPXNiMn\n",
       "OUEDZkRMLMsqhJcDttAKI3q1aRnNN4Tkt0tpM0jaR6IkK5tduo/mTDmmNIZEE5n/k9GE1EQrtX6z\n",
       "YKmCuewSPZc6X3OTkd8vvQLVpn1CXzoXn1zCCCPu4IfGkjAMMTXuu0E4dSoyC7DlUQ6dR6bvlcJQ\n",
       "N829JQ92Vavn0GLCzCg31LNschY2AcZJPqX72vZyaDZDPxB7RlkuitJlw2K5C4b7lb0E9lpL7os6\n",
       "hi1fyFm4sZeWz0uk/JkVnuCNz15Rm3Cm153jz2mL5CXicwsXyPLMGRAAAACnQZ9lRRUsI/8AAAMA\n",
       "AAMAEGKfJyZxSBrOkjBZgeFPPkxeEC+OZ1MggVnzquPHN90ExNn8Ki0PEKI5/EZG1YjJLoY4piAL\n",
       "RNH6WTrv9q78xQX9AJTPD94tJv+wjVd+UXFCONNeDxzAlgPZLv2LeL0WcDZc2rjxELOekhV/KRuT\n",
       "6lM5dM5KuD6YdiYva1cMRIlsDraA5Lvsa78Br5vTQs8AAAMBsF0ARMEAAACBAZ+Gakf/AAADAAAD\n",
       "ABppOlh6B+F3UyP6zjni8mfpJIUbwW+c2jT6HmYtEbd1afcZrcr0WtWmDgdHJKpqSiYjqFeItugG\n",
       "WLSHd3DdAfiq12OCCFw9DYn4fA14ma/HgH0kiyMqPNu1KXiT1XuLHY0vNTyFJB6PIEd71MgAAAMA\n",
       "AAu4AAACLUGbikmoQWyZTAhf//6MsAAAAwAAAwAA7/9/Qa1sS2loujx4q4A+RgxrKXezQ8lY4+Ax\n",
       "Jx4kglxtxGYbkVq+QJXXwkGkeHjyrVGiE5TOAuE92fp7b+6bwjZpCozSpxmTpOop+9gfIiSzUcjx\n",
       "0iIZJZQICXN0IwNjJ834qu8unboArZRCJ9tl2N8nz0+yrE8/v9rw2GBEJtAQml2r5ytw0jAAwiNo\n",
       "5+8RPNOPHCp1r/YoYH2vhpUrBG2nd68u6eky5ExOgUC1eBr067AnTLDG3UuMjzKTsZbxKIdKtsZb\n",
       "+Jem3mpYMi10hTsW0Tx0iDHuXylDTKel03irl1pj9qODNgQ5Csl2tL9rqzs3lfLcg69V2U6644zT\n",
       "iSPGdkx4F9HA48M5JrBsjMiKbhcdVPSAALQatuBQ5XjRRTLNcm4LMTJivtHaQVK7jTFlrU6O7KkG\n",
       "fbQGgqbGr0GPTknj3jY4UPMJAZycMbhldjjKHgEtk4HBV0b6J0UHs4bie7DATWpCaFvLniJEYj5S\n",
       "i5IflNxJO4c6fPV6JVBneUPeOb+qQKS+NSDZ5rKNV804zep3vKaYO3SVchU7G+x9PQgv7r30REDI\n",
       "zy9SV+WJHYNOeeF77zKxqX9Rr2U15RCbGgUZWYmyn7kcyNr4GkoE1ezEOOGEiyHuahTmtbYA5+wc\n",
       "3PJsPKxAl+vP8CocmKOd72L924Obnd0gTYXqpgp/mxq2NHqOt0Nzvpi7fdxqISoEYLYDAAAApEGf\n",
       "qEUVLCP/AAADAAADABBinycmcUgazpIwLIPQG8Ae6JKm8RzVOgRrp8rh1Sux8u+BJP25CKqnz2AS\n",
       "yusQTYBI67XgWyoMM5luWrIIgFtGK/FE1kDdtDGinpzzfjTlBbNQLuL9ZiouDS7McCwj031BfPK3\n",
       "y69YQBt1rezat8MB59uoM7tLXVmkqfqA3RXhMECPGeTZpAFsnj+re3PgARkKSQFJAAAAkgGfyWpH\n",
       "/wAAAwAAAwAaaTpYegfhd0vQcDJPN7Lt7iGgx2yYsIV1xGFoRT7ZKcnnKIxZM3XGLF9EaEia+2pR\n",
       "ivOy9y11iRUPepx7dfuWNFDG/GgU8x7zxMvyCwZbP5toqfKw8doBBqFFvDAQRlEt6jvp4GsKLrzY\n",
       "wQIdM93S2y19BwACdMtRy1rT7FsNGvAAAHXAAAABuUGbzEmoQWyZTBRML//+jLAAAAMAAAMAAOla\n",
       "dfXdLeZqcJ6WdEAN1fxMQWfzMyUjvmUTE8mzO0HT4hcM7lu5l6YwulhouY/KdU5Qjzj+1srKFK4I\n",
       "T/0Aa7ghHmYMtg/EE9VPn9YywPNeNjImixA+iwUfknoBssjTLfDhlf/B4AG/Ns+6Lh9xyOe/JGvr\n",
       "5Rnd8zpY7am4di7oPe3KTlk+OhDEzlUM67H2Cwq4uXYLfqRXFgqC++5rabQHZKOqxbq+4HM8AiaI\n",
       "zqkfC2dsmVdjcEaYhGSB8k0EwjgEu2lnYhby40EAFHO1y0KXAE+abvyXDynHvimjaBW4QrvJdEze\n",
       "QC2tQYZ3i0x+ZRS+U6uuoRvBTurjrSTGEsXCmsCUwuDJO93M7PJ5byGihtKx2h3N+ieiV0s3F6fD\n",
       "iMxP4xc3W0F9Dsm2i83hzwKsb/+E0bQdaj9RDg9h3AK6LlXEGBHrAdBjmgINOyNx5XdZJCs6nlUc\n",
       "123pUhDSMQvB6Aida89K00YuDvwkoQZMn6Po0apTrpvkfrflDLB/GKILagPzwtu/JVpp5cLRXIa1\n",
       "vWChf6qIuY6+Aqbpzot6oAAAAJIBn+tqR/8AAAMAAAMAGm8gYKVyTCDCNkiwF784Xb5GuWAAnY7/\n",
       "7oB+ggf5Q/PF0mH0TD/tfLSw4ETKZYsS/b+5voQVr9KuWCUoED2pWqcPEmy4Jv5u59+ts5UEobcQ\n",
       "/CTRMGDVldoBK1qlMRJcNNVs6PBIeeKIuKw5GQ7zXZWB3Z+TxNN1Iwdq4SF+AAADAABVQQAAAe1B\n",
       "m+9J4QpSZTAhn/6eEAAAAwAAAwAEm+e/TlyfdXy5X/UXlekLTIArmQ1NjdY4frO6Hk7KOt3GIftE\n",
       "zCZXl99L+Xzl3bW7kPIg7Jks/+GancRC4rzw/cqYSYdfu1cPmOiP3Hfm/t62odQwhOBCJE0RkMkM\n",
       "fB4Q5rtbJI5DCbDIlJQv9pVZmFJK8wG/EwZTZft9GSA31pFFAWCdaslypuDVaU3u6QGFMo54ZCKm\n",
       "9fAsQRFieT6w37gGQjY0Q2YjG2EsY21WAxxRaHa+oJpE6H9QpbTx4hUDPurNPR/P+aAsBYPxTsex\n",
       "QIDPPZrZj5eUgduPxXU29HCfWSRxWMaLgxYzCFfeM7ci6FjLAkJGrTZQix+s5FMngInBpzv256+o\n",
       "M2pDNqHRj1WoHDSp8cDB46hYuj/1v1/NOtVt8sRdUf/Q11/gf83ubTI8fH4mW2VEntinIFjI9Pg4\n",
       "zcQLDJxknTL7cGbaaboqGl5KXeu34dbUhjAlNivK13w9+3anLrI3yc5kKxfQPROhMHAXqoVuo6UW\n",
       "DdB4TKw7mmIYp6l7bV2B+6GwPflO1jBDmq4s3mOnPM6OXIZJRF97Y3XTCF4n/iwYDbfXi4d6z+ce\n",
       "XXGzpDJcJzzPmDibV+R3goErNQG/eULPqoLcN8mdL8ce8d2AAAAAoUGeDUU0TCP/AAADAAADABBg\n",
       "pnmwGPv7LeLTW6iYb9YYuVIV52HpAAJ2PsiXoVcMHZbGinogefkxqXx/LhloLgn5Jbv1xywzKdaq\n",
       "I+M93vgut5mIlue9CUG1H10qou+QJiPVUNTdDFaJjQjsMa5AOG1+gaud8DCgXf4Dw/b0aoANDiX8\n",
       "VMT1epPvOaVs4h3zNKvErMW9/in4lbHgAAADAAPnAAAAjAGeLmpH/wAAAwAAAwAaaTpYegfhd0vR\n",
       "8tDsvfUh62v58j2TbwsiI7oh+fmsX1t08YN8Vld0W7giShZSIPtPbSQ4RJuwpckELs/k+5REIaQH\n",
       "0eMRVQG4u3x9EPlqMdo7aIFroTizm7WdCNkqFU2lGmwc6FAa+WSNOqcYcupr3ANRmMXd4B5EYA6y\n",
       "UBDwAAAB7kGaM0moQWiZTAhf//6MsAAAAwAAAwAAPPGWd9JC/xEAF54WHs61Nb+hwGks3wp0DLm/\n",
       "OAGuOP4BDpTbz80UILkpfIoHuAvzD08s5TmScjenH6Hf07e95TEPkMjH9V9w7cYaWp6SFjki+7H7\n",
       "2gVzr8kgCDB6rt99baaHjJ6psq21mxD/5KN2HKcZxRL1pCGWNopsgomD3CN8JbcIYLcF1fWsALIB\n",
       "SxOCGPrFm2TmF6ONy9CsWRHCGiyc6pF+owE4a2qgrz7n/jmr+I0oSP423UJ90Cc1sBg71y3SMjyN\n",
       "N35mya6a2ND5LZWAiJtXtvcL06xIZTCK3rOh4b1/m8VF9knmFI3XAn6wewEDFkmODbjvPu9QCc62\n",
       "dQGi23x1ZVDqJ0gM16xyQpycJJa654JYzNRUJuCpaSrK9ODUDB/qGnngNWuFnv0rLryJ1/SsCIlS\n",
       "UYXGv8Ci0uMTNeQ0Hk121KU+7/bSURos2ERgsNBtu4LSSRjo7ziCeH7PJw2Osm3S2MiGFSuHeGLS\n",
       "1o4g5zvy2RB76dIlmQETXyqi5tkbZxL9klSlP+vzM656Df2/m4vjt6cbs2cI2cWyJcQ/3P/q/XZ8\n",
       "qJyYaGlFhminPUKz6Gp6+ezVmMkkUFX2pXdVpzsAM5+O0C+8ZW6siITqEOmBAAAA3EGeUUURLCP/\n",
       "AAADAAADABBinycmcUgazpIusFYMGcu/umR9Y2nO7I5nqy65S+zxiXTxKAfQs/M02cY8cEVYMlL9\n",
       "LrQOThIBp/YVA3XjMeAFVRsYyZPrrVQh7/FO+PobRVutygDZ1ZLPxOPwBbpzwsCoOQO/juPzlIrz\n",
       "o1NEceWjz6yt+Ome61Ut8567V0IJ762ipr+DF90Tc/Xj7sNlNYV/tl2pvsQVS7OYqfRgJAXos3JQ\n",
       "Bz/hBw3B1mFXvpGgBe3Z/qjgm0yOb7XFf0ToU8bnsr7QC+3wCcKAErEAAACHAZ5wdEf/AAADAAAD\n",
       "ABpcJXj5HbY9hsOnE0jGeAAD+Y2IWzfmj0DL+ER5bZflc5A9tEojqe7rEOumLYRKNWK+PdIi1Ud7\n",
       "kwsttJUaQRMrojIzmNiwjCWVkpHUxcnfuFmQgi7NYlFZ4nAxXZz/sqKlemuk5FNMGDkjaBJdMRLj\n",
       "f8AAADVAAJWBAAAAgwGecmpH/wAAAwAAAwAaaTpYegfhd0vQmqV6lJAAmwUT8BEVUZojeP/SN5J7\n",
       "3cF/ZwtKMsE4nefwOzlW3W46jGUAHdZuiEjfcErhH6Z6qPgSuLBSi+Y1T1zQZPuEIUbJPw1OzP7W\n",
       "PC+roqcxGmTHO2tLpjF2ssMnPcV9EztIAAADAAPDAAACIEGad0moQWyZTAhf//6MsAAAAwAAAwAA\n",
       "PQWPqQZogXFw2BRfrumHvSF6u/pn73i6or+AsKpf+ed9pQ/DLsr2DR7HPST0oT9FEtiQv7EFV5IE\n",
       "dxZljGhAhdj5vCt4MI2fPk6/wKd+WEv5xIJXf0ta3/IuF5x9x7AtXu5hmVeEejLWovYNXcWkJpj8\n",
       "T2lggD/XpJbdQHex5XatWy9iZciCfpzEKdJ1/aKFNk27zISWAjCBjQ/TzaiGM7R3xTZ9+F2JlOQM\n",
       "mUdnFp2QoOso0dsVgbBXM8ugw7G5xzNgposp8x9Mv9dcT4se5ABRDSYQFjl/3HvPn5xgaGIyy/TH\n",
       "DHGqJQywFOb/o4sFbBfgL9wpiRXd1YR9ypGzdEwnDx2n9rsSmp70QT/UUziT/Hoo2DmnwuUMt4/L\n",
       "hSGG2cL16PMUaJ74s9oLSZjq3KYfQ149p7OCJKXnj8rRD8zj0AItyKk2ah7M0YebS8edz8EwcwKH\n",
       "pOybCNOyOHLRgd08djXSDGx+VBm4300G/npAmUhcj0D4D5MU+2dv4BFvvH6AhYAbm2AvL1eEfhoq\n",
       "qn82BqOvl0SakleGy1Q4r7EO08ienjzyGbClAn0vkw3aN9tfOMw7xw3/JuQj7rKtL7Y0oV5J6MVf\n",
       "+xXhtxw+jX4ha6kNqAd6Dbpybx9uYG2tEPpDzD3KCDby19qDsiWpbtTAv1Xt3QN+bTZMcdBqutcD\n",
       "QTSlDN+mYYAAAADlQZ6VRRUsI/8AAAMAAAMAEGKfJyZxSBrOki6wVgwZvdkbs+qZLxmFcu1bYsEG\n",
       "ivbN8pZgYMgVeg0aQN8pFd+Egnhz39sXtvZzUMKCTROV91F5B6J4M1TJGO0/hSfAFn1AaqjeMXdS\n",
       "DmIK/IP+dDrOl6WbH8p0QKjVtz4oejnlapUA4azWIcrX/hNsQwhTCIz4nf/snOds9j1mP2UN/kVS\n",
       "vJ2K03yoDlJiF0biQa+aB00sO7upfhsD9+liHlKneG5gqZCA7lke8fNg8n2bfmyd1DyslgynpGyq\n",
       "QAbAMKdRgVh3AAAl4AAAAJYBnrR0R/8AAAMAAAMAGlwlePkdtj2Gx6NV3LJAAmvR8T+K4bnlDCVp\n",
       "LvZMRPIL0GCyrAaYjrPlZM7teYxkRiUSHf7w8Pt0OFaOjsor64gAPKNrKBY8V2MCKP9LUgGX4JGg\n",
       "0N5nAiyoB8prlVjWTANbql/8yoapbcXPa23nyTDfvbJ7U6CH8fSikSGiyFZ8YAAAAwAA+YEAAACQ\n",
       "AZ62akf/AAADAAADABppOlh6B+F3S9CZGs1f4IwABMZU/CpGQNZQO1m3sm6CTDc3Zc/TxdSiRkuM\n",
       "o9Vo/ZR16voJgTjopOpckBRS4b4EqLiv2wJrzMKk4ulajOQvvg3z0OT7d0Bd2vysaqKgr1qzso2P\n",
       "43IN6m1ZxFC/taxZ9YFUDvUK8ALwbPKYAAADABDwAAABiUGauUmoQWyZTBRMM//+nhAAAAMAAAMA\n",
       "ADyfYMx4AJ6yLV7exxLqR/2RrfTKflwojkJlqe7OGrQ5ziMfLXJPLafo79a3eQNWFMIQNcygiRgE\n",
       "dHS75PmISUuhF7EIEUFMbZ96b8KRhRcowsx78gV5tjKEcKG1SyXm6QwKHz8dmKNYMPldC8DFUKCI\n",
       "u1eIoNl6NLyB11+Ri9lGzvvWVBQm7HUuggev6H8bkvNZXoHV52iZj3zgCzkDWUQ3ggSyk4IHcx3D\n",
       "wkaRZLinWiCMbKJkLZnr37LEARL/TO38t7WVp0Y671GlTzx/PJJt3a7vL2e4RSkphA38yYf5YUQy\n",
       "S4ouYX0Y3UqiNMHDcFkoqbxszjIU2ftsJvSDdVw5IMedGkUFRAa10Cef8lgXao7NHdDBTPUtIFwc\n",
       "+UPY8RGrGsB9eTUAvOFB8QPXshkVEOrbu01tQIoPEDzsMQ8wG6uobD9CHvFzRQfT/oW5V+SOpIfz\n",
       "7drhIEYou5iI9vAnROCRLbtAiXzoxkwUHpTRYAAAALkBnthqR/8AAAMAAAMAGm8gYKVyTCDCNkiw\n",
       "P5/dtkcAD7lv3tPzHuFnylXZwIaCiTWSH6rN9UUGVB1KsH45yVSf0g2omqhTYPNBby++ahV4p4H1\n",
       "1DFVhPcFyl4VurJBmAIRJONMfm/7zwkwiMY4TFQJJ0shZlC1jnjXgj59ztK/3OCjXH7v9JYXK0Sp\n",
       "nRAzqEYjWFPo1hgK2EeHriH4p5oZd464InivaKo4tVgEpRV1RSJRnyJlfAAVsQAAAiFBmt1J4QpS\n",
       "ZTAhn/6eEAAAAwAAAwAAPKd4AS5fHf9tAA9d5FqT4LlKJp/Qk5E9GgQDhEcDdKQMYomsRFravwS8\n",
       "FPOAkGBKvVsuQCQcgNKpmXHNz0FgORc+HDveW9UmaPJofGxbBPxnRT6fHWIc6o5kKTaZenN95t8n\n",
       "NCaWNAlD1S1Dd7WvowUQw3k8puXVmYrTF0EycAKzMs6fB0u4Zaxqc7fYV1Wdq+vO270mM8AIFS1i\n",
       "GYFSIZ31+C7+x5q6cTd3BTKykqCWLv7UW1NyZ3mU4L1dQ+KwCwzZ7Xusjv5ytk1wtvTvh1JXJCEv\n",
       "7LRZdRStB/QK79HS1bQ+GK+i6NWazFRDVCiLgFLJX3z7KdpHYylsnKND7iUJoUpOUu9snQf/EfD6\n",
       "7RteNTOU78rSQfUoSs74djK1CfuGyWyvc5sBCCCxNcFLe+BL3WkhaA+cBPxlLUyPYHneG8m8ZpxH\n",
       "AjV3EWDjqs5VPJ3rfQ6ZkG/LFwzTvsLk5v4AwvcqUcuyn9dXTIbVeJDfaimYgV7dSpT8dTyjwV8z\n",
       "Nnw3/Dr1bLqyI0VGTvPDdp+e1zM3wWCgO5PISL3YxAs2zmVOKKGCed6sR7m2zPcLO/70em6hxC87\n",
       "tw7sTDsmdTBzozy0TtlwNcLGSLyY/Rndel8jHKSlE0m7wqhaiaFuuizHge152Xg+LJV/kHr6BuU1\n",
       "PmybmeU8lPE0BQ7JlUcaKImylEyTMB5P2wAAAPBBnvtFNEwj/wAAAwAAAwAQYKZ0TspRELEkM7ip\n",
       "vvcbpqSN3w7ZLXRcWFHiaftQ+ilbemR7twYyc8e88ALC+bgptCir/R/+z4+EcQyOqQKRUS5gMgAe\n",
       "iiaoqimrWK+3FnV86SbZkR9FUMA8Q9X3aqVWA+MlkkW98NL/N9qdl/BUJDdqCBlT+NtGwtYoN5tg\n",
       "JqGQIgx0S+PWSwZwXEUXBhBWYXI1lM3ab95gQHJCmE2IWPQdBufVLmk4kUOGi8DqMyNQ7Gaun1yY\n",
       "WkueBGRNXSg7MtWaRBH1qUh/xS8jdW9CvpiPVZ+MWnkgC5OhDWOAAxcAAACXAZ8adEf/AAADAAAD\n",
       "ABpcJXj5HbY9hpfKZqQGvNS3WXCudw/MM9/Q3h+Hi9YLS3f/BmsYwMAEd5sjsVNQUHsehVFHPTQy\n",
       "GeH8tUrJORa6uFRu0vhbpzgBPsY9h/9LHrWdsH6DnuVFQxFCL/fGPQBuZhlTFFc+gXcxtfrDeLti\n",
       "APM/kt7yW5YKezwQucILYPxCAAPZIADCgAAAAJwBnxxqR/8AAAMAAAMAGmk6WHoH4XdL0aDNV3c2\n",
       "on1wekT4sGhh+GN7oo2LvXnrbtLbU1oi3ftef2o7mjirBpi4huwl2quBj607047Tag/aQFy2gBGR\n",
       "a39IJBC7BrO45jlqZQ4KgBEnze8rTYLEuB9QzAtl3VC5YS6xW9tAbksgW2vs9lbueFpSiue6D8dX\n",
       "HrNArWgAAAMAQWsACbgAAAICQZsBSahBaJlMCF///oywAAADAAADAAA9BY+8Fhd8byUhddZ/LmeA\n",
       "Bv5Mzb2fYjRLdZb+sjpJsyYmzPgB6YD/yZcJhRQ5i8UspqguxoQgJnmH0gvnENSPO3ELp+QRtvRZ\n",
       "Ayx/WUIfl0kcYw/J6MJPvWElOnDb1Fyx4U/EzRjM+5LDt61f1ZE5656JJz3JG+4+YmL02iHaZY93\n",
       "4s+Zk+R3fiIhfQQ+fPNAyaErnuUPzZhpSuMJrh6/P3LbFJSzRzP0Ih8tHhHWXbBhzxCUD1XUS9zp\n",
       "Gga2vPcZkEv8bSy9hwIf7WwHcfUq+S47xvgz0ibEi17LjIsl6ou11RRqolRRnWyXvSeXL22YGC3l\n",
       "ItDuYUfGqnCVG3MOUhUL4qwDL4z1tnFJ3QYky+yAZJcUYKep/+CX2wS846II1rqTeIBT+KVf11M1\n",
       "+UfLOQUmlGoNOhXvN3ajCZ/lv+BP0D+tjrgHrEBI52ObzeXZUkW96JMYtIcKq7YO9f7Yl6qXefKk\n",
       "lpnctiM/EhW46XuAoUC1DtuwDOSXiFl15ae6wb+pyJmMcCooNu1NYxzmCey7rnfe38NyRPi/6xbm\n",
       "CjNGCbR6kJUt1Ol7you3l5eluLg5Ya+/9+clJWNBlDIFItGOrEjh/xFcfDfZsiovbwU5GRNgxU9q\n",
       "SCPGREBKupnbcgFeSxJuZ02qiQAAAOxBnz9FESwj/wAAAwAAAwAQYp8nJnFIGs6SLrBWDBxntNqx\n",
       "PmPFbYm7jdoAWtAAESx5UuF67RwcEF/rW6CEbMxEzTpaB8vqSimD3vrV8MpYoXWbhlT68UFBc4Gg\n",
       "gVEL5tO5sZBMlE+9as5v5s4/F/MQmzT+rsBe31VFAaRKPrgjtX5ZZJu4i3FbwOl3sWTuWBtYltko\n",
       "ZvRAle8iKDABa2u79tkNq70yxWb62WDjNZU2Y+afAtKGPtIEsPpafAF+tZE6pg0Nr5oFjRJ7Qzwt\n",
       "2F1f4GHxnMIKtBg5br7XaLM+KbMvjMUE1OhkYAAXsAAAAJsBn150R/8AAAMAAAMAGlwlePkdtj2G\n",
       "woub87u3yvq4rp2BZCQlepdMbDDq3T4SXmXSluPyWIVMstV/liozbVTZve4AArWjliRZ8mIBwpff\n",
       "wMN93Kn32gk4rxifv5T/Ph+eYVxo2ixV8tSw7xxxHPTho8lwfb+XIxg3D5M00Awl5OI1KVr16AdM\n",
       "aBGCokKzWWlgVKb7AAGQGABZQAAAALABn0BqR/8AAAMAAAMAGmk6WHoH4XdL0akrNaHmY1EAaoBv\n",
       "3gbKfslDa3WYH/T+sTNGJNAQH8fKikItCCWISXGlZ4cUgmBD23wqSE3AM5tXmLzLgBWR2WpVWDJS\n",
       "UEvff38t4mzr+DaChQfgYu//VWSznyu8v6QI90aqxHF9ZlV041UPY60pcrLRgRtF42PDtAl6wauy\n",
       "uYrMKbf/rlUpSdCH3WoX9XT2CoLqnAAAAwADRwAAAnlBm0VJqEFsmUwIX//+jLAAAAMAAAMAAD0L\n",
       "K2aP6Mz1PJycIAACZ7RpJe3c6d6fKRs1HdxgNtK9CEZJm3oBkXND7WTCoPRDxdLeHG1MDxaoyBR1\n",
       "QzV9TJKODUzrGylmiEZVlQDFnNbR69W7mZrktDprXJFcK4Msruc+3T3BWwtEkLuBRxIWG2dQsB6m\n",
       "ExXxjeARM4/TmvHPkL7KpEm3qWt73L3qwwoaCYMzxOYYUErGWHmaKh18DeQSZbQoQ382hiUF1NpF\n",
       "+6yPA7Acty3xEpoIRoyCpJQS8ZW2o0PgNZYjAsQHwLKbHoXk/BbftDXxf9+xD9n+404dMO7buRnq\n",
       "AccMg/dQX7z4BpZgHacRCbFQhgmeza3OpBKrmO1+SKuXMu64k4LOllgY7o84bPbr4HOQGDkgeA7v\n",
       "YPqJWHx+OZq6WTK6U3eWD85Y2Of0SJjRiw3WFcxPjyCx3fhqWNLtJnZc/sXiRHWtuvkh7YDZV/eM\n",
       "CROT2+3U1aMsBj2zAavapztpJEN/BqS9EHHl3JHHuzGHwQ9Tn9VYaldTjcwS7nAmbV8fDg6ccZdD\n",
       "S9DdhWIr2A7bXhvWvDBb2J3W8pYaAkIPspZQl0cifzCyjSupsLRRP40kBdVQhW5bLL2fjFOpri9M\n",
       "pB9a9y86Em92khgoesSheAuL+trTIGwmiSwr3SoOv9W1o04VCi5QLuaXR8ugJf5bObTQlYvtoT7T\n",
       "Ojqm5M98s5WNaZNPO+zXxiqzE9xQLSaqRrChGwMUEHxxaKPchEbb8GWQ6NWqqQ4sUckzm3SMEE9v\n",
       "eNu8LhhGwsCTOFQQdGeXpr1o54xhHbPbbIPj6+6jM9eMmbKC57AAAAD0QZ9jRRUsI/8AAAMAAAMA\n",
       "EGKfJyZxSBrOki6wQrSbbfLSKek4eIuoAAW1z1mGfbSrNL7TIQLpXFz3ybAEGRXAUWbvsRCseYdJ\n",
       "ERK+TFlSTTScIMAhTkiwaROZtpuotGEP0vgcifyhcp5tev8L2WpsB40QBsV4OwKNByV9r7Q6Lqby\n",
       "0WLlSNjUdY2Pabk3+raJNQYvsf4nIU3iBS9yASSoUEAjaBE1701MmRh2BFzR7p53Ld2G8+ydJuoG\n",
       "VF8UaAtmpAx3AgKEvQ0O2+JxFh2/88WJVdyp3X7C0//0i8s6Lfy32/KxUD2ROnpj7mUUgCNPwAAH\n",
       "+QAAAK4Bn4J0R/8AAAMAAAMAGlwlePkdtj2Gx6Pfjik3VbLCtkD5w2Ylc/34X6gHG7x27tHULhDp\n",
       "zC04mQASVJ7mvQJCq4beXuEexNG/N/QRL4tf0MHLiJ6+FAAG18boj7iBASYA+52ah8LK8GiB1Y88\n",
       "T6Fxpjc3rcyHHqdCQqDlgweSvuiiYEJWuOlSXxjIze5afcDS2lwmEgYKzQOdiDYlIdemYHnf3zCY\n",
       "KR4AAAMAAm8AAADLAZ+Eakf/AAADAAADABppOlh6B+F3S9CcAQbcQphc6rM6DhtUGAykR/YK6GFJ\n",
       "it4WCq1lGnSRSSEODPD/5EoIA1jCrFoy5uvzl43uPQP5NsTQAmkkSag9S6LJk7/d3c4kQdcVeswi\n",
       "CtqB9Aqm1j69gR2Dj3NqD1oWrOAWkpKrsAxJSIQpg5zc1VqJvjv2BIvnZuPVkSfFVQpWD6BVsBo2\n",
       "rwDDc5fzFxBlHEP6bs5/m1OM8pg+x3uolJ1Qlnsl3uMQKDXaXGgAAAMADWgAAAI3QZuISahBbJlM\n",
       "CF///oywAAADAAADAAA9Bb7y3dpJ1HATINfI+8RfEX47SiEDUYtioTrnC8hGRzRP8/RPKxKnTXnF\n",
       "cHCx7RFI4cnIgs+yR4T7jZSWXczu+WruHqcNRiS+MuaPlZBG1uoo/ZJUVoI/R64Hr64w11mDlFsS\n",
       "gA8yokvz6p9aXHG+l9YFEQm4BLM9kDzaYDa2h/v7qUOkUzl/U+v1LYFPx3baI0AGiADsNploZuyc\n",
       "gVdc9YFN1d6SJeB8tyqQjQzajwZ144tuxAkDZjC6Xhlcly6EQbKguukIOIBxVafMAaidE+x6UAhm\n",
       "ky0xIeaSD0tlTwALKhvCRAPB3vWGzl19lF0HVHwsX6LD+sGUwd5R3BHjHMvI2qfHqOE4LeNwUc+1\n",
       "hevr8nuyRvljwLTSfx8C0+V+jj1OPF+ACXMKVO8MBJYqCg7jTQgEXAKoK/5EJUcj0RC05wDE+fv5\n",
       "WzAsPCpAb2POUhad3fDK9iXa38FKsj9xXTMjLRV0UEsljzPhIFlGN3ebfsC4DEbdKLnkDdtZwm3J\n",
       "QxVx7FqYLiMv5Vr9rx+ajL74FPD0f0IZUwUQA8EFyaWWDarUekn3FSq1moKqpSVw3AD2XnsMgCkq\n",
       "Ojtc8BZZopvUGtZ2AIhhqY1g2+4gzRgOqOjCQo77376l4LDs2v5A1Y64E0269+Nh0GXdXAkPdQ6d\n",
       "z0sp8V5gZIfA9tfqsNDJugZubrRYwU00hBhnYEV8eLCDqOprgGSJXRQXo0ehAAAAskGfpkUVLCP/\n",
       "AAADAAADABBinycmcUgazpIusE6UCK7JNvJPVKq/Uxk/6r0ZVnO/VGK1WfdMIRDWr7CK8Ga4x6U0\n",
       "v78TLAXDNFuU5WwMeDLrSJQcS94af1V70tXC1RAHc0MFceABcYMx7InFenYcRo4DBhyTcRuSvcVu\n",
       "Cq2wSsa1Zu+V3Fn7R9KdKQegYWfnpjq6x9AwRu+dqfIkT+1mni+U/SfGl0SzLmy/XAS3eAAArYAA\n",
       "AAB6AZ/Hakf/AAADAAADABppOlh6B+F3SwH79ME4dggKmuJUlcJARr2tc3k7Ha/vA0/lCQxbiVKE\n",
       "TSyElGizKI0TI2q6Ff5ABcHQhCBpfw8SgBbguhMm03zpJGzyk8JL29wMaX43c23klx1KvScXus6w\n",
       "wsYvSkgAAAMAB80AAAHoQZvLSahBbJlMCF///oywAAADAAADAAA9Bb8Aw0ZwNsVAEXiHIs7/VOo8\n",
       "BEhMPo4KqN73/WjmwJC55u9pIxduuUkRy2xh27qKFyPXNZliKN/vDyHa//f8QRjta8kTvtGSZLlv\n",
       "ZcngMLCZFk5/z/p/7skUZAYZG1GOR6Y5d1gXyHp6fmwaFV/x9BZdOv1BP4DfLvkg0X2fVXUQ7TOl\n",
       "Wjbe22sUZkHmZi4ncFVr2TUJFtH2Mvv51fU2pb7hFgO0fbNjXrj4mn6yvjSPi7L+Dvr8HH+Oja98\n",
       "G7P0q1Zxk85IF7cFJlC8wD/MqecShUmhylf547cyVIDCNK/GA+rIP2zM/2uDCaq8pXXj4EHVyMoB\n",
       "1JKtisJVB6Zxj/pnkLHPC1XlTK87LwrRUaq97DT8kfcz5nu6uAhLNdla5A9p+Cye4DkQU7rlXbzL\n",
       "Du8bx6k9Hh5trNZtZP2F+5e8DR8wn4xgf2p1VP/x0UvQRtlepeBZJCGXO9V33Og/4msJil/HAQG/\n",
       "6aYK9GfU+Ah4FaQa8Nl3KqG/76lyuQ2/QM/gXm/pCEklI6u6ZpRdebcWV76uM0R2uMQ/h/tUDVgh\n",
       "AccIpBIdwEr1uDwYMKtNmyX+MZKnJyjCXcYzfqbV3ZUDJ62R19gjmEessCecLKEAAACzQZ/pRRUs\n",
       "I/8AAAMAAAMAEGKfJyZxSBrOki6wTpQONaEseAjr8cGCGHjr0qZFvZXHMKWa3GUaxo/CUHgAFzLP\n",
       "KZVE6CD91FaaWtzXZCZNzxdUpPx3M4w20vvwv5klSQnndin7UKPzYmxmBPrEqMMZ1yTKvBqNuV/w\n",
       "kepnalB04zwHW6L7oMw3VCxY0+PCS8oa5YL90IsAdF4sYBkcpYJFPDZaWYzozTzDfZy3eyFroOaA\n",
       "EjAAAAB+AZ4Kakf/AAADAAADABppOlh6B+F3SwIQG9bs9RlqdO/Z5AwwUHQ9V/6RoF3cmZt4EbbW\n",
       "oo2kKJkHXnaHGCkYA9xHCoUwMa9gKUaeDRDoAV7+Rc7j86h7OWaZA8B1tRJJlsrYSu+tT08PQufA\n",
       "ZCyjiqnhGo7PDboAAAbmgAwIAAABvUGaDUmoQWyZTBRML//+jLAAAAMAAAMAAD1f1bTon5sBa4IY\n",
       "EZvAgrtAOOBj2Rfq7u6vSSlgos1SYK82IqU0N7WwXgvadw1BHZMFfp3APy58XCaV8u5L6ibGbtP8\n",
       "pd344+0wwUf1oTU93FTMy4A5JcWuAOr7sfcpQlMtBS8U89EPp4ga4aixqSZkO3Tf83EM/atM8PBx\n",
       "vFdbGFh0neOlZ0NsRkwnkqvQZk+5Iciiy6wT0+tjzOczQQ7THw7GD4dEGv0ZmNVFQTaGcMpidr1v\n",
       "XQplmdNEu5BHISydgP5rKEoABZ0F/SBChNMQO6JKg/j1JCfTewlWihPFNbLkJj4hdhpwravyD8FH\n",
       "7I6uka2pi+wc4+EHYoycVeHwO2tMNQP1V5fyUvrhn/jDhxzqQtiLmyGx7G5a4yzdgwzdPMSSbq2m\n",
       "hmj+yt3DObC55qSc/uY/KowyyS1JbWGt1A/b4FqvpCW5fBWvpWdVntwIxhu/J8B+5ZhPUSGHHydN\n",
       "TwpSWlHBSgidXzMRrqf3RGu+tdftyhwh4Yk8QetMu6Xrb+kJq/zn6Z7ElSyjQL1LJiFPdmRd8bgD\n",
       "BJj/KO4LjnEHqb8AAAB+AZ4sakf/AAADAAADABpvIGClckwgwjZIsFAGNZDUdclWsc7j2BTL9XZ0\n",
       "KHmguj+huhxoUS/rfWkGufLHxMp7ztG3qLhMhwRF6yyT/MohILqhhT8Bv+Zzq4SHbrL3gmqUdMhk\n",
       "HxW9hYOAJlpZweunIATBnWEI7XtoAAADAAHdAAAB8kGaMUnhClJlMCF//oywAAADAAADAAA9X9W6\n",
       "ObW68DgaRPMBet5NBHaS3fp8+Oj26nhkRujafvyyJnx4+IQYLWsrCOWQS3YwoYUi8YQK2NH3a5JR\n",
       "2jcFbYi281ZabAs6eZIG5cSmopNaHthwMuOhVy4EP8aoNq82zXQ24AXECU5Dp/gIndQ48bn+2UWJ\n",
       "/TrvzxwF7PQhxXyNKYpPDUpOxC+oiig68Pl7mz5/nKAzWvFiYZ55Xbtx6gWN96b1WmQpnG8O0lMr\n",
       "5/42LV3nSHopQf8o+rs889DdI2iP+aeIdVODB1pQGWQzscG9lMZbL2e5nOuAsxRDTyEkc/h7a16E\n",
       "um8SpG8+0eQEgDC8zGNvDMoAyQzRGzX0R6gyc+mSPqmcoRHQ1KcIi/exKATnmb/EE0yO6jEYPVet\n",
       "BSunSvdXWoHDJuMLAX69lAjdm/1baYY3JHgbL8VKkk2JDFL/pnit5mqi74UfzhpSnghlNGDlXFqf\n",
       "yS2T9XYnuye/VU8E16xS6mV5PvY4oQxPtHT21L13Lv7urcY7oSDnEaYzFf8KE7UVfrUCfIG7J//y\n",
       "thGC8WCCrbq3ECwT8siQht3DNI/39AfCIsDJHSdmI8vUD3SjKTVRJZOJL+5xBEnJYnWRJxG2FyvK\n",
       "TnuhcTyTBHEH42YhZL9zwQAAALZBnk9FNEwj/wAAAwAAAwAQYKZ0TspRELEkM7W5uaU9qJ1s2QA0\n",
       "QRcqEc4hTTi9dyBwjHh0896KKMRM1GlfJ6Wibz5xU3SRC1yBCbnOPvoU8cdvzXh4eW/+/PIExpa0\n",
       "IIMD18/yB8z5BfsncafhHCRBCc8TmXXKFDC7QeKd+3fDbJoXNqHz0pUSFWFoY5xdadww9EubetN7\n",
       "kBPgjnMujOGtogUnY7A5viYMSPJTw1PFALP1AAAfkAAAAHIBnm50R/8AAAMAAAMAGlwlePkdtj2G\n",
       "p0PggMiNYfErUYCy6Jr5fslKyFwWThRr/qusgAAkIrnJyKIZpXveD0YIDa+IKU3K66WfkdBeammJ\n",
       "vS4jLot4E0boBJZfruR1cUykMFXR/AAJ2MyGH6oAAAMABgUAAABvAZ5wakf/AAADAAADABppOlh6\n",
       "B+F3S8lS1cZpr0sjxU0c82oLRwi3RIGs8x/TS/UIQLP8RE8Cb9UwyJE6pKCggFMUyXDrFejmvGGS\n",
       "jqf8BF9zOZWXdSlyxaXFVyFy4yo9kPGZBSf9/rMAAAMAAA3pAAABZ0Gac0moQWiZTBTwv/6MsAAA\n",
       "AwAAAwADpJXTEB4Ny3JIzC2LaENLLeLOiwNPLW/IadGNhewCN2k5vN+Nz6yVCeuy6tYWMegdpI77\n",
       "cNfJz/i6SBQSg4lo0apkVYbyvyc3wa8TOXnbfLJIrMHShpZMRvmT1ZCVZWPS2L4w9palwM9s9UYk\n",
       "e4KazPUFfifgnLBLgGA4aLWaP7tbGu/yGmkp4va7T2aiDof/KfShNl5lj4XukD8Srdd4eYIMEE/+\n",
       "G41GNQ9nWjIg1vFig3t6b3sskKe2voNE786Zty2R1nrekJNfNPOEQf47CP7EBW+zalM3V2mZLfit\n",
       "0J7oSbgE2SljlLU7Urt9lEm9VYboLot8EiWXhjypXVn8YQUvUc/W87eLMqD6ixDRaryf+2yhfCU2\n",
       "5yhH5/Jwo3FoN3MuRiAnpEZkvkHJRdmyUoKK6Gqrdq8f3nwmTW8V0HzU8LCjDwVstDg5X/UZ4laB\n",
       "AAAAdgGekmpH/wAAAwAAAwAabyBeZXJL3gbsCDr7pyfGbrOw8rU0YGhiT109zq9PRe5OiGL0CfXp\n",
       "Eu2Pr6X4UBxUuQabZQtnQn1v3mPCVBg+uBIP9jGj5btlpSAFn2bBNLStoF5TMMy24jM6SoyZAoTB\n",
       "lGAAAAMAAXcAAAGqQZqWSeEKUmUwIX/+jLAAAAMAAAMAAA9QYN3L+AE5ennl/DWBblwDXLMKCkwt\n",
       "SoSn4P5C88vxDRhO7tW7HjCLIcLK6pobp0QsxLUoftAchJOGbEOCI/DK/6R45mmQCW9ilsZpLZ7m\n",
       "2dlGDIh1Ma5vAcDQOWIQFyjD8qRNq/9OnUx9OmaSw+Pq6gPKcRSjLqYt+GIfHcGtuJ4kravT45ei\n",
       "xGrvLJz0Sha3wMfXYRVzFod68CNQ6kAraMF9ZEiUqrGa0r7UR27Ha0BTjVoFqxAdYPVMAiJAzoFA\n",
       "RREJMyFOyf30f4GxbZAmBCoZm4BEDdlG5X+xYSgbUPcdiMlNA+oErYlfnx8CTOVmRtd0ElQWiZ69\n",
       "ce+hFsSbm5SfLNuWzU4nqyuYXc1kwdd7peW87c54R4twyu0JJANSlttPaxgBHirujD+WuM6Qz+Wj\n",
       "CCOseQx0E69uRcYdNbBVKgidKEQRDjFUkuWGZLeVtblTBMoAkVVaiy225CjHcaMlpnLBZqNMMVcu\n",
       "it+/4b7evVL4trQX5YnTp2LF3qlssqatpeW328qorVmvUVYHI9bAAAAAiEGetEU0TCP/AAADAAAD\n",
       "ABBgpnMuylEEs95Q82JQKmECbJs4hG7uvQVyxnS9G7aZgzFOtQH7tDXS0pkjCwOi9VWrP0p1MrUC\n",
       "7EpH5ud+ABOqKrvlc/fXY0fEtk5V+eMMlYtk3cm79grt2+9OFCwjb94tgv43JPozDPCmtvJEeO0y\n",
       "OZAAAAMAAh4AAAB+AZ7Vakf/AAADAAADABppOlh6B+F3SwH8te/rP6imsZdNwyJ7UM2+tG/ccc6R\n",
       "vDrloNANKAR6/r7O8n8Ab8KRBdYshWUhY2yJF7/kQAtwAABDh/G8NOj/10uGAij5SznhTXdcAIaV\n",
       "mIWuLLGnxVnT7vFhu2xWNPAAlf4AAASdAAACUEGa2kmoQWiZTAhf//6MsAAAAwAAAwAAPVwnT0eq\n",
       "31DN74BJscMleOLSAOQRxN5U08pJZJMzObrERaeNwQI6BIVX/SJ/j9n8ekEmPYX5xJXLSmCH+09A\n",
       "EMSY7fv+bawr4kVZnUSr1M69jMoNZPfPNgbSnzYR+Z3lDhejx6UIXoyWu/9UVMGBLVFvgY9Qd00l\n",
       "324JJQPvjyzZC/Jx4RmoluOx6iVgqLwrZvLqpNxzDm2E5kwI22f5uAjERWVecf7hvCx7F7L8A9iS\n",
       "a+ij09avoH3ulAkI/kqo5+CNBSShT30CuKXvZgPEhJQJugOm/p19FZo82tXjlqLfscUnSb6cj9l+\n",
       "exuttL8LTbUVjEHd7jYdWkrSrnYtetdBJ1N2pdKszuU7QYONgqlA+CX98F0Dvqtl16ckntqM6ke7\n",
       "kqVbHRObtenNHt7b0Pfnh9X6e2y22U4xNG1nKCoiLpO3rh2ScntB0+mgx1S1qsL3DQa+T98p9aIk\n",
       "t34JM3VbrR6cHgDaKUuKHUjzYU23IyNIN3cGq0cjKAlyhLvPIe3avOodbsAizwg6DShPLljNFb2C\n",
       "dJ/EYzE5TMNFuchRdn+QfJZ+rc8AjCZjWt7xiEhSxvgUrC8Sfq8VgH5p/2rrXZ4/f4xud8EQ0Dik\n",
       "FuPT5MXHp/pxRpzvtYBQSgdLxztWDSyRP4P9B05yAtO9EtR59TsfKbmJ5uLGNBhiRHpga5/JcBxg\n",
       "7qDLRsr/t1QMwp0d1rx3svvWpz094Lky60bYDxCdBkE7BmdGG9cnbMNT69R9+JtjJxwAAADNQZ74\n",
       "RREsI/8AAAMAAAMAEGKfJSZxR+rRg50E5WIVp3dVtU3UZG9KRw20b0Y+fJW1QrvV8cAXlnAlCGOQ\n",
       "TlpoA9bcAFqNRGws1y03faWxk1KCCBR0UVaE0R8uSOuqrAKuOzuk1dxtnwrsfDESZPytXPTlHBZe\n",
       "AB4yu6EhvAFNpHKlujbW0O4/KRa90OnIL6Sui29pSNFZHF3OwtTf60OKa/1Qo3/gxrzXHwifckiy\n",
       "N5EKoynyNLivvf0iaXKeT5TeM1X8S1kCRYAacAABUwAAAG0Bnxd0R/8AAAMAAAMAGlwlePkdtj2D\n",
       "dxair+jhTu8AP0ca+UQh1414fRS0gpwzCbnA2DilELMvDJeyPs6axIKtWxEGnQNA9ABK+clraFim\n",
       "ZhM6EgTYqogZZUba6p19OH5iYV/vRYgDOiAAAAQdAAAAbQGfGWpH/wAAAwAAAwAaaTpYegfhd0sG\n",
       "Q2JXmT3VqAyYR9ZIcR0hhkKvm6CZixsgEFB1dIhYcrRzoH9eFKFXbugveSsFU370OCDjjlwvvpNM\n",
       "qb5k75f4e9UeH9OoRI11OyTfR62FLAD+iAAACXkAAAG1QZsdSahBbJlMCF///oywAAADAAADAAAP\n",
       "QJ3MATuhq6l2tEYkkvr3v3FTGr+d7Ip88AvlELq38gTcDOTDIKDiimvEOKYVmGggiDXG7HfdGDHa\n",
       "+Kj6lt4QT96F1edJZ0SRMMyCQb6pz0j5FXR87Hp1RaD0oLB7EbrN/t0SPr/Ye9SGrgzB2nAcdT0U\n",
       "pmXV+x/wcCwyn5yhHh45R3Be8YmzKfQniTJwJSYRb+CZUp6+3vqOoE5wg0WkswgHE3gtrWXyTtYb\n",
       "hZiLk40hQRt/n2/vDj3aTCdBH+dqcJSR+QNRydpaDcxhF/v9L2nRmHCt6pzMKxxTq6q236zzzbRK\n",
       "ntsAs7T1d3a22Z+WRwQwPVCddXsaJ0cgBt/kFf1mfysBlLvtaexHeOAZzNp2CGGFvsYuDHsAVqlf\n",
       "+ZHLWaz09k5kHd6VaS4ZHBT/otbWT6HsjczgtKvQSU1hwIuhBRHj0hCrx+m2IFSR/aIwGHcnGfWt\n",
       "UkNQMMZ5KnsqrdGDhi2JRwR5ucKcUPzdOeyZeK9C2Lj6hxwhz9Xd8DHVRSBFv2XLvx68RcJCZGsk\n",
       "FYQZgv1D97Uxq7Ai3VcAAAB/QZ87RRUsI/8AAAMAAAMAEGKfJSZxR+rRg52DS6Jhuo0MtVXxs52X\n",
       "EoCME7oRYQTG57mIHcWjcD3uZoAPzo/82BRqFdCGgh5vi3HXRjzesTaB1HVeo5A1SZ+/ylE782jL\n",
       "KIjTgMr93MlAKZkEB80CZffUiJ5TVQO7wAAAAwAf4AAAAGwBn1xqR/8AAAMAAAMAGmk6WHoH4XdL\n",
       "0IUdftHDSnqWNSQC9CHqplaxm15sJnagwATnK9Z/S7uENu6i46lyzyC7fpZcROvKXhjrblIRJcEr\n",
       "Aa/BSFKniZzNz8NopnWk5yTIZLZYfjwAAAMAAtoAAAF0QZtfSahBbJlMFEwv//6MsAAAAwAAAwAA\n",
       "Du9pAYNAD9pEBTSc9C2wU+MccSQTc8tTPLgIf4AzHU2I9ElkAvvw7QP6cwFsub3km8N5h2E8jqYf\n",
       "6O38WYL1P7BWzay83TC9I6q5HcgcGg86q2tNDVG2EY0M2W5/thc1s6OUNfLFUv887QVwqtXfWamI\n",
       "Fh7lqKuPGsmq1TODoCmjaTx9VhLWY3WyXfpA2faUpP88t5fkJpUUuOcFU2UTCbGUbWilzh7EDQcU\n",
       "QsHkjlS4E6Lj7IcPJyHqzQ0NYk6Hv9/fvgIFsZYwYhLYokz2rjtPMmmcfVI7DJ47Px2lawk/bei9\n",
       "diyg7/CFyjtyqX0+w4tGxZ/Opatm01xh+yPqMuKOBw+Q1aMg2PS6ZiK2MMzXe+YQ8XE3u9V8H79U\n",
       "Od6CxGHQSFnehKKdyjkf4UiXR7GXBejj6MtdmAnFuhP+2NsIhT9/wr+mez+8xcweP9iQxsmm697I\n",
       "YdIUQcyRAAAAcAGffmpH/wAAAwAAAwAabyBeZXJL3gbvQhGZcUsEqiPhgXHVlRgDkS4UPcr4bc+f\n",
       "qJri7dIT/FqOonwnhh5/wPvom6KPUPX276C2dNkhla0CReX39JCgD/CxQRD8L/sdAsBgsRHs+cIw\n",
       "HAAAAwAAc0AAAAGfQZthSeEKUmUwUsM//p4QAAADAAADAAAPKVhy2ALzVqy3RoqIs798j2NpUFEp\n",
       "j089c191hpwjMbXQooKsm4dkMgj/hDiYwABn9RCIHppU/Ec4cZjsEICl3REE/AMY5/jg1Oixf6GF\n",
       "X58PGQoWjhrp3qZbXiIZSrQ/1YMZIkoNm+yZBGTIlh06wQLIzPB5OTfYwageBHvin0ofFwUUAChr\n",
       "6uJRLyZWSY83BtbTs40q0oc8VuuYlyARi5w8B3/5FiRYSAe0AS1j90zXVRNNfYRuisYzIDMUWDBy\n",
       "LWeTRnsYtAVdSkrekmsXesP++VsvCwl8mfA6s0lmb3y4Xshew1drCnoYkI9B7gHZCyJoDQeafs3e\n",
       "wO/qA6PVWPrFAM2v58QMBfpd7zjhpjTO9tPwA+uu//4nZjWPZbnjw0QhnTLBJPKgj3JmjHPKSls6\n",
       "mzmfG04eqsYbCUilprv3y02rhpRCYVAGhEMJE34cSD16ymT5tmT4waZNi5G2gmDsYfnmlGr8D508\n",
       "N9Tzo06kn2mxpEKPiDOgp+hYy+CermY6D0FJ/gAAAGQBn4BqR/8AAAMAAAMAAAfDNBVWbffH7oYK\n",
       "n6CjqdHSWNbRGcqwIgnqRx2QJzuBreC7GmHCQLdLTtxfGqssbGL+zOU4GEmb5zl81BZL9G0DwF/0\n",
       "wAfSCciXd9IE60XjAAADAA9JAAACDEGbhUnhDomUwIZ//p4QAAADAAADADO+x4Cq3f12wQVsPgON\n",
       "tbAARf4aCWBhIOVjcxL1dFyA7oieAY9ChcRyhbLY5hXUBtU2YnDSUQvcb7/T65Rmi8tAVwjlq/Y+\n",
       "LH9W8pma+M5HxWTsrSgrpL5lHRhgvGZevR/9vUIf4Z0drDWZoDDftEMoDte7AXPT4tjKnGuEtaVH\n",
       "PHyaWk7LhMG8zT4J3RL599q4+71u5pzO63joYwA6uMEpKUNKEsI6wjmQ000HjKG56hLfEm3+k8xV\n",
       "ohejMeiK/XBCIQby652QIubizUpL3Q+5wWft+hC2TpVrjQuTS3I0jPiuRgmoWYouYkxSWuVnUijE\n",
       "T/J/mPaej+6R9LIwAzprScrfKaPHlePJ1lr2Ht3h2/1ggebFSyRNMU7NldBu4xDwZYoAGnFKHLrx\n",
       "MXJLN6e6vu16PGU7kjcNws9uc0dpQo6o8/aJpZxjH2FQTqQgxuxECdmWkB6hneyJYnNxIYxSvlZk\n",
       "2jcfZ4nJdakPmqV0hihBKYakIN+rbyFRp8zq7adFVS023Hz7vVn9ulO5LpaTT7Rl2UuNBNrRtrAz\n",
       "AYxgKoSv7Ss9XhiBKJt8hYkWSxBfV0LRvNW1k7SRYdTfwyuIjgVCP5Ug54o+Bg0vYDmrItM+lbBT\n",
       "IFf+0wUBjlS2rG3ep6UZj8Zn3p35Bab6e2MAAAMAALKAAAAA20Gfo0UVPCP/AAADAAADABBYE5A4\n",
       "WPi6q6rSGRK98h+dW89xGdsIpelEooPQTM14yrmWSBtYBv3w4EZRa6PxSjQjUm8KRVPetv7Soyo7\n",
       "tgaOqQHu3pxNlAEAI2gMsaZHiEexV7ReCbGGympxHx6zEur7vIZUIKnWw7vhFszqnZPdZRidIMGT\n",
       "P837oJ9808GbGMvSgHD0dtvKQYfT0FlHsG7rCrYyQtAnMCcPjCUdQxwmIaP7o+ra9ngAIJLM+fj7\n",
       "ioh7nF1LLdy3RrXAvxulP1lQUd3xTgAAAwABKwAAAHUBn8J0R/8AAAMAAAMAGlwlcCMCVxrLyjA2\n",
       "tEOlVMVkh8Y04WGAC3e/6yyZbTKbiUj9f0ktW3vfYcvOgvbAKxTb2CUGRqYs5trno+xoprtcFXxB\n",
       "1OhfaX4l9ITbJhy+g9ozXFQel57cFMbfzIGel3wAAAMATcEAAABqAZ/Eakf/AAADAAADAAAGwk8v\n",
       "kOe4Ebd9/12cX5AQALigPaA2ae11dDenF1huE5JgL+xgVEtnuklZzdlZG5rV6U3+q3mwhx9p3UKP\n",
       "rm9cMxZ1hFYYnz9Y5xKslAG/2HuVHIfOIfAAAAMBLwAAAaJBm8lJqEFomUwIX//+jLAAAAMAAAMA\n",
       "AA9AUVgC8u3b5T2BA0QoRtb0v6dt1FNtWt4+U/5n4CspSKtdVE3qWAqZKQHY5rXrO/8siZ+PwaNn\n",
       "j92rGLhRXEVegu20+FOUsNwaGQhspwQ1D1LhgabGAIy2/QnxFJRrSTZAHPQYMMsDi4T52Utcune0\n",
       "Us265YMONaUtM41ou9S3314h99hEBYWPf1G2A0Hq3aTUHvmsxWGhEjEM/hSttO+3sXmBhrOr2qcl\n",
       "S2fyUFqd+MY/zwegSpQ3UkJ7ZByfF0IYWohbZeH2mXatxAUnHg95wyuM8JfbRbcQ1I3ZUVoVP0bS\n",
       "H29IJFU3ryC86YunEECOVzYASlBepoDDVv9YEnZlmiKhEif1betjQbR3C/E1XNEldgSmwnSII0Yh\n",
       "ImR8lnKpWtnr0Hw6L0UolDQkpX75nKXG3ceJ7wDaKkLQcRnSeY3CPQSfbB+dVuHYotcycO6aycc2\n",
       "+tZBWa18YkkjpPdObjUZU5Au5ZMSsr/6ul2VisvvE3vSwNlQxhukdKXMDekTp0GcAAADAAS9AAAA\n",
       "okGf50URLCP/AAADAAADAAAEWKKlcun7uMqB9VXWCYOYNPrJhVx4KgASQzIrof6xLL5vwk90J/oO\n",
       "TlVQHIJxqUEbPxhsyEIbSgtB9+qgapK46Ey4feRHJUHdCAYJCLLxtV1K1reIVm2pnfmWvuQgh6Yw\n",
       "ELqYiNzJPSfQNc8ZmcLMNdnZfMp5cj1x1KolewXNs5Sqc/6wIdn8o4YW2+AAAAMCXgAAAFcBngZ0\n",
       "R/8AAAMAAAMAAAa/E+3Cn7cNzDR4jiFmu8+NJYtsQf18FQyQLPwbLhtW5Sw/yIIzLHJROInUwDy4\n",
       "qDIkmQS/IFuP/JjojO7I2anAEIgAAAMAHHEAAABxAZ4Iakf/AAADAAADAAAGwldOH1HHXzTafFqu\n",
       "ynSG89PLneWzWMTjT2E1U37eJYUkumeb+Rlg4PS0WH/SE6/cbVdHETQMnwALmIbayLV9TTRKtSet\n",
       "XhXXoNkviBhxLhhpou1ypmPQh0+gMoAAAAMAEfEAAAI5QZoNSahBbJlMCF///oywAAADAAADAAAP\n",
       "QW2NyqaXI/XLAEReoPs5JIzQKUSRCoxiUNSWZ6KQAAROCu8U1B/gv91S2kpwSWcu6g2Q4DCaVY4l\n",
       "I14u8jGI2927W/3qImC6oTlGPXbIfyx4Ax/Z19/jo9uH2ka/tBIZqSHK9DWCjnmBZnnkGYhWtMJy\n",
       "OzlqmsNXStL1iSoGblemRVcSRJ3+r9r8+j2GtuB5RZSNYP3EtSEGcLKLaUEOi9yaybRuLug/JtCs\n",
       "d3qvccI062mcSspXSEt9vDYC2/cSiDKYVk7+OgEEw1DLf3DjUEAXcOLmFkWzuc3XKBvRn3KBiY1b\n",
       "4afuGA2mT+6BI2nEQy+ebW9D5eoeaK+ck8TItkR52mPCn5FCgIvhhXPGCkrQJbo/6HSW0FMYo9L0\n",
       "T9k5mdirYrxRbhHEP0mQwJIlL/n0Ak6kphxf0LyZHILzkTCRqvZC7KSjBqUIK9yYVaW7a9h2/p6v\n",
       "v1MS22hG1fbrGaLY7qThmpsracdqEbUghg4P4EJl3d6KJfrWWiRZRWbGPAEoAIzdALBtc4A0SQTr\n",
       "l0Z6IPaBxWjQyhqHRetupYW3dUqmcrCvdwH3LsMqnfiQ53kFJwnvOQ1V9a9cYSRZWI1RcrGkQ/a4\n",
       "gZymJad7vmYwiDCwEQ1qcvoTPl+nEayjwHAVjmEEOIeinTzcCA6Rustv8DWjbjInxcDwtVPDT9vL\n",
       "mAWH8tfquIMy9Fn6UnrYAyoB2STvMNU4FgTH/RnWVyAAAADlQZ4rRRUsI/8AAAMAAAMAAAT7DkHv\n",
       "iPIs4gv0cg0dW7KarTAzE5QGuSgylW3iAFuTulG63/zd+mjSqLNNc2B1GtH9IPvYYSZ5Knz0BfyE\n",
       "0Cjnce+9S/f+ryZtmiyuLnM9wfcA5T0Mn0H0/ChTORYuHNeX9aITAFyewuZMyorKTQsWLTvVvL5a\n",
       "dPrvJsYgDCMCnk27XO2ZKjyVkJbLK2/0H7U1gU/iol0Ef8J3Lc4C3QO7NcH3DyW4bybrfzuEFKsI\n",
       "SEXWlKjhFwlCq8R4Ml2XN1GG2dof0yiwpw9zRk26M4uAAAAEPAAAAG8Bnkp0R/8AAAMAAAMAAAdu\n",
       "1JdJ4i408pEwvbfotNM5co5+I/4qSpisdAAJdwZoHe45jyIOVPAftToZUwVQiG9X+kCxdB/26q6m\n",
       "OShbYXsc5Ro1Q4E1SrWIeKj8HrE+Gc2mt1Tqt52UVyAAAAMAAccAAABiAZ5Makf/AAADAAADAAAH\n",
       "w0HZR9LDfQg7ue+7EWmgEeCJejuRFHG4QanMOvojSAAEvPrKWwtCroxB6YcUQkGhSGPt8WXngFDY\n",
       "LH1tvn2BVRQkLqf8erAp87ZUwTIAAAMAHzAAAAHJQZpPSahBbJlMFEwv//6MsAAAAwAAAwAADvgZ\n",
       "GgcAVdBX6GuhykLr24h/lbg8/q9waPDy1NEWo3Nd4nZ3HBw7h/dKrVQuosXYbcl2jPNEu27ECAgH\n",
       "aJLwMcelfHI4i4nKOwu9nHgabGs1IHNZGUIG28db9mPgs1HkI+4KMq+VAs/m6pExlCSmvSJ3rkjs\n",
       "dWiRYWERArVXAS3OAkNWb6i8BuklOPxYdbXCn00awss/hgSBS59u0AF97jPU3ebrzt1X6Pj+Word\n",
       "BJPpS0IryBbglgKWfBGr1vkjWrinXnI5TOXQuUHdIXe15l0R/PkJeqk8P94TFSIyxbJyPRpAwoC1\n",
       "Nk0mriNtoFyZXcgu+o8XA6tFDvljOsLxaIi5SKNtT4HvvcFAvsBhNR2+ZIzkdtwhzC2xIWHgypAl\n",
       "9QWScfnFw1/F22vzjC+qXiesBtgkzttNmcK56sB9vFLlfJI9EQm+IllYsGvFYVwmKdFzyuFOaDjN\n",
       "qUZVzxR4c+7obhnt7+bJm2BPHTBVhvCKsVA0uMPuWZFXs7CJDIC/eY3DTCJ6BjQNcwkc3jHLdJIF\n",
       "ghJQFQzvD6Rf1R/gA19sIY3O2aeyV4kA10lKcSIPwQAAAG4Bnm5qR/8AAAMAAAMAAAbDysVUKerE\n",
       "BnSha09gbABNIvVa5akUYRg3bwdSk0QYFOQy0vTwz3BoUmyyC1EAgYglvnOqGSfr0TUJRVIkxZ+I\n",
       "do1k/RZej46e95LeIfYQt+FrWwpxhpJ7gAAAAwCRgAAAAs1BmnNJ4QpSZTAhf/6MsAAAAwAAAwAA\n",
       "D0LLn292OXmWamVOAEYkhbrnOTC4eCDpQFNHcjWUTc2aTocWJuPgrZsJiUo7r8dJz1dMAb/a2EYs\n",
       "/CRqw7IyOXx3/IfhYNirBVLfOxmey7oChsO0pbjbiCPqaRHG8QHWxlVqGfk7FA8Wos1C1JFEDs28\n",
       "8hUeJt/4LfTUuXZ/tAgmgIBp2uKkiHSUOQ3M+oP5TbFhCnxaTGS2IVXwaraSJzfdejs4xomvRWYn\n",
       "e9d8fCgxJ51Y6SX3tb3sdYW9NdVtG9tjwWOOgpbouEm5DorRdlzEqlUwcrbGj5lXWaoCY6NrkuqN\n",
       "ESDgdjJ8QLMB70g69VoumKyQP2dnA0iYad0uQVzUHWI36BqGZK5gFbMRO6w/E4DU3eYxsDzNHZod\n",
       "sgdEGjAmrJgl1TPE//pYpOk2tuqxzSdMMaym9aIqC0kLyG7INhFbeIOJFP/1pt55ZzhYw0d/w7CY\n",
       "mDHkMBN4mMXOgeXuAyllQwftQM54GUkspVwEXtFe27Q4TCXZje76jdUUYaGKSkLFEeVk1XOZCERI\n",
       "VZ+3kercUHRcGzSfJo3L0akZzats9pr4pKYStJNXyn5gxHsvr8hyi6I5TA6cdtfwj9CYbBTej59/\n",
       "uNEtjhaqWgLxtMbc7vCEdLsbADTYDpzZwRgHZond92Mq8/gh8dLTxWVjHBs97myXhgvHP2qhd2Cv\n",
       "iGsVomhfJz8bhD0oqQoh5vzwBf9nbwoOtHo2RgKKPqclyz+FbRLTFRMG9k8SeMVfsLqQT1u4eT16\n",
       "l8JB52BCAoVZ6ur53p70i/7DuXGUDfVa206jWuHmn24Dj8kX0SAdUHIvl9J1B8MlMqW6eY1CdZwH\n",
       "lny/FDwrJOy7xJvfMtcjI14NWuoBLt12EUG0VeRS10Qme72GqUtkRmFJ0F8Lu4oJZSHCw/+DGdbn\n",
       "iujayiAAAAMALuEAAADaQZ6RRTRMI/8AAAMAAAMAAAT65NXX0MF0XEsgK28kARIAMs6NY2TZjP2x\n",
       "zQvJahC2FWb7eoVxhztaO02A4qT56WSlWE+G7ugIAWQRbub1Oee5TK6+Kw6Rblkc8OAddzH4FgDE\n",
       "LgrFh9uosAwMxna/HaDKsdVL9m6VWvaerjC7gW52kbCNJtFkydZq7xBP85SQZpwIP3mvyrHT0nVq\n",
       "NdRR76jlTBFiGGwtqoR4HwiO3d6+Nmf8PhIepLwJXTP21O81tjKo9kca2/bV6dWr1aM3DWHHzoAA\n",
       "AAMACLkAAACAAZ6wdEf/AAADAAADAAAHxtXiZeZKqtoDuxDSOBezHICNnKkABOLTguheJLWvXvaC\n",
       "Uui3r52C7mEs0REK41uySE6xl5WZMuGUUjT8qEcVoRRopGiL5fS5Mdc8H96uA6Je2mIhkmS2qV2p\n",
       "8aag4rmhaPWifPFOnzIC+YAAAAMACgkAAABzAZ6yakf/AAADAAADAAAHwx0nwKRODnADpuwGgG8N\n",
       "Vucy30O3p8a6QoVx5UT0OekzQKXkx8Avr2G5rivgZXv37omffGOi+bpasliD7JGjDAaiXPzfjoAS\n",
       "fqGSka5l59iOkUHJJj3zH6sDDdgAAAMAAAMCtwAAAiJBmrZJqEFomUwIX//+jLAAAAMAAAMAAD1f\n",
       "1bQvYOj0IdewAcAa5DZxEaU0NGFEmGqf2vDkh1oPhRn2r9Rw/g9HTE+O5OJ9OIuyRfx7OutJ9Iqx\n",
       "5MrsSaqcdH46rTFyWY4TxhpaY9yP4hg3Cb6EZerAuT12EhjnRSrGMGd0VIsOOJfp2rtR5i2/iwmK\n",
       "B5y4hok+xKwv2P9qpl4Njrfxhpz7RBja2dZZ3EqmvktcxvBHacZPzGvCCSzv4URbPURgdBk9vzAO\n",
       "H1mA7rETK/8PDz0BanhIRoBLBf18i9y4YpkFCCNkTTNUcIq5TuGQbQTtMfcYhCimTx1sDfvp2gtg\n",
       "hmPoNDuYR8zHMrxIoHz5JfffJ2/HwGQy5YSuQMzEk1WX5BIsqJg5s5LkniTjPNrHaz05XnyBaAnc\n",
       "noYgBDSbzYHxQNBoXAm3hwNFNqVgJXZdF07ImZOwydFhgzDjXzHryPtXAV7bqO5TW/zeOsvUHlvD\n",
       "NxBdiSuQtfnFMXvKvv46IwvyjU0dxGjeJWKf4bvZksMYKwCXuwzsOm8pkW5G1nOryzIX4BX1wRsI\n",
       "vm1HxknX5fT9XIn5mN8CPnB8/RpZkChDNqhNignKoi6v798dMb8gfzQ6lzOKWdNtG7NhFVjxV/XF\n",
       "+k8HOAs5ZeEl73LtyIILG/1IJAWV9zpCAcgkrWrHEmqjWsVqqFdF7of5xBRRoGB+WN4obSKJXWZB\n",
       "VRnhsU93QYAAAACuQZ7URREsI/8AAAMAAAMAABMlFQVU0Au1wodHs5/dzcCqfh6mgDVRX2MifWJX\n",
       "rksaycnkaIeHm4mxs4eJ/985Zy8gu/MwpnGtjsoj2f+tVD2bACVEgg3wkvr7oIMVQHB25hkSO/N0\n",
       "XZ6ieZI0j66xZnMnrntZbjGg6i5d5fKmqsHfV5POGbKR8cHAJPQ9AvuTsYiCd7dEcMzkU8AV+dEL\n",
       "zCuxG3MfV2k8AAADAAFFAAAAhgGe9WpH/wAAAwAAAwAAHwyrDu8gAKOCB77/1orW+xYoascKdxbz\n",
       "Y3iR2eJ/QcAkotG1Whf0Y2NeNdQ8DR/dhyktgt0huN/hW0/QrFZ/zWS4ste+7vsJN1AtU2zysAH3\n",
       "xBYwSihKOEHMAxYSFAy31ezC3T6AytKxOUyMTKxHAAADAAADACkhAAABnUGa+EmoQWyZTBRML//+\n",
       "jLAAAAMAAAMAAD1f1bQYLdmwFt2jytis6g+mgcj4cBWsfVOzN07B8yAG6gIkJ1in5Wsw0FOairUj\n",
       "ig2xsDzG3eYUzMeO30cmSzPxH5Iy4b3zgI80Vgpk3eTqbZe4Xb/pApvmh9gOwPP7JDQiu2oqCwJI\n",
       "+AdBaTTT426I9xAuDt8WkH8MydLi8mC1eYwsrBZvjdowRp7kp01mK+62Pa+grcifN6wfGOvVxTu/\n",
       "JKUJ6oB7CWGXwE+8m/qwNYFxTui6tsHH9uwxBujT+vwd0zU5ueL3lQJajfUwGX7NXGuxVKJY7grq\n",
       "kl8JE1ZZ5hxYdmZIWC2wlGLnfsjHQs7xKXEuy7kPESkymwWeDJ7RrpXL785Cdnb6MWSvU6P6dWPv\n",
       "ImXhR5q7DxEyIKu7VJ0Yxppnw5WM5HSQv4ZxjeHosbRpF3NZ0O1vUl7CsHQWv1GdBaofjs0Symmr\n",
       "/XVjy4PBk2/OqR0uhtuzG8gRlU4kbbNTh1gXn8qIdo0ZRh7jBd2zNrmTmU+PMKoZWKyRGMPomOqP\n",
       "AAAAeQGfF2pH/wAAAwAAAwAAHm71+QSkxUOt1ajZgOOL3hQz2PiaFn4RX+st3z6rK9AZvYpJgVj9\n",
       "Es6PvMpOE7+Mhbdp1VibJMRiRVjkm0zICPZ84777DlMXZ1Rr9h1mgA9v5MOePUpV7MDfsfGdUG9n\n",
       "DL4kAAADAAADAi4AAAJWQZscSeEKUmUwIX/+jLAAAAMAAAMAA33vd9L7IQlDmoYJZh4qvJGhhf0K\n",
       "tWWqUatUekouCM098HYjcb7G+GR/0R6q58ILXBGBigb3Dvsbmqu9H5xBgexmvNk7zDvZ7r9oY3LS\n",
       "H0HTaUn4A7+7lxNUh3bogqG4uyc2VmfiwDf9dPgUPVzBfbNPsRG91MZy+BaAp+k1Pf/aB0ahhf4S\n",
       "ly/F9G1Aptf4cO32SF1pABl/6Xg6yniHUpGYFssUlxv4F/hCrDuqVDRxtifb9UDYJ2fqpRnt9HdC\n",
       "ua4HvmRhh5SlKWcO31YBqkKxoIINsXG/HYzDBynZAjLkxG8hK7EqR8tzvROZVb3MKSP0zXBLuhA/\n",
       "E+Etw/b+9/ggyicTtTWkZf8Opidw/2cG2lfkDoi4rymNst1fVBOOHJkor/B/exKmMkbPhTxTyBTU\n",
       "wS26zAc5F0zeroUHYyUaueFIV8jAAOwRaym7208lGpZz/M92x/DHBeTdvmb5Z78NBPbyADb48Ya6\n",
       "4OgpDcveuOVkS/XYMbbZbWQgU+dvQbvK5InjSbzlPW13/H4pJWSPbCdAuM4iaXsNIG4ZFNBvuLry\n",
       "G0m0hd+YQVR7JSrQSviDSi+9RgGL23MjKQwAjP5pe6REMDcor2spuVzqP8kbEq00OaZ1nuz4mkhZ\n",
       "g9JCi/Xdwe6YPiM48YqVT2xFL89Sbb2txyWfIN80bopUlQRA4k45Hnmw0AXkL03PqPJc4sRY2qzz\n",
       "LUcn6fs9nacRiO4lB9wvAeScUj9nbwvUa7Ewb052GoOKTcbqRd3w/z0oZQAAANBBnzpFNEwj/wAA\n",
       "AwAAAwABHYE53EcTgn42y0sBbsodKsYAFUjwlA7k459nhD62qVqSEZ5shVQPNACz90GgESRVucrf\n",
       "pxwGQAUs1HcBqb+nXTF9tOb4OJ+0R39z+YcSOAtVrp4ziJHFbuRxACG7N6KeutCIe1x+3qaM6B74\n",
       "qZPhjQXYBDgQHjTgJOHSicPT7cKt4Gm88oqBSkL779EebPzBT9aZSv55sceh0/7JwM+DB9NsbA1d\n",
       "bE3sYazEPw7fubHHDYuJYkbI11gAAAMAAAm5AAAAjwGfWXRH/wAAAwAAAwABxIoX331WY5ybZsBx\n",
       "BDNUGwJLPYx8a8HQctdm4NKaYNc7T9/sUWaVKm9TMjMr0d2ksa0a1zAp6ldKz69zJfPqJZ/NGfxk\n",
       "zNX7N5VWsXrwAuGEF7WLOe6tMmNqb5ccWTlOEAToJrE8RdhB6abKa1gm6d4Us2H95JH48oAAAAMA\n",
       "AB3RAAAAgwGfW2pH/wAAAwAAAwAAHxfpadEiQQAZLq6hl4rQ/nCLuLbK4beR2ZoZPwL6jf57N3H0\n",
       "nsIhygZv1jSw5HpyiYjvMtzW/hWVpsVntcAI6QSle0e+4ooAJteCAb/I8+Pr8MCJVedkzWFdR879\n",
       "Ep0+IiBAWyrShiDscJ01wR9AAAADAAHpAAAB0kGbX0moQWiZTAhf//6MsAAAAwAAAwAAPP3ghZEo\n",
       "uC+i7vj3y4OhX9vmh8cJ5AA0w4hUB5l8FFN6sl9onexjvzJD1BN4/tPCmp+Ap9VAfgHLBp7AxkUk\n",
       "FXc28JqwvTH5X2rVqD2SP9KQtOAeqGXklSRsUq96iRFEvnrIkCj0KOuLzPYCyi8+BsEmZt4MZXKr\n",
       "gSLSPDZUaPvZs4+unn1SyjLhkzFAnmjWBFtG0md/uPuoM5Adh3FnWrnGFKD7Q2lYmGT/siqRi5n6\n",
       "pwsXRgZu1uuNQvAqaM3RZsK/VOf6/wMChv2OkJ5J6KzfT0sXMAfSNf6OQ4fK61r2S09QsenHuFuI\n",
       "I0HwoC9afMV+HO1Jj8z8mdRTLDiKHV9uUYZ1Z34EHtx2sPl9y3jDLOFnR3j+gq7zBm7xtslblxh+\n",
       "RAxV0QC5hmSyWooFD4WCm1VRUwtF0kN2YC47m6V+5YDWVl6sRSqGb40rzuldWnVzUSWiEDexdfIR\n",
       "+78ghpjIiZBE7GP+bigKbyavMumqHhJTwxuQ4y7w9zo70Od1TF9cwuXxrT7wrXSV7Z9A+rkIbTU3\n",
       "Zf/Mr7Ui3NZUeB3tv+ycjxW3kHfUAX4vCiDZCI0w879qKmCId7AAAAC5QZ99RREsI/8AAAMAAAMA\n",
       "ABPt3btK6MuZ7yz9K+aymoKxKo2PcVe6qC78ONZA9zqsyUfW6rXVACWE/QOFftb7Ha71mBVmwRRZ\n",
       "PhS3ox7oYIHRkW9KncDBWY/N0XuGfXYAg1m6r6FoVMW1E9yWArOag5FFLOLjbEMc+g0DEsVu6sC7\n",
       "zWw9vEsaBGeJH0rlK5Lit3XyWNwC0WEBj7Urdx6VL2BXxTc7DbmJehlINHbgPei/gAAAAwAAFpEA\n",
       "AACMAZ+eakf/AAADAAADAAAfFsBhBypI22UcQM7TqPRSJB7MApKgjMHg9+HiPLcd+aIQ3feif/bi\n",
       "CENK6Vi1Htqnuy6U+D79bR5aA40iLGq60z1tP8uHaOG1o5ACVCxevlZoNxDztTPNpsEilAa5qSqY\n",
       "Y+zdR5CPsiDr8o1a5QITqCfOL7AiQAAAAwAACDgAAAHXQZuBSahBbJlMFEwz//6eEAAAAwAAAwAA\n",
       "PKU+B8j2ZkBx8JsudqOHD5v/isR917S0OX0h8Zw9fz/pIJ7niaZuiAAALrxJRye3082Y1nGdx/DQ\n",
       "ELS/p/aTgTpawbYVOJ0hFFtRBWZvdHA0Kr6C1PqLAl8MpRat7Gqy1mrbu5P2P5V+540YkxZ5RhX7\n",
       "OjXTvZSh6T8NlLgv07HFGmYnBA/mmcZAfA3X+3JijvZ8cNojL7V839DsY5ATukUh4YlVoqTXOr1R\n",
       "YzTKu03y/TR+pJOnvAjMQwm5neH9tmOmGvR6XY6EJvp5BNeSd9Y1gwVsL3fHCl4xunVg+StmHpkT\n",
       "0JF/B4DRM00Ym4KtFQgiT9mZU8LFks8Zqel+xvukMgjgVFw77HKHo4IOX2qxi9c2mwP7hr6gLyWB\n",
       "j73podDE5PRoPZpL3bAgf8kjXRWW+nkf5ZwidqI+E3SELxJdwOapWC/YD3VUB27rozDt/0PKvDhQ\n",
       "BpskS7Cc+Vajt6zgyNjsO0gUwsf85blLpUSbH6LeK3oc21ewoiS+hcnbD7BUTiMbD/L+aVVXpgtd\n",
       "g9MC602NgFpGWuxvZA2r5Fw88+CQbDiH1YoEsg4rYVyN4J4u6AvvnNAAAAMAABZwAAAAfQGfoGpH\n",
       "/wAAAwAAAwAAHxMeDXhAp+RSkd/LdVvoSLahNyAu6eaLSmvb9DpuN7LhzIAli4ch8HJjRxiysHNO\n",
       "tGo3DS6XF8NnWSmv6YMM6cblIv+pCvHP/v6cDkAbXwhVompvyMuAwMaFVpyNBFPIcrnz4jd4/dyA\n",
       "AAADAAFDAAACQ0GbpUnhClJlMCF//oywAAADAAADAAA9Cxw1SflGlMhZmNYAFwxYei56DVlBuPbQ\n",
       "XJHihQ7SdCf0WVqiM2qBUTFCdq5UOzp60jlEbSg3PJLAlkqCzgQyi73d6bTdLV9NTbLYkQBrgp1k\n",
       "gGIq4t3ceH6RaV6bXdSGDnZo5I8HU95uPQ5jDSv1mdEbPZKat3TB885wyYBm75oo7kfSPnTTMqOS\n",
       "8HeMWxWqFMUvrrOdUU2GQ7iAaV7iLStb0vpcNV1YqmuS2kouzvrrEukpG8Bbo0tCTR57+B+IYJR0\n",
       "vc1K76YOvvxTtOPk67222eushbI2OeiO//TpoU6ARlOTAWRIDzA8ihXxc3YESFmnaB6HoDF1GLfb\n",
       "0kqBKS3udjFCulDdM8feFp/lMZQ3Jt3/GlFWIQ55zjTQq489GUHuQx0XwhT41nT4pMDii81Tdlyh\n",
       "UZQPJU6dPHLif373KJLEUV+ZYJjeCSPSKKgIDmBhQZMw04MNqWmW0pcjbCZLZxll8bHMIn+Fwz3b\n",
       "NWGmCvLGeeJb1xgwanTQ3nXc7Y0BZjLg6rG0ZRLPSmG3muyLUUY6ZFYeOiC3ymrAdMj9j5+Sm2hq\n",
       "WFdmuVvYhxAUsU5LLMZNmHP+OWC1blwWKqXFGbRR5DWGxcO1uNe2FOawxLmua1DZUzUD0bTAFDVp\n",
       "d5OYI0mgVpsgX1b0eOBz+3UOlTBt9GFfsrdkSyRxvieUxZ+K2C0fjKLbJisPzq2w2u6Mu089FtJ1\n",
       "jDZpb+2CfyYyQrLPdDtivxhcwAAAANFBn8NFNEwj/wAAAwAAAwAAE+j4bfFe8JvcN8miqi/scq+m\n",
       "RleYllMjFYezu1qvc/CLYN35LlAalVU1lDJo+DjZSoYbg4RbuACUccfyKpESYaKwDWsXHrIjNcke\n",
       "SusyjRk/GUA4T+YwAOJr8CcworRplbZkkU6+/ttqYMKtflrZZD+udCTMnaI4usvLihynKCle900A\n",
       "Hread8kTef/XjNhYdP04M44LP8cgLCrAZWOddQ15C4qCQ6VemfjDTEB/vk+EYMPx5h7zigAAAwAA\n",
       "AwBQQQAAAI4Bn+J0R/8AAAMAAAMAAB8fgxY3IjAqeyVVCbJ9KaV2Ev/w0DlnfeuTx2mIMzaSm1xP\n",
       "lO+400iPvxHkTz2XFVbZGTT0P/+04CjsjnGii36BoDPHO+8688bjB2vBbABcMILcw6t/XPBFjANe\n",
       "3S07pqw3EFB0kSqLW39IPVuXzQtWBbjIZyADG4AAAAMAAKaBAAAAfgGf5GpH/wAAAwAAAwAAHxLa\n",
       "Zl7M10a2BY7WNEy3Q8jSx2kxTvxUwg5B4NcnkdDYfestTg5xrq9V0m8yz2MxGCXqAsiwhg6N0Qqe\n",
       "xqZ40FIbMDxVDS/p27puHcxT+65zU65B4FyLVETbXS3bwfrd3aaGQd1emBwAAAMAAAMDUgAAAh1B\n",
       "m+lJqEFomUwIX//+jLAAAAMAAAMAAPQFFYFT6lCW9iPgc3/po/bE+NG+PHfcqLrB22A6ZYlWlIf0\n",
       "WL5uCIJxIqHwANrKpy3/WMx9A0xVO5pN+w8E8L38Af+GSsJRmfun7M4194lwWGds0dhzBYRPMqeq\n",
       "Bbturj4SRjlC26AyuCACX3X20fUFyhz8VSbJJNvJs4rxwod+9F6omoER55m1TuF9v5NKkRI35OGm\n",
       "UrY0xBJC1rlIgQMYDMAczsd3xVewbVTcQhKGQp1AIiVNXYJ4vFkQULodEIua901ScQ7XyXA3SR3G\n",
       "rTrV3vR/njTZzNxeY+MQTSBPp4r+x2YfRwF9HCsRtJr7o72SdEnUVIdgeTqTf/uV42svZ+Nsa+bt\n",
       "9pNzKbDY2NCIKC5fuiOjPG+a9QGMF+Rw66nwarESPra700wtP3jHniUJHuemu5o6DghWHGU8IrPB\n",
       "CmrrV9UxvDe7nn1nhKqXzzTZSoewh7Km52ctekShgUyEW/WUUfsTLE7r2r8eeFj+1g/1UwXYoWhp\n",
       "9mJiB4CCpkDSTdRjya/ej5JD81aEoX+jnViqSzKfTRRrGmfx4PuIS4TUXze89gUZRF973cBUUhLM\n",
       "nM050RqJhou3zVT38q/nVFkNjx8zKjKldZTsmQpqPtmvgU7+9TuxDiYjecdJn8LfZxcgedqdiCDP\n",
       "w6Mf/Z+hoWsSI32CN9bD/I7o+ZE3a7noOGzVAAAA6UGeB0URLCP/AAADAAADAABPsQ8w8CtjxQwn\n",
       "SYQAkQYAZvW8i2cC63KuKg4ui4KJWrodCSfLQb7W5IZlBMyIbMswPu/D2H+HWu7IvIWGSF6qa6S9\n",
       "ESdA+sUscIYXhtXgDLTZiCMaH9jC/dGqSKw1tHBqj1q79rcFClDogRvGtT+ag0BSHOWoV2AdVE+f\n",
       "Mjtm5Ntz72W4rNUl0i2pdBDdfeA2X6pDj0yL2T7a2qk+Ts1uGsIf78Zs+Y3DzqlBPpMvRc8JYro8\n",
       "QVuepLUoJIqcdtKV0KTohEVhIJr7Uwp0C/RIAAADAAADADpgAAAAkwGeJnRH/wAAAwAAAwAAeaxv\n",
       "oQLgtgxqncVAAP5jiyGA5kN9H0rFjwxmH7zBbKYPtqdsj1e+iJaWNlzkjzGTmzj12DIww8h9S0e0\n",
       "8qaoaq/MvVn64isaYyV12RwbwppnpNmH8CfRJM7YpLVFWx0t/3Q+y19/rzAGZMg3ceDGWVZkgVTJ\n",
       "tj8vnG6krAAAAwAAAwADUwAAAKQBnihqR/8AAAMAAAMAAHxfv6wlZj0hAYAxJvjQAe1+QpavIdkO\n",
       "5ebbBLanMxWZL+5r4E6nfY7g6VhpJmPsYn9wAVnudGaDU2IUjLmx39zqR1b4R7d3pHLMSjM+NAaZ\n",
       "tq5LZ2Olcf2q1q9CleCKAOP3KF4P6/r+vIynd9mIUjoGPXeEfJrX29dwmFxjJRSxmHYl/3dSNCmg\n",
       "YNlJxLv+UAAAAwABLwAAAdZBmixJqEFsmUwIX//+jLAAAAMAAAMAAPQi8Dn9Z7xccAJq5GJbEzjH\n",
       "vAxFaCTFdeEQgxG3x6ABDjWR2+I1QLW/O8riOos+WmTG6bMMuC5D+4xjnGF2jfsEOEK2Tm8vbWaD\n",
       "J8j3vpZlW3o148BN2qrjlfTcIM0Bg6DYadOuefp6zt33tCEsJOXEPinaC7tzzqd0e1iMp2ZJqd7X\n",
       "K7AHlmT334Y9wqe7yYLexYmgs6fgkYUk8NvUv0cfZJiF+fktad+9OIbbyuU5wkRTJUlviuLWYhZl\n",
       "qPvcLTvGQ7cSgIeqgL1JmClDh7IKxJtKC1gnhlYnfhqsTzXCqtpD9VeyFBqbPVbB6/ga42O/Yeg0\n",
       "7flPXPMJAr/BmmPxxYHsIaib/gEMlTDXGCJncxRsFWcweFa9vrHmRRoJ3dh1gpvHx09QYqPOdLaX\n",
       "fv+kyVIzUpUBDeS8+LX9sBHo/ByJLtuZx4EFJep4E7yc9oBC5Ee1XoFba+BVog39grKjuH4NcNsP\n",
       "Rs5i0u6RJ5XLORc7GAAJ77q7t1PNbikE40JYk1lJXcvnbeNDJkicY6BkxY0jKE0bfIXacCWnlEy2\n",
       "FRHH4ARUflnGrHiKAvXJIzbpNEn5Nu/4AAADAADxgAAAAL5BnkpFFSwj/wAAAwAAAwAAT7c8NpUu\n",
       "9/rG8vbfTDragVcObSzpAISfZXDO/lpSpULzMsfvSscIOYTeXACz90GgBMvhxwQfIEarQVbaQGj1\n",
       "vsJDZDzH0Wb9uLc/I9EO6VaA6d5wytIQ6YZk5Kjr1J8HanVQJj7N/ZJMogogdlrl8DjTeVzO5Dk3\n",
       "3Q16jHpPqtQbjVhrWrkZfjtaKUNErmCDM/5Ollmh1Y2lF1WkXEAZ0P294kkAAAMAAAMAALuAAAAA\n",
       "mwGea2pH/wAAAwAAAwAAfDKiIuAZHki8NEU4dtpV/nCVQAeh3Z2pLnv2ZIPF6Yu2ndqt6jXzw4M3\n",
       "S/Uw1umWFJAnMfK8GVZayJKXRzaX1zuh4EmyhMGiz7p4A2hJU6v/FSrn5GkZgSpLCSWuCjH4B8Lb\n",
       "O1a9X2b1EuWjE2cb4gocJOmUjRRxxGBcaCG36jcCSytQcTAAAAMAAAzJAAACQUGacEmoQWyZTAhf\n",
       "//6MsAAAAwAAAwADvemdZ8OIAGzyxVSnq4tjmXTYWGnMQYRqbIWm5J3+Xal7BlrinWld8wLBo7aw\n",
       "tYFxMCAePcpSnQA6cwH7GntL6SiD9KBIc0Em7Xhh0mUuXqRQKRN+PDLJVEZWaXxi7bA5CiXd6eU0\n",
       "XBOtAzOOxhbPNUqHUb+ZyY5Kzz5AjytgeVDhFVDlND5564FHAGkiyL84QadztW1lL6W5+4ZH8ahT\n",
       "bIY1o1cDDZZ17zP4mrd3AHc+Z/GSp12JraDi4eW/fj7ah7c+Mlp2K21JEb16F//z3dveB34U1tju\n",
       "qvrfRmn6fRtbev+NNw9wzSREzRe3F9BQE6UM6VLPhlW2P5zOT8gjJLX7nmGnnK4CxUQcUOu9O8hI\n",
       "KHe0PzkiIiffcVdt5DUugJqy809k/FAyGNKNI5pWTU5ECvJxWT6e/jTDACae6UVebteFnZdFwVkh\n",
       "xrC/zuY22h0Z/ReBSnncPgNoKJQLNrGnpcC7ztvdWUUpVErI758U1u54Fl/1zfxMuNGRYzorUoEv\n",
       "y9R7LSTtqCwbjnZPXn557ovSBM2OcOSVIaaezxj2guvpzKbIyuDw3lPn/LTVvVyG8AAFjIpC+rPf\n",
       "VlKzjGWXaa18kOTmA7SoII46E1U2sMwTyoJ5F7//qkVB8CM2qqELiklUOxVBZkjIO4ZAdJYQIHJC\n",
       "KIVuBrtAFnbvAvr9c6IXVL2h5PTkc2ioNuupqYzxN9JRF2zMW9aWZ3yFzsqPKoAAAAMAAYsAAAD2\n",
       "QZ6ORRUsI/8AAAMAAAMAATXk0nf3OOIATOq059TjwJeX4rXDt0ZuKxAnUxbQVkis/+K4QFO+SPEj\n",
       "JfHthqPJsvsJLs0oXA0RXQ1Cnzx4DXNRRhbAzA0uspzQ6JzEpTcglCS60lapEESphc+Es/Cc1Z52\n",
       "UXFtre/0/Nqv4YvQHcwKPa1CkO3hr1IOzRWvv4iHnrvbeQh34glt8mcARa0tVVawid/wCDUY9YC5\n",
       "db+b0QOvQn/sVRToCBEJLOVYf1pwZ3JzzxG4+v03cYpDclHBMbxVHYpnvUmTm6YdRjgY6AUtDyOR\n",
       "/rq9pm0yjlC1AAADAAADAAxZAAAAmAGerXRH/wAAAwAAAwAAeRf3x7WhpawJ+VLTt/uDgFcnanO4\n",
       "gak3jnsiRi3b/o9PgDJcuDTbMjs5Kj5NbiV7pAZ7DTD2lp4dE1xH3RvSxuiqqXoQAWr+w7NXUrf7\n",
       "VZCYbAK8AVdWv6GycrQr3UtqEGBv2OSc7pR5YZ46aFTQgsc9VJBlRxW8L79O9xTTIuv36AAAAwAA\n",
       "AwFbAAAAoAGer2pH/wAAAwAAAwAB5vSBQAjIvSF1WMAVOfzbyOtPzCzoYzK/0s1qM17hYft5QW4F\n",
       "7ll6iFimWFievLSEDRRSc4rkJ4aK6DWAJYvSLQzMRD6mbBGuHotS12uKz0mzRgZOhGGGye5R7Ynx\n",
       "lHoYMfcZ49Qx9rtknzmwqCoC2V6PLtPkBQtUb6mZS/FN0FN67zaMoWv7mmYAAAMAAAMAGBEAAAK1\n",
       "QZqzSahBbJlMCFf//jhAAAADAAADADn5yDTF9AADfJ83QraNN1+pDQ9S0SqKx8SJWfX5E39jrWx5\n",
       "oMO7yYEPpNpEPAh2PXOhpo0Un2EN4gQZ7mV3kisUtChx69LsX22RxZt9Wi+pse79n+iFbu1GZm70\n",
       "Z/2SdwlcxI4kDjBx7HfZ3OhIWJ1asilLmuKn5lMvGqXix2z0DK3ydrPSMcNIEbjbiabzMRsMTpnP\n",
       "K4KbaldC/rX3+OHdVUjJG9kDlWhXd3be2VEP1R2TB5QEEqdRH+eu8nwECLJypRylstjSLCx85IER\n",
       "GmYD1l8SAmXn4forxMD98+ANYmVWj7HIM/Q/1NFUWzh8zx5GeZ68yHtyjziEJT0mYN8eTOhrY2U/\n",
       "HyQBcp6Qx5nCBZs/7K9QFQcnnTIiWTd3KLkUItlZkRtcbwrgdU0i9czTtsc13AU9FrIZrFTU7dFH\n",
       "omb5S9gzOu5iYjVOh1kIm95LSMIL4rO0khjhGFG15pfOC9521W9nzytHxDan6sKfHVwcLrLwsmJ4\n",
       "VbbBSjm5Tz/1466P8dfyyiV/HC50FaI1Y7vvq8AXOCYld156q7wDBd3oUBTMPoieueQb7sSJaM1Z\n",
       "Afr51V2lPYvJNim6F08/MaMWu8Pl2rf8AtGlXziID53/MffIygr6b4qq+GgRYAdC9O079g75lWSG\n",
       "M56hV3hXDJXHKlXZUhvj5zpNJ5ouEo1ljzGhGkQTM/bLyf3UGtzPZBn3WuMH7l5/7Gr1dPbwhgke\n",
       "sn5SZrNU99xchDzpceBbdSuMbJI+2ybq5d8UZLz0uq7KZv4IGxlOezo41sL+RftA1YnFk/SRiS5e\n",
       "Mu410XkVxgf98/YW323VugXqVY+IzcG8/Eiegsb3/zWY9+TukG0KIbuM6bcE0cloLZ/htAWzctC9\n",
       "rhdzX/MThnphAAAA4EGe0UUVLCP/AAADAAADAATXkzpjWcJiAAnTx+SwRIlax7EGrMT5GjOS2A//\n",
       "XfQIFiOA6kkc6GS6cdfxivrouMrGcrNX8pUSrCUr8kzJXsDLYSMeiysh5vTCXD/fa8ol8E8wcZFs\n",
       "u+A5MeErITcknqs79lBwNwlBb2ph81dQWriGWiSHXCkSimwuoQIdli0BadlDvLZNCu3hBAdheYdO\n",
       "W2OmBIxXT7JvI+lM3oVUOLyyQlYubrpf2nOBLiScfSMleudc1PV5WZ5+DJR/Xvg7EUVRx+0a18de\n",
       "AAADAAADAArZAAAAtAGe8mpH/wAAAwAAAwAHm7t3jyPbGZhZAATPVgCz3ktKrBMoBGzAvCsP/s7r\n",
       "tOfgdWO6Rhd7j4HFB9DgKnsoA41zbiFcne/fUYckMXspUIrs5ES/DzaL2ixQTIflF0yYqZ9Z44DV\n",
       "ZF7eYvEPOSt/dG7LMtyj7WQNMkLnpfIKky5VSWzUYOgAzuqtb6C2aWZZbzlrYsGXygUfYtnwFSJ+\n",
       "IbAA5oNBOqoYPbfVi8AAAAMAAAMB0wAAAjBBmvVJqEFsmUwUTCv//jhAAAADAAADADnYwF6tS3na\n",
       "0E9gRPgA4d7D4mAhG40VqVA/54zNDfVRgoNcdeXxZTQWfKOwe8ReWQRQ3oCHaAV8DmaAk0iBcueA\n",
       "9uwA0+az3gI7ULcGcC+JfsJ86vwZGFJ6SW1cxGsrddRPNg9KPHYEfsxgYwl1qibRomLCo5RMqV3z\n",
       "i1zadQzqmuF8hVWV1hlOXh8u0CT9uAFH1Po+sdSk0SoXeRpQx+nW902qv1pXZ1seH7J9uLHOK+r3\n",
       "+pnQx/QsR3MMKUBwWhnUKvAa6nyV29rQTn8UR9NkMUhb4tqpl7zKtIe6Ze3+87WA7CfhToS7ooEK\n",
       "3o/VAQ/pTCqGdKKnle6NgkEiUxQ7A3IzLX3tvCZSU5DZkRwlqbyQaHrt/9d9ekE+O261hVe/80TP\n",
       "mbkzweTktGgKyDrWNV5BLMEU4mJCbSg3qo4AXrFvv8Wy0TQDvGTG11G0kFRUdx7uvN2eJTLYThIv\n",
       "oY8gluHj9BjNCmi1mePmN7gPFt1xePCxqwtFPB/9Fu6mc3nXemtw1JAdHFZk/QWxyOF4VWBV7Pz8\n",
       "utqJLDQbMids1Zw/ZswP7LG3FTw4pU0O545XE3EoTXfmP/GJRTOsTKRrwc0zhvjnB0l24L3XF/pB\n",
       "G7qdApnQBKKY8Ryw4Igl2r9nIR3KeFUZxLcDCfWJY8ws2EnYQikc8NVQOHgBIWAjwMLEGTMHdUkF\n",
       "EVQnI2OOdv6KEngYM2WVQAAAAOEBnxRqR/8AAAMAAAMAB5PgtfK/zx6nbUgoh/s4ciUlRuI5aAFb\n",
       "K8sRiWEn8VN+BNPNh8zuJHYRJDkPja9MH6vsr6XmYedfXOXJ1dNhuBvq4TQRzE0Njv2tGgbzyPIn\n",
       "2Se5nrUR1QCYMSMZeOhUa3E/zfnlBGmDoVJex8znrFiPnKoVNl/q1toRTMaz1gsTI+tI95ay6p5m\n",
       "Lp5EYs/vBoS7ICp+HKlC8SfF0i/CSezSSWDxwAETh/mTtbQvBunCAN/bn4qe8E7COgz//Nk17u+H\n",
       "fNb4EIInYBNkIAAAAwAAJGAAAANVQZsYSeEKUmUwIT/98QAAAwAAAwACLcPmyVx06egANVQxKxw3\n",
       "JUrNcpMaKpDw7JgNayC2YTp/NktWLiG/YNW4pxGSsDN/qyJFAGWrvwJw6ux0anvepF8ZKIPBV+DD\n",
       "H/rR+wfSZVwsWe2rhVYmjtUNVG47Rv2QJzabU4zUkhNlAvFjUXccLKVrZ6SccJ9BItU5fnHls79H\n",
       "Rjt9eSx3LU9vEyoR06I3zaftvC3bjrSWryGlveYndrUMWrkMFtDIRQYS+y/d/iCX+vaakQzrgBQ/\n",
       "Am2jsoyxmRbaruULB+TWnh0i7h33n09pYJ5cgXn41asZFBuFj+9ukkd63gdLF3/fnRV7XytfOPH6\n",
       "6FLfU+TnCg+H1NHEGBo5IPG0Ovt8bt1uYsaQCRKwuUv9aL+QzbGXS5kV/baWq35q7R4ByXM9Duzu\n",
       "qNig6LZGydGw1HW6kQTsEVkr9b0sxsMeqdadpcBkoyGnoc7fCFzBYPM1n3wOV4RJBSpNEmuM8NXI\n",
       "uCyidp9yIpRoaefP8P/h4kQfCZ00FICYNTNAuapXay6g+CX1GLDJNUn3Zttk+joSiKr1j98J/MUQ\n",
       "MboOvPcunk3giE/9pDUXVfMsu6sHjwohTazErepXQSE65mJP2OOgFvaCZOAhIQrNpc4oW4UV1hwx\n",
       "/+Dwizg5CbXA7zV4UJgSMTNgY+Ry3fQwSeRMPLI+rJfEz1swsnh6doZ+e4kNTp04EoGtEd7mxpEh\n",
       "01lgJUpy8gKBluAFu/guj7E9X/FPggGM2wvrG//q/wmFbE9VQexVmzVdY4arBIuDaY8vzRKFCC6G\n",
       "O1wLwcQJvG0vQ19vCzQ4rMoYjR5MY2Bpp3hOOW0dLJBHkX5nWG+Jt617tLTByuSB0mTV88z3QTCj\n",
       "/d5+rxob4sGb20Jo31/DXVrb2LOOZGID0pU3mQMVh5eqy6YPdoIDyHKGu4eb+HgbvOLspx8FfQtc\n",
       "ohgYY2lj+osvOhZ7fGOF9om4sM4+FacZAr76Y8x766nAz9zI1zaVv/a9xJxJao82yT27YeEOHuK7\n",
       "Fms1iy7Z5yXK16YfbnFsFEKpJY68z40BBnfFA/5IRE6xv+evi1E7zm+Pf9ouvdO0Qh8t4vPdAJ1o\n",
       "USRRbWgbospW5x3Ou3/IsMWX4QAAATZBnzZFNEwj/wAAAwAAAwASqRx7BDp7ADjCfCwdJQCttyKw\n",
       "XqroJkmcz6+ub/M4AittqK+etkN4RGkfdYnoWiET6b3VIo9GLRtEhAVDJeKlhoHdfrDdy5y1PjGp\n",
       "2OzY2eINXfrr7RCL7ef5ruD6Ck2Dps2Jh2BnGpx4rFeFt1OxZjfkvnc9tBI1f55JW7NyViShNLDt\n",
       "YPklop57Q/KsdclT4TZlbm1BySXX7KK8DTiDNhMdYDXNNa7pdlVaOV/3TYjZzj5fbPlGsI30iEbi\n",
       "Cg/Qh888lNlRiJ/2CMFs3y5yq0tsxu/2VHO63IrCbfjhhhsvFp0wMOWw10OZFfxxd5kJpHWxrIAR\n",
       "TS9RJt64YRGHN6Swm429rSsFLskLjgmDN2WTV5vGrbg3eLyrUg1YAAADAAADAAoIAAAA4QGfV2pH\n",
       "/wAAAwAAAwAdoMVYTmCAQATHrTy4i7AzgMtmyOuspKOxNZ/G8pcJbWluhx2mxVafOm5LoljAP585\n",
       "sDv90Q006vsfRTvxO2xOet0gmZ5fMHySrBeGlgGblp89wj1OC3yCZ21h/UQ5fxKPzk+IQvykstM3\n",
       "ttYwzPAVVDoJ+KyUUwF0xIvd0rLxAit3y5quXQIf3pQDqHWChxJuvwgtMyuBoNKl9SOW4UwPBpwB\n",
       "RiAnOoCD7CvEKE936iktu8o7c1VfBlT72ubyohVus2w/uGHm+50L0h4AAAMAAAMBcQAAAZ1Bm1lJ\n",
       "qEFomUwIT//98QAAAwAAAwAIsq8o8d3gBAZmSSh2ToFdfxwnU4bnrErc4CqCburC1PNscW38iZtc\n",
       "sffVz2WArj7+zWzkDjiOaTRwqi7rg+DUyJ2pZX7N8wevafIapgcqE4ckPQUvhFUQQ6/p0sL/pR1m\n",
       "4zZ5ZAnivtF44lzOQu5wQrxFk+o7nvuRxd6nI0kYjvT9W9VvaowPkT/vIxg16zMwKhms7bw8S3zf\n",
       "gM1JCwJCVI0C+MBEws890klaYCoL87gSvdzE671aWPcgj+C7nyZUB/1BIO0ZgDye8AY+HOnUzQP5\n",
       "rUUaz6NPLAz0TfyXVn+DDGs1tY29aqmMo9PutO9bWEFXu0c1ooXFaTd0nfauE+nttFCY+tn95skl\n",
       "Vqc/wmP8ij03gjVuBbKNvdho2mNkEtZOb96oIbghukLDBnm8pOGAsV0lmEWJzvobf/ktHkysJUn5\n",
       "nfMTrWjqi5h/l3jAf38BRxOCE1x+rPScupMSGKSVR1CrNo7UwZKLkeniA1i34MB4fJnrULmZxT70\n",
       "pjljQb0BWSQojQAAAhNBm3tJ4QpSZTBREsf//IQAAAMAAAMA0sv+kXxO3ZSOPJ9EgypPC2UAC0r4\n",
       "NUy4pc/15Fo8BLJR7W16YMEaZarJmZNCCUb445tkZv6qlLmLivZR1oBQBemQXZKcV6b7EioV0Ax+\n",
       "Pw2Ym3YPRJFes5XhBN8ZGlgiujxBi9uL/8UzLhuMiq7fLKA7ARA+vlXpxgQ7EVh+m2QsYWH+cp+w\n",
       "TliJEZf4W7H92mjnsPkOqEIHGqbmCDN/6qVKMyqsJJgkyfK2Nx287pDLyyWePlFN3vlOWe+OOxhC\n",
       "SPp39EZROTpiRKJIteK3yl/FHNG0n2xU/TUMi7uX5+zevzvp+Oe+R6AL3lL7Ppv2Id+U6hh73JSS\n",
       "Kta/zj52nldPpjElXb59zgkdmjucFueT2cc4hR5TYHnv54bP4Is4zLHI3iwLpFHSM+epJxOL/9UF\n",
       "EexA4Urg3hpkwq7ZqZuCXceyBnIFU9kHJAVik5pO6iQf5EgTUhbhxinZPca63/Rmk6rA2wI2BMAA\n",
       "udz7pL+BvDv3+qSIsDeUss5JvZQ9H7lU9jY295ZlJze/fDeh1Dn1dv2pMAmGxiaGPtHvdxVxuq7t\n",
       "/U8x+vD2p8XG+zARVYwSJpLtHBKx++weMPHaAZOHxXaLE4ycdQZgOuMNmLjuZL51McROFdepMyhq\n",
       "xJdPAKHlkyh2lJ76Wm0n2qFjxCDIAI1B0nVQ0wH69IEAAADyAZ+aakf/AAADAAADAdB/4aC5egbG\n",
       "M+HPvAAE5kzjBnuzhj7Q6hptYLh1VPKMMK8BVYmrrMjafR3bLAoTnR2mjddciu/TGIDxM+AArfvk\n",
       "L6tHlohNFHu9HslB60aZVmEXGXFU08+zK6wS3GjEcQQ9+LfzL0geb8uDLUSYphCpCszoNUXemmKM\n",
       "nsW826diI4wZbncoQLRPmh4CefZBwH8TtX+Ve2PStEDtYWJviT7Fs5b0+R7nMZlR+o4DC8FkU0Uo\n",
       "fsXaOUzqDckGVzI8L/6fyv0iZX4T3ViFV8XHdgFAxIPaHVk8ecpGQdyYgAAAAwAANuEAACJibW9v\n",
       "dgAAAGxtdmhkAAAAAAAAAAAAAAAAAAAD6AAAOEAAAQAAAQAAAAAAAAAAAAAAAAEAAAAAAAAAAAAA\n",
       "AAAAAAABAAAAAAAAAAAAAAAAAABAAAAAAAAAAAAAAAAAAAAAAAAAAAAAAAAAAAAAAAAAAgAAIYx0\n",
       "cmFrAAAAXHRraGQAAAADAAAAAAAAAAAAAAABAAAAAAAAOEAAAAAAAAAAAAAAAAAAAAAAAAEAAAAA\n",
       "AAAAAAAAAAAAAAABAAAAAAAAAAAAAAAAAABAAAAAA2AAAANgAAAAAAAkZWR0cwAAABxlbHN0AAAA\n",
       "AAAAAAEAADhAAAACAAABAAAAACEEbWRpYQAAACBtZGhkAAAAAAAAAAAAAAAAAAAyAAAC0ABVxAAA\n",
       "AAAALWhkbHIAAAAAAAAAAHZpZGUAAAAAAAAAAAAAAABWaWRlb0hhbmRsZXIAAAAgr21pbmYAAAAU\n",
       "dm1oZAAAAAEAAAAAAAAAAAAAACRkaW5mAAAAHGRyZWYAAAAAAAAAAQAAAAx1cmwgAAAAAQAAIG9z\n",
       "dGJsAAAAt3N0c2QAAAAAAAAAAQAAAKdhdmMxAAAAAAAAAAEAAAAAAAAAAAAAAAAAAAAAA2ADYABI\n",
       "AAAASAAAAAAAAAABAAAAAAAAAAAAAAAAAAAAAAAAAAAAAAAAAAAAAAAAAAAAGP//AAAANWF2Y0MB\n",
       "ZAAg/+EAGGdkACCs2UDYG2hAAAADAEAAABkDxgxlgAEABmjr48siwP34+AAAAAAcdXVpZGtoQPJf\n",
       "JE/FujmlG88DI/MAAAAAAAAAGHN0dHMAAAAAAAAAAQAAAtAAAAEAAAAAHHN0c3MAAAAAAAAAAwAA\n",
       "AAEAAAD7AAAB9QAAE/hjdHRzAAAAAAAAAn0AAAABAAACAAAAAAEAAAMAAAAAAQAAAQAAAAABAAAC\n",
       "AAAAAAEAAAMAAAAAAQAAAQAAAAABAAACAAAAAAEAAAMAAAAAAQAAAQAAAAABAAACAAAAAAEAAAMA\n",
       "AAAAAQAAAQAAAAACAAACAAAAAAEAAAMAAAAAAQAAAQAAAAABAAACAAAAAAEAAAQAAAAAAgAAAQAA\n",
       "AAABAAACAAAAAAEAAAUAAAAAAQAAAgAAAAABAAAAAAAAAAEAAAEAAAAAAQAAAwAAAAABAAABAAAA\n",
       "AAEAAAMAAAAAAQAAAQAAAAABAAACAAAAAAEAAAQAAAAAAgAAAQAAAAABAAACAAAAAAEAAAUAAAAA\n",
       "AQAAAgAAAAABAAAAAAAAAAEAAAEAAAAAAQAABAAAAAACAAABAAAAAAEAAAMAAAAAAQAAAQAAAAAB\n",
       "AAADAAAAAAEAAAEAAAAAAQAABAAAAAACAAABAAAAAAEAAAMAAAAAAQAAAQAAAAABAAAEAAAAAAIA\n",
       "AAEAAAAAAQAABQAAAAABAAACAAAAAAEAAAAAAAAAAQAAAQAAAAABAAAFAAAAAAEAAAIAAAAAAQAA\n",
       "AAAAAAABAAABAAAAAAEAAAIAAAAAAQAABQAAAAABAAACAAAAAAEAAAAAAAAAAQAAAQAAAAABAAAD\n",
       "AAAAAAEAAAEAAAAAAQAABQAAAAABAAACAAAAAAEAAAAAAAAAAQAAAQAAAAABAAAFAAAAAAEAAAIA\n",
       "AAAAAQAAAAAAAAABAAABAAAAAAEAAAUAAAAAAQAAAgAAAAABAAAAAAAAAAEAAAEAAAAAAQAAAwAA\n",
       "AAABAAABAAAAAAEAAAUAAAAAAQAAAgAAAAABAAAAAAAAAAEAAAEAAAAAAQAABQAAAAABAAACAAAA\n",
       "AAEAAAAAAAAAAQAAAQAAAAABAAACAAAAAAEAAAUAAAAAAQAAAgAAAAABAAAAAAAAAAEAAAEAAAAA\n",
       "AQAABQAAAAABAAACAAAAAAEAAAAAAAAAAQAAAQAAAAABAAADAAAAAAEAAAEAAAAAAQAAAgAAAAAB\n",
       "AAAEAAAAAAIAAAEAAAAAAQAAAwAAAAABAAABAAAAAAEAAAQAAAAAAgAAAQAAAAABAAAFAAAAAAEA\n",
       "AAIAAAAAAQAAAAAAAAABAAABAAAAAAEAAAUAAAAAAQAAAgAAAAABAAAAAAAAAAEAAAEAAAAAAQAA\n",
       "AwAAAAABAAABAAAAAAEAAAQAAAAAAgAAAQAAAAABAAADAAAAAAEAAAEAAAAAAQAAAwAAAAABAAAB\n",
       "AAAAAAEAAAMAAAAAAQAAAQAAAAABAAAFAAAAAAEAAAIAAAAAAQAAAAAAAAABAAABAAAAAAEAAAQA\n",
       "AAAAAgAAAQAAAAABAAADAAAAAAEAAAEAAAAAAQAABAAAAAACAAABAAAAAAEAAAUAAAAAAQAAAgAA\n",
       "AAABAAAAAAAAAAEAAAEAAAAAAQAAAwAAAAABAAABAAAAAAEAAAUAAAAAAQAAAgAAAAABAAAAAAAA\n",
       "AAEAAAEAAAAAAQAAAwAAAAABAAABAAAAAAEAAAMAAAAAAQAAAQAAAAABAAADAAAAAAEAAAEAAAAA\n",
       "AQAABQAAAAABAAACAAAAAAEAAAAAAAAAAQAAAQAAAAABAAADAAAAAAEAAAEAAAAAAQAAAwAAAAAB\n",
       "AAABAAAAAAEAAAMAAAAAAQAAAQAAAAAFAAACAAAAAAEAAAMAAAAAAQAAAQAAAAAEAAACAAAAAAEA\n",
       "AAUAAAAAAQAAAgAAAAABAAAAAAAAAAEAAAEAAAAAAQAABAAAAAACAAABAAAAAAEAAAQAAAAAAgAA\n",
       "AQAAAAABAAAEAAAAAAIAAAEAAAAAAQAAAwAAAAABAAABAAAAAAEAAAQAAAAAAgAAAQAAAAABAAAD\n",
       "AAAAAAEAAAEAAAAAAQAABQAAAAABAAACAAAAAAEAAAAAAAAAAQAAAQAAAAABAAADAAAAAAEAAAEA\n",
       "AAAAAQAABAAAAAACAAABAAAAAAEAAAQAAAAAAgAAAQAAAAABAAADAAAAAAEAAAEAAAAAAQAABQAA\n",
       "AAABAAACAAAAAAEAAAAAAAAAAQAAAQAAAAABAAADAAAAAAEAAAEAAAAAAQAAAwAAAAABAAABAAAA\n",
       "AAEAAAQAAAAAAgAAAQAAAAABAAADAAAAAAEAAAEAAAAAAQAAAwAAAAABAAABAAAAAAEAAAMAAAAA\n",
       "AQAAAQAAAAABAAAFAAAAAAEAAAIAAAAAAQAAAAAAAAABAAABAAAAAAEAAAQAAAAAAgAAAQAAAAAB\n",
       "AAACAAAAAAEAAAQAAAAAAgAAAQAAAAABAAADAAAAAAEAAAEAAAAAAQAABAAAAAACAAABAAAAAAEA\n",
       "AAQAAAAAAgAAAQAAAAABAAADAAAAAAEAAAEAAAAAAQAAAgAAAAABAAAEAAAAAAIAAAEAAAAAAQAA\n",
       "AwAAAAABAAABAAAAAAEAAAQAAAAAAgAAAQAAAAABAAAFAAAAAAEAAAIAAAAAAQAAAAAAAAABAAAB\n",
       "AAAAAAEAAAUAAAAAAQAAAgAAAAABAAAAAAAAAAEAAAEAAAAAAQAABAAAAAACAAABAAAAAAEAAAUA\n",
       "AAAAAQAAAgAAAAABAAAAAAAAAAEAAAEAAAAAAQAAAwAAAAABAAABAAAAAAEAAAUAAAAAAQAAAgAA\n",
       "AAABAAAAAAAAAAEAAAEAAAAAAQAAAwAAAAABAAABAAAAAAEAAAQAAAAAAgAAAQAAAAABAAAFAAAA\n",
       "AAEAAAIAAAAAAQAAAAAAAAABAAABAAAAAAEAAAMAAAAAAQAAAQAAAAABAAAEAAAAAAIAAAEAAAAA\n",
       "AQAABQAAAAABAAACAAAAAAEAAAAAAAAAAQAAAQAAAAABAAADAAAAAAEAAAEAAAAAAQAABQAAAAAB\n",
       "AAACAAAAAAEAAAAAAAAAAQAAAQAAAAABAAAEAAAAAAIAAAEAAAAAAgAAAgAAAAABAAAEAAAAAAIA\n",
       "AAEAAAAAAQAABAAAAAACAAABAAAAAAEAAAMAAAAAAQAAAQAAAAABAAADAAAAAAEAAAEAAAAAAQAA\n",
       "AwAAAAABAAABAAAAAAEAAAQAAAAAAgAAAQAAAAABAAADAAAAAAEAAAEAAAAAAQAAAwAAAAABAAAB\n",
       "AAAAAAEAAAUAAAAAAQAAAgAAAAABAAAAAAAAAAEAAAEAAAAAAQAAAwAAAAABAAABAAAAAAEAAAIA\n",
       "AAAAAQAAAwAAAAABAAABAAAAAAEAAAMAAAAAAQAAAQAAAAABAAAEAAAAAAIAAAEAAAAAAQAABAAA\n",
       "AAACAAABAAAAAAEAAAQAAAAAAgAAAQAAAAABAAAFAAAAAAEAAAIAAAAAAQAAAAAAAAABAAABAAAA\n",
       "AAEAAAMAAAAAAQAAAQAAAAABAAADAAAAAAEAAAEAAAAAAgAAAgAAAAABAAADAAAAAAEAAAEAAAAA\n",
       "AgAAAgAAAAABAAADAAAAAAEAAAEAAAAAAQAABQAAAAABAAACAAAAAAEAAAAAAAAAAQAAAQAAAAAB\n",
       "AAAEAAAAAAIAAAEAAAAAAgAAAgAAAAABAAAEAAAAAAIAAAEAAAAAAgAAAgAAAAABAAADAAAAAAEA\n",
       "AAEAAAAAAQAABQAAAAABAAACAAAAAAEAAAAAAAAAAQAAAQAAAAABAAAEAAAAAAIAAAEAAAAAAQAA\n",
       "AwAAAAABAAABAAAAAAEAAAQAAAAAAgAAAQAAAAABAAAFAAAAAAEAAAIAAAAAAQAAAAAAAAABAAAB\n",
       "AAAAAAEAAAMAAAAAAQAAAQAAAAABAAAFAAAAAAEAAAIAAAAAAQAAAAAAAAABAAABAAAAAAEAAAQA\n",
       "AAAAAgAAAQAAAAABAAAEAAAAAAIAAAEAAAAAAQAABQAAAAABAAACAAAAAAEAAAAAAAAAAQAAAQAA\n",
       "AAABAAAFAAAAAAEAAAIAAAAAAQAAAAAAAAABAAABAAAAAAEAAAMAAAAAAQAAAQAAAAABAAAFAAAA\n",
       "AAEAAAIAAAAAAQAAAAAAAAABAAABAAAAAAEAAAMAAAAAAQAAAQAAAAABAAAFAAAAAAEAAAIAAAAA\n",
       "AQAAAAAAAAABAAABAAAAAAEAAAUAAAAAAQAAAgAAAAABAAAAAAAAAAEAAAEAAAAAAQAABQAAAAAB\n",
       "AAACAAAAAAEAAAAAAAAAAQAAAQAAAAABAAADAAAAAAEAAAEAAAAAAQAABQAAAAABAAACAAAAAAEA\n",
       "AAAAAAAAAQAAAQAAAAABAAAFAAAAAAEAAAIAAAAAAQAAAAAAAAABAAABAAAAAAEAAAUAAAAAAQAA\n",
       "AgAAAAABAAAAAAAAAAEAAAEAAAAAAQAABAAAAAACAAABAAAAAAEAAAUAAAAAAQAAAgAAAAABAAAA\n",
       "AAAAAAEAAAEAAAAAAQAAAwAAAAABAAABAAAAAAEAAAUAAAAAAQAAAgAAAAABAAAAAAAAAAEAAAEA\n",
       "AAAAAQAAAwAAAAABAAABAAAAAAEAAAMAAAAAAQAAAQAAAAABAAACAAAAAAEAAAUAAAAAAQAAAgAA\n",
       "AAABAAAAAAAAAAEAAAEAAAAAAQAAAwAAAAABAAABAAAAAAEAAAUAAAAAAQAAAgAAAAABAAAAAAAA\n",
       "AAEAAAEAAAAAAwAAAgAAAAABAAAEAAAAAAIAAAEAAAAAAQAABQAAAAABAAACAAAAAAEAAAAAAAAA\n",
       "AQAAAQAAAAABAAAFAAAAAAEAAAIAAAAAAQAAAAAAAAABAAABAAAAAAEAAAMAAAAAAQAAAQAAAAAB\n",
       "AAADAAAAAAEAAAEAAAAAAQAABAAAAAACAAABAAAAAAIAAAIAAAAAAQAABQAAAAABAAACAAAAAAEA\n",
       "AAAAAAAAAQAAAQAAAAABAAAFAAAAAAEAAAIAAAAAAQAAAAAAAAABAAABAAAAAAEAAAQAAAAAAgAA\n",
       "AQAAAAABAAAFAAAAAAEAAAIAAAAAAQAAAAAAAAABAAABAAAAAAEAAAMAAAAAAQAAAQAAAAABAAAE\n",
       "AAAAAAIAAAEAAAAAAQAAAwAAAAABAAABAAAAAAEAAAMAAAAAAQAAAQAAAAABAAADAAAAAAEAAAEA\n",
       "AAAAAQAABAAAAAACAAABAAAAAAEAAAQAAAAAAgAAAQAAAAABAAAEAAAAAAIAAAEAAAAAAgAAAgAA\n",
       "AAABAAAFAAAAAAEAAAIAAAAAAQAAAAAAAAABAAABAAAAAAEAAAQAAAAAAgAAAQAAAAABAAAFAAAA\n",
       "AAEAAAIAAAAAAQAAAAAAAAABAAABAAAAAAEAAAUAAAAAAQAAAgAAAAABAAAAAAAAAAEAAAEAAAAA\n",
       "AQAABAAAAAACAAABAAAAAAEAAAMAAAAAAQAAAQAAAAABAAAFAAAAAAEAAAIAAAAAAQAAAAAAAAAB\n",
       "AAABAAAAAAEAAAUAAAAAAQAAAgAAAAABAAAAAAAAAAEAAAEAAAAAAQAABAAAAAACAAABAAAAAAEA\n",
       "AAMAAAAAAQAAAQAAAAABAAAFAAAAAAEAAAIAAAAAAQAAAAAAAAABAAABAAAAAAEAAAMAAAAAAQAA\n",
       "AQAAAAABAAAFAAAAAAEAAAIAAAAAAQAAAAAAAAABAAABAAAAAAEAAAQAAAAAAgAAAQAAAAABAAAD\n",
       "AAAAAAEAAAEAAAAAAQAABAAAAAACAAABAAAAAAEAAAUAAAAAAQAAAgAAAAABAAAAAAAAAAEAAAEA\n",
       "AAAAAQAAAwAAAAABAAABAAAAAAEAAAQAAAAAAgAAAQAAAAABAAAEAAAAAAIAAAEAAAAAAQAABAAA\n",
       "AAACAAABAAAAAAEAAAQAAAAAAgAAAQAAAAABAAADAAAAAAEAAAEAAAAAAQAABAAAAAACAAABAAAA\n",
       "AAEAAAUAAAAAAQAAAgAAAAABAAAAAAAAAAEAAAEAAAAAAQAABQAAAAABAAACAAAAAAEAAAAAAAAA\n",
       "AQAAAQAAAAABAAADAAAAAAEAAAEAAAAAAQAABQAAAAABAAACAAAAAAEAAAAAAAAAAQAAAQAAAAAB\n",
       "AAAFAAAAAAEAAAIAAAAAAQAAAAAAAAABAAABAAAAAAEAAAUAAAAAAQAAAgAAAAABAAAAAAAAAAEA\n",
       "AAEAAAAAAQAABAAAAAACAAABAAAAAAEAAAQAAAAAAgAAAQAAAAABAAADAAAAAAEAAAEAAAAAAQAA\n",
       "BQAAAAABAAACAAAAAAEAAAAAAAAAAQAAAQAAAAABAAADAAAAAAEAAAEAAAAAAQAABAAAAAACAAAB\n",
       "AAAAAAEAAAUAAAAAAQAAAgAAAAABAAAAAAAAAAEAAAEAAAAAAQAABAAAAAACAAABAAAAAAEAAAMA\n",
       "AAAAAQAAAQAAAAABAAADAAAAAAEAAAEAAAAAAQAABQAAAAABAAACAAAAAAEAAAAAAAAAAQAAAQAA\n",
       "AAABAAAFAAAAAAEAAAIAAAAAAQAAAAAAAAABAAABAAAAAAEAAAUAAAAAAQAAAgAAAAABAAAAAAAA\n",
       "AAEAAAEAAAAAAQAAAwAAAAABAAABAAAAAAEAAAUAAAAAAQAAAgAAAAABAAAAAAAAAAEAAAEAAAAA\n",
       "AQAABAAAAAACAAABAAAAAAEAAAMAAAAAAQAAAQAAAAABAAAFAAAAAAEAAAIAAAAAAQAAAAAAAAAB\n",
       "AAABAAAAAAEAAAQAAAAAAgAAAQAAAAABAAADAAAAAAEAAAEAAAAAAQAABQAAAAABAAACAAAAAAEA\n",
       "AAAAAAAAAQAAAQAAAAABAAAFAAAAAAEAAAIAAAAAAQAAAAAAAAABAAABAAAAAAEAAAQAAAAAAgAA\n",
       "AQAAAAABAAAFAAAAAAEAAAIAAAAAAQAAAAAAAAABAAABAAAAAAEAAAQAAAAAAgAAAQAAAAABAAAD\n",
       "AAAAAAEAAAEAAAAAAQAABAAAAAACAAABAAAAAAEAAAIAAAAAAQAAAwAAAAABAAABAAAAABxzdHNj\n",
       "AAAAAAAAAAEAAAABAAAC0AAAAAEAAAtUc3RzegAAAAAAAAAAAAAC0AAAFmAAAATbAAABWQAAAx0A\n",
       "AAPLAAABrwAAAmQAAAOnAAABXgAAAh0AAAP3AAABIwAAAiEAAAHVAAAC3wAAAUQAAAJWAAAD8gAA\n",
       "AZQAAAEwAAAB6AAAA/cAAAGRAAAA5QAAAMcAAAKBAAAA4AAAAqQAAADBAAACHgAAAzAAAAD9AAAA\n",
       "zgAAAc4AAAN+AAABJwAAALcAAADeAAACWwAAAQkAAACrAAACjAAAAKsAAAI3AAAAqwAAAk0AAADU\n",
       "AAAAlAAAAfgAAACzAAACSAAAAOEAAACdAAACpwAAAQoAAACzAAAAuAAAAroAAAEoAAAAqQAAALcA\n",
       "AAG7AAACvQAAARkAAACsAAAArQAAAeEAAACzAAACggAAATAAAACwAAAAxAAAAqgAAAEQAAAAvQAA\n",
       "ALgAAALMAAAA9AAAAJ8AAACnAAAB0gAAAKkAAAKiAAAA+QAAAJoAAACVAAACTgAAAUEAAAC6AAAA\n",
       "5gAAAbYAAALWAAABPAAAAM8AAAC+AAAC1AAAASgAAADIAAAAuAAAAf8AAADJAAABzQAAAkgAAAD0\n",
       "AAAAqAAAAewAAAC6AAAB7AAAANcAAACXAAACcQAAAQsAAACYAAAAlwAAAkAAAADzAAAAkQAAAIsA\n",
       "AAINAAAAmwAAAgQAAADUAAAAnQAAAcoAAAC5AAAB3gAAAKgAAAH8AAAArQAAAs0AAAEhAAAAtQAA\n",
       "AKsAAAKNAAAA9QAAAKkAAAJHAAAAvQAAAoQAAADxAAAAqwAAAscAAAEjAAAAsQAAAKwAAAJWAAAA\n",
       "ywAAAsMAAADvAAAAsgAAAJoAAAJLAAAAwQAAAj0AAAC2AAACDQAAAJ0AAAMAAAAA/wAAAKQAAACz\n",
       "AAAByQAAANAAAAHZAAAAtAAAAcQAAAC0AAABgQAAAXEAAAFQAAABZAAAAX0AAAG1AAAAqAAAAWkA\n",
       "AAF6AAABWQAAAZ8AAALZAAABOgAAANgAAACuAAADCAAAAR4AAACkAAACwgAAANgAAAC0AAACRAAA\n",
       "AOAAAACqAAACXQAAALkAAAKRAAAAvAAAAJ0AAAIuAAAArgAAAsAAAAD2AAAAmAAAAJQAAAIyAAAA\n",
       "owAAApIAAAD0AAAApQAAApMAAADbAAAAqQAAAiAAAAC4AAADAQAAARsAAAC5AAAAtgAAAgAAAADO\n",
       "AAACUAAAAKgAAAJOAAAA4gAAALMAAAJFAAAAugAAAecAAACoAAAB6wAAAK4AAALQAAABCgAAAKQA\n",
       "AACWAAACewAAAOQAAACVAAABegAAAlwAAACvAAAAkAAAAbYAAACvAAAB9gAAAMIAAACMAAAB/AAA\n",
       "ALYAAAB8AAABrgAAAJIAABijAAACzAAAALoAAACQAAABcAAAAK0AAAHxAAAAwQAAAJAAAAIhAAAA\n",
       "5QAAAJkAAACTAAACPgAAAOoAAACVAAAAggAAAjYAAADRAAAAxAAAAqAAAAEBAAAAqQAAAMwAAAHm\n",
       "AAAApgAAAlgAAADRAAAAjgAAAHAAAAG4AAAAfAAAAaEAAACWAAAAdQAAAfcAAACxAAAAaAAAAGYA\n",
       "AAF6AAAAdgAAAc0AAACEAAAAbAAAAfYAAACyAAAAbQAAAGIAAAGMAAAAawAAAhAAAAC9AAAAbgAA\n",
       "AGoAAAHJAAAAlAAAAGUAAADmAAAA3gAAAdcAAACOAAAAbAAAAiMAAACRAAAAfgAAAdsAAABtAAAB\n",
       "+wAAAH0AAAG4AAAAbgAAAf0AAACsAAAAggAAAbQAAACCAAABeQAAAJcAAAJFAAAAvQAAAIwAAACN\n",
       "AAAB1gAAAIcAAAEaAAABrwAAAJEAAAG0AAAAigAAAhQAAACyAAAAjwAAAf8AAAC4AAAAogAAAf8A\n",
       "AADDAAAAqgAAAtcAAAE/AAAAzAAAAMkAAAI3AAAA9AAAAjIAAADxAAAB3gAAAf4AAAKOAAABGwAA\n",
       "Aj8AAAJ9AAADpgAAAWYAAAU7AAACkwAAAToAAAFNAAAESgAAAZIAAAEgAAAC0gAAAeAAAAOTAAAB\n",
       "fwAAAQwAAAHcAAACEAAAAtYAAAEXAAAEEwAAAX8AAAD6AAAAyAAAAwgAAAD9AAAAuQAAAqQAAADF\n",
       "AAADWgAAAQ0AAADKAAADrwAAARgAAAC8AAAAtQAAAj4AAADBAAADBwAAAQ4AAACsAAAAoQAAApkA\n",
       "AADNAAAAlwAAAh8AAACqAAAAiAAAAqkAAAEGAAAAnAAAAJ0AAALCAAABAAAAAKAAAACtAAACKQAA\n",
       "ALQAAAKXAAABCgAAALgAAAClAAACNgAAAKQAAAKcAAABBwAAAKgAAAC4AAACRAAAASUAAAC5AAAA\n",
       "twAAAooAAAEVAAAAsAAAAKYAAAI9AAAAqQAAApoAAADeAAAAnwAAAJ8AAAJNAAAA8QAAAJ0AAACp\n",
       "AAACFgAAAScAAADIAAAA1AAAAlYAAAEPAAAA1wAAAsUAAAEIAAAAsAAAALgAAAIMAAAArQAAAnsA\n",
       "AAEJAAAAqwAAALcAAAHRAAAArQAAAcsAAACwAAABSwAAAj4AAADSAAAAjAAAAJAAAAGOAAAAkAAA\n",
       "AfEAAADpAAAAigAAAH4AAAEgAAABEgAAAUAAAAHHAAAApwAAAJoAAAJSAAAA8QAAAJsAAAClAAAC\n",
       "hwAAARIAAAChAAAAqwAAAh8AAAC4AAAB/QAAAKgAAAJAAAAA3AAAAKIAAADWAAAZ2AAABGAAAAE2\n",
       "AAAAxgAAAMoAAALZAAABAgAAALMAAAC3AAACwAAAAMkAAACyAAACvwAAAP4AAACeAAAAqgAAAiYA\n",
       "AAC2AAACUAAAANIAAADFAAAB8AAAAKgAAAHXAAAAtAAAAhgAAACsAAACMgAAANwAAACvAAACLAAA\n",
       "ALoAAACnAAACWQAAANIAAAC4AAABjwAAAZsAAAKeAAABFgAAAMAAAAC7AAACtQAAAPYAAACxAAAD\n",
       "BgAAAPUAAACXAAAArQAAAtMAAADhAAAAmQAAAJcAAAKVAAAAvwAAAJIAAAJtAAAAqgAAAu0AAADc\n",
       "AAAAlAAAAJsAAALwAAAA3wAAAIgAAACqAAACrwAAAM0AAACpAAACAQAAALgAAALIAAABCAAAAMAA\n",
       "AACmAAACSQAAALcAAALlAAAA/gAAAKAAAACtAAACiwAAAMgAAACxAAACBQAAALUAAAKOAAAA3wAA\n",
       "ALkAAAMHAAABCwAAAKMAAACrAAACIwAAAJ4AAAJLAAAAygAAAKEAAAJBAAAAsQAAAJ8AAAIZAAAA\n",
       "qwAAAIUAAAIxAAAAqAAAAJYAAAG9AAAAlgAAAfEAAAClAAAAkAAAAfIAAADgAAAAiwAAAIcAAAIk\n",
       "AAAA6QAAAJoAAACUAAABjQAAAL0AAAIlAAAA9AAAAJsAAACgAAACBgAAAPAAAACfAAAAtAAAAn0A\n",
       "AAD4AAAAsgAAAM8AAAI7AAAAtgAAAH4AAAHsAAAAtwAAAIIAAAHBAAAAggAAAfYAAAC6AAAAdgAA\n",
       "AHMAAAFrAAAAegAAAa4AAACMAAAAggAAAlQAAADRAAAAcQAAAHEAAAG5AAAAgwAAAHAAAAF4AAAA\n",
       "dAAAAaMAAABoAAACEAAAAN8AAAB5AAAAbgAAAaYAAACmAAAAWwAAAHUAAAI9AAAA6QAAAHMAAABm\n",
       "AAABzQAAAHIAAALRAAAA3gAAAIQAAAB3AAACJgAAALIAAACKAAABoQAAAH0AAAJaAAAA1AAAAJMA\n",
       "AACHAAAB1gAAAL0AAACQAAAB2wAAAIEAAAJHAAAA1QAAAJIAAACCAAACIQAAAO0AAACXAAAAqAAA\n",
       "AdoAAADCAAAAnwAAAkUAAAD6AAAAnAAAAKQAAAK5AAAA5AAAALgAAAI0AAAA5QAAA1kAAAE6AAAA\n",
       "5QAAAaEAAAIXAAAA9gAAABRzdGNvAAAAAAAAAAEAAAAwAAAAYnVkdGEAAABabWV0YQAAAAAAAAAh\n",
       "aGRscgAAAAAAAAAAbWRpcmFwcGwAAAAAAAAAAAAAAAAtaWxzdAAAACWpdG9vAAAAHWRhdGEAAAAB\n",
       "AAAAAExhdmY1OC43Ni4xMDA=\n",
       "\">\n",
       "  Your browser does not support the video tag.\n",
       "</video>"
      ],
      "text/plain": [
       "<IPython.core.display.HTML object>"
      ]
     },
     "execution_count": 44,
     "metadata": {},
     "output_type": "execute_result"
    }
   ],
   "source": [
    "HTML(anim.to_html5_video())"
   ]
  },
  {
   "cell_type": "markdown",
   "metadata": {
    "slideshow": {
     "slide_type": "fragment"
    }
   },
   "source": [
    "**Observação:**\n",
    "$$\\theta_3 = tan^{-1} \\left( \\dfrac{B_y - A_y}{B_x - A_x} \\right) $$\n",
    "$$\\theta_4 = tan^{-1} \\left( \\dfrac{B_y}{B_x - d} \\right)$$"
   ]
  },
  {
   "cell_type": "markdown",
   "metadata": {
    "slideshow": {
     "slide_type": "subslide"
    }
   },
   "source": [
    "### Representação do laço de vetores nos mecanismos\n",
    "Essa aproximação tem algumas vantagens na síntese analítica de mecanismos. Também possui vantagens na análise de velocidades e acelerações dos mecanismos. <br>\n",
    "Esse laço termina em si mesmo fazendo com que a somatória dos vetores ao seu redor seja zero. Os comprimentos dos vetores são os comprimentos dos elos, todos conhecidos. A posição atual do mecanismo é definida pelo ângulo de entrada $\\theta_2$ por ser um mecanismo com 1 GDL. Queremos obter os ângulos desconehcidos $\\theta_3$ e $\\theta_4$."
   ]
  },
  {
   "cell_type": "markdown",
   "metadata": {},
   "source": [
    "![](figs4-6.png)"
   ]
  },
  {
   "cell_type": "markdown",
   "metadata": {
    "slideshow": {
     "slide_type": "fragment"
    }
   },
   "source": [
    "$$ \\vec{R}_{AO_2} + \\vec{R}_{BA} - \\vec{R}_{BO_4} - \\vec{R}_{O_4O_2} = 0$$"
   ]
  },
  {
   "cell_type": "markdown",
   "metadata": {
    "slideshow": {
     "slide_type": "fragment"
    }
   },
   "source": [
    "#### Vetores como números complexos"
   ]
  },
  {
   "cell_type": "markdown",
   "metadata": {},
   "source": [
    "![](figs4-7.png)"
   ]
  },
  {
   "cell_type": "markdown",
   "metadata": {
    "slideshow": {
     "slide_type": "fragment"
    }
   },
   "source": [
    "Podemos escrever o vetor $\\vec{R}_A$ como:\n",
    "$$\\vec{R}_A = r cos \\theta + i r sen \\theta $$ \n",
    "* O número imaginário $i$ é usado como um operador, não como um valor\n",
    "* Cada multiplicação do vetor $\\vec{R}_A$ por $i$ resulta em uma rotação anti-horária de $90^{\\circ}$\n",
    "Uma vantagem de usar a notação dos números complexos para representar vetores planos é obter a **Identidade de Euler**: \n",
    "$$ e^{\\pm i \\theta} = cos \\theta \\pm i sen \\theta $$\n",
    "Dessa forma, podemos escrever $\\vec{R}_A$ como: \n",
    "$$\\vec{R}_A = r e^{i \\theta}$$\n",
    "Observe que:\n",
    "$$\\dfrac{d e^{i \\theta}}{d \\theta} = i e^{i \\theta} $$"
   ]
  },
  {
   "cell_type": "code",
   "execution_count": 47,
   "metadata": {
    "slideshow": {
     "slide_type": "fragment"
    }
   },
   "outputs": [],
   "source": [
    "r,theta = symbols('r theta')"
   ]
  },
  {
   "cell_type": "code",
   "execution_count": 48,
   "metadata": {
    "slideshow": {
     "slide_type": "fragment"
    }
   },
   "outputs": [
    {
     "data": {
      "text/latex": [
       "$\\displaystyle r e^{i \\theta}$"
      ],
      "text/plain": [
       "r*exp(I*theta)"
      ]
     },
     "execution_count": 48,
     "metadata": {},
     "output_type": "execute_result"
    }
   ],
   "source": [
    "RA = r*E**(I*theta)\n",
    "RA"
   ]
  },
  {
   "cell_type": "markdown",
   "metadata": {
    "slideshow": {
     "slide_type": "fragment"
    }
   },
   "source": [
    "Para simplificar, poderíamos fazer a seguinte importação <br>\n",
    "```{ .py }\n",
    "from sympy import E,I\n",
    "```\n",
    "Como alternativa, podemos fazer da seguinte forma:"
   ]
  },
  {
   "cell_type": "code",
   "execution_count": 49,
   "metadata": {
    "scrolled": true,
    "slideshow": {
     "slide_type": "fragment"
    }
   },
   "outputs": [
    {
     "data": {
      "text/latex": [
       "$\\displaystyle 1$"
      ],
      "text/plain": [
       "1"
      ]
     },
     "execution_count": 49,
     "metadata": {},
     "output_type": "execute_result"
    }
   ],
   "source": [
    "log(E)"
   ]
  },
  {
   "cell_type": "code",
   "execution_count": 50,
   "metadata": {
    "slideshow": {
     "slide_type": "fragment"
    }
   },
   "outputs": [
    {
     "data": {
      "text/latex": [
       "$\\displaystyle -1$"
      ],
      "text/plain": [
       "-1"
      ]
     },
     "execution_count": 50,
     "metadata": {},
     "output_type": "execute_result"
    }
   ],
   "source": [
    "E**(I*pi)"
   ]
  },
  {
   "cell_type": "code",
   "execution_count": 51,
   "metadata": {
    "slideshow": {
     "slide_type": "fragment"
    }
   },
   "outputs": [
    {
     "data": {
      "text/latex": [
       "$\\displaystyle -1$"
      ],
      "text/plain": [
       "-1"
      ]
     },
     "execution_count": 51,
     "metadata": {},
     "output_type": "execute_result"
    }
   ],
   "source": [
    "I**2"
   ]
  },
  {
   "cell_type": "code",
   "execution_count": 52,
   "metadata": {
    "slideshow": {
     "slide_type": "fragment"
    }
   },
   "outputs": [
    {
     "data": {
      "text/latex": [
       "$\\displaystyle r e^{i \\theta}$"
      ],
      "text/plain": [
       "r*exp(I*theta)"
      ]
     },
     "execution_count": 52,
     "metadata": {},
     "output_type": "execute_result"
    }
   ],
   "source": [
    "RA = r*E**(I*theta)\n",
    "RA"
   ]
  },
  {
   "cell_type": "code",
   "execution_count": 53,
   "metadata": {
    "slideshow": {
     "slide_type": "fragment"
    }
   },
   "outputs": [
    {
     "data": {
      "text/latex": [
       "$\\displaystyle i r e^{i \\theta}$"
      ],
      "text/plain": [
       "I*r*exp(I*theta)"
      ]
     },
     "execution_count": 53,
     "metadata": {},
     "output_type": "execute_result"
    }
   ],
   "source": [
    "RA.diff(theta)"
   ]
  },
  {
   "cell_type": "markdown",
   "metadata": {
    "slideshow": {
     "slide_type": "fragment"
    }
   },
   "source": [
    "#### Equação vetorial em malha fechada nos mecanismos de quatro barras"
   ]
  },
  {
   "cell_type": "markdown",
   "metadata": {},
   "source": [
    "![](figs4-6.png)"
   ]
  },
  {
   "cell_type": "markdown",
   "metadata": {
    "slideshow": {
     "slide_type": "fragment"
    }
   },
   "source": [
    "$$ \\vec{R}_{AO_2} + \\vec{R}_{BA} - \\vec{R}_{BO_4} - \\vec{R}_{O_4O_2} = 0$$"
   ]
  },
  {
   "cell_type": "code",
   "execution_count": 55,
   "metadata": {
    "slideshow": {
     "slide_type": "fragment"
    }
   },
   "outputs": [],
   "source": [
    "a,b,c,d = symbols('a b c d')\n",
    "theta1,theta2,theta3,theta4 = symbols('theta1 theta2 theta3 theta4')"
   ]
  },
  {
   "cell_type": "code",
   "execution_count": 56,
   "metadata": {
    "slideshow": {
     "slide_type": "fragment"
    }
   },
   "outputs": [
    {
     "data": {
      "text/latex": [
       "$\\displaystyle a e^{i \\theta_{2}} + b e^{i \\theta_{3}} - c e^{i \\theta_{4}} - d e^{i \\theta_{1}}$"
      ],
      "text/plain": [
       "a*exp(I*theta2) + b*exp(I*theta3) - c*exp(I*theta4) - d*exp(I*theta1)"
      ]
     },
     "execution_count": 56,
     "metadata": {},
     "output_type": "execute_result"
    }
   ],
   "source": [
    "RAO2 = a*E**(I*theta2)\n",
    "RBA = b*E**(I*theta3)\n",
    "RBO4 = c*E**(I*theta4)\n",
    "RO4O2 = d*E**(I*theta1)\n",
    "Eq1 = RAO2 + RBA - RBO4 - RO4O2\n",
    "Eq1"
   ]
  },
  {
   "cell_type": "markdown",
   "metadata": {
    "slideshow": {
     "slide_type": "fragment"
    }
   },
   "source": [
    "Observa-se que $\\theta_1=0$:"
   ]
  },
  {
   "cell_type": "code",
   "execution_count": 57,
   "metadata": {
    "slideshow": {
     "slide_type": "fragment"
    }
   },
   "outputs": [
    {
     "data": {
      "text/latex": [
       "$\\displaystyle a e^{i \\theta_{2}} + b e^{i \\theta_{3}} - c e^{i \\theta_{4}} - d$"
      ],
      "text/plain": [
       "a*exp(I*theta2) + b*exp(I*theta3) - c*exp(I*theta4) - d"
      ]
     },
     "execution_count": 57,
     "metadata": {},
     "output_type": "execute_result"
    }
   ],
   "source": [
    "Eq1 = Eq1.subs(theta1,0)\n",
    "Eq1"
   ]
  },
  {
   "cell_type": "markdown",
   "metadata": {
    "slideshow": {
     "slide_type": "skip"
    }
   },
   "source": [
    "Passaremos a equação da malha fechada para a forma cartesiana (trigonométrica), para isso reescreveremos a equação utilizando senos e cossenos."
   ]
  },
  {
   "cell_type": "code",
   "execution_count": 58,
   "metadata": {
    "slideshow": {
     "slide_type": "fragment"
    }
   },
   "outputs": [
    {
     "data": {
      "text/latex": [
       "$\\displaystyle a \\left(i \\sin{\\left(\\theta_{2} \\right)} + \\cos{\\left(\\theta_{2} \\right)}\\right) + b \\left(i \\sin{\\left(\\theta_{3} \\right)} + \\cos{\\left(\\theta_{3} \\right)}\\right) - c \\left(i \\sin{\\left(\\theta_{4} \\right)} + \\cos{\\left(\\theta_{4} \\right)}\\right) - d$"
      ],
      "text/plain": [
       "a*(I*sin(theta2) + cos(theta2)) + b*(I*sin(theta3) + cos(theta3)) - c*(I*sin(theta4) + cos(theta4)) - d"
      ]
     },
     "execution_count": 58,
     "metadata": {},
     "output_type": "execute_result"
    }
   ],
   "source": [
    "Eq1 = (Eq1).rewrite(sin)\n",
    "Eq1"
   ]
  },
  {
   "cell_type": "markdown",
   "metadata": {
    "slideshow": {
     "slide_type": "skip"
    }
   },
   "source": [
    "Vamos expandir a Eq1:"
   ]
  },
  {
   "cell_type": "code",
   "execution_count": 59,
   "metadata": {
    "slideshow": {
     "slide_type": "fragment"
    }
   },
   "outputs": [
    {
     "data": {
      "text/latex": [
       "$\\displaystyle i a \\sin{\\left(\\theta_{2} \\right)} + a \\cos{\\left(\\theta_{2} \\right)} + i b \\sin{\\left(\\theta_{3} \\right)} + b \\cos{\\left(\\theta_{3} \\right)} - i c \\sin{\\left(\\theta_{4} \\right)} - c \\cos{\\left(\\theta_{4} \\right)} - d$"
      ],
      "text/plain": [
       "I*a*sin(theta2) + a*cos(theta2) + I*b*sin(theta3) + b*cos(theta3) - I*c*sin(theta4) - c*cos(theta4) - d"
      ]
     },
     "execution_count": 59,
     "metadata": {},
     "output_type": "execute_result"
    }
   ],
   "source": [
    "Eq1 = Eq1.expand()\n",
    "Eq1"
   ]
  },
  {
   "cell_type": "markdown",
   "metadata": {
    "slideshow": {
     "slide_type": "fragment"
    }
   },
   "source": [
    "Vamos separar a parte real da imaginária dessa equação:"
   ]
  },
  {
   "cell_type": "code",
   "execution_count": 60,
   "metadata": {
    "slideshow": {
     "slide_type": "fragment"
    }
   },
   "outputs": [
    {
     "data": {
      "text/latex": [
       "$\\displaystyle a \\cos{\\left(\\theta_{2} \\right)} + b \\cos{\\left(\\theta_{3} \\right)} - c \\cos{\\left(\\theta_{4} \\right)} - d$"
      ],
      "text/plain": [
       "a*cos(theta2) + b*cos(theta3) - c*cos(theta4) - d"
      ]
     },
     "execution_count": 60,
     "metadata": {},
     "output_type": "execute_result"
    }
   ],
   "source": [
    "Eq_real = Eq1.subs(I,0)\n",
    "Eq_real"
   ]
  },
  {
   "cell_type": "code",
   "execution_count": 61,
   "metadata": {
    "slideshow": {
     "slide_type": "fragment"
    }
   },
   "outputs": [
    {
     "data": {
      "text/latex": [
       "$\\displaystyle i a \\sin{\\left(\\theta_{2} \\right)} + i b \\sin{\\left(\\theta_{3} \\right)} - i c \\sin{\\left(\\theta_{4} \\right)}$"
      ],
      "text/plain": [
       "I*a*sin(theta2) + I*b*sin(theta3) - I*c*sin(theta4)"
      ]
     },
     "execution_count": 61,
     "metadata": {},
     "output_type": "execute_result"
    }
   ],
   "source": [
    "Eq_im = Eq1 - Eq_real\n",
    "Eq_im"
   ]
  },
  {
   "cell_type": "code",
   "execution_count": 62,
   "metadata": {
    "slideshow": {
     "slide_type": "fragment"
    }
   },
   "outputs": [
    {
     "data": {
      "text/latex": [
       "$\\displaystyle a \\sin{\\left(\\theta_{2} \\right)} + b \\sin{\\left(\\theta_{3} \\right)} - c \\sin{\\left(\\theta_{4} \\right)}$"
      ],
      "text/plain": [
       "a*sin(theta2) + b*sin(theta3) - c*sin(theta4)"
      ]
     },
     "execution_count": 62,
     "metadata": {},
     "output_type": "execute_result"
    }
   ],
   "source": [
    "Eq_im = Eq_im.subs(I,1)\n",
    "Eq_im"
   ]
  },
  {
   "cell_type": "markdown",
   "metadata": {
    "slideshow": {
     "slide_type": "skip"
    }
   },
   "source": [
    "Agora, vamos passar os termos que contenham $b$ para o lado esquerdo da equação:"
   ]
  },
  {
   "cell_type": "code",
   "execution_count": 63,
   "metadata": {
    "slideshow": {
     "slide_type": "fragment"
    }
   },
   "outputs": [
    {
     "data": {
      "text/latex": [
       "$\\displaystyle - a \\cos{\\left(\\theta_{2} \\right)} + c \\cos{\\left(\\theta_{4} \\right)} + d$"
      ],
      "text/plain": [
       "-a*cos(theta2) + c*cos(theta4) + d"
      ]
     },
     "execution_count": 63,
     "metadata": {},
     "output_type": "execute_result"
    }
   ],
   "source": [
    "bcostheta3 = solve(Eq_real,b*cos(theta3))[0]\n",
    "bcostheta3"
   ]
  },
  {
   "cell_type": "code",
   "execution_count": 64,
   "metadata": {
    "slideshow": {
     "slide_type": "fragment"
    }
   },
   "outputs": [
    {
     "data": {
      "text/latex": [
       "$\\displaystyle b \\cos{\\left(\\theta_{3} \\right)} = - a \\cos{\\left(\\theta_{2} \\right)} + c \\cos{\\left(\\theta_{4} \\right)} + d$"
      ],
      "text/plain": [
       "Eq(b*cos(theta3), -a*cos(theta2) + c*cos(theta4) + d)"
      ]
     },
     "execution_count": 64,
     "metadata": {},
     "output_type": "execute_result"
    }
   ],
   "source": [
    "Eq(b*cos(theta3),bcostheta3)"
   ]
  },
  {
   "cell_type": "code",
   "execution_count": 65,
   "metadata": {
    "slideshow": {
     "slide_type": "fragment"
    }
   },
   "outputs": [
    {
     "data": {
      "text/latex": [
       "$\\displaystyle - a \\sin{\\left(\\theta_{2} \\right)} + c \\sin{\\left(\\theta_{4} \\right)}$"
      ],
      "text/plain": [
       "-a*sin(theta2) + c*sin(theta4)"
      ]
     },
     "execution_count": 65,
     "metadata": {},
     "output_type": "execute_result"
    }
   ],
   "source": [
    "bsentheta3 = solve(Eq_im,b*sin(theta3))[0]\n",
    "bsentheta3"
   ]
  },
  {
   "cell_type": "code",
   "execution_count": 66,
   "metadata": {
    "slideshow": {
     "slide_type": "fragment"
    }
   },
   "outputs": [
    {
     "data": {
      "text/latex": [
       "$\\displaystyle b \\sin{\\left(\\theta_{3} \\right)} = - a \\sin{\\left(\\theta_{2} \\right)} + c \\sin{\\left(\\theta_{4} \\right)}$"
      ],
      "text/plain": [
       "Eq(b*sin(theta3), -a*sin(theta2) + c*sin(theta4))"
      ]
     },
     "execution_count": 66,
     "metadata": {},
     "output_type": "execute_result"
    }
   ],
   "source": [
    "Eq(b*sin(theta3),bsentheta3)"
   ]
  },
  {
   "cell_type": "markdown",
   "metadata": {
    "slideshow": {
     "slide_type": "skip"
    }
   },
   "source": [
    "Elevando essas duas equações ao quadrado e somando, eliminamos $\\theta_3$ das equações."
   ]
  },
  {
   "cell_type": "code",
   "execution_count": 67,
   "metadata": {
    "slideshow": {
     "slide_type": "fragment"
    }
   },
   "outputs": [
    {
     "data": {
      "text/latex": [
       "$\\displaystyle \\left(- a \\sin{\\left(\\theta_{2} \\right)} + c \\sin{\\left(\\theta_{4} \\right)}\\right)^{2} + \\left(- a \\cos{\\left(\\theta_{2} \\right)} + c \\cos{\\left(\\theta_{4} \\right)} + d\\right)^{2}$"
      ],
      "text/plain": [
       "(-a*sin(theta2) + c*sin(theta4))**2 + (-a*cos(theta2) + c*cos(theta4) + d)**2"
      ]
     },
     "execution_count": 67,
     "metadata": {},
     "output_type": "execute_result"
    }
   ],
   "source": [
    "b2 = bcostheta3**2 + bsentheta3**2\n",
    "b2"
   ]
  },
  {
   "cell_type": "code",
   "execution_count": 68,
   "metadata": {
    "slideshow": {
     "slide_type": "fragment"
    }
   },
   "outputs": [
    {
     "data": {
      "text/latex": [
       "$\\displaystyle b^{2} = \\left(- a \\sin{\\left(\\theta_{2} \\right)} + c \\sin{\\left(\\theta_{4} \\right)}\\right)^{2} + \\left(- a \\cos{\\left(\\theta_{2} \\right)} + c \\cos{\\left(\\theta_{4} \\right)} + d\\right)^{2}$"
      ],
      "text/plain": [
       "Eq(b**2, (-a*sin(theta2) + c*sin(theta4))**2 + (-a*cos(theta2) + c*cos(theta4) + d)**2)"
      ]
     },
     "execution_count": 68,
     "metadata": {},
     "output_type": "execute_result"
    }
   ],
   "source": [
    "Eq(b**2,b2)"
   ]
  },
  {
   "cell_type": "markdown",
   "metadata": {
    "slideshow": {
     "slide_type": "fragment"
    }
   },
   "source": [
    "Reorganizando: \n"
   ]
  },
  {
   "cell_type": "code",
   "execution_count": 69,
   "metadata": {
    "slideshow": {
     "slide_type": "fragment"
    }
   },
   "outputs": [
    {
     "data": {
      "text/latex": [
       "$\\displaystyle a^{2} \\sin^{2}{\\left(\\theta_{2} \\right)} + a^{2} \\cos^{2}{\\left(\\theta_{2} \\right)} - 2 a c \\sin{\\left(\\theta_{2} \\right)} \\sin{\\left(\\theta_{4} \\right)} - 2 a c \\cos{\\left(\\theta_{2} \\right)} \\cos{\\left(\\theta_{4} \\right)} - 2 a d \\cos{\\left(\\theta_{2} \\right)} - b^{2} + c^{2} \\sin^{2}{\\left(\\theta_{4} \\right)} + c^{2} \\cos^{2}{\\left(\\theta_{4} \\right)} + 2 c d \\cos{\\left(\\theta_{4} \\right)} + d^{2}$"
      ],
      "text/plain": [
       "a**2*sin(theta2)**2 + a**2*cos(theta2)**2 - 2*a*c*sin(theta2)*sin(theta4) - 2*a*c*cos(theta2)*cos(theta4) - 2*a*d*cos(theta2) - b**2 + c**2*sin(theta4)**2 + c**2*cos(theta4)**2 + 2*c*d*cos(theta4) + d**2"
      ]
     },
     "execution_count": 69,
     "metadata": {},
     "output_type": "execute_result"
    }
   ],
   "source": [
    "Eq2 = b2.expand() - b**2\n",
    "Eq2"
   ]
  },
  {
   "cell_type": "markdown",
   "metadata": {},
   "source": [
    "Precisaremos reescrever o $\\sin(\\theta_4)$ e o $\\cos(\\theta_4)$ como uma função da tangente de $\\theta_4$ para facilitar a resolução da equação."
   ]
  },
  {
   "cell_type": "code",
   "execution_count": 70,
   "metadata": {},
   "outputs": [
    {
     "data": {
      "text/latex": [
       "$\\displaystyle \\frac{2 \\tan{\\left(\\frac{\\theta_{4}}{2} \\right)}}{\\tan^{2}{\\left(\\frac{\\theta_{4}}{2} \\right)} + 1}$"
      ],
      "text/plain": [
       "2*tan(theta4/2)/(tan(theta4/2)**2 + 1)"
      ]
     },
     "execution_count": 70,
     "metadata": {},
     "output_type": "execute_result"
    }
   ],
   "source": [
    "sin(theta4).rewrite(tan)"
   ]
  },
  {
   "cell_type": "code",
   "execution_count": 71,
   "metadata": {},
   "outputs": [
    {
     "data": {
      "text/latex": [
       "$\\displaystyle \\frac{1 - \\tan^{2}{\\left(\\frac{\\theta_{4}}{2} \\right)}}{\\tan^{2}{\\left(\\frac{\\theta_{4}}{2} \\right)} + 1}$"
      ],
      "text/plain": [
       "(1 - tan(theta4/2)**2)/(tan(theta4/2)**2 + 1)"
      ]
     },
     "execution_count": 71,
     "metadata": {},
     "output_type": "execute_result"
    }
   ],
   "source": [
    "cos(theta4).rewrite(tan)"
   ]
  },
  {
   "cell_type": "markdown",
   "metadata": {
    "slideshow": {
     "slide_type": "fragment"
    }
   },
   "source": [
    "Essas identidades trigonométricas são conhecidas como *meia identidade dos ângulos*:\n",
    "$$ sen \\theta_4 = \\dfrac{2 tan \\left( \\dfrac{\\theta_4}{2} \\right)}{1 + tan^2 \\left( \\dfrac{\\theta_4}{2} \\right)} \\qquad cos \\theta_4 = \\dfrac{1 - tan^2 \\left( \\dfrac{\\theta_4}{2} \\right)}{1 + tan^2 \\left( \\dfrac{\\theta_4}{2} \\right)} $$"
   ]
  },
  {
   "cell_type": "code",
   "execution_count": 72,
   "metadata": {
    "slideshow": {
     "slide_type": "fragment"
    },
    "tags": []
   },
   "outputs": [],
   "source": [
    "mida = {sin(theta4):sin(theta4).rewrite(tan),\n",
    "        cos(theta4):cos(theta4).rewrite(tan)}"
   ]
  },
  {
   "cell_type": "code",
   "execution_count": 73,
   "metadata": {
    "scrolled": true,
    "slideshow": {
     "slide_type": "fragment"
    }
   },
   "outputs": [
    {
     "data": {
      "text/latex": [
       "$\\displaystyle a^{2} \\sin^{2}{\\left(\\theta_{2} \\right)} + a^{2} \\cos^{2}{\\left(\\theta_{2} \\right)} - \\frac{2 a c \\left(1 - \\tan^{2}{\\left(\\frac{\\theta_{4}}{2} \\right)}\\right) \\cos{\\left(\\theta_{2} \\right)}}{\\tan^{2}{\\left(\\frac{\\theta_{4}}{2} \\right)} + 1} - \\frac{4 a c \\sin{\\left(\\theta_{2} \\right)} \\tan{\\left(\\frac{\\theta_{4}}{2} \\right)}}{\\tan^{2}{\\left(\\frac{\\theta_{4}}{2} \\right)} + 1} - 2 a d \\cos{\\left(\\theta_{2} \\right)} - b^{2} + \\frac{c^{2} \\left(1 - \\tan^{2}{\\left(\\frac{\\theta_{4}}{2} \\right)}\\right)^{2}}{\\left(\\tan^{2}{\\left(\\frac{\\theta_{4}}{2} \\right)} + 1\\right)^{2}} + \\frac{4 c^{2} \\tan^{2}{\\left(\\frac{\\theta_{4}}{2} \\right)}}{\\left(\\tan^{2}{\\left(\\frac{\\theta_{4}}{2} \\right)} + 1\\right)^{2}} + \\frac{2 c d \\left(1 - \\tan^{2}{\\left(\\frac{\\theta_{4}}{2} \\right)}\\right)}{\\tan^{2}{\\left(\\frac{\\theta_{4}}{2} \\right)} + 1} + d^{2}$"
      ],
      "text/plain": [
       "a**2*sin(theta2)**2 + a**2*cos(theta2)**2 - 2*a*c*(1 - tan(theta4/2)**2)*cos(theta2)/(tan(theta4/2)**2 + 1) - 4*a*c*sin(theta2)*tan(theta4/2)/(tan(theta4/2)**2 + 1) - 2*a*d*cos(theta2) - b**2 + c**2*(1 - tan(theta4/2)**2)**2/(tan(theta4/2)**2 + 1)**2 + 4*c**2*tan(theta4/2)**2/(tan(theta4/2)**2 + 1)**2 + 2*c*d*(1 - tan(theta4/2)**2)/(tan(theta4/2)**2 + 1) + d**2"
      ]
     },
     "execution_count": 73,
     "metadata": {},
     "output_type": "execute_result"
    }
   ],
   "source": [
    "Eq3 = Eq2.subs(mida)\n",
    "Eq3 "
   ]
  },
  {
   "cell_type": "markdown",
   "metadata": {
    "slideshow": {
     "slide_type": "skip"
    }
   },
   "source": [
    "Para facilitar a solução da equação, vamos substituir $\\tan \\left( \\dfrac{\\theta_4}{2} \\right)$ por $x$:"
   ]
  },
  {
   "cell_type": "code",
   "execution_count": 74,
   "metadata": {
    "slideshow": {
     "slide_type": "fragment"
    }
   },
   "outputs": [
    {
     "data": {
      "text/latex": [
       "$\\displaystyle \\frac{c^{2} \\cdot \\left(4 x^{2} + \\left(x^{2} - 1\\right)^{2}\\right) + 2 c \\left(x^{2} + 1\\right) \\left(- 2 a x \\sin{\\left(\\theta_{2} \\right)} + a \\left(x^{2} - 1\\right) \\cos{\\left(\\theta_{2} \\right)} - d \\left(x^{2} - 1\\right)\\right) + \\left(x^{2} + 1\\right)^{2} \\left(a^{2} - 2 a d \\cos{\\left(\\theta_{2} \\right)} - b^{2} + d^{2}\\right)}{\\left(x^{2} + 1\\right)^{2}}$"
      ],
      "text/plain": [
       "(c**2*(4*x**2 + (x**2 - 1)**2) + 2*c*(x**2 + 1)*(-2*a*x*sin(theta2) + a*(x**2 - 1)*cos(theta2) - d*(x**2 - 1)) + (x**2 + 1)**2*(a**2 - 2*a*d*cos(theta2) - b**2 + d**2))/(x**2 + 1)**2"
      ]
     },
     "execution_count": 74,
     "metadata": {},
     "output_type": "execute_result"
    }
   ],
   "source": [
    "x = symbols('x')\n",
    "Eq4 = Eq3.subs(tan(theta4/2),x)\n",
    "Eq4 = Eq4.simplify()\n",
    "Eq4"
   ]
  },
  {
   "cell_type": "markdown",
   "metadata": {
    "slideshow": {
     "slide_type": "skip"
    }
   },
   "source": [
    "Agora, basta resolver para $x$ essa equação do segundo grau:"
   ]
  },
  {
   "cell_type": "code",
   "execution_count": 75,
   "metadata": {
    "slideshow": {
     "slide_type": "fragment"
    }
   },
   "outputs": [],
   "source": [
    "sol = solve(Eq4,x)"
   ]
  },
  {
   "cell_type": "code",
   "execution_count": 76,
   "metadata": {
    "slideshow": {
     "slide_type": "fragment"
    }
   },
   "outputs": [
    {
     "data": {
      "text/latex": [
       "$\\displaystyle \\frac{2 a c \\sin{\\left(\\theta_{2} \\right)} - \\sqrt{- a^{4} + 4 a^{3} d \\cos{\\left(\\theta_{2} \\right)} + 2 a^{2} b^{2} + 4 a^{2} c^{2} \\sin^{2}{\\left(\\theta_{2} \\right)} + 4 a^{2} c^{2} \\cos^{2}{\\left(\\theta_{2} \\right)} - 2 a^{2} c^{2} - 4 a^{2} d^{2} \\cos^{2}{\\left(\\theta_{2} \\right)} - 2 a^{2} d^{2} - 4 a b^{2} d \\cos{\\left(\\theta_{2} \\right)} - 4 a c^{2} d \\cos{\\left(\\theta_{2} \\right)} + 4 a d^{3} \\cos{\\left(\\theta_{2} \\right)} - b^{4} + 2 b^{2} c^{2} + 2 b^{2} d^{2} - c^{4} + 2 c^{2} d^{2} - d^{4}}}{a^{2} + 2 a c \\cos{\\left(\\theta_{2} \\right)} - 2 a d \\cos{\\left(\\theta_{2} \\right)} - b^{2} + c^{2} - 2 c d + d^{2}}$"
      ],
      "text/plain": [
       "(2*a*c*sin(theta2) - sqrt(-a**4 + 4*a**3*d*cos(theta2) + 2*a**2*b**2 + 4*a**2*c**2*sin(theta2)**2 + 4*a**2*c**2*cos(theta2)**2 - 2*a**2*c**2 - 4*a**2*d**2*cos(theta2)**2 - 2*a**2*d**2 - 4*a*b**2*d*cos(theta2) - 4*a*c**2*d*cos(theta2) + 4*a*d**3*cos(theta2) - b**4 + 2*b**2*c**2 + 2*b**2*d**2 - c**4 + 2*c**2*d**2 - d**4))/(a**2 + 2*a*c*cos(theta2) - 2*a*d*cos(theta2) - b**2 + c**2 - 2*c*d + d**2)"
      ]
     },
     "execution_count": 76,
     "metadata": {},
     "output_type": "execute_result"
    }
   ],
   "source": [
    "sol[0]"
   ]
  },
  {
   "cell_type": "code",
   "execution_count": 77,
   "metadata": {
    "slideshow": {
     "slide_type": "fragment"
    }
   },
   "outputs": [
    {
     "data": {
      "text/latex": [
       "$\\displaystyle \\frac{2 a c \\sin{\\left(\\theta_{2} \\right)} + \\sqrt{- a^{4} + 4 a^{3} d \\cos{\\left(\\theta_{2} \\right)} + 2 a^{2} b^{2} + 4 a^{2} c^{2} \\sin^{2}{\\left(\\theta_{2} \\right)} + 4 a^{2} c^{2} \\cos^{2}{\\left(\\theta_{2} \\right)} - 2 a^{2} c^{2} - 4 a^{2} d^{2} \\cos^{2}{\\left(\\theta_{2} \\right)} - 2 a^{2} d^{2} - 4 a b^{2} d \\cos{\\left(\\theta_{2} \\right)} - 4 a c^{2} d \\cos{\\left(\\theta_{2} \\right)} + 4 a d^{3} \\cos{\\left(\\theta_{2} \\right)} - b^{4} + 2 b^{2} c^{2} + 2 b^{2} d^{2} - c^{4} + 2 c^{2} d^{2} - d^{4}}}{a^{2} + 2 a c \\cos{\\left(\\theta_{2} \\right)} - 2 a d \\cos{\\left(\\theta_{2} \\right)} - b^{2} + c^{2} - 2 c d + d^{2}}$"
      ],
      "text/plain": [
       "(2*a*c*sin(theta2) + sqrt(-a**4 + 4*a**3*d*cos(theta2) + 2*a**2*b**2 + 4*a**2*c**2*sin(theta2)**2 + 4*a**2*c**2*cos(theta2)**2 - 2*a**2*c**2 - 4*a**2*d**2*cos(theta2)**2 - 2*a**2*d**2 - 4*a*b**2*d*cos(theta2) - 4*a*c**2*d*cos(theta2) + 4*a*d**3*cos(theta2) - b**4 + 2*b**2*c**2 + 2*b**2*d**2 - c**4 + 2*c**2*d**2 - d**4))/(a**2 + 2*a*c*cos(theta2) - 2*a*d*cos(theta2) - b**2 + c**2 - 2*c*d + d**2)"
      ]
     },
     "execution_count": 77,
     "metadata": {},
     "output_type": "execute_result"
    }
   ],
   "source": [
    "sol[1]"
   ]
  },
  {
   "cell_type": "markdown",
   "metadata": {
    "slideshow": {
     "slide_type": "skip"
    }
   },
   "source": [
    "A solução de $\\theta_4$ para a malha aberta é: "
   ]
  },
  {
   "cell_type": "code",
   "execution_count": 78,
   "metadata": {
    "scrolled": true,
    "slideshow": {
     "slide_type": "fragment"
    }
   },
   "outputs": [
    {
     "data": {
      "text/latex": [
       "$\\displaystyle 2 \\operatorname{atan}{\\left(\\frac{2 a c \\sin{\\left(\\theta_{2} \\right)} - \\sqrt{- a^{4} + 4 a^{3} d \\cos{\\left(\\theta_{2} \\right)} + 2 a^{2} b^{2} + 4 a^{2} c^{2} \\sin^{2}{\\left(\\theta_{2} \\right)} + 4 a^{2} c^{2} \\cos^{2}{\\left(\\theta_{2} \\right)} - 2 a^{2} c^{2} - 4 a^{2} d^{2} \\cos^{2}{\\left(\\theta_{2} \\right)} - 2 a^{2} d^{2} - 4 a b^{2} d \\cos{\\left(\\theta_{2} \\right)} - 4 a c^{2} d \\cos{\\left(\\theta_{2} \\right)} + 4 a d^{3} \\cos{\\left(\\theta_{2} \\right)} - b^{4} + 2 b^{2} c^{2} + 2 b^{2} d^{2} - c^{4} + 2 c^{2} d^{2} - d^{4}}}{a^{2} + 2 a c \\cos{\\left(\\theta_{2} \\right)} - 2 a d \\cos{\\left(\\theta_{2} \\right)} - b^{2} + c^{2} - 2 c d + d^{2}} \\right)}$"
      ],
      "text/plain": [
       "2*atan((2*a*c*sin(theta2) - sqrt(-a**4 + 4*a**3*d*cos(theta2) + 2*a**2*b**2 + 4*a**2*c**2*sin(theta2)**2 + 4*a**2*c**2*cos(theta2)**2 - 2*a**2*c**2 - 4*a**2*d**2*cos(theta2)**2 - 2*a**2*d**2 - 4*a*b**2*d*cos(theta2) - 4*a*c**2*d*cos(theta2) + 4*a*d**3*cos(theta2) - b**4 + 2*b**2*c**2 + 2*b**2*d**2 - c**4 + 2*c**2*d**2 - d**4))/(a**2 + 2*a*c*cos(theta2) - 2*a*d*cos(theta2) - b**2 + c**2 - 2*c*d + d**2))"
      ]
     },
     "execution_count": 78,
     "metadata": {},
     "output_type": "execute_result"
    }
   ],
   "source": [
    "theta4_1 = 2*atan(sol[0])\n",
    "theta4_1"
   ]
  },
  {
   "cell_type": "markdown",
   "metadata": {
    "slideshow": {
     "slide_type": "skip"
    }
   },
   "source": [
    "Para obter $\\theta_4$ para um dado $\\theta_2$, basta substituir os comprimentos dos elos e o $\\theta_2$ por valores numéricos. Faremos isso através de um dicionário."
   ]
  },
  {
   "cell_type": "code",
   "execution_count": 79,
   "metadata": {
    "slideshow": {
     "slide_type": "fragment"
    }
   },
   "outputs": [
    {
     "data": {
      "text/plain": [
       "{a: 10, b: 15, c: 15, d: 10, theta2: pi/6}"
      ]
     },
     "execution_count": 79,
     "metadata": {},
     "output_type": "execute_result"
    }
   ],
   "source": [
    "dic1"
   ]
  },
  {
   "cell_type": "code",
   "execution_count": 80,
   "metadata": {
    "slideshow": {
     "slide_type": "fragment"
    }
   },
   "outputs": [
    {
     "data": {
      "text/latex": [
       "$\\displaystyle 0.435213273165934$"
      ],
      "text/plain": [
       "0.435213273165934"
      ]
     },
     "execution_count": 80,
     "metadata": {},
     "output_type": "execute_result"
    }
   ],
   "source": [
    "theta4_1.subs(dic1).evalf()"
   ]
  },
  {
   "cell_type": "markdown",
   "metadata": {
    "slideshow": {
     "slide_type": "fragment"
    }
   },
   "source": [
    "Para obter $\\theta_3$ devemos proceder de maneira similar..."
   ]
  },
  {
   "cell_type": "code",
   "execution_count": 81,
   "metadata": {
    "slideshow": {
     "slide_type": "skip"
    }
   },
   "outputs": [
    {
     "data": {
      "text/latex": [
       "$\\displaystyle a \\cos{\\left(\\theta_{2} \\right)} + b \\cos{\\left(\\theta_{3} \\right)} - d$"
      ],
      "text/plain": [
       "a*cos(theta2) + b*cos(theta3) - d"
      ]
     },
     "execution_count": 81,
     "metadata": {},
     "output_type": "execute_result"
    }
   ],
   "source": [
    "ccostheta4 = solve(Eq_real,c*cos(theta4))[0]\n",
    "ccostheta4"
   ]
  },
  {
   "cell_type": "code",
   "execution_count": 82,
   "metadata": {
    "slideshow": {
     "slide_type": "skip"
    }
   },
   "outputs": [
    {
     "data": {
      "text/latex": [
       "$\\displaystyle a \\sin{\\left(\\theta_{2} \\right)} + b \\sin{\\left(\\theta_{3} \\right)}$"
      ],
      "text/plain": [
       "a*sin(theta2) + b*sin(theta3)"
      ]
     },
     "execution_count": 82,
     "metadata": {},
     "output_type": "execute_result"
    }
   ],
   "source": [
    "csintheta4 = solve(Eq_im,c*sin(theta4))[0]\n",
    "csintheta4"
   ]
  },
  {
   "cell_type": "code",
   "execution_count": 83,
   "metadata": {
    "slideshow": {
     "slide_type": "skip"
    }
   },
   "outputs": [
    {
     "data": {
      "text/latex": [
       "$\\displaystyle \\left(a \\sin{\\left(\\theta_{2} \\right)} + b \\sin{\\left(\\theta_{3} \\right)}\\right)^{2} + \\left(a \\cos{\\left(\\theta_{2} \\right)} + b \\cos{\\left(\\theta_{3} \\right)} - d\\right)^{2}$"
      ],
      "text/plain": [
       "(a*sin(theta2) + b*sin(theta3))**2 + (a*cos(theta2) + b*cos(theta3) - d)**2"
      ]
     },
     "execution_count": 83,
     "metadata": {},
     "output_type": "execute_result"
    }
   ],
   "source": [
    "c2 = ccostheta4**2 + csintheta4**2\n",
    "c2"
   ]
  },
  {
   "cell_type": "code",
   "execution_count": 84,
   "metadata": {
    "slideshow": {
     "slide_type": "skip"
    }
   },
   "outputs": [
    {
     "data": {
      "text/latex": [
       "$\\displaystyle a^{2} \\sin^{2}{\\left(\\theta_{2} \\right)} + a^{2} \\cos^{2}{\\left(\\theta_{2} \\right)} + 2 a b \\sin{\\left(\\theta_{2} \\right)} \\sin{\\left(\\theta_{3} \\right)} + 2 a b \\cos{\\left(\\theta_{2} \\right)} \\cos{\\left(\\theta_{3} \\right)} - 2 a d \\cos{\\left(\\theta_{2} \\right)} + b^{2} \\sin^{2}{\\left(\\theta_{3} \\right)} + b^{2} \\cos^{2}{\\left(\\theta_{3} \\right)} - 2 b d \\cos{\\left(\\theta_{3} \\right)} - c^{2} + d^{2}$"
      ],
      "text/plain": [
       "a**2*sin(theta2)**2 + a**2*cos(theta2)**2 + 2*a*b*sin(theta2)*sin(theta3) + 2*a*b*cos(theta2)*cos(theta3) - 2*a*d*cos(theta2) + b**2*sin(theta3)**2 + b**2*cos(theta3)**2 - 2*b*d*cos(theta3) - c**2 + d**2"
      ]
     },
     "execution_count": 84,
     "metadata": {},
     "output_type": "execute_result"
    }
   ],
   "source": [
    "Eq5 = (c2 - c**2).expand()\n",
    "Eq5"
   ]
  },
  {
   "cell_type": "code",
   "execution_count": 85,
   "metadata": {},
   "outputs": [],
   "source": [
    "mida2 = {sin(theta3):sin(theta3).rewrite(tan),\n",
    "        cos(theta3):cos(theta3).rewrite(tan)}"
   ]
  },
  {
   "cell_type": "code",
   "execution_count": 86,
   "metadata": {
    "slideshow": {
     "slide_type": "skip"
    }
   },
   "outputs": [
    {
     "data": {
      "text/latex": [
       "$\\displaystyle a^{2} \\sin^{2}{\\left(\\theta_{2} \\right)} + a^{2} \\cos^{2}{\\left(\\theta_{2} \\right)} + \\frac{2 a b \\left(1 - \\tan^{2}{\\left(\\frac{\\theta_{3}}{2} \\right)}\\right) \\cos{\\left(\\theta_{2} \\right)}}{\\tan^{2}{\\left(\\frac{\\theta_{3}}{2} \\right)} + 1} + \\frac{4 a b \\sin{\\left(\\theta_{2} \\right)} \\tan{\\left(\\frac{\\theta_{3}}{2} \\right)}}{\\tan^{2}{\\left(\\frac{\\theta_{3}}{2} \\right)} + 1} - 2 a d \\cos{\\left(\\theta_{2} \\right)} + \\frac{b^{2} \\left(1 - \\tan^{2}{\\left(\\frac{\\theta_{3}}{2} \\right)}\\right)^{2}}{\\left(\\tan^{2}{\\left(\\frac{\\theta_{3}}{2} \\right)} + 1\\right)^{2}} + \\frac{4 b^{2} \\tan^{2}{\\left(\\frac{\\theta_{3}}{2} \\right)}}{\\left(\\tan^{2}{\\left(\\frac{\\theta_{3}}{2} \\right)} + 1\\right)^{2}} - \\frac{2 b d \\left(1 - \\tan^{2}{\\left(\\frac{\\theta_{3}}{2} \\right)}\\right)}{\\tan^{2}{\\left(\\frac{\\theta_{3}}{2} \\right)} + 1} - c^{2} + d^{2}$"
      ],
      "text/plain": [
       "a**2*sin(theta2)**2 + a**2*cos(theta2)**2 + 2*a*b*(1 - tan(theta3/2)**2)*cos(theta2)/(tan(theta3/2)**2 + 1) + 4*a*b*sin(theta2)*tan(theta3/2)/(tan(theta3/2)**2 + 1) - 2*a*d*cos(theta2) + b**2*(1 - tan(theta3/2)**2)**2/(tan(theta3/2)**2 + 1)**2 + 4*b**2*tan(theta3/2)**2/(tan(theta3/2)**2 + 1)**2 - 2*b*d*(1 - tan(theta3/2)**2)/(tan(theta3/2)**2 + 1) - c**2 + d**2"
      ]
     },
     "execution_count": 86,
     "metadata": {},
     "output_type": "execute_result"
    }
   ],
   "source": [
    "Eq6 = Eq5.subs(mida2)\n",
    "Eq6"
   ]
  },
  {
   "cell_type": "code",
   "execution_count": 87,
   "metadata": {
    "slideshow": {
     "slide_type": "skip"
    }
   },
   "outputs": [
    {
     "data": {
      "text/latex": [
       "$\\displaystyle \\frac{b^{2} \\cdot \\left(4 y^{2} + \\left(y^{2} - 1\\right)^{2}\\right) + 2 b \\left(y^{2} + 1\\right) \\left(2 a y \\sin{\\left(\\theta_{2} \\right)} - a \\left(y^{2} - 1\\right) \\cos{\\left(\\theta_{2} \\right)} + d \\left(y^{2} - 1\\right)\\right) + \\left(y^{2} + 1\\right)^{2} \\left(a^{2} - 2 a d \\cos{\\left(\\theta_{2} \\right)} - c^{2} + d^{2}\\right)}{\\left(y^{2} + 1\\right)^{2}}$"
      ],
      "text/plain": [
       "(b**2*(4*y**2 + (y**2 - 1)**2) + 2*b*(y**2 + 1)*(2*a*y*sin(theta2) - a*(y**2 - 1)*cos(theta2) + d*(y**2 - 1)) + (y**2 + 1)**2*(a**2 - 2*a*d*cos(theta2) - c**2 + d**2))/(y**2 + 1)**2"
      ]
     },
     "execution_count": 87,
     "metadata": {},
     "output_type": "execute_result"
    }
   ],
   "source": [
    "y = symbols('y')\n",
    "Eq7 = Eq6.subs(tan(theta3/2),y)\n",
    "Eq7 = Eq7.simplify()\n",
    "Eq7"
   ]
  },
  {
   "cell_type": "code",
   "execution_count": 88,
   "metadata": {
    "slideshow": {
     "slide_type": "skip"
    }
   },
   "outputs": [
    {
     "data": {
      "text/plain": [
       "[(-2*a*b*sin(theta2) - sqrt(-a**4 + 4*a**3*d*cos(theta2) + 4*a**2*b**2*sin(theta2)**2 + 4*a**2*b**2*cos(theta2)**2 - 2*a**2*b**2 + 2*a**2*c**2 - 4*a**2*d**2*cos(theta2)**2 - 2*a**2*d**2 - 4*a*b**2*d*cos(theta2) - 4*a*c**2*d*cos(theta2) + 4*a*d**3*cos(theta2) - b**4 + 2*b**2*c**2 + 2*b**2*d**2 - c**4 + 2*c**2*d**2 - d**4))/(a**2 - 2*a*b*cos(theta2) - 2*a*d*cos(theta2) + b**2 + 2*b*d - c**2 + d**2),\n",
       " (-2*a*b*sin(theta2) + sqrt(-a**4 + 4*a**3*d*cos(theta2) + 4*a**2*b**2*sin(theta2)**2 + 4*a**2*b**2*cos(theta2)**2 - 2*a**2*b**2 + 2*a**2*c**2 - 4*a**2*d**2*cos(theta2)**2 - 2*a**2*d**2 - 4*a*b**2*d*cos(theta2) - 4*a*c**2*d*cos(theta2) + 4*a*d**3*cos(theta2) - b**4 + 2*b**2*c**2 + 2*b**2*d**2 - c**4 + 2*c**2*d**2 - d**4))/(a**2 - 2*a*b*cos(theta2) - 2*a*d*cos(theta2) + b**2 + 2*b*d - c**2 + d**2)]"
      ]
     },
     "execution_count": 88,
     "metadata": {},
     "output_type": "execute_result"
    }
   ],
   "source": [
    "sol2 = solve(Eq7,y)\n",
    "sol2"
   ]
  },
  {
   "cell_type": "code",
   "execution_count": 89,
   "metadata": {
    "slideshow": {
     "slide_type": "skip"
    }
   },
   "outputs": [
    {
     "data": {
      "text/latex": [
       "$\\displaystyle 2 \\operatorname{atan}{\\left(\\frac{- 2 a b \\sin{\\left(\\theta_{2} \\right)} - \\sqrt{- a^{4} + 4 a^{3} d \\cos{\\left(\\theta_{2} \\right)} + 4 a^{2} b^{2} \\sin^{2}{\\left(\\theta_{2} \\right)} + 4 a^{2} b^{2} \\cos^{2}{\\left(\\theta_{2} \\right)} - 2 a^{2} b^{2} + 2 a^{2} c^{2} - 4 a^{2} d^{2} \\cos^{2}{\\left(\\theta_{2} \\right)} - 2 a^{2} d^{2} - 4 a b^{2} d \\cos{\\left(\\theta_{2} \\right)} - 4 a c^{2} d \\cos{\\left(\\theta_{2} \\right)} + 4 a d^{3} \\cos{\\left(\\theta_{2} \\right)} - b^{4} + 2 b^{2} c^{2} + 2 b^{2} d^{2} - c^{4} + 2 c^{2} d^{2} - d^{4}}}{a^{2} - 2 a b \\cos{\\left(\\theta_{2} \\right)} - 2 a d \\cos{\\left(\\theta_{2} \\right)} + b^{2} + 2 b d - c^{2} + d^{2}} \\right)}$"
      ],
      "text/plain": [
       "2*atan((-2*a*b*sin(theta2) - sqrt(-a**4 + 4*a**3*d*cos(theta2) + 4*a**2*b**2*sin(theta2)**2 + 4*a**2*b**2*cos(theta2)**2 - 2*a**2*b**2 + 2*a**2*c**2 - 4*a**2*d**2*cos(theta2)**2 - 2*a**2*d**2 - 4*a*b**2*d*cos(theta2) - 4*a*c**2*d*cos(theta2) + 4*a*d**3*cos(theta2) - b**4 + 2*b**2*c**2 + 2*b**2*d**2 - c**4 + 2*c**2*d**2 - d**4))/(a**2 - 2*a*b*cos(theta2) - 2*a*d*cos(theta2) + b**2 + 2*b*d - c**2 + d**2))"
      ]
     },
     "execution_count": 89,
     "metadata": {},
     "output_type": "execute_result"
    }
   ],
   "source": [
    "theta3_1 = 2*atan(sol2[0])\n",
    "theta3_1"
   ]
  },
  {
   "cell_type": "code",
   "execution_count": 90,
   "metadata": {
    "slideshow": {
     "slide_type": "skip"
    }
   },
   "outputs": [
    {
     "data": {
      "text/latex": [
       "$\\displaystyle -2.70637938042386$"
      ],
      "text/plain": [
       "-2.70637938042386"
      ]
     },
     "execution_count": 90,
     "metadata": {},
     "output_type": "execute_result"
    }
   ],
   "source": [
    "theta3_1.subs(dic1).evalf()"
   ]
  },
  {
   "cell_type": "markdown",
   "metadata": {
    "slideshow": {
     "slide_type": "skip"
    }
   },
   "source": [
    "Caso queira copiar e colar a solução de $\\theta_3$ e $\\theta_4$ para usar em outro código, use o comando print():"
   ]
  },
  {
   "cell_type": "code",
   "execution_count": 91,
   "metadata": {
    "slideshow": {
     "slide_type": "skip"
    }
   },
   "outputs": [
    {
     "name": "stdout",
     "output_type": "stream",
     "text": [
      "2*atan((-2*a*b*sin(theta2) - sqrt(-a**4 + 4*a**3*d*cos(theta2) + 4*a**2*b**2*sin(theta2)**2 + 4*a**2*b**2*cos(theta2)**2 - 2*a**2*b**2 + 2*a**2*c**2 - 4*a**2*d**2*cos(theta2)**2 - 2*a**2*d**2 - 4*a*b**2*d*cos(theta2) - 4*a*c**2*d*cos(theta2) + 4*a*d**3*cos(theta2) - b**4 + 2*b**2*c**2 + 2*b**2*d**2 - c**4 + 2*c**2*d**2 - d**4))/(a**2 - 2*a*b*cos(theta2) - 2*a*d*cos(theta2) + b**2 + 2*b*d - c**2 + d**2))\n"
     ]
    }
   ],
   "source": [
    "print(theta3_1)"
   ]
  },
  {
   "cell_type": "code",
   "execution_count": 92,
   "metadata": {
    "slideshow": {
     "slide_type": "skip"
    }
   },
   "outputs": [
    {
     "name": "stdout",
     "output_type": "stream",
     "text": [
      "2*atan((2*a*c*sin(theta2) - sqrt(-a**4 + 4*a**3*d*cos(theta2) + 2*a**2*b**2 + 4*a**2*c**2*sin(theta2)**2 + 4*a**2*c**2*cos(theta2)**2 - 2*a**2*c**2 - 4*a**2*d**2*cos(theta2)**2 - 2*a**2*d**2 - 4*a*b**2*d*cos(theta2) - 4*a*c**2*d*cos(theta2) + 4*a*d**3*cos(theta2) - b**4 + 2*b**2*c**2 + 2*b**2*d**2 - c**4 + 2*c**2*d**2 - d**4))/(a**2 + 2*a*c*cos(theta2) - 2*a*d*cos(theta2) - b**2 + c**2 - 2*c*d + d**2))\n"
     ]
    }
   ],
   "source": [
    "print(theta4_1)"
   ]
  },
  {
   "cell_type": "code",
   "execution_count": 93,
   "metadata": {},
   "outputs": [
    {
     "name": "stdout",
     "output_type": "stream",
     "text": [
      "2 \\operatorname{atan}{\\left(\\frac{- 2 a b \\sin{\\left(\\theta_{2} \\right)} - \\sqrt{- a^{4} + 4 a^{3} d \\cos{\\left(\\theta_{2} \\right)} + 4 a^{2} b^{2} \\sin^{2}{\\left(\\theta_{2} \\right)} + 4 a^{2} b^{2} \\cos^{2}{\\left(\\theta_{2} \\right)} - 2 a^{2} b^{2} + 2 a^{2} c^{2} - 4 a^{2} d^{2} \\cos^{2}{\\left(\\theta_{2} \\right)} - 2 a^{2} d^{2} - 4 a b^{2} d \\cos{\\left(\\theta_{2} \\right)} - 4 a c^{2} d \\cos{\\left(\\theta_{2} \\right)} + 4 a d^{3} \\cos{\\left(\\theta_{2} \\right)} - b^{4} + 2 b^{2} c^{2} + 2 b^{2} d^{2} - c^{4} + 2 c^{2} d^{2} - d^{4}}}{a^{2} - 2 a b \\cos{\\left(\\theta_{2} \\right)} - 2 a d \\cos{\\left(\\theta_{2} \\right)} + b^{2} + 2 b d - c^{2} + d^{2}} \\right)}\n"
     ]
    }
   ],
   "source": [
    "print(latex(theta3_1))"
   ]
  },
  {
   "cell_type": "markdown",
   "metadata": {
    "slideshow": {
     "slide_type": "slide"
    }
   },
   "source": [
    "## 4.6 Solução para Análise de Posições no Mecanismo Biela-Manivela"
   ]
  },
  {
   "cell_type": "markdown",
   "metadata": {
    "slideshow": {
     "slide_type": "subslide"
    }
   },
   "source": [
    "A mesma análise feita para o vetor laço utilizada para a junta pinada de quatro barras pode ser aplicada ao mecanismo."
   ]
  },
  {
   "cell_type": "markdown",
   "metadata": {},
   "source": [
    "![](figs4-8.png)"
   ]
  },
  {
   "cell_type": "markdown",
   "metadata": {
    "slideshow": {
     "slide_type": "fragment"
    }
   },
   "source": [
    "$$\\vec{R}_2 + \\vec{R}_3 - \\vec{R}_4 - \\vec{R}_1 = 0$$"
   ]
  },
  {
   "cell_type": "code",
   "execution_count": 95,
   "metadata": {
    "slideshow": {
     "slide_type": "fragment"
    }
   },
   "outputs": [],
   "source": [
    "R2 = a*E**(I*theta2)\n",
    "R3 = b*E**(I*theta3)\n",
    "R4 = c*E**(I*theta4)\n",
    "R1 = d*E**(I*theta1)"
   ]
  },
  {
   "cell_type": "code",
   "execution_count": 96,
   "metadata": {
    "slideshow": {
     "slide_type": "fragment"
    }
   },
   "outputs": [
    {
     "data": {
      "text/latex": [
       "$\\displaystyle a e^{i \\theta_{2}} - b e^{i \\theta_{3}} - c e^{i \\theta_{4}} - d e^{i \\theta_{1}}$"
      ],
      "text/plain": [
       "a*exp(I*theta2) - b*exp(I*theta3) - c*exp(I*theta4) - d*exp(I*theta1)"
      ]
     },
     "execution_count": 96,
     "metadata": {},
     "output_type": "execute_result"
    }
   ],
   "source": [
    "eq1 = R2 - R3 - R4 - R1\n",
    "eq1"
   ]
  },
  {
   "cell_type": "markdown",
   "metadata": {
    "slideshow": {
     "slide_type": "fragment"
    }
   },
   "source": [
    "Observa-se que $\\theta_1 = 0$ e $\\theta_4 = 90^{\\circ}$"
   ]
  },
  {
   "cell_type": "code",
   "execution_count": 97,
   "metadata": {
    "slideshow": {
     "slide_type": "fragment"
    }
   },
   "outputs": [
    {
     "data": {
      "text/latex": [
       "$\\displaystyle a e^{i \\theta_{2}} - b e^{i \\theta_{3}} - i c - d$"
      ],
      "text/plain": [
       "a*exp(I*theta2) - b*exp(I*theta3) - I*c - d"
      ]
     },
     "execution_count": 97,
     "metadata": {},
     "output_type": "execute_result"
    }
   ],
   "source": [
    "eq1 = eq1.subs(theta1,0)\n",
    "eq1 = eq1.subs(theta4,pi/2)\n",
    "eq1"
   ]
  },
  {
   "cell_type": "code",
   "execution_count": 98,
   "metadata": {
    "slideshow": {
     "slide_type": "fragment"
    }
   },
   "outputs": [
    {
     "data": {
      "text/latex": [
       "$\\displaystyle i a \\sin{\\left(\\theta_{2} \\right)} + a \\cos{\\left(\\theta_{2} \\right)} - i b \\sin{\\left(\\theta_{3} \\right)} - b \\cos{\\left(\\theta_{3} \\right)} - i c - d$"
      ],
      "text/plain": [
       "I*a*sin(theta2) + a*cos(theta2) - I*b*sin(theta3) - b*cos(theta3) - I*c - d"
      ]
     },
     "execution_count": 98,
     "metadata": {},
     "output_type": "execute_result"
    }
   ],
   "source": [
    "eq2 = (eq1).rewrite(sin).expand()\n",
    "eq2"
   ]
  },
  {
   "cell_type": "code",
   "execution_count": 99,
   "metadata": {
    "slideshow": {
     "slide_type": "fragment"
    }
   },
   "outputs": [
    {
     "data": {
      "text/latex": [
       "$\\displaystyle a \\cos{\\left(\\theta_{2} \\right)} - b \\cos{\\left(\\theta_{3} \\right)} - d$"
      ],
      "text/plain": [
       "a*cos(theta2) - b*cos(theta3) - d"
      ]
     },
     "execution_count": 99,
     "metadata": {},
     "output_type": "execute_result"
    }
   ],
   "source": [
    "eq2_real = eq2.subs(I,0)\n",
    "eq2_real"
   ]
  },
  {
   "cell_type": "code",
   "execution_count": 100,
   "metadata": {
    "slideshow": {
     "slide_type": "fragment"
    }
   },
   "outputs": [
    {
     "data": {
      "text/latex": [
       "$\\displaystyle a \\sin{\\left(\\theta_{2} \\right)} - b \\sin{\\left(\\theta_{3} \\right)} - c$"
      ],
      "text/plain": [
       "a*sin(theta2) - b*sin(theta3) - c"
      ]
     },
     "execution_count": 100,
     "metadata": {},
     "output_type": "execute_result"
    }
   ],
   "source": [
    "eq2_im = (eq2 - eq2_real).subs(I,1)\n",
    "eq2_im"
   ]
  },
  {
   "cell_type": "code",
   "execution_count": 101,
   "metadata": {
    "slideshow": {
     "slide_type": "fragment"
    }
   },
   "outputs": [
    {
     "data": {
      "text/plain": [
       "[pi - asin((a*sin(theta2) - c)/b), asin((a*sin(theta2) - c)/b)]"
      ]
     },
     "execution_count": 101,
     "metadata": {},
     "output_type": "execute_result"
    }
   ],
   "source": [
    "th3 = solve(eq2_im,theta3)\n",
    "th3"
   ]
  },
  {
   "cell_type": "markdown",
   "metadata": {
    "slideshow": {
     "slide_type": "fragment"
    }
   },
   "source": [
    "Note que existem novamente duas soluções correspondentes aos dois circuitos do mecanismo. A função *arco seno* possui duas soluções."
   ]
  },
  {
   "cell_type": "code",
   "execution_count": 102,
   "metadata": {
    "slideshow": {
     "slide_type": "fragment"
    }
   },
   "outputs": [
    {
     "data": {
      "text/latex": [
       "$\\displaystyle \\operatorname{asin}{\\left(\\frac{a \\sin{\\left(\\theta_{2} \\right)} - c}{b} \\right)}$"
      ],
      "text/plain": [
       "asin((a*sin(theta2) - c)/b)"
      ]
     },
     "execution_count": 102,
     "metadata": {},
     "output_type": "execute_result"
    }
   ],
   "source": [
    "th3 = th3[1]\n",
    "th3"
   ]
  },
  {
   "cell_type": "code",
   "execution_count": 103,
   "metadata": {
    "slideshow": {
     "slide_type": "fragment"
    }
   },
   "outputs": [
    {
     "data": {
      "text/plain": [
       "[a*cos(theta2) - b*cos(theta3)]"
      ]
     },
     "execution_count": 103,
     "metadata": {},
     "output_type": "execute_result"
    }
   ],
   "source": [
    "dsol = solve(eq2_real,d)\n",
    "dsol"
   ]
  },
  {
   "cell_type": "code",
   "execution_count": 104,
   "metadata": {
    "slideshow": {
     "slide_type": "fragment"
    }
   },
   "outputs": [
    {
     "data": {
      "text/latex": [
       "$\\displaystyle a \\cos{\\left(\\theta_{2} \\right)} - b \\cos{\\left(\\theta_{3} \\right)}$"
      ],
      "text/plain": [
       "a*cos(theta2) - b*cos(theta3)"
      ]
     },
     "execution_count": 104,
     "metadata": {},
     "output_type": "execute_result"
    }
   ],
   "source": [
    "dsol = dsol[0]\n",
    "dsol"
   ]
  },
  {
   "cell_type": "code",
   "execution_count": 105,
   "metadata": {
    "slideshow": {
     "slide_type": "fragment"
    }
   },
   "outputs": [
    {
     "data": {
      "text/latex": [
       "$\\displaystyle a \\cos{\\left(\\theta_{2} \\right)} - b \\sqrt{1 - \\frac{\\left(a \\sin{\\left(\\theta_{2} \\right)} - c\\right)^{2}}{b^{2}}}$"
      ],
      "text/plain": [
       "a*cos(theta2) - b*sqrt(1 - (a*sin(theta2) - c)**2/b**2)"
      ]
     },
     "execution_count": 105,
     "metadata": {},
     "output_type": "execute_result"
    }
   ],
   "source": [
    "dsol = dsol.subs(theta3,th3)\n",
    "dsol"
   ]
  },
  {
   "cell_type": "markdown",
   "metadata": {
    "slideshow": {
     "slide_type": "slide"
    }
   },
   "source": [
    "## 4.7 Ângulos de Transmissão"
   ]
  },
  {
   "cell_type": "markdown",
   "metadata": {
    "slideshow": {
     "slide_type": "subslide"
    }
   },
   "source": [
    "O ângulo de transmissão $\\mu$ é definido como o *ângulo entre o elo de saída e o acoplador*. <br>\n",
    "Iremos expandir essa definição para representar o ângulo entre quaisquer elos em um mecanismo.  -> O ângulo entre qualquer elo de saída e o acoplador que o movimenta é um ângulo de transmissão. \n",
    "<br>\n",
    "Agora que desenvolvemos as expressões analíticas para os ângulos de todos os elos do mecanismo, fica fácil determinar algebricamente o ângulo de transmissão. Ele é apenas a diferença entre os ângulos dos dois elos.<br>\n",
    "Por convenção, tomamos o valor absoluto da diferença e o forçamos a ser um ângulo agudo. \n",
    "$$\\theta_{trans} = | \\theta_3 - \\theta_4 |$$\n",
    "se $\\theta_{trans} > \\pi/2$ então $\\mu = \\pi - \\theta_{trans}$ caso contrário $\\mu = \\theta_{trans}$"
   ]
  },
  {
   "cell_type": "code",
   "execution_count": 106,
   "metadata": {
    "slideshow": {
     "slide_type": "fragment"
    }
   },
   "outputs": [],
   "source": [
    "def ang_trans(th3,th4):\n",
    "    th_trans = abs(th3 - th4)\n",
    "    pi = 3.14159265358979\n",
    "    if th_trans > (pi)/2:\n",
    "        return pi - th_trans\n",
    "    else:\n",
    "        return th_trans"
   ]
  },
  {
   "cell_type": "markdown",
   "metadata": {
    "slideshow": {
     "slide_type": "fragment"
    }
   },
   "source": [
    "Esse cálculo pode ser feito para qualquer junta de um mecanismo, utilizando os ângulos dos elos apropriados."
   ]
  },
  {
   "cell_type": "markdown",
   "metadata": {
    "slideshow": {
     "slide_type": "subslide"
    }
   },
   "source": [
    "### Valores extremos do ângulo de transmissão\n",
    "Para um mecanismo manivela de quatro barras de Grashof, o valor mínimo do ângulo de transmissão ocorrerá quando a manivela for colinear ao elo terra. Os valores do ângulo de transmissão nessas posições são facilmente calculados pela lei dos cossenos. <br>\n",
    "Dependendo da geometria do mecanismo, o valor mínimo de transmissão $\\mu_{min}$ poderá ocorrer quando os elos 1 e 2 forem colineares e sobrepostos, ou quando os elos 1 e 2 forem colineares e não sobrepostos."
   ]
  },
  {
   "cell_type": "markdown",
   "metadata": {},
   "source": [
    "![](figs4-9.png)"
   ]
  },
  {
   "cell_type": "markdown",
   "metadata": {
    "slideshow": {
     "slide_type": "fragment"
    }
   },
   "source": [
    "Para o caso sobreposto: \n",
    "$$\\mu_1 = \\gamma_1 = arccos \\left(\\dfrac{b^2 + c^2 - (d+a)^2}{2bc} \\right) $$\n",
    "Para o caso estendido: \n",
    "$$ \\mu_2 = \\gamma_2 = arccos \\left( \\dfrac{b^2 + c^2 - (d+a)^2}{2bc} \\right) $$"
   ]
  },
  {
   "cell_type": "markdown",
   "metadata": {
    "slideshow": {
     "slide_type": "fragment"
    }
   },
   "source": [
    "O ângulo mínimo de transmissão $\\mu_{min}$ em um mecanimos manivela seguidor de Grashof é o menor dos valores de $\\mu_1$ e $\\mu_2$."
   ]
  },
  {
   "cell_type": "markdown",
   "metadata": {
    "slideshow": {
     "slide_type": "fragment"
    }
   },
   "source": [
    "Para um mecanismo **duplo seguidor de Grashof**, o ângulo de transmissão pode variar de $0^\\circ$ a $90^\\circ$ porque o acoplador pode fazer uma revolução completa em relação aos outros elos. <br>\n",
    "Para um mecanismo **triplo seguidor não Grashof**, o ângulo de transmissão será $0^\\circ$ nos pontos de singularidade que ocorrem quando o seguidor de saída $c$ e o acoplador $b$ forem colinerares. Nos outros pontos de singularidade, quando o seguidor de entrada $a$ e o acoplador $b$ forem colineares, o ângulo de transmissão pode ser calculado pela lei dos cossenos: <br>\n",
    "quando: $\\qquad \\nu=0,$\n",
    "$$ \\mu = arccos \\left( \\dfrac{(a+b)^{2} + c^2 - d^2}{2c(a+b)} \\right) $$\n",
    "Esse não é o menor valor que o ângulo de transmissão $\\mu$ pode obter em um triplo seguidor, já que ele esse valor é zero."
   ]
  },
  {
   "cell_type": "markdown",
   "metadata": {},
   "source": [
    "![](figs4-10.png)"
   ]
  },
  {
   "cell_type": "markdown",
   "metadata": {},
   "source": [
    " [Voltar para o capítulo anterior](Mecs3.ipynb)     $\\qquad$   [Avançar para o próximo capítulo](Mecs5.ipynb)"
   ]
  }
 ],
 "metadata": {
  "kernelspec": {
   "display_name": "Python 3 (ipykernel)",
   "language": "python",
   "name": "python3"
  },
  "language_info": {
   "codemirror_mode": {
    "name": "ipython",
    "version": 3
   },
   "file_extension": ".py",
   "mimetype": "text/x-python",
   "name": "python",
   "nbconvert_exporter": "python",
   "pygments_lexer": "ipython3",
   "version": "3.11.4"
  },
  "widgets": {
   "application/vnd.jupyter.widget-state+json": {
    "state": {
     "057810a24e494ff689587e485c364113": {
      "model_module": "@jupyter-widgets/controls",
      "model_module_version": "1.5.0",
      "model_name": "SliderStyleModel",
      "state": {
       "description_width": ""
      }
     },
     "0b2b66f3fe1041be85c44273ae9b4199": {
      "model_module": "@jupyter-widgets/controls",
      "model_module_version": "1.5.0",
      "model_name": "IntSliderModel",
      "state": {
       "description": "cn",
       "layout": "IPY_MODEL_33af4641e6584dbc802803ce3c88ac81",
       "max": 20,
       "min": 1,
       "style": "IPY_MODEL_bf0992874479438c862928a4364e2239",
       "value": 10
      }
     },
     "124feb46515f493aaf303d9c5eb78ca9": {
      "model_module": "@jupyter-widgets/base",
      "model_module_version": "1.2.0",
      "model_name": "LayoutModel",
      "state": {}
     },
     "17d47d3c504d464bbdcbf8c4520b467a": {
      "model_module": "@jupyter-widgets/output",
      "model_module_version": "1.0.0",
      "model_name": "OutputModel",
      "state": {
       "layout": "IPY_MODEL_64770c8c29a340a7839354c23d726fe0",
       "outputs": [
        {
         "name": "stdout",
         "output_type": "stream",
         "text": "Não-Grashof\n"
        },
        {
         "data": {
          "image/png": "iVBORw0KGgoAAAANSUhEUgAAAqsAAAJ+CAYAAACU6EltAAAAOXRFWHRTb2Z0d2FyZQBNYXRwbG90bGliIHZlcnNpb24zLjMuMiwgaHR0cHM6Ly9tYXRwbG90bGliLm9yZy8vihELAAAACXBIWXMAABcSAAAXEgFnn9JSAAAxT0lEQVR4nO3de5ClZ30f+O+vZ0YzmtHoNhI33TUSFynCIEB3x2UF1qyxysaFsXGVMdhO2Ymd4CJ2EipcjeOsq7IskNiV7BoD3tRSsBTYUYwdrJKN0QUJJJBYYWOhu4QAaUYj5qK59rN/nDOjo6Z7embUp/s5PZ9PVdfT7+U553f0qKe//Z7nPG+11gIAAD2aWuoCAABgLsIqAADdElYBAOiWsAoAQLeEVQAAuiWsAgDQLWEVAIBuCasAAHRLWAUAoFvCKgAA3RJWAQDolrAKAEC3hFUAALolrAIA0K2uwmpVvb2qPlNVd1fVk1W1q6oeqKo/qaqLDtLvLVV1a1Vtq6rNVfW5qrpiMWsHAGDhVWttqWs4oKoeT7IuyZ1JHhnuvjDJC5PsSfLTrbX/MaPPB5O8LclTST6fZE2Sf5Kkkryhtfani1E7AAALr7ewemWS21prO2fs/+dJ/iDJd5Oc3lrbO9z/6iR/lWRTkstba3cP91+e5G+S7EhyTmtty2K9BgAAFk5X0wBaazfODKrD/X+Y5J4kz01ywcihtw/b390fVIfn35zkvyQ5Mckvj61gAADGqquwOo89w3Z3klTVsUmuHu779Czn7993zZjrAgBgTCYirFbVLyR5UZK7h18Zbq9O8lhr7eFZut0+bF86/goBABiHlUtdwGyq6rcz+GDVuiQvGX7/7SRvaq3tG5525rCdLaimtba9qrYkOamq1rfWth7C8941x6EXZvABrocO+UUAACw/ZyTZ0Vp73mI9YZdhNcmPZfCJ/v0eSPLm1tptI/uOG7Y7DvI42zOYt7o+ybxh9SCmVq5cuf600067YP5T6d309HSSZGpqIt5YYB7Gc3kxnsuPMV1eHnnkkezdu3dRn7PLsNpae3WSVNWJSS5K8u4kX6iqd7bW/v0Yn/fC2fZX1V2nnXbaBffff/+4nppFdP311ydJrr766nnOZBIYz+XFeC4/xnR5Ofvss/PAAw8s6jvNXf+Z01rb0lr7YpIfT3JbkvdX1auGh7cN27UHeYh1w/bZXFUFAGCJdB1W92ut7UnyyQwW+t//6f4Hh+3ps/WpqnUZTAF44lDmqwIA0J+JCKtDjw/bU4ftN5PsSnJqVZ02y/kXD9s7x10YAADjMUlh9UeG7T1J0lp7Ksn1w30/M8v5bxi21465LgAAxqSbsFpVV1bVa6tqasb+VVX1L5L8QgbLR31y5PAHhu07q+r8kT6XJ/nVJFuSfGSshQMAMDY9rQZwfpKPJnm8qm5LsinJKRmsBvD8JDuTvKW1duATaK2166rqQ0neluRrVfVXSY5J8poM5re+tbW2ZVFfBQAAC6ansPqFJL+Xwdv9L80gqO5Ocn8Gt079cGvtWzM7tdZ+s6q+luQ3Mgipu5Ncl+T9rbWbFqVyAADGopuw2lq7L8m/O8K+H0vysYWsBwCApdfNnFUAAJhJWAUAoFvCKgAA3RJWAQDolrAKAEC3hFUAALolrAIA0C1hFQCAbgmrAAB0S1gFAKBbwioAAN0SVgEA6JawCgBAt4RVAAC6JawCANAtYRUAgG4JqwAAdEtYBQCgW8IqAADdElYBAOiWsAoAQLeEVQAAuiWsAgDQLWEVAIBuCasAAHRLWAUAoFvCKgAA3RJWAQDolrAKAEC3hFUAALolrAIA0C1hFQCAbgmrAAB0S1gFAKBbwioAAN0SVgEA6JawCgBAt4RVAAC6JawCANAtYRUAgG4JqwAAdEtYBQCgW8IqAADdElYBAOiWsAoAQLeEVQAAuiWsAgDQLWEVAIBuCasAAHRLWAUAoFvCKgAA3RJWAQDolrAKAEC3hFUAALolrAIA0C1hFQCAbgmrAAB0S1gFAKBbwioAAN0SVgEA6JawCgBAt4RVAAC6JawCANAtYRUAgG4JqwAAdEtYBQCgW8IqAADdElYBAOiWsAoAQLeEVQAAuiWsAgDQLWEVAIBuCasAAHRLWAUAoFvCKgAA3RJWAQDolrAKAEC3hFUAALolrAIA0C1hFQCAbgmrAAB0S1gFAKBbwioAAN0SVgEA6JawCgBAt4RVAAC6JawCANAtYRUAgG4JqwAAdEtYBQCgW8IqAADdElYBAOiWsAoAQLeEVQAAuiWsAgDQLWEVAIBudRNWq2ptVf1UVX2kqr5ZVTurantV3VFV766q4w7S9y1VdWtVbauqzVX1uaq6YjHrBwBg4XUTVpP8fJLPJvmlJPuS/PckX0xyTpL3JflyVT1nZqeq+mCSjyb5R0muS3Jrktck+duq+qnFKBwAgPHoKazuSfJ/JrmgtXZBa+2NrbXXJnlRkq8meXGSD452qKpXJ3lbkk1Jfqi19lPDPv84g8D70ao6cfFeAgAAC6mbsNpa+3hr7Vdba383Y/+jSX59uPnTVXXMyOG3D9vfba3dPdLn5iT/JcmJSX55fFUDADBO3YTVedwxbFcn2ZAkVXVskquH+z89S5/9+64Zb2kAAIzLpITVc4ftniSbh9+/KIPw+lhr7eFZ+tw+bF865toAABiTlUtdwCF627D9y9baruH3Zw7b2YJqWmvbq2pLkpOqan1rbet8T1JVd81xaOP09HSuv/76w6mZTm3fvj1JjOcyYTyXF+O5/BjT5WV6enrRn7P7K6tV9eMZzDvdk+RdI4f2L2W14yDdtw/b9WMoDQCAMev6ympVvTjJf0tSSX67tXbHPF2eldbahXPUcdfU1NQFV1999WyHmTD7/7o3nsuD8VxejOfyY0yXl6mpxb/O2e2V1ao6LclfJjkpyQdaax+accq2Ybv2IA+zbtjOOwUAAID+dBlWq+rkJJ9PclYGC/7/1iynPThsT5/jMdZlsHTVE4cyXxUAgP50F1aHt1X9iyQXJPlMkn/aWmuznPrNJLuSnDq8CjvTxcP2zrEUCgDA2HUVVqtqdZI/S3JJkv+Z5E2ttX2zndtaeyrJ/o8W/swsp7xh2F670HUCALA4ugmrVbUiyScyWOj/i0l+urW2e55uHxi276yq80ce6/Ikv5pkS5KPLHy1AAAshp5WA/iNJK8ffv94kj+sqtnO+63W2uNJ0lq7rqo+lME6rF+rqr9KckyS12SwgsBbW2tbxl04AADj0VNYPWnk+9fPeVby3gzCbJKktfabVfW1DMLua5LsTnJdkve31m5a+DIBAFgs3YTV1tp7MwiiR9L3Y0k+tnDVAADQg27mrAIAwEzCKgAA3RJWAQDolrAKAEC3hFUAALolrAIA0C1hFQCAbgmrAAB0S1gFAKBbwioAAN0SVgEA6JawCgBAt4RVAAC6JawCANAtYRUAgG4JqwAAdEtYBQCgW8IqAADdElYBAOiWsAoAQLeEVQAAuiWsAgDQLWEVAIBuCasAAHRLWAUAoFvCKgAA3RJWAQDolrAKAEC3hFUAALolrAIA0C1hFQCAbgmrAAB0S1gFAKBbwioAAN0SVgEA6JawCgBAt4RVAAC6JawCANAtYRUAgG4JqwAAdEtYBQCgW8IqAADdElYBAOiWsAoAQLeEVQAAuiWsAgDQLWEVAIBuCasAAHRLWAUAoFvCKgAA3RJWAQDolrAKAEC3hFUAALolrAIA0C1hFQCAbgmrAAB0S1gFAKBbwioAAN0SVgEA6JawCgBAt4RVAAC6JawCANAtYRUAgG4JqwAAdEtYBQCgW8IqAADdElYBAOiWsAoAQLeEVQAAuiWsAgDQLWEVAIBuCasAAHRLWAUAoFvCKgAA3RJWAQDolrAKAEC3hFUAALolrAIA0C1hFQCAbgmrAAB0S1gFAKBbwioAAN0SVgEA6JawCgBAt4RVAAC6JawCANAtYRUAgG4JqwAAdEtYBQCgW8IqAADdElYBAOiWsAoAQLeEVQAAuiWsAgDQLWEVAIBuCasAAHRLWAUAoFtdhdWqekVV/duq+kxVPVxVraraIfR7S1XdWlXbqmpzVX2uqq5YjJoBABiflUtdwAzvSvKTh9Ohqj6Y5G1Jnkry+SRrkrwmyf9SVW9orf3pAtcIAMAi6S2s3pzkziRfHn7dn2T1XCdX1aszCKqbklzeWrt7uP/yJH+T5KNV9TettS1jrRoAgLHoKqy21n5/dLuq5uvy9mH7u/uD6vBxbq6q/5LkXyb55ST/+0LWCQDA4uhqzurhqKpjk1w93Pz0LKfs33fN4lQEAMBCm9iwmuRFGUwReKy19vAsx28fti9dvJIAAFhIXU0DOExnDtvZgmpaa9urakuSk6pqfWtt63wPWFV3zXFo4/T0dK6//vojq5SubN++PUmM5zJhPJcX47n8GNPlZXp6etGfc5KvrB43bHcc5Jztw3b9mGsBAGAMJvnK6oJrrV042/6qumtqauqCq6++erbDTJj9f90bz+XBeC4vxnP5MabLy9TU4l/nnOQrq9uG7dqDnLNu2M47BQAAgP5Mclh9cNiePtvBqlqX5MQkTxzKfFUAAPozyWH1m0l2JTm1qk6b5fjFw/bOxSsJAICFNLFhtbX2VJL9Hy38mVlOecOwvXZxKgIAYKFNbFgd+sCwfWdVnb9/5/B2q7+aZEuSjyxBXQAALICuVgOoqtcledfIrmOG+780su/9rbU/T5LW2nVV9aEkb0vytar6q2Gf1ySpJG9trW1ZjNoBAFh4XYXVJKcmuXSW/ZfOOOeA1tpvVtXXkvxGBiF1d5LrMgi1N42pTgAAFkFXYbW19rEkH1usfgAA9G3S56wCALCMCasAAHRLWAUAoFvCKgAA3RJWAQDolrAKAEC3hFUAALolrAIA0C1hFQCAbgmrAAB0S1gFAKBbwioAAN0SVgEA6JawCgBAt4RVAAC6JawCANAtYRUAgG4JqwAAdEtYBQCgW8IqAADdElYBAOiWsAoAQLeEVQAAuiWsAgDQLWEVAIBuCasAAHRLWAUAoFvCKgAA3RJWAQDolrAKAEC3hFUAALolrAIA0C1hFQCAbgmrAAB0S1gFAKBbwioAAN0SVgEA6JawCgBAt4RVAAC6JawCANAtYRUAgG4JqwAAdEtYBQCgW8IqAADdElYBAOiWsAoAQLeEVQAAuiWsAgDQLWEVAIBuCasAAHRLWAUAoFvCKgAA3RJWAQDolrAKAEC3hFUAALolrAIA0C1hFQCAbgmrAAB0S1gFAKBbwioAAN0SVgEA6JawCgBAt4RVAAC6JawCANAtYRUAgG4JqwAAdEtYBQCgW8IqAADdElYBAOiWsAoAQLeEVQAAuiWsAgDQLWEVAIBuCasAAHRLWAUAoFvCKgAA3RJWAQDolrAKAEC3hFUAALolrAIA0C1hFQCAbgmrAAB0S1gFAKBbwioAAN0SVgEA6JawCgBAt4RVAAC6JawCANAtYRUAgG4JqwAAdEtYBQCgW8IqAADdElYBAOiWsAoAQLeEVQAAuiWsAgDQrZVLXcBCqKpjk7wjyc8lOTPJ5iR/meRdrbVHlrI2YDwe27orn/zyg/mL23Zl596Wj953Sy47d0Pe+Mozcur61UtdHofpaBnP/a/zlvs2Z9uuvTlu9cpl+TphIU18WK2qNUmuT3JZkkeT/FmSs5O8NclPVNVlrbV7l65CYCHt3LMv77v2rnz6toezZ187sP+eJx/PF+9+PB+87h/yhleckfdcc0HWrFqxhJVyKI6W8ZzrdSZZVq8TxmE5TAN4ZwZB9eYkL2yt/Wxr7dIk/yrJqUn+eCmLAxbOzj378ot/fGs+cetDP/ALf789+1o+ceuD+cU/vjU79+xb5Ao5HEfLeB4trxPGZaLDalUdk+Q3hpu/3lrbtv9Ya+0DSe5M8iNV9YqlqA9YWO+79q7cct/mQzr3lvs2533XfmPMFfFsHC3jebS8ThiXiQ6rSa5MckKSe1prX53l+KeH7TWLVxIwDt/bujOfvu3hw+rz6dseymNbd42pIp6No2U8j5bXCeM06XNWf2jY3j7H8f37X7oItQBj9Kkvz/0W6lz27Gt58x/fkhc+d/2YquJIffM7W4+K8TzS1/mprzyUX//R88ZUFUyWSQ+rZw7buf5s3b//rEN5sKq6a45DG6enp3P99dcfTm10avv27UliPCfMX9x2ZFea/u7Rrfm7R7cucDUslaNlPD/3lbvzkvbgUpexIPybu7xMT08v+nNO+jSA44btjjmObx+2k/NnODCrnXsP7+oUTDL/v8PTJv3K6oJqrV042/6qumtqauqCq6++erFLYgz2/3VvPCfLR++7Jfc8+fhh9ztrw9r8zCtOH0NFPBv/720P54FNc11nmNukjeeRvs4XPGdDrr760jFUtPj8m7u8TE0t/nXOSQ+r+z/9v3aO4+uG7fJ/zwiWuUvPOTlfvPvww+obX3mGuX+d+o+f/4fD7jOJ43kkr/OyczeMoRKYTJM+DWD/hJ65/szev/+BRagFGKM3vuqMrFpRh9Vn1YrKG195xpgq4tk4WsbzaHmdME6THlbvGLYXz3F8//47F6EWYIyes35N3nCYb/++4RVuYdmro2U8j5bXCeM06WH1xiRPJtlYVS+b5fgbhu21i1YRMDbvuebCXHrOyYd07qXnnJz3XHPBmCvi2ThaxvNoeZ0wLhMdVltru5P85+HmH1TV/jmqqaq3Z7C+6hdaa7ctRX3AwlqzakU+/kuX5E2XnDnnW6urVlTedMmZ+fgvXeIe6507lPGsZOLH8+nXOfdb+/6/hblN+geskuR3k7w6yRVJ7q6qL2awruqlSR5L8ktLWBuwwNasWpH/8NMX5e2veWE+9ZWH8rmv3J2de1te8JwNuezcDXnjK72FOklmG8/NO1se3T5YuunYY1bk/T95YVaumOhrK1mzakXeeuU5+cStDx3Yd9FpJ+TEtav8fwvzmPiw2lrbWVU/muQdSX4+yU8l2ZzkY0ne1Vo7vPvcARPh1PWr8+s/et6BhdOXyzI/R6vR8dy1t+VtX9id3fums2P3vtzx8JN5xVknLXWJz9oNI6tZXHTaCbn2X1y1hNXA5JjsP1WHWmtPtdbe3Vo7r7W2urX2/NbaWwVVgMmzemXl4rNOPLB947cOf8myHo2+jivPO2UJK4HJsizCKgDLy1UjYe6GZRBW9+ybzpfu3XRg+8rzrKMKh0pYBaA7o1cev/rgE9m+a+8SVvPs3fnwlmzfvS9JcszKqbzq7ENbHQAQVgHo0EWnnZD1awYfq9izr+XW+zcvcUXPzg13P31V9ZVnneQT/3AYhFUAurNyxVQuH7nl6I1HcKvdnpivCkdOWAWgS6Oh7sZ7Nh3kzL5t37U3tz/4xIHtq4RVOCzCKgBdGg2rf/fo9/P4tl1LWM2Ru/W+zdk7PVg39vg1K/OPTjthiSuCySKsAtCljaeuy/OOX3Ng+6YJvbo6uprB5Rs3ZMXU7HfrAmYnrALQpap65lSACZ23Ojpf1RQAOHzCKgDduur8pz9kdcO3Hk9rbQmrOXyPbd2Vv//O1gPbPlwFh09YBaBbV258Otw9suWpPLBpxxJWc/huuufpq6ovOGFNzjll3RJWA5NJWAWgW885fk1e+NzjDmxP2t2sZi5ZVWW+KhwuYRWArl0xcnV19Epl71pruWFknu1V55sCAEdCWAWga6MfSrrpnk3ZNz0Z81bv37Qj335y54Ht0dANHDphFYCuXXruyQeWe9qyY0++8e3vL3FFh2Z0ysKLnrs+p65fvYTVwOQSVgHo2vo1q/KyM048sD0p81ZHl9qyCgAcOWEVgO49Y73VCQir+6Zbbr736ZsYjC7BBRweYRWA7o3OW/3y/Zuzc8++Jaxmfnd9+8k8+dSeJMnKqcol5wircKSEVQC697IzTsyxq1YkSXbtnc7tDzyxxBUd3OhUhZefeWKOW71yCauBySasAtC9Y1ZO5dJzTz6w3fu81ZnrqwJHTlgFYCJcNSHzVnfu2Zcv3//0lV9hFZ4dYRWAiTAa+u585Mk8uWPPElYzt6/c/0R2751Okqw7ZsUzVjIADp+wCsBEeNFz1+eU445JkrSW3Hxvn1dXR6coXHruhqxa4VctPBt+ggCYCFNT9Yy7QPU6b3X0lrCmAMCzJ6wCMDGecevVb206yJlLY8uO3fn6I08e2L5KWIVnTVgFYGJccd7T65Xe+/j2PLLlqSWs5gfdfM+mtDb4/pTjVueFzz1uaQuCZUBYBWBinH7S2py9Ye2B7d5WBRidmnDVeRtSVUtYDSwPwioAE6XnW6+O1nOFKQCwIIRVACbKzPVW2/733ZfYQ5t35P5NOw5s+3AVLAxhFYCJcvnGDdn/7vrj23bnm9/durQFDY2uAnDuKety2onHLmE1sHwIqwBMlBPXHpOLTjvhwPYNd/cxFeCGkdUJXFWFhSOsAjBxRsPgTfcs/RJW09MtN33L+qowDsIqABPnypGbA3zp3k3Zs296CatJvvndrdm0fXeSZKqSy8/dME8P4FAJqwBMnFeefVKOWTn4FbZj97587aEtS1rP6CoAF51+Yk5Yu2oJq4HlRVgFYOKsWbUirzr7pAPbSz1vdXR91Ss3uqoKC0lYBWAi9bLe6u6907nl3s0Htt1iFRaWsArARBoNhV97aEu27dq7JHV89cEn8tSefUmS1SuncvFZJ83TAzgcwioAE+nCF5yQE44dzA3dO91y631LsyrA6FXdS845OWtWrViSOmC5ElYBmEgrpipXjMwPveHuJQqr91hfFcZJWAVgYl2xxPNWt+7c84yVCMxXhYUnrAIwsUbD4Te/uzXf27pzUZ//lns3Z990S5KcuHZVLnj+8Yv6/HA0EFYBmFhnb1ib00489sD2Td9a3KkAo0tWXbFxQ6amalGfH44GwioAE6uqcuV5I/NWF3kqwI1usQpjJ6wCMNFGQ+JN33o8rbVFed7vfn9n7v7etgPb5qvCeAirAEy0KzY+HRK//eTO3Pf49kV53tGrqqefdGzOPHntojwvHG2EVQAm2qnrV+fFz1t/YHuxVgW4cWR+7FXnnZIq81VhHIRVACbe6FSAxZi32lozXxUWibAKwMQbnS960z2bDiwnNS73PLY93/n+08tkjd6cAFhYwioAE++Sc07OyuGyUVt37s3XH3lyrM83elX1Jc8/PhuOWz3W54OjmbAKwMRbt3plLj7zpAPb4563OjrV4KrzXFWFcRJWAVgWrlykW6/u3TedL93z9IerzFeF8RJWAVgWrjr/6SucX7n/iTy1e99YnufOR57M1l17kySrVlQuOefksTwPMCCsArAsvPT0E7PumBVJkt37pvOVBzaP5XluGrlqe/GZJ2XtMSvH8jzAgLAKwLKwasVULjt3/LdevcGSVbCohFUAlo1xz1vdsXtvbn9gy6zPB4yHsArAsnHV+U+Hx7u+/f08sX33gj7+l+9/Irv3TSdJjlu9Mj90+gkL+vjADxJWAVg2zn/OcTl1/WDN09aSm+/dNE+PwzN6tfayczdk5Qq/RmHc/JQBsGxU1TPuZrXQ81ZvuNv6qrDYhFUAlpVxzVvdtG1XvvHo9w9sj045AMZHWAVgWbly5IrnA5t25KHNOxbkcUenFDz3+NXZeOpxC/K4wMEJqwAsK88/4dice+q6A9sLdXV19HGu3HhKqmpBHhc4OGEVgGVnHPNWra8KS0NYBWDZGQ2TN9+zKdPT7Vk93oObduShzU/N+vjAeAmrACw7l527IVPDd+k3bd+dv//O1mf1eKNXVc97znF53glrntXjAYdOWAVg2Tnh2FV56eknHth+tvNWR/tf5aoqLCphFYBlaaHmrU5Pt9x0j/mqsFSEVQCWpStGlrC69b7N2bV33xE9zjce/X6e2LEnSbJiqnLpuScvSH3AoRFWAViWLj7zpKxZNfg199Seffnqg1uO6HFGpwC89PQTcvyaVQtRHnCIhFUAlqU1q1bkVWc/fRX0SOet3mC+KiwpYRWAZeuqZ3nr1Z179uXL928+sG2+Kiw+YRWAZWs0XN7x8JP5/s49h9X/9gefyM4900mSY1etyMvPPHEhywMOgbAKwLJ1wfOPz0lrB3NM90233HLv5nl6PNPo1dhLzjk5q1euWND6gPkJqwAsW1NTlSs2HvlUgBu+tenA9+arwtIQVgFY1q48wvVWn3xqT77+8JYD26NLYQGLR1gFYFkbvSL6re9ty3ee3HlI/b5076ZMt8H3J687Ji953vHjKA+Yh7AKwLJ25oa1OePkYw9sj96N6mBGpwxcsXFDpqZqwWsD5iesArDsHcmtV62vCn0QVgFY9q6csd5qa+2g5397y1O597Hts/YHFpewCsCyN7oiwHe/vyv3PLbtoOePTgE4a8PanHHy2rHVBhycsArAsnfyumNywfOf/oDUDXcffCrAaFh1VRWWlrAKwFHhqvNH561umvO81lpuvOfp41duFFZhKQmrABwVRq+Q3nLvpuzdNz3reXd/b1se27orSVKVXL7R+qqwlIRVAI4Krzr7pByzYvBrb+uuvbnzkSdnPW90isCFLzg+J687ZlHqA2YnrAJwVFh7zMpcfNaJB7ZvnGPeqvmq0BdhFYCjxnzrre7ZN50v3btp1vOBpSGsAnDUGL1SevuDT2TH7r3POH7HQ1uyffe+JMkxK6fyqrNPXtT6gB8krAJw1LjotBOyfvXKJMmefS233rf5GcdHr7a+4syTsmbVikWtD/hBwioAR42VK6Zy2cin+2+cMRXgppElrUaXugKWjrAKwFHlqmfcevXpcLp9197c/uATB7Z9uAr6IKwCcFQZDaHfePT72bRtsKbqrfdtzt7pliRZv2ZlLjrthCWpD3gmYRWAo8rGU9flecevObB90/BuVaPzVa/YuCErpmrRawN+kLAKwFGlqp5xdXX/vNXR+auWrIJ+CKsAHHWuOv/pD1l98e7H872tO/P339l6YJ/5qtAPYRWAo84VG58Oo49seSqfvPWhA9vPP2FNzjll3VKUBcxCWAXgqPPc49fknFPWHtj+P677hwPfv+Ksk1Jlvir0QlgF4Kiyc8++vOMzd+aBTTsO7BsuApAk+Yuvfyfv+MzXs3PPviWoDphp5VIXAACLZeeeffnFP741t8y4c9Wofa3lE7c+mHsf25aP/9Il7mIFS6yLK6tVta6qfqGq/lNV3VJVu6qqVdV7D6Hv6VX10ar6dlXtrKp/qKr3VdWa+foCcHR537V3HTSojrrlvs1537XfGHNFwHy6CKtJzk/yJ0l+I8klSY45lE5VdV6SryZ5S5JNSf4syYok705yXVWtHkexAEye723dmU/f9vBh9fn0bQ/lsa27xlQRcCh6Catbk3wkya8leUUGYfNQfCzJKUk+3Fq7qLX2s0lelOSzSa5M8o6FLxWASfSpLz+UPfva/CeO2LOv5VNfeWj+E4Gx6SKsttbuaa39Smvtv7bWbk+yZ74+VXVJBoH0e0n+9chj7U3yz4aP8S+ryrxcAA757f+ZvnTvpgWuBDgcXYTVI/S6YXtta+0Z79G01r6b5ItJTkpy1WIXBkB/tu3au6j9gIUxyWH1h4bt7XMc37//pYtQCwCdO271kb3RdqT9gIUxyT+BZw7buWbL799/1qE+YFXdNcehjdPT07n++usP9aHo2Pbt25PEeC4TxnN5Ged4ntLmnWE2q1PbFv9/PQt+RpeX6enpRX/OSb6yetyw3THH8e3Ddv0i1AJA5/7xaSuz4jBvTLWikh8+bZKv68DkW5CfwKr6bJKXHGa3N7fWbl2I518orbULZ9tfVXdNTU1dcPXVVy92SYzB/r/ujefyYDyXl3GP561P3ZlP3Hron+5/46vOzOv/14vGUsvRws/o8jI1tfjXORfqz8VzMlgy6nCsnf+Ug9o2z+OsG7Zbn+XzALBMvOeaC3PvY9sPaWWAS885Oe+55oJFqAo4mAWJx621l7XW6jC//uZZPu2Dw/b0OY7v3//As3weAJaJNatW5OO/dEnedMmZWTXHnIBVKypvuuRMt1qFTkzyRJw7kvxkkovnOL5//52LUw4Ak2DNqhX5Dz99Ud7+mhfmU195KF+6d1O27dqb41avzGXnbsgbX3lGTl3vBojQi0kOq3+ewZ2urqmq1aNrrVbVc5P8cJInkty4RPUB0LFT16/Or//oefn1Hz1vqUsBDmJiVwMYfjjrxiTPSfL7+/cP71j1h0lWZXAb1iNbqwQAgCXXzZXV4YoCzx9uvmDY/kpVvXb4/aOttdfP6PbWJDcneVtVXZ3kG0leleTcJDcl+Q/jrRoAgHHqJqwmeXl+cAH/04ZfySwflGqt3V1VL0/yO0lem+T1GXzw6v1Jfm/mbVgBAJgs3YTV1trZR9jvoQyusAIAsMxM7JxVAACWP2EVAIBuCasAAHRLWAUAoFvCKgAA3RJWAQDolrAKAEC3hFUAALolrAIA0C1hFQCAbgmrAAB0S1gFAKBbwioAAN0SVgEA6JawCgBAt4RVAAC6JawCANAtYRUAgG4JqwAAdEtYBQCgW8IqAADdElYBAOiWsAoAQLeEVQAAuiWsAgDQLWEVAIBuCasAAHRLWAUAoFvCKgAA3RJWAQDolrAKAEC3hFUAALolrAIA0C1hFQCAbgmrAAB0S1gFAKBbwioAAN0SVgEA6JawCgBAt4RVAAC6JawCANAtYRUAgG4JqwAAdEtYBQCgW8IqAADdElYBAOiWsAoAQLeEVQAAuiWsAgDQLWEVAIBuCasAAHRLWAUAoFvCKgAA3RJWAQDolrAKAEC3hFUAALolrAIA0C1hFQCAbgmrAAB0S1gFAKBbwioAAN0SVgEA6JawCgBAt4RVAAC6JawCANAtYRUAgG4JqwAAdEtYBQCgW8IqAADdElYBAOiWsAoAQLeEVQAAuiWsAgDQLWEVAIBuCasAAHRLWAUAoFvCKgAA3RJWAQDolrAKAEC3hFUAALolrAIA0C1hFQCAbgmrAAB0S1gFAKBbwioAAN0SVgEA6JawCgBAt4RVAAC6JawCANAtYRUAgG4JqwAAdEtYBQCgW8IqAADdElYBAOiWsAoAQLeEVQAAutVFWK2qF1fVv6mqv66qx6tqT1V9p6o+U1U/PE/f06vqo1X17araWVX/UFXvq6o1i1U/AADj0UVYTXJdkv8tySuTfDXJZ5I8luT1Sb5QVb85W6eqOm94/luSbEryZ0lWJHl3kuuqavW4CwcAYHx6Cat/n+TNSU5trb2mtfazrbWLkvxakkryH6vqgln6fSzJKUk+3Fq7qLX2s0lelOSzSa5M8o5FqR4AgLHoIqy21l7dWvu/W2s7Z+z/r0k+n8HV0p8ZPVZVl2QQSL+X5F+P9Nmb5J8l2ZPkX1bVyjGXDwDAmHQRVudxx7B9wYz9rxu217bWdo0eaK19N8kXk5yU5KrxlgcAwLhMQlg9d9h+Z8b+Hxq2t8/Rb//+ly54RQAALIqu3yKvqo1JfmK4+d9nHD5z2D48R/f9+886jOe7a45DL37kkUdy9tlnH+pD0bHp6ekkydTUJPytxnyM5/JiPJcfY7q8PPLII0lyxmI+Z7dhdTjX9GNJVif5ZGvtthmnHDdsd8zxENuH7foFKGdq79690w888MDfL8BjsfQ2Dtt7lrQKForxXF6M5/JjTJeXFyc5djGfcEHCalV9NslLDrPbm1trtx7k+IczmG96b5J/fqS1HY7W2oWz7d9/xXWu40wW47m8GM/lxXguP8Z0eTnIu9Bjs1BXVs/JYMmow7F2rgNV9e8y+ET/d5P8WGtt8yynbZvncdYN262HWRcAAJ1YkLDaWnvZQjxOklTVryX53SRPJnlta+1bc5z6YJKXJzl9juP79z+wULUBALC4uprtXFU/l+QPMpiH+rrW2tcOcvr+Ja0unuP4/v13Lkx1AAAstm7CalX9eJI/SbI3yetbazfO0+XPh+01M2+rWlXPTfLDSZ5IMt/jAADQqS7CalVdmeTTGdxa9Wdba5+fr8/ww1k3JnlOkt8feayVSf4wyaoMbsO6ZyxFAwAwdtVaW+oaUlVPJDkxyX1J/naO025orf3RjH7nJ7k5yYYkX0/yjSSvyuBGAjcluXrm3a0AAJgcvYTVQyni4621t8zS94wkv5PktUlOzuCDV59I8nuttZ0LWScAAIuri7AKAACz6WLOKgAAzEZYBQCgW8IqAADdElYBAOiWsAoAQLeEVQAAuiWszqGqXlxV/6aq/rqqHq+qPVX1nar6TFX98Dx9T6+qj1bVt6tqZ1X9Q1W9r6rWLFb9PFNVrauqX6iq/1RVt1TVrqpqVfXeQ+hrPDtUVcdW1e8Mx2PncHz+uKpOW+ra+EFV9Yqq+rfDf0MfHv78zbt2YlW9papuraptVbW5qj5XVVcsRs3MrarWVtVPVdVHquqbw5/B7VV1R1W9u6qOO0hfY9qhqnr78Ofz7qp6cvh78oGq+pOquugg/cY+ntZZnUNVPZzktCTbknwpyeYkFyT5R0lakre31j44S7/zMrir1ilJ/r8M7qr1ygzuqnVjkn/irlqLr6peluSrsxx6X2vtvQfpZzw7NPxD4a+TXJbk0SRfTHJ2kkuSPJbkstbavUtWID+gqv40yU/O3N9aq4P0+WCStyV5Ksnnk6xJ8k8yuDX3G1prfzqGUjkEVfUrSf6v4ebfZfDv4/FJrkiyPsnfJ/mR1tr3ZvT7YIxpl6rq8STrktyZ5JHh7guTvDDJniQ/3Vr7HzP6fDCLMZ6tNV+zfCW5LskvJFkzY/+vZhBW9ya5YJZ+NwyPf2hk38oknxnuf+9Sv7aj8SvJxiR/NBy/i5O861DGw3j2+ZXkd4f//W9KctzI/rcP9//NUtfo6wfG7N9kcLfBa5I8L8nOwa+gOc9/9XAsH09y/sj+y5PsSvJEkhOX+nUdrV9JfjHJf03ykhn7n5/k9uHY/T/GdHK+klw5M/MM9//z4bh9J8nKpRjPJf+PM4lfSf7ncIDeM2P/JcP9302yesax5ybZncEV2pWLUaevg47hv50vbBrPPr+SHJNky3BsXj7L8TuGx16x1LX6Oug4zhdWPzccx9+c5diHhsf+1VK/Dl+zjt3lw/HZmeQYYzr5X0m+NRyfly7FeJqzemTuGLYvmLH/dcP22jbjreHW2nczeKvypCRXjbc8Fojx7NOVSU5Ick9rbbapHZ8ettcsXkkspKo6NsnVw81Pz3KKMe7b/t+Rq5NsSIzpMrBn2O5OFn88hdUjc+6w/c6M/T80bG+fo9/+/S9d8IoYB+PZJ+Oy/L0og6DzWGvt4VmOG+O+7f8duSeDd58SYzqxquoXMhi/u4dfySKP58qFeJCjSVVtTPITw83/PuPwmcN2toEb3X/WQtfFWBjPPhmX5e+gY9xa215VW5KcVFXrW2tbF60yDsXbhu1fjrwrZUwnRFX9dgYfrFqX5CXD77+d5E2ttX3D0xZ1PIXVw1BVK5N8LIO/Jj7ZWrttxin7l+rYMcdDbB+26xe+OsbAePbJuCx/841xMhjnEzMYZ8GmE1X140l+OYOrqu8aOWRMJ8ePZfCJ/v0eSPLmGZlnUcdz2YbVqvpsBn8RHI43t9ZuPcjxD2cwP/HeDD4dxyIZ03gCsECq6sVJ/lsGyxb9dmvtjnm60KHW2quTpKpOTHJRkncn+UJVvbO19u+XoqZlG1aTnJPBnIrDsXauA1X175L8sww+Gf5jrbXNs5y2bZ7HWTds/cV4+BZ0PA+R8eyTcVn+5hvjxDh3ZXgzjr/M4EOnH2itfWjGKcZ0wrTWtiT54vBq+c1J3l9Vn2+tfTmLPJ7LNqy21l62UI9VVb+WwbqOTyZ5bWvtW3Oc+mCSlyc5fY7j+/c/sFC1HS0WcjwPg/Hs04PD1rgsXwcd46pal8Hbi0+Y27j0qurkDBaEPyvJR5P81iynGdMJ1VrbU1WfTPKKDD7d/+Us8nhaDWAeVfVzSf4gg3kZr2utfe0gp+9/y+PiOY7v33/nwlTHmBnPPhmX5e+bGSwqfuoct881xp0Y3lb1LzK4w+NnkvzTNlxocwZjOtkeH7anDttFHU9h9SCGl77/JIO7Vb2+tXbjPF3+fNheU1WrZzzWc5P8cAZ3dJjvceiD8ezTjRm8y7FxeBvdmd4wbK9dtIpYUK21p5JcP9z8mVlOMcYdGP67+GcZ3EDlf+aZnxZ/BmM68X5k2N6TLP54CqtzqKorM1jUtpL8bGvt8/P1GX6Y58Ykz0ny+yOPtTLJHyZZleTDrbU9sz8CPTGefWqt7U7yn4ebfzB8uylJUlVvz2Bdvy/MsloHk+UDw/adVXX+/p1VdXkGt03ekuQjS1AXSapqRZJPZLAw/BczuG/87nm6GdNOVdWVVfXaqpqasX9VVf2LDG4//1SST44cXrTxrNmv1lNVT2Qw3+K+JH87x2k3tNb+aEa/8zOYiLwhydeTfCPJqzJYJPmmJFfPvBsSi2O4osDzh5svSHJGkkfy9Dpxj7bWXj+jj/HsUFWtSfI3SS5N8mgGvyzPGm4/luSy1tq9S1YgP6CqXpdnLmV0SQYXA24Z2ff+1tqfj/T5YAZrdu5I8lcZ3Gr3NcN+b2it/el4q2YuVfW2JB8cbn42yffnOPW3Wmv730I2pp2qqrdkMN/48SS3JdmU5JQMVgN4fga3zv3F1tqnZvT7YBZhPIXVOVTVofyH+Xhr7S2z9D0jye8keW2SkzOYiPyJJL/XWtu5kHVy6Krq/hx8ofgHWmtnz9LPeHZoeLu/dyT5+Qz+8NicwaeR3zXHHVVYQiO/DA/mra21j83S7zcyWLpud5IvZRBqb1r4KjlUVfXeJO85hFPPaa3dP6PvW2JMu1JV5yT5lQze7j83g6C6O8n9Gbzd/+G5Ply+GOMprAIA0C1zVgEA6JawCgBAt4RVAAC6JawCANAtYRUAgG4JqwAAdEtYBQCgW8IqAADdElYBAOiWsAoAQLeEVQAAuiWsAgDQLWEVAIBuCasAAHRLWAUAoFvCKgAA3RJWAQDo1v8Pew5P/6hXMTYAAAAASUVORK5CYII=\n",
          "text/plain": "<Figure size 750x750 with 1 Axes>"
         },
         "metadata": {
          "needs_background": "light"
         },
         "output_type": "display_data"
        }
       ]
      }
     },
     "1910a953ed3b4d6e8bce920ee7b0fb98": {
      "model_module": "@jupyter-widgets/base",
      "model_module_version": "1.2.0",
      "model_name": "LayoutModel",
      "state": {}
     },
     "1a9d1b441469480ca81c917f85276ec9": {
      "model_module": "@jupyter-widgets/base",
      "model_module_version": "1.2.0",
      "model_name": "LayoutModel",
      "state": {}
     },
     "1e7ba5f98b3f4c03ae5e181715520e99": {
      "model_module": "@jupyter-widgets/base",
      "model_module_version": "1.2.0",
      "model_name": "LayoutModel",
      "state": {}
     },
     "2138628862484b16979c45940d5ad8fc": {
      "model_module": "@jupyter-widgets/base",
      "model_module_version": "1.2.0",
      "model_name": "LayoutModel",
      "state": {}
     },
     "21d9c60f5f1b482ca0e0c4f196874cae": {
      "model_module": "@jupyter-widgets/controls",
      "model_module_version": "1.5.0",
      "model_name": "IntSliderModel",
      "state": {
       "description": "an",
       "layout": "IPY_MODEL_c6342a220cd14dc99369ed3afb27c884",
       "max": 20,
       "min": 1,
       "style": "IPY_MODEL_f12793bc35c9412ba6966ea883e46a4c",
       "value": 9
      }
     },
     "2a77e0af97d543cd91fb5c7253394cd9": {
      "model_module": "@jupyter-widgets/output",
      "model_module_version": "1.0.0",
      "model_name": "OutputModel",
      "state": {
       "layout": "IPY_MODEL_d78bede0c0e143669f38ff60beb58789",
       "outputs": [
        {
         "name": "stdout",
         "output_type": "stream",
         "text": "Grashof\n"
        },
        {
         "data": {
          "image/png": "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\n",
          "text/plain": "<Figure size 750x750 with 1 Axes>"
         },
         "metadata": {
          "needs_background": "light"
         },
         "output_type": "display_data"
        }
       ]
      }
     },
     "3232375ee9b9457c98a2c678c35e2c2f": {
      "model_module": "@jupyter-widgets/controls",
      "model_module_version": "1.5.0",
      "model_name": "VBoxModel",
      "state": {
       "_dom_classes": [
        "widget-interact"
       ],
       "children": [
        "IPY_MODEL_bab885a127ad4d48954dca2978ec50b2",
        "IPY_MODEL_93c05e85d0854e0d8f974eb777415ccc",
        "IPY_MODEL_0b2b66f3fe1041be85c44273ae9b4199",
        "IPY_MODEL_fb8425718cd54380a7aa3f99fb96bc09",
        "IPY_MODEL_96799371bc0d405cb1e43f0545f3069b",
        "IPY_MODEL_17d47d3c504d464bbdcbf8c4520b467a"
       ],
       "layout": "IPY_MODEL_1e7ba5f98b3f4c03ae5e181715520e99"
      }
     },
     "33af4641e6584dbc802803ce3c88ac81": {
      "model_module": "@jupyter-widgets/base",
      "model_module_version": "1.2.0",
      "model_name": "LayoutModel",
      "state": {}
     },
     "3ee5350627ae4de186c9fd338a9c77f6": {
      "model_module": "@jupyter-widgets/controls",
      "model_module_version": "1.5.0",
      "model_name": "SliderStyleModel",
      "state": {
       "description_width": ""
      }
     },
     "40a0e22e593c490fbafb939b38a87615": {
      "model_module": "@jupyter-widgets/controls",
      "model_module_version": "1.5.0",
      "model_name": "IntSliderModel",
      "state": {
       "description": "cn",
       "layout": "IPY_MODEL_1a9d1b441469480ca81c917f85276ec9",
       "max": 20,
       "min": 1,
       "style": "IPY_MODEL_64c1826bef0c4c79bd636d372dbf5014",
       "value": 11
      }
     },
     "42adb2838a6644f8a6d51dcc243a0a88": {
      "model_module": "@jupyter-widgets/controls",
      "model_module_version": "1.5.0",
      "model_name": "SliderStyleModel",
      "state": {
       "description_width": ""
      }
     },
     "47247fce72bb4d69a69126d42b68d344": {
      "model_module": "@jupyter-widgets/controls",
      "model_module_version": "1.5.0",
      "model_name": "FloatSliderModel",
      "state": {
       "description": "thetan",
       "layout": "IPY_MODEL_b619ba5cd68c4930b0b50d68a240c503",
       "max": 12.566370614359172,
       "step": 0.1,
       "style": "IPY_MODEL_8aabfa5087e14ec19f65d05b01c8c64c",
       "value": 5.2
      }
     },
     "4903cacad1284ccd8f00a8829d602996": {
      "model_module": "@jupyter-widgets/controls",
      "model_module_version": "1.5.0",
      "model_name": "SliderStyleModel",
      "state": {
       "description_width": ""
      }
     },
     "4c7625a0c03e485f8735698f4b456241": {
      "model_module": "@jupyter-widgets/controls",
      "model_module_version": "1.5.0",
      "model_name": "SliderStyleModel",
      "state": {
       "description_width": ""
      }
     },
     "50e8afce2769454281522bf7004a6e39": {
      "model_module": "@jupyter-widgets/base",
      "model_module_version": "1.2.0",
      "model_name": "LayoutModel",
      "state": {}
     },
     "57c54f8e0de14d10846284838bfa73fc": {
      "model_module": "@jupyter-widgets/base",
      "model_module_version": "1.2.0",
      "model_name": "LayoutModel",
      "state": {}
     },
     "5a620728ac4e421b9879948c8fc5602a": {
      "model_module": "@jupyter-widgets/controls",
      "model_module_version": "1.5.0",
      "model_name": "SliderStyleModel",
      "state": {
       "description_width": ""
      }
     },
     "61d3d868b1924492b0f45511787b55b9": {
      "model_module": "@jupyter-widgets/controls",
      "model_module_version": "1.5.0",
      "model_name": "VBoxModel",
      "state": {
       "_dom_classes": [
        "widget-interact"
       ],
       "children": [
        "IPY_MODEL_fb5b704e252341dc8411b6ceb665b9b3",
        "IPY_MODEL_b574e731d8274857b2ace108f6bde762",
        "IPY_MODEL_9d74f5a036014b7299fe839df75f4c2f",
        "IPY_MODEL_7d2bb5bcee784471850be880d83fd6d5",
        "IPY_MODEL_d62b8c4932184b77b61b59ee0025d643",
        "IPY_MODEL_7977b67d494640439fd7f9291040f41b"
       ],
       "layout": "IPY_MODEL_b8bf732420414d158dee86ce5499d08e"
      }
     },
     "64770c8c29a340a7839354c23d726fe0": {
      "model_module": "@jupyter-widgets/base",
      "model_module_version": "1.2.0",
      "model_name": "LayoutModel",
      "state": {}
     },
     "64c1826bef0c4c79bd636d372dbf5014": {
      "model_module": "@jupyter-widgets/controls",
      "model_module_version": "1.5.0",
      "model_name": "SliderStyleModel",
      "state": {
       "description_width": ""
      }
     },
     "64d3b3099cab4d9d9f7527b404461918": {
      "model_module": "@jupyter-widgets/base",
      "model_module_version": "1.2.0",
      "model_name": "LayoutModel",
      "state": {}
     },
     "65d638082d0a4da2b5b0291a9be34dd4": {
      "model_module": "@jupyter-widgets/base",
      "model_module_version": "1.2.0",
      "model_name": "LayoutModel",
      "state": {}
     },
     "6b05cd0a94da4f28b63cdb4dd1c6cb42": {
      "model_module": "@jupyter-widgets/base",
      "model_module_version": "1.2.0",
      "model_name": "LayoutModel",
      "state": {}
     },
     "6fd0d4c39d3f4809b710c910f279c89a": {
      "model_module": "@jupyter-widgets/controls",
      "model_module_version": "1.5.0",
      "model_name": "SliderStyleModel",
      "state": {
       "description_width": ""
      }
     },
     "722e088fadeb4142847e63a4ccfc52ff": {
      "model_module": "@jupyter-widgets/controls",
      "model_module_version": "1.5.0",
      "model_name": "IntSliderModel",
      "state": {
       "description": "bn",
       "layout": "IPY_MODEL_9da78f405f7c4689885c7bdf45358c89",
       "max": 20,
       "min": 1,
       "style": "IPY_MODEL_a035647897094c208429c06cdc7ba79f",
       "value": 12
      }
     },
     "733bd66bcd6b4f4a881e17e8b2042096": {
      "model_module": "@jupyter-widgets/base",
      "model_module_version": "1.2.0",
      "model_name": "LayoutModel",
      "state": {}
     },
     "77fa36fd3cf347f19d803edd36c871c4": {
      "model_module": "@jupyter-widgets/base",
      "model_module_version": "1.2.0",
      "model_name": "LayoutModel",
      "state": {}
     },
     "792762cfe19a4f0aae64d011efb583bd": {
      "model_module": "@jupyter-widgets/controls",
      "model_module_version": "1.5.0",
      "model_name": "IntSliderModel",
      "state": {
       "description": "dn",
       "layout": "IPY_MODEL_9884640535fc41b487093d0337f06c10",
       "max": 20,
       "min": 1,
       "style": "IPY_MODEL_5a620728ac4e421b9879948c8fc5602a",
       "value": 11
      }
     },
     "7977b67d494640439fd7f9291040f41b": {
      "model_module": "@jupyter-widgets/output",
      "model_module_version": "1.0.0",
      "model_name": "OutputModel",
      "state": {
       "layout": "IPY_MODEL_1910a953ed3b4d6e8bce920ee7b0fb98",
       "outputs": [
        {
         "name": "stdout",
         "output_type": "stream",
         "text": "Grashof\n"
        },
        {
         "data": {
          "image/png": "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\n",
          "text/plain": "<Figure size 750x750 with 1 Axes>"
         },
         "metadata": {
          "needs_background": "light"
         },
         "output_type": "display_data"
        }
       ]
      }
     },
     "7d2bb5bcee784471850be880d83fd6d5": {
      "model_module": "@jupyter-widgets/controls",
      "model_module_version": "1.5.0",
      "model_name": "IntSliderModel",
      "state": {
       "description": "dn",
       "layout": "IPY_MODEL_a36eccd4923f4bb8b05faf3874a4166c",
       "max": 20,
       "min": 1,
       "style": "IPY_MODEL_9e511a9e6c884f7ba8dd5636047654b1",
       "value": 10
      }
     },
     "7f9b647107ab4b6f86e8be691e6f9e2c": {
      "model_module": "@jupyter-widgets/controls",
      "model_module_version": "1.5.0",
      "model_name": "SliderStyleModel",
      "state": {
       "description_width": ""
      }
     },
     "8237e311b7324e63b890a1588b2290c4": {
      "model_module": "@jupyter-widgets/controls",
      "model_module_version": "1.5.0",
      "model_name": "IntSliderModel",
      "state": {
       "description": "bn",
       "layout": "IPY_MODEL_dc7d000bb40345189ad9356fd3cfa639",
       "max": 20,
       "min": 1,
       "style": "IPY_MODEL_e34998f1410e4a80bb6fae5a2b981451",
       "value": 10
      }
     },
     "8419f1b84aee4ce4a6b687e13d09ef4c": {
      "model_module": "@jupyter-widgets/controls",
      "model_module_version": "1.5.0",
      "model_name": "IntSliderModel",
      "state": {
       "description": "cn",
       "layout": "IPY_MODEL_50e8afce2769454281522bf7004a6e39",
       "max": 20,
       "min": 1,
       "style": "IPY_MODEL_fd22a6cb01ea4115a24a41352bdd4376",
       "value": 10
      }
     },
     "85a988b312d14fb8be699d57e8e27c10": {
      "model_module": "@jupyter-widgets/base",
      "model_module_version": "1.2.0",
      "model_name": "LayoutModel",
      "state": {}
     },
     "8aabfa5087e14ec19f65d05b01c8c64c": {
      "model_module": "@jupyter-widgets/controls",
      "model_module_version": "1.5.0",
      "model_name": "SliderStyleModel",
      "state": {
       "description_width": ""
      }
     },
     "8b06f4590b8946b8a0ba2a8631b102b6": {
      "model_module": "@jupyter-widgets/controls",
      "model_module_version": "1.5.0",
      "model_name": "FloatSliderModel",
      "state": {
       "description": "thetan",
       "layout": "IPY_MODEL_b08938e4186947dbb0f8bee739a19997",
       "max": 12.566370614359172,
       "step": 0.1,
       "style": "IPY_MODEL_4903cacad1284ccd8f00a8829d602996",
       "value": 7.6
      }
     },
     "8bdbb76818bb4b91952397bc76975617": {
      "model_module": "@jupyter-widgets/controls",
      "model_module_version": "1.5.0",
      "model_name": "SliderStyleModel",
      "state": {
       "description_width": ""
      }
     },
     "8fdf4379c7954330838669cbaf8370a7": {
      "model_module": "@jupyter-widgets/controls",
      "model_module_version": "1.5.0",
      "model_name": "VBoxModel",
      "state": {
       "_dom_classes": [
        "widget-interact"
       ],
       "children": [
        "IPY_MODEL_a5fa3ec863764be6b14b896195bcaead",
        "IPY_MODEL_8237e311b7324e63b890a1588b2290c4",
        "IPY_MODEL_8419f1b84aee4ce4a6b687e13d09ef4c",
        "IPY_MODEL_e3032790379e499ba22bc7e6a116a957",
        "IPY_MODEL_8b06f4590b8946b8a0ba2a8631b102b6",
        "IPY_MODEL_eb8ed039d0e5485b97a7f61d1b9d00fe"
       ],
       "layout": "IPY_MODEL_ef3c5d4186034665b8916b322a4e4a8c"
      }
     },
     "919420f4784a41a3be95572623b50bd6": {
      "model_module": "@jupyter-widgets/output",
      "model_module_version": "1.0.0",
      "model_name": "OutputModel",
      "state": {
       "layout": "IPY_MODEL_65d638082d0a4da2b5b0291a9be34dd4",
       "outputs": [
        {
         "name": "stdout",
         "output_type": "stream",
         "text": "Não-Grashof\n"
        },
        {
         "data": {
          "image/png": "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\n",
          "text/plain": "<Figure size 750x750 with 1 Axes>"
         },
         "metadata": {
          "needs_background": "light"
         },
         "output_type": "display_data"
        }
       ]
      }
     },
     "91e43a24050f412995b86cddf39ec70e": {
      "model_module": "@jupyter-widgets/controls",
      "model_module_version": "1.5.0",
      "model_name": "SliderStyleModel",
      "state": {
       "description_width": ""
      }
     },
     "93c05e85d0854e0d8f974eb777415ccc": {
      "model_module": "@jupyter-widgets/controls",
      "model_module_version": "1.5.0",
      "model_name": "IntSliderModel",
      "state": {
       "description": "bn",
       "layout": "IPY_MODEL_64d3b3099cab4d9d9f7527b404461918",
       "max": 20,
       "min": 1,
       "style": "IPY_MODEL_7f9b647107ab4b6f86e8be691e6f9e2c",
       "value": 10
      }
     },
     "96799371bc0d405cb1e43f0545f3069b": {
      "model_module": "@jupyter-widgets/controls",
      "model_module_version": "1.5.0",
      "model_name": "FloatSliderModel",
      "state": {
       "description": "thetan",
       "layout": "IPY_MODEL_124feb46515f493aaf303d9c5eb78ca9",
       "max": 12.566370614359172,
       "step": 0.1,
       "style": "IPY_MODEL_057810a24e494ff689587e485c364113",
       "value": 6.283185307179586
      }
     },
     "97b4e6a424b646e588f7163430650eea": {
      "model_module": "@jupyter-widgets/base",
      "model_module_version": "1.2.0",
      "model_name": "LayoutModel",
      "state": {}
     },
     "9884640535fc41b487093d0337f06c10": {
      "model_module": "@jupyter-widgets/base",
      "model_module_version": "1.2.0",
      "model_name": "LayoutModel",
      "state": {}
     },
     "9d74f5a036014b7299fe839df75f4c2f": {
      "model_module": "@jupyter-widgets/controls",
      "model_module_version": "1.5.0",
      "model_name": "IntSliderModel",
      "state": {
       "description": "cn",
       "layout": "IPY_MODEL_d62c48c392d84befa8c43bd73b9defc8",
       "max": 20,
       "min": 1,
       "style": "IPY_MODEL_f584970036d64074970e92612ae90f6a",
       "value": 10
      }
     },
     "9da78f405f7c4689885c7bdf45358c89": {
      "model_module": "@jupyter-widgets/base",
      "model_module_version": "1.2.0",
      "model_name": "LayoutModel",
      "state": {}
     },
     "9e511a9e6c884f7ba8dd5636047654b1": {
      "model_module": "@jupyter-widgets/controls",
      "model_module_version": "1.5.0",
      "model_name": "SliderStyleModel",
      "state": {
       "description_width": ""
      }
     },
     "a035647897094c208429c06cdc7ba79f": {
      "model_module": "@jupyter-widgets/controls",
      "model_module_version": "1.5.0",
      "model_name": "SliderStyleModel",
      "state": {
       "description_width": ""
      }
     },
     "a2ff4b1c7b144b96a3cc2ea112a18f29": {
      "model_module": "@jupyter-widgets/controls",
      "model_module_version": "1.5.0",
      "model_name": "VBoxModel",
      "state": {
       "_dom_classes": [
        "widget-interact"
       ],
       "children": [
        "IPY_MODEL_d0dc406e98da45a097b0c6eab8d17dc1",
        "IPY_MODEL_f470906a1fbb4c2b9be7027b77ce651e",
        "IPY_MODEL_40a0e22e593c490fbafb939b38a87615",
        "IPY_MODEL_792762cfe19a4f0aae64d011efb583bd",
        "IPY_MODEL_daa7d96fe48b4dff8d7ce4a014060248",
        "IPY_MODEL_919420f4784a41a3be95572623b50bd6"
       ],
       "layout": "IPY_MODEL_85a988b312d14fb8be699d57e8e27c10"
      }
     },
     "a36eccd4923f4bb8b05faf3874a4166c": {
      "model_module": "@jupyter-widgets/base",
      "model_module_version": "1.2.0",
      "model_name": "LayoutModel",
      "state": {}
     },
     "a3e03a238a4a43ff90a6768c30387ed2": {
      "model_module": "@jupyter-widgets/controls",
      "model_module_version": "1.5.0",
      "model_name": "SliderStyleModel",
      "state": {
       "description_width": ""
      }
     },
     "a5fa3ec863764be6b14b896195bcaead": {
      "model_module": "@jupyter-widgets/controls",
      "model_module_version": "1.5.0",
      "model_name": "IntSliderModel",
      "state": {
       "description": "an",
       "layout": "IPY_MODEL_abbcf0cd100c4a66ae2a4e0cc78e5690",
       "max": 20,
       "min": 1,
       "style": "IPY_MODEL_e58faf2902c949f8abd41ca94e2b725d",
       "value": 7
      }
     },
     "ab26f86fc2ef445b813211c3027abc83": {
      "model_module": "@jupyter-widgets/base",
      "model_module_version": "1.2.0",
      "model_name": "LayoutModel",
      "state": {}
     },
     "abbcf0cd100c4a66ae2a4e0cc78e5690": {
      "model_module": "@jupyter-widgets/base",
      "model_module_version": "1.2.0",
      "model_name": "LayoutModel",
      "state": {}
     },
     "ae38ad102f7b4202afcdf31b636f1ac6": {
      "model_module": "@jupyter-widgets/base",
      "model_module_version": "1.2.0",
      "model_name": "LayoutModel",
      "state": {}
     },
     "afa39164265642cca115cc6aac255a90": {
      "model_module": "@jupyter-widgets/base",
      "model_module_version": "1.2.0",
      "model_name": "LayoutModel",
      "state": {}
     },
     "b08938e4186947dbb0f8bee739a19997": {
      "model_module": "@jupyter-widgets/base",
      "model_module_version": "1.2.0",
      "model_name": "LayoutModel",
      "state": {}
     },
     "b4f29f431ca943e186acd638d28403e1": {
      "model_module": "@jupyter-widgets/base",
      "model_module_version": "1.2.0",
      "model_name": "LayoutModel",
      "state": {}
     },
     "b574e731d8274857b2ace108f6bde762": {
      "model_module": "@jupyter-widgets/controls",
      "model_module_version": "1.5.0",
      "model_name": "IntSliderModel",
      "state": {
       "description": "bn",
       "layout": "IPY_MODEL_afa39164265642cca115cc6aac255a90",
       "max": 20,
       "min": 1,
       "style": "IPY_MODEL_42adb2838a6644f8a6d51dcc243a0a88",
       "value": 10
      }
     },
     "b619ba5cd68c4930b0b50d68a240c503": {
      "model_module": "@jupyter-widgets/base",
      "model_module_version": "1.2.0",
      "model_name": "LayoutModel",
      "state": {}
     },
     "b8bf732420414d158dee86ce5499d08e": {
      "model_module": "@jupyter-widgets/base",
      "model_module_version": "1.2.0",
      "model_name": "LayoutModel",
      "state": {}
     },
     "bab885a127ad4d48954dca2978ec50b2": {
      "model_module": "@jupyter-widgets/controls",
      "model_module_version": "1.5.0",
      "model_name": "IntSliderModel",
      "state": {
       "description": "an",
       "layout": "IPY_MODEL_77fa36fd3cf347f19d803edd36c871c4",
       "max": 20,
       "min": 1,
       "step": 2,
       "style": "IPY_MODEL_91e43a24050f412995b86cddf39ec70e",
       "value": 15
      }
     },
     "be539025f8254ae5b5d596af29d20d00": {
      "model_module": "@jupyter-widgets/controls",
      "model_module_version": "1.5.0",
      "model_name": "IntSliderModel",
      "state": {
       "description": "dn",
       "layout": "IPY_MODEL_de7b2cc3af9445b794c7c0bdf0c0b6fa",
       "max": 20,
       "min": 1,
       "style": "IPY_MODEL_a3e03a238a4a43ff90a6768c30387ed2",
       "value": 13
      }
     },
     "bf0992874479438c862928a4364e2239": {
      "model_module": "@jupyter-widgets/controls",
      "model_module_version": "1.5.0",
      "model_name": "SliderStyleModel",
      "state": {
       "description_width": ""
      }
     },
     "bfd68ede1b654572affe57efb55414ff": {
      "model_module": "@jupyter-widgets/base",
      "model_module_version": "1.2.0",
      "model_name": "LayoutModel",
      "state": {}
     },
     "c07c1dfc56994dbf80c9c66fffe4488d": {
      "model_module": "@jupyter-widgets/controls",
      "model_module_version": "1.5.0",
      "model_name": "IntSliderModel",
      "state": {
       "description": "cn",
       "layout": "IPY_MODEL_733bd66bcd6b4f4a881e17e8b2042096",
       "max": 20,
       "min": 1,
       "style": "IPY_MODEL_dbc50313769c4d418fdcbe138c00fb23",
       "value": 15
      }
     },
     "c23d689ae9cf4684904bb9f79556d9a8": {
      "model_module": "@jupyter-widgets/controls",
      "model_module_version": "1.5.0",
      "model_name": "SliderStyleModel",
      "state": {
       "description_width": ""
      }
     },
     "c38e4bf8efac4988bdf53f6db8a8d069": {
      "model_module": "@jupyter-widgets/controls",
      "model_module_version": "1.5.0",
      "model_name": "SliderStyleModel",
      "state": {
       "description_width": ""
      }
     },
     "c6342a220cd14dc99369ed3afb27c884": {
      "model_module": "@jupyter-widgets/base",
      "model_module_version": "1.2.0",
      "model_name": "LayoutModel",
      "state": {}
     },
     "cb09880e27da4c29b3b7bd42156ac924": {
      "model_module": "@jupyter-widgets/base",
      "model_module_version": "1.2.0",
      "model_name": "LayoutModel",
      "state": {}
     },
     "d0dc406e98da45a097b0c6eab8d17dc1": {
      "model_module": "@jupyter-widgets/controls",
      "model_module_version": "1.5.0",
      "model_name": "IntSliderModel",
      "state": {
       "description": "an",
       "layout": "IPY_MODEL_2138628862484b16979c45940d5ad8fc",
       "max": 20,
       "min": 1,
       "style": "IPY_MODEL_3ee5350627ae4de186c9fd338a9c77f6",
       "value": 13
      }
     },
     "d62b8c4932184b77b61b59ee0025d643": {
      "model_module": "@jupyter-widgets/controls",
      "model_module_version": "1.5.0",
      "model_name": "FloatSliderModel",
      "state": {
       "description": "thetan",
       "layout": "IPY_MODEL_ae38ad102f7b4202afcdf31b636f1ac6",
       "max": 12.566370614359172,
       "step": 0.1,
       "style": "IPY_MODEL_6fd0d4c39d3f4809b710c910f279c89a",
       "value": 2
      }
     },
     "d62c48c392d84befa8c43bd73b9defc8": {
      "model_module": "@jupyter-widgets/base",
      "model_module_version": "1.2.0",
      "model_name": "LayoutModel",
      "state": {}
     },
     "d78bede0c0e143669f38ff60beb58789": {
      "model_module": "@jupyter-widgets/base",
      "model_module_version": "1.2.0",
      "model_name": "LayoutModel",
      "state": {}
     },
     "daa7d96fe48b4dff8d7ce4a014060248": {
      "model_module": "@jupyter-widgets/controls",
      "model_module_version": "1.5.0",
      "model_name": "FloatSliderModel",
      "state": {
       "description": "thetan",
       "layout": "IPY_MODEL_b4f29f431ca943e186acd638d28403e1",
       "max": 12.566370614359172,
       "step": 0.1,
       "style": "IPY_MODEL_c23d689ae9cf4684904bb9f79556d9a8",
       "value": 6.8
      }
     },
     "dbc50313769c4d418fdcbe138c00fb23": {
      "model_module": "@jupyter-widgets/controls",
      "model_module_version": "1.5.0",
      "model_name": "SliderStyleModel",
      "state": {
       "description_width": ""
      }
     },
     "dc7d000bb40345189ad9356fd3cfa639": {
      "model_module": "@jupyter-widgets/base",
      "model_module_version": "1.2.0",
      "model_name": "LayoutModel",
      "state": {}
     },
     "de7b2cc3af9445b794c7c0bdf0c0b6fa": {
      "model_module": "@jupyter-widgets/base",
      "model_module_version": "1.2.0",
      "model_name": "LayoutModel",
      "state": {}
     },
     "e3032790379e499ba22bc7e6a116a957": {
      "model_module": "@jupyter-widgets/controls",
      "model_module_version": "1.5.0",
      "model_name": "IntSliderModel",
      "state": {
       "description": "dn",
       "layout": "IPY_MODEL_57c54f8e0de14d10846284838bfa73fc",
       "max": 20,
       "min": 1,
       "style": "IPY_MODEL_4c7625a0c03e485f8735698f4b456241",
       "value": 10
      }
     },
     "e34998f1410e4a80bb6fae5a2b981451": {
      "model_module": "@jupyter-widgets/controls",
      "model_module_version": "1.5.0",
      "model_name": "SliderStyleModel",
      "state": {
       "description_width": ""
      }
     },
     "e58faf2902c949f8abd41ca94e2b725d": {
      "model_module": "@jupyter-widgets/controls",
      "model_module_version": "1.5.0",
      "model_name": "SliderStyleModel",
      "state": {
       "description_width": ""
      }
     },
     "eb8ed039d0e5485b97a7f61d1b9d00fe": {
      "model_module": "@jupyter-widgets/output",
      "model_module_version": "1.0.0",
      "model_name": "OutputModel",
      "state": {
       "layout": "IPY_MODEL_97b4e6a424b646e588f7163430650eea",
       "outputs": [
        {
         "name": "stdout",
         "output_type": "stream",
         "text": "Grashof\n"
        },
        {
         "data": {
          "image/png": "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\n",
          "text/plain": "<Figure size 750x750 with 1 Axes>"
         },
         "metadata": {
          "needs_background": "light"
         },
         "output_type": "display_data"
        }
       ]
      }
     },
     "ef3c5d4186034665b8916b322a4e4a8c": {
      "model_module": "@jupyter-widgets/base",
      "model_module_version": "1.2.0",
      "model_name": "LayoutModel",
      "state": {}
     },
     "f12793bc35c9412ba6966ea883e46a4c": {
      "model_module": "@jupyter-widgets/controls",
      "model_module_version": "1.5.0",
      "model_name": "SliderStyleModel",
      "state": {
       "description_width": ""
      }
     },
     "f470906a1fbb4c2b9be7027b77ce651e": {
      "model_module": "@jupyter-widgets/controls",
      "model_module_version": "1.5.0",
      "model_name": "IntSliderModel",
      "state": {
       "description": "bn",
       "layout": "IPY_MODEL_6b05cd0a94da4f28b63cdb4dd1c6cb42",
       "max": 20,
       "min": 1,
       "style": "IPY_MODEL_f9152e7724db41ec90e1db46749c7e4b",
       "value": 11
      }
     },
     "f584970036d64074970e92612ae90f6a": {
      "model_module": "@jupyter-widgets/controls",
      "model_module_version": "1.5.0",
      "model_name": "SliderStyleModel",
      "state": {
       "description_width": ""
      }
     },
     "f7450cc405614f6eab2fbfccdd28cdff": {
      "model_module": "@jupyter-widgets/controls",
      "model_module_version": "1.5.0",
      "model_name": "VBoxModel",
      "state": {
       "_dom_classes": [
        "widget-interact"
       ],
       "children": [
        "IPY_MODEL_21d9c60f5f1b482ca0e0c4f196874cae",
        "IPY_MODEL_722e088fadeb4142847e63a4ccfc52ff",
        "IPY_MODEL_c07c1dfc56994dbf80c9c66fffe4488d",
        "IPY_MODEL_be539025f8254ae5b5d596af29d20d00",
        "IPY_MODEL_47247fce72bb4d69a69126d42b68d344",
        "IPY_MODEL_2a77e0af97d543cd91fb5c7253394cd9"
       ],
       "layout": "IPY_MODEL_bfd68ede1b654572affe57efb55414ff"
      }
     },
     "f9152e7724db41ec90e1db46749c7e4b": {
      "model_module": "@jupyter-widgets/controls",
      "model_module_version": "1.5.0",
      "model_name": "SliderStyleModel",
      "state": {
       "description_width": ""
      }
     },
     "fb5b704e252341dc8411b6ceb665b9b3": {
      "model_module": "@jupyter-widgets/controls",
      "model_module_version": "1.5.0",
      "model_name": "IntSliderModel",
      "state": {
       "description": "an",
       "layout": "IPY_MODEL_cb09880e27da4c29b3b7bd42156ac924",
       "max": 20,
       "min": 1,
       "style": "IPY_MODEL_c38e4bf8efac4988bdf53f6db8a8d069",
       "value": 8
      }
     },
     "fb8425718cd54380a7aa3f99fb96bc09": {
      "model_module": "@jupyter-widgets/controls",
      "model_module_version": "1.5.0",
      "model_name": "IntSliderModel",
      "state": {
       "description": "dn",
       "layout": "IPY_MODEL_ab26f86fc2ef445b813211c3027abc83",
       "max": 20,
       "min": 1,
       "style": "IPY_MODEL_8bdbb76818bb4b91952397bc76975617",
       "value": 10
      }
     },
     "fd22a6cb01ea4115a24a41352bdd4376": {
      "model_module": "@jupyter-widgets/controls",
      "model_module_version": "1.5.0",
      "model_name": "SliderStyleModel",
      "state": {
       "description_width": ""
      }
     }
    },
    "version_major": 2,
    "version_minor": 0
   }
  }
 },
 "nbformat": 4,
 "nbformat_minor": 4
}
