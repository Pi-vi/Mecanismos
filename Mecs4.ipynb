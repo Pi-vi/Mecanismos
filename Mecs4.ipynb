{
 "cells": [
  {
   "cell_type": "markdown",
   "metadata": {
    "slideshow": {
     "slide_type": "slide"
    }
   },
   "source": [
    "# 4. Análise de Posição\n",
    "Professor Paulo Victor <br>\n",
    "e-mail: paulo.gomes@cefet-rj.br <br>\n",
    "CEFET/RJ Campus Angra dos Reis - Sala 6E\n",
    "<br>\n",
    "<br>\n",
    "*Este material é um resumo do livro* **Cinemática e Dinâmica dos Mecanismos** *do autor Robert L. Norton, Editora AMGH, publicado em 2010, de modo a servir apenas como um guia para estudos e para as aulas. Este material não substitui a leitura do livro.* "
   ]
  },
  {
   "cell_type": "markdown",
   "metadata": {
    "slideshow": {
     "slide_type": "subslide"
    }
   },
   "source": [
    "Uma vez que um projeto de mecanismo tenha sido **sintetizado**, ele deve ser **analisado**. <br>\n",
    "O principal objetivo de uma análise cinemática é determinar as acelerações de todas as partes móveis do conjunto. **Forças Dinâmicas** são proporcionais à aceleração conforme a segunda lei de Newton. Precisamos conhecer as forças dinâmicas para calcularmos as **tensões** nos componentes."
   ]
  },
  {
   "cell_type": "markdown",
   "metadata": {
    "slideshow": {
     "slide_type": "subslide"
    }
   },
   "source": [
    "![](figs4-0.jpg)"
   ]
  },
  {
   "cell_type": "markdown",
   "metadata": {
    "slideshow": {
     "slide_type": "slide"
    }
   },
   "source": [
    "## 4.1 Sistemas de Coordenadas"
   ]
  },
  {
   "cell_type": "markdown",
   "metadata": {
    "slideshow": {
     "slide_type": "subslide"
    }
   },
   "source": [
    "* Sistema de coordenadas global ou absoluto\n",
    "* Sistema de coordenadas local"
   ]
  },
  {
   "cell_type": "code",
   "execution_count": 1,
   "metadata": {
    "slideshow": {
     "slide_type": "fragment"
    }
   },
   "outputs": [
    {
     "data": {
      "image/svg+xml": [
       "<svg xmlns:dc=\"http://purl.org/dc/elements/1.1/\" xmlns:cc=\"http://creativecommons.org/ns#\" xmlns:rdf=\"http://www.w3.org/1999/02/22-rdf-syntax-ns#\" xmlns:svg=\"http://www.w3.org/2000/svg\" xmlns=\"http://www.w3.org/2000/svg\" xmlns:sodipodi=\"http://sodipodi.sourceforge.net/DTD/sodipodi-0.dtd\" xmlns:inkscape=\"http://www.inkscape.org/namespaces/inkscape\" width=\"79.856323mm\" height=\"104.18919mm\" viewBox=\"0 0 79.856323 104.18919\" version=\"1.1\" id=\"svg8\" inkscape:version=\"1.0.1 (3bc2e813f5, 2020-09-07)\" sodipodi:docname=\"figs4-1.svg\">\n",
       "  <defs id=\"defs2\">\n",
       "    <marker style=\"overflow:visible\" id=\"marker4131\" refX=\"0\" refY=\"0\" orient=\"auto\" inkscape:stockid=\"Arrow1Lend\" inkscape:isstock=\"true\">\n",
       "      <path transform=\"matrix(-0.8,0,0,-0.8,-10,0)\" style=\"fill:#000000;fill-opacity:1;fill-rule:evenodd;stroke:#000000;stroke-width:1pt;stroke-opacity:1\" d=\"M 0,0 5,-5 -12.5,0 5,5 Z\" id=\"path4129\"/>\n",
       "    </marker>\n",
       "    <marker style=\"overflow:visible\" id=\"marker4049\" refX=\"0\" refY=\"0\" orient=\"auto\" inkscape:stockid=\"Arrow1Lend\" inkscape:isstock=\"true\">\n",
       "      <path transform=\"matrix(-0.8,0,0,-0.8,-10,0)\" style=\"fill:#000000;fill-opacity:1;fill-rule:evenodd;stroke:#000000;stroke-width:1pt;stroke-opacity:1\" d=\"M 0,0 5,-5 -12.5,0 5,5 Z\" id=\"path4047\"/>\n",
       "    </marker>\n",
       "    <marker style=\"overflow:visible\" id=\"marker3901\" refX=\"0\" refY=\"0\" orient=\"auto\" inkscape:stockid=\"Arrow1Lend\" inkscape:isstock=\"true\" inkscape:collect=\"always\">\n",
       "      <path transform=\"matrix(-0.8,0,0,-0.8,-10,0)\" style=\"fill:#000000;fill-opacity:1;fill-rule:evenodd;stroke:#000000;stroke-width:1pt;stroke-opacity:1\" d=\"M 0,0 5,-5 -12.5,0 5,5 Z\" id=\"path3899\"/>\n",
       "    </marker>\n",
       "    <marker style=\"overflow:visible\" id=\"marker3757\" refX=\"0\" refY=\"0\" orient=\"auto\" inkscape:stockid=\"Arrow1Lend\" inkscape:isstock=\"true\">\n",
       "      <path transform=\"matrix(-0.8,0,0,-0.8,-10,0)\" style=\"fill:#0000ff;fill-opacity:1;fill-rule:evenodd;stroke:#0000ff;stroke-width:1pt;stroke-opacity:1\" d=\"M 0,0 5,-5 -12.5,0 5,5 Z\" id=\"path3755\"/>\n",
       "    </marker>\n",
       "    <marker style=\"overflow:visible\" id=\"marker3747\" refX=\"0\" refY=\"0\" orient=\"auto\" inkscape:stockid=\"Arrow1Lend\" inkscape:isstock=\"true\">\n",
       "      <path transform=\"matrix(-0.8,0,0,-0.8,-10,0)\" style=\"fill:#0000ff;fill-opacity:1;fill-rule:evenodd;stroke:#0000ff;stroke-width:1pt;stroke-opacity:1\" d=\"M 0,0 5,-5 -12.5,0 5,5 Z\" id=\"path3745\"/>\n",
       "    </marker>\n",
       "    <marker style=\"overflow:visible\" id=\"marker3697\" refX=\"0\" refY=\"0\" orient=\"auto\" inkscape:stockid=\"Arrow1Lend\" inkscape:isstock=\"true\" inkscape:collect=\"always\">\n",
       "      <path transform=\"matrix(-0.8,0,0,-0.8,-10,0)\" style=\"fill:#ff0000;fill-opacity:1;fill-rule:evenodd;stroke:#ff0000;stroke-width:1pt;stroke-opacity:1\" d=\"M 0,0 5,-5 -12.5,0 5,5 Z\" id=\"path3695\"/>\n",
       "    </marker>\n",
       "    <marker style=\"overflow:visible\" id=\"Arrow1Lend\" refX=\"0\" refY=\"0\" orient=\"auto\" inkscape:stockid=\"Arrow1Lend\" inkscape:isstock=\"true\" inkscape:collect=\"always\">\n",
       "      <path transform=\"matrix(-0.8,0,0,-0.8,-10,0)\" style=\"fill:#ff0000;fill-opacity:1;fill-rule:evenodd;stroke:#ff0000;stroke-width:1pt;stroke-opacity:1\" d=\"M 0,0 5,-5 -12.5,0 5,5 Z\" id=\"path2822\"/>\n",
       "    </marker>\n",
       "    <marker style=\"overflow:visible\" id=\"Arrow1Lstart\" refX=\"0\" refY=\"0\" orient=\"auto\" inkscape:stockid=\"Arrow1Lstart\" inkscape:isstock=\"true\">\n",
       "      <path transform=\"matrix(0.8,0,0,0.8,10,0)\" style=\"fill:#000000;fill-opacity:1;fill-rule:evenodd;stroke:#000000;stroke-width:1pt;stroke-opacity:1\" d=\"M 0,0 5,-5 -12.5,0 5,5 Z\" id=\"path2819\"/>\n",
       "    </marker>\n",
       "  </defs>\n",
       "  <sodipodi:namedview id=\"base\" pagecolor=\"#ffffff\" bordercolor=\"#666666\" borderopacity=\"1.0\" inkscape:pageopacity=\"0.0\" inkscape:pageshadow=\"2\" inkscape:zoom=\"1.4\" inkscape:cx=\"413.09044\" inkscape:cy=\"179.65562\" inkscape:document-units=\"mm\" inkscape:current-layer=\"layer2\" inkscape:document-rotation=\"0\" showgrid=\"false\" inkscape:snap-smooth-nodes=\"true\" inkscape:window-width=\"1920\" inkscape:window-height=\"1017\" inkscape:window-x=\"-8\" inkscape:window-y=\"-8\" inkscape:window-maximized=\"1\"/>\n",
       "  <metadata id=\"metadata5\">\n",
       "    <rdf:RDF>\n",
       "      <cc:Work rdf:about=\"\">\n",
       "        <dc:format>image/svg+xml</dc:format>\n",
       "        <dc:type rdf:resource=\"http://purl.org/dc/dcmitype/StillImage\"/>\n",
       "        <dc:title/>\n",
       "      </cc:Work>\n",
       "    </rdf:RDF>\n",
       "  </metadata>\n",
       "  <g inkscape:groupmode=\"layer\" id=\"layer2\" inkscape:label=\"Layer 2\">\n",
       "    <rect style=\"fill:#ffffff;stroke:#ffffff;stroke-width:0.865\" id=\"rect984\" width=\"79.742203\" height=\"104.01419\" x=\"-0.1889881\" y=\"0\"/>\n",
       "  </g>\n",
       "  <g inkscape:label=\"Layer 1\" inkscape:groupmode=\"layer\" id=\"layer1\" transform=\"translate(-52.286574,-9.575667)\">\n",
       "    <g inkscape:label=\"Layer 1\" id=\"layer1-3\" transform=\"translate(30.1001,-59.712217)\">\n",
       "      <path id=\"path839\" style=\"fill:#ffffff;stroke:#000000;stroke-width:2.64567;stroke-linejoin:bevel;stroke-miterlimit:4;stroke-dasharray:none\" d=\"M 219.92383,480 A 39.999999,39.999999 0 0 0 180,520 a 39.999999,39.999999 0 0 0 0,0.0762 V 590 h 80 v -70 a 39.999999,39.999999 0 0 0 -40,-40 39.999999,39.999999 0 0 0 -0.0762,0 z\" transform=\"scale(0.26458333)\"/>\n",
       "      <path style=\"fill:none;stroke:#000000;stroke-width:0.7;stroke-linecap:butt;stroke-linejoin:miter;stroke-miterlimit:4;stroke-dasharray:none;stroke-opacity:1\" d=\"M 22.489583,156.10416 H 99.218749\" id=\"path850\"/>\n",
       "      <path style=\"fill:none;stroke:#000000;stroke-width:0.7;stroke-linecap:butt;stroke-linejoin:miter;stroke-miterlimit:4;stroke-dasharray:none;stroke-opacity:1\" d=\"m 22.489583,156.10416 9.929222,17.19792\" id=\"path852\"/>\n",
       "      <path style=\"fill:none;stroke:#000000;stroke-width:0.7;stroke-linecap:butt;stroke-linejoin:miter;stroke-miterlimit:4;stroke-dasharray:none;stroke-opacity:1\" d=\"m 39.952094,156.10416 9.929222,17.19792\" id=\"path854\"/>\n",
       "      <path style=\"fill:none;stroke:#000000;stroke-width:0.7;stroke-linecap:butt;stroke-linejoin:miter;stroke-miterlimit:4;stroke-dasharray:none;stroke-opacity:1\" d=\"m 56.885438,156.10416 9.929222,17.19792\" id=\"path856\"/>\n",
       "      <path style=\"fill:none;stroke:#000000;stroke-width:0.7;stroke-linecap:butt;stroke-linejoin:miter;stroke-miterlimit:4;stroke-dasharray:none;stroke-opacity:1\" d=\"m 74.347949,156.10416 9.929222,17.19792\" id=\"path858\"/>\n",
       "      <path style=\"fill:none;stroke:#000000;stroke-width:0.7;stroke-linecap:butt;stroke-linejoin:miter;stroke-miterlimit:4;stroke-dasharray:none;stroke-opacity:1\" d=\"m 91.81046,156.10416 9.92923,17.19792\" id=\"path860\"/>\n",
       "      <circle style=\"fill:#ffffff;stroke:#000000;stroke-width:0.7;stroke-linejoin:bevel\" id=\"path1592\" cx=\"58.266396\" cy=\"137.45695\" r=\"3.6994057\"/>\n",
       "    </g>\n",
       "    <rect style=\"fill:#ffffff;stroke:#000000;stroke-width:0.765;stroke-linejoin:bevel;stroke-miterlimit:4;stroke-dasharray:none\" id=\"rect2813\" width=\"6.7414675\" height=\"81.057007\" x=\"111.98591\" y=\"-54.279552\" ry=\"2.6572323\" transform=\"rotate(30)\"/>\n",
       "    <path style=\"fill:none;stroke:#ff0000;stroke-width:0.264583px;stroke-linecap:butt;stroke-linejoin:miter;stroke-opacity:1;marker-end:url(#marker3697)\" d=\"M 87.823113,78.660587 V 42.729266\" id=\"path3603\"/>\n",
       "    <path style=\"fill:none;stroke:#ff0000;stroke-width:0.264583px;stroke-linecap:butt;stroke-linejoin:miter;stroke-opacity:1;marker-end:url(#Arrow1Lend)\" d=\"M 87.823113,78.660587 H 122.52712\" id=\"path3605\"/>\n",
       "    <path style=\"fill:none;stroke:#0000ff;stroke-width:0.264583px;stroke-linecap:butt;stroke-linejoin:miter;stroke-opacity:1;marker-end:url(#marker3757)\" d=\"M 87.823113,78.660587 56.705683,60.694926\" id=\"path3741\"/>\n",
       "    <path style=\"fill:none;stroke:#0000ff;stroke-width:0.264583px;stroke-linecap:butt;stroke-linejoin:miter;stroke-opacity:1;marker-end:url(#marker3747)\" d=\"M 87.823113,78.660587 105.17511,48.606044\" id=\"path3743\"/>\n",
       "    <path style=\"fill:none;stroke:#000000;stroke-width:0.465;stroke-linecap:butt;stroke-linejoin:miter;stroke-miterlimit:4;stroke-dasharray:none;stroke-opacity:1;marker-end:url(#marker3901)\" d=\"M 104.57734,78.609808 C 103.10148,70.726522 99.47821,67.90276 95.816064,65.170602\" id=\"path3889\" sodipodi:nodetypes=\"cc\"/>\n",
       "    <g id=\"g3897\" transform=\"translate(-2.2329756,2.6395237)\">\n",
       "      <ellipse style=\"fill:#ffffff;stroke:#000000;stroke-width:0.765;stroke-linejoin:bevel;stroke-miterlimit:4;stroke-dasharray:none\" id=\"path3891\" cx=\"110.22939\" cy=\"67.623489\" rx=\"2.7784157\" ry=\"4.4053955\"/>\n",
       "      <path style=\"fill:none;stroke:#000000;stroke-width:0.565;stroke-linecap:butt;stroke-linejoin:miter;stroke-miterlimit:4;stroke-dasharray:none;stroke-opacity:1\" d=\"m 107.45097,67.623493 h 5.55684\" id=\"path3893\"/>\n",
       "    </g>\n",
       "    <text xml:space=\"preserve\" style=\"font-size:7.7611px;line-height:1.25;font-family:sans-serif;-inkscape-font-specification:sans-serif;stroke-width:0.264583\" x=\"110.03159\" y=\"38.528992\" id=\"text4031\"><tspan sodipodi:role=\"line\" id=\"tspan4029\" x=\"110.03159\" y=\"38.528992\" style=\"stroke-width:0.264583\">P</tspan></text>\n",
       "    <text xml:space=\"preserve\" style=\"font-size:7.7611px;line-height:1.25;font-family:sans-serif;-inkscape-font-specification:sans-serif;stroke-width:0.264583\" x=\"106.55747\" y=\"46.441589\" id=\"text4035\"><tspan sodipodi:role=\"line\" id=\"tspan4033\" x=\"106.55747\" y=\"46.441589\" style=\"stroke-width:0.264583\">*</tspan></text>\n",
       "    <path style=\"fill:none;stroke:#000000;stroke-width:0.264583px;stroke-linecap:butt;stroke-linejoin:miter;stroke-opacity:1\" d=\"M 106.32633,41.129759 79.734369,25.776881\" id=\"path4037\"/>\n",
       "    <path style=\"fill:none;stroke:#000000;stroke-width:0.264583px;stroke-linecap:butt;stroke-linejoin:miter;stroke-opacity:1;marker-start:url(#Arrow1Lstart);marker-end:url(#marker4131)\" d=\"M 83.462121,27.950964 62.674726,63.955788\" id=\"path4039\"/>\n",
       "    <text xml:space=\"preserve\" style=\"font-size:7.7611px;line-height:1.25;font-family:sans-serif;-inkscape-font-specification:sans-serif;stroke-width:0.264583\" x=\"-6.5680075\" y=\"83.487465\" id=\"text4201\" transform=\"rotate(-60)\"><tspan sodipodi:role=\"line\" id=\"tspan4199\" x=\"-6.5680075\" y=\"83.487465\" style=\"stroke-width:0.264583\">R</tspan></text>\n",
       "    <text xml:space=\"preserve\" style=\"font-size:7.7611px;line-height:1.25;font-family:sans-serif;-inkscape-font-specification:sans-serif;fill:#ff0000;stroke-width:0.264583\" x=\"117.80534\" y=\"85.383514\" id=\"text4211\"><tspan sodipodi:role=\"line\" id=\"tspan4209\" x=\"117.80534\" y=\"85.383514\" style=\"fill:#ff0000;stroke-width:0.264583\">x</tspan></text>\n",
       "    <text xml:space=\"preserve\" style=\"font-size:7.7611px;line-height:1.25;font-family:sans-serif;-inkscape-font-specification:sans-serif;fill:#ff0000;stroke-width:0.264583\" x=\"81.613541\" y=\"46.98951\" id=\"text4215\"><tspan sodipodi:role=\"line\" id=\"tspan4213\" x=\"81.613541\" y=\"46.98951\" style=\"fill:#ff0000;stroke-width:0.264583\">y</tspan></text>\n",
       "  </g>\n",
       "</svg>"
      ],
      "text/plain": [
       "<IPython.core.display.SVG object>"
      ]
     },
     "execution_count": 1,
     "metadata": {},
     "output_type": "execute_result"
    }
   ],
   "source": [
    "from IPython.display import SVG\n",
    "SVG('figs4-1.svg')"
   ]
  },
  {
   "cell_type": "code",
   "execution_count": 2,
   "metadata": {
    "slideshow": {
     "slide_type": "fragment"
    }
   },
   "outputs": [],
   "source": [
    "from sympy import *"
   ]
  },
  {
   "cell_type": "code",
   "execution_count": 3,
   "metadata": {
    "slideshow": {
     "slide_type": "subslide"
    }
   },
   "outputs": [],
   "source": [
    "import sympy.physics.mechanics as me"
   ]
  },
  {
   "cell_type": "code",
   "execution_count": 4,
   "metadata": {
    "slideshow": {
     "slide_type": "fragment"
    }
   },
   "outputs": [],
   "source": [
    "N = me.ReferenceFrame('N')\n",
    "A = me.ReferenceFrame('A')"
   ]
  },
  {
   "cell_type": "code",
   "execution_count": 5,
   "metadata": {
    "slideshow": {
     "slide_type": "fragment"
    }
   },
   "outputs": [],
   "source": [
    "theta = me.dynamicsymbols('theta') "
   ]
  },
  {
   "cell_type": "code",
   "execution_count": 6,
   "metadata": {
    "slideshow": {
     "slide_type": "fragment"
    }
   },
   "outputs": [],
   "source": [
    "A.orient(N,'Axis',[theta,N.z])"
   ]
  },
  {
   "cell_type": "markdown",
   "metadata": {
    "slideshow": {
     "slide_type": "slide"
    }
   },
   "source": [
    "## 4.2 Posição e Deslocamento"
   ]
  },
  {
   "cell_type": "markdown",
   "metadata": {
    "slideshow": {
     "slide_type": "subslide"
    }
   },
   "source": [
    "### Posição"
   ]
  },
  {
   "cell_type": "markdown",
   "metadata": {
    "slideshow": {
     "slide_type": "fragment"
    }
   },
   "source": [
    "A posição de um ponto no **plano** pode ser definida por meio de um **vetor posição**. <br>\n",
    "A escolha dos **eixos de referência** é arbritrária, selecionada para satisfazer o observador. <br>\n",
    "Um vetor de duas dimensões tem dois atributos, que podem ser expressos tento na forma *polar* quanto em *coordenadas cartesianas*. \n",
    "* forma polar\n",
    "    * fornece o módulo e o ângulo do vetor: $\\vec{p} = | R | @ \\angle \\theta$\n",
    "* forma cartesiana\n",
    "    * fornece os componentes X e Y do vetor: $\\vec{p} = R_x,R_y$\n",
    "Observa-se que:\n",
    "$$ R = \\sqrt{R_x^2 + R_y^2}$$\n",
    "$$ \\theta = arctan \\left( \\dfrac{R_y}{R_x} \\right)$$"
   ]
  },
  {
   "cell_type": "markdown",
   "metadata": {
    "slideshow": {
     "slide_type": "subslide"
    }
   },
   "source": [
    "### Transformação de Coordenadas\n",
    "Muitas vezes, é necessário transformar as coordenadas de um ponto definido em um sistema para coordenadas em outro. "
   ]
  },
  {
   "cell_type": "code",
   "execution_count": 7,
   "metadata": {
    "slideshow": {
     "slide_type": "fragment"
    }
   },
   "outputs": [],
   "source": [
    "R = symbols('R')"
   ]
  },
  {
   "cell_type": "code",
   "execution_count": 8,
   "metadata": {
    "slideshow": {
     "slide_type": "fragment"
    }
   },
   "outputs": [
    {
     "data": {
      "text/latex": [
       "$\\displaystyle R\\mathbf{\\hat{a}_x}$"
      ],
      "text/plain": [
       "R*A.x"
      ]
     },
     "execution_count": 8,
     "metadata": {},
     "output_type": "execute_result"
    }
   ],
   "source": [
    "p = R*A.x\n",
    "p"
   ]
  },
  {
   "cell_type": "code",
   "execution_count": 9,
   "metadata": {
    "slideshow": {
     "slide_type": "fragment"
    }
   },
   "outputs": [
    {
     "data": {
      "text/latex": [
       "$\\displaystyle R \\operatorname{cos}\\left(\\theta\\right)\\mathbf{\\hat{n}_x} + R \\operatorname{sin}\\left(\\theta\\right)\\mathbf{\\hat{n}_y}$"
      ],
      "text/plain": [
       "R*cos(theta)*N.x + R*sin(theta)*N.y"
      ]
     },
     "execution_count": 9,
     "metadata": {},
     "output_type": "execute_result"
    }
   ],
   "source": [
    "p.express(N)"
   ]
  },
  {
   "cell_type": "code",
   "execution_count": 10,
   "metadata": {
    "slideshow": {
     "slide_type": "fragment"
    }
   },
   "outputs": [
    {
     "data": {
      "text/latex": [
       "$\\displaystyle \\left[\\begin{matrix}\\cos{\\left(\\theta{\\left(t \\right)} \\right)} & \\sin{\\left(\\theta{\\left(t \\right)} \\right)} & 0\\\\- \\sin{\\left(\\theta{\\left(t \\right)} \\right)} & \\cos{\\left(\\theta{\\left(t \\right)} \\right)} & 0\\\\0 & 0 & 1\\end{matrix}\\right]$"
      ],
      "text/plain": [
       "Matrix([\n",
       "[ cos(theta(t)), sin(theta(t)), 0],\n",
       "[-sin(theta(t)), cos(theta(t)), 0],\n",
       "[             0,             0, 1]])"
      ]
     },
     "execution_count": 10,
     "metadata": {},
     "output_type": "execute_result"
    }
   ],
   "source": [
    "A.dcm(N) # matriz de rotação de A em relação a N, ou seja, leva de N para A"
   ]
  },
  {
   "cell_type": "code",
   "execution_count": 11,
   "metadata": {
    "scrolled": true,
    "slideshow": {
     "slide_type": "fragment"
    }
   },
   "outputs": [
    {
     "data": {
      "text/latex": [
       "$\\displaystyle \\left[\\begin{matrix}\\cos{\\left(\\theta{\\left(t \\right)} \\right)} & - \\sin{\\left(\\theta{\\left(t \\right)} \\right)} & 0\\\\\\sin{\\left(\\theta{\\left(t \\right)} \\right)} & \\cos{\\left(\\theta{\\left(t \\right)} \\right)} & 0\\\\0 & 0 & 1\\end{matrix}\\right]$"
      ],
      "text/plain": [
       "Matrix([\n",
       "[cos(theta(t)), -sin(theta(t)), 0],\n",
       "[sin(theta(t)),  cos(theta(t)), 0],\n",
       "[            0,              0, 1]])"
      ]
     },
     "execution_count": 11,
     "metadata": {},
     "output_type": "execute_result"
    }
   ],
   "source": [
    "N.dcm(A) # matriz de rotação que leva de A para N"
   ]
  },
  {
   "cell_type": "code",
   "execution_count": 12,
   "metadata": {
    "slideshow": {
     "slide_type": "fragment"
    }
   },
   "outputs": [
    {
     "data": {
      "image/svg+xml": [
       "<svg xmlns:dc=\"http://purl.org/dc/elements/1.1/\" xmlns:cc=\"http://creativecommons.org/ns#\" xmlns:rdf=\"http://www.w3.org/1999/02/22-rdf-syntax-ns#\" xmlns:svg=\"http://www.w3.org/2000/svg\" xmlns=\"http://www.w3.org/2000/svg\" xmlns:sodipodi=\"http://sodipodi.sourceforge.net/DTD/sodipodi-0.dtd\" xmlns:inkscape=\"http://www.inkscape.org/namespaces/inkscape\" width=\"110.87832mm\" height=\"93.041985mm\" viewBox=\"0 0 110.87832 93.041986\" version=\"1.1\" id=\"svg4223\" inkscape:version=\"1.0.1 (3bc2e813f5, 2020-09-07)\" sodipodi:docname=\"figs4-2.svg\">\n",
       "  <defs id=\"defs4217\">\n",
       "    <marker style=\"overflow:visible\" id=\"marker11544\" refX=\"0.0\" refY=\"0.0\" orient=\"auto\" inkscape:stockid=\"Arrow1Lstart\" inkscape:isstock=\"true\">\n",
       "      <path transform=\"scale(0.8) translate(12.5,0)\" style=\"fill-rule:evenodd;stroke:#000000;stroke-width:1pt;stroke-opacity:1;fill:#000000;fill-opacity:1\" d=\"M 0.0,0.0 L 5.0,-5.0 L -12.5,0.0 L 5.0,5.0 L 0.0,0.0 z \" id=\"path936\"/>\n",
       "    </marker>\n",
       "    <marker style=\"overflow:visible;\" id=\"marker11397\" refX=\"0.0\" refY=\"0.0\" orient=\"auto\" inkscape:stockid=\"Arrow1Lend\" inkscape:isstock=\"true\">\n",
       "      <path transform=\"scale(0.8) rotate(180) translate(12.5,0)\" style=\"fill-rule:evenodd;stroke:#000000;stroke-width:1pt;stroke-opacity:1;fill:#000000;fill-opacity:1\" d=\"M 0.0,0.0 L 5.0,-5.0 L -12.5,0.0 L 5.0,5.0 L 0.0,0.0 z \" id=\"path939\"/>\n",
       "    </marker>\n",
       "    <marker style=\"overflow:visible\" id=\"marker3199\" refX=\"0\" refY=\"0\" orient=\"auto\" inkscape:stockid=\"Arrow1Mend\" inkscape:isstock=\"true\">\n",
       "      <path transform=\"matrix(-0.4,0,0,-0.4,-4,0)\" style=\"fill:#000000;fill-opacity:1;fill-rule:evenodd;stroke:#000000;stroke-width:1pt;stroke-opacity:1\" d=\"M 0,0 5,-5 -12.5,0 5,5 Z\" id=\"path3197\"/>\n",
       "    </marker>\n",
       "    <marker style=\"overflow:visible\" id=\"marker3057\" refX=\"0\" refY=\"0\" orient=\"auto\" inkscape:stockid=\"Arrow1Mstart\" inkscape:isstock=\"true\">\n",
       "      <path transform=\"matrix(0.4,0,0,0.4,4,0)\" style=\"fill:#000000;fill-opacity:1;fill-rule:evenodd;stroke:#000000;stroke-width:1pt;stroke-opacity:1\" d=\"M 0,0 5,-5 -12.5,0 5,5 Z\" id=\"path3055\"/>\n",
       "    </marker>\n",
       "    <marker style=\"overflow:visible\" id=\"marker2909\" refX=\"0\" refY=\"0\" orient=\"auto\" inkscape:stockid=\"Arrow1Mend\" inkscape:isstock=\"true\" inkscape:collect=\"always\">\n",
       "      <path transform=\"matrix(-0.4,0,0,-0.4,-4,0)\" style=\"fill:#000000;fill-opacity:1;fill-rule:evenodd;stroke:#000000;stroke-width:1pt;stroke-opacity:1\" d=\"M 0,0 5,-5 -12.5,0 5,5 Z\" id=\"path2907\"/>\n",
       "    </marker>\n",
       "    <marker style=\"overflow:visible\" id=\"marker2785\" refX=\"0\" refY=\"0\" orient=\"auto\" inkscape:stockid=\"Arrow1Mstart\" inkscape:isstock=\"true\" inkscape:collect=\"always\">\n",
       "      <path transform=\"matrix(0.4,0,0,0.4,4,0)\" style=\"fill:#000000;fill-opacity:1;fill-rule:evenodd;stroke:#000000;stroke-width:1pt;stroke-opacity:1\" d=\"M 0,0 5,-5 -12.5,0 5,5 Z\" id=\"path2783\"/>\n",
       "    </marker>\n",
       "    <marker style=\"overflow:visible\" id=\"marker2641\" refX=\"0\" refY=\"0\" orient=\"auto\" inkscape:stockid=\"Arrow1Mend\" inkscape:isstock=\"true\">\n",
       "      <path transform=\"matrix(-0.4,0,0,-0.4,-4,0)\" style=\"fill:#ff0000;fill-opacity:1;fill-rule:evenodd;stroke:#ff0000;stroke-width:1pt;stroke-opacity:1\" d=\"M 0,0 5,-5 -12.5,0 5,5 Z\" id=\"path2639\"/>\n",
       "    </marker>\n",
       "    <marker style=\"overflow:visible\" id=\"marker2523\" refX=\"0\" refY=\"0\" orient=\"auto\" inkscape:stockid=\"Arrow1Mstart\" inkscape:isstock=\"true\" inkscape:collect=\"always\">\n",
       "      <path transform=\"matrix(0.4,0,0,0.4,4,0)\" style=\"fill:#ff0000;fill-opacity:1;fill-rule:evenodd;stroke:#ff0000;stroke-width:1pt;stroke-opacity:1\" d=\"M 0,0 5,-5 -12.5,0 5,5 Z\" id=\"path2521\"/>\n",
       "    </marker>\n",
       "    <marker style=\"overflow:visible\" id=\"marker2411\" refX=\"0\" refY=\"0\" orient=\"auto\" inkscape:stockid=\"Arrow1Mend\" inkscape:isstock=\"true\" inkscape:collect=\"always\">\n",
       "      <path transform=\"matrix(-0.4,0,0,-0.4,-4,0)\" style=\"fill:#ff0000;fill-opacity:1;fill-rule:evenodd;stroke:#ff0000;stroke-width:1pt;stroke-opacity:1\" d=\"M 0,0 5,-5 -12.5,0 5,5 Z\" id=\"path2409\"/>\n",
       "    </marker>\n",
       "    <marker style=\"overflow:visible\" id=\"Arrow1Mstart\" refX=\"0\" refY=\"0\" orient=\"auto\" inkscape:stockid=\"Arrow1Mstart\" inkscape:isstock=\"true\" inkscape:collect=\"always\">\n",
       "      <path transform=\"matrix(0.4,0,0,0.4,4,0)\" style=\"fill:#ff0000;fill-opacity:1;fill-rule:evenodd;stroke:#ff0000;stroke-width:1pt;stroke-opacity:1\" d=\"M 0,0 5,-5 -12.5,0 5,5 Z\" id=\"path1351\"/>\n",
       "    </marker>\n",
       "    <marker style=\"overflow:visible\" id=\"marker2031\" refX=\"0\" refY=\"0\" orient=\"auto\" inkscape:stockid=\"Arrow1Mend\" inkscape:isstock=\"true\" inkscape:collect=\"always\">\n",
       "      <path transform=\"matrix(-0.4,0,0,-0.4,-4,0)\" style=\"fill:#000000;fill-opacity:1;fill-rule:evenodd;stroke:#000000;stroke-width:1pt;stroke-opacity:1\" d=\"M 0,0 5,-5 -12.5,0 5,5 Z\" id=\"path2029\"/>\n",
       "    </marker>\n",
       "    <marker style=\"overflow:visible\" id=\"marker2021\" refX=\"0\" refY=\"0\" orient=\"auto\" inkscape:stockid=\"Arrow1Mend\" inkscape:isstock=\"true\">\n",
       "      <path transform=\"matrix(-0.4,0,0,-0.4,-4,0)\" style=\"fill:#000000;fill-opacity:1;fill-rule:evenodd;stroke:#000000;stroke-width:1pt;stroke-opacity:1\" d=\"M 0,0 5,-5 -12.5,0 5,5 Z\" id=\"path2019\"/>\n",
       "    </marker>\n",
       "    <marker style=\"overflow:visible\" id=\"marker1877\" refX=\"0\" refY=\"0\" orient=\"auto\" inkscape:stockid=\"Arrow1Mend\" inkscape:isstock=\"true\">\n",
       "      <path transform=\"matrix(-0.4,0,0,-0.4,-4,0)\" style=\"fill:#000000;fill-opacity:1;fill-rule:evenodd;stroke:#000000;stroke-width:1pt;stroke-opacity:1\" d=\"M 0,0 5,-5 -12.5,0 5,5 Z\" id=\"path1875\"/>\n",
       "    </marker>\n",
       "    <inkscape:path-effect effect=\"spiro\" id=\"path-effect1863\" is_visible=\"true\" lpeversion=\"1\"/>\n",
       "    <inkscape:path-effect effect=\"simplify\" id=\"path-effect1861\" is_visible=\"true\" lpeversion=\"1\" steps=\"1\" threshold=\"0.00243902\" smooth_angles=\"360\" helper_size=\"0\" simplify_individual_paths=\"false\" simplify_just_coalesce=\"false\"/>\n",
       "    <inkscape:path-effect effect=\"simplify\" id=\"path-effect1855\" is_visible=\"true\" lpeversion=\"1\" steps=\"1\" threshold=\"0.00243902\" smooth_angles=\"360\" helper_size=\"0\" simplify_individual_paths=\"false\" simplify_just_coalesce=\"false\"/>\n",
       "    <inkscape:path-effect effect=\"simplify\" id=\"path-effect1849\" is_visible=\"true\" lpeversion=\"1\" steps=\"1\" threshold=\"0.00243902\" smooth_angles=\"360\" helper_size=\"0\" simplify_individual_paths=\"false\" simplify_just_coalesce=\"false\"/>\n",
       "    <inkscape:path-effect effect=\"simplify\" id=\"path-effect1843\" is_visible=\"true\" lpeversion=\"1\" steps=\"1\" threshold=\"0.00243902\" smooth_angles=\"360\" helper_size=\"0\" simplify_individual_paths=\"false\" simplify_just_coalesce=\"false\"/>\n",
       "    <inkscape:path-effect effect=\"simplify\" id=\"path-effect1777\" is_visible=\"true\" lpeversion=\"1\" steps=\"1\" threshold=\"0.00645161\" smooth_angles=\"360\" helper_size=\"0\" simplify_individual_paths=\"false\" simplify_just_coalesce=\"false\"/>\n",
       "    <inkscape:path-effect effect=\"spiro\" id=\"path-effect1685\" is_visible=\"true\" lpeversion=\"1\"/>\n",
       "    <inkscape:path-effect effect=\"simplify\" id=\"path-effect1683\" is_visible=\"true\" lpeversion=\"1\" steps=\"1\" threshold=\"0.00645161\" smooth_angles=\"360\" helper_size=\"0\" simplify_individual_paths=\"false\" simplify_just_coalesce=\"false\"/>\n",
       "    <marker style=\"overflow:visible\" id=\"marker1277\" refX=\"0\" refY=\"0\" orient=\"auto\" inkscape:stockid=\"Arrow1Lend\" inkscape:isstock=\"true\">\n",
       "      <path transform=\"matrix(-0.8,0,0,-0.8,-10,0)\" style=\"fill:#000000;fill-opacity:1;fill-rule:evenodd;stroke:#000000;stroke-width:1pt;stroke-opacity:1\" d=\"M 0,0 5,-5 -12.5,0 5,5 Z\" id=\"path1275\"/>\n",
       "    </marker>\n",
       "    <marker style=\"overflow:visible\" id=\"marker1207\" refX=\"0\" refY=\"0\" orient=\"auto\" inkscape:stockid=\"Arrow1Lend\" inkscape:isstock=\"true\">\n",
       "      <path transform=\"matrix(-0.8,0,0,-0.8,-10,0)\" style=\"fill:#000000;fill-opacity:1;fill-rule:evenodd;stroke:#000000;stroke-width:1pt;stroke-opacity:1\" d=\"M 0,0 5,-5 -12.5,0 5,5 Z\" id=\"path1205\"/>\n",
       "    </marker>\n",
       "    <inkscape:path-effect effect=\"spiro\" id=\"path-effect1197\" is_visible=\"true\" lpeversion=\"1\"/>\n",
       "    <inkscape:path-effect effect=\"simplify\" id=\"path-effect1195\" is_visible=\"true\" lpeversion=\"1\" steps=\"1\" threshold=\"0.00645161\" smooth_angles=\"360\" helper_size=\"0\" simplify_individual_paths=\"false\" simplify_just_coalesce=\"false\"/>\n",
       "    <marker style=\"overflow:visible\" id=\"marker1115\" refX=\"0\" refY=\"0\" orient=\"auto\" inkscape:stockid=\"Arrow1Lend\" inkscape:isstock=\"true\" inkscape:collect=\"always\">\n",
       "      <path transform=\"matrix(-0.8,0,0,-0.8,-10,0)\" style=\"fill:#ff0000;fill-opacity:1;fill-rule:evenodd;stroke:#ff0000;stroke-width:1pt;stroke-opacity:1\" d=\"M 0,0 5,-5 -12.5,0 5,5 Z\" id=\"path1113\"/>\n",
       "    </marker>\n",
       "    <marker style=\"overflow:visible\" id=\"marker1105\" refX=\"0\" refY=\"0\" orient=\"auto\" inkscape:stockid=\"Arrow1Lstart\" inkscape:isstock=\"true\">\n",
       "      <path transform=\"matrix(0.8,0,0,0.8,10,0)\" style=\"fill:#ff0000;fill-opacity:1;fill-rule:evenodd;stroke:#ff0000;stroke-width:1pt;stroke-opacity:1\" d=\"M 0,0 5,-5 -12.5,0 5,5 Z\" id=\"path1103\"/>\n",
       "    </marker>\n",
       "    <marker style=\"overflow:visible\" id=\"marker5170\" refX=\"0\" refY=\"0\" orient=\"auto\" inkscape:stockid=\"Arrow1Lend\" inkscape:isstock=\"true\">\n",
       "      <path transform=\"matrix(-0.8,0,0,-0.8,-10,0)\" style=\"fill:#000000;fill-opacity:1;fill-rule:evenodd;stroke:#000000;stroke-width:1pt;stroke-opacity:1\" d=\"M 0,0 5,-5 -12.5,0 5,5 Z\" id=\"path5168\"/>\n",
       "    </marker>\n",
       "    <marker style=\"overflow:visible\" id=\"marker5068\" refX=\"0\" refY=\"0\" orient=\"auto\" inkscape:stockid=\"Arrow1Lend\" inkscape:isstock=\"true\" inkscape:collect=\"always\">\n",
       "      <path transform=\"matrix(-0.8,0,0,-0.8,-10,0)\" style=\"fill:#000000;fill-opacity:1;fill-rule:evenodd;stroke:#000000;stroke-width:1pt;stroke-opacity:1\" d=\"M 0,0 5,-5 -12.5,0 5,5 Z\" id=\"path5066\"/>\n",
       "    </marker>\n",
       "    <inkscape:path-effect effect=\"spiro\" id=\"path-effect4874\" is_visible=\"true\" lpeversion=\"1\"/>\n",
       "    <inkscape:path-effect effect=\"simplify\" id=\"path-effect4872\" is_visible=\"true\" lpeversion=\"1\" steps=\"1\" threshold=\"0.00645161\" smooth_angles=\"360\" helper_size=\"0\" simplify_individual_paths=\"false\" simplify_just_coalesce=\"false\"/>\n",
       "    <inkscape:path-effect effect=\"simplify\" id=\"path-effect4866\" is_visible=\"true\" lpeversion=\"1\" steps=\"1\" threshold=\"0.000625\" smooth_angles=\"360\" helper_size=\"0\" simplify_individual_paths=\"false\" simplify_just_coalesce=\"false\"/>\n",
       "    <inkscape:path-effect effect=\"simplify\" id=\"path-effect4796\" is_visible=\"true\" lpeversion=\"1\" steps=\"1\" threshold=\"0.000625\" smooth_angles=\"360\" helper_size=\"0\" simplify_individual_paths=\"false\" simplify_just_coalesce=\"false\"/>\n",
       "    <inkscape:path-effect effect=\"simplify\" id=\"path-effect4790\" is_visible=\"true\" lpeversion=\"1\" steps=\"1\" threshold=\"0.000625\" smooth_angles=\"360\" helper_size=\"0\" simplify_individual_paths=\"false\" simplify_just_coalesce=\"false\"/>\n",
       "    <marker style=\"overflow:visible\" id=\"marker2416\" refX=\"0\" refY=\"0\" orient=\"auto\" inkscape:stockid=\"Arrow1Lend\" inkscape:isstock=\"true\">\n",
       "      <path transform=\"matrix(-0.8,0,0,-0.8,-10,0)\" style=\"fill:#ff0000;fill-opacity:1;fill-rule:evenodd;stroke:#ff0000;stroke-width:1pt;stroke-opacity:1\" d=\"M 0,0 5,-5 -12.5,0 5,5 Z\" id=\"path2414\"/>\n",
       "    </marker>\n",
       "    <filter inkscape:collect=\"always\" style=\"color-interpolation-filters:sRGB\" id=\"filter2408\" x=\"-0.18425412\" width=\"1.3685082\" y=\"-0.18425412\" height=\"1.3685082\">\n",
       "      <feGaussianBlur inkscape:collect=\"always\" stdDeviation=\"0.52308203\" id=\"feGaussianBlur2410\"/>\n",
       "    </filter>\n",
       "  </defs>\n",
       "  <sodipodi:namedview id=\"base\" pagecolor=\"#ffffff\" bordercolor=\"#666666\" borderopacity=\"1.0\" inkscape:pageopacity=\"0.0\" inkscape:pageshadow=\"2\" inkscape:zoom=\"1.5969425\" inkscape:cx=\"177.70079\" inkscape:cy=\"197.1844\" inkscape:document-units=\"mm\" inkscape:current-layer=\"layer3\" inkscape:document-rotation=\"0\" showgrid=\"false\" inkscape:window-width=\"1920\" inkscape:window-height=\"1017\" inkscape:window-x=\"-8\" inkscape:window-y=\"-8\" inkscape:window-maximized=\"1\" inkscape:snap-nodes=\"true\" inkscape:snap-smooth-nodes=\"true\"/>\n",
       "  <metadata id=\"metadata4220\">\n",
       "    <rdf:RDF>\n",
       "      <cc:Work rdf:about=\"\">\n",
       "        <dc:format>image/svg+xml</dc:format>\n",
       "        <dc:type rdf:resource=\"http://purl.org/dc/dcmitype/StillImage\"/>\n",
       "        <dc:title/>\n",
       "      </cc:Work>\n",
       "    </rdf:RDF>\n",
       "  </metadata>\n",
       "  <g inkscape:groupmode=\"layer\" id=\"layer3\" inkscape:label=\"Layer 2\">\n",
       "    <rect style=\"fill:#ffffff;stroke:#ffffff;stroke-width:0.865\" id=\"rect2024\" width=\"111.17208\" height=\"93.609871\" x=\"-0.16568118\" y=\"0\"/>\n",
       "  </g>\n",
       "  <g inkscape:label=\"Layer 1\" inkscape:groupmode=\"layer\" id=\"layer1\" transform=\"translate(-28.300872,-28.234721)\">\n",
       "    <path style=\"fill:none;stroke:#000000;stroke-width:0.265;stroke-linecap:butt;stroke-linejoin:miter;stroke-opacity:1;marker-start:url(#marker11544);marker-end:url(#marker11397);stroke-miterlimit:4;stroke-dasharray:none\" d=\"M 93.226169,111.37818 H 46.494538 V 69.056449\" id=\"path4786\"/>\n",
       "    <text xml:space=\"preserve\" style=\"font-size:7.7611px;line-height:1.25;font-family:sans-serif;-inkscape-font-specification:sans-serif;stroke-width:0.264583\" x=\"38.001274\" y=\"118.66259\" id=\"text4854\"><tspan sodipodi:role=\"line\" id=\"tspan4852\" x=\"38.001274\" y=\"118.66259\" style=\"stroke-width:0.264583\">O</tspan></text>\n",
       "    <text xml:space=\"preserve\" style=\"font-size:7.7611px;line-height:1.25;font-family:sans-serif;-inkscape-font-specification:sans-serif;stroke-width:0.264583\" x=\"91.490891\" y=\"121.2767\" id=\"text4858\"><tspan sodipodi:role=\"line\" id=\"tspan4856\" x=\"91.490891\" y=\"121.2767\" style=\"stroke-width:0.264583\">X</tspan></text>\n",
       "    <text xml:space=\"preserve\" style=\"font-size:7.7611px;line-height:1.25;font-family:sans-serif;-inkscape-font-specification:sans-serif;stroke-width:0.264583\" x=\"47.09483\" y=\"71.924347\" id=\"text4862\"><tspan sodipodi:role=\"line\" id=\"tspan4860\" x=\"47.09483\" y=\"71.924347\" style=\"stroke-width:0.264583\">Y</tspan></text>\n",
       "    <g id=\"g5050\" transform=\"matrix(0.62824966,0,0,0.62841368,38.348682,4.8648415)\" style=\"stroke-width:1.59152\">\n",
       "      <circle style=\"mix-blend-mode:normal;fill:#666666;stroke:#000000;stroke-width:0.271798\" id=\"path1649\" cx=\"108.4316\" cy=\"92.124985\" r=\"7.4015002\"/>\n",
       "      <circle style=\"fill:#ffffff;stroke:#000000;stroke-width:0.188437;filter:url(#filter2408)\" id=\"path1651\" cx=\"111.03149\" cy=\"88.963264\" r=\"3.4066997\"/>\n",
       "    </g>\n",
       "    <path style=\"fill:none;stroke:#000000;stroke-width:0.565;stroke-linecap:butt;stroke-linejoin:miter;stroke-miterlimit:4;stroke-dasharray:none;stroke-opacity:1;marker-end:url(#marker5068)\" d=\"M 46.494538,111.37818 106.48201,63.547534\" id=\"path5058\"/>\n",
       "    <text xml:space=\"preserve\" style=\"font-size:7.7611px;line-height:1.25;font-family:sans-serif;-inkscape-font-specification:sans-serif;stroke-width:0.264583\" x=\"111.67706\" y=\"58.412922\" id=\"text5270\"><tspan sodipodi:role=\"line\" id=\"tspan5268\" x=\"111.67706\" y=\"58.412922\" style=\"stroke-width:0.264583\">A</tspan></text>\n",
       "    <text xml:space=\"preserve\" style=\"font-size:7.7611px;line-height:1.25;font-family:sans-serif;-inkscape-font-specification:sans-serif;stroke-width:0.264583\" x=\"73.151146\" y=\"81.391312\" id=\"text5284\"><tspan sodipodi:role=\"line\" id=\"tspan5282\" x=\"73.151146\" y=\"81.391312\" style=\"stroke-width:0.264583\">R<tspan style=\"font-size:65%;baseline-shift:sub\" id=\"tspan5286\">A</tspan></tspan></text>\n",
       "    <path style=\"fill:none;stroke:#ff0000;stroke-width:0.264583px;stroke-linecap:butt;stroke-linejoin:miter;stroke-opacity:1;marker-start:url(#marker1105);marker-end:url(#marker1115)\" d=\"M 91.633828,99.28314 46.494538,111.37818 35.540868,70.49852\" id=\"path987\" inkscape:transform-center-x=\"-17.392423\" inkscape:transform-center-y=\"-20.153894\"/>\n",
       "    <path style=\"fill:none;stroke:#000000;stroke-width:0.265;stroke-linecap:butt;stroke-linejoin:miter;stroke-miterlimit:4;stroke-dasharray:none;stroke-opacity:1;marker-end:url(#marker2021)\" d=\"m 64.4682,111.42909 c 0.177905,-0.698 0.226029,-1.42884 0.141184,-2.14414 -0.111182,-0.93734 -0.452313,-1.84656 -0.985139,-2.6257\" id=\"path1193\" inkscape:path-effect=\"#path-effect1195;#path-effect1197\" inkscape:original-d=\"m 64.4682,111.42909 c 0.769929,-1.585 -0.452544,-3.88921 -0.843955,-4.76984\"/>\n",
       "    <path style=\"fill:none;stroke:#000000;stroke-width:0.264583px;stroke-linecap:butt;stroke-linejoin:miter;stroke-opacity:1;marker-end:url(#marker2031)\" d=\"m 69.295615,105.48958 c 0.203234,-1.93421 -0.14195,-3.92304 -0.985073,-5.675647 -0.700647,-1.456439 -1.741248,-2.748017 -3.015266,-3.742502\" id=\"path1681\" inkscape:path-effect=\"#path-effect1683;#path-effect1685\" inkscape:original-d=\"m 69.295615,105.48958 c 0.705948,-3.67091 -1.742982,-7.798812 -4.000339,-9.418149\"/>\n",
       "    <path style=\"fill:none;stroke:#000000;stroke-width:0.264583px;stroke-linecap:butt;stroke-linejoin:miter;stroke-opacity:1\" d=\"m 69.276913,106.64178 c -0.307168,0.0166 -0.613004,0.0578 -0.913605,0.12309 -0.05268,0.0114 -0.105905,0.0239 -0.153524,0.0492 -0.02381,0.0126 -0.04606,0.0285 -0.06466,0.048 -0.0186,0.0195 -0.03348,0.0428 -0.04187,0.0684 -0.0132,0.0403 -0.0098,0.0847 0.0034,0.12495 0.01324,0.0403 0.03581,0.0768 0.06078,0.11105 0.128851,0.17668 0.320149,0.29536 0.505293,0.41171 0.457427,0.28747 0.90729,0.58794 1.334384,0.9188 0.08384,0.065 0.167264,0.13151 0.23757,0.21091 0.07031,0.0794 0.127458,0.17294 0.150492,0.27646 0.02605,0.11706 0.007,0.24053 -0.03338,0.35343 -0.06122,0.17098 -0.171288,0.3233 -0.310376,0.44008 -0.139088,0.11678 -0.306583,0.19834 -0.482832,0.24215 -0.336574,0.0837 -0.703168,0.0269 -1.006172,-0.14182 -0.140627,-0.0783 -0.268876,-0.18041 -0.370098,-0.30556 -0.101222,-0.12516 -0.174879,-0.27375 -0.204803,-0.43191 -0.03823,-0.20207 -9.44e-4,-0.42141 0.119592,-0.58804 0.07861,-0.10867 0.189052,-0.1917 0.309239,-0.25124 0.120186,-0.0595 0.250276,-0.0966 0.381344,-0.12513 0.125242,-0.0272 0.252133,-0.0468 0.379745,-0.0587\" id=\"path1859\" inkscape:path-effect=\"#path-effect1861;#path-effect1863\" inkscape:original-d=\"m 69.276913,106.64178 c -3.440219,0.1805 1.755313,1.60911 1.084909,2.69596 -1.303474,2.11318 -3.945647,-0.97193 -1.184361,-1.22019\"/>\n",
       "    <g id=\"g1871\" transform=\"matrix(0.62569577,0,0,0.63192947,64.246001,38.721773)\" style=\"stroke-width:1.59032\">\n",
       "      <ellipse style=\"fill:none;stroke:#000000;stroke-width:0.421433;stroke-linejoin:bevel;stroke-miterlimit:4;stroke-dasharray:none\" id=\"path1865\" cx=\"12.151525\" cy=\"93.770058\" rx=\"2.3546295\" ry=\"3.4254715\"/>\n",
       "      <path style=\"fill:none;stroke:#000000;stroke-width:0.420771px;stroke-linecap:butt;stroke-linejoin:miter;stroke-opacity:1\" d=\"M 9.7968955,93.770056 H 14.506154\" id=\"path1867\"/>\n",
       "    </g>\n",
       "    <path style=\"fill:none;stroke:#000000;stroke-width:0.264583px;stroke-linecap:butt;stroke-linejoin:miter;stroke-opacity:1;marker-end:url(#marker1877)\" d=\"m 72.823344,74.440067 h 6.279012\" id=\"path1873\"/>\n",
       "    <text xml:space=\"preserve\" style=\"font-size:7.7611px;line-height:1.25;font-family:sans-serif;-inkscape-font-specification:sans-serif;fill:#ff0000;stroke-width:0.264583\" x=\"91.272171\" y=\"97.833527\" id=\"text1983\"><tspan sodipodi:role=\"line\" id=\"tspan1981\" x=\"91.272171\" y=\"97.833527\" style=\"fill:#ff0000;stroke-width:0.264583\">x</tspan></text>\n",
       "    <text xml:space=\"preserve\" style=\"font-size:7.7611px;line-height:1.25;font-family:sans-serif;-inkscape-font-specification:sans-serif;fill:#ff0000;stroke-width:0.264583\" x=\"30.439997\" y=\"77.949089\" id=\"text1987\"><tspan sodipodi:role=\"line\" id=\"tspan1985\" x=\"30.439997\" y=\"77.949089\" style=\"fill:#ff0000;stroke-width:0.264583\">y</tspan></text>\n",
       "    <path style=\"fill:none;stroke:#ff0000;stroke-width:0.264583px;stroke-linecap:butt;stroke-linejoin:miter;stroke-opacity:1\" d=\"M 35.540868,70.49852 28.428656,43.955383\" id=\"path2291\"/>\n",
       "    <path style=\"fill:none;stroke:#ff0000;stroke-width:0.264583px;stroke-linecap:butt;stroke-linejoin:miter;stroke-opacity:1\" d=\"M 106.48201,63.547534 97.029145,28.268961\" id=\"path2295\"/>\n",
       "    <path style=\"fill:none;stroke:#ff0000;stroke-width:0.264583px;stroke-linecap:butt;stroke-linejoin:miter;stroke-opacity:1;marker-start:url(#Arrow1Mstart);marker-end:url(#marker2411)\" d=\"M 30.013167,50.44001 98.170264,32.17737\" id=\"path2297\"/>\n",
       "    <path style=\"fill:none;stroke:#ff0000;stroke-width:0.264583px;stroke-linecap:butt;stroke-linejoin:miter;stroke-opacity:1\" d=\"M 91.633828,99.28314 139.14495,86.552573\" id=\"path2299\"/>\n",
       "    <path style=\"fill:none;stroke:#ff0000;stroke-width:0.264583px;stroke-linecap:butt;stroke-linejoin:miter;stroke-opacity:1\" d=\"M 108.10417,62.91139 132.1561,56.563205\" id=\"path2301\" sodipodi:nodetypes=\"cc\"/>\n",
       "    <path style=\"fill:none;stroke:#ff0000;stroke-width:0.264583px;stroke-linecap:butt;stroke-linejoin:miter;stroke-opacity:1;marker-start:url(#marker2523);marker-end:url(#marker2641)\" d=\"M 135.64239,86.806213 127.75787,57.380765\" id=\"path2303\"/>\n",
       "    <text xml:space=\"preserve\" style=\"font-size:7.7611px;line-height:1.25;font-family:sans-serif;-inkscape-font-specification:sans-serif;fill:#ff0000;stroke-width:0.264583\" x=\"54.859158\" y=\"39.077469\" id=\"text2759\"><tspan sodipodi:role=\"line\" id=\"tspan2757\" x=\"54.859158\" y=\"39.077469\" style=\"fill:#ff0000;stroke-width:0.264583\">R<tspan style=\"font-size:65%;baseline-shift:sub;fill:#ff0000\" id=\"tspan2761\">x</tspan></tspan></text>\n",
       "    <text xml:space=\"preserve\" style=\"font-size:7.7611px;line-height:1.25;font-family:sans-serif;-inkscape-font-specification:sans-serif;fill:#ff0000;stroke-width:0.264583\" x=\"123.70059\" y=\"75.616089\" id=\"text2765\"><tspan sodipodi:role=\"line\" id=\"tspan2763\" x=\"123.70059\" y=\"75.616089\" style=\"fill:#ff0000;stroke-width:0.264583\">R<tspan style=\"font-size:65%;baseline-shift:sub;fill:#ff0000\" id=\"tspan2767\">y</tspan></tspan></text>\n",
       "    <path style=\"fill:none;stroke:#000000;stroke-width:0.264583px;stroke-linecap:butt;stroke-linejoin:miter;stroke-opacity:1\" d=\"M 46.494538,69.056449 V 57.478554\" id=\"path2769\" sodipodi:nodetypes=\"cc\"/>\n",
       "    <path style=\"fill:none;stroke:#000000;stroke-width:0.264583px;stroke-linecap:butt;stroke-linejoin:miter;stroke-opacity:1;marker-start:url(#marker3057);marker-end:url(#marker3199)\" d=\"M 106.48201,63.547534 H 46.630769\" id=\"path2771\"/>\n",
       "    <path style=\"fill:none;stroke:#000000;stroke-width:0.264583px;stroke-linecap:butt;stroke-linejoin:miter;stroke-opacity:1\" d=\"M 93.226167,111.37818 H 113.47189\" id=\"path2773\"/>\n",
       "    <path style=\"fill:none;stroke:#000000;stroke-width:0.264583px;stroke-linecap:butt;stroke-linejoin:miter;stroke-opacity:1;marker-start:url(#marker2785);marker-end:url(#marker2909)\" d=\"M 106.48201,63.547534 V 111.38986\" id=\"path2775\" sodipodi:nodetypes=\"cc\"/>\n",
       "    <text xml:space=\"preserve\" style=\"font-size:7.7611px;line-height:1.25;font-family:sans-serif;-inkscape-font-specification:sans-serif;stroke-width:0.264583\" x=\"71.510521\" y=\"61.04834\" id=\"text3341\"><tspan sodipodi:role=\"line\" id=\"tspan3339\" x=\"71.510521\" y=\"61.04834\" style=\"stroke-width:0.264583\">R<tspan style=\"font-size:65%;baseline-shift:sub\" id=\"tspan3343\">X</tspan></tspan></text>\n",
       "    <text xml:space=\"preserve\" style=\"font-size:7.7611px;line-height:1.25;font-family:sans-serif;-inkscape-font-specification:sans-serif;stroke-width:0.264583\" x=\"107.36166\" y=\"87.57106\" id=\"text3347\"><tspan sodipodi:role=\"line\" id=\"tspan3345\" x=\"107.36166\" y=\"87.57106\" style=\"stroke-width:0.264583\">R<tspan style=\"font-size:65%;baseline-shift:sub\" id=\"tspan3349\">Y</tspan></tspan></text>\n",
       "  </g>\n",
       "</svg>"
      ],
      "text/plain": [
       "<IPython.core.display.SVG object>"
      ]
     },
     "execution_count": 12,
     "metadata": {},
     "output_type": "execute_result"
    }
   ],
   "source": [
    "SVG('figs4-2.svg')"
   ]
  },
  {
   "cell_type": "code",
   "execution_count": 13,
   "metadata": {
    "slideshow": {
     "slide_type": "fragment"
    }
   },
   "outputs": [],
   "source": [
    "Rx,Ry,delta = symbols('R_x R_y delta')"
   ]
  },
  {
   "cell_type": "code",
   "execution_count": 14,
   "metadata": {
    "slideshow": {
     "slide_type": "fragment"
    }
   },
   "outputs": [],
   "source": [
    "B = me.ReferenceFrame('B')\n",
    "B.orient(N,'Axis',[delta,N.z])"
   ]
  },
  {
   "cell_type": "code",
   "execution_count": 15,
   "metadata": {
    "slideshow": {
     "slide_type": "fragment"
    }
   },
   "outputs": [
    {
     "data": {
      "text/latex": [
       "$\\displaystyle R_{x}\\mathbf{\\hat{b}_x} + R_{y}\\mathbf{\\hat{b}_y}$"
      ],
      "text/plain": [
       "R_x*B.x + R_y*B.y"
      ]
     },
     "execution_count": 15,
     "metadata": {},
     "output_type": "execute_result"
    }
   ],
   "source": [
    "p = Rx*B.x + Ry*B.y\n",
    "p"
   ]
  },
  {
   "cell_type": "code",
   "execution_count": 16,
   "metadata": {
    "slideshow": {
     "slide_type": "fragment"
    }
   },
   "outputs": [
    {
     "data": {
      "text/latex": [
       "$\\displaystyle (R_{x} \\operatorname{cos}\\left(\\delta\\right) - R_{y} \\operatorname{sin}\\left(\\delta\\right))\\mathbf{\\hat{n}_x} + (R_{x} \\operatorname{sin}\\left(\\delta\\right) + R_{y} \\operatorname{cos}\\left(\\delta\\right))\\mathbf{\\hat{n}_y}$"
      ],
      "text/plain": [
       "(R_x*cos(delta) - R_y*sin(delta))*N.x + (R_x*sin(delta) + R_y*cos(delta))*N.y"
      ]
     },
     "execution_count": 16,
     "metadata": {},
     "output_type": "execute_result"
    }
   ],
   "source": [
    "p.express(N)"
   ]
  },
  {
   "cell_type": "code",
   "execution_count": 17,
   "metadata": {
    "scrolled": true,
    "slideshow": {
     "slide_type": "fragment"
    }
   },
   "outputs": [
    {
     "data": {
      "text/latex": [
       "$\\displaystyle \\left[\\begin{matrix}\\cos{\\left(\\delta \\right)} & - \\sin{\\left(\\delta \\right)} & 0\\\\\\sin{\\left(\\delta \\right)} & \\cos{\\left(\\delta \\right)} & 0\\\\0 & 0 & 1\\end{matrix}\\right]$"
      ],
      "text/plain": [
       "Matrix([\n",
       "[cos(delta), -sin(delta), 0],\n",
       "[sin(delta),  cos(delta), 0],\n",
       "[         0,           0, 1]])"
      ]
     },
     "execution_count": 17,
     "metadata": {},
     "output_type": "execute_result"
    }
   ],
   "source": [
    "N.dcm(B) "
   ]
  },
  {
   "cell_type": "code",
   "execution_count": 18,
   "metadata": {
    "slideshow": {
     "slide_type": "fragment"
    }
   },
   "outputs": [
    {
     "data": {
      "text/latex": [
       "$\\displaystyle \\left[\\begin{matrix}R_{x}\\\\R_{y}\\\\0\\end{matrix}\\right]$"
      ],
      "text/plain": [
       "Matrix([\n",
       "[R_x],\n",
       "[R_y],\n",
       "[  0]])"
      ]
     },
     "execution_count": 18,
     "metadata": {},
     "output_type": "execute_result"
    }
   ],
   "source": [
    "p.express(B).args[0][0]"
   ]
  },
  {
   "cell_type": "code",
   "execution_count": 19,
   "metadata": {
    "slideshow": {
     "slide_type": "fragment"
    }
   },
   "outputs": [
    {
     "data": {
      "text/latex": [
       "$\\displaystyle \\left[\\begin{matrix}R_{x} \\cos{\\left(\\delta \\right)} - R_{y} \\sin{\\left(\\delta \\right)}\\\\R_{x} \\sin{\\left(\\delta \\right)} + R_{y} \\cos{\\left(\\delta \\right)}\\\\0\\end{matrix}\\right]$"
      ],
      "text/plain": [
       "Matrix([\n",
       "[R_x*cos(delta) - R_y*sin(delta)],\n",
       "[R_x*sin(delta) + R_y*cos(delta)],\n",
       "[                              0]])"
      ]
     },
     "execution_count": 19,
     "metadata": {},
     "output_type": "execute_result"
    }
   ],
   "source": [
    "N.dcm(B)*(p.express(B).args[0][0])"
   ]
  },
  {
   "cell_type": "code",
   "execution_count": 20,
   "metadata": {
    "slideshow": {
     "slide_type": "fragment"
    }
   },
   "outputs": [
    {
     "data": {
      "text/latex": [
       "$\\displaystyle R_{x} \\cos{\\left(\\delta \\right)} - R_{y} \\sin{\\left(\\delta \\right)}$"
      ],
      "text/plain": [
       "R_x*cos(delta) - R_y*sin(delta)"
      ]
     },
     "execution_count": 20,
     "metadata": {},
     "output_type": "execute_result"
    }
   ],
   "source": [
    "RX = p.express(N).args[0][0][0]\n",
    "RX"
   ]
  },
  {
   "cell_type": "code",
   "execution_count": 21,
   "metadata": {
    "slideshow": {
     "slide_type": "fragment"
    }
   },
   "outputs": [
    {
     "data": {
      "text/latex": [
       "$\\displaystyle R_{X} = R_{x} \\cos{\\left(\\delta \\right)} - R_{y} \\sin{\\left(\\delta \\right)}$"
      ],
      "text/plain": [
       "Eq(R_X, R_x*cos(delta) - R_y*sin(delta))"
      ]
     },
     "execution_count": 21,
     "metadata": {},
     "output_type": "execute_result"
    }
   ],
   "source": [
    "RX = symbols('R_X')\n",
    "Eq(RX,p.express(N).args[0][0][0])"
   ]
  },
  {
   "cell_type": "code",
   "execution_count": 22,
   "metadata": {
    "slideshow": {
     "slide_type": "fragment"
    }
   },
   "outputs": [
    {
     "data": {
      "text/latex": [
       "$\\displaystyle R_{x} \\sin{\\left(\\delta \\right)} + R_{y} \\cos{\\left(\\delta \\right)}$"
      ],
      "text/plain": [
       "R_x*sin(delta) + R_y*cos(delta)"
      ]
     },
     "execution_count": 22,
     "metadata": {},
     "output_type": "execute_result"
    }
   ],
   "source": [
    "RY = p.dot(N.y)\n",
    "RY"
   ]
  },
  {
   "cell_type": "code",
   "execution_count": 23,
   "metadata": {
    "slideshow": {
     "slide_type": "fragment"
    }
   },
   "outputs": [
    {
     "data": {
      "text/latex": [
       "$\\displaystyle R_{Y} = R_{x} \\sin{\\left(\\delta \\right)} + R_{y} \\cos{\\left(\\delta \\right)}$"
      ],
      "text/plain": [
       "Eq(R_Y, R_x*sin(delta) + R_y*cos(delta))"
      ]
     },
     "execution_count": 23,
     "metadata": {},
     "output_type": "execute_result"
    }
   ],
   "source": [
    "RY = symbols('R_Y')\n",
    "Eq(RY,p.dot(N.y))"
   ]
  },
  {
   "cell_type": "markdown",
   "metadata": {
    "slideshow": {
     "slide_type": "subslide"
    }
   },
   "source": [
    "### Deslocamentos\n",
    "O vetor posição $\\vec{R}_{BA}$ define o deslocamento do ponto $B$ em relação ao ponto $A$. "
   ]
  },
  {
   "cell_type": "code",
   "execution_count": 24,
   "metadata": {
    "slideshow": {
     "slide_type": "fragment"
    }
   },
   "outputs": [
    {
     "data": {
      "image/svg+xml": [
       "<svg xmlns:dc=\"http://purl.org/dc/elements/1.1/\" xmlns:cc=\"http://creativecommons.org/ns#\" xmlns:rdf=\"http://www.w3.org/1999/02/22-rdf-syntax-ns#\" xmlns:svg=\"http://www.w3.org/2000/svg\" xmlns=\"http://www.w3.org/2000/svg\" xmlns:sodipodi=\"http://sodipodi.sourceforge.net/DTD/sodipodi-0.dtd\" xmlns:inkscape=\"http://www.inkscape.org/namespaces/inkscape\" width=\"84.273048mm\" height=\"70.264748mm\" viewBox=\"0 0 84.273048 70.264748\" version=\"1.1\" id=\"svg4223\" inkscape:version=\"1.0.1 (3bc2e813f5, 2020-09-07)\" sodipodi:docname=\"figs4-3.svg\">\n",
       "  <defs id=\"defs4217\">\n",
       "    <marker style=\"overflow:visible;\" id=\"marker10341\" refX=\"0.0\" refY=\"0.0\" orient=\"auto\" inkscape:stockid=\"Arrow1Lend\" inkscape:isstock=\"true\">\n",
       "      <path transform=\"scale(0.8) rotate(180) translate(12.5,0)\" style=\"fill-rule:evenodd;stroke:#000000;stroke-width:1pt;stroke-opacity:1;fill:#000000;fill-opacity:1\" d=\"M 0.0,0.0 L 5.0,-5.0 L -12.5,0.0 L 5.0,5.0 L 0.0,0.0 z \" id=\"path939\"/>\n",
       "    </marker>\n",
       "    <marker style=\"overflow:visible\" id=\"marker1547\" refX=\"0.0\" refY=\"0.0\" orient=\"auto\" inkscape:stockid=\"TriangleOutL\" inkscape:isstock=\"true\">\n",
       "      <path transform=\"scale(0.8)\" style=\"fill-rule:evenodd;stroke:#000000;stroke-width:1pt;stroke-opacity:1;fill:#000000;fill-opacity:1\" d=\"M 5.77,0.0 L -2.88,5.0 L -2.88,-5.0 L 5.77,0.0 z \" id=\"path1545\"/>\n",
       "    </marker>\n",
       "    <marker style=\"overflow:visible\" id=\"marker1443\" refX=\"0.0\" refY=\"0.0\" orient=\"auto\" inkscape:stockid=\"TriangleOutL\" inkscape:isstock=\"true\" inkscape:collect=\"always\">\n",
       "      <path transform=\"scale(0.8)\" style=\"fill-rule:evenodd;stroke:#000000;stroke-width:1pt;stroke-opacity:1;fill:#000000;fill-opacity:1\" d=\"M 5.77,0.0 L -2.88,5.0 L -2.88,-5.0 L 5.77,0.0 z \" id=\"path1441\"/>\n",
       "    </marker>\n",
       "    <marker style=\"overflow:visible\" id=\"marker1347\" refX=\"0.0\" refY=\"0.0\" orient=\"auto\" inkscape:stockid=\"TriangleOutL\" inkscape:isstock=\"true\" inkscape:collect=\"always\">\n",
       "      <path transform=\"scale(0.8)\" style=\"fill-rule:evenodd;stroke:#000000;stroke-width:1pt;stroke-opacity:1;fill:#000000;fill-opacity:1\" d=\"M 5.77,0.0 L -2.88,5.0 L -2.88,-5.0 L 5.77,0.0 z \" id=\"path1345\"/>\n",
       "    </marker>\n",
       "    <marker style=\"overflow:visible\" id=\"TriangleOutL\" refX=\"0.0\" refY=\"0.0\" orient=\"auto\" inkscape:stockid=\"TriangleOutL\" inkscape:isstock=\"true\" inkscape:collect=\"always\">\n",
       "      <path transform=\"scale(0.8)\" style=\"fill-rule:evenodd;stroke:#000000;stroke-width:1pt;stroke-opacity:1;fill:#000000;fill-opacity:1\" d=\"M 5.77,0.0 L -2.88,5.0 L -2.88,-5.0 L 5.77,0.0 z \" id=\"path1137\"/>\n",
       "    </marker>\n",
       "    <marker style=\"overflow:visible\" id=\"marker933\" refX=\"0\" refY=\"0\" orient=\"auto\" inkscape:stockid=\"Arrow1Lend\" inkscape:isstock=\"true\">\n",
       "      <path transform=\"matrix(-0.8,0,0,-0.8,-10,0)\" style=\"fill:#000000;fill-opacity:1;fill-rule:evenodd;stroke:#000000;stroke-width:1pt;stroke-opacity:1\" d=\"M 0,0 5,-5 -12.5,0 5,5 Z\" id=\"path931\"/>\n",
       "    </marker>\n",
       "    <marker style=\"overflow:visible\" id=\"marker5170\" refX=\"0\" refY=\"0\" orient=\"auto\" inkscape:stockid=\"Arrow1Lend\" inkscape:isstock=\"true\" inkscape:collect=\"always\">\n",
       "      <path transform=\"matrix(-0.8,0,0,-0.8,-10,0)\" style=\"fill:#000000;fill-opacity:1;fill-rule:evenodd;stroke:#000000;stroke-width:1pt;stroke-opacity:1\" d=\"M 0,0 5,-5 -12.5,0 5,5 Z\" id=\"path5168\"/>\n",
       "    </marker>\n",
       "    <marker style=\"overflow:visible\" id=\"marker5116\" refX=\"0\" refY=\"0\" orient=\"auto\" inkscape:stockid=\"Arrow1Lend\" inkscape:isstock=\"true\" inkscape:collect=\"always\">\n",
       "      <path transform=\"matrix(-0.8,0,0,-0.8,-10,0)\" style=\"fill:#000000;fill-opacity:1;fill-rule:evenodd;stroke:#000000;stroke-width:1pt;stroke-opacity:1\" d=\"M 0,0 5,-5 -12.5,0 5,5 Z\" id=\"path5114\"/>\n",
       "    </marker>\n",
       "    <marker style=\"overflow:visible\" id=\"marker5068\" refX=\"0\" refY=\"0\" orient=\"auto\" inkscape:stockid=\"Arrow1Lend\" inkscape:isstock=\"true\" inkscape:collect=\"always\">\n",
       "      <path transform=\"matrix(-0.8,0,0,-0.8,-10,0)\" style=\"fill:#000000;fill-opacity:1;fill-rule:evenodd;stroke:#000000;stroke-width:1pt;stroke-opacity:1\" d=\"M 0,0 5,-5 -12.5,0 5,5 Z\" id=\"path5066\"/>\n",
       "    </marker>\n",
       "    <inkscape:path-effect effect=\"spiro\" id=\"path-effect4874\" is_visible=\"true\" lpeversion=\"1\"/>\n",
       "    <inkscape:path-effect effect=\"simplify\" id=\"path-effect4872\" is_visible=\"true\" lpeversion=\"1\" steps=\"1\" threshold=\"0.00645161\" smooth_angles=\"360\" helper_size=\"0\" simplify_individual_paths=\"false\" simplify_just_coalesce=\"false\"/>\n",
       "    <inkscape:path-effect effect=\"simplify\" id=\"path-effect4866\" is_visible=\"true\" lpeversion=\"1\" steps=\"1\" threshold=\"0.000625\" smooth_angles=\"360\" helper_size=\"0\" simplify_individual_paths=\"false\" simplify_just_coalesce=\"false\"/>\n",
       "    <marker style=\"overflow:visible\" id=\"Arrow1Lstart\" refX=\"0\" refY=\"0\" orient=\"auto\" inkscape:stockid=\"Arrow1Lstart\" inkscape:isstock=\"true\">\n",
       "      <path transform=\"matrix(0.8,0,0,0.8,10,0)\" style=\"fill:#000000;fill-opacity:1;fill-rule:evenodd;stroke:#000000;stroke-width:1pt;stroke-opacity:1\" d=\"M 0,0 5,-5 -12.5,0 5,5 Z\" id=\"path2819\"/>\n",
       "    </marker>\n",
       "    <inkscape:path-effect effect=\"simplify\" id=\"path-effect4796\" is_visible=\"true\" lpeversion=\"1\" steps=\"1\" threshold=\"0.000625\" smooth_angles=\"360\" helper_size=\"0\" simplify_individual_paths=\"false\" simplify_just_coalesce=\"false\"/>\n",
       "    <inkscape:path-effect effect=\"simplify\" id=\"path-effect4790\" is_visible=\"true\" lpeversion=\"1\" steps=\"1\" threshold=\"0.000625\" smooth_angles=\"360\" helper_size=\"0\" simplify_individual_paths=\"false\" simplify_just_coalesce=\"false\"/>\n",
       "    <marker style=\"overflow:visible\" id=\"marker2416\" refX=\"0\" refY=\"0\" orient=\"auto\" inkscape:stockid=\"Arrow1Lend\" inkscape:isstock=\"true\">\n",
       "      <path transform=\"matrix(-0.8,0,0,-0.8,-10,0)\" style=\"fill:#ff0000;fill-opacity:1;fill-rule:evenodd;stroke:#ff0000;stroke-width:1pt;stroke-opacity:1\" d=\"M 0,0 5,-5 -12.5,0 5,5 Z\" id=\"path2414\"/>\n",
       "    </marker>\n",
       "    <filter inkscape:collect=\"always\" style=\"color-interpolation-filters:sRGB\" id=\"filter2408\" x=\"-0.18425412\" width=\"1.3685082\" y=\"-0.18425412\" height=\"1.3685082\">\n",
       "      <feGaussianBlur inkscape:collect=\"always\" stdDeviation=\"0.52308203\" id=\"feGaussianBlur2410\"/>\n",
       "    </filter>\n",
       "  </defs>\n",
       "  <sodipodi:namedview id=\"base\" pagecolor=\"#ffffff\" bordercolor=\"#666666\" borderopacity=\"1.0\" inkscape:pageopacity=\"0.0\" inkscape:pageshadow=\"2\" inkscape:zoom=\"1.979899\" inkscape:cx=\"192.92978\" inkscape:cy=\"113.10349\" inkscape:document-units=\"mm\" inkscape:current-layer=\"layer4\" inkscape:document-rotation=\"0\" showgrid=\"false\" inkscape:window-width=\"1920\" inkscape:window-height=\"1017\" inkscape:window-x=\"-8\" inkscape:window-y=\"-8\" inkscape:window-maximized=\"1\"/>\n",
       "  <metadata id=\"metadata4220\">\n",
       "    <rdf:RDF>\n",
       "      <cc:Work rdf:about=\"\">\n",
       "        <dc:format>image/svg+xml</dc:format>\n",
       "        <dc:type rdf:resource=\"http://purl.org/dc/dcmitype/StillImage\"/>\n",
       "        <dc:title/>\n",
       "      </cc:Work>\n",
       "    </rdf:RDF>\n",
       "  </metadata>\n",
       "  <g inkscape:groupmode=\"layer\" id=\"layer4\" inkscape:label=\"Layer 2\">\n",
       "    <rect style=\"fill:#ffffff;stroke:#ffffff;stroke-width:0.865\" id=\"rect2864\" width=\"84.590805\" height=\"70.559151\" x=\"-0.13363476\" y=\"0\"/>\n",
       "  </g>\n",
       "  <g inkscape:label=\"Layer 1\" inkscape:groupmode=\"layer\" id=\"layer1\" transform=\"translate(-35.804456,-51.011956)\">\n",
       "    <path style=\"fill:none;stroke:#000000;stroke-width:0.265;stroke-linecap:butt;stroke-linejoin:miter;stroke-opacity:1;marker-start:url(#Arrow1Lstart);marker-end:url(#marker10341);stroke-miterlimit:4;stroke-dasharray:none\" d=\"M 93.226169,111.37818 H 46.494538 V 69.056449\" id=\"path4786\"/>\n",
       "    <text xml:space=\"preserve\" style=\"font-size:7.7611px;line-height:1.25;font-family:sans-serif;-inkscape-font-specification:sans-serif;stroke-width:0.264583\" x=\"38.001274\" y=\"118.66259\" id=\"text4854\"><tspan sodipodi:role=\"line\" id=\"tspan4852\" x=\"38.001274\" y=\"118.66259\" style=\"stroke-width:0.264583\">O</tspan></text>\n",
       "    <text xml:space=\"preserve\" style=\"font-size:7.7611px;line-height:1.25;font-family:sans-serif;-inkscape-font-specification:sans-serif;stroke-width:0.264583\" x=\"91.490891\" y=\"121.2767\" id=\"text4858\"><tspan sodipodi:role=\"line\" id=\"tspan4856\" x=\"91.490891\" y=\"121.2767\" style=\"stroke-width:0.264583\">X</tspan></text>\n",
       "    <text xml:space=\"preserve\" style=\"font-size:7.7611px;line-height:1.25;font-family:sans-serif;-inkscape-font-specification:sans-serif;stroke-width:0.264583\" x=\"35.819614\" y=\"72.061058\" id=\"text4862\"><tspan sodipodi:role=\"line\" id=\"tspan4860\" x=\"35.819614\" y=\"72.061058\" style=\"stroke-width:0.264583\">Y</tspan></text>\n",
       "    <path style=\"fill:none;stroke:#000000;stroke-width:0.264583;stroke-linecap:butt;stroke-linejoin:miter;stroke-miterlimit:4;stroke-dasharray:2.11666, 2.11666;stroke-dashoffset:0;stroke-opacity:1\" d=\"m 75.067441,51.145389 c -1.703969,-0.02952 -3.413053,0.501748 -4.800007,1.492071 -1.386954,0.990323 -2.444293,2.434361 -2.969564,4.055617 -0.669925,2.067732 -0.458293,4.386235 0.480133,6.346763 0.938426,1.960528 2.577087,3.558045 4.513985,4.54432 2.358593,1.201004 5.104229,1.501982 7.734378,1.205862 2.63015,-0.296121 5.164955,-1.160984 7.603136,-2.190861 2.893046,-1.22201 5.68622,-2.684454 8.639708,-3.752128 2.953489,-1.067675 6.12877,-1.735132 9.23718,-1.287038 4.20801,0.606606 7.89808,3.204396 10.80607,6.305826 1.24131,1.323883 2.38724,2.776187 3.07523,4.455529 0.68799,1.679341 0.88158,3.618124 0.22212,5.308872 -0.52094,1.335597 -1.54359,2.440003 -2.7502,3.214136 -1.20661,0.774134 -2.59139,1.23615 -3.99643,1.520854 -5.44818,1.103967 -11.35584,-0.512304 -15.559021,-4.150265 -2.797165,-2.421021 -4.812776,-5.610389 -6.587739,-8.856152 -1.554798,-2.843161 -2.959939,-5.771741 -4.672436,-8.522798 -1.712497,-2.751058 -3.760421,-5.345743 -6.374746,-7.260493 -1.404476,-1.028648 -2.960324,-1.850259 -4.601797,-2.430115 z\" id=\"path4870\" inkscape:path-effect=\"#path-effect4872;#path-effect4874\" inkscape:original-d=\"M 75.067441,51.145389 C 64.873859,50.840179 63.49306,66.510786 75.257774,68.473034 89.863301,70.909106 106.99538,50.226159 118.04118,70.670655 126.35289,86.054679 102.08843,84.799359 95.167212,76.156183 87.715294,66.850259 86.285302,55.233298 75.067441,51.145389 Z\"/>\n",
       "    <g id=\"g5050\" transform=\"matrix(0.62824966,0,0,0.62841368,38.348682,4.8648415)\" style=\"stroke-width:1.59152\">\n",
       "      <circle style=\"mix-blend-mode:normal;fill:#666666;stroke:#000000;stroke-width:0.271798\" id=\"path1649\" cx=\"108.4316\" cy=\"92.124985\" r=\"7.4015002\"/>\n",
       "      <circle style=\"fill:#ffffff;stroke:#000000;stroke-width:0.188437;filter:url(#filter2408)\" id=\"path1651\" cx=\"111.03149\" cy=\"88.963264\" r=\"3.4066997\"/>\n",
       "    </g>\n",
       "    <g id=\"g5056\" transform=\"matrix(0.62824966,0,0,0.62841368,1.4573037,5.3131403)\" style=\"stroke-width:1.59152\">\n",
       "      <circle style=\"mix-blend-mode:normal;fill:#666666;stroke:#000000;stroke-width:0.271798\" id=\"circle5052\" cx=\"108.4316\" cy=\"92.124985\" r=\"7.4015002\"/>\n",
       "      <circle style=\"fill:#ffffff;stroke:#000000;stroke-width:0.188437;filter:url(#filter2408)\" id=\"circle5054\" cx=\"111.03149\" cy=\"88.963264\" r=\"3.4066997\"/>\n",
       "    </g>\n",
       "    <path style=\"fill:none;stroke:#000000;stroke-width:0.565;stroke-linecap:butt;stroke-linejoin:miter;stroke-miterlimit:4;stroke-dasharray:none;stroke-opacity:1;marker-end:url(#marker5068)\" d=\"M 46.494538,111.37818 106.48201,63.547534\" id=\"path5058\"/>\n",
       "    <path style=\"fill:none;stroke:#000000;stroke-width:0.565;stroke-linecap:butt;stroke-linejoin:miter;stroke-miterlimit:4;stroke-dasharray:none;stroke-opacity:1;marker-end:url(#marker5116)\" d=\"M 46.494538,111.37818 69.073545,63.31581\" id=\"path5106\"/>\n",
       "    <path style=\"fill:none;stroke:#000000;stroke-width:0.565;stroke-linecap:butt;stroke-linejoin:miter;stroke-miterlimit:4;stroke-dasharray:none;stroke-opacity:1;marker-end:url(#marker5170)\" d=\"m 69.073545,63.31581 37.408465,0.231724\" id=\"path5160\"/>\n",
       "    <text xml:space=\"preserve\" style=\"font-size:7.7611px;line-height:1.25;font-family:sans-serif;-inkscape-font-specification:sans-serif;stroke-width:0.264583\" x=\"58.471088\" y=\"60.723351\" id=\"text5270\"><tspan sodipodi:role=\"line\" id=\"tspan5268\" x=\"58.471088\" y=\"60.723351\" style=\"stroke-width:0.264583\">A</tspan></text>\n",
       "    <text xml:space=\"preserve\" style=\"font-size:7.7611px;line-height:1.25;font-family:sans-serif;-inkscape-font-specification:sans-serif;stroke-width:0.264583\" x=\"111.07375\" y=\"60.550766\" id=\"text5274\"><tspan sodipodi:role=\"line\" id=\"tspan5272\" x=\"111.07375\" y=\"60.550766\" style=\"stroke-width:0.264583\">B</tspan></text>\n",
       "    <text xml:space=\"preserve\" style=\"font-size:7.7611px;line-height:1.25;font-family:sans-serif;-inkscape-font-specification:sans-serif;stroke-width:0.264583\" x=\"83.049095\" y=\"59.255951\" id=\"text5278\"><tspan sodipodi:role=\"line\" id=\"tspan5276\" x=\"83.049095\" y=\"59.255951\" style=\"stroke-width:0.264583\">R<tspan style=\"font-size:65%;baseline-shift:sub\" id=\"tspan5280\">BA</tspan></tspan></text>\n",
       "    <text xml:space=\"preserve\" style=\"font-size:7.7611px;line-height:1.25;font-family:sans-serif;-inkscape-font-specification:sans-serif;stroke-width:0.264583\" x=\"50.139427\" y=\"78.674736\" id=\"text5284\"><tspan sodipodi:role=\"line\" id=\"tspan5282\" x=\"50.139427\" y=\"78.674736\" style=\"stroke-width:0.264583\">R<tspan style=\"font-size:65%;baseline-shift:sub\" id=\"tspan5286\">A</tspan></tspan></text>\n",
       "    <text xml:space=\"preserve\" style=\"font-size:7.7611px;line-height:1.25;font-family:sans-serif;-inkscape-font-specification:sans-serif;stroke-width:0.264583\" x=\"81.91066\" y=\"93.704056\" id=\"text5290\"><tspan sodipodi:role=\"line\" id=\"tspan5288\" x=\"81.91066\" y=\"93.704056\" style=\"stroke-width:0.264583\">R<tspan style=\"font-size:65%;baseline-shift:sub\" id=\"tspan5292\">B</tspan></tspan></text>\n",
       "    <path style=\"fill:none;stroke:#000000;stroke-width:0.165;stroke-linecap:butt;stroke-linejoin:miter;stroke-miterlimit:4;stroke-dasharray:none;stroke-opacity:1;marker-end:url(#TriangleOutL)\" d=\"M 50.440997,71.608166 H 54.4852\" id=\"path923\"/>\n",
       "    <path style=\"fill:none;stroke:#000000;stroke-width:0.165;stroke-linecap:butt;stroke-linejoin:miter;stroke-miterlimit:4;stroke-dasharray:none;stroke-opacity:1;marker-end:url(#marker1347)\" d=\"M 82.130237,87.183238 H 86.17444\" id=\"path1343\"/>\n",
       "    <path style=\"fill:none;stroke:#000000;stroke-width:0.165;stroke-linecap:butt;stroke-linejoin:miter;stroke-miterlimit:4;stroke-dasharray:none;stroke-opacity:1;marker-end:url(#marker1443)\" d=\"m 83.06967,52.728692 h 4.044203\" id=\"path1439\"/>\n",
       "  </g>\n",
       "</svg>"
      ],
      "text/plain": [
       "<IPython.core.display.SVG object>"
      ]
     },
     "execution_count": 24,
     "metadata": {},
     "output_type": "execute_result"
    }
   ],
   "source": [
    "SVG('figs4-3.svg')"
   ]
  },
  {
   "cell_type": "markdown",
   "metadata": {
    "slideshow": {
     "slide_type": "fragment"
    }
   },
   "source": [
    "A posição de $B$ em consideração a $A$ é igual a posição absoluta de $B$ menos a posição absoluta de $A$\n",
    "$$\\vec{R}_{BA} = \\vec{R}_B - \\vec{R}_A$$\n",
    "Ou:\n",
    "$$\\vec{R}_{BA} = \\vec{R}_{BO} - \\vec{R}_{AO}$$"
   ]
  },
  {
   "cell_type": "markdown",
   "metadata": {
    "slideshow": {
     "slide_type": "slide"
    }
   },
   "source": [
    "## 4.3 Translação, Rotação e Movimento Complexo"
   ]
  },
  {
   "cell_type": "markdown",
   "metadata": {
    "slideshow": {
     "slide_type": "subslide"
    }
   },
   "source": [
    "#### Translação\n",
    "Todos os pontos do corpo tem o mesmo deslocamento. A orientação angular é mantida.\n",
    "#### Rotação \n",
    "Diferentes pontos do corpo suportam difenrentes deslocamentos, portanto há uma diferença de deslocamento entre quaisquer dois pontos escolhidos\n",
    "#### Movimento complexo\n",
    "É a união dos dois movimentos anteriores\n",
    "\n",
    "#### Teoremas:\n",
    "**Teorema de Euler** <br>\n",
    "O deslocamento geral de um corpo rígido com um ponto fixo é igual a rotação relacionada a algum eixo.<br>\n",
    "**Teorema de Chasles** <br>\n",
    "Qualquer deslocamento de um corpo rígido é equivalente à soma da translação de qualquer ponto naquele corpo com rotação sobre um eixo por meio desse ponto."
   ]
  },
  {
   "cell_type": "markdown",
   "metadata": {
    "slideshow": {
     "slide_type": "slide"
    }
   },
   "source": [
    "## 4.4 Análise Gráfica da Posição de Mecanismos"
   ]
  },
  {
   "cell_type": "markdown",
   "metadata": {
    "slideshow": {
     "slide_type": "subslide"
    }
   },
   "source": [
    "Para qualquer mecanismo de um GDL, somente um parâmetro é necessário para definir a posição de todos os elos. O parâmetro usualmente escolhido é o ângulo do elo de entrada.<br>\n",
    "Os comprimentos dos elos $a$, $b$, $c$ e $d$ são conhecidos."
   ]
  },
  {
   "cell_type": "code",
   "execution_count": 25,
   "metadata": {
    "slideshow": {
     "slide_type": "fragment"
    }
   },
   "outputs": [
    {
     "data": {
      "image/svg+xml": [
       "<svg xmlns:dc=\"http://purl.org/dc/elements/1.1/\" xmlns:cc=\"http://creativecommons.org/ns#\" xmlns:rdf=\"http://www.w3.org/1999/02/22-rdf-syntax-ns#\" xmlns:svg=\"http://www.w3.org/2000/svg\" xmlns=\"http://www.w3.org/2000/svg\" xmlns:sodipodi=\"http://sodipodi.sourceforge.net/DTD/sodipodi-0.dtd\" xmlns:inkscape=\"http://www.inkscape.org/namespaces/inkscape\" width=\"214.58945mm\" height=\"110.67824mm\" viewBox=\"0 0 214.58945 110.67824\" version=\"1.1\" id=\"svg8\" inkscape:version=\"1.0.1 (3bc2e813f5, 2020-09-07)\" sodipodi:docname=\"figs4-4.svg\">\n",
       "  <defs id=\"defs2\">\n",
       "    <marker style=\"overflow:visible;\" id=\"marker9278\" refX=\"0.0\" refY=\"0.0\" orient=\"auto\" inkscape:stockid=\"Arrow1Lend\" inkscape:isstock=\"true\">\n",
       "      <path transform=\"scale(0.8) rotate(180) translate(12.5,0)\" style=\"fill-rule:evenodd;stroke:#000000;stroke-width:1pt;stroke-opacity:1;fill:#000000;fill-opacity:1\" d=\"M 0.0,0.0 L 5.0,-5.0 L -12.5,0.0 L 5.0,5.0 L 0.0,0.0 z \" id=\"path939\"/>\n",
       "    </marker>\n",
       "    <marker style=\"overflow:visible\" id=\"marker1421\" refX=\"0\" refY=\"0\" orient=\"auto\" inkscape:stockid=\"Arrow1Lend\" inkscape:isstock=\"true\">\n",
       "      <path transform=\"matrix(-0.8,0,0,-0.8,-10,0)\" style=\"fill:#000000;fill-opacity:1;fill-rule:evenodd;stroke:#000000;stroke-width:1pt;stroke-opacity:1\" d=\"M 0,0 5,-5 -12.5,0 5,5 Z\" id=\"path1419\"/>\n",
       "    </marker>\n",
       "    <marker style=\"overflow:visible\" id=\"marker1375\" refX=\"0\" refY=\"0\" orient=\"auto\" inkscape:stockid=\"Arrow1Lend\" inkscape:isstock=\"true\" inkscape:collect=\"always\">\n",
       "      <path transform=\"matrix(-0.8,0,0,-0.8,-10,0)\" style=\"fill:#000000;fill-opacity:1;fill-rule:evenodd;stroke:#000000;stroke-width:1pt;stroke-opacity:1\" d=\"M 0,0 5,-5 -12.5,0 5,5 Z\" id=\"path1373\"/>\n",
       "    </marker>\n",
       "    <marker style=\"overflow:visible\" id=\"marker1315\" refX=\"0\" refY=\"0\" orient=\"auto\" inkscape:stockid=\"Arrow1Lend\" inkscape:isstock=\"true\" inkscape:collect=\"always\">\n",
       "      <path transform=\"matrix(-0.8,0,0,-0.8,-10,0)\" style=\"fill:#000000;fill-opacity:1;fill-rule:evenodd;stroke:#000000;stroke-width:1pt;stroke-opacity:1\" d=\"M 0,0 5,-5 -12.5,0 5,5 Z\" id=\"path1313\"/>\n",
       "    </marker>\n",
       "    <marker style=\"overflow:visible\" id=\"Arrow1Lstart\" refX=\"0\" refY=\"0\" orient=\"auto\" inkscape:stockid=\"Arrow1Lstart\" inkscape:isstock=\"true\">\n",
       "      <path transform=\"matrix(0.8,0,0,0.8,10,0)\" style=\"fill:#000000;fill-opacity:1;fill-rule:evenodd;stroke:#000000;stroke-width:1pt;stroke-opacity:1\" d=\"M 0,0 5,-5 -12.5,0 5,5 Z\" id=\"path987\"/>\n",
       "    </marker>\n",
       "  </defs>\n",
       "  <sodipodi:namedview id=\"base\" pagecolor=\"#ffffff\" bordercolor=\"#666666\" borderopacity=\"1.0\" inkscape:pageopacity=\"0.0\" inkscape:pageshadow=\"2\" inkscape:zoom=\"1.4\" inkscape:cx=\"379.80088\" inkscape:cy=\"209.49093\" inkscape:document-units=\"mm\" inkscape:current-layer=\"layer5\" inkscape:document-rotation=\"0\" showgrid=\"false\" inkscape:snap-object-midpoints=\"false\" inkscape:snap-smooth-nodes=\"true\" inkscape:window-width=\"1920\" inkscape:window-height=\"1017\" inkscape:window-x=\"-8\" inkscape:window-y=\"-8\" inkscape:window-maximized=\"1\"/>\n",
       "  <metadata id=\"metadata5\">\n",
       "    <rdf:RDF>\n",
       "      <cc:Work rdf:about=\"\">\n",
       "        <dc:format>image/svg+xml</dc:format>\n",
       "        <dc:type rdf:resource=\"http://purl.org/dc/dcmitype/StillImage\"/>\n",
       "        <dc:title/>\n",
       "      </cc:Work>\n",
       "    </rdf:RDF>\n",
       "  </metadata>\n",
       "  <g inkscape:groupmode=\"layer\" id=\"layer5\" inkscape:label=\"Layer 2\">\n",
       "    <rect style=\"fill:#ffffff;stroke:#ffffff;stroke-width:0.865\" id=\"rect3650\" width=\"215.25743\" height=\"111.125\" x=\"-0.1889881\" y=\"0\"/>\n",
       "  </g>\n",
       "  <g inkscape:label=\"Layer 1\" inkscape:groupmode=\"layer\" id=\"layer1\" transform=\"translate(-14.696059,-50.039333)\">\n",
       "    <path id=\"path839\" style=\"fill:#ffffff;stroke:#000000;stroke-width:0.699999;stroke-linejoin:bevel;stroke-miterlimit:4;stroke-dasharray:none\" d=\"m 40.314083,127.77587 a 7.5049962,7.4894698 0 0 0 -7.490705,7.48947 7.5049962,7.4894698 0 0 0 0,0.0143 v 13.0923 h 15.009993 v -13.10657 a 7.5049962,7.4894698 0 0 0 -7.504997,-7.48947 7.5049962,7.4894698 0 0 0 -0.0143,0 z\"/>\n",
       "    <path style=\"fill:none;stroke:#000000;stroke-width:0.7;stroke-linecap:butt;stroke-linejoin:miter;stroke-miterlimit:4;stroke-dasharray:none;stroke-opacity:1\" d=\"M 14.999011,148.37191 H 69.410235\" id=\"path850\"/>\n",
       "    <path style=\"fill:none;stroke:#000000;stroke-width:0.7;stroke-linecap:butt;stroke-linejoin:miter;stroke-miterlimit:4;stroke-dasharray:none;stroke-opacity:1\" d=\"m 14.999011,148.37191 7.041144,12.17039\" id=\"path852\"/>\n",
       "    <path style=\"fill:none;stroke:#000000;stroke-width:0.7;stroke-linecap:butt;stroke-linejoin:miter;stroke-miterlimit:4;stroke-dasharray:none;stroke-opacity:1\" d=\"m 27.382263,148.37191 7.041144,12.17039\" id=\"path854\"/>\n",
       "    <path style=\"fill:none;stroke:#000000;stroke-width:0.7;stroke-linecap:butt;stroke-linejoin:miter;stroke-miterlimit:4;stroke-dasharray:none;stroke-opacity:1\" d=\"m 39.390265,148.37191 7.041144,12.17039\" id=\"path856\"/>\n",
       "    <path style=\"fill:none;stroke:#000000;stroke-width:0.7;stroke-linecap:butt;stroke-linejoin:miter;stroke-miterlimit:4;stroke-dasharray:none;stroke-opacity:1\" d=\"m 51.773517,148.37191 7.041144,12.17039\" id=\"path858\"/>\n",
       "    <path style=\"fill:none;stroke:#000000;stroke-width:0.7;stroke-linecap:butt;stroke-linejoin:miter;stroke-miterlimit:4;stroke-dasharray:none;stroke-opacity:1\" d=\"m 64.156769,148.37191 7.04115,12.17039\" id=\"path860\"/>\n",
       "    <ellipse style=\"fill:#ffffff;stroke:#000000;stroke-width:0.7;stroke-linejoin:bevel\" id=\"path1592\" cx=\"40.369549\" cy=\"135.1759\" rx=\"2.6233726\" ry=\"2.6179454\"/>\n",
       "    <g inkscape:label=\"Layer 1\" id=\"g967\" transform=\"matrix(0.70913352,0,0,0.70766648,139.80942,37.902228)\" style=\"stroke-width:1.41163\">\n",
       "      <path id=\"path951\" style=\"fill:#ffffff;stroke:#000000;stroke-width:3.73471;stroke-linejoin:bevel;stroke-miterlimit:4;stroke-dasharray:none\" d=\"M 219.92383,480 A 39.999999,39.999999 0 0 0 180,520 a 39.999999,39.999999 0 0 0 0,0.0762 V 590 h 80 v -70 a 39.999999,39.999999 0 0 0 -40,-40 39.999999,39.999999 0 0 0 -0.0762,0 z\" transform=\"scale(0.26458333)\"/>\n",
       "      <path style=\"fill:none;stroke:#000000;stroke-width:0.988143;stroke-linecap:butt;stroke-linejoin:miter;stroke-miterlimit:4;stroke-dasharray:none;stroke-opacity:1\" d=\"M 22.489583,156.10416 H 99.218749\" id=\"path953\"/>\n",
       "      <path style=\"fill:none;stroke:#000000;stroke-width:0.988143;stroke-linecap:butt;stroke-linejoin:miter;stroke-miterlimit:4;stroke-dasharray:none;stroke-opacity:1\" d=\"m 22.489583,156.10416 9.929222,17.19792\" id=\"path955\"/>\n",
       "      <path style=\"fill:none;stroke:#000000;stroke-width:0.988143;stroke-linecap:butt;stroke-linejoin:miter;stroke-miterlimit:4;stroke-dasharray:none;stroke-opacity:1\" d=\"m 39.952094,156.10416 9.929222,17.19792\" id=\"path957\"/>\n",
       "      <path style=\"fill:none;stroke:#000000;stroke-width:0.988143;stroke-linecap:butt;stroke-linejoin:miter;stroke-miterlimit:4;stroke-dasharray:none;stroke-opacity:1\" d=\"m 56.885438,156.10416 9.929222,17.19792\" id=\"path959\"/>\n",
       "      <path style=\"fill:none;stroke:#000000;stroke-width:0.988143;stroke-linecap:butt;stroke-linejoin:miter;stroke-miterlimit:4;stroke-dasharray:none;stroke-opacity:1\" d=\"m 74.347949,156.10416 9.929222,17.19792\" id=\"path961\"/>\n",
       "      <path style=\"fill:none;stroke:#000000;stroke-width:0.988143;stroke-linecap:butt;stroke-linejoin:miter;stroke-miterlimit:4;stroke-dasharray:none;stroke-opacity:1\" d=\"m 91.81046,156.10416 9.92923,17.19792\" id=\"path963\"/>\n",
       "      <circle style=\"fill:#ffffff;stroke:#000000;stroke-width:0.988143;stroke-linejoin:bevel\" id=\"circle965\" cx=\"58.266396\" cy=\"137.45695\" r=\"3.6994057\"/>\n",
       "    </g>\n",
       "    <path style=\"fill:none;stroke:#000000;stroke-width:0.665;stroke-linecap:butt;stroke-linejoin:miter;stroke-miterlimit:4;stroke-dasharray:none;stroke-opacity:1\" d=\"M 40.63683,132.91881 54.473189,101.29943 158.25561,77.552742 180.26587,132.7493\" id=\"path969\"/>\n",
       "    <ellipse style=\"fill:#ffffff;stroke:#000000;stroke-width:0.7;stroke-linejoin:bevel\" id=\"ellipse979\" cx=\"54.782269\" cy=\"101.64828\" rx=\"2.6233726\" ry=\"2.6179454\"/>\n",
       "    <ellipse style=\"fill:#ffffff;stroke:#000000;stroke-width:0.7;stroke-linejoin:bevel\" id=\"ellipse981\" cx=\"158.56105\" cy=\"77.746864\" rx=\"2.6233726\" ry=\"2.6179454\"/>\n",
       "    <path style=\"fill:none;stroke:#000000;stroke-width:0.264583px;stroke-linecap:butt;stroke-linejoin:miter;stroke-opacity:1;marker-end:url(#marker1315)\" d=\"M 40.369548,135.1759 V 51.078577\" id=\"path983\"/>\n",
       "    <path style=\"fill:none;stroke:#000000;stroke-width:0.265;stroke-linecap:butt;stroke-linejoin:miter;stroke-opacity:1;marker-end:url(#marker9278);stroke-miterlimit:4;stroke-dasharray:none\" d=\"M 40.369548,135.1759 H 228.62076\" id=\"path985\"/>\n",
       "    <text xml:space=\"preserve\" style=\"font-size:7.7611px;line-height:1.25;font-family:sans-serif;-inkscape-font-specification:sans-serif;stroke-width:0.264583\" x=\"35.393242\" y=\"144.05951\" id=\"text1349\"><tspan sodipodi:role=\"line\" id=\"tspan1347\" x=\"35.393242\" y=\"144.05951\" style=\"stroke-width:0.264583\">O<tspan style=\"font-size:65%;baseline-shift:sub\" id=\"tspan1357\">2</tspan></tspan></text>\n",
       "    <text xml:space=\"preserve\" style=\"font-size:7.7611px;line-height:1.25;font-family:sans-serif;-inkscape-font-specification:sans-serif;stroke-width:0.264583\" x=\"176.83255\" y=\"144.19574\" id=\"text1353\"><tspan sodipodi:role=\"line\" id=\"tspan1351\" x=\"176.83255\" y=\"144.19574\" style=\"stroke-width:0.264583\">O<tspan style=\"font-size:65%;baseline-shift:sub\" id=\"tspan1355\">4</tspan></tspan></text>\n",
       "    <path style=\"fill:none;stroke:#000000;stroke-width:0.264583;stroke-linecap:butt;stroke-linejoin:miter;stroke-miterlimit:4;stroke-dasharray:2.11666, 2.11666;stroke-dashoffset:0;stroke-opacity:1\" d=\"M 54.782267,101.64828 H 122.30559\" id=\"path1361\"/>\n",
       "    <path style=\"fill:none;stroke:#000000;stroke-width:0.264583px;stroke-linecap:butt;stroke-linejoin:miter;stroke-opacity:1;marker-end:url(#marker1375)\" d=\"m 92.906508,101.20302 c 1.255311,-2.244931 1.505398,-4.887335 -0.423056,-8.391146\" id=\"path1363\" sodipodi:nodetypes=\"cc\"/>\n",
       "    <path style=\"fill:none;stroke:#000000;stroke-width:0.264583px;stroke-linecap:butt;stroke-linejoin:miter;stroke-opacity:1;marker-end:url(#marker1421)\" d=\"m 204.02271,135.34302 c -4.19232,-18.1698 -15.68896,-26.44711 -33.03527,-26.802\" id=\"path1365\" sodipodi:nodetypes=\"cc\"/>\n",
       "    <text xml:space=\"preserve\" style=\"font-size:7.7611px;line-height:1.25;font-family:sans-serif;-inkscape-font-specification:sans-serif;stroke-width:0.264583\" x=\"49.927883\" y=\"95.975571\" id=\"text1491\"><tspan sodipodi:role=\"line\" id=\"tspan1489\" x=\"49.927883\" y=\"95.975571\" style=\"stroke-width:0.264583\">A</tspan></text>\n",
       "    <text xml:space=\"preserve\" style=\"font-size:7.7611px;line-height:1.25;font-family:sans-serif;-inkscape-font-specification:sans-serif;stroke-width:0.264583\" x=\"161.36201\" y=\"74.261124\" id=\"text1495\"><tspan sodipodi:role=\"line\" id=\"tspan1493\" x=\"161.36201\" y=\"74.261124\" style=\"stroke-width:0.264583\">B</tspan></text>\n",
       "    <path style=\"fill:none;stroke:#000000;stroke-width:0.264583px;stroke-linecap:butt;stroke-linejoin:miter;stroke-opacity:1\" d=\"m 56.204278,135.14129 c 2.077105,-8.53864 -2.44765,-13.86104 -8.415155,-18.48058\" id=\"path1497\" sodipodi:nodetypes=\"cc\"/>\n",
       "    <g id=\"g1505\" style=\"stroke-width:0.5;stroke-miterlimit:4;stroke-dasharray:none\" transform=\"translate(-8.206898,52.364352)\">\n",
       "      <ellipse style=\"fill:#ffffff;stroke:#000000;stroke-width:0.5;stroke-linejoin:bevel;stroke-miterlimit:4;stroke-dasharray:none;stroke-dashoffset:0\" id=\"path1499\" cx=\"68.891159\" cy=\"69.23098\" rx=\"2.5376184\" ry=\"3.6255431\"/>\n",
       "      <path style=\"fill:none;stroke:#000000;stroke-width:0.5;stroke-linecap:butt;stroke-linejoin:miter;stroke-miterlimit:4;stroke-dasharray:none;stroke-opacity:1\" d=\"m 66.353541,69.23098 h 5.075235\" id=\"path1501\"/>\n",
       "    </g>\n",
       "    <g id=\"g1511\" style=\"stroke-width:0.5;stroke-miterlimit:4;stroke-dasharray:none\" transform=\"translate(130.65558,45.023542)\">\n",
       "      <ellipse style=\"fill:#ffffff;stroke:#000000;stroke-width:0.5;stroke-linejoin:bevel;stroke-miterlimit:4;stroke-dasharray:none;stroke-dashoffset:0\" id=\"ellipse1507\" cx=\"68.891159\" cy=\"69.23098\" rx=\"2.5376184\" ry=\"3.6255431\"/>\n",
       "      <path style=\"fill:none;stroke:#000000;stroke-width:0.5;stroke-linecap:butt;stroke-linejoin:miter;stroke-miterlimit:4;stroke-dasharray:none;stroke-opacity:1\" d=\"m 66.353541,69.23098 h 5.075235\" id=\"path1509\"/>\n",
       "    </g>\n",
       "    <g id=\"g1517\" style=\"stroke-width:0.5;stroke-miterlimit:4;stroke-dasharray:none\" transform=\"translate(31.43961,26.845584)\">\n",
       "      <ellipse style=\"fill:#ffffff;stroke:#000000;stroke-width:0.5;stroke-linejoin:bevel;stroke-miterlimit:4;stroke-dasharray:none;stroke-dashoffset:0\" id=\"ellipse1513\" cx=\"68.891159\" cy=\"69.23098\" rx=\"2.5376184\" ry=\"3.6255431\"/>\n",
       "      <path style=\"fill:none;stroke:#000000;stroke-width:0.5;stroke-linecap:butt;stroke-linejoin:miter;stroke-miterlimit:4;stroke-dasharray:none;stroke-opacity:1\" d=\"m 66.353541,69.23098 h 5.075235\" id=\"path1515\"/>\n",
       "    </g>\n",
       "    <text xml:space=\"preserve\" style=\"font-size:5.40149px;line-height:1.25;font-family:sans-serif;-inkscape-font-specification:sans-serif;stroke-width:0.264583\" x=\"63.598255\" y=\"127.6256\" id=\"text1521\"><tspan sodipodi:role=\"line\" id=\"tspan1519\" x=\"63.598255\" y=\"127.6256\" style=\"stroke-width:0.264583\">2</tspan></text>\n",
       "    <text xml:space=\"preserve\" style=\"font-size:5.40149px;line-height:1.25;font-family:sans-serif;-inkscape-font-specification:sans-serif;stroke-width:0.264583\" x=\"104.03602\" y=\"100.36676\" id=\"text1525\"><tspan sodipodi:role=\"line\" id=\"tspan1523\" x=\"104.03602\" y=\"100.36676\" style=\"stroke-width:0.264583\">3</tspan></text>\n",
       "    <text xml:space=\"preserve\" style=\"font-size:5.40149px;line-height:1.25;font-family:sans-serif;-inkscape-font-specification:sans-serif;stroke-width:0.264583\" x=\"202.49963\" y=\"120.12696\" id=\"text1529\"><tspan sodipodi:role=\"line\" id=\"tspan1527\" x=\"202.49963\" y=\"120.12696\" style=\"stroke-width:0.264583\">4</tspan></text>\n",
       "    <text xml:space=\"preserve\" style=\"font-size:7.7611px;line-height:1.25;font-family:sans-serif;-inkscape-font-specification:sans-serif;stroke-width:0.264583\" x=\"42.530609\" y=\"115.60754\" id=\"text1533\"><tspan sodipodi:role=\"line\" id=\"tspan1531\" x=\"42.530609\" y=\"115.60754\" style=\"stroke-width:0.264583\">2</tspan></text>\n",
       "    <text xml:space=\"preserve\" style=\"font-size:7.7611px;line-height:1.25;font-family:sans-serif;-inkscape-font-specification:sans-serif;stroke-width:0.264583\" x=\"99.787262\" y=\"86.235306\" id=\"text1537\"><tspan sodipodi:role=\"line\" id=\"tspan1535\" x=\"99.787262\" y=\"86.235306\" style=\"stroke-width:0.264583\">3</tspan></text>\n",
       "    <text xml:space=\"preserve\" style=\"font-size:7.7611px;line-height:1.25;font-family:sans-serif;-inkscape-font-specification:sans-serif;stroke-width:0.264583\" x=\"167.8152\" y=\"101.70832\" id=\"text1541\"><tspan sodipodi:role=\"line\" id=\"tspan1539\" x=\"167.8152\" y=\"101.70832\" style=\"stroke-width:0.264583\">4</tspan></text>\n",
       "    <text xml:space=\"preserve\" style=\"font-size:7.7611px;line-height:1.25;font-family:sans-serif;-inkscape-font-specification:sans-serif;stroke-width:0.264583\" x=\"224.21123\" y=\"144.24466\" id=\"text1545\"><tspan sodipodi:role=\"line\" id=\"tspan1543\" x=\"224.21123\" y=\"144.24466\" style=\"stroke-width:0.264583\">X</tspan></text>\n",
       "    <text xml:space=\"preserve\" style=\"font-size:7.7611px;line-height:1.25;font-family:sans-serif;-inkscape-font-specification:sans-serif;stroke-width:0.264583\" x=\"33.694336\" y=\"55.697205\" id=\"text1549\"><tspan sodipodi:role=\"line\" id=\"tspan1547\" x=\"33.694336\" y=\"55.697205\" style=\"stroke-width:0.264583\">Y</tspan></text>\n",
       "  </g>\n",
       "</svg>"
      ],
      "text/plain": [
       "<IPython.core.display.SVG object>"
      ]
     },
     "execution_count": 25,
     "metadata": {},
     "output_type": "execute_result"
    }
   ],
   "source": [
    "SVG('figs4-4.svg')"
   ]
  },
  {
   "cell_type": "code",
   "execution_count": 26,
   "metadata": {
    "slideshow": {
     "slide_type": "fragment"
    }
   },
   "outputs": [
    {
     "data": {
      "image/svg+xml": [
       "<svg xmlns:dc=\"http://purl.org/dc/elements/1.1/\" xmlns:cc=\"http://creativecommons.org/ns#\" xmlns:rdf=\"http://www.w3.org/1999/02/22-rdf-syntax-ns#\" xmlns:svg=\"http://www.w3.org/2000/svg\" xmlns=\"http://www.w3.org/2000/svg\" xmlns:sodipodi=\"http://sodipodi.sourceforge.net/DTD/sodipodi-0.dtd\" xmlns:inkscape=\"http://www.inkscape.org/namespaces/inkscape\" width=\"214.58945mm\" height=\"126.86462mm\" viewBox=\"0 0 214.58944 126.86462\" version=\"1.1\" id=\"svg8\" inkscape:version=\"1.0.1 (3bc2e813f5, 2020-09-07)\" sodipodi:docname=\"figs4-5.svg\">\n",
       "  <defs id=\"defs2\">\n",
       "    <marker style=\"overflow:visible;\" id=\"marker8438\" refX=\"0.0\" refY=\"0.0\" orient=\"auto\" inkscape:stockid=\"Arrow1Lend\" inkscape:isstock=\"true\">\n",
       "      <path transform=\"scale(0.8) rotate(180) translate(12.5,0)\" style=\"fill-rule:evenodd;stroke:#000000;stroke-width:1pt;stroke-opacity:1;fill:#000000;fill-opacity:1\" d=\"M 0.0,0.0 L 5.0,-5.0 L -12.5,0.0 L 5.0,5.0 L 0.0,0.0 z \" id=\"path939\"/>\n",
       "    </marker>\n",
       "    <marker style=\"overflow:visible\" id=\"marker1421\" refX=\"0\" refY=\"0\" orient=\"auto\" inkscape:stockid=\"Arrow1Lend\" inkscape:isstock=\"true\">\n",
       "      <path transform=\"matrix(-0.8,0,0,-0.8,-10,0)\" style=\"fill:#000000;fill-opacity:1;fill-rule:evenodd;stroke:#000000;stroke-width:1pt;stroke-opacity:1\" d=\"M 0,0 5,-5 -12.5,0 5,5 Z\" id=\"path1419\"/>\n",
       "    </marker>\n",
       "    <marker style=\"overflow:visible\" id=\"marker1375\" refX=\"0\" refY=\"0\" orient=\"auto\" inkscape:stockid=\"Arrow1Lend\" inkscape:isstock=\"true\" inkscape:collect=\"always\">\n",
       "      <path transform=\"matrix(-0.8,0,0,-0.8,-10,0)\" style=\"fill:#000000;fill-opacity:1;fill-rule:evenodd;stroke:#000000;stroke-width:1pt;stroke-opacity:1\" d=\"M 0,0 5,-5 -12.5,0 5,5 Z\" id=\"path1373\"/>\n",
       "    </marker>\n",
       "    <marker style=\"overflow:visible\" id=\"marker1315\" refX=\"0\" refY=\"0\" orient=\"auto\" inkscape:stockid=\"Arrow1Lend\" inkscape:isstock=\"true\" inkscape:collect=\"always\">\n",
       "      <path transform=\"matrix(-0.8,0,0,-0.8,-10,0)\" style=\"fill:#000000;fill-opacity:1;fill-rule:evenodd;stroke:#000000;stroke-width:1pt;stroke-opacity:1\" d=\"M 0,0 5,-5 -12.5,0 5,5 Z\" id=\"path1313\"/>\n",
       "    </marker>\n",
       "    <marker style=\"overflow:visible\" id=\"Arrow1Lstart\" refX=\"0\" refY=\"0\" orient=\"auto\" inkscape:stockid=\"Arrow1Lstart\" inkscape:isstock=\"true\">\n",
       "      <path transform=\"matrix(0.8,0,0,0.8,10,0)\" style=\"fill:#000000;fill-opacity:1;fill-rule:evenodd;stroke:#000000;stroke-width:1pt;stroke-opacity:1\" d=\"M 0,0 5,-5 -12.5,0 5,5 Z\" id=\"path987\"/>\n",
       "    </marker>\n",
       "  </defs>\n",
       "  <sodipodi:namedview id=\"base\" pagecolor=\"#ffffff\" bordercolor=\"#666666\" borderopacity=\"1.0\" inkscape:pageopacity=\"0.0\" inkscape:pageshadow=\"2\" inkscape:zoom=\"1.4\" inkscape:cx=\"437.24674\" inkscape:cy=\"215.61833\" inkscape:document-units=\"mm\" inkscape:current-layer=\"layer6\" inkscape:document-rotation=\"0\" showgrid=\"false\" inkscape:snap-object-midpoints=\"true\" inkscape:snap-smooth-nodes=\"false\" inkscape:window-width=\"1920\" inkscape:window-height=\"1017\" inkscape:window-x=\"-8\" inkscape:window-y=\"-8\" inkscape:window-maximized=\"1\" showborder=\"true\" inkscape:snap-nodes=\"true\" inkscape:object-nodes=\"false\"/>\n",
       "  <metadata id=\"metadata5\">\n",
       "    <rdf:RDF>\n",
       "      <cc:Work rdf:about=\"\">\n",
       "        <dc:format>image/svg+xml</dc:format>\n",
       "        <dc:type rdf:resource=\"http://purl.org/dc/dcmitype/StillImage\"/>\n",
       "        <dc:title/>\n",
       "      </cc:Work>\n",
       "    </rdf:RDF>\n",
       "  </metadata>\n",
       "  <g inkscape:groupmode=\"layer\" id=\"layer6\" inkscape:label=\"Layer 2\">\n",
       "    <rect style=\"fill:#ffffff;stroke:#ffffff;stroke-width:0.865\" id=\"rect4450\" width=\"215.44643\" height=\"127.94494\" x=\"0\" y=\"0\"/>\n",
       "  </g>\n",
       "  <g inkscape:label=\"Layer 1\" inkscape:groupmode=\"layer\" id=\"layer1\" transform=\"translate(-14.696059,-50.039333)\">\n",
       "    <path id=\"path839\" style=\"fill:#ffffff;stroke:#000000;stroke-width:0.699999;stroke-linejoin:bevel;stroke-miterlimit:4;stroke-dasharray:none\" d=\"m 40.314083,127.77587 a 7.5049962,7.4894698 0 0 0 -7.490705,7.48947 7.5049962,7.4894698 0 0 0 0,0.0143 v 13.0923 h 15.009993 v -13.10657 a 7.5049962,7.4894698 0 0 0 -7.504997,-7.48947 7.5049962,7.4894698 0 0 0 -0.0143,0 z\"/>\n",
       "    <path style=\"fill:none;stroke:#000000;stroke-width:0.7;stroke-linecap:butt;stroke-linejoin:miter;stroke-miterlimit:4;stroke-dasharray:none;stroke-opacity:1\" d=\"M 14.999011,148.37191 H 69.410235\" id=\"path850\"/>\n",
       "    <path style=\"fill:none;stroke:#000000;stroke-width:0.7;stroke-linecap:butt;stroke-linejoin:miter;stroke-miterlimit:4;stroke-dasharray:none;stroke-opacity:1\" d=\"m 14.999011,148.37191 7.041144,12.17039\" id=\"path852\"/>\n",
       "    <path style=\"fill:none;stroke:#000000;stroke-width:0.7;stroke-linecap:butt;stroke-linejoin:miter;stroke-miterlimit:4;stroke-dasharray:none;stroke-opacity:1\" d=\"m 27.382263,148.37191 7.041144,12.17039\" id=\"path854\"/>\n",
       "    <path style=\"fill:none;stroke:#000000;stroke-width:0.7;stroke-linecap:butt;stroke-linejoin:miter;stroke-miterlimit:4;stroke-dasharray:none;stroke-opacity:1\" d=\"m 39.390265,148.37191 7.041144,12.17039\" id=\"path856\"/>\n",
       "    <path style=\"fill:none;stroke:#000000;stroke-width:0.7;stroke-linecap:butt;stroke-linejoin:miter;stroke-miterlimit:4;stroke-dasharray:none;stroke-opacity:1\" d=\"m 51.773517,148.37191 7.041144,12.17039\" id=\"path858\"/>\n",
       "    <path style=\"fill:none;stroke:#000000;stroke-width:0.7;stroke-linecap:butt;stroke-linejoin:miter;stroke-miterlimit:4;stroke-dasharray:none;stroke-opacity:1\" d=\"m 64.156769,148.37191 7.04115,12.17039\" id=\"path860\"/>\n",
       "    <ellipse style=\"fill:#ffffff;stroke:#000000;stroke-width:0.7;stroke-linejoin:bevel\" id=\"path1592\" cx=\"40.369549\" cy=\"135.1759\" rx=\"2.6233726\" ry=\"2.6179454\"/>\n",
       "    <g inkscape:label=\"Layer 1\" id=\"g967\" transform=\"matrix(0.70913352,0,0,0.70766648,139.80942,37.902228)\" style=\"stroke-width:1.41163\">\n",
       "      <path id=\"path951\" style=\"fill:#ffffff;stroke:#000000;stroke-width:3.73471;stroke-linejoin:bevel;stroke-miterlimit:4;stroke-dasharray:none\" d=\"M 219.92383,480 A 39.999999,39.999999 0 0 0 180,520 a 39.999999,39.999999 0 0 0 0,0.0762 V 590 h 80 v -70 a 39.999999,39.999999 0 0 0 -40,-40 39.999999,39.999999 0 0 0 -0.0762,0 z\" transform=\"scale(0.26458333)\"/>\n",
       "      <path style=\"fill:none;stroke:#000000;stroke-width:0.988143;stroke-linecap:butt;stroke-linejoin:miter;stroke-miterlimit:4;stroke-dasharray:none;stroke-opacity:1\" d=\"M 22.489583,156.10416 H 99.218749\" id=\"path953\"/>\n",
       "      <path style=\"fill:none;stroke:#000000;stroke-width:0.988143;stroke-linecap:butt;stroke-linejoin:miter;stroke-miterlimit:4;stroke-dasharray:none;stroke-opacity:1\" d=\"m 22.489583,156.10416 9.929222,17.19792\" id=\"path955\"/>\n",
       "      <path style=\"fill:none;stroke:#000000;stroke-width:0.988143;stroke-linecap:butt;stroke-linejoin:miter;stroke-miterlimit:4;stroke-dasharray:none;stroke-opacity:1\" d=\"m 39.952094,156.10416 9.929222,17.19792\" id=\"path957\"/>\n",
       "      <path style=\"fill:none;stroke:#000000;stroke-width:0.988143;stroke-linecap:butt;stroke-linejoin:miter;stroke-miterlimit:4;stroke-dasharray:none;stroke-opacity:1\" d=\"m 56.885438,156.10416 9.929222,17.19792\" id=\"path959\"/>\n",
       "      <path style=\"fill:none;stroke:#000000;stroke-width:0.988143;stroke-linecap:butt;stroke-linejoin:miter;stroke-miterlimit:4;stroke-dasharray:none;stroke-opacity:1\" d=\"m 74.347949,156.10416 9.929222,17.19792\" id=\"path961\"/>\n",
       "      <path style=\"fill:none;stroke:#000000;stroke-width:0.988143;stroke-linecap:butt;stroke-linejoin:miter;stroke-miterlimit:4;stroke-dasharray:none;stroke-opacity:1\" d=\"m 91.81046,156.10416 9.92923,17.19792\" id=\"path963\"/>\n",
       "      <circle style=\"fill:#ffffff;stroke:#000000;stroke-width:0.988143;stroke-linejoin:bevel\" id=\"circle965\" cx=\"58.266396\" cy=\"137.45695\" r=\"3.6994057\"/>\n",
       "    </g>\n",
       "    <path style=\"fill:none;stroke:#000000;stroke-width:0.665;stroke-linecap:butt;stroke-linejoin:miter;stroke-miterlimit:4;stroke-dasharray:none;stroke-opacity:1\" d=\"M 40.63683,132.91881 54.473189,101.29943 158.25561,77.552742 180.26587,132.7493\" id=\"path969\"/>\n",
       "    <ellipse style=\"fill:#ffffff;stroke:#000000;stroke-width:0.7;stroke-linejoin:bevel\" id=\"ellipse981\" cx=\"158.56105\" cy=\"77.746864\" rx=\"2.6233726\" ry=\"2.6179454\"/>\n",
       "    <path style=\"fill:none;stroke:#000000;stroke-width:0.264583px;stroke-linecap:butt;stroke-linejoin:miter;stroke-opacity:1;marker-end:url(#marker1315)\" d=\"M 40.369548,135.1759 V 51.078577\" id=\"path983\"/>\n",
       "    <path style=\"fill:none;stroke:#000000;stroke-width:0.265;stroke-linecap:butt;stroke-linejoin:miter;stroke-opacity:1;marker-end:url(#marker8438);stroke-miterlimit:4;stroke-dasharray:none\" d=\"M 40.369548,135.1759 H 228.62076\" id=\"path985\"/>\n",
       "    <text xml:space=\"preserve\" style=\"font-size:7.7611px;line-height:1.25;font-family:sans-serif;-inkscape-font-specification:sans-serif;stroke-width:0.264583\" x=\"35.393242\" y=\"144.05951\" id=\"text1349\"><tspan sodipodi:role=\"line\" id=\"tspan1347\" x=\"35.393242\" y=\"144.05951\" style=\"stroke-width:0.264583\">O<tspan style=\"font-size:65%;baseline-shift:sub\" id=\"tspan1357\">2</tspan></tspan></text>\n",
       "    <text xml:space=\"preserve\" style=\"font-size:7.7611px;line-height:1.25;font-family:sans-serif;-inkscape-font-specification:sans-serif;stroke-width:0.264583\" x=\"176.83255\" y=\"144.19574\" id=\"text1353\"><tspan sodipodi:role=\"line\" id=\"tspan1351\" x=\"176.83255\" y=\"144.19574\" style=\"stroke-width:0.264583\">O<tspan style=\"font-size:65%;baseline-shift:sub\" id=\"tspan1355\">4</tspan></tspan></text>\n",
       "    <path style=\"fill:none;stroke:#000000;stroke-width:0.264583;stroke-linecap:butt;stroke-linejoin:miter;stroke-miterlimit:4;stroke-dasharray:2.11666, 2.11666;stroke-dashoffset:0;stroke-opacity:1\" d=\"M 54.782267,101.64828 H 122.30559\" id=\"path1361\"/>\n",
       "    <path style=\"fill:none;stroke:#000000;stroke-width:0.264583px;stroke-linecap:butt;stroke-linejoin:miter;stroke-opacity:1;marker-end:url(#marker1375)\" d=\"m 92.906508,101.20302 c 1.255311,-2.244931 1.505398,-4.887335 -0.423056,-8.391146\" id=\"path1363\" sodipodi:nodetypes=\"cc\"/>\n",
       "    <path style=\"fill:none;stroke:#000000;stroke-width:0.264583px;stroke-linecap:butt;stroke-linejoin:miter;stroke-opacity:1;marker-end:url(#marker1421)\" d=\"m 204.02271,135.34302 c -4.19232,-18.1698 -15.68896,-26.44711 -33.03527,-26.802\" id=\"path1365\" sodipodi:nodetypes=\"cc\"/>\n",
       "    <text xml:space=\"preserve\" style=\"font-size:7.7611px;line-height:1.25;font-family:sans-serif;-inkscape-font-specification:sans-serif;stroke-width:0.264583\" x=\"49.927883\" y=\"95.975571\" id=\"text1491\"><tspan sodipodi:role=\"line\" id=\"tspan1489\" x=\"49.927883\" y=\"95.975571\" style=\"stroke-width:0.264583\">A</tspan></text>\n",
       "    <text xml:space=\"preserve\" style=\"font-size:7.7611px;line-height:1.25;font-family:sans-serif;-inkscape-font-specification:sans-serif;stroke-width:0.264583\" x=\"161.36201\" y=\"74.261124\" id=\"text1495\"><tspan sodipodi:role=\"line\" id=\"tspan1493\" x=\"161.36201\" y=\"74.261124\" style=\"stroke-width:0.264583\">B</tspan></text>\n",
       "    <path style=\"fill:none;stroke:#000000;stroke-width:0.264583px;stroke-linecap:butt;stroke-linejoin:miter;stroke-opacity:1\" d=\"m 56.204278,135.14129 c 2.077105,-8.53864 -2.44765,-13.86104 -8.415155,-18.48058\" id=\"path1497\" sodipodi:nodetypes=\"cc\"/>\n",
       "    <g id=\"g1505\" style=\"stroke-width:0.5;stroke-miterlimit:4;stroke-dasharray:none\" transform=\"translate(-8.206898,52.364352)\">\n",
       "      <ellipse style=\"fill:#ffffff;stroke:#000000;stroke-width:0.5;stroke-linejoin:bevel;stroke-miterlimit:4;stroke-dasharray:none;stroke-dashoffset:0\" id=\"path1499\" cx=\"68.891159\" cy=\"69.23098\" rx=\"2.5376184\" ry=\"3.6255431\"/>\n",
       "      <path style=\"fill:none;stroke:#000000;stroke-width:0.5;stroke-linecap:butt;stroke-linejoin:miter;stroke-miterlimit:4;stroke-dasharray:none;stroke-opacity:1\" d=\"m 66.353541,69.23098 h 5.075235\" id=\"path1501\"/>\n",
       "    </g>\n",
       "    <g id=\"g1511\" style=\"stroke-width:0.5;stroke-miterlimit:4;stroke-dasharray:none\" transform=\"translate(130.65558,45.023542)\">\n",
       "      <ellipse style=\"fill:#ffffff;stroke:#000000;stroke-width:0.5;stroke-linejoin:bevel;stroke-miterlimit:4;stroke-dasharray:none;stroke-dashoffset:0\" id=\"ellipse1507\" cx=\"68.891159\" cy=\"69.23098\" rx=\"2.5376184\" ry=\"3.6255431\"/>\n",
       "      <path style=\"fill:none;stroke:#000000;stroke-width:0.5;stroke-linecap:butt;stroke-linejoin:miter;stroke-miterlimit:4;stroke-dasharray:none;stroke-opacity:1\" d=\"m 66.353541,69.23098 h 5.075235\" id=\"path1509\"/>\n",
       "    </g>\n",
       "    <g id=\"g1517\" style=\"stroke-width:0.5;stroke-miterlimit:4;stroke-dasharray:none\" transform=\"translate(31.43961,26.845584)\">\n",
       "      <ellipse style=\"fill:#ffffff;stroke:#000000;stroke-width:0.5;stroke-linejoin:bevel;stroke-miterlimit:4;stroke-dasharray:none;stroke-dashoffset:0\" id=\"ellipse1513\" cx=\"68.891159\" cy=\"69.23098\" rx=\"2.5376184\" ry=\"3.6255431\"/>\n",
       "      <path style=\"fill:none;stroke:#000000;stroke-width:0.5;stroke-linecap:butt;stroke-linejoin:miter;stroke-miterlimit:4;stroke-dasharray:none;stroke-opacity:1\" d=\"m 66.353541,69.23098 h 5.075235\" id=\"path1515\"/>\n",
       "    </g>\n",
       "    <text xml:space=\"preserve\" style=\"font-size:5.40149px;line-height:1.25;font-family:sans-serif;-inkscape-font-specification:sans-serif;stroke-width:0.264583\" x=\"63.598255\" y=\"127.6256\" id=\"text1521\"><tspan sodipodi:role=\"line\" id=\"tspan1519\" x=\"63.598255\" y=\"127.6256\" style=\"stroke-width:0.264583\">2</tspan></text>\n",
       "    <text xml:space=\"preserve\" style=\"font-size:5.40149px;line-height:1.25;font-family:sans-serif;-inkscape-font-specification:sans-serif;stroke-width:0.264583\" x=\"104.03602\" y=\"100.36676\" id=\"text1525\"><tspan sodipodi:role=\"line\" id=\"tspan1523\" x=\"104.03602\" y=\"100.36676\" style=\"stroke-width:0.264583\">3</tspan></text>\n",
       "    <text xml:space=\"preserve\" style=\"font-size:5.40149px;line-height:1.25;font-family:sans-serif;-inkscape-font-specification:sans-serif;stroke-width:0.264583\" x=\"202.49963\" y=\"120.12696\" id=\"text1529\"><tspan sodipodi:role=\"line\" id=\"tspan1527\" x=\"202.49963\" y=\"120.12696\" style=\"stroke-width:0.264583\">4</tspan></text>\n",
       "    <text xml:space=\"preserve\" style=\"font-size:7.7611px;line-height:1.25;font-family:sans-serif;-inkscape-font-specification:sans-serif;stroke-width:0.264583\" x=\"42.530609\" y=\"115.60754\" id=\"text1533\"><tspan sodipodi:role=\"line\" id=\"tspan1531\" x=\"42.530609\" y=\"115.60754\" style=\"stroke-width:0.264583\">2</tspan></text>\n",
       "    <text xml:space=\"preserve\" style=\"font-size:7.7611px;line-height:1.25;font-family:sans-serif;-inkscape-font-specification:sans-serif;stroke-width:0.264583\" x=\"99.787262\" y=\"86.235306\" id=\"text1537\"><tspan sodipodi:role=\"line\" id=\"tspan1535\" x=\"99.787262\" y=\"86.235306\" style=\"stroke-width:0.264583\">3</tspan></text>\n",
       "    <path style=\"fill:none;stroke:#000000;stroke-width:0.665;stroke-linecap:butt;stroke-linejoin:miter;stroke-miterlimit:4;stroke-dasharray:2.66, 5.32;stroke-dashoffset:0;stroke-opacity:1\" d=\"m 54.782267,101.64828 78.091283,72.28783 48.25452,-38.7602\" id=\"path1709\"/>\n",
       "    <ellipse style=\"fill:#ffffff;stroke:#000000;stroke-width:0.7;stroke-linejoin:bevel\" id=\"ellipse979\" cx=\"54.782269\" cy=\"101.64828\" rx=\"2.6233726\" ry=\"2.6179454\"/>\n",
       "    <text xml:space=\"preserve\" style=\"font-size:7.7611px;line-height:1.25;font-family:sans-serif;-inkscape-font-specification:sans-serif;stroke-width:0.264583\" x=\"167.8152\" y=\"101.70832\" id=\"text1541\"><tspan sodipodi:role=\"line\" id=\"tspan1539\" x=\"167.8152\" y=\"101.70832\" style=\"stroke-width:0.264583\">4</tspan></text>\n",
       "    <text xml:space=\"preserve\" style=\"font-size:7.7611px;line-height:1.25;font-family:sans-serif;-inkscape-font-specification:sans-serif;stroke-width:0.264583\" x=\"224.21123\" y=\"144.24466\" id=\"text1545\"><tspan sodipodi:role=\"line\" id=\"tspan1543\" x=\"224.21123\" y=\"144.24466\" style=\"stroke-width:0.264583\">X</tspan></text>\n",
       "    <text xml:space=\"preserve\" style=\"font-size:7.7611px;line-height:1.25;font-family:sans-serif;-inkscape-font-specification:sans-serif;stroke-width:0.264583\" x=\"33.694336\" y=\"55.697205\" id=\"text1549\"><tspan sodipodi:role=\"line\" id=\"tspan1547\" x=\"33.694336\" y=\"55.697205\" style=\"stroke-width:0.264583\">Y</tspan></text>\n",
       "    <circle style=\"fill:none;stroke:#aa87de;stroke-width:0.499999;stroke-linejoin:bevel;stroke-miterlimit:4;stroke-dasharray:4, 0.999997, 0.499999, 0.999997;stroke-dashoffset:0\" id=\"path1686\" cx=\"54.782204\" cy=\"101.64822\" r=\"106.25362\"/>\n",
       "    <ellipse style=\"fill:none;stroke:#aa87de;stroke-width:0.499998;stroke-linejoin:bevel;stroke-miterlimit:4;stroke-dasharray:4, 0.999998, 0.499998, 0.999998;stroke-dashoffset:0\" id=\"path1705\" cx=\"181.12811\" cy=\"135.17586\" rx=\"61.481194\" ry=\"61.481197\"/>\n",
       "    <ellipse style=\"fill:#ffffff;stroke:#000000;stroke-width:0.7;stroke-linejoin:bevel;stroke-miterlimit:4;stroke-dasharray:2.1, 0.7;stroke-dashoffset:0\" id=\"ellipse1707\" cx=\"132.87355\" cy=\"173.93611\" rx=\"2.6233726\" ry=\"2.6179454\"/>\n",
       "    <ellipse style=\"fill:#ffffff;stroke:#000000;stroke-width:0.7;stroke-linejoin:bevel\" id=\"ellipse1711\" cx=\"181.12807\" cy=\"135.1759\" rx=\"2.6233726\" ry=\"2.6179454\"/>\n",
       "    <text xml:space=\"preserve\" style=\"font-size:7.7611px;line-height:1.25;font-family:sans-serif;-inkscape-font-specification:sans-serif;stroke-width:0.264583\" x=\"130.00975\" y=\"168.60811\" id=\"text2515\"><tspan sodipodi:role=\"line\" id=\"tspan2513\" x=\"130.00975\" y=\"168.60811\" style=\"stroke-width:0.264583\">B'</tspan></text>\n",
       "  </g>\n",
       "</svg>"
      ],
      "text/plain": [
       "<IPython.core.display.SVG object>"
      ]
     },
     "execution_count": 26,
     "metadata": {},
     "output_type": "execute_result"
    }
   ],
   "source": [
    "SVG('figs4-5.svg')"
   ]
  },
  {
   "cell_type": "markdown",
   "metadata": {
    "slideshow": {
     "slide_type": "slide"
    }
   },
   "source": [
    "## 4.5 Análise Algébrica da Posição de Mecanismos"
   ]
  },
  {
   "cell_type": "markdown",
   "metadata": {
    "slideshow": {
     "slide_type": "subslide"
    }
   },
   "source": [
    "A mesma ideia pode ser utilizada para se fazer a análise algébrica do mecanismo de 4 barras."
   ]
  },
  {
   "cell_type": "code",
   "execution_count": 27,
   "metadata": {
    "slideshow": {
     "slide_type": "fragment"
    }
   },
   "outputs": [],
   "source": [
    "theta2,a,b,c,d = symbols('theta2 a b c d')"
   ]
  },
  {
   "cell_type": "code",
   "execution_count": 28,
   "metadata": {
    "slideshow": {
     "slide_type": "fragment"
    }
   },
   "outputs": [
    {
     "data": {
      "text/latex": [
       "$\\displaystyle a \\cos{\\left(\\theta_{2} \\right)}$"
      ],
      "text/plain": [
       "a*cos(theta2)"
      ]
     },
     "execution_count": 28,
     "metadata": {},
     "output_type": "execute_result"
    }
   ],
   "source": [
    "Ax = a*cos(theta2)\n",
    "Ax"
   ]
  },
  {
   "cell_type": "code",
   "execution_count": 29,
   "metadata": {
    "slideshow": {
     "slide_type": "fragment"
    }
   },
   "outputs": [
    {
     "data": {
      "text/latex": [
       "$\\displaystyle a \\sin{\\left(\\theta_{2} \\right)}$"
      ],
      "text/plain": [
       "a*sin(theta2)"
      ]
     },
     "execution_count": 29,
     "metadata": {},
     "output_type": "execute_result"
    }
   ],
   "source": [
    "Ay = a*sin(theta2)\n",
    "Ay"
   ]
  },
  {
   "cell_type": "markdown",
   "metadata": {
    "slideshow": {
     "slide_type": "fragment"
    }
   },
   "source": [
    "Escrevendo as duas equações dos círculos com centros em $A$ e $O_4$ e com os respectivos raios $b$ e $c$:"
   ]
  },
  {
   "cell_type": "code",
   "execution_count": 30,
   "metadata": {
    "slideshow": {
     "slide_type": "fragment"
    }
   },
   "outputs": [],
   "source": [
    "Bx,By = symbols('B_x B_y')"
   ]
  },
  {
   "cell_type": "code",
   "execution_count": 31,
   "metadata": {
    "slideshow": {
     "slide_type": "fragment"
    }
   },
   "outputs": [
    {
     "data": {
      "text/latex": [
       "$\\displaystyle b^{2} = \\left(B_{x} - a \\cos{\\left(\\theta_{2} \\right)}\\right)^{2} + \\left(B_{y} - a \\sin{\\left(\\theta_{2} \\right)}\\right)^{2}$"
      ],
      "text/plain": [
       "Eq(b**2, (B_x - a*cos(theta2))**2 + (B_y - a*sin(theta2))**2)"
      ]
     },
     "execution_count": 31,
     "metadata": {},
     "output_type": "execute_result"
    }
   ],
   "source": [
    "b2 = (Bx - Ax)**2 + (By - Ay)**2\n",
    "Eq1 = Eq(b**2,b2)\n",
    "Eq1"
   ]
  },
  {
   "cell_type": "code",
   "execution_count": 32,
   "metadata": {
    "slideshow": {
     "slide_type": "fragment"
    }
   },
   "outputs": [
    {
     "data": {
      "text/latex": [
       "$\\displaystyle - b^{2} + \\left(B_{x} - a \\cos{\\left(\\theta_{2} \\right)}\\right)^{2} + \\left(B_{y} - a \\sin{\\left(\\theta_{2} \\right)}\\right)^{2}$"
      ],
      "text/plain": [
       "-b**2 + (B_x - a*cos(theta2))**2 + (B_y - a*sin(theta2))**2"
      ]
     },
     "execution_count": 32,
     "metadata": {},
     "output_type": "execute_result"
    }
   ],
   "source": [
    "Eq1 = b2 - b**2\n",
    "Eq1"
   ]
  },
  {
   "cell_type": "code",
   "execution_count": 33,
   "metadata": {
    "slideshow": {
     "slide_type": "fragment"
    }
   },
   "outputs": [
    {
     "data": {
      "text/latex": [
       "$\\displaystyle c^{2} = B_{y}^{2} + \\left(B_{x} - d\\right)^{2}$"
      ],
      "text/plain": [
       "Eq(c**2, B_y**2 + (B_x - d)**2)"
      ]
     },
     "execution_count": 33,
     "metadata": {},
     "output_type": "execute_result"
    }
   ],
   "source": [
    "c2 = (Bx - d)**2 + By**2\n",
    "Eq2 = Eq(c**2,c2)\n",
    "Eq2"
   ]
  },
  {
   "cell_type": "code",
   "execution_count": 34,
   "metadata": {
    "slideshow": {
     "slide_type": "fragment"
    }
   },
   "outputs": [
    {
     "data": {
      "text/latex": [
       "$\\displaystyle B_{y}^{2} - c^{2} + \\left(B_{x} - d\\right)^{2}$"
      ],
      "text/plain": [
       "B_y**2 - c**2 + (B_x - d)**2"
      ]
     },
     "execution_count": 34,
     "metadata": {},
     "output_type": "execute_result"
    }
   ],
   "source": [
    "Eq2 = c2 - c**2\n",
    "Eq2"
   ]
  },
  {
   "cell_type": "code",
   "execution_count": 35,
   "metadata": {
    "slideshow": {
     "slide_type": "fragment"
    }
   },
   "outputs": [
    {
     "data": {
      "text/latex": [
       "$\\displaystyle - B_{y}^{2} - b^{2} + c^{2} - \\left(B_{x} - d\\right)^{2} + \\left(B_{x} - a \\cos{\\left(\\theta_{2} \\right)}\\right)^{2} + \\left(B_{y} - a \\sin{\\left(\\theta_{2} \\right)}\\right)^{2}$"
      ],
      "text/plain": [
       "-B_y**2 - b**2 + c**2 - (B_x - d)**2 + (B_x - a*cos(theta2))**2 + (B_y - a*sin(theta2))**2"
      ]
     },
     "execution_count": 35,
     "metadata": {},
     "output_type": "execute_result"
    }
   ],
   "source": [
    "Eq3 = Eq1 - Eq2\n",
    "Eq3"
   ]
  },
  {
   "cell_type": "code",
   "execution_count": 36,
   "metadata": {
    "slideshow": {
     "slide_type": "fragment"
    }
   },
   "outputs": [
    {
     "data": {
      "text/latex": [
       "$\\displaystyle - 2 B_{x} a \\cos{\\left(\\theta_{2} \\right)} + 2 B_{x} d - 2 B_{y} a \\sin{\\left(\\theta_{2} \\right)} + a^{2} \\sin^{2}{\\left(\\theta_{2} \\right)} + a^{2} \\cos^{2}{\\left(\\theta_{2} \\right)} - b^{2} + c^{2} - d^{2}$"
      ],
      "text/plain": [
       "-2*B_x*a*cos(theta2) + 2*B_x*d - 2*B_y*a*sin(theta2) + a**2*sin(theta2)**2 + a**2*cos(theta2)**2 - b**2 + c**2 - d**2"
      ]
     },
     "execution_count": 36,
     "metadata": {},
     "output_type": "execute_result"
    }
   ],
   "source": [
    "expand(Eq3)"
   ]
  },
  {
   "cell_type": "code",
   "execution_count": 37,
   "metadata": {
    "slideshow": {
     "slide_type": "fragment"
    }
   },
   "outputs": [
    {
     "data": {
      "text/latex": [
       "$\\displaystyle \\frac{- 2 B_{y} a \\sin{\\left(\\theta_{2} \\right)} + a^{2} - b^{2} + c^{2} - d^{2}}{2 \\left(a \\cos{\\left(\\theta_{2} \\right)} - d\\right)}$"
      ],
      "text/plain": [
       "(-2*B_y*a*sin(theta2) + a**2 - b**2 + c**2 - d**2)/(2*(a*cos(theta2) - d))"
      ]
     },
     "execution_count": 37,
     "metadata": {},
     "output_type": "execute_result"
    }
   ],
   "source": [
    "solBx = solve(Eq3,Bx)[0]\n",
    "solBx"
   ]
  },
  {
   "cell_type": "code",
   "execution_count": 38,
   "metadata": {
    "slideshow": {
     "slide_type": "fragment"
    }
   },
   "outputs": [
    {
     "data": {
      "text/latex": [
       "$\\displaystyle B_{y}^{2} - c^{2} + \\left(- d + \\frac{- 2 B_{y} a \\sin{\\left(\\theta_{2} \\right)} + a^{2} - b^{2} + c^{2} - d^{2}}{2 \\left(a \\cos{\\left(\\theta_{2} \\right)} - d\\right)}\\right)^{2}$"
      ],
      "text/plain": [
       "B_y**2 - c**2 + (-d + (-2*B_y*a*sin(theta2) + a**2 - b**2 + c**2 - d**2)/(2*(a*cos(theta2) - d)))**2"
      ]
     },
     "execution_count": 38,
     "metadata": {},
     "output_type": "execute_result"
    }
   ],
   "source": [
    "Eq4 = Eq2.subs(Bx,solBx)\n",
    "Eq4"
   ]
  },
  {
   "cell_type": "code",
   "execution_count": 39,
   "metadata": {
    "scrolled": false,
    "slideshow": {
     "slide_type": "fragment"
    }
   },
   "outputs": [
    {
     "data": {
      "text/plain": [
       "[(a*(a**2 - 2*a*d*cos(theta2) - b**2 + c**2 + d**2)*sin(theta2) + (-a*cos(theta2) + d)*sqrt(-a**4 + 4*a**3*d*cos(theta2) + 2*a**2*b**2 + 2*a**2*c**2 + 4*a**2*d**2*sin(theta2)**2 - 6*a**2*d**2 - 4*a*b**2*d*cos(theta2) - 4*a*c**2*d*cos(theta2) + 4*a*d**3*cos(theta2) - b**4 + 2*b**2*c**2 + 2*b**2*d**2 - c**4 + 2*c**2*d**2 - d**4))/(2*(a**2 - 2*a*d*cos(theta2) + d**2)),\n",
       " (a*(a**2 - 2*a*d*cos(theta2) - b**2 + c**2 + d**2)*sin(theta2) + (a*cos(theta2) - d)*sqrt(-a**4 + 4*a**3*d*cos(theta2) + 2*a**2*b**2 + 2*a**2*c**2 + 4*a**2*d**2*sin(theta2)**2 - 6*a**2*d**2 - 4*a*b**2*d*cos(theta2) - 4*a*c**2*d*cos(theta2) + 4*a*d**3*cos(theta2) - b**4 + 2*b**2*c**2 + 2*b**2*d**2 - c**4 + 2*c**2*d**2 - d**4))/(2*(a**2 - 2*a*d*cos(theta2) + d**2))]"
      ]
     },
     "execution_count": 39,
     "metadata": {},
     "output_type": "execute_result"
    }
   ],
   "source": [
    "solBy = solve(Eq4,By)\n",
    "solBy"
   ]
  },
  {
   "cell_type": "code",
   "execution_count": 40,
   "metadata": {
    "slideshow": {
     "slide_type": "fragment"
    }
   },
   "outputs": [
    {
     "data": {
      "text/plain": [
       "2"
      ]
     },
     "execution_count": 40,
     "metadata": {},
     "output_type": "execute_result"
    }
   ],
   "source": [
    "len(solBy)"
   ]
  },
  {
   "cell_type": "code",
   "execution_count": 41,
   "metadata": {
    "slideshow": {
     "slide_type": "fragment"
    }
   },
   "outputs": [
    {
     "data": {
      "text/latex": [
       "$\\displaystyle \\frac{a \\left(a^{2} - 2 a d \\cos{\\left(\\theta_{2} \\right)} - b^{2} + c^{2} + d^{2}\\right) \\sin{\\left(\\theta_{2} \\right)} + \\left(- a \\cos{\\left(\\theta_{2} \\right)} + d\\right) \\sqrt{- a^{4} + 4 a^{3} d \\cos{\\left(\\theta_{2} \\right)} + 2 a^{2} b^{2} + 2 a^{2} c^{2} + 4 a^{2} d^{2} \\sin^{2}{\\left(\\theta_{2} \\right)} - 6 a^{2} d^{2} - 4 a b^{2} d \\cos{\\left(\\theta_{2} \\right)} - 4 a c^{2} d \\cos{\\left(\\theta_{2} \\right)} + 4 a d^{3} \\cos{\\left(\\theta_{2} \\right)} - b^{4} + 2 b^{2} c^{2} + 2 b^{2} d^{2} - c^{4} + 2 c^{2} d^{2} - d^{4}}}{2 \\left(a^{2} - 2 a d \\cos{\\left(\\theta_{2} \\right)} + d^{2}\\right)}$"
      ],
      "text/plain": [
       "(a*(a**2 - 2*a*d*cos(theta2) - b**2 + c**2 + d**2)*sin(theta2) + (-a*cos(theta2) + d)*sqrt(-a**4 + 4*a**3*d*cos(theta2) + 2*a**2*b**2 + 2*a**2*c**2 + 4*a**2*d**2*sin(theta2)**2 - 6*a**2*d**2 - 4*a*b**2*d*cos(theta2) - 4*a*c**2*d*cos(theta2) + 4*a*d**3*cos(theta2) - b**4 + 2*b**2*c**2 + 2*b**2*d**2 - c**4 + 2*c**2*d**2 - d**4))/(2*(a**2 - 2*a*d*cos(theta2) + d**2))"
      ]
     },
     "execution_count": 41,
     "metadata": {},
     "output_type": "execute_result"
    }
   ],
   "source": [
    "By1 = solBy[0]\n",
    "By1"
   ]
  },
  {
   "cell_type": "code",
   "execution_count": 42,
   "metadata": {
    "scrolled": false,
    "slideshow": {
     "slide_type": "fragment"
    }
   },
   "outputs": [
    {
     "data": {
      "text/latex": [
       "$\\displaystyle \\frac{a \\left(a^{2} - 2 a d \\cos{\\left(\\theta_{2} \\right)} - b^{2} + c^{2} + d^{2}\\right) \\sin{\\left(\\theta_{2} \\right)} + \\left(a \\cos{\\left(\\theta_{2} \\right)} - d\\right) \\sqrt{- a^{4} + 4 a^{3} d \\cos{\\left(\\theta_{2} \\right)} + 2 a^{2} b^{2} + 2 a^{2} c^{2} + 4 a^{2} d^{2} \\sin^{2}{\\left(\\theta_{2} \\right)} - 6 a^{2} d^{2} - 4 a b^{2} d \\cos{\\left(\\theta_{2} \\right)} - 4 a c^{2} d \\cos{\\left(\\theta_{2} \\right)} + 4 a d^{3} \\cos{\\left(\\theta_{2} \\right)} - b^{4} + 2 b^{2} c^{2} + 2 b^{2} d^{2} - c^{4} + 2 c^{2} d^{2} - d^{4}}}{2 \\left(a^{2} - 2 a d \\cos{\\left(\\theta_{2} \\right)} + d^{2}\\right)}$"
      ],
      "text/plain": [
       "(a*(a**2 - 2*a*d*cos(theta2) - b**2 + c**2 + d**2)*sin(theta2) + (a*cos(theta2) - d)*sqrt(-a**4 + 4*a**3*d*cos(theta2) + 2*a**2*b**2 + 2*a**2*c**2 + 4*a**2*d**2*sin(theta2)**2 - 6*a**2*d**2 - 4*a*b**2*d*cos(theta2) - 4*a*c**2*d*cos(theta2) + 4*a*d**3*cos(theta2) - b**4 + 2*b**2*c**2 + 2*b**2*d**2 - c**4 + 2*c**2*d**2 - d**4))/(2*(a**2 - 2*a*d*cos(theta2) + d**2))"
      ]
     },
     "execution_count": 42,
     "metadata": {},
     "output_type": "execute_result"
    }
   ],
   "source": [
    "By2 = solBy[1]\n",
    "By2"
   ]
  },
  {
   "cell_type": "code",
   "execution_count": 43,
   "metadata": {
    "slideshow": {
     "slide_type": "fragment"
    }
   },
   "outputs": [
    {
     "data": {
      "text/latex": [
       "$\\displaystyle \\frac{a^{2} - \\frac{a \\left(a \\left(a^{2} - 2 a d \\cos{\\left(\\theta_{2} \\right)} - b^{2} + c^{2} + d^{2}\\right) \\sin{\\left(\\theta_{2} \\right)} + \\left(- a \\cos{\\left(\\theta_{2} \\right)} + d\\right) \\sqrt{- a^{4} + 4 a^{3} d \\cos{\\left(\\theta_{2} \\right)} + 2 a^{2} b^{2} + 2 a^{2} c^{2} + 4 a^{2} d^{2} \\sin^{2}{\\left(\\theta_{2} \\right)} - 6 a^{2} d^{2} - 4 a b^{2} d \\cos{\\left(\\theta_{2} \\right)} - 4 a c^{2} d \\cos{\\left(\\theta_{2} \\right)} + 4 a d^{3} \\cos{\\left(\\theta_{2} \\right)} - b^{4} + 2 b^{2} c^{2} + 2 b^{2} d^{2} - c^{4} + 2 c^{2} d^{2} - d^{4}}\\right) \\sin{\\left(\\theta_{2} \\right)}}{a^{2} - 2 a d \\cos{\\left(\\theta_{2} \\right)} + d^{2}} - b^{2} + c^{2} - d^{2}}{2 \\left(a \\cos{\\left(\\theta_{2} \\right)} - d\\right)}$"
      ],
      "text/plain": [
       "(a**2 - a*(a*(a**2 - 2*a*d*cos(theta2) - b**2 + c**2 + d**2)*sin(theta2) + (-a*cos(theta2) + d)*sqrt(-a**4 + 4*a**3*d*cos(theta2) + 2*a**2*b**2 + 2*a**2*c**2 + 4*a**2*d**2*sin(theta2)**2 - 6*a**2*d**2 - 4*a*b**2*d*cos(theta2) - 4*a*c**2*d*cos(theta2) + 4*a*d**3*cos(theta2) - b**4 + 2*b**2*c**2 + 2*b**2*d**2 - c**4 + 2*c**2*d**2 - d**4))*sin(theta2)/(a**2 - 2*a*d*cos(theta2) + d**2) - b**2 + c**2 - d**2)/(2*(a*cos(theta2) - d))"
      ]
     },
     "execution_count": 43,
     "metadata": {},
     "output_type": "execute_result"
    }
   ],
   "source": [
    "Bx1 = solBx.subs(By,By1)\n",
    "Bx1"
   ]
  },
  {
   "cell_type": "code",
   "execution_count": 44,
   "metadata": {
    "slideshow": {
     "slide_type": "fragment"
    }
   },
   "outputs": [
    {
     "data": {
      "text/latex": [
       "$\\displaystyle \\frac{a^{2} - \\frac{a \\left(a \\left(a^{2} - 2 a d \\cos{\\left(\\theta_{2} \\right)} - b^{2} + c^{2} + d^{2}\\right) \\sin{\\left(\\theta_{2} \\right)} + \\left(a \\cos{\\left(\\theta_{2} \\right)} - d\\right) \\sqrt{- a^{4} + 4 a^{3} d \\cos{\\left(\\theta_{2} \\right)} + 2 a^{2} b^{2} + 2 a^{2} c^{2} + 4 a^{2} d^{2} \\sin^{2}{\\left(\\theta_{2} \\right)} - 6 a^{2} d^{2} - 4 a b^{2} d \\cos{\\left(\\theta_{2} \\right)} - 4 a c^{2} d \\cos{\\left(\\theta_{2} \\right)} + 4 a d^{3} \\cos{\\left(\\theta_{2} \\right)} - b^{4} + 2 b^{2} c^{2} + 2 b^{2} d^{2} - c^{4} + 2 c^{2} d^{2} - d^{4}}\\right) \\sin{\\left(\\theta_{2} \\right)}}{a^{2} - 2 a d \\cos{\\left(\\theta_{2} \\right)} + d^{2}} - b^{2} + c^{2} - d^{2}}{2 \\left(a \\cos{\\left(\\theta_{2} \\right)} - d\\right)}$"
      ],
      "text/plain": [
       "(a**2 - a*(a*(a**2 - 2*a*d*cos(theta2) - b**2 + c**2 + d**2)*sin(theta2) + (a*cos(theta2) - d)*sqrt(-a**4 + 4*a**3*d*cos(theta2) + 2*a**2*b**2 + 2*a**2*c**2 + 4*a**2*d**2*sin(theta2)**2 - 6*a**2*d**2 - 4*a*b**2*d*cos(theta2) - 4*a*c**2*d*cos(theta2) + 4*a*d**3*cos(theta2) - b**4 + 2*b**2*c**2 + 2*b**2*d**2 - c**4 + 2*c**2*d**2 - d**4))*sin(theta2)/(a**2 - 2*a*d*cos(theta2) + d**2) - b**2 + c**2 - d**2)/(2*(a*cos(theta2) - d))"
      ]
     },
     "execution_count": 44,
     "metadata": {},
     "output_type": "execute_result"
    }
   ],
   "source": [
    "Bx2 = solBx.subs(By,By2)\n",
    "Bx2"
   ]
  },
  {
   "cell_type": "code",
   "execution_count": 45,
   "metadata": {
    "slideshow": {
     "slide_type": "fragment"
    }
   },
   "outputs": [],
   "source": [
    "dic1 = {a:10,b:15,c:15,d:10,theta2:pi/6}"
   ]
  },
  {
   "cell_type": "code",
   "execution_count": 46,
   "metadata": {
    "slideshow": {
     "slide_type": "fragment"
    }
   },
   "outputs": [
    {
     "data": {
      "text/latex": [
       "$\\displaystyle \\frac{\\pi}{6}$"
      ],
      "text/plain": [
       "pi/6"
      ]
     },
     "execution_count": 46,
     "metadata": {},
     "output_type": "execute_result"
    }
   ],
   "source": [
    "dic1[theta2]"
   ]
  },
  {
   "cell_type": "code",
   "execution_count": 47,
   "metadata": {
    "slideshow": {
     "slide_type": "fragment"
    }
   },
   "outputs": [
    {
     "data": {
      "text/latex": [
       "$\\displaystyle 23.601702192173$"
      ],
      "text/plain": [
       "23.6017021921730"
      ]
     },
     "execution_count": 47,
     "metadata": {},
     "output_type": "execute_result"
    }
   ],
   "source": [
    "Bx1num = Bx1.subs(dic1).evalf()\n",
    "Bx1num"
   ]
  },
  {
   "cell_type": "code",
   "execution_count": 48,
   "metadata": {
    "slideshow": {
     "slide_type": "fragment"
    }
   },
   "outputs": [
    {
     "data": {
      "text/plain": [
       "[0, 8.66025403784439, 23.6017021921730, 10.0000000000000]"
      ]
     },
     "execution_count": 48,
     "metadata": {},
     "output_type": "execute_result"
    }
   ],
   "source": [
    "X1 = [0,Ax.subs(dic1).evalf(),Bx1.subs(dic1).evalf(),d.subs(dic1).evalf()]\n",
    "X1"
   ]
  },
  {
   "cell_type": "code",
   "execution_count": 49,
   "metadata": {
    "slideshow": {
     "slide_type": "fragment"
    }
   },
   "outputs": [
    {
     "data": {
      "text/plain": [
       "[0, 5.00000000000000, 6.32405704239262, 0]"
      ]
     },
     "execution_count": 49,
     "metadata": {},
     "output_type": "execute_result"
    }
   ],
   "source": [
    "Y1 = [0,Ay.subs(dic1).evalf(),By1.subs(dic1).evalf(),0]\n",
    "Y1"
   ]
  },
  {
   "cell_type": "code",
   "execution_count": 50,
   "metadata": {
    "slideshow": {
     "slide_type": "fragment"
    }
   },
   "outputs": [],
   "source": [
    "import matplotlib.pyplot as plt"
   ]
  },
  {
   "cell_type": "code",
   "execution_count": 51,
   "metadata": {
    "slideshow": {
     "slide_type": "fragment"
    }
   },
   "outputs": [
    {
     "data": {
      "image/png": "[encoded data removed]",
      "text/plain": [
       "<Figure size 432x288 with 1 Axes>"
      ]
     },
     "metadata": {
      "needs_background": "light"
     },
     "output_type": "display_data"
    }
   ],
   "source": [
    "plt.figure()\n",
    "plt.plot(X1,Y1,'-o')\n",
    "plt.grid(True)"
   ]
  },
  {
   "cell_type": "code",
   "execution_count": 52,
   "metadata": {
    "scrolled": true,
    "slideshow": {
     "slide_type": "fragment"
    }
   },
   "outputs": [
    {
     "data": {
      "text/plain": [
       "5"
      ]
     },
     "execution_count": 52,
     "metadata": {},
     "output_type": "execute_result"
    }
   ],
   "source": [
    "lista=[1,2,4,5]\n",
    "max(lista)"
   ]
  },
  {
   "cell_type": "code",
   "execution_count": 53,
   "metadata": {},
   "outputs": [
    {
     "data": {
      "text/plain": [
       "1"
      ]
     },
     "execution_count": 53,
     "metadata": {},
     "output_type": "execute_result"
    }
   ],
   "source": [
    "min(lista)"
   ]
  },
  {
   "cell_type": "code",
   "execution_count": 54,
   "metadata": {},
   "outputs": [
    {
     "data": {
      "text/plain": [
       "12"
      ]
     },
     "execution_count": 54,
     "metadata": {},
     "output_type": "execute_result"
    }
   ],
   "source": [
    "sum(lista)"
   ]
  },
  {
   "cell_type": "code",
   "execution_count": 55,
   "metadata": {
    "slideshow": {
     "slide_type": "fragment"
    }
   },
   "outputs": [],
   "source": [
    "def plot4barras(an,bn,cn,dn,thetan):\n",
    "    dicn = {a:an,b:bn,c:cn,d:dn,theta2:thetan}\n",
    "    elos = [an,bn,cn,dn]\n",
    "    elo_maior = max(elos)\n",
    "    elo_menor = min(elos)\n",
    "    soma_elos = sum(elos)\n",
    "    Xn = [0,Ax.subs(dicn).evalf(),Bx1.subs(dicn).evalf(),d.subs(dicn).evalf()]\n",
    "    Yn = [0,Ay.subs(dicn).evalf(),By1.subs(dicn).evalf(),0]\n",
    "    plt.figure(dpi=150)\n",
    "    plt.plot(Xn,Yn,'-o')\n",
    "    plt.xlim([-20,30])\n",
    "    plt.ylim([-20,30])\n",
    "    plt.grid(True)\n",
    "    plt.gca().set_aspect('equal', adjustable='box')\n",
    "\n",
    "    if (elo_maior+elo_menor)<=(sum(elos)-(elo_maior+elo_menor)):\n",
    "        print('Grashof')\n",
    "    else:\n",
    "        print('Não-Grashof')"
   ]
  },
  {
   "cell_type": "code",
   "execution_count": 56,
   "metadata": {
    "scrolled": true,
    "slideshow": {
     "slide_type": "fragment"
    }
   },
   "outputs": [
    {
     "name": "stdout",
     "output_type": "stream",
     "text": [
      "Grashof\n"
     ]
    },
    {
     "data": {
      "image/png": "[encoded data removed]",
      "text/plain": [
       "<Figure size 900x600 with 1 Axes>"
      ]
     },
     "metadata": {
      "needs_background": "light"
     },
     "output_type": "display_data"
    }
   ],
   "source": [
    "plot4barras(10,10,12,12,pi/4)"
   ]
  },
  {
   "cell_type": "code",
   "execution_count": 57,
   "metadata": {
    "slideshow": {
     "slide_type": "fragment"
    }
   },
   "outputs": [],
   "source": [
    "from ipywidgets import interact"
   ]
  },
  {
   "cell_type": "code",
   "execution_count": 58,
   "metadata": {
    "scrolled": false,
    "slideshow": {
     "slide_type": "fragment"
    }
   },
   "outputs": [
    {
     "data": {
      "application/vnd.jupyter.widget-view+json": {
       "model_id": "0440b07bd42e4d28a93b94351ec748a5",
       "version_major": 2,
       "version_minor": 0
      },
      "text/plain": [
       "interactive(children=(IntSlider(value=10, description='an', max=20, min=1), IntSlider(value=10, description='b…"
      ]
     },
     "metadata": {},
     "output_type": "display_data"
    },
    {
     "data": {
      "text/plain": [
       "<function __main__.plot4barras(an, bn, cn, dn, thetan)>"
      ]
     },
     "execution_count": 58,
     "metadata": {},
     "output_type": "execute_result"
    }
   ],
   "source": [
    "interact(plot4barras,an=(1,20),bn=(1,20),cn=(1,20),dn=(1,20),thetan=(0,4*pi.evalf()))"
   ]
  },
  {
   "cell_type": "code",
   "execution_count": 59,
   "metadata": {
    "slideshow": {
     "slide_type": "fragment"
    }
   },
   "outputs": [],
   "source": [
    "from matplotlib import animation\n",
    "from IPython.display import HTML"
   ]
  },
  {
   "cell_type": "code",
   "execution_count": 60,
   "metadata": {
    "slideshow": {
     "slide_type": "fragment"
    }
   },
   "outputs": [
    {
     "data": {
      "image/png": "[encoded data removed]",
      "text/plain": [
       "<Figure size 432x288 with 1 Axes>"
      ]
     },
     "metadata": {
      "needs_background": "light"
     },
     "output_type": "display_data"
    }
   ],
   "source": [
    "\n",
    "fig, ax = plt.subplots()\n",
    "\n",
    "ax.set_xlim(( -20, 20))\n",
    "ax.set_ylim((-20, 20))\n",
    "ax.grid(True)\n",
    "plt.gca().set_aspect('equal', adjustable='box')\n",
    "line, = ax.plot([], [], 'o-')"
   ]
  },
  {
   "cell_type": "code",
   "execution_count": 61,
   "metadata": {
    "slideshow": {
     "slide_type": "fragment"
    }
   },
   "outputs": [],
   "source": [
    "import numpy as np\n",
    "th = np.linspace(0,4*np.pi,720)"
   ]
  },
  {
   "cell_type": "code",
   "execution_count": 62,
   "metadata": {
    "slideshow": {
     "slide_type": "fragment"
    }
   },
   "outputs": [],
   "source": [
    "def animate(i):\n",
    "    dic2 = {a:9,b:12,c:15,d:13,theta2:th[i]}\n",
    "    X1 = [0,Ax.subs(dic2).evalf(),Bx1.subs(dic2).evalf(),d.subs(dic2).evalf()]\n",
    "    Y1 = [0,Ay.subs(dic2).evalf(),By1.subs(dic2).evalf(),0]\n",
    "    line.set_data(X1,Y1)\n",
    "    return (line,)"
   ]
  },
  {
   "cell_type": "code",
   "execution_count": 63,
   "metadata": {
    "slideshow": {
     "slide_type": "fragment"
    }
   },
   "outputs": [],
   "source": [
    "def init():\n",
    "    line.set_data([],[])\n",
    "    return (line,)"
   ]
  },
  {
   "cell_type": "code",
   "execution_count": 64,
   "metadata": {
    "slideshow": {
     "slide_type": "fragment"
    }
   },
   "outputs": [],
   "source": [
    "anim = animation.FuncAnimation(fig, animate, init_func=init,frames=720, interval=20, blit=True)"
   ]
  },
  {
   "cell_type": "code",
   "execution_count": 65,
   "metadata": {
    "scrolled": false,
    "slideshow": {
     "slide_type": "fragment"
    }
   },
   "outputs": [
    {
     "data": {
      "text/html": [
       "<video width=\"432\" height=\"288\" controls autoplay loop>\n",
       "  <source type=\"video/mp4\" src=\"data:video/mp4;base64,AAAAHGZ0eXBNNFYgAAACAGlzb21pc28yYXZjMQAAAAhmcmVlAAGTLW1kYXQAAAKuBgX//6rcRem9\n",
       "5tlIt5Ys2CDZI+7veDI2NCAtIGNvcmUgMTU1IHIyOTE3IDBhODRkOTggLSBILjI2NC9NUEVHLTQg\n",
       "QVZDIGNvZGVjIC0gQ29weWxlZnQgMjAwMy0yMDE4IC0gaHR0cDovL3d3dy52aWRlb2xhbi5vcmcv\n",
       "eDI2NC5odG1sIC0gb3B0aW9uczogY2FiYWM9MSByZWY9MyBkZWJsb2NrPTE6MDowIGFuYWx5c2U9\n",
       "MHgzOjB4MTEzIG1lPWhleCBzdWJtZT03IHBzeT0xIHBzeV9yZD0xLjAwOjAuMDAgbWl4ZWRfcmVm\n",
       "PTEgbWVfcmFuZ2U9MTYgY2hyb21hX21lPTEgdHJlbGxpcz0xIDh4OGRjdD0xIGNxbT0wIGRlYWR6\n",
       "b25lPTIxLDExIGZhc3RfcHNraXA9MSBjaHJvbWFfcXBfb2Zmc2V0PS0yIHRocmVhZHM9NiBsb29r\n",
       "YWhlYWRfdGhyZWFkcz0xIHNsaWNlZF90aHJlYWRzPTAgbnI9MCBkZWNpbWF0ZT0xIGludGVybGFj\n",
       "ZWQ9MCBibHVyYXlfY29tcGF0PTAgY29uc3RyYWluZWRfaW50cmE9MCBiZnJhbWVzPTMgYl9weXJh\n",
       "bWlkPTIgYl9hZGFwdD0xIGJfYmlhcz0wIGRpcmVjdD0xIHdlaWdodGI9MSBvcGVuX2dvcD0wIHdl\n",
       "aWdodHA9MiBrZXlpbnQ9MjUwIGtleWludF9taW49MjUgc2NlbmVjdXQ9NDAgaW50cmFfcmVmcmVz\n",
       "aD0wIHJjX2xvb2thaGVhZD00MCByYz1jcmYgbWJ0cmVlPTEgY3JmPTIzLjAgcWNvbXA9MC42MCBx\n",
       "cG1pbj0wIHFwbWF4PTY5IHFwc3RlcD00IGlwX3JhdGlvPTEuNDAgYXE9MToxLjAwAIAAAAtUZYiE\n",
       "ACv//vZzfAprRzOVLgV292aj5dCS5fsQYPrQAAADAAGq07INDfwId+YKa1nODgF99Xwefb0fVhRe\n",
       "w7Jf209StTnCewpfVQG0wyQsCf01ZEmJ+Z38JN89Qj1F542GTGAAAQ9/GUZLkSB+dLtdJjt6sHAM\n",
       "iBpBIpKaDIa+B/UY2TIxSPoTQ16QfdZ7eaOE8+d0Ox17in7WVZmB7qMFV9mo127XJh6joedNlj//\n",
       "a7e5xwPmTdNUmJ087kXecgfjrFPKCHzVRYLnVddemmvqCP5/bDga7gg0ILLZH9moCPFyj+rfLw1x\n",
       "krarAGgL5Z4ORAxRS4adgGpvelFCCNICVDRX50poy8yQhsGAzc1CBL0ugKhfCvxmsa7yHxfs7set\n",
       "wvYxZ8NYfgzmEXfkM14xown4h3uTjwzOkaImfqLhOlBgwSuwWrPCznQl4EFfZ7F9JmkvXiQcISom\n",
       "/zDANMAHLdDVS7HAn0Sd/tHEmowfXrFGgJGRsP0RlhtTXxrqVbChzTl1Hs2Kuvr/cgAQmrLX+v3h\n",
       "jGPSwcMWgxoYH9mr/gHpE+blh7+aFg6Sjnrt3fH3Xo97d1273O2qjthkgX0511RWwDZwfTivG3YU\n",
       "L9VKoLYAqx+4S8XSMPIp3UrjZlFPU0heMpRpbUS9gRThDe2NQ1EJTx4runDYsPRJz2wKY+uMHTIE\n",
       "qGtbU1rJpIOb8x4Or/iE7goiX6Sv0GnNZ5NVcnjv1HAC2h52kDL1b2nUSCfNP3XQ5Qc8kMozdClO\n",
       "0wNQ8P2CGg08wP1KuWUj5e6/GCuhreESU461CbUbgzK//bHlHRfPtwgDiRcCoDUhqQpEqPTP3rzi\n",
       "CucLjyzmj4BXBWwa49/eyXq8OTU9ekQhAFt8CEynYKACPh7n2PUVVG6FCDZjzfcjdXff/2tMM9Oo\n",
       "7GTetssAFAGH4TDriWFIDk997SL7dUfWwvwKRh05TeOuURTPvuciD7qHsRume/qM24D+l7gleWuF\n",
       "gHCFOQ4DhIIM4XDOl25DR6NTjo0ExmwBieBBupjVToOKIgj3gliX6WZ3w4hgcg/pSZkt5XR8x9s1\n",
       "mDV33/WOJLW1M0dORAeRydSkCAs4GMo0PUzXaxKgAx9NaYPLgmgM3nTWGfzfEP8mGrleWedaL5x9\n",
       "OxKrNN883Qscoz0EZ/vejxbYMGwY2ixi4cHRFbf4OPePVxIXYF+YQ0ODCP8SRSt/p3WWxYagkmVV\n",
       "wp+WURRhQ0jM2hEsYn87U3GMjT6XNXe88A6kHubpf2a3+xHONO5KlXvnwcASY2Fy2ptsATWAnHXj\n",
       "E/84XQuquLyg9RniBF+eIt2oU4lm+EAVKYi7VKxtIkN5/kVoMMGOHB/C879iN8PEO6SQpUeZMJTQ\n",
       "S9zKYurgUotx4eKsSCIeOroXn/GB6XOBaOZr8I3Y3IuFneNvZ//qzypG2cAKtoX1FlGsTyYn78vE\n",
       "4UmrQbMVkjYBHEH4pB0B3qbPkdzYz1JPOsTuEpFX5VP/xtAY0ahiJyHraEXFbmycsjnUfcNoXEsw\n",
       "m2t1E1k6J1tn96iS/1+44PhIYt+GoiEwhL7jHj0pS+qq3rBolcph3c4GV0J/OklHyMkoyZTJkcPw\n",
       "W3a13Dm0HUzjohmpoRtwYV9HRfiV+NucpDciy68qL0v4C3Fl9WJY1x2hl9pg/16mrvkZYgLbXh2G\n",
       "e3EOTN9ZYgYe9eq9ET8uoamIpPbOLg8v/aaLWco5R0+iaAZHubx4ls4LQAyNOw/VHmLYsBnnoG/2\n",
       "ta5+lA9VPPQ00lam33IiBJ6Dzc93Z4f2stZ2gIavHrkdHxxgDrNRwQZTfa2wkehfd4M4ZGF46jvH\n",
       "AhDpvBdgKfHhURg/81j/UrF8UPUW1uoZkhOn+53RB9WjNsCJbL3QgsvoNQG4+0IxTabSOc4sJPyQ\n",
       "Pd6FZSwjsYGrNkW909kRAUfM3yQfgzgKEyFmXFq7VkI4HbDJjDVIqVFviSEapy29WoH7z+B+5Xe0\n",
       "4lylXVBKK7c3D92wwh9EMe8OAbF+zXgdPLLf1Hqc1ZdyByHIXHzYHqRn65fiEXgpMvi0bTBKaYZZ\n",
       "4TcTm4aa22DOWYWp97YPgG6MTToxoLroGACoCczs9UPUG37d3Ce5QH0MYkozF6h0Jwj99d95IRWu\n",
       "lwZo+qjvFQeR0rbNiW8xjTXBucLfLIj6wAlJ+MZ4DpdZ618l/D3MeqqNT/wHdx3UhRKwJYRAZ0JZ\n",
       "VAoJ3gD/4mTyjx/4vcpJdL5t/bdfDelkJzJKObS/acFvaDu91e4lVUzV/y2TALZe0xWvovLLQvJR\n",
       "yU/RL9ijz26jWh8zQBRXVa5PtCFBZzxsgzpKhY2n9cBJ4NI3CZJ2/F82pZ8rEBhNCPKEQ9h2yKYx\n",
       "r4/gATTfmmWiZtexXdKgrUM+ChZ29Ic4fjREwbQWQZbb1KHR7YNcmkxIrb5Ppj9EWfhYIgX+whu2\n",
       "zc/9B9pLa7OJQqLf2qumVuvHFmD+sGOnv2IMFy977820dvmHOmlNn5wwKCdCFzHhqYGtsG/9j9+8\n",
       "SQfYgRuW22e7Zucdy/NhPpj8U6IBnjXHbLdSvOZOiWtAI07djD+/SIgBsQdiiH+HWL2TAXTjx3Rf\n",
       "vzedP6YAF8G1z0n5UyCGjWF0yNI7VsfsYl7m66/VFL1aE1Bp9a7L8tZOGPdMI7O8bzs/tDj0SuFV\n",
       "GhEkAiJIe2Jv3PZ0HnBDhPXLrr1sKZjaJPulB/iMY2GJ9ci845k7Cx+de+x/gNJxM3SUoC7LjMAD\n",
       "8swLsrQZYPUiUJjyyRXpL/B/33KiGMrrHfnZl7C44ixgHiUXQk5VCBchlyhB2qFrO4M9/PAiZsHF\n",
       "7Vv9F+iBFfv0P0bospL2/8DPnHkyfjRUUl/Zrdp8ukQVNdTxc1+w+hZpIvKkwtrrlwzMVaMkcix7\n",
       "vIU8ICL18iuKygSjseIeeXY7g+WyhMNK9blEiNQ6+qRcidofGsuuQIYKxUqVBdPkssu+oVz2l2Az\n",
       "gA71FJIP6aj2UY6Yur697ErlkxG5At7UFWfs1UMHKgncCwqXJT1qOz6DGTuskcuZtmcaguxHLrBr\n",
       "FC6gsghyK7ChE1masi1bVnCQifuTWQEJFvGYz8a3THWSzEZCzGyMVprL+vxC3N8IZ4hImHjkI7z1\n",
       "rjv3fQBnldXaBBBzGq5X9I12gNAEp3ueZGrH0xH8Eq+ztXpnwilg8DOVFP/ExWd+8gb+WIUstDwa\n",
       "l/j5sevU8ndDGclrj88J2WxM4DtdCCpMD6nYf+0QqOifAb5E7nVUz/xblpfoGwVwl6X7tuwSaljT\n",
       "DPOE91Yy9gykleCFFxPXJqx8uY3FeKBnq+IrBsb55y58w0tZGoef712laAX1X08ao9jId4vGxAk9\n",
       "EUdbsnzMmYFHD4ELLLYtUP1mgs5YyaX1bDgDYwodhAqeBaAfVGxN/6LLXodMI0d9PB0aQ3D+woOb\n",
       "8CN0y6q6KYb7TuBc/keNe1gWGSDp13rBcXWvLwSnXAfjEe/d4ZqCfStdOLcpmv0F4AMB+XW27lDf\n",
       "FVHmj5vcFOf/Hyam2xd8how8BmW9j290wnDIYe2jPm8WNx99sgQ6xdmWKbVhze6Z0h3+jJeawB9+\n",
       "putqnVnMbMu2QdScwkTaVix/dojOex4wT241lSvKqwRHF72XpvecqbBAQeupPX+lYJbt/Ijv3sNS\n",
       "+fk0/gypkU7Kr4icA4BmwX3A1qiYiF2la48LgPdkuxHUEWtPmWNf+rGTMrH0KsGrrDDQJ2Hnaqot\n",
       "NWBnEtA+jmYnw17Ehnnt9uTNi4YsQHsHbkoEqSbz2Jk/8Ua77bIOoxvAE8a6f+sZYCtd8TlsjRuw\n",
       "TvhR7qJkrOaLdUdnqt+UTTX2JfduUyCu3UIOZVQ4gnY+/DP6e2JePkmhh9tABIUAAAJOQZoibEK/\n",
       "/jhAGeCgYAnQnRmbxvx8MCv/mFl+jT/a5NZlUcYnx4/HE20T/DD9opWpBIc0K75kcpD0Ip0BNBy5\n",
       "G+7p2zmwYP2uyPSa7ozntfMNCQKFH0cg6CP3K9upYq+eWjgip5L8sMuS92tHABDtIaYk71eWp5oK\n",
       "bLSEFMUeJVH0wg5yxDDqtRMbLzJZVTrSVYpMqrEYN5FbRfYs4VNqiTvG2DvisgU77MmXy0HQoxGQ\n",
       "GOZSWGGuFIf0hez1jOQ3LRlkwGlZjEa/3GL+Pc/RB3EU4Rhp/6izUbpr/tIeJeDf63Op1sQISxSv\n",
       "Fl+isuDiBgZME1HhqWvEqj6+EpRhDo+q7kMDnjL2CwDpUiDFQAdA3yuJ3CqI43jttcCWsfeIjk1A\n",
       "+ugLqi1m55sut8O9aQ+a/CBH/n0AqEd7OnLGnCUjHCP/b2+k1aPyjYBoef7X4VZLywGneKMOWEgo\n",
       "oO6PPPKbvy6ZnnRZFDWqdfrSjioD48o///9TLG3OFkGSNqQGLO4TUVpwGjOF5U8VaDn4IkMnMKlC\n",
       "R1woXdJjwnVNAOtlDKn5bgnD/DIFei7hIYQOc/w1TeF2mG83gptlwjM/lhhyYWTyAaXrK6nMDPON\n",
       "7h9EZND41eH4dDkLGBCSmr0NNoi+2i2bp4tWVTFMlSadJ7dV+xQrJJvFuh6d7FSQ8blWF7OkTPQI\n",
       "kuk6w9+odGw47mIxIbeK1JY+zY/IbcpFwvY+Np0KU+KFW8UXxgqVVg+nKilaZSv+o4d9Cb7pkQfr\n",
       "3nINEjWZ8GT6/6ZcloAAAACJAZ5BeR//Ax/dWIc+7/sAD1q54vrQXE1n3tuhsesl/u1QyCv7GWap\n",
       "v7CNZV9QXuTXTvHoas1TNy/WjeuJmWSDbWPK2WD3TrXYfZBUF8+J6BXh988UJUAQuCqrFIIBU3lN\n",
       "n8pWKnhWX2NMleBCRrE2xCvcL02y7QX+qQOT0kK0v5+NZBqLrGGlMYEAAAD3QZpDPCGTKYQr//44\n",
       "QBgvM1Oskv8MP/XgFJFYuhzPqM/+Du+LwYuY1NB2TcgjizBXnt7S2NkRUGYAG+SNpSsDvR21NvGp\n",
       "Z7YsrKHmZtFNbWIB2Wei0lAJ53XSj+HXMCCEd07uKnZ2s1HR+zTzzixP+9kv+zwDwZ1ekPZdYEum\n",
       "AFu1fucchjuW2o0lYyHGy6odTE/7Femury/wzVtvd/VGy6jEU6PLW+lNsVAcBkLBDO5GLQnzBmVG\n",
       "avzHGx07R6k18H9pwDgq4j6XlythFtGO8hW0/I94uDctvmbeKDIM+MZf/KESfJRipM+gJgi0E7Bg\n",
       "UxIx4EuTJgAAAPxBmmRJ4Q8mUwIV//44QBaMJfwxAL0AUkVi6HM+oz/4O74vIQzGtDH+7LkEcWYa\n",
       "cT33O0myUUB6KW/kjaa+7LQK2pXu0LCXBDceZuIVyz1ENwbaDL1Zf2bAtZhDN1ieVwDt98U0PEFi\n",
       "bpRRszZ/PEWRADf7d2LXaWeXxsUNXAr1pRH+xetxwO7isbJnq5SpffUkH+HxXjUMRMOT2zoxbc4M\n",
       "yRqwdIM80vIo2/zKWGIvIp2DIREP8Wxt6FPcDF5k3fTPiC26EdQFd++XmDeSB1q9OyZbw3vc2cCP\n",
       "iSQQlueta31A/Tx7XJ5xduuIX+nHb+krqV3VlA3LQyv+K2EAAAEtQZqFSeEPJlMCFf/+OEAWjCX8\n",
       "MQC9AFJFYuhzPqM/+Du+LyEMxrQx/uy5BHFmGnE99vEVkcSv/+SNpr7mr5Lalhelo0gqwJscLEUc\n",
       "hPlfFnfedbJrsNysZl0AiZC9AucBtcCzLwzT4T4U5zw+Wt6Ayw9LSYaKjFOpHhEnEvA1wdO9RSzJ\n",
       "bsaCczqHetZRUU6/KCjTC8RLfkMM/WWJ6O87FvN4qJMj7kLh4qfv48+yDBC2+EkIyTa5HmAvMEbi\n",
       "hasHlJTbAInr8AHBt3jIFUixUc0HRTyWb8SDMJDfNnYpCw+BkIu0G26vqewUYshWT1X9L1aD4xDK\n",
       "PbjrvEIfFay5R10asfesvw9g2UiFHWzoHWU/7lo1So8AVOyDsHiLrfdgL423bER0cdfony67gQAA\n",
       "ARVBmqZJ4Q8mUwIV//44QBaMJfwxAL0AUkVi6HM+oz/4O74vIQzGtDH+7LkEcWYacT328RWRxK//\n",
       "5I2mvuavktqV+XXsXg1gK9wjj8PTVZBjcVcwE1qPuScnqLn1gl/CdZKQlj1NlTKTOsbd8BhR3OUR\n",
       "2Rz29FCaMUl9FzFa4mJ150VAtXeeeO1baLMuKQbkF5tSd8RVsiwn40H1Is0OoVm/RhYXiRwpLNTF\n",
       "av9r0joSdeOL4B6YRquqsMROgBnY1W0jsJ8ll/9dqob87x7SxSTCzattFhTI7B/daVZOmNy/umu+\n",
       "EToU2RzB9FYZTJ9KEBh4nRMl9j7ClBGi82fJJWFmJsful4OTh5aDflm28Jb62U9tuPGVAAAA40Ga\n",
       "x0nhDyZTAhX//jhAFowl/DEAvQBSRWLocz6jP/g7vi8hDMa0Mf7suQRxZhpxPfbxFZHEr//kjaa+\n",
       "5q+S2pYDv07zujMNnf16alPiv1fVJR94qYpNPzDs0gRsghJn6caOxrUrA5ZJb++my2HQ3lSoxfk2\n",
       "WddywNeIV1vq6Bojj9TAtiUuk9uQiJaHO4g3ZJ9x5nK2BDYAxxx2bC/Sn0AcOQ12DIv9fmi/XLHu\n",
       "BdFxYiFVAKByB+ff/IBo2DItH4vHBhLhGZGeAS1QJqUx6+jsQG+Q6PlrVoO/8a6uGYR791V3AAAB\n",
       "HUGa6EnhDyZTAhX//jhAFowl/DEAvQBSRWLocz6jP/g7vi8hDMa0Mf7suQRxZhpxPfbxFZHEr//k\n",
       "jaa+5q+S2pViC+p6OoQEPSTVaOIu7vcOdizsqqIftoEvMAlDA9ZK9loKe4k2gTMJApEQQ4a6NMI8\n",
       "5gW1F2HM4cj99kDVdCgNCrN/lnxOewuy9mrfkhrU2n0QOm8SF04KgMKxacxCnZUmc2QPhmUCksAn\n",
       "enIpuAA51+M4Tk95+9sEdJCtHe67RK5W3IVBIdQVQrqw8FDICQFkgQCZmwCQ3+XB5s2owUPYVjCH\n",
       "UXjdc/lxxdTtRFQoySFo668UbunIkWqzL7JfMIWNSUNkMMIWoD44PEUREI9ENDbHRGVvHPur+Xy+\n",
       "4AAAAPpBmwlJ4Q8mUwIV//44QBaMJfwxAL0AUkVi6HM+oz/4O74vIQzGtDH+7LkEcWYacT328RWR\n",
       "xK//5I2mvuavktqVWldjRIEhRLNY7lt208kgkaR6PMUQ3B0KbTZw0NwmbenCHXfqK1mrSgQDbUiQ\n",
       "3G4sAM64twP9lmrm1LB0o7+AK1ELLUVkxMOfMHAVBuYzzGzHHMlL12M5zZr6JuO1ik7eRA0qPAKP\n",
       "YjVY0yLqJ6N/JVAr/8LMDekhCjD2iVhDRkXsFvMmVbhUbXeoRU9R/FXae2Myuqaxj7jipUWP93Gh\n",
       "aYUV9rYYkObz+bjHm7tMDQ77OnPHa2T7qruAAAAA8kGbKknhDyZTAhX//jhAFowl/DEAvQBSRWLo\n",
       "cz6jP/g7vi8hDMa0Mf7suQRxZhpxPfbxFZHEr//kjaa+5q+S2pVaV3F3pPjsXxRRfG0QJzilYOt9\n",
       "DbXooqh0PMGWFcyz5lQB+IwiFzI4qvnbzHaYgM1cVR94Oqwzqxt64dbILLd6tKgkBHHwsfP2iYZa\n",
       "XUUytyPQS6UI9ZrA3Gvs/3muZDlxbzJuINCjMBaMyOlCuiDxTLhYdWk05JaadKuBVIA80SY01q6x\n",
       "p7EyqMpyotqUpZ+C/ZHa23cMn3HBs6srjYfi6ws/6mvXY9A7I5qCYbzU91V3AAABckGbTEnhDyZT\n",
       "BRE8K//+OEAWjCX8MQC9AFJFYuhzPqM/+Du+LyEMxrQx/uy5BHFmGnE99OdslFAfK//5I2mvuy0C\n",
       "sEdKhYijV+I0vpJ3ShR39PO3M9ZZvcEEA95KUKfO+AuggCyGVqattVLDUc/aZDwzi2VNbTOILdZs\n",
       "NGvcPrhio2sbqiSlE4arYKuCorcMZa/H9Sd3P2A6zOgpjYwX0RBgX3QFcUiaiJPbHjnJ4xJ9aWoA\n",
       "c8INDk2m9b2b6KjGAgO5Ex1IrMdXigAhyP0NPBpaCfqP3gVKofqBx2hucb6YyLvI8LvskH0JQLsg\n",
       "rm64N2HpiSbj5M+aKrscfvdpLHGxu+YDEPyntmLxbx5oB1n/6eifqwRL+YENc1axHXPlavz/BjOV\n",
       "8HMhdD7UZb+4eWQmwxrMdMQuXqpr0EuhcXX4Od7yZkM61/0ATRQC+yKJvqP3BD4EjtsSLEu+CN7+\n",
       "XBo6tValHiszy6cWMAPpQokWYEAAAABzAZ9rakf/Aunn8AB61c8X1qt/tIfyBjGu9Qo3xKSCEF9j\n",
       "wrX6o2N+2607kdF1fShQw5Amtfxq5pvf75gkAxJrOWW4JoP83q1ZJOmR/sSRVNcIsM3mt/G7qiEG\n",
       "Gh9eXcxnMj/JrFR9h9B95S92lSNe2wD0gAAAAOVBm21J4Q8mUwIV//44QBaMJfwxAL0AUkVi6HM+\n",
       "oz/4O74vIQzGtDH+7LkEcWYacT3052yUUB8r//kjaa+7LQKbkjYX7KJLNYwgk7H1TEIuAL/XFLQ3\n",
       "xO9JDbHQ7YK3r/l/FxFnxSHc/ZpG4wtB8VYgdkc6FYE64oc2LnId9TA3JL/wObWSWKG3h7RcR5Hr\n",
       "WCMBhUQdpdiKYhTcm6liXC1sG/oIf3un/ftSz0V1QYEN2MX+CROgGCaUHTQt+cAa8KmklBeamnDL\n",
       "QxnPFvknxtW9ts9d5e2e1f8FCH+VHv2SPP90uUKhAAABcEGbj0nhDyZTBRE8K//+OEAWjCX8MQC9\n",
       "AFJFYuhzPqM/+Du+LyEMxrQx/uy5BHFmGnE99OdslFAfK//5I2mvuy0CtYtH+fEFRnyuoMBnkaQr\n",
       "N2LYx3kHkivbUmWgzY4/+rTQeuHw+O2syNzlYDznEueB2qDVswYeUlPdnEkc7VkYvFlpZoAJtcX/\n",
       "4KCs7Gar00pCC576oROpp1Xm6H5MBDKT3klavXtUmTfL5wtB7g8NDtP2HL3YdH+wkOGLWKorwFh8\n",
       "VPYn7o23cjAzZG4nAXXRGF1AGLgNTm72bpEHDU6hO+7gx5aQFcDeMV+HR1szoAcLG7DBx3h9H3H0\n",
       "YtYgsjLFwC/E4FMsJQRro5APCMZGvM6HwR4njddZqkNQHRWoxq8qEdj0TiJqsGSlS/ZHG9RPA7uO\n",
       "xNraWclazcc46zhKlZ7m4XohlflDWznkrmSpVlmOZONapdFHrLHf1sGP0YQg2alWz6+vJMijG2QH\n",
       "tX+5AAAAfwGfrmpH/wLp5/AAetXPF9arf7SH8gYxrvUKN8SkghBfY8K1+qNjftutO5HRdX0oLUga\n",
       "psEy/Ub6HWZz1doSlRvehv1cxN/L7kqtlvituBMuibAy9gSJAnmgQr0UBGbVNA6vYxTiIs+mU00J\n",
       "lqXIJss87T1cpv1pgmE1BuwOplUAAAEQQZuwSeEPJlMCFf/+OEAWjCX8MQC9AFJFYuhzPqM/+Du+\n",
       "LyEMxrQx/uy5BHFmGnE99ztJslFAeilv5I2mvuy0CtNNVMRm23ncewHM/HEj/9QNYZ10fRxXYV+l\n",
       "AjyugoDomCKkDeeVyGgE+iO8QV0Y6ITmyzxpUXTQVQyPE/fH00j6wn5qgbDhUp3WSrDbMYjboV17\n",
       "c64eu5pgUH80oVK4xAUFOgL1+yOJ2muM09cB67cz9DUqsXnO0icjmNifmYnjZKigTSM+Y6MuiSB4\n",
       "GE6rt0mJ8LLNgD51SzA+F1fG5+t2RQef8Uj23xpd8lQn+iM5/Ily0aZH5NhAMQsnlCear7rjYxpd\n",
       "Z4rTwzpMPkiQfYAAAAD9QZvRSeEPJlMCFf/+OEAWjCX8MQC9AFJFYuhzPqM/+Du+LyEMxrQx/uy5\n",
       "BHFmGnE99ztJslFAeilv5I2mvuy0CtNTEJPfMMX19maSNg7z3xNij1k+dgTkSaeUmzp1mUFOwvtV\n",
       "Q3x/jt5CtkuvkZVzVwIJyBo9MSpaqoNEpbU2jFKVoDD36XjwF79QSlktqai08nsFw6f4/6AYtxEF\n",
       "3XvLj0ITcPST2LES9LGFFOv+TY6KOG5BQFHw/vcqaRM+WFH1MaLQbbEiX0f5RQNpI+NYbfSz5D8T\n",
       "a6ZQCCg4Xy3uEBYqeSZ+z7C3qiVIqCbom7zN9rIBvw2JhvRDcuqGBAAAAVBBm/NJ4Q8mUwURPCv/\n",
       "/jhAFowl/DEAvQBSRWLocz6jP/g7vi8hDMa0Mf7suQRxZhpxPjMqntWGHjpZir06ABStQzgLAgDv\n",
       "ktTLXfSynVDFi+6zWSozjI1n+/NXV0D3Ep26xz2S7JAAAED8DWrieaPBDVrlsbY8JSlCtqt67EZ2\n",
       "AKNO6w17mz7ZOygWsKlIjQH0Q1ASTPcRgjpWA6El9sUncalETp4CxeKBnyEusXHdhrHXpaFiUsDH\n",
       "7a8e+p++fzHhFWp9A11i8xaoETLJB+boMX/Tuu8pM9Wc8XcwDXUbjSAtPeElvKP0CsY+UjtOafVh\n",
       "OgkWmskpCohjIxp5pQxCnD7K8rn3FuyynRgBugurCW7MoeewZcteq/gVfk+pU/2tjXcY+4LlMfxk\n",
       "V+Y85Kr/iyjKCOofVJEFp2ZPgoDOwAZc3/xMWLRI8LQHYHDElJEAAAB3AZ4Sakf/Aunn8AB61c8X\n",
       "1qt/tIfyBjGu9Qo3xKSCEF9jwrX6Sy0cOXFV1XJSP0oLNd/g6R7b678PjLYL5b0i3DytFvrxZM1d\n",
       "9jYBe/B+MZTpV5PBtLBgo3qJQCTzU7dUuuMXWHzNug9NeK2+7qxQHV2yOAknG2gAAAEoQZoUSeEP\n",
       "JlMCFf/+OEAWjCX8MQC9AFJFYuhzPqM/+Du+LyEMxrQx/uy5BHFmGnE+Mx/H8Su8bULwSpZf1kKD\n",
       "OAsCAO+S2G0Y6cgON5BCt8BCKDfZMRhwP+3P/Lrm3vVxv3VdQObhveax+hNlL3hRoqSVml6ZeVjU\n",
       "DfQnc9KMzvWdRIAaBTJL1XM/PlH7TlFsZKGZFoExrgtjjvYMFL9hZJVB3RAt+zOaTP8NLzIJij+K\n",
       "bCxlbT6yJZwiKEKJXgKLvdAwTDVrR0IkF59TwfCfkcjsjCPOZfR/YeDNjOcx5hrzqKWTm1D02dwO\n",
       "Ke0iJUx5XD60bagHJsrIiKEAusZ8IHka2BO0AS+7FsF/6HLDeZEux9BFx4cdA24i9gcIHpMFh0Xz\n",
       "R9kpbBAAAAEXQZo1SeEPJlMCFf/+OEAWjCX8MQC9AFJFYuhzPqM/+Du+LyEMxrQx/uy5BHFmGnE+\n",
       "Mx/H8Su8bULwSpZgnxh2IgWBAHfJbA65Yb8QvVHdi5EYbIKYSzyGt9KGGj/RloHfVz26GTxX0UYx\n",
       "b8z7tvg+6wovRMpnS4zkBfy2CJk9McpA7rkOZRStATCp9urHzy88s5PkG0BmQg5BgmwYWNXKPUF9\n",
       "QnGkOLQCYjqEddEWHW8q6Nmn+q8+89KQnb/4zGxj1vQS07Wud7IS4Jr1MKQ/+GoeZT2Ar+jS9CQh\n",
       "fNTKN2aH1NJJp3QRggv10AZmHI35SSEShxtvoXzP79MEsBF8jHpJbQcriI8pTQRMbDOxOrulABoJ\n",
       "uH4RAAAA8EGaVknhDyZTAhX//jhAFowl/DEAvQBSRWLocz6jP/g7vi8hDMa0Mf7suQRxZhpxPjMf\n",
       "x/ErvG1C8EqWYJ8YdiIFgQB3yWwr/wjvwQBNchYjYXkUnX0/2aYrrRGic2s49JUbHRZ4TnUY37zZ\n",
       "RjISGQH/yQuP3Kv7b+cSmxb2Pima5b+DX6IQ/nYRjLbrcKNKsGSWLZouRY4FmJJahmFXZRWogkgP\n",
       "Cn2d6vdh53mlgG0IFPheurd45a3ekf6q9njygLXEzpMRC9VmoUAbaMFV9tP8VZ+ND/v6rRLFp2Bd\n",
       "XOj/Gv8NXLRwszdYid8/Iy+aLgAAAQRBmndJ4Q8mUwIV//44QBaMJfwxAL0AUkVi6HM+oz/4O74v\n",
       "IQzGtDH+7LkEcWYacT4zH8fxK7xtQvBKlmCfGHYiBYEAd8lsQTmti5EnPxVi6E8tVKLKfj6Qjrm/\n",
       "lMwz4nxdcG7CDkZVJyRt2s2wr3NvbLcYaqe4LW1jIjbjnwGFb2kRdYH/3ytp80XRjO2LYgwofLVA\n",
       "yoV/TbdXrCkRXO3L/VNrHpBjpyoMb95DlwXROJ0fYH/BGfrmxovUhMSyJ4k2+3eBrTYP0pSCestr\n",
       "l8szqw0cSXg9gtt4/W3lifUWcma/D8loAlgQP+X2okNP4qVut7I38QPaMzamtNDDFGg/hMCggQAA\n",
       "APVBmphJ4Q8mUwIX//6MsAXq138MQLlQDV3wHQ5n1H//B3fp6Y3HaN0xRW+/xxZhrxPjUkC0w4WR\n",
       "kjCIqXAh97TiIFhQF4W2xBOmggKyWTnL/Mf24+qdladogdThPcF3m6gPEMf1cLv1ce/gw5p1Zaez\n",
       "9Dp4tr8xhqfTptAoQN+ctNKiFAkfOjmkAN9HRblg7ykPfmklAjP5QmP64U1Ke/7k9snxUX6WWnrH\n",
       "FYKfeZLYoTtuucmC1ZkZnOaG+fmw8HOr9K0tuEOSIaBHgcUb20hEM6cU3EaudxrSVy0AKpDAkrAo\n",
       "Pick4tjeD0nCb2lmH9kUiEoi4QAAAPVBmrlJ4Q8mUwIX//6MsAXq138MQLlQDV3wHQ5n1H//B3fp\n",
       "6Y3HaN0xRW+/xxZhrxPjUur7WGjFlcxZUuBZ/onEQLCgLwttiCnAQD3St5YKILF5STJTzp9evKJZ\n",
       "kj6et7Ly3NgH0JNX5Fqtrv2l+8C9vdxGDpWqLQy82UFXPNBetIUzwXot7sZ76d8ZQgWD7OZ/bqyc\n",
       "cJ5sBezXL9BBGzF5sdXdCht3gimiyET6XlAJJ0Bk1cHSqmhEkeKP9sXbf9YjU8aERHBIzR/CyH7i\n",
       "CAkhQqPGFdNhUNSoUn0TEU4N4HLusK10LjTJ6j+y7YfwkocmS9kTgAAAAdpBmt1J4Q8mUwIX//6M\n",
       "sAXq138MQLlQDV3wHQ5n1H//B3fp6Y3HaN0xRW+/xxZhrxPjUur7WGjFlcxZUuBZ/onEQLCgLwtt\n",
       "iCahPT2/JIcfMHBk5MTKQlDqIwS+dZCrwOEm5UT6oFpXmbr2FHu/AZnPBGGrqOnMZfEP52JS9KPP\n",
       "nokyFX+2Xb6HSRqmLQGwNz5eYDwtGHpUoTzdX3sYyiym+xCNjLsIahNcQTmi1VAHOx00vFrZnJlU\n",
       "ahPxYNwrHGte9Ki83bruToIHM8nag0m6Kbq9BeFUWFdlJ7nGlP3XbYxNYZ7Dn+slWJjgMfAakQTF\n",
       "tyts/jJ5u3SvXyztdcx51rFfkzXtU78/5LvqcWnJXS+kGVRuA8FNMfauDKisrQTrL42vtugeWcjA\n",
       "XBuwsJggzZAmPoCDHwd0y3FmUe0nkj1yogkJLxc/E9CaGFlWXv++7/WFbhzY03/3dCtMZQhMg2VJ\n",
       "d6sjl1YIKgyuUb4IMZFApuNtWC/JDzqw1Qloqs734vNOss0k4cGQWRfS1Jxyw6+R8k4bLTb0LIRd\n",
       "fIFVUuV7bxJKPlpaOe+is/nftmg0od+WkEKEKbRo21ICcZfV6u43zkJ1Y+ALx0W4feMyYJDI0Dpb\n",
       "5/qrBs0AAACRQZ77RRE8I/8B0e3SAFhvAbqIbhpCYo+i7rzCNP/bOuzmvGEZMsCFcPgmZgVX4kuc\n",
       "kDJ3iapZY+kRNJwspG5WZA8Aa9ps73Y0l+jHkMT/sFTqCw4k50+4QkYzdiBw+t6++ILn5AKj44q5\n",
       "KyE3RlbPTkQ/XRseTp8Nm4hY1WEU39rQ+3Q0cSMbp/YgIF1Ja/ykgAAAAFkBnxp0R/8C5iksKZmd\n",
       "O5UkhlvixFl96uaVojs0W2aRvyoAC6ANzmpDMefGvD0fucwYVQRObtVM4mEzy2v3UFFHefbQpl8k\n",
       "ovcfSsb2Upr6zPBWvwN8sxAUUQAAAC4BnxxqR/8C55hIJpuZ1g9qhGQrdlIx8h2gK28eF8U4Wkmz\n",
       "ASV2EoBVweGfUCphAAABgUGbAUmoQWiZTAhf//6MsAXgysmABkPezqnBVL6eTLT/lOljXqxsr9ph\n",
       "z4Rnm+giUWjJ9D14ttnbbO6Xi3SxA8AekY7kqqHz1W1zhDLvJdpPMKFKrvOb6s5GrA+lCfpqOW8s\n",
       "+MNYcrPuKGUoXZxCtLZEvolc//JqoaTiLXLLKy4Nz/9p2svh3wfKu4ruyncfCWX+siWdJKBtxR9J\n",
       "jID/6sUVVxx8VKZy2rQqkf93VUpFmbLq+XyTfjDhhn/lKt8ZJY27FK7IQmzHqbO6APZN30pEZE6y\n",
       "nSXFrM8vdtpEYfuExQ68MB1CLJPCHIXYHFUgI74zvg/Re2kzbWs5Mo7fnr7FfpwCb9bbpMYSMaX2\n",
       "SQ/pXMA6AWyAPjnL46EXVKTkXbooi47Zee6ILRsC5IC1j9B3j6YW5JG1QQb3rpksdeyXeuCtuZGZ\n",
       "kvqI7J3wm55NSjFVltDgjiQuwE4/gGfyaI7J4cvP9hQhkc4V1zjLq8NZMW5ucInIM+cMBoB/3pI1\n",
       "ybgAAAB3QZ8/RREsI/8D1xgNviA+/j/CtEUA2d684SR5i3GMa89u9r/0fXj+Pre9Mvhpod9TsWFa\n",
       "AHH3f1eRiu1SfIWY1+G8knJaFl80opMKDhSxkc3vrhExuIrF/qDPWh5gr5FOavLSNdTvs884NZxD\n",
       "VmCjAemmu796f4AAAABCAZ9edEf/BNRqkhBvYqQb4gVzHcwsyE4p+XmfvMAJUc07T3CeAaszPW0h\n",
       "hRJX4umylU6aogoaMHTyaTBn4lfSXfYtAAAAMAGfQGpH/wX7z/5ovcC1HNXjze4I007mEtSqMXNj\n",
       "UjFkOmHBoRvLXHvx1hST2ref4AAAAMhBm0JJqEFsmUwIX//+jLAqWf3Rs9eHxr6MsAZsvFoWmq20\n",
       "UyAV3LrLWf27qW2iqMcAZe/AOrFH5MvqdIHHBXVBQdXRkXTtE+gv14Id4tEVKAihwsL1zaGxbSGH\n",
       "aBaZmbcbJzr1Vb9n3d8bHA979MHiqncD6dpsXrnP26Ba6ZUByn4DGjN7JPfs6RGO0Cf3QtkkmmQ7\n",
       "Gpic7ScLUB5+BfqE6L3EZbQ5U+Or7uiU0A/k4TnsFpfWUacFkt41UWfr4oPQquJJ2FQ9IQAAATxB\n",
       "m2ZJ4QpSZTAhf/6MsAJQEC3nNqA6cpAF1ZUAHG8VOeUvmaXe1tfA9Wl34ewIqIES4h71rqVoHiBa\n",
       "lligXle8Hd2+Q24vPB11tudPILFevokl04ms/ns5Ya4E7XwP/mZ8zJlUU8yIwo7h8B1ywLr8xwco\n",
       "ys22Bh5y5bnbMZ2SM9sqDxipa8pHMJ4mYS8sQY/+qwQwn6vEP2UYLqqvbzajLJ025NnTs6OZ8IY0\n",
       "NiId86uAmme5xJbdzBGXnGNx3xqPmmDChnSsGyTDb3fRxDnr2mhobDV8eVwQgEQXuGzCIaN8V/Kb\n",
       "fWKf+qsLxbO2DhR86H2JK/GBCr9qIYDp8DSsb9Ly5I4w9b6V/3LQcCfxbErwkHnExsxqDHlsIAsz\n",
       "wZBke8KMN/cfv31bcW8DggkBlprSZaNJeJEyMWXcAAAATkGfhEU0TCP/AL8DYB6z2ysvTQCdRT8c\n",
       "3KYTO6N84UuIAU/RMv2F2enXgRznYaNF3hAApGzw2a4xZcqOM6p038v7BSVCRpvXUjFpPWXmRwAA\n",
       "ACgBn6N0R/8BLhnqRKP6cyB94H0Tn0EwJYkIgZNO2VgIr0GGEge1TpixAAAAHQGfpWpH/wEt+CF+\n",
       "g1jWuzIehs6AOq1HrnaIZHHdAAABLUGbqkmoQWiZTAhf//6MsAJQF7RQLFNNDqawCa05+itK8hH5\n",
       "TujmCjtVzhB3LxH2c+a7nSqtIVXLaxvLoMbRDzUWvLL+JQMON+EIlow2UqPehBQWr05Nmv+yzuAU\n",
       "zNxO5V192D8/6zmyOxoKZuC5j3EUB4ylC7M/NRnFJ3FPNyLvxxEYk1nKUeYudjew4T6x4ZMdazun\n",
       "nrlMmU0mRmQROUE8F0eoBq9ygkK9W60dmI5D7nkq5KBuRsrrq5bF35hKpw+XSMPuNhkZKpAFCn0a\n",
       "lfTQ/sf+9FwhNShm3bcI5JG/pYQQPzkezFtpWuP2DjP9MZ4LVHFd6oHON5/8qn6lTvODHX4c/7MG\n",
       "pM8JVwKysfcOKbt2kDGJXqTfdskz77FwnXg7xCir3lJG+agELKEAAABMQZ/IRREsI/8Av0weUXaU\n",
       "WJeg+1uuUZMQkGMoPnQAqXqumZeLtjyyMdHtDVPWtymIAV1iBcudh5dPCkBn9Hxa2HbTsuEIzKYf\n",
       "of7IwAAAACgBn+d0R/8AJ5ZKjvJagQATpFJB8D1+xk9bkMNs654JdYF/bCGRjF3AAAAALAGf6WpH\n",
       "/wEtjmHurRNoZVOWXABNKWnUaOAB+5Ad/0Plb51Hjj7lxj6dlOWBAAAAzUGb7EmoQWyZTBRML//+\n",
       "jLABMDnHoiWAFJpADdE3wCO2kltIgaV9GkObpushLN33lDOG5zN6dKuwnGBVBn4gVJ2uMfx4t8vo\n",
       "D6zVSYAfqIC5jgupKQNPshtXv6fsiqxVMk228vzRmGM4248nnw4W43Zl4dW+CJp/suYpJ9ncrKyL\n",
       "QirlTjurF5IdlaYk/kqAIlSr+eK6NZz63HE9GBApHF8sfIvsYzL19XkTvu2B87Y2KHT4ATRKtaSz\n",
       "48ugtId8nHAmwKivlPbkfSRG23MAAAAvAZ4Lakf/AE+MCnDlr3AAXQATo2Ntf0geTlL2IlScnAzm\n",
       "+/8m+L4d92Kypo5n6dgAAAD6QZoQSeEKUmUwIX/+jLABMDi2XwAvMAyDWtQtKodd5XNC9soP2suT\n",
       "EIWSu30T6+1L9QUK/DYvynXXcEIAUEPveZde/o7yBJPh6BTFWtm+5K7CNB8E+tT8jpVlTH7ItaCm\n",
       "YtFrGGf7E8MmcGOFG12LZ85w/QZeZun6HP12P6JD5ecNJ7XC0z+82nh3HWP3KAZ6MaJnxjEabIZO\n",
       "WiLQY3MXX/a4foMABFrfQT0LQX6febbqdyjf/q6+aJwe4erTQb6b7feVPSvMUGZmY/aRHnqBRdL4\n",
       "/wqDwZNWIch+qyMzX4kKd0D/2WC7VVa2y26IceaZ1AUHI2y3NlQH/QAAADtBni5FNEwj/wBhwJXL\n",
       "c7iEEhDIkECQCSXbAA0Ztq4eUJ1136sfy/Ckzr0YTWsFM0eJYoD1uZeRFJIovQAAACABnk10R/8A\n",
       "T7dGIPRZIKm0Z258f5dv8jsqTIO5IGIHwQAAACEBnk9qR/8AmjvhJNAEvsn0WIyYMPVhGgCXTOtu\n",
       "7eOkqLwAAAELQZpTSahBaJlMCFf//jhACOfRBPMdOAcDrRAEyM8dDtbAKUJLj/z1Y8BXxVe2xYx7\n",
       "5e9k5ne83NJ2rpVRFJapTr6vPO42ahQfm3Lcs8WO8xbRtZvwnhQvuvO/TKajaIFthWiHOO+6/Ych\n",
       "JqBFDTx3noVwrFijcTtRFPG5ytEB/s8uu2hFUZzSXsvpD7fWaYWeBkt3AHai2TumyPjrHZ6enA5B\n",
       "E/M9ro149JFa+BijKZeMQoUZ1p0UhkULJ3QQ6iIyC2Pdh/m4J2oXAKp4kJMUFwad/M06nBQ9iG1P\n",
       "YsorSRERoqw9bvPf1nrONljqxmSfegQ5hZh5aSgSCwoO5MWlBwZ5dd1GXLQ18SMCAAAALUGecUUR\n",
       "LCP/AL9MHpIkiczkML4LIlAL7EMgl8BsgJ2fvp3QisVKsiiFcoiTQwAAAC0BnpJqR/8BLY5ihJiO\n",
       "wGQtW0VzxlMtiOACR2Zsepgs9Tuf2b1eJsA454fw7oAAAAB7QZqUSahBbJlMCFf//jhABJmAlIIB\n",
       "NbpeyGg+iGVSN0i/4btwy0nVOFTxI09ywnKx0c86msQb9wRQdmdAAjkqFXCyXmU38tunWkchGKvE\n",
       "/kTU0v09hQxxSydFyX0kJKYtjdZ/vik0F3Z2OGPxjyH9zJvZIQYPoslhD/OxAAAAkUGatUnhClJl\n",
       "MCF//oywATFhxvGAHNGisldEAxBYgW5h3CGrNYGXZHzaGeQU/EEzgNFk3pGcSsrA9r6+Aer4n8B4\n",
       "4e4GJxk0laVBQ0jUHbvgVvrThhL1X7cY+Tm7UPtOX+38TNP6igfhH2yEkMLY3YUgkJUzYdwMG93p\n",
       "DrIxzKFt6lTZwOH/fyqV7rT4j0M6LFEAAADHQZrWSeEOiZTAhn/+nhACS0eSAABTgbhwPuawHnjS\n",
       "PuBxb7FHCJ8kcuOtR7H3TkXiBXHcmhX1zuuQ+Rda5mzK4Dvc6WHz10EvRgbO88DExFmgrD4Ri6XT\n",
       "MO+0y+RI9YKun3F7RVXx9e+iG9xWLNBYiZdRzmf9g+aHByd5HtINzPpgXI3jMwA6uJf2H/7G18de\n",
       "EcCeC5KRwMEJm4QE04f33nzlh0BO0tbJqjgU9aQF7b3ZUnbn5FsHZ0afHsdASD4+2Umkd1DIUAAA\n",
       "APxBmvpJ4Q8mUwIZ//6eEAJLR4u0lTTBzV1MoVAC1BeopjL//il3ORgEqykWmFkc5P3jGJycYa3t\n",
       "6ulYuW5LEVnZ5dbyedg8Q/PLKQNx+W5QcqhW0jaIsdkAkl/kM8G5Pq4Vc3VhSLbkN0aY4yviKXzm\n",
       "wo03H91+ZD+DSp5TO6PJJ6YzooVX93n+Lp4sew0JTIl0PxpBx2kVeoA7O60ovzpULm9AvMnM46fj\n",
       "6Ej5GvCGHJAwT2Be9Z2UBdP7FPgGOO0ce0HcaNNNzpUyWmPETCoknoS6rgwJYrT4ootEay+hPQ+n\n",
       "/q6bOOvz100DEotiqZkG4wUJA40WVoRDBoEAAAA5QZ8YRRE8I/8Av0yVKzf8YDWTXYl7QN1SuuF3\n",
       "7Ey5O3xOhKTZ8YvEm2xAszYT95GiOBcQDOPBbTYFAAAAIQGfN3RH/wCfCwPfcaISBdZkxwqa3u6P\n",
       "oGHKPMwx531bQAAAACMBnzlqR/8BLZJXfZ0sbQa17GiFMKCuys3Kwp07g3fbeFy3dQAAATFBmz5J\n",
       "qEFomUwIX//+jLACUA+TrRsruqK5ddShMtiYrheEgYQtbUT0BfHCVyYtR1H7IUq3HA374BpCYOeS\n",
       "Us+ZBwo1x+FBBF3ySk/AyNFZQ1rXPIbW1GdFI96aj5qSRYwjViSH221bAZXTwC5KYYzoA9zwxALp\n",
       "jnE2wsd/lwXiMts1FdHtRNUxS3+2oD0dqaCqF3z5CWNIKc7/JhNEFsPopSG7rZcGNk+cBIslOwjg\n",
       "UD50K46/NMgi+ciKdq9R4Auv2bkinEa80KLh/JQ4XEe49UfcYBh30/yDfbt3dkceJbfFgCTyGP75\n",
       "KKpxRn3OcdJ0Ljj1rAkhVye1g0633GVCk94UnJZK2vBV6QLF758l7mBOAbNyseH40bhfPOK+w6KT\n",
       "pDkvjpyVnOVae4r5/OhGrAAAAEFBn1xFESwj/wC/BEZN0+gB6yyTJkUB93qw8AIvwsw4kkyiOl9z\n",
       "9YwHeidF/3Sndkwm/h1kS5J6aLjpuUGe9eQpIQAAACkBn3t0R/8BLO7tFxDQxHr+5j6ZxZcu25tU\n",
       "gFqFDFEuNsk+dX1bLEmyoQAAACABn31qR/8BLfkcdv8PPKnW4RqS32c/OAB8hcv1F96iYAAAAQtB\n",
       "m2JJqEFsmUwIX//+jLACUA+5ZwAjA0Mbb3xOkktxbnxm9K48/PjbJkRNwo3vsqWtOxXqrjjWigWL\n",
       "AKudG1sWm4xCcrEHW3hL8MEqbIl8hnttWV9zwczEvrcHmirmusgkeOJ1lHLx1tpQ6DrJeUsyVJIY\n",
       "Cvwv5KB/f/+fwBHQvKL5baBDMEFHhiczbs0YWJgOaRlnlvgLL62pyb/4lzcHXgjUh4n53fr3zJ+B\n",
       "/E6z619Y6Upau4CAi44Z/lK1iKaSUKdbu2RaJrM83zHXO5vpRK2DmaE8dHD/JYTaSLbRNp8edFHe\n",
       "Yzm0NheNQ29MdnbNWyWRuAE6pCX3T7hHMXspz30cjf4/CaMiR8AAAABEQZ+ARRUsI/8AvwRGS0vx\n",
       "gDubLqsnXI7iDpeJlX8aHMYAhgCjvxz1XAtRZBSamx7iATqt2vZ4Ti90nZ9nnxZYjMxgpgUAAAAr\n",
       "AZ+/dEf/AS1PWeQU0FfoJMcYk6vuVFNGCpqgI1gAmRXgWZAcKGh9T5/DugAAACsBn6FqR/8BLfkc\n",
       "IYngXb5O5wdGAEYHrI2FlhofxamHjvUsh+sADsl+27lhAAAA6UGbpUmoQWyZTAhf//6MsAJQD6TE\n",
       "ARLSTuBtsaZsEIR3cHM04hTTA0wbMSaH5tHuCvVYUyeKDv9oVxkAlg+OWBgLH0trTz+kTgCtyI+9\n",
       "Du6MpiJerWNwmYi19JUISHfx3vM30FbePk9Vu8hNaBKf6oJTYqyTmyEr/aF8lkI3gexc2kTO4EKw\n",
       "ft1kN5m3mZRjTdIUyGMfcxZkpEmyDkut0n6P832UM1VtbikHRzd3SXiHJTuoA3r3wybMYnnenbJQ\n",
       "FcCghePH1MRHxhjp3b+IdtD6JtLWE3+w1TPhDI54F103iC2Zo7NC4ZRQAAAAQUGfw0UVLCP/AL9Q\n",
       "K4AC6BlDh5LRUWqZgNTQ/Abzw0ByNgsujtPjVE0AQuMRc1OOIvPqCn9KGxkYobQfV6aJpkbBAAAA\n",
       "LAGf5GpH/wEt7CG37gWXrnopdb3CTeZTZOwQAtwACT3M2+bLBMQ9Z6vfFlWxAAABCUGb6UmoQWyZ\n",
       "TAhf//6MsAJhSGS5gBYdSB9ogJfGeTp9DAUPcdbXLYht/SlOe0eozaD8EQW/ZosEXJNT4+iKUo92\n",
       "TeYqRB23waP/WnwRZ8opWyOnW/ozLg2TDlyfSQbVNq53CSJ0GgqCy8Jv6E9Vlr6np2hZK+ABCXDz\n",
       "f9MevgMULMBES2+nTeVPB2ix3A02ubIXJWQLQyB3xXMVpKLOtIwwTz+5Xn8dO+qjZ5PSIHu/lvRa\n",
       "C2R7hcNVay8t4T4PkUEIMAUuxJNVqPVvbnhljY5LIQSmSXjVydv2PbSPVr6+yuIcAnbuvnZIcN8X\n",
       "dGkfJa3SQcw+X/9QF9Dje+Z8sPsRc6HBDMzEsPEAAABOQZ4HRRUsI/8AwwYCFXFqw7vuGXJd/NqT\n",
       "7wnsEHkDABYewBELKcr6gSZX+IFiOIvotkUk8/dxZ0Pq3nuphugmaEgvsDn/mIRnIZtle8PBAAAA\n",
       "MQGeJnRH/wE2GA6fjbIbz01jgH7AAFmDiYORb4NAIBZ0MFlEAA3PLQOFcxZKN0DMZVsAAAA5AZ4o\n",
       "akf/AS2SYv2QAgJofxAAtPQ9K+102nOUZ3rZxMojoIq78sfoUh7L3B4khq1Uv9QfrobeQKSAAAAA\n",
       "9kGaK0moQWyZTBRML//+jLACYUyedAShA1F/cAX6ulfGKrz6iTplwQfdzXd8odmHzwGLpyH15734\n",
       "CwZokavJvlISvwvVBME1IPyyW7faddcdaCm2TuvZmF9rsm/RhyW9OfWRzNrpO1UFhFlnP+qEp/Tg\n",
       "d8pEXb/3gdPmBoSTLuPq5+f7aiDG14tm16H3MkLwep30dHliPaIox+kjVnzepLDxLBXMJ0SzRjgW\n",
       "mKTDVlp5xfwHCxwcod120A3FZm8vw8CE/n0z8s1ytC322uG4c41e63cWOFohpEX9LOQiZHf5tZO3\n",
       "MW89qdCnA+ex9CP229yUoAUeIQAAADYBnkpqR/8BNY5irX2FoqCWm57gAC1+Rwae/0tvshO2peKw\n",
       "xNbhEoans6i1nh8vKIrfVhCkzKAAAACjQZpMSeEKUmUwIX/+jLACYUyexbbNhGRLghVVIwdd1FL0\n",
       "9AiEEYoykySLmK6qWo3K4xfSNi/O15KwmhTFx0imRrygEiCPs3gDC3+uQePATdWImZgcL8tqqnAv\n",
       "DmMLKIMSgmXC3OQuOR7mElnGrKxLmLcnm8hO8Tbdnau1vH9e6YU9FkkoOEsgRUGhHzeiqLc7WrqD\n",
       "q5VUMnXsXYaXV3HM2g+VPAAAAPZBmnBJ4Q6JlMCF//6MsAJhj+o+0JACe2JetiDaouCdXix9uhtp\n",
       "u1kTlCBQBg973gWRilsU42WChMkQBtgY6bsk5sYdmkGSV96iy98IRf7HEdi7HJo44irqD5kFCYzM\n",
       "Qkqp26cRv6MySZBtUELuOC6+NgS67nGM6ruEp6xZjS5AECgE25ETT7ByoW8pBfSbOSj+ktmjXLJ8\n",
       "T5obeKBrgvc6liX8DVYdMCzM0+wnIr/kJoMcE7PSbuH2IzFxF7jbcwGVyt/US9F5Snderm+ZG+M9\n",
       "19UUlpaQkX43xx8HK8TTKLpYoHjXNQN4Hi/hhAs3R42W+1klWXcAAABcQZ6ORRE8I/8Aw6J5Q9vP\n",
       "Mj8SIAlH6WaCzsKTKwwAJz5GvHCwlezE82JHVPDkMi6tl/5PHEgm9HUTg/g+9fCWpeiLLHELUSjx\n",
       "crh0GVXe5tgmgMp2upWwwHlT+qEAAAAyAZ6tdEf/AS4E18x16/dAma7Q9MriJvVyLYBf0AJYQAd1\n",
       "PZKPj13lpizpJLVpRZYkvH0AAAAnAZ6vakf/ATX4IZllSR/TKazPC8XSu7WqVO5qbkW8GAet34is\n",
       "6ZbAAAABDkGatEmoQWiZTAhX//44QAktCJu4ABGR2qnazXfPAI9zwLnYJjO+HIeS+AphdyFWCCJB\n",
       "t2fCN5fB0yBF6o/3v0R2Kejl0pmYyMYbf9EDdDYovULphFkfggfSpPPiNq2PtYACT6zqwO8Lt5/u\n",
       "Vk8m/kUC2HL5drh7ttiloviaEyXZK/tPssn68Qdi+ZsA23j5Lxi8ZM4vBM653EiWpRo0lLNFVQWg\n",
       "GudnvEdmaKfLj8Qs3xmlA6JRse2dIdZ3B9L1imigDx2HsetJzhd46aLDpNWUz0L1P9wB1Dcs7oiU\n",
       "b/0oMtPBeTWVarA//yZ5SnKIctbLFc2oW4Ooj+DHIuHVPdh11JBOG01Tu9/8te5DUgAAAFRBntJF\n",
       "ESwj/wDDuguqeknGlchLhde6E+TQAC2OEmIbeXz21GFURrLfydLcXbIAHoD/hCef6IGCk9FNvee5\n",
       "Jc+WeeES9yAO+vCZfDBHtDmEMG/RVn0AAAAzAZ7xdEf/ATVfw7xBu/N+pcP4ACXUsYNW6gwCq4mM\n",
       "O28HcK3gJ5zSRuSmTnKOegmwQ3mBAAAAMQGe82pH/wEzfGZfzdjfu6+q3/nrx/sBV4j79cFTR3y5\n",
       "TosjIqnzG2uADVlsWKSKqYAAAADDQZr1SahBbJlMCF///oywAmFMtjOAC6jOPr+LsdeTpp/7LCKG\n",
       "s/tHRrkozzfBVG9iry16UIxkNsWQqV1HZygHqNyjs4BW6xz2Tm2nsC5YkClFsThoyaZVXrOXuZLe\n",
       "cGFObHwEQxCQfcNspm/eHSuFNBPxiITT7dZsjG3j8AyCSk8ZXvXhkThhm6RimSW5mvaHvluQY9F+\n",
       "QbNLbD4ge4/kpnXmI5OlqWN9+9ai94EgT5ieYT2pD8yYegKTJX3XsP1plPuBAAABJEGbGUnhClJl\n",
       "MCFf/jhACS7kNGvoAWzeeoBPJP3HvBkXUX2/BsMJBm0qaZFTDfIcripeuUorwRc6IOV5eSVNVgdH\n",
       "aAMa9dLzOjnBMrDyBCwP0TvQk4rHekpzKe8FzS3FtpbAkL3RoNKxdLAcClrUCImwOXsGdI7OhwB2\n",
       "3cIVPVi/rhwRqI0NUNAcP51hSyju3a6KV+nu4gFIU+SxNs2oh1b/TODw9x2Uo90Q0gg+xUYYtaNJ\n",
       "3yHnzYQUfVpqez3ot6BZX1KvAwDGCtTKpZonVZaUl7x0QotARYwgMrjk7epjl8miEReY7rpTvLAl\n",
       "toJwchBxfYUsu2CHghCs8La3U3M6y8IQzq9GsAM4hnaITf39mtZsUViJDkCdv5IWwGNmUFPGCdgA\n",
       "AAB6QZ83RTRMI/8AwoK1OOAAnbpl4tIyLohK9qIK+d/GtIl+dQguaLs2mtWc1VgvirQnCLVn87ZH\n",
       "LqmOR0kE47ntE+8ZFgnCXeoGTlZWr4t7aQua/XdVnT8rZEcVHxSApv5J8CFm4If9Tou5YAml4knm\n",
       "4J/sRHXMcuSti5MAAAA+AZ9WdEf/ATYaeCJylEi+1QSLr5AAWzPj/qOm84z2UWJLzRGprKvqMZlj\n",
       "E+/p27oz+LzSLuD2NliZk3i4VsEAAAAzAZ9Yakf/AKOYGuGzQ6K0ePaKlgALPes+mdNcgpykc6A0\n",
       "9/T3rJpbH4LTeYCLVssDhHEbAAAAwkGbWkmoQWiZTAhX//44QAktFMVwAHGFqGz0aWaVn1NCxH4i\n",
       "o42UL8LMWBarYSQeYhqPARvDzemqgAkfUSmv9o6k1Z7IXDvkpp4NKzYBCtU1b5CJVH9sI8LKbzLA\n",
       "QulBZqtk+SqchPWpq50Jo+ge38WcU1BD8svz+zh+ct4nmqa6bg5RoACSBef7kowBWnsH9gcKbjLO\n",
       "ye0rO0H3hOI3FKBouCYGZpok483GNLtNemDV/wH3/xfK9KT7takMPTWNHfDxAAAAtkGbe0nhClJl\n",
       "MCFf/jhABNPvUcAnMK/nAUH/nu/ckKHdTmybW5jDugYxevknjdjkgi63CC3DHYg4voQfzrApoMi2\n",
       "4ygb4RGR6q0UYj3eeIuYpM+YB8ltdW20r/r2iH7Jp0/4oYM8z02KrVE6993oRmNSpJjrboIxFvLq\n",
       "JaV/5skJznwGRgsR0cZ64nyvx1U8QubrBQKPbW+k1JwlIGIj7XD+Ly+ppB6kgAFxz9JmxLbnoAgE\n",
       "1cOmAAAA20GbnknhDomUwIV//jhACTKom7gAENRj4/PABbsDn+aLSrqYmZapAfGKvf/JmC2LY77u\n",
       "vv+W61CBGEinPvY+3ndpituUXIgRKNZS2LfqMnFF2DRT2bK6x8N977sDqw/FE5lrXR/xR8/S+WRI\n",
       "g3ZskghrUz4bJ2UJLuSNPWA5eGygXsSSP4ReWcnE1xOO+q3+cJGMcdX8EU/9jxNVLoT2/AxNHz0k\n",
       "x4uZ8nol1FCqA6Razz0p7YWAvj7CzKaf6wL0XezVOcRHVoMUjZvvVBX7YvXSg/7VWqg/t73LlwAA\n",
       "AFhBn7xFETwj/wDDj7UuEACbN80XJ6Tr83hZfX0pB4oAVJa8ERBLXCWfytyzrTy0Acks1AGc8KW2\n",
       "rSC/eZLmpT3mZuawmJluyMVWOaESQA1bUxm5WaU+620hAAAARAGf3WpH/wE0r/HMoALbsF5Gg7w5\n",
       "zazdey/ljT36JrYJFBSr6OKgWWUu5X5QTrYdye+MMboKF1kZP7dx96Qtlfn8iY2YAAAA1EGb30mo\n",
       "QWiZTAhX//44QAln3zcAZsBI4xuZ47aRgHb6O2IV61UArE074SRqilhJlRStvbOowIqyBo5WXMge\n",
       "SpuP/xdXuLRzHsUaiwl3S7XFEgKxpWETebgvJr8OmkmxdO/5cTnMTEN3f2BK8X6sarnnbrKMZpgR\n",
       "v0xBKeXexl3UicjyLCG1EVRYFZPexDv4San+byyqdOK/29pQRQHm3XCRfCG+wH4Kg2jnvUfn5WLA\n",
       "KujafNnLH7IqPXGz3pHLBMjj4ZIG14R15pKGlIevesMkTdGBAAAAtUGb4EnhClJlMCFf/jhABNP6\n",
       "JmKUAOS67AojHZI3ls/ZWL85a3KF79kwoNYzbes4XRt4S/NJnjZA9kL/nTt0D3raJ5NnYcPZQrXX\n",
       "paxTRa/3ha1BZLLm8vGw6tUTUZKt9uumGxFpFJmFiQmrDmp9afGtYCoKeLP5/ugRCTXEtKfG5vf9\n",
       "2GcxFhZiY1JB3f/71lCWf4KLsdziMsFooqFkm6luBttY9aGFY4UrfsW2bl4Td4hHw8EAAADeQZoB\n",
       "SeEOiZTAhX/+OEAJZ9DztNABzdgz8dB1fRHwvFkszgvq+47TWgslnkofiKpSQXZnZZAl9fenWo55\n",
       "JoEnCf6pgnJayvIr7fR6GoCvbvm9UeDoyfmlthiAtPiofe/CZOAD3mJFQq/2mDWxc1dvAKdlDdYX\n",
       "z2EENhCUtnl7OsIggS9SDNxUwxUPeGtreQhGU+GU2BTqco7u8VLYBOjq0iOWZ2r6M7E3JTh0z2Nk\n",
       "70vCqS2mc4oZlC0+aWfonwPS7MgwjkxKr8Y366x7JaSohYoW+7Z98tfPDkTO/+hqAAABEkGaI0nh\n",
       "DyZTBRE8K//+OEAJabYXX6g0AM2enV0PRv0OH09YWLAWITbLIu5xR9iqcYU1Z7GebJZiqqtktsLP\n",
       "jkeXVgtWjdjeZLLLa68KmgLYzy6OljAiiynZmp/WrfqNOeUcMV9wQjDWcA/8vB4k/6zIeXIg2vff\n",
       "eMxHh7DQ/EtYBltPcAqhOcZCgktMk77u/OEvq/4DTnZDvD6RCqqZii1nn8+cGj6me7gEQTU1TLs2\n",
       "JxK3S2PEFiqU/tkhTR+gIkTJDDfTZb17NGtryIoqILf+sEGrlkGWu+gVSWp+Xptz9SLYNdWgIO6m\n",
       "3Dm4pnlpJQERZ1IaWGNK4X507wJZLbAtqGh9vflbvm+PeomB0vrM1tEAAABHAZ5Cakf/AT4qs44+\n",
       "DO9Vtpx0ALI3Ee7vTp6BOetwYQ+0TU/l0daCAnUdtpZ/yxfeNO7CSNejsi02DxeL5dnO+kzvsXqC\n",
       "MZcAAADZQZpESeEPJlMCFf/+OEAJZp9sAOkdCRU77WDe+6FD5OePNAgnUC4B+8EcNue7SliuK7/6\n",
       "kCEIBVhmJFR82sKYfWMLPKaqO7WVAgy1YeDs1XiNhWw2+hPfM7QTM2KaZx1gqreLjXajqbteWN7j\n",
       "h+Z6SFdlIZ8w1qSPoPl4s0998rF2V2ERr1w2Er6NHy4SzJA3v92OXevo2LerZwKKFW/kCKThfuR1\n",
       "aCh/qqDux71VO5KNgbeskP64S6lt08eSXHVu6hZKoyw2wq5AMYduY/gMTudWT1VdwqusoQAAAL1B\n",
       "mmVJ4Q8mUwIX//6MsAFLO/CsPkAaxBmNNEKhlWXfe+m7kai78xMMAGCWVtbl/xIMrTToCArKZ+Ck\n",
       "10Fn0Yq8vCHyOJbEjMkHwdceYODYtB2tu1DBiDjq5d72gEg33pn1MzmR8zpvJTOEtowQmUVc6Ro8\n",
       "xyC4iBsiUVNnziz1OIhh1SobmH0FUAfX6rm6Dq8ehiODgjJTLLitM2hfIyOj1dnn3+0aCXaWcECd\n",
       "mOvrRi6cNKAuAmEu0AT4hlUAAAE2QZqISeEPJlMCF//+jLACccjwsSOAKw7bAmdw7KSuYP4rJfBT\n",
       "tKZ573fZq8v42WxKLi2OUpkGbiJXKVrVDFHY6L29nwUYOE6BigQ6I4kbwv2Atm+FWTfh7fvCP3tm\n",
       "4e69FkKdmp6XfG5VyTekOlezXmr0gWRwnqFjqniCjv4zQOESS4OygBYYO1hYP21Me2q6Q2BfXouV\n",
       "pbxCW7BC2fNTriBDnEkIVxLuSfUX11Vq3zX1dtFlBszAWWUqP9NL8StE9QLvE9jDBz1d1sWlN50f\n",
       "CK6z0kH0AyzY/aAvTuieL5tpOYRIOnw4ZD1OmtIOt37pAqZtZpwcgWRU+TLWOR4XXbAT5tjBzImn\n",
       "AEaPNSal8xtWU85cYbPqC+U21ufvXlEbvXIVTeYBh52mlqPUG9+0gdZwl5BBywAAAExBnqZFETwj\n",
       "/wDJRldKD5LDkCPhuoegAj42DnYBn6Ipmt5XkK+FeRCkLLzZ9Vge6BpWHTh5/fWh17AHb0j3uKng\n",
       "MU/wTdslNZvhlLuBAAAALgGex2pH/wE6R+e75wxrPRJ9Sj853LUEH6hrIzn0vfxg0Fb/8uKgI6/D\n",
       "gItUoIAAAAEPQZrLSahBaJlMCF///oywAnAPlB18xED+H3INZ1CRAC0S2MLle7jCv0iLrfhkACCE\n",
       "okxQwYqTVZSM3axUNJXenufXDKdYrnWDngUElHSm6gn5JWcziYLT2+DAxYs//opHQ54Ele00kt32\n",
       "Y/gFhbmATq/7XInR3zF1WQWNVwgy6aDZr4da88Oh4y61nDvCCiedGn7wI0Jh6x8KtS7YpXrrYF/d\n",
       "gnUTQnAQL7ZeYaWY3moTT7zU1m/1EhknTU44SS/99z4hkQqGM7jTlB4K2k+a+pcLApTVCDlgtWM2\n",
       "oIP5lJFiFFTtTZFAHz0h869bhvpLQEti98L5IUpZ6evi/PfBRr65tpJfOrGCuyxzWmew8AAAAD1B\n",
       "nulFESwj/wDIgSxV6Wh/R9q/fXe1Abuw20nTUtXJfgAJLpeBFr7A6tYki2rMfCDwcTOsg2tQB4kA\n",
       "8rLLAAAANwGfCmpH/wE+zaWoS/vFgyYoZ6uA8jx+I+EpYXD4AAugBv3e99ZHeAm7clNw58Tw1OXU\n",
       "geUEoScAAADzQZsNSahBbJlMFEwv//6MsAJz9Cr9IL/NHAKybyCHAAah3rZr1VufPLj4CndXfM1x\n",
       "oSLOUQkWbyUCKL5pggWG2RT1i/g2cCK/AHlUWHqoj6Ky8b7CrTueQFv5XAO6NKAt69HqhrJnhEiA\n",
       "jbZbt3UmesujCFWEFcBYTgjwtkCoXffPoRCve8tBKHbg8jYiVHyiiRqRWBOtk3/4GScl0cihwQwX\n",
       "va/6X1DizORSEOYI46GXr5G2P64Y9j5DAxhswCt2dHFy+cugv1WN5qAcPL4Mu40gPuLqLZEaBSUS\n",
       "YOqefkBCgPO1NsKINRoT9duO17w80nhYAAAALgGfLGpH/wE+TynLCIhTV+GLlhZwANSrk/vnCfX7\n",
       "qdfPayhW/D1OH5YSM5RU838AAAECQZswSeEKUmUwIX/+jLABSbNUO+Imktj/6MAHDHUpTbY++beu\n",
       "mHY/nhBB6jnvrWj9l1N5ENiqmpIWAd8tNdIyJFkTuQhwWka4N/tPk1s1xdi2gQQEtVxboSi+v4ft\n",
       "fu5ggwtrvnQ0MWahjw3noWByusZan9UgyvzCdWZUi+tkT3tpNALo5SrHItoO4YAOXKx1hVHXYpt2\n",
       "OZmGAAJSsncxE161VOX/aQIgmBe6PHdN9/W1/SUyxz9f2EHiBSRPX2ASldDi+A2MdtKEZtzqkUa5\n",
       "kRlBVFeEv4UzIIfn46npIvAIyhtcAxLi8nC9/+Jfwj2K/R1XHq+FYOeSo3yw21pgFDP9AAAAO0Gf\n",
       "TkU0TCP/AGQ/rftlOkAIRZaFRrT5hatSRJ+a9MsjUQWuVocsG0M9zpcYjVqprkYACDdHFA1NBeg5\n",
       "AAAANgGfb2pH/wCexY/JE9gAnMjYeT/jo8A1MEGWO4jDmcr04EWJ7NtA41uhlnmKDEqRTuEA98Ok\n",
       "4AAAASFBm3NJqEFomUwIV//+OEAE+AUSIeh9cbb0AQuUbvNJ44prSi02GoqzgrvYQ0fzPSZLmNc/\n",
       "FpHv1R/5Aauht09965Oqqtg1/7qIR2F++e92YfltavT0CV6k1L2XH7L4K5mnIzDpyYgAEwb3t0OJ\n",
       "eZlXr7DvVj6fpDREOOm0vv0VeP7TlHeCRNOU4NL3hhxyySt+ej28m3rOgtC1X1oTOJKKGsVbf0KN\n",
       "16m9YrZdMbxgGZxB36td0rWn48Si72cRd9KkBsReDoRdIjm0nkJ2mvHktoIFMudr6itOtGTKPeml\n",
       "yOTbk1gSA/ngrVamzW1Wy8yFrhEDiMGHltOyFX6h5dboF2HKQjCcRSXCSgInTZ4hCCHoI4eT8WTO\n",
       "ad5LWxj3/zbgAAAANEGfkUURLCP/AGQ/m2KJtONTwAbq1bjokyaz7BOWvP1gAILpZ7QADySqgV7j\n",
       "O+AJqj+HNlkAAAAwAZ+yakf/AJ7IoUo69P4yg34AqAF/jfQAH5OpygcV5a3bZivFxpEzURuRvUDc\n",
       "KcDuAAAAhkGbtEmoQWyZTAhX//44QATbIkdlWSkFQA1/7+kjrst8p9XM7O7V+Ysdhgu7P1gFOaOz\n",
       "7gxn7QvjGTZ6dU0qG7fcFQT1sNxhLepu3s3NzcQyt/NXberi1WuM1n0F9DCMDZOcGUPyv6/jHrxG\n",
       "x67b/VMcF6PY3r0aNatcmCn5b92L6u933JGAAAAAukGb1UnhClJlMCF//oywAUE6lunLADZ8nY8a\n",
       "Kqy6B7Vfcisxxryp0coSiXuo/xy0BP5XBS8MTj+UApm4rSqmnGnGPmrUnxZd9wjSxBUURest6JEf\n",
       "jJOVXPmNdvwUAije9F8uL2ravezk7pa0k8H+m+jBoXHfrviVWDhMQoxlL1yfizBBSTtuOCO+ZL/L\n",
       "Lj+LffaEup9FOMRx1YNxaZfYLB9x8qDKkJHAUmpBF3dDwQ09jzwmaNQGjgPNSQAAAJ1Bm/ZJ4Q6J\n",
       "lMCF//6MsAFBY1KFAAcHiAklSmPtec5xa8TMk56lHW8WwGgNTeJEPY4TkqFnUbUKavNTnHsTonQu\n",
       "KxpTWk1ej0rUPGS8sMQydGNSae8JRuUKiRfJlGtTF6TqgCT5Qq/oVgBCUtjQ8q4wne5ZoXlvmoAP\n",
       "XtqmPF/HyLEl/+45u+GVUHKtj+zZMoEO5Ly7zrGSSJbX4xu4AAAAt0GaGUnhDyZTAhn//p4QAT6s\n",
       "AU9M1azfhGEIUgBLRH8awudnvjnOodH9/YD2UgL5Gwi3p7S1ZjF5ncDRJR4JPDTp2EddmU3v7B0H\n",
       "QmKegYtWrWwTmPtVm/8eiCk9MpLEac61bHZS1TT9mJUBf6G8LOuAyEIN/hAzPpHwItMwlzhdil4/\n",
       "aC9DWQmB5/WFHlj0t466vm9cA+4ITiu0YgU3c8Wvzc7tdotfA5UjctIfnkGwiHJQjOxqQQAAADhB\n",
       "njdFETwj/wBlvQk25AATrIkqyyyGyW6WTusL/bJhtEub2dX9Vogq4R3F/Mra1moDD7qMd/Z0kQAA\n",
       "ABsBnlhqR/8AozzOlD0xK+ugmsJsOd8zeHTGUEAAAAERQZpdSahBaJlMCF///oywAUFEUjBrgAJE\n",
       "p+Ms778rfhWMRiHHsiiUpVYZeM4OreG7Jbw/eQ82KxRGk6G67wdZm9cuRzdNIwpOutjaU4ebbi8L\n",
       "ZOx6yJ6imLP0N8hUjTy4xxrasa7+DoG3bpTLnjJaX69KT5Y6l2j++L4XWOKlezCv6BTpOy3XiNB4\n",
       "m7TWMAPVXU2BdYPdrnXaXemmMhxWJcdk0eSNhC4Q6iN8zng8oOZiul6IA2TiF5A7PWD9yKLJB5JI\n",
       "yBxY5ai+m21WJX4yMWTgsxywoIG/yZbvJFAD6c0DSnhveLXzzfs/Ao9H+XjtYL50HRqsFokcIOZY\n",
       "ESN2Xu3jjut64f7PILv4wWsUuDrLAAAAQUGee0URLCP/AGW8/sPKBJlEtNv/BjyyyvaAsfI7zlgN\n",
       "rY6WxFU2M7sOEELh7XTP3vADikgDQ7Y8krJJ7yK4ivWAAAAAIwGemnRH/wCjO4O0LmTYwwABA7bF\n",
       "JGF5exH0gczjE/9ZpooJAAAALgGenGpH/wCho/vf1Co3Xms3KyVvNXrruU+NgAAfokcgI9AYVmS4\n",
       "epjoSeeETakAAAD4QZqASahBbJlMCGf//p4QAUdm6Fs8SaZRRKLTxy3oxkcABl7XTlkCxshIs3KX\n",
       "A2c9WURJ2dueoXuu3cIWTR2Bz4Jab1ZwAbkg6gCTFbm70UEsO2j+9HIK/JMp1KCLjTquZDvSom38\n",
       "H5YFv757slmFZdKwtV2nNGV+bwYxvZw2EjokN9G7M3ucG+OtAay3uq/zOH2Pq1fjLnSO+8CY72eQ\n",
       "wtU8ewaGL9Ql44kzoet2zW7WQx5if824I3+GEt8RPOkogLUcMhF5oVqfsMAdmGnmubyhk/P9daQS\n",
       "7oeEbvD1zDTpssq9Y4k3z1FMOo+GgaDiSRkfvdObGpAAAAAzQZ6+RRUsI/8AaZ6WP+mvP8XyDpAl\n",
       "Yhl22nGwwYxLbMgpQpiMNYHS7zt1jeOTRY16ODqgAAAALwGe32pH/wCheiihXAAfuN0xSZAsoTzh\n",
       "jN1dJM43NunPlPMXsdt6uolLyfz0DHP9AAABIEGaxEmoQWyZTAhn//6eEAFGtcKZQmaFRUaADTcD\n",
       "B+EUpkfOhDuGal6v79nmMmWQpIDvF/PpiFfHUpb1bvqmdiucAw3tPW7aiK0hF/kXGKesMFDZvwup\n",
       "xh9a+B9dDnMqShjpmwNhNvFu6kOZvdP/4gSS2MVspIHF1Br521xzIxyhjRqwYwNQO0WTt2Qg3XFG\n",
       "HdXt0S70VFi9uoIyGueKEE5z+VpEDXMxZx+pVGf1IvP8sOSWDQwUXiq4jBDA19bv/sxoieILyrnJ\n",
       "U2dNKqUD4L07n0B27BxYcVKpUCMmzzg0Hz1/HKb1iQzt7FybXSAEjhNIoskOeMtL3RJUYX+hlLzo\n",
       "OpTOviTypAHxlIB5/RBaNqspg+g36LiK+6JfAmb8oAAAADVBnuJFFSwj/wBnAnpF+wfjBvbwBS7E\n",
       "DnD9CwN69g1M88EtbMwa3m1dBhBavl1kit6KlGfmDQAAAB8BnwF0R/8Ao0uZCoiqnW1LyFhnisi2\n",
       "VGNuCtbqcLaAAAAAKgGfA2pH/wCjZfw87CgAnNMD0sYhW89fGCyYg2fZmgVyK/Zwq36+MuCVgQAA\n",
       "ARNBmwhJqEFsmUwIZ//+nhABRrQJ8YVe3chobfPcykSGqUgBtnGGV9+d/Ekk38JqEdgfCnGuCnyt\n",
       "7m/58WY7AEAS9MIO61talnYKt7SeK7h5SuhJYLbLCkuGf6aP7Ohj32s86PCXaodt+ijObGSbBs63\n",
       "zeWenlclfwic+plZ3V62kSIXEt+pzAHsFlw9sO8k4pa3SurUFPj0GAnzY2xB/hFOJ8n0hHRqKWtx\n",
       "hpo739l6fgv/pXUwFrfvFzW3rBPsxpW01pGu9U5XzNkSqHK6KtZDtxBD2Gp3OsV9fNtfUB/2yt/O\n",
       "eP5t2LhLTEHMFCFmUTjbHOYe2qpLOGipUjj8lnpMvPPEkJn5NZzI4BtJieHnnY4aFwAAAEpBnyZF\n",
       "FSwj/wBnI0r45ADWcJqqiQ+BRbp/HmruwwKjvA1sAiRMvhDfzapnNzqdITvISj2drrErptBbI2S0\n",
       "+SmEFotyftepz7o9JwAAACMBn0V0R/8Aoy5cUObFydvhzaOXPcWuMXzogffkU+cR4qmxLwAAACIB\n",
       "n0dqR/8Ao5X8LxeYPt/y4awXz4037kYLsebSpb0v2HYeAAABH0GbTEmoQWyZTAhn//6eEAFIO0Kb\n",
       "d4je2/WeEADg7w2cgadZ4z+R5KZPO1SAjmLgaGj6ZnLF7gqmorWqVMd3WqDpL1hN15wwqiNb2vuN\n",
       "ZWu3ijKFuXGO9D03RJv2zcYYDfNZKTBcShTZ7vQ23N3vqtjNPEI/+fvgY/zobXrvY8Jx7GjTC0aR\n",
       "EHFcKZ70BnjQpDUNQ/HFjUnmjUioFQhnZPJ+BC7wQN1nxmg4QbYHaSFJY0+9vWLmDL5viURr+ywR\n",
       "DUWNZeIshJfUjfJvyyYF6S8bsG5HaRa0KlrUoadywCAq80JMY6Myzke2ifSbNsE2q5riGt3B96G9\n",
       "MN+x+aTd00k9nxi55Vjb80Eh+ZAQ9rxo5ieuaNFPWzHBQWwU0wRGAAAAT0GfakUVLCP/AGmCej1N\n",
       "DSFrwSGnGEMdxSagiCyJvyhF1+PZOGn7hNCYFiREeYVTeF8ANs2KYVDf4XbQyLF+U11T27qiFfjt\n",
       "dibYdqDaDBkAAAAuAZ+JdEf/AKhcH8hCygdoAWo/n3kg57Kwdtb6gYB4tAYG+peOWyFitZ2kJeqn\n",
       "TAAAACMBn4tqR/8AqEsXIgnNekTqkHCE6pjkzVOkJ+NvGc6puBwR8AAAASxBm5BJqEFsmUwIZ//+\n",
       "nhABSDqLCZRiUf5BJ8qQAN0ujjoiM/tgBLO3CWfyCNmEYbYI2g42LxXn8m2fVMu63HfRSwdh12ZQ\n",
       "MOPHVN2s5euS++o6lwfBPcB5tpdW6JgwZJoBq7BYlzE0gz8bV4fF8nJUyqxWtkUuC3up9Vud+GLD\n",
       "sPEDfZ1zQYd6GbbM5ozRJXmw1MGCjDD9DfUApAtL8oDqmdKNZdhFfUqlAV/307AgRqzkxihCqRua\n",
       "fFpjZ/W4bq6rasB3zkQS5RvoBIgrNaD4CMV14cPs1A9Zazs0/eCa//jRcsq9rKK3i1ioLVWmxtuq\n",
       "wFBmcfh42q63XwtKiZ1I9qpyn6Eq6nlcISGLUb3Dcf+V9Sk2VrXdxETz+wq1WSJ1B53wHpC/sYbE\n",
       "HJMAAABRQZ+uRRUsI/8AaaJ6oiDfBaMSmr/qhj/I+53muRR++hGeNXeLdljNDPvEYB5VD1HcsADg\n",
       "xcoyFi2wagk3ZmHcJIf9qzElJvtYK18xsZUmHmDBAAAAKQGfzXRH/wCobVyYm5PKIj4DczZnuSh6\n",
       "aJLy2RsABOBc63gfIdbBz6mBAAAALgGfz2pH/wCoGCHrIYvtI2tOpCgDPRM2L+tC/88AJWkNjpSy\n",
       "y8BSLlEtQAl2pQQAAAEiQZvUSahBbJlMCF///oywAUv/h2kOup8YLCdJK6HBcAPbFA/HjdzGpCFp\n",
       "JFoUcmhhSlbB3wEK6TFPU/OVY97Ch/t/rMVvjEa8sLTFZNF3lEUwEEYSoZmEAmzoWMLINvPRJwaY\n",
       "ARrbEHN5iamlP/0QRNngAWl3huCJfbuP2rmv/JUFSaGnFTM3Ghp8I+O4fCydI6vXe4vlLcxCXlwk\n",
       "UUDNpa1TWOKTy4Ttyt7nXKCX/j5dnR7MclnZFFg6ZwBomcQZaaZQbniaEY2XUWF4iQRN74wgAAB0\n",
       "6pnBn4RK3GlD9A4jzjoCinNs0WbhItX/w92pDP0DdAweiqIITikRqBNvQ80WdYlRSj2Jjb0YRhp0\n",
       "HxeA2ZOv1Fhb5H1YZfHkgN8erjgAAABSQZ/yRRUsI/8AaYg3KB8u+xYulBQfmsYsdzxSIMzCldof\n",
       "EskUGRRBf/HPYh2gvCmAE5dBEAohMjobRNZcu6sEbZyUtS5at3HzG6eRW/rpI/GXcQAAADIBnhF0\n",
       "R/8AqApM8DdAkDABOaTxEzQUU51h9mxdqIkZUu22rXfQyib+cY0u1JwtfSq8IAAAACwBnhNqR/8A\n",
       "U8NaXpQYRlqjx7OVZI2B33FPPGQGcAAd27rkoW/Aa6laepFELAAAAQFBmhdJqEFsmUwIZ//+nhAB\n",
       "SOYh5USULuVOAHBmiBgqZo4mQYkpWO8Hn8QxEIjXcEQYFXA09VW76ugXbhY1SSOUGreoC+IEV5TY\n",
       "Nwqyo7oMygEv7vfL9T+EGQ9mm/7mnmNGDsqNne3uwifBEYxeS1Sd6iuyUywbfOz0xmjrOKr9SktU\n",
       "UlZHIQ/4s6Suq+5Qa6IeiPamG7TIBwcjK9V4P1kyBtdvZM7zAxyzRVC+H9+Kqfkb4y1IBWr2+kIy\n",
       "LGNO6vJ+5+Kd3q8byt7akXf9FQ0BkfywpLkdrDWf2o2NHUmCFtm2v7aO86K/3qWmqSwbXdawTahJ\n",
       "mW/8TLiHgk4+aU5dwQAAAEdBnjVFFSwj/wBpimHGz6eegAtNO5EBtBgKd3yxFCPPmPS9qsroQ4LT\n",
       "ofzstJnt4fRA9SzKV73lJHLR6bXkL5YPFRINlY6l0wAAAC0BnlZqR/8AqCeFwGKKmhiAEjjg8shM\n",
       "rVR6iPNLFukVNvul6+d5xfyBMEfojpkAAAEwQZpbSahBbJlMCGf//p4QAKido1iACGH0WnoKI5Bb\n",
       "+I3cB5TThF5SKySKl1Hq8UL1eztIff/2ZUNbqcplFFbdE56F2VGRk4XSjMml0a937K0tsj/08jxD\n",
       "fEnjDCXkiK2vVUag4vKvQRPv/HDUa9m/Z/LkKOhe+Vu9OBTAQSwZrqXLu/zG3mdkzR2zn7AGzZmb\n",
       "NamczwOClIzgd3bDSJRRsAP6LvMQwoYAoOfa0Q4QiP/s9PjJwrNvUTSyqNhFnPc2JeAFF4R7dxky\n",
       "VKVFr4AIb60PMjqQigkSXBa/uFQqeZAVp6V6R5VsopHN3exvMihkx3xKXD7FeIPSmCVx3BugXR5j\n",
       "+6kqiJBxjrtDqdoj9piqPWSyGNGl/8xGC1hdCb8ACPsv4+I9vbJxq6sK8mJ82QAAAFZBnnlFFSwj\n",
       "/wA1wrjbV4AfKKWD0DTg4HWxnsG5vGusbi20tP2zpdbmNIsRlmgcrFS8/wVYYxFi6Y4T3qBqtF0C\n",
       "YOmrc/YUiNQbSISlYgCAb0n0Seg5dwAAADMBnph0R/8AUuW0tcPf2P3y3EFYSLsju1gEWnc9Kfm5\n",
       "bCAAfsjlCiVyKIM3KGJui+w2qYEAAAA6AZ6aakf/AFLlUOrz8AAgAmF3nDFCagFZsPSa+Wz/S5WY\n",
       "Kp0cA5+si5jiu/mLgHGg5dYLrUeAhSqDwgAAASNBmp9JqEFsmUwIZ//+nhAAqJ2yk4AG9PtVhNVe\n",
       "FMzJ/5loZnCLZcHOKby4zrmzbqnpatJnPGhM4blbdE6QrnCpUaSWdfeUY4swg4Cdoc0X2UY/p4q0\n",
       "L0QxMiJc2urzikTanIaZGcovKkGdByigkuhgYckDSxywOXVgHaqD70a10Ne+hgg5JBI23500wAYh\n",
       "XnqGGHop34HThbvkAfhf6Cnu7uLBqAaLkf7mZzmflE7VFiFf56yvMko/GwCkmKOl6AmccQVZPnVK\n",
       "UGfiMe/qCVbBJIRHdFaz2Xm37AHJlLE1V4EXnfUt+n3zh9xHYJsquVOnulSBm8qdvk5g2eeFkD5b\n",
       "2YCNwTPvrkAHYK5HLV5ha7frFF1vsM1AY0q8ZFQvtMbk0OEAAABVQZ69RRUsI/8ANi3vAEScT17/\n",
       "JPBH+NqdsSqc517Vl+mfu2No3cgj4qHVsSuyE6+4PXk0PtuPCYDvV0daj1lD+IXywCYg18Prth7k\n",
       "pvRSsxcU1xRKSQAAADMBntx0R/8AU3RJ+dMAJfDXiCO8w82MBcPGTRbIcDzM+krZgRDwzLTphw3p\n",
       "P8oVbSKVrZgAAAA2AZ7eakf/AFNRSAOkyACdrDNMEiEIRz3aFll72ebX6hs6Kvaz5ls+Boc6DzPX\n",
       "Y3TXt9k5hoTcAAABGUGaw0moQWyZTAhf//6MsACpY/RgBYfUoSnvUInf3DWDuHt4IgNxfkuFyB74\n",
       "He0YVP6ZnD8aaSdL4Eq7i+780mfkOgQZ0gjx1i7ntFpMhGOC+6fws1sFLcjmWGW0iYha/tM8+9xU\n",
       "tLbt+fZN/d5V1yWzEc2rAiLPTvxYWgG11fov2EPozjH79aNAPTm6MjyF8VO/UiLmFa2JEZe5RiH/\n",
       "Ppz0qfxFeGNq7Pld0rnX5Q/Esu1+VfFP1Jb4V+ws91gf3hhqzfNAeh4gXxYB0GKppe7+Xj5XPlwp\n",
       "vrRZXrmUfyPJhUSoY6iUbLfevTHD6ubq7wA4NtofBewWQ880h2guixHzVYEr0MyN9YL33pI1v46v\n",
       "QvkOfS5Fg4xxAAAAUEGe4UUVLCP/ADS0ilhiQ62ACMHQEhbaS6SH0vy9pGHlb4wfNlaFES4sqHZw\n",
       "uHn458+gfLCqpGOfVov8qprxWQPLkw4aQkVR/tSatMIeJNycAAAAMgGfAHRH/wBUAMNGAA/TUGno\n",
       "NiVzsXRYI5pZ1sjlXsUpfYPClCl05pxRG3TI8LB15KmBAAAANQGfAmpH/wBUCsiBABOfTc7XnShg\n",
       "ntlrVaIBNUSssi/Z4878nEnsg5jFzomh6XaUgQhFVv13AAAA/0GbB0moQWyZTAhf//6MsACqb4l2\n",
       "stXegMjYhMufsaZTbRWUNahF1+fdsIPQfH+fur3v/KU0KE+l7x3LBZ8r9bzlnXU6GLb+ewXtvpOH\n",
       "SGjisf+O8AdaibdYEXPWgDbBQHdmm/qKJi4Zh/nBTrvSBomLniRnw9SsOjooBotUDMFi5ev5js2j\n",
       "x7pDNIx/LO2FljEH9/MxtJFh8k4WIwpB9K2OV5W7KsmLNV+B20g0JDs/+C2PscZ/PhyywAm2hESQ\n",
       "tigsOMSpUJebCaxB5qiSOEYIeA0zOh8SEI5EJtcM6aT1vYR3BAowXBgDjYoUqol1KFU2Hvy8xKtJ\n",
       "BpwNz6TRgQAAAEZBnyVFFSwj/wA0oPyECABKWUzmhq96AKXdverG+OCe/6QEuiQIapYQ89wPfWxM\n",
       "HBky0DZzW7oybhOIVf3ktRYpP72ajHIPAAAALgGfRHRH/wBS/QFbfRDY1kMio97PCO9T/ibX/SPK\n",
       "c7r2QIuuMqrIAINeQJJum4EAAAA0AZ9Gakf/AFQUJdqXiZje+mYkye9GeICK/DOaxA6cvM0hqPiO\n",
       "3AArW5vzfMJroorCyLEDOwAAAVNBm0tJqEFsmUwIV//+OEACjeB7AKSaGj90MAp9+7TGj/+gYILz\n",
       "9ivwlTqN3l3PI9zhjy6EhN5Xfl9A7fEi9zK4IjgC672lWOYXKqJIKkFYoBSDKi1YoxDNM+6964rQ\n",
       "Xq8bLhvSThFJd/0HN7ZqEg2k9ky7b8sqObkZqeKt4fX0G6b/xGdMHKnms9yUiDXLEAGloJ0H2yzV\n",
       "MhhUQLUZuP3bxsWAiLSgU3H0lxvHHeBvKDQYKnK3fOUxxvilhpYnG/rJMA/tsV+UyR6iKlLb4vt/\n",
       "qRwtV9VsT5vOqt/w/bGBgx4lkGTOFYyoeXClwMQvNYxqjACSx65HHbM80Inf91XSuQG9SOrfH2Il\n",
       "v48V5KODn6slwFqQuu8J5O85ik2wD25EbRvJKpPUQa+m9RO4ofrFOp6oZ6N+nSXQw7SN+IOEfaxp\n",
       "v4060Gm124ZlDNjp9tO0YEAAAABZQZ9pRRUsI/8ANgSxyUcthNoAgQHnczZK31qbzrVSBrEx6pec\n",
       "WsyzyYMKH3ofR2wYPNVYdY0hgOj7HvqRNbhCA40Sr1DDpXIW7RBaLmAymnCY/W/sUHFCZUAAAABE\n",
       "AZ+IdEf/AFamOABx51PxlzB5mitmFnhlWjAvLHET6C4KO1AL5A9GdJTOZ5cRWDCSGXilS532lF0C\n",
       "iSMiU5NRzPtD8h8AAAA2AZ+Kakf/AFQzaunrkILpIh/qd5b9kO9lztbbam9ACU9UuVW8EJQatBZj\n",
       "snpL4G9J4vdtgJFBAAAA0kGbjUmoQWyZTBRMK//+OEACjWUCAoZRNSYS+ToDsMyxuEVKdc2xRMRP\n",
       "u0W5P4QIwfGperk001EQ2vmljrt/osoUF5+M/eO/9Emsj5IdZO9evdIThKSK3f0pHxCC2+GSX/kG\n",
       "EMCOD+nTdTtqqwixW5OjxocfX7vH9rsrGZw3vsLUMYoYze3We4Nyg7/8gBUG+Fp7rau8p/i/dWXO\n",
       "uIOmHeP8VR3vZkxUCz8fdZZogZM7G4x9r7MA+1kOxX7h2V5qs0oWwK0DFu/iTqmPV7JtZjvagAAA\n",
       "ADwBn6xqR/8AVDNq4OhYQJJtLEej9+HtmS6L1dB386DDAAEzmhQwSdLKPPnUu7HvRH5TFnSQ8xH/\n",
       "Lheb2f8AAACWQZuuSeEKUmUwIX/+jLAAVv03py9+wAgsEFFRNIQZ9V7WReOc3nxjq4Gr0xa1sp7p\n",
       "1FFa8j/wDPt4qTeOS0VMEZtQ8XtEp4Cm6TzBQ1jj6yvKydYjaWVlPOViy6l/mggkhASGsCQdbCGJ\n",
       "kN+dg4fMhUevMsqaZUZbuCMmtbySDdzXUk1NN5OqI0u1EfLjaGRxeod46hKBAAAAtkGbz0nhDomU\n",
       "wIZ//p4QAKfjtKBU+vBZ/9D+Vh8KHOu4jkpacUL2u4QMj6diLeJ+601S4BXc66h3oi4wO23tsKhU\n",
       "3yQ5EfWnaP4dJsOYCol+LGgIt31Gk8X1zN41DsuHx5z34FXX6ZLqSlg60zXoSpFOaH2D5L/QdRMy\n",
       "0hSbqFGAIIkH5kuTKer9dtmd5VeAfx5XxKwii3Y4zLxEt6ubfVPhGsQ3GyM2y+hi3/lIW/P4uQyO\n",
       "1cWBAAABQkGb80nhDyZTAhn//p4QAKN3t1+qp7vKDFDapzEXFqs9QgBrKB4cH3opR+Bjo6pUADGm\n",
       "csSom3xWsksMbMkUhvXCbpbjgUigm8/IHMJWa9bqtHbIrFyqOAmbJMTJL3vxsFwBD8YUjaTWZQUi\n",
       "2a+NmTDt6XfQuYe69+NJ8BxaA6nlfUTquT/naMokYVMBBGY+ZD8nLlcCl/Hn4NcIF1KKrOWB7EWh\n",
       "HkAW1En66wTgdOLg2DdCOiCCI2zpo/rBl8Mf+lHTqx8oQoli+Nf9jSlpEPrBcuE6S+BACkXZeLQa\n",
       "UjNepIhn4wAkiZwRKeWZX88egpBmYLZjB5ozYoR8lUpMJJ1rEqnggxWYAYXrdrr8n//X596ajBJE\n",
       "TCaLxHoC6N+NPpWVAcgV9H7gfvMgqx60MjlzWQJinDTxTogymL7yf3zdt6AAAABbQZ4RRRE8I/8A\n",
       "G6Brbg4zUEdADX9f7VQ9YpfYVvDrlDkMvpgKb2BMxeg8xcqYKbHf+z6Cb4m/jSw34rzRVVkfv2+3\n",
       "bxEN0o6DOVcoeTxx638i/JJCj/Yc7KbF4AAAAEMBnjB0R/8ALED23ppLgAnDjmMxGgIDhhbAlDM0\n",
       "0Wj3qkOshP3k1P/XFrFJWLNs9X3rGzz0VAEcWhXGjhUyCJoYnoNrAAAAKwGeMmpH/wAsT6lIPS1k\n",
       "GfwuBXHJ0CPiCdZByD7VTdxXwyGKHP6oDaVSR8AAAAEdQZo3SahBaJlMCGf//p4QAFQV1iNZTtAA\n",
       "tCF37YQ+cU4VOlJni6Ftjfbpf73vNwll95I8YiCwnRhBNuwgs7oUSfrNd0XNqzWvqrPVo5dHtxjW\n",
       "5BMmVR6N1Dd9XQN/u2lRBVFMGTMZ/AgroOnGtN71n15j3/6u9jpaReJZjCt/wd4v0QLoqoXa9SWg\n",
       "DIAv3+1NCKJkWk6tyDXl9fQUtUdgOU29AkB37ie3a5XLeviHofkN7HnUhaPw+WmfE4jxaUrhu2WW\n",
       "+hk1vwSJdBDKylJ0Zl9sVsCZ6q9e8tg1WJkEtoJFt+zCQHvKXJ1HPzI6oSyicFa1FQYnDoARAqNN\n",
       "EIpLJaalHXaZ8dHhXJ6h+KkcXJAYyEt0wI1pVn0qQn+AAAAARkGeVUURLCP/ABsLKZtjqsdMJUjQ\n",
       "+u7l2DXedlmx0lfnDZ23NyT9fvZDBI0nawQ2lWPutWjNNoGK1m1xnv7JlKtMwUj2MzcAAAAvAZ50\n",
       "dEf/ACsX+CYaLgnIQwDgevGs2C9LlHYbaXCUe86E8ABZ1kdqvlnAOHJM2NAAAAA0AZ52akf/ACtF\n",
       "WsKv3RXqBo9VYh6/AoaaC30TYAOFbBJdC0I+Di/+BffR11kOn7f68D+ggQAAATtBmntJqEFsmUwI\n",
       "X//+jLAAVOqRInKQw4AhiDn9zYfKnpPGqsW/VjLymIedU4LM93UutBy5590aDMyJ27pjdtRKHL8o\n",
       "FY4LKh3dvI01C2aD1lynV6cCp5bbmwO6dgqAnwKfi872G0Nm36cKczUmLq3dgXua5fH2rUp/Jijl\n",
       "2duX5oIaoBd/xAnt/AByfK67wqqt2V0u3n4oy8b0QhVZijQjhLukDAQ4qc6FFoHG87v8Mms3Kxi2\n",
       "kAPiZozBI3rBXlqalPJpIqva4vypOW6l7zNfxBuUOv6Mi0/6U4fP6h7c8a34D6Nyz20DcjQS6GvD\n",
       "vH1OHTefbC67Ma1UiTM4UN6JCtu3XpSlHiBSciXiVdyNr5pycE/cSbhgnGEeOAc0SwXFBaKpYBpp\n",
       "LlAzcu+3C3i7gDJAb+81qWe4iqkAAABDQZ6ZRRUsI/8AGupOd76eJGvEfuhKR4e5Q+uAQBw4CmLz\n",
       "Noxpq8ouSZLdgxAC1qYCtfR0oyrHAlUGxyXl9E0PJrTAwAAAACgBnrh0R/8AKqn9YSHylAfnCQ7K\n",
       "r2DTFs3Y43uWBIP4JnjwGstbGfH/AAAAKAGeumpH/wArRVrCAo7RFAr6xNsRCvG1IZ0IQ+J/Ly7O\n",
       "PaRBSVJQlYAAAAD9QZq+SahBbJlMCGf//p4QAFP4g9OoAWzHsHDtEFzQHOiLtIfS9Y0FuxYzkWYS\n",
       "24Nfm0scXriSqpLcejhNkHObfVMKdBsisAzxTag3ZG7qjpdHwL9z+9ecNXBKme3n2eHuyo9lOXSh\n",
       "Pnk+xVF6ZYZnGGuwnSB78KfrgdFjvVtrmaehxWYBrJ/OJG7aPDZF8Xo7XsCChxARaPwaSQyVjw9q\n",
       "VXChqCqj3In4xPN4+PpsIrsG9C3u79OV1k9G0CXNoB8U283H6lj/Svhau0mO9WdaGK0BiPm2I1yh\n",
       "ZEolQADzS5Pkw9cT0T7Nzt2t18dbsF0zUOAfA6QKMKPDU648qQAAADhBntxFFSwj/wAa8iD79BlR\n",
       "XZ9AR+RKDhT9BGnpDlMVKMAKz6C1wAvkHfvQANzBTJtiiKwRRZ/WUQAAACQBnv1qR/8AKwnMZ+6b\n",
       "LKTqMpbnJ1xWaPJITzPCOtGygbdTek4AAAELQZriSahBbJlMCF///oywAFd5lyrv7wnfVs8AIjPZ\n",
       "zCp6D92mxQ3tDhSRn/40f/LNRUoVovfU2dETOs7V4Dv6By0/tGF1VvTka7zqD+iyjTqaC5N2c5+6\n",
       "z/zkpQntPNBdxoJ2p4hFvNwVW3jfwszHdhYGwhN1dFh5+eS8Fhq9FkOWqqxHJ6K9+AEYJvc81PqZ\n",
       "5YukHQiBiCSodc8GwTVmgnkVlECLdRdNILhsA0Q+EBC8cErK7Fal4pcSTfEQ8mr/ls/pisApUACz\n",
       "b+kB6yS71iSUTU1IVSYS6eTa0qzE+c04ULJqUGCrg1n1xnT58UPMMK/bt8F8E50q/B3O2JDU3cR3\n",
       "RSzHvytk5CKOAAAAO0GfAEUVLCP/ABqveDpjfmaI8S8ANZ3ZxWc5nWM0IUIgq3qcqsAPBYCpLbtc\n",
       "AJm7DtxKDRjrpfz07IeBAAAANQGfP3RH/wAqmdTDxJhkAJpojzQLNJakiT0TeA4uJqtHiZvLfs0b\n",
       "ObpimRLJqd5bVAvm0VvVAAAALAGfIWpH/wAsSGQWVY1pn+oCftqCdlxwdrMUImRI0ADsqnHdtzrI\n",
       "Qjr6+YOBAAABI0GbJkmoQWyZTAhf//6MsABVDtph4uAImBf0sDeUEhL8BblWmq8RzC3LgbvDlerq\n",
       "3BK+rq5IVRYZ4KmkbfiJQ0eN14ffNzUP9UVUzmvlvTMzSsl8d7KaQkhcycTb9Q85Q/lmJAEdO3FO\n",
       "tyCaBgty9Fzdx0Ow8ifWSDjZMsKUofpYmUFhLXO43KnQ3yT/Hf4/1aFnNgrTzJBaWkZArY8j++7d\n",
       "cPBSZKJfsDl2ol8SQX8+MNfhQPzlu1MZXb2atueLlxZXNga/xdvCNeQLCH62mxnQw0xRUwJ/Oq0P\n",
       "PO34SX3fqE2qczJOJMiMY0fKVo16pK1yaQzI+VdAC+x/qt5E1HAtVS8UFU0rS4HE6v2Q39ziShux\n",
       "YWDWfQNPFJFmZkm/3+4m8AAAAEdBn0RFFSwj/wAbBVm8ALBkxfnRNj2yt67ORNl13CZ71A4e7ctp\n",
       "xZnd7LIvj5V+nGfLaFCfyAM2ORu0YaGRlDe6OvEnFBv2SQAAADIBn2N0R/8AKzORRiACdjxWcXDc\n",
       "F2e+lu2jL8cY0B7DA4nznAN3rWp+Lpm7FWV5kG4hwQAAACIBn2VqR/8AKheo9Jceft3dMCCrtNv4\n",
       "B3R/r9j56k19fuBbAAAA8UGbaUmoQWyZTAhf//6MsABVEw0IKqwAsPFKdGUbQPw3Dr9QTkZ5BT3j\n",
       "Fn6PEoIa44EBrRhImFWOo95K4XGHrAHRcapwQjmJc5EA/G/35pVH5ADczyk89ib1XezDkV8vurcy\n",
       "B7r13rLe87N3gyYGx9KZpWpQpF6PtXtiTB1Mfq+aPnCwBl52CXq4QG+w+s5DAEw1tPzitOo1cMcg\n",
       "Ud8cjIZs1GXNQwel194oEaKYmKksmW+CyleW6Q6dxzjUqz5Of3XVRP4kzKjAE54o4S6rFKUxZPCq\n",
       "YCDQmZi+laLRZAx9Cuz0tFt1YlkCfMuND/AFgIEAAABEQZ+HRRUsI/8AGw5wh6AAWGBpCN8B4gOu\n",
       "EPBoC96RfCrsCznqGQb/Q7Fsv21quvreZXPf5C9DP4u82GLg+taSANqQtPAAAAAyAZ+oakf/ACsy\n",
       "y95AC0rXC5ReCfNAFNAhtKWjBA8OQos977J450g/93o1XgzQgwKJTLgAAAEUQZutSahBbJlMCF//\n",
       "/oywAFS5ZgNynNYVZDq5q9cnwARVzRpfCRD8XBQc5asIL8vRSCmlCGrwIztFzree57NWZFYYesTg\n",
       "jHcO58fOsNPycEqao8EUK2GGfOnk2RthG1/s7J92rzYQRk3EiVwz+ukh7z95do//GJKdsvaHgXwo\n",
       "JqkEczb9qvJ2lVjsp76aPT8riM6KYAykijlJamOmF7xJdQSxfx3W+MctbBRLVioYskrews1NjDFE\n",
       "1aQRG0q27jKDwdyk/Sc8Ncca8sn0/hkaw8e/iusoO2RrUi9mktwnJTxQwHHIBY0aM4Muy9mBN76q\n",
       "E9KHYG+mMQmhOZMd5CL/9zFLVd9grl8XJwBEubvSLEUWPetVAAAAQEGfy0UVLCP/ABsJhYuZeh6z\n",
       "9jBE0cgAEpgEUpRqE12voVF9Ixe00lNeYG9tOB4rRwbX36DpQCHvAJdojtr9HbgAAAAlAZ/qdEf/\n",
       "ACoC7xyQQmqwPVf5mnxwS3YjOuOd25OdOIYp32kjFgAAACkBn+xqR/8AKymnt3QeF+0bCcbRGkPL\n",
       "Kbq6Qq3m6JzM1gu2HH4znYx9mQAAAMxBm+5JqEFsmUwIZ//+nhAAU/iAxWr7Ob1hZpAC0Tebt+UQ\n",
       "N4aZLTTqfJ4pLHtQKAgDZ8zaPiwicTy67nN/OgvWhva5raFTSYqGipn4uBRKbTNuBGGEqJHo7adn\n",
       "GyD1x2wgHgyCcfv3tjctM1LwrI3XnmxDrGkjmqmYeWGlQeOnvTK436vNFhp6CjNv1g45BoX/BqGe\n",
       "HAmg8YHETOdbtgV8zprC0V+D2z/8CRbRwPIrC4GH7cOrVPMjBn0mQx1HkYxxn29o0kbzckWYUYEA\n",
       "AAEtQZoSSeEKUmUwIZ/+nhAAVCQa3goADi/VMqdH32XUgL5AmbKeIyef1OAEVV85or7zvsds8nyv\n",
       "9sLGwX/qhbPPAH8d00YLQt8VpuL6PWzszHjbxv4FdEnQSI8XKBjkBBZ6fftPc4ognYQj/NnsN8j+\n",
       "E+AYlXnmKnsh5m0UZZrgXaKD4W0s/YLlNAGhWphUBsGOCYfK5neaOznbnpUCfaDoOcq8UaqIZgMJ\n",
       "NlJDptR+RRVW/FW5kKn1+OFVC6y+FrysJ7IakqYL4zfe8s22V8+0JH1HACD1NvRDYPAiYzqIZ4ad\n",
       "lilY2S93Yb8uyd7mxnZU0Jb2JV8EoWnL8NoT/HGVdQOAhzshxD+QUsvIZJopKZVcB5hveWFuIguE\n",
       "a0sJ/ue9h1rRvHPtijLFqzRfwQAAAE1BnjBFNEwj/wAbBnOsZptMdaNcNBvBAC3CH6qSpDEwsCA/\n",
       "zE1HCBvK8/v1ENgUzHUBjCgVPkmEmnCnY28P6TPvVGiUvlhfW39ejjInKAAAACkBnk90R/8AKyK4\n",
       "YWUGXXHQlmFZ8zmZUhrz1KZ+DZvW77B6xg1o88YnQQAAACwBnlFqR/8AKym/mfhH+4b73iYzneGs\n",
       "K+zNIZapj3G5bagAkAAPnICt7xbhdwAAAUJBmlZJqEFomUwIZ//+nhAAVHfcwu5cvahB2sxktdQQ\n",
       "5E/gJhwGKzaCX2fYgdTdp8fB3slBuhNnZmnp0ehbGo7x1sSMuzGd5S8B6UWs0mrsZxHx9KSx0cLj\n",
       "tXGS4kOQzqCSc9tMIGTRgoJ2+bxlR26oxQPdBlQkpUmy7OGA1qpWWmrlK29Jm6Er7snMmfjyCpI/\n",
       "VtuASBJwqruQcQQmMJ9CzxF4ybcRaTZ+gUjKjf4nn82GKD61CdnUg7hzrzO0Hg45dRfr9HytCNjK\n",
       "b6IDtmPZy5+xlS2iMxpNqj5aDWOXErmtQ72eYOvqa/VEAgHXzvkYPovXtV46d32im+DDyF0HBqz/\n",
       "lLnzjyy+SpAGsgYmLTIDZ6VaYfeGizvcpLbrP4M96XB31wVO9G+GSwExSCWoauS8uyyXFD916utN\n",
       "ybNihHpAAAAARUGedEURLCP/ABsCf10Ze5HJNl9PABbCrW/wj9Gh7Jh/bJ9IWO6cFcpoHSfwTIi2\n",
       "+0dzd8zt+qGSLOmvVJEnBn7R7prswAAAACcBnpN0R/8AKxlQBf6km/RPC1iYbDlacF9bKtVqub7k\n",
       "y6+GxZ0B+m8AAAAwAZ6Vakf/ACj5tQrPhphDJ1YXHwsPjtjiPpC3FOaCO6C3JQAHfDSKjk9IKsCS\n",
       "YseAAAABD0GamkmoQWyZTAhf//6MsAArvvww5N/MwAry09pcqJl3YMXe8S7bAw2dOD0asbTMfQWS\n",
       "YRXd0LwkDg3uba96XUAxLq2r9RwbG7bwXIDCO7IEF89QM4Wfke9kKcP5bmFPDzaERFuiYWY4CROZ\n",
       "duDUnH4EWHYjZTV7DFJaZ9pfUvOPB4pBuQsVLsJ8LEjALPELcq5GyuWZTpFCb01rTtsoBirCP+2u\n",
       "TLwZkIP3Bu5682U88m1yFj8tF4JX12Dy5KrcwaYkYvDHMWTTbAua8T2odH6kVbfefiGcso+e3sAT\n",
       "0I25Tk95WXS0r2AIjBkFyOGgCvz99oDonPm7z8Hhsnz4pDZj6/lpp60cMlGf/Vj4sjEAAABNQZ64\n",
       "RRUsI/8AGc3bQG0Ppd3HgA4nkCzPgxIBBAfwOwLUUKQnXb0zk1hXJyAvOvTXEz1mOs9+Rc/ktUQv\n",
       "jJUgTcwVhzCYBkrzx6az98sAAAAoAZ7XdEf/ACmUB6OubXiVIv+opdAszUbdKZ+yIhhmzMwAmK3r\n",
       "uF00wAAAADkBntlqR/8AKZQHo69bb6jnScTDJa0/V0QIU6nA+VbxlByTn3xzgAJUIWZSolWcM+sm\n",
       "taLWbcObjuEAAAD/QZreSahBbJlMCF///oywACpct5GAEWphf9F92Uf9iH18rkvbvD7HiXu2zKnX\n",
       "wcnWn8K1A4rGp+7+9l8GbF1Bw8qcAlGwiUAmG0iH1rDN+rFsv3dvGvFWtwzB+o8XtW3tGnGGPhPZ\n",
       "xRljDoUciPz62lFmFVBf6y/Goj3Sf5y54W1euTeRgXflD7Blmzs5cG+/JSZbZLb8kZCP2zmB2bkZ\n",
       "QwSa8dhBRMSbH/LnwN8c6Hypng6W/7Zoa1dWDM1C+taepKJ4W9RBKZzIVAAoAxhUrBwd+j1JOIQ/\n",
       "Qf37mXwTi8KMQw+8Z9yK2vAqw7FMTzD5Rr7pnWg9/bVAKNMf28rQAAAAS0Ge/EUVLCP/ABnN20Bs\n",
       "5NcUFwAH8Mp0hwPuDIT6t5aWuGtq2zcrbVVucOJ7r+YZAoMeSrkEyx5D6dMR0G2bNBlj+ZtevRjn\n",
       "49AuvQAAACIBnxt0R/8AKOLuSXgvB9SgQ2ISILaMB6PdCyqQqiDdzpVBAAAAJAGfHWpH/wAo+bVn\n",
       "+CjaqHpZ6Xp4fmDCG+w3Iq1Tm9OSPiyGbQAAAN1BmwBJqEFsmUwUTDP//p4QACnwONGqs5X0LHAD\n",
       "hzfhTh59XQd2iJ03Tp/85sFIx6ZyNTo+kPMIOvKHRJS0goXNAxRzHHth+JvaGKkoq5RXBeGtEFvA\n",
       "7Yl1nb3MPF2XLFKyklU9yIlyZzXKccPJLDsZ9Vyzr1BpaQrq15LMB7jr6wDsXc5cWE8shjHOpJ52\n",
       "rbF1hHKLykCv/TVxbXySksZALEj4FptLupZFwzniQfx9aO4SMdhs47V/7K4rfUmxG2fqsGeRAIbL\n",
       "HYAQ960DJQXp9j+hQan+ddZ3DKOnQwAAACwBnz9qR/8AKQQFDt3th1J6XNUqmapj/LV/gPGVcexQ\n",
       "oABcDH8hlUirY9appwAAAS9BmyRJ4QpSZTAhn/6eEAAp8iEBRjWAUAOFo6iEh6v3wjEyJ0bVIOyI\n",
       "Kz6Tdx/VddfRg1fYjeeTZE0kQDXByKu/xOCK5UVTMJvuJL23L5J6TibdMg/EOsDPT6OiLqyChZz9\n",
       "+y8mAA3MQw3A3lUtm3lP31HSwsb9mej23e1cRrJGZJiZYAYC3D/9y/uaR0GncBxPHHlIBsBxSDYd\n",
       "zfbbC5O3ybDqzosWPNhgmDSzGdBe+7JsRzsubXnRcE2s/WCNR929KWnpkWDAqkcl9rKb2ho9So66\n",
       "y9UlSl2kuzJEh3w8LebxDwnf0+BK0QHptk1NG+Z4bEhBwEzZEiM4QDcjm7FwgkQpax0bG2E5doAQ\n",
       "rI1o4iIeSFpq0RFqz8Gx29TIzIYMeKjifL8aQOFXOKfqdfQAAABDQZ9CRTRMI/8AGcvjnlhD5+cu\n",
       "TSAG02r8+6hVmwYrCwu2ToIjLsa7G1kuLqB24XGbAkptrUoMyrTtwz4je7NLa7pfgQAAACYBn2F0\n",
       "R/8AKOLuSXmfCeZeWO5hJHVei6QAEq1kL4NHClyyNnqIEAAAABwBn2NqR/8AKPm1djSENt53imBZ\n",
       "KbDYHAJQuN21AAAA9kGbaEmoQWiZTAhn//6eEAAp/ERyMAC1Adv+i+rN/ef8YzSVmpolioGV5jhc\n",
       "+xkxVtuJKA3+pJur9oC926gk7yQqLSm99yn0j8/0OCMXqFZXPWLBdYE46XDy1kbVsDP6g7kLfP6A\n",
       "4AKABh8+4HB5Ny/vtG0xjfn4jzBGbdYMzkN7h2w9nsM08aM8i3tGFwGO/z3elzDohfyIYozKptdJ\n",
       "ZdVHH/vlDhDbLornDHDVTX66tEZeByAwJ8yO8B0cfrBQrRnpmkZe2KLsEQAwFIO1pCuQKA0mYm8v\n",
       "nDw7Q++Nq+2jUQV0tc82za1wokkWoTdnW1ow0WFUNwAAADpBn4ZFESwj/wAZzdtAZqdyhu9LOzxT\n",
       "IdCbz3dxLX8lwYNK6venbywKHMIihjIUSbrlZbo1Ojq66g+XAAAAIAGfpXRH/wAo4u5JeZ58KOFl\n",
       "BukWBxfz/hqvjet+BztRAAAAIAGfp2pH/wAo+bUKuEK3oaqBoryK/pgVhyRQvw3444i4AAABEUGb\n",
       "rEmoQWyZTAhf//6MsAAqeB7AYdijACOAZadHOwzZAVtwLUJv7BU1fBoaOqW8nwqMR+fcbeVz7aGk\n",
       "DkagnnP2neGL4K04EBeWFKnur66gcggiNg8qSyopwFqmLyxevUFWu3k1hgtkrZ6eRGRgQVhpQvqT\n",
       "RbxDTNaJVtV+qSXtu+iLqKs5252HonOptkCecinm+8zOKIOo8s4B4K1wkFev4FdiI3J0Xzpcr1qI\n",
       "fGzTTznZb+1oKtTP+uP5c0GkY3tjlCAgZFyWPx38hS9zaC4rYF4DyGoswYa5Drp/Q3mvjsRntC0v\n",
       "17qZbRaALKBxOLUFHYyO+lq59O2COR04cOZUKXGw7vuEo5OiNbFDc03wdgAAADpBn8pFFSwj/wAZ\n",
       "zdtAZqmWxqJgSFFoENKSC6wymj/gfNh5a6WQ5MqKgBLCAADTwnhbiAfzT0tTVS8TAAAAHQGf6XRH\n",
       "/wAo4ukUKVJYhS1NkI4yiiy4/IpIYky4AAAAIwGf62pH/wAo+bV3I/ACRTx9KbBUK3NgfmmxpzFq\n",
       "6QGkiZThAAAAzkGb8EmoQWyZTAhf//6MsAAqTKXiKHvOfQBQIHmjWb7LLqNdmh6OEuNG/xXhC5F+\n",
       "1QJONR9rp2XLSGkjCmUfoLryjhn2r5fqkNHQ+tbbCXyXDbaummkDj1AQsXekuldM3cnI/1u4G1ow\n",
       "NMm+kjWVksmYKjha8CUU5vcWPgWzjZDWYhBVIh7VURyPUn3xzPwsJHQco/n12ed5BdKAgWN95V2B\n",
       "C+/9+Zsr7X+cSQNDH86Sh9e8J2kkO1VOCV27GVRM1tGHH1Jh3YDQwLJ5QqqBAAAAQEGeDkUVLCP/\n",
       "ABnN20BmsIMuUEoAA0u5GNQJvuGm9xITTxavNueUPXuJZYdjwUcdwXu4pFF1+AL9jR/qhuQXMT8A\n",
       "AAAdAZ4tdEf/ACji6RQpUh4q8J09LGJTZRwf3dtBIWEAAAAeAZ4vakf/ACj5tQtCiXFEB71XARyf\n",
       "SOznOFcUOLtAAAAAsUGaM0moQWyZTAhf//6MsAAqTMmQRsAVhTPnZDPrpv69udU8Itq9L9na1L71\n",
       "R3YPNSQWVXMWo/4JlPAEXOOkml10Q0RKadZHYnpzlrjCWAL0Y2le7TxGo8zP1PioWy2m3VVC2i5V\n",
       "N5y+TJAxRwUbE+FWKS5RNnxdPIvvhtihg36i/QKRgLyZsJAeNM+3Ga6fl3zbqHyzA7rs3v7L+oEd\n",
       "ov63PbbdNh+OujTS/yZfwIG2lAAAACtBnlFFFSwj/wAZzdtAQViFmBErvYnkPMse9kmgXtFOb4aD\n",
       "6hvDSe7WO/3RAAAAHgGecmpH/wAo+bS59FdWQH5lIXC8i12gyj+VuAMMsAAAANVBmndJqEFsmUwI\n",
       "X//+jLAAKohwNnABXnVeQtxxIz0MaxwkLrOu7WDUSKvUQhum6NiMw0WXhlQBPOHNyk0f8GntpEbq\n",
       "BWgu/cXMNIRICVGWFwHy7pHdzOvFs71BzUStbaUNMvUakVs6Ql8IATy5+h0gwjTlJcv2Urh0Yo+j\n",
       "d/WMzEEFCxHZM4JHbtLiWhyHVmk+NBqkVPZ+4EExZagTz1Q6mfpTklRLuoLb6z/Tw7cJPPflAyRA\n",
       "U8AdUyRK8z5mjn1GIzZmhAxRXNmz3s9lrX6sdU56rcwAAAA2QZ6VRRUsI/8AGc3bQGw/EJLbMjUN\n",
       "EWBFh30/49dqAKDDvUePs1iQrPeZoFIfeVy5yX/CeMqBAAAAHwGetHRH/wAo4u8kJjy/D8e0DQBZ\n",
       "v8O/YtNQAekrcIAAAAAYAZ62akf/ACj5rmFPFhal3J0XqO09I7EhAAAAzkGauUmoQWyZTBRML//+\n",
       "jLAAKljMgAjgxLiTsNOg1u8MIFsVxAer5UZpgn+J7EED6QGbkotE1dU6WwUohE8NsqnS/nzdFxwC\n",
       "nZYyrBd6OVk6P6TMOPDFijYoKKxcr7nMN122OoX4MxC7FHFRVgkyrONTL9GDhNri1vVl2HiVhntF\n",
       "+j4ovrDyHt53jqBaZfJSffDhbKnX7QwB9iaF18xY7S2/QX6b5gnp2IC6/t+NucWZtAz+c5jv6vup\n",
       "mrQIyu/7V1wYP00oYKyzS4ttXhgNAAAAHwGe2GpH/wApBAUORsJDKTtuxdQb8VySPtKpkg4HGWgA\n",
       "AA1pZYiCAA7//vdOvwKbRZdqA5JXCvbKpCZZuVJrAfKmAAADAAARsG58mdf4GfrMDEy8liuSyHB+\n",
       "lKeb5X8WBIkcf23V6Gjfo+islv+bw9QWzZXOKPSYq+pFvthh3IdeHmyMswVGqbAAAbKwF8vu1wM7\n",
       "O46aJsNUIJvc0/1UEs/I8udwZ5QVWfiO8CSgT47me8+OBnXcj7DztHbFWQTbsKaa7Xrs9KJowBQx\n",
       "9UCjzD8lNy/Q0vn9r6rVmDirSZfhMV8NuHcedPt+vKt0lsQeImcVdlievPi5swwOc+ABq0e9gfV4\n",
       "GODF/OdRyGFUxXbzciPr5GzVuY2iCO7fO94eIPKLOxtO1MqJino1dL2T3EqrmRA95GiVkReqwPXr\n",
       "YlhdPOdxGZ+q/aAd4lfKVAXmN6c1OdX2xB9WWINMu+y29PkTC9nyH1/QfVrNd7vgmTbuKRjAMeSP\n",
       "9IZqWHOgpem8bzX8u6MTtMq9d1qP0NfuVf8KwU0X7+y4AGUnXdwZVB2F5308MzzWkbJu5Z9h9oGT\n",
       "0UhUgHB5qNphPmQL3Y42++0z1UJRfqPvDQzl3fB38vo0+3V/zrwvZhHkK8K7cF1/y83c2rPpqt1E\n",
       "h6a6YEXS01MMAl/K0/cDQlS163RBJ+Q6cdH6osBRVBAtd6pAJne4ktKt1ifAqKqv+q5IAjns7o8P\n",
       "ip9TwKEwuIqFlTO4ERKPZ78jE3kHegdw9rL72OZTDuTCGlfLW+9Qf2Zs2ZM++myOpNMxR47VLcU6\n",
       "FSvO0Zm/QvGLKvIzz5/s1Y/K86n4p43jwZrAFEVqZWdQQywNFj2/+yFj0aTX284wqN70ppAlsjHq\n",
       "9LREDDZkn3FVnX719em9HUjBpxf03Fc3HPDnewa2PnIF1WR88xMB8PR170o0PtlL3O4el7zruMFS\n",
       "zyXjjgqIHVimmv/Lp90sTw4JvYA92yPwbHw8OQrowD8OjpEbIEzORuHyNGDfZ1gBkoh32PV1JP2f\n",
       "OCJuuA7ekAVecIDYWlmeUthbFq7H0drAjfJYRT4nGg1c6nyRD4yGp+ueok5PKFE5PIrKkrB7Xog8\n",
       "/N7xSzXbeFWeb6qMnYHQ0NtD2dUEhNGxpaM7I/46X+xmPZvbBYxlHblNQhU9uJ0xWexS5XHhRP2g\n",
       "OHccvdrhxgOuJLp6xwVLHwEfb/jv/wBXU132yhUQGBDf4CIq2gxqnaLRztG3Qo+MGcrImHn5URHI\n",
       "HzSFgL8SFUVAPA2Xf+nUzvJqSf7/hXzcZ0GvWrAKfc+4ftl0UM+0IuwHjFJKRGxJY9ZC4b/2gVo0\n",
       "Mbm6fgGWs0htuOSQ6wyUsnsogP8H0lRJmWqz8iq4UX+npcqf85kwADgzpoDj4G21WAABE3DpOUn4\n",
       "rpB19LXxXKQxfjRSR5/WRt2sGVk/+pOXo/qS00fTuAHCGV0TU7NX/vQtxfpZ8OM3Xd9LO1PSL239\n",
       "76fNhV4oO5l2qAXOhk5zSCn9dGnIrmJyUynfC96Q7QbyIjTBzap7lBOzKD0WJv/+6KQYFhc8rTVF\n",
       "p6akimxnNIUQ4ZW27wZlxJQfO1+i1yGuGP55NiwRNt/yTN2N8XMsOEPsPcqVXZWD4By3TI+xOrb8\n",
       "P/ohs93WkWhe74TApwXH2G099lcfYpBsIIQqLddbbWXQSdgf/Df+Avm2xMsle9sm9UqlezU8lfBE\n",
       "sk5A59/ndtECzFW4OGYGF4qWUwDcaOwZ18Jziwm+kllhBKJt5jGIkGqfglotEob2Bh/H87/GRT5e\n",
       "oOrICTuboJ/U5CfHqBqHh56Sg4ulFLvb6fGYTo1vODAFy3joIcNzFEDKFSTuSfLuf3/eKbUfwrTt\n",
       "oXw5/QRRIYbwo0DS6fgwOBnuXRtJ4YYuOGn/tEtNGwtQneEq6ogxMmdxN+ch0vBSCeP02d+D4lBM\n",
       "qez4jVrDNzwgF76p89nRYG6k9jk2LLS/KRbbTUO8vdcpotJGuDWGCoByBIdc6xIRDivx9q5n8MUo\n",
       "t9J8GmayXKDpeOdpq+Xl/oKZnYHLRp/6HDxj09O+0QZCnBGsj9KHynbDfS+UJO9EC+elOuW4cWzz\n",
       "RW1RWFPhp9zgu5Tm5ymVT0P5F5AcdEuSLwMX373e0adS401aHCZ1Myz628ncee6+8r2cDy40+wke\n",
       "TTdPmyIfgzhrIyUBhNgQkv2Uz9oqNGnh1y8fRhhmMRTDOw1u22fpWRtSkjupSySfF/yt00q7reov\n",
       "nNb2YgRDojH48fRsGXf4+CC7EL7KyJBCTFhS898Ny8+/u/XFGi672dpccuXz0e88Nf6H+PvYexJ5\n",
       "/Blks6HDswlsI9B2QeA63O3A6X1Ps4Kld/MdE6hChlPtF+j9OJ6+eKL6JEBAB7tHEii/lSFCoOZN\n",
       "G5nZ5aQ3fj+k+/XoSYfQxPvK9JdqDi8Va4ewpdQzYK4biA8IDFGDUDNYvSoqVUoWCXNhafvAunG+\n",
       "Th0d7fse9ziWyxDIVIKWPgxJ4bTTi0tHCUd/4RDHXme1PXKPe4MjjwKMfKeTrRHgLbBvN4fT4NPL\n",
       "G8fLy38gR5tkYaTMuV37qqnRXe/fWXI/zVCPkKQM2Iu3WiDequY/iQSIpOEjeQPf5vg0zW9X10n0\n",
       "bamORQorxWBfMc0T/7VbGfZmbvn6/DOV/7DeyR1d1Yc0nrb+GBaVL0eTDWco23ihS+/IsmkCsIuy\n",
       "AIZzEJHVsUNL5t+ed7L3xCbKhQzQR0tJEWAhjoXwWYXAEAffp0j5Ew4AD7ryeZfGzf+IzjsQjUyo\n",
       "rzv2TOp7+TIAY4lvr0TjxHfY2ldI2tuRHtc7dDCkIsDo12ddOYcmDzli89GklRT5zelRUVyng1Ta\n",
       "5FW0DHGHmbJLrUAD3TaQStE7AOXM0LKAPBsO4lfT02J4nADDKWRavuLAf/5kHqaD3LEr9X6Y2Tg3\n",
       "pNEc1N8SePTLjrz4jyPBWeHRX1ZXDZDzEDSbKjRwyFeGLHovQ4djb2e4fgFEyYsKyiN3iHgAKQwx\n",
       "3Lxf3EcLnv/1u/9eccWpOFIQfMQ/10aC4gPBpWCGNhYcDUUepRozU/gUIqapS799tMQKIGXrcHKY\n",
       "pn2V62WsXM54xGLpcHuw/PB6LlTt5SV6exnDlut34B/801NuTLDRAC0MiXkxG6OWZnike8OUvpFQ\n",
       "meFSQyd6bN0bODWNCGHtSS1wx/9BbXIz/tzPeIO8OyJ0xj8veJ4LKJmMjp3LAjfAAz19ivGT/iCx\n",
       "iG0X95+Ye82f29LugVvv9Ma70y/jpQlkA76NuwF03F8KXR9O3WTVEtN/TiTvZJi2WYkZiRPdRq3Q\n",
       "pTLsYWTxuHXQFreYaZYVMZZBX5B4g1/95LG9F2fUavwDb+LQ5JQn73IGRaH6AlUJDz7QZEPijFJv\n",
       "akDFG5GOKdEBs4SVPEY9waWVAHtFH+IVgpeYo57hDcz5X7k5VZYgpgrFhcXktyA7hPTp71KEnDiA\n",
       "yiKI6/BWUOl/DRqJV47pO5d0zkFKhx//0/hOAH+jjSGxaOE6EwSf3oGpBSJ4hh9QOgnydu/e3mUr\n",
       "ahLlIpomAChiaaaomHXaMfAAc/IgN/2XZXd7vyRjY2ppd4s27OQU7RzCJoKNPl7W19Ons2imyJKy\n",
       "QSRVyMAZMSrRcUedjPf4fxqP8AHeuVgR19cT6GgRHiruGdXDpftdX8DAIAosMGx1eGnwlz/VFUmF\n",
       "AOUKygq4/tMe2sYHkwQmbi63nkcYGfhYRWowfSHPECaNB4kzbkqN/KyfHXNTmhshMWBEwK+0JIo1\n",
       "f/fDGjJDRYiINVvfBUUHIxCfKt1oXlKmTp+fa6bQizmqt74LhsQHePjInLed6Vz3b0YAOGo7FHWd\n",
       "PxuRAYu3/YIloc8Ehu3W8uwdXrCs8PGf6f7fcDpmz5JsUQZ1ueHQihsMJhWHo9zbhMuKTbkyr03+\n",
       "n9wORD5SwDXHdk9Gq/sLx6ADHldqmAppBBqclWMOu3FtzHeuAF4tM5sTpJrffie25qP/3E+oC2cc\n",
       "9kmneZwIn2By4Zdx1q0bJcq0nNcPtxscWSl4dxJIA/AiZJeAvJL9C5vxT6Cy5NsSoj+OMft0+gay\n",
       "IBF5E/XcEnQ9h/167pl1VAMdagL2FeLw3Tn+dg9zhaUN9013SLvowdXFIB14b7qMqDs5rDQOYNok\n",
       "7QMCMkhj2GDbScTbJV9uH3CMlYNFHqva91NZOsJsa9RZqs/5jAWGlEJeadXqypQMjUyVt3Et91zM\n",
       "to/uN7Vj5rsDamDCDmiF1LvjGQdUqUk5bCINFBgLyR7AyRwU2ioqwSk64LvgwPv4Tz+lXpD3MgLn\n",
       "2c/DCmnAXhD68b/BNmuc/Gl7PMNMsazCBqyjwRSwDGc6rrukMAYuROFIbUlHvOEv4N/a6sRrwbk7\n",
       "YVN6wpzKdyMiPmZaJYEwhrZIXy3ZjxefWLenDvmDns3LziEpr2BCpGBAFvE1m1Nq8EatPqWGXV1Y\n",
       "9fUqozCnr8ESwLroFytnbW8uUERQZG2rmcuM5vQav1pwfMPWpzQ//mo/U/jBCbFzDXZqLPBkGWF1\n",
       "GVvAlMjEvoJblYRfv/Toew0CvwArcrqOmNqjIMV7QHiCef24znmCj1MUkYh3/nXdvG8ht7SxTPCz\n",
       "Pj3o4NBGfGAAOYcDt6hETQAAAUVBmiFsQv/+jLBK+giAoJpPfO0iHTsHwOj9Cyt53xYSu/DEFEo7\n",
       "nuRpgp1//g+Epef1EVoOTX6McYvUGIbMGqCsP9c0B0TMxv8UPM0acrAqp/t1Z7TAs6cGJzJzkj5l\n",
       "vqZt3W0d+FNB2G/UA9dkIThTTin+ik7GCeWRHTxv22hcr+FF4xwCDtwDqmjpcZNtM9SSSKTfP68R\n",
       "d7H47E/Hvy14pyIg3N1BDV2Ap3eDKb/yaQMlSXSRy+q6kOVWu/aPfaRXBcfd7I06GOg5hlaivBC6\n",
       "3nzv7O6UKbK5pGWsg12vEbZme0KVQA+GXoUDoXToq45UNYYWo3SQNpvH2fN2WF+yGKdwsv6Sz8AC\n",
       "vFi1gjS9CGaGxoq0LbtQIaZyhsLO/LSUHB8eumZL9As9Gka92qipEBKYc1KyZ/5B5lVAHQrcHmQt\n",
       "ONfQAAABAkGaRTwhkymEL//+jLAqWf0c58AQXCZGCqKSZk/Tf4YRGrALWLeetG1tKhQMWkr5jp9h\n",
       "+Q4X8sqSpQJKVD2CwPi7pXzpfKpf7j4cK6mk/P5Xck+hQheAbA51tJDbLhTSccnO/lWjBoPYGDNe\n",
       "kv4DG5bWwLx9Vg4WwjxdyMrQj6d23foCjiDPrHKN+zPNiVt2ZdSZrwZLEAvf7cHchdtMT8QYKCMH\n",
       "ysudZqklF+AKHFqwKir501lWZMx+zhOcQuaP0dVfxCca8nKYL8xjsCaagWEflV6ifgNTDSMBakq7\n",
       "vcSFvCBocTJFBBtf6vOWtaj+wPH93yoDTYiKCTuJtVFpGcr3IQAAAEdBnmNqU8I/AtYirEKlCSAO\n",
       "SCBtMwMIEASA7kjsGN3AjQ9jPcOszkw8ramlmoAR/ADpM2gRIyMxipuoUrGGLCPhJjXY0iq0gQAA\n",
       "AC0BnoJ0R/8EcYmS/qABiSdU9Rmz9sYpabfGLIESPMRIkQ4LkAla3+STqMTVJqAAAAAwAZ6Eakf/\n",
       "BHPjmITXIRghjNyzTgtlzgPR6C9zth8h7jebMPRNNqGDLx0oK+Bf84UgAAAA20GaiUmoQWiZTAhf\n",
       "//6MsARhHA205t7SSh9AF9W6/UMO0uW+iBllU3kkhQViK5ndgk7Yvp91kOo2wzo8py6/mYMvOMD0\n",
       "of5XML37G2C2RXlXrg51J8Uo0SEWRqB/Q/idC0/45f/Q7LLAoJXcPK1L39X16ZVGrDgX1Wamp75o\n",
       "CgNMhxhL0NGM7r/hnlNJ76D373hCwpHVb1n/j7ANbx6BlHnAxPRhHIdjsXpH7aFsTLxfdHKucWeC\n",
       "8bn3bv1lBJpYNhsnmXdTmcM844NfgwsBF6o7qh442FmvN5/jrQAAAFtBnqdFESwj/wLWE/M3ofoi\n",
       "8SuhSj4Hj14Zg66L3MSAFuAASNoMwKcYM7Ti4oo/S8+57ti8jsuNrbc/Y5tQX5Wh+MdA4WG3ajkj\n",
       "he+/x/eqTveu9iUmAVM9UiIgAAAALwGexnRH/wRxh3UJr+jrZeMMAh74KiYRxAtoaqY9lMAHP/XD\n",
       "lft0BavKMJhhTwbVAAAAMwGeyGpH/wRz48Z27HLdSit2W3CYgA/aAB5iDIerb96Tiaa+/CoJGs92\n",
       "MVj59RkudLRogAAAALFBmspJqEFsmUwIZ//+nhAAKfi9AAV3Onht9+OYqDCrk7s6zOmuHIBYeDlN\n",
       "99s9jvUU5NhZpLgdIurp+2/c4qsu+6goguuTt1eTP/D/djN+su6ARs915HbDS2bN0C2QysC/+31j\n",
       "8lcb+cqfeGezmPjgTveMGOs/jf8qm9zjsP3+lOjzl1V5T0Mt2oprJntyffXD5CPPFBomP/b1cpv5\n",
       "HyWNpFLONpKdJYcGbrnZSq7e64EAAADdQZruSeEKUmUwIX/+jLAAKov8i/xJ4XZINCAK0yNZHVly\n",
       "ZNPKJGe6+gRJljUKt7w79tAzm0wLnPN+Xf5v7e9TBT+4lBkSS6yNb0Z35G/KZf8j7zKKD6EJOnO+\n",
       "XZ+idvPIWqxhznx0lk2vBV22N2xwlikQYOBLzK40MiXWt4d7WFRIVdeIA82Efh5OhUMJsi5nPUZL\n",
       "wC97LV6gCU2KltonCcQS0v/RpS7n70rMGMkP93DQWe5Sk2KxlkGqhvceJjKxHxaZ453dL+0XKUnm\n",
       "AOr2QTUyzoB22C8+7DYVuIEAAABaQZ8MRTRMI/8C1dTgdONrYSfcsnEmdCnyM0AIxxAqZRJ9lbF8\n",
       "oMmJkRyJsrBRgqx0V3WoVJmXw2tnJLEdR89M6fw5J2qFSG3Tv/utnMQbtVQ+x2cPBzWlgh7BAAAA\n",
       "OQGfK3RH/wRxiA3nfAqXorPdce2AB8ejQi6JYAQqO2g2bPl4EWTfCFYl2B5dWGXhZKAlCvLaVds1\n",
       "IQAAADIBny1qR/8Ec+PH0w/dbto4eAuoAE6kiUGSZgzM5LgKno5ZoW/QleCEQjhus8Eymj4/4AAA\n",
       "ALNBmzJJqEFomUwIX//+jLAAKkzJgyQgE0pEdXOIEbmp9xoB3xX5/BJAGpZPntY6drY1si0fSp6/\n",
       "PEmOWX/ic58BwyWUYhnLTs4lC176dOAO0uT0E7QmnZKcjnhL46jOn3ASzwn6qaUW5aL+e5ENHoa9\n",
       "KPWRJQgI/HE0xT6pnY41xfgPVpwijYJZ7/tL2iMYj8BoYr+Q+4B9uGthBLvyughCc8KLlWdfMfx+\n",
       "hm9hk81fwzNYtAAAAFBBn1BFESwj/wLWFACRnPrjzN0aVdTw8F4AJK+9DqqHaBIeoiGo2JJsOZfj\n",
       "RjZwTB7d1X1Uk3OUR/qsBWlGXomq2HFI8EArCikAv0r1Du9dBQAAADIBn290R/8EcYgGlQGj4x4f\n",
       "SgAJ0xBs68wuXNUz6+x1IDBsgknMysW0lPG7wHEoL34hlAAAACkBn3FqR/8Ec+PGdyBHxIRmWQPo\n",
       "AJWYEFCGK+Wle3bJqc/AMlpWBKLqcwAAANFBm3ZJqEFsmUwIX//+jLAAKohwEUAUEsA/Ag9UDduZ\n",
       "of7aHcym/9qUkCNG0G/4qoJLcqsSgYluhReGhuC0rJ7F297NzOR690eFJxQPphb3Tisr8FjsmIYi\n",
       "LluHkh34mI8vc4RpT8XHKPJPL6xQxMUeragUCemmJtkJ8iDuatrE1pBRh6hEIq+1ilfQ7As3eZT5\n",
       "msBff9mp6yE+ygtpdpIN6KUifLpwuGdZ3P0dXY36lxAJsK42+wPnX+ec4g4i+pbLGlZ6UrVeF9xm\n",
       "uEEqXuh9oQAAAD9Bn5RFFSwj/wLWFAF8xtbXOKleSQAYkYZJJvmAAtZwL2hzLQ28p9wAWcO/yGwC\n",
       "CUI8uio2NuPHUnHXBdoLK+8AAAAsAZ+zdEf/BHGIDgdqe+P4MLxqOAB8hZ2h/Jhuq66YWXLUgRpN\n",
       "wvx+xyvCegUAAAAbAZ+1akf/BHPjx9MP3a0KBBcNEvulS62nWLLzAAAA7kGbukmoQWyZTAhX//44\n",
       "QABRsKt0ALCwO2y2jvkVykFeZ0IdgRSW+Lmy+8Bux2LvQHzIVIWN7TxlqquMmF7N+7Euqo6FBgPG\n",
       "Ow1DhIBiTA1+65EEuFOUQrfAMUEKO28srxcpCMvJsPtWgynTcytN1eun/S3ylFtAF2tY3tS2IdTh\n",
       "//HU8H99N+45rsaPa1JGawclxpg6XkFrhw4zgHuojNLWj9aA6V4j5sJ4SJyoFww1jo99r+ttavdQ\n",
       "pn3hLkPNRVC9O44LA6aM0+L6DFUAlbU4bFispcUsJa0g1JEvZ2XmhZd36aWaSau5ovZjEzgAAABL\n",
       "QZ/YRRUsI/8C1hQAkogkMdGUFLaQALls8kbjnpl6pUEsaC3gYsJCK+SQt+OXUKdhwuDcN+sw0ds7\n",
       "6QBlrrF9elFSNvo5Ulz6LDJZAAAAKQGf93RH/wRxiAaT3ZfGxFEwcAlgATSkrf8ZrZ4YAHZXml8R\n",
       "keDGBt4BAAAAKAGf+WpH/wRz48W2adzLR1ACt0pe0ajubydTXE01MRD1256XMuvYgIAAAACHQZv7\n",
       "SahBbJlMCF///oywACqIcBFAH/JtoVkpB5u+O3phpAFCrDVafwfWMGxmIbxnM5N6+b1B6Y/R9mfB\n",
       "imcz4G6pJhhptP0xtsZmaLzvv6W9XoBWGMhmj3OpLqZM4bwU596z3xTBfpOBv45L5y+Hw7tuEtjR\n",
       "DKVNd+fxLPQ3ChU7fjAbBc+BAAAAsUGaHknhClJlMCFf/jhAAFGRnBu1sALCv/UhfcGrxK1aNxt+\n",
       "5SFDBATGGR4DlvPY0LV/417MDnAFP738PFaTqPGoGp1VxS+jsKLL2NCoMbqJFE7VYjAnB5D0JMbr\n",
       "drs8lIinrHI8wbCnhzWzVxW+ZUCUru0N+imt6PPYy4ZGH3hCn3Ot2aRHv3g80RKHq4aTdACy1FyO\n",
       "ollPcfZ65bpF/sAUq/zhgFRTtUOIInFSHndmbAAAAC1BnjxFNEwj/wLV1N/tORT39agwLiQAlo6D\n",
       "9okDZ4uUFdq3f/WSuZVxUnYl3FkAAAAmAZ5dakf/BHPjxbbCVqLEALcdLoDS5mhauy768NdiX8OD\n",
       "qAMoowkAAACwQZpASahBaJlMFPCv/jhAAFGwZEAOijPGKXv4xJAcBtEY8wadXPZfxVwG+ujmzHjd\n",
       "CImExQdktjNvDHJp4LQGTwTylsbTSqZrdZ8oajQcLzpqLObr27tJ2aYVCDTxGnemshEXHHK5tbNB\n",
       "uXtVpbP26fI5QSZ2iDtQvx4LFCWtqWgIH+cTEFXz4r0ZAXDpQaAfTTORIqlxPe7Dx1Ydl2jy0Awp\n",
       "/T5j9DSImRkxvkPHVpkAAAAWAZ5/akf/BHT5AU348QkxXOFVsuoLFwAAAMpBmmNJ4QpSZTAhX/44\n",
       "QABSDWqiAOWdgJ9c/8klIrIy9yPWiQrI6g0r7nDIGLVDxAFhiM/+KXm27pa8i+Qv00tMjswUHLEi\n",
       "EGqSv4TzSTFc53hP5oyR80SzOAalxjeLpl5gDZPF+gvKbwaH8BEx26G9D929cVU4wyy3nz2HwtYy\n",
       "aUxlc5ROH05dKakx3t1qhZCW6jlFyC4FicRtLLq9057WJ92KgyvHDK6Z6FITfpeRvcdaKa3fBl0a\n",
       "yWDrD8z63WYhRRSJCVurovaAAAAAKkGegUU0TCP/AtXU3+045K2TofggreU+32gALoAAARHBvJwV\n",
       "reMnGTO9UQAAABYBnqJqR/8Ec+PFsn65hD8LP3LefJZhAAAAekGapEmoQWiZTAhX//44QABRkh/B\n",
       "VUANGdC4cpesRTzsk20zxYEOMCIcMtQeNkiQj4FiomeyaxAwVYLpO24BXizTKognaB2+cD+2UIhU\n",
       "B6/U51RurfMdCjmqBs/7G8GIGbvdFtTvGpfUyto2tLzuPo3gqngw8Ol22AdeAAAAe0GaxUnhClJl\n",
       "MCFf/jhAAFGungAG88JuDXpgOh6zymWJcjZQoT1vFhq/S4pXgqQjOeVaTsR/DK2Hnv0HnPKx3O2k\n",
       "Dd8dwgKsHsohk67MTO0sehZsFee5wQU5zSvbY85/gATCl1MZnFf/hqIgxNdOTO2e3Y9BiEK+nqWC\n",
       "bAAAAItBmuZJ4Q6JlMCFf/44QACkIOnRQKmouX5dwknu7fJ1sUqHDzf8zueJl/6HnWckmmHG1t1l\n",
       "1esCMeK0LACV7IL7wwwS4sbDlb/e67xEru8dtSManCp6DfTQfrvhXfrXDR2ND5AZgykgafdtv51G\n",
       "AKrkAS0E7ruXEEtFyff/RXhO5kJRHYFYbry6arfBAAAAjUGbCEnhDyZTBRE8K//+OEAAUg1mCAHS\n",
       "FjlrcAohvEa5GTCWAbWqr0Nl2R9w9iwQi0R0vihVC26kUS9U6t5qFrrmZcMio29c05uTLQs8nDB3\n",
       "uRv8zkyJnbVL6AwX929Rc0c8hebn1NElY/CUac2j5XfBl7vVhajgisp6ZH2a60Boyas/HSJ+Jfl1\n",
       "QaTpoAAAABQBnydqR/8AAp+QJt7tn4DjRjHwWQAAAGhBmylJ4Q8mUwIX//6MsAAVLQgcAT4zO00X\n",
       "aKCltcOFJH4nm9RmzMBYolXMCpcwVic0lHTg7FV6Ae32q8gVSd9OpRDzB5wZ9l4gU6bohi3bYg6b\n",
       "4wT94/ZGlLz0OYh06WJIkl4wKBu5vgAAAJVBm0tJ4Q8mUwURPC///oywABVDjt9AFbXwfha2UhAs\n",
       "5eo7OYME3w5wzheWmKLxX9EEulsv6rb1Ij1JcaW9fApLoB45G5Q9g6bnpoQtLllDeYpHZCTzLEte\n",
       "mOWb8NJZ7ff7+IgroY2M42j8kBr/dZPhsczRXAuvgF9nTDYQu+GBrnL4a9fyJahKkQhz6vXQC1/o\n",
       "oyzR8QAAABcBn2pqR/8AAp+QJt7rbs5eKJ6QCQgwsQAAAGtBm2xJ4Q8mUwIX//6MsAAVLM2ABAfn\n",
       "QUhwZAgXhK/SsrNGWvms2sdkV1cEHEAF4g7G/Hd4VUID/NJtdgVU1alwb2m3LL/H1CJS007r006S\n",
       "xt+viEthbgTKL+4K1VV5RXpxmkZm3gN4aN1lEwAAALhBm5BJ4Q8mUwIX//6MsAAVJmcR8l8ACwsN\n",
       "GRFcBw7zeqq2W/16hUSzSC4BIjzentn3K5M/BFHo9PO7WkEL61Xe2mVLhd/Z3xWEWBr2xJEr/a09\n",
       "b+Cs4tsWZu+LttzSSyHzruZkDEdHNatPoECQU7RAGz+512EnVlGYHR/3pgsgfB4OHhD9+th3CvgZ\n",
       "m2T+thw4QZcvE3FsHFx3FoKL/TLKIlwTz/uLMmZNv/RbrFmOp5ZkT4hofPjRAAAALEGfrkURPCP/\n",
       "AszyojAuD9QyAABxk0/earrimkkzTyPjdAI6CkalvMzf8SuAAAAAFgGfzXRH/wRxiAU3lINT8N/T\n",
       "/jdRMoAAAAAWAZ/Pakf/BHPjxbD7Sn8229Zq37CmUQAAAKhBm9NJqEFomUwIV//+OEAAUhyI3UAO\n",
       "kUeQ9rOvIARDNDQaSQHttqLLfDCK8MiPnfs7YzUNdV0dggvAM7hC9oIjZJNqQzMjZN/mfIJzvX/Z\n",
       "05p4q4shyOZHQFYpj9ayATUahgPLl+PsTmwhVNj8e/rAtpcNxZ8cDgQiVG2Jq6cVUpjEo8L7bty7\n",
       "QwUPCnRQEMiK/7d2N4s4s3R7YBz52R2CGG8bj1MZmAwAAAAcQZ/xRREsI/8C1hQAjEyrLjcTN9pn\n",
       "I7E2Z+SK4AAAABcBnhJqR/8Ec+PFsUBZQeZn13kk9iNMoQAAAGJBmhRJqEFsmUwIV//+OEAAUa1i\n",
       "QBugQ0gsTyV42oUZ06hCl01L/lQQjDgIB6WBZZZVJCO7Q9YEv2dTRCUctYkj/OmBPKA5lip/QPLN\n",
       "MNcV7+8pDwq1qU9KEH/JJvlxKa0amwAAAGpBmjVJ4QpSZTAhf/6MsAAVLXBoAWFYKZ2hSVM9gHj/\n",
       "QXh7CuD9RiQh6sNHTbfjAjCIpj+CSFafiREqHvCWUpEgJft627jNWavOGz6yjfIAWj8csCf1S8lE\n",
       "5dIlNOfl9L1vAFORNqVrZ1XlAAAAoUGaWEnhDomUwIV//jhAAFINb50AVtorvORFMq0Iq8VsCyYX\n",
       "Ax/GeT1tdUj1nHuJEwMr4FBIgM7N7/2iMvho0HBCUXk3FOXb4Rq3Ym6pHta/ESex3ssWukxCQOwo\n",
       "JA5Z046R5Wr2v63Fw4Jz3wMsdxMGSsXeK+xKXqd7JTzyWzZkoaD1dFPDJ+/ljcWeR/n8lnvI4Rhj\n",
       "4IlBuSDcFcBHqYWYAAAAJ0GedkURPCP/AtXU3+xL20Lsd0DkNdNi4ywN0gAWlBH92D97PCJlpgAA\n",
       "ACsBnpdqR/8Ec+PGbg1QP+ZO5eCxWzMz/18JFCMrslZX8n7QATMLXPgvON0pAAAAYUGamUmoQWiZ\n",
       "TAhf//6MsAAVLXBoARiBkHR488eXhxOiaomuAVNsVR+mo/JWiUeXYX2oPIrvmnua4YckOs/jUZtV\n",
       "IsUiSMbv/kKUPT9axd8WeFUVzqwB9Ppp0m3wC4yUvKAAAAB4QZq6SeEKUmUwIX/+jLAAFSzeGAIi\n",
       "Vv7DBSo8e86IU1dqT0gfrm2wJsySBQ+l1Wz9m2IvdWXhVGaswBsqlSWOd4ZecbgrRUR5Y4o2JA3t\n",
       "U7a1cbXqyX9bO/oQWuTTXZGRqrxpkPTEIJkXmuF1yTubctS8CPes1dVwAAAAlEGa3UnhDomUwIZ/\n",
       "/p4QABUT08OAAtmqrnCyC1P2to/O1uH1KXtnGcIyTROClM2Ddrho16POjDVwW7F9nvwT76I+Huej\n",
       "EdUwLye6BDQEjlAoQ4m+hl5VDtZKxy1s5RW8jzqDB2iABti75mvqS3UDGMw1eaeF3wvBX8isetl2\n",
       "4LZtgm1BnkyAE6WZFiaN3eTEjTZocoEAAAArQZ77RRE8I/8C1dTf7JJKy31NfIAWp6wjpCGty9g+\n",
       "tjoLCpLnwamxRdummAAAABsBnxxqR/8Ec+PGYnpodYlPt0WkwaSrQIWg6YEAAAC2QZsBSahBaJlM\n",
       "CF///oywABVDvT5IAOPE4w+aEwUtGYta24m10PQQYJE81S5x+17Wu/MEP44t57I8Ade/t7ScZXRQ\n",
       "upDP4KAVVQNvMOmDHW+yxJmXpiL2hnj2sIh7cASrGDBP4uLSI7+8EykeQlrAWVa4jqdTO6+qOECq\n",
       "+GJJjCLyZCDTLRiiffnZZkPUEihJDybMA/rJwAGhJ896nR+CahFgI/OIW6FeCRjLuGBq3PQ/qWEz\n",
       "zHkAAAAvQZ8/RREsI/8C1hQAjV7jqI236gBYLZh6B5vFu8Lqy80kIS3hPW0ctFTrUJcoaZIAAAAb\n",
       "AZ9edEf/BHGIBm/SK/rWtDXlbkrtp2NaAb3vAAAAHAGfQGpH/wRz48ZkgVmS72bbZHTqoyz7kYoN\n",
       "QIAAAADjQZtFSahBbJlMCF///oywABUmXsKdbYALZ6Y1z8h4KTMGvcljjrgkoNBGR/YeWbZjc0JG\n",
       "zsLW4RFAO2z8k9865YXRaXSS07ziCU4tO66gZiAyoYyywni2auH6C94+NGk0ZKMDUdL3lfoY+5HB\n",
       "tk5RFoEMaR0+QpRbbmI/DFHvhdPMj18iqt47JNLiyQYFWAV/TH/vh7Kote7dZhZn/qD4p4YwB240\n",
       "4/yiCIVQtqrQNBwGUE/nNsu0zPvInefk/KXQj6Qu+D9efqEn8IuTvp+Z4ukBG/bV2U+NTSSv+mnC\n",
       "ZiZkrpEAAAA2QZ9jRRUsI/8C1hQAjfu2zufbIQArTrSSxpXPPS6Li33DXnIz/4w0mrfOXecaUzAq\n",
       "6mJ8pI2hAAAAJgGfgnRH/wRxiAZvyL2bNRShDOER76YAA2+5p8/IVDd0l8jvFbncAAAAHAGfhGpH\n",
       "/wRz48fJMjsf+EIeORZBeJYIVeeVi4AAAADQQZuJSahBbJlMCF///oywACpMy5RaZ3FEyGAUUAK+\n",
       "11L7C+cRu/wKJDU/DS/rxjC47lBfF/982aiyFuP7hMi3MGBrgsu5+6sVP09NhlHdcw8ZSbYMNKLz\n",
       "H3/QW7lz7a3xHt+NLxW2HHx7xNOgoTrlrJFuJwHG1mhTdFMrGwuwJ1Oa5QFcKeYExfRLxO6bdW2D\n",
       "ixUr4EdNyxBnlePxXpyON+vYgFNkknDc7dRDhH5qp673ejSbz2b6vw+GIoe/GYLsntxZ7ao822pO\n",
       "eWvL47ITLwAAAEZBn6dFFSwj/wLWFAGBvQWfsMOij7CNd0L3qio35AACxbGQjTnAkz72yCFKvB3I\n",
       "mI1tBwNo0TiAWCliTpuluNSl9LbP/AeAAAAAGgGfxnRH/wRxiAZvzPgFJttkDrJjvZ5qcJARAAAA\n",
       "KgGfyGpH/wRz48q4dr7sBu88g/7uRa/huuAAB2z+CBIhATmylMGYgTRcuAAAAMtBm8xJqEFsmUwI\n",
       "V//+OEAAUdh3YCgBGRjNvl0Zb3NAkLPd7CeT/l3+Mwa9LBEHeLKxo7y53TLpB68UMqy2EnfDy9kN\n",
       "HcjvqV9r5y6KDfnmrpADvwnF6Zs/cqdBLX//nE0yxvgo2BcdL3B6cjhdSXuQCmOEpZb2WT914w5u\n",
       "A0V3VPashct5Evw+Np1Mcx48dS3Zji+7+IxSW5L1i7AGHMxDD28dkX3TGFlNzFzT5aL3SWmKei/N\n",
       "KA6Yyq4fDgQryeve043mgeC7upvYwQAAAC9Bn+pFFSwj/wLWFADbZUcciByB5P6NsKGnQznouILA\n",
       "zduPYAEDTThIpo5zHIVeQwAAACkBngtqR/8Ec+PGYjCzAoK5Ngn9vNOmzioAASH3JFAVl4kgMWXZ\n",
       "Rgx0uQAAAHNBmg1JqEFsmUwIX//+jLAAFbrFFz2LWgBbGJajBbNOcZZhQ+gIXm8zxDDwsn4fnC2M\n",
       "ojhkkFTYUC8ZzYcyGQVkY5AuOUjHeRE6NhQLFocbyvds29kkIpigjDdFzBSAVqz68Q6L4A4ygnqH\n",
       "qh8DC5zDInb5AAAAxUGaMEnhClJlMCF//oywACpMy5RaodlzADPwjZ7/N+8OEgBDu0+BkdU1yuLn\n",
       "QQ7LQqBBVO5v8GHeoeM++lQYq9kgZ6ftYJ+dC2WeYCK4wTSb6yIoeNEY33X+5jsl6/vHTaQAlCSZ\n",
       "s3b62xP0v9bW83P7YhpEvYBL3RLL5iO2pRG0oIrQEQ5qFVp7h3sX7vLhpLVSiW6tWvKcTDYITdKn\n",
       "rnRnwMwFpeUKCf7xe1K9PNGtqGidkp8W6vMpk3myzJu6JwWU1ypqAAAAMkGeTkU0TCP/AtXU4HcW\n",
       "nQWPEzEBIikJoqoqOgVUeaw+h5IG1flkT0AGdnvfV1GsRHHlAAAAKAGeb2pH/wRz48fGgujcAZ10\n",
       "ASu4aCTd7pABJBCzMVohHcdD4GIpbJEAAADJQZpzSahBaJlMCF///oywACpMy5PruZ5L1QJceAGm\n",
       "KNnnbA8Ie72ZgY2bXuRh+YBBVwWhCvSDJgGo042Zy9Z7X0rOdfQ3G+7HRUJVBXHFr3azWPNjaOU0\n",
       "mLDYe1briEXGhIU8mk3op366HVycU7ARVw7r6YbdzGJ2692vdznXgv34WgD9XE+crQosahIXKaae\n",
       "4K+zAe0ThWh1yTznUA1L7uDpIIaxNdPArslcXDPJ6E/FhX4Gi1b9SFJJ/B9LPuGHXZgArOF72l2c\n",
       "AAAAMEGekUURLCP/AtYUAYG8w/Wi8Oh/iTyiMD0qQ+B3P4Ei1VyMv2JcKxAni7RNl26luAAAACcB\n",
       "nrJqR/8Ec+PKsF+WNuEJUOhSbfSwvKJfCppyYBJfwVH3Nmo2930AAACuQZq2SahBbJlMCFf//jhA\n",
       "AKQg4+JkIgumITUAIneHJHdt6bErFdvERGEDE/0ff+JJaQaqWw2EeuDgbYYZ/UsUp8pIni4MRG1p\n",
       "s7lIc0fZ5Sfqtya+JXuX/fZSzrh5AFudWkk284nLDUsEWM9rZmjI6n3xd8BlZg6x1sbo8ATuKbab\n",
       "9ng+8RJXD9GTSCGZglyraD10p3sxaRyaa2vnOVyCB4lQCoYbfRmmgZtPB28zAAAAN0Ge1EUVLCP/\n",
       "AtYUAXzFn+6MQqyZ7RGlujZAAli/IenRU4fKWwoi9m2M773/pQ0XDbITEya1EkEAAAAoAZ71akf/\n",
       "BHPjyqatqUkwsdXix779KZlGwdrvA10XHm8GdMSnELSRLAAAALVBmvhJqEFsmUwUTCv//jhAAKQc\n",
       "ZZQowBDCR/8QXoAIejOSYpRM/pTfRdwUzXqdfGTcpEvIrvP6u4e8XE1Be8bf9FwXVsUoNZJ89/TY\n",
       "Jf+oVZ4G6IkjPtKrhZotRu6WxvTR4I+6i0wem2dH9FPD4s911gLlh/FznflJSpIfmkkvaX74+5P6\n",
       "ws8gCneKQMBPJZWUercUXjbg4AeWZFD+gT9tgph3D97OexopJiRtQ5f6fUsZUdpPAAAAKgGfF2pH\n",
       "/wR0+QN5VPAfArp/uKn9l1iZjuhIe7t9Jb9BTTqTNPQiwLuA9wAAAJZBmxpJ4QpSZTBSwr/+OEAA\n",
       "pCDjt59hDijEAb+02ZXymGjJ7GXAc3r8f23KJacOQMpGtarbYx9DwGPnSvM6LXJAc7k9tpVqJBgm\n",
       "QXEIBXwO1ZEJdh6+/RjhNuoJiLAjji463htb6k62kBpdeuPDQ3d9dWe+4t0Fv86itVA6hloFVSjT\n",
       "h/W7jbqAZrNzqHdyQ3K7qQILb4AAAAAqAZ85akf/ABVNXIVO4aQGbKx+wx5CQATlTn5CDmKBO/Xz\n",
       "CRKDun5y78OfAAAAdkGbO0nhDomUwIV//jhAAKMjLkmAEAAVEfXsCdihSCynIoNWdBLih0EqzXJH\n",
       "fY6a1ePQdhI91r+6PZIsYYThgk/JHxbvJ72UxkRY1aWCo1TanY+q+0tBzZgxUnMCU1gLdCeSEVWD\n",
       "DrbfF2omZZ3Scb17R4hMSkEAAAB0QZtcSeEPJlMCFf/+OEAAoyMnWAOcANlZQyvDcENgmMCR1LSJ\n",
       "iM5dGAt75/6fvyI+gwt3ITK/njSbGCUp5ByZlTBWY7TNrY8IWodMBEfVg5zBqauaJ/b/pDnSQwKC\n",
       "vVP4bgfKrWDKUh3UNsrTQmqLSFmrOWMAAADuQZt/SeEPJlMCFf/+OEAAoytrnxGOujoASISlRmc4\n",
       "HByGseyaVsfRPx9dzXZ+ZrLE6lSfRnpPYdM8AD3Ceu0/nD9edYG1H1GPJ4GlOnpvXzL3c38TmX/t\n",
       "uJUMpL7x6/JZSy0nr54GKaI2keJfxx7KugFNcfCKHCoT6GCGDj0gl4rnBGquGrYWIi62vTFQSZr6\n",
       "XrO0VM5n3NVTdwt/BR/8+jbUO/CWTMiJLY00rdL3cHaKLy9WA5eRaHZObZGTWaYBGW7urEaXsPK0\n",
       "L5tosacEBytlP7787CvyrvDlhbymxxqwOWnrsd/IRdJ8qYqHMQAAADlBn51FETwj/wLM8qJItmV1\n",
       "tZJcABEDsFSvkhv/0Lj105wjnzA7qB8i77fzuil3eBf4Bw335B/WissAAAA4AZ++akf/BHPjyq3m\n",
       "/G/AATU7t5jNGZvDh3hbJ9AMKNrirNOONUuW0CMCiKA5LDDyuzM0d3p2ZYAAAACdQZugSahBaJlM\n",
       "CFf//jhAAKQg53RoASxz+ym85bBm4eQbJnZrTyrnznEYD92bcXAqpbypKmTFmwcVWqkBuq4JJ7NE\n",
       "2eFPo+tsvxawXgRB6SJSdKZgpmEfE4Hv4lH3FvpS2XguB5p0E6V+bfK271Y90xxA9Bxs3jW8qb+q\n",
       "CGdGWBCtUqpYckaEqZ6bCfFBn5/F/CjBPejkjYxLb6QXwQAAAHhBm8FJ4QpSZTAhX/44QACjvLof\n",
       "Z0AJW5O+cfNeeFY5ff49g5j9SixM5InLgs36ss3fePS6HEQvRliE8TRAe20BIAA/GnoRxR8BuS01\n",
       "bYiLbfFG9CNQKAzzMGhfyrhh3rJxbU23XDYfwUn9/MqR7ywP73Sb7Fbor4AAAADKQZvjSeEOiZTB\n",
       "TRMK//44QACkFVR+Ii31AB+shaO0dhYcdqfDhSkjgMxZ/Ejv0/670KC949YpymegxCixcKBWWPBq\n",
       "KZMp/DVdGemDbeUdSTWlqMFzIqZIr+vKIpyK1CwSKMP6Wc0ISVh92QzIhpk/ZulDh4o21InlJbhF\n",
       "3yiaQaZ4dd9ts1B6IR8i8AH0onwkODEJyDBy0unB53XHbSI/D81FqzeEsl0+f/YApLUgnoNelBD6\n",
       "S6DdoW0huN5XAsis6MIldq5johYk4QAAADABngJqR/8AFYmNUOueACZzQsgSoVbp06RbwGBt9yP2\n",
       "LIQez3T2WzZlbwpvAHzaV3EAAADZQZoFSeEPJlMFPCv//jhAAUdUZAO/0AHFnr3LQtHL1lpoaaXV\n",
       "pevTU1/fNB/TnLGYTfxJ9SJDk6dDF7HgtTpF9U7cDR61D2dxznLZD7OwXWGGFcdTBRoK3WVYIZo7\n",
       "iexIa/hSd3LBH175hJ4gmxfu02JNt0JlPc8dHXcMvJSfC6q2iARxKcDm/zd1OtBqQUVnftYEKic9\n",
       "Q2kofsUJSFoyZ68ayJlLVtE3gIrrZjRoNkKatChxsk8ql+9JFngu53D2e4Wer1H0iUYbmzLLn7Lb\n",
       "cIBA3Tuz3sRR9QAAADgBniRqR/8ALFmEv5l8fwAPz+G/aQAHBJ3Yxv7YHocCdGd0XrZvZOKocrOB\n",
       "bwjlZ7KJ1RZIABtxuAAAAOVBmidJ4Q8mUwU8K//+OEABSDgAnl7ABNoXtRLGl6DStsdz1NA3ykfc\n",
       "JA+Em01e/9J8kebZC2JmdrkwcBXOfRRcUqZg03z27Sxc6HR0dtXjeaScywVlxkUNnrYss9btXrim\n",
       "JSunjodirmkRJkMbvOPLRyKw2fua9JNzhsw07lD906dgIMWA92fwviVW+3FDYhcn/x5zL0DJh/BO\n",
       "vgw+9jFfUkySfIF6AV4rGZ/De9jUyTrVu7WTXRfgqY9zCSWvOWBfQQITg0GGmwxC2Uf+qiFd/4Lh\n",
       "7WfSwz+adcrWb2FrgUvPEoPBAAAASQGeRmpH/wAsY+9C8K6UfiAFuAASe0KUjHPy/JVVHwzB6YuC\n",
       "LNeNyqCgu8bK0B8Xv6H4nUfAWgGp8rwajwinnl83okc8TdMNxuAAAACyQZpISeEPJlMCFf/+OEAB\n",
       "RkY26hN9rAAEnfRgxGJTrf4a9zAJx2f66tYzIVLwGsoD9iVsM/QkMDkGKpheLJ57b0Bk7Lpu5NvR\n",
       "tu7hTp3WGKxJu3NieEN5JVHN7AJsK3dAvpTyUzPoeIBkrXqtfJ5fysOEfHd59ATUs24VQ9/f5NHO\n",
       "QiF6T1jwwdv5edEz/96xelDOWmrWUZ0RlQZQikKQIQHefk8m/MM9kT0GgYCWKzu5wQAAALVBmmlJ\n",
       "4Q8mUwIV//44QAFGltHfxwAmDq/2HFM1q6yp3KZDPaZMWv90ZhG3jwUWhjflFzVHpur/+L67NNcX\n",
       "525UG4T6qpED8bR+XRHfOoC07GrcIB32XSfFZZptjU2ZQmm07MRb8MnPgMfY+phe6a4aprQ49IS3\n",
       "RUszTBXn+YQjG0sI3gUeS33CWiHmdtqcrINjkPfBSc2d7K+usDrV6rU2jZWtcwZBWCbYNsaA8kcA\n",
       "xveH/V+GAAAAqUGaiknhDyZTAhX//jhAAUbngYo+AAhcL2LelAI7rKrmtOgO/KrkjqDjz0VMuiAp\n",
       "7sNmrFypLpASTF5eq8rx/ohag83BEzklCpO/aIKQclAtWTVvMD9LTI+SU4Cu7sRkOdbCzvGcyzdn\n",
       "1KtckMvf2hnViM3Ec5n7k10h0WpfDsFaQnTajRp31I3P1FyTu+GzUuUYVwgg2SLSpwQC9LG+zVlm\n",
       "XI3axsA9zFkAAAD1QZqsSeEPJlMFETwr//44QAFII/6q24paEAE7X71jV6LziTpduSX7ZXiKj2tG\n",
       "FFfrGLiTzE59SmPnQLHeVcqx/HGrm1hOnKI1pn+dxyt0CEIf00LUQfIRmxh5nu7DrzIC/v+MZQj4\n",
       "2cenRZkt1CfrbkHSlxrEFfJ8KLe1qox7ST042cbqhT+7tBw1ZbvMZNDOuFarVtZt4XKUoAphkmAg\n",
       "P+Nf8Azhl76Ll5p0I8tD5EK8besmJ2V00aLH+HXRwyo471po6cGzKeWJU2+0ha04hbervWdgUyPF\n",
       "1fTKIhCc4/dIDIlmaZslH8xIv4nd6AyDMm6sN3EAAABLAZ7Lakf/ACs3z5MZgAk4+bwaG2APMP/2\n",
       "0hFxI6oE3WBCCJkb3X5rPb38Tj3KcN4dQkVzbD/xI3snWAxGf1Sd13/p0sZ1E7bOzD1tAAAA0UGa\n",
       "zUnhDyZTAhX//jhAAo1lAgCJjtj7IYhEcAK3bV0rIAhFWaEtrDkZXRWlmLHIQBsw7fOS7txNltEV\n",
       "QpCyD1Dg/ed4Y2aFaGwQDMRLd7HTTABhkI98unmFCJ+E/uwLvhxOu4OpxCZmaQkN/1bAlZ8K8Ohw\n",
       "H/YnQo4H6X9TmLdIK6RfmtLXLLjapbtopMY0zXwb8NSpdlLIgNw2l+L54xWDjruSMmWyqzb88XCY\n",
       "K5DVI7sbLbqgTFCGAqsSRooe4LGWSIh0DhFS36TK+HImogRRAAAA7UGa7knhDyZTAhX//jhAAo3b\n",
       "UmRqUZfPwACtrDlZnpBv2UmHuyy76ThZkWmxbKLJi4DYLv+WMDAmEMdqBd0RbODleI8Qp1jPojSo\n",
       "jfPrvvVn3qbh+pPGwpGH6rD8Urud1Aaf50uTt8dEzaG0a9gornZi6zQBcnWlOtUNNYk1ps9vxW8N\n",
       "kKA3621mJms0dNaBrs8GLeyn5uSD8JOWUnFn99sIKbq9shuUxJEHRm4A29rx2K1FH93K0gvI2I3N\n",
       "MpQxgNWRiubVdtChMybHxXUOTnk0DN+K+9zHcgMwfSWAFn2hk19iPMMpI1fJTf2ALwAAALBBmw9J\n",
       "4Q8mUwIV//44QAJ6jHEC4T5YyAAHsOQzf1hByJNh6Ue5uM5/sA5rzQbmuexjR5wf3PsCCtp0YrJx\n",
       "rDYMWz0wqaCP/5/7fatBLEOTqBPM7dTZRbv2siTWh9g1Gdd7r9nbK2XxA9Cyudu9vfqrI+NmCWsR\n",
       "w/kmIhiyQsC4oWxqkeMSKTQI7eQ25jV/6azIb4C1kBqrFk75b7pubs0dEtyXYeRQC4tOP29lEq6B\n",
       "bQAAAMpBmzBJ4Q8mUwIV//44QAJ7Efn6aABqUUiM8+NTgzuqP/M6ZYorUdP6y7fIdsQVgWhrdd8f\n",
       "EmQnK/m6LQZZvU2DO3rNS1geVz5edRegz6/eansi/nq4PG+p/CRA3wt18A2CKtJ1ndelpTNyVpas\n",
       "cKH0QeQFFH715dfff7xCAIz/JIMfdQh/38oXKa6IS75CWnB/ogSkwI6mdfn1FKbyBJEDZ5KAEVRS\n",
       "KRzhVXW2QRrD8g7WOG0nY10a0ZFyc08zJWKCMInw5YegOPkXAAAA4kGbUUnhDyZTAhX//jhAAnsh\n",
       "CWyUADsUKAGP+6F3AWq6UEHtK5KoTfWXzd6si3KZftYihES1OGY8rYhKjDs7PRkyS5oSUT6XnZuy\n",
       "DMsNbtAHQ+jDpaDg3PskBs1pvvIgSMQcX3mLyKwuXlqzav9o+2sTrq3OA9iq8wQE1nf8KANb7HPX\n",
       "lbk2Ktcwf3Jq4CeA/m/rRCR+iksfzvaCegTFO8/ZcYZp114bhdHQOt54G96wkzP0BqrJSZD/ib7H\n",
       "oH05U5O1k3FtEuy25nm2Gwf1L0qPRZPyHK9p6v2w+arWbxy1mVgAAADoQZtySeEPJlMCFf/+OEAC\n",
       "erIdgU5nw0dLYWACGrJp2YfGFRXrjlR76pIpdw/pIwMscHmbzSBYQEH0G1zNxpg9RaMdM0lhAGjL\n",
       "yiJ+3j5PgOZRZed1/nfa4qUB1nz0w2Tj6iIIuqA38QciII5zLFSlXVS1HlrAx366ZpVoh37g3/Eb\n",
       "Eo8rZQM764s7UhEz4+anzJCuGhMObzA4yTrE12wieTOX3uWghzxEVEktSj5VGGkQa+DIKUpMzoBL\n",
       "jGuRBNK/5vHiS+5IeXQxv4UQyXmGFJKrsBZuhdkzbYjg80rFpFVGJbYArNKZgAAAAOFBm5NJ4Q8m\n",
       "UwIV//44QAT2QiMYRWvH8A0QGQG0CAATAgEKJi7n4j0CQrtzxgJvPzlBUErw+7GAgs6rQRfs6sVb\n",
       "kL1Fv8RF8iQGeWxrzz1G3uFVdz2KDd0mP8vkI9Kw+ZXdeZd+4FCIWAUZoFGP+QHMA/6Su7y7V2xA\n",
       "JGb7ZRIbo6DZBhDmYombO9kXyj0LYkcAZfiFW/G8uKZyx5IgIM89HR1XMnl+lKr5mVCUY8/kzRPo\n",
       "yBBFJAH8OmIZUSd9VKFypUmjjdoRur+/k7vVgX+7v9eXNDcKB8WO7AhWVm9q8u8AAADgQZu0SeEP\n",
       "JlMCFf/+OEAE/OIvFLACw8gCz8ec5JYTZkGmkqVrQg68MrWeSD9GSj3a6yje87cJPdQC3bRO1VQ6\n",
       "gjEfJ6v79swYq257CHlg4VmvjlddShuaiwI9ImmHySdGSDRIQXqPet/HCBohzxfCr0VD+2ONZSOh\n",
       "h7/3nDzUiqz++PPv5JsIxU4o1kCQ82TE3PeopDhwTQANyoaplxYs8yiB97gmZfZJ0dzsjSLTc4M5\n",
       "ISk1uqjODkrPJdYLCCfI2gETdrf9sYaGerddtRcf0q6vdm1vosJaNpXYx4VQLaEAAADeQZvVSeEP\n",
       "JlMCFf/+OEAE/45sU7nuL6gAXQKruN2d9xiaSlMHfJPNUdzne8Cue1ZKNSuzNs3GkPoZE9PvG22k\n",
       "pDpl9pXLO5MSUEiTMaA2fRBY2VDlhpwoyIUHv2h2E62OmcgK1LIQ8YfXFgK7cUv0qDEmcDhs9DYK\n",
       "9/UZyx8ZM/uCGHFCLE2tAoVwpPzBQOblwx/ORQLnk9KNqwXR/mNnSa0OnLtt5/x0n3LmnohNZKm7\n",
       "LRqUteXWlAovT9YsrwVOSgC9vWPNXJ9bq+yCWDkHQSg4eKYvBN/AQk4AQz/BAAAA7kGb9knhDyZT\n",
       "AhX//jhABNPHQ8MvRocMFFQAE4LHCzQ7dxvGA+T0JptBdidwuWveOWUAw9g8Oq9xI36ccFFzLPih\n",
       "mib588v/+bIzKaxuJhjJHiZp8VOaKIYKs7eZblOWhxnWeQLlNDNrdY6KsA8B3E984H7CQepGVs5n\n",
       "+7vbbUh0Sz40WQ19ODgSp9p6LSxHqeV4YcnowAr7y2U4lToTdGFEKJ8AJTkChUzfMO7dzn8K7AP/\n",
       "262ZmYlp9cH9UdL9iuvnRuZsOkhrrB5Dip/W/6dbRMGFjqtLNZIWdHzsDTtAqz1ujE3eLXJlW2Wn\n",
       "utoAAADEQZoXSeEPJlMCFf/+OEAE080haLABO3lE9l9T+5XlmKglhj+E74lBnbsUgH+/RWlicwjQ\n",
       "TtEPUCW2t0oB4+uj03573/As/OebN/WBaDOUI2AIDLy+xwNOwJtsjIsJiNaFQChoweFE/nXtwP1I\n",
       "zVJANTljhEsD9KkWILEfUKaOnaYgS2dXYwqlma7GBnoo1W60+CUtf3hXNfSOs160VV5GJzzRHkS4\n",
       "bMLhNMxLoepCjP5ZKWfbLzZRth3NQkHHvj4/OgjjKgAAANdBmjhJ4Q8mUwIV//44QATSx+yIBT5+\n",
       "hEJTK5Jnr4zQZBaAAEw19726rZgaA4Xyc+uW6iHvBZ8DXAdIqMGcat33DmaXGzZa2B96dj2Am2UK\n",
       "r46uLisLS7CmJ7XHr8Ymg7kvPjRwAmlneLLBUcJcIuKF6/qjGxC2E5r0Jhxx3zZoJ2GtxwYhX33t\n",
       "OUllSS+PYUMBQGNemYiywZqlxE1QCTC14S4gtcxSeV7PnZ/c1Aj7bZ9ZSc/xqX7e6uhZN1Rrv7op\n",
       "HuQq8OPQsMLjfMNJGPAEEf3k/5kGXQAAAMhBmllJ4Q8mUwIV//44QATU3ozC+laWUR+IAQonRAgI\n",
       "W3uXNnJfYeNQuopTTjVLn7h23D9zDeqT47yLYURIxm82PWNr37n3td06U5IAjl4wc8kZcpZhaECX\n",
       "GLIbHja1NwFo9/fEtIk+PdLb9SSoIw49tJdRH0SecA4+QQbMiwzvvrb0Px8jpQb6eYg6yr7tq2kx\n",
       "OQIFWMxpbATPy3unJ7NzM7C6FJcElpJP2N+yjI+S/LFfXIQNnXI1duH1mATivHLdsDxVIL5lTAAA\n",
       "AMlBmnpJ4Q8mUwIV//44QATbku128u5NIOzWwoXeo0QATZs2JJ7aLTeODZMyC7Z2XYtjm/iS26pe\n",
       "bM0BZkRvro9UMiKHEMO75zsF5kDf3x3fEx7RF954FO4Lxn+Wu0iklWJ8+QvNITi53RIbwkkQs3Kq\n",
       "xJH4AjlvCmJOWukealy9+Wnm4aa7sA3JMqIhCVb8RCRXHjPFw8s5Sx5hdH/bAvSRvWHTO1iI5OBf\n",
       "ucIO4pPV3UDm9/eIXAj7PdrKjnSgTvXCtUJ6MR8tregAAADQQZqbSeEPJlMCFf/+OEAEssRqS0gl\n",
       "VN4EAAHHgOTtz3hdDG+d/T8TfVbIgoJqh/fWm6zLyfRNWSaYS2u0Su3Y2NgFXVg/7Ok/9K+L6OMY\n",
       "FnECGSzT+yvqCw/NhKm4NkbakAAkBxqYnUq+ihB94xDqfhYDy9NzxGk2H+n8cfuwft6z2qtPzMD2\n",
       "i5PegFQLs/pYskyPpGyO53wAWrQHX8veFDhNyv1blNp/nUmw8BcoWqZYZGXbTQs2qj3C2UOoeTli\n",
       "roG1n0f3ngN5DoKPCiQRDQAAAOhBmrxJ4Q8mUwIV//44QAloheABa6epx281eqkZGc7g5irTuS/D\n",
       "0wrxYGLDQXx7Z/PDO79aOzwfo6tu4jqXjkcBR+FMakfcdIiHvqufLjd1PHpGxVAVdCjYxEioFuiv\n",
       "V8bajt4h2aJ5SspWXJviJ48OvaCv8CvWvPPOZzo27O57pP+y9UTI4XYuF4EzIliF3OrgpeMA3uU/\n",
       "uKF4jC7Tu0NzVYBjsJ5b9skZuDC5iaXw6tu8L9mAE7uJcsMs1uwor896NH7xKbIWFSBgb3PSfG3D\n",
       "OdNiFrpzVtCSynlEjKBn3vc7guVKfh1IAAAA60Ga3UnhDyZTAhX//jhACW7mH5JwAH57KdCY1yN+\n",
       "S8683ECmMTQogGP0MENA9OdyrGl1lWeSULX3H4HQJfUFANr0MNuRGktN0NOpc8wanTVVxmXepWjY\n",
       "yiaxNHRqI8R2E86h4i7yk5JzsOtK6MQ+vijQQVS6dq0HB5Fl2kDWPeyWLkzocMNvxma2laTz0zjY\n",
       "F/phLhwfEKhRymUz2Y0gOQ+oiHRGUmT2YMfEG022GwGzu0UHvEHINmzX/fydwoNr2B1ayqwsPoOY\n",
       "S0jqLlvIxECsjiAFwku2vs2FPV5Q/ThDrs52h8W0aH/fDqUAAADzQZr+SeEPJlMCFf/+OEAJbQdq\n",
       "lEAJnHzTVYv3/M4LOMs3hYkOsGoyHv7I9F/0CCRsDLPb85PRNELFS8qSaVwj/y6Ubg3vXR4Jy+Mi\n",
       "WG8E+OfQCLPP7zonv9xmS0V0wyQF04eC9gLlmzJTW8aGgNIk61HTs2nuRSi/f7jZlUMtRhXA6BTP\n",
       "qCZoXy2thSEloWeq6R/r+QDB+ZkBAjZw90DpK0UT/TfH+GvWqzX7ky07f7bUGsyVPBj49X4fs0wP\n",
       "lyTad2mqa4J6kA9LQNEGnr9zlTA+Djv/jQWeAWovqV3lgM2KqvXHFj/Xlk0xIjAyxo9GXa2ZAAAA\n",
       "6UGbH0nhDyZTAhX//jhACXfMrlK6AFqPivvnWsZSpbzrah/2qhYIhy519cLk7obmXvR44evHUa5+\n",
       "yw9jEDlNw7dkPDWMThtnsqJSljZ5QwPvk8JDnBTP/Nugenws+rGEnbPE1qp35HzsnGiV0KwpjGLh\n",
       "kgIxnXMSPJmixXyJXVD5K9xav6nnnlvQEG6bjrIHVXMOmpgJrRa35tWB+t3Yi8JfuKbEPAKomS0d\n",
       "5xIQxJVDE+C5quQ8L2MoAvCe53aOJdgRZXhfhptSTqbBanh5Ujw3NDiX2+MUHQtsVg3wfJHEvqSY\n",
       "FTB59D1NAAAA7UGbIEnhDyZTAhX//jhACSWRxCLFx7oAWSzRoQ9Mi6tLf80KeL0CG8MDa1s7teAH\n",
       "6s0s2i0WoljE+8QchCQiJLKrGTdortUFJFRHl2WeP7k8jbFSlj+NOYHp1yd7kzMBkl8q9wR2rA4R\n",
       "z8UMBJAKOhNKKlEAodJbzw+fCiVErzbBUsiJT/DPZqG6gmHBNMiSnJdLGGmC0tufF9GDfaXr5Yl7\n",
       "S6SfSO682Jwv6jbYKRV3Pfu/J93uxQKvgkxkX3UrHBzS9quZy5+3YQroPY6PhpR9goRKvjHofZs8\n",
       "ivmhfjTvh6ljuA5u7q2SschxxwAAAPFBm0FJ4Q8mUwIV//44QAkyr8TwACJHcymhJm3wWHn0ifYg\n",
       "AsCs/kayyz37ELtdl7v4mW1jJWBvzA0TCa9fAMD4xNA2X27uNBs4xyhgoBt348KiuJ1AeqxSEoHS\n",
       "DHXrkpJ5hl6D1uxC4+BS3wTDerAnQ6SxfR/9QKlVfhzPly+ro0c5emF6RZOzqN/ovz9b379+oX9u\n",
       "wttbOHeQxB6L4lN/YhAyUwV8UT4Am1O2SoDk7TReogai77kWl4gQZNpvfHW9qe1QMMPz39quVOH+\n",
       "D1ovSXuTuT0QYfKvgxH/IVlAmd6giPQgBC2aJ/nYOv9G0JOAAAAA7UGbYknhDyZTAhX//jhACSYv\n",
       "5owpDCJAEO/8xaM+49fy9N5ySp+GDFa6oV+GQKR6ffIxUuKJR2aqCklUTqICocT8NdbRiizBuyp7\n",
       "czWovq6SBnGrTOXs8pyJSf0hKgBFQ546TA0uus0oIAZc9HM+7EH9cG4EwcHIlAqOy8Csl8QqQTJi\n",
       "AORf77x5QI8/7Y/SIyLhsUmNr+JyapjuaIRtHuniuNGOO5NVoII+8ICiNF/n02xJQu33JWF5zARY\n",
       "hj59t9gDd3U6QuwjHnepq8kGfd5cWRz3fYAsQgEY7bQ1IuAaeQFOZbwkDBgMSpbN+QAAANlBm4NJ\n",
       "4Q8mUwIV//44QAl3EvLCo0ZR2nJoscAGmHNbNyfdyd8v553g1qY2dvfb/2FdhV8Rxv1K/bK0Bxdw\n",
       "eL2zfulvYyhhSlXcu4KF8aGjaZ1RHOg/hI3qjNH1FLYw0z3PMDN9YdHlbZ9vi3+QLNjgNcXhXoh6\n",
       "DhW2qdZf/7TQ/FmrP3yLRWmGHl8A47wCU3WjzJhaPo0faWEBEWEPkOHqkppkAa6XuxcJZxP0GbL/\n",
       "j64EnXk5WpdifpbKgEpHXQKPidhh8OLW12++UH5rVBVYRoVwnav/MGhhAAAAw0GbpEnhDyZTAhX/\n",
       "/jhACS0PpAbvAjcRb4bEZep9N2Tr+vWOHGaAZJw6Fk1sZN0jmPeiL+RB3m1gaphprr8cOlKfX0rp\n",
       "1XGa5GLKL94X5+KJ/m1jpyl6NOjT8O+2Vye0OOpo9G2A6VHXVhhNhF0/CHteaQbWhthTFA7tMqg8\n",
       "gYDCLrrqjfKooDjNbFrySIymJ9m3kjXfGUtDZpJQDQV0bpWuqE3tZjguBZ/ZwBqoaecRNXM0ijmb\n",
       "2TOOIDEqppxRzLa2gAAAAN9Bm8VJ4Q8mUwIV//44QAkl3wzO6bAGHKr0JiAa5dUtOxrUc1fINYT1\n",
       "0wThs+ak+mCpLWuDOtZhhZ2ysXzoWHf9Jvvt9xU0SxoCSRCwFz9PBJS9bnb35Akjlh4cBboFphxB\n",
       "yX7X1U+XXI8oVneN9Bz6Yi9FbSpaSLGgp9XQ1xo37mTo2pRM9UWOklJHPOBDjPtQOobZEcI73gN7\n",
       "BbJJj9SiVEJjXMXBZQjK7+1AdzuhqN/Rw/tUPZ0uyTIa0dq6kIsTSqdmKbz3Uc0MTu9UmmBQ/e2a\n",
       "v35HF8Zw1BY+pFjQAAAA40Gb5knhDyZTAhf//oywAmFLCstjADps2FkExQssBc7GCFnNfWS2Kfx4\n",
       "6Pm10Fc7OKHqR8pAEx0oePYrZ+2Z48biHNKEnUCbl2SN1cV2YI5N49Q7JOtqET7HHRfOLfXHLz++\n",
       "AXZw00f4dO1iRAinCOFmNlqxg5IZgufKR8CZul4Hm4DV2BHKK4JjlSKoL+BIANe5roCfLTOhtRfk\n",
       "cZ1BEQ+SP3grYJTdgjcOaqxEsJIquKO+U61enbnIKZaBdt+pSwADa5dCtos6kXPv9seaHLuSxWZL\n",
       "oQ2OqAXqdGLRAWb8V1SxAAAA2kGaB0nhDyZTAhf//oywAl+Y2LxE2AwN0PDzyr4Dr1pUfuT50hTR\n",
       "SikH7/jYmqEZgx3H+lUsy6CghozcmI3MHSMHV2y7r65UV57r5JJ9da+qJpRU5nkzch5Mhkasr1eu\n",
       "HBDN5yXLBb2VfbsGopBEtcY8Lt+vDqwhv4Gzyrs7ruYYHEbsgog+jso65nV3brt3G2cl1dHKlHwH\n",
       "xF8mqIL8Hf6iRdABu4PaveDdsZB67o6OEhRvW2pYrLdlrP5KNNKBYYa05XBTBR4ou9OE27iNRNuc\n",
       "c58L9oTVvT/AAAABJUGaKUnhDyZTBRE8L//+jLACX5SlQH9BXvcurqTz3O2CWt33qzKhXztn2bxI\n",
       "BEU01yPz0kOT53E9n6DavofnLlKkEESY41oWz0k0EDEekFaIAg06yKm6ofyPhWSfgkc18v86D3lo\n",
       "7V0ptGldjA6736Cdco07KNhR3A4lavzxCT1nWT1+BdgSusas1b6VSr2IgotQef3ZHy35Njv/Ah4K\n",
       "504fm+oJWp8d5VQ/gL1kdOkeLcKUdQl7Na7YmtxsaNXC8SYsssy6yFcjJXbilldT8HGLpA6bSRhj\n",
       "YypL2SirXgWK0gKpWGNs9zhyzbTkOI8EMaIIiX+ISlBYjYfUhVZna3F0Nk6xnmS/oek7YmXI5TLN\n",
       "699QPvwA+kXlvOa4R1zsE9rEC+wtAAAANwGeSGpH/wE1jzrsOLnli/I7bQw9fLM2HJQ7OLeRCbS/\n",
       "faovxq9AAmVm37jNM4JHJNU9JwbzasoAAAFZQZpNSeEPJlMCF//+jLACUAo443feLxQ49c2EBNtm\n",
       "y/vDz56jEl9Bk2PaeuTfZXaclFF7bh8EcEU2J9j/U0miBzdMi5QEfUQDsxueMhb8BSYeqj+qTHnn\n",
       "rtuB4IlPeTl2sNSVVs10PR4z4m2luT16GUVAdvdK0V4PVmZQNf0AV1PWgQEUEWYbpDYGHYD5EGqY\n",
       "Jf6u+3EW2jKHm4B5hTSEqzyzWsXV8kufL6GCGEzMPt6BIKK7j9WOI+ugIawdih+nCQkw/VWu5PWi\n",
       "0bZzEXHfUcbC+NwK1vrf2L5AjEgCbqPxmom8G3Jhq5/H1sdVCCkydgvSzbFseCv8cSTVZjYFewAq\n",
       "Wore3gd+z/RwIp/a27HtAy75QAheMaVhSJakWlPqdFvUIsA9tIZs1DwkikTjwYQqgB0DED4XpKJe\n",
       "TRnRfGgatH6MvairGneP4HUrzHqx1MBJz+z5LruXAAAAXkGea0URPCP/Aszyo/zsdLJcCq8fS0ky\n",
       "KiRlc1H4Su/xhvc9q9IIAbm18wvbISLsTyAUzbTnMRE84QcgzUcGf6M0k6XyoNnBjtLNwDN0VqTQ\n",
       "GUtS7hJOT1ISv2bN81cAAAAxAZ6KdEf/BHGIkBOkFuCLoqvjqQm9kNcoHFmKmhKgAnM0LPfPh2yQ\n",
       "5eDLbqBQ3tG2gQAAACwBnoxqR/8Ec+QVPE2p6Nd22O0SkGFrYkuSCKcwdoYEQwW70yO1crEMl7Cg\n",
       "gQAAAT1BmpFJqEFomUwIX//+jLACUSRZy7xAJCwD3IEDC//gFstRNnb8ADJ9LeJ5GAzoUmOFSBVm\n",
       "2rqgbxMNmBRsecqsEmz1CbIA/+Vzih7+DelQns7Hh7AR+39RAJfHBslv3A0OsoxRFZZWn5rJ1Omq\n",
       "4QLtQtc5SR5Y3v3WEwtr9yDIEbzhHAvqNgmcBS60XxGiEDIJ44TTRlx7ce1s5vosrLR1uQMHmkom\n",
       "gQIJdY2zdJ6Zu/hmcOZ4ldDZUk0GlnEi30XkBS4MM4x9sjYcXgC727s3pHotJtw4EpB5sh6UOT8m\n",
       "VtnjlYddYdWpERbfrcqP+/FTl3/3qGUa+sYGz9uY4bGCuGmtUXCHsAFlrWWNATSHXL7JBGQ3TDDT\n",
       "lF5RlrF0/m0TqFeTtjp7F6KWHQ56QkZ3Rpr2su+ivbwLmo9j5gAAAFxBnq9FESwj/wLWFBHDh1aW\n",
       "albJ5hvK54ARn1uYuMia3ArPseTnCjybpxCjW1jRJLiKvlIQY+BxObCEwm4dwtEFxIFBXNl7/xze\n",
       "8BFUzso7p6M0n/+QKBP4ndYsoAAAACsBns50R/8EcYiQIQ+Y57YAAqu6YTSkeFwqU/H9lQUUFA51\n",
       "T/qKiQY3/DJxAAAAMwGe0GpH/wRz5BU8TataI0G4jYW0ZcwBCzfFgvf2YAcrdyJG35cYwAD801y6\n",
       "ikc44vJycAAAANtBmtNJqEFsmUwUTC///oywASfJaX0RXxdPQABxmC4L+O/gWzveIwypnCWu9Aia\n",
       "pNo778mXWW86ecMb+VSbWNVYRkXXCuB8nTnzV9g/yUoSQ8WHJ/PTrK+7t5cbkAcyEwNwBcifAi0s\n",
       "NSErmLJ83ze5T1VVeOcUry0oZBhgPjfGxAIN/sUkpYezpYsQLVTBV1w428qwQqIIYl3LFyhsDVh/\n",
       "LFsQyOK6UhpkchavybDosXuN9FmuFSRGJz0bhOMSDOUq9JifEtlnkGVYEbVwRl7i/Pw/Nee1/jqc\n",
       "R8AAAAAhAZ7yakf/BHT5EgMxMwTWQrBuDh5OIacGvC+6FukZ/VJBAAABKUGa90nhClJlMCF//oyw\n",
       "AlAQLec2oEBzLAFBJUYTaqzOzoXtd8nVzhAqr/x0g5gTBlD+wQwNr6dErJ1p7sMKx58z4BYy7+fE\n",
       "m21gNGfmObbO1InnKuCY7Hd7YBFtToxqEdhoLWFbgQ9joakIP6E/Tmu0jMHM8CY1hjfJYxW2S1QJ\n",
       "qwSfiYuSfImSQ2QtIeCmvNWuhTfX7kQYiP90iSlcHzk++GuzRSwf5PBPEPpR0/sLIDwRUzfJZL3p\n",
       "pTL6Zx0RxjuR/xoiXEdYAxRdb43awzT3APted5g1Z6ZwAaUA3wP7M4pPGh/tf1pbhnZI4B+DGstX\n",
       "iRLlYMZk+ZyBc4VxKQa5rACNKOsKMpDlwBCvjvZIFfA1N1eUpFPqbGZ5N8zfMfOn50QlNuCEHQAA\n",
       "AFJBnxVFNEwj/wLV1OnIJC1QyVpHP/gCXS3jAAXQAA12r7hbXyUNU1Gj6p4rpxmUHn9/t0I09bCj\n",
       "gRVa0jN2zxtWROvtpb0wP6imNeVDHgY2OSyhAAAALQGfNHRH/wRxiJAfmNaLnhgMM1D9FSM+fAAF\n",
       "ud/pkiyEpMxE5tQ2s/OaMNBqYAAAACEBnzZqR/8Ec+QVb/nw5EHIHe697quUn/9ZpPcMcDQqydgA\n",
       "AAEVQZs7SahBaJlMCFf//jhABJdunaLAGyDWasnoINrA8CaXB7q9Cew9aioJ/PWg2d5voFX529D0\n",
       "D4q/Zz3bx4JXAy2yGjbe/tUQTmGatPCvCQZjWGdKZzE6i5lrgo2FgPhWZGcVSg+sWFo6J5zSl9Jd\n",
       "Z1kGSxmzUFLAARHZnppSAl1rery4DRL0BKm3BJ91Wu6k8/GNC8EZbVR8uzW2YANe+dCE4fEpDyLf\n",
       "zpGF98i9hO+IlYHMDvGLvbwnWuq9TvfCE5oPSwXocCwuCmf/v7OcNdQCWd8m3BdK+qIIrR2xykYp\n",
       "pMPQLggcnzmoTbU7ZfLOsFQ8sliaZXxo5qp3P6HROxaKakT0+5hHRcXmyUT6w0urHYyrwwAAAExB\n",
       "n1lFESwj/wLWFAk9yQ5xjWU33xK141+EviZ1gAVOE3Bw3cAleyG9O5xm0vY0UMBFOXvOkHZnqoty\n",
       "TKnRuHaEj7f9l1/ddtNJI5iwAAAAJAGfeHRH/wRxiCkV0aUgjL0BP5Os3yh+pgBeEZhsCMnTF7hg\n",
       "QAAAADABn3pqR/8Ec+PaL4p5/bVgABbA0QgcwF5qgaP3UnwKiJhRjgpHsxyfrbznCSEENVsAAACG\n",
       "QZt8SahBbJlMCF///oywAS/Jx8v3AIrGTo1P50n/iB87AiCB+b4rASElLvyvjxhIkHa62xeZIQKc\n",
       "sa/2Fw6zbGE5OJ0PfqFQn5rRaZhukZvZ/CbFDlbD+KSJzpkgZjJX3i6EIrOVPO3WfaTCgUBGbSRD\n",
       "iBnV1HYkk8j4Ln0neNtvhZemZNwAAADfQZufSeEKUmUwIV/+OEAElq6YPoBA2PXBu6WcCOsQOMEF\n",
       "EnubRNOGO1jy4yb9Tm2CnvJSB1ZPx15e6B4eM5DqsgNEluAT00BdgydVCuIITUsvOWTbRuPGcw8U\n",
       "ykpTk6ijWwM9D2FVKlrZ7UXLUue5hfg/21kUsh7lAoCxLRbSzw96CjHT+siUK2HT0XhbBV9AerHY\n",
       "lLDXdlZPX1wGkfoV+WTDhpZuRCiKD57uzZfveqvUcfnhJ2A9u1+I9LZHEfLn8+fWjZ+9YsX/pQ9l\n",
       "fgzW0BtXco1YpAeXKKjEoOAigwAAADRBn71FNEwj/wLV1OTp7IgcxiTBN7O3eHgAKzaCtF8xYCiF\n",
       "ZfZIxsqX+wq5dAiXYrelyK2hAAAAKQGf3mpH/wRz4+93u0IEUyimTYLGk8qra4SWKo5VVaw3/I3l\n",
       "GJuQ9ApIAAAAzEGbwUmoQWiZTBTwr/44QAjn0ZQAI00jHqbgi+Jn3H092SHHwtOBLSbMrbJiH6VG\n",
       "0NInMwmQ1n3dp+2zdWpIJfkggLZISHJEpLUfGpAA/2nVbaanZB5PmQKYyf8Ygn9ryHy0zOow73MA\n",
       "BkH5BL1y+epFfUyaVJhsMR3yywMqBY+yUmWbDe6U10+mYLGjQHr2DlbiXxKeZoZ2LpGjn8C106iU\n",
       "CLpDQS8N2YuUGCDc5NxcMFxX0jF5Ca72Vfd2bC3VFBxIb/yN8a1J2rU44QAAADIBn+BqR/8EdPkk\n",
       "C+INVeTmlWJU8O82BrCJOL1UANeSheQAfq/7x0kcVPlfluB2KaCXgAAAALJBm+JJ4QpSZTAhX/44\n",
       "QASZgJSCAS7d5XQoeXs4s2a8wYysonJQTd8d79EEpHN2vGQLQodP9KJ+OmRioWoz+4rAtPZVTo1N\n",
       "WRmlxO30LTOLn4mGPNXEiS1o6Qm9fcPwl8eg4SdE5QXzKKb1FlIYfPs2tlqzRa0/dTbD/FOG6xnL\n",
       "Afg1TaBxE6Uebz57DdWCNuLsuabrEiKQezUE2eaVtSFzd3/PJ3jzq+uWJdNMx+RwOMCXAAAAnUGa\n",
       "A0nhDomUwIX//oywAlA+gIA3wkJYyXpvJdJ4TVpo/VPBJlVJzFQ9EjKtpd3filV2UUu3YuaMPPiK\n",
       "eZ3p/KjNn6T4DbsRNndEIkDfjpOtsTDliVn0lFCXAYAM2PbxcvcyIS41jKSYpEOdsOJZicF26Zr/\n",
       "Dg58ikd8sr4REX05FrAbZBjT87f82fnD61xFvrrCXybtkETt+B6PyesAAADAQZokSeEPJlMCF//+\n",
       "jLACUIeqYgDlslTAWPF95mDz8Ah5DvsyTm15LUa7OhwZOKOi/LSkQv9rz62buFV6+dX6JWEOP9Fb\n",
       "2XLlFodEsPtsWMW/lcefllPs6s2+pF01jVGYtT+96Kk7/YDm3Oy5E6j1jrMcxJn0OQm4dkq+7+qg\n",
       "jNmupkUWCN39/dEVdT3nycaXgV/OCUs0uP5xr7WOKLIwCqaiMQrY9JXMrF3UEo5WDfCJkAfZcvi6\n",
       "DxJmxKY5HPk0AAAAyUGaR0nhDyZTAhf//oywAlCF5QbYgR1v9lJJnABY5hQfzwV2ShFjUKypOzrC\n",
       "VV2g32l+HlVlXNVdlITrFvVFg2q8bO7iOihCzlgfA82cHL1yRazqjX0NVnRRca+t14YQr8H7hD/a\n",
       "5FkurGXRE9kkTQcWIuYmNNEW+tzamhbjS7tZowQHJW+i2lxRSTDg0vIhq8ovdeGfpwv6/HVjT6Z+\n",
       "UyISjLQq4rAM63a+UK6mvF9z8OCq9cQHoU14lhUjDfwmLeNlRJwaf8QpIAAAADdBnmVFETwj/wLM\n",
       "8qP9mMCd+DxyQVeBLgBOmAEL1prbcgIAF0u7cBnYD71wHwKdTak4bjOnlcLBAAAALAGehmpH/wRz\n",
       "5BVwq3gljNhuiNJ6sAFzG61KMh+ACdtLk6CbOjnIZD7bgxMCAAAA1kGaiUmoQWiZTBTwz/6eEAJK\n",
       "KC87CwEonQt/yoIHcdgB8/K3oJSteEq433GAmYmoT/YqkVoOqvA4nWvbl+Rk7eYc5A1eCF7Q8hwC\n",
       "IRlV5mSWxiQlCy7yy5R+hFE7HADylxcwf5dMSAtloK8e6O0/9Oyy70oohgbQAic81+YidBe5JgmS\n",
       "9zz6ygp3t0fkNqvPZ+P3P9S0SL7jMewzUakM8Di+3hGCupgb2RFG4KsNc2RAZyCo9ycdPw9woVxz\n",
       "jL+H9Oz4uD8Urz2itpzn/dScV2FdpOOc/NkAAAAtAZ6oakf/BHT5JB41aaWMKD4JT434j52z6oLB\n",
       "TiYnuztnxOaWThn4RZKgKWl4AAABDEGarUnhClJlMCF//oywAlAPlB1QwMnK97kq2Q4gAbr/M8iH\n",
       "Wp26aVTildXTHWcguiyfo7gJnqyqimEJWgh4jcQk/+5dfxMRPX7pZlVNNGaSk/9qpnKpreWNCX21\n",
       "VSiw89D5bKUydOJVDcg2Tn70RCnftK5fRLgsXUtMlkQOU7gojwpIp/5jNtUtNZ+OhkIZIvBZHSZw\n",
       "bm/jGrXcGJUqc64DF/+9h7A8CvQvpswxbzqaFbXetOasiZEa1rMU2PDumhnt4qrSqEJnxzQIfqH8\n",
       "nYB1VbRGNGfE+wrV1Da5qsYFi/qqo6crSlfRh7XDIBQ6E/sZaE7lcCXGPRyPU4RjewSlGXD3vrGU\n",
       "OJDIkfEAAABSQZ7LRTRMI/8C1dTpyDNBcksPjFFYQzwNDRaqC17pPrFkthzX3hwaAFX+OhfUdb/v\n",
       "RC7zxGC2BPiEs+bVgBI/ufgyZmEaim4tMVe1TSUoOamqtwAAACYBnup0R/8EcYiQj235lR+2Fssh\n",
       "vWFYCeqq/rBfnh3BWGGjqr8T5wAAACQBnuxqR/8Ec+QVcK2kiw66NbCHl/crM/psAOlzgFLQ7saE\n",
       "RgUAAAENQZrxSahBaJlMCF///oywAlAPuWcAHFNC7PlOekmrwvxpWTMaXBhVDs2EaymFcy6cXyiX\n",
       "1NyeBIsty8Kz4lrvNzKcGwtHqLm5SQ2BJzgMAkjM1d9mTdG0fcAMlMKt79npWIrUn7x/m3xiA8He\n",
       "p6VuOJFDJkTAi45+l37lNhRVrj25sK1mhGJBCJXVT9o1gFYx4iz20YfiwvPinwp4BDo6tggWpl6C\n",
       "YkFXP8SpGn8CvZAiBLCh/RVqLmM13HdNMlGYlPS2ItOzbnDx0wE51PmpN8qspy1hJ1a+BEYQaXA7\n",
       "Nh7gLgujv9+a4t3CY5fH5PlNTTfJ5XAkd7qqfcIGRsCLCGZMDxqVVXU3NfotnYAAAABMQZ8PRREs\n",
       "I/8C1hQRw/pOkEWXTubOAXbwgBI+uWlqB0uIZfnZ0aAApCeEb28JhEsbGpMcXlZ/cdpPzaA+irfE\n",
       "OfudktgrkYXOiBn3LAAAADMBny50R/8EcYiQFDg0Tm1sA7lXNDuToAVvgGMtOqN0KSCakHYT3gkh\n",
       "SnPj32lfTn/oYEEAAAAlAZ8wakf/BHPkFXCtcyGj5WjuvQ7hblxNjKTBb2QaNiGfwsLwgAAAAQJB\n",
       "mzVJqEFsmUwIX//+jLACYU6sWAL/bN4xVahGnm6dLeMUx8rOltQB+IwoWyeWxmGEtieEuVIMooIJ\n",
       "8OAxDyj/t5MTcR8Dq4ML9cReTCND6uchqon/z1RR84gvlsPQvRSVijEMCeQGgm13npxYN3PusS/3\n",
       "+/EsxP3VQxYza7nGBAiKSQKE2k7ajuk6ZsI98hARzuxJ7+RofTPsUEaY463nxs5so2Ul6ecZN9pi\n",
       "vLaH+QeIbDdn4/hfIgiL0MczVZ3W0uxVaAA/p71LhxDf9i8Sk0XnokVkw3Nmjq5g6oJ+7WUyuKUl\n",
       "hHOkY5O9iG9Q98Uir7UnHKrkg0cEwR6xPcyP9yMAAABaQZ9TRRUsI/8C1hQSTa/f0F7ZADubOi3c\n",
       "igBUWUkByLq44JSTRqL1vk4qyhJDp91PlAjxThdD1RPX/GHWpamYhqBcuKnhTlqF7WXp/eom0ijt\n",
       "TsWDJ38ia7uBAAAAJwGfcnRH/wRxiJAUOFiKdF5DWaACqPojEhrvOK8clncKlsTm7RNK2QAAADYB\n",
       "n3RqR/8Ec+QVSCD/Fhyv6WNfcoy6oe95AASc4BTw74MBW3elebG8MuNzB7S/J+1Wuabn4WEAAAD3\n",
       "QZt3SahBbJlMFEwv//6MsAJhTApjoiKOorR8ADhgrK7vU0F0GaRi7BBs9zGnnuP//LqKwm9pEsHw\n",
       "7pXe90wHa7W82cDpEY0g9d88U/bd40Q++MVe90zJrnlyRaBFWdYUVr0zD4W3gO+PLglnRfYX82UD\n",
       "pr8PzdMyKt/zfWJGnfVF0USwWUPXl1daOXlRr3xrKWRD3+t3of7Gn0kNoTW3QB0XmWqsvyyAbA2c\n",
       "9TwXjZ3BiG5Xwhjyt+K/LoiNtN5WJFb5ZZmQCeg5tqKMwnk7wuOJNGzt3ehxOlzn/p1EkYg9ddSu\n",
       "1+M+KngoC0kijxn3ngUrxrNraAAAADIBn5ZqR/8EdPkkDKLwu2fIrRVrBOn8QALkCVGAq7NzK0q8\n",
       "+IKPiPhrx3MV6NYrciVLwAAAAM1Bm5hJ4QpSZTAhf/6MsAJhTJ7FtsyPe88KAOV2TJNSuBCpewL9\n",
       "9dVlknCZdoW8BNTqytYSJ+Y3wLD8FXl7L5L9z61QMmxtRzj0o7GpawEydmZRMMZypXms0QR+zLW2\n",
       "3NHwF7QT0TfANln3cwTKif39X4BT1To80oG/gYk8w2CyKo5Dc8DM9XPcoTi2Kglsm4RfWuy9dOQA\n",
       "a0pAScMlY3Y93e7D72K5/QGWt+k/q3lrowXxkB8501FFjtShgtGS61iCaUcguiHEBRExegfdAAAA\n",
       "0kGbu0nhDomUwIX//oywAmFK48reO9pZyN5OAAKgfBJtZedRF6Sr2LjQHxBdCjFS/YTyNXQ4+rXu\n",
       "jdMN8ULI8boRY92wVhXCT1kUjpXibTMsMbL5cl8zBTiX++uJCBsx5sXmMFmmdK66sFRmEaew7WAe\n",
       "T69lxWovz87nvcgwMOr6fkHOnJwlnickRLKNL1KjdTsaQlIX/Ju/vYMqMuB4TMoR009LV10CkmcT\n",
       "ktvR3MqSeGpPvFh63IbD6o7vPXdUpQQGbWoi1X5gUqmaR6TXvxCkgAAAAFNBn9lFETwj/wLV1Onv\n",
       "KRNAGFP7a4Jn4jpm2MACQDAA4cVjkQ2vCQGJl+cigjl6uzQnJcP0mkqs6602vunQccYS8exOBcR0\n",
       "NMsUCt1iwnlCWSzfdwAAADYBn/pqR/8Ec+QXhkWQcciTsb8KciwABcwr9cSB6lOtVgGW6Qnaph9D\n",
       "7dKJNOzU9JV6sI50+YEAAAEMQZv/SahBaJlMCFf//jhACS0Ii0LR/RynRtjig9LPF6AERN7bkFDP\n",
       "5xiiKj7YngDNpvvhavNfYYHn1WTzeqbcBHYFGUnes9+qG3iRohXjtzsITfNUbWuDY8vBpVYTBfs/\n",
       "e3W+T/yjI0NQLZ65/s+iBCs8IaXQT2D60yPYCRkUHOx+HUcgl8cWQ1C9HRJRWX1MYJjH+vWtGNNe\n",
       "rt4dXjHbsFwP9fYnqZy36LrYZg3QUiKatoUyVQdMd+DaJvr1sULto6hJeqa29I65et9c9WhVujAc\n",
       "HNEvODzK5+erPBO+DP7U1i/P7uBtQfASgS8h6sE6o8ugO9mlKr1H/SQ6G+TN1s/Aasv5GsWFPUma\n",
       "kAAAAF9Bnh1FESwj/wLWFBI5yojhbuE16S71WXqKAEcO6UeRe8Gevb/uoD4C7Hpnm+kC7h9n7c4I\n",
       "pkUa+Z+pc0qWozIJ9bOz/zlOb94RnpU+nwazI2Oib3egwkF3klPHUFSW0QAAACwBnjx0R/8EcYiQ\n",
       "gWRWPnkynVO49V3FAZMewjrfy2WK8uOgqSE9Njv5E9hBWwAAADIBnj5qR/8Ec+QXr/n2vtsd51aw\n",
       "za1gOzcro6LeQbJ8sgBbr6VGMD+ZBwHmc3FuYVk0PAAAAMJBmiFJqEFsmUwUTCv//jhACS0PKKwj\n",
       "H+OXGV3dgCspKExS70sZA0rwhljKUE+1UsD3KxGOGzoFk9lyQU0wrc+EJhIxdtRaF728PHRgvj+E\n",
       "EDtGh6XvK2+w+mg4oxyFW/KHI4FZk7Uyqr/RiBHtLFMGUBKyOBH8bcrc1yN4lOeDajCCvr2fD+4u\n",
       "r7fqBWY/1AkcPTTdF1fO1N5ypeH7Ol4sihYBZ1Vd0J+mYgPUg4Dgx58qcyg6of6GUurtfRxYJMmB\n",
       "IQAAADIBnkBqR/8EdPkk1VbCAQsekKvvBCt1WxxPlUpqbywraf5ZJI+8DzOPADNTAmsVSc+s3AAA\n",
       "ALVBmkJJ4QpSZTAhf/6MsAJhZ540ALYZZhHWUL3lHrEuRv56pniKgw/YC398KzMYHCMvB1ye44oB\n",
       "r/HJoaZD5AKMifkIZLhsAm/p8o6I0X6vg3Qbc1jS49vnTuyHp7F8z4FVMbUT5M5xakCbQ2naS0jP\n",
       "Lo4RRHBynKNvhDUY8YXwzIWGMjSaMcrZQqSM5HV+eDNgGMCoxckQsLwDLtcmMCSdaP10UR3aUKhP\n",
       "GFIRVnOwDYybCR9xAAABCkGaZknhDomUwIV//jhACSWwIaeK/CRADbVvoyxnqTr8bPLPnP5sAfmR\n",
       "clBMPemRPhmfar1+CmwTvkTBbgHW4+r9IyF3JYAvzPvn/XXYSLBQ/+/pUs8iKB6yxE52+pvHEvGR\n",
       "MwXxxMDsctR6p5IKQLxgBXxjHxcuNnY5BrKjo5M7dIlcieaivY7x32NprnUrYnsaQFUAE9MsYfYO\n",
       "cHZwdLBEi21yr8Dib1bScq5yPWIkCY4n67KnyMkAZfb3HmJousxX6wFrBVXVnLPwJP859fNzDF7K\n",
       "YatMkAp1w26/4SCXA6dS3dgLkQ+z90QQSKd6Lc1uXyehMyz8qxMzWMfSytK+5RYnxuXeBLKhAAAA\n",
       "eUGehEURPCP/AtXU6e5ES2qkAF1FVepz+eF1+MCv7ixAwJPZ0+vBwhyvZO5oE+wVSlEaVbt4sh77\n",
       "CXz5SmKVmgHaZHP+e2QwGYfew/b5o3BB9DBA7MXbOJcE5xq+wxA39PA+Qpux/fwN9ILLK0jYU4SR\n",
       "e9cyfdg+l4AAAABAAZ6jdEf/BHGIkmdMxS3jtJYF9GpkjOsADjZ+LQY87t56ZUK6PtUWrD9fmLsm\n",
       "IBwOwjsHB8L2kvm7Abo0t5AXcAAAADsBnqVqR/8Ec+QXiBrs8MJuQ7BnFBUN1bNV8gSedZyezOVz\n",
       "2AAuN8o05zpiNi1il4jbpuIk0iSat8dtQQAAAM5BmqdJqEFomUwIV//+OEAJLRTFcABbO2DSFu/f\n",
       "XFsKQj5SCr5EH/CwOluloyeZRRd76qIHJ6uuu/0CzzOEXOznvmG3LADk2CgoOhAgvYD9bSclbkCk\n",
       "/Bw5NvLOjwiQPinSXcfMpN+o320tg98MF+5we6l4AdKCqBnO+pDamksR/MEahLq9FlXoKsa5viCE\n",
       "XwWaBnpApNFBcUMm95M/3DfvAQNz+vKd2iemllMTwlZNtZ0lHDirQaTJJZW+aDxz9usVq1TKCXyp\n",
       "KZWXgGOXgAAAANRBmshJ4QpSZTAhf/6MsAJhZTzc4ALfqgT7e9hp4EHvFhi+sQ21yvr2aV3SAlYf\n",
       "6p+BVJBLeQ2a1Tf0W2+vendeM8cTj9lC40uv1zz+o47daE47WGynVzdYS+RLOIZgtO5qUnVaQkfP\n",
       "CPLnhC1v5nJGxOqwIMDq/KY26FUUv4TQqjxfgQNmXMaZ7VM8EmUniAGIsDwUaBPXKa42KBxFd/HG\n",
       "PJ9w+SSpz9ey7utb9DSQxSMBdLoKgIBylGurRdinEtNfL8RSy5agT59yAvqR39ETCC9AjQAAAQhB\n",
       "mutJ4Q6JlMCFf/44QAklkcFvy4Y0AQdGO/+wBKrCqBbZV/KIOsq84/i4y9Es6sfBATiVcyUemlcj\n",
       "14PTN1BHtK7BKlUf1G6iGNXVa613/rjCt6aG0j0O7Tivk5z3gXSR7UAEmEttMDwxdNOVS5Sun2hF\n",
       "5/PUl1wcDlQn2BpMA26ITVMcYkrZtLDmwtr63Ba1+jbvzteG8x1C5od7qu4mEGtDzszsBamMHchm\n",
       "53OeOwhozMfCVlxm+1eFlrlaXwaxo1VP9qhQZ+6PQiSQGMCnPZEttQ1wKx1eOxzAdPX7SmNvHh4t\n",
       "ETiF93lKcdlyxQw9WCJkiYDaIumD2bSk/2V0D57NCxEwTsAAAABJQZ8JRRE8I/8C1dTqCsP+1QAm\n",
       "Dfvk+dXs9h4ptT9k49rKBvNWvciXqqtwjsn4kgjo75E+jj25Nzyo7IJg3RUuRUU+y4aV32+WVQAA\n",
       "AEEBnypqR/8Ec+QXiCD/bXnhUUd1n+fNXaQEZUAD6LlH+sp0v9TO2a/LZ9zY0VBd1T+11Whg1lLN\n",
       "uBq0YxzhuxbhYQAAAN1BmyxJqEFomUwIV//+OEAJLaAuB0ALBONWV/beivqnLNINYaFeyHhrsAoi\n",
       "3dGiG6Pl7t/AcZYKFKTidA8lJx+qVP4ZRRPpy/Y134yUBRquAw4iQjt90YJ03WzKU0IsPm9oTVhL\n",
       "z3J2XYDjL0SYguJGl6xwFLs01OYTvAsw3vN7ECVwINhD2YXBfsfA60mgBffI9k6Dtpaa7nYsQPjU\n",
       "WUSQWR+OFbZ6xhYKg6qOaQmSDVReg5qUreV9IaySZX2uJl3Ev1e8LIl8wQ5OhG/M7tO1QyNJMlHf\n",
       "w9sR7lmCdwAAAPZBm05J4QpSZTBREsK//jhACWeyHTHmgA18dS5zmzEYsP/sPHcQcFAJ2OicR4Mb\n",
       "dk7IVd7UsSFzaRabsfkygRLyJjJ3X3hG384NKcw5EmxY0uqNtAnHl/fIEr3ASsRPOOAZ0t9o7Csd\n",
       "BuonWaaSe4lt4G7AG3FVMoT+ONtw2UhZZcfmtbkXWUVnMyyiJEZipnERR49XefJRlPIf+9dJkJzK\n",
       "OmjP/NItCO2ZlVTBCPxoho0YgoZy1JZYuLAj/1h+0Dq2yOBCHZBI1NvkiOFldLowJ0aSzKafYge5\n",
       "mga8P3lYFPsFh4QvXMhLP1zla8nmNMTQiJOD+w8AAAA5AZ9takf/AT69Te7OvS6/8PO7btdgVFpX\n",
       "wlwsT0z1CGAC24ncOV6CiGzPLMlrMyqpXqugI6k+/FBwAAAAw0Gbb0nhDomUwIV//jhACWfRGXZk\n",
       "xAJIf90XvRVKdWdoPLHAsBxKsYykZfCCOdb9q+myZkOjVUZ8v3TefbIv44I86GImN+LVaZMA8LRj\n",
       "37r3SVw/27AbTN+U/y+32R/F+1nR7ywW/fCDsPQQiFgUaLJeOk1gRHz/tNVbxvEBHqnge647zVv3\n",
       "bDe7UPrFOnhCPjkb12FuDcmLfHTbHH5baj7JFoUD5537Q+D+NmdlMF18Z5APQo75kzUAuzPT0582\n",
       "GmCYaAAAAL9Bm5BJ4Q8mUwIV//44QAT/jmxVU2EuOK8FSAG0b7uR7ChtTi6OLKcTg3vslyESNlSx\n",
       "848HzKfJKiSlFMhn0GZ9T782sP4oe5YfCyJ3s7q4B4NydEPnoJ8IiDVHwrWl1iiSmTNWsJS5azoa\n",
       "ych7+h+CkBldkCVf+HC17DWEN2OQR4A1M5eK3rx7pzFBuEWCxTw6q1OHGFPIEGtGlFcdHdxkI1ZC\n",
       "Yto9GoH+IlMkNhQ6j6AqYGQL+litB6cBjmXV2QAAAOtBm7FJ4Q8mUwIX//6MsAJv8VWAI9CGKyql\n",
       "petPn3Q5z1LwYYF7Dqqo1cUmCLlK17uh4PP9YV6m6JLzkbxLU3ZzskTLsgf39aKbcDfrZ0EHimL/\n",
       "9dfjP6an9YLKBoCd+qZCEfTl0WPWPFDBbDHO8qeEnH+obgSRqnhOWKX2XCnFwq/iXDrPIWTonkGm\n",
       "gQcQkxzpq3Q2P8lb5pZRIYuda3HS4gr9c/atrTD9J+DhdHyAamXyfH9BIu+ppOjOVL+9P9WvWMnA\n",
       "qB/kEFg7PgAmi3INYorbgLPJ+2w8PbTdfcI6Qk4qciQZITYLrEHLAAABGEGb00nhDyZTBRE8L//+\n",
       "jLACcA+Tapf9Ik7CwD4ocTLfHqN3fYXmf879VXpG3K684D4Zehpl0tC3KQD54O1lcGND80RRaLYN\n",
       "j0Happ1+xIytmfpwo2VUL7eenHb4XHt7WVZl8T0pqG1SuLjQYtdPsAkKKa6+OuD6D4bDnX85KcNS\n",
       "4MUL7CbRcu7ao+sGD9dw/jak0VFRK2wixymGdJJJUqKMEsG6m0isNpbs+hbVyjPbsix0nB9Ac2oE\n",
       "Ota/Q5SXU1RUSccZBlnRinzP+dCHZ2My0n+Qjn3STW/cGdDkmm+pXWYIMm2s2wNvVncegoOwfjyo\n",
       "XGMhvMSyz9sXtNdct3At5CzshTqS1KjD48VIddO7unzjZEgpEYgAAAA3AZ/yakf/AT69TddoTREd\n",
       "5WT2qYAI3dTUI5LoGzBGIYHBfN/pa2t40jAO+j/llrtVyGRaRxaVFQAAAQNBm/VJ4Q8mUwU8L//+\n",
       "jLACcBZ7e5EDIotsaN9nVr4lfqAKrx9ncHWqbn1vdby7TmSIH9LSsV7bGCxY5Pvlv21ZsuyxU7DQ\n",
       "hlUMmbTo1dAe1tJS/+NebHesIC8mqdEKk9WqdoVrIX1DUYLCWBHUHw7BVLvH/3XiQvTEIvf1mgwB\n",
       "9AlcBqA+NiXY0vrAkgl84dmIWqDfcIa7MU5x9LUFw+EdBLLeWB4McRI4KUW3e4G3Yg9EXjSk9Mx1\n",
       "p0siK3NBcqsroQTmel28KJ3Fq+GK5QRj4JccSyG+Xvvda7YCjTAQEai1Jo2Up+A/eZ/Q2YfLO3jK\n",
       "TsiwS7sRSZ88/18eE6TMpLrLAAAAKAGeFGpH/wE+TAbL+1+YV5jjCJYaF7n1X8rASMS8on79Y6bV\n",
       "PPsWU9cAAAElQZoYSeEPJlMCF//+jLACcUmHT3AC3CCY/ZAfrrDgTN5gdLpZaN3T+txvOkX4kI57\n",
       "uX4D1zBcmIWznD9/zrG0HUg0yZyWH+R8gf8Q9fWzE6o1hNwjBjxc6Zw8SpJL4eIJyBoupcNWu3CF\n",
       "OonoaDyocM5gY0Oi9KZYE3sfk2Tyj8OkH6cGA/qfvzY3ohw1GGccYgz2e6pIqw2tUojxboA8dcSi\n",
       "9Q1719avXmEQF6xKY3HGE99MGDHc/BlHrnfiEPJa0cH54u6/6aitRrF4aYYfoSQXTMYikqdgceIz\n",
       "XOW/nJvl6BmJI2kX5vfqYEXaRlBfBhUeEzsDINThEc+RVlyFAVlXm7n1oFoXtBDBwVgeumHnsavb\n",
       "C6AS3w1iHMeSVnAP4+TmbuAAAABBQZ42RRE8I/8CzPKkEu8rc97+Bg6lSZvspQCLrIPEPOQr8jji\n",
       "b+gBLBb0h9gShUMGwWrYp2i31Qx7OgFGXvLeA6oAAAArAZ5Xakf/BHPkGetLc0CBNLp4IoPj6eCK\n",
       "59UYVNPksrTrhgmgPVG6w2IIOQAAASdBmlxJqEFomUwIX//+jLACchedJzHbh8aMSZaGedtFvgAF\n",
       "yds1K4F54RasaYGEOY970MdD8ASdg18CxnMTndp3rAQl09fD566QUcT3BfZf7uqtNFFEl3VnUzgO\n",
       "rhnaAYE/a6JodgUjMkCN6R7AQOhhJfrB4gVWeh0qJ/P7Q4R/65pNyD45CH42XQ9RDVF16vg0tEs1\n",
       "wbg5sdhcDBA572Y2ERsxn91E6gF1ZsrWri+l+g/JIJ8ER8J+wkpgTjpLC1FsiA962BgZWzruyRgt\n",
       "fpzE0IsA5QrTEUOc++2YcNPb+klgOxBARYu2jxEtLwQCnsOb7I+4DfB7bcmFsrNHyfkWZ3iLKMsO\n",
       "3H81d11ZpTi9pzXsbgzG3tb0HWMvlpOZIKA2IyFido+4AAAAXEGeekURLCP/AtYUEsXXnjtXUzzX\n",
       "qSbeRtuZ/EAFhvMsyajNr4ymQJzSSXB2TsVqQ47xnl9yvktrdR3/C4HYdhJHL5iIA72il3GUkVRA\n",
       "nLHeCBgbNER4cmU22vXcAAAAOAGemXRH/wRxiJghIA7HZ8stB3FLHpv+SybAAHEwAWQsBKbMjQYI\n",
       "r6uDZ/DXc1Gvry49CKbHCAZ9AAAALwGem2pH/wRz4++ESx7AI5GqpDK44UxoAblBiKGZThaZcnAw\n",
       "8Xh91VlSwS1tvnnVAAABEUGan0moQWyZTAhX//44QAT2bC7mDyc6xqKNUAAWSUTxedt3LevKYHZ5\n",
       "Hh2QfllJ644WNgP/RhWNux+Z1BPphgyF+iUyQJGPZhQax8PjUZk0/KEjEAjqdmxa3K07V3TK9H9l\n",
       "pT4ViF/+nFzIlcS9fqJ+5EnnGJJYMcmfaNVMf9oTmO+iL+nIlugx463j53GnbEspbezKUvZB1Cpo\n",
       "LCjO9nRhWNh33GLXBFFgdzywfYn5cwXZhyqGZxeWBvusjHQyt9itYzl0EQ8DH/dfV02p4UHHpQqD\n",
       "jnBduCR1KiSRi2dP4BZByohrynCiK8k95hObMc9ssU1W3xODarjrEz219cyY75Pbmw+ain9Mml7w\n",
       "wZZ2sQAAADtBnr1FFSwj/wLWFAl9bLeVGGwAtkcogUx7vvEMgFb4BVVch4gVQ75+Cj100ZdDt8xF\n",
       "dms2UPF68+edUQAAACUBnt5qR/8Ec+PvSZ4S+mVuk3F1BCqsZllCcchbSINWXb7LsbVJAAAAs0Ga\n",
       "wEmoQWyZTAhX//44QAT3qNbA+GnvgBx+PTfrlNexV8ob0duZLZGr4lJA4Qqx0rpBa4/OenQYe7yu\n",
       "df/iJqjQpybonTitSsFOJV834H94e4Q6ed0njdTF/WVZqCH2RfffYZKVs0znKUriliYF8nfudHB5\n",
       "R4+gp/GeqEKc3vk3BNlvBKTqzTiQbrKCqLhLA0H+QIZdhw+GLc6AWe5SmSRybgyn33i7twjt+Il0\n",
       "8EHWPN3BAAAAo0Ga4UnhClJlMCF//oywAULA0AswI/wALpP0uPS0L697C1dG072ka71JLHGKHpoy\n",
       "1Mut/5Q7TeTHVL9T5khZg5BjMosbLl/msT+O4mnEJGfzbyPLhXCO7CYgpm0fxtFd2hgNvSkuC/DE\n",
       "CGIIubSzdFAiQX4l7ijjeR8DIbTRuvF79hsdv6hdsgdhmGvTbuUXlD0FbHfc0vaaZFxPib6+4z8+\n",
       "toAAAACyQZsESeEOiZTAhf/+jLABSelsehcsMQs67RKlYAdB0G9DaXthnUIdgW3W3rcRResCB38q\n",
       "Z4OKCQ7aZ/7YU4cqfjKAZfEVSQtT4zpwbVlp54gDe6hBkm96iwYsYFFkTc/yuTG1Yxw2HyMfRA8b\n",
       "NAYOfJrAxlVSlP/LYDX0tjOgon4a6c+xF+VCc2KpEsTxwJczbBk3hmAFWE5V2uTpYOEV+k6PN5dp\n",
       "yq2kX1fs97lyapjdwQAAADdBnyJFETwj/wLV1OUtA1rmzQv8kuDWJGqWUESQgA/yS8NHD5LvpXTg\n",
       "0PS9hZiqHaX1o9TbJjAhAAAAIgGfQ2pH/wRz4/CXsqOYamCJO/FiChygb8qraimtqC+hugYAAACl\n",
       "QZtFSahBaJlMCGf//p4QAT18PjfbzYsAH069QPvsQxjkyl09H+bDZENF3NkVyvdNX86HeM7qy3n2\n",
       "MH9mDHhLkHP6D3hbl9AeO5lBjiFG/MtreOlori8yBlo5YSjHokjDg0i2R7JmIAhO7N8VuosJu91H\n",
       "7zfXznIvqDVKLdiCQSHZ/prIUVNv6O9w/5JCUqR7QJBAm86Ltr3v33abUKJ9eBaxxD7gAAAA+UGb\n",
       "aUnhClJlMCF//oywAUoNH3RZWMIAVnKd3GLbqqjB0i89guA04jwYENCnl0l6YzkLrTLExgNeEBHR\n",
       "mLZMZmQ9LvPy3ITdHhYzdPmSJW+tPLSJS7yOhV/Mh8qCiXBqnwcgCPrDZRU3h6suF1+tOYW39Z+g\n",
       "Nfw3gGX6jr+jilWRut8ZZudXVQdsvn7uAH7KaPzoMIq25W75oXl9O6XQ9CjMIOo19+mO+CEGUle/\n",
       "4CM9KylxYD4O4EbjSqTJ8VjHpGB0OzKapQWnxfoUtRvEZbgCGbpxm+y9SGBmRDBl8OowEEdI5VbS\n",
       "vAaGFdARq9mwOG4vCAQgeawNQQAAAEFBn4dFNEwj/wLV1OUguC4K1Q3/vmasnZmsxNEJc51nr5hl\n",
       "i7UhshXAfsL2oTKppsaaADhpXKd6GWMaD+aeMu0FcQAAACEBn6Z0R/8EcYhQLG6FvEkaGDCKCVwF\n",
       "yx5jI8LZZPpqtCEAAAAkAZ+oakf/BHPj8AI2p4FiyZZct61fhzrPlVaZc64NnRBNiM7gAAABM0Gb\n",
       "rUmoQWiZTAhf//6MsAFKZHFh9rZIALQ8HJGL78Q9whG67cI/QHqrA8G/hWD06rpdNEOBvPbsi2gB\n",
       "VAPL2PnTPLyyjrwypH+3mL/wB/U3uKwjmL7RWVof7Xcl9Kf5jFwRwFDAjZ9/IP/mfgUf+R83QTn4\n",
       "lxop7hMBP8CJbePCNgvzuyySz48QvXjUaXk5/4MF0tzkX8R4232BuJ0ZiBQFEHSLKtfEKITJW7dR\n",
       "edZZGK/QgCrrxODeiExaeqHtW7P5J+9+Yj7C3QDxaZoEU7+KJc8F/o16uMgVAE059Bn/HaL2FDHP\n",
       "O46DzrifH3O/XrMvCRqsJlG1XWF0KnWmdPEMlQEvnhP5Z5QyVpq7hFXGYBO01bnzlV6Yrf3f6ETT\n",
       "KQHlvUWss4JYw6pbwGOIARV+fIEAAABDQZ/LRREsI/8C1hQJvgO/470AF0nc1+kXkFzuPbPDqXte\n",
       "0q5YTCuJUCBQw2wNzd4BoLajX+PRrM+ImDUydQgIAhwpDwAAADMBn+p0R/8EcYhQE6/ACalb3Yzy\n",
       "jQWLP8WKnk0Zbs88ERyvVjJBM1R5YJURp6P6JcE0sXcAAAAiAZ/sakf/BHPj7+7OBIiDCFoUMB2G\n",
       "XVG+xCot0q+8XH0GpQAAAOhBm+9JqEFsmUwUTDP//p4QAUZ9T805VGfBx9tACaWGQVDxuB+TiC4b\n",
       "b103Sewr+wGYzOL1dmpuHc+/hFPH5Akcf+ZG5+3lzDRzARD2a7j00durSmG9xBLnXvkDfhAhvRuF\n",
       "P169SfUK5s1u6nE9h6fMKUoehIXcpxnCt6EN8MUZhPxzN5KjSZL+f/zPv9kDoSToT0nsXYL1Ya1O\n",
       "NMd7ibPfUUWV7D5R4uR2uoszgtw5v/js4kv/NXOFT6IUlEjR1kHe8jfVxApz9GZXilPC4zYDJQOm\n",
       "aK4qAqE/R820IULNrmA0WQWR8H3AAAAALwGeDmpH/wR0+RPG4d4fMkkgAmPxt7k5BQZiq8wsjT3s\n",
       "XyuRqOo2DkEtvwpxSFUwAAABBkGaE0nhClJlMCF//oywAUpjZkkZSOgABdNcPq1v2ddfgNgLfkOt\n",
       "NfhWJSPuSWu50TJ2aHklLEONcuNNEBIFSjsoe1MtOOLYT9oW9UDfF/8P7E4P/88tkJK7euhoi6+W\n",
       "EpxmK9B8CYy3WFQ7jSY94uFdwjdKPwQB68G789uxPm6QkjeX5SY3Gq6R0kNFKs5xVS1ibbCDQ14N\n",
       "CtJQ4gF/YFPykUo8gCq9WN8J4nwXtzaKlCckR4B7hiBqexQZkj3gwpSgfxx+Mj4R1xDqWywdTOfy\n",
       "TBVtxSPCRW7G6Scw2JIyf7ZnPh3l9W3XR3v4vWwivomgJp46rrfs49GkPKO00gUWrGvuR+sAAAA3\n",
       "QZ4xRTRMI/8C1dTlMB7kuBVVihme35ck+/oRvQ+navhG2DET1U+B9Oz9wofWnoX+oN9jXH4WUAAA\n",
       "ACwBnlB0R/8EcYhSRwORzAAfnCY/5p3PN0OxAsvs4vtOQLgpSZHmb8G4L5gz4AAAACQBnlJqR/8E\n",
       "c+PwpEsHelz6fAWbMcWBeh8g2fx8Nv/aWWxeM+EAAAEVQZpWSahBaJlMCGf//p4QAUa1vCX4a9Kb\n",
       "JWy0wVwAahWTjoES4hYPZneG9e6yN7xgOqiNPPH3F7ge84EGQHrj139bcoLPHjarzywsIoknz9kp\n",
       "Ku3UWL3aFT7pbQTj55aOMlb4v0VKsubh9h1m2ZFVhe1s0V58tdwb5PTxZ2HNqPUDeRktB7RT1QWt\n",
       "BSeZVEp2hBirAHXOCkq1Hx5mbDBJ2iml98OadLPkq88569UtcH1oz1awchpsYNxZgxuDlaP9VpIg\n",
       "Ef9uTfZhbn0pK+3wyp7rnmBMh1ItbmcBbEfUcqngj14ZjC21WfEuPB3yOMLDDNW5d/W5BJe9RiEb\n",
       "nZG88/ukDSlB5bpPjh9jI7gdLCmc7e77gQAAADxBnnRFESwj/wLWFAm8w0Prk3fGC2e2vV/nuDJw\n",
       "A2qCR+MfcQP72Uipe7nrxTVRRP1iKdJWKCEIuboOJ/kAAAAyAZ6Vakf/BHPj8KR9DvS59PgKzFlU\n",
       "aRKJHMSfNpJZswAaPt/pn2r84SK0LUimQ5x/Au4AAAB6QZqZSahBbJlMCP/8hABLkirlZF/zAZp6\n",
       "ABaEiXq6MdILpKlTFqDvfA9EO3uQeGWjSWNCF9sAkBXD1FxnRo8Yytdsnq7aYHz5aiiH3/LcUL/7\n",
       "xks3EqDwF6RvUdXM4JRpaYU5mcbYECyX17arI3rLL0BGQ2Ixp/R2v2AAAAAwQZ63RRUsfwR0+RSN\n",
       "8pYsjTheQQdMSSOpA6suW3x/UbcSzdCdC4QzIlE/OnG5M5gxAAAALgGe2GpH/wCoZhLkTewxlc9u\n",
       "rei6UAJoqYx2nWfeoMUACvPZ352UP2GFBZH0VMAAAA3/ZYiEADv//vdOvwKbRZdqA5JXCvbKpCZZ\n",
       "uVJrAfKmAAADAAARsG58mdf4GfrMDEy8liuSyHB+lKeb5X8WBIkcf23V6Gjfo+islv+bw9QWzZXO\n",
       "KPSYq+pFvthh3IdeHmyMswVGqbAAAbKwF8vu1wM7O46aJsNUIJvc0/1UEs/I8udwZ5QVWfiO8CSg\n",
       "T47me8+OBnXcj7DztHbFWQTbsKaa7Xrs9KJowBQx9UCjzD8lNy/Q0vn9r6rVmDirSZfhMV8NuHce\n",
       "dPt+vKt0lsQeImcVdlievPi5swwOc+ABq0e9gfV4GODF/OdRyGFUxXbzciPr5GzVuY2iCO7fO94e\n",
       "IPKLOxtRLi2NotPcuGrpeyN81o6PFc/32mxUNoyCmWMdqOGz1CaZftALNh1FLbQ1z9OanOr7Yg+u\n",
       "YrhGVUty8tqvn6iAJyiQfVrNeA6ywrKhkJGAY8kf6QzV0OdBS9N43mv5d0knaZV67rUfoa/crAUl\n",
       "jFov39lwAMpOrFC3YhQ+CEIjzgANWEGyocXZNXNWbdY9ls5h67n9faZkWfixi1Un2M6X+lYviOCC\n",
       "ereXO8jF5b23VUBL7u0kzHsx8jMo5NwFQ4I1NV24Lr/l5hzHnFXHj2vcQ4YQBlSq7sUAL+4jfIyF\n",
       "ZBVet0QSfWSRnT3UW0oqggWu9U+FTvcSWlW6xPgUxdn/d4m3mOmaT93CMMQ2qywqVxHIK1C/E2u+\n",
       "h69nr/d79fRcwtvSjDOJeULdXKf0bJSC4j6L6HgYCt2iLIOszLcKBzC+JblCnnRMiJFabgM3adNq\n",
       "yoUK2ycmrDGEKV49P5vvEFQTnQuZOwCra/7t0C9ZT4IFqJFCzgd0o+eqWLnrU+bFWPmzUBGavO5U\n",
       "i7avC8Vq3tPgFNzg88M6XjzjsyaounpS6WuwX8oG+Puw4fmZxVjt/FHn7m0OfA6/y//Wgnu86sKB\n",
       "D8G2p+htiyutyCWbm0UIl0odXwBxaMb1VIQNfudqhamx1cvZ9afWJURohsbJaXDV8Umojc5m0s9D\n",
       "mp60q4V2hlLz+Uw+KloGnqw1g2Wbk0w2YrDpvVqq80Sne+TLjs0dxx1HbDk49K5gb0YR8zkz0DBF\n",
       "9cFnY6hO0t+wJvHJAcV7MB4TntrZX5s9LbOmlhulZj53Q221z3FXdgxsNUiDvcvp7P2nIx/mgn/+\n",
       "Kx2+LSVQEzx8+b1lN8VM0irUQu2XEktkop5qBjTWJdXGMLeozTPvGnk5C3Upb2L19DT5kXJIVBvL\n",
       "UV4rZYJWvSmkPMI6AgY3scQXvOZd63nKNSLpUdzNQCKda6/hWuz49yuxsyzosJxAt4U54t4M/H5A\n",
       "WMshfIvaYq1elTk3SoZl///858LVDBdVutQSSuPReMH6GckUy4KOGfYggQJqsRk9StzNhvvcbJuZ\n",
       "YXPa2uyiPjWjX9G+1bAf+gX0PmynU60Dciz3ffrWDJG6E1u274ifkJ3Ww7d+JcqjNH7N0WVZknTv\n",
       "aJ3YLICne7z0zZpLFUL4o87WCxkc2Dlu/iY6Delvw9jEVMyB+0JqLrOEsFlwz25UV0h7MlL1VMiT\n",
       "9U5oQIrHQc2C2tM6lpEw2e8p8bs3rOvkva63rplz4zh5N5naIlxOqyCRh/dQC1Cn18z01a0Nc2PH\n",
       "nJrwOjwlBF7OkNaiAEBB5F/OayuhSQ25aXePSVjjH99M7n/pIXvnDzpE9Ki3tJ4Je17tG+wUnRpp\n",
       "KnwVUi4Mi+4uhY1S6YhfFncy7x+Jw4CMNLyavM6nB2c8DbBiJgHLunrZFSEWkibKPnSPTF89Nb/e\n",
       "uIKBN5um6ATqYRFT/WFSMGEEKhK8hfrK4cHOZCmIt+KHGOUjKiEwuFFkpnXFCXmHBcMNK9XNqpod\n",
       "3uzU50Si7uIA+IBLQYpHq1mRvrHtx1Q9g6jg77/UBwZWIO4XOHYHh4WTcqooSa/AfHOsfOKSZy3S\n",
       "vLvXPuiFQZRwM954GshePtj3M2ALSlm1Rpozf4Y1gOXyk5It3HmJX3Ya1+oOVRdUVFHq3qO2lu4C\n",
       "YZhNNfs9sy1Di5LTY8GYw/Q3UT4QU39R6+XyUt8kisV4XEMXc8Rv9o/CQhCnKz8I2Tf27VtVsfO4\n",
       "vbc+ZC1YoE29YiLguMGSUpdvFIJG+Bragx3Lf2n5XppnE9nyk5mAhwzRiZtxqlKedg+tMPqt+wBg\n",
       "KZazbv/+GNJVvelKAkAW6pimej8NafvMzIRB4pIOdk+9uTNAvSJHFtea7YTTimredm2Sf2pLPFhu\n",
       "F+u3IoUgl4wOCNKvdJe47ZnPT1rZ1H8+u+xuvPaUhwNUGcIz2mbO+cCKjOGgf4aOQlmLNzxKwss9\n",
       "HWfkuyeYUOr2cBMft7QcJK/1350CQ5QLai6O5HV+z/6FRVnMnGbhjmQVVfSgDGUUNG0vB8ASlggi\n",
       "u0uJ6NSEBu2EivZK6v+GAO5lXAXfCHgleHk3KEX8dLS/ZKUnVq7hLds0ceHlTH0O3D0VKu3QP1bx\n",
       "f2bi+o4xw43++zdbNdP+vLEZqjW0Or5bHtbkyW1vpy7U1h+XItalZ24IoNhDuJtCqbTS8bZRaMrt\n",
       "Z/0jlhS0B94GycdMPrLF3z1PzwhH3REk76KChRHABOTn7uTzRiHS4iVLOK3pOrWfFQibIfUECS8s\n",
       "t5+PmxvP3GhL4uuGfg5SqQ+HgYtCjpBrJ/MskUVgvDzM/5z7ctFT7ieoC0qB86RKMimer5OLILOL\n",
       "6kHC0oBkmls5j9oc4NdBDorzUeQLB3fYS1ZKPDKa9GeuL1bz7+em26xa3Fl9UAgtGXxFG4x+sdVb\n",
       "tkS7yozm+2//i+BHjexiM0GIEki/iJ7Trf66FUGeKaW7VuTA+wyDaA6/wSX3iKMIZ6Ji/cg0b2fQ\n",
       "/gABRJh9NX0GiWZ5bNmZlIjBvy8CA1ibUmuG1FcBTIXNcvXhxPqFM42AVKhU7F2ge+xBdhVjONvZ\n",
       "xio5olfZpM9Ksqe8cRkol1xxBIcdEWRfYT/9+pDIVYYT7UggTgzxvYL4xTC27aSjSHS8F30Ksa1X\n",
       "vZbZQTGou3ZmzPbyPheDeNhcM1KH9aI48+kOR2H4gR3idRiMzZ4Re5JX+53geD+YehbhISZ+nFSf\n",
       "25AMAAFev1n5H5rlo91axiqGQRE6/4hFLoEDMJnJzq9DUunr8RSGTPDRHS8yy8Wu7czMSRDjWaUg\n",
       "PIc8GIR3D0lk264lFRzdd4fmJzkq/tU5+eLXsdMSLMEemfNpJ47YLs0p3GTzcLlxTCHmXWVl7t/9\n",
       "lEtH6dLrQTL+uUy9EsCtmxdEHsvnnJGd+mrfEIi8ZjSN2gPRAX0+NLXquZ6JHicHaO+B1gR5uvPh\n",
       "6QJwdj8E5QFZrO1kfzL++uzpCEVuMuwlOHjVau59Q2To8sfrRKb0HGtnNNngUUXV8n78o1Wlsx/b\n",
       "4QyLr31a/UxH+eK1s7YxtuGfC7xQwPWrISHgUDE3QdKx9eJSgpzrcIkAgwnMvvtt6MicJs35jEYi\n",
       "4A+j5CtIPsjLtAvqNo6Gkv7GFk8bh10Ba3mG8BKmMsgr8g8Qa/+8f9FwrTsNz4Bt/FockoT98QEi\n",
       "DKcbJewZSJrx4TCLm5q+wdSG5GNWYcfmuh+Kwx7g4a8VPpA3whWCl5rQG9iJ1jklFG+E6KUvqwpt\n",
       "OPZaiFENNojnSR+b36r390eNg0btqv+eagWlIgGM/scX9mtwlKAPYQpxlifC0NSF9u3b37J+VWK1\n",
       "VW9+aEVyrN1SwCHJ88JJV0kU13Rue7nVegYQBUQ6yN6/3LTzEgT/SPcByjpNrttDwdcMUepJ2LQJ\n",
       "vViIZzIVzN+NF7Yx6JUF0/WyJ3yrH0nMrNwaU4bjDLSVvn90Yfj/AB3rlgD/nzf1DQIjxV3DOnrn\n",
       "39qi/gYBAFF8ApGrw0+Euf6oqF9ZOgTpJI9d7TH/YXWf52p3TObz3LBmfhYRWowdrnUBo0rmWww8\n",
       "koz+y9AjlUdq/gFS0L/eF5/T0UXj8+G21IgI3AsNWPYdBvMRg//jtSvNS49rptCLOaq3vguGxc8b\n",
       "9V5y3nacU9+DG8FWcl+7KqUjZ1Jf3nmqJTWs8jzPXW8uwdXrCuinWLQ3/F0VycaTLNVTG0pY+0EE\n",
       "HuEwrD0w/IIjQ4a7GXhN/p/cDkQ+VIrR03RuNk6fbXkP/d5PtDDT+zH51HRFO6GE67y24f19qSZ5\n",
       "V3mTv5gczTih6haQ0BDuOeyTTvM4EV7AsnDKMAdMuMUh935ZqsOhqI/tn1bgVIwroF068843hZjx\n",
       "gWT4k2sWPw2R9L1P2zUNZEAi8ifrv+Qb0nMy9d0y6qkmOtQF7CvF4bmt/gg54HXELvQXm39lsYnV\n",
       "xSAdeG+6jK2s0t50DmDaJO0DS7JIY9hg20nE2yVB/PKL9HWu8kmKO3775SIs/PccCyzanhm/xFRC\n",
       "XmnV6sqUDI3DlqO5QVINXQCG6XvasfNdgbUt4Vc0Qupd8YyCbs723utjOW3PjEkewMkcFNoqKqiN\n",
       "6Xi74MD7+E5Ya7NQt7gC59nPwwppWETN2PlFRJa3Z8ndrxPdGPFX88JG1/tDpLXk1Nko00oK0FBr\n",
       "xPx83+6DvrShmKCmMW95plKCxkYv/Jqil4Nh8G27PpV/+ZwVrru9XUO0izF5xCU17AhUi0gC3iaz\n",
       "am1q141afUsMurqx47gDeGB9DwVDPZ4PLAP0UaMWCdo0iQBF4lKNC88CNEoEXIsFMkeyCNGnK02O\n",
       "xSUOPHRwCVTwWePijIRgHBsevOwXUOWuTX6erYiHEKLVY1DpsXgCMoQhCxOze96KxAtHxibWydh7\n",
       "AG33xywsd1vxUTD1xM942GY8LAWoAwANqAAAAb9BmiRsQv/+jLBK+giAalaiZzREYwfA7l9nBvYY\n",
       "UkMfwxBRKO57jQmPs//g+Epef1EVoOTX6McWZAxDlfzlYqNPFU3P04G629BlGnKwKqgdImk8wi6T\n",
       "eMeZOclWhfB4S3dbSCiRPzvYJKKWEa8qkA3TJMohzl0CuVRyxZfDwQ6tjK/Ady/AAHO+VBWQVcgg\n",
       "gZSUjFGTf2JQi+8KOjG1DO2UkOah4twSMdKFm1A3kFMFGWrwFm6ZU25i81xFcYAsVjs0fTQtz/M9\n",
       "n5qSy9wGk/DYwTLNFBredr6RybRL6sAwbS9tDE7l7MkQuLsiO1HGQU3zkJrbyWUaENUXAhfOETLM\n",
       "X0tLr/4qAEXkVeBitS7jztInTEFpg/ZEywIN8IDjnHr/HDYnh6e9Foxbk7ChaWxhJDnzJgRf7jV9\n",
       "W9+xHAqP5TXoaiLDkBJCt+Co3qOClwUSufk5MnSCOSatB1KnKewRslP8tY3cNrqilT4YJkQfGxmq\n",
       "+pQqt6wkJ/VX+QbF3SlJMY8Qgwg/fk500BSLUQRB+1uaMBBDWr0nIjTkGYNFRwQfVSHwTThZB2PL\n",
       "cqorr2oV63kN2ZqX3ZTRR3ikU0EAAAB3QZ5CeIR/BJZsQQO5xGApM/29Nz7D+ISotgAuoLoNAt7+\n",
       "59BV39DIhDNtOOcWPyTg7Kto1uFrRObdiXgup78FalNJxvZL7OvdeX1yK2gpr1kuBCzSoNWpNVRw\n",
       "uGZN3Sp9D+KBMFVkXZbpLXVFi4AnGWn0tEP3CbgAAABUAZ5hdEf/Buy977hwwn32I0OQZAAetXPF\n",
       "9arf7SIex7mzsdGnAjepc9zUAcedxbO8vN3owO6Y4y2Ok+ZuGY74O5VPqrIdE/W2K3GKu9KuQbQE\n",
       "Y4V9AAAASwGeY2pH/wR1FUhLBfsOjYAJhdlxfWq3+0h9imUr61dib20OyYBD+iHHxX6wnLmbfvPo\n",
       "MTM07VSUG7WbcpFFktPUO6UtjdwZM//5gQAAAQdBmmhJqEFomUwIX//+jLAqWf0c58AQXCZGCpc0\n",
       "SYgXyPHL5+ZK/4YhBmK+A9aNrcfOLBJPf/LFjrqfFNbG8i4krBoelbfT+4mqW12ovkH/nV2za4Rd\n",
       "U+RYKU8TQgMR//cKPgRJChs1CXoSz62rKV3lznxoNqMBIYjJh5mRH8Xdhr8TIAGo7RO/T+hHeBzm\n",
       "ABEsm6lRYQ5rjlfGQuPP7yoUnO6NedVTJpX8CtX+ed/A5PGKa9uBIGFUwVi1k8vhEJhIFMwvmE7e\n",
       "3VkO4D3CmkSAHW6nTF/1aSauHKDTR4QowJdDtqBoj1a0IccIFwSxqJyXD3VJUIrj6PdIu4IqDSiL\n",
       "7uduYcVywAAAAG9BnoZFESwj/wLV3otCx8vPcfxCU8cAJalGf6EO0ql4Jk0PpkzMFtahfPF664sj\n",
       "Q12uoC3GWO79puzJNjXUEpoAk2ADEZgveJ2nHvDwW2/HE6zO5FOd3AvYYqZoyyV+DNctYwMQQFTz\n",
       "UTdAoPNR4uEAAABKAZ6ldEf/BGVo+p7VtelooAJhdlxfWq3+0h/jIbMzV2Kfg2BSczdCwKCzBaas\n",
       "1LAAWGdB9Ic3TglEo3igsGOk2fbUs+nr1237LGgAAABEAZ6nakf/BGVo+dH1XAHwAJhdlxfWq3+0\n",
       "h+rH6ScSuLXhYZ75d1IsqGxYAXuVlvjfY/TToOr0rOuZ3vkiZ1XScBxJQ7UAAAEaQZqrSahBbJlM\n",
       "CF///oywBQ/e7gQpH8MQkXgFrFvPWja+mpyyxTsK02YLEoE7QrWcIUmXDWhLghVI8rj70Nus4nEx\n",
       "LzmwXxUkhBoDJarC5QkqtFYtbXg5R+qt1BSxYuQx7EJYPNg9lQnombOGOpl1Assja1tUrMVjq/dt\n",
       "+KDyLGJVJ8sUrgaDImmcLA8veqsXUQ5swXyhV17qQk94OkSGKj+YDC8wNjSRS3SMAd4QCfRV//S2\n",
       "5IBG8wNsrXzFj2Uj/a0m1Zh6HA/YW4iPs3mheSVMXljKvp+wEmIscUexJU6q5tlvYXdtqfNNDV48\n",
       "1TkIwDS/SuVO7ienAD97hSKFv1pFGHuoT3hlFSNfxyTuvl52t98/d329mRcnAAAAYUGeyUUVLCP/\n",
       "AszypxCvaVP4hKMiAFvBdBoFvhIS6sV87nHeZFZvD500KnNBVEGPKIl3arPE1/u7S0/iBeq754Cx\n",
       "ZDDpg7JH+wNXCPl49cEAbXC7/lM6C8xMk+IxPB0G+o0AAAA+AZ7qakf/BGVo+CJVAAEwuy4vrVb/\n",
       "aQ/5HhRo2C8osNg+stvEDUcQk++Ltygh2vHwx0KIRLWG+5bnUWGX7ZQAAAEDQZruSahBbJlMCGf/\n",
       "/p4QBLdf/4YhL4gEI353rRtfdWfHYjr5AiYW1T64XLbRnnJ5gl6b0ss4sH8V5zQhPwYEhgwYHfDR\n",
       "2sqy51Zm4sY24upn8XA0h9abNenyjWR1bnphnC62G9LGp+HwG3lnyZX1kqUo5HXAVCpCBZ5F1XCy\n",
       "osbH6SLwJKfbKAUlps+cGTUtr8ZmzssXbvF6w0naKiWunWLEiyRQVbrsz1t/jPSjGBFDWGa42908\n",
       "9hjouIc6pxOxAPORfzTmyHX5oEYZ8IPcw0MWIMg/Uh7xDvbGsTFhRfK+ApoaIpJuODrvcEa0xrgt\n",
       "+x1KKrIZN5SUywZiztY8sQiYowAAAGRBnwxFFSwj/wLM8qZLGv4hJtwAJalGf6EPDQpV1VJAySmF\n",
       "d2jQQ+3zSxcSSYsEseQ+o+LYhUnuymkQaQ5pfXQMzSSW/82qRc/c9U0+yTNkBuSznoyOzM80+PAq\n",
       "JDjTD6IqcmCgAAAASgGfLWpH/wRlaPgiVQABMLsuL61W/2kP+R4UaNgud7wKGQRfUHmauSKSIfQp\n",
       "3+2btpNTxlcLw6I/odIggWlNZKxfsVyJAqQhQDOBAAABQEGbMkmoQWyZTAhf//6MsATHXb+GIS0w\n",
       "Bt74D1o2vtkB4Rd1RXrw0O50QiMZIFeHq2C0zv3icOcfatklifbUUY9VfWuCTMxkjlYstTUyfbwd\n",
       "QZB3ROtuoEZqkrCRtgvs5FO97Ze4S8kuc5/G61bSZaLhSry+5Q/2v6AKXQBvZSlvpSGkv+dbTIiD\n",
       "aY/Y1AbgTRNrLo2fE/+GOilxP7UlUv0MQkC7hsqpJPgHcbIlpbKnMiGKqm4CC89Ju0xyGTnSd0Eu\n",
       "l55jPzBTY/+UDJ/yy8e+nEUHqhjnS+A2RFcvSRXHTk+m2Invi2DZdVryRgCXbfp3HzMHEQJtfclp\n",
       "jm7GzmsdPuG+bRuN1vtA5a9cOFESWyWf1ZPoTQ89eNL6gC/Kzi1hvFYZv4s3yQVC3xitWGjPcKDU\n",
       "Zf/+c7u2jGSfO/toAAAAakGfUEUVLCP/Aszypksa/iEm3AAlqUZ/oQ8NClXVUwbboGYemnGgauXV\n",
       "yFxnl769fBqP1+oE26MoX0FdW9aIDRb/zWJ5erfvj6OAWlEiLDveMUy3d0tf2COTdXyMWJipLB/y\n",
       "AL1xSrBDmN0AAABMAZ9vdEf/BGVo+C8T4AD1q54vrVb/aQ/jvYJE9W5Wyire2CriA8tkOXm5Bb8C\n",
       "h+DintCB7NfY6bo0NWfDh3h3WL7+JrOYtQ/xWV0zGQAAAEcBn3FqR/8EZWj4IlUAATC7Li+tVv9p\n",
       "D/keFGjYLneSHwiKFDgVlRqOzYjVl1A+vCK9je16a+AtW6bRFp+ZKuBa9OSinrvT9QAAAT9Bm3ZJ\n",
       "qEFsmUwIX//+jLAEx12/hiEtMAbe+A9aNr7ZAeEXdUV6SXFnlV1le6xgQY1r8PZT84TckBjNR6ic\n",
       "osmh8bo3euo8YcRViMnvquO/kn1tI+OUB0rsH/nsvG5Izabnr8VD01gpTrntZFlsQ1FjD90S4twL\n",
       "2KqzpKb6io2rp6HZbbxXHuV3Sk/ululsqMbExQN4AfrEzn3rrZFxQAivip1D9luDUFKh1kh7H7br\n",
       "wcCVwALVEFwNWr1vS6d9JXutZJf/WA2wuzj1m7xQwauae/mDMGKFH26n1AKApO+UC4ZjfSyiiR+1\n",
       "wnMnboI1XXP9+8i4XS09JHw1zjorAaZfb5S+5akVF+6wQ8UfxO7m/Sh6RRcxeX0AwwWhgLoxSkIF\n",
       "ndYV/tuEDsOEj63e1OH1W/uCd54nU+LCGBkiynP5AAAAZEGflEUVLCP/Aszypksa/iEm3AAlqUZ/\n",
       "oQ8NClXVUjGbOHw27jmNGlfjSVRfku8ALjxmgliAfwbaIWOSlBq2WRrS7AqMzue7qPh6jGnWmgmT\n",
       "zmuCAO+/RXLNIgAcfmYzp2FuwCwAAABNAZ+zdEf/BGVo+C8T4AD1q54vrVb/aQ/jvYJE9W7jS6hr\n",
       "Y9R5I3RxYoEyJL6uNFZAkBVwcfxNmnoy21emKUCjAPDInZk4kpVFvVTzrogAAABMAZ+1akf/BGVo\n",
       "+CJVAAEwuy4vrVb/aQ/5HhRo2DFhYQddvCDrfr7iDq5zQUFacCvN+Pk2ZEOBPvXbvgxRNBFIQLES\n",
       "GKXUeKWhxGAhcQAAAQNBm7lJqEFsmUwIX//+jLAEx12/hiEtMAbe+A9aNr7ZAeEXdUV6STA7O4IB\n",
       "rzEsNu/5BTyHL7n6J79GP+YgWPQiFCw3R5fXToLEhiQhbLpnhzTWVt0lbMDG96Rtm0KTWl2eVXd5\n",
       "BZd+js5ZK+53guDg1US2mQFI+R0TKEQj9PRclNaAb+3gpzTDLc0rEIqI+aPvapEs9OU3CS3vVOGF\n",
       "RQlfN9iwMXTrJt98gJpi3+o18JkeePRY+COc38a3CuaXsLDOFo1WjeXwmTEgJ3zN7QFPC/1brYD2\n",
       "6MQmNbVVxxYRuPwNgZ6rq+JSCOXb1JtyXXh+TCSkTur/b2S6OQD+oI+aftWwAAAAV0Gf10UVLCP/\n",
       "Aszypksa/iEm3AAlqUZ/oQ8NClXVUjdmgvPuT3G6sbv42197nvt5iSOoN5Ko/+QW5LhwQzPTQ2fB\n",
       "i914bR66vEJi0R+RuJGMyBR4weolwAAAAEIBn/hqR/8EZWj4IlUAATC7Li+tVv9pD/keFGjYLyjW\n",
       "GkXZSG0RicNeQ+1llexnEG/3Ieuwjy3kqOwf+C9EKKhmue0AAADbQZv7SahBbJlMFEwv//6MsATH\n",
       "Xb+GIS0wBt74D1o2vtkNlhpzUAeIRp/N2bxh6g5U7K5CoHrEd+oJwOOHwT89NjlEGBnDsFG10OGV\n",
       "oRzVdaP87WGqOGMwDVvnIC533MsVtgCvVnx0kb9S46TCiGsiCKhcYO6NKsM16YCCEh8J4LlU2Imj\n",
       "j6UmCPUPHP6D0vRXKnioqBGAVkSkf9XlXnZmEGvDccFf1vS3Wuq9aUFe0hATn1xvVvuQKcl9y/n6\n",
       "2J0uegtZYJe4PT6auATmH5724Sv22KN+nXt/SsWBAAAARAGeGmpH/wRlaPg/FgAEwuy4vrVb/aQ/\n",
       "qVeTlOAuNyKzPfjhwcztul5bBuOAQ8YN9iFnwzTXowDtiVeWBJzF6hTIzvTBAAABRUGaH0nhClJl\n",
       "MCF//oywBMddv4YhLTAG3vgPWja+2QHhF3VFemPQ30IM327KNsWU7m5qG1papkwCepYuJmdLK4sP\n",
       "4jqlm8VLKBqJ/nKLJsBA2AO0UnElAD6rRZyeteQ9acq71a9ZOlSOIu80qKHwZ8nf43o5O5yczYrC\n",
       "rOomooeIm+JMfEChq3jfZnkjJn/Fq7GU7Phu+F6Fd3yWT3HoA9pgyEpltNigCr93rjn01rWl3y/7\n",
       "HVidaccWYSOcdU6hjFqU1s7gCfa3VBMax31vtaIA4k1uhgY0HhJMu5js0I+BNeyU5b8uexV3FW23\n",
       "yr/aKa9S+410vGKIbvFzuDE0HOmC28p2qirSwyt505nYaxthaBEmnEDk9i74djuOD8OAPZylEtND\n",
       "UnAm9FGqmxLixwU45ecCcsXFU0hUyeAt4kCxE9tZxQMAAABnQZ49RTRMI/8CzPKmSxr+ISbcACWp\n",
       "Rn+hDw0KVdVS6nDuV5UGy0L7Scz87cPP05fZQqsignc0NKd28OInOmzyvKmpMI15WobvZaRP7tH3\n",
       "bA9BgDhI+D0YxFJGUcjFq0ZCBNuJx7rX8AAAAFUBnlx0R/8EZWj4LxPgAPWrni+tVv9pD+O9gkT1\n",
       "cHH/QE+eW3P2GjigISqkuMDr6OuI2uuaa88TyIK/rWn7mDFhTdLivw1I2yo19CCE9fO+gskjldz5\n",
       "AAAATgGeXmpH/wRlaPgiVQABMLsuL61W/2kP+R4UaNgxq0tANuLslBBwSYqkQQc36jx9B7s1ljXK\n",
       "wvJgJ9+J3eRfe6ACyNr4y8nT7ngxN4XUXAAAAN1BmkFJqEFomUwU8M/+nhAEt1//hiEviAQjfnet\n",
       "G191Z8diOvkB6w8u6nOjRM1aLTCMF8eU1iqJ9m3ax54+H1fmO4NGT+IaTbxi3zK/HEqdNuyHig9h\n",
       "wlIHVIl44n1MOPHiJxNmP6IJ5dPSqGJy0lnaz6DTAP/rf6AOPdo1wzYL8vact9xrHG/y0ON31y1F\n",
       "DQ+/u+nIDSGNXtvI7FTrPKNWPdvvKAI0redS26+xCdALqiySzGnzXF8/xJR/8xD5Ygtd/a/0hGNo\n",
       "ZixPwPZJx+Sgpz6PQJDvsS2a+N2CwAAAAEoBnmBqR/8EZWj4PxYABMLsuL61W/2kP6lXk5TgKRYm\n",
       "0LIuDTXMSmwAWM7HCncYFwtAGzdpcsvjFl12lMMiM2V+NaC8/+xrF0QX8QAAASRBmmVJ4QpSZTAh\n",
       "n/6eEAS3X/+GIS+IBCN+d60bX3Vnx2I6+QI82cWqAGjIyOT+yrfrfDud4L9vyNnQeR3P7M3ZL0LO\n",
       "1S6KE7a3G7uFtfcBQktd0iqsVHRmlRUOEUiuGHaDfbiEz+Fe0fBzsB00bfV61L1HZfZUcSPrOvSK\n",
       "WiqCS0bXqLIW1dT4qmAmABqu0Jm8Q4BsnEV73qJQRNUjvrSIrSlWGZuiL+LvPZWCpv17wXep4t2D\n",
       "RG6zERNYY983D18oPbVv3OfGxWNhSpTBR0pxDw8VB/kYnM0AKhNk4Sg1nyBimGAB3JmJS3HtrCan\n",
       "WJfO4NV6GK0BN1d9GyJsmBOlL+wOhtWp41j/sAUjedIqRNPKle3Mz10XxFsJw6hgIFlq+UhYAAAA\n",
       "a0Geg0U0TCP/Aszypksa/iEm3AAlqUZ/oQ8NClXVUvMEzVDJTCL8LWcbb8+I2vIcdpBLxugDgQfn\n",
       "uxxGjffjgf8AZz/kECFNt/Rz42NFyo9HnnAYHq+p+qAkEqzpm5TMkmKTp4x/pHA6C9whAAAARQGe\n",
       "onRH/wRlaPgvE+AA9aueL61W/2kP472CRPVwWTS4OY7XcPfHLY2oa2RJw8NRjXRwQ19QlHU/GNM0\n",
       "+yBSQmvOPli3pQAAAEoBnqRqR/8EZWj4IlUAATC7Li+tVv9pD/keFGjYD6zvTPs2i2UmK3TO4b+C\n",
       "xItZaEGad6nSEU33LekmL0TnHEH15D1r6ro7ywRJ+wAAAStBmqlJqEFomUwIZ//+nhAEt1//hiEv\n",
       "iAQjfnetG191Z8diOvjcR6ovh3WVhBGo/F8htrihBp3Y5T92yQH2dGcxtUn4LwrT/qq8C4oYIEF1\n",
       "fyT0E+Ttfkfh9CqbkifF8cNJYVbH14EU3metqoYS5wN5t/AC5Kawr94sCOxeGY1mcWsmKk6NVhil\n",
       "b7g+IDT6xJU6XzNBkdMBJwSFuvQfD3R+Xz77jzlr4JhnW1qXzIqvldbMCB49+KOCId6kAmkj57n0\n",
       "wP2WV1GRM0xslGwuxgbMnRYs0CDwQP5w+8VcmOVYpUMaLLKZURJ3KU95XseAPfXg7GMKklinYIQh\n",
       "0v2cqTnVdvGlantVsXktkmPGHmqeNfNAPsXB6K8e9q0qcw1Ac7f5ypqki0CQZ8g5wQAAAFxBnsdF\n",
       "ESwj/wLM8qZLGv4hJtwAJalGf6EPDQpV1US7NW9AHex2OZefTMRDYQ1N50wAhXq+fwS4fPW22ePn\n",
       "HIw/T6hOS+v6gk1PGQEtp0bhoTYv4DLCw6nwrkYlIAAAAEgBnuZ0R/8EZWj4LxPgAPWrni+tVv9p\n",
       "D+O9gkT1V1MybE5T/d/uSi2DmpzytI+0vjmMtccyvbyATdJnMANeHUfxOlHNf3+l5eEAAABLAZ7o\n",
       "akf/BGVo+CJVAAEwuy4vrVb/aQ/5HhRo2A65dKgtjN/2Z6o/jE7Z2a9aAV6UN55b78tcDJqE6VVZ\n",
       "HZt6s+T9tOMM+BuVhmFBAAABV0Ga7UmoQWyZTAhf//6MsATHXb+GIS0wBt74D1o2vtkNlhpzT3Ed\n",
       "rW72GWvmd0OFWcRy3nVyX/MIAWVl7rIb9/14f8/LHZDu6CMYQ1z6Ko8FXSjiKc1i5xgW2p1DQMuZ\n",
       "X45QYk2wwkBfpJ/n2xyfLEt05ujfEFx8S5AngS6QWNbPRVlPTRbluTw/Q21Jo7FMIuXxYglHzsKf\n",
       "sU+ickBaSRu7E2WNeB7GKUWotlt+T8wYPWe2E+ZFz/eJIpk4D5sd2qMnn8u6PlkYSaiNr5XdqYxZ\n",
       "UIeYpq+UffMK2Rs22cCAkP268b45Y6PUg+R6YaU5GyCjeVymkLyqYz7eE2MKM7xGdBSQp2RfMVP0\n",
       "aX0Hpv5qzS03mMCLOFWAh1gg0WoUbEq4GDzuqdVXH2ZuwS5weWCDtkpOZZsblEZ8tslgxOarY/uO\n",
       "cgVs/WukDTtNJiJlPNjeaFFs5lAAAABmQZ8LRRUsI/8CzPKmSxr+ISbcACWpRn+hDw0KVdVE2XsL\n",
       "z2LYs3h/WID7HKYTaqDbj7hllSJlHVVz1jRCmMGl8Wu65sh3lgutX8e1oXNrsw7IixNkUCzwFmGd\n",
       "JjLZBuwlmtBcG6zAAAAARgGfKnRH/wRlaPgvE+AA9aueL61W/2kP472CRPVYBD4EqRud/5poJmzd\n",
       "r47PdEFxKCZmt5FElrgeYhyAIg2IhEedbEYbVi0AAABEAZ8sakf/BGVo+CJVAAEwuy4vrVb/aQ/5\n",
       "HhRo2BCyxvnI6cZUpXIGKIaGoDmW98GPOMxuW7gEZqdDixxg5EL8ZPTzs6AAAAFQQZsxSahBbJlM\n",
       "CF///oywBMddv4YhLTAG3vgPWja+2QHhF3VFFEW+L0COhtUH1UrJazMgCx02m6xd1B6PVFgrrpmw\n",
       "7pfV7f/twzLnBEFxqM5OZhRA3hEeXYM+6Z2E6iLBTuM2Xx01PxwrtxetVLbFnHGbadtJjSgawEYO\n",
       "iXr6iPURDMK/y+3NyXrM5LJYxkDDO3daojQYR5cS+9JfGXLqTg7OtXW/XQ/BJNY7ERMNfnicTrdF\n",
       "EZ527ODSyw9Ftuq7yzZJaKFKEGR5yGUgI73v40K9ponrXIqpBv1qG6mXCwx51CDNcEFDbh2YL5OB\n",
       "5o9mcNxuWoN+tZplkOcsNzmJcNJYTrOjR2Y+10fqqSCdn54u0U4I16E/KJKqR32Xu2KVMIXLD2am\n",
       "iCSbQ0pQVy/7lkBBXczKUmPXhQX61GkE520upGy4G1RCidbFlD6zYl/RAAAATUGfT0UVLCP/Aszy\n",
       "pksa/iEm3AAlqUZ/oQ8NClXVRGlV3W8ARHHweF/Mhs6yCb+fW5j3l8evBAxJ+Aib6zOge5dYXWIi\n",
       "f1g0tNA4natwAAAATQGfbnRH/wRlaPgvE+AA9aueL61W/2kP472CRPVWb/4fw/Izt6ogK/iVSuNA\n",
       "F8WNB7GGLZhQShGb3bgRYTLicSj05K21K8bPPCa9Xg1JAAAAOAGfcGpH/wRlaPgiVQABMLsuL61W\n",
       "/2kP+R4UaNgOnW3sRa1+uaCHZk8YjEY5pPNKq6ko8pBUFQLvAAABIUGbdEmoQWyZTAhf//6MsATH\n",
       "Xb+GIS0wBt74D1o2vtkB4Rd1RREUORDDn4JVDA/o0V6sie9VyiRjYKG++YZydXaTw4REA27eAouQ\n",
       "evtD3ZAkZn60DbngyRLPiEQ9+VlPdis5Ejc3YBywbBKdZaF00eRClmHkB52pu+NYfiiGPic5ddyN\n",
       "BBTd4runTWbyH72W6M3ZFTwiz+WL/oQtRY++NZRozzkgrV8c/wxpu0SoiPHf3EgOYilOMK0dR+2O\n",
       "gT4fWqRRgNuKAM94KUkNXx1nP/LFfuW1FAWbAYnxTFPEsx2O1lDIAaCA1ckDx2RSka6X+0VQvMks\n",
       "asOVJvIuB/phtrWpLhV//LCTPhoFInenV67yNAgmFKIJ4HJlUvyZYL98Rr0AAAA/QZ+SRRUsI/8C\n",
       "zPKmSxr+ISbcACWpRn+hDw0KVdVEeqNnBggziJNMnObWSKSP5OtE7qdNcH8KEqVuGBzWPgGBAAAA\n",
       "PQGfs2pH/wRlaPgiVQABMLsuL61W/2kP+R4UaNgOm0d1zAkyLCZtxIfvoqY4D2f73XHKQTVJrAKW\n",
       "4PWyoYMAAAESQZu3SahBbJlMCGf//p4QBLdf/4YhL4gEI353rRtfdWfHYjr42xJVbi7Nho3sIfOn\n",
       "8oN9SFNmtPHy1IrO8xwDGGwzKOECopHufyWXomKx9CpiTMmCyFFGLaoq7eO1HUjDeoAm9mHEWBgA\n",
       "FZ3+oPRTdQe/RGdbQBkOo7xiDMPbXujRmI05vSCv/wAH1uFJ2qo3B/E6t3nRU39pJ/pX1nQNrqAz\n",
       "+ZGyBxxbtcru6u8ClpMvF935eyuHkeStuGWgAPHYvisVwZ0rpzZB8DCrDdzMVvhe6o/n7IHNO0OI\n",
       "kDEH4BaoyTpGQRe2xjg2+fnxdWQqlOny3cWQCI1xDzQVdI6H9ber679GMOQ3cQoRrzyQjiuBQAAA\n",
       "AEtBn9VFFSwj/wLM8qZj5PzOyoAXUF0GdZ5MeZzXIDgklIETHnU/CB3jIw1HTtXP56ORxDcNktXw\n",
       "PEweDMBDdvgqRxpjJMwYNZw5npEAAAArAZ/2akf/BGVo+Cl/REVax/GeoP3COboMh4MCc3Fcws5r\n",
       "3kx/ltoSR6kFBAAAAOtBm/tJqEFsmUwIZ//+nhAEsSBfufAnPja9eWUv/5JEA4DmAIpmELyYKMtl\n",
       "dzNOz4/Spk/b4y2Sl4rbLWyzE+Ge58EXeEnfnuTECB1uw9HwuLu/AXlk8ae9LdidMbXLm7lq04NI\n",
       "Qzu46oZZhAyErWLtvUu17dF/Ufm8Qh+Fsa9CtNLiiCd4uug43ARDk05pxzta3yKfcQGYotcYK2Zd\n",
       "QYKDytHWd3kgKlbQZ9WMBSlhFrsD6ljNs0MBuQGUARBLBBN/SGzEdXurS3VR1Nx+YF7E7kdeFNcL\n",
       "QEW5XERmA6HHOlzoOJ4mxH47DjdsAAAAS0GeGUUVLCP/Aszypmnr96prmyHCcMIK8HyjylcTgIUA\n",
       "LWlMD/XiO3WMW9UwXLNqCJK/ActNx1nN7n6Ke/vvmO92kQS16eK7+Rd7iQAAACoBnjh0R/8EcYlC\n",
       "mkR3XG+HdrxGrJli0xcHhF5cIyynmyqinwA7CU7YJcEAAAAjAZ46akf/BHPj0HDN1IH2lkPA3nx3\n",
       "agNKir/s4bJf5UJrLX8AAAFBQZo/SahBbJlMCF///oywAFUcvvnruAKkhz/OFvqNyAO4e8NmXInP\n",
       "vdzltw9B43fCFc0sGok2JQnJ8f56K+LOpWFiSmuUI2/otqxtb/5gZmYyIWpvjIwhrJozcfNQZwKR\n",
       "sKUv07bE5HQTrwS4oDGRGVoCb6DlN3AmeYoir0y7+7BaLaDX3csINnCVlR6LTYjbTlYNwxac14Nt\n",
       "K0ffv2HEb6DxSytjDmpdP5HvgffrH0HeA4V9x8QUPY3FrcOHXJASa4P7j5rgej/O1TOvep4CUbJd\n",
       "+4GOPMBOV7OVldJdLp5k1aM1o6cZ4FM6e6ZoJSUsY+HJ/gD42XCvV5BokDc6lkGhwDrtl7N5toGh\n",
       "rXx4DqsXjo1Ng8GlQKXdx2f3q4ZWlUwoJ01xNfq20hqX6YNNmRgzq5LKneTFwxOUavADuZaAAAAA\n",
       "REGeXUUVLCP/AtYUAsL1BsTfx8hU0sGTAgBLChJ37Se+xIs0GRz5AXP4Lut3D2xEaUHFJIomFwYT\n",
       "YPmoQns9OVNA8olAAAAALgGefHRH/wRxiBgO7U8sSdkoACZGDPOitC4ZXX47kdzHgRaO/7NlABTS\n",
       "TW4oQdkAAAA3AZ5+akf/BHPj0HXOuw/altBmAAJilhoGP7vkf3LWb0wsZiqFFfdAGLIcCMnASjVG\n",
       "UQ5cXQE2gAAAARdBmmJJqEFsmUwIZ//+nhAAVBWBIh4WACLnbD1HA0+PtXr6DqxdlZwhsfaoW6Ld\n",
       "SjfeQ+RLIuZJt0tt8U2MSWbgSBfQ93KVtTODXy227PSchdiDH6Rx73x0AgSlNoICgJWGbkBCwMGc\n",
       "3RDlbhylL+MK/aOkae3Bqv5PwkuMeMWl7LZTpGwex8BRPZV7KjPzfb6YkYCeMcAfh69mGbB8iaRO\n",
       "CJL2SSFG5VgjHrsxy30oYBupgfca1bjk69JkP0tIj0VEbu8C918X+vBPQR5WWIftO7TilGkqKkz/\n",
       "sHMcsOgs0ktt/q8+0iKx4nj8WgM8weNG5g7lSYqEr9ebK7NBV7FptptksJb6/xElo61DCVCiiM9e\n",
       "NsJOsYAAAAA7QZ6ARRUsI/8C1hQC1FV/p9Z2KmRqxTqqGQ+aK3RFh6gJXTeUCREafaNQ7GKpuDL6\n",
       "lp1Jt+uYiQuinkEAAAAtAZ6hakf/BHPj0HYOhf1lAAmwfam/NgN5fPr1C8XZeSqlkDgVvsQYp8ap\n",
       "2EeAAAABN0GapkmoQWyZTAhn//6eEABT+IUn6gBuoiVzMOTX4Thtbf9G7qvNFl93ZvQiq/59dAPL\n",
       "Q5FwbCqgUv9g1TuEyqbTdUFV1b2HBIXp3O2nrSE0jqC1nIOzLS+zJLb3aHafUTM6GZplWKNbglCo\n",
       "ivlCE3h5NkW8B+y32Zuf2K3Sdn+aTSAiOu4LXrntXPxM3oI/b14+5xk0FwLvgzaLq/wmcUUoc1Kh\n",
       "7b7fS4pCAhBTg3jHy1R0T+UJuGvtu4V/6s6A7ijwcbk3Ng7yV1qmeJrTthbc7uPMRVYeKNx4vLRQ\n",
       "1tLzISpk3KsH3ts0nhteloBpL3Hk8m1Fb19v9Zn+t1OC3/N/HQrTvn7MdDBppRG0/qoFIR8xj+/x\n",
       "cK33UPQlCzMi7hsTJxgjQe6qSEMNW0CoqZyxV6TLA/9BAAAAUEGexEUVLCP/AtYUAtV2V9uc64Z2\n",
       "0sgASpKNQ+jqxfFfVVRwVISUxYdgsJOUPAVIqK2bhZJXRREJNmPek30ssXxWzoNOcECVjvzN4ZV2\n",
       "RJNRAAAANQGe43RH/wRxiBgZWIKTPDV5PzDTrWeZb5cxlUhArOOjuOKqkHuFQeLAA9Ptrwz3hvAN\n",
       "6twIAAAAJwGe5WpH/wRz49C+FQCGtxZIIUJdfGh/sV0GwykzjhN9s5eLYh4zIQAAASdBmupJqEFs\n",
       "mUwIZ//+nhAAVHfcwuO0UnB6RWywT59vlleox8HvuVO9BtgHKDH99OnyfOEiLLgAITLqa2wLvs9s\n",
       "FTzpiE9bNWYyoE50lqmHTKkT/V+FKwbzYvJPz1hEIUNdPw0P9Wh1WgwyZ9OGoQePE4LP5MEczQ3t\n",
       "H9wIiMlV/6YuvEBLIczRprO+ciCoYhMvmzyJeMIK3v347rm093Pdt5WVFWDvQKWJ3DVcJBgfBGqc\n",
       "kZwdEG1q0tfPERXQVbs91DcaWhLkSc1qd6uGwfCHYUhCIUy8V5T85EPzi8NlVZUwZga98VJUfRI0\n",
       "qwo1AarEXzprpmu+7DTwgLH9neVz/QvMyWuV5iU9a7dSSAkSa9Co0fwV1fMbi2jgldZ4mU5E6dtJ\n",
       "/R/AAAAARkGfCEUVLCP/AtYUAtYjfaie9Ab6AC5FWtmPQ39P5R8/mYQIam89CeaDk9JPJV1IgNGb\n",
       "lJxcfO67BkuB/19QmB7N2FHMvIEAAAAvAZ8ndEf/BHGIGJ640jLo5R/IAE7Bs/g87p8PSrJjOIz/\n",
       "/5ca/E0WVZNTCloaG8kAAAAxAZ8pakf/BHPj0L4VFd+adYOABOQ6wHDZjZx7psQaDtjWZzLKCY/L\n",
       "SepLfjvYqRBf3gAAAQJBmy5JqEFsmUwIZ//+nhAAK18XjmRlwAtQHb/Cl+ahufdw3FrZPOCY2/wZ\n",
       "V8BpJOxKlHC7loWtiVJVv49O7Wd8q9sSbGH5a+Ez2kBrGxT5g8iqLbtUTng6A0j6CRou+/wKCY29\n",
       "ndacD8lTNczKzKSqhQBMdpb6H555J7cr4N2hZjpQYk7OIP2ouY25gn95QCsEgq312gWnZ2ZvvXfs\n",
       "a+YnMOFIVpw7I4i7gcTD7OLhHVq6r4XtjJVse+W0U79ZS4Je/YeiB3xqpa+RV77AlOOTG5AK3mft\n",
       "OSO7I114WMUhcFohLRZ7AKqOmxsz3oJGUA4d4q+BeZrO/qy9X8CIxBu98KAAAABNQZ9MRRUsI/8C\n",
       "1hQC1iVV2HdQ4ABOXYABWK5yrSAO5MkbvBO+Fe2skAW/pjyYcqsX+riFyP9pAf1Xv9LCdhtcyUNy\n",
       "nXWvrSrEuNQnJkMAAAAuAZ9rdEf/BHGIGJ7sgKwBKtvFsIAg7fwV1U15Io1gA5xIAJD+0hxi9lNz\n",
       "XtRMuAAAACoBn21qR/8Ec+PQvhUbx4Drmi7+lyYBsHFY4SYxGT1w0a2nAH+0k8ILImkAAAELQZty\n",
       "SahBbJlMCF///oywACpNtHQ+0oQAOHMF/hS1amw8tUPqUePSxIRW3pbG1dYZ32VcAJiZ5H2eClDG\n",
       "McmlxZkK8rmXZBDhvc6uVXEiON8cShzfq+VkhkgzO0EqlrfYLIWHtEpEszJk+Fo8p0Rh1R1IZPgO\n",
       "/mw5oJuO+r8bwlZx1nXPbjmM8mZLy/NwzLS8cYHwnzCjSuso2mA9wCs6u6r0SDN8ozMvba4+o4qz\n",
       "+nVouppCZXcfc3z6+EkZPEXnIdR//MUgbatWT4NmGcq9UJjdHA95HfDfyKPwHNZQOYVuSVcuy7V5\n",
       "G0adC8YjQTxuM2viqWfbwrhEM2b+9PutfahiADxqXlpQl9KAAAAAUUGfkEUVLCP/AtYUAtYlVRf9\n",
       "Ua1gta1zPPvW3EUAoOrewQw2mH2Cv7x1Xue7azRK+BXQRriBjNcrBclXlqZFQfgZEaabTAGiU8qQ\n",
       "miH8DLhEfwAAACEBn690R/8EcYgYnuy96pQhSfkwpHSNUH9bpbklFxyX8oEAAAAkAZ+xakf/BHPj\n",
       "0L4VAIe2Of5+J53C+RjZMuaeze/Yhd235NOBAAABHEGbtkmoQWyZTAhf//6MsAAqTkUxdqECA4Ah\n",
       "1ICxR/sovHXzxdHoj+8rnHXlwbXKKu+TztaP+gHoGhv/+6wc/TE25nntOJn+lzVFim/uL5kUQjF2\n",
       "VrEwhM8Rtb9MtjeTDaPvv+dgUNw6wR3fL2hdKqgRtG6YnISP0uj4N6dGQAfWqy1ug52sUqiMQD5O\n",
       "bAobuu3oYA14dweTtmocz9wXPB4OQ3zPjPa94JxOD6+jlxD4BYGWrIHzb13SoMR6DMY34Oi4Htzt\n",
       "IdpDodt/hOGu9mYkvI9i0cPJ6TowIGO7+xVtMHM0seb59vz4onGcpGE+TpQ2gDgWBGlZ6fZ0Gi6F\n",
       "qvFwhXuuh3PeWpVKcA1da2AfPAAfZErCA3MEXYahAAAASUGf1EUVLCP/AtYUAtYlVRkB5dHcsEAB\n",
       "dAyTC9pEMDSdKvyBkoZ7rOZwVhg/kEJ9DGBNps7xx7J3LoHYKeuWZzynQglcPonDglcAAAAxAZ/z\n",
       "dEf/BHGIGJ7spPwRzVliDOTbuNtqFU5eJibDeDIAJY/gzMW5ned7g+3iYTwWgAAAACgBn/VqR/8E\n",
       "c+PQvhUAh5l+rscptv2QAAlha9zSh+N3PHfTz9BhZa0/AAAA4kGb+kmoQWyZTAhf//6MsAAqXLih\n",
       "IgBw5gv8KXFyIx3P6Nfu0/nU8bTZ8sXQIlDgvOkq9r3oAxq0ML6Qg12wumvnpNMnT04Zz7utH65f\n",
       "8awO4Ux5tUITD+9T0eJyV/7yMNdWYzyvSzqkIEGIAiakyTwIA50VndWeS1kM44MRYvM6VLbxN4Lc\n",
       "fBsWx0ymaI6XZoVZjF+CHYefQ+bLiq7wBrdPVq86zs71opFPNNOJnxABCHhl+FD3BcfHTodPRLJu\n",
       "BQl1jBM8h8m8j0rMFLuSg0mLoWNpl5KgNQdLhQeeFCmu9XAAAAA4QZ4YRRUsI/8C1hQC1iVVGO+m\n",
       "fCo47wTW0HuEpIci2S6cYKys1SIQ2ayIGPwR4rWyV9rfLz63VOAAAAAoAZ43dEf/BHGIGJ7swYXR\n",
       "GpgUqdpY/zDRze7ON+0gBEBtB3BDiB6ZYQAAACsBnjlqR/8Ec+PQvhUAh7eNthbF16cvcy1v3ZZm\n",
       "QHGhzYAGtWab7hk6ZcvrAAAA0kGaPEmoQWyZTBRML//+jLAAKmDBeKgA4cwX+FKjmfW94wrmP7xb\n",
       "p3p2plvf9nw/TuQ/mdN6mj1Cj9oPQ625P5fwVkYvITnnXprLKdNn0nwNlvH2RFavJo1WMOBLxznB\n",
       "7gVTrqMoYaE16/WN0JnZmRA0CY/msTR4DM4zNzqt2xZOz7quS+dpZATPCqT9fc7G+zirjmJvYjYG\n",
       "VctM/bo45hjbUKVZK5nXciGMI/La3pM96GDyTwm/jEJtDJwcMkSxmnwazH415+G34v+rTXXrNz7r\n",
       "2wAAACMBnltqR/8EdPkGLKrMHwfrY09sg+3PcrDsCUg1wArQ4re6CgAAANNBml5J4QpSZTBSwz/+\n",
       "nhAAKe65bZpMANujDjUBMtr+Umq/727TjJRH+nmYQbQAGI9eMqbGydlIUsc1Uba5cT0+ji9wTm0L\n",
       "DOrtjTtKL5VHgZWWcvpWn6Dbqchk6RXa1uWBgkg4a50xBp36HXXYLdoJvcL8myFzzFCRquGVx+YD\n",
       "zz40WqrqlLEFKbKRLHS+OajJ8xFWDkF61+FopGzgbjMd3Gef5aRLw0ycLk0AeFFYx3NS/tuA5/xT\n",
       "8dHuH1XV56wzCpF6SMDg6AVzZtQ8ApTli85EAAAAGgGefWpH/wAFrSleCp9Fl58ltjS/3msqFj3Z\n",
       "AAABDUGaYknhDomUwIZ//p4QACnvZ7gMIxwA49r1rcmTNlGRgdhKJLcvSZqYmPEuLvRNm5vK+wSK\n",
       "SWLhStcqUk5I4xzGbGm6R51C9Ck3aFEx73WOcOADAc7H0l8h5FyDhF/m3neq6eVIrgkPgx5voXAD\n",
       "iSwmuJ5hMCIa9Y+vRrFICtO+n7vcQFdWEKRrS0cxYvaitkrdWwjinKSAR6Oh0aIKB1T/uXBgUK0x\n",
       "5beTfzvw4/Ks7cxOLtHzhjbQ189X70toyg6Z1KsujtU6KT4oKk9D+CSPodAtnlpxELDw3APOTMP4\n",
       "qltpHUYslkUFGwlDAApflaVHTErRNvbqmpsFLaANM4qnO+AGzKeyvhBQ8AbQAAAANEGegEUVPCP/\n",
       "AszyokiyczdpbRML5QsHX2vE2/ufjB6L0etiiXpKM6O7Xz6f6NanHdk5x4AAAAAeAZ6/dEf/BHGI\n",
       "DgdglYxp5u7hud+bMB4rb6dyRtchAAAAHQGeoWpH/wRz48fvHyElCgUDi2CpYPfUKxVI/duAAAAA\n",
       "4UGapkmoQWiZTAhf//6MsAAqTKaCpSzqMiAI6gvekq88xdoOPCv18kKDrV4vePIJVhHXL5I6cExP\n",
       "/Pajo97YNbWRZHbTy44IMGc6r83nif0duIvPTwrxyzQQbiTQWPSBvzBdgBDosf7uJRQgORMmYEt3\n",
       "b+fQYH7oT0MDHOJP/XqrK0GDZ8Xli/ZuKc66bPX53pzX2BLkicSRjceDzQMbx4xp2muIlnCfdPeZ\n",
       "I8dirHCoyu9d3aXP3Qq3eP9B1DnncJ3vf/Kvqk05A3RbjAMpNwxnpJ/qpfDhoFTTgXAzzTJ6lwAA\n",
       "AEVBnsRFESwj/wLWFAF8nGR82iOFYYYnx0XVY/aAxZpTvtiltKXzEAKsZCFtXqo1WF9APccGfvQw\n",
       "wnXQlInX6RHLoNuiTUEAAAAmAZ7jdEf/BHGIDeVqSaGquszoUF0t+GJOQj+1SYgBNJjRRVO6JuAA\n",
       "AAAeAZ7lakf/BHPjxnaDrnZ8iagjaUhN2v4PNOdTsYrJAAAA2EGa6kmoQWyZTAhf//6MsAAqiHA2\n",
       "cAFfMIchfzngFBP4et6DjaJlOu7WVFJIRiVvl4a5RzUwpiR1bsfFKAJBATu7tZ5uf1AeeLYfYvoS\n",
       "Ee2P7M1EkcP/jitH5r9g8BgUvaEtXcjs0z9Tcaf+lMBfYS3ku/K5T46VpOjOKoB5APNQNPEwPrzX\n",
       "zzuTWgLSH2hXSmjZVRuBUwaTj9xQqNZF9fYnDlAuFg4rGo8wXL5QmbLXDpvwNHh4kokAD6XKcDXw\n",
       "J77eNOy0yAScTky3jJnXFVF8gnwu2dVNMAAAADJBnwhFFSwj/wLWFAF8xtWeOZXWlT7QGFxOcXbJ\n",
       "z5AkosThhZyJ/TyP60W1HMonjxy23QAAABoBnyd0R/8EcYgOD5cOxsWTB3eozjHp3CeMoQAAABUB\n",
       "nylqR/8Ec+PGd2tJ+ECDOHAZ5IAAAADVQZssSahBbJlMFEwz//6eEAAp+L0ABFrkyQnTrAPiQEXQ\n",
       "MgCvoFDIuJsSIwx/FehGBjWgmmZpRZbLeMNvtpceiYldmLED07AHHnMirKfhzKfvbBs3QzZyy2oM\n",
       "ek3QjLs3no1+8va8Zfg3fnQdBLlpYxIeOq/8RfCJiHPaq8Ey4Zd1aXX5r8hLa4n6rCE5bS0MJUsL\n",
       "RsyLqkYJd2/8nMc3ZPLYqoyl9/d1M//xsY+kLfia11XAXD9zE4ZwKPtcMYfc1WlDMEJdfKeTbfSu\n",
       "xJ17L0PP19UfAAAAHgGfS2pH/wR0+QGqFOnTCoqi4g/Y8Q1YjWSADc1FtQAAAM1Bm1BJ4QpSZTAh\n",
       "n/6eEAAqKw8FI4Rwp43ahtp6AHA9EzVFtpFGbto1w6Vw4GNul1ORFN5yS3ueFWj6uuYS/Or3oi78\n",
       "cjQw61PioSbxaIhjfVgoolIxC4ImcGozNLrcByQ2fpKfak5paor0iB/h1OllneBoa79tizrOjdPd\n",
       "SUGThPvfzYvjdjW1UY4jpOD549Aap2dCU662xgDWPeanJY9sfKzGGGryCIA8gqqcEJFzZYSM7Q6g\n",
       "y0fkiX38HQosUKiCwOggV68oHXbil3qIAAAAPUGfbkU0TCP/AtXU4HTjWzzMOaIeJmPS61io4F8S\n",
       "wUwAqqVo8zc9AKJVEJeygl8Wa5+k1o5i8EaPPua6iYEAAAAgAZ+NdEf/BHGIDg+XDsJoezRdVCcZ\n",
       "bvCa4BFZofw4S0AAAAAhAZ+Pakf/BHPjxbt+PgqCAyGXrKssMN0O/KNHgUC1UHypAAABQEGblEmo\n",
       "QWiZTAhn//6eEAAp7zOybhLX6wA3gqrGjqqYNmNXQwcXdg6eN6BcDUVwNe6oFAvdpzlX4WB9UH6L\n",
       "vHQnRWYmscknE3v6F+M9lvTlIc2f49eQ0uhI3WDqVTy/eYkzlbuvDBUSNGrcIBoR1PjZRhmNMrcg\n",
       "GIrckuIO0JzqeEC0vdoP9L/+zoblVAtUqRqgEDZgUw0pPvkjRGhLglWADHgfsYyCk/PWhWDJg6Sy\n",
       "dw6yQ1u9rq1U5VApvyV4+wQcvsi1StWWX8NL9YtmP2gxW6HzZ8e0XDCaWf9lljJdHjc0aDzqpUKW\n",
       "rhLiQugUQnzM6FudAh+AaYF6TKBrIVi/7TQxQ4COMjyofq/OCsEWGPLu+n2R7YVrqogfyV/vtYT6\n",
       "C5jdZFWSyiPuTL9gdyAQMzAAiLcZGqtrSrqw/olxAAAAQkGfskURLCP/AtYUAXzFoCy1ISRHHLqU\n",
       "SRR7j1cgBGOF7W1+HYTdMdAAK151RlHwOk9x7f19aLT2xU88RIwhrB+P3wAAACABn9F0R/8EcYgF\n",
       "Sn0A18iT3QfbCFhxEj2T+p43pBWFoQAAABoBn9NqR/8Ec+PKuH4Kby+Re/VidiZKsf4WGQAAAQ5B\n",
       "m9hJqEFsmUwIZ//+nhAAKe7+wZnAAWAhRlFS4JuVA83+qFUShFvXo7+hRC154dsDLiGwuse00ygJ\n",
       "uXde8LmQ8z/TmcY6vs4k7cuT7SjG2NPKBxWozj8I9lpnOtBfkrSZD+WAEFh1fKxuSCqZElYpqGJL\n",
       "v6uQkDmtCCsOffQi9qO/B/JezA8PNVwzqufYbOSyDa/vvyvNO7iMsomXja9808ubPt6bDcg85LW9\n",
       "SNlD6waqNuJ1ibSuSgI0ioZ7Xb+TwLFmKBiPiw5CoDu6GsE42/d4sV5IwRwnSepqPB6ByjLkKKUA\n",
       "kthTIgZUjc2QtjN8+A1/Ysth1CcC+8sCqJG3kIW6Nr23xbFfI2g+M8gAAAA/QZ/2RRUsI/8C1hQB\n",
       "eF0M1UCAbPNR/EloAWYrWWcCJwkWowc/D3Vz7kLRUsR6dwrHy104ArTLkLcx8wFdQCQZAAAAKgGe\n",
       "FXRH/wRxiAU84rJew0mIATSyAtIYJQo/SJu6XzA50qJD85hiDTVgpgAAADEBnhdqR/8Ec+PGeCqy\n",
       "jAAzRZiQAE6YZNBcIJtBuF2tLooL5DXf4uS9OGEMz05TSiNYAAAA40GaHEmoQWyZTAhf//6MsAAq\n",
       "ixNLPoA5MwoZ+kYmvG/aDrW86QxK5Ls/Vyf5WQEOuE3q9II2xNlLiQ5idmh2847X1qLY49uAeZTZ\n",
       "OUUA+MdduuRLIRVrHS34IrZU5KhLb1NlO8o+ALR81xymppYSng/rtyLPfoeJHcYE5/5ri/nCXLDt\n",
       "DqOgIjWPavsEI2Fb3GrJdqnmQJqYCTEZCdxW3D03WrK8dLjM0pR20tTLRUKINKdFaF/LhdM4fzov\n",
       "odR46bqqWXfT0nBlJndRuw8OHc7nKcer4+vTgBCdMU5oy6ro38mjAAAAXUGeOkUVLCP/AtYUAXzG\n",
       "1l2p3p9bf1bvwAtAB7QG6PYcLPT8nhYq3411VBRAQzvaOWVjO9TfQScbFJ6f3/oBtE+7EYi0l+vg\n",
       "od/i0h0yDhnF+Kx6hvHoLqx1SM6OQQAAAC8Bnll0R/8EcYgN+jY290mUl5ZXPukQ71xUAE684l02\n",
       "RDitTB/gM7TxCAsMyfTdMQAAAC8BnltqR/8Ec+PGc1UBl1d9BqEXpFPIxtgAnXnJ6r/56QkUzavh\n",
       "ifJkNcOTTtkPvgAAAN5BmkBJqEFsmUwIX//+jLAAKkzLmEtnAJW/WWFwZls7gF5p5vz26jksoBUw\n",
       "4x6t3DaGbjXgF6lu44Kg4XxJRvT0TzWq8SHfyVQhucEZFETUsXgcMv1mj1peE1Z+Kf/m2uQvdeFO\n",
       "lRcC5a0xEeH9p8skHO837emzw4F7KMK5R3pOnbk3SZ89sQt6fM8LzruZQXW5/KOeYdacT+mxL7dp\n",
       "jrPvpNAc2ZlrZEeHUKJcWFXnUGtzuecRvT7F2RHTKMZqd5CkoHfqNDYH11dFugRx4d3OKggkglos\n",
       "EkSyTK/+rggAAABPQZ5+RRUsI/8C1hQBf7szDnvE0UGgU2DH7GqQAtPoNQCkOiWQL/KvFfCN5NJc\n",
       "CEZ+DLBII7REEq3L3NbHgAc6zcM+wEhewKPbjIeeNaK93wAAADUBnp10R/8EcYgIoB87zrVBTyAB\n",
       "5QL/21lorGPQAk1QupHPtg8D3daIMKMCbgLCiZWymTm7gAAAADABnp9qR/8Ec+PKuwVExrtTc/No\n",
       "FSyEAH7QAVEL71bVzNhbGm8LQynwgu006VZpOLwAAADZQZqESahBbJlMCF///oywACpMyXz9d4zP\n",
       "pi2F3QAjCuHhVAZdGJiuyn2iYdapmfBuSQmvkgYCqDnE1wg7datVbgRlFqXdPjjixheribV2mVCF\n",
       "7p5v6k0Y5u1kRno+sVFTzZT6hIZEefGAvVgFYU0LtS6J4AGItyQ4oCEiwqJFTVUixGeUQWLohDy6\n",
       "wQ+rZRxWBbE2SjKdw/N5TH3UjzarqxaKeOrSGKGZsEG0ZpEYEINXAaYEMIxZAHoMLNTU426qPjNO\n",
       "lT5GoSenni0UFvs+piFdruuMf/ZxQQAAAD5BnqJFFSwj/wLWFACSxArDnwmLSrJACUdQFKUrrlF8\n",
       "AzYoI81cto+9sN4AlSaZ4QUj8JffaekUlo2q8ufz9wAAADEBnsF0R/8EcYgGk5PYa6LAATOaA7T3\n",
       "0j2r4uswxhSg7GUsE3a+Sf7Hs2MGJToqdhozAAAAGwGew2pH/wRz48Z253pviQ38/tmvUzmXaVAS\n",
       "9wAAAOVBmshJqEFsmUwIV//+OEAAUZMLuXeLNboAWFfszHTQdG6ptvXvSt5IxZAH2JKVOCYuoE6u\n",
       "LrhR3IKbJYZmOHicQ5Ffmr2DqQRtedyZX4u+XiVKQfJzF5Gsb0BKujjv3XVhpJLdJPT4dZBDAr0G\n",
       "8dDRlPEn/x6VRa56Cv9yEt9fuX5+mPmgpt1+PEv5lezZTIOut5fNbj8LPtUG/I8XEUsJRaHIl7am\n",
       "4shYPoElKKzqqsoO02ByvM5iPH4vxAzlZZ+zeLQeF/GDH02iYOkcZ+EP6ayem55kCSMcBwPCRETv\n",
       "NP2L/4JkAAAAUEGe5kUVLCP/AtYUAJKIJGmMWYpAAue50jfL2BfcgaQX8Fwy92Qr25KKHa0+mP79\n",
       "4Imr40RNqDVMG5DsGzlIqRwHsjdIHyFemkzlgs+V0czTAAAAOQGfBXRH/wRxiAigHzvOtA3+eLgA\n",
       "J0wATvvu1W5XzsVDifs87kQbp45sA1w5RQhNYJnJOrBbTcD6QAAAACIBnwdqR/8Ec+PFtmncxL5Q\n",
       "R3ntXABuueh/ble7QcluKReBAAAAoEGbCUmoQWyZTAhf//6MsAAqiHA4wgIS4gHXIAS1tnFIPLEn\n",
       "nYLpAFCrHxyVxNb9o4R5T/ODUo5QfvtsOve+4Lq4ma4MZSQylVKuuFDuKeZfNS8qM4BViFZ2BIeX\n",
       "njkhgRqGtcNCuu7/GyZ59J3i+BopR7PtDOL1AUZiwcEIjgETuzu60QZWBwkvqqLyiDq5Dz5DYkWl\n",
       "9VOg2mYBqGQaAS0AAADyQZstSeEKUmUwIV/+OEAAUbCTYAdFFnhKOoisRkeCHwA8pV/kfaJ1RZvD\n",
       "lbF7bkdQx0DwC0NFHqYStMI1+wbx0e4ukwmucXHgNZT+Y5Qh4LMGyEBz5GjdhtD7g4ZdxlIxQDzi\n",
       "62DB8bpS3x/k0zgy0C6KjDysGgFaLWAmuTFiw8KxVaXNePKfo3ccrN1T53mG2lWnml0tf2lhSxYN\n",
       "KEcvwtOJta9KFUdYgOYVSgZXUdOzGm7sKBb7MDkC+xnSfp6a8IuSG3qlVZH2vMd6SKd8FtdiVvY/\n",
       "tBzBC+OfsktpncqQe18MNSesS4v43D0MMVUIpkAAAAA4QZ9LRTRMI/8C1dTf7XCUajAlmUF/WyhY\n",
       "AbXRY6Nl4wpLXi4+/MkTCEiwsbWLVf6h5l9KohXFf/wAAAAkAZ9qdEf/BHGIBT9vfpI7v1MSLrap\n",
       "KXPeUAJppFHMmQo26cU5AAAAHwGfbGpH/wRz48W2qKzlrlzAAi2qG5IWIAnOpFQC894AAABoQZtu\n",
       "SahBaJlMCFf//jhAAFGvWSAKo+NJp+U+eng9tAW2unQZk1ub/mkj+ZrNztFtLEHgjJQsmwCxQu4e\n",
       "E0muPtjUU0upJz1g+7XayI6bIe4IwRv83g2tVBaAwyyWVJNhbfo1o05leKkAAACyQZuQSeEKUmUw\n",
       "URLCv/44QABSDXDYgDlpCirQFvX1ZJQvDQIbqQcoXstX9HY3+6riQ+HRSfNL57pPT3BMj2Nr3vCq\n",
       "CmBb/f9QEF9mXchFt5OVB7v5o+LmTfKmQ/WPST50pyGsIkSoOUgbWQgGMwRq+35xrqdaRleg6Nbx\n",
       "nf8eEjOBpOatw+RjrWM+Ig0MMyzPG+5/5QccMLiG70NTXjHxh8DQj4af0sSyDKio6RuVdf/GhgAA\n",
       "ABcBn69qR/8AAp+QJt+1q4Kj4jw+cepfwQAAAHFBm7FJ4Q6JlMCF//6MsAAVLP9YAgvmxpFBR0kK\n",
       "YkG1tExr8lmB1a5R3Q0JhNJWGB9uJebA3cS09AnYIh4oVEQd/fDg9zpt/YPZmIKn/w+yGXu7BHfu\n",
       "t5seaAp76nU9pc3GKZ9XuaDpRhzGlpxbTvDCDQAAANhBm9RJ4Q8mUwIV//44QACkIOmNgUuCC0Mz\n",
       "Iepv0oMSNezeP79MPpCbhiVk51FgmoPAEHs41BpgoQBxUPsNO+QHlMXf5Ch1TcVUiM6g74+dn2dL\n",
       "J7SdU1/tZiT2zg44IRSVYLuvOr6XrM4yOdPstcXfKYpbAxciEo5ki4YsKNrJ4BFFZxK9dMRztE4Q\n",
       "2Cu///7eI8pvMItjEoCi0Z2HEqDXJwW7I6rr65K6FGwe1YczcYZ6WmjCm1p3wyHCjFGql3sCaDO/\n",
       "t9l07GzbdFOJySYUPgnwusdW4sEAAAAlQZ/yRRE8I/8CzPKiST/dSaz0nEYtDWg47RexA3gs1Mcu\n",
       "KDA6YQAAACMBnhNqR/8Ec+PKuwVExpph6uNACaMAAAR+N305+AbojvIgCwAAAHpBmhVJqEFomUwI\n",
       "X//+jLAAFSxmQARyTJODX+bjAiMZgy82LV4X+QZqJWHvGOtX1vnnIEE8XBXfKDWMT+XAyZ1T3m5z\n",
       "Ap+x+8F7iY0Puavcfk9RdzoqykjuJF7KBk02J87kdgdBw+x/NC2j/M7KXW4J5bI/cFTRNyKehwAA\n",
       "AKZBmjhJ4QpSZTAhf/6MsAAVQ8t44ArbClRWdlu6s6Pyp5smLiXztpMfl2psVZ+KeWFpsPh4SYCp\n",
       "LUrnUKc2sQsFqYyTnDRrj1M5Z4eCZR68ajRPGK3RLAbQus4dwrUYfhO9nnKtZ4g8FRF7zYoULucG\n",
       "HXghz3DaTpVUWGiJKn/GzuUCSJEDv7ljnIW5Q1E3an0PK+Rt2xk7OTuOLFe2g1oC9Z2owv01AAAA\n",
       "IUGeVkU0TCP/AtXU3+00liUaK9SQDaSRgqf5mOn6rWMIkAAAABcBnndqR/8Ec+PFsijdqZ54Qby3\n",
       "eBOeCwAAAHhBmnpJqEFomUwU8K/+OEAAUbCTYAdFEdQiZW68d+1UsEzy7dKbGIq9oEy/ljAnzWtR\n",
       "QC+z8NQwg9RYUTo8fgDKlkYj/fxepbEEDXfJEVTtsOxdO2YDBVvbkl9F+mTK8jFpvTR40vqpHJJE\n",
       "U3Mc/+GnCfqn53Qsi4EAAAAWAZ6Zakf/BHT5AU2+qUvVstcfwXKZQQAAAH1BmptJ4QpSZTAhf/6M\n",
       "sAAVJsJr9gABW6Qstoxz9ZyhEF51Oflb2ZLUhV3R4MjRTqAKkjgvYH5UJsw2hpy7FEdcVMgzJ3LM\n",
       "rPmdVC+bhziUDVVIbxUkbgizMB63/xMI2SUv7MCmY8LTuVJc5wy1zABdi9xOlrttRuZB3TVEgQAA\n",
       "AJdBmr5J4Q6JlMCF//6MsAAVQ4+MwBW+InRHRrCDZjL+smWFNQ7DNCaRi9HyeKEvLcidCn+r1WBp\n",
       "1HoZCM/gUqlN8G9O0s2ItA0hugQ4wg8qM4MjKYXLtpMPAj2c3lkO33otACm+J8vSC/X0tqyQDePK\n",
       "z8lNwTMSl2qe1PhQ5ajiGLwgjr0FwdlTqGfTYZaCHGCE/vO8u2yoAAAAG0Ge3EURPCP/AtXU3+uX\n",
       "tpPGEocTohOswYTTmAAAABYBnv1qR/8Ec+PFsUBZQecOHqN5PpzBAAAArEGa4kmoQWiZTAhX//44\n",
       "QABRkZs9qSAL+CFeMMBioIo+K6Muh8ZkonveFkumraaLVDqUmxbpoBfGCv2Sxe7NBU/V7sfCWVEa\n",
       "PcWJi9+dCePaYNtE5TN6T3wM6VAnXou+qdsOw+qjvZlj7AYOz2hQoM5DQ7YpTUNtV563nxWex7AC\n",
       "qCpjilz0sVsG5ywmruQi2AqsJAjUL1nQQ4Blae4ANDh6yFpohfv2675i8oAAAAAhQZ8ARREsI/8C\n",
       "1hQAjWn8gJQPw1FEfnxvYtsnCw/bAPZXAAAAHAGfP3RH/wRxiAZghqbw8azd07Aj8dnlACX3w8kA\n",
       "AAAXAZ8hakf/BHPjxlzCrCJDVZGmaiLNQWAAAABeQZsjSahBbJlMCF///oywABUsp0ACueO845H8\n",
       "uQZNp0XPiYVwcBYmLEp8rk0ESfYQAXLB0/5+7pj58ObqpJjzOTkHgq9qHf0LOyu1kYjhwPiNk1qD\n",
       "OIgCM+sr/y1ugQAAAHdBm0RJ4QpSZTAhn/6eEAAVCu1rYAIxX7xkJRMhWPtGsXMv9GuSyz0m5TNm\n",
       "1uShvkDKibPdH70u1Ky0rwnG/UKQOC66KiLC8kZffhpgqJ54crfxrdoNvSO3hZBrILsqVeDWDt30\n",
       "souf917Ug9aHu0LUX9QPeU14DwAAAMJBm2hJ4Q6JlMCGf/6eEAAVr4vjnKlwAtkJDSGg6OvHzyMj\n",
       "c97O4zjifnFRftqSIQFfnjNHHlGi8jKH/WgcUArVQ0jiE8gD76lhbOOpc1Knlf7DF6cA+7MMWwDJ\n",
       "D6Pjr315yRWIpx8ohUKkq3MtQp7TbuCtULwfQhxZ8jOq0fRrfTB9ZE77QRFMxQV7p6kV4lsE/oXh\n",
       "9BVM599IQDO98zwo8frual/EgklEF7RYg7xK9TpQBv61e5Ide5YD/kaTCfe2gAAAAClBn4ZFETwj\n",
       "/wLV1N/sEiVtx1K7ho3Zd+LV1mmvQbAD6coEazaSfqUq4wAAABsBn6V0R/8EcYgGa9U3ZtTud+k0\n",
       "EuapjniCA5IAAAAnAZ+nakf/BHPjxmTnNjqXABaiIvHTgpWanUZATy5M79WIWKYaP9clAAAAokGb\n",
       "rEmoQWiZTAhn//6eEAAVFvpseAA42qcZNQFP0c2Oq6IG1ChV+/rn1RaWoG4vqCvlNdDbFllhumFi\n",
       "wtfKkEwjBqvqJQFSGHs47WJoiubDh5XRW7DYHceJOAYAsX5H141zIsW2nMVF879km7gCLgCioS/s\n",
       "s7+wTe2BbtnT9Rps/VC7t1+WA30o6/SBhzKW1aAAvvWcbmuBJr124anmexDpsQAAACRBn8pFESwj\n",
       "/wLWFACN+3wInRGmOjM3idqYh1J/IYsFt4e8CXwAAAAdAZ/pdEf/BHGIBm/Kmv2Y8W6mU6PpKE7/\n",
       "32E5USoAAAAcAZ/rakf/BHPjxmSCPKzrRjExqNo/NhuUNzAlQQAAAMJBm/BJqEFsmUwIZ//+nhAA\n",
       "FQYnaFgBuszSpWsI+MTF3GkCIbHjfm1WGda/o+UePgb+IGu9Eq3VWUlyxql3eZLLrzRMmyvygkMe\n",
       "0eTseTwi5HZxrrYGtQnVaIPDi8eIWtkvhJ18Rx7SnFpy1M0lvSmlIa7Bd1GijUMpOK34vBdMZABb\n",
       "AR5Q7dCqCAj0a1brKml8dxS+kZYFclHrj3sLTVsoS+/h3LI0hdHvLbrSWFhQTvR+HslbFWHMVr2Y\n",
       "685/wVXWqAAAAC1Bng5FFSwj/wLWFACN+7ai8ekAAWVd2i49ExjqDGIaNAVW0+/64gzS6AmWC4UA\n",
       "AAAhAZ4tdEf/BHGIBm/VB6RZpR4jbEsQAFlB7fY6QxYlkhBfAAAAGwGeL2pH/wRz48ZkgVls87dG\n",
       "hAp6Y8/w3UfpgQAAAM9BmjRJqEFsmUwIX//+jLAAFSaIwsBNXgAON6YgAFw+gXxwj1zSZ6L7uejs\n",
       "l40i/16eIEqy0dHRcc43AZ6ECv0BjCbXx4tabEH8X2Ast4Dx2hvEUnUPam6JYagA07UVj/s2JOsj\n",
       "YsrwqyMA4yg+aI6JgWzbEYf3xa4+5jMpCYsKEbRi9cHtKShQtN7vxGhlf6TrfZW4F2tiIe7TuPpB\n",
       "NKRk+/tuv9B4ydsug922301NjQHBYF06LlKnaATjk0wLveI+ZOvEpArH+iTBAAc4VqkAAAA9QZ5S\n",
       "RRUsI/8C1hQA3CB9lDvQeMGichgAjskMp5LlKpEYkEZMLxguomRh9IthjqW7Nfj5FBD0I8dXRyxF\n",
       "8QAAACMBnnF0R/8EcYgGb8z4IqJxb2XuRAASuatN9GzurR+nU0uuEQAAABYBnnNqR/8Ec+PGZIFZ\n",
       "loYisRvod4hUAAAA5kGaeEmoQWyZTAhf//6MsAAqTMuUWqJev/gAaNuT/C8bBVCGTy4bk2xH/zsT\n",
       "wWD5d27nCn2UFy1827KR8JqRKE2WE74vhQBWtiD+crLW/YFGeHNOZoKa6bzZ0t1EbZOZZKZOK4tZ\n",
       "Tl1WMZfZbVwfxBUvBEht9gGyR0OkcbqCJ90h8sHmWi8+5UMeBNTw4i7z9zaYuJ12kZZ2ZbhrJrIG\n",
       "A5qRC654T0msMDAeNkVT8mSokmHAbJPlJo3tj6elvIj1hq3Ie6lMcE+6ZzCW//1TFA8Zl0rjWW3W\n",
       "Qy39RlSDp38P1LLJhBuWAAAAPUGelkUVLCP/AtYUAYEtOgf2t0oATtwKnFhtwYNsoAJHzrX9dT6B\n",
       "GtvfXK2RkBWw3lNpcEej7sbF9BNdUVEAAAAlAZ61dEf/BHGIDg+ImTbue8Px7TscX+skAgAPX/x4\n",
       "PGTT1jhSgAAAACYBnrdqR/8Ec+PGZISnpSkUG2Skxc/nz0AEh+pMk+H7pSwybXIFQAAAAN1BmrxJ\n",
       "qEFsmUwIX//+jLAAKkzLlFpoL/CGiw2ABpWTxXSC6Dkjq9qcWDiJKTn6zN8otqpnkurhSvx29S2B\n",
       "7u0W7kSIQCkKa9lDAvzHZCki3D24aSBsR4mQUxKjF+SXbLYtfYfiUHpYUF36DLGScCwN+ipYclGv\n",
       "YoboXNPLwi3ZF3PDi52KWILQR6w+tl44m0BOQUYRVwdI685I3ndgsK3najVVUEcandE4zewyxvSJ\n",
       "2WgJi2PG7dU57JWi/WvSH55tfVu9jRNO/4H5I2DQarZTO+2fINYqvkbNlSY5wQAAAD5BntpFFSwj\n",
       "/wLWFAGBvMICZVtrEBrqbhIAFpVa5EhhxiQ1dEPmzZUrSri15zhwxaxTUsIW6s3sccM89yLKgQAA\n",
       "ABkBnvl0R/8EcYgI35nwmQ7oykUXTIo7V8qBAAAAIAGe+2pH/wRz48q7Co3uaOKAduJTOzAbYWMc\n",
       "rxQ+tvygAAAAs0Ga/kmoQWyZTBRML//+jLAAKXvDuHEJaYSkLkbUXPcmNPS1DKVWPznQ7dILwjAx\n",
       "OJrQoY/+/jrFyhosCQIPG2PaI/JDZhusYLRCmPhMXwIefxuUttCFq1VcpAc1p1O9VrV1DvAe1yP+\n",
       "RzTzL2XzfXISSCSULPeGpwQ6u7xIryzF90TnSjW02dEWLNgIiMBWWCqhp8dyPoe1ld+bFz3wBrQu\n",
       "IYl8WjPdOBMbH2BvTav141QIAAAAKgGfHWpH/wR0+QI14lGw6birlkxnikCpv45WOVETABJ+Nl61\n",
       "cMjRC3vPgQAAAQhBmwJJ4QpSZTAhX/44QACkIOTiwAi9DYDQY7Gw+DFm6YitI3zptmlLSvcGDYNk\n",
       "SV/zB+34uICKBei0haeFLXZgeNMXhKOM9BtTysyHkn4peb36SXZWkzjHYdOFDoVjYWSHY5qle1ru\n",
       "5mtui0birYWzqN1FQ4qSeKw16PP++T8GZEvjAsrueznNcjuM+R2s+LqPLEl8dJzf3rRG8hUB4TOG\n",
       "PJvjDiio1L+S5kUjK7jnFiE3GN/mTlJ7BYWRprtAXjQB0yExvXKXQrzSRPCJw0OhEMcQUUr6I2y1\n",
       "ZwkZ/R08OcO2qKbwPQIB68BimVsyxXy9iapfhrNHvYDMNkE20dSPk+HuvcFkkFgAAAA7QZ8gRTRM\n",
       "I/8C1dTgdONbdcoMEXpfr2hF3hsAC5tJ6Xqf2VicCD5ytdP6e9N3rRw/DA//Dgppl1rr7FQAAAAh\n",
       "AZ9fdEf/BHGIDfyitfoKUMOifYtDIxZSBTE1JdHKlB59AAAAJgGfQWpH/wRz48fJCVjPDTOtrk1w\n",
       "PRZYfAowH14NgAl4CHcOsspgAAAAkEGbREmoQWiZTBTwr/44QACkIOTiwAi1sc6/MajkcNwL5HSq\n",
       "jmwDu3lQnnbMDEwC/pKZxtmwy31dLuWsbcQ+tU/+aNjH5amFtOlYEtri1H4UFlsgpaMzYr2ia8im\n",
       "9eKAsR2XwmJm7lHTOEpnmAXAAZt99+DncGZJ3T+8g8M9BnH+qR8yJqhs5BoZtFGVFWA9UQAAACUB\n",
       "n2NqR/8EdPkDeVbUTxp8zU1vfa94d7R8exzOa8SlK/hvlb3hAAAAmUGbZknhClJlMFLCv/44QACk\n",
       "L4J32sAAWSW/9vP0p2iCrWqzkBkC92xACKwmYHaZWZww++W5UVP5PUuDMPsiBaZSbdLzRBPvSK0v\n",
       "s/OpbT0SgfSft+WCGrDUilSLcHuuYqE1j4KG1jP4LhuZFPp3SCpdHqCtUiP/Nf1M2YjWa7X1D8Re\n",
       "pRoR3gGhA3NSgNpyOHBokM5mXOqg8gAAACABn4VqR/8AFU1rZ1rOJuRjyooGglfm4WFuWQ1u3s8C\n",
       "rQAAAHVBm4dJ4Q6JlMCFf/44QACjIy5KBjoAbTZk8RrM5z6UNsohpSSk6hrvZ8xGrKoRrNFlWKwi\n",
       "X7iDZhICCAqZsEutAE7KemM1t2AF44B/JsJlmrP20B1Al6ZHfCOuIOOxK641mneZCYwnWUy0bpEz\n",
       "8xI3+ezpXSAAAAB/QZuoSeEPJlMCF//+jLAAKkzJiFEACrpijUzfS4zlN/bhASBwEnBe4GoibD1N\n",
       "FUxl52N0c1iXfB+Ubz8+TRJX5EDkpuyiX0XxYGqUgEFG+Pp8M3uREutP0ZfsUeCC6AWk1l0eikBN\n",
       "GjlXzN5Sh3LV1FKsOUvRQ/WzyvHNwMA22QAAALJBm8tJ4Q8mUwIV//44QACkIMhP6AAJatOZeqFi\n",
       "V7Z7CV5+ymXcE04AMwqT6FUdLb9iGceQBbGVkFu40uh1mmikwaOUl0GUeG7ncmlDQfSuRij50snI\n",
       "ZBvZlGKHBKQuZdesENGAnOKu0L0qSi6/nsmmPDp90n5qHdtC10WOTo/dnTk/5IfdF9p2wamSifpA\n",
       "QMRfbHaO/5Sk5jmWRWTh0+9cBFD9Cfhm77a2HXebfmMyetthAAAAM0Gf6UURPCP/AszyokixLGF5\n",
       "5k8Yem4i9DWhZp9X0uesi/IGUdTHI4PVR8EuCQp+5l8rwAAAACsBngpqR/8Ec+PKph2AxTdXH2LW\n",
       "mGU0rmPzTH8QEPphVAGneh7jSHUjf+rwAAAApEGaDUmoQWiZTBTwr/44QACjLAs4RYENNlGgBIhK\n",
       "VGZzgcHIaxyJzEl6CEjyShNIS5guPGZuvnL9ea7zrmOQ3/P0yb72v4HgjtYMM4JjmA4pApdiwgRc\n",
       "hOU9+Vazhe8yY/08myQazUn1Ex3EtHMfbYOL0uOM6jJ788+V1kEpQecKWFpzx5gXARGaDwKSVgTr\n",
       "peXX/4/nIkjtdVhOeBPEEp+8rGLBAAAALwGeLGpH/wR0+QN5VqJU/b8ABNR2/cXPtln/btFMQlMG\n",
       "cfDC9xKqUkrC3n1wLcIeAAAAhkGaLknhClJlMCF//oywACpMi+Fmpk+ABEGZ7eqxniYvYawRYpVT\n",
       "TBy3gzlvSTna12R4ynCqePNv60qSThqRRuQvH2mFOL0tuZMSpCzDM3pROlNrvL22/PPfV2SEfxj/\n",
       "ebCZ3/zslq7Yn72c+CXHCe+Rq8QoL6axog7o8uGlCVErJO2LI+RdAAABF0GaUknhDomUwIV//jhA\n",
       "AUa1iQBzDtdTzvXvGJGFcLoQiehWX8hobR1JpUZ9CjT+WmNGZaA/vMMbUdHQoE0Q6NKG1KOMzwTs\n",
       "sAvzvTPBqLGBJ9pPxJGH8hn+aAlxM29ONZ+Nv/uaOUPHfsgjPZKzrs/J7PgxLmNj45aPIvvX6VCL\n",
       "zZ+nCxZ9md3G7WII9N3Y8Ge9ISu6O6Dbf8WiysH1if3kJz714bkxDGwy91+/wIeEjUc2FTrU1Ohj\n",
       "SA42IsJQFFh/9++BXSPD8dvIYzHBrZ044DsM6RI+rIGvOgWZ+dAYGpb8auB9PmSYGdytBwoMpP/8\n",
       "gdoxi0pcH4evvWnin3tu6/VyfxLm9qj5hwodxc+31od1UP8i4AAAAF1BnnBFETwj/wLV1OEu6+u1\n",
       "/5o0gyCZS9owASwxf0FoJhbQL5t2PdMopWjsls8QVPJn1UbzjOmyARVD7re+1hd64Vcqsa9+v8Bw\n",
       "D7U28Isw7Z0M6wZEvmxDZq1d2JkAAAAyAZ6PdEf/BHGIDgU0PIAATmaFkCXQbM1Qkb70x8r7NahZ\n",
       "wj+/1emuO7hfor7MT+/LjcEAAABAAZ6Rakf/BHPj0HlQ98z6ZIayAAA/OsWfjYE8vYG1d9hkJq15\n",
       "uW6QWSK/IGc0WnCc7qU7hLQgBf6xObllO+qsTQAAAIxBmpNJqEFomUwIV//+OEABSHMEDcowA2Ut\n",
       "/7fpY+cJCINLpw+84hTP6vpmJHBxM0X6a6lH03+p0+lzWws0IBTLzLQ+9rmFNSitG2akqXZMhUmf\n",
       "qZWCyP4recloYHtZjTqqsbPGkG9xDA5O3nR55BCtf5fp+3NQn3MmM3VTwG9wVQ06v1hIurqc3jkE\n",
       "LwAAAKFBmrRJ4QpSZTAhX/44QAFG1aG/3efHF1tVABMRPDfWpE4U5nru0mVME18SuRbXYpofpEfw\n",
       "LOlMwOuv2eMgamTcwzKoxO9Sz4KV4q106Jpwqvu/U3hLsV5+Hu0cfoUDQsmhS6BC3CvHIoqWjXzq\n",
       "taX/SI4dQE9OJiz2Wk09zPaabVt0ngfjGgpZ6Jt+S0ZbhokeAl81Sx3EphLJk70dY/ECgAAAANhB\n",
       "mtZJ4Q6JlMFNEwr//jhAAUg4AMRbOAFq5Uj7qgvwvvvx4x3mHmCkA47jSsPXpGk3hMUijsv5lWiw\n",
       "YBRXz1d09l+ronQvYkFvzfADX5onW0OS6Qeuy/xI0GcZv6SPFGB70ZzSZUfZ7Omj/Ay5TgP4oyeS\n",
       "BTTWskQWh27hLei+9iO6Djxg98SiGLCZrrtb8owYN9PHPiDZuODxaCBxP057chGyB2MDcUpU82xr\n",
       "opFBPJtqveJGGdz0gvC9L8W8w8eiPtGR2cry4KN3TuiMOLDnYy6NWTdo9YIAAABKAZ71akf/ACsS\n",
       "Jp0akAE0xjCqwVYWm6enIYfBcAwQlPMaa2utsU+WoqffxuwsrpL7584VWvBpAL1Y6Eekxy6aVqrW\n",
       "P7KLTFLbDK8AAADJQZr4SeEPJlMFPCv//jhAAUaQhij4AB0ztPPEudgyTiq5SLvooOmGxzB5lAz+\n",
       "bLHq9IxjGcDxyxisqQMOTpoqg9B+NdFdxnZOIt4GWxUPZCvHEuPRgoZfZGbSJFPQXPxef4cagWFR\n",
       "ldvX0GFPo86bKZgxNXHBOylmsMtN5hl+TjHD70tnT9xhcsOgizDqB33NIihEkX+B/EDKZ/ERb/2O\n",
       "zP/ihGzNJgQuCNi5hEhSoSI26AhJXOxApH0et6ms3pyk/pnXCG5qfK13AAAARwGfF2pH/wAqnpwP\n",
       "TeACbK/4ZV4vtUamY+1z2K+DEBpK2xtrj/xLZSgPJuAoKUpoJhBoiXDJuqBtWVtTFER8NbgVPOxo\n",
       "M9wgAAAA50GbG0nhDyZTAj///IQAJpx0QAjIlqATXvA9JXrRRFo7N9IgQGaeN4idKxZV/tm0JGdi\n",
       "Qty/ZTYu+vUCA7idTVMg9t0ZXnKZpbWzVv9SNF6a6V8zgHhqbjORgxTVRepRqj8swpn/ht11O345\n",
       "i4fJPwKyadPiAcEn2nGyD/gw98IVXH/umeZ6L3GlPG9qtAklhsbqfAEt9WfGgu17HWWrE0DeGSCA\n",
       "oiNCfsr2C+wDnkIA8SAqhIE1YjeaPkJ7QN5QQp8fhn/qIJZW73s67O2GcaXiXaiyiw34Sr75JaJu\n",
       "ZHkSUMb/XeivgQAAAGBBnzlFETwj/wLM8qKs/0e+FeZ/7cACTs4creTef3cBNJX8GJXkABd+nXh5\n",
       "k49595UvrekFYMb7y5RSRvfkdKf/tX342hGo0+S6kDxGI5J8iND/WamjWW70ZH+UNrpx9JEAAABP\n",
       "AZ9aakf/BHPj2/rDgBGIGz8ZqNfhVv0qSUWLAxvPAhl8+ZN6+1p9aOkfAZtTobtDrHAhYz2++mu7\n",
       "g4nzoB3zlNnOuuUmdGWdvVu/RTF8CQAAIY5tb292AAAAbG12aGQAAAAAAAAAAAAAAAAAAAPoAAA4\n",
       "QAABAAABAAAAAAAAAAAAAAAAAQAAAAAAAAAAAAAAAAAAAAEAAAAAAAAAAAAAAAAAAEAAAAAAAAAA\n",
       "AAAAAAAAAAAAAAAAAAAAAAAAAAAAAAACAAAguHRyYWsAAABcdGtoZAAAAAMAAAAAAAAAAAAAAAEA\n",
       "AAAAAAA4QAAAAAAAAAAAAAAAAAAAAAAAAQAAAAAAAAAAAAAAAAAAAAEAAAAAAAAAAAAAAAAAAEAA\n",
       "AAABsAAAASAAAAAAACRlZHRzAAAAHGVsc3QAAAAAAAAAAQAAOEAAAAIAAAEAAAAAIDBtZGlhAAAA\n",
       "IG1kaGQAAAAAAAAAAAAAAAAAADIAAALQAFXEAAAAAAAtaGRscgAAAAAAAAAAdmlkZQAAAAAAAAAA\n",
       "AAAAAFZpZGVvSGFuZGxlcgAAAB/bbWluZgAAABR2bWhkAAAAAQAAAAAAAAAAAAAAJGRpbmYAAAAc\n",
       "ZHJlZgAAAAAAAAABAAAADHVybCAAAAABAAAfm3N0YmwAAACzc3RzZAAAAAAAAAABAAAAo2F2YzEA\n",
       "AAAAAAAAAQAAAAAAAAAAAAAAAAAAAAABsAEgAEgAAABIAAAAAAAAAAEAAAAAAAAAAAAAAAAAAAAA\n",
       "AAAAAAAAAAAAAAAAAAAAAAAY//8AAAAxYXZjQwFkAB7/4QAYZ2QAHqzZQbCWhAAAAwAEAAADAZA8\n",
       "WLZYAQAGaOvjyyLAAAAAHHV1aWRraEDyXyRPxbo5pRvPAyPzAAAAAAAAABhzdHRzAAAAAAAAAAEA\n",
       "AALQAAABAAAAABxzdHNzAAAAAAAAAAMAAAABAAAA+wAAAfUAABMoY3R0cwAAAAAAAAJjAAAAAQAA\n",
       "AgAAAAABAAADAAAAAAEAAAEAAAAACAAAAgAAAAABAAADAAAAAAEAAAEAAAAAAQAAAgAAAAABAAAD\n",
       "AAAAAAEAAAEAAAAAAgAAAgAAAAABAAADAAAAAAEAAAEAAAAABgAAAgAAAAABAAAFAAAAAAEAAAIA\n",
       "AAAAAQAAAAAAAAABAAABAAAAAAEAAAUAAAAAAQAAAgAAAAABAAAAAAAAAAEAAAEAAAAAAQAAAgAA\n",
       "AAABAAAFAAAAAAEAAAIAAAAAAQAAAAAAAAABAAABAAAAAAEAAAUAAAAAAQAAAgAAAAABAAAAAAAA\n",
       "AAEAAAEAAAAAAQAAAwAAAAABAAABAAAAAAEAAAUAAAAAAQAAAgAAAAABAAAAAAAAAAEAAAEAAAAA\n",
       "AQAABAAAAAACAAABAAAAAAMAAAIAAAAAAQAABQAAAAABAAACAAAAAAEAAAAAAAAAAQAAAQAAAAAB\n",
       "AAAFAAAAAAEAAAIAAAAAAQAAAAAAAAABAAABAAAAAAEAAAUAAAAAAQAAAgAAAAABAAAAAAAAAAEA\n",
       "AAEAAAAAAQAABAAAAAACAAABAAAAAAEAAAUAAAAAAQAAAgAAAAABAAAAAAAAAAEAAAEAAAAAAQAA\n",
       "AwAAAAABAAABAAAAAAEAAAIAAAAAAQAABQAAAAABAAACAAAAAAEAAAAAAAAAAQAAAQAAAAABAAAF\n",
       "AAAAAAEAAAIAAAAAAQAAAAAAAAABAAABAAAAAAEAAAIAAAAAAQAABQAAAAABAAACAAAAAAEAAAAA\n",
       "AAAAAQAAAQAAAAACAAACAAAAAAEAAAQAAAAAAgAAAQAAAAADAAACAAAAAAEAAAMAAAAAAQAAAQAA\n",
       "AAACAAACAAAAAAEAAAQAAAAAAgAAAQAAAAABAAAEAAAAAAIAAAEAAAAAAQAAAwAAAAABAAABAAAA\n",
       "AAEAAAQAAAAAAgAAAQAAAAABAAAEAAAAAAIAAAEAAAAAAwAAAgAAAAABAAAEAAAAAAIAAAEAAAAA\n",
       "AQAABQAAAAABAAACAAAAAAEAAAAAAAAAAQAAAQAAAAABAAAEAAAAAAIAAAEAAAAAAQAABQAAAAAB\n",
       "AAACAAAAAAEAAAAAAAAAAQAAAQAAAAABAAAFAAAAAAEAAAIAAAAAAQAAAAAAAAABAAABAAAAAAEA\n",
       "AAUAAAAAAQAAAgAAAAABAAAAAAAAAAEAAAEAAAAAAQAABQAAAAABAAACAAAAAAEAAAAAAAAAAQAA\n",
       "AQAAAAABAAAFAAAAAAEAAAIAAAAAAQAAAAAAAAABAAABAAAAAAEAAAQAAAAAAgAAAQAAAAABAAAF\n",
       "AAAAAAEAAAIAAAAAAQAAAAAAAAABAAABAAAAAAEAAAUAAAAAAQAAAgAAAAABAAAAAAAAAAEAAAEA\n",
       "AAAAAQAABQAAAAABAAACAAAAAAEAAAAAAAAAAQAAAQAAAAABAAAFAAAAAAEAAAIAAAAAAQAAAAAA\n",
       "AAABAAABAAAAAAEAAAUAAAAAAQAAAgAAAAABAAAAAAAAAAEAAAEAAAAAAQAAAwAAAAABAAABAAAA\n",
       "AAIAAAIAAAAAAQAABQAAAAABAAACAAAAAAEAAAAAAAAAAQAAAQAAAAABAAAFAAAAAAEAAAIAAAAA\n",
       "AQAAAAAAAAABAAABAAAAAAEAAAUAAAAAAQAAAgAAAAABAAAAAAAAAAEAAAEAAAAAAQAABAAAAAAC\n",
       "AAABAAAAAAEAAAUAAAAAAQAAAgAAAAABAAAAAAAAAAEAAAEAAAAAAQAABQAAAAABAAACAAAAAAEA\n",
       "AAAAAAAAAQAAAQAAAAABAAAEAAAAAAIAAAEAAAAAAQAABQAAAAABAAACAAAAAAEAAAAAAAAAAQAA\n",
       "AQAAAAABAAACAAAAAAEAAAUAAAAAAQAAAgAAAAABAAAAAAAAAAEAAAEAAAAAAQAABQAAAAABAAAC\n",
       "AAAAAAEAAAAAAAAAAQAAAQAAAAABAAAFAAAAAAEAAAIAAAAAAQAAAAAAAAABAAABAAAAAAEAAAUA\n",
       "AAAAAQAAAgAAAAABAAAAAAAAAAEAAAEAAAAAAQAAAwAAAAABAAABAAAAAAEAAAUAAAAAAQAAAgAA\n",
       "AAABAAAAAAAAAAEAAAEAAAAAAQAABQAAAAABAAACAAAAAAEAAAAAAAAAAQAAAQAAAAABAAAFAAAA\n",
       "AAEAAAIAAAAAAQAAAAAAAAABAAABAAAAAAEAAAUAAAAAAQAAAgAAAAABAAAAAAAAAAEAAAEAAAAA\n",
       "AQAABAAAAAACAAABAAAAAAEAAAUAAAAAAQAAAgAAAAABAAAAAAAAAAEAAAEAAAAAAQAAAwAAAAAB\n",
       "AAABAAAAAAIAAAIAAAAAAQAABQAAAAABAAACAAAAAAEAAAAAAAAAAQAAAQAAAAABAAAFAAAAAAEA\n",
       "AAIAAAAAAQAAAAAAAAABAAABAAAAAAEAAAIAAAAAAQAABQAAAAABAAACAAAAAAEAAAAAAAAAAQAA\n",
       "AQAAAAABAAAFAAAAAAEAAAIAAAAAAQAAAAAAAAABAAABAAAAAAEAAAUAAAAAAQAAAgAAAAABAAAA\n",
       "AAAAAAEAAAEAAAAAAQAABQAAAAABAAACAAAAAAEAAAAAAAAAAQAAAQAAAAABAAACAAAAAAEAAAQA\n",
       "AAAAAgAAAQAAAAABAAADAAAAAAEAAAEAAAAAAQAABAAAAAACAAABAAAAAAMAAAIAAAAAAQAAAwAA\n",
       "AAABAAABAAAAAAEAAAIAAAAAAQAAAwAAAAABAAABAAAAAAEAAAIAAAAAAQAABQAAAAABAAACAAAA\n",
       "AAEAAAAAAAAAAQAAAQAAAAABAAAEAAAAAAIAAAEAAAAAAgAAAgAAAAABAAAEAAAAAAIAAAEAAAAA\n",
       "AgAAAgAAAAABAAAEAAAAAAIAAAEAAAAAAQAABQAAAAABAAACAAAAAAEAAAAAAAAAAQAAAQAAAAAB\n",
       "AAAFAAAAAAEAAAIAAAAAAQAAAAAAAAABAAABAAAAAAEAAAUAAAAAAQAAAgAAAAABAAAAAAAAAAEA\n",
       "AAEAAAAAAQAABAAAAAACAAABAAAAAAEAAAIAAAAAAQAABAAAAAACAAABAAAAAAEAAAQAAAAAAgAA\n",
       "AQAAAAABAAAEAAAAAAIAAAEAAAAAAQAAAwAAAAABAAABAAAAAAEAAAMAAAAAAQAAAQAAAAACAAAC\n",
       "AAAAAAEAAAQAAAAAAgAAAQAAAAACAAACAAAAAAEAAAMAAAAAAQAAAQAAAAABAAADAAAAAAEAAAEA\n",
       "AAAAAQAAAwAAAAABAAABAAAAAAMAAAIAAAAAAQAAAwAAAAABAAABAAAAABsAAAIAAAAAAQAAAwAA\n",
       "AAABAAABAAAAAAEAAAUAAAAAAQAAAgAAAAABAAAAAAAAAAEAAAEAAAAAAQAABQAAAAABAAACAAAA\n",
       "AAEAAAAAAAAAAQAAAQAAAAABAAADAAAAAAEAAAEAAAAAAQAABQAAAAABAAACAAAAAAEAAAAAAAAA\n",
       "AQAAAQAAAAABAAAFAAAAAAEAAAIAAAAAAQAAAAAAAAABAAABAAAAAAEAAAIAAAAAAQAABAAAAAAC\n",
       "AAABAAAAAAEAAAMAAAAAAQAAAQAAAAADAAACAAAAAAEAAAQAAAAAAgAAAQAAAAABAAADAAAAAAEA\n",
       "AAEAAAAAAQAABQAAAAABAAACAAAAAAEAAAAAAAAAAQAAAQAAAAABAAAFAAAAAAEAAAIAAAAAAQAA\n",
       "AAAAAAABAAABAAAAAAEAAAUAAAAAAQAAAgAAAAABAAAAAAAAAAEAAAEAAAAAAQAAAwAAAAABAAAB\n",
       "AAAAAAEAAAIAAAAAAQAABAAAAAACAAABAAAAAAEAAAUAAAAAAQAAAgAAAAABAAAAAAAAAAEAAAEA\n",
       "AAAAAQAAAwAAAAABAAABAAAAAAEAAAIAAAAAAQAABQAAAAABAAACAAAAAAEAAAAAAAAAAQAAAQAA\n",
       "AAACAAACAAAAAAEAAAQAAAAAAgAAAQAAAAABAAACAAAAAAEAAAMAAAAAAQAAAQAAAAADAAACAAAA\n",
       "AAEAAAMAAAAAAQAAAQAAAAABAAADAAAAAAEAAAEAAAAAAQAABAAAAAACAAABAAAAAAEAAAUAAAAA\n",
       "AQAAAgAAAAABAAAAAAAAAAEAAAEAAAAAAQAABAAAAAACAAABAAAAAAIAAAIAAAAAAQAABAAAAAAC\n",
       "AAABAAAAAAEAAAIAAAAAAQAABQAAAAABAAACAAAAAAEAAAAAAAAAAQAAAQAAAAABAAAFAAAAAAEA\n",
       "AAIAAAAAAQAAAAAAAAABAAABAAAAAAEAAAMAAAAAAQAAAQAAAAABAAAFAAAAAAEAAAIAAAAAAQAA\n",
       "AAAAAAABAAABAAAAAAEAAAQAAAAAAgAAAQAAAAABAAAEAAAAAAIAAAEAAAAAAQAAAgAAAAABAAAF\n",
       "AAAAAAEAAAIAAAAAAQAAAAAAAAABAAABAAAAAAEAAAUAAAAAAQAAAgAAAAABAAAAAAAAAAEAAAEA\n",
       "AAAAAQAABAAAAAACAAABAAAAAAEAAAQAAAAAAgAAAQAAAAABAAAFAAAAAAEAAAIAAAAAAQAAAAAA\n",
       "AAABAAABAAAAAAEAAAUAAAAAAQAAAgAAAAABAAAAAAAAAAEAAAEAAAAAAQAABAAAAAACAAABAAAA\n",
       "AAEAAAMAAAAAAQAAAQAAAAABAAAFAAAAAAEAAAIAAAAAAQAAAAAAAAABAAABAAAAAAEAAAMAAAAA\n",
       "AQAAAQAAAAABAAAFAAAAAAEAAAIAAAAAAQAAAAAAAAABAAABAAAAAAEAAAUAAAAAAQAAAgAAAAAB\n",
       "AAAAAAAAAAEAAAEAAAAAAQAABQAAAAABAAACAAAAAAEAAAAAAAAAAQAAAQAAAAABAAAFAAAAAAEA\n",
       "AAIAAAAAAQAAAAAAAAABAAABAAAAAAEAAAQAAAAAAgAAAQAAAAABAAAEAAAAAAIAAAEAAAAAAQAA\n",
       "BQAAAAABAAACAAAAAAEAAAAAAAAAAQAAAQAAAAABAAAFAAAAAAEAAAIAAAAAAQAAAAAAAAABAAAB\n",
       "AAAAAAEAAAQAAAAAAgAAAQAAAAABAAAFAAAAAAEAAAIAAAAAAQAAAAAAAAABAAABAAAAAAEAAAUA\n",
       "AAAAAQAAAgAAAAABAAAAAAAAAAEAAAEAAAAAAQAABQAAAAABAAACAAAAAAEAAAAAAAAAAQAAAQAA\n",
       "AAABAAAFAAAAAAEAAAIAAAAAAQAAAAAAAAABAAABAAAAAAEAAAUAAAAAAQAAAgAAAAABAAAAAAAA\n",
       "AAEAAAEAAAAAAQAABQAAAAABAAACAAAAAAEAAAAAAAAAAQAAAQAAAAABAAADAAAAAAEAAAEAAAAA\n",
       "AQAAAwAAAAABAAABAAAAAAEAAAUAAAAAAQAAAgAAAAABAAAAAAAAAAEAAAEAAAAAAQAABQAAAAAB\n",
       "AAACAAAAAAEAAAAAAAAAAQAAAQAAAAABAAAFAAAAAAEAAAIAAAAAAQAAAAAAAAABAAABAAAAAAEA\n",
       "AAMAAAAAAQAAAQAAAAABAAAFAAAAAAEAAAIAAAAAAQAAAAAAAAABAAABAAAAAAEAAAUAAAAAAQAA\n",
       "AgAAAAABAAAAAAAAAAEAAAEAAAAAAQAABQAAAAABAAACAAAAAAEAAAAAAAAAAQAAAQAAAAABAAAF\n",
       "AAAAAAEAAAIAAAAAAQAAAAAAAAABAAABAAAAAAEAAAUAAAAAAQAAAgAAAAABAAAAAAAAAAEAAAEA\n",
       "AAAAAQAABQAAAAABAAACAAAAAAEAAAAAAAAAAQAAAQAAAAABAAAFAAAAAAEAAAIAAAAAAQAAAAAA\n",
       "AAABAAABAAAAAAEAAAIAAAAAAQAABQAAAAABAAACAAAAAAEAAAAAAAAAAQAAAQAAAAABAAACAAAA\n",
       "AAEAAAMAAAAAAQAAAQAAAAABAAACAAAAAAEAAAQAAAAAAgAAAQAAAAABAAACAAAAAAEAAAQAAAAA\n",
       "AgAAAQAAAAABAAADAAAAAAEAAAEAAAAAAQAAAgAAAAABAAAEAAAAAAIAAAEAAAAAAQAABQAAAAAB\n",
       "AAACAAAAAAEAAAAAAAAAAQAAAQAAAAACAAACAAAAAAEAAAUAAAAAAQAAAgAAAAABAAAAAAAAAAEA\n",
       "AAEAAAAAAQAABQAAAAABAAACAAAAAAEAAAAAAAAAAQAAAQAAAAABAAAFAAAAAAEAAAIAAAAAAQAA\n",
       "AAAAAAABAAABAAAAAAEAAAUAAAAAAQAAAgAAAAABAAAAAAAAAAEAAAEAAAAAAQAABQAAAAABAAAC\n",
       "AAAAAAEAAAAAAAAAAQAAAQAAAAABAAAFAAAAAAEAAAIAAAAAAQAAAAAAAAABAAABAAAAAAEAAAMA\n",
       "AAAAAQAAAQAAAAABAAAFAAAAAAEAAAIAAAAAAQAAAAAAAAABAAABAAAAAAEAAAMAAAAAAQAAAQAA\n",
       "AAABAAADAAAAAAEAAAEAAAAAAgAAAgAAAAABAAAEAAAAAAIAAAEAAAAAAQAAAwAAAAABAAABAAAA\n",
       "AAEAAAIAAAAAAQAABQAAAAABAAACAAAAAAEAAAAAAAAAAQAAAQAAAAACAAACAAAAAAEAAAMAAAAA\n",
       "AQAAAQAAAAABAAADAAAAAAEAAAEAAAAAAQAABAAAAAACAAABAAAAABxzdHNjAAAAAAAAAAEAAAAB\n",
       "AAAC0AAAAAEAAAtUc3RzegAAAAAAAAAAAAAC0AAADgoAAAJSAAAAjQAAAPsAAAEAAAABMQAAARkA\n",
       "AADnAAABIQAAAP4AAAD2AAABdgAAAHcAAADpAAABdAAAAIMAAAEUAAABAQAAAVQAAAB7AAABLAAA\n",
       "ARsAAAD0AAABCAAAAPkAAAD5AAAB3gAAAJUAAABdAAAAMgAAAYUAAAB7AAAARgAAADQAAADMAAAB\n",
       "QAAAAFIAAAAsAAAAIQAAATEAAABQAAAALAAAADAAAADRAAAAMwAAAP4AAAA/AAAAJAAAACUAAAEP\n",
       "AAAAMQAAADEAAAB/AAAAlQAAAMsAAAEAAAAAPQAAACUAAAAnAAABNQAAAEUAAAAtAAAAJAAAAQ8A\n",
       "AABIAAAALwAAAC8AAADtAAAARQAAADAAAAENAAAAUgAAADUAAAA9AAAA+gAAADoAAACnAAAA+gAA\n",
       "AGAAAAA2AAAAKwAAARIAAABYAAAANwAAADUAAADHAAABKAAAAH4AAABCAAAANwAAAMYAAAC6AAAA\n",
       "3wAAAFwAAABIAAAA2AAAALkAAADiAAABFgAAAEsAAADdAAAAwQAAAToAAABQAAAAMgAAARMAAABB\n",
       "AAAAOwAAAPcAAAAyAAABBgAAAD8AAAA6AAABJQAAADgAAAA0AAAAigAAAL4AAAChAAAAuwAAADwA\n",
       "AAAfAAABFQAAAEUAAAAnAAAAMgAAAPwAAAA3AAAAMwAAASQAAAA5AAAAIwAAAC4AAAEXAAAATgAA\n",
       "ACcAAAAmAAABIwAAAFMAAAAyAAAAJwAAATAAAABVAAAALQAAADIAAAEmAAAAVgAAADYAAAAwAAAB\n",
       "BQAAAEsAAAAxAAABNAAAAFoAAAA3AAAAPgAAAScAAABZAAAANwAAADoAAAEdAAAAVAAAADYAAAA5\n",
       "AAABAwAAAEoAAAAyAAAAOAAAAVcAAABdAAAASAAAADoAAADWAAAAQAAAAJoAAAC6AAABRgAAAF8A\n",
       "AABHAAAALwAAASEAAABKAAAAMwAAADgAAAE/AAAARwAAACwAAAAsAAABAQAAADwAAAAoAAABDwAA\n",
       "AD8AAAA5AAAAMAAAAScAAABLAAAANgAAACYAAAD1AAAASAAAADYAAAEYAAAARAAAACkAAAAtAAAA\n",
       "0AAAATEAAABRAAAALQAAADAAAAFGAAAASQAAACsAAAA0AAABEwAAAFEAAAAsAAAAPQAAAQMAAABP\n",
       "AAAAJgAAACgAAADhAAAAMAAAATMAAABHAAAAKgAAACAAAAD6AAAAPgAAACQAAAAkAAABFQAAAD4A\n",
       "AAAhAAAAJwAAANIAAABEAAAAIQAAACIAAAC1AAAALwAAACIAAADZAAAAOgAAACMAAAAcAAAA0gAA\n",
       "ACMAAA1tAAABSQAAAQYAAABLAAAAMQAAADQAAADfAAAAXwAAADMAAAA3AAAAtQAAAOEAAABeAAAA\n",
       "PQAAADYAAAC3AAAAVAAAADYAAAAtAAAA1QAAAEMAAAAwAAAAHwAAAPIAAABPAAAALQAAACwAAACL\n",
       "AAAAtQAAADEAAAAqAAAAtAAAABoAAADOAAAALgAAABoAAAB+AAAAfwAAAI8AAACRAAAAGAAAAGwA\n",
       "AACZAAAAGwAAAG8AAAC8AAAAMAAAABoAAAAaAAAArAAAACAAAAAbAAAAZgAAAG4AAAClAAAAKwAA\n",
       "AC8AAABlAAAAfAAAAJgAAAAvAAAAHwAAALoAAAAzAAAAHwAAACAAAADnAAAAOgAAACoAAAAgAAAA\n",
       "1AAAAEoAAAAeAAAALgAAAM8AAAAzAAAALQAAAHcAAADJAAAANgAAACwAAADNAAAANAAAACsAAACy\n",
       "AAAAOwAAACwAAAC5AAAALgAAAJoAAAAuAAAAegAAAHgAAADyAAAAPQAAADwAAAChAAAAfAAAAM4A\n",
       "AAA0AAAA3QAAADwAAADpAAAATQAAALYAAAC5AAAArQAAAPkAAABPAAAA1QAAAPEAAAC0AAAAzgAA\n",
       "AOYAAADsAAAA5QAAAOQAAADiAAAA8gAAAMgAAADbAAAAzAAAAM0AAADUAAAA7AAAAO8AAAD3AAAA\n",
       "7QAAAPEAAAD1AAAA8QAAAN0AAADHAAAA4wAAAOcAAADeAAABKQAAADsAAAFdAAAAYgAAADUAAAAw\n",
       "AAABQQAAAGAAAAAvAAAANwAAAN8AAAAlAAABLQAAAFYAAAAxAAAAJQAAARkAAABQAAAAKAAAADQA\n",
       "AACKAAAA4wAAADgAAAAtAAAA0AAAADYAAAC2AAAAoQAAAMQAAADNAAAAOwAAADAAAADaAAAAMQAA\n",
       "ARAAAABWAAAAKgAAACgAAAERAAAAUAAAADcAAAApAAABBgAAAF4AAAArAAAAOgAAAPsAAAA2AAAA\n",
       "0QAAANYAAABXAAAAOgAAARAAAABjAAAAMAAAADYAAADGAAAANgAAALkAAAEOAAAAfQAAAEQAAAA/\n",
       "AAAA0gAAANgAAAEMAAAATQAAAEUAAADhAAAA+gAAAD0AAADHAAAAwwAAAO8AAAEcAAAAOwAAAQcA\n",
       "AAAsAAABKQAAAEUAAAAvAAABKwAAAGAAAAA8AAAAMwAAARUAAAA/AAAAKQAAALcAAACnAAAAtgAA\n",
       "ADsAAAAmAAAAqQAAAP0AAABFAAAAJQAAACgAAAE3AAAARwAAADcAAAAmAAAA7AAAADMAAAEKAAAA\n",
       "OwAAADAAAAAoAAABGQAAAEAAAAA2AAAAfgAAADQAAAAyAAAOAwAAAcMAAAB7AAAAWAAAAE8AAAEL\n",
       "AAAAcwAAAE4AAABIAAABHgAAAGUAAABCAAABBwAAAGgAAABOAAABRAAAAG4AAABQAAAASwAAAUMA\n",
       "AABoAAAAUQAAAFAAAAEHAAAAWwAAAEYAAADfAAAASAAAAUkAAABrAAAAWQAAAFIAAADhAAAATgAA\n",
       "ASgAAABvAAAASQAAAE4AAAEvAAAAYAAAAEwAAABPAAABWwAAAGoAAABKAAAASAAAAVQAAABRAAAA\n",
       "UQAAADwAAAElAAAAQwAAAEEAAAEWAAAATwAAAC8AAADvAAAATwAAAC4AAAAnAAABRQAAAEgAAAAy\n",
       "AAAAOwAAARsAAAA/AAAAMQAAATsAAABUAAAAOQAAACsAAAErAAAASgAAADMAAAA1AAABBgAAAFEA\n",
       "AAAyAAAALgAAAQ8AAABVAAAAJQAAACgAAAEgAAAATQAAADUAAAAsAAAA5gAAADwAAAAsAAAALwAA\n",
       "ANYAAAAnAAAA1wAAAB4AAAERAAAAOAAAACIAAAAhAAAA5QAAAEkAAAAqAAAAIgAAANwAAAA2AAAA\n",
       "HgAAABkAAADZAAAAIgAAANEAAABBAAAAJAAAACUAAAFEAAAARgAAACQAAAAeAAABEgAAAEMAAAAu\n",
       "AAAANQAAAOcAAABhAAAAMwAAADMAAADiAAAAUwAAADkAAAA0AAAA3QAAAEIAAAA1AAAAHwAAAOkA\n",
       "AABUAAAAPQAAACYAAACkAAAA9gAAADwAAAAoAAAAIwAAAGwAAAC2AAAAGwAAAHUAAADcAAAAKQAA\n",
       "ACcAAAB+AAAAqgAAACUAAAAbAAAAfAAAABoAAACBAAAAmwAAAB8AAAAaAAAAsAAAACUAAAAgAAAA\n",
       "GwAAAGIAAAB7AAAAxgAAAC0AAAAfAAAAKwAAAKYAAAAoAAAAIQAAACAAAADGAAAAMQAAACUAAAAf\n",
       "AAAA0wAAAEEAAAAnAAAAGgAAAOoAAABBAAAAKQAAACoAAADhAAAAQgAAAB0AAAAkAAAAtwAAAC4A\n",
       "AAEMAAAAPwAAACUAAAAqAAAAlAAAACkAAACdAAAAJAAAAHkAAACDAAAAtgAAADcAAAAvAAAAqAAA\n",
       "ADMAAACKAAABGwAAAGEAAAA2AAAARAAAAJAAAAClAAAA3AAAAE4AAADNAAAASwAAAOsAAABkAAAA\n",
       "UwAAABRzdGNvAAAAAAAAAAEAAAAsAAAAYnVkdGEAAABabWV0YQAAAAAAAAAhaGRscgAAAAAAAAAA\n",
       "bWRpcmFwcGwAAAAAAAAAAAAAAAAtaWxzdAAAACWpdG9vAAAAHWRhdGEAAAABAAAAAExhdmY1OC4y\n",
       "OS4xMDA=\n",
       "\">\n",
       "  Your browser does not support the video tag.\n",
       "</video>"
      ],
      "text/plain": [
       "<IPython.core.display.HTML object>"
      ]
     },
     "execution_count": 65,
     "metadata": {},
     "output_type": "execute_result"
    }
   ],
   "source": [
    "HTML(anim.to_html5_video())"
   ]
  },
  {
   "cell_type": "markdown",
   "metadata": {
    "slideshow": {
     "slide_type": "fragment"
    }
   },
   "source": [
    "**Observação:**\n",
    "$$\\theta_3 = tan^{-1} \\left( \\dfrac{B_y - A_y}{B_x - A_x} \\right) $$\n",
    "$$\\theta_4 = tan^{-1} \\left( \\dfrac{B_y}{B_x - d} \\right)$$"
   ]
  },
  {
   "cell_type": "markdown",
   "metadata": {
    "slideshow": {
     "slide_type": "subslide"
    }
   },
   "source": [
    "### Representação do laço de vetores nos mecanismos\n",
    "Essa aproximação tem algumas vantagens na síntese analítica de mecanismos. Também possui vantagens na análise de velocidades e acelerações dos mecanismos. <br>\n",
    "Esse laço termina em si mesmo fazendo com que a somatória dos vetores ao seu redor seja zero. Os comprimentos dos vetores são os comprimentos dos elos, todos conhecidos. A posição atual do mecanismo é definida pelo ângulo de entrada $\\theta_2$ por ser um mecanismo com 1 GDL. Queremos obter os ângulos desconehcidos $\\theta_3$ e $\\theta_4$."
   ]
  },
  {
   "cell_type": "code",
   "execution_count": 66,
   "metadata": {
    "slideshow": {
     "slide_type": "fragment"
    }
   },
   "outputs": [
    {
     "data": {
      "image/svg+xml": [
       "<svg xmlns:dc=\"http://purl.org/dc/elements/1.1/\" xmlns:cc=\"http://creativecommons.org/ns#\" xmlns:rdf=\"http://www.w3.org/1999/02/22-rdf-syntax-ns#\" xmlns:svg=\"http://www.w3.org/2000/svg\" xmlns=\"http://www.w3.org/2000/svg\" xmlns:sodipodi=\"http://sodipodi.sourceforge.net/DTD/sodipodi-0.dtd\" xmlns:inkscape=\"http://www.inkscape.org/namespaces/inkscape\" width=\"214.58945mm\" height=\"110.67824mm\" viewBox=\"0 0 214.58945 110.67824\" version=\"1.1\" id=\"svg8\" inkscape:version=\"1.0.1 (3bc2e813f5, 2020-09-07)\" sodipodi:docname=\"figs4-6.svg\">\n",
       "  <defs id=\"defs2\">\n",
       "    <marker style=\"overflow:visible;\" id=\"Arrow1Lend\" refX=\"0.0\" refY=\"0.0\" orient=\"auto\" inkscape:stockid=\"Arrow1Lend\" inkscape:isstock=\"true\">\n",
       "      <path transform=\"scale(0.8) rotate(180) translate(12.5,0)\" style=\"fill-rule:evenodd;stroke:#000000;stroke-width:1pt;stroke-opacity:1;fill:#000000;fill-opacity:1\" d=\"M 0.0,0.0 L 5.0,-5.0 L -12.5,0.0 L 5.0,5.0 L 0.0,0.0 z \" id=\"path1047\"/>\n",
       "    </marker>\n",
       "    <marker style=\"overflow:visible;\" id=\"marker6515\" refX=\"0.0\" refY=\"0.0\" orient=\"auto\" inkscape:stockid=\"Arrow1Lend\" inkscape:isstock=\"true\">\n",
       "      <path transform=\"scale(0.8) rotate(180) translate(12.5,0)\" style=\"fill-rule:evenodd;stroke:#000000;stroke-width:1pt;stroke-opacity:1;fill:#000000;fill-opacity:1\" d=\"M 0.0,0.0 L 5.0,-5.0 L -12.5,0.0 L 5.0,5.0 L 0.0,0.0 z \" id=\"path939\"/>\n",
       "    </marker>\n",
       "    <marker style=\"overflow:visible\" id=\"marker5158\" refX=\"0\" refY=\"0\" orient=\"auto\" inkscape:stockid=\"Arrow1Lend\" inkscape:isstock=\"true\">\n",
       "      <path transform=\"matrix(-0.8,0,0,-0.8,-10,0)\" style=\"fill:#ff0000;fill-opacity:1;fill-rule:evenodd;stroke:#ff0000;stroke-width:1pt;stroke-opacity:1\" d=\"M 0,0 5,-5 -12.5,0 5,5 Z\" id=\"path5156\"/>\n",
       "    </marker>\n",
       "    <marker style=\"overflow:visible\" id=\"marker1962\" refX=\"0\" refY=\"0\" orient=\"auto\" inkscape:stockid=\"Arrow1Lend\" inkscape:isstock=\"true\" inkscape:collect=\"always\">\n",
       "      <path transform=\"matrix(-0.8,0,0,-0.8,-10,0)\" style=\"fill:#ff0000;fill-opacity:1;fill-rule:evenodd;stroke:#ff0000;stroke-width:1pt;stroke-opacity:1\" d=\"M 0,0 5,-5 -12.5,0 5,5 Z\" id=\"path1960\"/>\n",
       "    </marker>\n",
       "    <marker style=\"overflow:visible\" id=\"marker1824\" refX=\"0\" refY=\"0\" orient=\"auto\" inkscape:stockid=\"Arrow1Lend\" inkscape:isstock=\"true\" inkscape:collect=\"always\">\n",
       "      <path transform=\"matrix(-0.8,0,0,-0.8,-10,0)\" style=\"fill:#ff0000;fill-opacity:1;fill-rule:evenodd;stroke:#ff0000;stroke-width:1pt;stroke-opacity:1\" d=\"M 0,0 5,-5 -12.5,0 5,5 Z\" id=\"path1822\"/>\n",
       "    </marker>\n",
       "    <marker style=\"overflow:visible\" id=\"marker1764\" refX=\"0\" refY=\"0\" orient=\"auto\" inkscape:stockid=\"Arrow1Lend\" inkscape:isstock=\"true\" inkscape:collect=\"always\">\n",
       "      <path transform=\"matrix(-0.8,0,0,-0.8,-10,0)\" style=\"fill:#ff0000;fill-opacity:1;fill-rule:evenodd;stroke:#ff0000;stroke-width:1pt;stroke-opacity:1\" d=\"M 0,0 5,-5 -12.5,0 5,5 Z\" id=\"path1762\"/>\n",
       "    </marker>\n",
       "    <marker style=\"overflow:visible\" id=\"marker1421\" refX=\"0\" refY=\"0\" orient=\"auto\" inkscape:stockid=\"Arrow1Lend\" inkscape:isstock=\"true\" inkscape:collect=\"always\">\n",
       "      <path transform=\"matrix(-0.8,0,0,-0.8,-10,0)\" style=\"fill:#000000;fill-opacity:1;fill-rule:evenodd;stroke:#000000;stroke-width:1pt;stroke-opacity:1\" d=\"M 0,0 5,-5 -12.5,0 5,5 Z\" id=\"path1419\"/>\n",
       "    </marker>\n",
       "    <marker style=\"overflow:visible\" id=\"marker1375\" refX=\"0\" refY=\"0\" orient=\"auto\" inkscape:stockid=\"Arrow1Lend\" inkscape:isstock=\"true\" inkscape:collect=\"always\">\n",
       "      <path transform=\"matrix(-0.8,0,0,-0.8,-10,0)\" style=\"fill:#000000;fill-opacity:1;fill-rule:evenodd;stroke:#000000;stroke-width:1pt;stroke-opacity:1\" d=\"M 0,0 5,-5 -12.5,0 5,5 Z\" id=\"path1373\"/>\n",
       "    </marker>\n",
       "    <marker style=\"overflow:visible\" id=\"marker1315\" refX=\"0\" refY=\"0\" orient=\"auto\" inkscape:stockid=\"Arrow1Lend\" inkscape:isstock=\"true\" inkscape:collect=\"always\">\n",
       "      <path transform=\"matrix(-0.8,0,0,-0.8,-10,0)\" style=\"fill:#000000;fill-opacity:1;fill-rule:evenodd;stroke:#000000;stroke-width:1pt;stroke-opacity:1\" d=\"M 0,0 5,-5 -12.5,0 5,5 Z\" id=\"path1313\"/>\n",
       "    </marker>\n",
       "    <marker style=\"overflow:visible\" id=\"Arrow1Lstart\" refX=\"0\" refY=\"0\" orient=\"auto\" inkscape:stockid=\"Arrow1Lstart\" inkscape:isstock=\"true\">\n",
       "      <path transform=\"matrix(0.8,0,0,0.8,10,0)\" style=\"fill:#ff0000;fill-opacity:1;fill-rule:evenodd;stroke:#ff0000;stroke-width:1pt;stroke-opacity:1\" d=\"M 0,0 5,-5 -12.5,0 5,5 Z\" id=\"path987\"/>\n",
       "    </marker>\n",
       "  </defs>\n",
       "  <sodipodi:namedview id=\"base\" pagecolor=\"#ffffff\" bordercolor=\"#666666\" borderopacity=\"1.0\" inkscape:pageopacity=\"0.0\" inkscape:pageshadow=\"2\" inkscape:zoom=\"1.4\" inkscape:cx=\"501.50539\" inkscape:cy=\"247.12536\" inkscape:document-units=\"mm\" inkscape:current-layer=\"layer7\" inkscape:document-rotation=\"0\" showgrid=\"false\" inkscape:snap-object-midpoints=\"false\" inkscape:snap-smooth-nodes=\"true\" inkscape:window-width=\"1920\" inkscape:window-height=\"1017\" inkscape:window-x=\"-8\" inkscape:window-y=\"-8\" inkscape:window-maximized=\"1\" inkscape:snap-nodes=\"false\"/>\n",
       "  <metadata id=\"metadata5\">\n",
       "    <rdf:RDF>\n",
       "      <cc:Work rdf:about=\"\">\n",
       "        <dc:format>image/svg+xml</dc:format>\n",
       "        <dc:type rdf:resource=\"http://purl.org/dc/dcmitype/StillImage\"/>\n",
       "        <dc:title/>\n",
       "      </cc:Work>\n",
       "    </rdf:RDF>\n",
       "  </metadata>\n",
       "  <g inkscape:groupmode=\"layer\" id=\"layer7\" inkscape:label=\"Layer 2\">\n",
       "    <rect style=\"fill:#ffffff;stroke:#ffffff;stroke-width:0.865\" id=\"rect5268\" width=\"215.44643\" height=\"110.936\" x=\"-0.1889881\" y=\"0.1889881\"/>\n",
       "  </g>\n",
       "  <g inkscape:label=\"Layer 1\" inkscape:groupmode=\"layer\" id=\"layer1\" transform=\"translate(-14.696059,-50.039333)\">\n",
       "    <path id=\"path839\" style=\"fill:#ffffff;stroke:#000000;stroke-width:0.699999;stroke-linejoin:bevel;stroke-miterlimit:4;stroke-dasharray:none\" d=\"m 40.314083,127.77587 a 7.5049962,7.4894698 0 0 0 -7.490705,7.48947 7.5049962,7.4894698 0 0 0 0,0.0143 v 13.0923 h 15.009993 v -13.10657 a 7.5049962,7.4894698 0 0 0 -7.504997,-7.48947 7.5049962,7.4894698 0 0 0 -0.0143,0 z\"/>\n",
       "    <path style=\"fill:none;stroke:#000000;stroke-width:0.7;stroke-linecap:butt;stroke-linejoin:miter;stroke-miterlimit:4;stroke-dasharray:none;stroke-opacity:1\" d=\"M 14.999011,148.37191 H 69.410235\" id=\"path850\"/>\n",
       "    <path style=\"fill:none;stroke:#000000;stroke-width:0.7;stroke-linecap:butt;stroke-linejoin:miter;stroke-miterlimit:4;stroke-dasharray:none;stroke-opacity:1\" d=\"m 14.999011,148.37191 7.041144,12.17039\" id=\"path852\"/>\n",
       "    <path style=\"fill:none;stroke:#000000;stroke-width:0.7;stroke-linecap:butt;stroke-linejoin:miter;stroke-miterlimit:4;stroke-dasharray:none;stroke-opacity:1\" d=\"m 27.382263,148.37191 7.041144,12.17039\" id=\"path854\"/>\n",
       "    <path style=\"fill:none;stroke:#000000;stroke-width:0.7;stroke-linecap:butt;stroke-linejoin:miter;stroke-miterlimit:4;stroke-dasharray:none;stroke-opacity:1\" d=\"m 39.390265,148.37191 7.041144,12.17039\" id=\"path856\"/>\n",
       "    <path style=\"fill:none;stroke:#000000;stroke-width:0.7;stroke-linecap:butt;stroke-linejoin:miter;stroke-miterlimit:4;stroke-dasharray:none;stroke-opacity:1\" d=\"m 51.773517,148.37191 7.041144,12.17039\" id=\"path858\"/>\n",
       "    <path style=\"fill:none;stroke:#000000;stroke-width:0.7;stroke-linecap:butt;stroke-linejoin:miter;stroke-miterlimit:4;stroke-dasharray:none;stroke-opacity:1\" d=\"m 64.156769,148.37191 7.04115,12.17039\" id=\"path860\"/>\n",
       "    <ellipse style=\"fill:#ffffff;stroke:#000000;stroke-width:0.7;stroke-linejoin:bevel\" id=\"path1592\" cx=\"40.369549\" cy=\"135.1759\" rx=\"2.6233726\" ry=\"2.6179454\"/>\n",
       "    <g inkscape:label=\"Layer 1\" id=\"g967\" transform=\"matrix(0.70913352,0,0,0.70766648,139.80942,37.902228)\" style=\"stroke-width:1.41163\">\n",
       "      <path id=\"path951\" style=\"fill:#ffffff;stroke:#000000;stroke-width:3.73471;stroke-linejoin:bevel;stroke-miterlimit:4;stroke-dasharray:none\" d=\"M 219.92383,480 A 39.999999,39.999999 0 0 0 180,520 a 39.999999,39.999999 0 0 0 0,0.0762 V 590 h 80 v -70 a 39.999999,39.999999 0 0 0 -40,-40 39.999999,39.999999 0 0 0 -0.0762,0 z\" transform=\"scale(0.26458333)\"/>\n",
       "      <path style=\"fill:none;stroke:#000000;stroke-width:0.988143;stroke-linecap:butt;stroke-linejoin:miter;stroke-miterlimit:4;stroke-dasharray:none;stroke-opacity:1\" d=\"M 22.489583,156.10416 H 99.218749\" id=\"path953\"/>\n",
       "      <path style=\"fill:none;stroke:#000000;stroke-width:0.988143;stroke-linecap:butt;stroke-linejoin:miter;stroke-miterlimit:4;stroke-dasharray:none;stroke-opacity:1\" d=\"m 22.489583,156.10416 9.929222,17.19792\" id=\"path955\"/>\n",
       "      <path style=\"fill:none;stroke:#000000;stroke-width:0.988143;stroke-linecap:butt;stroke-linejoin:miter;stroke-miterlimit:4;stroke-dasharray:none;stroke-opacity:1\" d=\"m 39.952094,156.10416 9.929222,17.19792\" id=\"path957\"/>\n",
       "      <path style=\"fill:none;stroke:#000000;stroke-width:0.988143;stroke-linecap:butt;stroke-linejoin:miter;stroke-miterlimit:4;stroke-dasharray:none;stroke-opacity:1\" d=\"m 56.885438,156.10416 9.929222,17.19792\" id=\"path959\"/>\n",
       "      <path style=\"fill:none;stroke:#000000;stroke-width:0.988143;stroke-linecap:butt;stroke-linejoin:miter;stroke-miterlimit:4;stroke-dasharray:none;stroke-opacity:1\" d=\"m 74.347949,156.10416 9.929222,17.19792\" id=\"path961\"/>\n",
       "      <path style=\"fill:none;stroke:#000000;stroke-width:0.988143;stroke-linecap:butt;stroke-linejoin:miter;stroke-miterlimit:4;stroke-dasharray:none;stroke-opacity:1\" d=\"m 91.81046,156.10416 9.92923,17.19792\" id=\"path963\"/>\n",
       "      <circle style=\"fill:#ffffff;stroke:#000000;stroke-width:0.988143;stroke-linejoin:bevel\" id=\"circle965\" cx=\"58.266396\" cy=\"137.45695\" r=\"3.6994057\"/>\n",
       "    </g>\n",
       "    <ellipse style=\"fill:#ffffff;stroke:#000000;stroke-width:0.7;stroke-linejoin:bevel\" id=\"ellipse979\" cx=\"54.782269\" cy=\"101.64828\" rx=\"2.6233726\" ry=\"2.6179454\"/>\n",
       "    <ellipse style=\"fill:#ffffff;stroke:#000000;stroke-width:0.7;stroke-linejoin:bevel\" id=\"ellipse981\" cx=\"158.56105\" cy=\"77.746864\" rx=\"2.6233726\" ry=\"2.6179454\"/>\n",
       "    <path style=\"fill:none;stroke:#000000;stroke-width:0.264583px;stroke-linecap:butt;stroke-linejoin:miter;stroke-opacity:1;marker-end:url(#marker1315)\" d=\"M 40.369548,135.1759 V 51.078577\" id=\"path983\"/>\n",
       "    <path style=\"fill:none;stroke:#000000;stroke-width:0.265;stroke-linecap:butt;stroke-linejoin:miter;stroke-opacity:1;marker-end:url(#marker6515);stroke-miterlimit:4;stroke-dasharray:none\" d=\"M 40.369548,135.1759 H 228.62076\" id=\"path985\"/>\n",
       "    <text xml:space=\"preserve\" style=\"font-size:7.7611px;line-height:1.25;font-family:sans-serif;-inkscape-font-specification:sans-serif;stroke-width:0.264583\" x=\"35.393242\" y=\"144.05951\" id=\"text1349\"><tspan sodipodi:role=\"line\" id=\"tspan1347\" x=\"35.393242\" y=\"144.05951\" style=\"stroke-width:0.264583\">O<tspan style=\"font-size:65%;baseline-shift:sub\" id=\"tspan1357\">2</tspan></tspan></text>\n",
       "    <text xml:space=\"preserve\" style=\"font-size:7.7611px;line-height:1.25;font-family:sans-serif;-inkscape-font-specification:sans-serif;stroke-width:0.264583\" x=\"176.83255\" y=\"144.19574\" id=\"text1353\"><tspan sodipodi:role=\"line\" id=\"tspan1351\" x=\"176.83255\" y=\"144.19574\" style=\"stroke-width:0.264583\">O<tspan style=\"font-size:65%;baseline-shift:sub\" id=\"tspan1355\">4</tspan></tspan></text>\n",
       "    <path style=\"fill:none;stroke:#000000;stroke-width:0.264583;stroke-linecap:butt;stroke-linejoin:miter;stroke-miterlimit:4;stroke-dasharray:2.11666, 2.11666;stroke-dashoffset:0;stroke-opacity:1\" d=\"M 54.782267,101.64828 H 122.30559\" id=\"path1361\"/>\n",
       "    <path style=\"fill:none;stroke:#000000;stroke-width:0.264583px;stroke-linecap:butt;stroke-linejoin:miter;stroke-opacity:1;marker-end:url(#marker1375)\" d=\"m 92.906508,101.20302 c 1.255311,-2.244931 1.505398,-4.887335 -0.423056,-8.391146\" id=\"path1363\" sodipodi:nodetypes=\"cc\"/>\n",
       "    <path style=\"fill:none;stroke:#000000;stroke-width:0.264583px;stroke-linecap:butt;stroke-linejoin:miter;stroke-opacity:1;marker-end:url(#marker1421)\" d=\"m 204.02271,135.34302 c -4.19232,-18.1698 -15.68896,-26.44711 -33.03527,-26.802\" id=\"path1365\" sodipodi:nodetypes=\"cc\"/>\n",
       "    <text xml:space=\"preserve\" style=\"font-size:7.7611px;line-height:1.25;font-family:sans-serif;-inkscape-font-specification:sans-serif;stroke-width:0.264583\" x=\"49.927883\" y=\"95.975571\" id=\"text1491\"><tspan sodipodi:role=\"line\" id=\"tspan1489\" x=\"49.927883\" y=\"95.975571\" style=\"stroke-width:0.264583\">A</tspan></text>\n",
       "    <text xml:space=\"preserve\" style=\"font-size:7.7611px;line-height:1.25;font-family:sans-serif;-inkscape-font-specification:sans-serif;stroke-width:0.264583\" x=\"161.36201\" y=\"74.261124\" id=\"text1495\"><tspan sodipodi:role=\"line\" id=\"tspan1493\" x=\"161.36201\" y=\"74.261124\" style=\"stroke-width:0.264583\">B</tspan></text>\n",
       "    <path style=\"fill:none;stroke:#000000;stroke-width:0.265;stroke-linecap:butt;stroke-linejoin:miter;stroke-opacity:1;stroke-miterlimit:4;stroke-dasharray:none;marker-end:url(#Arrow1Lend)\" d=\"m 56.204278,135.14129 c 2.077105,-8.53864 -2.44765,-13.86104 -8.415155,-18.48058\" id=\"path1497\" sodipodi:nodetypes=\"cc\"/>\n",
       "    <g id=\"g1505\" style=\"stroke-width:0.5;stroke-miterlimit:4;stroke-dasharray:none\" transform=\"translate(-8.206898,52.364352)\">\n",
       "      <ellipse style=\"fill:#ffffff;stroke:#000000;stroke-width:0.5;stroke-linejoin:bevel;stroke-miterlimit:4;stroke-dasharray:none;stroke-dashoffset:0\" id=\"path1499\" cx=\"68.891159\" cy=\"69.23098\" rx=\"2.5376184\" ry=\"3.6255431\"/>\n",
       "      <path style=\"fill:none;stroke:#000000;stroke-width:0.5;stroke-linecap:butt;stroke-linejoin:miter;stroke-miterlimit:4;stroke-dasharray:none;stroke-opacity:1\" d=\"m 66.353541,69.23098 h 5.075235\" id=\"path1501\"/>\n",
       "    </g>\n",
       "    <g id=\"g1511\" style=\"stroke-width:0.5;stroke-miterlimit:4;stroke-dasharray:none\" transform=\"translate(130.65558,45.023542)\">\n",
       "      <ellipse style=\"fill:#ffffff;stroke:#000000;stroke-width:0.5;stroke-linejoin:bevel;stroke-miterlimit:4;stroke-dasharray:none;stroke-dashoffset:0\" id=\"ellipse1507\" cx=\"68.891159\" cy=\"69.23098\" rx=\"2.5376184\" ry=\"3.6255431\"/>\n",
       "      <path style=\"fill:none;stroke:#000000;stroke-width:0.5;stroke-linecap:butt;stroke-linejoin:miter;stroke-miterlimit:4;stroke-dasharray:none;stroke-opacity:1\" d=\"m 66.353541,69.23098 h 5.075235\" id=\"path1509\"/>\n",
       "    </g>\n",
       "    <g id=\"g1517\" style=\"stroke-width:0.5;stroke-miterlimit:4;stroke-dasharray:none\" transform=\"translate(31.43961,26.845584)\">\n",
       "      <ellipse style=\"fill:#ffffff;stroke:#000000;stroke-width:0.5;stroke-linejoin:bevel;stroke-miterlimit:4;stroke-dasharray:none;stroke-dashoffset:0\" id=\"ellipse1513\" cx=\"68.891159\" cy=\"69.23098\" rx=\"2.5376184\" ry=\"3.6255431\"/>\n",
       "      <path style=\"fill:none;stroke:#000000;stroke-width:0.5;stroke-linecap:butt;stroke-linejoin:miter;stroke-miterlimit:4;stroke-dasharray:none;stroke-opacity:1\" d=\"m 66.353541,69.23098 h 5.075235\" id=\"path1515\"/>\n",
       "    </g>\n",
       "    <text xml:space=\"preserve\" style=\"font-size:5.40149px;line-height:1.25;font-family:sans-serif;-inkscape-font-specification:sans-serif;stroke-width:0.264583\" x=\"63.598255\" y=\"127.6256\" id=\"text1521\"><tspan sodipodi:role=\"line\" id=\"tspan1519\" x=\"63.598255\" y=\"127.6256\" style=\"stroke-width:0.264583\">2</tspan></text>\n",
       "    <text xml:space=\"preserve\" style=\"font-size:5.40149px;line-height:1.25;font-family:sans-serif;-inkscape-font-specification:sans-serif;stroke-width:0.264583\" x=\"104.03602\" y=\"100.36676\" id=\"text1525\"><tspan sodipodi:role=\"line\" id=\"tspan1523\" x=\"104.03602\" y=\"100.36676\" style=\"stroke-width:0.264583\">3</tspan></text>\n",
       "    <text xml:space=\"preserve\" style=\"font-size:5.40149px;line-height:1.25;font-family:sans-serif;-inkscape-font-specification:sans-serif;stroke-width:0.264583\" x=\"202.49963\" y=\"120.12696\" id=\"text1529\"><tspan sodipodi:role=\"line\" id=\"tspan1527\" x=\"202.49963\" y=\"120.12696\" style=\"stroke-width:0.264583\">4</tspan></text>\n",
       "    <text xml:space=\"preserve\" style=\"font-size:7.7611px;line-height:1.25;font-family:sans-serif;-inkscape-font-specification:sans-serif;stroke-width:0.264583\" x=\"42.530609\" y=\"115.60754\" id=\"text1533\"><tspan sodipodi:role=\"line\" id=\"tspan1531\" x=\"42.530609\" y=\"115.60754\" style=\"stroke-width:0.264583\">2</tspan></text>\n",
       "    <text xml:space=\"preserve\" style=\"font-size:7.7611px;line-height:1.25;font-family:sans-serif;-inkscape-font-specification:sans-serif;stroke-width:0.264583\" x=\"99.787262\" y=\"86.235306\" id=\"text1537\"><tspan sodipodi:role=\"line\" id=\"tspan1535\" x=\"99.787262\" y=\"86.235306\" style=\"stroke-width:0.264583\">3</tspan></text>\n",
       "    <text xml:space=\"preserve\" style=\"font-size:7.7611px;line-height:1.25;font-family:sans-serif;-inkscape-font-specification:sans-serif;stroke-width:0.264583\" x=\"167.8152\" y=\"101.70832\" id=\"text1541\"><tspan sodipodi:role=\"line\" id=\"tspan1539\" x=\"167.8152\" y=\"101.70832\" style=\"stroke-width:0.264583\">4</tspan></text>\n",
       "    <text xml:space=\"preserve\" style=\"font-size:7.7611px;line-height:1.25;font-family:sans-serif;-inkscape-font-specification:sans-serif;stroke-width:0.264583\" x=\"224.21123\" y=\"144.24466\" id=\"text1545\"><tspan sodipodi:role=\"line\" id=\"tspan1543\" x=\"224.21123\" y=\"144.24466\" style=\"stroke-width:0.264583\">X</tspan></text>\n",
       "    <text xml:space=\"preserve\" style=\"font-size:7.7611px;line-height:1.25;font-family:sans-serif;-inkscape-font-specification:sans-serif;stroke-width:0.264583\" x=\"33.694336\" y=\"55.697205\" id=\"text1549\"><tspan sodipodi:role=\"line\" id=\"tspan1547\" x=\"33.694336\" y=\"55.697205\" style=\"stroke-width:0.264583\">Y</tspan></text>\n",
       "    <path style=\"fill:#ff0000;stroke:#ff0000;stroke-width:0.5;stroke-linecap:butt;stroke-linejoin:miter;stroke-opacity:1;stroke-miterlimit:4;stroke-dasharray:none;marker-end:url(#marker1764)\" d=\"M 40.63683,132.91881 53.380076,103.88287\" id=\"path1754\"/>\n",
       "    <path style=\"fill:#ff0000;stroke:#ff0000;stroke-width:0.5;stroke-linecap:butt;stroke-linejoin:miter;stroke-opacity:1;marker-end:url(#marker1824);stroke-miterlimit:4;stroke-dasharray:none\" d=\"M 57.195315,100.63326 155.89509,78.155476\" id=\"path1814\"/>\n",
       "    <path style=\"fill:#ff0000;stroke:#ff0000;stroke-width:0.5;stroke-linecap:butt;stroke-linejoin:miter;stroke-opacity:1;stroke-miterlimit:4;stroke-dasharray:none;marker-end:url(#marker5158)\" d=\"M 42.858994,135.20136 H 178.28424\" id=\"path1880\"/>\n",
       "    <path style=\"fill:#ff0000;stroke:#ff0000;stroke-width:0.5;stroke-linecap:butt;stroke-linejoin:miter;stroke-opacity:1;marker-end:url(#marker1962);stroke-miterlimit:4;stroke-dasharray:none\" d=\"M 180.81782,132.55552 159.6012,80.490898\" id=\"path1952\"/>\n",
       "    <text xml:space=\"preserve\" style=\"font-size:7.7611px;line-height:1.25;font-family:sans-serif;-inkscape-font-specification:sans-serif;stroke-width:0.264583;fill:#ff0000;\" x=\"46.783787\" y=\"124.74735\" id=\"text2566\"><tspan sodipodi:role=\"line\" id=\"tspan2564\" x=\"46.783787\" y=\"124.74735\" style=\"stroke-width:0.264583;fill:#ff0000;\">a</tspan></text>\n",
       "    <text xml:space=\"preserve\" style=\"font-size:7.7611px;line-height:1.25;font-family:sans-serif;-inkscape-font-specification:sans-serif;stroke-width:0.264583;fill:#ff0000;\" x=\"112.3205\" y=\"94.360733\" id=\"text2570\"><tspan sodipodi:role=\"line\" id=\"tspan2568\" x=\"112.3205\" y=\"94.360733\" style=\"stroke-width:0.264583;fill:#ff0000;\">b</tspan></text>\n",
       "    <text xml:space=\"preserve\" style=\"font-size:7.7611px;line-height:1.25;font-family:sans-serif;-inkscape-font-specification:sans-serif;fill:#ff0000;stroke-width:0.264583\" x=\"100.91211\" y=\"133.42999\" id=\"text2574\"><tspan sodipodi:role=\"line\" id=\"tspan2572\" x=\"100.91211\" y=\"133.42999\" style=\"fill:#ff0000;stroke-width:0.264583\">d</tspan></text>\n",
       "    <text xml:space=\"preserve\" style=\"font-size:7.7611px;line-height:1.25;font-family:sans-serif;-inkscape-font-specification:sans-serif;fill:#ff0000;stroke-width:0.264583\" x=\"163.30191\" y=\"107.71402\" id=\"text2578\"><tspan sodipodi:role=\"line\" id=\"tspan2576\" x=\"163.30191\" y=\"107.71402\" style=\"fill:#ff0000;stroke-width:0.264583\">c</tspan></text>\n",
       "  </g>\n",
       "</svg>"
      ],
      "text/plain": [
       "<IPython.core.display.SVG object>"
      ]
     },
     "execution_count": 66,
     "metadata": {},
     "output_type": "execute_result"
    }
   ],
   "source": [
    "SVG('figs4-6.svg')"
   ]
  },
  {
   "cell_type": "markdown",
   "metadata": {
    "slideshow": {
     "slide_type": "fragment"
    }
   },
   "source": [
    "$$ \\vec{R}_{AO_2} + \\vec{R}_{BA} - \\vec{R}_{BO_4} - \\vec{R}_{O_4O_2} = 0$$"
   ]
  },
  {
   "cell_type": "markdown",
   "metadata": {
    "slideshow": {
     "slide_type": "fragment"
    }
   },
   "source": [
    "#### Vetores como números complexos"
   ]
  },
  {
   "cell_type": "code",
   "execution_count": 67,
   "metadata": {
    "scrolled": false,
    "slideshow": {
     "slide_type": "fragment"
    }
   },
   "outputs": [
    {
     "data": {
      "image/svg+xml": [
       "<svg xmlns:dc=\"http://purl.org/dc/elements/1.1/\" xmlns:cc=\"http://creativecommons.org/ns#\" xmlns:rdf=\"http://www.w3.org/1999/02/22-rdf-syntax-ns#\" xmlns:svg=\"http://www.w3.org/2000/svg\" xmlns=\"http://www.w3.org/2000/svg\" xmlns:sodipodi=\"http://sodipodi.sourceforge.net/DTD/sodipodi-0.dtd\" xmlns:inkscape=\"http://www.inkscape.org/namespaces/inkscape\" width=\"141.25171mm\" height=\"106.87957mm\" viewBox=\"0 0 141.25171 106.87957\" version=\"1.1\" id=\"svg3304\" inkscape:version=\"1.0.1 (3bc2e813f5, 2020-09-07)\" sodipodi:docname=\"figs4-7.svg\">\n",
       "  <defs id=\"defs3298\">\n",
       "    <marker style=\"overflow:visible;\" id=\"marker7554\" refX=\"0.0\" refY=\"0.0\" orient=\"auto\" inkscape:stockid=\"Arrow1Lend\" inkscape:isstock=\"true\">\n",
       "      <path transform=\"scale(0.8) rotate(180) translate(12.5,0)\" style=\"fill-rule:evenodd;stroke:#000000;stroke-width:1pt;stroke-opacity:1;fill:#000000;fill-opacity:1\" d=\"M 0.0,0.0 L 5.0,-5.0 L -12.5,0.0 L 5.0,5.0 L 0.0,0.0 z \" id=\"path939\"/>\n",
       "    </marker>\n",
       "    <marker style=\"overflow:visible\" id=\"Arrow1Mend\" refX=\"0\" refY=\"0\" orient=\"auto\" inkscape:stockid=\"Arrow1Mend\" inkscape:isstock=\"true\">\n",
       "      <path transform=\"matrix(-0.4,0,0,-0.4,-4,0)\" style=\"fill:#ff0000;fill-opacity:1;fill-rule:evenodd;stroke:#ff0000;stroke-width:1pt;stroke-opacity:1\" d=\"M 0,0 5,-5 -12.5,0 5,5 Z\" id=\"path3878\"/>\n",
       "    </marker>\n",
       "    <marker style=\"overflow:visible\" id=\"marker4607\" refX=\"0\" refY=\"0\" orient=\"auto\" inkscape:stockid=\"Arrow1Lstart\" inkscape:isstock=\"true\">\n",
       "      <path transform=\"matrix(0.8,0,0,0.8,10,0)\" style=\"fill:#000000;fill-opacity:1;fill-rule:evenodd;stroke:#000000;stroke-width:1pt;stroke-opacity:1\" d=\"M 0,0 5,-5 -12.5,0 5,5 Z\" id=\"path4605\"/>\n",
       "    </marker>\n",
       "    <marker style=\"overflow:visible\" id=\"marker4543\" refX=\"0\" refY=\"0\" orient=\"auto\" inkscape:stockid=\"Arrow1Lend\" inkscape:isstock=\"true\">\n",
       "      <path transform=\"matrix(-0.8,0,0,-0.8,-10,0)\" style=\"fill:#000000;fill-opacity:1;fill-rule:evenodd;stroke:#000000;stroke-width:1pt;stroke-opacity:1\" d=\"M 0,0 5,-5 -12.5,0 5,5 Z\" id=\"path4541\"/>\n",
       "    </marker>\n",
       "    <marker style=\"overflow:visible\" id=\"marker4473\" refX=\"0\" refY=\"0\" orient=\"auto\" inkscape:stockid=\"Arrow1Lstart\" inkscape:isstock=\"true\" inkscape:collect=\"always\">\n",
       "      <path transform=\"matrix(0.8,0,0,0.8,10,0)\" style=\"fill:#000000;fill-opacity:1;fill-rule:evenodd;stroke:#000000;stroke-width:1pt;stroke-opacity:1\" d=\"M 0,0 5,-5 -12.5,0 5,5 Z\" id=\"path4471\"/>\n",
       "    </marker>\n",
       "    <marker style=\"overflow:visible\" id=\"marker4421\" refX=\"0\" refY=\"0\" orient=\"auto\" inkscape:stockid=\"Arrow1Lend\" inkscape:isstock=\"true\" inkscape:collect=\"always\">\n",
       "      <path transform=\"matrix(-0.8,0,0,-0.8,-10,0)\" style=\"fill:#000000;fill-opacity:1;fill-rule:evenodd;stroke:#000000;stroke-width:1pt;stroke-opacity:1\" d=\"M 0,0 5,-5 -12.5,0 5,5 Z\" id=\"path4419\"/>\n",
       "    </marker>\n",
       "    <marker style=\"overflow:visible\" id=\"marker4287\" refX=\"0\" refY=\"0\" orient=\"auto\" inkscape:stockid=\"Arrow1Lend\" inkscape:isstock=\"true\" inkscape:collect=\"always\">\n",
       "      <path transform=\"matrix(-0.8,0,0,-0.8,-10,0)\" style=\"fill:#000000;fill-opacity:1;fill-rule:evenodd;stroke:#000000;stroke-width:1pt;stroke-opacity:1\" d=\"M 0,0 5,-5 -12.5,0 5,5 Z\" id=\"path4285\"/>\n",
       "    </marker>\n",
       "    <inkscape:path-effect effect=\"spiro\" id=\"path-effect4277\" is_visible=\"true\" lpeversion=\"1\"/>\n",
       "    <inkscape:path-effect effect=\"simplify\" id=\"path-effect4275\" is_visible=\"true\" lpeversion=\"1\" steps=\"1\" threshold=\"0.00243902\" smooth_angles=\"360\" helper_size=\"0\" simplify_individual_paths=\"false\" simplify_just_coalesce=\"false\"/>\n",
       "    <inkscape:path-effect effect=\"simplify\" id=\"path-effect4269\" is_visible=\"true\" lpeversion=\"1\" steps=\"1\" threshold=\"0.00243902\" smooth_angles=\"360\" helper_size=\"0\" simplify_individual_paths=\"false\" simplify_just_coalesce=\"false\"/>\n",
       "    <inkscape:path-effect effect=\"simplify\" id=\"path-effect4263\" is_visible=\"true\" lpeversion=\"1\" steps=\"1\" threshold=\"0.00243902\" smooth_angles=\"360\" helper_size=\"0\" simplify_individual_paths=\"false\" simplify_just_coalesce=\"false\"/>\n",
       "    <inkscape:path-effect effect=\"simplify\" id=\"path-effect4257\" is_visible=\"true\" lpeversion=\"1\" steps=\"1\" threshold=\"0.00243902\" smooth_angles=\"360\" helper_size=\"0\" simplify_individual_paths=\"false\" simplify_just_coalesce=\"false\"/>\n",
       "    <marker style=\"overflow:visible\" id=\"marker4193\" refX=\"0\" refY=\"0\" orient=\"auto\" inkscape:stockid=\"Arrow1Lend\" inkscape:isstock=\"true\">\n",
       "      <path transform=\"matrix(-0.8,0,0,-0.8,-10,0)\" style=\"fill:#ff0000;fill-opacity:1;fill-rule:evenodd;stroke:#ff0000;stroke-width:1pt;stroke-opacity:1\" d=\"M 0,0 5,-5 -12.5,0 5,5 Z\" id=\"path4191\"/>\n",
       "    </marker>\n",
       "    <marker style=\"overflow:visible\" id=\"Arrow1Lstart\" refX=\"0\" refY=\"0\" orient=\"auto\" inkscape:stockid=\"Arrow1Lstart\" inkscape:isstock=\"true\" inkscape:collect=\"always\">\n",
       "      <path transform=\"matrix(0.8,0,0,0.8,10,0)\" style=\"fill:#000000;fill-opacity:1;fill-rule:evenodd;stroke:#000000;stroke-width:1pt;stroke-opacity:1\" d=\"M 0,0 5,-5 -12.5,0 5,5 Z\" id=\"path3869\"/>\n",
       "    </marker>\n",
       "  </defs>\n",
       "  <sodipodi:namedview id=\"base\" pagecolor=\"#ffffff\" bordercolor=\"#666666\" borderopacity=\"1.0\" inkscape:pageopacity=\"0.0\" inkscape:pageshadow=\"2\" inkscape:zoom=\"1.4\" inkscape:cx=\"339.50313\" inkscape:cy=\"250.94624\" inkscape:document-units=\"mm\" inkscape:current-layer=\"layer8\" inkscape:document-rotation=\"0\" showgrid=\"false\" inkscape:snap-smooth-nodes=\"true\" inkscape:snap-nodes=\"false\" inkscape:window-width=\"1920\" inkscape:window-height=\"1017\" inkscape:window-x=\"-8\" inkscape:window-y=\"-8\" inkscape:window-maximized=\"1\"/>\n",
       "  <metadata id=\"metadata3301\">\n",
       "    <rdf:RDF>\n",
       "      <cc:Work rdf:about=\"\">\n",
       "        <dc:format>image/svg+xml</dc:format>\n",
       "        <dc:type rdf:resource=\"http://purl.org/dc/dcmitype/StillImage\"/>\n",
       "        <dc:title/>\n",
       "      </cc:Work>\n",
       "    </rdf:RDF>\n",
       "  </metadata>\n",
       "  <g inkscape:groupmode=\"layer\" id=\"layer8\" inkscape:label=\"Layer 2\">\n",
       "    <rect style=\"fill:#ffffff;stroke:#ffffff;stroke-width:0.865\" id=\"rect6012\" width=\"142.11905\" height=\"107.34524\" x=\"-0.1889881\" y=\"0\"/>\n",
       "  </g>\n",
       "  <g inkscape:label=\"Layer 1\" inkscape:groupmode=\"layer\" id=\"layer1\" transform=\"translate(-18.731934,-41.537494)\">\n",
       "    <path style=\"fill:none;stroke:#000000;stroke-width:0.265;stroke-linecap:butt;stroke-linejoin:miter;stroke-miterlimit:4;stroke-dasharray:none;stroke-opacity:1;marker-start:url(#Arrow1Lstart);marker-end:url(#marker7554)\" d=\"M 147.58394,127.66438 H 66.170707 V 51.592609\" id=\"path3867\"/>\n",
       "    <path style=\"fill:#ff0000;stroke:#ff0000;stroke-width:0.565;stroke-linecap:butt;stroke-linejoin:miter;stroke-miterlimit:4;stroke-dasharray:none;stroke-opacity:1;marker-end:url(#marker4193)\" d=\"M 66.170707,127.66438 126.24685,70.767726\" id=\"path4183\"/>\n",
       "    <path style=\"fill:none;stroke:#000000;stroke-width:0.264583px;stroke-linecap:butt;stroke-linejoin:miter;stroke-opacity:1;marker-end:url(#marker4287)\" d=\"m 101.52621,126.84372 c 2.0569,-2.58418 3.29351,-5.81155 3.49007,-9.10855 0.24263,-4.06987 -1.08298,-8.13841 -3.27002,-11.57928 -1.63148,-2.56682 -3.741803,-4.82818 -6.189901,-6.632927\" id=\"path4273\" inkscape:path-effect=\"#path-effect4275;#path-effect4277\" inkscape:original-d=\"m 101.52621,126.84372 c 7.35662,-9.47974 2.10667,-21.41297 -5.969851,-27.320757\"/>\n",
       "    <g id=\"g4331\" transform=\"matrix(0.95418157,0,0,0.95843783,12.919009,3.5067329)\" style=\"stroke-width:1.04569\">\n",
       "      <ellipse style=\"fill:#ffffff;stroke:#000000;stroke-width:0.590813;stroke-linejoin:bevel;stroke-miterlimit:4;stroke-dasharray:none\" id=\"path4325\" cx=\"106.67464\" cy=\"114.92054\" rx=\"4.8294683\" ry=\"6.5136099\"/>\n",
       "      <path style=\"fill:none;stroke:#000000;stroke-width:0.486245;stroke-linecap:butt;stroke-linejoin:miter;stroke-miterlimit:4;stroke-dasharray:none;stroke-opacity:1\" d=\"m 101.84517,114.92054 h 9.65894\" id=\"path4327\"/>\n",
       "    </g>\n",
       "    <path style=\"fill:none;stroke:#000000;stroke-width:0.264583;stroke-linecap:butt;stroke-linejoin:miter;stroke-miterlimit:4;stroke-dasharray:1.5875, 1.5875;stroke-dashoffset:0;stroke-opacity:1\" d=\"M 126.24685,70.767725 V 147.92005\" id=\"path4381\"/>\n",
       "    <path style=\"fill:none;stroke:#000000;stroke-width:0.264583;stroke-linecap:butt;stroke-linejoin:miter;stroke-miterlimit:4;stroke-dasharray:1.5875, 1.5875;stroke-dashoffset:0;stroke-opacity:1\" d=\"m 66.170706,127.66438 v 20.75268\" id=\"path4383\"/>\n",
       "    <path style=\"fill:none;stroke:#000000;stroke-width:0.264583px;stroke-linecap:butt;stroke-linejoin:miter;stroke-opacity:1;marker-start:url(#marker4473);marker-end:url(#marker4421)\" d=\"M 66.061375,142.42057 H 126.43752\" id=\"path4385\"/>\n",
       "    <path style=\"fill:none;stroke:#000000;stroke-width:0.264583;stroke-linecap:butt;stroke-linejoin:miter;stroke-miterlimit:4;stroke-dasharray:1.5875, 1.5875;stroke-dashoffset:0;stroke-opacity:1\" d=\"M 126.24685,70.767725 H 37.640347\" id=\"path4387\"/>\n",
       "    <path style=\"fill:none;stroke:#000000;stroke-width:0.264583;stroke-linecap:butt;stroke-linejoin:miter;stroke-miterlimit:4;stroke-dasharray:1.5875, 1.5875;stroke-dashoffset:0;stroke-opacity:1\" d=\"M 66.170706,127.66438 H 39.354429\" id=\"path4389\"/>\n",
       "    <path style=\"fill:none;stroke:#000000;stroke-width:0.264583px;stroke-linecap:butt;stroke-linejoin:miter;stroke-opacity:1;marker-start:url(#marker4607);marker-end:url(#marker4543)\" d=\"M 46.759299,70.693025 V 127.45736\" id=\"path4391\"/>\n",
       "    <text xml:space=\"preserve\" style=\"font-size:7.7611px;line-height:1.25;font-family:sans-serif;-inkscape-font-specification:sans-serif;stroke-width:0.264583\" x=\"84.680283\" y=\"140.13226\" id=\"text4395\"><tspan sodipodi:role=\"line\" id=\"tspan4393\" x=\"84.680283\" y=\"140.13226\" style=\"stroke-width:0.264583\">rcos</tspan></text>\n",
       "    <text xml:space=\"preserve\" style=\"font-size:7.7611px;line-height:1.25;font-family:sans-serif;-inkscape-font-specification:sans-serif;stroke-width:0.264583\" x=\"19.376293\" y=\"109.11389\" id=\"text4399\"><tspan sodipodi:role=\"line\" id=\"tspan4397\" x=\"19.376293\" y=\"109.11389\" style=\"stroke-width:0.264583\">irsen</tspan></text>\n",
       "    <g id=\"g4405\" transform=\"matrix(0.54512627,0,0,0.55377743,48.869783,72.975661)\" style=\"stroke-width:1.82005\">\n",
       "      <ellipse style=\"fill:#ffffff;stroke:#000000;stroke-width:1.02833;stroke-linejoin:bevel;stroke-miterlimit:4;stroke-dasharray:none\" id=\"ellipse4401\" cx=\"106.67464\" cy=\"114.92054\" rx=\"4.8294683\" ry=\"6.5136099\"/>\n",
       "      <path style=\"fill:none;stroke:#000000;stroke-width:0.846324;stroke-linecap:butt;stroke-linejoin:miter;stroke-miterlimit:4;stroke-dasharray:none;stroke-opacity:1\" d=\"m 101.84517,114.92054 h 9.65894\" id=\"path4403\"/>\n",
       "    </g>\n",
       "    <g id=\"g4411\" transform=\"matrix(0.54512627,0,0,0.55377743,-16.172147,42.473681)\" style=\"stroke-width:1.82005\">\n",
       "      <ellipse style=\"fill:#ffffff;stroke:#000000;stroke-width:1.02833;stroke-linejoin:bevel;stroke-miterlimit:4;stroke-dasharray:none\" id=\"ellipse4407\" cx=\"106.67464\" cy=\"114.92054\" rx=\"4.8294683\" ry=\"6.5136099\"/>\n",
       "      <path style=\"fill:none;stroke:#000000;stroke-width:0.846324;stroke-linecap:butt;stroke-linejoin:miter;stroke-miterlimit:4;stroke-dasharray:none;stroke-opacity:1\" d=\"m 101.84517,114.92054 h 9.65894\" id=\"path4409\"/>\n",
       "    </g>\n",
       "    <text xml:space=\"preserve\" style=\"font-size:6.62138px;line-height:1.25;font-family:sans-serif;-inkscape-font-specification:sans-serif;stroke-width:0.264583\" x=\"144.90593\" y=\"55.084572\" id=\"text4731\" transform=\"scale(0.85314929,1.1721278)\"><tspan sodipodi:role=\"line\" id=\"tspan4729\" x=\"144.90593\" y=\"55.084572\" style=\"stroke-width:0.264583\">A</tspan></text>\n",
       "    <circle style=\"fill:#ffffff;stroke:#000000;stroke-width:0.264583;stroke-linejoin:bevel;stroke-miterlimit:4;stroke-dasharray:none;stroke-dashoffset:0\" id=\"path4737\" cx=\"128.9865\" cy=\"68.24527\" r=\"3.2865286\"/>\n",
       "    <text xml:space=\"preserve\" style=\"font-size:7.7611px;line-height:1.25;font-family:sans-serif;-inkscape-font-specification:sans-serif;fill:#ff0000;stroke-width:0.264583\" x=\"-17.653612\" y=\"134.74246\" id=\"text4741\" transform=\"rotate(-49.468358)\" inkscape:transform-center-x=\"4.7809005\" inkscape:transform-center-y=\"0.56696429\"><tspan sodipodi:role=\"line\" id=\"tspan4739\" x=\"-17.653612\" y=\"134.74246\" style=\"fill:#ff0000;stroke-width:0.264583\">r</tspan></text>\n",
       "    <text xml:space=\"preserve\" style=\"font-size:7.7611px;line-height:1.25;font-family:sans-serif;-inkscape-font-specification:sans-serif;fill:#ff0000;stroke:#ff0000;stroke-width:0.264583\" x=\"113.82401\" y=\"92.309708\" id=\"text4745\"><tspan sodipodi:role=\"line\" id=\"tspan4743\" x=\"113.82401\" y=\"92.309708\" style=\"fill:#ff0000;stroke:#ff0000;stroke-width:0.264583\">R<tspan style=\"font-size:65%;baseline-shift:sub;fill:#ff0000;stroke:#ff0000\" id=\"tspan4747\">A</tspan></tspan></text>\n",
       "    <path style=\"fill:none;stroke:#ff0000;stroke-width:0.264583px;stroke-linecap:butt;stroke-linejoin:miter;stroke-opacity:1;marker-end:url(#Arrow1Mend)\" d=\"m 112.81241,85.409897 h 8.4999\" id=\"path4749\"/>\n",
       "    <text xml:space=\"preserve\" style=\"font-size:7.7611px;line-height:1.25;font-family:sans-serif;-inkscape-font-specification:sans-serif;stroke-width:0.264583\" x=\"145.98865\" y=\"137.63197\" id=\"text4839\"><tspan sodipodi:role=\"line\" id=\"tspan4837\" x=\"145.98865\" y=\"137.63197\" style=\"stroke-width:0.264583\">real</tspan></text>\n",
       "    <text xml:space=\"preserve\" style=\"font-size:7.7611px;line-height:1.25;font-family:sans-serif;-inkscape-font-specification:sans-serif;stroke-width:0.264583\" x=\"43.52121\" y=\"47.744858\" id=\"text4843\"><tspan sodipodi:role=\"line\" id=\"tspan4841\" x=\"43.52121\" y=\"47.744858\" style=\"stroke-width:0.264583\">imaginário</tspan></text>\n",
       "  </g>\n",
       "</svg>"
      ],
      "text/plain": [
       "<IPython.core.display.SVG object>"
      ]
     },
     "execution_count": 67,
     "metadata": {},
     "output_type": "execute_result"
    }
   ],
   "source": [
    "SVG('figs4-7.svg')"
   ]
  },
  {
   "cell_type": "markdown",
   "metadata": {
    "slideshow": {
     "slide_type": "fragment"
    }
   },
   "source": [
    "Podemos escrever o vetor $\\vec{R}_A$ como:\n",
    "$$\\vec{R}_A = r cos \\theta + i r sen \\theta $$ \n",
    "* O número imaginário $i$ é usado como um operador, não como um valor\n",
    "* Cada multiplicação do vetor $\\vec{R}_A$ por $i$ resulta em uma rotação anti-horária de $90^{\\circ}$\n",
    "Uma vantagem de usar a notação dos números complexos para representar vetores planos é obter a **Identidade de Euler**: \n",
    "$$ e^{\\pm i \\theta} = cos \\theta \\pm i sen \\theta $$\n",
    "Dessa forma, podemos escrever $\\vec{R}_A$ como: \n",
    "$$\\vec{R}_A = r e^{i \\theta}$$\n",
    "Observe que:\n",
    "$$\\dfrac{d e^{i \\theta}}{d \\theta} = i e^{i \\theta} $$"
   ]
  },
  {
   "cell_type": "code",
   "execution_count": 68,
   "metadata": {
    "slideshow": {
     "slide_type": "fragment"
    }
   },
   "outputs": [],
   "source": [
    "r,theta = symbols('r theta')"
   ]
  },
  {
   "cell_type": "code",
   "execution_count": 69,
   "metadata": {
    "slideshow": {
     "slide_type": "fragment"
    }
   },
   "outputs": [
    {
     "data": {
      "text/latex": [
       "$\\displaystyle r e^{i \\theta}$"
      ],
      "text/plain": [
       "r*exp(I*theta)"
      ]
     },
     "execution_count": 69,
     "metadata": {},
     "output_type": "execute_result"
    }
   ],
   "source": [
    "RA = r*E**(I*theta)\n",
    "RA"
   ]
  },
  {
   "cell_type": "markdown",
   "metadata": {
    "slideshow": {
     "slide_type": "fragment"
    }
   },
   "source": [
    "Para simplificar, poderíamos fazer a seguinte importação <br>\n",
    "```{ .py }\n",
    "from sympy import E,I\n",
    "```\n",
    "Como alternativa, podemos fazer da seguinte forma:"
   ]
  },
  {
   "cell_type": "code",
   "execution_count": 70,
   "metadata": {
    "slideshow": {
     "slide_type": "fragment"
    }
   },
   "outputs": [],
   "source": [
    "i,e = [I,E]"
   ]
  },
  {
   "cell_type": "code",
   "execution_count": 71,
   "metadata": {
    "scrolled": true,
    "slideshow": {
     "slide_type": "fragment"
    }
   },
   "outputs": [
    {
     "data": {
      "text/latex": [
       "$\\displaystyle 1$"
      ],
      "text/plain": [
       "1"
      ]
     },
     "execution_count": 71,
     "metadata": {},
     "output_type": "execute_result"
    }
   ],
   "source": [
    "log(e)"
   ]
  },
  {
   "cell_type": "code",
   "execution_count": 72,
   "metadata": {
    "slideshow": {
     "slide_type": "fragment"
    }
   },
   "outputs": [
    {
     "data": {
      "text/latex": [
       "$\\displaystyle -1$"
      ],
      "text/plain": [
       "-1"
      ]
     },
     "execution_count": 72,
     "metadata": {},
     "output_type": "execute_result"
    }
   ],
   "source": [
    "e**(i*pi)"
   ]
  },
  {
   "cell_type": "code",
   "execution_count": 73,
   "metadata": {
    "slideshow": {
     "slide_type": "fragment"
    }
   },
   "outputs": [
    {
     "data": {
      "text/latex": [
       "$\\displaystyle -1$"
      ],
      "text/plain": [
       "-1"
      ]
     },
     "execution_count": 73,
     "metadata": {},
     "output_type": "execute_result"
    }
   ],
   "source": [
    "i**2"
   ]
  },
  {
   "cell_type": "code",
   "execution_count": 74,
   "metadata": {
    "slideshow": {
     "slide_type": "fragment"
    }
   },
   "outputs": [
    {
     "data": {
      "text/latex": [
       "$\\displaystyle r e^{i \\theta}$"
      ],
      "text/plain": [
       "r*exp(I*theta)"
      ]
     },
     "execution_count": 74,
     "metadata": {},
     "output_type": "execute_result"
    }
   ],
   "source": [
    "RA = r*e**(i*theta)\n",
    "RA"
   ]
  },
  {
   "cell_type": "code",
   "execution_count": 75,
   "metadata": {
    "slideshow": {
     "slide_type": "fragment"
    }
   },
   "outputs": [
    {
     "data": {
      "text/latex": [
       "$\\displaystyle i r e^{i \\theta}$"
      ],
      "text/plain": [
       "I*r*exp(I*theta)"
      ]
     },
     "execution_count": 75,
     "metadata": {},
     "output_type": "execute_result"
    }
   ],
   "source": [
    "RA.diff(theta)"
   ]
  },
  {
   "cell_type": "markdown",
   "metadata": {
    "slideshow": {
     "slide_type": "fragment"
    }
   },
   "source": [
    "#### Equação vetorial em malha fechada nos mecanismos de quatro barras"
   ]
  },
  {
   "cell_type": "code",
   "execution_count": 76,
   "metadata": {
    "slideshow": {
     "slide_type": "fragment"
    }
   },
   "outputs": [
    {
     "data": {
      "image/svg+xml": [
       "<svg xmlns:dc=\"http://purl.org/dc/elements/1.1/\" xmlns:cc=\"http://creativecommons.org/ns#\" xmlns:rdf=\"http://www.w3.org/1999/02/22-rdf-syntax-ns#\" xmlns:svg=\"http://www.w3.org/2000/svg\" xmlns=\"http://www.w3.org/2000/svg\" xmlns:sodipodi=\"http://sodipodi.sourceforge.net/DTD/sodipodi-0.dtd\" xmlns:inkscape=\"http://www.inkscape.org/namespaces/inkscape\" width=\"214.58945mm\" height=\"110.67824mm\" viewBox=\"0 0 214.58945 110.67824\" version=\"1.1\" id=\"svg8\" inkscape:version=\"1.0.1 (3bc2e813f5, 2020-09-07)\" sodipodi:docname=\"figs4-6.svg\">\n",
       "  <defs id=\"defs2\">\n",
       "    <marker style=\"overflow:visible;\" id=\"Arrow1Lend\" refX=\"0.0\" refY=\"0.0\" orient=\"auto\" inkscape:stockid=\"Arrow1Lend\" inkscape:isstock=\"true\">\n",
       "      <path transform=\"scale(0.8) rotate(180) translate(12.5,0)\" style=\"fill-rule:evenodd;stroke:#000000;stroke-width:1pt;stroke-opacity:1;fill:#000000;fill-opacity:1\" d=\"M 0.0,0.0 L 5.0,-5.0 L -12.5,0.0 L 5.0,5.0 L 0.0,0.0 z \" id=\"path1047\"/>\n",
       "    </marker>\n",
       "    <marker style=\"overflow:visible;\" id=\"marker6515\" refX=\"0.0\" refY=\"0.0\" orient=\"auto\" inkscape:stockid=\"Arrow1Lend\" inkscape:isstock=\"true\">\n",
       "      <path transform=\"scale(0.8) rotate(180) translate(12.5,0)\" style=\"fill-rule:evenodd;stroke:#000000;stroke-width:1pt;stroke-opacity:1;fill:#000000;fill-opacity:1\" d=\"M 0.0,0.0 L 5.0,-5.0 L -12.5,0.0 L 5.0,5.0 L 0.0,0.0 z \" id=\"path939\"/>\n",
       "    </marker>\n",
       "    <marker style=\"overflow:visible\" id=\"marker5158\" refX=\"0\" refY=\"0\" orient=\"auto\" inkscape:stockid=\"Arrow1Lend\" inkscape:isstock=\"true\">\n",
       "      <path transform=\"matrix(-0.8,0,0,-0.8,-10,0)\" style=\"fill:#ff0000;fill-opacity:1;fill-rule:evenodd;stroke:#ff0000;stroke-width:1pt;stroke-opacity:1\" d=\"M 0,0 5,-5 -12.5,0 5,5 Z\" id=\"path5156\"/>\n",
       "    </marker>\n",
       "    <marker style=\"overflow:visible\" id=\"marker1962\" refX=\"0\" refY=\"0\" orient=\"auto\" inkscape:stockid=\"Arrow1Lend\" inkscape:isstock=\"true\" inkscape:collect=\"always\">\n",
       "      <path transform=\"matrix(-0.8,0,0,-0.8,-10,0)\" style=\"fill:#ff0000;fill-opacity:1;fill-rule:evenodd;stroke:#ff0000;stroke-width:1pt;stroke-opacity:1\" d=\"M 0,0 5,-5 -12.5,0 5,5 Z\" id=\"path1960\"/>\n",
       "    </marker>\n",
       "    <marker style=\"overflow:visible\" id=\"marker1824\" refX=\"0\" refY=\"0\" orient=\"auto\" inkscape:stockid=\"Arrow1Lend\" inkscape:isstock=\"true\" inkscape:collect=\"always\">\n",
       "      <path transform=\"matrix(-0.8,0,0,-0.8,-10,0)\" style=\"fill:#ff0000;fill-opacity:1;fill-rule:evenodd;stroke:#ff0000;stroke-width:1pt;stroke-opacity:1\" d=\"M 0,0 5,-5 -12.5,0 5,5 Z\" id=\"path1822\"/>\n",
       "    </marker>\n",
       "    <marker style=\"overflow:visible\" id=\"marker1764\" refX=\"0\" refY=\"0\" orient=\"auto\" inkscape:stockid=\"Arrow1Lend\" inkscape:isstock=\"true\" inkscape:collect=\"always\">\n",
       "      <path transform=\"matrix(-0.8,0,0,-0.8,-10,0)\" style=\"fill:#ff0000;fill-opacity:1;fill-rule:evenodd;stroke:#ff0000;stroke-width:1pt;stroke-opacity:1\" d=\"M 0,0 5,-5 -12.5,0 5,5 Z\" id=\"path1762\"/>\n",
       "    </marker>\n",
       "    <marker style=\"overflow:visible\" id=\"marker1421\" refX=\"0\" refY=\"0\" orient=\"auto\" inkscape:stockid=\"Arrow1Lend\" inkscape:isstock=\"true\" inkscape:collect=\"always\">\n",
       "      <path transform=\"matrix(-0.8,0,0,-0.8,-10,0)\" style=\"fill:#000000;fill-opacity:1;fill-rule:evenodd;stroke:#000000;stroke-width:1pt;stroke-opacity:1\" d=\"M 0,0 5,-5 -12.5,0 5,5 Z\" id=\"path1419\"/>\n",
       "    </marker>\n",
       "    <marker style=\"overflow:visible\" id=\"marker1375\" refX=\"0\" refY=\"0\" orient=\"auto\" inkscape:stockid=\"Arrow1Lend\" inkscape:isstock=\"true\" inkscape:collect=\"always\">\n",
       "      <path transform=\"matrix(-0.8,0,0,-0.8,-10,0)\" style=\"fill:#000000;fill-opacity:1;fill-rule:evenodd;stroke:#000000;stroke-width:1pt;stroke-opacity:1\" d=\"M 0,0 5,-5 -12.5,0 5,5 Z\" id=\"path1373\"/>\n",
       "    </marker>\n",
       "    <marker style=\"overflow:visible\" id=\"marker1315\" refX=\"0\" refY=\"0\" orient=\"auto\" inkscape:stockid=\"Arrow1Lend\" inkscape:isstock=\"true\" inkscape:collect=\"always\">\n",
       "      <path transform=\"matrix(-0.8,0,0,-0.8,-10,0)\" style=\"fill:#000000;fill-opacity:1;fill-rule:evenodd;stroke:#000000;stroke-width:1pt;stroke-opacity:1\" d=\"M 0,0 5,-5 -12.5,0 5,5 Z\" id=\"path1313\"/>\n",
       "    </marker>\n",
       "    <marker style=\"overflow:visible\" id=\"Arrow1Lstart\" refX=\"0\" refY=\"0\" orient=\"auto\" inkscape:stockid=\"Arrow1Lstart\" inkscape:isstock=\"true\">\n",
       "      <path transform=\"matrix(0.8,0,0,0.8,10,0)\" style=\"fill:#ff0000;fill-opacity:1;fill-rule:evenodd;stroke:#ff0000;stroke-width:1pt;stroke-opacity:1\" d=\"M 0,0 5,-5 -12.5,0 5,5 Z\" id=\"path987\"/>\n",
       "    </marker>\n",
       "  </defs>\n",
       "  <sodipodi:namedview id=\"base\" pagecolor=\"#ffffff\" bordercolor=\"#666666\" borderopacity=\"1.0\" inkscape:pageopacity=\"0.0\" inkscape:pageshadow=\"2\" inkscape:zoom=\"1.4\" inkscape:cx=\"501.50539\" inkscape:cy=\"247.12536\" inkscape:document-units=\"mm\" inkscape:current-layer=\"layer7\" inkscape:document-rotation=\"0\" showgrid=\"false\" inkscape:snap-object-midpoints=\"false\" inkscape:snap-smooth-nodes=\"true\" inkscape:window-width=\"1920\" inkscape:window-height=\"1017\" inkscape:window-x=\"-8\" inkscape:window-y=\"-8\" inkscape:window-maximized=\"1\" inkscape:snap-nodes=\"false\"/>\n",
       "  <metadata id=\"metadata5\">\n",
       "    <rdf:RDF>\n",
       "      <cc:Work rdf:about=\"\">\n",
       "        <dc:format>image/svg+xml</dc:format>\n",
       "        <dc:type rdf:resource=\"http://purl.org/dc/dcmitype/StillImage\"/>\n",
       "        <dc:title/>\n",
       "      </cc:Work>\n",
       "    </rdf:RDF>\n",
       "  </metadata>\n",
       "  <g inkscape:groupmode=\"layer\" id=\"layer7\" inkscape:label=\"Layer 2\">\n",
       "    <rect style=\"fill:#ffffff;stroke:#ffffff;stroke-width:0.865\" id=\"rect5268\" width=\"215.44643\" height=\"110.936\" x=\"-0.1889881\" y=\"0.1889881\"/>\n",
       "  </g>\n",
       "  <g inkscape:label=\"Layer 1\" inkscape:groupmode=\"layer\" id=\"layer1\" transform=\"translate(-14.696059,-50.039333)\">\n",
       "    <path id=\"path839\" style=\"fill:#ffffff;stroke:#000000;stroke-width:0.699999;stroke-linejoin:bevel;stroke-miterlimit:4;stroke-dasharray:none\" d=\"m 40.314083,127.77587 a 7.5049962,7.4894698 0 0 0 -7.490705,7.48947 7.5049962,7.4894698 0 0 0 0,0.0143 v 13.0923 h 15.009993 v -13.10657 a 7.5049962,7.4894698 0 0 0 -7.504997,-7.48947 7.5049962,7.4894698 0 0 0 -0.0143,0 z\"/>\n",
       "    <path style=\"fill:none;stroke:#000000;stroke-width:0.7;stroke-linecap:butt;stroke-linejoin:miter;stroke-miterlimit:4;stroke-dasharray:none;stroke-opacity:1\" d=\"M 14.999011,148.37191 H 69.410235\" id=\"path850\"/>\n",
       "    <path style=\"fill:none;stroke:#000000;stroke-width:0.7;stroke-linecap:butt;stroke-linejoin:miter;stroke-miterlimit:4;stroke-dasharray:none;stroke-opacity:1\" d=\"m 14.999011,148.37191 7.041144,12.17039\" id=\"path852\"/>\n",
       "    <path style=\"fill:none;stroke:#000000;stroke-width:0.7;stroke-linecap:butt;stroke-linejoin:miter;stroke-miterlimit:4;stroke-dasharray:none;stroke-opacity:1\" d=\"m 27.382263,148.37191 7.041144,12.17039\" id=\"path854\"/>\n",
       "    <path style=\"fill:none;stroke:#000000;stroke-width:0.7;stroke-linecap:butt;stroke-linejoin:miter;stroke-miterlimit:4;stroke-dasharray:none;stroke-opacity:1\" d=\"m 39.390265,148.37191 7.041144,12.17039\" id=\"path856\"/>\n",
       "    <path style=\"fill:none;stroke:#000000;stroke-width:0.7;stroke-linecap:butt;stroke-linejoin:miter;stroke-miterlimit:4;stroke-dasharray:none;stroke-opacity:1\" d=\"m 51.773517,148.37191 7.041144,12.17039\" id=\"path858\"/>\n",
       "    <path style=\"fill:none;stroke:#000000;stroke-width:0.7;stroke-linecap:butt;stroke-linejoin:miter;stroke-miterlimit:4;stroke-dasharray:none;stroke-opacity:1\" d=\"m 64.156769,148.37191 7.04115,12.17039\" id=\"path860\"/>\n",
       "    <ellipse style=\"fill:#ffffff;stroke:#000000;stroke-width:0.7;stroke-linejoin:bevel\" id=\"path1592\" cx=\"40.369549\" cy=\"135.1759\" rx=\"2.6233726\" ry=\"2.6179454\"/>\n",
       "    <g inkscape:label=\"Layer 1\" id=\"g967\" transform=\"matrix(0.70913352,0,0,0.70766648,139.80942,37.902228)\" style=\"stroke-width:1.41163\">\n",
       "      <path id=\"path951\" style=\"fill:#ffffff;stroke:#000000;stroke-width:3.73471;stroke-linejoin:bevel;stroke-miterlimit:4;stroke-dasharray:none\" d=\"M 219.92383,480 A 39.999999,39.999999 0 0 0 180,520 a 39.999999,39.999999 0 0 0 0,0.0762 V 590 h 80 v -70 a 39.999999,39.999999 0 0 0 -40,-40 39.999999,39.999999 0 0 0 -0.0762,0 z\" transform=\"scale(0.26458333)\"/>\n",
       "      <path style=\"fill:none;stroke:#000000;stroke-width:0.988143;stroke-linecap:butt;stroke-linejoin:miter;stroke-miterlimit:4;stroke-dasharray:none;stroke-opacity:1\" d=\"M 22.489583,156.10416 H 99.218749\" id=\"path953\"/>\n",
       "      <path style=\"fill:none;stroke:#000000;stroke-width:0.988143;stroke-linecap:butt;stroke-linejoin:miter;stroke-miterlimit:4;stroke-dasharray:none;stroke-opacity:1\" d=\"m 22.489583,156.10416 9.929222,17.19792\" id=\"path955\"/>\n",
       "      <path style=\"fill:none;stroke:#000000;stroke-width:0.988143;stroke-linecap:butt;stroke-linejoin:miter;stroke-miterlimit:4;stroke-dasharray:none;stroke-opacity:1\" d=\"m 39.952094,156.10416 9.929222,17.19792\" id=\"path957\"/>\n",
       "      <path style=\"fill:none;stroke:#000000;stroke-width:0.988143;stroke-linecap:butt;stroke-linejoin:miter;stroke-miterlimit:4;stroke-dasharray:none;stroke-opacity:1\" d=\"m 56.885438,156.10416 9.929222,17.19792\" id=\"path959\"/>\n",
       "      <path style=\"fill:none;stroke:#000000;stroke-width:0.988143;stroke-linecap:butt;stroke-linejoin:miter;stroke-miterlimit:4;stroke-dasharray:none;stroke-opacity:1\" d=\"m 74.347949,156.10416 9.929222,17.19792\" id=\"path961\"/>\n",
       "      <path style=\"fill:none;stroke:#000000;stroke-width:0.988143;stroke-linecap:butt;stroke-linejoin:miter;stroke-miterlimit:4;stroke-dasharray:none;stroke-opacity:1\" d=\"m 91.81046,156.10416 9.92923,17.19792\" id=\"path963\"/>\n",
       "      <circle style=\"fill:#ffffff;stroke:#000000;stroke-width:0.988143;stroke-linejoin:bevel\" id=\"circle965\" cx=\"58.266396\" cy=\"137.45695\" r=\"3.6994057\"/>\n",
       "    </g>\n",
       "    <ellipse style=\"fill:#ffffff;stroke:#000000;stroke-width:0.7;stroke-linejoin:bevel\" id=\"ellipse979\" cx=\"54.782269\" cy=\"101.64828\" rx=\"2.6233726\" ry=\"2.6179454\"/>\n",
       "    <ellipse style=\"fill:#ffffff;stroke:#000000;stroke-width:0.7;stroke-linejoin:bevel\" id=\"ellipse981\" cx=\"158.56105\" cy=\"77.746864\" rx=\"2.6233726\" ry=\"2.6179454\"/>\n",
       "    <path style=\"fill:none;stroke:#000000;stroke-width:0.264583px;stroke-linecap:butt;stroke-linejoin:miter;stroke-opacity:1;marker-end:url(#marker1315)\" d=\"M 40.369548,135.1759 V 51.078577\" id=\"path983\"/>\n",
       "    <path style=\"fill:none;stroke:#000000;stroke-width:0.265;stroke-linecap:butt;stroke-linejoin:miter;stroke-opacity:1;marker-end:url(#marker6515);stroke-miterlimit:4;stroke-dasharray:none\" d=\"M 40.369548,135.1759 H 228.62076\" id=\"path985\"/>\n",
       "    <text xml:space=\"preserve\" style=\"font-size:7.7611px;line-height:1.25;font-family:sans-serif;-inkscape-font-specification:sans-serif;stroke-width:0.264583\" x=\"35.393242\" y=\"144.05951\" id=\"text1349\"><tspan sodipodi:role=\"line\" id=\"tspan1347\" x=\"35.393242\" y=\"144.05951\" style=\"stroke-width:0.264583\">O<tspan style=\"font-size:65%;baseline-shift:sub\" id=\"tspan1357\">2</tspan></tspan></text>\n",
       "    <text xml:space=\"preserve\" style=\"font-size:7.7611px;line-height:1.25;font-family:sans-serif;-inkscape-font-specification:sans-serif;stroke-width:0.264583\" x=\"176.83255\" y=\"144.19574\" id=\"text1353\"><tspan sodipodi:role=\"line\" id=\"tspan1351\" x=\"176.83255\" y=\"144.19574\" style=\"stroke-width:0.264583\">O<tspan style=\"font-size:65%;baseline-shift:sub\" id=\"tspan1355\">4</tspan></tspan></text>\n",
       "    <path style=\"fill:none;stroke:#000000;stroke-width:0.264583;stroke-linecap:butt;stroke-linejoin:miter;stroke-miterlimit:4;stroke-dasharray:2.11666, 2.11666;stroke-dashoffset:0;stroke-opacity:1\" d=\"M 54.782267,101.64828 H 122.30559\" id=\"path1361\"/>\n",
       "    <path style=\"fill:none;stroke:#000000;stroke-width:0.264583px;stroke-linecap:butt;stroke-linejoin:miter;stroke-opacity:1;marker-end:url(#marker1375)\" d=\"m 92.906508,101.20302 c 1.255311,-2.244931 1.505398,-4.887335 -0.423056,-8.391146\" id=\"path1363\" sodipodi:nodetypes=\"cc\"/>\n",
       "    <path style=\"fill:none;stroke:#000000;stroke-width:0.264583px;stroke-linecap:butt;stroke-linejoin:miter;stroke-opacity:1;marker-end:url(#marker1421)\" d=\"m 204.02271,135.34302 c -4.19232,-18.1698 -15.68896,-26.44711 -33.03527,-26.802\" id=\"path1365\" sodipodi:nodetypes=\"cc\"/>\n",
       "    <text xml:space=\"preserve\" style=\"font-size:7.7611px;line-height:1.25;font-family:sans-serif;-inkscape-font-specification:sans-serif;stroke-width:0.264583\" x=\"49.927883\" y=\"95.975571\" id=\"text1491\"><tspan sodipodi:role=\"line\" id=\"tspan1489\" x=\"49.927883\" y=\"95.975571\" style=\"stroke-width:0.264583\">A</tspan></text>\n",
       "    <text xml:space=\"preserve\" style=\"font-size:7.7611px;line-height:1.25;font-family:sans-serif;-inkscape-font-specification:sans-serif;stroke-width:0.264583\" x=\"161.36201\" y=\"74.261124\" id=\"text1495\"><tspan sodipodi:role=\"line\" id=\"tspan1493\" x=\"161.36201\" y=\"74.261124\" style=\"stroke-width:0.264583\">B</tspan></text>\n",
       "    <path style=\"fill:none;stroke:#000000;stroke-width:0.265;stroke-linecap:butt;stroke-linejoin:miter;stroke-opacity:1;stroke-miterlimit:4;stroke-dasharray:none;marker-end:url(#Arrow1Lend)\" d=\"m 56.204278,135.14129 c 2.077105,-8.53864 -2.44765,-13.86104 -8.415155,-18.48058\" id=\"path1497\" sodipodi:nodetypes=\"cc\"/>\n",
       "    <g id=\"g1505\" style=\"stroke-width:0.5;stroke-miterlimit:4;stroke-dasharray:none\" transform=\"translate(-8.206898,52.364352)\">\n",
       "      <ellipse style=\"fill:#ffffff;stroke:#000000;stroke-width:0.5;stroke-linejoin:bevel;stroke-miterlimit:4;stroke-dasharray:none;stroke-dashoffset:0\" id=\"path1499\" cx=\"68.891159\" cy=\"69.23098\" rx=\"2.5376184\" ry=\"3.6255431\"/>\n",
       "      <path style=\"fill:none;stroke:#000000;stroke-width:0.5;stroke-linecap:butt;stroke-linejoin:miter;stroke-miterlimit:4;stroke-dasharray:none;stroke-opacity:1\" d=\"m 66.353541,69.23098 h 5.075235\" id=\"path1501\"/>\n",
       "    </g>\n",
       "    <g id=\"g1511\" style=\"stroke-width:0.5;stroke-miterlimit:4;stroke-dasharray:none\" transform=\"translate(130.65558,45.023542)\">\n",
       "      <ellipse style=\"fill:#ffffff;stroke:#000000;stroke-width:0.5;stroke-linejoin:bevel;stroke-miterlimit:4;stroke-dasharray:none;stroke-dashoffset:0\" id=\"ellipse1507\" cx=\"68.891159\" cy=\"69.23098\" rx=\"2.5376184\" ry=\"3.6255431\"/>\n",
       "      <path style=\"fill:none;stroke:#000000;stroke-width:0.5;stroke-linecap:butt;stroke-linejoin:miter;stroke-miterlimit:4;stroke-dasharray:none;stroke-opacity:1\" d=\"m 66.353541,69.23098 h 5.075235\" id=\"path1509\"/>\n",
       "    </g>\n",
       "    <g id=\"g1517\" style=\"stroke-width:0.5;stroke-miterlimit:4;stroke-dasharray:none\" transform=\"translate(31.43961,26.845584)\">\n",
       "      <ellipse style=\"fill:#ffffff;stroke:#000000;stroke-width:0.5;stroke-linejoin:bevel;stroke-miterlimit:4;stroke-dasharray:none;stroke-dashoffset:0\" id=\"ellipse1513\" cx=\"68.891159\" cy=\"69.23098\" rx=\"2.5376184\" ry=\"3.6255431\"/>\n",
       "      <path style=\"fill:none;stroke:#000000;stroke-width:0.5;stroke-linecap:butt;stroke-linejoin:miter;stroke-miterlimit:4;stroke-dasharray:none;stroke-opacity:1\" d=\"m 66.353541,69.23098 h 5.075235\" id=\"path1515\"/>\n",
       "    </g>\n",
       "    <text xml:space=\"preserve\" style=\"font-size:5.40149px;line-height:1.25;font-family:sans-serif;-inkscape-font-specification:sans-serif;stroke-width:0.264583\" x=\"63.598255\" y=\"127.6256\" id=\"text1521\"><tspan sodipodi:role=\"line\" id=\"tspan1519\" x=\"63.598255\" y=\"127.6256\" style=\"stroke-width:0.264583\">2</tspan></text>\n",
       "    <text xml:space=\"preserve\" style=\"font-size:5.40149px;line-height:1.25;font-family:sans-serif;-inkscape-font-specification:sans-serif;stroke-width:0.264583\" x=\"104.03602\" y=\"100.36676\" id=\"text1525\"><tspan sodipodi:role=\"line\" id=\"tspan1523\" x=\"104.03602\" y=\"100.36676\" style=\"stroke-width:0.264583\">3</tspan></text>\n",
       "    <text xml:space=\"preserve\" style=\"font-size:5.40149px;line-height:1.25;font-family:sans-serif;-inkscape-font-specification:sans-serif;stroke-width:0.264583\" x=\"202.49963\" y=\"120.12696\" id=\"text1529\"><tspan sodipodi:role=\"line\" id=\"tspan1527\" x=\"202.49963\" y=\"120.12696\" style=\"stroke-width:0.264583\">4</tspan></text>\n",
       "    <text xml:space=\"preserve\" style=\"font-size:7.7611px;line-height:1.25;font-family:sans-serif;-inkscape-font-specification:sans-serif;stroke-width:0.264583\" x=\"42.530609\" y=\"115.60754\" id=\"text1533\"><tspan sodipodi:role=\"line\" id=\"tspan1531\" x=\"42.530609\" y=\"115.60754\" style=\"stroke-width:0.264583\">2</tspan></text>\n",
       "    <text xml:space=\"preserve\" style=\"font-size:7.7611px;line-height:1.25;font-family:sans-serif;-inkscape-font-specification:sans-serif;stroke-width:0.264583\" x=\"99.787262\" y=\"86.235306\" id=\"text1537\"><tspan sodipodi:role=\"line\" id=\"tspan1535\" x=\"99.787262\" y=\"86.235306\" style=\"stroke-width:0.264583\">3</tspan></text>\n",
       "    <text xml:space=\"preserve\" style=\"font-size:7.7611px;line-height:1.25;font-family:sans-serif;-inkscape-font-specification:sans-serif;stroke-width:0.264583\" x=\"167.8152\" y=\"101.70832\" id=\"text1541\"><tspan sodipodi:role=\"line\" id=\"tspan1539\" x=\"167.8152\" y=\"101.70832\" style=\"stroke-width:0.264583\">4</tspan></text>\n",
       "    <text xml:space=\"preserve\" style=\"font-size:7.7611px;line-height:1.25;font-family:sans-serif;-inkscape-font-specification:sans-serif;stroke-width:0.264583\" x=\"224.21123\" y=\"144.24466\" id=\"text1545\"><tspan sodipodi:role=\"line\" id=\"tspan1543\" x=\"224.21123\" y=\"144.24466\" style=\"stroke-width:0.264583\">X</tspan></text>\n",
       "    <text xml:space=\"preserve\" style=\"font-size:7.7611px;line-height:1.25;font-family:sans-serif;-inkscape-font-specification:sans-serif;stroke-width:0.264583\" x=\"33.694336\" y=\"55.697205\" id=\"text1549\"><tspan sodipodi:role=\"line\" id=\"tspan1547\" x=\"33.694336\" y=\"55.697205\" style=\"stroke-width:0.264583\">Y</tspan></text>\n",
       "    <path style=\"fill:#ff0000;stroke:#ff0000;stroke-width:0.5;stroke-linecap:butt;stroke-linejoin:miter;stroke-opacity:1;stroke-miterlimit:4;stroke-dasharray:none;marker-end:url(#marker1764)\" d=\"M 40.63683,132.91881 53.380076,103.88287\" id=\"path1754\"/>\n",
       "    <path style=\"fill:#ff0000;stroke:#ff0000;stroke-width:0.5;stroke-linecap:butt;stroke-linejoin:miter;stroke-opacity:1;marker-end:url(#marker1824);stroke-miterlimit:4;stroke-dasharray:none\" d=\"M 57.195315,100.63326 155.89509,78.155476\" id=\"path1814\"/>\n",
       "    <path style=\"fill:#ff0000;stroke:#ff0000;stroke-width:0.5;stroke-linecap:butt;stroke-linejoin:miter;stroke-opacity:1;stroke-miterlimit:4;stroke-dasharray:none;marker-end:url(#marker5158)\" d=\"M 42.858994,135.20136 H 178.28424\" id=\"path1880\"/>\n",
       "    <path style=\"fill:#ff0000;stroke:#ff0000;stroke-width:0.5;stroke-linecap:butt;stroke-linejoin:miter;stroke-opacity:1;marker-end:url(#marker1962);stroke-miterlimit:4;stroke-dasharray:none\" d=\"M 180.81782,132.55552 159.6012,80.490898\" id=\"path1952\"/>\n",
       "    <text xml:space=\"preserve\" style=\"font-size:7.7611px;line-height:1.25;font-family:sans-serif;-inkscape-font-specification:sans-serif;stroke-width:0.264583;fill:#ff0000;\" x=\"46.783787\" y=\"124.74735\" id=\"text2566\"><tspan sodipodi:role=\"line\" id=\"tspan2564\" x=\"46.783787\" y=\"124.74735\" style=\"stroke-width:0.264583;fill:#ff0000;\">a</tspan></text>\n",
       "    <text xml:space=\"preserve\" style=\"font-size:7.7611px;line-height:1.25;font-family:sans-serif;-inkscape-font-specification:sans-serif;stroke-width:0.264583;fill:#ff0000;\" x=\"112.3205\" y=\"94.360733\" id=\"text2570\"><tspan sodipodi:role=\"line\" id=\"tspan2568\" x=\"112.3205\" y=\"94.360733\" style=\"stroke-width:0.264583;fill:#ff0000;\">b</tspan></text>\n",
       "    <text xml:space=\"preserve\" style=\"font-size:7.7611px;line-height:1.25;font-family:sans-serif;-inkscape-font-specification:sans-serif;fill:#ff0000;stroke-width:0.264583\" x=\"100.91211\" y=\"133.42999\" id=\"text2574\"><tspan sodipodi:role=\"line\" id=\"tspan2572\" x=\"100.91211\" y=\"133.42999\" style=\"fill:#ff0000;stroke-width:0.264583\">d</tspan></text>\n",
       "    <text xml:space=\"preserve\" style=\"font-size:7.7611px;line-height:1.25;font-family:sans-serif;-inkscape-font-specification:sans-serif;fill:#ff0000;stroke-width:0.264583\" x=\"163.30191\" y=\"107.71402\" id=\"text2578\"><tspan sodipodi:role=\"line\" id=\"tspan2576\" x=\"163.30191\" y=\"107.71402\" style=\"fill:#ff0000;stroke-width:0.264583\">c</tspan></text>\n",
       "  </g>\n",
       "</svg>"
      ],
      "text/plain": [
       "<IPython.core.display.SVG object>"
      ]
     },
     "execution_count": 76,
     "metadata": {},
     "output_type": "execute_result"
    }
   ],
   "source": [
    "SVG('figs4-6.svg')"
   ]
  },
  {
   "cell_type": "markdown",
   "metadata": {
    "slideshow": {
     "slide_type": "fragment"
    }
   },
   "source": [
    "$$ \\vec{R}_{AO_2} + \\vec{R}_{BA} - \\vec{R}_{BO_4} - \\vec{R}_{O_4O_2} = 0$$"
   ]
  },
  {
   "cell_type": "code",
   "execution_count": 77,
   "metadata": {
    "slideshow": {
     "slide_type": "fragment"
    }
   },
   "outputs": [],
   "source": [
    "a,b,c,d = symbols('a b c d')\n",
    "theta1,theta2,theta3,theta4 = symbols('theta1 theta2 theta3 theta4')"
   ]
  },
  {
   "cell_type": "code",
   "execution_count": 78,
   "metadata": {
    "slideshow": {
     "slide_type": "fragment"
    }
   },
   "outputs": [
    {
     "data": {
      "text/latex": [
       "$\\displaystyle a e^{i \\theta_{2}} + b e^{i \\theta_{3}} - c e^{i \\theta_{4}} - d e^{i \\theta_{1}}$"
      ],
      "text/plain": [
       "a*exp(I*theta2) + b*exp(I*theta3) - c*exp(I*theta4) - d*exp(I*theta1)"
      ]
     },
     "execution_count": 78,
     "metadata": {},
     "output_type": "execute_result"
    }
   ],
   "source": [
    "RAO2 = a*e**(i*theta2)\n",
    "RBA = b*e**(i*theta3)\n",
    "RBO4 = c*e**(i*theta4)\n",
    "RO4O2 = d*e**(i*theta1)\n",
    "Eq1 = RAO2 + RBA - RBO4 - RO4O2\n",
    "Eq1"
   ]
  },
  {
   "cell_type": "markdown",
   "metadata": {
    "slideshow": {
     "slide_type": "fragment"
    }
   },
   "source": [
    "Observa-se que $\\theta_1=0$:"
   ]
  },
  {
   "cell_type": "code",
   "execution_count": 79,
   "metadata": {
    "slideshow": {
     "slide_type": "fragment"
    }
   },
   "outputs": [
    {
     "data": {
      "text/latex": [
       "$\\displaystyle a e^{i \\theta_{2}} + b e^{i \\theta_{3}} - c e^{i \\theta_{4}} - d$"
      ],
      "text/plain": [
       "a*exp(I*theta2) + b*exp(I*theta3) - c*exp(I*theta4) - d"
      ]
     },
     "execution_count": 79,
     "metadata": {},
     "output_type": "execute_result"
    }
   ],
   "source": [
    "Eq1 = Eq1.subs(theta1,0)\n",
    "Eq1"
   ]
  },
  {
   "cell_type": "markdown",
   "metadata": {
    "slideshow": {
     "slide_type": "skip"
    }
   },
   "source": [
    "Escreveremos um dicionário para a identidade de Euler:"
   ]
  },
  {
   "cell_type": "code",
   "execution_count": 80,
   "metadata": {
    "slideshow": {
     "slide_type": "fragment"
    }
   },
   "outputs": [],
   "source": [
    "id_euler = {e**(i*theta2):cos(theta2) + i*sin(theta2),\n",
    "              e**(i*theta3):cos(theta3) + i*sin(theta3),\n",
    "             e**(i*theta4):cos(theta4) + i*sin(theta4)}"
   ]
  },
  {
   "cell_type": "code",
   "execution_count": 81,
   "metadata": {
    "slideshow": {
     "slide_type": "fragment"
    }
   },
   "outputs": [
    {
     "data": {
      "text/latex": [
       "$\\displaystyle a \\left(i \\sin{\\left(\\theta_{2} \\right)} + \\cos{\\left(\\theta_{2} \\right)}\\right) + b \\left(i \\sin{\\left(\\theta_{3} \\right)} + \\cos{\\left(\\theta_{3} \\right)}\\right) - c \\left(i \\sin{\\left(\\theta_{4} \\right)} + \\cos{\\left(\\theta_{4} \\right)}\\right) - d$"
      ],
      "text/plain": [
       "a*(I*sin(theta2) + cos(theta2)) + b*(I*sin(theta3) + cos(theta3)) - c*(I*sin(theta4) + cos(theta4)) - d"
      ]
     },
     "execution_count": 81,
     "metadata": {},
     "output_type": "execute_result"
    }
   ],
   "source": [
    "Eq1 = Eq1.subs(id_euler)\n",
    "Eq1"
   ]
  },
  {
   "cell_type": "markdown",
   "metadata": {
    "slideshow": {
     "slide_type": "skip"
    }
   },
   "source": [
    "Vamos expandir a Eq1:"
   ]
  },
  {
   "cell_type": "code",
   "execution_count": 82,
   "metadata": {
    "slideshow": {
     "slide_type": "fragment"
    }
   },
   "outputs": [
    {
     "data": {
      "text/latex": [
       "$\\displaystyle i a \\sin{\\left(\\theta_{2} \\right)} + a \\cos{\\left(\\theta_{2} \\right)} + i b \\sin{\\left(\\theta_{3} \\right)} + b \\cos{\\left(\\theta_{3} \\right)} - i c \\sin{\\left(\\theta_{4} \\right)} - c \\cos{\\left(\\theta_{4} \\right)} - d$"
      ],
      "text/plain": [
       "I*a*sin(theta2) + a*cos(theta2) + I*b*sin(theta3) + b*cos(theta3) - I*c*sin(theta4) - c*cos(theta4) - d"
      ]
     },
     "execution_count": 82,
     "metadata": {},
     "output_type": "execute_result"
    }
   ],
   "source": [
    "Eq1 = Eq1.expand()\n",
    "Eq1"
   ]
  },
  {
   "cell_type": "markdown",
   "metadata": {
    "slideshow": {
     "slide_type": "fragment"
    }
   },
   "source": [
    "Vamos separar a parte real da imaginária dessa equação:"
   ]
  },
  {
   "cell_type": "code",
   "execution_count": 83,
   "metadata": {
    "slideshow": {
     "slide_type": "fragment"
    }
   },
   "outputs": [
    {
     "data": {
      "text/latex": [
       "$\\displaystyle a \\cos{\\left(\\theta_{2} \\right)} + b \\cos{\\left(\\theta_{3} \\right)} - c \\cos{\\left(\\theta_{4} \\right)} - d$"
      ],
      "text/plain": [
       "a*cos(theta2) + b*cos(theta3) - c*cos(theta4) - d"
      ]
     },
     "execution_count": 83,
     "metadata": {},
     "output_type": "execute_result"
    }
   ],
   "source": [
    "Eq_real = Eq1.subs(i,0)\n",
    "Eq_real"
   ]
  },
  {
   "cell_type": "code",
   "execution_count": 84,
   "metadata": {
    "slideshow": {
     "slide_type": "fragment"
    }
   },
   "outputs": [
    {
     "data": {
      "text/latex": [
       "$\\displaystyle i a \\sin{\\left(\\theta_{2} \\right)} + i b \\sin{\\left(\\theta_{3} \\right)} - i c \\sin{\\left(\\theta_{4} \\right)}$"
      ],
      "text/plain": [
       "I*a*sin(theta2) + I*b*sin(theta3) - I*c*sin(theta4)"
      ]
     },
     "execution_count": 84,
     "metadata": {},
     "output_type": "execute_result"
    }
   ],
   "source": [
    "Eq_im = Eq1 - Eq_real\n",
    "Eq_im"
   ]
  },
  {
   "cell_type": "code",
   "execution_count": 85,
   "metadata": {
    "slideshow": {
     "slide_type": "fragment"
    }
   },
   "outputs": [
    {
     "data": {
      "text/latex": [
       "$\\displaystyle a \\sin{\\left(\\theta_{2} \\right)} + b \\sin{\\left(\\theta_{3} \\right)} - c \\sin{\\left(\\theta_{4} \\right)}$"
      ],
      "text/plain": [
       "a*sin(theta2) + b*sin(theta3) - c*sin(theta4)"
      ]
     },
     "execution_count": 85,
     "metadata": {},
     "output_type": "execute_result"
    }
   ],
   "source": [
    "Eq_im = Eq_im.subs(i,1)\n",
    "Eq_im"
   ]
  },
  {
   "cell_type": "markdown",
   "metadata": {
    "slideshow": {
     "slide_type": "skip"
    }
   },
   "source": [
    "Agora, vamos passar os termos que contenham $b$ para o lado esquerdo da equação:"
   ]
  },
  {
   "cell_type": "code",
   "execution_count": 86,
   "metadata": {
    "slideshow": {
     "slide_type": "fragment"
    }
   },
   "outputs": [
    {
     "data": {
      "text/latex": [
       "$\\displaystyle - a \\cos{\\left(\\theta_{2} \\right)} + c \\cos{\\left(\\theta_{4} \\right)} + d$"
      ],
      "text/plain": [
       "-a*cos(theta2) + c*cos(theta4) + d"
      ]
     },
     "execution_count": 86,
     "metadata": {},
     "output_type": "execute_result"
    }
   ],
   "source": [
    "bcostheta3 = solve(Eq_real,b*cos(theta3))[0]\n",
    "bcostheta3"
   ]
  },
  {
   "cell_type": "code",
   "execution_count": 87,
   "metadata": {
    "slideshow": {
     "slide_type": "fragment"
    }
   },
   "outputs": [
    {
     "data": {
      "text/latex": [
       "$\\displaystyle b \\cos{\\left(\\theta_{3} \\right)} = - a \\cos{\\left(\\theta_{2} \\right)} + c \\cos{\\left(\\theta_{4} \\right)} + d$"
      ],
      "text/plain": [
       "Eq(b*cos(theta3), -a*cos(theta2) + c*cos(theta4) + d)"
      ]
     },
     "execution_count": 87,
     "metadata": {},
     "output_type": "execute_result"
    }
   ],
   "source": [
    "Eq(b*cos(theta3),bcostheta3)"
   ]
  },
  {
   "cell_type": "code",
   "execution_count": 88,
   "metadata": {
    "slideshow": {
     "slide_type": "fragment"
    }
   },
   "outputs": [
    {
     "data": {
      "text/latex": [
       "$\\displaystyle - a \\sin{\\left(\\theta_{2} \\right)} + c \\sin{\\left(\\theta_{4} \\right)}$"
      ],
      "text/plain": [
       "-a*sin(theta2) + c*sin(theta4)"
      ]
     },
     "execution_count": 88,
     "metadata": {},
     "output_type": "execute_result"
    }
   ],
   "source": [
    "bsentheta3 = solve(Eq_im,b*sin(theta3))[0]\n",
    "bsentheta3"
   ]
  },
  {
   "cell_type": "code",
   "execution_count": 89,
   "metadata": {
    "slideshow": {
     "slide_type": "fragment"
    }
   },
   "outputs": [
    {
     "data": {
      "text/latex": [
       "$\\displaystyle b \\sin{\\left(\\theta_{3} \\right)} = - a \\sin{\\left(\\theta_{2} \\right)} + c \\sin{\\left(\\theta_{4} \\right)}$"
      ],
      "text/plain": [
       "Eq(b*sin(theta3), -a*sin(theta2) + c*sin(theta4))"
      ]
     },
     "execution_count": 89,
     "metadata": {},
     "output_type": "execute_result"
    }
   ],
   "source": [
    "Eq(b*sin(theta3),bsentheta3)"
   ]
  },
  {
   "cell_type": "markdown",
   "metadata": {
    "slideshow": {
     "slide_type": "skip"
    }
   },
   "source": [
    "Elevando essas duas equações ao quadrado e somando, eliminamos $\\theta_3$ das equações."
   ]
  },
  {
   "cell_type": "code",
   "execution_count": 90,
   "metadata": {
    "slideshow": {
     "slide_type": "fragment"
    }
   },
   "outputs": [
    {
     "data": {
      "text/latex": [
       "$\\displaystyle \\left(- a \\sin{\\left(\\theta_{2} \\right)} + c \\sin{\\left(\\theta_{4} \\right)}\\right)^{2} + \\left(- a \\cos{\\left(\\theta_{2} \\right)} + c \\cos{\\left(\\theta_{4} \\right)} + d\\right)^{2}$"
      ],
      "text/plain": [
       "(-a*sin(theta2) + c*sin(theta4))**2 + (-a*cos(theta2) + c*cos(theta4) + d)**2"
      ]
     },
     "execution_count": 90,
     "metadata": {},
     "output_type": "execute_result"
    }
   ],
   "source": [
    "b2 = bcostheta3**2 + bsentheta3**2\n",
    "b2"
   ]
  },
  {
   "cell_type": "code",
   "execution_count": 91,
   "metadata": {
    "slideshow": {
     "slide_type": "fragment"
    }
   },
   "outputs": [
    {
     "data": {
      "text/latex": [
       "$\\displaystyle b^{2} = \\left(- a \\sin{\\left(\\theta_{2} \\right)} + c \\sin{\\left(\\theta_{4} \\right)}\\right)^{2} + \\left(- a \\cos{\\left(\\theta_{2} \\right)} + c \\cos{\\left(\\theta_{4} \\right)} + d\\right)^{2}$"
      ],
      "text/plain": [
       "Eq(b**2, (-a*sin(theta2) + c*sin(theta4))**2 + (-a*cos(theta2) + c*cos(theta4) + d)**2)"
      ]
     },
     "execution_count": 91,
     "metadata": {},
     "output_type": "execute_result"
    }
   ],
   "source": [
    "Eq(b**2,b2)"
   ]
  },
  {
   "cell_type": "markdown",
   "metadata": {
    "slideshow": {
     "slide_type": "fragment"
    }
   },
   "source": [
    "Reorganizando: \n"
   ]
  },
  {
   "cell_type": "code",
   "execution_count": 92,
   "metadata": {
    "slideshow": {
     "slide_type": "fragment"
    }
   },
   "outputs": [
    {
     "data": {
      "text/latex": [
       "$\\displaystyle a^{2} \\sin^{2}{\\left(\\theta_{2} \\right)} + a^{2} \\cos^{2}{\\left(\\theta_{2} \\right)} - 2 a c \\sin{\\left(\\theta_{2} \\right)} \\sin{\\left(\\theta_{4} \\right)} - 2 a c \\cos{\\left(\\theta_{2} \\right)} \\cos{\\left(\\theta_{4} \\right)} - 2 a d \\cos{\\left(\\theta_{2} \\right)} - b^{2} + c^{2} \\sin^{2}{\\left(\\theta_{4} \\right)} + c^{2} \\cos^{2}{\\left(\\theta_{4} \\right)} + 2 c d \\cos{\\left(\\theta_{4} \\right)} + d^{2}$"
      ],
      "text/plain": [
       "a**2*sin(theta2)**2 + a**2*cos(theta2)**2 - 2*a*c*sin(theta2)*sin(theta4) - 2*a*c*cos(theta2)*cos(theta4) - 2*a*d*cos(theta2) - b**2 + c**2*sin(theta4)**2 + c**2*cos(theta4)**2 + 2*c*d*cos(theta4) + d**2"
      ]
     },
     "execution_count": 92,
     "metadata": {},
     "output_type": "execute_result"
    }
   ],
   "source": [
    "Eq2 = b2.expand() - b**2\n",
    "Eq2"
   ]
  },
  {
   "cell_type": "markdown",
   "metadata": {
    "slideshow": {
     "slide_type": "fragment"
    }
   },
   "source": [
    "Teremos que utilizar uma identidade trigonométrica conhecida como *meia identidade dos ângulos*:\n",
    "$$ sen \\theta_4 = \\dfrac{2 tan \\left( \\dfrac{\\theta_4}{2} \\right)}{1 + tan^2 \\left( \\dfrac{\\theta_4}{2} \\right)} \\qquad cos \\theta_4 = \\dfrac{1 - tan^2 \\left( \\dfrac{\\theta_4}{2} \\right)}{1 + tan^2 \\left( \\dfrac{\\theta_4}{2} \\right)} $$"
   ]
  },
  {
   "cell_type": "code",
   "execution_count": 93,
   "metadata": {
    "slideshow": {
     "slide_type": "fragment"
    }
   },
   "outputs": [],
   "source": [
    "mida = {sin(theta4):(2*tan(theta4/2))/(1+(tan(theta4/2))**2),\n",
    "        cos(theta4):(1-(tan(theta4/2))**2)/(1 +(tan(theta4/2))**2 )}"
   ]
  },
  {
   "cell_type": "code",
   "execution_count": 94,
   "metadata": {
    "scrolled": true,
    "slideshow": {
     "slide_type": "fragment"
    }
   },
   "outputs": [
    {
     "data": {
      "text/latex": [
       "$\\displaystyle a^{2} \\sin^{2}{\\left(\\theta_{2} \\right)} + a^{2} \\cos^{2}{\\left(\\theta_{2} \\right)} - \\frac{2 a c \\left(1 - \\tan^{2}{\\left(\\frac{\\theta_{4}}{2} \\right)}\\right) \\cos{\\left(\\theta_{2} \\right)}}{\\tan^{2}{\\left(\\frac{\\theta_{4}}{2} \\right)} + 1} - \\frac{4 a c \\sin{\\left(\\theta_{2} \\right)} \\tan{\\left(\\frac{\\theta_{4}}{2} \\right)}}{\\tan^{2}{\\left(\\frac{\\theta_{4}}{2} \\right)} + 1} - 2 a d \\cos{\\left(\\theta_{2} \\right)} - b^{2} + \\frac{c^{2} \\left(1 - \\tan^{2}{\\left(\\frac{\\theta_{4}}{2} \\right)}\\right)^{2}}{\\left(\\tan^{2}{\\left(\\frac{\\theta_{4}}{2} \\right)} + 1\\right)^{2}} + \\frac{4 c^{2} \\tan^{2}{\\left(\\frac{\\theta_{4}}{2} \\right)}}{\\left(\\tan^{2}{\\left(\\frac{\\theta_{4}}{2} \\right)} + 1\\right)^{2}} + \\frac{2 c d \\left(1 - \\tan^{2}{\\left(\\frac{\\theta_{4}}{2} \\right)}\\right)}{\\tan^{2}{\\left(\\frac{\\theta_{4}}{2} \\right)} + 1} + d^{2}$"
      ],
      "text/plain": [
       "a**2*sin(theta2)**2 + a**2*cos(theta2)**2 - 2*a*c*(1 - tan(theta4/2)**2)*cos(theta2)/(tan(theta4/2)**2 + 1) - 4*a*c*sin(theta2)*tan(theta4/2)/(tan(theta4/2)**2 + 1) - 2*a*d*cos(theta2) - b**2 + c**2*(1 - tan(theta4/2)**2)**2/(tan(theta4/2)**2 + 1)**2 + 4*c**2*tan(theta4/2)**2/(tan(theta4/2)**2 + 1)**2 + 2*c*d*(1 - tan(theta4/2)**2)/(tan(theta4/2)**2 + 1) + d**2"
      ]
     },
     "execution_count": 94,
     "metadata": {},
     "output_type": "execute_result"
    }
   ],
   "source": [
    "Eq3 = Eq2.subs(mida)\n",
    "Eq3 "
   ]
  },
  {
   "cell_type": "markdown",
   "metadata": {
    "slideshow": {
     "slide_type": "skip"
    }
   },
   "source": [
    "Para facilitar a solução da equação, vamos substituir $\\tan \\left( \\dfrac{\\theta_4}{2} \\right)$ por $x$:"
   ]
  },
  {
   "cell_type": "code",
   "execution_count": 95,
   "metadata": {
    "slideshow": {
     "slide_type": "fragment"
    }
   },
   "outputs": [
    {
     "data": {
      "text/latex": [
       "$\\displaystyle \\frac{c^{2} \\left(4 x^{2} + \\left(x^{2} - 1\\right)^{2}\\right) + 2 c \\left(x^{2} + 1\\right) \\left(- 2 a x \\sin{\\left(\\theta_{2} \\right)} + a \\left(x^{2} - 1\\right) \\cos{\\left(\\theta_{2} \\right)} - d \\left(x^{2} - 1\\right)\\right) + \\left(x^{2} + 1\\right)^{2} \\left(a^{2} - 2 a d \\cos{\\left(\\theta_{2} \\right)} - b^{2} + d^{2}\\right)}{\\left(x^{2} + 1\\right)^{2}}$"
      ],
      "text/plain": [
       "(c**2*(4*x**2 + (x**2 - 1)**2) + 2*c*(x**2 + 1)*(-2*a*x*sin(theta2) + a*(x**2 - 1)*cos(theta2) - d*(x**2 - 1)) + (x**2 + 1)**2*(a**2 - 2*a*d*cos(theta2) - b**2 + d**2))/(x**2 + 1)**2"
      ]
     },
     "execution_count": 95,
     "metadata": {},
     "output_type": "execute_result"
    }
   ],
   "source": [
    "x = symbols('x')\n",
    "Eq4 = Eq3.subs(tan(theta4/2),x)\n",
    "Eq4 = Eq4.simplify()\n",
    "Eq4"
   ]
  },
  {
   "cell_type": "markdown",
   "metadata": {
    "slideshow": {
     "slide_type": "skip"
    }
   },
   "source": [
    "Agora, basta resolver para $x$ essa equação do segundo grau:"
   ]
  },
  {
   "cell_type": "code",
   "execution_count": 96,
   "metadata": {
    "slideshow": {
     "slide_type": "fragment"
    }
   },
   "outputs": [],
   "source": [
    "sol = solve(Eq4,x)"
   ]
  },
  {
   "cell_type": "code",
   "execution_count": 97,
   "metadata": {
    "slideshow": {
     "slide_type": "fragment"
    }
   },
   "outputs": [
    {
     "data": {
      "text/latex": [
       "$\\displaystyle \\frac{2 a c \\sin{\\left(\\theta_{2} \\right)} - \\sqrt{- a^{4} + 4 a^{3} d \\cos{\\left(\\theta_{2} \\right)} + 2 a^{2} b^{2} + 4 a^{2} c^{2} \\sin^{2}{\\left(\\theta_{2} \\right)} + 4 a^{2} c^{2} \\cos^{2}{\\left(\\theta_{2} \\right)} - 2 a^{2} c^{2} - 4 a^{2} d^{2} \\cos^{2}{\\left(\\theta_{2} \\right)} - 2 a^{2} d^{2} - 4 a b^{2} d \\cos{\\left(\\theta_{2} \\right)} - 4 a c^{2} d \\cos{\\left(\\theta_{2} \\right)} + 4 a d^{3} \\cos{\\left(\\theta_{2} \\right)} - b^{4} + 2 b^{2} c^{2} + 2 b^{2} d^{2} - c^{4} + 2 c^{2} d^{2} - d^{4}}}{a^{2} + 2 a c \\cos{\\left(\\theta_{2} \\right)} - 2 a d \\cos{\\left(\\theta_{2} \\right)} - b^{2} + c^{2} - 2 c d + d^{2}}$"
      ],
      "text/plain": [
       "(2*a*c*sin(theta2) - sqrt(-a**4 + 4*a**3*d*cos(theta2) + 2*a**2*b**2 + 4*a**2*c**2*sin(theta2)**2 + 4*a**2*c**2*cos(theta2)**2 - 2*a**2*c**2 - 4*a**2*d**2*cos(theta2)**2 - 2*a**2*d**2 - 4*a*b**2*d*cos(theta2) - 4*a*c**2*d*cos(theta2) + 4*a*d**3*cos(theta2) - b**4 + 2*b**2*c**2 + 2*b**2*d**2 - c**4 + 2*c**2*d**2 - d**4))/(a**2 + 2*a*c*cos(theta2) - 2*a*d*cos(theta2) - b**2 + c**2 - 2*c*d + d**2)"
      ]
     },
     "execution_count": 97,
     "metadata": {},
     "output_type": "execute_result"
    }
   ],
   "source": [
    "sol[0]"
   ]
  },
  {
   "cell_type": "code",
   "execution_count": 98,
   "metadata": {
    "slideshow": {
     "slide_type": "fragment"
    }
   },
   "outputs": [
    {
     "data": {
      "text/latex": [
       "$\\displaystyle \\frac{2 a c \\sin{\\left(\\theta_{2} \\right)} + \\sqrt{- a^{4} + 4 a^{3} d \\cos{\\left(\\theta_{2} \\right)} + 2 a^{2} b^{2} + 4 a^{2} c^{2} \\sin^{2}{\\left(\\theta_{2} \\right)} + 4 a^{2} c^{2} \\cos^{2}{\\left(\\theta_{2} \\right)} - 2 a^{2} c^{2} - 4 a^{2} d^{2} \\cos^{2}{\\left(\\theta_{2} \\right)} - 2 a^{2} d^{2} - 4 a b^{2} d \\cos{\\left(\\theta_{2} \\right)} - 4 a c^{2} d \\cos{\\left(\\theta_{2} \\right)} + 4 a d^{3} \\cos{\\left(\\theta_{2} \\right)} - b^{4} + 2 b^{2} c^{2} + 2 b^{2} d^{2} - c^{4} + 2 c^{2} d^{2} - d^{4}}}{a^{2} + 2 a c \\cos{\\left(\\theta_{2} \\right)} - 2 a d \\cos{\\left(\\theta_{2} \\right)} - b^{2} + c^{2} - 2 c d + d^{2}}$"
      ],
      "text/plain": [
       "(2*a*c*sin(theta2) + sqrt(-a**4 + 4*a**3*d*cos(theta2) + 2*a**2*b**2 + 4*a**2*c**2*sin(theta2)**2 + 4*a**2*c**2*cos(theta2)**2 - 2*a**2*c**2 - 4*a**2*d**2*cos(theta2)**2 - 2*a**2*d**2 - 4*a*b**2*d*cos(theta2) - 4*a*c**2*d*cos(theta2) + 4*a*d**3*cos(theta2) - b**4 + 2*b**2*c**2 + 2*b**2*d**2 - c**4 + 2*c**2*d**2 - d**4))/(a**2 + 2*a*c*cos(theta2) - 2*a*d*cos(theta2) - b**2 + c**2 - 2*c*d + d**2)"
      ]
     },
     "execution_count": 98,
     "metadata": {},
     "output_type": "execute_result"
    }
   ],
   "source": [
    "sol[1]"
   ]
  },
  {
   "cell_type": "markdown",
   "metadata": {
    "slideshow": {
     "slide_type": "skip"
    }
   },
   "source": [
    "A solução de $\\theta_4$ para a malha aberta é: "
   ]
  },
  {
   "cell_type": "code",
   "execution_count": 99,
   "metadata": {
    "scrolled": true,
    "slideshow": {
     "slide_type": "fragment"
    }
   },
   "outputs": [
    {
     "data": {
      "text/latex": [
       "$\\displaystyle 2 \\operatorname{atan}{\\left(\\frac{2 a c \\sin{\\left(\\theta_{2} \\right)} - \\sqrt{- a^{4} + 4 a^{3} d \\cos{\\left(\\theta_{2} \\right)} + 2 a^{2} b^{2} + 4 a^{2} c^{2} \\sin^{2}{\\left(\\theta_{2} \\right)} + 4 a^{2} c^{2} \\cos^{2}{\\left(\\theta_{2} \\right)} - 2 a^{2} c^{2} - 4 a^{2} d^{2} \\cos^{2}{\\left(\\theta_{2} \\right)} - 2 a^{2} d^{2} - 4 a b^{2} d \\cos{\\left(\\theta_{2} \\right)} - 4 a c^{2} d \\cos{\\left(\\theta_{2} \\right)} + 4 a d^{3} \\cos{\\left(\\theta_{2} \\right)} - b^{4} + 2 b^{2} c^{2} + 2 b^{2} d^{2} - c^{4} + 2 c^{2} d^{2} - d^{4}}}{a^{2} + 2 a c \\cos{\\left(\\theta_{2} \\right)} - 2 a d \\cos{\\left(\\theta_{2} \\right)} - b^{2} + c^{2} - 2 c d + d^{2}} \\right)}$"
      ],
      "text/plain": [
       "2*atan((2*a*c*sin(theta2) - sqrt(-a**4 + 4*a**3*d*cos(theta2) + 2*a**2*b**2 + 4*a**2*c**2*sin(theta2)**2 + 4*a**2*c**2*cos(theta2)**2 - 2*a**2*c**2 - 4*a**2*d**2*cos(theta2)**2 - 2*a**2*d**2 - 4*a*b**2*d*cos(theta2) - 4*a*c**2*d*cos(theta2) + 4*a*d**3*cos(theta2) - b**4 + 2*b**2*c**2 + 2*b**2*d**2 - c**4 + 2*c**2*d**2 - d**4))/(a**2 + 2*a*c*cos(theta2) - 2*a*d*cos(theta2) - b**2 + c**2 - 2*c*d + d**2))"
      ]
     },
     "execution_count": 99,
     "metadata": {},
     "output_type": "execute_result"
    }
   ],
   "source": [
    "theta4_1 = 2*atan(sol[0])\n",
    "theta4_1"
   ]
  },
  {
   "cell_type": "markdown",
   "metadata": {
    "slideshow": {
     "slide_type": "skip"
    }
   },
   "source": [
    "Para obter $\\theta_4$ para um dado $\\theta_2$, basta substituir os comprimentos dos elos e o $\\theta_2$ por valores numéricos. Faremos isso através de um dicionário."
   ]
  },
  {
   "cell_type": "code",
   "execution_count": 100,
   "metadata": {
    "scrolled": false,
    "slideshow": {
     "slide_type": "fragment"
    }
   },
   "outputs": [
    {
     "data": {
      "text/plain": [
       "{a: 10, b: 15, c: 15, d: 10, theta2: pi/6}"
      ]
     },
     "execution_count": 100,
     "metadata": {},
     "output_type": "execute_result"
    }
   ],
   "source": [
    "dic1"
   ]
  },
  {
   "cell_type": "code",
   "execution_count": 101,
   "metadata": {
    "slideshow": {
     "slide_type": "fragment"
    }
   },
   "outputs": [
    {
     "data": {
      "text/latex": [
       "$\\displaystyle 0.435213273165934$"
      ],
      "text/plain": [
       "0.435213273165934"
      ]
     },
     "execution_count": 101,
     "metadata": {},
     "output_type": "execute_result"
    }
   ],
   "source": [
    "theta4_1.subs(dic1).evalf()"
   ]
  },
  {
   "cell_type": "markdown",
   "metadata": {
    "slideshow": {
     "slide_type": "fragment"
    }
   },
   "source": [
    "Para obter $\\theta_3$ devemos proceder de maneira similar..."
   ]
  },
  {
   "cell_type": "code",
   "execution_count": 102,
   "metadata": {
    "slideshow": {
     "slide_type": "skip"
    }
   },
   "outputs": [
    {
     "data": {
      "text/latex": [
       "$\\displaystyle a \\cos{\\left(\\theta_{2} \\right)} + b \\cos{\\left(\\theta_{3} \\right)} - d$"
      ],
      "text/plain": [
       "a*cos(theta2) + b*cos(theta3) - d"
      ]
     },
     "execution_count": 102,
     "metadata": {},
     "output_type": "execute_result"
    }
   ],
   "source": [
    "ccostheta4 = solve(Eq_real,c*cos(theta4))[0]\n",
    "ccostheta4"
   ]
  },
  {
   "cell_type": "code",
   "execution_count": 103,
   "metadata": {
    "slideshow": {
     "slide_type": "skip"
    }
   },
   "outputs": [
    {
     "data": {
      "text/latex": [
       "$\\displaystyle a \\sin{\\left(\\theta_{2} \\right)} + b \\sin{\\left(\\theta_{3} \\right)}$"
      ],
      "text/plain": [
       "a*sin(theta2) + b*sin(theta3)"
      ]
     },
     "execution_count": 103,
     "metadata": {},
     "output_type": "execute_result"
    }
   ],
   "source": [
    "csintheta4 = solve(Eq_im,c*sin(theta4))[0]\n",
    "csintheta4"
   ]
  },
  {
   "cell_type": "code",
   "execution_count": 104,
   "metadata": {
    "slideshow": {
     "slide_type": "skip"
    }
   },
   "outputs": [
    {
     "data": {
      "text/latex": [
       "$\\displaystyle \\left(a \\sin{\\left(\\theta_{2} \\right)} + b \\sin{\\left(\\theta_{3} \\right)}\\right)^{2} + \\left(a \\cos{\\left(\\theta_{2} \\right)} + b \\cos{\\left(\\theta_{3} \\right)} - d\\right)^{2}$"
      ],
      "text/plain": [
       "(a*sin(theta2) + b*sin(theta3))**2 + (a*cos(theta2) + b*cos(theta3) - d)**2"
      ]
     },
     "execution_count": 104,
     "metadata": {},
     "output_type": "execute_result"
    }
   ],
   "source": [
    "c2 = ccostheta4**2 + csintheta4**2\n",
    "c2"
   ]
  },
  {
   "cell_type": "code",
   "execution_count": 105,
   "metadata": {
    "slideshow": {
     "slide_type": "skip"
    }
   },
   "outputs": [
    {
     "data": {
      "text/latex": [
       "$\\displaystyle a^{2} \\sin^{2}{\\left(\\theta_{2} \\right)} + a^{2} \\cos^{2}{\\left(\\theta_{2} \\right)} + 2 a b \\sin{\\left(\\theta_{2} \\right)} \\sin{\\left(\\theta_{3} \\right)} + 2 a b \\cos{\\left(\\theta_{2} \\right)} \\cos{\\left(\\theta_{3} \\right)} - 2 a d \\cos{\\left(\\theta_{2} \\right)} + b^{2} \\sin^{2}{\\left(\\theta_{3} \\right)} + b^{2} \\cos^{2}{\\left(\\theta_{3} \\right)} - 2 b d \\cos{\\left(\\theta_{3} \\right)} - c^{2} + d^{2}$"
      ],
      "text/plain": [
       "a**2*sin(theta2)**2 + a**2*cos(theta2)**2 + 2*a*b*sin(theta2)*sin(theta3) + 2*a*b*cos(theta2)*cos(theta3) - 2*a*d*cos(theta2) + b**2*sin(theta3)**2 + b**2*cos(theta3)**2 - 2*b*d*cos(theta3) - c**2 + d**2"
      ]
     },
     "execution_count": 105,
     "metadata": {},
     "output_type": "execute_result"
    }
   ],
   "source": [
    "Eq5 = (c2 - c**2).expand()\n",
    "Eq5"
   ]
  },
  {
   "cell_type": "code",
   "execution_count": 106,
   "metadata": {
    "slideshow": {
     "slide_type": "skip"
    }
   },
   "outputs": [],
   "source": [
    "mida2 = {sin(theta3):(2*tan(theta3/2))/(1+(tan(theta3/2))**2),\n",
    "        cos(theta3):(1-(tan(theta3/2))**2)/(1 +(tan(theta3/2))**2 )}"
   ]
  },
  {
   "cell_type": "code",
   "execution_count": 107,
   "metadata": {
    "slideshow": {
     "slide_type": "skip"
    }
   },
   "outputs": [
    {
     "data": {
      "text/latex": [
       "$\\displaystyle a^{2} \\sin^{2}{\\left(\\theta_{2} \\right)} + a^{2} \\cos^{2}{\\left(\\theta_{2} \\right)} + \\frac{2 a b \\left(1 - \\tan^{2}{\\left(\\frac{\\theta_{3}}{2} \\right)}\\right) \\cos{\\left(\\theta_{2} \\right)}}{\\tan^{2}{\\left(\\frac{\\theta_{3}}{2} \\right)} + 1} + \\frac{4 a b \\sin{\\left(\\theta_{2} \\right)} \\tan{\\left(\\frac{\\theta_{3}}{2} \\right)}}{\\tan^{2}{\\left(\\frac{\\theta_{3}}{2} \\right)} + 1} - 2 a d \\cos{\\left(\\theta_{2} \\right)} + \\frac{b^{2} \\left(1 - \\tan^{2}{\\left(\\frac{\\theta_{3}}{2} \\right)}\\right)^{2}}{\\left(\\tan^{2}{\\left(\\frac{\\theta_{3}}{2} \\right)} + 1\\right)^{2}} + \\frac{4 b^{2} \\tan^{2}{\\left(\\frac{\\theta_{3}}{2} \\right)}}{\\left(\\tan^{2}{\\left(\\frac{\\theta_{3}}{2} \\right)} + 1\\right)^{2}} - \\frac{2 b d \\left(1 - \\tan^{2}{\\left(\\frac{\\theta_{3}}{2} \\right)}\\right)}{\\tan^{2}{\\left(\\frac{\\theta_{3}}{2} \\right)} + 1} - c^{2} + d^{2}$"
      ],
      "text/plain": [
       "a**2*sin(theta2)**2 + a**2*cos(theta2)**2 + 2*a*b*(1 - tan(theta3/2)**2)*cos(theta2)/(tan(theta3/2)**2 + 1) + 4*a*b*sin(theta2)*tan(theta3/2)/(tan(theta3/2)**2 + 1) - 2*a*d*cos(theta2) + b**2*(1 - tan(theta3/2)**2)**2/(tan(theta3/2)**2 + 1)**2 + 4*b**2*tan(theta3/2)**2/(tan(theta3/2)**2 + 1)**2 - 2*b*d*(1 - tan(theta3/2)**2)/(tan(theta3/2)**2 + 1) - c**2 + d**2"
      ]
     },
     "execution_count": 107,
     "metadata": {},
     "output_type": "execute_result"
    }
   ],
   "source": [
    "Eq6 = Eq5.subs(mida2)\n",
    "Eq6"
   ]
  },
  {
   "cell_type": "code",
   "execution_count": 108,
   "metadata": {
    "slideshow": {
     "slide_type": "skip"
    }
   },
   "outputs": [
    {
     "data": {
      "text/latex": [
       "$\\displaystyle \\frac{b^{2} \\left(4 y^{2} + \\left(y^{2} - 1\\right)^{2}\\right) + 2 b \\left(y^{2} + 1\\right) \\left(2 a y \\sin{\\left(\\theta_{2} \\right)} - a \\left(y^{2} - 1\\right) \\cos{\\left(\\theta_{2} \\right)} + d \\left(y^{2} - 1\\right)\\right) + \\left(y^{2} + 1\\right)^{2} \\left(a^{2} - 2 a d \\cos{\\left(\\theta_{2} \\right)} - c^{2} + d^{2}\\right)}{\\left(y^{2} + 1\\right)^{2}}$"
      ],
      "text/plain": [
       "(b**2*(4*y**2 + (y**2 - 1)**2) + 2*b*(y**2 + 1)*(2*a*y*sin(theta2) - a*(y**2 - 1)*cos(theta2) + d*(y**2 - 1)) + (y**2 + 1)**2*(a**2 - 2*a*d*cos(theta2) - c**2 + d**2))/(y**2 + 1)**2"
      ]
     },
     "execution_count": 108,
     "metadata": {},
     "output_type": "execute_result"
    }
   ],
   "source": [
    "y = symbols('y')\n",
    "Eq7 = Eq6.subs(tan(theta3/2),y)\n",
    "Eq7 = Eq7.simplify()\n",
    "Eq7"
   ]
  },
  {
   "cell_type": "code",
   "execution_count": 109,
   "metadata": {
    "slideshow": {
     "slide_type": "skip"
    }
   },
   "outputs": [
    {
     "data": {
      "text/plain": [
       "[-(2*a*b*sin(theta2) - sqrt(-a**4 + 4*a**3*d*cos(theta2) + 4*a**2*b**2*sin(theta2)**2 + 4*a**2*b**2*cos(theta2)**2 - 2*a**2*b**2 + 2*a**2*c**2 - 4*a**2*d**2*cos(theta2)**2 - 2*a**2*d**2 - 4*a*b**2*d*cos(theta2) - 4*a*c**2*d*cos(theta2) + 4*a*d**3*cos(theta2) - b**4 + 2*b**2*c**2 + 2*b**2*d**2 - c**4 + 2*c**2*d**2 - d**4))/(a**2 - 2*a*b*cos(theta2) - 2*a*d*cos(theta2) + b**2 + 2*b*d - c**2 + d**2),\n",
       " -(2*a*b*sin(theta2) + sqrt(-a**4 + 4*a**3*d*cos(theta2) + 4*a**2*b**2*sin(theta2)**2 + 4*a**2*b**2*cos(theta2)**2 - 2*a**2*b**2 + 2*a**2*c**2 - 4*a**2*d**2*cos(theta2)**2 - 2*a**2*d**2 - 4*a*b**2*d*cos(theta2) - 4*a*c**2*d*cos(theta2) + 4*a*d**3*cos(theta2) - b**4 + 2*b**2*c**2 + 2*b**2*d**2 - c**4 + 2*c**2*d**2 - d**4))/(a**2 - 2*a*b*cos(theta2) - 2*a*d*cos(theta2) + b**2 + 2*b*d - c**2 + d**2)]"
      ]
     },
     "execution_count": 109,
     "metadata": {},
     "output_type": "execute_result"
    }
   ],
   "source": [
    "sol2 = solve(Eq7,y)\n",
    "sol2"
   ]
  },
  {
   "cell_type": "code",
   "execution_count": 110,
   "metadata": {
    "slideshow": {
     "slide_type": "skip"
    }
   },
   "outputs": [
    {
     "data": {
      "text/latex": [
       "$\\displaystyle - 2 \\operatorname{atan}{\\left(\\frac{2 a b \\sin{\\left(\\theta_{2} \\right)} - \\sqrt{- a^{4} + 4 a^{3} d \\cos{\\left(\\theta_{2} \\right)} + 4 a^{2} b^{2} \\sin^{2}{\\left(\\theta_{2} \\right)} + 4 a^{2} b^{2} \\cos^{2}{\\left(\\theta_{2} \\right)} - 2 a^{2} b^{2} + 2 a^{2} c^{2} - 4 a^{2} d^{2} \\cos^{2}{\\left(\\theta_{2} \\right)} - 2 a^{2} d^{2} - 4 a b^{2} d \\cos{\\left(\\theta_{2} \\right)} - 4 a c^{2} d \\cos{\\left(\\theta_{2} \\right)} + 4 a d^{3} \\cos{\\left(\\theta_{2} \\right)} - b^{4} + 2 b^{2} c^{2} + 2 b^{2} d^{2} - c^{4} + 2 c^{2} d^{2} - d^{4}}}{a^{2} - 2 a b \\cos{\\left(\\theta_{2} \\right)} - 2 a d \\cos{\\left(\\theta_{2} \\right)} + b^{2} + 2 b d - c^{2} + d^{2}} \\right)}$"
      ],
      "text/plain": [
       "-2*atan((2*a*b*sin(theta2) - sqrt(-a**4 + 4*a**3*d*cos(theta2) + 4*a**2*b**2*sin(theta2)**2 + 4*a**2*b**2*cos(theta2)**2 - 2*a**2*b**2 + 2*a**2*c**2 - 4*a**2*d**2*cos(theta2)**2 - 2*a**2*d**2 - 4*a*b**2*d*cos(theta2) - 4*a*c**2*d*cos(theta2) + 4*a*d**3*cos(theta2) - b**4 + 2*b**2*c**2 + 2*b**2*d**2 - c**4 + 2*c**2*d**2 - d**4))/(a**2 - 2*a*b*cos(theta2) - 2*a*d*cos(theta2) + b**2 + 2*b*d - c**2 + d**2))"
      ]
     },
     "execution_count": 110,
     "metadata": {},
     "output_type": "execute_result"
    }
   ],
   "source": [
    "theta3_1 = 2*atan(sol2[0])\n",
    "theta3_1"
   ]
  },
  {
   "cell_type": "code",
   "execution_count": 111,
   "metadata": {
    "slideshow": {
     "slide_type": "skip"
    }
   },
   "outputs": [
    {
     "data": {
      "text/latex": [
       "$\\displaystyle 0.0883855024323645$"
      ],
      "text/plain": [
       "0.0883855024323645"
      ]
     },
     "execution_count": 111,
     "metadata": {},
     "output_type": "execute_result"
    }
   ],
   "source": [
    "theta3_1.subs(dic1).evalf()"
   ]
  },
  {
   "cell_type": "markdown",
   "metadata": {
    "slideshow": {
     "slide_type": "skip"
    }
   },
   "source": [
    "Caso queira copiar e colar a solução de $\\theta_3$ e $\\theta_4$ para usar em outro código, use o comando str():"
   ]
  },
  {
   "cell_type": "code",
   "execution_count": 112,
   "metadata": {
    "slideshow": {
     "slide_type": "skip"
    }
   },
   "outputs": [
    {
     "data": {
      "text/plain": [
       "'-2*atan((2*a*b*sin(theta2) - sqrt(-a**4 + 4*a**3*d*cos(theta2) + 4*a**2*b**2*sin(theta2)**2 + 4*a**2*b**2*cos(theta2)**2 - 2*a**2*b**2 + 2*a**2*c**2 - 4*a**2*d**2*cos(theta2)**2 - 2*a**2*d**2 - 4*a*b**2*d*cos(theta2) - 4*a*c**2*d*cos(theta2) + 4*a*d**3*cos(theta2) - b**4 + 2*b**2*c**2 + 2*b**2*d**2 - c**4 + 2*c**2*d**2 - d**4))/(a**2 - 2*a*b*cos(theta2) - 2*a*d*cos(theta2) + b**2 + 2*b*d - c**2 + d**2))'"
      ]
     },
     "execution_count": 112,
     "metadata": {},
     "output_type": "execute_result"
    }
   ],
   "source": [
    "str(theta3_1)"
   ]
  },
  {
   "cell_type": "code",
   "execution_count": 113,
   "metadata": {
    "slideshow": {
     "slide_type": "skip"
    }
   },
   "outputs": [
    {
     "data": {
      "text/plain": [
       "'2*atan((2*a*c*sin(theta2) - sqrt(-a**4 + 4*a**3*d*cos(theta2) + 2*a**2*b**2 + 4*a**2*c**2*sin(theta2)**2 + 4*a**2*c**2*cos(theta2)**2 - 2*a**2*c**2 - 4*a**2*d**2*cos(theta2)**2 - 2*a**2*d**2 - 4*a*b**2*d*cos(theta2) - 4*a*c**2*d*cos(theta2) + 4*a*d**3*cos(theta2) - b**4 + 2*b**2*c**2 + 2*b**2*d**2 - c**4 + 2*c**2*d**2 - d**4))/(a**2 + 2*a*c*cos(theta2) - 2*a*d*cos(theta2) - b**2 + c**2 - 2*c*d + d**2))'"
      ]
     },
     "execution_count": 113,
     "metadata": {},
     "output_type": "execute_result"
    }
   ],
   "source": [
    "str(theta4_1)"
   ]
  },
  {
   "cell_type": "code",
   "execution_count": 114,
   "metadata": {},
   "outputs": [
    {
     "name": "stdout",
     "output_type": "stream",
     "text": [
      "- 2 \\operatorname{atan}{\\left(\\frac{2 a b \\sin{\\left(\\theta_{2} \\right)} - \\sqrt{- a^{4} + 4 a^{3} d \\cos{\\left(\\theta_{2} \\right)} + 4 a^{2} b^{2} \\sin^{2}{\\left(\\theta_{2} \\right)} + 4 a^{2} b^{2} \\cos^{2}{\\left(\\theta_{2} \\right)} - 2 a^{2} b^{2} + 2 a^{2} c^{2} - 4 a^{2} d^{2} \\cos^{2}{\\left(\\theta_{2} \\right)} - 2 a^{2} d^{2} - 4 a b^{2} d \\cos{\\left(\\theta_{2} \\right)} - 4 a c^{2} d \\cos{\\left(\\theta_{2} \\right)} + 4 a d^{3} \\cos{\\left(\\theta_{2} \\right)} - b^{4} + 2 b^{2} c^{2} + 2 b^{2} d^{2} - c^{4} + 2 c^{2} d^{2} - d^{4}}}{a^{2} - 2 a b \\cos{\\left(\\theta_{2} \\right)} - 2 a d \\cos{\\left(\\theta_{2} \\right)} + b^{2} + 2 b d - c^{2} + d^{2}} \\right)}\n"
     ]
    }
   ],
   "source": [
    "print(latex(theta3_1))"
   ]
  },
  {
   "cell_type": "markdown",
   "metadata": {
    "slideshow": {
     "slide_type": "slide"
    }
   },
   "source": [
    "## 4.6 Solução para Análise de Posições no Mecanismo Biela-Manivela"
   ]
  },
  {
   "cell_type": "markdown",
   "metadata": {
    "slideshow": {
     "slide_type": "subslide"
    }
   },
   "source": [
    "A mesma análise feita para o vetor laço utilizada para a junta pinada de quatro barras pode ser aplicada ao mecanismo."
   ]
  },
  {
   "cell_type": "code",
   "execution_count": 115,
   "metadata": {
    "slideshow": {
     "slide_type": "fragment"
    }
   },
   "outputs": [
    {
     "data": {
      "image/svg+xml": [
       "<svg xmlns:dc=\"http://purl.org/dc/elements/1.1/\" xmlns:cc=\"http://creativecommons.org/ns#\" xmlns:rdf=\"http://www.w3.org/1999/02/22-rdf-syntax-ns#\" xmlns:svg=\"http://www.w3.org/2000/svg\" xmlns=\"http://www.w3.org/2000/svg\" xmlns:sodipodi=\"http://sodipodi.sourceforge.net/DTD/sodipodi-0.dtd\" xmlns:inkscape=\"http://www.inkscape.org/namespaces/inkscape\" width=\"226.9158mm\" height=\"128.22804mm\" viewBox=\"0 0 226.9158 128.22804\" version=\"1.1\" id=\"svg8\" sodipodi:docname=\"figs4-8.svg\" inkscape:version=\"1.0.1 (3bc2e813f5, 2020-09-07)\">\n",
       "  <defs id=\"defs2\">\n",
       "    <marker style=\"overflow:visible;\" id=\"marker5535\" refX=\"0.0\" refY=\"0.0\" orient=\"auto\" inkscape:stockid=\"Arrow1Lend\" inkscape:isstock=\"true\">\n",
       "      <path transform=\"scale(0.8) rotate(180) translate(12.5,0)\" style=\"fill-rule:evenodd;stroke:#000000;stroke-width:1pt;stroke-opacity:1;fill:#000000;fill-opacity:1\" d=\"M 0.0,0.0 L 5.0,-5.0 L -12.5,0.0 L 5.0,5.0 L 0.0,0.0 z \" id=\"path5533\"/>\n",
       "    </marker>\n",
       "    <marker style=\"overflow:visible\" id=\"marker5423\" refX=\"0.0\" refY=\"0.0\" orient=\"auto\" inkscape:stockid=\"Arrow1Lstart\" inkscape:isstock=\"true\">\n",
       "      <path transform=\"scale(0.8) translate(12.5,0)\" style=\"fill-rule:evenodd;stroke:#000000;stroke-width:1pt;stroke-opacity:1;fill:#000000;fill-opacity:1\" d=\"M 0.0,0.0 L 5.0,-5.0 L -12.5,0.0 L 5.0,5.0 L 0.0,0.0 z \" id=\"path5421\"/>\n",
       "    </marker>\n",
       "    <marker style=\"overflow:visible;\" id=\"Arrow1Lend\" refX=\"0.0\" refY=\"0.0\" orient=\"auto\" inkscape:stockid=\"Arrow1Lend\" inkscape:isstock=\"true\">\n",
       "      <path transform=\"scale(0.8) rotate(180) translate(12.5,0)\" style=\"fill-rule:evenodd;stroke:#000000;stroke-width:1pt;stroke-opacity:1;fill:#000000;fill-opacity:1\" d=\"M 0.0,0.0 L 5.0,-5.0 L -12.5,0.0 L 5.0,5.0 L 0.0,0.0 z \" id=\"path939\"/>\n",
       "    </marker>\n",
       "    <marker style=\"overflow:visible\" id=\"marker5255\" refX=\"0\" refY=\"0\" orient=\"auto\" inkscape:stockid=\"Arrow1Lend\" inkscape:isstock=\"true\">\n",
       "      <path transform=\"matrix(-0.8,0,0,-0.8,-10,0)\" style=\"fill:#000000;fill-opacity:1;fill-rule:evenodd;stroke:#000000;stroke-width:1pt;stroke-opacity:1\" d=\"M 0,0 5,-5 -12.5,0 5,5 Z\" id=\"path5253\"/>\n",
       "    </marker>\n",
       "    <marker style=\"overflow:visible\" id=\"Arrow1Sstart\" refX=\"0.0\" refY=\"0.0\" orient=\"auto\" inkscape:stockid=\"Arrow1Sstart\" inkscape:isstock=\"true\">\n",
       "      <path transform=\"scale(0.2) translate(6,0)\" style=\"fill-rule:evenodd;stroke:#000000;stroke-width:1pt;stroke-opacity:1;fill:#000000;fill-opacity:1\" d=\"M 0.0,0.0 L 5.0,-5.0 L -12.5,0.0 L 5.0,5.0 L 0.0,0.0 z \" id=\"path948\"/>\n",
       "    </marker>\n",
       "    <marker style=\"overflow:visible\" id=\"marker1664\" refX=\"0\" refY=\"0\" orient=\"auto\" inkscape:stockid=\"Arrow1Lend\" inkscape:isstock=\"true\" inkscape:collect=\"always\">\n",
       "      <path transform=\"matrix(-0.8,0,0,-0.8,-10,0)\" style=\"fill:#000000;fill-opacity:1;fill-rule:evenodd;stroke:#000000;stroke-width:1pt;stroke-opacity:1\" d=\"M 0,0 5,-5 -12.5,0 5,5 Z\" id=\"path1662\"/>\n",
       "    </marker>\n",
       "    <marker style=\"overflow:visible\" id=\"marker1590\" refX=\"0\" refY=\"0\" orient=\"auto\" inkscape:stockid=\"Arrow1Lend\" inkscape:isstock=\"true\" inkscape:collect=\"always\">\n",
       "      <path transform=\"matrix(-0.8,0,0,-0.8,-10,0)\" style=\"fill:#000000;fill-opacity:1;fill-rule:evenodd;stroke:#000000;stroke-width:1pt;stroke-opacity:1\" d=\"M 0,0 5,-5 -12.5,0 5,5 Z\" id=\"path1588\"/>\n",
       "    </marker>\n",
       "    <marker style=\"overflow:visible\" id=\"marker1524\" refX=\"0\" refY=\"0\" orient=\"auto\" inkscape:stockid=\"Arrow1Lend\" inkscape:isstock=\"true\" inkscape:collect=\"always\">\n",
       "      <path transform=\"matrix(-0.8,0,0,-0.8,-10,0)\" style=\"fill:#000000;fill-opacity:1;fill-rule:evenodd;stroke:#000000;stroke-width:1pt;stroke-opacity:1\" d=\"M 0,0 5,-5 -12.5,0 5,5 Z\" id=\"path1522\"/>\n",
       "    </marker>\n",
       "    <marker style=\"overflow:visible\" id=\"marker1424\" refX=\"0\" refY=\"0\" orient=\"auto\" inkscape:stockid=\"Arrow1Lend\" inkscape:isstock=\"true\" inkscape:collect=\"always\">\n",
       "      <path transform=\"matrix(-0.8,0,0,-0.8,-10,0)\" style=\"fill:#000000;fill-opacity:1;fill-rule:evenodd;stroke:#000000;stroke-width:1pt;stroke-opacity:1\" d=\"M 0,0 5,-5 -12.5,0 5,5 Z\" id=\"path1422\"/>\n",
       "    </marker>\n",
       "    <marker style=\"overflow:visible\" id=\"marker1370\" refX=\"0\" refY=\"0\" orient=\"auto\" inkscape:stockid=\"Arrow1Lend\" inkscape:isstock=\"true\" inkscape:collect=\"always\">\n",
       "      <path transform=\"matrix(-0.8,0,0,-0.8,-10,0)\" style=\"fill:#000000;fill-opacity:1;fill-rule:evenodd;stroke:#000000;stroke-width:1pt;stroke-opacity:1\" d=\"M 0,0 5,-5 -12.5,0 5,5 Z\" id=\"path1368\"/>\n",
       "    </marker>\n",
       "    <marker style=\"overflow:visible\" id=\"marker1322\" refX=\"0\" refY=\"0\" orient=\"auto\" inkscape:stockid=\"Arrow1Lend\" inkscape:isstock=\"true\" inkscape:collect=\"always\">\n",
       "      <path transform=\"matrix(-0.8,0,0,-0.8,-10,0)\" style=\"fill:#000000;fill-opacity:1;fill-rule:evenodd;stroke:#000000;stroke-width:1pt;stroke-opacity:1\" d=\"M 0,0 5,-5 -12.5,0 5,5 Z\" id=\"path1320\"/>\n",
       "    </marker>\n",
       "    <marker style=\"overflow:visible\" id=\"marker1282\" refX=\"0\" refY=\"0\" orient=\"auto\" inkscape:stockid=\"Arrow1Lend\" inkscape:isstock=\"true\" inkscape:collect=\"always\">\n",
       "      <path transform=\"matrix(-0.8,0,0,-0.8,-10,0)\" style=\"fill:#000000;fill-opacity:1;fill-rule:evenodd;stroke:#000000;stroke-width:1pt;stroke-opacity:1\" d=\"M 0,0 5,-5 -12.5,0 5,5 Z\" id=\"path1280\"/>\n",
       "    </marker>\n",
       "    <marker style=\"overflow:visible\" id=\"Arrow1Lstart\" refX=\"0\" refY=\"0\" orient=\"auto\" inkscape:stockid=\"Arrow1Lstart\" inkscape:isstock=\"true\">\n",
       "      <path transform=\"matrix(0.8,0,0,0.8,10,0)\" style=\"fill:#000000;fill-opacity:1;fill-rule:evenodd;stroke:#000000;stroke-width:1pt;stroke-opacity:1\" d=\"M 0,0 5,-5 -12.5,0 5,5 Z\" id=\"path936\"/>\n",
       "    </marker>\n",
       "  </defs>\n",
       "  <sodipodi:namedview id=\"base\" pagecolor=\"#ffffff\" bordercolor=\"#666666\" borderopacity=\"1.0\" inkscape:pageopacity=\"0.0\" inkscape:pageshadow=\"2\" inkscape:zoom=\"0.9899495\" inkscape:cx=\"449.16674\" inkscape:cy=\"223.52649\" inkscape:document-units=\"mm\" inkscape:current-layer=\"layer9\" inkscape:document-rotation=\"0\" showgrid=\"false\" showborder=\"false\" inkscape:snap-object-midpoints=\"true\" showguides=\"true\" inkscape:guide-bbox=\"true\" inkscape:snap-smooth-nodes=\"false\" inkscape:window-width=\"1920\" inkscape:window-height=\"1017\" inkscape:window-x=\"-8\" inkscape:window-y=\"-8\" inkscape:window-maximized=\"1\" inkscape:snap-nodes=\"false\"/>\n",
       "  <metadata id=\"metadata5\">\n",
       "    <rdf:RDF>\n",
       "      <cc:Work rdf:about=\"\">\n",
       "        <dc:format>image/svg+xml</dc:format>\n",
       "        <dc:type rdf:resource=\"http://purl.org/dc/dcmitype/StillImage\"/>\n",
       "        <dc:title/>\n",
       "      </cc:Work>\n",
       "    </rdf:RDF>\n",
       "  </metadata>\n",
       "  <g inkscape:groupmode=\"layer\" id=\"layer9\" inkscape:label=\"Layer 2\">\n",
       "    <rect style=\"fill:#ffffff;stroke:#ffffff;stroke-width:0.865\" id=\"rect6862\" width=\"246.68977\" height=\"137.10927\" x=\"-5.6126599\" y=\"-5.6126595\"/>\n",
       "  </g>\n",
       "  <g inkscape:label=\"Layer 1\" inkscape:groupmode=\"layer\" id=\"layer1\" transform=\"translate(-68.702751,-59.104087)\">\n",
       "    <path id=\"path839\" style=\"fill:#ffffff;stroke:#000000;stroke-width:0.7;stroke-linejoin:bevel;stroke-miterlimit:4;stroke-dasharray:none\" d=\"m 96.957401,150.90931 a 8.2866174,8.2852108 0 0 0 -8.270837,8.28521 8.2866174,8.2852108 0 0 0 0,0.0158 v 14.48333 H 105.2598 v -14.49914 a 8.2866174,8.2852108 0 0 0 -8.286618,-8.28521 8.2866174,8.2852108 0 0 0 -0.01578,0 z\"/>\n",
       "    <path style=\"fill:none;stroke:#000000;stroke-width:0.7;stroke-linecap:butt;stroke-linejoin:miter;stroke-miterlimit:4;stroke-dasharray:none;stroke-opacity:1\" d=\"M 69.005847,173.69363 H 129.08382\" id=\"path850\"/>\n",
       "    <path style=\"fill:none;stroke:#000000;stroke-width:0.7;stroke-linecap:butt;stroke-linejoin:miter;stroke-miterlimit:4;stroke-dasharray:none;stroke-opacity:1\" d=\"m 69.005847,173.69363 7.774457,13.46347\" id=\"path852\"/>\n",
       "    <path style=\"fill:none;stroke:#000000;stroke-width:0.7;stroke-linecap:butt;stroke-linejoin:miter;stroke-miterlimit:4;stroke-dasharray:none;stroke-opacity:1\" d=\"m 82.678775,173.69363 7.774457,13.46347\" id=\"path854\"/>\n",
       "    <path style=\"fill:none;stroke:#000000;stroke-width:0.7;stroke-linecap:butt;stroke-linejoin:miter;stroke-miterlimit:4;stroke-dasharray:none;stroke-opacity:1\" d=\"m 95.937372,173.69363 7.774458,13.46347\" id=\"path856\"/>\n",
       "    <path style=\"fill:none;stroke:#000000;stroke-width:0.7;stroke-linecap:butt;stroke-linejoin:miter;stroke-miterlimit:4;stroke-dasharray:none;stroke-opacity:1\" d=\"m 109.6103,173.69363 7.77446,13.46347\" id=\"path858\"/>\n",
       "    <path style=\"fill:none;stroke:#000000;stroke-width:0.7;stroke-linecap:butt;stroke-linejoin:miter;stroke-miterlimit:4;stroke-dasharray:none;stroke-opacity:1\" d=\"m 123.28323,173.69363 7.77446,13.46347\" id=\"path860\"/>\n",
       "    <ellipse style=\"fill:#ffffff;stroke:#000000;stroke-width:0.7;stroke-linejoin:bevel\" id=\"path1592\" cx=\"97.018646\" cy=\"159.09558\" rx=\"2.8965883\" ry=\"2.8960967\"/>\n",
       "    <g id=\"g932\" transform=\"matrix(0.7829875,0,0,0.78285459,196.20944,-45.77317)\" style=\"stroke-width:1.27727\">\n",
       "      <path style=\"fill:none;stroke:#000000;stroke-width:0.894088;stroke-linecap:butt;stroke-linejoin:miter;stroke-miterlimit:4;stroke-dasharray:none;stroke-opacity:1\" d=\"M 12.658886,206.80346 H 89.388052\" id=\"path914\"/>\n",
       "      <path style=\"fill:none;stroke:#000000;stroke-width:0.894088;stroke-linecap:butt;stroke-linejoin:miter;stroke-miterlimit:4;stroke-dasharray:none;stroke-opacity:1\" d=\"m 12.658886,206.80346 9.929222,17.19792\" id=\"path916\"/>\n",
       "      <path style=\"fill:none;stroke:#000000;stroke-width:0.894088;stroke-linecap:butt;stroke-linejoin:miter;stroke-miterlimit:4;stroke-dasharray:none;stroke-opacity:1\" d=\"m 30.121397,206.80346 9.929222,17.19792\" id=\"path918\"/>\n",
       "      <path style=\"fill:none;stroke:#000000;stroke-width:0.894088;stroke-linecap:butt;stroke-linejoin:miter;stroke-miterlimit:4;stroke-dasharray:none;stroke-opacity:1\" d=\"m 47.054741,206.80346 9.929222,17.19792\" id=\"path920\"/>\n",
       "      <path style=\"fill:none;stroke:#000000;stroke-width:0.894088;stroke-linecap:butt;stroke-linejoin:miter;stroke-miterlimit:4;stroke-dasharray:none;stroke-opacity:1\" d=\"m 64.517252,206.80346 9.929222,17.19792\" id=\"path922\"/>\n",
       "      <path style=\"fill:none;stroke:#000000;stroke-width:0.894088;stroke-linecap:butt;stroke-linejoin:miter;stroke-miterlimit:4;stroke-dasharray:none;stroke-opacity:1\" d=\"m 81.979763,206.80346 9.92923,17.19792\" id=\"path924\"/>\n",
       "    </g>\n",
       "    <ellipse style=\"fill:#ffffff;stroke:#000000;stroke-width:0.7;stroke-linejoin:bevel\" id=\"circle1264\" cx=\"129.7794\" cy=\"122.59937\" rx=\"2.8965883\" ry=\"2.8960967\"/>\n",
       "    <path style=\"fill:none;stroke:#000000;stroke-width:0.265;stroke-linecap:butt;stroke-linejoin:miter;stroke-miterlimit:4;stroke-dasharray:none;stroke-opacity:1;marker-start:url(#marker5423);marker-end:url(#marker5535)\" d=\"M 293.3824,159.09558 H 97.018644 V 62.084861\" id=\"path934\"/>\n",
       "    <rect style=\"fill:#ffffff;stroke:#000000;stroke-width:0.665;stroke-linejoin:bevel;stroke-miterlimit:4;stroke-dasharray:none\" id=\"rect1250\" width=\"33.076664\" height=\"19.859892\" x=\"219.79411\" y=\"96.263969\"/>\n",
       "    <ellipse style=\"fill:#ffffff;stroke:#000000;stroke-width:0.7;stroke-linejoin:bevel\" id=\"circle1266\" cx=\"236.33244\" cy=\"106.19392\" rx=\"2.8965883\" ry=\"2.8960967\"/>\n",
       "    <path style=\"fill:none;stroke:#000000;stroke-width:0.765;stroke-linecap:butt;stroke-linejoin:miter;stroke-miterlimit:4;stroke-dasharray:none;stroke-opacity:1;marker-end:url(#marker1322)\" d=\"M 97.018644,159.09558 129.7794,122.59936\" id=\"path1268\"/>\n",
       "    <path style=\"fill:none;stroke:#000000;stroke-width:0.765;stroke-linecap:butt;stroke-linejoin:miter;stroke-miterlimit:4;stroke-dasharray:none;stroke-opacity:1;marker-end:url(#marker1282)\" d=\"M 129.7794,122.59936 236.33245,106.19392\" id=\"path1270\"/>\n",
       "    <path style=\"fill:none;stroke:#000000;stroke-width:0.765;stroke-linecap:butt;stroke-linejoin:miter;stroke-miterlimit:4;stroke-dasharray:none;stroke-opacity:1;marker-end:url(#marker1370)\" d=\"M 97.018644,159.09558 H 236.33244\" id=\"path1360\"/>\n",
       "    <path style=\"fill:none;stroke:#000000;stroke-width:0.765;stroke-linecap:butt;stroke-linejoin:miter;stroke-miterlimit:4;stroke-dasharray:none;stroke-opacity:1;marker-end:url(#marker1424)\" d=\"m 236.33244,159.09558 1e-5,-52.90166\" id=\"path1414\"/>\n",
       "    <path style=\"fill:none;stroke:#000000;stroke-width:0.264583;stroke-linecap:butt;stroke-linejoin:miter;stroke-miterlimit:4;stroke-dasharray:2.11666, 2.11666;stroke-dashoffset:0;stroke-opacity:1\" d=\"m 236.33245,106.19392 h 39.48456\" id=\"path1474\"/>\n",
       "    <text xml:space=\"preserve\" style=\"font-size:6.07633px;line-height:1.25;font-family:sans-serif;-inkscape-font-specification:sans-serif;stroke-width:0.264583\" x=\"89.542496\" y=\"63.538773\" id=\"text1478\" transform=\"scale(1.0000849,0.99991512)\"><tspan sodipodi:role=\"line\" id=\"tspan1476\" x=\"89.542496\" y=\"63.538773\" style=\"stroke-width:0.264583\">Y</tspan></text>\n",
       "    <text xml:space=\"preserve\" style=\"font-size:6.07633px;line-height:1.25;font-family:sans-serif;-inkscape-font-specification:sans-serif;stroke-width:0.264583\" x=\"291.6207\" y=\"167.1553\" id=\"text1482\" transform=\"scale(1.0000849,0.99991512)\"><tspan sodipodi:role=\"line\" id=\"tspan1480\" x=\"291.6207\" y=\"167.1553\" style=\"stroke-width:0.264583\">X</tspan></text>\n",
       "    <g id=\"g1490\" style=\"stroke-width:0.766361;stroke-miterlimit:4;stroke-dasharray:none\" transform=\"matrix(0.7829875,0,0,0.78285459,133.61675,73.713088)\">\n",
       "      <ellipse style=\"fill:#ffffff;stroke:#000000;stroke-width:0.766361;stroke-linejoin:bevel;stroke-miterlimit:4;stroke-dasharray:none;stroke-dashoffset:0\" id=\"path1484\" cx=\"-8.070385\" cy=\"94.949799\" rx=\"2.6678991\" ry=\"4.3125429\"/>\n",
       "      <path style=\"fill:none;stroke:#000000;stroke-width:0.766361;stroke-linecap:butt;stroke-linejoin:miter;stroke-miterlimit:4;stroke-dasharray:none;stroke-opacity:1\" d=\"m -10.738284,94.949797 h 5.3357983\" id=\"path1486\"/>\n",
       "    </g>\n",
       "    <text xml:space=\"preserve\" style=\"font-size:7.78804px;line-height:1.25;font-family:sans-serif;-inkscape-font-specification:sans-serif;stroke-width:0.264583\" x=\"90.763702\" y=\"168.94272\" id=\"text1494\" transform=\"scale(1.0000849,0.99991512)\"><tspan sodipodi:role=\"line\" id=\"tspan1492\" x=\"90.763702\" y=\"168.94272\" style=\"stroke-width:0.264583\">O<tspan style=\"font-size:5.06223px;baseline-shift:sub;stroke-width:0.264583\" id=\"tspan1496\">2</tspan></tspan></text>\n",
       "    <text xml:space=\"preserve\" style=\"font-size:6.07633px;line-height:1.25;font-family:sans-serif;-inkscape-font-specification:sans-serif;stroke-width:0.264583\" x=\"107.08239\" y=\"140.46381\" id=\"text1500\" transform=\"scale(1.0000849,0.99991512)\"><tspan sodipodi:role=\"line\" id=\"tspan1498\" x=\"107.08239\" y=\"140.46381\" style=\"stroke-width:0.264583\">a</tspan></text>\n",
       "    <text xml:space=\"preserve\" style=\"font-size:6.07633px;line-height:1.25;font-family:sans-serif;-inkscape-font-specification:sans-serif;stroke-width:0.264583\" x=\"163.82597\" y=\"113.86725\" id=\"text1504\" transform=\"scale(1.0000849,0.99991512)\"><tspan sodipodi:role=\"line\" id=\"tspan1502\" x=\"163.82597\" y=\"113.86725\" style=\"stroke-width:0.264583\">b</tspan></text>\n",
       "    <text xml:space=\"preserve\" style=\"font-size:6.07633px;line-height:1.25;font-family:sans-serif;-inkscape-font-specification:sans-serif;stroke-width:0.264583\" x=\"231.89894\" y=\"139.80795\" id=\"text1508\" transform=\"scale(1.0000849,0.99991512)\"><tspan sodipodi:role=\"line\" id=\"tspan1506\" x=\"231.89894\" y=\"139.80795\" style=\"stroke-width:0.264583\">c</tspan></text>\n",
       "    <text xml:space=\"preserve\" style=\"font-size:6.07633px;line-height:1.25;font-family:sans-serif;-inkscape-font-specification:sans-serif;stroke-width:0.264583\" x=\"174.91075\" y=\"156.45781\" id=\"text1512\" transform=\"scale(1.0000849,0.99991512)\"><tspan sodipodi:role=\"line\" id=\"tspan1510\" x=\"174.91075\" y=\"156.45781\" style=\"stroke-width:0.264583\">d</tspan></text>\n",
       "    <path style=\"fill:none;stroke:#000000;stroke-width:0.264583px;stroke-linecap:butt;stroke-linejoin:miter;stroke-opacity:1;marker-end:url(#marker1524)\" d=\"m 123.42736,159.12284 c 0.0668,-6.71226 -0.46079,-13.38347 -9.21293,-19.48691\" id=\"path1514\" sodipodi:nodetypes=\"cc\"/>\n",
       "    <path style=\"fill:none;stroke:#000000;stroke-width:0.264583px;stroke-linecap:butt;stroke-linejoin:miter;stroke-opacity:1;marker-end:url(#marker1590)\" d=\"m 252.32881,158.97834 c -0.50741,-12.04708 -6.78225,-18.09292 -15.99637,-21.08032\" id=\"path1580\" sodipodi:nodetypes=\"cc\"/>\n",
       "    <path style=\"fill:none;stroke:#000000;stroke-width:0.264583px;stroke-linecap:butt;stroke-linejoin:miter;stroke-opacity:1;marker-end:url(#marker1664)\" d=\"m 264.77974,105.9586 c -0.50557,-3.78571 -0.90744,-7.775171 -2.25725,-10.865914 -4.14226,-9.484799 -14.18914,-17.505306 -26.36753,-17.403009 -7.01957,0.05897 -11.62397,2.290587 -16.38736,5.484447 -8.71469,5.843209 -13.14631,16.431837 -11.57731,27.379396\" id=\"path1654\" sodipodi:nodetypes=\"csssc\"/>\n",
       "    <g id=\"g1736\" style=\"stroke-width:0.766361;stroke-miterlimit:4;stroke-dasharray:none\" transform=\"matrix(0.7829875,0,0,0.78285459,261.10701,72.008982)\">\n",
       "      <ellipse style=\"fill:#ffffff;stroke:#000000;stroke-width:0.766361;stroke-linejoin:bevel;stroke-miterlimit:4;stroke-dasharray:none;stroke-dashoffset:0\" id=\"ellipse1732\" cx=\"-8.070385\" cy=\"94.949799\" rx=\"2.6678991\" ry=\"4.3125429\"/>\n",
       "      <path style=\"fill:none;stroke:#000000;stroke-width:0.766361;stroke-linecap:butt;stroke-linejoin:miter;stroke-miterlimit:4;stroke-dasharray:none;stroke-opacity:1\" d=\"m -10.738284,94.949797 h 5.3357983\" id=\"path1734\"/>\n",
       "    </g>\n",
       "    <g id=\"g1742\" style=\"stroke-width:0.766361;stroke-miterlimit:4;stroke-dasharray:none\" transform=\"matrix(0.7829875,0,0,0.78285459,220.0951,2.1577418)\">\n",
       "      <ellipse style=\"fill:#ffffff;stroke:#000000;stroke-width:0.766361;stroke-linejoin:bevel;stroke-miterlimit:4;stroke-dasharray:none;stroke-dashoffset:0\" id=\"ellipse1738\" cx=\"-8.070385\" cy=\"94.949799\" rx=\"2.6678991\" ry=\"4.3125429\"/>\n",
       "      <path style=\"fill:none;stroke:#000000;stroke-width:0.766361;stroke-linecap:butt;stroke-linejoin:miter;stroke-miterlimit:4;stroke-dasharray:none;stroke-opacity:1\" d=\"m -10.738284,94.949797 h 5.3357983\" id=\"path1740\"/>\n",
       "    </g>\n",
       "    <text xml:space=\"preserve\" style=\"font-size:6.07633px;line-height:1.25;font-family:sans-serif;-inkscape-font-specification:sans-serif;stroke-width:0.264583\" x=\"129.57603\" y=\"153.82426\" id=\"text1750\" transform=\"scale(1.0000849,0.99991512)\"><tspan sodipodi:role=\"line\" id=\"tspan1748\" x=\"129.57603\" y=\"153.82426\" style=\"stroke-width:0.264583\">2</tspan></text>\n",
       "    <text xml:space=\"preserve\" style=\"font-size:6.07633px;line-height:1.25;font-family:sans-serif;-inkscape-font-specification:sans-serif;stroke-width:0.264583\" x=\"256.97369\" y=\"151.87671\" id=\"text1754\" transform=\"scale(1.0000849,0.99991512)\"><tspan sodipodi:role=\"line\" id=\"tspan1752\" x=\"256.97369\" y=\"151.87671\" style=\"stroke-width:0.264583\">4</tspan></text>\n",
       "    <text xml:space=\"preserve\" style=\"font-size:6.07633px;line-height:1.25;font-family:sans-serif;-inkscape-font-specification:sans-serif;stroke-width:0.264583\" x=\"215.72495\" y=\"82.286003\" id=\"text1758\" transform=\"scale(1.0000849,0.99991512)\"><tspan sodipodi:role=\"line\" id=\"tspan1756\" x=\"215.72495\" y=\"82.286003\" style=\"stroke-width:0.264583\">3</tspan></text>\n",
       "    <text xml:space=\"preserve\" style=\"font-size:9.32858px;line-height:1.25;font-family:sans-serif;-inkscape-font-specification:sans-serif;stroke-width:0.264583\" x=\"127.68673\" y=\"117.22151\" id=\"text1762\" transform=\"scale(1.0000849,0.99991512)\"><tspan sodipodi:role=\"line\" id=\"tspan1760\" x=\"127.68673\" y=\"117.22151\" style=\"stroke-width:0.264583\">A</tspan></text>\n",
       "    <text xml:space=\"preserve\" style=\"font-size:9.32858px;line-height:1.25;font-family:sans-serif;-inkscape-font-specification:sans-serif;stroke-width:0.264583\" x=\"241.32547\" y=\"104.12556\" id=\"text1766\" transform=\"scale(1.0000849,0.99991512)\"><tspan sodipodi:role=\"line\" id=\"tspan1764\" x=\"241.32547\" y=\"104.12556\" style=\"stroke-width:0.264583\">B</tspan></text>\n",
       "    <text xml:space=\"preserve\" style=\"font-size:8.97713px;line-height:1.25;font-family:sans-serif;-inkscape-font-specification:sans-serif;stroke-width:0.264583\" x=\"166.64856\" y=\"170.26924\" id=\"text1770\" transform=\"scale(1.0000849,0.99991512)\"><tspan sodipodi:role=\"line\" id=\"tspan1768\" x=\"166.64856\" y=\"170.26924\" style=\"stroke-width:0.264583\">R<tspan style=\"font-size:5.83513px;baseline-shift:sub;stroke-width:0.264583\" id=\"tspan1772\">1</tspan></tspan></text>\n",
       "    <text xml:space=\"preserve\" style=\"font-size:8.97713px;line-height:1.25;font-family:sans-serif;-inkscape-font-specification:sans-serif;stroke-width:0.264583\" x=\"109.95837\" y=\"153.45302\" id=\"text1778\" transform=\"scale(1.0000849,0.99991512)\"><tspan sodipodi:role=\"line\" id=\"tspan1776\" x=\"109.95837\" y=\"153.45302\" style=\"stroke-width:0.264583\">R<tspan style=\"font-size:5.83513px;baseline-shift:sub;stroke-width:0.264583\" id=\"tspan1792\">2</tspan></tspan></text>\n",
       "    <text xml:space=\"preserve\" style=\"font-size:8.97713px;line-height:1.25;font-family:sans-serif;-inkscape-font-specification:sans-serif;stroke-width:0.264583\" x=\"172.6469\" y=\"124.82064\" id=\"text1784\" transform=\"scale(1.0000849,0.99991512)\"><tspan sodipodi:role=\"line\" id=\"tspan1782\" x=\"172.6469\" y=\"124.82064\" style=\"stroke-width:0.264583\">R<tspan style=\"font-size:5.83513px;baseline-shift:sub;stroke-width:0.264583\" id=\"tspan1794\">3</tspan></tspan></text>\n",
       "    <text xml:space=\"preserve\" style=\"font-size:8.97713px;line-height:1.25;font-family:sans-serif;-inkscape-font-specification:sans-serif;stroke-width:0.264583\" x=\"242.33022\" y=\"137.96422\" id=\"text1790\" transform=\"scale(1.0000849,0.99991512)\"><tspan sodipodi:role=\"line\" id=\"tspan1788\" x=\"242.33022\" y=\"137.96422\" style=\"stroke-width:0.264583\">R<tspan style=\"font-size:5.83513px;baseline-shift:sub;stroke-width:0.264583\" id=\"tspan1796\">4</tspan></tspan></text>\n",
       "  </g>\n",
       "</svg>"
      ],
      "text/plain": [
       "<IPython.core.display.SVG object>"
      ]
     },
     "execution_count": 115,
     "metadata": {},
     "output_type": "execute_result"
    }
   ],
   "source": [
    "SVG('figs4-8.svg')"
   ]
  },
  {
   "cell_type": "markdown",
   "metadata": {
    "slideshow": {
     "slide_type": "fragment"
    }
   },
   "source": [
    "$$\\vec{R}_2 + \\vec{R}_3 - \\vec{R}_4 - \\vec{R}_1 = 0$$"
   ]
  },
  {
   "cell_type": "code",
   "execution_count": 116,
   "metadata": {
    "slideshow": {
     "slide_type": "fragment"
    }
   },
   "outputs": [],
   "source": [
    "R2 = a*e**(i*theta2)\n",
    "R3 = b*e**(i*theta3)\n",
    "R4 = c*e**(i*theta4)\n",
    "R1 = d*e**(i*theta1)"
   ]
  },
  {
   "cell_type": "code",
   "execution_count": 117,
   "metadata": {
    "slideshow": {
     "slide_type": "fragment"
    }
   },
   "outputs": [
    {
     "data": {
      "text/latex": [
       "$\\displaystyle a e^{i \\theta_{2}} - b e^{i \\theta_{3}} - c e^{i \\theta_{4}} - d e^{i \\theta_{1}}$"
      ],
      "text/plain": [
       "a*exp(I*theta2) - b*exp(I*theta3) - c*exp(I*theta4) - d*exp(I*theta1)"
      ]
     },
     "execution_count": 117,
     "metadata": {},
     "output_type": "execute_result"
    }
   ],
   "source": [
    "eq1 = R2 - R3 - R4 - R1\n",
    "eq1"
   ]
  },
  {
   "cell_type": "markdown",
   "metadata": {
    "slideshow": {
     "slide_type": "fragment"
    }
   },
   "source": [
    "Observa-se que $\\theta_1 = 0$ e $\\theta_4 = 90^{\\circ}$"
   ]
  },
  {
   "cell_type": "code",
   "execution_count": 118,
   "metadata": {
    "slideshow": {
     "slide_type": "fragment"
    }
   },
   "outputs": [
    {
     "data": {
      "text/latex": [
       "$\\displaystyle a e^{i \\theta_{2}} - b e^{i \\theta_{3}} - i c - d$"
      ],
      "text/plain": [
       "a*exp(I*theta2) - b*exp(I*theta3) - I*c - d"
      ]
     },
     "execution_count": 118,
     "metadata": {},
     "output_type": "execute_result"
    }
   ],
   "source": [
    "eq1 = eq1.subs(theta1,0)\n",
    "eq1 = eq1.subs(theta4,pi/2)\n",
    "eq1"
   ]
  },
  {
   "cell_type": "code",
   "execution_count": 119,
   "metadata": {
    "slideshow": {
     "slide_type": "fragment"
    }
   },
   "outputs": [
    {
     "data": {
      "text/latex": [
       "$\\displaystyle i a \\sin{\\left(\\theta_{2} \\right)} + a \\cos{\\left(\\theta_{2} \\right)} - i b \\sin{\\left(\\theta_{3} \\right)} - b \\cos{\\left(\\theta_{3} \\right)} - i c - d$"
      ],
      "text/plain": [
       "I*a*sin(theta2) + a*cos(theta2) - I*b*sin(theta3) - b*cos(theta3) - I*c - d"
      ]
     },
     "execution_count": 119,
     "metadata": {},
     "output_type": "execute_result"
    }
   ],
   "source": [
    "eq2 = eq1.subs(id_euler).expand()\n",
    "eq2"
   ]
  },
  {
   "cell_type": "code",
   "execution_count": 120,
   "metadata": {
    "slideshow": {
     "slide_type": "fragment"
    }
   },
   "outputs": [
    {
     "data": {
      "text/latex": [
       "$\\displaystyle a \\cos{\\left(\\theta_{2} \\right)} - b \\cos{\\left(\\theta_{3} \\right)} - d$"
      ],
      "text/plain": [
       "a*cos(theta2) - b*cos(theta3) - d"
      ]
     },
     "execution_count": 120,
     "metadata": {},
     "output_type": "execute_result"
    }
   ],
   "source": [
    "eq2_real = eq2.subs(i,0)\n",
    "eq2_real"
   ]
  },
  {
   "cell_type": "code",
   "execution_count": 121,
   "metadata": {
    "slideshow": {
     "slide_type": "fragment"
    }
   },
   "outputs": [
    {
     "data": {
      "text/latex": [
       "$\\displaystyle a \\sin{\\left(\\theta_{2} \\right)} - b \\sin{\\left(\\theta_{3} \\right)} - c$"
      ],
      "text/plain": [
       "a*sin(theta2) - b*sin(theta3) - c"
      ]
     },
     "execution_count": 121,
     "metadata": {},
     "output_type": "execute_result"
    }
   ],
   "source": [
    "eq2_im = (eq2 - eq2_real).subs(i,1)\n",
    "eq2_im"
   ]
  },
  {
   "cell_type": "code",
   "execution_count": 122,
   "metadata": {
    "slideshow": {
     "slide_type": "fragment"
    }
   },
   "outputs": [
    {
     "data": {
      "text/plain": [
       "[pi - asin((a*sin(theta2) - c)/b), asin((a*sin(theta2) - c)/b)]"
      ]
     },
     "execution_count": 122,
     "metadata": {},
     "output_type": "execute_result"
    }
   ],
   "source": [
    "th3 = solve(eq2_im,theta3)\n",
    "th3"
   ]
  },
  {
   "cell_type": "markdown",
   "metadata": {
    "slideshow": {
     "slide_type": "fragment"
    }
   },
   "source": [
    "Note que existem novamente duas soluções correspondentes aos dois circuitos do mecanismo. A função *arco seno* possui duas soluções."
   ]
  },
  {
   "cell_type": "code",
   "execution_count": 123,
   "metadata": {
    "slideshow": {
     "slide_type": "fragment"
    }
   },
   "outputs": [
    {
     "data": {
      "text/latex": [
       "$\\displaystyle \\operatorname{asin}{\\left(\\frac{a \\sin{\\left(\\theta_{2} \\right)} - c}{b} \\right)}$"
      ],
      "text/plain": [
       "asin((a*sin(theta2) - c)/b)"
      ]
     },
     "execution_count": 123,
     "metadata": {},
     "output_type": "execute_result"
    }
   ],
   "source": [
    "th3 = th3[1]\n",
    "th3"
   ]
  },
  {
   "cell_type": "code",
   "execution_count": 124,
   "metadata": {
    "slideshow": {
     "slide_type": "fragment"
    }
   },
   "outputs": [
    {
     "data": {
      "text/plain": [
       "[a*cos(theta2) - b*cos(theta3)]"
      ]
     },
     "execution_count": 124,
     "metadata": {},
     "output_type": "execute_result"
    }
   ],
   "source": [
    "dsol = solve(eq2_real,d)\n",
    "dsol"
   ]
  },
  {
   "cell_type": "code",
   "execution_count": 125,
   "metadata": {
    "slideshow": {
     "slide_type": "fragment"
    }
   },
   "outputs": [
    {
     "data": {
      "text/latex": [
       "$\\displaystyle a \\cos{\\left(\\theta_{2} \\right)} - b \\cos{\\left(\\theta_{3} \\right)}$"
      ],
      "text/plain": [
       "a*cos(theta2) - b*cos(theta3)"
      ]
     },
     "execution_count": 125,
     "metadata": {},
     "output_type": "execute_result"
    }
   ],
   "source": [
    "dsol = dsol[0]\n",
    "dsol"
   ]
  },
  {
   "cell_type": "code",
   "execution_count": 126,
   "metadata": {
    "slideshow": {
     "slide_type": "fragment"
    }
   },
   "outputs": [
    {
     "data": {
      "text/latex": [
       "$\\displaystyle a \\cos{\\left(\\theta_{2} \\right)} - b \\sqrt{1 - \\frac{\\left(a \\sin{\\left(\\theta_{2} \\right)} - c\\right)^{2}}{b^{2}}}$"
      ],
      "text/plain": [
       "a*cos(theta2) - b*sqrt(1 - (a*sin(theta2) - c)**2/b**2)"
      ]
     },
     "execution_count": 126,
     "metadata": {},
     "output_type": "execute_result"
    }
   ],
   "source": [
    "dsol = dsol.subs(theta3,th3)\n",
    "dsol"
   ]
  },
  {
   "cell_type": "markdown",
   "metadata": {
    "slideshow": {
     "slide_type": "slide"
    }
   },
   "source": [
    "## 4.7 Ângulos de Transmissão"
   ]
  },
  {
   "cell_type": "markdown",
   "metadata": {
    "slideshow": {
     "slide_type": "subslide"
    }
   },
   "source": [
    "O ângulo de transmissão $\\mu$ é definido como o *ângulo entre o elo de saída e o acoplador*. <br>\n",
    "Iremos expandir essa definição para representar o ângulo entre quaisquer elos em um mecanismo.  -> O ângulo entre qualquer elo de saída e o acoplador que o movimenta é um ângulo de transmissão. \n",
    "<br>\n",
    "Agora que desenvolvemos as expressões analíticas para os ângulos de todos os elos do mecanismo, fica fácil determinar algebricamente o ângulo de transmissão. Ele é apenas a diferença entre os ângulos dos dois elos.<br>\n",
    "Por convenção, tomamos o valor absoluto da diferença e o forçamos a ser um ângulo agudo. \n",
    "$$\\theta_{trans} = | \\theta_3 - \\theta_4 |$$\n",
    "se $\\theta_{trans} > \\pi/2$ então $\\mu = \\pi - \\theta_{trans}$ caso contrário $\\mu = \\theta_{trans}$"
   ]
  },
  {
   "cell_type": "code",
   "execution_count": 127,
   "metadata": {
    "slideshow": {
     "slide_type": "fragment"
    }
   },
   "outputs": [],
   "source": [
    "def ang_trans(th3,th4):\n",
    "    th_trans = abs(th3 - th4)\n",
    "    pi = 3.14159265358979\n",
    "    if th_trans > (pi)/2:\n",
    "        return pi - th_trans\n",
    "    else:\n",
    "        return th_trans"
   ]
  },
  {
   "cell_type": "markdown",
   "metadata": {
    "slideshow": {
     "slide_type": "fragment"
    }
   },
   "source": [
    "Esse cálculo pode ser feito para qualquer junta de um mecanismo, utilizando os ângulos dos elos apropriados."
   ]
  },
  {
   "cell_type": "markdown",
   "metadata": {
    "slideshow": {
     "slide_type": "subslide"
    }
   },
   "source": [
    "### Valores extremos do ângulo de transmissão\n",
    "Para um mecanismo manivela de quatro barras de Grashof, o valor mínimo do ângulo de transmissão ocorrerá quando a manivela for colinear ao elo terra. Os valores do ângulo de transmissão nessas posições são facilmente calculados pela lei dos cossenos. <br>\n",
    "Dependendo da geometria do mecanismo, o valor mínimo de transmissão $\\mu_{min}$ poderá ocorrer quando os elos 1 e 2 forem colineares e sobrepostos, ou quando os elos 1 e 2 forem colineares e não sobrepostos."
   ]
  },
  {
   "cell_type": "code",
   "execution_count": 128,
   "metadata": {
    "slideshow": {
     "slide_type": "fragment"
    }
   },
   "outputs": [
    {
     "data": {
      "image/svg+xml": [
       "<svg xmlns:dc=\"http://purl.org/dc/elements/1.1/\" xmlns:cc=\"http://creativecommons.org/ns#\" xmlns:rdf=\"http://www.w3.org/1999/02/22-rdf-syntax-ns#\" xmlns:svg=\"http://www.w3.org/2000/svg\" xmlns=\"http://www.w3.org/2000/svg\" xmlns:sodipodi=\"http://sodipodi.sourceforge.net/DTD/sodipodi-0.dtd\" xmlns:inkscape=\"http://www.inkscape.org/namespaces/inkscape\" width=\"247.34225mm\" height=\"92.158066mm\" viewBox=\"0 0 247.34225 92.158065\" version=\"1.1\" id=\"svg2283\" inkscape:version=\"1.0.1 (3bc2e813f5, 2020-09-07)\" sodipodi:docname=\"figs4-9.svg\">\n",
       "  <defs id=\"defs2277\">\n",
       "    <marker style=\"overflow:visible;\" id=\"marker4991\" refX=\"0.0\" refY=\"0.0\" orient=\"auto\" inkscape:stockid=\"Arrow1Lend\" inkscape:isstock=\"true\">\n",
       "      <path transform=\"scale(0.8) rotate(180) translate(12.5,0)\" style=\"fill-rule:evenodd;stroke:#000000;stroke-width:1pt;stroke-opacity:1;fill:#000000;fill-opacity:1\" d=\"M 0.0,0.0 L 5.0,-5.0 L -12.5,0.0 L 5.0,5.0 L 0.0,0.0 z \" id=\"path4989\"/>\n",
       "    </marker>\n",
       "    <marker style=\"overflow:visible\" id=\"marker4885\" refX=\"0\" refY=\"0\" orient=\"auto\" inkscape:stockid=\"Arrow1Lstart\" inkscape:isstock=\"true\">\n",
       "      <path transform=\"matrix(0.8,0,0,0.8,10,0)\" style=\"fill:#000000;fill-opacity:1;fill-rule:evenodd;stroke:#000000;stroke-width:1pt;stroke-opacity:1\" d=\"M 0,0 5,-5 -12.5,0 5,5 Z\" id=\"path4883\"/>\n",
       "    </marker>\n",
       "    <marker style=\"overflow:visible\" id=\"Arrow1Mstart\" refX=\"0.0\" refY=\"0.0\" orient=\"auto\" inkscape:stockid=\"Arrow1Mstart\" inkscape:isstock=\"true\">\n",
       "      <path transform=\"scale(0.4) translate(10,0)\" style=\"fill-rule:evenodd;stroke:#000000;stroke-width:1pt;stroke-opacity:1;fill:#000000;fill-opacity:1\" d=\"M 0.0,0.0 L 5.0,-5.0 L -12.5,0.0 L 5.0,5.0 L 0.0,0.0 z \" id=\"path942\"/>\n",
       "    </marker>\n",
       "    <inkscape:path-effect effect=\"spiro\" id=\"path-effect4340\" is_visible=\"true\" lpeversion=\"1\"/>\n",
       "    <inkscape:path-effect effect=\"simplify\" id=\"path-effect4338\" is_visible=\"true\" lpeversion=\"1\" steps=\"1\" threshold=\"0.00243902\" smooth_angles=\"360\" helper_size=\"0\" simplify_individual_paths=\"false\" simplify_just_coalesce=\"false\"/>\n",
       "    <inkscape:path-effect effect=\"spiro\" id=\"path-effect4329\" is_visible=\"true\" lpeversion=\"1\"/>\n",
       "    <inkscape:path-effect effect=\"simplify\" id=\"path-effect4327\" is_visible=\"true\" lpeversion=\"1\" steps=\"1\" threshold=\"0.00243902\" smooth_angles=\"360\" helper_size=\"0\" simplify_individual_paths=\"false\" simplify_just_coalesce=\"false\"/>\n",
       "    <inkscape:path-effect effect=\"spiro\" id=\"path-effect4323\" is_visible=\"true\" lpeversion=\"1\"/>\n",
       "    <inkscape:path-effect effect=\"simplify\" id=\"path-effect4321\" is_visible=\"true\" lpeversion=\"1\" steps=\"1\" threshold=\"0.00243902\" smooth_angles=\"360\" helper_size=\"0\" simplify_individual_paths=\"false\" simplify_just_coalesce=\"false\"/>\n",
       "    <inkscape:path-effect effect=\"simplify\" id=\"path-effect4315\" is_visible=\"true\" lpeversion=\"1\" steps=\"1\" threshold=\"0.00243902\" smooth_angles=\"360\" helper_size=\"0\" simplify_individual_paths=\"false\" simplify_just_coalesce=\"false\"/>\n",
       "    <inkscape:path-effect effect=\"spiro\" id=\"path-effect4311\" is_visible=\"true\" lpeversion=\"1\"/>\n",
       "    <inkscape:path-effect effect=\"simplify\" id=\"path-effect4309\" is_visible=\"true\" lpeversion=\"1\" steps=\"1\" threshold=\"0.00243902\" smooth_angles=\"360\" helper_size=\"0\" simplify_individual_paths=\"false\" simplify_just_coalesce=\"false\"/>\n",
       "    <inkscape:path-effect effect=\"spiro\" id=\"path-effect4301\" is_visible=\"true\" lpeversion=\"1\"/>\n",
       "    <inkscape:path-effect effect=\"simplify\" id=\"path-effect4299\" is_visible=\"true\" lpeversion=\"1\" steps=\"1\" threshold=\"0.00243902\" smooth_angles=\"360\" helper_size=\"0\" simplify_individual_paths=\"false\" simplify_just_coalesce=\"false\"/>\n",
       "    <inkscape:path-effect effect=\"spiro\" id=\"path-effect4287\" is_visible=\"true\" lpeversion=\"1\"/>\n",
       "    <inkscape:path-effect effect=\"simplify\" id=\"path-effect4285\" is_visible=\"true\" lpeversion=\"1\" steps=\"1\" threshold=\"0.00243902\" smooth_angles=\"360\" helper_size=\"0\" simplify_individual_paths=\"false\" simplify_just_coalesce=\"false\"/>\n",
       "    <inkscape:path-effect effect=\"spiro\" id=\"path-effect4283\" is_visible=\"true\" lpeversion=\"1\"/>\n",
       "    <inkscape:path-effect effect=\"simplify\" id=\"path-effect4281\" is_visible=\"true\" lpeversion=\"1\" steps=\"1\" threshold=\"0.00243902\" smooth_angles=\"360\" helper_size=\"0\" simplify_individual_paths=\"false\" simplify_just_coalesce=\"false\"/>\n",
       "    <inkscape:path-effect effect=\"spiro\" id=\"path-effect4269\" is_visible=\"true\" lpeversion=\"1\"/>\n",
       "    <inkscape:path-effect effect=\"simplify\" id=\"path-effect4267\" is_visible=\"true\" lpeversion=\"1\" steps=\"1\" threshold=\"0.00243902\" smooth_angles=\"360\" helper_size=\"0\" simplify_individual_paths=\"false\" simplify_just_coalesce=\"false\"/>\n",
       "    <inkscape:path-effect effect=\"spiro\" id=\"path-effect4259\" is_visible=\"true\" lpeversion=\"1\"/>\n",
       "    <inkscape:path-effect effect=\"simplify\" id=\"path-effect4257\" is_visible=\"true\" lpeversion=\"1\" steps=\"1\" threshold=\"0.00243902\" smooth_angles=\"360\" helper_size=\"0\" simplify_individual_paths=\"false\" simplify_just_coalesce=\"false\"/>\n",
       "    <inkscape:path-effect effect=\"simplify\" id=\"path-effect4235\" is_visible=\"true\" lpeversion=\"1\" steps=\"1\" threshold=\"0.00243902\" smooth_angles=\"360\" helper_size=\"0\" simplify_individual_paths=\"false\" simplify_just_coalesce=\"false\"/>\n",
       "    <inkscape:path-effect effect=\"spiro\" id=\"path-effect4231\" is_visible=\"true\" lpeversion=\"1\"/>\n",
       "    <inkscape:path-effect effect=\"simplify\" id=\"path-effect4229\" is_visible=\"true\" lpeversion=\"1\" steps=\"1\" threshold=\"0.00243902\" smooth_angles=\"360\" helper_size=\"0\" simplify_individual_paths=\"false\" simplify_just_coalesce=\"false\"/>\n",
       "    <inkscape:path-effect effect=\"simplify\" id=\"path-effect4223\" is_visible=\"true\" lpeversion=\"1\" steps=\"1\" threshold=\"0.00243902\" smooth_angles=\"360\" helper_size=\"0\" simplify_individual_paths=\"false\" simplify_just_coalesce=\"false\"/>\n",
       "    <inkscape:path-effect effect=\"simplify\" id=\"path-effect4217\" is_visible=\"true\" lpeversion=\"1\" steps=\"1\" threshold=\"0.00243902\" smooth_angles=\"360\" helper_size=\"0\" simplify_individual_paths=\"false\" simplify_just_coalesce=\"false\"/>\n",
       "    <inkscape:path-effect effect=\"simplify\" id=\"path-effect4211\" is_visible=\"true\" lpeversion=\"1\" steps=\"1\" threshold=\"0.00243902\" smooth_angles=\"360\" helper_size=\"0\" simplify_individual_paths=\"false\" simplify_just_coalesce=\"false\"/>\n",
       "    <inkscape:path-effect effect=\"spiro\" id=\"path-effect4207\" is_visible=\"true\" lpeversion=\"1\"/>\n",
       "    <inkscape:path-effect effect=\"simplify\" id=\"path-effect4205\" is_visible=\"true\" lpeversion=\"1\" steps=\"1\" threshold=\"0.00243902\" smooth_angles=\"360\" helper_size=\"0\" simplify_individual_paths=\"false\" simplify_just_coalesce=\"false\"/>\n",
       "    <inkscape:path-effect effect=\"spiro\" id=\"path-effect4201\" is_visible=\"true\" lpeversion=\"1\"/>\n",
       "    <inkscape:path-effect effect=\"simplify\" id=\"path-effect4199\" is_visible=\"true\" lpeversion=\"1\" steps=\"1\" threshold=\"0.00243902\" smooth_angles=\"360\" helper_size=\"0\" simplify_individual_paths=\"false\" simplify_just_coalesce=\"false\"/>\n",
       "    <inkscape:path-effect effect=\"spiro\" id=\"path-effect4195\" is_visible=\"true\" lpeversion=\"1\"/>\n",
       "    <inkscape:path-effect effect=\"simplify\" id=\"path-effect4193\" is_visible=\"true\" lpeversion=\"1\" steps=\"1\" threshold=\"0.00243902\" smooth_angles=\"360\" helper_size=\"0\" simplify_individual_paths=\"false\" simplify_just_coalesce=\"false\"/>\n",
       "    <inkscape:path-effect effect=\"simplify\" id=\"path-effect4187\" is_visible=\"true\" lpeversion=\"1\" steps=\"1\" threshold=\"0.00243902\" smooth_angles=\"360\" helper_size=\"0\" simplify_individual_paths=\"false\" simplify_just_coalesce=\"false\"/>\n",
       "    <inkscape:path-effect effect=\"simplify\" id=\"path-effect4181\" is_visible=\"true\" lpeversion=\"1\" steps=\"1\" threshold=\"0.00243902\" smooth_angles=\"360\" helper_size=\"0\" simplify_individual_paths=\"false\" simplify_just_coalesce=\"false\"/>\n",
       "    <inkscape:path-effect effect=\"spiro\" id=\"path-effect4177\" is_visible=\"true\" lpeversion=\"1\"/>\n",
       "    <inkscape:path-effect effect=\"simplify\" id=\"path-effect4175\" is_visible=\"true\" lpeversion=\"1\" steps=\"1\" threshold=\"0.00243902\" smooth_angles=\"360\" helper_size=\"0\" simplify_individual_paths=\"false\" simplify_just_coalesce=\"false\"/>\n",
       "    <inkscape:path-effect effect=\"simplify\" id=\"path-effect4169\" is_visible=\"true\" lpeversion=\"1\" steps=\"1\" threshold=\"0.00243902\" smooth_angles=\"360\" helper_size=\"0\" simplify_individual_paths=\"false\" simplify_just_coalesce=\"false\"/>\n",
       "    <inkscape:path-effect effect=\"simplify\" id=\"path-effect4163\" is_visible=\"true\" lpeversion=\"1\" steps=\"1\" threshold=\"0.00243902\" smooth_angles=\"360\" helper_size=\"0\" simplify_individual_paths=\"false\" simplify_just_coalesce=\"false\"/>\n",
       "    <inkscape:path-effect effect=\"spiro\" id=\"path-effect4159\" is_visible=\"true\" lpeversion=\"1\"/>\n",
       "    <inkscape:path-effect effect=\"simplify\" id=\"path-effect4157\" is_visible=\"true\" lpeversion=\"1\" steps=\"1\" threshold=\"0.00243902\" smooth_angles=\"360\" helper_size=\"0\" simplify_individual_paths=\"false\" simplify_just_coalesce=\"false\"/>\n",
       "    <inkscape:path-effect effect=\"simplify\" id=\"path-effect4151\" is_visible=\"true\" lpeversion=\"1\" steps=\"1\" threshold=\"0.00243902\" smooth_angles=\"360\" helper_size=\"0\" simplify_individual_paths=\"false\" simplify_just_coalesce=\"false\"/>\n",
       "    <marker style=\"overflow:visible\" id=\"marker3809\" refX=\"0\" refY=\"0\" orient=\"auto\" inkscape:stockid=\"Arrow1Lend\" inkscape:isstock=\"true\">\n",
       "      <path transform=\"matrix(-0.8,0,0,-0.8,-10,0)\" style=\"fill:#000000;fill-opacity:1;fill-rule:evenodd;stroke:#000000;stroke-width:1pt;stroke-opacity:1\" d=\"M 0,0 5,-5 -12.5,0 5,5 Z\" id=\"path3807\"/>\n",
       "    </marker>\n",
       "    <marker style=\"overflow:visible\" id=\"marker3715\" refX=\"0\" refY=\"0\" orient=\"auto\" inkscape:stockid=\"Arrow1Lstart\" inkscape:isstock=\"true\" inkscape:collect=\"always\">\n",
       "      <path transform=\"matrix(0.8,0,0,0.8,10,0)\" style=\"fill:#000000;fill-opacity:1;fill-rule:evenodd;stroke:#000000;stroke-width:1pt;stroke-opacity:1\" d=\"M 0,0 5,-5 -12.5,0 5,5 Z\" id=\"path3713\"/>\n",
       "    </marker>\n",
       "    <marker style=\"overflow:visible\" id=\"marker3627\" refX=\"0\" refY=\"0\" orient=\"auto\" inkscape:stockid=\"Arrow1Lend\" inkscape:isstock=\"true\" inkscape:collect=\"always\">\n",
       "      <path transform=\"matrix(-0.8,0,0,-0.8,-10,0)\" style=\"fill:#000000;fill-opacity:1;fill-rule:evenodd;stroke:#000000;stroke-width:1pt;stroke-opacity:1\" d=\"M 0,0 5,-5 -12.5,0 5,5 Z\" id=\"path3625\"/>\n",
       "    </marker>\n",
       "    <marker style=\"overflow:visible\" id=\"marker3545\" refX=\"0\" refY=\"0\" orient=\"auto\" inkscape:stockid=\"Arrow1Lstart\" inkscape:isstock=\"true\" inkscape:collect=\"always\">\n",
       "      <path transform=\"matrix(0.8,0,0,0.8,10,0)\" style=\"fill:#000000;fill-opacity:1;fill-rule:evenodd;stroke:#000000;stroke-width:1pt;stroke-opacity:1\" d=\"M 0,0 5,-5 -12.5,0 5,5 Z\" id=\"path3543\"/>\n",
       "    </marker>\n",
       "    <marker style=\"overflow:visible\" id=\"marker3325\" refX=\"0\" refY=\"0\" orient=\"auto\" inkscape:stockid=\"Arrow1Lend\" inkscape:isstock=\"true\" inkscape:collect=\"always\">\n",
       "      <path transform=\"matrix(-0.8,0,0,-0.8,-10,0)\" style=\"fill:#000000;fill-opacity:1;fill-rule:evenodd;stroke:#000000;stroke-width:1pt;stroke-opacity:1\" d=\"M 0,0 5,-5 -12.5,0 5,5 Z\" id=\"path3323\"/>\n",
       "    </marker>\n",
       "    <marker style=\"overflow:visible\" id=\"marker3315\" refX=\"0\" refY=\"0\" orient=\"auto\" inkscape:stockid=\"Arrow1Lend\" inkscape:isstock=\"true\">\n",
       "      <path transform=\"matrix(-0.8,0,0,-0.8,-10,0)\" style=\"fill:#000000;fill-opacity:1;fill-rule:evenodd;stroke:#000000;stroke-width:1pt;stroke-opacity:1\" d=\"M 0,0 5,-5 -12.5,0 5,5 Z\" id=\"path3313\"/>\n",
       "    </marker>\n",
       "    <marker style=\"overflow:visible\" id=\"marker3305\" refX=\"0\" refY=\"0\" orient=\"auto\" inkscape:stockid=\"Arrow1Lstart\" inkscape:isstock=\"true\" inkscape:collect=\"always\">\n",
       "      <path transform=\"matrix(0.8,0,0,0.8,10,0)\" style=\"fill:#000000;fill-opacity:1;fill-rule:evenodd;stroke:#000000;stroke-width:1pt;stroke-opacity:1\" d=\"M 0,0 5,-5 -12.5,0 5,5 Z\" id=\"path3303\"/>\n",
       "    </marker>\n",
       "    <marker style=\"overflow:visible\" id=\"marker3295\" refX=\"0\" refY=\"0\" orient=\"auto\" inkscape:stockid=\"Arrow1Lstart\" inkscape:isstock=\"true\">\n",
       "      <path transform=\"matrix(0.8,0,0,0.8,10,0)\" style=\"fill:#000000;fill-opacity:1;fill-rule:evenodd;stroke:#000000;stroke-width:1pt;stroke-opacity:1\" d=\"M 0,0 5,-5 -12.5,0 5,5 Z\" id=\"path3293\"/>\n",
       "    </marker>\n",
       "    <marker style=\"overflow:visible\" id=\"marker3071\" refX=\"0\" refY=\"0\" orient=\"auto\" inkscape:stockid=\"Arrow1Lend\" inkscape:isstock=\"true\" inkscape:collect=\"always\">\n",
       "      <path transform=\"matrix(-0.8,0,0,-0.8,-10,0)\" style=\"fill:#000000;fill-opacity:1;fill-rule:evenodd;stroke:#000000;stroke-width:1pt;stroke-opacity:1\" d=\"M 0,0 5,-5 -12.5,0 5,5 Z\" id=\"path3069\"/>\n",
       "    </marker>\n",
       "    <marker style=\"overflow:visible\" id=\"marker3025\" refX=\"0\" refY=\"0\" orient=\"auto\" inkscape:stockid=\"Arrow1Lstart\" inkscape:isstock=\"true\" inkscape:collect=\"always\">\n",
       "      <path transform=\"matrix(0.8,0,0,0.8,10,0)\" style=\"fill:#000000;fill-opacity:1;fill-rule:evenodd;stroke:#000000;stroke-width:1pt;stroke-opacity:1\" d=\"M 0,0 5,-5 -12.5,0 5,5 Z\" id=\"path3023\"/>\n",
       "    </marker>\n",
       "  </defs>\n",
       "  <sodipodi:namedview id=\"base\" pagecolor=\"#ffffff\" bordercolor=\"#666666\" borderopacity=\"1.0\" inkscape:pageopacity=\"0.0\" inkscape:pageshadow=\"2\" inkscape:zoom=\"1.4\" inkscape:cx=\"455.38664\" inkscape:cy=\"232.17029\" inkscape:document-units=\"mm\" inkscape:current-layer=\"layer10\" inkscape:document-rotation=\"0\" showgrid=\"false\" inkscape:snap-object-midpoints=\"true\" showguides=\"true\" inkscape:guide-bbox=\"true\" inkscape:snap-nodes=\"false\" inkscape:snap-others=\"false\" showborder=\"true\" inkscape:window-width=\"1920\" inkscape:window-height=\"1017\" inkscape:window-x=\"-8\" inkscape:window-y=\"-8\" inkscape:window-maximized=\"1\">\n",
       "    <sodipodi:guide position=\"38.747569,79.995114\" orientation=\"1,0\" id=\"guide2945\"/>\n",
       "    <sodipodi:guide position=\"173.68537,79.995114\" orientation=\"1,0\" id=\"guide2947\"/>\n",
       "    <sodipodi:guide position=\"52.410378,72.688854\" orientation=\"0,-1\" id=\"guide2949\"/>\n",
       "    <sodipodi:guide position=\"65.450557,23.740938\" orientation=\"0,-1\" id=\"guide2951\"/>\n",
       "    <sodipodi:guide position=\"106.27199,28.654629\" orientation=\"0,-1\" id=\"guide2959\"/>\n",
       "  </sodipodi:namedview>\n",
       "  <metadata id=\"metadata2280\">\n",
       "    <rdf:RDF>\n",
       "      <cc:Work rdf:about=\"\">\n",
       "        <dc:format>image/svg+xml</dc:format>\n",
       "        <dc:type rdf:resource=\"http://purl.org/dc/dcmitype/StillImage\"/>\n",
       "        <dc:title/>\n",
       "      </cc:Work>\n",
       "    </rdf:RDF>\n",
       "  </metadata>\n",
       "  <g inkscape:groupmode=\"layer\" id=\"layer10\" inkscape:label=\"Layer 2\">\n",
       "    <rect style=\"fill:#ffffff;stroke:#ffffff;stroke-width:0.865\" id=\"rect8046\" width=\"248.33035\" height=\"93.360123\" x=\"-0.1889881\" y=\"0\"/>\n",
       "  </g>\n",
       "  <g inkscape:label=\"Layer 1\" inkscape:groupmode=\"layer\" id=\"layer1\" transform=\"translate(-5.7979541,-147.21828)\">\n",
       "    <g id=\"g4661\">\n",
       "      <path style=\"fill:none;stroke:#000000;stroke-width:0.365;stroke-linecap:butt;stroke-linejoin:miter;stroke-opacity:1;stroke-miterlimit:4;stroke-dasharray:none\" d=\"m 164.6125,168.0126 c -0.0661,2.07932 0.46003,4.02014 -0.61118,5.46555\" id=\"path4652\" sodipodi:nodetypes=\"cc\"/>\n",
       "      <path style=\"fill:none;stroke:#000000;stroke-width:0.365;stroke-linecap:butt;stroke-linejoin:miter;stroke-opacity:1;stroke-miterlimit:4;stroke-dasharray:none\" d=\"m 164.5347,170.69529 c 0.72288,0.37788 1.15278,0.92139 2.28685,0.0857 l -0.12099,-2.89337\" id=\"path4654\" sodipodi:nodetypes=\"ccc\"/>\n",
       "      <path style=\"fill:none;stroke:#000000;stroke-width:0.365;stroke-linecap:butt;stroke-linejoin:miter;stroke-opacity:1;stroke-miterlimit:4;stroke-dasharray:none\" d=\"m 166.78319,170.86932 c 0.0956,0.48541 0.40666,0.61309 1.09187,0.11931\" id=\"path4656\" sodipodi:nodetypes=\"cc\"/>\n",
       "    </g>\n",
       "    <g inkscape:label=\"Layer 1\" id=\"layer1-6\" transform=\"matrix(0.35681674,0,0,0.35601926,4.9599006,149.24697)\" style=\"stroke-width:1.44474\">\n",
       "      <path id=\"path839\" style=\"fill:#ffffff;stroke:#000000;stroke-width:3.82231;stroke-linejoin:bevel;stroke-miterlimit:4;stroke-dasharray:none\" d=\"M 219.92383,480 A 39.999999,39.999999 0 0 0 180,520 a 39.999999,39.999999 0 0 0 0,0.0762 V 590 h 80 v -70 a 39.999999,39.999999 0 0 0 -40,-40 39.999999,39.999999 0 0 0 -0.0762,0 z\" transform=\"scale(0.26458333)\"/>\n",
       "      <path style=\"fill:none;stroke:#000000;stroke-width:1.01132;stroke-linecap:butt;stroke-linejoin:miter;stroke-miterlimit:4;stroke-dasharray:none;stroke-opacity:1\" d=\"M 22.489583,156.10416 H 99.218749\" id=\"path850\"/>\n",
       "      <path style=\"fill:none;stroke:#000000;stroke-width:1.01132;stroke-linecap:butt;stroke-linejoin:miter;stroke-miterlimit:4;stroke-dasharray:none;stroke-opacity:1\" d=\"m 22.489583,156.10416 9.929222,17.19792\" id=\"path852\"/>\n",
       "      <path style=\"fill:none;stroke:#000000;stroke-width:1.01132;stroke-linecap:butt;stroke-linejoin:miter;stroke-miterlimit:4;stroke-dasharray:none;stroke-opacity:1\" d=\"m 39.952094,156.10416 9.929222,17.19792\" id=\"path854\"/>\n",
       "      <path style=\"fill:none;stroke:#000000;stroke-width:1.01132;stroke-linecap:butt;stroke-linejoin:miter;stroke-miterlimit:4;stroke-dasharray:none;stroke-opacity:1\" d=\"m 56.885438,156.10416 9.929222,17.19792\" id=\"path856\"/>\n",
       "      <path style=\"fill:none;stroke:#000000;stroke-width:1.01132;stroke-linecap:butt;stroke-linejoin:miter;stroke-miterlimit:4;stroke-dasharray:none;stroke-opacity:1\" d=\"m 74.347949,156.10416 9.929222,17.19792\" id=\"path858\"/>\n",
       "      <path style=\"fill:none;stroke:#000000;stroke-width:1.01132;stroke-linecap:butt;stroke-linejoin:miter;stroke-miterlimit:4;stroke-dasharray:none;stroke-opacity:1\" d=\"m 91.81046,156.10416 9.92923,17.19792\" id=\"path860\"/>\n",
       "      <circle style=\"fill:#ffffff;stroke:#000000;stroke-width:1.01132;stroke-linejoin:bevel\" id=\"path1592\" cx=\"58.266396\" cy=\"137.45695\" r=\"3.6994057\"/>\n",
       "    </g>\n",
       "    <circle style=\"fill:none;stroke:#000000;stroke-width:0.205973;stroke-linejoin:bevel;stroke-miterlimit:4;stroke-dasharray:2.47167, 2.47167;stroke-dashoffset:0\" id=\"path2919\" cx=\"25.750328\" cy=\"198.1843\" r=\"19.858841\"/>\n",
       "    <path id=\"path2921\" style=\"fill:#ffffff;stroke:#000000;stroke-width:0.360452;stroke-linejoin:bevel;stroke-miterlimit:4;stroke-dasharray:none\" d=\"m 95.206247,194.46141 a 3.7763105,3.7678703 0 0 0 -3.769119,3.76787 3.7763105,3.7678703 0 0 0 0,0.007 v 6.58659 h 7.552623 v -6.59377 a 3.7763105,3.7678703 0 0 0 -3.776307,-3.76788 3.7763105,3.7678703 0 0 0 -0.007,0 z\"/>\n",
       "    <path style=\"fill:none;stroke:#000000;stroke-width:0.360452;stroke-linecap:butt;stroke-linejoin:miter;stroke-miterlimit:4;stroke-dasharray:none;stroke-opacity:1\" d=\"M 82.468389,204.82305 H 109.84664\" id=\"path2923\"/>\n",
       "    <path style=\"fill:none;stroke:#000000;stroke-width:0.360452;stroke-linecap:butt;stroke-linejoin:miter;stroke-miterlimit:4;stroke-dasharray:none;stroke-opacity:1\" d=\"m 82.468389,204.82305 3.542914,6.1228\" id=\"path2925\"/>\n",
       "    <path style=\"fill:none;stroke:#000000;stroke-width:0.360452;stroke-linecap:butt;stroke-linejoin:miter;stroke-miterlimit:4;stroke-dasharray:none;stroke-opacity:1\" d=\"m 88.699306,204.82305 3.542911,6.1228\" id=\"path2927\"/>\n",
       "    <path style=\"fill:none;stroke:#000000;stroke-width:0.360452;stroke-linecap:butt;stroke-linejoin:miter;stroke-miterlimit:4;stroke-dasharray:none;stroke-opacity:1\" d=\"m 94.741406,204.82305 3.54292,6.1228\" id=\"path2929\"/>\n",
       "    <path style=\"fill:none;stroke:#000000;stroke-width:0.360452;stroke-linecap:butt;stroke-linejoin:miter;stroke-miterlimit:4;stroke-dasharray:none;stroke-opacity:1\" d=\"m 100.97233,204.82305 3.5429,6.1228\" id=\"path2931\"/>\n",
       "    <path style=\"fill:none;stroke:#000000;stroke-width:0.360452;stroke-linecap:butt;stroke-linejoin:miter;stroke-miterlimit:4;stroke-dasharray:none;stroke-opacity:1\" d=\"m 107.20324,204.82305 3.54292,6.1228\" id=\"path2933\"/>\n",
       "    <ellipse style=\"fill:#ffffff;stroke:#000000;stroke-width:0.360452;stroke-linejoin:bevel\" id=\"circle2935\" cx=\"95.234154\" cy=\"198.1843\" rx=\"1.3200099\" ry=\"1.3170596\"/>\n",
       "    <path style=\"fill:none;stroke:#000000;stroke-width:0.136242;stroke-linecap:butt;stroke-linejoin:miter;stroke-miterlimit:4;stroke-dasharray:1.63491, 1.63491;stroke-dashoffset:0;stroke-opacity:1\" d=\"M 25.750327,198.1843 H 95.234155\" id=\"path2939\"/>\n",
       "    <path style=\"fill:none;stroke:#000000;stroke-width:0.393923;stroke-linecap:butt;stroke-linejoin:miter;stroke-miterlimit:4;stroke-dasharray:none;stroke-opacity:1\" d=\"M 25.750327,198.1843 H 45.720516 L 80.823118,163.08169 95.234155,198.1843\" id=\"path2941\"/>\n",
       "    <path style=\"fill:none;stroke:#000000;stroke-width:0.136242px;stroke-linecap:butt;stroke-linejoin:miter;stroke-opacity:1\" d=\"M 75.857256,150.87278 80.823118,163.08169 91.9316,151.97321\" id=\"path2943\"/>\n",
       "    <path style=\"fill:none;stroke:#000000;stroke-width:0.136242px;stroke-linecap:butt;stroke-linejoin:miter;stroke-opacity:1\" d=\"m 25.750325,201.94652 v 25.20486\" id=\"path2955\"/>\n",
       "    <path style=\"fill:none;stroke:#000000;stroke-width:0.136242px;stroke-linecap:butt;stroke-linejoin:miter;stroke-opacity:1\" d=\"m 95.234155,201.94652 v 25.20486\" id=\"path2957\"/>\n",
       "    <path style=\"fill:none;stroke:#000000;stroke-width:0.136242px;stroke-linecap:butt;stroke-linejoin:miter;stroke-opacity:1;marker-start:url(#marker4885);marker-end:url(#marker4991)\" d=\"m 25.750325,224.62116 h 69.48383\" id=\"path2961\"/>\n",
       "    <path style=\"fill:none;stroke:#000000;stroke-width:0.136242px;stroke-linecap:butt;stroke-linejoin:miter;stroke-opacity:1;marker-start:url(#marker3025);marker-end:url(#marker3071)\" d=\"m 76.918583,153.93449 c 5.839095,-2.17427 8.959857,-0.69852 11.736682,1.23904\" id=\"path3015\" sodipodi:nodetypes=\"cc\"/>\n",
       "    <ellipse style=\"fill:#ffffff;stroke:#000000;stroke-width:0.360452;stroke-linejoin:bevel\" id=\"ellipse3123\" cx=\"45.720516\" cy=\"198.1843\" rx=\"1.3200099\" ry=\"1.3170596\"/>\n",
       "    <ellipse style=\"fill:#ffffff;stroke:#000000;stroke-width:0.360452;stroke-linejoin:bevel\" id=\"ellipse3125\" cx=\"80.82312\" cy=\"163.08168\" rx=\"1.3200099\" ry=\"1.3170596\"/>\n",
       "    <text xml:space=\"preserve\" style=\"font-size:3.99644px;line-height:1.25;font-family:sans-serif;-inkscape-font-specification:sans-serif;stroke-width:0.136242\" x=\"34.590729\" y=\"197.0173\" id=\"text3129\"><tspan sodipodi:role=\"line\" id=\"tspan3127\" x=\"34.590729\" y=\"197.0173\" style=\"stroke-width:0.136242\">a</tspan></text>\n",
       "    <text xml:space=\"preserve\" style=\"font-size:3.99644px;line-height:1.25;font-family:sans-serif;-inkscape-font-specification:sans-serif;stroke-width:0.136242\" x=\"64.487701\" y=\"203.41287\" id=\"text3133\"><tspan sodipodi:role=\"line\" id=\"tspan3131\" x=\"64.487701\" y=\"203.41287\" style=\"stroke-width:0.136242\">1</tspan></text>\n",
       "    <text xml:space=\"preserve\" style=\"font-size:3.99644px;line-height:1.25;font-family:sans-serif;-inkscape-font-specification:sans-serif;stroke-width:0.136242\" x=\"35.603798\" y=\"202.27255\" id=\"text3137\"><tspan sodipodi:role=\"line\" id=\"tspan3135\" x=\"35.603798\" y=\"202.27255\" style=\"stroke-width:0.136242\">2</tspan></text>\n",
       "    <text xml:space=\"preserve\" style=\"font-size:3.99644px;line-height:1.25;font-family:sans-serif;-inkscape-font-specification:sans-serif;stroke-width:0.136242\" x=\"62.710781\" y=\"184.73685\" id=\"text3141\"><tspan sodipodi:role=\"line\" id=\"tspan3139\" x=\"62.710781\" y=\"184.73685\" style=\"stroke-width:0.136242\">3</tspan></text>\n",
       "    <text xml:space=\"preserve\" style=\"font-size:3.99644px;line-height:1.25;font-family:sans-serif;-inkscape-font-specification:sans-serif;stroke-width:0.136242\" x=\"84.599503\" y=\"183.567\" id=\"text3145\"><tspan sodipodi:role=\"line\" id=\"tspan3143\" x=\"84.599503\" y=\"183.567\" style=\"stroke-width:0.136242\">4</tspan></text>\n",
       "    <text xml:space=\"preserve\" style=\"font-size:3.99644px;line-height:1.25;font-family:sans-serif;-inkscape-font-specification:sans-serif;stroke-width:0.136242\" x=\"59.334427\" y=\"222.79683\" id=\"text3149\"><tspan sodipodi:role=\"line\" id=\"tspan3147\" x=\"59.334427\" y=\"222.79683\" style=\"stroke-width:0.136242\">d</tspan></text>\n",
       "    <text xml:space=\"preserve\" style=\"font-size:3.99644px;line-height:1.25;font-family:sans-serif;-inkscape-font-specification:sans-serif;stroke-width:0.136242\" x=\"57.516457\" y=\"182.48795\" id=\"text3153\"><tspan sodipodi:role=\"line\" id=\"tspan3151\" x=\"57.516457\" y=\"182.48795\" style=\"stroke-width:0.136242\">b</tspan></text>\n",
       "    <text xml:space=\"preserve\" style=\"font-size:3.99644px;line-height:1.25;font-family:sans-serif;-inkscape-font-specification:sans-serif;stroke-width:0.136242\" x=\"89.477371\" y=\"182.15663\" id=\"text3157\"><tspan sodipodi:role=\"line\" id=\"tspan3155\" x=\"89.477371\" y=\"182.15663\" style=\"stroke-width:0.136242\">c</tspan></text>\n",
       "    <text xml:space=\"preserve\" style=\"font-size:3.99644px;line-height:1.25;font-family:sans-serif;-inkscape-font-specification:sans-serif;stroke-width:0.136242\" x=\"22.726767\" y=\"203.0885\" id=\"text3161\"><tspan sodipodi:role=\"line\" id=\"tspan3159\" x=\"22.726767\" y=\"203.0885\" style=\"stroke-width:0.136242\">O<tspan style=\"font-size:2.59769px;baseline-shift:sub;stroke-width:0.136242\" id=\"tspan3163\">2</tspan></tspan></text>\n",
       "    <text xml:space=\"preserve\" style=\"font-size:3.99644px;line-height:1.25;font-family:sans-serif;-inkscape-font-specification:sans-serif;stroke-width:0.136242\" x=\"92.849266\" y=\"202.92099\" id=\"text3167\"><tspan sodipodi:role=\"line\" id=\"tspan3165\" x=\"92.849266\" y=\"202.92099\" style=\"stroke-width:0.136242\">O<tspan style=\"font-size:2.59769px;baseline-shift:sub;stroke-width:0.136242\" id=\"tspan3169\">4</tspan></tspan></text>\n",
       "    <g inkscape:label=\"Layer 1\" id=\"g3211\" transform=\"matrix(0.35681674,0,0,0.35601926,147.19768,149.24697)\" style=\"stroke-width:1.44474\">\n",
       "      <path id=\"path3195\" style=\"fill:#ffffff;stroke:#000000;stroke-width:3.82231;stroke-linejoin:bevel;stroke-miterlimit:4;stroke-dasharray:none\" d=\"M 219.92383,480 A 39.999999,39.999999 0 0 0 180,520 a 39.999999,39.999999 0 0 0 0,0.0762 V 590 h 80 v -70 a 39.999999,39.999999 0 0 0 -40,-40 39.999999,39.999999 0 0 0 -0.0762,0 z\" transform=\"scale(0.26458333)\"/>\n",
       "      <path style=\"fill:none;stroke:#000000;stroke-width:1.01132;stroke-linecap:butt;stroke-linejoin:miter;stroke-miterlimit:4;stroke-dasharray:none;stroke-opacity:1\" d=\"M 22.489583,156.10416 H 99.218749\" id=\"path3197\"/>\n",
       "      <path style=\"fill:none;stroke:#000000;stroke-width:1.01132;stroke-linecap:butt;stroke-linejoin:miter;stroke-miterlimit:4;stroke-dasharray:none;stroke-opacity:1\" d=\"m 22.489583,156.10416 9.929222,17.19792\" id=\"path3199\"/>\n",
       "      <path style=\"fill:none;stroke:#000000;stroke-width:1.01132;stroke-linecap:butt;stroke-linejoin:miter;stroke-miterlimit:4;stroke-dasharray:none;stroke-opacity:1\" d=\"m 39.952094,156.10416 9.929222,17.19792\" id=\"path3201\"/>\n",
       "      <path style=\"fill:none;stroke:#000000;stroke-width:1.01132;stroke-linecap:butt;stroke-linejoin:miter;stroke-miterlimit:4;stroke-dasharray:none;stroke-opacity:1\" d=\"m 56.885438,156.10416 9.929222,17.19792\" id=\"path3203\"/>\n",
       "      <path style=\"fill:none;stroke:#000000;stroke-width:1.01132;stroke-linecap:butt;stroke-linejoin:miter;stroke-miterlimit:4;stroke-dasharray:none;stroke-opacity:1\" d=\"m 74.347949,156.10416 9.929222,17.19792\" id=\"path3205\"/>\n",
       "      <path style=\"fill:none;stroke:#000000;stroke-width:1.01132;stroke-linecap:butt;stroke-linejoin:miter;stroke-miterlimit:4;stroke-dasharray:none;stroke-opacity:1\" d=\"m 91.81046,156.10416 9.92923,17.19792\" id=\"path3207\"/>\n",
       "      <circle style=\"fill:#ffffff;stroke:#000000;stroke-width:1.01132;stroke-linejoin:bevel\" id=\"circle3209\" cx=\"58.266396\" cy=\"137.45695\" r=\"3.6994057\"/>\n",
       "    </g>\n",
       "    <circle style=\"fill:none;stroke:#000000;stroke-width:0.205973;stroke-linejoin:bevel;stroke-miterlimit:4;stroke-dasharray:2.47167, 2.47167;stroke-dashoffset:0\" id=\"circle3213\" cx=\"167.98712\" cy=\"198.1843\" r=\"19.858841\"/>\n",
       "    <path id=\"path3215\" style=\"fill:#ffffff;stroke:#000000;stroke-width:0.360452;stroke-linejoin:bevel;stroke-miterlimit:4;stroke-dasharray:none\" d=\"m 237.44431,194.46141 a 3.7763105,3.7678703 0 0 0 -3.76912,3.76787 3.7763105,3.7678703 0 0 0 0,0.007 v 6.58659 h 7.55262 v -6.59377 a 3.7763105,3.7678703 0 0 0 -3.7763,-3.76788 3.7763105,3.7678703 0 0 0 -0.007,0 z\"/>\n",
       "    <path style=\"fill:none;stroke:#000000;stroke-width:0.360452;stroke-linecap:butt;stroke-linejoin:miter;stroke-miterlimit:4;stroke-dasharray:none;stroke-opacity:1\" d=\"M 224.70645,204.82305 H 252.0847\" id=\"path3217\"/>\n",
       "    <path style=\"fill:none;stroke:#000000;stroke-width:0.360452;stroke-linecap:butt;stroke-linejoin:miter;stroke-miterlimit:4;stroke-dasharray:none;stroke-opacity:1\" d=\"m 224.70645,204.82305 3.54291,6.1228\" id=\"path3219\"/>\n",
       "    <path style=\"fill:none;stroke:#000000;stroke-width:0.360452;stroke-linecap:butt;stroke-linejoin:miter;stroke-miterlimit:4;stroke-dasharray:none;stroke-opacity:1\" d=\"m 230.93737,204.82305 3.54291,6.1228\" id=\"path3221\"/>\n",
       "    <path style=\"fill:none;stroke:#000000;stroke-width:0.360452;stroke-linecap:butt;stroke-linejoin:miter;stroke-miterlimit:4;stroke-dasharray:none;stroke-opacity:1\" d=\"m 236.97947,204.82305 3.54291,6.1228\" id=\"path3223\"/>\n",
       "    <path style=\"fill:none;stroke:#000000;stroke-width:0.360452;stroke-linecap:butt;stroke-linejoin:miter;stroke-miterlimit:4;stroke-dasharray:none;stroke-opacity:1\" d=\"m 243.21038,204.82305 3.54291,6.1228\" id=\"path3225\"/>\n",
       "    <path style=\"fill:none;stroke:#000000;stroke-width:0.360452;stroke-linecap:butt;stroke-linejoin:miter;stroke-miterlimit:4;stroke-dasharray:none;stroke-opacity:1\" d=\"m 249.4413,204.82305 3.54292,6.1228\" id=\"path3227\"/>\n",
       "    <path style=\"fill:none;stroke:#000000;stroke-width:0.136242;stroke-linecap:butt;stroke-linejoin:miter;stroke-miterlimit:4;stroke-dasharray:1.63491, 1.63491;stroke-dashoffset:0;stroke-opacity:1\" d=\"m 167.98823,198.1843 h 69.48399\" id=\"path3231\"/>\n",
       "    <path style=\"fill:none;stroke:#000000;stroke-width:0.136242px;stroke-linecap:butt;stroke-linejoin:miter;stroke-opacity:1\" d=\"m 167.98823,201.94652 v 25.20486\" id=\"path3237\"/>\n",
       "    <path style=\"fill:none;stroke:#000000;stroke-width:0.136242px;stroke-linecap:butt;stroke-linejoin:miter;stroke-opacity:1\" d=\"m 237.47222,201.94652 v 25.20486\" id=\"path3239\"/>\n",
       "    <path style=\"fill:none;stroke:#000000;stroke-width:0.136242px;stroke-linecap:butt;stroke-linejoin:miter;stroke-opacity:1;marker-start:url(#marker3305);marker-end:url(#marker3325)\" d=\"m 167.98823,224.62116 h 69.48399\" id=\"path3241\"/>\n",
       "    <text xml:space=\"preserve\" style=\"font-size:3.99644px;line-height:1.25;font-family:sans-serif;-inkscape-font-specification:sans-serif;stroke-width:0.136242\" x=\"157.50937\" y=\"197.27831\" id=\"text3251\"><tspan sodipodi:role=\"line\" id=\"tspan3249\" x=\"157.50937\" y=\"197.27831\" style=\"stroke-width:0.136242\">a</tspan></text>\n",
       "    <text xml:space=\"preserve\" style=\"font-size:3.99644px;line-height:1.25;font-family:sans-serif;-inkscape-font-specification:sans-serif;stroke-width:0.136242\" x=\"195.70816\" y=\"196.87692\" id=\"text3255\"><tspan sodipodi:role=\"line\" id=\"tspan3253\" x=\"195.70816\" y=\"196.87692\" style=\"stroke-width:0.136242\">1</tspan></text>\n",
       "    <text xml:space=\"preserve\" style=\"font-size:3.99644px;line-height:1.25;font-family:sans-serif;-inkscape-font-specification:sans-serif;stroke-width:0.136242\" x=\"155.43625\" y=\"201.88126\" id=\"text3259\"><tspan sodipodi:role=\"line\" id=\"tspan3257\" x=\"155.43625\" y=\"201.88126\" style=\"stroke-width:0.136242\">2</tspan></text>\n",
       "    <text xml:space=\"preserve\" style=\"font-size:3.99644px;line-height:1.25;font-family:sans-serif;-inkscape-font-specification:sans-serif;stroke-width:0.136242\" x=\"176.65271\" y=\"187.94762\" id=\"text3263\"><tspan sodipodi:role=\"line\" id=\"tspan3261\" x=\"176.65271\" y=\"187.94762\" style=\"stroke-width:0.136242\">3</tspan></text>\n",
       "    <text xml:space=\"preserve\" style=\"font-size:3.99644px;line-height:1.25;font-family:sans-serif;-inkscape-font-specification:sans-serif;stroke-width:0.136242\" x=\"214.94711\" y=\"189.11607\" id=\"text3267\"><tspan sodipodi:role=\"line\" id=\"tspan3265\" x=\"214.94711\" y=\"189.11607\" style=\"stroke-width:0.136242\">4</tspan></text>\n",
       "    <text xml:space=\"preserve\" style=\"font-size:3.99644px;line-height:1.25;font-family:sans-serif;-inkscape-font-specification:sans-serif;stroke-width:0.136242\" x=\"201.57172\" y=\"222.79683\" id=\"text3271\"><tspan sodipodi:role=\"line\" id=\"tspan3269\" x=\"201.57172\" y=\"222.79683\" style=\"stroke-width:0.136242\">d</tspan></text>\n",
       "    <text xml:space=\"preserve\" style=\"font-size:3.99644px;line-height:1.25;font-family:sans-serif;-inkscape-font-specification:sans-serif;stroke-width:0.136242\" x=\"173.49983\" y=\"183.9929\" id=\"text3275\"><tspan sodipodi:role=\"line\" id=\"tspan3273\" x=\"173.49983\" y=\"183.9929\" style=\"stroke-width:0.136242\">b</tspan></text>\n",
       "    <text xml:space=\"preserve\" style=\"font-size:3.99644px;line-height:1.25;font-family:sans-serif;-inkscape-font-specification:sans-serif;stroke-width:0.136242\" x=\"217.80527\" y=\"185.28682\" id=\"text3279\"><tspan sodipodi:role=\"line\" id=\"tspan3277\" x=\"217.80527\" y=\"185.28682\" style=\"stroke-width:0.136242\">c</tspan></text>\n",
       "    <text xml:space=\"preserve\" style=\"font-size:3.99644px;line-height:1.25;font-family:sans-serif;-inkscape-font-specification:sans-serif;stroke-width:0.136242\" x=\"164.96355\" y=\"203.0885\" id=\"text3285\"><tspan sodipodi:role=\"line\" id=\"tspan3283\" x=\"164.96355\" y=\"203.0885\" style=\"stroke-width:0.136242\">O<tspan style=\"font-size:2.59769px;baseline-shift:sub;stroke-width:0.136242\" id=\"tspan3281\">2</tspan></tspan></text>\n",
       "    <text xml:space=\"preserve\" style=\"font-size:3.99644px;line-height:1.25;font-family:sans-serif;-inkscape-font-specification:sans-serif;stroke-width:0.136242\" x=\"235.08742\" y=\"202.92099\" id=\"text3291\"><tspan sodipodi:role=\"line\" id=\"tspan3289\" x=\"235.08742\" y=\"202.92099\" style=\"stroke-width:0.136242\">O<tspan style=\"font-size:2.59769px;baseline-shift:sub;stroke-width:0.136242\" id=\"tspan3287\">4</tspan></tspan></text>\n",
       "    <path style=\"fill:none;stroke:#000000;stroke-width:0.393923;stroke-linecap:butt;stroke-linejoin:miter;stroke-miterlimit:4;stroke-dasharray:none;stroke-opacity:1\" d=\"M 167.98822,198.1843 H 148.17419\" id=\"path3525\"/>\n",
       "    <path style=\"fill:none;stroke:#000000;stroke-width:0.393923;stroke-linecap:butt;stroke-linejoin:miter;stroke-miterlimit:4;stroke-dasharray:none;stroke-opacity:1\" d=\"m 148.17757,198.18969 51.6391,-24.35773\" id=\"path3527\" inkscape:transform-center-x=\"-25.894544\" inkscape:transform-center-y=\"-12.221355\"/>\n",
       "    <ellipse style=\"fill:#ffffff;stroke:#000000;stroke-width:0.360452;stroke-linejoin:bevel\" id=\"ellipse3245\" cx=\"148.17418\" cy=\"198.1843\" rx=\"1.3200099\" ry=\"1.3170596\"/>\n",
       "    <ellipse style=\"fill:#ffffff;stroke:#000000;stroke-width:0.360452;stroke-linejoin:bevel\" id=\"ellipse3529\" cx=\"167.99004\" cy=\"198.18658\" rx=\"1.3200099\" ry=\"1.3170596\"/>\n",
       "    <path style=\"fill:none;stroke:#000000;stroke-width:0.136242px;stroke-linecap:butt;stroke-linejoin:miter;stroke-opacity:1\" d=\"m 213.16278,167.25624 -13.34611,6.57572 -10.2638,-7.11744\" id=\"path3531\" sodipodi:nodetypes=\"ccc\"/>\n",
       "    <path style=\"fill:none;stroke:#000000;stroke-width:0.136242px;stroke-linecap:butt;stroke-linejoin:miter;stroke-opacity:1;marker-start:url(#marker3545);marker-end:url(#marker3627)\" d=\"m 206.88659,170.06817 c -3.16529,-1.98103 -6.21867,-4.22563 -12.02394,0.0117\" id=\"path3533\" sodipodi:nodetypes=\"cc\"/>\n",
       "    <path style=\"fill:none;stroke:#000000;stroke-width:0.136242px;stroke-linecap:butt;stroke-linejoin:miter;stroke-opacity:1;marker-start:url(#marker3715);marker-end:url(#marker3809)\" d=\"m 192.43721,169.09203 c -3.47031,2.99248 -3.33938,5.9577 -2.43791,8.91708\" id=\"path3535\" sodipodi:nodetypes=\"cc\"/>\n",
       "    <path style=\"fill:none;stroke:#000000;stroke-width:0.393923;stroke-linecap:butt;stroke-linejoin:miter;stroke-miterlimit:4;stroke-dasharray:none;stroke-opacity:1\" d=\"m 199.81666,173.83196 37.65571,24.35234\" id=\"path3901\"/>\n",
       "    <ellipse style=\"fill:#ffffff;stroke:#000000;stroke-width:0.360452;stroke-linejoin:bevel\" id=\"ellipse3229\" cx=\"237.47237\" cy=\"198.1843\" rx=\"1.3200099\" ry=\"1.3170596\"/>\n",
       "    <text xml:space=\"preserve\" style=\"font-size:3.99644px;line-height:1.25;font-family:sans-serif;-inkscape-font-specification:sans-serif;stroke-width:0.136242\" x=\"46.221718\" y=\"202.39124\" id=\"text4013\"><tspan sodipodi:role=\"line\" id=\"tspan4011\" x=\"46.221718\" y=\"202.39124\" style=\"stroke-width:0.136242\">A</tspan></text>\n",
       "    <text xml:space=\"preserve\" style=\"font-size:3.99644px;line-height:1.25;font-family:sans-serif;-inkscape-font-specification:sans-serif;stroke-width:0.136242\" x=\"75.836533\" y=\"163.35806\" id=\"text4017\"><tspan sodipodi:role=\"line\" id=\"tspan4015\" x=\"75.836533\" y=\"163.35806\" style=\"stroke-width:0.136242\">B</tspan></text>\n",
       "    <text xml:space=\"preserve\" style=\"font-size:3.99644px;line-height:1.25;font-family:sans-serif;-inkscape-font-specification:sans-serif;stroke-width:0.136242\" x=\"143.00423\" y=\"199.0544\" id=\"text4021\"><tspan sodipodi:role=\"line\" id=\"tspan4019\" x=\"143.00423\" y=\"199.0544\" style=\"stroke-width:0.136242\">A</tspan></text>\n",
       "    <text xml:space=\"preserve\" style=\"font-size:3.99644px;line-height:1.25;font-family:sans-serif;-inkscape-font-specification:sans-serif;stroke-width:0.136242\" x=\"198.99225\" y=\"178.92603\" id=\"text4025\"><tspan sodipodi:role=\"line\" id=\"tspan4023\" x=\"198.99225\" y=\"178.92603\" style=\"stroke-width:0.136242\">B</tspan></text>\n",
       "    <ellipse style=\"fill:#ffffff;stroke:#000000;stroke-width:0.360452;stroke-linejoin:bevel\" id=\"ellipse4027\" cx=\"199.74599\" cy=\"173.84457\" rx=\"1.3200099\" ry=\"1.3170596\"/>\n",
       "    <path style=\"fill:none;stroke:#000000;stroke-width:0.34243;stroke-linecap:butt;stroke-linejoin:miter;stroke-miterlimit:4;stroke-dasharray:none;stroke-opacity:1\" d=\"m 81.797808,148.41089 c 0.11052,-0.12121 0.206608,-0.25557 0.28559,-0.39934 0.05097,-0.0928 0.09481,-0.18938 0.147626,-0.28111 0.05282,-0.0917 0.115543,-0.17945 0.19769,-0.2462 0.04038,-0.0328 0.08548,-0.0604 0.134711,-0.0772 0.04924,-0.0168 0.102794,-0.0226 0.153787,-0.0122 0.06658,0.0135 0.125464,0.0536 0.172256,0.10286 0.04679,0.0493 0.08278,0.10758 0.117691,0.16586 0.250323,0.41793 0.464384,0.86059 0.596558,1.32948 0.146126,0.51838 0.189909,1.05952 0.222242,1.59713 0.007,0.11648 0.01351,0.23338 0.005,0.34976 -0.0085,0.11638 -0.03246,0.23287 -0.08368,0.33772 -0.01749,0.0358 -0.03843,0.0705 -0.06717,0.0982 -0.02874,0.0276 -0.06605,0.0477 -0.105837,0.05 -0.0255,0.001 -0.05119,-0.004 -0.07427,-0.0153 -0.02309,-0.0109 -0.04364,-0.0268 -0.06128,-0.0453 -0.03529,-0.0369 -0.05869,-0.0834 -0.08019,-0.12978 -0.125651,-0.27092 -0.204147,-0.565 -0.216937,-0.86337 -0.02397,-0.55912 0.189396,-1.11893 0.555548,-1.54215 0.296408,-0.34261 0.690906,-0.59938 1.124181,-0.7317\" id=\"path4155\" inkscape:path-effect=\"#path-effect4157;#path-effect4159\" inkscape:original-d=\"m 81.797808,148.41089 c 0.332193,-0.2553 0.597285,-1.41683 1.080873,-0.89912 0.636971,0.68191 0.871894,1.91658 0.934814,2.81466 0.212347,3.03108 -2.202072,-1.03509 1.007835,-2.22828\"/>\n",
       "    <text xml:space=\"preserve\" style=\"font-size:3.99644px;line-height:1.25;font-family:sans-serif;-inkscape-font-specification:sans-serif;stroke-width:0.136242\" x=\"100.54018\" y=\"154.5627\" id=\"text4245\"><tspan sodipodi:role=\"line\" id=\"tspan4243\" x=\"100.54018\" y=\"154.5627\" style=\"stroke-width:0.136242\">1</tspan></text>\n",
       "    <text xml:space=\"preserve\" style=\"font-size:3.99644px;line-height:1.25;font-family:sans-serif;-inkscape-font-specification:sans-serif;stroke-width:0.136242\" x=\"103.42053\" y=\"152.15497\" id=\"text4249\"><tspan sodipodi:role=\"line\" id=\"tspan4247\" x=\"103.42053\" y=\"152.15497\" style=\"stroke-width:0.136242\">=</tspan></text>\n",
       "    <text xml:space=\"preserve\" style=\"font-size:3.99644px;line-height:1.25;font-family:sans-serif;-inkscape-font-specification:sans-serif;stroke-width:0.136242\" x=\"84.465279\" y=\"152.59389\" id=\"text4253\"><tspan sodipodi:role=\"line\" id=\"tspan4251\" x=\"84.465279\" y=\"152.59389\" style=\"stroke-width:0.136242\">1</tspan></text>\n",
       "    <path style=\"fill:none;stroke:#000000;stroke-width:0.34243;stroke-linecap:butt;stroke-linejoin:miter;stroke-miterlimit:4;stroke-dasharray:none;stroke-opacity:1\" d=\"m 81.797808,148.41089 c 0.11052,-0.12121 0.206608,-0.25557 0.28559,-0.39934 0.05097,-0.0928 0.09481,-0.18938 0.147626,-0.28111 0.05282,-0.0917 0.115543,-0.17945 0.19769,-0.2462 0.04038,-0.0328 0.08548,-0.0604 0.134711,-0.0772 0.04924,-0.0168 0.102794,-0.0226 0.153787,-0.0122 0.06658,0.0135 0.125464,0.0536 0.172256,0.10286 0.04679,0.0493 0.08278,0.10758 0.117691,0.16586 0.250323,0.41793 0.464384,0.86059 0.596558,1.32948 0.146126,0.51838 0.189909,1.05952 0.222242,1.59713 0.007,0.11648 0.01351,0.23338 0.005,0.34976 -0.0085,0.11638 -0.03246,0.23287 -0.08368,0.33772 -0.01749,0.0358 -0.03843,0.0705 -0.06717,0.0982 -0.02874,0.0276 -0.06605,0.0477 -0.105837,0.05 -0.0255,0.001 -0.05119,-0.004 -0.07427,-0.0153 -0.02309,-0.0109 -0.04364,-0.0268 -0.06128,-0.0453 -0.03529,-0.0369 -0.05869,-0.0834 -0.08019,-0.12978 -0.125651,-0.27092 -0.204147,-0.565 -0.216937,-0.86337 -0.02397,-0.55912 0.189396,-1.11893 0.555548,-1.54215 0.296408,-0.34261 0.690906,-0.59938 1.124181,-0.7317\" id=\"path4255\" inkscape:path-effect=\"#path-effect4257;#path-effect4259\" inkscape:original-d=\"m 81.797808,148.41089 c 0.332193,-0.2553 0.597285,-1.41683 1.080873,-0.89912 0.636971,0.68191 0.871894,1.91658 0.934814,2.81466 0.212347,3.03108 -2.202072,-1.03509 1.007835,-2.22828\"/>\n",
       "    <text xml:space=\"preserve\" style=\"font-size:3.99644px;line-height:1.25;font-family:sans-serif;-inkscape-font-specification:sans-serif;stroke-width:0.136242\" x=\"84.465279\" y=\"152.59389\" id=\"text4263\"><tspan sodipodi:role=\"line\" id=\"tspan4261\" x=\"84.465279\" y=\"152.59389\" style=\"stroke-width:0.136242\">1</tspan></text>\n",
       "    <path style=\"fill:none;stroke:#000000;stroke-width:0.34243;stroke-linecap:butt;stroke-linejoin:miter;stroke-miterlimit:4;stroke-dasharray:none;stroke-opacity:1\" d=\"m 108.07382,150.17745 c 0.11052,-0.12121 0.20661,-0.25557 0.28559,-0.39934 0.051,-0.0928 0.0948,-0.18938 0.14762,-0.28111 0.0528,-0.0917 0.11554,-0.17946 0.19769,-0.24621 0.0404,-0.0328 0.0855,-0.0604 0.13471,-0.0772 0.0492,-0.0168 0.1028,-0.0226 0.15379,-0.0122 0.0666,0.0135 0.12546,0.0536 0.17225,0.10286 0.0468,0.0493 0.0828,0.10757 0.1177,0.16585 0.25034,0.41792 0.46439,0.86059 0.59656,1.32948 0.14612,0.51838 0.1899,1.05952 0.22224,1.59713 0.007,0.11648 0.0135,0.23338 0.005,0.34976 -0.008,0.11639 -0.0325,0.23288 -0.0837,0.33773 -0.0175,0.0358 -0.0384,0.0705 -0.0672,0.0982 -0.0287,0.0276 -0.0661,0.0477 -0.10584,0.05 -0.0255,0.001 -0.0512,-0.004 -0.0743,-0.0153 -0.0231,-0.0109 -0.0436,-0.0268 -0.0613,-0.0453 -0.0353,-0.0369 -0.0587,-0.0834 -0.0802,-0.12979 -0.12564,-0.27092 -0.20414,-0.565 -0.21694,-0.86336 -0.024,-0.55912 0.18939,-1.11893 0.55555,-1.54215 0.29641,-0.3426 0.69091,-0.59937 1.12418,-0.7317\" id=\"path4265\" inkscape:path-effect=\"#path-effect4267;#path-effect4269\" inkscape:original-d=\"m 108.07382,150.17745 c 0.33219,-0.25531 0.59728,-1.41683 1.08087,-0.89913 0.63697,0.68191 0.87189,1.91658 0.93482,2.81466 0.21234,3.03109 -2.20207,-1.03508 1.00783,-2.22827\"/>\n",
       "    <text xml:space=\"preserve\" style=\"font-size:3.99644px;line-height:1.25;font-family:sans-serif;-inkscape-font-specification:sans-serif;stroke-width:0.136242\" x=\"110.74128\" y=\"154.36043\" id=\"text4273\"><tspan sodipodi:role=\"line\" id=\"tspan4271\" x=\"110.74128\" y=\"154.36043\" style=\"stroke-width:0.136242\">1</tspan></text>\n",
       "    <text xml:space=\"preserve\" style=\"font-size:3.99644px;line-height:1.25;font-family:sans-serif;-inkscape-font-specification:sans-serif;stroke-width:0.136242\" x=\"167.61801\" y=\"172.56633\" id=\"text4291\"><tspan sodipodi:role=\"line\" id=\"tspan4289\" x=\"167.61801\" y=\"172.56633\" style=\"stroke-width:0.136242\">2</tspan></text>\n",
       "    <text xml:space=\"preserve\" style=\"font-size:3.99644px;line-height:1.25;font-family:sans-serif;-inkscape-font-specification:sans-serif;stroke-width:0.136242\" x=\"170.49835\" y=\"170.1586\" id=\"text4295\"><tspan sodipodi:role=\"line\" id=\"tspan4293\" x=\"170.49835\" y=\"170.1586\" style=\"stroke-width:0.136242\">=</tspan></text>\n",
       "    <path style=\"fill:none;stroke:#000000;stroke-width:0.34243;stroke-linecap:butt;stroke-linejoin:miter;stroke-miterlimit:4;stroke-dasharray:none;stroke-opacity:1\" d=\"m 183.59875,168.18108 c 0.11052,-0.12121 0.20661,-0.25557 0.28559,-0.39934 0.051,-0.0928 0.0948,-0.18938 0.14763,-0.28111 0.0528,-0.0917 0.11554,-0.17946 0.19769,-0.24621 0.0404,-0.0328 0.0855,-0.0604 0.13471,-0.0772 0.0492,-0.0168 0.1028,-0.0226 0.15379,-0.0122 0.0666,0.0135 0.12546,0.0536 0.17226,0.10286 0.0468,0.0493 0.0828,0.10758 0.11769,0.16586 0.25032,0.41793 0.46438,0.86059 0.59655,1.32948 0.14612,0.51838 0.18991,1.05952 0.22224,1.59713 0.007,0.11648 0.0135,0.23338 0.005,0.34976 -0.008,0.11638 -0.0325,0.23287 -0.0837,0.33772 -0.0175,0.0358 -0.0384,0.0705 -0.0672,0.0981 -0.0287,0.0276 -0.0661,0.0477 -0.10583,0.05 -0.0255,0.001 -0.0512,-0.004 -0.0743,-0.0153 -0.0231,-0.0109 -0.0436,-0.0268 -0.0613,-0.0453 -0.0353,-0.0369 -0.0587,-0.0834 -0.0802,-0.12978 -0.12565,-0.27092 -0.20414,-0.565 -0.21693,-0.86336 -0.024,-0.55911 0.18939,-1.11893 0.55554,-1.54215 0.29641,-0.34261 0.6909,-0.59938 1.12418,-0.7317\" id=\"path4297\" inkscape:path-effect=\"#path-effect4299;#path-effect4301\" inkscape:original-d=\"m 183.59875,168.18108 c 0.33219,-0.2553 0.59729,-1.41684 1.08088,-0.89913 0.63697,0.68191 0.87189,1.91658 0.93481,2.81466 0.21235,3.03108 -2.20207,-1.03508 1.00783,-2.22827\"/>\n",
       "    <text xml:space=\"preserve\" style=\"font-size:3.99644px;line-height:1.25;font-family:sans-serif;-inkscape-font-specification:sans-serif;stroke-width:0.136242\" x=\"186.26627\" y=\"172.36407\" id=\"text4305\"><tspan sodipodi:role=\"line\" id=\"tspan4303\" x=\"186.26627\" y=\"172.36407\" style=\"stroke-width:0.136242\">2</tspan></text>\n",
       "    <g id=\"g4334\" transform=\"matrix(1.0221915,0,0,1.0236689,-173.49322,57.426552)\" style=\"stroke-width:0.352373;stroke-miterlimit:4;stroke-dasharray:none\">\n",
       "      <path style=\"fill:none;stroke:#000000;stroke-width:0.352373;stroke-linecap:butt;stroke-linejoin:miter;stroke-miterlimit:4;stroke-dasharray:none;stroke-opacity:1\" d=\"m 341.95107,111.12791 c 0.37115,-0.22903 0.67902,-0.55949 0.88123,-0.94591 0.26111,-0.49898 0.34198,-1.07286 0.36157,-1.63569 0.012,-0.34342 0.002,-0.69373 -0.10742,-1.0196 -0.0287,-0.0858 -0.0641,-0.16932 -0.10575,-0.24961\" id=\"path4307\" inkscape:path-effect=\"#path-effect4309;#path-effect4311\" inkscape:original-d=\"m 341.95107,111.12791 c 1.54403,-0.82981 1.33146,-3.4392 1.02963,-3.85081\"/>\n",
       "      <path style=\"fill:none;stroke:#000000;stroke-width:0.352373;stroke-linecap:butt;stroke-linejoin:miter;stroke-miterlimit:4;stroke-dasharray:none;stroke-opacity:1\" d=\"m 341.81603,107.58851 c 0.51672,-0.0224 1.03335,-0.047 1.54987,-0.0737 0.58932,-0.0305 1.17875,-0.0638 1.76579,-0.12395 0.0935,-0.01 0.18726,-0.0191 0.28118,-0.0165 0.0939,0.003 0.18689,0.0189 0.27887,0.0381 l 0.006,0.001\" id=\"path4319\" inkscape:path-effect=\"#path-effect4321;#path-effect4323\" inkscape:original-d=\"m 341.81603,107.58851 c 1.14173,0.0217 3.33658,-0.2916 3.88218,-0.17469\"/>\n",
       "      <path style=\"fill:none;stroke:#000000;stroke-width:0.352373;stroke-linecap:butt;stroke-linejoin:miter;stroke-miterlimit:4;stroke-dasharray:none;stroke-opacity:1\" d=\"m 344.39852,107.78599 c -0.0694,0.34122 -0.10047,0.6902 -0.0926,1.03831 0.0102,0.44845 0.0854,0.89597 0.2302,1.32053 0.0406,0.11911 0.0869,0.23696 0.15081,0.34539 0.0639,0.10844 0.1461,0.20764 0.2493,0.27966 0.13987,0.0976 0.31444,0.14113 0.48474,0.13166 0.25907,-0.0144 0.50842,-0.15333 0.65699,-0.36606\" id=\"path4325\" inkscape:path-effect=\"#path-effect4327;#path-effect4329\" inkscape:original-d=\"m 344.39852,107.78599 c -0.307,1.15586 0.0978,4.17298 1.67947,2.74949\"/>\n",
       "    </g>\n",
       "    <path style=\"fill:none;stroke:#000000;stroke-width:0.34243;stroke-linecap:butt;stroke-linejoin:miter;stroke-miterlimit:4;stroke-dasharray:none;stroke-opacity:1\" d=\"m 198.02187,163.11412 c 0.11052,-0.12122 0.20661,-0.25558 0.28559,-0.39935 0.051,-0.0928 0.0948,-0.18938 0.14763,-0.28111 0.0528,-0.0917 0.11554,-0.17945 0.19769,-0.2462 0.0404,-0.0328 0.0855,-0.0604 0.13471,-0.0772 0.0492,-0.0168 0.10279,-0.0226 0.15378,-0.0122 0.0666,0.0135 0.12547,0.0536 0.17226,0.10286 0.0468,0.0493 0.0828,0.10758 0.11769,0.16586 0.25032,0.41793 0.46439,0.86059 0.59656,1.32948 0.14613,0.51838 0.18991,1.05952 0.22224,1.59713 0.007,0.11648 0.0135,0.23338 0.005,0.34976 -0.008,0.11639 -0.0325,0.23288 -0.0837,0.33773 -0.0175,0.0358 -0.0384,0.0705 -0.0672,0.0982 -0.0287,0.0276 -0.066,0.0477 -0.10583,0.05 -0.0255,0.001 -0.0512,-0.004 -0.0743,-0.0153 -0.0231,-0.0109 -0.0436,-0.0268 -0.0613,-0.0453 -0.0353,-0.0369 -0.0587,-0.0834 -0.0802,-0.12979 -0.12564,-0.27092 -0.20414,-0.565 -0.21693,-0.86336 -0.024,-0.55912 0.1894,-1.11893 0.55555,-1.54215 0.29641,-0.34261 0.69091,-0.59937 1.12418,-0.7317\" id=\"path4336\" inkscape:path-effect=\"#path-effect4338;#path-effect4340\" inkscape:original-d=\"m 198.02187,163.11412 c 0.3322,-0.25531 0.59729,-1.41684 1.08087,-0.89913 0.63698,0.68191 0.8719,1.91658 0.93482,2.81466 0.21235,3.03109 -2.20207,-1.03508 1.00784,-2.22827\"/>\n",
       "    <text xml:space=\"preserve\" style=\"font-size:3.99644px;line-height:1.25;font-family:sans-serif;-inkscape-font-specification:sans-serif;stroke-width:0.136242\" x=\"200.68935\" y=\"167.2971\" id=\"text4344\"><tspan sodipodi:role=\"line\" id=\"tspan4342\" x=\"200.68935\" y=\"167.2971\" style=\"stroke-width:0.136242\">2</tspan></text>\n",
       "    <text xml:space=\"preserve\" style=\"font-size:3.99644px;line-height:1.25;font-family:sans-serif;-inkscape-font-specification:sans-serif;stroke-width:0.136242\" x=\"181.36389\" y=\"170.5247\" id=\"text4348\"><tspan sodipodi:role=\"line\" id=\"tspan4346\" x=\"181.36389\" y=\"170.5247\" style=\"stroke-width:0.136242\">-</tspan></text>\n",
       "    <text xml:space=\"preserve\" style=\"font-size:3.99644px;line-height:1.25;font-family:sans-serif;-inkscape-font-specification:sans-serif;stroke-width:0.136242\" x=\"46.175381\" y=\"238.54506\" id=\"text4352\"><tspan sodipodi:role=\"line\" id=\"tspan4350\" x=\"46.175381\" y=\"238.54506\" style=\"stroke-width:0.136242\">Sobreposto</tspan></text>\n",
       "    <text xml:space=\"preserve\" style=\"font-size:3.99644px;line-height:1.25;font-family:sans-serif;-inkscape-font-specification:sans-serif;stroke-width:0.136242\" x=\"192.28377\" y=\"238.54506\" id=\"text4356\"><tspan sodipodi:role=\"line\" id=\"tspan4354\" x=\"192.28377\" y=\"238.54506\" style=\"stroke-width:0.136242\">Estendido</tspan></text>\n",
       "    <g id=\"g4661-2\" transform=\"translate(-67.39023,-18.21437)\">\n",
       "      <path style=\"fill:none;stroke:#000000;stroke-width:0.365;stroke-linecap:butt;stroke-linejoin:miter;stroke-miterlimit:4;stroke-dasharray:none;stroke-opacity:1\" d=\"m 164.6125,168.0126 c -0.0661,2.07932 0.46003,4.02014 -0.61118,5.46555\" id=\"path4652-9\" sodipodi:nodetypes=\"cc\"/>\n",
       "      <path style=\"fill:none;stroke:#000000;stroke-width:0.365;stroke-linecap:butt;stroke-linejoin:miter;stroke-miterlimit:4;stroke-dasharray:none;stroke-opacity:1\" d=\"m 164.5347,170.69529 c 0.72288,0.37788 1.15278,0.92139 2.28685,0.0857 l -0.12099,-2.89337\" id=\"path4654-1\" sodipodi:nodetypes=\"ccc\"/>\n",
       "      <path style=\"fill:none;stroke:#000000;stroke-width:0.365;stroke-linecap:butt;stroke-linejoin:miter;stroke-miterlimit:4;stroke-dasharray:none;stroke-opacity:1\" d=\"m 166.78319,170.86932 c 0.0956,0.48541 0.40666,0.61309 1.09187,0.11931\" id=\"path4656-2\" sodipodi:nodetypes=\"cc\"/>\n",
       "    </g>\n",
       "  </g>\n",
       "</svg>"
      ],
      "text/plain": [
       "<IPython.core.display.SVG object>"
      ]
     },
     "execution_count": 128,
     "metadata": {},
     "output_type": "execute_result"
    }
   ],
   "source": [
    "SVG('figs4-9.svg')"
   ]
  },
  {
   "cell_type": "markdown",
   "metadata": {
    "slideshow": {
     "slide_type": "fragment"
    }
   },
   "source": [
    "Para o caso sobreposto: \n",
    "$$\\mu_1 = \\gamma_1 = arccos \\left(\\dfrac{b^2 + c^2 - (d+a)^2}{2bc} \\right) $$\n",
    "Para o caso estendido: \n",
    "$$ \\mu_2 = \\gamma_2 = arccos \\left( \\dfrac{b^2 + c^2 - (d+a)^2}{2bc} \\right) $$"
   ]
  },
  {
   "cell_type": "markdown",
   "metadata": {
    "slideshow": {
     "slide_type": "fragment"
    }
   },
   "source": [
    "O ângulo mínimo de transmissão $\\mu_{min}$ em um mecanimos manivela seguidor de Grashof é o menor dos valores de $\\mu_1$ e $\\mu_2$."
   ]
  },
  {
   "cell_type": "markdown",
   "metadata": {
    "slideshow": {
     "slide_type": "fragment"
    }
   },
   "source": [
    "Para um mecanismo **duplo seguidor de Grashof**, o ângulo de transmissão pode variar de $0^\\circ$ a $90^\\circ$ porque o acoplador pode fazer uma revolução completa em relação aos outros elos. <br>\n",
    "Para um mecanismo **triplo seguidor não Grashof**, o ângulo de transmissão será $0^\\circ$ nos pontos de singularidade que ocorrem quando o seguidor de saída $c$ e o acoplador $b$ forem colinerares. Nos outros pontos de singularidade, quando o seguidor de entrada $a$ e o acoplador $b$ forem colineares, o ângulo de transmissão pode ser calculado pela lei dos cossenos: <br>\n",
    "quando: $\\qquad \\nu=0,$\n",
    "$$ \\mu = arccos \\left( \\dfrac{(a+b)^{2} + c^2 - d^2}{2c(a+b)} \\right) $$\n",
    "Esse não é o menor valor que o ângulo de transmissão $\\mu$ pode obter em um triplo seguidor, já que ele esse valor é zero."
   ]
  },
  {
   "cell_type": "code",
   "execution_count": 129,
   "metadata": {
    "scrolled": true,
    "slideshow": {
     "slide_type": "fragment"
    }
   },
   "outputs": [
    {
     "data": {
      "image/svg+xml": [
       "<svg xmlns:dc=\"http://purl.org/dc/elements/1.1/\" xmlns:cc=\"http://creativecommons.org/ns#\" xmlns:rdf=\"http://www.w3.org/1999/02/22-rdf-syntax-ns#\" xmlns:svg=\"http://www.w3.org/2000/svg\" xmlns=\"http://www.w3.org/2000/svg\" xmlns:sodipodi=\"http://sodipodi.sourceforge.net/DTD/sodipodi-0.dtd\" xmlns:inkscape=\"http://www.inkscape.org/namespaces/inkscape\" width=\"239.77875mm\" height=\"88.94503mm\" viewBox=\"0 0 239.77875 88.945031\" version=\"1.1\" id=\"svg8\" inkscape:version=\"1.0.1 (3bc2e813f5, 2020-09-07)\" sodipodi:docname=\"figs4-10.svg\">\n",
       "  <defs id=\"defs2\">\n",
       "    <marker style=\"overflow:visible\" id=\"marker6340\" refX=\"0\" refY=\"0\" orient=\"auto\" inkscape:stockid=\"Arrow1Lstart\" inkscape:isstock=\"true\">\n",
       "      <path transform=\"matrix(0.8,0,0,0.8,10,0)\" style=\"fill:#000000;fill-opacity:1;fill-rule:evenodd;stroke:#000000;stroke-width:1pt;stroke-opacity:1\" d=\"M 0,0 5,-5 -12.5,0 5,5 Z\" id=\"path6338\"/>\n",
       "    </marker>\n",
       "    <marker style=\"overflow:visible\" id=\"marker6108\" refX=\"0\" refY=\"0\" orient=\"auto\" inkscape:stockid=\"Arrow1Lend\" inkscape:isstock=\"true\">\n",
       "      <path transform=\"matrix(-0.8,0,0,-0.8,-10,0)\" style=\"fill:#000000;fill-opacity:1;fill-rule:evenodd;stroke:#000000;stroke-width:1pt;stroke-opacity:1\" d=\"M 0,0 5,-5 -12.5,0 5,5 Z\" id=\"path6106\"/>\n",
       "    </marker>\n",
       "    <marker style=\"overflow:visible\" id=\"marker5362\" refX=\"0\" refY=\"0\" orient=\"auto\" inkscape:stockid=\"Arrow1Lend\" inkscape:isstock=\"true\">\n",
       "      <path transform=\"matrix(-0.8,0,0,-0.8,-10,0)\" style=\"fill:#000000;fill-opacity:1;fill-rule:evenodd;stroke:#000000;stroke-width:1pt;stroke-opacity:1\" d=\"M 0,0 5,-5 -12.5,0 5,5 Z\" id=\"path5360\"/>\n",
       "    </marker>\n",
       "    <marker style=\"overflow:visible\" id=\"marker5352\" refX=\"0\" refY=\"0\" orient=\"auto\" inkscape:stockid=\"Arrow1Lstart\" inkscape:isstock=\"true\">\n",
       "      <path transform=\"matrix(0.8,0,0,0.8,10,0)\" style=\"fill:#000000;fill-opacity:1;fill-rule:evenodd;stroke:#000000;stroke-width:1pt;stroke-opacity:1\" d=\"M 0,0 5,-5 -12.5,0 5,5 Z\" id=\"path5350\"/>\n",
       "    </marker>\n",
       "    <marker style=\"overflow:visible\" id=\"marker5342\" refX=\"0\" refY=\"0\" orient=\"auto\" inkscape:stockid=\"Arrow1Lstart\" inkscape:isstock=\"true\">\n",
       "      <path transform=\"matrix(0.8,0,0,0.8,10,0)\" style=\"fill:#000000;fill-opacity:1;fill-rule:evenodd;stroke:#000000;stroke-width:1pt;stroke-opacity:1\" d=\"M 0,0 5,-5 -12.5,0 5,5 Z\" id=\"path5340\"/>\n",
       "    </marker>\n",
       "    <marker style=\"overflow:visible\" id=\"marker5332\" refX=\"0\" refY=\"0\" orient=\"auto\" inkscape:stockid=\"Arrow1Lstart\" inkscape:isstock=\"true\">\n",
       "      <path transform=\"matrix(0.8,0,0,0.8,10,0)\" style=\"fill:#000000;fill-opacity:1;fill-rule:evenodd;stroke:#000000;stroke-width:1pt;stroke-opacity:1\" d=\"M 0,0 5,-5 -12.5,0 5,5 Z\" id=\"path5330\"/>\n",
       "    </marker>\n",
       "    <marker style=\"overflow:visible\" id=\"marker4994\" refX=\"0\" refY=\"0\" orient=\"auto\" inkscape:stockid=\"Arrow1Lstart\" inkscape:isstock=\"true\" inkscape:collect=\"always\">\n",
       "      <path transform=\"matrix(0.8,0,0,0.8,10,0)\" style=\"fill:#000000;fill-opacity:1;fill-rule:evenodd;stroke:#000000;stroke-width:1pt;stroke-opacity:1\" d=\"M 0,0 5,-5 -12.5,0 5,5 Z\" id=\"path4992\"/>\n",
       "    </marker>\n",
       "    <marker style=\"overflow:visible\" id=\"marker4804\" refX=\"0\" refY=\"0\" orient=\"auto\" inkscape:stockid=\"Arrow1Lend\" inkscape:isstock=\"true\" inkscape:collect=\"always\">\n",
       "      <path transform=\"matrix(-0.8,0,0,-0.8,-10,0)\" style=\"fill:#000000;fill-opacity:1;fill-rule:evenodd;stroke:#000000;stroke-width:1pt;stroke-opacity:1\" d=\"M 0,0 5,-5 -12.5,0 5,5 Z\" id=\"path4802\"/>\n",
       "    </marker>\n",
       "    <marker style=\"overflow:visible\" id=\"marker4536\" refX=\"0\" refY=\"0\" orient=\"auto\" inkscape:stockid=\"Arrow1Lstart\" inkscape:isstock=\"true\" inkscape:collect=\"always\">\n",
       "      <path transform=\"matrix(0.8,0,0,0.8,10,0)\" style=\"fill:#000000;fill-opacity:1;fill-rule:evenodd;stroke:#000000;stroke-width:1pt;stroke-opacity:1\" d=\"M 0,0 5,-5 -12.5,0 5,5 Z\" id=\"path4534\"/>\n",
       "    </marker>\n",
       "    <marker style=\"overflow:visible\" id=\"marker4526\" refX=\"0\" refY=\"0\" orient=\"auto\" inkscape:stockid=\"Arrow1Lstart\" inkscape:isstock=\"true\" inkscape:collect=\"always\">\n",
       "      <path transform=\"matrix(0.8,0,0,0.8,10,0)\" style=\"fill:#000000;fill-opacity:1;fill-rule:evenodd;stroke:#000000;stroke-width:1pt;stroke-opacity:1\" d=\"M 0,0 5,-5 -12.5,0 5,5 Z\" id=\"path4524\"/>\n",
       "    </marker>\n",
       "    <marker style=\"overflow:visible\" id=\"marker4110\" refX=\"0\" refY=\"0\" orient=\"auto\" inkscape:stockid=\"Arrow1Lend\" inkscape:isstock=\"true\">\n",
       "      <path transform=\"matrix(-0.8,0,0,-0.8,-10,0)\" style=\"fill:#000000;fill-opacity:1;fill-rule:evenodd;stroke:#000000;stroke-width:1pt;stroke-opacity:1\" d=\"M 0,0 5,-5 -12.5,0 5,5 Z\" id=\"path4108\"/>\n",
       "    </marker>\n",
       "    <marker style=\"overflow:visible\" id=\"marker4100\" refX=\"0\" refY=\"0\" orient=\"auto\" inkscape:stockid=\"Arrow1Lend\" inkscape:isstock=\"true\">\n",
       "      <path transform=\"matrix(-0.8,0,0,-0.8,-10,0)\" style=\"fill:#000000;fill-opacity:1;fill-rule:evenodd;stroke:#000000;stroke-width:1pt;stroke-opacity:1\" d=\"M 0,0 5,-5 -12.5,0 5,5 Z\" id=\"path4098\"/>\n",
       "    </marker>\n",
       "    <marker style=\"overflow:visible\" id=\"marker4090\" refX=\"0\" refY=\"0\" orient=\"auto\" inkscape:stockid=\"Arrow1Lstart\" inkscape:isstock=\"true\">\n",
       "      <path transform=\"matrix(0.8,0,0,0.8,10,0)\" style=\"fill:#000000;fill-opacity:1;fill-rule:evenodd;stroke:#000000;stroke-width:1pt;stroke-opacity:1\" d=\"M 0,0 5,-5 -12.5,0 5,5 Z\" id=\"path4088\"/>\n",
       "    </marker>\n",
       "    <marker style=\"overflow:visible\" id=\"marker4080\" refX=\"0\" refY=\"0\" orient=\"auto\" inkscape:stockid=\"Arrow1Lstart\" inkscape:isstock=\"true\">\n",
       "      <path transform=\"matrix(0.8,0,0,0.8,10,0)\" style=\"fill:#000000;fill-opacity:1;fill-rule:evenodd;stroke:#000000;stroke-width:1pt;stroke-opacity:1\" d=\"M 0,0 5,-5 -12.5,0 5,5 Z\" id=\"path4078\"/>\n",
       "    </marker>\n",
       "    <marker style=\"overflow:visible\" id=\"marker4070\" refX=\"0\" refY=\"0\" orient=\"auto\" inkscape:stockid=\"Arrow1Lstart\" inkscape:isstock=\"true\">\n",
       "      <path transform=\"matrix(0.8,0,0,0.8,10,0)\" style=\"fill:#000000;fill-opacity:1;fill-rule:evenodd;stroke:#000000;stroke-width:1pt;stroke-opacity:1\" d=\"M 0,0 5,-5 -12.5,0 5,5 Z\" id=\"path4068\"/>\n",
       "    </marker>\n",
       "    <marker style=\"overflow:visible\" id=\"marker4060\" refX=\"0\" refY=\"0\" orient=\"auto\" inkscape:stockid=\"Arrow1Lstart\" inkscape:isstock=\"true\">\n",
       "      <path transform=\"matrix(0.8,0,0,0.8,10,0)\" style=\"fill:#000000;fill-opacity:1;fill-rule:evenodd;stroke:#000000;stroke-width:1pt;stroke-opacity:1\" d=\"M 0,0 5,-5 -12.5,0 5,5 Z\" id=\"path4058\"/>\n",
       "    </marker>\n",
       "    <marker style=\"overflow:visible\" id=\"marker3658\" refX=\"0\" refY=\"0\" orient=\"auto\" inkscape:stockid=\"Arrow1Lend\" inkscape:isstock=\"true\">\n",
       "      <path transform=\"matrix(-0.8,0,0,-0.8,-10,0)\" style=\"fill:#000000;fill-opacity:1;fill-rule:evenodd;stroke:#000000;stroke-width:1pt;stroke-opacity:1\" d=\"M 0,0 5,-5 -12.5,0 5,5 Z\" id=\"path3656\"/>\n",
       "    </marker>\n",
       "    <marker style=\"overflow:visible\" id=\"marker3648\" refX=\"0\" refY=\"0\" orient=\"auto\" inkscape:stockid=\"Arrow1Lstart\" inkscape:isstock=\"true\">\n",
       "      <path transform=\"matrix(0.8,0,0,0.8,10,0)\" style=\"fill:#000000;fill-opacity:1;fill-rule:evenodd;stroke:#000000;stroke-width:1pt;stroke-opacity:1\" d=\"M 0,0 5,-5 -12.5,0 5,5 Z\" id=\"path3646\"/>\n",
       "    </marker>\n",
       "    <marker style=\"overflow:visible\" id=\"marker3216\" refX=\"0\" refY=\"0\" orient=\"auto\" inkscape:stockid=\"Arrow1Lend\" inkscape:isstock=\"true\">\n",
       "      <path transform=\"matrix(-0.8,0,0,-0.8,-10,0)\" style=\"fill:#000000;fill-opacity:1;fill-rule:evenodd;stroke:#000000;stroke-width:1pt;stroke-opacity:1\" d=\"M 0,0 5,-5 -12.5,0 5,5 Z\" id=\"path3214\"/>\n",
       "    </marker>\n",
       "    <marker style=\"overflow:visible\" id=\"marker3206\" refX=\"0\" refY=\"0\" orient=\"auto\" inkscape:stockid=\"Arrow1Lend\" inkscape:isstock=\"true\" inkscape:collect=\"always\">\n",
       "      <path transform=\"matrix(-0.8,0,0,-0.8,-10,0)\" style=\"fill:#000000;fill-opacity:1;fill-rule:evenodd;stroke:#000000;stroke-width:1pt;stroke-opacity:1\" d=\"M 0,0 5,-5 -12.5,0 5,5 Z\" id=\"path3204\"/>\n",
       "    </marker>\n",
       "    <marker style=\"overflow:visible\" id=\"marker3196\" refX=\"0\" refY=\"0\" orient=\"auto\" inkscape:stockid=\"Arrow1Lstart\" inkscape:isstock=\"true\">\n",
       "      <path transform=\"matrix(0.8,0,0,0.8,10,0)\" style=\"fill:#000000;fill-opacity:1;fill-rule:evenodd;stroke:#000000;stroke-width:1pt;stroke-opacity:1\" d=\"M 0,0 5,-5 -12.5,0 5,5 Z\" id=\"path3194\"/>\n",
       "    </marker>\n",
       "    <marker style=\"overflow:visible\" id=\"marker3186\" refX=\"0\" refY=\"0\" orient=\"auto\" inkscape:stockid=\"Arrow1Lstart\" inkscape:isstock=\"true\" inkscape:collect=\"always\">\n",
       "      <path transform=\"matrix(0.8,0,0,0.8,10,0)\" style=\"fill:#000000;fill-opacity:1;fill-rule:evenodd;stroke:#000000;stroke-width:1pt;stroke-opacity:1\" d=\"M 0,0 5,-5 -12.5,0 5,5 Z\" id=\"path3184\"/>\n",
       "    </marker>\n",
       "    <marker style=\"overflow:visible\" id=\"marker3176\" refX=\"0\" refY=\"0\" orient=\"auto\" inkscape:stockid=\"Arrow1Lstart\" inkscape:isstock=\"true\" inkscape:collect=\"always\">\n",
       "      <path transform=\"matrix(0.8,0,0,0.8,10,0)\" style=\"fill:#000000;fill-opacity:1;fill-rule:evenodd;stroke:#000000;stroke-width:1pt;stroke-opacity:1\" d=\"M 0,0 5,-5 -12.5,0 5,5 Z\" id=\"path3174\"/>\n",
       "    </marker>\n",
       "    <marker style=\"overflow:visible\" id=\"marker3166\" refX=\"0\" refY=\"0\" orient=\"auto\" inkscape:stockid=\"Arrow1Lstart\" inkscape:isstock=\"true\" inkscape:collect=\"always\">\n",
       "      <path transform=\"matrix(0.8,0,0,0.8,10,0)\" style=\"fill:#000000;fill-opacity:1;fill-rule:evenodd;stroke:#000000;stroke-width:1pt;stroke-opacity:1\" d=\"M 0,0 5,-5 -12.5,0 5,5 Z\" id=\"path3164\"/>\n",
       "    </marker>\n",
       "    <marker style=\"overflow:visible\" id=\"marker2776\" refX=\"0\" refY=\"0\" orient=\"auto\" inkscape:stockid=\"Arrow1Lend\" inkscape:isstock=\"true\" inkscape:collect=\"always\">\n",
       "      <path transform=\"matrix(-0.8,0,0,-0.8,-10,0)\" style=\"fill:#000000;fill-opacity:1;fill-rule:evenodd;stroke:#000000;stroke-width:1pt;stroke-opacity:1\" d=\"M 0,0 5,-5 -12.5,0 5,5 Z\" id=\"path2774\"/>\n",
       "    </marker>\n",
       "    <marker style=\"overflow:visible\" id=\"marker2676\" refX=\"0\" refY=\"0\" orient=\"auto\" inkscape:stockid=\"Arrow1Lstart\" inkscape:isstock=\"true\">\n",
       "      <path transform=\"matrix(0.8,0,0,0.8,10,0)\" style=\"fill:#000000;fill-opacity:1;fill-rule:evenodd;stroke:#000000;stroke-width:1pt;stroke-opacity:1\" d=\"M 0,0 5,-5 -12.5,0 5,5 Z\" id=\"path2674\"/>\n",
       "    </marker>\n",
       "    <marker style=\"overflow:visible\" id=\"marker2600\" refX=\"0\" refY=\"0\" orient=\"auto\" inkscape:stockid=\"Arrow1Lstart\" inkscape:isstock=\"true\" inkscape:collect=\"always\">\n",
       "      <path transform=\"matrix(0.8,0,0,0.8,10,0)\" style=\"fill:#000000;fill-opacity:1;fill-rule:evenodd;stroke:#000000;stroke-width:1pt;stroke-opacity:1\" d=\"M 0,0 5,-5 -12.5,0 5,5 Z\" id=\"path2598\"/>\n",
       "    </marker>\n",
       "    <marker style=\"overflow:visible\" id=\"marker2530\" refX=\"0\" refY=\"0\" orient=\"auto\" inkscape:stockid=\"Arrow1Lend\" inkscape:isstock=\"true\">\n",
       "      <path transform=\"matrix(-0.8,0,0,-0.8,-10,0)\" style=\"fill:#000000;fill-opacity:1;fill-rule:evenodd;stroke:#000000;stroke-width:1pt;stroke-opacity:1\" d=\"M 0,0 5,-5 -12.5,0 5,5 Z\" id=\"path2528\"/>\n",
       "    </marker>\n",
       "    <marker style=\"overflow:visible\" id=\"marker1512\" refX=\"0\" refY=\"0\" orient=\"auto\" inkscape:stockid=\"Arrow1Lstart\" inkscape:isstock=\"true\" inkscape:collect=\"always\">\n",
       "      <path transform=\"matrix(0.8,0,0,0.8,10,0)\" style=\"fill:#000000;fill-opacity:1;fill-rule:evenodd;stroke:#000000;stroke-width:1pt;stroke-opacity:1\" d=\"M 0,0 5,-5 -12.5,0 5,5 Z\" id=\"path1510\"/>\n",
       "    </marker>\n",
       "    <marker style=\"overflow:visible\" id=\"marker1454\" refX=\"0\" refY=\"0\" orient=\"auto\" inkscape:stockid=\"Arrow1Lend\" inkscape:isstock=\"true\">\n",
       "      <path transform=\"matrix(-0.8,0,0,-0.8,-10,0)\" style=\"fill:#000000;fill-opacity:1;fill-rule:evenodd;stroke:#000000;stroke-width:1pt;stroke-opacity:1\" d=\"M 0,0 5,-5 -12.5,0 5,5 Z\" id=\"path1452\"/>\n",
       "    </marker>\n",
       "    <marker style=\"overflow:visible\" id=\"marker1402\" refX=\"0\" refY=\"0\" orient=\"auto\" inkscape:stockid=\"Arrow1Lend\" inkscape:isstock=\"true\">\n",
       "      <path transform=\"matrix(-0.8,0,0,-0.8,-10,0)\" style=\"fill:#000000;fill-opacity:1;fill-rule:evenodd;stroke:#000000;stroke-width:1pt;stroke-opacity:1\" d=\"M 0,0 5,-5 -12.5,0 5,5 Z\" id=\"path1400\"/>\n",
       "    </marker>\n",
       "    <marker style=\"overflow:visible\" id=\"marker1348\" refX=\"0\" refY=\"0\" orient=\"auto\" inkscape:stockid=\"Arrow1Lstart\" inkscape:isstock=\"true\" inkscape:collect=\"always\">\n",
       "      <path transform=\"matrix(0.8,0,0,0.8,10,0)\" style=\"fill:#000000;fill-opacity:1;fill-rule:evenodd;stroke:#000000;stroke-width:1pt;stroke-opacity:1\" d=\"M 0,0 5,-5 -12.5,0 5,5 Z\" id=\"path1346\"/>\n",
       "    </marker>\n",
       "    <marker style=\"overflow:visible\" id=\"Arrow2Mstart\" refX=\"0\" refY=\"0\" orient=\"auto\" inkscape:stockid=\"Arrow2Mstart\" inkscape:isstock=\"true\">\n",
       "      <path transform=\"scale(0.6)\" d=\"M 8.7185878,4.0337352 -2.2072895,0.01601326 8.7185884,-4.0017078 c -1.7454984,2.3720609 -1.7354408,5.6174519 -6e-7,8.035443 z\" style=\"fill:#000000;fill-opacity:1;fill-rule:evenodd;stroke:#000000;stroke-width:0.625;stroke-linejoin:round;stroke-opacity:1\" id=\"path980\"/>\n",
       "    </marker>\n",
       "    <marker style=\"overflow:visible\" id=\"Arrow2Mend\" refX=\"0\" refY=\"0\" orient=\"auto\" inkscape:stockid=\"Arrow2Mend\" inkscape:isstock=\"true\">\n",
       "      <path transform=\"scale(-0.6)\" d=\"M 8.7185878,4.0337352 -2.2072895,0.01601326 8.7185884,-4.0017078 c -1.7454984,2.3720609 -1.7354408,5.6174519 -6e-7,8.035443 z\" style=\"fill:#000000;fill-opacity:1;fill-rule:evenodd;stroke:#000000;stroke-width:0.625;stroke-linejoin:round;stroke-opacity:1\" id=\"path983\"/>\n",
       "    </marker>\n",
       "  </defs>\n",
       "  <sodipodi:namedview id=\"base\" pagecolor=\"#ffffff\" bordercolor=\"#666666\" borderopacity=\"1.0\" inkscape:pageopacity=\"0.0\" inkscape:pageshadow=\"2\" inkscape:zoom=\"0.7\" inkscape:cx=\"358.7699\" inkscape:cy=\"68.298974\" inkscape:document-units=\"mm\" inkscape:current-layer=\"layer11\" inkscape:document-rotation=\"0\" showgrid=\"false\" inkscape:snap-object-midpoints=\"true\" inkscape:snap-smooth-nodes=\"true\" inkscape:window-width=\"1920\" inkscape:window-height=\"1017\" inkscape:window-x=\"-8\" inkscape:window-y=\"-8\" inkscape:window-maximized=\"1\"/>\n",
       "  <metadata id=\"metadata5\">\n",
       "    <rdf:RDF>\n",
       "      <cc:Work rdf:about=\"\">\n",
       "        <dc:format>image/svg+xml</dc:format>\n",
       "        <dc:type rdf:resource=\"http://purl.org/dc/dcmitype/StillImage\"/>\n",
       "        <dc:title/>\n",
       "      </cc:Work>\n",
       "    </rdf:RDF>\n",
       "  </metadata>\n",
       "  <g inkscape:groupmode=\"layer\" id=\"layer11\" inkscape:label=\"Layer 2\">\n",
       "    <rect style=\"fill:#ffffff;stroke:#ffffff;stroke-width:0.901307\" id=\"rect9228\" width=\"243.54106\" height=\"92.694298\" x=\"-1.6544684\" y=\"-1.2422178\"/>\n",
       "  </g>\n",
       "  <g inkscape:label=\"Layer 1\" inkscape:groupmode=\"layer\" id=\"layer1\" transform=\"translate(12.58663,-125.8786)\">\n",
       "    <path id=\"path839\" style=\"fill:#ffffff;stroke:#000000;stroke-width:0.601979;stroke-linejoin:bevel;stroke-miterlimit:4;stroke-dasharray:none\" d=\"m 4.7924713,165.30965 a 5.0751427,5.0360814 0 0 0 -5.06547847,5.03608 5.0751427,5.0360814 0 0 0 0,0.01 v 8.80355 H 9.877278 v -8.81315 a 5.0751427,5.0360814 0 0 0 -5.0751424,-5.03608 5.0751427,5.0360814 0 0 0 -0.00967,0 z\"/>\n",
       "    <path style=\"fill:none;stroke:#000000;stroke-width:0.601978;stroke-linecap:butt;stroke-linejoin:miter;stroke-miterlimit:4;stroke-dasharray:none;stroke-opacity:1\" d=\"M -12.326472,179.15887 H 24.468313\" id=\"path850\"/>\n",
       "    <path style=\"fill:none;stroke:#000000;stroke-width:0.601978;stroke-linecap:butt;stroke-linejoin:miter;stroke-miterlimit:4;stroke-dasharray:none;stroke-opacity:1\" d=\"m -12.326472,179.15887 4.76147,8.18364\" id=\"path852\"/>\n",
       "    <path style=\"fill:none;stroke:#000000;stroke-width:0.601978;stroke-linecap:butt;stroke-linejoin:miter;stroke-miterlimit:4;stroke-dasharray:none;stroke-opacity:1\" d=\"m -3.9524807,179.15887 4.76146954,8.18364\" id=\"path854\"/>\n",
       "    <path style=\"fill:none;stroke:#000000;stroke-width:0.601978;stroke-linecap:butt;stroke-linejoin:miter;stroke-miterlimit:4;stroke-dasharray:none;stroke-opacity:1\" d=\"m 4.1677528,179.15887 4.7614694,8.18364\" id=\"path856\"/>\n",
       "    <path style=\"fill:none;stroke:#000000;stroke-width:0.601978;stroke-linecap:butt;stroke-linejoin:miter;stroke-miterlimit:4;stroke-dasharray:none;stroke-opacity:1\" d=\"m 12.541743,179.15887 4.76147,8.18364\" id=\"path858\"/>\n",
       "    <path style=\"fill:none;stroke:#000000;stroke-width:0.601978;stroke-linecap:butt;stroke-linejoin:miter;stroke-miterlimit:4;stroke-dasharray:none;stroke-opacity:1\" d=\"m 20.915734,179.15887 4.761473,8.18364\" id=\"path860\"/>\n",
       "    <path id=\"path906\" style=\"fill:#ffffff;stroke:#000000;stroke-width:0.601979;stroke-linejoin:bevel;stroke-miterlimit:4;stroke-dasharray:none\" d=\"m 76.352064,165.30965 a 5.0751427,5.0360814 0 0 0 -5.065478,5.03608 5.0751427,5.0360814 0 0 0 0,0.01 v 8.80355 h 10.150285 v -8.81315 a 5.0751427,5.0360814 0 0 0 -5.075142,-5.03608 5.0751427,5.0360814 0 0 0 -0.0097,0 z\"/>\n",
       "    <path style=\"fill:none;stroke:#000000;stroke-width:0.601978;stroke-linecap:butt;stroke-linejoin:miter;stroke-miterlimit:4;stroke-dasharray:none;stroke-opacity:1\" d=\"M 59.233121,179.15887 H 96.027907\" id=\"path908\"/>\n",
       "    <path style=\"fill:none;stroke:#000000;stroke-width:0.601978;stroke-linecap:butt;stroke-linejoin:miter;stroke-miterlimit:4;stroke-dasharray:none;stroke-opacity:1\" d=\"m 59.233121,179.15887 4.76147,8.18364\" id=\"path910\"/>\n",
       "    <path style=\"fill:none;stroke:#000000;stroke-width:0.601978;stroke-linecap:butt;stroke-linejoin:miter;stroke-miterlimit:4;stroke-dasharray:none;stroke-opacity:1\" d=\"m 67.607112,179.15887 4.76147,8.18364\" id=\"path912\"/>\n",
       "    <path style=\"fill:none;stroke:#000000;stroke-width:0.601978;stroke-linecap:butt;stroke-linejoin:miter;stroke-miterlimit:4;stroke-dasharray:none;stroke-opacity:1\" d=\"m 75.727345,179.15887 4.76147,8.18364\" id=\"path914\"/>\n",
       "    <path style=\"fill:none;stroke:#000000;stroke-width:0.601978;stroke-linecap:butt;stroke-linejoin:miter;stroke-miterlimit:4;stroke-dasharray:none;stroke-opacity:1\" d=\"m 84.101336,179.15887 4.761467,8.18364\" id=\"path916\"/>\n",
       "    <path style=\"fill:none;stroke:#000000;stroke-width:0.601978;stroke-linecap:butt;stroke-linejoin:miter;stroke-miterlimit:4;stroke-dasharray:none;stroke-opacity:1\" d=\"m 92.475325,179.15887 4.761477,8.18364\" id=\"path918\"/>\n",
       "    <path style=\"fill:none;stroke:#000000;stroke-width:0.571881;stroke-linecap:butt;stroke-linejoin:miter;stroke-miterlimit:4;stroke-dasharray:none;stroke-opacity:1\" d=\"M 4.8299784,170.2856 -7.4556801,131.29229 76.389569,170.28559\" id=\"path932\"/>\n",
       "    <ellipse style=\"fill:#ffffff;stroke:#000000;stroke-width:0.601978;stroke-linejoin:bevel\" id=\"ellipse934\" cx=\"-7.4556804\" cy=\"131.29228\" rx=\"1.7740169\" ry=\"1.7603631\"/>\n",
       "    <path style=\"fill:none;stroke:#000000;stroke-width:0.227892;stroke-linecap:butt;stroke-linejoin:miter;stroke-miterlimit:4;stroke-dasharray:1.82314, 0.911569;stroke-dashoffset:0;stroke-opacity:1\" d=\"M 4.8299784,170.2856 H 76.389568\" id=\"path946\"/>\n",
       "    <ellipse style=\"fill:#ffffff;stroke:#000000;stroke-width:0.601978;stroke-linejoin:bevel\" id=\"ellipse948\" cx=\"28.823782\" cy=\"148.10759\" rx=\"1.7740169\" ry=\"1.7603631\"/>\n",
       "    <path style=\"fill:none;stroke:#000000;stroke-width:0.227534px;stroke-linecap:butt;stroke-linejoin:miter;stroke-opacity:1;marker-start:url(#marker6340);marker-end:url(#marker6108)\" d=\"m -3.8454855,143.87924 c 2.93759668,-1.00875 5.9997034,-1.16645 8.2245535,-7.04696\" id=\"path950\" sodipodi:nodetypes=\"cc\"/>\n",
       "    <path style=\"fill:none;stroke:#000000;stroke-width:0.399886;stroke-linecap:butt;stroke-linejoin:miter;stroke-miterlimit:4;stroke-dasharray:none;stroke-opacity:1\" d=\"m 2.6692948,142.95635 1.3731718,3.58965 c 1.9101196,-0.92928 2.3187318,-2.53747 2.3836212,-4.30107\" id=\"path952\" sodipodi:nodetypes=\"ccc\"/>\n",
       "    <path style=\"fill:none;stroke:#000000;stroke-width:0.227534px;stroke-linecap:butt;stroke-linejoin:miter;stroke-opacity:1;marker-start:url(#marker1348)\" d=\"m 38.693495,152.79245 c 1.962219,-3.03936 2.30692,-6.35295 1.653434,-9.83576\" id=\"path954\" sodipodi:nodetypes=\"cc\"/>\n",
       "    <path style=\"fill:none;stroke:#000000;stroke-width:0.227534px;stroke-linecap:butt;stroke-linejoin:miter;stroke-opacity:1;marker-start:url(#marker1512)\" d=\"m 38.693495,152.79245 c -1.057025,2.67658 -2.405717,5.21486 -6.584701,6.41119\" id=\"path1398\" sodipodi:nodetypes=\"cc\"/>\n",
       "    <text xml:space=\"preserve\" style=\"font-size:6.67432px;line-height:1.25;font-family:sans-serif;-inkscape-font-specification:sans-serif;stroke-width:0.227534\" x=\"-8.6519442\" y=\"156.76189\" id=\"text1576\"><tspan sodipodi:role=\"line\" id=\"tspan1574\" x=\"-8.6519442\" y=\"156.76189\" style=\"stroke-width:0.227534\">a</tspan></text>\n",
       "    <text xml:space=\"preserve\" style=\"font-size:6.67432px;line-height:1.25;font-family:sans-serif;-inkscape-font-specification:sans-serif;stroke-width:0.227534\" x=\"19.240337\" y=\"139.54747\" id=\"text1580\"><tspan sodipodi:role=\"line\" id=\"tspan1578\" x=\"19.240337\" y=\"139.54747\" style=\"stroke-width:0.227534\">b</tspan></text>\n",
       "    <text xml:space=\"preserve\" style=\"font-size:6.67432px;line-height:1.25;font-family:sans-serif;-inkscape-font-specification:sans-serif;stroke-width:0.227534\" x=\"57.21785\" y=\"158.07674\" id=\"text1584\"><tspan sodipodi:role=\"line\" id=\"tspan1582\" x=\"57.21785\" y=\"158.07674\" style=\"stroke-width:0.227534\">c</tspan></text>\n",
       "    <path style=\"fill:none;stroke:#000000;stroke-width:0.227534px;stroke-linecap:butt;stroke-linejoin:miter;stroke-opacity:1;marker-start:url(#marker2600);marker-end:url(#marker2776)\" d=\"M 19.37389,170.40606 C 15.772027,164.30388 10.619963,160.24842 1.7452054,161.10793\" id=\"path1586\" sodipodi:nodetypes=\"cc\"/>\n",
       "    <g id=\"g2510\" transform=\"matrix(0.85997074,0,0,0.85997074,-1.5917587,31.026708)\">\n",
       "      <ellipse style=\"fill:#ffffff;stroke:#000000;stroke-width:0.365;stroke-linejoin:bevel;stroke-miterlimit:4;stroke-dasharray:none;stroke-dashoffset:0\" id=\"path1588\" cx=\"18.292208\" cy=\"149.43945\" rx=\"1.857706\" ry=\"2.7635734\"/>\n",
       "      <path style=\"fill:none;stroke:#000000;stroke-width:0.264583px;stroke-linecap:butt;stroke-linejoin:miter;stroke-opacity:1\" d=\"m 16.434501,149.43945 h 3.715412\" id=\"path1590\"/>\n",
       "    </g>\n",
       "    <text xml:space=\"preserve\" style=\"font-size:3.02482px;line-height:1.25;font-family:sans-serif;-inkscape-font-specification:sans-serif;stroke-width:0.227534\" x=\"15.999214\" y=\"163.11235\" id=\"text1594\"><tspan sodipodi:role=\"line\" id=\"tspan1592\" x=\"15.999214\" y=\"163.11235\" style=\"stroke-width:0.227534\">2</tspan></text>\n",
       "    <g id=\"g4661-2\" transform=\"matrix(0.85997074,0,0,0.85997074,-98.69114,-4.2932853)\" style=\"stroke-width:0.4;stroke-miterlimit:4;stroke-dasharray:none\">\n",
       "      <path style=\"fill:none;stroke:#000000;stroke-width:0.4;stroke-linecap:butt;stroke-linejoin:miter;stroke-miterlimit:4;stroke-dasharray:none;stroke-opacity:1\" d=\"m 164.6125,168.0126 c -0.0661,2.07932 0.46003,4.02014 -0.61118,5.46555\" id=\"path4652-9\" sodipodi:nodetypes=\"cc\"/>\n",
       "      <path style=\"fill:none;stroke:#000000;stroke-width:0.4;stroke-linecap:butt;stroke-linejoin:miter;stroke-miterlimit:4;stroke-dasharray:none;stroke-opacity:1\" d=\"m 164.5347,170.69529 c 0.72288,0.37788 1.15278,0.92139 2.28685,0.0857 l -0.12099,-2.89337\" id=\"path4654-1\" sodipodi:nodetypes=\"ccc\"/>\n",
       "      <path style=\"fill:none;stroke:#000000;stroke-width:0.4;stroke-linecap:butt;stroke-linejoin:miter;stroke-miterlimit:4;stroke-dasharray:none;stroke-opacity:1\" d=\"m 166.78319,170.86932 c 0.0956,0.48541 0.40666,0.61309 1.09187,0.11931\" id=\"path4656-2\" sodipodi:nodetypes=\"cc\"/>\n",
       "    </g>\n",
       "    <text xml:space=\"preserve\" style=\"font-size:4.69228px;line-height:1.25;font-family:sans-serif;-inkscape-font-specification:sans-serif;stroke-width:0.227534\" x=\"47.240452\" y=\"143.24576\" id=\"text2504\"><tspan sodipodi:role=\"line\" id=\"tspan2502\" x=\"47.240452\" y=\"143.24576\" style=\"stroke-width:0.227534\">= 0</tspan></text>\n",
       "    <circle style=\"fill:#ffffff;stroke:#000000;stroke-width:0.227891;stroke-linejoin:bevel;stroke-miterlimit:4;stroke-dasharray:none;stroke-dashoffset:0\" id=\"path2506\" cx=\"56.405445\" cy=\"140.06941\" r=\"0.77112204\"/>\n",
       "    <text xml:space=\"preserve\" style=\"font-size:6.67432px;line-height:1.25;font-family:sans-serif;-inkscape-font-specification:sans-serif;stroke-width:0.227534\" x=\"34.423878\" y=\"169.65079\" id=\"text2514\"><tspan sodipodi:role=\"line\" id=\"tspan2512\" x=\"34.423878\" y=\"169.65079\" style=\"stroke-width:0.227534\">d</tspan></text>\n",
       "    <path style=\"fill:none;stroke:#000000;stroke-width:0.571881;stroke-linecap:butt;stroke-linejoin:miter;stroke-miterlimit:4;stroke-dasharray:3.43128, 1.14376;stroke-dashoffset:0;stroke-opacity:1\" d=\"M 4.8299784,170.23309 -7.4556801,209.2264 76.389569,170.2331\" id=\"path3150\"/>\n",
       "    <ellipse style=\"fill:#ffffff;stroke:#000000;stroke-width:0.601978;stroke-linejoin:bevel\" id=\"ellipse3152\" cx=\"-7.4556804\" cy=\"-209.2256\" rx=\"1.7740169\" ry=\"1.7603631\" transform=\"scale(1,-1)\"/>\n",
       "    <ellipse style=\"fill:#ffffff;stroke:#000000;stroke-width:0.601978;stroke-linejoin:bevel\" id=\"ellipse3154\" cx=\"28.823782\" cy=\"-192.41029\" rx=\"1.7740169\" ry=\"1.7603631\" transform=\"scale(1,-1)\"/>\n",
       "    <path style=\"fill:none;stroke:#000000;stroke-width:0.227534px;stroke-linecap:butt;stroke-linejoin:miter;stroke-opacity:1;marker-start:url(#marker3196);marker-end:url(#marker3216)\" d=\"m -3.8454855,196.63945 c 2.93759668,1.00875 5.9997034,1.16645 8.2245535,7.04696\" id=\"path3156\" sodipodi:nodetypes=\"cc\"/>\n",
       "    <path style=\"fill:none;stroke:#000000;stroke-width:0.227534px;stroke-linecap:butt;stroke-linejoin:miter;stroke-opacity:1;marker-start:url(#marker3186)\" d=\"m 38.693495,187.72624 c 1.962219,3.03937 2.30692,6.35295 1.653434,9.83576\" id=\"path3158\" sodipodi:nodetypes=\"cc\"/>\n",
       "    <path style=\"fill:none;stroke:#000000;stroke-width:0.227534px;stroke-linecap:butt;stroke-linejoin:miter;stroke-opacity:1;marker-start:url(#marker3176)\" d=\"m 38.693495,187.72624 c -1.057025,-2.67658 -2.405717,-5.21486 -6.584701,-6.41119\" id=\"path3160\" sodipodi:nodetypes=\"cc\"/>\n",
       "    <path style=\"fill:none;stroke:#000000;stroke-width:0.227534px;stroke-linecap:butt;stroke-linejoin:miter;stroke-opacity:1;marker-start:url(#marker3166);marker-end:url(#marker3206)\" d=\"m 19.37389,170.40606 c -3.719286,8.40053 -9.03931,13.98346 -18.2033879,12.80021\" id=\"path3162\" sodipodi:nodetypes=\"cc\"/>\n",
       "    <path style=\"fill:none;stroke:#000000;stroke-width:0.399886;stroke-linecap:butt;stroke-linejoin:miter;stroke-miterlimit:4;stroke-dasharray:none;stroke-opacity:1\" d=\"m 2.7297281,194.72839 1.3731718,3.58965 c 1.9101196,-0.92928 2.3187318,-2.53746 2.3836212,-4.30107\" id=\"path3512\" sodipodi:nodetypes=\"ccc\"/>\n",
       "    <g id=\"g3520\" transform=\"matrix(0.85997074,0,0,0.85997074,-97.833156,46.959481)\" style=\"stroke-width:0.4;stroke-miterlimit:4;stroke-dasharray:none\">\n",
       "      <path style=\"fill:none;stroke:#000000;stroke-width:0.4;stroke-linecap:butt;stroke-linejoin:miter;stroke-miterlimit:4;stroke-dasharray:none;stroke-opacity:1\" d=\"m 164.6125,168.0126 c -0.0661,2.07932 0.46003,4.02014 -0.61118,5.46555\" id=\"path3514\" sodipodi:nodetypes=\"cc\"/>\n",
       "      <path style=\"fill:none;stroke:#000000;stroke-width:0.4;stroke-linecap:butt;stroke-linejoin:miter;stroke-miterlimit:4;stroke-dasharray:none;stroke-opacity:1\" d=\"m 164.5347,170.69529 c 0.72288,0.37788 1.15278,0.92139 2.28685,0.0857 l -0.12099,-2.89337\" id=\"path3516\" sodipodi:nodetypes=\"ccc\"/>\n",
       "      <path style=\"fill:none;stroke:#000000;stroke-width:0.4;stroke-linecap:butt;stroke-linejoin:miter;stroke-miterlimit:4;stroke-dasharray:none;stroke-opacity:1\" d=\"m 166.78319,170.86932 c 0.0956,0.48541 0.40666,0.61309 1.09187,0.11931\" id=\"path3518\" sodipodi:nodetypes=\"cc\"/>\n",
       "    </g>\n",
       "    <text xml:space=\"preserve\" style=\"font-size:4.69228px;line-height:1.25;font-family:sans-serif;-inkscape-font-specification:sans-serif;stroke-width:0.227534\" x=\"48.098434\" y=\"194.49852\" id=\"text3524\"><tspan sodipodi:role=\"line\" id=\"tspan3522\" x=\"48.098434\" y=\"194.49852\" style=\"stroke-width:0.227534\">= 0</tspan></text>\n",
       "    <circle style=\"fill:#ffffff;stroke:#000000;stroke-width:0.227891;stroke-linejoin:bevel;stroke-miterlimit:4;stroke-dasharray:none;stroke-dashoffset:0\" id=\"circle3526\" cx=\"57.263435\" cy=\"191.32219\" r=\"0.77112204\"/>\n",
       "    <g id=\"g3556\" transform=\"matrix(0.85997074,0,0,0.85997074,7.4589165,46.0472)\">\n",
       "      <ellipse style=\"fill:#ffffff;stroke:#000000;stroke-width:0.365;stroke-linejoin:bevel;stroke-miterlimit:4;stroke-dasharray:none;stroke-dashoffset:0\" id=\"ellipse3552\" cx=\"18.292208\" cy=\"149.43945\" rx=\"1.857706\" ry=\"2.7635734\"/>\n",
       "      <path style=\"fill:none;stroke:#000000;stroke-width:0.264583px;stroke-linecap:butt;stroke-linejoin:miter;stroke-opacity:1\" d=\"m 16.434501,149.43945 h 3.715412\" id=\"path3554\"/>\n",
       "    </g>\n",
       "    <text xml:space=\"preserve\" style=\"font-size:3.02482px;line-height:1.25;font-family:sans-serif;-inkscape-font-specification:sans-serif;stroke-width:0.227534\" x=\"25.049889\" y=\"178.13284\" id=\"text3560\"><tspan sodipodi:role=\"line\" id=\"tspan3558\" x=\"25.049889\" y=\"178.13284\" style=\"stroke-width:0.227534\">2</tspan></text>\n",
       "    <text xml:space=\"preserve\" style=\"font-size:6.67432px;line-height:1.25;font-family:sans-serif;-inkscape-font-specification:sans-serif;stroke-width:0.227534\" x=\"18.886677\" y=\"177.3707\" id=\"text3564\"><tspan sodipodi:role=\"line\" id=\"tspan3562\" x=\"18.886677\" y=\"177.3707\" style=\"stroke-width:0.227534\">-</tspan></text>\n",
       "    <ellipse style=\"fill:#ffffff;stroke:#000000;stroke-width:0.601978;stroke-linejoin:bevel\" id=\"path1592\" cx=\"4.8299785\" cy=\"170.2856\" rx=\"1.7740169\" ry=\"1.7603631\"/>\n",
       "    <ellipse style=\"fill:#ffffff;stroke:#000000;stroke-width:0.601978;stroke-linejoin:bevel\" id=\"circle920\" cx=\"76.389572\" cy=\"170.2856\" rx=\"1.7740169\" ry=\"1.7603631\"/>\n",
       "    <path id=\"path3962\" style=\"fill:#ffffff;stroke:#000000;stroke-width:0.601979;stroke-linejoin:bevel;stroke-miterlimit:4;stroke-dasharray:none\" d=\"m 134.48717,165.30965 a 5.0751427,5.0360814 0 0 0 -5.06551,5.03608 5.0751427,5.0360814 0 0 0 0,0.01 v 8.80355 h 10.15035 v -8.81315 a 5.0751427,5.0360814 0 0 0 -5.07517,-5.03608 5.0751427,5.0360814 0 0 0 -0.01,0 z\"/>\n",
       "    <path style=\"fill:none;stroke:#000000;stroke-width:0.601978;stroke-linecap:butt;stroke-linejoin:miter;stroke-miterlimit:4;stroke-dasharray:none;stroke-opacity:1\" d=\"m 117.36812,179.15887 h 36.795\" id=\"path3964\"/>\n",
       "    <path style=\"fill:none;stroke:#000000;stroke-width:0.601978;stroke-linecap:butt;stroke-linejoin:miter;stroke-miterlimit:4;stroke-dasharray:none;stroke-opacity:1\" d=\"m 117.36812,179.15887 4.7615,8.18364\" id=\"path3966\"/>\n",
       "    <path style=\"fill:none;stroke:#000000;stroke-width:0.601978;stroke-linecap:butt;stroke-linejoin:miter;stroke-miterlimit:4;stroke-dasharray:none;stroke-opacity:1\" d=\"m 125.74217,179.15887 4.76149,8.18364\" id=\"path3968\"/>\n",
       "    <path style=\"fill:none;stroke:#000000;stroke-width:0.601978;stroke-linecap:butt;stroke-linejoin:miter;stroke-miterlimit:4;stroke-dasharray:none;stroke-opacity:1\" d=\"m 133.86245,179.15887 4.7615,8.18364\" id=\"path3970\"/>\n",
       "    <path style=\"fill:none;stroke:#000000;stroke-width:0.601978;stroke-linecap:butt;stroke-linejoin:miter;stroke-miterlimit:4;stroke-dasharray:none;stroke-opacity:1\" d=\"m 142.23649,179.15887 4.7615,8.18364\" id=\"path3972\"/>\n",
       "    <path style=\"fill:none;stroke:#000000;stroke-width:0.601978;stroke-linecap:butt;stroke-linejoin:miter;stroke-miterlimit:4;stroke-dasharray:none;stroke-opacity:1\" d=\"m 150.61052,179.15887 4.76151,8.18364\" id=\"path3974\"/>\n",
       "    <path id=\"path3976\" style=\"fill:#ffffff;stroke:#000000;stroke-width:0.601979;stroke-linejoin:bevel;stroke-miterlimit:4;stroke-dasharray:none\" d=\"m 206.04717,165.30965 a 5.0751427,5.0360814 0 0 0 -5.0655,5.03608 5.0751427,5.0360814 0 0 0 0,0.01 v 8.80355 h 10.15034 v -8.81315 a 5.0751427,5.0360814 0 0 0 -5.07517,-5.03608 5.0751427,5.0360814 0 0 0 -0.01,0 z\"/>\n",
       "    <path style=\"fill:none;stroke:#000000;stroke-width:0.601978;stroke-linecap:butt;stroke-linejoin:miter;stroke-miterlimit:4;stroke-dasharray:none;stroke-opacity:1\" d=\"m 188.92813,179.15887 h 36.79493\" id=\"path3978\"/>\n",
       "    <path style=\"fill:none;stroke:#000000;stroke-width:0.601978;stroke-linecap:butt;stroke-linejoin:miter;stroke-miterlimit:4;stroke-dasharray:none;stroke-opacity:1\" d=\"m 188.92813,179.15887 4.7615,8.18364\" id=\"path3980\"/>\n",
       "    <path style=\"fill:none;stroke:#000000;stroke-width:0.601978;stroke-linecap:butt;stroke-linejoin:miter;stroke-miterlimit:4;stroke-dasharray:none;stroke-opacity:1\" d=\"m 197.30217,179.15887 4.7615,8.18364\" id=\"path3982\"/>\n",
       "    <path style=\"fill:none;stroke:#000000;stroke-width:0.601978;stroke-linecap:butt;stroke-linejoin:miter;stroke-miterlimit:4;stroke-dasharray:none;stroke-opacity:1\" d=\"m 205.42245,179.15887 4.7615,8.18364\" id=\"path3984\"/>\n",
       "    <path style=\"fill:none;stroke:#000000;stroke-width:0.601978;stroke-linecap:butt;stroke-linejoin:miter;stroke-miterlimit:4;stroke-dasharray:none;stroke-opacity:1\" d=\"m 213.79649,179.15887 4.76147,8.18364\" id=\"path3986\"/>\n",
       "    <path style=\"fill:none;stroke:#000000;stroke-width:0.601978;stroke-linecap:butt;stroke-linejoin:miter;stroke-miterlimit:4;stroke-dasharray:none;stroke-opacity:1\" d=\"m 222.17048,179.15887 4.76148,8.18364\" id=\"path3988\"/>\n",
       "    <path style=\"fill:none;stroke:#000000;stroke-width:0.227892;stroke-linecap:butt;stroke-linejoin:miter;stroke-miterlimit:4;stroke-dasharray:1.82314, 0.911569;stroke-dashoffset:0;stroke-opacity:1\" d=\"m 134.52468,170.2856 h 71.55999\" id=\"path3990\"/>\n",
       "    <text xml:space=\"preserve\" style=\"font-size:6.67432px;line-height:1.25;font-family:sans-serif;-inkscape-font-specification:sans-serif;stroke-width:0.227534\" x=\"164.11749\" y=\"169.65079\" id=\"text4014\"><tspan sodipodi:role=\"line\" id=\"tspan4012\" x=\"164.11749\" y=\"169.65079\" style=\"stroke-width:0.227534\">d</tspan></text>\n",
       "    <path style=\"fill:none;stroke:#000000;stroke-width:0.657878;stroke-linecap:butt;stroke-linejoin:miter;stroke-miterlimit:4;stroke-dasharray:none;stroke-opacity:1\" d=\"m 206.08259,170.2856 2.00101,-42.34565 -73.55892,42.34565\" id=\"path4498\"/>\n",
       "    <ellipse style=\"fill:#ffffff;stroke:#000000;stroke-width:0.601978;stroke-linejoin:bevel\" id=\"ellipse4500\" cx=\"171.33749\" cy=\"149.0609\" rx=\"1.7740169\" ry=\"1.7603631\"/>\n",
       "    <path style=\"fill:none;stroke:#000000;stroke-width:0.227534px;stroke-linecap:butt;stroke-linejoin:miter;stroke-opacity:1;marker-start:url(#marker4536)\" d=\"m 177.54845,145.96285 c 1.96223,3.03937 2.30693,6.35296 1.65344,9.83576\" id=\"path4520\" sodipodi:nodetypes=\"cc\"/>\n",
       "    <path style=\"fill:none;stroke:#000000;stroke-width:0.227534px;stroke-linecap:butt;stroke-linejoin:miter;stroke-opacity:1;marker-start:url(#marker4526)\" d=\"m 177.54845,145.96285 c -1.05702,-2.67657 -2.40571,-5.21485 -6.58469,-6.41119\" id=\"path4522\" sodipodi:nodetypes=\"cc\"/>\n",
       "    <path style=\"fill:none;stroke:#000000;stroke-width:0.399886;stroke-linecap:butt;stroke-linejoin:miter;stroke-miterlimit:4;stroke-dasharray:none;stroke-opacity:1\" d=\"m 173.40337,135.31876 1.37318,3.58965 c 1.91012,-0.92928 2.31873,-2.53747 2.38362,-4.30107\" id=\"path4792\" sodipodi:nodetypes=\"ccc\"/>\n",
       "    <text xml:space=\"preserve\" style=\"font-size:4.69228px;line-height:1.25;font-family:sans-serif;-inkscape-font-specification:sans-serif;stroke-width:0.227534\" x=\"178.12305\" y=\"138.77902\" id=\"text4796\"><tspan sodipodi:role=\"line\" id=\"tspan4794\" x=\"178.12305\" y=\"138.77902\" style=\"stroke-width:0.227534\">= 0</tspan></text>\n",
       "    <circle style=\"fill:#ffffff;stroke:#000000;stroke-width:0.227891;stroke-linejoin:bevel;stroke-miterlimit:4;stroke-dasharray:none;stroke-dashoffset:0\" id=\"circle4798\" cx=\"187.28802\" cy=\"135.60268\" r=\"0.77112204\"/>\n",
       "    <path style=\"fill:none;stroke:#000000;stroke-width:0.227534px;stroke-linecap:butt;stroke-linejoin:miter;stroke-opacity:1;marker-start:url(#marker4994);marker-end:url(#marker4804)\" d=\"m 198.41037,133.54087 c 1.47271,3.10507 3.42686,5.95354 9.16302,6.7862\" id=\"path4800\" sodipodi:nodetypes=\"cc\"/>\n",
       "    <g id=\"g5200\" transform=\"matrix(0.85997074,0,0,0.85997074,56.47288,-4.5032438)\" style=\"stroke-width:0.4;stroke-miterlimit:4;stroke-dasharray:none\">\n",
       "      <path style=\"fill:none;stroke:#000000;stroke-width:0.4;stroke-linecap:butt;stroke-linejoin:miter;stroke-miterlimit:4;stroke-dasharray:none;stroke-opacity:1\" d=\"m 164.6125,168.0126 c -0.0661,2.07932 0.46003,4.02014 -0.61118,5.46555\" id=\"path5194\" sodipodi:nodetypes=\"cc\"/>\n",
       "      <path style=\"fill:none;stroke:#000000;stroke-width:0.4;stroke-linecap:butt;stroke-linejoin:miter;stroke-miterlimit:4;stroke-dasharray:none;stroke-opacity:1\" d=\"m 164.5347,170.69529 c 0.72288,0.37788 1.15278,0.92139 2.28685,0.0857 l -0.12099,-2.89337\" id=\"path5196\" sodipodi:nodetypes=\"ccc\"/>\n",
       "      <path style=\"fill:none;stroke:#000000;stroke-width:0.4;stroke-linecap:butt;stroke-linejoin:miter;stroke-miterlimit:4;stroke-dasharray:none;stroke-opacity:1\" d=\"m 166.78319,170.86932 c 0.0956,0.48541 0.40666,0.61309 1.09187,0.11931\" id=\"path5198\" sodipodi:nodetypes=\"cc\"/>\n",
       "    </g>\n",
       "    <ellipse style=\"fill:#ffffff;stroke:#000000;stroke-width:0.601978;stroke-linejoin:bevel\" id=\"ellipse5202\" cx=\"208.0836\" cy=\"127.93996\" rx=\"1.7740169\" ry=\"1.7603631\"/>\n",
       "    <text xml:space=\"preserve\" style=\"font-size:6.67432px;line-height:1.25;font-family:sans-serif;-inkscape-font-specification:sans-serif;stroke-width:0.227534\" x=\"149.47319\" y=\"156.32967\" id=\"text5206\"><tspan sodipodi:role=\"line\" id=\"tspan5204\" x=\"149.47319\" y=\"156.32967\" style=\"stroke-width:0.227534\">a</tspan></text>\n",
       "    <text xml:space=\"preserve\" style=\"font-size:6.67432px;line-height:1.25;font-family:sans-serif;-inkscape-font-specification:sans-serif;stroke-width:0.227534\" x=\"191.15117\" y=\"134.14673\" id=\"text5210\"><tspan sodipodi:role=\"line\" id=\"tspan5208\" x=\"191.15117\" y=\"134.14673\" style=\"stroke-width:0.227534\">b</tspan></text>\n",
       "    <text xml:space=\"preserve\" style=\"font-size:6.67432px;line-height:1.25;font-family:sans-serif;-inkscape-font-specification:sans-serif;stroke-width:0.227534\" x=\"208.34877\" y=\"151.78494\" id=\"text5214\"><tspan sodipodi:role=\"line\" id=\"tspan5212\" x=\"208.34877\" y=\"151.78494\" style=\"stroke-width:0.227534\">c</tspan></text>\n",
       "    <path style=\"fill:none;stroke:#000000;stroke-width:0.657878;stroke-linecap:butt;stroke-linejoin:miter;stroke-miterlimit:4;stroke-dasharray:2.63151, 1.31576;stroke-dashoffset:0;stroke-opacity:1\" d=\"m 206.08259,170.41664 2.00101,42.34565 -73.55892,-42.34565\" id=\"path5318\"/>\n",
       "    <path style=\"fill:none;stroke:#000000;stroke-width:0.227534px;stroke-linecap:butt;stroke-linejoin:miter;stroke-opacity:1;marker-start:url(#marker5352)\" d=\"m 177.54845,194.73939 c 1.96223,-3.03937 2.30693,-6.35295 1.65344,-9.83576\" id=\"path5320\" sodipodi:nodetypes=\"cc\"/>\n",
       "    <path style=\"fill:none;stroke:#000000;stroke-width:0.227534px;stroke-linecap:butt;stroke-linejoin:miter;stroke-opacity:1;marker-start:url(#marker5342)\" d=\"m 177.54845,194.73939 c -1.05702,2.67658 -2.40571,5.21486 -6.58469,6.41119\" id=\"path5322\" sodipodi:nodetypes=\"cc\"/>\n",
       "    <path style=\"fill:none;stroke:#000000;stroke-width:0.227534px;stroke-linecap:butt;stroke-linejoin:miter;stroke-opacity:1;marker-start:url(#marker5332);marker-end:url(#marker5362)\" d=\"m 198.41037,207.16138 c 1.47271,-3.10507 3.42686,-5.95355 9.16302,-6.7862\" id=\"path5324\" sodipodi:nodetypes=\"cc\"/>\n",
       "    <path style=\"fill:none;stroke:#000000;stroke-width:0.399886;stroke-linecap:butt;stroke-linejoin:miter;stroke-miterlimit:4;stroke-dasharray:none;stroke-opacity:1\" d=\"m 156.52524,197.40198 1.37318,3.58965 c 1.91012,-0.92928 2.31873,-2.53746 2.38362,-4.30107\" id=\"path5788\" sodipodi:nodetypes=\"ccc\"/>\n",
       "    <text xml:space=\"preserve\" style=\"font-size:4.69228px;line-height:1.25;font-family:sans-serif;-inkscape-font-specification:sans-serif;stroke-width:0.227534\" x=\"161.2449\" y=\"200.86224\" id=\"text5792\"><tspan sodipodi:role=\"line\" id=\"tspan5790\" x=\"161.2449\" y=\"200.86224\" style=\"stroke-width:0.227534\">= 0</tspan></text>\n",
       "    <circle style=\"fill:#ffffff;stroke:#000000;stroke-width:0.227891;stroke-linejoin:bevel;stroke-miterlimit:4;stroke-dasharray:none;stroke-dashoffset:0\" id=\"circle5794\" cx=\"170.4099\" cy=\"197.6859\" r=\"0.77112204\"/>\n",
       "    <g id=\"g5802\" transform=\"matrix(0.85997074,0,0,0.85997074,57.658427,53.436931)\" style=\"stroke-width:0.4;stroke-miterlimit:4;stroke-dasharray:none\">\n",
       "      <path style=\"fill:none;stroke:#000000;stroke-width:0.4;stroke-linecap:butt;stroke-linejoin:miter;stroke-miterlimit:4;stroke-dasharray:none;stroke-opacity:1\" d=\"m 164.6125,168.0126 c -0.0661,2.07932 0.46003,4.02014 -0.61118,5.46555\" id=\"path5796\" sodipodi:nodetypes=\"cc\"/>\n",
       "      <path style=\"fill:none;stroke:#000000;stroke-width:0.4;stroke-linecap:butt;stroke-linejoin:miter;stroke-miterlimit:4;stroke-dasharray:none;stroke-opacity:1\" d=\"m 164.5347,170.69529 c 0.72288,0.37788 1.15278,0.92139 2.28685,0.0857 l -0.12099,-2.89337\" id=\"path5798\" sodipodi:nodetypes=\"ccc\"/>\n",
       "      <path style=\"fill:none;stroke:#000000;stroke-width:0.4;stroke-linecap:butt;stroke-linejoin:miter;stroke-miterlimit:4;stroke-dasharray:none;stroke-opacity:1\" d=\"m 166.78319,170.86932 c 0.0956,0.48541 0.40666,0.61309 1.09187,0.11931\" id=\"path5800\" sodipodi:nodetypes=\"cc\"/>\n",
       "    </g>\n",
       "    <ellipse style=\"fill:#ffffff;stroke:#000000;stroke-width:0.601978;stroke-linejoin:bevel\" id=\"ellipse5804\" cx=\"171.33749\" cy=\"191.38164\" rx=\"1.7740169\" ry=\"1.7603631\"/>\n",
       "    <ellipse style=\"fill:#ffffff;stroke:#000000;stroke-width:0.601978;stroke-linejoin:bevel\" id=\"ellipse5806\" cx=\"208.0836\" cy=\"212.76228\" rx=\"1.7740169\" ry=\"1.7603631\"/>\n",
       "    <ellipse style=\"fill:#ffffff;stroke:#000000;stroke-width:0.601978;stroke-linejoin:bevel\" id=\"ellipse4054\" cx=\"134.52402\" cy=\"170.2856\" rx=\"1.7740169\" ry=\"1.7603631\"/>\n",
       "    <ellipse style=\"fill:#ffffff;stroke:#000000;stroke-width:0.601978;stroke-linejoin:bevel\" id=\"ellipse4056\" cx=\"206.0826\" cy=\"170.2856\" rx=\"1.7740169\" ry=\"1.7603631\"/>\n",
       "    <text xml:space=\"preserve\" style=\"font-size:6.67432px;line-height:1.25;font-family:sans-serif;-inkscape-font-specification:sans-serif;stroke-width:0.227534\" x=\"-9.2617178\" y=\"196.70142\" id=\"text5810\"><tspan sodipodi:role=\"line\" id=\"tspan5808\" x=\"-9.2617178\" y=\"196.70142\" style=\"stroke-width:0.227534\">a</tspan></text>\n",
       "    <text xml:space=\"preserve\" style=\"font-size:6.67432px;line-height:1.25;font-family:sans-serif;-inkscape-font-specification:sans-serif;stroke-width:0.227534\" x=\"16.223587\" y=\"206.22469\" id=\"text5814\"><tspan sodipodi:role=\"line\" id=\"tspan5812\" x=\"16.223587\" y=\"206.22469\" style=\"stroke-width:0.227534\">b</tspan></text>\n",
       "    <text xml:space=\"preserve\" style=\"font-size:6.67432px;line-height:1.25;font-family:sans-serif;-inkscape-font-specification:sans-serif;stroke-width:0.227534\" x=\"53.014736\" y=\"186.39032\" id=\"text5818\"><tspan sodipodi:role=\"line\" id=\"tspan5816\" x=\"53.014736\" y=\"186.39032\" style=\"stroke-width:0.227534\">c</tspan></text>\n",
       "    <text xml:space=\"preserve\" style=\"font-size:6.67432px;line-height:1.25;font-family:sans-serif;-inkscape-font-specification:sans-serif;stroke-width:0.227534\" x=\"149.47319\" y=\"156.32967\" id=\"text5822\"><tspan sodipodi:role=\"line\" id=\"tspan5820\" x=\"149.47319\" y=\"156.32967\" style=\"stroke-width:0.227534\">a</tspan></text>\n",
       "    <text xml:space=\"preserve\" style=\"font-size:6.67432px;line-height:1.25;font-family:sans-serif;-inkscape-font-specification:sans-serif;stroke-width:0.227534\" x=\"155.81375\" y=\"189.85272\" id=\"text5826\"><tspan sodipodi:role=\"line\" id=\"tspan5824\" x=\"155.81375\" y=\"189.85272\" style=\"stroke-width:0.227534\">a</tspan></text>\n",
       "    <text xml:space=\"preserve\" style=\"font-size:6.67432px;line-height:1.25;font-family:sans-serif;-inkscape-font-specification:sans-serif;stroke-width:0.227534\" x=\"181.50511\" y=\"205.82013\" id=\"text5830\"><tspan sodipodi:role=\"line\" id=\"tspan5828\" x=\"181.50511\" y=\"205.82013\" style=\"stroke-width:0.227534\">b</tspan></text>\n",
       "    <text xml:space=\"preserve\" style=\"font-size:6.67432px;line-height:1.25;font-family:sans-serif;-inkscape-font-specification:sans-serif;stroke-width:0.227534\" x=\"208.74831\" y=\"197.5201\" id=\"text5834\"><tspan sodipodi:role=\"line\" id=\"tspan5832\" x=\"208.74831\" y=\"197.5201\" style=\"stroke-width:0.227534\">c</tspan></text>\n",
       "  </g>\n",
       "</svg>"
      ],
      "text/plain": [
       "<IPython.core.display.SVG object>"
      ]
     },
     "execution_count": 129,
     "metadata": {},
     "output_type": "execute_result"
    }
   ],
   "source": [
    "SVG('figs4-10.svg')"
   ]
  },
  {
   "cell_type": "markdown",
   "metadata": {},
   "source": [
    " [Voltar para o capítulo anterior](Mecs3.ipynb)     $\\qquad$   [Avançar para o próximo capítulo](Mecs5.ipynb)"
   ]
  }
 ],
 "metadata": {
  "kernelspec": {
   "display_name": "Python 3",
   "language": "python",
   "name": "python3"
  },
  "language_info": {
   "codemirror_mode": {
    "name": "ipython",
    "version": 3
   },
   "file_extension": ".py",
   "mimetype": "text/x-python",
   "name": "python",
   "nbconvert_exporter": "python",
   "pygments_lexer": "ipython3",
   "version": "3.8.10"
  },
  "widgets": {
   "application/vnd.jupyter.widget-state+json": {
    "state": {
     "057810a24e494ff689587e485c364113": {
      "model_module": "@jupyter-widgets/controls",
      "model_module_version": "1.5.0",
      "model_name": "SliderStyleModel",
      "state": {
       "description_width": ""
      }
     },
     "0b2b66f3fe1041be85c44273ae9b4199": {
      "model_module": "@jupyter-widgets/controls",
      "model_module_version": "1.5.0",
      "model_name": "IntSliderModel",
      "state": {
       "description": "cn",
       "layout": "IPY_MODEL_33af4641e6584dbc802803ce3c88ac81",
       "max": 20,
       "min": 1,
       "style": "IPY_MODEL_bf0992874479438c862928a4364e2239",
       "value": 10
      }
     },
     "124feb46515f493aaf303d9c5eb78ca9": {
      "model_module": "@jupyter-widgets/base",
      "model_module_version": "1.2.0",
      "model_name": "LayoutModel",
      "state": {}
     },
     "17d47d3c504d464bbdcbf8c4520b467a": {
      "model_module": "@jupyter-widgets/output",
      "model_module_version": "1.0.0",
      "model_name": "OutputModel",
      "state": {
       "layout": "IPY_MODEL_64770c8c29a340a7839354c23d726fe0",
       "outputs": [
        {
         "name": "stdout",
         "output_type": "stream",
         "text": "Não-Grashof\n"
        },
        {
         "data": {
          "image/png": "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\n",
          "text/plain": "<Figure size 750x750 with 1 Axes>"
         },
         "metadata": {
          "needs_background": "light"
         },
         "output_type": "display_data"
        }
       ]
      }
     },
     "1910a953ed3b4d6e8bce920ee7b0fb98": {
      "model_module": "@jupyter-widgets/base",
      "model_module_version": "1.2.0",
      "model_name": "LayoutModel",
      "state": {}
     },
     "1a9d1b441469480ca81c917f85276ec9": {
      "model_module": "@jupyter-widgets/base",
      "model_module_version": "1.2.0",
      "model_name": "LayoutModel",
      "state": {}
     },
     "1e7ba5f98b3f4c03ae5e181715520e99": {
      "model_module": "@jupyter-widgets/base",
      "model_module_version": "1.2.0",
      "model_name": "LayoutModel",
      "state": {}
     },
     "2138628862484b16979c45940d5ad8fc": {
      "model_module": "@jupyter-widgets/base",
      "model_module_version": "1.2.0",
      "model_name": "LayoutModel",
      "state": {}
     },
     "21d9c60f5f1b482ca0e0c4f196874cae": {
      "model_module": "@jupyter-widgets/controls",
      "model_module_version": "1.5.0",
      "model_name": "IntSliderModel",
      "state": {
       "description": "an",
       "layout": "IPY_MODEL_c6342a220cd14dc99369ed3afb27c884",
       "max": 20,
       "min": 1,
       "style": "IPY_MODEL_f12793bc35c9412ba6966ea883e46a4c",
       "value": 9
      }
     },
     "2a77e0af97d543cd91fb5c7253394cd9": {
      "model_module": "@jupyter-widgets/output",
      "model_module_version": "1.0.0",
      "model_name": "OutputModel",
      "state": {
       "layout": "IPY_MODEL_d78bede0c0e143669f38ff60beb58789",
       "outputs": [
        {
         "name": "stdout",
         "output_type": "stream",
         "text": "Grashof\n"
        },
        {
         "data": {
          "image/png": "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\n",
          "text/plain": "<Figure size 750x750 with 1 Axes>"
         },
         "metadata": {
          "needs_background": "light"
         },
         "output_type": "display_data"
        }
       ]
      }
     },
     "3232375ee9b9457c98a2c678c35e2c2f": {
      "model_module": "@jupyter-widgets/controls",
      "model_module_version": "1.5.0",
      "model_name": "VBoxModel",
      "state": {
       "_dom_classes": [
        "widget-interact"
       ],
       "children": [
        "IPY_MODEL_bab885a127ad4d48954dca2978ec50b2",
        "IPY_MODEL_93c05e85d0854e0d8f974eb777415ccc",
        "IPY_MODEL_0b2b66f3fe1041be85c44273ae9b4199",
        "IPY_MODEL_fb8425718cd54380a7aa3f99fb96bc09",
        "IPY_MODEL_96799371bc0d405cb1e43f0545f3069b",
        "IPY_MODEL_17d47d3c504d464bbdcbf8c4520b467a"
       ],
       "layout": "IPY_MODEL_1e7ba5f98b3f4c03ae5e181715520e99"
      }
     },
     "33af4641e6584dbc802803ce3c88ac81": {
      "model_module": "@jupyter-widgets/base",
      "model_module_version": "1.2.0",
      "model_name": "LayoutModel",
      "state": {}
     },
     "3ee5350627ae4de186c9fd338a9c77f6": {
      "model_module": "@jupyter-widgets/controls",
      "model_module_version": "1.5.0",
      "model_name": "SliderStyleModel",
      "state": {
       "description_width": ""
      }
     },
     "40a0e22e593c490fbafb939b38a87615": {
      "model_module": "@jupyter-widgets/controls",
      "model_module_version": "1.5.0",
      "model_name": "IntSliderModel",
      "state": {
       "description": "cn",
       "layout": "IPY_MODEL_1a9d1b441469480ca81c917f85276ec9",
       "max": 20,
       "min": 1,
       "style": "IPY_MODEL_64c1826bef0c4c79bd636d372dbf5014",
       "value": 11
      }
     },
     "42adb2838a6644f8a6d51dcc243a0a88": {
      "model_module": "@jupyter-widgets/controls",
      "model_module_version": "1.5.0",
      "model_name": "SliderStyleModel",
      "state": {
       "description_width": ""
      }
     },
     "47247fce72bb4d69a69126d42b68d344": {
      "model_module": "@jupyter-widgets/controls",
      "model_module_version": "1.5.0",
      "model_name": "FloatSliderModel",
      "state": {
       "description": "thetan",
       "layout": "IPY_MODEL_b619ba5cd68c4930b0b50d68a240c503",
       "max": 12.566370614359172,
       "step": 0.1,
       "style": "IPY_MODEL_8aabfa5087e14ec19f65d05b01c8c64c",
       "value": 5.2
      }
     },
     "4903cacad1284ccd8f00a8829d602996": {
      "model_module": "@jupyter-widgets/controls",
      "model_module_version": "1.5.0",
      "model_name": "SliderStyleModel",
      "state": {
       "description_width": ""
      }
     },
     "4c7625a0c03e485f8735698f4b456241": {
      "model_module": "@jupyter-widgets/controls",
      "model_module_version": "1.5.0",
      "model_name": "SliderStyleModel",
      "state": {
       "description_width": ""
      }
     },
     "50e8afce2769454281522bf7004a6e39": {
      "model_module": "@jupyter-widgets/base",
      "model_module_version": "1.2.0",
      "model_name": "LayoutModel",
      "state": {}
     },
     "57c54f8e0de14d10846284838bfa73fc": {
      "model_module": "@jupyter-widgets/base",
      "model_module_version": "1.2.0",
      "model_name": "LayoutModel",
      "state": {}
     },
     "5a620728ac4e421b9879948c8fc5602a": {
      "model_module": "@jupyter-widgets/controls",
      "model_module_version": "1.5.0",
      "model_name": "SliderStyleModel",
      "state": {
       "description_width": ""
      }
     },
     "61d3d868b1924492b0f45511787b55b9": {
      "model_module": "@jupyter-widgets/controls",
      "model_module_version": "1.5.0",
      "model_name": "VBoxModel",
      "state": {
       "_dom_classes": [
        "widget-interact"
       ],
       "children": [
        "IPY_MODEL_fb5b704e252341dc8411b6ceb665b9b3",
        "IPY_MODEL_b574e731d8274857b2ace108f6bde762",
        "IPY_MODEL_9d74f5a036014b7299fe839df75f4c2f",
        "IPY_MODEL_7d2bb5bcee784471850be880d83fd6d5",
        "IPY_MODEL_d62b8c4932184b77b61b59ee0025d643",
        "IPY_MODEL_7977b67d494640439fd7f9291040f41b"
       ],
       "layout": "IPY_MODEL_b8bf732420414d158dee86ce5499d08e"
      }
     },
     "64770c8c29a340a7839354c23d726fe0": {
      "model_module": "@jupyter-widgets/base",
      "model_module_version": "1.2.0",
      "model_name": "LayoutModel",
      "state": {}
     },
     "64c1826bef0c4c79bd636d372dbf5014": {
      "model_module": "@jupyter-widgets/controls",
      "model_module_version": "1.5.0",
      "model_name": "SliderStyleModel",
      "state": {
       "description_width": ""
      }
     },
     "64d3b3099cab4d9d9f7527b404461918": {
      "model_module": "@jupyter-widgets/base",
      "model_module_version": "1.2.0",
      "model_name": "LayoutModel",
      "state": {}
     },
     "65d638082d0a4da2b5b0291a9be34dd4": {
      "model_module": "@jupyter-widgets/base",
      "model_module_version": "1.2.0",
      "model_name": "LayoutModel",
      "state": {}
     },
     "6b05cd0a94da4f28b63cdb4dd1c6cb42": {
      "model_module": "@jupyter-widgets/base",
      "model_module_version": "1.2.0",
      "model_name": "LayoutModel",
      "state": {}
     },
     "6fd0d4c39d3f4809b710c910f279c89a": {
      "model_module": "@jupyter-widgets/controls",
      "model_module_version": "1.5.0",
      "model_name": "SliderStyleModel",
      "state": {
       "description_width": ""
      }
     },
     "722e088fadeb4142847e63a4ccfc52ff": {
      "model_module": "@jupyter-widgets/controls",
      "model_module_version": "1.5.0",
      "model_name": "IntSliderModel",
      "state": {
       "description": "bn",
       "layout": "IPY_MODEL_9da78f405f7c4689885c7bdf45358c89",
       "max": 20,
       "min": 1,
       "style": "IPY_MODEL_a035647897094c208429c06cdc7ba79f",
       "value": 12
      }
     },
     "733bd66bcd6b4f4a881e17e8b2042096": {
      "model_module": "@jupyter-widgets/base",
      "model_module_version": "1.2.0",
      "model_name": "LayoutModel",
      "state": {}
     },
     "77fa36fd3cf347f19d803edd36c871c4": {
      "model_module": "@jupyter-widgets/base",
      "model_module_version": "1.2.0",
      "model_name": "LayoutModel",
      "state": {}
     },
     "792762cfe19a4f0aae64d011efb583bd": {
      "model_module": "@jupyter-widgets/controls",
      "model_module_version": "1.5.0",
      "model_name": "IntSliderModel",
      "state": {
       "description": "dn",
       "layout": "IPY_MODEL_9884640535fc41b487093d0337f06c10",
       "max": 20,
       "min": 1,
       "style": "IPY_MODEL_5a620728ac4e421b9879948c8fc5602a",
       "value": 11
      }
     },
     "7977b67d494640439fd7f9291040f41b": {
      "model_module": "@jupyter-widgets/output",
      "model_module_version": "1.0.0",
      "model_name": "OutputModel",
      "state": {
       "layout": "IPY_MODEL_1910a953ed3b4d6e8bce920ee7b0fb98",
       "outputs": [
        {
         "name": "stdout",
         "output_type": "stream",
         "text": "Grashof\n"
        },
        {
         "data": {
          "image/png": "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\n",
          "text/plain": "<Figure size 750x750 with 1 Axes>"
         },
         "metadata": {
          "needs_background": "light"
         },
         "output_type": "display_data"
        }
       ]
      }
     },
     "7d2bb5bcee784471850be880d83fd6d5": {
      "model_module": "@jupyter-widgets/controls",
      "model_module_version": "1.5.0",
      "model_name": "IntSliderModel",
      "state": {
       "description": "dn",
       "layout": "IPY_MODEL_a36eccd4923f4bb8b05faf3874a4166c",
       "max": 20,
       "min": 1,
       "style": "IPY_MODEL_9e511a9e6c884f7ba8dd5636047654b1",
       "value": 10
      }
     },
     "7f9b647107ab4b6f86e8be691e6f9e2c": {
      "model_module": "@jupyter-widgets/controls",
      "model_module_version": "1.5.0",
      "model_name": "SliderStyleModel",
      "state": {
       "description_width": ""
      }
     },
     "8237e311b7324e63b890a1588b2290c4": {
      "model_module": "@jupyter-widgets/controls",
      "model_module_version": "1.5.0",
      "model_name": "IntSliderModel",
      "state": {
       "description": "bn",
       "layout": "IPY_MODEL_dc7d000bb40345189ad9356fd3cfa639",
       "max": 20,
       "min": 1,
       "style": "IPY_MODEL_e34998f1410e4a80bb6fae5a2b981451",
       "value": 10
      }
     },
     "8419f1b84aee4ce4a6b687e13d09ef4c": {
      "model_module": "@jupyter-widgets/controls",
      "model_module_version": "1.5.0",
      "model_name": "IntSliderModel",
      "state": {
       "description": "cn",
       "layout": "IPY_MODEL_50e8afce2769454281522bf7004a6e39",
       "max": 20,
       "min": 1,
       "style": "IPY_MODEL_fd22a6cb01ea4115a24a41352bdd4376",
       "value": 10
      }
     },
     "85a988b312d14fb8be699d57e8e27c10": {
      "model_module": "@jupyter-widgets/base",
      "model_module_version": "1.2.0",
      "model_name": "LayoutModel",
      "state": {}
     },
     "8aabfa5087e14ec19f65d05b01c8c64c": {
      "model_module": "@jupyter-widgets/controls",
      "model_module_version": "1.5.0",
      "model_name": "SliderStyleModel",
      "state": {
       "description_width": ""
      }
     },
     "8b06f4590b8946b8a0ba2a8631b102b6": {
      "model_module": "@jupyter-widgets/controls",
      "model_module_version": "1.5.0",
      "model_name": "FloatSliderModel",
      "state": {
       "description": "thetan",
       "layout": "IPY_MODEL_b08938e4186947dbb0f8bee739a19997",
       "max": 12.566370614359172,
       "step": 0.1,
       "style": "IPY_MODEL_4903cacad1284ccd8f00a8829d602996",
       "value": 7.6
      }
     },
     "8bdbb76818bb4b91952397bc76975617": {
      "model_module": "@jupyter-widgets/controls",
      "model_module_version": "1.5.0",
      "model_name": "SliderStyleModel",
      "state": {
       "description_width": ""
      }
     },
     "8fdf4379c7954330838669cbaf8370a7": {
      "model_module": "@jupyter-widgets/controls",
      "model_module_version": "1.5.0",
      "model_name": "VBoxModel",
      "state": {
       "_dom_classes": [
        "widget-interact"
       ],
       "children": [
        "IPY_MODEL_a5fa3ec863764be6b14b896195bcaead",
        "IPY_MODEL_8237e311b7324e63b890a1588b2290c4",
        "IPY_MODEL_8419f1b84aee4ce4a6b687e13d09ef4c",
        "IPY_MODEL_e3032790379e499ba22bc7e6a116a957",
        "IPY_MODEL_8b06f4590b8946b8a0ba2a8631b102b6",
        "IPY_MODEL_eb8ed039d0e5485b97a7f61d1b9d00fe"
       ],
       "layout": "IPY_MODEL_ef3c5d4186034665b8916b322a4e4a8c"
      }
     },
     "919420f4784a41a3be95572623b50bd6": {
      "model_module": "@jupyter-widgets/output",
      "model_module_version": "1.0.0",
      "model_name": "OutputModel",
      "state": {
       "layout": "IPY_MODEL_65d638082d0a4da2b5b0291a9be34dd4",
       "outputs": [
        {
         "name": "stdout",
         "output_type": "stream",
         "text": "Não-Grashof\n"
        },
        {
         "data": {
          "image/png": "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\n",
          "text/plain": "<Figure size 750x750 with 1 Axes>"
         },
         "metadata": {
          "needs_background": "light"
         },
         "output_type": "display_data"
        }
       ]
      }
     },
     "91e43a24050f412995b86cddf39ec70e": {
      "model_module": "@jupyter-widgets/controls",
      "model_module_version": "1.5.0",
      "model_name": "SliderStyleModel",
      "state": {
       "description_width": ""
      }
     },
     "93c05e85d0854e0d8f974eb777415ccc": {
      "model_module": "@jupyter-widgets/controls",
      "model_module_version": "1.5.0",
      "model_name": "IntSliderModel",
      "state": {
       "description": "bn",
       "layout": "IPY_MODEL_64d3b3099cab4d9d9f7527b404461918",
       "max": 20,
       "min": 1,
       "style": "IPY_MODEL_7f9b647107ab4b6f86e8be691e6f9e2c",
       "value": 10
      }
     },
     "96799371bc0d405cb1e43f0545f3069b": {
      "model_module": "@jupyter-widgets/controls",
      "model_module_version": "1.5.0",
      "model_name": "FloatSliderModel",
      "state": {
       "description": "thetan",
       "layout": "IPY_MODEL_124feb46515f493aaf303d9c5eb78ca9",
       "max": 12.566370614359172,
       "step": 0.1,
       "style": "IPY_MODEL_057810a24e494ff689587e485c364113",
       "value": 6.283185307179586
      }
     },
     "97b4e6a424b646e588f7163430650eea": {
      "model_module": "@jupyter-widgets/base",
      "model_module_version": "1.2.0",
      "model_name": "LayoutModel",
      "state": {}
     },
     "9884640535fc41b487093d0337f06c10": {
      "model_module": "@jupyter-widgets/base",
      "model_module_version": "1.2.0",
      "model_name": "LayoutModel",
      "state": {}
     },
     "9d74f5a036014b7299fe839df75f4c2f": {
      "model_module": "@jupyter-widgets/controls",
      "model_module_version": "1.5.0",
      "model_name": "IntSliderModel",
      "state": {
       "description": "cn",
       "layout": "IPY_MODEL_d62c48c392d84befa8c43bd73b9defc8",
       "max": 20,
       "min": 1,
       "style": "IPY_MODEL_f584970036d64074970e92612ae90f6a",
       "value": 10
      }
     },
     "9da78f405f7c4689885c7bdf45358c89": {
      "model_module": "@jupyter-widgets/base",
      "model_module_version": "1.2.0",
      "model_name": "LayoutModel",
      "state": {}
     },
     "9e511a9e6c884f7ba8dd5636047654b1": {
      "model_module": "@jupyter-widgets/controls",
      "model_module_version": "1.5.0",
      "model_name": "SliderStyleModel",
      "state": {
       "description_width": ""
      }
     },
     "a035647897094c208429c06cdc7ba79f": {
      "model_module": "@jupyter-widgets/controls",
      "model_module_version": "1.5.0",
      "model_name": "SliderStyleModel",
      "state": {
       "description_width": ""
      }
     },
     "a2ff4b1c7b144b96a3cc2ea112a18f29": {
      "model_module": "@jupyter-widgets/controls",
      "model_module_version": "1.5.0",
      "model_name": "VBoxModel",
      "state": {
       "_dom_classes": [
        "widget-interact"
       ],
       "children": [
        "IPY_MODEL_d0dc406e98da45a097b0c6eab8d17dc1",
        "IPY_MODEL_f470906a1fbb4c2b9be7027b77ce651e",
        "IPY_MODEL_40a0e22e593c490fbafb939b38a87615",
        "IPY_MODEL_792762cfe19a4f0aae64d011efb583bd",
        "IPY_MODEL_daa7d96fe48b4dff8d7ce4a014060248",
        "IPY_MODEL_919420f4784a41a3be95572623b50bd6"
       ],
       "layout": "IPY_MODEL_85a988b312d14fb8be699d57e8e27c10"
      }
     },
     "a36eccd4923f4bb8b05faf3874a4166c": {
      "model_module": "@jupyter-widgets/base",
      "model_module_version": "1.2.0",
      "model_name": "LayoutModel",
      "state": {}
     },
     "a3e03a238a4a43ff90a6768c30387ed2": {
      "model_module": "@jupyter-widgets/controls",
      "model_module_version": "1.5.0",
      "model_name": "SliderStyleModel",
      "state": {
       "description_width": ""
      }
     },
     "a5fa3ec863764be6b14b896195bcaead": {
      "model_module": "@jupyter-widgets/controls",
      "model_module_version": "1.5.0",
      "model_name": "IntSliderModel",
      "state": {
       "description": "an",
       "layout": "IPY_MODEL_abbcf0cd100c4a66ae2a4e0cc78e5690",
       "max": 20,
       "min": 1,
       "style": "IPY_MODEL_e58faf2902c949f8abd41ca94e2b725d",
       "value": 7
      }
     },
     "ab26f86fc2ef445b813211c3027abc83": {
      "model_module": "@jupyter-widgets/base",
      "model_module_version": "1.2.0",
      "model_name": "LayoutModel",
      "state": {}
     },
     "abbcf0cd100c4a66ae2a4e0cc78e5690": {
      "model_module": "@jupyter-widgets/base",
      "model_module_version": "1.2.0",
      "model_name": "LayoutModel",
      "state": {}
     },
     "ae38ad102f7b4202afcdf31b636f1ac6": {
      "model_module": "@jupyter-widgets/base",
      "model_module_version": "1.2.0",
      "model_name": "LayoutModel",
      "state": {}
     },
     "afa39164265642cca115cc6aac255a90": {
      "model_module": "@jupyter-widgets/base",
      "model_module_version": "1.2.0",
      "model_name": "LayoutModel",
      "state": {}
     },
     "b08938e4186947dbb0f8bee739a19997": {
      "model_module": "@jupyter-widgets/base",
      "model_module_version": "1.2.0",
      "model_name": "LayoutModel",
      "state": {}
     },
     "b4f29f431ca943e186acd638d28403e1": {
      "model_module": "@jupyter-widgets/base",
      "model_module_version": "1.2.0",
      "model_name": "LayoutModel",
      "state": {}
     },
     "b574e731d8274857b2ace108f6bde762": {
      "model_module": "@jupyter-widgets/controls",
      "model_module_version": "1.5.0",
      "model_name": "IntSliderModel",
      "state": {
       "description": "bn",
       "layout": "IPY_MODEL_afa39164265642cca115cc6aac255a90",
       "max": 20,
       "min": 1,
       "style": "IPY_MODEL_42adb2838a6644f8a6d51dcc243a0a88",
       "value": 10
      }
     },
     "b619ba5cd68c4930b0b50d68a240c503": {
      "model_module": "@jupyter-widgets/base",
      "model_module_version": "1.2.0",
      "model_name": "LayoutModel",
      "state": {}
     },
     "b8bf732420414d158dee86ce5499d08e": {
      "model_module": "@jupyter-widgets/base",
      "model_module_version": "1.2.0",
      "model_name": "LayoutModel",
      "state": {}
     },
     "bab885a127ad4d48954dca2978ec50b2": {
      "model_module": "@jupyter-widgets/controls",
      "model_module_version": "1.5.0",
      "model_name": "IntSliderModel",
      "state": {
       "description": "an",
       "layout": "IPY_MODEL_77fa36fd3cf347f19d803edd36c871c4",
       "max": 20,
       "min": 1,
       "step": 2,
       "style": "IPY_MODEL_91e43a24050f412995b86cddf39ec70e",
       "value": 15
      }
     },
     "be539025f8254ae5b5d596af29d20d00": {
      "model_module": "@jupyter-widgets/controls",
      "model_module_version": "1.5.0",
      "model_name": "IntSliderModel",
      "state": {
       "description": "dn",
       "layout": "IPY_MODEL_de7b2cc3af9445b794c7c0bdf0c0b6fa",
       "max": 20,
       "min": 1,
       "style": "IPY_MODEL_a3e03a238a4a43ff90a6768c30387ed2",
       "value": 13
      }
     },
     "bf0992874479438c862928a4364e2239": {
      "model_module": "@jupyter-widgets/controls",
      "model_module_version": "1.5.0",
      "model_name": "SliderStyleModel",
      "state": {
       "description_width": ""
      }
     },
     "bfd68ede1b654572affe57efb55414ff": {
      "model_module": "@jupyter-widgets/base",
      "model_module_version": "1.2.0",
      "model_name": "LayoutModel",
      "state": {}
     },
     "c07c1dfc56994dbf80c9c66fffe4488d": {
      "model_module": "@jupyter-widgets/controls",
      "model_module_version": "1.5.0",
      "model_name": "IntSliderModel",
      "state": {
       "description": "cn",
       "layout": "IPY_MODEL_733bd66bcd6b4f4a881e17e8b2042096",
       "max": 20,
       "min": 1,
       "style": "IPY_MODEL_dbc50313769c4d418fdcbe138c00fb23",
       "value": 15
      }
     },
     "c23d689ae9cf4684904bb9f79556d9a8": {
      "model_module": "@jupyter-widgets/controls",
      "model_module_version": "1.5.0",
      "model_name": "SliderStyleModel",
      "state": {
       "description_width": ""
      }
     },
     "c38e4bf8efac4988bdf53f6db8a8d069": {
      "model_module": "@jupyter-widgets/controls",
      "model_module_version": "1.5.0",
      "model_name": "SliderStyleModel",
      "state": {
       "description_width": ""
      }
     },
     "c6342a220cd14dc99369ed3afb27c884": {
      "model_module": "@jupyter-widgets/base",
      "model_module_version": "1.2.0",
      "model_name": "LayoutModel",
      "state": {}
     },
     "cb09880e27da4c29b3b7bd42156ac924": {
      "model_module": "@jupyter-widgets/base",
      "model_module_version": "1.2.0",
      "model_name": "LayoutModel",
      "state": {}
     },
     "d0dc406e98da45a097b0c6eab8d17dc1": {
      "model_module": "@jupyter-widgets/controls",
      "model_module_version": "1.5.0",
      "model_name": "IntSliderModel",
      "state": {
       "description": "an",
       "layout": "IPY_MODEL_2138628862484b16979c45940d5ad8fc",
       "max": 20,
       "min": 1,
       "style": "IPY_MODEL_3ee5350627ae4de186c9fd338a9c77f6",
       "value": 13
      }
     },
     "d62b8c4932184b77b61b59ee0025d643": {
      "model_module": "@jupyter-widgets/controls",
      "model_module_version": "1.5.0",
      "model_name": "FloatSliderModel",
      "state": {
       "description": "thetan",
       "layout": "IPY_MODEL_ae38ad102f7b4202afcdf31b636f1ac6",
       "max": 12.566370614359172,
       "step": 0.1,
       "style": "IPY_MODEL_6fd0d4c39d3f4809b710c910f279c89a",
       "value": 2
      }
     },
     "d62c48c392d84befa8c43bd73b9defc8": {
      "model_module": "@jupyter-widgets/base",
      "model_module_version": "1.2.0",
      "model_name": "LayoutModel",
      "state": {}
     },
     "d78bede0c0e143669f38ff60beb58789": {
      "model_module": "@jupyter-widgets/base",
      "model_module_version": "1.2.0",
      "model_name": "LayoutModel",
      "state": {}
     },
     "daa7d96fe48b4dff8d7ce4a014060248": {
      "model_module": "@jupyter-widgets/controls",
      "model_module_version": "1.5.0",
      "model_name": "FloatSliderModel",
      "state": {
       "description": "thetan",
       "layout": "IPY_MODEL_b4f29f431ca943e186acd638d28403e1",
       "max": 12.566370614359172,
       "step": 0.1,
       "style": "IPY_MODEL_c23d689ae9cf4684904bb9f79556d9a8",
       "value": 6.8
      }
     },
     "dbc50313769c4d418fdcbe138c00fb23": {
      "model_module": "@jupyter-widgets/controls",
      "model_module_version": "1.5.0",
      "model_name": "SliderStyleModel",
      "state": {
       "description_width": ""
      }
     },
     "dc7d000bb40345189ad9356fd3cfa639": {
      "model_module": "@jupyter-widgets/base",
      "model_module_version": "1.2.0",
      "model_name": "LayoutModel",
      "state": {}
     },
     "de7b2cc3af9445b794c7c0bdf0c0b6fa": {
      "model_module": "@jupyter-widgets/base",
      "model_module_version": "1.2.0",
      "model_name": "LayoutModel",
      "state": {}
     },
     "e3032790379e499ba22bc7e6a116a957": {
      "model_module": "@jupyter-widgets/controls",
      "model_module_version": "1.5.0",
      "model_name": "IntSliderModel",
      "state": {
       "description": "dn",
       "layout": "IPY_MODEL_57c54f8e0de14d10846284838bfa73fc",
       "max": 20,
       "min": 1,
       "style": "IPY_MODEL_4c7625a0c03e485f8735698f4b456241",
       "value": 10
      }
     },
     "e34998f1410e4a80bb6fae5a2b981451": {
      "model_module": "@jupyter-widgets/controls",
      "model_module_version": "1.5.0",
      "model_name": "SliderStyleModel",
      "state": {
       "description_width": ""
      }
     },
     "e58faf2902c949f8abd41ca94e2b725d": {
      "model_module": "@jupyter-widgets/controls",
      "model_module_version": "1.5.0",
      "model_name": "SliderStyleModel",
      "state": {
       "description_width": ""
      }
     },
     "eb8ed039d0e5485b97a7f61d1b9d00fe": {
      "model_module": "@jupyter-widgets/output",
      "model_module_version": "1.0.0",
      "model_name": "OutputModel",
      "state": {
       "layout": "IPY_MODEL_97b4e6a424b646e588f7163430650eea",
       "outputs": [
        {
         "name": "stdout",
         "output_type": "stream",
         "text": "Grashof\n"
        },
        {
         "data": {
          "image/png": "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\n",
          "text/plain": "<Figure size 750x750 with 1 Axes>"
         },
         "metadata": {
          "needs_background": "light"
         },
         "output_type": "display_data"
        }
       ]
      }
     },
     "ef3c5d4186034665b8916b322a4e4a8c": {
      "model_module": "@jupyter-widgets/base",
      "model_module_version": "1.2.0",
      "model_name": "LayoutModel",
      "state": {}
     },
     "f12793bc35c9412ba6966ea883e46a4c": {
      "model_module": "@jupyter-widgets/controls",
      "model_module_version": "1.5.0",
      "model_name": "SliderStyleModel",
      "state": {
       "description_width": ""
      }
     },
     "f470906a1fbb4c2b9be7027b77ce651e": {
      "model_module": "@jupyter-widgets/controls",
      "model_module_version": "1.5.0",
      "model_name": "IntSliderModel",
      "state": {
       "description": "bn",
       "layout": "IPY_MODEL_6b05cd0a94da4f28b63cdb4dd1c6cb42",
       "max": 20,
       "min": 1,
       "style": "IPY_MODEL_f9152e7724db41ec90e1db46749c7e4b",
       "value": 11
      }
     },
     "f584970036d64074970e92612ae90f6a": {
      "model_module": "@jupyter-widgets/controls",
      "model_module_version": "1.5.0",
      "model_name": "SliderStyleModel",
      "state": {
       "description_width": ""
      }
     },
     "f7450cc405614f6eab2fbfccdd28cdff": {
      "model_module": "@jupyter-widgets/controls",
      "model_module_version": "1.5.0",
      "model_name": "VBoxModel",
      "state": {
       "_dom_classes": [
        "widget-interact"
       ],
       "children": [
        "IPY_MODEL_21d9c60f5f1b482ca0e0c4f196874cae",
        "IPY_MODEL_722e088fadeb4142847e63a4ccfc52ff",
        "IPY_MODEL_c07c1dfc56994dbf80c9c66fffe4488d",
        "IPY_MODEL_be539025f8254ae5b5d596af29d20d00",
        "IPY_MODEL_47247fce72bb4d69a69126d42b68d344",
        "IPY_MODEL_2a77e0af97d543cd91fb5c7253394cd9"
       ],
       "layout": "IPY_MODEL_bfd68ede1b654572affe57efb55414ff"
      }
     },
     "f9152e7724db41ec90e1db46749c7e4b": {
      "model_module": "@jupyter-widgets/controls",
      "model_module_version": "1.5.0",
      "model_name": "SliderStyleModel",
      "state": {
       "description_width": ""
      }
     },
     "fb5b704e252341dc8411b6ceb665b9b3": {
      "model_module": "@jupyter-widgets/controls",
      "model_module_version": "1.5.0",
      "model_name": "IntSliderModel",
      "state": {
       "description": "an",
       "layout": "IPY_MODEL_cb09880e27da4c29b3b7bd42156ac924",
       "max": 20,
       "min": 1,
       "style": "IPY_MODEL_c38e4bf8efac4988bdf53f6db8a8d069",
       "value": 8
      }
     },
     "fb8425718cd54380a7aa3f99fb96bc09": {
      "model_module": "@jupyter-widgets/controls",
      "model_module_version": "1.5.0",
      "model_name": "IntSliderModel",
      "state": {
       "description": "dn",
       "layout": "IPY_MODEL_ab26f86fc2ef445b813211c3027abc83",
       "max": 20,
       "min": 1,
       "style": "IPY_MODEL_8bdbb76818bb4b91952397bc76975617",
       "value": 10
      }
     },
     "fd22a6cb01ea4115a24a41352bdd4376": {
      "model_module": "@jupyter-widgets/controls",
      "model_module_version": "1.5.0",
      "model_name": "SliderStyleModel",
      "state": {
       "description_width": ""
      }
     }
    },
    "version_major": 2,
    "version_minor": 0
   }
  }
 },
 "nbformat": 4,
 "nbformat_minor": 4
}
