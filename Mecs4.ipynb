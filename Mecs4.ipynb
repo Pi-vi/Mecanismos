{
 "cells": [
  {
   "cell_type": "markdown",
   "metadata": {
    "slideshow": {
     "slide_type": "slide"
    }
   },
   "source": [
    "# 4. Análise de Posição\n",
    "Professor Paulo Victor <br>\n",
    "e-mail: paulo.gomes@cefet-rj.br <br>\n",
    "CEFET/RJ Campus Angra dos Reis - Sala 6E\n",
    "<br>\n",
    "<br>\n",
    "*Este material é um resumo do livro* **Cinemática e Dinâmica dos Mecanismos** *do autor Robert L. Norton, Editora AMGH, publicado em 2010, de modo a servir apenas como um guia para estudos e para as aulas. Este material não substitui a leitura do livro.* "
   ]
  },
  {
   "cell_type": "markdown",
   "metadata": {
    "slideshow": {
     "slide_type": "subslide"
    }
   },
   "source": [
    "Uma vez que um projeto de mecanismo tenha sido **sintetizado**, ele deve ser **analisado**. <br>\n",
    "O principal objetivo de uma análise cinemática é determinar as acelerações de todas as partes móveis do conjunto. **Forças Dinâmicas** são proporcionais à aceleração conforme a segunda lei de Newton. Precisamos conhecer as forças dinâmicas para calcularmos as **tensões** nos componentes."
   ]
  },
  {
   "cell_type": "markdown",
   "metadata": {
    "slideshow": {
     "slide_type": "subslide"
    }
   },
   "source": [
    "![](figs4-0.jpg)"
   ]
  },
  {
   "cell_type": "markdown",
   "metadata": {
    "slideshow": {
     "slide_type": "slide"
    }
   },
   "source": [
    "## 4.1 Sistemas de Coordenadas"
   ]
  },
  {
   "cell_type": "markdown",
   "metadata": {
    "slideshow": {
     "slide_type": "subslide"
    }
   },
   "source": [
    "* Sistema de coordenadas global ou absoluto\n",
    "* Sistema de coordenadas local"
   ]
  },
  {
   "cell_type": "code",
   "execution_count": 1,
   "metadata": {
    "slideshow": {
     "slide_type": "fragment"
    }
   },
   "outputs": [
    {
     "data": {
      "image/svg+xml": [
       "<svg xmlns:dc=\"http://purl.org/dc/elements/1.1/\" xmlns:cc=\"http://creativecommons.org/ns#\" xmlns:rdf=\"http://www.w3.org/1999/02/22-rdf-syntax-ns#\" xmlns:svg=\"http://www.w3.org/2000/svg\" xmlns=\"http://www.w3.org/2000/svg\" xmlns:sodipodi=\"http://sodipodi.sourceforge.net/DTD/sodipodi-0.dtd\" xmlns:inkscape=\"http://www.inkscape.org/namespaces/inkscape\" width=\"79.856323mm\" height=\"104.18919mm\" viewBox=\"0 0 79.856323 104.18919\" version=\"1.1\" id=\"svg8\" inkscape:version=\"1.0.1 (3bc2e813f5, 2020-09-07)\" sodipodi:docname=\"figs4-1.svg\">\n",
       "  <defs id=\"defs2\">\n",
       "    <marker style=\"overflow:visible\" id=\"marker4131\" refX=\"0\" refY=\"0\" orient=\"auto\" inkscape:stockid=\"Arrow1Lend\" inkscape:isstock=\"true\">\n",
       "      <path transform=\"matrix(-0.8,0,0,-0.8,-10,0)\" style=\"fill:#000000;fill-opacity:1;fill-rule:evenodd;stroke:#000000;stroke-width:1pt;stroke-opacity:1\" d=\"M 0,0 5,-5 -12.5,0 5,5 Z\" id=\"path4129\"/>\n",
       "    </marker>\n",
       "    <marker style=\"overflow:visible\" id=\"marker4049\" refX=\"0\" refY=\"0\" orient=\"auto\" inkscape:stockid=\"Arrow1Lend\" inkscape:isstock=\"true\">\n",
       "      <path transform=\"matrix(-0.8,0,0,-0.8,-10,0)\" style=\"fill:#000000;fill-opacity:1;fill-rule:evenodd;stroke:#000000;stroke-width:1pt;stroke-opacity:1\" d=\"M 0,0 5,-5 -12.5,0 5,5 Z\" id=\"path4047\"/>\n",
       "    </marker>\n",
       "    <marker style=\"overflow:visible\" id=\"marker3901\" refX=\"0\" refY=\"0\" orient=\"auto\" inkscape:stockid=\"Arrow1Lend\" inkscape:isstock=\"true\" inkscape:collect=\"always\">\n",
       "      <path transform=\"matrix(-0.8,0,0,-0.8,-10,0)\" style=\"fill:#000000;fill-opacity:1;fill-rule:evenodd;stroke:#000000;stroke-width:1pt;stroke-opacity:1\" d=\"M 0,0 5,-5 -12.5,0 5,5 Z\" id=\"path3899\"/>\n",
       "    </marker>\n",
       "    <marker style=\"overflow:visible\" id=\"marker3757\" refX=\"0\" refY=\"0\" orient=\"auto\" inkscape:stockid=\"Arrow1Lend\" inkscape:isstock=\"true\">\n",
       "      <path transform=\"matrix(-0.8,0,0,-0.8,-10,0)\" style=\"fill:#0000ff;fill-opacity:1;fill-rule:evenodd;stroke:#0000ff;stroke-width:1pt;stroke-opacity:1\" d=\"M 0,0 5,-5 -12.5,0 5,5 Z\" id=\"path3755\"/>\n",
       "    </marker>\n",
       "    <marker style=\"overflow:visible\" id=\"marker3747\" refX=\"0\" refY=\"0\" orient=\"auto\" inkscape:stockid=\"Arrow1Lend\" inkscape:isstock=\"true\">\n",
       "      <path transform=\"matrix(-0.8,0,0,-0.8,-10,0)\" style=\"fill:#0000ff;fill-opacity:1;fill-rule:evenodd;stroke:#0000ff;stroke-width:1pt;stroke-opacity:1\" d=\"M 0,0 5,-5 -12.5,0 5,5 Z\" id=\"path3745\"/>\n",
       "    </marker>\n",
       "    <marker style=\"overflow:visible\" id=\"marker3697\" refX=\"0\" refY=\"0\" orient=\"auto\" inkscape:stockid=\"Arrow1Lend\" inkscape:isstock=\"true\" inkscape:collect=\"always\">\n",
       "      <path transform=\"matrix(-0.8,0,0,-0.8,-10,0)\" style=\"fill:#ff0000;fill-opacity:1;fill-rule:evenodd;stroke:#ff0000;stroke-width:1pt;stroke-opacity:1\" d=\"M 0,0 5,-5 -12.5,0 5,5 Z\" id=\"path3695\"/>\n",
       "    </marker>\n",
       "    <marker style=\"overflow:visible\" id=\"Arrow1Lend\" refX=\"0\" refY=\"0\" orient=\"auto\" inkscape:stockid=\"Arrow1Lend\" inkscape:isstock=\"true\" inkscape:collect=\"always\">\n",
       "      <path transform=\"matrix(-0.8,0,0,-0.8,-10,0)\" style=\"fill:#ff0000;fill-opacity:1;fill-rule:evenodd;stroke:#ff0000;stroke-width:1pt;stroke-opacity:1\" d=\"M 0,0 5,-5 -12.5,0 5,5 Z\" id=\"path2822\"/>\n",
       "    </marker>\n",
       "    <marker style=\"overflow:visible\" id=\"Arrow1Lstart\" refX=\"0\" refY=\"0\" orient=\"auto\" inkscape:stockid=\"Arrow1Lstart\" inkscape:isstock=\"true\">\n",
       "      <path transform=\"matrix(0.8,0,0,0.8,10,0)\" style=\"fill:#000000;fill-opacity:1;fill-rule:evenodd;stroke:#000000;stroke-width:1pt;stroke-opacity:1\" d=\"M 0,0 5,-5 -12.5,0 5,5 Z\" id=\"path2819\"/>\n",
       "    </marker>\n",
       "  </defs>\n",
       "  <sodipodi:namedview id=\"base\" pagecolor=\"#ffffff\" bordercolor=\"#666666\" borderopacity=\"1.0\" inkscape:pageopacity=\"0.0\" inkscape:pageshadow=\"2\" inkscape:zoom=\"1.4\" inkscape:cx=\"413.09044\" inkscape:cy=\"179.65562\" inkscape:document-units=\"mm\" inkscape:current-layer=\"layer2\" inkscape:document-rotation=\"0\" showgrid=\"false\" inkscape:snap-smooth-nodes=\"true\" inkscape:window-width=\"1920\" inkscape:window-height=\"1017\" inkscape:window-x=\"-8\" inkscape:window-y=\"-8\" inkscape:window-maximized=\"1\"/>\n",
       "  <metadata id=\"metadata5\">\n",
       "    <rdf:RDF>\n",
       "      <cc:Work rdf:about=\"\">\n",
       "        <dc:format>image/svg+xml</dc:format>\n",
       "        <dc:type rdf:resource=\"http://purl.org/dc/dcmitype/StillImage\"/>\n",
       "        <dc:title/>\n",
       "      </cc:Work>\n",
       "    </rdf:RDF>\n",
       "  </metadata>\n",
       "  <g inkscape:groupmode=\"layer\" id=\"layer2\" inkscape:label=\"Layer 2\">\n",
       "    <rect style=\"fill:#ffffff;stroke:#ffffff;stroke-width:0.865\" id=\"rect984\" width=\"79.742203\" height=\"104.01419\" x=\"-0.1889881\" y=\"0\"/>\n",
       "  </g>\n",
       "  <g inkscape:label=\"Layer 1\" inkscape:groupmode=\"layer\" id=\"layer1\" transform=\"translate(-52.286574,-9.575667)\">\n",
       "    <g inkscape:label=\"Layer 1\" id=\"layer1-3\" transform=\"translate(30.1001,-59.712217)\">\n",
       "      <path id=\"path839\" style=\"fill:#ffffff;stroke:#000000;stroke-width:2.64567;stroke-linejoin:bevel;stroke-miterlimit:4;stroke-dasharray:none\" d=\"M 219.92383,480 A 39.999999,39.999999 0 0 0 180,520 a 39.999999,39.999999 0 0 0 0,0.0762 V 590 h 80 v -70 a 39.999999,39.999999 0 0 0 -40,-40 39.999999,39.999999 0 0 0 -0.0762,0 z\" transform=\"scale(0.26458333)\"/>\n",
       "      <path style=\"fill:none;stroke:#000000;stroke-width:0.7;stroke-linecap:butt;stroke-linejoin:miter;stroke-miterlimit:4;stroke-dasharray:none;stroke-opacity:1\" d=\"M 22.489583,156.10416 H 99.218749\" id=\"path850\"/>\n",
       "      <path style=\"fill:none;stroke:#000000;stroke-width:0.7;stroke-linecap:butt;stroke-linejoin:miter;stroke-miterlimit:4;stroke-dasharray:none;stroke-opacity:1\" d=\"m 22.489583,156.10416 9.929222,17.19792\" id=\"path852\"/>\n",
       "      <path style=\"fill:none;stroke:#000000;stroke-width:0.7;stroke-linecap:butt;stroke-linejoin:miter;stroke-miterlimit:4;stroke-dasharray:none;stroke-opacity:1\" d=\"m 39.952094,156.10416 9.929222,17.19792\" id=\"path854\"/>\n",
       "      <path style=\"fill:none;stroke:#000000;stroke-width:0.7;stroke-linecap:butt;stroke-linejoin:miter;stroke-miterlimit:4;stroke-dasharray:none;stroke-opacity:1\" d=\"m 56.885438,156.10416 9.929222,17.19792\" id=\"path856\"/>\n",
       "      <path style=\"fill:none;stroke:#000000;stroke-width:0.7;stroke-linecap:butt;stroke-linejoin:miter;stroke-miterlimit:4;stroke-dasharray:none;stroke-opacity:1\" d=\"m 74.347949,156.10416 9.929222,17.19792\" id=\"path858\"/>\n",
       "      <path style=\"fill:none;stroke:#000000;stroke-width:0.7;stroke-linecap:butt;stroke-linejoin:miter;stroke-miterlimit:4;stroke-dasharray:none;stroke-opacity:1\" d=\"m 91.81046,156.10416 9.92923,17.19792\" id=\"path860\"/>\n",
       "      <circle style=\"fill:#ffffff;stroke:#000000;stroke-width:0.7;stroke-linejoin:bevel\" id=\"path1592\" cx=\"58.266396\" cy=\"137.45695\" r=\"3.6994057\"/>\n",
       "    </g>\n",
       "    <rect style=\"fill:#ffffff;stroke:#000000;stroke-width:0.765;stroke-linejoin:bevel;stroke-miterlimit:4;stroke-dasharray:none\" id=\"rect2813\" width=\"6.7414675\" height=\"81.057007\" x=\"111.98591\" y=\"-54.279552\" ry=\"2.6572323\" transform=\"rotate(30)\"/>\n",
       "    <path style=\"fill:none;stroke:#ff0000;stroke-width:0.264583px;stroke-linecap:butt;stroke-linejoin:miter;stroke-opacity:1;marker-end:url(#marker3697)\" d=\"M 87.823113,78.660587 V 42.729266\" id=\"path3603\"/>\n",
       "    <path style=\"fill:none;stroke:#ff0000;stroke-width:0.264583px;stroke-linecap:butt;stroke-linejoin:miter;stroke-opacity:1;marker-end:url(#Arrow1Lend)\" d=\"M 87.823113,78.660587 H 122.52712\" id=\"path3605\"/>\n",
       "    <path style=\"fill:none;stroke:#0000ff;stroke-width:0.264583px;stroke-linecap:butt;stroke-linejoin:miter;stroke-opacity:1;marker-end:url(#marker3757)\" d=\"M 87.823113,78.660587 56.705683,60.694926\" id=\"path3741\"/>\n",
       "    <path style=\"fill:none;stroke:#0000ff;stroke-width:0.264583px;stroke-linecap:butt;stroke-linejoin:miter;stroke-opacity:1;marker-end:url(#marker3747)\" d=\"M 87.823113,78.660587 105.17511,48.606044\" id=\"path3743\"/>\n",
       "    <path style=\"fill:none;stroke:#000000;stroke-width:0.465;stroke-linecap:butt;stroke-linejoin:miter;stroke-miterlimit:4;stroke-dasharray:none;stroke-opacity:1;marker-end:url(#marker3901)\" d=\"M 104.57734,78.609808 C 103.10148,70.726522 99.47821,67.90276 95.816064,65.170602\" id=\"path3889\" sodipodi:nodetypes=\"cc\"/>\n",
       "    <g id=\"g3897\" transform=\"translate(-2.2329756,2.6395237)\">\n",
       "      <ellipse style=\"fill:#ffffff;stroke:#000000;stroke-width:0.765;stroke-linejoin:bevel;stroke-miterlimit:4;stroke-dasharray:none\" id=\"path3891\" cx=\"110.22939\" cy=\"67.623489\" rx=\"2.7784157\" ry=\"4.4053955\"/>\n",
       "      <path style=\"fill:none;stroke:#000000;stroke-width:0.565;stroke-linecap:butt;stroke-linejoin:miter;stroke-miterlimit:4;stroke-dasharray:none;stroke-opacity:1\" d=\"m 107.45097,67.623493 h 5.55684\" id=\"path3893\"/>\n",
       "    </g>\n",
       "    <text xml:space=\"preserve\" style=\"font-size:7.7611px;line-height:1.25;font-family:sans-serif;-inkscape-font-specification:sans-serif;stroke-width:0.264583\" x=\"110.03159\" y=\"38.528992\" id=\"text4031\"><tspan sodipodi:role=\"line\" id=\"tspan4029\" x=\"110.03159\" y=\"38.528992\" style=\"stroke-width:0.264583\">P</tspan></text>\n",
       "    <text xml:space=\"preserve\" style=\"font-size:7.7611px;line-height:1.25;font-family:sans-serif;-inkscape-font-specification:sans-serif;stroke-width:0.264583\" x=\"106.55747\" y=\"46.441589\" id=\"text4035\"><tspan sodipodi:role=\"line\" id=\"tspan4033\" x=\"106.55747\" y=\"46.441589\" style=\"stroke-width:0.264583\">*</tspan></text>\n",
       "    <path style=\"fill:none;stroke:#000000;stroke-width:0.264583px;stroke-linecap:butt;stroke-linejoin:miter;stroke-opacity:1\" d=\"M 106.32633,41.129759 79.734369,25.776881\" id=\"path4037\"/>\n",
       "    <path style=\"fill:none;stroke:#000000;stroke-width:0.264583px;stroke-linecap:butt;stroke-linejoin:miter;stroke-opacity:1;marker-start:url(#Arrow1Lstart);marker-end:url(#marker4131)\" d=\"M 83.462121,27.950964 62.674726,63.955788\" id=\"path4039\"/>\n",
       "    <text xml:space=\"preserve\" style=\"font-size:7.7611px;line-height:1.25;font-family:sans-serif;-inkscape-font-specification:sans-serif;stroke-width:0.264583\" x=\"-6.5680075\" y=\"83.487465\" id=\"text4201\" transform=\"rotate(-60)\"><tspan sodipodi:role=\"line\" id=\"tspan4199\" x=\"-6.5680075\" y=\"83.487465\" style=\"stroke-width:0.264583\">R</tspan></text>\n",
       "    <text xml:space=\"preserve\" style=\"font-size:7.7611px;line-height:1.25;font-family:sans-serif;-inkscape-font-specification:sans-serif;fill:#ff0000;stroke-width:0.264583\" x=\"117.80534\" y=\"85.383514\" id=\"text4211\"><tspan sodipodi:role=\"line\" id=\"tspan4209\" x=\"117.80534\" y=\"85.383514\" style=\"fill:#ff0000;stroke-width:0.264583\">x</tspan></text>\n",
       "    <text xml:space=\"preserve\" style=\"font-size:7.7611px;line-height:1.25;font-family:sans-serif;-inkscape-font-specification:sans-serif;fill:#ff0000;stroke-width:0.264583\" x=\"81.613541\" y=\"46.98951\" id=\"text4215\"><tspan sodipodi:role=\"line\" id=\"tspan4213\" x=\"81.613541\" y=\"46.98951\" style=\"fill:#ff0000;stroke-width:0.264583\">y</tspan></text>\n",
       "  </g>\n",
       "</svg>"
      ],
      "text/plain": [
       "<IPython.core.display.SVG object>"
      ]
     },
     "execution_count": 1,
     "metadata": {},
     "output_type": "execute_result"
    }
   ],
   "source": [
    "from IPython.display import SVG\n",
    "SVG('figs4-1.svg')"
   ]
  },
  {
   "cell_type": "code",
   "execution_count": 2,
   "metadata": {
    "slideshow": {
     "slide_type": "fragment"
    }
   },
   "outputs": [],
   "source": [
    "from sympy import *"
   ]
  },
  {
   "cell_type": "code",
   "execution_count": 3,
   "metadata": {
    "slideshow": {
     "slide_type": "subslide"
    }
   },
   "outputs": [],
   "source": [
    "import sympy.physics.mechanics as me"
   ]
  },
  {
   "cell_type": "code",
   "execution_count": 4,
   "metadata": {
    "slideshow": {
     "slide_type": "fragment"
    }
   },
   "outputs": [],
   "source": [
    "N = me.ReferenceFrame('N')\n",
    "A = me.ReferenceFrame('A')"
   ]
  },
  {
   "cell_type": "code",
   "execution_count": 5,
   "metadata": {
    "slideshow": {
     "slide_type": "fragment"
    }
   },
   "outputs": [],
   "source": [
    "theta = me.dynamicsymbols('theta') "
   ]
  },
  {
   "cell_type": "code",
   "execution_count": 6,
   "metadata": {
    "slideshow": {
     "slide_type": "fragment"
    }
   },
   "outputs": [],
   "source": [
    "A.orient(N,'Axis',[theta,N.z])"
   ]
  },
  {
   "cell_type": "markdown",
   "metadata": {
    "slideshow": {
     "slide_type": "slide"
    }
   },
   "source": [
    "## 4.2 Posição e Deslocamento"
   ]
  },
  {
   "cell_type": "markdown",
   "metadata": {
    "slideshow": {
     "slide_type": "subslide"
    }
   },
   "source": [
    "### Posição"
   ]
  },
  {
   "cell_type": "markdown",
   "metadata": {
    "slideshow": {
     "slide_type": "fragment"
    }
   },
   "source": [
    "A posição de um ponto no **plano** pode ser definida por meio de um **vetor posição**. <br>\n",
    "A escolha dos **eixos de referência** é arbritrária, selecionada para satisfazer o observador. <br>\n",
    "Um vetor de duas dimensões tem dois atributos, que podem ser expressos tento na forma *polar* quanto em *coordenadas cartesianas*. \n",
    "* forma polar\n",
    "    * fornece o módulo e o ângulo do vetor: $\\vec{p} = | R | @ \\angle \\theta$\n",
    "* forma cartesiana\n",
    "    * fornece os componentes X e Y do vetor: $\\vec{p} = R_x,R_y$\n",
    "Observa-se que:\n",
    "$$ R = \\sqrt{R_x^2 + R_y^2}$$\n",
    "$$ \\theta = arctan \\left( \\dfrac{R_y}{R_x} \\right)$$"
   ]
  },
  {
   "cell_type": "markdown",
   "metadata": {
    "slideshow": {
     "slide_type": "subslide"
    }
   },
   "source": [
    "### Transformação de Coordenadas\n",
    "Muitas vezes, é necessário transformar as coordenadas de um ponto definido em um sistema para coordenadas em outro. "
   ]
  },
  {
   "cell_type": "code",
   "execution_count": 7,
   "metadata": {
    "slideshow": {
     "slide_type": "fragment"
    }
   },
   "outputs": [],
   "source": [
    "R = symbols('R')"
   ]
  },
  {
   "cell_type": "code",
   "execution_count": 8,
   "metadata": {
    "slideshow": {
     "slide_type": "fragment"
    }
   },
   "outputs": [
    {
     "data": {
      "text/latex": [
       "$\\displaystyle R\\mathbf{\\hat{a}_x}$"
      ],
      "text/plain": [
       "R*A.x"
      ]
     },
     "execution_count": 8,
     "metadata": {},
     "output_type": "execute_result"
    }
   ],
   "source": [
    "p = R*A.x\n",
    "p"
   ]
  },
  {
   "cell_type": "code",
   "execution_count": 9,
   "metadata": {
    "slideshow": {
     "slide_type": "fragment"
    }
   },
   "outputs": [
    {
     "data": {
      "text/latex": [
       "$\\displaystyle R \\cos{\\left(\\theta{\\left(t \\right)} \\right)}\\mathbf{\\hat{n}_x} + R \\sin{\\left(\\theta{\\left(t \\right)} \\right)}\\mathbf{\\hat{n}_y}$"
      ],
      "text/plain": [
       "R*cos(theta(t))*N.x + R*sin(theta(t))*N.y"
      ]
     },
     "execution_count": 9,
     "metadata": {},
     "output_type": "execute_result"
    }
   ],
   "source": [
    "p.express(N)"
   ]
  },
  {
   "cell_type": "code",
   "execution_count": 10,
   "metadata": {
    "slideshow": {
     "slide_type": "fragment"
    }
   },
   "outputs": [
    {
     "data": {
      "text/latex": [
       "$\\displaystyle \\left[\\begin{matrix}\\cos{\\left(\\theta{\\left(t \\right)} \\right)} & \\sin{\\left(\\theta{\\left(t \\right)} \\right)} & 0\\\\- \\sin{\\left(\\theta{\\left(t \\right)} \\right)} & \\cos{\\left(\\theta{\\left(t \\right)} \\right)} & 0\\\\0 & 0 & 1\\end{matrix}\\right]$"
      ],
      "text/plain": [
       "Matrix([\n",
       "[ cos(theta(t)), sin(theta(t)), 0],\n",
       "[-sin(theta(t)), cos(theta(t)), 0],\n",
       "[             0,             0, 1]])"
      ]
     },
     "execution_count": 10,
     "metadata": {},
     "output_type": "execute_result"
    }
   ],
   "source": [
    "A.dcm(N) # matriz de rotação de A em relação a N, ou seja, leva de N para A"
   ]
  },
  {
   "cell_type": "code",
   "execution_count": 11,
   "metadata": {
    "scrolled": true,
    "slideshow": {
     "slide_type": "fragment"
    }
   },
   "outputs": [
    {
     "data": {
      "text/latex": [
       "$\\displaystyle \\left[\\begin{matrix}\\cos{\\left(\\theta{\\left(t \\right)} \\right)} & - \\sin{\\left(\\theta{\\left(t \\right)} \\right)} & 0\\\\\\sin{\\left(\\theta{\\left(t \\right)} \\right)} & \\cos{\\left(\\theta{\\left(t \\right)} \\right)} & 0\\\\0 & 0 & 1\\end{matrix}\\right]$"
      ],
      "text/plain": [
       "Matrix([\n",
       "[cos(theta(t)), -sin(theta(t)), 0],\n",
       "[sin(theta(t)),  cos(theta(t)), 0],\n",
       "[            0,              0, 1]])"
      ]
     },
     "execution_count": 11,
     "metadata": {},
     "output_type": "execute_result"
    }
   ],
   "source": [
    "N.dcm(A) # matriz de rotação que leva de A para N"
   ]
  },
  {
   "cell_type": "code",
   "execution_count": 12,
   "metadata": {
    "slideshow": {
     "slide_type": "fragment"
    }
   },
   "outputs": [
    {
     "data": {
      "image/svg+xml": [
       "<svg xmlns:dc=\"http://purl.org/dc/elements/1.1/\" xmlns:cc=\"http://creativecommons.org/ns#\" xmlns:rdf=\"http://www.w3.org/1999/02/22-rdf-syntax-ns#\" xmlns:svg=\"http://www.w3.org/2000/svg\" xmlns=\"http://www.w3.org/2000/svg\" xmlns:sodipodi=\"http://sodipodi.sourceforge.net/DTD/sodipodi-0.dtd\" xmlns:inkscape=\"http://www.inkscape.org/namespaces/inkscape\" width=\"110.87832mm\" height=\"93.041985mm\" viewBox=\"0 0 110.87832 93.041986\" version=\"1.1\" id=\"svg4223\" inkscape:version=\"1.0.1 (3bc2e813f5, 2020-09-07)\" sodipodi:docname=\"figs4-2.svg\">\n",
       "  <defs id=\"defs4217\">\n",
       "    <marker style=\"overflow:visible\" id=\"marker11544\" refX=\"0.0\" refY=\"0.0\" orient=\"auto\" inkscape:stockid=\"Arrow1Lstart\" inkscape:isstock=\"true\">\n",
       "      <path transform=\"scale(0.8) translate(12.5,0)\" style=\"fill-rule:evenodd;stroke:#000000;stroke-width:1pt;stroke-opacity:1;fill:#000000;fill-opacity:1\" d=\"M 0.0,0.0 L 5.0,-5.0 L -12.5,0.0 L 5.0,5.0 L 0.0,0.0 z \" id=\"path936\"/>\n",
       "    </marker>\n",
       "    <marker style=\"overflow:visible;\" id=\"marker11397\" refX=\"0.0\" refY=\"0.0\" orient=\"auto\" inkscape:stockid=\"Arrow1Lend\" inkscape:isstock=\"true\">\n",
       "      <path transform=\"scale(0.8) rotate(180) translate(12.5,0)\" style=\"fill-rule:evenodd;stroke:#000000;stroke-width:1pt;stroke-opacity:1;fill:#000000;fill-opacity:1\" d=\"M 0.0,0.0 L 5.0,-5.0 L -12.5,0.0 L 5.0,5.0 L 0.0,0.0 z \" id=\"path939\"/>\n",
       "    </marker>\n",
       "    <marker style=\"overflow:visible\" id=\"marker3199\" refX=\"0\" refY=\"0\" orient=\"auto\" inkscape:stockid=\"Arrow1Mend\" inkscape:isstock=\"true\">\n",
       "      <path transform=\"matrix(-0.4,0,0,-0.4,-4,0)\" style=\"fill:#000000;fill-opacity:1;fill-rule:evenodd;stroke:#000000;stroke-width:1pt;stroke-opacity:1\" d=\"M 0,0 5,-5 -12.5,0 5,5 Z\" id=\"path3197\"/>\n",
       "    </marker>\n",
       "    <marker style=\"overflow:visible\" id=\"marker3057\" refX=\"0\" refY=\"0\" orient=\"auto\" inkscape:stockid=\"Arrow1Mstart\" inkscape:isstock=\"true\">\n",
       "      <path transform=\"matrix(0.4,0,0,0.4,4,0)\" style=\"fill:#000000;fill-opacity:1;fill-rule:evenodd;stroke:#000000;stroke-width:1pt;stroke-opacity:1\" d=\"M 0,0 5,-5 -12.5,0 5,5 Z\" id=\"path3055\"/>\n",
       "    </marker>\n",
       "    <marker style=\"overflow:visible\" id=\"marker2909\" refX=\"0\" refY=\"0\" orient=\"auto\" inkscape:stockid=\"Arrow1Mend\" inkscape:isstock=\"true\" inkscape:collect=\"always\">\n",
       "      <path transform=\"matrix(-0.4,0,0,-0.4,-4,0)\" style=\"fill:#000000;fill-opacity:1;fill-rule:evenodd;stroke:#000000;stroke-width:1pt;stroke-opacity:1\" d=\"M 0,0 5,-5 -12.5,0 5,5 Z\" id=\"path2907\"/>\n",
       "    </marker>\n",
       "    <marker style=\"overflow:visible\" id=\"marker2785\" refX=\"0\" refY=\"0\" orient=\"auto\" inkscape:stockid=\"Arrow1Mstart\" inkscape:isstock=\"true\" inkscape:collect=\"always\">\n",
       "      <path transform=\"matrix(0.4,0,0,0.4,4,0)\" style=\"fill:#000000;fill-opacity:1;fill-rule:evenodd;stroke:#000000;stroke-width:1pt;stroke-opacity:1\" d=\"M 0,0 5,-5 -12.5,0 5,5 Z\" id=\"path2783\"/>\n",
       "    </marker>\n",
       "    <marker style=\"overflow:visible\" id=\"marker2641\" refX=\"0\" refY=\"0\" orient=\"auto\" inkscape:stockid=\"Arrow1Mend\" inkscape:isstock=\"true\">\n",
       "      <path transform=\"matrix(-0.4,0,0,-0.4,-4,0)\" style=\"fill:#ff0000;fill-opacity:1;fill-rule:evenodd;stroke:#ff0000;stroke-width:1pt;stroke-opacity:1\" d=\"M 0,0 5,-5 -12.5,0 5,5 Z\" id=\"path2639\"/>\n",
       "    </marker>\n",
       "    <marker style=\"overflow:visible\" id=\"marker2523\" refX=\"0\" refY=\"0\" orient=\"auto\" inkscape:stockid=\"Arrow1Mstart\" inkscape:isstock=\"true\" inkscape:collect=\"always\">\n",
       "      <path transform=\"matrix(0.4,0,0,0.4,4,0)\" style=\"fill:#ff0000;fill-opacity:1;fill-rule:evenodd;stroke:#ff0000;stroke-width:1pt;stroke-opacity:1\" d=\"M 0,0 5,-5 -12.5,0 5,5 Z\" id=\"path2521\"/>\n",
       "    </marker>\n",
       "    <marker style=\"overflow:visible\" id=\"marker2411\" refX=\"0\" refY=\"0\" orient=\"auto\" inkscape:stockid=\"Arrow1Mend\" inkscape:isstock=\"true\" inkscape:collect=\"always\">\n",
       "      <path transform=\"matrix(-0.4,0,0,-0.4,-4,0)\" style=\"fill:#ff0000;fill-opacity:1;fill-rule:evenodd;stroke:#ff0000;stroke-width:1pt;stroke-opacity:1\" d=\"M 0,0 5,-5 -12.5,0 5,5 Z\" id=\"path2409\"/>\n",
       "    </marker>\n",
       "    <marker style=\"overflow:visible\" id=\"Arrow1Mstart\" refX=\"0\" refY=\"0\" orient=\"auto\" inkscape:stockid=\"Arrow1Mstart\" inkscape:isstock=\"true\" inkscape:collect=\"always\">\n",
       "      <path transform=\"matrix(0.4,0,0,0.4,4,0)\" style=\"fill:#ff0000;fill-opacity:1;fill-rule:evenodd;stroke:#ff0000;stroke-width:1pt;stroke-opacity:1\" d=\"M 0,0 5,-5 -12.5,0 5,5 Z\" id=\"path1351\"/>\n",
       "    </marker>\n",
       "    <marker style=\"overflow:visible\" id=\"marker2031\" refX=\"0\" refY=\"0\" orient=\"auto\" inkscape:stockid=\"Arrow1Mend\" inkscape:isstock=\"true\" inkscape:collect=\"always\">\n",
       "      <path transform=\"matrix(-0.4,0,0,-0.4,-4,0)\" style=\"fill:#000000;fill-opacity:1;fill-rule:evenodd;stroke:#000000;stroke-width:1pt;stroke-opacity:1\" d=\"M 0,0 5,-5 -12.5,0 5,5 Z\" id=\"path2029\"/>\n",
       "    </marker>\n",
       "    <marker style=\"overflow:visible\" id=\"marker2021\" refX=\"0\" refY=\"0\" orient=\"auto\" inkscape:stockid=\"Arrow1Mend\" inkscape:isstock=\"true\">\n",
       "      <path transform=\"matrix(-0.4,0,0,-0.4,-4,0)\" style=\"fill:#000000;fill-opacity:1;fill-rule:evenodd;stroke:#000000;stroke-width:1pt;stroke-opacity:1\" d=\"M 0,0 5,-5 -12.5,0 5,5 Z\" id=\"path2019\"/>\n",
       "    </marker>\n",
       "    <marker style=\"overflow:visible\" id=\"marker1877\" refX=\"0\" refY=\"0\" orient=\"auto\" inkscape:stockid=\"Arrow1Mend\" inkscape:isstock=\"true\">\n",
       "      <path transform=\"matrix(-0.4,0,0,-0.4,-4,0)\" style=\"fill:#000000;fill-opacity:1;fill-rule:evenodd;stroke:#000000;stroke-width:1pt;stroke-opacity:1\" d=\"M 0,0 5,-5 -12.5,0 5,5 Z\" id=\"path1875\"/>\n",
       "    </marker>\n",
       "    <inkscape:path-effect effect=\"spiro\" id=\"path-effect1863\" is_visible=\"true\" lpeversion=\"1\"/>\n",
       "    <inkscape:path-effect effect=\"simplify\" id=\"path-effect1861\" is_visible=\"true\" lpeversion=\"1\" steps=\"1\" threshold=\"0.00243902\" smooth_angles=\"360\" helper_size=\"0\" simplify_individual_paths=\"false\" simplify_just_coalesce=\"false\"/>\n",
       "    <inkscape:path-effect effect=\"simplify\" id=\"path-effect1855\" is_visible=\"true\" lpeversion=\"1\" steps=\"1\" threshold=\"0.00243902\" smooth_angles=\"360\" helper_size=\"0\" simplify_individual_paths=\"false\" simplify_just_coalesce=\"false\"/>\n",
       "    <inkscape:path-effect effect=\"simplify\" id=\"path-effect1849\" is_visible=\"true\" lpeversion=\"1\" steps=\"1\" threshold=\"0.00243902\" smooth_angles=\"360\" helper_size=\"0\" simplify_individual_paths=\"false\" simplify_just_coalesce=\"false\"/>\n",
       "    <inkscape:path-effect effect=\"simplify\" id=\"path-effect1843\" is_visible=\"true\" lpeversion=\"1\" steps=\"1\" threshold=\"0.00243902\" smooth_angles=\"360\" helper_size=\"0\" simplify_individual_paths=\"false\" simplify_just_coalesce=\"false\"/>\n",
       "    <inkscape:path-effect effect=\"simplify\" id=\"path-effect1777\" is_visible=\"true\" lpeversion=\"1\" steps=\"1\" threshold=\"0.00645161\" smooth_angles=\"360\" helper_size=\"0\" simplify_individual_paths=\"false\" simplify_just_coalesce=\"false\"/>\n",
       "    <inkscape:path-effect effect=\"spiro\" id=\"path-effect1685\" is_visible=\"true\" lpeversion=\"1\"/>\n",
       "    <inkscape:path-effect effect=\"simplify\" id=\"path-effect1683\" is_visible=\"true\" lpeversion=\"1\" steps=\"1\" threshold=\"0.00645161\" smooth_angles=\"360\" helper_size=\"0\" simplify_individual_paths=\"false\" simplify_just_coalesce=\"false\"/>\n",
       "    <marker style=\"overflow:visible\" id=\"marker1277\" refX=\"0\" refY=\"0\" orient=\"auto\" inkscape:stockid=\"Arrow1Lend\" inkscape:isstock=\"true\">\n",
       "      <path transform=\"matrix(-0.8,0,0,-0.8,-10,0)\" style=\"fill:#000000;fill-opacity:1;fill-rule:evenodd;stroke:#000000;stroke-width:1pt;stroke-opacity:1\" d=\"M 0,0 5,-5 -12.5,0 5,5 Z\" id=\"path1275\"/>\n",
       "    </marker>\n",
       "    <marker style=\"overflow:visible\" id=\"marker1207\" refX=\"0\" refY=\"0\" orient=\"auto\" inkscape:stockid=\"Arrow1Lend\" inkscape:isstock=\"true\">\n",
       "      <path transform=\"matrix(-0.8,0,0,-0.8,-10,0)\" style=\"fill:#000000;fill-opacity:1;fill-rule:evenodd;stroke:#000000;stroke-width:1pt;stroke-opacity:1\" d=\"M 0,0 5,-5 -12.5,0 5,5 Z\" id=\"path1205\"/>\n",
       "    </marker>\n",
       "    <inkscape:path-effect effect=\"spiro\" id=\"path-effect1197\" is_visible=\"true\" lpeversion=\"1\"/>\n",
       "    <inkscape:path-effect effect=\"simplify\" id=\"path-effect1195\" is_visible=\"true\" lpeversion=\"1\" steps=\"1\" threshold=\"0.00645161\" smooth_angles=\"360\" helper_size=\"0\" simplify_individual_paths=\"false\" simplify_just_coalesce=\"false\"/>\n",
       "    <marker style=\"overflow:visible\" id=\"marker1115\" refX=\"0\" refY=\"0\" orient=\"auto\" inkscape:stockid=\"Arrow1Lend\" inkscape:isstock=\"true\" inkscape:collect=\"always\">\n",
       "      <path transform=\"matrix(-0.8,0,0,-0.8,-10,0)\" style=\"fill:#ff0000;fill-opacity:1;fill-rule:evenodd;stroke:#ff0000;stroke-width:1pt;stroke-opacity:1\" d=\"M 0,0 5,-5 -12.5,0 5,5 Z\" id=\"path1113\"/>\n",
       "    </marker>\n",
       "    <marker style=\"overflow:visible\" id=\"marker1105\" refX=\"0\" refY=\"0\" orient=\"auto\" inkscape:stockid=\"Arrow1Lstart\" inkscape:isstock=\"true\">\n",
       "      <path transform=\"matrix(0.8,0,0,0.8,10,0)\" style=\"fill:#ff0000;fill-opacity:1;fill-rule:evenodd;stroke:#ff0000;stroke-width:1pt;stroke-opacity:1\" d=\"M 0,0 5,-5 -12.5,0 5,5 Z\" id=\"path1103\"/>\n",
       "    </marker>\n",
       "    <marker style=\"overflow:visible\" id=\"marker5170\" refX=\"0\" refY=\"0\" orient=\"auto\" inkscape:stockid=\"Arrow1Lend\" inkscape:isstock=\"true\">\n",
       "      <path transform=\"matrix(-0.8,0,0,-0.8,-10,0)\" style=\"fill:#000000;fill-opacity:1;fill-rule:evenodd;stroke:#000000;stroke-width:1pt;stroke-opacity:1\" d=\"M 0,0 5,-5 -12.5,0 5,5 Z\" id=\"path5168\"/>\n",
       "    </marker>\n",
       "    <marker style=\"overflow:visible\" id=\"marker5068\" refX=\"0\" refY=\"0\" orient=\"auto\" inkscape:stockid=\"Arrow1Lend\" inkscape:isstock=\"true\" inkscape:collect=\"always\">\n",
       "      <path transform=\"matrix(-0.8,0,0,-0.8,-10,0)\" style=\"fill:#000000;fill-opacity:1;fill-rule:evenodd;stroke:#000000;stroke-width:1pt;stroke-opacity:1\" d=\"M 0,0 5,-5 -12.5,0 5,5 Z\" id=\"path5066\"/>\n",
       "    </marker>\n",
       "    <inkscape:path-effect effect=\"spiro\" id=\"path-effect4874\" is_visible=\"true\" lpeversion=\"1\"/>\n",
       "    <inkscape:path-effect effect=\"simplify\" id=\"path-effect4872\" is_visible=\"true\" lpeversion=\"1\" steps=\"1\" threshold=\"0.00645161\" smooth_angles=\"360\" helper_size=\"0\" simplify_individual_paths=\"false\" simplify_just_coalesce=\"false\"/>\n",
       "    <inkscape:path-effect effect=\"simplify\" id=\"path-effect4866\" is_visible=\"true\" lpeversion=\"1\" steps=\"1\" threshold=\"0.000625\" smooth_angles=\"360\" helper_size=\"0\" simplify_individual_paths=\"false\" simplify_just_coalesce=\"false\"/>\n",
       "    <inkscape:path-effect effect=\"simplify\" id=\"path-effect4796\" is_visible=\"true\" lpeversion=\"1\" steps=\"1\" threshold=\"0.000625\" smooth_angles=\"360\" helper_size=\"0\" simplify_individual_paths=\"false\" simplify_just_coalesce=\"false\"/>\n",
       "    <inkscape:path-effect effect=\"simplify\" id=\"path-effect4790\" is_visible=\"true\" lpeversion=\"1\" steps=\"1\" threshold=\"0.000625\" smooth_angles=\"360\" helper_size=\"0\" simplify_individual_paths=\"false\" simplify_just_coalesce=\"false\"/>\n",
       "    <marker style=\"overflow:visible\" id=\"marker2416\" refX=\"0\" refY=\"0\" orient=\"auto\" inkscape:stockid=\"Arrow1Lend\" inkscape:isstock=\"true\">\n",
       "      <path transform=\"matrix(-0.8,0,0,-0.8,-10,0)\" style=\"fill:#ff0000;fill-opacity:1;fill-rule:evenodd;stroke:#ff0000;stroke-width:1pt;stroke-opacity:1\" d=\"M 0,0 5,-5 -12.5,0 5,5 Z\" id=\"path2414\"/>\n",
       "    </marker>\n",
       "    <filter inkscape:collect=\"always\" style=\"color-interpolation-filters:sRGB\" id=\"filter2408\" x=\"-0.18425412\" width=\"1.3685082\" y=\"-0.18425412\" height=\"1.3685082\">\n",
       "      <feGaussianBlur inkscape:collect=\"always\" stdDeviation=\"0.52308203\" id=\"feGaussianBlur2410\"/>\n",
       "    </filter>\n",
       "  </defs>\n",
       "  <sodipodi:namedview id=\"base\" pagecolor=\"#ffffff\" bordercolor=\"#666666\" borderopacity=\"1.0\" inkscape:pageopacity=\"0.0\" inkscape:pageshadow=\"2\" inkscape:zoom=\"1.5969425\" inkscape:cx=\"177.70079\" inkscape:cy=\"197.1844\" inkscape:document-units=\"mm\" inkscape:current-layer=\"layer3\" inkscape:document-rotation=\"0\" showgrid=\"false\" inkscape:window-width=\"1920\" inkscape:window-height=\"1017\" inkscape:window-x=\"-8\" inkscape:window-y=\"-8\" inkscape:window-maximized=\"1\" inkscape:snap-nodes=\"true\" inkscape:snap-smooth-nodes=\"true\"/>\n",
       "  <metadata id=\"metadata4220\">\n",
       "    <rdf:RDF>\n",
       "      <cc:Work rdf:about=\"\">\n",
       "        <dc:format>image/svg+xml</dc:format>\n",
       "        <dc:type rdf:resource=\"http://purl.org/dc/dcmitype/StillImage\"/>\n",
       "        <dc:title/>\n",
       "      </cc:Work>\n",
       "    </rdf:RDF>\n",
       "  </metadata>\n",
       "  <g inkscape:groupmode=\"layer\" id=\"layer3\" inkscape:label=\"Layer 2\">\n",
       "    <rect style=\"fill:#ffffff;stroke:#ffffff;stroke-width:0.865\" id=\"rect2024\" width=\"111.17208\" height=\"93.609871\" x=\"-0.16568118\" y=\"0\"/>\n",
       "  </g>\n",
       "  <g inkscape:label=\"Layer 1\" inkscape:groupmode=\"layer\" id=\"layer1\" transform=\"translate(-28.300872,-28.234721)\">\n",
       "    <path style=\"fill:none;stroke:#000000;stroke-width:0.265;stroke-linecap:butt;stroke-linejoin:miter;stroke-opacity:1;marker-start:url(#marker11544);marker-end:url(#marker11397);stroke-miterlimit:4;stroke-dasharray:none\" d=\"M 93.226169,111.37818 H 46.494538 V 69.056449\" id=\"path4786\"/>\n",
       "    <text xml:space=\"preserve\" style=\"font-size:7.7611px;line-height:1.25;font-family:sans-serif;-inkscape-font-specification:sans-serif;stroke-width:0.264583\" x=\"38.001274\" y=\"118.66259\" id=\"text4854\"><tspan sodipodi:role=\"line\" id=\"tspan4852\" x=\"38.001274\" y=\"118.66259\" style=\"stroke-width:0.264583\">O</tspan></text>\n",
       "    <text xml:space=\"preserve\" style=\"font-size:7.7611px;line-height:1.25;font-family:sans-serif;-inkscape-font-specification:sans-serif;stroke-width:0.264583\" x=\"91.490891\" y=\"121.2767\" id=\"text4858\"><tspan sodipodi:role=\"line\" id=\"tspan4856\" x=\"91.490891\" y=\"121.2767\" style=\"stroke-width:0.264583\">X</tspan></text>\n",
       "    <text xml:space=\"preserve\" style=\"font-size:7.7611px;line-height:1.25;font-family:sans-serif;-inkscape-font-specification:sans-serif;stroke-width:0.264583\" x=\"47.09483\" y=\"71.924347\" id=\"text4862\"><tspan sodipodi:role=\"line\" id=\"tspan4860\" x=\"47.09483\" y=\"71.924347\" style=\"stroke-width:0.264583\">Y</tspan></text>\n",
       "    <g id=\"g5050\" transform=\"matrix(0.62824966,0,0,0.62841368,38.348682,4.8648415)\" style=\"stroke-width:1.59152\">\n",
       "      <circle style=\"mix-blend-mode:normal;fill:#666666;stroke:#000000;stroke-width:0.271798\" id=\"path1649\" cx=\"108.4316\" cy=\"92.124985\" r=\"7.4015002\"/>\n",
       "      <circle style=\"fill:#ffffff;stroke:#000000;stroke-width:0.188437;filter:url(#filter2408)\" id=\"path1651\" cx=\"111.03149\" cy=\"88.963264\" r=\"3.4066997\"/>\n",
       "    </g>\n",
       "    <path style=\"fill:none;stroke:#000000;stroke-width:0.565;stroke-linecap:butt;stroke-linejoin:miter;stroke-miterlimit:4;stroke-dasharray:none;stroke-opacity:1;marker-end:url(#marker5068)\" d=\"M 46.494538,111.37818 106.48201,63.547534\" id=\"path5058\"/>\n",
       "    <text xml:space=\"preserve\" style=\"font-size:7.7611px;line-height:1.25;font-family:sans-serif;-inkscape-font-specification:sans-serif;stroke-width:0.264583\" x=\"111.67706\" y=\"58.412922\" id=\"text5270\"><tspan sodipodi:role=\"line\" id=\"tspan5268\" x=\"111.67706\" y=\"58.412922\" style=\"stroke-width:0.264583\">A</tspan></text>\n",
       "    <text xml:space=\"preserve\" style=\"font-size:7.7611px;line-height:1.25;font-family:sans-serif;-inkscape-font-specification:sans-serif;stroke-width:0.264583\" x=\"73.151146\" y=\"81.391312\" id=\"text5284\"><tspan sodipodi:role=\"line\" id=\"tspan5282\" x=\"73.151146\" y=\"81.391312\" style=\"stroke-width:0.264583\">R<tspan style=\"font-size:65%;baseline-shift:sub\" id=\"tspan5286\">A</tspan></tspan></text>\n",
       "    <path style=\"fill:none;stroke:#ff0000;stroke-width:0.264583px;stroke-linecap:butt;stroke-linejoin:miter;stroke-opacity:1;marker-start:url(#marker1105);marker-end:url(#marker1115)\" d=\"M 91.633828,99.28314 46.494538,111.37818 35.540868,70.49852\" id=\"path987\" inkscape:transform-center-x=\"-17.392423\" inkscape:transform-center-y=\"-20.153894\"/>\n",
       "    <path style=\"fill:none;stroke:#000000;stroke-width:0.265;stroke-linecap:butt;stroke-linejoin:miter;stroke-miterlimit:4;stroke-dasharray:none;stroke-opacity:1;marker-end:url(#marker2021)\" d=\"m 64.4682,111.42909 c 0.177905,-0.698 0.226029,-1.42884 0.141184,-2.14414 -0.111182,-0.93734 -0.452313,-1.84656 -0.985139,-2.6257\" id=\"path1193\" inkscape:path-effect=\"#path-effect1195;#path-effect1197\" inkscape:original-d=\"m 64.4682,111.42909 c 0.769929,-1.585 -0.452544,-3.88921 -0.843955,-4.76984\"/>\n",
       "    <path style=\"fill:none;stroke:#000000;stroke-width:0.264583px;stroke-linecap:butt;stroke-linejoin:miter;stroke-opacity:1;marker-end:url(#marker2031)\" d=\"m 69.295615,105.48958 c 0.203234,-1.93421 -0.14195,-3.92304 -0.985073,-5.675647 -0.700647,-1.456439 -1.741248,-2.748017 -3.015266,-3.742502\" id=\"path1681\" inkscape:path-effect=\"#path-effect1683;#path-effect1685\" inkscape:original-d=\"m 69.295615,105.48958 c 0.705948,-3.67091 -1.742982,-7.798812 -4.000339,-9.418149\"/>\n",
       "    <path style=\"fill:none;stroke:#000000;stroke-width:0.264583px;stroke-linecap:butt;stroke-linejoin:miter;stroke-opacity:1\" d=\"m 69.276913,106.64178 c -0.307168,0.0166 -0.613004,0.0578 -0.913605,0.12309 -0.05268,0.0114 -0.105905,0.0239 -0.153524,0.0492 -0.02381,0.0126 -0.04606,0.0285 -0.06466,0.048 -0.0186,0.0195 -0.03348,0.0428 -0.04187,0.0684 -0.0132,0.0403 -0.0098,0.0847 0.0034,0.12495 0.01324,0.0403 0.03581,0.0768 0.06078,0.11105 0.128851,0.17668 0.320149,0.29536 0.505293,0.41171 0.457427,0.28747 0.90729,0.58794 1.334384,0.9188 0.08384,0.065 0.167264,0.13151 0.23757,0.21091 0.07031,0.0794 0.127458,0.17294 0.150492,0.27646 0.02605,0.11706 0.007,0.24053 -0.03338,0.35343 -0.06122,0.17098 -0.171288,0.3233 -0.310376,0.44008 -0.139088,0.11678 -0.306583,0.19834 -0.482832,0.24215 -0.336574,0.0837 -0.703168,0.0269 -1.006172,-0.14182 -0.140627,-0.0783 -0.268876,-0.18041 -0.370098,-0.30556 -0.101222,-0.12516 -0.174879,-0.27375 -0.204803,-0.43191 -0.03823,-0.20207 -9.44e-4,-0.42141 0.119592,-0.58804 0.07861,-0.10867 0.189052,-0.1917 0.309239,-0.25124 0.120186,-0.0595 0.250276,-0.0966 0.381344,-0.12513 0.125242,-0.0272 0.252133,-0.0468 0.379745,-0.0587\" id=\"path1859\" inkscape:path-effect=\"#path-effect1861;#path-effect1863\" inkscape:original-d=\"m 69.276913,106.64178 c -3.440219,0.1805 1.755313,1.60911 1.084909,2.69596 -1.303474,2.11318 -3.945647,-0.97193 -1.184361,-1.22019\"/>\n",
       "    <g id=\"g1871\" transform=\"matrix(0.62569577,0,0,0.63192947,64.246001,38.721773)\" style=\"stroke-width:1.59032\">\n",
       "      <ellipse style=\"fill:none;stroke:#000000;stroke-width:0.421433;stroke-linejoin:bevel;stroke-miterlimit:4;stroke-dasharray:none\" id=\"path1865\" cx=\"12.151525\" cy=\"93.770058\" rx=\"2.3546295\" ry=\"3.4254715\"/>\n",
       "      <path style=\"fill:none;stroke:#000000;stroke-width:0.420771px;stroke-linecap:butt;stroke-linejoin:miter;stroke-opacity:1\" d=\"M 9.7968955,93.770056 H 14.506154\" id=\"path1867\"/>\n",
       "    </g>\n",
       "    <path style=\"fill:none;stroke:#000000;stroke-width:0.264583px;stroke-linecap:butt;stroke-linejoin:miter;stroke-opacity:1;marker-end:url(#marker1877)\" d=\"m 72.823344,74.440067 h 6.279012\" id=\"path1873\"/>\n",
       "    <text xml:space=\"preserve\" style=\"font-size:7.7611px;line-height:1.25;font-family:sans-serif;-inkscape-font-specification:sans-serif;fill:#ff0000;stroke-width:0.264583\" x=\"91.272171\" y=\"97.833527\" id=\"text1983\"><tspan sodipodi:role=\"line\" id=\"tspan1981\" x=\"91.272171\" y=\"97.833527\" style=\"fill:#ff0000;stroke-width:0.264583\">x</tspan></text>\n",
       "    <text xml:space=\"preserve\" style=\"font-size:7.7611px;line-height:1.25;font-family:sans-serif;-inkscape-font-specification:sans-serif;fill:#ff0000;stroke-width:0.264583\" x=\"30.439997\" y=\"77.949089\" id=\"text1987\"><tspan sodipodi:role=\"line\" id=\"tspan1985\" x=\"30.439997\" y=\"77.949089\" style=\"fill:#ff0000;stroke-width:0.264583\">y</tspan></text>\n",
       "    <path style=\"fill:none;stroke:#ff0000;stroke-width:0.264583px;stroke-linecap:butt;stroke-linejoin:miter;stroke-opacity:1\" d=\"M 35.540868,70.49852 28.428656,43.955383\" id=\"path2291\"/>\n",
       "    <path style=\"fill:none;stroke:#ff0000;stroke-width:0.264583px;stroke-linecap:butt;stroke-linejoin:miter;stroke-opacity:1\" d=\"M 106.48201,63.547534 97.029145,28.268961\" id=\"path2295\"/>\n",
       "    <path style=\"fill:none;stroke:#ff0000;stroke-width:0.264583px;stroke-linecap:butt;stroke-linejoin:miter;stroke-opacity:1;marker-start:url(#Arrow1Mstart);marker-end:url(#marker2411)\" d=\"M 30.013167,50.44001 98.170264,32.17737\" id=\"path2297\"/>\n",
       "    <path style=\"fill:none;stroke:#ff0000;stroke-width:0.264583px;stroke-linecap:butt;stroke-linejoin:miter;stroke-opacity:1\" d=\"M 91.633828,99.28314 139.14495,86.552573\" id=\"path2299\"/>\n",
       "    <path style=\"fill:none;stroke:#ff0000;stroke-width:0.264583px;stroke-linecap:butt;stroke-linejoin:miter;stroke-opacity:1\" d=\"M 108.10417,62.91139 132.1561,56.563205\" id=\"path2301\" sodipodi:nodetypes=\"cc\"/>\n",
       "    <path style=\"fill:none;stroke:#ff0000;stroke-width:0.264583px;stroke-linecap:butt;stroke-linejoin:miter;stroke-opacity:1;marker-start:url(#marker2523);marker-end:url(#marker2641)\" d=\"M 135.64239,86.806213 127.75787,57.380765\" id=\"path2303\"/>\n",
       "    <text xml:space=\"preserve\" style=\"font-size:7.7611px;line-height:1.25;font-family:sans-serif;-inkscape-font-specification:sans-serif;fill:#ff0000;stroke-width:0.264583\" x=\"54.859158\" y=\"39.077469\" id=\"text2759\"><tspan sodipodi:role=\"line\" id=\"tspan2757\" x=\"54.859158\" y=\"39.077469\" style=\"fill:#ff0000;stroke-width:0.264583\">R<tspan style=\"font-size:65%;baseline-shift:sub;fill:#ff0000\" id=\"tspan2761\">x</tspan></tspan></text>\n",
       "    <text xml:space=\"preserve\" style=\"font-size:7.7611px;line-height:1.25;font-family:sans-serif;-inkscape-font-specification:sans-serif;fill:#ff0000;stroke-width:0.264583\" x=\"123.70059\" y=\"75.616089\" id=\"text2765\"><tspan sodipodi:role=\"line\" id=\"tspan2763\" x=\"123.70059\" y=\"75.616089\" style=\"fill:#ff0000;stroke-width:0.264583\">R<tspan style=\"font-size:65%;baseline-shift:sub;fill:#ff0000\" id=\"tspan2767\">y</tspan></tspan></text>\n",
       "    <path style=\"fill:none;stroke:#000000;stroke-width:0.264583px;stroke-linecap:butt;stroke-linejoin:miter;stroke-opacity:1\" d=\"M 46.494538,69.056449 V 57.478554\" id=\"path2769\" sodipodi:nodetypes=\"cc\"/>\n",
       "    <path style=\"fill:none;stroke:#000000;stroke-width:0.264583px;stroke-linecap:butt;stroke-linejoin:miter;stroke-opacity:1;marker-start:url(#marker3057);marker-end:url(#marker3199)\" d=\"M 106.48201,63.547534 H 46.630769\" id=\"path2771\"/>\n",
       "    <path style=\"fill:none;stroke:#000000;stroke-width:0.264583px;stroke-linecap:butt;stroke-linejoin:miter;stroke-opacity:1\" d=\"M 93.226167,111.37818 H 113.47189\" id=\"path2773\"/>\n",
       "    <path style=\"fill:none;stroke:#000000;stroke-width:0.264583px;stroke-linecap:butt;stroke-linejoin:miter;stroke-opacity:1;marker-start:url(#marker2785);marker-end:url(#marker2909)\" d=\"M 106.48201,63.547534 V 111.38986\" id=\"path2775\" sodipodi:nodetypes=\"cc\"/>\n",
       "    <text xml:space=\"preserve\" style=\"font-size:7.7611px;line-height:1.25;font-family:sans-serif;-inkscape-font-specification:sans-serif;stroke-width:0.264583\" x=\"71.510521\" y=\"61.04834\" id=\"text3341\"><tspan sodipodi:role=\"line\" id=\"tspan3339\" x=\"71.510521\" y=\"61.04834\" style=\"stroke-width:0.264583\">R<tspan style=\"font-size:65%;baseline-shift:sub\" id=\"tspan3343\">X</tspan></tspan></text>\n",
       "    <text xml:space=\"preserve\" style=\"font-size:7.7611px;line-height:1.25;font-family:sans-serif;-inkscape-font-specification:sans-serif;stroke-width:0.264583\" x=\"107.36166\" y=\"87.57106\" id=\"text3347\"><tspan sodipodi:role=\"line\" id=\"tspan3345\" x=\"107.36166\" y=\"87.57106\" style=\"stroke-width:0.264583\">R<tspan style=\"font-size:65%;baseline-shift:sub\" id=\"tspan3349\">Y</tspan></tspan></text>\n",
       "  </g>\n",
       "</svg>"
      ],
      "text/plain": [
       "<IPython.core.display.SVG object>"
      ]
     },
     "execution_count": 12,
     "metadata": {},
     "output_type": "execute_result"
    }
   ],
   "source": [
    "SVG('figs4-2.svg')"
   ]
  },
  {
   "cell_type": "code",
   "execution_count": 13,
   "metadata": {
    "slideshow": {
     "slide_type": "fragment"
    }
   },
   "outputs": [],
   "source": [
    "Rx,Ry,delta = symbols('R_x R_y delta')"
   ]
  },
  {
   "cell_type": "code",
   "execution_count": 14,
   "metadata": {
    "slideshow": {
     "slide_type": "fragment"
    }
   },
   "outputs": [],
   "source": [
    "B = me.ReferenceFrame('B')\n",
    "B.orient(N,'Axis',[delta,N.z])"
   ]
  },
  {
   "cell_type": "code",
   "execution_count": 15,
   "metadata": {
    "slideshow": {
     "slide_type": "fragment"
    }
   },
   "outputs": [
    {
     "data": {
      "text/latex": [
       "$\\displaystyle R_{x}\\mathbf{\\hat{b}_x} + R_{y}\\mathbf{\\hat{b}_y}$"
      ],
      "text/plain": [
       "R_x*B.x + R_y*B.y"
      ]
     },
     "execution_count": 15,
     "metadata": {},
     "output_type": "execute_result"
    }
   ],
   "source": [
    "p = Rx*B.x + Ry*B.y\n",
    "p"
   ]
  },
  {
   "cell_type": "code",
   "execution_count": 16,
   "metadata": {
    "slideshow": {
     "slide_type": "fragment"
    }
   },
   "outputs": [
    {
     "data": {
      "text/latex": [
       "$\\displaystyle (R_{x} \\cos{\\left(\\delta \\right)} - R_{y} \\sin{\\left(\\delta \\right)})\\mathbf{\\hat{n}_x} + (R_{x} \\sin{\\left(\\delta \\right)} + R_{y} \\cos{\\left(\\delta \\right)})\\mathbf{\\hat{n}_y}$"
      ],
      "text/plain": [
       "(R_x*cos(delta) - R_y*sin(delta))*N.x + (R_x*sin(delta) + R_y*cos(delta))*N.y"
      ]
     },
     "execution_count": 16,
     "metadata": {},
     "output_type": "execute_result"
    }
   ],
   "source": [
    "p.express(N)"
   ]
  },
  {
   "cell_type": "code",
   "execution_count": 17,
   "metadata": {
    "scrolled": true,
    "slideshow": {
     "slide_type": "fragment"
    }
   },
   "outputs": [
    {
     "data": {
      "text/latex": [
       "$\\displaystyle \\left[\\begin{matrix}\\cos{\\left(\\delta \\right)} & - \\sin{\\left(\\delta \\right)} & 0\\\\\\sin{\\left(\\delta \\right)} & \\cos{\\left(\\delta \\right)} & 0\\\\0 & 0 & 1\\end{matrix}\\right]$"
      ],
      "text/plain": [
       "Matrix([\n",
       "[cos(delta), -sin(delta), 0],\n",
       "[sin(delta),  cos(delta), 0],\n",
       "[         0,           0, 1]])"
      ]
     },
     "execution_count": 17,
     "metadata": {},
     "output_type": "execute_result"
    }
   ],
   "source": [
    "N.dcm(B) "
   ]
  },
  {
   "cell_type": "code",
   "execution_count": 18,
   "metadata": {
    "slideshow": {
     "slide_type": "fragment"
    }
   },
   "outputs": [
    {
     "data": {
      "text/latex": [
       "$\\displaystyle \\left[\\begin{matrix}R_{x}\\\\R_{y}\\\\0\\end{matrix}\\right]$"
      ],
      "text/plain": [
       "Matrix([\n",
       "[R_x],\n",
       "[R_y],\n",
       "[  0]])"
      ]
     },
     "execution_count": 18,
     "metadata": {},
     "output_type": "execute_result"
    }
   ],
   "source": [
    "p.express(B).args[0][0]"
   ]
  },
  {
   "cell_type": "code",
   "execution_count": 19,
   "metadata": {
    "slideshow": {
     "slide_type": "fragment"
    }
   },
   "outputs": [
    {
     "data": {
      "text/latex": [
       "$\\displaystyle \\left[\\begin{matrix}R_{x} \\cos{\\left(\\delta \\right)} - R_{y} \\sin{\\left(\\delta \\right)}\\\\R_{x} \\sin{\\left(\\delta \\right)} + R_{y} \\cos{\\left(\\delta \\right)}\\\\0\\end{matrix}\\right]$"
      ],
      "text/plain": [
       "Matrix([\n",
       "[R_x*cos(delta) - R_y*sin(delta)],\n",
       "[R_x*sin(delta) + R_y*cos(delta)],\n",
       "[                              0]])"
      ]
     },
     "execution_count": 19,
     "metadata": {},
     "output_type": "execute_result"
    }
   ],
   "source": [
    "N.dcm(B)*(p.express(B).args[0][0])"
   ]
  },
  {
   "cell_type": "code",
   "execution_count": 20,
   "metadata": {
    "slideshow": {
     "slide_type": "fragment"
    }
   },
   "outputs": [
    {
     "data": {
      "text/latex": [
       "$\\displaystyle R_{x} \\cos{\\left(\\delta \\right)} - R_{y} \\sin{\\left(\\delta \\right)}$"
      ],
      "text/plain": [
       "R_x*cos(delta) - R_y*sin(delta)"
      ]
     },
     "execution_count": 20,
     "metadata": {},
     "output_type": "execute_result"
    }
   ],
   "source": [
    "RX = p.express(N).args[0][0][0]\n",
    "RX"
   ]
  },
  {
   "cell_type": "code",
   "execution_count": 21,
   "metadata": {
    "slideshow": {
     "slide_type": "fragment"
    }
   },
   "outputs": [
    {
     "data": {
      "text/latex": [
       "$\\displaystyle R_{X} = R_{x} \\cos{\\left(\\delta \\right)} - R_{y} \\sin{\\left(\\delta \\right)}$"
      ],
      "text/plain": [
       "Eq(R_X, R_x*cos(delta) - R_y*sin(delta))"
      ]
     },
     "execution_count": 21,
     "metadata": {},
     "output_type": "execute_result"
    }
   ],
   "source": [
    "RX = symbols('R_X')\n",
    "Eq(RX,p.express(N).args[0][0][0])"
   ]
  },
  {
   "cell_type": "code",
   "execution_count": 22,
   "metadata": {
    "slideshow": {
     "slide_type": "fragment"
    }
   },
   "outputs": [
    {
     "data": {
      "text/latex": [
       "$\\displaystyle R_{x} \\sin{\\left(\\delta \\right)} + R_{y} \\cos{\\left(\\delta \\right)}$"
      ],
      "text/plain": [
       "R_x*sin(delta) + R_y*cos(delta)"
      ]
     },
     "execution_count": 22,
     "metadata": {},
     "output_type": "execute_result"
    }
   ],
   "source": [
    "RY = p.dot(N.y)\n",
    "RY"
   ]
  },
  {
   "cell_type": "code",
   "execution_count": 23,
   "metadata": {
    "slideshow": {
     "slide_type": "fragment"
    }
   },
   "outputs": [
    {
     "data": {
      "text/latex": [
       "$\\displaystyle R_{Y} = R_{x} \\sin{\\left(\\delta \\right)} + R_{y} \\cos{\\left(\\delta \\right)}$"
      ],
      "text/plain": [
       "Eq(R_Y, R_x*sin(delta) + R_y*cos(delta))"
      ]
     },
     "execution_count": 23,
     "metadata": {},
     "output_type": "execute_result"
    }
   ],
   "source": [
    "RY = symbols('R_Y')\n",
    "Eq(RY,p.dot(N.y))"
   ]
  },
  {
   "cell_type": "markdown",
   "metadata": {
    "slideshow": {
     "slide_type": "subslide"
    }
   },
   "source": [
    "### Deslocamentos\n",
    "O vetor posição $\\vec{R}_{BA}$ define o deslocamento do ponto $B$ em relação ao ponto $A$. "
   ]
  },
  {
   "cell_type": "code",
   "execution_count": 24,
   "metadata": {
    "slideshow": {
     "slide_type": "fragment"
    }
   },
   "outputs": [
    {
     "data": {
      "image/svg+xml": [
       "<svg xmlns:dc=\"http://purl.org/dc/elements/1.1/\" xmlns:cc=\"http://creativecommons.org/ns#\" xmlns:rdf=\"http://www.w3.org/1999/02/22-rdf-syntax-ns#\" xmlns:svg=\"http://www.w3.org/2000/svg\" xmlns=\"http://www.w3.org/2000/svg\" xmlns:sodipodi=\"http://sodipodi.sourceforge.net/DTD/sodipodi-0.dtd\" xmlns:inkscape=\"http://www.inkscape.org/namespaces/inkscape\" width=\"84.273048mm\" height=\"70.264748mm\" viewBox=\"0 0 84.273048 70.264748\" version=\"1.1\" id=\"svg4223\" inkscape:version=\"1.0.1 (3bc2e813f5, 2020-09-07)\" sodipodi:docname=\"figs4-3.svg\">\n",
       "  <defs id=\"defs4217\">\n",
       "    <marker style=\"overflow:visible;\" id=\"marker10341\" refX=\"0.0\" refY=\"0.0\" orient=\"auto\" inkscape:stockid=\"Arrow1Lend\" inkscape:isstock=\"true\">\n",
       "      <path transform=\"scale(0.8) rotate(180) translate(12.5,0)\" style=\"fill-rule:evenodd;stroke:#000000;stroke-width:1pt;stroke-opacity:1;fill:#000000;fill-opacity:1\" d=\"M 0.0,0.0 L 5.0,-5.0 L -12.5,0.0 L 5.0,5.0 L 0.0,0.0 z \" id=\"path939\"/>\n",
       "    </marker>\n",
       "    <marker style=\"overflow:visible\" id=\"marker1547\" refX=\"0.0\" refY=\"0.0\" orient=\"auto\" inkscape:stockid=\"TriangleOutL\" inkscape:isstock=\"true\">\n",
       "      <path transform=\"scale(0.8)\" style=\"fill-rule:evenodd;stroke:#000000;stroke-width:1pt;stroke-opacity:1;fill:#000000;fill-opacity:1\" d=\"M 5.77,0.0 L -2.88,5.0 L -2.88,-5.0 L 5.77,0.0 z \" id=\"path1545\"/>\n",
       "    </marker>\n",
       "    <marker style=\"overflow:visible\" id=\"marker1443\" refX=\"0.0\" refY=\"0.0\" orient=\"auto\" inkscape:stockid=\"TriangleOutL\" inkscape:isstock=\"true\" inkscape:collect=\"always\">\n",
       "      <path transform=\"scale(0.8)\" style=\"fill-rule:evenodd;stroke:#000000;stroke-width:1pt;stroke-opacity:1;fill:#000000;fill-opacity:1\" d=\"M 5.77,0.0 L -2.88,5.0 L -2.88,-5.0 L 5.77,0.0 z \" id=\"path1441\"/>\n",
       "    </marker>\n",
       "    <marker style=\"overflow:visible\" id=\"marker1347\" refX=\"0.0\" refY=\"0.0\" orient=\"auto\" inkscape:stockid=\"TriangleOutL\" inkscape:isstock=\"true\" inkscape:collect=\"always\">\n",
       "      <path transform=\"scale(0.8)\" style=\"fill-rule:evenodd;stroke:#000000;stroke-width:1pt;stroke-opacity:1;fill:#000000;fill-opacity:1\" d=\"M 5.77,0.0 L -2.88,5.0 L -2.88,-5.0 L 5.77,0.0 z \" id=\"path1345\"/>\n",
       "    </marker>\n",
       "    <marker style=\"overflow:visible\" id=\"TriangleOutL\" refX=\"0.0\" refY=\"0.0\" orient=\"auto\" inkscape:stockid=\"TriangleOutL\" inkscape:isstock=\"true\" inkscape:collect=\"always\">\n",
       "      <path transform=\"scale(0.8)\" style=\"fill-rule:evenodd;stroke:#000000;stroke-width:1pt;stroke-opacity:1;fill:#000000;fill-opacity:1\" d=\"M 5.77,0.0 L -2.88,5.0 L -2.88,-5.0 L 5.77,0.0 z \" id=\"path1137\"/>\n",
       "    </marker>\n",
       "    <marker style=\"overflow:visible\" id=\"marker933\" refX=\"0\" refY=\"0\" orient=\"auto\" inkscape:stockid=\"Arrow1Lend\" inkscape:isstock=\"true\">\n",
       "      <path transform=\"matrix(-0.8,0,0,-0.8,-10,0)\" style=\"fill:#000000;fill-opacity:1;fill-rule:evenodd;stroke:#000000;stroke-width:1pt;stroke-opacity:1\" d=\"M 0,0 5,-5 -12.5,0 5,5 Z\" id=\"path931\"/>\n",
       "    </marker>\n",
       "    <marker style=\"overflow:visible\" id=\"marker5170\" refX=\"0\" refY=\"0\" orient=\"auto\" inkscape:stockid=\"Arrow1Lend\" inkscape:isstock=\"true\" inkscape:collect=\"always\">\n",
       "      <path transform=\"matrix(-0.8,0,0,-0.8,-10,0)\" style=\"fill:#000000;fill-opacity:1;fill-rule:evenodd;stroke:#000000;stroke-width:1pt;stroke-opacity:1\" d=\"M 0,0 5,-5 -12.5,0 5,5 Z\" id=\"path5168\"/>\n",
       "    </marker>\n",
       "    <marker style=\"overflow:visible\" id=\"marker5116\" refX=\"0\" refY=\"0\" orient=\"auto\" inkscape:stockid=\"Arrow1Lend\" inkscape:isstock=\"true\" inkscape:collect=\"always\">\n",
       "      <path transform=\"matrix(-0.8,0,0,-0.8,-10,0)\" style=\"fill:#000000;fill-opacity:1;fill-rule:evenodd;stroke:#000000;stroke-width:1pt;stroke-opacity:1\" d=\"M 0,0 5,-5 -12.5,0 5,5 Z\" id=\"path5114\"/>\n",
       "    </marker>\n",
       "    <marker style=\"overflow:visible\" id=\"marker5068\" refX=\"0\" refY=\"0\" orient=\"auto\" inkscape:stockid=\"Arrow1Lend\" inkscape:isstock=\"true\" inkscape:collect=\"always\">\n",
       "      <path transform=\"matrix(-0.8,0,0,-0.8,-10,0)\" style=\"fill:#000000;fill-opacity:1;fill-rule:evenodd;stroke:#000000;stroke-width:1pt;stroke-opacity:1\" d=\"M 0,0 5,-5 -12.5,0 5,5 Z\" id=\"path5066\"/>\n",
       "    </marker>\n",
       "    <inkscape:path-effect effect=\"spiro\" id=\"path-effect4874\" is_visible=\"true\" lpeversion=\"1\"/>\n",
       "    <inkscape:path-effect effect=\"simplify\" id=\"path-effect4872\" is_visible=\"true\" lpeversion=\"1\" steps=\"1\" threshold=\"0.00645161\" smooth_angles=\"360\" helper_size=\"0\" simplify_individual_paths=\"false\" simplify_just_coalesce=\"false\"/>\n",
       "    <inkscape:path-effect effect=\"simplify\" id=\"path-effect4866\" is_visible=\"true\" lpeversion=\"1\" steps=\"1\" threshold=\"0.000625\" smooth_angles=\"360\" helper_size=\"0\" simplify_individual_paths=\"false\" simplify_just_coalesce=\"false\"/>\n",
       "    <marker style=\"overflow:visible\" id=\"Arrow1Lstart\" refX=\"0\" refY=\"0\" orient=\"auto\" inkscape:stockid=\"Arrow1Lstart\" inkscape:isstock=\"true\">\n",
       "      <path transform=\"matrix(0.8,0,0,0.8,10,0)\" style=\"fill:#000000;fill-opacity:1;fill-rule:evenodd;stroke:#000000;stroke-width:1pt;stroke-opacity:1\" d=\"M 0,0 5,-5 -12.5,0 5,5 Z\" id=\"path2819\"/>\n",
       "    </marker>\n",
       "    <inkscape:path-effect effect=\"simplify\" id=\"path-effect4796\" is_visible=\"true\" lpeversion=\"1\" steps=\"1\" threshold=\"0.000625\" smooth_angles=\"360\" helper_size=\"0\" simplify_individual_paths=\"false\" simplify_just_coalesce=\"false\"/>\n",
       "    <inkscape:path-effect effect=\"simplify\" id=\"path-effect4790\" is_visible=\"true\" lpeversion=\"1\" steps=\"1\" threshold=\"0.000625\" smooth_angles=\"360\" helper_size=\"0\" simplify_individual_paths=\"false\" simplify_just_coalesce=\"false\"/>\n",
       "    <marker style=\"overflow:visible\" id=\"marker2416\" refX=\"0\" refY=\"0\" orient=\"auto\" inkscape:stockid=\"Arrow1Lend\" inkscape:isstock=\"true\">\n",
       "      <path transform=\"matrix(-0.8,0,0,-0.8,-10,0)\" style=\"fill:#ff0000;fill-opacity:1;fill-rule:evenodd;stroke:#ff0000;stroke-width:1pt;stroke-opacity:1\" d=\"M 0,0 5,-5 -12.5,0 5,5 Z\" id=\"path2414\"/>\n",
       "    </marker>\n",
       "    <filter inkscape:collect=\"always\" style=\"color-interpolation-filters:sRGB\" id=\"filter2408\" x=\"-0.18425412\" width=\"1.3685082\" y=\"-0.18425412\" height=\"1.3685082\">\n",
       "      <feGaussianBlur inkscape:collect=\"always\" stdDeviation=\"0.52308203\" id=\"feGaussianBlur2410\"/>\n",
       "    </filter>\n",
       "  </defs>\n",
       "  <sodipodi:namedview id=\"base\" pagecolor=\"#ffffff\" bordercolor=\"#666666\" borderopacity=\"1.0\" inkscape:pageopacity=\"0.0\" inkscape:pageshadow=\"2\" inkscape:zoom=\"1.979899\" inkscape:cx=\"192.92978\" inkscape:cy=\"113.10349\" inkscape:document-units=\"mm\" inkscape:current-layer=\"layer4\" inkscape:document-rotation=\"0\" showgrid=\"false\" inkscape:window-width=\"1920\" inkscape:window-height=\"1017\" inkscape:window-x=\"-8\" inkscape:window-y=\"-8\" inkscape:window-maximized=\"1\"/>\n",
       "  <metadata id=\"metadata4220\">\n",
       "    <rdf:RDF>\n",
       "      <cc:Work rdf:about=\"\">\n",
       "        <dc:format>image/svg+xml</dc:format>\n",
       "        <dc:type rdf:resource=\"http://purl.org/dc/dcmitype/StillImage\"/>\n",
       "        <dc:title/>\n",
       "      </cc:Work>\n",
       "    </rdf:RDF>\n",
       "  </metadata>\n",
       "  <g inkscape:groupmode=\"layer\" id=\"layer4\" inkscape:label=\"Layer 2\">\n",
       "    <rect style=\"fill:#ffffff;stroke:#ffffff;stroke-width:0.865\" id=\"rect2864\" width=\"84.590805\" height=\"70.559151\" x=\"-0.13363476\" y=\"0\"/>\n",
       "  </g>\n",
       "  <g inkscape:label=\"Layer 1\" inkscape:groupmode=\"layer\" id=\"layer1\" transform=\"translate(-35.804456,-51.011956)\">\n",
       "    <path style=\"fill:none;stroke:#000000;stroke-width:0.265;stroke-linecap:butt;stroke-linejoin:miter;stroke-opacity:1;marker-start:url(#Arrow1Lstart);marker-end:url(#marker10341);stroke-miterlimit:4;stroke-dasharray:none\" d=\"M 93.226169,111.37818 H 46.494538 V 69.056449\" id=\"path4786\"/>\n",
       "    <text xml:space=\"preserve\" style=\"font-size:7.7611px;line-height:1.25;font-family:sans-serif;-inkscape-font-specification:sans-serif;stroke-width:0.264583\" x=\"38.001274\" y=\"118.66259\" id=\"text4854\"><tspan sodipodi:role=\"line\" id=\"tspan4852\" x=\"38.001274\" y=\"118.66259\" style=\"stroke-width:0.264583\">O</tspan></text>\n",
       "    <text xml:space=\"preserve\" style=\"font-size:7.7611px;line-height:1.25;font-family:sans-serif;-inkscape-font-specification:sans-serif;stroke-width:0.264583\" x=\"91.490891\" y=\"121.2767\" id=\"text4858\"><tspan sodipodi:role=\"line\" id=\"tspan4856\" x=\"91.490891\" y=\"121.2767\" style=\"stroke-width:0.264583\">X</tspan></text>\n",
       "    <text xml:space=\"preserve\" style=\"font-size:7.7611px;line-height:1.25;font-family:sans-serif;-inkscape-font-specification:sans-serif;stroke-width:0.264583\" x=\"35.819614\" y=\"72.061058\" id=\"text4862\"><tspan sodipodi:role=\"line\" id=\"tspan4860\" x=\"35.819614\" y=\"72.061058\" style=\"stroke-width:0.264583\">Y</tspan></text>\n",
       "    <path style=\"fill:none;stroke:#000000;stroke-width:0.264583;stroke-linecap:butt;stroke-linejoin:miter;stroke-miterlimit:4;stroke-dasharray:2.11666, 2.11666;stroke-dashoffset:0;stroke-opacity:1\" d=\"m 75.067441,51.145389 c -1.703969,-0.02952 -3.413053,0.501748 -4.800007,1.492071 -1.386954,0.990323 -2.444293,2.434361 -2.969564,4.055617 -0.669925,2.067732 -0.458293,4.386235 0.480133,6.346763 0.938426,1.960528 2.577087,3.558045 4.513985,4.54432 2.358593,1.201004 5.104229,1.501982 7.734378,1.205862 2.63015,-0.296121 5.164955,-1.160984 7.603136,-2.190861 2.893046,-1.22201 5.68622,-2.684454 8.639708,-3.752128 2.953489,-1.067675 6.12877,-1.735132 9.23718,-1.287038 4.20801,0.606606 7.89808,3.204396 10.80607,6.305826 1.24131,1.323883 2.38724,2.776187 3.07523,4.455529 0.68799,1.679341 0.88158,3.618124 0.22212,5.308872 -0.52094,1.335597 -1.54359,2.440003 -2.7502,3.214136 -1.20661,0.774134 -2.59139,1.23615 -3.99643,1.520854 -5.44818,1.103967 -11.35584,-0.512304 -15.559021,-4.150265 -2.797165,-2.421021 -4.812776,-5.610389 -6.587739,-8.856152 -1.554798,-2.843161 -2.959939,-5.771741 -4.672436,-8.522798 -1.712497,-2.751058 -3.760421,-5.345743 -6.374746,-7.260493 -1.404476,-1.028648 -2.960324,-1.850259 -4.601797,-2.430115 z\" id=\"path4870\" inkscape:path-effect=\"#path-effect4872;#path-effect4874\" inkscape:original-d=\"M 75.067441,51.145389 C 64.873859,50.840179 63.49306,66.510786 75.257774,68.473034 89.863301,70.909106 106.99538,50.226159 118.04118,70.670655 126.35289,86.054679 102.08843,84.799359 95.167212,76.156183 87.715294,66.850259 86.285302,55.233298 75.067441,51.145389 Z\"/>\n",
       "    <g id=\"g5050\" transform=\"matrix(0.62824966,0,0,0.62841368,38.348682,4.8648415)\" style=\"stroke-width:1.59152\">\n",
       "      <circle style=\"mix-blend-mode:normal;fill:#666666;stroke:#000000;stroke-width:0.271798\" id=\"path1649\" cx=\"108.4316\" cy=\"92.124985\" r=\"7.4015002\"/>\n",
       "      <circle style=\"fill:#ffffff;stroke:#000000;stroke-width:0.188437;filter:url(#filter2408)\" id=\"path1651\" cx=\"111.03149\" cy=\"88.963264\" r=\"3.4066997\"/>\n",
       "    </g>\n",
       "    <g id=\"g5056\" transform=\"matrix(0.62824966,0,0,0.62841368,1.4573037,5.3131403)\" style=\"stroke-width:1.59152\">\n",
       "      <circle style=\"mix-blend-mode:normal;fill:#666666;stroke:#000000;stroke-width:0.271798\" id=\"circle5052\" cx=\"108.4316\" cy=\"92.124985\" r=\"7.4015002\"/>\n",
       "      <circle style=\"fill:#ffffff;stroke:#000000;stroke-width:0.188437;filter:url(#filter2408)\" id=\"circle5054\" cx=\"111.03149\" cy=\"88.963264\" r=\"3.4066997\"/>\n",
       "    </g>\n",
       "    <path style=\"fill:none;stroke:#000000;stroke-width:0.565;stroke-linecap:butt;stroke-linejoin:miter;stroke-miterlimit:4;stroke-dasharray:none;stroke-opacity:1;marker-end:url(#marker5068)\" d=\"M 46.494538,111.37818 106.48201,63.547534\" id=\"path5058\"/>\n",
       "    <path style=\"fill:none;stroke:#000000;stroke-width:0.565;stroke-linecap:butt;stroke-linejoin:miter;stroke-miterlimit:4;stroke-dasharray:none;stroke-opacity:1;marker-end:url(#marker5116)\" d=\"M 46.494538,111.37818 69.073545,63.31581\" id=\"path5106\"/>\n",
       "    <path style=\"fill:none;stroke:#000000;stroke-width:0.565;stroke-linecap:butt;stroke-linejoin:miter;stroke-miterlimit:4;stroke-dasharray:none;stroke-opacity:1;marker-end:url(#marker5170)\" d=\"m 69.073545,63.31581 37.408465,0.231724\" id=\"path5160\"/>\n",
       "    <text xml:space=\"preserve\" style=\"font-size:7.7611px;line-height:1.25;font-family:sans-serif;-inkscape-font-specification:sans-serif;stroke-width:0.264583\" x=\"58.471088\" y=\"60.723351\" id=\"text5270\"><tspan sodipodi:role=\"line\" id=\"tspan5268\" x=\"58.471088\" y=\"60.723351\" style=\"stroke-width:0.264583\">A</tspan></text>\n",
       "    <text xml:space=\"preserve\" style=\"font-size:7.7611px;line-height:1.25;font-family:sans-serif;-inkscape-font-specification:sans-serif;stroke-width:0.264583\" x=\"111.07375\" y=\"60.550766\" id=\"text5274\"><tspan sodipodi:role=\"line\" id=\"tspan5272\" x=\"111.07375\" y=\"60.550766\" style=\"stroke-width:0.264583\">B</tspan></text>\n",
       "    <text xml:space=\"preserve\" style=\"font-size:7.7611px;line-height:1.25;font-family:sans-serif;-inkscape-font-specification:sans-serif;stroke-width:0.264583\" x=\"83.049095\" y=\"59.255951\" id=\"text5278\"><tspan sodipodi:role=\"line\" id=\"tspan5276\" x=\"83.049095\" y=\"59.255951\" style=\"stroke-width:0.264583\">R<tspan style=\"font-size:65%;baseline-shift:sub\" id=\"tspan5280\">BA</tspan></tspan></text>\n",
       "    <text xml:space=\"preserve\" style=\"font-size:7.7611px;line-height:1.25;font-family:sans-serif;-inkscape-font-specification:sans-serif;stroke-width:0.264583\" x=\"50.139427\" y=\"78.674736\" id=\"text5284\"><tspan sodipodi:role=\"line\" id=\"tspan5282\" x=\"50.139427\" y=\"78.674736\" style=\"stroke-width:0.264583\">R<tspan style=\"font-size:65%;baseline-shift:sub\" id=\"tspan5286\">A</tspan></tspan></text>\n",
       "    <text xml:space=\"preserve\" style=\"font-size:7.7611px;line-height:1.25;font-family:sans-serif;-inkscape-font-specification:sans-serif;stroke-width:0.264583\" x=\"81.91066\" y=\"93.704056\" id=\"text5290\"><tspan sodipodi:role=\"line\" id=\"tspan5288\" x=\"81.91066\" y=\"93.704056\" style=\"stroke-width:0.264583\">R<tspan style=\"font-size:65%;baseline-shift:sub\" id=\"tspan5292\">B</tspan></tspan></text>\n",
       "    <path style=\"fill:none;stroke:#000000;stroke-width:0.165;stroke-linecap:butt;stroke-linejoin:miter;stroke-miterlimit:4;stroke-dasharray:none;stroke-opacity:1;marker-end:url(#TriangleOutL)\" d=\"M 50.440997,71.608166 H 54.4852\" id=\"path923\"/>\n",
       "    <path style=\"fill:none;stroke:#000000;stroke-width:0.165;stroke-linecap:butt;stroke-linejoin:miter;stroke-miterlimit:4;stroke-dasharray:none;stroke-opacity:1;marker-end:url(#marker1347)\" d=\"M 82.130237,87.183238 H 86.17444\" id=\"path1343\"/>\n",
       "    <path style=\"fill:none;stroke:#000000;stroke-width:0.165;stroke-linecap:butt;stroke-linejoin:miter;stroke-miterlimit:4;stroke-dasharray:none;stroke-opacity:1;marker-end:url(#marker1443)\" d=\"m 83.06967,52.728692 h 4.044203\" id=\"path1439\"/>\n",
       "  </g>\n",
       "</svg>"
      ],
      "text/plain": [
       "<IPython.core.display.SVG object>"
      ]
     },
     "execution_count": 24,
     "metadata": {},
     "output_type": "execute_result"
    }
   ],
   "source": [
    "SVG('figs4-3.svg')"
   ]
  },
  {
   "cell_type": "markdown",
   "metadata": {
    "slideshow": {
     "slide_type": "fragment"
    }
   },
   "source": [
    "A posição de $B$ em consideração a $A$ é igual a posição absoluta de $B$ menos a posição absoluta de $A$\n",
    "$$\\vec{R}_{BA} = \\vec{R}_B - \\vec{R}_A$$\n",
    "Ou:\n",
    "$$\\vec{R}_{BA} = \\vec{R}_{BO} - \\vec{R}_{AO}$$"
   ]
  },
  {
   "cell_type": "markdown",
   "metadata": {
    "slideshow": {
     "slide_type": "slide"
    }
   },
   "source": [
    "## 4.3 Translação, Rotação e Movimento Complexo"
   ]
  },
  {
   "cell_type": "markdown",
   "metadata": {
    "slideshow": {
     "slide_type": "subslide"
    }
   },
   "source": [
    "#### Translação\n",
    "Todos os pontos do corpo tem o mesmo deslocamento. A orientação angular é mantida.\n",
    "#### Rotação \n",
    "Diferentes pontos do corpo suportam difenrentes deslocamentos, portanto há uma diferença de deslocamento entre quaisquer dois pontos escolhidos\n",
    "#### Movimento complexo\n",
    "É a união dos dois movimentos anteriores\n",
    "\n",
    "#### Teoremas:\n",
    "**Teorema de Euler** <br>\n",
    "O deslocamento geral de um corpo rígido com um ponto fixo é igual a rotação relacionada a algum eixo.<br>\n",
    "**Teorema de Chasles** <br>\n",
    "Qualquer deslocamento de um corpo rígido é equivalente à soma da translação de qualquer ponto naquele corpo com rotação sobre um eixo por meio desse ponto."
   ]
  },
  {
   "cell_type": "markdown",
   "metadata": {
    "slideshow": {
     "slide_type": "slide"
    }
   },
   "source": [
    "## 4.4 Análise Gráfica da Posição de Mecanismos"
   ]
  },
  {
   "cell_type": "markdown",
   "metadata": {
    "slideshow": {
     "slide_type": "subslide"
    }
   },
   "source": [
    "Para qualquer mecanismo de um GDL, somente um parâmetro é necessário para definir a posição de todos os elos. O parâmetro usualmente escolhido é o ângulo do elo de entrada.<br>\n",
    "Os comprimentos dos elos $a$, $b$, $c$ e $d$ são conhecidos."
   ]
  },
  {
   "cell_type": "code",
   "execution_count": 25,
   "metadata": {
    "slideshow": {
     "slide_type": "fragment"
    }
   },
   "outputs": [
    {
     "data": {
      "image/svg+xml": [
       "<svg xmlns:dc=\"http://purl.org/dc/elements/1.1/\" xmlns:cc=\"http://creativecommons.org/ns#\" xmlns:rdf=\"http://www.w3.org/1999/02/22-rdf-syntax-ns#\" xmlns:svg=\"http://www.w3.org/2000/svg\" xmlns=\"http://www.w3.org/2000/svg\" xmlns:sodipodi=\"http://sodipodi.sourceforge.net/DTD/sodipodi-0.dtd\" xmlns:inkscape=\"http://www.inkscape.org/namespaces/inkscape\" width=\"214.58945mm\" height=\"110.67824mm\" viewBox=\"0 0 214.58945 110.67824\" version=\"1.1\" id=\"svg8\" inkscape:version=\"1.0.1 (3bc2e813f5, 2020-09-07)\" sodipodi:docname=\"figs4-4.svg\">\n",
       "  <defs id=\"defs2\">\n",
       "    <marker style=\"overflow:visible;\" id=\"marker9278\" refX=\"0.0\" refY=\"0.0\" orient=\"auto\" inkscape:stockid=\"Arrow1Lend\" inkscape:isstock=\"true\">\n",
       "      <path transform=\"scale(0.8) rotate(180) translate(12.5,0)\" style=\"fill-rule:evenodd;stroke:#000000;stroke-width:1pt;stroke-opacity:1;fill:#000000;fill-opacity:1\" d=\"M 0.0,0.0 L 5.0,-5.0 L -12.5,0.0 L 5.0,5.0 L 0.0,0.0 z \" id=\"path939\"/>\n",
       "    </marker>\n",
       "    <marker style=\"overflow:visible\" id=\"marker1421\" refX=\"0\" refY=\"0\" orient=\"auto\" inkscape:stockid=\"Arrow1Lend\" inkscape:isstock=\"true\">\n",
       "      <path transform=\"matrix(-0.8,0,0,-0.8,-10,0)\" style=\"fill:#000000;fill-opacity:1;fill-rule:evenodd;stroke:#000000;stroke-width:1pt;stroke-opacity:1\" d=\"M 0,0 5,-5 -12.5,0 5,5 Z\" id=\"path1419\"/>\n",
       "    </marker>\n",
       "    <marker style=\"overflow:visible\" id=\"marker1375\" refX=\"0\" refY=\"0\" orient=\"auto\" inkscape:stockid=\"Arrow1Lend\" inkscape:isstock=\"true\" inkscape:collect=\"always\">\n",
       "      <path transform=\"matrix(-0.8,0,0,-0.8,-10,0)\" style=\"fill:#000000;fill-opacity:1;fill-rule:evenodd;stroke:#000000;stroke-width:1pt;stroke-opacity:1\" d=\"M 0,0 5,-5 -12.5,0 5,5 Z\" id=\"path1373\"/>\n",
       "    </marker>\n",
       "    <marker style=\"overflow:visible\" id=\"marker1315\" refX=\"0\" refY=\"0\" orient=\"auto\" inkscape:stockid=\"Arrow1Lend\" inkscape:isstock=\"true\" inkscape:collect=\"always\">\n",
       "      <path transform=\"matrix(-0.8,0,0,-0.8,-10,0)\" style=\"fill:#000000;fill-opacity:1;fill-rule:evenodd;stroke:#000000;stroke-width:1pt;stroke-opacity:1\" d=\"M 0,0 5,-5 -12.5,0 5,5 Z\" id=\"path1313\"/>\n",
       "    </marker>\n",
       "    <marker style=\"overflow:visible\" id=\"Arrow1Lstart\" refX=\"0\" refY=\"0\" orient=\"auto\" inkscape:stockid=\"Arrow1Lstart\" inkscape:isstock=\"true\">\n",
       "      <path transform=\"matrix(0.8,0,0,0.8,10,0)\" style=\"fill:#000000;fill-opacity:1;fill-rule:evenodd;stroke:#000000;stroke-width:1pt;stroke-opacity:1\" d=\"M 0,0 5,-5 -12.5,0 5,5 Z\" id=\"path987\"/>\n",
       "    </marker>\n",
       "  </defs>\n",
       "  <sodipodi:namedview id=\"base\" pagecolor=\"#ffffff\" bordercolor=\"#666666\" borderopacity=\"1.0\" inkscape:pageopacity=\"0.0\" inkscape:pageshadow=\"2\" inkscape:zoom=\"1.4\" inkscape:cx=\"379.80088\" inkscape:cy=\"209.49093\" inkscape:document-units=\"mm\" inkscape:current-layer=\"layer5\" inkscape:document-rotation=\"0\" showgrid=\"false\" inkscape:snap-object-midpoints=\"false\" inkscape:snap-smooth-nodes=\"true\" inkscape:window-width=\"1920\" inkscape:window-height=\"1017\" inkscape:window-x=\"-8\" inkscape:window-y=\"-8\" inkscape:window-maximized=\"1\"/>\n",
       "  <metadata id=\"metadata5\">\n",
       "    <rdf:RDF>\n",
       "      <cc:Work rdf:about=\"\">\n",
       "        <dc:format>image/svg+xml</dc:format>\n",
       "        <dc:type rdf:resource=\"http://purl.org/dc/dcmitype/StillImage\"/>\n",
       "        <dc:title/>\n",
       "      </cc:Work>\n",
       "    </rdf:RDF>\n",
       "  </metadata>\n",
       "  <g inkscape:groupmode=\"layer\" id=\"layer5\" inkscape:label=\"Layer 2\">\n",
       "    <rect style=\"fill:#ffffff;stroke:#ffffff;stroke-width:0.865\" id=\"rect3650\" width=\"215.25743\" height=\"111.125\" x=\"-0.1889881\" y=\"0\"/>\n",
       "  </g>\n",
       "  <g inkscape:label=\"Layer 1\" inkscape:groupmode=\"layer\" id=\"layer1\" transform=\"translate(-14.696059,-50.039333)\">\n",
       "    <path id=\"path839\" style=\"fill:#ffffff;stroke:#000000;stroke-width:0.699999;stroke-linejoin:bevel;stroke-miterlimit:4;stroke-dasharray:none\" d=\"m 40.314083,127.77587 a 7.5049962,7.4894698 0 0 0 -7.490705,7.48947 7.5049962,7.4894698 0 0 0 0,0.0143 v 13.0923 h 15.009993 v -13.10657 a 7.5049962,7.4894698 0 0 0 -7.504997,-7.48947 7.5049962,7.4894698 0 0 0 -0.0143,0 z\"/>\n",
       "    <path style=\"fill:none;stroke:#000000;stroke-width:0.7;stroke-linecap:butt;stroke-linejoin:miter;stroke-miterlimit:4;stroke-dasharray:none;stroke-opacity:1\" d=\"M 14.999011,148.37191 H 69.410235\" id=\"path850\"/>\n",
       "    <path style=\"fill:none;stroke:#000000;stroke-width:0.7;stroke-linecap:butt;stroke-linejoin:miter;stroke-miterlimit:4;stroke-dasharray:none;stroke-opacity:1\" d=\"m 14.999011,148.37191 7.041144,12.17039\" id=\"path852\"/>\n",
       "    <path style=\"fill:none;stroke:#000000;stroke-width:0.7;stroke-linecap:butt;stroke-linejoin:miter;stroke-miterlimit:4;stroke-dasharray:none;stroke-opacity:1\" d=\"m 27.382263,148.37191 7.041144,12.17039\" id=\"path854\"/>\n",
       "    <path style=\"fill:none;stroke:#000000;stroke-width:0.7;stroke-linecap:butt;stroke-linejoin:miter;stroke-miterlimit:4;stroke-dasharray:none;stroke-opacity:1\" d=\"m 39.390265,148.37191 7.041144,12.17039\" id=\"path856\"/>\n",
       "    <path style=\"fill:none;stroke:#000000;stroke-width:0.7;stroke-linecap:butt;stroke-linejoin:miter;stroke-miterlimit:4;stroke-dasharray:none;stroke-opacity:1\" d=\"m 51.773517,148.37191 7.041144,12.17039\" id=\"path858\"/>\n",
       "    <path style=\"fill:none;stroke:#000000;stroke-width:0.7;stroke-linecap:butt;stroke-linejoin:miter;stroke-miterlimit:4;stroke-dasharray:none;stroke-opacity:1\" d=\"m 64.156769,148.37191 7.04115,12.17039\" id=\"path860\"/>\n",
       "    <ellipse style=\"fill:#ffffff;stroke:#000000;stroke-width:0.7;stroke-linejoin:bevel\" id=\"path1592\" cx=\"40.369549\" cy=\"135.1759\" rx=\"2.6233726\" ry=\"2.6179454\"/>\n",
       "    <g inkscape:label=\"Layer 1\" id=\"g967\" transform=\"matrix(0.70913352,0,0,0.70766648,139.80942,37.902228)\" style=\"stroke-width:1.41163\">\n",
       "      <path id=\"path951\" style=\"fill:#ffffff;stroke:#000000;stroke-width:3.73471;stroke-linejoin:bevel;stroke-miterlimit:4;stroke-dasharray:none\" d=\"M 219.92383,480 A 39.999999,39.999999 0 0 0 180,520 a 39.999999,39.999999 0 0 0 0,0.0762 V 590 h 80 v -70 a 39.999999,39.999999 0 0 0 -40,-40 39.999999,39.999999 0 0 0 -0.0762,0 z\" transform=\"scale(0.26458333)\"/>\n",
       "      <path style=\"fill:none;stroke:#000000;stroke-width:0.988143;stroke-linecap:butt;stroke-linejoin:miter;stroke-miterlimit:4;stroke-dasharray:none;stroke-opacity:1\" d=\"M 22.489583,156.10416 H 99.218749\" id=\"path953\"/>\n",
       "      <path style=\"fill:none;stroke:#000000;stroke-width:0.988143;stroke-linecap:butt;stroke-linejoin:miter;stroke-miterlimit:4;stroke-dasharray:none;stroke-opacity:1\" d=\"m 22.489583,156.10416 9.929222,17.19792\" id=\"path955\"/>\n",
       "      <path style=\"fill:none;stroke:#000000;stroke-width:0.988143;stroke-linecap:butt;stroke-linejoin:miter;stroke-miterlimit:4;stroke-dasharray:none;stroke-opacity:1\" d=\"m 39.952094,156.10416 9.929222,17.19792\" id=\"path957\"/>\n",
       "      <path style=\"fill:none;stroke:#000000;stroke-width:0.988143;stroke-linecap:butt;stroke-linejoin:miter;stroke-miterlimit:4;stroke-dasharray:none;stroke-opacity:1\" d=\"m 56.885438,156.10416 9.929222,17.19792\" id=\"path959\"/>\n",
       "      <path style=\"fill:none;stroke:#000000;stroke-width:0.988143;stroke-linecap:butt;stroke-linejoin:miter;stroke-miterlimit:4;stroke-dasharray:none;stroke-opacity:1\" d=\"m 74.347949,156.10416 9.929222,17.19792\" id=\"path961\"/>\n",
       "      <path style=\"fill:none;stroke:#000000;stroke-width:0.988143;stroke-linecap:butt;stroke-linejoin:miter;stroke-miterlimit:4;stroke-dasharray:none;stroke-opacity:1\" d=\"m 91.81046,156.10416 9.92923,17.19792\" id=\"path963\"/>\n",
       "      <circle style=\"fill:#ffffff;stroke:#000000;stroke-width:0.988143;stroke-linejoin:bevel\" id=\"circle965\" cx=\"58.266396\" cy=\"137.45695\" r=\"3.6994057\"/>\n",
       "    </g>\n",
       "    <path style=\"fill:none;stroke:#000000;stroke-width:0.665;stroke-linecap:butt;stroke-linejoin:miter;stroke-miterlimit:4;stroke-dasharray:none;stroke-opacity:1\" d=\"M 40.63683,132.91881 54.473189,101.29943 158.25561,77.552742 180.26587,132.7493\" id=\"path969\"/>\n",
       "    <ellipse style=\"fill:#ffffff;stroke:#000000;stroke-width:0.7;stroke-linejoin:bevel\" id=\"ellipse979\" cx=\"54.782269\" cy=\"101.64828\" rx=\"2.6233726\" ry=\"2.6179454\"/>\n",
       "    <ellipse style=\"fill:#ffffff;stroke:#000000;stroke-width:0.7;stroke-linejoin:bevel\" id=\"ellipse981\" cx=\"158.56105\" cy=\"77.746864\" rx=\"2.6233726\" ry=\"2.6179454\"/>\n",
       "    <path style=\"fill:none;stroke:#000000;stroke-width:0.264583px;stroke-linecap:butt;stroke-linejoin:miter;stroke-opacity:1;marker-end:url(#marker1315)\" d=\"M 40.369548,135.1759 V 51.078577\" id=\"path983\"/>\n",
       "    <path style=\"fill:none;stroke:#000000;stroke-width:0.265;stroke-linecap:butt;stroke-linejoin:miter;stroke-opacity:1;marker-end:url(#marker9278);stroke-miterlimit:4;stroke-dasharray:none\" d=\"M 40.369548,135.1759 H 228.62076\" id=\"path985\"/>\n",
       "    <text xml:space=\"preserve\" style=\"font-size:7.7611px;line-height:1.25;font-family:sans-serif;-inkscape-font-specification:sans-serif;stroke-width:0.264583\" x=\"35.393242\" y=\"144.05951\" id=\"text1349\"><tspan sodipodi:role=\"line\" id=\"tspan1347\" x=\"35.393242\" y=\"144.05951\" style=\"stroke-width:0.264583\">O<tspan style=\"font-size:65%;baseline-shift:sub\" id=\"tspan1357\">2</tspan></tspan></text>\n",
       "    <text xml:space=\"preserve\" style=\"font-size:7.7611px;line-height:1.25;font-family:sans-serif;-inkscape-font-specification:sans-serif;stroke-width:0.264583\" x=\"176.83255\" y=\"144.19574\" id=\"text1353\"><tspan sodipodi:role=\"line\" id=\"tspan1351\" x=\"176.83255\" y=\"144.19574\" style=\"stroke-width:0.264583\">O<tspan style=\"font-size:65%;baseline-shift:sub\" id=\"tspan1355\">4</tspan></tspan></text>\n",
       "    <path style=\"fill:none;stroke:#000000;stroke-width:0.264583;stroke-linecap:butt;stroke-linejoin:miter;stroke-miterlimit:4;stroke-dasharray:2.11666, 2.11666;stroke-dashoffset:0;stroke-opacity:1\" d=\"M 54.782267,101.64828 H 122.30559\" id=\"path1361\"/>\n",
       "    <path style=\"fill:none;stroke:#000000;stroke-width:0.264583px;stroke-linecap:butt;stroke-linejoin:miter;stroke-opacity:1;marker-end:url(#marker1375)\" d=\"m 92.906508,101.20302 c 1.255311,-2.244931 1.505398,-4.887335 -0.423056,-8.391146\" id=\"path1363\" sodipodi:nodetypes=\"cc\"/>\n",
       "    <path style=\"fill:none;stroke:#000000;stroke-width:0.264583px;stroke-linecap:butt;stroke-linejoin:miter;stroke-opacity:1;marker-end:url(#marker1421)\" d=\"m 204.02271,135.34302 c -4.19232,-18.1698 -15.68896,-26.44711 -33.03527,-26.802\" id=\"path1365\" sodipodi:nodetypes=\"cc\"/>\n",
       "    <text xml:space=\"preserve\" style=\"font-size:7.7611px;line-height:1.25;font-family:sans-serif;-inkscape-font-specification:sans-serif;stroke-width:0.264583\" x=\"49.927883\" y=\"95.975571\" id=\"text1491\"><tspan sodipodi:role=\"line\" id=\"tspan1489\" x=\"49.927883\" y=\"95.975571\" style=\"stroke-width:0.264583\">A</tspan></text>\n",
       "    <text xml:space=\"preserve\" style=\"font-size:7.7611px;line-height:1.25;font-family:sans-serif;-inkscape-font-specification:sans-serif;stroke-width:0.264583\" x=\"161.36201\" y=\"74.261124\" id=\"text1495\"><tspan sodipodi:role=\"line\" id=\"tspan1493\" x=\"161.36201\" y=\"74.261124\" style=\"stroke-width:0.264583\">B</tspan></text>\n",
       "    <path style=\"fill:none;stroke:#000000;stroke-width:0.264583px;stroke-linecap:butt;stroke-linejoin:miter;stroke-opacity:1\" d=\"m 56.204278,135.14129 c 2.077105,-8.53864 -2.44765,-13.86104 -8.415155,-18.48058\" id=\"path1497\" sodipodi:nodetypes=\"cc\"/>\n",
       "    <g id=\"g1505\" style=\"stroke-width:0.5;stroke-miterlimit:4;stroke-dasharray:none\" transform=\"translate(-8.206898,52.364352)\">\n",
       "      <ellipse style=\"fill:#ffffff;stroke:#000000;stroke-width:0.5;stroke-linejoin:bevel;stroke-miterlimit:4;stroke-dasharray:none;stroke-dashoffset:0\" id=\"path1499\" cx=\"68.891159\" cy=\"69.23098\" rx=\"2.5376184\" ry=\"3.6255431\"/>\n",
       "      <path style=\"fill:none;stroke:#000000;stroke-width:0.5;stroke-linecap:butt;stroke-linejoin:miter;stroke-miterlimit:4;stroke-dasharray:none;stroke-opacity:1\" d=\"m 66.353541,69.23098 h 5.075235\" id=\"path1501\"/>\n",
       "    </g>\n",
       "    <g id=\"g1511\" style=\"stroke-width:0.5;stroke-miterlimit:4;stroke-dasharray:none\" transform=\"translate(130.65558,45.023542)\">\n",
       "      <ellipse style=\"fill:#ffffff;stroke:#000000;stroke-width:0.5;stroke-linejoin:bevel;stroke-miterlimit:4;stroke-dasharray:none;stroke-dashoffset:0\" id=\"ellipse1507\" cx=\"68.891159\" cy=\"69.23098\" rx=\"2.5376184\" ry=\"3.6255431\"/>\n",
       "      <path style=\"fill:none;stroke:#000000;stroke-width:0.5;stroke-linecap:butt;stroke-linejoin:miter;stroke-miterlimit:4;stroke-dasharray:none;stroke-opacity:1\" d=\"m 66.353541,69.23098 h 5.075235\" id=\"path1509\"/>\n",
       "    </g>\n",
       "    <g id=\"g1517\" style=\"stroke-width:0.5;stroke-miterlimit:4;stroke-dasharray:none\" transform=\"translate(31.43961,26.845584)\">\n",
       "      <ellipse style=\"fill:#ffffff;stroke:#000000;stroke-width:0.5;stroke-linejoin:bevel;stroke-miterlimit:4;stroke-dasharray:none;stroke-dashoffset:0\" id=\"ellipse1513\" cx=\"68.891159\" cy=\"69.23098\" rx=\"2.5376184\" ry=\"3.6255431\"/>\n",
       "      <path style=\"fill:none;stroke:#000000;stroke-width:0.5;stroke-linecap:butt;stroke-linejoin:miter;stroke-miterlimit:4;stroke-dasharray:none;stroke-opacity:1\" d=\"m 66.353541,69.23098 h 5.075235\" id=\"path1515\"/>\n",
       "    </g>\n",
       "    <text xml:space=\"preserve\" style=\"font-size:5.40149px;line-height:1.25;font-family:sans-serif;-inkscape-font-specification:sans-serif;stroke-width:0.264583\" x=\"63.598255\" y=\"127.6256\" id=\"text1521\"><tspan sodipodi:role=\"line\" id=\"tspan1519\" x=\"63.598255\" y=\"127.6256\" style=\"stroke-width:0.264583\">2</tspan></text>\n",
       "    <text xml:space=\"preserve\" style=\"font-size:5.40149px;line-height:1.25;font-family:sans-serif;-inkscape-font-specification:sans-serif;stroke-width:0.264583\" x=\"104.03602\" y=\"100.36676\" id=\"text1525\"><tspan sodipodi:role=\"line\" id=\"tspan1523\" x=\"104.03602\" y=\"100.36676\" style=\"stroke-width:0.264583\">3</tspan></text>\n",
       "    <text xml:space=\"preserve\" style=\"font-size:5.40149px;line-height:1.25;font-family:sans-serif;-inkscape-font-specification:sans-serif;stroke-width:0.264583\" x=\"202.49963\" y=\"120.12696\" id=\"text1529\"><tspan sodipodi:role=\"line\" id=\"tspan1527\" x=\"202.49963\" y=\"120.12696\" style=\"stroke-width:0.264583\">4</tspan></text>\n",
       "    <text xml:space=\"preserve\" style=\"font-size:7.7611px;line-height:1.25;font-family:sans-serif;-inkscape-font-specification:sans-serif;stroke-width:0.264583\" x=\"42.530609\" y=\"115.60754\" id=\"text1533\"><tspan sodipodi:role=\"line\" id=\"tspan1531\" x=\"42.530609\" y=\"115.60754\" style=\"stroke-width:0.264583\">2</tspan></text>\n",
       "    <text xml:space=\"preserve\" style=\"font-size:7.7611px;line-height:1.25;font-family:sans-serif;-inkscape-font-specification:sans-serif;stroke-width:0.264583\" x=\"99.787262\" y=\"86.235306\" id=\"text1537\"><tspan sodipodi:role=\"line\" id=\"tspan1535\" x=\"99.787262\" y=\"86.235306\" style=\"stroke-width:0.264583\">3</tspan></text>\n",
       "    <text xml:space=\"preserve\" style=\"font-size:7.7611px;line-height:1.25;font-family:sans-serif;-inkscape-font-specification:sans-serif;stroke-width:0.264583\" x=\"167.8152\" y=\"101.70832\" id=\"text1541\"><tspan sodipodi:role=\"line\" id=\"tspan1539\" x=\"167.8152\" y=\"101.70832\" style=\"stroke-width:0.264583\">4</tspan></text>\n",
       "    <text xml:space=\"preserve\" style=\"font-size:7.7611px;line-height:1.25;font-family:sans-serif;-inkscape-font-specification:sans-serif;stroke-width:0.264583\" x=\"224.21123\" y=\"144.24466\" id=\"text1545\"><tspan sodipodi:role=\"line\" id=\"tspan1543\" x=\"224.21123\" y=\"144.24466\" style=\"stroke-width:0.264583\">X</tspan></text>\n",
       "    <text xml:space=\"preserve\" style=\"font-size:7.7611px;line-height:1.25;font-family:sans-serif;-inkscape-font-specification:sans-serif;stroke-width:0.264583\" x=\"33.694336\" y=\"55.697205\" id=\"text1549\"><tspan sodipodi:role=\"line\" id=\"tspan1547\" x=\"33.694336\" y=\"55.697205\" style=\"stroke-width:0.264583\">Y</tspan></text>\n",
       "  </g>\n",
       "</svg>"
      ],
      "text/plain": [
       "<IPython.core.display.SVG object>"
      ]
     },
     "execution_count": 25,
     "metadata": {},
     "output_type": "execute_result"
    }
   ],
   "source": [
    "SVG('figs4-4.svg')"
   ]
  },
  {
   "cell_type": "code",
   "execution_count": 26,
   "metadata": {
    "slideshow": {
     "slide_type": "fragment"
    }
   },
   "outputs": [
    {
     "data": {
      "image/svg+xml": [
       "<svg xmlns:dc=\"http://purl.org/dc/elements/1.1/\" xmlns:cc=\"http://creativecommons.org/ns#\" xmlns:rdf=\"http://www.w3.org/1999/02/22-rdf-syntax-ns#\" xmlns:svg=\"http://www.w3.org/2000/svg\" xmlns=\"http://www.w3.org/2000/svg\" xmlns:sodipodi=\"http://sodipodi.sourceforge.net/DTD/sodipodi-0.dtd\" xmlns:inkscape=\"http://www.inkscape.org/namespaces/inkscape\" width=\"214.58945mm\" height=\"126.86462mm\" viewBox=\"0 0 214.58944 126.86462\" version=\"1.1\" id=\"svg8\" inkscape:version=\"1.0.1 (3bc2e813f5, 2020-09-07)\" sodipodi:docname=\"figs4-5.svg\">\n",
       "  <defs id=\"defs2\">\n",
       "    <marker style=\"overflow:visible;\" id=\"marker8438\" refX=\"0.0\" refY=\"0.0\" orient=\"auto\" inkscape:stockid=\"Arrow1Lend\" inkscape:isstock=\"true\">\n",
       "      <path transform=\"scale(0.8) rotate(180) translate(12.5,0)\" style=\"fill-rule:evenodd;stroke:#000000;stroke-width:1pt;stroke-opacity:1;fill:#000000;fill-opacity:1\" d=\"M 0.0,0.0 L 5.0,-5.0 L -12.5,0.0 L 5.0,5.0 L 0.0,0.0 z \" id=\"path939\"/>\n",
       "    </marker>\n",
       "    <marker style=\"overflow:visible\" id=\"marker1421\" refX=\"0\" refY=\"0\" orient=\"auto\" inkscape:stockid=\"Arrow1Lend\" inkscape:isstock=\"true\">\n",
       "      <path transform=\"matrix(-0.8,0,0,-0.8,-10,0)\" style=\"fill:#000000;fill-opacity:1;fill-rule:evenodd;stroke:#000000;stroke-width:1pt;stroke-opacity:1\" d=\"M 0,0 5,-5 -12.5,0 5,5 Z\" id=\"path1419\"/>\n",
       "    </marker>\n",
       "    <marker style=\"overflow:visible\" id=\"marker1375\" refX=\"0\" refY=\"0\" orient=\"auto\" inkscape:stockid=\"Arrow1Lend\" inkscape:isstock=\"true\" inkscape:collect=\"always\">\n",
       "      <path transform=\"matrix(-0.8,0,0,-0.8,-10,0)\" style=\"fill:#000000;fill-opacity:1;fill-rule:evenodd;stroke:#000000;stroke-width:1pt;stroke-opacity:1\" d=\"M 0,0 5,-5 -12.5,0 5,5 Z\" id=\"path1373\"/>\n",
       "    </marker>\n",
       "    <marker style=\"overflow:visible\" id=\"marker1315\" refX=\"0\" refY=\"0\" orient=\"auto\" inkscape:stockid=\"Arrow1Lend\" inkscape:isstock=\"true\" inkscape:collect=\"always\">\n",
       "      <path transform=\"matrix(-0.8,0,0,-0.8,-10,0)\" style=\"fill:#000000;fill-opacity:1;fill-rule:evenodd;stroke:#000000;stroke-width:1pt;stroke-opacity:1\" d=\"M 0,0 5,-5 -12.5,0 5,5 Z\" id=\"path1313\"/>\n",
       "    </marker>\n",
       "    <marker style=\"overflow:visible\" id=\"Arrow1Lstart\" refX=\"0\" refY=\"0\" orient=\"auto\" inkscape:stockid=\"Arrow1Lstart\" inkscape:isstock=\"true\">\n",
       "      <path transform=\"matrix(0.8,0,0,0.8,10,0)\" style=\"fill:#000000;fill-opacity:1;fill-rule:evenodd;stroke:#000000;stroke-width:1pt;stroke-opacity:1\" d=\"M 0,0 5,-5 -12.5,0 5,5 Z\" id=\"path987\"/>\n",
       "    </marker>\n",
       "  </defs>\n",
       "  <sodipodi:namedview id=\"base\" pagecolor=\"#ffffff\" bordercolor=\"#666666\" borderopacity=\"1.0\" inkscape:pageopacity=\"0.0\" inkscape:pageshadow=\"2\" inkscape:zoom=\"1.4\" inkscape:cx=\"437.24674\" inkscape:cy=\"215.61833\" inkscape:document-units=\"mm\" inkscape:current-layer=\"layer6\" inkscape:document-rotation=\"0\" showgrid=\"false\" inkscape:snap-object-midpoints=\"true\" inkscape:snap-smooth-nodes=\"false\" inkscape:window-width=\"1920\" inkscape:window-height=\"1017\" inkscape:window-x=\"-8\" inkscape:window-y=\"-8\" inkscape:window-maximized=\"1\" showborder=\"true\" inkscape:snap-nodes=\"true\" inkscape:object-nodes=\"false\"/>\n",
       "  <metadata id=\"metadata5\">\n",
       "    <rdf:RDF>\n",
       "      <cc:Work rdf:about=\"\">\n",
       "        <dc:format>image/svg+xml</dc:format>\n",
       "        <dc:type rdf:resource=\"http://purl.org/dc/dcmitype/StillImage\"/>\n",
       "        <dc:title/>\n",
       "      </cc:Work>\n",
       "    </rdf:RDF>\n",
       "  </metadata>\n",
       "  <g inkscape:groupmode=\"layer\" id=\"layer6\" inkscape:label=\"Layer 2\">\n",
       "    <rect style=\"fill:#ffffff;stroke:#ffffff;stroke-width:0.865\" id=\"rect4450\" width=\"215.44643\" height=\"127.94494\" x=\"0\" y=\"0\"/>\n",
       "  </g>\n",
       "  <g inkscape:label=\"Layer 1\" inkscape:groupmode=\"layer\" id=\"layer1\" transform=\"translate(-14.696059,-50.039333)\">\n",
       "    <path id=\"path839\" style=\"fill:#ffffff;stroke:#000000;stroke-width:0.699999;stroke-linejoin:bevel;stroke-miterlimit:4;stroke-dasharray:none\" d=\"m 40.314083,127.77587 a 7.5049962,7.4894698 0 0 0 -7.490705,7.48947 7.5049962,7.4894698 0 0 0 0,0.0143 v 13.0923 h 15.009993 v -13.10657 a 7.5049962,7.4894698 0 0 0 -7.504997,-7.48947 7.5049962,7.4894698 0 0 0 -0.0143,0 z\"/>\n",
       "    <path style=\"fill:none;stroke:#000000;stroke-width:0.7;stroke-linecap:butt;stroke-linejoin:miter;stroke-miterlimit:4;stroke-dasharray:none;stroke-opacity:1\" d=\"M 14.999011,148.37191 H 69.410235\" id=\"path850\"/>\n",
       "    <path style=\"fill:none;stroke:#000000;stroke-width:0.7;stroke-linecap:butt;stroke-linejoin:miter;stroke-miterlimit:4;stroke-dasharray:none;stroke-opacity:1\" d=\"m 14.999011,148.37191 7.041144,12.17039\" id=\"path852\"/>\n",
       "    <path style=\"fill:none;stroke:#000000;stroke-width:0.7;stroke-linecap:butt;stroke-linejoin:miter;stroke-miterlimit:4;stroke-dasharray:none;stroke-opacity:1\" d=\"m 27.382263,148.37191 7.041144,12.17039\" id=\"path854\"/>\n",
       "    <path style=\"fill:none;stroke:#000000;stroke-width:0.7;stroke-linecap:butt;stroke-linejoin:miter;stroke-miterlimit:4;stroke-dasharray:none;stroke-opacity:1\" d=\"m 39.390265,148.37191 7.041144,12.17039\" id=\"path856\"/>\n",
       "    <path style=\"fill:none;stroke:#000000;stroke-width:0.7;stroke-linecap:butt;stroke-linejoin:miter;stroke-miterlimit:4;stroke-dasharray:none;stroke-opacity:1\" d=\"m 51.773517,148.37191 7.041144,12.17039\" id=\"path858\"/>\n",
       "    <path style=\"fill:none;stroke:#000000;stroke-width:0.7;stroke-linecap:butt;stroke-linejoin:miter;stroke-miterlimit:4;stroke-dasharray:none;stroke-opacity:1\" d=\"m 64.156769,148.37191 7.04115,12.17039\" id=\"path860\"/>\n",
       "    <ellipse style=\"fill:#ffffff;stroke:#000000;stroke-width:0.7;stroke-linejoin:bevel\" id=\"path1592\" cx=\"40.369549\" cy=\"135.1759\" rx=\"2.6233726\" ry=\"2.6179454\"/>\n",
       "    <g inkscape:label=\"Layer 1\" id=\"g967\" transform=\"matrix(0.70913352,0,0,0.70766648,139.80942,37.902228)\" style=\"stroke-width:1.41163\">\n",
       "      <path id=\"path951\" style=\"fill:#ffffff;stroke:#000000;stroke-width:3.73471;stroke-linejoin:bevel;stroke-miterlimit:4;stroke-dasharray:none\" d=\"M 219.92383,480 A 39.999999,39.999999 0 0 0 180,520 a 39.999999,39.999999 0 0 0 0,0.0762 V 590 h 80 v -70 a 39.999999,39.999999 0 0 0 -40,-40 39.999999,39.999999 0 0 0 -0.0762,0 z\" transform=\"scale(0.26458333)\"/>\n",
       "      <path style=\"fill:none;stroke:#000000;stroke-width:0.988143;stroke-linecap:butt;stroke-linejoin:miter;stroke-miterlimit:4;stroke-dasharray:none;stroke-opacity:1\" d=\"M 22.489583,156.10416 H 99.218749\" id=\"path953\"/>\n",
       "      <path style=\"fill:none;stroke:#000000;stroke-width:0.988143;stroke-linecap:butt;stroke-linejoin:miter;stroke-miterlimit:4;stroke-dasharray:none;stroke-opacity:1\" d=\"m 22.489583,156.10416 9.929222,17.19792\" id=\"path955\"/>\n",
       "      <path style=\"fill:none;stroke:#000000;stroke-width:0.988143;stroke-linecap:butt;stroke-linejoin:miter;stroke-miterlimit:4;stroke-dasharray:none;stroke-opacity:1\" d=\"m 39.952094,156.10416 9.929222,17.19792\" id=\"path957\"/>\n",
       "      <path style=\"fill:none;stroke:#000000;stroke-width:0.988143;stroke-linecap:butt;stroke-linejoin:miter;stroke-miterlimit:4;stroke-dasharray:none;stroke-opacity:1\" d=\"m 56.885438,156.10416 9.929222,17.19792\" id=\"path959\"/>\n",
       "      <path style=\"fill:none;stroke:#000000;stroke-width:0.988143;stroke-linecap:butt;stroke-linejoin:miter;stroke-miterlimit:4;stroke-dasharray:none;stroke-opacity:1\" d=\"m 74.347949,156.10416 9.929222,17.19792\" id=\"path961\"/>\n",
       "      <path style=\"fill:none;stroke:#000000;stroke-width:0.988143;stroke-linecap:butt;stroke-linejoin:miter;stroke-miterlimit:4;stroke-dasharray:none;stroke-opacity:1\" d=\"m 91.81046,156.10416 9.92923,17.19792\" id=\"path963\"/>\n",
       "      <circle style=\"fill:#ffffff;stroke:#000000;stroke-width:0.988143;stroke-linejoin:bevel\" id=\"circle965\" cx=\"58.266396\" cy=\"137.45695\" r=\"3.6994057\"/>\n",
       "    </g>\n",
       "    <path style=\"fill:none;stroke:#000000;stroke-width:0.665;stroke-linecap:butt;stroke-linejoin:miter;stroke-miterlimit:4;stroke-dasharray:none;stroke-opacity:1\" d=\"M 40.63683,132.91881 54.473189,101.29943 158.25561,77.552742 180.26587,132.7493\" id=\"path969\"/>\n",
       "    <ellipse style=\"fill:#ffffff;stroke:#000000;stroke-width:0.7;stroke-linejoin:bevel\" id=\"ellipse981\" cx=\"158.56105\" cy=\"77.746864\" rx=\"2.6233726\" ry=\"2.6179454\"/>\n",
       "    <path style=\"fill:none;stroke:#000000;stroke-width:0.264583px;stroke-linecap:butt;stroke-linejoin:miter;stroke-opacity:1;marker-end:url(#marker1315)\" d=\"M 40.369548,135.1759 V 51.078577\" id=\"path983\"/>\n",
       "    <path style=\"fill:none;stroke:#000000;stroke-width:0.265;stroke-linecap:butt;stroke-linejoin:miter;stroke-opacity:1;marker-end:url(#marker8438);stroke-miterlimit:4;stroke-dasharray:none\" d=\"M 40.369548,135.1759 H 228.62076\" id=\"path985\"/>\n",
       "    <text xml:space=\"preserve\" style=\"font-size:7.7611px;line-height:1.25;font-family:sans-serif;-inkscape-font-specification:sans-serif;stroke-width:0.264583\" x=\"35.393242\" y=\"144.05951\" id=\"text1349\"><tspan sodipodi:role=\"line\" id=\"tspan1347\" x=\"35.393242\" y=\"144.05951\" style=\"stroke-width:0.264583\">O<tspan style=\"font-size:65%;baseline-shift:sub\" id=\"tspan1357\">2</tspan></tspan></text>\n",
       "    <text xml:space=\"preserve\" style=\"font-size:7.7611px;line-height:1.25;font-family:sans-serif;-inkscape-font-specification:sans-serif;stroke-width:0.264583\" x=\"176.83255\" y=\"144.19574\" id=\"text1353\"><tspan sodipodi:role=\"line\" id=\"tspan1351\" x=\"176.83255\" y=\"144.19574\" style=\"stroke-width:0.264583\">O<tspan style=\"font-size:65%;baseline-shift:sub\" id=\"tspan1355\">4</tspan></tspan></text>\n",
       "    <path style=\"fill:none;stroke:#000000;stroke-width:0.264583;stroke-linecap:butt;stroke-linejoin:miter;stroke-miterlimit:4;stroke-dasharray:2.11666, 2.11666;stroke-dashoffset:0;stroke-opacity:1\" d=\"M 54.782267,101.64828 H 122.30559\" id=\"path1361\"/>\n",
       "    <path style=\"fill:none;stroke:#000000;stroke-width:0.264583px;stroke-linecap:butt;stroke-linejoin:miter;stroke-opacity:1;marker-end:url(#marker1375)\" d=\"m 92.906508,101.20302 c 1.255311,-2.244931 1.505398,-4.887335 -0.423056,-8.391146\" id=\"path1363\" sodipodi:nodetypes=\"cc\"/>\n",
       "    <path style=\"fill:none;stroke:#000000;stroke-width:0.264583px;stroke-linecap:butt;stroke-linejoin:miter;stroke-opacity:1;marker-end:url(#marker1421)\" d=\"m 204.02271,135.34302 c -4.19232,-18.1698 -15.68896,-26.44711 -33.03527,-26.802\" id=\"path1365\" sodipodi:nodetypes=\"cc\"/>\n",
       "    <text xml:space=\"preserve\" style=\"font-size:7.7611px;line-height:1.25;font-family:sans-serif;-inkscape-font-specification:sans-serif;stroke-width:0.264583\" x=\"49.927883\" y=\"95.975571\" id=\"text1491\"><tspan sodipodi:role=\"line\" id=\"tspan1489\" x=\"49.927883\" y=\"95.975571\" style=\"stroke-width:0.264583\">A</tspan></text>\n",
       "    <text xml:space=\"preserve\" style=\"font-size:7.7611px;line-height:1.25;font-family:sans-serif;-inkscape-font-specification:sans-serif;stroke-width:0.264583\" x=\"161.36201\" y=\"74.261124\" id=\"text1495\"><tspan sodipodi:role=\"line\" id=\"tspan1493\" x=\"161.36201\" y=\"74.261124\" style=\"stroke-width:0.264583\">B</tspan></text>\n",
       "    <path style=\"fill:none;stroke:#000000;stroke-width:0.264583px;stroke-linecap:butt;stroke-linejoin:miter;stroke-opacity:1\" d=\"m 56.204278,135.14129 c 2.077105,-8.53864 -2.44765,-13.86104 -8.415155,-18.48058\" id=\"path1497\" sodipodi:nodetypes=\"cc\"/>\n",
       "    <g id=\"g1505\" style=\"stroke-width:0.5;stroke-miterlimit:4;stroke-dasharray:none\" transform=\"translate(-8.206898,52.364352)\">\n",
       "      <ellipse style=\"fill:#ffffff;stroke:#000000;stroke-width:0.5;stroke-linejoin:bevel;stroke-miterlimit:4;stroke-dasharray:none;stroke-dashoffset:0\" id=\"path1499\" cx=\"68.891159\" cy=\"69.23098\" rx=\"2.5376184\" ry=\"3.6255431\"/>\n",
       "      <path style=\"fill:none;stroke:#000000;stroke-width:0.5;stroke-linecap:butt;stroke-linejoin:miter;stroke-miterlimit:4;stroke-dasharray:none;stroke-opacity:1\" d=\"m 66.353541,69.23098 h 5.075235\" id=\"path1501\"/>\n",
       "    </g>\n",
       "    <g id=\"g1511\" style=\"stroke-width:0.5;stroke-miterlimit:4;stroke-dasharray:none\" transform=\"translate(130.65558,45.023542)\">\n",
       "      <ellipse style=\"fill:#ffffff;stroke:#000000;stroke-width:0.5;stroke-linejoin:bevel;stroke-miterlimit:4;stroke-dasharray:none;stroke-dashoffset:0\" id=\"ellipse1507\" cx=\"68.891159\" cy=\"69.23098\" rx=\"2.5376184\" ry=\"3.6255431\"/>\n",
       "      <path style=\"fill:none;stroke:#000000;stroke-width:0.5;stroke-linecap:butt;stroke-linejoin:miter;stroke-miterlimit:4;stroke-dasharray:none;stroke-opacity:1\" d=\"m 66.353541,69.23098 h 5.075235\" id=\"path1509\"/>\n",
       "    </g>\n",
       "    <g id=\"g1517\" style=\"stroke-width:0.5;stroke-miterlimit:4;stroke-dasharray:none\" transform=\"translate(31.43961,26.845584)\">\n",
       "      <ellipse style=\"fill:#ffffff;stroke:#000000;stroke-width:0.5;stroke-linejoin:bevel;stroke-miterlimit:4;stroke-dasharray:none;stroke-dashoffset:0\" id=\"ellipse1513\" cx=\"68.891159\" cy=\"69.23098\" rx=\"2.5376184\" ry=\"3.6255431\"/>\n",
       "      <path style=\"fill:none;stroke:#000000;stroke-width:0.5;stroke-linecap:butt;stroke-linejoin:miter;stroke-miterlimit:4;stroke-dasharray:none;stroke-opacity:1\" d=\"m 66.353541,69.23098 h 5.075235\" id=\"path1515\"/>\n",
       "    </g>\n",
       "    <text xml:space=\"preserve\" style=\"font-size:5.40149px;line-height:1.25;font-family:sans-serif;-inkscape-font-specification:sans-serif;stroke-width:0.264583\" x=\"63.598255\" y=\"127.6256\" id=\"text1521\"><tspan sodipodi:role=\"line\" id=\"tspan1519\" x=\"63.598255\" y=\"127.6256\" style=\"stroke-width:0.264583\">2</tspan></text>\n",
       "    <text xml:space=\"preserve\" style=\"font-size:5.40149px;line-height:1.25;font-family:sans-serif;-inkscape-font-specification:sans-serif;stroke-width:0.264583\" x=\"104.03602\" y=\"100.36676\" id=\"text1525\"><tspan sodipodi:role=\"line\" id=\"tspan1523\" x=\"104.03602\" y=\"100.36676\" style=\"stroke-width:0.264583\">3</tspan></text>\n",
       "    <text xml:space=\"preserve\" style=\"font-size:5.40149px;line-height:1.25;font-family:sans-serif;-inkscape-font-specification:sans-serif;stroke-width:0.264583\" x=\"202.49963\" y=\"120.12696\" id=\"text1529\"><tspan sodipodi:role=\"line\" id=\"tspan1527\" x=\"202.49963\" y=\"120.12696\" style=\"stroke-width:0.264583\">4</tspan></text>\n",
       "    <text xml:space=\"preserve\" style=\"font-size:7.7611px;line-height:1.25;font-family:sans-serif;-inkscape-font-specification:sans-serif;stroke-width:0.264583\" x=\"42.530609\" y=\"115.60754\" id=\"text1533\"><tspan sodipodi:role=\"line\" id=\"tspan1531\" x=\"42.530609\" y=\"115.60754\" style=\"stroke-width:0.264583\">2</tspan></text>\n",
       "    <text xml:space=\"preserve\" style=\"font-size:7.7611px;line-height:1.25;font-family:sans-serif;-inkscape-font-specification:sans-serif;stroke-width:0.264583\" x=\"99.787262\" y=\"86.235306\" id=\"text1537\"><tspan sodipodi:role=\"line\" id=\"tspan1535\" x=\"99.787262\" y=\"86.235306\" style=\"stroke-width:0.264583\">3</tspan></text>\n",
       "    <path style=\"fill:none;stroke:#000000;stroke-width:0.665;stroke-linecap:butt;stroke-linejoin:miter;stroke-miterlimit:4;stroke-dasharray:2.66, 5.32;stroke-dashoffset:0;stroke-opacity:1\" d=\"m 54.782267,101.64828 78.091283,72.28783 48.25452,-38.7602\" id=\"path1709\"/>\n",
       "    <ellipse style=\"fill:#ffffff;stroke:#000000;stroke-width:0.7;stroke-linejoin:bevel\" id=\"ellipse979\" cx=\"54.782269\" cy=\"101.64828\" rx=\"2.6233726\" ry=\"2.6179454\"/>\n",
       "    <text xml:space=\"preserve\" style=\"font-size:7.7611px;line-height:1.25;font-family:sans-serif;-inkscape-font-specification:sans-serif;stroke-width:0.264583\" x=\"167.8152\" y=\"101.70832\" id=\"text1541\"><tspan sodipodi:role=\"line\" id=\"tspan1539\" x=\"167.8152\" y=\"101.70832\" style=\"stroke-width:0.264583\">4</tspan></text>\n",
       "    <text xml:space=\"preserve\" style=\"font-size:7.7611px;line-height:1.25;font-family:sans-serif;-inkscape-font-specification:sans-serif;stroke-width:0.264583\" x=\"224.21123\" y=\"144.24466\" id=\"text1545\"><tspan sodipodi:role=\"line\" id=\"tspan1543\" x=\"224.21123\" y=\"144.24466\" style=\"stroke-width:0.264583\">X</tspan></text>\n",
       "    <text xml:space=\"preserve\" style=\"font-size:7.7611px;line-height:1.25;font-family:sans-serif;-inkscape-font-specification:sans-serif;stroke-width:0.264583\" x=\"33.694336\" y=\"55.697205\" id=\"text1549\"><tspan sodipodi:role=\"line\" id=\"tspan1547\" x=\"33.694336\" y=\"55.697205\" style=\"stroke-width:0.264583\">Y</tspan></text>\n",
       "    <circle style=\"fill:none;stroke:#aa87de;stroke-width:0.499999;stroke-linejoin:bevel;stroke-miterlimit:4;stroke-dasharray:4, 0.999997, 0.499999, 0.999997;stroke-dashoffset:0\" id=\"path1686\" cx=\"54.782204\" cy=\"101.64822\" r=\"106.25362\"/>\n",
       "    <ellipse style=\"fill:none;stroke:#aa87de;stroke-width:0.499998;stroke-linejoin:bevel;stroke-miterlimit:4;stroke-dasharray:4, 0.999998, 0.499998, 0.999998;stroke-dashoffset:0\" id=\"path1705\" cx=\"181.12811\" cy=\"135.17586\" rx=\"61.481194\" ry=\"61.481197\"/>\n",
       "    <ellipse style=\"fill:#ffffff;stroke:#000000;stroke-width:0.7;stroke-linejoin:bevel;stroke-miterlimit:4;stroke-dasharray:2.1, 0.7;stroke-dashoffset:0\" id=\"ellipse1707\" cx=\"132.87355\" cy=\"173.93611\" rx=\"2.6233726\" ry=\"2.6179454\"/>\n",
       "    <ellipse style=\"fill:#ffffff;stroke:#000000;stroke-width:0.7;stroke-linejoin:bevel\" id=\"ellipse1711\" cx=\"181.12807\" cy=\"135.1759\" rx=\"2.6233726\" ry=\"2.6179454\"/>\n",
       "    <text xml:space=\"preserve\" style=\"font-size:7.7611px;line-height:1.25;font-family:sans-serif;-inkscape-font-specification:sans-serif;stroke-width:0.264583\" x=\"130.00975\" y=\"168.60811\" id=\"text2515\"><tspan sodipodi:role=\"line\" id=\"tspan2513\" x=\"130.00975\" y=\"168.60811\" style=\"stroke-width:0.264583\">B'</tspan></text>\n",
       "  </g>\n",
       "</svg>"
      ],
      "text/plain": [
       "<IPython.core.display.SVG object>"
      ]
     },
     "execution_count": 26,
     "metadata": {},
     "output_type": "execute_result"
    }
   ],
   "source": [
    "SVG('figs4-5.svg')"
   ]
  },
  {
   "cell_type": "markdown",
   "metadata": {
    "slideshow": {
     "slide_type": "slide"
    }
   },
   "source": [
    "## 4.5 Análise Algébrica da Posição de Mecanismos"
   ]
  },
  {
   "cell_type": "markdown",
   "metadata": {
    "slideshow": {
     "slide_type": "subslide"
    }
   },
   "source": [
    "A mesma ideia pode ser utilizada para se fazer a análise algébrica do mecanismo de 4 barras."
   ]
  },
  {
   "cell_type": "code",
   "execution_count": 27,
   "metadata": {
    "slideshow": {
     "slide_type": "fragment"
    }
   },
   "outputs": [],
   "source": [
    "theta2,a,b,c,d = symbols('theta2 a b c d')"
   ]
  },
  {
   "cell_type": "code",
   "execution_count": 28,
   "metadata": {
    "slideshow": {
     "slide_type": "fragment"
    }
   },
   "outputs": [
    {
     "data": {
      "text/latex": [
       "$\\displaystyle a \\cos{\\left(\\theta_{2} \\right)}$"
      ],
      "text/plain": [
       "a*cos(theta2)"
      ]
     },
     "execution_count": 28,
     "metadata": {},
     "output_type": "execute_result"
    }
   ],
   "source": [
    "Ax = a*cos(theta2)\n",
    "Ax"
   ]
  },
  {
   "cell_type": "code",
   "execution_count": 29,
   "metadata": {
    "slideshow": {
     "slide_type": "fragment"
    }
   },
   "outputs": [
    {
     "data": {
      "text/latex": [
       "$\\displaystyle a \\sin{\\left(\\theta_{2} \\right)}$"
      ],
      "text/plain": [
       "a*sin(theta2)"
      ]
     },
     "execution_count": 29,
     "metadata": {},
     "output_type": "execute_result"
    }
   ],
   "source": [
    "Ay = a*sin(theta2)\n",
    "Ay"
   ]
  },
  {
   "cell_type": "markdown",
   "metadata": {
    "slideshow": {
     "slide_type": "fragment"
    }
   },
   "source": [
    "Escrevendo as duas equações dos círculos com centros em $A$ e $O_4$ e com os respectivos raios $b$ e $c$:"
   ]
  },
  {
   "cell_type": "code",
   "execution_count": 30,
   "metadata": {
    "slideshow": {
     "slide_type": "fragment"
    }
   },
   "outputs": [],
   "source": [
    "Bx,By = symbols('B_x B_y')"
   ]
  },
  {
   "cell_type": "code",
   "execution_count": 31,
   "metadata": {
    "slideshow": {
     "slide_type": "fragment"
    }
   },
   "outputs": [
    {
     "data": {
      "text/latex": [
       "$\\displaystyle b^{2} = \\left(B_{x} - a \\cos{\\left(\\theta_{2} \\right)}\\right)^{2} + \\left(B_{y} - a \\sin{\\left(\\theta_{2} \\right)}\\right)^{2}$"
      ],
      "text/plain": [
       "Eq(b**2, (B_x - a*cos(theta2))**2 + (B_y - a*sin(theta2))**2)"
      ]
     },
     "execution_count": 31,
     "metadata": {},
     "output_type": "execute_result"
    }
   ],
   "source": [
    "b2 = (Bx - Ax)**2 + (By - Ay)**2\n",
    "Eq1 = Eq(b**2,b2)\n",
    "Eq1"
   ]
  },
  {
   "cell_type": "code",
   "execution_count": 32,
   "metadata": {
    "slideshow": {
     "slide_type": "fragment"
    }
   },
   "outputs": [
    {
     "data": {
      "text/latex": [
       "$\\displaystyle - b^{2} + \\left(B_{x} - a \\cos{\\left(\\theta_{2} \\right)}\\right)^{2} + \\left(B_{y} - a \\sin{\\left(\\theta_{2} \\right)}\\right)^{2}$"
      ],
      "text/plain": [
       "-b**2 + (B_x - a*cos(theta2))**2 + (B_y - a*sin(theta2))**2"
      ]
     },
     "execution_count": 32,
     "metadata": {},
     "output_type": "execute_result"
    }
   ],
   "source": [
    "Eq1 = b2 - b**2\n",
    "Eq1"
   ]
  },
  {
   "cell_type": "code",
   "execution_count": 33,
   "metadata": {
    "slideshow": {
     "slide_type": "fragment"
    }
   },
   "outputs": [
    {
     "data": {
      "text/latex": [
       "$\\displaystyle c^{2} = B_{y}^{2} + \\left(B_{x} - d\\right)^{2}$"
      ],
      "text/plain": [
       "Eq(c**2, B_y**2 + (B_x - d)**2)"
      ]
     },
     "execution_count": 33,
     "metadata": {},
     "output_type": "execute_result"
    }
   ],
   "source": [
    "c2 = (Bx - d)**2 + By**2\n",
    "Eq2 = Eq(c**2,c2)\n",
    "Eq2"
   ]
  },
  {
   "cell_type": "code",
   "execution_count": 34,
   "metadata": {
    "slideshow": {
     "slide_type": "fragment"
    }
   },
   "outputs": [
    {
     "data": {
      "text/latex": [
       "$\\displaystyle B_{y}^{2} - c^{2} + \\left(B_{x} - d\\right)^{2}$"
      ],
      "text/plain": [
       "B_y**2 - c**2 + (B_x - d)**2"
      ]
     },
     "execution_count": 34,
     "metadata": {},
     "output_type": "execute_result"
    }
   ],
   "source": [
    "Eq2 = c2 - c**2\n",
    "Eq2"
   ]
  },
  {
   "cell_type": "code",
   "execution_count": 35,
   "metadata": {
    "slideshow": {
     "slide_type": "fragment"
    }
   },
   "outputs": [
    {
     "data": {
      "text/latex": [
       "$\\displaystyle - B_{y}^{2} - b^{2} + c^{2} - \\left(B_{x} - d\\right)^{2} + \\left(B_{x} - a \\cos{\\left(\\theta_{2} \\right)}\\right)^{2} + \\left(B_{y} - a \\sin{\\left(\\theta_{2} \\right)}\\right)^{2}$"
      ],
      "text/plain": [
       "-B_y**2 - b**2 + c**2 - (B_x - d)**2 + (B_x - a*cos(theta2))**2 + (B_y - a*sin(theta2))**2"
      ]
     },
     "execution_count": 35,
     "metadata": {},
     "output_type": "execute_result"
    }
   ],
   "source": [
    "Eq3 = Eq1 - Eq2\n",
    "Eq3"
   ]
  },
  {
   "cell_type": "code",
   "execution_count": 36,
   "metadata": {
    "slideshow": {
     "slide_type": "fragment"
    }
   },
   "outputs": [
    {
     "data": {
      "text/latex": [
       "$\\displaystyle - 2 B_{x} a \\cos{\\left(\\theta_{2} \\right)} + 2 B_{x} d - 2 B_{y} a \\sin{\\left(\\theta_{2} \\right)} + a^{2} \\sin^{2}{\\left(\\theta_{2} \\right)} + a^{2} \\cos^{2}{\\left(\\theta_{2} \\right)} - b^{2} + c^{2} - d^{2}$"
      ],
      "text/plain": [
       "-2*B_x*a*cos(theta2) + 2*B_x*d - 2*B_y*a*sin(theta2) + a**2*sin(theta2)**2 + a**2*cos(theta2)**2 - b**2 + c**2 - d**2"
      ]
     },
     "execution_count": 36,
     "metadata": {},
     "output_type": "execute_result"
    }
   ],
   "source": [
    "expand(Eq3)"
   ]
  },
  {
   "cell_type": "code",
   "execution_count": 37,
   "metadata": {
    "slideshow": {
     "slide_type": "fragment"
    }
   },
   "outputs": [
    {
     "data": {
      "text/latex": [
       "$\\displaystyle \\frac{- 2 B_{y} a \\sin{\\left(\\theta_{2} \\right)} + a^{2} - b^{2} + c^{2} - d^{2}}{2 \\left(a \\cos{\\left(\\theta_{2} \\right)} - d\\right)}$"
      ],
      "text/plain": [
       "(-2*B_y*a*sin(theta2) + a**2 - b**2 + c**2 - d**2)/(2*(a*cos(theta2) - d))"
      ]
     },
     "execution_count": 37,
     "metadata": {},
     "output_type": "execute_result"
    }
   ],
   "source": [
    "solBx = solve(Eq3,Bx)[0]\n",
    "solBx"
   ]
  },
  {
   "cell_type": "code",
   "execution_count": 38,
   "metadata": {
    "slideshow": {
     "slide_type": "fragment"
    }
   },
   "outputs": [
    {
     "data": {
      "text/latex": [
       "$\\displaystyle B_{y}^{2} - c^{2} + \\left(- d + \\frac{- 2 B_{y} a \\sin{\\left(\\theta_{2} \\right)} + a^{2} - b^{2} + c^{2} - d^{2}}{2 \\left(a \\cos{\\left(\\theta_{2} \\right)} - d\\right)}\\right)^{2}$"
      ],
      "text/plain": [
       "B_y**2 - c**2 + (-d + (-2*B_y*a*sin(theta2) + a**2 - b**2 + c**2 - d**2)/(2*(a*cos(theta2) - d)))**2"
      ]
     },
     "execution_count": 38,
     "metadata": {},
     "output_type": "execute_result"
    }
   ],
   "source": [
    "Eq4 = Eq2.subs(Bx,solBx)\n",
    "Eq4"
   ]
  },
  {
   "cell_type": "code",
   "execution_count": 39,
   "metadata": {
    "scrolled": false,
    "slideshow": {
     "slide_type": "fragment"
    }
   },
   "outputs": [
    {
     "data": {
      "text/plain": [
       "[(a*(a**2 - 2*a*d*cos(theta2) - b**2 + c**2 + d**2)*sin(theta2) + (-a*cos(theta2) + d)*sqrt(-a**4 + 4*a**3*d*cos(theta2) + 2*a**2*b**2 + 2*a**2*c**2 + 4*a**2*d**2*sin(theta2)**2 - 6*a**2*d**2 - 4*a*b**2*d*cos(theta2) - 4*a*c**2*d*cos(theta2) + 4*a*d**3*cos(theta2) - b**4 + 2*b**2*c**2 + 2*b**2*d**2 - c**4 + 2*c**2*d**2 - d**4))/(2*(a**2 - 2*a*d*cos(theta2) + d**2)),\n",
       " (a*(a**2 - 2*a*d*cos(theta2) - b**2 + c**2 + d**2)*sin(theta2) + (a*cos(theta2) - d)*sqrt(-a**4 + 4*a**3*d*cos(theta2) + 2*a**2*b**2 + 2*a**2*c**2 + 4*a**2*d**2*sin(theta2)**2 - 6*a**2*d**2 - 4*a*b**2*d*cos(theta2) - 4*a*c**2*d*cos(theta2) + 4*a*d**3*cos(theta2) - b**4 + 2*b**2*c**2 + 2*b**2*d**2 - c**4 + 2*c**2*d**2 - d**4))/(2*(a**2 - 2*a*d*cos(theta2) + d**2))]"
      ]
     },
     "execution_count": 39,
     "metadata": {},
     "output_type": "execute_result"
    }
   ],
   "source": [
    "solBy = solve(Eq4,By)\n",
    "solBy"
   ]
  },
  {
   "cell_type": "code",
   "execution_count": 40,
   "metadata": {
    "slideshow": {
     "slide_type": "fragment"
    }
   },
   "outputs": [
    {
     "data": {
      "text/plain": [
       "2"
      ]
     },
     "execution_count": 40,
     "metadata": {},
     "output_type": "execute_result"
    }
   ],
   "source": [
    "len(solBy)"
   ]
  },
  {
   "cell_type": "code",
   "execution_count": 41,
   "metadata": {
    "slideshow": {
     "slide_type": "fragment"
    }
   },
   "outputs": [
    {
     "data": {
      "text/latex": [
       "$\\displaystyle \\frac{a \\left(a^{2} - 2 a d \\cos{\\left(\\theta_{2} \\right)} - b^{2} + c^{2} + d^{2}\\right) \\sin{\\left(\\theta_{2} \\right)} + \\left(- a \\cos{\\left(\\theta_{2} \\right)} + d\\right) \\sqrt{- a^{4} + 4 a^{3} d \\cos{\\left(\\theta_{2} \\right)} + 2 a^{2} b^{2} + 2 a^{2} c^{2} + 4 a^{2} d^{2} \\sin^{2}{\\left(\\theta_{2} \\right)} - 6 a^{2} d^{2} - 4 a b^{2} d \\cos{\\left(\\theta_{2} \\right)} - 4 a c^{2} d \\cos{\\left(\\theta_{2} \\right)} + 4 a d^{3} \\cos{\\left(\\theta_{2} \\right)} - b^{4} + 2 b^{2} c^{2} + 2 b^{2} d^{2} - c^{4} + 2 c^{2} d^{2} - d^{4}}}{2 \\left(a^{2} - 2 a d \\cos{\\left(\\theta_{2} \\right)} + d^{2}\\right)}$"
      ],
      "text/plain": [
       "(a*(a**2 - 2*a*d*cos(theta2) - b**2 + c**2 + d**2)*sin(theta2) + (-a*cos(theta2) + d)*sqrt(-a**4 + 4*a**3*d*cos(theta2) + 2*a**2*b**2 + 2*a**2*c**2 + 4*a**2*d**2*sin(theta2)**2 - 6*a**2*d**2 - 4*a*b**2*d*cos(theta2) - 4*a*c**2*d*cos(theta2) + 4*a*d**3*cos(theta2) - b**4 + 2*b**2*c**2 + 2*b**2*d**2 - c**4 + 2*c**2*d**2 - d**4))/(2*(a**2 - 2*a*d*cos(theta2) + d**2))"
      ]
     },
     "execution_count": 41,
     "metadata": {},
     "output_type": "execute_result"
    }
   ],
   "source": [
    "By1 = solBy[0]\n",
    "By1"
   ]
  },
  {
   "cell_type": "code",
   "execution_count": 42,
   "metadata": {
    "scrolled": false,
    "slideshow": {
     "slide_type": "fragment"
    }
   },
   "outputs": [
    {
     "data": {
      "text/latex": [
       "$\\displaystyle \\frac{a \\left(a^{2} - 2 a d \\cos{\\left(\\theta_{2} \\right)} - b^{2} + c^{2} + d^{2}\\right) \\sin{\\left(\\theta_{2} \\right)} + \\left(a \\cos{\\left(\\theta_{2} \\right)} - d\\right) \\sqrt{- a^{4} + 4 a^{3} d \\cos{\\left(\\theta_{2} \\right)} + 2 a^{2} b^{2} + 2 a^{2} c^{2} + 4 a^{2} d^{2} \\sin^{2}{\\left(\\theta_{2} \\right)} - 6 a^{2} d^{2} - 4 a b^{2} d \\cos{\\left(\\theta_{2} \\right)} - 4 a c^{2} d \\cos{\\left(\\theta_{2} \\right)} + 4 a d^{3} \\cos{\\left(\\theta_{2} \\right)} - b^{4} + 2 b^{2} c^{2} + 2 b^{2} d^{2} - c^{4} + 2 c^{2} d^{2} - d^{4}}}{2 \\left(a^{2} - 2 a d \\cos{\\left(\\theta_{2} \\right)} + d^{2}\\right)}$"
      ],
      "text/plain": [
       "(a*(a**2 - 2*a*d*cos(theta2) - b**2 + c**2 + d**2)*sin(theta2) + (a*cos(theta2) - d)*sqrt(-a**4 + 4*a**3*d*cos(theta2) + 2*a**2*b**2 + 2*a**2*c**2 + 4*a**2*d**2*sin(theta2)**2 - 6*a**2*d**2 - 4*a*b**2*d*cos(theta2) - 4*a*c**2*d*cos(theta2) + 4*a*d**3*cos(theta2) - b**4 + 2*b**2*c**2 + 2*b**2*d**2 - c**4 + 2*c**2*d**2 - d**4))/(2*(a**2 - 2*a*d*cos(theta2) + d**2))"
      ]
     },
     "execution_count": 42,
     "metadata": {},
     "output_type": "execute_result"
    }
   ],
   "source": [
    "By2 = solBy[1]\n",
    "By2"
   ]
  },
  {
   "cell_type": "code",
   "execution_count": 43,
   "metadata": {
    "slideshow": {
     "slide_type": "fragment"
    }
   },
   "outputs": [
    {
     "data": {
      "text/latex": [
       "$\\displaystyle \\frac{a^{2} - \\frac{a \\left(a \\left(a^{2} - 2 a d \\cos{\\left(\\theta_{2} \\right)} - b^{2} + c^{2} + d^{2}\\right) \\sin{\\left(\\theta_{2} \\right)} + \\left(- a \\cos{\\left(\\theta_{2} \\right)} + d\\right) \\sqrt{- a^{4} + 4 a^{3} d \\cos{\\left(\\theta_{2} \\right)} + 2 a^{2} b^{2} + 2 a^{2} c^{2} + 4 a^{2} d^{2} \\sin^{2}{\\left(\\theta_{2} \\right)} - 6 a^{2} d^{2} - 4 a b^{2} d \\cos{\\left(\\theta_{2} \\right)} - 4 a c^{2} d \\cos{\\left(\\theta_{2} \\right)} + 4 a d^{3} \\cos{\\left(\\theta_{2} \\right)} - b^{4} + 2 b^{2} c^{2} + 2 b^{2} d^{2} - c^{4} + 2 c^{2} d^{2} - d^{4}}\\right) \\sin{\\left(\\theta_{2} \\right)}}{a^{2} - 2 a d \\cos{\\left(\\theta_{2} \\right)} + d^{2}} - b^{2} + c^{2} - d^{2}}{2 \\left(a \\cos{\\left(\\theta_{2} \\right)} - d\\right)}$"
      ],
      "text/plain": [
       "(a**2 - a*(a*(a**2 - 2*a*d*cos(theta2) - b**2 + c**2 + d**2)*sin(theta2) + (-a*cos(theta2) + d)*sqrt(-a**4 + 4*a**3*d*cos(theta2) + 2*a**2*b**2 + 2*a**2*c**2 + 4*a**2*d**2*sin(theta2)**2 - 6*a**2*d**2 - 4*a*b**2*d*cos(theta2) - 4*a*c**2*d*cos(theta2) + 4*a*d**3*cos(theta2) - b**4 + 2*b**2*c**2 + 2*b**2*d**2 - c**4 + 2*c**2*d**2 - d**4))*sin(theta2)/(a**2 - 2*a*d*cos(theta2) + d**2) - b**2 + c**2 - d**2)/(2*(a*cos(theta2) - d))"
      ]
     },
     "execution_count": 43,
     "metadata": {},
     "output_type": "execute_result"
    }
   ],
   "source": [
    "Bx1 = solBx.subs(By,By1)\n",
    "Bx1"
   ]
  },
  {
   "cell_type": "code",
   "execution_count": 44,
   "metadata": {
    "slideshow": {
     "slide_type": "fragment"
    }
   },
   "outputs": [
    {
     "data": {
      "text/latex": [
       "$\\displaystyle \\frac{a^{2} - \\frac{a \\left(a \\left(a^{2} - 2 a d \\cos{\\left(\\theta_{2} \\right)} - b^{2} + c^{2} + d^{2}\\right) \\sin{\\left(\\theta_{2} \\right)} + \\left(a \\cos{\\left(\\theta_{2} \\right)} - d\\right) \\sqrt{- a^{4} + 4 a^{3} d \\cos{\\left(\\theta_{2} \\right)} + 2 a^{2} b^{2} + 2 a^{2} c^{2} + 4 a^{2} d^{2} \\sin^{2}{\\left(\\theta_{2} \\right)} - 6 a^{2} d^{2} - 4 a b^{2} d \\cos{\\left(\\theta_{2} \\right)} - 4 a c^{2} d \\cos{\\left(\\theta_{2} \\right)} + 4 a d^{3} \\cos{\\left(\\theta_{2} \\right)} - b^{4} + 2 b^{2} c^{2} + 2 b^{2} d^{2} - c^{4} + 2 c^{2} d^{2} - d^{4}}\\right) \\sin{\\left(\\theta_{2} \\right)}}{a^{2} - 2 a d \\cos{\\left(\\theta_{2} \\right)} + d^{2}} - b^{2} + c^{2} - d^{2}}{2 \\left(a \\cos{\\left(\\theta_{2} \\right)} - d\\right)}$"
      ],
      "text/plain": [
       "(a**2 - a*(a*(a**2 - 2*a*d*cos(theta2) - b**2 + c**2 + d**2)*sin(theta2) + (a*cos(theta2) - d)*sqrt(-a**4 + 4*a**3*d*cos(theta2) + 2*a**2*b**2 + 2*a**2*c**2 + 4*a**2*d**2*sin(theta2)**2 - 6*a**2*d**2 - 4*a*b**2*d*cos(theta2) - 4*a*c**2*d*cos(theta2) + 4*a*d**3*cos(theta2) - b**4 + 2*b**2*c**2 + 2*b**2*d**2 - c**4 + 2*c**2*d**2 - d**4))*sin(theta2)/(a**2 - 2*a*d*cos(theta2) + d**2) - b**2 + c**2 - d**2)/(2*(a*cos(theta2) - d))"
      ]
     },
     "execution_count": 44,
     "metadata": {},
     "output_type": "execute_result"
    }
   ],
   "source": [
    "Bx2 = solBx.subs(By,By2)\n",
    "Bx2"
   ]
  },
  {
   "cell_type": "code",
   "execution_count": 45,
   "metadata": {
    "slideshow": {
     "slide_type": "fragment"
    }
   },
   "outputs": [],
   "source": [
    "dic1 = {a:10,b:15,c:15,d:10,theta2:pi/6}"
   ]
  },
  {
   "cell_type": "code",
   "execution_count": 46,
   "metadata": {
    "slideshow": {
     "slide_type": "fragment"
    }
   },
   "outputs": [
    {
     "data": {
      "text/latex": [
       "$\\displaystyle \\frac{\\pi}{6}$"
      ],
      "text/plain": [
       "pi/6"
      ]
     },
     "execution_count": 46,
     "metadata": {},
     "output_type": "execute_result"
    }
   ],
   "source": [
    "dic1[theta2]"
   ]
  },
  {
   "cell_type": "code",
   "execution_count": 47,
   "metadata": {
    "slideshow": {
     "slide_type": "fragment"
    }
   },
   "outputs": [
    {
     "data": {
      "text/latex": [
       "$\\displaystyle 23.601702192173$"
      ],
      "text/plain": [
       "23.6017021921730"
      ]
     },
     "execution_count": 47,
     "metadata": {},
     "output_type": "execute_result"
    }
   ],
   "source": [
    "Bx1num = Bx1.subs(dic1).evalf()\n",
    "Bx1num"
   ]
  },
  {
   "cell_type": "code",
   "execution_count": 48,
   "metadata": {
    "slideshow": {
     "slide_type": "fragment"
    }
   },
   "outputs": [
    {
     "data": {
      "text/plain": [
       "[0, 8.66025403784439, 23.6017021921730, 10.0000000000000]"
      ]
     },
     "execution_count": 48,
     "metadata": {},
     "output_type": "execute_result"
    }
   ],
   "source": [
    "X1 = [0,Ax.subs(dic1).evalf(),Bx1.subs(dic1).evalf(),d.subs(dic1).evalf()]\n",
    "X1"
   ]
  },
  {
   "cell_type": "code",
   "execution_count": 49,
   "metadata": {
    "slideshow": {
     "slide_type": "fragment"
    }
   },
   "outputs": [
    {
     "data": {
      "text/plain": [
       "[0, 5.00000000000000, 6.32405704239262, 0]"
      ]
     },
     "execution_count": 49,
     "metadata": {},
     "output_type": "execute_result"
    }
   ],
   "source": [
    "Y1 = [0,Ay.subs(dic1).evalf(),By1.subs(dic1).evalf(),0]\n",
    "Y1"
   ]
  },
  {
   "cell_type": "code",
   "execution_count": 50,
   "metadata": {
    "slideshow": {
     "slide_type": "fragment"
    }
   },
   "outputs": [],
   "source": [
    "import matplotlib.pyplot as plt"
   ]
  },
  {
   "cell_type": "code",
   "execution_count": 51,
   "metadata": {
    "slideshow": {
     "slide_type": "fragment"
    }
   },
   "outputs": [
    {
     "data": {
      "image/png": "[encoded data removed]",
      "text/plain": [
       "<Figure size 432x288 with 1 Axes>"
      ]
     },
     "metadata": {
      "needs_background": "light"
     },
     "output_type": "display_data"
    }
   ],
   "source": [
    "plt.figure()\n",
    "plt.plot(X1,Y1,'-o')\n",
    "plt.grid(True)"
   ]
  },
  {
   "cell_type": "code",
   "execution_count": 52,
   "metadata": {
    "scrolled": true,
    "slideshow": {
     "slide_type": "fragment"
    }
   },
   "outputs": [
    {
     "data": {
      "text/plain": [
       "5"
      ]
     },
     "execution_count": 52,
     "metadata": {},
     "output_type": "execute_result"
    }
   ],
   "source": [
    "lista=[1,2,4,5]\n",
    "max(lista)"
   ]
  },
  {
   "cell_type": "code",
   "execution_count": 53,
   "metadata": {},
   "outputs": [
    {
     "data": {
      "text/plain": [
       "1"
      ]
     },
     "execution_count": 53,
     "metadata": {},
     "output_type": "execute_result"
    }
   ],
   "source": [
    "min(lista)"
   ]
  },
  {
   "cell_type": "code",
   "execution_count": 54,
   "metadata": {},
   "outputs": [
    {
     "data": {
      "text/plain": [
       "12"
      ]
     },
     "execution_count": 54,
     "metadata": {},
     "output_type": "execute_result"
    }
   ],
   "source": [
    "sum(lista)"
   ]
  },
  {
   "cell_type": "code",
   "execution_count": 55,
   "metadata": {
    "slideshow": {
     "slide_type": "fragment"
    }
   },
   "outputs": [],
   "source": [
    "def plot4barras(an,bn,cn,dn,thetan):\n",
    "    dicn = {a:an,b:bn,c:cn,d:dn,theta2:thetan}\n",
    "    elos = [an,bn,cn,dn]\n",
    "    elo_maior = max(elos)\n",
    "    elo_menor = min(elos)\n",
    "    soma_elos = sum(elos)\n",
    "    Xn = [0,Ax.subs(dicn).evalf(),Bx1.subs(dicn).evalf(),d.subs(dicn).evalf()]\n",
    "    Yn = [0,Ay.subs(dicn).evalf(),By1.subs(dicn).evalf(),0]\n",
    "    plt.figure(dpi=150)\n",
    "    plt.plot(Xn,Yn,'-o')\n",
    "    plt.xlim([-20,30])\n",
    "    plt.ylim([-20,30])\n",
    "    plt.grid(True)\n",
    "    plt.gca().set_aspect('equal', adjustable='box')\n",
    "\n",
    "    if (elo_maior+elo_menor)<=(sum(elos)-(elo_maior+elo_menor)):\n",
    "        print('Grashof')\n",
    "    else:\n",
    "        print('Não-Grashof')"
   ]
  },
  {
   "cell_type": "code",
   "execution_count": 56,
   "metadata": {
    "scrolled": true,
    "slideshow": {
     "slide_type": "fragment"
    }
   },
   "outputs": [
    {
     "name": "stdout",
     "output_type": "stream",
     "text": [
      "Grashof\n"
     ]
    },
    {
     "data": {
      "image/png": "[encoded data removed]",
      "text/plain": [
       "<Figure size 900x600 with 1 Axes>"
      ]
     },
     "metadata": {
      "needs_background": "light"
     },
     "output_type": "display_data"
    }
   ],
   "source": [
    "plot4barras(10,10,12,12,pi/4)"
   ]
  },
  {
   "cell_type": "code",
   "execution_count": 57,
   "metadata": {
    "slideshow": {
     "slide_type": "fragment"
    }
   },
   "outputs": [],
   "source": [
    "from ipywidgets import interact"
   ]
  },
  {
   "cell_type": "code",
   "execution_count": 58,
   "metadata": {
    "scrolled": false,
    "slideshow": {
     "slide_type": "fragment"
    }
   },
   "outputs": [
    {
     "name": "stderr",
     "output_type": "stream",
     "text": [
      "Widget Javascript not detected.  It may not be installed or enabled properly. Reconnecting the current kernel may help.\n"
     ]
    },
    {
     "data": {
      "application/vnd.jupyter.widget-view+json": {
       "model_id": "49b7ddb4d3a94ac7b1cd99389583b709"
      }
     },
     "metadata": {},
     "output_type": "display_data"
    },
    {
     "data": {
      "text/plain": [
       "<function __main__.plot4barras(an, bn, cn, dn, thetan)>"
      ]
     },
     "execution_count": 58,
     "metadata": {},
     "output_type": "execute_result"
    },
    {
     "data": {
      "image/png": "[encoded data removed]",
      "text/plain": [
       "<Figure size 900x600 with 1 Axes>"
      ]
     },
     "metadata": {
      "needs_background": "light"
     },
     "output_type": "display_data"
    }
   ],
   "source": [
    "interact(plot4barras,an=(1,20),bn=(1,20),cn=(1,20),dn=(1,20),thetan=(0,4*pi.evalf()))"
   ]
  },
  {
   "cell_type": "code",
   "execution_count": 59,
   "metadata": {
    "slideshow": {
     "slide_type": "fragment"
    }
   },
   "outputs": [],
   "source": [
    "from matplotlib import animation\n",
    "from IPython.display import HTML"
   ]
  },
  {
   "cell_type": "code",
   "execution_count": 60,
   "metadata": {
    "slideshow": {
     "slide_type": "fragment"
    }
   },
   "outputs": [
    {
     "data": {
      "image/png": "[encoded data removed]",
      "text/plain": [
       "<Figure size 432x288 with 1 Axes>"
      ]
     },
     "metadata": {
      "needs_background": "light"
     },
     "output_type": "display_data"
    }
   ],
   "source": [
    "\n",
    "fig, ax = plt.subplots()\n",
    "\n",
    "ax.set_xlim(( -20, 20))\n",
    "ax.set_ylim((-20, 20))\n",
    "ax.grid(True)\n",
    "plt.gca().set_aspect('equal', adjustable='box')\n",
    "line, = ax.plot([], [], 'o-')"
   ]
  },
  {
   "cell_type": "code",
   "execution_count": 61,
   "metadata": {
    "slideshow": {
     "slide_type": "fragment"
    }
   },
   "outputs": [],
   "source": [
    "import numpy as np\n",
    "th = np.linspace(0,4*np.pi,720)"
   ]
  },
  {
   "cell_type": "code",
   "execution_count": 62,
   "metadata": {
    "slideshow": {
     "slide_type": "fragment"
    }
   },
   "outputs": [],
   "source": [
    "def animate(i):\n",
    "    dic2 = {a:9,b:12,c:15,d:13,theta2:th[i]}\n",
    "    X1 = [0,Ax.subs(dic2).evalf(),Bx1.subs(dic2).evalf(),d.subs(dic2).evalf()]\n",
    "    Y1 = [0,Ay.subs(dic2).evalf(),By1.subs(dic2).evalf(),0]\n",
    "    line.set_data(X1,Y1)\n",
    "    return (line,)"
   ]
  },
  {
   "cell_type": "code",
   "execution_count": 63,
   "metadata": {
    "slideshow": {
     "slide_type": "fragment"
    }
   },
   "outputs": [],
   "source": [
    "def init():\n",
    "    line.set_data([],[])\n",
    "    return (line,)"
   ]
  },
  {
   "cell_type": "code",
   "execution_count": 64,
   "metadata": {
    "slideshow": {
     "slide_type": "fragment"
    }
   },
   "outputs": [],
   "source": [
    "anim = animation.FuncAnimation(fig, animate, init_func=init,frames=720, interval=20, blit=True)"
   ]
  },
  {
   "cell_type": "code",
   "execution_count": 65,
   "metadata": {
    "scrolled": false,
    "slideshow": {
     "slide_type": "fragment"
    }
   },
   "outputs": [
    {
     "data": {
      "text/html": [
       "<video width=\"432\" height=\"288\" controls autoplay loop>\n",
       "  <source type=\"video/mp4\" src=\"data:video/mp4;base64,AAAAIGZ0eXBNNFYgAAACAE00ViBpc29taXNvMmF2YzEAAAAIZnJlZQABky1tZGF0AAACrgYF//+q\n",
       "3EXpvebZSLeWLNgg2SPu73gyNjQgLSBjb3JlIDE2MyByMzA2MCA1ZGI2YWE2IC0gSC4yNjQvTVBF\n",
       "Ry00IEFWQyBjb2RlYyAtIENvcHlsZWZ0IDIwMDMtMjAyMSAtIGh0dHA6Ly93d3cudmlkZW9sYW4u\n",
       "b3JnL3gyNjQuaHRtbCAtIG9wdGlvbnM6IGNhYmFjPTEgcmVmPTMgZGVibG9jaz0xOjA6MCBhbmFs\n",
       "eXNlPTB4MzoweDExMyBtZT1oZXggc3VibWU9NyBwc3k9MSBwc3lfcmQ9MS4wMDowLjAwIG1peGVk\n",
       "X3JlZj0xIG1lX3JhbmdlPTE2IGNocm9tYV9tZT0xIHRyZWxsaXM9MSA4eDhkY3Q9MSBjcW09MCBk\n",
       "ZWFkem9uZT0yMSwxMSBmYXN0X3Bza2lwPTEgY2hyb21hX3FwX29mZnNldD0tMiB0aHJlYWRzPTYg\n",
       "bG9va2FoZWFkX3RocmVhZHM9MSBzbGljZWRfdGhyZWFkcz0wIG5yPTAgZGVjaW1hdGU9MSBpbnRl\n",
       "cmxhY2VkPTAgYmx1cmF5X2NvbXBhdD0wIGNvbnN0cmFpbmVkX2ludHJhPTAgYmZyYW1lcz0zIGJf\n",
       "cHlyYW1pZD0yIGJfYWRhcHQ9MSBiX2JpYXM9MCBkaXJlY3Q9MSB3ZWlnaHRiPTEgb3Blbl9nb3A9\n",
       "MCB3ZWlnaHRwPTIga2V5aW50PTI1MCBrZXlpbnRfbWluPTI1IHNjZW5lY3V0PTQwIGludHJhX3Jl\n",
       "ZnJlc2g9MCByY19sb29rYWhlYWQ9NDAgcmM9Y3JmIG1idHJlZT0xIGNyZj0yMy4wIHFjb21wPTAu\n",
       "NjAgcXBtaW49MCBxcG1heD02OSBxcHN0ZXA9NCBpcF9yYXRpbz0xLjQwIGFxPTE6MS4wMACAAAAL\n",
       "VGWIhAAr//72c3wKa0czlS4Fdvdmo+XQkuX7EGD60AAAAwABqtOyDQ38CHfmCmtZzg4BffV8Hn29\n",
       "H1YUXsOyX9tPUrU5wnsKX1UBtMMkLAn9NWRJifmd/CTfPUI9ReeNhkxgAAEPfxlGS5EgfnS7XSY7\n",
       "erBwDIgaQSKSmgyGvgf1GNkyMUj6E0NekH3We3mjhPPndDsde4p+1lWZge6jBVfZqNdu1yYeo6Hn\n",
       "TZY//2u3uccD5k3TVJidPO5F3nIH46xTygh81UWC51XXXppr6gj+f2w4Gu4INCCy2R/ZqAjxco/q\n",
       "3y8NcZK2qwBoC+WeDkQMUUuGnYBqb3pRQgjSAlQ0V+dKaMvMkIbBgM3NQgS9LoCoXwr8ZrGu8h8X\n",
       "7O7HrcL2MWfDWH4M5hF35DNeMaMJ+Id7k48MzpGiJn6i4TpQYMErsFqzws50JeBBX2exfSZpL14k\n",
       "HCEqJv8wwDTABy3Q1UuxwJ9Enf7RxJqMH16xRoCRkbD9EZYbU18a6lWwoc05dR7Nirr6/3IAEJqy\n",
       "1/r94Yxj0sHDFoMaGB/Zq/4B6RPm5Ye/mhYOko567d3x916Pe3ddu9ztqo7YZIF9OddUVsA2cH04\n",
       "rxt2FC/VSqC2AKsfuEvF0jDyKd1K42ZRT1NIXjKUaW1EvYEU4Q3tjUNRCU8eK7pw2LD0Sc9sCmPr\n",
       "jB0yBKhrW1NayaSDm/MeDq/4hO4KIl+kr9BpzWeTVXJ479RwAtoedpAy9W9p1EgnzT910OUHPJDK\n",
       "M3QpTtMDUPD9ghoNPMD9SrllI+Xuvxgroa3hElOOtQm1G4Myv/2x5R0Xz7cIA4kXAqA1IakKRKj0\n",
       "z9684grnC48s5o+AVwVsGuPf3sl6vDk1PXpEIQBbfAhMp2CgAj4e59j1FVRuhQg2Y833I3V33/9r\n",
       "TDPTqOxk3rbLABQBh+Ew64lhSA5Pfe0i+3VH1sL8CkYdOU3jrlEUz77nIg+6h7Ebpnv6jNuA/pe4\n",
       "JXlrhYBwhTkOA4SCDOFwzpduQ0ejU46NBMZsAYngQbqY1U6DiiII94JYl+lmd8OIYHIP6UmZLeV0\n",
       "fMfbNZg1d9/1jiS1tTNHTkQHkcnUpAgLOBjKND1M12sSoAMfTWmDy4JoDN501hn83xD/Jhq5Xlnn\n",
       "Wi+cfTsSqzTfPN0LHKM9BGf73o8W2DBsGNosYuHB0RW3+Dj3j1cSF2BfmENDgwj/EkUrf6d1lsWG\n",
       "oJJlVcKfllEUYUNIzNoRLGJ/O1NxjI0+lzV3vPAOpB7m6X9mt/sRzjTuSpV758HAEmNhctqbbAE1\n",
       "gJx14xP/OF0Lqri8oPUZ4gRfniLdqFOJZvhAFSmIu1SsbSJDef5FaDDBjhwfwvO/YjfDxDukkKVH\n",
       "mTCU0EvcymLq4FKLceHirEgiHjq6F5/xgelzgWjma/CN2NyLhZ3jb2f/6s8qRtnACraF9RZRrE8m\n",
       "J+/LxOFJq0GzFZI2ARxB+KQdAd6mz5Hc2M9STzrE7hKRV+VT/8bQGNGoYich62hFxW5snLI51H3D\n",
       "aFxLMJtrdRNZOidbZ/eokv9fuOD4SGLfhqIhMIS+4x49KUvqqt6waJXKYd3OBldCfzpJR8jJKMmU\n",
       "yZHD8Ft2tdw5tB1M46IZqaEbcGFfR0X4lfjbnKQ3IsuvKi9L+AtxZfViWNcdoZfaYP9epq75GWIC\n",
       "214dhntxDkzfWWIGHvXqvRE/LqGpiKT2zi4PL/2mi1nKOUdPomgGR7m8eJbOC0AMjTsP1R5i2LAZ\n",
       "56Bv9rWufpQPVTz0NNJWpt9yIgSeg83Pd2eH9rLWdoCGrx65HR8cYA6zUcEGU32tsJHoX3eDOGRh\n",
       "eOo7xwIQ6bwXYCnx4VEYP/NY/1KxfFD1FtbqGZITp/ud0QfVozbAiWy90ILL6DUBuPtCMU2m0jnO\n",
       "LCT8kD3ehWUsI7GBqzZFvdPZEQFHzN8kH4M4ChMhZlxau1ZCOB2wyYw1SKlRb4khGqctvVqB+8/g\n",
       "fuV3tOJcpV1QSiu3Nw/dsMIfRDHvDgGxfs14HTyy39R6nNWXcgchyFx82B6kZ+uX4hF4KTL4tG0w\n",
       "SmmGWeE3E5uGmttgzlmFqfe2D4BujE06MaC66BgAqAnM7PVD1Bt+3dwnuUB9DGJKMxeodCcI/fXf\n",
       "eSEVrpcGaPqo7xUHkdK2zYlvMY01wbnC3yyI+sAJSfjGeA6XWetfJfw9zHqqjU/8B3cd1IUSsCWE\n",
       "QGdCWVQKCd4A/+Jk8o8f+L3KSXS+bf23Xw3pZCcySjm0v2nBb2g7vdXuJVVM1f8tkwC2XtMVr6Ly\n",
       "y0LyUclP0S/Yo89uo1ofM0AUV1WuT7QhQWc8bIM6SoWNp/XASeDSNwmSdvxfNqWfKxAYTQjyhEPY\n",
       "dsimMa+P4AE035plombXsV3SoK1DPgoWdvSHOH40RMG0FkGW29Sh0e2DXJpMSK2+T6Y/RFn4WCIF\n",
       "/sIbts3P/QfaS2uziUKi39qrplbrxxZg/rBjp79iDBcve+/NtHb5hzppTZ+cMCgnQhcx4amBrbBv\n",
       "/Y/fvEkH2IEblttnu2bnHcvzYT6Y/FOiAZ41x2y3UrzmTolrQCNO3Yw/v0iIAbEHYoh/h1i9kwF0\n",
       "48d0X783nT+mABfBtc9J+VMgho1hdMjSO1bH7GJe5uuv1RS9WhNQafWuy/LWThj3TCOzvG87P7Q4\n",
       "9ErhVRoRJAIiSHtib9z2dB5wQ4T1y669bCmY2iT7pQf4jGNhifXIvOOZOwsfnXvsf4DScTN0lKAu\n",
       "y4zAA/LMC7K0GWD1IlCY8skV6S/wf99yohjK6x352ZewuOIsYB4lF0JOVQgXIZcoQdqhazuDPfzw\n",
       "ImbBxe1b/RfogRX79D9G6LKS9v/Az5x5Mn40VFJf2a3afLpEFTXU8XNfsPoWaSLypMLa65cMzFWj\n",
       "JHIse7yFPCAi9fIrisoEo7HiHnl2O4PlsoTDSvW5RIjUOvqkXInaHxrLrkCGCsVKlQXT5LLLvqFc\n",
       "9pdgM4AO9RSSD+mo9lGOmLq+vexK5ZMRuQLe1BVn7NVDByoJ3AsKlyU9ajs+gxk7rJHLmbZnGoLs\n",
       "Ry6waxQuoLIIciuwoRNZmrItW1ZwkIn7k1kBCRbxmM/Gt0x1ksxGQsxsjFaay/r8QtzfCGeISJh4\n",
       "5CO89a47930AZ5XV2gQQcxquV/SNdoDQBKd7nmRqx9MR/BKvs7V6Z8IpYPAzlRT/xMVnfvIG/liF\n",
       "LLQ8Gpf4+bHr1PJ3QxnJa4/PCdlsTOA7XQgqTA+p2H/tEKjonwG+RO51VM/8W5aX6BsFcJel+7bs\n",
       "EmpY0wzzhPdWMvYMpJXghRcT1yasfLmNxXigZ6viKwbG+ecufMNLWRqHn+9dpWgF9V9PGqPYyHeL\n",
       "xsQJPRFHW7J8zJmBRw+BCyy2LVD9ZoLOWMml9Ww4A2MKHYQKngWgH1RsTf+iy16HTCNHfTwdGkNw\n",
       "/sKDm/AjdMuquimG+07gXP5HjXtYFhkg6dd6wXF1ry8Ep1wH4xHv3eGagn0rXTi3KZr9BeADAfl1\n",
       "tu5Q3xVR5o+b3BTn/x8mptsXfIaMPAZlvY9vdMJwyGHtoz5vFjcffbIEOsXZlim1Yc3umdId/oyX\n",
       "msAffqbrap1ZzGzLtkHUnMJE2lYsf3aIznseME9uNZUryqsERxe9l6b3nKmwQEHrqT1/pWCW7fyI\n",
       "797DUvn5NP4MqZFOyq+InAOAZsF9wNaomIhdpWuPC4D3ZLsR1BFrT5ljX/qxkzKx9CrBq6ww0Cdh\n",
       "52qqLTVgZxLQPo5mJ8NexIZ57fbkzYuGLEB7B25KBKkm89iZP/FGu+2yDqMbwBPGun/rGWArXfE5\n",
       "bI0bsE74Ue6iZKzmi3VHZ6rflE019iX3blMgrt1CDmVUOIJ2Pvwz+ntiXj5JoYfbQASFAAACTkGa\n",
       "ImxCv/44QBngoGAJ0J0Zm8b8fDAr/5hZfo0/2uTWZVHGJ8ePxxNtE/ww/aKVqQSHNCu+ZHKQ9CKd\n",
       "ATQcuRvu6ds5sGD9rsj0mu6M57XzDQkChR9HIOgj9yvbqWKvnlo4IqeS/LDLkvdrRwAQ7SGmJO9X\n",
       "lqeaCmy0hBTFHiVR9MIOcsQw6rUTGy8yWVU60lWKTKqxGDeRW0X2LOFTaok7xtg74rIFO+zJl8tB\n",
       "0KMRkBjmUlhhrhSH9IXs9YzkNy0ZZMBpWYxGv9xi/j3P0QdxFOEYaf+os1G6a/7SHiXg3+tzqdbE\n",
       "CEsUrxZforLg4gYGTBNR4alrxKo+vhKUYQ6Pqu5DA54y9gsA6VIgxUAHQN8ridwqiON47bXAlrH3\n",
       "iI5NQProC6otZuebLrfDvWkPmvwgR/59AKhHezpyxpwlIxwj/29vpNWj8o2AaHn+1+FWS8sBp3ij\n",
       "DlhIKKDujzzym78umZ50WRQ1qnX60o4qA+PKP///UyxtzhZBkjakBizuE1FacBozheVPFWg5+CJD\n",
       "JzCpQkdcKF3SY8J1TQDrZQyp+W4Jw/wyBXou4SGEDnP8NU3hdphvN4KbZcIzP5YYcmFk8gGl6yup\n",
       "zAzzje4fRGTQ+NXh+HQ5CxgQkpq9DTaIvtotm6eLVlUxTJUmnSe3VfsUKySbxboenexUkPG5Vhez\n",
       "pEz0CJLpOsPfqHRsOO5iMSG3itSWPs2PyG3KRcL2PjadClPihVvFF8YKlVYPpyopWmUr/qOHfQm+\n",
       "6ZEH695yDRI1mfBk+v+mXJaAAAAAiQGeQXkf/wMf3ViHPu/7AA9aueL60FxNZ97bobHrJf7tUMgr\n",
       "+xlmqb+wjWVfUF7k107x6GrNUzcv1o3riZlkg21jytlg90612H2QVBfPiegV4ffPFCVAELgqqxSC\n",
       "AVN5TZ/KVip4Vl9jTJXgQkaxNsQr3C9Nsu0F/qkDk9JCtL+fjWQai6xhpTGBAAAA90GaQzwhkymE\n",
       "K//+OEAYLzNTrJL/DD/14BSRWLocz6jP/g7vi8GLmNTQdk3II4swV57e0tjZEVBmABvkjaUrA70d\n",
       "tTbxqWe2LKyh5mbRTW1iAdlnotJQCed10o/h1zAghHdO7ip2drNR0fs0884sT/vZL/s8A8GdXpD2\n",
       "XWBLpgBbtX7nHIY7ltqNJWMhxsuqHUxP+xXprq8v8M1bb3f1RsuoxFOjy1vpTbFQHAZCwQzuRi0J\n",
       "8wZlRmr8xxsdO0epNfB/acA4KuI+l5crYRbRjvIVtPyPeLg3Lb5m3igyDPjGX/yhEnyUYqTPoCYI\n",
       "tBOwYFMSMeBLkyYAAAD8QZpkSeEPJlMCFf/+OEAWjCX8MQC9AFJFYuhzPqM/+Du+LyEMxrQx/uy5\n",
       "BHFmGnE99ztJslFAeilv5I2mvuy0CtqV7tCwlwQ3HmbiFcs9RDcG2gy9WX9mwLWYQzdYnlcA7ffF\n",
       "NDxBYm6UUbM2fzxFkQA3+3di12lnl8bFDVwK9aUR/sXrccDu4rGyZ6uUqX31JB/h8V41DETDk9s6\n",
       "MW3ODMkasHSDPNLyKNv8ylhiLyKdgyERD/FsbehT3AxeZN30z4gtuhHUBXfvl5g3kgdavTsmW8N7\n",
       "3NnAj4kkEJbnrWt9QP08e1yecXbriF/px2/pK6ld1ZQNy0Mr/ithAAABLUGahUnhDyZTAhX//jhA\n",
       "Fowl/DEAvQBSRWLocz6jP/g7vi8hDMa0Mf7suQRxZhpxPfbxFZHEr//kjaa+5q+S2pYXpaNIKsCb\n",
       "HCxFHIT5XxZ33nWya7DcrGZdAImQvQLnAbXAsy8M0+E+FOc8PlregMsPS0mGioxTqR4RJxLwNcHT\n",
       "vUUsyW7GgnM6h3rWUVFOvygo0wvES35DDP1liejvOxbzeKiTI+5C4eKn7+PPsgwQtvhJCMk2uR5g\n",
       "LzBG4oWrB5SU2wCJ6/ABwbd4yBVIsVHNB0U8lm/EgzCQ3zZ2KQsPgZCLtBtur6nsFGLIVk9V/S9W\n",
       "g+MQyj2467xCHxWsuUddGrH3rL8PYNlIhR1s6B1lP+5aNUqPAFTsg7B4i633YC+Nt2xEdHHX6J8u\n",
       "u4EAAAEVQZqmSeEPJlMCFf/+OEAWjCX8MQC9AFJFYuhzPqM/+Du+LyEMxrQx/uy5BHFmGnE99vEV\n",
       "kcSv/+SNpr7mr5Lalfl17F4NYCvcI4/D01WQY3FXMBNaj7knJ6i59YJfwnWSkJY9TZUykzrG3fAY\n",
       "UdzlEdkc9vRQmjFJfRcxWuJidedFQLV3nnjtW2izLikG5BebUnfEVbIsJ+NB9SLNDqFZv0YWF4kc\n",
       "KSzUxWr/a9I6EnXji+AemEarqrDEToAZ2NVtI7CfJZf/XaqG/O8e0sUkws2rbRYUyOwf3WlWTpjc\n",
       "v7prvhE6FNkcwfRWGUyfShAYeJ0TJfY+wpQRovNnySVhZibH7peDk4eWg35ZtvCW+tlPbbjxlQAA\n",
       "AONBmsdJ4Q8mUwIV//44QBaMJfwxAL0AUkVi6HM+oz/4O74vIQzGtDH+7LkEcWYacT328RWRxK//\n",
       "5I2mvuavktqWA79O87ozDZ39empT4r9X1SUfeKmKTT8w7NIEbIISZ+nGjsa1KwOWSW/vpsth0N5U\n",
       "qMX5NlnXcsDXiFdb6ugaI4/UwLYlLpPbkIiWhzuIN2SfceZytgQ2AMccdmwv0p9AHDkNdgyL/X5o\n",
       "v1yx7gXRcWIhVQCgcgfn3/yAaNgyLR+LxwYS4RmRngEtUCalMevo7EBvkOj5a1aDv/GurhmEe/dV\n",
       "dwAAAR1BmuhJ4Q8mUwIV//44QBaMJfwxAL0AUkVi6HM+oz/4O74vIQzGtDH+7LkEcWYacT328RWR\n",
       "xK//5I2mvuavktqVYgvqejqEBD0k1WjiLu73DnYs7KqiH7aBLzAJQwPWSvZaCnuJNoEzCQKREEOG\n",
       "ujTCPOYFtRdhzOHI/fZA1XQoDQqzf5Z8TnsLsvZq35Ia1Np9EDpvEhdOCoDCsWnMQp2VJnNkD4Zl\n",
       "ApLAJ3pyKbgAOdfjOE5PefvbBHSQrR3uu0SuVtyFQSHUFUK6sPBQyAkBZIEAmZsAkN/lwebNqMFD\n",
       "2FYwh1F43XP5ccXU7URUKMkhaOuvFG7pyJFqsy+yXzCFjUlDZDDCFqA+ODxFERCPRDQ2x0Rlbxz7\n",
       "q/l8vuAAAAD6QZsJSeEPJlMCFf/+OEAWjCX8MQC9AFJFYuhzPqM/+Du+LyEMxrQx/uy5BHFmGnE9\n",
       "9vEVkcSv/+SNpr7mr5LalVpXY0SBIUSzWO5bdtPJIJGkejzFENwdCm02cNDcJm3pwh136itZq0oE\n",
       "A21IkNxuLADOuLcD/ZZq5tSwdKO/gCtRCy1FZMTDnzBwFQbmM8xsxxzJS9djOc2a+ibjtYpO3kQN\n",
       "KjwCj2I1WNMi6iejfyVQK//CzA3pIQow9olYQ0ZF7BbzJlW4VG13qEVPUfxV2ntjMrqmsY+44qVF\n",
       "j/dxoWmFFfa2GJDm8/m4x5u7TA0O+zpzx2tk+6q7gAAAAPJBmypJ4Q8mUwIV//44QBaMJfwxAL0A\n",
       "UkVi6HM+oz/4O74vIQzGtDH+7LkEcWYacT328RWRxK//5I2mvuavktqVWldxd6T47F8UUXxtECc4\n",
       "pWDrfQ216KKodDzBlhXMs+ZUAfiMIhcyOKr528x2mIDNXFUfeDqsM6sbeuHWyCy3erSoJARx8LHz\n",
       "9omGWl1FMrcj0EulCPWawNxr7P95rmQ5cW8ybiDQozAWjMjpQrog8Uy4WHVpNOSWmnSrgVSAPNEm\n",
       "NNausaexMqjKcqLalKWfgv2R2tt3DJ9xwbOrK42H4usLP+pr12PQOyOagmG81PdVdwAAAXJBm0xJ\n",
       "4Q8mUwURPCv//jhAFowl/DEAvQBSRWLocz6jP/g7vi8hDMa0Mf7suQRxZhpxPfTnbJRQHyv/+SNp\n",
       "r7stArBHSoWIo1fiNL6Sd0oUd/TztzPWWb3BBAPeSlCnzvgLoIAshlamrbVSw1HP2mQ8M4tlTW0z\n",
       "iC3WbDRr3D64YqNrG6okpROGq2CrgqK3DGWvx/Undz9gOszoKY2MF9EQYF90BXFImoiT2x45yeMS\n",
       "fWlqAHPCDQ5NpvW9m+ioxgIDuRMdSKzHV4oAIcj9DTwaWgn6j94FSqH6gcdobnG+mMi7yPC77JB9\n",
       "CUC7IK5uuDdh6Ykm4+TPmiq7HH73aSxxsbvmAxD8p7Zi8W8eaAdZ/+non6sES/mBDXNWsR1z5Wr8\n",
       "/wYzlfBzIXQ+1GW/uHlkJsMazHTELl6qa9BLoXF1+Dne8mZDOtf9AE0UAvsiib6j9wQ+BI7bEixL\n",
       "vgje/lwaOrVWpR4rM8unFjAD6UKJFmBAAAAAcwGfa2pH/wLp5/AAetXPF9arf7SH8gYxrvUKN8Sk\n",
       "ghBfY8K1+qNjftutO5HRdX0oUMOQJrX8auab3++YJAMSazlluCaD/N6tWSTpkf7EkVTXCLDN5rfx\n",
       "u6ohBhofXl3MZzI/yaxUfYfQfeUvdpUjXtsA9IAAAADlQZttSeEPJlMCFf/+OEAWjCX8MQC9AFJF\n",
       "YuhzPqM/+Du+LyEMxrQx/uy5BHFmGnE99OdslFAfK//5I2mvuy0Cm5I2F+yiSzWMIJOx9UxCLgC/\n",
       "1xS0N8TvSQ2x0O2Ct6/5fxcRZ8Uh3P2aRuMLQfFWIHZHOhWBOuKHNi5yHfUwNyS/8Dm1kliht4e0\n",
       "XEeR61gjAYVEHaXYimIU3JupYlwtbBv6CH97p/37Us9FdUGBDdjF/gkToBgmlB00LfnAGvCppJQX\n",
       "mppwy0MZzxb5J8bVvbbPXeXtntX/BQh/lR79kjz/dLlCoQAAAXBBm49J4Q8mUwURPCv//jhAFowl\n",
       "/DEAvQBSRWLocz6jP/g7vi8hDMa0Mf7suQRxZhpxPfTnbJRQHyv/+SNpr7stArWLR/nxBUZ8rqDA\n",
       "Z5GkKzdi2Md5B5Ir21JloM2OP/q00Hrh8PjtrMjc5WA85xLngdqg1bMGHlJT3ZxJHO1ZGLxZaWaA\n",
       "CbXF/+CgrOxmq9NKQgue+qETqadV5uh+TAQyk95JWr17VJk3y+cLQe4PDQ7T9hy92HR/sJDhi1iq\n",
       "K8BYfFT2J+6Nt3IwM2RuJwF10RhdQBi4DU5u9m6RBw1OoTvu4MeWkBXA3jFfh0dbM6AHCxuwwcd4\n",
       "fR9x9GLWILIyxcAvxOBTLCUEa6OQDwjGRrzOh8EeJ43XWapDUB0VqMavKhHY9E4iarBkpUv2RxvU\n",
       "TwO7jsTa2lnJWs3HOOs4SpWe5uF6IZX5Q1s55K5kqVZZjmTjWqXRR6yx39bBj9GEINmpVs+vryTI\n",
       "oxtkB7V/uQAAAH8Bn65qR/8C6efwAHrVzxfWq3+0h/IGMa71CjfEpIIQX2PCtfqjY37brTuR0XV9\n",
       "KC1IGqbBMv1G+h1mc9XaEpUb3ob9XMTfy+5KrZb4rbgTLomwMvYEiQJ5oEK9FARm1TQOr2MU4iLP\n",
       "plNNCZalyCbLPO09XKb9aYJhNQbsDqZVAAABEEGbsEnhDyZTAhX//jhAFowl/DEAvQBSRWLocz6j\n",
       "P/g7vi8hDMa0Mf7suQRxZhpxPfc7SbJRQHopb+SNpr7stArTTVTEZtt53HsBzPxxI//UDWGddH0c\n",
       "V2FfpQI8roKA6JgipA3nlchoBPojvEFdGOiE5ss8aVF00FUMjxP3x9NI+sJ+aoGw4VKd1kqw2zGI\n",
       "26Fde3OuHruaYFB/NKFSuMQFBToC9fsjidprjNPXAeu3M/Q1KrF5ztInI5jYn5mJ42SooE0jPmOj\n",
       "LokgeBhOq7dJifCyzYA+dUswPhdXxufrdkUHn/FI9t8aXfJUJ/ojOfyJctGmR+TYQDELJ5Qnmq+6\n",
       "42MaXWeK08M6TD5IkH2AAAAA/UGb0UnhDyZTAhX//jhAFowl/DEAvQBSRWLocz6jP/g7vi8hDMa0\n",
       "Mf7suQRxZhpxPfc7SbJRQHopb+SNpr7stArTUxCT3zDF9fZmkjYO898TYo9ZPnYE5EmnlJs6dZlB\n",
       "TsL7VUN8f47eQrZLr5GVc1cCCcgaPTEqWqqDRKW1NoxSlaAw9+l48Be/UEpZLamotPJ7BcOn+P+g\n",
       "GLcRBd17y49CE3D0k9ixEvSxhRTr/k2OijhuQUBR8P73KmkTPlhR9TGi0G2xIl9H+UUDaSPjWG30\n",
       "s+Q/E2umUAgoOF8t7hAWKnkmfs+wt6olSKgm6Ju8zfayAb8NiYb0Q3LqhgQAAAFQQZvzSeEPJlMF\n",
       "ETwr//44QBaMJfwxAL0AUkVi6HM+oz/4O74vIQzGtDH+7LkEcWYacT4zKp7Vhh46WYq9OgAUrUM4\n",
       "CwIA75LUy130sp1QxYvus1kqM4yNZ/vzV1dA9xKdusc9kuyQAABA/A1q4nmjwQ1a5bG2PCUpQrar\n",
       "euxGdgCjTusNe5s+2TsoFrCpSI0B9ENQEkz3EYI6VgOhJfbFJ3GpRE6eAsXigZ8hLrFx3Yax16Wh\n",
       "YlLAx+2vHvqfvn8x4RVqfQNdYvMWqBEyyQfm6DF/07rvKTPVnPF3MA11G40gLT3hJbyj9ArGPlI7\n",
       "Tmn1YToJFprJKQqIYyMaeaUMQpw+yvK59xbssp0YAboLqwluzKHnsGXLXqv4FX5PqVP9rY13GPuC\n",
       "5TH8ZFfmPOSq/4soygjqH1SRBadmT4KAzsAGXN/8TFi0SPC0B2BwxJSRAAAAdwGeEmpH/wLp5/AA\n",
       "etXPF9arf7SH8gYxrvUKN8SkghBfY8K1+kstHDlxVdVyUj9KCzXf4Oke2+u/D4y2C+W9Itw8rRb6\n",
       "8WTNXfY2AXvwfjGU6VeTwbSwYKN6iUAk81O3VLrjF1h8zboPTXitvu6sUB1dsjgJJxtoAAABKEGa\n",
       "FEnhDyZTAhX//jhAFowl/DEAvQBSRWLocz6jP/g7vi8hDMa0Mf7suQRxZhpxPjMfx/ErvG1C8EqW\n",
       "X9ZCgzgLAgDvkthtGOnIDjeQQrfAQig32TEYcD/tz/y65t71cb91XUDm4b3msfoTZS94UaKklZpe\n",
       "mXlY1A30J3PSjM71nUSAGgUyS9VzPz5R+05RbGShmRaBMa4LY472DBS/YWSVQd0QLfszmkz/DS8y\n",
       "CYo/imwsZW0+siWcIihCiV4Ci73QMEw1a0dCJBefU8Hwn5HI7IwjzmX0f2HgzYznMeYa86ilk5tQ\n",
       "9NncDintIiVMeVw+tG2oBybKyIihALrGfCB5GtgTtAEvuxbBf+hyw3mRLsfQRceHHQNuIvYHCB6T\n",
       "BYdF80fZKWwQAAABF0GaNUnhDyZTAhX//jhAFowl/DEAvQBSRWLocz6jP/g7vi8hDMa0Mf7suQRx\n",
       "ZhpxPjMfx/ErvG1C8EqWYJ8YdiIFgQB3yWwOuWG/EL1R3YuRGGyCmEs8hrfShho/0ZaB31c9uhk8\n",
       "V9FGMW/M+7b4PusKL0TKZ0uM5AX8tgiZPTHKQO65DmUUrQEwqfbqx88vPLOT5BtAZkIOQYJsGFjV\n",
       "yj1BfUJxpDi0AmI6hHXRFh1vKujZp/qvPvPSkJ2/+MxsY9b0EtO1rneyEuCa9TCkP/hqHmU9gK/o\n",
       "0vQkIXzUyjdmh9TSSad0EYIL9dAGZhyN+UkhEocbb6F8z+/TBLARfIx6SW0HK4iPKU0ETGwzsTq7\n",
       "pQAaCbh+EQAAAPBBmlZJ4Q8mUwIV//44QBaMJfwxAL0AUkVi6HM+oz/4O74vIQzGtDH+7LkEcWYa\n",
       "cT4zH8fxK7xtQvBKlmCfGHYiBYEAd8lsK/8I78EATXIWI2F5FJ19P9mmK60RonNrOPSVGx0WeE51\n",
       "GN+82UYyEhkB/8kLj9yr+2/nEpsW9j4pmuW/g1+iEP52EYy263CjSrBkli2aLkWOBZiSWoZhV2UV\n",
       "qIJIDwp9ner3Yed5pYBtCBT4Xrq3eOWt3pH+qvZ48oC1xM6TEQvVZqFAG2jBVfbT/FWfjQ/7+q0S\n",
       "xadgXVzo/xr/DVy0cLM3WInfPyMvmi4AAAEEQZp3SeEPJlMCFf/+OEAWjCX8MQC9AFJFYuhzPqM/\n",
       "+Du+LyEMxrQx/uy5BHFmGnE+Mx/H8Su8bULwSpZgnxh2IgWBAHfJbEE5rYuRJz8VYuhPLVSiyn4+\n",
       "kI65v5TMM+J8XXBuwg5GVSckbdrNsK9zb2y3GGqnuC1tYyI2458BhW9pEXWB/98rafNF0Yzti2IM\n",
       "KHy1QMqFf023V6wpEVzty/1Tax6QY6cqDG/eQ5cF0TidH2B/wRn65saL1ITEsieJNvt3ga02D9KU\n",
       "gnrLa5fLM6sNHEl4PYLbeP1t5Yn1FnJmvw/JaAJYED/l9qJDT+KlbreyN/ED2jM2prTQwxRoP4TA\n",
       "oIEAAAD1QZqYSeEPJlMCF//+jLAF6td/DEC5UA1d8B0OZ9R//wd36emNx2jdMUVvv8cWYa8T41JA\n",
       "tMOFkZIwiKlwIfe04iBYUBeFtsQTpoICslk5y/zH9uPqnZWnaIHU4T3Bd5uoDxDH9XC79XHv4MOa\n",
       "dWWns/Q6eLa/MYan06bQKEDfnLTSohQJHzo5pADfR0W5YO8pD35pJQIz+UJj+uFNSnv+5PbJ8VF+\n",
       "llp6xxWCn3mS2KE7brnJgtWZGZzmhvn5sPBzq/StLbhDkiGgR4HFG9tIRDOnFNxGrnca0lctACqQ\n",
       "wJKwKD4nJOLY3g9Jwm9pZh/ZFIhKIuEAAAD1QZq5SeEPJlMCF//+jLAF6td/DEC5UA1d8B0OZ9R/\n",
       "/wd36emNx2jdMUVvv8cWYa8T41Lq+1hoxZXMWVLgWf6JxECwoC8LbYgpwEA90reWCiCxeUkyU86f\n",
       "XryiWZI+nrey8tzYB9CTV+Rara79pfvAvb3cRg6Vqi0MvNlBVzzQXrSFM8F6Le7Ge+nfGUIFg+zm\n",
       "f26snHCebAXs1y/QQRsxebHV3Qobd4IposhE+l5QCSdAZNXB0qpoRJHij/bF23/WI1PGhERwSM0f\n",
       "wsh+4ggJIUKjxhXTYVDUqFJ9ExFODeBy7rCtdC40yeo/su2H8JKHJkvZE4AAAAHaQZrdSeEPJlMC\n",
       "F//+jLAF6td/DEC5UA1d8B0OZ9R//wd36emNx2jdMUVvv8cWYa8T41Lq+1hoxZXMWVLgWf6JxECw\n",
       "oC8LbYgmoT09vySHHzBwZOTEykJQ6iMEvnWQq8DhJuVE+qBaV5m69hR7vwGZzwRhq6jpzGXxD+di\n",
       "UvSjz56JMhV/tl2+h0kapi0BsDc+XmA8LRh6VKE83V97GMospvsQjYy7CGoTXEE5otVQBzsdNLxa\n",
       "2ZyZVGoT8WDcKxxrXvSovN267k6CBzPJ2oNJuim6vQXhVFhXZSe5xpT9122MTWGew5/rJViY4DHw\n",
       "GpEExbcrbP4yebt0r18s7XXMedaxX5M17VO/P+S76nFpyV0vpBlUbgPBTTH2rgyorK0E6y+Nr7bo\n",
       "HlnIwFwbsLCYIM2QJj6Agx8HdMtxZlHtJ5I9cqIJCS8XPxPQmhhZVl7/vu/1hW4c2NN/93QrTGUI\n",
       "TINlSXerI5dWCCoMrlG+CDGRQKbjbVgvyQ86sNUJaKrO9+LzTrLNJOHBkFkX0tSccsOvkfJOGy02\n",
       "9CyEXXyBVVLle28SSj5aWjnvorP537ZoNKHflpBChCm0aNtSAnGX1eruN85CdWPgC8dFuH3jMmCQ\n",
       "yNA6W+f6qwbNAAAAkUGe+0URPCP/AdHt0gBYbwG6iG4aQmKPou68wjT/2zrs5rxhGTLAhXD4JmYF\n",
       "V+JLnJAyd4mqWWPpETScLKRuVmQPAGvabO92NJfox5DE/7BU6gsOJOdPuEJGM3YgcPrevviC5+QC\n",
       "o+OKuSshN0ZWz05EP10bHk6fDZuIWNVhFN/a0Pt0NHEjG6f2ICBdSWv8pIAAAABZAZ8adEf/AuYp\n",
       "LCmZnTuVJIZb4sRZfermlaI7NFtmkb8qAAugDc5qQzHnxrw9H7nMGFUETm7VTOJhM8tr91BRR3n2\n",
       "0KZfJKL3H0rG9lKa+szwVr8DfLMQFFEAAAAuAZ8cakf/AueYSCabmdYPaoRkK3ZSMfIdoCtvHhfF\n",
       "OFpJswEldhKAVcHhn1AqYQAAAYFBmwFJqEFomUwIX//+jLAF4MrJgAZD3s6pwVS+nky0/5TpY16s\n",
       "bK/aYc+EZ5voIlFoyfQ9eLbZ22zul4t0sQPAHpGO5Kqh89Vtc4Qy7yXaTzChSq7zm+rORqwPpQn6\n",
       "ajlvLPjDWHKz7ihlKF2cQrS2RL6JXP/yaqGk4i1yyysuDc//adrL4d8HyruK7sp3Hwll/rIlnSSg\n",
       "bcUfSYyA/+rFFVccfFSmctq0KpH/d1VKRZmy6vl8k34w4YZ/5SrfGSWNuxSuyEJsx6mzugD2Td9K\n",
       "RGROsp0lxazPL3baRGH7hMUOvDAdQiyTwhyF2BxVICO+M74P0XtpM21rOTKO356+xX6cAm/W26TG\n",
       "EjGl9kkP6VzAOgFsgD45y+OhF1Sk5F26KIuO2XnuiC0bAuSAtY/Qd4+mFuSRtUEG966ZLHXsl3rg\n",
       "rbmRmZL6iOyd8JueTUoxVZbQ4I4kLsBOP4Bn8miOyeHLz/YUIZHOFdc4y6vDWTFubnCJyDPnDAaA\n",
       "f96SNcm4AAAAd0GfP0URLCP/A9cYDb4gPv4/wrRFANnevOEkeYtxjGvPbva/9H14/j63vTL4aaHf\n",
       "U7FhWgBx939XkYrtUnyFmNfhvJJyWhZfNKKTCg4UsZHN764RMbiKxf6gz1oeYK+RTmry0jXU77PP\n",
       "ODWcQ1ZgowHppru/en+AAAAAQgGfXnRH/wTUapIQb2KkG+IFcx3MLMhOKfl5n7zACVHNO09wngGr\n",
       "Mz1tIYUSV+LpspVOmqIKGjB08mkwZ+JX0l32LQAAADABn0BqR/8F+8/+aL3AtRzV483uCNNO5hLU\n",
       "qjFzY1IxZDphwaEby1x78dYUk9q3n+AAAADIQZtCSahBbJlMCF///oywKln90bPXh8a+jLAGbLxa\n",
       "FpqttFMgFdy6y1n9u6ltoqjHAGXvwDqxR+TL6nSBxwV1QUHV0ZF07RPoL9eCHeLRFSgIocLC9c2h\n",
       "sW0hh2gWmZm3Gyc69VW/Z93fGxwPe/TB4qp3A+nabF65z9ugWumVAcp+AxozeyT37OkRjtAn90LZ\n",
       "JJpkOxqYnO0nC1AefgX6hOi9xGW0OVPjq+7olNAP5OE57BaX1lGnBZLeNVFn6+KD0KriSdhUPSEA\n",
       "AAE8QZtmSeEKUmUwIX/+jLACUBAt5zagOnKQBdWVABxvFTnlL5ml3tbXwPVpd+HsCKiBEuIe9a6l\n",
       "aB4gWpZYoF5XvB3dvkNuLzwddbbnTyCxXr6JJdOJrP57OWGuBO18D/5mfMyZVFPMiMKO4fAdcsC6\n",
       "/McHKMrNtgYecuW52zGdkjPbKg8YqWvKRzCeJmEvLEGP/qsEMJ+rxD9lGC6qr282oyydNuTZ07Oj\n",
       "mfCGNDYiHfOrgJpnucSW3cwRl5xjcd8aj5pgwoZ0rBskw2930cQ569poaGw1fHlcEIBEF7hswiGj\n",
       "fFfym31in/qrC8Wztg4UfOh9iSvxgQq/aiGA6fA0rG/S8uSOMPW+lf9y0HAn8WxK8JB5xMbMagx5\n",
       "bCALM8GQZHvCjDf3H799W3FvA4IJAZaa0mWjSXiRMjFl3AAAAE5Bn4RFNEwj/wC/A2Aes9srL00A\n",
       "nUU/HNymEzujfOFLiAFP0TL9hdnp14Ec52GjRd4QAKRs8NmuMWXKjjOqdN/L+wUlQkab11IxaT1l\n",
       "5kcAAAAoAZ+jdEf/AS4Z6kSj+nMgfeB9E59BMCWJCIGTTtlYCK9BhhIHtU6YsQAAAB0Bn6VqR/8B\n",
       "LfghfoNY1rsyHobOgDqtR652iGRx3QAAAS1Bm6pJqEFomUwIX//+jLACUBe0UCxTTQ6msAmtOfor\n",
       "SvIR+U7o5go7Vc4Qdy8R9nPmu50qrSFVy2sby6DG0Q81Fryy/iUDDjfhCJaMNlKj3oQUFq9OTZr/\n",
       "ss7gFMzcTuVdfdg/P+s5sjsaCmbguY9xFAeMpQuzPzUZxSdxTzci78cRGJNZylHmLnY3sOE+seGT\n",
       "HWs7p565TJlNJkZkETlBPBdHqAavcoJCvVutHZiOQ+55KuSgbkbK66uWxd+YSqcPl0jD7jYZGSqQ\n",
       "BQp9GpX00P7H/vRcITUoZt23COSRv6WEED85HsxbaVrj9g4z/TGeC1RxXeqBzjef/Kp+pU7zgx1+\n",
       "HP+zBqTPCVcCsrH3Dim7dpAxiV6k33bJM++xcJ14O8Qoq95SRvmoBCyhAAAATEGfyEURLCP/AL9M\n",
       "HlF2lFiXoPtbrlGTEJBjKD50AKl6rpmXi7Y8sjHR7Q1T1rcpiAFdYgXLnYeXTwpAZ/R8Wth207Lh\n",
       "CMymH6H+yMAAAAAoAZ/ndEf/ACeWSo7yWoEAE6RSQfA9fsZPW5DDbOueCXWBf2whkYxdwAAAACwB\n",
       "n+lqR/8BLY5h7q0TaGVTllwATSlp1GjgAfuQHf9D5W+dR44+5cY+nZTlgQAAAM1Bm+xJqEFsmUwU\n",
       "TC///oywATA5x6IlgBSaQA3RN8AjtpJbSIGlfRpDm6brISzd95QzhuczenSrsJxgVQZ+IFSdrjH8\n",
       "eLfL6A+s1UmAH6iAuY4LqSkDT7IbV7+n7IqsVTJNtvL80ZhjONuPJ58OFuN2ZeHVvgiaf7LmKSfZ\n",
       "3Kysi0Iq5U47qxeSHZWmJP5KgCJUq/niujWc+txxPRgQKRxfLHyL7GMy9fV5E77tgfO2Nih0+AE0\n",
       "SrWks+PLoLSHfJxwJsCor5T25H0kRttzAAAALwGeC2pH/wBPjApw5a9wAF0AE6NjbX9IHk5S9iJU\n",
       "nJwM5vv/Jvi+HfdisqaOZ+nYAAAA+kGaEEnhClJlMCF//oywATA4tl8ALzAMg1rULSqHXeVzQvbK\n",
       "D9rLkxCFkrt9E+vtS/UFCvw2L8p113BCAFBD73mXXv6O8gST4egUxVrZvuSuwjQfBPrU/I6VZUx+\n",
       "yLWgpmLRaxhn+xPDJnBjhRtdi2fOcP0GXmbp+hz9dj+iQ+XnDSe1wtM/vNp4dx1j9ygGejGiZ8Yx\n",
       "GmyGTloi0GNzF1/2uH6DAARa30E9C0F+n3m26nco3/6uvmicHuHq00G+m+33lT0rzFBmZmP2kR56\n",
       "gUXS+P8Kg8GTViHIfqsjM1+JCndA/9lgu1VWtstuiHHmmdQFByNstzZUB/0AAAA7QZ4uRTRMI/8A\n",
       "YcCVy3O4hBIQyJBAkAkl2wANGbauHlCddd+rH8vwpM69GE1rBTNHiWKA9bmXkRSSKL0AAAAgAZ5N\n",
       "dEf/AE+3RiD0WSCptGdufH+Xb/I7KkyDuSBiB8EAAAAhAZ5Pakf/AJo74STQBL7J9FiMmDD1YRoA\n",
       "l0zrbu3jpKi8AAABC0GaU0moQWiZTAhX//44QAjn0QTzHTgHA60QBMjPHQ7WwClCS4/89WPAV8VX\n",
       "tsWMe+XvZOZ3vNzSdq6VURSWqU6+rzzuNmoUH5ty3LPFjvMW0bWb8J4UL7rzv0ymo2iBbYVohzjv\n",
       "uv2HISagRQ08d56FcKxYo3E7URTxucrRAf7PLrtoRVGc0l7L6Q+31mmFngZLdwB2otk7psj46x2e\n",
       "npwOQRPzPa6NePSRWvgYoymXjEKFGdadFIZFCyd0EOoiMgtj3Yf5uCdqFwCqeJCTFBcGnfzNOpwU\n",
       "PYhtT2LKK0kREaKsPW7z39Z6zjZY6sZkn3oEOYWYeWkoEgsKDuTFpQcGeXXdRly0NfEjAgAAAC1B\n",
       "nnFFESwj/wC/TB6SJInM5DC+CyJQC+xDIJfAbICdn76d0IrFSrIohXKIk0MAAAAtAZ6Sakf/AS2O\n",
       "YoSYjsBkLVtFc8ZTLYjgAkdmbHqYLPU7n9m9XibAOOeH8O6AAAAAe0GalEmoQWyZTAhX//44QASZ\n",
       "gJSCATW6XshoPohlUjdIv+G7cMtJ1ThU8SNPcsJysdHPOprEG/cEUHZnQAI5KhVwsl5lN/Lbp1pH\n",
       "IRirxP5E1NL9PYUMcUsnRcl9JCSmLY3Wf74pNBd2djhj8Y8h/cyb2SEGD6LJYQ/zsQAAAJFBmrVJ\n",
       "4QpSZTAhf/6MsAExYcbxgBzRorJXRAMQWIFuYdwhqzWBl2R82hnkFPxBM4DRZN6RnErKwPa+vgHq\n",
       "+J/AeOHuBicZNJWlQUNI1B274Fb604YS9V+3GPk5u1D7Tl/t/EzT+ooH4R9shJDC2N2FIJCVM2Hc\n",
       "DBvd6Q6yMcyhbepU2cDh/38qle60+I9DOixRAAAAx0Ga1knhDomUwIZ//p4QAktHkgAAU4G4cD7m\n",
       "sB540j7gcW+xRwifJHLjrUex905F4gVx3JoV9c7rkPkXWuZsyuA73Olh89dBL0YGzvPAxMRZoKw+\n",
       "EYul0zDvtMvkSPWCrp9xe0VV8fXvohvcVizQWImXUc5n/YPmhwcneR7SDcz6YFyN4zMAOriX9h/+\n",
       "xtfHXhHAnguSkcDBCZuEBNOH99585YdATtLWyao4FPWkBe292VJ25+RbB2dGnx7HQEg+PtlJpHdQ\n",
       "yFAAAAD8QZr6SeEPJlMCGf/+nhACS0eLtJU0wc1dTKFQAtQXqKYy//4pdzkYBKspFphZHOT94xic\n",
       "nGGt7erpWLluSxFZ2eXW8nnYPEPzyykDcfluUHKoVtI2iLHZAJJf5DPBuT6uFXN1YUi25DdGmOMr\n",
       "4il85sKNNx/dfmQ/g0qeUzujySemM6KFV/d5/i6eLHsNCUyJdD8aQcdpFXqAOzutKL86VC5vQLzJ\n",
       "zOOn4+hI+RrwhhyQME9gXvWdlAXT+xT4BjjtHHtB3GjTTc6VMlpjxEwqJJ6Euq4MCWK0+KKLRGsv\n",
       "oT0Pp/6umzjr89dNAxKLYqmZBuMFCQONFlaEQwaBAAAAOUGfGEURPCP/AL9MlSs3/GA1k12Je0Dd\n",
       "Urrhd+xMuTt8ToSk2fGLxJtsQLM2E/eRojgXEAzjwW02BQAAACEBnzd0R/8AnwsD33GiEgXWZMcK\n",
       "mt7uj6BhyjzMMed9W0AAAAAjAZ85akf/AS2SV32dLG0GtexohTCgrsrNysKdO4N323hct3UAAAEx\n",
       "QZs+SahBaJlMCF///oywAlAPk60bK7qiuXXUoTLYmK4XhIGELW1E9AXxwlcmLUdR+yFKtxwN++Aa\n",
       "QmDnklLPmQcKNcfhQQRd8kpPwMjRWUNa1zyG1tRnRSPemo+akkWMI1Ykh9ttWwGV08AuSmGM6APc\n",
       "8MQC6Y5xNsLHf5cF4jLbNRXR7UTVMUt/tqA9Hamgqhd8+QljSCnO/yYTRBbD6KUhu62XBjZPnASL\n",
       "JTsI4FA+dCuOvzTIIvnIinavUeALr9m5IpxGvNCi4fyUOFxHuPVH3GAYd9P8g327d3ZHHiW3xYAk\n",
       "8hj++SiqcUZ9znHSdC449awJIVcntYNOt9xlQpPeFJyWStrwVekCxe+fJe5gTgGzcrHh+NG4Xzzi\n",
       "vsOik6Q5L46clZzlWnuK+fzoRqwAAABBQZ9cRREsI/8AvwRGTdPoAesskyZFAfd6sPACL8LMOJJM\n",
       "ojpfc/WMB3onRf90p3ZMJv4dZEuSemi46blBnvXkKSEAAAApAZ97dEf/ASzu7RcQ0MR6/uY+mcWX\n",
       "LtubVIBahQxRLjbJPnV9WyxJsqEAAAAgAZ99akf/AS35HHb/Dzyp1uEakt9nPzgAfIXL9RfeomAA\n",
       "AAELQZtiSahBbJlMCF///oywAlAPuWcAIwNDG298TpJLcW58ZvSuPPz42yZETcKN77KlrTsV6q44\n",
       "1ooFiwCrnRtbFpuMQnKxB1t4S/DBKmyJfIZ7bVlfc8HMxL63B5oq5rrIJHjidZRy8dbaUOg6yXlL\n",
       "MlSSGAr8L+Sgf3//n8AR0Lyi+W2gQzBBR4YnM27NGFiYDmkZZ5b4Cy+tqcm/+Jc3B14I1IeJ+d36\n",
       "98yfgfxOs+tfWOlKWruAgIuOGf5StYimklCnW7tkWiazPN8x1zub6UStg5mhPHRw/yWE2ki20Taf\n",
       "HnRR3mM5tDYXjUNvTHZ2zVslkbgBOqQl90+4RzF7Kc99HI3+PwmjIkfAAAAAREGfgEUVLCP/AL8E\n",
       "RktL8YA7my6rJ1yO4g6XiZV/GhzGAIYAo78c9VwLUWQUmpse4gE6rdr2eE4vdJ2fZ58WWIzMYKYF\n",
       "AAAAKwGfv3RH/wEtT1nkFNBX6CTHGJOr7lRTRgqaoCNYAJkV4FmQHChofU+fw7oAAAArAZ+hakf/\n",
       "AS35HCGJ4F2+TucHRgBGB6yNhZYaH8Wph471LIfrAA7Jftu5YQAAAOlBm6VJqEFsmUwIX//+jLAC\n",
       "UA+kxAES0k7gbbGmbBCEd3BzNOIU0wNMGzEmh+bR7gr1WFMnig7/aFcZAJYPjlgYCx9La08/pE4A\n",
       "rciPvQ7ujKYiXq1jcJmItfSVCEh38d7zN9BW3j5PVbvITWgSn+qCU2Ksk5shK/2hfJZCN4HsXNpE\n",
       "zuBCsH7dZDeZt5mUY03SFMhjH3MWZKRJsg5LrdJ+j/N9lDNVbW4pB0c3d0l4hyU7qAN698MmzGJ5\n",
       "3p2yUBXAoIXjx9TER8YY6d2/iHbQ+ibS1hN/sNUz4QyOeBddN4gtmaOzQuGUUAAAAEFBn8NFFSwj\n",
       "/wC/UCuAAugZQ4eS0VFqmYDU0PwG88NAcjYLLo7T41RNAELjEXNTjiLz6gp/ShsZGKG0H1emiaZG\n",
       "wQAAACwBn+RqR/8BLewht+4Fl656KXW9wk3mU2TsEALcAAk9zNvmywTEPWer3xZVsQAAAQlBm+lJ\n",
       "qEFsmUwIX//+jLACYUhkuYAWHUgfaICXxnk6fQwFD3HW1y2Ibf0pTntHqM2g/BEFv2aLBFyTU+Po\n",
       "ilKPdk3mKkQdt8Gj/1p8EWfKKVsjp1v6My4Nkw5cn0kG1TaudwkidBoKgsvCb+hPVZa+p6doWSvg\n",
       "AQlw83/THr4DFCzAREtvp03lTwdosdwNNrmyFyVkC0Mgd8VzFaSizrSMME8/uV5/HTvqo2eT0iB7\n",
       "v5b0Wgtke4XDVWsvLeE+D5FBCDAFLsSTVaj1b254ZY2OSyEEpkl41cnb9j20j1a+vsriHAJ27r52\n",
       "SHDfF3RpHyWt0kHMPl//UBfQ43vmfLD7EXOhwQzMxLDxAAAATkGeB0UVLCP/AMMGAhVxasO77hly\n",
       "Xfzak+8J7BB5AwAWHsARCynK+oEmV/iBYjiL6LZFJPP3cWdD6t57qYboJmhIL7A5/5iEZyGbZXvD\n",
       "wQAAADEBniZ0R/8BNhgOn42yG89NY4B+wABZg4mDkW+DQCAWdDBZRAANzy0DhXMWSjdAzGVbAAAA\n",
       "OQGeKGpH/wEtkmL9kAICaH8QALT0PSvtdNpzlGd62cTKI6CKu/LH6FIey9weJIatVL/UH66G3kCk\n",
       "gAAAAPZBmitJqEFsmUwUTC///oywAmFMnnQEoQNRf3AF+rpXxiq8+ok6ZcEH3c13fKHZh88Bi6ch\n",
       "9ee9+AsGaJGryb5SEr8L1QTBNSD8slu32nXXHWgptk7r2Zhfa7Jv0YclvTn1kcza6TtVBYRZZz/q\n",
       "hKf04HfKRF2/94HT5gaEky7j6ufn+2ogxteLZteh9zJC8Hqd9HR5Yj2iKMfpI1Z83qSw8SwVzCdE\n",
       "s0Y4Fpikw1ZaecX8BwscHKHddtANxWZvL8PAhP59M/LNcrQt9trhuHONXut3FjhaIaRF/SzkImR3\n",
       "+bWTtzFvPanQpwPnsfQj9tvclKAFHiEAAAA2AZ5Kakf/ATWOYq19haKglpue4AAtfkcGnv9Lb7IT\n",
       "tqXisMTW4RKGp7OotZ4fLyiK31YQpMygAAAAo0GaTEnhClJlMCF//oywAmFMnsW2zYRkS4IVVSMH\n",
       "XdRS9PQIhBGKMpMki5iuqlqNyuMX0jYvzteSsJoUxcdIpka8oBIgj7N4Awt/rkHjwE3ViJmYHC/L\n",
       "aqpwLw5jCyiDEoJlwtzkLjke5hJZxqysS5i3J5vITvE23Z2rtbx/XumFPRZJKDhLIEVBoR83oqi3\n",
       "O1q6g6uVVDJ17F2Gl1dxzNoPlTwAAAD2QZpwSeEOiZTAhf/+jLACYY/qPtCQAntiXrYg2qLgnV4s\n",
       "fbobabtZE5QgUAYPe94FkYpbFONlgoTJEAbYGOm7JObGHZpBklfeosvfCEX+xxHYuxyaOOIq6g+Z\n",
       "BQmMzEJKqdunEb+jMkmQbVBC7jguvjYEuu5xjOq7hKesWY0uQBAoBNuRE0+wcqFvKQX0mzko/pLZ\n",
       "o1yyfE+aG3iga4L3OpYl/A1WHTAszNPsJyK/5CaDHBOz0m7h9iMxcRe423MBlcrf1EvReUp3Xq5v\n",
       "mRvjPdfVFJaWkJF+N8cfByvE0yi6WKB41zUDeB4v4YQLN0eNlvtZJVl3AAAAXEGejkURPCP/AMOi\n",
       "eUPbzzI/EiAJR+lmgs7CkysMACc+RrxwsJXsxPNiR1Tw5DIurZf+TxxIJvR1E4P4PvXwlqXoiyxx\n",
       "C1Eo8XK4dBlV3ubYJoDKdrqVsMB5U/qhAAAAMgGerXRH/wEuBNfMdev3QJmu0PTK4ib1ci2AX9AC\n",
       "WEAHdT2Sj49d5aYs6SS1aUWWJLx9AAAAJwGer2pH/wE1+CGZZUkf0ymszwvF0ru1qlTuam5FvBgH\n",
       "rd+IrOmWwAAAAQ5BmrRJqEFomUwIV//+OEAJLQibuAARkdqp2s13zwCPc8C52CYzvhyHkvgKYXch\n",
       "VggiQbdnwjeXwdMgReqP979Edino5dKZmMjGG3/RA3Q2KL1C6YRZH4IH0qTz4jatj7WAAk+s6sDv\n",
       "C7ef7lZPJv5FAthy+Xa4e7bYpaL4mhMl2Sv7T7LJ+vEHYvmbANt4+S8YvGTOLwTOudxIlqUaNJSz\n",
       "RVUFoBrnZ7xHZminy4/ELN8ZpQOiUbHtnSHWdwfS9YpooA8dh7HrSc4XeOmiw6TVlM9C9T/cAdQ3\n",
       "LO6IlG/9KDLTwXk1lWqwP/8meUpyiHLWyxXNqFuDqI/gxyLh1T3YddSQThtNU7vf/LXuQ1IAAABU\n",
       "QZ7SRREsI/8Aw7oLqnpJxpXIS4XXuhPk0AAtjhJiG3l89tRhVEay38nS3F2yAB6A/4Qnn+iBgpPR\n",
       "Tb3nuSXPlnnhEvcgDvrwmXwwR7Q5hDBv0VZ9AAAAMwGe8XRH/wE1X8O8QbvzfqXD+AAl1LGDVuoM\n",
       "AquJjDtvB3Ct4Cec0kbkpk5yjnoJsEN5gQAAADEBnvNqR/8BM3xmX83Y37uvqt/568f7AVeI+/XB\n",
       "U0d8uU6LIyKp8xtrgA1ZbFikiqmAAAAAw0Ga9UmoQWyZTAhf//6MsAJhTLYzgAuozj6/i7HXk6af\n",
       "+ywihrP7R0a5KM83wVRvYq8telCMZDbFkKldR2coB6jco7OAVusc9k5tp7AuWJApRbE4aMmmVV6z\n",
       "l7mS3nBhTmx8BEMQkH3DbKZv3h0rhTQT8YiE0+3WbIxt4/AMgkpPGV714ZE4YZukYpkluZr2h75b\n",
       "kGPRfkGzS2w+IHuP5KZ15iOTpaljffvWoveBIE+YnmE9qQ/MmHoCkyV917D9aZT7gQAAASRBmxlJ\n",
       "4QpSZTAhX/44QAku5DRr6AFs3nqATyT9x7wZF1F9vwbDCQZtKmmRUw3yHK4qXrlKK8EXOiDleXkl\n",
       "TVYHR2gDGvXS8zo5wTKw8gQsD9E70JOKx3pKcynvBc0txbaWwJC90aDSsXSwHApa1AiJsDl7BnSO\n",
       "zocAdt3CFT1Yv64cEaiNDVDQHD+dYUso7t2uilfp7uIBSFPksTbNqIdW/0zg8PcdlKPdENIIPsVG\n",
       "GLWjSd8h582EFH1aans96LegWV9SrwMAxgrUyqWaJ1WWlJe8dEKLQEWMIDK45O3qY5fJohEXmO66\n",
       "U7ywJbaCcHIQcX2FLLtgh4IQrPC2t1NzOsvCEM6vRrADOIZ2iE39/ZrWbFFYiQ5Anb+SFsBjZlBT\n",
       "xgnYAAAAekGfN0U0TCP/AMKCtTjgAJ26ZeLSMi6ISvaiCvnfxrSJfnUILmi7NprVnNVYL4q0Jwi1\n",
       "Z/O2Ry6pjkdJBOO57RPvGRYJwl3qBk5WVq+Le2kLmv13VZ0/K2RHFR8UgKb+SfAhZuCH/U6LuWAJ\n",
       "peJJ5uCf7ER1zHLkrYuTAAAAPgGfVnRH/wE2GngicpRIvtUEi6+QAFsz4/6jpvOM9lFiS80Rqayr\n",
       "6jGZYxPv6du6M/i80i7g9jZYmZN4uFbBAAAAMwGfWGpH/wCjmBrhs0OitHj2ipYACz3rPpnTXIKc\n",
       "pHOgNPf096yaWx+C03mAi1bLA4RxGwAAAMJBm1pJqEFomUwIV//+OEAJLRTFcABxhahs9GlmlZ9T\n",
       "QsR+IqONlC/CzFgWq2EkHmIajwEbw83pqoAJH1Epr/aOpNWeyFw75KaeDSs2AQrVNW+QiVR/bCPC\n",
       "ym8ywELpQWarZPkqnIT1qaudCaPoHt/FnFNQQ/LL8/s4fnLeJ5qmum4OUaAAkgXn+5KMAVp7B/YH\n",
       "Cm4yzsntKztB94TiNxSgaLgmBmaaJOPNxjS7TXpg1f8B9/8XyvSk+7WpDD01jR3w8QAAALZBm3tJ\n",
       "4QpSZTAhX/44QATT71HAJzCv5wFB/57v3JCh3U5sm1uYw7oGMXr5J43Y5IIutwgtwx2IOL6EH86w\n",
       "KaDItuMoG+ERkeqtFGI93niLmKTPmAfJbXVttK/69oh+yadP+KGDPM9Niq1ROvfd6EZjUqSY626C\n",
       "MRby6iWlf+bJCc58BkYLEdHGeuJ8r8dVPELm6wUCj21vpNScJSBiI+1w/i8vqaQepIABcc/SZsS2\n",
       "56AIBNXDpgAAANtBm55J4Q6JlMCFf/44QAkyqJu4ABDUY+PzwAW7A5/mi0q6mJmWqQHxir3/yZgt\n",
       "i2O+7r7/lutQgRhIpz72Pt53aYrblFyIESjWUti36jJxRdg0U9myusfDfe+7A6sPxROZa10f8UfP\n",
       "0vlkSIN2bJIIa1M+GydlCS7kjT1gOXhsoF7Ekj+EXlnJxNcTjvqt/nCRjHHV/BFP/Y8TVS6E9vwM\n",
       "TR89JMeLmfJ6JdRQqgOkWs89Ke2FgL4+wsymn+sC9F3s1TnER1aDFI2b71QV+2L10oP+1VqoP7e9\n",
       "y5cAAABYQZ+8RRE8I/8Aw4+1LhAAmzfNFyek6/N4WX19KQeKAFSWvBEQS1wln8rcs608tAHJLNQB\n",
       "nPCltq0gv3mS5qU95mbmsJiZbsjFVjmhEkANW1MZuVmlPuttIQAAAEQBn91qR/8BNK/xzKAC27Be\n",
       "RoO8Oc2s3Xsv5Y09+ia2CRQUq+jioFllLuV+UE62HcnvjDG6ChdZGT+3cfekLZX5/ImNmAAAANRB\n",
       "m99JqEFomUwIV//+OEAJZ983AGbASOMbmeO2kYB2+jtiFetVAKxNO+EkaopYSZUUrb2zqMCKsgaO\n",
       "VlzIHkqbj/8XV7i0cx7FGosJd0u1xRICsaVhE3m4Lya/DppJsXTv+XE5zExDd39gSvF+rGq5526y\n",
       "jGaYEb9MQSnl3sZd1InI8iwhtRFUWBWT3sQ7+Emp/m8sqnTiv9vaUEUB5t1wkXwhvsB+CoNo571H\n",
       "5+ViwCro2nzZyx+yKj1xs96RywTI4+GSBteEdeaShpSHr3rDJE3RgQAAALVBm+BJ4QpSZTAhX/44\n",
       "QATT+iZilADkuuwKIx2SN5bP2Vi/OWtyhe/ZMKDWM23rOF0beEvzSZ42QPZC/507dA962ieTZ2HD\n",
       "2UK116WsU0Wv94WtQWSy5vLxsOrVE1GSrfbrphsRaRSZhYkJqw5qfWnxrWAqCniz+f7oEQk1xLSn\n",
       "xub3/dhnMRYWYmNSQd3/+9ZQln+Ci7Hc4jLBaKKhZJupbgbbWPWhhWOFK37Ftm5eE3eIR8PBAAAA\n",
       "3kGaAUnhDomUwIV//jhACWfQ87TQAc3YM/HQdX0R8LxZLM4L6vuO01oLJZ5KH4iqUkF2Z2WQJfX3\n",
       "p1qOeSaBJwn+qYJyWsryK+30ehqAr275vVHg6Mn5pbYYgLT4qH3vwmTgA95iRUKv9pg1sXNXbwCn\n",
       "ZQ3WF89hBDYQlLZ5ezrCIIEvUgzcVMMVD3hra3kIRlPhlNgU6nKO7vFS2ATo6tIjlmdq+jOxNyU4\n",
       "dM9jZO9LwqktpnOKGZQtPmln6J8D0uzIMI5MSq/GN+useyWkqIWKFvu2ffLXzw5Ezv/oagAAARJB\n",
       "miNJ4Q8mUwURPCv//jhACWm2F1+oNADNnp1dD0b9Dh9PWFiwFiE2yyLucUfYqnGFNWexnmyWYqqr\n",
       "ZLbCz45Hl1YLVo3Y3mSyy2uvCpoC2M8ujpYwIosp2Zqf1q36jTnlHDFfcEIw1nAP/LweJP+syHly\n",
       "INr333jMR4ew0PxLWAZbT3AKoTnGQoJLTJO+7vzhL6v+A052Q7w+kQqqmYotZ5/PnBo+pnu4BEE1\n",
       "NUy7NicSt0tjxBYqlP7ZIU0foCJEyQw302W9ezRra8iKKiC3/rBBq5ZBlrvoFUlqfl6bc/Ui2DXV\n",
       "oCDuptw5uKZ5aSUBEWdSGlhjSuF+dO8CWS2wLahofb35W75vj3qJgdL6zNbRAAAARwGeQmpH/wE+\n",
       "KrOOPgzvVbacdACyNxHu706egTnrcGEPtE1P5dHWggJ1HbaWf8sX3jTuwkjXo7ItNg8Xi+XZzvpM\n",
       "77F6gjGXAAAA2UGaREnhDyZTAhX//jhACWafbADpHQkVO+1g3vuhQ+TnjzQIJ1AuAfvBHDbnu0pY\n",
       "riu/+pAhCAVYZiRUfNrCmH1jCzymqju1lQIMtWHg7NV4jYVsNvoT3zO0EzNimmcdYKq3i412o6m7\n",
       "Xlje44fmekhXZSGfMNakj6D5eLNPffKxdldhEa9cNhK+jR8uEsyQN7/djl3r6Ni3q2cCihVv5Aik\n",
       "4X7kdWgof6qg7se9VTuSjYG3rJD+uEupbdPHklx1buoWSqMsNsKuQDGHbmP4DE7nVk9VXcKrrKEA\n",
       "AAC9QZplSeEPJlMCF//+jLABSzvwrD5AGsQZjTRCoZVl33vpu5Gou/MTDABgllbW5f8SDK006AgK\n",
       "ymfgpNdBZ9GKvLwh8jiWxIzJB8HXHmDg2LQdrbtQwYg46uXe9oBIN96Z9TM5kfM6byUzhLaMEJlF\n",
       "XOkaPMcguIgbIlFTZ84s9TiIYdUqG5h9BVAH1+q5ug6vHoYjg4IyUyy4rTNoXyMjo9XZ59/tGgl2\n",
       "lnBAnZjr60YunDSgLgJhLtAE+IZVAAABNkGaiEnhDyZTAhf//oywAnHI8LEjgCsO2wJncOykrmD+\n",
       "KyXwU7Smee932avL+NlsSi4tjlKZBm4iVyla1QxR2Oi9vZ8FGDhOgYoEOiOJG8L9gLZvhVk34e37\n",
       "wj97ZuHuvRZCnZqel3xuVck3pDpXs15q9IFkcJ6hY6p4go7+M0DhEkuDsoAWGDtYWD9tTHtqukNg\n",
       "X16LlaW8QluwQtnzU64gQ5xJCFcS7kn1F9dVat819XbRZQbMwFllKj/TS/ErRPUC7xPYwwc9XdbF\n",
       "pTedHwius9JB9AMs2P2gL07oni+baTmESDp8OGQ9TprSDrd+6QKmbWacHIFkVPky1jkeF12wE+bY\n",
       "wcyJpwBGjzUmpfMbVlPOXGGz6gvlNtbn715RG71yFU3mAYedppaj1BvftIHWcJeQQcsAAABMQZ6m\n",
       "RRE8I/8AyUZXSg+Sw5Aj4bqHoAI+Ng52AZ+iKZreV5CvhXkQpCy82fVYHugaVh04ef31odewB29I\n",
       "97ip4DFP8E3bJTWb4ZS7gQAAAC4BnsdqR/8BOkfnu+cMaz0SfUo/Ody1BB+oayM59L38YNBW//Li\n",
       "oCOvw4CLVKCAAAABD0Gay0moQWiZTAhf//6MsAJwD5QdfMRA/h9yDWdQkQAtEtjC5Xu4wr9Ii634\n",
       "ZAAghKJMUMGKk1WUjN2sVDSV3p7n1wynWK51g54FBJR0puoJ+SVnM4mC09vgwMWLP/6KR0OeBJXt\n",
       "NJLd9mP4BYW5gE6v+1yJ0d8xdVkFjVcIMumg2a+HWvPDoeMutZw7wgonnRp+8CNCYesfCrUu2KV6\n",
       "62Bf3YJ1E0JwEC+2XmGlmN5qE0+81NZv9RIZJ01OOEkv/fc+IZEKhjO405QeCtpPmvqXCwKU1Qg5\n",
       "YLVjNqCD+ZSRYhRU7U2RQB89IfOvW4b6S0BLYvfC+SFKWenr4vz3wUa+ubaSXzqxgrssc1pnsPAA\n",
       "AAA9QZ7pRREsI/8AyIEsVelof0fav313tQG7sNtJ01LVyX4ACS6XgRa+wOrWJItqzHwg8HEzrINr\n",
       "UAeJAPKyywAAADcBnwpqR/8BPs2lqEv7xYMmKGergPI8fiPhKWFw+AALoAb93vfWR3gJu3JTcOfE\n",
       "8NTl1IHlBKEnAAAA80GbDUmoQWyZTBRML//+jLACc/Qq/SC/zRwCsm8ghwAGod62a9Vbnzy4+Ap3\n",
       "V3zNcaEizlEJFm8lAii+aYIFhtkU9Yv4NnAivwB5VFh6qI+isvG+wq07nkBb+VwDujSgLevR6oay\n",
       "Z4RIgI22W7d1JnrLowhVhBXAWE4I8LZAqF33z6EQr3vLQSh24PI2IlR8ookakVgTrZN/+BknJdHI\n",
       "ocEMF72v+l9Q4szkUhDmCOOhl6+Rtj+uGPY+QwMYbMArdnRxcvnLoL9VjeagHDy+DLuNID7i6i2R\n",
       "GgUlEmDqnn5AQoDztTbCiDUaE/Xbjte8PNJ4WAAAAC4BnyxqR/8BPk8pywiIU1fhi5YWcADUq5P7\n",
       "5wn1+6nXz2soVvw9Th+WEjOUVPN/AAABAkGbMEnhClJlMCF//oywAUmzVDviJpLY/+jABwx1KU22\n",
       "Pvm3rph2P54QQeo5761o/ZdTeRDYqpqSFgHfLTXSMiRZE7kIcFpGuDf7T5NbNcXYtoEEBLVcW6Eo\n",
       "vr+H7X7uYIMLa750NDFmoY8N56FgcrrGWp/VIMr8wnVmVIvrZE97aTQC6OUqxyLaDuGADlysdYVR\n",
       "12KbdjmZhgACUrJ3MRNetVTl/2kCIJgXujx3Tff1tf0lMsc/X9hB4gUkT19gEpXQ4vgNjHbShGbc\n",
       "6pFGuZEZQVRXhL+FMyCH5+Op6SLwCMobXAMS4vJwvf/iX8I9iv0dVx6vhWDnkqN8sNtaYBQz/QAA\n",
       "ADtBn05FNEwj/wBkP637ZTpACEWWhUa0+YWrUkSfmvTLI1EFrlaHLBtDPc6XGI1aqa5GAAg3RxQN\n",
       "TQXoOQAAADYBn29qR/8AnsWPyRPYAJzI2Hk/46PANTBBljuIw5nK9OBFiezbQONboZZ5igxKkU7h\n",
       "APfDpOAAAAEhQZtzSahBaJlMCFf//jhABPgFEiHofXG29AELlG7zSeOKa0otNhqKs4K72ENH8z0m\n",
       "S5jXPxaR79Uf+QGrobdPfeuTqqrYNf+6iEdhfvnvdmH5bWr09AlepNS9lx+y+CuZpyMw6cmIABMG\n",
       "97dDiXmZV6+w71Y+n6Q0RDjptL79FXj+05R3gkTTlODS94Yccskrfno9vJt6zoLQtV9aEziSihrF\n",
       "W39CjdepvWK2XTG8YBmcQd+rXdK1p+PEou9nEXfSpAbEXg6EXSI5tJ5Cdprx5LaCBTLna+orTrRk\n",
       "yj3ppcjk25NYEgP54K1Wps1tVsvMha4RA4jBh5bTshV+oeXW6BdhykIwnEUlwkoCJ02eIQgh6COH\n",
       "k/FkzmneS1sY9/824AAAADRBn5FFESwj/wBkP5tiibTjU8AG6tW46JMms+wTlrz9YACC6We0AA8k\n",
       "qoFe4zvgCao/hzZZAAAAMAGfsmpH/wCeyKFKOvT+MoN+AKgBf430AB+TqcoHFeWt22YrxcaRM1Eb\n",
       "kb1A3CnA7gAAAIZBm7RJqEFsmUwIV//+OEAE2yJHZVkpBUANf+/pI67LfKfVzOzu1fmLHYYLuz9Y\n",
       "BTmjs+4MZ+0L4xk2enVNKhu33BUE9bDcYS3qbt7Nzc3EMrfzV23q4tVrjNZ9BfQwjA2TnBlD8r+v\n",
       "4x68Rseu2/1THBej2N69GjWrXJgp+W/di+rvd9yRgAAAALpBm9VJ4QpSZTAhf/6MsAFBOpbpywA2\n",
       "fJ2PGiqsuge1X3IrMca8qdHKEol7qP8ctAT+VwUvDE4/lAKZuK0qppxpxj5q1J8WXfcI0sQVFEXr\n",
       "LeiRH4yTlVz5jXb8FAIo3vRfLi9q2r3s5O6WtJPB/pvowaFx3674lVg4TEKMZS9cn4swQUk7bjgj\n",
       "vmS/yy4/i332hLqfRTjEcdWDcWmX2CwfcfKgypCRwFJqQRd3Q8ENPY88JmjUBo4DzUkAAACdQZv2\n",
       "SeEOiZTAhf/+jLABQWNShQAHB4gJJUpj7XnOcWvEzJOepR1vFsBoDU3iRD2OE5KhZ1G1CmrzU5x7\n",
       "E6J0LisaU1pNXo9K1DxkvLDEMnRjUmnvCUblCokXyZRrUxek6oAk+UKv6FYAQlLY0PKuMJ3uWaF5\n",
       "b5qAD17apjxfx8ixJf/uObvhlVByrY/s2TKBDuS8u86xkkiW1+MbuAAAALdBmhlJ4Q8mUwIZ//6e\n",
       "EAE+rAFPTNWs34RhCFIAS0R/GsLnZ745zqHR/f2A9lIC+RsIt6e0tWYxeZ3A0SUeCTw06dhHXZlN\n",
       "7+wdB0JinoGLVq1sE5j7VZv/HogpPTKSxGnOtWx2UtU0/ZiVAX+hvCzrgMhCDf4QMz6R8CLTMJc4\n",
       "XYpeP2gvQ1kJgef1hR5Y9LeOur5vXAPuCE4rtGIFN3PFr83O7XaLXwOVI3LSH55BsIhyUIzsakEA\n",
       "AAA4QZ43RRE8I/8AZb0JNuQAE6yJKssshslulk7rC/2yYbRLm9nV/VaIKuEdxfzK2tZqAw+6jHf2\n",
       "dJEAAAAbAZ5Yakf/AKM8zpQ9MSvroJrCbDnfM3h0xlBAAAABEUGaXUmoQWiZTAhf//6MsAFBRFIw\n",
       "a4ACRKfjLO+/K34VjEYhx7IolKVWGXjODq3huyW8P3kPNisURpOhuu8HWZvXLkc3TSMKTrrY2lOH\n",
       "m24vC2Tsesieopiz9DfIVI08uMca2rGu/g6Bt26Uy54yWl+vSk+WOpdo/vi+F1jipXswr+gU6Tst\n",
       "14jQeJu01jAD1V1NgXWD3a512l3ppjIcViXHZNHkjYQuEOojfM54PKDmYrpeiANk4heQOz1g/cii\n",
       "yQeSSMgcWOWovpttViV+MjFk4LMcsKCBv8mW7yRQA+nNA0p4b3i18837PwKPR/l47WC+dB0arBaJ\n",
       "HCDmWBEjdl7t447reuH+zyC7+MFrFLg6ywAAAEFBnntFESwj/wBlvP7DygSZRLTb/wY8ssr2gLHy\n",
       "O85YDa2OlsRVNjO7DhBC4e10z97wA4pIA0O2PJKySe8iuIr1gAAAACMBnpp0R/8AozuDtC5k2MMA\n",
       "AQO2xSRheXsR9IHM4xP/WaaKCQAAAC4BnpxqR/8AoaP739QqN15rNyslbzV667lPjYAAH6JHICPQ\n",
       "GFZkuHqY6EnnhE2pAAAA+EGagEmoQWyZTAhn//6eEAFHZuhbPEmmUUSi08ct6MZHAAZe105ZAsbI\n",
       "SLNylwNnPVlESdnbnqF7rt3CFk0dgc+CWm9WcAG5IOoAkxW5u9FBLDto/vRyCvyTKdSgi406rmQ7\n",
       "0qJt/B+WBb++e7JZhWXSsLVdpzRlfm8GMb2cNhI6JDfRuzN7nBvjrQGst7qv8zh9j6tX4y50jvvA\n",
       "mO9nkMLVPHsGhi/UJeOJM6Hrds1u1kMeYn/NuCN/hhLfETzpKIC1HDIReaFan7DAHZhp5rm8oZPz\n",
       "/XWkEu6HhG7w9cw06bLKvWOJN89RTDqPhoGg4kkZH73TmxqQAAAAM0GevkUVLCP/AGmelj/prz/F\n",
       "8g6QJWIZdtpxsMGMS2zIKUKYjDWB0u87dY3jk0WNejg6oAAAAC8Bnt9qR/8AoXoooVwAH7jdMUmQ\n",
       "LKE84YzdXSTONzbpz5TzF7HberqJS8n89Axz/QAAASBBmsRJqEFsmUwIZ//+nhABRrXCmUJmhUVG\n",
       "gA03AwfhFKZHzoQ7hmper+/Z5jJlkKSA7xfz6YhXx1KW9W76pnYrnAMN7T1u2oitIRf5FxinrDBQ\n",
       "2b8LqcYfWvgfXQ5zKkoY6ZsDYTbxbupDmb3T/+IEktjFbKSBxdQa+dtccyMcoY0asGMDUDtFk7dk\n",
       "IN1xRh3V7dEu9FRYvbqCMhrnihBOc/laRA1zMWcfqVRn9SLz/LDklg0MFF4quIwQwNfW7/7MaIni\n",
       "C8q5yVNnTSqlA+C9O59AduwcWHFSqVAjJs84NB89fxym9YkM7excm10gBI4TSKLJDnjLS90SVGF/\n",
       "oZS86DqUzr4k8qQB8ZSAef0QWjarKYPoN+i4ivuiXwJm/KAAAAA1QZ7iRRUsI/8AZwJ6RfsH4wb2\n",
       "8AUuxA5w/QsDevYNTPPBLWzMGt5tXQYQWr5dZIreipRn5g0AAAAfAZ8BdEf/AKNLmQqIqp1tS8hY\n",
       "Z4rItlRjbgrW6nC2gAAAACoBnwNqR/8Ao2X8POwoAJzTA9LGIVvPXxgsmINn2ZoFciv2cKt+vjLg\n",
       "lYEAAAETQZsISahBbJlMCGf//p4QAUa0CfGFXt3IaG3z3MpEhqlIAbZxhlffnfxJJN/CahHYHwpx\n",
       "rgp8re5v+fFmOwBAEvTCDutbWpZ2Cre0niu4eUroSWC2ywpLhn+mj+zoY99rPOjwl2qHbfoozmxk\n",
       "mwbOt83lnp5XJX8InPqZWd1etpEiFxLfqcwB7BZcPbDvJOKWt0rq1BT49BgJ82NsQf4RTifJ9IR0\n",
       "ailrcYaaO9/Zen4L/6V1MBa37xc1t6wT7MaVtNaRrvVOV8zZEqhyuirWQ7cQQ9hqdzrFfXzbX1Af\n",
       "9srfznj+bdi4S0xBzBQhZlE42xzmHtqqSzhoqVI4/JZ6TLzzxJCZ+TWcyOAbSYnh552OGhcAAABK\n",
       "QZ8mRRUsI/8AZyNK+OQA1nCaqokPgUW6fx5q7sMCo7wNbAIkTL4Q382qZzc6nSE7yEo9na6xK6bQ\n",
       "WyNktPkphBaLcn7Xqc+6PScAAAAjAZ9FdEf/AKMuXFDmxcnb4c2jlz3FrjF86IH35FPnEeKpsS8A\n",
       "AAAiAZ9Hakf/AKOV/C8XmD7f8uGsF8+NN+5GC7Hm0qW9L9h2HgAAAR9Bm0xJqEFsmUwIZ//+nhAB\n",
       "SDtCm3eI3tv1nhAA4O8NnIGnWeM/keSmTztUgI5i4Gho+mZyxe4KpqK1qlTHd1qg6S9YTdecMKoj\n",
       "W9r7jWVrt4oyhblxjvQ9N0Sb9s3GGA3zWSkwXEoU2e70Ntzd76rYzTxCP/n74GP86G1672PCcexo\n",
       "0wtGkRBxXCme9AZ40KQ1DUPxxY1J5o1IqBUIZ2TyfgQu8EDdZ8ZoOEG2B2khSWNPvb1i5gy+b4lE\n",
       "a/ssEQ1FjWXiLISX1I3yb8smBekvG7BuR2kWtCpa1KGncsAgKvNCTGOjMs5Hton0mzbBNqua4hrd\n",
       "wfehvTDfsfmk3dNJPZ8YueVY2/NBIfmQEPa8aOYnrmjRT1sxwUFsFNMERgAAAE9Bn2pFFSwj/wBp\n",
       "gno9TQ0ha8EhpxhDHcUmoIgsib8oRdfj2Thp+4TQmBYkRHmFU3hfADbNimFQ3+F20MixflNdU9u6\n",
       "ohX47XYm2Hag2gwZAAAALgGfiXRH/wCoXB/IQsoHaAFqP595IOeysHbW+oGAeLQGBvqXjlshYrWd\n",
       "pCXqp0wAAAAjAZ+Lakf/AKhLFyIJzXpE6pBwhOqY5M1TpCfjbxnOqbgcEfAAAAEsQZuQSahBbJlM\n",
       "CGf//p4QAUg6iwmUYlH+QSfKkADdLo46IjP7YASztwln8gjZhGG2CNoONi8V5/Jtn1TLutx30UsH\n",
       "YddmUDDjx1TdrOXrkvvqOpcHwT3AebaXVuiYMGSaAauwWJcxNIM/G1eHxfJyVMqsVrZFLgt7qfVb\n",
       "nfhiw7DxA32dc0GHehm2zOaM0SV5sNTBgoww/Q31AKQLS/KA6pnSjWXYRX1KpQFf99OwIEas5MYo\n",
       "QqkbmnxaY2f1uG6uq2rAd85EEuUb6ASIKzWg+AjFdeHD7NQPWWs7NP3gmv/40XLKvayit4tYqC1V\n",
       "psbbqsBQZnH4eNqut18LSomdSPaqcp+hKup5XCEhi1G9w3H/lfUpNla13cRE8/sKtVkidQed8B6Q\n",
       "v7GGxByTAAAAUUGfrkUVLCP/AGmieqIg3wWjEpq/6oY/yPud5rkUfvoRnjV3i3ZYzQz7xGAeVQ9R\n",
       "3LAA4MXKMhYtsGoJN2Zh3CSH/asxJSb7WCtfMbGVJh5gwQAAACkBn810R/8AqG1cmJuTyiI+A3M2\n",
       "Z7koemiS8tkbAATgXOt4HyHWwc+pgQAAAC4Bn89qR/8AqBgh6yGL7SNrTqQoAz0TNi/rQv/PACVp\n",
       "DY6UssvAUi5RLUAJdqUEAAABIkGb1EmoQWyZTAhf//6MsAFL/4dpDrqfGCwnSSuhwXAD2xQPx43c\n",
       "xqQhaSRaFHJoYUpWwd8BCukxT1PzlWPewof7f6zFb4xGvLC0xWTRd5RFMBBGEqGZhAJs6FjCyDbz\n",
       "0ScGmAEa2xBzeYmppT/9EETZ4AFpd4bgiX27j9q5r/yVBUmhpxUzNxoafCPjuHwsnSOr13uL5S3M\n",
       "Ql5cJFFAzaWtU1jik8uE7cre51ygl/4+XZ0ezHJZ2RRYOmcAaJnEGWmmUG54mhGNl1FheIkETe+M\n",
       "IAAAdOqZwZ+EStxpQ/QOI846AopzbNFm4SLV/8PdqQz9A3QMHoqiCE4pEagTb0PNFnWJUUo9iY29\n",
       "GEYadB8XgNmTr9RYW+R9WGXx5IDfHq44AAAAUkGf8kUVLCP/AGmINygfLvsWLpQUH5rGLHc8UiDM\n",
       "wpXaHxLJFBkUQX/xz2IdoLwpgBOXQRAKITI6G0TWXLurBG2clLUuWrdx8xunkVv66SPxl3EAAAAy\n",
       "AZ4RdEf/AKgKTPA3QJAwATmk8RM0FFOdYfZsXaiJGVLttq130Mom/nGNLtScLX0qvCAAAAAsAZ4T\n",
       "akf/AFPDWl6UGEZao8ezlWSNgd9xTzxkBnAAHdu65KFvwGupWnqRRCwAAAEBQZoXSahBbJlMCGf/\n",
       "/p4QAUjmIeVElC7lTgBwZogYKmaOJkGJKVjvB5/EMRCI13BEGBVwNPVVu+roF24WNUkjlBq3qAvi\n",
       "BFeU2DcKsqO6DMoBL+73y/U/hBkPZpv+5p5jRg7KjZ3t7sInwRGMXktUneorslMsG3zs9MZo6ziq\n",
       "/UpLVFJWRyEP+LOkrqvuUGuiHoj2phu0yAcHIyvVeD9ZMgbXb2TO8wMcs0VQvh/fiqn5G+MtSAVq\n",
       "9vpCMixjTuryfufind6vG8re2pF3/RUNAZH8sKS5Haw1n9qNjR1JghbZtr+2jvOiv96lpqksG13W\n",
       "sE2oSZlv/Ey4h4JOPmlOXcEAAABHQZ41RRUsI/8AaYphxs+nnoALTTuRAbQYCnd8sRQjz5j0varK\n",
       "6EOC06H87LSZ7eH0QPUsyle95SRy0em15C+WDxUSDZWOpdMAAAAtAZ5Wakf/AKgnhcBiipoYgBI4\n",
       "4PLITK1UeojzSxbpFTb7pevnecX8gTBH6I6ZAAABMEGaW0moQWyZTAhn//6eEAConaNYgAhh9Fp6\n",
       "CiOQW/iN3AeU04ReUiskipdR6vFC9Xs7SH3/9mVDW6nKZRRW3ROehdlRkZOF0ozJpdGvd+ytLbI/\n",
       "9PI8Q3xJ4wwl5Iitr1VGoOLyr0ET7/xw1GvZv2fy5CjoXvlbvTgUwEEsGa6ly7v8xt5nZM0ds5+w\n",
       "Bs2ZmzWpnM8DgpSM4Hd2w0iUUbAD+i7zEMKGAKDn2tEOEIj/7PT4ycKzb1E0sqjYRZz3NiXgBReE\n",
       "e3cZMlSlRa+ACG+tDzI6kIoJElwWv7hUKnmQFaelekeVbKKRzd3sbzIoZMd8Slw+xXiD0pglcdwb\n",
       "oF0eY/upKoiQcY67Q6naI/aYqj1kshjRpf/MRgtYXQm/AAj7L+PiPb2ycaurCvJifNkAAABWQZ55\n",
       "RRUsI/8ANcK421eAHyilg9A04OB1sZ7BubxrrG4ttLT9s6XW5jSLEZZoHKxUvP8FWGMRYumOE96g\n",
       "arRdAmDpq3P2FIjUG0iEpWIAgG9J9EnoOXcAAAAzAZ6YdEf/AFLltLXD39j98txBWEi7I7tYBFp3\n",
       "PSn5uWwgAH7I5QolciiDNyhibovsNqmBAAAAOgGemmpH/wBS5VDq8/AAIAJhd5wxQmoBWbD0mvls\n",
       "/0uVmCqdHAOfrIuY4rv5i4BxoOXWC61HgIUqg8IAAAEjQZqfSahBbJlMCGf//p4QAKidspOABvT7\n",
       "VYTVXhTMyf+ZaGZwi2XBzim8uM65s26p6WrSZzxoTOG5W3ROkK5wqVGklnX3lGOLMIOAnaHNF9lG\n",
       "P6eKtC9EMTIiXNrq84pE2pyGmRnKLypBnQcooJLoYGHJA0scsDl1YB2qg+9GtdDXvoYIOSQSNt+d\n",
       "NMAGIV56hhh6Kd+B04W75AH4X+gp7u7iwagGi5H+5mc5n5RO1RYhX+esrzJKPxsApJijpegJnHEF\n",
       "WT51SlBn4jHv6glWwSSER3RWs9l5t+wByZSxNVeBF531Lfp984fcR2CbKrlTp7pUgZvKnb5OYNnn\n",
       "hZA+W9mAjcEz765AB2CuRy1eYWu36xRdb7DNQGNKvGRUL7TG5NDhAAAAVUGevUUVLCP/ADYt7wBE\n",
       "nE9e/yTwR/janbEqnOde1Zfpn7tjaN3II+Kh1bErshOvuD15ND7bjwmA71dHWo9ZQ/iF8sAmINfD\n",
       "67Ye5Kb0UrMXFNcUSkkAAAAzAZ7cdEf/AFN0SfnTACXw14gjvMPNjAXDxk0WyHA8zPpK2YEQ8My0\n",
       "6YcN6T/KFW0ila2YAAAANgGe3mpH/wBTUUgDpMgAnawzTBIhCEc92hZZe9nm1+obOir2s+ZbPgaH\n",
       "Og8z12N017fZOYaE3AAAARlBmsNJqEFsmUwIX//+jLAAqWP0YAWH1KEp71CJ39w1g7h7eCIDcX5L\n",
       "hcge+B3tGFT+mZw/GmknS+BKu4vu/NJn5DoEGdII8dYu57RaTIRjgvun8LNbBS3I5lhltImIWv7T\n",
       "PPvcVLS27fn2Tf3eVdclsxHNqwIiz078WFoBtdX6L9hD6M4x+/WjQD05ujI8hfFTv1Ii5hWtiRGX\n",
       "uUYh/z6c9Kn8RXhjauz5XdK51+UPxLLtflXxT9SW+FfsLPdYH94Yas3zQHoeIF8WAdBiqaXu/l4+\n",
       "Vz5cKb60WV65lH8jyYVEqGOolGy33r0xw+rm6u8AODbaHwXsFkPPNIdoLosR81WBK9DMjfWC996S\n",
       "Nb+Or0L5Dn0uRYOMcQAAAFBBnuFFFSwj/wA0tIpYYkOtgAjB0BIW2kukh9L8vaRh5W+MHzZWhREu\n",
       "LKh2cLh5+OfPoHywqqRjn1aL/Kqa8VkDy5MOGkJFUf7UmrTCHiTcnAAAADIBnwB0R/8AVADDRgAP\n",
       "01Bp6DYlc7F0WCOaWdbI5V7FKX2DwpQpdOacURt0yPCwdeSpgQAAADUBnwJqR/8AVArIgQATn03O\n",
       "150oYJ7Za1WiATVErLIv2ePO/JxJ7IOYxc6Joel2lIEIRVb9dwAAAP9BmwdJqEFsmUwIX//+jLAA\n",
       "qm+JdrLV3oDI2ITLn7GmU20VlDWoRdfn3bCD0Hx/n7q97/ylNChPpe8dywWfK/W85Z11Ohi2/nsF\n",
       "7b6Th0ho4rH/jvAHWom3WBFz1oA2wUB3Zpv6iiYuGYf5wU670gaJi54kZ8PUrDo6KAaLVAzBYuXr\n",
       "+Y7No8e6QzSMfyzthZYxB/fzMbSRYfJOFiMKQfStjleVuyrJizVfgdtINCQ7P/gtj7HGfz4cssAJ\n",
       "toREkLYoLDjEqVCXmwmsQeaokjhGCHgNMzofEhCORCbXDOmk9b2EdwQKMFwYA42KFKqJdShVNh78\n",
       "vMSrSQacDc+k0YEAAABGQZ8lRRUsI/8ANKD8hAgASllM5oavegCl3b3qxvjgnv+kBLokCGqWEPPc\n",
       "D31sTBwZMtA2c1u6Mm4TiFX95LUWKT+9moxyDwAAAC4Bn0R0R/8AUv0BW30Q2NZDIqPezwjvU/4m\n",
       "1/0jynO69kCLrjKqyACDXkCSbpuBAAAANAGfRmpH/wBUFCXal4mY3vpmJMnvRniAivwzmsQOnLzN\n",
       "Iaj4jtwAK1ub83zCa6KKwsixAzsAAAFTQZtLSahBbJlMCFf//jhAAo3gewCkmho/dDAKffu0xo//\n",
       "oGCC8/Yr8JU6jd5dzyPc4Y8uhITeV35fQO3xIvcyuCI4Auu9pVjmFyqiSCpBWKAUgyotWKMQzTPu\n",
       "veuK0F6vGy4b0k4RSXf9Bze2ahINpPZMu2/LKjm5GanireH19Bum/8RnTByp5rPclIg1yxABpaCd\n",
       "B9ss1TIYVEC1Gbj928bFgIi0oFNx9Jcbxx3gbyg0GCpyt3zlMcb4pYaWJxv6yTAP7bFflMkeoipS\n",
       "2+L7f6kcLVfVbE+bzqrf8P2xgYMeJZBkzhWMqHlwpcDELzWMaowAkseuRx2zPNCJ3/dV0rkBvUjq\n",
       "3x9iJb+PFeSjg5+rJcBakLrvCeTvOYpNsA9uRG0bySqT1EGvpvUTuKH6xTqeqGejfp0l0MO0jfiD\n",
       "hH2sab+NOtBptduGZQzY6fbTtGBAAAAAWUGfaUUVLCP/ADYEsclHLYTaAIEB53M2St9am861Ugax\n",
       "MeqXnFrMs8mDCh96H0dsGDzVWHWNIYDo+x76kTW4QgONEq9Qw6VyFu0QWi5gMppwmP1v7FBxQmVA\n",
       "AAAARAGfiHRH/wBWpjgAcedT8ZcweZorZhZ4ZVowLyxxE+guCjtQC+QPRnSUzmeXEVgwkhl4pUud\n",
       "9pRdAokjIlOTUcz7Q/IfAAAANgGfimpH/wBUM2rp65CC6SIf6neW/ZDvZc7W22pvQAlPVLlVvBCU\n",
       "GrQWY7J6S+BvSeL3bYCRQQAAANJBm41JqEFsmUwUTCv//jhAAo1lAgKGUTUmEvk6A7DMsbhFSnXN\n",
       "sUTET7tFuT+ECMHxqXq5NNNRENr5pY67f6LKFBefjP3jv/RJrI+SHWTvXr3SE4Skit39KR8Qgtvh\n",
       "kl/5BhDAjg/p03U7aqsIsVuTo8aHH1+7x/a7KxmcN77C1DGKGM3t1nuDcoO//IAVBvhae62rvKf4\n",
       "v3VlzriDph3j/FUd72ZMVAs/H3WWaIGTOxuMfa+zAPtZDsV+4dlearNKFsCtAxbv4k6pj1eybWY7\n",
       "2oAAAAA8AZ+sakf/AFQzauDoWECSbSxHo/fh7Zkui9XQd/OgwwABM5oUMEnSyjz51Lux70R+UxZ0\n",
       "kPMR/y4Xm9n/AAAAlkGbrknhClJlMCF//oywAFb9N6cvfsAILBBRUTSEGfVe1kXjnN58Y6uBq9MW\n",
       "tbKe6dRRWvI/8Az7eKk3jktFTBGbUPF7RKeApuk8wUNY4+srysnWI2llZTzlYsupf5oIJIQEhrAk\n",
       "HWwhiZDfnYOHzIVHrzLKmmVGW7gjJrW8kg3c11JNTTeTqiNLtRHy42hkcXqHeOoSgQAAALZBm89J\n",
       "4Q6JlMCGf/6eEACn47SgVPrwWf/Q/lYfChzruI5KWnFC9ruEDI+nYi3ifutNUuAV3Ouod6IuMDtt\n",
       "7bCoVN8kORH1p2j+HSbDmAqJfixoCLd9RpPF9czeNQ7Lh8ec9+BV1+mS6kpYOtM16EqRTmh9g+S/\n",
       "0HUTMtIUm6hRgCCJB+ZLkynq/XbZneVXgH8eV8SsIot2OMy8RLerm31T4RrENxsjNsvoYt/5SFvz\n",
       "+LkMjtXFgQAAAUJBm/NJ4Q8mUwIZ//6eEACjd7dfqqe7ygxQ2qcxFxarPUIAaygeHB96KUfgY6Oq\n",
       "VAAxpnLEqJt8VrJLDGzJFIb1wm6W44FIoJvPyBzCVmvW6rR2yKxcqjgJmyTEyS978bBcAQ/GFI2k\n",
       "1mUFItmvjZkw7el30LmHuvfjSfAcWgOp5X1E6rk/52jKJGFTAQRmPmQ/Jy5XApfx5+DXCBdSiqzl\n",
       "gexFoR5AFtRJ+usE4HTi4Ng3QjoggiNs6aP6wZfDH/pR06sfKEKJYvjX/Y0paRD6wXLhOkvgQApF\n",
       "2Xi0GlIzXqSIZ+MAJImcESnlmV/PHoKQZmC2YweaM2KEfJVKTCSdaxKp4IMVmAGF63a6/J//1+fe\n",
       "mowSREwmi8R6AujfjT6VlQHIFfR+4H7zIKsetDI5c1kCYpw08U6IMpi+8n983begAAAAW0GeEUUR\n",
       "PCP/ABuga24OM1BHQA1/X+1UPWKX2Fbw65Q5DL6YCm9gTMXoPMXKmCmx3/s+gm+Jv40sN+K80VVZ\n",
       "H79vt28RDdKOgzlXKHk8cet/IvySQo/2HOymxeAAAABDAZ4wdEf/ACxA9t6aS4AJw45jMRoCA4YW\n",
       "wJQzNNFo96pDrIT95NT/1xaxSVizbPV96xs89FQBHFoVxo4VMgiaGJ6DawAAACsBnjJqR/8ALE+p\n",
       "SD0tZBn8LgVxydAj4gnWQcg+1U3cV8Mhihz+qA2lUkfAAAABHUGaN0moQWiZTAhn//6eEABUFdYj\n",
       "WU7QALQhd+2EPnFOFTpSZ4uhbY326X+97zcJZfeSPGIgsJ0YQTbsILO6FEn6zXdFzas1r6qz1aOX\n",
       "R7cY1uQTJlUejdQ3fV0Df7tpUQVRTBkzGfwIK6DpxrTe9Z9eY9/+rvY6WkXiWYwrf8HeL9EC6KqF\n",
       "2vUloAyAL9/tTQiiZFpOrcg15fX0FLVHYDlNvQJAd+4nt2uVy3r4h6H5Dex51IWj8PlpnxOI8WlK\n",
       "4btllvoZNb8EiXQQyspSdGZfbFbAmeqvXvLYNViZBLaCRbfswkB7ylydRz8yOqEsonBWtRUGJw6A\n",
       "EQKjTRCKSyWmpR12mfHR4VyeofipHFyQGMhLdMCNaVZ9KkJ/gAAAAEZBnlVFESwj/wAbCymbY6rH\n",
       "TCVI0Pru5dg13nZZsdJX5w2dtzck/X72QwSNJ2sENpVj7rVozTaBitZtcZ7+yZSrTMFI9jM3AAAA\n",
       "LwGedHRH/wArF/gmGi4JyEMA4HrxrNgvS5R2G2lwlHvOhPAAWdZHar5ZwDhyTNjQAAAANAGedmpH\n",
       "/wArRVrCr90V6gaPVWIevwKGmgt9E2ADhWwSXQtCPg4v/gX30ddZDp+3+vA/oIEAAAE7QZp7SahB\n",
       "bJlMCF///oywAFTqkSJykMOAIYg5/c2Hyp6TxqrFv1Yy8piHnVOCzPd1LrQcuefdGgzMidu6Y3bU\n",
       "Shy/KBWOCyod3byNNQtmg9Zcp1enAqeW25sDunYKgJ8Cn4vO9htDZt+nCnM1Ji6t3YF7muXx9q1K\n",
       "fyYo5dnbl+aCGqAXf8QJ7fwAcnyuu8KqrdldLt5+KMvG9EIVWYo0I4S7pAwEOKnOhRaBxvO7/DJr\n",
       "NysYtpAD4maMwSN6wV5ampTyaSKr2uL8qTlupe8zX8QblDr+jItP+lOHz+oe3PGt+A+jcs9tA3I0\n",
       "Euhrw7x9Th03n2wuuzGtVIkzOFDeiQrbt16UpR4gUnIl4lXcja+acnBP3Em4YJxhHjgHNEsFxQWi\n",
       "qWAaaS5QM3Lvtwt4u4AyQG/vNalnuIqpAAAAQ0GemUUVLCP/ABrqTne+niRrxH7oSkeHuUPrgEAc\n",
       "OApi8zaMaavKLkmS3YMQAtamArX0dKMqxwJVBscl5fRNDya0wMAAAAAoAZ64dEf/ACqp/WEh8pQH\n",
       "5wkOyq9g0xbN2ON7lgSD+CZ48BrLWxnx/wAAACgBnrpqR/8AK0VawgKO0RQK+sTbEQrxtSGdCEPi\n",
       "fy8uzj2kQUlSUJWAAAAA/UGavkmoQWyZTAhn//6eEABT+IPTqAFsx7Bw7RBc0Bzoi7SH0vWNBbsW\n",
       "M5FmEtuDX5tLHF64kqqS3Ho4TZBzm31TCnQbIrAM8U2oN2Ru6o6XR8C/c/vXnDVwSpnt59nh7sqP\n",
       "ZTl0oT55PsVRemWGZxhrsJ0ge/Cn64HRY71ba5mnocVmAayfziRu2jw2RfF6O17AgocQEWj8GkkM\n",
       "lY8PalVwoagqo9yJ+MTzePj6bCK7BvQt7u/TldZPRtAlzaAfFNvNx+pY/0r4WrtJjvVnWhitAYj5\n",
       "tiNcoWRKJUAA80uT5MPXE9E+zc7drdfHW7BdM1DgHwOkCjCjw1OuPKkAAAA4QZ7cRRUsI/8AGvIg\n",
       "+/QZUV2fQEfkSg4U/QRp6Q5TFSjACs+gtcAL5B370ADcwUybYoisEUWf1lEAAAAkAZ79akf/ACsJ\n",
       "zGfumyyk6jKW5ydcVmjySE8zwjrRsoG3U3pOAAABC0Ga4kmoQWyZTAhf//6MsABXeZcq7+8J31bP\n",
       "ACIz2cwqeg/dpsUN7Q4UkZ/+NH/yzUVKFaL31NnREzrO1eA7+gctP7RhdVb05Gu86g/oso06mguT\n",
       "dnOfus/85KUJ7TzQXcaCdqeIRbzcFVt438LMx3YWBsITdXRYefnkvBYavRZDlqqsRyeivfgBGCb3\n",
       "PNT6meWLpB0IgYgkqHXPBsE1ZoJ5FZRAi3UXTSC4bANEPhAQvHBKyuxWpeKXEk3xEPJq/5bP6YrA\n",
       "KVAAs2/pAesku9YklE1NSFUmEunk2tKsxPnNOFCyalBgq4NZ9cZ0+fFDzDCv27fBfBOdKvwdztiQ\n",
       "1N3Ed0Usx78rZOQijgAAADtBnwBFFSwj/wAar3g6Y35miPEvADWd2cVnOZ1jNCFCIKt6nKrADwWA\n",
       "qS27XACZuw7cSg0Y66X89OyHgQAAADUBnz90R/8AKpnUw8SYZACaaI80CzSWpIk9E3gOLiarR4mb\n",
       "y37NGzm6YpkSyaneW1QL5tFb1QAAACwBnyFqR/8ALEhkFlWNaZ/qAn7agnZccHazFCJkSNAA7Kpx\n",
       "3bc6yEI6+vmDgQAAASNBmyZJqEFsmUwIX//+jLAAVQ7aYeLgCJgX9LA3lBIS/AW5VpqvEcwty4G7\n",
       "w5Xq6twSvq6uSFUWGeCppG34iUNHjdeH3zc1D/VFVM5r5b0zM0rJfHeymkJIXMnE2/UPOUP5ZiQB\n",
       "HTtxTrcgmgYLcvRc3cdDsPIn1kg42TLClKH6WJlBYS1zuNyp0N8k/x3+P9WhZzYK08yQWlpGQK2P\n",
       "I/vu3XDwUmSiX7A5dqJfEkF/PjDX4UD85btTGV29mrbni5cWVzYGv8XbwjXkCwh+tpsZ0MNMUVMC\n",
       "fzqtDzzt+El936hNqnMyTiTIjGNHylaNeqStcmkMyPlXQAvsf6reRNRwLVUvFBVNK0uBxOr9kN/c\n",
       "4kobsWFg1n0DTxSRZmZJv9/uJvAAAABHQZ9ERRUsI/8AGwVZvACwZMX50TY9sreuzkTZddwme9QO\n",
       "Hu3LacWZ3eyyL4+Vfpxny2hQn8gDNjkbtGGhkZQ3ujrxJxQb9kkAAAAyAZ9jdEf/ACszkUYgAnY8\n",
       "VnFw3Bdnvpbtoy/HGNAewwOJ85wDd61qfi6ZuxVleZBuIcEAAAAiAZ9lakf/ACoXqPSXHn7d3TAg\n",
       "q7Tb+Ad0f6/Y+epNfX7gWwAAAPFBm2lJqEFsmUwIX//+jLAAVRMNCCqsALDxSnRlG0D8Nw6/UE5G\n",
       "eQU94xZ+jxKCGuOBAa0YSJhVjqPeSuFxh6wB0XGqcEI5iXORAPxv9+aVR+QA3M8pPPYm9V3sw5Ff\n",
       "L7q3Mge69d6y3vOzd4MmBsfSmaVqUKRej7V7YkwdTH6vmj5wsAZedgl6uEBvsPrOQwBMNbT84rTq\n",
       "NXDHIFHfHIyGbNRlzUMHpdfeKBGimJipLJlvgspXlukOncc41Ks+Tn911UT+JMyowBOeKOEuqxSl\n",
       "MWTwqmAg0JmYvpWi0WQMfQrs9LRbdWJZAnzLjQ/wBYCBAAAAREGfh0UVLCP/ABsOcIegAFhgaQjf\n",
       "AeIDrhDwaAvekXwq7As56hkG/0OxbL9tarr63mVz3+QvQz+LvNhi4PrWkgDakLTwAAAAMgGfqGpH\n",
       "/wArMsveQAtK1wuUXgnzQBTQIbSlowQPDkKLPe+yeOdIP/d6NV4M0IMCiUy4AAABFEGbrUmoQWyZ\n",
       "TAhf//6MsABUuWYDcpzWFWQ6uavXJ8AEVc0aXwkQ/FwUHOWrCC/L0UgppQhq8CM7Rc63nuezVmRW\n",
       "GHrE4Ix3DufHzrDT8nBKmqPBFCthhnzp5NkbYRtf7Oyfdq82EEZNxIlcM/rpIe8/eXaP/xiSnbL2\n",
       "h4F8KCapBHM2/arydpVY7Ke+mj0/K4jOimAMpIo5SWpjphe8SXUEsX8d1vjHLWwUS1YqGLJK3sLN\n",
       "TYwxRNWkERtKtu4yg8HcpP0nPDXHGvLJ9P4ZGsPHv4rrKDtka1IvZpLcJyU8UMBxyAWNGjODLsvZ\n",
       "gTe+qhPSh2BvpjEJoTmTHeQi//cxS1XfYK5fFycARLm70ixFFj3rVQAAAEBBn8tFFSwj/wAbCYWL\n",
       "mXoes/YwRNHIABKYBFKUahNdr6FRfSMXtNJTXmBvbTgeK0cG19+g6UAh7wCXaI7a/R24AAAAJQGf\n",
       "6nRH/wAqAu8ckEJqsD1X+Zp8cEt2IzrjnduTnTiGKd9pIxYAAAApAZ/sakf/ACspp7d0HhftGwnG\n",
       "0RpDyym6ukKt5uiczNYLthx+M52MfZkAAADMQZvuSahBbJlMCGf//p4QAFP4gMVq+zm9YWaQAtE3\n",
       "m7flEDeGmS006nyeKSx7UCgIA2fM2j4sInE8uu5zfzoL1ob2ua2hU0mKhoqZ+LgUSm0zbgRhhKiR\n",
       "6O2nZxsg9cdsIB4MgnH797Y3LTNS8KyN155sQ6xpI5qpmHlhpUHjp70yuN+rzRYaegozb9YOOQaF\n",
       "/wahnhwJoPGBxEznW7YFfM6awtFfg9s//AkW0cDyKwuBh+3Dq1TzIwZ9JkMdR5GMcZ9vaNJG83JF\n",
       "mFGBAAABLUGaEknhClJlMCGf/p4QAFQkGt4KAA4v1TKnR99l1IC+QJmyniMnn9TgBFVfOaK+877H\n",
       "bPJ8r/bCxsF/6oWzzwB/HdNGC0LfFabi+j1s7Mx428b+BXRJ0EiPFygY5AQWen37T3OKIJ2EI/zZ\n",
       "7DfI/hPgGJV55ip7IeZtFGWa4F2ig+FtLP2C5TQBoVqYVAbBjgmHyuZ3mjs5256VAn2g6DnKvFGq\n",
       "iGYDCTZSQ6bUfkUVVvxVuZCp9fjhVQusvha8rCeyGpKmC+M33vLNtlfPtCR9RwAg9Tb0Q2DwImM6\n",
       "iGeGnZYpWNkvd2G/Lsne5sZ2VNCW9iVfBKFpy/DaE/xxlXUDgIc7IcQ/kFLLyGSaKSmVXAeYb3lh\n",
       "biILhGtLCf7nvYda0bxz7Yoyxas0X8EAAABNQZ4wRTRMI/8AGwZzrGabTHWjXDQbwQAtwh+qkqQx\n",
       "MLAgP8xNRwgbyvP79RDYFMx1AYwoFT5JhJpwp2NvD+kz71RolL5YX1t/Xo4yJygAAAApAZ5PdEf/\n",
       "ACsiuGFlBl1x0JZhWfM5mVIa89Smfg2b1u+wesYNaPPGJ0EAAAAsAZ5Rakf/ACspv5n4R/uG+94m\n",
       "M53hrCvszSGWqY9xuW2oAJAAD5yAre8W4XcAAAFCQZpWSahBaJlMCGf//p4QAFR33MLuXL2oQdrM\n",
       "ZLXUEORP4CYcBis2gl9n2IHU3afHwd7JQboTZ2Zp6dHoWxqO8dbEjLsxneUvAelFrNJq7GcR8fSk\n",
       "sdHC47VxkuJDkM6gknPbTCBk0YKCdvm8ZUduqMUD3QZUJKVJsuzhgNaqVlpq5StvSZuhK+7JzJn4\n",
       "8gqSP1bbgEgScKq7kHEEJjCfQs8ReMm3EWk2foFIyo3+J5/Nhig+tQnZ1IO4c68ztB4OOXUX6/R8\n",
       "rQjYym+iA7Zj2cufsZUtojMaTao+Wg1jlxK5rUO9nmDr6mv1RAIB1875GD6L17VeOnd9opvgw8hd\n",
       "Bwas/5S5848svkqQBrIGJi0yA2elWmH3hos73KS26z+DPelwd9cFTvRvhksBMUglqGrkvLsslxQ/\n",
       "derrTcmzYoR6QAAAAEVBnnRFESwj/wAbAn9dGXuRyTZfTwAWwq1v8I/RoeyYf2yfSFjunBXKaB0n\n",
       "8EyItvtHc3fM7fqhkizpr1SRJwZ+0e6a7MAAAAAnAZ6TdEf/ACsZUAX+pJv0TwtYmGw5WnBfWyrV\n",
       "arm+5MuvhsWdAfpvAAAAMAGelWpH/wAo+bUKz4aYQydWFx8LD47Y4j6QtxTmgjugtyUAB3w0io5P\n",
       "SCrAkmLHgAAAAQ9BmppJqEFsmUwIX//+jLAAK778MOTfzMAK8tPaXKiZd2DF3vEu2wMNnTg9GrG0\n",
       "zH0FkmEV3dC8JA4N7m2vel1AMS6tq/UcGxu28FyAwjuyBBfPUDOFn5HvZCnD+W5hTw82hERbomFm\n",
       "OAkTmXbg1Jx+BFh2I2U1ewxSWmfaX1LzjweKQbkLFS7CfCxIwCzxC3KuRsrlmU6RQm9Na07bKAYq\n",
       "wj/trky8GZCD9wbuevNlPPJtchY/LReCV9dg8uSq3MGmJGLwxzFk02wLmvE9qHR+pFW33n4hnLKP\n",
       "nt7AE9CNuU5PeVl0tK9gCIwZBcjhoAr8/faA6Jz5u8/B4bJ8+KQ2Y+v5aaetHDJRn/1Y+LIxAAAA\n",
       "TUGeuEUVLCP/ABnN20BtD6Xdx4AOJ5Asz4MSAQQH8DsC1FCkJ129M5NYVycgLzr01xM9ZjrPfkXP\n",
       "5LVEL4yVIE3MFYcwmAZK88ems/fLAAAAKAGe13RH/wAplAejrm14lSL/qKXQLM1G3SmfsiIYZszM\n",
       "AJit67hdNMAAAAA5AZ7Zakf/ACmUB6OvW2+o50nEwyWtP1dECFOpwPlW8ZQck598c4ACVCFmUqJV\n",
       "nDPrJrWi1m3Dm47hAAAA/0Ga3kmoQWyZTAhf//6MsAAqXLeRgBFqYX/RfdlH/Yh9fK5L27w+x4l7\n",
       "tsyp18HJ1p/CtQOKxqfu/vZfBmxdQcPKnAJRsIlAJhtIh9awzfqxbL93bxrxVrcMwfqPF7Vt7Rpx\n",
       "hj4T2cUZYw6FHIj8+tpRZhVQX+svxqI90n+cueFtXrk3kYF35Q+wZZs7OXBvvyUmW2S2/JGQj9s5\n",
       "gdm5GUMEmvHYQUTEmx/y58DfHOh8qZ4Olv+2aGtXVgzNQvrWnqSieFvUQSmcyFQAKAMYVKwcHfo9\n",
       "STiEP0H9+5l8E4vCjEMPvGfcitrwKsOxTE8w+Ua+6Z1oPf21QCjTH9vK0AAAAEtBnvxFFSwj/wAZ\n",
       "zdtAbOTXFBcAB/DKdIcD7gyE+reWlrhrats3K21VbnDie6/mGQKDHkq5BMseQ+nTEdBtmzQZY/mb\n",
       "Xr0Y5+PQLr0AAAAiAZ8bdEf/ACji7kl4LwfUoENiEiC2jAej3QsqkKog3c6VQQAAACQBnx1qR/8A\n",
       "KPm1Z/go2qh6Wel6eH5gwhvsNyKtU5vTkj4shm0AAADdQZsASahBbJlMFEwz//6eEAAp8DjRqrOV\n",
       "9CxwA4c34U4efV0HdoidN06f/ObBSMemcjU6PpDzCDryh0SUtIKFzQMUcxx7Yfib2hipKKuUVwXh\n",
       "rRBbwO2JdZ29zDxdlyxSspJVPciJcmc1ynHDySw7GfVcs69QaWkK6teSzAe46+sA7F3OXFhPLIYx\n",
       "zqSedq2xdYRyi8pAr/01cW18kpLGQCxI+BabS7qWRcM54kH8fWjuEjHYbOO1f+yuK31JsRtn6rBn\n",
       "kQCGyx2AEPetAyUF6fY/oUGp/nXWdwyjp0MAAAAsAZ8/akf/ACkEBQ7d7YdSelzVKpmqY/y1f4Dx\n",
       "lXHsUKAAXAx/IZVIq2PWqacAAAEvQZskSeEKUmUwIZ/+nhAAKfIhAUY1gFADhaOohIer98IxMidG\n",
       "1SDsiCs+k3cf1XXX0YNX2I3nk2RNJEA1wcirv8TgiuVFUzCb7iS9ty+Sek4m3TIPxDrAz0+joi6s\n",
       "goWc/fsvJgANzEMNwN5VLZt5T99R0sLG/Zno9t3tXEayRmSYmWAGAtw//cv7mkdBp3AcTxx5SAbA\n",
       "cUg2Hc322wuTt8mw6s6LFjzYYJg0sxnQXvuybEc7Lm150XBNrP1gjUfdvSlp6ZFgwKpHJfaym9oa\n",
       "PUqOusvVJUpdpLsyRId8PC3m8Q8J39PgStEB6bZNTRvmeGxIQcBM2RIjOEA3I5uxcIJEKWsdGxth\n",
       "OXaAEKyNaOIiHkhaatERas/BsdvUyMyGDHio4ny/GkDhVzin6nX0AAAAQ0GfQkU0TCP/ABnL455Y\n",
       "Q+fnLk0gBtNq/PuoVZsGKwsLtk6CIy7GuxtZLi6gduFxmwJKba1KDMq07cM+I3uzS2u6X4EAAAAm\n",
       "AZ9hdEf/ACji7kl5nwnmXljuYSR1XoukABKtZC+DRwpcsjZ6iBAAAAAcAZ9jakf/ACj5tXY0hDbe\n",
       "d4pgWSmw2BwCULjdtQAAAPZBm2hJqEFomUwIZ//+nhAAKfxEcjAAtQHb/ovqzf3n/GM0lZqaJYqB\n",
       "leY4XPsZMVbbiSgN/qSbq/aAvduoJO8kKi0pvfcp9I/P9DgjF6hWVz1iwXWBOOlw8tZG1bAz+oO5\n",
       "C3z+gOACgAYfPuBweTcv77RtMY35+I8wRm3WDM5De4dsPZ7DNPGjPIt7RhcBjv893pcw6IX8iGKM\n",
       "yqbXSWXVRx/75Q4Q2y6K5wxw1U1+urRGXgcgMCfMjvAdHH6wUK0Z6ZpGXtii7BEAMBSDtaQrkCgN\n",
       "JmJvL5w8O0Pvjavto1EFdLXPNs2tcKJJFqE3Z1taMNFhVDcAAAA6QZ+GRREsI/8AGc3bQGancobv\n",
       "Szs8UyHQm893cS1/JcGDSur3p28sChzCIoYyFEm65WW6NTo6uuoPlwAAACABn6V0R/8AKOLuSXme\n",
       "fCjhZQbpFgcX8/4ar43rfgc7UQAAACABn6dqR/8AKPm1CrhCt6GqgaK8iv6YFYckUL8N+OOIuAAA\n",
       "ARFBm6xJqEFsmUwIX//+jLAAKngewGHYowAjgGWnRzsM2QFbcC1Cb+wVNXwaGjqlvJ8KjEfn3G3l\n",
       "c+2hpA5GoJ5z9p3hi+CtOBAXlhSp7q+uoHIIIjYPKksqKcBapi8sXr1BVrt5NYYLZK2enkRkYEFY\n",
       "aUL6k0W8Q0zWiVbVfqkl7bvoi6irOdudh6JzqbZAnnIp5vvMziiDqPLOAeCtcJBXr+BXYiNydF86\n",
       "XK9aiHxs00852W/taCrUz/rj+XNBpGN7Y5QgIGRclj8d/IUvc2guK2BeA8hqLMGGuQ66f0N5r47E\n",
       "Z7QtL9e6mW0WgCygcTi1BR2MjvpaufTtgjkdOHDmVClxsO77hKOTojWxQ3NN8HYAAAA6QZ/KRRUs\n",
       "I/8AGc3bQGaplsaiYEhRaBDSkgusMpo/4HzYeWulkOTKioASwgAA08J4W4gH809LU1UvEwAAAB0B\n",
       "n+l0R/8AKOLpFClSWIUtTZCOMoosuPyKSGJMuAAAACMBn+tqR/8AKPm1dyPwAkU8fSmwVCtzYH5p\n",
       "sacxaukBpImU4QAAAM5Bm/BJqEFsmUwIX//+jLAAKkyl4ih7zn0AUCB5o1m+yy6jXZoejhLjRv8V\n",
       "4QuRftUCTjUfa6dly0hpIwplH6C68o4Z9q+X6pDR0PrW2wl8lw22rpppA49QELF3pLpXTN3JyP9b\n",
       "uBtaMDTJvpI1lZLJmCo4WvAlFOb3Fj4Fs42Q1mIQVSIe1VEcj1J98cz8LCR0HKP59dnneQXSgIFj\n",
       "feVdgQvv/fmbK+1/nEkDQx/OkofXvCdpJDtVTglduxlUTNbRhx9SYd2A0MCyeUKqgQAAAEBBng5F\n",
       "FSwj/wAZzdtAZrCDLlBKAANLuRjUCb7hpvcSE08WrzbnlD17iWWHY8FHHcF7uKRRdfgC/Y0f6obk\n",
       "FzE/AAAAHQGeLXRH/wAo4ukUKVIeKvCdPSxiU2UcH93bQSFhAAAAHgGeL2pH/wAo+bULQolxRAe9\n",
       "VwEcn0js5zhXFDi7QAAAALFBmjNJqEFsmUwIX//+jLAAKkzJkEbAFYUz52Qz66b+vbnVPCLavS/Z\n",
       "2tS+9Ud2DzUkFlVzFqP+CZTwBFzjpJpddENESmnWR2J6c5a4wlgC9GNpXu08RqPMz9T4qFstpt1V\n",
       "QtouVTecvkyQMUcFGxPhVikuUTZ8XTyL74bYoYN+ov0CkYC8mbCQHjTPtxmun5d826h8swO67N7+\n",
       "y/qBHaL+tz223TYfjro00v8mX8CBtpQAAAArQZ5RRRUsI/8AGc3bQEFYhZgRK72J5DzLHvZJoF7R\n",
       "Tm+Gg+obw0nu1jv90QAAAB4BnnJqR/8AKPm0ufRXVkB+ZSFwvItdoMo/lbgDDLAAAADVQZp3SahB\n",
       "bJlMCF///oywACqIcDZwAV51XkLccSM9DGscJC6zru1g1Eir1EIbpujYjMNFl4ZUATzhzcpNH/Bp\n",
       "7aRG6gVoLv3FzDSESAlRlhcB8u6R3czrxbO9Qc1ErW2lDTL1GpFbOkJfCAE8ufodIMI05SXL9lK4\n",
       "dGKPo3f1jMxBBQsR2TOCR27S4loch1ZpPjQapFT2fuBBMWWoE89UOpn6U5JUS7qC2+s/08O3CTz3\n",
       "5QMkQFPAHVMkSvM+Zo59RiM2ZoQMUVzZs97PZa1+rHVOeq3MAAAANkGelUUVLCP/ABnN20BsPxCS\n",
       "2zI1DRFgRYd9P+PXagCgw71Hj7NYkKz3maBSH3lcucl/wnjKgQAAAB8BnrR0R/8AKOLvJCY8vw/H\n",
       "tA0AWb/Dv2LTUAHpK3CAAAAAGAGetmpH/wAo+a5hTxYWpdydF6jtPSOxIQAAAM5BmrlJqEFsmUwU\n",
       "TC///oywACpYzIAI4MS4k7DToNbvDCBbFcQHq+VGaYJ/iexBA+kBm5KLRNXVOlsFKIRPDbKp0v58\n",
       "3RccAp2WMqwXejlZOj+kzDjwxYo2KCisXK+5zDddtjqF+DMQuxRxUVYJMqzjUy/Rg4Ta4tb1Zdh4\n",
       "lYZ7Rfo+KL6w8h7ed46gWmXyUn3w4Wyp1+0MAfYmhdfMWO0tv0F+m+YJ6diAuv7fjbnFmbQM/nOY\n",
       "7+r7qZq0CMrv+1dcGD9NKGCss0uLbV4YDQAAAB8BnthqR/8AKQQFDkbCQyk7bsXUG/Fckj7SqZIO\n",
       "BxloAAANaWWIggAO//73Tr8Cm0WXagOSVwr2yqQmWblSawHypgAAAwAAEbBufJnX+Bn6zAxMvJYr\n",
       "kshwfpSnm+V/FgSJHH9t1eho36PorJb/m8PUFs2Vzij0mKvqRb7YYdyHXh5sjLMFRqmwAAGysBfL\n",
       "7tcDOzuOmibDVCCb3NP9VBLPyPLncGeUFVn4jvAkoE+O5nvPjgZ13I+w87R2xVkE27Cmmu167PSi\n",
       "aMAUMfVAo8w/JTcv0NL5/a+q1Zg4q0mX4TFfDbh3HnT7fryrdJbEHiJnFXZYnrz4ubMMDnPgAatH\n",
       "vYH1eBjgxfznUchhVMV283Ij6+Rs1bmNogju3zveHiDyizsbTtTKiYp6NXS9k9xKq5kQPeRolZEX\n",
       "qsD162JYXTzncRmfqv2gHeJXylQF5jenNTnV9sQfVliDTLvstvT5EwvZ8h9f0H1azXe74Jk27ikY\n",
       "wDHkj/SGalhzoKXpvG81/LujE7TKvXdaj9DX7lX/CsFNF+/suABlJ13cGVQdhed9PDM81pGybuWf\n",
       "YfaBk9FIVIBweajaYT5kC92ONvvtM9VCUX6j7w0M5d3wd/L6NPt1f868L2YR5CvCu3Bdf8vN3Nqz\n",
       "6ardRIemumBF0tNTDAJfytP3A0JUtet0QSfkOnHR+qLAUVQQLXeqQCZ3uJLSrdYnwKiqr/quSAI5\n",
       "7O6PD4qfU8ChMLiKhZUzuBESj2e/IxN5B3oHcPay+9jmUw7kwhpXy1vvUH9mbNmTPvpsjqTTMUeO\n",
       "1S3FOhUrztGZv0LxiyryM8+f7NWPyvOp+KeN48GawBRFamVnUEMsDRY9v/shY9Gk19vOMKje9KaQ\n",
       "JbIx6vS0RAw2ZJ9xVZ1+9fXpvR1IwacX9NxXNxzw53sGtj5yBdVkfPMTAfD0de9KND7ZS9zuHpe8\n",
       "67jBUs8l444KiB1Yppr/y6fdLE8OCb2APdsj8Gx8PDkK6MA/Do6RGyBMzkbh8jRg32dYAZKId9j1\n",
       "dST9nzgibrgO3pAFXnCA2FpZnlLYWxaux9HawI3yWEU+JxoNXOp8kQ+MhqfrnqJOTyhROTyKypKw\n",
       "e16IPPze8Us123hVnm+qjJ2B0NDbQ9nVBITRsaWjOyP+Ol/sZj2b2wWMZR25TUIVPbidMVnsUuVx\n",
       "4UT9oDh3HL3a4cYDriS6escFSx8BH2/47/8AV1Nd9soVEBgQ3+AiKtoMap2i0c7Rt0KPjBnKyJh5\n",
       "+VERyB80hYC/EhVFQDwNl3/p1M7yakn+/4V83GdBr1qwCn3PuH7ZdFDPtCLsB4xSSkRsSWPWQuG/\n",
       "9oFaNDG5un4BlrNIbbjkkOsMlLJ7KID/B9JUSZlqs/IquFF/p6XKn/OZMAA4M6aA4+BttVgAARNw\n",
       "6TlJ+K6QdfS18VykMX40Ukef1kbdrBlZP/qTl6P6ktNH07gBwhldE1OzV/70LcX6WfDjN13fSztT\n",
       "0i9t/e+nzYVeKDuZdqgFzoZOc0gp/XRpyK5iclMp3wvekO0G8iI0wc2qe5QTsyg9Fib//uikGBYX\n",
       "PK01RaempIpsZzSFEOGVtu8GZcSUHztfotchrhj+eTYsETbf8kzdjfFzLDhD7D3KlV2Vg+Act0yP\n",
       "sTq2/D/6IbPd1pFoXu+EwKcFx9htPfZXH2KQbCCEKi3XW21l0EnYH/w3/gL5tsTLJXvbJvVKpXs1\n",
       "PJXwRLJOQOff53bRAsxVuDhmBheKllMA3GjsGdfCc4sJvpJZYQSibeYxiJBqn4JaLRKG9gYfx/O/\n",
       "xkU+XqDqyAk7m6Cf1OQnx6gah4eekoOLpRS72+nxmE6NbzgwBct46CHDcxRAyhUk7kny7n9/3im1\n",
       "H8K07aF8Of0EUSGG8KNA0un4MDgZ7l0bSeGGLjhp/7RLTRsLUJ3hKuqIMTJncTfnIdLwUgnj9Nnf\n",
       "g+JQTKns+I1awzc8IBe+qfPZ0WBupPY5Niy0vykW201DvL3XKaLSRrg1hgqAcgSHXOsSEQ4r8fau\n",
       "Z/DFKLfSfBpmslyg6Xjnaavl5f6CmZ2By0af+hw8Y9PTvtEGQpwRrI/Sh8p2w30vlCTvRAvnpTrl\n",
       "uHFs80VtUVhT4afc4LuU5ucplU9D+ReQHHRLki8DF9+93tGnUuNNWhwmdTMs+tvJ3HnuvvK9nA8u\n",
       "NPsJHk03T5siH4M4ayMlAYTYEJL9lM/aKjRp4dcvH0YYZjEUwzsNbttn6VkbUpI7qUsknxf8rdNK\n",
       "u63qL5zW9mIEQ6Ix+PH0bBl3+PgguxC+ysiQQkxYUvPfDcvPv7v1xRouu9naXHLl89HvPDX+h/j7\n",
       "2HsSefwZZLOhw7MJbCPQdkHgOtztwOl9T7OCpXfzHROoQoZT7Rfo/Tievnii+iRAQAe7RxIov5Uh\n",
       "QqDmTRuZ2eWkN34/pPv16EmH0MT7yvSXag4vFWuHsKXUM2CuG4gPCAxRg1AzWL0qKlVKFglzYWn7\n",
       "wLpxvk4dHe37Hvc4lssQyFSClj4MSeG004tLRwlHf+EQx15ntT1yj3uDI48CjHynk60R4C2wbzeH\n",
       "0+DTyxvHy8t/IEebZGGkzLld+6qp0V3v31lyP81Qj5CkDNiLt1og3qrmP4kEiKThI3kD3+b4NM1v\n",
       "V9dJ9G2pjkUKK8VgXzHNE/+1Wxn2Zm75+vwzlf+w3skdXdWHNJ62/hgWlS9Hkw1nKNt4oUvvyLJp\n",
       "ArCLsgCGcxCR1bFDS+bfnney98QmyoUM0EdLSRFgIY6F8FmFwBAH36dI+RMOAA+68nmXxs3/iM47\n",
       "EI1MqK879kzqe/kyAGOJb69E48R32NpXSNrbkR7XO3QwpCLA6NdnXTmHJg85YvPRpJUU+c3pUVFc\n",
       "p4NU2uRVtAxxh5myS61AA902kErROwDlzNCygDwbDuJX09NieJwAwylkWr7iwH/+ZB6mg9yxK/V+\n",
       "mNk4N6TRHNTfEnj0y468+I8jwVnh0V9WVw2Q8xA0myo0cMhXhix6L0OHY29nuH4BRMmLCsojd4h4\n",
       "ACkMMdy8X9xHC57/9bv/XnHFqThSEHzEP9dGguIDwaVghjYWHA1FHqUaM1P4FCKmqUu/fbTECiBl\n",
       "63BymKZ9letlrFzOeMRi6XB7sPzwei5U7eUlensZw5brd+Af/NNTbkyw0QAtDIl5MRujlmZ4pHvD\n",
       "lL6RUJnhUkMnemzdGzg1jQhh7UktcMf/QW1yM/7cz3iDvDsidMY/L3ieCyiZjI6dywI3wAM9fYrx\n",
       "k/4gsYhtF/efmHvNn9vS7oFb7/TGu9Mv46UJZAO+jbsBdNxfCl0fTt1k1RLTf04k72SYtlmJGYkT\n",
       "3Uat0KUy7GFk8bh10Ba3mGmWFTGWQV+QeINf/eSxvRdn1Gr8A2/i0OSUJ+9yBkWh+gJVCQ8+0GRD\n",
       "4oxSb2pAxRuRjinRAbOElTxGPcGllQB7RR/iFYKXmKOe4Q3M+V+5OVWWIKYKxYXF5LcgO4T06e9S\n",
       "hJw4gMoiiOvwVlDpfw0aiVeO6TuXdM5BSocf/9P4TgB/o40hsWjhOhMEn96BqQUieIYfUDoJ8nbv\n",
       "3t5lK2oS5SKaJgAoYmmmqJh12jHwAHPyIDf9l2V3e78kY2NqaXeLNuzkFO0cwiaCjT5e1tfTp7No\n",
       "psiSskEkVcjAGTEq0XFHnYz3+H8aj/AB3rlYEdfXE+hoER4q7hnVw6X7XV/AwCAKLDBsdXhp8Jc/\n",
       "1RVJhQDlCsoKuP7THtrGB5MEJm4ut55HGBn4WEVqMH0hzxAmjQeJM25Kjfysnx1zU5obITFgRMCv\n",
       "tCSKNX/3wxoyQ0WIiDVb3wVFByMQnyrdaF5Spk6fn2um0Is5qre+C4bEB3j4yJy3nelc929GADhq\n",
       "OxR1nT8bkQGLt/2CJaHPBIbt1vLsHV6wrPDxn+n+33A6Zs+SbFEGdbnh0IobDCYVh6Pc24TLik25\n",
       "Mq9N/p/cDkQ+UsA1x3ZPRqv7C8egAx5XapgKaQQanJVjDrtxbcx3rgBeLTObE6Sa334ntuaj/9xP\n",
       "qAtnHPZJp3mcCJ9gcuGXcdatGyXKtJzXD7cbHFkpeHcSSAPwImSXgLyS/Qub8U+gsuTbEqI/jjH7\n",
       "dPoGsiAReRP13BJ0PYf9eu6ZdVQDHWoC9hXi8N05/nYPc4WlDfdNd0i76MHVxSAdeG+6jKg7Oaw0\n",
       "DmDaJO0DAjJIY9hg20nE2yVfbh9wjJWDRR6r2vdTWTrCbGvUWarP+YwFhpRCXmnV6sqUDI1Mlbdx\n",
       "LfdczLaP7je1Y+a7A2pgwg5ohdS74xkHVKlJOWwiDRQYC8kewMkcFNoqKsEpOuC74MD7+E8/pV6Q\n",
       "9zIC59nPwwppwF4Q+vG/wTZrnPxpezzDTLGswgaso8EUsAxnOq67pDAGLkThSG1JR7zhL+Df2urE\n",
       "a8G5O2FTesKcyncjIj5mWiWBMIa2SF8t2Y8Xn1i3pw75g57Ny84hKa9gQqRgQBbxNZtTavBGrT6l\n",
       "hl1dWPX1KqMwp6/BEsC66BcrZ21vLlBEUGRtq5nLjOb0Gr9acHzD1qc0P/5qP1P4wQmxcw12aizw\n",
       "ZBlhdRlbwJTIxL6CW5WEX7/06HsNAr8AK3K6jpjaoyDFe0B4gnn9uM55go9TFJGId/513bxvIbe0\n",
       "sUzwsz496ODQRnxgADmHA7eoRE0AAAFFQZohbEL//oywSvoIgKCaT3ztIh07B8Do/Qsred8WErvw\n",
       "xBRKO57kaYKdf/4PhKXn9RFaDk1+jHGL1BiGzBqgrD/XNAdEzMb/FDzNGnKwKqf7dWe0wLOnBicy\n",
       "c5I+Zb6mbd1tHfhTQdhv1APXZCE4U04p/opOxgnlkR08b9toXK/hReMcAg7cA6po6XGTbTPUkkik\n",
       "3z+vEXex+OxPx78teKciINzdQQ1dgKd3gym/8mkDJUl0kcvqupDlVrv2j32kVwXH3eyNOhjoOYZW\n",
       "orwQut587+zulCmyuaRlrINdrxG2ZntClUAPhl6FA6F06KuOVDWGFqN0kDabx9nzdlhfshincLL+\n",
       "ks/AArxYtYI0vQhmhsaKtC27UCGmcobCzvy0lBwfHrpmS/QLPRpGvdqoqRASmHNSsmf+QeZVQB0K\n",
       "3B5kLTjX0AAAAQJBmkU8IZMphC///oywKln9HOfAEFwmRgqikmZP03+GERqwC1i3nrRtbSoUDFpK\n",
       "+Y6fYfkOF/LKkqUCSlQ9gsD4u6V86XyqX+4+HCuppPz+V3JPoUIXgGwOdbSQ2y4U0nHJzv5VowaD\n",
       "2BgzXpL+AxuW1sC8fVYOFsI8XcjK0I+ndt36Ao4gz6xyjfszzYlbdmXUma8GSxAL3+3B3IXbTE/E\n",
       "GCgjB8rLnWapJRfgChxasCoq+dNZVmTMfs4TnELmj9HVX8QnGvJymC/MY7AmmoFhH5Veon4DUw0j\n",
       "AWpKu73EhbwgaHEyRQQbX+rzlrWo/sDx/d8qA02Iigk7ibVRaRnK9yEAAABHQZ5jalPCPwLWIqxC\n",
       "pQkgDkggbTMDCBAEgO5I7BjdwI0PYz3DrM5MPK2ppZqAEfwA6TNoESMjMYqbqFKxhiwj4SY12NIq\n",
       "tIEAAAAtAZ6CdEf/BHGJkv6gAYknVPUZs/bGKWm3xiyBEjzESJEOC5AJWt/kk6jE1SagAAAAMAGe\n",
       "hGpH/wRz45iE1yEYIYzcs04LZc4D0egvc7YfIe43mzD0TTahgy8dKCvgX/OFIAAAANtBmolJqEFo\n",
       "mUwIX//+jLAEYRwNtObe0kofQBfVuv1DDtLlvogZZVN5JIUFYiuZ3YJO2L6fdZDqNsM6PKcuv5mD\n",
       "LzjA9KH+VzC9+xtgtkV5V64OdSfFKNEhFkagf0P4nQtP+OX/0OyywKCV3DytS9/V9emVRqw4F9Vm\n",
       "pqe+aAoDTIcYS9DRjO6/4Z5TSe+g9+94QsKR1W9Z/4+wDW8egZR5wMT0YRyHY7F6R+2hbEy8X3Ry\n",
       "rnFngvG59279ZQSaWDYbJ5l3U5nDPOODX4MLAReqO6oeONhZrzef460AAABbQZ6nRREsI/8C1hPz\n",
       "N6H6IvEroUo+B49eGYOui9zEgBbgAEjaDMCnGDO04uKKP0vPue7YvI7Lja23P2ObUF+VofjHQOFh\n",
       "t2o5I4Xvv8f3qk73rvYlJgFTPVIiIAAAAC8BnsZ0R/8EcYd1Ca/o62XjDAIe+ComEcQLaGqmPZTA\n",
       "Bz/1w5X7dAWryjCYYU8G1QAAADMBnshqR/8Ec+PGduxy3UordltwmIAP2gAeYgyHq2/ek4mmvvwq\n",
       "CRrPdjFY+fUZLnS0aIAAAACxQZrKSahBbJlMCGf//p4QACn4vQAFdzp4bffjmKgwq5O7OszprhyA\n",
       "WHg5TffbPY71FOTYWaS4HSLq6ftv3OKrLvuoKILrk7dXkz/w/3YzfrLugEbPdeR2w0tmzdAtkMrA\n",
       "v/t9Y/JXG/nKn3hns5j44E73jBjrP43/Kpvc47D9/pTo85dVeU9DLdqKayZ7cn31w+QjzxQaJj/2\n",
       "9XKb+R8ljaRSzjaSnSWHBm652Uqu3uuBAAAA3UGa7knhClJlMCF//oywACqL/Iv8SeF2SDQgCtMj\n",
       "WR1ZcmTTyiRnuvoESZY1Cre8O/bQM5tMC5zzfl3+b+3vUwU/uJQZEkusjW9Gd+RvymX/I+8yig+h\n",
       "CTpzvl2fonbzyFqsYc58dJZNrwVdtjdscJYpEGDgS8yuNDIl1reHe1hUSFXXiAPNhH4eToVDCbIu\n",
       "Zz1GS8Avey1eoAlNipbaJwnEEtL/0aUu5+9KzBjJD/dw0FnuUpNisZZBqob3HiYysR8WmeOd3S/t\n",
       "FylJ5gDq9kE1Ms6AdtgvPuw2FbiBAAAAWkGfDEU0TCP/AtXU4HTja2En3LJxJnQp8jNACMcQKmUS\n",
       "fZWxfKDJiZEcibKwUYKsdFd1qFSZl8NrZySxHUfPTOn8OSdqhUht07/7rZzEG7VUPsdnDwc1pYIe\n",
       "wQAAADkBnyt0R/8EcYgN53wKl6Kz3XHtgAfHo0IuiWAEKjtoNmz5eBFk3whWJdgeXVhl4WSgJQry\n",
       "2lXbNSEAAAAyAZ8takf/BHPjx9MP3W7aOHgLqABOpIlBkmYMzOS4Cp6OWaFv0JXghEI4brPBMpo+\n",
       "P+AAAACzQZsySahBaJlMCF///oywACpMyYMkIBNKRHVziBG5qfcaAd8V+fwSQBqWT57WOna2NbIt\n",
       "H0qevzxJjll/4nOfAcMllGIZy07OJQte+nTgDtLk9BO0Jp2SnI54S+Oozp9wEs8J+qmlFuWi/nuR\n",
       "DR6GvSj1kSUICPxxNMU+qZ2ONcX4D1acIo2CWe/7S9ojGI/AaGK/kPuAfbhrYQS78roIQnPCi5Vn\n",
       "XzH8foZvYZPNX8MzWLQAAABQQZ9QRREsI/8C1hQAkZz648zdGlXU8PBeACSvvQ6qh2gSHqIhqNiS\n",
       "bDmX40Y2cEwe3dV9VJNzlEf6rAVpRl6JqthxSPBAKwopAL9K9Q7vXQUAAAAyAZ9vdEf/BHGIBpUB\n",
       "o+MeH0oACdMQbOvMLlzVM+vsdSAwbIJJzMrFtJTxu8BxKC9+IZQAAAApAZ9xakf/BHPjxncgR8SE\n",
       "ZlkD6ACVmBBQhivlpXt2yanPwDJaVgSi6nMAAADRQZt2SahBbJlMCF///oywACqIcBFAFBLAPwIP\n",
       "VA3bmaH+2h3Mpv/alJAjRtBv+KqCS3KrEoGJboUXhobgtKyexdvezczkevdHhScUD6YW904rK/BY\n",
       "7JiGIi5bh5Id+JiPL3OEaU/FxyjyTy+sUMTFHq2oFAnppibZCfIg7mraxNaQUYeoRCKvtYpX0OwL\n",
       "N3mU+ZrAX3/ZqeshPsoLaXaSDeilIny6cLhnWdz9HV2N+pcQCbCuNvsD51/nnOIOIvqWyxpWelK1\n",
       "XhfcZrhBKl7ofaEAAAA/QZ+URRUsI/8C1hQBfMbW1zipXkkAGJGGSSb5gALWcC9ocy0NvKfcAFnD\n",
       "v8hsAglCPLoqNjbjx1Jx1wXaCyvvAAAALAGfs3RH/wRxiA4Hanvj+DC8ajgAfIWdofyYbquumFly\n",
       "1IEaTcL8fscrwnoFAAAAGwGftWpH/wRz48fTD92tCgQXDRL7pUutp1iy8wAAAO5Bm7pJqEFsmUwI\n",
       "V//+OEAAUbCrdACwsDtsto75FcpBXmdCHYEUlvi5svvAbsdi70B8yFSFje08ZaqrjJhezfuxLqqO\n",
       "hQYDxjsNQ4SAYkwNfuuRBLhTlEK3wDFBCjtvLK8XKQjLybD7VoMp03MrTdXrp/0t8pRbQBdrWN7U\n",
       "tiHU4f/x1PB/fTfuOa7Gj2tSRmsHJcaYOl5Ba4cOM4B7qIzS1o/WgOleI+bCeEicqBcMNY6Pfa/r\n",
       "bWr3UKZ94S5DzUVQvTuOCwOmjNPi+gxVAJW1OGxYrKXFLCWtINSRL2dl5oWXd+mlmkmruaL2YxM4\n",
       "AAAAS0Gf2EUVLCP/AtYUAJKIJDHRlBS2kAC5bPJG456ZeqVBLGgt4GLCQivkkLfjl1CnYcLg3Dfr\n",
       "MNHbO+kAZa6xfXpRUjb6OVJc+iwyWQAAACkBn/d0R/8EcYgGk92XxsRRMHAJYAE0pK3/Ga2eGAB2\n",
       "V5pfEZHgxgbeAQAAACgBn/lqR/8Ec+PFtmncy0dQArdKXtGo7m8nU1xNNTEQ9duelzLr2ICAAAAA\n",
       "h0Gb+0moQWyZTAhf//6MsAAqiHARQB/ybaFZKQebvjt6YaQBQqw1Wn8H1jBsZiG8ZzOTevm9QemP\n",
       "0fZnwYpnM+BuqSYYabT9MbbGZmi877+lvV6AVhjIZo9zqS6mTOG8FOfes98UwX6Tgb+OS+cvh8O7\n",
       "bhLY0QylTXfn8Sz0NwoVO34wGwXPgQAAALFBmh5J4QpSZTAhX/44QABRkZwbtbACwr/1IX3Bq8St\n",
       "WjcbfuUhQwQExhkeA5bz2NC1f+NezA5wBT+9/DxWk6jxqBqdVcUvo7Ciy9jQqDG6iRRO1WIwJweQ\n",
       "9CTG63a7PJSIp6xyPMGwp4c1s1cVvmVAlK7tDfoprejz2MuGRh94Qp9zrdmkR794PNESh6uGk3QA\n",
       "stRcjqJZT3H2euW6Rf7AFKv84YBUU7VDiCJxUh53ZmwAAAAtQZ48RTRMI/8C1dTf7TkU9/WoMC4k\n",
       "AJaOg/aJA2eLlBXat3/1krmVcVJ2JdxZAAAAJgGeXWpH/wRz48W2wlaixAC3HS6A0uZoWrsu+vDX\n",
       "Yl/Dg6gDKKMJAAAAsEGaQEmoQWiZTBTwr/44QABRsGRADoozxil7+MSQHAbRGPMGnVz2X8VcBvro\n",
       "5sx43QiJhMUHZLYzbwxyaeC0Bk8E8pbG00qma3WfKGo0HC86aizm69u7SdmmFQg08Rp3prIRFxxy\n",
       "ubWzQbl7VaWz9unyOUEmdog7UL8eCxQlraloCB/nExBV8+K9GQFw6UGgH00zkSKpcT3uw8dWHZdo\n",
       "8tAMKf0+Y/Q0iJkZMb5Dx1aZAAAAFgGef2pH/wR0+QFN+PEJMVzhVbLqCxcAAADKQZpjSeEKUmUw\n",
       "IV/+OEAAUg1qogDlnYCfXP/JJSKyMvcj1okKyOoNK+5wyBi1Q8QBYYjP/il5tu6WvIvkL9NLTI7M\n",
       "FByxIhBqkr+E80kxXOd4T+aMkfNEszgGpcY3i6ZeYA2TxfoLym8Gh/ARMduhvQ/dvXFVOMMst589\n",
       "h8LWMmlMZXOUTh9OXSmpMd7daoWQluo5RcguBYnEbSy6vdOe1ifdioMrxwyumehSE36Xkb3HWimt\n",
       "3wZdGslg6w/M+t1mIUUUiQlbq6L2gAAAACpBnoFFNEwj/wLV1N/tOOStk6H4IK3lPt9oAC6AAAER\n",
       "wbycFa3jJxkzvVEAAAAWAZ6iakf/BHPjxbJ+uYQ/Cz9y3nyWYQAAAHpBmqRJqEFomUwIV//+OEAA\n",
       "UZIfwVVADRnQuHKXrEU87JNtM8WBDjAiHDLUHjZIkI+BYqJnsmsQMFWC6TtuAV4s0yqIJ2gdvnA/\n",
       "tlCIVAev1OdUbq3zHQo5qgbP+xvBiBm73RbU7xqX1MraNrS87j6N4Kp4MPDpdtgHXgAAAHtBmsVJ\n",
       "4QpSZTAhX/44QABRrp4ABvPCbg16YDoes8pliXI2UKE9bxYav0uKV4KkIznlWk7Efwyth579B5zy\n",
       "sdztpA3fHcICrB7KIZOuzEztLHoWbBXnucEFOc0r22POf4AEwpdTGZxX/4aiIMTXTkztnt2PQYhC\n",
       "vp6lgmwAAACLQZrmSeEOiZTAhX/+OEAApCDp0UCpqLl+XcJJ7u3ydbFKhw83/M7niZf+h51nJJph\n",
       "xtbdZdXrAjHitCwAleyC+8MMEuLGw5W/3uu8RK7vHbUjGpwqeg300H674V361w0djQ+QGYMpIGn3\n",
       "bb+dRgCq5AEtBO67lxBLRcn3/0V4TuZCUR2BWG68umq3wQAAAI1BmwhJ4Q8mUwURPCv//jhAAFIN\n",
       "ZggB0hY5a3AKIbxGuRkwlgG1qq9DZdkfcPYsEItEdL4oVQtupFEvVOreaha65mXDIqNvXNObky0L\n",
       "PJwwd7kb/M5MiZ21S+gMF/dvUXNHPIXm59TRJWPwlGnNo+V3wZe71YWo4IrKemR9mutAaMmrPx0i\n",
       "fiX5dUGk6aAAAAAUAZ8nakf/AAKfkCbe7Z+A40Yx8FkAAABoQZspSeEPJlMCF//+jLAAFS0IHAE+\n",
       "MztNF2igpbXDhSR+J5vUZszAWKJVzAqXMFYnNJR04OxVegHt9qvIFUnfTqUQ8wecGfZeIFOm6IYt\n",
       "22IOm+ME/eP2RpS89DmIdOliSJJeMCgbub4AAACVQZtLSeEPJlMFETwv//6MsAAVQ47fQBW18H4W\n",
       "tlIQLOXqOzmDBN8OcM4Xlpii8V/RBLpbL+q29SI9SXGlvXwKS6AeORuUPYOm56aELS5ZQ3mKR2Qk\n",
       "8yxLXpjlm/DSWe33+/iIK6GNjONo/JAa/3WT4bHM0VwLr4BfZ0w2ELvhga5y+GvX8iWoSpEIc+r1\n",
       "0Atf6KMs0fEAAAAXAZ9qakf/AAKfkCbe627OXiiekAkIMLEAAABrQZtsSeEPJlMCF//+jLAAFSzN\n",
       "gAQH50FIcGQIF4Sv0rKzRlr5rNrHZFdXBBxABeIOxvx3eFVCA/zSbXYFVNWpcG9ptyy/x9QiUtNO\n",
       "69NOksbfr4hLYW4Eyi/uCtVVeUV6cZpGZt4DeGjdZRMAAAC4QZuQSeEPJlMCF//+jLAAFSZnEfJf\n",
       "AAsLDRkRXAcO83qqtlv9eoVEs0guASI83p7Z9yuTPwRR6PTzu1pBC+tV3tplS4Xf2d8VhFga9sSR\n",
       "K/2tPW/grOLbFmbvi7bc0ksh867mZAxHRzWrT6BAkFO0QBs/uddhJ1ZRmB0f96YLIHweDh4Q/frY\n",
       "dwr4GZtk/rYcOEGXLxNxbBxcdxaCi/0yyiJcE8/7izJmTb/0W6xZjqeWZE+IaHz40QAAACxBn65F\n",
       "ETwj/wLM8qIwLg/UMgAAcZNP3mq64ppJM08j43QCOgpGpbzM3/ErgAAAABYBn810R/8EcYgFN5SD\n",
       "U/Df0/43UTKAAAAAFgGfz2pH/wRz48Ww+0p/NtvWat+wplEAAACoQZvTSahBaJlMCFf//jhAAFIc\n",
       "iN1ADpFHkPazryAEQzQ0GkkB7baiy3wwivDIj537O2M1DXVdHYILwDO4QvaCI2STakMzI2Tf5nyC\n",
       "c71/2dOaeKuLIcjmR0BWKY/WsgE1GoYDy5fj7E5sIVTY/Hv6wLaXDcWfHA4EIlRtiaunFVKYxKPC\n",
       "+27cu0MFDwp0UBDIiv+3djeLOLN0e2Ac+dkdghhvG49TGZgMAAAAHEGf8UURLCP/AtYUAIxMqy43\n",
       "EzfaZyOxNmfkiuAAAAAXAZ4Sakf/BHPjxbFAWUHmZ9d5JPYjTKEAAABiQZoUSahBbJlMCFf//jhA\n",
       "AFGtYkAboENILE8leNqFGdOoQpdNS/5UEIw4CAelgWWWVSQju0PWBL9nU0QlHLWJI/zpgTygOZYq\n",
       "f0DyzTDXFe/vKQ8KtalPShB/ySb5cSmtGpsAAABqQZo1SeEKUmUwIX/+jLAAFS1waAFhWCmdoUlT\n",
       "PYB4/0F4ewrg/UYkIerDR0234wIwiKY/gkhWn4kRKh7wllKRICX7etu4zVmrzhs+so3yAFo/HLAn\n",
       "9UvJROXSJTTn5fS9bwBTkTala2dV5QAAAKFBmlhJ4Q6JlMCFf/44QABSDW+dAFbaK7zkRTKtCKvF\n",
       "bAsmFwMfxnk9bXVI9Zx7iRMDK+BQSIDOze/9ojL4aNBwQlF5NxTl2+Eat2JuqR7WvxEnsd7LFrpM\n",
       "QkDsKCQOWdOOkeVq9r+txcOCc98DLHcTBkrF3ivsSl6neyU88ls2ZKGg9XRTwyfv5Y3Fnkf5/JZ7\n",
       "yOEYY+CJQbkg3BXAR6mFmAAAACdBnnZFETwj/wLV1N/sS9tC7HdA5DXTYuMsDdIAFpQR/dg/ezwi\n",
       "ZaYAAAArAZ6Xakf/BHPjxm4NUD/mTuXgsVszM/9fCRQjK7JWV/J+0AEzC1z4LzjdKQAAAGFBmplJ\n",
       "qEFomUwIX//+jLAAFS1waAEYgZB0ePPHl4cTomqJrgFTbFUfpqPyVolHl2F9qDyK75p7muGHJDrP\n",
       "41GbVSLFIkjG7/5ClD0/WsXfFnhVFc6sAfT6adJt8AuMlLygAAAAeEGauknhClJlMCF//oywABUs\n",
       "3hgCIlb+wwUqPHvOiFNXak9IH65tsCbMkgUPpdVs/ZtiL3Vl4VRmrMAbKpUljneGXnG4K0VEeWOK\n",
       "NiQN7VO2tXG16sl/Wzv6EFrk012Rkaq8aZD0xCCZF5rhdck7m3LUvAj3rNXVcAAAAJRBmt1J4Q6J\n",
       "lMCGf/6eEAAVE9PDgALZqq5wsgtT9raPztbh9Sl7ZxnCMk0TgpTNg3a4aNejzow1cFuxfZ78E++i\n",
       "Ph7noxHVMC8nugQ0BI5QKEOJvoZeVQ7WSsctbOUVvI86gwdogAbYu+Zr6kt1AxjMNXmnhd8LwV/I\n",
       "rHrZduC2bYJtQZ5MgBOlmRYmjd3kxI02aHKBAAAAK0Ge+0URPCP/AtXU3+ySSst9TXyAFqesI6Qh\n",
       "rcvYPrY6CwqS58GpsUXbppgAAAAbAZ8cakf/BHPjxmJ6aHWJT7dFpMGkq0CFoOmBAAAAtkGbAUmo\n",
       "QWiZTAhf//6MsAAVQ70+SADjxOMPmhMFLRmLWtuJtdD0EGCRPNUucfte1rvzBD+OLeeyPAHXv7e0\n",
       "nGV0ULqQz+CgFVUDbzDpgx1vssSZl6Yi9oZ49rCIe3AEqxgwT+Li0iO/vBMpHkJawFlWuI6nUzuv\n",
       "qjhAqvhiSYwi8mQg0y0Yon352WZD1BIoSQ8mzAP6ycABoSfPep0fgmoRYCPziFuhXgkYy7hgatz0\n",
       "P6lhM8x5AAAAL0GfP0URLCP/AtYUAI1e46iNt+oAWC2YegebxbvC6svNJCEt4T1tHLRU61CXKGmS\n",
       "AAAAGwGfXnRH/wRxiAZv0iv61rQ15W5K7adjWgG97wAAABwBn0BqR/8Ec+PGZIFZku9m22R06qMs\n",
       "+5GKDUCAAAAA40GbRUmoQWyZTAhf//6MsAAVJl7CnW2AC2emNc/IeCkzBr3JY464JKDQRkf2Hlm2\n",
       "Y3NCRs7C1uERQDts/JPfOuWF0Wl0ktO84glOLTuuoGYgMqGMssJ4tmrh+gvePjRpNGSjA1HS95X6\n",
       "GPuRwbZOURaBDGkdPkKUW25iPwxR74XTzI9fIqreOyTS4skGBVgFf0x/74eyqLXu3WYWZ/6g+KeG\n",
       "MAduNOP8ogiFULaq0DQcBlBP5zbLtMz7yJ3n5Pyl0I+kLvg/Xn6hJ/CLk76fmeLpARv21dlPjU0k\n",
       "r/ppwmYmZK6RAAAANkGfY0UVLCP/AtYUAI37ts7n2yEAK060ksaVzz0ui4t9w15yM/+MNJq3zl3n\n",
       "GlMwKupifKSNoQAAACYBn4J0R/8EcYgGb8i9mzUUoQzhEe+mAANvuafPyFQ3dJfI7xW53AAAABwB\n",
       "n4RqR/8Ec+PHyTI7H/hCHjkWQXiWCFXnlYuAAAAA0EGbiUmoQWyZTAhf//6MsAAqTMuUWmdxRMhg\n",
       "FFACvtdS+wvnEbv8CiQ1Pw0v68YwuO5QXxf/fNmoshbj+4TItzBga4LLufurFT9PTYZR3XMPGUm2\n",
       "DDSi8x9/0Fu5c+2t8R7fjS8Vthx8e8TToKE65ayRbicBxtZoU3RTKxsLsCdTmuUBXCnmBMX0S8Tu\n",
       "m3Vtg4sVK+BHTcsQZ5Xj8V6cjjfr2IBTZJJw3O3UQ4R+aqeu93o0m89m+r8PhiKHvxmC7J7cWe2q\n",
       "PNtqTnlry+OyEy8AAABGQZ+nRRUsI/8C1hQBgb0Fn7DDoo+wjXdC96oqN+QAAsWxkI05wJM+9sgh\n",
       "SrwdyJiNbQcDaNE4gFgpYk6bpbjUpfS2z/wHgAAAABoBn8Z0R/8EcYgGb8z4BSbbZA6yY72eanCQ\n",
       "EQAAACoBn8hqR/8Ec+PKuHa+7AbvPIP+7kWv4brgAAds/ggSIQE5spTBmIE0XLgAAADLQZvMSahB\n",
       "bJlMCFf//jhAAFHYd2AoARkYzb5dGW9zQJCz3ewnk/5d/jMGvSwRB3iysaO8ud0y6QevFDKsthJ3\n",
       "w8vZDR3I76lfa+cuig355q6QA78JxembP3KnQS1//5xNMsb4KNgXHS9wenI4XUl7kApjhKWW9lk/\n",
       "deMObgNFd1T2rIXLeRL8PjadTHMePHUt2Y4vu/iMUluS9YuwBhzMQw9vHZF90xhZTcxc0+Wi90lp\n",
       "inovzSgOmMquHw4EK8nr3tON5oHgu7qb2MEAAAAvQZ/qRRUsI/8C1hQA22VHHIgcgeT+jbChp0M5\n",
       "6LiCwM3bj2ABA004SKaOcxyFXkMAAAApAZ4Lakf/BHPjxmIwswKCuTYJ/bzTps4qAAEh9yRQFZeJ\n",
       "IDFl2UYMdLkAAABzQZoNSahBbJlMCF///oywABW6xRc9i1oAWxiWowWzTnGWYUPoCF5vM8Qw8LJ+\n",
       "H5wtjKI4ZJBU2FAvGc2HMhkFZGOQLjlIx3kROjYUCxaHG8r3bNvZJCKYoIw3RcwUgFas+vEOi+AO\n",
       "MoJ6h6ofAwucwyJ2+QAAAMVBmjBJ4QpSZTAhf/6MsAAqTMuUWqHZcwAz8I2e/zfvDhIAQ7tPgZHV\n",
       "Ncri50EOy0KgQVTub/Bh3qHjPvpUGKvZIGen7WCfnQtlnmAiuME0m+siKHjRGN91/uY7Jev7x02k\n",
       "AJQkmbN2+tsT9L/W1vNz+2IaRL2AS90Sy+YjtqURtKCK0BEOahVae4d7F+7y4aS1UolurVrynEw2\n",
       "CE3Sp650Z8DMBaXlCgn+8XtSvTzRrahonZKfFurzKZN5ssybuicFlNcqagAAADJBnk5FNEwj/wLV\n",
       "1OB3Fp0FjxMxASIpCaKqKjoFVHmsPoeSBtX5ZE9ABnZ731dRrERx5QAAACgBnm9qR/8Ec+PHxoLo\n",
       "3AGddAEruGgk3e6QASQQszFaIR3HQ+BiKWyRAAAAyUGac0moQWiZTAhf//6MsAAqTMuT67meS9UC\n",
       "XHgBpijZ52wPCHu9mYGNm17kYfmAQVcFoQr0gyYBqNONmcvWe19KznX0Nxvux0VCVQVxxa92s1jz\n",
       "Y2jlNJiw2HtW64hFxoSFPJpN6Kd+uh1cnFOwEVcO6+mG3cxiduvdr3c514L9+FoA/VxPnK0KLGoS\n",
       "FymmnuCvswHtE4Vodck851ANS+7g6SCGsTXTwK7JXFwzyehPxYV+BotW/UhSSfwfSz7hh12YAKzh\n",
       "e9pdnAAAADBBnpFFESwj/wLWFAGBvMP1ovDof4k8ojA9KkPgdz+BItVcjL9iXCsQJ4u0TZdupbgA\n",
       "AAAnAZ6yakf/BHPjyrBfljbhCVDoUm30sLyiXwqacmASX8FR9zZqNvd9AAAArkGatkmoQWyZTAhX\n",
       "//44QACkIOPiZCILpiE1ACJ3hyR3bemxKxXbxERhAxP9H3/iSWkGqlsNhHrg4G2GGf1LFKfKSJ4u\n",
       "DERtabO5SHNH2eUn6rcmviV7l/32Us64eQBbnVpJNvOJyw1LBFjPa2ZoyOp98XfAZWYOsdbG6PAE\n",
       "7im2m/Z4PvESVw/Rk0ghmYJcq2g9dKd7MWkcmmtr5zlcggeJUAqGG30ZpoGbTwdvMwAAADdBntRF\n",
       "FSwj/wLWFAF8xZ/ujEKsme0Rpbo2QAJYvyHp0VOHylsKIvZtjO+9/6UNFw2yExMmtRJBAAAAKAGe\n",
       "9WpH/wRz48qmralJMLHV4se+/SmZRsHa7wNdFx5vBnTEpxC0kSwAAAC1QZr4SahBbJlMFEwr//44\n",
       "QACkHGWUKMAQwkf/EF6ACHozkmKUTP6U30XcFM16nXxk3KRLyK7z+ruHvFxNQXvG3/RcF1bFKDWS\n",
       "fPf02CX/qFWeBuiJIz7Sq4WaLUbulsb00eCPuotMHptnR/RTw+LPddYC5Yfxc535SUqSH5pJL2l+\n",
       "+PuT+sLPIAp3ikDATyWVlHq3FF424OAHlmRQ/oE/bYKYdw/eznsaKSYkbUOX+n1LGVHaTwAAACoB\n",
       "nxdqR/8EdPkDeVTwHwK6f7ip/ZdYmY7oSHu7fSW/QU06kzT0IsC7gPcAAACWQZsaSeEKUmUwUsK/\n",
       "/jhAAKQg47efYQ4oxAG/tNmV8phoyexlwHN6/H9tyiWnDkDKRrWq22MfQ8Bj50rzOi1yQHO5PbaV\n",
       "aiQYJkFxCAV8DtWRCXYevv0Y4TbqCYiwI44uOt4bW+pOtpAaXXrjw0N3fXVnvuLdBb/OorVQOoZa\n",
       "BVUo04f1u426gGazc6h3ckNyu6kCC2+AAAAAKgGfOWpH/wAVTVyFTuGkBmysfsMeQkAE5U5+Qg5i\n",
       "gTv18wkSg7p+cu/DnwAAAHZBmztJ4Q6JlMCFf/44QACjIy5JgBAAFRH17AnYoUgspyKDVnQS4odB\n",
       "Ks1yR32OmtXj0HYSPda/uj2SLGGE4YJPyR8W7ye9lMZEWNWlgqNU2p2PqvtLQc2YMVJzAlNYC3Qn\n",
       "khFVgw623xdqJmWd0nG9e0eITEpBAAAAdEGbXEnhDyZTAhX//jhAAKMjJ1gDnADZWUMrw3BDYJjA\n",
       "kdS0iYjOXRgLe+f+n78iPoMLdyEyv540mxglKeQcmZUwVmO0za2PCFqHTARH1YOcwamrmif2/6Q5\n",
       "0kMCgr1T+G4Hyq1gylId1DbK00Jqi0hZqzljAAAA7kGbf0nhDyZTAhX//jhAAKMra58Rjro6AEiE\n",
       "pUZnOBwchrHsmlbH0T8fXc12fmayxOpUn0Z6T2HTPAA9wnrtP5w/XnWBtR9RjyeBpTp6b18y93N/\n",
       "E5l/7biVDKS+8evyWUstJ6+eBimiNpHiX8ceyroBTXHwihwqE+hghg49IJeK5wRqrhq2FiIutr0x\n",
       "UEma+l6ztFTOZ9zVU3cLfwUf/Po21DvwlkzIiS2NNK3S93B2ii8vVgOXkWh2Tm2Rk1mmARlu7qxG\n",
       "l7DytC+baLGnBAcrZT++/Owr8q7w5YW8pscasDlp67HfyEXSfKmKhzEAAAA5QZ+dRRE8I/8CzPKi\n",
       "SLZldbWSXAARA7BUr5Ib/9C49dOcI58wO6gfIu+387opd3gX+AcN9+Qf1orLAAAAOAGfvmpH/wRz\n",
       "48qt5vxvwAE1O7eYzRmbw4d4WyfQDCja4qzTjjVLltAjAoigOSww8rszNHd6dmWAAAAAnUGboEmo\n",
       "QWiZTAhX//44QACkIOd0aAEsc/spvOWwZuHkGyZ2a08q585xGA/dm3FwKqW8qSpkxZsHFVqpAbqu\n",
       "CSezRNnhT6PrbL8WsF4EQekiUnSmYKZhHxOB7+JR9xb6Utl4LgeadBOlfm3ytu9WPdMcQPQcbN41\n",
       "vKm/qghnRlgQrVKqWHJGhKmemwnxQZ+fxfwowT3o5I2MS2+kF8EAAAB4QZvBSeEKUmUwIV/+OEAA\n",
       "o7y6H2dACVuTvnHzXnhWOX3+PYOY/UosTOSJy4LN+rLN33j0uhxEL0ZYhPE0QHttASAAPxp6EcUf\n",
       "AbktNW2Ii23xRvQjUCgM8zBoX8q4Yd6ycW1Nt1w2H8FJ/fzKke8sD+90m+xW6K+AAAAAykGb40nh\n",
       "DomUwU0TCv/+OEAApBVUfiIt9QAfrIWjtHYWHHanw4UpI4DMWfxI79P+u9CgvePWKcpnoMQosXCg\n",
       "VljwaimTKfw1XRnpg23lHUk1pajBcyKmSK/ryiKcitQsEijD+lnNCElYfdkMyIaZP2bpQ4eKNtSJ\n",
       "5SW4Rd8omkGmeHXfbbNQeiEfIvAB9KJ8JDgxCcgwctLpwed1x20iPw/NRas3hLJdPn/2AKS1IJ6D\n",
       "XpQQ+kug3aFtIbjeVwLIrOjCJXauY6IWJOEAAAAwAZ4Cakf/ABWJjVDrngAmc0LIEqFW6dOkW8Bg\n",
       "bfcj9iyEHs909ls2ZW8KbwB82ldxAAAA2UGaBUnhDyZTBTwr//44QAFHVGQDv9ABxZ69y0LRy9Za\n",
       "aGml1aXr01Nf3zQf05yxmE38SfUiQ5OnQxex4LU6RfVO3A0etQ9ncc5y2Q+zsF1hhhXHUwUaCt1l\n",
       "WCGaO4nsSGv4UndywR9e+YSeIJsX7tNiTbdCZT3PHR13DLyUnwuqtogEcSnA5v83dTrQakFFZ37W\n",
       "BConPUNpKH7FCUhaMmevGsiZS1bRN4CK62Y0aDZCmrQocbJPKpfvSRZ4Ludw9nuFnq9R9IlGG5sy\n",
       "y5+y23CAQN07s97EUfUAAAA4AZ4kakf/ACxZhL+ZfH8AD8/hv2kABwSd2Mb+2B6HAnRndF62b2Ti\n",
       "qHKzgW8I5WeyidUWSAAbcbgAAADlQZonSeEPJlMFPCv//jhAAUg4AJ5ewATaF7USxpeg0rbHc9TQ\n",
       "N8pH3CQPhJtNXv/SfJHm2QtiZna5MHAVzn0UXFKmYNN89u0sXOh0dHbV43mknMsFZcZFDZ62LLPW\n",
       "7V64piUrp46HYq5pESZDG7zjy0cisNn7mvSTc4bMNO5Q/dOnYCDFgPdn8L4lVvtxQ2IXJ/8ecy9A\n",
       "yYfwTr4MPvYxX1JMknyBegFeKxmfw3vY1Mk61bu1k10X4KmPcwklrzlgX0ECE4NBhpsMQtlH/qoh\n",
       "Xf+C4e1n0sM/mnXK1m9ha4FLzxKDwQAAAEkBnkZqR/8ALGPvQvCulH4gBbgAEntClIxz8vyVVR8M\n",
       "wemLgizXjcqgoLvGytAfF7+h+J1HwFoBqfK8Go8Ip55fN6JHPE3TDcbgAAAAskGaSEnhDyZTAhX/\n",
       "/jhAAUZGNuoTfawABJ30YMRiU63+GvcwCcdn+urWMyFS8BrKA/YlbDP0JDA5BiqYXiyee29AZOy6\n",
       "buTb0bbu4U6d1hisSbtzYnhDeSVRzewCbCt3QL6U8lMz6HiAZK16rXyeX8rDhHx3efQE1LNuFUPf\n",
       "3+TRzkIhek9Y8MHb+XnRM//esXpQzlpq1lGdEZUGUIpCkCEB3n5PJvzDPZE9BoGAlis7ucEAAAC1\n",
       "QZppSeEPJlMCFf/+OEABRpbR38cAJg6v9hxTNausqdymQz2mTFr/dGYRt48FFoY35Rc1R6bq//i+\n",
       "uzTXF+duVBuE+qqRA/G0fl0R3zqAtOxq3CAd9l0nxWWabY1NmUJptOzEW/DJz4DH2PqYXumuGqa0\n",
       "OPSEt0VLM0wV5/mEIxtLCN4FHkt9wloh5nbanKyDY5D3wUnNneyvrrA61eq1No2VrXMGQVgm2DbG\n",
       "gPJHAMb3h/1fhgAAAKlBmopJ4Q8mUwIV//44QAFG54GKPgAIXC9i3pQCO6yq5rToDvyq5I6g489F\n",
       "TLogKe7DZqxcqS6QEkxeXqvK8f6IWoPNwRM5JQqTv2iCkHJQLVk1bzA/S0yPklOAru7EZDnWws7x\n",
       "nMs3Z9SrXJDL39oZ1YjNxHOZ+5NdIdFqXw7BWkJ02o0ad9SNz9Rck7vhs1LlGFcIINki0qcEAvSx\n",
       "vs1ZZlyN2sbAPcxZAAAA9UGarEnhDyZTBRE8K//+OEABSCP+qtuKWhABO1+9Y1ei84k6Xbkl+2V4\n",
       "io9rRhRX6xi4k8xOfUpj50Cx3lXKsfxxq5tYTpyiNaZ/nccrdAhCH9NC1EHyEZsYeZ7uw68yAv7/\n",
       "jGUI+NnHp0WZLdQn625B0pcaxBXyfCi3taqMe0k9ONnG6oU/u7QcNWW7zGTQzrhWq1bWbeFylKAK\n",
       "YZJgID/jX/AM4Ze+i5eadCPLQ+RCvG3rJidldNGix/h10cMqOO9aaOnBsynliVNvtIWtOIW3q71n\n",
       "YFMjxdX0yiIQnOP3SAyJZmmbJR/MSL+J3egMgzJurDdxAAAASwGey2pH/wArN8+TGYAJOPm8Ghtg\n",
       "DzD/9tIRcSOqBN1gQgiZG91+az29/E49ynDeHUJFc2w/8SN7J1gMRn9Undd/6dLGdRO2zsw9bQAA\n",
       "ANFBms1J4Q8mUwIV//44QAKNZQIAiY7Y+yGIRHACt21dKyAIRVmhLaw5GV0VpZixyEAbMO3zku7c\n",
       "TZbRFUKQsg9Q4P3neGNmhWhsEAzES3ex00wAYZCPfLp5hQifhP7sC74cTruDqcQmZmkJDf9WwJWf\n",
       "CvDocB/2J0KOB+l/U5i3SCukX5rS1yy42qW7aKTGNM18G/DUqXZSyIDcNpfi+eMVg467kjJlsqs2\n",
       "/PFwmCuQ1SO7Gy26oExQhgKrEkaKHuCxlkiIdA4RUt+kyvhyJqIEUQAAAO1Bmu5J4Q8mUwIV//44\n",
       "QAKN21JkalGXz8AAraw5WZ6Qb9lJh7ssu+k4WZFpsWyiyYuA2C7/ljAwJhDHagXdEWzg5XiPEKdY\n",
       "z6I0qI3z6771Z96m4fqTxsKRh+qw/FK7ndQGn+dLk7fHRM2htGvYKK52Yus0AXJ1pTrVDTWJNabP\n",
       "b8VvDZCgN+ttZiZrNHTWga7PBi3sp+bkg/CTllJxZ/fbCCm6vbIblMSRB0ZuANva8ditRR/dytIL\n",
       "yNiNzTKUMYDVkYrm1XbQoTMmx8V1Dk55NAzfivvcx3IDMH0lgBZ9oZNfYjzDKSNXyU39gC8AAACw\n",
       "QZsPSeEPJlMCFf/+OEACeoxxAuE+WMgAB7DkM39YQciTYelHubjOf7AOa80G5rnsY0ecH9z7Agra\n",
       "dGKycaw2DFs9MKmgj/+f+32rQSxDk6gTzO3U2UW79rIk1ofYNRnXe6/Z2ytl8QPQsrnbvb36qyPj\n",
       "ZglrEcP5JiIYskLAuKFsapHjEik0CO3kNuY1f+msyG+AtZAaqxZO+W+6bm7NHRLcl2HkUAuLTj9v\n",
       "ZRKugW0AAADKQZswSeEPJlMCFf/+OEACexH5+mgAalFIjPPjU4M7qj/zOmWKK1HT+su3yHbEFYFo\n",
       "a3XfHxJkJyv5ui0GWb1Ngzt6zUtYHlc+XnUXoM+v3mp7Iv56uDxvqfwkQN8LdfANgirSdZ3XpaUz\n",
       "claWrHCh9EHkBRR+9eXX33+8QgCM/ySDH3UIf9/KFymuiEu+Qlpwf6IEpMCOpnX59RSm8gSRA2eS\n",
       "gBFUUikc4VV1tkEaw/IO1jhtJ2NdGtGRcnNPMyVigjCJ8OWHoDj5FwAAAOJBm1FJ4Q8mUwIV//44\n",
       "QAJ7IQlslAA7FCgBj/uhdwFqulBB7SuSqE31l83erItymX7WIoREtThmPK2ISow7Oz0ZMkuaElE+\n",
       "l52bsgzLDW7QB0Pow6Wg4Nz7JAbNab7yIEjEHF95i8isLl5as2r/aPtrE66tzgPYqvMEBNZ3/CgD\n",
       "W+xz15W5NirXMH9yauAngP5v60QkfopLH872gnoExTvP2XGGaddeG4XR0DreeBvesJMz9AaqyUmQ\n",
       "/4m+x6B9OVOTtZNxbRLstuZ5thsH9S9Kj0WT8hyvaer9sPmq1m8ctZlYAAAA6EGbcknhDyZTAhX/\n",
       "/jhAAnqyHYFOZ8NHS2FgAhqyadmHxhUV645Ue+qSKXcP6SMDLHB5m80gWEBB9BtczcaYPUWjHTNJ\n",
       "YQBoy8oift4+T4DmUWXndf532uKlAdZ89MNk4+oiCLqgN/EHIiCOcyxUpV1UtR5awMd+umaVaId+\n",
       "4N/xGxKPK2UDO+uLO1IRM+Pmp8yQrhoTDm8wOMk6xNdsInkzl97loIc8RFRJLUo+VRhpEGvgyClK\n",
       "TM6AS4xrkQTSv+bx4kvuSHl0Mb+FEMl5hhSSq7AWboXZM22I4PNKxaRVRiW2AKzSmYAAAADhQZuT\n",
       "SeEPJlMCFf/+OEAE9kIjGEVrx/ANEBkBtAgAEwIBCiYu5+I9AkK7c8YCbz85QVBK8PuxgILOq0EX\n",
       "7OrFW5C9Rb/ERfIkBnlsa889Rt7hVXc9ig3dJj/L5CPSsPmV3XmXfuBQiFgFGaBRj/kBzAP+kru8\n",
       "u1dsQCRm+2USG6Og2QYQ5mKJmzvZF8o9C2JHAGX4hVvxvLimcseSICDPPR0dVzJ5fpSq+ZlQlGPP\n",
       "5M0T6MgQRSQB/DpiGVEnfVShcqVJo43aEbq/v5O71YF/u7/XlzQ3CgfFjuwIVlZvavLvAAAA4EGb\n",
       "tEnhDyZTAhX//jhABPziLxSwAsPIAs/HnOSWE2ZBppKla0IOvDK1nkg/Rko92uso3vO3CT3UAt20\n",
       "TtVUOoIxHyer+/bMGKtuewh5YOFZr45XXUobmosCPSJph8knRkg0SEF6j3rfxwgaIc8Xwq9FQ/tj\n",
       "jWUjoYe/95w81Iqs/vjz7+SbCMVOKNZAkPNkxNz3qKQ4cE0ADcqGqZcWLPMogfe4JmX2SdHc7I0i\n",
       "03ODOSEpNbqozg5KzyXWCwgnyNoBE3a3/bGGhnq3XbUXH9Kur3Ztb6LCWjaV2MeFUC2hAAAA3kGb\n",
       "1UnhDyZTAhX//jhABP+ObFO57i+oAF0Cq7jdnfcYmkpTB3yTzVHc53vArntWSjUrszbNxpD6GRPT\n",
       "7xttpKQ6ZfaVyzuTElBIkzGgNn0QWNlQ5YacKMiFB79odhOtjpnICtSyEPGH1xYCu3FL9KgxJnA4\n",
       "bPQ2Cvf1GcsfGTP7ghhxQixNrQKFcKT8wUDm5cMfzkUC55PSjasF0f5jZ0mtDpy7bef8dJ9y5p6I\n",
       "TWSpuy0alLXl1pQKL0/WLK8FTkoAvb1jzVyfW6vsglg5B0EoOHimLwTfwEJOAEM/wQAAAO5Bm/ZJ\n",
       "4Q8mUwIV//44QATTx0PDL0aHDBRUABOCxws0O3cbxgPk9CabQXYncLlr3jllAMPYPDqvcSN+nHBR\n",
       "cyz4oZom+fPL//myMymsbiYYyR4mafFTmiiGCrO3mW5TlocZ1nkC5TQza3WOirAPAdxPfOB+wkHq\n",
       "RlbOZ/u7221IdEs+NFkNfTg4Eqfaei0sR6nleGHJ6MAK+8tlOJU6E3RhRCifACU5AoVM3zDu3c5/\n",
       "CuwD/9utmZmJafXB/VHS/Yrr50bmbDpIa6weQ4qf1v+nW0TBhY6rSzWSFnR87A07QKs9boxN3i1y\n",
       "ZVtlp7raAAAAxEGaF0nhDyZTAhX//jhABNPNIWiwATt5RPZfU/uV5ZioJYY/hO+JQZ27FIB/v0Vp\n",
       "YnMI0E7RD1AltrdKAePro9N+e9/wLPznmzf1gWgzlCNgCAy8vscDTsCbbIyLCYjWhUAoaMHhRP51\n",
       "7cD9SM1SQDU5Y4RLA/SpFiCxH1Cmjp2mIEtnV2MKpZmuxgZ6KNVutPglLX94VzX0jrNetFVeRic8\n",
       "0R5EuGzC4TTMS6HqQoz+WSln2y82UbYdzUJBx74+PzoI4yoAAADXQZo4SeEPJlMCFf/+OEAE0sfs\n",
       "iAU+foRCUyuSZ6+M0GQWgABMNfe9uq2YGgOF8nPrluoh7wWfA1wHSKjBnGrd9w5mlxs2WtgfenY9\n",
       "gJtlCq+Ori4rC0uwpie1x6/GJoO5Lz40cAJpZ3iywVHCXCLihev6oxsQthOa9CYccd82aCdhrccG\n",
       "IV997TlJZUkvj2FDAUBjXpmIssGapcRNUAkwteEuILXMUnlez52f3NQI+22fWUnP8al+3uroWTdU\n",
       "a7+6KR7kKvDj0LDC43zDSRjwBBH95P+ZBl0AAADIQZpZSeEPJlMCFf/+OEAE1N6MwvpWllEfiAEK\n",
       "J0QICFt7lzZyX2HjULqKU041S5+4dtw/cw3qk+O8i2FESMZvNj1ja9+597XdOlOSAI5eMHPJGXKW\n",
       "YWhAlxiyGx42tTcBaPf3xLSJPj3S2/UkqCMOPbSXUR9EnnAOPkEGzIsM77629D8fI6UG+nmIOsq+\n",
       "7atpMTkCBVjMaWwEz8t7pyezczOwuhSXBJaST9jfsoyPkvyxX1yEDZ1yNXbh9ZgE4rxy3bA8VSC+\n",
       "ZUwAAADJQZp6SeEPJlMCFf/+OEAE25LtdvLuTSDs1sKF3qNEAE2bNiSe2i03jg2TMgu2dl2LY5v4\n",
       "ktuqXmzNAWZEb66PVDIihxDDu+c7BeZA398d3xMe0RfeeBTuC8Z/lrtIpJVifPkLzSE4ud0SG8JJ\n",
       "ELNyqsSR+AI5bwpiTlrpHmpcvflp5uGmu7ANyTKiIQlW/EQkVx4zxcPLOUseYXR/2wL0kb1h0ztY\n",
       "iOTgX7nCDuKT1d1A5vf3iFwI+z3ayo50oE71wrVCejEfLa3oAAAA0EGam0nhDyZTAhX//jhABLLE\n",
       "aktIJVTeBAABx4Dk7c94XQxvnf0/E31WyIKCaof31pusy8n0TVkmmEtrtErt2NjYBV1YP+zpP/Sv\n",
       "i+jjGBZxAhks0/sr6gsPzYSpuDZG2pAAJAcamJ1KvooQfeMQ6n4WA8vTc8RpNh/p/HH7sH7es9qr\n",
       "T8zA9ouT3oBUC7P6WLJMj6Rsjud8AFq0B1/L3hQ4Tcr9W5Taf51JsPAXKFqmWGRl200LNqo9wtlD\n",
       "qHk5Yq6BtZ9H954DeQ6CjwokEQ0AAADoQZq8SeEPJlMCFf/+OEAJaIXgAWunqcdvNXqpGRnO4OYq\n",
       "07kvw9MK8WBiw0F8e2fzwzu/Wjs8H6OrbuI6l45HAUfhTGpH3HSIh76rny43dTx6RsVQFXQo2MRI\n",
       "qBbor1fG2o7eIdmieUrKVlyb4iePDr2gr/Ar1rzzzmc6Nuzue6T/svVEyOF2LheBMyJYhdzq4KXj\n",
       "AN7lP7iheIwu07tDc1WAY7CeW/bJGbgwuYml8OrbvC/ZgBO7iXLDLNbsKK/PejR+8SmyFhUgYG9z\n",
       "0nxtwznTYha6c1bQksp5RIygZ973O4LlSn4dSAAAAOtBmt1J4Q8mUwIV//44QAlu5h+ScAB+eynQ\n",
       "mNcjfkvOvNxApjE0KIBj9DBDQPTncqxpdZVnklC19x+B0CX1BQDa9DDbkRpLTdDTqXPMGp01VcZl\n",
       "3qVo2MomsTR0aiPEdhPOoeIu8pOSc7DrSujEPr4o0EFUunatBweRZdpA1j3sli5M6HDDb8ZmtpWk\n",
       "89M42Bf6YS4cHxCoUcplM9mNIDkPqIh0RlJk9mDHxBtNthsBs7tFB7xByDZs1/38ncKDa9gdWsqs\n",
       "LD6DmEtI6i5byMRArI4gBcJLtr7NhT1eUP04Q67OdofFtGh/3w6lAAAA80Ga/knhDyZTAhX//jhA\n",
       "CW0HapRACZx801WL9/zOCzjLN4WJDrBqMh7+yPRf9AgkbAyz2/OT0TRCxUvKkmlcI/8ulG4N710e\n",
       "CcvjIlhvBPjn0Aizz+86J7/cZktFdMMkBdOHgvYC5ZsyU1vGhoDSJOtR07Np7kUov3+42ZVDLUYV\n",
       "wOgUz6gmaF8trYUhJaFnqukf6/kAwfmZAQI2cPdA6StFE/03x/hr1qs1+5MtO3+21BrMlTwY+PV+\n",
       "H7NMD5ck2ndpqmuCepAPS0DRBp6/c5UwPg47/40FngFqL6ld5YDNiqr1xxY/15ZNMSIwMsaPRl2t\n",
       "mQAAAOlBmx9J4Q8mUwIV//44QAl3zK5SugBaj4r751rGUqW862of9qoWCIcudfXC5O6G5l70eOHr\n",
       "x1GufssPYxA5TcO3ZDw1jE4bZ7KiUpY2eUMD75PCQ5wUz/zboHp8LPqxhJ2zxNaqd+R87JxoldCs\n",
       "KYxi4ZICMZ1zEjyZosV8iV1Q+SvcWr+p555b0BBum46yB1VzDpqYCa0Wt+bVgfrd2IvCX7imxDwC\n",
       "qJktHecSEMSVQxPguarkPC9jKALwnud2jiXYEWV4X4abUk6mwWp4eVI8NzQ4l9vjFB0LbFYN8HyR\n",
       "xL6kmBUwefQ9TQAAAO1BmyBJ4Q8mUwIV//44QAklkcQixce6AFks0aEPTIurS3/NCni9AhvDA2tb\n",
       "O7XgB+rNLNotFqJYxPvEHIQkIiSyqxk3aK7VBSRUR5dlnj+5PI2xUpY/jTmB6dcne5MzAZJfKvcE\n",
       "dqwOEc/FDASQCjoTSipRAKHSW88PnwolRK82wVLIiU/wz2ahuoJhwTTIkpyXSxhpgtLbnxfRg32l\n",
       "6+WJe0ukn0juvNicL+o22CkVdz37vyfd7sUCr4JMZF91Kxwc0varmcuft2EK6D2Oj4aUfYKESr4x\n",
       "6H2bPIr5oX4074epY7gObu6tkrHIcccAAADxQZtBSeEPJlMCFf/+OEAJMq/E8AAiR3MpoSZt8Fh5\n",
       "9In2IALArP5Gsss9+xC7XZe7+JltYyVgb8wNEwmvXwDA+MTQNl9u7jQbOMcoYKAbd+PCoridQHqs\n",
       "UhKB0gx165KSeYZeg9bsQuPgUt8Ew3qwJ0OksX0f/UCpVX4cz5cvq6NHOXphekWTs6jf6L8/W9+/\n",
       "fqF/bsLbWzh3kMQei+JTf2IQMlMFfFE+AJtTtkqA5O00XqIGou+5FpeIEGTab3x1vantUDDD89/a\n",
       "rlTh/g9aL0l7k7k9EGHyr4MR/yFZQJneoIj0IAQtmif52Dr/RtCTgAAAAO1Bm2JJ4Q8mUwIV//44\n",
       "QAkmL+aMKQwiQBDv/MWjPuPX8vTeckqfhgxWuqFfhkCken3yMVLiiUdmqgpJVE6iAqHE/DXW0Yos\n",
       "wbsqe3M1qL6ukgZxq0zl7PKciUn9ISoARUOeOkwNLrrNKCAGXPRzPuxB/XBuBMHByJQKjsvArJfE\n",
       "KkEyYgDkX++8eUCPP+2P0iMi4bFJja/icmqY7miEbR7p4rjRjjuTVaCCPvCAojRf59NsSULt9yVh\n",
       "ecwEWIY+fbfYA3d1OkLsIx53qavJBn3eXFkc932ALEIBGO20NSLgGnkBTmW8JAwYDEqWzfkAAADZ\n",
       "QZuDSeEPJlMCFf/+OEAJdxLywqNGUdpyaLHABphzWzcn3cnfL+ed4NamNnb32/9hXYVfEcb9Sv2y\n",
       "tAcXcHi9s37pb2MoYUpV3LuChfGho2mdURzoP4SN6ozR9RS2MNM9zzAzfWHR5W2fb4t/kCzY4DXF\n",
       "4V6Ieg4VtqnWX/+00PxZqz98i0Vphh5fAOO8AlN1o8yYWj6NH2lhARFhD5Dh6pKaZAGul7sXCWcT\n",
       "9Bmy/4+uBJ15OVqXYn6WyoBKR10Cj4nYYfDi1tdvvlB+a1QVWEaFcJ2r/zBoYQAAAMNBm6RJ4Q8m\n",
       "UwIV//44QAktD6QG7wI3EW+GxGXqfTdk6/r1jhxmgGScOhZNbGTdI5j3oi/kQd5tYGqYaa6/HDpS\n",
       "n19K6dVxmuRiyi/eF+fiif5tY6cpejTo0/DvtlcntDjqaPRtgOlR11YYTYRdPwh7XmkG1obYUxQO\n",
       "7TKoPIGAwi666o3yqKA4zWxa8kiMpifZt5I13xlLQ2aSUA0FdG6VrqhN7WY4LgWf2cAaqGnnETVz\n",
       "NIo5m9kzjiAxKqacUcy2toAAAADfQZvFSeEPJlMCFf/+OEAJJd8MzumwBhyq9CYgGuXVLTsa1HNX\n",
       "yDWE9dME4bPmpPpgqS1rgzrWYYWdsrF86Fh3/Sb77fcVNEsaAkkQsBc/TwSUvW529+QJI5YeHAW6\n",
       "BaYcQcl+19VPl1yPKFZ3jfQc+mIvRW0qWkixoKfV0NcaN+5k6NqUTPVFjpJSRzzgQ4z7UDqG2RHC\n",
       "O94DewWySY/UolRCY1zFwWUIyu/tQHc7oajf0cP7VD2dLskyGtHaupCLE0qnZim891HNDE7vVJpg\n",
       "UP3tmr9+RxfGcNQWPqRY0AAAAONBm+ZJ4Q8mUwIX//6MsAJhSwrLYwA6bNhZBMULLAXOxghZzX1k\n",
       "tin8eOj5tdBXOzih6kfKQBMdKHj2K2ftmePG4hzShJ1Am5dkjdXFdmCOTePUOyTrahE+xx0Xzi31\n",
       "xy8/vgF2cNNH+HTtYkQIpwjhZjZasYOSGYLnykfAmbpeB5uA1dgRyiuCY5UiqC/gSADXua6Any0z\n",
       "obUX5HGdQREPkj94K2CU3YI3DmqsRLCSKrijvlOtXp25yCmWgXbfqUsAA2uXQraLOpFz7/bHmhy7\n",
       "ksVmS6ENjqgF6nRi0QFm/FdUsQAAANpBmgdJ4Q8mUwIX//6MsAJfmNi8RNgMDdDw88q+A69aVH7k\n",
       "+dIU0UopB+/42JqhGYMdx/pVLMugoIaM3JiNzB0jB1dsu6+uVFee6+SSfXWvqiaUVOZ5M3IeTIZG\n",
       "rK9XrhwQzeclywW9lX27BqKQRLXGPC7frw6sIb+Bs8q7O67mGBxG7IKIPo7KOuZ1d267dxtnJdXR\n",
       "ypR8B8RfJqiC/B3+okXQAbuD2r3g3bGQeu6OjhIUb1tqWKy3Zaz+SjTSgWGGtOVwUwUeKLvThNu4\n",
       "jUTbnHOfC/aE1b0/wAAAASVBmilJ4Q8mUwURPC///oywAl+UpUB/QV73Lq6k89ztglrd96syoV87\n",
       "Z9m8SARFNNcj89JDk+dxPZ+g2r6H5y5SpBBEmONaFs9JNBAxHpBWiAINOsipuqH8j4Vkn4JHNfL/\n",
       "Og95aO1dKbRpXYwOu9+gnXKNOyjYUdwOJWr88Qk9Z1k9fgXYErrGrNW+lUq9iIKLUHn92R8t+TY7\n",
       "/wIeCudOH5vqCVqfHeVUP4C9ZHTpHi3ClHUJezWu2JrcbGjVwvEmLLLMushXIyV24pZXU/Bxi6QO\n",
       "m0kYY2MqS9koq14FitICqVhjbPc4cs205DiPBDGiCIl/iEpQWI2H1IVWZ2txdDZOsZ5kv6HpO2Jl\n",
       "yOUyzevfUD78APpF5bzmuEdc7BPaxAvsLQAAADcBnkhqR/8BNY867Di55YvyO20MPXyzNhyUOzi3\n",
       "kQm0v32qL8avQAJlZt+4zTOCRyTVPScG82rKAAABWUGaTUnhDyZTAhf//oywAlAKOON33i8UOPXN\n",
       "hATbZsv7w8+eoxJfQZNj2nrk32V2nJRRe24fBHBFNifY/1NJogc3TIuUBH1EA7MbnjIW/AUmHqo/\n",
       "qkx5567bgeCJT3k5drDUlVbNdD0eM+Jtpbk9ehlFQHb3StFeD1ZmUDX9AFdT1oEBFBFmG6Q2Bh2A\n",
       "+RBqmCX+rvtxFtoyh5uAeYU0hKs8s1rF1fJLny+hghhMzD7egSCiu4/VjiProCGsHYofpwkJMP1V\n",
       "ruT1otG2cxFx31HGwvjcCtb639i+QIxIAm6j8ZqJvBtyYaufx9bHVQgpMnYL0s2xbHgr/HEk1WY2\n",
       "BXsAKlqK3t4Hfs/0cCKf2tux7QMu+UAIXjGlYUiWpFpT6nRb1CLAPbSGbNQ8JIpE48GEKoAdAxA+\n",
       "F6SiXk0Z0XxoGrR+jL2oqxp3j+B1K8x6sdTASc/s+S67lwAAAF5BnmtFETwj/wLM8qP87HSyXAqv\n",
       "H0tJMiokZXNR+Erv8Yb3PavSCAG5tfML2yEi7E8gFM205zERPOEHIM1HBn+jNJOl8qDZwY7SzcAz\n",
       "dFak0BlLUu4STk9SEr9mzfNXAAAAMQGeinRH/wRxiJATpBbgi6Kr46kJvZDXKBxZipoSoAJzNCz3\n",
       "z4dskOXgy26gUN7RtoEAAAAsAZ6Makf/BHPkFTxNqejXdtjtEpBha2JLkginMHaGBEMFu9MjtXKx\n",
       "DJewoIEAAAE9QZqRSahBaJlMCF///oywAlEkWcu8QCQsA9yBAwv/4BbLUTZ2/AAyfS3ieRgM6FJj\n",
       "hUgVZtq6oG8TDZgUbHnKrBJs9QmyAP/lc4oe/g3pUJ7Ox4ewEft/UQCXxwbJb9wNDrKMURWWVp+a\n",
       "ydTpquEC7ULXOUkeWN791hMLa/cgyBG84RwL6jYJnAUutF8RohAyCeOE00Zce3HtbOb6LKy0dbkD\n",
       "B5pKJoECCXWNs3Sembv4ZnDmeJXQ2VJNBpZxIt9F5AUuDDOMfbI2HF4Au9u7N6R6LSbcOBKQebIe\n",
       "lDk/JlbZ45WHXWHVqREW363Kj/vxU5d/96hlGvrGBs/bmOGxgrhprVFwh7ABZa1ljQE0h1y+yQRk\n",
       "N0ww05ReUZaxdP5tE6hXk7Y6exeilh0OekJGd0aa9rLvor28C5qPY+YAAABcQZ6vRREsI/8C1hQR\n",
       "w4dWlmpWyeYbyueAEZ9bmLjImtwKz7Hk5wo8m6cQo1tY0SS4ir5SEGPgcTmwhMJuHcLRBcSBQVzZ\n",
       "e/8c3vARVM7KO6ejNJ//kCgT+J3WLKAAAAArAZ7OdEf/BHGIkCEPmOe2AAKrumE0pHhcKlPx/ZUF\n",
       "FBQOdU/6iokGN/wycQAAADMBntBqR/8Ec+QVPE2rWiNBuI2FtGXMAQs3xYL39mAHK3ciRt+XGMAA\n",
       "/NNcuopHOOLycnAAAADbQZrTSahBbJlMFEwv//6MsAEnyWl9EV8XT0AAcZguC/jv4Fs73iMMqZwl\n",
       "rvQImqTaO+/Jl1lvOnnDG/lUm1jVWEZF1wrgfJ0581fYP8lKEkPFhyfz06yvu7eXG5AHMhMDcAXI\n",
       "nwItLDUhK5iyfN83uU9VVXjnFK8tKGQYYD43xsQCDf7FJKWHs6WLEC1UwVdcONvKsEKiCGJdyxco\n",
       "bA1YfyxbEMjiulIaZHIWr8mw6LF7jfRZrhUkRic9G4TjEgzlKvSYnxLZZ5BlWBG1cEZe4vz8PzXn\n",
       "tf46nEfAAAAAIQGe8mpH/wR0+RIDMTME1kKwbg4eTiGnBrwvuhbpGf1SQQAAASlBmvdJ4QpSZTAh\n",
       "f/6MsAJQEC3nNqBAcywBQSVGE2qszs6F7XfJ1c4QKq/8dIOYEwZQ/sEMDa+nRKydae7DCsefM+AW\n",
       "Mu/nxJttYDRn5jm2ztSJ5yrgmOx3e2ARbU6MahHYaC1hW4EPY6GpCD+hP05rtIzBzPAmNYY3yWMV\n",
       "tktUCasEn4mLknyJkkNkLSHgprzVroU31+5EGIj/dIkpXB85Pvhrs0UsH+TwTxD6UdP7CyA8EVM3\n",
       "yWS96aUy+mcdEcY7kf8aIlxHWAMUXW+N2sM09wD7XneYNWemcAGlAN8D+zOKTxof7X9aW4Z2SOAf\n",
       "gxrLV4kS5WDGZPmcgXOFcSkGuawAjSjrCjKQ5cAQr472SBXwNTdXlKRT6mxmeTfM3zHzp+dEJTbg\n",
       "hB0AAABSQZ8VRTRMI/8C1dTpyCQtUMlaRz/4Al0t4wAF0AANdq+4W18lDVNRo+qeK6cZlB5/f7dC\n",
       "NPWwo4EVWtIzds8bVkTr7aW9MD+opjXlQx4GNjksoQAAAC0BnzR0R/8EcYiQH5jWi54YDDNQ/RUj\n",
       "PnwABbnf6ZIshKTMRObUNrPzmjDQamAAAAAhAZ82akf/BHPkFW/58ORByB3uve6rlJ//WaT3DHA0\n",
       "KsnYAAABFUGbO0moQWiZTAhX//44QASXbp2iwBsg1mrJ6CDawPAmlwe6vQnsPWoqCfz1oNneb6BV\n",
       "+dvQ9A+Kv2c928eCVwMtsho23v7VEE5hmrTwrwkGY1hnSmcxOouZa4KNhYD4VmRnFUoPrFhaOiec\n",
       "0pfSXWdZBksZs1BSwAER2Z6aUgJda3q8uA0S9ASptwSfdVrupPPxjQvBGW1UfLs1tmADXvnQhOHx\n",
       "KQ8i386RhffIvYTviJWBzA7xi728J1rqvU73whOaD0sF6HAsLgpn/7+znDXUAlnfJtwXSvqiCK0d\n",
       "scpGKaTD0C4IHJ85qE21O2XyzrBUPLJYmmV8aOaqdz+h0TsWimpE9PuYR0XF5slE+sNLqx2Mq8MA\n",
       "AABMQZ9ZRREsI/8C1hQJPckOcY1lN98SteNfhL4mdYAFThNwcN3AJXshvTucZtL2NFDARTl7zpB2\n",
       "Z6qLckyp0bh2hI+3/Zdf3XbTSSOYsAAAACQBn3h0R/8EcYgpFdGlIIy9AT+TrN8ofqYAXhGYbAjJ\n",
       "0xe4YEAAAAAwAZ96akf/BHPj2i+Kef21YAAWwNEIHMBeaoGj91J8CoiYUY4KR7Mcn6285wkhBDVb\n",
       "AAAAhkGbfEmoQWyZTAhf//6MsAEvycfL9wCKxk6NT+dJ/4gfOwIggfm+KwEhJS78r48YSJB2utsX\n",
       "mSECnLGv9hcOs2xhOTidD36hUJ+a0WmYbpGb2fwmxQ5Ww/ikic6ZIGYyV94uhCKzlTzt1n2kwoFA\n",
       "Rm0kQ4gZ1dR2JJPI+C59J3jbb4WXpmTcAAAA30Gbn0nhClJlMCFf/jhABJaumD6AQNj1wbulnAjr\n",
       "EDjBBRJ7m0TThjtY8uMm/U5tgp7yUgdWT8deXugeHjOQ6rIDRJbgE9NAXYMnVQriCE1LLzlk20bj\n",
       "xnMPFMpKU5Ooo1sDPQ9hVSpa2e1Fy1LnuYX4P9tZFLIe5QKAsS0W0s8Pegox0/rIlCth09F4WwVf\n",
       "QHqx2JSw13ZWT19cBpH6Fflkw4aWbkQoig+e7s2X73qr1HH54SdgPbtfiPS2RxHy5/Pn1o2fvWLF\n",
       "/6UPZX4M1tAbV3KNWKQHlyioxKDgIoMAAAA0QZ+9RTRMI/8C1dTk6eyIHMYkwTezt3h4ACs2grRf\n",
       "MWAohWX2SMbKl/sKuXQIl2K3pcitoQAAACkBn95qR/8Ec+Pvd7tCBFMopk2CxpPKq2uEliqOVVWs\n",
       "N/yN5RibkPQKSAAAAMxBm8FJqEFomUwU8K/+OEAI59GUACNNIx6m4IviZ9x9Pdkhx8LTgS0mzK2y\n",
       "Yh+lRtDSJzMJkNZ93afts3VqSCX5IIC2SEhyRKS1HxqQAP9p1W2mp2QeT5kCmMn/GIJ/a8h8tMzq\n",
       "MO9zAAZB+QS9cvnqRX1MmlSYbDEd8ssDKgWPslJlmw3ulNdPpmCxo0B69g5W4l8SnmaGdi6Ro5/A\n",
       "tdOolAi6Q0EvDdmLlBgg3OTcXDBcV9IxeQmu9lX3dmwt1RQcSG/8jfGtSdq1OOEAAAAyAZ/gakf/\n",
       "BHT5JAviDVXk5pViVPDvNgawiTi9VADXkoXkAH6v+8dJHFT5X5bgdimgl4AAAACyQZviSeEKUmUw\n",
       "IV/+OEAEmYCUggEu3eV0KHl7OLNmvMGMrKJyUE3fHe/RBKRzdrxkC0KHT/SifjpkYqFqM/uKwLT2\n",
       "VU6NTVkZpcTt9C0zi5+JhjzVxIktaOkJvX3D8JfHoOEnROUF8yim9RZSGHz7NrZas0WtP3U2w/xT\n",
       "husZywH4NU2gcROlHm8+ew3Vgjbi7Lmm6xIikHs1BNnmlbUhc3d/zyd486vrliXTTMfkcDjAlwAA\n",
       "AJ1BmgNJ4Q6JlMCF//6MsAJQPoCAN8JCWMl6byXSeE1aaP1TwSZVScxUPRIyraXd34pVdlFLt2Lm\n",
       "jDz4inmd6fyozZ+k+A27ETZ3RCJA346TrbEw5YlZ9JRQlwGADNj28XL3MiEuNYykmKRDnbDiWYnB\n",
       "duma/w4OfIpHfLK+ERF9ORawG2QY0/O3/Nn5w+tcRb66wl8m7ZBE7fgej8nrAAAAwEGaJEnhDyZT\n",
       "Ahf//oywAlCHqmIA5bJUwFjxfeZg8/AIeQ77Mk5teS1GuzocGTijovy0pEL/a8+tm7hVevnV+iVh\n",
       "Dj/RW9ly5RaHRLD7bFjFv5XHn5ZT7OrNvqRdNY1RmLU/veipO/2A5tzsuROo9Y6zHMSZ9DkJuHZK\n",
       "vu/qoIzZrqZFFgjd/f3RFXU958nGl4FfzglLNLj+ca+1jiiyMAqmojEK2PSVzKxd1BKOVg3wiZAH\n",
       "2XL4ug8SZsSmORz5NAAAAMlBmkdJ4Q8mUwIX//6MsAJQheUG2IEdb/ZSSZwAWOYUH88FdkoRY1Cs\n",
       "qTs6wlVdoN9pfh5VZVzVXZSE6xb1RYNqvGzu4jooQs5YHwPNnBy9ckWs6o19DVZ0UXGvrdeGEK/B\n",
       "+4Q/2uRZLqxl0RPZJE0HFiLmJjTRFvrc2poW40u7WaMEByVvotpcUUkw4NLyIavKL3Xhn6cL+vx1\n",
       "Y0+mflMiEoy0KuKwDOt2vlCuprxfc/DgqvXEB6FNeJYVIw38Ji3jZUScGn/EKSAAAAA3QZ5lRRE8\n",
       "I/8CzPKj/ZjAnfg8ckFXgS4ATpgBC9aa23ICABdLu3AZ2A+9cB8CnU2pOG4zp5XCwQAAACwBnoZq\n",
       "R/8Ec+QVcKt4JYzYbojSerABcxutSjIfgAnbS5Ogmzo5yGQ+24MTAgAAANZBmolJqEFomUwU8M/+\n",
       "nhACSigvOwsBKJ0Lf8qCB3HYAfPyt6CUrXhKuN9xgJmJqE/2KpFaDqrwOJ1r25fkZO3mHOQNXghe\n",
       "0PIcAiEZVeZklsYkJQsu8suUfoRROxwA8pcXMH+XTEgLZaCvHujtP/Tssu9KKIYG0AInPNfmInQX\n",
       "uSYJkvc8+soKd7dH5Darz2fj9z/UtEi+4zHsM1GpDPA4vt4RgrqYG9kRRuCrDXNkQGcgqPcnHT8P\n",
       "cKFcc4y/h/Ts+Lg/FK89orac5/3UnFdhXaTjnPzZAAAALQGeqGpH/wR0+SQeNWmljCg+CU+N+I+d\n",
       "s+qCwU4mJ7s7Z8Tmlk4Z+EWSoClpeAAAAQxBmq1J4QpSZTAhf/6MsAJQD5QdUMDJyve5KtkOIAG6\n",
       "/zPIh1qdumlU4pXV0x1nILosn6O4CZ6sqophCVoIeI3EJP/uXX8TET1+6WZVTTRmkpP/aqZyqa3l\n",
       "jQl9tVUosPPQ+WylMnTiVQ3INk5+9EQp37SuX0S4LF1LTJZEDlO4KI8KSKf+YzbVLTWfjoZCGSLw\n",
       "WR0mcG5v4xq13BiVKnOuAxf/vYewPAr0L6bMMW86mhW13rTmrImRGtazFNjw7poZ7eKq0qhCZ8c0\n",
       "CH6h/J2AdVW0RjRnxPsK1dQ2uarGBYv6qqOnK0pX0Ye1wyAUOhP7GWhO5XAlxj0cj1OEY3sEpRlw\n",
       "976xlDiQyJHxAAAAUkGey0U0TCP/AtXU6cgzQXJLD4xRWEM8DQ0Wqgte6T6xZLYc194cGgBV/joX\n",
       "1HW/70Qu88RgtgT4hLPm1YASP7n4MmZhGopuLTFXtU0lKDmpqrcAAAAmAZ7qdEf/BHGIkI9t+ZUf\n",
       "thbLIb1hWAnqqv6wX54dwVhho6q/E+cAAAAkAZ7sakf/BHPkFXCtpIsOujWwh5f3KzP6bADpc4BS\n",
       "0O7GhEYFAAABDUGa8UmoQWiZTAhf//6MsAJQD7lnABxTQuz5TnpJq8L8aVkzGlwYVQ7NhGsphXMu\n",
       "nF8ol9TcngSLLcvCs+Ja7zcynBsLR6i5uUkNgSc4DAJIzNXfZk3RtH3ADJTCre/Z6ViK1J+8f5t8\n",
       "YgPB3qelbjiRQyZEwIuOfpd+5TYUVa49ubCtZoRiQQiV1U/aNYBWMeIs9tGH4sLz4p8KeAQ6OrYI\n",
       "FqZegmJBVz/EqRp/Ar2QIgSwof0Vai5jNdx3TTJRmJT0tiLTs25w8dMBOdT5qTfKrKctYSdWvgRG\n",
       "EGlwOzYe4C4Lo7/fmuLdwmOXx+T5TU03yeVwJHe6qn3CBkbAiwhmTA8alVV1NzX6LZ2AAAAATEGf\n",
       "D0URLCP/AtYUEcP6TpBFl07mzgF28IASPrlpagdLiGX52dGgAKQnhG9vCYRLGxqTHF5Wf3HaT82g\n",
       "Poq3xDn7nZLYK5GFzogZ9ywAAAAzAZ8udEf/BHGIkBQ4NE5tbAO5VzQ7k6AFb4BjLTqjdCkgmpB2\n",
       "E94JIUpz499pX05/6GBBAAAAJQGfMGpH/wRz5BVwrXMho+Vo7r0O4W5cTYykwW9kGjYhn8LC8IAA\n",
       "AAECQZs1SahBbJlMCF///oywAmFOrFgC/2zeMVWoRp5unS3jFMfKzpbUAfiMKFsnlsZhhLYnhLlS\n",
       "DKKCCfDgMQ8o/7eTE3EfA6uDC/XEXkwjQ+rnIaqJ/89UUfOIL5bD0L0UlYoxDAnkBoJtd56cWDdz\n",
       "7rEv9/vxLMT91UMWM2u5xgQIikkChNpO2o7pOmbCPfIQEc7sSe/kaH0z7FBGmOOt58bObKNlJenn\n",
       "GTfaYry2h/kHiGw3Z+P4XyIIi9DHM1Wd1tLsVWgAP6e9S4cQ3/YvEpNF56JFZMNzZo6uYOqCfu1l\n",
       "MrilJYRzpGOTvYhvUPfFIq+1Jxyq5INHBMEesT3Mj/cjAAAAWkGfU0UVLCP/AtYUEk2v39Be2QA7\n",
       "mzot3IoAVFlJAci6uOCUk0ai9b5OKsoSQ6fdT5QI8U4XQ9UT1/xh1qWpmIagXLip4U5ahe1l6f3q\n",
       "JtIo7U7Fgyd/Imu7gQAAACcBn3J0R/8EcYiQFDhYinReQ1mgAqj6IxIa7zivHJZ3CpbE5u0TStkA\n",
       "AAA2AZ90akf/BHPkFUgg/xYcr+ljX3KMuqHveQAEnOAU8O+DAVt3pXmxvDLjcwe0vyftVrmm5+Fh\n",
       "AAAA90Gbd0moQWyZTBRML//+jLACYUwKY6IijqK0fAA4YKyu71NBdBmkYuwQbPcxp57j//y6isJv\n",
       "aRLB8O6V3vdMB2u1vNnA6RGNIPXfPFP23eNEPvjFXvdMya55ckWgRVnWFFa9Mw+Ft4Dvjy4JZ0X2\n",
       "F/NlA6a/D83TMirf831iRp31RdFEsFlD15dXWjl5Ua98aylkQ9/rd6H+xp9JDaE1t0AdF5lqrL8s\n",
       "gGwNnPU8F42dwYhuV8IY8rfivy6IjbTeViRW+WWZkAnoObaijMJ5O8LjiTRs7d3ocTpc5/6dRJGI\n",
       "PXXUrtfjPip4KAtJIo8Z954FK8aza2gAAAAyAZ+Wakf/BHT5JAyi8LtnyK0VawTp/EAC5AlRgKuz\n",
       "cytKvPiCj4j4a8dzFejWK3IlS8AAAADNQZuYSeEKUmUwIX/+jLACYUyexbbMj3vPCgDldkyTUrgQ\n",
       "qXsC/fXVZZJwmXaFvATU6srWEifmN8Cw/BV5ey+S/c+tUDJsbUc49KOxqWsBMnZmUTDGcqV5rNEE\n",
       "fsy1ttzR8Be0E9E3wDZZ93MEyon9/V+AU9U6PNKBv4GJPMNgsiqOQ3PAzPVz3KE4tioJbJuEX1rs\n",
       "vXTkAGtKQEnDJWN2Pd3uw+9iuf0BlrfpP6t5a6MF8ZAfOdNRRY7UoYLRkutYgmlHILohxAURMXoH\n",
       "3QAAANJBm7tJ4Q6JlMCF//6MsAJhSuPK3jvaWcjeTgACoHwSbWXnURekq9i40B8QXQoxUv2E8jV0\n",
       "OPq17o3TDfFCyPG6EWPdsFYVwk9ZFI6V4m0zLDGy+XJfMwU4l/vriQgbMebF5jBZpnSuurBUZhGn\n",
       "sO1gHk+vZcVqL8/O573IMDDq+n5BzpycJZ4nJESyjS9So3U7GkJSF/ybv72DKjLgeEzKEdNPS1dd\n",
       "ApJnE5Lb0dzKknhqT7xYetyGw+qO7z13VKUEBm1qItV+YFKpmkek178QpIAAAABTQZ/ZRRE8I/8C\n",
       "1dTp7ykTQBhT+2uCZ+I6ZtjAAkAwAOHFY5ENrwkBiZfnIoI5ers0JyXD9JpKrOutNr7p0HHGEvHs\n",
       "TgXEdDTLFArdYsJ5Qlks33cAAAA2AZ/6akf/BHPkF4ZFkHHIk7G/CnIsAAXMK/XEgepTrVYBlukJ\n",
       "2qYfQ+3SiTTs1PSVerCOdPmBAAABDEGb/0moQWiZTAhX//44QAktCItC0f0cp0bY4oPSzxegBETe\n",
       "25BQz+cYoio+2J4Azab74WrzX2GB59Vk83qm3AR2BRlJ3rPfqht4kaIV47c7CE3zVG1rg2PLwaVW\n",
       "EwX7P3t1vk/8oyNDUC2euf7PogQrPCGl0E9g+tMj2AkZFBzsfh1HIJfHFkNQvR0SUVl9TGCYx/r1\n",
       "rRjTXq7eHV4x27BcD/X2J6mct+i62GYN0FIimraFMlUHTHfg2ib69bFC7aOoSXqmtvSOuXrfXPVo\n",
       "VbowHBzRLzg8yufnqzwTvgz+1NYvz+7gbUHwEoEvIerBOqPLoDvZpSq9R/0kOhvkzdbPwGrL+RrF\n",
       "hT1JmpAAAABfQZ4dRREsI/8C1hQSOcqI4W7hNeku9Vl6igBHDulHkXvBnr2/7qA+Aux6Z5vpAu4f\n",
       "Z+3OCKZFGvmfqXNKlqMyCfWzs/85Tm/eEZ6VPp8GsyNjom93oMJBd5JTx1BUltEAAAAsAZ48dEf/\n",
       "BHGIkIFkVj55Mp1TuPVdxQGTHsI638tlivLjoKkhPTY7+RPYQVsAAAAyAZ4+akf/BHPkF6/59r7b\n",
       "HedWsM2tYDs3K6Oi3kGyfLIAW6+lRjA/mQcB5nNxbmFZNDwAAADCQZohSahBbJlMFEwr//44QAkt\n",
       "DyisIx/jlxld3YArKShMUu9LGQNK8IZYylBPtVLA9ysRjhs6BZPZckFNMK3PhCYSMXbUWhe9vDx0\n",
       "YL4/hBA7Roel7ytvsPpoOKMchVvyhyOBWZO1Mqq/0YgR7SxTBlASsjgR/G3K3NcjeJTng2owgr69\n",
       "nw/uLq+36gVmP9QJHD003RdXztTecqXh+zpeLIoWAWdVXdCfpmID1IOA4MefKnMoOqH+hlLq7X0c\n",
       "WCTJgSEAAAAyAZ5Aakf/BHT5JNVWwgELHpCr7wQrdVscT5VKam8sK2n+WSSPvA8zjwAzUwJrFUnP\n",
       "rNwAAAC1QZpCSeEKUmUwIX/+jLACYWeeNAC2GWYR1lC95R6xLkb+eqZ4ioMP2At/fCszGBwjLwdc\n",
       "nuOKAa/xyaGmQ+QCjIn5CGS4bAJv6fKOiNF+r4N0G3NY0uPb507sh6exfM+BVTG1E+TOcWpAm0Np\n",
       "2ktIzy6OEURwcpyjb4Q1GPGF8MyFhjI0mjHK2UKkjOR1fngzYBjAqMXJELC8Ay7XJjAknWj9dFEd\n",
       "2lCoTxhSEVZzsA2MmwkfcQAAAQpBmmZJ4Q6JlMCFf/44QAklsCGnivwkQA21b6MsZ6k6/Gzyz5z+\n",
       "bAH5kXJQTD3pkT4Zn2q9fgpsE75EwW4B1uPq/SMhdyWAL8z75/112EiwUP/v6VLPIigessROdvqb\n",
       "xxLxkTMF8cTA7HLUeqeSCkC8YAV8Yx8XLjZ2OQayo6OTO3SJXInmor2O8d9jaa51K2J7GkBVABPT\n",
       "LGH2DnB2cHSwRIttcq/A4m9W0nKucj1iJAmOJ+uyp8jJAGX29x5iaLrMV+sBawVV1Zyz8CT/OfXz\n",
       "cwxeymGrTJAKdcNuv+EglwOnUt3YC5EPs/dEEEinei3Nbl8noTMs/KsTM1jH0srSvuUWJ8bl3gSy\n",
       "oQAAAHlBnoRFETwj/wLV1OnuREtqpABdRVXqc/nhdfjAr+4sQMCT2dPrwcIcr2TuaBPsFUpRGlW7\n",
       "eLIe+wl8+UpilZoB2mRz/ntkMBmH3sP2+aNwQfQwQOzF2ziXBOcavsMQN/TwPkKbsf38DfSCyytI\n",
       "2FOEkXvXMn3YPpeAAAAAQAGeo3RH/wRxiJJnTMUt47SWBfRqZIzrAA42fi0GPO7eemVCuj7VFqw/\n",
       "X5i7JiAcDsI7BwfC9pL5uwG6NLeQF3AAAAA7AZ6lakf/BHPkF4ga7PDCbkOwZxQVDdWzVfIEnnWc\n",
       "nszlc9gALjfKNOc6YjYtYpeI26biJNIkmrfHbUEAAADOQZqnSahBaJlMCFf//jhACS0UxXAAWztg\n",
       "0hbv31xbCkI+Ugq+RB/wsDpbpaMnmUUXe+qiByerrrv9As8zhFzs575htywA5NgoKDoQIL2A/W0n\n",
       "JW5ApPwcOTbyzo8IkD4p0l3HzKTfqN9tLYPfDBfucHupeAHSgqgZzvqQ2ppLEfzBGoS6vRZV6CrG\n",
       "ub4ghF8FmgZ6QKTRQXFDJveTP9w37wEDc/ryndonppZTE8JWTbWdJRw4q0GkySWVvmg8c/brFatU\n",
       "ygl8qSmVl4Bjl4AAAADUQZrISeEKUmUwIX/+jLACYWU83OAC36oE+3vYaeBB7xYYvrENtcr69mld\n",
       "0gJWH+qfgVSQS3kNmtU39Ftvr3p3XjPHE4/ZQuNLr9c8/qOO3WhOO1hsp1c3WEvkSziGYLTualJ1\n",
       "WkJHzwjy54Qtb+ZyRsTqsCDA6vymNuhVFL+E0Ko8X4EDZlzGme1TPBJlJ4gBiLA8FGgT1ymuNigc\n",
       "RXfxxjyfcPkkqc/Xsu7rW/Q0kMUjAXS6CoCAcpRrq0XYpxLTXy/EUsuWoE+fcgL6kd/REwgvQI0A\n",
       "AAEIQZrrSeEOiZTAhX/+OEAJJZHBb8uGNAEHRjv/sASqwqgW2VfyiDrKvOP4uMvRLOrHwQE4lXMl\n",
       "HppXI9eD0zdQR7SuwSpVH9RuohjV1Wutd/64wremhtI9Du04r5Oc94F0ke1ABJhLbTA8MXTTlUuU\n",
       "rp9oRefz1JdcHA5UJ9gaTANuiE1THGJK2bSw5sLa+twWtfo2787XhvMdQuaHe6ruJhBrQ87M7AWp\n",
       "jB3IZudznjsIaMzHwlZcZvtXhZa5Wl8GsaNVT/aoUGfuj0IkkBjApz2RLbUNcCsdXjscwHT1+0pj\n",
       "bx4eLRE4hfd5SnHZcsUMPVgiZImA2iLpg9m0pP9ldA+ezQsRME7AAAAASUGfCUURPCP/AtXU6grD\n",
       "/tUAJg375PnV7PYeKbU/ZOPaygbzVr3Il6qrcI7J+JII6O+RPo49uTc8qOyCYN0VLkVFPsuGld9v\n",
       "llUAAABBAZ8qakf/BHPkF4gg/2154VFHdZ/nzV2kBGVAA+i5R/rKdL/Uztmvy2fc2NFQXdU/tdVo\n",
       "YNZSzbgatGMc4bsW4WEAAADdQZssSahBaJlMCFf//jhACS2gLgdACwTjVlf23or6pyzSDWGhXsh4\n",
       "a7AKIt3Rohuj5e7fwHGWChSk4nQPJScfqlT+GUUT6cv2Nd+MlAUargMOIkI7fdGCdN1sylNCLD5v\n",
       "aE1YS89ydl2A4y9EmILiRpescBS7NNTmE7wLMN7zexAlcCDYQ9mFwX7HwOtJoAX3yPZOg7aWmu52\n",
       "LED41FlEkFkfjhW2esYWCoOqjmkJkg1UXoOalK3lfSGskmV9riZdxL9XvCyJfMEOToRvzO7TtUMj\n",
       "STJR38PbEe5ZgncAAAD2QZtOSeEKUmUwURLCv/44QAlnsh0x5oANfHUuc5sxGLD/7Dx3EHBQCdjo\n",
       "nEeDG3ZOyFXe1LEhc2kWm7H5MoES8iYyd194Rt/ODSnMORJsWNLqjbQJx5f3yBK9wErETzjgGdLf\n",
       "aOwrHQbqJ1mmknuJbeBuwBtxVTKE/jjbcNlIWWXH5rW5F1lFZzMsoiRGYqZxEUePV3nyUZTyH/vX\n",
       "SZCcyjpoz/zSLQjtmZVUwQj8aIaNGIKGctSWWLiwI/9YftA6tsjgQh2QSNTb5IjhZXS6MCdGksym\n",
       "n2IHuZoGvD95WBT7BYeEL1zISz9c5WvJ5jTE0IiTg/sPAAAAOQGfbWpH/wE+vU3uzr0uv/Dzu27X\n",
       "YFRaV8JcLE9M9QhgAtuJ3DlegohszyzJazMqqV6roCOpPvxQcAAAAMNBm29J4Q6JlMCFf/44QAln\n",
       "0Rl2ZMQCSH/dF70VSnVnaDyxwLAcSrGMpGXwgjnW/avpsmZDo1VGfL903n2yL+OCPOhiJjfi1WmT\n",
       "APC0Y9+690lcP9uwG0zflP8vt9kfxftZ0e8sFv3wg7D0EIhYFGiyXjpNYER8/7TVW8bxAR6p4Huu\n",
       "O81b92w3u1D6xTp4Qj45G9dhbg3Ji3x02xx+W2o+yRaFA+ed+0Pg/jZnZTBdfGeQD0KO+ZM1ALsz\n",
       "09OfNhpgmGgAAAC/QZuQSeEPJlMCFf/+OEAE/45sVVNhLjivBUgBtG+7kewobU4ujiynE4N77Jch\n",
       "EjZUsfOPB8ynySokpRTIZ9BmfU+/NrD+KHuWHwsid7O6uAeDcnRD56CfCIg1R8K1pdYokpkzVrCU\n",
       "uWs6GsnIe/ofgpAZXZAlX/hwtew1hDdjkEeANTOXit68e6cxQbhFgsU8OqtThxhTyBBrRpRXHR3c\n",
       "ZCNWQmLaPRqB/iJTJDYUOo+gKmBkC/pYrQenAY5l1dkAAADrQZuxSeEPJlMCF//+jLACb/FVgCPQ\n",
       "hisqpaXrT590Oc9S8GGBew6qqNXFJgi5Ste7oeDz/WFepuiS85G8S1N2c7JEy7IH9/Wim3A362dB\n",
       "B4pi//XX4z+mp/WCygaAnfqmQhH05dFj1jxQwWwxzvKnhJx/qG4Ekap4Tlil9lwpxcKv4lw6zyFk\n",
       "6J5BpoEHEJMc6at0Nj/JW+aWUSGLnWtx0uIK/XP2ra0w/Sfg4XR8gGpl8nx/QSLvqaTozlS/vT/V\n",
       "r1jJwKgf5BBYOz4AJotyDWKK24CzyftsPD203X3COkJOKnIkGSE2C6xBywAAARhBm9NJ4Q8mUwUR\n",
       "PC///oywAnAPk2qX/SJOwsA+KHEy3x6jd32F5n/O/VV6RtyuvOA+GXoaZdLQtykA+eDtZXBjQ/NE\n",
       "UWi2DY9B2qadfsSMrZn6cKNlVC+3npx2+Fx7e1lWZfE9KahtUri40GLXT7AJCimuvjrg+g+Gw51/\n",
       "OSnDUuDFC+wm0XLu2qPrBg/XcP42pNFRUStsIscphnSSSVKijBLBuptIrDaW7PoW1coz27IsdJwf\n",
       "QHNqBDrWv0OUl1NUVEnHGQZZ0Yp8z/nQh2djMtJ/kI590k1v3BnQ5JpvqV1mCDJtrNsDb1Z3HoKD\n",
       "sH48qFxjIbzEss/bF7TXXLdwLeQs7IU6ktSow+PFSHXTu7p842RIKRGIAAAANwGf8mpH/wE+vU3X\n",
       "aE0RHeVk9qmACN3U1COS6BswRiGBwXzf6WtreNIwDvo/5Za7VchkWkcWlRUAAAEDQZv1SeEPJlMF\n",
       "PC///oywAnAWe3uRAyKLbGjfZ1a+JX6gCq8fZ3B1qm59b3W8u05kiB/S0rFe2xgsWOT75b9tWbLs\n",
       "sVOw0IZVDJm06NXQHtbSUv/jXmx3rCAvJqnRCpPVqnaFayF9Q1GCwlgR1B8OwVS7x/914kL0xCL3\n",
       "9ZoMAfQJXAagPjYl2NL6wJIJfOHZiFqg33CGuzFOcfS1BcPhHQSy3lgeDHESOClFt3uBt2IPRF40\n",
       "pPTMdadLIitzQXKrK6EE5npdvCidxavhiuUEY+CXHEshvl773Wu2Ao0wEBGotSaNlKfgP3mf0NmH\n",
       "yzt4yk7IsEu7EUmfPP9fHhOkzKS6ywAAACgBnhRqR/8BPkwGy/tfmFeY4wiWGhe59V/KwEjEvKJ+\n",
       "/WOm1Tz7FlPXAAABJUGaGEnhDyZTAhf//oywAnFJh09wAtwgmP2QH66w4EzeYHS6WWjd0/rcbzpF\n",
       "+JCOe7l+A9cwXJiFs5w/f86xtB1INMmclh/kfIH/EPX1sxOqNYTcIwY8XOmcPEqSS+HiCcgaLqXD\n",
       "VrtwhTqJ6Gg8qHDOYGNDovSmWBN7H5Nk8o/DpB+nBgP6n782N6IcNRhnHGIM9nuqSKsNrVKI8W6A\n",
       "PHXEovUNe9fWr15hEBesSmNxxhPfTBgx3PwZR6534hDyWtHB+eLuv+morUaxeGmGH6EkF0zGIpKn\n",
       "YHHiM1zlv5yb5egZiSNpF+b36mBF2kZQXwYVHhM7AyDU4RHPkVZchQFZV5u59aBaF7QQwcFYHrph\n",
       "57Gr2wugEt8NYhzHklZwD+Pk5m7gAAAAQUGeNkURPCP/AszypBLvK3Pe/gYOpUmb7KUAi6yDxDzk\n",
       "K/I44m/oASwW9IfYEoVDBsFq2Kdot9UMezoBRl7y3gOqAAAAKwGeV2pH/wRz5BnrS3NAgTS6eCKD\n",
       "4+ngiufVGFTT5LK064YJoD1RusNiCDkAAAEnQZpcSahBaJlMCF///oywAnIXnScx24fGjEmWhnnb\n",
       "Rb4ABcnbNSuBeeEWrGmBhDmPe9DHQ/AEnYNfAsZzE53ad6wEJdPXw+eukFHE9wX2X+7qrTRRRJd1\n",
       "Z1M4Dq4Z2gGBP2uiaHYFIzJAjekewEDoYSX6weIFVnodKifz+0OEf+uaTcg+OQh+Nl0PUQ1Rder4\n",
       "NLRLNcG4ObHYXAwQOe9mNhEbMZ/dROoBdWbK1q4vpfoPySCfBEfCfsJKYE46SwtRbIgPetgYGVs6\n",
       "7skYLX6cxNCLAOUK0xFDnPvtmHDT2/pJYDsQQEWLto8RLS8EAp7Dm+yPuA3we23JhbKzR8n5Fmd4\n",
       "iyjLDtx/NXddWaU4vac17G4Mxt7W9B1jL5aTmSCgNiMhYnaPuAAAAFxBnnpFESwj/wLWFBLF1547\n",
       "V1M816km3kbbmfxABYbzLMmoza+MpkCc0klwdk7FakOO8Z5fcr5La3Ud/wuB2HYSRy+YiAO9opdx\n",
       "lJFUQJyx3ggYGzREeHJlNtr13AAAADgBnpl0R/8EcYiYISAOx2fLLQdxSx6b/ksmwABxMAFkLASm\n",
       "zI0GCK+rg2fw13NRr68uPQimxwgGfQAAAC8BnptqR/8Ec+PvhEsewCORqqQyuOFMaAG5QYihmU4W\n",
       "mXJwMPF4fdVZUsEtbb551QAAARFBmp9JqEFsmUwIV//+OEAE9mwu5g8nOsaijVAAFklE8Xnbdy3r\n",
       "ymB2eR4dkH5ZSeuOFjYD/0YVjbsfmdQT6YYMhfolMkCRj2YUGsfD41GZNPyhIxAI6nZsWtytO1d0\n",
       "yvR/ZaU+FYhf/pxcyJXEvX6ifuRJ5xiSWDHJn2jVTH/aE5jvoi/pyJboMeOt4+dxp2xLKW3sylL2\n",
       "QdQqaCwozvZ0YVjYd9xi1wRRYHc8sH2J+XMF2YcqhmcXlgb7rIx0MrfYrWM5dBEPAx/3X1dNqeFB\n",
       "x6UKg45wXbgkdSokkYtnT+AWQcqIa8pwoivJPeYTmzHPbLFNVt8Tg2q46xM9tfXMmO+T25sPmop/\n",
       "TJpe8MGWdrEAAAA7QZ69RRUsI/8C1hQJfWy3lRhsALZHKIFMe77xDIBW+AVVXIeIFUO+fgo9dNGX\n",
       "Q7fMRXZrNlDxevPnnVEAAAAlAZ7eakf/BHPj70meEvplbpNxdQQqrGZZQnHIW0iDVl2+y7G1SQAA\n",
       "ALNBmsBJqEFsmUwIV//+OEAE96jWwPhp74Acfj0365TXsVfKG9HbmS2Rq+JSQOEKsdK6QWuPznp0\n",
       "GHu8rnX/4iao0Kcm6J04rUrBTiVfN+B/eHuEOnndJ43Uxf1lWagh9kX332GSlbNM5ylK4pYmBfJ3\n",
       "7nRweUePoKfxnqhCnN75NwTZbwSk6s04kG6ygqi4SwNB/kCGXYcPhi3OgFnuUpkkcm4Mp994u7cI\n",
       "7fiJdPBB1jzdwQAAAKNBmuFJ4QpSZTAhf/6MsAFCwNALMCP8AC6T9Lj0tC+vewtXRtO9pGu9SSxx\n",
       "ih6aMtTLrf+UO03kx1S/U+ZIWYOQYzKLGy5f5rE/juJpxCRn828jy4VwjuwmIKZtH8bRXdoYDb0p\n",
       "LgvwxAhiCLm0s3RQIkF+Je4o43kfAyG00brxe/YbHb+oXbIHYZhr027lF5Q9BWx33NL2mmRcT4m+\n",
       "vuM/PraAAAAAskGbBEnhDomUwIX//oywAUnpbHoXLDELOu0SpWAHQdBvQ2l7YZ1CHYFt1t63EUXr\n",
       "Agd/KmeDigkO2mf+2FOHKn4ygGXxFUkLU+M6cG1ZaeeIA3uoQZJveosGLGBRZE3P8rkxtWMcNh8j\n",
       "H0QPGzQGDnyawMZVUpT/y2A19LYzoKJ+GunPsRflQnNiqRLE8cCXM2wZN4ZgBVhOVdrk6WDhFfpO\n",
       "jzeXacqtpF9X7Pe5cmqY3cEAAAA3QZ8iRRE8I/8C1dTlLQNa5s0L/JLg1iRqllBEkIAP8kvDRw+S\n",
       "76V04ND0vYWYqh2l9aPU2yYwIQAAACIBn0NqR/8Ec+Pwl7KjmGpgiTvxYgocoG/Kq2opragvoboG\n",
       "AAAApUGbRUmoQWiZTAhn//6eEAE9fD43282LAB9OvUD77EMY5MpdPR/mw2RDRdzZFcr3TV/Oh3jO\n",
       "6st59jB/Zgx4S5Bz+g94W5fQHjuZQY4hRvzLa3jpaK4vMgZaOWEox6JIw4NItkeyZiAITuzfFbqL\n",
       "CbvdR+83185yL6g1Si3YgkEh2f6ayFFTb+jvcP+SQlKke0CQQJvOi7a97992m1CifXgWscQ+4AAA\n",
       "APlBm2lJ4QpSZTAhf/6MsAFKDR90WVjCAFZyndxi26qowdIvPYLgNOI8GBDQp5dJemM5C60yxMYD\n",
       "XhAR0Zi2TGZkPS7z8tyE3R4WM3T5kiVvrTy0iUu8joVfzIfKgolwap8HIAj6w2UVN4erLhdfrTmF\n",
       "t/WfoDX8N4Bl+o6/o4pVkbrfGWbnV1UHbL5+7gB+ymj86DCKtuVu+aF5fTul0PQozCDqNffpjvgh\n",
       "BlJXv+AjPSspcWA+DuBG40qkyfFYx6RgdDsymqUFp8X6FLUbxGW4Ahm6cZvsvUhgZkQwZfDqMBBH\n",
       "SOVW0rwGhhXQEavZsDhuLwgEIHmsDUEAAABBQZ+HRTRMI/8C1dTlILguCtUN/75mrJ2ZrMTRCXOd\n",
       "Z6+YZYu1IbIVwH7C9qEyqabGmgA4aVynehljGg/mnjLtBXEAAAAhAZ+mdEf/BHGIUCxuhbxJGhgw\n",
       "iglcBcseYyPC2WT6arQhAAAAJAGfqGpH/wRz4/ACNqeBYsmWXLetX4c6z5VWmXOuDZ0QTYjO4AAA\n",
       "ATNBm61JqEFomUwIX//+jLABSmRxYfa2SAC0PByRi+/EPcIRuu3CP0B6qwPBv4Vg9Oq6XTRDgbz2\n",
       "7ItoAVQDy9j50zy8so68MqR/t5i/8Af1N7isI5i+0VlaH+13JfSn+YxcEcBQwI2ffyD/5n4FH/kf\n",
       "N0E5+JcaKe4TAT/AiW3jwjYL87ssks+PEL141Gl5Of+DBdLc5F/EeNt9gbidGYgUBRB0iyrXxCiE\n",
       "yVu3UXnWWRiv0IAq68Tg3ohMWnqh7Vuz+SfvfmI+wt0A8WmaBFO/iiXPBf6NerjIFQBNOfQZ/x2i\n",
       "9hQxzzuOg864nx9zv16zLwkarCZRtV1hdCp1pnTxDJUBL54T+WeUMlaau4RVxmATtNW585VemK39\n",
       "3+hE0ykB5b1FrLOCWMOqW8BjiAEVfnyBAAAAQ0Gfy0URLCP/AtYUCb4Dv+O9ABdJ3NfpF5Bc7j2z\n",
       "w6l7XtKuWEwriVAgUMNsDc3eAaC2o1/j0azPiJg1MnUICAIcKQ8AAAAzAZ/qdEf/BHGIUBOvwAmp\n",
       "W92M8o0Fiz/Fip5NGW7PPBEcr1YyQTNUeWCVEaej+iXBNLF3AAAAIgGf7GpH/wRz4+/uzgSIgwha\n",
       "FDAdhl1RvsQqLdKvvFx9BqUAAADoQZvvSahBbJlMFEwz//6eEAFGfU/NOVRnwcfbQAmlhkFQ8bgf\n",
       "k4guG29dN0nsK/sBmMzi9XZqbh3Pv4RTx+QJHH/mRuft5cw0cwEQ9mu49NHbq0phvcQS5175A34Q\n",
       "Ib0bhT9evUn1CubNbupxPYenzClKHoSF3KcZwrehDfDFGYT8czeSo0mS/n/8z7/ZA6Ek6E9J7F2C\n",
       "9WGtTjTHe4mz31FFlew+UeLkdrqLM4LcOb/47OJL/zVzhU+iFJRI0dZB3vI31cQKc/RmV4pTwuM2\n",
       "AyUDpmiuKgKhP0fNtCFCza5gNFkFkfB9wAAAAC8Bng5qR/8EdPkTxuHeHzJJIAJj8be5OQUGYqvM\n",
       "LI097F8rkajqNg5BLb8KcUhVMAAAAQZBmhNJ4QpSZTAhf/6MsAFKY2ZJGUjoAAXTXD6tb9nXX4DY\n",
       "C35DrTX4ViUj7klrudEydmh5JSxDjXLjTRASBUo7KHtTLTji2E/aFvVA3xf/D+xOD//PLZCSu3ro\n",
       "aIuvlhKcZivQfAmMt1hUO40mPeLhXcI3Sj8EAevBu/PbsT5ukJI3l+UmNxqukdJDRSrOcVUtYm2w\n",
       "g0NeDQrSUOIBf2BT8pFKPIAqvVjfCeJ8F7c2ipQnJEeAe4YgansUGZI94MKUoH8cfjI+EdcQ6lss\n",
       "HUzn8kwVbcUjwkVuxuknMNiSMn+2Zz4d5fVt10d7+L1sIr6JoCaeOq637OPRpDyjtNIFFqxr7kfr\n",
       "AAAAN0GeMUU0TCP/AtXU5TAe5LgVVYoZnt+XJPv6Eb0Pp2r4RtgxE9VPgfTs/cKH1p6F/qDfY1x+\n",
       "FlAAAAAsAZ5QdEf/BHGIUkcDkcwAH5wmP+adzzdDsQLL7OL7TkC4KUmR5m/BuC+YM+AAAAAkAZ5S\n",
       "akf/BHPj8KRLB3pc+nwFmzHFgXofINn8fDb/2llsXjPhAAABFUGaVkmoQWiZTAhn//6eEAFGtbwl\n",
       "+GvSmyVstMFcAGoVk46BEuIWD2Z3hvXusje8YDqojTzx9xe4HvOBBkB649d/W3KCzx42q88sLCKJ\n",
       "J8/ZKSrt1Fi92hU+6W0E4+eWjjJW+L9FSrLm4fYdZtmRVYXtbNFefLXcG+T08Wdhzaj1A3kZLQe0\n",
       "U9UFrQUnmVRKdoQYqwB1zgpKtR8eZmwwSdoppffDmnSz5KvPOevVLXB9aM9WsHIabGDcWYMbg5Wj\n",
       "/VaSIBH/bk32YW59KSvt8Mqe655gTIdSLW5nAWxH1HKp4I9eGYwttVnxLjwd8jjCwwzVuXf1uQSX\n",
       "vUYhG52RvPP7pA0pQeW6T44fYyO4HSwpnO3u+4EAAAA8QZ50RREsI/8C1hQJvMND65N3xgtntr1f\n",
       "57gycANqgkfjH3ED+9lIqXu568U1UUT9YinSVighCLm6Dif5AAAAMgGelWpH/wRz4/CkfQ70ufT4\n",
       "CsxZVGkSiRzEnzaSWbMAGj7f6Z9q/OEitC1IpkOcfwLuAAAAekGamUmoQWyZTAj//IQAS5Iq5WRf\n",
       "8wGaegAWhIl6ujHSC6SpUxag73wPRDt7kHhlo0ljQhfbAJAVw9RcZ0aPGMrXbJ6u2mB8+Wooh9/y\n",
       "3FC/+8ZLNxKg8Bekb1HVzOCUaWmFOZnG2BAsl9e2qyN6yy9ARkNiMaf0dr9gAAAAMEGet0UVLH8E\n",
       "dPkUjfKWLI04XkEHTEkjqQOrLlt8f1G3Es3QnQuEMyJRPzpxuTOYMQAAAC4BnthqR/8AqGYS5E3s\n",
       "MZXPbq3oulACaKmMdp1n3qDFAArz2d+dlD9hhQWR9FTAAAAN/2WIhAA7//73Tr8Cm0WXagOSVwr2\n",
       "yqQmWblSawHypgAAAwAAEbBufJnX+Bn6zAxMvJYrkshwfpSnm+V/FgSJHH9t1eho36PorJb/m8PU\n",
       "Fs2Vzij0mKvqRb7YYdyHXh5sjLMFRqmwAAGysBfL7tcDOzuOmibDVCCb3NP9VBLPyPLncGeUFVn4\n",
       "jvAkoE+O5nvPjgZ13I+w87R2xVkE27Cmmu167PSiaMAUMfVAo8w/JTcv0NL5/a+q1Zg4q0mX4TFf\n",
       "Dbh3HnT7fryrdJbEHiJnFXZYnrz4ubMMDnPgAatHvYH1eBjgxfznUchhVMV283Ij6+Rs1bmNogju\n",
       "3zveHiDyizsbUS4tjaLT3Lhq6XsjfNaOjxXP99psVDaMgpljHajhs9QmmX7QCzYdRS20Nc/Tmpzq\n",
       "+2IPrmK4RlVLcvLar5+ogCcokH1azXgOssKyoZCRgGPJH+kM1dDnQUvTeN5r+XdJJ2mVeu61H6Gv\n",
       "3KwFJYxaL9/ZcADKTqxQt2IUPghCI84ADVhBsqHF2TVzVm3WPZbOYeu5/X2mZFn4sYtVJ9jOl/pW\n",
       "L4jggnq3lzvIxeW9t1VAS+7tJMx7MfIzKOTcBUOCNTVduC6/5eYcx5xVx49r3EOGEAZUqu7FAC/u\n",
       "I3yMhWQVXrdEEn1kkZ091FtKKoIFrvVPhU73ElpVusT4FMXZ/3eJt5jpmk/dwjDENqssKlcRyCtQ\n",
       "vxNrvoevZ6/3e/X0XMLb0owziXlC3Vyn9GyUguI+i+h4GArdoiyDrMy3CgcwviW5Qp50TIiRWm4D\n",
       "N2nTasqFCtsnJqwxhClePT+b7xBUE50LmTsAq2v+7dAvWU+CBaiRQs4HdKPnqli561PmxVj5s1AR\n",
       "mrzuVIu2rwvFat7T4BTc4PPDOl4847MmqLp6UulrsF/KBvj7sOH5mcVY7fxR5+5tDnwOv8v/1oJ7\n",
       "vOrCgQ/BtqfobYsrrcglm5tFCJdKHV8AcWjG9VSEDX7naoWpsdXL2fWn1iVEaIbGyWlw1fFJqI3O\n",
       "ZtLPQ5qetKuFdoZS8/lMPipaBp6sNYNlm5NMNmKw6b1aqvNEp3vky47NHccdR2w5OPSuYG9GEfM5\n",
       "M9AwRfXBZ2OoTtLfsCbxyQHFezAeE57a2V+bPS2zppYbpWY+d0Nttc9xV3YMbDVIg73L6ez9pyMf\n",
       "5oJ//isdvi0lUBM8fPm9ZTfFTNIq1ELtlxJLZKKeagY01iXVxjC3qM0z7xp5OQt1KW9i9fQ0+ZFy\n",
       "SFQby1FeK2WCVr0ppDzCOgIGN7HEF7zmXet5yjUi6VHczUAinWuv4Vrs+PcrsbMs6LCcQLeFOeLe\n",
       "DPx+QFjLIXyL2mKtXpU5N0qGZf///OfC1QwXVbrUEkrj0XjB+hnJFMuCjhn2IIECarEZPUrczYb7\n",
       "3GybmWFz2trsoj41o1/RvtWwH/oF9D5sp1OtA3Is93361gyRuhNbtu+In5Cd1sO3fiXKozR+zdFl\n",
       "WZJ072id2CyAp3u89M2aSxVC+KPO1gsZHNg5bv4mOg3pb8PYxFTMgftCai6zhLBZcM9uVFdIezJS\n",
       "9VTIk/VOaECKx0HNgtrTOpaRMNnvKfG7N6zr5L2ut66Zc+M4eTeZ2iJcTqsgkYf3UAtQp9fM9NWt\n",
       "DXNjx5ya8Do8JQRezpDWogBAQeRfzmsroUkNuWl3j0lY4x/fTO5/6SF75w86RPSot7SeCXte7Rvs\n",
       "FJ0aaSp8FVIuDIvuLoWNUumIXxZ3Mu8ficOAjDS8mrzOpwdnPA2wYiYBy7p62RUhFpImyj50j0xf\n",
       "PTW/3riCgTebpugE6mERU/1hUjBhBCoSvIX6yuHBzmQpiLfihxjlIyohMLhRZKZ1xQl5hwXDDSvV\n",
       "zaqaHd7s1OdEou7iAPiAS0GKR6tZkb6x7cdUPYOo4O+/1AcGViDuFzh2B4eFk3KqKEmvwHxzrHzi\n",
       "kmct0ry71z7ohUGUcDPeeBrIXj7Y9zNgC0pZtUaaM3+GNYDl8pOSLdx5iV92GtfqDlUXVFRR6t6j\n",
       "tpbuAmGYTTX7PbMtQ4uS02PBmMP0N1E+EFN/Uevl8lLfJIrFeFxDF3PEb/aPwkIQpys/CNk39u1b\n",
       "VbHzuL23PmQtWKBNvWIi4LjBklKXbxSCRvga2oMdy39p+V6aZxPZ8pOZgIcM0YmbcapSnnYPrTD6\n",
       "rfsAYCmWs27//hjSVb3pSgJAFuqYpno/DWn7zMyEQeKSDnZPvbkzQL0iRxbXmu2E04pq3nZtkn9q\n",
       "SzxYbhfrtyKFIJeMDgjSr3SXuO2Zz09a2dR/Prvsbrz2lIcDVBnCM9pmzvnAiozhoH+GjkJZizc8\n",
       "SsLLPR1n5LsnmFDq9nATH7e0HCSv9d+dAkOUC2oujuR1fs/+hUVZzJxm4Y5kFVX0oAxlFDRtLwfA\n",
       "EpYIIrtLiejUhAbthIr2Sur/hgDuZVwF3wh4JXh5NyhF/HS0v2SlJ1au4S3bNHHh5Ux9Dtw9FSrt\n",
       "0D9W8X9m4vqOMcON/vs3WzXT/ryxGao1tDq+Wx7W5Mltb6cu1NYflyLWpWduCKDYQ7ibQqm00vG2\n",
       "UWjK7Wf9I5YUtAfeBsnHTD6yxd89T88IR90RJO+igoURwATk5+7k80Yh0uIlSzit6Tq1nxUImyH1\n",
       "BAkvLLefj5sbz9xoS+Lrhn4OUqkPh4GLQo6QayfzLJFFYLw8zP+c+3LRU+4nqAtKgfOkSjIpnq+T\n",
       "iyCzi+pBwtKAZJpbOY/aHODXQQ6K81HkCwd32EtWSjwymvRnri9W8+/nptusWtxZfVAILRl8RRuM\n",
       "frHVW7ZEu8qM5vtv/4vgR43sYjNBiBJIv4ie063+uhVBnimlu1bkwPsMg2gOv8El94ijCGeiYv3I\n",
       "NG9n0P4AAUSYfTV9BolmeWzZmZSIwb8vAgNYm1JrhtRXAUyFzXL14cT6hTONgFSoVOxdoHvsQXYV\n",
       "Yzjb2cYqOaJX2aTPSrKnvHEZKJdccQSHHRFkX2E//fqQyFWGE+1IIE4M8b2C+MUwtu2ko0h0vBd9\n",
       "CrGtV72W2UExqLt2Zsz28j4Xg3jYXDNSh/WiOPPpDkdh+IEd4nUYjM2eEXuSV/ud4Hg/mHoW4SEm\n",
       "fpxUn9uQDAABXr9Z+R+a5aPdWsYqhkEROv+IRS6BAzCZyc6vQ1Lp6/EUhkzw0R0vMsvFru3MzEkQ\n",
       "41mlIDyHPBiEdw9JZNuuJRUc3XeH5ic5Kv7VOfni17HTEizBHpnzaSeO2C7NKdxk83C5cUwh5l1l\n",
       "Ze7f/ZRLR+nS60Ey/rlMvRLArZsXRB7L55yRnfpq3xCIvGY0jdoD0QF9PjS16rmeiR4nB2jvgdYE\n",
       "ebrz4ekCcHY/BOUBWaztZH8y/vrs6QhFbjLsJTh41WrufUNk6PLH60Sm9BxrZzTZ4FFF1fJ+/KNV\n",
       "pbMf2+EMi699Wv1MR/nitbO2Mbbhnwu8UMD1qyEh4FAxN0HSsfXiUoKc63CJAIMJzL77bejInCbN\n",
       "+YxGIuAPo+QrSD7Iy7QL6jaOhpL+xhZPG4ddAWt5hvASpjLIK/IPEGv/vH/RcK07Dc+AbfxaHJKE\n",
       "/fEBIgynGyXsGUia8eEwi5uavsHUhuRjVmHH5rofisMe4OGvFT6QN8IVgpea0BvYidY5JRRvhOil\n",
       "L6sKbTj2WohRDTaI50kfm9+q9/dHjYNG7ar/nmoFpSIBjP7HF/ZrcJSgD2EKcZYnwtDUhfbt29+y\n",
       "flVitVVvfmhFcqzdUsAhyfPCSVdJFNd0bnu51XoGEAVEOsjev9y08xIE/0j3Aco6Ta7bQ8HXDFHq\n",
       "Sdi0Cb1YiGcyFczfjRe2MeiVBdP1sid8qx9JzKzcGlOG4wy0lb5/dGH4/wAd65YA/5839Q0CI8Vd\n",
       "wzp659/aov4GAQBRfAKRq8NPhLn+qKhfWToE6SSPXe0x/2F1n+dqd0zm89ywZn4WEVqMHa51AaNK\n",
       "5lsMPJKM/svQI5VHav4BUtC/3hef09FF4/PhttSICNwLDVj2HQbzEYP/47UrzUuPa6bQizmqt74L\n",
       "hsXPG/Vect52nFPfgxvBVnJfuyqlI2dSX955qiU1rPI8z11vLsHV6wrop1i0N/xdFcnGkyzVUxtK\n",
       "WPtBBB7hMKw9MPyCI0OGuxl4Tf6f3A5EPlSK0dN0bjZOn215D/3eT7Qw0/sx+dR0RTuhhOu8tuH9\n",
       "fakmeVd5k7+YHM04oeoWkNAQ7jnsk07zOBFewLJwyjAHTLjFIfd+WarDoaiP7Z9W4FSMK6BdOvPO\n",
       "N4WY8YFk+JNrFj8NkfS9T9s1DWRAIvIn67/kG9JzMvXdMuqpJjrUBewrxeG5rf4IOeB1xC70F5t/\n",
       "ZbGJ1cUgHXhvuoytrNLedA5g2iTtA0uySGPYYNtJxNslQfzyi/R1rvJJijt+++UiLPz3HAss2p4Z\n",
       "v8RUQl5p1erKlAyNw5ajuUFSDV0Ahul72rHzXYG1LeFXNELqXfGMgm7O9t7rYzltz4xJHsDJHBTa\n",
       "Kiqojel4u+DA+/hOWGuzULe4AufZz8MKaVhEzdj5RUSWt2fJ3a8T3RjxV/PCRtf7Q6S15NTZKNNK\n",
       "CtBQa8T8fN/ug760oZigpjFveaZSgsZGL/yaopeDYfBtuz6Vf/mcFa67vV1DtIsxecQlNewIVItI\n",
       "At4ms2ptateNWn1LDLq6seO4A3hgfQ8FQz2eDywD9FGjFgnaNIkAReJSjQvPAjRKBFyLBTJHsgjR\n",
       "pytNjsUlDjx0cAlU8Fnj4oyEYBwbHrzsF1Dlrk1+nq2IhxCi1WNQ6bF4AjKEIQsTs3veisQLR8Ym\n",
       "1snYewBt98csLHdb8VEw9cTPeNhmPCwFqAMADagAAAG/QZokbEL//oywSvoIgGpWomc0RGMHwO5f\n",
       "Zwb2GFJDH8MQUSjue40Jj7P/4PhKXn9RFaDk1+jHFmQMQ5X85WKjTxVNz9OButvQZRpysCqoHSJp\n",
       "PMIuk3jHmTnJVoXweEt3W0gokT872CSilhGvKpAN0yTKIc5dArlUcsWXw8EOrYyvwHcvwABzvlQV\n",
       "kFXIIIGUlIxRk39iUIvvCjoxtQztlJDmoeLcEjHShZtQN5BTBRlq8BZumVNuYvNcRXGALFY7NH00\n",
       "Lc/zPZ+aksvcBpPw2MEyzRQa3na+kcm0S+rAMG0vbQxO5ezJELi7IjtRxkFN85Ca28llGhDVFwIX\n",
       "zhEyzF9LS6/+KgBF5FXgYrUu487SJ0xBaYP2RMsCDfCA45x6/xw2J4envRaMW5OwoWlsYSQ58yYE\n",
       "X+41fVvfsRwKj+U16Goiw5ASQrfgqN6jgpcFErn5OTJ0gjkmrQdSpynsEbJT/LWN3Da6opU+GCZE\n",
       "HxsZqvqUKresJCf1V/kGxd0pSTGPEIMIP35OdNAUi1EEQftbmjAQQ1q9JyI05BmDRUcEH1Uh8E04\n",
       "WQdjy3KqK69qFet5Ddmal92U0Ud4pFNBAAAAd0GeQniEfwSWbEEDucRgKTP9vTc+w/iEqLYALqC6\n",
       "DQLe/ufQVd/QyIQzbTjnFj8k4OyraNbha0Tm3Yl4Lqe/BWpTScb2S+zr3Xl9citoKa9ZLgQs0qDV\n",
       "qTVUcLhmTd0qfQ/igTBVZF2W6S11RYuAJxlp9LRD9wm4AAAAVAGeYXRH/wbsve+4cMJ99iNDkGQA\n",
       "HrVzxfWq3+0iHse5s7HRpwI3qXPc1AHHncWzvLzd6MDumOMtjpPmbhmO+DuVT6qyHRP1titxirvS\n",
       "rkG0BGOFfQAAAEsBnmNqR/8EdRVISwX7Do2ACYXZcX1qt/tIfYplK+tXYm9tDsmAQ/ohx8V+sJy5\n",
       "m37z6DEzNO1UlBu1m3KRRZLT1DulLY3cGTP/+YEAAAEHQZpoSahBaJlMCF///oywKln9HOfAEFwm\n",
       "RgqXNEmIF8jxy+fmSv+GIQZivgPWja3HziwST3/yxY66nxTWxvIuJKwaHpW30/uJqltdqL5B/51d\n",
       "s2uEXVPkWClPE0IDEf/3Cj4ESQobNQl6Es+tqyld5c58aDajASGIyYeZkR/F3Ya/EyABqO0Tv0/o\n",
       "R3gc5gARLJupUWEOa45XxkLjz+8qFJzujXnVUyaV/ArV/nnfwOTximvbgSBhVMFYtZPL4RCYSBTM\n",
       "L5hO3t1ZDuA9wppEgB1up0xf9Wkmrhyg00eEKMCXQ7agaI9WtCHHCBcEsaiclw91SVCK4+j3SLuC\n",
       "Kg0oi+7nbmHFcsAAAABvQZ6GRREsI/8C1d6LQsfLz3H8QlPHACWpRn+hDtKpeCZND6ZMzBbWoXzx\n",
       "euuLI0NdrqAtxlju/absyTY11BKaAJNgAxGYL3idpx7w8FtvxxOszuRTndwL2GKmaMslfgzXLWMD\n",
       "EEBU81E3QKDzUeLhAAAASgGepXRH/wRlaPqe1bXpaKACYXZcX1qt/tIf4yGzM1din4NgUnM3QsCg\n",
       "swWmrNSwAFhnQfSHN04JRKN4oLBjpNn21LPp69dt+yxoAAAARAGep2pH/wRlaPnR9VwB8ACYXZcX\n",
       "1qt/tIfqx+knEri14WGe+XdSLKhsWAF7lZb432P006Dq9Kzrmd75ImdV0nAcSUO1AAABGkGaq0mo\n",
       "QWyZTAhf//6MsAUP3u4EKR/DEJF4Baxbz1o2vpqcssU7CtNmCxKBO0K1nCFJlw1oS4IVSPK4+9Db\n",
       "rOJxMS85sF8VJIQaAyWqwuUJKrRWLW14OUfqrdQUsWLkMexCWDzYPZUJ6JmzhjqZdQLLI2tbVKzF\n",
       "Y6v3bfig8ixiVSfLFK4GgyJpnCwPL3qrF1EObMF8oVde6kJPeDpEhio/mAwvMDY0kUt0jAHeEAn0\n",
       "Vf/0tuSARvMDbK18xY9lI/2tJtWYehwP2FuIj7N5oXklTF5Yyr6fsBJiLHFHsSVOqubZb2F3banz\n",
       "TQ1ePNU5CMA0v0rlTu4npwA/e4Uihb9aRRh7qE94ZRUjX8ck7r5edrffP3d9vZkXJwAAAGFBnslF\n",
       "FSwj/wLM8qcQr2lT+ISjIgBbwXQaBb4SEurFfO5x3mRWbw+dNCpzQVRBjyiJd2qzxNf7u0tP4gXq\n",
       "u+eAsWQw6YOyR/sDVwj5ePXBAG1wu/5TOgvMTJPiMTwdBvqNAAAAPgGe6mpH/wRlaPgiVQABMLsu\n",
       "L61W/2kP+R4UaNgvKLDYPrLbxA1HEJPvi7coIdrx8MdCiES1hvuW51Fhl+2UAAABA0Ga7kmoQWyZ\n",
       "TAhn//6eEAS3X/+GIS+IBCN+d60bX3Vnx2I6+QImFtU+uFy20Z5yeYJem9LLOLB/Fec0IT8GBIYM\n",
       "GB3w0drKsudWZuLGNuLqZ/FwNIfWmzXp8o1kdW56YZwuthvSxqfh8Bt5Z8mV9ZKlKOR1wFQqQgWe\n",
       "RdVwsqLGx+ki8CSn2ygFJabPnBk1La/GZs7LF27xesNJ2iolrp1ixIskUFW67M9bf4z0oxgRQ1hm\n",
       "uNvdPPYY6LiHOqcTsQDzkX805sh1+aBGGfCD3MNDFiDIP1Ie8Q72xrExYUXyvgKaGiKSbjg673BG\n",
       "tMa4LfsdSiqyGTeUlMsGYs7WPLEImKMAAABkQZ8MRRUsI/8CzPKmSxr+ISbcACWpRn+hDw0KVdVS\n",
       "QMkphXdo0EPt80sXEkmLBLHkPqPi2IVJ7sppEGkOaX10DM0klv/NqkXP3PVNPskzZAbks56MjszP\n",
       "NPjwKiQ40w+iKnJgoAAAAEoBny1qR/8EZWj4IlUAATC7Li+tVv9pD/keFGjYLne8ChkEX1B5mrki\n",
       "kiH0Kd/tm7aTU8ZXC8OiP6HSIIFpTWSsX7FciQKkIUAzgQAAAUBBmzJJqEFsmUwIX//+jLAEx12/\n",
       "hiEtMAbe+A9aNr7ZAeEXdUV68NDudEIjGSBXh6tgtM794nDnH2rZJYn21FGPVX1rgkzMZI5WLLU1\n",
       "Mn28HUGQd0TrbqBGapKwkbYL7ORTve2XuEvJLnOfxutW0mWi4Uq8vuUP9r+gCl0Ab2Upb6UhpL/n\n",
       "W0yIg2mP2NQG4E0Tay6NnxP/hjopcT+1JVL9DEJAu4bKqST4B3GyJaWypzIhiqpuAgvPSbtMchk5\n",
       "0ndBLpeeYz8wU2P/lAyf8svHvpxFB6oY50vgNkRXL0kVx05PptiJ74tg2XVa8kYAl236dx8zBxEC\n",
       "bX3JaY5uxs5rHT7hvm0bjdb7QOWvXDhRElsln9WT6E0PPXjS+oAvys4tYbxWGb+LN8kFQt8YrVho\n",
       "z3Cg1GX//nO7toxknzv7aAAAAGpBn1BFFSwj/wLM8qZLGv4hJtwAJalGf6EPDQpV1VMG26BmHppx\n",
       "oGrl1chcZ5e+vXwaj9fqBNujKF9BXVvWiA0W/81ieXq374+jgFpRIiw73jFMt3dLX9gjk3V8jFiY\n",
       "qSwf8gC9cUqwQ5jdAAAATAGfb3RH/wRlaPgvE+AA9aueL61W/2kP472CRPVuVsoq3tgq4gPLZDl5\n",
       "uQW/Aofg4p7QgezX2Om6NDVnw4d4d1i+/iazmLUP8VldMxkAAABHAZ9xakf/BGVo+CJVAAEwuy4v\n",
       "rVb/aQ/5HhRo2C53kh8IihQ4FZUajs2I1ZdQPrwivY3temvgLVum0RafmSrgWvTkop670/UAAAE/\n",
       "QZt2SahBbJlMCF///oywBMddv4YhLTAG3vgPWja+2QHhF3VFeklxZ5VdZXusYEGNa/D2U/OE3JAY\n",
       "zUeonKLJofG6N3rqPGHEVYjJ76rjv5J9bSPjlAdK7B/57LxuSM2m56/FQ9NYKU657WRZbENRYw/d\n",
       "EuLcC9iqs6Sm+oqNq6eh2W28Vx7ld0pP7pbpbKjGxMUDeAH6xM59662RcUAIr4qdQ/Zbg1BSodZI\n",
       "ex+268HAlcAC1RBcDVq9b0unfSV7rWSX/1gNsLs49Zu8UMGrmnv5gzBihR9up9QCgKTvlAuGY30s\n",
       "ookftcJzJ26CNV1z/fvIuF0tPSR8Nc46KwGmX2+UvuWpFRfusEPFH8Tu5v0oekUXMXl9AMMFoYC6\n",
       "MUpCBZ3WFf7bhA7DhI+t3tTh9Vv7gneeJ1PiwhgZIspz+QAAAGRBn5RFFSwj/wLM8qZLGv4hJtwA\n",
       "JalGf6EPDQpV1VIxmzh8Nu45jRpX40lUX5LvAC48ZoJYgH8G2iFjkpQatlka0uwKjM7nu6j4eoxp\n",
       "1poJk85rggDvv0VyzSIAHH5mM6dhbsAsAAAATQGfs3RH/wRlaPgvE+AA9aueL61W/2kP472CRPVu\n",
       "40uoa2PUeSN0cWKBMiS+rjRWQJAVcHH8TZp6MttXpilAowDwyJ2ZOJKVRb1U866IAAAATAGftWpH\n",
       "/wRlaPgiVQABMLsuL61W/2kP+R4UaNgxYWEHXbwg636+4g6uc0FBWnArzfj5NmRDgT71274MUTQR\n",
       "SECxEhil1HilocRgIXEAAAEDQZu5SahBbJlMCF///oywBMddv4YhLTAG3vgPWja+2QHhF3VFekkw\n",
       "OzuCAa8xLDbv+QU8hy+5+ie/Rj/mIFj0IhQsN0eX106CxIYkIWy6Z4c01lbdJWzAxvekbZtCk1pd\n",
       "nlV3eQWXfo7OWSvud4Lg4NVEtpkBSPkdEyhEI/T0XJTWgG/t4Kc0wy3NKxCKiPmj72qRLPTlNwkt\n",
       "71ThhUUJXzfYsDF06ybffICaYt/qNfCZHnj0WPgjnN/Gtwrml7CwzhaNVo3l8JkxICd8ze0BTwv9\n",
       "W62A9ujEJjW1VccWEbj8DYGeq6viUgjl29Sbcl14fkwkpE7q/29kujkA/qCPmn7VsAAAAFdBn9dF\n",
       "FSwj/wLM8qZLGv4hJtwAJalGf6EPDQpV1VI3ZoLz7k9xurG7+Ntfe577eYkjqDeSqP/kFuS4cEMz\n",
       "00NnwYvdeG0eurxCYtEfkbiRjMgUeMHqJcAAAABCAZ/4akf/BGVo+CJVAAEwuy4vrVb/aQ/5HhRo\n",
       "2C8o1hpF2UhtEYnDXkPtZZXsZxBv9yHrsI8t5KjsH/gvRCioZrntAAAA20Gb+0moQWyZTBRML//+\n",
       "jLAEx12/hiEtMAbe+A9aNr7ZDZYac1AHiEafzdm8YeoOVOyuQqB6xHfqCcDjh8E/PTY5RBgZw7BR\n",
       "tdDhlaEc1XWj/O1hqjhjMA1b5yAud9zLFbYAr1Z8dJG/UuOkwohrIgioXGDujSrDNemAghIfCeC5\n",
       "VNiJo4+lJgj1Dxz+g9L0Vyp4qKgRgFZEpH/V5V52ZhBrw3HBX9b0t1rqvWlBXtIQE59cb1b7kCnJ\n",
       "fcv5+tidLnoLWWCXuD0+mrgE5h+e9uEr9tijfp17f0rFgQAAAEQBnhpqR/8EZWj4PxYABMLsuL61\n",
       "W/2kP6lXk5TgLjcisz344cHM7bpeWwbjgEPGDfYhZ8M016MA7YlXlgScxeoUyM70wQAAAUVBmh9J\n",
       "4QpSZTAhf/6MsATHXb+GIS0wBt74D1o2vtkB4Rd1RXpj0N9CDN9uyjbFlO5uahtaWqZMAnqWLiZn\n",
       "SyuLD+I6pZvFSygaif5yiybAQNgDtFJxJQA+q0WcnrXkPWnKu9WvWTpUjiLvNKih8GfJ3+N6OTuc\n",
       "nM2KwqzqJqKHiJviTHxAoat432Z5IyZ/xauxlOz4bvhehXd8lk9x6APaYMhKZbTYoAq/d6459Na1\n",
       "pd8v+x1YnWnHFmEjnHVOoYxalNbO4An2t1QTGsd9b7WiAOJNboYGNB4STLuY7NCPgTXslOW/LnsV\n",
       "dxVtt8q/2imvUvuNdLxiiG7xc7gxNBzpgtvKdqoq0sMredOZ2GsbYWgRJpxA5PYu+HY7jg/DgD2c\n",
       "pRLTQ1JwJvRRqpsS4scFOOXnAnLFxVNIVMngLeJAsRPbWcUDAAAAZ0GePUU0TCP/Aszypksa/iEm\n",
       "3AAlqUZ/oQ8NClXVUupw7leVBstC+0nM/O3Dz9OX2UKrIoJ3NDSndvDiJzps8rypqTCNeVqG72Wk\n",
       "T+7R92wPQYA4SPg9GMRSRlHIxatGQgTbice61/AAAABVAZ5cdEf/BGVo+C8T4AD1q54vrVb/aQ/j\n",
       "vYJE9XBx/0BPnltz9ho4oCEqpLjA6+jriNrrmmvPE8iCv61p+5gxYU3S4r8NSNsqNfQghPXzvoLJ\n",
       "I5Xc+QAAAE4Bnl5qR/8EZWj4IlUAATC7Li+tVv9pD/keFGjYMatLQDbi7JQQcEmKpEEHN+o8fQe7\n",
       "NZY1ysLyYCffid3kX3ugAsja+MvJ0+54MTeF1FwAAADdQZpBSahBaJlMFPDP/p4QBLdf/4YhL4gE\n",
       "I353rRtfdWfHYjr5AesPLupzo0TNWi0wjBfHlNYqifZt2seePh9X5juDRk/iGk28Yt8yvxxKnTbs\n",
       "h4oPYcJSB1SJeOJ9TDjx4icTZj+iCeXT0qhictJZ2s+g0wD/63+gDj3aNcM2C/L2nLfcaxxv8tDj\n",
       "d9ctRQ0Pv7vpyA0hjV7byOxU6zyjVj3b7ygCNK3nUtuvsQnQC6osksxp81xfP8SUf/MQ+WILXf2v\n",
       "9IRjaGYsT8D2ScfkoKc+j0CQ77EtmvjdgsAAAABKAZ5gakf/BGVo+D8WAATC7Li+tVv9pD+pV5OU\n",
       "4CkWJtCyLg01zEpsAFjOxwp3GBcLQBs3aXLL4xZddpTDIjNlfjWgvP/saxdEF/EAAAEkQZplSeEK\n",
       "UmUwIZ/+nhAEt1//hiEviAQjfnetG191Z8diOvkCPNnFqgBoyMjk/sq363w7neC/b8jZ0Hkdz+zN\n",
       "2S9CztUuihO2txu7hbX3AUJLXdIqrFR0ZpUVDhFIrhh2g324hM/hXtHwc7AdNG31etS9R2X2VHEj\n",
       "6zr0iloqgktG16iyFtXU+KpgJgAartCZvEOAbJxFe96iUETVI760iK0pVhmboi/i7z2Vgqb9e8F3\n",
       "qeLdg0RusxETWGPfNw9fKD21b9znxsVjYUqUwUdKcQ8PFQf5GJzNACoTZOEoNZ8gYphgAdyZiUtx\n",
       "7awmp1iXzuDVehitATdXfRsibJgTpS/sDobVqeNY/7AFI3nSKkTTypXtzM9dF8RbCcOoYCBZavlI\n",
       "WAAAAGtBnoNFNEwj/wLM8qZLGv4hJtwAJalGf6EPDQpV1VLzBM1QyUwi/C1nG2/PiNryHHaQS8bo\n",
       "A4EH57scRo3344H/AGc/5BAhTbf0c+NjRcqPR55wGB6vqfqgJBKs6ZuUzJJik6eMf6RwOgvcIQAA\n",
       "AEUBnqJ0R/8EZWj4LxPgAPWrni+tVv9pD+O9gkT1cFk0uDmO13D3xy2NqGtkScPDUY10cENfUJR1\n",
       "PxjTNPsgUkJrzj5Yt6UAAABKAZ6kakf/BGVo+CJVAAEwuy4vrVb/aQ/5HhRo2A+s70z7NotlJit0\n",
       "zuG/gsSLWWhBmnep0hFN9y3pJi9E5xxB9eQ9a+q6O8sESfsAAAErQZqpSahBaJlMCGf//p4QBLdf\n",
       "/4YhL4gEI353rRtfdWfHYjr43EeqL4d1lYQRqPxfIba4oQad2OU/dskB9nRnMbVJ+C8K0/6qvAuK\n",
       "GCBBdX8k9BPk7X5H4fQqm5InxfHDSWFWx9eBFN5nraqGEucDebfwAuSmsK/eLAjsXhmNZnFrJipO\n",
       "jVYYpW+4PiA0+sSVOl8zQZHTAScEhbr0Hw90fl8++485a+CYZ1tal8yKr5XWzAgePfijgiHepAJp\n",
       "I+e59MD9lldRkTNMbJRsLsYGzJ0WLNAg8ED+cPvFXJjlWKVDGiyymVESdylPeV7HgD314OxjCpJY\n",
       "p2CEIdL9nKk51XbxpWp7VbF5LZJjxh5qnjXzQD7FweivHvatKnMNQHO3+cqapItAkGfIOcEAAABc\n",
       "QZ7HRREsI/8CzPKmSxr+ISbcACWpRn+hDw0KVdVEuzVvQB3sdjmXn0zEQ2ENTedMAIV6vn8EuHz1\n",
       "ttnj5xyMP0+oTkvr+oJNTxkBLadG4aE2L+AywsOp8K5GJSAAAABIAZ7mdEf/BGVo+C8T4AD1q54v\n",
       "rVb/aQ/jvYJE9VdTMmxOU/3f7kotg5qc8rSPtL45jLXHMr28gE3SZzADXh1H8TpRzX9/peXhAAAA\n",
       "SwGe6GpH/wRlaPgiVQABMLsuL61W/2kP+R4UaNgOuXSoLYzf9meqP4xO2dmvWgFelDeeW+/LXAya\n",
       "hOlVWR2berPk/bTjDPgblYZhQQAAAVdBmu1JqEFsmUwIX//+jLAEx12/hiEtMAbe+A9aNr7ZDZYa\n",
       "c09xHa1u9hlr5ndDhVnEct51cl/zCAFlZe6yG/f9eH/Pyx2Q7ugjGENc+iqPBV0o4inNYucYFtqd\n",
       "Q0DLmV+OUGJNsMJAX6Sf59scnyxLdObo3xBcfEuQJ4EukFjWz0VZT00W5bk8P0NtSaOxTCLl8WIJ\n",
       "R87Cn7FPonJAWkkbuxNljXgexilFqLZbfk/MGD1nthPmRc/3iSKZOA+bHdqjJ5/Luj5ZGEmoja+V\n",
       "3amMWVCHmKavlH3zCtkbNtnAgJD9uvG+OWOj1IPkemGlORsgo3lcppC8qmM+3hNjCjO8RnQUkKdk\n",
       "XzFT9Gl9B6b+as0tN5jAizhVgIdYINFqFGxKuBg87qnVVx9mbsEucHlgg7ZKTmWbG5RGfLbJYMTm\n",
       "q2P7jnIFbP1rpA07TSYiZTzY3mhRbOZQAAAAZkGfC0UVLCP/Aszypksa/iEm3AAlqUZ/oQ8NClXV\n",
       "RNl7C89i2LN4f1iA+xymE2qg24+4ZZUiZR1Vc9Y0QpjBpfFruubId5YLrV/HtaFza7MOyIsTZFAs\n",
       "8BZhnSYy2QbsJZrQXBuswAAAAEYBnyp0R/8EZWj4LxPgAPWrni+tVv9pD+O9gkT1WAQ+BKkbnf+a\n",
       "aCZs3a+Oz3RBcSgmZreRRJa4HmIcgCINiIRHnWxGG1YtAAAARAGfLGpH/wRlaPgiVQABMLsuL61W\n",
       "/2kP+R4UaNgQssb5yOnGVKVyBiiGhqA5lvfBjzjMblu4BGanQ4scYORC/GT087OgAAABUEGbMUmo\n",
       "QWyZTAhf//6MsATHXb+GIS0wBt74D1o2vtkB4Rd1RRRFvi9AjobVB9VKyWszIAsdNpusXdQej1RY\n",
       "K66ZsO6X1e3/7cMy5wRBcajOTmYUQN4RHl2DPumdhOoiwU7jNl8dNT8cK7cXrVS2xZxxm2nbSY0o\n",
       "GsBGDol6+oj1EQzCv8vtzcl6zOSyWMZAwzt3WqI0GEeXEvvSXxly6k4OzrV1v10PwSTWOxETDX54\n",
       "nE63RRGeduzg0ssPRbbqu8s2SWihShBkechlICO97+NCvaaJ61yKqQb9ahuplwsMedQgzXBBQ24d\n",
       "mC+TgeaPZnDcblqDfrWaZZDnLDc5iXDSWE6zo0dmPtdH6qkgnZ+eLtFOCNehPyiSqkd9l7tilTCF\n",
       "yw9mpogkm0NKUFcv+5ZAQV3MylJj14UF+tRpBOdtLqRsuBtUQonWxZQ+s2Jf0QAAAE1Bn09FFSwj\n",
       "/wLM8qZLGv4hJtwAJalGf6EPDQpV1URpVd1vAERx8HhfzIbOsgm/n1uY95fHrwQMSfgIm+szoHuX\n",
       "WF1iIn9YNLTQOJ2rcAAAAE0Bn250R/8EZWj4LxPgAPWrni+tVv9pD+O9gkT1Vm/+H8PyM7eqICv4\n",
       "lUrjQBfFjQexhi2YUEoRm924EWEy4nEo9OSttSvGzzwmvV4NSQAAADgBn3BqR/8EZWj4IlUAATC7\n",
       "Li+tVv9pD/keFGjYDp1t7EWtfrmgh2ZPGIxGOaTzSqupKPKQVBUC7wAAASFBm3RJqEFsmUwIX//+\n",
       "jLAEx12/hiEtMAbe+A9aNr7ZAeEXdUURFDkQw5+CVQwP6NFerInvVcokY2ChvvmGcnV2k8OERANu\n",
       "3gKLkHr7Q92QJGZ+tA254MkSz4hEPflZT3YrORI3N2AcsGwSnWWhdNHkQpZh5AedqbvjWH4ohj4n\n",
       "OXXcjQQU3eK7p01m8h+9lujN2RU8Is/li/6ELUWPvjWUaM85IK1fHP8MabtEqIjx39xIDmIpTjCt\n",
       "HUftjoE+H1qkUYDbigDPeClJDV8dZz/yxX7ltRQFmwGJ8UxTxLMdjtZQyAGggNXJA8dkUpGul/tF\n",
       "ULzJLGrDlSbyLgf6Yba1qS4Vf/ywkz4aBSJ3p1eu8jQIJhSiCeByZVL8mWC/fEa9AAAAP0GfkkUV\n",
       "LCP/Aszypksa/iEm3AAlqUZ/oQ8NClXVRHqjZwYIM4iTTJzm1kikj+TrRO6nTXB/ChKlbhgc1j4B\n",
       "gQAAAD0Bn7NqR/8EZWj4IlUAATC7Li+tVv9pD/keFGjYDptHdcwJMiwmbcSH76KmOA9n+91xykE1\n",
       "SawCluD1sqGDAAABEkGbt0moQWyZTAhn//6eEAS3X/+GIS+IBCN+d60bX3Vnx2I6+NsSVW4uzYaN\n",
       "7CHzp/KDfUhTZrTx8tSKzvMcAxhsMyjhAqKR7n8ll6JisfQqYkzJgshRRi2qKu3jtR1Iw3qAJvZh\n",
       "xFgYABWd/qD0U3UHv0RnW0AZDqO8YgzD217o0ZiNOb0gr/8AB9bhSdqqNwfxOrd50VN/aSf6V9Z0\n",
       "Da6gM/mRsgccW7XK7urvApaTLxfd+Xsrh5HkrbhloADx2L4rFcGdK6c2QfAwqw3czFb4XuqP5+yB\n",
       "zTtDiJAxB+AWqMk6RkEXtsY4Nvn58XVkKpTp8t3FkAiNcQ80FXSOh/W3q+u/RjDkN3EKEa88kI4r\n",
       "gUAAAABLQZ/VRRUsI/8CzPKmY+T8zsqAF1BdBnWeTHmc1yA4JJSBEx51Pwgd4yMNR07Vz+ejkcQ3\n",
       "DZLV8DxMHgzAQ3b4KkcaYyTMGDWcOZ6RAAAAKwGf9mpH/wRlaPgpf0RFWsfxnqD9wjm6DIeDAnNx\n",
       "XMLOa95Mf5baEkepBQQAAADrQZv7SahBbJlMCGf//p4QBLEgX7nwJz42vXllL/+SRAOA5gCKZhC8\n",
       "mCjLZXczTs+P0qZP2+MtkpeK2y1ssxPhnufBF3hJ357kxAgdbsPR8Li7vwF5ZPGnvS3YnTG1y5u5\n",
       "atODSEM7uOqGWYQMhK1i7b1Lte3Rf1H5vEIfhbGvQrTS4ogneLroONwEQ5NOacc7Wt8in3EBmKLX\n",
       "GCtmXUGCg8rR1nd5ICpW0GfVjAUpYRa7A+pYzbNDAbkBlAEQSwQTf0hsxHV7q0t1UdTcfmBexO5H\n",
       "XhTXC0BFuVxEZgOhxzpc6DieJsR+Ow43bAAAAEtBnhlFFSwj/wLM8qZp6/eqa5shwnDCCvB8o8pX\n",
       "E4CFAC1pTA/14jt1jFvVMFyzagiSvwHLTcdZze5+inv775jvdpEEteniu/kXe4kAAAAqAZ44dEf/\n",
       "BHGJQppEd1xvh3a8RqyZYtMXB4ReXCMsp5sqop8AOwlO2CXBAAAAIwGeOmpH/wRz49BwzdSB9pZD\n",
       "wN58d2oDSoq/7OGyX+VCay1/AAABQUGaP0moQWyZTAhf//6MsABVHL7567gCpIc/zhb6jcgDuHvD\n",
       "ZlyJz73c5bcPQeN3whXNLBqJNiUJyfH+eivizqVhYkprlCNv6LasbW/+YGZmMiFqb4yMIayaM3Hz\n",
       "UGcCkbClL9O2xOR0E68EuKAxkRlaAm+g5TdwJnmKIq9Mu/uwWi2g193LCDZwlZUei02I205WDcMW\n",
       "nNeDbStH379hxG+g8UsrYw5qXT+R74H36x9B3gOFfcfEFD2Nxa3Dh1yQEmuD+4+a4Ho/ztUzr3qe\n",
       "AlGyXfuBjjzATlezlZXSXS6eZNWjNaOnGeBTOnumaCUlLGPhyf4A+Nlwr1eQaJA3OpZBocA67Zez\n",
       "ebaBoa18eA6rF46NTYPBpUCl3cdn96uGVpVMKCdNcTX6ttIal+mDTZkYM6uSyp3kxcMTlGrwA7mW\n",
       "gAAAAERBnl1FFSwj/wLWFALC9QbE38fIVNLBkwIASwoSd+0nvsSLNBkc+QFz+C7rdw9sRGlBxSSK\n",
       "JhcGE2D5qEJ7PTlTQPKJQAAAAC4Bnnx0R/8EcYgYDu1PLEnZKAAmRgzzorQuGV1+O5Hcx4EWjv+z\n",
       "ZQAU0k1uKEHZAAAANwGefmpH/wRz49B1zrsP2pbQZgACYpYaBj+75H9y1m9MLGYqhRX3QBiyHAjJ\n",
       "wEo1RlEOXF0BNoAAAAEXQZpiSahBbJlMCGf//p4QAFQVgSIeFgAi52w9RwNPj7V6+g6sXZWcIbH2\n",
       "qFui3Uo33kPkSyLmSbdLbfFNjElm4EgX0PdylbUzg18ttuz0nIXYgx+kce98dAIEpTaCAoCVhm5A\n",
       "QsDBnN0Q5W4cpS/jCv2jpGntwar+T8JLjHjFpey2U6RsHsfAUT2Veyoz832+mJGAnjHAH4evZhmw\n",
       "fImkTgiS9kkhRuVYIx67Mct9KGAbqYH3GtW45OvSZD9LSI9FRG7vAvdfF/rwT0EeVliH7Tu04pRp\n",
       "KipM/7BzHLDoLNJLbf6vPtIiseJ4/FoDPMHjRuYO5UmKhK/XmyuzQVexababZLCW+v8RJaOtQwlQ\n",
       "oojPXjbCTrGAAAAAO0GegEUVLCP/AtYUAtRVf6fWdipkasU6qhkPmit0RYeoCV03lAkRGn2jUOxi\n",
       "qbgy+padSbfrmIkLop5BAAAALQGeoWpH/wRz49B2DoX9ZQAJsH2pvzYDeXz69QvF2XkqpZA4Fb7E\n",
       "GKfGqdhHgAAAATdBmqZJqEFsmUwIZ//+nhAAU/iFJ+oAbqIlczDk1+E4bW3/Ru6rzRZfd2b0Iqv+\n",
       "fXQDy0ORcGwqoFL/YNU7hMqm03VBVdW9hwSF6dztp60hNI6gtZyDsy0vsyS292h2n1EzOhmaZVij\n",
       "W4JQqIr5QhN4eTZFvAfst9mbn9it0nZ/mk0gIjruC1657Vz8TN6CP29ePucZNBcC74M2i6v8JnFF\n",
       "KHNSoe2+30uKQgIQU4N4x8tUdE/lCbhr7buFf+rOgO4o8HG5NzYO8ldapnia07YW3O7jzEVWHijc\n",
       "eLy0UNbS8yEqZNyrB97bNJ4bXpaAaS9x5PJtRW9fb/WZ/rdTgt/zfx0K075+zHQwaaURtP6qBSEf\n",
       "MY/v8XCt91D0JQszIu4bEycYI0HuqkhDDVtAqKmcsVekywP/QQAAAFBBnsRFFSwj/wLWFALVdlfb\n",
       "nOuGdtLIAEqSjUPo6sXxX1VUcFSElMWHYLCTlDwFSKitm4WSV0URCTZj3pN9LLF8Vs6DTnBAlY78\n",
       "zeGVdkSTUQAAADUBnuN0R/8EcYgYGViCkzw1eT8w061nmW+XMZVIQKzjo7jiqpB7hUHiwAPT7a8M\n",
       "94bwDercCAAAACcBnuVqR/8Ec+PQvhUAhrcWSCFCXXxof7FdBsMpM44TfbOXi2IeMyEAAAEnQZrq\n",
       "SahBbJlMCGf//p4QAFR33MLjtFJwekVssE+fb5ZXqMfB77lTvQbYBygx/fTp8nzhIiy4ACEy6mts\n",
       "C77PbBU86YhPWzVmMqBOdJaph0ypE/1fhSsG82LyT89YRCFDXT8ND/VodVoMMmfThqEHjxOCz+TB\n",
       "HM0N7R/cCIjJVf+mLrxASyHM0aazvnIgqGITL5s8iXjCCt79+O65tPdz3beVlRVg70Clidw1XCQY\n",
       "HwRqnJGcHRBtatLXzxEV0FW7PdQ3GloS5EnNanerhsHwh2FIQiFMvFeU/ORD84vDZVWVMGYGvfFS\n",
       "VH0SNKsKNQGqxF86a6Zrvuw08ICx/Z3lc/0LzMlrleYlPWu3UkgJEmvQqNH8FdXzG4to4JXWeJlO\n",
       "ROnbSf0fwAAAAEZBnwhFFSwj/wLWFALWI32onvQG+gAuRVrZj0N/T+UfP5mECGpvPQnmg5PSTyVd\n",
       "SIDRm5ScXHzuuwZLgf9fUJgezdhRzLyBAAAALwGfJ3RH/wRxiBieuNIy6OUfyABOwbP4PO6fD0qy\n",
       "YziM//+XGvxNFlWTUwpaGhvJAAAAMQGfKWpH/wRz49C+FRXfmnWDgATkOsBw2Y2ce6bEGg7Y1mcy\n",
       "ygmPy0nqS3472KkQX94AAAECQZsuSahBbJlMCGf//p4QACtfF45kZcALUB2/wpfmobn3cNxa2Tzg\n",
       "mNv8GVfAaSTsSpRwu5aFrYlSVb+PTu1nfKvbEmxh+WvhM9pAaxsU+YPIqi27VE54OgNI+gkaLvv8\n",
       "CgmNvZ3WnA/JUzXMysykqoUATHaW+h+eeSe3K+DdoWY6UGJOziD9qLmNuYJ/eUArBIKt9doFp2dm\n",
       "b7137GvmJzDhSFacOyOIu4HEw+zi4R1auq+F7YyVbHvltFO/WUuCXv2Hogd8aqWvkVe+wJTjkxuQ\n",
       "Ct5n7TkjuyNdeFjFIXBaIS0WewCqjpsbM96CRlAOHeKvgXmazv6svV/AiMQbvfCgAAAATUGfTEUV\n",
       "LCP/AtYUAtYlVdh3UOAATl2AAViucq0gDuTJG7wTvhXtrJAFv6Y8mHKrF/q4hcj/aQH9V7/SwnYb\n",
       "XMlDcp11r60qxLjUJyZDAAAALgGfa3RH/wRxiBie7ICsASrbxbCAIO38FdVNeSKNYAOcSACQ/tIc\n",
       "YvZTc17UTLgAAAAqAZ9takf/BHPj0L4VG8eA65ou/pcmAbBxWOEmMRk9cNGtpwB/tJPCCyJpAAAB\n",
       "C0GbckmoQWyZTAhf//6MsAAqTbR0PtKEADhzBf4UtWpsPLVD6lHj0sSEVt6WxtXWGd9lXACYmeR9\n",
       "ngpQxjHJpcWZCvK5l2QQ4b3OrlVxIjjfHEoc36vlZIZIMztBKpa32CyFh7RKRLMyZPhaPKdEYdUd\n",
       "SGT4Dv5sOaCbjvq/G8JWcdZ1z245jPJmS8vzcMy0vHGB8J8wo0rrKNpgPcArOruq9EgzfKMzL22u\n",
       "PqOKs/p1aLqaQmV3H3N8+vhJGTxF5yHUf/zFIG2rVk+DZhnKvVCY3RwPeR3w38ij8BzWUDmFbklX\n",
       "Lsu1eRtGnQvGI0E8bjNr4qln28K4RDNm/vT7rX2oYgA8al5aUJfSgAAAAFFBn5BFFSwj/wLWFALW\n",
       "JVUX/VGtYLWtczz71txFAKDq3sEMNph9gr+8dV7nu2s0SvgV0Ea4gYzXKwXJV5amRUH4GRGmm0wB\n",
       "olPKkJoh/Ay4RH8AAAAhAZ+vdEf/BHGIGJ7sveqUIUn5MKR0jVB/W6W5JRccl/KBAAAAJAGfsWpH\n",
       "/wRz49C+FQCHtjn+fiedwvkY2TLmns3v2IXdt+TTgQAAARxBm7ZJqEFsmUwIX//+jLAAKk5FMXah\n",
       "AgOAIdSAsUf7KLx188XR6I/vK5x15cG1yirvk87Wj/oB6Bob//usHP0xNuZ57TiZ/pc1RYpv7i+Z\n",
       "FEIxdlaxMITPEbW/TLY3kw2j77/nYFDcOsEd3y9oXSqoEbRumJyEj9Lo+DenRkAH1qstboOdrFKo\n",
       "jEA+TmwKG7rt6GANeHcHk7ZqHM/cFzweDkN8z4z2veCcTg+vo5cQ+AWBlqyB829d0qDEegzGN+Do\n",
       "uB7c7SHaQ6Hbf4ThrvZmJLyPYtHDyek6MCBju/sVbTBzNLHm+fb8+KJxnKRhPk6UNoA4FgRpWen2\n",
       "dBouharxcIV7rodz3lqVSnANXWtgHzwAH2RKwgNzBF2GoQAAAElBn9RFFSwj/wLWFALWJVUZAeXR\n",
       "3LBAAXQMkwvaRDA0nSr8gZKGe6zmcFYYP5BCfQxgTabO8ceydy6B2Cnrlmc8p0IJXD6Jw4JXAAAA\n",
       "MQGf83RH/wRxiBie7KT8Ec1ZYgzk27jbahVOXiYmw3gyACWP4MzFuZ3ne4Pt4mE8FoAAAAAoAZ/1\n",
       "akf/BHPj0L4VAIeZfq7HKbb9kAAJYWvc0ofjdzx308/QYWWtPwAAAOJBm/pJqEFsmUwIX//+jLAA\n",
       "Kly4oSIAcOYL/ClxciMdz+jX7tP51PG02fLF0CJQ4LzpKva96AMatDC+kINdsLpr56TTJ09OGc+7\n",
       "rR+uX/GsDuFMebVCEw/vU9Hiclf+8jDXVmM8r0s6pCBBiAImpMk8CAOdFZ3VnktZDOODEWLzOlS2\n",
       "8TeC3HwbFsdMpmiOl2aFWYxfgh2Hn0Pmy4qu8Aa3T1avOs7O9aKRTzTTiZ8QAQh4ZfhQ9wXHx06H\n",
       "T0SybgUJdYwTPIfJvI9KzBS7koNJi6FjaZeSoDUHS4UHnhQprvVwAAAAOEGeGEUVLCP/AtYUAtYl\n",
       "VRjvpnwqOO8E1tB7hKSHItkunGCsrNUiENmsiBj8EeK1slfa3y8+t1TgAAAAKAGeN3RH/wRxiBie\n",
       "7MGF0RqYFKnaWP8w0c3uzjftIARAbQdwQ4gemWEAAAArAZ45akf/BHPj0L4VAIe3jbYWxdenL3Mt\n",
       "b92WZkBxoc2ABrVmm+4ZOmXL6wAAANJBmjxJqEFsmUwUTC///oywACpgwXioAOHMF/hSo5n1veMK\n",
       "5j+8W6d6dqZb3/Z8P07kP5nTepo9Qo/aD0OtuT+X8FZGLyE5516ayynTZ9J8DZbx9kRWryaNVjDg\n",
       "S8c5we4FU66jKGGhNev1jdCZ2ZkQNAmP5rE0eAzOMzc6rdsWTs+6rkvnaWQEzwqk/X3Oxvs4q45i\n",
       "b2I2BlXLTP26OOYY21ClWSuZ13IhjCPy2t6TPehg8k8Jv4xCbQycHDJEsZp8Gsx+Nefht+L/q011\n",
       "6zc+69sAAAAjAZ5bakf/BHT5BiyqzB8H62NPbIPtz3Kw7AlINcAK0OK3ugoAAADTQZpeSeEKUmUw\n",
       "UsM//p4QACnuuW2aTADbow41ATLa/lJqv+9u04yUR/p5mEG0ABiPXjKmxsnZSFLHNVG2uXE9Po4v\n",
       "cE5tCwzq7Y07Si+VR4GVlnL6Vp+g26nIZOkV2tblgYJIOGudMQad+h112C3aCb3C/Jshc8xQkarh\n",
       "lcfmA88+NFqq6pSxBSmykSx0vjmoyfMRVg5BetfhaKRs4G4zHdxnn+WkS8NMnC5NAHhRWMdzUv7b\n",
       "gOf8U/HR7h9V1eesMwqRekjA4OgFc2bUPAKU5YvORAAAABoBnn1qR/8ABa0pXgqfRZefJbY0v95r\n",
       "KhY92QAAAQ1BmmJJ4Q6JlMCGf/6eEAAp72e4DCMcAOPa9a3JkzZRkYHYSiS3L0mamJjxLi70TZub\n",
       "yvsEikli4UrXKlJOSOMcxmxpukedQvQpN2hRMe91jnDgAwHOx9JfIeRcg4Rf5t53qunlSK4JD4Me\n",
       "b6FwA4ksJrieYTAiGvWPr0axSArTvp+73EBXVhCka0tHMWL2orZK3VsI4pykgEejodGiCgdU/7lw\n",
       "YFCtMeW3k3878OPyrO3MTi7R84Y20NfPV+9LaMoOmdSrLo7VOik+KCpPQ/gkj6HQLZ5acRCw8NwD\n",
       "zkzD+KpbaR1GLJZFBRsJQwAKX5WlR0xK0Tb26pqbBS2gDTOKpzvgBsynsr4QUPAG0AAAADRBnoBF\n",
       "FTwj/wLM8qJIsnM3aW0TC+ULB19rxNv7n4wei9HrYol6SjOju18+n+jWpx3ZOceAAAAAHgGev3RH\n",
       "/wRxiA4HYJWMaebu4bnfmzAeK2+nckbXIQAAAB0BnqFqR/8Ec+PH7x8hJQoFA4tgqWD31CsVSP3b\n",
       "gAAAAOFBmqZJqEFomUwIX//+jLAAKkymgqUs6jIgCOoL3pKvPMXaDjwr9fJCg61eL3jyCVYR1y+S\n",
       "OnBMT/z2o6Pe2DW1kWR208uOCDBnOq/N54n9HbiLz08K8cs0EG4k0Fj0gb8wXYAQ6LH+7iUUIDkT\n",
       "JmBLd2/n0GB+6E9DAxziT/16qytBg2fF5Yv2binOumz1+d6c19gS5InEkY3Hg80DG8eMadpriJZw\n",
       "n3T3mSPHYqxwqMrvXd2lz90Kt3j/QdQ553Cd73/yr6pNOQN0W4wDKTcMZ6Sf6qXw4aBU04FwM80y\n",
       "epcAAABFQZ7ERREsI/8C1hQBfJxkfNojhWGGJ8dF1WP2gMWaU77YpbSl8xACrGQhbV6qNVhfQD3H\n",
       "Bn70MMJ10JSJ1+kRy6Dbok1BAAAAJgGe43RH/wRxiA3lakmhqrrM6FBdLfhiTkI/tUmIATSY0UVT\n",
       "uibgAAAAHgGe5WpH/wRz48Z2g652fImoI2lITdr+DzTnU7GKyQAAANhBmupJqEFsmUwIX//+jLAA\n",
       "KohwNnABXzCHIX854BQT+Hreg42iZTru1lRSSEYlb5eGuUc1MKYkdW7HxSgCQQE7u7Webn9QHni2\n",
       "H2L6EhHtj+zNRJHD/44rR+a/YPAYFL2hLV3I7NM/U3Gn/pTAX2Et5LvyuU+OlaToziqAeQDzUDTx\n",
       "MD681887k1oC0h9oV0po2VUbgVMGk4/cUKjWRfX2Jw5QLhYOKxqPMFy+UJmy1w6b8DR4eJKJAA+l\n",
       "ynA18Ce+3jTstMgEnE5Mt4yZ1xVRfIJ8LtnVTTAAAAAyQZ8IRRUsI/8C1hQBfMbVnjmV1pU+0Bhc\n",
       "TnF2yc+QJKLE4YWcif08j+tFtRzKJ48ctt0AAAAaAZ8ndEf/BHGIDg+XDsbFkwd3qM4x6dwnjKEA\n",
       "AAAVAZ8pakf/BHPjxndrSfhAgzhwGeSAAAAA1UGbLEmoQWyZTBRMM//+nhAAKfi9AARa5MkJ06wD\n",
       "4kBF0DIAr6BQyLibEiMMfxXoRgY1oJpmaUWWy3jDb7aXHomJXZixA9OwBx5zIqyn4cyn72wbN0M2\n",
       "cstqDHpN0Iy7N56NfvL2vGX4N350HQS5aWMSHjqv/EXwiYhz2qvBMuGXdWl1+a/IS2uJ+qwhOW0t\n",
       "DCVLC0bMi6pGCXdv/JzHN2Ty2KqMpff3dTP/8bGPpC34mtdVwFw/cxOGcCj7XDGH3NVpQzBCXXyn\n",
       "k230rsSdey9Dz9fVHwAAAB4Bn0tqR/8EdPkBqhTp0wqKouIP2PENWI1kgA3NRbUAAADNQZtQSeEK\n",
       "UmUwIZ/+nhAAKisPBSOEcKeN2obaegBwPRM1RbaRRm7aNcOlcOBjbpdTkRTeckt7nhVo+rrmEvzq\n",
       "96Iu/HI0MOtT4qEm8WiIY31YKKJSMQuCJnBqMzS63AckNn6Sn2pOaWqK9Igf4dTpZZ3gaGu/bYs6\n",
       "zo3T3UlBk4T7382L43Y1tVGOI6Tg+ePQGqdnQlOutsYA1j3mpyWPbHysxhhq8giAPIKqnBCRc2WE\n",
       "jO0OoMtH5Il9/B0KLFCogsDoIFevKB124pd6iAAAAD1Bn25FNEwj/wLV1OB041s8zDmiHiZj0utY\n",
       "qOBfEsFMAKqlaPM3PQCiVRCXsoJfFmufpNaOYvBGjz7muomBAAAAIAGfjXRH/wRxiA4Plw7CaHs0\n",
       "XVQnGW7wmuARWaH8OEtAAAAAIQGfj2pH/wRz48W7fj4KggMhl6yrLDDdDvyjR4FAtVB8qQAAAUBB\n",
       "m5RJqEFomUwIZ//+nhAAKe8zsm4S1+sAN4Kqxo6qmDZjV0MHF3YOnjegXA1FcDXuqBQL3ac5V+Fg\n",
       "fVB+i7x0J0VmJrHJJxN7+hfjPZb05SHNn+PXkNLoSN1g6lU8v3mJM5W7rwwVEjRq3CAaEdT42UYZ\n",
       "jTK3IBiK3JLiDtCc6nhAtL3aD/S//s6G5VQLVKkaoBA2YFMNKT75I0RoS4JVgAx4H7GMgpPz1oVg\n",
       "yYOksncOskNbva6tVOVQKb8lePsEHL7ItUrVll/DS/WLZj9oMVuh82fHtFwwmln/ZZYyXR43NGg8\n",
       "6qVClq4S4kLoFEJ8zOhbnQIfgGmBekygayFYv+00MUOAjjI8qH6vzgrBFhjy7vp9ke2Fa6qIH8lf\n",
       "77WE+guY3WRVksoj7ky/YHcgEDMwAIi3GRqra0q6sP6JcQAAAEJBn7JFESwj/wLWFAF8xaAstSEk\n",
       "Rxy6lEkUe49XIARjhe1tfh2E3THQACtedUZR8DpPce39fWi09sVPPESMIawfj98AAAAgAZ/RdEf/\n",
       "BHGIBUp9ANfIk90H2whYcRI9k/qeN6QVhaEAAAAaAZ/Takf/BHPjyrh+Cm8vkXv1YnYmSrH+FhkA\n",
       "AAEOQZvYSahBbJlMCGf//p4QACnu/sGZwAFgIUZRUuCblQPN/qhVEoRb16O/oUQteeHbAy4hsLrH\n",
       "tNMoCbl3XvC5kPM/05nGOr7OJO3Lk+0oxtjTygcVqM4/CPZaZzrQX5K0mQ/lgBBYdXysbkgqmRJW\n",
       "KahiS7+rkJA5rQgrDn30IvajvwfyXswPDzVcM6rn2Gzksg2v778rzTu4jLKJl42vfNPLmz7emw3I\n",
       "POS1vUjZQ+sGqjbidYm0rkoCNIqGe12/k8CxZigYj4sOQqA7uhrBONv3eLFeSMEcJ0nqajwegcoy\n",
       "5CilAJLYUyIGVI3NkLYzfPgNf2LLYdQnAvvLAqiRt5CFuja9t8WxXyNoPjPIAAAAP0Gf9kUVLCP/\n",
       "AtYUAXhdDNVAgGzzUfxJaAFmK1lnAicJFqMHPw91c+5C0VLEencKx8tdOAK0y5C3MfMBXUAkGQAA\n",
       "ACoBnhV0R/8EcYgFPOKyXsNJiAE0sgLSGCUKP0ibul8wOdKiQ/OYYg01YKYAAAAxAZ4Xakf/BHPj\n",
       "xngqsowAM0WYkABOmGTQXCCbQbhdrS6KC+Q13+LkvThhDM9OU0ojWAAAAONBmhxJqEFsmUwIX//+\n",
       "jLAAKosTSz6AOTMKGfpGJrxv2g61vOkMSuS7P1cn+VkBDrhN6vSCNsTZS4kOYnZodvOO19ai2OPb\n",
       "gHmU2TlFAPjHXbrkSyEVax0t+CK2VOSoS29TZTvKPgC0fNccpqaWEp4P67ciz36HiR3GBOf+a4v5\n",
       "wlyw7Q6joCI1j2r7BCNhW9xqyXap5kCamAkxGQncVtw9N1qyvHS4zNKUdtLUy0VCiDSnRWhfy4XT\n",
       "OH86L6HUeOm6qll309JwZSZ3UbsPDh3O5ynHq+Pr04AQnTFOaMuq6N/JowAAAF1BnjpFFSwj/wLW\n",
       "FAF8xtZdqd6fW39W78ALQAe0Buj2HCz0/J4WKt+NdVQUQEM72jllYzvU30EnGxSen9/6AbRPuxGI\n",
       "tJfr4KHf4tIdMg4Zxfiseobx6C6sdUjOjkEAAAAvAZ5ZdEf/BHGIDfo2NvdJlJeWVz7pEO9cVABO\n",
       "vOJdNkQ4rUwf4DO08QgLDMn03TEAAAAvAZ5bakf/BHPjxnNVAZdXfQahF6RTyMbYAJ15yeq/+ekJ\n",
       "FM2r4YnyZDXDk07ZD74AAADeQZpASahBbJlMCF///oywACpMy5hLZwCVv1lhcGZbO4Beaeb89uo5\n",
       "LKAVMOMerdw2hm414BepbuOCoOF8SUb09E81qvEh38lUIbnBGRRE1LF4HDL9Zo9aXhNWfin/5trk\n",
       "L3XhTpUXAuWtMRHh/afLJBzvN+3ps8OBeyjCuUd6Tp25N0mfPbELenzPC867mUF1ufyjnmHWnE/p\n",
       "sS+3aY6z76TQHNmZa2RHh1CiXFhV51Brc7nnEb0+xdkR0yjGaneQpKB36jQ2B9dXRboEceHdzioI\n",
       "JIJaLBJEskyv/q4IAAAAT0GefkUVLCP/AtYUAX+7Mw57xNFBoFNgx+xqkALT6DUApDolkC/yrxXw\n",
       "jeTSXAhGfgywSCO0RBKty9zWx4AHOs3DPsBIXsCj24yHnjWivd8AAAA1AZ6ddEf/BHGICKAfO861\n",
       "QU8gAeUC/9tZaKxj0AJNULqRz7YPA93WiDCjAm4CwomVspk5u4AAAAAwAZ6fakf/BHPjyrsFRMa7\n",
       "U3PzaBUshAB+0AFRC+9W1czYWxpvC0Mp8ILtNOlWaTi8AAAA2UGahEmoQWyZTAhf//6MsAAqTMl8\n",
       "/XeMz6Ythd0AIwrh4VQGXRiYrsp9omHWqZnwbkkJr5IGAqg5xNcIO3WrVW4EZRal3T444sYXq4m1\n",
       "dplQhe6eb+pNGObtZEZ6PrFRU82U+oSGRHnxgL1YBWFNC7UuieABiLckOKAhIsKiRU1VIsRnlEFi\n",
       "6IQ8usEPq2UcVgWxNkoyncPzeUx91I82q6sWinjq0hihmbBBtGaRGBCDVwGmBDCMWQB6DCzU1ONu\n",
       "qj4zTpU+RqEnp54tFBb7PqYhXa7rjH/2cUEAAAA+QZ6iRRUsI/8C1hQAksQKw58Ji0qyQAlHUBSl\n",
       "K65RfAM2KCPNXLaPvbDeAJUmmeEFI/CX32npFJaNqvLn8/cAAAAxAZ7BdEf/BHGIBpOT2GuiwAEz\n",
       "mgO099I9q+LrMMYUoOxlLBN2vkn+x7NjBiU6KnYaMwAAABsBnsNqR/8Ec+PGdud6b4kN/P7Zr1M5\n",
       "l2lQEvcAAADlQZrISahBbJlMCFf//jhAAFGTC7l3izW6AFhX7Mx00HRuqbb170reSMWQB9iSlTgm\n",
       "LqBOri64UdyCmyWGZjh4nEORX5q9g6kEbXncmV+Lvl4lSkHycxeRrG9ASro47911YaSS3ST0+HWQ\n",
       "QwK9BvHQ0ZTxJ/8elUWuegr/chLfX7l+fpj5oKbdfjxL+ZXs2UyDrreXzW4/Cz7VBvyPFxFLCUWh\n",
       "yJe2puLIWD6BJSis6qrKDtNgcrzOYjx+L8QM5WWfs3i0Hhfxgx9NomDpHGfhD+msnpueZAkjHAcD\n",
       "wkRE7zT9i/+CZAAAAFBBnuZFFSwj/wLWFACSiCRpjFmKQALnudI3y9gX3IGkF/BcMvdkK9uSih2t\n",
       "Ppj+/eCJq+NETag1TBuQ7Bs5SKkcB7I3SB8hXppM5YLPldHM0wAAADkBnwV0R/8EcYgIoB87zrQN\n",
       "/ni4ACdMAE777tVuV87FQ4n7PO5EG6eObANcOUUITWCZyTqwW03A+kAAAAAiAZ8Hakf/BHPjxbZp\n",
       "3MS+UEd57VwAbrnof25Xu0HJbikXgQAAAKBBmwlJqEFsmUwIX//+jLAAKohwOMICEuIB1yAEtbZx\n",
       "SDyxJ52C6QBQqx8clcTW/aOEeU/zg1KOUH77bDr3vuC6uJmuDGUkMpVSrrhQ7inmXzUvKjOAVYhW\n",
       "dgSHl545IYEahrXDQrru/xsmefSd4vgaKUez7Qzi9QFGYsHBCI4BE7s7utEGVgcJL6qi8og6uQ8+\n",
       "Q2JFpfVToNpmAahkGgEtAAAA8kGbLUnhClJlMCFf/jhAAFGwk2AHRRZ4SjqIrEZHgh8APKVf5H2i\n",
       "dUWbw5Wxe25HUMdA8AtDRR6mErTCNfsG8dHuLpMJrnFx4DWU/mOUIeCzBshAc+Ro3YbQ+4OGXcZS\n",
       "MUA84utgwfG6Ut8f5NM4MtAuiow8rBoBWi1gJrkxYsPCsVWlzXjyn6N3HKzdU+d5htpVp5pdLX9p\n",
       "YUsWDShHL8LTibWvShVHWIDmFUoGV1HTsxpu7CgW+zA5AvsZ0n6emvCLkht6pVWR9rzHekinfBbX\n",
       "Ylb2P7QcwQvjn7JLaZ3KkHtfDDUnrEuL+Nw9DDFVCKZAAAAAOEGfS0U0TCP/AtXU3+1wlGowJZlB\n",
       "f1soWAG10WOjZeMKS14uPvzJEwhIsLG1i1X+oeZfSqIVxX/8AAAAJAGfanRH/wRxiAU/b36SO79T\n",
       "Ei62qSlz3lACaaRRzJkKNunFOQAAAB8Bn2xqR/8Ec+PFtqis5a5cwAItqhuSFiAJzqRUAvPeAAAA\n",
       "aEGbbkmoQWiZTAhX//44QABRr1kgCqPjSaflPnp4PbQFtrp0GZNbm/5pI/mazc7RbSxB4IyULJsA\n",
       "sULuHhNJrj7Y1FNLqSc9YPu12siOmyHuCMEb/N4NrVQWgMMsllSTYW36NaNOZXipAAAAskGbkEnh\n",
       "ClJlMFESwr/+OEAAUg1w2IA5aQoq0Bb19WSULw0CG6kHKF7LV/R2N/uq4kPh0UnzS+e6T09wTI9j\n",
       "a97wqgpgW/3/UBBfZl3IRbeTlQe7+aPi5k3ypkP1j0k+dKchrCJEqDlIG1kIBjMEavt+ca6nWkZX\n",
       "oOjW8Z3/HhIzgaTmrcPkY61jPiINDDMszxvuf+UHHDC4hu9DU14x8YfA0I+Gn9LEsgyoqOkblXX/\n",
       "xoYAAAAXAZ+vakf/AAKfkCbftauCo+I8PnHqX8EAAABxQZuxSeEOiZTAhf/+jLAAFSz/WAIL5saR\n",
       "QUdJCmJBtbRMa/JZgdWuUd0NCYTSVhgfbiXmwN3EtPQJ2CIeKFREHf3w4Pc6bf2D2ZiCp/8Pshl7\n",
       "uwR37rebHmgKe+p1PaXNximfV7mg6UYcxpacW07wwg0AAADYQZvUSeEPJlMCFf/+OEAApCDpjYFL\n",
       "ggtDMyHqb9KDEjXs3j+/TD6Qm4YlZOdRYJqDwBB7ONQaYKEAcVD7DTvkB5TF3+QodU3FVIjOoO+P\n",
       "nZ9nSye0nVNf7WYk9s4OOCEUlWC7rzq+l6zOMjnT7LXF3ymKWwMXIhKOZIuGLCjayeARRWcSvXTE\n",
       "c7ROENgrv//+3iPKbzCLYxKAotGdhxKg1ycFuyOq6+uSuhRsHtWHM3GGelpowptad8MhwoxRqpd7\n",
       "Amgzv7fZdOxs23RTickmFD4J8LrHVuLBAAAAJUGf8kURPCP/Aszyokk/3Ums9JxGLQ1oOO0XsQN4\n",
       "LNTHLigwOmEAAAAjAZ4Takf/BHPjyrsFRMaaYerjQAmjAAAEfjd9OfgG6I7yIAsAAAB6QZoVSahB\n",
       "aJlMCF///oywABUsZkAEckyTg1/m4wIjGYMvNi1eF/kGaiVh7xjrV9b55yBBPFwV3yg1jE/lwMmd\n",
       "U95ucwKfsfvBe4mND7mr3H5PUXc6KspI7iReygZNNifO5HYHQcPsfzQto/zOyl1uCeWyP3BU0Tci\n",
       "nocAAACmQZo4SeEKUmUwIX/+jLAAFUPLeOAK2wpUVnZburOj8qebJi4l87aTH5dqbFWfinlhabD4\n",
       "eEmAqS1K51CnNrELBamMk5w0a49TOWeHgmUevGo0Txit0SwG0LrOHcK1GH4TvZ5yrWeIPBURe82K\n",
       "FC7nBh14Ic9w2k6VVFhoiSp/xs7lAkiRA7+5Y5yFuUNRN2p9DyvkbdsZOzk7jixXtoNaAvWdqML9\n",
       "NQAAACFBnlZFNEwj/wLV1N/tNJYlGivUkA2kkYKn+Zjp+q1jCJAAAAAXAZ53akf/BHPjxbIo3ame\n",
       "eEG8t3gTngsAAAB4QZp6SahBaJlMFPCv/jhAAFGwk2AHRRHUImVuvHftVLBM8u3SmxiKvaBMv5Yw\n",
       "J81rUUAvs/DUMIPUWFE6PH4AypZGI/38XqWxBA13yRFU7bDsXTtmAwVb25JfRfpkyvIxab00eNL6\n",
       "qRySRFNzHP/hpwn6p+d0LIuBAAAAFgGemWpH/wR0+QFNvqlL1bLXH8FymUEAAAB9QZqbSeEKUmUw\n",
       "IX/+jLAAFSbCa/YAAVukLLaMc/WcoRBedTn5W9mS1IVd0eDI0U6gCpI4L2B+VCbMNoacuxRHXFTI\n",
       "MydyzKz5nVQvm4c4lA1VSG8VJG4IszAet/8TCNklL+zApmPC07lSXOcMtcwAXYvcTpa7bUbmQd01\n",
       "RIEAAACXQZq+SeEOiZTAhf/+jLAAFUOPjMAVviJ0R0awg2Yy/rJlhTUOwzQmkYvR8nihLy3InQp/\n",
       "q9VgadR6GQjP4FKpTfBvTtLNiLQNIboEOMIPKjODIymFy7aTDwI9nN5ZDt96LQApvifL0gv19Las\n",
       "kA3jys/JTcEzEpdqntT4UOWo4hi8II69BcHZU6hn02GWghxghP7zvLtsqAAAABtBntxFETwj/wLV\n",
       "1N/rl7aTxhKHE6ITrMGE05gAAAAWAZ79akf/BHPjxbFAWUHnDh6jeT6cwQAAAKxBmuJJqEFomUwI\n",
       "V//+OEAAUZGbPakgC/ghXjDAYqCKPiujLofGZKJ73hZLpq2mi1Q6lJsW6aAXxgr9ksXuzQVP1e7H\n",
       "wllRGj3FiYvfnQnj2mDbROUzek98DOlQJ16LvqnbDsPqo72ZY+wGDs9oUKDOQ0O2KU1DbVeet58V\n",
       "nsewAqgqY4pc9LFbBucsJq7kItgKrCQI1C9Z0EOAZWnuADQ4eshaaIX79uu+YvKAAAAAIUGfAEUR\n",
       "LCP/AtYUAI1p/ICUD8NRRH58b2LbJwsP2wD2VwAAABwBnz90R/8EcYgGYIam8PGs3dOwI/HZ5QAl\n",
       "98PJAAAAFwGfIWpH/wRz48ZcwqwiQ1WRpmoizUFgAAAAXkGbI0moQWyZTAhf//6MsAAVLKdAArnj\n",
       "vOOR/LkGTadFz4mFcHAWJixKfK5NBEn2EAFywdP+fu6Y+fDm6qSY8zk5B4Kvah39CzsrtZGI4cD4\n",
       "jZNagziIAjPrK/8tboEAAAB3QZtESeEKUmUwIZ/+nhAAFQrta2ACMV+8ZCUTIVj7RrFzL/Rrkss9\n",
       "JuUzZtbkob5Ayomz3R+9LtSstK8Jxv1CkDguuioiwvJGX34aYKieeHK38a3aDb0jt4WQayC7KlXg\n",
       "1g7d9LKLn/de1IPWh7tC1F/UD3lNeA8AAADCQZtoSeEOiZTAhn/+nhAAFa+L45ypcALZCQ0hoOjr\n",
       "x88jI3PezuM44n5xUX7akiEBX54zRx5RovIyh/1oHFAK1UNI4hPIA++pYWzjqXNSp5X+wxenAPuz\n",
       "DFsAyQ+j4699eckViKcfKIVCpKtzLUKe027grVC8H0IcWfIzqtH0a30wfWRO+0ERTMUFe6epFeJb\n",
       "BP6F4fQVTOffSEAzvfM8KPH67mpfxIJJRBe0WIO8SvU6UAb+tXuSHXuWA/5Gkwn3toAAAAApQZ+G\n",
       "RRE8I/8C1dTf7BIlbcdSu4aN2Xfi1dZpr0GwA+nKBGs2kn6lKuMAAAAbAZ+ldEf/BHGIBmvVN2bU\n",
       "7nfpNBLmqY54ggOSAAAAJwGfp2pH/wRz48Zk5zY6lwAWoiLx04KVmp1GQE8uTO/ViFimGj/XJQAA\n",
       "AKJBm6xJqEFomUwIZ//+nhAAFRb6bHgAONqnGTUBT9HNjquiBtQoVfv659UWlqBuL6gr5TXQ2xZZ\n",
       "YbphYsLXypBMIwar6iUBUhh7OO1iaIrmw4eV0Vuw2B3HiTgGALF+R9eNcyLFtpzFRfO/ZJu4Ai4A\n",
       "oqEv7LO/sE3tgW7Z0/UabP1Qu7dflgN9KOv0gYcyltWgAL71nG5rgSa9duGp5nsQ6bEAAAAkQZ/K\n",
       "RREsI/8C1hQAjft8CJ0RpjozN4namIdSfyGLBbeHvAl8AAAAHQGf6XRH/wRxiAZvypr9mPFuplOj\n",
       "6ShO/99hOVEqAAAAHAGf62pH/wRz48Zkgjys60YxMajaPzYblDcwJUEAAADCQZvwSahBbJlMCGf/\n",
       "/p4QABUGJ2hYAbrM0qVrCPjExdxpAiGx435tVhnWv6PlHj4G/iBrvRKt1VlJcsapd3mSy680TJsr\n",
       "8oJDHtHk7Hk8IuR2ca62BrUJ1WiDw4vHiFrZL4SdfEce0pxactTNJb0ppSGuwXdRoo1DKTit+LwX\n",
       "TGQAWwEeUO3QqggI9GtW6yppfHcUvpGWBXJR6497C01bKEvv4dyyNIXR7y260lhYUE70fh7JWxVh\n",
       "zFa9mOvOf8FV1qgAAAAtQZ4ORRUsI/8C1hQAjfu2ovHpAAFlXdouPRMY6gxiGjQFVtPv+uIM0ugJ\n",
       "lguFAAAAIQGeLXRH/wRxiAZv1QekWaUeI2xLEABZQe32OkMWJZIQXwAAABsBni9qR/8Ec+PGZIFZ\n",
       "bPO3RoQKemPP8N1H6YEAAADPQZo0SahBbJlMCF///oywABUmiMLATV4ADjemIABcPoF8cI9c0mei\n",
       "+7no7JeNIv9eniBKstHR0XHONwGehAr9AYwm18eLWmxB/F9gLLeA8dobxFJ1D2puiWGoANO1FY/7\n",
       "NiTrI2LK8KsjAOMoPmiOiYFs2xGH98WuPuYzKQmLChG0YvXB7SkoULTe78RoZX+k632VuBdrYiHu\n",
       "07j6QTSkZPv7br/QeMnbLoPdtt9NTY0BwWBdOi5Sp2gE45NMC73iPmTrxKQKx/okwQAHOFapAAAA\n",
       "PUGeUkUVLCP/AtYUANwgfZQ70HjBonIYAI7JDKeS5SqRGJBGTC8YLqJkYfSLYY6luzX4+RQQ9CPH\n",
       "V0csRfEAAAAjAZ5xdEf/BHGIBm/M+CKicW9l7kQAErmrTfRs7q0fp1NLrhEAAAAWAZ5zakf/BHPj\n",
       "xmSBWZaGIrEb6HeIVAAAAOZBmnhJqEFsmUwIX//+jLAAKkzLlFqiXr/4AGjbk/wvGwVQhk8uG5Ns\n",
       "R/87E8Fg+Xdu5wp9lBctfNuykfCakShNlhO+L4UAVrYg/nKy1v2BRnhzTmaCmum82dLdRG2TmWSm\n",
       "TiuLWU5dVjGX2W1cH8QVLwRIbfYBskdDpHG6gifdIfLB5lovPuVDHgTU8OIu8/c2mLiddpGWdmW4\n",
       "ayayBgOakQuueE9JrDAwHjZFU/JkqJJhwGyT5SaN7Y+npbyI9YatyHupTHBPumcwlv/9UxQPGZdK\n",
       "41lt1kMt/UZUg6d/D9SyyYQblgAAAD1BnpZFFSwj/wLWFAGBLToH9rdKAE7cCpxYbcGDbKACR861\n",
       "/XU+gRrb31ytkZAVsN5TaXBHo+7GxfQTXVFRAAAAJQGetXRH/wRxiA4PiJk27nvD8e07HF/rJAIA\n",
       "D1/8eDxk09Y4UoAAAAAmAZ63akf/BHPjxmSEp6UpFBtkpMXP589ABIfqTJPh+6UsMm1yBUAAAADd\n",
       "QZq8SahBbJlMCF///oywACpMy5RaaC/whosNgAaVk8V0gug5I6vanFg4iSk5+szfKLaqZ5Lq4Ur8\n",
       "dvUtge7tFu5EiEApCmvZQwL8x2QpItw9uGkgbEeJkFMSoxfkl2y2LX2H4lB6WFBd+gyxknAsDfoq\n",
       "WHJRr2KG6FzTy8It2Rdzw4udiliC0EesPrZeOJtATkFGEVcHSOvOSN53YLCt52o1VVBHGp3ROM3s\n",
       "Msb0idloCYtjxu3VOeyVov1r0h+ebX1bvY0TTv+B+SNg0Gq2UzvtnyDWKr5GzZUmOcEAAAA+QZ7a\n",
       "RRUsI/8C1hQBgbzCAmVbaxAa6m4SABaVWuRIYcYkNXRD5s2VK0q4tec4cMWsU1LCFurN7HHDPPci\n",
       "yoEAAAAZAZ75dEf/BHGICN+Z8JkO6MpFF0yKO1fKgQAAACABnvtqR/8Ec+PKuwqN7mjigHbiUzsw\n",
       "G2FjHK8UPrb8oAAAALNBmv5JqEFsmUwUTC///oywACl7w7hxCWmEpC5G1Fz3JjT0tQylVj850O3S\n",
       "C8IwMTia0KGP/v46xcoaLAkCDxtj2iPyQ2YbrGC0Qpj4TF8CHn8blLbQhatVXKQHNadTvVa1dQ7w\n",
       "Htcj/kc08y9l831yEkgklCz3hqcEOru8SK8sxfdE50o1tNnRFizYCIjAVlgqoafHcj6HtZXfmxc9\n",
       "8Aa0LiGJfFoz3TgTGx9gb02r9eNUCAAAACoBnx1qR/8EdPkCNeJRsOm4q5ZMZ4pAqb+OVjlREwAS\n",
       "fjZetXDI0Qt7z4EAAAEIQZsCSeEKUmUwIV/+OEAApCDk4sAIvQ2A0GOxsPgxZumIrSN86bZpS0r3\n",
       "Bg2DZElf8wft+LiAigXotIWnhS12YHjTF4SjjPQbU8rMh5J+KXm9+kl2VpM4x2HThQ6FY2Fkh2Oa\n",
       "pXta7uZrbotG4q2Fs6jdRUOKknisNejz/vk/BmRL4wLK7ns5zXI7jPkdrPi6jyxJfHSc3960RvIV\n",
       "AeEzhjyb4w4oqNS/kuZFIyu45xYhNxjf5k5SewWFkaa7QF40AdMhMb1yl0K80kTwicNDoRDHEFFK\n",
       "+iNstWcJGf0dPDnDtqim8D0CAevAYplbMsV8vYmqX4azR72AzDZBNtHUj5Ph7r3BZJBYAAAAO0Gf\n",
       "IEU0TCP/AtXU4HTjW3XKDBF6X69oRd4bAAubSel6n9lYnAg+crXT+nvTd60cPwwP/w4KaZda6+xU\n",
       "AAAAIQGfX3RH/wRxiA38orX6ClDDon2LQyMWUgUxNSXRypQefQAAACYBn0FqR/8Ec+PHyQlYzw0z\n",
       "ra5NcD0WWHwKMB9eDYAJeAh3DrLKYAAAAJBBm0RJqEFomUwU8K/+OEAApCDk4sAItbHOvzGo5HDc\n",
       "C+R0qo5sA7t5UJ52zAxMAv6SmcbZsMt9XS7lrG3EPrVP/mjYx+WphbTpWBLa4tR+FBZbIKWjM2K9\n",
       "omvIpvXigLEdl8JiZu5R0zhKZ5gFwAGbfffg53BmSd0/vIPDPQZx/qkfMiaobOQaGbRRlRVgPVEA\n",
       "AAAlAZ9jakf/BHT5A3lW1E8afM1Nb32veHe0fHsczmvEpSv4b5W94QAAAJlBm2ZJ4QpSZTBSwr/+\n",
       "OEAApC+Cd9rAAFklv/bz9Kdogq1qs5AZAvdsQAisJmB2mVmcMPvluVFT+T1LgzD7IgWmUm3S80QT\n",
       "70itL7PzqW09EoH0n7flghqw1IpUi3B7rmKhNY+ChtYz+C4bmRT6d0gqXR6grVIj/zX9TNmI1mu1\n",
       "9Q/EXqUaEd4BoQNzUoDacjhwaJDOZlzqoPIAAAAgAZ+Fakf/ABVNa2dazibkY8qKBoJX5uFhblkN\n",
       "bt7PAq0AAAB1QZuHSeEOiZTAhX/+OEAAoyMuSgY6AG02ZPEazOc+lDbKIaUkpOoa72fMRqyqEazR\n",
       "ZVisIl+4g2YSAggKmbBLrQBOynpjNbdgBeOAfybCZZqz9tAdQJemR3wjriDjsSuuNZp3mQmMJ1lM\n",
       "tG6RM/MSN/ns6V0gAAAAf0GbqEnhDyZTAhf//oywACpMyYhRAAq6Yo1M30uM5Tf24QEgcBJwXuBq\n",
       "Imw9TRVMZedjdHNYl3wflG8/Pk0SV+RA5Kbsol9F8WBqlIBBRvj6fDN7kRLrT9GX7FHggugFpNZd\n",
       "HopATRo5V8zeUody1dRSrDlL0UP1s8rxzcDANtkAAACyQZvLSeEPJlMCFf/+OEAApCDIT+gACWrT\n",
       "mXqhYle2ewlefspl3BNOADMKk+hVHS2/YhnHkAWxlZBbuNLodZpopMGjlJdBlHhu53JpQ0H0rkYo\n",
       "+dLJyGQb2ZRihwSkLmXXrBDRgJzirtC9Kkouv57Jpjw6fdJ+ah3bQtdFjk6P3Z05P+SH3RfadsGp\n",
       "kon6QEDEX2x2jv+UpOY5lkVk4dPvXARQ/Qn4Zu+2th13m35jMnrbYQAAADNBn+lFETwj/wLM8qJI\n",
       "sSxheeZPGHpuIvQ1oWafV9LnrIvyBlHUxyOD1UfBLgkKfuZfK8AAAAArAZ4Kakf/BHPjyqYdgMU3\n",
       "Vx9i1phlNK5j80x/EBD6YVQBp3oe40h1I3/q8AAAAKRBmg1JqEFomUwU8K/+OEAAoywLOEWBDTZR\n",
       "oASISlRmc4HByGscicxJeghI8koTSEuYLjxmbr5y/Xmu865jkN/z9Mm+9r+B4I7WDDOCY5gOKQKX\n",
       "YsIEXITlPflWs4XvMmP9PJskGs1J9RMdxLRzH22Di9LjjOoye/PPldZBKUHnClhac8eYFwERmg8C\n",
       "klYE66Xl1/+P5yJI7XVYTngTxBKfvKxiwQAAAC8BnixqR/8EdPkDeVaiVP2/AATUdv3Fz7ZZ/27R\n",
       "TEJTBnHwwvcSqlJKwt59cC3CHgAAAIZBmi5J4QpSZTAhf/6MsAAqTIvhZqZPgARBme3qsZ4mL2Gs\n",
       "EWKVU0wct4M5b0k52tdkeMpwqnjzb+tKkk4akUbkLx9phTi9LbmTEqQswzN6UTpTa7y9tvzz31dk\n",
       "hH8Y/3mwmd/87Jau2J+9nPglxwnvkavEKC+msaIO6PLhpQlRKyTtiyPkXQAAARdBmlJJ4Q6JlMCF\n",
       "f/44QAFGtYkAcw7XU8717xiRhXC6EInoVl/IaG0dSaVGfQo0/lpjRmWgP7zDG1HR0KBNEOjShtSj\n",
       "jM8E7LAL870zwaixgSfaT8SRh/IZ/mgJcTNvTjWfjb/7mjlDx37IIz2Ss67Pyez4MS5jY+OWjyL7\n",
       "1+lQi82fpwsWfZndxu1iCPTd2PBnvSErujug23/FosrB9Yn95Cc+9eG5MQxsMvdfv8CHhI1HNhU6\n",
       "1NToY0gONiLCUBRYf/fvgV0jw/HbyGMxwa2dOOA7DOkSPqyBrzoFmfnQGBqW/GrgfT5kmBncrQcK\n",
       "DKT//IHaMYtKXB+Hr71p4p97buv1cn8S5vao+YcKHcXPt9aHdVD/IuAAAABdQZ5wRRE8I/8C1dTh\n",
       "Luvrtf+aNIMgmUvaMAEsMX9BaCYW0C+bdj3TKKVo7JbPEFTyZ9VG84zpsgEVQ+63vtYXeuFXKrGv\n",
       "fr/AcA+1NvCLMO2dDOsGRL5sQ2atXdiZAAAAMgGej3RH/wRxiA4FNDyAAE5mhZAl0GzNUJG+9MfK\n",
       "+zWoWcI/v9Xprju4X6K+zE/vy43BAAAAQAGekWpH/wRz49B5UPfM+mSGsgAAPzrFn42BPL2BtXfY\n",
       "ZCateblukFkivyBnNFpwnO6lO4S0IAX+sTm5ZTvqrE0AAACMQZqTSahBaJlMCFf//jhAAUhzBA3K\n",
       "MANlLf+36WPnCQiDS6cPvOIUz+r6ZiRwcTNF+mupR9N/qdPpc1sLNCAUy8y0Pva5hTUorRtmpKl2\n",
       "TIVJn6mVgsj+K3nJaGB7WY06qrGzxpBvcQwOTt50eeQQrX+X6ftzUJ9zJjN1U8BvcFUNOr9YSLq6\n",
       "nN45BC8AAAChQZq0SeEKUmUwIV/+OEABRtWhv93nxxdbVQATETw31qROFOZ67tJlTBNfErkW12Ka\n",
       "H6RH8CzpTMDrr9njIGpk3MMyqMTvUs+CleKtdOiacKr7v1N4S7Fefh7tHH6FA0LJoUugQtwrxyKK\n",
       "lo186rWl/0iOHUBPTiYs9lpNPcz2mm1bdJ4H4xoKWeibfktGW4aJHgJfNUsdxKYSyZO9HWPxAoAA\n",
       "AADYQZrWSeEOiZTBTRMK//44QAFIOADEWzgBauVI+6oL8L778eMd5h5gpAOO40rD16RpN4TFIo7L\n",
       "+ZVosGAUV89XdPZfq6J0L2JBb83wA1+aJ1tDkukHrsv8SNBnGb+kjxRge9Gc0mVH2ezpo/wMuU4D\n",
       "+KMnkgU01rJEFodu4S3ovvYjug48YPfEohiwma67W/KMGDfTxz4g2bjg8WggcT9Oe3IRsgdjA3FK\n",
       "VPNsa6KRQTybar3iRhnc9ILwvS/FvMPHoj7RkdnK8uCjd07ojDiw52MujVk3aPWCAAAASgGe9WpH\n",
       "/wArEiadGpABNMYwqsFWFpunpyGHwXAMEJTzGmtrrbFPlqKn38bsLK6S++fOFVrwaQC9WOhHpMcu\n",
       "mlaq1j+yi0xS2wyvAAAAyUGa+EnhDyZTBTwr//44QAFGkIYo+AAdM7TzxLnYMk4quUi76KDphscw\n",
       "eZQM/myx6vSMYxnA8csYrKkDDk6aKoPQfjXRXcZ2TiLeBlsVD2QrxxLj0YKGX2Rm0iRT0Fz8Xn+H\n",
       "GoFhUZXb19BhT6POmymYMTVxwTspZrDLTeYZfk4xw+9LZ0/cYXLDoIsw6gd9zSIoRJF/gfxAymfx\n",
       "EW/9jsz/4oRszSYELgjYuYRIUqEiNugISVzsQKR9HreprN6cpP6Z1whuanytdwAAAEcBnxdqR/8A\n",
       "Kp6cD03gAmyv+GVeL7VGpmPtc9ivgxAaStsba4/8S2UoDybgKClKaCYQaIlwybqgbVlbUxREfDW4\n",
       "FTzsaDPcIAAAAOdBmxtJ4Q8mUwI///yEACacdEAIyJagE17wPSV60URaOzfSIEBmnjeInSsWVf7Z\n",
       "tCRnYkLcv2U2Lvr1AgO4nU1TIPbdGV5ymaW1s1b/UjRemulfM4B4am4zkYMU1UXqUao/LMKZ/4bd\n",
       "dTt+OYuHyT8CsmnT4gHBJ9pxsg/4MPfCFVx/7pnmei9xpTxvarQJJYbG6nwBLfVnxoLtex1lqxNA\n",
       "3hkggKIjQn7K9gvsA55CAPEgKoSBNWI3mj5Ce0DeUEKfH4Z/6iCWVu97OuzthnGl4l2ososN+Eq+\n",
       "+SWibmR5ElDG/13or4EAAABgQZ85RRE8I/8CzPKirP9HvhXmf+3AAk7OHK3k3n93ATSV/BiV5AAX\n",
       "fp14eZOPefeVL63pBWDG+8uUUkb35HSn/7V9+NoRqNPkupA8RiOSfIjQ/1mpo1lu9GR/lDa6cfSR\n",
       "AAAATwGfWmpH/wRz49v6w4ARiBs/GajX4Vb9KklFiwMbzwIZfPmTevtafWjpHwGbU6G7Q6xwIWM9\n",
       "vvpru4OJ86Ad85TZzrrlJnRlnb1bv0UxfAkAACGSbW9vdgAAAGxtdmhkAAAAAAAAAAAAAAAAAAAD\n",
       "6AAAOEAAAQAAAQAAAAAAAAAAAAAAAAEAAAAAAAAAAAAAAAAAAAABAAAAAAAAAAAAAAAAAABAAAAA\n",
       "AAAAAAAAAAAAAAAAAAAAAAAAAAAAAAAAAAAAAgAAILx0cmFrAAAAXHRraGQAAAADAAAAAAAAAAAA\n",
       "AAABAAAAAAAAOEAAAAAAAAAAAAAAAAAAAAAAAAEAAAAAAAAAAAAAAAAAAAABAAAAAAAAAAAAAAAA\n",
       "AABAAAAAAbAAAAEgAAAAAAAkZWR0cwAAABxlbHN0AAAAAAAAAAEAADhAAAACAAABAAAAACA0bWRp\n",
       "YQAAACBtZGhkAAAAAAAAAAAAAAAAAAAyAAAC0ABVxAAAAAAALWhkbHIAAAAAAAAAAHZpZGUAAAAA\n",
       "AAAAAAAAAABWaWRlb0hhbmRsZXIAAAAf321pbmYAAAAUdm1oZAAAAAEAAAAAAAAAAAAAACRkaW5m\n",
       "AAAAHGRyZWYAAAAAAAAAAQAAAAx1cmwgAAAAAQAAH59zdGJsAAAAt3N0c2QAAAAAAAAAAQAAAKdh\n",
       "dmMxAAAAAAAAAAEAAAAAAAAAAAAAAAAAAAAAAbABIABIAAAASAAAAAAAAAABAAAAAAAAAAAAAAAA\n",
       "AAAAAAAAAAAAAAAAAAAAAAAAAAAAGP//AAAANWF2Y0MBZAAe/+EAGGdkAB6s2UGwloQAAAMABAAA\n",
       "AwGQPFi2WAEABmjr48siwP34+AAAAAAcdXVpZGtoQPJfJE/FujmlG88DI/MAAAAAAAAAGHN0dHMA\n",
       "AAAAAAAAAQAAAtAAAAEAAAAAHHN0c3MAAAAAAAAAAwAAAAEAAAD7AAAB9QAAEyhjdHRzAAAAAAAA\n",
       "AmMAAAABAAACAAAAAAEAAAMAAAAAAQAAAQAAAAAIAAACAAAAAAEAAAMAAAAAAQAAAQAAAAABAAAC\n",
       "AAAAAAEAAAMAAAAAAQAAAQAAAAACAAACAAAAAAEAAAMAAAAAAQAAAQAAAAAGAAACAAAAAAEAAAUA\n",
       "AAAAAQAAAgAAAAABAAAAAAAAAAEAAAEAAAAAAQAABQAAAAABAAACAAAAAAEAAAAAAAAAAQAAAQAA\n",
       "AAABAAACAAAAAAEAAAUAAAAAAQAAAgAAAAABAAAAAAAAAAEAAAEAAAAAAQAABQAAAAABAAACAAAA\n",
       "AAEAAAAAAAAAAQAAAQAAAAABAAADAAAAAAEAAAEAAAAAAQAABQAAAAABAAACAAAAAAEAAAAAAAAA\n",
       "AQAAAQAAAAABAAAEAAAAAAIAAAEAAAAAAwAAAgAAAAABAAAFAAAAAAEAAAIAAAAAAQAAAAAAAAAB\n",
       "AAABAAAAAAEAAAUAAAAAAQAAAgAAAAABAAAAAAAAAAEAAAEAAAAAAQAABQAAAAABAAACAAAAAAEA\n",
       "AAAAAAAAAQAAAQAAAAABAAAEAAAAAAIAAAEAAAAAAQAABQAAAAABAAACAAAAAAEAAAAAAAAAAQAA\n",
       "AQAAAAABAAADAAAAAAEAAAEAAAAAAQAAAgAAAAABAAAFAAAAAAEAAAIAAAAAAQAAAAAAAAABAAAB\n",
       "AAAAAAEAAAUAAAAAAQAAAgAAAAABAAAAAAAAAAEAAAEAAAAAAQAAAgAAAAABAAAFAAAAAAEAAAIA\n",
       "AAAAAQAAAAAAAAABAAABAAAAAAIAAAIAAAAAAQAABAAAAAACAAABAAAAAAMAAAIAAAAAAQAAAwAA\n",
       "AAABAAABAAAAAAIAAAIAAAAAAQAABAAAAAACAAABAAAAAAEAAAQAAAAAAgAAAQAAAAABAAADAAAA\n",
       "AAEAAAEAAAAAAQAABAAAAAACAAABAAAAAAEAAAQAAAAAAgAAAQAAAAADAAACAAAAAAEAAAQAAAAA\n",
       "AgAAAQAAAAABAAAFAAAAAAEAAAIAAAAAAQAAAAAAAAABAAABAAAAAAEAAAQAAAAAAgAAAQAAAAAB\n",
       "AAAFAAAAAAEAAAIAAAAAAQAAAAAAAAABAAABAAAAAAEAAAUAAAAAAQAAAgAAAAABAAAAAAAAAAEA\n",
       "AAEAAAAAAQAABQAAAAABAAACAAAAAAEAAAAAAAAAAQAAAQAAAAABAAAFAAAAAAEAAAIAAAAAAQAA\n",
       "AAAAAAABAAABAAAAAAEAAAUAAAAAAQAAAgAAAAABAAAAAAAAAAEAAAEAAAAAAQAABAAAAAACAAAB\n",
       "AAAAAAEAAAUAAAAAAQAAAgAAAAABAAAAAAAAAAEAAAEAAAAAAQAABQAAAAABAAACAAAAAAEAAAAA\n",
       "AAAAAQAAAQAAAAABAAAFAAAAAAEAAAIAAAAAAQAAAAAAAAABAAABAAAAAAEAAAUAAAAAAQAAAgAA\n",
       "AAABAAAAAAAAAAEAAAEAAAAAAQAABQAAAAABAAACAAAAAAEAAAAAAAAAAQAAAQAAAAABAAADAAAA\n",
       "AAEAAAEAAAAAAgAAAgAAAAABAAAFAAAAAAEAAAIAAAAAAQAAAAAAAAABAAABAAAAAAEAAAUAAAAA\n",
       "AQAAAgAAAAABAAAAAAAAAAEAAAEAAAAAAQAABQAAAAABAAACAAAAAAEAAAAAAAAAAQAAAQAAAAAB\n",
       "AAAEAAAAAAIAAAEAAAAAAQAABQAAAAABAAACAAAAAAEAAAAAAAAAAQAAAQAAAAABAAAFAAAAAAEA\n",
       "AAIAAAAAAQAAAAAAAAABAAABAAAAAAEAAAQAAAAAAgAAAQAAAAABAAAFAAAAAAEAAAIAAAAAAQAA\n",
       "AAAAAAABAAABAAAAAAEAAAIAAAAAAQAABQAAAAABAAACAAAAAAEAAAAAAAAAAQAAAQAAAAABAAAF\n",
       "AAAAAAEAAAIAAAAAAQAAAAAAAAABAAABAAAAAAEAAAUAAAAAAQAAAgAAAAABAAAAAAAAAAEAAAEA\n",
       "AAAAAQAABQAAAAABAAACAAAAAAEAAAAAAAAAAQAAAQAAAAABAAADAAAAAAEAAAEAAAAAAQAABQAA\n",
       "AAABAAACAAAAAAEAAAAAAAAAAQAAAQAAAAABAAAFAAAAAAEAAAIAAAAAAQAAAAAAAAABAAABAAAA\n",
       "AAEAAAUAAAAAAQAAAgAAAAABAAAAAAAAAAEAAAEAAAAAAQAABQAAAAABAAACAAAAAAEAAAAAAAAA\n",
       "AQAAAQAAAAABAAAEAAAAAAIAAAEAAAAAAQAABQAAAAABAAACAAAAAAEAAAAAAAAAAQAAAQAAAAAB\n",
       "AAADAAAAAAEAAAEAAAAAAgAAAgAAAAABAAAFAAAAAAEAAAIAAAAAAQAAAAAAAAABAAABAAAAAAEA\n",
       "AAUAAAAAAQAAAgAAAAABAAAAAAAAAAEAAAEAAAAAAQAAAgAAAAABAAAFAAAAAAEAAAIAAAAAAQAA\n",
       "AAAAAAABAAABAAAAAAEAAAUAAAAAAQAAAgAAAAABAAAAAAAAAAEAAAEAAAAAAQAABQAAAAABAAAC\n",
       "AAAAAAEAAAAAAAAAAQAAAQAAAAABAAAFAAAAAAEAAAIAAAAAAQAAAAAAAAABAAABAAAAAAEAAAIA\n",
       "AAAAAQAABAAAAAACAAABAAAAAAEAAAMAAAAAAQAAAQAAAAABAAAEAAAAAAIAAAEAAAAAAwAAAgAA\n",
       "AAABAAADAAAAAAEAAAEAAAAAAQAAAgAAAAABAAADAAAAAAEAAAEAAAAAAQAAAgAAAAABAAAFAAAA\n",
       "AAEAAAIAAAAAAQAAAAAAAAABAAABAAAAAAEAAAQAAAAAAgAAAQAAAAACAAACAAAAAAEAAAQAAAAA\n",
       "AgAAAQAAAAACAAACAAAAAAEAAAQAAAAAAgAAAQAAAAABAAAFAAAAAAEAAAIAAAAAAQAAAAAAAAAB\n",
       "AAABAAAAAAEAAAUAAAAAAQAAAgAAAAABAAAAAAAAAAEAAAEAAAAAAQAABQAAAAABAAACAAAAAAEA\n",
       "AAAAAAAAAQAAAQAAAAABAAAEAAAAAAIAAAEAAAAAAQAAAgAAAAABAAAEAAAAAAIAAAEAAAAAAQAA\n",
       "BAAAAAACAAABAAAAAAEAAAQAAAAAAgAAAQAAAAABAAADAAAAAAEAAAEAAAAAAQAAAwAAAAABAAAB\n",
       "AAAAAAIAAAIAAAAAAQAABAAAAAACAAABAAAAAAIAAAIAAAAAAQAAAwAAAAABAAABAAAAAAEAAAMA\n",
       "AAAAAQAAAQAAAAABAAADAAAAAAEAAAEAAAAAAwAAAgAAAAABAAADAAAAAAEAAAEAAAAAGwAAAgAA\n",
       "AAABAAADAAAAAAEAAAEAAAAAAQAABQAAAAABAAACAAAAAAEAAAAAAAAAAQAAAQAAAAABAAAFAAAA\n",
       "AAEAAAIAAAAAAQAAAAAAAAABAAABAAAAAAEAAAMAAAAAAQAAAQAAAAABAAAFAAAAAAEAAAIAAAAA\n",
       "AQAAAAAAAAABAAABAAAAAAEAAAUAAAAAAQAAAgAAAAABAAAAAAAAAAEAAAEAAAAAAQAAAgAAAAAB\n",
       "AAAEAAAAAAIAAAEAAAAAAQAAAwAAAAABAAABAAAAAAMAAAIAAAAAAQAABAAAAAACAAABAAAAAAEA\n",
       "AAMAAAAAAQAAAQAAAAABAAAFAAAAAAEAAAIAAAAAAQAAAAAAAAABAAABAAAAAAEAAAUAAAAAAQAA\n",
       "AgAAAAABAAAAAAAAAAEAAAEAAAAAAQAABQAAAAABAAACAAAAAAEAAAAAAAAAAQAAAQAAAAABAAAD\n",
       "AAAAAAEAAAEAAAAAAQAAAgAAAAABAAAEAAAAAAIAAAEAAAAAAQAABQAAAAABAAACAAAAAAEAAAAA\n",
       "AAAAAQAAAQAAAAABAAADAAAAAAEAAAEAAAAAAQAAAgAAAAABAAAFAAAAAAEAAAIAAAAAAQAAAAAA\n",
       "AAABAAABAAAAAAIAAAIAAAAAAQAABAAAAAACAAABAAAAAAEAAAIAAAAAAQAAAwAAAAABAAABAAAA\n",
       "AAMAAAIAAAAAAQAAAwAAAAABAAABAAAAAAEAAAMAAAAAAQAAAQAAAAABAAAEAAAAAAIAAAEAAAAA\n",
       "AQAABQAAAAABAAACAAAAAAEAAAAAAAAAAQAAAQAAAAABAAAEAAAAAAIAAAEAAAAAAgAAAgAAAAAB\n",
       "AAAEAAAAAAIAAAEAAAAAAQAAAgAAAAABAAAFAAAAAAEAAAIAAAAAAQAAAAAAAAABAAABAAAAAAEA\n",
       "AAUAAAAAAQAAAgAAAAABAAAAAAAAAAEAAAEAAAAAAQAAAwAAAAABAAABAAAAAAEAAAUAAAAAAQAA\n",
       "AgAAAAABAAAAAAAAAAEAAAEAAAAAAQAABAAAAAACAAABAAAAAAEAAAQAAAAAAgAAAQAAAAABAAAC\n",
       "AAAAAAEAAAUAAAAAAQAAAgAAAAABAAAAAAAAAAEAAAEAAAAAAQAABQAAAAABAAACAAAAAAEAAAAA\n",
       "AAAAAQAAAQAAAAABAAAEAAAAAAIAAAEAAAAAAQAABAAAAAACAAABAAAAAAEAAAUAAAAAAQAAAgAA\n",
       "AAABAAAAAAAAAAEAAAEAAAAAAQAABQAAAAABAAACAAAAAAEAAAAAAAAAAQAAAQAAAAABAAAEAAAA\n",
       "AAIAAAEAAAAAAQAAAwAAAAABAAABAAAAAAEAAAUAAAAAAQAAAgAAAAABAAAAAAAAAAEAAAEAAAAA\n",
       "AQAAAwAAAAABAAABAAAAAAEAAAUAAAAAAQAAAgAAAAABAAAAAAAAAAEAAAEAAAAAAQAABQAAAAAB\n",
       "AAACAAAAAAEAAAAAAAAAAQAAAQAAAAABAAAFAAAAAAEAAAIAAAAAAQAAAAAAAAABAAABAAAAAAEA\n",
       "AAUAAAAAAQAAAgAAAAABAAAAAAAAAAEAAAEAAAAAAQAABAAAAAACAAABAAAAAAEAAAQAAAAAAgAA\n",
       "AQAAAAABAAAFAAAAAAEAAAIAAAAAAQAAAAAAAAABAAABAAAAAAEAAAUAAAAAAQAAAgAAAAABAAAA\n",
       "AAAAAAEAAAEAAAAAAQAABAAAAAACAAABAAAAAAEAAAUAAAAAAQAAAgAAAAABAAAAAAAAAAEAAAEA\n",
       "AAAAAQAABQAAAAABAAACAAAAAAEAAAAAAAAAAQAAAQAAAAABAAAFAAAAAAEAAAIAAAAAAQAAAAAA\n",
       "AAABAAABAAAAAAEAAAUAAAAAAQAAAgAAAAABAAAAAAAAAAEAAAEAAAAAAQAABQAAAAABAAACAAAA\n",
       "AAEAAAAAAAAAAQAAAQAAAAABAAAFAAAAAAEAAAIAAAAAAQAAAAAAAAABAAABAAAAAAEAAAMAAAAA\n",
       "AQAAAQAAAAABAAADAAAAAAEAAAEAAAAAAQAABQAAAAABAAACAAAAAAEAAAAAAAAAAQAAAQAAAAAB\n",
       "AAAFAAAAAAEAAAIAAAAAAQAAAAAAAAABAAABAAAAAAEAAAUAAAAAAQAAAgAAAAABAAAAAAAAAAEA\n",
       "AAEAAAAAAQAAAwAAAAABAAABAAAAAAEAAAUAAAAAAQAAAgAAAAABAAAAAAAAAAEAAAEAAAAAAQAA\n",
       "BQAAAAABAAACAAAAAAEAAAAAAAAAAQAAAQAAAAABAAAFAAAAAAEAAAIAAAAAAQAAAAAAAAABAAAB\n",
       "AAAAAAEAAAUAAAAAAQAAAgAAAAABAAAAAAAAAAEAAAEAAAAAAQAABQAAAAABAAACAAAAAAEAAAAA\n",
       "AAAAAQAAAQAAAAABAAAFAAAAAAEAAAIAAAAAAQAAAAAAAAABAAABAAAAAAEAAAUAAAAAAQAAAgAA\n",
       "AAABAAAAAAAAAAEAAAEAAAAAAQAAAgAAAAABAAAFAAAAAAEAAAIAAAAAAQAAAAAAAAABAAABAAAA\n",
       "AAEAAAIAAAAAAQAAAwAAAAABAAABAAAAAAEAAAIAAAAAAQAABAAAAAACAAABAAAAAAEAAAIAAAAA\n",
       "AQAABAAAAAACAAABAAAAAAEAAAMAAAAAAQAAAQAAAAABAAACAAAAAAEAAAQAAAAAAgAAAQAAAAAB\n",
       "AAAFAAAAAAEAAAIAAAAAAQAAAAAAAAABAAABAAAAAAIAAAIAAAAAAQAABQAAAAABAAACAAAAAAEA\n",
       "AAAAAAAAAQAAAQAAAAABAAAFAAAAAAEAAAIAAAAAAQAAAAAAAAABAAABAAAAAAEAAAUAAAAAAQAA\n",
       "AgAAAAABAAAAAAAAAAEAAAEAAAAAAQAABQAAAAABAAACAAAAAAEAAAAAAAAAAQAAAQAAAAABAAAF\n",
       "AAAAAAEAAAIAAAAAAQAAAAAAAAABAAABAAAAAAEAAAUAAAAAAQAAAgAAAAABAAAAAAAAAAEAAAEA\n",
       "AAAAAQAAAwAAAAABAAABAAAAAAEAAAUAAAAAAQAAAgAAAAABAAAAAAAAAAEAAAEAAAAAAQAAAwAA\n",
       "AAABAAABAAAAAAEAAAMAAAAAAQAAAQAAAAACAAACAAAAAAEAAAQAAAAAAgAAAQAAAAABAAADAAAA\n",
       "AAEAAAEAAAAAAQAAAgAAAAABAAAFAAAAAAEAAAIAAAAAAQAAAAAAAAABAAABAAAAAAIAAAIAAAAA\n",
       "AQAAAwAAAAABAAABAAAAAAEAAAMAAAAAAQAAAQAAAAABAAAEAAAAAAIAAAEAAAAAHHN0c2MAAAAA\n",
       "AAAAAQAAAAEAAALQAAAAAQAAC1RzdHN6AAAAAAAAAAAAAALQAAAOCgAAAlIAAACNAAAA+wAAAQAA\n",
       "AAExAAABGQAAAOcAAAEhAAAA/gAAAPYAAAF2AAAAdwAAAOkAAAF0AAAAgwAAARQAAAEBAAABVAAA\n",
       "AHsAAAEsAAABGwAAAPQAAAEIAAAA+QAAAPkAAAHeAAAAlQAAAF0AAAAyAAABhQAAAHsAAABGAAAA\n",
       "NAAAAMwAAAFAAAAAUgAAACwAAAAhAAABMQAAAFAAAAAsAAAAMAAAANEAAAAzAAAA/gAAAD8AAAAk\n",
       "AAAAJQAAAQ8AAAAxAAAAMQAAAH8AAACVAAAAywAAAQAAAAA9AAAAJQAAACcAAAE1AAAARQAAAC0A\n",
       "AAAkAAABDwAAAEgAAAAvAAAALwAAAO0AAABFAAAAMAAAAQ0AAABSAAAANQAAAD0AAAD6AAAAOgAA\n",
       "AKcAAAD6AAAAYAAAADYAAAArAAABEgAAAFgAAAA3AAAANQAAAMcAAAEoAAAAfgAAAEIAAAA3AAAA\n",
       "xgAAALoAAADfAAAAXAAAAEgAAADYAAAAuQAAAOIAAAEWAAAASwAAAN0AAADBAAABOgAAAFAAAAAy\n",
       "AAABEwAAAEEAAAA7AAAA9wAAADIAAAEGAAAAPwAAADoAAAElAAAAOAAAADQAAACKAAAAvgAAAKEA\n",
       "AAC7AAAAPAAAAB8AAAEVAAAARQAAACcAAAAyAAAA/AAAADcAAAAzAAABJAAAADkAAAAjAAAALgAA\n",
       "ARcAAABOAAAAJwAAACYAAAEjAAAAUwAAADIAAAAnAAABMAAAAFUAAAAtAAAAMgAAASYAAABWAAAA\n",
       "NgAAADAAAAEFAAAASwAAADEAAAE0AAAAWgAAADcAAAA+AAABJwAAAFkAAAA3AAAAOgAAAR0AAABU\n",
       "AAAANgAAADkAAAEDAAAASgAAADIAAAA4AAABVwAAAF0AAABIAAAAOgAAANYAAABAAAAAmgAAALoA\n",
       "AAFGAAAAXwAAAEcAAAAvAAABIQAAAEoAAAAzAAAAOAAAAT8AAABHAAAALAAAACwAAAEBAAAAPAAA\n",
       "ACgAAAEPAAAAPwAAADkAAAAwAAABJwAAAEsAAAA2AAAAJgAAAPUAAABIAAAANgAAARgAAABEAAAA\n",
       "KQAAAC0AAADQAAABMQAAAFEAAAAtAAAAMAAAAUYAAABJAAAAKwAAADQAAAETAAAAUQAAACwAAAA9\n",
       "AAABAwAAAE8AAAAmAAAAKAAAAOEAAAAwAAABMwAAAEcAAAAqAAAAIAAAAPoAAAA+AAAAJAAAACQA\n",
       "AAEVAAAAPgAAACEAAAAnAAAA0gAAAEQAAAAhAAAAIgAAALUAAAAvAAAAIgAAANkAAAA6AAAAIwAA\n",
       "ABwAAADSAAAAIwAADW0AAAFJAAABBgAAAEsAAAAxAAAANAAAAN8AAABfAAAAMwAAADcAAAC1AAAA\n",
       "4QAAAF4AAAA9AAAANgAAALcAAABUAAAANgAAAC0AAADVAAAAQwAAADAAAAAfAAAA8gAAAE8AAAAt\n",
       "AAAALAAAAIsAAAC1AAAAMQAAACoAAAC0AAAAGgAAAM4AAAAuAAAAGgAAAH4AAAB/AAAAjwAAAJEA\n",
       "AAAYAAAAbAAAAJkAAAAbAAAAbwAAALwAAAAwAAAAGgAAABoAAACsAAAAIAAAABsAAABmAAAAbgAA\n",
       "AKUAAAArAAAALwAAAGUAAAB8AAAAmAAAAC8AAAAfAAAAugAAADMAAAAfAAAAIAAAAOcAAAA6AAAA\n",
       "KgAAACAAAADUAAAASgAAAB4AAAAuAAAAzwAAADMAAAAtAAAAdwAAAMkAAAA2AAAALAAAAM0AAAA0\n",
       "AAAAKwAAALIAAAA7AAAALAAAALkAAAAuAAAAmgAAAC4AAAB6AAAAeAAAAPIAAAA9AAAAPAAAAKEA\n",
       "AAB8AAAAzgAAADQAAADdAAAAPAAAAOkAAABNAAAAtgAAALkAAACtAAAA+QAAAE8AAADVAAAA8QAA\n",
       "ALQAAADOAAAA5gAAAOwAAADlAAAA5AAAAOIAAADyAAAAyAAAANsAAADMAAAAzQAAANQAAADsAAAA\n",
       "7wAAAPcAAADtAAAA8QAAAPUAAADxAAAA3QAAAMcAAADjAAAA5wAAAN4AAAEpAAAAOwAAAV0AAABi\n",
       "AAAANQAAADAAAAFBAAAAYAAAAC8AAAA3AAAA3wAAACUAAAEtAAAAVgAAADEAAAAlAAABGQAAAFAA\n",
       "AAAoAAAANAAAAIoAAADjAAAAOAAAAC0AAADQAAAANgAAALYAAAChAAAAxAAAAM0AAAA7AAAAMAAA\n",
       "ANoAAAAxAAABEAAAAFYAAAAqAAAAKAAAAREAAABQAAAANwAAACkAAAEGAAAAXgAAACsAAAA6AAAA\n",
       "+wAAADYAAADRAAAA1gAAAFcAAAA6AAABEAAAAGMAAAAwAAAANgAAAMYAAAA2AAAAuQAAAQ4AAAB9\n",
       "AAAARAAAAD8AAADSAAAA2AAAAQwAAABNAAAARQAAAOEAAAD6AAAAPQAAAMcAAADDAAAA7wAAARwA\n",
       "AAA7AAABBwAAACwAAAEpAAAARQAAAC8AAAErAAAAYAAAADwAAAAzAAABFQAAAD8AAAApAAAAtwAA\n",
       "AKcAAAC2AAAAOwAAACYAAACpAAAA/QAAAEUAAAAlAAAAKAAAATcAAABHAAAANwAAACYAAADsAAAA\n",
       "MwAAAQoAAAA7AAAAMAAAACgAAAEZAAAAQAAAADYAAAB+AAAANAAAADIAAA4DAAABwwAAAHsAAABY\n",
       "AAAATwAAAQsAAABzAAAATgAAAEgAAAEeAAAAZQAAAEIAAAEHAAAAaAAAAE4AAAFEAAAAbgAAAFAA\n",
       "AABLAAABQwAAAGgAAABRAAAAUAAAAQcAAABbAAAARgAAAN8AAABIAAABSQAAAGsAAABZAAAAUgAA\n",
       "AOEAAABOAAABKAAAAG8AAABJAAAATgAAAS8AAABgAAAATAAAAE8AAAFbAAAAagAAAEoAAABIAAAB\n",
       "VAAAAFEAAABRAAAAPAAAASUAAABDAAAAQQAAARYAAABPAAAALwAAAO8AAABPAAAALgAAACcAAAFF\n",
       "AAAASAAAADIAAAA7AAABGwAAAD8AAAAxAAABOwAAAFQAAAA5AAAAKwAAASsAAABKAAAAMwAAADUA\n",
       "AAEGAAAAUQAAADIAAAAuAAABDwAAAFUAAAAlAAAAKAAAASAAAABNAAAANQAAACwAAADmAAAAPAAA\n",
       "ACwAAAAvAAAA1gAAACcAAADXAAAAHgAAAREAAAA4AAAAIgAAACEAAADlAAAASQAAACoAAAAiAAAA\n",
       "3AAAADYAAAAeAAAAGQAAANkAAAAiAAAA0QAAAEEAAAAkAAAAJQAAAUQAAABGAAAAJAAAAB4AAAES\n",
       "AAAAQwAAAC4AAAA1AAAA5wAAAGEAAAAzAAAAMwAAAOIAAABTAAAAOQAAADQAAADdAAAAQgAAADUA\n",
       "AAAfAAAA6QAAAFQAAAA9AAAAJgAAAKQAAAD2AAAAPAAAACgAAAAjAAAAbAAAALYAAAAbAAAAdQAA\n",
       "ANwAAAApAAAAJwAAAH4AAACqAAAAJQAAABsAAAB8AAAAGgAAAIEAAACbAAAAHwAAABoAAACwAAAA\n",
       "JQAAACAAAAAbAAAAYgAAAHsAAADGAAAALQAAAB8AAAArAAAApgAAACgAAAAhAAAAIAAAAMYAAAAx\n",
       "AAAAJQAAAB8AAADTAAAAQQAAACcAAAAaAAAA6gAAAEEAAAApAAAAKgAAAOEAAABCAAAAHQAAACQA\n",
       "AAC3AAAALgAAAQwAAAA/AAAAJQAAACoAAACUAAAAKQAAAJ0AAAAkAAAAeQAAAIMAAAC2AAAANwAA\n",
       "AC8AAACoAAAAMwAAAIoAAAEbAAAAYQAAADYAAABEAAAAkAAAAKUAAADcAAAATgAAAM0AAABLAAAA\n",
       "6wAAAGQAAABTAAAAFHN0Y28AAAAAAAAAAQAAADAAAABidWR0YQAAAFptZXRhAAAAAAAAACFoZGxy\n",
       "AAAAAAAAAABtZGlyYXBwbAAAAAAAAAAAAAAAAC1pbHN0AAAAJal0b28AAAAdZGF0YQAAAAEAAAAA\n",
       "TGF2ZjU4Ljc2LjEwMA==\n",
       "\">\n",
       "  Your browser does not support the video tag.\n",
       "</video>"
      ],
      "text/plain": [
       "<IPython.core.display.HTML object>"
      ]
     },
     "execution_count": 65,
     "metadata": {},
     "output_type": "execute_result"
    }
   ],
   "source": [
    "HTML(anim.to_html5_video())"
   ]
  },
  {
   "cell_type": "markdown",
   "metadata": {
    "slideshow": {
     "slide_type": "fragment"
    }
   },
   "source": [
    "**Observação:**\n",
    "$$\\theta_3 = tan^{-1} \\left( \\dfrac{B_y - A_y}{B_x - A_x} \\right) $$\n",
    "$$\\theta_4 = tan^{-1} \\left( \\dfrac{B_y}{B_x - d} \\right)$$"
   ]
  },
  {
   "cell_type": "markdown",
   "metadata": {
    "slideshow": {
     "slide_type": "subslide"
    }
   },
   "source": [
    "### Representação do laço de vetores nos mecanismos\n",
    "Essa aproximação tem algumas vantagens na síntese analítica de mecanismos. Também possui vantagens na análise de velocidades e acelerações dos mecanismos. <br>\n",
    "Esse laço termina em si mesmo fazendo com que a somatória dos vetores ao seu redor seja zero. Os comprimentos dos vetores são os comprimentos dos elos, todos conhecidos. A posição atual do mecanismo é definida pelo ângulo de entrada $\\theta_2$ por ser um mecanismo com 1 GDL. Queremos obter os ângulos desconehcidos $\\theta_3$ e $\\theta_4$."
   ]
  },
  {
   "cell_type": "code",
   "execution_count": 66,
   "metadata": {
    "slideshow": {
     "slide_type": "fragment"
    }
   },
   "outputs": [
    {
     "data": {
      "image/svg+xml": [
       "<svg xmlns:dc=\"http://purl.org/dc/elements/1.1/\" xmlns:cc=\"http://creativecommons.org/ns#\" xmlns:rdf=\"http://www.w3.org/1999/02/22-rdf-syntax-ns#\" xmlns:svg=\"http://www.w3.org/2000/svg\" xmlns=\"http://www.w3.org/2000/svg\" xmlns:sodipodi=\"http://sodipodi.sourceforge.net/DTD/sodipodi-0.dtd\" xmlns:inkscape=\"http://www.inkscape.org/namespaces/inkscape\" width=\"214.58945mm\" height=\"110.67824mm\" viewBox=\"0 0 214.58945 110.67824\" version=\"1.1\" id=\"svg8\" inkscape:version=\"1.0.1 (3bc2e813f5, 2020-09-07)\" sodipodi:docname=\"figs4-6.svg\">\n",
       "  <defs id=\"defs2\">\n",
       "    <marker style=\"overflow:visible;\" id=\"Arrow1Lend\" refX=\"0.0\" refY=\"0.0\" orient=\"auto\" inkscape:stockid=\"Arrow1Lend\" inkscape:isstock=\"true\">\n",
       "      <path transform=\"scale(0.8) rotate(180) translate(12.5,0)\" style=\"fill-rule:evenodd;stroke:#000000;stroke-width:1pt;stroke-opacity:1;fill:#000000;fill-opacity:1\" d=\"M 0.0,0.0 L 5.0,-5.0 L -12.5,0.0 L 5.0,5.0 L 0.0,0.0 z \" id=\"path1047\"/>\n",
       "    </marker>\n",
       "    <marker style=\"overflow:visible;\" id=\"marker6515\" refX=\"0.0\" refY=\"0.0\" orient=\"auto\" inkscape:stockid=\"Arrow1Lend\" inkscape:isstock=\"true\">\n",
       "      <path transform=\"scale(0.8) rotate(180) translate(12.5,0)\" style=\"fill-rule:evenodd;stroke:#000000;stroke-width:1pt;stroke-opacity:1;fill:#000000;fill-opacity:1\" d=\"M 0.0,0.0 L 5.0,-5.0 L -12.5,0.0 L 5.0,5.0 L 0.0,0.0 z \" id=\"path939\"/>\n",
       "    </marker>\n",
       "    <marker style=\"overflow:visible\" id=\"marker5158\" refX=\"0\" refY=\"0\" orient=\"auto\" inkscape:stockid=\"Arrow1Lend\" inkscape:isstock=\"true\">\n",
       "      <path transform=\"matrix(-0.8,0,0,-0.8,-10,0)\" style=\"fill:#ff0000;fill-opacity:1;fill-rule:evenodd;stroke:#ff0000;stroke-width:1pt;stroke-opacity:1\" d=\"M 0,0 5,-5 -12.5,0 5,5 Z\" id=\"path5156\"/>\n",
       "    </marker>\n",
       "    <marker style=\"overflow:visible\" id=\"marker1962\" refX=\"0\" refY=\"0\" orient=\"auto\" inkscape:stockid=\"Arrow1Lend\" inkscape:isstock=\"true\" inkscape:collect=\"always\">\n",
       "      <path transform=\"matrix(-0.8,0,0,-0.8,-10,0)\" style=\"fill:#ff0000;fill-opacity:1;fill-rule:evenodd;stroke:#ff0000;stroke-width:1pt;stroke-opacity:1\" d=\"M 0,0 5,-5 -12.5,0 5,5 Z\" id=\"path1960\"/>\n",
       "    </marker>\n",
       "    <marker style=\"overflow:visible\" id=\"marker1824\" refX=\"0\" refY=\"0\" orient=\"auto\" inkscape:stockid=\"Arrow1Lend\" inkscape:isstock=\"true\" inkscape:collect=\"always\">\n",
       "      <path transform=\"matrix(-0.8,0,0,-0.8,-10,0)\" style=\"fill:#ff0000;fill-opacity:1;fill-rule:evenodd;stroke:#ff0000;stroke-width:1pt;stroke-opacity:1\" d=\"M 0,0 5,-5 -12.5,0 5,5 Z\" id=\"path1822\"/>\n",
       "    </marker>\n",
       "    <marker style=\"overflow:visible\" id=\"marker1764\" refX=\"0\" refY=\"0\" orient=\"auto\" inkscape:stockid=\"Arrow1Lend\" inkscape:isstock=\"true\" inkscape:collect=\"always\">\n",
       "      <path transform=\"matrix(-0.8,0,0,-0.8,-10,0)\" style=\"fill:#ff0000;fill-opacity:1;fill-rule:evenodd;stroke:#ff0000;stroke-width:1pt;stroke-opacity:1\" d=\"M 0,0 5,-5 -12.5,0 5,5 Z\" id=\"path1762\"/>\n",
       "    </marker>\n",
       "    <marker style=\"overflow:visible\" id=\"marker1421\" refX=\"0\" refY=\"0\" orient=\"auto\" inkscape:stockid=\"Arrow1Lend\" inkscape:isstock=\"true\" inkscape:collect=\"always\">\n",
       "      <path transform=\"matrix(-0.8,0,0,-0.8,-10,0)\" style=\"fill:#000000;fill-opacity:1;fill-rule:evenodd;stroke:#000000;stroke-width:1pt;stroke-opacity:1\" d=\"M 0,0 5,-5 -12.5,0 5,5 Z\" id=\"path1419\"/>\n",
       "    </marker>\n",
       "    <marker style=\"overflow:visible\" id=\"marker1375\" refX=\"0\" refY=\"0\" orient=\"auto\" inkscape:stockid=\"Arrow1Lend\" inkscape:isstock=\"true\" inkscape:collect=\"always\">\n",
       "      <path transform=\"matrix(-0.8,0,0,-0.8,-10,0)\" style=\"fill:#000000;fill-opacity:1;fill-rule:evenodd;stroke:#000000;stroke-width:1pt;stroke-opacity:1\" d=\"M 0,0 5,-5 -12.5,0 5,5 Z\" id=\"path1373\"/>\n",
       "    </marker>\n",
       "    <marker style=\"overflow:visible\" id=\"marker1315\" refX=\"0\" refY=\"0\" orient=\"auto\" inkscape:stockid=\"Arrow1Lend\" inkscape:isstock=\"true\" inkscape:collect=\"always\">\n",
       "      <path transform=\"matrix(-0.8,0,0,-0.8,-10,0)\" style=\"fill:#000000;fill-opacity:1;fill-rule:evenodd;stroke:#000000;stroke-width:1pt;stroke-opacity:1\" d=\"M 0,0 5,-5 -12.5,0 5,5 Z\" id=\"path1313\"/>\n",
       "    </marker>\n",
       "    <marker style=\"overflow:visible\" id=\"Arrow1Lstart\" refX=\"0\" refY=\"0\" orient=\"auto\" inkscape:stockid=\"Arrow1Lstart\" inkscape:isstock=\"true\">\n",
       "      <path transform=\"matrix(0.8,0,0,0.8,10,0)\" style=\"fill:#ff0000;fill-opacity:1;fill-rule:evenodd;stroke:#ff0000;stroke-width:1pt;stroke-opacity:1\" d=\"M 0,0 5,-5 -12.5,0 5,5 Z\" id=\"path987\"/>\n",
       "    </marker>\n",
       "  </defs>\n",
       "  <sodipodi:namedview id=\"base\" pagecolor=\"#ffffff\" bordercolor=\"#666666\" borderopacity=\"1.0\" inkscape:pageopacity=\"0.0\" inkscape:pageshadow=\"2\" inkscape:zoom=\"1.4\" inkscape:cx=\"501.50539\" inkscape:cy=\"247.12536\" inkscape:document-units=\"mm\" inkscape:current-layer=\"layer7\" inkscape:document-rotation=\"0\" showgrid=\"false\" inkscape:snap-object-midpoints=\"false\" inkscape:snap-smooth-nodes=\"true\" inkscape:window-width=\"1920\" inkscape:window-height=\"1017\" inkscape:window-x=\"-8\" inkscape:window-y=\"-8\" inkscape:window-maximized=\"1\" inkscape:snap-nodes=\"false\"/>\n",
       "  <metadata id=\"metadata5\">\n",
       "    <rdf:RDF>\n",
       "      <cc:Work rdf:about=\"\">\n",
       "        <dc:format>image/svg+xml</dc:format>\n",
       "        <dc:type rdf:resource=\"http://purl.org/dc/dcmitype/StillImage\"/>\n",
       "        <dc:title/>\n",
       "      </cc:Work>\n",
       "    </rdf:RDF>\n",
       "  </metadata>\n",
       "  <g inkscape:groupmode=\"layer\" id=\"layer7\" inkscape:label=\"Layer 2\">\n",
       "    <rect style=\"fill:#ffffff;stroke:#ffffff;stroke-width:0.865\" id=\"rect5268\" width=\"215.44643\" height=\"110.936\" x=\"-0.1889881\" y=\"0.1889881\"/>\n",
       "  </g>\n",
       "  <g inkscape:label=\"Layer 1\" inkscape:groupmode=\"layer\" id=\"layer1\" transform=\"translate(-14.696059,-50.039333)\">\n",
       "    <path id=\"path839\" style=\"fill:#ffffff;stroke:#000000;stroke-width:0.699999;stroke-linejoin:bevel;stroke-miterlimit:4;stroke-dasharray:none\" d=\"m 40.314083,127.77587 a 7.5049962,7.4894698 0 0 0 -7.490705,7.48947 7.5049962,7.4894698 0 0 0 0,0.0143 v 13.0923 h 15.009993 v -13.10657 a 7.5049962,7.4894698 0 0 0 -7.504997,-7.48947 7.5049962,7.4894698 0 0 0 -0.0143,0 z\"/>\n",
       "    <path style=\"fill:none;stroke:#000000;stroke-width:0.7;stroke-linecap:butt;stroke-linejoin:miter;stroke-miterlimit:4;stroke-dasharray:none;stroke-opacity:1\" d=\"M 14.999011,148.37191 H 69.410235\" id=\"path850\"/>\n",
       "    <path style=\"fill:none;stroke:#000000;stroke-width:0.7;stroke-linecap:butt;stroke-linejoin:miter;stroke-miterlimit:4;stroke-dasharray:none;stroke-opacity:1\" d=\"m 14.999011,148.37191 7.041144,12.17039\" id=\"path852\"/>\n",
       "    <path style=\"fill:none;stroke:#000000;stroke-width:0.7;stroke-linecap:butt;stroke-linejoin:miter;stroke-miterlimit:4;stroke-dasharray:none;stroke-opacity:1\" d=\"m 27.382263,148.37191 7.041144,12.17039\" id=\"path854\"/>\n",
       "    <path style=\"fill:none;stroke:#000000;stroke-width:0.7;stroke-linecap:butt;stroke-linejoin:miter;stroke-miterlimit:4;stroke-dasharray:none;stroke-opacity:1\" d=\"m 39.390265,148.37191 7.041144,12.17039\" id=\"path856\"/>\n",
       "    <path style=\"fill:none;stroke:#000000;stroke-width:0.7;stroke-linecap:butt;stroke-linejoin:miter;stroke-miterlimit:4;stroke-dasharray:none;stroke-opacity:1\" d=\"m 51.773517,148.37191 7.041144,12.17039\" id=\"path858\"/>\n",
       "    <path style=\"fill:none;stroke:#000000;stroke-width:0.7;stroke-linecap:butt;stroke-linejoin:miter;stroke-miterlimit:4;stroke-dasharray:none;stroke-opacity:1\" d=\"m 64.156769,148.37191 7.04115,12.17039\" id=\"path860\"/>\n",
       "    <ellipse style=\"fill:#ffffff;stroke:#000000;stroke-width:0.7;stroke-linejoin:bevel\" id=\"path1592\" cx=\"40.369549\" cy=\"135.1759\" rx=\"2.6233726\" ry=\"2.6179454\"/>\n",
       "    <g inkscape:label=\"Layer 1\" id=\"g967\" transform=\"matrix(0.70913352,0,0,0.70766648,139.80942,37.902228)\" style=\"stroke-width:1.41163\">\n",
       "      <path id=\"path951\" style=\"fill:#ffffff;stroke:#000000;stroke-width:3.73471;stroke-linejoin:bevel;stroke-miterlimit:4;stroke-dasharray:none\" d=\"M 219.92383,480 A 39.999999,39.999999 0 0 0 180,520 a 39.999999,39.999999 0 0 0 0,0.0762 V 590 h 80 v -70 a 39.999999,39.999999 0 0 0 -40,-40 39.999999,39.999999 0 0 0 -0.0762,0 z\" transform=\"scale(0.26458333)\"/>\n",
       "      <path style=\"fill:none;stroke:#000000;stroke-width:0.988143;stroke-linecap:butt;stroke-linejoin:miter;stroke-miterlimit:4;stroke-dasharray:none;stroke-opacity:1\" d=\"M 22.489583,156.10416 H 99.218749\" id=\"path953\"/>\n",
       "      <path style=\"fill:none;stroke:#000000;stroke-width:0.988143;stroke-linecap:butt;stroke-linejoin:miter;stroke-miterlimit:4;stroke-dasharray:none;stroke-opacity:1\" d=\"m 22.489583,156.10416 9.929222,17.19792\" id=\"path955\"/>\n",
       "      <path style=\"fill:none;stroke:#000000;stroke-width:0.988143;stroke-linecap:butt;stroke-linejoin:miter;stroke-miterlimit:4;stroke-dasharray:none;stroke-opacity:1\" d=\"m 39.952094,156.10416 9.929222,17.19792\" id=\"path957\"/>\n",
       "      <path style=\"fill:none;stroke:#000000;stroke-width:0.988143;stroke-linecap:butt;stroke-linejoin:miter;stroke-miterlimit:4;stroke-dasharray:none;stroke-opacity:1\" d=\"m 56.885438,156.10416 9.929222,17.19792\" id=\"path959\"/>\n",
       "      <path style=\"fill:none;stroke:#000000;stroke-width:0.988143;stroke-linecap:butt;stroke-linejoin:miter;stroke-miterlimit:4;stroke-dasharray:none;stroke-opacity:1\" d=\"m 74.347949,156.10416 9.929222,17.19792\" id=\"path961\"/>\n",
       "      <path style=\"fill:none;stroke:#000000;stroke-width:0.988143;stroke-linecap:butt;stroke-linejoin:miter;stroke-miterlimit:4;stroke-dasharray:none;stroke-opacity:1\" d=\"m 91.81046,156.10416 9.92923,17.19792\" id=\"path963\"/>\n",
       "      <circle style=\"fill:#ffffff;stroke:#000000;stroke-width:0.988143;stroke-linejoin:bevel\" id=\"circle965\" cx=\"58.266396\" cy=\"137.45695\" r=\"3.6994057\"/>\n",
       "    </g>\n",
       "    <ellipse style=\"fill:#ffffff;stroke:#000000;stroke-width:0.7;stroke-linejoin:bevel\" id=\"ellipse979\" cx=\"54.782269\" cy=\"101.64828\" rx=\"2.6233726\" ry=\"2.6179454\"/>\n",
       "    <ellipse style=\"fill:#ffffff;stroke:#000000;stroke-width:0.7;stroke-linejoin:bevel\" id=\"ellipse981\" cx=\"158.56105\" cy=\"77.746864\" rx=\"2.6233726\" ry=\"2.6179454\"/>\n",
       "    <path style=\"fill:none;stroke:#000000;stroke-width:0.264583px;stroke-linecap:butt;stroke-linejoin:miter;stroke-opacity:1;marker-end:url(#marker1315)\" d=\"M 40.369548,135.1759 V 51.078577\" id=\"path983\"/>\n",
       "    <path style=\"fill:none;stroke:#000000;stroke-width:0.265;stroke-linecap:butt;stroke-linejoin:miter;stroke-opacity:1;marker-end:url(#marker6515);stroke-miterlimit:4;stroke-dasharray:none\" d=\"M 40.369548,135.1759 H 228.62076\" id=\"path985\"/>\n",
       "    <text xml:space=\"preserve\" style=\"font-size:7.7611px;line-height:1.25;font-family:sans-serif;-inkscape-font-specification:sans-serif;stroke-width:0.264583\" x=\"35.393242\" y=\"144.05951\" id=\"text1349\"><tspan sodipodi:role=\"line\" id=\"tspan1347\" x=\"35.393242\" y=\"144.05951\" style=\"stroke-width:0.264583\">O<tspan style=\"font-size:65%;baseline-shift:sub\" id=\"tspan1357\">2</tspan></tspan></text>\n",
       "    <text xml:space=\"preserve\" style=\"font-size:7.7611px;line-height:1.25;font-family:sans-serif;-inkscape-font-specification:sans-serif;stroke-width:0.264583\" x=\"176.83255\" y=\"144.19574\" id=\"text1353\"><tspan sodipodi:role=\"line\" id=\"tspan1351\" x=\"176.83255\" y=\"144.19574\" style=\"stroke-width:0.264583\">O<tspan style=\"font-size:65%;baseline-shift:sub\" id=\"tspan1355\">4</tspan></tspan></text>\n",
       "    <path style=\"fill:none;stroke:#000000;stroke-width:0.264583;stroke-linecap:butt;stroke-linejoin:miter;stroke-miterlimit:4;stroke-dasharray:2.11666, 2.11666;stroke-dashoffset:0;stroke-opacity:1\" d=\"M 54.782267,101.64828 H 122.30559\" id=\"path1361\"/>\n",
       "    <path style=\"fill:none;stroke:#000000;stroke-width:0.264583px;stroke-linecap:butt;stroke-linejoin:miter;stroke-opacity:1;marker-end:url(#marker1375)\" d=\"m 92.906508,101.20302 c 1.255311,-2.244931 1.505398,-4.887335 -0.423056,-8.391146\" id=\"path1363\" sodipodi:nodetypes=\"cc\"/>\n",
       "    <path style=\"fill:none;stroke:#000000;stroke-width:0.264583px;stroke-linecap:butt;stroke-linejoin:miter;stroke-opacity:1;marker-end:url(#marker1421)\" d=\"m 204.02271,135.34302 c -4.19232,-18.1698 -15.68896,-26.44711 -33.03527,-26.802\" id=\"path1365\" sodipodi:nodetypes=\"cc\"/>\n",
       "    <text xml:space=\"preserve\" style=\"font-size:7.7611px;line-height:1.25;font-family:sans-serif;-inkscape-font-specification:sans-serif;stroke-width:0.264583\" x=\"49.927883\" y=\"95.975571\" id=\"text1491\"><tspan sodipodi:role=\"line\" id=\"tspan1489\" x=\"49.927883\" y=\"95.975571\" style=\"stroke-width:0.264583\">A</tspan></text>\n",
       "    <text xml:space=\"preserve\" style=\"font-size:7.7611px;line-height:1.25;font-family:sans-serif;-inkscape-font-specification:sans-serif;stroke-width:0.264583\" x=\"161.36201\" y=\"74.261124\" id=\"text1495\"><tspan sodipodi:role=\"line\" id=\"tspan1493\" x=\"161.36201\" y=\"74.261124\" style=\"stroke-width:0.264583\">B</tspan></text>\n",
       "    <path style=\"fill:none;stroke:#000000;stroke-width:0.265;stroke-linecap:butt;stroke-linejoin:miter;stroke-opacity:1;stroke-miterlimit:4;stroke-dasharray:none;marker-end:url(#Arrow1Lend)\" d=\"m 56.204278,135.14129 c 2.077105,-8.53864 -2.44765,-13.86104 -8.415155,-18.48058\" id=\"path1497\" sodipodi:nodetypes=\"cc\"/>\n",
       "    <g id=\"g1505\" style=\"stroke-width:0.5;stroke-miterlimit:4;stroke-dasharray:none\" transform=\"translate(-8.206898,52.364352)\">\n",
       "      <ellipse style=\"fill:#ffffff;stroke:#000000;stroke-width:0.5;stroke-linejoin:bevel;stroke-miterlimit:4;stroke-dasharray:none;stroke-dashoffset:0\" id=\"path1499\" cx=\"68.891159\" cy=\"69.23098\" rx=\"2.5376184\" ry=\"3.6255431\"/>\n",
       "      <path style=\"fill:none;stroke:#000000;stroke-width:0.5;stroke-linecap:butt;stroke-linejoin:miter;stroke-miterlimit:4;stroke-dasharray:none;stroke-opacity:1\" d=\"m 66.353541,69.23098 h 5.075235\" id=\"path1501\"/>\n",
       "    </g>\n",
       "    <g id=\"g1511\" style=\"stroke-width:0.5;stroke-miterlimit:4;stroke-dasharray:none\" transform=\"translate(130.65558,45.023542)\">\n",
       "      <ellipse style=\"fill:#ffffff;stroke:#000000;stroke-width:0.5;stroke-linejoin:bevel;stroke-miterlimit:4;stroke-dasharray:none;stroke-dashoffset:0\" id=\"ellipse1507\" cx=\"68.891159\" cy=\"69.23098\" rx=\"2.5376184\" ry=\"3.6255431\"/>\n",
       "      <path style=\"fill:none;stroke:#000000;stroke-width:0.5;stroke-linecap:butt;stroke-linejoin:miter;stroke-miterlimit:4;stroke-dasharray:none;stroke-opacity:1\" d=\"m 66.353541,69.23098 h 5.075235\" id=\"path1509\"/>\n",
       "    </g>\n",
       "    <g id=\"g1517\" style=\"stroke-width:0.5;stroke-miterlimit:4;stroke-dasharray:none\" transform=\"translate(31.43961,26.845584)\">\n",
       "      <ellipse style=\"fill:#ffffff;stroke:#000000;stroke-width:0.5;stroke-linejoin:bevel;stroke-miterlimit:4;stroke-dasharray:none;stroke-dashoffset:0\" id=\"ellipse1513\" cx=\"68.891159\" cy=\"69.23098\" rx=\"2.5376184\" ry=\"3.6255431\"/>\n",
       "      <path style=\"fill:none;stroke:#000000;stroke-width:0.5;stroke-linecap:butt;stroke-linejoin:miter;stroke-miterlimit:4;stroke-dasharray:none;stroke-opacity:1\" d=\"m 66.353541,69.23098 h 5.075235\" id=\"path1515\"/>\n",
       "    </g>\n",
       "    <text xml:space=\"preserve\" style=\"font-size:5.40149px;line-height:1.25;font-family:sans-serif;-inkscape-font-specification:sans-serif;stroke-width:0.264583\" x=\"63.598255\" y=\"127.6256\" id=\"text1521\"><tspan sodipodi:role=\"line\" id=\"tspan1519\" x=\"63.598255\" y=\"127.6256\" style=\"stroke-width:0.264583\">2</tspan></text>\n",
       "    <text xml:space=\"preserve\" style=\"font-size:5.40149px;line-height:1.25;font-family:sans-serif;-inkscape-font-specification:sans-serif;stroke-width:0.264583\" x=\"104.03602\" y=\"100.36676\" id=\"text1525\"><tspan sodipodi:role=\"line\" id=\"tspan1523\" x=\"104.03602\" y=\"100.36676\" style=\"stroke-width:0.264583\">3</tspan></text>\n",
       "    <text xml:space=\"preserve\" style=\"font-size:5.40149px;line-height:1.25;font-family:sans-serif;-inkscape-font-specification:sans-serif;stroke-width:0.264583\" x=\"202.49963\" y=\"120.12696\" id=\"text1529\"><tspan sodipodi:role=\"line\" id=\"tspan1527\" x=\"202.49963\" y=\"120.12696\" style=\"stroke-width:0.264583\">4</tspan></text>\n",
       "    <text xml:space=\"preserve\" style=\"font-size:7.7611px;line-height:1.25;font-family:sans-serif;-inkscape-font-specification:sans-serif;stroke-width:0.264583\" x=\"42.530609\" y=\"115.60754\" id=\"text1533\"><tspan sodipodi:role=\"line\" id=\"tspan1531\" x=\"42.530609\" y=\"115.60754\" style=\"stroke-width:0.264583\">2</tspan></text>\n",
       "    <text xml:space=\"preserve\" style=\"font-size:7.7611px;line-height:1.25;font-family:sans-serif;-inkscape-font-specification:sans-serif;stroke-width:0.264583\" x=\"99.787262\" y=\"86.235306\" id=\"text1537\"><tspan sodipodi:role=\"line\" id=\"tspan1535\" x=\"99.787262\" y=\"86.235306\" style=\"stroke-width:0.264583\">3</tspan></text>\n",
       "    <text xml:space=\"preserve\" style=\"font-size:7.7611px;line-height:1.25;font-family:sans-serif;-inkscape-font-specification:sans-serif;stroke-width:0.264583\" x=\"167.8152\" y=\"101.70832\" id=\"text1541\"><tspan sodipodi:role=\"line\" id=\"tspan1539\" x=\"167.8152\" y=\"101.70832\" style=\"stroke-width:0.264583\">4</tspan></text>\n",
       "    <text xml:space=\"preserve\" style=\"font-size:7.7611px;line-height:1.25;font-family:sans-serif;-inkscape-font-specification:sans-serif;stroke-width:0.264583\" x=\"224.21123\" y=\"144.24466\" id=\"text1545\"><tspan sodipodi:role=\"line\" id=\"tspan1543\" x=\"224.21123\" y=\"144.24466\" style=\"stroke-width:0.264583\">X</tspan></text>\n",
       "    <text xml:space=\"preserve\" style=\"font-size:7.7611px;line-height:1.25;font-family:sans-serif;-inkscape-font-specification:sans-serif;stroke-width:0.264583\" x=\"33.694336\" y=\"55.697205\" id=\"text1549\"><tspan sodipodi:role=\"line\" id=\"tspan1547\" x=\"33.694336\" y=\"55.697205\" style=\"stroke-width:0.264583\">Y</tspan></text>\n",
       "    <path style=\"fill:#ff0000;stroke:#ff0000;stroke-width:0.5;stroke-linecap:butt;stroke-linejoin:miter;stroke-opacity:1;stroke-miterlimit:4;stroke-dasharray:none;marker-end:url(#marker1764)\" d=\"M 40.63683,132.91881 53.380076,103.88287\" id=\"path1754\"/>\n",
       "    <path style=\"fill:#ff0000;stroke:#ff0000;stroke-width:0.5;stroke-linecap:butt;stroke-linejoin:miter;stroke-opacity:1;marker-end:url(#marker1824);stroke-miterlimit:4;stroke-dasharray:none\" d=\"M 57.195315,100.63326 155.89509,78.155476\" id=\"path1814\"/>\n",
       "    <path style=\"fill:#ff0000;stroke:#ff0000;stroke-width:0.5;stroke-linecap:butt;stroke-linejoin:miter;stroke-opacity:1;stroke-miterlimit:4;stroke-dasharray:none;marker-end:url(#marker5158)\" d=\"M 42.858994,135.20136 H 178.28424\" id=\"path1880\"/>\n",
       "    <path style=\"fill:#ff0000;stroke:#ff0000;stroke-width:0.5;stroke-linecap:butt;stroke-linejoin:miter;stroke-opacity:1;marker-end:url(#marker1962);stroke-miterlimit:4;stroke-dasharray:none\" d=\"M 180.81782,132.55552 159.6012,80.490898\" id=\"path1952\"/>\n",
       "    <text xml:space=\"preserve\" style=\"font-size:7.7611px;line-height:1.25;font-family:sans-serif;-inkscape-font-specification:sans-serif;stroke-width:0.264583;fill:#ff0000;\" x=\"46.783787\" y=\"124.74735\" id=\"text2566\"><tspan sodipodi:role=\"line\" id=\"tspan2564\" x=\"46.783787\" y=\"124.74735\" style=\"stroke-width:0.264583;fill:#ff0000;\">a</tspan></text>\n",
       "    <text xml:space=\"preserve\" style=\"font-size:7.7611px;line-height:1.25;font-family:sans-serif;-inkscape-font-specification:sans-serif;stroke-width:0.264583;fill:#ff0000;\" x=\"112.3205\" y=\"94.360733\" id=\"text2570\"><tspan sodipodi:role=\"line\" id=\"tspan2568\" x=\"112.3205\" y=\"94.360733\" style=\"stroke-width:0.264583;fill:#ff0000;\">b</tspan></text>\n",
       "    <text xml:space=\"preserve\" style=\"font-size:7.7611px;line-height:1.25;font-family:sans-serif;-inkscape-font-specification:sans-serif;fill:#ff0000;stroke-width:0.264583\" x=\"100.91211\" y=\"133.42999\" id=\"text2574\"><tspan sodipodi:role=\"line\" id=\"tspan2572\" x=\"100.91211\" y=\"133.42999\" style=\"fill:#ff0000;stroke-width:0.264583\">d</tspan></text>\n",
       "    <text xml:space=\"preserve\" style=\"font-size:7.7611px;line-height:1.25;font-family:sans-serif;-inkscape-font-specification:sans-serif;fill:#ff0000;stroke-width:0.264583\" x=\"163.30191\" y=\"107.71402\" id=\"text2578\"><tspan sodipodi:role=\"line\" id=\"tspan2576\" x=\"163.30191\" y=\"107.71402\" style=\"fill:#ff0000;stroke-width:0.264583\">c</tspan></text>\n",
       "  </g>\n",
       "</svg>"
      ],
      "text/plain": [
       "<IPython.core.display.SVG object>"
      ]
     },
     "execution_count": 66,
     "metadata": {},
     "output_type": "execute_result"
    }
   ],
   "source": [
    "SVG('figs4-6.svg')"
   ]
  },
  {
   "cell_type": "markdown",
   "metadata": {
    "slideshow": {
     "slide_type": "fragment"
    }
   },
   "source": [
    "$$ \\vec{R}_{AO_2} + \\vec{R}_{BA} - \\vec{R}_{BO_4} - \\vec{R}_{O_4O_2} = 0$$"
   ]
  },
  {
   "cell_type": "markdown",
   "metadata": {
    "slideshow": {
     "slide_type": "fragment"
    }
   },
   "source": [
    "#### Vetores como números complexos"
   ]
  },
  {
   "cell_type": "code",
   "execution_count": 67,
   "metadata": {
    "scrolled": false,
    "slideshow": {
     "slide_type": "fragment"
    }
   },
   "outputs": [
    {
     "data": {
      "image/svg+xml": [
       "<svg xmlns:dc=\"http://purl.org/dc/elements/1.1/\" xmlns:cc=\"http://creativecommons.org/ns#\" xmlns:rdf=\"http://www.w3.org/1999/02/22-rdf-syntax-ns#\" xmlns:svg=\"http://www.w3.org/2000/svg\" xmlns=\"http://www.w3.org/2000/svg\" xmlns:sodipodi=\"http://sodipodi.sourceforge.net/DTD/sodipodi-0.dtd\" xmlns:inkscape=\"http://www.inkscape.org/namespaces/inkscape\" width=\"141.25171mm\" height=\"106.87957mm\" viewBox=\"0 0 141.25171 106.87957\" version=\"1.1\" id=\"svg3304\" inkscape:version=\"1.0.1 (3bc2e813f5, 2020-09-07)\" sodipodi:docname=\"figs4-7.svg\">\n",
       "  <defs id=\"defs3298\">\n",
       "    <marker style=\"overflow:visible;\" id=\"marker7554\" refX=\"0.0\" refY=\"0.0\" orient=\"auto\" inkscape:stockid=\"Arrow1Lend\" inkscape:isstock=\"true\">\n",
       "      <path transform=\"scale(0.8) rotate(180) translate(12.5,0)\" style=\"fill-rule:evenodd;stroke:#000000;stroke-width:1pt;stroke-opacity:1;fill:#000000;fill-opacity:1\" d=\"M 0.0,0.0 L 5.0,-5.0 L -12.5,0.0 L 5.0,5.0 L 0.0,0.0 z \" id=\"path939\"/>\n",
       "    </marker>\n",
       "    <marker style=\"overflow:visible\" id=\"Arrow1Mend\" refX=\"0\" refY=\"0\" orient=\"auto\" inkscape:stockid=\"Arrow1Mend\" inkscape:isstock=\"true\">\n",
       "      <path transform=\"matrix(-0.4,0,0,-0.4,-4,0)\" style=\"fill:#ff0000;fill-opacity:1;fill-rule:evenodd;stroke:#ff0000;stroke-width:1pt;stroke-opacity:1\" d=\"M 0,0 5,-5 -12.5,0 5,5 Z\" id=\"path3878\"/>\n",
       "    </marker>\n",
       "    <marker style=\"overflow:visible\" id=\"marker4607\" refX=\"0\" refY=\"0\" orient=\"auto\" inkscape:stockid=\"Arrow1Lstart\" inkscape:isstock=\"true\">\n",
       "      <path transform=\"matrix(0.8,0,0,0.8,10,0)\" style=\"fill:#000000;fill-opacity:1;fill-rule:evenodd;stroke:#000000;stroke-width:1pt;stroke-opacity:1\" d=\"M 0,0 5,-5 -12.5,0 5,5 Z\" id=\"path4605\"/>\n",
       "    </marker>\n",
       "    <marker style=\"overflow:visible\" id=\"marker4543\" refX=\"0\" refY=\"0\" orient=\"auto\" inkscape:stockid=\"Arrow1Lend\" inkscape:isstock=\"true\">\n",
       "      <path transform=\"matrix(-0.8,0,0,-0.8,-10,0)\" style=\"fill:#000000;fill-opacity:1;fill-rule:evenodd;stroke:#000000;stroke-width:1pt;stroke-opacity:1\" d=\"M 0,0 5,-5 -12.5,0 5,5 Z\" id=\"path4541\"/>\n",
       "    </marker>\n",
       "    <marker style=\"overflow:visible\" id=\"marker4473\" refX=\"0\" refY=\"0\" orient=\"auto\" inkscape:stockid=\"Arrow1Lstart\" inkscape:isstock=\"true\" inkscape:collect=\"always\">\n",
       "      <path transform=\"matrix(0.8,0,0,0.8,10,0)\" style=\"fill:#000000;fill-opacity:1;fill-rule:evenodd;stroke:#000000;stroke-width:1pt;stroke-opacity:1\" d=\"M 0,0 5,-5 -12.5,0 5,5 Z\" id=\"path4471\"/>\n",
       "    </marker>\n",
       "    <marker style=\"overflow:visible\" id=\"marker4421\" refX=\"0\" refY=\"0\" orient=\"auto\" inkscape:stockid=\"Arrow1Lend\" inkscape:isstock=\"true\" inkscape:collect=\"always\">\n",
       "      <path transform=\"matrix(-0.8,0,0,-0.8,-10,0)\" style=\"fill:#000000;fill-opacity:1;fill-rule:evenodd;stroke:#000000;stroke-width:1pt;stroke-opacity:1\" d=\"M 0,0 5,-5 -12.5,0 5,5 Z\" id=\"path4419\"/>\n",
       "    </marker>\n",
       "    <marker style=\"overflow:visible\" id=\"marker4287\" refX=\"0\" refY=\"0\" orient=\"auto\" inkscape:stockid=\"Arrow1Lend\" inkscape:isstock=\"true\" inkscape:collect=\"always\">\n",
       "      <path transform=\"matrix(-0.8,0,0,-0.8,-10,0)\" style=\"fill:#000000;fill-opacity:1;fill-rule:evenodd;stroke:#000000;stroke-width:1pt;stroke-opacity:1\" d=\"M 0,0 5,-5 -12.5,0 5,5 Z\" id=\"path4285\"/>\n",
       "    </marker>\n",
       "    <inkscape:path-effect effect=\"spiro\" id=\"path-effect4277\" is_visible=\"true\" lpeversion=\"1\"/>\n",
       "    <inkscape:path-effect effect=\"simplify\" id=\"path-effect4275\" is_visible=\"true\" lpeversion=\"1\" steps=\"1\" threshold=\"0.00243902\" smooth_angles=\"360\" helper_size=\"0\" simplify_individual_paths=\"false\" simplify_just_coalesce=\"false\"/>\n",
       "    <inkscape:path-effect effect=\"simplify\" id=\"path-effect4269\" is_visible=\"true\" lpeversion=\"1\" steps=\"1\" threshold=\"0.00243902\" smooth_angles=\"360\" helper_size=\"0\" simplify_individual_paths=\"false\" simplify_just_coalesce=\"false\"/>\n",
       "    <inkscape:path-effect effect=\"simplify\" id=\"path-effect4263\" is_visible=\"true\" lpeversion=\"1\" steps=\"1\" threshold=\"0.00243902\" smooth_angles=\"360\" helper_size=\"0\" simplify_individual_paths=\"false\" simplify_just_coalesce=\"false\"/>\n",
       "    <inkscape:path-effect effect=\"simplify\" id=\"path-effect4257\" is_visible=\"true\" lpeversion=\"1\" steps=\"1\" threshold=\"0.00243902\" smooth_angles=\"360\" helper_size=\"0\" simplify_individual_paths=\"false\" simplify_just_coalesce=\"false\"/>\n",
       "    <marker style=\"overflow:visible\" id=\"marker4193\" refX=\"0\" refY=\"0\" orient=\"auto\" inkscape:stockid=\"Arrow1Lend\" inkscape:isstock=\"true\">\n",
       "      <path transform=\"matrix(-0.8,0,0,-0.8,-10,0)\" style=\"fill:#ff0000;fill-opacity:1;fill-rule:evenodd;stroke:#ff0000;stroke-width:1pt;stroke-opacity:1\" d=\"M 0,0 5,-5 -12.5,0 5,5 Z\" id=\"path4191\"/>\n",
       "    </marker>\n",
       "    <marker style=\"overflow:visible\" id=\"Arrow1Lstart\" refX=\"0\" refY=\"0\" orient=\"auto\" inkscape:stockid=\"Arrow1Lstart\" inkscape:isstock=\"true\" inkscape:collect=\"always\">\n",
       "      <path transform=\"matrix(0.8,0,0,0.8,10,0)\" style=\"fill:#000000;fill-opacity:1;fill-rule:evenodd;stroke:#000000;stroke-width:1pt;stroke-opacity:1\" d=\"M 0,0 5,-5 -12.5,0 5,5 Z\" id=\"path3869\"/>\n",
       "    </marker>\n",
       "  </defs>\n",
       "  <sodipodi:namedview id=\"base\" pagecolor=\"#ffffff\" bordercolor=\"#666666\" borderopacity=\"1.0\" inkscape:pageopacity=\"0.0\" inkscape:pageshadow=\"2\" inkscape:zoom=\"1.4\" inkscape:cx=\"339.50313\" inkscape:cy=\"250.94624\" inkscape:document-units=\"mm\" inkscape:current-layer=\"layer8\" inkscape:document-rotation=\"0\" showgrid=\"false\" inkscape:snap-smooth-nodes=\"true\" inkscape:snap-nodes=\"false\" inkscape:window-width=\"1920\" inkscape:window-height=\"1017\" inkscape:window-x=\"-8\" inkscape:window-y=\"-8\" inkscape:window-maximized=\"1\"/>\n",
       "  <metadata id=\"metadata3301\">\n",
       "    <rdf:RDF>\n",
       "      <cc:Work rdf:about=\"\">\n",
       "        <dc:format>image/svg+xml</dc:format>\n",
       "        <dc:type rdf:resource=\"http://purl.org/dc/dcmitype/StillImage\"/>\n",
       "        <dc:title/>\n",
       "      </cc:Work>\n",
       "    </rdf:RDF>\n",
       "  </metadata>\n",
       "  <g inkscape:groupmode=\"layer\" id=\"layer8\" inkscape:label=\"Layer 2\">\n",
       "    <rect style=\"fill:#ffffff;stroke:#ffffff;stroke-width:0.865\" id=\"rect6012\" width=\"142.11905\" height=\"107.34524\" x=\"-0.1889881\" y=\"0\"/>\n",
       "  </g>\n",
       "  <g inkscape:label=\"Layer 1\" inkscape:groupmode=\"layer\" id=\"layer1\" transform=\"translate(-18.731934,-41.537494)\">\n",
       "    <path style=\"fill:none;stroke:#000000;stroke-width:0.265;stroke-linecap:butt;stroke-linejoin:miter;stroke-miterlimit:4;stroke-dasharray:none;stroke-opacity:1;marker-start:url(#Arrow1Lstart);marker-end:url(#marker7554)\" d=\"M 147.58394,127.66438 H 66.170707 V 51.592609\" id=\"path3867\"/>\n",
       "    <path style=\"fill:#ff0000;stroke:#ff0000;stroke-width:0.565;stroke-linecap:butt;stroke-linejoin:miter;stroke-miterlimit:4;stroke-dasharray:none;stroke-opacity:1;marker-end:url(#marker4193)\" d=\"M 66.170707,127.66438 126.24685,70.767726\" id=\"path4183\"/>\n",
       "    <path style=\"fill:none;stroke:#000000;stroke-width:0.264583px;stroke-linecap:butt;stroke-linejoin:miter;stroke-opacity:1;marker-end:url(#marker4287)\" d=\"m 101.52621,126.84372 c 2.0569,-2.58418 3.29351,-5.81155 3.49007,-9.10855 0.24263,-4.06987 -1.08298,-8.13841 -3.27002,-11.57928 -1.63148,-2.56682 -3.741803,-4.82818 -6.189901,-6.632927\" id=\"path4273\" inkscape:path-effect=\"#path-effect4275;#path-effect4277\" inkscape:original-d=\"m 101.52621,126.84372 c 7.35662,-9.47974 2.10667,-21.41297 -5.969851,-27.320757\"/>\n",
       "    <g id=\"g4331\" transform=\"matrix(0.95418157,0,0,0.95843783,12.919009,3.5067329)\" style=\"stroke-width:1.04569\">\n",
       "      <ellipse style=\"fill:#ffffff;stroke:#000000;stroke-width:0.590813;stroke-linejoin:bevel;stroke-miterlimit:4;stroke-dasharray:none\" id=\"path4325\" cx=\"106.67464\" cy=\"114.92054\" rx=\"4.8294683\" ry=\"6.5136099\"/>\n",
       "      <path style=\"fill:none;stroke:#000000;stroke-width:0.486245;stroke-linecap:butt;stroke-linejoin:miter;stroke-miterlimit:4;stroke-dasharray:none;stroke-opacity:1\" d=\"m 101.84517,114.92054 h 9.65894\" id=\"path4327\"/>\n",
       "    </g>\n",
       "    <path style=\"fill:none;stroke:#000000;stroke-width:0.264583;stroke-linecap:butt;stroke-linejoin:miter;stroke-miterlimit:4;stroke-dasharray:1.5875, 1.5875;stroke-dashoffset:0;stroke-opacity:1\" d=\"M 126.24685,70.767725 V 147.92005\" id=\"path4381\"/>\n",
       "    <path style=\"fill:none;stroke:#000000;stroke-width:0.264583;stroke-linecap:butt;stroke-linejoin:miter;stroke-miterlimit:4;stroke-dasharray:1.5875, 1.5875;stroke-dashoffset:0;stroke-opacity:1\" d=\"m 66.170706,127.66438 v 20.75268\" id=\"path4383\"/>\n",
       "    <path style=\"fill:none;stroke:#000000;stroke-width:0.264583px;stroke-linecap:butt;stroke-linejoin:miter;stroke-opacity:1;marker-start:url(#marker4473);marker-end:url(#marker4421)\" d=\"M 66.061375,142.42057 H 126.43752\" id=\"path4385\"/>\n",
       "    <path style=\"fill:none;stroke:#000000;stroke-width:0.264583;stroke-linecap:butt;stroke-linejoin:miter;stroke-miterlimit:4;stroke-dasharray:1.5875, 1.5875;stroke-dashoffset:0;stroke-opacity:1\" d=\"M 126.24685,70.767725 H 37.640347\" id=\"path4387\"/>\n",
       "    <path style=\"fill:none;stroke:#000000;stroke-width:0.264583;stroke-linecap:butt;stroke-linejoin:miter;stroke-miterlimit:4;stroke-dasharray:1.5875, 1.5875;stroke-dashoffset:0;stroke-opacity:1\" d=\"M 66.170706,127.66438 H 39.354429\" id=\"path4389\"/>\n",
       "    <path style=\"fill:none;stroke:#000000;stroke-width:0.264583px;stroke-linecap:butt;stroke-linejoin:miter;stroke-opacity:1;marker-start:url(#marker4607);marker-end:url(#marker4543)\" d=\"M 46.759299,70.693025 V 127.45736\" id=\"path4391\"/>\n",
       "    <text xml:space=\"preserve\" style=\"font-size:7.7611px;line-height:1.25;font-family:sans-serif;-inkscape-font-specification:sans-serif;stroke-width:0.264583\" x=\"84.680283\" y=\"140.13226\" id=\"text4395\"><tspan sodipodi:role=\"line\" id=\"tspan4393\" x=\"84.680283\" y=\"140.13226\" style=\"stroke-width:0.264583\">rcos</tspan></text>\n",
       "    <text xml:space=\"preserve\" style=\"font-size:7.7611px;line-height:1.25;font-family:sans-serif;-inkscape-font-specification:sans-serif;stroke-width:0.264583\" x=\"19.376293\" y=\"109.11389\" id=\"text4399\"><tspan sodipodi:role=\"line\" id=\"tspan4397\" x=\"19.376293\" y=\"109.11389\" style=\"stroke-width:0.264583\">irsen</tspan></text>\n",
       "    <g id=\"g4405\" transform=\"matrix(0.54512627,0,0,0.55377743,48.869783,72.975661)\" style=\"stroke-width:1.82005\">\n",
       "      <ellipse style=\"fill:#ffffff;stroke:#000000;stroke-width:1.02833;stroke-linejoin:bevel;stroke-miterlimit:4;stroke-dasharray:none\" id=\"ellipse4401\" cx=\"106.67464\" cy=\"114.92054\" rx=\"4.8294683\" ry=\"6.5136099\"/>\n",
       "      <path style=\"fill:none;stroke:#000000;stroke-width:0.846324;stroke-linecap:butt;stroke-linejoin:miter;stroke-miterlimit:4;stroke-dasharray:none;stroke-opacity:1\" d=\"m 101.84517,114.92054 h 9.65894\" id=\"path4403\"/>\n",
       "    </g>\n",
       "    <g id=\"g4411\" transform=\"matrix(0.54512627,0,0,0.55377743,-16.172147,42.473681)\" style=\"stroke-width:1.82005\">\n",
       "      <ellipse style=\"fill:#ffffff;stroke:#000000;stroke-width:1.02833;stroke-linejoin:bevel;stroke-miterlimit:4;stroke-dasharray:none\" id=\"ellipse4407\" cx=\"106.67464\" cy=\"114.92054\" rx=\"4.8294683\" ry=\"6.5136099\"/>\n",
       "      <path style=\"fill:none;stroke:#000000;stroke-width:0.846324;stroke-linecap:butt;stroke-linejoin:miter;stroke-miterlimit:4;stroke-dasharray:none;stroke-opacity:1\" d=\"m 101.84517,114.92054 h 9.65894\" id=\"path4409\"/>\n",
       "    </g>\n",
       "    <text xml:space=\"preserve\" style=\"font-size:6.62138px;line-height:1.25;font-family:sans-serif;-inkscape-font-specification:sans-serif;stroke-width:0.264583\" x=\"144.90593\" y=\"55.084572\" id=\"text4731\" transform=\"scale(0.85314929,1.1721278)\"><tspan sodipodi:role=\"line\" id=\"tspan4729\" x=\"144.90593\" y=\"55.084572\" style=\"stroke-width:0.264583\">A</tspan></text>\n",
       "    <circle style=\"fill:#ffffff;stroke:#000000;stroke-width:0.264583;stroke-linejoin:bevel;stroke-miterlimit:4;stroke-dasharray:none;stroke-dashoffset:0\" id=\"path4737\" cx=\"128.9865\" cy=\"68.24527\" r=\"3.2865286\"/>\n",
       "    <text xml:space=\"preserve\" style=\"font-size:7.7611px;line-height:1.25;font-family:sans-serif;-inkscape-font-specification:sans-serif;fill:#ff0000;stroke-width:0.264583\" x=\"-17.653612\" y=\"134.74246\" id=\"text4741\" transform=\"rotate(-49.468358)\" inkscape:transform-center-x=\"4.7809005\" inkscape:transform-center-y=\"0.56696429\"><tspan sodipodi:role=\"line\" id=\"tspan4739\" x=\"-17.653612\" y=\"134.74246\" style=\"fill:#ff0000;stroke-width:0.264583\">r</tspan></text>\n",
       "    <text xml:space=\"preserve\" style=\"font-size:7.7611px;line-height:1.25;font-family:sans-serif;-inkscape-font-specification:sans-serif;fill:#ff0000;stroke:#ff0000;stroke-width:0.264583\" x=\"113.82401\" y=\"92.309708\" id=\"text4745\"><tspan sodipodi:role=\"line\" id=\"tspan4743\" x=\"113.82401\" y=\"92.309708\" style=\"fill:#ff0000;stroke:#ff0000;stroke-width:0.264583\">R<tspan style=\"font-size:65%;baseline-shift:sub;fill:#ff0000;stroke:#ff0000\" id=\"tspan4747\">A</tspan></tspan></text>\n",
       "    <path style=\"fill:none;stroke:#ff0000;stroke-width:0.264583px;stroke-linecap:butt;stroke-linejoin:miter;stroke-opacity:1;marker-end:url(#Arrow1Mend)\" d=\"m 112.81241,85.409897 h 8.4999\" id=\"path4749\"/>\n",
       "    <text xml:space=\"preserve\" style=\"font-size:7.7611px;line-height:1.25;font-family:sans-serif;-inkscape-font-specification:sans-serif;stroke-width:0.264583\" x=\"145.98865\" y=\"137.63197\" id=\"text4839\"><tspan sodipodi:role=\"line\" id=\"tspan4837\" x=\"145.98865\" y=\"137.63197\" style=\"stroke-width:0.264583\">real</tspan></text>\n",
       "    <text xml:space=\"preserve\" style=\"font-size:7.7611px;line-height:1.25;font-family:sans-serif;-inkscape-font-specification:sans-serif;stroke-width:0.264583\" x=\"43.52121\" y=\"47.744858\" id=\"text4843\"><tspan sodipodi:role=\"line\" id=\"tspan4841\" x=\"43.52121\" y=\"47.744858\" style=\"stroke-width:0.264583\">imaginário</tspan></text>\n",
       "  </g>\n",
       "</svg>"
      ],
      "text/plain": [
       "<IPython.core.display.SVG object>"
      ]
     },
     "execution_count": 67,
     "metadata": {},
     "output_type": "execute_result"
    }
   ],
   "source": [
    "SVG('figs4-7.svg')"
   ]
  },
  {
   "cell_type": "markdown",
   "metadata": {
    "slideshow": {
     "slide_type": "fragment"
    }
   },
   "source": [
    "Podemos escrever o vetor $\\vec{R}_A$ como:\n",
    "$$\\vec{R}_A = r cos \\theta + i r sen \\theta $$ \n",
    "* O número imaginário $i$ é usado como um operador, não como um valor\n",
    "* Cada multiplicação do vetor $\\vec{R}_A$ por $i$ resulta em uma rotação anti-horária de $90^{\\circ}$\n",
    "Uma vantagem de usar a notação dos números complexos para representar vetores planos é obter a **Identidade de Euler**: \n",
    "$$ e^{\\pm i \\theta} = cos \\theta \\pm i sen \\theta $$\n",
    "Dessa forma, podemos escrever $\\vec{R}_A$ como: \n",
    "$$\\vec{R}_A = r e^{i \\theta}$$\n",
    "Observe que:\n",
    "$$\\dfrac{d e^{i \\theta}}{d \\theta} = i e^{i \\theta} $$"
   ]
  },
  {
   "cell_type": "code",
   "execution_count": 68,
   "metadata": {
    "slideshow": {
     "slide_type": "fragment"
    }
   },
   "outputs": [],
   "source": [
    "r,theta = symbols('r theta')"
   ]
  },
  {
   "cell_type": "code",
   "execution_count": 69,
   "metadata": {
    "slideshow": {
     "slide_type": "fragment"
    }
   },
   "outputs": [
    {
     "data": {
      "text/latex": [
       "$\\displaystyle r e^{i \\theta}$"
      ],
      "text/plain": [
       "r*exp(I*theta)"
      ]
     },
     "execution_count": 69,
     "metadata": {},
     "output_type": "execute_result"
    }
   ],
   "source": [
    "RA = r*E**(I*theta)\n",
    "RA"
   ]
  },
  {
   "cell_type": "markdown",
   "metadata": {
    "slideshow": {
     "slide_type": "fragment"
    }
   },
   "source": [
    "Para simplificar, poderíamos fazer a seguinte importação <br>\n",
    "```{ .py }\n",
    "from sympy import E,I\n",
    "```\n",
    "Como alternativa, podemos fazer da seguinte forma:"
   ]
  },
  {
   "cell_type": "code",
   "execution_count": 70,
   "metadata": {
    "slideshow": {
     "slide_type": "fragment"
    }
   },
   "outputs": [],
   "source": [
    "i,e = [I,E]"
   ]
  },
  {
   "cell_type": "code",
   "execution_count": 71,
   "metadata": {
    "scrolled": true,
    "slideshow": {
     "slide_type": "fragment"
    }
   },
   "outputs": [
    {
     "data": {
      "text/latex": [
       "$\\displaystyle 1$"
      ],
      "text/plain": [
       "1"
      ]
     },
     "execution_count": 71,
     "metadata": {},
     "output_type": "execute_result"
    }
   ],
   "source": [
    "log(e)"
   ]
  },
  {
   "cell_type": "code",
   "execution_count": 72,
   "metadata": {
    "slideshow": {
     "slide_type": "fragment"
    }
   },
   "outputs": [
    {
     "data": {
      "text/latex": [
       "$\\displaystyle -1$"
      ],
      "text/plain": [
       "-1"
      ]
     },
     "execution_count": 72,
     "metadata": {},
     "output_type": "execute_result"
    }
   ],
   "source": [
    "e**(i*pi)"
   ]
  },
  {
   "cell_type": "code",
   "execution_count": 73,
   "metadata": {
    "slideshow": {
     "slide_type": "fragment"
    }
   },
   "outputs": [
    {
     "data": {
      "text/latex": [
       "$\\displaystyle -1$"
      ],
      "text/plain": [
       "-1"
      ]
     },
     "execution_count": 73,
     "metadata": {},
     "output_type": "execute_result"
    }
   ],
   "source": [
    "i**2"
   ]
  },
  {
   "cell_type": "code",
   "execution_count": 74,
   "metadata": {
    "slideshow": {
     "slide_type": "fragment"
    }
   },
   "outputs": [
    {
     "data": {
      "text/latex": [
       "$\\displaystyle r e^{i \\theta}$"
      ],
      "text/plain": [
       "r*exp(I*theta)"
      ]
     },
     "execution_count": 74,
     "metadata": {},
     "output_type": "execute_result"
    }
   ],
   "source": [
    "RA = r*e**(i*theta)\n",
    "RA"
   ]
  },
  {
   "cell_type": "code",
   "execution_count": 75,
   "metadata": {
    "slideshow": {
     "slide_type": "fragment"
    }
   },
   "outputs": [
    {
     "data": {
      "text/latex": [
       "$\\displaystyle i r e^{i \\theta}$"
      ],
      "text/plain": [
       "I*r*exp(I*theta)"
      ]
     },
     "execution_count": 75,
     "metadata": {},
     "output_type": "execute_result"
    }
   ],
   "source": [
    "RA.diff(theta)"
   ]
  },
  {
   "cell_type": "markdown",
   "metadata": {
    "slideshow": {
     "slide_type": "fragment"
    }
   },
   "source": [
    "#### Equação vetorial em malha fechada nos mecanismos de quatro barras"
   ]
  },
  {
   "cell_type": "code",
   "execution_count": 76,
   "metadata": {
    "slideshow": {
     "slide_type": "fragment"
    }
   },
   "outputs": [
    {
     "data": {
      "image/svg+xml": [
       "<svg xmlns:dc=\"http://purl.org/dc/elements/1.1/\" xmlns:cc=\"http://creativecommons.org/ns#\" xmlns:rdf=\"http://www.w3.org/1999/02/22-rdf-syntax-ns#\" xmlns:svg=\"http://www.w3.org/2000/svg\" xmlns=\"http://www.w3.org/2000/svg\" xmlns:sodipodi=\"http://sodipodi.sourceforge.net/DTD/sodipodi-0.dtd\" xmlns:inkscape=\"http://www.inkscape.org/namespaces/inkscape\" width=\"214.58945mm\" height=\"110.67824mm\" viewBox=\"0 0 214.58945 110.67824\" version=\"1.1\" id=\"svg8\" inkscape:version=\"1.0.1 (3bc2e813f5, 2020-09-07)\" sodipodi:docname=\"figs4-6.svg\">\n",
       "  <defs id=\"defs2\">\n",
       "    <marker style=\"overflow:visible;\" id=\"Arrow1Lend\" refX=\"0.0\" refY=\"0.0\" orient=\"auto\" inkscape:stockid=\"Arrow1Lend\" inkscape:isstock=\"true\">\n",
       "      <path transform=\"scale(0.8) rotate(180) translate(12.5,0)\" style=\"fill-rule:evenodd;stroke:#000000;stroke-width:1pt;stroke-opacity:1;fill:#000000;fill-opacity:1\" d=\"M 0.0,0.0 L 5.0,-5.0 L -12.5,0.0 L 5.0,5.0 L 0.0,0.0 z \" id=\"path1047\"/>\n",
       "    </marker>\n",
       "    <marker style=\"overflow:visible;\" id=\"marker6515\" refX=\"0.0\" refY=\"0.0\" orient=\"auto\" inkscape:stockid=\"Arrow1Lend\" inkscape:isstock=\"true\">\n",
       "      <path transform=\"scale(0.8) rotate(180) translate(12.5,0)\" style=\"fill-rule:evenodd;stroke:#000000;stroke-width:1pt;stroke-opacity:1;fill:#000000;fill-opacity:1\" d=\"M 0.0,0.0 L 5.0,-5.0 L -12.5,0.0 L 5.0,5.0 L 0.0,0.0 z \" id=\"path939\"/>\n",
       "    </marker>\n",
       "    <marker style=\"overflow:visible\" id=\"marker5158\" refX=\"0\" refY=\"0\" orient=\"auto\" inkscape:stockid=\"Arrow1Lend\" inkscape:isstock=\"true\">\n",
       "      <path transform=\"matrix(-0.8,0,0,-0.8,-10,0)\" style=\"fill:#ff0000;fill-opacity:1;fill-rule:evenodd;stroke:#ff0000;stroke-width:1pt;stroke-opacity:1\" d=\"M 0,0 5,-5 -12.5,0 5,5 Z\" id=\"path5156\"/>\n",
       "    </marker>\n",
       "    <marker style=\"overflow:visible\" id=\"marker1962\" refX=\"0\" refY=\"0\" orient=\"auto\" inkscape:stockid=\"Arrow1Lend\" inkscape:isstock=\"true\" inkscape:collect=\"always\">\n",
       "      <path transform=\"matrix(-0.8,0,0,-0.8,-10,0)\" style=\"fill:#ff0000;fill-opacity:1;fill-rule:evenodd;stroke:#ff0000;stroke-width:1pt;stroke-opacity:1\" d=\"M 0,0 5,-5 -12.5,0 5,5 Z\" id=\"path1960\"/>\n",
       "    </marker>\n",
       "    <marker style=\"overflow:visible\" id=\"marker1824\" refX=\"0\" refY=\"0\" orient=\"auto\" inkscape:stockid=\"Arrow1Lend\" inkscape:isstock=\"true\" inkscape:collect=\"always\">\n",
       "      <path transform=\"matrix(-0.8,0,0,-0.8,-10,0)\" style=\"fill:#ff0000;fill-opacity:1;fill-rule:evenodd;stroke:#ff0000;stroke-width:1pt;stroke-opacity:1\" d=\"M 0,0 5,-5 -12.5,0 5,5 Z\" id=\"path1822\"/>\n",
       "    </marker>\n",
       "    <marker style=\"overflow:visible\" id=\"marker1764\" refX=\"0\" refY=\"0\" orient=\"auto\" inkscape:stockid=\"Arrow1Lend\" inkscape:isstock=\"true\" inkscape:collect=\"always\">\n",
       "      <path transform=\"matrix(-0.8,0,0,-0.8,-10,0)\" style=\"fill:#ff0000;fill-opacity:1;fill-rule:evenodd;stroke:#ff0000;stroke-width:1pt;stroke-opacity:1\" d=\"M 0,0 5,-5 -12.5,0 5,5 Z\" id=\"path1762\"/>\n",
       "    </marker>\n",
       "    <marker style=\"overflow:visible\" id=\"marker1421\" refX=\"0\" refY=\"0\" orient=\"auto\" inkscape:stockid=\"Arrow1Lend\" inkscape:isstock=\"true\" inkscape:collect=\"always\">\n",
       "      <path transform=\"matrix(-0.8,0,0,-0.8,-10,0)\" style=\"fill:#000000;fill-opacity:1;fill-rule:evenodd;stroke:#000000;stroke-width:1pt;stroke-opacity:1\" d=\"M 0,0 5,-5 -12.5,0 5,5 Z\" id=\"path1419\"/>\n",
       "    </marker>\n",
       "    <marker style=\"overflow:visible\" id=\"marker1375\" refX=\"0\" refY=\"0\" orient=\"auto\" inkscape:stockid=\"Arrow1Lend\" inkscape:isstock=\"true\" inkscape:collect=\"always\">\n",
       "      <path transform=\"matrix(-0.8,0,0,-0.8,-10,0)\" style=\"fill:#000000;fill-opacity:1;fill-rule:evenodd;stroke:#000000;stroke-width:1pt;stroke-opacity:1\" d=\"M 0,0 5,-5 -12.5,0 5,5 Z\" id=\"path1373\"/>\n",
       "    </marker>\n",
       "    <marker style=\"overflow:visible\" id=\"marker1315\" refX=\"0\" refY=\"0\" orient=\"auto\" inkscape:stockid=\"Arrow1Lend\" inkscape:isstock=\"true\" inkscape:collect=\"always\">\n",
       "      <path transform=\"matrix(-0.8,0,0,-0.8,-10,0)\" style=\"fill:#000000;fill-opacity:1;fill-rule:evenodd;stroke:#000000;stroke-width:1pt;stroke-opacity:1\" d=\"M 0,0 5,-5 -12.5,0 5,5 Z\" id=\"path1313\"/>\n",
       "    </marker>\n",
       "    <marker style=\"overflow:visible\" id=\"Arrow1Lstart\" refX=\"0\" refY=\"0\" orient=\"auto\" inkscape:stockid=\"Arrow1Lstart\" inkscape:isstock=\"true\">\n",
       "      <path transform=\"matrix(0.8,0,0,0.8,10,0)\" style=\"fill:#ff0000;fill-opacity:1;fill-rule:evenodd;stroke:#ff0000;stroke-width:1pt;stroke-opacity:1\" d=\"M 0,0 5,-5 -12.5,0 5,5 Z\" id=\"path987\"/>\n",
       "    </marker>\n",
       "  </defs>\n",
       "  <sodipodi:namedview id=\"base\" pagecolor=\"#ffffff\" bordercolor=\"#666666\" borderopacity=\"1.0\" inkscape:pageopacity=\"0.0\" inkscape:pageshadow=\"2\" inkscape:zoom=\"1.4\" inkscape:cx=\"501.50539\" inkscape:cy=\"247.12536\" inkscape:document-units=\"mm\" inkscape:current-layer=\"layer7\" inkscape:document-rotation=\"0\" showgrid=\"false\" inkscape:snap-object-midpoints=\"false\" inkscape:snap-smooth-nodes=\"true\" inkscape:window-width=\"1920\" inkscape:window-height=\"1017\" inkscape:window-x=\"-8\" inkscape:window-y=\"-8\" inkscape:window-maximized=\"1\" inkscape:snap-nodes=\"false\"/>\n",
       "  <metadata id=\"metadata5\">\n",
       "    <rdf:RDF>\n",
       "      <cc:Work rdf:about=\"\">\n",
       "        <dc:format>image/svg+xml</dc:format>\n",
       "        <dc:type rdf:resource=\"http://purl.org/dc/dcmitype/StillImage\"/>\n",
       "        <dc:title/>\n",
       "      </cc:Work>\n",
       "    </rdf:RDF>\n",
       "  </metadata>\n",
       "  <g inkscape:groupmode=\"layer\" id=\"layer7\" inkscape:label=\"Layer 2\">\n",
       "    <rect style=\"fill:#ffffff;stroke:#ffffff;stroke-width:0.865\" id=\"rect5268\" width=\"215.44643\" height=\"110.936\" x=\"-0.1889881\" y=\"0.1889881\"/>\n",
       "  </g>\n",
       "  <g inkscape:label=\"Layer 1\" inkscape:groupmode=\"layer\" id=\"layer1\" transform=\"translate(-14.696059,-50.039333)\">\n",
       "    <path id=\"path839\" style=\"fill:#ffffff;stroke:#000000;stroke-width:0.699999;stroke-linejoin:bevel;stroke-miterlimit:4;stroke-dasharray:none\" d=\"m 40.314083,127.77587 a 7.5049962,7.4894698 0 0 0 -7.490705,7.48947 7.5049962,7.4894698 0 0 0 0,0.0143 v 13.0923 h 15.009993 v -13.10657 a 7.5049962,7.4894698 0 0 0 -7.504997,-7.48947 7.5049962,7.4894698 0 0 0 -0.0143,0 z\"/>\n",
       "    <path style=\"fill:none;stroke:#000000;stroke-width:0.7;stroke-linecap:butt;stroke-linejoin:miter;stroke-miterlimit:4;stroke-dasharray:none;stroke-opacity:1\" d=\"M 14.999011,148.37191 H 69.410235\" id=\"path850\"/>\n",
       "    <path style=\"fill:none;stroke:#000000;stroke-width:0.7;stroke-linecap:butt;stroke-linejoin:miter;stroke-miterlimit:4;stroke-dasharray:none;stroke-opacity:1\" d=\"m 14.999011,148.37191 7.041144,12.17039\" id=\"path852\"/>\n",
       "    <path style=\"fill:none;stroke:#000000;stroke-width:0.7;stroke-linecap:butt;stroke-linejoin:miter;stroke-miterlimit:4;stroke-dasharray:none;stroke-opacity:1\" d=\"m 27.382263,148.37191 7.041144,12.17039\" id=\"path854\"/>\n",
       "    <path style=\"fill:none;stroke:#000000;stroke-width:0.7;stroke-linecap:butt;stroke-linejoin:miter;stroke-miterlimit:4;stroke-dasharray:none;stroke-opacity:1\" d=\"m 39.390265,148.37191 7.041144,12.17039\" id=\"path856\"/>\n",
       "    <path style=\"fill:none;stroke:#000000;stroke-width:0.7;stroke-linecap:butt;stroke-linejoin:miter;stroke-miterlimit:4;stroke-dasharray:none;stroke-opacity:1\" d=\"m 51.773517,148.37191 7.041144,12.17039\" id=\"path858\"/>\n",
       "    <path style=\"fill:none;stroke:#000000;stroke-width:0.7;stroke-linecap:butt;stroke-linejoin:miter;stroke-miterlimit:4;stroke-dasharray:none;stroke-opacity:1\" d=\"m 64.156769,148.37191 7.04115,12.17039\" id=\"path860\"/>\n",
       "    <ellipse style=\"fill:#ffffff;stroke:#000000;stroke-width:0.7;stroke-linejoin:bevel\" id=\"path1592\" cx=\"40.369549\" cy=\"135.1759\" rx=\"2.6233726\" ry=\"2.6179454\"/>\n",
       "    <g inkscape:label=\"Layer 1\" id=\"g967\" transform=\"matrix(0.70913352,0,0,0.70766648,139.80942,37.902228)\" style=\"stroke-width:1.41163\">\n",
       "      <path id=\"path951\" style=\"fill:#ffffff;stroke:#000000;stroke-width:3.73471;stroke-linejoin:bevel;stroke-miterlimit:4;stroke-dasharray:none\" d=\"M 219.92383,480 A 39.999999,39.999999 0 0 0 180,520 a 39.999999,39.999999 0 0 0 0,0.0762 V 590 h 80 v -70 a 39.999999,39.999999 0 0 0 -40,-40 39.999999,39.999999 0 0 0 -0.0762,0 z\" transform=\"scale(0.26458333)\"/>\n",
       "      <path style=\"fill:none;stroke:#000000;stroke-width:0.988143;stroke-linecap:butt;stroke-linejoin:miter;stroke-miterlimit:4;stroke-dasharray:none;stroke-opacity:1\" d=\"M 22.489583,156.10416 H 99.218749\" id=\"path953\"/>\n",
       "      <path style=\"fill:none;stroke:#000000;stroke-width:0.988143;stroke-linecap:butt;stroke-linejoin:miter;stroke-miterlimit:4;stroke-dasharray:none;stroke-opacity:1\" d=\"m 22.489583,156.10416 9.929222,17.19792\" id=\"path955\"/>\n",
       "      <path style=\"fill:none;stroke:#000000;stroke-width:0.988143;stroke-linecap:butt;stroke-linejoin:miter;stroke-miterlimit:4;stroke-dasharray:none;stroke-opacity:1\" d=\"m 39.952094,156.10416 9.929222,17.19792\" id=\"path957\"/>\n",
       "      <path style=\"fill:none;stroke:#000000;stroke-width:0.988143;stroke-linecap:butt;stroke-linejoin:miter;stroke-miterlimit:4;stroke-dasharray:none;stroke-opacity:1\" d=\"m 56.885438,156.10416 9.929222,17.19792\" id=\"path959\"/>\n",
       "      <path style=\"fill:none;stroke:#000000;stroke-width:0.988143;stroke-linecap:butt;stroke-linejoin:miter;stroke-miterlimit:4;stroke-dasharray:none;stroke-opacity:1\" d=\"m 74.347949,156.10416 9.929222,17.19792\" id=\"path961\"/>\n",
       "      <path style=\"fill:none;stroke:#000000;stroke-width:0.988143;stroke-linecap:butt;stroke-linejoin:miter;stroke-miterlimit:4;stroke-dasharray:none;stroke-opacity:1\" d=\"m 91.81046,156.10416 9.92923,17.19792\" id=\"path963\"/>\n",
       "      <circle style=\"fill:#ffffff;stroke:#000000;stroke-width:0.988143;stroke-linejoin:bevel\" id=\"circle965\" cx=\"58.266396\" cy=\"137.45695\" r=\"3.6994057\"/>\n",
       "    </g>\n",
       "    <ellipse style=\"fill:#ffffff;stroke:#000000;stroke-width:0.7;stroke-linejoin:bevel\" id=\"ellipse979\" cx=\"54.782269\" cy=\"101.64828\" rx=\"2.6233726\" ry=\"2.6179454\"/>\n",
       "    <ellipse style=\"fill:#ffffff;stroke:#000000;stroke-width:0.7;stroke-linejoin:bevel\" id=\"ellipse981\" cx=\"158.56105\" cy=\"77.746864\" rx=\"2.6233726\" ry=\"2.6179454\"/>\n",
       "    <path style=\"fill:none;stroke:#000000;stroke-width:0.264583px;stroke-linecap:butt;stroke-linejoin:miter;stroke-opacity:1;marker-end:url(#marker1315)\" d=\"M 40.369548,135.1759 V 51.078577\" id=\"path983\"/>\n",
       "    <path style=\"fill:none;stroke:#000000;stroke-width:0.265;stroke-linecap:butt;stroke-linejoin:miter;stroke-opacity:1;marker-end:url(#marker6515);stroke-miterlimit:4;stroke-dasharray:none\" d=\"M 40.369548,135.1759 H 228.62076\" id=\"path985\"/>\n",
       "    <text xml:space=\"preserve\" style=\"font-size:7.7611px;line-height:1.25;font-family:sans-serif;-inkscape-font-specification:sans-serif;stroke-width:0.264583\" x=\"35.393242\" y=\"144.05951\" id=\"text1349\"><tspan sodipodi:role=\"line\" id=\"tspan1347\" x=\"35.393242\" y=\"144.05951\" style=\"stroke-width:0.264583\">O<tspan style=\"font-size:65%;baseline-shift:sub\" id=\"tspan1357\">2</tspan></tspan></text>\n",
       "    <text xml:space=\"preserve\" style=\"font-size:7.7611px;line-height:1.25;font-family:sans-serif;-inkscape-font-specification:sans-serif;stroke-width:0.264583\" x=\"176.83255\" y=\"144.19574\" id=\"text1353\"><tspan sodipodi:role=\"line\" id=\"tspan1351\" x=\"176.83255\" y=\"144.19574\" style=\"stroke-width:0.264583\">O<tspan style=\"font-size:65%;baseline-shift:sub\" id=\"tspan1355\">4</tspan></tspan></text>\n",
       "    <path style=\"fill:none;stroke:#000000;stroke-width:0.264583;stroke-linecap:butt;stroke-linejoin:miter;stroke-miterlimit:4;stroke-dasharray:2.11666, 2.11666;stroke-dashoffset:0;stroke-opacity:1\" d=\"M 54.782267,101.64828 H 122.30559\" id=\"path1361\"/>\n",
       "    <path style=\"fill:none;stroke:#000000;stroke-width:0.264583px;stroke-linecap:butt;stroke-linejoin:miter;stroke-opacity:1;marker-end:url(#marker1375)\" d=\"m 92.906508,101.20302 c 1.255311,-2.244931 1.505398,-4.887335 -0.423056,-8.391146\" id=\"path1363\" sodipodi:nodetypes=\"cc\"/>\n",
       "    <path style=\"fill:none;stroke:#000000;stroke-width:0.264583px;stroke-linecap:butt;stroke-linejoin:miter;stroke-opacity:1;marker-end:url(#marker1421)\" d=\"m 204.02271,135.34302 c -4.19232,-18.1698 -15.68896,-26.44711 -33.03527,-26.802\" id=\"path1365\" sodipodi:nodetypes=\"cc\"/>\n",
       "    <text xml:space=\"preserve\" style=\"font-size:7.7611px;line-height:1.25;font-family:sans-serif;-inkscape-font-specification:sans-serif;stroke-width:0.264583\" x=\"49.927883\" y=\"95.975571\" id=\"text1491\"><tspan sodipodi:role=\"line\" id=\"tspan1489\" x=\"49.927883\" y=\"95.975571\" style=\"stroke-width:0.264583\">A</tspan></text>\n",
       "    <text xml:space=\"preserve\" style=\"font-size:7.7611px;line-height:1.25;font-family:sans-serif;-inkscape-font-specification:sans-serif;stroke-width:0.264583\" x=\"161.36201\" y=\"74.261124\" id=\"text1495\"><tspan sodipodi:role=\"line\" id=\"tspan1493\" x=\"161.36201\" y=\"74.261124\" style=\"stroke-width:0.264583\">B</tspan></text>\n",
       "    <path style=\"fill:none;stroke:#000000;stroke-width:0.265;stroke-linecap:butt;stroke-linejoin:miter;stroke-opacity:1;stroke-miterlimit:4;stroke-dasharray:none;marker-end:url(#Arrow1Lend)\" d=\"m 56.204278,135.14129 c 2.077105,-8.53864 -2.44765,-13.86104 -8.415155,-18.48058\" id=\"path1497\" sodipodi:nodetypes=\"cc\"/>\n",
       "    <g id=\"g1505\" style=\"stroke-width:0.5;stroke-miterlimit:4;stroke-dasharray:none\" transform=\"translate(-8.206898,52.364352)\">\n",
       "      <ellipse style=\"fill:#ffffff;stroke:#000000;stroke-width:0.5;stroke-linejoin:bevel;stroke-miterlimit:4;stroke-dasharray:none;stroke-dashoffset:0\" id=\"path1499\" cx=\"68.891159\" cy=\"69.23098\" rx=\"2.5376184\" ry=\"3.6255431\"/>\n",
       "      <path style=\"fill:none;stroke:#000000;stroke-width:0.5;stroke-linecap:butt;stroke-linejoin:miter;stroke-miterlimit:4;stroke-dasharray:none;stroke-opacity:1\" d=\"m 66.353541,69.23098 h 5.075235\" id=\"path1501\"/>\n",
       "    </g>\n",
       "    <g id=\"g1511\" style=\"stroke-width:0.5;stroke-miterlimit:4;stroke-dasharray:none\" transform=\"translate(130.65558,45.023542)\">\n",
       "      <ellipse style=\"fill:#ffffff;stroke:#000000;stroke-width:0.5;stroke-linejoin:bevel;stroke-miterlimit:4;stroke-dasharray:none;stroke-dashoffset:0\" id=\"ellipse1507\" cx=\"68.891159\" cy=\"69.23098\" rx=\"2.5376184\" ry=\"3.6255431\"/>\n",
       "      <path style=\"fill:none;stroke:#000000;stroke-width:0.5;stroke-linecap:butt;stroke-linejoin:miter;stroke-miterlimit:4;stroke-dasharray:none;stroke-opacity:1\" d=\"m 66.353541,69.23098 h 5.075235\" id=\"path1509\"/>\n",
       "    </g>\n",
       "    <g id=\"g1517\" style=\"stroke-width:0.5;stroke-miterlimit:4;stroke-dasharray:none\" transform=\"translate(31.43961,26.845584)\">\n",
       "      <ellipse style=\"fill:#ffffff;stroke:#000000;stroke-width:0.5;stroke-linejoin:bevel;stroke-miterlimit:4;stroke-dasharray:none;stroke-dashoffset:0\" id=\"ellipse1513\" cx=\"68.891159\" cy=\"69.23098\" rx=\"2.5376184\" ry=\"3.6255431\"/>\n",
       "      <path style=\"fill:none;stroke:#000000;stroke-width:0.5;stroke-linecap:butt;stroke-linejoin:miter;stroke-miterlimit:4;stroke-dasharray:none;stroke-opacity:1\" d=\"m 66.353541,69.23098 h 5.075235\" id=\"path1515\"/>\n",
       "    </g>\n",
       "    <text xml:space=\"preserve\" style=\"font-size:5.40149px;line-height:1.25;font-family:sans-serif;-inkscape-font-specification:sans-serif;stroke-width:0.264583\" x=\"63.598255\" y=\"127.6256\" id=\"text1521\"><tspan sodipodi:role=\"line\" id=\"tspan1519\" x=\"63.598255\" y=\"127.6256\" style=\"stroke-width:0.264583\">2</tspan></text>\n",
       "    <text xml:space=\"preserve\" style=\"font-size:5.40149px;line-height:1.25;font-family:sans-serif;-inkscape-font-specification:sans-serif;stroke-width:0.264583\" x=\"104.03602\" y=\"100.36676\" id=\"text1525\"><tspan sodipodi:role=\"line\" id=\"tspan1523\" x=\"104.03602\" y=\"100.36676\" style=\"stroke-width:0.264583\">3</tspan></text>\n",
       "    <text xml:space=\"preserve\" style=\"font-size:5.40149px;line-height:1.25;font-family:sans-serif;-inkscape-font-specification:sans-serif;stroke-width:0.264583\" x=\"202.49963\" y=\"120.12696\" id=\"text1529\"><tspan sodipodi:role=\"line\" id=\"tspan1527\" x=\"202.49963\" y=\"120.12696\" style=\"stroke-width:0.264583\">4</tspan></text>\n",
       "    <text xml:space=\"preserve\" style=\"font-size:7.7611px;line-height:1.25;font-family:sans-serif;-inkscape-font-specification:sans-serif;stroke-width:0.264583\" x=\"42.530609\" y=\"115.60754\" id=\"text1533\"><tspan sodipodi:role=\"line\" id=\"tspan1531\" x=\"42.530609\" y=\"115.60754\" style=\"stroke-width:0.264583\">2</tspan></text>\n",
       "    <text xml:space=\"preserve\" style=\"font-size:7.7611px;line-height:1.25;font-family:sans-serif;-inkscape-font-specification:sans-serif;stroke-width:0.264583\" x=\"99.787262\" y=\"86.235306\" id=\"text1537\"><tspan sodipodi:role=\"line\" id=\"tspan1535\" x=\"99.787262\" y=\"86.235306\" style=\"stroke-width:0.264583\">3</tspan></text>\n",
       "    <text xml:space=\"preserve\" style=\"font-size:7.7611px;line-height:1.25;font-family:sans-serif;-inkscape-font-specification:sans-serif;stroke-width:0.264583\" x=\"167.8152\" y=\"101.70832\" id=\"text1541\"><tspan sodipodi:role=\"line\" id=\"tspan1539\" x=\"167.8152\" y=\"101.70832\" style=\"stroke-width:0.264583\">4</tspan></text>\n",
       "    <text xml:space=\"preserve\" style=\"font-size:7.7611px;line-height:1.25;font-family:sans-serif;-inkscape-font-specification:sans-serif;stroke-width:0.264583\" x=\"224.21123\" y=\"144.24466\" id=\"text1545\"><tspan sodipodi:role=\"line\" id=\"tspan1543\" x=\"224.21123\" y=\"144.24466\" style=\"stroke-width:0.264583\">X</tspan></text>\n",
       "    <text xml:space=\"preserve\" style=\"font-size:7.7611px;line-height:1.25;font-family:sans-serif;-inkscape-font-specification:sans-serif;stroke-width:0.264583\" x=\"33.694336\" y=\"55.697205\" id=\"text1549\"><tspan sodipodi:role=\"line\" id=\"tspan1547\" x=\"33.694336\" y=\"55.697205\" style=\"stroke-width:0.264583\">Y</tspan></text>\n",
       "    <path style=\"fill:#ff0000;stroke:#ff0000;stroke-width:0.5;stroke-linecap:butt;stroke-linejoin:miter;stroke-opacity:1;stroke-miterlimit:4;stroke-dasharray:none;marker-end:url(#marker1764)\" d=\"M 40.63683,132.91881 53.380076,103.88287\" id=\"path1754\"/>\n",
       "    <path style=\"fill:#ff0000;stroke:#ff0000;stroke-width:0.5;stroke-linecap:butt;stroke-linejoin:miter;stroke-opacity:1;marker-end:url(#marker1824);stroke-miterlimit:4;stroke-dasharray:none\" d=\"M 57.195315,100.63326 155.89509,78.155476\" id=\"path1814\"/>\n",
       "    <path style=\"fill:#ff0000;stroke:#ff0000;stroke-width:0.5;stroke-linecap:butt;stroke-linejoin:miter;stroke-opacity:1;stroke-miterlimit:4;stroke-dasharray:none;marker-end:url(#marker5158)\" d=\"M 42.858994,135.20136 H 178.28424\" id=\"path1880\"/>\n",
       "    <path style=\"fill:#ff0000;stroke:#ff0000;stroke-width:0.5;stroke-linecap:butt;stroke-linejoin:miter;stroke-opacity:1;marker-end:url(#marker1962);stroke-miterlimit:4;stroke-dasharray:none\" d=\"M 180.81782,132.55552 159.6012,80.490898\" id=\"path1952\"/>\n",
       "    <text xml:space=\"preserve\" style=\"font-size:7.7611px;line-height:1.25;font-family:sans-serif;-inkscape-font-specification:sans-serif;stroke-width:0.264583;fill:#ff0000;\" x=\"46.783787\" y=\"124.74735\" id=\"text2566\"><tspan sodipodi:role=\"line\" id=\"tspan2564\" x=\"46.783787\" y=\"124.74735\" style=\"stroke-width:0.264583;fill:#ff0000;\">a</tspan></text>\n",
       "    <text xml:space=\"preserve\" style=\"font-size:7.7611px;line-height:1.25;font-family:sans-serif;-inkscape-font-specification:sans-serif;stroke-width:0.264583;fill:#ff0000;\" x=\"112.3205\" y=\"94.360733\" id=\"text2570\"><tspan sodipodi:role=\"line\" id=\"tspan2568\" x=\"112.3205\" y=\"94.360733\" style=\"stroke-width:0.264583;fill:#ff0000;\">b</tspan></text>\n",
       "    <text xml:space=\"preserve\" style=\"font-size:7.7611px;line-height:1.25;font-family:sans-serif;-inkscape-font-specification:sans-serif;fill:#ff0000;stroke-width:0.264583\" x=\"100.91211\" y=\"133.42999\" id=\"text2574\"><tspan sodipodi:role=\"line\" id=\"tspan2572\" x=\"100.91211\" y=\"133.42999\" style=\"fill:#ff0000;stroke-width:0.264583\">d</tspan></text>\n",
       "    <text xml:space=\"preserve\" style=\"font-size:7.7611px;line-height:1.25;font-family:sans-serif;-inkscape-font-specification:sans-serif;fill:#ff0000;stroke-width:0.264583\" x=\"163.30191\" y=\"107.71402\" id=\"text2578\"><tspan sodipodi:role=\"line\" id=\"tspan2576\" x=\"163.30191\" y=\"107.71402\" style=\"fill:#ff0000;stroke-width:0.264583\">c</tspan></text>\n",
       "  </g>\n",
       "</svg>"
      ],
      "text/plain": [
       "<IPython.core.display.SVG object>"
      ]
     },
     "execution_count": 76,
     "metadata": {},
     "output_type": "execute_result"
    }
   ],
   "source": [
    "SVG('figs4-6.svg')"
   ]
  },
  {
   "cell_type": "markdown",
   "metadata": {
    "slideshow": {
     "slide_type": "fragment"
    }
   },
   "source": [
    "$$ \\vec{R}_{AO_2} + \\vec{R}_{BA} - \\vec{R}_{BO_4} - \\vec{R}_{O_4O_2} = 0$$"
   ]
  },
  {
   "cell_type": "code",
   "execution_count": 77,
   "metadata": {
    "slideshow": {
     "slide_type": "fragment"
    }
   },
   "outputs": [],
   "source": [
    "a,b,c,d = symbols('a b c d')\n",
    "theta1,theta2,theta3,theta4 = symbols('theta1 theta2 theta3 theta4')"
   ]
  },
  {
   "cell_type": "code",
   "execution_count": 78,
   "metadata": {
    "slideshow": {
     "slide_type": "fragment"
    }
   },
   "outputs": [
    {
     "data": {
      "text/latex": [
       "$\\displaystyle a e^{i \\theta_{2}} + b e^{i \\theta_{3}} - c e^{i \\theta_{4}} - d e^{i \\theta_{1}}$"
      ],
      "text/plain": [
       "a*exp(I*theta2) + b*exp(I*theta3) - c*exp(I*theta4) - d*exp(I*theta1)"
      ]
     },
     "execution_count": 78,
     "metadata": {},
     "output_type": "execute_result"
    }
   ],
   "source": [
    "RAO2 = a*e**(i*theta2)\n",
    "RBA = b*e**(i*theta3)\n",
    "RBO4 = c*e**(i*theta4)\n",
    "RO4O2 = d*e**(i*theta1)\n",
    "Eq1 = RAO2 + RBA - RBO4 - RO4O2\n",
    "Eq1"
   ]
  },
  {
   "cell_type": "markdown",
   "metadata": {
    "slideshow": {
     "slide_type": "fragment"
    }
   },
   "source": [
    "Observa-se que $\\theta_1=0$:"
   ]
  },
  {
   "cell_type": "code",
   "execution_count": 79,
   "metadata": {
    "slideshow": {
     "slide_type": "fragment"
    }
   },
   "outputs": [
    {
     "data": {
      "text/latex": [
       "$\\displaystyle a e^{i \\theta_{2}} + b e^{i \\theta_{3}} - c e^{i \\theta_{4}} - d$"
      ],
      "text/plain": [
       "a*exp(I*theta2) + b*exp(I*theta3) - c*exp(I*theta4) - d"
      ]
     },
     "execution_count": 79,
     "metadata": {},
     "output_type": "execute_result"
    }
   ],
   "source": [
    "Eq1 = Eq1.subs(theta1,0)\n",
    "Eq1"
   ]
  },
  {
   "cell_type": "markdown",
   "metadata": {
    "slideshow": {
     "slide_type": "skip"
    }
   },
   "source": [
    "Escreveremos um dicionário para a identidade de Euler:"
   ]
  },
  {
   "cell_type": "code",
   "execution_count": 80,
   "metadata": {
    "slideshow": {
     "slide_type": "fragment"
    }
   },
   "outputs": [],
   "source": [
    "id_euler = {e**(i*theta2):cos(theta2) + i*sin(theta2),\n",
    "              e**(i*theta3):cos(theta3) + i*sin(theta3),\n",
    "             e**(i*theta4):cos(theta4) + i*sin(theta4)}"
   ]
  },
  {
   "cell_type": "code",
   "execution_count": 81,
   "metadata": {
    "slideshow": {
     "slide_type": "fragment"
    }
   },
   "outputs": [
    {
     "data": {
      "text/latex": [
       "$\\displaystyle a \\left(i \\sin{\\left(\\theta_{2} \\right)} + \\cos{\\left(\\theta_{2} \\right)}\\right) + b \\left(i \\sin{\\left(\\theta_{3} \\right)} + \\cos{\\left(\\theta_{3} \\right)}\\right) - c \\left(i \\sin{\\left(\\theta_{4} \\right)} + \\cos{\\left(\\theta_{4} \\right)}\\right) - d$"
      ],
      "text/plain": [
       "a*(I*sin(theta2) + cos(theta2)) + b*(I*sin(theta3) + cos(theta3)) - c*(I*sin(theta4) + cos(theta4)) - d"
      ]
     },
     "execution_count": 81,
     "metadata": {},
     "output_type": "execute_result"
    }
   ],
   "source": [
    "Eq1 = Eq1.subs(id_euler)\n",
    "Eq1"
   ]
  },
  {
   "cell_type": "markdown",
   "metadata": {
    "slideshow": {
     "slide_type": "skip"
    }
   },
   "source": [
    "Vamos expandir a Eq1:"
   ]
  },
  {
   "cell_type": "code",
   "execution_count": 82,
   "metadata": {
    "slideshow": {
     "slide_type": "fragment"
    }
   },
   "outputs": [
    {
     "data": {
      "text/latex": [
       "$\\displaystyle i a \\sin{\\left(\\theta_{2} \\right)} + a \\cos{\\left(\\theta_{2} \\right)} + i b \\sin{\\left(\\theta_{3} \\right)} + b \\cos{\\left(\\theta_{3} \\right)} - i c \\sin{\\left(\\theta_{4} \\right)} - c \\cos{\\left(\\theta_{4} \\right)} - d$"
      ],
      "text/plain": [
       "I*a*sin(theta2) + a*cos(theta2) + I*b*sin(theta3) + b*cos(theta3) - I*c*sin(theta4) - c*cos(theta4) - d"
      ]
     },
     "execution_count": 82,
     "metadata": {},
     "output_type": "execute_result"
    }
   ],
   "source": [
    "Eq1 = Eq1.expand()\n",
    "Eq1"
   ]
  },
  {
   "cell_type": "markdown",
   "metadata": {
    "slideshow": {
     "slide_type": "fragment"
    }
   },
   "source": [
    "Vamos separar a parte real da imaginária dessa equação:"
   ]
  },
  {
   "cell_type": "code",
   "execution_count": 83,
   "metadata": {
    "slideshow": {
     "slide_type": "fragment"
    }
   },
   "outputs": [
    {
     "data": {
      "text/latex": [
       "$\\displaystyle a \\cos{\\left(\\theta_{2} \\right)} + b \\cos{\\left(\\theta_{3} \\right)} - c \\cos{\\left(\\theta_{4} \\right)} - d$"
      ],
      "text/plain": [
       "a*cos(theta2) + b*cos(theta3) - c*cos(theta4) - d"
      ]
     },
     "execution_count": 83,
     "metadata": {},
     "output_type": "execute_result"
    }
   ],
   "source": [
    "Eq_real = Eq1.subs(i,0)\n",
    "Eq_real"
   ]
  },
  {
   "cell_type": "code",
   "execution_count": 84,
   "metadata": {
    "slideshow": {
     "slide_type": "fragment"
    }
   },
   "outputs": [
    {
     "data": {
      "text/latex": [
       "$\\displaystyle i a \\sin{\\left(\\theta_{2} \\right)} + i b \\sin{\\left(\\theta_{3} \\right)} - i c \\sin{\\left(\\theta_{4} \\right)}$"
      ],
      "text/plain": [
       "I*a*sin(theta2) + I*b*sin(theta3) - I*c*sin(theta4)"
      ]
     },
     "execution_count": 84,
     "metadata": {},
     "output_type": "execute_result"
    }
   ],
   "source": [
    "Eq_im = Eq1 - Eq_real\n",
    "Eq_im"
   ]
  },
  {
   "cell_type": "code",
   "execution_count": 85,
   "metadata": {
    "slideshow": {
     "slide_type": "fragment"
    }
   },
   "outputs": [
    {
     "data": {
      "text/latex": [
       "$\\displaystyle a \\sin{\\left(\\theta_{2} \\right)} + b \\sin{\\left(\\theta_{3} \\right)} - c \\sin{\\left(\\theta_{4} \\right)}$"
      ],
      "text/plain": [
       "a*sin(theta2) + b*sin(theta3) - c*sin(theta4)"
      ]
     },
     "execution_count": 85,
     "metadata": {},
     "output_type": "execute_result"
    }
   ],
   "source": [
    "Eq_im = Eq_im.subs(i,1)\n",
    "Eq_im"
   ]
  },
  {
   "cell_type": "markdown",
   "metadata": {
    "slideshow": {
     "slide_type": "skip"
    }
   },
   "source": [
    "Agora, vamos passar os termos que contenham $b$ para o lado esquerdo da equação:"
   ]
  },
  {
   "cell_type": "code",
   "execution_count": 86,
   "metadata": {
    "slideshow": {
     "slide_type": "fragment"
    }
   },
   "outputs": [
    {
     "data": {
      "text/latex": [
       "$\\displaystyle - a \\cos{\\left(\\theta_{2} \\right)} + c \\cos{\\left(\\theta_{4} \\right)} + d$"
      ],
      "text/plain": [
       "-a*cos(theta2) + c*cos(theta4) + d"
      ]
     },
     "execution_count": 86,
     "metadata": {},
     "output_type": "execute_result"
    }
   ],
   "source": [
    "bcostheta3 = solve(Eq_real,b*cos(theta3))[0]\n",
    "bcostheta3"
   ]
  },
  {
   "cell_type": "code",
   "execution_count": 87,
   "metadata": {
    "slideshow": {
     "slide_type": "fragment"
    }
   },
   "outputs": [
    {
     "data": {
      "text/latex": [
       "$\\displaystyle b \\cos{\\left(\\theta_{3} \\right)} = - a \\cos{\\left(\\theta_{2} \\right)} + c \\cos{\\left(\\theta_{4} \\right)} + d$"
      ],
      "text/plain": [
       "Eq(b*cos(theta3), -a*cos(theta2) + c*cos(theta4) + d)"
      ]
     },
     "execution_count": 87,
     "metadata": {},
     "output_type": "execute_result"
    }
   ],
   "source": [
    "Eq(b*cos(theta3),bcostheta3)"
   ]
  },
  {
   "cell_type": "code",
   "execution_count": 88,
   "metadata": {
    "slideshow": {
     "slide_type": "fragment"
    }
   },
   "outputs": [
    {
     "data": {
      "text/latex": [
       "$\\displaystyle - a \\sin{\\left(\\theta_{2} \\right)} + c \\sin{\\left(\\theta_{4} \\right)}$"
      ],
      "text/plain": [
       "-a*sin(theta2) + c*sin(theta4)"
      ]
     },
     "execution_count": 88,
     "metadata": {},
     "output_type": "execute_result"
    }
   ],
   "source": [
    "bsentheta3 = solve(Eq_im,b*sin(theta3))[0]\n",
    "bsentheta3"
   ]
  },
  {
   "cell_type": "code",
   "execution_count": 89,
   "metadata": {
    "slideshow": {
     "slide_type": "fragment"
    }
   },
   "outputs": [
    {
     "data": {
      "text/latex": [
       "$\\displaystyle b \\sin{\\left(\\theta_{3} \\right)} = - a \\sin{\\left(\\theta_{2} \\right)} + c \\sin{\\left(\\theta_{4} \\right)}$"
      ],
      "text/plain": [
       "Eq(b*sin(theta3), -a*sin(theta2) + c*sin(theta4))"
      ]
     },
     "execution_count": 89,
     "metadata": {},
     "output_type": "execute_result"
    }
   ],
   "source": [
    "Eq(b*sin(theta3),bsentheta3)"
   ]
  },
  {
   "cell_type": "markdown",
   "metadata": {
    "slideshow": {
     "slide_type": "skip"
    }
   },
   "source": [
    "Elevando essas duas equações ao quadrado e somando, eliminamos $\\theta_3$ das equações."
   ]
  },
  {
   "cell_type": "code",
   "execution_count": 90,
   "metadata": {
    "slideshow": {
     "slide_type": "fragment"
    }
   },
   "outputs": [
    {
     "data": {
      "text/latex": [
       "$\\displaystyle \\left(- a \\sin{\\left(\\theta_{2} \\right)} + c \\sin{\\left(\\theta_{4} \\right)}\\right)^{2} + \\left(- a \\cos{\\left(\\theta_{2} \\right)} + c \\cos{\\left(\\theta_{4} \\right)} + d\\right)^{2}$"
      ],
      "text/plain": [
       "(-a*sin(theta2) + c*sin(theta4))**2 + (-a*cos(theta2) + c*cos(theta4) + d)**2"
      ]
     },
     "execution_count": 90,
     "metadata": {},
     "output_type": "execute_result"
    }
   ],
   "source": [
    "b2 = bcostheta3**2 + bsentheta3**2\n",
    "b2"
   ]
  },
  {
   "cell_type": "code",
   "execution_count": 91,
   "metadata": {
    "slideshow": {
     "slide_type": "fragment"
    }
   },
   "outputs": [
    {
     "data": {
      "text/latex": [
       "$\\displaystyle b^{2} = \\left(- a \\sin{\\left(\\theta_{2} \\right)} + c \\sin{\\left(\\theta_{4} \\right)}\\right)^{2} + \\left(- a \\cos{\\left(\\theta_{2} \\right)} + c \\cos{\\left(\\theta_{4} \\right)} + d\\right)^{2}$"
      ],
      "text/plain": [
       "Eq(b**2, (-a*sin(theta2) + c*sin(theta4))**2 + (-a*cos(theta2) + c*cos(theta4) + d)**2)"
      ]
     },
     "execution_count": 91,
     "metadata": {},
     "output_type": "execute_result"
    }
   ],
   "source": [
    "Eq(b**2,b2)"
   ]
  },
  {
   "cell_type": "markdown",
   "metadata": {
    "slideshow": {
     "slide_type": "fragment"
    }
   },
   "source": [
    "Reorganizando: \n"
   ]
  },
  {
   "cell_type": "code",
   "execution_count": 92,
   "metadata": {
    "slideshow": {
     "slide_type": "fragment"
    }
   },
   "outputs": [
    {
     "data": {
      "text/latex": [
       "$\\displaystyle a^{2} \\sin^{2}{\\left(\\theta_{2} \\right)} + a^{2} \\cos^{2}{\\left(\\theta_{2} \\right)} - 2 a c \\sin{\\left(\\theta_{2} \\right)} \\sin{\\left(\\theta_{4} \\right)} - 2 a c \\cos{\\left(\\theta_{2} \\right)} \\cos{\\left(\\theta_{4} \\right)} - 2 a d \\cos{\\left(\\theta_{2} \\right)} - b^{2} + c^{2} \\sin^{2}{\\left(\\theta_{4} \\right)} + c^{2} \\cos^{2}{\\left(\\theta_{4} \\right)} + 2 c d \\cos{\\left(\\theta_{4} \\right)} + d^{2}$"
      ],
      "text/plain": [
       "a**2*sin(theta2)**2 + a**2*cos(theta2)**2 - 2*a*c*sin(theta2)*sin(theta4) - 2*a*c*cos(theta2)*cos(theta4) - 2*a*d*cos(theta2) - b**2 + c**2*sin(theta4)**2 + c**2*cos(theta4)**2 + 2*c*d*cos(theta4) + d**2"
      ]
     },
     "execution_count": 92,
     "metadata": {},
     "output_type": "execute_result"
    }
   ],
   "source": [
    "Eq2 = b2.expand() - b**2\n",
    "Eq2"
   ]
  },
  {
   "cell_type": "markdown",
   "metadata": {
    "slideshow": {
     "slide_type": "fragment"
    }
   },
   "source": [
    "Teremos que utilizar uma identidade trigonométrica conhecida como *meia identidade dos ângulos*:\n",
    "$$ sen \\theta_4 = \\dfrac{2 tan \\left( \\dfrac{\\theta_4}{2} \\right)}{1 + tan^2 \\left( \\dfrac{\\theta_4}{2} \\right)} \\qquad cos \\theta_4 = \\dfrac{1 - tan^2 \\left( \\dfrac{\\theta_4}{2} \\right)}{1 + tan^2 \\left( \\dfrac{\\theta_4}{2} \\right)} $$"
   ]
  },
  {
   "cell_type": "code",
   "execution_count": 93,
   "metadata": {
    "slideshow": {
     "slide_type": "fragment"
    }
   },
   "outputs": [],
   "source": [
    "mida = {sin(theta4):(2*tan(theta4/2))/(1+(tan(theta4/2))**2),\n",
    "        cos(theta4):(1-(tan(theta4/2))**2)/(1 +(tan(theta4/2))**2 )}"
   ]
  },
  {
   "cell_type": "code",
   "execution_count": 94,
   "metadata": {
    "scrolled": true,
    "slideshow": {
     "slide_type": "fragment"
    }
   },
   "outputs": [
    {
     "data": {
      "text/latex": [
       "$\\displaystyle a^{2} \\sin^{2}{\\left(\\theta_{2} \\right)} + a^{2} \\cos^{2}{\\left(\\theta_{2} \\right)} - \\frac{2 a c \\left(1 - \\tan^{2}{\\left(\\frac{\\theta_{4}}{2} \\right)}\\right) \\cos{\\left(\\theta_{2} \\right)}}{\\tan^{2}{\\left(\\frac{\\theta_{4}}{2} \\right)} + 1} - \\frac{4 a c \\sin{\\left(\\theta_{2} \\right)} \\tan{\\left(\\frac{\\theta_{4}}{2} \\right)}}{\\tan^{2}{\\left(\\frac{\\theta_{4}}{2} \\right)} + 1} - 2 a d \\cos{\\left(\\theta_{2} \\right)} - b^{2} + \\frac{c^{2} \\left(1 - \\tan^{2}{\\left(\\frac{\\theta_{4}}{2} \\right)}\\right)^{2}}{\\left(\\tan^{2}{\\left(\\frac{\\theta_{4}}{2} \\right)} + 1\\right)^{2}} + \\frac{4 c^{2} \\tan^{2}{\\left(\\frac{\\theta_{4}}{2} \\right)}}{\\left(\\tan^{2}{\\left(\\frac{\\theta_{4}}{2} \\right)} + 1\\right)^{2}} + \\frac{2 c d \\left(1 - \\tan^{2}{\\left(\\frac{\\theta_{4}}{2} \\right)}\\right)}{\\tan^{2}{\\left(\\frac{\\theta_{4}}{2} \\right)} + 1} + d^{2}$"
      ],
      "text/plain": [
       "a**2*sin(theta2)**2 + a**2*cos(theta2)**2 - 2*a*c*(1 - tan(theta4/2)**2)*cos(theta2)/(tan(theta4/2)**2 + 1) - 4*a*c*sin(theta2)*tan(theta4/2)/(tan(theta4/2)**2 + 1) - 2*a*d*cos(theta2) - b**2 + c**2*(1 - tan(theta4/2)**2)**2/(tan(theta4/2)**2 + 1)**2 + 4*c**2*tan(theta4/2)**2/(tan(theta4/2)**2 + 1)**2 + 2*c*d*(1 - tan(theta4/2)**2)/(tan(theta4/2)**2 + 1) + d**2"
      ]
     },
     "execution_count": 94,
     "metadata": {},
     "output_type": "execute_result"
    }
   ],
   "source": [
    "Eq3 = Eq2.subs(mida)\n",
    "Eq3 "
   ]
  },
  {
   "cell_type": "markdown",
   "metadata": {
    "slideshow": {
     "slide_type": "skip"
    }
   },
   "source": [
    "Para facilitar a solução da equação, vamos substituir $\\tan \\left( \\dfrac{\\theta_4}{2} \\right)$ por $x$:"
   ]
  },
  {
   "cell_type": "code",
   "execution_count": 95,
   "metadata": {
    "slideshow": {
     "slide_type": "fragment"
    }
   },
   "outputs": [
    {
     "data": {
      "text/latex": [
       "$\\displaystyle \\frac{c^{2} \\cdot \\left(4 x^{2} + \\left(x^{2} - 1\\right)^{2}\\right) + 2 c \\left(x^{2} + 1\\right) \\left(- 2 a x \\sin{\\left(\\theta_{2} \\right)} + a \\left(x^{2} - 1\\right) \\cos{\\left(\\theta_{2} \\right)} - d \\left(x^{2} - 1\\right)\\right) + \\left(x^{2} + 1\\right)^{2} \\left(a^{2} - 2 a d \\cos{\\left(\\theta_{2} \\right)} - b^{2} + d^{2}\\right)}{\\left(x^{2} + 1\\right)^{2}}$"
      ],
      "text/plain": [
       "(c**2*(4*x**2 + (x**2 - 1)**2) + 2*c*(x**2 + 1)*(-2*a*x*sin(theta2) + a*(x**2 - 1)*cos(theta2) - d*(x**2 - 1)) + (x**2 + 1)**2*(a**2 - 2*a*d*cos(theta2) - b**2 + d**2))/(x**2 + 1)**2"
      ]
     },
     "execution_count": 95,
     "metadata": {},
     "output_type": "execute_result"
    }
   ],
   "source": [
    "x = symbols('x')\n",
    "Eq4 = Eq3.subs(tan(theta4/2),x)\n",
    "Eq4 = Eq4.simplify()\n",
    "Eq4"
   ]
  },
  {
   "cell_type": "markdown",
   "metadata": {
    "slideshow": {
     "slide_type": "skip"
    }
   },
   "source": [
    "Agora, basta resolver para $x$ essa equação do segundo grau:"
   ]
  },
  {
   "cell_type": "code",
   "execution_count": 96,
   "metadata": {
    "slideshow": {
     "slide_type": "fragment"
    }
   },
   "outputs": [],
   "source": [
    "sol = solve(Eq4,x)"
   ]
  },
  {
   "cell_type": "code",
   "execution_count": 97,
   "metadata": {
    "slideshow": {
     "slide_type": "fragment"
    }
   },
   "outputs": [
    {
     "data": {
      "text/latex": [
       "$\\displaystyle \\frac{2 a c \\sin{\\left(\\theta_{2} \\right)} - \\sqrt{- a^{4} + 4 a^{3} d \\cos{\\left(\\theta_{2} \\right)} + 2 a^{2} b^{2} + 4 a^{2} c^{2} \\sin^{2}{\\left(\\theta_{2} \\right)} + 4 a^{2} c^{2} \\cos^{2}{\\left(\\theta_{2} \\right)} - 2 a^{2} c^{2} - 4 a^{2} d^{2} \\cos^{2}{\\left(\\theta_{2} \\right)} - 2 a^{2} d^{2} - 4 a b^{2} d \\cos{\\left(\\theta_{2} \\right)} - 4 a c^{2} d \\cos{\\left(\\theta_{2} \\right)} + 4 a d^{3} \\cos{\\left(\\theta_{2} \\right)} - b^{4} + 2 b^{2} c^{2} + 2 b^{2} d^{2} - c^{4} + 2 c^{2} d^{2} - d^{4}}}{a^{2} + 2 a c \\cos{\\left(\\theta_{2} \\right)} - 2 a d \\cos{\\left(\\theta_{2} \\right)} - b^{2} + c^{2} - 2 c d + d^{2}}$"
      ],
      "text/plain": [
       "(2*a*c*sin(theta2) - sqrt(-a**4 + 4*a**3*d*cos(theta2) + 2*a**2*b**2 + 4*a**2*c**2*sin(theta2)**2 + 4*a**2*c**2*cos(theta2)**2 - 2*a**2*c**2 - 4*a**2*d**2*cos(theta2)**2 - 2*a**2*d**2 - 4*a*b**2*d*cos(theta2) - 4*a*c**2*d*cos(theta2) + 4*a*d**3*cos(theta2) - b**4 + 2*b**2*c**2 + 2*b**2*d**2 - c**4 + 2*c**2*d**2 - d**4))/(a**2 + 2*a*c*cos(theta2) - 2*a*d*cos(theta2) - b**2 + c**2 - 2*c*d + d**2)"
      ]
     },
     "execution_count": 97,
     "metadata": {},
     "output_type": "execute_result"
    }
   ],
   "source": [
    "sol[0]"
   ]
  },
  {
   "cell_type": "code",
   "execution_count": 98,
   "metadata": {
    "slideshow": {
     "slide_type": "fragment"
    }
   },
   "outputs": [
    {
     "data": {
      "text/latex": [
       "$\\displaystyle \\frac{2 a c \\sin{\\left(\\theta_{2} \\right)} + \\sqrt{- a^{4} + 4 a^{3} d \\cos{\\left(\\theta_{2} \\right)} + 2 a^{2} b^{2} + 4 a^{2} c^{2} \\sin^{2}{\\left(\\theta_{2} \\right)} + 4 a^{2} c^{2} \\cos^{2}{\\left(\\theta_{2} \\right)} - 2 a^{2} c^{2} - 4 a^{2} d^{2} \\cos^{2}{\\left(\\theta_{2} \\right)} - 2 a^{2} d^{2} - 4 a b^{2} d \\cos{\\left(\\theta_{2} \\right)} - 4 a c^{2} d \\cos{\\left(\\theta_{2} \\right)} + 4 a d^{3} \\cos{\\left(\\theta_{2} \\right)} - b^{4} + 2 b^{2} c^{2} + 2 b^{2} d^{2} - c^{4} + 2 c^{2} d^{2} - d^{4}}}{a^{2} + 2 a c \\cos{\\left(\\theta_{2} \\right)} - 2 a d \\cos{\\left(\\theta_{2} \\right)} - b^{2} + c^{2} - 2 c d + d^{2}}$"
      ],
      "text/plain": [
       "(2*a*c*sin(theta2) + sqrt(-a**4 + 4*a**3*d*cos(theta2) + 2*a**2*b**2 + 4*a**2*c**2*sin(theta2)**2 + 4*a**2*c**2*cos(theta2)**2 - 2*a**2*c**2 - 4*a**2*d**2*cos(theta2)**2 - 2*a**2*d**2 - 4*a*b**2*d*cos(theta2) - 4*a*c**2*d*cos(theta2) + 4*a*d**3*cos(theta2) - b**4 + 2*b**2*c**2 + 2*b**2*d**2 - c**4 + 2*c**2*d**2 - d**4))/(a**2 + 2*a*c*cos(theta2) - 2*a*d*cos(theta2) - b**2 + c**2 - 2*c*d + d**2)"
      ]
     },
     "execution_count": 98,
     "metadata": {},
     "output_type": "execute_result"
    }
   ],
   "source": [
    "sol[1]"
   ]
  },
  {
   "cell_type": "markdown",
   "metadata": {
    "slideshow": {
     "slide_type": "skip"
    }
   },
   "source": [
    "A solução de $\\theta_4$ para a malha aberta é: "
   ]
  },
  {
   "cell_type": "code",
   "execution_count": 99,
   "metadata": {
    "scrolled": true,
    "slideshow": {
     "slide_type": "fragment"
    }
   },
   "outputs": [
    {
     "data": {
      "text/latex": [
       "$\\displaystyle 2 \\operatorname{atan}{\\left(\\frac{2 a c \\sin{\\left(\\theta_{2} \\right)} - \\sqrt{- a^{4} + 4 a^{3} d \\cos{\\left(\\theta_{2} \\right)} + 2 a^{2} b^{2} + 4 a^{2} c^{2} \\sin^{2}{\\left(\\theta_{2} \\right)} + 4 a^{2} c^{2} \\cos^{2}{\\left(\\theta_{2} \\right)} - 2 a^{2} c^{2} - 4 a^{2} d^{2} \\cos^{2}{\\left(\\theta_{2} \\right)} - 2 a^{2} d^{2} - 4 a b^{2} d \\cos{\\left(\\theta_{2} \\right)} - 4 a c^{2} d \\cos{\\left(\\theta_{2} \\right)} + 4 a d^{3} \\cos{\\left(\\theta_{2} \\right)} - b^{4} + 2 b^{2} c^{2} + 2 b^{2} d^{2} - c^{4} + 2 c^{2} d^{2} - d^{4}}}{a^{2} + 2 a c \\cos{\\left(\\theta_{2} \\right)} - 2 a d \\cos{\\left(\\theta_{2} \\right)} - b^{2} + c^{2} - 2 c d + d^{2}} \\right)}$"
      ],
      "text/plain": [
       "2*atan((2*a*c*sin(theta2) - sqrt(-a**4 + 4*a**3*d*cos(theta2) + 2*a**2*b**2 + 4*a**2*c**2*sin(theta2)**2 + 4*a**2*c**2*cos(theta2)**2 - 2*a**2*c**2 - 4*a**2*d**2*cos(theta2)**2 - 2*a**2*d**2 - 4*a*b**2*d*cos(theta2) - 4*a*c**2*d*cos(theta2) + 4*a*d**3*cos(theta2) - b**4 + 2*b**2*c**2 + 2*b**2*d**2 - c**4 + 2*c**2*d**2 - d**4))/(a**2 + 2*a*c*cos(theta2) - 2*a*d*cos(theta2) - b**2 + c**2 - 2*c*d + d**2))"
      ]
     },
     "execution_count": 99,
     "metadata": {},
     "output_type": "execute_result"
    }
   ],
   "source": [
    "theta4_1 = 2*atan(sol[0])\n",
    "theta4_1"
   ]
  },
  {
   "cell_type": "markdown",
   "metadata": {
    "slideshow": {
     "slide_type": "skip"
    }
   },
   "source": [
    "Para obter $\\theta_4$ para um dado $\\theta_2$, basta substituir os comprimentos dos elos e o $\\theta_2$ por valores numéricos. Faremos isso através de um dicionário."
   ]
  },
  {
   "cell_type": "code",
   "execution_count": 100,
   "metadata": {
    "scrolled": false,
    "slideshow": {
     "slide_type": "fragment"
    }
   },
   "outputs": [
    {
     "data": {
      "text/plain": [
       "{a: 10, b: 15, c: 15, d: 10, theta2: pi/6}"
      ]
     },
     "execution_count": 100,
     "metadata": {},
     "output_type": "execute_result"
    }
   ],
   "source": [
    "dic1"
   ]
  },
  {
   "cell_type": "code",
   "execution_count": 101,
   "metadata": {
    "slideshow": {
     "slide_type": "fragment"
    }
   },
   "outputs": [
    {
     "data": {
      "text/latex": [
       "$\\displaystyle 0.435213273165934$"
      ],
      "text/plain": [
       "0.435213273165934"
      ]
     },
     "execution_count": 101,
     "metadata": {},
     "output_type": "execute_result"
    }
   ],
   "source": [
    "theta4_1.subs(dic1).evalf()"
   ]
  },
  {
   "cell_type": "markdown",
   "metadata": {
    "slideshow": {
     "slide_type": "fragment"
    }
   },
   "source": [
    "Para obter $\\theta_3$ devemos proceder de maneira similar..."
   ]
  },
  {
   "cell_type": "code",
   "execution_count": 102,
   "metadata": {
    "slideshow": {
     "slide_type": "skip"
    }
   },
   "outputs": [
    {
     "data": {
      "text/latex": [
       "$\\displaystyle a \\cos{\\left(\\theta_{2} \\right)} + b \\cos{\\left(\\theta_{3} \\right)} - d$"
      ],
      "text/plain": [
       "a*cos(theta2) + b*cos(theta3) - d"
      ]
     },
     "execution_count": 102,
     "metadata": {},
     "output_type": "execute_result"
    }
   ],
   "source": [
    "ccostheta4 = solve(Eq_real,c*cos(theta4))[0]\n",
    "ccostheta4"
   ]
  },
  {
   "cell_type": "code",
   "execution_count": 103,
   "metadata": {
    "slideshow": {
     "slide_type": "skip"
    }
   },
   "outputs": [
    {
     "data": {
      "text/latex": [
       "$\\displaystyle a \\sin{\\left(\\theta_{2} \\right)} + b \\sin{\\left(\\theta_{3} \\right)}$"
      ],
      "text/plain": [
       "a*sin(theta2) + b*sin(theta3)"
      ]
     },
     "execution_count": 103,
     "metadata": {},
     "output_type": "execute_result"
    }
   ],
   "source": [
    "csintheta4 = solve(Eq_im,c*sin(theta4))[0]\n",
    "csintheta4"
   ]
  },
  {
   "cell_type": "code",
   "execution_count": 104,
   "metadata": {
    "slideshow": {
     "slide_type": "skip"
    }
   },
   "outputs": [
    {
     "data": {
      "text/latex": [
       "$\\displaystyle \\left(a \\sin{\\left(\\theta_{2} \\right)} + b \\sin{\\left(\\theta_{3} \\right)}\\right)^{2} + \\left(a \\cos{\\left(\\theta_{2} \\right)} + b \\cos{\\left(\\theta_{3} \\right)} - d\\right)^{2}$"
      ],
      "text/plain": [
       "(a*sin(theta2) + b*sin(theta3))**2 + (a*cos(theta2) + b*cos(theta3) - d)**2"
      ]
     },
     "execution_count": 104,
     "metadata": {},
     "output_type": "execute_result"
    }
   ],
   "source": [
    "c2 = ccostheta4**2 + csintheta4**2\n",
    "c2"
   ]
  },
  {
   "cell_type": "code",
   "execution_count": 105,
   "metadata": {
    "slideshow": {
     "slide_type": "skip"
    }
   },
   "outputs": [
    {
     "data": {
      "text/latex": [
       "$\\displaystyle a^{2} \\sin^{2}{\\left(\\theta_{2} \\right)} + a^{2} \\cos^{2}{\\left(\\theta_{2} \\right)} + 2 a b \\sin{\\left(\\theta_{2} \\right)} \\sin{\\left(\\theta_{3} \\right)} + 2 a b \\cos{\\left(\\theta_{2} \\right)} \\cos{\\left(\\theta_{3} \\right)} - 2 a d \\cos{\\left(\\theta_{2} \\right)} + b^{2} \\sin^{2}{\\left(\\theta_{3} \\right)} + b^{2} \\cos^{2}{\\left(\\theta_{3} \\right)} - 2 b d \\cos{\\left(\\theta_{3} \\right)} - c^{2} + d^{2}$"
      ],
      "text/plain": [
       "a**2*sin(theta2)**2 + a**2*cos(theta2)**2 + 2*a*b*sin(theta2)*sin(theta3) + 2*a*b*cos(theta2)*cos(theta3) - 2*a*d*cos(theta2) + b**2*sin(theta3)**2 + b**2*cos(theta3)**2 - 2*b*d*cos(theta3) - c**2 + d**2"
      ]
     },
     "execution_count": 105,
     "metadata": {},
     "output_type": "execute_result"
    }
   ],
   "source": [
    "Eq5 = (c2 - c**2).expand()\n",
    "Eq5"
   ]
  },
  {
   "cell_type": "code",
   "execution_count": 106,
   "metadata": {
    "slideshow": {
     "slide_type": "skip"
    }
   },
   "outputs": [],
   "source": [
    "mida2 = {sin(theta3):(2*tan(theta3/2))/(1+(tan(theta3/2))**2),\n",
    "        cos(theta3):(1-(tan(theta3/2))**2)/(1 +(tan(theta3/2))**2 )}"
   ]
  },
  {
   "cell_type": "code",
   "execution_count": 107,
   "metadata": {
    "slideshow": {
     "slide_type": "skip"
    }
   },
   "outputs": [
    {
     "data": {
      "text/latex": [
       "$\\displaystyle a^{2} \\sin^{2}{\\left(\\theta_{2} \\right)} + a^{2} \\cos^{2}{\\left(\\theta_{2} \\right)} + \\frac{2 a b \\left(1 - \\tan^{2}{\\left(\\frac{\\theta_{3}}{2} \\right)}\\right) \\cos{\\left(\\theta_{2} \\right)}}{\\tan^{2}{\\left(\\frac{\\theta_{3}}{2} \\right)} + 1} + \\frac{4 a b \\sin{\\left(\\theta_{2} \\right)} \\tan{\\left(\\frac{\\theta_{3}}{2} \\right)}}{\\tan^{2}{\\left(\\frac{\\theta_{3}}{2} \\right)} + 1} - 2 a d \\cos{\\left(\\theta_{2} \\right)} + \\frac{b^{2} \\left(1 - \\tan^{2}{\\left(\\frac{\\theta_{3}}{2} \\right)}\\right)^{2}}{\\left(\\tan^{2}{\\left(\\frac{\\theta_{3}}{2} \\right)} + 1\\right)^{2}} + \\frac{4 b^{2} \\tan^{2}{\\left(\\frac{\\theta_{3}}{2} \\right)}}{\\left(\\tan^{2}{\\left(\\frac{\\theta_{3}}{2} \\right)} + 1\\right)^{2}} - \\frac{2 b d \\left(1 - \\tan^{2}{\\left(\\frac{\\theta_{3}}{2} \\right)}\\right)}{\\tan^{2}{\\left(\\frac{\\theta_{3}}{2} \\right)} + 1} - c^{2} + d^{2}$"
      ],
      "text/plain": [
       "a**2*sin(theta2)**2 + a**2*cos(theta2)**2 + 2*a*b*(1 - tan(theta3/2)**2)*cos(theta2)/(tan(theta3/2)**2 + 1) + 4*a*b*sin(theta2)*tan(theta3/2)/(tan(theta3/2)**2 + 1) - 2*a*d*cos(theta2) + b**2*(1 - tan(theta3/2)**2)**2/(tan(theta3/2)**2 + 1)**2 + 4*b**2*tan(theta3/2)**2/(tan(theta3/2)**2 + 1)**2 - 2*b*d*(1 - tan(theta3/2)**2)/(tan(theta3/2)**2 + 1) - c**2 + d**2"
      ]
     },
     "execution_count": 107,
     "metadata": {},
     "output_type": "execute_result"
    }
   ],
   "source": [
    "Eq6 = Eq5.subs(mida2)\n",
    "Eq6"
   ]
  },
  {
   "cell_type": "code",
   "execution_count": 108,
   "metadata": {
    "slideshow": {
     "slide_type": "skip"
    }
   },
   "outputs": [
    {
     "data": {
      "text/latex": [
       "$\\displaystyle \\frac{b^{2} \\cdot \\left(4 y^{2} + \\left(y^{2} - 1\\right)^{2}\\right) + 2 b \\left(y^{2} + 1\\right) \\left(2 a y \\sin{\\left(\\theta_{2} \\right)} - a \\left(y^{2} - 1\\right) \\cos{\\left(\\theta_{2} \\right)} + d \\left(y^{2} - 1\\right)\\right) + \\left(y^{2} + 1\\right)^{2} \\left(a^{2} - 2 a d \\cos{\\left(\\theta_{2} \\right)} - c^{2} + d^{2}\\right)}{\\left(y^{2} + 1\\right)^{2}}$"
      ],
      "text/plain": [
       "(b**2*(4*y**2 + (y**2 - 1)**2) + 2*b*(y**2 + 1)*(2*a*y*sin(theta2) - a*(y**2 - 1)*cos(theta2) + d*(y**2 - 1)) + (y**2 + 1)**2*(a**2 - 2*a*d*cos(theta2) - c**2 + d**2))/(y**2 + 1)**2"
      ]
     },
     "execution_count": 108,
     "metadata": {},
     "output_type": "execute_result"
    }
   ],
   "source": [
    "y = symbols('y')\n",
    "Eq7 = Eq6.subs(tan(theta3/2),y)\n",
    "Eq7 = Eq7.simplify()\n",
    "Eq7"
   ]
  },
  {
   "cell_type": "code",
   "execution_count": 109,
   "metadata": {
    "slideshow": {
     "slide_type": "skip"
    }
   },
   "outputs": [
    {
     "data": {
      "text/plain": [
       "[(-2*a*b*sin(theta2) - sqrt(-a**4 + 4*a**3*d*cos(theta2) + 4*a**2*b**2*sin(theta2)**2 + 4*a**2*b**2*cos(theta2)**2 - 2*a**2*b**2 + 2*a**2*c**2 - 4*a**2*d**2*cos(theta2)**2 - 2*a**2*d**2 - 4*a*b**2*d*cos(theta2) - 4*a*c**2*d*cos(theta2) + 4*a*d**3*cos(theta2) - b**4 + 2*b**2*c**2 + 2*b**2*d**2 - c**4 + 2*c**2*d**2 - d**4))/(a**2 - 2*a*b*cos(theta2) - 2*a*d*cos(theta2) + b**2 + 2*b*d - c**2 + d**2),\n",
       " (-2*a*b*sin(theta2) + sqrt(-a**4 + 4*a**3*d*cos(theta2) + 4*a**2*b**2*sin(theta2)**2 + 4*a**2*b**2*cos(theta2)**2 - 2*a**2*b**2 + 2*a**2*c**2 - 4*a**2*d**2*cos(theta2)**2 - 2*a**2*d**2 - 4*a*b**2*d*cos(theta2) - 4*a*c**2*d*cos(theta2) + 4*a*d**3*cos(theta2) - b**4 + 2*b**2*c**2 + 2*b**2*d**2 - c**4 + 2*c**2*d**2 - d**4))/(a**2 - 2*a*b*cos(theta2) - 2*a*d*cos(theta2) + b**2 + 2*b*d - c**2 + d**2)]"
      ]
     },
     "execution_count": 109,
     "metadata": {},
     "output_type": "execute_result"
    }
   ],
   "source": [
    "sol2 = solve(Eq7,y)\n",
    "sol2"
   ]
  },
  {
   "cell_type": "code",
   "execution_count": 110,
   "metadata": {
    "slideshow": {
     "slide_type": "skip"
    }
   },
   "outputs": [
    {
     "data": {
      "text/latex": [
       "$\\displaystyle 2 \\operatorname{atan}{\\left(\\frac{- 2 a b \\sin{\\left(\\theta_{2} \\right)} - \\sqrt{- a^{4} + 4 a^{3} d \\cos{\\left(\\theta_{2} \\right)} + 4 a^{2} b^{2} \\sin^{2}{\\left(\\theta_{2} \\right)} + 4 a^{2} b^{2} \\cos^{2}{\\left(\\theta_{2} \\right)} - 2 a^{2} b^{2} + 2 a^{2} c^{2} - 4 a^{2} d^{2} \\cos^{2}{\\left(\\theta_{2} \\right)} - 2 a^{2} d^{2} - 4 a b^{2} d \\cos{\\left(\\theta_{2} \\right)} - 4 a c^{2} d \\cos{\\left(\\theta_{2} \\right)} + 4 a d^{3} \\cos{\\left(\\theta_{2} \\right)} - b^{4} + 2 b^{2} c^{2} + 2 b^{2} d^{2} - c^{4} + 2 c^{2} d^{2} - d^{4}}}{a^{2} - 2 a b \\cos{\\left(\\theta_{2} \\right)} - 2 a d \\cos{\\left(\\theta_{2} \\right)} + b^{2} + 2 b d - c^{2} + d^{2}} \\right)}$"
      ],
      "text/plain": [
       "2*atan((-2*a*b*sin(theta2) - sqrt(-a**4 + 4*a**3*d*cos(theta2) + 4*a**2*b**2*sin(theta2)**2 + 4*a**2*b**2*cos(theta2)**2 - 2*a**2*b**2 + 2*a**2*c**2 - 4*a**2*d**2*cos(theta2)**2 - 2*a**2*d**2 - 4*a*b**2*d*cos(theta2) - 4*a*c**2*d*cos(theta2) + 4*a*d**3*cos(theta2) - b**4 + 2*b**2*c**2 + 2*b**2*d**2 - c**4 + 2*c**2*d**2 - d**4))/(a**2 - 2*a*b*cos(theta2) - 2*a*d*cos(theta2) + b**2 + 2*b*d - c**2 + d**2))"
      ]
     },
     "execution_count": 110,
     "metadata": {},
     "output_type": "execute_result"
    }
   ],
   "source": [
    "theta3_1 = 2*atan(sol2[0])\n",
    "theta3_1"
   ]
  },
  {
   "cell_type": "code",
   "execution_count": 111,
   "metadata": {
    "slideshow": {
     "slide_type": "skip"
    }
   },
   "outputs": [
    {
     "data": {
      "text/latex": [
       "$\\displaystyle -2.70637938042386$"
      ],
      "text/plain": [
       "-2.70637938042386"
      ]
     },
     "execution_count": 111,
     "metadata": {},
     "output_type": "execute_result"
    }
   ],
   "source": [
    "theta3_1.subs(dic1).evalf()"
   ]
  },
  {
   "cell_type": "markdown",
   "metadata": {
    "slideshow": {
     "slide_type": "skip"
    }
   },
   "source": [
    "Caso queira copiar e colar a solução de $\\theta_3$ e $\\theta_4$ para usar em outro código, use o comando print():"
   ]
  },
  {
   "cell_type": "code",
   "execution_count": 112,
   "metadata": {
    "slideshow": {
     "slide_type": "skip"
    }
   },
   "outputs": [
    {
     "name": "stdout",
     "output_type": "stream",
     "text": [
      "2*atan((-2*a*b*sin(theta2) - sqrt(-a**4 + 4*a**3*d*cos(theta2) + 4*a**2*b**2*sin(theta2)**2 + 4*a**2*b**2*cos(theta2)**2 - 2*a**2*b**2 + 2*a**2*c**2 - 4*a**2*d**2*cos(theta2)**2 - 2*a**2*d**2 - 4*a*b**2*d*cos(theta2) - 4*a*c**2*d*cos(theta2) + 4*a*d**3*cos(theta2) - b**4 + 2*b**2*c**2 + 2*b**2*d**2 - c**4 + 2*c**2*d**2 - d**4))/(a**2 - 2*a*b*cos(theta2) - 2*a*d*cos(theta2) + b**2 + 2*b*d - c**2 + d**2))\n"
     ]
    }
   ],
   "source": [
    "print(theta3_1)"
   ]
  },
  {
   "cell_type": "code",
   "execution_count": 113,
   "metadata": {
    "slideshow": {
     "slide_type": "skip"
    }
   },
   "outputs": [
    {
     "name": "stdout",
     "output_type": "stream",
     "text": [
      "2*atan((2*a*c*sin(theta2) - sqrt(-a**4 + 4*a**3*d*cos(theta2) + 2*a**2*b**2 + 4*a**2*c**2*sin(theta2)**2 + 4*a**2*c**2*cos(theta2)**2 - 2*a**2*c**2 - 4*a**2*d**2*cos(theta2)**2 - 2*a**2*d**2 - 4*a*b**2*d*cos(theta2) - 4*a*c**2*d*cos(theta2) + 4*a*d**3*cos(theta2) - b**4 + 2*b**2*c**2 + 2*b**2*d**2 - c**4 + 2*c**2*d**2 - d**4))/(a**2 + 2*a*c*cos(theta2) - 2*a*d*cos(theta2) - b**2 + c**2 - 2*c*d + d**2))\n"
     ]
    }
   ],
   "source": [
    "print(theta4_1)"
   ]
  },
  {
   "cell_type": "code",
   "execution_count": 114,
   "metadata": {},
   "outputs": [
    {
     "name": "stdout",
     "output_type": "stream",
     "text": [
      "2 \\operatorname{atan}{\\left(\\frac{- 2 a b \\sin{\\left(\\theta_{2} \\right)} - \\sqrt{- a^{4} + 4 a^{3} d \\cos{\\left(\\theta_{2} \\right)} + 4 a^{2} b^{2} \\sin^{2}{\\left(\\theta_{2} \\right)} + 4 a^{2} b^{2} \\cos^{2}{\\left(\\theta_{2} \\right)} - 2 a^{2} b^{2} + 2 a^{2} c^{2} - 4 a^{2} d^{2} \\cos^{2}{\\left(\\theta_{2} \\right)} - 2 a^{2} d^{2} - 4 a b^{2} d \\cos{\\left(\\theta_{2} \\right)} - 4 a c^{2} d \\cos{\\left(\\theta_{2} \\right)} + 4 a d^{3} \\cos{\\left(\\theta_{2} \\right)} - b^{4} + 2 b^{2} c^{2} + 2 b^{2} d^{2} - c^{4} + 2 c^{2} d^{2} - d^{4}}}{a^{2} - 2 a b \\cos{\\left(\\theta_{2} \\right)} - 2 a d \\cos{\\left(\\theta_{2} \\right)} + b^{2} + 2 b d - c^{2} + d^{2}} \\right)}\n"
     ]
    }
   ],
   "source": [
    "print(latex(theta3_1))"
   ]
  },
  {
   "cell_type": "markdown",
   "metadata": {
    "slideshow": {
     "slide_type": "slide"
    }
   },
   "source": [
    "## 4.6 Solução para Análise de Posições no Mecanismo Biela-Manivela"
   ]
  },
  {
   "cell_type": "markdown",
   "metadata": {
    "slideshow": {
     "slide_type": "subslide"
    }
   },
   "source": [
    "A mesma análise feita para o vetor laço utilizada para a junta pinada de quatro barras pode ser aplicada ao mecanismo."
   ]
  },
  {
   "cell_type": "code",
   "execution_count": 115,
   "metadata": {
    "slideshow": {
     "slide_type": "fragment"
    }
   },
   "outputs": [
    {
     "data": {
      "image/svg+xml": [
       "<svg xmlns:dc=\"http://purl.org/dc/elements/1.1/\" xmlns:cc=\"http://creativecommons.org/ns#\" xmlns:rdf=\"http://www.w3.org/1999/02/22-rdf-syntax-ns#\" xmlns:svg=\"http://www.w3.org/2000/svg\" xmlns=\"http://www.w3.org/2000/svg\" xmlns:sodipodi=\"http://sodipodi.sourceforge.net/DTD/sodipodi-0.dtd\" xmlns:inkscape=\"http://www.inkscape.org/namespaces/inkscape\" width=\"226.9158mm\" height=\"128.22804mm\" viewBox=\"0 0 226.9158 128.22804\" version=\"1.1\" id=\"svg8\" sodipodi:docname=\"figs4-8.svg\" inkscape:version=\"1.0.1 (3bc2e813f5, 2020-09-07)\">\n",
       "  <defs id=\"defs2\">\n",
       "    <marker style=\"overflow:visible;\" id=\"marker5535\" refX=\"0.0\" refY=\"0.0\" orient=\"auto\" inkscape:stockid=\"Arrow1Lend\" inkscape:isstock=\"true\">\n",
       "      <path transform=\"scale(0.8) rotate(180) translate(12.5,0)\" style=\"fill-rule:evenodd;stroke:#000000;stroke-width:1pt;stroke-opacity:1;fill:#000000;fill-opacity:1\" d=\"M 0.0,0.0 L 5.0,-5.0 L -12.5,0.0 L 5.0,5.0 L 0.0,0.0 z \" id=\"path5533\"/>\n",
       "    </marker>\n",
       "    <marker style=\"overflow:visible\" id=\"marker5423\" refX=\"0.0\" refY=\"0.0\" orient=\"auto\" inkscape:stockid=\"Arrow1Lstart\" inkscape:isstock=\"true\">\n",
       "      <path transform=\"scale(0.8) translate(12.5,0)\" style=\"fill-rule:evenodd;stroke:#000000;stroke-width:1pt;stroke-opacity:1;fill:#000000;fill-opacity:1\" d=\"M 0.0,0.0 L 5.0,-5.0 L -12.5,0.0 L 5.0,5.0 L 0.0,0.0 z \" id=\"path5421\"/>\n",
       "    </marker>\n",
       "    <marker style=\"overflow:visible;\" id=\"Arrow1Lend\" refX=\"0.0\" refY=\"0.0\" orient=\"auto\" inkscape:stockid=\"Arrow1Lend\" inkscape:isstock=\"true\">\n",
       "      <path transform=\"scale(0.8) rotate(180) translate(12.5,0)\" style=\"fill-rule:evenodd;stroke:#000000;stroke-width:1pt;stroke-opacity:1;fill:#000000;fill-opacity:1\" d=\"M 0.0,0.0 L 5.0,-5.0 L -12.5,0.0 L 5.0,5.0 L 0.0,0.0 z \" id=\"path939\"/>\n",
       "    </marker>\n",
       "    <marker style=\"overflow:visible\" id=\"marker5255\" refX=\"0\" refY=\"0\" orient=\"auto\" inkscape:stockid=\"Arrow1Lend\" inkscape:isstock=\"true\">\n",
       "      <path transform=\"matrix(-0.8,0,0,-0.8,-10,0)\" style=\"fill:#000000;fill-opacity:1;fill-rule:evenodd;stroke:#000000;stroke-width:1pt;stroke-opacity:1\" d=\"M 0,0 5,-5 -12.5,0 5,5 Z\" id=\"path5253\"/>\n",
       "    </marker>\n",
       "    <marker style=\"overflow:visible\" id=\"Arrow1Sstart\" refX=\"0.0\" refY=\"0.0\" orient=\"auto\" inkscape:stockid=\"Arrow1Sstart\" inkscape:isstock=\"true\">\n",
       "      <path transform=\"scale(0.2) translate(6,0)\" style=\"fill-rule:evenodd;stroke:#000000;stroke-width:1pt;stroke-opacity:1;fill:#000000;fill-opacity:1\" d=\"M 0.0,0.0 L 5.0,-5.0 L -12.5,0.0 L 5.0,5.0 L 0.0,0.0 z \" id=\"path948\"/>\n",
       "    </marker>\n",
       "    <marker style=\"overflow:visible\" id=\"marker1664\" refX=\"0\" refY=\"0\" orient=\"auto\" inkscape:stockid=\"Arrow1Lend\" inkscape:isstock=\"true\" inkscape:collect=\"always\">\n",
       "      <path transform=\"matrix(-0.8,0,0,-0.8,-10,0)\" style=\"fill:#000000;fill-opacity:1;fill-rule:evenodd;stroke:#000000;stroke-width:1pt;stroke-opacity:1\" d=\"M 0,0 5,-5 -12.5,0 5,5 Z\" id=\"path1662\"/>\n",
       "    </marker>\n",
       "    <marker style=\"overflow:visible\" id=\"marker1590\" refX=\"0\" refY=\"0\" orient=\"auto\" inkscape:stockid=\"Arrow1Lend\" inkscape:isstock=\"true\" inkscape:collect=\"always\">\n",
       "      <path transform=\"matrix(-0.8,0,0,-0.8,-10,0)\" style=\"fill:#000000;fill-opacity:1;fill-rule:evenodd;stroke:#000000;stroke-width:1pt;stroke-opacity:1\" d=\"M 0,0 5,-5 -12.5,0 5,5 Z\" id=\"path1588\"/>\n",
       "    </marker>\n",
       "    <marker style=\"overflow:visible\" id=\"marker1524\" refX=\"0\" refY=\"0\" orient=\"auto\" inkscape:stockid=\"Arrow1Lend\" inkscape:isstock=\"true\" inkscape:collect=\"always\">\n",
       "      <path transform=\"matrix(-0.8,0,0,-0.8,-10,0)\" style=\"fill:#000000;fill-opacity:1;fill-rule:evenodd;stroke:#000000;stroke-width:1pt;stroke-opacity:1\" d=\"M 0,0 5,-5 -12.5,0 5,5 Z\" id=\"path1522\"/>\n",
       "    </marker>\n",
       "    <marker style=\"overflow:visible\" id=\"marker1424\" refX=\"0\" refY=\"0\" orient=\"auto\" inkscape:stockid=\"Arrow1Lend\" inkscape:isstock=\"true\" inkscape:collect=\"always\">\n",
       "      <path transform=\"matrix(-0.8,0,0,-0.8,-10,0)\" style=\"fill:#000000;fill-opacity:1;fill-rule:evenodd;stroke:#000000;stroke-width:1pt;stroke-opacity:1\" d=\"M 0,0 5,-5 -12.5,0 5,5 Z\" id=\"path1422\"/>\n",
       "    </marker>\n",
       "    <marker style=\"overflow:visible\" id=\"marker1370\" refX=\"0\" refY=\"0\" orient=\"auto\" inkscape:stockid=\"Arrow1Lend\" inkscape:isstock=\"true\" inkscape:collect=\"always\">\n",
       "      <path transform=\"matrix(-0.8,0,0,-0.8,-10,0)\" style=\"fill:#000000;fill-opacity:1;fill-rule:evenodd;stroke:#000000;stroke-width:1pt;stroke-opacity:1\" d=\"M 0,0 5,-5 -12.5,0 5,5 Z\" id=\"path1368\"/>\n",
       "    </marker>\n",
       "    <marker style=\"overflow:visible\" id=\"marker1322\" refX=\"0\" refY=\"0\" orient=\"auto\" inkscape:stockid=\"Arrow1Lend\" inkscape:isstock=\"true\" inkscape:collect=\"always\">\n",
       "      <path transform=\"matrix(-0.8,0,0,-0.8,-10,0)\" style=\"fill:#000000;fill-opacity:1;fill-rule:evenodd;stroke:#000000;stroke-width:1pt;stroke-opacity:1\" d=\"M 0,0 5,-5 -12.5,0 5,5 Z\" id=\"path1320\"/>\n",
       "    </marker>\n",
       "    <marker style=\"overflow:visible\" id=\"marker1282\" refX=\"0\" refY=\"0\" orient=\"auto\" inkscape:stockid=\"Arrow1Lend\" inkscape:isstock=\"true\" inkscape:collect=\"always\">\n",
       "      <path transform=\"matrix(-0.8,0,0,-0.8,-10,0)\" style=\"fill:#000000;fill-opacity:1;fill-rule:evenodd;stroke:#000000;stroke-width:1pt;stroke-opacity:1\" d=\"M 0,0 5,-5 -12.5,0 5,5 Z\" id=\"path1280\"/>\n",
       "    </marker>\n",
       "    <marker style=\"overflow:visible\" id=\"Arrow1Lstart\" refX=\"0\" refY=\"0\" orient=\"auto\" inkscape:stockid=\"Arrow1Lstart\" inkscape:isstock=\"true\">\n",
       "      <path transform=\"matrix(0.8,0,0,0.8,10,0)\" style=\"fill:#000000;fill-opacity:1;fill-rule:evenodd;stroke:#000000;stroke-width:1pt;stroke-opacity:1\" d=\"M 0,0 5,-5 -12.5,0 5,5 Z\" id=\"path936\"/>\n",
       "    </marker>\n",
       "  </defs>\n",
       "  <sodipodi:namedview id=\"base\" pagecolor=\"#ffffff\" bordercolor=\"#666666\" borderopacity=\"1.0\" inkscape:pageopacity=\"0.0\" inkscape:pageshadow=\"2\" inkscape:zoom=\"0.9899495\" inkscape:cx=\"449.16674\" inkscape:cy=\"223.52649\" inkscape:document-units=\"mm\" inkscape:current-layer=\"layer9\" inkscape:document-rotation=\"0\" showgrid=\"false\" showborder=\"false\" inkscape:snap-object-midpoints=\"true\" showguides=\"true\" inkscape:guide-bbox=\"true\" inkscape:snap-smooth-nodes=\"false\" inkscape:window-width=\"1920\" inkscape:window-height=\"1017\" inkscape:window-x=\"-8\" inkscape:window-y=\"-8\" inkscape:window-maximized=\"1\" inkscape:snap-nodes=\"false\"/>\n",
       "  <metadata id=\"metadata5\">\n",
       "    <rdf:RDF>\n",
       "      <cc:Work rdf:about=\"\">\n",
       "        <dc:format>image/svg+xml</dc:format>\n",
       "        <dc:type rdf:resource=\"http://purl.org/dc/dcmitype/StillImage\"/>\n",
       "        <dc:title/>\n",
       "      </cc:Work>\n",
       "    </rdf:RDF>\n",
       "  </metadata>\n",
       "  <g inkscape:groupmode=\"layer\" id=\"layer9\" inkscape:label=\"Layer 2\">\n",
       "    <rect style=\"fill:#ffffff;stroke:#ffffff;stroke-width:0.865\" id=\"rect6862\" width=\"246.68977\" height=\"137.10927\" x=\"-5.6126599\" y=\"-5.6126595\"/>\n",
       "  </g>\n",
       "  <g inkscape:label=\"Layer 1\" inkscape:groupmode=\"layer\" id=\"layer1\" transform=\"translate(-68.702751,-59.104087)\">\n",
       "    <path id=\"path839\" style=\"fill:#ffffff;stroke:#000000;stroke-width:0.7;stroke-linejoin:bevel;stroke-miterlimit:4;stroke-dasharray:none\" d=\"m 96.957401,150.90931 a 8.2866174,8.2852108 0 0 0 -8.270837,8.28521 8.2866174,8.2852108 0 0 0 0,0.0158 v 14.48333 H 105.2598 v -14.49914 a 8.2866174,8.2852108 0 0 0 -8.286618,-8.28521 8.2866174,8.2852108 0 0 0 -0.01578,0 z\"/>\n",
       "    <path style=\"fill:none;stroke:#000000;stroke-width:0.7;stroke-linecap:butt;stroke-linejoin:miter;stroke-miterlimit:4;stroke-dasharray:none;stroke-opacity:1\" d=\"M 69.005847,173.69363 H 129.08382\" id=\"path850\"/>\n",
       "    <path style=\"fill:none;stroke:#000000;stroke-width:0.7;stroke-linecap:butt;stroke-linejoin:miter;stroke-miterlimit:4;stroke-dasharray:none;stroke-opacity:1\" d=\"m 69.005847,173.69363 7.774457,13.46347\" id=\"path852\"/>\n",
       "    <path style=\"fill:none;stroke:#000000;stroke-width:0.7;stroke-linecap:butt;stroke-linejoin:miter;stroke-miterlimit:4;stroke-dasharray:none;stroke-opacity:1\" d=\"m 82.678775,173.69363 7.774457,13.46347\" id=\"path854\"/>\n",
       "    <path style=\"fill:none;stroke:#000000;stroke-width:0.7;stroke-linecap:butt;stroke-linejoin:miter;stroke-miterlimit:4;stroke-dasharray:none;stroke-opacity:1\" d=\"m 95.937372,173.69363 7.774458,13.46347\" id=\"path856\"/>\n",
       "    <path style=\"fill:none;stroke:#000000;stroke-width:0.7;stroke-linecap:butt;stroke-linejoin:miter;stroke-miterlimit:4;stroke-dasharray:none;stroke-opacity:1\" d=\"m 109.6103,173.69363 7.77446,13.46347\" id=\"path858\"/>\n",
       "    <path style=\"fill:none;stroke:#000000;stroke-width:0.7;stroke-linecap:butt;stroke-linejoin:miter;stroke-miterlimit:4;stroke-dasharray:none;stroke-opacity:1\" d=\"m 123.28323,173.69363 7.77446,13.46347\" id=\"path860\"/>\n",
       "    <ellipse style=\"fill:#ffffff;stroke:#000000;stroke-width:0.7;stroke-linejoin:bevel\" id=\"path1592\" cx=\"97.018646\" cy=\"159.09558\" rx=\"2.8965883\" ry=\"2.8960967\"/>\n",
       "    <g id=\"g932\" transform=\"matrix(0.7829875,0,0,0.78285459,196.20944,-45.77317)\" style=\"stroke-width:1.27727\">\n",
       "      <path style=\"fill:none;stroke:#000000;stroke-width:0.894088;stroke-linecap:butt;stroke-linejoin:miter;stroke-miterlimit:4;stroke-dasharray:none;stroke-opacity:1\" d=\"M 12.658886,206.80346 H 89.388052\" id=\"path914\"/>\n",
       "      <path style=\"fill:none;stroke:#000000;stroke-width:0.894088;stroke-linecap:butt;stroke-linejoin:miter;stroke-miterlimit:4;stroke-dasharray:none;stroke-opacity:1\" d=\"m 12.658886,206.80346 9.929222,17.19792\" id=\"path916\"/>\n",
       "      <path style=\"fill:none;stroke:#000000;stroke-width:0.894088;stroke-linecap:butt;stroke-linejoin:miter;stroke-miterlimit:4;stroke-dasharray:none;stroke-opacity:1\" d=\"m 30.121397,206.80346 9.929222,17.19792\" id=\"path918\"/>\n",
       "      <path style=\"fill:none;stroke:#000000;stroke-width:0.894088;stroke-linecap:butt;stroke-linejoin:miter;stroke-miterlimit:4;stroke-dasharray:none;stroke-opacity:1\" d=\"m 47.054741,206.80346 9.929222,17.19792\" id=\"path920\"/>\n",
       "      <path style=\"fill:none;stroke:#000000;stroke-width:0.894088;stroke-linecap:butt;stroke-linejoin:miter;stroke-miterlimit:4;stroke-dasharray:none;stroke-opacity:1\" d=\"m 64.517252,206.80346 9.929222,17.19792\" id=\"path922\"/>\n",
       "      <path style=\"fill:none;stroke:#000000;stroke-width:0.894088;stroke-linecap:butt;stroke-linejoin:miter;stroke-miterlimit:4;stroke-dasharray:none;stroke-opacity:1\" d=\"m 81.979763,206.80346 9.92923,17.19792\" id=\"path924\"/>\n",
       "    </g>\n",
       "    <ellipse style=\"fill:#ffffff;stroke:#000000;stroke-width:0.7;stroke-linejoin:bevel\" id=\"circle1264\" cx=\"129.7794\" cy=\"122.59937\" rx=\"2.8965883\" ry=\"2.8960967\"/>\n",
       "    <path style=\"fill:none;stroke:#000000;stroke-width:0.265;stroke-linecap:butt;stroke-linejoin:miter;stroke-miterlimit:4;stroke-dasharray:none;stroke-opacity:1;marker-start:url(#marker5423);marker-end:url(#marker5535)\" d=\"M 293.3824,159.09558 H 97.018644 V 62.084861\" id=\"path934\"/>\n",
       "    <rect style=\"fill:#ffffff;stroke:#000000;stroke-width:0.665;stroke-linejoin:bevel;stroke-miterlimit:4;stroke-dasharray:none\" id=\"rect1250\" width=\"33.076664\" height=\"19.859892\" x=\"219.79411\" y=\"96.263969\"/>\n",
       "    <ellipse style=\"fill:#ffffff;stroke:#000000;stroke-width:0.7;stroke-linejoin:bevel\" id=\"circle1266\" cx=\"236.33244\" cy=\"106.19392\" rx=\"2.8965883\" ry=\"2.8960967\"/>\n",
       "    <path style=\"fill:none;stroke:#000000;stroke-width:0.765;stroke-linecap:butt;stroke-linejoin:miter;stroke-miterlimit:4;stroke-dasharray:none;stroke-opacity:1;marker-end:url(#marker1322)\" d=\"M 97.018644,159.09558 129.7794,122.59936\" id=\"path1268\"/>\n",
       "    <path style=\"fill:none;stroke:#000000;stroke-width:0.765;stroke-linecap:butt;stroke-linejoin:miter;stroke-miterlimit:4;stroke-dasharray:none;stroke-opacity:1;marker-end:url(#marker1282)\" d=\"M 129.7794,122.59936 236.33245,106.19392\" id=\"path1270\"/>\n",
       "    <path style=\"fill:none;stroke:#000000;stroke-width:0.765;stroke-linecap:butt;stroke-linejoin:miter;stroke-miterlimit:4;stroke-dasharray:none;stroke-opacity:1;marker-end:url(#marker1370)\" d=\"M 97.018644,159.09558 H 236.33244\" id=\"path1360\"/>\n",
       "    <path style=\"fill:none;stroke:#000000;stroke-width:0.765;stroke-linecap:butt;stroke-linejoin:miter;stroke-miterlimit:4;stroke-dasharray:none;stroke-opacity:1;marker-end:url(#marker1424)\" d=\"m 236.33244,159.09558 1e-5,-52.90166\" id=\"path1414\"/>\n",
       "    <path style=\"fill:none;stroke:#000000;stroke-width:0.264583;stroke-linecap:butt;stroke-linejoin:miter;stroke-miterlimit:4;stroke-dasharray:2.11666, 2.11666;stroke-dashoffset:0;stroke-opacity:1\" d=\"m 236.33245,106.19392 h 39.48456\" id=\"path1474\"/>\n",
       "    <text xml:space=\"preserve\" style=\"font-size:6.07633px;line-height:1.25;font-family:sans-serif;-inkscape-font-specification:sans-serif;stroke-width:0.264583\" x=\"89.542496\" y=\"63.538773\" id=\"text1478\" transform=\"scale(1.0000849,0.99991512)\"><tspan sodipodi:role=\"line\" id=\"tspan1476\" x=\"89.542496\" y=\"63.538773\" style=\"stroke-width:0.264583\">Y</tspan></text>\n",
       "    <text xml:space=\"preserve\" style=\"font-size:6.07633px;line-height:1.25;font-family:sans-serif;-inkscape-font-specification:sans-serif;stroke-width:0.264583\" x=\"291.6207\" y=\"167.1553\" id=\"text1482\" transform=\"scale(1.0000849,0.99991512)\"><tspan sodipodi:role=\"line\" id=\"tspan1480\" x=\"291.6207\" y=\"167.1553\" style=\"stroke-width:0.264583\">X</tspan></text>\n",
       "    <g id=\"g1490\" style=\"stroke-width:0.766361;stroke-miterlimit:4;stroke-dasharray:none\" transform=\"matrix(0.7829875,0,0,0.78285459,133.61675,73.713088)\">\n",
       "      <ellipse style=\"fill:#ffffff;stroke:#000000;stroke-width:0.766361;stroke-linejoin:bevel;stroke-miterlimit:4;stroke-dasharray:none;stroke-dashoffset:0\" id=\"path1484\" cx=\"-8.070385\" cy=\"94.949799\" rx=\"2.6678991\" ry=\"4.3125429\"/>\n",
       "      <path style=\"fill:none;stroke:#000000;stroke-width:0.766361;stroke-linecap:butt;stroke-linejoin:miter;stroke-miterlimit:4;stroke-dasharray:none;stroke-opacity:1\" d=\"m -10.738284,94.949797 h 5.3357983\" id=\"path1486\"/>\n",
       "    </g>\n",
       "    <text xml:space=\"preserve\" style=\"font-size:7.78804px;line-height:1.25;font-family:sans-serif;-inkscape-font-specification:sans-serif;stroke-width:0.264583\" x=\"90.763702\" y=\"168.94272\" id=\"text1494\" transform=\"scale(1.0000849,0.99991512)\"><tspan sodipodi:role=\"line\" id=\"tspan1492\" x=\"90.763702\" y=\"168.94272\" style=\"stroke-width:0.264583\">O<tspan style=\"font-size:5.06223px;baseline-shift:sub;stroke-width:0.264583\" id=\"tspan1496\">2</tspan></tspan></text>\n",
       "    <text xml:space=\"preserve\" style=\"font-size:6.07633px;line-height:1.25;font-family:sans-serif;-inkscape-font-specification:sans-serif;stroke-width:0.264583\" x=\"107.08239\" y=\"140.46381\" id=\"text1500\" transform=\"scale(1.0000849,0.99991512)\"><tspan sodipodi:role=\"line\" id=\"tspan1498\" x=\"107.08239\" y=\"140.46381\" style=\"stroke-width:0.264583\">a</tspan></text>\n",
       "    <text xml:space=\"preserve\" style=\"font-size:6.07633px;line-height:1.25;font-family:sans-serif;-inkscape-font-specification:sans-serif;stroke-width:0.264583\" x=\"163.82597\" y=\"113.86725\" id=\"text1504\" transform=\"scale(1.0000849,0.99991512)\"><tspan sodipodi:role=\"line\" id=\"tspan1502\" x=\"163.82597\" y=\"113.86725\" style=\"stroke-width:0.264583\">b</tspan></text>\n",
       "    <text xml:space=\"preserve\" style=\"font-size:6.07633px;line-height:1.25;font-family:sans-serif;-inkscape-font-specification:sans-serif;stroke-width:0.264583\" x=\"231.89894\" y=\"139.80795\" id=\"text1508\" transform=\"scale(1.0000849,0.99991512)\"><tspan sodipodi:role=\"line\" id=\"tspan1506\" x=\"231.89894\" y=\"139.80795\" style=\"stroke-width:0.264583\">c</tspan></text>\n",
       "    <text xml:space=\"preserve\" style=\"font-size:6.07633px;line-height:1.25;font-family:sans-serif;-inkscape-font-specification:sans-serif;stroke-width:0.264583\" x=\"174.91075\" y=\"156.45781\" id=\"text1512\" transform=\"scale(1.0000849,0.99991512)\"><tspan sodipodi:role=\"line\" id=\"tspan1510\" x=\"174.91075\" y=\"156.45781\" style=\"stroke-width:0.264583\">d</tspan></text>\n",
       "    <path style=\"fill:none;stroke:#000000;stroke-width:0.264583px;stroke-linecap:butt;stroke-linejoin:miter;stroke-opacity:1;marker-end:url(#marker1524)\" d=\"m 123.42736,159.12284 c 0.0668,-6.71226 -0.46079,-13.38347 -9.21293,-19.48691\" id=\"path1514\" sodipodi:nodetypes=\"cc\"/>\n",
       "    <path style=\"fill:none;stroke:#000000;stroke-width:0.264583px;stroke-linecap:butt;stroke-linejoin:miter;stroke-opacity:1;marker-end:url(#marker1590)\" d=\"m 252.32881,158.97834 c -0.50741,-12.04708 -6.78225,-18.09292 -15.99637,-21.08032\" id=\"path1580\" sodipodi:nodetypes=\"cc\"/>\n",
       "    <path style=\"fill:none;stroke:#000000;stroke-width:0.264583px;stroke-linecap:butt;stroke-linejoin:miter;stroke-opacity:1;marker-end:url(#marker1664)\" d=\"m 264.77974,105.9586 c -0.50557,-3.78571 -0.90744,-7.775171 -2.25725,-10.865914 -4.14226,-9.484799 -14.18914,-17.505306 -26.36753,-17.403009 -7.01957,0.05897 -11.62397,2.290587 -16.38736,5.484447 -8.71469,5.843209 -13.14631,16.431837 -11.57731,27.379396\" id=\"path1654\" sodipodi:nodetypes=\"csssc\"/>\n",
       "    <g id=\"g1736\" style=\"stroke-width:0.766361;stroke-miterlimit:4;stroke-dasharray:none\" transform=\"matrix(0.7829875,0,0,0.78285459,261.10701,72.008982)\">\n",
       "      <ellipse style=\"fill:#ffffff;stroke:#000000;stroke-width:0.766361;stroke-linejoin:bevel;stroke-miterlimit:4;stroke-dasharray:none;stroke-dashoffset:0\" id=\"ellipse1732\" cx=\"-8.070385\" cy=\"94.949799\" rx=\"2.6678991\" ry=\"4.3125429\"/>\n",
       "      <path style=\"fill:none;stroke:#000000;stroke-width:0.766361;stroke-linecap:butt;stroke-linejoin:miter;stroke-miterlimit:4;stroke-dasharray:none;stroke-opacity:1\" d=\"m -10.738284,94.949797 h 5.3357983\" id=\"path1734\"/>\n",
       "    </g>\n",
       "    <g id=\"g1742\" style=\"stroke-width:0.766361;stroke-miterlimit:4;stroke-dasharray:none\" transform=\"matrix(0.7829875,0,0,0.78285459,220.0951,2.1577418)\">\n",
       "      <ellipse style=\"fill:#ffffff;stroke:#000000;stroke-width:0.766361;stroke-linejoin:bevel;stroke-miterlimit:4;stroke-dasharray:none;stroke-dashoffset:0\" id=\"ellipse1738\" cx=\"-8.070385\" cy=\"94.949799\" rx=\"2.6678991\" ry=\"4.3125429\"/>\n",
       "      <path style=\"fill:none;stroke:#000000;stroke-width:0.766361;stroke-linecap:butt;stroke-linejoin:miter;stroke-miterlimit:4;stroke-dasharray:none;stroke-opacity:1\" d=\"m -10.738284,94.949797 h 5.3357983\" id=\"path1740\"/>\n",
       "    </g>\n",
       "    <text xml:space=\"preserve\" style=\"font-size:6.07633px;line-height:1.25;font-family:sans-serif;-inkscape-font-specification:sans-serif;stroke-width:0.264583\" x=\"129.57603\" y=\"153.82426\" id=\"text1750\" transform=\"scale(1.0000849,0.99991512)\"><tspan sodipodi:role=\"line\" id=\"tspan1748\" x=\"129.57603\" y=\"153.82426\" style=\"stroke-width:0.264583\">2</tspan></text>\n",
       "    <text xml:space=\"preserve\" style=\"font-size:6.07633px;line-height:1.25;font-family:sans-serif;-inkscape-font-specification:sans-serif;stroke-width:0.264583\" x=\"256.97369\" y=\"151.87671\" id=\"text1754\" transform=\"scale(1.0000849,0.99991512)\"><tspan sodipodi:role=\"line\" id=\"tspan1752\" x=\"256.97369\" y=\"151.87671\" style=\"stroke-width:0.264583\">4</tspan></text>\n",
       "    <text xml:space=\"preserve\" style=\"font-size:6.07633px;line-height:1.25;font-family:sans-serif;-inkscape-font-specification:sans-serif;stroke-width:0.264583\" x=\"215.72495\" y=\"82.286003\" id=\"text1758\" transform=\"scale(1.0000849,0.99991512)\"><tspan sodipodi:role=\"line\" id=\"tspan1756\" x=\"215.72495\" y=\"82.286003\" style=\"stroke-width:0.264583\">3</tspan></text>\n",
       "    <text xml:space=\"preserve\" style=\"font-size:9.32858px;line-height:1.25;font-family:sans-serif;-inkscape-font-specification:sans-serif;stroke-width:0.264583\" x=\"127.68673\" y=\"117.22151\" id=\"text1762\" transform=\"scale(1.0000849,0.99991512)\"><tspan sodipodi:role=\"line\" id=\"tspan1760\" x=\"127.68673\" y=\"117.22151\" style=\"stroke-width:0.264583\">A</tspan></text>\n",
       "    <text xml:space=\"preserve\" style=\"font-size:9.32858px;line-height:1.25;font-family:sans-serif;-inkscape-font-specification:sans-serif;stroke-width:0.264583\" x=\"241.32547\" y=\"104.12556\" id=\"text1766\" transform=\"scale(1.0000849,0.99991512)\"><tspan sodipodi:role=\"line\" id=\"tspan1764\" x=\"241.32547\" y=\"104.12556\" style=\"stroke-width:0.264583\">B</tspan></text>\n",
       "    <text xml:space=\"preserve\" style=\"font-size:8.97713px;line-height:1.25;font-family:sans-serif;-inkscape-font-specification:sans-serif;stroke-width:0.264583\" x=\"166.64856\" y=\"170.26924\" id=\"text1770\" transform=\"scale(1.0000849,0.99991512)\"><tspan sodipodi:role=\"line\" id=\"tspan1768\" x=\"166.64856\" y=\"170.26924\" style=\"stroke-width:0.264583\">R<tspan style=\"font-size:5.83513px;baseline-shift:sub;stroke-width:0.264583\" id=\"tspan1772\">1</tspan></tspan></text>\n",
       "    <text xml:space=\"preserve\" style=\"font-size:8.97713px;line-height:1.25;font-family:sans-serif;-inkscape-font-specification:sans-serif;stroke-width:0.264583\" x=\"109.95837\" y=\"153.45302\" id=\"text1778\" transform=\"scale(1.0000849,0.99991512)\"><tspan sodipodi:role=\"line\" id=\"tspan1776\" x=\"109.95837\" y=\"153.45302\" style=\"stroke-width:0.264583\">R<tspan style=\"font-size:5.83513px;baseline-shift:sub;stroke-width:0.264583\" id=\"tspan1792\">2</tspan></tspan></text>\n",
       "    <text xml:space=\"preserve\" style=\"font-size:8.97713px;line-height:1.25;font-family:sans-serif;-inkscape-font-specification:sans-serif;stroke-width:0.264583\" x=\"172.6469\" y=\"124.82064\" id=\"text1784\" transform=\"scale(1.0000849,0.99991512)\"><tspan sodipodi:role=\"line\" id=\"tspan1782\" x=\"172.6469\" y=\"124.82064\" style=\"stroke-width:0.264583\">R<tspan style=\"font-size:5.83513px;baseline-shift:sub;stroke-width:0.264583\" id=\"tspan1794\">3</tspan></tspan></text>\n",
       "    <text xml:space=\"preserve\" style=\"font-size:8.97713px;line-height:1.25;font-family:sans-serif;-inkscape-font-specification:sans-serif;stroke-width:0.264583\" x=\"242.33022\" y=\"137.96422\" id=\"text1790\" transform=\"scale(1.0000849,0.99991512)\"><tspan sodipodi:role=\"line\" id=\"tspan1788\" x=\"242.33022\" y=\"137.96422\" style=\"stroke-width:0.264583\">R<tspan style=\"font-size:5.83513px;baseline-shift:sub;stroke-width:0.264583\" id=\"tspan1796\">4</tspan></tspan></text>\n",
       "  </g>\n",
       "</svg>"
      ],
      "text/plain": [
       "<IPython.core.display.SVG object>"
      ]
     },
     "execution_count": 115,
     "metadata": {},
     "output_type": "execute_result"
    }
   ],
   "source": [
    "SVG('figs4-8.svg')"
   ]
  },
  {
   "cell_type": "markdown",
   "metadata": {
    "slideshow": {
     "slide_type": "fragment"
    }
   },
   "source": [
    "$$\\vec{R}_2 + \\vec{R}_3 - \\vec{R}_4 - \\vec{R}_1 = 0$$"
   ]
  },
  {
   "cell_type": "code",
   "execution_count": 116,
   "metadata": {
    "slideshow": {
     "slide_type": "fragment"
    }
   },
   "outputs": [],
   "source": [
    "R2 = a*e**(i*theta2)\n",
    "R3 = b*e**(i*theta3)\n",
    "R4 = c*e**(i*theta4)\n",
    "R1 = d*e**(i*theta1)"
   ]
  },
  {
   "cell_type": "code",
   "execution_count": 117,
   "metadata": {
    "slideshow": {
     "slide_type": "fragment"
    }
   },
   "outputs": [
    {
     "data": {
      "text/latex": [
       "$\\displaystyle a e^{i \\theta_{2}} - b e^{i \\theta_{3}} - c e^{i \\theta_{4}} - d e^{i \\theta_{1}}$"
      ],
      "text/plain": [
       "a*exp(I*theta2) - b*exp(I*theta3) - c*exp(I*theta4) - d*exp(I*theta1)"
      ]
     },
     "execution_count": 117,
     "metadata": {},
     "output_type": "execute_result"
    }
   ],
   "source": [
    "eq1 = R2 - R3 - R4 - R1\n",
    "eq1"
   ]
  },
  {
   "cell_type": "markdown",
   "metadata": {
    "slideshow": {
     "slide_type": "fragment"
    }
   },
   "source": [
    "Observa-se que $\\theta_1 = 0$ e $\\theta_4 = 90^{\\circ}$"
   ]
  },
  {
   "cell_type": "code",
   "execution_count": 118,
   "metadata": {
    "slideshow": {
     "slide_type": "fragment"
    }
   },
   "outputs": [
    {
     "data": {
      "text/latex": [
       "$\\displaystyle a e^{i \\theta_{2}} - b e^{i \\theta_{3}} - i c - d$"
      ],
      "text/plain": [
       "a*exp(I*theta2) - b*exp(I*theta3) - I*c - d"
      ]
     },
     "execution_count": 118,
     "metadata": {},
     "output_type": "execute_result"
    }
   ],
   "source": [
    "eq1 = eq1.subs(theta1,0)\n",
    "eq1 = eq1.subs(theta4,pi/2)\n",
    "eq1"
   ]
  },
  {
   "cell_type": "code",
   "execution_count": 119,
   "metadata": {
    "slideshow": {
     "slide_type": "fragment"
    }
   },
   "outputs": [
    {
     "data": {
      "text/latex": [
       "$\\displaystyle i a \\sin{\\left(\\theta_{2} \\right)} + a \\cos{\\left(\\theta_{2} \\right)} - i b \\sin{\\left(\\theta_{3} \\right)} - b \\cos{\\left(\\theta_{3} \\right)} - i c - d$"
      ],
      "text/plain": [
       "I*a*sin(theta2) + a*cos(theta2) - I*b*sin(theta3) - b*cos(theta3) - I*c - d"
      ]
     },
     "execution_count": 119,
     "metadata": {},
     "output_type": "execute_result"
    }
   ],
   "source": [
    "eq2 = eq1.subs(id_euler).expand()\n",
    "eq2"
   ]
  },
  {
   "cell_type": "code",
   "execution_count": 120,
   "metadata": {
    "slideshow": {
     "slide_type": "fragment"
    }
   },
   "outputs": [
    {
     "data": {
      "text/latex": [
       "$\\displaystyle a \\cos{\\left(\\theta_{2} \\right)} - b \\cos{\\left(\\theta_{3} \\right)} - d$"
      ],
      "text/plain": [
       "a*cos(theta2) - b*cos(theta3) - d"
      ]
     },
     "execution_count": 120,
     "metadata": {},
     "output_type": "execute_result"
    }
   ],
   "source": [
    "eq2_real = eq2.subs(i,0)\n",
    "eq2_real"
   ]
  },
  {
   "cell_type": "code",
   "execution_count": 121,
   "metadata": {
    "slideshow": {
     "slide_type": "fragment"
    }
   },
   "outputs": [
    {
     "data": {
      "text/latex": [
       "$\\displaystyle a \\sin{\\left(\\theta_{2} \\right)} - b \\sin{\\left(\\theta_{3} \\right)} - c$"
      ],
      "text/plain": [
       "a*sin(theta2) - b*sin(theta3) - c"
      ]
     },
     "execution_count": 121,
     "metadata": {},
     "output_type": "execute_result"
    }
   ],
   "source": [
    "eq2_im = (eq2 - eq2_real).subs(i,1)\n",
    "eq2_im"
   ]
  },
  {
   "cell_type": "code",
   "execution_count": 122,
   "metadata": {
    "slideshow": {
     "slide_type": "fragment"
    }
   },
   "outputs": [
    {
     "data": {
      "text/plain": [
       "[pi - asin((a*sin(theta2) - c)/b), asin((a*sin(theta2) - c)/b)]"
      ]
     },
     "execution_count": 122,
     "metadata": {},
     "output_type": "execute_result"
    }
   ],
   "source": [
    "th3 = solve(eq2_im,theta3)\n",
    "th3"
   ]
  },
  {
   "cell_type": "markdown",
   "metadata": {
    "slideshow": {
     "slide_type": "fragment"
    }
   },
   "source": [
    "Note que existem novamente duas soluções correspondentes aos dois circuitos do mecanismo. A função *arco seno* possui duas soluções."
   ]
  },
  {
   "cell_type": "code",
   "execution_count": 123,
   "metadata": {
    "slideshow": {
     "slide_type": "fragment"
    }
   },
   "outputs": [
    {
     "data": {
      "text/latex": [
       "$\\displaystyle \\operatorname{asin}{\\left(\\frac{a \\sin{\\left(\\theta_{2} \\right)} - c}{b} \\right)}$"
      ],
      "text/plain": [
       "asin((a*sin(theta2) - c)/b)"
      ]
     },
     "execution_count": 123,
     "metadata": {},
     "output_type": "execute_result"
    }
   ],
   "source": [
    "th3 = th3[1]\n",
    "th3"
   ]
  },
  {
   "cell_type": "code",
   "execution_count": 124,
   "metadata": {
    "slideshow": {
     "slide_type": "fragment"
    }
   },
   "outputs": [
    {
     "data": {
      "text/plain": [
       "[a*cos(theta2) - b*cos(theta3)]"
      ]
     },
     "execution_count": 124,
     "metadata": {},
     "output_type": "execute_result"
    }
   ],
   "source": [
    "dsol = solve(eq2_real,d)\n",
    "dsol"
   ]
  },
  {
   "cell_type": "code",
   "execution_count": 125,
   "metadata": {
    "slideshow": {
     "slide_type": "fragment"
    }
   },
   "outputs": [
    {
     "data": {
      "text/latex": [
       "$\\displaystyle a \\cos{\\left(\\theta_{2} \\right)} - b \\cos{\\left(\\theta_{3} \\right)}$"
      ],
      "text/plain": [
       "a*cos(theta2) - b*cos(theta3)"
      ]
     },
     "execution_count": 125,
     "metadata": {},
     "output_type": "execute_result"
    }
   ],
   "source": [
    "dsol = dsol[0]\n",
    "dsol"
   ]
  },
  {
   "cell_type": "code",
   "execution_count": 126,
   "metadata": {
    "slideshow": {
     "slide_type": "fragment"
    }
   },
   "outputs": [
    {
     "data": {
      "text/latex": [
       "$\\displaystyle a \\cos{\\left(\\theta_{2} \\right)} - b \\sqrt{1 - \\frac{\\left(a \\sin{\\left(\\theta_{2} \\right)} - c\\right)^{2}}{b^{2}}}$"
      ],
      "text/plain": [
       "a*cos(theta2) - b*sqrt(1 - (a*sin(theta2) - c)**2/b**2)"
      ]
     },
     "execution_count": 126,
     "metadata": {},
     "output_type": "execute_result"
    }
   ],
   "source": [
    "dsol = dsol.subs(theta3,th3)\n",
    "dsol"
   ]
  },
  {
   "cell_type": "markdown",
   "metadata": {
    "slideshow": {
     "slide_type": "slide"
    }
   },
   "source": [
    "## 4.7 Ângulos de Transmissão"
   ]
  },
  {
   "cell_type": "markdown",
   "metadata": {
    "slideshow": {
     "slide_type": "subslide"
    }
   },
   "source": [
    "O ângulo de transmissão $\\mu$ é definido como o *ângulo entre o elo de saída e o acoplador*. <br>\n",
    "Iremos expandir essa definição para representar o ângulo entre quaisquer elos em um mecanismo.  -> O ângulo entre qualquer elo de saída e o acoplador que o movimenta é um ângulo de transmissão. \n",
    "<br>\n",
    "Agora que desenvolvemos as expressões analíticas para os ângulos de todos os elos do mecanismo, fica fácil determinar algebricamente o ângulo de transmissão. Ele é apenas a diferença entre os ângulos dos dois elos.<br>\n",
    "Por convenção, tomamos o valor absoluto da diferença e o forçamos a ser um ângulo agudo. \n",
    "$$\\theta_{trans} = | \\theta_3 - \\theta_4 |$$\n",
    "se $\\theta_{trans} > \\pi/2$ então $\\mu = \\pi - \\theta_{trans}$ caso contrário $\\mu = \\theta_{trans}$"
   ]
  },
  {
   "cell_type": "code",
   "execution_count": 127,
   "metadata": {
    "slideshow": {
     "slide_type": "fragment"
    }
   },
   "outputs": [],
   "source": [
    "def ang_trans(th3,th4):\n",
    "    th_trans = abs(th3 - th4)\n",
    "    pi = 3.14159265358979\n",
    "    if th_trans > (pi)/2:\n",
    "        return pi - th_trans\n",
    "    else:\n",
    "        return th_trans"
   ]
  },
  {
   "cell_type": "markdown",
   "metadata": {
    "slideshow": {
     "slide_type": "fragment"
    }
   },
   "source": [
    "Esse cálculo pode ser feito para qualquer junta de um mecanismo, utilizando os ângulos dos elos apropriados."
   ]
  },
  {
   "cell_type": "markdown",
   "metadata": {
    "slideshow": {
     "slide_type": "subslide"
    }
   },
   "source": [
    "### Valores extremos do ângulo de transmissão\n",
    "Para um mecanismo manivela de quatro barras de Grashof, o valor mínimo do ângulo de transmissão ocorrerá quando a manivela for colinear ao elo terra. Os valores do ângulo de transmissão nessas posições são facilmente calculados pela lei dos cossenos. <br>\n",
    "Dependendo da geometria do mecanismo, o valor mínimo de transmissão $\\mu_{min}$ poderá ocorrer quando os elos 1 e 2 forem colineares e sobrepostos, ou quando os elos 1 e 2 forem colineares e não sobrepostos."
   ]
  },
  {
   "cell_type": "code",
   "execution_count": 128,
   "metadata": {
    "slideshow": {
     "slide_type": "fragment"
    }
   },
   "outputs": [
    {
     "data": {
      "image/svg+xml": [
       "<svg xmlns:dc=\"http://purl.org/dc/elements/1.1/\" xmlns:cc=\"http://creativecommons.org/ns#\" xmlns:rdf=\"http://www.w3.org/1999/02/22-rdf-syntax-ns#\" xmlns:svg=\"http://www.w3.org/2000/svg\" xmlns=\"http://www.w3.org/2000/svg\" xmlns:sodipodi=\"http://sodipodi.sourceforge.net/DTD/sodipodi-0.dtd\" xmlns:inkscape=\"http://www.inkscape.org/namespaces/inkscape\" width=\"247.34225mm\" height=\"92.158066mm\" viewBox=\"0 0 247.34225 92.158065\" version=\"1.1\" id=\"svg2283\" inkscape:version=\"1.0.1 (3bc2e813f5, 2020-09-07)\" sodipodi:docname=\"figs4-9.svg\">\n",
       "  <defs id=\"defs2277\">\n",
       "    <marker style=\"overflow:visible;\" id=\"marker4991\" refX=\"0.0\" refY=\"0.0\" orient=\"auto\" inkscape:stockid=\"Arrow1Lend\" inkscape:isstock=\"true\">\n",
       "      <path transform=\"scale(0.8) rotate(180) translate(12.5,0)\" style=\"fill-rule:evenodd;stroke:#000000;stroke-width:1pt;stroke-opacity:1;fill:#000000;fill-opacity:1\" d=\"M 0.0,0.0 L 5.0,-5.0 L -12.5,0.0 L 5.0,5.0 L 0.0,0.0 z \" id=\"path4989\"/>\n",
       "    </marker>\n",
       "    <marker style=\"overflow:visible\" id=\"marker4885\" refX=\"0\" refY=\"0\" orient=\"auto\" inkscape:stockid=\"Arrow1Lstart\" inkscape:isstock=\"true\">\n",
       "      <path transform=\"matrix(0.8,0,0,0.8,10,0)\" style=\"fill:#000000;fill-opacity:1;fill-rule:evenodd;stroke:#000000;stroke-width:1pt;stroke-opacity:1\" d=\"M 0,0 5,-5 -12.5,0 5,5 Z\" id=\"path4883\"/>\n",
       "    </marker>\n",
       "    <marker style=\"overflow:visible\" id=\"Arrow1Mstart\" refX=\"0.0\" refY=\"0.0\" orient=\"auto\" inkscape:stockid=\"Arrow1Mstart\" inkscape:isstock=\"true\">\n",
       "      <path transform=\"scale(0.4) translate(10,0)\" style=\"fill-rule:evenodd;stroke:#000000;stroke-width:1pt;stroke-opacity:1;fill:#000000;fill-opacity:1\" d=\"M 0.0,0.0 L 5.0,-5.0 L -12.5,0.0 L 5.0,5.0 L 0.0,0.0 z \" id=\"path942\"/>\n",
       "    </marker>\n",
       "    <inkscape:path-effect effect=\"spiro\" id=\"path-effect4340\" is_visible=\"true\" lpeversion=\"1\"/>\n",
       "    <inkscape:path-effect effect=\"simplify\" id=\"path-effect4338\" is_visible=\"true\" lpeversion=\"1\" steps=\"1\" threshold=\"0.00243902\" smooth_angles=\"360\" helper_size=\"0\" simplify_individual_paths=\"false\" simplify_just_coalesce=\"false\"/>\n",
       "    <inkscape:path-effect effect=\"spiro\" id=\"path-effect4329\" is_visible=\"true\" lpeversion=\"1\"/>\n",
       "    <inkscape:path-effect effect=\"simplify\" id=\"path-effect4327\" is_visible=\"true\" lpeversion=\"1\" steps=\"1\" threshold=\"0.00243902\" smooth_angles=\"360\" helper_size=\"0\" simplify_individual_paths=\"false\" simplify_just_coalesce=\"false\"/>\n",
       "    <inkscape:path-effect effect=\"spiro\" id=\"path-effect4323\" is_visible=\"true\" lpeversion=\"1\"/>\n",
       "    <inkscape:path-effect effect=\"simplify\" id=\"path-effect4321\" is_visible=\"true\" lpeversion=\"1\" steps=\"1\" threshold=\"0.00243902\" smooth_angles=\"360\" helper_size=\"0\" simplify_individual_paths=\"false\" simplify_just_coalesce=\"false\"/>\n",
       "    <inkscape:path-effect effect=\"simplify\" id=\"path-effect4315\" is_visible=\"true\" lpeversion=\"1\" steps=\"1\" threshold=\"0.00243902\" smooth_angles=\"360\" helper_size=\"0\" simplify_individual_paths=\"false\" simplify_just_coalesce=\"false\"/>\n",
       "    <inkscape:path-effect effect=\"spiro\" id=\"path-effect4311\" is_visible=\"true\" lpeversion=\"1\"/>\n",
       "    <inkscape:path-effect effect=\"simplify\" id=\"path-effect4309\" is_visible=\"true\" lpeversion=\"1\" steps=\"1\" threshold=\"0.00243902\" smooth_angles=\"360\" helper_size=\"0\" simplify_individual_paths=\"false\" simplify_just_coalesce=\"false\"/>\n",
       "    <inkscape:path-effect effect=\"spiro\" id=\"path-effect4301\" is_visible=\"true\" lpeversion=\"1\"/>\n",
       "    <inkscape:path-effect effect=\"simplify\" id=\"path-effect4299\" is_visible=\"true\" lpeversion=\"1\" steps=\"1\" threshold=\"0.00243902\" smooth_angles=\"360\" helper_size=\"0\" simplify_individual_paths=\"false\" simplify_just_coalesce=\"false\"/>\n",
       "    <inkscape:path-effect effect=\"spiro\" id=\"path-effect4287\" is_visible=\"true\" lpeversion=\"1\"/>\n",
       "    <inkscape:path-effect effect=\"simplify\" id=\"path-effect4285\" is_visible=\"true\" lpeversion=\"1\" steps=\"1\" threshold=\"0.00243902\" smooth_angles=\"360\" helper_size=\"0\" simplify_individual_paths=\"false\" simplify_just_coalesce=\"false\"/>\n",
       "    <inkscape:path-effect effect=\"spiro\" id=\"path-effect4283\" is_visible=\"true\" lpeversion=\"1\"/>\n",
       "    <inkscape:path-effect effect=\"simplify\" id=\"path-effect4281\" is_visible=\"true\" lpeversion=\"1\" steps=\"1\" threshold=\"0.00243902\" smooth_angles=\"360\" helper_size=\"0\" simplify_individual_paths=\"false\" simplify_just_coalesce=\"false\"/>\n",
       "    <inkscape:path-effect effect=\"spiro\" id=\"path-effect4269\" is_visible=\"true\" lpeversion=\"1\"/>\n",
       "    <inkscape:path-effect effect=\"simplify\" id=\"path-effect4267\" is_visible=\"true\" lpeversion=\"1\" steps=\"1\" threshold=\"0.00243902\" smooth_angles=\"360\" helper_size=\"0\" simplify_individual_paths=\"false\" simplify_just_coalesce=\"false\"/>\n",
       "    <inkscape:path-effect effect=\"spiro\" id=\"path-effect4259\" is_visible=\"true\" lpeversion=\"1\"/>\n",
       "    <inkscape:path-effect effect=\"simplify\" id=\"path-effect4257\" is_visible=\"true\" lpeversion=\"1\" steps=\"1\" threshold=\"0.00243902\" smooth_angles=\"360\" helper_size=\"0\" simplify_individual_paths=\"false\" simplify_just_coalesce=\"false\"/>\n",
       "    <inkscape:path-effect effect=\"simplify\" id=\"path-effect4235\" is_visible=\"true\" lpeversion=\"1\" steps=\"1\" threshold=\"0.00243902\" smooth_angles=\"360\" helper_size=\"0\" simplify_individual_paths=\"false\" simplify_just_coalesce=\"false\"/>\n",
       "    <inkscape:path-effect effect=\"spiro\" id=\"path-effect4231\" is_visible=\"true\" lpeversion=\"1\"/>\n",
       "    <inkscape:path-effect effect=\"simplify\" id=\"path-effect4229\" is_visible=\"true\" lpeversion=\"1\" steps=\"1\" threshold=\"0.00243902\" smooth_angles=\"360\" helper_size=\"0\" simplify_individual_paths=\"false\" simplify_just_coalesce=\"false\"/>\n",
       "    <inkscape:path-effect effect=\"simplify\" id=\"path-effect4223\" is_visible=\"true\" lpeversion=\"1\" steps=\"1\" threshold=\"0.00243902\" smooth_angles=\"360\" helper_size=\"0\" simplify_individual_paths=\"false\" simplify_just_coalesce=\"false\"/>\n",
       "    <inkscape:path-effect effect=\"simplify\" id=\"path-effect4217\" is_visible=\"true\" lpeversion=\"1\" steps=\"1\" threshold=\"0.00243902\" smooth_angles=\"360\" helper_size=\"0\" simplify_individual_paths=\"false\" simplify_just_coalesce=\"false\"/>\n",
       "    <inkscape:path-effect effect=\"simplify\" id=\"path-effect4211\" is_visible=\"true\" lpeversion=\"1\" steps=\"1\" threshold=\"0.00243902\" smooth_angles=\"360\" helper_size=\"0\" simplify_individual_paths=\"false\" simplify_just_coalesce=\"false\"/>\n",
       "    <inkscape:path-effect effect=\"spiro\" id=\"path-effect4207\" is_visible=\"true\" lpeversion=\"1\"/>\n",
       "    <inkscape:path-effect effect=\"simplify\" id=\"path-effect4205\" is_visible=\"true\" lpeversion=\"1\" steps=\"1\" threshold=\"0.00243902\" smooth_angles=\"360\" helper_size=\"0\" simplify_individual_paths=\"false\" simplify_just_coalesce=\"false\"/>\n",
       "    <inkscape:path-effect effect=\"spiro\" id=\"path-effect4201\" is_visible=\"true\" lpeversion=\"1\"/>\n",
       "    <inkscape:path-effect effect=\"simplify\" id=\"path-effect4199\" is_visible=\"true\" lpeversion=\"1\" steps=\"1\" threshold=\"0.00243902\" smooth_angles=\"360\" helper_size=\"0\" simplify_individual_paths=\"false\" simplify_just_coalesce=\"false\"/>\n",
       "    <inkscape:path-effect effect=\"spiro\" id=\"path-effect4195\" is_visible=\"true\" lpeversion=\"1\"/>\n",
       "    <inkscape:path-effect effect=\"simplify\" id=\"path-effect4193\" is_visible=\"true\" lpeversion=\"1\" steps=\"1\" threshold=\"0.00243902\" smooth_angles=\"360\" helper_size=\"0\" simplify_individual_paths=\"false\" simplify_just_coalesce=\"false\"/>\n",
       "    <inkscape:path-effect effect=\"simplify\" id=\"path-effect4187\" is_visible=\"true\" lpeversion=\"1\" steps=\"1\" threshold=\"0.00243902\" smooth_angles=\"360\" helper_size=\"0\" simplify_individual_paths=\"false\" simplify_just_coalesce=\"false\"/>\n",
       "    <inkscape:path-effect effect=\"simplify\" id=\"path-effect4181\" is_visible=\"true\" lpeversion=\"1\" steps=\"1\" threshold=\"0.00243902\" smooth_angles=\"360\" helper_size=\"0\" simplify_individual_paths=\"false\" simplify_just_coalesce=\"false\"/>\n",
       "    <inkscape:path-effect effect=\"spiro\" id=\"path-effect4177\" is_visible=\"true\" lpeversion=\"1\"/>\n",
       "    <inkscape:path-effect effect=\"simplify\" id=\"path-effect4175\" is_visible=\"true\" lpeversion=\"1\" steps=\"1\" threshold=\"0.00243902\" smooth_angles=\"360\" helper_size=\"0\" simplify_individual_paths=\"false\" simplify_just_coalesce=\"false\"/>\n",
       "    <inkscape:path-effect effect=\"simplify\" id=\"path-effect4169\" is_visible=\"true\" lpeversion=\"1\" steps=\"1\" threshold=\"0.00243902\" smooth_angles=\"360\" helper_size=\"0\" simplify_individual_paths=\"false\" simplify_just_coalesce=\"false\"/>\n",
       "    <inkscape:path-effect effect=\"simplify\" id=\"path-effect4163\" is_visible=\"true\" lpeversion=\"1\" steps=\"1\" threshold=\"0.00243902\" smooth_angles=\"360\" helper_size=\"0\" simplify_individual_paths=\"false\" simplify_just_coalesce=\"false\"/>\n",
       "    <inkscape:path-effect effect=\"spiro\" id=\"path-effect4159\" is_visible=\"true\" lpeversion=\"1\"/>\n",
       "    <inkscape:path-effect effect=\"simplify\" id=\"path-effect4157\" is_visible=\"true\" lpeversion=\"1\" steps=\"1\" threshold=\"0.00243902\" smooth_angles=\"360\" helper_size=\"0\" simplify_individual_paths=\"false\" simplify_just_coalesce=\"false\"/>\n",
       "    <inkscape:path-effect effect=\"simplify\" id=\"path-effect4151\" is_visible=\"true\" lpeversion=\"1\" steps=\"1\" threshold=\"0.00243902\" smooth_angles=\"360\" helper_size=\"0\" simplify_individual_paths=\"false\" simplify_just_coalesce=\"false\"/>\n",
       "    <marker style=\"overflow:visible\" id=\"marker3809\" refX=\"0\" refY=\"0\" orient=\"auto\" inkscape:stockid=\"Arrow1Lend\" inkscape:isstock=\"true\">\n",
       "      <path transform=\"matrix(-0.8,0,0,-0.8,-10,0)\" style=\"fill:#000000;fill-opacity:1;fill-rule:evenodd;stroke:#000000;stroke-width:1pt;stroke-opacity:1\" d=\"M 0,0 5,-5 -12.5,0 5,5 Z\" id=\"path3807\"/>\n",
       "    </marker>\n",
       "    <marker style=\"overflow:visible\" id=\"marker3715\" refX=\"0\" refY=\"0\" orient=\"auto\" inkscape:stockid=\"Arrow1Lstart\" inkscape:isstock=\"true\" inkscape:collect=\"always\">\n",
       "      <path transform=\"matrix(0.8,0,0,0.8,10,0)\" style=\"fill:#000000;fill-opacity:1;fill-rule:evenodd;stroke:#000000;stroke-width:1pt;stroke-opacity:1\" d=\"M 0,0 5,-5 -12.5,0 5,5 Z\" id=\"path3713\"/>\n",
       "    </marker>\n",
       "    <marker style=\"overflow:visible\" id=\"marker3627\" refX=\"0\" refY=\"0\" orient=\"auto\" inkscape:stockid=\"Arrow1Lend\" inkscape:isstock=\"true\" inkscape:collect=\"always\">\n",
       "      <path transform=\"matrix(-0.8,0,0,-0.8,-10,0)\" style=\"fill:#000000;fill-opacity:1;fill-rule:evenodd;stroke:#000000;stroke-width:1pt;stroke-opacity:1\" d=\"M 0,0 5,-5 -12.5,0 5,5 Z\" id=\"path3625\"/>\n",
       "    </marker>\n",
       "    <marker style=\"overflow:visible\" id=\"marker3545\" refX=\"0\" refY=\"0\" orient=\"auto\" inkscape:stockid=\"Arrow1Lstart\" inkscape:isstock=\"true\" inkscape:collect=\"always\">\n",
       "      <path transform=\"matrix(0.8,0,0,0.8,10,0)\" style=\"fill:#000000;fill-opacity:1;fill-rule:evenodd;stroke:#000000;stroke-width:1pt;stroke-opacity:1\" d=\"M 0,0 5,-5 -12.5,0 5,5 Z\" id=\"path3543\"/>\n",
       "    </marker>\n",
       "    <marker style=\"overflow:visible\" id=\"marker3325\" refX=\"0\" refY=\"0\" orient=\"auto\" inkscape:stockid=\"Arrow1Lend\" inkscape:isstock=\"true\" inkscape:collect=\"always\">\n",
       "      <path transform=\"matrix(-0.8,0,0,-0.8,-10,0)\" style=\"fill:#000000;fill-opacity:1;fill-rule:evenodd;stroke:#000000;stroke-width:1pt;stroke-opacity:1\" d=\"M 0,0 5,-5 -12.5,0 5,5 Z\" id=\"path3323\"/>\n",
       "    </marker>\n",
       "    <marker style=\"overflow:visible\" id=\"marker3315\" refX=\"0\" refY=\"0\" orient=\"auto\" inkscape:stockid=\"Arrow1Lend\" inkscape:isstock=\"true\">\n",
       "      <path transform=\"matrix(-0.8,0,0,-0.8,-10,0)\" style=\"fill:#000000;fill-opacity:1;fill-rule:evenodd;stroke:#000000;stroke-width:1pt;stroke-opacity:1\" d=\"M 0,0 5,-5 -12.5,0 5,5 Z\" id=\"path3313\"/>\n",
       "    </marker>\n",
       "    <marker style=\"overflow:visible\" id=\"marker3305\" refX=\"0\" refY=\"0\" orient=\"auto\" inkscape:stockid=\"Arrow1Lstart\" inkscape:isstock=\"true\" inkscape:collect=\"always\">\n",
       "      <path transform=\"matrix(0.8,0,0,0.8,10,0)\" style=\"fill:#000000;fill-opacity:1;fill-rule:evenodd;stroke:#000000;stroke-width:1pt;stroke-opacity:1\" d=\"M 0,0 5,-5 -12.5,0 5,5 Z\" id=\"path3303\"/>\n",
       "    </marker>\n",
       "    <marker style=\"overflow:visible\" id=\"marker3295\" refX=\"0\" refY=\"0\" orient=\"auto\" inkscape:stockid=\"Arrow1Lstart\" inkscape:isstock=\"true\">\n",
       "      <path transform=\"matrix(0.8,0,0,0.8,10,0)\" style=\"fill:#000000;fill-opacity:1;fill-rule:evenodd;stroke:#000000;stroke-width:1pt;stroke-opacity:1\" d=\"M 0,0 5,-5 -12.5,0 5,5 Z\" id=\"path3293\"/>\n",
       "    </marker>\n",
       "    <marker style=\"overflow:visible\" id=\"marker3071\" refX=\"0\" refY=\"0\" orient=\"auto\" inkscape:stockid=\"Arrow1Lend\" inkscape:isstock=\"true\" inkscape:collect=\"always\">\n",
       "      <path transform=\"matrix(-0.8,0,0,-0.8,-10,0)\" style=\"fill:#000000;fill-opacity:1;fill-rule:evenodd;stroke:#000000;stroke-width:1pt;stroke-opacity:1\" d=\"M 0,0 5,-5 -12.5,0 5,5 Z\" id=\"path3069\"/>\n",
       "    </marker>\n",
       "    <marker style=\"overflow:visible\" id=\"marker3025\" refX=\"0\" refY=\"0\" orient=\"auto\" inkscape:stockid=\"Arrow1Lstart\" inkscape:isstock=\"true\" inkscape:collect=\"always\">\n",
       "      <path transform=\"matrix(0.8,0,0,0.8,10,0)\" style=\"fill:#000000;fill-opacity:1;fill-rule:evenodd;stroke:#000000;stroke-width:1pt;stroke-opacity:1\" d=\"M 0,0 5,-5 -12.5,0 5,5 Z\" id=\"path3023\"/>\n",
       "    </marker>\n",
       "  </defs>\n",
       "  <sodipodi:namedview id=\"base\" pagecolor=\"#ffffff\" bordercolor=\"#666666\" borderopacity=\"1.0\" inkscape:pageopacity=\"0.0\" inkscape:pageshadow=\"2\" inkscape:zoom=\"1.4\" inkscape:cx=\"455.38664\" inkscape:cy=\"232.17029\" inkscape:document-units=\"mm\" inkscape:current-layer=\"layer10\" inkscape:document-rotation=\"0\" showgrid=\"false\" inkscape:snap-object-midpoints=\"true\" showguides=\"true\" inkscape:guide-bbox=\"true\" inkscape:snap-nodes=\"false\" inkscape:snap-others=\"false\" showborder=\"true\" inkscape:window-width=\"1920\" inkscape:window-height=\"1017\" inkscape:window-x=\"-8\" inkscape:window-y=\"-8\" inkscape:window-maximized=\"1\">\n",
       "    <sodipodi:guide position=\"38.747569,79.995114\" orientation=\"1,0\" id=\"guide2945\"/>\n",
       "    <sodipodi:guide position=\"173.68537,79.995114\" orientation=\"1,0\" id=\"guide2947\"/>\n",
       "    <sodipodi:guide position=\"52.410378,72.688854\" orientation=\"0,-1\" id=\"guide2949\"/>\n",
       "    <sodipodi:guide position=\"65.450557,23.740938\" orientation=\"0,-1\" id=\"guide2951\"/>\n",
       "    <sodipodi:guide position=\"106.27199,28.654629\" orientation=\"0,-1\" id=\"guide2959\"/>\n",
       "  </sodipodi:namedview>\n",
       "  <metadata id=\"metadata2280\">\n",
       "    <rdf:RDF>\n",
       "      <cc:Work rdf:about=\"\">\n",
       "        <dc:format>image/svg+xml</dc:format>\n",
       "        <dc:type rdf:resource=\"http://purl.org/dc/dcmitype/StillImage\"/>\n",
       "        <dc:title/>\n",
       "      </cc:Work>\n",
       "    </rdf:RDF>\n",
       "  </metadata>\n",
       "  <g inkscape:groupmode=\"layer\" id=\"layer10\" inkscape:label=\"Layer 2\">\n",
       "    <rect style=\"fill:#ffffff;stroke:#ffffff;stroke-width:0.865\" id=\"rect8046\" width=\"248.33035\" height=\"93.360123\" x=\"-0.1889881\" y=\"0\"/>\n",
       "  </g>\n",
       "  <g inkscape:label=\"Layer 1\" inkscape:groupmode=\"layer\" id=\"layer1\" transform=\"translate(-5.7979541,-147.21828)\">\n",
       "    <g id=\"g4661\">\n",
       "      <path style=\"fill:none;stroke:#000000;stroke-width:0.365;stroke-linecap:butt;stroke-linejoin:miter;stroke-opacity:1;stroke-miterlimit:4;stroke-dasharray:none\" d=\"m 164.6125,168.0126 c -0.0661,2.07932 0.46003,4.02014 -0.61118,5.46555\" id=\"path4652\" sodipodi:nodetypes=\"cc\"/>\n",
       "      <path style=\"fill:none;stroke:#000000;stroke-width:0.365;stroke-linecap:butt;stroke-linejoin:miter;stroke-opacity:1;stroke-miterlimit:4;stroke-dasharray:none\" d=\"m 164.5347,170.69529 c 0.72288,0.37788 1.15278,0.92139 2.28685,0.0857 l -0.12099,-2.89337\" id=\"path4654\" sodipodi:nodetypes=\"ccc\"/>\n",
       "      <path style=\"fill:none;stroke:#000000;stroke-width:0.365;stroke-linecap:butt;stroke-linejoin:miter;stroke-opacity:1;stroke-miterlimit:4;stroke-dasharray:none\" d=\"m 166.78319,170.86932 c 0.0956,0.48541 0.40666,0.61309 1.09187,0.11931\" id=\"path4656\" sodipodi:nodetypes=\"cc\"/>\n",
       "    </g>\n",
       "    <g inkscape:label=\"Layer 1\" id=\"layer1-6\" transform=\"matrix(0.35681674,0,0,0.35601926,4.9599006,149.24697)\" style=\"stroke-width:1.44474\">\n",
       "      <path id=\"path839\" style=\"fill:#ffffff;stroke:#000000;stroke-width:3.82231;stroke-linejoin:bevel;stroke-miterlimit:4;stroke-dasharray:none\" d=\"M 219.92383,480 A 39.999999,39.999999 0 0 0 180,520 a 39.999999,39.999999 0 0 0 0,0.0762 V 590 h 80 v -70 a 39.999999,39.999999 0 0 0 -40,-40 39.999999,39.999999 0 0 0 -0.0762,0 z\" transform=\"scale(0.26458333)\"/>\n",
       "      <path style=\"fill:none;stroke:#000000;stroke-width:1.01132;stroke-linecap:butt;stroke-linejoin:miter;stroke-miterlimit:4;stroke-dasharray:none;stroke-opacity:1\" d=\"M 22.489583,156.10416 H 99.218749\" id=\"path850\"/>\n",
       "      <path style=\"fill:none;stroke:#000000;stroke-width:1.01132;stroke-linecap:butt;stroke-linejoin:miter;stroke-miterlimit:4;stroke-dasharray:none;stroke-opacity:1\" d=\"m 22.489583,156.10416 9.929222,17.19792\" id=\"path852\"/>\n",
       "      <path style=\"fill:none;stroke:#000000;stroke-width:1.01132;stroke-linecap:butt;stroke-linejoin:miter;stroke-miterlimit:4;stroke-dasharray:none;stroke-opacity:1\" d=\"m 39.952094,156.10416 9.929222,17.19792\" id=\"path854\"/>\n",
       "      <path style=\"fill:none;stroke:#000000;stroke-width:1.01132;stroke-linecap:butt;stroke-linejoin:miter;stroke-miterlimit:4;stroke-dasharray:none;stroke-opacity:1\" d=\"m 56.885438,156.10416 9.929222,17.19792\" id=\"path856\"/>\n",
       "      <path style=\"fill:none;stroke:#000000;stroke-width:1.01132;stroke-linecap:butt;stroke-linejoin:miter;stroke-miterlimit:4;stroke-dasharray:none;stroke-opacity:1\" d=\"m 74.347949,156.10416 9.929222,17.19792\" id=\"path858\"/>\n",
       "      <path style=\"fill:none;stroke:#000000;stroke-width:1.01132;stroke-linecap:butt;stroke-linejoin:miter;stroke-miterlimit:4;stroke-dasharray:none;stroke-opacity:1\" d=\"m 91.81046,156.10416 9.92923,17.19792\" id=\"path860\"/>\n",
       "      <circle style=\"fill:#ffffff;stroke:#000000;stroke-width:1.01132;stroke-linejoin:bevel\" id=\"path1592\" cx=\"58.266396\" cy=\"137.45695\" r=\"3.6994057\"/>\n",
       "    </g>\n",
       "    <circle style=\"fill:none;stroke:#000000;stroke-width:0.205973;stroke-linejoin:bevel;stroke-miterlimit:4;stroke-dasharray:2.47167, 2.47167;stroke-dashoffset:0\" id=\"path2919\" cx=\"25.750328\" cy=\"198.1843\" r=\"19.858841\"/>\n",
       "    <path id=\"path2921\" style=\"fill:#ffffff;stroke:#000000;stroke-width:0.360452;stroke-linejoin:bevel;stroke-miterlimit:4;stroke-dasharray:none\" d=\"m 95.206247,194.46141 a 3.7763105,3.7678703 0 0 0 -3.769119,3.76787 3.7763105,3.7678703 0 0 0 0,0.007 v 6.58659 h 7.552623 v -6.59377 a 3.7763105,3.7678703 0 0 0 -3.776307,-3.76788 3.7763105,3.7678703 0 0 0 -0.007,0 z\"/>\n",
       "    <path style=\"fill:none;stroke:#000000;stroke-width:0.360452;stroke-linecap:butt;stroke-linejoin:miter;stroke-miterlimit:4;stroke-dasharray:none;stroke-opacity:1\" d=\"M 82.468389,204.82305 H 109.84664\" id=\"path2923\"/>\n",
       "    <path style=\"fill:none;stroke:#000000;stroke-width:0.360452;stroke-linecap:butt;stroke-linejoin:miter;stroke-miterlimit:4;stroke-dasharray:none;stroke-opacity:1\" d=\"m 82.468389,204.82305 3.542914,6.1228\" id=\"path2925\"/>\n",
       "    <path style=\"fill:none;stroke:#000000;stroke-width:0.360452;stroke-linecap:butt;stroke-linejoin:miter;stroke-miterlimit:4;stroke-dasharray:none;stroke-opacity:1\" d=\"m 88.699306,204.82305 3.542911,6.1228\" id=\"path2927\"/>\n",
       "    <path style=\"fill:none;stroke:#000000;stroke-width:0.360452;stroke-linecap:butt;stroke-linejoin:miter;stroke-miterlimit:4;stroke-dasharray:none;stroke-opacity:1\" d=\"m 94.741406,204.82305 3.54292,6.1228\" id=\"path2929\"/>\n",
       "    <path style=\"fill:none;stroke:#000000;stroke-width:0.360452;stroke-linecap:butt;stroke-linejoin:miter;stroke-miterlimit:4;stroke-dasharray:none;stroke-opacity:1\" d=\"m 100.97233,204.82305 3.5429,6.1228\" id=\"path2931\"/>\n",
       "    <path style=\"fill:none;stroke:#000000;stroke-width:0.360452;stroke-linecap:butt;stroke-linejoin:miter;stroke-miterlimit:4;stroke-dasharray:none;stroke-opacity:1\" d=\"m 107.20324,204.82305 3.54292,6.1228\" id=\"path2933\"/>\n",
       "    <ellipse style=\"fill:#ffffff;stroke:#000000;stroke-width:0.360452;stroke-linejoin:bevel\" id=\"circle2935\" cx=\"95.234154\" cy=\"198.1843\" rx=\"1.3200099\" ry=\"1.3170596\"/>\n",
       "    <path style=\"fill:none;stroke:#000000;stroke-width:0.136242;stroke-linecap:butt;stroke-linejoin:miter;stroke-miterlimit:4;stroke-dasharray:1.63491, 1.63491;stroke-dashoffset:0;stroke-opacity:1\" d=\"M 25.750327,198.1843 H 95.234155\" id=\"path2939\"/>\n",
       "    <path style=\"fill:none;stroke:#000000;stroke-width:0.393923;stroke-linecap:butt;stroke-linejoin:miter;stroke-miterlimit:4;stroke-dasharray:none;stroke-opacity:1\" d=\"M 25.750327,198.1843 H 45.720516 L 80.823118,163.08169 95.234155,198.1843\" id=\"path2941\"/>\n",
       "    <path style=\"fill:none;stroke:#000000;stroke-width:0.136242px;stroke-linecap:butt;stroke-linejoin:miter;stroke-opacity:1\" d=\"M 75.857256,150.87278 80.823118,163.08169 91.9316,151.97321\" id=\"path2943\"/>\n",
       "    <path style=\"fill:none;stroke:#000000;stroke-width:0.136242px;stroke-linecap:butt;stroke-linejoin:miter;stroke-opacity:1\" d=\"m 25.750325,201.94652 v 25.20486\" id=\"path2955\"/>\n",
       "    <path style=\"fill:none;stroke:#000000;stroke-width:0.136242px;stroke-linecap:butt;stroke-linejoin:miter;stroke-opacity:1\" d=\"m 95.234155,201.94652 v 25.20486\" id=\"path2957\"/>\n",
       "    <path style=\"fill:none;stroke:#000000;stroke-width:0.136242px;stroke-linecap:butt;stroke-linejoin:miter;stroke-opacity:1;marker-start:url(#marker4885);marker-end:url(#marker4991)\" d=\"m 25.750325,224.62116 h 69.48383\" id=\"path2961\"/>\n",
       "    <path style=\"fill:none;stroke:#000000;stroke-width:0.136242px;stroke-linecap:butt;stroke-linejoin:miter;stroke-opacity:1;marker-start:url(#marker3025);marker-end:url(#marker3071)\" d=\"m 76.918583,153.93449 c 5.839095,-2.17427 8.959857,-0.69852 11.736682,1.23904\" id=\"path3015\" sodipodi:nodetypes=\"cc\"/>\n",
       "    <ellipse style=\"fill:#ffffff;stroke:#000000;stroke-width:0.360452;stroke-linejoin:bevel\" id=\"ellipse3123\" cx=\"45.720516\" cy=\"198.1843\" rx=\"1.3200099\" ry=\"1.3170596\"/>\n",
       "    <ellipse style=\"fill:#ffffff;stroke:#000000;stroke-width:0.360452;stroke-linejoin:bevel\" id=\"ellipse3125\" cx=\"80.82312\" cy=\"163.08168\" rx=\"1.3200099\" ry=\"1.3170596\"/>\n",
       "    <text xml:space=\"preserve\" style=\"font-size:3.99644px;line-height:1.25;font-family:sans-serif;-inkscape-font-specification:sans-serif;stroke-width:0.136242\" x=\"34.590729\" y=\"197.0173\" id=\"text3129\"><tspan sodipodi:role=\"line\" id=\"tspan3127\" x=\"34.590729\" y=\"197.0173\" style=\"stroke-width:0.136242\">a</tspan></text>\n",
       "    <text xml:space=\"preserve\" style=\"font-size:3.99644px;line-height:1.25;font-family:sans-serif;-inkscape-font-specification:sans-serif;stroke-width:0.136242\" x=\"64.487701\" y=\"203.41287\" id=\"text3133\"><tspan sodipodi:role=\"line\" id=\"tspan3131\" x=\"64.487701\" y=\"203.41287\" style=\"stroke-width:0.136242\">1</tspan></text>\n",
       "    <text xml:space=\"preserve\" style=\"font-size:3.99644px;line-height:1.25;font-family:sans-serif;-inkscape-font-specification:sans-serif;stroke-width:0.136242\" x=\"35.603798\" y=\"202.27255\" id=\"text3137\"><tspan sodipodi:role=\"line\" id=\"tspan3135\" x=\"35.603798\" y=\"202.27255\" style=\"stroke-width:0.136242\">2</tspan></text>\n",
       "    <text xml:space=\"preserve\" style=\"font-size:3.99644px;line-height:1.25;font-family:sans-serif;-inkscape-font-specification:sans-serif;stroke-width:0.136242\" x=\"62.710781\" y=\"184.73685\" id=\"text3141\"><tspan sodipodi:role=\"line\" id=\"tspan3139\" x=\"62.710781\" y=\"184.73685\" style=\"stroke-width:0.136242\">3</tspan></text>\n",
       "    <text xml:space=\"preserve\" style=\"font-size:3.99644px;line-height:1.25;font-family:sans-serif;-inkscape-font-specification:sans-serif;stroke-width:0.136242\" x=\"84.599503\" y=\"183.567\" id=\"text3145\"><tspan sodipodi:role=\"line\" id=\"tspan3143\" x=\"84.599503\" y=\"183.567\" style=\"stroke-width:0.136242\">4</tspan></text>\n",
       "    <text xml:space=\"preserve\" style=\"font-size:3.99644px;line-height:1.25;font-family:sans-serif;-inkscape-font-specification:sans-serif;stroke-width:0.136242\" x=\"59.334427\" y=\"222.79683\" id=\"text3149\"><tspan sodipodi:role=\"line\" id=\"tspan3147\" x=\"59.334427\" y=\"222.79683\" style=\"stroke-width:0.136242\">d</tspan></text>\n",
       "    <text xml:space=\"preserve\" style=\"font-size:3.99644px;line-height:1.25;font-family:sans-serif;-inkscape-font-specification:sans-serif;stroke-width:0.136242\" x=\"57.516457\" y=\"182.48795\" id=\"text3153\"><tspan sodipodi:role=\"line\" id=\"tspan3151\" x=\"57.516457\" y=\"182.48795\" style=\"stroke-width:0.136242\">b</tspan></text>\n",
       "    <text xml:space=\"preserve\" style=\"font-size:3.99644px;line-height:1.25;font-family:sans-serif;-inkscape-font-specification:sans-serif;stroke-width:0.136242\" x=\"89.477371\" y=\"182.15663\" id=\"text3157\"><tspan sodipodi:role=\"line\" id=\"tspan3155\" x=\"89.477371\" y=\"182.15663\" style=\"stroke-width:0.136242\">c</tspan></text>\n",
       "    <text xml:space=\"preserve\" style=\"font-size:3.99644px;line-height:1.25;font-family:sans-serif;-inkscape-font-specification:sans-serif;stroke-width:0.136242\" x=\"22.726767\" y=\"203.0885\" id=\"text3161\"><tspan sodipodi:role=\"line\" id=\"tspan3159\" x=\"22.726767\" y=\"203.0885\" style=\"stroke-width:0.136242\">O<tspan style=\"font-size:2.59769px;baseline-shift:sub;stroke-width:0.136242\" id=\"tspan3163\">2</tspan></tspan></text>\n",
       "    <text xml:space=\"preserve\" style=\"font-size:3.99644px;line-height:1.25;font-family:sans-serif;-inkscape-font-specification:sans-serif;stroke-width:0.136242\" x=\"92.849266\" y=\"202.92099\" id=\"text3167\"><tspan sodipodi:role=\"line\" id=\"tspan3165\" x=\"92.849266\" y=\"202.92099\" style=\"stroke-width:0.136242\">O<tspan style=\"font-size:2.59769px;baseline-shift:sub;stroke-width:0.136242\" id=\"tspan3169\">4</tspan></tspan></text>\n",
       "    <g inkscape:label=\"Layer 1\" id=\"g3211\" transform=\"matrix(0.35681674,0,0,0.35601926,147.19768,149.24697)\" style=\"stroke-width:1.44474\">\n",
       "      <path id=\"path3195\" style=\"fill:#ffffff;stroke:#000000;stroke-width:3.82231;stroke-linejoin:bevel;stroke-miterlimit:4;stroke-dasharray:none\" d=\"M 219.92383,480 A 39.999999,39.999999 0 0 0 180,520 a 39.999999,39.999999 0 0 0 0,0.0762 V 590 h 80 v -70 a 39.999999,39.999999 0 0 0 -40,-40 39.999999,39.999999 0 0 0 -0.0762,0 z\" transform=\"scale(0.26458333)\"/>\n",
       "      <path style=\"fill:none;stroke:#000000;stroke-width:1.01132;stroke-linecap:butt;stroke-linejoin:miter;stroke-miterlimit:4;stroke-dasharray:none;stroke-opacity:1\" d=\"M 22.489583,156.10416 H 99.218749\" id=\"path3197\"/>\n",
       "      <path style=\"fill:none;stroke:#000000;stroke-width:1.01132;stroke-linecap:butt;stroke-linejoin:miter;stroke-miterlimit:4;stroke-dasharray:none;stroke-opacity:1\" d=\"m 22.489583,156.10416 9.929222,17.19792\" id=\"path3199\"/>\n",
       "      <path style=\"fill:none;stroke:#000000;stroke-width:1.01132;stroke-linecap:butt;stroke-linejoin:miter;stroke-miterlimit:4;stroke-dasharray:none;stroke-opacity:1\" d=\"m 39.952094,156.10416 9.929222,17.19792\" id=\"path3201\"/>\n",
       "      <path style=\"fill:none;stroke:#000000;stroke-width:1.01132;stroke-linecap:butt;stroke-linejoin:miter;stroke-miterlimit:4;stroke-dasharray:none;stroke-opacity:1\" d=\"m 56.885438,156.10416 9.929222,17.19792\" id=\"path3203\"/>\n",
       "      <path style=\"fill:none;stroke:#000000;stroke-width:1.01132;stroke-linecap:butt;stroke-linejoin:miter;stroke-miterlimit:4;stroke-dasharray:none;stroke-opacity:1\" d=\"m 74.347949,156.10416 9.929222,17.19792\" id=\"path3205\"/>\n",
       "      <path style=\"fill:none;stroke:#000000;stroke-width:1.01132;stroke-linecap:butt;stroke-linejoin:miter;stroke-miterlimit:4;stroke-dasharray:none;stroke-opacity:1\" d=\"m 91.81046,156.10416 9.92923,17.19792\" id=\"path3207\"/>\n",
       "      <circle style=\"fill:#ffffff;stroke:#000000;stroke-width:1.01132;stroke-linejoin:bevel\" id=\"circle3209\" cx=\"58.266396\" cy=\"137.45695\" r=\"3.6994057\"/>\n",
       "    </g>\n",
       "    <circle style=\"fill:none;stroke:#000000;stroke-width:0.205973;stroke-linejoin:bevel;stroke-miterlimit:4;stroke-dasharray:2.47167, 2.47167;stroke-dashoffset:0\" id=\"circle3213\" cx=\"167.98712\" cy=\"198.1843\" r=\"19.858841\"/>\n",
       "    <path id=\"path3215\" style=\"fill:#ffffff;stroke:#000000;stroke-width:0.360452;stroke-linejoin:bevel;stroke-miterlimit:4;stroke-dasharray:none\" d=\"m 237.44431,194.46141 a 3.7763105,3.7678703 0 0 0 -3.76912,3.76787 3.7763105,3.7678703 0 0 0 0,0.007 v 6.58659 h 7.55262 v -6.59377 a 3.7763105,3.7678703 0 0 0 -3.7763,-3.76788 3.7763105,3.7678703 0 0 0 -0.007,0 z\"/>\n",
       "    <path style=\"fill:none;stroke:#000000;stroke-width:0.360452;stroke-linecap:butt;stroke-linejoin:miter;stroke-miterlimit:4;stroke-dasharray:none;stroke-opacity:1\" d=\"M 224.70645,204.82305 H 252.0847\" id=\"path3217\"/>\n",
       "    <path style=\"fill:none;stroke:#000000;stroke-width:0.360452;stroke-linecap:butt;stroke-linejoin:miter;stroke-miterlimit:4;stroke-dasharray:none;stroke-opacity:1\" d=\"m 224.70645,204.82305 3.54291,6.1228\" id=\"path3219\"/>\n",
       "    <path style=\"fill:none;stroke:#000000;stroke-width:0.360452;stroke-linecap:butt;stroke-linejoin:miter;stroke-miterlimit:4;stroke-dasharray:none;stroke-opacity:1\" d=\"m 230.93737,204.82305 3.54291,6.1228\" id=\"path3221\"/>\n",
       "    <path style=\"fill:none;stroke:#000000;stroke-width:0.360452;stroke-linecap:butt;stroke-linejoin:miter;stroke-miterlimit:4;stroke-dasharray:none;stroke-opacity:1\" d=\"m 236.97947,204.82305 3.54291,6.1228\" id=\"path3223\"/>\n",
       "    <path style=\"fill:none;stroke:#000000;stroke-width:0.360452;stroke-linecap:butt;stroke-linejoin:miter;stroke-miterlimit:4;stroke-dasharray:none;stroke-opacity:1\" d=\"m 243.21038,204.82305 3.54291,6.1228\" id=\"path3225\"/>\n",
       "    <path style=\"fill:none;stroke:#000000;stroke-width:0.360452;stroke-linecap:butt;stroke-linejoin:miter;stroke-miterlimit:4;stroke-dasharray:none;stroke-opacity:1\" d=\"m 249.4413,204.82305 3.54292,6.1228\" id=\"path3227\"/>\n",
       "    <path style=\"fill:none;stroke:#000000;stroke-width:0.136242;stroke-linecap:butt;stroke-linejoin:miter;stroke-miterlimit:4;stroke-dasharray:1.63491, 1.63491;stroke-dashoffset:0;stroke-opacity:1\" d=\"m 167.98823,198.1843 h 69.48399\" id=\"path3231\"/>\n",
       "    <path style=\"fill:none;stroke:#000000;stroke-width:0.136242px;stroke-linecap:butt;stroke-linejoin:miter;stroke-opacity:1\" d=\"m 167.98823,201.94652 v 25.20486\" id=\"path3237\"/>\n",
       "    <path style=\"fill:none;stroke:#000000;stroke-width:0.136242px;stroke-linecap:butt;stroke-linejoin:miter;stroke-opacity:1\" d=\"m 237.47222,201.94652 v 25.20486\" id=\"path3239\"/>\n",
       "    <path style=\"fill:none;stroke:#000000;stroke-width:0.136242px;stroke-linecap:butt;stroke-linejoin:miter;stroke-opacity:1;marker-start:url(#marker3305);marker-end:url(#marker3325)\" d=\"m 167.98823,224.62116 h 69.48399\" id=\"path3241\"/>\n",
       "    <text xml:space=\"preserve\" style=\"font-size:3.99644px;line-height:1.25;font-family:sans-serif;-inkscape-font-specification:sans-serif;stroke-width:0.136242\" x=\"157.50937\" y=\"197.27831\" id=\"text3251\"><tspan sodipodi:role=\"line\" id=\"tspan3249\" x=\"157.50937\" y=\"197.27831\" style=\"stroke-width:0.136242\">a</tspan></text>\n",
       "    <text xml:space=\"preserve\" style=\"font-size:3.99644px;line-height:1.25;font-family:sans-serif;-inkscape-font-specification:sans-serif;stroke-width:0.136242\" x=\"195.70816\" y=\"196.87692\" id=\"text3255\"><tspan sodipodi:role=\"line\" id=\"tspan3253\" x=\"195.70816\" y=\"196.87692\" style=\"stroke-width:0.136242\">1</tspan></text>\n",
       "    <text xml:space=\"preserve\" style=\"font-size:3.99644px;line-height:1.25;font-family:sans-serif;-inkscape-font-specification:sans-serif;stroke-width:0.136242\" x=\"155.43625\" y=\"201.88126\" id=\"text3259\"><tspan sodipodi:role=\"line\" id=\"tspan3257\" x=\"155.43625\" y=\"201.88126\" style=\"stroke-width:0.136242\">2</tspan></text>\n",
       "    <text xml:space=\"preserve\" style=\"font-size:3.99644px;line-height:1.25;font-family:sans-serif;-inkscape-font-specification:sans-serif;stroke-width:0.136242\" x=\"176.65271\" y=\"187.94762\" id=\"text3263\"><tspan sodipodi:role=\"line\" id=\"tspan3261\" x=\"176.65271\" y=\"187.94762\" style=\"stroke-width:0.136242\">3</tspan></text>\n",
       "    <text xml:space=\"preserve\" style=\"font-size:3.99644px;line-height:1.25;font-family:sans-serif;-inkscape-font-specification:sans-serif;stroke-width:0.136242\" x=\"214.94711\" y=\"189.11607\" id=\"text3267\"><tspan sodipodi:role=\"line\" id=\"tspan3265\" x=\"214.94711\" y=\"189.11607\" style=\"stroke-width:0.136242\">4</tspan></text>\n",
       "    <text xml:space=\"preserve\" style=\"font-size:3.99644px;line-height:1.25;font-family:sans-serif;-inkscape-font-specification:sans-serif;stroke-width:0.136242\" x=\"201.57172\" y=\"222.79683\" id=\"text3271\"><tspan sodipodi:role=\"line\" id=\"tspan3269\" x=\"201.57172\" y=\"222.79683\" style=\"stroke-width:0.136242\">d</tspan></text>\n",
       "    <text xml:space=\"preserve\" style=\"font-size:3.99644px;line-height:1.25;font-family:sans-serif;-inkscape-font-specification:sans-serif;stroke-width:0.136242\" x=\"173.49983\" y=\"183.9929\" id=\"text3275\"><tspan sodipodi:role=\"line\" id=\"tspan3273\" x=\"173.49983\" y=\"183.9929\" style=\"stroke-width:0.136242\">b</tspan></text>\n",
       "    <text xml:space=\"preserve\" style=\"font-size:3.99644px;line-height:1.25;font-family:sans-serif;-inkscape-font-specification:sans-serif;stroke-width:0.136242\" x=\"217.80527\" y=\"185.28682\" id=\"text3279\"><tspan sodipodi:role=\"line\" id=\"tspan3277\" x=\"217.80527\" y=\"185.28682\" style=\"stroke-width:0.136242\">c</tspan></text>\n",
       "    <text xml:space=\"preserve\" style=\"font-size:3.99644px;line-height:1.25;font-family:sans-serif;-inkscape-font-specification:sans-serif;stroke-width:0.136242\" x=\"164.96355\" y=\"203.0885\" id=\"text3285\"><tspan sodipodi:role=\"line\" id=\"tspan3283\" x=\"164.96355\" y=\"203.0885\" style=\"stroke-width:0.136242\">O<tspan style=\"font-size:2.59769px;baseline-shift:sub;stroke-width:0.136242\" id=\"tspan3281\">2</tspan></tspan></text>\n",
       "    <text xml:space=\"preserve\" style=\"font-size:3.99644px;line-height:1.25;font-family:sans-serif;-inkscape-font-specification:sans-serif;stroke-width:0.136242\" x=\"235.08742\" y=\"202.92099\" id=\"text3291\"><tspan sodipodi:role=\"line\" id=\"tspan3289\" x=\"235.08742\" y=\"202.92099\" style=\"stroke-width:0.136242\">O<tspan style=\"font-size:2.59769px;baseline-shift:sub;stroke-width:0.136242\" id=\"tspan3287\">4</tspan></tspan></text>\n",
       "    <path style=\"fill:none;stroke:#000000;stroke-width:0.393923;stroke-linecap:butt;stroke-linejoin:miter;stroke-miterlimit:4;stroke-dasharray:none;stroke-opacity:1\" d=\"M 167.98822,198.1843 H 148.17419\" id=\"path3525\"/>\n",
       "    <path style=\"fill:none;stroke:#000000;stroke-width:0.393923;stroke-linecap:butt;stroke-linejoin:miter;stroke-miterlimit:4;stroke-dasharray:none;stroke-opacity:1\" d=\"m 148.17757,198.18969 51.6391,-24.35773\" id=\"path3527\" inkscape:transform-center-x=\"-25.894544\" inkscape:transform-center-y=\"-12.221355\"/>\n",
       "    <ellipse style=\"fill:#ffffff;stroke:#000000;stroke-width:0.360452;stroke-linejoin:bevel\" id=\"ellipse3245\" cx=\"148.17418\" cy=\"198.1843\" rx=\"1.3200099\" ry=\"1.3170596\"/>\n",
       "    <ellipse style=\"fill:#ffffff;stroke:#000000;stroke-width:0.360452;stroke-linejoin:bevel\" id=\"ellipse3529\" cx=\"167.99004\" cy=\"198.18658\" rx=\"1.3200099\" ry=\"1.3170596\"/>\n",
       "    <path style=\"fill:none;stroke:#000000;stroke-width:0.136242px;stroke-linecap:butt;stroke-linejoin:miter;stroke-opacity:1\" d=\"m 213.16278,167.25624 -13.34611,6.57572 -10.2638,-7.11744\" id=\"path3531\" sodipodi:nodetypes=\"ccc\"/>\n",
       "    <path style=\"fill:none;stroke:#000000;stroke-width:0.136242px;stroke-linecap:butt;stroke-linejoin:miter;stroke-opacity:1;marker-start:url(#marker3545);marker-end:url(#marker3627)\" d=\"m 206.88659,170.06817 c -3.16529,-1.98103 -6.21867,-4.22563 -12.02394,0.0117\" id=\"path3533\" sodipodi:nodetypes=\"cc\"/>\n",
       "    <path style=\"fill:none;stroke:#000000;stroke-width:0.136242px;stroke-linecap:butt;stroke-linejoin:miter;stroke-opacity:1;marker-start:url(#marker3715);marker-end:url(#marker3809)\" d=\"m 192.43721,169.09203 c -3.47031,2.99248 -3.33938,5.9577 -2.43791,8.91708\" id=\"path3535\" sodipodi:nodetypes=\"cc\"/>\n",
       "    <path style=\"fill:none;stroke:#000000;stroke-width:0.393923;stroke-linecap:butt;stroke-linejoin:miter;stroke-miterlimit:4;stroke-dasharray:none;stroke-opacity:1\" d=\"m 199.81666,173.83196 37.65571,24.35234\" id=\"path3901\"/>\n",
       "    <ellipse style=\"fill:#ffffff;stroke:#000000;stroke-width:0.360452;stroke-linejoin:bevel\" id=\"ellipse3229\" cx=\"237.47237\" cy=\"198.1843\" rx=\"1.3200099\" ry=\"1.3170596\"/>\n",
       "    <text xml:space=\"preserve\" style=\"font-size:3.99644px;line-height:1.25;font-family:sans-serif;-inkscape-font-specification:sans-serif;stroke-width:0.136242\" x=\"46.221718\" y=\"202.39124\" id=\"text4013\"><tspan sodipodi:role=\"line\" id=\"tspan4011\" x=\"46.221718\" y=\"202.39124\" style=\"stroke-width:0.136242\">A</tspan></text>\n",
       "    <text xml:space=\"preserve\" style=\"font-size:3.99644px;line-height:1.25;font-family:sans-serif;-inkscape-font-specification:sans-serif;stroke-width:0.136242\" x=\"75.836533\" y=\"163.35806\" id=\"text4017\"><tspan sodipodi:role=\"line\" id=\"tspan4015\" x=\"75.836533\" y=\"163.35806\" style=\"stroke-width:0.136242\">B</tspan></text>\n",
       "    <text xml:space=\"preserve\" style=\"font-size:3.99644px;line-height:1.25;font-family:sans-serif;-inkscape-font-specification:sans-serif;stroke-width:0.136242\" x=\"143.00423\" y=\"199.0544\" id=\"text4021\"><tspan sodipodi:role=\"line\" id=\"tspan4019\" x=\"143.00423\" y=\"199.0544\" style=\"stroke-width:0.136242\">A</tspan></text>\n",
       "    <text xml:space=\"preserve\" style=\"font-size:3.99644px;line-height:1.25;font-family:sans-serif;-inkscape-font-specification:sans-serif;stroke-width:0.136242\" x=\"198.99225\" y=\"178.92603\" id=\"text4025\"><tspan sodipodi:role=\"line\" id=\"tspan4023\" x=\"198.99225\" y=\"178.92603\" style=\"stroke-width:0.136242\">B</tspan></text>\n",
       "    <ellipse style=\"fill:#ffffff;stroke:#000000;stroke-width:0.360452;stroke-linejoin:bevel\" id=\"ellipse4027\" cx=\"199.74599\" cy=\"173.84457\" rx=\"1.3200099\" ry=\"1.3170596\"/>\n",
       "    <path style=\"fill:none;stroke:#000000;stroke-width:0.34243;stroke-linecap:butt;stroke-linejoin:miter;stroke-miterlimit:4;stroke-dasharray:none;stroke-opacity:1\" d=\"m 81.797808,148.41089 c 0.11052,-0.12121 0.206608,-0.25557 0.28559,-0.39934 0.05097,-0.0928 0.09481,-0.18938 0.147626,-0.28111 0.05282,-0.0917 0.115543,-0.17945 0.19769,-0.2462 0.04038,-0.0328 0.08548,-0.0604 0.134711,-0.0772 0.04924,-0.0168 0.102794,-0.0226 0.153787,-0.0122 0.06658,0.0135 0.125464,0.0536 0.172256,0.10286 0.04679,0.0493 0.08278,0.10758 0.117691,0.16586 0.250323,0.41793 0.464384,0.86059 0.596558,1.32948 0.146126,0.51838 0.189909,1.05952 0.222242,1.59713 0.007,0.11648 0.01351,0.23338 0.005,0.34976 -0.0085,0.11638 -0.03246,0.23287 -0.08368,0.33772 -0.01749,0.0358 -0.03843,0.0705 -0.06717,0.0982 -0.02874,0.0276 -0.06605,0.0477 -0.105837,0.05 -0.0255,0.001 -0.05119,-0.004 -0.07427,-0.0153 -0.02309,-0.0109 -0.04364,-0.0268 -0.06128,-0.0453 -0.03529,-0.0369 -0.05869,-0.0834 -0.08019,-0.12978 -0.125651,-0.27092 -0.204147,-0.565 -0.216937,-0.86337 -0.02397,-0.55912 0.189396,-1.11893 0.555548,-1.54215 0.296408,-0.34261 0.690906,-0.59938 1.124181,-0.7317\" id=\"path4155\" inkscape:path-effect=\"#path-effect4157;#path-effect4159\" inkscape:original-d=\"m 81.797808,148.41089 c 0.332193,-0.2553 0.597285,-1.41683 1.080873,-0.89912 0.636971,0.68191 0.871894,1.91658 0.934814,2.81466 0.212347,3.03108 -2.202072,-1.03509 1.007835,-2.22828\"/>\n",
       "    <text xml:space=\"preserve\" style=\"font-size:3.99644px;line-height:1.25;font-family:sans-serif;-inkscape-font-specification:sans-serif;stroke-width:0.136242\" x=\"100.54018\" y=\"154.5627\" id=\"text4245\"><tspan sodipodi:role=\"line\" id=\"tspan4243\" x=\"100.54018\" y=\"154.5627\" style=\"stroke-width:0.136242\">1</tspan></text>\n",
       "    <text xml:space=\"preserve\" style=\"font-size:3.99644px;line-height:1.25;font-family:sans-serif;-inkscape-font-specification:sans-serif;stroke-width:0.136242\" x=\"103.42053\" y=\"152.15497\" id=\"text4249\"><tspan sodipodi:role=\"line\" id=\"tspan4247\" x=\"103.42053\" y=\"152.15497\" style=\"stroke-width:0.136242\">=</tspan></text>\n",
       "    <text xml:space=\"preserve\" style=\"font-size:3.99644px;line-height:1.25;font-family:sans-serif;-inkscape-font-specification:sans-serif;stroke-width:0.136242\" x=\"84.465279\" y=\"152.59389\" id=\"text4253\"><tspan sodipodi:role=\"line\" id=\"tspan4251\" x=\"84.465279\" y=\"152.59389\" style=\"stroke-width:0.136242\">1</tspan></text>\n",
       "    <path style=\"fill:none;stroke:#000000;stroke-width:0.34243;stroke-linecap:butt;stroke-linejoin:miter;stroke-miterlimit:4;stroke-dasharray:none;stroke-opacity:1\" d=\"m 81.797808,148.41089 c 0.11052,-0.12121 0.206608,-0.25557 0.28559,-0.39934 0.05097,-0.0928 0.09481,-0.18938 0.147626,-0.28111 0.05282,-0.0917 0.115543,-0.17945 0.19769,-0.2462 0.04038,-0.0328 0.08548,-0.0604 0.134711,-0.0772 0.04924,-0.0168 0.102794,-0.0226 0.153787,-0.0122 0.06658,0.0135 0.125464,0.0536 0.172256,0.10286 0.04679,0.0493 0.08278,0.10758 0.117691,0.16586 0.250323,0.41793 0.464384,0.86059 0.596558,1.32948 0.146126,0.51838 0.189909,1.05952 0.222242,1.59713 0.007,0.11648 0.01351,0.23338 0.005,0.34976 -0.0085,0.11638 -0.03246,0.23287 -0.08368,0.33772 -0.01749,0.0358 -0.03843,0.0705 -0.06717,0.0982 -0.02874,0.0276 -0.06605,0.0477 -0.105837,0.05 -0.0255,0.001 -0.05119,-0.004 -0.07427,-0.0153 -0.02309,-0.0109 -0.04364,-0.0268 -0.06128,-0.0453 -0.03529,-0.0369 -0.05869,-0.0834 -0.08019,-0.12978 -0.125651,-0.27092 -0.204147,-0.565 -0.216937,-0.86337 -0.02397,-0.55912 0.189396,-1.11893 0.555548,-1.54215 0.296408,-0.34261 0.690906,-0.59938 1.124181,-0.7317\" id=\"path4255\" inkscape:path-effect=\"#path-effect4257;#path-effect4259\" inkscape:original-d=\"m 81.797808,148.41089 c 0.332193,-0.2553 0.597285,-1.41683 1.080873,-0.89912 0.636971,0.68191 0.871894,1.91658 0.934814,2.81466 0.212347,3.03108 -2.202072,-1.03509 1.007835,-2.22828\"/>\n",
       "    <text xml:space=\"preserve\" style=\"font-size:3.99644px;line-height:1.25;font-family:sans-serif;-inkscape-font-specification:sans-serif;stroke-width:0.136242\" x=\"84.465279\" y=\"152.59389\" id=\"text4263\"><tspan sodipodi:role=\"line\" id=\"tspan4261\" x=\"84.465279\" y=\"152.59389\" style=\"stroke-width:0.136242\">1</tspan></text>\n",
       "    <path style=\"fill:none;stroke:#000000;stroke-width:0.34243;stroke-linecap:butt;stroke-linejoin:miter;stroke-miterlimit:4;stroke-dasharray:none;stroke-opacity:1\" d=\"m 108.07382,150.17745 c 0.11052,-0.12121 0.20661,-0.25557 0.28559,-0.39934 0.051,-0.0928 0.0948,-0.18938 0.14762,-0.28111 0.0528,-0.0917 0.11554,-0.17946 0.19769,-0.24621 0.0404,-0.0328 0.0855,-0.0604 0.13471,-0.0772 0.0492,-0.0168 0.1028,-0.0226 0.15379,-0.0122 0.0666,0.0135 0.12546,0.0536 0.17225,0.10286 0.0468,0.0493 0.0828,0.10757 0.1177,0.16585 0.25034,0.41792 0.46439,0.86059 0.59656,1.32948 0.14612,0.51838 0.1899,1.05952 0.22224,1.59713 0.007,0.11648 0.0135,0.23338 0.005,0.34976 -0.008,0.11639 -0.0325,0.23288 -0.0837,0.33773 -0.0175,0.0358 -0.0384,0.0705 -0.0672,0.0982 -0.0287,0.0276 -0.0661,0.0477 -0.10584,0.05 -0.0255,0.001 -0.0512,-0.004 -0.0743,-0.0153 -0.0231,-0.0109 -0.0436,-0.0268 -0.0613,-0.0453 -0.0353,-0.0369 -0.0587,-0.0834 -0.0802,-0.12979 -0.12564,-0.27092 -0.20414,-0.565 -0.21694,-0.86336 -0.024,-0.55912 0.18939,-1.11893 0.55555,-1.54215 0.29641,-0.3426 0.69091,-0.59937 1.12418,-0.7317\" id=\"path4265\" inkscape:path-effect=\"#path-effect4267;#path-effect4269\" inkscape:original-d=\"m 108.07382,150.17745 c 0.33219,-0.25531 0.59728,-1.41683 1.08087,-0.89913 0.63697,0.68191 0.87189,1.91658 0.93482,2.81466 0.21234,3.03109 -2.20207,-1.03508 1.00783,-2.22827\"/>\n",
       "    <text xml:space=\"preserve\" style=\"font-size:3.99644px;line-height:1.25;font-family:sans-serif;-inkscape-font-specification:sans-serif;stroke-width:0.136242\" x=\"110.74128\" y=\"154.36043\" id=\"text4273\"><tspan sodipodi:role=\"line\" id=\"tspan4271\" x=\"110.74128\" y=\"154.36043\" style=\"stroke-width:0.136242\">1</tspan></text>\n",
       "    <text xml:space=\"preserve\" style=\"font-size:3.99644px;line-height:1.25;font-family:sans-serif;-inkscape-font-specification:sans-serif;stroke-width:0.136242\" x=\"167.61801\" y=\"172.56633\" id=\"text4291\"><tspan sodipodi:role=\"line\" id=\"tspan4289\" x=\"167.61801\" y=\"172.56633\" style=\"stroke-width:0.136242\">2</tspan></text>\n",
       "    <text xml:space=\"preserve\" style=\"font-size:3.99644px;line-height:1.25;font-family:sans-serif;-inkscape-font-specification:sans-serif;stroke-width:0.136242\" x=\"170.49835\" y=\"170.1586\" id=\"text4295\"><tspan sodipodi:role=\"line\" id=\"tspan4293\" x=\"170.49835\" y=\"170.1586\" style=\"stroke-width:0.136242\">=</tspan></text>\n",
       "    <path style=\"fill:none;stroke:#000000;stroke-width:0.34243;stroke-linecap:butt;stroke-linejoin:miter;stroke-miterlimit:4;stroke-dasharray:none;stroke-opacity:1\" d=\"m 183.59875,168.18108 c 0.11052,-0.12121 0.20661,-0.25557 0.28559,-0.39934 0.051,-0.0928 0.0948,-0.18938 0.14763,-0.28111 0.0528,-0.0917 0.11554,-0.17946 0.19769,-0.24621 0.0404,-0.0328 0.0855,-0.0604 0.13471,-0.0772 0.0492,-0.0168 0.1028,-0.0226 0.15379,-0.0122 0.0666,0.0135 0.12546,0.0536 0.17226,0.10286 0.0468,0.0493 0.0828,0.10758 0.11769,0.16586 0.25032,0.41793 0.46438,0.86059 0.59655,1.32948 0.14612,0.51838 0.18991,1.05952 0.22224,1.59713 0.007,0.11648 0.0135,0.23338 0.005,0.34976 -0.008,0.11638 -0.0325,0.23287 -0.0837,0.33772 -0.0175,0.0358 -0.0384,0.0705 -0.0672,0.0981 -0.0287,0.0276 -0.0661,0.0477 -0.10583,0.05 -0.0255,0.001 -0.0512,-0.004 -0.0743,-0.0153 -0.0231,-0.0109 -0.0436,-0.0268 -0.0613,-0.0453 -0.0353,-0.0369 -0.0587,-0.0834 -0.0802,-0.12978 -0.12565,-0.27092 -0.20414,-0.565 -0.21693,-0.86336 -0.024,-0.55911 0.18939,-1.11893 0.55554,-1.54215 0.29641,-0.34261 0.6909,-0.59938 1.12418,-0.7317\" id=\"path4297\" inkscape:path-effect=\"#path-effect4299;#path-effect4301\" inkscape:original-d=\"m 183.59875,168.18108 c 0.33219,-0.2553 0.59729,-1.41684 1.08088,-0.89913 0.63697,0.68191 0.87189,1.91658 0.93481,2.81466 0.21235,3.03108 -2.20207,-1.03508 1.00783,-2.22827\"/>\n",
       "    <text xml:space=\"preserve\" style=\"font-size:3.99644px;line-height:1.25;font-family:sans-serif;-inkscape-font-specification:sans-serif;stroke-width:0.136242\" x=\"186.26627\" y=\"172.36407\" id=\"text4305\"><tspan sodipodi:role=\"line\" id=\"tspan4303\" x=\"186.26627\" y=\"172.36407\" style=\"stroke-width:0.136242\">2</tspan></text>\n",
       "    <g id=\"g4334\" transform=\"matrix(1.0221915,0,0,1.0236689,-173.49322,57.426552)\" style=\"stroke-width:0.352373;stroke-miterlimit:4;stroke-dasharray:none\">\n",
       "      <path style=\"fill:none;stroke:#000000;stroke-width:0.352373;stroke-linecap:butt;stroke-linejoin:miter;stroke-miterlimit:4;stroke-dasharray:none;stroke-opacity:1\" d=\"m 341.95107,111.12791 c 0.37115,-0.22903 0.67902,-0.55949 0.88123,-0.94591 0.26111,-0.49898 0.34198,-1.07286 0.36157,-1.63569 0.012,-0.34342 0.002,-0.69373 -0.10742,-1.0196 -0.0287,-0.0858 -0.0641,-0.16932 -0.10575,-0.24961\" id=\"path4307\" inkscape:path-effect=\"#path-effect4309;#path-effect4311\" inkscape:original-d=\"m 341.95107,111.12791 c 1.54403,-0.82981 1.33146,-3.4392 1.02963,-3.85081\"/>\n",
       "      <path style=\"fill:none;stroke:#000000;stroke-width:0.352373;stroke-linecap:butt;stroke-linejoin:miter;stroke-miterlimit:4;stroke-dasharray:none;stroke-opacity:1\" d=\"m 341.81603,107.58851 c 0.51672,-0.0224 1.03335,-0.047 1.54987,-0.0737 0.58932,-0.0305 1.17875,-0.0638 1.76579,-0.12395 0.0935,-0.01 0.18726,-0.0191 0.28118,-0.0165 0.0939,0.003 0.18689,0.0189 0.27887,0.0381 l 0.006,0.001\" id=\"path4319\" inkscape:path-effect=\"#path-effect4321;#path-effect4323\" inkscape:original-d=\"m 341.81603,107.58851 c 1.14173,0.0217 3.33658,-0.2916 3.88218,-0.17469\"/>\n",
       "      <path style=\"fill:none;stroke:#000000;stroke-width:0.352373;stroke-linecap:butt;stroke-linejoin:miter;stroke-miterlimit:4;stroke-dasharray:none;stroke-opacity:1\" d=\"m 344.39852,107.78599 c -0.0694,0.34122 -0.10047,0.6902 -0.0926,1.03831 0.0102,0.44845 0.0854,0.89597 0.2302,1.32053 0.0406,0.11911 0.0869,0.23696 0.15081,0.34539 0.0639,0.10844 0.1461,0.20764 0.2493,0.27966 0.13987,0.0976 0.31444,0.14113 0.48474,0.13166 0.25907,-0.0144 0.50842,-0.15333 0.65699,-0.36606\" id=\"path4325\" inkscape:path-effect=\"#path-effect4327;#path-effect4329\" inkscape:original-d=\"m 344.39852,107.78599 c -0.307,1.15586 0.0978,4.17298 1.67947,2.74949\"/>\n",
       "    </g>\n",
       "    <path style=\"fill:none;stroke:#000000;stroke-width:0.34243;stroke-linecap:butt;stroke-linejoin:miter;stroke-miterlimit:4;stroke-dasharray:none;stroke-opacity:1\" d=\"m 198.02187,163.11412 c 0.11052,-0.12122 0.20661,-0.25558 0.28559,-0.39935 0.051,-0.0928 0.0948,-0.18938 0.14763,-0.28111 0.0528,-0.0917 0.11554,-0.17945 0.19769,-0.2462 0.0404,-0.0328 0.0855,-0.0604 0.13471,-0.0772 0.0492,-0.0168 0.10279,-0.0226 0.15378,-0.0122 0.0666,0.0135 0.12547,0.0536 0.17226,0.10286 0.0468,0.0493 0.0828,0.10758 0.11769,0.16586 0.25032,0.41793 0.46439,0.86059 0.59656,1.32948 0.14613,0.51838 0.18991,1.05952 0.22224,1.59713 0.007,0.11648 0.0135,0.23338 0.005,0.34976 -0.008,0.11639 -0.0325,0.23288 -0.0837,0.33773 -0.0175,0.0358 -0.0384,0.0705 -0.0672,0.0982 -0.0287,0.0276 -0.066,0.0477 -0.10583,0.05 -0.0255,0.001 -0.0512,-0.004 -0.0743,-0.0153 -0.0231,-0.0109 -0.0436,-0.0268 -0.0613,-0.0453 -0.0353,-0.0369 -0.0587,-0.0834 -0.0802,-0.12979 -0.12564,-0.27092 -0.20414,-0.565 -0.21693,-0.86336 -0.024,-0.55912 0.1894,-1.11893 0.55555,-1.54215 0.29641,-0.34261 0.69091,-0.59937 1.12418,-0.7317\" id=\"path4336\" inkscape:path-effect=\"#path-effect4338;#path-effect4340\" inkscape:original-d=\"m 198.02187,163.11412 c 0.3322,-0.25531 0.59729,-1.41684 1.08087,-0.89913 0.63698,0.68191 0.8719,1.91658 0.93482,2.81466 0.21235,3.03109 -2.20207,-1.03508 1.00784,-2.22827\"/>\n",
       "    <text xml:space=\"preserve\" style=\"font-size:3.99644px;line-height:1.25;font-family:sans-serif;-inkscape-font-specification:sans-serif;stroke-width:0.136242\" x=\"200.68935\" y=\"167.2971\" id=\"text4344\"><tspan sodipodi:role=\"line\" id=\"tspan4342\" x=\"200.68935\" y=\"167.2971\" style=\"stroke-width:0.136242\">2</tspan></text>\n",
       "    <text xml:space=\"preserve\" style=\"font-size:3.99644px;line-height:1.25;font-family:sans-serif;-inkscape-font-specification:sans-serif;stroke-width:0.136242\" x=\"181.36389\" y=\"170.5247\" id=\"text4348\"><tspan sodipodi:role=\"line\" id=\"tspan4346\" x=\"181.36389\" y=\"170.5247\" style=\"stroke-width:0.136242\">-</tspan></text>\n",
       "    <text xml:space=\"preserve\" style=\"font-size:3.99644px;line-height:1.25;font-family:sans-serif;-inkscape-font-specification:sans-serif;stroke-width:0.136242\" x=\"46.175381\" y=\"238.54506\" id=\"text4352\"><tspan sodipodi:role=\"line\" id=\"tspan4350\" x=\"46.175381\" y=\"238.54506\" style=\"stroke-width:0.136242\">Sobreposto</tspan></text>\n",
       "    <text xml:space=\"preserve\" style=\"font-size:3.99644px;line-height:1.25;font-family:sans-serif;-inkscape-font-specification:sans-serif;stroke-width:0.136242\" x=\"192.28377\" y=\"238.54506\" id=\"text4356\"><tspan sodipodi:role=\"line\" id=\"tspan4354\" x=\"192.28377\" y=\"238.54506\" style=\"stroke-width:0.136242\">Estendido</tspan></text>\n",
       "    <g id=\"g4661-2\" transform=\"translate(-67.39023,-18.21437)\">\n",
       "      <path style=\"fill:none;stroke:#000000;stroke-width:0.365;stroke-linecap:butt;stroke-linejoin:miter;stroke-miterlimit:4;stroke-dasharray:none;stroke-opacity:1\" d=\"m 164.6125,168.0126 c -0.0661,2.07932 0.46003,4.02014 -0.61118,5.46555\" id=\"path4652-9\" sodipodi:nodetypes=\"cc\"/>\n",
       "      <path style=\"fill:none;stroke:#000000;stroke-width:0.365;stroke-linecap:butt;stroke-linejoin:miter;stroke-miterlimit:4;stroke-dasharray:none;stroke-opacity:1\" d=\"m 164.5347,170.69529 c 0.72288,0.37788 1.15278,0.92139 2.28685,0.0857 l -0.12099,-2.89337\" id=\"path4654-1\" sodipodi:nodetypes=\"ccc\"/>\n",
       "      <path style=\"fill:none;stroke:#000000;stroke-width:0.365;stroke-linecap:butt;stroke-linejoin:miter;stroke-miterlimit:4;stroke-dasharray:none;stroke-opacity:1\" d=\"m 166.78319,170.86932 c 0.0956,0.48541 0.40666,0.61309 1.09187,0.11931\" id=\"path4656-2\" sodipodi:nodetypes=\"cc\"/>\n",
       "    </g>\n",
       "  </g>\n",
       "</svg>"
      ],
      "text/plain": [
       "<IPython.core.display.SVG object>"
      ]
     },
     "execution_count": 128,
     "metadata": {},
     "output_type": "execute_result"
    }
   ],
   "source": [
    "SVG('figs4-9.svg')"
   ]
  },
  {
   "cell_type": "markdown",
   "metadata": {
    "slideshow": {
     "slide_type": "fragment"
    }
   },
   "source": [
    "Para o caso sobreposto: \n",
    "$$\\mu_1 = \\gamma_1 = arccos \\left(\\dfrac{b^2 + c^2 - (d+a)^2}{2bc} \\right) $$\n",
    "Para o caso estendido: \n",
    "$$ \\mu_2 = \\gamma_2 = arccos \\left( \\dfrac{b^2 + c^2 - (d+a)^2}{2bc} \\right) $$"
   ]
  },
  {
   "cell_type": "markdown",
   "metadata": {
    "slideshow": {
     "slide_type": "fragment"
    }
   },
   "source": [
    "O ângulo mínimo de transmissão $\\mu_{min}$ em um mecanimos manivela seguidor de Grashof é o menor dos valores de $\\mu_1$ e $\\mu_2$."
   ]
  },
  {
   "cell_type": "markdown",
   "metadata": {
    "slideshow": {
     "slide_type": "fragment"
    }
   },
   "source": [
    "Para um mecanismo **duplo seguidor de Grashof**, o ângulo de transmissão pode variar de $0^\\circ$ a $90^\\circ$ porque o acoplador pode fazer uma revolução completa em relação aos outros elos. <br>\n",
    "Para um mecanismo **triplo seguidor não Grashof**, o ângulo de transmissão será $0^\\circ$ nos pontos de singularidade que ocorrem quando o seguidor de saída $c$ e o acoplador $b$ forem colinerares. Nos outros pontos de singularidade, quando o seguidor de entrada $a$ e o acoplador $b$ forem colineares, o ângulo de transmissão pode ser calculado pela lei dos cossenos: <br>\n",
    "quando: $\\qquad \\nu=0,$\n",
    "$$ \\mu = arccos \\left( \\dfrac{(a+b)^{2} + c^2 - d^2}{2c(a+b)} \\right) $$\n",
    "Esse não é o menor valor que o ângulo de transmissão $\\mu$ pode obter em um triplo seguidor, já que ele esse valor é zero."
   ]
  },
  {
   "cell_type": "code",
   "execution_count": 129,
   "metadata": {
    "scrolled": true,
    "slideshow": {
     "slide_type": "fragment"
    }
   },
   "outputs": [
    {
     "data": {
      "image/svg+xml": [
       "<svg xmlns:dc=\"http://purl.org/dc/elements/1.1/\" xmlns:cc=\"http://creativecommons.org/ns#\" xmlns:rdf=\"http://www.w3.org/1999/02/22-rdf-syntax-ns#\" xmlns:svg=\"http://www.w3.org/2000/svg\" xmlns=\"http://www.w3.org/2000/svg\" xmlns:sodipodi=\"http://sodipodi.sourceforge.net/DTD/sodipodi-0.dtd\" xmlns:inkscape=\"http://www.inkscape.org/namespaces/inkscape\" width=\"239.77875mm\" height=\"88.94503mm\" viewBox=\"0 0 239.77875 88.945031\" version=\"1.1\" id=\"svg8\" inkscape:version=\"1.0.1 (3bc2e813f5, 2020-09-07)\" sodipodi:docname=\"figs4-10.svg\">\n",
       "  <defs id=\"defs2\">\n",
       "    <marker style=\"overflow:visible\" id=\"marker6340\" refX=\"0\" refY=\"0\" orient=\"auto\" inkscape:stockid=\"Arrow1Lstart\" inkscape:isstock=\"true\">\n",
       "      <path transform=\"matrix(0.8,0,0,0.8,10,0)\" style=\"fill:#000000;fill-opacity:1;fill-rule:evenodd;stroke:#000000;stroke-width:1pt;stroke-opacity:1\" d=\"M 0,0 5,-5 -12.5,0 5,5 Z\" id=\"path6338\"/>\n",
       "    </marker>\n",
       "    <marker style=\"overflow:visible\" id=\"marker6108\" refX=\"0\" refY=\"0\" orient=\"auto\" inkscape:stockid=\"Arrow1Lend\" inkscape:isstock=\"true\">\n",
       "      <path transform=\"matrix(-0.8,0,0,-0.8,-10,0)\" style=\"fill:#000000;fill-opacity:1;fill-rule:evenodd;stroke:#000000;stroke-width:1pt;stroke-opacity:1\" d=\"M 0,0 5,-5 -12.5,0 5,5 Z\" id=\"path6106\"/>\n",
       "    </marker>\n",
       "    <marker style=\"overflow:visible\" id=\"marker5362\" refX=\"0\" refY=\"0\" orient=\"auto\" inkscape:stockid=\"Arrow1Lend\" inkscape:isstock=\"true\">\n",
       "      <path transform=\"matrix(-0.8,0,0,-0.8,-10,0)\" style=\"fill:#000000;fill-opacity:1;fill-rule:evenodd;stroke:#000000;stroke-width:1pt;stroke-opacity:1\" d=\"M 0,0 5,-5 -12.5,0 5,5 Z\" id=\"path5360\"/>\n",
       "    </marker>\n",
       "    <marker style=\"overflow:visible\" id=\"marker5352\" refX=\"0\" refY=\"0\" orient=\"auto\" inkscape:stockid=\"Arrow1Lstart\" inkscape:isstock=\"true\">\n",
       "      <path transform=\"matrix(0.8,0,0,0.8,10,0)\" style=\"fill:#000000;fill-opacity:1;fill-rule:evenodd;stroke:#000000;stroke-width:1pt;stroke-opacity:1\" d=\"M 0,0 5,-5 -12.5,0 5,5 Z\" id=\"path5350\"/>\n",
       "    </marker>\n",
       "    <marker style=\"overflow:visible\" id=\"marker5342\" refX=\"0\" refY=\"0\" orient=\"auto\" inkscape:stockid=\"Arrow1Lstart\" inkscape:isstock=\"true\">\n",
       "      <path transform=\"matrix(0.8,0,0,0.8,10,0)\" style=\"fill:#000000;fill-opacity:1;fill-rule:evenodd;stroke:#000000;stroke-width:1pt;stroke-opacity:1\" d=\"M 0,0 5,-5 -12.5,0 5,5 Z\" id=\"path5340\"/>\n",
       "    </marker>\n",
       "    <marker style=\"overflow:visible\" id=\"marker5332\" refX=\"0\" refY=\"0\" orient=\"auto\" inkscape:stockid=\"Arrow1Lstart\" inkscape:isstock=\"true\">\n",
       "      <path transform=\"matrix(0.8,0,0,0.8,10,0)\" style=\"fill:#000000;fill-opacity:1;fill-rule:evenodd;stroke:#000000;stroke-width:1pt;stroke-opacity:1\" d=\"M 0,0 5,-5 -12.5,0 5,5 Z\" id=\"path5330\"/>\n",
       "    </marker>\n",
       "    <marker style=\"overflow:visible\" id=\"marker4994\" refX=\"0\" refY=\"0\" orient=\"auto\" inkscape:stockid=\"Arrow1Lstart\" inkscape:isstock=\"true\" inkscape:collect=\"always\">\n",
       "      <path transform=\"matrix(0.8,0,0,0.8,10,0)\" style=\"fill:#000000;fill-opacity:1;fill-rule:evenodd;stroke:#000000;stroke-width:1pt;stroke-opacity:1\" d=\"M 0,0 5,-5 -12.5,0 5,5 Z\" id=\"path4992\"/>\n",
       "    </marker>\n",
       "    <marker style=\"overflow:visible\" id=\"marker4804\" refX=\"0\" refY=\"0\" orient=\"auto\" inkscape:stockid=\"Arrow1Lend\" inkscape:isstock=\"true\" inkscape:collect=\"always\">\n",
       "      <path transform=\"matrix(-0.8,0,0,-0.8,-10,0)\" style=\"fill:#000000;fill-opacity:1;fill-rule:evenodd;stroke:#000000;stroke-width:1pt;stroke-opacity:1\" d=\"M 0,0 5,-5 -12.5,0 5,5 Z\" id=\"path4802\"/>\n",
       "    </marker>\n",
       "    <marker style=\"overflow:visible\" id=\"marker4536\" refX=\"0\" refY=\"0\" orient=\"auto\" inkscape:stockid=\"Arrow1Lstart\" inkscape:isstock=\"true\" inkscape:collect=\"always\">\n",
       "      <path transform=\"matrix(0.8,0,0,0.8,10,0)\" style=\"fill:#000000;fill-opacity:1;fill-rule:evenodd;stroke:#000000;stroke-width:1pt;stroke-opacity:1\" d=\"M 0,0 5,-5 -12.5,0 5,5 Z\" id=\"path4534\"/>\n",
       "    </marker>\n",
       "    <marker style=\"overflow:visible\" id=\"marker4526\" refX=\"0\" refY=\"0\" orient=\"auto\" inkscape:stockid=\"Arrow1Lstart\" inkscape:isstock=\"true\" inkscape:collect=\"always\">\n",
       "      <path transform=\"matrix(0.8,0,0,0.8,10,0)\" style=\"fill:#000000;fill-opacity:1;fill-rule:evenodd;stroke:#000000;stroke-width:1pt;stroke-opacity:1\" d=\"M 0,0 5,-5 -12.5,0 5,5 Z\" id=\"path4524\"/>\n",
       "    </marker>\n",
       "    <marker style=\"overflow:visible\" id=\"marker4110\" refX=\"0\" refY=\"0\" orient=\"auto\" inkscape:stockid=\"Arrow1Lend\" inkscape:isstock=\"true\">\n",
       "      <path transform=\"matrix(-0.8,0,0,-0.8,-10,0)\" style=\"fill:#000000;fill-opacity:1;fill-rule:evenodd;stroke:#000000;stroke-width:1pt;stroke-opacity:1\" d=\"M 0,0 5,-5 -12.5,0 5,5 Z\" id=\"path4108\"/>\n",
       "    </marker>\n",
       "    <marker style=\"overflow:visible\" id=\"marker4100\" refX=\"0\" refY=\"0\" orient=\"auto\" inkscape:stockid=\"Arrow1Lend\" inkscape:isstock=\"true\">\n",
       "      <path transform=\"matrix(-0.8,0,0,-0.8,-10,0)\" style=\"fill:#000000;fill-opacity:1;fill-rule:evenodd;stroke:#000000;stroke-width:1pt;stroke-opacity:1\" d=\"M 0,0 5,-5 -12.5,0 5,5 Z\" id=\"path4098\"/>\n",
       "    </marker>\n",
       "    <marker style=\"overflow:visible\" id=\"marker4090\" refX=\"0\" refY=\"0\" orient=\"auto\" inkscape:stockid=\"Arrow1Lstart\" inkscape:isstock=\"true\">\n",
       "      <path transform=\"matrix(0.8,0,0,0.8,10,0)\" style=\"fill:#000000;fill-opacity:1;fill-rule:evenodd;stroke:#000000;stroke-width:1pt;stroke-opacity:1\" d=\"M 0,0 5,-5 -12.5,0 5,5 Z\" id=\"path4088\"/>\n",
       "    </marker>\n",
       "    <marker style=\"overflow:visible\" id=\"marker4080\" refX=\"0\" refY=\"0\" orient=\"auto\" inkscape:stockid=\"Arrow1Lstart\" inkscape:isstock=\"true\">\n",
       "      <path transform=\"matrix(0.8,0,0,0.8,10,0)\" style=\"fill:#000000;fill-opacity:1;fill-rule:evenodd;stroke:#000000;stroke-width:1pt;stroke-opacity:1\" d=\"M 0,0 5,-5 -12.5,0 5,5 Z\" id=\"path4078\"/>\n",
       "    </marker>\n",
       "    <marker style=\"overflow:visible\" id=\"marker4070\" refX=\"0\" refY=\"0\" orient=\"auto\" inkscape:stockid=\"Arrow1Lstart\" inkscape:isstock=\"true\">\n",
       "      <path transform=\"matrix(0.8,0,0,0.8,10,0)\" style=\"fill:#000000;fill-opacity:1;fill-rule:evenodd;stroke:#000000;stroke-width:1pt;stroke-opacity:1\" d=\"M 0,0 5,-5 -12.5,0 5,5 Z\" id=\"path4068\"/>\n",
       "    </marker>\n",
       "    <marker style=\"overflow:visible\" id=\"marker4060\" refX=\"0\" refY=\"0\" orient=\"auto\" inkscape:stockid=\"Arrow1Lstart\" inkscape:isstock=\"true\">\n",
       "      <path transform=\"matrix(0.8,0,0,0.8,10,0)\" style=\"fill:#000000;fill-opacity:1;fill-rule:evenodd;stroke:#000000;stroke-width:1pt;stroke-opacity:1\" d=\"M 0,0 5,-5 -12.5,0 5,5 Z\" id=\"path4058\"/>\n",
       "    </marker>\n",
       "    <marker style=\"overflow:visible\" id=\"marker3658\" refX=\"0\" refY=\"0\" orient=\"auto\" inkscape:stockid=\"Arrow1Lend\" inkscape:isstock=\"true\">\n",
       "      <path transform=\"matrix(-0.8,0,0,-0.8,-10,0)\" style=\"fill:#000000;fill-opacity:1;fill-rule:evenodd;stroke:#000000;stroke-width:1pt;stroke-opacity:1\" d=\"M 0,0 5,-5 -12.5,0 5,5 Z\" id=\"path3656\"/>\n",
       "    </marker>\n",
       "    <marker style=\"overflow:visible\" id=\"marker3648\" refX=\"0\" refY=\"0\" orient=\"auto\" inkscape:stockid=\"Arrow1Lstart\" inkscape:isstock=\"true\">\n",
       "      <path transform=\"matrix(0.8,0,0,0.8,10,0)\" style=\"fill:#000000;fill-opacity:1;fill-rule:evenodd;stroke:#000000;stroke-width:1pt;stroke-opacity:1\" d=\"M 0,0 5,-5 -12.5,0 5,5 Z\" id=\"path3646\"/>\n",
       "    </marker>\n",
       "    <marker style=\"overflow:visible\" id=\"marker3216\" refX=\"0\" refY=\"0\" orient=\"auto\" inkscape:stockid=\"Arrow1Lend\" inkscape:isstock=\"true\">\n",
       "      <path transform=\"matrix(-0.8,0,0,-0.8,-10,0)\" style=\"fill:#000000;fill-opacity:1;fill-rule:evenodd;stroke:#000000;stroke-width:1pt;stroke-opacity:1\" d=\"M 0,0 5,-5 -12.5,0 5,5 Z\" id=\"path3214\"/>\n",
       "    </marker>\n",
       "    <marker style=\"overflow:visible\" id=\"marker3206\" refX=\"0\" refY=\"0\" orient=\"auto\" inkscape:stockid=\"Arrow1Lend\" inkscape:isstock=\"true\" inkscape:collect=\"always\">\n",
       "      <path transform=\"matrix(-0.8,0,0,-0.8,-10,0)\" style=\"fill:#000000;fill-opacity:1;fill-rule:evenodd;stroke:#000000;stroke-width:1pt;stroke-opacity:1\" d=\"M 0,0 5,-5 -12.5,0 5,5 Z\" id=\"path3204\"/>\n",
       "    </marker>\n",
       "    <marker style=\"overflow:visible\" id=\"marker3196\" refX=\"0\" refY=\"0\" orient=\"auto\" inkscape:stockid=\"Arrow1Lstart\" inkscape:isstock=\"true\">\n",
       "      <path transform=\"matrix(0.8,0,0,0.8,10,0)\" style=\"fill:#000000;fill-opacity:1;fill-rule:evenodd;stroke:#000000;stroke-width:1pt;stroke-opacity:1\" d=\"M 0,0 5,-5 -12.5,0 5,5 Z\" id=\"path3194\"/>\n",
       "    </marker>\n",
       "    <marker style=\"overflow:visible\" id=\"marker3186\" refX=\"0\" refY=\"0\" orient=\"auto\" inkscape:stockid=\"Arrow1Lstart\" inkscape:isstock=\"true\" inkscape:collect=\"always\">\n",
       "      <path transform=\"matrix(0.8,0,0,0.8,10,0)\" style=\"fill:#000000;fill-opacity:1;fill-rule:evenodd;stroke:#000000;stroke-width:1pt;stroke-opacity:1\" d=\"M 0,0 5,-5 -12.5,0 5,5 Z\" id=\"path3184\"/>\n",
       "    </marker>\n",
       "    <marker style=\"overflow:visible\" id=\"marker3176\" refX=\"0\" refY=\"0\" orient=\"auto\" inkscape:stockid=\"Arrow1Lstart\" inkscape:isstock=\"true\" inkscape:collect=\"always\">\n",
       "      <path transform=\"matrix(0.8,0,0,0.8,10,0)\" style=\"fill:#000000;fill-opacity:1;fill-rule:evenodd;stroke:#000000;stroke-width:1pt;stroke-opacity:1\" d=\"M 0,0 5,-5 -12.5,0 5,5 Z\" id=\"path3174\"/>\n",
       "    </marker>\n",
       "    <marker style=\"overflow:visible\" id=\"marker3166\" refX=\"0\" refY=\"0\" orient=\"auto\" inkscape:stockid=\"Arrow1Lstart\" inkscape:isstock=\"true\" inkscape:collect=\"always\">\n",
       "      <path transform=\"matrix(0.8,0,0,0.8,10,0)\" style=\"fill:#000000;fill-opacity:1;fill-rule:evenodd;stroke:#000000;stroke-width:1pt;stroke-opacity:1\" d=\"M 0,0 5,-5 -12.5,0 5,5 Z\" id=\"path3164\"/>\n",
       "    </marker>\n",
       "    <marker style=\"overflow:visible\" id=\"marker2776\" refX=\"0\" refY=\"0\" orient=\"auto\" inkscape:stockid=\"Arrow1Lend\" inkscape:isstock=\"true\" inkscape:collect=\"always\">\n",
       "      <path transform=\"matrix(-0.8,0,0,-0.8,-10,0)\" style=\"fill:#000000;fill-opacity:1;fill-rule:evenodd;stroke:#000000;stroke-width:1pt;stroke-opacity:1\" d=\"M 0,0 5,-5 -12.5,0 5,5 Z\" id=\"path2774\"/>\n",
       "    </marker>\n",
       "    <marker style=\"overflow:visible\" id=\"marker2676\" refX=\"0\" refY=\"0\" orient=\"auto\" inkscape:stockid=\"Arrow1Lstart\" inkscape:isstock=\"true\">\n",
       "      <path transform=\"matrix(0.8,0,0,0.8,10,0)\" style=\"fill:#000000;fill-opacity:1;fill-rule:evenodd;stroke:#000000;stroke-width:1pt;stroke-opacity:1\" d=\"M 0,0 5,-5 -12.5,0 5,5 Z\" id=\"path2674\"/>\n",
       "    </marker>\n",
       "    <marker style=\"overflow:visible\" id=\"marker2600\" refX=\"0\" refY=\"0\" orient=\"auto\" inkscape:stockid=\"Arrow1Lstart\" inkscape:isstock=\"true\" inkscape:collect=\"always\">\n",
       "      <path transform=\"matrix(0.8,0,0,0.8,10,0)\" style=\"fill:#000000;fill-opacity:1;fill-rule:evenodd;stroke:#000000;stroke-width:1pt;stroke-opacity:1\" d=\"M 0,0 5,-5 -12.5,0 5,5 Z\" id=\"path2598\"/>\n",
       "    </marker>\n",
       "    <marker style=\"overflow:visible\" id=\"marker2530\" refX=\"0\" refY=\"0\" orient=\"auto\" inkscape:stockid=\"Arrow1Lend\" inkscape:isstock=\"true\">\n",
       "      <path transform=\"matrix(-0.8,0,0,-0.8,-10,0)\" style=\"fill:#000000;fill-opacity:1;fill-rule:evenodd;stroke:#000000;stroke-width:1pt;stroke-opacity:1\" d=\"M 0,0 5,-5 -12.5,0 5,5 Z\" id=\"path2528\"/>\n",
       "    </marker>\n",
       "    <marker style=\"overflow:visible\" id=\"marker1512\" refX=\"0\" refY=\"0\" orient=\"auto\" inkscape:stockid=\"Arrow1Lstart\" inkscape:isstock=\"true\" inkscape:collect=\"always\">\n",
       "      <path transform=\"matrix(0.8,0,0,0.8,10,0)\" style=\"fill:#000000;fill-opacity:1;fill-rule:evenodd;stroke:#000000;stroke-width:1pt;stroke-opacity:1\" d=\"M 0,0 5,-5 -12.5,0 5,5 Z\" id=\"path1510\"/>\n",
       "    </marker>\n",
       "    <marker style=\"overflow:visible\" id=\"marker1454\" refX=\"0\" refY=\"0\" orient=\"auto\" inkscape:stockid=\"Arrow1Lend\" inkscape:isstock=\"true\">\n",
       "      <path transform=\"matrix(-0.8,0,0,-0.8,-10,0)\" style=\"fill:#000000;fill-opacity:1;fill-rule:evenodd;stroke:#000000;stroke-width:1pt;stroke-opacity:1\" d=\"M 0,0 5,-5 -12.5,0 5,5 Z\" id=\"path1452\"/>\n",
       "    </marker>\n",
       "    <marker style=\"overflow:visible\" id=\"marker1402\" refX=\"0\" refY=\"0\" orient=\"auto\" inkscape:stockid=\"Arrow1Lend\" inkscape:isstock=\"true\">\n",
       "      <path transform=\"matrix(-0.8,0,0,-0.8,-10,0)\" style=\"fill:#000000;fill-opacity:1;fill-rule:evenodd;stroke:#000000;stroke-width:1pt;stroke-opacity:1\" d=\"M 0,0 5,-5 -12.5,0 5,5 Z\" id=\"path1400\"/>\n",
       "    </marker>\n",
       "    <marker style=\"overflow:visible\" id=\"marker1348\" refX=\"0\" refY=\"0\" orient=\"auto\" inkscape:stockid=\"Arrow1Lstart\" inkscape:isstock=\"true\" inkscape:collect=\"always\">\n",
       "      <path transform=\"matrix(0.8,0,0,0.8,10,0)\" style=\"fill:#000000;fill-opacity:1;fill-rule:evenodd;stroke:#000000;stroke-width:1pt;stroke-opacity:1\" d=\"M 0,0 5,-5 -12.5,0 5,5 Z\" id=\"path1346\"/>\n",
       "    </marker>\n",
       "    <marker style=\"overflow:visible\" id=\"Arrow2Mstart\" refX=\"0\" refY=\"0\" orient=\"auto\" inkscape:stockid=\"Arrow2Mstart\" inkscape:isstock=\"true\">\n",
       "      <path transform=\"scale(0.6)\" d=\"M 8.7185878,4.0337352 -2.2072895,0.01601326 8.7185884,-4.0017078 c -1.7454984,2.3720609 -1.7354408,5.6174519 -6e-7,8.035443 z\" style=\"fill:#000000;fill-opacity:1;fill-rule:evenodd;stroke:#000000;stroke-width:0.625;stroke-linejoin:round;stroke-opacity:1\" id=\"path980\"/>\n",
       "    </marker>\n",
       "    <marker style=\"overflow:visible\" id=\"Arrow2Mend\" refX=\"0\" refY=\"0\" orient=\"auto\" inkscape:stockid=\"Arrow2Mend\" inkscape:isstock=\"true\">\n",
       "      <path transform=\"scale(-0.6)\" d=\"M 8.7185878,4.0337352 -2.2072895,0.01601326 8.7185884,-4.0017078 c -1.7454984,2.3720609 -1.7354408,5.6174519 -6e-7,8.035443 z\" style=\"fill:#000000;fill-opacity:1;fill-rule:evenodd;stroke:#000000;stroke-width:0.625;stroke-linejoin:round;stroke-opacity:1\" id=\"path983\"/>\n",
       "    </marker>\n",
       "  </defs>\n",
       "  <sodipodi:namedview id=\"base\" pagecolor=\"#ffffff\" bordercolor=\"#666666\" borderopacity=\"1.0\" inkscape:pageopacity=\"0.0\" inkscape:pageshadow=\"2\" inkscape:zoom=\"0.7\" inkscape:cx=\"358.7699\" inkscape:cy=\"68.298974\" inkscape:document-units=\"mm\" inkscape:current-layer=\"layer11\" inkscape:document-rotation=\"0\" showgrid=\"false\" inkscape:snap-object-midpoints=\"true\" inkscape:snap-smooth-nodes=\"true\" inkscape:window-width=\"1920\" inkscape:window-height=\"1017\" inkscape:window-x=\"-8\" inkscape:window-y=\"-8\" inkscape:window-maximized=\"1\"/>\n",
       "  <metadata id=\"metadata5\">\n",
       "    <rdf:RDF>\n",
       "      <cc:Work rdf:about=\"\">\n",
       "        <dc:format>image/svg+xml</dc:format>\n",
       "        <dc:type rdf:resource=\"http://purl.org/dc/dcmitype/StillImage\"/>\n",
       "        <dc:title/>\n",
       "      </cc:Work>\n",
       "    </rdf:RDF>\n",
       "  </metadata>\n",
       "  <g inkscape:groupmode=\"layer\" id=\"layer11\" inkscape:label=\"Layer 2\">\n",
       "    <rect style=\"fill:#ffffff;stroke:#ffffff;stroke-width:0.901307\" id=\"rect9228\" width=\"243.54106\" height=\"92.694298\" x=\"-1.6544684\" y=\"-1.2422178\"/>\n",
       "  </g>\n",
       "  <g inkscape:label=\"Layer 1\" inkscape:groupmode=\"layer\" id=\"layer1\" transform=\"translate(12.58663,-125.8786)\">\n",
       "    <path id=\"path839\" style=\"fill:#ffffff;stroke:#000000;stroke-width:0.601979;stroke-linejoin:bevel;stroke-miterlimit:4;stroke-dasharray:none\" d=\"m 4.7924713,165.30965 a 5.0751427,5.0360814 0 0 0 -5.06547847,5.03608 5.0751427,5.0360814 0 0 0 0,0.01 v 8.80355 H 9.877278 v -8.81315 a 5.0751427,5.0360814 0 0 0 -5.0751424,-5.03608 5.0751427,5.0360814 0 0 0 -0.00967,0 z\"/>\n",
       "    <path style=\"fill:none;stroke:#000000;stroke-width:0.601978;stroke-linecap:butt;stroke-linejoin:miter;stroke-miterlimit:4;stroke-dasharray:none;stroke-opacity:1\" d=\"M -12.326472,179.15887 H 24.468313\" id=\"path850\"/>\n",
       "    <path style=\"fill:none;stroke:#000000;stroke-width:0.601978;stroke-linecap:butt;stroke-linejoin:miter;stroke-miterlimit:4;stroke-dasharray:none;stroke-opacity:1\" d=\"m -12.326472,179.15887 4.76147,8.18364\" id=\"path852\"/>\n",
       "    <path style=\"fill:none;stroke:#000000;stroke-width:0.601978;stroke-linecap:butt;stroke-linejoin:miter;stroke-miterlimit:4;stroke-dasharray:none;stroke-opacity:1\" d=\"m -3.9524807,179.15887 4.76146954,8.18364\" id=\"path854\"/>\n",
       "    <path style=\"fill:none;stroke:#000000;stroke-width:0.601978;stroke-linecap:butt;stroke-linejoin:miter;stroke-miterlimit:4;stroke-dasharray:none;stroke-opacity:1\" d=\"m 4.1677528,179.15887 4.7614694,8.18364\" id=\"path856\"/>\n",
       "    <path style=\"fill:none;stroke:#000000;stroke-width:0.601978;stroke-linecap:butt;stroke-linejoin:miter;stroke-miterlimit:4;stroke-dasharray:none;stroke-opacity:1\" d=\"m 12.541743,179.15887 4.76147,8.18364\" id=\"path858\"/>\n",
       "    <path style=\"fill:none;stroke:#000000;stroke-width:0.601978;stroke-linecap:butt;stroke-linejoin:miter;stroke-miterlimit:4;stroke-dasharray:none;stroke-opacity:1\" d=\"m 20.915734,179.15887 4.761473,8.18364\" id=\"path860\"/>\n",
       "    <path id=\"path906\" style=\"fill:#ffffff;stroke:#000000;stroke-width:0.601979;stroke-linejoin:bevel;stroke-miterlimit:4;stroke-dasharray:none\" d=\"m 76.352064,165.30965 a 5.0751427,5.0360814 0 0 0 -5.065478,5.03608 5.0751427,5.0360814 0 0 0 0,0.01 v 8.80355 h 10.150285 v -8.81315 a 5.0751427,5.0360814 0 0 0 -5.075142,-5.03608 5.0751427,5.0360814 0 0 0 -0.0097,0 z\"/>\n",
       "    <path style=\"fill:none;stroke:#000000;stroke-width:0.601978;stroke-linecap:butt;stroke-linejoin:miter;stroke-miterlimit:4;stroke-dasharray:none;stroke-opacity:1\" d=\"M 59.233121,179.15887 H 96.027907\" id=\"path908\"/>\n",
       "    <path style=\"fill:none;stroke:#000000;stroke-width:0.601978;stroke-linecap:butt;stroke-linejoin:miter;stroke-miterlimit:4;stroke-dasharray:none;stroke-opacity:1\" d=\"m 59.233121,179.15887 4.76147,8.18364\" id=\"path910\"/>\n",
       "    <path style=\"fill:none;stroke:#000000;stroke-width:0.601978;stroke-linecap:butt;stroke-linejoin:miter;stroke-miterlimit:4;stroke-dasharray:none;stroke-opacity:1\" d=\"m 67.607112,179.15887 4.76147,8.18364\" id=\"path912\"/>\n",
       "    <path style=\"fill:none;stroke:#000000;stroke-width:0.601978;stroke-linecap:butt;stroke-linejoin:miter;stroke-miterlimit:4;stroke-dasharray:none;stroke-opacity:1\" d=\"m 75.727345,179.15887 4.76147,8.18364\" id=\"path914\"/>\n",
       "    <path style=\"fill:none;stroke:#000000;stroke-width:0.601978;stroke-linecap:butt;stroke-linejoin:miter;stroke-miterlimit:4;stroke-dasharray:none;stroke-opacity:1\" d=\"m 84.101336,179.15887 4.761467,8.18364\" id=\"path916\"/>\n",
       "    <path style=\"fill:none;stroke:#000000;stroke-width:0.601978;stroke-linecap:butt;stroke-linejoin:miter;stroke-miterlimit:4;stroke-dasharray:none;stroke-opacity:1\" d=\"m 92.475325,179.15887 4.761477,8.18364\" id=\"path918\"/>\n",
       "    <path style=\"fill:none;stroke:#000000;stroke-width:0.571881;stroke-linecap:butt;stroke-linejoin:miter;stroke-miterlimit:4;stroke-dasharray:none;stroke-opacity:1\" d=\"M 4.8299784,170.2856 -7.4556801,131.29229 76.389569,170.28559\" id=\"path932\"/>\n",
       "    <ellipse style=\"fill:#ffffff;stroke:#000000;stroke-width:0.601978;stroke-linejoin:bevel\" id=\"ellipse934\" cx=\"-7.4556804\" cy=\"131.29228\" rx=\"1.7740169\" ry=\"1.7603631\"/>\n",
       "    <path style=\"fill:none;stroke:#000000;stroke-width:0.227892;stroke-linecap:butt;stroke-linejoin:miter;stroke-miterlimit:4;stroke-dasharray:1.82314, 0.911569;stroke-dashoffset:0;stroke-opacity:1\" d=\"M 4.8299784,170.2856 H 76.389568\" id=\"path946\"/>\n",
       "    <ellipse style=\"fill:#ffffff;stroke:#000000;stroke-width:0.601978;stroke-linejoin:bevel\" id=\"ellipse948\" cx=\"28.823782\" cy=\"148.10759\" rx=\"1.7740169\" ry=\"1.7603631\"/>\n",
       "    <path style=\"fill:none;stroke:#000000;stroke-width:0.227534px;stroke-linecap:butt;stroke-linejoin:miter;stroke-opacity:1;marker-start:url(#marker6340);marker-end:url(#marker6108)\" d=\"m -3.8454855,143.87924 c 2.93759668,-1.00875 5.9997034,-1.16645 8.2245535,-7.04696\" id=\"path950\" sodipodi:nodetypes=\"cc\"/>\n",
       "    <path style=\"fill:none;stroke:#000000;stroke-width:0.399886;stroke-linecap:butt;stroke-linejoin:miter;stroke-miterlimit:4;stroke-dasharray:none;stroke-opacity:1\" d=\"m 2.6692948,142.95635 1.3731718,3.58965 c 1.9101196,-0.92928 2.3187318,-2.53747 2.3836212,-4.30107\" id=\"path952\" sodipodi:nodetypes=\"ccc\"/>\n",
       "    <path style=\"fill:none;stroke:#000000;stroke-width:0.227534px;stroke-linecap:butt;stroke-linejoin:miter;stroke-opacity:1;marker-start:url(#marker1348)\" d=\"m 38.693495,152.79245 c 1.962219,-3.03936 2.30692,-6.35295 1.653434,-9.83576\" id=\"path954\" sodipodi:nodetypes=\"cc\"/>\n",
       "    <path style=\"fill:none;stroke:#000000;stroke-width:0.227534px;stroke-linecap:butt;stroke-linejoin:miter;stroke-opacity:1;marker-start:url(#marker1512)\" d=\"m 38.693495,152.79245 c -1.057025,2.67658 -2.405717,5.21486 -6.584701,6.41119\" id=\"path1398\" sodipodi:nodetypes=\"cc\"/>\n",
       "    <text xml:space=\"preserve\" style=\"font-size:6.67432px;line-height:1.25;font-family:sans-serif;-inkscape-font-specification:sans-serif;stroke-width:0.227534\" x=\"-8.6519442\" y=\"156.76189\" id=\"text1576\"><tspan sodipodi:role=\"line\" id=\"tspan1574\" x=\"-8.6519442\" y=\"156.76189\" style=\"stroke-width:0.227534\">a</tspan></text>\n",
       "    <text xml:space=\"preserve\" style=\"font-size:6.67432px;line-height:1.25;font-family:sans-serif;-inkscape-font-specification:sans-serif;stroke-width:0.227534\" x=\"19.240337\" y=\"139.54747\" id=\"text1580\"><tspan sodipodi:role=\"line\" id=\"tspan1578\" x=\"19.240337\" y=\"139.54747\" style=\"stroke-width:0.227534\">b</tspan></text>\n",
       "    <text xml:space=\"preserve\" style=\"font-size:6.67432px;line-height:1.25;font-family:sans-serif;-inkscape-font-specification:sans-serif;stroke-width:0.227534\" x=\"57.21785\" y=\"158.07674\" id=\"text1584\"><tspan sodipodi:role=\"line\" id=\"tspan1582\" x=\"57.21785\" y=\"158.07674\" style=\"stroke-width:0.227534\">c</tspan></text>\n",
       "    <path style=\"fill:none;stroke:#000000;stroke-width:0.227534px;stroke-linecap:butt;stroke-linejoin:miter;stroke-opacity:1;marker-start:url(#marker2600);marker-end:url(#marker2776)\" d=\"M 19.37389,170.40606 C 15.772027,164.30388 10.619963,160.24842 1.7452054,161.10793\" id=\"path1586\" sodipodi:nodetypes=\"cc\"/>\n",
       "    <g id=\"g2510\" transform=\"matrix(0.85997074,0,0,0.85997074,-1.5917587,31.026708)\">\n",
       "      <ellipse style=\"fill:#ffffff;stroke:#000000;stroke-width:0.365;stroke-linejoin:bevel;stroke-miterlimit:4;stroke-dasharray:none;stroke-dashoffset:0\" id=\"path1588\" cx=\"18.292208\" cy=\"149.43945\" rx=\"1.857706\" ry=\"2.7635734\"/>\n",
       "      <path style=\"fill:none;stroke:#000000;stroke-width:0.264583px;stroke-linecap:butt;stroke-linejoin:miter;stroke-opacity:1\" d=\"m 16.434501,149.43945 h 3.715412\" id=\"path1590\"/>\n",
       "    </g>\n",
       "    <text xml:space=\"preserve\" style=\"font-size:3.02482px;line-height:1.25;font-family:sans-serif;-inkscape-font-specification:sans-serif;stroke-width:0.227534\" x=\"15.999214\" y=\"163.11235\" id=\"text1594\"><tspan sodipodi:role=\"line\" id=\"tspan1592\" x=\"15.999214\" y=\"163.11235\" style=\"stroke-width:0.227534\">2</tspan></text>\n",
       "    <g id=\"g4661-2\" transform=\"matrix(0.85997074,0,0,0.85997074,-98.69114,-4.2932853)\" style=\"stroke-width:0.4;stroke-miterlimit:4;stroke-dasharray:none\">\n",
       "      <path style=\"fill:none;stroke:#000000;stroke-width:0.4;stroke-linecap:butt;stroke-linejoin:miter;stroke-miterlimit:4;stroke-dasharray:none;stroke-opacity:1\" d=\"m 164.6125,168.0126 c -0.0661,2.07932 0.46003,4.02014 -0.61118,5.46555\" id=\"path4652-9\" sodipodi:nodetypes=\"cc\"/>\n",
       "      <path style=\"fill:none;stroke:#000000;stroke-width:0.4;stroke-linecap:butt;stroke-linejoin:miter;stroke-miterlimit:4;stroke-dasharray:none;stroke-opacity:1\" d=\"m 164.5347,170.69529 c 0.72288,0.37788 1.15278,0.92139 2.28685,0.0857 l -0.12099,-2.89337\" id=\"path4654-1\" sodipodi:nodetypes=\"ccc\"/>\n",
       "      <path style=\"fill:none;stroke:#000000;stroke-width:0.4;stroke-linecap:butt;stroke-linejoin:miter;stroke-miterlimit:4;stroke-dasharray:none;stroke-opacity:1\" d=\"m 166.78319,170.86932 c 0.0956,0.48541 0.40666,0.61309 1.09187,0.11931\" id=\"path4656-2\" sodipodi:nodetypes=\"cc\"/>\n",
       "    </g>\n",
       "    <text xml:space=\"preserve\" style=\"font-size:4.69228px;line-height:1.25;font-family:sans-serif;-inkscape-font-specification:sans-serif;stroke-width:0.227534\" x=\"47.240452\" y=\"143.24576\" id=\"text2504\"><tspan sodipodi:role=\"line\" id=\"tspan2502\" x=\"47.240452\" y=\"143.24576\" style=\"stroke-width:0.227534\">= 0</tspan></text>\n",
       "    <circle style=\"fill:#ffffff;stroke:#000000;stroke-width:0.227891;stroke-linejoin:bevel;stroke-miterlimit:4;stroke-dasharray:none;stroke-dashoffset:0\" id=\"path2506\" cx=\"56.405445\" cy=\"140.06941\" r=\"0.77112204\"/>\n",
       "    <text xml:space=\"preserve\" style=\"font-size:6.67432px;line-height:1.25;font-family:sans-serif;-inkscape-font-specification:sans-serif;stroke-width:0.227534\" x=\"34.423878\" y=\"169.65079\" id=\"text2514\"><tspan sodipodi:role=\"line\" id=\"tspan2512\" x=\"34.423878\" y=\"169.65079\" style=\"stroke-width:0.227534\">d</tspan></text>\n",
       "    <path style=\"fill:none;stroke:#000000;stroke-width:0.571881;stroke-linecap:butt;stroke-linejoin:miter;stroke-miterlimit:4;stroke-dasharray:3.43128, 1.14376;stroke-dashoffset:0;stroke-opacity:1\" d=\"M 4.8299784,170.23309 -7.4556801,209.2264 76.389569,170.2331\" id=\"path3150\"/>\n",
       "    <ellipse style=\"fill:#ffffff;stroke:#000000;stroke-width:0.601978;stroke-linejoin:bevel\" id=\"ellipse3152\" cx=\"-7.4556804\" cy=\"-209.2256\" rx=\"1.7740169\" ry=\"1.7603631\" transform=\"scale(1,-1)\"/>\n",
       "    <ellipse style=\"fill:#ffffff;stroke:#000000;stroke-width:0.601978;stroke-linejoin:bevel\" id=\"ellipse3154\" cx=\"28.823782\" cy=\"-192.41029\" rx=\"1.7740169\" ry=\"1.7603631\" transform=\"scale(1,-1)\"/>\n",
       "    <path style=\"fill:none;stroke:#000000;stroke-width:0.227534px;stroke-linecap:butt;stroke-linejoin:miter;stroke-opacity:1;marker-start:url(#marker3196);marker-end:url(#marker3216)\" d=\"m -3.8454855,196.63945 c 2.93759668,1.00875 5.9997034,1.16645 8.2245535,7.04696\" id=\"path3156\" sodipodi:nodetypes=\"cc\"/>\n",
       "    <path style=\"fill:none;stroke:#000000;stroke-width:0.227534px;stroke-linecap:butt;stroke-linejoin:miter;stroke-opacity:1;marker-start:url(#marker3186)\" d=\"m 38.693495,187.72624 c 1.962219,3.03937 2.30692,6.35295 1.653434,9.83576\" id=\"path3158\" sodipodi:nodetypes=\"cc\"/>\n",
       "    <path style=\"fill:none;stroke:#000000;stroke-width:0.227534px;stroke-linecap:butt;stroke-linejoin:miter;stroke-opacity:1;marker-start:url(#marker3176)\" d=\"m 38.693495,187.72624 c -1.057025,-2.67658 -2.405717,-5.21486 -6.584701,-6.41119\" id=\"path3160\" sodipodi:nodetypes=\"cc\"/>\n",
       "    <path style=\"fill:none;stroke:#000000;stroke-width:0.227534px;stroke-linecap:butt;stroke-linejoin:miter;stroke-opacity:1;marker-start:url(#marker3166);marker-end:url(#marker3206)\" d=\"m 19.37389,170.40606 c -3.719286,8.40053 -9.03931,13.98346 -18.2033879,12.80021\" id=\"path3162\" sodipodi:nodetypes=\"cc\"/>\n",
       "    <path style=\"fill:none;stroke:#000000;stroke-width:0.399886;stroke-linecap:butt;stroke-linejoin:miter;stroke-miterlimit:4;stroke-dasharray:none;stroke-opacity:1\" d=\"m 2.7297281,194.72839 1.3731718,3.58965 c 1.9101196,-0.92928 2.3187318,-2.53746 2.3836212,-4.30107\" id=\"path3512\" sodipodi:nodetypes=\"ccc\"/>\n",
       "    <g id=\"g3520\" transform=\"matrix(0.85997074,0,0,0.85997074,-97.833156,46.959481)\" style=\"stroke-width:0.4;stroke-miterlimit:4;stroke-dasharray:none\">\n",
       "      <path style=\"fill:none;stroke:#000000;stroke-width:0.4;stroke-linecap:butt;stroke-linejoin:miter;stroke-miterlimit:4;stroke-dasharray:none;stroke-opacity:1\" d=\"m 164.6125,168.0126 c -0.0661,2.07932 0.46003,4.02014 -0.61118,5.46555\" id=\"path3514\" sodipodi:nodetypes=\"cc\"/>\n",
       "      <path style=\"fill:none;stroke:#000000;stroke-width:0.4;stroke-linecap:butt;stroke-linejoin:miter;stroke-miterlimit:4;stroke-dasharray:none;stroke-opacity:1\" d=\"m 164.5347,170.69529 c 0.72288,0.37788 1.15278,0.92139 2.28685,0.0857 l -0.12099,-2.89337\" id=\"path3516\" sodipodi:nodetypes=\"ccc\"/>\n",
       "      <path style=\"fill:none;stroke:#000000;stroke-width:0.4;stroke-linecap:butt;stroke-linejoin:miter;stroke-miterlimit:4;stroke-dasharray:none;stroke-opacity:1\" d=\"m 166.78319,170.86932 c 0.0956,0.48541 0.40666,0.61309 1.09187,0.11931\" id=\"path3518\" sodipodi:nodetypes=\"cc\"/>\n",
       "    </g>\n",
       "    <text xml:space=\"preserve\" style=\"font-size:4.69228px;line-height:1.25;font-family:sans-serif;-inkscape-font-specification:sans-serif;stroke-width:0.227534\" x=\"48.098434\" y=\"194.49852\" id=\"text3524\"><tspan sodipodi:role=\"line\" id=\"tspan3522\" x=\"48.098434\" y=\"194.49852\" style=\"stroke-width:0.227534\">= 0</tspan></text>\n",
       "    <circle style=\"fill:#ffffff;stroke:#000000;stroke-width:0.227891;stroke-linejoin:bevel;stroke-miterlimit:4;stroke-dasharray:none;stroke-dashoffset:0\" id=\"circle3526\" cx=\"57.263435\" cy=\"191.32219\" r=\"0.77112204\"/>\n",
       "    <g id=\"g3556\" transform=\"matrix(0.85997074,0,0,0.85997074,7.4589165,46.0472)\">\n",
       "      <ellipse style=\"fill:#ffffff;stroke:#000000;stroke-width:0.365;stroke-linejoin:bevel;stroke-miterlimit:4;stroke-dasharray:none;stroke-dashoffset:0\" id=\"ellipse3552\" cx=\"18.292208\" cy=\"149.43945\" rx=\"1.857706\" ry=\"2.7635734\"/>\n",
       "      <path style=\"fill:none;stroke:#000000;stroke-width:0.264583px;stroke-linecap:butt;stroke-linejoin:miter;stroke-opacity:1\" d=\"m 16.434501,149.43945 h 3.715412\" id=\"path3554\"/>\n",
       "    </g>\n",
       "    <text xml:space=\"preserve\" style=\"font-size:3.02482px;line-height:1.25;font-family:sans-serif;-inkscape-font-specification:sans-serif;stroke-width:0.227534\" x=\"25.049889\" y=\"178.13284\" id=\"text3560\"><tspan sodipodi:role=\"line\" id=\"tspan3558\" x=\"25.049889\" y=\"178.13284\" style=\"stroke-width:0.227534\">2</tspan></text>\n",
       "    <text xml:space=\"preserve\" style=\"font-size:6.67432px;line-height:1.25;font-family:sans-serif;-inkscape-font-specification:sans-serif;stroke-width:0.227534\" x=\"18.886677\" y=\"177.3707\" id=\"text3564\"><tspan sodipodi:role=\"line\" id=\"tspan3562\" x=\"18.886677\" y=\"177.3707\" style=\"stroke-width:0.227534\">-</tspan></text>\n",
       "    <ellipse style=\"fill:#ffffff;stroke:#000000;stroke-width:0.601978;stroke-linejoin:bevel\" id=\"path1592\" cx=\"4.8299785\" cy=\"170.2856\" rx=\"1.7740169\" ry=\"1.7603631\"/>\n",
       "    <ellipse style=\"fill:#ffffff;stroke:#000000;stroke-width:0.601978;stroke-linejoin:bevel\" id=\"circle920\" cx=\"76.389572\" cy=\"170.2856\" rx=\"1.7740169\" ry=\"1.7603631\"/>\n",
       "    <path id=\"path3962\" style=\"fill:#ffffff;stroke:#000000;stroke-width:0.601979;stroke-linejoin:bevel;stroke-miterlimit:4;stroke-dasharray:none\" d=\"m 134.48717,165.30965 a 5.0751427,5.0360814 0 0 0 -5.06551,5.03608 5.0751427,5.0360814 0 0 0 0,0.01 v 8.80355 h 10.15035 v -8.81315 a 5.0751427,5.0360814 0 0 0 -5.07517,-5.03608 5.0751427,5.0360814 0 0 0 -0.01,0 z\"/>\n",
       "    <path style=\"fill:none;stroke:#000000;stroke-width:0.601978;stroke-linecap:butt;stroke-linejoin:miter;stroke-miterlimit:4;stroke-dasharray:none;stroke-opacity:1\" d=\"m 117.36812,179.15887 h 36.795\" id=\"path3964\"/>\n",
       "    <path style=\"fill:none;stroke:#000000;stroke-width:0.601978;stroke-linecap:butt;stroke-linejoin:miter;stroke-miterlimit:4;stroke-dasharray:none;stroke-opacity:1\" d=\"m 117.36812,179.15887 4.7615,8.18364\" id=\"path3966\"/>\n",
       "    <path style=\"fill:none;stroke:#000000;stroke-width:0.601978;stroke-linecap:butt;stroke-linejoin:miter;stroke-miterlimit:4;stroke-dasharray:none;stroke-opacity:1\" d=\"m 125.74217,179.15887 4.76149,8.18364\" id=\"path3968\"/>\n",
       "    <path style=\"fill:none;stroke:#000000;stroke-width:0.601978;stroke-linecap:butt;stroke-linejoin:miter;stroke-miterlimit:4;stroke-dasharray:none;stroke-opacity:1\" d=\"m 133.86245,179.15887 4.7615,8.18364\" id=\"path3970\"/>\n",
       "    <path style=\"fill:none;stroke:#000000;stroke-width:0.601978;stroke-linecap:butt;stroke-linejoin:miter;stroke-miterlimit:4;stroke-dasharray:none;stroke-opacity:1\" d=\"m 142.23649,179.15887 4.7615,8.18364\" id=\"path3972\"/>\n",
       "    <path style=\"fill:none;stroke:#000000;stroke-width:0.601978;stroke-linecap:butt;stroke-linejoin:miter;stroke-miterlimit:4;stroke-dasharray:none;stroke-opacity:1\" d=\"m 150.61052,179.15887 4.76151,8.18364\" id=\"path3974\"/>\n",
       "    <path id=\"path3976\" style=\"fill:#ffffff;stroke:#000000;stroke-width:0.601979;stroke-linejoin:bevel;stroke-miterlimit:4;stroke-dasharray:none\" d=\"m 206.04717,165.30965 a 5.0751427,5.0360814 0 0 0 -5.0655,5.03608 5.0751427,5.0360814 0 0 0 0,0.01 v 8.80355 h 10.15034 v -8.81315 a 5.0751427,5.0360814 0 0 0 -5.07517,-5.03608 5.0751427,5.0360814 0 0 0 -0.01,0 z\"/>\n",
       "    <path style=\"fill:none;stroke:#000000;stroke-width:0.601978;stroke-linecap:butt;stroke-linejoin:miter;stroke-miterlimit:4;stroke-dasharray:none;stroke-opacity:1\" d=\"m 188.92813,179.15887 h 36.79493\" id=\"path3978\"/>\n",
       "    <path style=\"fill:none;stroke:#000000;stroke-width:0.601978;stroke-linecap:butt;stroke-linejoin:miter;stroke-miterlimit:4;stroke-dasharray:none;stroke-opacity:1\" d=\"m 188.92813,179.15887 4.7615,8.18364\" id=\"path3980\"/>\n",
       "    <path style=\"fill:none;stroke:#000000;stroke-width:0.601978;stroke-linecap:butt;stroke-linejoin:miter;stroke-miterlimit:4;stroke-dasharray:none;stroke-opacity:1\" d=\"m 197.30217,179.15887 4.7615,8.18364\" id=\"path3982\"/>\n",
       "    <path style=\"fill:none;stroke:#000000;stroke-width:0.601978;stroke-linecap:butt;stroke-linejoin:miter;stroke-miterlimit:4;stroke-dasharray:none;stroke-opacity:1\" d=\"m 205.42245,179.15887 4.7615,8.18364\" id=\"path3984\"/>\n",
       "    <path style=\"fill:none;stroke:#000000;stroke-width:0.601978;stroke-linecap:butt;stroke-linejoin:miter;stroke-miterlimit:4;stroke-dasharray:none;stroke-opacity:1\" d=\"m 213.79649,179.15887 4.76147,8.18364\" id=\"path3986\"/>\n",
       "    <path style=\"fill:none;stroke:#000000;stroke-width:0.601978;stroke-linecap:butt;stroke-linejoin:miter;stroke-miterlimit:4;stroke-dasharray:none;stroke-opacity:1\" d=\"m 222.17048,179.15887 4.76148,8.18364\" id=\"path3988\"/>\n",
       "    <path style=\"fill:none;stroke:#000000;stroke-width:0.227892;stroke-linecap:butt;stroke-linejoin:miter;stroke-miterlimit:4;stroke-dasharray:1.82314, 0.911569;stroke-dashoffset:0;stroke-opacity:1\" d=\"m 134.52468,170.2856 h 71.55999\" id=\"path3990\"/>\n",
       "    <text xml:space=\"preserve\" style=\"font-size:6.67432px;line-height:1.25;font-family:sans-serif;-inkscape-font-specification:sans-serif;stroke-width:0.227534\" x=\"164.11749\" y=\"169.65079\" id=\"text4014\"><tspan sodipodi:role=\"line\" id=\"tspan4012\" x=\"164.11749\" y=\"169.65079\" style=\"stroke-width:0.227534\">d</tspan></text>\n",
       "    <path style=\"fill:none;stroke:#000000;stroke-width:0.657878;stroke-linecap:butt;stroke-linejoin:miter;stroke-miterlimit:4;stroke-dasharray:none;stroke-opacity:1\" d=\"m 206.08259,170.2856 2.00101,-42.34565 -73.55892,42.34565\" id=\"path4498\"/>\n",
       "    <ellipse style=\"fill:#ffffff;stroke:#000000;stroke-width:0.601978;stroke-linejoin:bevel\" id=\"ellipse4500\" cx=\"171.33749\" cy=\"149.0609\" rx=\"1.7740169\" ry=\"1.7603631\"/>\n",
       "    <path style=\"fill:none;stroke:#000000;stroke-width:0.227534px;stroke-linecap:butt;stroke-linejoin:miter;stroke-opacity:1;marker-start:url(#marker4536)\" d=\"m 177.54845,145.96285 c 1.96223,3.03937 2.30693,6.35296 1.65344,9.83576\" id=\"path4520\" sodipodi:nodetypes=\"cc\"/>\n",
       "    <path style=\"fill:none;stroke:#000000;stroke-width:0.227534px;stroke-linecap:butt;stroke-linejoin:miter;stroke-opacity:1;marker-start:url(#marker4526)\" d=\"m 177.54845,145.96285 c -1.05702,-2.67657 -2.40571,-5.21485 -6.58469,-6.41119\" id=\"path4522\" sodipodi:nodetypes=\"cc\"/>\n",
       "    <path style=\"fill:none;stroke:#000000;stroke-width:0.399886;stroke-linecap:butt;stroke-linejoin:miter;stroke-miterlimit:4;stroke-dasharray:none;stroke-opacity:1\" d=\"m 173.40337,135.31876 1.37318,3.58965 c 1.91012,-0.92928 2.31873,-2.53747 2.38362,-4.30107\" id=\"path4792\" sodipodi:nodetypes=\"ccc\"/>\n",
       "    <text xml:space=\"preserve\" style=\"font-size:4.69228px;line-height:1.25;font-family:sans-serif;-inkscape-font-specification:sans-serif;stroke-width:0.227534\" x=\"178.12305\" y=\"138.77902\" id=\"text4796\"><tspan sodipodi:role=\"line\" id=\"tspan4794\" x=\"178.12305\" y=\"138.77902\" style=\"stroke-width:0.227534\">= 0</tspan></text>\n",
       "    <circle style=\"fill:#ffffff;stroke:#000000;stroke-width:0.227891;stroke-linejoin:bevel;stroke-miterlimit:4;stroke-dasharray:none;stroke-dashoffset:0\" id=\"circle4798\" cx=\"187.28802\" cy=\"135.60268\" r=\"0.77112204\"/>\n",
       "    <path style=\"fill:none;stroke:#000000;stroke-width:0.227534px;stroke-linecap:butt;stroke-linejoin:miter;stroke-opacity:1;marker-start:url(#marker4994);marker-end:url(#marker4804)\" d=\"m 198.41037,133.54087 c 1.47271,3.10507 3.42686,5.95354 9.16302,6.7862\" id=\"path4800\" sodipodi:nodetypes=\"cc\"/>\n",
       "    <g id=\"g5200\" transform=\"matrix(0.85997074,0,0,0.85997074,56.47288,-4.5032438)\" style=\"stroke-width:0.4;stroke-miterlimit:4;stroke-dasharray:none\">\n",
       "      <path style=\"fill:none;stroke:#000000;stroke-width:0.4;stroke-linecap:butt;stroke-linejoin:miter;stroke-miterlimit:4;stroke-dasharray:none;stroke-opacity:1\" d=\"m 164.6125,168.0126 c -0.0661,2.07932 0.46003,4.02014 -0.61118,5.46555\" id=\"path5194\" sodipodi:nodetypes=\"cc\"/>\n",
       "      <path style=\"fill:none;stroke:#000000;stroke-width:0.4;stroke-linecap:butt;stroke-linejoin:miter;stroke-miterlimit:4;stroke-dasharray:none;stroke-opacity:1\" d=\"m 164.5347,170.69529 c 0.72288,0.37788 1.15278,0.92139 2.28685,0.0857 l -0.12099,-2.89337\" id=\"path5196\" sodipodi:nodetypes=\"ccc\"/>\n",
       "      <path style=\"fill:none;stroke:#000000;stroke-width:0.4;stroke-linecap:butt;stroke-linejoin:miter;stroke-miterlimit:4;stroke-dasharray:none;stroke-opacity:1\" d=\"m 166.78319,170.86932 c 0.0956,0.48541 0.40666,0.61309 1.09187,0.11931\" id=\"path5198\" sodipodi:nodetypes=\"cc\"/>\n",
       "    </g>\n",
       "    <ellipse style=\"fill:#ffffff;stroke:#000000;stroke-width:0.601978;stroke-linejoin:bevel\" id=\"ellipse5202\" cx=\"208.0836\" cy=\"127.93996\" rx=\"1.7740169\" ry=\"1.7603631\"/>\n",
       "    <text xml:space=\"preserve\" style=\"font-size:6.67432px;line-height:1.25;font-family:sans-serif;-inkscape-font-specification:sans-serif;stroke-width:0.227534\" x=\"149.47319\" y=\"156.32967\" id=\"text5206\"><tspan sodipodi:role=\"line\" id=\"tspan5204\" x=\"149.47319\" y=\"156.32967\" style=\"stroke-width:0.227534\">a</tspan></text>\n",
       "    <text xml:space=\"preserve\" style=\"font-size:6.67432px;line-height:1.25;font-family:sans-serif;-inkscape-font-specification:sans-serif;stroke-width:0.227534\" x=\"191.15117\" y=\"134.14673\" id=\"text5210\"><tspan sodipodi:role=\"line\" id=\"tspan5208\" x=\"191.15117\" y=\"134.14673\" style=\"stroke-width:0.227534\">b</tspan></text>\n",
       "    <text xml:space=\"preserve\" style=\"font-size:6.67432px;line-height:1.25;font-family:sans-serif;-inkscape-font-specification:sans-serif;stroke-width:0.227534\" x=\"208.34877\" y=\"151.78494\" id=\"text5214\"><tspan sodipodi:role=\"line\" id=\"tspan5212\" x=\"208.34877\" y=\"151.78494\" style=\"stroke-width:0.227534\">c</tspan></text>\n",
       "    <path style=\"fill:none;stroke:#000000;stroke-width:0.657878;stroke-linecap:butt;stroke-linejoin:miter;stroke-miterlimit:4;stroke-dasharray:2.63151, 1.31576;stroke-dashoffset:0;stroke-opacity:1\" d=\"m 206.08259,170.41664 2.00101,42.34565 -73.55892,-42.34565\" id=\"path5318\"/>\n",
       "    <path style=\"fill:none;stroke:#000000;stroke-width:0.227534px;stroke-linecap:butt;stroke-linejoin:miter;stroke-opacity:1;marker-start:url(#marker5352)\" d=\"m 177.54845,194.73939 c 1.96223,-3.03937 2.30693,-6.35295 1.65344,-9.83576\" id=\"path5320\" sodipodi:nodetypes=\"cc\"/>\n",
       "    <path style=\"fill:none;stroke:#000000;stroke-width:0.227534px;stroke-linecap:butt;stroke-linejoin:miter;stroke-opacity:1;marker-start:url(#marker5342)\" d=\"m 177.54845,194.73939 c -1.05702,2.67658 -2.40571,5.21486 -6.58469,6.41119\" id=\"path5322\" sodipodi:nodetypes=\"cc\"/>\n",
       "    <path style=\"fill:none;stroke:#000000;stroke-width:0.227534px;stroke-linecap:butt;stroke-linejoin:miter;stroke-opacity:1;marker-start:url(#marker5332);marker-end:url(#marker5362)\" d=\"m 198.41037,207.16138 c 1.47271,-3.10507 3.42686,-5.95355 9.16302,-6.7862\" id=\"path5324\" sodipodi:nodetypes=\"cc\"/>\n",
       "    <path style=\"fill:none;stroke:#000000;stroke-width:0.399886;stroke-linecap:butt;stroke-linejoin:miter;stroke-miterlimit:4;stroke-dasharray:none;stroke-opacity:1\" d=\"m 156.52524,197.40198 1.37318,3.58965 c 1.91012,-0.92928 2.31873,-2.53746 2.38362,-4.30107\" id=\"path5788\" sodipodi:nodetypes=\"ccc\"/>\n",
       "    <text xml:space=\"preserve\" style=\"font-size:4.69228px;line-height:1.25;font-family:sans-serif;-inkscape-font-specification:sans-serif;stroke-width:0.227534\" x=\"161.2449\" y=\"200.86224\" id=\"text5792\"><tspan sodipodi:role=\"line\" id=\"tspan5790\" x=\"161.2449\" y=\"200.86224\" style=\"stroke-width:0.227534\">= 0</tspan></text>\n",
       "    <circle style=\"fill:#ffffff;stroke:#000000;stroke-width:0.227891;stroke-linejoin:bevel;stroke-miterlimit:4;stroke-dasharray:none;stroke-dashoffset:0\" id=\"circle5794\" cx=\"170.4099\" cy=\"197.6859\" r=\"0.77112204\"/>\n",
       "    <g id=\"g5802\" transform=\"matrix(0.85997074,0,0,0.85997074,57.658427,53.436931)\" style=\"stroke-width:0.4;stroke-miterlimit:4;stroke-dasharray:none\">\n",
       "      <path style=\"fill:none;stroke:#000000;stroke-width:0.4;stroke-linecap:butt;stroke-linejoin:miter;stroke-miterlimit:4;stroke-dasharray:none;stroke-opacity:1\" d=\"m 164.6125,168.0126 c -0.0661,2.07932 0.46003,4.02014 -0.61118,5.46555\" id=\"path5796\" sodipodi:nodetypes=\"cc\"/>\n",
       "      <path style=\"fill:none;stroke:#000000;stroke-width:0.4;stroke-linecap:butt;stroke-linejoin:miter;stroke-miterlimit:4;stroke-dasharray:none;stroke-opacity:1\" d=\"m 164.5347,170.69529 c 0.72288,0.37788 1.15278,0.92139 2.28685,0.0857 l -0.12099,-2.89337\" id=\"path5798\" sodipodi:nodetypes=\"ccc\"/>\n",
       "      <path style=\"fill:none;stroke:#000000;stroke-width:0.4;stroke-linecap:butt;stroke-linejoin:miter;stroke-miterlimit:4;stroke-dasharray:none;stroke-opacity:1\" d=\"m 166.78319,170.86932 c 0.0956,0.48541 0.40666,0.61309 1.09187,0.11931\" id=\"path5800\" sodipodi:nodetypes=\"cc\"/>\n",
       "    </g>\n",
       "    <ellipse style=\"fill:#ffffff;stroke:#000000;stroke-width:0.601978;stroke-linejoin:bevel\" id=\"ellipse5804\" cx=\"171.33749\" cy=\"191.38164\" rx=\"1.7740169\" ry=\"1.7603631\"/>\n",
       "    <ellipse style=\"fill:#ffffff;stroke:#000000;stroke-width:0.601978;stroke-linejoin:bevel\" id=\"ellipse5806\" cx=\"208.0836\" cy=\"212.76228\" rx=\"1.7740169\" ry=\"1.7603631\"/>\n",
       "    <ellipse style=\"fill:#ffffff;stroke:#000000;stroke-width:0.601978;stroke-linejoin:bevel\" id=\"ellipse4054\" cx=\"134.52402\" cy=\"170.2856\" rx=\"1.7740169\" ry=\"1.7603631\"/>\n",
       "    <ellipse style=\"fill:#ffffff;stroke:#000000;stroke-width:0.601978;stroke-linejoin:bevel\" id=\"ellipse4056\" cx=\"206.0826\" cy=\"170.2856\" rx=\"1.7740169\" ry=\"1.7603631\"/>\n",
       "    <text xml:space=\"preserve\" style=\"font-size:6.67432px;line-height:1.25;font-family:sans-serif;-inkscape-font-specification:sans-serif;stroke-width:0.227534\" x=\"-9.2617178\" y=\"196.70142\" id=\"text5810\"><tspan sodipodi:role=\"line\" id=\"tspan5808\" x=\"-9.2617178\" y=\"196.70142\" style=\"stroke-width:0.227534\">a</tspan></text>\n",
       "    <text xml:space=\"preserve\" style=\"font-size:6.67432px;line-height:1.25;font-family:sans-serif;-inkscape-font-specification:sans-serif;stroke-width:0.227534\" x=\"16.223587\" y=\"206.22469\" id=\"text5814\"><tspan sodipodi:role=\"line\" id=\"tspan5812\" x=\"16.223587\" y=\"206.22469\" style=\"stroke-width:0.227534\">b</tspan></text>\n",
       "    <text xml:space=\"preserve\" style=\"font-size:6.67432px;line-height:1.25;font-family:sans-serif;-inkscape-font-specification:sans-serif;stroke-width:0.227534\" x=\"53.014736\" y=\"186.39032\" id=\"text5818\"><tspan sodipodi:role=\"line\" id=\"tspan5816\" x=\"53.014736\" y=\"186.39032\" style=\"stroke-width:0.227534\">c</tspan></text>\n",
       "    <text xml:space=\"preserve\" style=\"font-size:6.67432px;line-height:1.25;font-family:sans-serif;-inkscape-font-specification:sans-serif;stroke-width:0.227534\" x=\"149.47319\" y=\"156.32967\" id=\"text5822\"><tspan sodipodi:role=\"line\" id=\"tspan5820\" x=\"149.47319\" y=\"156.32967\" style=\"stroke-width:0.227534\">a</tspan></text>\n",
       "    <text xml:space=\"preserve\" style=\"font-size:6.67432px;line-height:1.25;font-family:sans-serif;-inkscape-font-specification:sans-serif;stroke-width:0.227534\" x=\"155.81375\" y=\"189.85272\" id=\"text5826\"><tspan sodipodi:role=\"line\" id=\"tspan5824\" x=\"155.81375\" y=\"189.85272\" style=\"stroke-width:0.227534\">a</tspan></text>\n",
       "    <text xml:space=\"preserve\" style=\"font-size:6.67432px;line-height:1.25;font-family:sans-serif;-inkscape-font-specification:sans-serif;stroke-width:0.227534\" x=\"181.50511\" y=\"205.82013\" id=\"text5830\"><tspan sodipodi:role=\"line\" id=\"tspan5828\" x=\"181.50511\" y=\"205.82013\" style=\"stroke-width:0.227534\">b</tspan></text>\n",
       "    <text xml:space=\"preserve\" style=\"font-size:6.67432px;line-height:1.25;font-family:sans-serif;-inkscape-font-specification:sans-serif;stroke-width:0.227534\" x=\"208.74831\" y=\"197.5201\" id=\"text5834\"><tspan sodipodi:role=\"line\" id=\"tspan5832\" x=\"208.74831\" y=\"197.5201\" style=\"stroke-width:0.227534\">c</tspan></text>\n",
       "  </g>\n",
       "</svg>"
      ],
      "text/plain": [
       "<IPython.core.display.SVG object>"
      ]
     },
     "execution_count": 129,
     "metadata": {},
     "output_type": "execute_result"
    }
   ],
   "source": [
    "SVG('figs4-10.svg')"
   ]
  },
  {
   "cell_type": "markdown",
   "metadata": {},
   "source": [
    " [Voltar para o capítulo anterior](Mecs3.ipynb)     $\\qquad$   [Avançar para o próximo capítulo](Mecs5.ipynb)"
   ]
  }
 ],
 "metadata": {
  "kernelspec": {
   "display_name": "Python 3 (ipykernel)",
   "language": "python",
   "name": "python3"
  },
  "language_info": {
   "codemirror_mode": {
    "name": "ipython",
    "version": 3
   },
   "file_extension": ".py",
   "mimetype": "text/x-python",
   "name": "python",
   "nbconvert_exporter": "python",
   "pygments_lexer": "ipython3",
   "version": "3.10.4"
  },
  "widgets": {
   "application/vnd.jupyter.widget-state+json": {
    "state": {
     "057810a24e494ff689587e485c364113": {
      "model_module": "@jupyter-widgets/controls",
      "model_module_version": "1.5.0",
      "model_name": "SliderStyleModel",
      "state": {
       "description_width": ""
      }
     },
     "0b2b66f3fe1041be85c44273ae9b4199": {
      "model_module": "@jupyter-widgets/controls",
      "model_module_version": "1.5.0",
      "model_name": "IntSliderModel",
      "state": {
       "description": "cn",
       "layout": "IPY_MODEL_33af4641e6584dbc802803ce3c88ac81",
       "max": 20,
       "min": 1,
       "style": "IPY_MODEL_bf0992874479438c862928a4364e2239",
       "value": 10
      }
     },
     "124feb46515f493aaf303d9c5eb78ca9": {
      "model_module": "@jupyter-widgets/base",
      "model_module_version": "1.2.0",
      "model_name": "LayoutModel",
      "state": {}
     },
     "17d47d3c504d464bbdcbf8c4520b467a": {
      "model_module": "@jupyter-widgets/output",
      "model_module_version": "1.0.0",
      "model_name": "OutputModel",
      "state": {
       "layout": "IPY_MODEL_64770c8c29a340a7839354c23d726fe0",
       "outputs": [
        {
         "name": "stdout",
         "output_type": "stream",
         "text": "Não-Grashof\n"
        },
        {
         "data": {
          "image/png": "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\n",
          "text/plain": "<Figure size 750x750 with 1 Axes>"
         },
         "metadata": {
          "needs_background": "light"
         },
         "output_type": "display_data"
        }
       ]
      }
     },
     "1910a953ed3b4d6e8bce920ee7b0fb98": {
      "model_module": "@jupyter-widgets/base",
      "model_module_version": "1.2.0",
      "model_name": "LayoutModel",
      "state": {}
     },
     "1a9d1b441469480ca81c917f85276ec9": {
      "model_module": "@jupyter-widgets/base",
      "model_module_version": "1.2.0",
      "model_name": "LayoutModel",
      "state": {}
     },
     "1e7ba5f98b3f4c03ae5e181715520e99": {
      "model_module": "@jupyter-widgets/base",
      "model_module_version": "1.2.0",
      "model_name": "LayoutModel",
      "state": {}
     },
     "2138628862484b16979c45940d5ad8fc": {
      "model_module": "@jupyter-widgets/base",
      "model_module_version": "1.2.0",
      "model_name": "LayoutModel",
      "state": {}
     },
     "21d9c60f5f1b482ca0e0c4f196874cae": {
      "model_module": "@jupyter-widgets/controls",
      "model_module_version": "1.5.0",
      "model_name": "IntSliderModel",
      "state": {
       "description": "an",
       "layout": "IPY_MODEL_c6342a220cd14dc99369ed3afb27c884",
       "max": 20,
       "min": 1,
       "style": "IPY_MODEL_f12793bc35c9412ba6966ea883e46a4c",
       "value": 9
      }
     },
     "2a77e0af97d543cd91fb5c7253394cd9": {
      "model_module": "@jupyter-widgets/output",
      "model_module_version": "1.0.0",
      "model_name": "OutputModel",
      "state": {
       "layout": "IPY_MODEL_d78bede0c0e143669f38ff60beb58789",
       "outputs": [
        {
         "name": "stdout",
         "output_type": "stream",
         "text": "Grashof\n"
        },
        {
         "data": {
          "image/png": "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\n",
          "text/plain": "<Figure size 750x750 with 1 Axes>"
         },
         "metadata": {
          "needs_background": "light"
         },
         "output_type": "display_data"
        }
       ]
      }
     },
     "3232375ee9b9457c98a2c678c35e2c2f": {
      "model_module": "@jupyter-widgets/controls",
      "model_module_version": "1.5.0",
      "model_name": "VBoxModel",
      "state": {
       "_dom_classes": [
        "widget-interact"
       ],
       "children": [
        "IPY_MODEL_bab885a127ad4d48954dca2978ec50b2",
        "IPY_MODEL_93c05e85d0854e0d8f974eb777415ccc",
        "IPY_MODEL_0b2b66f3fe1041be85c44273ae9b4199",
        "IPY_MODEL_fb8425718cd54380a7aa3f99fb96bc09",
        "IPY_MODEL_96799371bc0d405cb1e43f0545f3069b",
        "IPY_MODEL_17d47d3c504d464bbdcbf8c4520b467a"
       ],
       "layout": "IPY_MODEL_1e7ba5f98b3f4c03ae5e181715520e99"
      }
     },
     "33af4641e6584dbc802803ce3c88ac81": {
      "model_module": "@jupyter-widgets/base",
      "model_module_version": "1.2.0",
      "model_name": "LayoutModel",
      "state": {}
     },
     "3ee5350627ae4de186c9fd338a9c77f6": {
      "model_module": "@jupyter-widgets/controls",
      "model_module_version": "1.5.0",
      "model_name": "SliderStyleModel",
      "state": {
       "description_width": ""
      }
     },
     "40a0e22e593c490fbafb939b38a87615": {
      "model_module": "@jupyter-widgets/controls",
      "model_module_version": "1.5.0",
      "model_name": "IntSliderModel",
      "state": {
       "description": "cn",
       "layout": "IPY_MODEL_1a9d1b441469480ca81c917f85276ec9",
       "max": 20,
       "min": 1,
       "style": "IPY_MODEL_64c1826bef0c4c79bd636d372dbf5014",
       "value": 11
      }
     },
     "42adb2838a6644f8a6d51dcc243a0a88": {
      "model_module": "@jupyter-widgets/controls",
      "model_module_version": "1.5.0",
      "model_name": "SliderStyleModel",
      "state": {
       "description_width": ""
      }
     },
     "47247fce72bb4d69a69126d42b68d344": {
      "model_module": "@jupyter-widgets/controls",
      "model_module_version": "1.5.0",
      "model_name": "FloatSliderModel",
      "state": {
       "description": "thetan",
       "layout": "IPY_MODEL_b619ba5cd68c4930b0b50d68a240c503",
       "max": 12.566370614359172,
       "step": 0.1,
       "style": "IPY_MODEL_8aabfa5087e14ec19f65d05b01c8c64c",
       "value": 5.2
      }
     },
     "4903cacad1284ccd8f00a8829d602996": {
      "model_module": "@jupyter-widgets/controls",
      "model_module_version": "1.5.0",
      "model_name": "SliderStyleModel",
      "state": {
       "description_width": ""
      }
     },
     "4c7625a0c03e485f8735698f4b456241": {
      "model_module": "@jupyter-widgets/controls",
      "model_module_version": "1.5.0",
      "model_name": "SliderStyleModel",
      "state": {
       "description_width": ""
      }
     },
     "50e8afce2769454281522bf7004a6e39": {
      "model_module": "@jupyter-widgets/base",
      "model_module_version": "1.2.0",
      "model_name": "LayoutModel",
      "state": {}
     },
     "57c54f8e0de14d10846284838bfa73fc": {
      "model_module": "@jupyter-widgets/base",
      "model_module_version": "1.2.0",
      "model_name": "LayoutModel",
      "state": {}
     },
     "5a620728ac4e421b9879948c8fc5602a": {
      "model_module": "@jupyter-widgets/controls",
      "model_module_version": "1.5.0",
      "model_name": "SliderStyleModel",
      "state": {
       "description_width": ""
      }
     },
     "61d3d868b1924492b0f45511787b55b9": {
      "model_module": "@jupyter-widgets/controls",
      "model_module_version": "1.5.0",
      "model_name": "VBoxModel",
      "state": {
       "_dom_classes": [
        "widget-interact"
       ],
       "children": [
        "IPY_MODEL_fb5b704e252341dc8411b6ceb665b9b3",
        "IPY_MODEL_b574e731d8274857b2ace108f6bde762",
        "IPY_MODEL_9d74f5a036014b7299fe839df75f4c2f",
        "IPY_MODEL_7d2bb5bcee784471850be880d83fd6d5",
        "IPY_MODEL_d62b8c4932184b77b61b59ee0025d643",
        "IPY_MODEL_7977b67d494640439fd7f9291040f41b"
       ],
       "layout": "IPY_MODEL_b8bf732420414d158dee86ce5499d08e"
      }
     },
     "64770c8c29a340a7839354c23d726fe0": {
      "model_module": "@jupyter-widgets/base",
      "model_module_version": "1.2.0",
      "model_name": "LayoutModel",
      "state": {}
     },
     "64c1826bef0c4c79bd636d372dbf5014": {
      "model_module": "@jupyter-widgets/controls",
      "model_module_version": "1.5.0",
      "model_name": "SliderStyleModel",
      "state": {
       "description_width": ""
      }
     },
     "64d3b3099cab4d9d9f7527b404461918": {
      "model_module": "@jupyter-widgets/base",
      "model_module_version": "1.2.0",
      "model_name": "LayoutModel",
      "state": {}
     },
     "65d638082d0a4da2b5b0291a9be34dd4": {
      "model_module": "@jupyter-widgets/base",
      "model_module_version": "1.2.0",
      "model_name": "LayoutModel",
      "state": {}
     },
     "6b05cd0a94da4f28b63cdb4dd1c6cb42": {
      "model_module": "@jupyter-widgets/base",
      "model_module_version": "1.2.0",
      "model_name": "LayoutModel",
      "state": {}
     },
     "6fd0d4c39d3f4809b710c910f279c89a": {
      "model_module": "@jupyter-widgets/controls",
      "model_module_version": "1.5.0",
      "model_name": "SliderStyleModel",
      "state": {
       "description_width": ""
      }
     },
     "722e088fadeb4142847e63a4ccfc52ff": {
      "model_module": "@jupyter-widgets/controls",
      "model_module_version": "1.5.0",
      "model_name": "IntSliderModel",
      "state": {
       "description": "bn",
       "layout": "IPY_MODEL_9da78f405f7c4689885c7bdf45358c89",
       "max": 20,
       "min": 1,
       "style": "IPY_MODEL_a035647897094c208429c06cdc7ba79f",
       "value": 12
      }
     },
     "733bd66bcd6b4f4a881e17e8b2042096": {
      "model_module": "@jupyter-widgets/base",
      "model_module_version": "1.2.0",
      "model_name": "LayoutModel",
      "state": {}
     },
     "77fa36fd3cf347f19d803edd36c871c4": {
      "model_module": "@jupyter-widgets/base",
      "model_module_version": "1.2.0",
      "model_name": "LayoutModel",
      "state": {}
     },
     "792762cfe19a4f0aae64d011efb583bd": {
      "model_module": "@jupyter-widgets/controls",
      "model_module_version": "1.5.0",
      "model_name": "IntSliderModel",
      "state": {
       "description": "dn",
       "layout": "IPY_MODEL_9884640535fc41b487093d0337f06c10",
       "max": 20,
       "min": 1,
       "style": "IPY_MODEL_5a620728ac4e421b9879948c8fc5602a",
       "value": 11
      }
     },
     "7977b67d494640439fd7f9291040f41b": {
      "model_module": "@jupyter-widgets/output",
      "model_module_version": "1.0.0",
      "model_name": "OutputModel",
      "state": {
       "layout": "IPY_MODEL_1910a953ed3b4d6e8bce920ee7b0fb98",
       "outputs": [
        {
         "name": "stdout",
         "output_type": "stream",
         "text": "Grashof\n"
        },
        {
         "data": {
          "image/png": "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\n",
          "text/plain": "<Figure size 750x750 with 1 Axes>"
         },
         "metadata": {
          "needs_background": "light"
         },
         "output_type": "display_data"
        }
       ]
      }
     },
     "7d2bb5bcee784471850be880d83fd6d5": {
      "model_module": "@jupyter-widgets/controls",
      "model_module_version": "1.5.0",
      "model_name": "IntSliderModel",
      "state": {
       "description": "dn",
       "layout": "IPY_MODEL_a36eccd4923f4bb8b05faf3874a4166c",
       "max": 20,
       "min": 1,
       "style": "IPY_MODEL_9e511a9e6c884f7ba8dd5636047654b1",
       "value": 10
      }
     },
     "7f9b647107ab4b6f86e8be691e6f9e2c": {
      "model_module": "@jupyter-widgets/controls",
      "model_module_version": "1.5.0",
      "model_name": "SliderStyleModel",
      "state": {
       "description_width": ""
      }
     },
     "8237e311b7324e63b890a1588b2290c4": {
      "model_module": "@jupyter-widgets/controls",
      "model_module_version": "1.5.0",
      "model_name": "IntSliderModel",
      "state": {
       "description": "bn",
       "layout": "IPY_MODEL_dc7d000bb40345189ad9356fd3cfa639",
       "max": 20,
       "min": 1,
       "style": "IPY_MODEL_e34998f1410e4a80bb6fae5a2b981451",
       "value": 10
      }
     },
     "8419f1b84aee4ce4a6b687e13d09ef4c": {
      "model_module": "@jupyter-widgets/controls",
      "model_module_version": "1.5.0",
      "model_name": "IntSliderModel",
      "state": {
       "description": "cn",
       "layout": "IPY_MODEL_50e8afce2769454281522bf7004a6e39",
       "max": 20,
       "min": 1,
       "style": "IPY_MODEL_fd22a6cb01ea4115a24a41352bdd4376",
       "value": 10
      }
     },
     "85a988b312d14fb8be699d57e8e27c10": {
      "model_module": "@jupyter-widgets/base",
      "model_module_version": "1.2.0",
      "model_name": "LayoutModel",
      "state": {}
     },
     "8aabfa5087e14ec19f65d05b01c8c64c": {
      "model_module": "@jupyter-widgets/controls",
      "model_module_version": "1.5.0",
      "model_name": "SliderStyleModel",
      "state": {
       "description_width": ""
      }
     },
     "8b06f4590b8946b8a0ba2a8631b102b6": {
      "model_module": "@jupyter-widgets/controls",
      "model_module_version": "1.5.0",
      "model_name": "FloatSliderModel",
      "state": {
       "description": "thetan",
       "layout": "IPY_MODEL_b08938e4186947dbb0f8bee739a19997",
       "max": 12.566370614359172,
       "step": 0.1,
       "style": "IPY_MODEL_4903cacad1284ccd8f00a8829d602996",
       "value": 7.6
      }
     },
     "8bdbb76818bb4b91952397bc76975617": {
      "model_module": "@jupyter-widgets/controls",
      "model_module_version": "1.5.0",
      "model_name": "SliderStyleModel",
      "state": {
       "description_width": ""
      }
     },
     "8fdf4379c7954330838669cbaf8370a7": {
      "model_module": "@jupyter-widgets/controls",
      "model_module_version": "1.5.0",
      "model_name": "VBoxModel",
      "state": {
       "_dom_classes": [
        "widget-interact"
       ],
       "children": [
        "IPY_MODEL_a5fa3ec863764be6b14b896195bcaead",
        "IPY_MODEL_8237e311b7324e63b890a1588b2290c4",
        "IPY_MODEL_8419f1b84aee4ce4a6b687e13d09ef4c",
        "IPY_MODEL_e3032790379e499ba22bc7e6a116a957",
        "IPY_MODEL_8b06f4590b8946b8a0ba2a8631b102b6",
        "IPY_MODEL_eb8ed039d0e5485b97a7f61d1b9d00fe"
       ],
       "layout": "IPY_MODEL_ef3c5d4186034665b8916b322a4e4a8c"
      }
     },
     "919420f4784a41a3be95572623b50bd6": {
      "model_module": "@jupyter-widgets/output",
      "model_module_version": "1.0.0",
      "model_name": "OutputModel",
      "state": {
       "layout": "IPY_MODEL_65d638082d0a4da2b5b0291a9be34dd4",
       "outputs": [
        {
         "name": "stdout",
         "output_type": "stream",
         "text": "Não-Grashof\n"
        },
        {
         "data": {
          "image/png": "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\n",
          "text/plain": "<Figure size 750x750 with 1 Axes>"
         },
         "metadata": {
          "needs_background": "light"
         },
         "output_type": "display_data"
        }
       ]
      }
     },
     "91e43a24050f412995b86cddf39ec70e": {
      "model_module": "@jupyter-widgets/controls",
      "model_module_version": "1.5.0",
      "model_name": "SliderStyleModel",
      "state": {
       "description_width": ""
      }
     },
     "93c05e85d0854e0d8f974eb777415ccc": {
      "model_module": "@jupyter-widgets/controls",
      "model_module_version": "1.5.0",
      "model_name": "IntSliderModel",
      "state": {
       "description": "bn",
       "layout": "IPY_MODEL_64d3b3099cab4d9d9f7527b404461918",
       "max": 20,
       "min": 1,
       "style": "IPY_MODEL_7f9b647107ab4b6f86e8be691e6f9e2c",
       "value": 10
      }
     },
     "96799371bc0d405cb1e43f0545f3069b": {
      "model_module": "@jupyter-widgets/controls",
      "model_module_version": "1.5.0",
      "model_name": "FloatSliderModel",
      "state": {
       "description": "thetan",
       "layout": "IPY_MODEL_124feb46515f493aaf303d9c5eb78ca9",
       "max": 12.566370614359172,
       "step": 0.1,
       "style": "IPY_MODEL_057810a24e494ff689587e485c364113",
       "value": 6.283185307179586
      }
     },
     "97b4e6a424b646e588f7163430650eea": {
      "model_module": "@jupyter-widgets/base",
      "model_module_version": "1.2.0",
      "model_name": "LayoutModel",
      "state": {}
     },
     "9884640535fc41b487093d0337f06c10": {
      "model_module": "@jupyter-widgets/base",
      "model_module_version": "1.2.0",
      "model_name": "LayoutModel",
      "state": {}
     },
     "9d74f5a036014b7299fe839df75f4c2f": {
      "model_module": "@jupyter-widgets/controls",
      "model_module_version": "1.5.0",
      "model_name": "IntSliderModel",
      "state": {
       "description": "cn",
       "layout": "IPY_MODEL_d62c48c392d84befa8c43bd73b9defc8",
       "max": 20,
       "min": 1,
       "style": "IPY_MODEL_f584970036d64074970e92612ae90f6a",
       "value": 10
      }
     },
     "9da78f405f7c4689885c7bdf45358c89": {
      "model_module": "@jupyter-widgets/base",
      "model_module_version": "1.2.0",
      "model_name": "LayoutModel",
      "state": {}
     },
     "9e511a9e6c884f7ba8dd5636047654b1": {
      "model_module": "@jupyter-widgets/controls",
      "model_module_version": "1.5.0",
      "model_name": "SliderStyleModel",
      "state": {
       "description_width": ""
      }
     },
     "a035647897094c208429c06cdc7ba79f": {
      "model_module": "@jupyter-widgets/controls",
      "model_module_version": "1.5.0",
      "model_name": "SliderStyleModel",
      "state": {
       "description_width": ""
      }
     },
     "a2ff4b1c7b144b96a3cc2ea112a18f29": {
      "model_module": "@jupyter-widgets/controls",
      "model_module_version": "1.5.0",
      "model_name": "VBoxModel",
      "state": {
       "_dom_classes": [
        "widget-interact"
       ],
       "children": [
        "IPY_MODEL_d0dc406e98da45a097b0c6eab8d17dc1",
        "IPY_MODEL_f470906a1fbb4c2b9be7027b77ce651e",
        "IPY_MODEL_40a0e22e593c490fbafb939b38a87615",
        "IPY_MODEL_792762cfe19a4f0aae64d011efb583bd",
        "IPY_MODEL_daa7d96fe48b4dff8d7ce4a014060248",
        "IPY_MODEL_919420f4784a41a3be95572623b50bd6"
       ],
       "layout": "IPY_MODEL_85a988b312d14fb8be699d57e8e27c10"
      }
     },
     "a36eccd4923f4bb8b05faf3874a4166c": {
      "model_module": "@jupyter-widgets/base",
      "model_module_version": "1.2.0",
      "model_name": "LayoutModel",
      "state": {}
     },
     "a3e03a238a4a43ff90a6768c30387ed2": {
      "model_module": "@jupyter-widgets/controls",
      "model_module_version": "1.5.0",
      "model_name": "SliderStyleModel",
      "state": {
       "description_width": ""
      }
     },
     "a5fa3ec863764be6b14b896195bcaead": {
      "model_module": "@jupyter-widgets/controls",
      "model_module_version": "1.5.0",
      "model_name": "IntSliderModel",
      "state": {
       "description": "an",
       "layout": "IPY_MODEL_abbcf0cd100c4a66ae2a4e0cc78e5690",
       "max": 20,
       "min": 1,
       "style": "IPY_MODEL_e58faf2902c949f8abd41ca94e2b725d",
       "value": 7
      }
     },
     "ab26f86fc2ef445b813211c3027abc83": {
      "model_module": "@jupyter-widgets/base",
      "model_module_version": "1.2.0",
      "model_name": "LayoutModel",
      "state": {}
     },
     "abbcf0cd100c4a66ae2a4e0cc78e5690": {
      "model_module": "@jupyter-widgets/base",
      "model_module_version": "1.2.0",
      "model_name": "LayoutModel",
      "state": {}
     },
     "ae38ad102f7b4202afcdf31b636f1ac6": {
      "model_module": "@jupyter-widgets/base",
      "model_module_version": "1.2.0",
      "model_name": "LayoutModel",
      "state": {}
     },
     "afa39164265642cca115cc6aac255a90": {
      "model_module": "@jupyter-widgets/base",
      "model_module_version": "1.2.0",
      "model_name": "LayoutModel",
      "state": {}
     },
     "b08938e4186947dbb0f8bee739a19997": {
      "model_module": "@jupyter-widgets/base",
      "model_module_version": "1.2.0",
      "model_name": "LayoutModel",
      "state": {}
     },
     "b4f29f431ca943e186acd638d28403e1": {
      "model_module": "@jupyter-widgets/base",
      "model_module_version": "1.2.0",
      "model_name": "LayoutModel",
      "state": {}
     },
     "b574e731d8274857b2ace108f6bde762": {
      "model_module": "@jupyter-widgets/controls",
      "model_module_version": "1.5.0",
      "model_name": "IntSliderModel",
      "state": {
       "description": "bn",
       "layout": "IPY_MODEL_afa39164265642cca115cc6aac255a90",
       "max": 20,
       "min": 1,
       "style": "IPY_MODEL_42adb2838a6644f8a6d51dcc243a0a88",
       "value": 10
      }
     },
     "b619ba5cd68c4930b0b50d68a240c503": {
      "model_module": "@jupyter-widgets/base",
      "model_module_version": "1.2.0",
      "model_name": "LayoutModel",
      "state": {}
     },
     "b8bf732420414d158dee86ce5499d08e": {
      "model_module": "@jupyter-widgets/base",
      "model_module_version": "1.2.0",
      "model_name": "LayoutModel",
      "state": {}
     },
     "bab885a127ad4d48954dca2978ec50b2": {
      "model_module": "@jupyter-widgets/controls",
      "model_module_version": "1.5.0",
      "model_name": "IntSliderModel",
      "state": {
       "description": "an",
       "layout": "IPY_MODEL_77fa36fd3cf347f19d803edd36c871c4",
       "max": 20,
       "min": 1,
       "step": 2,
       "style": "IPY_MODEL_91e43a24050f412995b86cddf39ec70e",
       "value": 15
      }
     },
     "be539025f8254ae5b5d596af29d20d00": {
      "model_module": "@jupyter-widgets/controls",
      "model_module_version": "1.5.0",
      "model_name": "IntSliderModel",
      "state": {
       "description": "dn",
       "layout": "IPY_MODEL_de7b2cc3af9445b794c7c0bdf0c0b6fa",
       "max": 20,
       "min": 1,
       "style": "IPY_MODEL_a3e03a238a4a43ff90a6768c30387ed2",
       "value": 13
      }
     },
     "bf0992874479438c862928a4364e2239": {
      "model_module": "@jupyter-widgets/controls",
      "model_module_version": "1.5.0",
      "model_name": "SliderStyleModel",
      "state": {
       "description_width": ""
      }
     },
     "bfd68ede1b654572affe57efb55414ff": {
      "model_module": "@jupyter-widgets/base",
      "model_module_version": "1.2.0",
      "model_name": "LayoutModel",
      "state": {}
     },
     "c07c1dfc56994dbf80c9c66fffe4488d": {
      "model_module": "@jupyter-widgets/controls",
      "model_module_version": "1.5.0",
      "model_name": "IntSliderModel",
      "state": {
       "description": "cn",
       "layout": "IPY_MODEL_733bd66bcd6b4f4a881e17e8b2042096",
       "max": 20,
       "min": 1,
       "style": "IPY_MODEL_dbc50313769c4d418fdcbe138c00fb23",
       "value": 15
      }
     },
     "c23d689ae9cf4684904bb9f79556d9a8": {
      "model_module": "@jupyter-widgets/controls",
      "model_module_version": "1.5.0",
      "model_name": "SliderStyleModel",
      "state": {
       "description_width": ""
      }
     },
     "c38e4bf8efac4988bdf53f6db8a8d069": {
      "model_module": "@jupyter-widgets/controls",
      "model_module_version": "1.5.0",
      "model_name": "SliderStyleModel",
      "state": {
       "description_width": ""
      }
     },
     "c6342a220cd14dc99369ed3afb27c884": {
      "model_module": "@jupyter-widgets/base",
      "model_module_version": "1.2.0",
      "model_name": "LayoutModel",
      "state": {}
     },
     "cb09880e27da4c29b3b7bd42156ac924": {
      "model_module": "@jupyter-widgets/base",
      "model_module_version": "1.2.0",
      "model_name": "LayoutModel",
      "state": {}
     },
     "d0dc406e98da45a097b0c6eab8d17dc1": {
      "model_module": "@jupyter-widgets/controls",
      "model_module_version": "1.5.0",
      "model_name": "IntSliderModel",
      "state": {
       "description": "an",
       "layout": "IPY_MODEL_2138628862484b16979c45940d5ad8fc",
       "max": 20,
       "min": 1,
       "style": "IPY_MODEL_3ee5350627ae4de186c9fd338a9c77f6",
       "value": 13
      }
     },
     "d62b8c4932184b77b61b59ee0025d643": {
      "model_module": "@jupyter-widgets/controls",
      "model_module_version": "1.5.0",
      "model_name": "FloatSliderModel",
      "state": {
       "description": "thetan",
       "layout": "IPY_MODEL_ae38ad102f7b4202afcdf31b636f1ac6",
       "max": 12.566370614359172,
       "step": 0.1,
       "style": "IPY_MODEL_6fd0d4c39d3f4809b710c910f279c89a",
       "value": 2
      }
     },
     "d62c48c392d84befa8c43bd73b9defc8": {
      "model_module": "@jupyter-widgets/base",
      "model_module_version": "1.2.0",
      "model_name": "LayoutModel",
      "state": {}
     },
     "d78bede0c0e143669f38ff60beb58789": {
      "model_module": "@jupyter-widgets/base",
      "model_module_version": "1.2.0",
      "model_name": "LayoutModel",
      "state": {}
     },
     "daa7d96fe48b4dff8d7ce4a014060248": {
      "model_module": "@jupyter-widgets/controls",
      "model_module_version": "1.5.0",
      "model_name": "FloatSliderModel",
      "state": {
       "description": "thetan",
       "layout": "IPY_MODEL_b4f29f431ca943e186acd638d28403e1",
       "max": 12.566370614359172,
       "step": 0.1,
       "style": "IPY_MODEL_c23d689ae9cf4684904bb9f79556d9a8",
       "value": 6.8
      }
     },
     "dbc50313769c4d418fdcbe138c00fb23": {
      "model_module": "@jupyter-widgets/controls",
      "model_module_version": "1.5.0",
      "model_name": "SliderStyleModel",
      "state": {
       "description_width": ""
      }
     },
     "dc7d000bb40345189ad9356fd3cfa639": {
      "model_module": "@jupyter-widgets/base",
      "model_module_version": "1.2.0",
      "model_name": "LayoutModel",
      "state": {}
     },
     "de7b2cc3af9445b794c7c0bdf0c0b6fa": {
      "model_module": "@jupyter-widgets/base",
      "model_module_version": "1.2.0",
      "model_name": "LayoutModel",
      "state": {}
     },
     "e3032790379e499ba22bc7e6a116a957": {
      "model_module": "@jupyter-widgets/controls",
      "model_module_version": "1.5.0",
      "model_name": "IntSliderModel",
      "state": {
       "description": "dn",
       "layout": "IPY_MODEL_57c54f8e0de14d10846284838bfa73fc",
       "max": 20,
       "min": 1,
       "style": "IPY_MODEL_4c7625a0c03e485f8735698f4b456241",
       "value": 10
      }
     },
     "e34998f1410e4a80bb6fae5a2b981451": {
      "model_module": "@jupyter-widgets/controls",
      "model_module_version": "1.5.0",
      "model_name": "SliderStyleModel",
      "state": {
       "description_width": ""
      }
     },
     "e58faf2902c949f8abd41ca94e2b725d": {
      "model_module": "@jupyter-widgets/controls",
      "model_module_version": "1.5.0",
      "model_name": "SliderStyleModel",
      "state": {
       "description_width": ""
      }
     },
     "eb8ed039d0e5485b97a7f61d1b9d00fe": {
      "model_module": "@jupyter-widgets/output",
      "model_module_version": "1.0.0",
      "model_name": "OutputModel",
      "state": {
       "layout": "IPY_MODEL_97b4e6a424b646e588f7163430650eea",
       "outputs": [
        {
         "name": "stdout",
         "output_type": "stream",
         "text": "Grashof\n"
        },
        {
         "data": {
          "image/png": "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\n",
          "text/plain": "<Figure size 750x750 with 1 Axes>"
         },
         "metadata": {
          "needs_background": "light"
         },
         "output_type": "display_data"
        }
       ]
      }
     },
     "ef3c5d4186034665b8916b322a4e4a8c": {
      "model_module": "@jupyter-widgets/base",
      "model_module_version": "1.2.0",
      "model_name": "LayoutModel",
      "state": {}
     },
     "f12793bc35c9412ba6966ea883e46a4c": {
      "model_module": "@jupyter-widgets/controls",
      "model_module_version": "1.5.0",
      "model_name": "SliderStyleModel",
      "state": {
       "description_width": ""
      }
     },
     "f470906a1fbb4c2b9be7027b77ce651e": {
      "model_module": "@jupyter-widgets/controls",
      "model_module_version": "1.5.0",
      "model_name": "IntSliderModel",
      "state": {
       "description": "bn",
       "layout": "IPY_MODEL_6b05cd0a94da4f28b63cdb4dd1c6cb42",
       "max": 20,
       "min": 1,
       "style": "IPY_MODEL_f9152e7724db41ec90e1db46749c7e4b",
       "value": 11
      }
     },
     "f584970036d64074970e92612ae90f6a": {
      "model_module": "@jupyter-widgets/controls",
      "model_module_version": "1.5.0",
      "model_name": "SliderStyleModel",
      "state": {
       "description_width": ""
      }
     },
     "f7450cc405614f6eab2fbfccdd28cdff": {
      "model_module": "@jupyter-widgets/controls",
      "model_module_version": "1.5.0",
      "model_name": "VBoxModel",
      "state": {
       "_dom_classes": [
        "widget-interact"
       ],
       "children": [
        "IPY_MODEL_21d9c60f5f1b482ca0e0c4f196874cae",
        "IPY_MODEL_722e088fadeb4142847e63a4ccfc52ff",
        "IPY_MODEL_c07c1dfc56994dbf80c9c66fffe4488d",
        "IPY_MODEL_be539025f8254ae5b5d596af29d20d00",
        "IPY_MODEL_47247fce72bb4d69a69126d42b68d344",
        "IPY_MODEL_2a77e0af97d543cd91fb5c7253394cd9"
       ],
       "layout": "IPY_MODEL_bfd68ede1b654572affe57efb55414ff"
      }
     },
     "f9152e7724db41ec90e1db46749c7e4b": {
      "model_module": "@jupyter-widgets/controls",
      "model_module_version": "1.5.0",
      "model_name": "SliderStyleModel",
      "state": {
       "description_width": ""
      }
     },
     "fb5b704e252341dc8411b6ceb665b9b3": {
      "model_module": "@jupyter-widgets/controls",
      "model_module_version": "1.5.0",
      "model_name": "IntSliderModel",
      "state": {
       "description": "an",
       "layout": "IPY_MODEL_cb09880e27da4c29b3b7bd42156ac924",
       "max": 20,
       "min": 1,
       "style": "IPY_MODEL_c38e4bf8efac4988bdf53f6db8a8d069",
       "value": 8
      }
     },
     "fb8425718cd54380a7aa3f99fb96bc09": {
      "model_module": "@jupyter-widgets/controls",
      "model_module_version": "1.5.0",
      "model_name": "IntSliderModel",
      "state": {
       "description": "dn",
       "layout": "IPY_MODEL_ab26f86fc2ef445b813211c3027abc83",
       "max": 20,
       "min": 1,
       "style": "IPY_MODEL_8bdbb76818bb4b91952397bc76975617",
       "value": 10
      }
     },
     "fd22a6cb01ea4115a24a41352bdd4376": {
      "model_module": "@jupyter-widgets/controls",
      "model_module_version": "1.5.0",
      "model_name": "SliderStyleModel",
      "state": {
       "description_width": ""
      }
     }
    },
    "version_major": 2,
    "version_minor": 0
   }
  }
 },
 "nbformat": 4,
 "nbformat_minor": 4
}
