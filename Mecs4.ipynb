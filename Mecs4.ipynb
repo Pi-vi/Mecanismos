{
 "cells": [
  {
   "cell_type": "markdown",
   "metadata": {
    "slideshow": {
     "slide_type": "slide"
    }
   },
   "source": [
    "# 4. Análise de Posição\n",
    "Professor Paulo Victor <br>\n",
    "e-mail: paulo.gomes@cefet-rj.br <br>\n",
    "CEFET/RJ Campus Angra dos Reis - Sala 6E\n",
    "<br>\n",
    "<br>\n",
    "*Este material é um resumo do livro* **Cinemática e Dinâmica dos Mecanismos** *do autor Robert L. Norton, Editora AMGH, publicado em 2010, de modo a servir apenas como um guia para estudos e para as aulas. Este material não substitui a leitura do livro.* "
   ]
  },
  {
   "cell_type": "markdown",
   "metadata": {
    "slideshow": {
     "slide_type": "subslide"
    }
   },
   "source": [
    "Uma vez que um projeto de mecanismo tenha sido **sintetizado**, ele deve ser **analisado**. <br>\n",
    "O principal objetivo de uma análise cinemática é determinar as acelerações de todas as partes móveis do conjunto. **Forças Dinâmicas** são proporcionais à aceleração conforme a segunda lei de Newton. Precisamos conhecer as forças dinâmicas para calcularmos as **tensões** nos componentes."
   ]
  },
  {
   "cell_type": "markdown",
   "metadata": {
    "slideshow": {
     "slide_type": "subslide"
    }
   },
   "source": [
    "![](figs4-0.jpg)"
   ]
  },
  {
   "cell_type": "markdown",
   "metadata": {
    "slideshow": {
     "slide_type": "slide"
    }
   },
   "source": [
    "## 4.1 Sistemas de Coordenadas"
   ]
  },
  {
   "cell_type": "markdown",
   "metadata": {
    "slideshow": {
     "slide_type": "subslide"
    }
   },
   "source": [
    "* Sistema de coordenadas global ou absoluto\n",
    "* Sistema de coordenadas local"
   ]
  },
  {
   "cell_type": "code",
   "execution_count": 1,
   "metadata": {
    "slideshow": {
     "slide_type": "fragment"
    }
   },
   "outputs": [
    {
     "data": {
      "image/svg+xml": [
       "<svg xmlns:dc=\"http://purl.org/dc/elements/1.1/\" xmlns:cc=\"http://creativecommons.org/ns#\" xmlns:rdf=\"http://www.w3.org/1999/02/22-rdf-syntax-ns#\" xmlns:svg=\"http://www.w3.org/2000/svg\" xmlns=\"http://www.w3.org/2000/svg\" xmlns:sodipodi=\"http://sodipodi.sourceforge.net/DTD/sodipodi-0.dtd\" xmlns:inkscape=\"http://www.inkscape.org/namespaces/inkscape\" width=\"79.856323mm\" height=\"104.18919mm\" viewBox=\"0 0 79.856323 104.18919\" version=\"1.1\" id=\"svg8\" inkscape:version=\"1.0.1 (3bc2e813f5, 2020-09-07)\" sodipodi:docname=\"figs4-1.svg\">\n",
       "  <defs id=\"defs2\">\n",
       "    <marker style=\"overflow:visible\" id=\"marker4131\" refX=\"0\" refY=\"0\" orient=\"auto\" inkscape:stockid=\"Arrow1Lend\" inkscape:isstock=\"true\">\n",
       "      <path transform=\"matrix(-0.8,0,0,-0.8,-10,0)\" style=\"fill:#000000;fill-opacity:1;fill-rule:evenodd;stroke:#000000;stroke-width:1pt;stroke-opacity:1\" d=\"M 0,0 5,-5 -12.5,0 5,5 Z\" id=\"path4129\"/>\n",
       "    </marker>\n",
       "    <marker style=\"overflow:visible\" id=\"marker4049\" refX=\"0\" refY=\"0\" orient=\"auto\" inkscape:stockid=\"Arrow1Lend\" inkscape:isstock=\"true\">\n",
       "      <path transform=\"matrix(-0.8,0,0,-0.8,-10,0)\" style=\"fill:#000000;fill-opacity:1;fill-rule:evenodd;stroke:#000000;stroke-width:1pt;stroke-opacity:1\" d=\"M 0,0 5,-5 -12.5,0 5,5 Z\" id=\"path4047\"/>\n",
       "    </marker>\n",
       "    <marker style=\"overflow:visible\" id=\"marker3901\" refX=\"0\" refY=\"0\" orient=\"auto\" inkscape:stockid=\"Arrow1Lend\" inkscape:isstock=\"true\" inkscape:collect=\"always\">\n",
       "      <path transform=\"matrix(-0.8,0,0,-0.8,-10,0)\" style=\"fill:#000000;fill-opacity:1;fill-rule:evenodd;stroke:#000000;stroke-width:1pt;stroke-opacity:1\" d=\"M 0,0 5,-5 -12.5,0 5,5 Z\" id=\"path3899\"/>\n",
       "    </marker>\n",
       "    <marker style=\"overflow:visible\" id=\"marker3757\" refX=\"0\" refY=\"0\" orient=\"auto\" inkscape:stockid=\"Arrow1Lend\" inkscape:isstock=\"true\">\n",
       "      <path transform=\"matrix(-0.8,0,0,-0.8,-10,0)\" style=\"fill:#0000ff;fill-opacity:1;fill-rule:evenodd;stroke:#0000ff;stroke-width:1pt;stroke-opacity:1\" d=\"M 0,0 5,-5 -12.5,0 5,5 Z\" id=\"path3755\"/>\n",
       "    </marker>\n",
       "    <marker style=\"overflow:visible\" id=\"marker3747\" refX=\"0\" refY=\"0\" orient=\"auto\" inkscape:stockid=\"Arrow1Lend\" inkscape:isstock=\"true\">\n",
       "      <path transform=\"matrix(-0.8,0,0,-0.8,-10,0)\" style=\"fill:#0000ff;fill-opacity:1;fill-rule:evenodd;stroke:#0000ff;stroke-width:1pt;stroke-opacity:1\" d=\"M 0,0 5,-5 -12.5,0 5,5 Z\" id=\"path3745\"/>\n",
       "    </marker>\n",
       "    <marker style=\"overflow:visible\" id=\"marker3697\" refX=\"0\" refY=\"0\" orient=\"auto\" inkscape:stockid=\"Arrow1Lend\" inkscape:isstock=\"true\" inkscape:collect=\"always\">\n",
       "      <path transform=\"matrix(-0.8,0,0,-0.8,-10,0)\" style=\"fill:#ff0000;fill-opacity:1;fill-rule:evenodd;stroke:#ff0000;stroke-width:1pt;stroke-opacity:1\" d=\"M 0,0 5,-5 -12.5,0 5,5 Z\" id=\"path3695\"/>\n",
       "    </marker>\n",
       "    <marker style=\"overflow:visible\" id=\"Arrow1Lend\" refX=\"0\" refY=\"0\" orient=\"auto\" inkscape:stockid=\"Arrow1Lend\" inkscape:isstock=\"true\" inkscape:collect=\"always\">\n",
       "      <path transform=\"matrix(-0.8,0,0,-0.8,-10,0)\" style=\"fill:#ff0000;fill-opacity:1;fill-rule:evenodd;stroke:#ff0000;stroke-width:1pt;stroke-opacity:1\" d=\"M 0,0 5,-5 -12.5,0 5,5 Z\" id=\"path2822\"/>\n",
       "    </marker>\n",
       "    <marker style=\"overflow:visible\" id=\"Arrow1Lstart\" refX=\"0\" refY=\"0\" orient=\"auto\" inkscape:stockid=\"Arrow1Lstart\" inkscape:isstock=\"true\">\n",
       "      <path transform=\"matrix(0.8,0,0,0.8,10,0)\" style=\"fill:#000000;fill-opacity:1;fill-rule:evenodd;stroke:#000000;stroke-width:1pt;stroke-opacity:1\" d=\"M 0,0 5,-5 -12.5,0 5,5 Z\" id=\"path2819\"/>\n",
       "    </marker>\n",
       "  </defs>\n",
       "  <sodipodi:namedview id=\"base\" pagecolor=\"#ffffff\" bordercolor=\"#666666\" borderopacity=\"1.0\" inkscape:pageopacity=\"0.0\" inkscape:pageshadow=\"2\" inkscape:zoom=\"1.4\" inkscape:cx=\"413.09044\" inkscape:cy=\"179.65562\" inkscape:document-units=\"mm\" inkscape:current-layer=\"layer2\" inkscape:document-rotation=\"0\" showgrid=\"false\" inkscape:snap-smooth-nodes=\"true\" inkscape:window-width=\"1920\" inkscape:window-height=\"1017\" inkscape:window-x=\"-8\" inkscape:window-y=\"-8\" inkscape:window-maximized=\"1\"/>\n",
       "  <metadata id=\"metadata5\">\n",
       "    <rdf:RDF>\n",
       "      <cc:Work rdf:about=\"\">\n",
       "        <dc:format>image/svg+xml</dc:format>\n",
       "        <dc:type rdf:resource=\"http://purl.org/dc/dcmitype/StillImage\"/>\n",
       "        <dc:title/>\n",
       "      </cc:Work>\n",
       "    </rdf:RDF>\n",
       "  </metadata>\n",
       "  <g inkscape:groupmode=\"layer\" id=\"layer2\" inkscape:label=\"Layer 2\">\n",
       "    <rect style=\"fill:#ffffff;stroke:#ffffff;stroke-width:0.865\" id=\"rect984\" width=\"79.742203\" height=\"104.01419\" x=\"-0.1889881\" y=\"0\"/>\n",
       "  </g>\n",
       "  <g inkscape:label=\"Layer 1\" inkscape:groupmode=\"layer\" id=\"layer1\" transform=\"translate(-52.286574,-9.575667)\">\n",
       "    <g inkscape:label=\"Layer 1\" id=\"layer1-3\" transform=\"translate(30.1001,-59.712217)\">\n",
       "      <path id=\"path839\" style=\"fill:#ffffff;stroke:#000000;stroke-width:2.64567;stroke-linejoin:bevel;stroke-miterlimit:4;stroke-dasharray:none\" d=\"M 219.92383,480 A 39.999999,39.999999 0 0 0 180,520 a 39.999999,39.999999 0 0 0 0,0.0762 V 590 h 80 v -70 a 39.999999,39.999999 0 0 0 -40,-40 39.999999,39.999999 0 0 0 -0.0762,0 z\" transform=\"scale(0.26458333)\"/>\n",
       "      <path style=\"fill:none;stroke:#000000;stroke-width:0.7;stroke-linecap:butt;stroke-linejoin:miter;stroke-miterlimit:4;stroke-dasharray:none;stroke-opacity:1\" d=\"M 22.489583,156.10416 H 99.218749\" id=\"path850\"/>\n",
       "      <path style=\"fill:none;stroke:#000000;stroke-width:0.7;stroke-linecap:butt;stroke-linejoin:miter;stroke-miterlimit:4;stroke-dasharray:none;stroke-opacity:1\" d=\"m 22.489583,156.10416 9.929222,17.19792\" id=\"path852\"/>\n",
       "      <path style=\"fill:none;stroke:#000000;stroke-width:0.7;stroke-linecap:butt;stroke-linejoin:miter;stroke-miterlimit:4;stroke-dasharray:none;stroke-opacity:1\" d=\"m 39.952094,156.10416 9.929222,17.19792\" id=\"path854\"/>\n",
       "      <path style=\"fill:none;stroke:#000000;stroke-width:0.7;stroke-linecap:butt;stroke-linejoin:miter;stroke-miterlimit:4;stroke-dasharray:none;stroke-opacity:1\" d=\"m 56.885438,156.10416 9.929222,17.19792\" id=\"path856\"/>\n",
       "      <path style=\"fill:none;stroke:#000000;stroke-width:0.7;stroke-linecap:butt;stroke-linejoin:miter;stroke-miterlimit:4;stroke-dasharray:none;stroke-opacity:1\" d=\"m 74.347949,156.10416 9.929222,17.19792\" id=\"path858\"/>\n",
       "      <path style=\"fill:none;stroke:#000000;stroke-width:0.7;stroke-linecap:butt;stroke-linejoin:miter;stroke-miterlimit:4;stroke-dasharray:none;stroke-opacity:1\" d=\"m 91.81046,156.10416 9.92923,17.19792\" id=\"path860\"/>\n",
       "      <circle style=\"fill:#ffffff;stroke:#000000;stroke-width:0.7;stroke-linejoin:bevel\" id=\"path1592\" cx=\"58.266396\" cy=\"137.45695\" r=\"3.6994057\"/>\n",
       "    </g>\n",
       "    <rect style=\"fill:#ffffff;stroke:#000000;stroke-width:0.765;stroke-linejoin:bevel;stroke-miterlimit:4;stroke-dasharray:none\" id=\"rect2813\" width=\"6.7414675\" height=\"81.057007\" x=\"111.98591\" y=\"-54.279552\" ry=\"2.6572323\" transform=\"rotate(30)\"/>\n",
       "    <path style=\"fill:none;stroke:#ff0000;stroke-width:0.264583px;stroke-linecap:butt;stroke-linejoin:miter;stroke-opacity:1;marker-end:url(#marker3697)\" d=\"M 87.823113,78.660587 V 42.729266\" id=\"path3603\"/>\n",
       "    <path style=\"fill:none;stroke:#ff0000;stroke-width:0.264583px;stroke-linecap:butt;stroke-linejoin:miter;stroke-opacity:1;marker-end:url(#Arrow1Lend)\" d=\"M 87.823113,78.660587 H 122.52712\" id=\"path3605\"/>\n",
       "    <path style=\"fill:none;stroke:#0000ff;stroke-width:0.264583px;stroke-linecap:butt;stroke-linejoin:miter;stroke-opacity:1;marker-end:url(#marker3757)\" d=\"M 87.823113,78.660587 56.705683,60.694926\" id=\"path3741\"/>\n",
       "    <path style=\"fill:none;stroke:#0000ff;stroke-width:0.264583px;stroke-linecap:butt;stroke-linejoin:miter;stroke-opacity:1;marker-end:url(#marker3747)\" d=\"M 87.823113,78.660587 105.17511,48.606044\" id=\"path3743\"/>\n",
       "    <path style=\"fill:none;stroke:#000000;stroke-width:0.465;stroke-linecap:butt;stroke-linejoin:miter;stroke-miterlimit:4;stroke-dasharray:none;stroke-opacity:1;marker-end:url(#marker3901)\" d=\"M 104.57734,78.609808 C 103.10148,70.726522 99.47821,67.90276 95.816064,65.170602\" id=\"path3889\" sodipodi:nodetypes=\"cc\"/>\n",
       "    <g id=\"g3897\" transform=\"translate(-2.2329756,2.6395237)\">\n",
       "      <ellipse style=\"fill:#ffffff;stroke:#000000;stroke-width:0.765;stroke-linejoin:bevel;stroke-miterlimit:4;stroke-dasharray:none\" id=\"path3891\" cx=\"110.22939\" cy=\"67.623489\" rx=\"2.7784157\" ry=\"4.4053955\"/>\n",
       "      <path style=\"fill:none;stroke:#000000;stroke-width:0.565;stroke-linecap:butt;stroke-linejoin:miter;stroke-miterlimit:4;stroke-dasharray:none;stroke-opacity:1\" d=\"m 107.45097,67.623493 h 5.55684\" id=\"path3893\"/>\n",
       "    </g>\n",
       "    <text xml:space=\"preserve\" style=\"font-size:7.7611px;line-height:1.25;font-family:sans-serif;-inkscape-font-specification:sans-serif;stroke-width:0.264583\" x=\"110.03159\" y=\"38.528992\" id=\"text4031\"><tspan sodipodi:role=\"line\" id=\"tspan4029\" x=\"110.03159\" y=\"38.528992\" style=\"stroke-width:0.264583\">P</tspan></text>\n",
       "    <text xml:space=\"preserve\" style=\"font-size:7.7611px;line-height:1.25;font-family:sans-serif;-inkscape-font-specification:sans-serif;stroke-width:0.264583\" x=\"106.55747\" y=\"46.441589\" id=\"text4035\"><tspan sodipodi:role=\"line\" id=\"tspan4033\" x=\"106.55747\" y=\"46.441589\" style=\"stroke-width:0.264583\">*</tspan></text>\n",
       "    <path style=\"fill:none;stroke:#000000;stroke-width:0.264583px;stroke-linecap:butt;stroke-linejoin:miter;stroke-opacity:1\" d=\"M 106.32633,41.129759 79.734369,25.776881\" id=\"path4037\"/>\n",
       "    <path style=\"fill:none;stroke:#000000;stroke-width:0.264583px;stroke-linecap:butt;stroke-linejoin:miter;stroke-opacity:1;marker-start:url(#Arrow1Lstart);marker-end:url(#marker4131)\" d=\"M 83.462121,27.950964 62.674726,63.955788\" id=\"path4039\"/>\n",
       "    <text xml:space=\"preserve\" style=\"font-size:7.7611px;line-height:1.25;font-family:sans-serif;-inkscape-font-specification:sans-serif;stroke-width:0.264583\" x=\"-6.5680075\" y=\"83.487465\" id=\"text4201\" transform=\"rotate(-60)\"><tspan sodipodi:role=\"line\" id=\"tspan4199\" x=\"-6.5680075\" y=\"83.487465\" style=\"stroke-width:0.264583\">R</tspan></text>\n",
       "    <text xml:space=\"preserve\" style=\"font-size:7.7611px;line-height:1.25;font-family:sans-serif;-inkscape-font-specification:sans-serif;fill:#ff0000;stroke-width:0.264583\" x=\"117.80534\" y=\"85.383514\" id=\"text4211\"><tspan sodipodi:role=\"line\" id=\"tspan4209\" x=\"117.80534\" y=\"85.383514\" style=\"fill:#ff0000;stroke-width:0.264583\">x</tspan></text>\n",
       "    <text xml:space=\"preserve\" style=\"font-size:7.7611px;line-height:1.25;font-family:sans-serif;-inkscape-font-specification:sans-serif;fill:#ff0000;stroke-width:0.264583\" x=\"81.613541\" y=\"46.98951\" id=\"text4215\"><tspan sodipodi:role=\"line\" id=\"tspan4213\" x=\"81.613541\" y=\"46.98951\" style=\"fill:#ff0000;stroke-width:0.264583\">y</tspan></text>\n",
       "  </g>\n",
       "</svg>"
      ],
      "text/plain": [
       "<IPython.core.display.SVG object>"
      ]
     },
     "execution_count": 1,
     "metadata": {},
     "output_type": "execute_result"
    }
   ],
   "source": [
    "from IPython.display import SVG\n",
    "SVG('figs4-1.svg')"
   ]
  },
  {
   "cell_type": "code",
   "execution_count": 2,
   "metadata": {
    "slideshow": {
     "slide_type": "fragment"
    }
   },
   "outputs": [],
   "source": [
    "from sympy import *"
   ]
  },
  {
   "cell_type": "code",
   "execution_count": 3,
   "metadata": {
    "slideshow": {
     "slide_type": "subslide"
    }
   },
   "outputs": [],
   "source": [
    "import sympy.physics.mechanics as me"
   ]
  },
  {
   "cell_type": "code",
   "execution_count": 4,
   "metadata": {
    "slideshow": {
     "slide_type": "fragment"
    }
   },
   "outputs": [],
   "source": [
    "N = me.ReferenceFrame('N')\n",
    "A = me.ReferenceFrame('A')"
   ]
  },
  {
   "cell_type": "code",
   "execution_count": 5,
   "metadata": {
    "slideshow": {
     "slide_type": "fragment"
    }
   },
   "outputs": [],
   "source": [
    "theta = me.dynamicsymbols('theta') "
   ]
  },
  {
   "cell_type": "code",
   "execution_count": 6,
   "metadata": {
    "slideshow": {
     "slide_type": "fragment"
    }
   },
   "outputs": [],
   "source": [
    "A.orient(N,'Axis',[theta,N.z])"
   ]
  },
  {
   "cell_type": "markdown",
   "metadata": {
    "slideshow": {
     "slide_type": "slide"
    }
   },
   "source": [
    "## 4.2 Posição e Deslocamento"
   ]
  },
  {
   "cell_type": "markdown",
   "metadata": {
    "slideshow": {
     "slide_type": "subslide"
    }
   },
   "source": [
    "### Posição"
   ]
  },
  {
   "cell_type": "markdown",
   "metadata": {
    "slideshow": {
     "slide_type": "fragment"
    }
   },
   "source": [
    "A posição de um ponto no **plano** pode ser definida por meio de um **vetor posição**. <br>\n",
    "A escolha dos **eixos de referência** é arbritrária, selecionada para satisfazer o observador. <br>\n",
    "Um vetor de duas dimensões tem dois atributos, que podem ser expressos tento na forma *polar* quanto em *coordenadas cartesianas*. \n",
    "* forma polar\n",
    "    * fornece o módulo e o ângulo do vetor: $\\vec{p} = | R | @ \\angle \\theta$\n",
    "* forma cartesiana\n",
    "    * fornece os componentes X e Y do vetor: $\\vec{p} = R_x,R_y$\n",
    "Observa-se que:\n",
    "$$ R = \\sqrt{R_x^2 + R_y^2}$$\n",
    "$$ \\theta = arctan \\left( \\dfrac{R_y}{R_x} \\right)$$"
   ]
  },
  {
   "cell_type": "markdown",
   "metadata": {
    "slideshow": {
     "slide_type": "subslide"
    }
   },
   "source": [
    "### Transformação de Coordenadas\n",
    "Muitas vezes, é necessário transformar as coordenadas de um ponto definido em um sistema para coordenadas em outro. "
   ]
  },
  {
   "cell_type": "code",
   "execution_count": 7,
   "metadata": {
    "slideshow": {
     "slide_type": "fragment"
    }
   },
   "outputs": [],
   "source": [
    "R = symbols('R')"
   ]
  },
  {
   "cell_type": "code",
   "execution_count": 8,
   "metadata": {
    "slideshow": {
     "slide_type": "fragment"
    }
   },
   "outputs": [
    {
     "data": {
      "text/latex": [
       "$\\displaystyle R\\mathbf{\\hat{a}_x}$"
      ],
      "text/plain": [
       "R*A.x"
      ]
     },
     "execution_count": 8,
     "metadata": {},
     "output_type": "execute_result"
    }
   ],
   "source": [
    "p = R*A.x\n",
    "p"
   ]
  },
  {
   "cell_type": "code",
   "execution_count": 9,
   "metadata": {
    "slideshow": {
     "slide_type": "fragment"
    }
   },
   "outputs": [
    {
     "data": {
      "text/latex": [
       "$\\displaystyle R \\operatorname{cos}\\left(\\theta\\right)\\mathbf{\\hat{n}_x} + R \\operatorname{sin}\\left(\\theta\\right)\\mathbf{\\hat{n}_y}$"
      ],
      "text/plain": [
       "R*cos(theta)*N.x + R*sin(theta)*N.y"
      ]
     },
     "execution_count": 9,
     "metadata": {},
     "output_type": "execute_result"
    }
   ],
   "source": [
    "p.express(N)"
   ]
  },
  {
   "cell_type": "code",
   "execution_count": 10,
   "metadata": {
    "slideshow": {
     "slide_type": "fragment"
    }
   },
   "outputs": [
    {
     "data": {
      "text/latex": [
       "$\\displaystyle \\left[\\begin{matrix}\\cos{\\left(\\theta{\\left(t \\right)} \\right)} & \\sin{\\left(\\theta{\\left(t \\right)} \\right)} & 0\\\\- \\sin{\\left(\\theta{\\left(t \\right)} \\right)} & \\cos{\\left(\\theta{\\left(t \\right)} \\right)} & 0\\\\0 & 0 & 1\\end{matrix}\\right]$"
      ],
      "text/plain": [
       "Matrix([\n",
       "[ cos(theta(t)), sin(theta(t)), 0],\n",
       "[-sin(theta(t)), cos(theta(t)), 0],\n",
       "[             0,             0, 1]])"
      ]
     },
     "execution_count": 10,
     "metadata": {},
     "output_type": "execute_result"
    }
   ],
   "source": [
    "A.dcm(N) # matriz de rotação de A em relação a N, ou seja, leva de N para A"
   ]
  },
  {
   "cell_type": "code",
   "execution_count": 11,
   "metadata": {
    "scrolled": true,
    "slideshow": {
     "slide_type": "fragment"
    }
   },
   "outputs": [
    {
     "data": {
      "text/latex": [
       "$\\displaystyle \\left[\\begin{matrix}\\cos{\\left(\\theta{\\left(t \\right)} \\right)} & - \\sin{\\left(\\theta{\\left(t \\right)} \\right)} & 0\\\\\\sin{\\left(\\theta{\\left(t \\right)} \\right)} & \\cos{\\left(\\theta{\\left(t \\right)} \\right)} & 0\\\\0 & 0 & 1\\end{matrix}\\right]$"
      ],
      "text/plain": [
       "Matrix([\n",
       "[cos(theta(t)), -sin(theta(t)), 0],\n",
       "[sin(theta(t)),  cos(theta(t)), 0],\n",
       "[            0,              0, 1]])"
      ]
     },
     "execution_count": 11,
     "metadata": {},
     "output_type": "execute_result"
    }
   ],
   "source": [
    "N.dcm(A) # matriz de rotação que leva de A para N"
   ]
  },
  {
   "cell_type": "code",
   "execution_count": 12,
   "metadata": {
    "slideshow": {
     "slide_type": "fragment"
    }
   },
   "outputs": [
    {
     "data": {
      "image/svg+xml": [
       "<svg xmlns:dc=\"http://purl.org/dc/elements/1.1/\" xmlns:cc=\"http://creativecommons.org/ns#\" xmlns:rdf=\"http://www.w3.org/1999/02/22-rdf-syntax-ns#\" xmlns:svg=\"http://www.w3.org/2000/svg\" xmlns=\"http://www.w3.org/2000/svg\" xmlns:sodipodi=\"http://sodipodi.sourceforge.net/DTD/sodipodi-0.dtd\" xmlns:inkscape=\"http://www.inkscape.org/namespaces/inkscape\" width=\"110.87832mm\" height=\"93.041985mm\" viewBox=\"0 0 110.87832 93.041986\" version=\"1.1\" id=\"svg4223\" inkscape:version=\"1.0.1 (3bc2e813f5, 2020-09-07)\" sodipodi:docname=\"figs4-2.svg\">\n",
       "  <defs id=\"defs4217\">\n",
       "    <marker style=\"overflow:visible\" id=\"marker11544\" refX=\"0.0\" refY=\"0.0\" orient=\"auto\" inkscape:stockid=\"Arrow1Lstart\" inkscape:isstock=\"true\">\n",
       "      <path transform=\"scale(0.8) translate(12.5,0)\" style=\"fill-rule:evenodd;stroke:#000000;stroke-width:1pt;stroke-opacity:1;fill:#000000;fill-opacity:1\" d=\"M 0.0,0.0 L 5.0,-5.0 L -12.5,0.0 L 5.0,5.0 L 0.0,0.0 z \" id=\"path936\"/>\n",
       "    </marker>\n",
       "    <marker style=\"overflow:visible;\" id=\"marker11397\" refX=\"0.0\" refY=\"0.0\" orient=\"auto\" inkscape:stockid=\"Arrow1Lend\" inkscape:isstock=\"true\">\n",
       "      <path transform=\"scale(0.8) rotate(180) translate(12.5,0)\" style=\"fill-rule:evenodd;stroke:#000000;stroke-width:1pt;stroke-opacity:1;fill:#000000;fill-opacity:1\" d=\"M 0.0,0.0 L 5.0,-5.0 L -12.5,0.0 L 5.0,5.0 L 0.0,0.0 z \" id=\"path939\"/>\n",
       "    </marker>\n",
       "    <marker style=\"overflow:visible\" id=\"marker3199\" refX=\"0\" refY=\"0\" orient=\"auto\" inkscape:stockid=\"Arrow1Mend\" inkscape:isstock=\"true\">\n",
       "      <path transform=\"matrix(-0.4,0,0,-0.4,-4,0)\" style=\"fill:#000000;fill-opacity:1;fill-rule:evenodd;stroke:#000000;stroke-width:1pt;stroke-opacity:1\" d=\"M 0,0 5,-5 -12.5,0 5,5 Z\" id=\"path3197\"/>\n",
       "    </marker>\n",
       "    <marker style=\"overflow:visible\" id=\"marker3057\" refX=\"0\" refY=\"0\" orient=\"auto\" inkscape:stockid=\"Arrow1Mstart\" inkscape:isstock=\"true\">\n",
       "      <path transform=\"matrix(0.4,0,0,0.4,4,0)\" style=\"fill:#000000;fill-opacity:1;fill-rule:evenodd;stroke:#000000;stroke-width:1pt;stroke-opacity:1\" d=\"M 0,0 5,-5 -12.5,0 5,5 Z\" id=\"path3055\"/>\n",
       "    </marker>\n",
       "    <marker style=\"overflow:visible\" id=\"marker2909\" refX=\"0\" refY=\"0\" orient=\"auto\" inkscape:stockid=\"Arrow1Mend\" inkscape:isstock=\"true\" inkscape:collect=\"always\">\n",
       "      <path transform=\"matrix(-0.4,0,0,-0.4,-4,0)\" style=\"fill:#000000;fill-opacity:1;fill-rule:evenodd;stroke:#000000;stroke-width:1pt;stroke-opacity:1\" d=\"M 0,0 5,-5 -12.5,0 5,5 Z\" id=\"path2907\"/>\n",
       "    </marker>\n",
       "    <marker style=\"overflow:visible\" id=\"marker2785\" refX=\"0\" refY=\"0\" orient=\"auto\" inkscape:stockid=\"Arrow1Mstart\" inkscape:isstock=\"true\" inkscape:collect=\"always\">\n",
       "      <path transform=\"matrix(0.4,0,0,0.4,4,0)\" style=\"fill:#000000;fill-opacity:1;fill-rule:evenodd;stroke:#000000;stroke-width:1pt;stroke-opacity:1\" d=\"M 0,0 5,-5 -12.5,0 5,5 Z\" id=\"path2783\"/>\n",
       "    </marker>\n",
       "    <marker style=\"overflow:visible\" id=\"marker2641\" refX=\"0\" refY=\"0\" orient=\"auto\" inkscape:stockid=\"Arrow1Mend\" inkscape:isstock=\"true\">\n",
       "      <path transform=\"matrix(-0.4,0,0,-0.4,-4,0)\" style=\"fill:#ff0000;fill-opacity:1;fill-rule:evenodd;stroke:#ff0000;stroke-width:1pt;stroke-opacity:1\" d=\"M 0,0 5,-5 -12.5,0 5,5 Z\" id=\"path2639\"/>\n",
       "    </marker>\n",
       "    <marker style=\"overflow:visible\" id=\"marker2523\" refX=\"0\" refY=\"0\" orient=\"auto\" inkscape:stockid=\"Arrow1Mstart\" inkscape:isstock=\"true\" inkscape:collect=\"always\">\n",
       "      <path transform=\"matrix(0.4,0,0,0.4,4,0)\" style=\"fill:#ff0000;fill-opacity:1;fill-rule:evenodd;stroke:#ff0000;stroke-width:1pt;stroke-opacity:1\" d=\"M 0,0 5,-5 -12.5,0 5,5 Z\" id=\"path2521\"/>\n",
       "    </marker>\n",
       "    <marker style=\"overflow:visible\" id=\"marker2411\" refX=\"0\" refY=\"0\" orient=\"auto\" inkscape:stockid=\"Arrow1Mend\" inkscape:isstock=\"true\" inkscape:collect=\"always\">\n",
       "      <path transform=\"matrix(-0.4,0,0,-0.4,-4,0)\" style=\"fill:#ff0000;fill-opacity:1;fill-rule:evenodd;stroke:#ff0000;stroke-width:1pt;stroke-opacity:1\" d=\"M 0,0 5,-5 -12.5,0 5,5 Z\" id=\"path2409\"/>\n",
       "    </marker>\n",
       "    <marker style=\"overflow:visible\" id=\"Arrow1Mstart\" refX=\"0\" refY=\"0\" orient=\"auto\" inkscape:stockid=\"Arrow1Mstart\" inkscape:isstock=\"true\" inkscape:collect=\"always\">\n",
       "      <path transform=\"matrix(0.4,0,0,0.4,4,0)\" style=\"fill:#ff0000;fill-opacity:1;fill-rule:evenodd;stroke:#ff0000;stroke-width:1pt;stroke-opacity:1\" d=\"M 0,0 5,-5 -12.5,0 5,5 Z\" id=\"path1351\"/>\n",
       "    </marker>\n",
       "    <marker style=\"overflow:visible\" id=\"marker2031\" refX=\"0\" refY=\"0\" orient=\"auto\" inkscape:stockid=\"Arrow1Mend\" inkscape:isstock=\"true\" inkscape:collect=\"always\">\n",
       "      <path transform=\"matrix(-0.4,0,0,-0.4,-4,0)\" style=\"fill:#000000;fill-opacity:1;fill-rule:evenodd;stroke:#000000;stroke-width:1pt;stroke-opacity:1\" d=\"M 0,0 5,-5 -12.5,0 5,5 Z\" id=\"path2029\"/>\n",
       "    </marker>\n",
       "    <marker style=\"overflow:visible\" id=\"marker2021\" refX=\"0\" refY=\"0\" orient=\"auto\" inkscape:stockid=\"Arrow1Mend\" inkscape:isstock=\"true\">\n",
       "      <path transform=\"matrix(-0.4,0,0,-0.4,-4,0)\" style=\"fill:#000000;fill-opacity:1;fill-rule:evenodd;stroke:#000000;stroke-width:1pt;stroke-opacity:1\" d=\"M 0,0 5,-5 -12.5,0 5,5 Z\" id=\"path2019\"/>\n",
       "    </marker>\n",
       "    <marker style=\"overflow:visible\" id=\"marker1877\" refX=\"0\" refY=\"0\" orient=\"auto\" inkscape:stockid=\"Arrow1Mend\" inkscape:isstock=\"true\">\n",
       "      <path transform=\"matrix(-0.4,0,0,-0.4,-4,0)\" style=\"fill:#000000;fill-opacity:1;fill-rule:evenodd;stroke:#000000;stroke-width:1pt;stroke-opacity:1\" d=\"M 0,0 5,-5 -12.5,0 5,5 Z\" id=\"path1875\"/>\n",
       "    </marker>\n",
       "    <inkscape:path-effect effect=\"spiro\" id=\"path-effect1863\" is_visible=\"true\" lpeversion=\"1\"/>\n",
       "    <inkscape:path-effect effect=\"simplify\" id=\"path-effect1861\" is_visible=\"true\" lpeversion=\"1\" steps=\"1\" threshold=\"0.00243902\" smooth_angles=\"360\" helper_size=\"0\" simplify_individual_paths=\"false\" simplify_just_coalesce=\"false\"/>\n",
       "    <inkscape:path-effect effect=\"simplify\" id=\"path-effect1855\" is_visible=\"true\" lpeversion=\"1\" steps=\"1\" threshold=\"0.00243902\" smooth_angles=\"360\" helper_size=\"0\" simplify_individual_paths=\"false\" simplify_just_coalesce=\"false\"/>\n",
       "    <inkscape:path-effect effect=\"simplify\" id=\"path-effect1849\" is_visible=\"true\" lpeversion=\"1\" steps=\"1\" threshold=\"0.00243902\" smooth_angles=\"360\" helper_size=\"0\" simplify_individual_paths=\"false\" simplify_just_coalesce=\"false\"/>\n",
       "    <inkscape:path-effect effect=\"simplify\" id=\"path-effect1843\" is_visible=\"true\" lpeversion=\"1\" steps=\"1\" threshold=\"0.00243902\" smooth_angles=\"360\" helper_size=\"0\" simplify_individual_paths=\"false\" simplify_just_coalesce=\"false\"/>\n",
       "    <inkscape:path-effect effect=\"simplify\" id=\"path-effect1777\" is_visible=\"true\" lpeversion=\"1\" steps=\"1\" threshold=\"0.00645161\" smooth_angles=\"360\" helper_size=\"0\" simplify_individual_paths=\"false\" simplify_just_coalesce=\"false\"/>\n",
       "    <inkscape:path-effect effect=\"spiro\" id=\"path-effect1685\" is_visible=\"true\" lpeversion=\"1\"/>\n",
       "    <inkscape:path-effect effect=\"simplify\" id=\"path-effect1683\" is_visible=\"true\" lpeversion=\"1\" steps=\"1\" threshold=\"0.00645161\" smooth_angles=\"360\" helper_size=\"0\" simplify_individual_paths=\"false\" simplify_just_coalesce=\"false\"/>\n",
       "    <marker style=\"overflow:visible\" id=\"marker1277\" refX=\"0\" refY=\"0\" orient=\"auto\" inkscape:stockid=\"Arrow1Lend\" inkscape:isstock=\"true\">\n",
       "      <path transform=\"matrix(-0.8,0,0,-0.8,-10,0)\" style=\"fill:#000000;fill-opacity:1;fill-rule:evenodd;stroke:#000000;stroke-width:1pt;stroke-opacity:1\" d=\"M 0,0 5,-5 -12.5,0 5,5 Z\" id=\"path1275\"/>\n",
       "    </marker>\n",
       "    <marker style=\"overflow:visible\" id=\"marker1207\" refX=\"0\" refY=\"0\" orient=\"auto\" inkscape:stockid=\"Arrow1Lend\" inkscape:isstock=\"true\">\n",
       "      <path transform=\"matrix(-0.8,0,0,-0.8,-10,0)\" style=\"fill:#000000;fill-opacity:1;fill-rule:evenodd;stroke:#000000;stroke-width:1pt;stroke-opacity:1\" d=\"M 0,0 5,-5 -12.5,0 5,5 Z\" id=\"path1205\"/>\n",
       "    </marker>\n",
       "    <inkscape:path-effect effect=\"spiro\" id=\"path-effect1197\" is_visible=\"true\" lpeversion=\"1\"/>\n",
       "    <inkscape:path-effect effect=\"simplify\" id=\"path-effect1195\" is_visible=\"true\" lpeversion=\"1\" steps=\"1\" threshold=\"0.00645161\" smooth_angles=\"360\" helper_size=\"0\" simplify_individual_paths=\"false\" simplify_just_coalesce=\"false\"/>\n",
       "    <marker style=\"overflow:visible\" id=\"marker1115\" refX=\"0\" refY=\"0\" orient=\"auto\" inkscape:stockid=\"Arrow1Lend\" inkscape:isstock=\"true\" inkscape:collect=\"always\">\n",
       "      <path transform=\"matrix(-0.8,0,0,-0.8,-10,0)\" style=\"fill:#ff0000;fill-opacity:1;fill-rule:evenodd;stroke:#ff0000;stroke-width:1pt;stroke-opacity:1\" d=\"M 0,0 5,-5 -12.5,0 5,5 Z\" id=\"path1113\"/>\n",
       "    </marker>\n",
       "    <marker style=\"overflow:visible\" id=\"marker1105\" refX=\"0\" refY=\"0\" orient=\"auto\" inkscape:stockid=\"Arrow1Lstart\" inkscape:isstock=\"true\">\n",
       "      <path transform=\"matrix(0.8,0,0,0.8,10,0)\" style=\"fill:#ff0000;fill-opacity:1;fill-rule:evenodd;stroke:#ff0000;stroke-width:1pt;stroke-opacity:1\" d=\"M 0,0 5,-5 -12.5,0 5,5 Z\" id=\"path1103\"/>\n",
       "    </marker>\n",
       "    <marker style=\"overflow:visible\" id=\"marker5170\" refX=\"0\" refY=\"0\" orient=\"auto\" inkscape:stockid=\"Arrow1Lend\" inkscape:isstock=\"true\">\n",
       "      <path transform=\"matrix(-0.8,0,0,-0.8,-10,0)\" style=\"fill:#000000;fill-opacity:1;fill-rule:evenodd;stroke:#000000;stroke-width:1pt;stroke-opacity:1\" d=\"M 0,0 5,-5 -12.5,0 5,5 Z\" id=\"path5168\"/>\n",
       "    </marker>\n",
       "    <marker style=\"overflow:visible\" id=\"marker5068\" refX=\"0\" refY=\"0\" orient=\"auto\" inkscape:stockid=\"Arrow1Lend\" inkscape:isstock=\"true\" inkscape:collect=\"always\">\n",
       "      <path transform=\"matrix(-0.8,0,0,-0.8,-10,0)\" style=\"fill:#000000;fill-opacity:1;fill-rule:evenodd;stroke:#000000;stroke-width:1pt;stroke-opacity:1\" d=\"M 0,0 5,-5 -12.5,0 5,5 Z\" id=\"path5066\"/>\n",
       "    </marker>\n",
       "    <inkscape:path-effect effect=\"spiro\" id=\"path-effect4874\" is_visible=\"true\" lpeversion=\"1\"/>\n",
       "    <inkscape:path-effect effect=\"simplify\" id=\"path-effect4872\" is_visible=\"true\" lpeversion=\"1\" steps=\"1\" threshold=\"0.00645161\" smooth_angles=\"360\" helper_size=\"0\" simplify_individual_paths=\"false\" simplify_just_coalesce=\"false\"/>\n",
       "    <inkscape:path-effect effect=\"simplify\" id=\"path-effect4866\" is_visible=\"true\" lpeversion=\"1\" steps=\"1\" threshold=\"0.000625\" smooth_angles=\"360\" helper_size=\"0\" simplify_individual_paths=\"false\" simplify_just_coalesce=\"false\"/>\n",
       "    <inkscape:path-effect effect=\"simplify\" id=\"path-effect4796\" is_visible=\"true\" lpeversion=\"1\" steps=\"1\" threshold=\"0.000625\" smooth_angles=\"360\" helper_size=\"0\" simplify_individual_paths=\"false\" simplify_just_coalesce=\"false\"/>\n",
       "    <inkscape:path-effect effect=\"simplify\" id=\"path-effect4790\" is_visible=\"true\" lpeversion=\"1\" steps=\"1\" threshold=\"0.000625\" smooth_angles=\"360\" helper_size=\"0\" simplify_individual_paths=\"false\" simplify_just_coalesce=\"false\"/>\n",
       "    <marker style=\"overflow:visible\" id=\"marker2416\" refX=\"0\" refY=\"0\" orient=\"auto\" inkscape:stockid=\"Arrow1Lend\" inkscape:isstock=\"true\">\n",
       "      <path transform=\"matrix(-0.8,0,0,-0.8,-10,0)\" style=\"fill:#ff0000;fill-opacity:1;fill-rule:evenodd;stroke:#ff0000;stroke-width:1pt;stroke-opacity:1\" d=\"M 0,0 5,-5 -12.5,0 5,5 Z\" id=\"path2414\"/>\n",
       "    </marker>\n",
       "    <filter inkscape:collect=\"always\" style=\"color-interpolation-filters:sRGB\" id=\"filter2408\" x=\"-0.18425412\" width=\"1.3685082\" y=\"-0.18425412\" height=\"1.3685082\">\n",
       "      <feGaussianBlur inkscape:collect=\"always\" stdDeviation=\"0.52308203\" id=\"feGaussianBlur2410\"/>\n",
       "    </filter>\n",
       "  </defs>\n",
       "  <sodipodi:namedview id=\"base\" pagecolor=\"#ffffff\" bordercolor=\"#666666\" borderopacity=\"1.0\" inkscape:pageopacity=\"0.0\" inkscape:pageshadow=\"2\" inkscape:zoom=\"1.5969425\" inkscape:cx=\"177.70079\" inkscape:cy=\"197.1844\" inkscape:document-units=\"mm\" inkscape:current-layer=\"layer3\" inkscape:document-rotation=\"0\" showgrid=\"false\" inkscape:window-width=\"1920\" inkscape:window-height=\"1017\" inkscape:window-x=\"-8\" inkscape:window-y=\"-8\" inkscape:window-maximized=\"1\" inkscape:snap-nodes=\"true\" inkscape:snap-smooth-nodes=\"true\"/>\n",
       "  <metadata id=\"metadata4220\">\n",
       "    <rdf:RDF>\n",
       "      <cc:Work rdf:about=\"\">\n",
       "        <dc:format>image/svg+xml</dc:format>\n",
       "        <dc:type rdf:resource=\"http://purl.org/dc/dcmitype/StillImage\"/>\n",
       "        <dc:title/>\n",
       "      </cc:Work>\n",
       "    </rdf:RDF>\n",
       "  </metadata>\n",
       "  <g inkscape:groupmode=\"layer\" id=\"layer3\" inkscape:label=\"Layer 2\">\n",
       "    <rect style=\"fill:#ffffff;stroke:#ffffff;stroke-width:0.865\" id=\"rect2024\" width=\"111.17208\" height=\"93.609871\" x=\"-0.16568118\" y=\"0\"/>\n",
       "  </g>\n",
       "  <g inkscape:label=\"Layer 1\" inkscape:groupmode=\"layer\" id=\"layer1\" transform=\"translate(-28.300872,-28.234721)\">\n",
       "    <path style=\"fill:none;stroke:#000000;stroke-width:0.265;stroke-linecap:butt;stroke-linejoin:miter;stroke-opacity:1;marker-start:url(#marker11544);marker-end:url(#marker11397);stroke-miterlimit:4;stroke-dasharray:none\" d=\"M 93.226169,111.37818 H 46.494538 V 69.056449\" id=\"path4786\"/>\n",
       "    <text xml:space=\"preserve\" style=\"font-size:7.7611px;line-height:1.25;font-family:sans-serif;-inkscape-font-specification:sans-serif;stroke-width:0.264583\" x=\"38.001274\" y=\"118.66259\" id=\"text4854\"><tspan sodipodi:role=\"line\" id=\"tspan4852\" x=\"38.001274\" y=\"118.66259\" style=\"stroke-width:0.264583\">O</tspan></text>\n",
       "    <text xml:space=\"preserve\" style=\"font-size:7.7611px;line-height:1.25;font-family:sans-serif;-inkscape-font-specification:sans-serif;stroke-width:0.264583\" x=\"91.490891\" y=\"121.2767\" id=\"text4858\"><tspan sodipodi:role=\"line\" id=\"tspan4856\" x=\"91.490891\" y=\"121.2767\" style=\"stroke-width:0.264583\">X</tspan></text>\n",
       "    <text xml:space=\"preserve\" style=\"font-size:7.7611px;line-height:1.25;font-family:sans-serif;-inkscape-font-specification:sans-serif;stroke-width:0.264583\" x=\"47.09483\" y=\"71.924347\" id=\"text4862\"><tspan sodipodi:role=\"line\" id=\"tspan4860\" x=\"47.09483\" y=\"71.924347\" style=\"stroke-width:0.264583\">Y</tspan></text>\n",
       "    <g id=\"g5050\" transform=\"matrix(0.62824966,0,0,0.62841368,38.348682,4.8648415)\" style=\"stroke-width:1.59152\">\n",
       "      <circle style=\"mix-blend-mode:normal;fill:#666666;stroke:#000000;stroke-width:0.271798\" id=\"path1649\" cx=\"108.4316\" cy=\"92.124985\" r=\"7.4015002\"/>\n",
       "      <circle style=\"fill:#ffffff;stroke:#000000;stroke-width:0.188437;filter:url(#filter2408)\" id=\"path1651\" cx=\"111.03149\" cy=\"88.963264\" r=\"3.4066997\"/>\n",
       "    </g>\n",
       "    <path style=\"fill:none;stroke:#000000;stroke-width:0.565;stroke-linecap:butt;stroke-linejoin:miter;stroke-miterlimit:4;stroke-dasharray:none;stroke-opacity:1;marker-end:url(#marker5068)\" d=\"M 46.494538,111.37818 106.48201,63.547534\" id=\"path5058\"/>\n",
       "    <text xml:space=\"preserve\" style=\"font-size:7.7611px;line-height:1.25;font-family:sans-serif;-inkscape-font-specification:sans-serif;stroke-width:0.264583\" x=\"111.67706\" y=\"58.412922\" id=\"text5270\"><tspan sodipodi:role=\"line\" id=\"tspan5268\" x=\"111.67706\" y=\"58.412922\" style=\"stroke-width:0.264583\">A</tspan></text>\n",
       "    <text xml:space=\"preserve\" style=\"font-size:7.7611px;line-height:1.25;font-family:sans-serif;-inkscape-font-specification:sans-serif;stroke-width:0.264583\" x=\"73.151146\" y=\"81.391312\" id=\"text5284\"><tspan sodipodi:role=\"line\" id=\"tspan5282\" x=\"73.151146\" y=\"81.391312\" style=\"stroke-width:0.264583\">R<tspan style=\"font-size:65%;baseline-shift:sub\" id=\"tspan5286\">A</tspan></tspan></text>\n",
       "    <path style=\"fill:none;stroke:#ff0000;stroke-width:0.264583px;stroke-linecap:butt;stroke-linejoin:miter;stroke-opacity:1;marker-start:url(#marker1105);marker-end:url(#marker1115)\" d=\"M 91.633828,99.28314 46.494538,111.37818 35.540868,70.49852\" id=\"path987\" inkscape:transform-center-x=\"-17.392423\" inkscape:transform-center-y=\"-20.153894\"/>\n",
       "    <path style=\"fill:none;stroke:#000000;stroke-width:0.265;stroke-linecap:butt;stroke-linejoin:miter;stroke-miterlimit:4;stroke-dasharray:none;stroke-opacity:1;marker-end:url(#marker2021)\" d=\"m 64.4682,111.42909 c 0.177905,-0.698 0.226029,-1.42884 0.141184,-2.14414 -0.111182,-0.93734 -0.452313,-1.84656 -0.985139,-2.6257\" id=\"path1193\" inkscape:path-effect=\"#path-effect1195;#path-effect1197\" inkscape:original-d=\"m 64.4682,111.42909 c 0.769929,-1.585 -0.452544,-3.88921 -0.843955,-4.76984\"/>\n",
       "    <path style=\"fill:none;stroke:#000000;stroke-width:0.264583px;stroke-linecap:butt;stroke-linejoin:miter;stroke-opacity:1;marker-end:url(#marker2031)\" d=\"m 69.295615,105.48958 c 0.203234,-1.93421 -0.14195,-3.92304 -0.985073,-5.675647 -0.700647,-1.456439 -1.741248,-2.748017 -3.015266,-3.742502\" id=\"path1681\" inkscape:path-effect=\"#path-effect1683;#path-effect1685\" inkscape:original-d=\"m 69.295615,105.48958 c 0.705948,-3.67091 -1.742982,-7.798812 -4.000339,-9.418149\"/>\n",
       "    <path style=\"fill:none;stroke:#000000;stroke-width:0.264583px;stroke-linecap:butt;stroke-linejoin:miter;stroke-opacity:1\" d=\"m 69.276913,106.64178 c -0.307168,0.0166 -0.613004,0.0578 -0.913605,0.12309 -0.05268,0.0114 -0.105905,0.0239 -0.153524,0.0492 -0.02381,0.0126 -0.04606,0.0285 -0.06466,0.048 -0.0186,0.0195 -0.03348,0.0428 -0.04187,0.0684 -0.0132,0.0403 -0.0098,0.0847 0.0034,0.12495 0.01324,0.0403 0.03581,0.0768 0.06078,0.11105 0.128851,0.17668 0.320149,0.29536 0.505293,0.41171 0.457427,0.28747 0.90729,0.58794 1.334384,0.9188 0.08384,0.065 0.167264,0.13151 0.23757,0.21091 0.07031,0.0794 0.127458,0.17294 0.150492,0.27646 0.02605,0.11706 0.007,0.24053 -0.03338,0.35343 -0.06122,0.17098 -0.171288,0.3233 -0.310376,0.44008 -0.139088,0.11678 -0.306583,0.19834 -0.482832,0.24215 -0.336574,0.0837 -0.703168,0.0269 -1.006172,-0.14182 -0.140627,-0.0783 -0.268876,-0.18041 -0.370098,-0.30556 -0.101222,-0.12516 -0.174879,-0.27375 -0.204803,-0.43191 -0.03823,-0.20207 -9.44e-4,-0.42141 0.119592,-0.58804 0.07861,-0.10867 0.189052,-0.1917 0.309239,-0.25124 0.120186,-0.0595 0.250276,-0.0966 0.381344,-0.12513 0.125242,-0.0272 0.252133,-0.0468 0.379745,-0.0587\" id=\"path1859\" inkscape:path-effect=\"#path-effect1861;#path-effect1863\" inkscape:original-d=\"m 69.276913,106.64178 c -3.440219,0.1805 1.755313,1.60911 1.084909,2.69596 -1.303474,2.11318 -3.945647,-0.97193 -1.184361,-1.22019\"/>\n",
       "    <g id=\"g1871\" transform=\"matrix(0.62569577,0,0,0.63192947,64.246001,38.721773)\" style=\"stroke-width:1.59032\">\n",
       "      <ellipse style=\"fill:none;stroke:#000000;stroke-width:0.421433;stroke-linejoin:bevel;stroke-miterlimit:4;stroke-dasharray:none\" id=\"path1865\" cx=\"12.151525\" cy=\"93.770058\" rx=\"2.3546295\" ry=\"3.4254715\"/>\n",
       "      <path style=\"fill:none;stroke:#000000;stroke-width:0.420771px;stroke-linecap:butt;stroke-linejoin:miter;stroke-opacity:1\" d=\"M 9.7968955,93.770056 H 14.506154\" id=\"path1867\"/>\n",
       "    </g>\n",
       "    <path style=\"fill:none;stroke:#000000;stroke-width:0.264583px;stroke-linecap:butt;stroke-linejoin:miter;stroke-opacity:1;marker-end:url(#marker1877)\" d=\"m 72.823344,74.440067 h 6.279012\" id=\"path1873\"/>\n",
       "    <text xml:space=\"preserve\" style=\"font-size:7.7611px;line-height:1.25;font-family:sans-serif;-inkscape-font-specification:sans-serif;fill:#ff0000;stroke-width:0.264583\" x=\"91.272171\" y=\"97.833527\" id=\"text1983\"><tspan sodipodi:role=\"line\" id=\"tspan1981\" x=\"91.272171\" y=\"97.833527\" style=\"fill:#ff0000;stroke-width:0.264583\">x</tspan></text>\n",
       "    <text xml:space=\"preserve\" style=\"font-size:7.7611px;line-height:1.25;font-family:sans-serif;-inkscape-font-specification:sans-serif;fill:#ff0000;stroke-width:0.264583\" x=\"30.439997\" y=\"77.949089\" id=\"text1987\"><tspan sodipodi:role=\"line\" id=\"tspan1985\" x=\"30.439997\" y=\"77.949089\" style=\"fill:#ff0000;stroke-width:0.264583\">y</tspan></text>\n",
       "    <path style=\"fill:none;stroke:#ff0000;stroke-width:0.264583px;stroke-linecap:butt;stroke-linejoin:miter;stroke-opacity:1\" d=\"M 35.540868,70.49852 28.428656,43.955383\" id=\"path2291\"/>\n",
       "    <path style=\"fill:none;stroke:#ff0000;stroke-width:0.264583px;stroke-linecap:butt;stroke-linejoin:miter;stroke-opacity:1\" d=\"M 106.48201,63.547534 97.029145,28.268961\" id=\"path2295\"/>\n",
       "    <path style=\"fill:none;stroke:#ff0000;stroke-width:0.264583px;stroke-linecap:butt;stroke-linejoin:miter;stroke-opacity:1;marker-start:url(#Arrow1Mstart);marker-end:url(#marker2411)\" d=\"M 30.013167,50.44001 98.170264,32.17737\" id=\"path2297\"/>\n",
       "    <path style=\"fill:none;stroke:#ff0000;stroke-width:0.264583px;stroke-linecap:butt;stroke-linejoin:miter;stroke-opacity:1\" d=\"M 91.633828,99.28314 139.14495,86.552573\" id=\"path2299\"/>\n",
       "    <path style=\"fill:none;stroke:#ff0000;stroke-width:0.264583px;stroke-linecap:butt;stroke-linejoin:miter;stroke-opacity:1\" d=\"M 108.10417,62.91139 132.1561,56.563205\" id=\"path2301\" sodipodi:nodetypes=\"cc\"/>\n",
       "    <path style=\"fill:none;stroke:#ff0000;stroke-width:0.264583px;stroke-linecap:butt;stroke-linejoin:miter;stroke-opacity:1;marker-start:url(#marker2523);marker-end:url(#marker2641)\" d=\"M 135.64239,86.806213 127.75787,57.380765\" id=\"path2303\"/>\n",
       "    <text xml:space=\"preserve\" style=\"font-size:7.7611px;line-height:1.25;font-family:sans-serif;-inkscape-font-specification:sans-serif;fill:#ff0000;stroke-width:0.264583\" x=\"54.859158\" y=\"39.077469\" id=\"text2759\"><tspan sodipodi:role=\"line\" id=\"tspan2757\" x=\"54.859158\" y=\"39.077469\" style=\"fill:#ff0000;stroke-width:0.264583\">R<tspan style=\"font-size:65%;baseline-shift:sub;fill:#ff0000\" id=\"tspan2761\">x</tspan></tspan></text>\n",
       "    <text xml:space=\"preserve\" style=\"font-size:7.7611px;line-height:1.25;font-family:sans-serif;-inkscape-font-specification:sans-serif;fill:#ff0000;stroke-width:0.264583\" x=\"123.70059\" y=\"75.616089\" id=\"text2765\"><tspan sodipodi:role=\"line\" id=\"tspan2763\" x=\"123.70059\" y=\"75.616089\" style=\"fill:#ff0000;stroke-width:0.264583\">R<tspan style=\"font-size:65%;baseline-shift:sub;fill:#ff0000\" id=\"tspan2767\">y</tspan></tspan></text>\n",
       "    <path style=\"fill:none;stroke:#000000;stroke-width:0.264583px;stroke-linecap:butt;stroke-linejoin:miter;stroke-opacity:1\" d=\"M 46.494538,69.056449 V 57.478554\" id=\"path2769\" sodipodi:nodetypes=\"cc\"/>\n",
       "    <path style=\"fill:none;stroke:#000000;stroke-width:0.264583px;stroke-linecap:butt;stroke-linejoin:miter;stroke-opacity:1;marker-start:url(#marker3057);marker-end:url(#marker3199)\" d=\"M 106.48201,63.547534 H 46.630769\" id=\"path2771\"/>\n",
       "    <path style=\"fill:none;stroke:#000000;stroke-width:0.264583px;stroke-linecap:butt;stroke-linejoin:miter;stroke-opacity:1\" d=\"M 93.226167,111.37818 H 113.47189\" id=\"path2773\"/>\n",
       "    <path style=\"fill:none;stroke:#000000;stroke-width:0.264583px;stroke-linecap:butt;stroke-linejoin:miter;stroke-opacity:1;marker-start:url(#marker2785);marker-end:url(#marker2909)\" d=\"M 106.48201,63.547534 V 111.38986\" id=\"path2775\" sodipodi:nodetypes=\"cc\"/>\n",
       "    <text xml:space=\"preserve\" style=\"font-size:7.7611px;line-height:1.25;font-family:sans-serif;-inkscape-font-specification:sans-serif;stroke-width:0.264583\" x=\"71.510521\" y=\"61.04834\" id=\"text3341\"><tspan sodipodi:role=\"line\" id=\"tspan3339\" x=\"71.510521\" y=\"61.04834\" style=\"stroke-width:0.264583\">R<tspan style=\"font-size:65%;baseline-shift:sub\" id=\"tspan3343\">X</tspan></tspan></text>\n",
       "    <text xml:space=\"preserve\" style=\"font-size:7.7611px;line-height:1.25;font-family:sans-serif;-inkscape-font-specification:sans-serif;stroke-width:0.264583\" x=\"107.36166\" y=\"87.57106\" id=\"text3347\"><tspan sodipodi:role=\"line\" id=\"tspan3345\" x=\"107.36166\" y=\"87.57106\" style=\"stroke-width:0.264583\">R<tspan style=\"font-size:65%;baseline-shift:sub\" id=\"tspan3349\">Y</tspan></tspan></text>\n",
       "  </g>\n",
       "</svg>"
      ],
      "text/plain": [
       "<IPython.core.display.SVG object>"
      ]
     },
     "execution_count": 12,
     "metadata": {},
     "output_type": "execute_result"
    }
   ],
   "source": [
    "SVG('figs4-2.svg')"
   ]
  },
  {
   "cell_type": "code",
   "execution_count": 13,
   "metadata": {
    "slideshow": {
     "slide_type": "fragment"
    }
   },
   "outputs": [],
   "source": [
    "Rx,Ry,delta = symbols('R_x R_y delta')"
   ]
  },
  {
   "cell_type": "code",
   "execution_count": 14,
   "metadata": {
    "slideshow": {
     "slide_type": "fragment"
    }
   },
   "outputs": [],
   "source": [
    "B = me.ReferenceFrame('B')\n",
    "B.orient(N,'Axis',[delta,N.z])"
   ]
  },
  {
   "cell_type": "code",
   "execution_count": 15,
   "metadata": {
    "slideshow": {
     "slide_type": "fragment"
    }
   },
   "outputs": [
    {
     "data": {
      "text/latex": [
       "$\\displaystyle R_{x}\\mathbf{\\hat{b}_x} + R_{y}\\mathbf{\\hat{b}_y}$"
      ],
      "text/plain": [
       "R_x*B.x + R_y*B.y"
      ]
     },
     "execution_count": 15,
     "metadata": {},
     "output_type": "execute_result"
    }
   ],
   "source": [
    "p = Rx*B.x + Ry*B.y\n",
    "p"
   ]
  },
  {
   "cell_type": "code",
   "execution_count": 16,
   "metadata": {
    "slideshow": {
     "slide_type": "fragment"
    }
   },
   "outputs": [
    {
     "data": {
      "text/latex": [
       "$\\displaystyle (R_{x} \\operatorname{cos}\\left(\\delta\\right) - R_{y} \\operatorname{sin}\\left(\\delta\\right))\\mathbf{\\hat{n}_x} + (R_{x} \\operatorname{sin}\\left(\\delta\\right) + R_{y} \\operatorname{cos}\\left(\\delta\\right))\\mathbf{\\hat{n}_y}$"
      ],
      "text/plain": [
       "(R_x*cos(delta) - R_y*sin(delta))*N.x + (R_x*sin(delta) + R_y*cos(delta))*N.y"
      ]
     },
     "execution_count": 16,
     "metadata": {},
     "output_type": "execute_result"
    }
   ],
   "source": [
    "p.express(N)"
   ]
  },
  {
   "cell_type": "code",
   "execution_count": 17,
   "metadata": {
    "scrolled": true,
    "slideshow": {
     "slide_type": "fragment"
    }
   },
   "outputs": [
    {
     "data": {
      "text/latex": [
       "$\\displaystyle \\left[\\begin{matrix}\\cos{\\left(\\delta \\right)} & - \\sin{\\left(\\delta \\right)} & 0\\\\\\sin{\\left(\\delta \\right)} & \\cos{\\left(\\delta \\right)} & 0\\\\0 & 0 & 1\\end{matrix}\\right]$"
      ],
      "text/plain": [
       "Matrix([\n",
       "[cos(delta), -sin(delta), 0],\n",
       "[sin(delta),  cos(delta), 0],\n",
       "[         0,           0, 1]])"
      ]
     },
     "execution_count": 17,
     "metadata": {},
     "output_type": "execute_result"
    }
   ],
   "source": [
    "N.dcm(B) "
   ]
  },
  {
   "cell_type": "code",
   "execution_count": 18,
   "metadata": {
    "slideshow": {
     "slide_type": "fragment"
    }
   },
   "outputs": [
    {
     "data": {
      "text/latex": [
       "$\\displaystyle \\left[\\begin{matrix}R_{x}\\\\R_{y}\\\\0\\end{matrix}\\right]$"
      ],
      "text/plain": [
       "Matrix([\n",
       "[R_x],\n",
       "[R_y],\n",
       "[  0]])"
      ]
     },
     "execution_count": 18,
     "metadata": {},
     "output_type": "execute_result"
    }
   ],
   "source": [
    "p.express(B).args[0][0]"
   ]
  },
  {
   "cell_type": "code",
   "execution_count": 19,
   "metadata": {
    "slideshow": {
     "slide_type": "fragment"
    }
   },
   "outputs": [
    {
     "data": {
      "text/latex": [
       "$\\displaystyle \\left[\\begin{matrix}R_{x} \\cos{\\left(\\delta \\right)} - R_{y} \\sin{\\left(\\delta \\right)}\\\\R_{x} \\sin{\\left(\\delta \\right)} + R_{y} \\cos{\\left(\\delta \\right)}\\\\0\\end{matrix}\\right]$"
      ],
      "text/plain": [
       "Matrix([\n",
       "[R_x*cos(delta) - R_y*sin(delta)],\n",
       "[R_x*sin(delta) + R_y*cos(delta)],\n",
       "[                              0]])"
      ]
     },
     "execution_count": 19,
     "metadata": {},
     "output_type": "execute_result"
    }
   ],
   "source": [
    "N.dcm(B)*(p.express(B).args[0][0])"
   ]
  },
  {
   "cell_type": "code",
   "execution_count": 20,
   "metadata": {
    "slideshow": {
     "slide_type": "fragment"
    }
   },
   "outputs": [
    {
     "data": {
      "text/latex": [
       "$\\displaystyle R_{x} \\cos{\\left(\\delta \\right)} - R_{y} \\sin{\\left(\\delta \\right)}$"
      ],
      "text/plain": [
       "R_x*cos(delta) - R_y*sin(delta)"
      ]
     },
     "execution_count": 20,
     "metadata": {},
     "output_type": "execute_result"
    }
   ],
   "source": [
    "RX = p.express(N).args[0][0][0]\n",
    "RX"
   ]
  },
  {
   "cell_type": "code",
   "execution_count": 21,
   "metadata": {
    "slideshow": {
     "slide_type": "fragment"
    }
   },
   "outputs": [
    {
     "data": {
      "text/latex": [
       "$\\displaystyle R_{X} = R_{x} \\cos{\\left(\\delta \\right)} - R_{y} \\sin{\\left(\\delta \\right)}$"
      ],
      "text/plain": [
       "Eq(R_X, R_x*cos(delta) - R_y*sin(delta))"
      ]
     },
     "execution_count": 21,
     "metadata": {},
     "output_type": "execute_result"
    }
   ],
   "source": [
    "RX = symbols('R_X')\n",
    "Eq(RX,p.express(N).args[0][0][0])"
   ]
  },
  {
   "cell_type": "code",
   "execution_count": 22,
   "metadata": {
    "slideshow": {
     "slide_type": "fragment"
    }
   },
   "outputs": [
    {
     "data": {
      "text/latex": [
       "$\\displaystyle R_{x} \\sin{\\left(\\delta \\right)} + R_{y} \\cos{\\left(\\delta \\right)}$"
      ],
      "text/plain": [
       "R_x*sin(delta) + R_y*cos(delta)"
      ]
     },
     "execution_count": 22,
     "metadata": {},
     "output_type": "execute_result"
    }
   ],
   "source": [
    "RY = p.dot(N.y)\n",
    "RY"
   ]
  },
  {
   "cell_type": "code",
   "execution_count": 23,
   "metadata": {
    "slideshow": {
     "slide_type": "fragment"
    }
   },
   "outputs": [
    {
     "data": {
      "text/latex": [
       "$\\displaystyle R_{Y} = R_{x} \\sin{\\left(\\delta \\right)} + R_{y} \\cos{\\left(\\delta \\right)}$"
      ],
      "text/plain": [
       "Eq(R_Y, R_x*sin(delta) + R_y*cos(delta))"
      ]
     },
     "execution_count": 23,
     "metadata": {},
     "output_type": "execute_result"
    }
   ],
   "source": [
    "RY = symbols('R_Y')\n",
    "Eq(RY,p.dot(N.y))"
   ]
  },
  {
   "cell_type": "markdown",
   "metadata": {
    "slideshow": {
     "slide_type": "subslide"
    }
   },
   "source": [
    "### Deslocamentos\n",
    "O vetor posição $\\vec{R}_{BA}$ define o deslocamento do ponto $B$ em relação ao ponto $A$. "
   ]
  },
  {
   "cell_type": "code",
   "execution_count": 24,
   "metadata": {
    "slideshow": {
     "slide_type": "fragment"
    }
   },
   "outputs": [
    {
     "data": {
      "image/svg+xml": [
       "<svg xmlns:dc=\"http://purl.org/dc/elements/1.1/\" xmlns:cc=\"http://creativecommons.org/ns#\" xmlns:rdf=\"http://www.w3.org/1999/02/22-rdf-syntax-ns#\" xmlns:svg=\"http://www.w3.org/2000/svg\" xmlns=\"http://www.w3.org/2000/svg\" xmlns:sodipodi=\"http://sodipodi.sourceforge.net/DTD/sodipodi-0.dtd\" xmlns:inkscape=\"http://www.inkscape.org/namespaces/inkscape\" width=\"84.273048mm\" height=\"70.264748mm\" viewBox=\"0 0 84.273048 70.264748\" version=\"1.1\" id=\"svg4223\" inkscape:version=\"1.0.1 (3bc2e813f5, 2020-09-07)\" sodipodi:docname=\"figs4-3.svg\">\n",
       "  <defs id=\"defs4217\">\n",
       "    <marker style=\"overflow:visible;\" id=\"marker10341\" refX=\"0.0\" refY=\"0.0\" orient=\"auto\" inkscape:stockid=\"Arrow1Lend\" inkscape:isstock=\"true\">\n",
       "      <path transform=\"scale(0.8) rotate(180) translate(12.5,0)\" style=\"fill-rule:evenodd;stroke:#000000;stroke-width:1pt;stroke-opacity:1;fill:#000000;fill-opacity:1\" d=\"M 0.0,0.0 L 5.0,-5.0 L -12.5,0.0 L 5.0,5.0 L 0.0,0.0 z \" id=\"path939\"/>\n",
       "    </marker>\n",
       "    <marker style=\"overflow:visible\" id=\"marker1547\" refX=\"0.0\" refY=\"0.0\" orient=\"auto\" inkscape:stockid=\"TriangleOutL\" inkscape:isstock=\"true\">\n",
       "      <path transform=\"scale(0.8)\" style=\"fill-rule:evenodd;stroke:#000000;stroke-width:1pt;stroke-opacity:1;fill:#000000;fill-opacity:1\" d=\"M 5.77,0.0 L -2.88,5.0 L -2.88,-5.0 L 5.77,0.0 z \" id=\"path1545\"/>\n",
       "    </marker>\n",
       "    <marker style=\"overflow:visible\" id=\"marker1443\" refX=\"0.0\" refY=\"0.0\" orient=\"auto\" inkscape:stockid=\"TriangleOutL\" inkscape:isstock=\"true\" inkscape:collect=\"always\">\n",
       "      <path transform=\"scale(0.8)\" style=\"fill-rule:evenodd;stroke:#000000;stroke-width:1pt;stroke-opacity:1;fill:#000000;fill-opacity:1\" d=\"M 5.77,0.0 L -2.88,5.0 L -2.88,-5.0 L 5.77,0.0 z \" id=\"path1441\"/>\n",
       "    </marker>\n",
       "    <marker style=\"overflow:visible\" id=\"marker1347\" refX=\"0.0\" refY=\"0.0\" orient=\"auto\" inkscape:stockid=\"TriangleOutL\" inkscape:isstock=\"true\" inkscape:collect=\"always\">\n",
       "      <path transform=\"scale(0.8)\" style=\"fill-rule:evenodd;stroke:#000000;stroke-width:1pt;stroke-opacity:1;fill:#000000;fill-opacity:1\" d=\"M 5.77,0.0 L -2.88,5.0 L -2.88,-5.0 L 5.77,0.0 z \" id=\"path1345\"/>\n",
       "    </marker>\n",
       "    <marker style=\"overflow:visible\" id=\"TriangleOutL\" refX=\"0.0\" refY=\"0.0\" orient=\"auto\" inkscape:stockid=\"TriangleOutL\" inkscape:isstock=\"true\" inkscape:collect=\"always\">\n",
       "      <path transform=\"scale(0.8)\" style=\"fill-rule:evenodd;stroke:#000000;stroke-width:1pt;stroke-opacity:1;fill:#000000;fill-opacity:1\" d=\"M 5.77,0.0 L -2.88,5.0 L -2.88,-5.0 L 5.77,0.0 z \" id=\"path1137\"/>\n",
       "    </marker>\n",
       "    <marker style=\"overflow:visible\" id=\"marker933\" refX=\"0\" refY=\"0\" orient=\"auto\" inkscape:stockid=\"Arrow1Lend\" inkscape:isstock=\"true\">\n",
       "      <path transform=\"matrix(-0.8,0,0,-0.8,-10,0)\" style=\"fill:#000000;fill-opacity:1;fill-rule:evenodd;stroke:#000000;stroke-width:1pt;stroke-opacity:1\" d=\"M 0,0 5,-5 -12.5,0 5,5 Z\" id=\"path931\"/>\n",
       "    </marker>\n",
       "    <marker style=\"overflow:visible\" id=\"marker5170\" refX=\"0\" refY=\"0\" orient=\"auto\" inkscape:stockid=\"Arrow1Lend\" inkscape:isstock=\"true\" inkscape:collect=\"always\">\n",
       "      <path transform=\"matrix(-0.8,0,0,-0.8,-10,0)\" style=\"fill:#000000;fill-opacity:1;fill-rule:evenodd;stroke:#000000;stroke-width:1pt;stroke-opacity:1\" d=\"M 0,0 5,-5 -12.5,0 5,5 Z\" id=\"path5168\"/>\n",
       "    </marker>\n",
       "    <marker style=\"overflow:visible\" id=\"marker5116\" refX=\"0\" refY=\"0\" orient=\"auto\" inkscape:stockid=\"Arrow1Lend\" inkscape:isstock=\"true\" inkscape:collect=\"always\">\n",
       "      <path transform=\"matrix(-0.8,0,0,-0.8,-10,0)\" style=\"fill:#000000;fill-opacity:1;fill-rule:evenodd;stroke:#000000;stroke-width:1pt;stroke-opacity:1\" d=\"M 0,0 5,-5 -12.5,0 5,5 Z\" id=\"path5114\"/>\n",
       "    </marker>\n",
       "    <marker style=\"overflow:visible\" id=\"marker5068\" refX=\"0\" refY=\"0\" orient=\"auto\" inkscape:stockid=\"Arrow1Lend\" inkscape:isstock=\"true\" inkscape:collect=\"always\">\n",
       "      <path transform=\"matrix(-0.8,0,0,-0.8,-10,0)\" style=\"fill:#000000;fill-opacity:1;fill-rule:evenodd;stroke:#000000;stroke-width:1pt;stroke-opacity:1\" d=\"M 0,0 5,-5 -12.5,0 5,5 Z\" id=\"path5066\"/>\n",
       "    </marker>\n",
       "    <inkscape:path-effect effect=\"spiro\" id=\"path-effect4874\" is_visible=\"true\" lpeversion=\"1\"/>\n",
       "    <inkscape:path-effect effect=\"simplify\" id=\"path-effect4872\" is_visible=\"true\" lpeversion=\"1\" steps=\"1\" threshold=\"0.00645161\" smooth_angles=\"360\" helper_size=\"0\" simplify_individual_paths=\"false\" simplify_just_coalesce=\"false\"/>\n",
       "    <inkscape:path-effect effect=\"simplify\" id=\"path-effect4866\" is_visible=\"true\" lpeversion=\"1\" steps=\"1\" threshold=\"0.000625\" smooth_angles=\"360\" helper_size=\"0\" simplify_individual_paths=\"false\" simplify_just_coalesce=\"false\"/>\n",
       "    <marker style=\"overflow:visible\" id=\"Arrow1Lstart\" refX=\"0\" refY=\"0\" orient=\"auto\" inkscape:stockid=\"Arrow1Lstart\" inkscape:isstock=\"true\">\n",
       "      <path transform=\"matrix(0.8,0,0,0.8,10,0)\" style=\"fill:#000000;fill-opacity:1;fill-rule:evenodd;stroke:#000000;stroke-width:1pt;stroke-opacity:1\" d=\"M 0,0 5,-5 -12.5,0 5,5 Z\" id=\"path2819\"/>\n",
       "    </marker>\n",
       "    <inkscape:path-effect effect=\"simplify\" id=\"path-effect4796\" is_visible=\"true\" lpeversion=\"1\" steps=\"1\" threshold=\"0.000625\" smooth_angles=\"360\" helper_size=\"0\" simplify_individual_paths=\"false\" simplify_just_coalesce=\"false\"/>\n",
       "    <inkscape:path-effect effect=\"simplify\" id=\"path-effect4790\" is_visible=\"true\" lpeversion=\"1\" steps=\"1\" threshold=\"0.000625\" smooth_angles=\"360\" helper_size=\"0\" simplify_individual_paths=\"false\" simplify_just_coalesce=\"false\"/>\n",
       "    <marker style=\"overflow:visible\" id=\"marker2416\" refX=\"0\" refY=\"0\" orient=\"auto\" inkscape:stockid=\"Arrow1Lend\" inkscape:isstock=\"true\">\n",
       "      <path transform=\"matrix(-0.8,0,0,-0.8,-10,0)\" style=\"fill:#ff0000;fill-opacity:1;fill-rule:evenodd;stroke:#ff0000;stroke-width:1pt;stroke-opacity:1\" d=\"M 0,0 5,-5 -12.5,0 5,5 Z\" id=\"path2414\"/>\n",
       "    </marker>\n",
       "    <filter inkscape:collect=\"always\" style=\"color-interpolation-filters:sRGB\" id=\"filter2408\" x=\"-0.18425412\" width=\"1.3685082\" y=\"-0.18425412\" height=\"1.3685082\">\n",
       "      <feGaussianBlur inkscape:collect=\"always\" stdDeviation=\"0.52308203\" id=\"feGaussianBlur2410\"/>\n",
       "    </filter>\n",
       "  </defs>\n",
       "  <sodipodi:namedview id=\"base\" pagecolor=\"#ffffff\" bordercolor=\"#666666\" borderopacity=\"1.0\" inkscape:pageopacity=\"0.0\" inkscape:pageshadow=\"2\" inkscape:zoom=\"1.979899\" inkscape:cx=\"192.92978\" inkscape:cy=\"113.10349\" inkscape:document-units=\"mm\" inkscape:current-layer=\"layer4\" inkscape:document-rotation=\"0\" showgrid=\"false\" inkscape:window-width=\"1920\" inkscape:window-height=\"1017\" inkscape:window-x=\"-8\" inkscape:window-y=\"-8\" inkscape:window-maximized=\"1\"/>\n",
       "  <metadata id=\"metadata4220\">\n",
       "    <rdf:RDF>\n",
       "      <cc:Work rdf:about=\"\">\n",
       "        <dc:format>image/svg+xml</dc:format>\n",
       "        <dc:type rdf:resource=\"http://purl.org/dc/dcmitype/StillImage\"/>\n",
       "        <dc:title/>\n",
       "      </cc:Work>\n",
       "    </rdf:RDF>\n",
       "  </metadata>\n",
       "  <g inkscape:groupmode=\"layer\" id=\"layer4\" inkscape:label=\"Layer 2\">\n",
       "    <rect style=\"fill:#ffffff;stroke:#ffffff;stroke-width:0.865\" id=\"rect2864\" width=\"84.590805\" height=\"70.559151\" x=\"-0.13363476\" y=\"0\"/>\n",
       "  </g>\n",
       "  <g inkscape:label=\"Layer 1\" inkscape:groupmode=\"layer\" id=\"layer1\" transform=\"translate(-35.804456,-51.011956)\">\n",
       "    <path style=\"fill:none;stroke:#000000;stroke-width:0.265;stroke-linecap:butt;stroke-linejoin:miter;stroke-opacity:1;marker-start:url(#Arrow1Lstart);marker-end:url(#marker10341);stroke-miterlimit:4;stroke-dasharray:none\" d=\"M 93.226169,111.37818 H 46.494538 V 69.056449\" id=\"path4786\"/>\n",
       "    <text xml:space=\"preserve\" style=\"font-size:7.7611px;line-height:1.25;font-family:sans-serif;-inkscape-font-specification:sans-serif;stroke-width:0.264583\" x=\"38.001274\" y=\"118.66259\" id=\"text4854\"><tspan sodipodi:role=\"line\" id=\"tspan4852\" x=\"38.001274\" y=\"118.66259\" style=\"stroke-width:0.264583\">O</tspan></text>\n",
       "    <text xml:space=\"preserve\" style=\"font-size:7.7611px;line-height:1.25;font-family:sans-serif;-inkscape-font-specification:sans-serif;stroke-width:0.264583\" x=\"91.490891\" y=\"121.2767\" id=\"text4858\"><tspan sodipodi:role=\"line\" id=\"tspan4856\" x=\"91.490891\" y=\"121.2767\" style=\"stroke-width:0.264583\">X</tspan></text>\n",
       "    <text xml:space=\"preserve\" style=\"font-size:7.7611px;line-height:1.25;font-family:sans-serif;-inkscape-font-specification:sans-serif;stroke-width:0.264583\" x=\"35.819614\" y=\"72.061058\" id=\"text4862\"><tspan sodipodi:role=\"line\" id=\"tspan4860\" x=\"35.819614\" y=\"72.061058\" style=\"stroke-width:0.264583\">Y</tspan></text>\n",
       "    <path style=\"fill:none;stroke:#000000;stroke-width:0.264583;stroke-linecap:butt;stroke-linejoin:miter;stroke-miterlimit:4;stroke-dasharray:2.11666, 2.11666;stroke-dashoffset:0;stroke-opacity:1\" d=\"m 75.067441,51.145389 c -1.703969,-0.02952 -3.413053,0.501748 -4.800007,1.492071 -1.386954,0.990323 -2.444293,2.434361 -2.969564,4.055617 -0.669925,2.067732 -0.458293,4.386235 0.480133,6.346763 0.938426,1.960528 2.577087,3.558045 4.513985,4.54432 2.358593,1.201004 5.104229,1.501982 7.734378,1.205862 2.63015,-0.296121 5.164955,-1.160984 7.603136,-2.190861 2.893046,-1.22201 5.68622,-2.684454 8.639708,-3.752128 2.953489,-1.067675 6.12877,-1.735132 9.23718,-1.287038 4.20801,0.606606 7.89808,3.204396 10.80607,6.305826 1.24131,1.323883 2.38724,2.776187 3.07523,4.455529 0.68799,1.679341 0.88158,3.618124 0.22212,5.308872 -0.52094,1.335597 -1.54359,2.440003 -2.7502,3.214136 -1.20661,0.774134 -2.59139,1.23615 -3.99643,1.520854 -5.44818,1.103967 -11.35584,-0.512304 -15.559021,-4.150265 -2.797165,-2.421021 -4.812776,-5.610389 -6.587739,-8.856152 -1.554798,-2.843161 -2.959939,-5.771741 -4.672436,-8.522798 -1.712497,-2.751058 -3.760421,-5.345743 -6.374746,-7.260493 -1.404476,-1.028648 -2.960324,-1.850259 -4.601797,-2.430115 z\" id=\"path4870\" inkscape:path-effect=\"#path-effect4872;#path-effect4874\" inkscape:original-d=\"M 75.067441,51.145389 C 64.873859,50.840179 63.49306,66.510786 75.257774,68.473034 89.863301,70.909106 106.99538,50.226159 118.04118,70.670655 126.35289,86.054679 102.08843,84.799359 95.167212,76.156183 87.715294,66.850259 86.285302,55.233298 75.067441,51.145389 Z\"/>\n",
       "    <g id=\"g5050\" transform=\"matrix(0.62824966,0,0,0.62841368,38.348682,4.8648415)\" style=\"stroke-width:1.59152\">\n",
       "      <circle style=\"mix-blend-mode:normal;fill:#666666;stroke:#000000;stroke-width:0.271798\" id=\"path1649\" cx=\"108.4316\" cy=\"92.124985\" r=\"7.4015002\"/>\n",
       "      <circle style=\"fill:#ffffff;stroke:#000000;stroke-width:0.188437;filter:url(#filter2408)\" id=\"path1651\" cx=\"111.03149\" cy=\"88.963264\" r=\"3.4066997\"/>\n",
       "    </g>\n",
       "    <g id=\"g5056\" transform=\"matrix(0.62824966,0,0,0.62841368,1.4573037,5.3131403)\" style=\"stroke-width:1.59152\">\n",
       "      <circle style=\"mix-blend-mode:normal;fill:#666666;stroke:#000000;stroke-width:0.271798\" id=\"circle5052\" cx=\"108.4316\" cy=\"92.124985\" r=\"7.4015002\"/>\n",
       "      <circle style=\"fill:#ffffff;stroke:#000000;stroke-width:0.188437;filter:url(#filter2408)\" id=\"circle5054\" cx=\"111.03149\" cy=\"88.963264\" r=\"3.4066997\"/>\n",
       "    </g>\n",
       "    <path style=\"fill:none;stroke:#000000;stroke-width:0.565;stroke-linecap:butt;stroke-linejoin:miter;stroke-miterlimit:4;stroke-dasharray:none;stroke-opacity:1;marker-end:url(#marker5068)\" d=\"M 46.494538,111.37818 106.48201,63.547534\" id=\"path5058\"/>\n",
       "    <path style=\"fill:none;stroke:#000000;stroke-width:0.565;stroke-linecap:butt;stroke-linejoin:miter;stroke-miterlimit:4;stroke-dasharray:none;stroke-opacity:1;marker-end:url(#marker5116)\" d=\"M 46.494538,111.37818 69.073545,63.31581\" id=\"path5106\"/>\n",
       "    <path style=\"fill:none;stroke:#000000;stroke-width:0.565;stroke-linecap:butt;stroke-linejoin:miter;stroke-miterlimit:4;stroke-dasharray:none;stroke-opacity:1;marker-end:url(#marker5170)\" d=\"m 69.073545,63.31581 37.408465,0.231724\" id=\"path5160\"/>\n",
       "    <text xml:space=\"preserve\" style=\"font-size:7.7611px;line-height:1.25;font-family:sans-serif;-inkscape-font-specification:sans-serif;stroke-width:0.264583\" x=\"58.471088\" y=\"60.723351\" id=\"text5270\"><tspan sodipodi:role=\"line\" id=\"tspan5268\" x=\"58.471088\" y=\"60.723351\" style=\"stroke-width:0.264583\">A</tspan></text>\n",
       "    <text xml:space=\"preserve\" style=\"font-size:7.7611px;line-height:1.25;font-family:sans-serif;-inkscape-font-specification:sans-serif;stroke-width:0.264583\" x=\"111.07375\" y=\"60.550766\" id=\"text5274\"><tspan sodipodi:role=\"line\" id=\"tspan5272\" x=\"111.07375\" y=\"60.550766\" style=\"stroke-width:0.264583\">B</tspan></text>\n",
       "    <text xml:space=\"preserve\" style=\"font-size:7.7611px;line-height:1.25;font-family:sans-serif;-inkscape-font-specification:sans-serif;stroke-width:0.264583\" x=\"83.049095\" y=\"59.255951\" id=\"text5278\"><tspan sodipodi:role=\"line\" id=\"tspan5276\" x=\"83.049095\" y=\"59.255951\" style=\"stroke-width:0.264583\">R<tspan style=\"font-size:65%;baseline-shift:sub\" id=\"tspan5280\">BA</tspan></tspan></text>\n",
       "    <text xml:space=\"preserve\" style=\"font-size:7.7611px;line-height:1.25;font-family:sans-serif;-inkscape-font-specification:sans-serif;stroke-width:0.264583\" x=\"50.139427\" y=\"78.674736\" id=\"text5284\"><tspan sodipodi:role=\"line\" id=\"tspan5282\" x=\"50.139427\" y=\"78.674736\" style=\"stroke-width:0.264583\">R<tspan style=\"font-size:65%;baseline-shift:sub\" id=\"tspan5286\">A</tspan></tspan></text>\n",
       "    <text xml:space=\"preserve\" style=\"font-size:7.7611px;line-height:1.25;font-family:sans-serif;-inkscape-font-specification:sans-serif;stroke-width:0.264583\" x=\"81.91066\" y=\"93.704056\" id=\"text5290\"><tspan sodipodi:role=\"line\" id=\"tspan5288\" x=\"81.91066\" y=\"93.704056\" style=\"stroke-width:0.264583\">R<tspan style=\"font-size:65%;baseline-shift:sub\" id=\"tspan5292\">B</tspan></tspan></text>\n",
       "    <path style=\"fill:none;stroke:#000000;stroke-width:0.165;stroke-linecap:butt;stroke-linejoin:miter;stroke-miterlimit:4;stroke-dasharray:none;stroke-opacity:1;marker-end:url(#TriangleOutL)\" d=\"M 50.440997,71.608166 H 54.4852\" id=\"path923\"/>\n",
       "    <path style=\"fill:none;stroke:#000000;stroke-width:0.165;stroke-linecap:butt;stroke-linejoin:miter;stroke-miterlimit:4;stroke-dasharray:none;stroke-opacity:1;marker-end:url(#marker1347)\" d=\"M 82.130237,87.183238 H 86.17444\" id=\"path1343\"/>\n",
       "    <path style=\"fill:none;stroke:#000000;stroke-width:0.165;stroke-linecap:butt;stroke-linejoin:miter;stroke-miterlimit:4;stroke-dasharray:none;stroke-opacity:1;marker-end:url(#marker1443)\" d=\"m 83.06967,52.728692 h 4.044203\" id=\"path1439\"/>\n",
       "  </g>\n",
       "</svg>"
      ],
      "text/plain": [
       "<IPython.core.display.SVG object>"
      ]
     },
     "execution_count": 24,
     "metadata": {},
     "output_type": "execute_result"
    }
   ],
   "source": [
    "SVG('figs4-3.svg')"
   ]
  },
  {
   "cell_type": "markdown",
   "metadata": {
    "slideshow": {
     "slide_type": "fragment"
    }
   },
   "source": [
    "A posição de $B$ em consideração a $A$ é igual a posição absoluta de $B$ menos a posição absoluta de $A$\n",
    "$$\\vec{R}_{BA} = \\vec{R}_B - \\vec{R}_A$$\n",
    "Ou:\n",
    "$$\\vec{R}_{BA} = \\vec{R}_{BO} - \\vec{R}_{AO}$$"
   ]
  },
  {
   "cell_type": "markdown",
   "metadata": {
    "slideshow": {
     "slide_type": "slide"
    }
   },
   "source": [
    "## 4.3 Translação, Rotação e Movimento Complexo"
   ]
  },
  {
   "cell_type": "markdown",
   "metadata": {
    "slideshow": {
     "slide_type": "subslide"
    }
   },
   "source": [
    "#### Translação\n",
    "Todos os pontos do corpo tem o mesmo deslocamento. A orientação angular é mantida.\n",
    "#### Rotação \n",
    "Diferentes pontos do corpo suportam difenrentes deslocamentos, portanto há uma diferença de deslocamento entre quaisquer dois pontos escolhidos\n",
    "#### Movimento complexo\n",
    "É a união dos dois movimentos anteriores\n",
    "\n",
    "#### Teoremas:\n",
    "**Teorema de Euler** <br>\n",
    "O deslocamento geral de um corpo rígido com um ponto fixo é igual a rotação relacionada a algum eixo.<br>\n",
    "**Teorema de Chasles** <br>\n",
    "Qualquer deslocamento de um corpo rígido é equivalente à soma da translação de qualquer ponto naquele corpo com rotação sobre um eixo por meio desse ponto."
   ]
  },
  {
   "cell_type": "markdown",
   "metadata": {
    "slideshow": {
     "slide_type": "slide"
    }
   },
   "source": [
    "## 4.4 Análise Gráfica da Posição de Mecanismos"
   ]
  },
  {
   "cell_type": "markdown",
   "metadata": {
    "slideshow": {
     "slide_type": "subslide"
    }
   },
   "source": [
    "Para qualquer mecanismo de um GDL, somente um parâmetro é necessário para definir a posição de todos os elos. O parâmetro usualmente escolhido é o ângulo do elo de entrada.<br>\n",
    "Os comprimentos dos elos $a$, $b$, $c$ e $d$ são conhecidos."
   ]
  },
  {
   "cell_type": "code",
   "execution_count": 25,
   "metadata": {
    "slideshow": {
     "slide_type": "fragment"
    }
   },
   "outputs": [
    {
     "data": {
      "image/svg+xml": [
       "<svg xmlns:dc=\"http://purl.org/dc/elements/1.1/\" xmlns:cc=\"http://creativecommons.org/ns#\" xmlns:rdf=\"http://www.w3.org/1999/02/22-rdf-syntax-ns#\" xmlns:svg=\"http://www.w3.org/2000/svg\" xmlns=\"http://www.w3.org/2000/svg\" xmlns:sodipodi=\"http://sodipodi.sourceforge.net/DTD/sodipodi-0.dtd\" xmlns:inkscape=\"http://www.inkscape.org/namespaces/inkscape\" width=\"214.58945mm\" height=\"110.67824mm\" viewBox=\"0 0 214.58945 110.67824\" version=\"1.1\" id=\"svg8\" inkscape:version=\"1.0.1 (3bc2e813f5, 2020-09-07)\" sodipodi:docname=\"figs4-4.svg\">\n",
       "  <defs id=\"defs2\">\n",
       "    <marker style=\"overflow:visible;\" id=\"marker9278\" refX=\"0.0\" refY=\"0.0\" orient=\"auto\" inkscape:stockid=\"Arrow1Lend\" inkscape:isstock=\"true\">\n",
       "      <path transform=\"scale(0.8) rotate(180) translate(12.5,0)\" style=\"fill-rule:evenodd;stroke:#000000;stroke-width:1pt;stroke-opacity:1;fill:#000000;fill-opacity:1\" d=\"M 0.0,0.0 L 5.0,-5.0 L -12.5,0.0 L 5.0,5.0 L 0.0,0.0 z \" id=\"path939\"/>\n",
       "    </marker>\n",
       "    <marker style=\"overflow:visible\" id=\"marker1421\" refX=\"0\" refY=\"0\" orient=\"auto\" inkscape:stockid=\"Arrow1Lend\" inkscape:isstock=\"true\">\n",
       "      <path transform=\"matrix(-0.8,0,0,-0.8,-10,0)\" style=\"fill:#000000;fill-opacity:1;fill-rule:evenodd;stroke:#000000;stroke-width:1pt;stroke-opacity:1\" d=\"M 0,0 5,-5 -12.5,0 5,5 Z\" id=\"path1419\"/>\n",
       "    </marker>\n",
       "    <marker style=\"overflow:visible\" id=\"marker1375\" refX=\"0\" refY=\"0\" orient=\"auto\" inkscape:stockid=\"Arrow1Lend\" inkscape:isstock=\"true\" inkscape:collect=\"always\">\n",
       "      <path transform=\"matrix(-0.8,0,0,-0.8,-10,0)\" style=\"fill:#000000;fill-opacity:1;fill-rule:evenodd;stroke:#000000;stroke-width:1pt;stroke-opacity:1\" d=\"M 0,0 5,-5 -12.5,0 5,5 Z\" id=\"path1373\"/>\n",
       "    </marker>\n",
       "    <marker style=\"overflow:visible\" id=\"marker1315\" refX=\"0\" refY=\"0\" orient=\"auto\" inkscape:stockid=\"Arrow1Lend\" inkscape:isstock=\"true\" inkscape:collect=\"always\">\n",
       "      <path transform=\"matrix(-0.8,0,0,-0.8,-10,0)\" style=\"fill:#000000;fill-opacity:1;fill-rule:evenodd;stroke:#000000;stroke-width:1pt;stroke-opacity:1\" d=\"M 0,0 5,-5 -12.5,0 5,5 Z\" id=\"path1313\"/>\n",
       "    </marker>\n",
       "    <marker style=\"overflow:visible\" id=\"Arrow1Lstart\" refX=\"0\" refY=\"0\" orient=\"auto\" inkscape:stockid=\"Arrow1Lstart\" inkscape:isstock=\"true\">\n",
       "      <path transform=\"matrix(0.8,0,0,0.8,10,0)\" style=\"fill:#000000;fill-opacity:1;fill-rule:evenodd;stroke:#000000;stroke-width:1pt;stroke-opacity:1\" d=\"M 0,0 5,-5 -12.5,0 5,5 Z\" id=\"path987\"/>\n",
       "    </marker>\n",
       "  </defs>\n",
       "  <sodipodi:namedview id=\"base\" pagecolor=\"#ffffff\" bordercolor=\"#666666\" borderopacity=\"1.0\" inkscape:pageopacity=\"0.0\" inkscape:pageshadow=\"2\" inkscape:zoom=\"1.4\" inkscape:cx=\"379.80088\" inkscape:cy=\"209.49093\" inkscape:document-units=\"mm\" inkscape:current-layer=\"layer5\" inkscape:document-rotation=\"0\" showgrid=\"false\" inkscape:snap-object-midpoints=\"false\" inkscape:snap-smooth-nodes=\"true\" inkscape:window-width=\"1920\" inkscape:window-height=\"1017\" inkscape:window-x=\"-8\" inkscape:window-y=\"-8\" inkscape:window-maximized=\"1\"/>\n",
       "  <metadata id=\"metadata5\">\n",
       "    <rdf:RDF>\n",
       "      <cc:Work rdf:about=\"\">\n",
       "        <dc:format>image/svg+xml</dc:format>\n",
       "        <dc:type rdf:resource=\"http://purl.org/dc/dcmitype/StillImage\"/>\n",
       "        <dc:title/>\n",
       "      </cc:Work>\n",
       "    </rdf:RDF>\n",
       "  </metadata>\n",
       "  <g inkscape:groupmode=\"layer\" id=\"layer5\" inkscape:label=\"Layer 2\">\n",
       "    <rect style=\"fill:#ffffff;stroke:#ffffff;stroke-width:0.865\" id=\"rect3650\" width=\"215.25743\" height=\"111.125\" x=\"-0.1889881\" y=\"0\"/>\n",
       "  </g>\n",
       "  <g inkscape:label=\"Layer 1\" inkscape:groupmode=\"layer\" id=\"layer1\" transform=\"translate(-14.696059,-50.039333)\">\n",
       "    <path id=\"path839\" style=\"fill:#ffffff;stroke:#000000;stroke-width:0.699999;stroke-linejoin:bevel;stroke-miterlimit:4;stroke-dasharray:none\" d=\"m 40.314083,127.77587 a 7.5049962,7.4894698 0 0 0 -7.490705,7.48947 7.5049962,7.4894698 0 0 0 0,0.0143 v 13.0923 h 15.009993 v -13.10657 a 7.5049962,7.4894698 0 0 0 -7.504997,-7.48947 7.5049962,7.4894698 0 0 0 -0.0143,0 z\"/>\n",
       "    <path style=\"fill:none;stroke:#000000;stroke-width:0.7;stroke-linecap:butt;stroke-linejoin:miter;stroke-miterlimit:4;stroke-dasharray:none;stroke-opacity:1\" d=\"M 14.999011,148.37191 H 69.410235\" id=\"path850\"/>\n",
       "    <path style=\"fill:none;stroke:#000000;stroke-width:0.7;stroke-linecap:butt;stroke-linejoin:miter;stroke-miterlimit:4;stroke-dasharray:none;stroke-opacity:1\" d=\"m 14.999011,148.37191 7.041144,12.17039\" id=\"path852\"/>\n",
       "    <path style=\"fill:none;stroke:#000000;stroke-width:0.7;stroke-linecap:butt;stroke-linejoin:miter;stroke-miterlimit:4;stroke-dasharray:none;stroke-opacity:1\" d=\"m 27.382263,148.37191 7.041144,12.17039\" id=\"path854\"/>\n",
       "    <path style=\"fill:none;stroke:#000000;stroke-width:0.7;stroke-linecap:butt;stroke-linejoin:miter;stroke-miterlimit:4;stroke-dasharray:none;stroke-opacity:1\" d=\"m 39.390265,148.37191 7.041144,12.17039\" id=\"path856\"/>\n",
       "    <path style=\"fill:none;stroke:#000000;stroke-width:0.7;stroke-linecap:butt;stroke-linejoin:miter;stroke-miterlimit:4;stroke-dasharray:none;stroke-opacity:1\" d=\"m 51.773517,148.37191 7.041144,12.17039\" id=\"path858\"/>\n",
       "    <path style=\"fill:none;stroke:#000000;stroke-width:0.7;stroke-linecap:butt;stroke-linejoin:miter;stroke-miterlimit:4;stroke-dasharray:none;stroke-opacity:1\" d=\"m 64.156769,148.37191 7.04115,12.17039\" id=\"path860\"/>\n",
       "    <ellipse style=\"fill:#ffffff;stroke:#000000;stroke-width:0.7;stroke-linejoin:bevel\" id=\"path1592\" cx=\"40.369549\" cy=\"135.1759\" rx=\"2.6233726\" ry=\"2.6179454\"/>\n",
       "    <g inkscape:label=\"Layer 1\" id=\"g967\" transform=\"matrix(0.70913352,0,0,0.70766648,139.80942,37.902228)\" style=\"stroke-width:1.41163\">\n",
       "      <path id=\"path951\" style=\"fill:#ffffff;stroke:#000000;stroke-width:3.73471;stroke-linejoin:bevel;stroke-miterlimit:4;stroke-dasharray:none\" d=\"M 219.92383,480 A 39.999999,39.999999 0 0 0 180,520 a 39.999999,39.999999 0 0 0 0,0.0762 V 590 h 80 v -70 a 39.999999,39.999999 0 0 0 -40,-40 39.999999,39.999999 0 0 0 -0.0762,0 z\" transform=\"scale(0.26458333)\"/>\n",
       "      <path style=\"fill:none;stroke:#000000;stroke-width:0.988143;stroke-linecap:butt;stroke-linejoin:miter;stroke-miterlimit:4;stroke-dasharray:none;stroke-opacity:1\" d=\"M 22.489583,156.10416 H 99.218749\" id=\"path953\"/>\n",
       "      <path style=\"fill:none;stroke:#000000;stroke-width:0.988143;stroke-linecap:butt;stroke-linejoin:miter;stroke-miterlimit:4;stroke-dasharray:none;stroke-opacity:1\" d=\"m 22.489583,156.10416 9.929222,17.19792\" id=\"path955\"/>\n",
       "      <path style=\"fill:none;stroke:#000000;stroke-width:0.988143;stroke-linecap:butt;stroke-linejoin:miter;stroke-miterlimit:4;stroke-dasharray:none;stroke-opacity:1\" d=\"m 39.952094,156.10416 9.929222,17.19792\" id=\"path957\"/>\n",
       "      <path style=\"fill:none;stroke:#000000;stroke-width:0.988143;stroke-linecap:butt;stroke-linejoin:miter;stroke-miterlimit:4;stroke-dasharray:none;stroke-opacity:1\" d=\"m 56.885438,156.10416 9.929222,17.19792\" id=\"path959\"/>\n",
       "      <path style=\"fill:none;stroke:#000000;stroke-width:0.988143;stroke-linecap:butt;stroke-linejoin:miter;stroke-miterlimit:4;stroke-dasharray:none;stroke-opacity:1\" d=\"m 74.347949,156.10416 9.929222,17.19792\" id=\"path961\"/>\n",
       "      <path style=\"fill:none;stroke:#000000;stroke-width:0.988143;stroke-linecap:butt;stroke-linejoin:miter;stroke-miterlimit:4;stroke-dasharray:none;stroke-opacity:1\" d=\"m 91.81046,156.10416 9.92923,17.19792\" id=\"path963\"/>\n",
       "      <circle style=\"fill:#ffffff;stroke:#000000;stroke-width:0.988143;stroke-linejoin:bevel\" id=\"circle965\" cx=\"58.266396\" cy=\"137.45695\" r=\"3.6994057\"/>\n",
       "    </g>\n",
       "    <path style=\"fill:none;stroke:#000000;stroke-width:0.665;stroke-linecap:butt;stroke-linejoin:miter;stroke-miterlimit:4;stroke-dasharray:none;stroke-opacity:1\" d=\"M 40.63683,132.91881 54.473189,101.29943 158.25561,77.552742 180.26587,132.7493\" id=\"path969\"/>\n",
       "    <ellipse style=\"fill:#ffffff;stroke:#000000;stroke-width:0.7;stroke-linejoin:bevel\" id=\"ellipse979\" cx=\"54.782269\" cy=\"101.64828\" rx=\"2.6233726\" ry=\"2.6179454\"/>\n",
       "    <ellipse style=\"fill:#ffffff;stroke:#000000;stroke-width:0.7;stroke-linejoin:bevel\" id=\"ellipse981\" cx=\"158.56105\" cy=\"77.746864\" rx=\"2.6233726\" ry=\"2.6179454\"/>\n",
       "    <path style=\"fill:none;stroke:#000000;stroke-width:0.264583px;stroke-linecap:butt;stroke-linejoin:miter;stroke-opacity:1;marker-end:url(#marker1315)\" d=\"M 40.369548,135.1759 V 51.078577\" id=\"path983\"/>\n",
       "    <path style=\"fill:none;stroke:#000000;stroke-width:0.265;stroke-linecap:butt;stroke-linejoin:miter;stroke-opacity:1;marker-end:url(#marker9278);stroke-miterlimit:4;stroke-dasharray:none\" d=\"M 40.369548,135.1759 H 228.62076\" id=\"path985\"/>\n",
       "    <text xml:space=\"preserve\" style=\"font-size:7.7611px;line-height:1.25;font-family:sans-serif;-inkscape-font-specification:sans-serif;stroke-width:0.264583\" x=\"35.393242\" y=\"144.05951\" id=\"text1349\"><tspan sodipodi:role=\"line\" id=\"tspan1347\" x=\"35.393242\" y=\"144.05951\" style=\"stroke-width:0.264583\">O<tspan style=\"font-size:65%;baseline-shift:sub\" id=\"tspan1357\">2</tspan></tspan></text>\n",
       "    <text xml:space=\"preserve\" style=\"font-size:7.7611px;line-height:1.25;font-family:sans-serif;-inkscape-font-specification:sans-serif;stroke-width:0.264583\" x=\"176.83255\" y=\"144.19574\" id=\"text1353\"><tspan sodipodi:role=\"line\" id=\"tspan1351\" x=\"176.83255\" y=\"144.19574\" style=\"stroke-width:0.264583\">O<tspan style=\"font-size:65%;baseline-shift:sub\" id=\"tspan1355\">4</tspan></tspan></text>\n",
       "    <path style=\"fill:none;stroke:#000000;stroke-width:0.264583;stroke-linecap:butt;stroke-linejoin:miter;stroke-miterlimit:4;stroke-dasharray:2.11666, 2.11666;stroke-dashoffset:0;stroke-opacity:1\" d=\"M 54.782267,101.64828 H 122.30559\" id=\"path1361\"/>\n",
       "    <path style=\"fill:none;stroke:#000000;stroke-width:0.264583px;stroke-linecap:butt;stroke-linejoin:miter;stroke-opacity:1;marker-end:url(#marker1375)\" d=\"m 92.906508,101.20302 c 1.255311,-2.244931 1.505398,-4.887335 -0.423056,-8.391146\" id=\"path1363\" sodipodi:nodetypes=\"cc\"/>\n",
       "    <path style=\"fill:none;stroke:#000000;stroke-width:0.264583px;stroke-linecap:butt;stroke-linejoin:miter;stroke-opacity:1;marker-end:url(#marker1421)\" d=\"m 204.02271,135.34302 c -4.19232,-18.1698 -15.68896,-26.44711 -33.03527,-26.802\" id=\"path1365\" sodipodi:nodetypes=\"cc\"/>\n",
       "    <text xml:space=\"preserve\" style=\"font-size:7.7611px;line-height:1.25;font-family:sans-serif;-inkscape-font-specification:sans-serif;stroke-width:0.264583\" x=\"49.927883\" y=\"95.975571\" id=\"text1491\"><tspan sodipodi:role=\"line\" id=\"tspan1489\" x=\"49.927883\" y=\"95.975571\" style=\"stroke-width:0.264583\">A</tspan></text>\n",
       "    <text xml:space=\"preserve\" style=\"font-size:7.7611px;line-height:1.25;font-family:sans-serif;-inkscape-font-specification:sans-serif;stroke-width:0.264583\" x=\"161.36201\" y=\"74.261124\" id=\"text1495\"><tspan sodipodi:role=\"line\" id=\"tspan1493\" x=\"161.36201\" y=\"74.261124\" style=\"stroke-width:0.264583\">B</tspan></text>\n",
       "    <path style=\"fill:none;stroke:#000000;stroke-width:0.264583px;stroke-linecap:butt;stroke-linejoin:miter;stroke-opacity:1\" d=\"m 56.204278,135.14129 c 2.077105,-8.53864 -2.44765,-13.86104 -8.415155,-18.48058\" id=\"path1497\" sodipodi:nodetypes=\"cc\"/>\n",
       "    <g id=\"g1505\" style=\"stroke-width:0.5;stroke-miterlimit:4;stroke-dasharray:none\" transform=\"translate(-8.206898,52.364352)\">\n",
       "      <ellipse style=\"fill:#ffffff;stroke:#000000;stroke-width:0.5;stroke-linejoin:bevel;stroke-miterlimit:4;stroke-dasharray:none;stroke-dashoffset:0\" id=\"path1499\" cx=\"68.891159\" cy=\"69.23098\" rx=\"2.5376184\" ry=\"3.6255431\"/>\n",
       "      <path style=\"fill:none;stroke:#000000;stroke-width:0.5;stroke-linecap:butt;stroke-linejoin:miter;stroke-miterlimit:4;stroke-dasharray:none;stroke-opacity:1\" d=\"m 66.353541,69.23098 h 5.075235\" id=\"path1501\"/>\n",
       "    </g>\n",
       "    <g id=\"g1511\" style=\"stroke-width:0.5;stroke-miterlimit:4;stroke-dasharray:none\" transform=\"translate(130.65558,45.023542)\">\n",
       "      <ellipse style=\"fill:#ffffff;stroke:#000000;stroke-width:0.5;stroke-linejoin:bevel;stroke-miterlimit:4;stroke-dasharray:none;stroke-dashoffset:0\" id=\"ellipse1507\" cx=\"68.891159\" cy=\"69.23098\" rx=\"2.5376184\" ry=\"3.6255431\"/>\n",
       "      <path style=\"fill:none;stroke:#000000;stroke-width:0.5;stroke-linecap:butt;stroke-linejoin:miter;stroke-miterlimit:4;stroke-dasharray:none;stroke-opacity:1\" d=\"m 66.353541,69.23098 h 5.075235\" id=\"path1509\"/>\n",
       "    </g>\n",
       "    <g id=\"g1517\" style=\"stroke-width:0.5;stroke-miterlimit:4;stroke-dasharray:none\" transform=\"translate(31.43961,26.845584)\">\n",
       "      <ellipse style=\"fill:#ffffff;stroke:#000000;stroke-width:0.5;stroke-linejoin:bevel;stroke-miterlimit:4;stroke-dasharray:none;stroke-dashoffset:0\" id=\"ellipse1513\" cx=\"68.891159\" cy=\"69.23098\" rx=\"2.5376184\" ry=\"3.6255431\"/>\n",
       "      <path style=\"fill:none;stroke:#000000;stroke-width:0.5;stroke-linecap:butt;stroke-linejoin:miter;stroke-miterlimit:4;stroke-dasharray:none;stroke-opacity:1\" d=\"m 66.353541,69.23098 h 5.075235\" id=\"path1515\"/>\n",
       "    </g>\n",
       "    <text xml:space=\"preserve\" style=\"font-size:5.40149px;line-height:1.25;font-family:sans-serif;-inkscape-font-specification:sans-serif;stroke-width:0.264583\" x=\"63.598255\" y=\"127.6256\" id=\"text1521\"><tspan sodipodi:role=\"line\" id=\"tspan1519\" x=\"63.598255\" y=\"127.6256\" style=\"stroke-width:0.264583\">2</tspan></text>\n",
       "    <text xml:space=\"preserve\" style=\"font-size:5.40149px;line-height:1.25;font-family:sans-serif;-inkscape-font-specification:sans-serif;stroke-width:0.264583\" x=\"104.03602\" y=\"100.36676\" id=\"text1525\"><tspan sodipodi:role=\"line\" id=\"tspan1523\" x=\"104.03602\" y=\"100.36676\" style=\"stroke-width:0.264583\">3</tspan></text>\n",
       "    <text xml:space=\"preserve\" style=\"font-size:5.40149px;line-height:1.25;font-family:sans-serif;-inkscape-font-specification:sans-serif;stroke-width:0.264583\" x=\"202.49963\" y=\"120.12696\" id=\"text1529\"><tspan sodipodi:role=\"line\" id=\"tspan1527\" x=\"202.49963\" y=\"120.12696\" style=\"stroke-width:0.264583\">4</tspan></text>\n",
       "    <text xml:space=\"preserve\" style=\"font-size:7.7611px;line-height:1.25;font-family:sans-serif;-inkscape-font-specification:sans-serif;stroke-width:0.264583\" x=\"42.530609\" y=\"115.60754\" id=\"text1533\"><tspan sodipodi:role=\"line\" id=\"tspan1531\" x=\"42.530609\" y=\"115.60754\" style=\"stroke-width:0.264583\">2</tspan></text>\n",
       "    <text xml:space=\"preserve\" style=\"font-size:7.7611px;line-height:1.25;font-family:sans-serif;-inkscape-font-specification:sans-serif;stroke-width:0.264583\" x=\"99.787262\" y=\"86.235306\" id=\"text1537\"><tspan sodipodi:role=\"line\" id=\"tspan1535\" x=\"99.787262\" y=\"86.235306\" style=\"stroke-width:0.264583\">3</tspan></text>\n",
       "    <text xml:space=\"preserve\" style=\"font-size:7.7611px;line-height:1.25;font-family:sans-serif;-inkscape-font-specification:sans-serif;stroke-width:0.264583\" x=\"167.8152\" y=\"101.70832\" id=\"text1541\"><tspan sodipodi:role=\"line\" id=\"tspan1539\" x=\"167.8152\" y=\"101.70832\" style=\"stroke-width:0.264583\">4</tspan></text>\n",
       "    <text xml:space=\"preserve\" style=\"font-size:7.7611px;line-height:1.25;font-family:sans-serif;-inkscape-font-specification:sans-serif;stroke-width:0.264583\" x=\"224.21123\" y=\"144.24466\" id=\"text1545\"><tspan sodipodi:role=\"line\" id=\"tspan1543\" x=\"224.21123\" y=\"144.24466\" style=\"stroke-width:0.264583\">X</tspan></text>\n",
       "    <text xml:space=\"preserve\" style=\"font-size:7.7611px;line-height:1.25;font-family:sans-serif;-inkscape-font-specification:sans-serif;stroke-width:0.264583\" x=\"33.694336\" y=\"55.697205\" id=\"text1549\"><tspan sodipodi:role=\"line\" id=\"tspan1547\" x=\"33.694336\" y=\"55.697205\" style=\"stroke-width:0.264583\">Y</tspan></text>\n",
       "  </g>\n",
       "</svg>"
      ],
      "text/plain": [
       "<IPython.core.display.SVG object>"
      ]
     },
     "execution_count": 25,
     "metadata": {},
     "output_type": "execute_result"
    }
   ],
   "source": [
    "SVG('figs4-4.svg')"
   ]
  },
  {
   "cell_type": "code",
   "execution_count": 26,
   "metadata": {
    "slideshow": {
     "slide_type": "fragment"
    }
   },
   "outputs": [
    {
     "data": {
      "image/svg+xml": [
       "<svg xmlns:dc=\"http://purl.org/dc/elements/1.1/\" xmlns:cc=\"http://creativecommons.org/ns#\" xmlns:rdf=\"http://www.w3.org/1999/02/22-rdf-syntax-ns#\" xmlns:svg=\"http://www.w3.org/2000/svg\" xmlns=\"http://www.w3.org/2000/svg\" xmlns:sodipodi=\"http://sodipodi.sourceforge.net/DTD/sodipodi-0.dtd\" xmlns:inkscape=\"http://www.inkscape.org/namespaces/inkscape\" width=\"214.58945mm\" height=\"126.86462mm\" viewBox=\"0 0 214.58944 126.86462\" version=\"1.1\" id=\"svg8\" inkscape:version=\"1.0.1 (3bc2e813f5, 2020-09-07)\" sodipodi:docname=\"figs4-5.svg\">\n",
       "  <defs id=\"defs2\">\n",
       "    <marker style=\"overflow:visible;\" id=\"marker8438\" refX=\"0.0\" refY=\"0.0\" orient=\"auto\" inkscape:stockid=\"Arrow1Lend\" inkscape:isstock=\"true\">\n",
       "      <path transform=\"scale(0.8) rotate(180) translate(12.5,0)\" style=\"fill-rule:evenodd;stroke:#000000;stroke-width:1pt;stroke-opacity:1;fill:#000000;fill-opacity:1\" d=\"M 0.0,0.0 L 5.0,-5.0 L -12.5,0.0 L 5.0,5.0 L 0.0,0.0 z \" id=\"path939\"/>\n",
       "    </marker>\n",
       "    <marker style=\"overflow:visible\" id=\"marker1421\" refX=\"0\" refY=\"0\" orient=\"auto\" inkscape:stockid=\"Arrow1Lend\" inkscape:isstock=\"true\">\n",
       "      <path transform=\"matrix(-0.8,0,0,-0.8,-10,0)\" style=\"fill:#000000;fill-opacity:1;fill-rule:evenodd;stroke:#000000;stroke-width:1pt;stroke-opacity:1\" d=\"M 0,0 5,-5 -12.5,0 5,5 Z\" id=\"path1419\"/>\n",
       "    </marker>\n",
       "    <marker style=\"overflow:visible\" id=\"marker1375\" refX=\"0\" refY=\"0\" orient=\"auto\" inkscape:stockid=\"Arrow1Lend\" inkscape:isstock=\"true\" inkscape:collect=\"always\">\n",
       "      <path transform=\"matrix(-0.8,0,0,-0.8,-10,0)\" style=\"fill:#000000;fill-opacity:1;fill-rule:evenodd;stroke:#000000;stroke-width:1pt;stroke-opacity:1\" d=\"M 0,0 5,-5 -12.5,0 5,5 Z\" id=\"path1373\"/>\n",
       "    </marker>\n",
       "    <marker style=\"overflow:visible\" id=\"marker1315\" refX=\"0\" refY=\"0\" orient=\"auto\" inkscape:stockid=\"Arrow1Lend\" inkscape:isstock=\"true\" inkscape:collect=\"always\">\n",
       "      <path transform=\"matrix(-0.8,0,0,-0.8,-10,0)\" style=\"fill:#000000;fill-opacity:1;fill-rule:evenodd;stroke:#000000;stroke-width:1pt;stroke-opacity:1\" d=\"M 0,0 5,-5 -12.5,0 5,5 Z\" id=\"path1313\"/>\n",
       "    </marker>\n",
       "    <marker style=\"overflow:visible\" id=\"Arrow1Lstart\" refX=\"0\" refY=\"0\" orient=\"auto\" inkscape:stockid=\"Arrow1Lstart\" inkscape:isstock=\"true\">\n",
       "      <path transform=\"matrix(0.8,0,0,0.8,10,0)\" style=\"fill:#000000;fill-opacity:1;fill-rule:evenodd;stroke:#000000;stroke-width:1pt;stroke-opacity:1\" d=\"M 0,0 5,-5 -12.5,0 5,5 Z\" id=\"path987\"/>\n",
       "    </marker>\n",
       "  </defs>\n",
       "  <sodipodi:namedview id=\"base\" pagecolor=\"#ffffff\" bordercolor=\"#666666\" borderopacity=\"1.0\" inkscape:pageopacity=\"0.0\" inkscape:pageshadow=\"2\" inkscape:zoom=\"1.4\" inkscape:cx=\"437.24674\" inkscape:cy=\"215.61833\" inkscape:document-units=\"mm\" inkscape:current-layer=\"layer6\" inkscape:document-rotation=\"0\" showgrid=\"false\" inkscape:snap-object-midpoints=\"true\" inkscape:snap-smooth-nodes=\"false\" inkscape:window-width=\"1920\" inkscape:window-height=\"1017\" inkscape:window-x=\"-8\" inkscape:window-y=\"-8\" inkscape:window-maximized=\"1\" showborder=\"true\" inkscape:snap-nodes=\"true\" inkscape:object-nodes=\"false\"/>\n",
       "  <metadata id=\"metadata5\">\n",
       "    <rdf:RDF>\n",
       "      <cc:Work rdf:about=\"\">\n",
       "        <dc:format>image/svg+xml</dc:format>\n",
       "        <dc:type rdf:resource=\"http://purl.org/dc/dcmitype/StillImage\"/>\n",
       "        <dc:title/>\n",
       "      </cc:Work>\n",
       "    </rdf:RDF>\n",
       "  </metadata>\n",
       "  <g inkscape:groupmode=\"layer\" id=\"layer6\" inkscape:label=\"Layer 2\">\n",
       "    <rect style=\"fill:#ffffff;stroke:#ffffff;stroke-width:0.865\" id=\"rect4450\" width=\"215.44643\" height=\"127.94494\" x=\"0\" y=\"0\"/>\n",
       "  </g>\n",
       "  <g inkscape:label=\"Layer 1\" inkscape:groupmode=\"layer\" id=\"layer1\" transform=\"translate(-14.696059,-50.039333)\">\n",
       "    <path id=\"path839\" style=\"fill:#ffffff;stroke:#000000;stroke-width:0.699999;stroke-linejoin:bevel;stroke-miterlimit:4;stroke-dasharray:none\" d=\"m 40.314083,127.77587 a 7.5049962,7.4894698 0 0 0 -7.490705,7.48947 7.5049962,7.4894698 0 0 0 0,0.0143 v 13.0923 h 15.009993 v -13.10657 a 7.5049962,7.4894698 0 0 0 -7.504997,-7.48947 7.5049962,7.4894698 0 0 0 -0.0143,0 z\"/>\n",
       "    <path style=\"fill:none;stroke:#000000;stroke-width:0.7;stroke-linecap:butt;stroke-linejoin:miter;stroke-miterlimit:4;stroke-dasharray:none;stroke-opacity:1\" d=\"M 14.999011,148.37191 H 69.410235\" id=\"path850\"/>\n",
       "    <path style=\"fill:none;stroke:#000000;stroke-width:0.7;stroke-linecap:butt;stroke-linejoin:miter;stroke-miterlimit:4;stroke-dasharray:none;stroke-opacity:1\" d=\"m 14.999011,148.37191 7.041144,12.17039\" id=\"path852\"/>\n",
       "    <path style=\"fill:none;stroke:#000000;stroke-width:0.7;stroke-linecap:butt;stroke-linejoin:miter;stroke-miterlimit:4;stroke-dasharray:none;stroke-opacity:1\" d=\"m 27.382263,148.37191 7.041144,12.17039\" id=\"path854\"/>\n",
       "    <path style=\"fill:none;stroke:#000000;stroke-width:0.7;stroke-linecap:butt;stroke-linejoin:miter;stroke-miterlimit:4;stroke-dasharray:none;stroke-opacity:1\" d=\"m 39.390265,148.37191 7.041144,12.17039\" id=\"path856\"/>\n",
       "    <path style=\"fill:none;stroke:#000000;stroke-width:0.7;stroke-linecap:butt;stroke-linejoin:miter;stroke-miterlimit:4;stroke-dasharray:none;stroke-opacity:1\" d=\"m 51.773517,148.37191 7.041144,12.17039\" id=\"path858\"/>\n",
       "    <path style=\"fill:none;stroke:#000000;stroke-width:0.7;stroke-linecap:butt;stroke-linejoin:miter;stroke-miterlimit:4;stroke-dasharray:none;stroke-opacity:1\" d=\"m 64.156769,148.37191 7.04115,12.17039\" id=\"path860\"/>\n",
       "    <ellipse style=\"fill:#ffffff;stroke:#000000;stroke-width:0.7;stroke-linejoin:bevel\" id=\"path1592\" cx=\"40.369549\" cy=\"135.1759\" rx=\"2.6233726\" ry=\"2.6179454\"/>\n",
       "    <g inkscape:label=\"Layer 1\" id=\"g967\" transform=\"matrix(0.70913352,0,0,0.70766648,139.80942,37.902228)\" style=\"stroke-width:1.41163\">\n",
       "      <path id=\"path951\" style=\"fill:#ffffff;stroke:#000000;stroke-width:3.73471;stroke-linejoin:bevel;stroke-miterlimit:4;stroke-dasharray:none\" d=\"M 219.92383,480 A 39.999999,39.999999 0 0 0 180,520 a 39.999999,39.999999 0 0 0 0,0.0762 V 590 h 80 v -70 a 39.999999,39.999999 0 0 0 -40,-40 39.999999,39.999999 0 0 0 -0.0762,0 z\" transform=\"scale(0.26458333)\"/>\n",
       "      <path style=\"fill:none;stroke:#000000;stroke-width:0.988143;stroke-linecap:butt;stroke-linejoin:miter;stroke-miterlimit:4;stroke-dasharray:none;stroke-opacity:1\" d=\"M 22.489583,156.10416 H 99.218749\" id=\"path953\"/>\n",
       "      <path style=\"fill:none;stroke:#000000;stroke-width:0.988143;stroke-linecap:butt;stroke-linejoin:miter;stroke-miterlimit:4;stroke-dasharray:none;stroke-opacity:1\" d=\"m 22.489583,156.10416 9.929222,17.19792\" id=\"path955\"/>\n",
       "      <path style=\"fill:none;stroke:#000000;stroke-width:0.988143;stroke-linecap:butt;stroke-linejoin:miter;stroke-miterlimit:4;stroke-dasharray:none;stroke-opacity:1\" d=\"m 39.952094,156.10416 9.929222,17.19792\" id=\"path957\"/>\n",
       "      <path style=\"fill:none;stroke:#000000;stroke-width:0.988143;stroke-linecap:butt;stroke-linejoin:miter;stroke-miterlimit:4;stroke-dasharray:none;stroke-opacity:1\" d=\"m 56.885438,156.10416 9.929222,17.19792\" id=\"path959\"/>\n",
       "      <path style=\"fill:none;stroke:#000000;stroke-width:0.988143;stroke-linecap:butt;stroke-linejoin:miter;stroke-miterlimit:4;stroke-dasharray:none;stroke-opacity:1\" d=\"m 74.347949,156.10416 9.929222,17.19792\" id=\"path961\"/>\n",
       "      <path style=\"fill:none;stroke:#000000;stroke-width:0.988143;stroke-linecap:butt;stroke-linejoin:miter;stroke-miterlimit:4;stroke-dasharray:none;stroke-opacity:1\" d=\"m 91.81046,156.10416 9.92923,17.19792\" id=\"path963\"/>\n",
       "      <circle style=\"fill:#ffffff;stroke:#000000;stroke-width:0.988143;stroke-linejoin:bevel\" id=\"circle965\" cx=\"58.266396\" cy=\"137.45695\" r=\"3.6994057\"/>\n",
       "    </g>\n",
       "    <path style=\"fill:none;stroke:#000000;stroke-width:0.665;stroke-linecap:butt;stroke-linejoin:miter;stroke-miterlimit:4;stroke-dasharray:none;stroke-opacity:1\" d=\"M 40.63683,132.91881 54.473189,101.29943 158.25561,77.552742 180.26587,132.7493\" id=\"path969\"/>\n",
       "    <ellipse style=\"fill:#ffffff;stroke:#000000;stroke-width:0.7;stroke-linejoin:bevel\" id=\"ellipse981\" cx=\"158.56105\" cy=\"77.746864\" rx=\"2.6233726\" ry=\"2.6179454\"/>\n",
       "    <path style=\"fill:none;stroke:#000000;stroke-width:0.264583px;stroke-linecap:butt;stroke-linejoin:miter;stroke-opacity:1;marker-end:url(#marker1315)\" d=\"M 40.369548,135.1759 V 51.078577\" id=\"path983\"/>\n",
       "    <path style=\"fill:none;stroke:#000000;stroke-width:0.265;stroke-linecap:butt;stroke-linejoin:miter;stroke-opacity:1;marker-end:url(#marker8438);stroke-miterlimit:4;stroke-dasharray:none\" d=\"M 40.369548,135.1759 H 228.62076\" id=\"path985\"/>\n",
       "    <text xml:space=\"preserve\" style=\"font-size:7.7611px;line-height:1.25;font-family:sans-serif;-inkscape-font-specification:sans-serif;stroke-width:0.264583\" x=\"35.393242\" y=\"144.05951\" id=\"text1349\"><tspan sodipodi:role=\"line\" id=\"tspan1347\" x=\"35.393242\" y=\"144.05951\" style=\"stroke-width:0.264583\">O<tspan style=\"font-size:65%;baseline-shift:sub\" id=\"tspan1357\">2</tspan></tspan></text>\n",
       "    <text xml:space=\"preserve\" style=\"font-size:7.7611px;line-height:1.25;font-family:sans-serif;-inkscape-font-specification:sans-serif;stroke-width:0.264583\" x=\"176.83255\" y=\"144.19574\" id=\"text1353\"><tspan sodipodi:role=\"line\" id=\"tspan1351\" x=\"176.83255\" y=\"144.19574\" style=\"stroke-width:0.264583\">O<tspan style=\"font-size:65%;baseline-shift:sub\" id=\"tspan1355\">4</tspan></tspan></text>\n",
       "    <path style=\"fill:none;stroke:#000000;stroke-width:0.264583;stroke-linecap:butt;stroke-linejoin:miter;stroke-miterlimit:4;stroke-dasharray:2.11666, 2.11666;stroke-dashoffset:0;stroke-opacity:1\" d=\"M 54.782267,101.64828 H 122.30559\" id=\"path1361\"/>\n",
       "    <path style=\"fill:none;stroke:#000000;stroke-width:0.264583px;stroke-linecap:butt;stroke-linejoin:miter;stroke-opacity:1;marker-end:url(#marker1375)\" d=\"m 92.906508,101.20302 c 1.255311,-2.244931 1.505398,-4.887335 -0.423056,-8.391146\" id=\"path1363\" sodipodi:nodetypes=\"cc\"/>\n",
       "    <path style=\"fill:none;stroke:#000000;stroke-width:0.264583px;stroke-linecap:butt;stroke-linejoin:miter;stroke-opacity:1;marker-end:url(#marker1421)\" d=\"m 204.02271,135.34302 c -4.19232,-18.1698 -15.68896,-26.44711 -33.03527,-26.802\" id=\"path1365\" sodipodi:nodetypes=\"cc\"/>\n",
       "    <text xml:space=\"preserve\" style=\"font-size:7.7611px;line-height:1.25;font-family:sans-serif;-inkscape-font-specification:sans-serif;stroke-width:0.264583\" x=\"49.927883\" y=\"95.975571\" id=\"text1491\"><tspan sodipodi:role=\"line\" id=\"tspan1489\" x=\"49.927883\" y=\"95.975571\" style=\"stroke-width:0.264583\">A</tspan></text>\n",
       "    <text xml:space=\"preserve\" style=\"font-size:7.7611px;line-height:1.25;font-family:sans-serif;-inkscape-font-specification:sans-serif;stroke-width:0.264583\" x=\"161.36201\" y=\"74.261124\" id=\"text1495\"><tspan sodipodi:role=\"line\" id=\"tspan1493\" x=\"161.36201\" y=\"74.261124\" style=\"stroke-width:0.264583\">B</tspan></text>\n",
       "    <path style=\"fill:none;stroke:#000000;stroke-width:0.264583px;stroke-linecap:butt;stroke-linejoin:miter;stroke-opacity:1\" d=\"m 56.204278,135.14129 c 2.077105,-8.53864 -2.44765,-13.86104 -8.415155,-18.48058\" id=\"path1497\" sodipodi:nodetypes=\"cc\"/>\n",
       "    <g id=\"g1505\" style=\"stroke-width:0.5;stroke-miterlimit:4;stroke-dasharray:none\" transform=\"translate(-8.206898,52.364352)\">\n",
       "      <ellipse style=\"fill:#ffffff;stroke:#000000;stroke-width:0.5;stroke-linejoin:bevel;stroke-miterlimit:4;stroke-dasharray:none;stroke-dashoffset:0\" id=\"path1499\" cx=\"68.891159\" cy=\"69.23098\" rx=\"2.5376184\" ry=\"3.6255431\"/>\n",
       "      <path style=\"fill:none;stroke:#000000;stroke-width:0.5;stroke-linecap:butt;stroke-linejoin:miter;stroke-miterlimit:4;stroke-dasharray:none;stroke-opacity:1\" d=\"m 66.353541,69.23098 h 5.075235\" id=\"path1501\"/>\n",
       "    </g>\n",
       "    <g id=\"g1511\" style=\"stroke-width:0.5;stroke-miterlimit:4;stroke-dasharray:none\" transform=\"translate(130.65558,45.023542)\">\n",
       "      <ellipse style=\"fill:#ffffff;stroke:#000000;stroke-width:0.5;stroke-linejoin:bevel;stroke-miterlimit:4;stroke-dasharray:none;stroke-dashoffset:0\" id=\"ellipse1507\" cx=\"68.891159\" cy=\"69.23098\" rx=\"2.5376184\" ry=\"3.6255431\"/>\n",
       "      <path style=\"fill:none;stroke:#000000;stroke-width:0.5;stroke-linecap:butt;stroke-linejoin:miter;stroke-miterlimit:4;stroke-dasharray:none;stroke-opacity:1\" d=\"m 66.353541,69.23098 h 5.075235\" id=\"path1509\"/>\n",
       "    </g>\n",
       "    <g id=\"g1517\" style=\"stroke-width:0.5;stroke-miterlimit:4;stroke-dasharray:none\" transform=\"translate(31.43961,26.845584)\">\n",
       "      <ellipse style=\"fill:#ffffff;stroke:#000000;stroke-width:0.5;stroke-linejoin:bevel;stroke-miterlimit:4;stroke-dasharray:none;stroke-dashoffset:0\" id=\"ellipse1513\" cx=\"68.891159\" cy=\"69.23098\" rx=\"2.5376184\" ry=\"3.6255431\"/>\n",
       "      <path style=\"fill:none;stroke:#000000;stroke-width:0.5;stroke-linecap:butt;stroke-linejoin:miter;stroke-miterlimit:4;stroke-dasharray:none;stroke-opacity:1\" d=\"m 66.353541,69.23098 h 5.075235\" id=\"path1515\"/>\n",
       "    </g>\n",
       "    <text xml:space=\"preserve\" style=\"font-size:5.40149px;line-height:1.25;font-family:sans-serif;-inkscape-font-specification:sans-serif;stroke-width:0.264583\" x=\"63.598255\" y=\"127.6256\" id=\"text1521\"><tspan sodipodi:role=\"line\" id=\"tspan1519\" x=\"63.598255\" y=\"127.6256\" style=\"stroke-width:0.264583\">2</tspan></text>\n",
       "    <text xml:space=\"preserve\" style=\"font-size:5.40149px;line-height:1.25;font-family:sans-serif;-inkscape-font-specification:sans-serif;stroke-width:0.264583\" x=\"104.03602\" y=\"100.36676\" id=\"text1525\"><tspan sodipodi:role=\"line\" id=\"tspan1523\" x=\"104.03602\" y=\"100.36676\" style=\"stroke-width:0.264583\">3</tspan></text>\n",
       "    <text xml:space=\"preserve\" style=\"font-size:5.40149px;line-height:1.25;font-family:sans-serif;-inkscape-font-specification:sans-serif;stroke-width:0.264583\" x=\"202.49963\" y=\"120.12696\" id=\"text1529\"><tspan sodipodi:role=\"line\" id=\"tspan1527\" x=\"202.49963\" y=\"120.12696\" style=\"stroke-width:0.264583\">4</tspan></text>\n",
       "    <text xml:space=\"preserve\" style=\"font-size:7.7611px;line-height:1.25;font-family:sans-serif;-inkscape-font-specification:sans-serif;stroke-width:0.264583\" x=\"42.530609\" y=\"115.60754\" id=\"text1533\"><tspan sodipodi:role=\"line\" id=\"tspan1531\" x=\"42.530609\" y=\"115.60754\" style=\"stroke-width:0.264583\">2</tspan></text>\n",
       "    <text xml:space=\"preserve\" style=\"font-size:7.7611px;line-height:1.25;font-family:sans-serif;-inkscape-font-specification:sans-serif;stroke-width:0.264583\" x=\"99.787262\" y=\"86.235306\" id=\"text1537\"><tspan sodipodi:role=\"line\" id=\"tspan1535\" x=\"99.787262\" y=\"86.235306\" style=\"stroke-width:0.264583\">3</tspan></text>\n",
       "    <path style=\"fill:none;stroke:#000000;stroke-width:0.665;stroke-linecap:butt;stroke-linejoin:miter;stroke-miterlimit:4;stroke-dasharray:2.66, 5.32;stroke-dashoffset:0;stroke-opacity:1\" d=\"m 54.782267,101.64828 78.091283,72.28783 48.25452,-38.7602\" id=\"path1709\"/>\n",
       "    <ellipse style=\"fill:#ffffff;stroke:#000000;stroke-width:0.7;stroke-linejoin:bevel\" id=\"ellipse979\" cx=\"54.782269\" cy=\"101.64828\" rx=\"2.6233726\" ry=\"2.6179454\"/>\n",
       "    <text xml:space=\"preserve\" style=\"font-size:7.7611px;line-height:1.25;font-family:sans-serif;-inkscape-font-specification:sans-serif;stroke-width:0.264583\" x=\"167.8152\" y=\"101.70832\" id=\"text1541\"><tspan sodipodi:role=\"line\" id=\"tspan1539\" x=\"167.8152\" y=\"101.70832\" style=\"stroke-width:0.264583\">4</tspan></text>\n",
       "    <text xml:space=\"preserve\" style=\"font-size:7.7611px;line-height:1.25;font-family:sans-serif;-inkscape-font-specification:sans-serif;stroke-width:0.264583\" x=\"224.21123\" y=\"144.24466\" id=\"text1545\"><tspan sodipodi:role=\"line\" id=\"tspan1543\" x=\"224.21123\" y=\"144.24466\" style=\"stroke-width:0.264583\">X</tspan></text>\n",
       "    <text xml:space=\"preserve\" style=\"font-size:7.7611px;line-height:1.25;font-family:sans-serif;-inkscape-font-specification:sans-serif;stroke-width:0.264583\" x=\"33.694336\" y=\"55.697205\" id=\"text1549\"><tspan sodipodi:role=\"line\" id=\"tspan1547\" x=\"33.694336\" y=\"55.697205\" style=\"stroke-width:0.264583\">Y</tspan></text>\n",
       "    <circle style=\"fill:none;stroke:#aa87de;stroke-width:0.499999;stroke-linejoin:bevel;stroke-miterlimit:4;stroke-dasharray:4, 0.999997, 0.499999, 0.999997;stroke-dashoffset:0\" id=\"path1686\" cx=\"54.782204\" cy=\"101.64822\" r=\"106.25362\"/>\n",
       "    <ellipse style=\"fill:none;stroke:#aa87de;stroke-width:0.499998;stroke-linejoin:bevel;stroke-miterlimit:4;stroke-dasharray:4, 0.999998, 0.499998, 0.999998;stroke-dashoffset:0\" id=\"path1705\" cx=\"181.12811\" cy=\"135.17586\" rx=\"61.481194\" ry=\"61.481197\"/>\n",
       "    <ellipse style=\"fill:#ffffff;stroke:#000000;stroke-width:0.7;stroke-linejoin:bevel;stroke-miterlimit:4;stroke-dasharray:2.1, 0.7;stroke-dashoffset:0\" id=\"ellipse1707\" cx=\"132.87355\" cy=\"173.93611\" rx=\"2.6233726\" ry=\"2.6179454\"/>\n",
       "    <ellipse style=\"fill:#ffffff;stroke:#000000;stroke-width:0.7;stroke-linejoin:bevel\" id=\"ellipse1711\" cx=\"181.12807\" cy=\"135.1759\" rx=\"2.6233726\" ry=\"2.6179454\"/>\n",
       "    <text xml:space=\"preserve\" style=\"font-size:7.7611px;line-height:1.25;font-family:sans-serif;-inkscape-font-specification:sans-serif;stroke-width:0.264583\" x=\"130.00975\" y=\"168.60811\" id=\"text2515\"><tspan sodipodi:role=\"line\" id=\"tspan2513\" x=\"130.00975\" y=\"168.60811\" style=\"stroke-width:0.264583\">B'</tspan></text>\n",
       "  </g>\n",
       "</svg>"
      ],
      "text/plain": [
       "<IPython.core.display.SVG object>"
      ]
     },
     "execution_count": 26,
     "metadata": {},
     "output_type": "execute_result"
    }
   ],
   "source": [
    "SVG('figs4-5.svg')"
   ]
  },
  {
   "cell_type": "markdown",
   "metadata": {
    "slideshow": {
     "slide_type": "slide"
    }
   },
   "source": [
    "## 4.5 Análise Algébrica da Posição de Mecanismos"
   ]
  },
  {
   "cell_type": "markdown",
   "metadata": {
    "slideshow": {
     "slide_type": "subslide"
    }
   },
   "source": [
    "A mesma ideia pode ser utilizada para se fazer a análise algébrica do mecanismo de 4 barras."
   ]
  },
  {
   "cell_type": "code",
   "execution_count": 27,
   "metadata": {
    "slideshow": {
     "slide_type": "fragment"
    }
   },
   "outputs": [],
   "source": [
    "theta2,a,b,c,d = symbols('theta2 a b c d')"
   ]
  },
  {
   "cell_type": "code",
   "execution_count": 28,
   "metadata": {
    "slideshow": {
     "slide_type": "fragment"
    }
   },
   "outputs": [
    {
     "data": {
      "text/latex": [
       "$\\displaystyle a \\cos{\\left(\\theta_{2} \\right)}$"
      ],
      "text/plain": [
       "a*cos(theta2)"
      ]
     },
     "execution_count": 28,
     "metadata": {},
     "output_type": "execute_result"
    }
   ],
   "source": [
    "Ax = a*cos(theta2)\n",
    "Ax"
   ]
  },
  {
   "cell_type": "code",
   "execution_count": 29,
   "metadata": {
    "slideshow": {
     "slide_type": "fragment"
    }
   },
   "outputs": [
    {
     "data": {
      "text/latex": [
       "$\\displaystyle a \\sin{\\left(\\theta_{2} \\right)}$"
      ],
      "text/plain": [
       "a*sin(theta2)"
      ]
     },
     "execution_count": 29,
     "metadata": {},
     "output_type": "execute_result"
    }
   ],
   "source": [
    "Ay = a*sin(theta2)\n",
    "Ay"
   ]
  },
  {
   "cell_type": "markdown",
   "metadata": {
    "slideshow": {
     "slide_type": "fragment"
    }
   },
   "source": [
    "Escrevendo as duas equações dos círculos com centros em $A$ e $O_4$ e com os respectivos raios $b$ e $c$:"
   ]
  },
  {
   "cell_type": "code",
   "execution_count": 30,
   "metadata": {
    "slideshow": {
     "slide_type": "fragment"
    }
   },
   "outputs": [],
   "source": [
    "Bx,By = symbols('B_x B_y')"
   ]
  },
  {
   "cell_type": "code",
   "execution_count": 31,
   "metadata": {
    "slideshow": {
     "slide_type": "fragment"
    }
   },
   "outputs": [
    {
     "data": {
      "text/latex": [
       "$\\displaystyle b^{2} = \\left(B_{x} - a \\cos{\\left(\\theta_{2} \\right)}\\right)^{2} + \\left(B_{y} - a \\sin{\\left(\\theta_{2} \\right)}\\right)^{2}$"
      ],
      "text/plain": [
       "Eq(b**2, (B_x - a*cos(theta2))**2 + (B_y - a*sin(theta2))**2)"
      ]
     },
     "execution_count": 31,
     "metadata": {},
     "output_type": "execute_result"
    }
   ],
   "source": [
    "b2 = (Bx - Ax)**2 + (By - Ay)**2\n",
    "Eq1 = Eq(b**2,b2)\n",
    "Eq1"
   ]
  },
  {
   "cell_type": "code",
   "execution_count": 32,
   "metadata": {
    "slideshow": {
     "slide_type": "fragment"
    }
   },
   "outputs": [
    {
     "data": {
      "text/latex": [
       "$\\displaystyle - b^{2} + \\left(B_{x} - a \\cos{\\left(\\theta_{2} \\right)}\\right)^{2} + \\left(B_{y} - a \\sin{\\left(\\theta_{2} \\right)}\\right)^{2}$"
      ],
      "text/plain": [
       "-b**2 + (B_x - a*cos(theta2))**2 + (B_y - a*sin(theta2))**2"
      ]
     },
     "execution_count": 32,
     "metadata": {},
     "output_type": "execute_result"
    }
   ],
   "source": [
    "Eq1 = b2 - b**2\n",
    "Eq1"
   ]
  },
  {
   "cell_type": "code",
   "execution_count": 33,
   "metadata": {
    "slideshow": {
     "slide_type": "fragment"
    }
   },
   "outputs": [
    {
     "data": {
      "text/latex": [
       "$\\displaystyle c^{2} = B_{y}^{2} + \\left(B_{x} - d\\right)^{2}$"
      ],
      "text/plain": [
       "Eq(c**2, B_y**2 + (B_x - d)**2)"
      ]
     },
     "execution_count": 33,
     "metadata": {},
     "output_type": "execute_result"
    }
   ],
   "source": [
    "c2 = (Bx - d)**2 + By**2\n",
    "Eq2 = Eq(c**2,c2)\n",
    "Eq2"
   ]
  },
  {
   "cell_type": "code",
   "execution_count": 34,
   "metadata": {
    "slideshow": {
     "slide_type": "fragment"
    }
   },
   "outputs": [
    {
     "data": {
      "text/latex": [
       "$\\displaystyle B_{y}^{2} - c^{2} + \\left(B_{x} - d\\right)^{2}$"
      ],
      "text/plain": [
       "B_y**2 - c**2 + (B_x - d)**2"
      ]
     },
     "execution_count": 34,
     "metadata": {},
     "output_type": "execute_result"
    }
   ],
   "source": [
    "Eq2 = c2 - c**2\n",
    "Eq2"
   ]
  },
  {
   "cell_type": "code",
   "execution_count": 35,
   "metadata": {
    "slideshow": {
     "slide_type": "fragment"
    }
   },
   "outputs": [
    {
     "data": {
      "text/latex": [
       "$\\displaystyle - B_{y}^{2} - b^{2} + c^{2} - \\left(B_{x} - d\\right)^{2} + \\left(B_{x} - a \\cos{\\left(\\theta_{2} \\right)}\\right)^{2} + \\left(B_{y} - a \\sin{\\left(\\theta_{2} \\right)}\\right)^{2}$"
      ],
      "text/plain": [
       "-B_y**2 - b**2 + c**2 - (B_x - d)**2 + (B_x - a*cos(theta2))**2 + (B_y - a*sin(theta2))**2"
      ]
     },
     "execution_count": 35,
     "metadata": {},
     "output_type": "execute_result"
    }
   ],
   "source": [
    "Eq3 = Eq1 - Eq2\n",
    "Eq3"
   ]
  },
  {
   "cell_type": "code",
   "execution_count": 36,
   "metadata": {
    "slideshow": {
     "slide_type": "fragment"
    }
   },
   "outputs": [
    {
     "data": {
      "text/latex": [
       "$\\displaystyle - 2 B_{x} a \\cos{\\left(\\theta_{2} \\right)} + 2 B_{x} d - 2 B_{y} a \\sin{\\left(\\theta_{2} \\right)} + a^{2} \\sin^{2}{\\left(\\theta_{2} \\right)} + a^{2} \\cos^{2}{\\left(\\theta_{2} \\right)} - b^{2} + c^{2} - d^{2}$"
      ],
      "text/plain": [
       "-2*B_x*a*cos(theta2) + 2*B_x*d - 2*B_y*a*sin(theta2) + a**2*sin(theta2)**2 + a**2*cos(theta2)**2 - b**2 + c**2 - d**2"
      ]
     },
     "execution_count": 36,
     "metadata": {},
     "output_type": "execute_result"
    }
   ],
   "source": [
    "expand(Eq3)"
   ]
  },
  {
   "cell_type": "code",
   "execution_count": 37,
   "metadata": {
    "slideshow": {
     "slide_type": "fragment"
    }
   },
   "outputs": [
    {
     "data": {
      "text/latex": [
       "$\\displaystyle \\frac{- 2 B_{y} a \\sin{\\left(\\theta_{2} \\right)} + a^{2} - b^{2} + c^{2} - d^{2}}{2 \\left(a \\cos{\\left(\\theta_{2} \\right)} - d\\right)}$"
      ],
      "text/plain": [
       "(-2*B_y*a*sin(theta2) + a**2 - b**2 + c**2 - d**2)/(2*(a*cos(theta2) - d))"
      ]
     },
     "execution_count": 37,
     "metadata": {},
     "output_type": "execute_result"
    }
   ],
   "source": [
    "solBx = solve(Eq3,Bx)[0]\n",
    "solBx"
   ]
  },
  {
   "cell_type": "code",
   "execution_count": 38,
   "metadata": {
    "slideshow": {
     "slide_type": "fragment"
    }
   },
   "outputs": [
    {
     "data": {
      "text/latex": [
       "$\\displaystyle B_{y}^{2} - c^{2} + \\left(- d + \\frac{- 2 B_{y} a \\sin{\\left(\\theta_{2} \\right)} + a^{2} - b^{2} + c^{2} - d^{2}}{2 \\left(a \\cos{\\left(\\theta_{2} \\right)} - d\\right)}\\right)^{2}$"
      ],
      "text/plain": [
       "B_y**2 - c**2 + (-d + (-2*B_y*a*sin(theta2) + a**2 - b**2 + c**2 - d**2)/(2*(a*cos(theta2) - d)))**2"
      ]
     },
     "execution_count": 38,
     "metadata": {},
     "output_type": "execute_result"
    }
   ],
   "source": [
    "Eq4 = Eq2.subs(Bx,solBx)\n",
    "Eq4"
   ]
  },
  {
   "cell_type": "code",
   "execution_count": 39,
   "metadata": {
    "scrolled": true,
    "slideshow": {
     "slide_type": "fragment"
    }
   },
   "outputs": [
    {
     "data": {
      "text/plain": [
       "[(a*(a**2 - 2*a*d*cos(theta2) - b**2 + c**2 + d**2)*sin(theta2) + (-a*cos(theta2) + d)*sqrt(-a**4 + 4*a**3*d*cos(theta2) + 2*a**2*b**2 + 2*a**2*c**2 + 4*a**2*d**2*sin(theta2)**2 - 6*a**2*d**2 - 4*a*b**2*d*cos(theta2) - 4*a*c**2*d*cos(theta2) + 4*a*d**3*cos(theta2) - b**4 + 2*b**2*c**2 + 2*b**2*d**2 - c**4 + 2*c**2*d**2 - d**4))/(2*(a**2 - 2*a*d*cos(theta2) + d**2)),\n",
       " (a*(a**2 - 2*a*d*cos(theta2) - b**2 + c**2 + d**2)*sin(theta2) + (a*cos(theta2) - d)*sqrt(-a**4 + 4*a**3*d*cos(theta2) + 2*a**2*b**2 + 2*a**2*c**2 + 4*a**2*d**2*sin(theta2)**2 - 6*a**2*d**2 - 4*a*b**2*d*cos(theta2) - 4*a*c**2*d*cos(theta2) + 4*a*d**3*cos(theta2) - b**4 + 2*b**2*c**2 + 2*b**2*d**2 - c**4 + 2*c**2*d**2 - d**4))/(2*(a**2 - 2*a*d*cos(theta2) + d**2))]"
      ]
     },
     "execution_count": 39,
     "metadata": {},
     "output_type": "execute_result"
    }
   ],
   "source": [
    "solBy = solve(Eq4,By)\n",
    "solBy"
   ]
  },
  {
   "cell_type": "code",
   "execution_count": 40,
   "metadata": {
    "slideshow": {
     "slide_type": "fragment"
    }
   },
   "outputs": [
    {
     "data": {
      "text/plain": [
       "2"
      ]
     },
     "execution_count": 40,
     "metadata": {},
     "output_type": "execute_result"
    }
   ],
   "source": [
    "len(solBy)"
   ]
  },
  {
   "cell_type": "code",
   "execution_count": 41,
   "metadata": {
    "slideshow": {
     "slide_type": "fragment"
    }
   },
   "outputs": [
    {
     "data": {
      "text/latex": [
       "$\\displaystyle \\frac{a \\left(a^{2} - 2 a d \\cos{\\left(\\theta_{2} \\right)} - b^{2} + c^{2} + d^{2}\\right) \\sin{\\left(\\theta_{2} \\right)} + \\left(- a \\cos{\\left(\\theta_{2} \\right)} + d\\right) \\sqrt{- a^{4} + 4 a^{3} d \\cos{\\left(\\theta_{2} \\right)} + 2 a^{2} b^{2} + 2 a^{2} c^{2} + 4 a^{2} d^{2} \\sin^{2}{\\left(\\theta_{2} \\right)} - 6 a^{2} d^{2} - 4 a b^{2} d \\cos{\\left(\\theta_{2} \\right)} - 4 a c^{2} d \\cos{\\left(\\theta_{2} \\right)} + 4 a d^{3} \\cos{\\left(\\theta_{2} \\right)} - b^{4} + 2 b^{2} c^{2} + 2 b^{2} d^{2} - c^{4} + 2 c^{2} d^{2} - d^{4}}}{2 \\left(a^{2} - 2 a d \\cos{\\left(\\theta_{2} \\right)} + d^{2}\\right)}$"
      ],
      "text/plain": [
       "(a*(a**2 - 2*a*d*cos(theta2) - b**2 + c**2 + d**2)*sin(theta2) + (-a*cos(theta2) + d)*sqrt(-a**4 + 4*a**3*d*cos(theta2) + 2*a**2*b**2 + 2*a**2*c**2 + 4*a**2*d**2*sin(theta2)**2 - 6*a**2*d**2 - 4*a*b**2*d*cos(theta2) - 4*a*c**2*d*cos(theta2) + 4*a*d**3*cos(theta2) - b**4 + 2*b**2*c**2 + 2*b**2*d**2 - c**4 + 2*c**2*d**2 - d**4))/(2*(a**2 - 2*a*d*cos(theta2) + d**2))"
      ]
     },
     "execution_count": 41,
     "metadata": {},
     "output_type": "execute_result"
    }
   ],
   "source": [
    "By1 = solBy[0]\n",
    "By1"
   ]
  },
  {
   "cell_type": "code",
   "execution_count": 42,
   "metadata": {
    "scrolled": false,
    "slideshow": {
     "slide_type": "fragment"
    }
   },
   "outputs": [
    {
     "data": {
      "text/latex": [
       "$\\displaystyle \\frac{a \\left(a^{2} - 2 a d \\cos{\\left(\\theta_{2} \\right)} - b^{2} + c^{2} + d^{2}\\right) \\sin{\\left(\\theta_{2} \\right)} + \\left(a \\cos{\\left(\\theta_{2} \\right)} - d\\right) \\sqrt{- a^{4} + 4 a^{3} d \\cos{\\left(\\theta_{2} \\right)} + 2 a^{2} b^{2} + 2 a^{2} c^{2} + 4 a^{2} d^{2} \\sin^{2}{\\left(\\theta_{2} \\right)} - 6 a^{2} d^{2} - 4 a b^{2} d \\cos{\\left(\\theta_{2} \\right)} - 4 a c^{2} d \\cos{\\left(\\theta_{2} \\right)} + 4 a d^{3} \\cos{\\left(\\theta_{2} \\right)} - b^{4} + 2 b^{2} c^{2} + 2 b^{2} d^{2} - c^{4} + 2 c^{2} d^{2} - d^{4}}}{2 \\left(a^{2} - 2 a d \\cos{\\left(\\theta_{2} \\right)} + d^{2}\\right)}$"
      ],
      "text/plain": [
       "(a*(a**2 - 2*a*d*cos(theta2) - b**2 + c**2 + d**2)*sin(theta2) + (a*cos(theta2) - d)*sqrt(-a**4 + 4*a**3*d*cos(theta2) + 2*a**2*b**2 + 2*a**2*c**2 + 4*a**2*d**2*sin(theta2)**2 - 6*a**2*d**2 - 4*a*b**2*d*cos(theta2) - 4*a*c**2*d*cos(theta2) + 4*a*d**3*cos(theta2) - b**4 + 2*b**2*c**2 + 2*b**2*d**2 - c**4 + 2*c**2*d**2 - d**4))/(2*(a**2 - 2*a*d*cos(theta2) + d**2))"
      ]
     },
     "execution_count": 42,
     "metadata": {},
     "output_type": "execute_result"
    }
   ],
   "source": [
    "By2 = solBy[1]\n",
    "By2"
   ]
  },
  {
   "cell_type": "code",
   "execution_count": 43,
   "metadata": {
    "slideshow": {
     "slide_type": "fragment"
    }
   },
   "outputs": [
    {
     "data": {
      "text/latex": [
       "$\\displaystyle \\frac{a^{2} - \\frac{a \\left(a \\left(a^{2} - 2 a d \\cos{\\left(\\theta_{2} \\right)} - b^{2} + c^{2} + d^{2}\\right) \\sin{\\left(\\theta_{2} \\right)} + \\left(- a \\cos{\\left(\\theta_{2} \\right)} + d\\right) \\sqrt{- a^{4} + 4 a^{3} d \\cos{\\left(\\theta_{2} \\right)} + 2 a^{2} b^{2} + 2 a^{2} c^{2} + 4 a^{2} d^{2} \\sin^{2}{\\left(\\theta_{2} \\right)} - 6 a^{2} d^{2} - 4 a b^{2} d \\cos{\\left(\\theta_{2} \\right)} - 4 a c^{2} d \\cos{\\left(\\theta_{2} \\right)} + 4 a d^{3} \\cos{\\left(\\theta_{2} \\right)} - b^{4} + 2 b^{2} c^{2} + 2 b^{2} d^{2} - c^{4} + 2 c^{2} d^{2} - d^{4}}\\right) \\sin{\\left(\\theta_{2} \\right)}}{a^{2} - 2 a d \\cos{\\left(\\theta_{2} \\right)} + d^{2}} - b^{2} + c^{2} - d^{2}}{2 \\left(a \\cos{\\left(\\theta_{2} \\right)} - d\\right)}$"
      ],
      "text/plain": [
       "(a**2 - a*(a*(a**2 - 2*a*d*cos(theta2) - b**2 + c**2 + d**2)*sin(theta2) + (-a*cos(theta2) + d)*sqrt(-a**4 + 4*a**3*d*cos(theta2) + 2*a**2*b**2 + 2*a**2*c**2 + 4*a**2*d**2*sin(theta2)**2 - 6*a**2*d**2 - 4*a*b**2*d*cos(theta2) - 4*a*c**2*d*cos(theta2) + 4*a*d**3*cos(theta2) - b**4 + 2*b**2*c**2 + 2*b**2*d**2 - c**4 + 2*c**2*d**2 - d**4))*sin(theta2)/(a**2 - 2*a*d*cos(theta2) + d**2) - b**2 + c**2 - d**2)/(2*(a*cos(theta2) - d))"
      ]
     },
     "execution_count": 43,
     "metadata": {},
     "output_type": "execute_result"
    }
   ],
   "source": [
    "Bx1 = solBx.subs(By,By1)\n",
    "Bx1"
   ]
  },
  {
   "cell_type": "code",
   "execution_count": 44,
   "metadata": {
    "slideshow": {
     "slide_type": "fragment"
    }
   },
   "outputs": [
    {
     "data": {
      "text/latex": [
       "$\\displaystyle \\frac{a^{2} - \\frac{a \\left(a \\left(a^{2} - 2 a d \\cos{\\left(\\theta_{2} \\right)} - b^{2} + c^{2} + d^{2}\\right) \\sin{\\left(\\theta_{2} \\right)} + \\left(a \\cos{\\left(\\theta_{2} \\right)} - d\\right) \\sqrt{- a^{4} + 4 a^{3} d \\cos{\\left(\\theta_{2} \\right)} + 2 a^{2} b^{2} + 2 a^{2} c^{2} + 4 a^{2} d^{2} \\sin^{2}{\\left(\\theta_{2} \\right)} - 6 a^{2} d^{2} - 4 a b^{2} d \\cos{\\left(\\theta_{2} \\right)} - 4 a c^{2} d \\cos{\\left(\\theta_{2} \\right)} + 4 a d^{3} \\cos{\\left(\\theta_{2} \\right)} - b^{4} + 2 b^{2} c^{2} + 2 b^{2} d^{2} - c^{4} + 2 c^{2} d^{2} - d^{4}}\\right) \\sin{\\left(\\theta_{2} \\right)}}{a^{2} - 2 a d \\cos{\\left(\\theta_{2} \\right)} + d^{2}} - b^{2} + c^{2} - d^{2}}{2 \\left(a \\cos{\\left(\\theta_{2} \\right)} - d\\right)}$"
      ],
      "text/plain": [
       "(a**2 - a*(a*(a**2 - 2*a*d*cos(theta2) - b**2 + c**2 + d**2)*sin(theta2) + (a*cos(theta2) - d)*sqrt(-a**4 + 4*a**3*d*cos(theta2) + 2*a**2*b**2 + 2*a**2*c**2 + 4*a**2*d**2*sin(theta2)**2 - 6*a**2*d**2 - 4*a*b**2*d*cos(theta2) - 4*a*c**2*d*cos(theta2) + 4*a*d**3*cos(theta2) - b**4 + 2*b**2*c**2 + 2*b**2*d**2 - c**4 + 2*c**2*d**2 - d**4))*sin(theta2)/(a**2 - 2*a*d*cos(theta2) + d**2) - b**2 + c**2 - d**2)/(2*(a*cos(theta2) - d))"
      ]
     },
     "execution_count": 44,
     "metadata": {},
     "output_type": "execute_result"
    }
   ],
   "source": [
    "Bx2 = solBx.subs(By,By2)\n",
    "Bx2"
   ]
  },
  {
   "cell_type": "code",
   "execution_count": 45,
   "metadata": {
    "slideshow": {
     "slide_type": "fragment"
    }
   },
   "outputs": [],
   "source": [
    "dic1 = {a:10,b:15,c:15,d:10,theta2:pi/6}"
   ]
  },
  {
   "cell_type": "code",
   "execution_count": 46,
   "metadata": {
    "slideshow": {
     "slide_type": "fragment"
    }
   },
   "outputs": [
    {
     "data": {
      "text/latex": [
       "$\\displaystyle \\frac{\\pi}{6}$"
      ],
      "text/plain": [
       "pi/6"
      ]
     },
     "execution_count": 46,
     "metadata": {},
     "output_type": "execute_result"
    }
   ],
   "source": [
    "dic1[theta2]"
   ]
  },
  {
   "cell_type": "code",
   "execution_count": 47,
   "metadata": {
    "slideshow": {
     "slide_type": "fragment"
    }
   },
   "outputs": [
    {
     "data": {
      "text/latex": [
       "$\\displaystyle 23.601702192173$"
      ],
      "text/plain": [
       "23.6017021921730"
      ]
     },
     "execution_count": 47,
     "metadata": {},
     "output_type": "execute_result"
    }
   ],
   "source": [
    "Bx1num = Bx1.subs(dic1).evalf()\n",
    "Bx1num"
   ]
  },
  {
   "cell_type": "code",
   "execution_count": 48,
   "metadata": {
    "slideshow": {
     "slide_type": "fragment"
    }
   },
   "outputs": [
    {
     "data": {
      "text/plain": [
       "[0, 8.66025403784439, 23.6017021921730, 10.0000000000000]"
      ]
     },
     "execution_count": 48,
     "metadata": {},
     "output_type": "execute_result"
    }
   ],
   "source": [
    "X1 = [0,Ax.subs(dic1).evalf(),Bx1.subs(dic1).evalf(),d.subs(dic1).evalf()]\n",
    "X1"
   ]
  },
  {
   "cell_type": "code",
   "execution_count": 49,
   "metadata": {
    "slideshow": {
     "slide_type": "fragment"
    }
   },
   "outputs": [
    {
     "data": {
      "text/plain": [
       "[0, 5.00000000000000, 6.32405704239262, 0]"
      ]
     },
     "execution_count": 49,
     "metadata": {},
     "output_type": "execute_result"
    }
   ],
   "source": [
    "Y1 = [0,Ay.subs(dic1).evalf(),By1.subs(dic1).evalf(),0]\n",
    "Y1"
   ]
  },
  {
   "cell_type": "code",
   "execution_count": 50,
   "metadata": {
    "slideshow": {
     "slide_type": "fragment"
    }
   },
   "outputs": [],
   "source": [
    "import matplotlib.pyplot as plt"
   ]
  },
  {
   "cell_type": "code",
   "execution_count": 51,
   "metadata": {
    "slideshow": {
     "slide_type": "fragment"
    }
   },
   "outputs": [
    {
     "data": {
      "image/png": "[encoded data removed]",
      "text/plain": [
       "<Figure size 432x288 with 1 Axes>"
      ]
     },
     "metadata": {
      "needs_background": "light"
     },
     "output_type": "display_data"
    }
   ],
   "source": [
    "plt.figure()\n",
    "plt.plot(X1,Y1,'-o')\n",
    "plt.grid(True)"
   ]
  },
  {
   "cell_type": "code",
   "execution_count": 52,
   "metadata": {
    "scrolled": true,
    "slideshow": {
     "slide_type": "fragment"
    }
   },
   "outputs": [
    {
     "data": {
      "text/plain": [
       "12"
      ]
     },
     "execution_count": 52,
     "metadata": {},
     "output_type": "execute_result"
    }
   ],
   "source": [
    "lista=[1,2,4,5]\n",
    "sum(lista)"
   ]
  },
  {
   "cell_type": "code",
   "execution_count": 53,
   "metadata": {
    "slideshow": {
     "slide_type": "fragment"
    }
   },
   "outputs": [],
   "source": [
    "def plot4barras(an,bn,cn,dn,thetan):\n",
    "    dicn = {a:an,b:bn,c:cn,d:dn,theta2:thetan}\n",
    "    elos = [an,bn,cn,dn]\n",
    "    elo_maior = max(elos)\n",
    "    elo_menor = min(elos)\n",
    "    soma_elos = sum(elos)\n",
    "    Xn = [0,Ax.subs(dicn).evalf(),Bx1.subs(dicn).evalf(),d.subs(dicn).evalf()]\n",
    "    Yn = [0,Ay.subs(dicn).evalf(),By1.subs(dicn).evalf(),0]\n",
    "    plt.plot(Xn,Yn,'-o')\n",
    "    plt.xlim([-20,30])\n",
    "    plt.ylim([-20,30])\n",
    "    plt.grid(True)\n",
    "    plt.show()\n",
    "    if (elo_maior+elo_menor)<(sum(elos)-(elo_maior+elo_menor)):\n",
    "        print('Grashof')\n",
    "    else:\n",
    "        print('Não-Grashof')"
   ]
  },
  {
   "cell_type": "code",
   "execution_count": 54,
   "metadata": {
    "scrolled": true,
    "slideshow": {
     "slide_type": "fragment"
    }
   },
   "outputs": [
    {
     "data": {
      "image/png": "[encoded data removed]",
      "text/plain": [
       "<Figure size 432x288 with 1 Axes>"
      ]
     },
     "metadata": {
      "needs_background": "light"
     },
     "output_type": "display_data"
    },
    {
     "name": "stdout",
     "output_type": "stream",
     "text": [
      "Não-Grashof\n"
     ]
    }
   ],
   "source": [
    "plot4barras(10,10,12,12,pi/4)"
   ]
  },
  {
   "cell_type": "code",
   "execution_count": 55,
   "metadata": {
    "slideshow": {
     "slide_type": "fragment"
    }
   },
   "outputs": [],
   "source": [
    "#from numpy import pi\n",
    "from ipywidgets import interact"
   ]
  },
  {
   "cell_type": "code",
   "execution_count": 56,
   "metadata": {
    "scrolled": false,
    "slideshow": {
     "slide_type": "fragment"
    }
   },
   "outputs": [
    {
     "data": {
      "application/vnd.jupyter.widget-view+json": {
       "model_id": "d99399e385fa42b991330abbd59f018a",
       "version_major": 2,
       "version_minor": 0
      },
      "text/plain": [
       "interactive(children=(IntSlider(value=10, description='an', max=20, min=1), IntSlider(value=10, description='b…"
      ]
     },
     "metadata": {},
     "output_type": "display_data"
    },
    {
     "data": {
      "text/plain": [
       "<function __main__.plot4barras(an, bn, cn, dn, thetan)>"
      ]
     },
     "execution_count": 56,
     "metadata": {},
     "output_type": "execute_result"
    }
   ],
   "source": [
    "interact(plot4barras,an=(1,20),bn=(1,20),cn=(1,20),dn=(1,20),thetan=(0,4*pi.evalf()))"
   ]
  },
  {
   "cell_type": "code",
   "execution_count": 57,
   "metadata": {
    "slideshow": {
     "slide_type": "fragment"
    }
   },
   "outputs": [],
   "source": [
    "from matplotlib import animation\n",
    "from IPython.display import HTML"
   ]
  },
  {
   "cell_type": "code",
   "execution_count": 58,
   "metadata": {
    "slideshow": {
     "slide_type": "fragment"
    }
   },
   "outputs": [
    {
     "data": {
      "image/png": "[encoded data removed]",
      "text/plain": [
       "<Figure size 432x288 with 1 Axes>"
      ]
     },
     "metadata": {
      "needs_background": "light"
     },
     "output_type": "display_data"
    }
   ],
   "source": [
    "\n",
    "fig, ax = plt.subplots()\n",
    "\n",
    "ax.set_xlim(( -20, 20))\n",
    "ax.set_ylim((-20, 20))\n",
    "ax.grid(True)\n",
    "line, = ax.plot([], [], 'o-')"
   ]
  },
  {
   "cell_type": "code",
   "execution_count": 59,
   "metadata": {
    "slideshow": {
     "slide_type": "fragment"
    }
   },
   "outputs": [],
   "source": [
    "import numpy as np\n",
    "th = np.linspace(0,4*np.pi,720)"
   ]
  },
  {
   "cell_type": "code",
   "execution_count": 60,
   "metadata": {
    "slideshow": {
     "slide_type": "fragment"
    }
   },
   "outputs": [],
   "source": [
    "def animate(i):\n",
    "    dic2 = {a:9,b:12,c:15,d:13,theta2:th[i]}\n",
    "    X1 = [0,Ax.subs(dic2).evalf(),Bx1.subs(dic2).evalf(),d.subs(dic2).evalf()]\n",
    "    Y1 = [0,Ay.subs(dic2).evalf(),By1.subs(dic2).evalf(),0]\n",
    "    line.set_data(X1,Y1)\n",
    "    return (line,)"
   ]
  },
  {
   "cell_type": "code",
   "execution_count": 61,
   "metadata": {
    "slideshow": {
     "slide_type": "fragment"
    }
   },
   "outputs": [],
   "source": [
    "def init():\n",
    "    line.set_data([],[])\n",
    "    return (line,)"
   ]
  },
  {
   "cell_type": "code",
   "execution_count": 62,
   "metadata": {
    "slideshow": {
     "slide_type": "fragment"
    }
   },
   "outputs": [],
   "source": [
    "anim = animation.FuncAnimation(fig, animate, init_func=init,frames=720, interval=20, blit=True)"
   ]
  },
  {
   "cell_type": "code",
   "execution_count": 63,
   "metadata": {
    "scrolled": false,
    "slideshow": {
     "slide_type": "fragment"
    }
   },
   "outputs": [
    {
     "data": {
      "text/html": [
       "<video width=\"432\" height=\"288\" controls autoplay loop>\n",
       "  <source type=\"video/mp4\" src=\"data:video/mp4;base64,AAAAIGZ0eXBNNFYgAAACAE00ViBpc29taXNvMmF2YzEAAAAIZnJlZQACBBRtZGF0AAACrgYF//+q\n",
       "3EXpvebZSLeWLNgg2SPu73gyNjQgLSBjb3JlIDE2MSByMzA1MyBjMzQ3ZTdhIC0gSC4yNjQvTVBF\n",
       "Ry00IEFWQyBjb2RlYyAtIENvcHlsZWZ0IDIwMDMtMjAyMSAtIGh0dHA6Ly93d3cudmlkZW9sYW4u\n",
       "b3JnL3gyNjQuaHRtbCAtIG9wdGlvbnM6IGNhYmFjPTEgcmVmPTMgZGVibG9jaz0xOjA6MCBhbmFs\n",
       "eXNlPTB4MzoweDExMyBtZT1oZXggc3VibWU9NyBwc3k9MSBwc3lfcmQ9MS4wMDowLjAwIG1peGVk\n",
       "X3JlZj0xIG1lX3JhbmdlPTE2IGNocm9tYV9tZT0xIHRyZWxsaXM9MSA4eDhkY3Q9MSBjcW09MCBk\n",
       "ZWFkem9uZT0yMSwxMSBmYXN0X3Bza2lwPTEgY2hyb21hX3FwX29mZnNldD0tMiB0aHJlYWRzPTYg\n",
       "bG9va2FoZWFkX3RocmVhZHM9MSBzbGljZWRfdGhyZWFkcz0wIG5yPTAgZGVjaW1hdGU9MSBpbnRl\n",
       "cmxhY2VkPTAgYmx1cmF5X2NvbXBhdD0wIGNvbnN0cmFpbmVkX2ludHJhPTAgYmZyYW1lcz0zIGJf\n",
       "cHlyYW1pZD0yIGJfYWRhcHQ9MSBiX2JpYXM9MCBkaXJlY3Q9MSB3ZWlnaHRiPTEgb3Blbl9nb3A9\n",
       "MCB3ZWlnaHRwPTIga2V5aW50PTI1MCBrZXlpbnRfbWluPTI1IHNjZW5lY3V0PTQwIGludHJhX3Jl\n",
       "ZnJlc2g9MCByY19sb29rYWhlYWQ9NDAgcmM9Y3JmIG1idHJlZT0xIGNyZj0yMy4wIHFjb21wPTAu\n",
       "NjAgcXBtaW49MCBxcG1heD02OSBxcHN0ZXA9NCBpcF9yYXRpbz0xLjQwIGFxPTE6MS4wMACAAAAO\n",
       "d2WIhAAv//72rvzLK0cLlS4dWXuzUfLoSXL9iDB9aAAAAwAA1WshfLIMdVAZAh40d2vkyLyglXlo\n",
       "AGJeYnO8EzoOWF3V67xpmxByfLZwhQJf4uAACscCsGdWGx98VDqXYXiC9AQFsozQtQf+1D/7+I1+\n",
       "DillLHGZoVReodbdVG1OouSZXzyT/v8ngymsdcsZzr7GJM8kTL5VcMR5diQ4JZhMA7FRP851uIrb\n",
       "VS7vzZQW2SdBHMGeQ6Vl267l2AafpecgabpA19ni4TF+OL6lsUemYRRKrLgWadgRVmvh/KqjAlUy\n",
       "Xfp799W2MuK0ASJ99amEmG9T+sSXQq+deYUYyuGHLH5s1s9AWaS7GnQ2g8hqrTyOfyZ596k2XLXL\n",
       "ovB40qtYjZb+RDU5cEMmP6wZAwDEZ6tVNSXl837bYPpQVpl4KBFIFtDYYBiCP/jj7OFBrGAvOoIB\n",
       "PwCRDNAFGzHe1Yt66dkFNF3iheXBlmTkZVAmDX6G+QIkrWiJobrobatYagUf91iyVnJpmyLidGZ1\n",
       "9iqNX1YeTobHMuRQEVXWj/9tzzHL6MNH6RYVAGXWNSXQJ5muSMDjgLnn+AUMN/8h0YEY0fBTRoqJ\n",
       "Q0AjRWiSHKraYWqih51qF1z6kByLXspUdW6hF3d1Dq7cvo42Ir3t1b/m6wutakl8db7PNnyEJZ2h\n",
       "Ms0nQt0frbO1ObvsCVEqnnfSxwKU8++i/v3/rnsLJg5zq4b9VuZaut+jT5J7uNrGFKQ+8IAlp0Jm\n",
       "7hME86mUxMjCcBkqlf+II6dzQZCcd3m96zvSP4GVQfRdaZeJprkapgJEpQ+f1pmvAl7dI9lilH31\n",
       "do3pva7WdzS25vqyXwFj5Zt64fH6CUIB9jMzEywYz2nWXvWy/hRZCHAWNxj49QsDqeRqtcrxn4t0\n",
       "m8gfN/OGJHmZ/emHZb8H7cErQdkc4wXkYyFyMMvKk9mP/3EwwtaJnc+lmHjfpKsxIWdky/75TL/k\n",
       "uhRwJqCYjTAxENRDVsuQrEE0NN6GB1o9VGwkdH9620EFrBph3IoTsjf9/nOvabKBdmKljccVhRcs\n",
       "Gn0Wn2j7UAN8fGRcMgo3jGZrnMnREU4OtzgPL1ZtSG3uXb6q5MF477RyIrd8uOFAK/hw/WbdxWGy\n",
       "H+QO+3z07UF3Dy/HbxFOIZ54wIQVezOvbVsGZgHrAg+twC8dTA9jujixthhzBqf+uAB9arIgARhv\n",
       "GfhK8SSv7S0//9N/6nhW16O0D0iAt+pzKysbl+CUYfAqfiU9lPtaS6XPGJ3o37cgY/iIKiQyTQ6T\n",
       "u8kFauLFLQsmrcIY6J8wqdmtXIWCSemW7Zf++N8EHfZXijYjp6HZ2CcyMxjikO9acdDO6IiYw8AK\n",
       "Xz4giMCfnCZ/439xECqSuieLTeJNuz8rvFt2g9NYZR4GsEag2uyqI1sKYo3l90uMZ6+Kav6kjLVn\n",
       "xGGErUXVIDDhdr4pc/PePFifB/ogkfXuFSCjrvyzf0t8VLx402SdiDcuNFAMmxVQyY/HMdG7O4n2\n",
       "6NOnJ3Oil6CDukkcmxKvPzsw1MwHECaTe6VW4XKE37Rev3SDmvy7DP8WwiCpxgSeALGmXtjVtHxm\n",
       "oZz4KdNgc9XC591fVlyUo/nV+72X1MHjT8Xaz7pBCd1KPlui4GOHI4CwYkZOVf79oJ+6WieR6MC8\n",
       "xiYNZdusXa3FxJnInLUpHzCo5L1KkX5cmPFODdNFv5LvzdIpUEkokTYKxNDOjV+KnQ62Rduax1OI\n",
       "yIwDwi/T5dHwap55JUFo6PPQ2+baM2TNhoQKysJ7e+0ET//KJ0CHzrXXiQK1gqie3aTZXNFbjeZ9\n",
       "tKvlTColv+wqPTpaW0pP4r5nD4jmoLYrvG0GuE/ePIHwduisJk/1oyoGNfhElUtlZEtVtCAezZVo\n",
       "7vu6+6ChOTTL7LsvV5D/p3HvRr8VViucKS4/w6MC8AXtBzICaR00SrOn3jqxtmm2NtQFiTpwxAiW\n",
       "uXdfdCS0qrAvtsT6+8/6zmrAvW67YSLrU7H6AtUCdUoxL4CC05g58V/zku64WuFXMAemaHux5b5y\n",
       "dJwWAUSnJTRLWw7Zi2MyFx0RUcva/K5L+XERnMHxO1tBz1j4J94LqHNKMhEYbx/p7r0sx1S9/Thf\n",
       "G+mIpt3xW0RgEf5/6puB970gh4yAMwAUGhWiSVWAIC8jX11PpMTzS/Z6GzkFkJU76WplJC4VVKDw\n",
       "I+E3WrZTBOTj9Pm1efOj2s4WKzloAObS6ZVwu/vq2pEp1NB8s0GdNbXqYf5qr85yZCnwqusW3oGG\n",
       "9GIJbUDGcix/OQBWCnqaRikwuUP9YFUheBz4+aURxQ391F8PH2SmE3OBueV5+lASSCNR4olFDUDA\n",
       "D+oqGcKsxzcIUZxpAw57Ymf2cm1ggURsmUe1UJju1tpEYAvCsEUrcCo080SX28jBs8rivgN5mzix\n",
       "GaPdV3hbwR49eU2OR9E1UBPqsoKCmvSS46eE3z1yIJB1B2cYzbeARY7bon3NpB0UMETz/EnDHn0s\n",
       "mmlL/uzz3rEE2uz9TTYWSv4p/5BDHImH9U/osJLNSjV4achKEN90hDVxd3WmJEAgoKK4eBj+FBL9\n",
       "+65Vpdlk0nbdVatXPRVn4aVXF+7JIMKZ4i+MDCklWZQ703hjbid+hJ6etBdpu1qjaap06Gsuh6Wt\n",
       "LBqqJ4FwWASmoGG+0ShIIYQK65mFKZywUs0KTmIb6RaHfecjh0Uvl4iW7OOJZEFQxytteN/sg6wO\n",
       "bDx1rnXDIv8vf1MnBid3FBT4PvNknHpi92Hf7B2CNuwBhiFU2jtEZ2AABYhSsVeIfODSW7Qae0MU\n",
       "QNH8JnunXzAxeVm3fsodW6H/12587Hzn/woA7SfCaMwGD6wHN7To/wVNZISzKzYJG/fJNeAJrgum\n",
       "7cxZ6h1hVOuswPOIGVL6hvh0CIc3+UyZk7p54wFm7WA9Kg9MQNMk1e0LzvfJFgh01AMQpa3QluSb\n",
       "NJcqW8m5XspUte3xWmMC4M0fUOw2J22wmDUCAr6lr7YorUcsYGl2g3gXEVWRZl6mp46q0DKytC2l\n",
       "1wwFRGd71X0Gz7c0Si/9yzbUF7iQTw7vRDZ2fq9/6WxILPu6QTCEgO8YgsFGj5GSeNRCh1U3zmMU\n",
       "RvbzfgKnGR1wWdQCKeLaWRbl10BdlnjfXk3unPYhaML4HCBNfH2b817l1SJCpmw6Xl1WrkMifcuL\n",
       "I2wy25EC/GOYHqEw30sREnvUm3iEgwXViqm+VyiNfNbxuxgktSff6YzrxlmPKMfZqTExONBxQXvc\n",
       "B04nzMGG8Iew+tvT6b+KXcWOk3BSv+kyXicZ42IttEnE9WCjrPOn1+W998JSw28UnrwxcX60U3L4\n",
       "3RglG7BFkcZGsMNGjPXumbInFWuWg2RfsL5W8ZdTNPTPx/gIEZQje7SIb7HAM/M2kKM991xhKxau\n",
       "yyQdhPmFhAd2QiTnroJ1uI/9KLNFWVJkcSKjDbPhMsHVwBJqAphyp/0TF7tUQk3+gwBwM5tE+il9\n",
       "M+xISfLQtijlanGAdx1ZKqizh8FUT51idgER1gWepEPcvyHLbce7rthLdAWOYtyxRRIjVanPIM2n\n",
       "1QOCEtsliscrgwPX34SXmi56e+cFEMjUyZDxbPqca1pedgq5xOflEBJcacyDcwKehORoxGZpX78D\n",
       "rhTk8Aiba46MCG2FJHflE3J3/uDiWnGmpDgOYTn5ssNjIPu7OWfG+meVua9g+7lTrFFXEq0H8M8r\n",
       "aGn7uSs0dndZBBVAk/+wg8C77BDETHLZD6nres5hd0phNsMUt5jPXQuFBjBmhjt/119VVPuxy0W/\n",
       "zgDsLb9KE6sD8+/7ilCQ4y7I1W8YFtNC9qcPzYbMpBDDUxODuC+blXhhG5OvLL/jR+hImG0Q6nuo\n",
       "xhyM++UiIvH/b5u4tXzJA52lq+8W5aVERgBFOLPehtO3CjWBZgEkcVZSFYWaDyhRfhnYxkms+NVG\n",
       "8EDxUdC2+MpQFuWqg1vUmkY95ThU1L230xMrd2YWB9nKSMG3hzVWp2Ej9eys5Khb1Z9fZgHRqFSd\n",
       "5VVPPYKzGJ/tbVeEr45rXT+8oHvT6fKXJLjZwbLl6Kdhlkd096ge+2a4BfyCY6j09SxGDeQa/Cbu\n",
       "gf0K66ehDvIE0Tc44m9yIwX6Z8z70R0+YSKkutQTmKNZtvRFuzW1cDjwF78w4mb4KTI/be04EwCG\n",
       "dOomDC2o51YnK8x5ExZHRzGxWaBqTwLw8rXkzSl7qLsZwjOYGF/HIEBAMcmxwzyIQY2ql4Q4sePh\n",
       "M5PVAx3N/X/GvV82dPHkWtduNxXuTerucZNGC8MPkzO9fvk0oHLtIWmNFivjDUioCon24d+6MTC/\n",
       "rm+dsj95u57jBimW/RKEZCzAZTz7+gN8yrFMnIAKTBCe3Mqlc6t7f53+duBLLKot29rxvN15rjWy\n",
       "PRQUuYMTAqUmZhMLK2E5+i+L8/jIZBCozkICoe+nlDHvqNm+wVYoJhHOpxugDrTrE+D29zFd+iUV\n",
       "51b8nx2DaEHpfthY7ZzgcDNbAYNSzb0nQRnJwbtDcBqtdzLopN5wrGqcR8vJ1eZaFe4RUpcOW382\n",
       "vJpEQDX6zR8stQUE9bU6LwoZaD9xfYRSGdmFTSi4ozaLmhVaduXth0W1i43V0kinakDXQueNi7cx\n",
       "OIn2F9nNzG0A0PHYFn4u6HjWHQ9KedXWuutRfQmnBU838YjByjmDOoep7U7W+Th1FUf5Z6jD65BU\n",
       "x40OEbHxsyIJNV7TVFNDpovInz/3h+nHCGliH8usArKCjX0lz5szlip0V6rAwVbtnWSFxyFCf23k\n",
       "D2hm//vdQUYAuN1Ws7iOO9P6Nr9lBvS/YzMhIWXSmExRoMQURVvK/kvjh84dm0TcbohClYDuLJnL\n",
       "QoL96+S6ELFIsmhq1rO7iRHCXuJKP12riCDEpXYi3osf00tFG2q/keB28CkAAAMAAAMCrAAAQ8EA\n",
       "AAKrQZojbEK//jhABr7UDAPS/czYkJoNlu9fOJaEvrT0JhYCNaf9OqGMjud54h9xNnjzXbwOvGbn\n",
       "lSiNAdcgljmoirw2mC1h5geQrZySRX28Fmx0Ro9iU+AAFP6pWGkbb6oG53dMrOWHI3K2I1FVkhiT\n",
       "lS/gameDhVoCdiNfV05w79VA26ywRRK7VX82uhR45foVjX+jZHCL0Sqf0ySZ6CTcDebibKwCOlTy\n",
       "TYlXK1NqS0tHw5c/8aU10FRAHBWajd0/6BgpNGQ1XvI8TbYXIVbnKH5E/Tr0kHG3wc08hQIEW/GA\n",
       "SMS4D+hQvgrL2K4LxaCfmAp2ogGrWAZiv/TDIKkN00lqqjt2wVcw0/jynplZyXjbxeVckFN0wYJ7\n",
       "1N5t1mJgsqsn4/VQVvV7HIH+4R/2lGCQpFsi0VlV3D6dSKQthTHTz2GzU+dmzHKPN4RLf3HFsKSB\n",
       "954JfXLN1JeCIR9ny3ZkAI2VdaoymL2SyUk83lvlM5tEy0DPO8v36EBoqkk96TU5zwWM/I2/mt0M\n",
       "06nRoua/mLqXOhdgtk/g43JMU+uw8ZS8uSY4f/3y5dcvrq4WckAtvSUZ70vGYJ4YpJLJeh2cLP17\n",
       "GFlevw4o4dlAXIv+ELb7BjeZbzLwjoU0KvphCeNL/Bt+IAiJVNv4a/Fm4DN1tGYsJ5s/F2BbwJuV\n",
       "G5WnkMJdqFbVGbMa5eAMABVGLVCUb2MOpHQH4hnlfHQvY78SS47ktRzGRdDUubUpTp/pW9A79O2I\n",
       "z39x9V3Av3Q9f+pcrUd2ieOuuQn4v12RFgUckg3jdkKJ3B6fVpLBBECvKNaAQQrFqwprl5SyCyfx\n",
       "Om3gsjhK3HR4HbbZfvsNTq2CdreNEMUIF3wgvZ4bcZ4WFSHPeea4Gqzg/eepXE+XruD6g08l3WhN\n",
       "qagAAADFQZ5BeIR/AEiUUZf6k40BhDACBl+nToykEHTYpXkuunBzMenzozYJ3Rbxg5LQDrPqW1Tx\n",
       "9hajl+5O1cQMdv1nPMBB/NW8kTZnb0wfxyi50Lv3SbKM18UdmXu/TxmKruBxckeY8eUXyPHfzxmB\n",
       "G+L7Xoezcf2p8OzjjeMDJBiKlue5QCNqebh3ZXq6Gj3JZQjHrTAa1e08oQSTry0gS0+ZK07COUtr\n",
       "cxu5AmLl9djP2SMl/fVBon1aGSMcYEqdX30UJ7XCSSkAAACQAZ5iakf/AHQffcy3Z58mSmTLels5\n",
       "gAcT+Jy7AfU6+CKnLe7O7dNcRPpUx0TryYY9w731jbJ/CXAo6ZTdP9zK+tL1gMdTHfRXh5Svrc6N\n",
       "16eh/wlCa3CyszAqLvyaFq0NlzLTFirzepmhrCc8EfwOaGJs4sIQuqKhOroXbS7SRBV9nsIlPypo\n",
       "NP+cqXQVlsTAAAABnkGaZUmoQWiZTBTwr/44QATT0wIVKtupFCu/w0nCIYGXM39+ADLQxSMSVSHF\n",
       "qcW7DeKPGWsU5wElZaueiQ9DDMlFBjjSuOREA3yqgI2PbPoYKr2k4Y8Cz6khhIz8kHctlIqzcwZs\n",
       "XID+z/T2dPU5mFyGiZV7NsLp0cgsniJulcELrcvym4Xh2gNr6GjN7jm2hcseexC9zxcU1ihJqyQr\n",
       "jR7Vsq0UyGMkQVvvzL1tWXE3KEFNCohcMSuCEKxBJCDk89QMOtn08PyFEIafR3QmfJMfu5+hMCef\n",
       "evirf0HN75+1WybXxocDloRnw4yBGD/gQ8PyV+NjTDc44mn3NLWa0Wj/ZrIfFWjxoq/Fqj2BpOHh\n",
       "XcRSRb2kI9fNhRJ1q28QNzqpL5AEn7HP9osAFNoK0VkZSTBCDXuRp+Z+NhAlHPUcSDa8tdLDXfSQ\n",
       "4X8CbQuYiL/GxFw5TPQPhGOu9h/mpKA3czKrE9Z/QEBZ5VD+xyV6CYm1WDPlpQgkSzc/ZOpyrF1w\n",
       "nu4po7iCWsrBzHl1/M8Ois/LFCk1UFY2A8qNqQAAAI4BnoRqR/8Ao+cOIaSOT4rWCr4sHaqACaQu\n",
       "XwzolGNRKXMfWtLX1JK4DTBWhCUPnMztZSJuSWNAm/IBv2gVvN/W8wSF0gMqABwaKdVK0XvAI4Xa\n",
       "E5FFkHcycfKUXoiq3FhuXpTBJCiKsFW8gt0eRK7PJr263S6rOKKfIYjs5FW9hzwa7Ag662Au3Eeb\n",
       "iIUVAAAA/EGahknhClJlMCFf/jhABNPNG8tzIcisCKPq5H2b2batEIABDYVm2s+QeuXvrMEtf3T2\n",
       "WdReuWlp+bI+UFUgje/VmIqobXpGz/YLcUNLIW+MQ7XliWrDzs14a8a98wntdqg/7It1fBMGORQm\n",
       "MsuRk7oQxNCbo71OTClvPdBFK1oJN1Ri2J1XtNhly1O5P6u/gQQl1F5OW/WsDSTA2gU2rnLh8hAd\n",
       "+h5Xfz/h/ygC21y6UmrFPHu5L7X8zJHzC+vfqhQyxHxUz3tU3y3cU3DAm7UBw6/LkH8BE8Ww7vi7\n",
       "rFKudfcqtXm1rVhasWy5N+uucnplSw8U8d+YbueWBQAAARBBmqdJ4Q6JlMCFf/44QATTzqDv78wN\n",
       "JHFnACZQrNuJW779hUzjLVMHBdBkgfWIsMJA1LrrErOYOZz33gwnYHMn+HyaiYF8Fsgj/ITbraK3\n",
       "wTXhGuIBg1M403zqy67kYuZqrxDBIkWHPK3FDz7It6Re6cqVDzQo/RSofXgq5BWKgZ1mStRZN8W4\n",
       "qs5k/vSuyt737/AOfEjW5kuur6CuKDIDOn7ecIEJLzjYxJ380P72YjxIwP60MDDvKXH3SRGYYBtD\n",
       "hf1qRoKlZuUnFN5rV4PqB8mhP+pLuBxR6XOp3jUHH+bJBpPZc5k3eNt4AIQ2zB1kKq+gjf2p3rwA\n",
       "whuvdMkBXtHm4U7FD/DUW+ogTilBgQAAAT1BmshJ4Q8mUwIV//44QATbk4vg/xYVObQAffUQLEaa\n",
       "vhIyhnnjdM8yCttMQ6bwBJPbia3mtJpkEvsqLQufRr1zAwFYYZYt4Kp6rLGLbeL9F8KSs5OWCwMG\n",
       "fp7Y6lfc+DPY0gUj3Q/ym+Ob3zqtOtO0FrmL4f3+qG/sEjq8NA6CN3aayZ460mYAgLi+/nn3risN\n",
       "0kod07s46Xs6//xZfO4BFCxo+nQg6Z4Cp6mJ0mrKtmOtvbHtFjy5vkTxQzgJuzxdy2NAgnINY4GT\n",
       "DmNa/36mTLwc2DXvzLgOA4V7XrE+gIhFCpefjj/0ul7ZsqE8yx98wi9de7W19jH7P8AgRaWHV7PS\n",
       "URavIu6+4vbG1TnE3+9Qrj9wcdua3ag9b5r+6T6WGXE7oRF/8Any00Ts10Wkj8pNgFle2uCbcLub\n",
       "5gAAARRBmulJ4Q8mUwIV//44QASzzRRw4AA6vPx6c6Vi5tuxfHChyxQkK8ajCTUT+AP7gRVi7Rpt\n",
       "nPDuZM2EpEVUR1m8bMl7Sbk0D8nIHcLNfVfPn2IE+lvPFfYxEeWj63eGs67HuqljFZ3J60s3Wqpn\n",
       "MAB8anZIvQMczsbACw/fKpbd5GvOg9CUmIs92tj5oQnl6QCmpM3t7YBaZEzSH6F04rljkDxCWiny\n",
       "4u5/VNHag9Kz+MGtDkx8KXP2vcE/X0H6LQeB71z2EvB17BmsWI93XP9iOycOs3bf5BXNjI4ft8YJ\n",
       "71bLMIdt04UYPZqKwkA5U7n+XlOxMMlLoo6uYBCo1u3Q7VF96Ih7fpMAJRQelO2km+JtwcAAAAE4\n",
       "QZsKSeEPJlMCFf/+OEAEswSETxvc2XD7DQAAQFS703XxX+G1k401KoDV9ipCF0CRiFBndfElnLqW\n",
       "1dpboAD2tEsyEApNKdvHjDliq7Z0oUUAEQYAeDBFo/cCSULP7eJv6s5+OPFq8BfvkYHQxxq7mJ7I\n",
       "RcTHiMLJ7PyMLX7gbJsRO464A2MMDw+6/O31YwR20PbKba4ETc2m1SxC5WKJOe+E7UJ/Tdn0Dn5l\n",
       "ccLzU2/IOBanwL1VbklIXjKi/cGgvEyf49K0jOb0T25E3fcI42c6P75OP4+4JtHcc3b8q8toZfbg\n",
       "upUAKebrNoKmKMq0nGAtz+WLMEvPH7AGvu+q6fcgSHBIYdcjZnPQIJSaoBdTqQOAdFtZ1bjKACzi\n",
       "L5jYwcV1hhx3g1BH+N5w4N4rw/b6kZ62nu7hAAABCUGbK0nhDyZTAhX//jhABNT9c7uBJMccAZBk\n",
       "SfWexCzO53kMe4Nt0Hkelol9bh9r7jWKv7FXT0cZlq+uenrjjqmkoMWQNCOMbMLcUtzr4E7rorlo\n",
       "uLRSrRbQdErikfnNtpzEzrYOVgOD74vGjJC+lGjem8gG+FzsYyQioG8O9Z3htnqzZoTKOU2kc0bF\n",
       "B4Ta7XLoAz6PI30co/KPosutbqAzrCoosPvE0W2G4UvTeycRbFJPjsiMub5p4d5+bXRjZewpw+S0\n",
       "nq2cdFSTfH6P7uGsir1tFVlUdog6xe4Lu5liHs5HNvRUt5J+9H0q/KV9oeW1n+1rqMrYB0ZF0rmW\n",
       "XiX6PAn/fQbPd3AAAAD6QZtMSeEPJlMCFf/+OEAFzungB+xN9j+whleYKGEEUD30jSiOn/liqfId\n",
       "1KBQ036/RPXtFPmIdO0uVduDY7lNz+sAFks/T+Ig046VudsKnxtwuBYZ1oYP3cdsWOGrp1L3C34w\n",
       "Xs800SJ0JjXLKlqN5Ef5yv2l1JhS8pgy24P+oLomVR3rIX7aCiQ8m4eX3Ka/oHeJWxTSkWPISqsX\n",
       "DozOjqyGREmZd1d7QgZH3R1Enit8pt/dK3kzrpAKJ73gNFX8CE2UZyeaFkn6GFtuC6nF2rqc72+d\n",
       "PxkxUiCF90I9sbiVGdTKbI3y/JDO0Y1BvNIleBwbQlJkgueLUgAAAQdBm21J4Q8mUwIV//44QAWz\n",
       "2t3KKYG0XACDk68UsuYctvIYDIQbNGQE6ypOPqcQ8FgY5infMptQ2Htm01c2MOk1pZvTVQaie9BC\n",
       "xLamlGpXfKKzdg3LL7GydvTOAKCiuhGY+EGeQR7s+oY1tHsWtp12jmptB4NslcLVW/b99hnt2KGF\n",
       "X+umq3J3+cc/Zrsav3E8Unw2yhpqpX8/q6u6dAYOMDFogb+ubHfMdDq7q8Ty1aNymR40lXvmgjvq\n",
       "pbjq0cDICjxobnrLwfqABCl1u+FJtJ8488beRsfYQGHAPURwGh/2FYTEQQLGvvgK1kf2ymwrILdx\n",
       "iugP2Ysm+61I6vzmAnNRPnC0kQAAAPFBm45J4Q8mUwIV//44QAkrfewBtvK40CRKPpCBLsqkLKXL\n",
       "Zc+L8IBjTeey+HsMa0qF3vfZ+pAwam+xpUlfpKr0Df3UBY/fjntLcitsYJyxdL6uH9WlYWTLILmH\n",
       "/GAXd4FkNwyoT5FoLPsWwPefzx/V1zoeXq1aQMPqL700xRTTKLdTHLpN4so0VqiX4xPO1f8sGq1a\n",
       "NMPa7XikUFG91XQdsph5XVPdPslV4q17fMS+j53cJBAioF5qONNZ8ctV8Qq2eI1v0QfjjvtkWu6r\n",
       "ZHTUgCr5ODIR45Jrz9yn1800avrvbj7NHks7Id50fD9H0CetAAABCUGbr0nhDyZTAhX//jhACTPY\n",
       "XnqOYgBuu0ySAh2rNfc/Eek5cY6L+mshum/F91GlQSImG7wY+TdE/LTTl3N4pjHagHF2hacXNYjY\n",
       "ClpqAaOZMYycZPm7iha+dW/U//OTD4FxCvfTt5gnMmY3nnmj44qM5vsEKh8hhZ2Z5ELNOHDWM3NI\n",
       "ksVINNW9PtPkCfS0rX5OEBN31JrlpnshsQk7vm1eoKDcZ4pQJeFXJiA+1Sq9xMXNBF5jJIXAQQu7\n",
       "HnEZoUNpea/uX+VEuqYLmO16LX68fO/Citl/HeD0xfqw6oVi4N2FbIAKN9HTPVmYtSFeR10IDEp4\n",
       "8OskFD4Yjt70jm+mPmAxAWfktmEAAADiQZvQSeEPJlMCFf/+OEAI7IV5wirRXIWIUABs274hSpg2\n",
       "TU54yKaHZlFmTtGITq58mpJjN6rCu00m8szTfv0GSgK2Hb03TWn4DMAWFidZKVPv1xO3LaRqKMhH\n",
       "KxkQLOKr9G8Jp4dZNPM0IgNWt7blgeSqTZSkPZlncROWDLM8MSlbRW71/Ime4KXVjGDDSTOX2sjC\n",
       "eva9Ka/R4nj1ov0jNWpwBEPtd9Leb7aR916Ji76f+SH4vwS6v5Lhl3QV4m7BDDZMxTzXcenG3z+g\n",
       "yEaRt3EZ5JYYhjfdW+fKeJIr2TwSsAAAARxBm/FJ4Q8mUwIX//6MsAJRINh16SMADru4T2QMuFPh\n",
       "NXv3LV96Cgj0Tf6K2VsRggmBYGxHaabIKo5vVrSw4Xg8K1/It3Tq2l3XPUkd/tMfQpeYOL2V4Dwb\n",
       "L6R92ELfKRLinXgoCGRTuD9u3f2dX/GxvJ5tJSoQQD7EgkZcKBdCblYJwJbhZEoVZqOmx2cPlwNQ\n",
       "KMEt2TjzvXQho1quIhv0woQ4+NAW82jNjgoWMJCsxnmpx6ANJ585/w/xIQ/SMJwr+r+sz2fK0gae\n",
       "ThrsO2E28cDCfypkfTuhiwNQmvjRs1gwefhp5OsBntGRpCOJM5byRo2DBjaEoe1+UBeGn+EEpdiP\n",
       "BnN1fjAo5QJoO1LOQ7te1atwvueX5GLMwAAAAa5BmhNJ4Q8mUwURPCv//jhACPeYtGMmGWLNE8Zy\n",
       "oN/xVV0I0GShUPpx4sAsxdQySYyLA/eMvJtjeM3/sQTk5U7456QVY/0RbF0FOE2axldseD34JMLM\n",
       "OeF8io7C3qtDDng54xg+o8pVID90ovkPkqFQ3lnewahT+4jN7M1PUezENZM4X73tBVp359Pvok4I\n",
       "bR737mtypwP+tJ8swLeTJiNerZs9zXUYNaxzcV9wTnb2PeLryUyd2EG29Y2eEs+W0BiYgP8umXhh\n",
       "uHymSjeSIYl5qh8WRHYJJ81/Ns/0ZCniig2L56DYmkmY7721Tm99lyLySZqY6i4EYt/epg2zXmLY\n",
       "OzWreh4acZ8KHSjHchG1HFQyuk4Fa4tF+/SHbstSt7x/77E4CNvNYsR2y7WOksQdHkue2nk9jsBF\n",
       "7yhyNwYhCnqMcqMe99V+FqNA+XPTIimsMqvtnPzy9KSCASHy63j2SR6Z8UF31THvKNcQlkAU8HYx\n",
       "3RJHI/mzkFkUgOat55grT4fQg/3Y6tGVG8m7ht+5DdsxlQdZPko6Pqu2Q95jZSMC0s1/K6srCiGC\n",
       "TjphAAAAgAGeMmpH/wEp1hRQQAjIlfbqZYxnMQSlBC/Yb1Ts8y+J2vfPhqb/R1dMRL+9uHLTJbH4\n",
       "mTsuhXzq/qp71DmOgTyFeUhhfvbjP/m8uNmmGWAMcQtyM4htkZvVxVkuBHtewn9K8yyBxip3e+V/\n",
       "XTn4qpJMwfrYLSGu291eK9QxpwMuAAABPUGaNUnhDyZTBTwr//44QAimY4NGGwwiQA1gBckmuR+d\n",
       "j3X7/YhSBv/R79Ntm1BuKQspAcSKe8GNXp/jyDq1aadelQPw4zoimc/NWTZlSo7WsIW5tZhi9jwu\n",
       "B176hMSMFCKaYBF7J8nt+9eIRDxIUgdEwUczr2MFqFcrpvNFzhmfP30VOV33J++YhLh1dHeaPJan\n",
       "3T0qI3b2y5mgBHmgbyjeGDfag1DQ6MW0NDfdXWRQnNvUpHbWvs0fyIh3qzw0H5dYjTJKtv6APWAF\n",
       "VDRnZ/ohNzjdEy1VlaTGoAWIiktRtYDsYd36TPc8HBwkC67BpfUL6xiTCs3xj6udU3Ijpn2GSD3/\n",
       "uDtz542tcmJbwig1YwuhRu1bzS8QXSyTQW9phqT2ZgAeo9DqVYTB8qTeYsRP0IehXBkJ8BMkevKA\n",
       "AAAAbwGeVGpH/wEkZH3cQABcEYdxB4mO/bDbGAeo8/n8PDc1fJbRP/AEQJ9UwZlWq2a0sgZVQAZc\n",
       "rPZohKWXLPe2tagJrN/VW7Xl+P6q708GbgQhKnWXnYTFminU9HpjMaj1ckPkcAg2wx1t/lFc4/GC\n",
       "2wAAAVJBmldJ4Q8mUwU8K//+OEAIrQwA1dt6bkyCsAXODACVGpyNpFdpNayvGFrAVhNx1MTRYGPm\n",
       "pR3sctNLJ73S2A5NCfcwBnmzAC5vRjEwgBxYoye4jDvnpFv6KQ2fFJitrX2WsvAUm9Cz/XbBLDYQ\n",
       "Y/hAzvrq+7SRQ1Wz6Apa0kgy7PnoxtmIIuIlvIgMxrFc0RAC5KhzYJu80SFnK0s8mOCB5Yg0TVFw\n",
       "QJ4HEfJOOcWENXIsYHTQAOD9UFGWzzmSCyJId1vfBSLQSH2TIksO5YoDSTkxLnJ0K7pRlRXJJJze\n",
       "1eRdCiAxbUOVbX/pZP7Y13wW3jcVQO1rMBiI1VPC6WmKeemDn7FGE6SoBEbAOmecWUYGSNKP9okz\n",
       "MB+dD5wN+nfBc+L0YC6I8xOEcifygrKupvq2QvPjq/o+y5/npQWv24OxmOW6Z0In1ttMNkfvvokN\n",
       "aAAAAE0BnnZqR/8BJMzfSXprV255nagdRFo08MPVSnNpDAAFqPaGBmtLPqvHqwngpg0F0nbwq9+/\n",
       "f9a8kxfOK6xbAIDUjBQgxaDoV45/RdlhbQAAANdBmnhJ4Q8mUwIX//6MsAJBkCPDs0E9qdNQmLqW\n",
       "OJFs4dTFjGFuf7YeaS2PllRWbDLtxydhUWH19La9WuVFoAmiJbYx0uUVHeXzKfx7k/qUDayPS5d1\n",
       "Pprg/d6+qn4szYgT12dgQhmtEFWAv2L8+qxTRMn4lpDohaNHIQZoC7JcPmiNGgUlFCNNHTus9895\n",
       "LWgqa1bB/E9D+jyVXF0wS0u1+wCoIrZnX2kFXEleRMf43fzc0gL4Vvo5Ku2H/baNt08544604WaJ\n",
       "vwpzTlrY9ih5EbK1lRzCgQAAARpBmppJ4Q8mUwURPC///oywAjAKOON2aAlIee0ABCWfARsH82s1\n",
       "Hkml1L8Jb5LJdMcTN/ctVtHfpv/bFwBv9zfbLSFP8YQvOk5wO7lk2OlMBW8F7QCsofyeXI9/LKPQ\n",
       "XMze7NSyLaji2j/ZqiUlhAcOGXcnlH5DgqHSrHVgFRa1OF1GBCsAUWO2b71eC6WMFV97LYLRxwjn\n",
       "sQeHS+jF7Jf5MtyO2qXZLORnRz+xoG1P1OptwQXEIDmfJDNo3ELuxLC+6SFKFITomHfqJBgB71Eg\n",
       "mtK2SlisuoNLaqJ8jGnTUBvfjses5uF8902gkflySBv7y5ixCPgM7oqv0HBqwQV+NMhQCF4n5h77\n",
       "/v2ozCgofY7qlvOa6PYLtzcAAABFAZ65akf/AR1qOgMc59dzM51T48mq8j9eusrJ9MAC6HVJp2dt\n",
       "6yyQglEGQhY6Wqjc9/cRfZp9KgJUkfnCNAmKpWKFqNSBAAABOEGavEnhDyZTBTwv//6MsAIwCj58\n",
       "APjOuyq/MvcEsdhdHyljkvSukF4omoSxc0LZSDOr+Ac9mKjjt27YFyWL/BxfnVNUy9/LphBfgSVn\n",
       "ry0IL2ZRX/fdwVCyhkpVwbpzYtpUZVDwTJ1paKmRodC+AOGTx5iRcmEYpBl8LAZveDWeoXfJkX/J\n",
       "KhVc/SX1CtZ8mfKn0Cx2/wGdegnqX1XkHl+SwoK9ZBErXZfyCqNFjsrpBmMi1oi0mvdTjh0Zxov1\n",
       "GW5gKqDCl62ZTsqziO+nWyeUaf32uv+YNMPVF1CdnU90ulNG5jiKo8H/yqvAQFAUMn6rhdrlvAAx\n",
       "3/PG/I4sqHebW5o29eIPpNknDP1z8V+CmU5620tlczq8v3M0LWFf/4RBa4l8+an24LqugVJ0k3jo\n",
       "sBjYWswRxwAAAFQBnttqR/8BHWo6BxnywQ46jKOgAJ0wAgwwrO2rf+oQkcjK+Vh5gt9Qd6XNdqOe\n",
       "LIosR6LbUYnP8v0bGba+d2l7Ac/TANa8CNVausEPAhfqKBsDhZUAAAFjQZrfSeEPJlMCF//+jLAC\n",
       "MAsNsT2l3OnwOTgFR6hBFKXmjzPTKTZePG43IskIWH9D6dVvzwbOVoBbnoHjGu/T9/n+zZgqNgDl\n",
       "FF4HhOKyf7AWmYh0WJAh8dbZA0FTJoWLQRET0Gw5IRMjJD/KUW0yEuNq/tct6t2OvZAsfct02Nr8\n",
       "KUq2Ru3Og8r0o8UCUCjPoR4PbNxJw2fSDea0F6EpdRMYcJwz7iE3lyvkzctVmgdpWpOLTxPRZXd0\n",
       "+GBm8CdL50NccIpK8KsI98uFjO88g3nGFG1W4EdjnFSe5z28Msv+5/9eDj96n43K38Noyqfw+d5k\n",
       "sRZbSOWJxu2ToVvhgCdVch9r6YgGIxhbFrseQhmpHlQFej2CJykirCtV0y+scGxqAKQ7nh3KObi4\n",
       "O+Wyk0lVcHP+pOMTSIb3nQO5nf0mDzZ5z454ocCV05nhFjV36qrarPe6Flnkbabr47Ec7OgJuQAA\n",
       "AGBBnv1FETwj/wC12vp/l4Oo1lPX0F0rbGmlKgBNGGTlKQcPhG+fEldizYQZ2Koy3tHIHB4bytpP\n",
       "Qj54F3KG0/MxrfTAvovtreUBrXhViKSKYCTqF6Fam7OC6L4efS1GZ8AAAABAAZ8eakf/AR1xgqcx\n",
       "GlA7hb49+cOh0DeCEpn7oZM9CgfvwHiYS2gKA4yy/3xm3pjNm0uhnUAgN7aZQcJyyXpdwAAAAc5B\n",
       "mwNJqEFomUwIX//+jLACM/QinwLfgBHaG87ORMWpLyLuTElPT6HdWtu66OM+Kt2r1wsfStjHEH3F\n",
       "HleDvBknG9gcEeCOzsbTaH3uNKkfjYUtQW79stuVaYoXcLPbg7npF89IXYx8j3nhdtf0O1mLLfpE\n",
       "XIZ0VA2V2Ib9oMFgPBDXMPEUsC4L1Sn0+82WndJ57vJY9vec1LdPVyPc+xRDkQQQ711brJYB+Q5+\n",
       "vuKak+/vxilEdsCO0VFLguxAkjV+iJ8lUTTeeZozN3ClbrSYdBvkkV+GsiqhRFJIsVCQRBZHOG8E\n",
       "sWlf6DNKi8g03QSWdVvn5XfMUgHUguFqxloAF8d8+w+L93uzKx1tvVSOXoebL4zXuahTCNeDDHCG\n",
       "1/Heu2SjtGOi1/telv/TNz6/2xPblrO3wFhEktANEJu1D3M7kJNCYFHxkirRZOSSJy75KVLHsgn/\n",
       "vemkLAYCZSxcnTsUA6Nykzqd8QYSS2ETPPQ112D31Ms4NjHOhThJfwoakUtITz5Vf9RxOj/xSCCY\n",
       "5D8AHTFdkrJ2EkbKGevJKONWiHcImQM170NDTt6Pk65kt3YYK2NiQM8hFcr1/QRQMy+tyUtSz+xu\n",
       "JDDCDKkAAAB9QZ8hRREsI/8AtaXrDR0BzV0dpTOKqBKJqEyIAZ/b1UR4EQC0EMZvyDJgCv2oElf1\n",
       "mBU7UX24GN4w3PU7QRQWDg6HKzu6z5PdjdhWwQBdxXRJyakWxJao6uFA9Tk1XGIPJHK5+YTvLBAh\n",
       "dWamKIl4mvTMSMVrhDFQNQqfhHwAAABIAZ9AdEf/AR1OZUOT6y47brNTKW1+KijKB6TjIKNCpgz8\n",
       "MuVhVqIACZEwS8b/bIAWzmaVyGaal1xZtC1vUerrNRPZ/W38NZmBAAAAOQGfQmpH/wER61hVxCYv\n",
       "s2i0sF0rNcj99ReSutuQgafltmZrCdF+edIsYy7sV8Zwz5evuzKXGkBWwAAAAYpBm0dJqEFsmUwI\n",
       "X//+jLACIvWRR3IAWERsAaCAeRv1utDYrcOjRH3wE8i1ux+far8wHuOGoVhps8gxKHxwJFZbd2fN\n",
       "ko1hRi0swOBduzW8YIJ6OSiAqhJOIkWgRs7bsgnjPg8rOmz3k1bbJmUFGbDND4XFixI7xTUk5FOq\n",
       "SND8RXzNXxBZCM5H1eI2B/mKtL59+sGJQ0y8OLoHavFT3H00gl1yaYqdIoSd63Ca1xnFSA3OV83/\n",
       "hXA4zbStZ5XWiKqrfbklw0o4rpFBp5zNG6IfLsMzNK/Qy4KG2Ivhy+mr9DoudX1Mo5mmIS43RvGF\n",
       "81fvGFJgynT1ROoxIFxM2T16eRZNiUHbTxzyLYXrrpEUJf36XWMzH5AdCpuRP9U1yM4DzPkvp1r0\n",
       "fTXPCoPfDLob9nkFpgHmI/6eewCf37QzBs36apwCaWvBsPtpkRGam2tRyjGEeevg3dyOs/AzlFqm\n",
       "UZC0MVjiSCJNGO32zS/EVcv6Hbu5xYNz5iLeCbfs4pjBrZZywpAC4RxxAAAAfkGfZUUVLCP/ALCy\n",
       "yczwA/u995o9NDModis9pYMCq+xHhGAzeBrM5bY5Xrf0c8vmy7Vb6FIhCV6I0qoFo2k0XgjRMnUP\n",
       "hoDuschx2R+B72FEdicTMCF/prXTV26eKrz+jyMDce0Je72Hd84xuSRMqVHmHnUPCFBhsOOeeUfz\n",
       "wQAAAEkBn4R0R/8BFL+FYBABYNBTFR+D1uGD7ZmAG+Pnl2J9XJnSkjDRUyH8aJHct5iTZpXvYOSb\n",
       "D+a0BwXyk3ZZsVbA+5apd4oE1GThAAAAQwGfhmpH/wEV+KJcj1fw4bbWfuFHDalrWbPYJAY6uLiX\n",
       "eFLKVJcWigAlNO7KB9C9gN/SWba7cqhJvpKdzQnDbM5AZUEAAAElQZuJSahBbJlMFEwv//6MsAIi\n",
       "s5CoAHR7JO0fJoqSDVobp3EDJ9AR5IESHKinV/0MkJCglCSTFzAa+gOX+h+jPWjhxQuWfsCCDqVZ\n",
       "dRKuJWMk/VXhDoABb/+Km+0BZHgjMQi4GRjmFW/z72tfdclZvYkXTmkllZ5gH+GM+ciX5hBm0rm9\n",
       "pgtKWMP7IKg9Wt37hwQ3B3f0bABlOLZ04cS2g8fe84+p1+QW/UNMsV/V4cLWCF1pG6+g00uj7Es8\n",
       "woA3FY5bAgEXx51FKoe8jADcN1eeI6Ml/VFYWp2C0NhmEluL/v9fkdj4oPdRd3ar9GhwJ2S1NIwL\n",
       "ykPsvp8/daxLxl1L1ytXV7txWbWFa9rGk1Pn9J3GNeeTMvuPpsy1md2tn/2CdZQAAAAwAZ+oakf/\n",
       "ARX5Bc0SylPG/YcfHx35ojtJEhfON7giVX0ZAR0iIFyMmzwc68pAAH+AAAABJ0GbrEnhClJlMCFf\n",
       "/jhABFLmDA9wlX28XADizEe9fJ3FcLnkTZpoDpxKpoBGHnfzh3aEsyMPu9/wpAzbCfyyb18YqjD7\n",
       "XlQ+chBVtgO0kTMFVZN095y/HOWdAhxeeWN6B7yfXh76/Iu3Emfe5TnAh+GSDY14Irn0oPQ8lf76\n",
       "ldTvpFG1/IsTkPCoFtLGBzZXFLnSO7hmnwl+TiiGm9oWzoAHx1KBYcu5Xc+4EVuAO1M2p4WU1exm\n",
       "lMH27DLuzcUdcNSzdaL8Ttmypd+LZnMXuVgr59GwxcIgBeh0iwsE16+xihtFy2aNsZxlkLsYTrOf\n",
       "wcCxmc1M90Inhot/6zMjAtAF3D7kIm7xho1mEpNitF/ta0x//99McH7urzuNkSI9RQMYONLT8z8A\n",
       "AABKQZ/KRTRMI/8AWrQWaKkJyE9udfeQNHrgAStoqgx34GS+zxxjb3KDitEWxl1/AfssyL94SXjS\n",
       "5JMAeVSq7p9Su7mtqZnGNXkCD/AAAAA6AZ/rakf/AI6N4GlL5cALeqqHJ3DLkbaJ4A0XZZDwy2WA\n",
       "D8IACVlmLxZ8XcW4HSdt7s4gJVCi6j7tiwAAALZBm+5JqEFomUwU8K/+OEAEV6yQ5RHNR5GfQARf\n",
       "Px0ApZLjrO16XFLG1yVQnFFLo08U21pCqdJtDahD6MkgAQSIvRwBxwfzUZDM9eITePT+a7ukUr2A\n",
       "FBrapOgpBA0mfWyBXAvuA3AnVsoXTEZ5TleyDWnoQgvT8Z+Rx7w5ELgg0itkyVDtAG90OfGIh5Bj\n",
       "inxMpBdbRsU5QR5WEnNBjNOhxOj5M+Y1IksLhbfhQO7pwUnycNfhUwAAADQBng1qR/8AkmbOeYY4\n",
       "ueMWf/K5BGbbLpOTe1I0oaL8iI73Edvf4ASrTZK/w1+pRJoCKumBAAAAsUGaD0nhClJlMCFf/jhA\n",
       "BFcBSjE5vchrgCOj97qm3YGEBPcdV7vn/yUywiuzqb7BNnBU5Z+QXHf0jM9D4Uny5eUqxe/ikuOb\n",
       "XvtaadYE5nRycqiXej3wG6yjLrQsQtw9fhrRrcuFPQ+8FRMWCA6l5Y+SVK8Q5SrLVo8O5Exma55t\n",
       "tCXbYASyhHXu1kyQ0TGIeHtnPYAROZPuCENioDVGS4OF1nx8qGq6OTdIu5ZZ3m3o2QAAALBBmjBJ\n",
       "4Q6JlMCF//6MsAEfylK7W4BNfRfH/WxuCs6i1OlWxP6/cezctSu2uji9MDQ5+TGLjPzwdA4WPIpx\n",
       "WIzPfs2n5XyEtwqTKG1L1rHLFCQGg7Pofr5q+yAZisiW4QDU1jWZm626rnt1UlzP9cBoWYxQyp6R\n",
       "6qpnBpD8qsHEI3JE4t/fPQXJhIopTDMQTohf9ZG9mfneWzqogGzdhM/pKxwwFBTBFoKR/oeBmC6T\n",
       "gAAAAW1BmlRJ4Q8mUwIV//44QAg0T6dCAK35wPCqsX/4at/3iyJxc0kq5lSlRy/19HLsplLDlcK2\n",
       "MYzlxKgHzWuQiKMpKWt+hGS0hMuFKrwkt7xRlKB7ry+bzMpuq9p9nh66JeAvLtlOpsIvmNvuXOA0\n",
       "puyCLBo+ZTSmnhEp8hysc6mJNdKItDGElUPgaKxYfC2AEPxhm/JVnLd0W6XfgmacXMWrqOGVKaPD\n",
       "iEZRzXabaaMyVWBapPLhJFA6KJ/7Pqbgi5DMeZFLlLU+6XTyahByeoFa7ji5vAxO/u6KdpDnOoFT\n",
       "/LFBrO7HjSJRavZMP6f3ryyQ4WEsTwEwqIVyx0KrbFcZh3ziB+Wd+Sii6uMxaumZa7EG59+HChMp\n",
       "bCTx1wUlJ+Qu7zZuqe3HblB7b0Ir/5+Qep1T6ytRNRndbyaVcV8wydA5YTiX7h3JmKqvtJDfXKov\n",
       "hng4xPg+PqXHVbgcTQ+K7AgZ9hp/lpdpcupmtAAAAGlBnnJFETwj/wCu+zG4ck0m6pejw/m6xjlf\n",
       "SAErfIFCJnBHw3hSNZWLe9YCESZj6XjfURdnIRuvj6JE+fXDckLNlFtVttAY3rvku5RiE0/Y+sUV\n",
       "4btCUUfGOQPFoj1He95d6yKE/dhdTUEAAAA8AZ6RdEf/AJJ9QUXUmJQ49WeMoO+kBHueznaLjI39\n",
       "WgBbITBWGICnIG4EyBvJxjczB4niNY75UBozY1YEAAAAPQGek2pH/wEVklWS5gsLlUKqJVXDn8Z8\n",
       "cVyF2NE/TCAEJSFfDACbl+WA0wG/ci8gKzftwZcCAKWOx1YQ9y8AAADZQZqVSahBaJlMCF///oyw\n",
       "BCddv8F5TYEN5beeNj0JG5uHSJ4pLbhjG5f2kG5i+9rJnrBi9tU1B7OuMtAyJEENZ19/PoSwts4A\n",
       "k+1Gvyx4QDUq+N/xvRhHsN59X9ZsxP2IItADiD0Wwiprtzh82yr/6ssd48bUJLWVhWC4k/0VVGGW\n",
       "TwCkhKqdX+art+5yXYtW8WlL9+B8Io+6rRs8C1jqURQMvucyHOsbIQena9bIsPebaRuIwxo4cbSR\n",
       "/P8rTBjPOF+C8QhcoHl6PUtAwW4ihVjiCVf7VNU+4QAAAUpBmrlJ4QpSZTAhX/44QAgyrz/SAK0P\n",
       "mq5g5Y+KycrV3vcs/oP/Q0za69uG4ebYMhAQbkwQPxK+1ffK2cP82vWu7Xqe9SV9zujOOcUFpukF\n",
       "toi1TjE+96ngDg7LBVs8GSXe4szbKicE1O8Gf/I2cskO6NdvMEtD+15EM9SBBHUO6NYnqB4kyeen\n",
       "vLP8HIheFolXboMJ2Wg9VyfJcD2ZWo6sBPNg12EcwJYQjGtsbYdsoMP97EZLESme88hrXtoFLFnK\n",
       "FfqNGOEC9FmhO2whSwsJSjxNn3h7KKXXYqnMWwqJR4N4H1fR75Q7i/Rh6yL29USz120tAK5iLC7a\n",
       "secIjak2/dFlpm0BzgBQU88dQ/Yr1zrdSNCIe9N6BQISxFrcIvlObSi9DqpZabw4LNwNwPBSTcHi\n",
       "yjVCgcPFxfCSmi7dYZJxAk5b0TW+vYAAAABtQZ7XRTRMI/8AruDneY8ANualygYDEmC9+64o59WU\n",
       "d8Qqn1VujwbJkzX8hUh5KRAsmSDWbmNDVbNY2ILjbnkSugdZB8INwVRaZoyygybYTpewO7nlEdQu\n",
       "cy8JMUsFZIpCLyc7mbB+amphMwitEQAAAEMBnvZ0R/8BFWJRCp9F1yO1Jf0A1DQkB4XgeA5RvA2O\n",
       "z3OoW7oHqYW+D6AAnY0yMH/6eE2IMxZ9QCQ71r0GwiPIkhyxAAAAOgGe+GpH/wEVkmGciTjfC8nT\n",
       "4eDUm/RGA48YPE9UIudVuAn7wgAfSCZfYi14GQNahh1Ab8QMVWKIeeEAAAFEQZr8SahBaJlMCFf/\n",
       "/jhACGeGHSNaNAGhMW267VTqVJ2dY0mkAHO5iFiekHW7rqFQu/YY09qZB76XFeDX+o4nSgOjaw8b\n",
       "1PCaMtYK+NM0XjAq8EC1OJpYuv8nha1xq+bsQ3ZobaGZYF2qSlsqinaagMSEcAyaZhCwTO/Wd/Zy\n",
       "P5tRA4n3FIzNfzBgzL3gLjYuWxl/8RDm9FTIKURFPKI+FqVSfx10onQ4Up/5qyQWdFH//AWgG/c8\n",
       "oiE3qDbBOQ4m/KYHv/cJqT4MZOkymRzCLRtNqbt3t+BONdDkSPRkcnQxdauH6XttAjOnx0DnceYo\n",
       "GmEa//GpCDKSuQb+LjpuTP0UVcmYLjCk4PFhMhn0y/NhhT/iUPqu8P23e6g2YtwLbphJuUhZD+NJ\n",
       "/pz0Fq/NkWPQZsfBfp1QXXVw4M+FI6JQid0xAAAAY0GfGkURLCP/ALWWTt6ZDxAC27bJ9JEzUhL0\n",
       "xAR2bMaaLa9oGiZEaCsRmWTJ266Mkyg1/O1gh+6RsckGVmFe3eSt4JrwDjBDH5yGzt3GX5NLiBbm\n",
       "Up+Aq2OUzNhUQ2L80d/GJgAAAE0BnztqR/8BFZJhWRazr8IJPePuiQYwACuoQpUyu7EPUAZI2B6Q\n",
       "J+848l9uQbf7t8xFtlkxO1M3VZnbHzOzgfUtEC8hjrjpsQvFI4o2ywAAANdBmz1JqEFsmUwIV//+\n",
       "OEAIZ983AKniUtfmgWYMY+shSqcrQyi6eAapBeXX9iwZ80q+uGyC/XuH/oZ7U97/e3e2Ua2cbgpE\n",
       "SPQRk5juD0yPNG1BKzPbqf2hsea0UjnmXIrRHLRdWUOKfcP62pDiXiZUkf8V+wXUoxhmFMGcgqGy\n",
       "ZNh8TO4Fgi/QNwqcJKUes2PEInTboxkuxTBPHWoZ0q7QL7XBhBndWTjMj6RVNdnjwmiWwSC1oFTK\n",
       "qbcIDOoyKcc02jg0BDfvBTMz9fw6YQIMvEGxE4qj0wAAALVBm15J4QpSZTAhX/44QAhn0QzyxirZ\n",
       "Ju8J9ORL6SAInDzkIBXgOpFLcHbK2F4Oa8vJQAm7fge/6trdkJojsIVCNpTJIKFJ4yZ9L2LELu1z\n",
       "W/4/e/gdZoe5xwfjDGi8Q/eqr/ejg+gWbN2AiqpT9JT3T1Dk8ZuYH82Hva54Uol/tFm1st6qN+J7\n",
       "JmdRUmJd1SW3GUbQsuVXP+ZF29/7joxw51YTaWzdw/AU7kYoluVdrx2upmTgAAAAskGbf0nhDomU\n",
       "wIV//jhACGnDR8tjACOQcX4E5NLxwNPK3Fexq6SoiSiNKZFvt+5K9+kmxZHORoqp3vLoAULQcKoj\n",
       "QP8EZzJDS0Hg0U7bUaQHo4wTO0jwasF2d8Bq9nj0hpPtWLz673ydCsQk5DjzJbHHB3dXYpFaIUgu\n",
       "GPuhHz6w+Pnw8/y7IHJmu4s10NXJQ2ggHz1FnkJZ1vq3bX6sJCzEEHLZTlgWwVnZL9wTQ6s1GVAA\n",
       "AADfQZuASeEPJlMCFf/+OEAIaIXgBaSqdJYeHCcrE+KF6rByF1FFF/VRGVMs4iRQjWx4X2bbCPRH\n",
       "tLe90O7TvoMYSdJT3a5aF91fjWPnAOC9H9ecrqEUaZgak/5PEHMcTTLsdRwEYgOLl/gnJbR1j/YC\n",
       "KTSkQ8Iuzr5BCqfUQbDc/5PIqrd8rVXF/+3BHcK2SJUUAwRFc9BDLTBAnl1rOTsVIrzzGGmq3csK\n",
       "YBmWN50319xESjAom1VUK6U63+n46ArTrXKh0HQkyQOE0zPuI1kYdSPc+fUoXdBJVMCPkyHlvQAA\n",
       "AMxBm6FJ4Q8mUwIV//44QAhtFICN3gDk8zifhdIUs1XOZe0lTlfCRPoAqliShW6uqTWO6rN7Cwt0\n",
       "R5t6qoI7u5beuzWEHBbnnRSgaX/O/z4B7LSaUEHXNjqGl+KihWVMejSJKA8Vlw1aMk3FRN3qchHA\n",
       "IhPo72QjgBvCC4hCvcFGz7DcVrd3sloDaE/EBAYOivQmMkAYZGD5AyyR9ojQbJidxGApVuAqmmcW\n",
       "31X8a5UgEWJH3KS6F20SeEy90lBOX2C8HnF4ILwVM/Xeob8AAADUQZvCSeEPJlMCF//+jLACMZA2\n",
       "AwAp/NEJPG0VuFQv9i9n7cM+U7/oNWYQJXl4XFitMmJKmFUbeK0hJlsR4m4D4CMuseIWg9e00/Qb\n",
       "++HvnzwddPngkykQAqFk7arMyW2ozwcBBubdJQwgMBRCCio0BXrjov0VvXcjQ0DMsuJ+wAYTRE0t\n",
       "SAGXYvMgwPdYvPBlI/N5u/P95FGJQrIXcWZe5KLUbg8fx/b7SkTIFmfoJdMjioLX7g81Ay4Gl/Tq\n",
       "/8eb6jDYEIywbNWXD8H3/JKWEcMOfF0AAAEFQZvkSeEPJlMFETwv//6MsAIwD4/LWgHkIHCUtpLd\n",
       "/1QF5gbLgD5YnoKnX2rroMkfpVJO0ZDQJwukd0CLuOaMrxrYnqu4z25e9M7+BvlQlKExDx/2v//7\n",
       "nKiVko8fPH6kBkC9SuWnGooDt2RQlI41XGLaanYe8ysTft/35YU8caseUfJgAwqbA/uBpR0G9BGQ\n",
       "dqDARPgIkB3YuMFKmeFFc2+UIxVXbH3741mcuB2Bp5DdnMBkDU/xHG+U1bMiHGdAtRmZlYpgl8Dc\n",
       "I71v2M2pI3cx/95JGhqChAeB+F1tKo9gosraw7MOjm1g6VhqZvSvg0hQUk3PQ+gp+TKtVoX3F85s\n",
       "vWmgAAAASAGeA2pH/wEdcuqnMqUzpLfz4puUdWqHABx6e+GhNf5Mp2Msi/Ze6LEKVcV8zxqs1bt8\n",
       "fcvw+VJA2UCg5W7dyNXhB4bWJZ56QQAAARlBmgZJ4Q8mUwU8K//+OEAIZ7H89Vr5pBPGII6linDR\n",
       "37HxBmjSDmrybfuBM96r1gQ2y8bzFB8DiNw0xeYEvHv5CJTddqmh7N2odpBWuizinwuUS3Ae8CeX\n",
       "4RKknx6de6b6KQC7/SN3cVrTm8Lqt/ELjkwSTVPOwgOH/LGsm34ZhTiueqvykzClz8WJAlt2jmDw\n",
       "Qrdgqcs6nfZbkduCfiab6cc1zLLxrQ5XlChw79+fPNH2N4zKyFi4gAS+BCP/7jKzzRsJ4HX1w+gZ\n",
       "xht3SCOQ1xQoFCAxnz0ycsAWTUyIcCAyMN0rWOfpQKTAp7250rlH/sj0hMHd3L9e1VwMzsVPoPBU\n",
       "hNgQqFdI7W0Utctp8nQvSrgvb7daaQAAAE4BniVqR/8BHXLzUWlDH0zgMTsivfZ9/uLo994AEnTH\n",
       "i3FtfL+8VO0o11Sagu0YUD0zWkFvpKuEjLuHu6OzOgdsjjcz8T1DyondVoRzxoEAAADfQZooSeEP\n",
       "JlMFPCv//jhACGeyKVJ4ZV36AuztFdIeOjPCL9pCw/AHIndc+YM998LkYDowVP+hD7XtgkF7Zs9B\n",
       "X9RsEME/zoASkpYcVq56gk5KPaedj32eFMylTuAQ6JgOAPpnxqaLAFvqLntoio5UGvjX+txVT1G9\n",
       "aOA8Y3+geP0cG2cMaV4bkXTPCTQmZ0wSrIvEjKuKHlsreacAnhF1Fdv7IsOd3pJiBjeFR3WgGVBw\n",
       "iKc0mHNJHOIFJp8kenlHw36FP7gH2mzwAD4gn+lJrLbJ85n9apAi04iD2deFgQAAAEMBnkdqR/8B\n",
       "HXMECY9bFOB4AR4evWOgG6wwRmACsQJ+6/LY/gflGmPTm1v/nzK/9bCVcIzpj6/RqhjM74gr3TxJ\n",
       "OKmAAAABFEGaSknhDyZTBTwr//44QAhnsilScv1rgBDZA0bkMDnDbVfvdqcCSG5Zd+LQFiwP5vPX\n",
       "ffjGO+b9OLQHtiwaUfNnz2wxJ5N508l8yI6BbN1zgFz5RZ0gFuHLzkN4sy6Op1j5bTJbGmhTqe3u\n",
       "+Sq49bXV6F73tguA4G774J212qO8srsWv79ee0qeBZufBrLdSYVDHcilu4GEGGiU0qi4UPYZZclE\n",
       "hCxtCOPrp3gMQ1ZA1LJcSQ03NbWuk+ItKYze9FLkfxU/ON336M5gtkJm7jFg+iLCCeMHQy66PRLR\n",
       "N1ZxbV8q9PQj+SqxcPBOVWYQHcARAsVaVF/2TIgtmQjiXcp7hWy3iENPwrPwZxKON3kz2yji4AAA\n",
       "ADIBnmlqR/8BHXMEBZQcTvvdKmO5yAAoEa6q+shG3l3ovgnL4Ozgf76ApIvWRtImH4M5eQAAALlB\n",
       "mmtJ4Q8mUwIX//6MsAJByee7iZrvcf1ks/Pt2Km/e9MVQBFdMS3v4RWtL2NOIR0fWF33CSyOD9ve\n",
       "rzak7TSKP7nBUDjUOroRGLslhp0N4e6CxAvhyPjvykZ9hTPcsOF/9UHquYh7sy5Zh0iiN/J6ZM49\n",
       "b/T1Q3T0IfnbS4h4IOQ0MXLg4n7WV4B5ue/0nhp4dxugbSbYFVn80tgrWhkWfdSlUiD3NEniD90V\n",
       "19X2gMXbKrIDiZhlQAAAARlBmo9J4Q8mUwIV//44QAknq7zS515REAXq0qMTcnpREc2T/nbjP5WN\n",
       "3ljRiY/Ulvar6LCJOZGU6DdiZ0uTRfv/CfsfsLigg68Z3UZoLK/xSwRCuxsvpSDIsKbRuZkKAwKO\n",
       "7Qw5jHVrZZsufypfFsg9hjQzZMTnrLksFI72mfOMNpKpQPTsFmB0K7DKl7mrHXBo00x6EPpyh4sw\n",
       "8y05juiltCFSJLJC4WHzAM41tNKN+qjlf5ch1BgTLQBy0Q4y7e8/+JtZqW2LP253dRi2ye0sYx6A\n",
       "REenLMV4FYQ3qHKpSIKN3UQNBmN5UKyjgKehp+rNgCI5BmZR+GUmrgw+Jm/TS1CXige3GhME/tQf\n",
       "HT29msjcXNVqo7+w8AAAAF9Bnq1FETwj/wC37egXIshAup9BmUyM1TJDx9N2gda5ZADZN7fVrswI\n",
       "2jjKSZfvv3WLk9aCG/xBHRVRzErIk+HOPmaUD74fzj4u9BTl3GMjqUYZAveDhKdsApK4XyC7gQAA\n",
       "ADABnsx0R/8BHgTYHsxGMTDK7W58Axq+Qau/esa5jozwIXBkVU2AUp8Jhg5uz5W3EeEAAAA8AZ7O\n",
       "akf/AR1zBHZRP3HhWDTxgecB456hPAvxgAF1E9xz7j9MdgvgS86+HvR9sZMccrHnYsJum0F6uclZ\n",
       "AAAA50Ga0UmoQWiZTBTwr/44QAit/6QCrRdXhPPGARZjpOvgHfm7dTnxd7iQS7+giD8RFNqNfbMn\n",
       "hK0KSXCE5bbc7LQbyvkwZaGb/DHKpzNQfzaFe+HF2ZmBOpH9UxCRt2AN2xUhoeGJoCgrYn5or2Rp\n",
       "vzT7JDHx9zdfLmgrWhCdH/c+7sT7n9O0vKZJSI2bpOXUFw+Jlo07A7rUn/rT7Hd9SueG8QGcYWoG\n",
       "v466zjsgiCRvKvTaEhs961W4kLYAOa7OEdPwERCqwrMmu4ARhkhtdXTnHj5wSMHGvPaEQI7aHmhr\n",
       "7fYfqAMoIAAAAEIBnvBqR/8BJM13rIztJhj6drsgAm9XdKqjTotzFgAjUSy8JMOTZ645x83qMj4N\n",
       "eF5bEEGkiE2XKV4eZtCZZ3sUnTAAAACZQZrySeEKUmUwIV/+OEAIrRSF3btYGxWHsIBHuXOfUgx2\n",
       "kje8QHIDpBAAUcWF6mnqKKGuMmAwEBVJCluF0VyAN+fZw+Lft2CU6nDIwwX9qHUGhldPg+k2jkwJ\n",
       "g+X5FKuwVe2FPn5XT5TqGmhp6NcaulwTZSIeGeE3SEtMdayncltCEZxhZobS9S1XrfRf/nOvCbns\n",
       "15X+WKuBAAAAwkGbE0nhDomUwIV//jhACK0PI/PC1GRthnUWdrhp1gAQPcg5tMvaMePa9BbA8bxA\n",
       "+wYWfPWX45HWwBRNaTrF/r1WaZofCcd+S9Qj3KgsnqTVUQx688RnhERLoB+49CBWpzPiY84jT0bi\n",
       "YdtU1XOXa1Yref9tYBQQ75hP9xq5Z5D0i+sip2rEYT067S3FsFzFuC5kBPDI83i51WW5k3h9XoNu\n",
       "zIaqDp8MqqjT6CV925imyelW+/FIlLYYG38DXe8s/o2AAAAAukGbNEnhDyZTAhX//jhACK9dcT+w\n",
       "ACLT0g/44SU6vhq65rJ0HslFdWIOPFciNZD9e2Ttx4ABL5HxKjdVcd7sTugUsKo+0NlZCxjNiL66\n",
       "SW+uEOf0713lP/XnCX/w9Y58CC+1tmSqwJcEgNUoPrROJJ+tA0XCF5dIBpxX3o3VXJS9ZFTO5JOM\n",
       "Bt+h48nO0vBB326w2LQvcRobFRm7NfJ+XovAVSnmqa8pQK6yoZktgpfgypcJ2mmjaj1iwAAAAKVB\n",
       "m1VJ4Q8mUwIV//44QAitFMfZgBGR3mxKPqmIEVdNc91HpgIXTawf284leU6ch7qCuZHmPPaPS8rm\n",
       "RADDLtAljG0JjghaoxqDNsYVE+cA6J5dGjfm3qVxa9uiCYUOIOw8lCufhN1LcBvoLsX4YNJHv2vK\n",
       "pne0hli0kwCWlmPlhbET7lEoSjUJzQXe/G0FzTke1Jqy6P2cJIQqn7P94A8WJ0qIzG0AAADTQZt2\n",
       "SeEPJlMCFf/+OEAIs5kI3pACnDS3l+9GtIcVIR6wNaM3TrudKFcHJtmrnaPbrlhjAsoSEaIDYJ45\n",
       "ULAo+ZrdJQYE4cO+gEinbIi682FkdvZWvB/BEbUevy+ToXh8Ue4xXkv3UOECIXmgv2rHeUHla9FH\n",
       "XjgIfrDvKJ7MNzQbdWOlkslsEUbokcoLsLefjqgHxO8B9rX4yA+tm2GRjWK4CsNER97zveYhjIAH\n",
       "f1czTNyROE+Kh5OSjxe2BS6AbT0skk8foUAnKeTQS+SFAPpFVwAAAOxBm5dJ4Q8mUwIV//44QAit\n",
       "FVafMAIsamvp1LlvsR77mJXlbf08fcEq9eEtn+z36+mnbQ2VxG8src2mv0r/RMiz1BTiq3REsG7V\n",
       "kc+6GGjL66n+Z+oBonBrLHs7vxSXo7XnRhvNjFLpftZ9b8IGorOb0kbwpFzXwo5J6a1DiEKsB84C\n",
       "ZqW5eTtvzEuAteGi2b5YZI0sEgDQtX/Rgus7Ionm6hJnon/wFeflgK5gaqW6b+NMuFt16sAd/cm1\n",
       "IW86eNIp3csKXk4dVrPUu7PFA0LQkbajQ2AyHQQr44nOusB0UscRRNVhtqbQ8uDQQQAAAOpBm7lJ\n",
       "4Q8mUwURPCv//jhACLKom7gAENRju9yBcVoGk2s+nXvN8hG82tc8z/m11geQJN+CGWRyixuLoRUI\n",
       "62oqmplOpc+rxCkxEIo4MnvQ1/+VKY3iOB625x8ovaryYJoNb0B7VjoHQ58DvE9AkNW8XsAUJENG\n",
       "N8cBR3oqk7+gCVORiCAWYNwspWBhUxpilnveMALsVmR9HZejuZK0QipMEbQ/eQth9hBO9O/e2One\n",
       "FgcwAMI1OfMRfBKeex8czwI10nUxylqPdqaustBZx7pxSYpefj0oe0JdFyBsxjZWKnBqyd5cFTtm\n",
       "Ib0AAABjAZ/Yakf/ASHBiaXzAC3iLqwA7+c5vbveyyGLpb05THGl6iYD+UIMC2gqrRA1llQZJUIb\n",
       "0YEYbgegIgxULt57M8PybZ0oJysWkuEWX2cvLBOMq+TFgFEsf3uDoEgyGODl34oYAAAA30Gb2knh\n",
       "DyZTAhX//jhACLOYFe4ABDUY8L0j1U1Fm/iqMu0s//EfNCu5WjqlU7GeMFD6OhvTPx9hFbP4eIfX\n",
       "goJCpVe2Bn8u8lzFb4ZwpKYzvQFyKwyHDSzRLtLmrlsO+Xpik+1bdBNmgg5imMd36GNOCK/JAja0\n",
       "fmd5vnS0PMRsCG6XB00BU5WZjIh6mMt1UZH/2Uozkgs5O2eyusZcfOU4jiyYF6PD0k5cnAX3JC6Y\n",
       "ImbwUeLWdVbTQu/3EGNx8iUhy5ZJw5b1VzDwHav4KZt075ly0eHkssMMwuNE9BEAAADOQZv7SeEP\n",
       "JlMCFf/+OEAI6IXgJJzg+BHm8oOSpANxr3U7WtQOb/EtLdzf3ri4MW1786dkt+JnNQcr8jYp0KAa\n",
       "ljJr6bMjkNEDqI/ika5Ryqeou8kV5qmD0KDL7UA450Q45IJUwSuhKhVljzISPKdxc41iyJLluSwN\n",
       "s9Aa+WeWT4wHvLcCTcTTeW4N241ntyJKFle9mdH2palPip+Qw1uw64sr1mCkfh9Rgg/z3//4d/6z\n",
       "a6fQV68GiT1D0ZEEUVoDyOoocicI+aDsvPw9YsAAAAD2QZocSeEPJlMCFf/+OEAQ2LpKiE4fIAlm\n",
       "LkAIQGp62+4xfOC0KAjF8a3Zns/2Lihz637tpr7KFoI9EM+0tz2FY4xDTsaKz+vVuvFWOooK0tlq\n",
       "7M2ADbfo6W59p+WESW55Jep5U4rN403vSVgDxRNckPeo/b3dr/6wzfEWq52T1N8EyC9L7+UrioV2\n",
       "km7Wckpp56Vzz8oRaefYmhHU+d5zCoaabwDsPlVDhJOJHURugMyx607AIHRbmMK/HNzgju7ABLo2\n",
       "UkUPdLJchBi+6ZudtuoS+5lNZlYBhXbLl+QW+1s0dX1VmXk1nVLX4PQq0FrfaO7GmRD5AAAA8EGa\n",
       "PUnhDyZTAhX//jhACOfRG/K/XgCDox4b7f6bJ8QgFEc9GyOMJW0zw7eEvC74K3Ch9NEJhB0gDp0f\n",
       "UyDToDZsHNMk0qoP6ELh9uTWg1A/GFxyrUtvrqkmhtyGXOrWwqSGpxjn7jSIrZ1Q3Q4+ui6VFYGn\n",
       "C8JyCx1McsjbWJe7gaOeDS5Hp4r/4dUQ1fMlIhjhYWlPiBo7w8bL+Z13MKKEDuQtFFUWPsJpdNsm\n",
       "bGO4IaDlOhIjpEoayvAH+Js21z4C46TF5VluXWhuByzK78nsK4+NTH+lRcaknO0Blq3x2DA8Xtss\n",
       "mF0JcUkiIx1zGwAAAOhBml5J4Q8mUwIV//44QAjysEJwARoWLMQOKI3lQgK5xxa3/yK++hck0zwu\n",
       "kSBbIN5n//ASIlccKpFs0GgwTrN1qYcS2o5QrEX+L75Z1C65L+QtIFFGdbQGMd/EJ89phbdtz74p\n",
       "EFHEctK+INERRH+djSGxo5EKP728FnJlh9NriBadbmc81+V2GVZAt08Hw2TJXExhml3dsjpXKfyU\n",
       "xcGG2zX2Ru/6KYAA53pdf0TaQTrrfytTFNPe38c9PltRQMeY1cXHUPqbCU5WkDZjrKyL1FZYEoBY\n",
       "FoQ91e9wFDYHShF6YMDbSDpgAAABEUGaf0nhDyZTAhX//jhACOiNNAEefOG5mUMKanHvIlY5cC+h\n",
       "a7F2trf10bwW2ZuhT+njmFSpZ/2EqEI2BPy/sziJf7UIn+bHPspy1/vq7zDwQTTR4T9MJkGdPSw1\n",
       "uAdNXjuqpsUJL5Rpv8r3YEDTVrUA/k/OX9Dy9wx66SBMwsOk2OTLhraEWnvpq000Hu3CSNBbUXMv\n",
       "p9ri8P5uQ3vNvMmmLUDMpblUggCP8L/twfedeEt2zaJa7mwSBB/XgRa5eRKDs7iwstEU+j50rK/p\n",
       "YVEePhrDiAxnxezeaw+cBc1KbgGBWfA/ZV5Km7GpP2oxJulsGKBGPFzl020giUC6vG8PTaicDT1W\n",
       "bhgDIQMhITFYsAAAAQZBmoBJ4Q8mUwIV//44QAjn0R9QjeAXzxftpwJ4R2L+zmsizdXkkiOqlNI6\n",
       "V5s8lbJt4GCKb18rupLbKd8sKt1DdKE1LeryVlq1rupHaqTB2+jCVxgwxTdiubEL4pDS1G4NKqmt\n",
       "Gf5Vz6ckx69xhfSmj99tcqm+GCnUOi8ZPypH4F74E/svMAgylBOzZOLLQDNeFUygpgNmnD/9MIO3\n",
       "S80Tb6DbXkZEtmCuOkb+XxxXQLky7Nz/xCv1EEB9zXDrlk8eWfmuoOOiQMtSFsQtlgto4KUwX+3N\n",
       "REziydWmdm4liH+HyTUsjIkxRmZ2gMiW9qbHnWNYkKlMp6JC9Rq4Gw66nM4rOG9BAAAA5UGaoUnh\n",
       "DyZTAhX//jhACOfQ87oWA/Rehl0wAjuwF+Ws4fcSLH1qWGNHaitHWt9lQj5/yAbWmwzPF5+5xsz+\n",
       "Hr9cfI9mQvbjzq5NfO+xoCxk764X7hUdT1Qds+A+uoltLcGBgBua19ZTqvozqqhfPxzwiBYZr8QC\n",
       "NHxazqgGEIK/XvLkF+0S31a9oJICmAUUZdue41s1f/GLImxFlzm3QFO9GjtnaQE5JtREXtCcmPVt\n",
       "NOQNLJYpKoy3UNTfziY3BJu1WgPWSJMsn2omFnsgPs5KCR0n+lfwDGRm6TwQMYYZ14dSslYAAAD9\n",
       "QZrCSeEPJlMCFf/+OEAI5ZsNouLACKc/Zn7WYhsj1prVFkH/g5ObTVQHRM7BK3dNgHIwGP1HEhUI\n",
       "psUo0tCCAyxte/Prks1ynX1X5K69WcDpXWRpPOxo/cDNyuumRez3LHUp1RXGsFYvxVUWn/D8O/2o\n",
       "yAJNrM+obwje67b3HLpAR1VjjuOWz9dpX74a9wb2ggFJB8Ob8e+j5c1spPfvjK9uo19X9+mQX+eA\n",
       "qwUl/xg9nPgyyGUgs8+Cxx5Zm+gDe0/wOCkBoeIn4ilg9Xdu/ey8HgY4E06gvlUy1xwZPMPI2wGC\n",
       "ZsIa4Q0fqhqHqBrm/T7Q/R/EPVPOwgZbpwAAANtBmuNJ4Q8mUwIV//44QAjn0S/AletWc36CmPGg\n",
       "EyfLF+qe6RZhXHTITHyHlQCNG9IJy/VfOcOexB446oTVE93GuUnxpomE0PCXtKB6YCxf5w4uz42d\n",
       "0cYIutRkTJjaonApw1CPdL3bw/DyxqqGjyiaDTfycUbOVJ3PPCY4sGt//8e5qwIsn7XrkwXmvDhY\n",
       "QEi6XgMEWIjYeppKj2TA5TuvwNdRGLZIwwYmJS++9vUnk6A4fRycQN7zw/hlxAq+WMHOohNPvMXi\n",
       "cpgFupgVhQbFptpLf0/ISKEDd4QAAAC5QZsESeEPJlMCFf/+OEAI5ZEoDwhYARiFA/mkNbRbGsIh\n",
       "f2azUYQxqiYj5/5T+3/Af8QpotCzZU5jwTy7ogGUODLVrTB4vHvQQ8mjs0mdiZwR9Gp8fN0XwUhN\n",
       "93pWgpcYOac9VBKOxbWF7ch1zQ3OZ1qsxuzM1L4tjfteE+6Og/15/ZdPjYzE/W+ls7V8kJsc+UyS\n",
       "rViCxzE8OuNAM5guMDlD+zKnMyOd0T9AVhs3WXoIMs8VBzdX0EEAAAC/QZslSeEPJlMCFf/+OEAI\n",
       "59EvqF2NG7n5UzkABP0CUr3KhOOh9SRGx2wrYHQ7LDkVnYy0IJ0Ausisms1UJiHIp+IzkfJcjhuL\n",
       "kNHQVlM0Y7+NPtenYTYfpt4OLsRRfyVfOhweQuEVdTLIpWIwfc+gW+b/FGlEMuvOjDiVCB9m7kor\n",
       "j9D6PLlE4B3/Hd+2S/K5QICKQhhPbpaAnzgaL03/VuvjUGc4dRPdkG3219najZa0EDm+URSlXTNF\n",
       "tbXSG9EAAADuQZtGSeEPJlMCFf/+OEAI7JWCohADcp5VZ4Y0uKcZTLbwLECztamnOKtd06eDBRhL\n",
       "7vdYsrqqM/Gm88Z/vjsfHzNMti5Ti5GJWPF7YUgZohT33U5f51H7UirJdh3M74MkBPT+lmcQ3b13\n",
       "l+/d5JUzPHLZHCezzJdc5ErxOI9Xk5NmWaIzXq/yrQy0emi0yWVYyD0APv1Cec9bg/pF3Lf3JxIn\n",
       "nUtZ7BRMJV5klVV5CfteLRmuq5BAt23EgHMvR6ovYcIEIm+rM5T2g6pqRDeKJshf/oxZmWzQ0/so\n",
       "yI3iaM1k3dodjzwMZVcFIMPRsQAAAQZBm2dJ4Q8mUwIX//6MsAJQFohAln2CaP5DT0oABHbq6B4g\n",
       "FOhgVtGCxUlbSzsnRe6/nli2IH8Sl0jGyaIYZjcxuXSZeaOzFABv72Qs/lanz2cwReIA39gZVMlI\n",
       "BpNPsQYygWHzcIMCd25MQj1SVFQwWBTyu5kSDIsnOJc01+5pc+nPuZpyCQXiAMs/TKcj/n7T/OPt\n",
       "R/MIiQOhL+xtuq9I5rqz2ZPrI76yzrob8iUD4+QCxKbqOrZYMJNoWxrtXYf7eOaTcNxjqXbReoyN\n",
       "G3s3QUfmFDXhXlQIj3FlFLllO8OoEU7nKUhM5AcHHFIEF1COHHIO7syc210cPzscztw3qDLsqsLB\n",
       "AAAA+kGbiUnhDyZTBRE8L//+jLACUSy9as0YARamn+++yqMeJMmQ/yeQMogzz3QxhN4XD3/N0Wch\n",
       "occYiBWefmPsGxWiDvlvfNLI/dQMmPym5q9Oli7U3e7lgj44uOodvtmNTBJ1V8opREFuBAk32VES\n",
       "LlLVOZJ1kOUkVwmOZNZPUFUPRvlUL3iYiMmN2VCGFv4TGQ82fwXEA+zJemKNad50gAvnpOqBftNw\n",
       "hhaYoN+7SdsOvSzHrQ40GuxE0D8rqck2QblhPL5xPccZ5/FPOTyRqPxzEzNXZOkAMrvG+7MmYgXD\n",
       "e0Wm97UifQDaGRXn25zQK0+5pgmXHQMoPCAAAAA6AZ+oakf/ASzJiO7BC+rltwH2u3XeD+gFHABU\n",
       "9wYBr7R54a91FDtoEAw9L2TUOHR0ofE185xl8HgBxwAAARRBm6tJ4Q8mUwU8L//+jLACYD3IAI96\n",
       "hhDmPe9TzXzLbKvEmi7Crhf0Es33bGFy74o58zUgeADpjI+/TOu75fu9J5lGa+Pf9/XdlBxVIbvy\n",
       "nktroRcKQrYXHlwBo1lZQl2hNpp+DtBWSAh85eV0v2RiLPLP/qea33K0gZobOaYkY4bJjyxAAgKi\n",
       "fCLhR4DcxetFVhkaI1UFTydeKwjC46U4NrTLct3WaGczT2t50k0PVSj7bE0gmzTldNiQt66HftdI\n",
       "EQFPswiCzA8HPKLZwY2T0F68fB2LrXbGoyUHTZ71Wb5zalm+csvn2/kl70n7xrTG8fnUYCxHxJ7S\n",
       "XOl08r5YARPMu7ekUz6k1tKJmAMaiOIQb0EAAABCAZ/Kakf/ATY9+NmWf8AHim8uwAuEABLOLKR3\n",
       "NQEnJTxwcWLhQ1XdGP4u1H9NKx4ggmLzeqAQjHrqBWfsGdgnAGpAAAABFEGbzUnhDyZTBTwv//6M\n",
       "sAJgpf5sis7Ltzujl4iATm+A9f6PtiEANXbKJ0vWFvl3LQNBTQl4aZB7vudaRDCYSDCfOayNo0oQ\n",
       "BhaUpO2uAdC5bAh5D7rTcqc5FaYTbM67SAJxVWmkHAAJWt2lEW2QU3LrImeh28CPOoB+f/Vz2Tlj\n",
       "6PVbXKf/jQEn9MO9/K/qkV8pLknAcfn0+jvDZyZL1na8kCmOegllaj7pX4G2UGnhStHN5alNcoWP\n",
       "am1d1htcTqlFjuwEkTc3Ny8Gyp9QIRG6Y7SJsHFxI8dMnGQaDoT5TNmgL14aaHd7NjOaXGZcBynv\n",
       "0FvReiRkdz6bbFOQ7DKiquUWG3HPsLbKNu+rKXvRWTVmNgAAADQBn+xqR/8BNY5iyI3wzEUfnZIF\n",
       "syfw5+K7BZXp2+lazVb/MMh+5CJ6BbxkbLUX4lUsrQK/AAABTkGb8EnhDyZTAhf//oywAUEKnGsA\n",
       "PP+WaUU4pnYDFACQPhQw81/vHjhnPmQ2VwPm0Q/o0eKGGKc3fbJ9XyPxpEkxolFswLvDtVn4uSZw\n",
       "HOWEe4fZfE6kv6lsmzY0a3Esq9nXt8tG6KiBsS47ePwlMMSMJsW/DuE1TgNj6qs5aaRV8v1hjhfy\n",
       "AkG6RgMG2Lg5+24eZG2t+rWWe/BVkCGiybjQYC1hkLczQoASFkY/DtKhadsYqabctduowtNb1AqS\n",
       "egQq0fLtwNZ0s2sXqTI5khy3bs1+zdKu3g63aWZ0Fx7SJ7H/knqARZzi1EjZC2GaX3tcVbcIg+G9\n",
       "QSJ+kg0VIF3vXd+tvtdb3in3jiTOcFuS6ia0t2xpdgl7FvdmBDTpSfLaO9i62mjwhmeVdT6B0t7t\n",
       "YGLa82ZhDi31KrmTuSnKuH2WNl8c0qsiJU/Ygb0AAABBQZ4ORRE8I/8AYKySW/92HQi0rVFwsgOh\n",
       "YuPrKummAO7aF/Mvq7TXug8/Oy8bZp1RgOpgAtrVd/DL52di5yN3AScAAAAvAZ4vakf/AJpRPvKx\n",
       "FCr6YeqsOod9kSXXWbuOBwAmuOYukpEnpBoh161uaiysiTgAAAEBQZoySahBaJlMFPC//oywAUCz\n",
       "TECNQ1++CG6HrsAE4rb6W77nynocWgBLhPg8xddVILHIr/dVBlPXP9EG6v02p16gKVMxfzl5Ktr1\n",
       "qCY1gyDXYbFy9YH3qOG6uKaAiyfcfdqMr2erCahq98YhUnIoJwcmgUgj4vp1HeWU2F04q5bf+Nxr\n",
       "Wuuu0/Y/o+z0TEugCyq5LIikJ6WOiHrMfLNFgkxTUTnq62tl2pdXyALzcNtf+WuM/xI/SOMBDglG\n",
       "pkCmSY6fG58BwwRcFtv9CDAXudkNHr5OLwjfqYbZiR21P3u7I+eW/04tUR45TsLf19eVnYzpLfah\n",
       "tnKSwsN1phBC+pgAAAA0AZ5Rakf/AJjByz8okW3evI2H+4IVQR8UKMuUGZOMgRn/G1DguKfP0lL5\n",
       "prm7hhdlXAAOmQAAAOpBmlRJ4QpSZTBSwv/+jLABQIVjfn4wA2MR27UNrdBO5ew8WlOL8xHMa/Rk\n",
       "KhOTAa0/+o3PfPRxlUpaZbFAeFEPztcz6Kf0AYvB1TG7DU6ihdlTQGYoMiTzexY8aixIs0T2j5bS\n",
       "leW4TrsTr1AbzNrdbClGgxDtEiSNkXe8et+lQog0j+cV16T1a9ERPp6kaA2hh8oGEF3/ecEmNqZk\n",
       "02KcwlSIoWn07r8/0EOE56tdaGhlByR+UMwruFNXDxXUqRkeA+HoN5x3OXwvO56Vbc8v+5yKDdkB\n",
       "nzuGlHD8cDGFfB26ecudqPjEz4AAAAAuAZ5zakf/AJjBnfvaf/SGGdCIVP+eHFjAJdJCQyZA1abN\n",
       "eAAR0mqbpcI8poEBwQAAAPhBmndJ4Q6JlMCFf/44QAS0XxsALeKQPs2OvzSUBACMFOZgGu+FTAws\n",
       "1b6Z2Gq3PSrl3uerlQHeLAMqxlkxt+/HeHVnsPud74AcNtDg9oG5LxN+ItLYlzyYejlvCM2Jxwlx\n",
       "YxNipZlG79hzYFxz3CtguQe5g6t1OxgcJMXKNIb/NHzP2PZcUAM/ws9B/N3MqbzotiSkvSaOShXp\n",
       "CIXOkqPVoT3dOQfWhE0TxIwhSrjLox6N2CGv5KcEtyxDjDKyZlCNBHGVXtp4rTFMZ32UIe6E4y2c\n",
       "urEjJeOsgamhk19atgTZ0YfDji+szo14pglVAqoJsASIc/ZXSQAAAEFBnpVFFTwj/wBh3JFKLirh\n",
       "XzN3OHBttb+w/cHsawCvZI4Qxr+oCQVhz5HcfV4e6dxABHBXIkUuArZVoBnvLpuMqAAAADABnrZq\n",
       "R/8AnR+QBlD3JQ83XgfAZmORlhcXBABKrnzSZrEFkF2M5SXS1Y/b1+akMWEAAACwQZq4SahBaJlM\n",
       "CFf//jhABLZysYACWabvu7Dy9wC6998wGkOiZHV5VnoizrPAvz1wPEio/zOnWOmW5OpmhOAmVtlh\n",
       "sncuvzLghsGtliVGK7ZhgCPStUdMe4FVEOycwcvbdAmgPTxfDNHCgL14KO0tipBBlxkFh/v9T91G\n",
       "IrLd480Ulji4b1Z+LO/EaodNxQiq4kJVS5ytOdzLpgGmX2pYKh7old1cOuYmVBu63nb6Jn0AAADN\n",
       "QZrZSeEKUmUwIX/+jLABOKWAYUABOs/qnHtTPMDy8m72SlRRKhSK22xwQX8GVdiC+Dc7pYAhK4kT\n",
       "LadE5tGLgtPerSq4JuYgPIrvqQXBapRNjQvABtkBLjGA/+3+KvuIg5TVDVOJZnpnIOc5iSDO0B/B\n",
       "etVrS8yhBpYU6rPkWh8puElgcGIevnaLFb3BuI4zdBL0P+/5kuKshJnazTTHoQol8Yp45U51M4yg\n",
       "aDF92rxyzaJgBIBtkBi0atlVmfwv6wxTJ6LIdkNXhoomfAAAAP1BmvtJ4Q6JlMFNEwv//oywATil\n",
       "glG7gBJLN4wZhA9MkTz0iyc9EFvYLe2SqPgQC2vBWofFuzQePY6/RESb1AZ2JtzhP6NwgJWtfym3\n",
       "maeNEvuBWXu14KIjAJLb70OknuxNJN6v0rWLLwiaX26zuIbc0Py3NDwTfSVPLnXti2axnVyXKX++\n",
       "I5c3MZcMMzzW+aeWbcT3IypM68dHgMArgjHwm+QYFcd5zIDyREodnA3A6uH9h+Gv3sIR5GIKhlEC\n",
       "iFNPjg8WBiejGo+hP4YnB105m7mSpHS+yDG9R1pN8VxFk6abo93SXmalCb5df9e2rksiySimbHSF\n",
       "ussx6LAtAAAARAGfGmpH/wCc5eL1dqQATfl9GPu5SQmnfRDIxhuQHUkV8YTDZTDWgvEGBkg4xdP0\n",
       "xZfsDDxfus21vLac2rtHS5J8YBvQAAABEEGbHUnhDyZTBTwv//6MsAFAtveGRljkAJo5MYrCflL8\n",
       "A4O+9Oeiz1r1WoFGaB1WvWVXDZZHPmAL8NMmsfflPRdqeScSq3jxgWRrm+em/K6arL9f0PDG6a3L\n",
       "k8Lz4BCXir0Kvh7CumDWwvmjmCcuOOKYUGIJQ7aOS790tHi1B32JwGVn9AwartUn5kn1BkQVXA4G\n",
       "6ZJ8tYlCBT+Qp4GeutI5S5JEMFspty6dBREKb8NpCqb5R83pCSdfE4M69PT/v+g7ogw+YCA6AKsA\n",
       "GIJ9S1xtJm6AGOriN71bYzLccPXW2jw0K6Uz4AxPiC7kFXrNcaZ2GnpbQ7vEZXxbxjS78+t1RLNx\n",
       "fCHBqd1zdowNbvWBAAAAPQGfPGpH/wCc+gUigA9/29nmeCN8Bm/HI1p+D1i5rneBz5fcKxleL5Tw\n",
       "WfU/CQ0R/KH3wH9vJ2p9KNUuAVMAAAGjQZshSeEPJlMCF//+jLABQLHRrNxrLYGoeQbIjgBI/wXt\n",
       "13/WPZjv0FT/nps4OW6R2E0gYfOPJ6IPFj2IzQ7gxdZGuKYTmLKcvz+U6g6659ppFePb7NEBkbHV\n",
       "yYHSUCLTmZK8s4voDDrxRntwawC+OcPtWqWBanD38/lYZYpglgqFsCQwr4Je3/BsGKXES9YypfJb\n",
       "WEHXt4ekMHXuFJD5sB9yZV3ggg5KCupGke9o5tDhBMLYeLSmbkiaUSalnJ254Hknvvm2H5He7BaY\n",
       "26x54SVrvFi63KQ5tJO+PhvEwnfQ9x+Eemg7vtzKQDYhCEp2cAc6EnaeEMFBlyMCOSDK+rPoJqDx\n",
       "sOfy2Bab+SQpbRZaxaFre+EZx+1MkCly6k+BU48yEC/7kuQ4pWxFHx8EtCFdaX/N5EaZGS5p71j5\n",
       "IG+HIz5MpGi8Y3GHNGV3idkRJzBelZGzoF7M1dD9RZ8U+0x5DmEveJWfUH08AeKO4VmmpvjprYQ5\n",
       "7JkYMXKADrB1u44ZWCiIGD7qJPT8rlWqYjNf/UtBq3tk0MN7u2yFOE+5OXcAAABrQZ9fRRE8I/8A\n",
       "Zx542weUWrU7wgBWKzF0M04KmL2xqB8TwQSgvp/yuCfQRZFcui6I6JRYaQoC6+8Dx5fwhGmUaJzC\n",
       "ztn4PSTf/RaiDALkjlxbdeDJUnzC8vijujh5XkKuqeOL4apaMAra3XgAAAAzAZ9+dEf/AKh7U3Vm\n",
       "PiRIXwDjGLE0QTYgjXJFAixACYoATySM7DF9aYUaeDjHxuPFp4fNAAAANwGfYGpH/wCokIrTpblQ\n",
       "G/MZxuGNyHDjofNIfaXgAACVJNYT7hOrMRulMJZwopMBO0JMF0YaQxoAAAFkQZtkSahBaJlMCF//\n",
       "/oywAUCvxO1E2BbWxswAW5mgiMfTqivATYxFEeppiYSRQT6/IcuIzd2R+LHG/u/eR/zuKLtqn6oF\n",
       "AbJ8kHFK1J6LWftVa6/DUnDffekg6dxUZwzJL4gitEPGPdXomPdBh/l5L36Gk5SpKobJ8pSyUqn7\n",
       "/qHI2cIFPl+c74VE5UNflbJ2YrkDWymGdPjdSnBZ/+YZlE8s2hyxaDNsTrmzExb4jx6XucMmdJB/\n",
       "U5BV001YkIhZr+O7+Y+Mf+3F826jZLb0mpIn7ytV86P59+8eqC8l5yk8iSjf/PWe3//1BPcCdvj5\n",
       "OgO3K6B/MyMzi9f1exM0JZigIhIKQ9S4MFzYvzCur3z35NT9wHIC8sQNXUA75gmbQMkx5Baktced\n",
       "2XXf5/mjJYTl89leP5MeSC3lY+JhG9YSXcqoJvFfl3DNGiCqhJBXZ58Ijp/cCAJKWDWnVz7l/Nt8\n",
       "VIEAAABXQZ+CRREsI/8AZx5YSeM61utR83fIFtPZYYf4y79FihqeuBIASyDIPUl/E4IdNgb7jkSi\n",
       "cfQ9TvnL4UpiHC79ChJwfd4WDZXMcHjZD6Zjjfg01RiaTblAAAAAPQGfo2pH/wCemMsKWIAAH0o2\n",
       "aDzruIsb018vESdB6rJOTVbdH1rQ8gX4xxLsZ3B0Fnu3Mlh8qZ7MMxXNC7kAAAFgQZunSahBbJlM\n",
       "CF///oywAUI6GuKcwATjyohcOS1k+OFjzoc5EWOY59pTX2Du76UdUetqaIedC996vQMMLKpD6gBV\n",
       "LrlWHlKoy2OHJkYk7XTZZT8tDtUhwKpbUMgw7X01Wh/YDQXvHuwcH3RyLaae3lZ8a9F6egupxwkb\n",
       "HqwZj1mrh7O2ANtTa5tvZqA+GqyOjla5J769UdF9DHccgUH0h75062PeVORJGvfqbWjj5bg0GsAY\n",
       "LQSzJ3sxGRaWR5pcdt1EFIVEvIAywJGMcvbFESDOvJcY0Q8PLNhYIEuSuDiYtoNppUTPRnJrDlB1\n",
       "cZ7W4Nx7jg05Vt82u+lwLtXFJ8qoHoUCyFOdkvvTBM+OWBlnEhoBW1P32UKCFgAqeMYwJlxUaLF8\n",
       "MByFiuajfHZsq3lmgtZJ2b3kSc2bDmC50vPfKAjtFJwV4dBqvGsKhj1F/gvom0lKe0tdZbQ/DyYe\n",
       "mQAAAG9Bn8VFFSwj/wBnW94Abpjf3sO9X0u6yqfCdY2Se072lvXc9TGSH62m+BJsc3vexqZ1ycCI\n",
       "zCs/eMN83m0NOQMfn7k7y5ag5cGOJh7ZgrbjxkYljfzBHJIhCYqX2iZ0jcT/zi4VlqM1z+9K4EsZ\n",
       "NEEAAAA9AZ/makf/AJ/bigAtcWlBz7XLsF1naxmPwFK+9uCiyMIx9cjK04RBFlsfOFv6eIA8XETl\n",
       "PmB9lS+9u1kC2wAAAV1Bm+tJqEFsmUwIX//+jLABQGY2idrL8jvEA6u/o+0+d0SLtdgzMgNet+hJ\n",
       "hbamIf5VXAwo0VtZqpUMzAvPi6fn+1fBfHBy2PFsNCgotXNeaRKKEC6TuJR7zPDmY4KcgDCUuw7E\n",
       "lgT5Qq9fcsiQwsrkZ4zvpApbmJDcg+3rScXqdgQsU8QokljkrVGnU2qSpFtNP/m/CYZupmGuQjYd\n",
       "jN98e7Hh06TqM8dbZ4XPcFDjweKw4PbF0+GLGnU8kHR+x+wFE/8Dd6cFiscLfGf8ym9AbD7uIufP\n",
       "ksen/7UoTO6UM8CQaGDNRbzU7naCKdY947YYUGxiNqKr1J+eXkkEwmEC9VEX9Ym84S8euAqhzw8N\n",
       "7B1Sljrpk+mQK07PNbq7QAO0uzDcdv5CofT15NrQYa3JvxHqqDfsD3McpCq4I2fMVT4YLpTX70RO\n",
       "UPG/t9tDJ7bQMVpjKMzBKlFnG3esAAAAdUGeCUUVLCP/AGbRLHGxLQ9BJACJCkKocnmbxLuUaD1v\n",
       "lX7QLwrGMUtpw5SS5KOgWNEpbjgt79PYaZMcs5Xv4e/cV/F1ZrIGqwGbTt7mQ+SY5gfL8JmjsFbd\n",
       "K9hutUgNR9WFJ5+PnzAwgno7SJXdpD6ATVu2QAAAAE8Bnih0R/8Ao8B6Zt5AC15JT4JGPOPVlvI8\n",
       "Q7GxpdlZlvyagctsrxlNJf77WCB4uv/janLLEn6lkNWETKOKRzZ1cdkWGvJKLJ/3/hsNgMaBAAAA\n",
       "SAGeKmpH/wCj3uq0Xd6ywAi7LQD1UDX5q48NVTYrvQil+sQ9aH91S6w7rF2onvGXlVGx+PZOZtjf\n",
       "w5t22jX6eM18fFWZYjwLuAAAAUdBmi5JqEFsmUwIX//+jLABQjoaw3L/B6tQzBwuJrACKs4i+OGY\n",
       "W9xPaSXWLydX16ym4OFgZgSuo+JD9y8qFKqqb6GPxvH1epch4sGojfmdO7LknyxXVPi49aTxZ7oR\n",
       "NjxnehEzHLOF5z/d019gJGlkhdL449nBvz3yIE6/Rm+ajSQrAT7FnbyQOajrScUxWH5ZkdkBB9Nl\n",
       "1TsJoRK88QJ17FqXl6SDmBkbuQ1nY9s7HDDq2ToEzX9klW5U8I8Ck4mQ8KaAwm29DkY9ZYoaJAzq\n",
       "4tVT9EPB8n7a6lH2mnKSnI4P/A0jVctNwHhmK3sZ8CkB+mbwWSAw8yAuCqACZeNv9+XN65t41nHq\n",
       "GbbJk4rPqVN5E0mHKp5ZWbJvDVApKSoh0rkqGGA/2mR5rK8ncXtDMDpLudPi3hXiavrV8Xwt3HTi\n",
       "Nv6G0EAAAABaQZ5MRRUsI/8AZsCHUn2r2u6gzjqkgteYLgNZvgAJU1yyno1SAhfOY/Uoa6eP8l99\n",
       "/mjL8F/Zrsgc2Rdlt+K/VexcXhzzcbw0CGrTuDwgT0E3cOqgUsKQxmPxAAAAPQGebWpH/wCj3qbs\n",
       "eY0TGwwATpvUSxTow543CKfsizrbT55cbgdi2nw/hHDthZ0GorVxeDWywiyKTAwYrYEAAAFvQZpy\n",
       "SahBbJlMCF///oywAUEQS9ThD7nr0woWVaQHwcBOgv9ElPVOTg07iepjYHblD00HcZoxhmJKc8Ew\n",
       "STj21yEgz+uS5K5IRMAgZD/w2vPaNXGKbkUtmQthPMWhJ1bqEvtjrtTeoYNty9A15PS1emncqk9G\n",
       "DJyJXomcR3suBgNAkyqR5NdEr0D23FC2TmG3nPff3L2d3/yl3Qq3dbsowdirrk6Hw+IpdlerEJpL\n",
       "PIYeQBgQOQ8guh1iK0+7yqxlKfyTxFAqOirQxqhkkznYB3QUFuMsB9uJ3swL7Cd06eSoaO5/jBJD\n",
       "hk9gnG8IUZZp+fwhjd20vrpDTax1YX/htInPSQMeP2ERAxtV+zbcovzBJ3Lk6tMgxE/qWvgblT4Y\n",
       "guXoaXH9Wyfv7Ew/7lxw4IcLlQjnyJmnP6FdbqdZ+9l0iUNCf96wc5wiF787u/4/dkrl6xkyC9aU\n",
       "3xtLInGYbzIIBk6UbLs+fb3P30TSCQAAAHRBnpBFFSwj/wBm/9sjFV6Pcj4KN145jqFU/OCXQWS4\n",
       "ABteveFirOSr4VCwFtQrKg0eFJx3dmZVjtOTRnVdVwRuSLeaE5JU/G1ODHXBrwkor8gDyvlTcE9h\n",
       "OERUenmGTAG6lHdcTL+eOPlzTJp9+5UJVoYTcAAAAEgBnq90R/8Aozg2HVksDGtUzKgAJ2oDmqX9\n",
       "1pNO0rnJrvmERd+ZnZ7LWt9tp7/LdQJ21FCrWwEGG0b15d5JLxncbKrVRa/6DlgAAABIAZ6xakf/\n",
       "AKOoRkg/RCUA/JgAna93Y1OTcuM5W8/NWToE9ByrageWLpwu72u30NcuSxy0q3dqmsJf8zAUaIQq\n",
       "M1dTlXv7+A6ZAAABKUGatUmoQWyZTAhf//6MsACqL3LtogAWhbqphCL+TlwY+y53dp9hFqiddhdA\n",
       "K1x+cG3eyB3Qt537Q9V+SRGVBdJjUiY2v/DVStkbkWh+t6cGlEtufbTvR6xDaQJkc+cadM8onTZN\n",
       "LD/SUHY/WRch1sD6N0F0WzeeIknx2Y5M2+qdnrzfuFME7FUwwaLBVQgA+I6rV1hSEQbROL2vcC0w\n",
       "IBLkb4+427HqonBXdckbCHZyK6XGUb3CjThAn0U3bpZ2Elh/CdwySvtcRrr4SV9N+UWYJytLiM8S\n",
       "fbS6U6sgQpbNeKaYqQtQ1fGuh/yoo/XN8b0CZjR/5B2/OFsgxWrocI6tcRaLx/+/BgFGzCzpnrLZ\n",
       "qng2dLfI1ryOcFBwano/Qt4AQw4zcvdk4AAAAFlBntNFFSwj/wA00d5iUr7hUCB5MrJwAIzGrqiE\n",
       "3AqcpNTd3guF/8Nk42Fn5EPOLUrjTGMtlZWo95qeiw2qDKllGSONt7sPgq2o1ymY4F2r2v0dF5nr\n",
       "H4fGtAAAAEUBnvRqR/8AqGamuM6LTkegVHkAA2S9KS3bB5fYv5ZAQW/FhsgTwjBT2gnnnAY8ls3M\n",
       "vrTKvqXEWiiDg9XR6ssk/qWhDBkAAAFsQZr4SahBbJlMCF///oywAKodAQSwAtAy9GyCZ1rS0GN7\n",
       "RjWu6irLN6Lal66reExscup2uVhJVmmeHpb7haq4iRy9gI1IjaoTyefvTFxznb43Tg0DZO6GTfjU\n",
       "dpaWZtUQ/2/EP54kPkC/ZI/IJyosT6wrw/S8I2QrvYWyqMH4jgKikx0A8VZJ8gztw6CBQauvd5Fw\n",
       "DogrH5hzbc4nbABRIV9m69iK2ZbXIWNUdiatmyLPBYtEImgYmbBpuCuL+hnUpNK6sO2LfLpIg1AI\n",
       "9z/Sdp/fOH/bkQrZj22D6xir1TJSckvZgNw1ThUX0uLDo7KCqq0lCqYk80Lvrnnnnt0XE/Rl2SXE\n",
       "4np5fJiljCXXhy6+bwDC/c28wv7E5xIUkUhsvw6xvEZzq6AfyC6YcKwYC74Q4bAGjFLa0O0MFiQr\n",
       "FlHRB8GTi+xGTj8YFYrS+xdkisiHNsRmpVuNHHjsIr03b0go3cy7P8C6+mUP8AAAAFlBnxZFFSwj\n",
       "/wA0IE5KX/FAC3VBEWNxjg41GLe8jLPI6Kik/kUGCS5KSn6OrUMGgOviRjeahS+NuUE6H9yETFBu\n",
       "ANU1MeL4uA1N9+dtDm/Qw7/OTjbIsgB/gQAAAEQBnzdqR/8AqGY+RkGwOw34ADjBsH4o5RQ+VUuh\n",
       "/uewJD12rvJW5fy3qX4jpNqEU+Y2tKYVcOXjqj6fvX0bG4sRkaQl4QAAATNBmzpJqEFsmUwUTC//\n",
       "/oywAKodit7gCGM5x7SvMZGweKjQI9zPN2dVkvSw2KT1r+tCtHSddHzOT4udx4oyWexp5B5ov6hQ\n",
       "FLsKk/J+b858wtcTCrMvYeBFKBoSiEEwvck2Vnu4ISnB/i5NSMo8AxDfLUnhdDw9VVcH9lnMAVVi\n",
       "ukO7yff0bbmeZ0KSCgxuxvT0LBe8CeTuqG/TmUdVPF3CoAdirsubvQFg5cz1wakaNZwHvhL9V2H6\n",
       "OEpTer0a3kvsOPW+lwROen+qX1PHsaK1JQWDkf2IzlTbFbh5vR4jXqUiKZvasKelS+938wGqYuq8\n",
       "IUEnu7a4DbcJ3itqrfFyWeThs0q7wypTqoHmC0ZHQ+1pbFKDa9gEO7OWbnv8qnKZgUEw4bj6aoZy\n",
       "v758YaVw79mAAAAATwGfWWpH/wCokDwfc3gUALdwmU9gxszlKs/+9Nny9XipedzsRfr9G0fHJPuj\n",
       "wNywGA6W2Q5xbDDkg591x/u1RHUe936mNgNl+WkpMI/0BL0AAAFAQZtdSeEKUmUwIX/+jLABS1iU\n",
       "rzqJdVsAEVCoOQnMhTkNtk0yyI2WP9dau77GAH8zpYyytUmHtGytvnCGduL9XunROpceUHWha0gA\n",
       "uqNg/dOgkmZTsDQmIEHm+PrmEYDDSIlO3fw9zRHYdzoGVAalp6xWNOU4xvwOjHebXBPZ6w6HipRQ\n",
       "raOOt/yjEUue0hKm5Tf9uHDEpfhSCcW3mnUxx6YAPAjQFcSryAg9bWk9dPmQU/+XJ2owymJLOiWd\n",
       "z1AuWx45dWvSVThqEBax2d4OlCqQG9QLjbvmdYsoKQ78J4puuGxhtL3ZHXiNDgAiGCm5ExOBed3W\n",
       "WqbmiC9WprPPj00BxG9QjL1/SMTrQ/hWzl09DLaZBOwddu/p8RnBgs3yO5uyztE8X9uFrR95CwDz\n",
       "f9KzzQXmj2mbLLPgOILBw8AAAABoQZ97RTRMI/8AaYpSgS7+8vwASsTMpd1kNZT3vDo2kMQa/MrV\n",
       "tAGMf/OO4rz4mwM6vWoPE8vV3lfTbsgwAtcGZXMdotg7dR+2CPMlKApSn+HLOPRejN2Vvd1C6CuH\n",
       "GwmvGSLl3F7QvIEAAABFAZ+cakf/AFPnUgm5kwAkjkxHKgNR1QwGdHUtJlj18rDyzmwtUA4bE8Kb\n",
       "pM0w6S2kV5mc4naemC8xi265z0EToauYhEnBAAABpEGbgUmoQWiZTAhf//6MsACqHQ6MsAXkMvaW\n",
       "yMjMUr/Jyfx0MCPgmkhfUUWvH9GuZm9owojsvfNz+/jshMK8c87MdiA2S9qlqzjSwOXZzw8LZCyJ\n",
       "7z7ars5cNBpIe7zcNkuN0gj58uX3e6RDQ1EA1oFONT+jLKc83Yj7u3Rb/zCH9/OPl+g96LIBv6Od\n",
       "OLK5Z4fdAVQm3QbDWe6pQX1Htd/uLn7MX3gGksGHLcm3J41xThTZnTqYMJUcJ5jPdEhF7+U/cotf\n",
       "brWh28J7nTRJ6dXh8N1K7032U/AOfTVsZ0rGGrWziZAZhUc5PC6Hxk0OZVDnXiFLxxnc8m44BUsz\n",
       "yZAb9El55Crtbbgrba72tzFp8gSHbCeA5aZFj3/FI8XA8IBQuaJnlQ/O0lZDB644mR4wn55Nia4l\n",
       "LF48OpY9DxdzoRGwRbMWrVYks7WXO7f8YvdSgnkYomjFc7vIaHr+KoX27ZwKzPkQceqxE2WsQ7zn\n",
       "UI5SazZEhL7d1BjrMe+l30Nx56A4ZAJwJf7ofTgyMWg3HJUrGO5XywBgIUogZE2DL17h4AAAAHNB\n",
       "n79FESwj/wBnN4S8Z0AVvHZP/zyNvd9dytAbZK0JxtqwldW/J3u8P7hyHFW68MFRYfoAtHGC1lO1\n",
       "LOQK/AA4qCOEpLmXZQdaH2LeSCL2w8cz38ptnXsxg7D9z5ApteH0vrjAMWzX94OCQZ8cstkOz5Y4\n",
       "AAAAQwGf3nRH/wBTz3XR6YASJhY1dQlfH5T1UcE1UyUZhrUTmBykDy79bE0WYDrBbOLTpW2WMn+9\n",
       "Cv/HIiXkN1IEko0Fkd0AAABEAZ/Aakf/AFNUXMKMAJqO4LNxUXhsBZT+OeF6xSQizF4Rkt2zJm4Z\n",
       "zrKiNcqhngQuUgMEuort8uelcMnWlR8Sh9WmhbQAAAEzQZvESahBbJlMCF///oywAKljtsC8IUQZ\n",
       "kPbYDVDKsamdWs6xq574nkdtfgGJMUewgWRBPwLjjJ0EiGYoyzaKtdcJG3CWbPggXhQccrL02ZFL\n",
       "l98M9thtGDEPKoaG0cfiwdZ3feA831y6WAzmCNVeljST+XY+1kzIR8a7Ujiz0kdjGa6ZviftMg2X\n",
       "kMJlkNkdmsbCgiDS2jMrCE7+vam0bCF815mqBOFx6+SK6A4NrrY59InrQaWTDpKOwfkN/G1oU6EV\n",
       "1iuqi4nmkVD9zhG1Mio/O9vEzsXtUAxB69/5hD/vykJmgL1ncOv+OOhaFj0OmEpV25toTXHgHg9I\n",
       "gndeQRumivWJPywiRkgJ2laUNvC/90Y2DiqPKbfDpAkFwDTTIvBR9i7M8/EaODUDscyvXQC8IQAA\n",
       "AGRBn+JFFSwj/wBnCpJYIHQ5wASprmKC69DTFT5Ve0+t6GfUrM6MDLmQhyC79NY8aW4eWuOrT07w\n",
       "jjAsHEMTn0/iWubt/7zuJXvPQ3BRH/tl+H6KEJsSq+SIsSSMBbNfcx4ns5fgAAAASAGeA2pH/wBT\n",
       "dNW+DmAEx8/z7lgOMGIm5T6693XCk+dsvTV8ZVNsRdNLc9j6/84jdMvFGG3xNWfYSfMx7hlSI/gH\n",
       "FzlUzO2RUwAAATZBmgZJqEFsmUwUTC///oywAKljtsDJ9QyM3086eWnJoijTpm9PCjurGCVCaB3p\n",
       "MjrouCeHq+molNG43UTokvZqUfTHwWZT+bA6Xjwfwpsr+PZw+TkpdSyLVJGokuVSQi9fe/pE+hlD\n",
       "+fQaW3FmJBKbt7+qH00UViWvjCNkU+LaSNK9PhzBQnF9MS2V3WyO4KSs63xEWRMfN8FoggoiSZMj\n",
       "XKF0QQyUg9/WPeHmlEc0pghYenoYVjxGRFbAorIVbgZOy18Fkwa+yNsoukQCrLt8sag3ukY1PE9J\n",
       "oaLX7SfAXoHVr7DYdln7194p4neGgwrhG8+LLaE+3oN7wym0Kb5h/0PAPxB+AybLWV+HU3KYpQD4\n",
       "3gjKc6HcHkr0LFaCFt7u+CI2u6eW+VWHENR1YmKI7q8lapJtAAAAOwGeJWpH/wBUL3AuwAH65WR2\n",
       "M5OYWk4Twa4rRVEeBDh+rc0HofA9IBMq8PXnTmGGGrjHv88lgYtz1gHTAAAAzkGaKEnhClJlMFLC\n",
       "//6MsAClEjEnVgAlNS/5fvbztoqmQGD9eQBUyWijAddkUCo3VSENNNGG7c24Mtizt9WzTqfXKKmo\n",
       "MmP+csGvki+8bQOHuQeYJcxFffc1ZaK9lj9wFlvyObSGTEyL7P69AUXs9AXgrze6qUKaGYXHsqTR\n",
       "D8VpU8UkesNtxUl9JCGgag4b4Dl/rQcv+kyQdQxE9vbECO4LvU+h/4FKSlUE229Xtrh3qA6uAdJH\n",
       "NPgXKHnRbhOxum+g+J/7vuRJU0QeTK2BAAAAOAGeR2pH/wBTrHCD3pPSswdL8uUs6AvrAF4b5Cx6\n",
       "IDv7cj1lT2ChD3HkTVnvc37ZYGE8aA1KWYMeAAAA30GaSknhDomUwUTC//6MsAClaUAhDyQqIAVk\n",
       "YghrnTEsf+3dQFMMi/t+CCpeuy/FUW1zYQnYO9DJA330bPwwkk9Uoe2efARM3MJtvasWTX3iH/bb\n",
       "FNrDPD9fsYC1J6ob8zYZUMC36/iu0MsMuTt6X7vF9y5c36v/wnyUSXAz+hke9+WA6GukK/aobTC/\n",
       "lQy88RFoz9QrQHJveIGD7uweUDhaTeaLdV/qH3OypH7WxufIBrNEQLcYE/CTkhaYbo1U+g+VewVU\n",
       "QBuBIc4X3OnlMGm6SYh9uY77YeBXKE11MLgAAABTAZ5pakf/AFQUTbpWLYEfLsEFjspeVm8/OqJl\n",
       "mGnOQ4vAC6BEPSvyge3FVIO0HDHD+AkwciDB782ufiDLCAs7Vib18GccvOFPbaF46M4GD7ciEjEA\n",
       "AAEOQZpsSeEPJlMFPC///oywAKTVoHRACE3p/9oLL/+y/DA4BatX4LzLQVTcybHParFNR1XXKIS5\n",
       "a2apNQvtyWz/KjsF/yS92+6JVSecQqDYYCNNXGWpxE+Fgk4rQ8MJupB6qhFTulBn+zcPuf/MHohp\n",
       "1pzh3JQkPeujNpWlIWyZFzGYXWw/lrgKGDZgMcrLOgUfmFlOBXK/qMoKbmxJGLczH5FVHTzaJcIg\n",
       "IG3xHlLw5Xx0B4F0WRCbuFPKnzNw/5TILVYHAM7SZhg45Q3pYAlFZqwrWIWXjtSPkz/rJ0Nm1OYN\n",
       "nPtpLbMU1umR50j9NXic8Ju8xiOJYPFu8/dlyKp+SLJ4y8aRCwZGdNr7NDyoAAAARQGei2pH/wBU\n",
       "FE26VhgpuGwJ5/hx5WQAsizjHzm1EL9iLnWThLkbVb1SY9DZuuDs0AJT1S530Zc9tIrqtFJozyID\n",
       "2QwN6AAAAVhBmo9J4Q8mUwIX//6MsACk1MSy6xIO1ACKui0+R8BOLW+rJTMmKHS3X/HU78eKKxOk\n",
       "wHfPWyuOR1ateAj0YvQFc5mcmXALjYfQ6UpYyTQtQtHY3qFG9hPP5va/5xZ0oTPT4BZCn23tczUX\n",
       "NcAaMvWkTHV9aHybRi0lXYF3UnXnLlS5FOfOCsofBR5SZ6JL0/40fcu0hIlsBLW+1LiSE89Kkuvz\n",
       "qsuyaZuzXHKJcKHj0W35QpNfy+71+k/JO2Hqu7SxvZ8daEvMOn9R7IPj6PeW4mvnL9AgNVT97HQT\n",
       "cfKLXrFKkjn3amqP+ZdMCHksnOpLAfc2RYr7GWu0nYXbxcscK50xWe8wZHEdAOvAlQIrky4IXg0U\n",
       "toLZ6UZyolEgqvk62mac/RjfetF/GYrvkqiHD+f5ikNOGhz37ROaRSu1ZqS9VyUivd0a07bO2zok\n",
       "TJhmkx7K3pGYMQAAAHlBnq1FETwj/wA08u4AFgZbFrnlnsMnVkigCikbv8mIEKFQUI3JSKEirArv\n",
       "buUSVse6h3Yi/kIs6C/kdvgOZGFy2u90A1ir4662p0ZltBnOPbxIVfEoMij6VyqUIsn6AFYs7lsu\n",
       "ZkADF5WCMneF4RFwiU0D1UgugVLBAAAAWAGezmpH/wBUM2rI8Rs5wiTa5gATbdL2BKNwV0ZyYOYq\n",
       "Px3qRxVxrEVV0IPRV57a26uKp6TN7rq0J7CTj8MV2UCdANDwOUNur+Hwl1fzml0eBmYQHdmihYEA\n",
       "AAEdQZrQSahBaJlMCGf//p4QAwrxZCWGnxN9W3m1R1rYHeUDi1FOdqUriO5H3TthE44lmU6LwNtD\n",
       "TZf7Bhv40kvQUhHU0Yrl/8t1ZKDgLgM3OpMEyjM4lg9i0Vw1nsDkpws/UO5N9sgC6ToeRvv7RfXK\n",
       "ewXdF8MttVnefm6UNrsbY2ZZFJQCQps4VcKZtfwROglyNKQ0+JVGkJIj8uXdzlW6xXR/I667kwIX\n",
       "/3kpxEaI1w4GlfYSbHmHSgXiMjqLn33hvWBVzjEK5n1nzE/ydszBfWKyS/DsMUaZ4G+DBCwMu7ef\n",
       "uVdgNw9SYBEvW2EYEG89xfeAHDuVONJhv2f/8ooQ1lbAOYvGuWTdBiQ3PtA51gaAidZMPP0J1NSr\n",
       "VxouAAABeEGa9EnhClJlMCF//oywBpulMmAKigAAkG3sAGO6894SqFFTVV6Dtdoj0JHPy7YmTDSZ\n",
       "zICI93POVDSKaraJrlaErRat9p2Pke9trZ9dgtGHYSXdSFOu16C7GmH2+PpBZ3tIPp4TkCNGSYgL\n",
       "Zk+sA2iTo/zwuWbWfcaPBobwqKyrMtgs5ivZh/pdGE3FobuKne1ZacdqbWVu3NUhKjyzqKnVprv7\n",
       "d1HpdPkDpOT3CDfdS3BcQ+X1qZyoR56HIPyUlqvQ9QneWiAUtweXZfLrRux2JYTSiqe4kv/vSbYO\n",
       "f0QQawhvC0DLOUPsA+kJIb8pKGa6/hFLeKJxFwaaLrH0Uw2mLk/bXLCaOFb29owkevWTiB3irMfl\n",
       "7j/AZIjY9TuGj4OZbkPiBos9ZEio47S91jcUKLxW6qXLzMKMASg60Py2MRNtDloQSNcQ2TiKgNng\n",
       "h3QS/0QqSDu9Bj4Yjlu8GhQyMnrD+i9KsIzBhTtszI5l5NPJtt3CUfAAAAB9QZ8SRTRMI/8AG4AE\n",
       "HNlOpqPKqHJbYOddltP2PgEFqKVgA0qwAN8D9VvzVuwCYSs6i678CcLU5maOPtZxxj/zWVsrEO2k\n",
       "82mtwtxXjf1VnjJ4cerd7wdZm9BfNa16M7guMVWUZrm1iQ4/+BSr2ZJBFhtZz61a94tE/oTSgx0A\n",
       "AABKAZ8xdEf/ACxAdTYqgR1ABZ9evcMt3ySIj7kpGspDbfUzBZj5PnMAO3v8TX2BE0g/LkfTma2j\n",
       "fre7n0JSQF+vQRZsfVFOvdDfWgYAAABAAZ8zakf/ACxFkWajvmkjPPPbHD+H1Cd6zsl3ZYyhp3rI\n",
       "lX0AE1TzPxjR38hdhQQTAEV4kzZF5Heil/chh7oBbQAAAa9BmzhJqEFomUwIX//+jLAAVumE0b/n\n",
       "xf4sUALN6c0j3pxBDY/Ko60pFCk4O+4jF4Q0rUs3PpwLY7XJHIit/NEvWFhm5cqqbQwMiU/KEFQz\n",
       "kcjomcnLRbXaxJpLZbh9K+BgdTnwkkF+8XbKR8pI0nWkXw3XR0Jy2EZ5Di1Dwuih7wp4WoKuQoaS\n",
       "tPxgrAllcQRCFyk0JWc3gI3B+/c8lVTlSJ2YyFWQ+eMFVofO5rAIRVAoTQQgtVIF1CeOieTaqvWE\n",
       "NjxQHhE3bJFCjEovY0bTvcx9JsliHHbm8pm35umD1kMMxj5pvOi6viXuBik3QWd9oDe+H0RW6tfI\n",
       "LLvmYws1tJ5+aBU1EEWWswwkiEvakwy6Wzlp36fMrO9E3RnY/UUXm+uNRr4GcGR61sDvyG7ixX9X\n",
       "P9V7skF5ASSnp3rVde64hdTeBxgwQb6LJDkqGhc+MWlEKWsCQiECT+b/C9FoWcRWlEoU5/SX0r3n\n",
       "O4vk8mSM7KjHIwVbjIxzLpf/PaY31CdHaI0XgUhHvDO01QNOZiji/wNvFO1COBROVwZSSfIG2gCb\n",
       "FWCQdl7/xBw6mQAAAGhBn1ZFESwj/wAbpn5efD/c2i3+4sP0dsI9uAJTiwOjgAGyiu058sPonaCI\n",
       "CrAGrB8+wBV/WsbKpM/hiG3XBgrWapHdEVbYlmDPXb4cp4cbAur8omDeNQh1FGWX2cCR+ipgVa9s\n",
       "Y6c5SQAAAEEBn3V0R/8ALFvqIEsBuSLR6vhS7D07PkNh1uV0r421Ewwnc6g2qqXNhqAEsM97DYo2\n",
       "h581Z/FjI9oHIM0XC2xBwQAAADQBn3dqR/8ALGM/kzfe7+EvqcwCWnrirY3oTBu2VqLWN0GEbhxK\n",
       "y+UQmIIKjZMdtnt0w8qZAAABt0GbfEmoQWyZTAhf//6MsABW6WzOxpjSEosdKiAG1kyNSAwTfcIg\n",
       "/F9Ex8Y7ZktHUI1Qzma3o6SBosW1jDwGvHSzgqHnTV+Zwrw8Ul0fURCsl5gGy9YmMLX38ikYeN+U\n",
       "ycQ7HVcmRYj7oS8TlShv7nDpjdht5fsXZXcVgsO9f9dpO/0+TrE/qSWdJieJyZob8JG9cQkkIzUK\n",
       "4ysXwjf1sGX6wx0D7huI4otH87ctIrKzMXrH6W6sE0Jw9s8NZaZ0nVStfMlqKna+rzC47usAieCl\n",
       "uNDpchbbxJ6BRrBtAiWIVjwbxGm6j48FHvi7zg2GN/YA6s6o9bcSnGrkRhnhuF1WJ2slZQ6nZqCb\n",
       "fGPth4vzA/+zIf0v4vmjBnK3HiJGb16KuURq+Dxf8sENtZvNQBjP7d03ju6pJd2v4Li0ftuTUhVL\n",
       "p9R4f9upJS1r+j4nBX+i8J7GNU7q+hjIZfIsQE99gOcaxq1cxxB0IBFN0+1piYN4oL5KbvDdsTRg\n",
       "l5rU7rCUL2xhCXNbqsbSbARN/h5ep+EHhBDbbR1lpY99PnnSozld52XnHccgyWYYhzAOVShy+xpK\n",
       "jfcAAABfQZ+aRRUsI/8AG6jCfXJUf+C0j6LWQW8P6j5Q9OiODsCDLy39d2+GgBazW1sVK7AlJPOa\n",
       "Cv0ZFQIUolA6RpYGD76sLaSxzFVguZv/yV0Y5DJieVtnxdm+9FTSUrMsE3EAAAA7AZ+5dEf/ACsO\n",
       "VSMn4RLIg5KmaD7NPSD8+gDwnFIWPd2djt5OKwAOBdXwOiO/stJGAvw+ye2T78BMgUEAAAAuAZ+7\n",
       "akf/ACxYktRHqEzUy2VU16CyWRD13zsdzcHMp9va0kVvlpe81B4wVFrFwQAAAUZBm79JqEFsmUwI\n",
       "X//+jLAAV38ziDQ3JzqtM0Aq8BiRR9zqVPFw0wn9Jc4/UuCap1wnmkS+FvEGIglQWKI6TWYfrkmO\n",
       "fh/OVEPVRMmhYJ/7qoSE52JgzI3c93vTa1JDDECWNHaQcP9/UKfqe5eUUL+pjLTMK+ZxwxexWmpD\n",
       "tvAFl/TtzdL8nd9/CO0wqUQly5w6eDV95mWba6TKiSgjC/wpPZtBrXebO2bJRKmA5G8iweND5S61\n",
       "v69aJ7f5PN8nKarXb6gb9b4c2rALY4VUd+HUACtHFbbYXvyxzyORmRq0OqyEQ1/n06/js3rb8DK7\n",
       "XWlC1jARHnuQliKLDRGn3b+acEkXjcCs4UnvPuv5PR2WVGtlAZY3j0adTjRKWGvNS5Lyp//nCZtP\n",
       "pocbud2w2HUcy5BvtiwSVg5C+5iFHHOkdn5b7uMz1wAAAFBBn91FFSwj/wAbWq7jOMdoWDnrM+Mv\n",
       "OhLh9rPTxkoG6bj1xQALSwSZ2nQqALTQ4JvXx0KY0mQ73afMYQoOhn2RP+mcBGvEpdzmGSnQGSiM\n",
       "rwAAAC8Bn/5qR/8ALEhPU56Yms8CfmpBqnepy9stCL3DyYfvAuimQROUR8sPiPVgt9mJ3QAAATdB\n",
       "m+JJqEFsmUwIX//+jLAAVRJdq8PAgARUtUgx4NvisJtjodwEv8FcDNcjbhkKd7wGNeTyQyXAcGUE\n",
       "j+JXIMLl9thBzWuTGXquasUJjjneRQJS6DaVkEuIfOxnySdLIaJiuzx0sKwtz5G35u3Fix/f4pz1\n",
       "+KEC/xp+CgxIi7bzwBUIIGwDxgIsaQLGG9tS35gMQ5DUIA6x+sJRJGL58yPNpjU7hOQX1atgImRM\n",
       "ZGXM5RUHF3xcse5ZF9z1CH9tfp0zHyF8OdaKpPpDBA9pNnoAPE0uFErU8snVmhMREZBjCQVNWjQx\n",
       "8GIgLy3dI/Yt1emr5edWq9mI4fMqazbp1y7ztrSGRow2hxfZcbg5bSyURPwqg//uV6ecMToWOw5U\n",
       "9KCgyY4KR/OMUn0UDajOp7NjjfWmHu4SzwAAAEtBngBFFSwj/wAbYS4OR53McXkzTYBE9l8yyC01\n",
       "cFpBf0RE3HCxghrqBKbvQYHyOlKM3Y2sbydmgBEHREWvFw0Lc1BUd7Nll1pqkkAAAAA2AZ4hakf/\n",
       "ACxZP4ZCDqKsd3TWcnZRl4dWABm1TMf/TW5Mvj08jLLUL2AKqZL31dPo+sgHhOCBAAABCUGaJEmo\n",
       "QWyZTBRMK//+OEABR3pYTvSAG7B31iYx7ptMxgxhnkM8jRIOeUsXW5SAzcfgndnq+g5IjnCI+dNk\n",
       "FTyiZnM1KzWioDx1bFLK7/LGLaWNAI+lVjFwAV6Hx3WosCayShINbeZBfw3abAaHQvJ8jrFJylKs\n",
       "fFGhJkDbaAmeNT2cEv4rZM73GpeSS5H8a4r3B43x8MS7b3I26nsbtY8aHK7S52lwCJOvVdY9jje3\n",
       "YrD9q5ZMfL6IJpBs6BD11eBmm8Pq4it1ZYfNr0Pep6wByF+mA71HdL/5Wu16mm7WH7LQBj76tXZ9\n",
       "sFCcJCMqd7GsJ9bnOwMP2ZeCva3Bl2ouME5WtueDAXAAAAA4AZ5Dakf/ACxkCAuCS/S5xnf4vRov\n",
       "nhr1BBh9ab+GwzLs9jTbus+6oo7QaASY2TezHAxnLj5vI+EAAADgQZpFSeEKUmUwIX/+jLAAVwNI\n",
       "4Hgs8EALNAgneKBl4FwMsqhurfuEahZfupTo/2EK8Yg+bnHR5LJ3tMKeQa/Xd9KianWzvPN/wcge\n",
       "QhT0Ba9/zUK0Hc5okVfJEIA4xXWu3QPKnYeDAHwDHWyaYxUY/vak95B6yncnPPZOAX8kjMqdI/jj\n",
       "7QBkQ6XKokm13VovrpW2ZFEahTHLsMo1OdITR3lSXAxki7hjJBly5SUWwmIlg+XR/oSEqXN8qjnN\n",
       "hrR1S92eSnzKYp34Cx55sM5Bj0PRXdGbW1PoiJFHMZwDEkEAAAFfQZppSeEOiZTAhX/+OEABRkuI\n",
       "lKb8vYAWBnZQTOcTWzfnqfvX5dltRDPkLxOTzAwG0tjDHRaSJ+vgIrNG3ENIMF6ivZGh6T6M2gNz\n",
       "SlgTlMU7taRWmOycEckFUwT7SjIJJW/xn4Wln5mysmxtMuA+VY28Y+jVSO5AC3HWvrJ1QqGzqB0J\n",
       "ZRWDm7N8FG8JesLfc5iHf7//QjuUVZJcLWCAU0fwJ9dJpmx7TQ3a5fQf8oMh+6o856A3yJJNpKa3\n",
       "HBBmKpVP4A85JMv4gzkdHvcqO2Br1Xf+a2YJMJ5Jrhwc2UzrgDVxkckPzQbE/o7+Ss23kG0yLSOw\n",
       "nKf7kLCGmNnKFzzz3QlTgBdhYsDJZpy5ok6pbA0t64V2+/ziHJtt5+DHg94g+bssJ3y7GA4VTvw/\n",
       "NYkL47nFeQHzL8vNoXTvqJXMYgaufuh7M/zugHosfJuOM5T0hi48etukbQSQmA5JAAAAY0Geh0UR\n",
       "PCP/ABur5NqQNib0jcIrpR4/OE+zn1sACUZwCAcL8LUE1B2VewOWWZgFsIw0FIXYB9lX9qYP8z57\n",
       "QkCj0HuGHL7ByK4TsCqMnifXvS2ZmNrdHc4IpsGpMKAo7FFA4QAAADkBnqZ0R/8ALEK+3zUOy5wv\n",
       "FYCBnMVj4GqfwUHsmBrmrgcUAKKRskQvAEzf0/+EaYACznTzsEtk8UwAAAA7AZ6oakf/ACxZWLkQ\n",
       "wFKUirNwhABbNDf0GB5/G3eVBhcIZShNaZvtT1W2zE6+TCDMwHZx4AVTthRPk1sAAAD8QZqrSahB\n",
       "aJlMFPCv/jhAAUduPmgAcYkGnyQiwAgCNCD8T2CMYut6bBWCL8HaFH7ye8eDCXBgAwr0+8SYvOn4\n",
       "LKsH9Kw6CjkLQQEmckcRQFlaDxVeC3bOLFe9ytJztD+du2vwLfC9j44V/YT25lFEDoU3HAJj172i\n",
       "FVsyouxB1eVL7wRxe2Oeohpbo/UAJhVp60d5u3kxMRcPgdt4MBwo7ubsDJ5AClJ0dHQNLKNumvHN\n",
       "PIuYbDjlojrkp+wLzxEtPo7hGPvRUAZZ1PAxWuQLSA3/05qdlZ+Ldwraam6e2Z19hFtZbVUd3EHH\n",
       "c+MYFas68MRtVoO0EyvfU/LBAAAAKgGeympH/wAsZCJHoUiGhyJHySpjrqXhy5CNiKHze9i/B/1L\n",
       "minxx+oXEAAAAPtBms1J4QpSZTBSwr/+OEABRkY6s08rLACLlWxA+nHs73CgWulsZtZMjnNZdDA+\n",
       "fXNXrcU0owK1xxZqiJD7cueEHqUzAs8LYCmYT22tZr/M1b//9WssylMTsxm4VcpOb7QRjpi1uQs1\n",
       "dTrvjupiIUUW1TN8Zh6DQrkzl5H8LvMPvreqEEOSUXalIX/2/srp/olwdSby+/Yqv1grmmnlFkOy\n",
       "ZRVaYLF/OIwInmO0z9noVg4OWNgJr/mYFuULIY4Sn0DUmOBs5YyZnU6B67IvuDCVxqfHuMnnYYD0\n",
       "/Kh/a15EawX8SoUGkw5OMyhez17q98IEO2sD0ZLNfjBELgAAADcBnuxqR/8AKyiJ07knkeLBCl/y\n",
       "DB4qfkUdQtABci9EHd5U2NzXkh7LLcci/+/5MKju8TwTnZNfAAAA8kGa7knhDomUwIV//jhAAUbV\n",
       "/NgCBN4s+Om7QlWwjAtJr3wDbsBhM958Dtn6o1+DTSjAuOGnUnn/dN79S/XXuRzLDcYBlnoNvUf7\n",
       "+nKPgGKa2b8LJFfLXGPFgLs9NrspaXlsCND6DRl32KXop4s3ACN5whH38E4brVqsq0oB9hqbfhJy\n",
       "rlOvmAJpHTyU+3oPFCHipm5WJP3QBl8g13zNCXfAk5XuZaEZ+C7Y+0jtjVEuXXS7R1cN42KY66C6\n",
       "QHP57YKC/KVN2/pEhGqrgzjoDkWBLm/Hr18t80nPq6nLQ7gnzDVGGCmoDpPULZMhD00mpyhdAAAA\n",
       "vEGbD0nhDyZTAhf//oywAFJrD73HXk444AP4zo/nyhHUEekUD7IBhH2vg0BAt4axw5d69BxPF2+G\n",
       "L2i56HKMD2ewxKVIbI5xk4gi1PvXy9hGLKRDeJpBjyWKLK0mxUo61j+4J1twTu4KIEnvdV5VG7IP\n",
       "Ixc4rG+7l7XwYFERk/dCNPzCmuEd5XHEhB41AJ5qAE8YOFMQ+Ieg5ehKxxPI2RfEIuCASn/4UyPt\n",
       "noKyPJ6hn5d/iWlABdmXq/iBAAABLUGbMknhDyZTAhf//oywAFTU8TUnaG5LoO+C0AG9XOO/bpJP\n",
       "HKckOXBQ09J87w8rOYuqtOZjh7+e5GJ0Y2GNlWOyMRYF5oAtaCvUdkiGNgKmLxaN5zI2QAKZc/oq\n",
       "r3qZOT4hnyYCCLOmf0yJZxrHdCbaJs291JN8ALqAnJeJrPCHK2+YkHi9JSU7vpElBRCApidfm0av\n",
       "E81BBja+mzpTvcfFVl+haIdBegxxrGG4VS2eZUjOYBuUWgEE2MALP+dM+0CR7+3UBeJ05twu6SoN\n",
       "7OEWx+xmPOBHSM87a76NVTLdfjGBx5dt1pqWnm54Zmaj1v5UXGebHnQyxuhZMnjuZl3KVOMak8I6\n",
       "bFsmaMbzYxVj6UYXWhI/zimyMozr222kCKZ4aK/sRtSSgSejDtMAAABLQZ9QRRE8I/8AGwZz79gD\n",
       "315WRAA+mbvtIyxGJDOP+XSJRkTPzsuRgeLxmwsDjujHDbWzbmoVQ/5CUNnSFNCsXdlUcQXVUvYz\n",
       "8q+EAAAALwGfcWpH/wArKfOZzxb4ExXibcRaexV6NS27Ib/03UE8OXoiMHne8Dn91wBpntThAAAB\n",
       "SEGbdUmoQWiZTAhX//44QAFI3bICO+Krgr+pUztJFGtQiMnZ5YKw/lMoCGKncwg9k4QoTHQ3MmaZ\n",
       "gmmhK+MN2SKVuVMqrzk0hQVcWyTGWC/NzSW10VqODU9IWa5dlrvO+u2DjpMK7C1lCddtww7jBeez\n",
       "zMUGDf76Rm0AbOAsGBbVzgf2PfCbwv9t3uXn1WQszGvhFQPzhqvlDOgM+YGbObMFTXNWdjV+YZvJ\n",
       "jKfTslZc7ry9IE0iZrxnbnjOMRNKRPPEgoBMSn+AopthKtFyMaxM7XCiEbsVsivCHmrqM6pdro/m\n",
       "5yfgfUNEMsn5BhUpJEKGcsJF/JquqUI70pkHZOsDQLFaHa4X0rCLl3eHVlzF3Uy5K+kK9CL/97d7\n",
       "OvKq6wUSOjKdHu8Juu4T7u4AQPj6/LQvZBflXmyYi2aI6eGhGXRRhuEpUMoAAABLQZ+TRREsI/8A\n",
       "G6W1F9u308HRU1z429s6SrfU9HHv4Ildtj5CmiYKw3w8NlbwRhmujgZKYAFe0IHVfZRQ5RmKWe3i\n",
       "7bp6mP9/zDWwAAAAMAGftGpH/wArKhFjNVmnrDlzzwn7zp7gAi4gSqqdK9p83xPRttmjUBAwtgWs\n",
       "N9ZbYQAAAQpBm7dJqEFsmUwUTCv//jhAAKejD8x92IABcjhpBOsvFvhVBlE/Tjbvrl55T+wXnqAT\n",
       "KBSVGYuTb/TdNlIxTVFvhB6mikhmuWAooPHgNddc37tI98Hu9IS4ENIyRRQAsAZiyK4alRdUc/vV\n",
       "YKkIctNd1N8cWqzl8JulTmiMd2xK0EAkuZmwWWAQlg7LYIp+SeinAArcvSgTyiWRwMxL9H5LdXKd\n",
       "CseelMCtki6vpAEdniKnRJW7zRN1yTZAF6zfzoZy1oWaTpn3VMA845sjznA5ekpxdT4zVj1X0BLY\n",
       "lnuT4HcIc89+kXBhCZICOsq0jxcgLdTDkg7H1Ws/lPdm1diLYO88UGGXOCBqTAAAADUBn9ZqR/8A\n",
       "FUnvA4Nb1w6x/FZfHSB/2N7Xnk8zrD3JouyJnLQAK5hnZxMBOHDNWgkgfzu0IQAAAMJBm9hJ4QpS\n",
       "ZTAhf/6MsAArcx3wAV6/f4xiJ4C3QqeZnBiCDbkaHSkoQnnLT7NATq4miWc6f3m7jMlVDnImIJqK\n",
       "HtfQPOfe8U3wJG685mKQ/zO+TOWBvBmTT+aXlT+zfxjwerEyjOD7hMipTyxGlw2FGlliKffJVOQI\n",
       "kYqLfDEh3iqHZEaI0Vyn/8vS5a5LvphMp4vQaz5V6Clca+xMwEvcDu/A5SAmJHwDGnGivp7axZEX\n",
       "KkLR91JX8lSh5og6GSNDzwAAAOJBm/lJ4Q6JlMCF//6MsAArcx3wAcl3/PgMQQ5hiO5EohLXLNd4\n",
       "AXBNNCfHujAhfRXt55u1cXyoO/A8ec+JLkij0TEDQtj7l/+Gjh0ROnIN6TVLXNciELwwfBqvRedI\n",
       "37TnN1XJDpbXIWU43PAEZkFKU74bFTnYmEuF5bYarYW6XDLD1n2WdLKZ7sd6W6a+uyu5uHEJLYhZ\n",
       "H70hXEYwKwmhTYndzMVNeevr9WoNdra7XT/F+IIavzON6s3KeexmJTtw6jruQNi2YEpn6QgkASOr\n",
       "as5T0dmT2OQWJaDIrtWT908gAAABUUGaHEnhDyZTAhf//oywAFC9zRLPHJZRvIA5W3blf+sfOmpu\n",
       "NJlcn9LshhnWD/yDm1LyqxLEpO9yljU/0m99gErIlNUVDGyY+xEHrQEl96v8AjGz5wtFfutcNVf3\n",
       "RjrUedD+gLdVvr4l4bMTpCjxIXdsRE4eASnZkQouUI8e43TxUCWtkeYbpTb1WFfZOILq6hTSJgcB\n",
       "Mz3LPaOuLbQ+I1Etv09150k3hWBmHo0NR75fHoaxqOPiozRIwoDt/sMNANRIM6cYeyO2S/QJdSQr\n",
       "GGyn6xIImFJ4OLnjUsdFkFXWe+QnNnG9JBVVMLYYfhv8q/M+JZI8jtsgGbtXhW6EBMKfQzhfr8HH\n",
       "APrIS+KbemAW5TpWqgDyudpbUklyZPn6gxe2WVFVyZM0Uy8QqiJvFnxvtrEWBf4Yhgnckh621hmw\n",
       "eI9VWA6NO4Ebrsvx9xOaDTkAAABEQZ46RRE8I/8AGm3Y6olHUkEd6KYJZNM4yPWelNdlN2N+AUK+\n",
       "DYl5xJhABxspQsPPNEuczkjN2GaMozE0qi2hX1DKaLAAAAApAZ5bakf/ABUCeMopUPfWx9q1fSi8\n",
       "r6C5H4O+xACUdGb1H4DPg9Kf2eUAAAFqQZpASahBaJlMCF///oywACt1/TRgByl/EMhoL94Wt7/B\n",
       "kA7WyBIJCn3CGPg/UGum/E0qedz58MhQmf/MQ8UfS8R5aBrQ1+owXQvYBgh7PUFr4OpdxbDFpIpd\n",
       "mS4zDfFYzqHuGTBZ38lHVZvF2u/v/tfobDvFuBu6JQtYG1eCe1URD3ifPh0+IwqaT3JCxqIDRknZ\n",
       "/jNivxtnXMlgIrDB7ybvwj6/A0ENOVgvDvQIJ9RAjoieypNoXacrx6DU9+QzeHCCaWjPRglmQPbV\n",
       "2DfN9u7WjmUu+ySnROEGETBbr1W+LsXhx0YxI/4zoOPyUTmp1SvUlHi+nJoKRCz906M/J5XLF8rq\n",
       "k0ni3vz2fZpt8IoXhuEjMAqcMjPhg1LZnamKBpEmK4Z+DVbDRfZYYZ7tnB6gIMfsVXyd2n3vHpXg\n",
       "SNjPZZXTGJi8iISY7pon6pu/F4VdolEWyTBLxvEfxkD5jqBYVyp2F1K4id0AAABlQZ5+RREsI/8A\n",
       "Gm3hIvwQhEJ5ZABFIgA3ULtViug0OQPQX7m5YJoeiXDpJ4R5jimVmT0lpb6lc+LXKyu4mjOzWEfH\n",
       "lkBdoSIkGEfh/VuFol5ua3zPILBxOh9retvMf5no6Ij/XlsAAAAsAZ6ddEf/ABVKxEfXnNH6Mly1\n",
       "raolbYqJiOduay4EfI7BACT1AyYkYCxre9sAAAAvAZ6fakf/ABVJ0OGd5m0XkapYOj3ZPbL1MmRK\n",
       "XQDN3k4fUO4AKqEY42+ix3qwPbkAAAFnQZqESahBbJlMCF///oywACt1/+DAHMPW+AFdprgzh6NW\n",
       "IzK3rx75eD9me/odl1VhbmW+HlaDb6UZ7EWDJLVW/A0lBx+S0Ur9r6XzXM6nIwjuFxNCIfwmDJC3\n",
       "fswgNdxUIwXTNdf4Oe24YOQNxCbWom8HyEBFI7LAs72DgtT1oH8hSPFQoGBjHZ8NoOTOMxnzhanP\n",
       "qXC4qcn1qLaikUsza/x/5l/vHrNxOCMZbtolN845R6jJlrEQVzAJ6Ip9EqG4aFL7Ts49IzTM/3dZ\n",
       "USOBnJjvcchtjQOomf64eFYAjMJ+jV31K+1dWbDw39TmGv/jczXA2+fkk6zpnmRGd+RLTDl39Ftn\n",
       "7g0l51sZ7Ui/nfxYjSz24tXG+dXs2sfr8mWTzxAzyWATG6sXKwbGrpG9ScvrMPVA6eIURTr4Wun6\n",
       "BRTaCMtEiAwFR7e1QLTee0MzZ4WFP7qwJaXQ17dvxWI4OQmip3vipDAAAABcQZ6iRRUsI/8AGm3h\n",
       "J2VKojq5wbaKKx4hd2cyuOzFgKVcsiFJk2WSLcA6Tn2Cx5FfnxgbnUrEneFPtDekAIx8mB45+IA5\n",
       "jQWpiPLyeYF2WidqznrFB0nhyYDaFGEAAAA3AZ7BdEf/ABXc6+TKlYm5yteTBFExD3pBWwZDt8Fx\n",
       "dIUkxT+Sy1eooAIzGpMWS183Y5Yzo8AMoAAAADEBnsNqR/8AFUnQLs/563FpBM0vuc1gvSl6ymq3\n",
       "XnElsGHvgAmmFyVjbGW0HFmRmxHBAAAA+kGaxkmoQWyZTBRML//+jLAAK6h8ukOfzIADjeFZBB0j\n",
       "mujgHqbs3ia74WnGilhyrXgO38T+7qQed/aGF3S6t7MVAoGXBw/yzMs0HdqzRuDBGVQYp8gRE2p1\n",
       "Otkqez3bN0FAgHVNnXWox/EPZcYHk7dPw4R6Z1LVr8/rOPIhcFYOVJ7BLaGQyfLw3kScimWFSyV0\n",
       "9qTT1rwB5dVI58H7YGQXf9QzjAVb/4Epyl8+gF9xGPSr3aZKSIqsgcG49Xj23eEv905tmZpLCz7P\n",
       "AI9l5qkH8ZP8/M6vP/wNYeXiBZJoTYE3PEDEc47q/Jgw6HL97Mcj936OemuEqmEAAAAtAZ7lakf/\n",
       "ACokEKTV6BOPFaZvaoJO2Mdb7/f2+n2twATBoBtt/RzaNm3U5TKBAAABOUGa6UnhClJlMCF//oyw\n",
       "AFKDTH4vRKFD4AUEUXbrUCp4iScNnr7EKb+LP2qwj1LnGIvXAn4tn0xd5lcX09OLj2swzr7Bt5LL\n",
       "lvOoL8ZJnWz1xMbiJ754/cuZEYemc6Ij9E0p9CDqTHM9X1PYW+KvD79y+tZLY0cbLrewl/O+u8UF\n",
       "wlVcGdPncckLaDl6D7sSp07d9AwlV9IsiECgv8Es17+2g2xz5onE96F/+KjoHLw/FcbxHr+K0twz\n",
       "W8ta87jFZ+6IP7MlyYsN/JLpmOs8cbfmzm+I+2qLDSmH9lG56otmqj6S3RWtFrUxns7PV3waZ008\n",
       "GtE8SsaKyxm+lpUZXy7i3I+2YIzEV4uBri28Nb8VRxg1Mti8+vs9UOOZpZjLXz/qFZ4uvoGBa+uV\n",
       "cc8hFwsHgANSiWl6mY8AAABSQZ8HRTRMI/8AGmKlKCoyFlqc60oRVcivLTjqYoIr/h5G2+b78Pi0\n",
       "M8a/EkEqgBJqKPWRg4kTkgwuZiEpSIDer+yJkZ//CFTdweqlgoYf3zf7gAAAAD0BnyhqR/8AFhIT\n",
       "yffYq4qQuxcRLpSVNqQopdcXaCGGRCAA79UfVTgNWhDxRSmmyqGJYe7xUaXDL8c68LuAAAABDUGb\n",
       "LEmoQWiZTAhX//44QAColT+8hQEDz0XpIFSNAmoSa3TwmKqkmT6PY399mw0Bd3aWR8g1tM41vxfQ\n",
       "V63ngQgbFVWUASlO4Psa5WqX/jIwbpj4AVicAuGCX3RlKVF+YFGn8RFID06MRWDKSWVxw6lcCJoa\n",
       "es0WmgWEb5YCz/A2PeN21CCqp1siahAfJr3y/euVNS9OvPVIWqq2f8wVbHTVegIjnHoZ/v5t4mWG\n",
       "bwqbW6HdEcEboQfsXEo6bIsmyAjqBip4KAT4dfpjk2K57cxVzpQhLCGQy9bcDrLMQcox631FcheM\n",
       "2oIInN/7C/HAA+Mo3LuKmZ+P5GmEXNBw0fGi012+3FrL0G5RlBTBAAAASUGfSkURLCP/AA3UvDXV\n",
       "c5VeyGtK6YyfHOg07kMPKcfGprfAfMjtArSkgAmzXD2oKf3+SeYb3HxnTcvLXWPdIzZyspZEo4mB\n",
       "nRAAAAA2AZ9rakf/ABYV5U15JewJxdUnU7bPya0323BviACyw1vPsSHPR6UnzT3E54uyHdCPx+60\n",
       "KwUwAAAA8EGbbkmoQWyZTBRMK//+OEAAqKBXegIJWsmpQ2M2C03L4qV1BE2vITKm0A3agflm0Uz2\n",
       "jLTheyuuPf6YEQKNfH8XaXZX3LLVxdIk5kIeGfOpybySf7M3/TuyxsC98qdVm2afitxBlZP/6G1f\n",
       "Bbck69QMkonTf7mPylRdC6tf+lkTwGE+GG975hiOV90FbdAKc1/lYdO6Yg9ItQdlilL7hj58Fh9Y\n",
       "f0NeLpumfN4Oj8HozqEHgvo4qWNlV046KwVJZ8sKuYC8oIyy8xX52L7NT7PiPxx/gdWlKTtOp+EC\n",
       "S7TUJvoHzuDZB5rqFT9n8EvEUQAAACwBn41qR/8AFQvC7PVYKpztTv7kJIC4wcm5JymKUtP59gAm\n",
       "zQOfpYgYcSwSUwAAAK1Bm49J4QpSZTAhf/6MsAAreMyAFrHQhFZo2W6jdBlk9biZmbK4wYdPNBIj\n",
       "+EfxQtEkw1ofysw/AqV5W2veHp/Cg5u554Czng1rANeCwYCKD3u4Kpxqwky3dOJMkQmR/WrEiAGM\n",
       "V3Q1BwldsxQCEM/Pr24jLnQrfB/kGBy1SQaU5paC+wt4uJMjJ2dMpiN++0VLvdRdzDrWZHm/6FOg\n",
       "G9tz1wk0hSC5uBRku7Sq9QAAASVBm7JJ4Q6JlMCF//6MsAArqkUrPzAIyLPUMdhTmwv4Phs7D++s\n",
       "rO+JpKG8fT6Yztbwep3ZpeA0GReKJzIk6FwlXsSzKriT0LB9h6dY6UTwTc+lcNuH0hN2JrQM6b3C\n",
       "2AZFCfQXvGwrEtIXVm98pLKy4bTwXIe2CBicTxY/LUYrRwOWKFxDgY98+1mVIMkzif34Nzl+eyQX\n",
       "n6MvZgxTF5qAVEsUHQf7xyPK+xdQiTeyc9iXMndxtJ33ejnzO//9/6K2+LV7cpm6UevtBFX1lefE\n",
       "qTuW+I9530FOl7xtJTFhlZwOpK72V24UAAvE7IzAcbAbMjBNqTuBrge7wDEMCLGaqSZpT8S2X3vl\n",
       "iCqtd68Whp6Bj7vSklUmdInlJE7heZOlJ63xdAAAADtBn9BFETwj/wANyzQDzVUAJkmXemfxwIGa\n",
       "c/9rqJI6vOIE8xbLGgAfMUg2g/oYxVtwxebFJI7e0ZPggAAAACsBn/FqR/8AFQvU3ERZ4tSdmw+2\n",
       "z35nE6eSgY0eh9hAIrgAnDNvVkGjchWBAAAAmUGb80moQWiZTAhf//6MsAAqTMlWhgBGR8GUr5Xk\n",
       "qLMUGqvMrKuzhkv0EyYMo308zSGNbqHCICXoooW+U4TKacxyB/JO/hJjJCjXfldQRQTCxMZTyH4t\n",
       "am0M/FyZ5wmswjTLwcnuaBwdDf9h9587CTCHirFnIY5Vm/J+Q4woERNCo+zLixW80e0HOTBhMPe4\n",
       "xbHSZbkCpL4rjQAAAS1BmhdJ4QpSZTAhf/6MsAArp2042cANvQ10adYFIP3CkBWEotmPSC5tEAIS\n",
       "GyyqdcxrYjRPwyyduWcdfLzHNpbht1KtAN0RUZ9lrpuju/o5kWPYr3idZCWQEuHvdT2OZL7pNqFs\n",
       "KQXEjU6WzUcQE419+oImT8W0BzDny1zXH23BHvTTZ1/nMQ1ZH4LNux9RyV5ZPddyjpvasJlFR1xz\n",
       "MilHLvN/MOnQLsv5bl30NvAlLyGKhI6r31xj/TdxtQEyIAm07PTTGafXEaw5An+FS9c3dn5ae0U7\n",
       "BggU5eewNuU7Ae9YmuBijDcCooV2EhDxeU9UMZnC+DHs419wylYsYl4aE1zQeuABdMQpbsqk2ONY\n",
       "lcA2Cb5DsJ3jT07249EbLXEMyI7E9E0wzs45AVR4AAAAQEGeNUU0TCP/AA3RK3uhwAWhbjO6nc3J\n",
       "WCGiOfha3ncGyAmkYhRqdNxv555gTGTg/GbgFlksDXCrPZAcmXsqemEAAAAnAZ5UdEf/ABYWyd+u\n",
       "zEsSf7lcYXpvQQomFJvEDAHPF7YxOWdosiD8AAAAFQGeVmpH/wAFhyCqh4K26vLQCA39wQAAAGFB\n",
       "mllJqEFomUwU8f/8hAAJsorwlcdMkY9qABZ9PKrBYgHRrIKSa1nkqOjWtQEM+GHKL4zOdlPOcbII\n",
       "zk8NKXlUdPHbFDrS4eNRj34ojQuEC/L+6N1d7XwUtzaps8XEeUc7AAAALQGeeGpH/wAKzm73zHRb\n",
       "3Ccbip69ETrS+tmt0btCVIATRikujhXWAnbZgXfUmgAAEY1liIIADv/+906/AptFl2oDklcK9sqk\n",
       "Jlm5UmsB8qYAAAMAABGwhj/OHRYZgPMKDqU8jhN5i+4IF5DyYaYSGSpIVUiD7nVszNPlTNUgDvQP\n",
       "aYqwq8SN02AAATgASlkew3X06O0C2l0WdOJPI5+q3Ph8fnNIEtWd2tc8xrgaArmMQMo6NTD6/kBu\n",
       "Sd+KISf4ktb3PHpt1yM3BLueaRwEGlGzCTTMPo2rDKcWRav7fpWIAfaiXmKYM7n7rEBAMOD7ILPW\n",
       "RyW9kw8ompgNxXQ8sLpdIWtwyeSBm++uM9VYGJDwCQy+w38cKIpzw7jcXyzHeBrb5RjreIyZZp0L\n",
       "yWmWzc3+kJkElWSpOyT469dIwV5F3hAbVao/qSCDSlv2gtDZ+Y6xKkmkhTeLGbt2MiAFp/pP4b8f\n",
       "dI5/aWemwHJzYo3yQmKhJa4IP7QrhjsJpkOQWFsOjcY5vS5AfraEv2RMqju1uGg6HZ71TWF5QocD\n",
       "hE6RyRRxXsBlTj9HDi8OOU2dcmzD5HLkU9CjuRY8bR2fJ+xjbfAoz83pzFReeyIvxvaR/jwPvm3v\n",
       "oeFf8wbDa7H0vP4xkmXXzsblA8H8uPcFmxbZmSO2yLt/hQUrE1HPcuuI3a8S7kec//mjeVkR0WJN\n",
       "s3Z8bm68icJ+dG6RUU1wJ/AlGziuHu77VX1wS1AXtbiFf8xWbuSKWlioQRWBY21UgmunMdZ140ci\n",
       "OM7uhWLwiUbENJXpUDH0p3yvJh3YiMPkHUf2b5eW0E+7B7529BwElulsxmQr1PEdkSRHStJ55+BM\n",
       "ME3KJxAc2hCuJuungfHathALeuHlQjrYX+gZCYI3Uc3jsUZm80xDlWuDSoTAR2fYSdEPqEPjIk0W\n",
       "LPn6+U7xKHP4AgO66Au50ssb59giEvFJNEVhwb/f4hBTapzpXquRALoQan5FCbF1iWIYwpvwIAls\n",
       "ef0YTS9IhhfH5JSJfXe/z/+3jyg3aSo4lYky0Rvro2O+xJ4/9sMVcldqvc4HAH/9GEnaHaRac9Jm\n",
       "tnIXUHGLeSrZ9URjXFnc/smpES4K8fu4zO3QrmQHQE0Tw2NfvQWCqz//PCroVLjkSEfLRwFwYcDS\n",
       "w96xf/5vpZKPEbwD+d975pQTuo4khaDZ1TtksW9/oBzxCTYYPGPNE2Lti0GAjev4h6yvks5cgrNE\n",
       "PbaWSGfFTS7/f24cWEGI3TAQoYM2v+NHcUjGcCxOP6ouZTA7TVbMfog0qAzQh1oMQVe8Evu3/9+i\n",
       "UqrtOovD83hJXDjYk4M3HKxILcstXwpD7Pz4mqboc3fdOpHgb67ISMFopJ8TPN2iCuDI+9CSH1Di\n",
       "szTz5ofVYZ3q3ZWrbjsCAaNtcBYEFl1x5gGxCmEppebXEAtDdZwID7LSm+g1DmnEVtW1Wgz0cd/W\n",
       "54jOMEZCHcAe71bkJZmsMqrLufqx+dHpa6ACjP96808NSObFFki+uusgZTj/tHHlYnqQvHCpGUBO\n",
       "c6JYzGheWQY02eAjGPZpFB21yKvNSYP4hWJRkB+d+DiSmuzsv/Pr3gHlc253RJBHbDmC+7p4uiLH\n",
       "dxM48JWVjkb6OLi0CdrNlhhgO6a5WJ9lVuoPVyKoSU2Z7OnonNznsEMkv0d9YpRz3IPbb2pYc5W3\n",
       "VnLgCzcAJ3cqjUREiE7NsTWzGmT0hFpAxuLJ/wtcrJcD5+XF+p4iFXcxr2dT1HbCu7139mFLyzrX\n",
       "AnM4d3eXRHxq8Sp+OMWBvQXFa7CryRaw3PfV4t3uYQzP6KLyzJxAawAd1D6JtfztV9Akff6N7Fy5\n",
       "/XbNc1BRnkHC8X6AZSpUUoVzwhUkx7p/Zg5dKMiOehEjW6me3u5mzc/xMZpsnWs519/i7/nbap6r\n",
       "CgtShGWcQnz5QRhkOwj8JnbhViL8CKAMPjeew+kTy1MS9DxkEg3nfx6aRYgFtUdHvAFCBJWyn8Qq\n",
       "+Tu78dYHhiw8/sMiQP9vxJ5Lc9e2FMG87IfvtVlffQZAV6/XDvpzwi8RdP4W4wiRrqa64hscTzj4\n",
       "9jkNGuOyBbPI0G4tv9xa5XWyvYviLQ1W8/s8mRwT8nnRr2Krk5ffKqCrZBOtUia7eh8bxHANDz2Y\n",
       "Eo2zg0V+qkLwx7zZUhMLC5J/pZ5wV7dzvMSV/09hZTPcTZkkc4WNZ69rLGQ6NGhO9HAsSaUxw+rI\n",
       "CxvwUlzvxMATyyCQVAb1Kzvrl5pf17LDzITAofXE8dVn8mlAtinaKoWHLgyRKmFnY2M+gmgeci0C\n",
       "Jo+gIyQgSZQ8h5pXlL9FVGTFJK2bRG1jtVh+gm7C4WsSvWjDrizs5UiAtT0RIAz8EVECznPDnpS0\n",
       "27pBSkI+2tY2DhNgYFdA7PIK8oORdUl1dChF5YofZszHfpjK6ohv9+dUoAIWZAlUfNtQHCRuRow4\n",
       "H1/oZrgKz9aLAkXtCMSIVklFpEaMVIloyAPXHQOeEVOwHBgHIzj9Kp2zDpPCkx7iEEUQIHESU1Yl\n",
       "usESxsfECys4li+VfHHoucNmWmx/BdrCkozGNPqidFYG5FHQ9O9uOAGfS72AtOnAONurg6ppTUxG\n",
       "q9lnXXVuV19AeC7OOWHNcQp/kvfjld+X/sCZqultvi/9ldn8O/ftYJ01nSGrCsjtPS03CzEtcF6i\n",
       "FlJevLhOWotKphbZXc/XcHbG3dcT/H+Mptaf51SW4bsdQMsevFEbU1thPmtxBikCQ0pemqQMMKrT\n",
       "eiTjo037rZsrj5zM58UoErQl3e+QC/hb1mileGvL/KDIT54i6DPIC6M50S0BJlB76k0MiFzG7koO\n",
       "yP+q7GjJN2gCQiYT59EsepNDxai3yj7ivLWurg1ZJqGFaFp5Ub1EUrwluB/p/sREYbt/YxtaRbF2\n",
       "o2ByfAqiKLvaLPcp17Crb3nqtntcjU1LU2yd282D3L4t811phXMoxe432vt6FJNmhyDSXaPxeVL5\n",
       "zM1h7hbEUNcgpPJgqutrRVFc4U1NzyJD2YQ1ZjyagRp4ZA5ZhyANLyUBJlRiEfMYybrrxhy+/ybT\n",
       "skYYbHZU0ScE5iXVgexvdB4jPjfxtCq4W+RF6/QmgaPSKKfg/7M5Qvx8KIvmuhkTSbq6dcj/Qx9d\n",
       "wQ+mh7xanL1+De3rZW5vi8Fi0pUWkP02+2lFJYy4qWh4V/zBfL1z75CWA9smJZqoMxxn8YfeOe/U\n",
       "gz0LgjLtsY7Br5oX3JWnF6V0xMEbd30R/T7LB4IkRNm18x2Bzwsmueh9j72W1fW24dMz/PDO5bRo\n",
       "ejpW/J784iiMLUpwda8Wz8yY6Jr6KpjgHvjssiZGoHL0xaBlGU0zzpTqdxvdLH74u4IOf9H9ZVYe\n",
       "vTl5rjtqnt+Z6ZHFxG6JG6ByZ9y3S0ZqPTi8H1otF89hhEPM7+5uNazz+/9JHFw1x5rn234DgiWF\n",
       "2XkJVlPUzR4PdlumVCu7uOi6FEMCqkooAiIrFV9ABog9//pcxW/271UW4G8GbPyur/9bEiL+PJi8\n",
       "eGAtaukvLoPwNOg24m5lTACMf4/em5z5daDCeJ7Cn9XiISGQ6d+blPGJWCDghecJksGxHxIN8NpQ\n",
       "HaKio8IvkRL2NEvfEDp9X9pEo3kWpu7iqTrrxoLxfCj1RuE/6Fmm0k8P1xycRJQZUb/FxYUQbhdd\n",
       "oJpulX2PBOIQCPszDb6jpM292OFs1vO3Ra1+cmdJI4LOvg6vdJim4Ek2w/+DWlL2glR17L2grDlF\n",
       "jzCE58HXKXdDBEUUeTBfIllFB35TK0xKZBxaECYDVGLMNJi9ChombQqWyvVboqDglDj1okcIGUlN\n",
       "HoaMaA56TRVYSJ9XMMegJsLOqBaxnzQbUwWk80j2jjfiuJprJW7yGHxTfrn/1Hw1CM4JjthPAI0s\n",
       "9dnPP936WSHXgAvJf/xSnhRBoBpfQnypdfTv7XGgThCU9n0bTyOASyaWoKoMr5LfB7Imp8j0tX5q\n",
       "MOEdpCQJyzMrr/EzaI/Nrn4LLjvFs2k0BJoM87sFSGje486Fv5hlxf9s063fzplEsP+QVrqtsPMu\n",
       "+o4UCn4AiH3bsNoz8kd3mBCfI7xrsS5yVM+d4ejclSezJL7snsBEJMbegV84AwzM9g9ARo8Mmgbr\n",
       "xm5hhvVTIDpSKr+mbtHModAZgdBkhr8kuOAv03bhySJBwNPD5hTn9va65S3ZVumXoYLSr6IvODQQ\n",
       "nbEMU4M6OGEK6//nmuMBsJuS2SXGpCMBMxnTQVnpW40+UbNKFSX8axwezFcuzVoKXeYFroL1OBnH\n",
       "khTdpFhXskE/s/ZeW5HUYkjOenfQjC1Ctq3Pg28cTl09FgrGnZsfPznrY5CvcLgADSoafo85aLes\n",
       "Lyh6w19hKHK6Q/0/BstJL6MzLq9uismf/zojXSVuW5F/8e4dtBZBpe3iL+ZTwYXKxV7ALgPAK/7o\n",
       "3Tdf9FL0/jdhFHWt26eyFcSySX6/qJcnTCGrcKbzKezor2Oc/zo0LDvemtpwOmTRQU8Pc41HmDea\n",
       "0LlQidiM42NSr0tPUWcrM7XIgjS2YQN7ykGAMIC2SvNY4mYBrXnfcc+wjXm0Hxq/P1xfKQA6s3eB\n",
       "3DkKjzuzuBdmtKMNvgpn9XE6N325caWVRC9vor3FnSK0K43IIHuOZxTainYSsxAcf30LWChy1is0\n",
       "RixEwx49CBo1nhH4y9gX5wuBdHAO8cDii5HWN11OAYwX1AF2/v+LDm48xOq4iWujUxzdPrBtoPXR\n",
       "e5SWQessB1Poanise3+jWDmD761cwkyeukEvm7UFCB8Ctuo01uEExHl57jeF0bMuhA+QE89x9Yj5\n",
       "cbPGcOZoZNQDT8uVrX8KER7N79U6My9UHx6viwha13IfA0qlXXmMpc3qavL8gl7Q4o9OuEXl6U9/\n",
       "MAJjmUeB9mmlACJ1a1P8KV+4M+mlRzfNujfAuLtGXyaPx6wItV9pA0wPOcsQiFHDsDy0HIzni66p\n",
       "xgdZuyCtG/v8RSxFeC/avZUZ2vafQ8fbFNpf55auwWK7648s1GQCN07vIfsm5a/V7Ydld7uOZukg\n",
       "4gLQ+HpyrC90CPvE64UCfMOHnX2dRGfGwxexey46zqI8mgZK9RKzbg3QFiwxvP9ovPEappeAmOl+\n",
       "PnGy5w2TEJF2mXkWJOEjNPgMiqSPEbxZj1W2YSd6hu13ZIkb5DHYaLdObfQryt0tcDUE08jHe3n5\n",
       "XRZPO0Fkj9H/lFK1ZgJ6WBGjcxc8BbDHhpg+NLpJL2Wy3pGVebaJvqOyoZ9iwFxhk+siUtdKHj2+\n",
       "P2VOXptPm5Iyaic7qzT/yT6akhwYX+M8mYCayiaCLMzkcKM7LDm/eJX7h6yMXBPSxuMrAVCi9Nox\n",
       "x0KJ6GWYK5X+UlfSB4yOz0AWxRXpD0TQC/TRF88TeUBdqrwFBrvvoYnhzWcbaDMU72K2raiaixmY\n",
       "KlRaqhev6deM9R6O0s87g5h20F6y76wKM5+R2PuLC8FNJN35f1T1//D+zBUw2NHuJ3RjNMcAgqov\n",
       "Z9i8qM2JFVUaa0LkTuRiVo+IqVA8/QcvWu9YzP8VCxhlnOrqJtbtMrhJvZuW0jsQ6vGZ9gSD2UML\n",
       "efuSqPhc79XR86whz7tNhr7+pxQoIMUD1vkLJWANj5ntT3PUWHb+YBmwW96dFUpuRZ+wqQrZ11Wy\n",
       "V01k8492WkMqgRoN5Sp0ReHmRG76+C34FtKZYylKcd7nf/nH+oh/YcogQw+ej+yySNLqm1TeVYax\n",
       "ltyTtWWwm922pdq9/cL0cc/pODgGI9zRcoS2xjlif3UPZYg9fyXnjLK+b193IQ8kAgsUhbVY9WdN\n",
       "2Yb5p6qWyxtMgVWk5IPjJu4akPztHJih/SttRYGyqA03kakVJ/p1ELUxcFaqRhkfzuOE7a9JWccS\n",
       "FPQlFOu2dwOamLcyQ6zzvrsLc9LFd3mRFzv5of0ZkCyUZWmhxO/nHg9dVvwOw0oPHwAf4PFvbW4S\n",
       "Seyq8jzSnOuqw08lTrpadNzSvg5rJN7i8ccVmlnw5ZuJe08qm3I5y1JnD3fWNULAsDsIxAAdihhG\n",
       "oU9+AsKr1tG2Y6oHbXwAAUgYARIAAZJPwQAAAclBmiNsQv/+jLAERdT2ocwBtN2G8RMf5H3bpT1k\n",
       "EP3BfN/PHGC6xfx6WTa58SfVJWcP/LR0pBsoHY/aEilnRTPy2tJ+JbkoJtS2k2OW6IXSXckkLSgi\n",
       "4i6NsZGcSubv1ivxotTTsXp3O1MUy/ZKwNgKUpP7JZnYPv7FcELOZczLD4DrPOxlCXbEZJrcaiTk\n",
       "3kToWW5+/IjJ0dn10Jz2KzTky4E8UscnWZRvARUcrHDWVLa3RF6G4VknyKqKV0GtMH6I0ox7JW/J\n",
       "+lFOuxQkervlon4MrzhdfS+QKBEtsXhF8oXY8snRUIIEYCUksoz+vXGSbcAsKyazwpa4K2HfTqCg\n",
       "LG6otjppL3GcoudrryofGJMRnrQh9v2G4Uc9EvSlM5RhtD+ay7jUpFE/05ZF9w91DSJ/0o2+uv3I\n",
       "+hfhC9FyHxU7Hb3nc9Cou5PVGkaiuRftRWtmAtcay11+cp4VY4S0HZCFBVUmCXnyfcASO2H1y7hY\n",
       "fTk09gQGfGTFUU/TKzauEzROh2s+KyxnrXUM+HKaPPIy+81gDSzgLfk/n5atexetLZaWAkTMmfor\n",
       "MCl1c2ZzBsf3CNs6OBUuubkXCNSHQ8Xx09es2o6AAAAAR0GeQXiEfwFiTNxlqf2Gxz0AILxWYbL9\n",
       "7sxI8udJNi2eXYLxBPuvGl95VCjeh4sVjRTVZcAgwTwh2dfJb8EPIQEWUPNZ1A9ZAAAAJwGeYmpH\n",
       "/wIb8EMIQtwACYcAHi0poNhUTx9xZ5HAkv4HEkCwB9O/gQAAAM5BmmVJqEFomUwU8L/+jLAFN97x\n",
       "0VX8o/xIvWVqrgBxuJtyWGPqDf1lmMPeTu1HI6+avAGKNJ6Kb/9y8qz28AawSskJmYtzyQNsL7OD\n",
       "h1wTn2V1pkEfkrz2qLVXpcYE24pbaAdgzXRqP0bXLI28OeFIOTwxJjsZD2uQ7TuJH+iPsBVD7TkZ\n",
       "+0Oa6hdgOxGqlfcl+JIqxz4Ttvs7JNQeKw3L1uGM0+wt7Bp5XXg3uOYETfcYALb9xWZgjcq5naDX\n",
       "2jHyOfP6FIQXo1IW1lUqgAAAADABnoRqR/8D9d8rPp4Hu4LzSKu2frrwCWSE9pirgML6OtgLVN+a\n",
       "hzgAWvISn3RSGuoAAAD9QZqJSeEKUmUwIX/+jLAAK6dtN2hYgq4OPoAI78dKZM1+DpSK+1VJTctm\n",
       "YRnybeliAQ22AaiCBUABTXCM6l8nVKdYEJi3uEYXhdeoBq2bfFs2P6Nia8rjaLJ7740mAUgR/4Fd\n",
       "3CtFCSRt67lxO+A8uJGckrhliJpDiv8V8aWX7qtdyMdxoAPsvG+s0V/ABepdnyAYDMJkB2qdsbH5\n",
       "jQvsbai47p2lTVenYsG9n2UfWGkUx68+v26kKWolCrPb6/c+2H35b/bnreRFeLga56ESxOnm9n1U\n",
       "Ix/1TzLMPqlB/kq4jzC+MSBkYqqMpDdI70n1fCiSC3MdVLrPeDhVcQAAAFVBnqdFNEwj/wAjSsns\n",
       "r27zqbZb+QBEhXPGODv8l98yKjaSNuZ69NYYePpL/Wm8PwkV1rLR34CF2yIjLQM1h5vLmdtQZiMM\n",
       "vA8Ckjske4NA9nW6xIRgAAAAMQGexnRH/wA4kVOZDrUveO5g1nM6vo2e7K9iX8XksrKrIMuwziuQ\n",
       "gA+4Jja/d1qDNYEAAAAtAZ7Iakf/ADiwBp3//SoQBBdIARwcr657X/Bicvr+Cf3T4nL4DAnAS38L\n",
       "K3+AAAABNEGazUmoQWiZTAhf//6MsAArqG/nPvaAKyWx6mJFMz5Oovl7WMO+luxUWTtrUyfectVs\n",
       "d1i5x51kdBN/pjANdWhylsmhcdGP7Jb/RQVxTvBquaCVJ7hufVc4SkC1ukfc4UTQ1HnT0X3MPLvR\n",
       "LxrUnhhsHZ11B0P4/eCMMWEONCl39/l+5AhnzPZYpZ3Y0wsCRFCs5HlPAb07Jtw6Uk5lH/A1Oe/O\n",
       "+2SGi5RtfVMmuPe6tISM4tfrQX9QVdtkFGGV4l0GPl9iCu3klBRyFUZEGz6wtznfbcOCA3id29AS\n",
       "YmfzX+RQ0ba/N1mHgkqCpNiPf8OxYjHLLfZDqgfBpl+5tF8db3b4Nk4wOrP6UPg5INlyki/sLaXk\n",
       "iAuPYZk4O3/YLzGm2A4Lzot6VkczeHlAXEA34v65AAAAY0Ge60URLCP/ACPFQaOXxB/y8h6VHQIH\n",
       "w5xuRbrk4VJCgAuWzVHYVQqQV4ic5X3u8X0yZZNkIceqLop1xPsfcBAGP/LdlIISWzm8S9gyvVWf\n",
       "qd+VWZKbG/a5R2ijyiSRYNre0QAAACsBnwp0R/8AOJFTcvpGgGP3aHbK+1mqwA3E8RoPqMrjPEYk\n",
       "4jxwfecWq7pBAAAAOAGfDGpH/wA4sAabM/oo/Xs1Fnb1AZymH5YACcoFBh5CiYEqDtD2SOsDi+mD\n",
       "PcSnNeQjtvxm8BuJAAAA4kGbD0moQWyZTBRML//+jLAAKohVVAA6BIhWC4wPS99rI2a/47/6TUCJ\n",
       "JY/bWjT/VpVOm+jpzSqpQDSjCY9i3xsazlMiCXJGib9xNlPDnyGMSAebpnnU7edIfy9TlZkhm+Qs\n",
       "EROT6+rHFLzouBguzdXG5AIgiMzq6fKL+iu7mafe7uWPNpKwvYJ9I8lKnfq+iHyibAaGJ3ec2j76\n",
       "iNh14lw9Vh6OJ6AvmamDPrZ/3ijzAvBIjL7sU3cu5yDD62c3spur9ZmBueeLnxBQwJeL2W2syy7o\n",
       "zn2h91n4tqNEuWezwTYAAAA5AZ8uakf/ADi97t+9RWeLIkgGXisgqM2GTVy4CSHzhAA+QvNFe6Y0\n",
       "UMpBfSOjuV4HxA9Ki4QAX4LAAAAA7EGbMknhClJlMCF//oywACpMxnNQdGAJ83Gtyo4CFMSOi60v\n",
       "pIAFssqNJF/5sFYuWx3zIs7F+83+rx4GosVkqD8xTn+SWpyTyzfEAgVykB9PQSB2OX32Lg2WFgKA\n",
       "hSd+mlfzmCCTHTwh6Utsp+GXQdy4Zt8Oc73PNfTP4Ml6Zb4I23wsTbRPxT4iz2Q8T81kviEAfQKz\n",
       "Vzp8r2cQymJLlD5nYLUQoC1f1QX6zYldAB7jFbdzePeawOix94IaVEqllfG+PtkxFm3tLHyMnYTM\n",
       "o12jEFOiepvtEgJ43WJKax624QFk5hARPYTHYvmBAAAAU0GfUEU0TCP/ACPBTjZ9AUHGoh1mEghS\n",
       "A2DbdaP5XqxRPACaeb/SD7H87F3t2dkfy5MmXhsfwnF680Imp8/RUYVbih9TJfwsLznvpq9TaKTL\n",
       "2cJcAAAAPAGfcWpH/wA4sAG/fXOl4wtTEyvaADv78SRbyu0Ie/qH+1lJwNvVuqlMd6T81AAy07NL\n",
       "NUjiDQL/U7yygAAAAN5Bm3RJqEFomUwU8L/+jLAAK6hv2fNgkRUYA2qi82lHfaX3bKha1wo7zgDT\n",
       "5PkORe/WUBqdKwt28H78gV/j6XjDazJyA/O4DattpTF8v8+H2eQ266bvtzJTLZtkuDwfCzHEX9Dj\n",
       "9TDqCmXCGL0oYTYOaWeShvAbo276Z88YK+enoz6VP0C14F+Ci+hzQHVxW56QeV4BuSBTgau3ZlFi\n",
       "5RlIabcY2HQG7tSAtSvTBz8TfvG3DFBTfA0JrI2V0x9aJFYqC7AeuztISCqPCctr2Xcj2GgEFjKI\n",
       "zNOYjEb8370AAAA8AZ+Takf/ADi98U2L3w6SJds+VOY4t4ASaJ3Ij9lgOv0zhE5jtZYsbuOtRVIX\n",
       "rRivW5LotWC9zlSq8tzBAAABG0GbmEnhClJlMCF//oywACpMywtUQDUqGQ4vD4Hld0hZclCRk7lT\n",
       "qK3BFZd8Fquhn86L6rT4AP/kncPBuUsoZadXvmPERKyHI+s60CI1l9qDX2uzjqTiRK7pU2P37stM\n",
       "NiEx2GFABWSOTaa1vABKHPDsxYO+ZHQV6DZ97fwTQAJ3yRxEJRucnQ54YFj/C113O5jLbU6aJZnS\n",
       "u1JJMCoW+jNx+vuj1rT4rOIr5wNPyUZh1b+svWs6F+KvMTh22zMuPLvN6WU8hN/E7Cuwi9wqQ5Ni\n",
       "ORmucUTA+eSIYJhMs+H8YDTAznigd/rsPGR6rHOCmNQ0pcaAgWKmHeagThgSnCvdRuaUb90tEoL7\n",
       "2TQiZKyTG6unRG5RFimCowMAAABcQZ+2RTRMI/8AI8FONnc/AP/gig7zQABbC/BQN6oD25ctFBlM\n",
       "nkuDkZrNWe1qvhSp2i8euJtl8zK04KyKyix40ibe2+LYQjUE9oCDoOp+KQH3h7vySO8+gG4ml3AA\n",
       "AAA2AZ/VdEf/ADiRThH+bihhSYcZqhqvoAE6kmOcZeShoB8m1XebwS3DyQv0bK7paPJnxMnLQZlA\n",
       "AAAAOwGf12pH/wA4sAGvjFjnhJvWfj5cByywASmvRPXYowwAr/wsWSbxngNOZ8W/beT32iitayYR\n",
       "ap+mfy3dAAABIUGb3EmoQWiZTAhf//6MsAArqG/ncKUrTXANXnoci18XfMjglDCf6MTQ9igXRs1u\n",
       "rebfMpt6q9/mMgqzR8PQ9ASDx2Rq6UO2IkZY/uhOQedXczbhsrmDW3AguFR4cvgoguy5zOiyMiV4\n",
       "xaBecuhuxFzqsqUyhL6eWDmyTaVT7W3K5V1icoYFbuGIMyEOlVzQRWNzpon+NsEbp8T9XPYRsztN\n",
       "Sa82pQv0zNF92tOc3Xf4ZEK7ZSONtLcLLtiQDxRnJ9/XJDjP15dmSUvJFXaMoXMELWKLRuXff9+x\n",
       "oiCYGKlnsFh7mXzT7b16uBQcwj1f5Mdh72guSCMLeH5zToCMiiX1lYbyf3XxDMjx3NSAxneIcTV9\n",
       "B1MdYp75dToVtRvXpsAAAABRQZ/6RREsI/8AI8VBo5PRHpn53/YC2+WwHD4G60JqQAFomJppJdlN\n",
       "pN15zRNAhskq//rF+wKgrboFNPihyZRElEivxuebHA1y+LGbUDupQCBAAAAAJAGeGXRH/wA4kU4i\n",
       "QxLShEB+ID5MCQHTurz+B1J1n8QplRaygQAAACQBnhtqR/8AOLAGmxe+IKlCtaY516BZzbweTv6/\n",
       "nmfLwpfUQIAAAADhQZoeSahBbJlMFEwv//6MsAAVJmMnLTYAniHeoAwGsVjCTE1Cw7/83V1larjM\n",
       "jZBji/fAt12Qj+RXBrJC4OdcyKz9iQHRT1swdN0dV6h+4rjUVZVBQ8kq7jjqmHE+rTHPsv81LguS\n",
       "0Ls6dA2TTTxF2UMqMVhG4eUlu5ya/u9Zqw2FZTz4g6j95D93VgPur/sxvCjVScbl+jLkmwf3fF3+\n",
       "r+0jDAXtl/rcvRPKsLJ58nlQJLRlnTCjud3zCh/6IlL3S8C9R5p6x7TxriT+ufqvW0iUW4Ld+kDK\n",
       "/cT916b0REKBAAAALAGePWpH/wA4ve7f/bFxZLz0M6WbfUAG7lN0IqCey5fyTQqwP1NzcC2bKKdz\n",
       "AAAAzEGaIEnhClJlMFLC//6MsAAVNHF6YAVG5+hR4hMc32D/4NXvU6G5BYXwrFRoe2MHIdTRw2ar\n",
       "KiDqC5hnw1CVdzup/yf/fZ/mTZ031RQdmKcpcShS1agsscZJ7Hsd5a/68lkJuKfvYoc/l7TKcxx1\n",
       "HETkZr5DPyQik80Xs4VQiz+PrJm5drP+2cvgZDI3/NsPSRP155GWuruC+qQmsDt7vsRk/s3kzMOD\n",
       "7+7ENsarvOAf4kRqrxyESMNWWoQDm7MevjgcgLyxZrqbKBV5IAAAAB4Bnl9qR/8ABVNinU+kEfsB\n",
       "DxWDdxLCKUlOhw6i8VkAAADAQZpCSeEOiZTBRML//oywABUmww3Qu6AARGqXrnsi+f1tz7qOxJM4\n",
       "0OSKVYRH64RWSGH7wLCoPZE/z9UFSfVxQsWoZvunY5UkPA5lezwh9a5ob+1I5vE6Ev26AaCnptu1\n",
       "xBavxumhoN1B3fc/sbNd7VA6DXMv/ZwLYF+N83evuY3LkfQng7yswpQWu5MN4tcDN1EphCX7Fb3X\n",
       "DQYHwDoHQUgQvQtELThqYMW9SFbOBqGRAM2WcpWW9vReLZ7rGotAAAAAHwGeYWpH/wAFU2PqdVNk\n",
       "xBcto4C6oyFsslF6y3nzBYEAAAD4QZpkSeEPJlMFPC///oywABU0cZPgA2siUK8r+K9NmJplBSVZ\n",
       "UT7fLz6it7jXdw9SGKwCSP9op3vsHqlu7J8x+/0ySUFYIe022RVa5kuRaLG2/tbAQS4vvjIW/eRi\n",
       "qTDwgOYZu7EV0dhfzDuXCJwYxwLfK186tyswzllydooW5/rvWtbd4ARueKK68qN/D9Jtas2AeIvj\n",
       "2y2UTAI0tvndZt5Uuf/lfl4kh5uyjYBk8ZSeXZCMdqdIeQFx0lkw5ROjffvD7UkNboULmO2866tm\n",
       "Kkr/hmjdAqyxbDt5pLfgF4+k684rz8wdKz9o8elr86auf/FLpPeXk7kAAAAiAZ6Dakf/AAVTXJWT\n",
       "bgvW69cudZOs4StTemAq6ji60tTvsAAAARVBmodJ4Q8mUwIX//6MsAArbRD2ijx4AO6tB3yf4p7C\n",
       "g40HFRjpTYmXzzkQ9b9yiAbiYbvvEzoYrpE2KyKDTyrib7MifBSW2Uo9aSKTvW/C2SN79YO2GBc0\n",
       "MOyQTo2mokCrm2dnHyckp3CiAaATUnGGxI+gGCY/bJWBsggMmCPnzXlVW4IUF+PT8AEjHsPKz3Gc\n",
       "kBqNDDM+WN1L3l5qn0abIKw0S/F7ZtSL9AwonCEDbjXtqj2F5QVv5SxR7cQKAawrXa24Q8TMsbj1\n",
       "cuTyClKKq8tV+6Z22fGvPtszx72ADhsrNgkjXnBPxHFZfkfYQkuwRooS1iUPkBgGejpVXBqc0UBz\n",
       "zsvVjwZbnOvy5fNMixVVmwm4AAAAKUGepUURPCP/AA3UZWgu7EDSm2Hz4av5MkT4vq8NDx+sfGUo\n",
       "iKjwmDkHAAAAIgGexmpH/wAWJMBETZRq7aDgvyjui7bR5OrmAAk/21F2clYAAADzQZrLSahBaJlM\n",
       "CF///oywABUmZwkN/ABoGiq3lU0NNNsYiZ8xFYco2xVhaIDT265RqngIGxDZuValy4FVGwdvuz2v\n",
       "LJqFnx7S8mAhH46pMKwWxM1MYY4sjpPEEii7ZfkEcBrlPWrfD3w5JGbcB/zUYHhBYrKXg3XFS2Tg\n",
       "S7AY45IKPcxrFmsRfuVXn8dfeCcWS8Wl+WMgaquoi1/QPmu2UWZ8fYz314Yh9pmS8znIKB6+nD7u\n",
       "P70xxdkAyfJktp8fuc108fNQMxBmfQRFWaYNz4UwACIzfk/1ph8n4FI0aDVAQjreesBXHbSbrEOY\n",
       "7Vk+uZmBAAAANUGe6UURLCP/AANcKPXAcAALZH0zv3u4kBscaGzSKbVvKJx6hGxFbVBXYjZLKM+9\n",
       "74DM/90sAAAAHAGfCHRH/wAFYzBvy+SWNlCxrAa6zXIlgYCV3MEAAAAgAZ8Kakf/AAUvQQItf9gQ\n",
       "/1kN7RMVShbWcMx74yZTz5MAAADJQZsNSahBbJlMFEwv//6MsAAVJmMI5YAIGTL0/Jz9yUcOxBAc\n",
       "j2Jx9WsdL/J/ciA6pZGm8lCvxc4/uHzYUx+UTL6AVr4/XJrmn6lvljqLoRGwi1+cEe835OpiwPHa\n",
       "D7H/Z7eRjeD9NCaLo/SLUFZ3HtXjORtjluViiKZ+BFqnxkuTgA6QmdrXZ0OkJcaM+JWgm4pM6Xh8\n",
       "Vaok/5PHriEpiYqswQAFEb8KBUuvVCsCDU9p8QVQIjeSc92UeX3phvBGTjUrBB+l2JehAAAAKwGf\n",
       "LGpH/wAFNG9EvHShhRCf/wL/rucNvnB64AQ15SUdT50BKZbJnEGtqkEAAAC3QZsvSeEKUmUwUsL/\n",
       "/oywABUmZxLbQAM9kPmIoNsokJBoypybm3C+qpqYfL3VyIS2F22L8HZ86u4aZ+neuOk/dLzOJyuv\n",
       "ZZ9LSaVX1pOsiAhQ7RkaDJBKHXMjQ6GoYGIup6e+qDOYIiMLoBJbDlmW1RpuA4Q3EoT19kcxAyBo\n",
       "e96lxXg5PaIm6PPSlt5aOxCk49QEA8bNSP/1qEzB2lkJF38eVuhXGCJ+JVFiJIInaBmONwYxLSFA\n",
       "AAAAKAGfTmpH/wAFNGLtvfprRH+upDoRz6yhUw/fwABdHosVeeUczHmjBYAAAACuQZtRSeEOiZTB\n",
       "RMM//p4QABUEmMLQA1RF5kvxfXGPmfNiDFdUNVQN+pB2I/uMW69YFY7IymjKmgEkY8a+0ltBx6xK\n",
       "7RVRDfBnyzRlfwf0N7PBwbzlszl4Gg7Tfb243cLm/IVPvkSIvp/sK3DKhgUx4D0aPcZN0Q1n1l0u\n",
       "GZXthXY0MtMCJv6MGMgWA4z7PylYBLkLUOEmiUrFO8e1Oarl8Yw09gc/zSICoUsE8puBAAAAJgGf\n",
       "cGpH/wAFN3EaweL3ERvqu+MsG+MadwAErfzdXd70J7fpcNQpAAAA+UGbdUnhDyZTAhn//p4QABUF\n",
       "wgXACuZBwki4SGVRBeQWQvGBVIX1lBcyiAad0p512RIDRpdf5cqUL8shmhwPOWUtLhMRdUb9CuVY\n",
       "XM8nEGPdvTD21j9TJGm9jD+yk28GiJaTkcczw5rKXqzdBgjTq62OxdwCDrH61Q3BkbvWJN0HKfTa\n",
       "PvJS9yHpNTI61Va7C2Xr0/RRURtjUHLmPQ18c5tKpzN6jtWcXcclqmURe4JzsbuP0uQkd2D1Kt/g\n",
       "A/qVSBJZN8f4S3iGHudyM9rwIctaEQGj2vJPey0Sn5WskCkNh+xu19GR1idSM7XjkIxS36+o2+bu\n",
       "lbvhKAAAADVBn5NFETwj/wADSHXcKwfmeAAAr6/UJxwXBUvD07N9Q7HmTZMr99TT9TiZ7nvlGPOq\n",
       "q46nSQAAACYBn7J0R/8ACfC6Ujzpmm+0G3H9xBLuBoATBoGGAljW7FmsTgUEqQAAACQBn7RqR/8A\n",
       "BTT+4NFHj6agxvbY4uLt0TOeQAJ2pFrAdotEhGsAAADOQZu5SahBaJlMCGf//p4QABUTxHQtADcm\n",
       "8jYI96OrKMCkcz0woyTs7gS/4aa2ljgEGcb7DRY0zBM3m7QC5LW8WbTN1BWV8rtcn2VlS4SeFyUf\n",
       "fdFxAl5rR7BIgaGJVLrtq/V+FJfRH21kAkJOhEeFhABL5Zjf43KAJPGIHSynEzvt/3ZQxCg+jDf/\n",
       "DkNpIK5ZfI3ZXoxnkR7CEOten2Qm6Gqu3V3MillfNL+kixX/8Fxhk9UC/kvcUAtHFfh2AkMQXer+\n",
       "iqPRvcZ+TjT3uUAAAAA8QZ/XRREsI/8AA0VM8bbdrMBlitnxqcwCsTAAJaJlZqDawrBw44cT3oXa\n",
       "5+r0cmlWp/+zZjk36cpZtynmAAAAMAGf9nRH/wAFPyBNdvaoHcVMdtbAAi5/2dYQxY2THAxcUYJc\n",
       "Q3IEsc2EDDNLL+WbQQAAAC4Bn/hqR/8ABT8gTWFQ3ip1VGw4AHE/flMPahgD7zBK+ye+XUYT1KZH\n",
       "0NNcDdI4AAAAv0Gb/UmoQWyZTAhn//6eEAAU93xkX83kgAK5g5uzvIY45cM+YbWlijtbSKVVAy5a\n",
       "s5Rx5097a253wqjDJGXJ92uUdSdkUY9PR+Z9fn9nKIs6f24o44TJzUOZMy0hdGynSsccoobshyE/\n",
       "WIU/10Q+mRn94qSpZnKpVE0oeRgYYesOmvpSiR5gVuLEYZngKd05b2A5iMK9ePnydYVgpj1l/4sZ\n",
       "L6NWrIFG/RWNG7Tp3GVA1BWXFz6loUizT0QQ6VXwAAAAOUGeG0UVLCP/AANLVIkqnQY96XzfE5fD\n",
       "/pNtN2ABZGhK6PeJwHq4CNaKjVx38RHE3xVZ/wou1TNoxwAAADQBnjp0R/8ABTdN5TkK7qbGXxUT\n",
       "DOVKvAASczwRn/XIUtRGV/QRDFKXuIy5AFGAgN96s1juAAAAMQGePGpH/wAFPxuXGCQdAlXXSFRh\n",
       "FnR7vgAIusSwdtGkpktGQMDdLVAt+OCvZI2JDuEAAAD4QZohSahBbJlMCGf//p4QABT5PZwmIILA\n",
       "CxBzwkLiBhtAYn997g1TfT8JkhDyv5GCdcqeKcVwCA7YI+/zy8LsgDsacFOAs+apRmmrI9NkbWyR\n",
       "ihfqcLFaEdqNJ8D8f+FLhVci85+m2L10+XO5CzHDGzPOJSZDyv4fUpxbBaf6ZUt5+RH3YLnPbHn+\n",
       "JNda4hZ9yR+BO00hH9U7IPwSa7RfgAzuLWVrar4iyyZR9r9mF4qsUHnsVwEOjfXOUkUwWdl7NRzA\n",
       "udDIh27MICZm2gYafKLRj5/2EFrXnJGSocv/DsKbGZuWFtm5PewkRNbCFbgBDS41AOZfh0MAAAA4\n",
       "QZ5fRRUsI/8ABr6EMKHZp+0MHE+trEsnTsGB8ngyAC3bYoFlPYTNiizLS+NNyNwJwSpzqdjgBnAA\n",
       "AAAvAZ5+dEf/AAU/IE0KcE68SFYYQitMgAs78bJ3Q6daKF4jx0xFPd6ci5aa8ru0O4EAAAAlAZ5g\n",
       "akf/AAU2e18ykj+BqLh+qtDyUE74ACMEap1NPaF37daY7gAAASRBmmVJqEFsmUwIZ//+nhAAFQVT\n",
       "kR/AAWr97bpwoYGWUsnk7KSPHfiFCTVZrx7d/FC920m7k3vEP/zCqHOMa+2IjkEDskpxBTVKk1lz\n",
       "PcDdj8dvGw7j/qtaccLe/K6D6H4q1DVKZ5S6LkY+D0vHNiCU7jJj6Ts1g/gameEo1TWmoS0FOLr/\n",
       "USvrQnHliE7ENgAQ6pifnz5XXZq82iWKB2PtM6wLQg7sGZWLPs9W+23HMMOnrhoME5qtRsQHInfn\n",
       "Lr0eUK1oP/RYaIohSwf/0XW0j7L9p5gIpohYfjT5N5SLJ7RKmWFy3iVqgnA5+nwFOhlTV8i5g8yM\n",
       "yxuQkN1mXo2BUiOl5JDmZtXzWXhqIgOq1j7HSiqRLcoYB1pHmQ1L4MEzGOGbAAAAS0Geg0UVLCP/\n",
       "AAasC5vO1c98MLXzaARqEvCWx95mWuRV8UDMsACTmoxG0pALP3AGH/5dyM7MuGy1OB02mjt3nZVP\n",
       "s9pWSbfwvRxVIQAAAC8BnqJ0R/8ACoc7s16o7gvM3w/F3u+CNqoACbGE5PDZvwjVKxXmqMwM329V\n",
       "nFaCqQAAAB4BnqRqR/8ABT8gTTUswOvKub1+se8z3xxGoQ6QB8AAAAE1QZqpSahBbJlMCF///oyw\n",
       "ACuncLMX4lEOFxcZgBon74iXWbvzXOKIr3GEc2IVJs3tBJhVNHv8upX+I0EQ55En9NcUHnFFEjbV\n",
       "F7Dbny7CgcJYHmr9jpuzPq+/66fpTmhyuY2f5HKAJyzM4KhWQtDWH3yuz3EDFH5te+e2I5GHThct\n",
       "12JaU8np6o0Uj+bSD9fNISObrBGBmLM0N6GO+/jde35TZzGlkO3dsojevGw+0qMrGHMKEa1UkPb/\n",
       "/NeiieeM8g0gd0CzILdcANk05mqyZ3b0O7ho6wkh2ixd89n2O53jGG1LlVtLo9cdpO1qxYvkBp6B\n",
       "DAshtOiqWdmLx26DIM0sDqwU0FIrUQw2GaglmVb/5r/sw0UvoF2SAzFDurP3SfRPkTtPMkvpzbmw\n",
       "8FL5d85lXMvBAAAAWkGex0UVLCP/AA3Uwedhy+oUxs6oCk6+bADcae9L9IEDoFXWMnkJ6xaIAhmO\n",
       "h0eCkuQZmQNgitC0Dfbb9Jf0vysoZzm6AqKWWu2COdnbp8d7JsHSloyQJzoO4AAAAB8BnuZ0R/8A\n",
       "BTg8g+lnjAz4TYn3pnW/+7qLVP5iiQbNAAAAJwGe6GpH/wAWIo/zDe6nBhduz3bm2OdJL8d0jP9H\n",
       "bG63wkFZkYynwAAAAVNBmu1JqEFsmUwIX//+jLAAFSci8T2JXPPAAWmfpRAbLMLMwa6wmmPY3FNC\n",
       "BcyiszPmi7tyxCRmb5p1i16MkNefRXZCimsVn3b+Eue+vo2OLyuDq8Q0nwP19RVwis7gzdlDaqpX\n",
       "+KHjslKwRek3TkWaI1OXvemE/EeZ7UtexI8eDGzp9kXR2+jJK4bpLdIyx9rTJF+D6SX+IDuC0anR\n",
       "8rjG2FaKUbPVzzU6RJ5vZWI5UuXl8ZXOTIzo3DLOGpNPLrLlO2/uVZMc+gzNAhb7kA6bn5mBZSCC\n",
       "NgeNgA8uES5dqjCa5L1mv0yD3kpLBfl02bexpx8/5Uh74rRXFvdRPUSejvyaNEXVZZM+5fV/EsVy\n",
       "h4h2JOHf2u9Pk3I75B+F0xqGF4apJCaQmChGWn0v/nC9C7qfKo9h91Rw/qVT5dad/TfIoBVpmzl+\n",
       "ryhBnMPTLOrs78EAAABDQZ8LRRUsI/8ABr6I2AxBaqAFuDmxuKvVbzlWuD7x4VgkQFGJ8FB5MiSI\n",
       "/TSgELPXi0dmEpcX9sMal054UNUoEX4MoQAAACEBnyp0R/8ACn5Am3Ga26qg7Bn0Xg6EMe4yKXOZ\n",
       "Z1bJd3EAAAAhAZ8sakf/AAp+QJt2Ga41VKLFj1ukfhdiD99v6IFSdF4FAAABJ0GbMUmoQWyZTAhf\n",
       "//6MsAArqG7TdYEAQx6t9jXLL6ktakIPIluvSgMAEfQi+2FO7Cf/xhw6FM08mgBw5KfmoI9GByJe\n",
       "d9vnc+5UyILbrpgz+0WTg/Ps4NFHJASM02+uUEczSRbPfO6EGtts+Kp/XGcG8ceEeCCupZ7zhyB4\n",
       "UTi0/EZ13WiyRYM9VypBSgt2lD5DkobYXbCCgsPe7UIsMHjAwFvFIZXZiIIVZ+CokzK8Szlf9aIf\n",
       "n9HYWO4mtN+TsZzLoH4Jz14rGj7xj8QOwgMiddNUdtNS72mZMOuguK2i86l0ve89VOjHrJVK9f0N\n",
       "mCbovRCtKCLsvQCXiaQLDxV4+kmDbQk4WyO/JEAYzVLcK9jvL/AL5HeVJDDEUTvyB87jtK/9r+AA\n",
       "AABgQZ9PRRUsI/8ADdFGYSAEdfu0FR7QTQKGmD/SnogAPeF47OWnZYSECMyRkJiZMeADsyl+8gEO\n",
       "V2PkrXi/I1cMitNKLcOdGL2uG15bR8QzL2nybLPPvUbIHPxcItsOm1CAAAAAOAGfbnRH/wAWIUmq\n",
       "dSWFOw1cKIe0knrDTGIsbgAs+vwMUxttR7pQMiD9U97DiPrnXjduplPwQkotAAAALQGfcGpH/wAK\n",
       "vBW7P4f49GdIJ74sFXEAFt05DziP5sIQHhpNI0AD5OCOrgDHgAAAAShBm3RJqEFsmUwIX//+jLAA\n",
       "K6hu01BCIAbkyLHfhJn5tBaO7f78DT3GH3o2u6M0j7VBYcKDDDZlyjDvMVJs9U+hJ+/PBN8bea+B\n",
       "u4ltzSpSGIc3SUCnfpiuJRqGXB2o9BXhH9fjgNTSoBbzxRWrmyMI11Mj/5zKcJ3fWlAPTp9aMyFS\n",
       "U4/pZgvURozgGFl0nvMRGX1X6QdMa+EOsZ5sGI0awIXcmKUABk12LF9Tb8E8BE+CFlk5+WCihhTL\n",
       "NzB2hvHhLzS1yTuXBCcTIBIROEUJyUljeSUJjckc3hnEYlUbtIkebe2pm6RrKUil/q0fNocgYAlz\n",
       "poPiLInJPGJJQBbo0lI+0wi+MA6Y+la5cQeZfyERx1yGEsReb4A29PRdHp6yfmil2moNMAAAAEpB\n",
       "n5JFFSwj/wAN0UZhIALXL8lGLjpoUFqihUuWkFaDDP5PCVLtBwaQR8Uf9m0PNkX+mGsNzhz+l6xR\n",
       "FLacHsXctde5idXVbjA2IQAAAC4Bn7NqR/8ACsQVXq8zSK9I+hKPleyYfGQs8sAATGdWNPnIjDZt\n",
       "uoiV6WqTbJlBAAAA8UGbt0moQWyZTAhf//6MsAArp3CzF+JRBRFoALnE4os4tlvzT6Y5HeJy2OV3\n",
       "rZ4WZi4VL79FuO5iuVjv+FhIPRQEDSroRNuPMSCbzIYrhSEEnmUEx0M8otXNT1qZzpObBZRZNHjo\n",
       "IK1TGTCT2lEwguLGiMz60JVXRwdwCQsT1MX2uT8CLRjyfUhEGaawffyHuTZBWBoPWmMPnXB0kuNz\n",
       "ekw0FoekO+GxuOmCRo1D9Zc7gIDd1zNKRc6fIDvHvZmqKuWUiZKDfhTJtIIC8bAo1Jq0CY2NA2sU\n",
       "+vfmkfmga53m+FZmcuxoLOhEXoj0zUtTmvkAAABKQZ/VRRUsI/8ADdA3oAAZ701urbjDyGuXSlag\n",
       "oj113pKIuCxzaHrNpAJ6JjjaCo/rVjJWE4HDWKJN47I5/AHS0N79e2jJfMwBWLAAAAAyAZ/2akf/\n",
       "ABYs8xwyUbD79JrAiOuYZ31orpPGoBuJBDfIW1Sf0pVXHYk8W9CZlZaR7UAAAACpQZv4SahBbJlM\n",
       "CF///oywACuobsXzWLCeABaH9UmqVJs07x+AYlZY/3lodd2yXQUq7dLHBsJmuin1psUebpIw+Kpi\n",
       "MnTnyGQPrwqU/YJYSJr11ePVFoPOUTz06OFkQac9/U7CHQOVhI6Ro6ithRmntJBWK7xMCremUhvd\n",
       "RenOTM5a2/JlGbRLNjjUtBBVDpH8XApqubvB21YnkNQmp25uKcto6JVQRbtbKwAAAR1BmhxJ4QpS\n",
       "ZTAhf/6MsAArp3Cdu/EnZuYjfAAuG5qx6tDvUHR5zv64TLJX4HgsyT68yeqVl+gO7Jftzvt+HmM5\n",
       "gYYJR3ej/aQK6IDGu0n0Sr+oW5+JpTaKwu/P+WzCWZPg4wnYyE0cwNxYsglYxrIriGxaaWcaCI9+\n",
       "Paj2Al3fu18OuB+b2IkLTjnqDeCclJeEaXzkn75xCiH44nr0aQmW8xHCS/lpa6Ey/LhBay1a9k2L\n",
       "RopDICZDxd/s8K6IzpiGr8Oj2NZq6fooKY5xrDTCVVlBvmsdcXal4mQTXCrJ+Fzy39dV2XZsPUkq\n",
       "mOkG7MQR67zoXnyeZUTZ7tsMd/RgXWaeHwfc+L7kg0wk9JeCfhtm+lLVdXWR4L8qkR8AAABWQZ46\n",
       "RTRMI/8ADcceci6bMbQa3HJuE2qN8EH33x85veHgAtDaERmcH+lwgqPrYkoEVfzEObiO1bTo2xqM\n",
       "O/MddgNBw9vOcUm2whcmlPObqNqF8lRX1/cAAAA7AZ5ZdEf/ABYuzkDnDLH7qMo06BXsfHP/S5xF\n",
       "jsrgghdo6AkIXjwEQc53vIAEnE6VgDmckISJVTOHEWEAAABCAZ5bakf/ABYijieodAAD2RVLoF/f\n",
       "bz7kZRpE8pTAEG+R3WsTMijHpUs0RPArhlO9h+hjdxC7z3wSuxnG2nQrrFSAAAAA9kGaXkmoQWiZ\n",
       "TBTwv/6MsAArqGm45gAiD1D2jVS6iw9pxuSFyYoaELEdRVqBJsFxMg0Xrpsvq6+lZ1W7feHhtg2k\n",
       "nwah9cZEfx1BL9XnpcZ2fbri1EB6MxQ5s7aHLld1f3lbJ8EMXmyKgaWFUlVYsvVjA7SvDCMEH+cB\n",
       "of8C/L4U+s0ZhIRE/ZbrXIBOfAKol5oW89BONKEf9eHY0Vh0SkJKS7q1x9K92l8goCBXhXBjHu/1\n",
       "Yx4jeI1UiKRm1XJrBFXvYmaN5VHP2cIzNHMDMv8Hd04TprX5lYb55L3Bdam41lnquhccqWgh+WNz\n",
       "ht4vbg4qtIQ1LwAAAD4Bnn1qR/8AFU1NRoYlF5gAfmDWP51bEp0qldqHNS352PZIGIUsGQPqVVnY\n",
       "H5iJdffOsYmUEBI5tNtWW6vUgQAAAOJBmmBJ4QpSZTBSwv/+jLAAK20Q8+L3AANqJ3v3ihxt3le3\n",
       "pm66vr2abzv69jCaKh8pOtiUYs2gbdNX/t7dOcbT9/CbuRZ7Fb3UoKoE6FsAjb3R2yK5eoKqvpwr\n",
       "GIc43cs71gYpjUokMcVJQ+8Spw3K+CcLBPETbmyhfKVBBvpXPIgf6n2Ejvg6P7nmIF9qS9YiMZwU\n",
       "4nQsedMz5Z/ug+EJZTBgJIjBJ00v3YZD8oPZoBoxuOyGfIGfz4B1Ygw/4OifAltXJsj5b2U5pIUu\n",
       "SDXHpbmTnqkhw12Bkq3bkCaW9kOAAAAASwGen2pH/wAV3YioPxO+gz7d0fBUAE6NE3bJpn+hJ+zK\n",
       "K4P7HlRFBmsBGz4QQlAG2dO2RhWXUMZdb8Bst+hCy3KUa4YPbMOcKOZr8wAAAShBmoRJ4Q6JlMCF\n",
       "//6MsABVPc0R3u+ybTi2MQnG1ACH6ADUK/D5bp3ewRYaoJ0UzeqVIFB+xEhLsQTkMM9iuZTUNsQG\n",
       "q4DjXtyGqURsLvYLAcq+Iu3ROSv1ei55hckNKlNufEDJa0Xhiiv6ccrTjdUkjsCAbaOwICNwyznl\n",
       "/TMNEpIYljIY0V6rFVDzm2JMseYTQe7ufyFWc1VFxnyIwE+fCUQHEQ/Wld26MQzrV43iaH/vT6+H\n",
       "giHrPsnIH1uAHlYoRN/xwmrTzp+BadUhcwiyr+bLWV8vmztVf+9U4W5ShW5MiyoQTpjWzbucyvk7\n",
       "dAroBj8dAWs5SsJ6XuHa5625neowx/oPaTvLLbbcRswKvbo6RIE4DR88tsAHtIRJ1Dqdum3HgEEK\n",
       "DAAAAHNBnqJFFTwj/wAN0Ry8tXaNy1nQAkJGAB4RQ1go7tGpZDKE9LiVUQ4LJGIYK3I8l2XEsLdg\n",
       "4RbfGXJ7/1r+oulb4q82VRjvtxsAecXua0rJLb23uYSyCPr454nNDMWDaWRYyCRjZL1Ch0WLwhlt\n",
       "WvloKSFBAAAATgGewXRH/wAWIU2B5AACdj6WMr0aG/iUodP+FC3TPXvTub0JrSqaecRD3Ce9VY28\n",
       "cMbUhOvBaal8c8706vCKiyXx0vhlYf56rT9UxnZVgQAAAEQBnsNqR/8AKiQTiALN2SfEAAmzQPEY\n",
       "hGEhi6u/RiekMJaoRSPpbQzu33PbVsAXbPE455Sz9xYu2CRRaNKl10Ixerob7gAAAWlBmshJqEFo\n",
       "mUwIV//+OEABSDdgcwmkAJpDKXXcX1yVi0Jv651+4nCaY6TlshO4pBsn1bbSuBJ5n2cg1P+Ch3xR\n",
       "nuGctlqWjOZ/X68EpsNi6LkEiHNnQX20YZI2JDJF1uQzyUxWp9GJN0HPLoBzvZJunGCXbgfFSmdS\n",
       "BKY5n8iHmKweAgUytaTrNcMLCCAY8azDnRgFuwYow3Mpa3/SNvHgi0Wyk7fOwbETNm4gXLrJOHLP\n",
       "uXvWwxjkW88cYIfHv9gLTrpKjZ1No1ZoOUoSvwheY3X5ly/pPwA9Hse3cqWldq1JdU6PPg2cMeHX\n",
       "S9VhQLBb+nwsSoZ4kk85ScEpIMS8RJFg0H0XFF8Ex7b9W71au4zg7z4eGrWXffqwP9YCA1yF1Sb0\n",
       "nTl7rEmLoMhZ/m/P+0MbKOqMjpzNqFCQ/5Tli1up0au0ZoSARfRF+3Sf55/fvBTPiKW8ayfcarjE\n",
       "hELH5ChFIs1GMbugAAAAtkGe5kURLCP/ABupeGJ0Q94QA2mUtZyyFTrnz/foZ6eScMX9Ol6qLoY9\n",
       "LGHsFv8O8gE83fRSVLw2oR8ppdT2LhzNiY5c+gT8qPYPl/KU5DXLp5l2cquuZf3FDSiA8IvIn1Jy\n",
       "xlmUmcyoqNs1QDBF8sjCOKlw9H6w1YYUk1YZIu0PxAtT/Txd1/N75nsDFgNaumw0BGj1YRK3H4mT\n",
       "QK2/lOpyuAecBdtg9KeCXNWJFa1BPI7jgHnLAAAAYAGfBXRH/wArB68EcwDW1pfOYhTBwATpviOg\n",
       "HcPT1fg3A+GczVs4XjxyFC8ODT27hPskzXFhr75TKNGO6P6/sZ35m/e8t0KrsZdOUY2Xnph9Xc29\n",
       "E3IHQ0QaR0Vdd1IWpAAAAGMBnwdqR/8ALFk5gT8c2yctQvLDsexoMAEqJmvGP4VRG1F5lgxXMQK2\n",
       "O5VcD4lTsIhyVA7Gyak+Ky28aVRbWLa5BWY0HRNp/co4kEEckzJXvpO83MQFCYB0etWm7L/40L1c\n",
       "xAsAAAEuQZsKSahBbJlMFEwr//44QAFGiX0UfAATiFjBbXPm1jeF1OshtI7FLJ48sJdrQSjxGmJY\n",
       "UdnZvLb6iNqh/ncVBXj0zphyzBlGO5GHldHH1r/94IFTPpVv6JBb3iZ1q/hIwduFfsNWRfTIFmye\n",
       "L+a6NGJWOUyzSe5z7XQY91j3DUVAIrkV36LS5y7BH9AtsaUi5vgdfO5jdKKA/04MlihqxXQqQJk9\n",
       "4jXpg3FYvlCLLfMusEICjMQuWFcEVyXYS6+n2jl+iMYminJtQwt+zMrqAwqz3UyLPd3VhFaID0sZ\n",
       "lyD27LJN5CzkDdpq2U0CMwDv8ComitQORJdacNzWNFOcFtskUVr4WeAEPwGW9kFTzSFj2S0nCki8\n",
       "4bKOfgWoI7rERacn7kKE0IIwMkrf4rgAAABSAZ8pakf/ACxj/JmbUUAJdjGOm2+Iq4cFwhzjdEH2\n",
       "TbT5AeHLpcOrkFmGh0gt2IMCYPzAWyY+R4kE9VpjkJOXSZh5RZkbOkff0Z9FvlZnfE+fcQAAAQZB\n",
       "mytJ4QpSZTAhX/44QAFGkIT6+AAm037Mo5d90T0i8syzZUMDTDMCSR0UA4bPe30gF+38KzbhoKlZ\n",
       "HdzAd7t1wlOas5YPqLg9zSN3jqJ35gbp+TeR77w9KtKfn7TgixJI4Y2Xkq+rMHullCDCpTtP780d\n",
       "01sr2+jPWnSMuZmxeSqYTfxOwDMRXyhNIfH5BT+jQoCRCuUXc51CVwqJppkn1CaBCzX+t8+XG2PI\n",
       "8n5n7D48EaLyFbQkbDWIpw4P6qLqt7qmnnBcZ8+2gRoMOxwvBEKDU5m32SRLXFO4DlQC6rYBXf47\n",
       "nD2q7/uMfHBL3LiA9laDtcf6ZrQCIGXDeZatV9pmRqaBAAAA6EGbTEnhDomUwIV//jhAAUgj/z9y\n",
       "F4AD8CxbuQrcsDihpbbv/FfvRlJ8l7iFYXwneKlFPt+q+zaHHnzbxAQOrcBUed7Z4Jfgs9fnAs9k\n",
       "eGUmMyVnPMcjUiVaRajAA+CNeq48GLbqguPNP2bDY1tst19lIsOT0HJT5B7HHSGHtL/tzgUAV1Lc\n",
       "YZvGyPk5cu45GAPlINfUR5tqyanXVq8grOYxiVNWD6XinEv/OcZdErIzc0Mclxs5BgjE9CmjHSMd\n",
       "RfpIsxik8UfRRzvpXS6kSpCejbg6Gcz7TbKbhAU2w9naxBBKnlLGooEAAAFHQZtuSeEPJlMFETwr\n",
       "//44QAJ+buLUzfkAGvQDjikyjGOXl7ABVhAXgu/R/GIhjqaRvTtsfrLSijDlrwlrbEWenQUDtQ9I\n",
       "H4cq/WIHH/VVi70RIdVavjxTssWXnEsEcuJ4TSnfTLulibHaKK3LCS6dAuCrsRY/az4Qip//hwgd\n",
       "DX4E+bwhcvKhhYf6YoOZuo0mHfsJjIFDsT8vCD0XleUUpUoeFu3GW4HeXs+f8F9L764Hy5eVrZE5\n",
       "prXBsBWadgGnSx96GuGu/pe+9P6H+CeBx0GLQD7edKBymXvCne7b90HvYQcLLDPUEhbjQ9IAJkS9\n",
       "TftPr3bMEWc3jofc9EqAzefNS6poxPhzLkH/2PVVP9zLLPQVYBqiS32pFBSGdqUDs8khOMTiqWxt\n",
       "YYfkcuMvTL7RwIprGI01vyqePwemZ9rEpR2Waa2BAAAAXgGfjWpH/wBS9WhRTGx0AAa+lAGeCtdv\n",
       "is+WgglcAh0L715LrAf9SXuGdkUMCIhiW8IKQQiwH+Bo+dokMEjAz5VOLP2S6/LAb+G2jZpe6R4h\n",
       "HpWViuPfgF/Bt67U+4AAAAFsQZuQSeEPJlMFPCv//jhAAn2A4eaavgAHYu7mftpMx5r/+rDiTTK1\n",
       "ulOMa9YqBWHXS3riKO/WZELoqdvNd71IVaBaDVNrXNnFZe1nA2xR50TKh/agNK+YkiT5hnhjwhZm\n",
       "JX5bcuI2Ll6rOxAoflErA5/S0+FueCGJspHi6fOJB2vEbwrrvJHWzRC2LLiMs3JPBN+bM4BIfsLO\n",
       "kgQavVhuHcsfDvNERGh6dS5jvxwph8AhRlflDsIpIC9CxLOAm4IMnfKWS+oTJc6nITRYtKGH9fSz\n",
       "TiYnr6KbRjSi7vn9F5HIDMEK4nlHfgwqllWYKeV2DZLNNlzqoWbIEoS/9AkeK29riOuF5t4zbd3Z\n",
       "CYuIvkSLGsfD1RarNPSqWmqXxjDQiPp+0SzZV2IIEFJfHc32SfrPf+ombSVQPC62bk8r3HJDJCKu\n",
       "gq2TzP1PktkCZ9ET2euOO7pwCvf7lI7D33efpVd3RzC9hT0C6GMb/AAAAHMBn69qR/8AVAYWc0uA\n",
       "EkD4CZ1kKxNHKFVvovMhQ5TjoCg1kCuB1FmS6ZI3CJ6D2y77DcdMM0U8InJMdOkruxU+Zk0sqVXT\n",
       "+t/Ntw9zVJPhZE1MX5KcTPC92R17cECPPTtismYbH2oehdsEDPYs1zcxaTdlAAABDUGbsUnhDyZT\n",
       "AhX//jhAAnzFF6jPAATj9/ZPwX7GaB6thMEZkrxxVyCam3/7A8I0lVsTI/C/oEb2mFfkirgJIJY7\n",
       "1NrGFENIkm8qRAcPqNGFuJsvN/q145wQb90kGgxrGa1PHM1PIc7l3V0Ht9+JbKOmjOZTHjkAvyTk\n",
       "D0Sc87VToiTwvlmF10RCsY04++iYh1c8H3lhKbh/MjHRNKQdpkkr/PVBJCEmsREi9MpJHK6oHJNr\n",
       "hwVBbcanf8TDoroeRlZcs4OhQDhbdUhfxK8WvJ/EkFIdgPDJ7gN8Q9JDdWnOox3y1ruk0nw0u7bg\n",
       "LH/mqyPsB12PsW6BRoUdjSR3EGQY8TuBM9o0tqJ3k7lgAAABGkGb0knhDyZTAhX//jhAAn/UoSRB\n",
       "r+2ROAaK3/v9di5XdrM35GkMjyQRgvc8BT1KAGZhPglqzh0MyfFRhzJbZQzi6pY1/lDf3Wy+S2IU\n",
       "BvofBpdkTkm+lF0PCTVHL4UUuBZvKe/alCO4x6XFWHT3UIdhnlqdN9eswWy110IMUmNX0nSb+Lvy\n",
       "rvPAypxiTqna38B4+MsESlUPV2l8AGnxLq/ZxKPhG9JmE+wI0gdKAsQaw6EAN1KABOn5D3QA4YOf\n",
       "OGW0FuOD3pPy3ePy71pOq9XCTGmCyjVsqFetDoAZUNO13iWPcq9CR8MSL2+FFhUlKwi2OgWlpa4s\n",
       "8zxWAmOjHtgganEbeApkZCThAkiCGBFQdz6wJbKO/n3qwAAAAQ1Bm/NJ4Q8mUwIV//44QATTzYhy\n",
       "5LsYkQIAF8mHN4uTlXszUhoGEA5z44Drm7qW2c3Dvw9d2nOIX9ABOYrXiQoHBkg9NRttWYvFVZel\n",
       "MqLbPmjO+I2l+eK1vwsxAiAmS+1WI7/M1mkt5ZuUzwyW8WZb3cdq+osmLODCAA0DuJ/r9P5EQRu0\n",
       "YEfC6mluXRS40jhYFdUqa4rH94pvjAQg1tUsZNYxEwiBebQ4hsa19Txyz91WPy0zNJ9VKpTTsN1a\n",
       "PkW+QJzRu9zzjqqq/nzr/ohSyH/vMUT1E3vMM/82MTHN0LmGK41AJJqKITjxt8I3biuBxAuoF0Io\n",
       "KWz1amgvfs+dxeMOSKIEX+BHYbzfgQAAAStBmhRJ4Q8mUwIV//44QATTzqDyq8VuA196AFtMNoAp\n",
       "yoCOc/X47GJ9FoCBK9OJleXmYhzHUyUiA4c/dWd/Pz54vWy7Gx9a/KQaV0+SvemZEnfSPUeMFR/E\n",
       "93ftVmTFItSLJkZVE7uO33qEOPaK8rjaLZXHXv1pnpMsWsc49f+PWwCftBSEJ6+cLGZ8A9j/Lkh/\n",
       "fPbvWq3uiakA0Q7WJyMNt8V+2/K2P2smfWm6AEjITrBsnOMPpm+OHYsZSbtK+mSCl9cx6sN8kuhQ\n",
       "9JjsbYJEglWXD98fUd/6VXbnV5kYzbsTzDZYnA0kJY2qntlbZ1pDpbiEjC9Up/Fh4xUjbaM8s8/O\n",
       "aPFEHZsGGjWsUPYk39nyQ0Xm8YYV9s+VwHiEzb7InZmxv5jep/cQdwAAAT9BmjVJ4Q8mUwIV//44\n",
       "QATWhYE5y7b6S0NPoAENhWLVh9PzrY1upoRoduPXeX7W4Ng/CycHqpOyifHZv+JkHyiiODO1w6Uk\n",
       "k9HUuGFezJAWAkW95m8jC0ATBNtTinCbRazuN3lMFHmW3K8c1pDhKUSJOmtQ7EGSA76Qk4bWtJFS\n",
       "ksgPdyDwr806eyPFqNXLxwY4egjn2+e4zcyUv9OGqV1/QFp1migyRrZiKMfIZgmgc7hajYLXLqtQ\n",
       "vuJ/gtYQUYNuKEIJVVjli07nPF/SR402dq3ReN51pgW3bEqNpBqTgs9ORVfaeOiaGll1KAdO+5Zz\n",
       "53CEte5b1xbl44D5lnMAqLo0reeJ6pCF/2n7P4rtLVcyLyICjQzgMi/Gt3Z8Lxkye6OchP4HsquK\n",
       "6A5xs2bs8r5Yv1knLAAL6kW712gxAAABLUGaVknhDyZTAhX//jhABNuS7Wk2Y6ncdAAXqFYqgsO7\n",
       "Xd6CfyIRNu5A3FL5wGq9fBo8iJP4EUQeIlG7gr2xjJd9TyskuPNmJYBmUdbf0r2eQDDtwGaGY3ZT\n",
       "KjndWS/cvTCDC2cvCoKAmEo13XMBKW63du9tQJB4jCtr3ITOePLXcEL48mLO2Gq/IBpS3dDY2R1c\n",
       "SaZJz0nGnbOi9BA/f0PNeZT8wFo2xl/uGaZ64zX95vhkfiek2FNFyTI3Oe3cVOQRQCFXHL4cKoMw\n",
       "bcKscrkBa9qEMPyFs4AAtuNv2jt/nySH0kcXepkNCJtiGwO0oRENmn1BxU41espseYAA4BQ+qTfT\n",
       "EEekZnzWImdSeRFBRCiQaB3VGc70kXF2LYBht1ilXd0zlYm5en08EMAAAAEzQZp3SeEPJlMCFf/+\n",
       "OEAEswPjWCtxKkzxqAAp8KtDnUDPJjSpAIfKSZr1ErslgQMBFjRK0stvYWcrgEJUEiZ+Ujfzp2kS\n",
       "FpYz+WUtkFLQX97FLeGJCPTbXlrXNiP53HD+JnNjpPwcLjbHM5apUZGSTEwRcb/Jo7f3oM18NcjA\n",
       "cCupbz4eiFGLdQCVYbA342FsYfwwmWCT92jm1MrZhn4XM1EaUxGS5t9mZmchpER3u891COtb+GYF\n",
       "wXRWilqQ5ZApGMQniKwaQZO3OjeuwygI73PskyRDAAJBjyGxG7k+eZRY7wdOhZpUgoc82X8N2SD3\n",
       "x1BEZ4XG2aMmAOT85v7YwZlrIz3j4s0JIDrOyzMIi/9yHFiXefMKE++U2r47IfiV4go3Gre+7r0T\n",
       "2xFG2MEUpSro7AAAAZ5BmplJ4Q8mUwURPCv//jhABLvgyAG5ovMdFCsj9aLlFTjzJIRQKfS/BGEA\n",
       "2dLPgeFHYHf8Z3ZVa7bPAZCpeNf05y0hLwpZvm1KQUCGidnlWbFExrz+1SD8tkv9mqCc1w/ESyD/\n",
       "d5Qbg0CQHp+WppmvqQC+7WfrS0sju9O4YNdXJBQAL/s5BMtOXXODhnUnUsmruvM2Rr5Iwho5Ld2Q\n",
       "Tg06jKjc5OxdTis8Ae8iUvPjK2uDGpFv6K6ibaqDZ9RbFihcytEIcmXhbDzdZSRHSG1LpwQSIq1q\n",
       "PvrXur0y9O5Q0OU6sUSgRbc7HDXVfIBp3q3kpMgZ6yNM0ITtmaXw9sE5h6hkEX7o8/16/HDOaeY3\n",
       "/wVvw3krczTZy9eCRvZ3urYR5P6dyK8RMA2wDfIETbJXNm9SUqBABBHsuj68s1cS0AsOaP9VNaAC\n",
       "uidBOJODIu5HCnSOYd2FuuW6cY9NOAG72//CaRt/1ac0/2nK18X1FhZBAdL+U72VrYBMrYe47ZRY\n",
       "IbHStzPC5lSBrxYzoTwcEkp54lnoiH9RK47FmYEAAABzAZ64akf/AJ0jstv35HjS9FB/moCT0FyR\n",
       "us6GSA0jOxh4QAp9jhfdqptrw42QCSVqfVhu0eDK2Ya3ggRqM0+Jx0Zkvhi4eEALQekPl3rEet6V\n",
       "iORq4s9IIVoLhDB33OB9BgaVlqy/GXtc3QvxVdG4prtRlQAAAMhBmrpJ4Q8mUwIV//44QASaE8YJ\n",
       "223d0AGlCNfl2D4mMHGkTpoaK0k76KCFj8D78SXAK7OFDCM+9sNFySVB5+mAeRVDYFomoyiSr2cy\n",
       "9vsnOjYQZ26wE28EriiG6OiBKD/w0Iv3IhK3rQhKjsQxoZ7HKhhJJMDtL0OFqJswGWi+tMe6E0IH\n",
       "Cf4aEzZwAFW2n0x/NLQAfbst35jWIbI2GAE25DE0th8cQcLeBa3xggKzUK2nPt49qJhFNGxd3Tss\n",
       "++/C1W6h6OazFgAAAO1BmttJ4Q8mUwIV//44QASZFK0Y2FklpfCtxGrYACYwRW/jgDb+IwSopa5K\n",
       "rLWp3/xxp5/bXeasiwMqhD3Js16UFVXdpUgXPCw1aDhf9ZNqXCJyIC03qRWIf/2XM0cLWrR5KQGl\n",
       "oGWGo3TD4iHWcehuV3qgfnAgEVpCu4lZ6c4Dnfszy2FMj7H4g0e7vz+PGeliY8e3nSoqaicIVPVQ\n",
       "6VSW60sWKGR9SwlQ54fxPQPOBTu9KhEcs/D+hWnaZLBLEf9M4lXIR2xyekN2lox42zL0A1CWbfrq\n",
       "+zgGW25iUKtaP+fmkwFIU9DCTlRWQcEAAAD1QZr8SeEPJlMCFf/+OEAI7bJAxAESFU8XwM8O4BEf\n",
       "HV3d7fTX0yOBxpI62KtasHHzP/YCUnxNkQxt2DTnnU+u8tPeTWCnPV67IKgzwkbxr2rIBDWpUfUq\n",
       "aeXkPh9sR7XjCXLtu6MiYxG6DYgBnIz7P9EL0SBV+rrAbhj4lyza6fYjF8/uAUtcRaWAduoPodgi\n",
       "lWHv5DtnItRTQeE0BHJ8E9ay96YdRStQxDduwU17PzixJd24FMycRYwLsrZE+eUPkKlWb4aaIPFh\n",
       "Gyp6FwSBvqpd9UvifK0hxhjRghAVpKgLmJegn+rbhC+VPkJbzQPB3LAGHAgAAADzQZsdSeEPJlMC\n",
       "Ff/+OEAI8UbErupmIATOxThZZlS2C9/TSstIO14UKSGyD05owjPxGh5M1ZfBY23gTwwEEXKSmNK0\n",
       "rHMuKIB9m8XyAKO5E3H4gW2XMKSVSHL1QLjnTd604xlMPjNrw9So2f7pKm+SVIYRfEJgcIgUGrDE\n",
       "UiiZBRHbSidPO7QklVYYYev57iobD5jgR8C+RBOkaeXJoirjs7g7VQA3qqhEBEKm3Yhho2WyXxgX\n",
       "Vrg4+m1Z7OWlbK+y3PvAdDn+holfXnf2/zZM0Lul0vrfRz6eIgxwhyf/FF1cg+H5rWRJubfjGnNU\n",
       "DIlQBKBBAAABCEGbPknhDyZTAhX//jhACOyOgBrmRYAJ0+riHkkzUo3n/kxMRpVsJ03cczs1Hg5m\n",
       "jLfX74WN+RiegImijoTZ1i8BSqfGHiszBbuTW2GSAhkEqhrXhOL5FpV4/T/G7+RlXdE/1MjB/usy\n",
       "hMrBOIu+8lWae6SKwS1o0+rSoEXoJmNfG3ByXVzr/FA9MnUG2LrsQLSonfWJ0vvmXEPH2FhRAGYH\n",
       "d7uUL5eoO2ASrj1EmpXSQ0xx6fFN+wMoKXSFAOaaxe8w5N8fsC40cWunz4Vl0xTKSlQiI+iAftQA\n",
       "QxKf5p7KuSn5jXUt3UABgy++0GCWHwYevuKW+5ILlBHm9my9hgDPVN84HPvqBQAAAP9Bm19J4Q8m\n",
       "UwIV//44QAjnmQ44bAAlkTtaMqL5kIXR9D3oS+9JCSmsh3rjNXXZ5VbLIUQv+ahVrN73Z1KWN0eC\n",
       "gL+AWkEA+D2mFi5JJP5FSPZYAQ1vj0/wLObzbGL6pip7GtglsqCJB/xhAZ/8V3VaDkwB9vD7A67L\n",
       "2Kik9AVFoOw+qZ5HbLPJT7FaC4+x/Jurgs6nE1PEdzL3ywuQly/7ZChowxuhX8VnROkuquQ05Mn4\n",
       "lJLHWSiv5wO9BQqR3+a0CI7kjpfBAn1nzamGbSYqZNUHRn6bNSsBk30KDFJptABlvLWXDBLtbtHj\n",
       "ubDm6U4CC/MqM8KQ5T+9j5CiNTwAAAETQZtgSeEPJlMCFf/+OEAI98yoI2QGBjZgA2oxckhjeFa1\n",
       "UkZiZKJUnZ5f/WK7cxLzpSo5c1yt7YeWMb1HOTdeauIBIOqQECCSZ0pWaBasRMQLANNzgWoTEW+L\n",
       "9VrsLu8pyVkpw3w0G9gXrq9fMUxA/G/Hy3FJJvkPtMfxwEXHzLsg00ZIzizA5T82amUrkO6dWtY3\n",
       "MVDXoA7lhiV3YtTBSdj1HFSxM1D/7Jf005hAOhVQk8rAvLOXscKJFAisTlUTLZiUzdD7nf36Eb7g\n",
       "icVkTeouBZwR9SbuG3SxlbWw3hAzMQ6dXOppjzTb9hnwiSerJS1O3qZcQx9gTiw8KaxdiyHWBxxx\n",
       "QCnunKN7lVWWzPWuvcEAAAEAQZuBSeEPJlMCFf/+OEAIsqjceAALSjHd6v7sJ+jQ89Xd7Wtun8wu\n",
       "cf9bS2SIt+4vuIEaZeK/UT+sRutDFCIZCkly0gohxzww9jmp0YNZM7rEIoII9mONKFf8f9QqyyZb\n",
       "TBP72E9fzkkaQATfZUvdwnGj5s+AadY+oM6siEzAg7+YxwmVm+9esC8i0uC2gKCE1Tny7gTZO9BL\n",
       "9VUbO8/McEzxUQRoEu4AN+/1Zw7k9qMBhA2UlukINEDdWxi9SzJEh006d3cJQ+0uBkUYH7Ozssb5\n",
       "A0XLAhWkkyFLi00TqjJtSC6WgliOimYgCiBkKX3TSrmdyzLlk/tZyLHqY/I3UgAAAXdBm6NJ4Q8m\n",
       "UwURPCv//jhACKYmuTZ6AzPlMAFpRju93zcprmlOS5G99/ufWE3gzT+2hjSxAbN0Ofr8djF87Otp\n",
       "FeXi6mDv74CDrMu5kqS8YYfcLyrCY5RICwL5re+9MNUdNyfnT1CCpJXg15pJb9jqcV9/t1h03jT9\n",
       "TN2KISRNbxJ74e2p1ijyDRwtgS6lh5X8BAJ8Whnkn6AVboqht0PLKQtyR/eM97lmmL36G6kEWZjB\n",
       "hOqHi0ra6i53lRAPK7K1vJQ+sXTrhZ8+GqYrYH9BNOi4ytwsFPQXO3q/2e6gMBs2qZNvPvuzZBga\n",
       "MiOsi40LfRI4o7wPRm8sUxhFvLI+2I6f+/XfiWiGqhEJP15rw+2GPF0uswqDuIA0VWkreTXx8kg2\n",
       "BILJDnf2rV3JA9S3TaJRJwQACDe2JngrOxqxy/Lo+MAijw3FlzQnT0V1cnGLv+xxPn7rhF8NaTrX\n",
       "Jb/DekHhBQdE+uU1Qh12OM3vVi7A6fvW5uEAAABlAZ/Cakf/ASS/abyYAEiiEw4ApfvLocq/+6i2\n",
       "uvpydIuH/XI2eF7RWR/S4JhdXvLiz9+3h3zKx1/MnmYqFaQIfkWxAiSvM2iNdcEKY7tCHnJe6vLg\n",
       "rGiWSdFL4KSgzi3uyzS1GBEAAADnQZvESeEPJlMCFf/+OEAIrQjMA3eAKsmKWDFBWC/bXyifyLmf\n",
       "PEamfyNgIUF2votGi3maItMx5SqCIRfthDbIP4w/hJSFbUJp638s12LcZ3srP++ATfVoT4pqmwk8\n",
       "aQN2GkCsT114BOuk6IGQFr4XLJ4jHYnObheIO+jeTl2R1kYtLae80/1730uiLzGGYzB9hI7EbFq1\n",
       "9qwFHVHQTd6tkqeoMFNiHuDOvwFKv5Jd3VAgFn213MuqhP0nAV7X3D1ffmkBFRGJv1o8fiqizGFY\n",
       "+Uy2hvUOSkSaBmEHZMeP4Gd0KfmjOoXcAAABOUGb5knhDyZTBRE8K//+OEAIrkdnaLGgray104dz\n",
       "9cMgA/J+REI9imRXOhSO9A7SBA7A3GzvLUgy+Vpov1r1X8UWvCoNgL6KTyGMFML9JAvG5KdjlPJF\n",
       "M3pcGV/nXul0mONa2bOXEjIi/MCFjXQ0mrmtKigTgbrBSMhAjS35AK9smY2HD/M7yqoRKN2zzNdJ\n",
       "plHKi39n8bXPFW9a5l0dzVRtnLlN6GmgcVstCkLyA5HoyRUlUICr5YBOQSzVrQoKG90Rsph0fyBd\n",
       "mJ2jyMIoLNe/6s25ewpec0kwZduPuVF2mQ3u3BnReRhYy4xgYmt3HPLqSVRo2T4AWdQCBcTDySWl\n",
       "jXwdgUFZ1on7c6bDsLYS/Rf539qc4qbxewvqR9bxNRJKt+9EYGqavWyOx2fB4MbYVKvg/yIEmpAA\n",
       "AAA8AZ4Fakf/ASHZU5HhQAY3Pe0IJHEOI+3VKBaRjCLVf1Dvj6k0H3QoNPl/k/QnWlZcUA/BDV2w\n",
       "4cFdvImBAAABEUGaCEnhDyZTBTwr//44QAhnmSEdH2SBtWd6wAX8CHTrSSGhXLz8I0uyz+obhAJ+\n",
       "AJI7ttl7dKQegnDkVfX5ZBFG1wGgN0QORd/4Kr48+3yvVU/YQCKLowehxN8TMebwkZDKVKyVqOzu\n",
       "zBUfVAVSSbdMsK/E+u6I1Ao/7vBSYWWYtHMdTDCYojyRueEBGLx+kCoHth1ZiATm8io+7NancP3V\n",
       "JVknjucoF5HDc5O+HG9zBlDoTzoKd0Zbbb6Rj8JjXQBtPzOFDikWKtDi97UTBbG0wI6ADe2SFcDj\n",
       "7N2ZpHKHpVlysw2o9+C34OHzHiYkCs7nFTFSvxLD+Ve6oT/ih/8s4YDJKLUbPEj2lkQNq+PS2AAA\n",
       "AFIBnidqR/8BHWo6AvQ5OPSalDdIhRyN6c9ohXILCPHWWwxGbIb/grABLJMp/risHEwjqxRIOVkP\n",
       "e6hZ6LjyVyz3MIupDEUF/RzOJPMJd0Tr9sl5AAAA50GaKUnhDyZTAhf//oywAjEi7RMmz4Id0QBf\n",
       "xUtv9bM5/vEFua76P97dve8qSoovLufjwaMFhhcrXuzDmAb7N1tuivBRClW/ei70Ig1mNFkDC5J9\n",
       "uR8JX0XES+VtUeCLS2MDwFo5pJFVzAiHzYMn1irkj8c/cFm35nkC7Xnqj7Cxfvb+d164yKxdaTp3\n",
       "jiGsNBiu205cj2xpT1VhWzdU1qNQsWmT/UoSbXSydvDATfw2yy8i5AxDtoofF0oX3vjvlL+YT0o+\n",
       "qP/vxm0QDoRBxpUNCdMUogUfnRKowHLgb5sHBJZrMyDqgAAAAOxBmkpJ4Q8mUwIX//6MsAIwECvJ\n",
       "7SulKb3ABQDixMaP4NdGeRjvrY+0YOOnZEHD9gEyMwJrg35lViqOgrMTszoihqXtaD/1tPjqR2ag\n",
       "fz/h4EhiRFHThcpPf+lsjUxsjzHCoal4LlJXeiZSFnnrbjFNwOTs6gytJSFh+/94M+1eWR1Z/qOM\n",
       "XAGvl8BzYrnvyMT6mbzO45Kbsch2vEONK5flT/b6WgGThcG3OlgFRHvaZFsOsp3U+Y9JQcNLTQsZ\n",
       "CAYwjQ95hevZFTLfPo7VaAQNAS4K2WmwyhtMSSMxrZ92N2w2U2ryffO43270kQAAAeBBmm5J4Q8m\n",
       "UwIX//6MsAIzxv9YGR9/nCIIocbWhieaHK6fXUbZ0YzycYol/Wo5xu6Hb55VBT62BnsnjMArv1wt\n",
       "ExN2GP8HijxGNFpa//K2XLnz7dnZsIXFKGrHnLBA4Zr8/2UR/j6uMx2zi4vk0FjUKQvaCUSKFtH9\n",
       "4D0yoNzIJPbxAD3MIV1o1UJN5Hr1jed1Jubbg0eZEQY/+lyFJgu74zwnxFfGKqboFeExnwb0YzW0\n",
       "EkITvJiQ/8OQCN7IwUBhs9O3MGLvbUXERmTlkWyI+E+cm21x8Zi5YTSondCy+WhtnkyYXeQmq5i0\n",
       "/i1Ex4VmzaZm5FaJTIo+wuq6XllvdT5uGxsyjieKR92p2faIBT4O9IyJetjElzHUMoTva+qu/VK/\n",
       "dEvDFERBLGRrcc6NOtE2dAUWFDaHl+uUrb/elrb+wmJfIcI7SSfcVZrNZ/+etY3I/OZyrGWqpPhY\n",
       "4quzeSTWP6d/zGpLLe81OiVL1iFY4ra8ylG14JgWVAgcNMaKP87iU+7vIWBqI9KRLXtl9LPYVqWl\n",
       "XY5uGgtwK8PJuLZqzBIjFORtuUwHP1wSmuaVUDQFpA8ntofMbMM3c4P79H1oGgdCCSuCKAdInO5V\n",
       "EdJTSPsTcC7DReNye8NSq7kAAABxQZ6MRRE8I/8AtY/siF8AdhaOYVdJZHAijh/rv+5IAnFN//XB\n",
       "FLAK3iU+76y/w6BjFLiFWs2dxkx47BvkcpNPRsiktEhTgAATn/5k7ZjS/iNHfz6j50mSJ2kp5zMp\n",
       "cVBKEgOy4qMc1asAQ5H0+pBl+qcAAABIAZ6rdEf/AR1OZUQZm6RP4Y6tnBkHG2hQOqSS1Avvu/XI\n",
       "WGurcVBfUPUrJVgAmc0LPxgg9LC9UW0/CKwAEnkGWqVBO5L9sC+ZAAAAQgGerWpH/wEdcYKnMQtf\n",
       "//TPFQHqlyyZUfRo5OMLkBlv9pux+HBYlkc0PZuQAld/5otfhyPgbbpaajx1jlwlde5NcQAAAYhB\n",
       "mrFJqEFomUwIX//+jLACMEbgnO6aBb7rVGCSaweHkYaVLvYqrsWLPZIM0EXGedsjahcK02aBjuXG\n",
       "sXHWgGrhkRxWsPIP4eIhx6HH5lSrwvU5QybZNm82tkgXCv0GmLu8ZxzfrfAmP/KuDF3m1qGIUrEl\n",
       "szZFBxb7C4xmY2Lul3cqVjuU62jctyaONRDLvl4dp2FKOTwLLaioDswUb4dan7KVwxI571VqZehk\n",
       "9I0NWBqMNGPXhqc4QBQwAs/vJiv2xIcCjFQ8zZrNvfQLcI/7gcmp+U+xTNiqrrV/rvaSbfnzGvkc\n",
       "/KRwdGrMOkaJwUEsrEr14zZrNF8K1qAWpRj2xacyntPbQTrO9vjdkWBk8qIA6a464pzP6sGpUSk5\n",
       "UPuV6TOsmaO4Yks7tpRKqPrEUP+Uek5qr9PtIMMf4kEQVi/JcSSFI2XwOJHFyGxPAOfNA2p1dCwe\n",
       "+yT2gJQoO0aaiqhEtVPhmaOy0kRaYE8Mj72wgSDo1It18gr2msNmdS7IeaxnoBGxcAAAAFxBns9F\n",
       "ESwj/wCu+qZJWEz4+FYQrBOzsDcRTxX20ZWfChADR44uTZKQJ2l5E+ZDGVzgnYtTnTdNbnfFX75w\n",
       "dqu0jLbgU44YUf7SwMhqiACiKQ9kO8bAcnTOFk4z4QAAAE0BnvBqR/8BE9IkcxwAJVZnNYeIicAn\n",
       "0vzTRjKXzH2h/UO3mndvJGdllP8/S9P/ocbYrbgi44Az5909SasKXoFY7Oqg+1JePbx9MxzPgAAA\n",
       "AZxBmvVJqEFsmUwIV//+OEAINKvrCiIA2b6M05F/EQ9M6DZHZrA2ccM7Tt5N9QnDm+h0AamCcF8F\n",
       "lZRRMvDywC6uIPwu9TZtY/TvPAkObBT3Zz4Gh+KyhZRIb4mFle+86zqkMNb+4QNcZzuHMbHZWCMl\n",
       "mJpDjHeRdTneN/HhsilCeWXO/hj4D2U8g7M6O5iozLyGcWcOrZuGp42TgSGCcMOO2KWw8Do4v/Vc\n",
       "XA4xEHw8jDMfnis6KYpuv8RtSkWLX5YUl9HbagKPJdnZy/SQQk94uqAZXiLbk4GWZ/P8Tvva1i2V\n",
       "JQ8qdV+pO2+VL4HbkXaC5T7X8Wol0iWr9FhnGTQYsUwuRYgQRLDjO2pB5YjUeYzzC5mXaYvTU3iB\n",
       "PP/tXFcb9A+LY5KRysQwtwxSh7au/4FF5QAFB49y47xztd3iVxrOr3L033tihwcNBUkA7ddF5kNd\n",
       "pztt++AEQODFCc/4Zd3L7lBL6+Kjpb2vaNVR/1M1rXnz29RrbqAjsgr4UICXb1Zkg0bwEtrT5VxD\n",
       "+BWa8EAjjhWQBsmCIim9AAAAa0GfE0UVLCP/AK7g50GPADcE6upAGoUPodFdrErlneZSa5oqaEO+\n",
       "qGis5y2l5Y/ttpAtxuuVmTghOh7cwUnqbfHmuEYuOr6oOGl0GayE35Eiip8ZXGZoNZbqQv+aLGad\n",
       "obHetua9UDasDbSRAAAAOQGfMnRH/wEVYXrPaf6QkJ5XhouiHepRsqNxHFbnJc1OJu2pnTKdBXUI\n",
       "0TuAxcPD7znLAI+VOvCx6wAAADEBnzRqR/8BFZFd02rAumwNaDVJyqKMqvxi2cmLgKNbJJyk+1ep\n",
       "JyVKeBTop3+fPpdxAAAA9EGbNkmoQWyZTAhf//6MsAIis5HQgC/2jN7DmVhGxm9HNg0qPThya2xD\n",
       "JFbUfYb8GagAQk3rD2DIUH1TXFvIKmXo0d2W1DNTsPvONkWFB4KoP8gHldyJTC/CeeLQBwwGuBM7\n",
       "2qekAYCGUdaqbOyfZMZu5uBUpj5Vkl1IMl7mKZ1bBr2stKhCllbZ+GS1tLGJKLkSnlQwPpvNyB/y\n",
       "MG6a6aWXAstykxaAua4FBWtyvtBttYtDYoc9WI7T7sHmNelcQJv9ZwsemheyUJFmvpsTFNpEUFjn\n",
       "45Sl2uWU8xxyzNFUAegCI8kE7H5mCG81JB3CG46WaKAAAAFaQZtaSeEKUmUwIV/+OEAIKKldAIRn\n",
       "BihtIIbKShYnvAYj4ICEKoXgm+cSxtbV+Otn1qMzpQ/efaGCdrGpdz30mPI+CMSlamrxIjaRdVTE\n",
       "wgkSscGQx/EpYNnGIHwnujKocP8tK382S0bqVMqS4fn/bVOfR3t0jNJgEnZOKLb/rDqcgMAmnzJp\n",
       "Hn9csunx9wYrfDnGinP5X6C64WKLU9XhbWQpSVSl/kHO7WymGyzdKki7ULBxiSIUWNa/ZT8+XMPq\n",
       "AN6274/3ye2TQSsCYYsgmSROJW0TIVRmPiG3dtQnBxf8+1a7LEbmSXPQBQX2P16H8pn7lkygQIZs\n",
       "Coe1JCTtB51h6SOnOKjFBpPcSQ2qRTCuqMffcvWlrOUDKZPU3sidMdtREVcko8y4xOgW0O3eAEXF\n",
       "eXdf06yonumiwKUhabVm845qSJ75yXWHuafZTsdxfBKGaOfJJ7Ai4AAAAF1Bn3hFNEwj/wBdJOC0\n",
       "IhkK9Yxs35iDMdw73hkAV69XQAq1ks2T7baDYFtotEY1RjEGeGIc4wYvc09mDBaGON7lA5GsPfiS\n",
       "jsosFSOXsqtjdl8Fp5zUMAhRZ7vCqYEAAAAxAZ+XdEf/AIaxK1qcUcF6Sej/kk8/LCAXrf3/p/9G\n",
       "sAAJaEmehpHcSg4AGV8UT2Y/wAAAADsBn5lqR/8AkmbPiDls4HEg5j4hAACLswHA/tAnBrQHiPnO\n",
       "oGKs7P3bCI7tgJEzohVYHFSExjpozC7ugAAAAK5Bm5tJqEFomUwIV//+OEAEVScaKjaxAEDULpw0\n",
       "y44t7uWMaT842TvKGZ8kWjnxPF0j9V517bI9P1WnOPLnsAFGHOTdU6YOi9tLDHD3sglO4QB+szlv\n",
       "/3m/TxNq4KffqzLDugOXguR4fL4HtJiDu3qQ50vH2qwPCp7u07PfIIBXD3/23wbTRA4iC0EhIgAw\n",
       "B/yoyoK0jLT8RaoiST2QerC5fyxW+BREkMUUYiGsKmEAAACmQZu8SeEKUmUwIX/+jLACE/KIE991\n",
       "gT+khZB+Z+RE5s3Dxl32RokZMlR/L8XrmFBgl4EmJ31lpSlWQyV12P0EmbVdRBhG3JKHP9gH9ENM\n",
       "HUUcV2AzCq2SiPHJgkU/NKy9aWhugJYmL/kFA1V/yZxWaFzTnL3AKeJ5YFTjGaSyUKpL6uw9YZN2\n",
       "KWGY4av40fpLuqqoN0kXsqgRX8nwM85YRS46bobhwAAAALxBm91J4Q6JlMCF//6MsAEhBYE0CATA\n",
       "BeYBHwA9U4FWiqNP4UY9hTbZDMWw/PCEKVPMPGqpeSFK86KnwJ9I1/lYHxfz+upo923twqwM5Eps\n",
       "ldeZZ+e/KL650CKm9+hh+Lx3CJgAjvzPJ/KURZwrInLH2q1Dbygrd96nGJm4EkwKgF4mL7AOUn3C\n",
       "y82L5wmRKByPTLuZjTq04kD/fcu/eOYd2yCgJ2lgc7fKYO9n+L3tgTB5lP8lU82zzA/ygQAAAVxB\n",
       "m+FJ4Q8mUwIX//6MsAIisrIkACw+kZQUJ1z+5/pWp45NFb8ZIDRbna8Jmxsfr5JezGHgLiRoORHp\n",
       "iErODv6+djhkIgCPLMzK2VE7bcAcW7jlk6ODzsaG+1WQN4Ofg7cC48UYy6JcNTLGOu6HfaVpBXfD\n",
       "KC5Z2FsmgGC4Ec/bQdEhmmhP3RCsCa2Th+YddgMa0hI4oLTuRvIGfGrl/xPnX3pTDEhe8CGIAM3u\n",
       "wo3ptEfjoJJcsTfgly6PDiN7ceYqgkLKOnGsN8IRin+LlZduaESBvyuu7+kDRzQV0XuBfZbJXRLT\n",
       "at3v4bjZQn1EwwPov8kDuEcrEz/jAwS1A+1IrVTzchPo4je1GKptcHzJtbNOlNtCiHKaisDPjTCI\n",
       "qVNwy/WHe1cySRJNrsospyBk9tyzYHOqebOvY9zZmYIamJRYSwcFMerIDdr9lMMYmeiXCIdG+jtY\n",
       "t6K6CFkAAABaQZ4fRRE8I/8ArvsxuHsJCU5SJzgSebsWoAC5QKB1VQrQDzs+GaJde3Kqssu5s9Hs\n",
       "dyxh1QD2+aRUvUbsVNzRF59DL7ILlwXYEs1LaMFfav9mbIiBZ1k3Pf94AAAAOQGePnRH/wCSSp1p\n",
       "zAVR93vKKpONeOgA3l+vA/oUWpWT4VQDqTXF4AcTAhzoc7EbnCTnZ9pghmrugQAAAD8BniBqR/8B\n",
       "FZJifN1tO/AqrmJJ6IqH5bXpNz5fABMxKsH3qpPm7MoHZrrIHFXckf7wrUkQGcoO0FCbfJqxjN0A\n",
       "AAEuQZojSahBaJlMFPC//oywAiKyrcsAQnCn/ZqflX76RFStP37QZMxbrmqmvsEtL0yXbbU0RcsU\n",
       "Jk7ggPqjohBAllbWub+ah7WEVbeRIvz3mKoNdXZnNGbkuYIPTQFolSCK+UBAg/BMgspTpO0ZEylw\n",
       "PDND/tuaOp/YxymPnb9r7ozZo4Lb/iDtWVU+rk/5SjPD7u7mektCfUFaExH1Fsdhp3pEBcAhmd+v\n",
       "13HVzFZkyqcy0kFw/9G/rdySbQMv7iVtIYb4N6dHnWu7DiqSkfJq4z1NdsV2bkVOmVtZHP55IEVB\n",
       "VqQX1+WTDTA0qlM3aksDmq/EIE1M8Ev/4FZSRel4f7mC0s3x49BWF0C7wp2CM8KM2pddWpDCH37E\n",
       "Yi4Q/+xtcjqOrKoO6UPf8BOLa4EAAAA5AZ5Cakf/ARX5IKObGs7n4nMaUr0qQr66X0X94i3e7Nnz\n",
       "L0hP5/0EAGpRIBAzHg563uWJRdZl8579AAABJUGaRknhClJlMCFf/jhACDOZB4SAOTE4+/zuiilH\n",
       "nBtgrm8sooN0H/vVAgeOALgL8i2UFZsJZmJjM5+xkRzKvUGFRa45n9HYr4awsauXfGxq3Emmwnc/\n",
       "mjYliYj3COruzNs88G4Iqgm1holONlSRSk1MfuJ8pFsjPrhRhvXZ8JnP//7Ez+L3P3L7li1hlG6M\n",
       "biVzgKVsgIK3n+/Vh6cxy6BIh5XHXp3SGphsR4G5iFwofixMGPrQvDEdTMHEAug/CckVd2l70cFL\n",
       "a/y4QjrydQs1AQw7nYA1uEJz14HMFieetEC8HYMKkelGuOYXhuq6OSSoungH2L+0t1/IYnC97d3N\n",
       "w+r0H+V6u9k2Q9NXZSLlka2Y8k6qRavO/xhhFt/dG13uW524AAAAXUGeZEU0TCP/AK77MbccSQ6h\n",
       "XWgDNc4/MNBM1eUeO7zVdHhJmfLiI+WEwaJ/UGCW2ocALVuzBejBFaUV94rVYp/h9yBN85+sUxCJ\n",
       "bKu91u81gJlGpTyZaS7DOJm0uQAAADYBnoVqR/8BFZJifEPEpoEtmrSRPjjwxCfQ230o7glCPfYB\n",
       "AYZ0GaHwjVF+Kpj85Tr4KecHTRkAAAE3QZqISahBaJlMFPCv/jhACGiF4T53JWkXDfA3htxMx4dR\n",
       "7SrTp+xL/dw9k9oJ2jeFsngfoVoH/y3t4sp1zgYaOAd79lzASGJibhtu8go/pj0fNkOoY6us1MWw\n",
       "cZ21NJmyY2QystSlgg7wIXXx1lL+g1FoHImAVlbq9LShaSoYQ9o5YYTzvOkIEtcgIpuRh3ijb02g\n",
       "apwg9YBYATAJcVe3P/1IF5ySbMtWlTOm+DTLNCIoAfxGMCe5pEEWVehnWNYEmotybkJ4vVZbaGt7\n",
       "5OjS7PEf8r7SVPZb8BlYDfT+mNKcQ7dzGqidvs0MQHQ5PbZuh6RFrg2GnldgdLCkyV61ddwDO9DB\n",
       "v0uyoOVBCOSZXQjyyWAhU8XT0bFRP/Yj0SuqElndfStbIYGNb7ZO1gz/eYSc9vHdw2AAAABOAZ6n\n",
       "akf/AR33EhkXbCPaad8gcLvVTcTiaFfVWtPChoEcx3GlE9UjBHqoaOB3/CoAE4aMMytBu1PU738y\n",
       "eEUD7qel4b0zkPcFHC+KCVJBAAABFEGaqknhClJlMFLCv/44QAhnt+Bv8aARkUdNG7WDOIul6kFg\n",
       "AAysSBQlP2rFCMJ4an3jq11tSf5NU366cPXQ+HcYrKbg8uoDPg8rrk+eEuCFHihDgLBkkjn8Q+8l\n",
       "NzAsK+cYp/RReFujnXADsM+WwS6VyeeAuNkX+Kx6i33F+Sa1ayQk60QVHrLRItcGbU69kGD8jGbT\n",
       "UXOGkv/T0RJsbrvjbzvM+PQgo/VncNlj+aLgZ5WiXsFqojQ0MC1qctZ14CNOJ0w7Ueed8e5NwhUG\n",
       "ZfLNe1nJ+mQdb6bpbCA47MXscXfFJDuaQIiihyyLb6K4Cc/ivzfV/NzVbv8TimnBcwGp1mXT/TGP\n",
       "kuaFYwiCTk+YjKi7wAAAAEwBnslqR/8BHXLqpzSwNS1JGswdIJPAz59R4B/i0mc08IoSfsoKa41J\n",
       "6Jymqb+UAAEq1KjWi8YB99eSC6L6MTM4aA5UVqOLtc3cu6JBAAAA/UGazEnhDomUwUTCv/44QAhl\n",
       "mw2S2jAUM7GR6VAkDdNpPUrfsOi0JJr5cRHKjzvok5T2IJoEP3TuakrP0hOGggHSuz8AQ/p4dSrF\n",
       "BzHPyd84gGiKRcO2Cr0767aDno0ezoLN+4JpAqzn2v/V2wQjvs/TeFatsUQjX83WoX++juD8Sagg\n",
       "Fs9UbvfyaUPsM78oCWsbIBgiEWXRs06OpbpVRr0qb6Vi8/2oTSavi3hJbyeTNHYNBf5RzHARHL+B\n",
       "dWXVSBTtFIwXzBoe0qDaWea49IXHiCwXedz7P3vQo8imOwSNlY1ofWI8nHwcfg9haNJqD+QKWDlQ\n",
       "k3qm15GO+7cAAABDAZ7rakf/AR1y9xe3A+pFy0AWWOGHI6AFZnI7VeWtYaRwwtqW/miuYAJli/eR\n",
       "Ldruy1I+nBQnvdBoRpE67cTe5wSVPQAAAL1Bmu1J4Q8mUwIV//44QAhn0QTzID8oc2YAn6HFzlyi\n",
       "Fmj8GgbkcgtfgN+zl0GABo2LTiGt3COhBumtI3bSAdwaMsDagJthUUYzV6P3k7zfuFKRU/BNyQF1\n",
       "sL+pJd5HP/C6tunD6nJUAIQXW16RIaQIiIpn0+mm9dFZP3AEDmVU4olHMdu7LWqIYXiAnqligjW/\n",
       "M2s07szDbj++voesz00waAf2l9r33m9xuuVljPDBIovfa1fKqj+X3LvIXeEAAADWQZsOSeEPJlMC\n",
       "Ff/+OEAIacNHy2MAROddiFAFmC6S+b70L/r43BWMqLfQbrOEU/1o7ep3YLoMvXzP9bC+OUcNr9PJ\n",
       "NjOefXDGwt2X/vCs6zo6ZOJg2/DetQV3FP3LSrM3rhTyK8yQI8GI1rMzD4c8ZWsPhSVTAHcUpYqz\n",
       "MRbi+rdtMvqjdWOMxoIeNRHFLaWV8fsxwEk6n9g/WSRyppZghP4ktpJL/xsB2/ACS+NU2JKoPBBM\n",
       "5LdASCPaOieKDmkir87uQUCMckMVPnM2gZmVLKdccKDUNgAAAMdBmy9J4Q8mUwIV//44QAhn0QTz\n",
       "H/hwavsAchV8iGREmhi5c7usHAtU4FCiSp07kw1pF2USqcCqmbrN+4yyzIruH3iGVJf00fEUEQPb\n",
       "QI3cLYL1/h03f7ohlngm+wTQUVISWU1Re4+ANT+4fU6hWEutEmJJtf5l16t0oB6r8jYDDccInNHI\n",
       "4tAt+iR0fJI3uHjW3P0L9JsCJELsPq265XiUqn2nBNhz3yAXJfArwJIXAWwHPg4CYVfWt5ubkOqP\n",
       "ZbtBP/CR4btgAAAA5kGbUEnhDyZTAhX//jhACGnDR8rytX2BPFb0XtOgB0dSKKOB/sTJruy/rvyu\n",
       "czSfrnBEp/Q3djpknyD7hKntfaPtj//1TKzzrnoQT+bV5gMD0Agkvad01rm/ENXjoazaSIj4sNAS\n",
       "h5dDa1Yjlne1BXwVB3RF3HAqhdFt7dORRvGw62fluyki6WaeOnPTEmlUCPxZJ+oKrMCbmGdvP/cy\n",
       "hbLwI7/obWphpzfe/quMWij24uqCe2+TOXxHBriAKzIA7hGM364zVvqqSfMD0hHmriJcZ3izGpWg\n",
       "C4pyiYGUy51RluEVXLvBAAABGkGbcknhDyZTBRE8K//+OEAIbJjuVmAHOCjTU0+k3Busd/iqagIr\n",
       "V7iJvxz6aQh21Tk8l61grbR5DE70RK/R5a6rvyzkTyZUV8Du10UP70QlUMXXwopohxSIwbm6iJLm\n",
       "kBUHImkpz+/o5Oli8vEGLMLldf7wmbbV/4i3/MYIIZNJ57MYPuZXqsVqqEdJz+tJeAwbBhR6fmNs\n",
       "O8LJqGhqHkEZBau2n3XLmC7lIL6DhKvx+OqM8GXiPZQs7JWYNNS26B9uXF/+Xnk5tfS7IZkTfiqR\n",
       "UEQxHpCkaneqhUcLGa+zaMvjNwUBWbuyF+dGi33hPlAne3OtLqhlBtlCv+n+nEMu7ZFpDl5plgK5\n",
       "07yUWko9sE8PWWbXrpdF2wAAAD4Bn5FqR/8BHXL3F7DaxVWJN64Ota9rnpx74ALbj++mqSP25dgd\n",
       "vzryCio17zM512WjYY7jG/cdM+m0oF9UgAAAAOtBm5RJ4Q8mUwU8K//+OEAIZ7IOMdoRJRxSX9qw\n",
       "l5LzYgWvPzSCj4HA4DOiHibx7ZQkD2aL6dPmLQNHNNNdxHdj9Tws579geSHGTnBr4HNzh1hBuHy+\n",
       "UzC+1tuHL7vbYayTMdLVxot75+Hm0KZXAjTWjk1XihLgiuAyn7d4qJ0mQskVdPp38IqnG/t/tpU4\n",
       "ENZiR8bRYBf2nTDt6NSK1eDefGfzqaqy3IDRYYbQal4Lylwmk22bM8BudEubh402B9/J2vNuhnlj\n",
       "MC4+pxIMV3fAM9d9rrcaraTQxDRCQkZ8DI4Lhu7cltokHhVBAAAATAGfs2pH/wEdcvNRX3j4SHRV\n",
       "6kQFn8N+1YWhvgAtwnUpDeNg9uv2i1jbZvXGxdGzQI3PbkgAmJXn4rS25Y3tKhXM422jkXyuuBhE\n",
       "5IEAAADvQZu2SeEPJlMFPCv//jhACGeyD0FftVkVRiAhlf+buYc80zb8O1pWD7AquThLOsn09H6N\n",
       "uM6VBSmfrKYCRWb6PGpGWN1B8cSkJW9wDfMIladBJXq2oV55pCp1y48FApy+qEZ+j8fUV/LnYZx+\n",
       "UwJLyproqfbAk973AXdjOaGvy7dj0IXed2UuCEClKgg8b5WjAuSHNXJI0FUZtr027e0ylqj7vTye\n",
       "zohYYWHHlY2y4hMgKxkbUdc/fldKzr2+5gqrU76R9Somq+UZC/mWLJYcy9sJbytKI1Kg7jMNxc45\n",
       "lkgxK+q6ezf+06cu8x7FV0EAAAA3AZ/Vakf/AR1zBAV7JI2pMFolI/5Tw0dyQZZgAs+Oc2qX3uIa\n",
       "+wv42UwKz6TcaFKLpNXsfSMt6wAAAR1Bm9dJ4Q8mUwIX//6MsAIwFohAeXgfvLjQsgA6AIjC3LfO\n",
       "wNhifF1r8eOZY++z4aXCy9gPCB8vvr4tw00lxdp2Ii7aPVutqxOpxsyaKy5naRcnIUDZK9w1kjTD\n",
       "QO0zG/VrEI+UNgZ8crj7PTCGRbPZ8uBKZ+bVxd+9uG5n2WL7cUw9B19EmnEKFyW3dl76V+f8z1nk\n",
       "TQgBPtPnNM5BgqyGut67l8gNzWKrDnytMlG4s10Lx2Uc7lVt8tERaPnGQrXDlTx/2/ar8Wj68vQX\n",
       "FF57uBAKpiIOStB5E6ela/K6AeyO7ovSjJ5L6A1hSSvDOz5zm/lyG4IGuTEyUpgNq/kdgYSPsTaC\n",
       "dGGnqtPFn+4DMG+bFGrPk0ts/c6pFMAAAADfQZv5SeEPJlMFETwv//6MsAJBSIlW3FsHHzsARUj4\n",
       "vOmAJBG707efayM3gzIrv6lWvN0iXekGFYBh4tb0PheykpuWM0PrdxJUwjCVYRGSpdOGShuJalYI\n",
       "iZD6mglG1Xr3uPkdmP5s5/5J3ysUcithpdHtBYhdyWB3+WJnztvZwVYFvF+UxaLvNi5+1Dh6Z1kJ\n",
       "sUcZpK1Zr1YKCpdz011fzA31+W4MUaAGBJwc7UJ6GbAgwE0uqbMMAPzObU8kKqC2R4VNEBh/Dshy\n",
       "v/VEYoLPBxWTuRYADEvsh7a9z8c7cQAAADEBnhhqR/8BHXMEC8yUxjW3Sga4rltACRbV2GCVfZPX\n",
       "X5PdvgRBURUxVv39++GnJI1QAAABBkGaHEnhDyZTAhX//jhACK0IjMT1s6w9TeZE3N/r+AKzS9Q/\n",
       "DqfavpLPv/1d07OAziEzbBs4ctJucVyGgu76MUOtlI4PZYtW25ENcRz59LjP990AzoI8TXANbFFv\n",
       "MkWDl7CuhKONY7UbVjY9+Ogh0aPu/dJ8QSkuAp/HvJA2rmGuhgP9v7scYZLim4FozuTA1Vk8HNq5\n",
       "t1RtCSI5DiiIpH5R+ORXi4NJvmbLm8yhZQadKxIEPT53sO7Na61wiAeZkpveEednA54reaVRZhvL\n",
       "UfBfXY17HVXri4MrodBotOfZMtSPQOjQiarcImVNcz++yIFuDxfWezRDLjh00sXrheosc9zip3UA\n",
       "AABJQZ46RRE8I/8AtZVlcJZ1yMDHlaItcT9OdSnzI6jAB+syYzUMBPwb+c2Sk7ErC7HWkqIKTz4S\n",
       "aRooBeyO2hBrvItajITNy23TwQAAADYBnltqR/8BHMmI8c/mjyweBOHRL9NbjrB7dRK+Q/asTEyK\n",
       "g4NGDEzxPC9A5LgtLC31kdUFSeAAAADeQZpdSahBaJlMCFf//jhACK0PemiAOOkKF4Qy7wFla5/n\n",
       "oArWunUE3RLLQKTTZ/e+FzAsuD8ZAuujaEx0/ec+NQQSZr5ysgVSqahQdLyf0Vso1Yi12cYgNbtc\n",
       "MlAuKS9L/j6fzQkCvEwP3CYHprjoWNea88AqrWn+YTPVmvm7gXuMQzvkhG2ptpcfeP/tmRRj1l/Y\n",
       "SE+80N3uIoJMDDdCjWB29+oYhPEHq1lKFqbjWIQiG5rHLVUjFlafr4Qz3zMxT//RFyAnCu/HPZDr\n",
       "A/W38xtEEZgZN3NLHOZqLd1BAAAA/kGaYEnhClJlMCFf/jhACK0IiznhajKlHKWAH8tYx44ge7BC\n",
       "bpQgBUfcVwdDzx/3IIhzqwtfPa2MA94XqKA8A22CE6Xb1Hq+/MLig0XapnC/QjspKb3wFhD6oW1X\n",
       "HXdz52eEB3rXl+bMfQCWmSK8T1g2FoyKUD7WSvLgNTbo0hBU/VaLKN2dJ5DdzQCt6D0d4Wft9oaE\n",
       "OsARqlgvIcSmFHW9DYY+tDeLkeRvFfVHTN062lPwfcp6SodGNxLGgdgOvYfaIJUa7LcskAZ7IsG+\n",
       "EoZHFrveIYct3xvyPE2/ERb5ulSojPVzXdq4EPNjVaG0gfqgfMkDB1o+G/7fKsSBAAAATkGenkU0\n",
       "TCP/ALfyeLNW+MqEgkR/zv4gUpxVYRg1KHS7AnjON+7X5n5k/WmU7NAC3AY86/+aWoAhnLbiS5e2\n",
       "xNMxzUq1uKwqBp66El/67AAAADIBnr9qR/8BHXMEP1oMUEiRS8ptEV4yACIr+C4UmhaZT9MZYy8b\n",
       "jT4TydNUtkRG1MwxLQAAAMFBmqFJqEFomUwIV//+OEAIrW3kBCAIgXfIC2xSIx9/OJrA9QHusjQp\n",
       "BCQ0ncvOzIYwASDxza8f7JI1/O4vQ0qviw1w5Jd9GiP3Vq/muAVKf2QGW73paT/jfCVl4Oooj5GN\n",
       "xhfVea0M2QOEu17hxPxw2mTDVYKKI1X1Nd9yOBaRALxDe/66a9emiS2pLkfqQ2HcJh8O782uqF8G\n",
       "kY3k50HdyGj8qV3TIo+m7hIQwxVDDhfPc25BruDbFKldj3XA6ZjwAAAA00GawknhClJlMCFf/jhA\n",
       "CK0Ux9mAEZHRIakwdP7/jL2hKOVUgygq583c9K0WXqPWjcoFanNJhmKvruOmlJR4VWDjtxYJVHdQ\n",
       "UaJEjzddRaNDLZ1MPlFof2VcLkJ3g2mIKIQ3PRBANe3Xkd0rVi5D1gcFRhpRQbqC25Q64Vt9p1tK\n",
       "sPDqxc2FQIAvcPJzWjjkfCvsVnqhuihhPQQempUbglFlcMNzwWVPfR1f09yfPCKC0IlguQFmBdBk\n",
       "e8wD8pPcCHBe9AA3iUPKBB0NgiXVy79/3UEAAACtQZrjSeEOiZTAhX/+OEAIrRTFcABbMp0oQvYL\n",
       "35Z8ORX+IMOmGNQa+wibRMus8kYzvTjcTP9TWXv/gyovkpL3tvMkdr3enTruS5+dLw2PlWhk7Fcm\n",
       "O4DJrjDc3uFPM/k8OAYfqJ2xF9/AGdfWKh8vkK0iGydp4Z4lBP+IVkDmiEBcErzBbrE1iuhbzbZx\n",
       "116PbeOOS0AtIulNMaIoMpdw4oFo3eyMt2Pdb5jgx4EAAADqQZsESeEPJlMCFf/+OEAIs5esLgAD\n",
       "ajFySa5hF4jsAZvNKmte0GxkO4iAAJSi+l1Yx/j7amhH59PDvOq4undyTu77a3nyQ9Kq+zoojpCE\n",
       "v8YXXXySXcp11yehDS7WqgG2aGmNO+5enBYf78RbI/eEVKSDXqq8Ub3+HsiKUKAR3CtXHiKgdwzm\n",
       "XX4cHFEo7dYb1VDFh8GIt9b4/EuQL6tshsGhOUsSBP9/Ndqp2bzigbG3zvd8hXy5+DMZui7s/gxw\n",
       "auAoHucMZvm62P6naag9MxvbcDCXHTrurnKkrzGjj6hgPsdn4mDNEtrgAAAA9kGbJUnhDyZTAhX/\n",
       "/jhACK8AAJ4SAIe/xnO3v61UsLCSWjIRr89dbQhXRi06GbgrRAEOlA3DR37y6Kyvoctc5gqrEzfI\n",
       "LmxcbCyM2IyNS/YjkcSFPSXlIS3o0vYO/BodmrmdSV66vOkR6+YuxK26/yxD3iUf4YCuofBlKACl\n",
       "tlBW0mzl54p6gaTjCy+OxjMgQuuXwFlf7SHFM/uVg2X5dFLaSE4MbP/VPy9uUT48GjGPDsm4jmQH\n",
       "YcTzHBxE8lzvB91lrdXZ5WzPKRz4b8Xi2oLdXN/Yhr2acU3KFDifyVTJfM7xRNJhCFSDc18/fpDK\n",
       "vt/cl+Yx4AAAAQ1Bm0dJ4Q8mUwURPCv//jhACLKvRTpADPZnaPdmdGFixiMpf5gkR6s3nOnlJz+G\n",
       "9E6n28e1eFPqtyJ9xUAlE/aI2Z5pGHwHV+MR3XcvIXD+3wrNalvz6Qoxk8CiV4r/9OffnaSAcOsl\n",
       "QW2ZXDN5CY/+VDuPCV6nKJNC0b42eOks+aFM5qfnswzO0FvPeIkt3hq+laEYcjnxQPPE7Ea/YRu+\n",
       "nBjc8zLUYJ3T0CaC8YWGqXG6NJzCjHkGXyM4RoT5uExW3FBi1ewVIVOnwL6FGxwoM1nQIy+2pCzR\n",
       "7Wi+jGmrLDmp14uIGXeSu3KPwMQSxK/1p7SV3hcDL4ZLUMjYr4oJGSsHPC6YE4yzYGtVdQAAAE0B\n",
       "n2ZqR/8BIyVEHcR6CyRp+hajsarxAAnbTEFMzfJZzkfaOJa9DPPGh0f04Tm1exLKItWpP9QTdKzz\n",
       "2VXnc+/7LcNA3wgLSN6GaNBVYAAAARVBm2lJ4Q8mUwU8K//+OEAI9xLywoUIK/zo7DsEP8F160d5\n",
       "clrI+0zLtZDxWlE8pdv1ULBDavNNRHIA5+zfM7WHukcXMD0t6UC9ghT7s1DN2N+gWo6czlr9TIrE\n",
       "uMrPMQiyrzhNZaayOTtYT6mL6xApA117TEhanByUQSkrmQsn0/a3eLjavocG94FGLBBI5hfbTiWf\n",
       "JpM4YRrLab5Jw0lrT6IHrgFtSDpnq+Nmj2YI7jAAxuDgKZG2mC2LaY8uIS032SsnPW0C/pinYBFV\n",
       "NGzZXSDKMNTPCasvEaCI2SA/E2H+Eik2ndZ6kBH3yAIWbmSYNao/BpizEx5wYjgciGdpR9ub8Z8N\n",
       "iA0P/87cfSLNE7VG5NDJAAAATAGfiGpH/wEk5N2ywAI3/cgvpp15WH1A7YkRX+1HLLyDjVYW2ig2\n",
       "auZtOdgtnGDO/rBveShP9p4RylVOihI6dY0K2n0izNfVzXtWK2kAAAD7QZuKSeEPJlMCFf/+OEAI\n",
       "59EZvHeAJ+KP9zZX9zP80EGR6Tw9phR4yv96jDOewU/qptXgZakVgW6/euKKGXH1BWarU6WdfaO6\n",
       "vRqoDgmGOE5/gdCDUvbPNazP391cw8UNezUoHzjYiX8lSyyVEG2NZXTHM/ut3yGbBjN9dwOvxMFW\n",
       "IO4Zzx4poaHM/XQRzrSUrdYxNJ5iZ67D4rK7Kkpcu0GcnDKWaQGvfyQkE1CjWu41lPVnEsH/kgsm\n",
       "kYyf/e/CBY3REMbr/c7IiT+y8s/ata8IqFonhCz1RmlpiHCQukXYd7MXT+bOxigs0cOmKDfIba55\n",
       "g5c49g86rJMAAADwQZurSeEPJlMCFf/+OEAI59Eb8r9eAKUgXxrd/00AwePyyWZOUmK3VFHqybkp\n",
       "UChXwQTfJwkiSVBwxSC8X3xJ0mKpqxZGLPSc2lt+DYrYL0HyjG4HWEmic9jDvvBxbTGVA0V/w8I+\n",
       "wAKrN6LCErbairfb3WsWShGNsXaPB0SWkkN4eG+ddrjoKvH9L4tRrBywRu6PLM4lfvevyPLkzJ0h\n",
       "co2a7cD2d2NA8T7lggNJlD9A6i/vVjmTwXE3yIzwiVdVXxt0vEkYymwhrFt9aXrYi+VBee2y3kbW\n",
       "1fgOflnj0kO/hoMVfQT5jX42PWlX/ySBAAABEkGbzEnhDyZTAhX//jhACOiF4AI86ZpmbWXXpCsg\n",
       "v/feuf+qVJA2VQO5huQQ0XVW69W8+mVp1gTivJ6IEJL14GgmY+3xwdENwcSL1faUmQe9MxK9y7qa\n",
       "g5OVolyT0d1QFJbEsMbfsVKcXc1F3pXLn0qQfedn27N4ZTI7xJ+BdyzIAhI7GzOYWGMPaggeTKCe\n",
       "P6nwl+j3azlgXQ83aC6xivf/9g4NAmytjVu0NsKSF51SMrPc61jOaXze38SEMwmxY5hG6233NM3X\n",
       "NARvpvE1l93Q/PkHLQH1/oe27y0BgwZg4h/K++z3YVdGoEUbxBcHl1g3X4CPeF18UnRTjQU4synE\n",
       "2g0dmJ9zISgTMQNN+snmxj0AAADTQZvtSeEPJlMCFf/+OEAI59DzvI0Amk5sjp52/EWjIqRLUN2m\n",
       "wYNXTK84woRcaCqoU0GT4N4iZiRCTz58E+X1HYc15mUhP79R2RXqrVUeZrtvBmxt3nGxox+ZpVnq\n",
       "3rIzOQilJidiDTc8Y3bc6ZxZigiCzEz7pJtU8cEvWOS7cozuddjkv9NKHPjIqZ7m9fIJ3otVvbxA\n",
       "sO6XArGMASUf6I6O7sSoxc9gHVql3LqmACI4VqnxO13r39f7Zg9QJwLd/GL+bAi53l+JTVCosJ3Q\n",
       "BGW/wQAAAPdBmg5J4Q8mUwIV//44QAjypxG2AA/nJrsvcUeinIKw8Rj/cqA6JfAWVa9TxMY3Ax2J\n",
       "NEWkUCov3O4VjO9jZtUqyxx2dvUmHbMzGP9YPU6Be58mHrhvh2syI3Ba0iRZaVqK8u1vtGbfMKBi\n",
       "qnqrBTuBuNSTVchhNr4ZiaXsMrH0jHxDDznAq7AMMWPcFY2OzrypOCrGvw9Ml8/lQWMgRZz27kL7\n",
       "g1GFdRWAWAli0367lNHnsKR0WtMp7mKJPVvRoayeNaqzlsSVCRchhCXM7eMWJDOlPCgDxEllTw6T\n",
       "4oXdcFPwxzHNFNaVhuUHxqNf++uKJ2aPWCyAAAABFkGaL0nhDyZTAhX//jhACO0UfUGiwMifJWe6\n",
       "hjP5seAnp7OsJoegFFII85iHW4nUbtyCmIm2NVvJ+rrzOXhMoq3sZ9LUFCFDkCn7UXil95zdqJdE\n",
       "6pUA3YZTUGTcLy439wVdK9/G63DAwA+4e8pI7cezd8s+GvFQh/ivqzq8rxtk1/St5+3xEl7/+mwk\n",
       "UAhHYxLDmkcIyRYOQoU0VD+MIg37Wm173yRDEqJlppCkadf5ZALWtLas9IKbOihxyHKyb+SxNZxb\n",
       "HEZ+E3UQJm2FTYcv7iZ3z71fS/Hvn7euLqX3QlTeWJslmecF1xx5hePzqweja9DPRGu1kjRvc+dx\n",
       "ZF9uqvsKFBq1sFf8ZyJOrqVXTfLt0uSQAAABLEGaUUnhDyZTBRE8K//+OEAI8rNpqMAItPQSQdf/\n",
       "jRFVhB88Dssf5ccm2im+VOWSzvV3myU3xvmg9nncD3GUyvPEOyx/9MuMumsexdxm50PzpWbFJqrb\n",
       "jCxqeB2JCfkK/4ozQ358k3FlRZsY7HTjH231SkHhEpjgUxa/yuRq7QwuRi1KECkGrmAv6qh7CUy4\n",
       "UWXPst0hDyLVIIkLrxotSIp+YHL4BoeWiBcaoJCoZBff+9P0uNIXizZovvWZAUavMTWrhVzixf/+\n",
       "Ti8WM0TTfG7g/uPatRc662Iq+St2aA0/Lf90mUdTHDp1y7qcYmLM66FyO0Fu2+S4vwzr8xQW3XSO\n",
       "e8hpaOyixXmxf6VLPtILT3z7CDbe7l18QeOoObzKb4mHTASVz/7fXBZhjwAAAEABnnBqR/8BLPI6\n",
       "WihN9vwO/pTkZx1KlvI6tTc/XBRJQuv6ACwv2aUwTJXM3Cp1nFl2d/VIgX6JeG6JcAuhZfogAAAA\n",
       "3EGacknhDyZTAhX//jhACPKnEz6gBpsMkWzthpUYrMQ2roqfCeKS6sdizyPzVkuQX1nVv+PlnNW4\n",
       "VxnoZsmU9D8v+zY5Bq9Zj9YUXFFwUTpXRdi5TskuoXCqChCez7tmnW8HqJbDCqiX0BpgYJ45YeBy\n",
       "8d68LulQxiW7+Cp4hjhMj2oGDwbbG5CqpBzWLKF76qZLc4CldzcXn+66lxC9JHt+IbIC/sXdd938\n",
       "TLqZvvKYuqN1yWxGRSQHnClntzqdesy+SDlj2dCzknIy05MgANLXUgo7JjmNeSxIQIAAAAC7QZqT\n",
       "SeEPJlMCFf/+OEAI59Evqd9HdI1iAXqrbYT8SqSQBWp++Xhj9gKgeGkw6j7C5wKJ4D9A2cg/fdcV\n",
       "BaD2uezlu10Rk29+Go68JprzSgqkSPMcnGEkQ8r3ex0WIoeRpgf7B31MC8yEiLfZXVsKhonQKe2F\n",
       "uClzUzoUVKYCJ3ZsSff8bMM+Effclqqhs7p6nl5SYoKqU8hfF6u6z8vbCE5+HggAMCn9gBsBjsgQ\n",
       "AQWWEC0H+3+Yi8xjwQAAAONBmrRJ4Q8mUwIV//44QAjsr2KdSBpDf0fVWyAZVKPSLFF2Or+icFTT\n",
       "qSUrJsBYc9pYOylfSJrBUmDV7JKLiHL28XG5OpDM8A9KCCHLc9/xs0WzU3MAo8olGBPCh/8UnP2J\n",
       "8+kYUzxPdTBqFY5jCbAIp/IrdFmypaToMVQuY5HtKhk3FbCDP+FrXQ2XrPQ0A74cnEfbxuLJrrqM\n",
       "P7lsF5IT6715udZZCbQx85wtCrcGC6guWv+T77MGUGFLQH6sHfPODu+V3DWZCHJz8ldqQz7PIVVH\n",
       "LrFSZh14lS6nVWPNMVZjwQAAAOhBmtVJ4Q8mUwIV//44QAjn0S+nhyuAHLGef1eDupknaMhzoh+w\n",
       "tl4ddqaHWCqudNG0S9PDdaLeucCISioEo/TAwpveAwOQ3t4HYy6S8EokIEQ+CUP+56hWco2vzimI\n",
       "M7nLH7Gm+iotTdysyYkbELUakJSjw2ZSWPTdzT0ilCN3UMQI+bAAgNalH+aV2Zt+JeWGQq2deGQN\n",
       "G9l1FWpVRqKPOY74KYfT0YbTStoEtruLLy0M/2AnMO+OfFyt2apclpFGEvWqKbuCVW5MiQTwHs4g\n",
       "j0vuynvuujxJHd3bPF8nDxkMuG72RZE5AAAA9UGa9knhDyZTAhf//oywAlJkgVc30QA3Hnnosmkg\n",
       "R/HtcDsGU8KuisH+KuMfT2Brppbbb/Rm9SrUQl+l5xOP37UAHOFzVgQfuFurDGyORNd/4XcqAkJd\n",
       "f1SlZ2MHuLR5ojuiBBbfjt/BvSfGxXJqQgp5vtexo29wAt/WtbM3iy9X6LGfVNmZqgVQ77OJRSvD\n",
       "ynBhn03O9bvrCG3lTt2l9ITmNadmNMbFqTLmRXd1kz47kP5D71x0GQzGBxQT4zHx4Anypi6Cs2mF\n",
       "OfH/L8I9WiTBJy0dAI7SK/AkYo1l7nJ96zq+PB6BPZhKsoi1hM/ZTvGk7EMgAAAA/UGbGEnhDyZT\n",
       "BRE8L//+jLACYB6zYAv9s5g/nrNMircxC7/XfeUNyohSeL4GNB0u/VBwMyu9vebp84oxA3HP2P2Q\n",
       "tzFXopGdM4mTSezoh19IJdAxJzv0OskMDNqx2H4x6bvEDWDc9ADY3tQ5ndO3b2CHcA+Jy7FEGIC0\n",
       "zndB+zrfWXSZ6+84oIm+oZZ2c+JSc8mr5MtrZbq2RivP3bEo9wHqORdFbtlre3MmPunLm7wA+kWA\n",
       "kOQ0ePRJ/ADD3DbN0Autsi3sZac47N60qwT63SdQwOhID66bM/7gwQpLVi/I9Tazh9oFiIDUxEcq\n",
       "5OZd4UGv8D3+9Z2PWsd1GPAAAAAyAZ83akf/ATY+LgUwcRQVYcGphmiv4kW6OAC1rHRMrEuS+iaU\n",
       "alhmuws85oF+UX6oNGcAAADvQZs5SeEPJlMCF//+jLACYUnNiXzqVJ/cqZAPbyQM7VT/E/nbDXfz\n",
       "HJTv3xUqoxnmA6bg0gzTJDdW+DBoN5CUp9vzzaXRjUWPE3RNlawigzvbTXOEigWruCeiixPgmZ8q\n",
       "ZJ+gbtki7WGsh55qRr8Yzb73PDthpoynj4peUYvGHpFQI92t6ap4Tu1s72GT3DyCL8BlwtNQ6YWi\n",
       "go7yYf3vNAq8uyhklZotvHQjoBxXeWGt+aSvM4cC+3kKh2W+VoI1pHjG51AmtTLt513AaXTt37oB\n",
       "2vaLf5hb0lJAYb76eDgGKqI7j0mceNj3zKOMv4AAAAGUQZtdSeEPJlMCF//+jLABQVHkORbi/6iQ\n",
       "egBPmDvdgb9nc0YmO/aiGKcTbEgCpY3vpqr9EaHqoJDogqtaUP7w9NvXN61H+v1NmSv4GAfap6CT\n",
       "E+Np4ylglWiBxiMnA7XBJSgfPNOLVwavoBnVp7ZMnQRVrn/pyh5h5aZ40OCHcs1eqNNfQR48yyDZ\n",
       "3ebccr72Pm3seaWrFzDrHs/vbWlxCi7uQZX8Kbj4uxKDpjMYH9TafgV7NgwbYvCLNj2HW5NTohe6\n",
       "kNOav2s34T263xwjxgU9QFndxlk3/7I/wNQ42QtEDyb3kPacpppBIGyytEHfCg5GEt36Gcsubd3h\n",
       "7lqNfpUqKBSDzhfrJASQey4KMa9m3zK5+u8IqBRi2V+ZlV7BN9uUM4HluCMIMZ7KqeHhughWWD1U\n",
       "vJ763y0lAWimGv/i3PfZZlkyv2mqW4W0weYmmWvQcZ5Pe7ElLHLUr9NGs3D+CAcwLyobjS7mHQof\n",
       "6WwtX//jDf7o8O+S2mtaHSX3I/OZbqGTXQo3a8EaG7TGrpEq9sAAAABSQZ97RRE8I/8AZyOAlFIJ\n",
       "c2FQAWqEnoftw9FdAvP5OIbURw/sxQmkNGDeMk8TV+Jl2wL/6kI8AeYeLJinpvBFvyiksJlLpID7\n",
       "a/AeziFw+9OlgQAAAC0Bn5p0R/8AmmFrBuYxqs2GVeDvXUm2BiaQa2bMFqEXsEwXsfnJ8hPDjr90\n",
       "RB4AAAAsAZ+cakf/AJjaTqHyNydh8WOtUxJ0AI8Z9t4mV7KzexIiEY2g8a0qhNLmLqUAAAEfQZuA\n",
       "SahBaJlMCF///oywAUELKQ6WuxEAPkiTnqBWTRaX3iIDwCFZz8qqYq8OLbfKgPIc8Vsk+sYvOQ3K\n",
       "kjCJuaqWSRS/ERxzjIRgbcYQ4bNOTAhmU1oo1pf7enYBSK4IYqx9vvawNHaUt7YTLX3T8Ea6EYYl\n",
       "eJcQ2BUJpKx4L+T4JC3MvGohcAFVo8J1R02qGw4DFxtRPuk7Esmn3GH7+e9R+OHAET3R1S4tSYJ/\n",
       "yF7zDDb01R6TyPnxos5Vcc6wozX0mvC1IXDvDOOrTq+vNcNQ4GblaS6Xg3dNpktod0Q+G/RGUo5l\n",
       "TW9A6oK50OXBHZyts2gII4J8ETUJoVSRWHmgGGfLgDBo/UzEirbw+xAWjgyTzteSJfXl8Z04MeEA\n",
       "AABMQZ++RREsI/8AYLEtDOrZgkRGm8hi0zKbAA4dTlFGjPT6FhuUsO8kNz31sNOYzjJtMhFBQ1I9\n",
       "XkllrbAL8+YfHmFv5heeml4dn98YQAAAADABn99qR/8AmlWtXyDzAA/NGdiQMbqGDT6i3rIYiiee\n",
       "PyaCdTE2JX71vCWAlc9PZaUAAAFHQZvESahBbJlMCF///oywAUFWFLBsMAF1Fe9i+aKohp7oKlts\n",
       "tWTABJF45wAAv3uk1dzECr/GeVRl7E1qlVnEgTTyYP/xD6Iq/goPTKFrM0c1Fj+s9kPxajLYiXcd\n",
       "1l0o08Bze/txf59x1URuE7hNHbJSlr9zCigkZWwhkOa8u0DAYnKYS16RZeNNmVddGQxBdUfGPgKI\n",
       "tI3Lf+61QJnaosdM4gN5kPYPyXFmjG9QnyY0O8XAy1pd1Tw9Io0i1gmt06s9iQRsNafpyXqzBj+h\n",
       "ghJsqb0XKLKPS1cFsqxCBIdgm8sx8Ay9lB9v3fK77VRmj6D3Pm2ieoHhtp8dEWDapk1aZSUtfQIU\n",
       "cMNTzQSmrS0lXZ+g59gDxaH3fJb579JDd8ik79ZxddK0Rj1mD0yY/gc3uVmZYoy+1u+Q4OIZU8O8\n",
       "2PucewbAAAAAVEGf4kUVLCP/AGcJ5YdqgxZIPInXHhfF111CYNnqQHfkZKiqLCwP7mScFCRP0NDr\n",
       "b7rZWP5ePkdoKzJHmqji409h1lfA1ayi7MT3zeEu++9iW27WzwAAACUBngF0R/8AmMHAK4eyh3v0\n",
       "OtFC91nuf3mesAQgu302IlWvx7mdAAAANwGeA2pH/wCfZX6yDtJ7uXLCsuHvfHMhABNmgcej6Qd4\n",
       "Nb5HLNHvcB6+ebKQwzHSZN0szqYYhdQAAACxQZoFSahBbJlMCF///oywATfMeBZlUAN0JguRHSJA\n",
       "wZZ3YU8/NuTBdxwjIAr90vwAzEMiycMchoAj8c5LINGMrW1ZdxP2VH+rrj3e+MN1nL+DxC8w1pOw\n",
       "aMzLI7DBCASHeYUovBv5zY+nXr/9LxiXPLXBxMG18JQst/hEVtcdrjiMPLDQxenhNDRTkRrWEUAs\n",
       "fa0l6+T0EVRaX0F0GgAszXbiaBk17Yn80BV0hg3duz/zAAAA9kGaKEnhClJlMCF//oywATikdSiQ\n",
       "gBZMDUTCYmfW2+/MRXEAtSosVum9p11CfDDjOa2Rq+LNw55ys3M7+TXGiGuIOeN4uJUG8QP1AE6r\n",
       "JXrnh2wrJG9XOrytqUXGS4k091eJ7OEwvSN7m2FI9EEPtgElg54/sE4QGsFXdQYYZgq0cB6rBnol\n",
       "Gb4adHCP/Qf6Ac+1quBpHf6v9ia8BxAneD83Vul5gJAY2zO6WlW9TWP4tsisBfRxDnbFesGAuMEl\n",
       "Xsc1IxP7ttXAKGX2OJGsM/QfquR+vTLJEf9TMzXghUVkkNpphXHYFZnVHy0VG05jdLp3spWW/wAA\n",
       "AFlBnkZFNEwj/wBjPPGoS5sXDNPvZIds5ce0j8XgaCiywAGw2UaCSFbVndRQ5Yza1MYJ0fv3V9I+\n",
       "bs4efii3ECnxgrsIfkblv6iczm2B52m1L/hBAJWdS2mN8AAAAD8BnmdqR/8Apkc5D8oF8AJo/74G\n",
       "wW9knU5rMCbvhCezg8tUcnYlAKwti6A+o6vExxgwUPdiRPuAX8yJmjnvUR8AAAEgQZpqSahBaJlM\n",
       "FPDP/p4QAtOVlyBXTiUr/jfYK6qyJ4Vips1spIP/UJ69E5AkqLA5qUOOQXzt2GnNtFp/eegMOCq5\n",
       "b77b+bvq5jPBJn1KcUBOuZMZ4PM8L06SUb7mGx6gbaw68s/MKGn5tHmnHk7kSjKBjdwsV092dnrp\n",
       "mdEcN9NP69Hr6w718tx4gMYfeajstGfygAUy1y7tfFGPYJB8i4rJxIen56kDTyiVm056HYhkOQIr\n",
       "0H5biTKLNO7tm9SbqKKd8/Qp6ZY2VkR+cCUjm2K4cYoS6IuhhMrPVOcdIlNfWG3iEn+zJWbcutU4\n",
       "9OSVykfNicc9ps2H4MpCHwLrzyvCqIoK9Zolbls16s6xkxc1hxFRp5FGURg2bvm6S81gAAAAQQGe\n",
       "iWpH/wCmRzkKrgn3fKYZoEmortp2RGk6dV32pGnvACYNA5+akbR5g2fE1ve56ZVpr/tdg+pxbtO6\n",
       "eJLQIE/hAAABdUGajknhClJlMCF//oywAUCx20OIzYvqOSAEsmK6OYxqrLu5yTzQ0DLbxSoFrr6n\n",
       "eoE8mgHv2a9MdpaMxMRwz2kXXI9Eu3ygKWn23iVRPYAlM0VnpHXRA2KI5AVHYKfOGFj0kPr1Qd8H\n",
       "ACmr0t8wF8XOsHLJozWOEd/Iw72A7NTCEhETsKVjXr7hd2LhzqJLgphQjNpudogqTxoLF8LkY9Si\n",
       "tIM3KfTWdfo/KaeIgcYQr9dXo/NVHCO/73wHfBY15MitjB4RTa3CwCUnCogNgl1F/nmA8DxTs1Tm\n",
       "nPqYG8D4vzodCThGGfzZkVSDbW60+1sw0+MKqLbh0rV4e/Ei9HVezQ1KTtRvcPuFDDoozpzxomcS\n",
       "fxbFN85A/FKG5Q0bkpEEOT6w9Nq5YopUe1XFoBLHlMrbugXLrhVulJmaC1/Rr8Efmk6ZvIBWTzgm\n",
       "s4Ugue3sXopAa6/GGttj1PPpTy1HkPPlvUO7czQX8jifVFM+Cahcp5kAAABqQZ6sRTRMI/8AaIBz\n",
       "QsnHnS0ftABcN7k30ka3wP86PzjYkZdJEjZBvl2WuksHbNJUn9/sXppuu8M/itEv5X16Cqb1MC6l\n",
       "C8CESUxKRZioxEtFDX2/8Zcu0ECo88G+4xif8x4rfP+in+rJxQAAAD8Bnst0R/8Apkc5Cq/Gr14x\n",
       "u9mVGEcS4clBdg+AE0n6fOu2Oh+VZ6Bbu/X6O153LWBSQcfV1YzHuxSCI+MF4akAAAA9AZ7Nakf/\n",
       "AKZHOQquCdt/gGdiTNRta0RVUVTjh4AAP1yEGgdrc6W7ZMBPx22zPYWZQNK4vETDyCZcXZ6Q4AAA\n",
       "AY9BmtJJqEFomUwIX//+jLAC24zITitBERMbzp5fIQNLvejBcpcdtO83Oj22vcdZyljVTymaE9zb\n",
       "AmAXnRKzgsnT2qC7XcBGANEsvo7bB0l85ONpUYvlVXo/E5PVvF3U4HXZUSL8dWDrGHucPz94YDtH\n",
       "EgMQPlSP1/KlDyQoCSvRdEjaQVqRPbwm1m/tr4x9wzY+IMhhAE5KaDZr7u1j8dkP6xxG8uPwZN56\n",
       "wUeZKWKSovcVyKqr9nRjUmBZ7gvER4oIRH3NDpdym1rQkNk6dlC0dRDE/EMWBsWln8bQg1szOdPg\n",
       "sR+6X3DgFlchJyq2BsGslJQJv3gbq0mSPWJCdlz6hTIM1YJItxLdknmcNEZTSrebGpRahJczVlm9\n",
       "RDjb+84LvYgCgMOOSKH4sZ61cUDVnA4cOz2yCebOxDRvn/XcbBShfb2udK3gEczYRQF69FRTP83D\n",
       "CWTTKjaWPIzb5yp/MDKO4jSVAm2Bt0c1jWrKq5xtVm3472RuwiCDecqWRCVDRpoY0S0mQTJd+jcQ\n",
       "w8AAAABqQZ7wRREsI/8AaIBuNk2AyY2udYB21Vtdm9uW7pfGFAEPvm/7nPSefv2/qszcN6zJEctj\n",
       "+ffK+G2k2+oKWKckb9rCNsAb7iD1Fzd29mXs1uGRQ6ejjSRNd110OP4/d11+TDgBf3jJ8Kd9kQAA\n",
       "ADABnw90R/8AqAy7KLHBdARGakIn64ekPMB1u43eCfESL+SjbqEQ3ccnHSV8ka8tOeAAAAA/AZ8R\n",
       "akf/AKhnmDLOYrExYAJxe4VuQC1y0DqGsJMp37asaNfOgN0jE4zWFtu/3yyPx52b5CCX7uskO8m6\n",
       "yw5qAAABaUGbFUmoQWyZTAhf//6MsAFAro18AEqUdSz5rl6hFhvMHHn4vKenArSIPo5R8R8TEd52\n",
       "ni8XEPS19yFsNm5RSoCJq3jWuQaBhsKgbOpCQaehjIQgPo8FvO7fLKlZQ7MVDpASOqXfMvBIssoi\n",
       "B0uBMvpwE1NmWZHCoAvl/TWzMcWGqAvEYD6bK0XRh3ue0mjDWarSIhPgoZY8F4OBQgeYadpcxK3s\n",
       "DqJbD0v6Uh4CE0YnLfRYzr/ojMhNrxIgvcnmlGUT5D4sv3SeOMMSlmAWN4CcpkWe2oHFesWhqAcS\n",
       "Cw2myN6EQS/BKl75UNb7BHMaJBAA27F21tDzcygZUMruqZlCoz1VmCeSNT69wGN0qRthZzQF2F+i\n",
       "3PJG94q32kNAdgqxGNJcY/iJIpu35jdHEEd5OLaACe3rAdeAuMcXDmFTBE2fakJu4o/3Pv96ml4u\n",
       "aaSCWX7kc4aoo0Dzpn8FWd6DKRbN3UaFv80AAABXQZ8zRRUsI/8AabdU3GXD/eResTakABXoUjYg\n",
       "eoDjWfTUm+PPynm7rtf6BkKdll+wJxxNt5SyGXZ9+TWIE886KvD2EW7pLhMkf64HAleNbgNqU9hu\n",
       "v+iBAAAASQGfVGpH/wCoZlqIADgvnqlOOXibKkTmqOB+mC7Va73FZb2DVWuMh72MX1xChuYqhBUD\n",
       "tU4hHQGzlEGovcPDtOUy5CF95HeZTOkAAAFqQZtYSahBbJlMCF///oywAUFZCGwu1ACWKAfVCXbh\n",
       "8oYS/gQSHd/fvj6cXaBmFK6m00KhlJrJEvc2a1+QWL6m/aRKIrNa/zIREOXMxsL5Hs8PFni2Uk+K\n",
       "nHR5S6cl2oeoGb9k1DzqRrMbWFCI1hLYTM7hsq+2Suhk/DnsiWLjeNfqaSnJJKNzittA6sQfWytq\n",
       "8QPJN7CRYnlrmmRx5D2pTo2Kcjy046Nc/aSh7lQ4jkBjiF2gwUjt8MoE/Kjw7ot5PV20i77OG4vV\n",
       "/oO4HAC5jC4WVMm74uG4DfbNploFdLsBjmEK7Siqz3okTQ8mV/AZdsCsT1HobLDtNefXeKo8TCfK\n",
       "rEDwSoxgU5b9PFiml4bSTvFIXX9vNui8Rx8KlgcihV6Fu+yHBooqcz3404krN3EdnpCcOyHniX6h\n",
       "45tm1OFrit3N9q5gwAWDdncuiMaikArqvs1DfYgaxtpXfkb/ZmPvjs3f4zdaosAAAABuQZ92RRUs\n",
       "I/8AaIBtUlJDb8b68mAIYA2VZtzLxw0r4m34I+WINKwrraJNgKuHG5lwtQB8KTOVj220Yu2VfkAa\n",
       "flWrvNOLvprmyDB/IkyVe87wnUgTYFf+kjl9jrz4c9wyBTM8xqLRab7BIeFzJIAAAABDAZ+Xakf/\n",
       "AKhlu3C4Pvr0gACLg8ct2QyNTYsG+IcQ6Y1hItHobhmrgPidfcDQ3zJbgDg8crF6xu5HgXBXXpDX\n",
       "Fb+bcQAAAGRBm5lJqEFsmUwI//yEAElnqqzBD3tuQDbqd72c2Khg3gABJzgZAbtE9qKQnB7jmpRO\n",
       "WUeRKfIDDXulifeT4De2qdMp6R+FwG63SpSP2XxvII6KFbUmX7PQ4Pl3FIgJ8vZCq2KQAAASUGWI\n",
       "hAA7//73Tr8Cm0WXagOSVwr2yqQmWblSawHypgAAAwAAEbCGP84dFhmA8woOpTyOE3mL7ggXkPJh\n",
       "phIZKkhVSIPudWzM0+VM1SAO9A9pirCrxI3TYAABOABKWR7DdfTo7QLaXRZ04k8jn6rc+Hx+c0gS\n",
       "1Z3a1zzGuBoCuYxAyjo1MPr+QG5J34ohJ/iS1vc8em3XIzcEu55pHAQaUbMJNMw+jasMpxZFq/t+\n",
       "lYgB9qJeYpgzufusQEAw4Psgs9ZHJb2TDyiamA3FdDywul0ha3DJ5IGb764z1VgYkOuwgru37pGC\n",
       "vIu8Xkf8AFop/4GXjFcslnD9P3Ll3/6+ZNXfagKgagYOrz4GKR43dGD17O9cH5EzrUaQZYrhC9Kh\n",
       "4pSXN3cvSNBrHPkV5otJ1WF2i46psZmHsUlb8ga4dcUq46MwM1O7CrFegCfg90w9A7z1b83Y3azu\n",
       "o9V+HKyYwPqEA35PLKtx0/pD3bCd0cpvaxdg5moGyx5um4/pQ+7JVGO4Y7k3PgPK+5emHKu9B3hn\n",
       "lioUu5xw9L1II1GkxvngqaWf8o/SLJyWj+HPpi1F7jWxalnkN8i7V3FGsCGcpQKncbilBn9mbdWH\n",
       "/3xk75970qY8Asyqij8hWGxHBK84FhvsGSP/Q1o9eG8pMf/MXHJnrkYSb6owh2zNNHkk/rDRFjmU\n",
       "MfPq+VMKZOy1oYc456aMTKzVnDbEafQR/Zvl5NdHj19/vQ/8UC0bYmMq5xbZ/+Q+rvcFwFwyiYk6\n",
       "NMO4QqqiaL5bOjP1g+GYenAutxGoLSAwCuZ33ubG0EuKvfb191FlksN5EiTp0PRcDcqbx6tz8x7o\n",
       "ljCCgA3bBXMN13PJydHEHFVWJ3ZcDTTDw3umeK3vOTPA/bA5wfUIfFYpx3+K+yJmTqYH5psDX/vQ\n",
       "P7cvqxCmCIS77o1NmNhLMi/gnDvR+sIztAn8xF466jNm89TRzE1/NvES2PP6brRSywgZg44EiX11\n",
       "B5jX0ykl/PPddM1EbFZO5FuLsLmWtRUtmHKuSu1XucDgDH+/oJ78zUNncGpngHKPLYuoQsh524c0\n",
       "kyRBrErtJobSbThu0yJo/oE///pfiiUMvyluSZWb8OVhl/+JAIJFbqiGZQvlVHJ31ktvtfs7GzRW\n",
       "JuSC1fux0yOBf78JKlb7JFC0QT3FUJ2kr8sm5sYziF+lrX0mVfEc6V+015oiRDAX6kGRZDscyNll\n",
       "vuEsRihYzrwFrWLtXJYKRI/IxM2sx5x16kmQbYpa8QDRrPYXEq4rz0qQdJXPRdbKsitkjgJt6ig1\n",
       "0kX7HZ15gUm91PmOB5pIVduL2+ogzV5ha105gfC3A4zm0O6wh3zRE9362puKyp4aGZwG9cJfOETf\n",
       "5e8/WLUOBz0jZ/z6IIHBDpkM2BTU2MTgClPjqQOImMuWRvH2qfvkZpE2SPohPAzXPoqtimy+PlJF\n",
       "7MSUzVCwqczK8q/V7RMg1pcaFcmOo292XP52+3/pGiIAsxDqHpgUTwl8zdsJIpcMSG9Z86kLIVq4\n",
       "wWDb5n/8gGwhjPmjrGx0KIQYxukWhqUqKN0Lbrb5HA6pJfD/13mbiJWqq4QMUR7PCAw99fyz3gQO\n",
       "N6fQ6Ifpf5AWigUxDWuwk2dCSC60drZFoltoaxLLQS4aRt0K1O7/JVDzw3rSpcRZ0xydarCXqWlA\n",
       "0DHwVLpM8nIuNAIQ01xv4P99zZSW9TUU5Wc97S0jRY/ZCzJ/iRvEezuNTT6rt9gpShcuLbzR4vVx\n",
       "VWO9d/1OQodEo083Z/vXvODWw8JmqFJ7mzve9ufAGYrJq72qri2sBR/LDnjmpsFusYaxHJ8n9TAl\n",
       "ndbLg371zkraK/yk1ibgzaMUL/6n65cp6s8tVK82UmN2lbtHn6tVCJS90S5uJSEQKgP9t3aiTml3\n",
       "IJ3WFfSFv7QR1zv+wyxWTb90G4nXoIj4qchksASp3k63vCWgJyydsVWhSZbJ5qoltoD7CS0sFlCI\n",
       "fdg32i0NDeKnlstylK6RfRnH/j+81ovC47yn6pcQw8QIolRz2m9+Ep4YkGjABj4CueGNv4ryJf8h\n",
       "6OTyNe8Hzsn+7k3xxNb8rEgty1TNR0X+EKlKHN0OWj34eK4jlvJR3vdzYQXgzOf1wyoWd6pFCIoO\n",
       "vp4sO0V4NjmmCTP5Qju+R544eHOVM6uwopkOL+LCd6a51iZwOemIw8YU8v7NcoQMDCC0cWtJwlIJ\n",
       "FHpgzzeXut2PwQhd63jIP2PJ3N3g7vg+tfbRNHpBcolfPFKr2IOoRz7wa1fLJqZhyOrbQdt+PR6v\n",
       "vP6aQJRdvxS1sIAUdQJ3VW2gUSon9zr2kFgfS25i9nPogh9PyO9rr7hg7pJgXX+0vWXKCcxQenlj\n",
       "3cAIttUEMaTGG4osyaEHyWEs0/SMSQu0XnyrSeNxbtx/HqJv0On40KPlWhFoGmY6W9ttgM5bHcYo\n",
       "oNFZroCxJMnjtKBKtszY959XJgHQQwmdq72PWQKuzo/VpgrIlUjn1cvCqVdnuDsqPBcAnTZeL01K\n",
       "UvjfwCwUs6oj/4/4gnsVE+kYyzCiQGjnxMITj3lPg4SkOV5ZyeDuFZoPBlY4RQOhKiN61dp6Ynr9\n",
       "dCOk+QJmK1BYqB8UCIsEx6ZVrDgAQWN1ucXyPMlIxZ1Kidomd9+seLKT/BLu72quflxfqe36zdE8\n",
       "P3UTT7supfBKTE1i1Dw0DtneM6TyfvYqwwMrEkGQ1jFPlxAkYFrNjBUQtZdJcmI4LU/0OkPofWSq\n",
       "ih1iZR4retZbTCCtm1LoZLwgh21koqdjywVjkr3z0mYDlnKr4hdlyvLEgNon82Ht8+fViMbM+xzi\n",
       "2o2QouOSHaCVxwYympQz43+/Ijno0XypRXGIX/0WoxueGigLJnpUkXEiADL1pBLogyPbhSjb17oV\n",
       "Lk4ia/RJQpLqD4NdDj46da32JkO6f3h2/GSLt25LCLwCbrsTA9kSZfyQOJAiF6QTs/irz7MTjjB8\n",
       "vMmpoZTdRjQSEHBDL/B8iikkpaQQ+Pqqunq2DkhziMT0hI5MaIgZFIjTU5WUu0z7yf4OpppscYbg\n",
       "K5t/zMAl3AuO52xNyKDULBKQ5POXG4iBHHkxhgQf1sXUaVdmtrtn94hhQabxSeWfP1DwTARb9iIJ\n",
       "lw3kAl/mfdlJunxa+Qu1ULcgSBjU6uSo+MY5q4HFIEESwCZjNtO0X89KG5/y2kQox6GWCc4FoIVX\n",
       "JHuTYjM2hel+hTekGdT1Ig4gaZUZUGWV2CKFSJtlvEpYkffmszZMZslI/mbJW9swrnlN2QXXH9ch\n",
       "0UgQ8CbD69RWWFbEqF9sln5pbpL9GszZg5prUVl5VbwO4SV2DBirdskohLt34tOqmVBfYTKfyJl2\n",
       "62ItZ2f+gfc91whJ+eRBRrVNSN4R8f/nclbkj7kbyKEpxEacQMDbY6INPd7SIGYAtkpsbssvL9rX\n",
       "huAbGSf5LfIOFEE0j/IKnXrSi7POCQewdlxg5Tsw/A17kRL/CQPd4Z70aVuKRuaCwGv4k1dK9E/a\n",
       "zD5H9+skgBYv/pLr3cKfYTmhYszB/bE7PnWFBqeBTgVugAjUES9K0jzCquBuq7BzmgjO4xu5ukQS\n",
       "TAeGU2PJmzK4OsmdyVB6VMm9EERr5jGTdd00KV1p3oQ5HDMdL4uNRSsqMSFmqBbTStIP+7D60HdE\n",
       "Rev0JoGj0ijm7f9GgoX4+G0yFsyLmpPV06rZ/NLMV97+aHvFp27KbE4lbRbrnr3mAx+N7RGYMhK4\n",
       "G4I+R6z5u1w5Vw2IUqU6BpKJsSWLwj4uej7H30c+iTqxWa78RTIf4k2Ix/SY0xVvUyPAhZ/+mZE/\n",
       "xbY/SeDtgsMjplsyYfQagoX6wH0asgZr6esCAx/xWojIXBvQ2s64bjNx8pwfADCFlTdHgh00+ugX\n",
       "9iwFCmnwAeS5pqws5usDDG4yBGe4cUvj+BFmBN/5yRl+JOODG4JsxErgBQgJ99CCqDSywKYyDr2X\n",
       "XKLCOUCR765MjmjcsvaDIDV0RnQHDRGy5DL/wov3ORrhs7HjKwnrf5NPiBuxXRBY5CUUIPmntNnU\n",
       "xRt+9LiGaN/M4ToUNEzZ2Tbg3L6zGKrPfZVZGInsPRlo7C9ek0VWEifVzDHvC73iT+eeQW1+7pSi\n",
       "5dTM2by/3eb4+ocN2GHxZevzdAmYxzMsLUOmWRAUCXV8mFP9XGGRX6QAPxM8qZOVAnGXDxkXO1Py\n",
       "OLYW5WP9uC5zgJMuKJovWjHlV+i89/NygmnfFtrINCOHkB/cPmBf2xyLPiOTgGr7wW2gXkxBSDS4\n",
       "pIf0+bgNalDaTITyUC8jqXVBWWZ87w9G5KmW53L0E9gIhJjb0CvmkQPhrYPQEaPGepG55Z85Knvx\n",
       "MR6euP+8jDhtDoDMDoMktf4ElCB/lZnDjm0Ku68h4GyN9a1FC/nFW3RJn+tkVcJ6ZvAhO2IYpweL\n",
       "VkAbB/9/jufiUZnQS0M9B+UjzrmuziTll0C45oSsfz+rb9RD8t+DPhz5Ark4P56YLCFqLwc+T4gT\n",
       "+gIOYrIWUpnGdrjjwOrYrchPwbeOJy6eixwbHm4nfVZk1Fm6mbAv559K/0eh6LesNeFGAJH///rD\n",
       "zUrs62mJhSsExh3dobR8/9kHmM47kqRlFrtFVTZZlxQaPgD006ayxA8Gl3ZWtHu3/hmcXFawJi99\n",
       "l4BsMcKoNtHKDr71GCOPoCT0RqqsXMhuHfrRJm7x+9WBQ/xsE1sx+jjlSVM5WCadiAsVwHVjewHn\n",
       "KwFGgR0H1wIRaQ6OVIvLdODJtC/j2a5elv0zHqIeGeHqEFYUHrSROMQDpJxqT+YQ6sKq93HV+V1p\n",
       "lWCxhEd0ThBn6xppIOF9OsBke7OqT328no97btgDEJM6LHilKLwBHEactYrNEYsRMKquORGWF+5j\n",
       "ZA0jpSSjX8JgA0RIncDkLPJPtAO9wd/7IdMsZQ/gjcV9LR9/VGRe4lP03xChIgcGThqGaOh8G0gN\n",
       "7LnHT4ttBkDe3I73B/ErnPvCF3o2ne5YgaRk8DwITAKD6O6KqCU753QFkJjJlO4lihx39ay+v+n7\n",
       "lWvBqqD49XxYQtbXKOPv3wOAljmtYuOwsYaLlWr29PfnjQGWKN974FmUWsg/OsAlc6tan+FK/YQb\n",
       "ojWW221yWHFer7GZNH49YEWq+0dvx68Zar5ijh2BhpQf6JSht8DpEZCdYdu0dFPJ/75hs6V12ZZ6\n",
       "6ll2o7OU2l/nlq7Bd1TBp/1+PLzibmt8/Zi8KnMWHZXe8Dl4Q336hkjsuK7C+VpTrOkQGy+hqAd9\n",
       "bHRyDmwxexey46zqI8nEvYD/rAmt0BYr5409uYr/OTj89tiD7a+yQu1vjcTPs0Zlpwt8FXmP5SFT\n",
       "uMQEQNyJA8Ie60vN1BPxPNCY9abvcQ/KQ5CgGGedivY0jWRxKJXVXaEaZDH9pMFicUC/5Zrea4uq\n",
       "fsMeGmD40/NkvZbLekZV5wvZrE3pjHIqoM+XzHGl1M/W/9vkvcQmPCOe3jUly4cDsahF5qA1JCRw\n",
       "v8Z5MvWXEpyLz8RC6l8N7vhV+6yG4DH1XxdflhJyhKt3da5hU1tePTjzdi2MXvl0TtZlt7AXST1I\n",
       "zGquwq3i5eVPYvmUol1GtDWEDsG9Q64MWijcbgaiaixedOegf+Rf+HeBcseewXkekt98EAutQkf6\n",
       "rxJkgIibVRZpJZN35f1T1/91+7T+wrXzuUAYxmmOAQWDsE3mqQa0hR+qfOu4LwJxh8+z4ipUD0ab\n",
       "jukbuSCAhLAOuUqoWDZLuVqbjFGcnLKAgLDUu1GPXFKHsvmCvR0eLsPbzinELAC9p3RyJOdEHKjz\n",
       "pkiuZ5c58q9XNtrpWAtSrVu2BmH3e87Vb6eWk5XYLNe7i7Yv7mYXrYLLpock4N6UQZezO+PPGfvM\n",
       "yM9paUqCVTjiZfIMmUN8vHMDiBVv/V8TKnA3/2yEv2HmvXee2twouW3LL7CMC6jC6SdSsWErab0c\n",
       "b+UJQRzFjNZiMEsnju7lpPk4WnF/ZoD7hxgPyLpradDigJMeEEFnlG7fgcKXAHxnxxJVnHoUvozK\n",
       "TITHB+8uxai9+l63VZvE7Oo1UeYGmlU0HCFpQrSvzL7Kt5AVTgQv+C4yu03EI1U0HGWnWjlZl+MM\n",
       "9NWm2+gI4sWyxYPZQMzwEfGlBV+dt/j3Rz6w78H2SbS3RD32YLVqo6B7MOXnkDEV9OsKERLZVmvh\n",
       "BOm5pXwc1km4A2HRFrAf4iDVsvaeVTbkocwF5+zjfi2by6c4jVmkx2z5vBSRytTUp7jLPohu3OLY\n",
       "AAADAABAgbkIMA6oAAACY0GaJGxC//6MsAW7D/8MQlpgCgy7DwxslS9H6YpoCKfqSkNnfvdb+4Xx\n",
       "kpCZAkI7Kec5AK8DUJ1MJ94A17Fi5NhOcUlBFPmMenKXcjlxT2zuR7O0jOxSpLU5ZtCaMep12WGc\n",
       "FlduZfdQ36J+HdssOFRWlEyykCxbxhFy87uVY9bL18DD75aoEOlsdQc77Py1D2to6yS5Je9I/54K\n",
       "w0R4IXhH1OSHw7ceoaea6HcJWYP9/l9O0jwZSa/R+2vqFnEO+zGvr08OqNjRSG72lO/cvM8nsiKF\n",
       "Wjx7XB+wF56VI2Fyj7xruN5LoRSxQhzO/WCYxlgV2Ut0tr4wMFbJugk1R4pWXcsA6OwG/F1EpfCP\n",
       "MZBCMxcnbgQGS3qXnrgz7a8umVfHXqRJ4N3LwZX+YYe3N7zT+B1hB3++FTo5MwPbjdN6gL3YRW+7\n",
       "SGK0WYqdZ9KLgYKhla9I58AlvTGt4yffpB88k7vW/mEaKZ82BF4FToSGkNhyQvV5EVROHB6ut56B\n",
       "OjIq88Z0Nqg8a4mH+O+o68RvgFUw3F4OxPuK0sDd9w2RSG7yCp5U8NFQ+x65vSqhCORYlaeVem9A\n",
       "UcYicVUQM1n+l/H6LjvNksaQeReWGytIBv2eS88RFUCgs5Nn0M8jf5qZrAzeW4s4rYm/ZVZuZ5o8\n",
       "pMMI15WpKCdBLKw+PnEkMA9DxoO7QlvGwToy6kXvJ2YZmKdgA37nqF4n0hD2QweF8XqDqyq5w41H\n",
       "mg54ydIPuStQeriD/xOOxiel7TtpNlveM1CdJM5Om56swUbu5tjMJxbVQ1FebK9CUENZFdArPE71\n",
       "AAAAxkGeQniEfwHAQV/EJNuABLUoz/Qh3jhUrZyVbuDI5ZOmh9gA7Zuanm6lTUCtwPcOUjI8h4N8\n",
       "ijSQS5viioTBKoS8t5wqSGQtgcEmT6puRcxQiWPYaPpemt3zsLJfM+ZIQ1O4o3pTAUs8E6PTiTMs\n",
       "zoNDiaFy5sr4V18oL+pgBhI634X4xK0O5lIunqEj6olBmys64qEQsSbYES2sIKQTmkbi6N9WSNYO\n",
       "Fq4pIJ8o9dj8v4IoBXXmKu7FopWT/It9Lb/pz6hAwAAAAIoBnmF0R/8D9Wa3J/sAD1q54vrVb/aQ\n",
       "/hEC0SGN8SkghBe1xc3kdYqfkF4H3ey9tmosMxHwOyajl/SQvJqDxHSwhNrjE5jW3395LK7gaTgz\n",
       "q8eYyuhR04J90Sfeq2fQYlJiIERsh8DbLE0XIiO3ptoWb23qdwZ2F5w6C6SDN5FUWCq0yYK3aqsX\n",
       "ersAAACPAZ5jakf/A/XfjZMHABMLsuL61W/2kP4RADSGN8SkghBe1xc8MQh+QXePd7L0hdVJXwZA\n",
       "8LQzQmVu9Z9aaZaQCsZrV4y/w1HjMP0KLZvWBzJkvh+s9jhitSjup7naPwKQ1OZMOoADVKeBYNfp\n",
       "yHEqID2zDKSQhH0mm0Ey0WwZKW2IsIUH5nJwaQVheZGMgoEAAAGIQZpnSahBaJlMCF///oywBbsP\n",
       "/wxCWmAKDLsPDGyVL0fpimgIp+pKQ2dnhueQH7hqKbrVXeGpmo8UlUlFqDTdh3zX4CYa6wPXnOqe\n",
       "32/4RIwur4dzEaTSnshlGOQLtGbPxofx0qsOXq+3vp+OTV82vFh7Q3N+hiSx69MfHRfUpFwN5STx\n",
       "P40BWrLUSSpAKQNiiklNWIKI9vhp9Po0yweQ/ws56QKspJ06eqQqy+xJDBoCPDwWAuijRY698Lfw\n",
       "zI+fTGWTpcS0fpK4QrBTtPz3CeF5xYYS0xoknVv5JZHmO6xWEyUEWTRKdW6ovmJCmPI3owZDNB/0\n",
       "jDxp29aZHp5+k0F7ZCkIvJrrgbwPWXjKGBViimKnWx5ucRjRv/JUsbTR5yVSe2w1UlgiFdeAulac\n",
       "lkk42Av7dTFLwkvt8YeGTtRvsBYeEMcDehedBNGvIGSapXn4LCjGME9n1fynL5nlGXHreaFHvfLl\n",
       "N/QZeE2lVVpGPL/B/icVtBurQVLcbVyo1I3Vir/YjYsAAACYQZ6FRREsI/8BwEFfxCTbgAS1KM/0\n",
       "Id44VK2clW7gyOWTqFecRDR+N22OmjboZPYYwsjsFG0rWh4vhYp+6KOHzlc7zt6H5qZF8/ROsYGT\n",
       "6KUTUQzTOijSK+QkMX3gRi3DGnX/Aedb/GfPrDRZkpTPahxOzY/cw+67pdOfCZhE0m9w66BXvyVd\n",
       "mju8hjPgz/q73WMLIZ5d+BEAAAB9AZ6makf/AtTxLgAlV2XF9arf7SH+HCE0WN8SkghBfhPaMXg+\n",
       "/ILuwu9l/8kRjV/py0EV6eumK4r4bjVFGb3qqIXGP+ZNqN2v7QZRLhF9GoX6TiiC8JDxAYtUYVoH\n",
       "EWxrN8snMGVl3n/LhXYJTfqV0prIHM3WQwoIn8quqUAAAAFoQZqqSahBbJlMCF///oywGb1u3PiP\n",
       "GN+GISLwCEb4D1XrEz8GZihGYp+pKQ0cft0vAeALJYGCXd4adZUz/LpyZXAAtDDUaYlBTEC2WJyd\n",
       "HUgq5pUFduSnxGiJpymv20x0EsGVyuWH1cWexpI77cZSd4NgqH1/M4dM8yvCabNFGs/+bSDR63Rt\n",
       "k0R5c9Z3gxxp1SaS6L+pxSmnxzEMXfbUtn67pLSq4LhlsrVFpstY6Bfs+tkQnQaZwoNk1KFfuvS6\n",
       "Xr6A2JP0Hro4eiSa2FrO1gJnfoHYGTv/mMFqY2+tWrQCzdMK2WHhT3rgvjDMrMx8oq5aSAIx4pIM\n",
       "CrHio6v4b6NWv/h4/zzFF+Sw50X3y/aRuRxaQli/Aw8IQvcPcpmh+bK7aNnIq5fCWVIZpVREVCU7\n",
       "2I+JGVtl3C9PKWgZaShjdGaZTyjjDrFg+SRwqyJTk+DQ2wbv6A29A/bbNuojkYeCieEkR8ppAAAA\n",
       "hkGeyEUVLCP/A10zio1U5/EJRkAAuoLoNAt7dii6nXKKZqBQ/820NhnDCqztsZ9ArbIq5iqcuE5n\n",
       "jKlsSnAznOSOTHr5H5AJrUTeSMjnEoCv5qkAT/NwLzAvYO3d7yIp2vfeBchsfv+BPktwmGH6FjV6\n",
       "5Tw43amqiKMG8SoCmt3N6gBZ6fqBAAAAewGe6WpH/wLU8S4AJVdlxfWq3+0h/hwhNFjfEpIIQX4T\n",
       "2jF4PvyC7sLvZf/JEY1fdZkOkUwd4m7LL6cVSIPAKEMFD6/bHV5IimxnA8ZkHOY0Finwcb3ET9/o\n",
       "x4w6Swy2P3kz7Ez5gW3ufDYs7dz4MgSpgGcCsE5Eha3caAAAAbJBmu5JqEFsmUwIX//+jLAFuw//\n",
       "DEJaYAoMuw8MbJUvR+mKaAin6kpDZ0Gb12QH7hqJxVqrvDUzXuKTXw6Xs1I5TCVtoExB480jP4YV\n",
       "je8wrxrBXwuA/K670r5PCjvI6xgx5LQtC8MZHQvgmmMZ8VsvhoZsc40rWmFbnQ7BDrb/m2uP9ERP\n",
       "v9CVTr/4xU70FYT5I8LNThOQ5ka9H2Rag+mD+6PQHvHGqH6qPQiyWz3CB9fP7KTxnHrDzm3ffOG6\n",
       "x/h0RsRQzltXRHEcLoYPstu1emfS+KgGe5Qgr1+MQkz2jKgnjVv7vwde78WEh+UrZgruMe95Z4nk\n",
       "EYDRQsqX6zqzYUpV4FRB02nD69DyoMxMuqu7eaL/BmBK5RnffvjBXvACZyECtSGONtVVdei2kF9f\n",
       "xl6TKZdger+I3cTQm94B59A73GRbKPtQd3K3zhdQ9V+t3id4MhRwpm7qORAZokQmImMPd6tAMarw\n",
       "AuA4EldAadSqGhxpwkzC3L+fmgaAG1VWuHHlY6nOZ3vZwO4vRQSV3Tvj4NzYjcYCym1ViXyq+cWQ\n",
       "7GGnDwPaGkSytG1HtahdmAAAALFBnwxFFSwj/wNdM4qNVOfxCUZAALqC6DQLe3Youp1yimagUP/N\n",
       "tDYZwwqs7bGfQKxZFs7/W/0xoHZZNdQhmeE13VNzH7mumRVo+v0S7cqi6fQdjsjASI6wPsz5dovJ\n",
       "O9z6qE599yjnh/zhBhv9IGlhuKG5fkwHPrbdT1eahYLm1yeBlN0mCFOpHZ7q8QMjZh03Qv8KCvio\n",
       "tQlqsxNQelQzegwaeV2Mxho9WLxeQH4Iwn8AAABxAZ8rdEf/AtYcTwASq7Li+tVv9pD9uzHQljfE\n",
       "pIIQXu/uMFzD/kF3YXey9ZiIxq+6h2ZWRPCpSolCx544ZJn6oA4gcXtKoFmahjV7S3NdNJ7a0lyv\n",
       "vuhHtRxNOwlCxxHU6doof1iqLDyjU0I2arXxBAgAAAByAZ8takf/AtTxLgAlV2XF9arf7SH+HCE0\n",
       "WN8SkghBfhPaMXg+/ILuwu9l/8kRjV92Z92r0oxdt3cA6oX/rtwXfTAJbFeAwrrhxHPYKaCL3uyt\n",
       "KqgzlJFid0HnYVZajcytiHJC/+k9SJk2+9l6fMO/GEpBAAABVUGbMEmoQWyZTBRML//+jLAZvW7c\n",
       "+I8Y34YhIvAIRvgPVesTPwZmKEZin6kpDRvTbpeA8AWSomCXd0QZE1MPf2udTrEXFnlqXH5lQApx\n",
       "ZJ7FatdRVHgTzO2pzRQ3+bBXdjBvB01sCKCBuCJuhrzfTCa77B85ASQ7N715dkkdOSvD3WgCIZYs\n",
       "l5NkUq7xbf8qoxjURWvJS6aoEe6jyMoXF7ZChDe1noJt1/2XOYQhCbhTP25xo2HWeERH26r/UfeM\n",
       "Elva+G7WE7rJOmXd315F5jOBHzTDQ5/icpUoq0fuAoroVztQXczi9lud0DWYp3njBtJmHuzpHy6H\n",
       "8cJCX+qKrK53CKPDZqA8v87UL6NTpBUvGpdecR09c+0AuKhjg43XFt/l85JnSamWkVNsbbZbRUnk\n",
       "XzXaU5C50pWhjmJpXgP3+0cwgYnluCpbhUt1b0m+daBq6I6AAAAAagGfT2pH/wVDxuHdew4AEwuy\n",
       "4vrVb/aQ+zUULRKR3A4uDhDME7A3mX5Bd9l3svAxqMSEdCOLcLnSlZwy+0f0hpO67FGvxk9XzKnh\n",
       "HKm3uzZ/8vrxOQ9+pvWClrChNwUhbzBov3K8ZpYW/IEAAAEZQZtSSeEKUmUwUsL//oywBbsP/wxC\n",
       "WmAHSFvNl6xgXUB0HvojD9FzWZ1dfU8gP3DUTCwS8yBroNXAYLSLC7tL/K32FbWJC0WJNsf6kLW/\n",
       "KyhzfpjmjdC5to3yRzGfxnh7kQCbnmYuROo4GB6QQM1MxtL52oDaf59TgnOvxcY2wiCWXcCM05Zp\n",
       "gPd1Cdr1m01sfIjHhEx8/0MgcG3jxFzEayjk0KqHflo4k22ptt0Xr1gImC5h031TpjHZxMTcKIPZ\n",
       "NueLI0Ab5IC7xXnJposoggmwTJzdn2joWXlQZElv+54epXUp5c/4+3urNRcGCoGyJ5OGkCtj3X3R\n",
       "yZT3YSx7a1zLBcZdoEUtoAv04N4ELJ2eypG7bx9tjukAAABjAZ9xakf/Atfn8AB61c8X1qt/tIfy\n",
       "CW/iWN8SkghBfIXeYXIf+QXdhd7L7BdVa1pMF3ArhPJIY4MaQm0vLrg/NL0kjlaPh8V2Sznmdqzj\n",
       "QtHLwXw1ZM0vYC4+WaXCkdAjT2FBAAABYUGbdUnhDomUwIX//oywGb1u3PiPGN+GISLwBf5dhkjZ\n",
       "HxTn0HgcjD9FzWRx1aoophoJcQE0vMgarV7jPKH1TCFKhZmpMQ6WtKhYY2BTQ8Xr09I+K7eeazPz\n",
       "A2ZX6/+WLntSkEcgkwyYUh0+6x7vGHQbsMSy5tLVXlUnqG4ZLG52XSPvw+yg4Vu3Mz2lDCN/ZvwS\n",
       "1Cpkmbtiuh7uDoyalM4Ypx+vqQHwnASSDqZZI6qkTpt0a3GxLCuayjxY9O4lQSm9o43mL+16SE4o\n",
       "HminVElJxWzwI+A3mfr/BkkmuFrHnD6zMDsW1AOsCoy1X3R+2vr0w/EPGZs9DXZfbYOJKZO1EaYS\n",
       "+AYu2x69DGq7QFSlmd5+L3J/6OvD+01nr5FDKdJi29TyI7YH6TY+lFjqI8/dZ0aoBek21eMCPcp1\n",
       "GC1mj1e2vB9nLXo+RoVG/qsovEljV9JYv+/p8zG+mt2jwmeFAAAAfEGfk0UVPCP/A11HXH6GBf4h\n",
       "KMgAF1BdBoFvbsUXU65RTNQKH/m2hsM4YVWdtjPoFYobX3kFCOd9xFJsEsdndbJq6Pc0WvKgJyO+\n",
       "3sTkOIfVnVOTnUnArkwxVibVzhAqVr7JRHnUc2Wvtvm64p7Gu7gLMLnYAy3MoHoCAZUAAABjAZ+0\n",
       "akf/BUJKmJGgfAAmF2XF9arf7SH5Vhf0SkdwOLg4ReRYQfMh+QXfZd7L1LajEhHURtkXXOCnsUBX\n",
       "b6Hy8lJ8i3TGnaWtEn0RZ09aT90qxCTn6xxrYT9fTcBkf+8zeHtAAAABK0Gbt0moQWiZTBTwv/6M\n",
       "sBm9btz4jxjfhiEi8AX+XYZI2R8U59B4HIw/Rc1kcdWqKKYaCXEBNLzIGq1e4zyh9Uwa7XOkQJsk\n",
       "G0J/5ouMD/CX3Of5PP196kbypnVSMrDsjQqnAuzSxb13ycl0yEUwltvIoHzW4xX3MJjGhPolHasx\n",
       "942B2jxc375e4I6dEBtusufuuGDVWJH8Nftn8LYFaqS9gkGJTLpQIZQNwZkuU8+r7nvjvMgWV28q\n",
       "367vu1QfRjcRaPMQU9OM8JvP9mvS1ysrE/63UHyF6otTlMYVNPL5jHusQ7RD1Abkpg6zlJGxsG+H\n",
       "dqMK/nXWH1pV2fxbC9kla6Uz6RRqcfVyV2zSim/I1HJl5Yy58iOU934bkmkrRoNo2ETyGMsMRBFt\n",
       "AAAAZwGf1mpH/wVDxuHdew4AEwuy4vrVb/aQ+zUULRKR3A4uDhDME7A3mX5Bd9l3svAxqMSEdMAv\n",
       "IRRYS6RwX7HyGLvR47Wv7eviE8eC0O+j3DqijUukVjdqvpOLFj68+LbXG/LGH8e0DPgAAAEpQZvZ\n",
       "SeEKUmUwUsL//oywGb1u3PiPGN+GISLwBf5dhkjZHxTn0HgcjD9FzWRx1aoophoJcQE0vMgarV7j\n",
       "PKH1TBrs/kpqp2d+4ppeOWl5MwumxhiZ8Ga0sJI0tszqLQA4wulsC18+scMXT+DwrK5md7nFQoTj\n",
       "yckdRIqZEyRiP+HQ938Iq2Mgr2RdR51LFWsfWaipEJjNhTCPyNgSAefNc9a7MkrQyKSiveUSUM0V\n",
       "3XnICgquYUvH+EZfOIiJ79RohfXGzRAL5YN9evVuLHMQbxdQZNNyxv80fBYV88BFJx/qEp1fFySH\n",
       "ulol8RTN3X3ZV09v4sdL3RWcpMLxxcQfExAJEhfrWfRdwuAk8e8R/yfjTgudRF04pbKhLbP96GRf\n",
       "wsSCtxTzwGeEAAAAXgGf+GpH/wUvXBAZv+fwAHrVzxfWq3+0h/bsDaFG+JSQQgwIY7Zws/5BdqOU\n",
       "MwQIlVdyNMfyUo+03E6YvujSfu49TmLzy+HG5rM/j+3Kp9YAtoEb0AbqL3UV5j4AakEAAAEmQZv7\n",
       "SeEOiZTBRMK//jhAWza2WtZjFf4YhJ2AIRtMdF6xKSamg8jzb/aOuLhrsTXDC3DQSe+I6J3TCLp0\n",
       "idRPpjT7UijlV2Q5Gk05kBgBQHL+eyxu6eL2bDb13Ub6xti7BDKd4HkSUVwOz7NfF/XSJBrrXwvJ\n",
       "3gg5to+JuhpyM4NAyJccRwHEaf2B4fvcK+hMoEQ6z/q+bKWgqkP1uSLvSKttIZfBwDSJmaRMm4oc\n",
       "vDOmMYyNDcRO2e7o64W1w9AhAXFqPdGk8auqpTLhGDlfeQX7WfKd1M7gxMbgYV2xw6BDopKRkhca\n",
       "IlfoKTirHJxk3vZ0zdgW9Dhw5c5EAuU8O+W9eZnIMBCOu55BO7/tBH5P1KAZrRmbSkHBBnXbZNXw\n",
       "woRG+zuhAAAAcAGeGmpH/wU/21OvYcACYXZcX1qt/tIftGHNolI7gcXBwkSrlB34A/ILvsu9l+R1\n",
       "qyuYQUZ0IzFiTLQYKe9DTZtwOVK35O/3xZQBKVkM0tPNC6hQOCGwt0Bh0LuoM2Vgt20TxiDiZnxj\n",
       "AE0ER1WvBvUAAAEqQZodSeEPJlMFPCv//jhAFdwl/DEJOwBaxWL1XrF8hPHQfPZ+ft6n8TNycpNO\n",
       "AWOmaaBOk77ih8pw6XnsNolzoa23NkAQtZvIxWlqjql1o8HUaZxe2dhVPo27iqmW0B6X+JcQlBIG\n",
       "wjVtOdU7MJU+ekhbPlagYOIZM3izFr+d4aHmW5sluhwtfdx2nEbByecQhst7a0LErnf+wGJDR5yn\n",
       "DGIOhJIvf5lacksozEu+wmQMgbjbZhw2wweQEtjmnaeWLsa4AfvQqcFxu+xHp+bPlcxsr6is+6iP\n",
       "CaW5DgMhNo17r0/lAHISifIERBXoEj5fkr7ZBed2muLgiuUoHsNTXjSikqpOC/XziB5wCQN9h4W8\n",
       "qoGX3BJp9mUq5LGPCDNUAaEdJ35c+khVQAAAAF8BnjxqR/8C1+fwAHrVzxfWq3+0h/IJHpFjfEpI\n",
       "IQX5z5JF2/vyC7sLvZgPJEY1fdhnhnL3K/4vPXAMKgFxoapNCrwFZYf28rS3F/wUOzYLKxgWIatp\n",
       "BltdLIZZuZCbgAAAAR9Bmj9J4Q8mUwU8K//+OEBbNrZa1mMV/hiEnYAtYrF6r1iUk1NB5Hm3+pKQ\n",
       "vo89ZdqI4aeiimmgTpVKQ6oJD1L2h7sUbkyXXEiswkiDnWYWvTjqK7z1vZusQFA2l++Lce11TXD0\n",
       "5PK+onlNaf7KXpnix0pxxUCjz+5bosyJ5ZbpPIAVlQVHGOuUMBHccyhMkntpu9k5xvVsp69SN5YA\n",
       "XS4jjP8SVeprUKkW10+ModBTfa1XlZlR5siwUNjCirNjwn3uPZJmF/7+6qfGySRJAfO9oy9bY8KM\n",
       "zLOACW8YCUaDM1OT4BlzBRXtizSdqGdEb3M+ow+qnsg0MXm+lG9wS38j4XQDrQp30l4G1rbej0RP\n",
       "o+VRmME4Q4BCwArxkaIxoQAAAFgBnl5qR/8FQ8bh3XsOABMLsuL61W/2kPs1A3USkdwOLg4RcTkw\n",
       "blD8gu+y72XtW1GJCOkxcSc3YmnETDl0tLp2/blrfwu9GuMjxYBiAYOp0vdcttESsAE7AAABPEGa\n",
       "QUnhDyZTBTwr//44QFL2tty/X+GISdgC1isXqvWJazotB5GW3+pKO/q/TXZ68j6OqmiUUXdEF/Qp\n",
       "dCB1S917GzphYKCsHxtdsjGRQZpN6kWjp5bzkE/6nCz+ZnGKQMElnTdBf+yR/X1JTdKZIKYkj9UH\n",
       "8z/GtcZUYShJzlWrdhVlawiNBz/BCMfyIyCTcjY5l5xi701xMx+lr1QRVlaIvuu+R8fSD6a3gH6A\n",
       "bE2e6Z+aMfcRh4XdHA2F1LH6Rq5bwyThJlDRNAewTLUpKYlqNUQQvOqYeLZOywk/Ou/VPjsH5sfk\n",
       "mCVworAt25GNNJ7cur7t4yYCKsQdhsrQcK5ZRP3eLMtR2GbbFmU3EznRasd1V4H/9C8rRqQgMPDe\n",
       "RdxWGRrJrYG02i9X9AEY8LpmszqVsK0Bin8R4fMAAABkAZ5gakf/Atfn8AB61c8X1qt/tIfyCe+C\n",
       "RviUkEIL5XLNi8C/yC7sLvZfTLqrWtKF5seFw4DS73psxPrF9/ldHjH/J3dyp+BVVxbDvANDIAbL\n",
       "rKxuWVntiXf4qRI1qrSf4AC7gQAAATpBmmJJ4Q8mUwIX//6MsAW7D/8MQlpgCgy7DwxslS9H6Ypo\n",
       "CKfqSkNm60oB+4aivVXdEIz4n0XzSLC7kAxC9cXzwriR+60PAfU8Cule32ZftYr2W21bjQPdpu75\n",
       "UTv4Tx3wrNm339b+Wwn1u6r+RDFDV1CdXAhlzRLOzXVulfzx5tQPNNV6OFSWOx7guZMczkHWI6Io\n",
       "P4c+1JvJJYulHn+Yu6MpXMWpqFoVJFoxOCDMiX9pr3PFLXvZ9slXpiTsc/wcBE7+fXW4DDFKlNJ2\n",
       "vsdxCALfA/qDVIxO9uaUJYtTggHOsb7zyytNSJYqSwtOMW8FhAF4P921VeJJHREkgpDE2HdZiAgv\n",
       "KZgXBcXNpHA8+DetitTaRGXWYNC+dIGeOeGKnuU+0YsIT8jbbifym8FjYkmV11C8qlIG9AAAAS9B\n",
       "moNJ4Q8mUwIX//6MsAW7D/8MQlpgCgy7DwxslS9H6YpoCKfqSj81GoTuQJjhYwdSi3RXzRXVjsFE\n",
       "X4BuuMvTxw6cNWzf7jVXi4dn70b0DV4RnB34zMqqMmn9U1M8D05V2q4oe2tkwbwb4r/QmCHMMGPT\n",
       "QnB2vtpGJ+vntMrcm8LwYHuW6bYsUtTwDNKGh4mPnr0L5Pm/fyj9WPcqiRK7FuDP+LjKymV/7fL5\n",
       "5M/Se3TQubiSBAxYLhU45PGv1mDqVIYuXVxIKd8jAWyF2g1OlPjTS9YITdpsV5sUjFEWSH+DHqso\n",
       "E8W8m1QGq3we+LaqiYu8gJJs97qoJq1QgW/uymWtNqf62WAbHYWkXxzPaV4pQK9KXIYNRuU1sJNR\n",
       "M0mMQHye6+D5U3fHylgICHkAAAFwQZqmSeEPJlMCGf/+nhAGdqnSQLYaUt3WiH8MQkr3r871XrFH\n",
       "nbnMT0e+fzHntc7Y5ARfdUac6KB8gib6sDA7w3d0NZbDWiwJutLox18h6zqa2vLNehgygfKRR7N0\n",
       "IbCohYoeaO+JPJJeFYrU3OD7sOhdnBcnFKrmwr6TXhtwVase7p82DqO1Z8pmkx2U88+7mFTJatG7\n",
       "oL4a1YYVQlylu9Qjra3kXvT+LmI3HD1n4u2wUuXNiDd5FDBLXDIEKdDMD+RG2qT/hLGflu4tSl1u\n",
       "ncHHHZh4s7R9H5TzWVmSnvefUxqJQf4hSeCZTw+fwBnJahS4CC9V9yi2cDsnuXhXYpIEDmWYi2EG\n",
       "qIsdYTifrP/2XhmgKXkmnSFraNjj5JmYTs0LktmlAsVHsRbXmyG+Ebu7DXhAUOVja1H6YI9zFb4f\n",
       "x2Uzhk/zgeyvUmhA4hwgSBrAlC9nBOg2BAKSvCINgs7Q6uTH+m0t3ivS3is6IOEAAAB2QZ7ERRE8\n",
       "I/8BwEFfxCTbgAS1KM/0Id44VK2clW7gyqXLRicKw+VTM0/2GgRhiTkHg6/u/6DfgOADkCGhw/8c\n",
       "pmHa5esFeKYEETzoGo1YOjpwFdU2IG43GFfE88PghL/Ip6rZqHXTfmhTayeyZ9Yrh8qXgvgE7AAA\n",
       "AFUBnuVqR/8C1PEuACVXZcX1qt/tIf4cITRY3xKSCEGbxjkGKzaYW3jTMwHgjPMx1tzStQU8oM8T\n",
       "t5hIzQ1Vlx4mLjb+71VesaE2m9RU9guLP62m+oIPAAABy0Ga6kmoQWiZTAhf//6MsAW7D/8MQlpg\n",
       "Cgy7DwxslS8RkvSRhBlGH5j0Emar0OCv8a5MY4Rg4YmLWuPdcrP0ab8wenhQqqpET6N7SAkP/ViL\n",
       "lJ4B2kga4soSSeoytMhEXZ9s7dRKovslhy6uF01VBcYKwd4kzIbKTEwbZKxej6p1vjEz8R5z9Bft\n",
       "ooHGECgQB5qWT/QVK2aM2B9OWO9OJaBxGW5RMmkbGTXD/eZeS2Hzxpi15NyW8RQWNuI1xeO0dnva\n",
       "GzV5l2TUe52HwYUnlfv5lU96iMF3C5odBmDnl2BGnIYKfte6Jsrn4UwVzEaBH/AMyfxoqjntajCk\n",
       "DI+RjtTzzkc3AEkehK1iDBIOa7XyGlwbzGtLioVseJZhwdYMsX1NUowa76RLeSGxmbjjXyn4Nhjh\n",
       "GraDVunYbGLq2zTvnPYU22bj3PJ1sdSN3Snnr77IfZ2Q8VJVptpqKbaws3CtZ5UPU6fRxOc6liOR\n",
       "b2AWoLEO4JY93JkxaVxduwrEVcTo2xHn0KPi7h2+lgmMZaJk3vB4sA7AD3fX5JUIv1qefk/dwEsY\n",
       "ALiytq00ZDCpJtXmolYNqinSGrNDm/PQa3PWzCBt0nJj7phgQAAAAIZBnwhFESwj/wHAQV/EJNuA\n",
       "BLUoz/Qh3jksmgvcq8yEIKTv1rae7cOcgXgncA6eVhqvWKx+opZ9zspo4cShx4Dx9PCOZ+MtsPD3\n",
       "D11B2khVaHUZJW9sZxeb8ziAORhxSvpDbSH8e3PHtOcrxugUajzu1A2QtWT1/+iyB1waXV4Dsgl7\n",
       "KHwimwAAAD8Bnyd0R/8C1hxPABKrsuL61W/2kP27E0kF5BuWr/PCHQA0BY/YepulUxPQvc6ZzEjC\n",
       "E22SX1NeaTsckPgAFlEAAABEAZ8pakf/AtTxLgAlV2XF9arf7SH+HI4LSGhuBHMkb+BjsrUyZzcH\n",
       "kEOODoB3SO2rsMUoCpoSbmRTY10lhM2K+QU0kHAAAAGFQZsuSahBbJlMCF///oywBbsP/wxCWmAK\n",
       "DLsPDGyVL2+9HptKnFEjn+hmjB+aqOICM+Jvixrbaxr20qDxsQklPqoGxx2rjB5cfeMAf8SYbApL\n",
       "VS9aw8bq9HzAnN6lcrNLY+p4NnjIge7ZsZ1+zLlwlVqD9jlxpQgSnJFkZ1m3m1U6nOjoGLfJv4a0\n",
       "se5F+OnsLL5Dilo4Rpj2B5UCNRd94Zo1jZY5OKKymjX2q4G54meAUSsFgrsJv4YGq8MjxnWaRcin\n",
       "ck5zhwZEzPyM9pDa9Jo51QosJ7wGOVtI6FZ4mavQ42LH5exNSOaT7qYHJmbo2T1v+PbHvGbT3PIo\n",
       "jOZszvXD/WxsDMammCCicU8rBIxFVXqrXolfudQcivFvjrfSs5lFfUrBT2hFX7X3OfrER2tEWuMy\n",
       "+1FHMpaLGLV/bo2Zwoq6gHFctTfeG8usoGkO1xGZ/D3jOSz8/Mz6yymVIjq4yyLJNiScWOdQccPd\n",
       "R3dPaGKJdfs9LQ7RqRbMW6OjUtejDAgAAAB8QZ9MRRUsI/8BwEFfxCTbgAS1KM/0Id45lMRsq7b5\n",
       "QYOzbowdxXTTiUXgjZx0gMbTm+EWVm7kiW7d9UfVfwqes6V7Hf0Wea5ZUtS7XnhLOc0phsk5afSn\n",
       "hPj1KyOV7exOd92m2oofsHyokUR1pMwcXUHwf8L1ndwubyIoIQAAAEgBn2t0R/8C1hxPABKrsuL6\n",
       "1W/2kQyntbssmRVB5cI3Rksk/lyqLu2xG0U1kdhEMhqt9ZcNoX1IJXIqaxlHNs9Ix/bWLS2sA8YA\n",
       "AABPAZ9takf/AtTxLgAlV2XF9arf7SIZ7MDGUr4KtmOBBR7TcMGyKgxvPSN4jf9Ijx/nCghWDLR5\n",
       "vqUVoUtNre1C9HEvTX0NjPxAtTHLIADfgQAAAXZBm3JJqEFsmUwIX//+jLAFuw//DEJaYAoMuw8M\n",
       "bJUvb70j78I0rt829NxbjX5vANergfBnxrLQdxtI6Fsllvxb4K1QkfgdH/D31DgISGVZPsltZd6H\n",
       "wApeiZdhZtFiCPH2gzmdBiidXZqmLOBxHINOaKVyBoL/h9MzpUm1440p1apCT7poeBPTtNbGVtos\n",
       "vUuoPnmUaBg4np2lgUJoiRcH1DulEYqEGAaieXdDEfALjGTUIebJCuPVNo8i8YQCo2lC2tFrYKV7\n",
       "iOo5ATVEZ0EZnHPLOrF+JawUAJ5jd9PwvQ0IFqcMsHH3GpDqK+dO2GHUGGEza5i9RP5JaNwYgJP6\n",
       "OSbIYrSTjk5mu1FDBXZOp8kzIIorXCdPzbPO0gHjq0nTD3t/1oi4lQ5xojeeSTLK6O0Xs1117rz+\n",
       "AaAoIrOP1VOhoVGm9pbfGI8xlARzJXps4Yl5Z6XpoltKObLDTYaEbY4V64WvteNbbI1gUVvd8jbs\n",
       "OF9xOAAAAGJBn5BFFSwj/wHAQV/EJNuABLUoz/Qh3jmUwm8GxHJT396NOlvVTmU6nXwGnbhAsKzc\n",
       "kJy6nae/zyr2/vKuRm3mQzyaWB2P+xAB9qa0XMuQksRb1mm3Ht4Uhk2EWCtfJ3ZGDQAAADwBn690\n",
       "R/8C1hxPABKrsuL61W/2kQyntbssmRVQUKFIYBWDkSOetJh3S3exQHrzuZcAkjgFSM/a0MJAJOEA\n",
       "AABKAZ+xakf/AtTxLgAlV2XF9arf7SIZ7MDGUr4KAUw2/1kXRHo+8j0SFfVRj8hBec8l2ZSnboOb\n",
       "OJNX4mxwxjoPYgnxAOHmVg7J9UkAAAFHQZu1SahBbJlMCFf//jhAFdwl/DEJOwBaxWL1XrF8hxDQ\n",
       "tc+mfUFCttEedRl5jipUM08UZCWBgHamKVUzfsGsZxyhHX4M+pnn13U8wvnv1NwSfyYvEyIFZ8w8\n",
       "vVInzy3x2iSX9p4bsA2L0ilyRQv4Tf+xBRWoPpOUJOjkS/HdLCVYUCBzH5xZKRNs0Lb8H/KBPXGo\n",
       "ThPa7tmY8ABgEB1CaD6I3xurnidRzxrmrb9kmiY4qEGAvDvsiR0X58PuXYXANNwa3uqEzqgafwn8\n",
       "rwBkjZqLNt3giJI5HMdReFdQl8eX5/E+wxBZchaXC9nNBOhnIXOuISwFhGApb6af+U8QFvPaHiEv\n",
       "oGeP2zzvPBOX3UxEC7z+cN6lppJOPcFWH0tF5FI92wumI1PZhCyyHRlATuCDewj2sSH/ziuc2vY/\n",
       "zU9Kk0CcEfavAAAAY0Gf00UVLCP/AcBBX8Qk24AEtSjP9CHeOZS+W9ur1bzhg54jd7P1ZBJcXZO/\n",
       "f260t9yawN/Wvs3oWmIHpit037UOorK28m9DtWUUcEJ+00WjLNvQ7P1a1txFsvRjAidWSq5kEAAA\n",
       "AEsBn/RqR/8C1PEuACVXZcX1qt/tIhnswMZSvgTd65yYxzPIM8fnZFOLeGgvvjliSPGn68Odg7DL\n",
       "wASflNagWNUHreAYUE1pGYuD914AAADmQZv2SahBbJlMCF///oywBbsP/wxCWmAKDLsPDGyVL2+9\n",
       "DGDwd+Jy4T4GOUhGrEzgtR+Fydz5YSopE3JilMD6gt/zM9BLgKeg1/akfu/H9sBq+k/5lksEOBll\n",
       "jQPzKtXjml8UmwWuN0BvvFtZkO1/WaVz8VGoLd2IvvtG1+WIWeEGPQZpPgg/OLiqcH2aSWUtW8vu\n",
       "9taGBclWZRLTLaJvOkySvbkOJ7Nq15IHP8I9g/eG1IPyluJEKi8UeoKafXqSI31PT1whGEWS5cLl\n",
       "IRfQruAqwu4SPWJdLcFfKheBlh3+rQuhNd0AAAFIQZoZSeEKUmUwIX/+jLAFualtXSrDAJrvgPVe\n",
       "r3Yy/U5v/fmPZYMq4g8YTy3Hvcvb3GNECHpVNVDGL4iRAQNKNksCstmqqchUBJuQGSByIgSjpIEB\n",
       "bSki5RlY13PINFBHZv16haGOfpRKFiw6zLQgV78qbKAk49F8yL9ruvgXwgdwCuviD/QFLkquD2LR\n",
       "YLhEGj3Y2AornKSep+hJo3aaV7mw5j+VKJA9FilhCHr9rqXsnHwqUMc2DW8hc4MFZLO0htotCv/l\n",
       "51wKhb+hnfafKRfh035o8AZl+qv1ie9VQ71IaZIwazZlCx3cNQpuuGp50nhAA27gaOOiuQ/dcNd7\n",
       "hTXKWT92pw66JvbnHWAI/td53UzrWDigc9KsZQAa2nS1HrP6BhNhX/sqcArqNL/R2xqwYrtfkkyy\n",
       "N9aEjHeSTSITMXWWWG/SQAAAAFZBnjdFNEwj/wHE/pTsKw4rwSAEQFFQy8pmCokxi/gJVMP+4FV5\n",
       "RY+DpUTJycgioxk/VaUf6vMsBL3YmU+DhYdnQQdBMUFeaH63ABwtxBKCLLUemg2W/AAAAD4Bnlhq\n",
       "R/8ALFlYT+A+yBK66xF2vfzb+raWZVihT9lT+d0ExdTuRN5/7mjZAAd4/Lfa4KF+iUjcEw1Qx9/w\n",
       "NwAAARJBmltJqEFomUwU8L/+jLAAV3mXJjjIV1KgA0IjUlb/Y/xpaJtUDkNtNkf9eSj3AuFnS24n\n",
       "wJLvkK6/9UL3VSj7NV8xb+s/tJULLu7OFpgaUaAPoIAfGqkCuyRbyhNVxKK0eovq6d7Ln1vFlSlP\n",
       "TRtUIrNzPHvE7WIA45r2thMcuw6L6mqejkIQu29RCKskBgW5oUvVEg20VSRGMqKBBKUNCN4HoLhl\n",
       "jRv1y4R7k4Hc44hCAO8PJqwbZTCcCyBYETG1t3WlbvO+DKPRNkt9kUDjMQLyAlUjAWtIDlKMn+j8\n",
       "QNLaXorkzNQrjjJPFGuYEguJoG0MmjeVWmZIVfAPh+Uwi1ynKlYIjjxDZ0Ojj3ZLy4i3AAAAQQGe\n",
       "empH/wAsZAArOiBNngAbxUAFcxLqcFcibCSxoCVSafmo8+CmS2UapYo20SiDkHXRw9oaWAFuNS2S\n",
       "elernd3BAAAA/0GafUnhClJlMFLC//6MsAUtbKkZy1Ll+Tq4ARc7KFAM8G3Ox7FTBXGM7iskzhtD\n",
       "oGW7tHdjLprsRzqUzk2058cPGrGSdceDHnPejEbiSCHim+d++JEtRuaRUhWiQKeTsuyWXAUNhJRi\n",
       "8bM8tqBziMOkaj6hrvp0UTxlU+2RP0BzBrN0KDBWRstWMKAE8f7ofGpnHW1eJPneZvdVDxmwE6J8\n",
       "KZY5fbR5vAlzwUwyMrjJeTv06RRjJ9R7d+t3KOrFlzW4SslSUFrKVT0FkOH6DExI51eOJ0Jl6YFe\n",
       "bpFkbiBBKWpBSLgt0BQNW88aYeTEq/su3A2xk0IipnVUPi7JyQAAADsBnpxqR/8AKw9oeh1hVGO5\n",
       "vRa4x545YwRoNdsNqmTFQAkDjwG6BAWnVDZPdR87WzXnOhKPV6dqLwq0sAAAAO1Bmp9J4Q6JlMFE\n",
       "wr/+OEABR1Trh9cMAK86qC/Hcs7bwkf8KHklMoeTDlpJAp5cQhwEKwli+b47Od+EMlExXQSB/W6k\n",
       "xvfuKd75oaBBcCOqIJNr//f9tejie/lG6y4aD7FBUNpJMfaHzUGT/BnpLiI+z911ZE+TuHbzgazJ\n",
       "nui87OQRRzPBNXAL64fetWpCFP7vJ6jQG4BbNEnKKRedeSLYU4raKiBnaaubjZ04qWSFQrqjpvcW\n",
       "9jDxBDNghb3qKEBsekjWHdUO75g1CHJNJoaQtix7BM6tFifBE3HvvzUaF/B+TnTnIHoYFKH0jqUA\n",
       "AAA5AZ6+akf/ACsT40LdGThLjGoJlhbhd5mipJkv0AJA5GdkS9ojr59fgtY3wZWRbnWs79+njkcx\n",
       "NVgIAAAAwEGaoEnhDyZTAhf//oywAFKCs6OSAi+IHNYAhEde3MZWzT1lQ4rIiAGPoPg07bWiKh90\n",
       "Gnfty46+9sbcSd3ta7Zy0i2M8e8kUKRPg0XA7Efr02UXpbF1wZjw61MeZW3ZLglspU6J8PXcrkg9\n",
       "FVChoWbRpOiw8YieF2xcb8CZBlyvWfeYFyq2c6QFkiuxn0BvRakLompgpV5OknIDdV1Axu4F86up\n",
       "JeYCg98KpqBo4xpioylL9Q7mOlO1tuosfFLL9wAAATNBmsNJ4Q8mUwIX//6MsABVEkcwG1eVRHBg\n",
       "BGRFPK/ZECc8DYjUGkxIbVVjSnuBsi3z81ua8CHGK7aX2ApXIVvtaGVthfCyF0BapDPHM/1X9vyT\n",
       "GaZyj3ts1P+ueJRjMYGJIJE2oLfmXWL/oHf3zMEsMFmWYvqfGaLmOUxA3NFJeN60WAyhvnUFM5q8\n",
       "Ki9SBGBIug+rYvc42Q5v+lYe/v0Oj/aRsq6gyxG6gEpSLmSLTIsmSsJx5X0owtQizP+e5U1aIbQh\n",
       "/1/Ixi8tGyLuEQQcw6xaDWamQCJDqJIpwqKHopRUNLZaIap0IkN37frA0E8fl5wDDzGGuEvoLPIJ\n",
       "GMGcXN842xz+VfbXILH9S15s2oA7CxnInq0rs88jmBfW3KcemenZBkfWxgeMBT/ucB1gT0lBAAAA\n",
       "Y0Ge4UURPCP/ABsGc++u+SPZIuAA7tvsc9gKKZ5/Lvezo4MGSmhipslhmjaE1fWjC6T942CQpwku\n",
       "hWeXOXEkCNV4orrqo59dVn6UDnUier3CWQwv8Kb4LxjsX5f0ROpA5oDFgAAAADMBnwJqR/8AKyoR\n",
       "eIlfOzFTEXBHOsxoAV76RdyJtKEV7eeIt5cFXH/sht2w3Azcmvx9akkAAAEvQZsGSahBaJlMCF//\n",
       "/oywAFTU8TUPSHUEBZXAA404c0kv6QnDbNSHt5rO9TjHxKAEb9hcvl8eTjuy7It9pYeelxn+axIt\n",
       "HUXb4dcczDXfCUOZTELlkx+JFFso11rTrwbV4qOrRPZoDDCZjy9Ep7Xxcj1udxrI0oH9kGcRtJZb\n",
       "lNf3R0EnnAMC+6sKyelYG3w0QhXP3J4+0ifLOJXu6CjuiLJI4tlC6Rig9Bne+DMFbHuE+LQODFvD\n",
       "jHshLCqJZWYDM01MXPqOKvJD/IKz6DN9BpbvqttMtxVVrs3p4jiA4r/+ltpyxhsk8Kra5ALt9yXJ\n",
       "CmD4RDt7YvjXi2z+8iAcFEUveYtIKoenNglejuUPHQmQfkpUSzShPO0pzezlJMt3yCD3a0YMK4E2\n",
       "mYoekElxAAAAUkGfJEURLCP/ABtfu90AHltVa+QcYAS/AgUVQYv02LZBUQ/o1Uqlz6RzipPLakAM\n",
       "ekXKTnLDkW1gkN/D5WFdeBJTMjYyPQl26qqjdvWOMZZmCJIAAAAyAZ9Fakf/ACxZqa/qJCPZzK70\n",
       "IZBU/evvxv/D4cs8qsSjV5IsREho4HVJ086+40qXfMEAAAFhQZtJSahBbJlMCF///oywAFU3xML0\n",
       "/sSjGw8IyHeZs8vwnOCEBKfsZuB+tUiTXub4qJ/ipQOSU7OvoYY8a6IS5dy2n+jrMIYtSMD5mfn1\n",
       "FAtn2b5n0ba9gsxPZY6UxJabqCsqPrvf1WyN+BAf0919DkQ1qnK13igTqRWKHcy8kwfLnTF1pdVl\n",
       "atUK8cx1vcPo4VqkRGhk+mrOdOYL+dNM9bsTiIyeuMQY0+7teaVRLFBAJ3hlCfGb5CGZKl4jkYTD\n",
       "blt1INtLpS4CkIBQ2DHqoNKOxqVN54eimBAleXBNNLlPRtx31m8oQPqsHfEACMT2IXaGo9R2RzVv\n",
       "01X/1p2qvGWlolfYKM5ASrFv5CPzMxkqww/xShQ7YV8tm0nGSEg8VlBK57x/mAVpbHsXnaPdUzeD\n",
       "gRxoLQSQig+SZpJ5Qg/XCeHwrYKmvQ7JmNFmgRC71luotvtfOZrTtCG5mtKD4pgAAABJQZ9nRRUs\n",
       "I/8AG63Y2GXvkfBMKEpa7X8ACdHsAHzUp2dWUTzCCbSd3NfmIOw4FLGA3qlKJH+5scV3OtHy1ZN1\n",
       "qSMmX1vWXle+ywAAAC0Bn4hqR/8ALFnkMwuGmmHz5/z0UFrlGIZ3tf5bvfeezBP3HjHIi7h7JoVP\n",
       "5pEAAAEFQZuLSahBbJlMFEwv//6MsAAsn1H1zZjJIIAqbb4JJlPFESv9jEDISV/N3/ZJmuIDeWXV\n",
       "V/HKrNR9ajAQwtB/MQtI51Ioj9tFl0tzTyxjBz8xQg1lbVQGu08RFSDRLCAOWIq0rfbd/2xpvg8q\n",
       "QG2j1OUy9bWEAONkt3cI1uglATiif/x/btkrrgRGY9SFwGmqRrZMVVFPN6CLqBWNEQ+x3EcWfVwg\n",
       "mM4vf8OOFwGpafxQaJTyJyCIO7/Mo853utyxD0/AKzoj62XQagiqfarA0q4WEj6MphdHR8VO3iVJ\n",
       "0nMMP1MvxZ3dU2g8LRXXdmv7BpXzLteXw6gyyIlj4/II7C/hQHKAAAAAQQGfqmpH/wAsZA9gWfaU\n",
       "vuUqdIy4QYaJX8ZMD5GEqCPi0AK9/AHdRS7kNpxzir8L/FWyxXABXQlshn4UWRNRuvJgAAAA0EGb\n",
       "rEnhClJlMCF//oywAFC5lgFBpXoABYImJlLG+TkxjktzDchDyZYir7+72R3o1Yj/ssIyXrW0O1tI\n",
       "OQM0sICjzS2pMUS59shTAiugHSFRS0E7FtXoqmoamC3eL1NzOFpq8A0TAKHBwOvj4ahThQIs5khu\n",
       "ISCKkwm+BOP9MvJKVmW8p9GIk+K7YfYytH8xwPq8mdnqRIcIXqs1JKWOYl6JOtUGLBVq07bEDE+m\n",
       "RfKgZNqobgruz9xfdUzFrVtUOATIgZal46wEa7HzSbZnQIEAAAE8QZvPSeEOiZTAhf/+jLAAK6Uq\n",
       "Po3cAVWUQODYo30gp9sw/iTs7xYY7CliimYXqx7CP33KzX86Zq/quAOmrA7hu6tgaBVREcS8bkiR\n",
       "ku0tvyMe04uoAtUwfRsl8xbUtU7RCTYpaC/cbCZaWN5rpcB0zZVWNa4nPnZHW8F9RBkYOwoVviLe\n",
       "WWgup1JBQAzaKVAdiIi4z5w6RnHmfUJMt/ok6Lr6lMdf9IB0TH14lo3EZdPw0/DNZHNjmgwKNFLf\n",
       "9kUjN1Wbk4O1LgVtJWnh0cGr+sHk0wKIKaloJs+sJVyMicYX6+zvFitBw/0PXzv+rq5UBPy2W6Qj\n",
       "KB7lRnbnhcRWSPfmDKNdiUynArlwrGpNjzB3+xznNAkH/hLSSK0vUvFt+29x9XF6IJFkV/fOc4Zo\n",
       "oVWp5tOVQ1vU/1EMoAAAAEBBn+1FETwj/wAbq+tKgdSbcDM/dkYIfZ0TEe707ClkVPursaM3f007\n",
       "bOKD+OdQbru6XqVQmt2wh0cMlrjWTGqpAAAAOQGeDmpH/wAsWepxP2eBOSExL5MbbiQgqJAfuLEC\n",
       "SeYEGyQh24VnCqtjHstsdQAeh3NNM0EyS/EFlAAAAURBmhNJqEFomUwIX//+jLAAK3X8cgAjTM3M\n",
       "7q8HWo4Btc1qRbXqgQToGQM/S4GmrO9QPz/kAhSPJ58I7JbFVAUWMhGInwpSL3WieUl9KEHjpY4w\n",
       "3E1blCcKDeGN1JwhK/7ZO5OfKzaq5PQk/niPjzFV/ZTlRaJIYp9IC7LkISLJ6PE5lBn3qF4PfDj0\n",
       "tizlzj01ECgF7R7UsYkZyuC05A3Nb1r+NwJg7XaEjZgLWWqVcOgyJrSN7XciyL+4ISzt2BpbPJM0\n",
       "soWKoBV620FnkNdc9KvgQ9vkAtgFMiG5bCoAAjsT0arP9SXQyaDu8MUnkDSOmA57kN5NHwBoYCz0\n",
       "q4p5ftdymayv8BrgYVtGqRMnWbe6uoBYzELX4/S7UsV7GzbaqYQR7fYxfnlGGaGPIq7AORej2zgL\n",
       "vanE5/VMT/GaYVyxDTkAAABrQZ4xRREsI/8AG63nZLmE/TaJ5DFKlQAXRLunYkVwTnbA/bB6ZerU\n",
       "wDJaKO4sHwLZTTpayygO4trRgOfwW0Bx8svYeCYfyzh1GB8uagUOBLEkY3Y6ExkMYtRSbfUJ7Uu9\n",
       "twkmjSnHNsoohCEAAAA2AZ5QdEf/ACxDL25vxDMTl6GCdW23MzjR8daUEgoX/o9AAmTi48JGqcxa\n",
       "0796mwBkJUq+xwphAAAAKwGeUmpH/wAsWbPznuN3nX/8zTL+2KWLiWlrjj/iXS8LAfJmlSOMBW7f\n",
       "eFkAAAF2QZpXSahBbJlMCF///oywACumQm6/ABYUPXoF58+HNBc65o3qqX3k6HipS68XwX6ZRdE/\n",
       "KQQ0WGWJSA5JaYkBbJoCjgLudEAEIkqHCW5TUxyyzoE9/eIMvCn5/KNgK3Ojb4HzWk0PVICyz7pf\n",
       "ozUjVCJfAPPL2a4SCxMcPNW+L0toFaLLH05aSBHygNDxOOcS535P4dDHWkTiZ55G85HiWZB148vz\n",
       "91sL0uqxcHpMxrrNN7pvECguFqNKcu6fxb8ckw4Nk19dM4ol+riLcqSIK2kk4bGQFFx1zagICH5s\n",
       "/KpIxON0rfnS7Bifnmx+lHwxqVHGudPIRg/toRfHkO5zl/CRkPic/Pgb80yxfbBx0no2cWYa18ge\n",
       "fYUxLPgBoCzHm5XWOIpzUCRT2lgUxca8tn+nFc6q/sBAFE7CgXvV/5kQPTgnLih3Yx3MiGCtrUIF\n",
       "eMvE9aWgLMI6+JrSU4uc0PmjiuWWhMxugdk/Av+oI6hsJ03jd0AAAABlQZ51RRUsI/8AG63e08cW\n",
       "MMAEVVXgZPB2FOP/+js/jsN+4jCDMcPttLvuUZHs+eqKMRpfyhBrYtAwMdHbmRjXOhCioDDntXsX\n",
       "XwwyH0hTzSFQG/42IRgf2RfaSgyJ63QrFb3D4EAAAAA0AZ6UdEf/ACxC4UN9bqGJefUSyQcHPkMG\n",
       "NbwhKfDSoaQwOoKfXsAFcv+Uk8+C60tw+SszWQAAADgBnpZqR/8ALFm0AxQXqvEPNYbQFqkYIOaP\n",
       "8XRoPCXbu/KYg3j3wy/beBAAHnTSRzQ5+JgLbZa5QQAAALxBmplJqEFsmUwUTC///oywACunLzgA\n",
       "DlH7t4qgPd8LokW0097QULvZYSZ0SeQqk+uPz999GprTkouelMFimSYFUxGYjOr2I+IdOCC7ww+x\n",
       "J0lWgd/WUhIrxMzYrkxWofJlkLGWXbyIpSIHxnMlG6Tx6jEmgb0b8SdPBXHxbDOl+ADvtUSO8GA1\n",
       "KAvJgUB6QcL0Fcgz+aqOKa88VO9sCHQxCw29L+/jzmuHQ1rwZAHcrK1WI7XIIKJR+DuKYAAAACsB\n",
       "nrhqR/8ALGQSQ4cNkjBOnes5CPEmrupX02dACaMiYuLfMEXXz0fa8iWnAAABB0GavEnhClJlMCFf\n",
       "/jhAAKiSiVRELAFBtN97WdAwJ3381veDnqQBjhvFvOX9A/fIHX1pG+pBWjSYat6cfu30fpC+aSma\n",
       "2EIOvp1QxgWv8ONYcQTpnLtgqbnDP8XECjBlewFFvLkNzgXBxptvLqsapGdx7t2s3AwK5F6f6P8x\n",
       "9rzdfZPZVgOeofOryf1noCFx1IVXILxESJw5xmMOEh+MwtnR4LiF6TWzogwU5fAb4zUNno3pMF0S\n",
       "r8m3X8R2ioxwYq5b/uUJ0pFevltqF4iQZjFfA3qogBmH/XKEUnQcS4OzN2NU24aDyqIIvwnp3M5i\n",
       "keUfZTUo8E1/yGgSm3F55/X8EdcSu4WDAAAATUGe2kU0TCP/ABur55Ht2TX62R5DfJGy6ZKM7ay/\n",
       "wU3TlEw0L9QkxScB7I3zlMCvQAmlkaN+IR2KimIz+Z/Sqr1xcxQ/ZzoANZzIEaSBAAAAOAGe+2pH\n",
       "/wAsWbQdskpmiqvAkM19GfzeGBxsOwVzJXXoO/QAfuVBu/gpwUoIPgcLe+5bd+cV+mMoAAAAyUGa\n",
       "/UmoQWiZTAhX//44QAColP1u9AIHkUFba0YKJ+ZwynhoN2r+5HgSLQQbIayYSFGuA7tcFb6EJ8RX\n",
       "XVME+n/U7vAE7eR8navlKG1Z5aCQKKkKrGwA/amq0nJ5t9JTQhJFvnRLKiTCVGU2zkv46aPyMipb\n",
       "VphpQIcwcgTXapejoerN0gc+f+now6gHXFDkET0/6vSG36P6fQ2nQ9Sv/cq+iWQ/EBBhIEsjjvMf\n",
       "aN3xrOqezh+m1KHuo81I0jGzZRiDy83smPTVuAAAAORBmx9J4QpSZTBREsK//jhAAK0hIrugTx5P\n",
       "A1XeiMBNLWBeem8QBGIneurqqr/U89BS7ci75LKPWtrS28Fhvqs2ju9pZH7F0G/dipqVCnLAp6Df\n",
       "QH1Cjfw5Uu9gw8XnvmhFL5vZRexLPHl1gPCx8dRzGd3n41svzU3XyDhyKRH7w7I6a0UENmqLeqaF\n",
       "9XniBM/AeESjPQy/Xy8Qsh2FnI1GpxlV+ZtJ2yFU1VDrfckxrIR5+r6l3FhztQFx19Tfs/91P6na\n",
       "m/bsp9nVcJhP/6v1QmxsPbQji9w9xiXwx4Zu6H4vggUAAAAzAZ8+akf/ABYsdwVC1yFc9YWQcb9H\n",
       "HCiY14h1zcXgAAC5EkZDHH8ejEsY4TE3GxJw9UjgAAAA2EGbIUnhDomUwUTCv/44QACn2UCAaq/u\n",
       "GosrQqHZ6/jDHuyKbD+rmigKtT4v4BgXmB1B0FBbnT1Cpf7Rf+WbC1ZO04XWpXodwUBZV4Bw9RbG\n",
       "TCUE1DuWtNpIeWLga8fxxMxhTJ9adj9DHXvNuognGqtUz4245hskwWzDCsPQ2GeXSRkHzywU7xCK\n",
       "lFnsXooCY0E3rPqpNno/PzN4xIGH/n3tczn1ZxIKdeER2aOprjhnXE5hGmU+u3bF+8Xz2zUTBP4h\n",
       "V/mrHhK9lzCaRetf8O+oPBOQlmBAgAAAACsBn0BqR/8AFQvC7XFDw1lLtgxscJY+qMvZTcMQQ7Xv\n",
       "AAfR/zH3lfTawAU5AAAA5kGbQ0nhDyZTBTwr//44QACn2UCAatBWeBA1Lb5bPck7XmYapLBiJnWv\n",
       "hz+byRDgjYREOZfOaab2y+qvvAauI4XU3YU4nomFidjG1xG8xumDoQZ6C+uMvpCjCyvm4orpu6ix\n",
       "UnFKqARs/in5QDFKWZAr2/Cv27cWX27hO3lp+t44DKbQh3fkEv8f6G18EjgPZjcBGtSV8lPyNUMS\n",
       "46oi/1vy3Ru0yGrJh8IKWuztTqNZA1QJcXdMCyVZ81ucULlrRzvliFgNphbF40GVLkT4Q7C3i8U2\n",
       "2olBQfpsRZaOf06F7r5Z2E8GAAAALQGfYmpH/wAVAqsl4kwDCyNoWAXfEZ2I8jXvRgjO2eQAJsr/\n",
       "QZtRh5Jp9Lsg2wAAAL1Bm2RJ4Q8mUwIV//44QACokrHL2cAQRjcifBHtegfo8/KUsxyVUbhHRvV9\n",
       "PZXC8+FtHoLlnEbUCnNkPLAok9muU7SFY+uIRPmFy6zTTwGzz/x9iTKvNCLO2Is2sdDLWnWNZ7T5\n",
       "UoqhAVVCLSKdQRIragQVr34Zr8HiG4r8cBT5y7P8S3P0fymScF5hpXZ1jdT3SZC6OzPZBcZODQVn\n",
       "6OvkOQxF3qIOTGTHzUNZvRyzmnSeuUVQUo3pIlMMSs0AAADHQZuGSeEPJlMFETwr//44QACn2UCA\n",
       "oMgHklVwcusY9N57TLB9UIIjihgm/fNXEvXyD6BHtLpUtAV3XtjbZesTpbuCt6B8PImEYbl+pjuD\n",
       "wE8JMJQiA85YBY4hh85ofYTIef/r6Ld8HjaWMvIPaAxYTK7IBOltI1RwKtcG98zd564inUuQl/os\n",
       "JBkJ4hsJ8ttboOSC9KgBgK96kjoSEgFTgB9KEaBNS1hIv1xAhcjqHEv5rXJgA0vJRm7LWSll8fca\n",
       "kf2Y3AeI9AAAACsBn6VqR/8AFQvU3ERZ4cJGdXr/7SXRVA9J34v3xACE8guACaYUHEn1oQZtAAAA\n",
       "wkGbp0nhDyZTAhf//oywAFd5lzFWlz/ANE2l7JCDj3TR7kkLfLiZelPVCiZiT1ZkJCjMfgMcg9wq\n",
       "5i/FO3Je2UUYeuhezU84fbd48/B6gAu7FxZj2Xjkm53yeMvOpD36YdlkavGAcOPR+3La4BedmVUk\n",
       "/9dIdp8VG4xCntWprjl4SVUjdl7Ft3b28+gFhSv35bch/fuoxPBEoH9TOgqq53WGyJ+dXhqwrj0D\n",
       "cDQjdyeHswFeFrBUAqnxd755u6Oeas1uAAAA6kGbyknhDyZTAhf//oywACumhxEAAGWEhK+SGinC\n",
       "LJAZhzp64R8/XPyeCxJu3LFGBmoAesyR6ZcSHUpkLzILv7d2O3o/TdjWzfVL0cWQet/bJml7jRjy\n",
       "xaJHKWn9wwKZtf4GMCm2wVtxtV82oixhlitFrbCmGcDnC9TQb6xyM3EFxwRZVK5BoV3wyHt53lbl\n",
       "JxoM08cXoImGs91pQh9KVQZ7ig0v81a8kP3Dr4v6brfIWNKLXqfcMn7D/YJUcV+Qmn4+IzTI2Zbc\n",
       "ES0i7/2QWDm+WXNMK4kPKPZd7Wk5aGjBpzTlbcpxDPdlgQAAADpBn+hFETwj/wAN0PveGYIACzuy\n",
       "FR7Q9msVaw4QFniJl62TiPO8HmLSf3DAYkk7HyguEhmOrqd386GBAAAAGgGeCWpH/wAFhIhDT+k+\n",
       "KokwVHryQSOl76SAAAAAvUGaC0moQWiZTAhn//6eEAAp7rhwmgAcY32rlahQnKC6oHy34FBP3TPk\n",
       "g3VWaOZngrEwhPC2EeVp3e0FcC/G8AY+HWo32CnOGyzjS8l/z6Y6ufmvzeA8nY/5FSlod1qSPPB5\n",
       "MeQZUGdo9AP8QsgnC1uBsYwnjTuxeH/GrfmzW/NLsWeO1fqkVT49oKXJvJHVSkoiNjdKlLrlWN/I\n",
       "tPdOufBd2+GjvustJitTO7M+ReGrvAB/+/35AJb0pziWSAAAATVBmi9J4QpSZTAhf/6MsAArqG/o\n",
       "hKtBAEQxH5W8de8goumfiAznUc4DI6Es62DKiufn0v6geNqmx548rfQAgJZwIMEbzhKo1QBqC49f\n",
       "fZ2QeZS9AYr6vDjOOYTZzLi3e4lB+PohLyGQpqvjhPd5CPtkyBjAT1wVdsfrxmpmFdtJQ4LWB2ux\n",
       "MGBmwuCHITz/e2TNXuvy+l/md9DLSfme63MER1c2dukh5UrfSNCxz1AUKa4ppcmqq3Qt4rfPvNZA\n",
       "lDau/Im0iO20m9tiCqJ6bAgrMuBQVUl1KufyL/7ApC4agJmsHtQbqiRP7LQPFQCLuGucd2VCxChJ\n",
       "Cpj0t7xOsWcpEfI//lRu27g62eEY92ZOahaHhpyfCyjJZ/mHr/CNtGIQrOGd+ut2ff+8n3E52p66\n",
       "TFi5WMEAAABDQZ5NRTRMI/8ADdSpyhU6oAV+dcrUjCKfEcy3mNNQjikxVqwG+Y5l08E4JiF3aBUi\n",
       "LsMyWSevuNF3Vrn94tc9y3EZ7QAAAB8Bnmx0R/8ACj7WHKJxWPlVIVMsbnr335dHKtekoTaBAAAA\n",
       "JAGebmpH/wAWJQgj4Do6ayDLbHtkPKvIPPTrKhrb95f9AJ78SAAAAPFBmnJJqEFomUwIZ//+nhAA\n",
       "Ke6S6dIQAIZZ9yjCVYT9OjJz7rJRSUGTIHXBoPa0xeGVOwUVsSYPqHXVYyQGwgA228dhS4Lv0A3+\n",
       "mixMEwXyTbQkFywDeRZajg+/aV3XqceTGeqo488qBMpnUUD+bHZdAmfI9cY2Ct137crFShGyIgK6\n",
       "T+ZoqwRc+OMb3hJtrEa7m9xd4G1XY6j8knuwfLRynCEo8cMW2qnEjXKO+oAP8gY2ZeFnyZ9o/OMQ\n",
       "bJpRmthb0bJ9KXqcGrT5an+oFxudI0G9xzTNCG6DO5YMpu0F1V6b7ddlX6fX7vz+8AhMbt33AAAA\n",
       "MkGekEURLCP/AAZyN+Y/ADT9ay3hIzAGHpFkUOaQQAqsn7CYsfY+ZKsrGXp8wKqnn6m5AAAAKAGe\n",
       "sWpH/wAFhx1uWQ1J9D7wAqobrbizywfLeySOYY3hyuY20DXyhpEAAAEGQZq2SahBbJlMCGf//p4Q\n",
       "ACtHe3mPACNMCvlkeK6WM92Dz4+DcKBNDjO7axDVh4RlxuHkJbdRNRFQPdS0evUBUVlie9rVMEqf\n",
       "pOzkfuIS+J7JScXBlUBl5/1odyGpfaXnu9X6tHgTrBxZrmAm4TNNgEYGmURR++xnPwFNGwqspRpG\n",
       "UPm6hd3Zf/344ctWnmebEfGtQUf3h22bbpLXzVD+djcep2StlHZ3hZ8ThuX51dTc7706BkTLyE82\n",
       "evht4Q62pJ58vPGFo1ypFQ7Au5PxRoxRuhy+Ua2G3ntu1hQGSeqoCAfTgo4iUxot16UVunVLO9Yt\n",
       "r/IFX4ppKFX+oqtak5v+ImcckwAAAEdBntRFFSwj/wAN0EK9kOrAADjbK6OPBqeONX41pfp8pUuq\n",
       "EyUfoiYzl2OKfiStl/zBIsQq52+oP88HlgJ6+dL9IJ+vp54fcAAAACcBnvN0R/8AFiEAmlsdq+kq\n",
       "lto3nOXoYFwJIlFWITp7Q28sEUbxXcAAAAAiAZ71akf/ABYsiTYKOpj7gx8WFPtAWwSDnBozZjSl\n",
       "aLc2jwAAARlBmvpJqEFsmUwIX//+jLAAK6hv5z+SQBs22CjwTWJaJZ0E4UObHYF3djGuJ/Ie2x/k\n",
       "Fygyr08W+TZKhq02K3wRIbhVrk0YbSZjWKIJInYvyEu/1+evhhJSldx1slhTMAIm/UZmzAZrhJSV\n",
       "ptWehVWLsVyASrzMqye3qv3rxC0Q0rp83L6hXcVDtdvMlqODc0vyOyNM5d0f8tlAknqrwcuAeot6\n",
       "h7W1GnvSX3nTzgLR9YGD29CoYDnDf7UBZJRAD7dmBq8lbryah99PLJSNAf/7unf67fTwS0nv6VCh\n",
       "OL8dLNQlw5ma4QhSdwfWQGeWD22vRRGlGBOTMuJ8xcGjCSk0FRq09gnjwM7X1+vP8iRFLZVGAXt9\n",
       "dttL7gAAAEdBnxhFFSwj/wAN1KnKDroh5zI5oF+tIunVk+UlqZkJD1LB4BZbkcmU0AC6CrNIvANf\n",
       "MNA2T7ec0l+rIaQlN2rRb9EM47OcfgAAACUBnzd0R/8ABYuhKIALYG0kTl7eInpwMBeEdf6phZd3\n",
       "IAXKwyyxAAAAKQGfOWpH/wAWJHseepKzliZ5ZGF+XSHzrnyQAJmFuEU3dHqRP1AjfT7hAAABFUGb\n",
       "PkmoQWyZTAhf//6MsAAqTQS605qAIMZU2ydOJU+R9+UK287UFZ2DU8lalPJvqTzs2SpFcpsBltKC\n",
       "Y4jm038XWt2SIl0Av/ca40jxZ+lhZkrMvnRjPehDh1a/pa4E2+9zqWRpUYXU9+iv8aG1KxnHaM+K\n",
       "sbU/B2TPwQAgESJWiFUC/o3lc/E0Q++HEJ4eN8ldD4Oeas7tvmx//7Bgk3ccultnBphVMNuFcwy7\n",
       "4T2SK4TEKWpmqXa/rF/tA3UOLgT8dJzVg/A8rbb2jNnCFJXgU1dBlUB5x9Z9RxYM4jSyKidCLL5N\n",
       "xQE8fYvJFk0t6o95jN5GkDHYcTK4I7TAU52zSP5AUqY/ro+Z/P9TrTGnLtfvk2EAAABaQZ9cRRUs\n",
       "I/8ABnALR0aFoKLxzN9QcALSlCDWISkvMcjqedOcjMGTsUZf5epEka0XnJ5jgh9Zkm/o0Rf9LB6u\n",
       "OQvve0HeNagvdHZAoqucjg2+XuOoUngODKCAAAAANgGfe3RH/wAFiEAj3VQFdKPw0aaidgX3SAD9\n",
       "yYGY2QjxVuNO/IF88Uh9wYoyU8YzbgnGmuodywAAADcBn31qR/8ABVNWNH5LmiV1878IlcSlgAfI\n",
       "WfMQdAeH02jAd0CPbgY4EG7ZRSkQzvbBoowRkvyBAAABIkGbYkmoQWyZTAhf//6MsAArqHARQBPt\n",
       "SSNoNemwSYv65DLK5RYhV1u8IYuEk79H1Sl6Ox3Pi1mTXgvaA0XR4oEoVhXk7pn3R9nh0Ls4/88f\n",
       "lk713sxX5hrMgWqCa3hqO4j1y+yjXbndcrSUY/sdlAB4jfX0BMzRfb5M322tLOzz9jEvK6Ku7M2f\n",
       "hXz9UXw8DQ52D9jud6TSUDfnX/LBhRH8VqyZ8jsUan6bpjvdmxg7t/+3kd/IUJa+3cUB7pvMPjGy\n",
       "nQVezZQX3UggeGRlc26p+50Odyd8rQH/Tmq1eplEe2sKu5UKtgi1vj+n0fxLtLJuCrWlRfR/oLLQ\n",
       "+8AVHwtPAeZPFKAfQCJlrN2R+9lYtoWOHjRYcfW6t8K/FdMOR1ZgAAAAQUGfgEUVLCP/AA3RTVlM\n",
       "4+wtG344AWgUPY7SjI9/uDETQtOQWx++jEHPBnXD9vPQciapBmOTRF3wxH5kP3HnE1AgAAAAMwGf\n",
       "v3RH/wAWL0UeG6Ta8+Ck5P8cj3qkcABLdw9xGKJFEdWG4hR51zjvfhaV1i219GGX7wAAADEBn6Fq\n",
       "R/8ABYsdwVvDzL+c7wAAfR/Lhzo7Xb57QQpNgLUFAhJ/2AeqxuuuLmIE//HbAAAArEGbo0moQWyZ\n",
       "TAhn//6eEAAp+Va4BCPX0nFZB93NHScJScqgQWDZTinsx7itxBbTHzFl2638LB51wNrpDiprwiUW\n",
       "XqU8hK3wwBFIHwrAAR2oTuQwqIQbL3x+1B1Gy57ihH8BkvoWftAvJL+YpYYuWaA1i/n9+h9BtHH8\n",
       "BgBhRayEW7mQ+VcaFCYfx5/4WVword0eBbnZbJCSQCcXxVs3OZgjFzeso9wbELAIL2cAAAERQZvH\n",
       "SeEKUmUwIX/+jLAAKkzLC1RANSoYEyAL+2tqT3qsXIP5vSHY+6wbPPPkPEJV5+xTkF281kiIeUQo\n",
       "9hXREv36ehRQYKI1KHy4viMZk8pMzgpQjpMN1xJoXBZ0DEFtPdYQCjaeCibEGnU5n4T1Z6MoBgqK\n",
       "YKvPE6mBwTW5k/GfbOTu22TW0arcrp68oGbmBiGsbAG6ldYur7LqhjFn5nzXPYE0/RQHuogOFpJ9\n",
       "1Z6QjgNGqlWwqykzAlbPrU6fv+dkkmxvnLrgZ3+4XUrNSFojsurGd1q/3qH7I9qcBx6uzoL6M202\n",
       "ahLa4QvIzRGq0pPBeV/L3R1Jnj/sXtVRhIjce2qxX4ufR7CfVwRMh2phAAAAXEGf5UU0TCP/AAN1\n",
       "est2VzeypJaEhhqpAArWh7vO87fKJtS4voeztCdL6llGk+0W64I83hG0qlXxr8q6KOnURdoxvSlo\n",
       "BVmVyv2QTwgbkT/kAiFfxtuRa58A829sAAAAPwGeBHRH/wAFhplFZC19Q9MQAmkkxbEhbbwtaTDf\n",
       "LRBAheHXbglwmQ+x/+v0BuGPTwy4N37vi/Ps2BmaXKxLtwAAACkBngZqR/8ABVJxgWXoO1abt8FD\n",
       "3gBZ8ULPIxmnnee3mNS1yShGdhraoAAAATJBmgtJqEFomUwIX//+jLAAK6hv53WBAMzQfzZ0eO4z\n",
       "uc9X4J/oxND2J+A0F5OIemXR+j729qny8Rn/R/fh6AqY0OIR1kW9oqnsNaen2ZTUnzqHAQZwdDK+\n",
       "9JaFldQ8IVm+sAgHXbf2tEEax+DlUEhE8/YgK+TbcYN/yKTq3kufGfO7Kx/YLGDnhCyW+gTlRFBG\n",
       "rXcZ2dfTYOCkxXpd7WXMYPJivaWXgJyfV+UFfrdHvNmTOs4uwarnSXVU2wSdavWzRFWogwPA7xLb\n",
       "rG5nOvViSNf8v5cYwhRlEz/6E+avz30xGeB07h6PlEmF2FF70JLm19M+0q25avyrVi78jyzXRao9\n",
       "icue30J93i2Lsc2xwh6l4HOwXofqzmmnVquuKTx1oDmwdLD5m4rYQnPTtfiJaMEAAABGQZ4pRREs\n",
       "I/8ADdE1nw20fQURqb9fRRoAEtSi/oik2rrj7mcP0e/f5AxYrl+aFBDQsan6i395HQc9b8Vh6YUx\n",
       "rdzkFu9YQQAAACcBnkh0R/8AFi8vuGDTUziE8bnAWAqh0lYABLLhqd/D7FsllBYAXWkAAAAeAZ5K\n",
       "akf/AAVTXJRvkQB8zYccm1tANqs/rCSOmyrAAAABBUGaT0moQWyZTAhf//6MsAAVJsRYmc16YAQC\n",
       "BroAOvPPFMTOYOwEz4EC4Khg1uXQrR2NwUjRkkjmyV/QODA9WXkBHhvvW1dy0NCUcWBe0lyZTps1\n",
       "8f7u79PXPD79jLmkrV5M10AH1c8dfRkaOlbGtLGaTYqJWP2rdMB+dposRU5PSMj0xQt46tVdwwwz\n",
       "e7nou83UI4j8E1SuXSjfwibcuF7pvIUv69mzaofkvmagjrImUBQMu08yV/M6jxWPGjMM+7gjkcQI\n",
       "z4BwFIT2VAUkd/MO5q/24Z58VnJxybG/NCqzjP7Ut3t9EiWUR2xjIZJZQz38EmcfrA+5gfC1RpM/\n",
       "X3iap4J6oQAAADRBnm1FFSwj/wADVT5Uju85OYGDE0SK5gwE+SSZJ5az74jp04AWtnRP7mAWVfkH\n",
       "wgigT02AAAAAIQGejHRH/wAFXwIEzyDF4fmijX0JBuYF6/CefAMNR/zwwQAAAB0Bno5qR/8ABYdc\n",
       "EFQ4p8CtP55DZi8y1FToMRfiQAAAAQVBmpFJqEFsmUwUTC///oywACl7w7hwbabFGupHDYEmh73z\n",
       "xPb8iBMsgxlT20A339fxeyW9xpK3doTtKZ11weVidp2NZ/La2OzhNsK0L6z7he2FQl7F9l/zpYNh\n",
       "2SLtKH4x88ubrfdTp1wxYAKagCw4q19RkRJMO7uFr/tN1nx4RQmgllUr68e0qH/kPKeCYg8+Weku\n",
       "IKNyZ3pY9HLsDxxrRGXOvwtCvMHdE7ljUpJaWbYdnmQBkPmu9c8we5w6z8wEuv2WeQW3pf4Cvsci\n",
       "estvbU0/iZdzpjbKx96b4lH+GkD0HnDr2CiLFAUxsmOdld4n6cY3FMImYYKM0T0YkRY5M6e8hRkA\n",
       "AAAiAZ6wakf/AAVTYp4f3mCOLJKAddYL0THABqMakUuJULvEgQAAAP1BmrRJ4QpSZTAhf/6MsAAr\n",
       "p3Z0kQBkeL3iKAUKGdaLx2Lx1gL4r+/j/2KccxN6T22qGPFl/mTm9X4r81e4iyISSww1Buo+e9vd\n",
       "BMYNawKfmdE4tvdru1Ip6W2zEE6rSr8hbUWFB9MR/FiRGJFSpkWJhCr/qZEmsUeCJQfbxM/HXZtQ\n",
       "SkU0egeHZxk6VQd1yZJIck7fyq5AhHthP/3S/+OcxU4FR+hzCihvXreRa+b0ChV96Da3U28OZXyp\n",
       "vlOQ/69B8AOWdapM9Of/Ox7OChQGLQftVxPA5SNd2OADqelB7XQKc4RGbb/UU8hPZS/MgdXSF59H\n",
       "8ZXl0/NEZ2BBAAAAMkGe0kU0TCP/AA3LPZ8FP0cLgBKfP3Un6Ww2pUKv4yi/0MXz7hh5k2UN8bbm\n",
       "HSs21BNBAAAAIgGe82pH/wAWLNToP8lL726LpBIowcjUT5tvfZePqWHBAmgAAAEPQZr3SahBaJlM\n",
       "CFf//jhAAFHSDMABTsx38m9hJaXnlSJGfsCR5nV6D/cfJjy1yn+aFiglITXsCJ85IL6M5OlDVNYg\n",
       "WtrgFbX85gTx9sZ4nNsiZDdMnVoFYA/gOeTp3U9+P/dyyT3gTsN+ngpTXQbMMnPyLQTLnVzJVJxI\n",
       "vYDjxssqTZ1PuAdiJFgV7N13v11pTKBcg5z/ev4D2xpnbsfi6KLYyz5vuPL8LJHRN7rpELuQJ1FU\n",
       "qcDUKpQqp333x/uvxJzSRv9fZleZH4AsQdmKNUEp3XBY/lkEqZSvgOm/u3QqiDS4Ijb7F8SBkg/q\n",
       "snKTB35PkEk/CyM6QlI/kHi2jRw6XzxRX5CowPy2U5pYZAAAACdBnxVFESwj/wADX1UDCZ2eDIQb\n",
       "ojIc2TBOFC9jDwiJIhR5UzpQN1UAAAAhAZ82akf/AAUvQeaGbT86IdYzVt4q982IAPL9nHll3RqY\n",
       "AAAAtkGbOUmoQWyZTBRMK//+OEAAUdISBgCj3thrMyjHDHnhIkChLGezRs8z10WF7IHvjuNL6aVc\n",
       "KHXeHsTfOM3PLUmHa9TZA3Ozkz5ALUS2Me7VDR8dgTbUVAL8X4UI1WRMKrGU0Mu41MThYz5Ciz7t\n",
       "OOV9UW7ucIVU9JuLzU2OxXGbputOi5GGIfnPe8bnULQh3h94hY91tDTxp6c2Ft/f8K9i11wXaagF\n",
       "s+vYXSaTkZU8cywX+qJwAAAAHgGfWGpH/wAFNGcolg1zltJv3TMx/VdS1ggXL4UugQAAAG9Bm1pJ\n",
       "4QpSZTAhX/44QABRkYv3yAEexeYZ3kngibEaXxJoB5Q3lA4IUiTrQV6cR9ychLIvBrOaEtZooix3\n",
       "/RdxMor/f0f6cZx1D8Zd37nm4P/3JY74kaVPFdKjYgos/ONKJzHyyxPWI4/lInn86WEAAACJQZt7\n",
       "SeEOiZTAhf/+jLAAFSZjBSYANESIFu7gnbQODgaaxC7QtdfUKSEQDfGoDR+nByFVLn4ohazfj8nw\n",
       "FUhutNA6znnVrVPgx5xyvuApWamDCnnKrxgMXmW68v2eEe+CKAF5MQUYC3DvUEldVGbDtk0XkoBx\n",
       "87IGAIRPZTPnXNBF2gYC9LLS9oEAAADCQZudSeEPJlMFETwv//6MsAAVNHExgBC/pj27pk1xbRHx\n",
       "5sj4bgskKOtmKxUfLAjAyZZWaFSJtBzAbhOS7eXWWlpZyQTsQKREgg8ItDrnSyjUJp6ST15WJ+xx\n",
       "mqIQXj9X22ZRY0ZDD+Dkz51TWx3At/sw9tZOKBCplPRzM4GSehry3dm4Qcu/xqZ7h6NVUWTFUHqe\n",
       "VrLXs0G4hedSE+ufKB/0uOYUUUD/89cXWanwNGyNuOWkZSUK66v93g/6VqNo6s4AAAAlAZ+8akf/\n",
       "AAU2q0jnW5H/pXISSzqa2qbhwC7AAWfYJMODvPqDtgAAAO5Bm6FJ4Q8mUwIX//6MsAAVNZ0XgA2J\n",
       "ZJW8K7IGoxZSgh14BidKNke3K6Jm7p7SVpiZiNSsKr+yjvfuAAuLZvc+BNsVQJYkzsmJpUKKENIK\n",
       "PjqShk8fHp8FQW+h5jOnzR+HEiB0n6qVGqIBEC/s3h85nlWOISOS2qPJ1AvXi95+u0R3xDBS2FvH\n",
       "8zNuJiwWts11HuND34l+yRxyXgj8TQN64nWZAl9ebqaSTfL3lPtJy/IfPwtqOLZgl3bSWQS1gYOu\n",
       "99wHvDL9UHkWv4F3+rANHC4p9n3eulrrfn2ovvF70MsSbQAEZ/vFH8KuBGzBAAAANkGf30URPCP/\n",
       "AANIdiE5SJzpMALGSmEtDPd+YNf1afmlvPlYst5bTL5DFSNiB6c0Im16uP1tgAAAACcBn/50R/8A\n",
       "BWhEYJWLM8JN7u6nZIgcW4FZtp6v/7lviACaYxfhtPwAAAAlAZ/gakf/AAUvVlwa9SvInPrLHpaw\n",
       "KoTnyn4AAP53HqTUf8SNYQAAAK1Bm+NJqEFomUwU8M/+nhAAFROY/OAG69e+B7RfVyWK9qgUZb0n\n",
       "DWUmOlaDejrjq4tQfNpNkhFGGnsrAxH9Eyc5XsXeOmHTqErvmu3e5WdrCiLfbVIn6ORK7MKxBp/W\n",
       "PeID2DN65UNjpDZqY7IDd2A7zJ8mnveGYkXwEbYzK5Xtf0AvWYoivLjHpAC0CV6jPEBqKXFEJ71G\n",
       "hVq+7WBk+PeY0Xwuv/Bqq+0OdGCzgAAAACgBngJqR/8ABT8gTZOJEA6Q/nN3l24mlAtfKn7gACZw\n",
       "heuSQR3hQzaBAAAA7EGaB0nhClJlMCGf/p4QABT3eLqkpgACuV4wbX6xF5qspxe0FrLKEYmdAXb1\n",
       "K16RfOxNUn3Fkl7wQ+ejv1zvT4GW2MXZC1oDdaX1rnaUijfnLGH60q2Wszj6/OEHu1Qz3GEiGY/y\n",
       "ul8r8W8cYnRaoTS8zNQQc/Qqjk/0j4AMwTbhOF6YpmtvVF1fOI0hGuSa1BD6JZPdpYD16IMXFIJk\n",
       "8Yp879IiVrw0eiSGgNXULwRWjv7FaxdTinlN0G0YwNR/YNrEB5oxHVPuhP3cdJByxuK6YDl91RVd\n",
       "uEj3V8nDX5+2Q9mLzwbjKPDllK0xAAAARkGeJUU0TCP/AAXRWcTRrXWdfKpCMAcTUo2UonQDoatv\n",
       "tKhYaJOIM8puq9MMXJPD6eMJ2Iut7poQugvZgbiF8p2YtvT6W3AAAAAyAZ5EdEf/AAU7tWU30uDg\n",
       "trB6KAsACLwzyTPRPrWLr98qOx34LjA41plhZEiME3Ay/8EAAAAwAZ5Gakf/AArKhA+apX5YABOn\n",
       "4AAM/ToAAFWfiLceSs+2g7Vqms6eacONe7EHenGtAAAAzUGaS0moQWiZTAhn//6eEAAU93xkR6iW\n",
       "AAbDKAuoXNBzzV6h8DHK1dbOnbEG3VwsBe4q3xe7UV84hrijVv9q3dGk9cmETe/1uLxbnbGWLfDX\n",
       "EMT3qBlmZ8EvqOq+uGRrs7oKNn+lysd67GE1jvB7lRl8Y5moBwFvad5Fzc+bW0xAgG5rrjGT0i7F\n",
       "sXmjLs1qh7RwnW7qH36O/zvgo1E8/HhBE0RhNx0M19MBvsudGS480WQ5slIdDKXRSW1Anb40c6Qn\n",
       "2KFq3Zc+VUhRdCEAAAAyQZ5pRREsI/8AA0TKahXiTZ4s6YI/SVIowlxTbAA3lt1dGkGKdGrNNOMN\n",
       "YT8ApBDmE80AAAArAZ6IdEf/AAU/GblOlgXR5LBCchlAjwAEYOjl45iS/pmGSkJC3d3M8XpFRwAA\n",
       "ACcBnopqR/8ABT8gTX3wHVdzScCLpee3wAEmoH6xnQFZXkEJPXaAajgAAAD/QZqPSahBbJlMCGf/\n",
       "/p4QABT3e6Fxr9vMAFo9LdSLhpehVROXVAqj2QW7W3LmC01EQVljUKD/HBIE/3K93fLrAct3p2WH\n",
       "+Ig0cFqXDnbdoEip4Bne7H7tbtRt+C283sxEzhfvJKgw0Pt5bH1vIEr3ifIAenA3naCJQfxvQe4v\n",
       "X9Bj3+FAT0dQJQ5agXb3PGktNOfj3S4L2CVo4f5qBPw8sFsM5lDRQCClv9iHs3hIWGtvdbOA4lZZ\n",
       "E4AXOKlxdpYu0D7p3BuwiD/9U/ChsiZW8pdWwsRGfc69AFfeV6jxPnNEsw+XeJozqMG/KTNSKLGX\n",
       "xApCyJ6Y98qTIhS5w3mBAAAASUGerUUVLCP/AAasDBF6/GBl/BIDcJqCD6CAEmjSVpE0JAZmhXus\n",
       "y2x3yqmWy8PNbssISm8dciwcsHlcHHV7RcN+2icUeJoZBO4AAAAhAZ7MdEf/AAU/IE1a8uikaacq\n",
       "hL4ACQBWo6dzdHJSY5qPAAAAMQGezmpH/wAFM6/Thhaq/mr/dE/75hW3HAAXUAfHrda0rY+ZT6s4\n",
       "+ydQQKXPoo5bUcAAAAELQZrTSahBbJlMCGf//p4QABT3TGYuten4AC0Xb9Sg/gBse253rjWWXI/K\n",
       "LxttuJASsWFXdYR2aJk9jQgYvLA8pwBWKLFuPjVbc3QujUJ7W8OVpXCrF16RSY++OoH84C5OuvKv\n",
       "7U1aYxFposKk05H2baWImEhg+jBFW75LozBDlAOCFIcJQjJzgjewyjwCqM+I3bQWb4i4XFXTqTTs\n",
       "Bn1da6Z4btSa3kTTVsYBKgYqevynjU1tyo5grqpFBlu5CEs55cdo44U/obJQEXPh4pAK9TYDm7UX\n",
       "Nj26+fsKNpxPe44m5YXRZ5tVDZcKrZnvg21rwtz4gn1GBKP3MoMEIxRZ/tqv/2kXyGcp+3ZLAAAA\n",
       "RUGe8UUVLCP/AAaWlY2sfh8QPoMUX0WiFFd2/7U39Y6WOABKclxLvuj3bu8Kn0xqadU/USLJVtmI\n",
       "vjzTCGAVLS1/bzxIsQAAACwBnxB0R/8ACoc7s19p020MoVGLLbYknRAB4oClSDR0JPM0lJwEBfmg\n",
       "NTs+hwAAACgBnxJqR/8ABT8gTTUswO+WQmbbYgGt0uACSByvDtjIV609d8AtsjBtAAABP0GbF0mo\n",
       "QWyZTAhf//6MsAArp3CzF+JQ+8QAHK1sWxu+cU8EzvDaHc8KADJPS/hIu2bYcSLyrLWYd/K1ryX4\n",
       "B1KV4IbiTbRUIcWft0Q7JC0QhRNBxbrixZS7Qd2ShO0XrCXs62TzzmgcCS1JyEYXh1iLQ++MpBu/\n",
       "qayM0oRG4gtLvMf7j0HxtNFyC8mWiZ8V9W0taQZswvljgGH+ZWcK4BpPt2zS64zSHcFlRespEejL\n",
       "f0RS5H0wS9kLrPULNs7W6F6bv8ts9KnQcjPKpnFI8BeL0m3p6wYI6J4utxqes4EWepM2vHJ7cl8s\n",
       "5sFaZGuYlynEKieyelqgk7/+/+nvRa/Mf2GC05K/u0EOCMCt04HzaQ4m/kHeyq5vcB5G1rtzr/+O\n",
       "IDYnejgwES/se7BJwZIsbssrB98txMeXNoqwSs8AAABYQZ81RRUsI/8ADdTB52CaWt7iAASFN7Yq\n",
       "xaQluUGcctlEbHUeAp50QwnxZe8LgcH55lvPtlx4y5cokTcECRnZA5X77NrfcHmWmkNpNxOuzKHh\n",
       "6DxQA80AzgAAACMBn1R0R/8ACn5Am4E3pQCaQaruxLZZPuJThv6o+zFSan8+4QAAACUBn1ZqR/8A\n",
       "FiKP/Xh+++rLYRDFJ6DzVkQT8sY+JSUgNO/0Zx7gAAABYEGbW0moQWyZTAhf//6MsAAVQufFiJAB\n",
       "I0+v1tj2ztHwbtYbqDhZMmewEYgTb+rNxq/UWar8iN9/gfoIvm9cHBM/MfYlSnmTf1rG8pw+A5B8\n",
       "wiPCVTIKxJLGbIj9oKAMPs3hXc1yL2HQZ5ObMVKkc4TpdizD6rOlNGhxWlZwQC8lUWRIostkoSnH\n",
       "XhmXniX6c7lwJfkY7wUVr7VitG/OxNJStyYso3jMx3HP1JDCQplK6PFI+Ri1HVy2TLJhkYaXruAH\n",
       "TluDmIfYeiyaU9DvAFHiiduiMuXAiK5vA0TyarVcbLdp8vXYE3Qn40HNtiHgvfXMi2ci4NL2qEpE\n",
       "c7qmywQGR2/aZvJ59o3Oa00oxpB9T62fG5NWgw6UO70mqe+C02Xip5vRM1wFxurzGBCsdEqAtcsI\n",
       "Rx41AxkQdXy4DYtvq8km0XALJIxl4+ixM+A6J9yH4exiLK/tmtTV21OS/LAAAAA9QZ95RRUsI/8A\n",
       "Br6I1/R8VYogALm0oHQ5tZS1JkxBNRSEShCazXCz7edMsjIocKK3yqMpgCXuCzxBFT7fcQAAAB8B\n",
       "n5h0R/8ACn5Am4F25PGcZ2ybNaZ/HFUlAy/sobfhAAAAKwGfmmpH/wAKdAXzLeHa/rAzy3HLseLC\n",
       "Ns+qixYQOx9AABLJaQN3Huj9b80AAAEpQZufSahBbJlMCF///oywACuobsYxswQtmyueOSQALQJk\n",
       "U1kUmRpaPRmWoeK13JBiMUnV6yOWHJnrIjQ0iNnmVdBe/+7wB5rlW7p0l1sI9k9DMJomS8NFq3vi\n",
       "E02LCGnAwxZqC5qpfYTSHmDSQ4r7Yypu9fNgQ3kLgJDt9y0AM6iDQ74S31IFkjEOnF9+4bZbegaZ\n",
       "4vyXrzD2DV1d9pMFeIN9aJJs4gjIzZttM+d5N2ofCpPRaZRBeYsiCD77TfBnJaw/1puph59veXW2\n",
       "dJw2N+Q8XT3PPGktwp2VUBm6tU4bpNYM2RqO6MnWgtJw4YGDeCCJLFJmsa1BBYKKspAQDMiJrSfH\n",
       "RlgMOYaz9sZev7PpY+1ftbGIrM9mdGGxX4FZAggzZin4j/R8AAAAYUGfvUUVLCP/AA3RRmEgBHX7\n",
       "mWP9cemT+rlH7+wyP7/vQqmb1A19gqeD8ttmxuGTnuH2xqFqgni8oJj0rfbir7rfV5dAwToGi4LC\n",
       "nU7Fn4TbRiupai4GxQyQP+S6cf76p4sAAAAnAZ/cdEf/ABYhSawhNOdXMGvj8Y+nq3F7Xqbfmnp0\n",
       "DSjzQSLk+vuBAAAAOQGf3mpH/wAKvBW7QtcJ40OGAToljyn4fXCAAeyAvvzR6xJ0JEkHUZfJvFxO\n",
       "dznjtoxvZfErCtiMoAAAARJBm8JJqEFsmUwIX//+jLAAK6hu03ClIrk/7iAFqhxkP1nZjP5TEPQB\n",
       "SmNj+qM8MBbj6xm7XXKCWbrlKv3Sg2nmTf6IYurf1XHOxq58yTSDHP6NUny8WvSM9DP50fhnSE1J\n",
       "U0nnFXrvqa4QZmUaC82FHqYsPfGWvFNS+k6KD8XgOXok/Uo7H8tCWOVyQjn01tGMTwWKLICvNJRf\n",
       "/Tnty8NpSQIYdmc0k5M6H3qejFkq32C899H3CLIMVGKn7uhSOQhuyKkRtPHST9BsevTw6lsz8lAn\n",
       "fQFXjmMyQqBSt1UGsWeF1x/6ejFb0RkpNOjGYw9BlUcFpjJc1OTe8f084uE6kgBHUwFsgJ7BuhLO\n",
       "F4nncXG0AAAAS0Gf4EUVLCP/AA3RJdsoQAHFf2GH05SYpUkavEPM9jF7EHoe9VmkOC12X1bZHxUV\n",
       "3s29h25Q55tz+yGbTXnQh8NnvcL4xxIVaSGRYQAAADgBngFqR/8ACsQVXqwzJywATowUZIiiIDfX\n",
       "0IPKCqtQCA9uPcClsbpY65BbVAYbjkb6PrI4GNfUIwAAAO5BmgRJqEFsmUwUTC///oywACuncLMX\n",
       "4lEJGzgBuvK0y3Cu5KlRAurq7Cn6HCHCB4VZTdZdixc80dtQMsSbaBjHXsleUJLphgy7a9Vb0Q5A\n",
       "m1puLcHpRH64G0plFBxzPJM6OUKbEK2lHdSwAzeHh15Zw6dMz6+RG2GLPC10KN0Xq+yzzgdKRAjH\n",
       "TaUDf9Y/C6FIUs85jnmOJbPBFCLtpXJyVtP1ZTxi+o7GjWO4omLNtgcGVdXDc4abYS20+osrc7AE\n",
       "C2HuMxA14vcP7Bczg4i1wNQzynjiMcZuXX/ZG6G6OHI57sKBnG3Oz7KPkfTBAAAAOwGeI2pH/wAW\n",
       "IpFBN8tsFdngzMLhKVwWqNyJxb65Jnwxyn6ACSC3ZnrLlKr+DTlz5YzDwl+veARaMTgxAAABJUGa\n",
       "KEnhClJlMCFf/jhAAKigxjt5KwA3T30cBL2pJvGo5lUjHUjtK66KNxq/Yxuea7i/12xkNk3cNHJq\n",
       "L71fcm0GNvr6ZE93V2YuGtVN2D1FntD4e0LX94IThKhlLDogsmKPBulWOdwyrRlDyisqKO9+7/wc\n",
       "E4tUTKO3Oetx9QZxEwBpUB2Ij8XN8tdlh6mM+tYz7xXERxRFICQsTaZQROk6QdaOPliQso2qyU2b\n",
       "hSkZWeMFMnLesy37551mf4tP3VSe98/j+LA2A2TqtJT/u7M8jrzZLALUjLQkmLJ5b6WStO09H1qJ\n",
       "13dPdwq4AslvxUQoomvJylLsdvgOUkqBI1l87xjjYfH5bEdXp83kJtmeaNiseOTMl8YfoCD9UzBR\n",
       "hz9MfDuqAAAAXUGeRkU0TCP/AA3LPcNnbH/NJPI84j39lhyVPWaqUwogFZoroMyZlhpNIAbXuSKL\n",
       "qY/4eU0Ris9EufBGtoEPbzEN1K9DNdFR6A+vP4blT4gjUddKqE2jKqQ95/n4EQAAAD4BnmV0R/8A\n",
       "FiFBCmfoAEwyEWicjtmZtI3BUVw7lqqVdTNTl9N1R+ntwQVBka/taU59MwvsG7gS10xemb1CpgAA\n",
       "AD8BnmdqR/8AFiQpg+gg38QAltrXClsrPBNl5pAce65d769UhZxj4qoiNzE1f1/FstmQ4xxkAual\n",
       "seYeq70HfcEAAACrQZppSahBaJlMCF///oywACuncLMYSBSXVQsAFofokreiObxubtX4BHCgzL/q\n",
       "N+/+begPIm4ZI8tpCd3evQqnWDasZxerGSbfsiG+YvmisdIkLXHIxTLr1LlELqN0zVqYA0GYt75V\n",
       "HOFTJb2v9MdFXfpll7E47yvRbuxorsTx6Kkw2iwINa9xqnMhac/J4hidJ3FmSiIyy+29g6TqHwCg\n",
       "pIAsRlLb8Oo0wkHdAAABCEGajEnhClJlMCF//oywACu7w74i0t+AFs9Q9h9EzgQBHNYacDvoSs38\n",
       "6ufr9fwNj4YvGdH50b1JtDA2UOeb8zDCRh9Ju9/z68uUNlJPATeoj7yfvOGoXIkBL8KKSPsb3IJ1\n",
       "P1Iw4pqrN8XJp7wsDjv+NtbMqHuUNdviQ3izBC43OKhZ2jm6DMwfZvWbCFfYD4sVDrOC0n7YzBau\n",
       "2BcNQHljFYKvoRQjK6Ij4GcanTvtzG2QBgrrOKklagF5JovfQS/P4zyU1/wqLM/GSgToHrMrtZKv\n",
       "eVFZQm5gTRq1V+ZM4gOSi6bZBPu5s/1dCdWhAJdgG/OfgR4PoEy8Ugke8mMfiq+E3PStWAAAAFpB\n",
       "nqpFNEwj/wANxx410mixmvEbBFwATnqt7LypCUdAl6LiSsXpyS0PI2mHC9f4WH6eOqgaaJQ3GV9m\n",
       "6XVeoVgS+tDVPaYr3tR7NaYK8oj1L8ElXMyoORJz/cAAAABLAZ7Lakf/ABYsdwcJYVSDEXgAeFfr\n",
       "P2crzeyluaW0604pd95f9+JK0tIzz1WctilE0Z4by36ADx2DYwySf3VI5+ASN3vKYR39UZSBAAAA\n",
       "5EGazkmoQWiZTBTwv/6MsAArpdN6K6ADjc/K2RevuiwQKUR4/Eiy+iYJBfAjk4O82qeI6R+qY/2G\n",
       "FSG2RtSe+cbIGBrB2ZMABcesA0v9YSuWT9oyLHxB6zlDOUA8S3ExRen37rglbfSuefJMp/Vrou5t\n",
       "HeASwpO+4D+CR1jFhWPendfgS1ZwI9/bASGq51IBWuSJ3K9CmdqLqAQDnsPwBCiy7OrHqYfkqYwJ\n",
       "3Oz+xlS/6Rgf7ZdlwwoGsWrBQerYpgavEFOYkvCkFjgkjp7bcP3jHN2vcVCaJsb+scSxI+IPXGEI\n",
       "+AAAADYBnu1qR/8AFWHIgDekz73AziZigq7zJau0AB9E98+qF12bui/ufUlX+yv/EWjJrCbaYMg+\n",
       "i1MAAAEtQZrySeEKUmUwIX/+jLAAVLLdEAVqibRs5d9kNdu2RlGbb7RhdBT9VS0HW3YGJEiNVuDI\n",
       "uH2U7ma3/Rmp6PF/uXKBdavpfsW7jf8sXdXn0uMCeh9OOwv6QcViEqZEeipNzV/TL0xBiQTRYPtF\n",
       "0Pm8xVc9Dtb2fY62duskdp05AejLTkEincItgWLmGbABOvQg+tXf3lA3SUrsjGLfbwfSf1UOJNUV\n",
       "fQ8o6wO4wyKIzwRPXeQ+Wrm3jjubje8wSO8hyxVdOBcA6WY2p3g9SWLN8FWOP8Ri84Eq63MYS5ry\n",
       "xSTsfFd9EMgdh04Ch0ldzM8O+4qoIdI2yQPjdfeNLOiFHKb0RUXMvY2FnoWpxAEv85RxnPFnP8Vd\n",
       "Irqlyo5hzF5qGlwKgZHg2plFpwODgAAAAIRBnxBFNEwj/wAbCZJzWw7a4G+pZawATmieZmEtuQOK\n",
       "GJQGA/bQoXCxiKjPGpiFVOkW6whExSbOzHXyblWLEKf2aOeUGaJn65B7c5vRADcYnZWubevvORvB\n",
       "xN1HrkozaJwdLBLapyu1IzJ66uXtrQ3OaULbZFPgEuon4TIc/MSEgNjb2QUAAABLAZ8vdEf/ABYo\n",
       "wnSIsd/moAJ2B9d7zLYjKE6OcHwiuKFJGPpNXXtwprMDmSO/hiCtz84R3oOWsW5rErECsLfZrgxo\n",
       "zayUMZaurRlBAAAAWwGfMWpH/wArRCQP77EXyxsoAExSi6Z5724SvAwWkES9qt5HfqmMo2cWWqGV\n",
       "pU9ImFelNa+ug+TJZ0/L7Ku9y2aoYd54GvB7KyDgux98GfSGb1G3jRfy11LI7G0AAAF0QZs2SahB\n",
       "aJlMCFf//jhAAUg3cWzEYcAJpDKXXRATLlYTTEn08OUiyv5VFHUI8GnPmeZak2edPQqXGimkhN63\n",
       "lMrOVGpEw1mb644BoD1vF1qIfAocoX8bRifm6hrKgtagDUrETMY+V9hNG6qQCsIF5pJyobaF29th\n",
       "r7LNe0Dj/hmxoaqX/Z8IK2lG9mqUuQj5R1Pa0oncD7gJoyDMwRNJds+RRvB4mjwAlqcl5v11XNGA\n",
       "yg4xJLfB6c1Mv3ElLDSD99/WLY5AMMFKGNplsn3jntTYmWFkmXPNGaRwsydLRY3KH3j35FPTSwga\n",
       "rSPUJzMCkaYzU0NfivcdemAJ1fIg3/pb9Z8hdWVvXf/e6UlcovnR0OaP4cU0Kk04NqZvo7YMB+ny\n",
       "ThJ7K09+F81GnEx2RVRyOpWcKr1z0XXhVDq+EBvCZHQBW2qSltybtZEXoR9+X+gnsGJQOTA5rPCQ\n",
       "7mGT/OLJxNTPUiVS1s3XKgdfWZTbzA1RAAAAv0GfVEURLCP/ABr4rGdwv4AbKK7Po3NxWyodfd27\n",
       "HLwa54GMOpVBolOCHjA+5UzwkcKOudBaKYmSgqffCnxrlrVNjgVBG05Ij3eIh486JaSa90ddp6h7\n",
       "PTOdi86M+OMUSHl/PC0zE+W0eMH+2ew01AnoAviLl5tFJf6VhYN7niqwypmnY2xuyVtsZF/oz+Za\n",
       "GXKAHRMcrpsc2SJrbd1iDncfT9+NGXVi/WxxCf9zQSnE/XywB5aKLmXHhuaucv3dAAAAUAGfc3RH\n",
       "/wAsXZyDeSxFYMvW+qwYnJsABK26MW/SzmH7zcG9YsdufP9CyKxmb8SL0QHqxq97c2aLre40zNCZ\n",
       "o7/JkPoNiDEpw0RgxwgNp2NgAAAAawGfdWpH/wAsY/gGsF4hwATZX/DMcoGi+MQcNF5yXeV6Ctkh\n",
       "Jdo4UrQmThqnu/DUcHQmE9UQiBG+lNYxOlPvUzoT1Vs2xkKMdWC6CCpfYZFmBXS3m7PQgqPrADBX\n",
       "s5kcnqrHh/DhfFbTgw2pAAAA6kGbeEmoQWyZTBRMJ//98QADIkm+KmcAIPBeYv2sJfVuS/oOHF+t\n",
       "zoUW4CVLgaj9S2Oax2U21/lzpdFHPeSCD9ivPQrwMuZ9hOgS5Z6YTLAKQjPVJHKWeSMdjfCDzOfT\n",
       "WvV13L1reRamS0AQMaPDDq/h+mhPbv1l7bbGmKM49bJuieVeq70GMGaGSRnZpyOSbW8X9b8W2ED1\n",
       "NzOvrEg5JS5SLY6BoUIctNEBUZVQXqybQ2ne3vaK3iL0qeVZLODI3K+9pbmIu0OUmwM6fQl0NXzn\n",
       "3LUvZMXA0Z3fdaFoWI6ZoPow/r4U+8hCXAAAAGgBn5dqR/8ALEmjsMDyAB9Gl6zLWz/9X8qQPqJU\n",
       "mrJopA478I+TFo7OF4EIg/bGjY275wfZXdmZNWywHvW2Kox48ybD7I7YuJ2+tC+KRS4n6XdLmo9g\n",
       "s7UtjJt7tLyT/0GMamN1ieCiwAAAAMlBm5lJ4QpSZTAhP/3xAAMiSKj8ZwAl/3/ZIDnRod7qcOCW\n",
       "n4gzryDXIEZw+IJB6D0Hd+7BMdo7XNC9FeqqEVN/b0xL9hz6Zdz+qwnIoGxv4Fv7eJMGxnzqYjJ5\n",
       "f4W6FqF/s/e5N8B012hlKycc7BiY8f5ZsVuiBr7/PuUyznqXHJYb6Q1FmWXSDD/k6KM6ABLjLzbr\n",
       "Jf1AKFC6aZx/XvCT6IHsiX5yegwEKGAcYSu6Brt9+4OhFHoVLba9MnvN98QkykZhaVTmpIEAAADJ\n",
       "QZu6SeEOiZTAhH/94QAJtw1WaIZZACMBxt8Js7HOY3Nc9Cj3NDeXEkqIv+Ip94NjS/FqPonSm8ys\n",
       "qtaHESGOtiXeE2rJBf1/yA4NdgOES3Gh7+MSnblsGZacWCWkAMh92qNppIBTyNI2VCHrLE3M2dx+\n",
       "JTjTeVxDCjfPtk9qpxuhW9+qU73FYiNSnfSDBHWa9wOnAtgeAzx4jLA4VX6dcb8/CUO65IYtgr9w\n",
       "3kjXjsnXxDT/ag+rxmZi2XSkYki+HUbpPKzkZGopAAAAp0Gb20nhDyZTAj///IQAJcj4r/TOAAW8\n",
       "3JCz00IV91t7DlRhV0tm0TOeKLOCB5YSZ0mOJ7anruSJTgkCqxp7gHzhkmQHjiGUXXI1fxr7s2e3\n",
       "VupuT7OfzLXROelARit73HVQQ892AZnQE9/eonEmWx+ZBvtSU0/oK3dMJVmlEe2O/aNAGfvmd9LN\n",
       "a7YWyy/xKtdOO5u+Vy/4yj1hMtQXDQSWRrXhRlcRAAAg+m1vb3YAAABsbXZoZAAAAAAAAAAAAAAA\n",
       "AAAAA+gAADhAAAEAAAEAAAAAAAAAAAAAAAABAAAAAAAAAAAAAAAAAAAAAQAAAAAAAAAAAAAAAAAA\n",
       "QAAAAAAAAAAAAAAAAAAAAAAAAAAAAAAAAAAAAAAAAAIAACAkdHJhawAAAFx0a2hkAAAAAwAAAAAA\n",
       "AAAAAAAAAQAAAAAAADhAAAAAAAAAAAAAAAAAAAAAAAABAAAAAAAAAAAAAAAAAAAAAQAAAAAAAAAA\n",
       "AAAAAAAAQAAAAAGwAAABIAAAAAAAJGVkdHMAAAAcZWxzdAAAAAAAAAABAAA4QAAAAgAAAQAAAAAf\n",
       "nG1kaWEAAAAgbWRoZAAAAAAAAAAAAAAAAAAAMgAAAtAAVcQAAAAAAC1oZGxyAAAAAAAAAAB2aWRl\n",
       "AAAAAAAAAAAAAAAAVmlkZW9IYW5kbGVyAAAAH0dtaW5mAAAAFHZtaGQAAAABAAAAAAAAAAAAAAAk\n",
       "ZGluZgAAABxkcmVmAAAAAAAAAAEAAAAMdXJsIAAAAAEAAB8Hc3RibAAAALdzdHNkAAAAAAAAAAEA\n",
       "AACnYXZjMQAAAAAAAAABAAAAAAAAAAAAAAAAAAAAAAGwASAASAAAAEgAAAAAAAAAAQAAAAAAAAAA\n",
       "AAAAAAAAAAAAAAAAAAAAAAAAAAAAAAAAABj//wAAADVhdmNDAWQAHv/hABhnZAAerNlBsJaEAAAD\n",
       "AAQAAAMBkDxYtlgBAAZo6+PLIsD9+PgAAAAAHHV1aWRraEDyXyRPxbo5pRvPAyPzAAAAAAAAABhz\n",
       "dHRzAAAAAAAAAAEAAALQAAABAAAAABxzdHNzAAAAAAAAAAMAAAABAAAA+wAAAfUAABKQY3R0cwAA\n",
       "AAAAAAJQAAAAAQAAAgAAAAABAAAEAAAAAAIAAAEAAAAAAQAAAwAAAAABAAABAAAAAAwAAAIAAAAA\n",
       "AQAAAwAAAAABAAABAAAAAAEAAAMAAAAAAQAAAQAAAAABAAADAAAAAAEAAAEAAAAAAQAAAgAAAAAB\n",
       "AAADAAAAAAEAAAEAAAAAAQAAAwAAAAABAAABAAAAAAEAAAQAAAAAAgAAAQAAAAABAAAFAAAAAAEA\n",
       "AAIAAAAAAQAAAAAAAAABAAABAAAAAAEAAAUAAAAAAQAAAgAAAAABAAAAAAAAAAEAAAEAAAAAAQAA\n",
       "AwAAAAABAAABAAAAAAEAAAQAAAAAAgAAAQAAAAABAAADAAAAAAEAAAEAAAAAAgAAAgAAAAABAAAF\n",
       "AAAAAAEAAAIAAAAAAQAAAAAAAAABAAABAAAAAAEAAAIAAAAAAQAABQAAAAABAAACAAAAAAEAAAAA\n",
       "AAAAAQAAAQAAAAABAAAEAAAAAAIAAAEAAAAABgAAAgAAAAABAAADAAAAAAEAAAEAAAAAAQAAAwAA\n",
       "AAABAAABAAAAAAEAAAMAAAAAAQAAAQAAAAABAAADAAAAAAEAAAEAAAAAAQAAAgAAAAABAAAFAAAA\n",
       "AAEAAAIAAAAAAQAAAAAAAAABAAABAAAAAAEAAAMAAAAAAQAAAQAAAAAGAAACAAAAAAEAAAMAAAAA\n",
       "AQAAAQAAAAAOAAACAAAAAAEAAAMAAAAAAQAAAQAAAAABAAADAAAAAAEAAAEAAAAAAQAAAwAAAAAB\n",
       "AAABAAAAAAEAAAQAAAAAAgAAAQAAAAABAAADAAAAAAEAAAEAAAAAAQAAAwAAAAABAAABAAAAAAEA\n",
       "AAQAAAAAAgAAAQAAAAACAAACAAAAAAEAAAMAAAAAAQAAAQAAAAABAAADAAAAAAEAAAEAAAAAAQAA\n",
       "BQAAAAABAAACAAAAAAEAAAAAAAAAAQAAAQAAAAABAAAEAAAAAAIAAAEAAAAAAQAABAAAAAACAAAB\n",
       "AAAAAAEAAAUAAAAAAQAAAgAAAAABAAAAAAAAAAEAAAEAAAAAAQAABAAAAAACAAABAAAAAAEAAAUA\n",
       "AAAAAQAAAgAAAAABAAAAAAAAAAEAAAEAAAAAAQAABAAAAAACAAABAAAAAAEAAAQAAAAAAgAAAQAA\n",
       "AAABAAADAAAAAAEAAAEAAAAAAQAABAAAAAACAAABAAAAAAEAAAUAAAAAAQAAAgAAAAABAAAAAAAA\n",
       "AAEAAAEAAAAAAQAABAAAAAACAAABAAAAAAEAAAMAAAAAAQAAAQAAAAABAAADAAAAAAEAAAEAAAAA\n",
       "AQAAAwAAAAABAAABAAAAAAEAAAMAAAAAAQAAAQAAAAABAAAEAAAAAAIAAAEAAAAAAQAAAgAAAAAB\n",
       "AAAFAAAAAAEAAAIAAAAAAQAAAAAAAAABAAABAAAAAAEAAAUAAAAAAQAAAgAAAAABAAAAAAAAAAEA\n",
       "AAEAAAAAAQAABQAAAAABAAACAAAAAAEAAAAAAAAAAQAAAQAAAAABAAAEAAAAAAIAAAEAAAAAAQAA\n",
       "BAAAAAACAAABAAAAAAEAAAMAAAAAAQAAAQAAAAABAAACAAAAAAEAAAUAAAAAAQAAAgAAAAABAAAA\n",
       "AAAAAAEAAAEAAAAAAQAAAwAAAAABAAABAAAAAAEAAAMAAAAAAQAAAQAAAAACAAACAAAAAAEAAAQA\n",
       "AAAAAgAAAQAAAAABAAAEAAAAAAIAAAEAAAAAAQAAAwAAAAABAAABAAAAAAIAAAIAAAAAAQAABAAA\n",
       "AAACAAABAAAAAAEAAAUAAAAAAQAAAgAAAAABAAAAAAAAAAEAAAEAAAAAAQAABQAAAAABAAACAAAA\n",
       "AAEAAAAAAAAAAQAAAQAAAAABAAADAAAAAAEAAAEAAAAAAQAABAAAAAACAAABAAAAAAEAAAQAAAAA\n",
       "AgAAAQAAAAABAAADAAAAAAEAAAEAAAAAAQAAAgAAAAABAAAEAAAAAAIAAAEAAAAAAQAAAgAAAAAB\n",
       "AAAFAAAAAAEAAAIAAAAAAQAAAAAAAAABAAABAAAAAAEAAAMAAAAAAQAAAQAAAAABAAACAAAAAAEA\n",
       "AAQAAAAAAgAAAQAAAAABAAADAAAAAAEAAAEAAAAAAQAABQAAAAABAAACAAAAAAEAAAAAAAAAAQAA\n",
       "AQAAAAABAAAFAAAAAAEAAAIAAAAAAQAAAAAAAAABAAABAAAAAAEAAAMAAAAAAQAAAQAAAAABAAAE\n",
       "AAAAAAIAAAEAAAAAAQAAAwAAAAABAAABAAAAAAEAAAUAAAAAAQAAAgAAAAABAAAAAAAAAAEAAAEA\n",
       "AAAAAQAABQAAAAABAAACAAAAAAEAAAAAAAAAAQAAAQAAAAABAAADAAAAAAEAAAEAAAAAAQAAAwAA\n",
       "AAABAAABAAAAAAEAAAMAAAAAAQAAAQAAAAABAAADAAAAAAEAAAEAAAAAAQAABAAAAAACAAABAAAA\n",
       "AAEAAAUAAAAAAQAAAgAAAAABAAAAAAAAAAEAAAEAAAAAAQAAAwAAAAABAAABAAAAAAEAAAMAAAAA\n",
       "AQAAAQAAAAABAAADAAAAAAEAAAEAAAAAAQAABQAAAAABAAACAAAAAAEAAAAAAAAAAQAAAQAAAAAB\n",
       "AAAFAAAAAAEAAAIAAAAAAQAAAAAAAAABAAABAAAAAAEAAAUAAAAAAQAAAgAAAAABAAAAAAAAAAEA\n",
       "AAEAAAAAAQAABQAAAAABAAACAAAAAAEAAAAAAAAAAQAAAQAAAAABAAAFAAAAAAEAAAIAAAAAAQAA\n",
       "AAAAAAABAAABAAAAAAEAAAUAAAAAAQAAAgAAAAABAAAAAAAAAAEAAAEAAAAAAQAABQAAAAABAAAC\n",
       "AAAAAAEAAAAAAAAAAQAAAQAAAAABAAAFAAAAAAEAAAIAAAAAAQAAAAAAAAABAAABAAAAAAEAAAQA\n",
       "AAAAAgAAAQAAAAABAAAEAAAAAAIAAAEAAAAAAQAAAgAAAAABAAAFAAAAAAEAAAIAAAAAAQAAAAAA\n",
       "AAABAAABAAAAAAEAAAMAAAAAAQAAAQAAAAABAAADAAAAAAEAAAEAAAAAAQAABQAAAAABAAACAAAA\n",
       "AAEAAAAAAAAAAQAAAQAAAAABAAAFAAAAAAEAAAIAAAAAAQAAAAAAAAABAAABAAAAAAEAAAMAAAAA\n",
       "AQAAAQAAAAACAAACAAAAAAEAAAMAAAAAAQAAAQAAAAABAAADAAAAAAEAAAEAAAAABwAAAgAAAAAB\n",
       "AAADAAAAAAEAAAEAAAAACAAAAgAAAAABAAADAAAAAAEAAAEAAAAAAQAAAgAAAAABAAADAAAAAAEA\n",
       "AAEAAAAAAQAAAwAAAAABAAABAAAAAAIAAAIAAAAAAQAABQAAAAABAAACAAAAAAEAAAAAAAAAAQAA\n",
       "AQAAAAABAAAEAAAAAAIAAAEAAAAAAQAABQAAAAABAAACAAAAAAEAAAAAAAAAAQAAAQAAAAABAAAC\n",
       "AAAAAAEAAAUAAAAAAQAAAgAAAAABAAAAAAAAAAEAAAEAAAAAAwAAAgAAAAABAAAFAAAAAAEAAAIA\n",
       "AAAAAQAAAAAAAAABAAABAAAAAAEAAAMAAAAAAQAAAQAAAAABAAAEAAAAAAIAAAEAAAAAAQAAAwAA\n",
       "AAABAAABAAAAAAEAAAMAAAAAAQAAAQAAAAABAAADAAAAAAEAAAEAAAAABAAAAgAAAAABAAADAAAA\n",
       "AAEAAAEAAAAAAQAAAwAAAAABAAABAAAAAAEAAAMAAAAAAQAAAQAAAAABAAACAAAAAAEAAAMAAAAA\n",
       "AQAAAQAAAAABAAAEAAAAAAIAAAEAAAAAAQAAAgAAAAABAAAEAAAAAAIAAAEAAAAABQAAAgAAAAAB\n",
       "AAADAAAAAAEAAAEAAAAAAQAAAwAAAAABAAABAAAAAAYAAAIAAAAAAQAAAwAAAAABAAABAAAAAAUA\n",
       "AAIAAAAAAQAAAwAAAAABAAABAAAAAAEAAAIAAAAAAQAABQAAAAABAAACAAAAAAEAAAAAAAAAAQAA\n",
       "AQAAAAABAAAEAAAAAAIAAAEAAAAAAQAABQAAAAABAAACAAAAAAEAAAAAAAAAAQAAAQAAAAABAAAC\n",
       "AAAAAAEAAAQAAAAAAgAAAQAAAAABAAADAAAAAAEAAAEAAAAAAQAABQAAAAABAAACAAAAAAEAAAAA\n",
       "AAAAAQAAAQAAAAABAAAFAAAAAAEAAAIAAAAAAQAAAAAAAAABAAABAAAAAAEAAAQAAAAAAgAAAQAA\n",
       "AAABAAAEAAAAAAIAAAEAAAAAAgAAAgAAAAABAAAFAAAAAAEAAAIAAAAAAQAAAAAAAAABAAABAAAA\n",
       "AAEAAAQAAAAAAgAAAQAAAAABAAAEAAAAAAIAAAEAAAAAAQAABQAAAAABAAACAAAAAAEAAAAAAAAA\n",
       "AQAAAQAAAAABAAADAAAAAAEAAAEAAAAAAQAAAwAAAAABAAABAAAAAAEAAAQAAAAAAgAAAQAAAAAB\n",
       "AAADAAAAAAEAAAEAAAAAAQAAAwAAAAABAAABAAAAAAEAAAMAAAAAAQAAAQAAAAABAAADAAAAAAEA\n",
       "AAEAAAAAAQAAAwAAAAABAAABAAAAAAEAAAMAAAAAAQAAAQAAAAACAAACAAAAAAEAAAQAAAAAAgAA\n",
       "AQAAAAABAAAFAAAAAAEAAAIAAAAAAQAAAAAAAAABAAABAAAAAAEAAAUAAAAAAQAAAgAAAAABAAAA\n",
       "AAAAAAEAAAEAAAAAAQAABQAAAAABAAACAAAAAAEAAAAAAAAAAQAAAQAAAAABAAAEAAAAAAIAAAEA\n",
       "AAAAAQAAAgAAAAABAAAEAAAAAAIAAAEAAAAAAQAAAwAAAAABAAABAAAAAAEAAAMAAAAAAQAAAQAA\n",
       "AAABAAADAAAAAAEAAAEAAAAAAQAAAgAAAAABAAAEAAAAAAIAAAEAAAAAAQAABAAAAAACAAABAAAA\n",
       "AAEAAAQAAAAAAgAAAQAAAAABAAADAAAAAAEAAAEAAAAAAQAAAgAAAAABAAAEAAAAAAIAAAEAAAAA\n",
       "AQAABQAAAAABAAACAAAAAAEAAAAAAAAAAQAAAQAAAAABAAAFAAAAAAEAAAIAAAAAAQAAAAAAAAAB\n",
       "AAABAAAAAAEAAAMAAAAAAQAAAQAAAAABAAAEAAAAAAIAAAEAAAAAAQAAAgAAAAABAAADAAAAAAEA\n",
       "AAEAAAAAAQAAAwAAAAABAAABAAAAAAEAAAMAAAAAAQAAAQAAAAABAAACAAAAAAEAAAMAAAAAAQAA\n",
       "AQAAAAABAAACAAAAAAEAAAQAAAAAAgAAAQAAAAABAAACAAAAAAEAAAUAAAAAAQAAAgAAAAABAAAA\n",
       "AAAAAAEAAAEAAAAAAQAABAAAAAACAAABAAAAAAEAAAUAAAAAAQAAAgAAAAABAAAAAAAAAAEAAAEA\n",
       "AAAAAQAABQAAAAABAAACAAAAAAEAAAAAAAAAAQAAAQAAAAABAAAFAAAAAAEAAAIAAAAAAQAAAAAA\n",
       "AAABAAABAAAAAAEAAAUAAAAAAQAAAgAAAAABAAAAAAAAAAEAAAEAAAAAAQAAAgAAAAABAAAFAAAA\n",
       "AAEAAAIAAAAAAQAAAAAAAAABAAABAAAAAAEAAAUAAAAAAQAAAgAAAAABAAAAAAAAAAEAAAEAAAAA\n",
       "AQAABQAAAAABAAACAAAAAAEAAAAAAAAAAQAAAQAAAAABAAADAAAAAAEAAAEAAAAAAQAABAAAAAAC\n",
       "AAABAAAAAAEAAAQAAAAAAgAAAQAAAAABAAADAAAAAAEAAAEAAAAAAgAAAgAAAAABAAADAAAAAAEA\n",
       "AAEAAAAAAQAABQAAAAABAAACAAAAAAEAAAAAAAAAAQAAAQAAAAABAAADAAAAAAEAAAEAAAAAAQAA\n",
       "BQAAAAABAAACAAAAAAEAAAAAAAAAAQAAAQAAAAABAAAFAAAAAAEAAAIAAAAAAQAAAAAAAAABAAAB\n",
       "AAAAAAEAAAUAAAAAAQAAAgAAAAABAAAAAAAAAAEAAAEAAAAAAQAABQAAAAABAAACAAAAAAEAAAAA\n",
       "AAAAAQAAAQAAAAABAAAFAAAAAAEAAAIAAAAAAQAAAAAAAAABAAABAAAAAAEAAAUAAAAAAQAAAgAA\n",
       "AAABAAAAAAAAAAEAAAEAAAAAAQAABQAAAAABAAACAAAAAAEAAAAAAAAAAQAAAQAAAAABAAAEAAAA\n",
       "AAIAAAEAAAAAAQAAAwAAAAABAAABAAAAAAEAAAUAAAAAAQAAAgAAAAABAAAAAAAAAAEAAAEAAAAA\n",
       "AQAAAgAAAAABAAAEAAAAAAIAAAEAAAAAAQAAAwAAAAABAAABAAAAAAEAAAUAAAAAAQAAAgAAAAAB\n",
       "AAAAAAAAAAEAAAEAAAAAAQAABQAAAAABAAACAAAAAAEAAAAAAAAAAQAAAQAAAAABAAADAAAAAAEA\n",
       "AAEAAAAAAwAAAgAAAAAcc3RzYwAAAAAAAAABAAAAAQAAAtAAAAABAAALVHN0c3oAAAAAAAAAAAAA\n",
       "AtAAABEtAAACrwAAAMkAAACUAAABogAAAJIAAAEAAAABFAAAAUEAAAEYAAABPAAAAQ0AAAD+AAAB\n",
       "CwAAAPUAAAENAAAA5gAAASAAAAGyAAAAhAAAAUEAAABzAAABVgAAAFEAAADbAAABHgAAAEkAAAE8\n",
       "AAAAWAAAAWcAAABkAAAARAAAAdIAAACBAAAATAAAAD0AAAGOAAAAggAAAE0AAABHAAABKQAAADQA\n",
       "AAErAAAATgAAAD4AAAC6AAAAOAAAALUAAAC0AAABcQAAAG0AAABAAAAAQQAAAN0AAAFOAAAAcQAA\n",
       "AEcAAAA+AAABSAAAAGcAAABRAAAA2wAAALkAAAC2AAAA4wAAANAAAADYAAABCQAAAEwAAAEdAAAA\n",
       "UgAAAOMAAABHAAABGAAAADYAAAC9AAABHQAAAGMAAAA0AAAAQAAAAOsAAABGAAAAnQAAAMYAAAC+\n",
       "AAAAqQAAANcAAADwAAAA7gAAAGcAAADjAAAA0gAAAPoAAAD0AAAA7AAAARUAAAEKAAAA6QAAAQEA\n",
       "AADfAAAAvQAAAMMAAADyAAABCgAAAP4AAAA+AAABGAAAAEYAAAEYAAAAOAAAAVIAAABFAAAAMwAA\n",
       "AQUAAAA4AAAA7gAAADIAAAD8AAAARQAAADQAAAC0AAAA0QAAAQEAAABIAAABFAAAAEEAAAGnAAAA\n",
       "bwAAADcAAAA7AAABaAAAAFsAAABBAAABZAAAAHMAAABBAAABYQAAAHkAAABTAAAATAAAAUsAAABe\n",
       "AAAAQQAAAXMAAAB4AAAATAAAAEwAAAEtAAAAXQAAAEkAAAFwAAAAXQAAAEgAAAE3AAAAUwAAAUQA\n",
       "AABsAAAASQAAAagAAAB3AAAARwAAAEgAAAE3AAAAaAAAAEwAAAE6AAAAPwAAANIAAAA8AAAA4wAA\n",
       "AFcAAAESAAAASQAAAVwAAAB9AAAAXAAAASEAAAF8AAAAgQAAAE4AAABEAAABswAAAGwAAABFAAAA\n",
       "OAAAAbsAAABjAAAAPwAAADIAAAFKAAAAVAAAADMAAAE7AAAATwAAADoAAAENAAAAPAAAAOQAAAFj\n",
       "AAAAZwAAAD0AAAA/AAABAAAAAC4AAAD/AAAAOwAAAPYAAADAAAABMQAAAE8AAAAzAAABTAAAAE8A\n",
       "AAA0AAABDgAAADkAAADGAAAA5gAAAVUAAABIAAAALQAAAW4AAABpAAAAMAAAADMAAAFrAAAAYAAA\n",
       "ADsAAAA1AAAA/gAAADEAAAE9AAAAVgAAAEEAAAERAAAATQAAADoAAAD0AAAAMAAAALEAAAEpAAAA\n",
       "PwAAAC8AAACdAAABMQAAAEQAAAArAAAAGQAAAGUAAAAxAAARkQAAAc0AAABLAAAAKwAAANIAAAA0\n",
       "AAABAQAAAFkAAAA1AAAAMQAAATgAAABnAAAALwAAADwAAADmAAAAPQAAAPAAAABXAAAAQAAAAOIA\n",
       "AABAAAABHwAAAGAAAAA6AAAAPwAAASUAAABVAAAAKAAAACgAAADlAAAAMAAAANAAAAAiAAAAxAAA\n",
       "ACMAAAD8AAAAJgAAARkAAAAtAAAAJgAAAPcAAAA5AAAAIAAAACQAAADNAAAALwAAALsAAAAsAAAA\n",
       "sgAAACoAAAD9AAAAOQAAACoAAAAoAAAA0gAAAEAAAAA0AAAAMgAAAMMAAAA9AAAAOAAAADUAAAD8\n",
       "AAAAPAAAADMAAAApAAABKAAAAE8AAAAzAAAAIgAAATkAAABeAAAAIwAAACsAAAFXAAAARwAAACUA\n",
       "AAAlAAABKwAAAGQAAAA8AAAAMQAAASwAAABOAAAAMgAAAPUAAABOAAAANgAAAK0AAAEhAAAAWgAA\n",
       "AD8AAABGAAAA+gAAAEIAAADmAAAATwAAASwAAAB3AAAAUgAAAEgAAAFtAAAAugAAAGQAAABnAAAB\n",
       "MgAAAFYAAAEKAAAA7AAAAUsAAABiAAABcAAAAHcAAAERAAABHgAAAREAAAEvAAABQwAAATEAAAE3\n",
       "AAABogAAAHcAAADMAAAA8QAAAPkAAAD3AAABDAAAAQMAAAEXAAABBAAAAXsAAABpAAAA6wAAAT0A\n",
       "AABAAAABFQAAAFYAAADrAAAA8AAAAeQAAAB1AAAATAAAAEYAAAGMAAAAYAAAAFEAAAGgAAAAbwAA\n",
       "AD0AAAA1AAAA+AAAAV4AAABhAAAANQAAAD8AAACyAAAAqgAAAMAAAAFgAAAAXgAAAD0AAABDAAAB\n",
       "MgAAAD0AAAEpAAAAYQAAADoAAAE7AAAAUgAAARgAAABQAAABAQAAAEcAAADBAAAA2gAAAMsAAADq\n",
       "AAABHgAAAEIAAADvAAAAUAAAAPMAAAA7AAABIQAAAOMAAAA1AAABCgAAAE0AAAA6AAAA4gAAAQIA\n",
       "AABSAAAANgAAAMUAAADXAAAAsQAAAO4AAAD6AAABEQAAAFEAAAEZAAAAUAAAAP8AAAD0AAABFgAA\n",
       "ANcAAAD7AAABGgAAATAAAABEAAAA4AAAAL8AAADnAAAA7AAAAPkAAAEBAAAANgAAAPMAAAGYAAAA\n",
       "VgAAADEAAAAwAAABIwAAAFAAAAA0AAABSwAAAFgAAAApAAAAOwAAALUAAAD6AAAAXQAAAEMAAAEk\n",
       "AAAARQAAAXkAAABuAAAAQwAAAEEAAAGTAAAAbgAAADQAAABDAAABbQAAAFsAAABNAAABbgAAAHIA\n",
       "AABHAAAAaAAAElQAAAJnAAAAygAAAI4AAACTAAABjAAAAJwAAACBAAABbAAAAIoAAAB/AAABtgAA\n",
       "ALUAAAB1AAAAdgAAAVkAAABuAAABHQAAAGcAAAFlAAAAgAAAAGcAAAEvAAAAawAAAS0AAABiAAAB\n",
       "KgAAAHQAAAEuAAAAYwAAASMAAABcAAABQAAAAGgAAAE+AAABMwAAAXQAAAB6AAAAWQAAAc8AAACK\n",
       "AAAAQwAAAEgAAAGJAAAAgAAAAEwAAABTAAABegAAAGYAAABAAAAATgAAAUsAAABnAAAATwAAAOoA\n",
       "AAFMAAAAWgAAAEIAAAEWAAAARQAAAQMAAAA/AAAA8QAAAD0AAADEAAABNwAAAGcAAAA3AAABMwAA\n",
       "AFYAAAA2AAABZQAAAE0AAAAxAAABCQAAAEUAAADUAAABQAAAAEQAAAA9AAABSAAAAG8AAAA6AAAA\n",
       "LwAAAXoAAABpAAAAOAAAADwAAADAAAAALwAAAQsAAABRAAAAPAAAAM0AAADoAAAANwAAANwAAAAv\n",
       "AAAA6gAAADEAAADBAAAAywAAAC8AAADGAAAA7gAAAD4AAAAeAAAAwQAAATkAAABHAAAAIwAAACgA\n",
       "AAD1AAAANgAAACwAAAEKAAAASwAAACsAAAAmAAABHQAAAEsAAAApAAAALQAAARkAAABeAAAAOgAA\n",
       "ADsAAAEmAAAARQAAADcAAAA1AAAAsAAAARUAAABgAAAAQwAAAC0AAAE2AAAASgAAACsAAAAiAAAB\n",
       "CQAAADgAAAAlAAAAIQAAAQkAAAAmAAABAQAAADYAAAAmAAABEwAAACsAAAAlAAAAugAAACIAAABz\n",
       "AAAAjQAAAMYAAAApAAAA8gAAADoAAAArAAAAKQAAALEAAAAsAAAA8AAAAEoAAAA2AAAANAAAANEA\n",
       "AAA2AAAALwAAACsAAAEDAAAATQAAACUAAAA1AAABDwAAAEkAAAAwAAAALAAAAUMAAABcAAAAJwAA\n",
       "ACkAAAFkAAAAQQAAACMAAAAvAAABLQAAAGUAAAArAAAAPQAAARYAAABPAAAAPAAAAPIAAAA/AAAB\n",
       "KQAAAGEAAABCAAAAQwAAAK8AAAEMAAAAXgAAAE8AAADoAAAAOgAAATEAAACIAAAATwAAAF8AAAF4\n",
       "AAAAwwAAAFQAAABvAAAA7gAAAGwAAADNAAAAzQAAAKsAAAAUc3RjbwAAAAAAAAABAAAAMAAAAGJ1\n",
       "ZHRhAAAAWm1ldGEAAAAAAAAAIWhkbHIAAAAAAAAAAG1kaXJhcHBsAAAAAAAAAAAAAAAALWlsc3QA\n",
       "AAAlqXRvbwAAAB1kYXRhAAAAAQAAAABMYXZmNTguNzguMTAw\n",
       "\">\n",
       "  Your browser does not support the video tag.\n",
       "</video>"
      ],
      "text/plain": [
       "<IPython.core.display.HTML object>"
      ]
     },
     "execution_count": 63,
     "metadata": {},
     "output_type": "execute_result"
    }
   ],
   "source": [
    "HTML(anim.to_html5_video())"
   ]
  },
  {
   "cell_type": "markdown",
   "metadata": {
    "slideshow": {
     "slide_type": "fragment"
    }
   },
   "source": [
    "**Observação:**\n",
    "$$\\theta_3 = tan^{-1} \\left( \\dfrac{B_y - A_y}{B_x - A_x} \\right) $$\n",
    "$$\\theta_4 = tan^{-1} \\left( \\dfrac{B_y}{B_x - d} \\right)$$"
   ]
  },
  {
   "cell_type": "markdown",
   "metadata": {
    "slideshow": {
     "slide_type": "subslide"
    }
   },
   "source": [
    "### Representação do laço de vetores nos mecanismos\n",
    "Essa aproximação tem algumas vantagens na síntese analítica de mecanismos. Também possui vantagens na análise de velocidades e acelerações dos mecanismos. <br>\n",
    "Esse laço termina em si mesmo fazendo com que a somatória dos vetores ao seu redor seja zero. Os comprimentos dos vetores são os comprimentos dos elos, todos conhecidos. A posição atual do mecanismo é definida pelo ângulo de entrada $\\theta_2$ por ser um mecanismo com 1 GDL. Queremos obter os ângulos desconehcidos $\\theta_3$ e $\\theta_4$."
   ]
  },
  {
   "cell_type": "code",
   "execution_count": 64,
   "metadata": {
    "slideshow": {
     "slide_type": "fragment"
    }
   },
   "outputs": [
    {
     "data": {
      "image/svg+xml": [
       "<svg xmlns:dc=\"http://purl.org/dc/elements/1.1/\" xmlns:cc=\"http://creativecommons.org/ns#\" xmlns:rdf=\"http://www.w3.org/1999/02/22-rdf-syntax-ns#\" xmlns:svg=\"http://www.w3.org/2000/svg\" xmlns=\"http://www.w3.org/2000/svg\" xmlns:sodipodi=\"http://sodipodi.sourceforge.net/DTD/sodipodi-0.dtd\" xmlns:inkscape=\"http://www.inkscape.org/namespaces/inkscape\" width=\"214.58945mm\" height=\"110.67824mm\" viewBox=\"0 0 214.58945 110.67824\" version=\"1.1\" id=\"svg8\" inkscape:version=\"1.0.1 (3bc2e813f5, 2020-09-07)\" sodipodi:docname=\"figs4-6.svg\">\n",
       "  <defs id=\"defs2\">\n",
       "    <marker style=\"overflow:visible;\" id=\"Arrow1Lend\" refX=\"0.0\" refY=\"0.0\" orient=\"auto\" inkscape:stockid=\"Arrow1Lend\" inkscape:isstock=\"true\">\n",
       "      <path transform=\"scale(0.8) rotate(180) translate(12.5,0)\" style=\"fill-rule:evenodd;stroke:#000000;stroke-width:1pt;stroke-opacity:1;fill:#000000;fill-opacity:1\" d=\"M 0.0,0.0 L 5.0,-5.0 L -12.5,0.0 L 5.0,5.0 L 0.0,0.0 z \" id=\"path1047\"/>\n",
       "    </marker>\n",
       "    <marker style=\"overflow:visible;\" id=\"marker6515\" refX=\"0.0\" refY=\"0.0\" orient=\"auto\" inkscape:stockid=\"Arrow1Lend\" inkscape:isstock=\"true\">\n",
       "      <path transform=\"scale(0.8) rotate(180) translate(12.5,0)\" style=\"fill-rule:evenodd;stroke:#000000;stroke-width:1pt;stroke-opacity:1;fill:#000000;fill-opacity:1\" d=\"M 0.0,0.0 L 5.0,-5.0 L -12.5,0.0 L 5.0,5.0 L 0.0,0.0 z \" id=\"path939\"/>\n",
       "    </marker>\n",
       "    <marker style=\"overflow:visible\" id=\"marker5158\" refX=\"0\" refY=\"0\" orient=\"auto\" inkscape:stockid=\"Arrow1Lend\" inkscape:isstock=\"true\">\n",
       "      <path transform=\"matrix(-0.8,0,0,-0.8,-10,0)\" style=\"fill:#ff0000;fill-opacity:1;fill-rule:evenodd;stroke:#ff0000;stroke-width:1pt;stroke-opacity:1\" d=\"M 0,0 5,-5 -12.5,0 5,5 Z\" id=\"path5156\"/>\n",
       "    </marker>\n",
       "    <marker style=\"overflow:visible\" id=\"marker1962\" refX=\"0\" refY=\"0\" orient=\"auto\" inkscape:stockid=\"Arrow1Lend\" inkscape:isstock=\"true\" inkscape:collect=\"always\">\n",
       "      <path transform=\"matrix(-0.8,0,0,-0.8,-10,0)\" style=\"fill:#ff0000;fill-opacity:1;fill-rule:evenodd;stroke:#ff0000;stroke-width:1pt;stroke-opacity:1\" d=\"M 0,0 5,-5 -12.5,0 5,5 Z\" id=\"path1960\"/>\n",
       "    </marker>\n",
       "    <marker style=\"overflow:visible\" id=\"marker1824\" refX=\"0\" refY=\"0\" orient=\"auto\" inkscape:stockid=\"Arrow1Lend\" inkscape:isstock=\"true\" inkscape:collect=\"always\">\n",
       "      <path transform=\"matrix(-0.8,0,0,-0.8,-10,0)\" style=\"fill:#ff0000;fill-opacity:1;fill-rule:evenodd;stroke:#ff0000;stroke-width:1pt;stroke-opacity:1\" d=\"M 0,0 5,-5 -12.5,0 5,5 Z\" id=\"path1822\"/>\n",
       "    </marker>\n",
       "    <marker style=\"overflow:visible\" id=\"marker1764\" refX=\"0\" refY=\"0\" orient=\"auto\" inkscape:stockid=\"Arrow1Lend\" inkscape:isstock=\"true\" inkscape:collect=\"always\">\n",
       "      <path transform=\"matrix(-0.8,0,0,-0.8,-10,0)\" style=\"fill:#ff0000;fill-opacity:1;fill-rule:evenodd;stroke:#ff0000;stroke-width:1pt;stroke-opacity:1\" d=\"M 0,0 5,-5 -12.5,0 5,5 Z\" id=\"path1762\"/>\n",
       "    </marker>\n",
       "    <marker style=\"overflow:visible\" id=\"marker1421\" refX=\"0\" refY=\"0\" orient=\"auto\" inkscape:stockid=\"Arrow1Lend\" inkscape:isstock=\"true\" inkscape:collect=\"always\">\n",
       "      <path transform=\"matrix(-0.8,0,0,-0.8,-10,0)\" style=\"fill:#000000;fill-opacity:1;fill-rule:evenodd;stroke:#000000;stroke-width:1pt;stroke-opacity:1\" d=\"M 0,0 5,-5 -12.5,0 5,5 Z\" id=\"path1419\"/>\n",
       "    </marker>\n",
       "    <marker style=\"overflow:visible\" id=\"marker1375\" refX=\"0\" refY=\"0\" orient=\"auto\" inkscape:stockid=\"Arrow1Lend\" inkscape:isstock=\"true\" inkscape:collect=\"always\">\n",
       "      <path transform=\"matrix(-0.8,0,0,-0.8,-10,0)\" style=\"fill:#000000;fill-opacity:1;fill-rule:evenodd;stroke:#000000;stroke-width:1pt;stroke-opacity:1\" d=\"M 0,0 5,-5 -12.5,0 5,5 Z\" id=\"path1373\"/>\n",
       "    </marker>\n",
       "    <marker style=\"overflow:visible\" id=\"marker1315\" refX=\"0\" refY=\"0\" orient=\"auto\" inkscape:stockid=\"Arrow1Lend\" inkscape:isstock=\"true\" inkscape:collect=\"always\">\n",
       "      <path transform=\"matrix(-0.8,0,0,-0.8,-10,0)\" style=\"fill:#000000;fill-opacity:1;fill-rule:evenodd;stroke:#000000;stroke-width:1pt;stroke-opacity:1\" d=\"M 0,0 5,-5 -12.5,0 5,5 Z\" id=\"path1313\"/>\n",
       "    </marker>\n",
       "    <marker style=\"overflow:visible\" id=\"Arrow1Lstart\" refX=\"0\" refY=\"0\" orient=\"auto\" inkscape:stockid=\"Arrow1Lstart\" inkscape:isstock=\"true\">\n",
       "      <path transform=\"matrix(0.8,0,0,0.8,10,0)\" style=\"fill:#ff0000;fill-opacity:1;fill-rule:evenodd;stroke:#ff0000;stroke-width:1pt;stroke-opacity:1\" d=\"M 0,0 5,-5 -12.5,0 5,5 Z\" id=\"path987\"/>\n",
       "    </marker>\n",
       "  </defs>\n",
       "  <sodipodi:namedview id=\"base\" pagecolor=\"#ffffff\" bordercolor=\"#666666\" borderopacity=\"1.0\" inkscape:pageopacity=\"0.0\" inkscape:pageshadow=\"2\" inkscape:zoom=\"1.4\" inkscape:cx=\"501.50539\" inkscape:cy=\"247.12536\" inkscape:document-units=\"mm\" inkscape:current-layer=\"layer7\" inkscape:document-rotation=\"0\" showgrid=\"false\" inkscape:snap-object-midpoints=\"false\" inkscape:snap-smooth-nodes=\"true\" inkscape:window-width=\"1920\" inkscape:window-height=\"1017\" inkscape:window-x=\"-8\" inkscape:window-y=\"-8\" inkscape:window-maximized=\"1\" inkscape:snap-nodes=\"false\"/>\n",
       "  <metadata id=\"metadata5\">\n",
       "    <rdf:RDF>\n",
       "      <cc:Work rdf:about=\"\">\n",
       "        <dc:format>image/svg+xml</dc:format>\n",
       "        <dc:type rdf:resource=\"http://purl.org/dc/dcmitype/StillImage\"/>\n",
       "        <dc:title/>\n",
       "      </cc:Work>\n",
       "    </rdf:RDF>\n",
       "  </metadata>\n",
       "  <g inkscape:groupmode=\"layer\" id=\"layer7\" inkscape:label=\"Layer 2\">\n",
       "    <rect style=\"fill:#ffffff;stroke:#ffffff;stroke-width:0.865\" id=\"rect5268\" width=\"215.44643\" height=\"110.936\" x=\"-0.1889881\" y=\"0.1889881\"/>\n",
       "  </g>\n",
       "  <g inkscape:label=\"Layer 1\" inkscape:groupmode=\"layer\" id=\"layer1\" transform=\"translate(-14.696059,-50.039333)\">\n",
       "    <path id=\"path839\" style=\"fill:#ffffff;stroke:#000000;stroke-width:0.699999;stroke-linejoin:bevel;stroke-miterlimit:4;stroke-dasharray:none\" d=\"m 40.314083,127.77587 a 7.5049962,7.4894698 0 0 0 -7.490705,7.48947 7.5049962,7.4894698 0 0 0 0,0.0143 v 13.0923 h 15.009993 v -13.10657 a 7.5049962,7.4894698 0 0 0 -7.504997,-7.48947 7.5049962,7.4894698 0 0 0 -0.0143,0 z\"/>\n",
       "    <path style=\"fill:none;stroke:#000000;stroke-width:0.7;stroke-linecap:butt;stroke-linejoin:miter;stroke-miterlimit:4;stroke-dasharray:none;stroke-opacity:1\" d=\"M 14.999011,148.37191 H 69.410235\" id=\"path850\"/>\n",
       "    <path style=\"fill:none;stroke:#000000;stroke-width:0.7;stroke-linecap:butt;stroke-linejoin:miter;stroke-miterlimit:4;stroke-dasharray:none;stroke-opacity:1\" d=\"m 14.999011,148.37191 7.041144,12.17039\" id=\"path852\"/>\n",
       "    <path style=\"fill:none;stroke:#000000;stroke-width:0.7;stroke-linecap:butt;stroke-linejoin:miter;stroke-miterlimit:4;stroke-dasharray:none;stroke-opacity:1\" d=\"m 27.382263,148.37191 7.041144,12.17039\" id=\"path854\"/>\n",
       "    <path style=\"fill:none;stroke:#000000;stroke-width:0.7;stroke-linecap:butt;stroke-linejoin:miter;stroke-miterlimit:4;stroke-dasharray:none;stroke-opacity:1\" d=\"m 39.390265,148.37191 7.041144,12.17039\" id=\"path856\"/>\n",
       "    <path style=\"fill:none;stroke:#000000;stroke-width:0.7;stroke-linecap:butt;stroke-linejoin:miter;stroke-miterlimit:4;stroke-dasharray:none;stroke-opacity:1\" d=\"m 51.773517,148.37191 7.041144,12.17039\" id=\"path858\"/>\n",
       "    <path style=\"fill:none;stroke:#000000;stroke-width:0.7;stroke-linecap:butt;stroke-linejoin:miter;stroke-miterlimit:4;stroke-dasharray:none;stroke-opacity:1\" d=\"m 64.156769,148.37191 7.04115,12.17039\" id=\"path860\"/>\n",
       "    <ellipse style=\"fill:#ffffff;stroke:#000000;stroke-width:0.7;stroke-linejoin:bevel\" id=\"path1592\" cx=\"40.369549\" cy=\"135.1759\" rx=\"2.6233726\" ry=\"2.6179454\"/>\n",
       "    <g inkscape:label=\"Layer 1\" id=\"g967\" transform=\"matrix(0.70913352,0,0,0.70766648,139.80942,37.902228)\" style=\"stroke-width:1.41163\">\n",
       "      <path id=\"path951\" style=\"fill:#ffffff;stroke:#000000;stroke-width:3.73471;stroke-linejoin:bevel;stroke-miterlimit:4;stroke-dasharray:none\" d=\"M 219.92383,480 A 39.999999,39.999999 0 0 0 180,520 a 39.999999,39.999999 0 0 0 0,0.0762 V 590 h 80 v -70 a 39.999999,39.999999 0 0 0 -40,-40 39.999999,39.999999 0 0 0 -0.0762,0 z\" transform=\"scale(0.26458333)\"/>\n",
       "      <path style=\"fill:none;stroke:#000000;stroke-width:0.988143;stroke-linecap:butt;stroke-linejoin:miter;stroke-miterlimit:4;stroke-dasharray:none;stroke-opacity:1\" d=\"M 22.489583,156.10416 H 99.218749\" id=\"path953\"/>\n",
       "      <path style=\"fill:none;stroke:#000000;stroke-width:0.988143;stroke-linecap:butt;stroke-linejoin:miter;stroke-miterlimit:4;stroke-dasharray:none;stroke-opacity:1\" d=\"m 22.489583,156.10416 9.929222,17.19792\" id=\"path955\"/>\n",
       "      <path style=\"fill:none;stroke:#000000;stroke-width:0.988143;stroke-linecap:butt;stroke-linejoin:miter;stroke-miterlimit:4;stroke-dasharray:none;stroke-opacity:1\" d=\"m 39.952094,156.10416 9.929222,17.19792\" id=\"path957\"/>\n",
       "      <path style=\"fill:none;stroke:#000000;stroke-width:0.988143;stroke-linecap:butt;stroke-linejoin:miter;stroke-miterlimit:4;stroke-dasharray:none;stroke-opacity:1\" d=\"m 56.885438,156.10416 9.929222,17.19792\" id=\"path959\"/>\n",
       "      <path style=\"fill:none;stroke:#000000;stroke-width:0.988143;stroke-linecap:butt;stroke-linejoin:miter;stroke-miterlimit:4;stroke-dasharray:none;stroke-opacity:1\" d=\"m 74.347949,156.10416 9.929222,17.19792\" id=\"path961\"/>\n",
       "      <path style=\"fill:none;stroke:#000000;stroke-width:0.988143;stroke-linecap:butt;stroke-linejoin:miter;stroke-miterlimit:4;stroke-dasharray:none;stroke-opacity:1\" d=\"m 91.81046,156.10416 9.92923,17.19792\" id=\"path963\"/>\n",
       "      <circle style=\"fill:#ffffff;stroke:#000000;stroke-width:0.988143;stroke-linejoin:bevel\" id=\"circle965\" cx=\"58.266396\" cy=\"137.45695\" r=\"3.6994057\"/>\n",
       "    </g>\n",
       "    <ellipse style=\"fill:#ffffff;stroke:#000000;stroke-width:0.7;stroke-linejoin:bevel\" id=\"ellipse979\" cx=\"54.782269\" cy=\"101.64828\" rx=\"2.6233726\" ry=\"2.6179454\"/>\n",
       "    <ellipse style=\"fill:#ffffff;stroke:#000000;stroke-width:0.7;stroke-linejoin:bevel\" id=\"ellipse981\" cx=\"158.56105\" cy=\"77.746864\" rx=\"2.6233726\" ry=\"2.6179454\"/>\n",
       "    <path style=\"fill:none;stroke:#000000;stroke-width:0.264583px;stroke-linecap:butt;stroke-linejoin:miter;stroke-opacity:1;marker-end:url(#marker1315)\" d=\"M 40.369548,135.1759 V 51.078577\" id=\"path983\"/>\n",
       "    <path style=\"fill:none;stroke:#000000;stroke-width:0.265;stroke-linecap:butt;stroke-linejoin:miter;stroke-opacity:1;marker-end:url(#marker6515);stroke-miterlimit:4;stroke-dasharray:none\" d=\"M 40.369548,135.1759 H 228.62076\" id=\"path985\"/>\n",
       "    <text xml:space=\"preserve\" style=\"font-size:7.7611px;line-height:1.25;font-family:sans-serif;-inkscape-font-specification:sans-serif;stroke-width:0.264583\" x=\"35.393242\" y=\"144.05951\" id=\"text1349\"><tspan sodipodi:role=\"line\" id=\"tspan1347\" x=\"35.393242\" y=\"144.05951\" style=\"stroke-width:0.264583\">O<tspan style=\"font-size:65%;baseline-shift:sub\" id=\"tspan1357\">2</tspan></tspan></text>\n",
       "    <text xml:space=\"preserve\" style=\"font-size:7.7611px;line-height:1.25;font-family:sans-serif;-inkscape-font-specification:sans-serif;stroke-width:0.264583\" x=\"176.83255\" y=\"144.19574\" id=\"text1353\"><tspan sodipodi:role=\"line\" id=\"tspan1351\" x=\"176.83255\" y=\"144.19574\" style=\"stroke-width:0.264583\">O<tspan style=\"font-size:65%;baseline-shift:sub\" id=\"tspan1355\">4</tspan></tspan></text>\n",
       "    <path style=\"fill:none;stroke:#000000;stroke-width:0.264583;stroke-linecap:butt;stroke-linejoin:miter;stroke-miterlimit:4;stroke-dasharray:2.11666, 2.11666;stroke-dashoffset:0;stroke-opacity:1\" d=\"M 54.782267,101.64828 H 122.30559\" id=\"path1361\"/>\n",
       "    <path style=\"fill:none;stroke:#000000;stroke-width:0.264583px;stroke-linecap:butt;stroke-linejoin:miter;stroke-opacity:1;marker-end:url(#marker1375)\" d=\"m 92.906508,101.20302 c 1.255311,-2.244931 1.505398,-4.887335 -0.423056,-8.391146\" id=\"path1363\" sodipodi:nodetypes=\"cc\"/>\n",
       "    <path style=\"fill:none;stroke:#000000;stroke-width:0.264583px;stroke-linecap:butt;stroke-linejoin:miter;stroke-opacity:1;marker-end:url(#marker1421)\" d=\"m 204.02271,135.34302 c -4.19232,-18.1698 -15.68896,-26.44711 -33.03527,-26.802\" id=\"path1365\" sodipodi:nodetypes=\"cc\"/>\n",
       "    <text xml:space=\"preserve\" style=\"font-size:7.7611px;line-height:1.25;font-family:sans-serif;-inkscape-font-specification:sans-serif;stroke-width:0.264583\" x=\"49.927883\" y=\"95.975571\" id=\"text1491\"><tspan sodipodi:role=\"line\" id=\"tspan1489\" x=\"49.927883\" y=\"95.975571\" style=\"stroke-width:0.264583\">A</tspan></text>\n",
       "    <text xml:space=\"preserve\" style=\"font-size:7.7611px;line-height:1.25;font-family:sans-serif;-inkscape-font-specification:sans-serif;stroke-width:0.264583\" x=\"161.36201\" y=\"74.261124\" id=\"text1495\"><tspan sodipodi:role=\"line\" id=\"tspan1493\" x=\"161.36201\" y=\"74.261124\" style=\"stroke-width:0.264583\">B</tspan></text>\n",
       "    <path style=\"fill:none;stroke:#000000;stroke-width:0.265;stroke-linecap:butt;stroke-linejoin:miter;stroke-opacity:1;stroke-miterlimit:4;stroke-dasharray:none;marker-end:url(#Arrow1Lend)\" d=\"m 56.204278,135.14129 c 2.077105,-8.53864 -2.44765,-13.86104 -8.415155,-18.48058\" id=\"path1497\" sodipodi:nodetypes=\"cc\"/>\n",
       "    <g id=\"g1505\" style=\"stroke-width:0.5;stroke-miterlimit:4;stroke-dasharray:none\" transform=\"translate(-8.206898,52.364352)\">\n",
       "      <ellipse style=\"fill:#ffffff;stroke:#000000;stroke-width:0.5;stroke-linejoin:bevel;stroke-miterlimit:4;stroke-dasharray:none;stroke-dashoffset:0\" id=\"path1499\" cx=\"68.891159\" cy=\"69.23098\" rx=\"2.5376184\" ry=\"3.6255431\"/>\n",
       "      <path style=\"fill:none;stroke:#000000;stroke-width:0.5;stroke-linecap:butt;stroke-linejoin:miter;stroke-miterlimit:4;stroke-dasharray:none;stroke-opacity:1\" d=\"m 66.353541,69.23098 h 5.075235\" id=\"path1501\"/>\n",
       "    </g>\n",
       "    <g id=\"g1511\" style=\"stroke-width:0.5;stroke-miterlimit:4;stroke-dasharray:none\" transform=\"translate(130.65558,45.023542)\">\n",
       "      <ellipse style=\"fill:#ffffff;stroke:#000000;stroke-width:0.5;stroke-linejoin:bevel;stroke-miterlimit:4;stroke-dasharray:none;stroke-dashoffset:0\" id=\"ellipse1507\" cx=\"68.891159\" cy=\"69.23098\" rx=\"2.5376184\" ry=\"3.6255431\"/>\n",
       "      <path style=\"fill:none;stroke:#000000;stroke-width:0.5;stroke-linecap:butt;stroke-linejoin:miter;stroke-miterlimit:4;stroke-dasharray:none;stroke-opacity:1\" d=\"m 66.353541,69.23098 h 5.075235\" id=\"path1509\"/>\n",
       "    </g>\n",
       "    <g id=\"g1517\" style=\"stroke-width:0.5;stroke-miterlimit:4;stroke-dasharray:none\" transform=\"translate(31.43961,26.845584)\">\n",
       "      <ellipse style=\"fill:#ffffff;stroke:#000000;stroke-width:0.5;stroke-linejoin:bevel;stroke-miterlimit:4;stroke-dasharray:none;stroke-dashoffset:0\" id=\"ellipse1513\" cx=\"68.891159\" cy=\"69.23098\" rx=\"2.5376184\" ry=\"3.6255431\"/>\n",
       "      <path style=\"fill:none;stroke:#000000;stroke-width:0.5;stroke-linecap:butt;stroke-linejoin:miter;stroke-miterlimit:4;stroke-dasharray:none;stroke-opacity:1\" d=\"m 66.353541,69.23098 h 5.075235\" id=\"path1515\"/>\n",
       "    </g>\n",
       "    <text xml:space=\"preserve\" style=\"font-size:5.40149px;line-height:1.25;font-family:sans-serif;-inkscape-font-specification:sans-serif;stroke-width:0.264583\" x=\"63.598255\" y=\"127.6256\" id=\"text1521\"><tspan sodipodi:role=\"line\" id=\"tspan1519\" x=\"63.598255\" y=\"127.6256\" style=\"stroke-width:0.264583\">2</tspan></text>\n",
       "    <text xml:space=\"preserve\" style=\"font-size:5.40149px;line-height:1.25;font-family:sans-serif;-inkscape-font-specification:sans-serif;stroke-width:0.264583\" x=\"104.03602\" y=\"100.36676\" id=\"text1525\"><tspan sodipodi:role=\"line\" id=\"tspan1523\" x=\"104.03602\" y=\"100.36676\" style=\"stroke-width:0.264583\">3</tspan></text>\n",
       "    <text xml:space=\"preserve\" style=\"font-size:5.40149px;line-height:1.25;font-family:sans-serif;-inkscape-font-specification:sans-serif;stroke-width:0.264583\" x=\"202.49963\" y=\"120.12696\" id=\"text1529\"><tspan sodipodi:role=\"line\" id=\"tspan1527\" x=\"202.49963\" y=\"120.12696\" style=\"stroke-width:0.264583\">4</tspan></text>\n",
       "    <text xml:space=\"preserve\" style=\"font-size:7.7611px;line-height:1.25;font-family:sans-serif;-inkscape-font-specification:sans-serif;stroke-width:0.264583\" x=\"42.530609\" y=\"115.60754\" id=\"text1533\"><tspan sodipodi:role=\"line\" id=\"tspan1531\" x=\"42.530609\" y=\"115.60754\" style=\"stroke-width:0.264583\">2</tspan></text>\n",
       "    <text xml:space=\"preserve\" style=\"font-size:7.7611px;line-height:1.25;font-family:sans-serif;-inkscape-font-specification:sans-serif;stroke-width:0.264583\" x=\"99.787262\" y=\"86.235306\" id=\"text1537\"><tspan sodipodi:role=\"line\" id=\"tspan1535\" x=\"99.787262\" y=\"86.235306\" style=\"stroke-width:0.264583\">3</tspan></text>\n",
       "    <text xml:space=\"preserve\" style=\"font-size:7.7611px;line-height:1.25;font-family:sans-serif;-inkscape-font-specification:sans-serif;stroke-width:0.264583\" x=\"167.8152\" y=\"101.70832\" id=\"text1541\"><tspan sodipodi:role=\"line\" id=\"tspan1539\" x=\"167.8152\" y=\"101.70832\" style=\"stroke-width:0.264583\">4</tspan></text>\n",
       "    <text xml:space=\"preserve\" style=\"font-size:7.7611px;line-height:1.25;font-family:sans-serif;-inkscape-font-specification:sans-serif;stroke-width:0.264583\" x=\"224.21123\" y=\"144.24466\" id=\"text1545\"><tspan sodipodi:role=\"line\" id=\"tspan1543\" x=\"224.21123\" y=\"144.24466\" style=\"stroke-width:0.264583\">X</tspan></text>\n",
       "    <text xml:space=\"preserve\" style=\"font-size:7.7611px;line-height:1.25;font-family:sans-serif;-inkscape-font-specification:sans-serif;stroke-width:0.264583\" x=\"33.694336\" y=\"55.697205\" id=\"text1549\"><tspan sodipodi:role=\"line\" id=\"tspan1547\" x=\"33.694336\" y=\"55.697205\" style=\"stroke-width:0.264583\">Y</tspan></text>\n",
       "    <path style=\"fill:#ff0000;stroke:#ff0000;stroke-width:0.5;stroke-linecap:butt;stroke-linejoin:miter;stroke-opacity:1;stroke-miterlimit:4;stroke-dasharray:none;marker-end:url(#marker1764)\" d=\"M 40.63683,132.91881 53.380076,103.88287\" id=\"path1754\"/>\n",
       "    <path style=\"fill:#ff0000;stroke:#ff0000;stroke-width:0.5;stroke-linecap:butt;stroke-linejoin:miter;stroke-opacity:1;marker-end:url(#marker1824);stroke-miterlimit:4;stroke-dasharray:none\" d=\"M 57.195315,100.63326 155.89509,78.155476\" id=\"path1814\"/>\n",
       "    <path style=\"fill:#ff0000;stroke:#ff0000;stroke-width:0.5;stroke-linecap:butt;stroke-linejoin:miter;stroke-opacity:1;stroke-miterlimit:4;stroke-dasharray:none;marker-end:url(#marker5158)\" d=\"M 42.858994,135.20136 H 178.28424\" id=\"path1880\"/>\n",
       "    <path style=\"fill:#ff0000;stroke:#ff0000;stroke-width:0.5;stroke-linecap:butt;stroke-linejoin:miter;stroke-opacity:1;marker-end:url(#marker1962);stroke-miterlimit:4;stroke-dasharray:none\" d=\"M 180.81782,132.55552 159.6012,80.490898\" id=\"path1952\"/>\n",
       "    <text xml:space=\"preserve\" style=\"font-size:7.7611px;line-height:1.25;font-family:sans-serif;-inkscape-font-specification:sans-serif;stroke-width:0.264583;fill:#ff0000;\" x=\"46.783787\" y=\"124.74735\" id=\"text2566\"><tspan sodipodi:role=\"line\" id=\"tspan2564\" x=\"46.783787\" y=\"124.74735\" style=\"stroke-width:0.264583;fill:#ff0000;\">a</tspan></text>\n",
       "    <text xml:space=\"preserve\" style=\"font-size:7.7611px;line-height:1.25;font-family:sans-serif;-inkscape-font-specification:sans-serif;stroke-width:0.264583;fill:#ff0000;\" x=\"112.3205\" y=\"94.360733\" id=\"text2570\"><tspan sodipodi:role=\"line\" id=\"tspan2568\" x=\"112.3205\" y=\"94.360733\" style=\"stroke-width:0.264583;fill:#ff0000;\">b</tspan></text>\n",
       "    <text xml:space=\"preserve\" style=\"font-size:7.7611px;line-height:1.25;font-family:sans-serif;-inkscape-font-specification:sans-serif;fill:#ff0000;stroke-width:0.264583\" x=\"100.91211\" y=\"133.42999\" id=\"text2574\"><tspan sodipodi:role=\"line\" id=\"tspan2572\" x=\"100.91211\" y=\"133.42999\" style=\"fill:#ff0000;stroke-width:0.264583\">d</tspan></text>\n",
       "    <text xml:space=\"preserve\" style=\"font-size:7.7611px;line-height:1.25;font-family:sans-serif;-inkscape-font-specification:sans-serif;fill:#ff0000;stroke-width:0.264583\" x=\"163.30191\" y=\"107.71402\" id=\"text2578\"><tspan sodipodi:role=\"line\" id=\"tspan2576\" x=\"163.30191\" y=\"107.71402\" style=\"fill:#ff0000;stroke-width:0.264583\">c</tspan></text>\n",
       "  </g>\n",
       "</svg>"
      ],
      "text/plain": [
       "<IPython.core.display.SVG object>"
      ]
     },
     "execution_count": 64,
     "metadata": {},
     "output_type": "execute_result"
    }
   ],
   "source": [
    "SVG('figs4-6.svg')"
   ]
  },
  {
   "cell_type": "markdown",
   "metadata": {
    "slideshow": {
     "slide_type": "fragment"
    }
   },
   "source": [
    "$$ \\vec{R}_{AO_2} + \\vec{R}_{BA} - \\vec{R}_{BO_4} - \\vec{R}_{O_4O_2} = 0$$"
   ]
  },
  {
   "cell_type": "markdown",
   "metadata": {
    "slideshow": {
     "slide_type": "fragment"
    }
   },
   "source": [
    "#### Vetores como números complexos"
   ]
  },
  {
   "cell_type": "code",
   "execution_count": 65,
   "metadata": {
    "scrolled": false,
    "slideshow": {
     "slide_type": "fragment"
    }
   },
   "outputs": [
    {
     "data": {
      "image/svg+xml": [
       "<svg xmlns:dc=\"http://purl.org/dc/elements/1.1/\" xmlns:cc=\"http://creativecommons.org/ns#\" xmlns:rdf=\"http://www.w3.org/1999/02/22-rdf-syntax-ns#\" xmlns:svg=\"http://www.w3.org/2000/svg\" xmlns=\"http://www.w3.org/2000/svg\" xmlns:sodipodi=\"http://sodipodi.sourceforge.net/DTD/sodipodi-0.dtd\" xmlns:inkscape=\"http://www.inkscape.org/namespaces/inkscape\" width=\"141.25171mm\" height=\"106.87957mm\" viewBox=\"0 0 141.25171 106.87957\" version=\"1.1\" id=\"svg3304\" inkscape:version=\"1.0.1 (3bc2e813f5, 2020-09-07)\" sodipodi:docname=\"figs4-7.svg\">\n",
       "  <defs id=\"defs3298\">\n",
       "    <marker style=\"overflow:visible;\" id=\"marker7554\" refX=\"0.0\" refY=\"0.0\" orient=\"auto\" inkscape:stockid=\"Arrow1Lend\" inkscape:isstock=\"true\">\n",
       "      <path transform=\"scale(0.8) rotate(180) translate(12.5,0)\" style=\"fill-rule:evenodd;stroke:#000000;stroke-width:1pt;stroke-opacity:1;fill:#000000;fill-opacity:1\" d=\"M 0.0,0.0 L 5.0,-5.0 L -12.5,0.0 L 5.0,5.0 L 0.0,0.0 z \" id=\"path939\"/>\n",
       "    </marker>\n",
       "    <marker style=\"overflow:visible\" id=\"Arrow1Mend\" refX=\"0\" refY=\"0\" orient=\"auto\" inkscape:stockid=\"Arrow1Mend\" inkscape:isstock=\"true\">\n",
       "      <path transform=\"matrix(-0.4,0,0,-0.4,-4,0)\" style=\"fill:#ff0000;fill-opacity:1;fill-rule:evenodd;stroke:#ff0000;stroke-width:1pt;stroke-opacity:1\" d=\"M 0,0 5,-5 -12.5,0 5,5 Z\" id=\"path3878\"/>\n",
       "    </marker>\n",
       "    <marker style=\"overflow:visible\" id=\"marker4607\" refX=\"0\" refY=\"0\" orient=\"auto\" inkscape:stockid=\"Arrow1Lstart\" inkscape:isstock=\"true\">\n",
       "      <path transform=\"matrix(0.8,0,0,0.8,10,0)\" style=\"fill:#000000;fill-opacity:1;fill-rule:evenodd;stroke:#000000;stroke-width:1pt;stroke-opacity:1\" d=\"M 0,0 5,-5 -12.5,0 5,5 Z\" id=\"path4605\"/>\n",
       "    </marker>\n",
       "    <marker style=\"overflow:visible\" id=\"marker4543\" refX=\"0\" refY=\"0\" orient=\"auto\" inkscape:stockid=\"Arrow1Lend\" inkscape:isstock=\"true\">\n",
       "      <path transform=\"matrix(-0.8,0,0,-0.8,-10,0)\" style=\"fill:#000000;fill-opacity:1;fill-rule:evenodd;stroke:#000000;stroke-width:1pt;stroke-opacity:1\" d=\"M 0,0 5,-5 -12.5,0 5,5 Z\" id=\"path4541\"/>\n",
       "    </marker>\n",
       "    <marker style=\"overflow:visible\" id=\"marker4473\" refX=\"0\" refY=\"0\" orient=\"auto\" inkscape:stockid=\"Arrow1Lstart\" inkscape:isstock=\"true\" inkscape:collect=\"always\">\n",
       "      <path transform=\"matrix(0.8,0,0,0.8,10,0)\" style=\"fill:#000000;fill-opacity:1;fill-rule:evenodd;stroke:#000000;stroke-width:1pt;stroke-opacity:1\" d=\"M 0,0 5,-5 -12.5,0 5,5 Z\" id=\"path4471\"/>\n",
       "    </marker>\n",
       "    <marker style=\"overflow:visible\" id=\"marker4421\" refX=\"0\" refY=\"0\" orient=\"auto\" inkscape:stockid=\"Arrow1Lend\" inkscape:isstock=\"true\" inkscape:collect=\"always\">\n",
       "      <path transform=\"matrix(-0.8,0,0,-0.8,-10,0)\" style=\"fill:#000000;fill-opacity:1;fill-rule:evenodd;stroke:#000000;stroke-width:1pt;stroke-opacity:1\" d=\"M 0,0 5,-5 -12.5,0 5,5 Z\" id=\"path4419\"/>\n",
       "    </marker>\n",
       "    <marker style=\"overflow:visible\" id=\"marker4287\" refX=\"0\" refY=\"0\" orient=\"auto\" inkscape:stockid=\"Arrow1Lend\" inkscape:isstock=\"true\" inkscape:collect=\"always\">\n",
       "      <path transform=\"matrix(-0.8,0,0,-0.8,-10,0)\" style=\"fill:#000000;fill-opacity:1;fill-rule:evenodd;stroke:#000000;stroke-width:1pt;stroke-opacity:1\" d=\"M 0,0 5,-5 -12.5,0 5,5 Z\" id=\"path4285\"/>\n",
       "    </marker>\n",
       "    <inkscape:path-effect effect=\"spiro\" id=\"path-effect4277\" is_visible=\"true\" lpeversion=\"1\"/>\n",
       "    <inkscape:path-effect effect=\"simplify\" id=\"path-effect4275\" is_visible=\"true\" lpeversion=\"1\" steps=\"1\" threshold=\"0.00243902\" smooth_angles=\"360\" helper_size=\"0\" simplify_individual_paths=\"false\" simplify_just_coalesce=\"false\"/>\n",
       "    <inkscape:path-effect effect=\"simplify\" id=\"path-effect4269\" is_visible=\"true\" lpeversion=\"1\" steps=\"1\" threshold=\"0.00243902\" smooth_angles=\"360\" helper_size=\"0\" simplify_individual_paths=\"false\" simplify_just_coalesce=\"false\"/>\n",
       "    <inkscape:path-effect effect=\"simplify\" id=\"path-effect4263\" is_visible=\"true\" lpeversion=\"1\" steps=\"1\" threshold=\"0.00243902\" smooth_angles=\"360\" helper_size=\"0\" simplify_individual_paths=\"false\" simplify_just_coalesce=\"false\"/>\n",
       "    <inkscape:path-effect effect=\"simplify\" id=\"path-effect4257\" is_visible=\"true\" lpeversion=\"1\" steps=\"1\" threshold=\"0.00243902\" smooth_angles=\"360\" helper_size=\"0\" simplify_individual_paths=\"false\" simplify_just_coalesce=\"false\"/>\n",
       "    <marker style=\"overflow:visible\" id=\"marker4193\" refX=\"0\" refY=\"0\" orient=\"auto\" inkscape:stockid=\"Arrow1Lend\" inkscape:isstock=\"true\">\n",
       "      <path transform=\"matrix(-0.8,0,0,-0.8,-10,0)\" style=\"fill:#ff0000;fill-opacity:1;fill-rule:evenodd;stroke:#ff0000;stroke-width:1pt;stroke-opacity:1\" d=\"M 0,0 5,-5 -12.5,0 5,5 Z\" id=\"path4191\"/>\n",
       "    </marker>\n",
       "    <marker style=\"overflow:visible\" id=\"Arrow1Lstart\" refX=\"0\" refY=\"0\" orient=\"auto\" inkscape:stockid=\"Arrow1Lstart\" inkscape:isstock=\"true\" inkscape:collect=\"always\">\n",
       "      <path transform=\"matrix(0.8,0,0,0.8,10,0)\" style=\"fill:#000000;fill-opacity:1;fill-rule:evenodd;stroke:#000000;stroke-width:1pt;stroke-opacity:1\" d=\"M 0,0 5,-5 -12.5,0 5,5 Z\" id=\"path3869\"/>\n",
       "    </marker>\n",
       "  </defs>\n",
       "  <sodipodi:namedview id=\"base\" pagecolor=\"#ffffff\" bordercolor=\"#666666\" borderopacity=\"1.0\" inkscape:pageopacity=\"0.0\" inkscape:pageshadow=\"2\" inkscape:zoom=\"1.4\" inkscape:cx=\"339.50313\" inkscape:cy=\"250.94624\" inkscape:document-units=\"mm\" inkscape:current-layer=\"layer8\" inkscape:document-rotation=\"0\" showgrid=\"false\" inkscape:snap-smooth-nodes=\"true\" inkscape:snap-nodes=\"false\" inkscape:window-width=\"1920\" inkscape:window-height=\"1017\" inkscape:window-x=\"-8\" inkscape:window-y=\"-8\" inkscape:window-maximized=\"1\"/>\n",
       "  <metadata id=\"metadata3301\">\n",
       "    <rdf:RDF>\n",
       "      <cc:Work rdf:about=\"\">\n",
       "        <dc:format>image/svg+xml</dc:format>\n",
       "        <dc:type rdf:resource=\"http://purl.org/dc/dcmitype/StillImage\"/>\n",
       "        <dc:title/>\n",
       "      </cc:Work>\n",
       "    </rdf:RDF>\n",
       "  </metadata>\n",
       "  <g inkscape:groupmode=\"layer\" id=\"layer8\" inkscape:label=\"Layer 2\">\n",
       "    <rect style=\"fill:#ffffff;stroke:#ffffff;stroke-width:0.865\" id=\"rect6012\" width=\"142.11905\" height=\"107.34524\" x=\"-0.1889881\" y=\"0\"/>\n",
       "  </g>\n",
       "  <g inkscape:label=\"Layer 1\" inkscape:groupmode=\"layer\" id=\"layer1\" transform=\"translate(-18.731934,-41.537494)\">\n",
       "    <path style=\"fill:none;stroke:#000000;stroke-width:0.265;stroke-linecap:butt;stroke-linejoin:miter;stroke-miterlimit:4;stroke-dasharray:none;stroke-opacity:1;marker-start:url(#Arrow1Lstart);marker-end:url(#marker7554)\" d=\"M 147.58394,127.66438 H 66.170707 V 51.592609\" id=\"path3867\"/>\n",
       "    <path style=\"fill:#ff0000;stroke:#ff0000;stroke-width:0.565;stroke-linecap:butt;stroke-linejoin:miter;stroke-miterlimit:4;stroke-dasharray:none;stroke-opacity:1;marker-end:url(#marker4193)\" d=\"M 66.170707,127.66438 126.24685,70.767726\" id=\"path4183\"/>\n",
       "    <path style=\"fill:none;stroke:#000000;stroke-width:0.264583px;stroke-linecap:butt;stroke-linejoin:miter;stroke-opacity:1;marker-end:url(#marker4287)\" d=\"m 101.52621,126.84372 c 2.0569,-2.58418 3.29351,-5.81155 3.49007,-9.10855 0.24263,-4.06987 -1.08298,-8.13841 -3.27002,-11.57928 -1.63148,-2.56682 -3.741803,-4.82818 -6.189901,-6.632927\" id=\"path4273\" inkscape:path-effect=\"#path-effect4275;#path-effect4277\" inkscape:original-d=\"m 101.52621,126.84372 c 7.35662,-9.47974 2.10667,-21.41297 -5.969851,-27.320757\"/>\n",
       "    <g id=\"g4331\" transform=\"matrix(0.95418157,0,0,0.95843783,12.919009,3.5067329)\" style=\"stroke-width:1.04569\">\n",
       "      <ellipse style=\"fill:#ffffff;stroke:#000000;stroke-width:0.590813;stroke-linejoin:bevel;stroke-miterlimit:4;stroke-dasharray:none\" id=\"path4325\" cx=\"106.67464\" cy=\"114.92054\" rx=\"4.8294683\" ry=\"6.5136099\"/>\n",
       "      <path style=\"fill:none;stroke:#000000;stroke-width:0.486245;stroke-linecap:butt;stroke-linejoin:miter;stroke-miterlimit:4;stroke-dasharray:none;stroke-opacity:1\" d=\"m 101.84517,114.92054 h 9.65894\" id=\"path4327\"/>\n",
       "    </g>\n",
       "    <path style=\"fill:none;stroke:#000000;stroke-width:0.264583;stroke-linecap:butt;stroke-linejoin:miter;stroke-miterlimit:4;stroke-dasharray:1.5875, 1.5875;stroke-dashoffset:0;stroke-opacity:1\" d=\"M 126.24685,70.767725 V 147.92005\" id=\"path4381\"/>\n",
       "    <path style=\"fill:none;stroke:#000000;stroke-width:0.264583;stroke-linecap:butt;stroke-linejoin:miter;stroke-miterlimit:4;stroke-dasharray:1.5875, 1.5875;stroke-dashoffset:0;stroke-opacity:1\" d=\"m 66.170706,127.66438 v 20.75268\" id=\"path4383\"/>\n",
       "    <path style=\"fill:none;stroke:#000000;stroke-width:0.264583px;stroke-linecap:butt;stroke-linejoin:miter;stroke-opacity:1;marker-start:url(#marker4473);marker-end:url(#marker4421)\" d=\"M 66.061375,142.42057 H 126.43752\" id=\"path4385\"/>\n",
       "    <path style=\"fill:none;stroke:#000000;stroke-width:0.264583;stroke-linecap:butt;stroke-linejoin:miter;stroke-miterlimit:4;stroke-dasharray:1.5875, 1.5875;stroke-dashoffset:0;stroke-opacity:1\" d=\"M 126.24685,70.767725 H 37.640347\" id=\"path4387\"/>\n",
       "    <path style=\"fill:none;stroke:#000000;stroke-width:0.264583;stroke-linecap:butt;stroke-linejoin:miter;stroke-miterlimit:4;stroke-dasharray:1.5875, 1.5875;stroke-dashoffset:0;stroke-opacity:1\" d=\"M 66.170706,127.66438 H 39.354429\" id=\"path4389\"/>\n",
       "    <path style=\"fill:none;stroke:#000000;stroke-width:0.264583px;stroke-linecap:butt;stroke-linejoin:miter;stroke-opacity:1;marker-start:url(#marker4607);marker-end:url(#marker4543)\" d=\"M 46.759299,70.693025 V 127.45736\" id=\"path4391\"/>\n",
       "    <text xml:space=\"preserve\" style=\"font-size:7.7611px;line-height:1.25;font-family:sans-serif;-inkscape-font-specification:sans-serif;stroke-width:0.264583\" x=\"84.680283\" y=\"140.13226\" id=\"text4395\"><tspan sodipodi:role=\"line\" id=\"tspan4393\" x=\"84.680283\" y=\"140.13226\" style=\"stroke-width:0.264583\">rcos</tspan></text>\n",
       "    <text xml:space=\"preserve\" style=\"font-size:7.7611px;line-height:1.25;font-family:sans-serif;-inkscape-font-specification:sans-serif;stroke-width:0.264583\" x=\"19.376293\" y=\"109.11389\" id=\"text4399\"><tspan sodipodi:role=\"line\" id=\"tspan4397\" x=\"19.376293\" y=\"109.11389\" style=\"stroke-width:0.264583\">irsen</tspan></text>\n",
       "    <g id=\"g4405\" transform=\"matrix(0.54512627,0,0,0.55377743,48.869783,72.975661)\" style=\"stroke-width:1.82005\">\n",
       "      <ellipse style=\"fill:#ffffff;stroke:#000000;stroke-width:1.02833;stroke-linejoin:bevel;stroke-miterlimit:4;stroke-dasharray:none\" id=\"ellipse4401\" cx=\"106.67464\" cy=\"114.92054\" rx=\"4.8294683\" ry=\"6.5136099\"/>\n",
       "      <path style=\"fill:none;stroke:#000000;stroke-width:0.846324;stroke-linecap:butt;stroke-linejoin:miter;stroke-miterlimit:4;stroke-dasharray:none;stroke-opacity:1\" d=\"m 101.84517,114.92054 h 9.65894\" id=\"path4403\"/>\n",
       "    </g>\n",
       "    <g id=\"g4411\" transform=\"matrix(0.54512627,0,0,0.55377743,-16.172147,42.473681)\" style=\"stroke-width:1.82005\">\n",
       "      <ellipse style=\"fill:#ffffff;stroke:#000000;stroke-width:1.02833;stroke-linejoin:bevel;stroke-miterlimit:4;stroke-dasharray:none\" id=\"ellipse4407\" cx=\"106.67464\" cy=\"114.92054\" rx=\"4.8294683\" ry=\"6.5136099\"/>\n",
       "      <path style=\"fill:none;stroke:#000000;stroke-width:0.846324;stroke-linecap:butt;stroke-linejoin:miter;stroke-miterlimit:4;stroke-dasharray:none;stroke-opacity:1\" d=\"m 101.84517,114.92054 h 9.65894\" id=\"path4409\"/>\n",
       "    </g>\n",
       "    <text xml:space=\"preserve\" style=\"font-size:6.62138px;line-height:1.25;font-family:sans-serif;-inkscape-font-specification:sans-serif;stroke-width:0.264583\" x=\"144.90593\" y=\"55.084572\" id=\"text4731\" transform=\"scale(0.85314929,1.1721278)\"><tspan sodipodi:role=\"line\" id=\"tspan4729\" x=\"144.90593\" y=\"55.084572\" style=\"stroke-width:0.264583\">A</tspan></text>\n",
       "    <circle style=\"fill:#ffffff;stroke:#000000;stroke-width:0.264583;stroke-linejoin:bevel;stroke-miterlimit:4;stroke-dasharray:none;stroke-dashoffset:0\" id=\"path4737\" cx=\"128.9865\" cy=\"68.24527\" r=\"3.2865286\"/>\n",
       "    <text xml:space=\"preserve\" style=\"font-size:7.7611px;line-height:1.25;font-family:sans-serif;-inkscape-font-specification:sans-serif;fill:#ff0000;stroke-width:0.264583\" x=\"-17.653612\" y=\"134.74246\" id=\"text4741\" transform=\"rotate(-49.468358)\" inkscape:transform-center-x=\"4.7809005\" inkscape:transform-center-y=\"0.56696429\"><tspan sodipodi:role=\"line\" id=\"tspan4739\" x=\"-17.653612\" y=\"134.74246\" style=\"fill:#ff0000;stroke-width:0.264583\">r</tspan></text>\n",
       "    <text xml:space=\"preserve\" style=\"font-size:7.7611px;line-height:1.25;font-family:sans-serif;-inkscape-font-specification:sans-serif;fill:#ff0000;stroke:#ff0000;stroke-width:0.264583\" x=\"113.82401\" y=\"92.309708\" id=\"text4745\"><tspan sodipodi:role=\"line\" id=\"tspan4743\" x=\"113.82401\" y=\"92.309708\" style=\"fill:#ff0000;stroke:#ff0000;stroke-width:0.264583\">R<tspan style=\"font-size:65%;baseline-shift:sub;fill:#ff0000;stroke:#ff0000\" id=\"tspan4747\">A</tspan></tspan></text>\n",
       "    <path style=\"fill:none;stroke:#ff0000;stroke-width:0.264583px;stroke-linecap:butt;stroke-linejoin:miter;stroke-opacity:1;marker-end:url(#Arrow1Mend)\" d=\"m 112.81241,85.409897 h 8.4999\" id=\"path4749\"/>\n",
       "    <text xml:space=\"preserve\" style=\"font-size:7.7611px;line-height:1.25;font-family:sans-serif;-inkscape-font-specification:sans-serif;stroke-width:0.264583\" x=\"145.98865\" y=\"137.63197\" id=\"text4839\"><tspan sodipodi:role=\"line\" id=\"tspan4837\" x=\"145.98865\" y=\"137.63197\" style=\"stroke-width:0.264583\">real</tspan></text>\n",
       "    <text xml:space=\"preserve\" style=\"font-size:7.7611px;line-height:1.25;font-family:sans-serif;-inkscape-font-specification:sans-serif;stroke-width:0.264583\" x=\"43.52121\" y=\"47.744858\" id=\"text4843\"><tspan sodipodi:role=\"line\" id=\"tspan4841\" x=\"43.52121\" y=\"47.744858\" style=\"stroke-width:0.264583\">imaginário</tspan></text>\n",
       "  </g>\n",
       "</svg>"
      ],
      "text/plain": [
       "<IPython.core.display.SVG object>"
      ]
     },
     "execution_count": 65,
     "metadata": {},
     "output_type": "execute_result"
    }
   ],
   "source": [
    "SVG('figs4-7.svg')"
   ]
  },
  {
   "cell_type": "markdown",
   "metadata": {
    "slideshow": {
     "slide_type": "fragment"
    }
   },
   "source": [
    "Podemos escrever o vetor $\\vec{R}_A$ como:\n",
    "$$\\vec{R}_A = r cos \\theta + i r sen \\theta $$ \n",
    "* O número imaginário $i$ é usado como um operador, não como um valor\n",
    "* Cada multiplicação do vetor $\\vec{R}_A$ por $i$ resulta em uma rotação anti-horária de $90^{\\circ}$\n",
    "Uma vantagem de usar a notação dos números complexos para representar vetores planos é obter a **Identidade de Euler**: \n",
    "$$ e^{\\pm i \\theta} = cos \\theta \\pm i sen \\theta $$\n",
    "Dessa forma, podemos escrever $\\vec{R}_A$ como: \n",
    "$$\\vec{R}_A = r e^{i \\theta}$$\n",
    "Observe que:\n",
    "$$\\dfrac{d e^{i \\theta}}{d \\theta} = i e^{i \\theta} $$"
   ]
  },
  {
   "cell_type": "code",
   "execution_count": 66,
   "metadata": {
    "slideshow": {
     "slide_type": "fragment"
    }
   },
   "outputs": [],
   "source": [
    "r,theta = symbols('r theta')"
   ]
  },
  {
   "cell_type": "code",
   "execution_count": 67,
   "metadata": {
    "slideshow": {
     "slide_type": "fragment"
    }
   },
   "outputs": [
    {
     "data": {
      "text/latex": [
       "$\\displaystyle r e^{i \\theta}$"
      ],
      "text/plain": [
       "r*exp(I*theta)"
      ]
     },
     "execution_count": 67,
     "metadata": {},
     "output_type": "execute_result"
    }
   ],
   "source": [
    "RA = r*E**(I*theta)\n",
    "RA"
   ]
  },
  {
   "cell_type": "markdown",
   "metadata": {
    "slideshow": {
     "slide_type": "fragment"
    }
   },
   "source": [
    "Para simplificar, poderíamos fazer a seguinte importação <br>\n",
    "```{ .py }\n",
    "from sympy import E,I\n",
    "```\n",
    "Como alternativa, podemos fazer da seguinte forma:"
   ]
  },
  {
   "cell_type": "code",
   "execution_count": 68,
   "metadata": {
    "slideshow": {
     "slide_type": "fragment"
    }
   },
   "outputs": [],
   "source": [
    "i,e = [I,E]"
   ]
  },
  {
   "cell_type": "code",
   "execution_count": 69,
   "metadata": {
    "scrolled": true,
    "slideshow": {
     "slide_type": "fragment"
    }
   },
   "outputs": [
    {
     "data": {
      "text/latex": [
       "$\\displaystyle 1$"
      ],
      "text/plain": [
       "1"
      ]
     },
     "execution_count": 69,
     "metadata": {},
     "output_type": "execute_result"
    }
   ],
   "source": [
    "log(e)"
   ]
  },
  {
   "cell_type": "code",
   "execution_count": 70,
   "metadata": {
    "slideshow": {
     "slide_type": "fragment"
    }
   },
   "outputs": [
    {
     "data": {
      "text/latex": [
       "$\\displaystyle -1$"
      ],
      "text/plain": [
       "-1"
      ]
     },
     "execution_count": 70,
     "metadata": {},
     "output_type": "execute_result"
    }
   ],
   "source": [
    "e**(i*pi)"
   ]
  },
  {
   "cell_type": "code",
   "execution_count": 71,
   "metadata": {
    "slideshow": {
     "slide_type": "fragment"
    }
   },
   "outputs": [
    {
     "data": {
      "text/latex": [
       "$\\displaystyle -1$"
      ],
      "text/plain": [
       "-1"
      ]
     },
     "execution_count": 71,
     "metadata": {},
     "output_type": "execute_result"
    }
   ],
   "source": [
    "i**2"
   ]
  },
  {
   "cell_type": "code",
   "execution_count": 72,
   "metadata": {
    "slideshow": {
     "slide_type": "fragment"
    }
   },
   "outputs": [
    {
     "data": {
      "text/latex": [
       "$\\displaystyle r e^{i \\theta}$"
      ],
      "text/plain": [
       "r*exp(I*theta)"
      ]
     },
     "execution_count": 72,
     "metadata": {},
     "output_type": "execute_result"
    }
   ],
   "source": [
    "RA = r*e**(i*theta)\n",
    "RA"
   ]
  },
  {
   "cell_type": "code",
   "execution_count": 73,
   "metadata": {
    "slideshow": {
     "slide_type": "fragment"
    }
   },
   "outputs": [
    {
     "data": {
      "text/latex": [
       "$\\displaystyle i r e^{i \\theta}$"
      ],
      "text/plain": [
       "I*r*exp(I*theta)"
      ]
     },
     "execution_count": 73,
     "metadata": {},
     "output_type": "execute_result"
    }
   ],
   "source": [
    "RA.diff(theta)"
   ]
  },
  {
   "cell_type": "markdown",
   "metadata": {
    "slideshow": {
     "slide_type": "fragment"
    }
   },
   "source": [
    "#### Equação vetorial em malha fechada nos mecanismos de quatro barras"
   ]
  },
  {
   "cell_type": "code",
   "execution_count": 74,
   "metadata": {
    "slideshow": {
     "slide_type": "fragment"
    }
   },
   "outputs": [
    {
     "data": {
      "image/svg+xml": [
       "<svg xmlns:dc=\"http://purl.org/dc/elements/1.1/\" xmlns:cc=\"http://creativecommons.org/ns#\" xmlns:rdf=\"http://www.w3.org/1999/02/22-rdf-syntax-ns#\" xmlns:svg=\"http://www.w3.org/2000/svg\" xmlns=\"http://www.w3.org/2000/svg\" xmlns:sodipodi=\"http://sodipodi.sourceforge.net/DTD/sodipodi-0.dtd\" xmlns:inkscape=\"http://www.inkscape.org/namespaces/inkscape\" width=\"214.58945mm\" height=\"110.67824mm\" viewBox=\"0 0 214.58945 110.67824\" version=\"1.1\" id=\"svg8\" inkscape:version=\"1.0.1 (3bc2e813f5, 2020-09-07)\" sodipodi:docname=\"figs4-6.svg\">\n",
       "  <defs id=\"defs2\">\n",
       "    <marker style=\"overflow:visible;\" id=\"Arrow1Lend\" refX=\"0.0\" refY=\"0.0\" orient=\"auto\" inkscape:stockid=\"Arrow1Lend\" inkscape:isstock=\"true\">\n",
       "      <path transform=\"scale(0.8) rotate(180) translate(12.5,0)\" style=\"fill-rule:evenodd;stroke:#000000;stroke-width:1pt;stroke-opacity:1;fill:#000000;fill-opacity:1\" d=\"M 0.0,0.0 L 5.0,-5.0 L -12.5,0.0 L 5.0,5.0 L 0.0,0.0 z \" id=\"path1047\"/>\n",
       "    </marker>\n",
       "    <marker style=\"overflow:visible;\" id=\"marker6515\" refX=\"0.0\" refY=\"0.0\" orient=\"auto\" inkscape:stockid=\"Arrow1Lend\" inkscape:isstock=\"true\">\n",
       "      <path transform=\"scale(0.8) rotate(180) translate(12.5,0)\" style=\"fill-rule:evenodd;stroke:#000000;stroke-width:1pt;stroke-opacity:1;fill:#000000;fill-opacity:1\" d=\"M 0.0,0.0 L 5.0,-5.0 L -12.5,0.0 L 5.0,5.0 L 0.0,0.0 z \" id=\"path939\"/>\n",
       "    </marker>\n",
       "    <marker style=\"overflow:visible\" id=\"marker5158\" refX=\"0\" refY=\"0\" orient=\"auto\" inkscape:stockid=\"Arrow1Lend\" inkscape:isstock=\"true\">\n",
       "      <path transform=\"matrix(-0.8,0,0,-0.8,-10,0)\" style=\"fill:#ff0000;fill-opacity:1;fill-rule:evenodd;stroke:#ff0000;stroke-width:1pt;stroke-opacity:1\" d=\"M 0,0 5,-5 -12.5,0 5,5 Z\" id=\"path5156\"/>\n",
       "    </marker>\n",
       "    <marker style=\"overflow:visible\" id=\"marker1962\" refX=\"0\" refY=\"0\" orient=\"auto\" inkscape:stockid=\"Arrow1Lend\" inkscape:isstock=\"true\" inkscape:collect=\"always\">\n",
       "      <path transform=\"matrix(-0.8,0,0,-0.8,-10,0)\" style=\"fill:#ff0000;fill-opacity:1;fill-rule:evenodd;stroke:#ff0000;stroke-width:1pt;stroke-opacity:1\" d=\"M 0,0 5,-5 -12.5,0 5,5 Z\" id=\"path1960\"/>\n",
       "    </marker>\n",
       "    <marker style=\"overflow:visible\" id=\"marker1824\" refX=\"0\" refY=\"0\" orient=\"auto\" inkscape:stockid=\"Arrow1Lend\" inkscape:isstock=\"true\" inkscape:collect=\"always\">\n",
       "      <path transform=\"matrix(-0.8,0,0,-0.8,-10,0)\" style=\"fill:#ff0000;fill-opacity:1;fill-rule:evenodd;stroke:#ff0000;stroke-width:1pt;stroke-opacity:1\" d=\"M 0,0 5,-5 -12.5,0 5,5 Z\" id=\"path1822\"/>\n",
       "    </marker>\n",
       "    <marker style=\"overflow:visible\" id=\"marker1764\" refX=\"0\" refY=\"0\" orient=\"auto\" inkscape:stockid=\"Arrow1Lend\" inkscape:isstock=\"true\" inkscape:collect=\"always\">\n",
       "      <path transform=\"matrix(-0.8,0,0,-0.8,-10,0)\" style=\"fill:#ff0000;fill-opacity:1;fill-rule:evenodd;stroke:#ff0000;stroke-width:1pt;stroke-opacity:1\" d=\"M 0,0 5,-5 -12.5,0 5,5 Z\" id=\"path1762\"/>\n",
       "    </marker>\n",
       "    <marker style=\"overflow:visible\" id=\"marker1421\" refX=\"0\" refY=\"0\" orient=\"auto\" inkscape:stockid=\"Arrow1Lend\" inkscape:isstock=\"true\" inkscape:collect=\"always\">\n",
       "      <path transform=\"matrix(-0.8,0,0,-0.8,-10,0)\" style=\"fill:#000000;fill-opacity:1;fill-rule:evenodd;stroke:#000000;stroke-width:1pt;stroke-opacity:1\" d=\"M 0,0 5,-5 -12.5,0 5,5 Z\" id=\"path1419\"/>\n",
       "    </marker>\n",
       "    <marker style=\"overflow:visible\" id=\"marker1375\" refX=\"0\" refY=\"0\" orient=\"auto\" inkscape:stockid=\"Arrow1Lend\" inkscape:isstock=\"true\" inkscape:collect=\"always\">\n",
       "      <path transform=\"matrix(-0.8,0,0,-0.8,-10,0)\" style=\"fill:#000000;fill-opacity:1;fill-rule:evenodd;stroke:#000000;stroke-width:1pt;stroke-opacity:1\" d=\"M 0,0 5,-5 -12.5,0 5,5 Z\" id=\"path1373\"/>\n",
       "    </marker>\n",
       "    <marker style=\"overflow:visible\" id=\"marker1315\" refX=\"0\" refY=\"0\" orient=\"auto\" inkscape:stockid=\"Arrow1Lend\" inkscape:isstock=\"true\" inkscape:collect=\"always\">\n",
       "      <path transform=\"matrix(-0.8,0,0,-0.8,-10,0)\" style=\"fill:#000000;fill-opacity:1;fill-rule:evenodd;stroke:#000000;stroke-width:1pt;stroke-opacity:1\" d=\"M 0,0 5,-5 -12.5,0 5,5 Z\" id=\"path1313\"/>\n",
       "    </marker>\n",
       "    <marker style=\"overflow:visible\" id=\"Arrow1Lstart\" refX=\"0\" refY=\"0\" orient=\"auto\" inkscape:stockid=\"Arrow1Lstart\" inkscape:isstock=\"true\">\n",
       "      <path transform=\"matrix(0.8,0,0,0.8,10,0)\" style=\"fill:#ff0000;fill-opacity:1;fill-rule:evenodd;stroke:#ff0000;stroke-width:1pt;stroke-opacity:1\" d=\"M 0,0 5,-5 -12.5,0 5,5 Z\" id=\"path987\"/>\n",
       "    </marker>\n",
       "  </defs>\n",
       "  <sodipodi:namedview id=\"base\" pagecolor=\"#ffffff\" bordercolor=\"#666666\" borderopacity=\"1.0\" inkscape:pageopacity=\"0.0\" inkscape:pageshadow=\"2\" inkscape:zoom=\"1.4\" inkscape:cx=\"501.50539\" inkscape:cy=\"247.12536\" inkscape:document-units=\"mm\" inkscape:current-layer=\"layer7\" inkscape:document-rotation=\"0\" showgrid=\"false\" inkscape:snap-object-midpoints=\"false\" inkscape:snap-smooth-nodes=\"true\" inkscape:window-width=\"1920\" inkscape:window-height=\"1017\" inkscape:window-x=\"-8\" inkscape:window-y=\"-8\" inkscape:window-maximized=\"1\" inkscape:snap-nodes=\"false\"/>\n",
       "  <metadata id=\"metadata5\">\n",
       "    <rdf:RDF>\n",
       "      <cc:Work rdf:about=\"\">\n",
       "        <dc:format>image/svg+xml</dc:format>\n",
       "        <dc:type rdf:resource=\"http://purl.org/dc/dcmitype/StillImage\"/>\n",
       "        <dc:title/>\n",
       "      </cc:Work>\n",
       "    </rdf:RDF>\n",
       "  </metadata>\n",
       "  <g inkscape:groupmode=\"layer\" id=\"layer7\" inkscape:label=\"Layer 2\">\n",
       "    <rect style=\"fill:#ffffff;stroke:#ffffff;stroke-width:0.865\" id=\"rect5268\" width=\"215.44643\" height=\"110.936\" x=\"-0.1889881\" y=\"0.1889881\"/>\n",
       "  </g>\n",
       "  <g inkscape:label=\"Layer 1\" inkscape:groupmode=\"layer\" id=\"layer1\" transform=\"translate(-14.696059,-50.039333)\">\n",
       "    <path id=\"path839\" style=\"fill:#ffffff;stroke:#000000;stroke-width:0.699999;stroke-linejoin:bevel;stroke-miterlimit:4;stroke-dasharray:none\" d=\"m 40.314083,127.77587 a 7.5049962,7.4894698 0 0 0 -7.490705,7.48947 7.5049962,7.4894698 0 0 0 0,0.0143 v 13.0923 h 15.009993 v -13.10657 a 7.5049962,7.4894698 0 0 0 -7.504997,-7.48947 7.5049962,7.4894698 0 0 0 -0.0143,0 z\"/>\n",
       "    <path style=\"fill:none;stroke:#000000;stroke-width:0.7;stroke-linecap:butt;stroke-linejoin:miter;stroke-miterlimit:4;stroke-dasharray:none;stroke-opacity:1\" d=\"M 14.999011,148.37191 H 69.410235\" id=\"path850\"/>\n",
       "    <path style=\"fill:none;stroke:#000000;stroke-width:0.7;stroke-linecap:butt;stroke-linejoin:miter;stroke-miterlimit:4;stroke-dasharray:none;stroke-opacity:1\" d=\"m 14.999011,148.37191 7.041144,12.17039\" id=\"path852\"/>\n",
       "    <path style=\"fill:none;stroke:#000000;stroke-width:0.7;stroke-linecap:butt;stroke-linejoin:miter;stroke-miterlimit:4;stroke-dasharray:none;stroke-opacity:1\" d=\"m 27.382263,148.37191 7.041144,12.17039\" id=\"path854\"/>\n",
       "    <path style=\"fill:none;stroke:#000000;stroke-width:0.7;stroke-linecap:butt;stroke-linejoin:miter;stroke-miterlimit:4;stroke-dasharray:none;stroke-opacity:1\" d=\"m 39.390265,148.37191 7.041144,12.17039\" id=\"path856\"/>\n",
       "    <path style=\"fill:none;stroke:#000000;stroke-width:0.7;stroke-linecap:butt;stroke-linejoin:miter;stroke-miterlimit:4;stroke-dasharray:none;stroke-opacity:1\" d=\"m 51.773517,148.37191 7.041144,12.17039\" id=\"path858\"/>\n",
       "    <path style=\"fill:none;stroke:#000000;stroke-width:0.7;stroke-linecap:butt;stroke-linejoin:miter;stroke-miterlimit:4;stroke-dasharray:none;stroke-opacity:1\" d=\"m 64.156769,148.37191 7.04115,12.17039\" id=\"path860\"/>\n",
       "    <ellipse style=\"fill:#ffffff;stroke:#000000;stroke-width:0.7;stroke-linejoin:bevel\" id=\"path1592\" cx=\"40.369549\" cy=\"135.1759\" rx=\"2.6233726\" ry=\"2.6179454\"/>\n",
       "    <g inkscape:label=\"Layer 1\" id=\"g967\" transform=\"matrix(0.70913352,0,0,0.70766648,139.80942,37.902228)\" style=\"stroke-width:1.41163\">\n",
       "      <path id=\"path951\" style=\"fill:#ffffff;stroke:#000000;stroke-width:3.73471;stroke-linejoin:bevel;stroke-miterlimit:4;stroke-dasharray:none\" d=\"M 219.92383,480 A 39.999999,39.999999 0 0 0 180,520 a 39.999999,39.999999 0 0 0 0,0.0762 V 590 h 80 v -70 a 39.999999,39.999999 0 0 0 -40,-40 39.999999,39.999999 0 0 0 -0.0762,0 z\" transform=\"scale(0.26458333)\"/>\n",
       "      <path style=\"fill:none;stroke:#000000;stroke-width:0.988143;stroke-linecap:butt;stroke-linejoin:miter;stroke-miterlimit:4;stroke-dasharray:none;stroke-opacity:1\" d=\"M 22.489583,156.10416 H 99.218749\" id=\"path953\"/>\n",
       "      <path style=\"fill:none;stroke:#000000;stroke-width:0.988143;stroke-linecap:butt;stroke-linejoin:miter;stroke-miterlimit:4;stroke-dasharray:none;stroke-opacity:1\" d=\"m 22.489583,156.10416 9.929222,17.19792\" id=\"path955\"/>\n",
       "      <path style=\"fill:none;stroke:#000000;stroke-width:0.988143;stroke-linecap:butt;stroke-linejoin:miter;stroke-miterlimit:4;stroke-dasharray:none;stroke-opacity:1\" d=\"m 39.952094,156.10416 9.929222,17.19792\" id=\"path957\"/>\n",
       "      <path style=\"fill:none;stroke:#000000;stroke-width:0.988143;stroke-linecap:butt;stroke-linejoin:miter;stroke-miterlimit:4;stroke-dasharray:none;stroke-opacity:1\" d=\"m 56.885438,156.10416 9.929222,17.19792\" id=\"path959\"/>\n",
       "      <path style=\"fill:none;stroke:#000000;stroke-width:0.988143;stroke-linecap:butt;stroke-linejoin:miter;stroke-miterlimit:4;stroke-dasharray:none;stroke-opacity:1\" d=\"m 74.347949,156.10416 9.929222,17.19792\" id=\"path961\"/>\n",
       "      <path style=\"fill:none;stroke:#000000;stroke-width:0.988143;stroke-linecap:butt;stroke-linejoin:miter;stroke-miterlimit:4;stroke-dasharray:none;stroke-opacity:1\" d=\"m 91.81046,156.10416 9.92923,17.19792\" id=\"path963\"/>\n",
       "      <circle style=\"fill:#ffffff;stroke:#000000;stroke-width:0.988143;stroke-linejoin:bevel\" id=\"circle965\" cx=\"58.266396\" cy=\"137.45695\" r=\"3.6994057\"/>\n",
       "    </g>\n",
       "    <ellipse style=\"fill:#ffffff;stroke:#000000;stroke-width:0.7;stroke-linejoin:bevel\" id=\"ellipse979\" cx=\"54.782269\" cy=\"101.64828\" rx=\"2.6233726\" ry=\"2.6179454\"/>\n",
       "    <ellipse style=\"fill:#ffffff;stroke:#000000;stroke-width:0.7;stroke-linejoin:bevel\" id=\"ellipse981\" cx=\"158.56105\" cy=\"77.746864\" rx=\"2.6233726\" ry=\"2.6179454\"/>\n",
       "    <path style=\"fill:none;stroke:#000000;stroke-width:0.264583px;stroke-linecap:butt;stroke-linejoin:miter;stroke-opacity:1;marker-end:url(#marker1315)\" d=\"M 40.369548,135.1759 V 51.078577\" id=\"path983\"/>\n",
       "    <path style=\"fill:none;stroke:#000000;stroke-width:0.265;stroke-linecap:butt;stroke-linejoin:miter;stroke-opacity:1;marker-end:url(#marker6515);stroke-miterlimit:4;stroke-dasharray:none\" d=\"M 40.369548,135.1759 H 228.62076\" id=\"path985\"/>\n",
       "    <text xml:space=\"preserve\" style=\"font-size:7.7611px;line-height:1.25;font-family:sans-serif;-inkscape-font-specification:sans-serif;stroke-width:0.264583\" x=\"35.393242\" y=\"144.05951\" id=\"text1349\"><tspan sodipodi:role=\"line\" id=\"tspan1347\" x=\"35.393242\" y=\"144.05951\" style=\"stroke-width:0.264583\">O<tspan style=\"font-size:65%;baseline-shift:sub\" id=\"tspan1357\">2</tspan></tspan></text>\n",
       "    <text xml:space=\"preserve\" style=\"font-size:7.7611px;line-height:1.25;font-family:sans-serif;-inkscape-font-specification:sans-serif;stroke-width:0.264583\" x=\"176.83255\" y=\"144.19574\" id=\"text1353\"><tspan sodipodi:role=\"line\" id=\"tspan1351\" x=\"176.83255\" y=\"144.19574\" style=\"stroke-width:0.264583\">O<tspan style=\"font-size:65%;baseline-shift:sub\" id=\"tspan1355\">4</tspan></tspan></text>\n",
       "    <path style=\"fill:none;stroke:#000000;stroke-width:0.264583;stroke-linecap:butt;stroke-linejoin:miter;stroke-miterlimit:4;stroke-dasharray:2.11666, 2.11666;stroke-dashoffset:0;stroke-opacity:1\" d=\"M 54.782267,101.64828 H 122.30559\" id=\"path1361\"/>\n",
       "    <path style=\"fill:none;stroke:#000000;stroke-width:0.264583px;stroke-linecap:butt;stroke-linejoin:miter;stroke-opacity:1;marker-end:url(#marker1375)\" d=\"m 92.906508,101.20302 c 1.255311,-2.244931 1.505398,-4.887335 -0.423056,-8.391146\" id=\"path1363\" sodipodi:nodetypes=\"cc\"/>\n",
       "    <path style=\"fill:none;stroke:#000000;stroke-width:0.264583px;stroke-linecap:butt;stroke-linejoin:miter;stroke-opacity:1;marker-end:url(#marker1421)\" d=\"m 204.02271,135.34302 c -4.19232,-18.1698 -15.68896,-26.44711 -33.03527,-26.802\" id=\"path1365\" sodipodi:nodetypes=\"cc\"/>\n",
       "    <text xml:space=\"preserve\" style=\"font-size:7.7611px;line-height:1.25;font-family:sans-serif;-inkscape-font-specification:sans-serif;stroke-width:0.264583\" x=\"49.927883\" y=\"95.975571\" id=\"text1491\"><tspan sodipodi:role=\"line\" id=\"tspan1489\" x=\"49.927883\" y=\"95.975571\" style=\"stroke-width:0.264583\">A</tspan></text>\n",
       "    <text xml:space=\"preserve\" style=\"font-size:7.7611px;line-height:1.25;font-family:sans-serif;-inkscape-font-specification:sans-serif;stroke-width:0.264583\" x=\"161.36201\" y=\"74.261124\" id=\"text1495\"><tspan sodipodi:role=\"line\" id=\"tspan1493\" x=\"161.36201\" y=\"74.261124\" style=\"stroke-width:0.264583\">B</tspan></text>\n",
       "    <path style=\"fill:none;stroke:#000000;stroke-width:0.265;stroke-linecap:butt;stroke-linejoin:miter;stroke-opacity:1;stroke-miterlimit:4;stroke-dasharray:none;marker-end:url(#Arrow1Lend)\" d=\"m 56.204278,135.14129 c 2.077105,-8.53864 -2.44765,-13.86104 -8.415155,-18.48058\" id=\"path1497\" sodipodi:nodetypes=\"cc\"/>\n",
       "    <g id=\"g1505\" style=\"stroke-width:0.5;stroke-miterlimit:4;stroke-dasharray:none\" transform=\"translate(-8.206898,52.364352)\">\n",
       "      <ellipse style=\"fill:#ffffff;stroke:#000000;stroke-width:0.5;stroke-linejoin:bevel;stroke-miterlimit:4;stroke-dasharray:none;stroke-dashoffset:0\" id=\"path1499\" cx=\"68.891159\" cy=\"69.23098\" rx=\"2.5376184\" ry=\"3.6255431\"/>\n",
       "      <path style=\"fill:none;stroke:#000000;stroke-width:0.5;stroke-linecap:butt;stroke-linejoin:miter;stroke-miterlimit:4;stroke-dasharray:none;stroke-opacity:1\" d=\"m 66.353541,69.23098 h 5.075235\" id=\"path1501\"/>\n",
       "    </g>\n",
       "    <g id=\"g1511\" style=\"stroke-width:0.5;stroke-miterlimit:4;stroke-dasharray:none\" transform=\"translate(130.65558,45.023542)\">\n",
       "      <ellipse style=\"fill:#ffffff;stroke:#000000;stroke-width:0.5;stroke-linejoin:bevel;stroke-miterlimit:4;stroke-dasharray:none;stroke-dashoffset:0\" id=\"ellipse1507\" cx=\"68.891159\" cy=\"69.23098\" rx=\"2.5376184\" ry=\"3.6255431\"/>\n",
       "      <path style=\"fill:none;stroke:#000000;stroke-width:0.5;stroke-linecap:butt;stroke-linejoin:miter;stroke-miterlimit:4;stroke-dasharray:none;stroke-opacity:1\" d=\"m 66.353541,69.23098 h 5.075235\" id=\"path1509\"/>\n",
       "    </g>\n",
       "    <g id=\"g1517\" style=\"stroke-width:0.5;stroke-miterlimit:4;stroke-dasharray:none\" transform=\"translate(31.43961,26.845584)\">\n",
       "      <ellipse style=\"fill:#ffffff;stroke:#000000;stroke-width:0.5;stroke-linejoin:bevel;stroke-miterlimit:4;stroke-dasharray:none;stroke-dashoffset:0\" id=\"ellipse1513\" cx=\"68.891159\" cy=\"69.23098\" rx=\"2.5376184\" ry=\"3.6255431\"/>\n",
       "      <path style=\"fill:none;stroke:#000000;stroke-width:0.5;stroke-linecap:butt;stroke-linejoin:miter;stroke-miterlimit:4;stroke-dasharray:none;stroke-opacity:1\" d=\"m 66.353541,69.23098 h 5.075235\" id=\"path1515\"/>\n",
       "    </g>\n",
       "    <text xml:space=\"preserve\" style=\"font-size:5.40149px;line-height:1.25;font-family:sans-serif;-inkscape-font-specification:sans-serif;stroke-width:0.264583\" x=\"63.598255\" y=\"127.6256\" id=\"text1521\"><tspan sodipodi:role=\"line\" id=\"tspan1519\" x=\"63.598255\" y=\"127.6256\" style=\"stroke-width:0.264583\">2</tspan></text>\n",
       "    <text xml:space=\"preserve\" style=\"font-size:5.40149px;line-height:1.25;font-family:sans-serif;-inkscape-font-specification:sans-serif;stroke-width:0.264583\" x=\"104.03602\" y=\"100.36676\" id=\"text1525\"><tspan sodipodi:role=\"line\" id=\"tspan1523\" x=\"104.03602\" y=\"100.36676\" style=\"stroke-width:0.264583\">3</tspan></text>\n",
       "    <text xml:space=\"preserve\" style=\"font-size:5.40149px;line-height:1.25;font-family:sans-serif;-inkscape-font-specification:sans-serif;stroke-width:0.264583\" x=\"202.49963\" y=\"120.12696\" id=\"text1529\"><tspan sodipodi:role=\"line\" id=\"tspan1527\" x=\"202.49963\" y=\"120.12696\" style=\"stroke-width:0.264583\">4</tspan></text>\n",
       "    <text xml:space=\"preserve\" style=\"font-size:7.7611px;line-height:1.25;font-family:sans-serif;-inkscape-font-specification:sans-serif;stroke-width:0.264583\" x=\"42.530609\" y=\"115.60754\" id=\"text1533\"><tspan sodipodi:role=\"line\" id=\"tspan1531\" x=\"42.530609\" y=\"115.60754\" style=\"stroke-width:0.264583\">2</tspan></text>\n",
       "    <text xml:space=\"preserve\" style=\"font-size:7.7611px;line-height:1.25;font-family:sans-serif;-inkscape-font-specification:sans-serif;stroke-width:0.264583\" x=\"99.787262\" y=\"86.235306\" id=\"text1537\"><tspan sodipodi:role=\"line\" id=\"tspan1535\" x=\"99.787262\" y=\"86.235306\" style=\"stroke-width:0.264583\">3</tspan></text>\n",
       "    <text xml:space=\"preserve\" style=\"font-size:7.7611px;line-height:1.25;font-family:sans-serif;-inkscape-font-specification:sans-serif;stroke-width:0.264583\" x=\"167.8152\" y=\"101.70832\" id=\"text1541\"><tspan sodipodi:role=\"line\" id=\"tspan1539\" x=\"167.8152\" y=\"101.70832\" style=\"stroke-width:0.264583\">4</tspan></text>\n",
       "    <text xml:space=\"preserve\" style=\"font-size:7.7611px;line-height:1.25;font-family:sans-serif;-inkscape-font-specification:sans-serif;stroke-width:0.264583\" x=\"224.21123\" y=\"144.24466\" id=\"text1545\"><tspan sodipodi:role=\"line\" id=\"tspan1543\" x=\"224.21123\" y=\"144.24466\" style=\"stroke-width:0.264583\">X</tspan></text>\n",
       "    <text xml:space=\"preserve\" style=\"font-size:7.7611px;line-height:1.25;font-family:sans-serif;-inkscape-font-specification:sans-serif;stroke-width:0.264583\" x=\"33.694336\" y=\"55.697205\" id=\"text1549\"><tspan sodipodi:role=\"line\" id=\"tspan1547\" x=\"33.694336\" y=\"55.697205\" style=\"stroke-width:0.264583\">Y</tspan></text>\n",
       "    <path style=\"fill:#ff0000;stroke:#ff0000;stroke-width:0.5;stroke-linecap:butt;stroke-linejoin:miter;stroke-opacity:1;stroke-miterlimit:4;stroke-dasharray:none;marker-end:url(#marker1764)\" d=\"M 40.63683,132.91881 53.380076,103.88287\" id=\"path1754\"/>\n",
       "    <path style=\"fill:#ff0000;stroke:#ff0000;stroke-width:0.5;stroke-linecap:butt;stroke-linejoin:miter;stroke-opacity:1;marker-end:url(#marker1824);stroke-miterlimit:4;stroke-dasharray:none\" d=\"M 57.195315,100.63326 155.89509,78.155476\" id=\"path1814\"/>\n",
       "    <path style=\"fill:#ff0000;stroke:#ff0000;stroke-width:0.5;stroke-linecap:butt;stroke-linejoin:miter;stroke-opacity:1;stroke-miterlimit:4;stroke-dasharray:none;marker-end:url(#marker5158)\" d=\"M 42.858994,135.20136 H 178.28424\" id=\"path1880\"/>\n",
       "    <path style=\"fill:#ff0000;stroke:#ff0000;stroke-width:0.5;stroke-linecap:butt;stroke-linejoin:miter;stroke-opacity:1;marker-end:url(#marker1962);stroke-miterlimit:4;stroke-dasharray:none\" d=\"M 180.81782,132.55552 159.6012,80.490898\" id=\"path1952\"/>\n",
       "    <text xml:space=\"preserve\" style=\"font-size:7.7611px;line-height:1.25;font-family:sans-serif;-inkscape-font-specification:sans-serif;stroke-width:0.264583;fill:#ff0000;\" x=\"46.783787\" y=\"124.74735\" id=\"text2566\"><tspan sodipodi:role=\"line\" id=\"tspan2564\" x=\"46.783787\" y=\"124.74735\" style=\"stroke-width:0.264583;fill:#ff0000;\">a</tspan></text>\n",
       "    <text xml:space=\"preserve\" style=\"font-size:7.7611px;line-height:1.25;font-family:sans-serif;-inkscape-font-specification:sans-serif;stroke-width:0.264583;fill:#ff0000;\" x=\"112.3205\" y=\"94.360733\" id=\"text2570\"><tspan sodipodi:role=\"line\" id=\"tspan2568\" x=\"112.3205\" y=\"94.360733\" style=\"stroke-width:0.264583;fill:#ff0000;\">b</tspan></text>\n",
       "    <text xml:space=\"preserve\" style=\"font-size:7.7611px;line-height:1.25;font-family:sans-serif;-inkscape-font-specification:sans-serif;fill:#ff0000;stroke-width:0.264583\" x=\"100.91211\" y=\"133.42999\" id=\"text2574\"><tspan sodipodi:role=\"line\" id=\"tspan2572\" x=\"100.91211\" y=\"133.42999\" style=\"fill:#ff0000;stroke-width:0.264583\">d</tspan></text>\n",
       "    <text xml:space=\"preserve\" style=\"font-size:7.7611px;line-height:1.25;font-family:sans-serif;-inkscape-font-specification:sans-serif;fill:#ff0000;stroke-width:0.264583\" x=\"163.30191\" y=\"107.71402\" id=\"text2578\"><tspan sodipodi:role=\"line\" id=\"tspan2576\" x=\"163.30191\" y=\"107.71402\" style=\"fill:#ff0000;stroke-width:0.264583\">c</tspan></text>\n",
       "  </g>\n",
       "</svg>"
      ],
      "text/plain": [
       "<IPython.core.display.SVG object>"
      ]
     },
     "execution_count": 74,
     "metadata": {},
     "output_type": "execute_result"
    }
   ],
   "source": [
    "SVG('figs4-6.svg')"
   ]
  },
  {
   "cell_type": "markdown",
   "metadata": {
    "slideshow": {
     "slide_type": "fragment"
    }
   },
   "source": [
    "$$ \\vec{R}_{AO_2} + \\vec{R}_{BA} - \\vec{R}_{BO_4} - \\vec{R}_{O_4O_2} = 0$$"
   ]
  },
  {
   "cell_type": "code",
   "execution_count": 75,
   "metadata": {
    "slideshow": {
     "slide_type": "fragment"
    }
   },
   "outputs": [],
   "source": [
    "a,b,c,d = symbols('a b c d')\n",
    "theta1,theta2,theta3,theta4 = symbols('theta1 theta2 theta3 theta4')"
   ]
  },
  {
   "cell_type": "code",
   "execution_count": 76,
   "metadata": {
    "slideshow": {
     "slide_type": "fragment"
    }
   },
   "outputs": [
    {
     "data": {
      "text/latex": [
       "$\\displaystyle a e^{i \\theta_{2}} + b e^{i \\theta_{3}} - c e^{i \\theta_{4}} - d e^{i \\theta_{1}}$"
      ],
      "text/plain": [
       "a*exp(I*theta2) + b*exp(I*theta3) - c*exp(I*theta4) - d*exp(I*theta1)"
      ]
     },
     "execution_count": 76,
     "metadata": {},
     "output_type": "execute_result"
    }
   ],
   "source": [
    "RAO2 = a*e**(i*theta2)\n",
    "RBA = b*e**(i*theta3)\n",
    "RBO4 = c*e**(i*theta4)\n",
    "RO4O2 = d*e**(i*theta1)\n",
    "Eq1 = RAO2 + RBA - RBO4 - RO4O2\n",
    "Eq1"
   ]
  },
  {
   "cell_type": "markdown",
   "metadata": {
    "slideshow": {
     "slide_type": "fragment"
    }
   },
   "source": [
    "Observa-se que $\\theta_1=0$:"
   ]
  },
  {
   "cell_type": "code",
   "execution_count": 77,
   "metadata": {
    "slideshow": {
     "slide_type": "fragment"
    }
   },
   "outputs": [
    {
     "data": {
      "text/latex": [
       "$\\displaystyle a e^{i \\theta_{2}} + b e^{i \\theta_{3}} - c e^{i \\theta_{4}} - d$"
      ],
      "text/plain": [
       "a*exp(I*theta2) + b*exp(I*theta3) - c*exp(I*theta4) - d"
      ]
     },
     "execution_count": 77,
     "metadata": {},
     "output_type": "execute_result"
    }
   ],
   "source": [
    "Eq1 = Eq1.subs(theta1,0)\n",
    "Eq1"
   ]
  },
  {
   "cell_type": "code",
   "execution_count": 78,
   "metadata": {
    "slideshow": {
     "slide_type": "fragment"
    }
   },
   "outputs": [],
   "source": [
    "id_euler = {e**(i*theta2):cos(theta2) + i*sin(theta2),\n",
    "              e**(i*theta3):cos(theta3) + i*sin(theta3),\n",
    "             e**(i*theta4):cos(theta4) + i*sin(theta4)}"
   ]
  },
  {
   "cell_type": "code",
   "execution_count": 79,
   "metadata": {
    "slideshow": {
     "slide_type": "fragment"
    }
   },
   "outputs": [
    {
     "data": {
      "text/latex": [
       "$\\displaystyle a \\left(i \\sin{\\left(\\theta_{2} \\right)} + \\cos{\\left(\\theta_{2} \\right)}\\right) + b \\left(i \\sin{\\left(\\theta_{3} \\right)} + \\cos{\\left(\\theta_{3} \\right)}\\right) - c \\left(i \\sin{\\left(\\theta_{4} \\right)} + \\cos{\\left(\\theta_{4} \\right)}\\right) - d$"
      ],
      "text/plain": [
       "a*(I*sin(theta2) + cos(theta2)) + b*(I*sin(theta3) + cos(theta3)) - c*(I*sin(theta4) + cos(theta4)) - d"
      ]
     },
     "execution_count": 79,
     "metadata": {},
     "output_type": "execute_result"
    }
   ],
   "source": [
    "Eq1 = Eq1.subs(id_euler)\n",
    "Eq1"
   ]
  },
  {
   "cell_type": "code",
   "execution_count": 80,
   "metadata": {
    "slideshow": {
     "slide_type": "fragment"
    }
   },
   "outputs": [
    {
     "data": {
      "text/latex": [
       "$\\displaystyle a \\cos{\\left(\\theta_{2} \\right)} + b \\cos{\\left(\\theta_{3} \\right)} - c \\cos{\\left(\\theta_{4} \\right)} - d$"
      ],
      "text/plain": [
       "a*cos(theta2) + b*cos(theta3) - c*cos(theta4) - d"
      ]
     },
     "execution_count": 80,
     "metadata": {},
     "output_type": "execute_result"
    }
   ],
   "source": [
    "Eq_real = a*cos(theta2) + b*cos(theta3) - c*cos(theta4) - d\n",
    "Eq_real"
   ]
  },
  {
   "cell_type": "code",
   "execution_count": 81,
   "metadata": {
    "slideshow": {
     "slide_type": "fragment"
    }
   },
   "outputs": [
    {
     "data": {
      "text/latex": [
       "$\\displaystyle a \\sin{\\left(\\theta_{2} \\right)} + b \\sin{\\left(\\theta_{3} \\right)} - c \\sin{\\left(\\theta_{4} \\right)}$"
      ],
      "text/plain": [
       "a*sin(theta2) + b*sin(theta3) - c*sin(theta4)"
      ]
     },
     "execution_count": 81,
     "metadata": {},
     "output_type": "execute_result"
    }
   ],
   "source": [
    "Eq_im = a*sin(theta2) + b*sin(theta3) - c*sin(theta4)\n",
    "Eq_im"
   ]
  },
  {
   "cell_type": "code",
   "execution_count": 82,
   "metadata": {
    "slideshow": {
     "slide_type": "fragment"
    }
   },
   "outputs": [
    {
     "data": {
      "text/latex": [
       "$\\displaystyle - a \\cos{\\left(\\theta_{2} \\right)} + c \\cos{\\left(\\theta_{4} \\right)} + d$"
      ],
      "text/plain": [
       "-a*cos(theta2) + c*cos(theta4) + d"
      ]
     },
     "execution_count": 82,
     "metadata": {},
     "output_type": "execute_result"
    }
   ],
   "source": [
    "bcostheta3 = solve(Eq_real,b*cos(theta3))[0]\n",
    "bcostheta3"
   ]
  },
  {
   "cell_type": "code",
   "execution_count": 83,
   "metadata": {
    "slideshow": {
     "slide_type": "fragment"
    }
   },
   "outputs": [
    {
     "data": {
      "text/latex": [
       "$\\displaystyle b \\cos{\\left(\\theta_{3} \\right)} = - a \\cos{\\left(\\theta_{2} \\right)} + c \\cos{\\left(\\theta_{4} \\right)} + d$"
      ],
      "text/plain": [
       "Eq(b*cos(theta3), -a*cos(theta2) + c*cos(theta4) + d)"
      ]
     },
     "execution_count": 83,
     "metadata": {},
     "output_type": "execute_result"
    }
   ],
   "source": [
    "Eq(b*cos(theta3),bcostheta3)"
   ]
  },
  {
   "cell_type": "code",
   "execution_count": 84,
   "metadata": {
    "slideshow": {
     "slide_type": "fragment"
    }
   },
   "outputs": [
    {
     "data": {
      "text/latex": [
       "$\\displaystyle - a \\sin{\\left(\\theta_{2} \\right)} + c \\sin{\\left(\\theta_{4} \\right)}$"
      ],
      "text/plain": [
       "-a*sin(theta2) + c*sin(theta4)"
      ]
     },
     "execution_count": 84,
     "metadata": {},
     "output_type": "execute_result"
    }
   ],
   "source": [
    "bsentheta3 = solve(Eq_im,b*sin(theta3))[0]\n",
    "bsentheta3"
   ]
  },
  {
   "cell_type": "code",
   "execution_count": 85,
   "metadata": {
    "slideshow": {
     "slide_type": "fragment"
    }
   },
   "outputs": [
    {
     "data": {
      "text/latex": [
       "$\\displaystyle b \\sin{\\left(\\theta_{3} \\right)} = - a \\sin{\\left(\\theta_{2} \\right)} + c \\sin{\\left(\\theta_{4} \\right)}$"
      ],
      "text/plain": [
       "Eq(b*sin(theta3), -a*sin(theta2) + c*sin(theta4))"
      ]
     },
     "execution_count": 85,
     "metadata": {},
     "output_type": "execute_result"
    }
   ],
   "source": [
    "Eq(b*sin(theta3),bsentheta3)"
   ]
  },
  {
   "cell_type": "code",
   "execution_count": 86,
   "metadata": {
    "slideshow": {
     "slide_type": "fragment"
    }
   },
   "outputs": [
    {
     "data": {
      "text/latex": [
       "$\\displaystyle \\left(- a \\sin{\\left(\\theta_{2} \\right)} + c \\sin{\\left(\\theta_{4} \\right)}\\right)^{2} + \\left(- a \\cos{\\left(\\theta_{2} \\right)} + c \\cos{\\left(\\theta_{4} \\right)} + d\\right)^{2}$"
      ],
      "text/plain": [
       "(-a*sin(theta2) + c*sin(theta4))**2 + (-a*cos(theta2) + c*cos(theta4) + d)**2"
      ]
     },
     "execution_count": 86,
     "metadata": {},
     "output_type": "execute_result"
    }
   ],
   "source": [
    "b2 = bcostheta3**2 + bsentheta3**2\n",
    "b2"
   ]
  },
  {
   "cell_type": "code",
   "execution_count": 87,
   "metadata": {
    "slideshow": {
     "slide_type": "fragment"
    }
   },
   "outputs": [
    {
     "data": {
      "text/latex": [
       "$\\displaystyle b^{2} = \\left(- a \\sin{\\left(\\theta_{2} \\right)} + c \\sin{\\left(\\theta_{4} \\right)}\\right)^{2} + \\left(- a \\cos{\\left(\\theta_{2} \\right)} + c \\cos{\\left(\\theta_{4} \\right)} + d\\right)^{2}$"
      ],
      "text/plain": [
       "Eq(b**2, (-a*sin(theta2) + c*sin(theta4))**2 + (-a*cos(theta2) + c*cos(theta4) + d)**2)"
      ]
     },
     "execution_count": 87,
     "metadata": {},
     "output_type": "execute_result"
    }
   ],
   "source": [
    "Eq(b**2,b2)"
   ]
  },
  {
   "cell_type": "markdown",
   "metadata": {
    "slideshow": {
     "slide_type": "fragment"
    }
   },
   "source": [
    "Reorganizando: \n"
   ]
  },
  {
   "cell_type": "code",
   "execution_count": 88,
   "metadata": {
    "slideshow": {
     "slide_type": "fragment"
    }
   },
   "outputs": [
    {
     "data": {
      "text/latex": [
       "$\\displaystyle a^{2} \\sin^{2}{\\left(\\theta_{2} \\right)} + a^{2} \\cos^{2}{\\left(\\theta_{2} \\right)} - 2 a c \\sin{\\left(\\theta_{2} \\right)} \\sin{\\left(\\theta_{4} \\right)} - 2 a c \\cos{\\left(\\theta_{2} \\right)} \\cos{\\left(\\theta_{4} \\right)} - 2 a d \\cos{\\left(\\theta_{2} \\right)} - b^{2} + c^{2} \\sin^{2}{\\left(\\theta_{4} \\right)} + c^{2} \\cos^{2}{\\left(\\theta_{4} \\right)} + 2 c d \\cos{\\left(\\theta_{4} \\right)} + d^{2}$"
      ],
      "text/plain": [
       "a**2*sin(theta2)**2 + a**2*cos(theta2)**2 - 2*a*c*sin(theta2)*sin(theta4) - 2*a*c*cos(theta2)*cos(theta4) - 2*a*d*cos(theta2) - b**2 + c**2*sin(theta4)**2 + c**2*cos(theta4)**2 + 2*c*d*cos(theta4) + d**2"
      ]
     },
     "execution_count": 88,
     "metadata": {},
     "output_type": "execute_result"
    }
   ],
   "source": [
    "Eq2 = b2.expand() - b**2\n",
    "Eq2"
   ]
  },
  {
   "cell_type": "markdown",
   "metadata": {
    "slideshow": {
     "slide_type": "fragment"
    }
   },
   "source": [
    "Teremos que utilizar uma identidade trigonométrica conhecida como *meia identidade dos ângulos*:\n",
    "$$ sen \\theta_4 = \\dfrac{2 tan \\left( \\dfrac{\\theta_4}{2} \\right)}{1 + tan^2 \\left( \\dfrac{\\theta_4}{2} \\right)} \\qquad cos \\theta_4 = \\dfrac{1 - tan^2 \\left( \\dfrac{\\theta_4}{2} \\right)}{1 + tan^2 \\left( \\dfrac{\\theta_4}{2} \\right)} $$"
   ]
  },
  {
   "cell_type": "code",
   "execution_count": 89,
   "metadata": {
    "slideshow": {
     "slide_type": "fragment"
    }
   },
   "outputs": [],
   "source": [
    "mida = {sin(theta4):(2*tan(theta4/2))/(1+(tan(theta4/2))**2),\n",
    "        cos(theta4):(1-(tan(theta4/2))**2)/(1 +(tan(theta4/2))**2 )}"
   ]
  },
  {
   "cell_type": "code",
   "execution_count": 90,
   "metadata": {
    "scrolled": true,
    "slideshow": {
     "slide_type": "fragment"
    }
   },
   "outputs": [
    {
     "data": {
      "text/latex": [
       "$\\displaystyle a^{2} \\sin^{2}{\\left(\\theta_{2} \\right)} + a^{2} \\cos^{2}{\\left(\\theta_{2} \\right)} - \\frac{2 a c \\left(1 - \\tan^{2}{\\left(\\frac{\\theta_{4}}{2} \\right)}\\right) \\cos{\\left(\\theta_{2} \\right)}}{\\tan^{2}{\\left(\\frac{\\theta_{4}}{2} \\right)} + 1} - \\frac{4 a c \\sin{\\left(\\theta_{2} \\right)} \\tan{\\left(\\frac{\\theta_{4}}{2} \\right)}}{\\tan^{2}{\\left(\\frac{\\theta_{4}}{2} \\right)} + 1} - 2 a d \\cos{\\left(\\theta_{2} \\right)} - b^{2} + \\frac{c^{2} \\left(1 - \\tan^{2}{\\left(\\frac{\\theta_{4}}{2} \\right)}\\right)^{2}}{\\left(\\tan^{2}{\\left(\\frac{\\theta_{4}}{2} \\right)} + 1\\right)^{2}} + \\frac{4 c^{2} \\tan^{2}{\\left(\\frac{\\theta_{4}}{2} \\right)}}{\\left(\\tan^{2}{\\left(\\frac{\\theta_{4}}{2} \\right)} + 1\\right)^{2}} + \\frac{2 c d \\left(1 - \\tan^{2}{\\left(\\frac{\\theta_{4}}{2} \\right)}\\right)}{\\tan^{2}{\\left(\\frac{\\theta_{4}}{2} \\right)} + 1} + d^{2}$"
      ],
      "text/plain": [
       "a**2*sin(theta2)**2 + a**2*cos(theta2)**2 - 2*a*c*(1 - tan(theta4/2)**2)*cos(theta2)/(tan(theta4/2)**2 + 1) - 4*a*c*sin(theta2)*tan(theta4/2)/(tan(theta4/2)**2 + 1) - 2*a*d*cos(theta2) - b**2 + c**2*(1 - tan(theta4/2)**2)**2/(tan(theta4/2)**2 + 1)**2 + 4*c**2*tan(theta4/2)**2/(tan(theta4/2)**2 + 1)**2 + 2*c*d*(1 - tan(theta4/2)**2)/(tan(theta4/2)**2 + 1) + d**2"
      ]
     },
     "execution_count": 90,
     "metadata": {},
     "output_type": "execute_result"
    }
   ],
   "source": [
    "Eq3 = Eq2.subs(mida)\n",
    "Eq3 "
   ]
  },
  {
   "cell_type": "code",
   "execution_count": 91,
   "metadata": {
    "slideshow": {
     "slide_type": "fragment"
    }
   },
   "outputs": [
    {
     "data": {
      "text/latex": [
       "$\\displaystyle \\frac{c^{2} \\left(4 x^{2} + \\left(x^{2} - 1\\right)^{2}\\right) + 2 c \\left(x^{2} + 1\\right) \\left(- 2 a x \\sin{\\left(\\theta_{2} \\right)} + a \\left(x^{2} - 1\\right) \\cos{\\left(\\theta_{2} \\right)} - d \\left(x^{2} - 1\\right)\\right) + \\left(x^{2} + 1\\right)^{2} \\left(a^{2} - 2 a d \\cos{\\left(\\theta_{2} \\right)} - b^{2} + d^{2}\\right)}{\\left(x^{2} + 1\\right)^{2}}$"
      ],
      "text/plain": [
       "(c**2*(4*x**2 + (x**2 - 1)**2) + 2*c*(x**2 + 1)*(-2*a*x*sin(theta2) + a*(x**2 - 1)*cos(theta2) - d*(x**2 - 1)) + (x**2 + 1)**2*(a**2 - 2*a*d*cos(theta2) - b**2 + d**2))/(x**2 + 1)**2"
      ]
     },
     "execution_count": 91,
     "metadata": {},
     "output_type": "execute_result"
    }
   ],
   "source": [
    "x = symbols('x')\n",
    "Eq4 = Eq3.subs(tan(theta4/2),x)\n",
    "Eq4 = Eq4.simplify()\n",
    "Eq4"
   ]
  },
  {
   "cell_type": "code",
   "execution_count": 92,
   "metadata": {
    "slideshow": {
     "slide_type": "fragment"
    }
   },
   "outputs": [],
   "source": [
    "sol = solve(Eq4,x)"
   ]
  },
  {
   "cell_type": "code",
   "execution_count": 93,
   "metadata": {
    "slideshow": {
     "slide_type": "fragment"
    }
   },
   "outputs": [
    {
     "data": {
      "text/latex": [
       "$\\displaystyle \\frac{2 a c \\sin{\\left(\\theta_{2} \\right)} - \\sqrt{- a^{4} + 4 a^{3} d \\cos{\\left(\\theta_{2} \\right)} + 2 a^{2} b^{2} + 4 a^{2} c^{2} \\sin^{2}{\\left(\\theta_{2} \\right)} + 4 a^{2} c^{2} \\cos^{2}{\\left(\\theta_{2} \\right)} - 2 a^{2} c^{2} - 4 a^{2} d^{2} \\cos^{2}{\\left(\\theta_{2} \\right)} - 2 a^{2} d^{2} - 4 a b^{2} d \\cos{\\left(\\theta_{2} \\right)} - 4 a c^{2} d \\cos{\\left(\\theta_{2} \\right)} + 4 a d^{3} \\cos{\\left(\\theta_{2} \\right)} - b^{4} + 2 b^{2} c^{2} + 2 b^{2} d^{2} - c^{4} + 2 c^{2} d^{2} - d^{4}}}{a^{2} + 2 a c \\cos{\\left(\\theta_{2} \\right)} - 2 a d \\cos{\\left(\\theta_{2} \\right)} - b^{2} + c^{2} - 2 c d + d^{2}}$"
      ],
      "text/plain": [
       "(2*a*c*sin(theta2) - sqrt(-a**4 + 4*a**3*d*cos(theta2) + 2*a**2*b**2 + 4*a**2*c**2*sin(theta2)**2 + 4*a**2*c**2*cos(theta2)**2 - 2*a**2*c**2 - 4*a**2*d**2*cos(theta2)**2 - 2*a**2*d**2 - 4*a*b**2*d*cos(theta2) - 4*a*c**2*d*cos(theta2) + 4*a*d**3*cos(theta2) - b**4 + 2*b**2*c**2 + 2*b**2*d**2 - c**4 + 2*c**2*d**2 - d**4))/(a**2 + 2*a*c*cos(theta2) - 2*a*d*cos(theta2) - b**2 + c**2 - 2*c*d + d**2)"
      ]
     },
     "execution_count": 93,
     "metadata": {},
     "output_type": "execute_result"
    }
   ],
   "source": [
    "sol[0]"
   ]
  },
  {
   "cell_type": "code",
   "execution_count": 94,
   "metadata": {
    "slideshow": {
     "slide_type": "fragment"
    }
   },
   "outputs": [
    {
     "data": {
      "text/latex": [
       "$\\displaystyle \\frac{2 a c \\sin{\\left(\\theta_{2} \\right)} + \\sqrt{- a^{4} + 4 a^{3} d \\cos{\\left(\\theta_{2} \\right)} + 2 a^{2} b^{2} + 4 a^{2} c^{2} \\sin^{2}{\\left(\\theta_{2} \\right)} + 4 a^{2} c^{2} \\cos^{2}{\\left(\\theta_{2} \\right)} - 2 a^{2} c^{2} - 4 a^{2} d^{2} \\cos^{2}{\\left(\\theta_{2} \\right)} - 2 a^{2} d^{2} - 4 a b^{2} d \\cos{\\left(\\theta_{2} \\right)} - 4 a c^{2} d \\cos{\\left(\\theta_{2} \\right)} + 4 a d^{3} \\cos{\\left(\\theta_{2} \\right)} - b^{4} + 2 b^{2} c^{2} + 2 b^{2} d^{2} - c^{4} + 2 c^{2} d^{2} - d^{4}}}{a^{2} + 2 a c \\cos{\\left(\\theta_{2} \\right)} - 2 a d \\cos{\\left(\\theta_{2} \\right)} - b^{2} + c^{2} - 2 c d + d^{2}}$"
      ],
      "text/plain": [
       "(2*a*c*sin(theta2) + sqrt(-a**4 + 4*a**3*d*cos(theta2) + 2*a**2*b**2 + 4*a**2*c**2*sin(theta2)**2 + 4*a**2*c**2*cos(theta2)**2 - 2*a**2*c**2 - 4*a**2*d**2*cos(theta2)**2 - 2*a**2*d**2 - 4*a*b**2*d*cos(theta2) - 4*a*c**2*d*cos(theta2) + 4*a*d**3*cos(theta2) - b**4 + 2*b**2*c**2 + 2*b**2*d**2 - c**4 + 2*c**2*d**2 - d**4))/(a**2 + 2*a*c*cos(theta2) - 2*a*d*cos(theta2) - b**2 + c**2 - 2*c*d + d**2)"
      ]
     },
     "execution_count": 94,
     "metadata": {},
     "output_type": "execute_result"
    }
   ],
   "source": [
    "sol[1]"
   ]
  },
  {
   "cell_type": "code",
   "execution_count": 95,
   "metadata": {
    "scrolled": true,
    "slideshow": {
     "slide_type": "fragment"
    }
   },
   "outputs": [
    {
     "data": {
      "text/latex": [
       "$\\displaystyle 2 \\operatorname{atan}{\\left(\\frac{2 a c \\sin{\\left(\\theta_{2} \\right)} - \\sqrt{- a^{4} + 4 a^{3} d \\cos{\\left(\\theta_{2} \\right)} + 2 a^{2} b^{2} + 4 a^{2} c^{2} \\sin^{2}{\\left(\\theta_{2} \\right)} + 4 a^{2} c^{2} \\cos^{2}{\\left(\\theta_{2} \\right)} - 2 a^{2} c^{2} - 4 a^{2} d^{2} \\cos^{2}{\\left(\\theta_{2} \\right)} - 2 a^{2} d^{2} - 4 a b^{2} d \\cos{\\left(\\theta_{2} \\right)} - 4 a c^{2} d \\cos{\\left(\\theta_{2} \\right)} + 4 a d^{3} \\cos{\\left(\\theta_{2} \\right)} - b^{4} + 2 b^{2} c^{2} + 2 b^{2} d^{2} - c^{4} + 2 c^{2} d^{2} - d^{4}}}{a^{2} + 2 a c \\cos{\\left(\\theta_{2} \\right)} - 2 a d \\cos{\\left(\\theta_{2} \\right)} - b^{2} + c^{2} - 2 c d + d^{2}} \\right)}$"
      ],
      "text/plain": [
       "2*atan((2*a*c*sin(theta2) - sqrt(-a**4 + 4*a**3*d*cos(theta2) + 2*a**2*b**2 + 4*a**2*c**2*sin(theta2)**2 + 4*a**2*c**2*cos(theta2)**2 - 2*a**2*c**2 - 4*a**2*d**2*cos(theta2)**2 - 2*a**2*d**2 - 4*a*b**2*d*cos(theta2) - 4*a*c**2*d*cos(theta2) + 4*a*d**3*cos(theta2) - b**4 + 2*b**2*c**2 + 2*b**2*d**2 - c**4 + 2*c**2*d**2 - d**4))/(a**2 + 2*a*c*cos(theta2) - 2*a*d*cos(theta2) - b**2 + c**2 - 2*c*d + d**2))"
      ]
     },
     "execution_count": 95,
     "metadata": {},
     "output_type": "execute_result"
    }
   ],
   "source": [
    "theta4_1 = 2*atan(sol[0])\n",
    "theta4_1"
   ]
  },
  {
   "cell_type": "code",
   "execution_count": 96,
   "metadata": {
    "scrolled": true,
    "slideshow": {
     "slide_type": "fragment"
    }
   },
   "outputs": [
    {
     "data": {
      "text/plain": [
       "{a: 10, b: 15, c: 15, d: 10, theta2: pi/6}"
      ]
     },
     "execution_count": 96,
     "metadata": {},
     "output_type": "execute_result"
    }
   ],
   "source": [
    "dic1"
   ]
  },
  {
   "cell_type": "code",
   "execution_count": 97,
   "metadata": {
    "slideshow": {
     "slide_type": "fragment"
    }
   },
   "outputs": [
    {
     "data": {
      "text/latex": [
       "$\\displaystyle 0.435213273165934$"
      ],
      "text/plain": [
       "0.435213273165934"
      ]
     },
     "execution_count": 97,
     "metadata": {},
     "output_type": "execute_result"
    }
   ],
   "source": [
    "theta4_1.subs(dic1).evalf()"
   ]
  },
  {
   "cell_type": "markdown",
   "metadata": {
    "slideshow": {
     "slide_type": "fragment"
    }
   },
   "source": [
    "Para obter $\\theta_3$ devemos proceder de maneira similar."
   ]
  },
  {
   "cell_type": "markdown",
   "metadata": {
    "slideshow": {
     "slide_type": "slide"
    }
   },
   "source": [
    "## 4.6 Solução para Análise de Posições no Mecanismo Biela-Manivela"
   ]
  },
  {
   "cell_type": "markdown",
   "metadata": {
    "slideshow": {
     "slide_type": "subslide"
    }
   },
   "source": [
    "A mesma análise feita para o vetor laço utilizada para a junta pinada de quatro barras pode ser aplicada ao mecanismo."
   ]
  },
  {
   "cell_type": "code",
   "execution_count": 98,
   "metadata": {
    "slideshow": {
     "slide_type": "fragment"
    }
   },
   "outputs": [
    {
     "data": {
      "image/svg+xml": [
       "<svg xmlns:dc=\"http://purl.org/dc/elements/1.1/\" xmlns:cc=\"http://creativecommons.org/ns#\" xmlns:rdf=\"http://www.w3.org/1999/02/22-rdf-syntax-ns#\" xmlns:svg=\"http://www.w3.org/2000/svg\" xmlns=\"http://www.w3.org/2000/svg\" xmlns:sodipodi=\"http://sodipodi.sourceforge.net/DTD/sodipodi-0.dtd\" xmlns:inkscape=\"http://www.inkscape.org/namespaces/inkscape\" width=\"226.9158mm\" height=\"128.22804mm\" viewBox=\"0 0 226.9158 128.22804\" version=\"1.1\" id=\"svg8\" sodipodi:docname=\"figs4-8.svg\" inkscape:version=\"1.0.1 (3bc2e813f5, 2020-09-07)\">\n",
       "  <defs id=\"defs2\">\n",
       "    <marker style=\"overflow:visible;\" id=\"marker5535\" refX=\"0.0\" refY=\"0.0\" orient=\"auto\" inkscape:stockid=\"Arrow1Lend\" inkscape:isstock=\"true\">\n",
       "      <path transform=\"scale(0.8) rotate(180) translate(12.5,0)\" style=\"fill-rule:evenodd;stroke:#000000;stroke-width:1pt;stroke-opacity:1;fill:#000000;fill-opacity:1\" d=\"M 0.0,0.0 L 5.0,-5.0 L -12.5,0.0 L 5.0,5.0 L 0.0,0.0 z \" id=\"path5533\"/>\n",
       "    </marker>\n",
       "    <marker style=\"overflow:visible\" id=\"marker5423\" refX=\"0.0\" refY=\"0.0\" orient=\"auto\" inkscape:stockid=\"Arrow1Lstart\" inkscape:isstock=\"true\">\n",
       "      <path transform=\"scale(0.8) translate(12.5,0)\" style=\"fill-rule:evenodd;stroke:#000000;stroke-width:1pt;stroke-opacity:1;fill:#000000;fill-opacity:1\" d=\"M 0.0,0.0 L 5.0,-5.0 L -12.5,0.0 L 5.0,5.0 L 0.0,0.0 z \" id=\"path5421\"/>\n",
       "    </marker>\n",
       "    <marker style=\"overflow:visible;\" id=\"Arrow1Lend\" refX=\"0.0\" refY=\"0.0\" orient=\"auto\" inkscape:stockid=\"Arrow1Lend\" inkscape:isstock=\"true\">\n",
       "      <path transform=\"scale(0.8) rotate(180) translate(12.5,0)\" style=\"fill-rule:evenodd;stroke:#000000;stroke-width:1pt;stroke-opacity:1;fill:#000000;fill-opacity:1\" d=\"M 0.0,0.0 L 5.0,-5.0 L -12.5,0.0 L 5.0,5.0 L 0.0,0.0 z \" id=\"path939\"/>\n",
       "    </marker>\n",
       "    <marker style=\"overflow:visible\" id=\"marker5255\" refX=\"0\" refY=\"0\" orient=\"auto\" inkscape:stockid=\"Arrow1Lend\" inkscape:isstock=\"true\">\n",
       "      <path transform=\"matrix(-0.8,0,0,-0.8,-10,0)\" style=\"fill:#000000;fill-opacity:1;fill-rule:evenodd;stroke:#000000;stroke-width:1pt;stroke-opacity:1\" d=\"M 0,0 5,-5 -12.5,0 5,5 Z\" id=\"path5253\"/>\n",
       "    </marker>\n",
       "    <marker style=\"overflow:visible\" id=\"Arrow1Sstart\" refX=\"0.0\" refY=\"0.0\" orient=\"auto\" inkscape:stockid=\"Arrow1Sstart\" inkscape:isstock=\"true\">\n",
       "      <path transform=\"scale(0.2) translate(6,0)\" style=\"fill-rule:evenodd;stroke:#000000;stroke-width:1pt;stroke-opacity:1;fill:#000000;fill-opacity:1\" d=\"M 0.0,0.0 L 5.0,-5.0 L -12.5,0.0 L 5.0,5.0 L 0.0,0.0 z \" id=\"path948\"/>\n",
       "    </marker>\n",
       "    <marker style=\"overflow:visible\" id=\"marker1664\" refX=\"0\" refY=\"0\" orient=\"auto\" inkscape:stockid=\"Arrow1Lend\" inkscape:isstock=\"true\" inkscape:collect=\"always\">\n",
       "      <path transform=\"matrix(-0.8,0,0,-0.8,-10,0)\" style=\"fill:#000000;fill-opacity:1;fill-rule:evenodd;stroke:#000000;stroke-width:1pt;stroke-opacity:1\" d=\"M 0,0 5,-5 -12.5,0 5,5 Z\" id=\"path1662\"/>\n",
       "    </marker>\n",
       "    <marker style=\"overflow:visible\" id=\"marker1590\" refX=\"0\" refY=\"0\" orient=\"auto\" inkscape:stockid=\"Arrow1Lend\" inkscape:isstock=\"true\" inkscape:collect=\"always\">\n",
       "      <path transform=\"matrix(-0.8,0,0,-0.8,-10,0)\" style=\"fill:#000000;fill-opacity:1;fill-rule:evenodd;stroke:#000000;stroke-width:1pt;stroke-opacity:1\" d=\"M 0,0 5,-5 -12.5,0 5,5 Z\" id=\"path1588\"/>\n",
       "    </marker>\n",
       "    <marker style=\"overflow:visible\" id=\"marker1524\" refX=\"0\" refY=\"0\" orient=\"auto\" inkscape:stockid=\"Arrow1Lend\" inkscape:isstock=\"true\" inkscape:collect=\"always\">\n",
       "      <path transform=\"matrix(-0.8,0,0,-0.8,-10,0)\" style=\"fill:#000000;fill-opacity:1;fill-rule:evenodd;stroke:#000000;stroke-width:1pt;stroke-opacity:1\" d=\"M 0,0 5,-5 -12.5,0 5,5 Z\" id=\"path1522\"/>\n",
       "    </marker>\n",
       "    <marker style=\"overflow:visible\" id=\"marker1424\" refX=\"0\" refY=\"0\" orient=\"auto\" inkscape:stockid=\"Arrow1Lend\" inkscape:isstock=\"true\" inkscape:collect=\"always\">\n",
       "      <path transform=\"matrix(-0.8,0,0,-0.8,-10,0)\" style=\"fill:#000000;fill-opacity:1;fill-rule:evenodd;stroke:#000000;stroke-width:1pt;stroke-opacity:1\" d=\"M 0,0 5,-5 -12.5,0 5,5 Z\" id=\"path1422\"/>\n",
       "    </marker>\n",
       "    <marker style=\"overflow:visible\" id=\"marker1370\" refX=\"0\" refY=\"0\" orient=\"auto\" inkscape:stockid=\"Arrow1Lend\" inkscape:isstock=\"true\" inkscape:collect=\"always\">\n",
       "      <path transform=\"matrix(-0.8,0,0,-0.8,-10,0)\" style=\"fill:#000000;fill-opacity:1;fill-rule:evenodd;stroke:#000000;stroke-width:1pt;stroke-opacity:1\" d=\"M 0,0 5,-5 -12.5,0 5,5 Z\" id=\"path1368\"/>\n",
       "    </marker>\n",
       "    <marker style=\"overflow:visible\" id=\"marker1322\" refX=\"0\" refY=\"0\" orient=\"auto\" inkscape:stockid=\"Arrow1Lend\" inkscape:isstock=\"true\" inkscape:collect=\"always\">\n",
       "      <path transform=\"matrix(-0.8,0,0,-0.8,-10,0)\" style=\"fill:#000000;fill-opacity:1;fill-rule:evenodd;stroke:#000000;stroke-width:1pt;stroke-opacity:1\" d=\"M 0,0 5,-5 -12.5,0 5,5 Z\" id=\"path1320\"/>\n",
       "    </marker>\n",
       "    <marker style=\"overflow:visible\" id=\"marker1282\" refX=\"0\" refY=\"0\" orient=\"auto\" inkscape:stockid=\"Arrow1Lend\" inkscape:isstock=\"true\" inkscape:collect=\"always\">\n",
       "      <path transform=\"matrix(-0.8,0,0,-0.8,-10,0)\" style=\"fill:#000000;fill-opacity:1;fill-rule:evenodd;stroke:#000000;stroke-width:1pt;stroke-opacity:1\" d=\"M 0,0 5,-5 -12.5,0 5,5 Z\" id=\"path1280\"/>\n",
       "    </marker>\n",
       "    <marker style=\"overflow:visible\" id=\"Arrow1Lstart\" refX=\"0\" refY=\"0\" orient=\"auto\" inkscape:stockid=\"Arrow1Lstart\" inkscape:isstock=\"true\">\n",
       "      <path transform=\"matrix(0.8,0,0,0.8,10,0)\" style=\"fill:#000000;fill-opacity:1;fill-rule:evenodd;stroke:#000000;stroke-width:1pt;stroke-opacity:1\" d=\"M 0,0 5,-5 -12.5,0 5,5 Z\" id=\"path936\"/>\n",
       "    </marker>\n",
       "  </defs>\n",
       "  <sodipodi:namedview id=\"base\" pagecolor=\"#ffffff\" bordercolor=\"#666666\" borderopacity=\"1.0\" inkscape:pageopacity=\"0.0\" inkscape:pageshadow=\"2\" inkscape:zoom=\"0.9899495\" inkscape:cx=\"449.16674\" inkscape:cy=\"223.52649\" inkscape:document-units=\"mm\" inkscape:current-layer=\"layer9\" inkscape:document-rotation=\"0\" showgrid=\"false\" showborder=\"false\" inkscape:snap-object-midpoints=\"true\" showguides=\"true\" inkscape:guide-bbox=\"true\" inkscape:snap-smooth-nodes=\"false\" inkscape:window-width=\"1920\" inkscape:window-height=\"1017\" inkscape:window-x=\"-8\" inkscape:window-y=\"-8\" inkscape:window-maximized=\"1\" inkscape:snap-nodes=\"false\"/>\n",
       "  <metadata id=\"metadata5\">\n",
       "    <rdf:RDF>\n",
       "      <cc:Work rdf:about=\"\">\n",
       "        <dc:format>image/svg+xml</dc:format>\n",
       "        <dc:type rdf:resource=\"http://purl.org/dc/dcmitype/StillImage\"/>\n",
       "        <dc:title/>\n",
       "      </cc:Work>\n",
       "    </rdf:RDF>\n",
       "  </metadata>\n",
       "  <g inkscape:groupmode=\"layer\" id=\"layer9\" inkscape:label=\"Layer 2\">\n",
       "    <rect style=\"fill:#ffffff;stroke:#ffffff;stroke-width:0.865\" id=\"rect6862\" width=\"246.68977\" height=\"137.10927\" x=\"-5.6126599\" y=\"-5.6126595\"/>\n",
       "  </g>\n",
       "  <g inkscape:label=\"Layer 1\" inkscape:groupmode=\"layer\" id=\"layer1\" transform=\"translate(-68.702751,-59.104087)\">\n",
       "    <path id=\"path839\" style=\"fill:#ffffff;stroke:#000000;stroke-width:0.7;stroke-linejoin:bevel;stroke-miterlimit:4;stroke-dasharray:none\" d=\"m 96.957401,150.90931 a 8.2866174,8.2852108 0 0 0 -8.270837,8.28521 8.2866174,8.2852108 0 0 0 0,0.0158 v 14.48333 H 105.2598 v -14.49914 a 8.2866174,8.2852108 0 0 0 -8.286618,-8.28521 8.2866174,8.2852108 0 0 0 -0.01578,0 z\"/>\n",
       "    <path style=\"fill:none;stroke:#000000;stroke-width:0.7;stroke-linecap:butt;stroke-linejoin:miter;stroke-miterlimit:4;stroke-dasharray:none;stroke-opacity:1\" d=\"M 69.005847,173.69363 H 129.08382\" id=\"path850\"/>\n",
       "    <path style=\"fill:none;stroke:#000000;stroke-width:0.7;stroke-linecap:butt;stroke-linejoin:miter;stroke-miterlimit:4;stroke-dasharray:none;stroke-opacity:1\" d=\"m 69.005847,173.69363 7.774457,13.46347\" id=\"path852\"/>\n",
       "    <path style=\"fill:none;stroke:#000000;stroke-width:0.7;stroke-linecap:butt;stroke-linejoin:miter;stroke-miterlimit:4;stroke-dasharray:none;stroke-opacity:1\" d=\"m 82.678775,173.69363 7.774457,13.46347\" id=\"path854\"/>\n",
       "    <path style=\"fill:none;stroke:#000000;stroke-width:0.7;stroke-linecap:butt;stroke-linejoin:miter;stroke-miterlimit:4;stroke-dasharray:none;stroke-opacity:1\" d=\"m 95.937372,173.69363 7.774458,13.46347\" id=\"path856\"/>\n",
       "    <path style=\"fill:none;stroke:#000000;stroke-width:0.7;stroke-linecap:butt;stroke-linejoin:miter;stroke-miterlimit:4;stroke-dasharray:none;stroke-opacity:1\" d=\"m 109.6103,173.69363 7.77446,13.46347\" id=\"path858\"/>\n",
       "    <path style=\"fill:none;stroke:#000000;stroke-width:0.7;stroke-linecap:butt;stroke-linejoin:miter;stroke-miterlimit:4;stroke-dasharray:none;stroke-opacity:1\" d=\"m 123.28323,173.69363 7.77446,13.46347\" id=\"path860\"/>\n",
       "    <ellipse style=\"fill:#ffffff;stroke:#000000;stroke-width:0.7;stroke-linejoin:bevel\" id=\"path1592\" cx=\"97.018646\" cy=\"159.09558\" rx=\"2.8965883\" ry=\"2.8960967\"/>\n",
       "    <g id=\"g932\" transform=\"matrix(0.7829875,0,0,0.78285459,196.20944,-45.77317)\" style=\"stroke-width:1.27727\">\n",
       "      <path style=\"fill:none;stroke:#000000;stroke-width:0.894088;stroke-linecap:butt;stroke-linejoin:miter;stroke-miterlimit:4;stroke-dasharray:none;stroke-opacity:1\" d=\"M 12.658886,206.80346 H 89.388052\" id=\"path914\"/>\n",
       "      <path style=\"fill:none;stroke:#000000;stroke-width:0.894088;stroke-linecap:butt;stroke-linejoin:miter;stroke-miterlimit:4;stroke-dasharray:none;stroke-opacity:1\" d=\"m 12.658886,206.80346 9.929222,17.19792\" id=\"path916\"/>\n",
       "      <path style=\"fill:none;stroke:#000000;stroke-width:0.894088;stroke-linecap:butt;stroke-linejoin:miter;stroke-miterlimit:4;stroke-dasharray:none;stroke-opacity:1\" d=\"m 30.121397,206.80346 9.929222,17.19792\" id=\"path918\"/>\n",
       "      <path style=\"fill:none;stroke:#000000;stroke-width:0.894088;stroke-linecap:butt;stroke-linejoin:miter;stroke-miterlimit:4;stroke-dasharray:none;stroke-opacity:1\" d=\"m 47.054741,206.80346 9.929222,17.19792\" id=\"path920\"/>\n",
       "      <path style=\"fill:none;stroke:#000000;stroke-width:0.894088;stroke-linecap:butt;stroke-linejoin:miter;stroke-miterlimit:4;stroke-dasharray:none;stroke-opacity:1\" d=\"m 64.517252,206.80346 9.929222,17.19792\" id=\"path922\"/>\n",
       "      <path style=\"fill:none;stroke:#000000;stroke-width:0.894088;stroke-linecap:butt;stroke-linejoin:miter;stroke-miterlimit:4;stroke-dasharray:none;stroke-opacity:1\" d=\"m 81.979763,206.80346 9.92923,17.19792\" id=\"path924\"/>\n",
       "    </g>\n",
       "    <ellipse style=\"fill:#ffffff;stroke:#000000;stroke-width:0.7;stroke-linejoin:bevel\" id=\"circle1264\" cx=\"129.7794\" cy=\"122.59937\" rx=\"2.8965883\" ry=\"2.8960967\"/>\n",
       "    <path style=\"fill:none;stroke:#000000;stroke-width:0.265;stroke-linecap:butt;stroke-linejoin:miter;stroke-miterlimit:4;stroke-dasharray:none;stroke-opacity:1;marker-start:url(#marker5423);marker-end:url(#marker5535)\" d=\"M 293.3824,159.09558 H 97.018644 V 62.084861\" id=\"path934\"/>\n",
       "    <rect style=\"fill:#ffffff;stroke:#000000;stroke-width:0.665;stroke-linejoin:bevel;stroke-miterlimit:4;stroke-dasharray:none\" id=\"rect1250\" width=\"33.076664\" height=\"19.859892\" x=\"219.79411\" y=\"96.263969\"/>\n",
       "    <ellipse style=\"fill:#ffffff;stroke:#000000;stroke-width:0.7;stroke-linejoin:bevel\" id=\"circle1266\" cx=\"236.33244\" cy=\"106.19392\" rx=\"2.8965883\" ry=\"2.8960967\"/>\n",
       "    <path style=\"fill:none;stroke:#000000;stroke-width:0.765;stroke-linecap:butt;stroke-linejoin:miter;stroke-miterlimit:4;stroke-dasharray:none;stroke-opacity:1;marker-end:url(#marker1322)\" d=\"M 97.018644,159.09558 129.7794,122.59936\" id=\"path1268\"/>\n",
       "    <path style=\"fill:none;stroke:#000000;stroke-width:0.765;stroke-linecap:butt;stroke-linejoin:miter;stroke-miterlimit:4;stroke-dasharray:none;stroke-opacity:1;marker-end:url(#marker1282)\" d=\"M 129.7794,122.59936 236.33245,106.19392\" id=\"path1270\"/>\n",
       "    <path style=\"fill:none;stroke:#000000;stroke-width:0.765;stroke-linecap:butt;stroke-linejoin:miter;stroke-miterlimit:4;stroke-dasharray:none;stroke-opacity:1;marker-end:url(#marker1370)\" d=\"M 97.018644,159.09558 H 236.33244\" id=\"path1360\"/>\n",
       "    <path style=\"fill:none;stroke:#000000;stroke-width:0.765;stroke-linecap:butt;stroke-linejoin:miter;stroke-miterlimit:4;stroke-dasharray:none;stroke-opacity:1;marker-end:url(#marker1424)\" d=\"m 236.33244,159.09558 1e-5,-52.90166\" id=\"path1414\"/>\n",
       "    <path style=\"fill:none;stroke:#000000;stroke-width:0.264583;stroke-linecap:butt;stroke-linejoin:miter;stroke-miterlimit:4;stroke-dasharray:2.11666, 2.11666;stroke-dashoffset:0;stroke-opacity:1\" d=\"m 236.33245,106.19392 h 39.48456\" id=\"path1474\"/>\n",
       "    <text xml:space=\"preserve\" style=\"font-size:6.07633px;line-height:1.25;font-family:sans-serif;-inkscape-font-specification:sans-serif;stroke-width:0.264583\" x=\"89.542496\" y=\"63.538773\" id=\"text1478\" transform=\"scale(1.0000849,0.99991512)\"><tspan sodipodi:role=\"line\" id=\"tspan1476\" x=\"89.542496\" y=\"63.538773\" style=\"stroke-width:0.264583\">Y</tspan></text>\n",
       "    <text xml:space=\"preserve\" style=\"font-size:6.07633px;line-height:1.25;font-family:sans-serif;-inkscape-font-specification:sans-serif;stroke-width:0.264583\" x=\"291.6207\" y=\"167.1553\" id=\"text1482\" transform=\"scale(1.0000849,0.99991512)\"><tspan sodipodi:role=\"line\" id=\"tspan1480\" x=\"291.6207\" y=\"167.1553\" style=\"stroke-width:0.264583\">X</tspan></text>\n",
       "    <g id=\"g1490\" style=\"stroke-width:0.766361;stroke-miterlimit:4;stroke-dasharray:none\" transform=\"matrix(0.7829875,0,0,0.78285459,133.61675,73.713088)\">\n",
       "      <ellipse style=\"fill:#ffffff;stroke:#000000;stroke-width:0.766361;stroke-linejoin:bevel;stroke-miterlimit:4;stroke-dasharray:none;stroke-dashoffset:0\" id=\"path1484\" cx=\"-8.070385\" cy=\"94.949799\" rx=\"2.6678991\" ry=\"4.3125429\"/>\n",
       "      <path style=\"fill:none;stroke:#000000;stroke-width:0.766361;stroke-linecap:butt;stroke-linejoin:miter;stroke-miterlimit:4;stroke-dasharray:none;stroke-opacity:1\" d=\"m -10.738284,94.949797 h 5.3357983\" id=\"path1486\"/>\n",
       "    </g>\n",
       "    <text xml:space=\"preserve\" style=\"font-size:7.78804px;line-height:1.25;font-family:sans-serif;-inkscape-font-specification:sans-serif;stroke-width:0.264583\" x=\"90.763702\" y=\"168.94272\" id=\"text1494\" transform=\"scale(1.0000849,0.99991512)\"><tspan sodipodi:role=\"line\" id=\"tspan1492\" x=\"90.763702\" y=\"168.94272\" style=\"stroke-width:0.264583\">O<tspan style=\"font-size:5.06223px;baseline-shift:sub;stroke-width:0.264583\" id=\"tspan1496\">2</tspan></tspan></text>\n",
       "    <text xml:space=\"preserve\" style=\"font-size:6.07633px;line-height:1.25;font-family:sans-serif;-inkscape-font-specification:sans-serif;stroke-width:0.264583\" x=\"107.08239\" y=\"140.46381\" id=\"text1500\" transform=\"scale(1.0000849,0.99991512)\"><tspan sodipodi:role=\"line\" id=\"tspan1498\" x=\"107.08239\" y=\"140.46381\" style=\"stroke-width:0.264583\">a</tspan></text>\n",
       "    <text xml:space=\"preserve\" style=\"font-size:6.07633px;line-height:1.25;font-family:sans-serif;-inkscape-font-specification:sans-serif;stroke-width:0.264583\" x=\"163.82597\" y=\"113.86725\" id=\"text1504\" transform=\"scale(1.0000849,0.99991512)\"><tspan sodipodi:role=\"line\" id=\"tspan1502\" x=\"163.82597\" y=\"113.86725\" style=\"stroke-width:0.264583\">b</tspan></text>\n",
       "    <text xml:space=\"preserve\" style=\"font-size:6.07633px;line-height:1.25;font-family:sans-serif;-inkscape-font-specification:sans-serif;stroke-width:0.264583\" x=\"231.89894\" y=\"139.80795\" id=\"text1508\" transform=\"scale(1.0000849,0.99991512)\"><tspan sodipodi:role=\"line\" id=\"tspan1506\" x=\"231.89894\" y=\"139.80795\" style=\"stroke-width:0.264583\">c</tspan></text>\n",
       "    <text xml:space=\"preserve\" style=\"font-size:6.07633px;line-height:1.25;font-family:sans-serif;-inkscape-font-specification:sans-serif;stroke-width:0.264583\" x=\"174.91075\" y=\"156.45781\" id=\"text1512\" transform=\"scale(1.0000849,0.99991512)\"><tspan sodipodi:role=\"line\" id=\"tspan1510\" x=\"174.91075\" y=\"156.45781\" style=\"stroke-width:0.264583\">d</tspan></text>\n",
       "    <path style=\"fill:none;stroke:#000000;stroke-width:0.264583px;stroke-linecap:butt;stroke-linejoin:miter;stroke-opacity:1;marker-end:url(#marker1524)\" d=\"m 123.42736,159.12284 c 0.0668,-6.71226 -0.46079,-13.38347 -9.21293,-19.48691\" id=\"path1514\" sodipodi:nodetypes=\"cc\"/>\n",
       "    <path style=\"fill:none;stroke:#000000;stroke-width:0.264583px;stroke-linecap:butt;stroke-linejoin:miter;stroke-opacity:1;marker-end:url(#marker1590)\" d=\"m 252.32881,158.97834 c -0.50741,-12.04708 -6.78225,-18.09292 -15.99637,-21.08032\" id=\"path1580\" sodipodi:nodetypes=\"cc\"/>\n",
       "    <path style=\"fill:none;stroke:#000000;stroke-width:0.264583px;stroke-linecap:butt;stroke-linejoin:miter;stroke-opacity:1;marker-end:url(#marker1664)\" d=\"m 264.77974,105.9586 c -0.50557,-3.78571 -0.90744,-7.775171 -2.25725,-10.865914 -4.14226,-9.484799 -14.18914,-17.505306 -26.36753,-17.403009 -7.01957,0.05897 -11.62397,2.290587 -16.38736,5.484447 -8.71469,5.843209 -13.14631,16.431837 -11.57731,27.379396\" id=\"path1654\" sodipodi:nodetypes=\"csssc\"/>\n",
       "    <g id=\"g1736\" style=\"stroke-width:0.766361;stroke-miterlimit:4;stroke-dasharray:none\" transform=\"matrix(0.7829875,0,0,0.78285459,261.10701,72.008982)\">\n",
       "      <ellipse style=\"fill:#ffffff;stroke:#000000;stroke-width:0.766361;stroke-linejoin:bevel;stroke-miterlimit:4;stroke-dasharray:none;stroke-dashoffset:0\" id=\"ellipse1732\" cx=\"-8.070385\" cy=\"94.949799\" rx=\"2.6678991\" ry=\"4.3125429\"/>\n",
       "      <path style=\"fill:none;stroke:#000000;stroke-width:0.766361;stroke-linecap:butt;stroke-linejoin:miter;stroke-miterlimit:4;stroke-dasharray:none;stroke-opacity:1\" d=\"m -10.738284,94.949797 h 5.3357983\" id=\"path1734\"/>\n",
       "    </g>\n",
       "    <g id=\"g1742\" style=\"stroke-width:0.766361;stroke-miterlimit:4;stroke-dasharray:none\" transform=\"matrix(0.7829875,0,0,0.78285459,220.0951,2.1577418)\">\n",
       "      <ellipse style=\"fill:#ffffff;stroke:#000000;stroke-width:0.766361;stroke-linejoin:bevel;stroke-miterlimit:4;stroke-dasharray:none;stroke-dashoffset:0\" id=\"ellipse1738\" cx=\"-8.070385\" cy=\"94.949799\" rx=\"2.6678991\" ry=\"4.3125429\"/>\n",
       "      <path style=\"fill:none;stroke:#000000;stroke-width:0.766361;stroke-linecap:butt;stroke-linejoin:miter;stroke-miterlimit:4;stroke-dasharray:none;stroke-opacity:1\" d=\"m -10.738284,94.949797 h 5.3357983\" id=\"path1740\"/>\n",
       "    </g>\n",
       "    <text xml:space=\"preserve\" style=\"font-size:6.07633px;line-height:1.25;font-family:sans-serif;-inkscape-font-specification:sans-serif;stroke-width:0.264583\" x=\"129.57603\" y=\"153.82426\" id=\"text1750\" transform=\"scale(1.0000849,0.99991512)\"><tspan sodipodi:role=\"line\" id=\"tspan1748\" x=\"129.57603\" y=\"153.82426\" style=\"stroke-width:0.264583\">2</tspan></text>\n",
       "    <text xml:space=\"preserve\" style=\"font-size:6.07633px;line-height:1.25;font-family:sans-serif;-inkscape-font-specification:sans-serif;stroke-width:0.264583\" x=\"256.97369\" y=\"151.87671\" id=\"text1754\" transform=\"scale(1.0000849,0.99991512)\"><tspan sodipodi:role=\"line\" id=\"tspan1752\" x=\"256.97369\" y=\"151.87671\" style=\"stroke-width:0.264583\">4</tspan></text>\n",
       "    <text xml:space=\"preserve\" style=\"font-size:6.07633px;line-height:1.25;font-family:sans-serif;-inkscape-font-specification:sans-serif;stroke-width:0.264583\" x=\"215.72495\" y=\"82.286003\" id=\"text1758\" transform=\"scale(1.0000849,0.99991512)\"><tspan sodipodi:role=\"line\" id=\"tspan1756\" x=\"215.72495\" y=\"82.286003\" style=\"stroke-width:0.264583\">3</tspan></text>\n",
       "    <text xml:space=\"preserve\" style=\"font-size:9.32858px;line-height:1.25;font-family:sans-serif;-inkscape-font-specification:sans-serif;stroke-width:0.264583\" x=\"127.68673\" y=\"117.22151\" id=\"text1762\" transform=\"scale(1.0000849,0.99991512)\"><tspan sodipodi:role=\"line\" id=\"tspan1760\" x=\"127.68673\" y=\"117.22151\" style=\"stroke-width:0.264583\">A</tspan></text>\n",
       "    <text xml:space=\"preserve\" style=\"font-size:9.32858px;line-height:1.25;font-family:sans-serif;-inkscape-font-specification:sans-serif;stroke-width:0.264583\" x=\"241.32547\" y=\"104.12556\" id=\"text1766\" transform=\"scale(1.0000849,0.99991512)\"><tspan sodipodi:role=\"line\" id=\"tspan1764\" x=\"241.32547\" y=\"104.12556\" style=\"stroke-width:0.264583\">B</tspan></text>\n",
       "    <text xml:space=\"preserve\" style=\"font-size:8.97713px;line-height:1.25;font-family:sans-serif;-inkscape-font-specification:sans-serif;stroke-width:0.264583\" x=\"166.64856\" y=\"170.26924\" id=\"text1770\" transform=\"scale(1.0000849,0.99991512)\"><tspan sodipodi:role=\"line\" id=\"tspan1768\" x=\"166.64856\" y=\"170.26924\" style=\"stroke-width:0.264583\">R<tspan style=\"font-size:5.83513px;baseline-shift:sub;stroke-width:0.264583\" id=\"tspan1772\">1</tspan></tspan></text>\n",
       "    <text xml:space=\"preserve\" style=\"font-size:8.97713px;line-height:1.25;font-family:sans-serif;-inkscape-font-specification:sans-serif;stroke-width:0.264583\" x=\"109.95837\" y=\"153.45302\" id=\"text1778\" transform=\"scale(1.0000849,0.99991512)\"><tspan sodipodi:role=\"line\" id=\"tspan1776\" x=\"109.95837\" y=\"153.45302\" style=\"stroke-width:0.264583\">R<tspan style=\"font-size:5.83513px;baseline-shift:sub;stroke-width:0.264583\" id=\"tspan1792\">2</tspan></tspan></text>\n",
       "    <text xml:space=\"preserve\" style=\"font-size:8.97713px;line-height:1.25;font-family:sans-serif;-inkscape-font-specification:sans-serif;stroke-width:0.264583\" x=\"172.6469\" y=\"124.82064\" id=\"text1784\" transform=\"scale(1.0000849,0.99991512)\"><tspan sodipodi:role=\"line\" id=\"tspan1782\" x=\"172.6469\" y=\"124.82064\" style=\"stroke-width:0.264583\">R<tspan style=\"font-size:5.83513px;baseline-shift:sub;stroke-width:0.264583\" id=\"tspan1794\">3</tspan></tspan></text>\n",
       "    <text xml:space=\"preserve\" style=\"font-size:8.97713px;line-height:1.25;font-family:sans-serif;-inkscape-font-specification:sans-serif;stroke-width:0.264583\" x=\"242.33022\" y=\"137.96422\" id=\"text1790\" transform=\"scale(1.0000849,0.99991512)\"><tspan sodipodi:role=\"line\" id=\"tspan1788\" x=\"242.33022\" y=\"137.96422\" style=\"stroke-width:0.264583\">R<tspan style=\"font-size:5.83513px;baseline-shift:sub;stroke-width:0.264583\" id=\"tspan1796\">4</tspan></tspan></text>\n",
       "  </g>\n",
       "</svg>"
      ],
      "text/plain": [
       "<IPython.core.display.SVG object>"
      ]
     },
     "execution_count": 98,
     "metadata": {},
     "output_type": "execute_result"
    }
   ],
   "source": [
    "SVG('figs4-8.svg')"
   ]
  },
  {
   "cell_type": "markdown",
   "metadata": {
    "slideshow": {
     "slide_type": "fragment"
    }
   },
   "source": [
    "$$\\vec{R}_2 + \\vec{R}_3 - \\vec{R}_4 - \\vec{R}_1 = 0$$"
   ]
  },
  {
   "cell_type": "code",
   "execution_count": 99,
   "metadata": {
    "slideshow": {
     "slide_type": "fragment"
    }
   },
   "outputs": [],
   "source": [
    "R2 = a*e**(i*theta2)\n",
    "R3 = b*e**(i*theta3)\n",
    "R4 = c*e**(i*theta4)\n",
    "R1 = d*e**(i*theta1)"
   ]
  },
  {
   "cell_type": "code",
   "execution_count": 100,
   "metadata": {
    "slideshow": {
     "slide_type": "fragment"
    }
   },
   "outputs": [
    {
     "data": {
      "text/latex": [
       "$\\displaystyle a e^{i \\theta_{2}} - b e^{i \\theta_{3}} - c e^{i \\theta_{4}} - d e^{i \\theta_{1}}$"
      ],
      "text/plain": [
       "a*exp(I*theta2) - b*exp(I*theta3) - c*exp(I*theta4) - d*exp(I*theta1)"
      ]
     },
     "execution_count": 100,
     "metadata": {},
     "output_type": "execute_result"
    }
   ],
   "source": [
    "eq1 = R2 - R3 - R4 - R1\n",
    "eq1"
   ]
  },
  {
   "cell_type": "markdown",
   "metadata": {
    "slideshow": {
     "slide_type": "fragment"
    }
   },
   "source": [
    "Observa-se que $\\theta_1 = 0$ e $\\theta_4 = 90^{\\circ}$"
   ]
  },
  {
   "cell_type": "code",
   "execution_count": 101,
   "metadata": {
    "slideshow": {
     "slide_type": "fragment"
    }
   },
   "outputs": [
    {
     "data": {
      "text/latex": [
       "$\\displaystyle a e^{i \\theta_{2}} - b e^{i \\theta_{3}} - i c - d$"
      ],
      "text/plain": [
       "a*exp(I*theta2) - b*exp(I*theta3) - I*c - d"
      ]
     },
     "execution_count": 101,
     "metadata": {},
     "output_type": "execute_result"
    }
   ],
   "source": [
    "eq1 = eq1.subs(theta1,0)\n",
    "eq1 = eq1.subs(theta4,pi/2)\n",
    "eq1"
   ]
  },
  {
   "cell_type": "code",
   "execution_count": 102,
   "metadata": {
    "slideshow": {
     "slide_type": "fragment"
    }
   },
   "outputs": [
    {
     "data": {
      "text/latex": [
       "$\\displaystyle a \\left(i \\sin{\\left(\\theta_{2} \\right)} + \\cos{\\left(\\theta_{2} \\right)}\\right) - b \\left(i \\sin{\\left(\\theta_{3} \\right)} + \\cos{\\left(\\theta_{3} \\right)}\\right) - i c - d$"
      ],
      "text/plain": [
       "a*(I*sin(theta2) + cos(theta2)) - b*(I*sin(theta3) + cos(theta3)) - I*c - d"
      ]
     },
     "execution_count": 102,
     "metadata": {},
     "output_type": "execute_result"
    }
   ],
   "source": [
    "eq2 = eq1.subs(id_euler)\n",
    "eq2"
   ]
  },
  {
   "cell_type": "code",
   "execution_count": 103,
   "metadata": {
    "slideshow": {
     "slide_type": "fragment"
    }
   },
   "outputs": [
    {
     "data": {
      "text/latex": [
       "$\\displaystyle a \\cos{\\left(\\theta_{2} \\right)} - b \\cos{\\left(\\theta_{3} \\right)} - d$"
      ],
      "text/plain": [
       "a*cos(theta2) - b*cos(theta3) - d"
      ]
     },
     "execution_count": 103,
     "metadata": {},
     "output_type": "execute_result"
    }
   ],
   "source": [
    "eq2_real = a*cos(theta2) - b*cos(theta3) -d\n",
    "eq2_real"
   ]
  },
  {
   "cell_type": "code",
   "execution_count": 104,
   "metadata": {
    "slideshow": {
     "slide_type": "fragment"
    }
   },
   "outputs": [
    {
     "data": {
      "text/latex": [
       "$\\displaystyle a \\sin{\\left(\\theta_{2} \\right)} - b \\sin{\\left(\\theta_{3} \\right)} - c$"
      ],
      "text/plain": [
       "a*sin(theta2) - b*sin(theta3) - c"
      ]
     },
     "execution_count": 104,
     "metadata": {},
     "output_type": "execute_result"
    }
   ],
   "source": [
    "eq2_im = a*sin(theta2) - b*sin(theta3) -c\n",
    "eq2_im"
   ]
  },
  {
   "cell_type": "code",
   "execution_count": 105,
   "metadata": {
    "slideshow": {
     "slide_type": "fragment"
    }
   },
   "outputs": [
    {
     "data": {
      "text/plain": [
       "[pi - asin((a*sin(theta2) - c)/b), asin((a*sin(theta2) - c)/b)]"
      ]
     },
     "execution_count": 105,
     "metadata": {},
     "output_type": "execute_result"
    }
   ],
   "source": [
    "th3 = solve(eq2_im,theta3)\n",
    "th3"
   ]
  },
  {
   "cell_type": "markdown",
   "metadata": {
    "slideshow": {
     "slide_type": "fragment"
    }
   },
   "source": [
    "Note que existem novamente duas soluções correspondentes aos dois circuitos do mecanismo. A função *arco seno* possui duas soluções."
   ]
  },
  {
   "cell_type": "code",
   "execution_count": 106,
   "metadata": {
    "slideshow": {
     "slide_type": "fragment"
    }
   },
   "outputs": [
    {
     "data": {
      "text/latex": [
       "$\\displaystyle \\operatorname{asin}{\\left(\\frac{a \\sin{\\left(\\theta_{2} \\right)} - c}{b} \\right)}$"
      ],
      "text/plain": [
       "asin((a*sin(theta2) - c)/b)"
      ]
     },
     "execution_count": 106,
     "metadata": {},
     "output_type": "execute_result"
    }
   ],
   "source": [
    "th3 = th3[1]\n",
    "th3"
   ]
  },
  {
   "cell_type": "code",
   "execution_count": 107,
   "metadata": {
    "slideshow": {
     "slide_type": "fragment"
    }
   },
   "outputs": [
    {
     "data": {
      "text/plain": [
       "[a*cos(theta2) - b*cos(theta3)]"
      ]
     },
     "execution_count": 107,
     "metadata": {},
     "output_type": "execute_result"
    }
   ],
   "source": [
    "dsol = solve(eq2_real,d)\n",
    "dsol"
   ]
  },
  {
   "cell_type": "code",
   "execution_count": 108,
   "metadata": {
    "slideshow": {
     "slide_type": "fragment"
    }
   },
   "outputs": [
    {
     "data": {
      "text/latex": [
       "$\\displaystyle a \\cos{\\left(\\theta_{2} \\right)} - b \\cos{\\left(\\theta_{3} \\right)}$"
      ],
      "text/plain": [
       "a*cos(theta2) - b*cos(theta3)"
      ]
     },
     "execution_count": 108,
     "metadata": {},
     "output_type": "execute_result"
    }
   ],
   "source": [
    "dsol = dsol[0]\n",
    "dsol"
   ]
  },
  {
   "cell_type": "code",
   "execution_count": 109,
   "metadata": {
    "slideshow": {
     "slide_type": "fragment"
    }
   },
   "outputs": [
    {
     "data": {
      "text/latex": [
       "$\\displaystyle a \\cos{\\left(\\theta_{2} \\right)} - b \\sqrt{1 - \\frac{\\left(a \\sin{\\left(\\theta_{2} \\right)} - c\\right)^{2}}{b^{2}}}$"
      ],
      "text/plain": [
       "a*cos(theta2) - b*sqrt(1 - (a*sin(theta2) - c)**2/b**2)"
      ]
     },
     "execution_count": 109,
     "metadata": {},
     "output_type": "execute_result"
    }
   ],
   "source": [
    "dsol = dsol.subs(theta3,th3)\n",
    "dsol"
   ]
  },
  {
   "cell_type": "markdown",
   "metadata": {
    "slideshow": {
     "slide_type": "slide"
    }
   },
   "source": [
    "## 4.7 Ângulos de Transmissão"
   ]
  },
  {
   "cell_type": "markdown",
   "metadata": {
    "slideshow": {
     "slide_type": "subslide"
    }
   },
   "source": [
    "O ângulo de transmissão $\\mu$ é definido como o *ângulo entre o elo de saída e o acoplador*. <br>\n",
    "Iremos expandir essa definição para representar o ângulo entre quaisquer elos em um mecanismo.  -> O ângulo entre qualquer elo de saída e o acoplador que o movimenta é um ângulo de transmissão. \n",
    "<br>\n",
    "Agora que desenvolvemos as expressões analíticas para os ângulos de todos os elos do mecanismo, fica fácil determinar algebricamente o ângulo de transmissão. Ele é apenas a diferença entre os ângulos dos dois elos.<br>\n",
    "Por convenção, tomamos o valor absoluto da diferença e o forçamos a ser um ângulo agudo. \n",
    "$$\\theta_{trans} = | \\theta_3 - \\theta_4 |$$\n",
    "se $\\theta_{trans} > \\pi/2$ então $\\mu = \\pi - \\theta_{trans}$ caso contrário $\\mu = \\theta_{trans}$"
   ]
  },
  {
   "cell_type": "code",
   "execution_count": 110,
   "metadata": {
    "slideshow": {
     "slide_type": "fragment"
    }
   },
   "outputs": [],
   "source": [
    "def ang_trans(th3,th4):\n",
    "    th_trans = abs(th3 - th4)\n",
    "    pi = 3.14159265358979\n",
    "    if th_trans > (pi)/2:\n",
    "        return pi - th_trans\n",
    "    else:\n",
    "        return th_trans"
   ]
  },
  {
   "cell_type": "markdown",
   "metadata": {
    "slideshow": {
     "slide_type": "fragment"
    }
   },
   "source": [
    "Esse cálculo pode ser feito para qualquer junta de um mecanismo, utilizando os ângulos dos elos apropriados."
   ]
  },
  {
   "cell_type": "markdown",
   "metadata": {
    "slideshow": {
     "slide_type": "subslide"
    }
   },
   "source": [
    "### Valores extremos do ângulo de transmissão\n",
    "Para um mecanismo manivela de quatro barras de Grashof, o valor mínimo do ângulo de transmissão ocorrerá quando a manivela for colinear ao elo terra. Os valores do ângulo de transmissão nessas posições são facilmente calculados pela lei dos cossenos. <br>\n",
    "Dependendo da geometria do mecanismo, o valor mínimo de transmissão $\\mu_min$ poderá ocorrer quando os elos 1 e 2 forem colineares e sobrepostos, ou quando os elos 1 e 2 forem colineares e não sobrepostos."
   ]
  },
  {
   "cell_type": "code",
   "execution_count": 111,
   "metadata": {
    "slideshow": {
     "slide_type": "fragment"
    }
   },
   "outputs": [
    {
     "data": {
      "image/svg+xml": [
       "<svg xmlns:dc=\"http://purl.org/dc/elements/1.1/\" xmlns:cc=\"http://creativecommons.org/ns#\" xmlns:rdf=\"http://www.w3.org/1999/02/22-rdf-syntax-ns#\" xmlns:svg=\"http://www.w3.org/2000/svg\" xmlns=\"http://www.w3.org/2000/svg\" xmlns:sodipodi=\"http://sodipodi.sourceforge.net/DTD/sodipodi-0.dtd\" xmlns:inkscape=\"http://www.inkscape.org/namespaces/inkscape\" width=\"247.34225mm\" height=\"92.158066mm\" viewBox=\"0 0 247.34225 92.158065\" version=\"1.1\" id=\"svg2283\" inkscape:version=\"1.0.1 (3bc2e813f5, 2020-09-07)\" sodipodi:docname=\"figs4-9.svg\">\n",
       "  <defs id=\"defs2277\">\n",
       "    <marker style=\"overflow:visible;\" id=\"marker4991\" refX=\"0.0\" refY=\"0.0\" orient=\"auto\" inkscape:stockid=\"Arrow1Lend\" inkscape:isstock=\"true\">\n",
       "      <path transform=\"scale(0.8) rotate(180) translate(12.5,0)\" style=\"fill-rule:evenodd;stroke:#000000;stroke-width:1pt;stroke-opacity:1;fill:#000000;fill-opacity:1\" d=\"M 0.0,0.0 L 5.0,-5.0 L -12.5,0.0 L 5.0,5.0 L 0.0,0.0 z \" id=\"path4989\"/>\n",
       "    </marker>\n",
       "    <marker style=\"overflow:visible\" id=\"marker4885\" refX=\"0\" refY=\"0\" orient=\"auto\" inkscape:stockid=\"Arrow1Lstart\" inkscape:isstock=\"true\">\n",
       "      <path transform=\"matrix(0.8,0,0,0.8,10,0)\" style=\"fill:#000000;fill-opacity:1;fill-rule:evenodd;stroke:#000000;stroke-width:1pt;stroke-opacity:1\" d=\"M 0,0 5,-5 -12.5,0 5,5 Z\" id=\"path4883\"/>\n",
       "    </marker>\n",
       "    <marker style=\"overflow:visible\" id=\"Arrow1Mstart\" refX=\"0.0\" refY=\"0.0\" orient=\"auto\" inkscape:stockid=\"Arrow1Mstart\" inkscape:isstock=\"true\">\n",
       "      <path transform=\"scale(0.4) translate(10,0)\" style=\"fill-rule:evenodd;stroke:#000000;stroke-width:1pt;stroke-opacity:1;fill:#000000;fill-opacity:1\" d=\"M 0.0,0.0 L 5.0,-5.0 L -12.5,0.0 L 5.0,5.0 L 0.0,0.0 z \" id=\"path942\"/>\n",
       "    </marker>\n",
       "    <inkscape:path-effect effect=\"spiro\" id=\"path-effect4340\" is_visible=\"true\" lpeversion=\"1\"/>\n",
       "    <inkscape:path-effect effect=\"simplify\" id=\"path-effect4338\" is_visible=\"true\" lpeversion=\"1\" steps=\"1\" threshold=\"0.00243902\" smooth_angles=\"360\" helper_size=\"0\" simplify_individual_paths=\"false\" simplify_just_coalesce=\"false\"/>\n",
       "    <inkscape:path-effect effect=\"spiro\" id=\"path-effect4329\" is_visible=\"true\" lpeversion=\"1\"/>\n",
       "    <inkscape:path-effect effect=\"simplify\" id=\"path-effect4327\" is_visible=\"true\" lpeversion=\"1\" steps=\"1\" threshold=\"0.00243902\" smooth_angles=\"360\" helper_size=\"0\" simplify_individual_paths=\"false\" simplify_just_coalesce=\"false\"/>\n",
       "    <inkscape:path-effect effect=\"spiro\" id=\"path-effect4323\" is_visible=\"true\" lpeversion=\"1\"/>\n",
       "    <inkscape:path-effect effect=\"simplify\" id=\"path-effect4321\" is_visible=\"true\" lpeversion=\"1\" steps=\"1\" threshold=\"0.00243902\" smooth_angles=\"360\" helper_size=\"0\" simplify_individual_paths=\"false\" simplify_just_coalesce=\"false\"/>\n",
       "    <inkscape:path-effect effect=\"simplify\" id=\"path-effect4315\" is_visible=\"true\" lpeversion=\"1\" steps=\"1\" threshold=\"0.00243902\" smooth_angles=\"360\" helper_size=\"0\" simplify_individual_paths=\"false\" simplify_just_coalesce=\"false\"/>\n",
       "    <inkscape:path-effect effect=\"spiro\" id=\"path-effect4311\" is_visible=\"true\" lpeversion=\"1\"/>\n",
       "    <inkscape:path-effect effect=\"simplify\" id=\"path-effect4309\" is_visible=\"true\" lpeversion=\"1\" steps=\"1\" threshold=\"0.00243902\" smooth_angles=\"360\" helper_size=\"0\" simplify_individual_paths=\"false\" simplify_just_coalesce=\"false\"/>\n",
       "    <inkscape:path-effect effect=\"spiro\" id=\"path-effect4301\" is_visible=\"true\" lpeversion=\"1\"/>\n",
       "    <inkscape:path-effect effect=\"simplify\" id=\"path-effect4299\" is_visible=\"true\" lpeversion=\"1\" steps=\"1\" threshold=\"0.00243902\" smooth_angles=\"360\" helper_size=\"0\" simplify_individual_paths=\"false\" simplify_just_coalesce=\"false\"/>\n",
       "    <inkscape:path-effect effect=\"spiro\" id=\"path-effect4287\" is_visible=\"true\" lpeversion=\"1\"/>\n",
       "    <inkscape:path-effect effect=\"simplify\" id=\"path-effect4285\" is_visible=\"true\" lpeversion=\"1\" steps=\"1\" threshold=\"0.00243902\" smooth_angles=\"360\" helper_size=\"0\" simplify_individual_paths=\"false\" simplify_just_coalesce=\"false\"/>\n",
       "    <inkscape:path-effect effect=\"spiro\" id=\"path-effect4283\" is_visible=\"true\" lpeversion=\"1\"/>\n",
       "    <inkscape:path-effect effect=\"simplify\" id=\"path-effect4281\" is_visible=\"true\" lpeversion=\"1\" steps=\"1\" threshold=\"0.00243902\" smooth_angles=\"360\" helper_size=\"0\" simplify_individual_paths=\"false\" simplify_just_coalesce=\"false\"/>\n",
       "    <inkscape:path-effect effect=\"spiro\" id=\"path-effect4269\" is_visible=\"true\" lpeversion=\"1\"/>\n",
       "    <inkscape:path-effect effect=\"simplify\" id=\"path-effect4267\" is_visible=\"true\" lpeversion=\"1\" steps=\"1\" threshold=\"0.00243902\" smooth_angles=\"360\" helper_size=\"0\" simplify_individual_paths=\"false\" simplify_just_coalesce=\"false\"/>\n",
       "    <inkscape:path-effect effect=\"spiro\" id=\"path-effect4259\" is_visible=\"true\" lpeversion=\"1\"/>\n",
       "    <inkscape:path-effect effect=\"simplify\" id=\"path-effect4257\" is_visible=\"true\" lpeversion=\"1\" steps=\"1\" threshold=\"0.00243902\" smooth_angles=\"360\" helper_size=\"0\" simplify_individual_paths=\"false\" simplify_just_coalesce=\"false\"/>\n",
       "    <inkscape:path-effect effect=\"simplify\" id=\"path-effect4235\" is_visible=\"true\" lpeversion=\"1\" steps=\"1\" threshold=\"0.00243902\" smooth_angles=\"360\" helper_size=\"0\" simplify_individual_paths=\"false\" simplify_just_coalesce=\"false\"/>\n",
       "    <inkscape:path-effect effect=\"spiro\" id=\"path-effect4231\" is_visible=\"true\" lpeversion=\"1\"/>\n",
       "    <inkscape:path-effect effect=\"simplify\" id=\"path-effect4229\" is_visible=\"true\" lpeversion=\"1\" steps=\"1\" threshold=\"0.00243902\" smooth_angles=\"360\" helper_size=\"0\" simplify_individual_paths=\"false\" simplify_just_coalesce=\"false\"/>\n",
       "    <inkscape:path-effect effect=\"simplify\" id=\"path-effect4223\" is_visible=\"true\" lpeversion=\"1\" steps=\"1\" threshold=\"0.00243902\" smooth_angles=\"360\" helper_size=\"0\" simplify_individual_paths=\"false\" simplify_just_coalesce=\"false\"/>\n",
       "    <inkscape:path-effect effect=\"simplify\" id=\"path-effect4217\" is_visible=\"true\" lpeversion=\"1\" steps=\"1\" threshold=\"0.00243902\" smooth_angles=\"360\" helper_size=\"0\" simplify_individual_paths=\"false\" simplify_just_coalesce=\"false\"/>\n",
       "    <inkscape:path-effect effect=\"simplify\" id=\"path-effect4211\" is_visible=\"true\" lpeversion=\"1\" steps=\"1\" threshold=\"0.00243902\" smooth_angles=\"360\" helper_size=\"0\" simplify_individual_paths=\"false\" simplify_just_coalesce=\"false\"/>\n",
       "    <inkscape:path-effect effect=\"spiro\" id=\"path-effect4207\" is_visible=\"true\" lpeversion=\"1\"/>\n",
       "    <inkscape:path-effect effect=\"simplify\" id=\"path-effect4205\" is_visible=\"true\" lpeversion=\"1\" steps=\"1\" threshold=\"0.00243902\" smooth_angles=\"360\" helper_size=\"0\" simplify_individual_paths=\"false\" simplify_just_coalesce=\"false\"/>\n",
       "    <inkscape:path-effect effect=\"spiro\" id=\"path-effect4201\" is_visible=\"true\" lpeversion=\"1\"/>\n",
       "    <inkscape:path-effect effect=\"simplify\" id=\"path-effect4199\" is_visible=\"true\" lpeversion=\"1\" steps=\"1\" threshold=\"0.00243902\" smooth_angles=\"360\" helper_size=\"0\" simplify_individual_paths=\"false\" simplify_just_coalesce=\"false\"/>\n",
       "    <inkscape:path-effect effect=\"spiro\" id=\"path-effect4195\" is_visible=\"true\" lpeversion=\"1\"/>\n",
       "    <inkscape:path-effect effect=\"simplify\" id=\"path-effect4193\" is_visible=\"true\" lpeversion=\"1\" steps=\"1\" threshold=\"0.00243902\" smooth_angles=\"360\" helper_size=\"0\" simplify_individual_paths=\"false\" simplify_just_coalesce=\"false\"/>\n",
       "    <inkscape:path-effect effect=\"simplify\" id=\"path-effect4187\" is_visible=\"true\" lpeversion=\"1\" steps=\"1\" threshold=\"0.00243902\" smooth_angles=\"360\" helper_size=\"0\" simplify_individual_paths=\"false\" simplify_just_coalesce=\"false\"/>\n",
       "    <inkscape:path-effect effect=\"simplify\" id=\"path-effect4181\" is_visible=\"true\" lpeversion=\"1\" steps=\"1\" threshold=\"0.00243902\" smooth_angles=\"360\" helper_size=\"0\" simplify_individual_paths=\"false\" simplify_just_coalesce=\"false\"/>\n",
       "    <inkscape:path-effect effect=\"spiro\" id=\"path-effect4177\" is_visible=\"true\" lpeversion=\"1\"/>\n",
       "    <inkscape:path-effect effect=\"simplify\" id=\"path-effect4175\" is_visible=\"true\" lpeversion=\"1\" steps=\"1\" threshold=\"0.00243902\" smooth_angles=\"360\" helper_size=\"0\" simplify_individual_paths=\"false\" simplify_just_coalesce=\"false\"/>\n",
       "    <inkscape:path-effect effect=\"simplify\" id=\"path-effect4169\" is_visible=\"true\" lpeversion=\"1\" steps=\"1\" threshold=\"0.00243902\" smooth_angles=\"360\" helper_size=\"0\" simplify_individual_paths=\"false\" simplify_just_coalesce=\"false\"/>\n",
       "    <inkscape:path-effect effect=\"simplify\" id=\"path-effect4163\" is_visible=\"true\" lpeversion=\"1\" steps=\"1\" threshold=\"0.00243902\" smooth_angles=\"360\" helper_size=\"0\" simplify_individual_paths=\"false\" simplify_just_coalesce=\"false\"/>\n",
       "    <inkscape:path-effect effect=\"spiro\" id=\"path-effect4159\" is_visible=\"true\" lpeversion=\"1\"/>\n",
       "    <inkscape:path-effect effect=\"simplify\" id=\"path-effect4157\" is_visible=\"true\" lpeversion=\"1\" steps=\"1\" threshold=\"0.00243902\" smooth_angles=\"360\" helper_size=\"0\" simplify_individual_paths=\"false\" simplify_just_coalesce=\"false\"/>\n",
       "    <inkscape:path-effect effect=\"simplify\" id=\"path-effect4151\" is_visible=\"true\" lpeversion=\"1\" steps=\"1\" threshold=\"0.00243902\" smooth_angles=\"360\" helper_size=\"0\" simplify_individual_paths=\"false\" simplify_just_coalesce=\"false\"/>\n",
       "    <marker style=\"overflow:visible\" id=\"marker3809\" refX=\"0\" refY=\"0\" orient=\"auto\" inkscape:stockid=\"Arrow1Lend\" inkscape:isstock=\"true\">\n",
       "      <path transform=\"matrix(-0.8,0,0,-0.8,-10,0)\" style=\"fill:#000000;fill-opacity:1;fill-rule:evenodd;stroke:#000000;stroke-width:1pt;stroke-opacity:1\" d=\"M 0,0 5,-5 -12.5,0 5,5 Z\" id=\"path3807\"/>\n",
       "    </marker>\n",
       "    <marker style=\"overflow:visible\" id=\"marker3715\" refX=\"0\" refY=\"0\" orient=\"auto\" inkscape:stockid=\"Arrow1Lstart\" inkscape:isstock=\"true\" inkscape:collect=\"always\">\n",
       "      <path transform=\"matrix(0.8,0,0,0.8,10,0)\" style=\"fill:#000000;fill-opacity:1;fill-rule:evenodd;stroke:#000000;stroke-width:1pt;stroke-opacity:1\" d=\"M 0,0 5,-5 -12.5,0 5,5 Z\" id=\"path3713\"/>\n",
       "    </marker>\n",
       "    <marker style=\"overflow:visible\" id=\"marker3627\" refX=\"0\" refY=\"0\" orient=\"auto\" inkscape:stockid=\"Arrow1Lend\" inkscape:isstock=\"true\" inkscape:collect=\"always\">\n",
       "      <path transform=\"matrix(-0.8,0,0,-0.8,-10,0)\" style=\"fill:#000000;fill-opacity:1;fill-rule:evenodd;stroke:#000000;stroke-width:1pt;stroke-opacity:1\" d=\"M 0,0 5,-5 -12.5,0 5,5 Z\" id=\"path3625\"/>\n",
       "    </marker>\n",
       "    <marker style=\"overflow:visible\" id=\"marker3545\" refX=\"0\" refY=\"0\" orient=\"auto\" inkscape:stockid=\"Arrow1Lstart\" inkscape:isstock=\"true\" inkscape:collect=\"always\">\n",
       "      <path transform=\"matrix(0.8,0,0,0.8,10,0)\" style=\"fill:#000000;fill-opacity:1;fill-rule:evenodd;stroke:#000000;stroke-width:1pt;stroke-opacity:1\" d=\"M 0,0 5,-5 -12.5,0 5,5 Z\" id=\"path3543\"/>\n",
       "    </marker>\n",
       "    <marker style=\"overflow:visible\" id=\"marker3325\" refX=\"0\" refY=\"0\" orient=\"auto\" inkscape:stockid=\"Arrow1Lend\" inkscape:isstock=\"true\" inkscape:collect=\"always\">\n",
       "      <path transform=\"matrix(-0.8,0,0,-0.8,-10,0)\" style=\"fill:#000000;fill-opacity:1;fill-rule:evenodd;stroke:#000000;stroke-width:1pt;stroke-opacity:1\" d=\"M 0,0 5,-5 -12.5,0 5,5 Z\" id=\"path3323\"/>\n",
       "    </marker>\n",
       "    <marker style=\"overflow:visible\" id=\"marker3315\" refX=\"0\" refY=\"0\" orient=\"auto\" inkscape:stockid=\"Arrow1Lend\" inkscape:isstock=\"true\">\n",
       "      <path transform=\"matrix(-0.8,0,0,-0.8,-10,0)\" style=\"fill:#000000;fill-opacity:1;fill-rule:evenodd;stroke:#000000;stroke-width:1pt;stroke-opacity:1\" d=\"M 0,0 5,-5 -12.5,0 5,5 Z\" id=\"path3313\"/>\n",
       "    </marker>\n",
       "    <marker style=\"overflow:visible\" id=\"marker3305\" refX=\"0\" refY=\"0\" orient=\"auto\" inkscape:stockid=\"Arrow1Lstart\" inkscape:isstock=\"true\" inkscape:collect=\"always\">\n",
       "      <path transform=\"matrix(0.8,0,0,0.8,10,0)\" style=\"fill:#000000;fill-opacity:1;fill-rule:evenodd;stroke:#000000;stroke-width:1pt;stroke-opacity:1\" d=\"M 0,0 5,-5 -12.5,0 5,5 Z\" id=\"path3303\"/>\n",
       "    </marker>\n",
       "    <marker style=\"overflow:visible\" id=\"marker3295\" refX=\"0\" refY=\"0\" orient=\"auto\" inkscape:stockid=\"Arrow1Lstart\" inkscape:isstock=\"true\">\n",
       "      <path transform=\"matrix(0.8,0,0,0.8,10,0)\" style=\"fill:#000000;fill-opacity:1;fill-rule:evenodd;stroke:#000000;stroke-width:1pt;stroke-opacity:1\" d=\"M 0,0 5,-5 -12.5,0 5,5 Z\" id=\"path3293\"/>\n",
       "    </marker>\n",
       "    <marker style=\"overflow:visible\" id=\"marker3071\" refX=\"0\" refY=\"0\" orient=\"auto\" inkscape:stockid=\"Arrow1Lend\" inkscape:isstock=\"true\" inkscape:collect=\"always\">\n",
       "      <path transform=\"matrix(-0.8,0,0,-0.8,-10,0)\" style=\"fill:#000000;fill-opacity:1;fill-rule:evenodd;stroke:#000000;stroke-width:1pt;stroke-opacity:1\" d=\"M 0,0 5,-5 -12.5,0 5,5 Z\" id=\"path3069\"/>\n",
       "    </marker>\n",
       "    <marker style=\"overflow:visible\" id=\"marker3025\" refX=\"0\" refY=\"0\" orient=\"auto\" inkscape:stockid=\"Arrow1Lstart\" inkscape:isstock=\"true\" inkscape:collect=\"always\">\n",
       "      <path transform=\"matrix(0.8,0,0,0.8,10,0)\" style=\"fill:#000000;fill-opacity:1;fill-rule:evenodd;stroke:#000000;stroke-width:1pt;stroke-opacity:1\" d=\"M 0,0 5,-5 -12.5,0 5,5 Z\" id=\"path3023\"/>\n",
       "    </marker>\n",
       "  </defs>\n",
       "  <sodipodi:namedview id=\"base\" pagecolor=\"#ffffff\" bordercolor=\"#666666\" borderopacity=\"1.0\" inkscape:pageopacity=\"0.0\" inkscape:pageshadow=\"2\" inkscape:zoom=\"1.4\" inkscape:cx=\"455.38664\" inkscape:cy=\"232.17029\" inkscape:document-units=\"mm\" inkscape:current-layer=\"layer10\" inkscape:document-rotation=\"0\" showgrid=\"false\" inkscape:snap-object-midpoints=\"true\" showguides=\"true\" inkscape:guide-bbox=\"true\" inkscape:snap-nodes=\"false\" inkscape:snap-others=\"false\" showborder=\"true\" inkscape:window-width=\"1920\" inkscape:window-height=\"1017\" inkscape:window-x=\"-8\" inkscape:window-y=\"-8\" inkscape:window-maximized=\"1\">\n",
       "    <sodipodi:guide position=\"38.747569,79.995114\" orientation=\"1,0\" id=\"guide2945\"/>\n",
       "    <sodipodi:guide position=\"173.68537,79.995114\" orientation=\"1,0\" id=\"guide2947\"/>\n",
       "    <sodipodi:guide position=\"52.410378,72.688854\" orientation=\"0,-1\" id=\"guide2949\"/>\n",
       "    <sodipodi:guide position=\"65.450557,23.740938\" orientation=\"0,-1\" id=\"guide2951\"/>\n",
       "    <sodipodi:guide position=\"106.27199,28.654629\" orientation=\"0,-1\" id=\"guide2959\"/>\n",
       "  </sodipodi:namedview>\n",
       "  <metadata id=\"metadata2280\">\n",
       "    <rdf:RDF>\n",
       "      <cc:Work rdf:about=\"\">\n",
       "        <dc:format>image/svg+xml</dc:format>\n",
       "        <dc:type rdf:resource=\"http://purl.org/dc/dcmitype/StillImage\"/>\n",
       "        <dc:title/>\n",
       "      </cc:Work>\n",
       "    </rdf:RDF>\n",
       "  </metadata>\n",
       "  <g inkscape:groupmode=\"layer\" id=\"layer10\" inkscape:label=\"Layer 2\">\n",
       "    <rect style=\"fill:#ffffff;stroke:#ffffff;stroke-width:0.865\" id=\"rect8046\" width=\"248.33035\" height=\"93.360123\" x=\"-0.1889881\" y=\"0\"/>\n",
       "  </g>\n",
       "  <g inkscape:label=\"Layer 1\" inkscape:groupmode=\"layer\" id=\"layer1\" transform=\"translate(-5.7979541,-147.21828)\">\n",
       "    <g id=\"g4661\">\n",
       "      <path style=\"fill:none;stroke:#000000;stroke-width:0.365;stroke-linecap:butt;stroke-linejoin:miter;stroke-opacity:1;stroke-miterlimit:4;stroke-dasharray:none\" d=\"m 164.6125,168.0126 c -0.0661,2.07932 0.46003,4.02014 -0.61118,5.46555\" id=\"path4652\" sodipodi:nodetypes=\"cc\"/>\n",
       "      <path style=\"fill:none;stroke:#000000;stroke-width:0.365;stroke-linecap:butt;stroke-linejoin:miter;stroke-opacity:1;stroke-miterlimit:4;stroke-dasharray:none\" d=\"m 164.5347,170.69529 c 0.72288,0.37788 1.15278,0.92139 2.28685,0.0857 l -0.12099,-2.89337\" id=\"path4654\" sodipodi:nodetypes=\"ccc\"/>\n",
       "      <path style=\"fill:none;stroke:#000000;stroke-width:0.365;stroke-linecap:butt;stroke-linejoin:miter;stroke-opacity:1;stroke-miterlimit:4;stroke-dasharray:none\" d=\"m 166.78319,170.86932 c 0.0956,0.48541 0.40666,0.61309 1.09187,0.11931\" id=\"path4656\" sodipodi:nodetypes=\"cc\"/>\n",
       "    </g>\n",
       "    <g inkscape:label=\"Layer 1\" id=\"layer1-6\" transform=\"matrix(0.35681674,0,0,0.35601926,4.9599006,149.24697)\" style=\"stroke-width:1.44474\">\n",
       "      <path id=\"path839\" style=\"fill:#ffffff;stroke:#000000;stroke-width:3.82231;stroke-linejoin:bevel;stroke-miterlimit:4;stroke-dasharray:none\" d=\"M 219.92383,480 A 39.999999,39.999999 0 0 0 180,520 a 39.999999,39.999999 0 0 0 0,0.0762 V 590 h 80 v -70 a 39.999999,39.999999 0 0 0 -40,-40 39.999999,39.999999 0 0 0 -0.0762,0 z\" transform=\"scale(0.26458333)\"/>\n",
       "      <path style=\"fill:none;stroke:#000000;stroke-width:1.01132;stroke-linecap:butt;stroke-linejoin:miter;stroke-miterlimit:4;stroke-dasharray:none;stroke-opacity:1\" d=\"M 22.489583,156.10416 H 99.218749\" id=\"path850\"/>\n",
       "      <path style=\"fill:none;stroke:#000000;stroke-width:1.01132;stroke-linecap:butt;stroke-linejoin:miter;stroke-miterlimit:4;stroke-dasharray:none;stroke-opacity:1\" d=\"m 22.489583,156.10416 9.929222,17.19792\" id=\"path852\"/>\n",
       "      <path style=\"fill:none;stroke:#000000;stroke-width:1.01132;stroke-linecap:butt;stroke-linejoin:miter;stroke-miterlimit:4;stroke-dasharray:none;stroke-opacity:1\" d=\"m 39.952094,156.10416 9.929222,17.19792\" id=\"path854\"/>\n",
       "      <path style=\"fill:none;stroke:#000000;stroke-width:1.01132;stroke-linecap:butt;stroke-linejoin:miter;stroke-miterlimit:4;stroke-dasharray:none;stroke-opacity:1\" d=\"m 56.885438,156.10416 9.929222,17.19792\" id=\"path856\"/>\n",
       "      <path style=\"fill:none;stroke:#000000;stroke-width:1.01132;stroke-linecap:butt;stroke-linejoin:miter;stroke-miterlimit:4;stroke-dasharray:none;stroke-opacity:1\" d=\"m 74.347949,156.10416 9.929222,17.19792\" id=\"path858\"/>\n",
       "      <path style=\"fill:none;stroke:#000000;stroke-width:1.01132;stroke-linecap:butt;stroke-linejoin:miter;stroke-miterlimit:4;stroke-dasharray:none;stroke-opacity:1\" d=\"m 91.81046,156.10416 9.92923,17.19792\" id=\"path860\"/>\n",
       "      <circle style=\"fill:#ffffff;stroke:#000000;stroke-width:1.01132;stroke-linejoin:bevel\" id=\"path1592\" cx=\"58.266396\" cy=\"137.45695\" r=\"3.6994057\"/>\n",
       "    </g>\n",
       "    <circle style=\"fill:none;stroke:#000000;stroke-width:0.205973;stroke-linejoin:bevel;stroke-miterlimit:4;stroke-dasharray:2.47167, 2.47167;stroke-dashoffset:0\" id=\"path2919\" cx=\"25.750328\" cy=\"198.1843\" r=\"19.858841\"/>\n",
       "    <path id=\"path2921\" style=\"fill:#ffffff;stroke:#000000;stroke-width:0.360452;stroke-linejoin:bevel;stroke-miterlimit:4;stroke-dasharray:none\" d=\"m 95.206247,194.46141 a 3.7763105,3.7678703 0 0 0 -3.769119,3.76787 3.7763105,3.7678703 0 0 0 0,0.007 v 6.58659 h 7.552623 v -6.59377 a 3.7763105,3.7678703 0 0 0 -3.776307,-3.76788 3.7763105,3.7678703 0 0 0 -0.007,0 z\"/>\n",
       "    <path style=\"fill:none;stroke:#000000;stroke-width:0.360452;stroke-linecap:butt;stroke-linejoin:miter;stroke-miterlimit:4;stroke-dasharray:none;stroke-opacity:1\" d=\"M 82.468389,204.82305 H 109.84664\" id=\"path2923\"/>\n",
       "    <path style=\"fill:none;stroke:#000000;stroke-width:0.360452;stroke-linecap:butt;stroke-linejoin:miter;stroke-miterlimit:4;stroke-dasharray:none;stroke-opacity:1\" d=\"m 82.468389,204.82305 3.542914,6.1228\" id=\"path2925\"/>\n",
       "    <path style=\"fill:none;stroke:#000000;stroke-width:0.360452;stroke-linecap:butt;stroke-linejoin:miter;stroke-miterlimit:4;stroke-dasharray:none;stroke-opacity:1\" d=\"m 88.699306,204.82305 3.542911,6.1228\" id=\"path2927\"/>\n",
       "    <path style=\"fill:none;stroke:#000000;stroke-width:0.360452;stroke-linecap:butt;stroke-linejoin:miter;stroke-miterlimit:4;stroke-dasharray:none;stroke-opacity:1\" d=\"m 94.741406,204.82305 3.54292,6.1228\" id=\"path2929\"/>\n",
       "    <path style=\"fill:none;stroke:#000000;stroke-width:0.360452;stroke-linecap:butt;stroke-linejoin:miter;stroke-miterlimit:4;stroke-dasharray:none;stroke-opacity:1\" d=\"m 100.97233,204.82305 3.5429,6.1228\" id=\"path2931\"/>\n",
       "    <path style=\"fill:none;stroke:#000000;stroke-width:0.360452;stroke-linecap:butt;stroke-linejoin:miter;stroke-miterlimit:4;stroke-dasharray:none;stroke-opacity:1\" d=\"m 107.20324,204.82305 3.54292,6.1228\" id=\"path2933\"/>\n",
       "    <ellipse style=\"fill:#ffffff;stroke:#000000;stroke-width:0.360452;stroke-linejoin:bevel\" id=\"circle2935\" cx=\"95.234154\" cy=\"198.1843\" rx=\"1.3200099\" ry=\"1.3170596\"/>\n",
       "    <path style=\"fill:none;stroke:#000000;stroke-width:0.136242;stroke-linecap:butt;stroke-linejoin:miter;stroke-miterlimit:4;stroke-dasharray:1.63491, 1.63491;stroke-dashoffset:0;stroke-opacity:1\" d=\"M 25.750327,198.1843 H 95.234155\" id=\"path2939\"/>\n",
       "    <path style=\"fill:none;stroke:#000000;stroke-width:0.393923;stroke-linecap:butt;stroke-linejoin:miter;stroke-miterlimit:4;stroke-dasharray:none;stroke-opacity:1\" d=\"M 25.750327,198.1843 H 45.720516 L 80.823118,163.08169 95.234155,198.1843\" id=\"path2941\"/>\n",
       "    <path style=\"fill:none;stroke:#000000;stroke-width:0.136242px;stroke-linecap:butt;stroke-linejoin:miter;stroke-opacity:1\" d=\"M 75.857256,150.87278 80.823118,163.08169 91.9316,151.97321\" id=\"path2943\"/>\n",
       "    <path style=\"fill:none;stroke:#000000;stroke-width:0.136242px;stroke-linecap:butt;stroke-linejoin:miter;stroke-opacity:1\" d=\"m 25.750325,201.94652 v 25.20486\" id=\"path2955\"/>\n",
       "    <path style=\"fill:none;stroke:#000000;stroke-width:0.136242px;stroke-linecap:butt;stroke-linejoin:miter;stroke-opacity:1\" d=\"m 95.234155,201.94652 v 25.20486\" id=\"path2957\"/>\n",
       "    <path style=\"fill:none;stroke:#000000;stroke-width:0.136242px;stroke-linecap:butt;stroke-linejoin:miter;stroke-opacity:1;marker-start:url(#marker4885);marker-end:url(#marker4991)\" d=\"m 25.750325,224.62116 h 69.48383\" id=\"path2961\"/>\n",
       "    <path style=\"fill:none;stroke:#000000;stroke-width:0.136242px;stroke-linecap:butt;stroke-linejoin:miter;stroke-opacity:1;marker-start:url(#marker3025);marker-end:url(#marker3071)\" d=\"m 76.918583,153.93449 c 5.839095,-2.17427 8.959857,-0.69852 11.736682,1.23904\" id=\"path3015\" sodipodi:nodetypes=\"cc\"/>\n",
       "    <ellipse style=\"fill:#ffffff;stroke:#000000;stroke-width:0.360452;stroke-linejoin:bevel\" id=\"ellipse3123\" cx=\"45.720516\" cy=\"198.1843\" rx=\"1.3200099\" ry=\"1.3170596\"/>\n",
       "    <ellipse style=\"fill:#ffffff;stroke:#000000;stroke-width:0.360452;stroke-linejoin:bevel\" id=\"ellipse3125\" cx=\"80.82312\" cy=\"163.08168\" rx=\"1.3200099\" ry=\"1.3170596\"/>\n",
       "    <text xml:space=\"preserve\" style=\"font-size:3.99644px;line-height:1.25;font-family:sans-serif;-inkscape-font-specification:sans-serif;stroke-width:0.136242\" x=\"34.590729\" y=\"197.0173\" id=\"text3129\"><tspan sodipodi:role=\"line\" id=\"tspan3127\" x=\"34.590729\" y=\"197.0173\" style=\"stroke-width:0.136242\">a</tspan></text>\n",
       "    <text xml:space=\"preserve\" style=\"font-size:3.99644px;line-height:1.25;font-family:sans-serif;-inkscape-font-specification:sans-serif;stroke-width:0.136242\" x=\"64.487701\" y=\"203.41287\" id=\"text3133\"><tspan sodipodi:role=\"line\" id=\"tspan3131\" x=\"64.487701\" y=\"203.41287\" style=\"stroke-width:0.136242\">1</tspan></text>\n",
       "    <text xml:space=\"preserve\" style=\"font-size:3.99644px;line-height:1.25;font-family:sans-serif;-inkscape-font-specification:sans-serif;stroke-width:0.136242\" x=\"35.603798\" y=\"202.27255\" id=\"text3137\"><tspan sodipodi:role=\"line\" id=\"tspan3135\" x=\"35.603798\" y=\"202.27255\" style=\"stroke-width:0.136242\">2</tspan></text>\n",
       "    <text xml:space=\"preserve\" style=\"font-size:3.99644px;line-height:1.25;font-family:sans-serif;-inkscape-font-specification:sans-serif;stroke-width:0.136242\" x=\"62.710781\" y=\"184.73685\" id=\"text3141\"><tspan sodipodi:role=\"line\" id=\"tspan3139\" x=\"62.710781\" y=\"184.73685\" style=\"stroke-width:0.136242\">3</tspan></text>\n",
       "    <text xml:space=\"preserve\" style=\"font-size:3.99644px;line-height:1.25;font-family:sans-serif;-inkscape-font-specification:sans-serif;stroke-width:0.136242\" x=\"84.599503\" y=\"183.567\" id=\"text3145\"><tspan sodipodi:role=\"line\" id=\"tspan3143\" x=\"84.599503\" y=\"183.567\" style=\"stroke-width:0.136242\">4</tspan></text>\n",
       "    <text xml:space=\"preserve\" style=\"font-size:3.99644px;line-height:1.25;font-family:sans-serif;-inkscape-font-specification:sans-serif;stroke-width:0.136242\" x=\"59.334427\" y=\"222.79683\" id=\"text3149\"><tspan sodipodi:role=\"line\" id=\"tspan3147\" x=\"59.334427\" y=\"222.79683\" style=\"stroke-width:0.136242\">d</tspan></text>\n",
       "    <text xml:space=\"preserve\" style=\"font-size:3.99644px;line-height:1.25;font-family:sans-serif;-inkscape-font-specification:sans-serif;stroke-width:0.136242\" x=\"57.516457\" y=\"182.48795\" id=\"text3153\"><tspan sodipodi:role=\"line\" id=\"tspan3151\" x=\"57.516457\" y=\"182.48795\" style=\"stroke-width:0.136242\">b</tspan></text>\n",
       "    <text xml:space=\"preserve\" style=\"font-size:3.99644px;line-height:1.25;font-family:sans-serif;-inkscape-font-specification:sans-serif;stroke-width:0.136242\" x=\"89.477371\" y=\"182.15663\" id=\"text3157\"><tspan sodipodi:role=\"line\" id=\"tspan3155\" x=\"89.477371\" y=\"182.15663\" style=\"stroke-width:0.136242\">c</tspan></text>\n",
       "    <text xml:space=\"preserve\" style=\"font-size:3.99644px;line-height:1.25;font-family:sans-serif;-inkscape-font-specification:sans-serif;stroke-width:0.136242\" x=\"22.726767\" y=\"203.0885\" id=\"text3161\"><tspan sodipodi:role=\"line\" id=\"tspan3159\" x=\"22.726767\" y=\"203.0885\" style=\"stroke-width:0.136242\">O<tspan style=\"font-size:2.59769px;baseline-shift:sub;stroke-width:0.136242\" id=\"tspan3163\">2</tspan></tspan></text>\n",
       "    <text xml:space=\"preserve\" style=\"font-size:3.99644px;line-height:1.25;font-family:sans-serif;-inkscape-font-specification:sans-serif;stroke-width:0.136242\" x=\"92.849266\" y=\"202.92099\" id=\"text3167\"><tspan sodipodi:role=\"line\" id=\"tspan3165\" x=\"92.849266\" y=\"202.92099\" style=\"stroke-width:0.136242\">O<tspan style=\"font-size:2.59769px;baseline-shift:sub;stroke-width:0.136242\" id=\"tspan3169\">4</tspan></tspan></text>\n",
       "    <g inkscape:label=\"Layer 1\" id=\"g3211\" transform=\"matrix(0.35681674,0,0,0.35601926,147.19768,149.24697)\" style=\"stroke-width:1.44474\">\n",
       "      <path id=\"path3195\" style=\"fill:#ffffff;stroke:#000000;stroke-width:3.82231;stroke-linejoin:bevel;stroke-miterlimit:4;stroke-dasharray:none\" d=\"M 219.92383,480 A 39.999999,39.999999 0 0 0 180,520 a 39.999999,39.999999 0 0 0 0,0.0762 V 590 h 80 v -70 a 39.999999,39.999999 0 0 0 -40,-40 39.999999,39.999999 0 0 0 -0.0762,0 z\" transform=\"scale(0.26458333)\"/>\n",
       "      <path style=\"fill:none;stroke:#000000;stroke-width:1.01132;stroke-linecap:butt;stroke-linejoin:miter;stroke-miterlimit:4;stroke-dasharray:none;stroke-opacity:1\" d=\"M 22.489583,156.10416 H 99.218749\" id=\"path3197\"/>\n",
       "      <path style=\"fill:none;stroke:#000000;stroke-width:1.01132;stroke-linecap:butt;stroke-linejoin:miter;stroke-miterlimit:4;stroke-dasharray:none;stroke-opacity:1\" d=\"m 22.489583,156.10416 9.929222,17.19792\" id=\"path3199\"/>\n",
       "      <path style=\"fill:none;stroke:#000000;stroke-width:1.01132;stroke-linecap:butt;stroke-linejoin:miter;stroke-miterlimit:4;stroke-dasharray:none;stroke-opacity:1\" d=\"m 39.952094,156.10416 9.929222,17.19792\" id=\"path3201\"/>\n",
       "      <path style=\"fill:none;stroke:#000000;stroke-width:1.01132;stroke-linecap:butt;stroke-linejoin:miter;stroke-miterlimit:4;stroke-dasharray:none;stroke-opacity:1\" d=\"m 56.885438,156.10416 9.929222,17.19792\" id=\"path3203\"/>\n",
       "      <path style=\"fill:none;stroke:#000000;stroke-width:1.01132;stroke-linecap:butt;stroke-linejoin:miter;stroke-miterlimit:4;stroke-dasharray:none;stroke-opacity:1\" d=\"m 74.347949,156.10416 9.929222,17.19792\" id=\"path3205\"/>\n",
       "      <path style=\"fill:none;stroke:#000000;stroke-width:1.01132;stroke-linecap:butt;stroke-linejoin:miter;stroke-miterlimit:4;stroke-dasharray:none;stroke-opacity:1\" d=\"m 91.81046,156.10416 9.92923,17.19792\" id=\"path3207\"/>\n",
       "      <circle style=\"fill:#ffffff;stroke:#000000;stroke-width:1.01132;stroke-linejoin:bevel\" id=\"circle3209\" cx=\"58.266396\" cy=\"137.45695\" r=\"3.6994057\"/>\n",
       "    </g>\n",
       "    <circle style=\"fill:none;stroke:#000000;stroke-width:0.205973;stroke-linejoin:bevel;stroke-miterlimit:4;stroke-dasharray:2.47167, 2.47167;stroke-dashoffset:0\" id=\"circle3213\" cx=\"167.98712\" cy=\"198.1843\" r=\"19.858841\"/>\n",
       "    <path id=\"path3215\" style=\"fill:#ffffff;stroke:#000000;stroke-width:0.360452;stroke-linejoin:bevel;stroke-miterlimit:4;stroke-dasharray:none\" d=\"m 237.44431,194.46141 a 3.7763105,3.7678703 0 0 0 -3.76912,3.76787 3.7763105,3.7678703 0 0 0 0,0.007 v 6.58659 h 7.55262 v -6.59377 a 3.7763105,3.7678703 0 0 0 -3.7763,-3.76788 3.7763105,3.7678703 0 0 0 -0.007,0 z\"/>\n",
       "    <path style=\"fill:none;stroke:#000000;stroke-width:0.360452;stroke-linecap:butt;stroke-linejoin:miter;stroke-miterlimit:4;stroke-dasharray:none;stroke-opacity:1\" d=\"M 224.70645,204.82305 H 252.0847\" id=\"path3217\"/>\n",
       "    <path style=\"fill:none;stroke:#000000;stroke-width:0.360452;stroke-linecap:butt;stroke-linejoin:miter;stroke-miterlimit:4;stroke-dasharray:none;stroke-opacity:1\" d=\"m 224.70645,204.82305 3.54291,6.1228\" id=\"path3219\"/>\n",
       "    <path style=\"fill:none;stroke:#000000;stroke-width:0.360452;stroke-linecap:butt;stroke-linejoin:miter;stroke-miterlimit:4;stroke-dasharray:none;stroke-opacity:1\" d=\"m 230.93737,204.82305 3.54291,6.1228\" id=\"path3221\"/>\n",
       "    <path style=\"fill:none;stroke:#000000;stroke-width:0.360452;stroke-linecap:butt;stroke-linejoin:miter;stroke-miterlimit:4;stroke-dasharray:none;stroke-opacity:1\" d=\"m 236.97947,204.82305 3.54291,6.1228\" id=\"path3223\"/>\n",
       "    <path style=\"fill:none;stroke:#000000;stroke-width:0.360452;stroke-linecap:butt;stroke-linejoin:miter;stroke-miterlimit:4;stroke-dasharray:none;stroke-opacity:1\" d=\"m 243.21038,204.82305 3.54291,6.1228\" id=\"path3225\"/>\n",
       "    <path style=\"fill:none;stroke:#000000;stroke-width:0.360452;stroke-linecap:butt;stroke-linejoin:miter;stroke-miterlimit:4;stroke-dasharray:none;stroke-opacity:1\" d=\"m 249.4413,204.82305 3.54292,6.1228\" id=\"path3227\"/>\n",
       "    <path style=\"fill:none;stroke:#000000;stroke-width:0.136242;stroke-linecap:butt;stroke-linejoin:miter;stroke-miterlimit:4;stroke-dasharray:1.63491, 1.63491;stroke-dashoffset:0;stroke-opacity:1\" d=\"m 167.98823,198.1843 h 69.48399\" id=\"path3231\"/>\n",
       "    <path style=\"fill:none;stroke:#000000;stroke-width:0.136242px;stroke-linecap:butt;stroke-linejoin:miter;stroke-opacity:1\" d=\"m 167.98823,201.94652 v 25.20486\" id=\"path3237\"/>\n",
       "    <path style=\"fill:none;stroke:#000000;stroke-width:0.136242px;stroke-linecap:butt;stroke-linejoin:miter;stroke-opacity:1\" d=\"m 237.47222,201.94652 v 25.20486\" id=\"path3239\"/>\n",
       "    <path style=\"fill:none;stroke:#000000;stroke-width:0.136242px;stroke-linecap:butt;stroke-linejoin:miter;stroke-opacity:1;marker-start:url(#marker3305);marker-end:url(#marker3325)\" d=\"m 167.98823,224.62116 h 69.48399\" id=\"path3241\"/>\n",
       "    <text xml:space=\"preserve\" style=\"font-size:3.99644px;line-height:1.25;font-family:sans-serif;-inkscape-font-specification:sans-serif;stroke-width:0.136242\" x=\"157.50937\" y=\"197.27831\" id=\"text3251\"><tspan sodipodi:role=\"line\" id=\"tspan3249\" x=\"157.50937\" y=\"197.27831\" style=\"stroke-width:0.136242\">a</tspan></text>\n",
       "    <text xml:space=\"preserve\" style=\"font-size:3.99644px;line-height:1.25;font-family:sans-serif;-inkscape-font-specification:sans-serif;stroke-width:0.136242\" x=\"195.70816\" y=\"196.87692\" id=\"text3255\"><tspan sodipodi:role=\"line\" id=\"tspan3253\" x=\"195.70816\" y=\"196.87692\" style=\"stroke-width:0.136242\">1</tspan></text>\n",
       "    <text xml:space=\"preserve\" style=\"font-size:3.99644px;line-height:1.25;font-family:sans-serif;-inkscape-font-specification:sans-serif;stroke-width:0.136242\" x=\"155.43625\" y=\"201.88126\" id=\"text3259\"><tspan sodipodi:role=\"line\" id=\"tspan3257\" x=\"155.43625\" y=\"201.88126\" style=\"stroke-width:0.136242\">2</tspan></text>\n",
       "    <text xml:space=\"preserve\" style=\"font-size:3.99644px;line-height:1.25;font-family:sans-serif;-inkscape-font-specification:sans-serif;stroke-width:0.136242\" x=\"176.65271\" y=\"187.94762\" id=\"text3263\"><tspan sodipodi:role=\"line\" id=\"tspan3261\" x=\"176.65271\" y=\"187.94762\" style=\"stroke-width:0.136242\">3</tspan></text>\n",
       "    <text xml:space=\"preserve\" style=\"font-size:3.99644px;line-height:1.25;font-family:sans-serif;-inkscape-font-specification:sans-serif;stroke-width:0.136242\" x=\"214.94711\" y=\"189.11607\" id=\"text3267\"><tspan sodipodi:role=\"line\" id=\"tspan3265\" x=\"214.94711\" y=\"189.11607\" style=\"stroke-width:0.136242\">4</tspan></text>\n",
       "    <text xml:space=\"preserve\" style=\"font-size:3.99644px;line-height:1.25;font-family:sans-serif;-inkscape-font-specification:sans-serif;stroke-width:0.136242\" x=\"201.57172\" y=\"222.79683\" id=\"text3271\"><tspan sodipodi:role=\"line\" id=\"tspan3269\" x=\"201.57172\" y=\"222.79683\" style=\"stroke-width:0.136242\">d</tspan></text>\n",
       "    <text xml:space=\"preserve\" style=\"font-size:3.99644px;line-height:1.25;font-family:sans-serif;-inkscape-font-specification:sans-serif;stroke-width:0.136242\" x=\"173.49983\" y=\"183.9929\" id=\"text3275\"><tspan sodipodi:role=\"line\" id=\"tspan3273\" x=\"173.49983\" y=\"183.9929\" style=\"stroke-width:0.136242\">b</tspan></text>\n",
       "    <text xml:space=\"preserve\" style=\"font-size:3.99644px;line-height:1.25;font-family:sans-serif;-inkscape-font-specification:sans-serif;stroke-width:0.136242\" x=\"217.80527\" y=\"185.28682\" id=\"text3279\"><tspan sodipodi:role=\"line\" id=\"tspan3277\" x=\"217.80527\" y=\"185.28682\" style=\"stroke-width:0.136242\">c</tspan></text>\n",
       "    <text xml:space=\"preserve\" style=\"font-size:3.99644px;line-height:1.25;font-family:sans-serif;-inkscape-font-specification:sans-serif;stroke-width:0.136242\" x=\"164.96355\" y=\"203.0885\" id=\"text3285\"><tspan sodipodi:role=\"line\" id=\"tspan3283\" x=\"164.96355\" y=\"203.0885\" style=\"stroke-width:0.136242\">O<tspan style=\"font-size:2.59769px;baseline-shift:sub;stroke-width:0.136242\" id=\"tspan3281\">2</tspan></tspan></text>\n",
       "    <text xml:space=\"preserve\" style=\"font-size:3.99644px;line-height:1.25;font-family:sans-serif;-inkscape-font-specification:sans-serif;stroke-width:0.136242\" x=\"235.08742\" y=\"202.92099\" id=\"text3291\"><tspan sodipodi:role=\"line\" id=\"tspan3289\" x=\"235.08742\" y=\"202.92099\" style=\"stroke-width:0.136242\">O<tspan style=\"font-size:2.59769px;baseline-shift:sub;stroke-width:0.136242\" id=\"tspan3287\">4</tspan></tspan></text>\n",
       "    <path style=\"fill:none;stroke:#000000;stroke-width:0.393923;stroke-linecap:butt;stroke-linejoin:miter;stroke-miterlimit:4;stroke-dasharray:none;stroke-opacity:1\" d=\"M 167.98822,198.1843 H 148.17419\" id=\"path3525\"/>\n",
       "    <path style=\"fill:none;stroke:#000000;stroke-width:0.393923;stroke-linecap:butt;stroke-linejoin:miter;stroke-miterlimit:4;stroke-dasharray:none;stroke-opacity:1\" d=\"m 148.17757,198.18969 51.6391,-24.35773\" id=\"path3527\" inkscape:transform-center-x=\"-25.894544\" inkscape:transform-center-y=\"-12.221355\"/>\n",
       "    <ellipse style=\"fill:#ffffff;stroke:#000000;stroke-width:0.360452;stroke-linejoin:bevel\" id=\"ellipse3245\" cx=\"148.17418\" cy=\"198.1843\" rx=\"1.3200099\" ry=\"1.3170596\"/>\n",
       "    <ellipse style=\"fill:#ffffff;stroke:#000000;stroke-width:0.360452;stroke-linejoin:bevel\" id=\"ellipse3529\" cx=\"167.99004\" cy=\"198.18658\" rx=\"1.3200099\" ry=\"1.3170596\"/>\n",
       "    <path style=\"fill:none;stroke:#000000;stroke-width:0.136242px;stroke-linecap:butt;stroke-linejoin:miter;stroke-opacity:1\" d=\"m 213.16278,167.25624 -13.34611,6.57572 -10.2638,-7.11744\" id=\"path3531\" sodipodi:nodetypes=\"ccc\"/>\n",
       "    <path style=\"fill:none;stroke:#000000;stroke-width:0.136242px;stroke-linecap:butt;stroke-linejoin:miter;stroke-opacity:1;marker-start:url(#marker3545);marker-end:url(#marker3627)\" d=\"m 206.88659,170.06817 c -3.16529,-1.98103 -6.21867,-4.22563 -12.02394,0.0117\" id=\"path3533\" sodipodi:nodetypes=\"cc\"/>\n",
       "    <path style=\"fill:none;stroke:#000000;stroke-width:0.136242px;stroke-linecap:butt;stroke-linejoin:miter;stroke-opacity:1;marker-start:url(#marker3715);marker-end:url(#marker3809)\" d=\"m 192.43721,169.09203 c -3.47031,2.99248 -3.33938,5.9577 -2.43791,8.91708\" id=\"path3535\" sodipodi:nodetypes=\"cc\"/>\n",
       "    <path style=\"fill:none;stroke:#000000;stroke-width:0.393923;stroke-linecap:butt;stroke-linejoin:miter;stroke-miterlimit:4;stroke-dasharray:none;stroke-opacity:1\" d=\"m 199.81666,173.83196 37.65571,24.35234\" id=\"path3901\"/>\n",
       "    <ellipse style=\"fill:#ffffff;stroke:#000000;stroke-width:0.360452;stroke-linejoin:bevel\" id=\"ellipse3229\" cx=\"237.47237\" cy=\"198.1843\" rx=\"1.3200099\" ry=\"1.3170596\"/>\n",
       "    <text xml:space=\"preserve\" style=\"font-size:3.99644px;line-height:1.25;font-family:sans-serif;-inkscape-font-specification:sans-serif;stroke-width:0.136242\" x=\"46.221718\" y=\"202.39124\" id=\"text4013\"><tspan sodipodi:role=\"line\" id=\"tspan4011\" x=\"46.221718\" y=\"202.39124\" style=\"stroke-width:0.136242\">A</tspan></text>\n",
       "    <text xml:space=\"preserve\" style=\"font-size:3.99644px;line-height:1.25;font-family:sans-serif;-inkscape-font-specification:sans-serif;stroke-width:0.136242\" x=\"75.836533\" y=\"163.35806\" id=\"text4017\"><tspan sodipodi:role=\"line\" id=\"tspan4015\" x=\"75.836533\" y=\"163.35806\" style=\"stroke-width:0.136242\">B</tspan></text>\n",
       "    <text xml:space=\"preserve\" style=\"font-size:3.99644px;line-height:1.25;font-family:sans-serif;-inkscape-font-specification:sans-serif;stroke-width:0.136242\" x=\"143.00423\" y=\"199.0544\" id=\"text4021\"><tspan sodipodi:role=\"line\" id=\"tspan4019\" x=\"143.00423\" y=\"199.0544\" style=\"stroke-width:0.136242\">A</tspan></text>\n",
       "    <text xml:space=\"preserve\" style=\"font-size:3.99644px;line-height:1.25;font-family:sans-serif;-inkscape-font-specification:sans-serif;stroke-width:0.136242\" x=\"198.99225\" y=\"178.92603\" id=\"text4025\"><tspan sodipodi:role=\"line\" id=\"tspan4023\" x=\"198.99225\" y=\"178.92603\" style=\"stroke-width:0.136242\">B</tspan></text>\n",
       "    <ellipse style=\"fill:#ffffff;stroke:#000000;stroke-width:0.360452;stroke-linejoin:bevel\" id=\"ellipse4027\" cx=\"199.74599\" cy=\"173.84457\" rx=\"1.3200099\" ry=\"1.3170596\"/>\n",
       "    <path style=\"fill:none;stroke:#000000;stroke-width:0.34243;stroke-linecap:butt;stroke-linejoin:miter;stroke-miterlimit:4;stroke-dasharray:none;stroke-opacity:1\" d=\"m 81.797808,148.41089 c 0.11052,-0.12121 0.206608,-0.25557 0.28559,-0.39934 0.05097,-0.0928 0.09481,-0.18938 0.147626,-0.28111 0.05282,-0.0917 0.115543,-0.17945 0.19769,-0.2462 0.04038,-0.0328 0.08548,-0.0604 0.134711,-0.0772 0.04924,-0.0168 0.102794,-0.0226 0.153787,-0.0122 0.06658,0.0135 0.125464,0.0536 0.172256,0.10286 0.04679,0.0493 0.08278,0.10758 0.117691,0.16586 0.250323,0.41793 0.464384,0.86059 0.596558,1.32948 0.146126,0.51838 0.189909,1.05952 0.222242,1.59713 0.007,0.11648 0.01351,0.23338 0.005,0.34976 -0.0085,0.11638 -0.03246,0.23287 -0.08368,0.33772 -0.01749,0.0358 -0.03843,0.0705 -0.06717,0.0982 -0.02874,0.0276 -0.06605,0.0477 -0.105837,0.05 -0.0255,0.001 -0.05119,-0.004 -0.07427,-0.0153 -0.02309,-0.0109 -0.04364,-0.0268 -0.06128,-0.0453 -0.03529,-0.0369 -0.05869,-0.0834 -0.08019,-0.12978 -0.125651,-0.27092 -0.204147,-0.565 -0.216937,-0.86337 -0.02397,-0.55912 0.189396,-1.11893 0.555548,-1.54215 0.296408,-0.34261 0.690906,-0.59938 1.124181,-0.7317\" id=\"path4155\" inkscape:path-effect=\"#path-effect4157;#path-effect4159\" inkscape:original-d=\"m 81.797808,148.41089 c 0.332193,-0.2553 0.597285,-1.41683 1.080873,-0.89912 0.636971,0.68191 0.871894,1.91658 0.934814,2.81466 0.212347,3.03108 -2.202072,-1.03509 1.007835,-2.22828\"/>\n",
       "    <text xml:space=\"preserve\" style=\"font-size:3.99644px;line-height:1.25;font-family:sans-serif;-inkscape-font-specification:sans-serif;stroke-width:0.136242\" x=\"100.54018\" y=\"154.5627\" id=\"text4245\"><tspan sodipodi:role=\"line\" id=\"tspan4243\" x=\"100.54018\" y=\"154.5627\" style=\"stroke-width:0.136242\">1</tspan></text>\n",
       "    <text xml:space=\"preserve\" style=\"font-size:3.99644px;line-height:1.25;font-family:sans-serif;-inkscape-font-specification:sans-serif;stroke-width:0.136242\" x=\"103.42053\" y=\"152.15497\" id=\"text4249\"><tspan sodipodi:role=\"line\" id=\"tspan4247\" x=\"103.42053\" y=\"152.15497\" style=\"stroke-width:0.136242\">=</tspan></text>\n",
       "    <text xml:space=\"preserve\" style=\"font-size:3.99644px;line-height:1.25;font-family:sans-serif;-inkscape-font-specification:sans-serif;stroke-width:0.136242\" x=\"84.465279\" y=\"152.59389\" id=\"text4253\"><tspan sodipodi:role=\"line\" id=\"tspan4251\" x=\"84.465279\" y=\"152.59389\" style=\"stroke-width:0.136242\">1</tspan></text>\n",
       "    <path style=\"fill:none;stroke:#000000;stroke-width:0.34243;stroke-linecap:butt;stroke-linejoin:miter;stroke-miterlimit:4;stroke-dasharray:none;stroke-opacity:1\" d=\"m 81.797808,148.41089 c 0.11052,-0.12121 0.206608,-0.25557 0.28559,-0.39934 0.05097,-0.0928 0.09481,-0.18938 0.147626,-0.28111 0.05282,-0.0917 0.115543,-0.17945 0.19769,-0.2462 0.04038,-0.0328 0.08548,-0.0604 0.134711,-0.0772 0.04924,-0.0168 0.102794,-0.0226 0.153787,-0.0122 0.06658,0.0135 0.125464,0.0536 0.172256,0.10286 0.04679,0.0493 0.08278,0.10758 0.117691,0.16586 0.250323,0.41793 0.464384,0.86059 0.596558,1.32948 0.146126,0.51838 0.189909,1.05952 0.222242,1.59713 0.007,0.11648 0.01351,0.23338 0.005,0.34976 -0.0085,0.11638 -0.03246,0.23287 -0.08368,0.33772 -0.01749,0.0358 -0.03843,0.0705 -0.06717,0.0982 -0.02874,0.0276 -0.06605,0.0477 -0.105837,0.05 -0.0255,0.001 -0.05119,-0.004 -0.07427,-0.0153 -0.02309,-0.0109 -0.04364,-0.0268 -0.06128,-0.0453 -0.03529,-0.0369 -0.05869,-0.0834 -0.08019,-0.12978 -0.125651,-0.27092 -0.204147,-0.565 -0.216937,-0.86337 -0.02397,-0.55912 0.189396,-1.11893 0.555548,-1.54215 0.296408,-0.34261 0.690906,-0.59938 1.124181,-0.7317\" id=\"path4255\" inkscape:path-effect=\"#path-effect4257;#path-effect4259\" inkscape:original-d=\"m 81.797808,148.41089 c 0.332193,-0.2553 0.597285,-1.41683 1.080873,-0.89912 0.636971,0.68191 0.871894,1.91658 0.934814,2.81466 0.212347,3.03108 -2.202072,-1.03509 1.007835,-2.22828\"/>\n",
       "    <text xml:space=\"preserve\" style=\"font-size:3.99644px;line-height:1.25;font-family:sans-serif;-inkscape-font-specification:sans-serif;stroke-width:0.136242\" x=\"84.465279\" y=\"152.59389\" id=\"text4263\"><tspan sodipodi:role=\"line\" id=\"tspan4261\" x=\"84.465279\" y=\"152.59389\" style=\"stroke-width:0.136242\">1</tspan></text>\n",
       "    <path style=\"fill:none;stroke:#000000;stroke-width:0.34243;stroke-linecap:butt;stroke-linejoin:miter;stroke-miterlimit:4;stroke-dasharray:none;stroke-opacity:1\" d=\"m 108.07382,150.17745 c 0.11052,-0.12121 0.20661,-0.25557 0.28559,-0.39934 0.051,-0.0928 0.0948,-0.18938 0.14762,-0.28111 0.0528,-0.0917 0.11554,-0.17946 0.19769,-0.24621 0.0404,-0.0328 0.0855,-0.0604 0.13471,-0.0772 0.0492,-0.0168 0.1028,-0.0226 0.15379,-0.0122 0.0666,0.0135 0.12546,0.0536 0.17225,0.10286 0.0468,0.0493 0.0828,0.10757 0.1177,0.16585 0.25034,0.41792 0.46439,0.86059 0.59656,1.32948 0.14612,0.51838 0.1899,1.05952 0.22224,1.59713 0.007,0.11648 0.0135,0.23338 0.005,0.34976 -0.008,0.11639 -0.0325,0.23288 -0.0837,0.33773 -0.0175,0.0358 -0.0384,0.0705 -0.0672,0.0982 -0.0287,0.0276 -0.0661,0.0477 -0.10584,0.05 -0.0255,0.001 -0.0512,-0.004 -0.0743,-0.0153 -0.0231,-0.0109 -0.0436,-0.0268 -0.0613,-0.0453 -0.0353,-0.0369 -0.0587,-0.0834 -0.0802,-0.12979 -0.12564,-0.27092 -0.20414,-0.565 -0.21694,-0.86336 -0.024,-0.55912 0.18939,-1.11893 0.55555,-1.54215 0.29641,-0.3426 0.69091,-0.59937 1.12418,-0.7317\" id=\"path4265\" inkscape:path-effect=\"#path-effect4267;#path-effect4269\" inkscape:original-d=\"m 108.07382,150.17745 c 0.33219,-0.25531 0.59728,-1.41683 1.08087,-0.89913 0.63697,0.68191 0.87189,1.91658 0.93482,2.81466 0.21234,3.03109 -2.20207,-1.03508 1.00783,-2.22827\"/>\n",
       "    <text xml:space=\"preserve\" style=\"font-size:3.99644px;line-height:1.25;font-family:sans-serif;-inkscape-font-specification:sans-serif;stroke-width:0.136242\" x=\"110.74128\" y=\"154.36043\" id=\"text4273\"><tspan sodipodi:role=\"line\" id=\"tspan4271\" x=\"110.74128\" y=\"154.36043\" style=\"stroke-width:0.136242\">1</tspan></text>\n",
       "    <text xml:space=\"preserve\" style=\"font-size:3.99644px;line-height:1.25;font-family:sans-serif;-inkscape-font-specification:sans-serif;stroke-width:0.136242\" x=\"167.61801\" y=\"172.56633\" id=\"text4291\"><tspan sodipodi:role=\"line\" id=\"tspan4289\" x=\"167.61801\" y=\"172.56633\" style=\"stroke-width:0.136242\">2</tspan></text>\n",
       "    <text xml:space=\"preserve\" style=\"font-size:3.99644px;line-height:1.25;font-family:sans-serif;-inkscape-font-specification:sans-serif;stroke-width:0.136242\" x=\"170.49835\" y=\"170.1586\" id=\"text4295\"><tspan sodipodi:role=\"line\" id=\"tspan4293\" x=\"170.49835\" y=\"170.1586\" style=\"stroke-width:0.136242\">=</tspan></text>\n",
       "    <path style=\"fill:none;stroke:#000000;stroke-width:0.34243;stroke-linecap:butt;stroke-linejoin:miter;stroke-miterlimit:4;stroke-dasharray:none;stroke-opacity:1\" d=\"m 183.59875,168.18108 c 0.11052,-0.12121 0.20661,-0.25557 0.28559,-0.39934 0.051,-0.0928 0.0948,-0.18938 0.14763,-0.28111 0.0528,-0.0917 0.11554,-0.17946 0.19769,-0.24621 0.0404,-0.0328 0.0855,-0.0604 0.13471,-0.0772 0.0492,-0.0168 0.1028,-0.0226 0.15379,-0.0122 0.0666,0.0135 0.12546,0.0536 0.17226,0.10286 0.0468,0.0493 0.0828,0.10758 0.11769,0.16586 0.25032,0.41793 0.46438,0.86059 0.59655,1.32948 0.14612,0.51838 0.18991,1.05952 0.22224,1.59713 0.007,0.11648 0.0135,0.23338 0.005,0.34976 -0.008,0.11638 -0.0325,0.23287 -0.0837,0.33772 -0.0175,0.0358 -0.0384,0.0705 -0.0672,0.0981 -0.0287,0.0276 -0.0661,0.0477 -0.10583,0.05 -0.0255,0.001 -0.0512,-0.004 -0.0743,-0.0153 -0.0231,-0.0109 -0.0436,-0.0268 -0.0613,-0.0453 -0.0353,-0.0369 -0.0587,-0.0834 -0.0802,-0.12978 -0.12565,-0.27092 -0.20414,-0.565 -0.21693,-0.86336 -0.024,-0.55911 0.18939,-1.11893 0.55554,-1.54215 0.29641,-0.34261 0.6909,-0.59938 1.12418,-0.7317\" id=\"path4297\" inkscape:path-effect=\"#path-effect4299;#path-effect4301\" inkscape:original-d=\"m 183.59875,168.18108 c 0.33219,-0.2553 0.59729,-1.41684 1.08088,-0.89913 0.63697,0.68191 0.87189,1.91658 0.93481,2.81466 0.21235,3.03108 -2.20207,-1.03508 1.00783,-2.22827\"/>\n",
       "    <text xml:space=\"preserve\" style=\"font-size:3.99644px;line-height:1.25;font-family:sans-serif;-inkscape-font-specification:sans-serif;stroke-width:0.136242\" x=\"186.26627\" y=\"172.36407\" id=\"text4305\"><tspan sodipodi:role=\"line\" id=\"tspan4303\" x=\"186.26627\" y=\"172.36407\" style=\"stroke-width:0.136242\">2</tspan></text>\n",
       "    <g id=\"g4334\" transform=\"matrix(1.0221915,0,0,1.0236689,-173.49322,57.426552)\" style=\"stroke-width:0.352373;stroke-miterlimit:4;stroke-dasharray:none\">\n",
       "      <path style=\"fill:none;stroke:#000000;stroke-width:0.352373;stroke-linecap:butt;stroke-linejoin:miter;stroke-miterlimit:4;stroke-dasharray:none;stroke-opacity:1\" d=\"m 341.95107,111.12791 c 0.37115,-0.22903 0.67902,-0.55949 0.88123,-0.94591 0.26111,-0.49898 0.34198,-1.07286 0.36157,-1.63569 0.012,-0.34342 0.002,-0.69373 -0.10742,-1.0196 -0.0287,-0.0858 -0.0641,-0.16932 -0.10575,-0.24961\" id=\"path4307\" inkscape:path-effect=\"#path-effect4309;#path-effect4311\" inkscape:original-d=\"m 341.95107,111.12791 c 1.54403,-0.82981 1.33146,-3.4392 1.02963,-3.85081\"/>\n",
       "      <path style=\"fill:none;stroke:#000000;stroke-width:0.352373;stroke-linecap:butt;stroke-linejoin:miter;stroke-miterlimit:4;stroke-dasharray:none;stroke-opacity:1\" d=\"m 341.81603,107.58851 c 0.51672,-0.0224 1.03335,-0.047 1.54987,-0.0737 0.58932,-0.0305 1.17875,-0.0638 1.76579,-0.12395 0.0935,-0.01 0.18726,-0.0191 0.28118,-0.0165 0.0939,0.003 0.18689,0.0189 0.27887,0.0381 l 0.006,0.001\" id=\"path4319\" inkscape:path-effect=\"#path-effect4321;#path-effect4323\" inkscape:original-d=\"m 341.81603,107.58851 c 1.14173,0.0217 3.33658,-0.2916 3.88218,-0.17469\"/>\n",
       "      <path style=\"fill:none;stroke:#000000;stroke-width:0.352373;stroke-linecap:butt;stroke-linejoin:miter;stroke-miterlimit:4;stroke-dasharray:none;stroke-opacity:1\" d=\"m 344.39852,107.78599 c -0.0694,0.34122 -0.10047,0.6902 -0.0926,1.03831 0.0102,0.44845 0.0854,0.89597 0.2302,1.32053 0.0406,0.11911 0.0869,0.23696 0.15081,0.34539 0.0639,0.10844 0.1461,0.20764 0.2493,0.27966 0.13987,0.0976 0.31444,0.14113 0.48474,0.13166 0.25907,-0.0144 0.50842,-0.15333 0.65699,-0.36606\" id=\"path4325\" inkscape:path-effect=\"#path-effect4327;#path-effect4329\" inkscape:original-d=\"m 344.39852,107.78599 c -0.307,1.15586 0.0978,4.17298 1.67947,2.74949\"/>\n",
       "    </g>\n",
       "    <path style=\"fill:none;stroke:#000000;stroke-width:0.34243;stroke-linecap:butt;stroke-linejoin:miter;stroke-miterlimit:4;stroke-dasharray:none;stroke-opacity:1\" d=\"m 198.02187,163.11412 c 0.11052,-0.12122 0.20661,-0.25558 0.28559,-0.39935 0.051,-0.0928 0.0948,-0.18938 0.14763,-0.28111 0.0528,-0.0917 0.11554,-0.17945 0.19769,-0.2462 0.0404,-0.0328 0.0855,-0.0604 0.13471,-0.0772 0.0492,-0.0168 0.10279,-0.0226 0.15378,-0.0122 0.0666,0.0135 0.12547,0.0536 0.17226,0.10286 0.0468,0.0493 0.0828,0.10758 0.11769,0.16586 0.25032,0.41793 0.46439,0.86059 0.59656,1.32948 0.14613,0.51838 0.18991,1.05952 0.22224,1.59713 0.007,0.11648 0.0135,0.23338 0.005,0.34976 -0.008,0.11639 -0.0325,0.23288 -0.0837,0.33773 -0.0175,0.0358 -0.0384,0.0705 -0.0672,0.0982 -0.0287,0.0276 -0.066,0.0477 -0.10583,0.05 -0.0255,0.001 -0.0512,-0.004 -0.0743,-0.0153 -0.0231,-0.0109 -0.0436,-0.0268 -0.0613,-0.0453 -0.0353,-0.0369 -0.0587,-0.0834 -0.0802,-0.12979 -0.12564,-0.27092 -0.20414,-0.565 -0.21693,-0.86336 -0.024,-0.55912 0.1894,-1.11893 0.55555,-1.54215 0.29641,-0.34261 0.69091,-0.59937 1.12418,-0.7317\" id=\"path4336\" inkscape:path-effect=\"#path-effect4338;#path-effect4340\" inkscape:original-d=\"m 198.02187,163.11412 c 0.3322,-0.25531 0.59729,-1.41684 1.08087,-0.89913 0.63698,0.68191 0.8719,1.91658 0.93482,2.81466 0.21235,3.03109 -2.20207,-1.03508 1.00784,-2.22827\"/>\n",
       "    <text xml:space=\"preserve\" style=\"font-size:3.99644px;line-height:1.25;font-family:sans-serif;-inkscape-font-specification:sans-serif;stroke-width:0.136242\" x=\"200.68935\" y=\"167.2971\" id=\"text4344\"><tspan sodipodi:role=\"line\" id=\"tspan4342\" x=\"200.68935\" y=\"167.2971\" style=\"stroke-width:0.136242\">2</tspan></text>\n",
       "    <text xml:space=\"preserve\" style=\"font-size:3.99644px;line-height:1.25;font-family:sans-serif;-inkscape-font-specification:sans-serif;stroke-width:0.136242\" x=\"181.36389\" y=\"170.5247\" id=\"text4348\"><tspan sodipodi:role=\"line\" id=\"tspan4346\" x=\"181.36389\" y=\"170.5247\" style=\"stroke-width:0.136242\">-</tspan></text>\n",
       "    <text xml:space=\"preserve\" style=\"font-size:3.99644px;line-height:1.25;font-family:sans-serif;-inkscape-font-specification:sans-serif;stroke-width:0.136242\" x=\"46.175381\" y=\"238.54506\" id=\"text4352\"><tspan sodipodi:role=\"line\" id=\"tspan4350\" x=\"46.175381\" y=\"238.54506\" style=\"stroke-width:0.136242\">Sobreposto</tspan></text>\n",
       "    <text xml:space=\"preserve\" style=\"font-size:3.99644px;line-height:1.25;font-family:sans-serif;-inkscape-font-specification:sans-serif;stroke-width:0.136242\" x=\"192.28377\" y=\"238.54506\" id=\"text4356\"><tspan sodipodi:role=\"line\" id=\"tspan4354\" x=\"192.28377\" y=\"238.54506\" style=\"stroke-width:0.136242\">Estendido</tspan></text>\n",
       "    <g id=\"g4661-2\" transform=\"translate(-67.39023,-18.21437)\">\n",
       "      <path style=\"fill:none;stroke:#000000;stroke-width:0.365;stroke-linecap:butt;stroke-linejoin:miter;stroke-miterlimit:4;stroke-dasharray:none;stroke-opacity:1\" d=\"m 164.6125,168.0126 c -0.0661,2.07932 0.46003,4.02014 -0.61118,5.46555\" id=\"path4652-9\" sodipodi:nodetypes=\"cc\"/>\n",
       "      <path style=\"fill:none;stroke:#000000;stroke-width:0.365;stroke-linecap:butt;stroke-linejoin:miter;stroke-miterlimit:4;stroke-dasharray:none;stroke-opacity:1\" d=\"m 164.5347,170.69529 c 0.72288,0.37788 1.15278,0.92139 2.28685,0.0857 l -0.12099,-2.89337\" id=\"path4654-1\" sodipodi:nodetypes=\"ccc\"/>\n",
       "      <path style=\"fill:none;stroke:#000000;stroke-width:0.365;stroke-linecap:butt;stroke-linejoin:miter;stroke-miterlimit:4;stroke-dasharray:none;stroke-opacity:1\" d=\"m 166.78319,170.86932 c 0.0956,0.48541 0.40666,0.61309 1.09187,0.11931\" id=\"path4656-2\" sodipodi:nodetypes=\"cc\"/>\n",
       "    </g>\n",
       "  </g>\n",
       "</svg>"
      ],
      "text/plain": [
       "<IPython.core.display.SVG object>"
      ]
     },
     "execution_count": 111,
     "metadata": {},
     "output_type": "execute_result"
    }
   ],
   "source": [
    "SVG('figs4-9.svg')"
   ]
  },
  {
   "cell_type": "markdown",
   "metadata": {
    "slideshow": {
     "slide_type": "fragment"
    }
   },
   "source": [
    "Para o caso sobreposto: \n",
    "$$\\mu_1 = \\gamma_1 = arccos \\left(\\dfrac{b^2 + c^2 - (d+a)^2}{2bc} \\right) $$\n",
    "Para o caso estendido: \n",
    "$$ \\mu_2 = \\gamma_2 = arccos \\left( \\dfrac{b^2 + c^2 - (d+a)^2}{2bc} \\right) $$"
   ]
  },
  {
   "cell_type": "markdown",
   "metadata": {
    "slideshow": {
     "slide_type": "fragment"
    }
   },
   "source": [
    "O ângulo mínimo de transmissão $\\mu_{min}$ em um mecanimos manivela seguidor de Grashof é o menor dos valores de $\\mu_1$ e $\\mu_2$."
   ]
  },
  {
   "cell_type": "markdown",
   "metadata": {
    "slideshow": {
     "slide_type": "fragment"
    }
   },
   "source": [
    "Para um mecanismo **duplo seguidor de Grashof**, o ângulo de transmissão pode variar de $0^\\circ$ a $90^\\circ$ porque o acoplador pode fazer uma revolução completa em relação aos outros elos. <br>\n",
    "Para um mecanismo **triplo seguidor não Grashof**, o ângulo de transmissão será $0^\\circ$ nos pontos de singularidade que ocorrem quando o seguidor de saída $c$ e o acoplador $b$ forem colinerares. Nos outros pontos de singularidade, quando o seguidor de entrada $a$ e o acoplador $b$ forem colineares, o ângulo de transmissão pode ser calculado pela lei dos cossenos: <br>\n",
    "quando: $\\qquad \\nu=0,$\n",
    "$$ \\mu = arccos \\left( \\dfrac{(a+b)^{2} + c^2 - d^2}{2c(a+b)} \\right) $$\n",
    "Esse não é o menor valor que o ângulo de transmissão $\\mu$ pode obter em um triplo seguidor, já que ele esse valor é zero."
   ]
  },
  {
   "cell_type": "code",
   "execution_count": 112,
   "metadata": {
    "scrolled": true,
    "slideshow": {
     "slide_type": "fragment"
    }
   },
   "outputs": [
    {
     "data": {
      "image/svg+xml": [
       "<svg xmlns:dc=\"http://purl.org/dc/elements/1.1/\" xmlns:cc=\"http://creativecommons.org/ns#\" xmlns:rdf=\"http://www.w3.org/1999/02/22-rdf-syntax-ns#\" xmlns:svg=\"http://www.w3.org/2000/svg\" xmlns=\"http://www.w3.org/2000/svg\" xmlns:sodipodi=\"http://sodipodi.sourceforge.net/DTD/sodipodi-0.dtd\" xmlns:inkscape=\"http://www.inkscape.org/namespaces/inkscape\" width=\"239.77875mm\" height=\"88.94503mm\" viewBox=\"0 0 239.77875 88.945031\" version=\"1.1\" id=\"svg8\" inkscape:version=\"1.0.1 (3bc2e813f5, 2020-09-07)\" sodipodi:docname=\"figs4-10.svg\">\n",
       "  <defs id=\"defs2\">\n",
       "    <marker style=\"overflow:visible\" id=\"marker6340\" refX=\"0\" refY=\"0\" orient=\"auto\" inkscape:stockid=\"Arrow1Lstart\" inkscape:isstock=\"true\">\n",
       "      <path transform=\"matrix(0.8,0,0,0.8,10,0)\" style=\"fill:#000000;fill-opacity:1;fill-rule:evenodd;stroke:#000000;stroke-width:1pt;stroke-opacity:1\" d=\"M 0,0 5,-5 -12.5,0 5,5 Z\" id=\"path6338\"/>\n",
       "    </marker>\n",
       "    <marker style=\"overflow:visible\" id=\"marker6108\" refX=\"0\" refY=\"0\" orient=\"auto\" inkscape:stockid=\"Arrow1Lend\" inkscape:isstock=\"true\">\n",
       "      <path transform=\"matrix(-0.8,0,0,-0.8,-10,0)\" style=\"fill:#000000;fill-opacity:1;fill-rule:evenodd;stroke:#000000;stroke-width:1pt;stroke-opacity:1\" d=\"M 0,0 5,-5 -12.5,0 5,5 Z\" id=\"path6106\"/>\n",
       "    </marker>\n",
       "    <marker style=\"overflow:visible\" id=\"marker5362\" refX=\"0\" refY=\"0\" orient=\"auto\" inkscape:stockid=\"Arrow1Lend\" inkscape:isstock=\"true\">\n",
       "      <path transform=\"matrix(-0.8,0,0,-0.8,-10,0)\" style=\"fill:#000000;fill-opacity:1;fill-rule:evenodd;stroke:#000000;stroke-width:1pt;stroke-opacity:1\" d=\"M 0,0 5,-5 -12.5,0 5,5 Z\" id=\"path5360\"/>\n",
       "    </marker>\n",
       "    <marker style=\"overflow:visible\" id=\"marker5352\" refX=\"0\" refY=\"0\" orient=\"auto\" inkscape:stockid=\"Arrow1Lstart\" inkscape:isstock=\"true\">\n",
       "      <path transform=\"matrix(0.8,0,0,0.8,10,0)\" style=\"fill:#000000;fill-opacity:1;fill-rule:evenodd;stroke:#000000;stroke-width:1pt;stroke-opacity:1\" d=\"M 0,0 5,-5 -12.5,0 5,5 Z\" id=\"path5350\"/>\n",
       "    </marker>\n",
       "    <marker style=\"overflow:visible\" id=\"marker5342\" refX=\"0\" refY=\"0\" orient=\"auto\" inkscape:stockid=\"Arrow1Lstart\" inkscape:isstock=\"true\">\n",
       "      <path transform=\"matrix(0.8,0,0,0.8,10,0)\" style=\"fill:#000000;fill-opacity:1;fill-rule:evenodd;stroke:#000000;stroke-width:1pt;stroke-opacity:1\" d=\"M 0,0 5,-5 -12.5,0 5,5 Z\" id=\"path5340\"/>\n",
       "    </marker>\n",
       "    <marker style=\"overflow:visible\" id=\"marker5332\" refX=\"0\" refY=\"0\" orient=\"auto\" inkscape:stockid=\"Arrow1Lstart\" inkscape:isstock=\"true\">\n",
       "      <path transform=\"matrix(0.8,0,0,0.8,10,0)\" style=\"fill:#000000;fill-opacity:1;fill-rule:evenodd;stroke:#000000;stroke-width:1pt;stroke-opacity:1\" d=\"M 0,0 5,-5 -12.5,0 5,5 Z\" id=\"path5330\"/>\n",
       "    </marker>\n",
       "    <marker style=\"overflow:visible\" id=\"marker4994\" refX=\"0\" refY=\"0\" orient=\"auto\" inkscape:stockid=\"Arrow1Lstart\" inkscape:isstock=\"true\" inkscape:collect=\"always\">\n",
       "      <path transform=\"matrix(0.8,0,0,0.8,10,0)\" style=\"fill:#000000;fill-opacity:1;fill-rule:evenodd;stroke:#000000;stroke-width:1pt;stroke-opacity:1\" d=\"M 0,0 5,-5 -12.5,0 5,5 Z\" id=\"path4992\"/>\n",
       "    </marker>\n",
       "    <marker style=\"overflow:visible\" id=\"marker4804\" refX=\"0\" refY=\"0\" orient=\"auto\" inkscape:stockid=\"Arrow1Lend\" inkscape:isstock=\"true\" inkscape:collect=\"always\">\n",
       "      <path transform=\"matrix(-0.8,0,0,-0.8,-10,0)\" style=\"fill:#000000;fill-opacity:1;fill-rule:evenodd;stroke:#000000;stroke-width:1pt;stroke-opacity:1\" d=\"M 0,0 5,-5 -12.5,0 5,5 Z\" id=\"path4802\"/>\n",
       "    </marker>\n",
       "    <marker style=\"overflow:visible\" id=\"marker4536\" refX=\"0\" refY=\"0\" orient=\"auto\" inkscape:stockid=\"Arrow1Lstart\" inkscape:isstock=\"true\" inkscape:collect=\"always\">\n",
       "      <path transform=\"matrix(0.8,0,0,0.8,10,0)\" style=\"fill:#000000;fill-opacity:1;fill-rule:evenodd;stroke:#000000;stroke-width:1pt;stroke-opacity:1\" d=\"M 0,0 5,-5 -12.5,0 5,5 Z\" id=\"path4534\"/>\n",
       "    </marker>\n",
       "    <marker style=\"overflow:visible\" id=\"marker4526\" refX=\"0\" refY=\"0\" orient=\"auto\" inkscape:stockid=\"Arrow1Lstart\" inkscape:isstock=\"true\" inkscape:collect=\"always\">\n",
       "      <path transform=\"matrix(0.8,0,0,0.8,10,0)\" style=\"fill:#000000;fill-opacity:1;fill-rule:evenodd;stroke:#000000;stroke-width:1pt;stroke-opacity:1\" d=\"M 0,0 5,-5 -12.5,0 5,5 Z\" id=\"path4524\"/>\n",
       "    </marker>\n",
       "    <marker style=\"overflow:visible\" id=\"marker4110\" refX=\"0\" refY=\"0\" orient=\"auto\" inkscape:stockid=\"Arrow1Lend\" inkscape:isstock=\"true\">\n",
       "      <path transform=\"matrix(-0.8,0,0,-0.8,-10,0)\" style=\"fill:#000000;fill-opacity:1;fill-rule:evenodd;stroke:#000000;stroke-width:1pt;stroke-opacity:1\" d=\"M 0,0 5,-5 -12.5,0 5,5 Z\" id=\"path4108\"/>\n",
       "    </marker>\n",
       "    <marker style=\"overflow:visible\" id=\"marker4100\" refX=\"0\" refY=\"0\" orient=\"auto\" inkscape:stockid=\"Arrow1Lend\" inkscape:isstock=\"true\">\n",
       "      <path transform=\"matrix(-0.8,0,0,-0.8,-10,0)\" style=\"fill:#000000;fill-opacity:1;fill-rule:evenodd;stroke:#000000;stroke-width:1pt;stroke-opacity:1\" d=\"M 0,0 5,-5 -12.5,0 5,5 Z\" id=\"path4098\"/>\n",
       "    </marker>\n",
       "    <marker style=\"overflow:visible\" id=\"marker4090\" refX=\"0\" refY=\"0\" orient=\"auto\" inkscape:stockid=\"Arrow1Lstart\" inkscape:isstock=\"true\">\n",
       "      <path transform=\"matrix(0.8,0,0,0.8,10,0)\" style=\"fill:#000000;fill-opacity:1;fill-rule:evenodd;stroke:#000000;stroke-width:1pt;stroke-opacity:1\" d=\"M 0,0 5,-5 -12.5,0 5,5 Z\" id=\"path4088\"/>\n",
       "    </marker>\n",
       "    <marker style=\"overflow:visible\" id=\"marker4080\" refX=\"0\" refY=\"0\" orient=\"auto\" inkscape:stockid=\"Arrow1Lstart\" inkscape:isstock=\"true\">\n",
       "      <path transform=\"matrix(0.8,0,0,0.8,10,0)\" style=\"fill:#000000;fill-opacity:1;fill-rule:evenodd;stroke:#000000;stroke-width:1pt;stroke-opacity:1\" d=\"M 0,0 5,-5 -12.5,0 5,5 Z\" id=\"path4078\"/>\n",
       "    </marker>\n",
       "    <marker style=\"overflow:visible\" id=\"marker4070\" refX=\"0\" refY=\"0\" orient=\"auto\" inkscape:stockid=\"Arrow1Lstart\" inkscape:isstock=\"true\">\n",
       "      <path transform=\"matrix(0.8,0,0,0.8,10,0)\" style=\"fill:#000000;fill-opacity:1;fill-rule:evenodd;stroke:#000000;stroke-width:1pt;stroke-opacity:1\" d=\"M 0,0 5,-5 -12.5,0 5,5 Z\" id=\"path4068\"/>\n",
       "    </marker>\n",
       "    <marker style=\"overflow:visible\" id=\"marker4060\" refX=\"0\" refY=\"0\" orient=\"auto\" inkscape:stockid=\"Arrow1Lstart\" inkscape:isstock=\"true\">\n",
       "      <path transform=\"matrix(0.8,0,0,0.8,10,0)\" style=\"fill:#000000;fill-opacity:1;fill-rule:evenodd;stroke:#000000;stroke-width:1pt;stroke-opacity:1\" d=\"M 0,0 5,-5 -12.5,0 5,5 Z\" id=\"path4058\"/>\n",
       "    </marker>\n",
       "    <marker style=\"overflow:visible\" id=\"marker3658\" refX=\"0\" refY=\"0\" orient=\"auto\" inkscape:stockid=\"Arrow1Lend\" inkscape:isstock=\"true\">\n",
       "      <path transform=\"matrix(-0.8,0,0,-0.8,-10,0)\" style=\"fill:#000000;fill-opacity:1;fill-rule:evenodd;stroke:#000000;stroke-width:1pt;stroke-opacity:1\" d=\"M 0,0 5,-5 -12.5,0 5,5 Z\" id=\"path3656\"/>\n",
       "    </marker>\n",
       "    <marker style=\"overflow:visible\" id=\"marker3648\" refX=\"0\" refY=\"0\" orient=\"auto\" inkscape:stockid=\"Arrow1Lstart\" inkscape:isstock=\"true\">\n",
       "      <path transform=\"matrix(0.8,0,0,0.8,10,0)\" style=\"fill:#000000;fill-opacity:1;fill-rule:evenodd;stroke:#000000;stroke-width:1pt;stroke-opacity:1\" d=\"M 0,0 5,-5 -12.5,0 5,5 Z\" id=\"path3646\"/>\n",
       "    </marker>\n",
       "    <marker style=\"overflow:visible\" id=\"marker3216\" refX=\"0\" refY=\"0\" orient=\"auto\" inkscape:stockid=\"Arrow1Lend\" inkscape:isstock=\"true\">\n",
       "      <path transform=\"matrix(-0.8,0,0,-0.8,-10,0)\" style=\"fill:#000000;fill-opacity:1;fill-rule:evenodd;stroke:#000000;stroke-width:1pt;stroke-opacity:1\" d=\"M 0,0 5,-5 -12.5,0 5,5 Z\" id=\"path3214\"/>\n",
       "    </marker>\n",
       "    <marker style=\"overflow:visible\" id=\"marker3206\" refX=\"0\" refY=\"0\" orient=\"auto\" inkscape:stockid=\"Arrow1Lend\" inkscape:isstock=\"true\" inkscape:collect=\"always\">\n",
       "      <path transform=\"matrix(-0.8,0,0,-0.8,-10,0)\" style=\"fill:#000000;fill-opacity:1;fill-rule:evenodd;stroke:#000000;stroke-width:1pt;stroke-opacity:1\" d=\"M 0,0 5,-5 -12.5,0 5,5 Z\" id=\"path3204\"/>\n",
       "    </marker>\n",
       "    <marker style=\"overflow:visible\" id=\"marker3196\" refX=\"0\" refY=\"0\" orient=\"auto\" inkscape:stockid=\"Arrow1Lstart\" inkscape:isstock=\"true\">\n",
       "      <path transform=\"matrix(0.8,0,0,0.8,10,0)\" style=\"fill:#000000;fill-opacity:1;fill-rule:evenodd;stroke:#000000;stroke-width:1pt;stroke-opacity:1\" d=\"M 0,0 5,-5 -12.5,0 5,5 Z\" id=\"path3194\"/>\n",
       "    </marker>\n",
       "    <marker style=\"overflow:visible\" id=\"marker3186\" refX=\"0\" refY=\"0\" orient=\"auto\" inkscape:stockid=\"Arrow1Lstart\" inkscape:isstock=\"true\" inkscape:collect=\"always\">\n",
       "      <path transform=\"matrix(0.8,0,0,0.8,10,0)\" style=\"fill:#000000;fill-opacity:1;fill-rule:evenodd;stroke:#000000;stroke-width:1pt;stroke-opacity:1\" d=\"M 0,0 5,-5 -12.5,0 5,5 Z\" id=\"path3184\"/>\n",
       "    </marker>\n",
       "    <marker style=\"overflow:visible\" id=\"marker3176\" refX=\"0\" refY=\"0\" orient=\"auto\" inkscape:stockid=\"Arrow1Lstart\" inkscape:isstock=\"true\" inkscape:collect=\"always\">\n",
       "      <path transform=\"matrix(0.8,0,0,0.8,10,0)\" style=\"fill:#000000;fill-opacity:1;fill-rule:evenodd;stroke:#000000;stroke-width:1pt;stroke-opacity:1\" d=\"M 0,0 5,-5 -12.5,0 5,5 Z\" id=\"path3174\"/>\n",
       "    </marker>\n",
       "    <marker style=\"overflow:visible\" id=\"marker3166\" refX=\"0\" refY=\"0\" orient=\"auto\" inkscape:stockid=\"Arrow1Lstart\" inkscape:isstock=\"true\" inkscape:collect=\"always\">\n",
       "      <path transform=\"matrix(0.8,0,0,0.8,10,0)\" style=\"fill:#000000;fill-opacity:1;fill-rule:evenodd;stroke:#000000;stroke-width:1pt;stroke-opacity:1\" d=\"M 0,0 5,-5 -12.5,0 5,5 Z\" id=\"path3164\"/>\n",
       "    </marker>\n",
       "    <marker style=\"overflow:visible\" id=\"marker2776\" refX=\"0\" refY=\"0\" orient=\"auto\" inkscape:stockid=\"Arrow1Lend\" inkscape:isstock=\"true\" inkscape:collect=\"always\">\n",
       "      <path transform=\"matrix(-0.8,0,0,-0.8,-10,0)\" style=\"fill:#000000;fill-opacity:1;fill-rule:evenodd;stroke:#000000;stroke-width:1pt;stroke-opacity:1\" d=\"M 0,0 5,-5 -12.5,0 5,5 Z\" id=\"path2774\"/>\n",
       "    </marker>\n",
       "    <marker style=\"overflow:visible\" id=\"marker2676\" refX=\"0\" refY=\"0\" orient=\"auto\" inkscape:stockid=\"Arrow1Lstart\" inkscape:isstock=\"true\">\n",
       "      <path transform=\"matrix(0.8,0,0,0.8,10,0)\" style=\"fill:#000000;fill-opacity:1;fill-rule:evenodd;stroke:#000000;stroke-width:1pt;stroke-opacity:1\" d=\"M 0,0 5,-5 -12.5,0 5,5 Z\" id=\"path2674\"/>\n",
       "    </marker>\n",
       "    <marker style=\"overflow:visible\" id=\"marker2600\" refX=\"0\" refY=\"0\" orient=\"auto\" inkscape:stockid=\"Arrow1Lstart\" inkscape:isstock=\"true\" inkscape:collect=\"always\">\n",
       "      <path transform=\"matrix(0.8,0,0,0.8,10,0)\" style=\"fill:#000000;fill-opacity:1;fill-rule:evenodd;stroke:#000000;stroke-width:1pt;stroke-opacity:1\" d=\"M 0,0 5,-5 -12.5,0 5,5 Z\" id=\"path2598\"/>\n",
       "    </marker>\n",
       "    <marker style=\"overflow:visible\" id=\"marker2530\" refX=\"0\" refY=\"0\" orient=\"auto\" inkscape:stockid=\"Arrow1Lend\" inkscape:isstock=\"true\">\n",
       "      <path transform=\"matrix(-0.8,0,0,-0.8,-10,0)\" style=\"fill:#000000;fill-opacity:1;fill-rule:evenodd;stroke:#000000;stroke-width:1pt;stroke-opacity:1\" d=\"M 0,0 5,-5 -12.5,0 5,5 Z\" id=\"path2528\"/>\n",
       "    </marker>\n",
       "    <marker style=\"overflow:visible\" id=\"marker1512\" refX=\"0\" refY=\"0\" orient=\"auto\" inkscape:stockid=\"Arrow1Lstart\" inkscape:isstock=\"true\" inkscape:collect=\"always\">\n",
       "      <path transform=\"matrix(0.8,0,0,0.8,10,0)\" style=\"fill:#000000;fill-opacity:1;fill-rule:evenodd;stroke:#000000;stroke-width:1pt;stroke-opacity:1\" d=\"M 0,0 5,-5 -12.5,0 5,5 Z\" id=\"path1510\"/>\n",
       "    </marker>\n",
       "    <marker style=\"overflow:visible\" id=\"marker1454\" refX=\"0\" refY=\"0\" orient=\"auto\" inkscape:stockid=\"Arrow1Lend\" inkscape:isstock=\"true\">\n",
       "      <path transform=\"matrix(-0.8,0,0,-0.8,-10,0)\" style=\"fill:#000000;fill-opacity:1;fill-rule:evenodd;stroke:#000000;stroke-width:1pt;stroke-opacity:1\" d=\"M 0,0 5,-5 -12.5,0 5,5 Z\" id=\"path1452\"/>\n",
       "    </marker>\n",
       "    <marker style=\"overflow:visible\" id=\"marker1402\" refX=\"0\" refY=\"0\" orient=\"auto\" inkscape:stockid=\"Arrow1Lend\" inkscape:isstock=\"true\">\n",
       "      <path transform=\"matrix(-0.8,0,0,-0.8,-10,0)\" style=\"fill:#000000;fill-opacity:1;fill-rule:evenodd;stroke:#000000;stroke-width:1pt;stroke-opacity:1\" d=\"M 0,0 5,-5 -12.5,0 5,5 Z\" id=\"path1400\"/>\n",
       "    </marker>\n",
       "    <marker style=\"overflow:visible\" id=\"marker1348\" refX=\"0\" refY=\"0\" orient=\"auto\" inkscape:stockid=\"Arrow1Lstart\" inkscape:isstock=\"true\" inkscape:collect=\"always\">\n",
       "      <path transform=\"matrix(0.8,0,0,0.8,10,0)\" style=\"fill:#000000;fill-opacity:1;fill-rule:evenodd;stroke:#000000;stroke-width:1pt;stroke-opacity:1\" d=\"M 0,0 5,-5 -12.5,0 5,5 Z\" id=\"path1346\"/>\n",
       "    </marker>\n",
       "    <marker style=\"overflow:visible\" id=\"Arrow2Mstart\" refX=\"0\" refY=\"0\" orient=\"auto\" inkscape:stockid=\"Arrow2Mstart\" inkscape:isstock=\"true\">\n",
       "      <path transform=\"scale(0.6)\" d=\"M 8.7185878,4.0337352 -2.2072895,0.01601326 8.7185884,-4.0017078 c -1.7454984,2.3720609 -1.7354408,5.6174519 -6e-7,8.035443 z\" style=\"fill:#000000;fill-opacity:1;fill-rule:evenodd;stroke:#000000;stroke-width:0.625;stroke-linejoin:round;stroke-opacity:1\" id=\"path980\"/>\n",
       "    </marker>\n",
       "    <marker style=\"overflow:visible\" id=\"Arrow2Mend\" refX=\"0\" refY=\"0\" orient=\"auto\" inkscape:stockid=\"Arrow2Mend\" inkscape:isstock=\"true\">\n",
       "      <path transform=\"scale(-0.6)\" d=\"M 8.7185878,4.0337352 -2.2072895,0.01601326 8.7185884,-4.0017078 c -1.7454984,2.3720609 -1.7354408,5.6174519 -6e-7,8.035443 z\" style=\"fill:#000000;fill-opacity:1;fill-rule:evenodd;stroke:#000000;stroke-width:0.625;stroke-linejoin:round;stroke-opacity:1\" id=\"path983\"/>\n",
       "    </marker>\n",
       "  </defs>\n",
       "  <sodipodi:namedview id=\"base\" pagecolor=\"#ffffff\" bordercolor=\"#666666\" borderopacity=\"1.0\" inkscape:pageopacity=\"0.0\" inkscape:pageshadow=\"2\" inkscape:zoom=\"0.7\" inkscape:cx=\"358.7699\" inkscape:cy=\"68.298974\" inkscape:document-units=\"mm\" inkscape:current-layer=\"layer11\" inkscape:document-rotation=\"0\" showgrid=\"false\" inkscape:snap-object-midpoints=\"true\" inkscape:snap-smooth-nodes=\"true\" inkscape:window-width=\"1920\" inkscape:window-height=\"1017\" inkscape:window-x=\"-8\" inkscape:window-y=\"-8\" inkscape:window-maximized=\"1\"/>\n",
       "  <metadata id=\"metadata5\">\n",
       "    <rdf:RDF>\n",
       "      <cc:Work rdf:about=\"\">\n",
       "        <dc:format>image/svg+xml</dc:format>\n",
       "        <dc:type rdf:resource=\"http://purl.org/dc/dcmitype/StillImage\"/>\n",
       "        <dc:title/>\n",
       "      </cc:Work>\n",
       "    </rdf:RDF>\n",
       "  </metadata>\n",
       "  <g inkscape:groupmode=\"layer\" id=\"layer11\" inkscape:label=\"Layer 2\">\n",
       "    <rect style=\"fill:#ffffff;stroke:#ffffff;stroke-width:0.901307\" id=\"rect9228\" width=\"243.54106\" height=\"92.694298\" x=\"-1.6544684\" y=\"-1.2422178\"/>\n",
       "  </g>\n",
       "  <g inkscape:label=\"Layer 1\" inkscape:groupmode=\"layer\" id=\"layer1\" transform=\"translate(12.58663,-125.8786)\">\n",
       "    <path id=\"path839\" style=\"fill:#ffffff;stroke:#000000;stroke-width:0.601979;stroke-linejoin:bevel;stroke-miterlimit:4;stroke-dasharray:none\" d=\"m 4.7924713,165.30965 a 5.0751427,5.0360814 0 0 0 -5.06547847,5.03608 5.0751427,5.0360814 0 0 0 0,0.01 v 8.80355 H 9.877278 v -8.81315 a 5.0751427,5.0360814 0 0 0 -5.0751424,-5.03608 5.0751427,5.0360814 0 0 0 -0.00967,0 z\"/>\n",
       "    <path style=\"fill:none;stroke:#000000;stroke-width:0.601978;stroke-linecap:butt;stroke-linejoin:miter;stroke-miterlimit:4;stroke-dasharray:none;stroke-opacity:1\" d=\"M -12.326472,179.15887 H 24.468313\" id=\"path850\"/>\n",
       "    <path style=\"fill:none;stroke:#000000;stroke-width:0.601978;stroke-linecap:butt;stroke-linejoin:miter;stroke-miterlimit:4;stroke-dasharray:none;stroke-opacity:1\" d=\"m -12.326472,179.15887 4.76147,8.18364\" id=\"path852\"/>\n",
       "    <path style=\"fill:none;stroke:#000000;stroke-width:0.601978;stroke-linecap:butt;stroke-linejoin:miter;stroke-miterlimit:4;stroke-dasharray:none;stroke-opacity:1\" d=\"m -3.9524807,179.15887 4.76146954,8.18364\" id=\"path854\"/>\n",
       "    <path style=\"fill:none;stroke:#000000;stroke-width:0.601978;stroke-linecap:butt;stroke-linejoin:miter;stroke-miterlimit:4;stroke-dasharray:none;stroke-opacity:1\" d=\"m 4.1677528,179.15887 4.7614694,8.18364\" id=\"path856\"/>\n",
       "    <path style=\"fill:none;stroke:#000000;stroke-width:0.601978;stroke-linecap:butt;stroke-linejoin:miter;stroke-miterlimit:4;stroke-dasharray:none;stroke-opacity:1\" d=\"m 12.541743,179.15887 4.76147,8.18364\" id=\"path858\"/>\n",
       "    <path style=\"fill:none;stroke:#000000;stroke-width:0.601978;stroke-linecap:butt;stroke-linejoin:miter;stroke-miterlimit:4;stroke-dasharray:none;stroke-opacity:1\" d=\"m 20.915734,179.15887 4.761473,8.18364\" id=\"path860\"/>\n",
       "    <path id=\"path906\" style=\"fill:#ffffff;stroke:#000000;stroke-width:0.601979;stroke-linejoin:bevel;stroke-miterlimit:4;stroke-dasharray:none\" d=\"m 76.352064,165.30965 a 5.0751427,5.0360814 0 0 0 -5.065478,5.03608 5.0751427,5.0360814 0 0 0 0,0.01 v 8.80355 h 10.150285 v -8.81315 a 5.0751427,5.0360814 0 0 0 -5.075142,-5.03608 5.0751427,5.0360814 0 0 0 -0.0097,0 z\"/>\n",
       "    <path style=\"fill:none;stroke:#000000;stroke-width:0.601978;stroke-linecap:butt;stroke-linejoin:miter;stroke-miterlimit:4;stroke-dasharray:none;stroke-opacity:1\" d=\"M 59.233121,179.15887 H 96.027907\" id=\"path908\"/>\n",
       "    <path style=\"fill:none;stroke:#000000;stroke-width:0.601978;stroke-linecap:butt;stroke-linejoin:miter;stroke-miterlimit:4;stroke-dasharray:none;stroke-opacity:1\" d=\"m 59.233121,179.15887 4.76147,8.18364\" id=\"path910\"/>\n",
       "    <path style=\"fill:none;stroke:#000000;stroke-width:0.601978;stroke-linecap:butt;stroke-linejoin:miter;stroke-miterlimit:4;stroke-dasharray:none;stroke-opacity:1\" d=\"m 67.607112,179.15887 4.76147,8.18364\" id=\"path912\"/>\n",
       "    <path style=\"fill:none;stroke:#000000;stroke-width:0.601978;stroke-linecap:butt;stroke-linejoin:miter;stroke-miterlimit:4;stroke-dasharray:none;stroke-opacity:1\" d=\"m 75.727345,179.15887 4.76147,8.18364\" id=\"path914\"/>\n",
       "    <path style=\"fill:none;stroke:#000000;stroke-width:0.601978;stroke-linecap:butt;stroke-linejoin:miter;stroke-miterlimit:4;stroke-dasharray:none;stroke-opacity:1\" d=\"m 84.101336,179.15887 4.761467,8.18364\" id=\"path916\"/>\n",
       "    <path style=\"fill:none;stroke:#000000;stroke-width:0.601978;stroke-linecap:butt;stroke-linejoin:miter;stroke-miterlimit:4;stroke-dasharray:none;stroke-opacity:1\" d=\"m 92.475325,179.15887 4.761477,8.18364\" id=\"path918\"/>\n",
       "    <path style=\"fill:none;stroke:#000000;stroke-width:0.571881;stroke-linecap:butt;stroke-linejoin:miter;stroke-miterlimit:4;stroke-dasharray:none;stroke-opacity:1\" d=\"M 4.8299784,170.2856 -7.4556801,131.29229 76.389569,170.28559\" id=\"path932\"/>\n",
       "    <ellipse style=\"fill:#ffffff;stroke:#000000;stroke-width:0.601978;stroke-linejoin:bevel\" id=\"ellipse934\" cx=\"-7.4556804\" cy=\"131.29228\" rx=\"1.7740169\" ry=\"1.7603631\"/>\n",
       "    <path style=\"fill:none;stroke:#000000;stroke-width:0.227892;stroke-linecap:butt;stroke-linejoin:miter;stroke-miterlimit:4;stroke-dasharray:1.82314, 0.911569;stroke-dashoffset:0;stroke-opacity:1\" d=\"M 4.8299784,170.2856 H 76.389568\" id=\"path946\"/>\n",
       "    <ellipse style=\"fill:#ffffff;stroke:#000000;stroke-width:0.601978;stroke-linejoin:bevel\" id=\"ellipse948\" cx=\"28.823782\" cy=\"148.10759\" rx=\"1.7740169\" ry=\"1.7603631\"/>\n",
       "    <path style=\"fill:none;stroke:#000000;stroke-width:0.227534px;stroke-linecap:butt;stroke-linejoin:miter;stroke-opacity:1;marker-start:url(#marker6340);marker-end:url(#marker6108)\" d=\"m -3.8454855,143.87924 c 2.93759668,-1.00875 5.9997034,-1.16645 8.2245535,-7.04696\" id=\"path950\" sodipodi:nodetypes=\"cc\"/>\n",
       "    <path style=\"fill:none;stroke:#000000;stroke-width:0.399886;stroke-linecap:butt;stroke-linejoin:miter;stroke-miterlimit:4;stroke-dasharray:none;stroke-opacity:1\" d=\"m 2.6692948,142.95635 1.3731718,3.58965 c 1.9101196,-0.92928 2.3187318,-2.53747 2.3836212,-4.30107\" id=\"path952\" sodipodi:nodetypes=\"ccc\"/>\n",
       "    <path style=\"fill:none;stroke:#000000;stroke-width:0.227534px;stroke-linecap:butt;stroke-linejoin:miter;stroke-opacity:1;marker-start:url(#marker1348)\" d=\"m 38.693495,152.79245 c 1.962219,-3.03936 2.30692,-6.35295 1.653434,-9.83576\" id=\"path954\" sodipodi:nodetypes=\"cc\"/>\n",
       "    <path style=\"fill:none;stroke:#000000;stroke-width:0.227534px;stroke-linecap:butt;stroke-linejoin:miter;stroke-opacity:1;marker-start:url(#marker1512)\" d=\"m 38.693495,152.79245 c -1.057025,2.67658 -2.405717,5.21486 -6.584701,6.41119\" id=\"path1398\" sodipodi:nodetypes=\"cc\"/>\n",
       "    <text xml:space=\"preserve\" style=\"font-size:6.67432px;line-height:1.25;font-family:sans-serif;-inkscape-font-specification:sans-serif;stroke-width:0.227534\" x=\"-8.6519442\" y=\"156.76189\" id=\"text1576\"><tspan sodipodi:role=\"line\" id=\"tspan1574\" x=\"-8.6519442\" y=\"156.76189\" style=\"stroke-width:0.227534\">a</tspan></text>\n",
       "    <text xml:space=\"preserve\" style=\"font-size:6.67432px;line-height:1.25;font-family:sans-serif;-inkscape-font-specification:sans-serif;stroke-width:0.227534\" x=\"19.240337\" y=\"139.54747\" id=\"text1580\"><tspan sodipodi:role=\"line\" id=\"tspan1578\" x=\"19.240337\" y=\"139.54747\" style=\"stroke-width:0.227534\">b</tspan></text>\n",
       "    <text xml:space=\"preserve\" style=\"font-size:6.67432px;line-height:1.25;font-family:sans-serif;-inkscape-font-specification:sans-serif;stroke-width:0.227534\" x=\"57.21785\" y=\"158.07674\" id=\"text1584\"><tspan sodipodi:role=\"line\" id=\"tspan1582\" x=\"57.21785\" y=\"158.07674\" style=\"stroke-width:0.227534\">c</tspan></text>\n",
       "    <path style=\"fill:none;stroke:#000000;stroke-width:0.227534px;stroke-linecap:butt;stroke-linejoin:miter;stroke-opacity:1;marker-start:url(#marker2600);marker-end:url(#marker2776)\" d=\"M 19.37389,170.40606 C 15.772027,164.30388 10.619963,160.24842 1.7452054,161.10793\" id=\"path1586\" sodipodi:nodetypes=\"cc\"/>\n",
       "    <g id=\"g2510\" transform=\"matrix(0.85997074,0,0,0.85997074,-1.5917587,31.026708)\">\n",
       "      <ellipse style=\"fill:#ffffff;stroke:#000000;stroke-width:0.365;stroke-linejoin:bevel;stroke-miterlimit:4;stroke-dasharray:none;stroke-dashoffset:0\" id=\"path1588\" cx=\"18.292208\" cy=\"149.43945\" rx=\"1.857706\" ry=\"2.7635734\"/>\n",
       "      <path style=\"fill:none;stroke:#000000;stroke-width:0.264583px;stroke-linecap:butt;stroke-linejoin:miter;stroke-opacity:1\" d=\"m 16.434501,149.43945 h 3.715412\" id=\"path1590\"/>\n",
       "    </g>\n",
       "    <text xml:space=\"preserve\" style=\"font-size:3.02482px;line-height:1.25;font-family:sans-serif;-inkscape-font-specification:sans-serif;stroke-width:0.227534\" x=\"15.999214\" y=\"163.11235\" id=\"text1594\"><tspan sodipodi:role=\"line\" id=\"tspan1592\" x=\"15.999214\" y=\"163.11235\" style=\"stroke-width:0.227534\">2</tspan></text>\n",
       "    <g id=\"g4661-2\" transform=\"matrix(0.85997074,0,0,0.85997074,-98.69114,-4.2932853)\" style=\"stroke-width:0.4;stroke-miterlimit:4;stroke-dasharray:none\">\n",
       "      <path style=\"fill:none;stroke:#000000;stroke-width:0.4;stroke-linecap:butt;stroke-linejoin:miter;stroke-miterlimit:4;stroke-dasharray:none;stroke-opacity:1\" d=\"m 164.6125,168.0126 c -0.0661,2.07932 0.46003,4.02014 -0.61118,5.46555\" id=\"path4652-9\" sodipodi:nodetypes=\"cc\"/>\n",
       "      <path style=\"fill:none;stroke:#000000;stroke-width:0.4;stroke-linecap:butt;stroke-linejoin:miter;stroke-miterlimit:4;stroke-dasharray:none;stroke-opacity:1\" d=\"m 164.5347,170.69529 c 0.72288,0.37788 1.15278,0.92139 2.28685,0.0857 l -0.12099,-2.89337\" id=\"path4654-1\" sodipodi:nodetypes=\"ccc\"/>\n",
       "      <path style=\"fill:none;stroke:#000000;stroke-width:0.4;stroke-linecap:butt;stroke-linejoin:miter;stroke-miterlimit:4;stroke-dasharray:none;stroke-opacity:1\" d=\"m 166.78319,170.86932 c 0.0956,0.48541 0.40666,0.61309 1.09187,0.11931\" id=\"path4656-2\" sodipodi:nodetypes=\"cc\"/>\n",
       "    </g>\n",
       "    <text xml:space=\"preserve\" style=\"font-size:4.69228px;line-height:1.25;font-family:sans-serif;-inkscape-font-specification:sans-serif;stroke-width:0.227534\" x=\"47.240452\" y=\"143.24576\" id=\"text2504\"><tspan sodipodi:role=\"line\" id=\"tspan2502\" x=\"47.240452\" y=\"143.24576\" style=\"stroke-width:0.227534\">= 0</tspan></text>\n",
       "    <circle style=\"fill:#ffffff;stroke:#000000;stroke-width:0.227891;stroke-linejoin:bevel;stroke-miterlimit:4;stroke-dasharray:none;stroke-dashoffset:0\" id=\"path2506\" cx=\"56.405445\" cy=\"140.06941\" r=\"0.77112204\"/>\n",
       "    <text xml:space=\"preserve\" style=\"font-size:6.67432px;line-height:1.25;font-family:sans-serif;-inkscape-font-specification:sans-serif;stroke-width:0.227534\" x=\"34.423878\" y=\"169.65079\" id=\"text2514\"><tspan sodipodi:role=\"line\" id=\"tspan2512\" x=\"34.423878\" y=\"169.65079\" style=\"stroke-width:0.227534\">d</tspan></text>\n",
       "    <path style=\"fill:none;stroke:#000000;stroke-width:0.571881;stroke-linecap:butt;stroke-linejoin:miter;stroke-miterlimit:4;stroke-dasharray:3.43128, 1.14376;stroke-dashoffset:0;stroke-opacity:1\" d=\"M 4.8299784,170.23309 -7.4556801,209.2264 76.389569,170.2331\" id=\"path3150\"/>\n",
       "    <ellipse style=\"fill:#ffffff;stroke:#000000;stroke-width:0.601978;stroke-linejoin:bevel\" id=\"ellipse3152\" cx=\"-7.4556804\" cy=\"-209.2256\" rx=\"1.7740169\" ry=\"1.7603631\" transform=\"scale(1,-1)\"/>\n",
       "    <ellipse style=\"fill:#ffffff;stroke:#000000;stroke-width:0.601978;stroke-linejoin:bevel\" id=\"ellipse3154\" cx=\"28.823782\" cy=\"-192.41029\" rx=\"1.7740169\" ry=\"1.7603631\" transform=\"scale(1,-1)\"/>\n",
       "    <path style=\"fill:none;stroke:#000000;stroke-width:0.227534px;stroke-linecap:butt;stroke-linejoin:miter;stroke-opacity:1;marker-start:url(#marker3196);marker-end:url(#marker3216)\" d=\"m -3.8454855,196.63945 c 2.93759668,1.00875 5.9997034,1.16645 8.2245535,7.04696\" id=\"path3156\" sodipodi:nodetypes=\"cc\"/>\n",
       "    <path style=\"fill:none;stroke:#000000;stroke-width:0.227534px;stroke-linecap:butt;stroke-linejoin:miter;stroke-opacity:1;marker-start:url(#marker3186)\" d=\"m 38.693495,187.72624 c 1.962219,3.03937 2.30692,6.35295 1.653434,9.83576\" id=\"path3158\" sodipodi:nodetypes=\"cc\"/>\n",
       "    <path style=\"fill:none;stroke:#000000;stroke-width:0.227534px;stroke-linecap:butt;stroke-linejoin:miter;stroke-opacity:1;marker-start:url(#marker3176)\" d=\"m 38.693495,187.72624 c -1.057025,-2.67658 -2.405717,-5.21486 -6.584701,-6.41119\" id=\"path3160\" sodipodi:nodetypes=\"cc\"/>\n",
       "    <path style=\"fill:none;stroke:#000000;stroke-width:0.227534px;stroke-linecap:butt;stroke-linejoin:miter;stroke-opacity:1;marker-start:url(#marker3166);marker-end:url(#marker3206)\" d=\"m 19.37389,170.40606 c -3.719286,8.40053 -9.03931,13.98346 -18.2033879,12.80021\" id=\"path3162\" sodipodi:nodetypes=\"cc\"/>\n",
       "    <path style=\"fill:none;stroke:#000000;stroke-width:0.399886;stroke-linecap:butt;stroke-linejoin:miter;stroke-miterlimit:4;stroke-dasharray:none;stroke-opacity:1\" d=\"m 2.7297281,194.72839 1.3731718,3.58965 c 1.9101196,-0.92928 2.3187318,-2.53746 2.3836212,-4.30107\" id=\"path3512\" sodipodi:nodetypes=\"ccc\"/>\n",
       "    <g id=\"g3520\" transform=\"matrix(0.85997074,0,0,0.85997074,-97.833156,46.959481)\" style=\"stroke-width:0.4;stroke-miterlimit:4;stroke-dasharray:none\">\n",
       "      <path style=\"fill:none;stroke:#000000;stroke-width:0.4;stroke-linecap:butt;stroke-linejoin:miter;stroke-miterlimit:4;stroke-dasharray:none;stroke-opacity:1\" d=\"m 164.6125,168.0126 c -0.0661,2.07932 0.46003,4.02014 -0.61118,5.46555\" id=\"path3514\" sodipodi:nodetypes=\"cc\"/>\n",
       "      <path style=\"fill:none;stroke:#000000;stroke-width:0.4;stroke-linecap:butt;stroke-linejoin:miter;stroke-miterlimit:4;stroke-dasharray:none;stroke-opacity:1\" d=\"m 164.5347,170.69529 c 0.72288,0.37788 1.15278,0.92139 2.28685,0.0857 l -0.12099,-2.89337\" id=\"path3516\" sodipodi:nodetypes=\"ccc\"/>\n",
       "      <path style=\"fill:none;stroke:#000000;stroke-width:0.4;stroke-linecap:butt;stroke-linejoin:miter;stroke-miterlimit:4;stroke-dasharray:none;stroke-opacity:1\" d=\"m 166.78319,170.86932 c 0.0956,0.48541 0.40666,0.61309 1.09187,0.11931\" id=\"path3518\" sodipodi:nodetypes=\"cc\"/>\n",
       "    </g>\n",
       "    <text xml:space=\"preserve\" style=\"font-size:4.69228px;line-height:1.25;font-family:sans-serif;-inkscape-font-specification:sans-serif;stroke-width:0.227534\" x=\"48.098434\" y=\"194.49852\" id=\"text3524\"><tspan sodipodi:role=\"line\" id=\"tspan3522\" x=\"48.098434\" y=\"194.49852\" style=\"stroke-width:0.227534\">= 0</tspan></text>\n",
       "    <circle style=\"fill:#ffffff;stroke:#000000;stroke-width:0.227891;stroke-linejoin:bevel;stroke-miterlimit:4;stroke-dasharray:none;stroke-dashoffset:0\" id=\"circle3526\" cx=\"57.263435\" cy=\"191.32219\" r=\"0.77112204\"/>\n",
       "    <g id=\"g3556\" transform=\"matrix(0.85997074,0,0,0.85997074,7.4589165,46.0472)\">\n",
       "      <ellipse style=\"fill:#ffffff;stroke:#000000;stroke-width:0.365;stroke-linejoin:bevel;stroke-miterlimit:4;stroke-dasharray:none;stroke-dashoffset:0\" id=\"ellipse3552\" cx=\"18.292208\" cy=\"149.43945\" rx=\"1.857706\" ry=\"2.7635734\"/>\n",
       "      <path style=\"fill:none;stroke:#000000;stroke-width:0.264583px;stroke-linecap:butt;stroke-linejoin:miter;stroke-opacity:1\" d=\"m 16.434501,149.43945 h 3.715412\" id=\"path3554\"/>\n",
       "    </g>\n",
       "    <text xml:space=\"preserve\" style=\"font-size:3.02482px;line-height:1.25;font-family:sans-serif;-inkscape-font-specification:sans-serif;stroke-width:0.227534\" x=\"25.049889\" y=\"178.13284\" id=\"text3560\"><tspan sodipodi:role=\"line\" id=\"tspan3558\" x=\"25.049889\" y=\"178.13284\" style=\"stroke-width:0.227534\">2</tspan></text>\n",
       "    <text xml:space=\"preserve\" style=\"font-size:6.67432px;line-height:1.25;font-family:sans-serif;-inkscape-font-specification:sans-serif;stroke-width:0.227534\" x=\"18.886677\" y=\"177.3707\" id=\"text3564\"><tspan sodipodi:role=\"line\" id=\"tspan3562\" x=\"18.886677\" y=\"177.3707\" style=\"stroke-width:0.227534\">-</tspan></text>\n",
       "    <ellipse style=\"fill:#ffffff;stroke:#000000;stroke-width:0.601978;stroke-linejoin:bevel\" id=\"path1592\" cx=\"4.8299785\" cy=\"170.2856\" rx=\"1.7740169\" ry=\"1.7603631\"/>\n",
       "    <ellipse style=\"fill:#ffffff;stroke:#000000;stroke-width:0.601978;stroke-linejoin:bevel\" id=\"circle920\" cx=\"76.389572\" cy=\"170.2856\" rx=\"1.7740169\" ry=\"1.7603631\"/>\n",
       "    <path id=\"path3962\" style=\"fill:#ffffff;stroke:#000000;stroke-width:0.601979;stroke-linejoin:bevel;stroke-miterlimit:4;stroke-dasharray:none\" d=\"m 134.48717,165.30965 a 5.0751427,5.0360814 0 0 0 -5.06551,5.03608 5.0751427,5.0360814 0 0 0 0,0.01 v 8.80355 h 10.15035 v -8.81315 a 5.0751427,5.0360814 0 0 0 -5.07517,-5.03608 5.0751427,5.0360814 0 0 0 -0.01,0 z\"/>\n",
       "    <path style=\"fill:none;stroke:#000000;stroke-width:0.601978;stroke-linecap:butt;stroke-linejoin:miter;stroke-miterlimit:4;stroke-dasharray:none;stroke-opacity:1\" d=\"m 117.36812,179.15887 h 36.795\" id=\"path3964\"/>\n",
       "    <path style=\"fill:none;stroke:#000000;stroke-width:0.601978;stroke-linecap:butt;stroke-linejoin:miter;stroke-miterlimit:4;stroke-dasharray:none;stroke-opacity:1\" d=\"m 117.36812,179.15887 4.7615,8.18364\" id=\"path3966\"/>\n",
       "    <path style=\"fill:none;stroke:#000000;stroke-width:0.601978;stroke-linecap:butt;stroke-linejoin:miter;stroke-miterlimit:4;stroke-dasharray:none;stroke-opacity:1\" d=\"m 125.74217,179.15887 4.76149,8.18364\" id=\"path3968\"/>\n",
       "    <path style=\"fill:none;stroke:#000000;stroke-width:0.601978;stroke-linecap:butt;stroke-linejoin:miter;stroke-miterlimit:4;stroke-dasharray:none;stroke-opacity:1\" d=\"m 133.86245,179.15887 4.7615,8.18364\" id=\"path3970\"/>\n",
       "    <path style=\"fill:none;stroke:#000000;stroke-width:0.601978;stroke-linecap:butt;stroke-linejoin:miter;stroke-miterlimit:4;stroke-dasharray:none;stroke-opacity:1\" d=\"m 142.23649,179.15887 4.7615,8.18364\" id=\"path3972\"/>\n",
       "    <path style=\"fill:none;stroke:#000000;stroke-width:0.601978;stroke-linecap:butt;stroke-linejoin:miter;stroke-miterlimit:4;stroke-dasharray:none;stroke-opacity:1\" d=\"m 150.61052,179.15887 4.76151,8.18364\" id=\"path3974\"/>\n",
       "    <path id=\"path3976\" style=\"fill:#ffffff;stroke:#000000;stroke-width:0.601979;stroke-linejoin:bevel;stroke-miterlimit:4;stroke-dasharray:none\" d=\"m 206.04717,165.30965 a 5.0751427,5.0360814 0 0 0 -5.0655,5.03608 5.0751427,5.0360814 0 0 0 0,0.01 v 8.80355 h 10.15034 v -8.81315 a 5.0751427,5.0360814 0 0 0 -5.07517,-5.03608 5.0751427,5.0360814 0 0 0 -0.01,0 z\"/>\n",
       "    <path style=\"fill:none;stroke:#000000;stroke-width:0.601978;stroke-linecap:butt;stroke-linejoin:miter;stroke-miterlimit:4;stroke-dasharray:none;stroke-opacity:1\" d=\"m 188.92813,179.15887 h 36.79493\" id=\"path3978\"/>\n",
       "    <path style=\"fill:none;stroke:#000000;stroke-width:0.601978;stroke-linecap:butt;stroke-linejoin:miter;stroke-miterlimit:4;stroke-dasharray:none;stroke-opacity:1\" d=\"m 188.92813,179.15887 4.7615,8.18364\" id=\"path3980\"/>\n",
       "    <path style=\"fill:none;stroke:#000000;stroke-width:0.601978;stroke-linecap:butt;stroke-linejoin:miter;stroke-miterlimit:4;stroke-dasharray:none;stroke-opacity:1\" d=\"m 197.30217,179.15887 4.7615,8.18364\" id=\"path3982\"/>\n",
       "    <path style=\"fill:none;stroke:#000000;stroke-width:0.601978;stroke-linecap:butt;stroke-linejoin:miter;stroke-miterlimit:4;stroke-dasharray:none;stroke-opacity:1\" d=\"m 205.42245,179.15887 4.7615,8.18364\" id=\"path3984\"/>\n",
       "    <path style=\"fill:none;stroke:#000000;stroke-width:0.601978;stroke-linecap:butt;stroke-linejoin:miter;stroke-miterlimit:4;stroke-dasharray:none;stroke-opacity:1\" d=\"m 213.79649,179.15887 4.76147,8.18364\" id=\"path3986\"/>\n",
       "    <path style=\"fill:none;stroke:#000000;stroke-width:0.601978;stroke-linecap:butt;stroke-linejoin:miter;stroke-miterlimit:4;stroke-dasharray:none;stroke-opacity:1\" d=\"m 222.17048,179.15887 4.76148,8.18364\" id=\"path3988\"/>\n",
       "    <path style=\"fill:none;stroke:#000000;stroke-width:0.227892;stroke-linecap:butt;stroke-linejoin:miter;stroke-miterlimit:4;stroke-dasharray:1.82314, 0.911569;stroke-dashoffset:0;stroke-opacity:1\" d=\"m 134.52468,170.2856 h 71.55999\" id=\"path3990\"/>\n",
       "    <text xml:space=\"preserve\" style=\"font-size:6.67432px;line-height:1.25;font-family:sans-serif;-inkscape-font-specification:sans-serif;stroke-width:0.227534\" x=\"164.11749\" y=\"169.65079\" id=\"text4014\"><tspan sodipodi:role=\"line\" id=\"tspan4012\" x=\"164.11749\" y=\"169.65079\" style=\"stroke-width:0.227534\">d</tspan></text>\n",
       "    <path style=\"fill:none;stroke:#000000;stroke-width:0.657878;stroke-linecap:butt;stroke-linejoin:miter;stroke-miterlimit:4;stroke-dasharray:none;stroke-opacity:1\" d=\"m 206.08259,170.2856 2.00101,-42.34565 -73.55892,42.34565\" id=\"path4498\"/>\n",
       "    <ellipse style=\"fill:#ffffff;stroke:#000000;stroke-width:0.601978;stroke-linejoin:bevel\" id=\"ellipse4500\" cx=\"171.33749\" cy=\"149.0609\" rx=\"1.7740169\" ry=\"1.7603631\"/>\n",
       "    <path style=\"fill:none;stroke:#000000;stroke-width:0.227534px;stroke-linecap:butt;stroke-linejoin:miter;stroke-opacity:1;marker-start:url(#marker4536)\" d=\"m 177.54845,145.96285 c 1.96223,3.03937 2.30693,6.35296 1.65344,9.83576\" id=\"path4520\" sodipodi:nodetypes=\"cc\"/>\n",
       "    <path style=\"fill:none;stroke:#000000;stroke-width:0.227534px;stroke-linecap:butt;stroke-linejoin:miter;stroke-opacity:1;marker-start:url(#marker4526)\" d=\"m 177.54845,145.96285 c -1.05702,-2.67657 -2.40571,-5.21485 -6.58469,-6.41119\" id=\"path4522\" sodipodi:nodetypes=\"cc\"/>\n",
       "    <path style=\"fill:none;stroke:#000000;stroke-width:0.399886;stroke-linecap:butt;stroke-linejoin:miter;stroke-miterlimit:4;stroke-dasharray:none;stroke-opacity:1\" d=\"m 173.40337,135.31876 1.37318,3.58965 c 1.91012,-0.92928 2.31873,-2.53747 2.38362,-4.30107\" id=\"path4792\" sodipodi:nodetypes=\"ccc\"/>\n",
       "    <text xml:space=\"preserve\" style=\"font-size:4.69228px;line-height:1.25;font-family:sans-serif;-inkscape-font-specification:sans-serif;stroke-width:0.227534\" x=\"178.12305\" y=\"138.77902\" id=\"text4796\"><tspan sodipodi:role=\"line\" id=\"tspan4794\" x=\"178.12305\" y=\"138.77902\" style=\"stroke-width:0.227534\">= 0</tspan></text>\n",
       "    <circle style=\"fill:#ffffff;stroke:#000000;stroke-width:0.227891;stroke-linejoin:bevel;stroke-miterlimit:4;stroke-dasharray:none;stroke-dashoffset:0\" id=\"circle4798\" cx=\"187.28802\" cy=\"135.60268\" r=\"0.77112204\"/>\n",
       "    <path style=\"fill:none;stroke:#000000;stroke-width:0.227534px;stroke-linecap:butt;stroke-linejoin:miter;stroke-opacity:1;marker-start:url(#marker4994);marker-end:url(#marker4804)\" d=\"m 198.41037,133.54087 c 1.47271,3.10507 3.42686,5.95354 9.16302,6.7862\" id=\"path4800\" sodipodi:nodetypes=\"cc\"/>\n",
       "    <g id=\"g5200\" transform=\"matrix(0.85997074,0,0,0.85997074,56.47288,-4.5032438)\" style=\"stroke-width:0.4;stroke-miterlimit:4;stroke-dasharray:none\">\n",
       "      <path style=\"fill:none;stroke:#000000;stroke-width:0.4;stroke-linecap:butt;stroke-linejoin:miter;stroke-miterlimit:4;stroke-dasharray:none;stroke-opacity:1\" d=\"m 164.6125,168.0126 c -0.0661,2.07932 0.46003,4.02014 -0.61118,5.46555\" id=\"path5194\" sodipodi:nodetypes=\"cc\"/>\n",
       "      <path style=\"fill:none;stroke:#000000;stroke-width:0.4;stroke-linecap:butt;stroke-linejoin:miter;stroke-miterlimit:4;stroke-dasharray:none;stroke-opacity:1\" d=\"m 164.5347,170.69529 c 0.72288,0.37788 1.15278,0.92139 2.28685,0.0857 l -0.12099,-2.89337\" id=\"path5196\" sodipodi:nodetypes=\"ccc\"/>\n",
       "      <path style=\"fill:none;stroke:#000000;stroke-width:0.4;stroke-linecap:butt;stroke-linejoin:miter;stroke-miterlimit:4;stroke-dasharray:none;stroke-opacity:1\" d=\"m 166.78319,170.86932 c 0.0956,0.48541 0.40666,0.61309 1.09187,0.11931\" id=\"path5198\" sodipodi:nodetypes=\"cc\"/>\n",
       "    </g>\n",
       "    <ellipse style=\"fill:#ffffff;stroke:#000000;stroke-width:0.601978;stroke-linejoin:bevel\" id=\"ellipse5202\" cx=\"208.0836\" cy=\"127.93996\" rx=\"1.7740169\" ry=\"1.7603631\"/>\n",
       "    <text xml:space=\"preserve\" style=\"font-size:6.67432px;line-height:1.25;font-family:sans-serif;-inkscape-font-specification:sans-serif;stroke-width:0.227534\" x=\"149.47319\" y=\"156.32967\" id=\"text5206\"><tspan sodipodi:role=\"line\" id=\"tspan5204\" x=\"149.47319\" y=\"156.32967\" style=\"stroke-width:0.227534\">a</tspan></text>\n",
       "    <text xml:space=\"preserve\" style=\"font-size:6.67432px;line-height:1.25;font-family:sans-serif;-inkscape-font-specification:sans-serif;stroke-width:0.227534\" x=\"191.15117\" y=\"134.14673\" id=\"text5210\"><tspan sodipodi:role=\"line\" id=\"tspan5208\" x=\"191.15117\" y=\"134.14673\" style=\"stroke-width:0.227534\">b</tspan></text>\n",
       "    <text xml:space=\"preserve\" style=\"font-size:6.67432px;line-height:1.25;font-family:sans-serif;-inkscape-font-specification:sans-serif;stroke-width:0.227534\" x=\"208.34877\" y=\"151.78494\" id=\"text5214\"><tspan sodipodi:role=\"line\" id=\"tspan5212\" x=\"208.34877\" y=\"151.78494\" style=\"stroke-width:0.227534\">c</tspan></text>\n",
       "    <path style=\"fill:none;stroke:#000000;stroke-width:0.657878;stroke-linecap:butt;stroke-linejoin:miter;stroke-miterlimit:4;stroke-dasharray:2.63151, 1.31576;stroke-dashoffset:0;stroke-opacity:1\" d=\"m 206.08259,170.41664 2.00101,42.34565 -73.55892,-42.34565\" id=\"path5318\"/>\n",
       "    <path style=\"fill:none;stroke:#000000;stroke-width:0.227534px;stroke-linecap:butt;stroke-linejoin:miter;stroke-opacity:1;marker-start:url(#marker5352)\" d=\"m 177.54845,194.73939 c 1.96223,-3.03937 2.30693,-6.35295 1.65344,-9.83576\" id=\"path5320\" sodipodi:nodetypes=\"cc\"/>\n",
       "    <path style=\"fill:none;stroke:#000000;stroke-width:0.227534px;stroke-linecap:butt;stroke-linejoin:miter;stroke-opacity:1;marker-start:url(#marker5342)\" d=\"m 177.54845,194.73939 c -1.05702,2.67658 -2.40571,5.21486 -6.58469,6.41119\" id=\"path5322\" sodipodi:nodetypes=\"cc\"/>\n",
       "    <path style=\"fill:none;stroke:#000000;stroke-width:0.227534px;stroke-linecap:butt;stroke-linejoin:miter;stroke-opacity:1;marker-start:url(#marker5332);marker-end:url(#marker5362)\" d=\"m 198.41037,207.16138 c 1.47271,-3.10507 3.42686,-5.95355 9.16302,-6.7862\" id=\"path5324\" sodipodi:nodetypes=\"cc\"/>\n",
       "    <path style=\"fill:none;stroke:#000000;stroke-width:0.399886;stroke-linecap:butt;stroke-linejoin:miter;stroke-miterlimit:4;stroke-dasharray:none;stroke-opacity:1\" d=\"m 156.52524,197.40198 1.37318,3.58965 c 1.91012,-0.92928 2.31873,-2.53746 2.38362,-4.30107\" id=\"path5788\" sodipodi:nodetypes=\"ccc\"/>\n",
       "    <text xml:space=\"preserve\" style=\"font-size:4.69228px;line-height:1.25;font-family:sans-serif;-inkscape-font-specification:sans-serif;stroke-width:0.227534\" x=\"161.2449\" y=\"200.86224\" id=\"text5792\"><tspan sodipodi:role=\"line\" id=\"tspan5790\" x=\"161.2449\" y=\"200.86224\" style=\"stroke-width:0.227534\">= 0</tspan></text>\n",
       "    <circle style=\"fill:#ffffff;stroke:#000000;stroke-width:0.227891;stroke-linejoin:bevel;stroke-miterlimit:4;stroke-dasharray:none;stroke-dashoffset:0\" id=\"circle5794\" cx=\"170.4099\" cy=\"197.6859\" r=\"0.77112204\"/>\n",
       "    <g id=\"g5802\" transform=\"matrix(0.85997074,0,0,0.85997074,57.658427,53.436931)\" style=\"stroke-width:0.4;stroke-miterlimit:4;stroke-dasharray:none\">\n",
       "      <path style=\"fill:none;stroke:#000000;stroke-width:0.4;stroke-linecap:butt;stroke-linejoin:miter;stroke-miterlimit:4;stroke-dasharray:none;stroke-opacity:1\" d=\"m 164.6125,168.0126 c -0.0661,2.07932 0.46003,4.02014 -0.61118,5.46555\" id=\"path5796\" sodipodi:nodetypes=\"cc\"/>\n",
       "      <path style=\"fill:none;stroke:#000000;stroke-width:0.4;stroke-linecap:butt;stroke-linejoin:miter;stroke-miterlimit:4;stroke-dasharray:none;stroke-opacity:1\" d=\"m 164.5347,170.69529 c 0.72288,0.37788 1.15278,0.92139 2.28685,0.0857 l -0.12099,-2.89337\" id=\"path5798\" sodipodi:nodetypes=\"ccc\"/>\n",
       "      <path style=\"fill:none;stroke:#000000;stroke-width:0.4;stroke-linecap:butt;stroke-linejoin:miter;stroke-miterlimit:4;stroke-dasharray:none;stroke-opacity:1\" d=\"m 166.78319,170.86932 c 0.0956,0.48541 0.40666,0.61309 1.09187,0.11931\" id=\"path5800\" sodipodi:nodetypes=\"cc\"/>\n",
       "    </g>\n",
       "    <ellipse style=\"fill:#ffffff;stroke:#000000;stroke-width:0.601978;stroke-linejoin:bevel\" id=\"ellipse5804\" cx=\"171.33749\" cy=\"191.38164\" rx=\"1.7740169\" ry=\"1.7603631\"/>\n",
       "    <ellipse style=\"fill:#ffffff;stroke:#000000;stroke-width:0.601978;stroke-linejoin:bevel\" id=\"ellipse5806\" cx=\"208.0836\" cy=\"212.76228\" rx=\"1.7740169\" ry=\"1.7603631\"/>\n",
       "    <ellipse style=\"fill:#ffffff;stroke:#000000;stroke-width:0.601978;stroke-linejoin:bevel\" id=\"ellipse4054\" cx=\"134.52402\" cy=\"170.2856\" rx=\"1.7740169\" ry=\"1.7603631\"/>\n",
       "    <ellipse style=\"fill:#ffffff;stroke:#000000;stroke-width:0.601978;stroke-linejoin:bevel\" id=\"ellipse4056\" cx=\"206.0826\" cy=\"170.2856\" rx=\"1.7740169\" ry=\"1.7603631\"/>\n",
       "    <text xml:space=\"preserve\" style=\"font-size:6.67432px;line-height:1.25;font-family:sans-serif;-inkscape-font-specification:sans-serif;stroke-width:0.227534\" x=\"-9.2617178\" y=\"196.70142\" id=\"text5810\"><tspan sodipodi:role=\"line\" id=\"tspan5808\" x=\"-9.2617178\" y=\"196.70142\" style=\"stroke-width:0.227534\">a</tspan></text>\n",
       "    <text xml:space=\"preserve\" style=\"font-size:6.67432px;line-height:1.25;font-family:sans-serif;-inkscape-font-specification:sans-serif;stroke-width:0.227534\" x=\"16.223587\" y=\"206.22469\" id=\"text5814\"><tspan sodipodi:role=\"line\" id=\"tspan5812\" x=\"16.223587\" y=\"206.22469\" style=\"stroke-width:0.227534\">b</tspan></text>\n",
       "    <text xml:space=\"preserve\" style=\"font-size:6.67432px;line-height:1.25;font-family:sans-serif;-inkscape-font-specification:sans-serif;stroke-width:0.227534\" x=\"53.014736\" y=\"186.39032\" id=\"text5818\"><tspan sodipodi:role=\"line\" id=\"tspan5816\" x=\"53.014736\" y=\"186.39032\" style=\"stroke-width:0.227534\">c</tspan></text>\n",
       "    <text xml:space=\"preserve\" style=\"font-size:6.67432px;line-height:1.25;font-family:sans-serif;-inkscape-font-specification:sans-serif;stroke-width:0.227534\" x=\"149.47319\" y=\"156.32967\" id=\"text5822\"><tspan sodipodi:role=\"line\" id=\"tspan5820\" x=\"149.47319\" y=\"156.32967\" style=\"stroke-width:0.227534\">a</tspan></text>\n",
       "    <text xml:space=\"preserve\" style=\"font-size:6.67432px;line-height:1.25;font-family:sans-serif;-inkscape-font-specification:sans-serif;stroke-width:0.227534\" x=\"155.81375\" y=\"189.85272\" id=\"text5826\"><tspan sodipodi:role=\"line\" id=\"tspan5824\" x=\"155.81375\" y=\"189.85272\" style=\"stroke-width:0.227534\">a</tspan></text>\n",
       "    <text xml:space=\"preserve\" style=\"font-size:6.67432px;line-height:1.25;font-family:sans-serif;-inkscape-font-specification:sans-serif;stroke-width:0.227534\" x=\"181.50511\" y=\"205.82013\" id=\"text5830\"><tspan sodipodi:role=\"line\" id=\"tspan5828\" x=\"181.50511\" y=\"205.82013\" style=\"stroke-width:0.227534\">b</tspan></text>\n",
       "    <text xml:space=\"preserve\" style=\"font-size:6.67432px;line-height:1.25;font-family:sans-serif;-inkscape-font-specification:sans-serif;stroke-width:0.227534\" x=\"208.74831\" y=\"197.5201\" id=\"text5834\"><tspan sodipodi:role=\"line\" id=\"tspan5832\" x=\"208.74831\" y=\"197.5201\" style=\"stroke-width:0.227534\">c</tspan></text>\n",
       "  </g>\n",
       "</svg>"
      ],
      "text/plain": [
       "<IPython.core.display.SVG object>"
      ]
     },
     "execution_count": 112,
     "metadata": {},
     "output_type": "execute_result"
    }
   ],
   "source": [
    "SVG('figs4-10.svg')"
   ]
  },
  {
   "cell_type": "markdown",
   "metadata": {},
   "source": [
    " [Voltar para o capítulo anterior](Mecs3.ipynb)     $\\qquad$   [Avançar para o próximo capítulo](Mecs5.ipynb)"
   ]
  }
 ],
 "metadata": {
  "kernelspec": {
   "display_name": "Python 3",
   "language": "python",
   "name": "python3"
  },
  "language_info": {
   "codemirror_mode": {
    "name": "ipython",
    "version": 3
   },
   "file_extension": ".py",
   "mimetype": "text/x-python",
   "name": "python",
   "nbconvert_exporter": "python",
   "pygments_lexer": "ipython3",
   "version": "3.8.3"
  },
  "widgets": {
   "application/vnd.jupyter.widget-state+json": {
    "state": {
     "057810a24e494ff689587e485c364113": {
      "model_module": "@jupyter-widgets/controls",
      "model_module_version": "1.5.0",
      "model_name": "SliderStyleModel",
      "state": {
       "description_width": ""
      }
     },
     "0b2b66f3fe1041be85c44273ae9b4199": {
      "model_module": "@jupyter-widgets/controls",
      "model_module_version": "1.5.0",
      "model_name": "IntSliderModel",
      "state": {
       "description": "cn",
       "layout": "IPY_MODEL_33af4641e6584dbc802803ce3c88ac81",
       "max": 20,
       "min": 1,
       "style": "IPY_MODEL_bf0992874479438c862928a4364e2239",
       "value": 10
      }
     },
     "124feb46515f493aaf303d9c5eb78ca9": {
      "model_module": "@jupyter-widgets/base",
      "model_module_version": "1.2.0",
      "model_name": "LayoutModel",
      "state": {}
     },
     "17d47d3c504d464bbdcbf8c4520b467a": {
      "model_module": "@jupyter-widgets/output",
      "model_module_version": "1.0.0",
      "model_name": "OutputModel",
      "state": {
       "layout": "IPY_MODEL_64770c8c29a340a7839354c23d726fe0",
       "outputs": [
        {
         "name": "stdout",
         "output_type": "stream",
         "text": "Não-Grashof\n"
        },
        {
         "data": {
          "image/png": "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\n",
          "text/plain": "<Figure size 750x750 with 1 Axes>"
         },
         "metadata": {
          "needs_background": "light"
         },
         "output_type": "display_data"
        }
       ]
      }
     },
     "1910a953ed3b4d6e8bce920ee7b0fb98": {
      "model_module": "@jupyter-widgets/base",
      "model_module_version": "1.2.0",
      "model_name": "LayoutModel",
      "state": {}
     },
     "1a9d1b441469480ca81c917f85276ec9": {
      "model_module": "@jupyter-widgets/base",
      "model_module_version": "1.2.0",
      "model_name": "LayoutModel",
      "state": {}
     },
     "1e7ba5f98b3f4c03ae5e181715520e99": {
      "model_module": "@jupyter-widgets/base",
      "model_module_version": "1.2.0",
      "model_name": "LayoutModel",
      "state": {}
     },
     "2138628862484b16979c45940d5ad8fc": {
      "model_module": "@jupyter-widgets/base",
      "model_module_version": "1.2.0",
      "model_name": "LayoutModel",
      "state": {}
     },
     "21d9c60f5f1b482ca0e0c4f196874cae": {
      "model_module": "@jupyter-widgets/controls",
      "model_module_version": "1.5.0",
      "model_name": "IntSliderModel",
      "state": {
       "description": "an",
       "layout": "IPY_MODEL_c6342a220cd14dc99369ed3afb27c884",
       "max": 20,
       "min": 1,
       "style": "IPY_MODEL_f12793bc35c9412ba6966ea883e46a4c",
       "value": 9
      }
     },
     "2a77e0af97d543cd91fb5c7253394cd9": {
      "model_module": "@jupyter-widgets/output",
      "model_module_version": "1.0.0",
      "model_name": "OutputModel",
      "state": {
       "layout": "IPY_MODEL_d78bede0c0e143669f38ff60beb58789",
       "outputs": [
        {
         "name": "stdout",
         "output_type": "stream",
         "text": "Grashof\n"
        },
        {
         "data": {
          "image/png": "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\n",
          "text/plain": "<Figure size 750x750 with 1 Axes>"
         },
         "metadata": {
          "needs_background": "light"
         },
         "output_type": "display_data"
        }
       ]
      }
     },
     "3232375ee9b9457c98a2c678c35e2c2f": {
      "model_module": "@jupyter-widgets/controls",
      "model_module_version": "1.5.0",
      "model_name": "VBoxModel",
      "state": {
       "_dom_classes": [
        "widget-interact"
       ],
       "children": [
        "IPY_MODEL_bab885a127ad4d48954dca2978ec50b2",
        "IPY_MODEL_93c05e85d0854e0d8f974eb777415ccc",
        "IPY_MODEL_0b2b66f3fe1041be85c44273ae9b4199",
        "IPY_MODEL_fb8425718cd54380a7aa3f99fb96bc09",
        "IPY_MODEL_96799371bc0d405cb1e43f0545f3069b",
        "IPY_MODEL_17d47d3c504d464bbdcbf8c4520b467a"
       ],
       "layout": "IPY_MODEL_1e7ba5f98b3f4c03ae5e181715520e99"
      }
     },
     "33af4641e6584dbc802803ce3c88ac81": {
      "model_module": "@jupyter-widgets/base",
      "model_module_version": "1.2.0",
      "model_name": "LayoutModel",
      "state": {}
     },
     "3ee5350627ae4de186c9fd338a9c77f6": {
      "model_module": "@jupyter-widgets/controls",
      "model_module_version": "1.5.0",
      "model_name": "SliderStyleModel",
      "state": {
       "description_width": ""
      }
     },
     "40a0e22e593c490fbafb939b38a87615": {
      "model_module": "@jupyter-widgets/controls",
      "model_module_version": "1.5.0",
      "model_name": "IntSliderModel",
      "state": {
       "description": "cn",
       "layout": "IPY_MODEL_1a9d1b441469480ca81c917f85276ec9",
       "max": 20,
       "min": 1,
       "style": "IPY_MODEL_64c1826bef0c4c79bd636d372dbf5014",
       "value": 11
      }
     },
     "42adb2838a6644f8a6d51dcc243a0a88": {
      "model_module": "@jupyter-widgets/controls",
      "model_module_version": "1.5.0",
      "model_name": "SliderStyleModel",
      "state": {
       "description_width": ""
      }
     },
     "47247fce72bb4d69a69126d42b68d344": {
      "model_module": "@jupyter-widgets/controls",
      "model_module_version": "1.5.0",
      "model_name": "FloatSliderModel",
      "state": {
       "description": "thetan",
       "layout": "IPY_MODEL_b619ba5cd68c4930b0b50d68a240c503",
       "max": 12.566370614359172,
       "step": 0.1,
       "style": "IPY_MODEL_8aabfa5087e14ec19f65d05b01c8c64c",
       "value": 5.2
      }
     },
     "4903cacad1284ccd8f00a8829d602996": {
      "model_module": "@jupyter-widgets/controls",
      "model_module_version": "1.5.0",
      "model_name": "SliderStyleModel",
      "state": {
       "description_width": ""
      }
     },
     "4c7625a0c03e485f8735698f4b456241": {
      "model_module": "@jupyter-widgets/controls",
      "model_module_version": "1.5.0",
      "model_name": "SliderStyleModel",
      "state": {
       "description_width": ""
      }
     },
     "50e8afce2769454281522bf7004a6e39": {
      "model_module": "@jupyter-widgets/base",
      "model_module_version": "1.2.0",
      "model_name": "LayoutModel",
      "state": {}
     },
     "57c54f8e0de14d10846284838bfa73fc": {
      "model_module": "@jupyter-widgets/base",
      "model_module_version": "1.2.0",
      "model_name": "LayoutModel",
      "state": {}
     },
     "5a620728ac4e421b9879948c8fc5602a": {
      "model_module": "@jupyter-widgets/controls",
      "model_module_version": "1.5.0",
      "model_name": "SliderStyleModel",
      "state": {
       "description_width": ""
      }
     },
     "61d3d868b1924492b0f45511787b55b9": {
      "model_module": "@jupyter-widgets/controls",
      "model_module_version": "1.5.0",
      "model_name": "VBoxModel",
      "state": {
       "_dom_classes": [
        "widget-interact"
       ],
       "children": [
        "IPY_MODEL_fb5b704e252341dc8411b6ceb665b9b3",
        "IPY_MODEL_b574e731d8274857b2ace108f6bde762",
        "IPY_MODEL_9d74f5a036014b7299fe839df75f4c2f",
        "IPY_MODEL_7d2bb5bcee784471850be880d83fd6d5",
        "IPY_MODEL_d62b8c4932184b77b61b59ee0025d643",
        "IPY_MODEL_7977b67d494640439fd7f9291040f41b"
       ],
       "layout": "IPY_MODEL_b8bf732420414d158dee86ce5499d08e"
      }
     },
     "64770c8c29a340a7839354c23d726fe0": {
      "model_module": "@jupyter-widgets/base",
      "model_module_version": "1.2.0",
      "model_name": "LayoutModel",
      "state": {}
     },
     "64c1826bef0c4c79bd636d372dbf5014": {
      "model_module": "@jupyter-widgets/controls",
      "model_module_version": "1.5.0",
      "model_name": "SliderStyleModel",
      "state": {
       "description_width": ""
      }
     },
     "64d3b3099cab4d9d9f7527b404461918": {
      "model_module": "@jupyter-widgets/base",
      "model_module_version": "1.2.0",
      "model_name": "LayoutModel",
      "state": {}
     },
     "65d638082d0a4da2b5b0291a9be34dd4": {
      "model_module": "@jupyter-widgets/base",
      "model_module_version": "1.2.0",
      "model_name": "LayoutModel",
      "state": {}
     },
     "6b05cd0a94da4f28b63cdb4dd1c6cb42": {
      "model_module": "@jupyter-widgets/base",
      "model_module_version": "1.2.0",
      "model_name": "LayoutModel",
      "state": {}
     },
     "6fd0d4c39d3f4809b710c910f279c89a": {
      "model_module": "@jupyter-widgets/controls",
      "model_module_version": "1.5.0",
      "model_name": "SliderStyleModel",
      "state": {
       "description_width": ""
      }
     },
     "722e088fadeb4142847e63a4ccfc52ff": {
      "model_module": "@jupyter-widgets/controls",
      "model_module_version": "1.5.0",
      "model_name": "IntSliderModel",
      "state": {
       "description": "bn",
       "layout": "IPY_MODEL_9da78f405f7c4689885c7bdf45358c89",
       "max": 20,
       "min": 1,
       "style": "IPY_MODEL_a035647897094c208429c06cdc7ba79f",
       "value": 12
      }
     },
     "733bd66bcd6b4f4a881e17e8b2042096": {
      "model_module": "@jupyter-widgets/base",
      "model_module_version": "1.2.0",
      "model_name": "LayoutModel",
      "state": {}
     },
     "77fa36fd3cf347f19d803edd36c871c4": {
      "model_module": "@jupyter-widgets/base",
      "model_module_version": "1.2.0",
      "model_name": "LayoutModel",
      "state": {}
     },
     "792762cfe19a4f0aae64d011efb583bd": {
      "model_module": "@jupyter-widgets/controls",
      "model_module_version": "1.5.0",
      "model_name": "IntSliderModel",
      "state": {
       "description": "dn",
       "layout": "IPY_MODEL_9884640535fc41b487093d0337f06c10",
       "max": 20,
       "min": 1,
       "style": "IPY_MODEL_5a620728ac4e421b9879948c8fc5602a",
       "value": 11
      }
     },
     "7977b67d494640439fd7f9291040f41b": {
      "model_module": "@jupyter-widgets/output",
      "model_module_version": "1.0.0",
      "model_name": "OutputModel",
      "state": {
       "layout": "IPY_MODEL_1910a953ed3b4d6e8bce920ee7b0fb98",
       "outputs": [
        {
         "name": "stdout",
         "output_type": "stream",
         "text": "Grashof\n"
        },
        {
         "data": {
          "image/png": "iVBORw0KGgoAAAANSUhEUgAAAqsAAAJ+CAYAAACU6EltAAAAOXRFWHRTb2Z0d2FyZQBNYXRwbG90bGliIHZlcnNpb24zLjMuMiwgaHR0cHM6Ly9tYXRwbG90bGliLm9yZy8vihELAAAACXBIWXMAABcSAAAXEgFnn9JSAAA3L0lEQVR4nO3deZRdV30m7HeXRluWJc+DJM8DeJAxHrABMxgINMQJJsaGfM0YOkBIN1l00p18zRjSSacHFtAdIOkAJl93g4mbyYEQII6NGT2Bhe1gPFuSJ8myZEm2xtrfH/eqXBJVUkm+VXdX+XnWumvXGfatn7yXq9469+x9Sq01AADQooF+FwAAAKMRVgEAaJawCgBAs4RVAACaJawCANAsYRUAgGYJqwAANEtYBQCgWcIqAADNElYBAGiWsAoAQLOEVQAAmiWsAgDQLGEVAIBmNRVWSynvKaV8qZRyeyllTSllYynl3lLK35RSTt1JvzeXUq4tpawrpawqpXyjlPLciawdAIDeK7XWftcwpJSyMsmcJEuSLO/uPjnJCUk2J3lNrfXvdujz0STvTvJEkm8lmZ3kJUlKkotqrV+ZiNoBAOi91sLq85LcUGvdsMP+30nyF0keSrKw1rqlu/+lSb6d5JEk59Zab+/uPzfJVUkeT3J0rXX1RP0bAADonaZuA6i1fn/HoNrd/4kkdyY5JMlJww69p9v+ybag2j3/h0k+lWR+kt8at4IBABhXTYXVXdjcbTclSSllryTnd/ddPsL52/ZdMM51AQAwTiZFWC2lvCHJiUlu777S3Z6VZEWtddkI3W7stovHv0IAAMbD9H4XMJJSyh+kM7FqTpJndr++P8nra61bu6cd0W1HCqqpta4vpaxOsl8pZW6tde0Yvu8toxw6IZ0JXEvH/I8AAJh6FiV5vNZ66ER9wybDapKXpzOjf5t7k7yx1nrDsH37dNvHd/I+69O5b3Vukl2G1Z0YmD59+twFCxactOtTad3g4GCSZGBgUnywwC4Yz6nFeE49xnRqWb58ebZs2TKh37PJsFprfWmSlFLmJzk1yfuTXF1KeW+t9T+O4/c9eaT9pZRbFixYcNI999wzXt+aCXTllVcmSc4///xdnMlkYDynFuM59RjTqeWoo47KvffeO6GfNDf9Z06tdXWt9Zokr0xyQ5IPl1LO6h5e12333slbzOm2T+WqKgAAfdJ0WN2m1ro5yWXpLPS/bXb/fd124Uh9Silz0rkF4NGx3K8KAEB7JkVY7VrZbQ/qtrcl2ZjkoFLKghHOf3a3XTLehQEAMD4mU1h9Ybe9M0lqrU8kubK777UjnH9Rt71inOsCAGCcNBNWSynPK6W8opQysMP+GaWUf53kDeksH3XZsMMf6bbvLaUcP6zPuUnenmR1kk+Pa+EAAIybllYDOD7JZ5OsLKXckOSRJAemsxrAYUk2JHlzrXVoBlqt9TullI8leXeSn5ZSvp1kZpKXpXN/61tqrasn9F8BAEDPtBRWr07yp+l83L84naC6Kck96Tw69eO11jt27FRr/b1Syk+T/G46IXVTku8k+XCt9QcTUjkAAOOimbBaa707yX/Yw76XJrm0l/UAANB/zdyzCgAAOxJWAQBolrAKAECzhFUAAJolrAIA0CxhFQCAZgmrAAA0S1gFAKBZwioAAM0SVgEAaJawCgBAs4RVAACaJawCANAsYRUAgGYJqwAANEtYBQCgWcIqAADNElYBAGiWsAoAQLOEVQAAmiWsAgDQLGEVAIBmCasAADRLWAUAoFnCKgAAzRJWAQBolrAKAECzhFUAAJolrAIA0CxhFQCAZgmrAAA0S1gFAKBZwioAAM0SVgEAaJawCgBAs4RVAACaJawCANAsYRUAgGYJqwAANEtYBQCgWcIqAADNElYBAGiWsAoAQLOEVQAAmiWsAgDQLGEVAIBmCasAADRLWAUAoFnCKgAAzRJWAQBolrAKAECzhFUAAJolrAIA0CxhFQCAZgmrAAA0S1gFAKBZwioAAM0SVgEAaJawCgBAs4RVAACaJawCANAsYRUAgGYJqwAANEtYBQCgWcIqAADNElYBAGiWsAoAQLOEVQAAmiWsAgDQLGEVAIBmCasAADRLWAUAoFnCKgAAzRJWAQBolrAKAECzhFUAAJolrAIA0CxhFQCAZgmrAAA0S1gFAKBZwioAAM0SVgEAaJawCgBAs4RVAACaJawCANAsYRUAgGYJqwAANEtYBQCgWcIqAADNElYBAGiWsAoAQLOEVQAAmiWsAgDQLGEVAIBmCasAADRLWAUAoFnNhNVSyt6llFeXUj5dSrmtlLKhlLK+lHJTKeX9pZR9dtL3zaWUa0sp60opq0op3yilPHci6wcAoPeaCatJfjPJl5O8NcnWJF9Lck2So5N8KMl1pZSDd+xUSvloks8mOSXJd5Jcm+RlSb5bSnn1RBQOAMD4aCmsbk7yV0lOqrWeVGu9uNb6iiQnJvlJkmck+ejwDqWUlyZ5d5JHkpxWa311t88L0gm8ny2lzJ+4fwIAAL3UTFittX6u1vr2Wus/77D/gSTv6m6+ppQyc9jh93TbP6m13j6szw+TfCrJ/CS/NX5VAwAwnpoJq7twU7edleSAJCml7JXk/O7+y0fos23fBeNbGgAA42WyhNVjuu3mJKu6X5+YTnhdUWtdNkKfG7vt4nGuDQCAcTK93wWM0bu77TdrrRu7Xx/RbUcKqqm1ri+lrE6yXyllbq117a6+SSnlllEOHTs4OJgrr7xyd2qmUevXr08S4zlFGM+pxXhOPcZ0ahkcHJzw79n8ldVSyivTue90c5L3DTu0bSmrx3fSfX23nTsOpQEAMM6avrJaSnlGkv+VpCT5g1rrTbvo8pTUWk8epY5bBgYGTjr//PNHOswks+2ve+M5NRjPqcV4Tj3GdGoZGJj465zNXlktpSxI8s0k+yX5SK31Yzucsq7b7r2Tt5nTbXd5CwAAAO1pMqyWUvZP8q0kR6az4P/vj3Dafd124SjvMSedpaseHcv9qgAAtKe5sNp9rOrfJzkpyZeS/Ktaax3h1NuSbExyUPcq7I6e3W2XjEuhAACMu6bCaillVpKvJjk7yT8keX2tdetI59Zan0iybWrha0c45aJue0Wv6wQAYGI0E1ZLKdOSfD6dhf6vSfKaWuumXXT7SLd9bynl+GHvdW6StydZneTTva8WAICJ0NJqAL+b5MLu1yuTfKKUMtJ5v19rXZkktdbvlFI+ls46rD8tpXw7ycwkL0tnBYG31FpXj3fhAACMj5bC6n7Dvr5w1LOSD6YTZpMktdbfK6X8NJ2w+7Ikm5J8J8mHa60/6H2ZAABMlGbCaq31g+kE0T3pe2mSS3tXDQAALWjmnlUAANiRsAoAQLOEVQAAmiWsAgDQLGEVAIBmCasAADRLWAUAoFnCKgAAzRJWAQBolrAKAECzhFUAAJolrAIA0CxhFQCAZgmrAAA0S1gFAKBZwioAAM0SVgEAaJawCgBAs4RVAACaJawCANAsYRUAgGYJqwAANEtYBQCgWcIqAADNElYBAGiWsAoAQLOEVQAAmiWsAgDQLGEVAIBmCasAADRLWAUAoFnCKgAAzRJWAQBolrAKAECzhFUAAJolrAIA0CxhFQCAZgmrAAA0S1gFAKBZwioAAM0SVgEAaJawCgBAs4RVAACaJawCANAsYRUAgGYJqwAANEtYBQCgWcIqAADNElYBAGiWsAoAQLOEVQAAmiWsAgDQLGEVAIBmCasAADRLWAUAoFnCKgAAzRJWAQBolrAKAECzhFUAAJolrAIA0CxhFQCAZgmrAAA0S1gFAKBZwioAAM0SVgEAaJawCgBAs4RVAACaJawCANAsYRUAgGYJqwAANEtYBQCgWcIqAADNElYBAGiWsAoAQLOEVQAAmiWsAgDQLGEVAIBmCasAADRLWAUAoFnCKgAAzRJWAQBolrAKAECzhFUAAJolrAIA0CxhFQCAZgmrAAA0S1gFAKBZwioAAM0SVgEAaJawCgBAs4RVAACaJawCANAsYRUAgGYJqwAANEtYBQCgWcIqAADNElYBAGhWU2G1lHJGKeUPSylfKqUsK6XUUkodQ783l1KuLaWsK6WsKqV8o5Ty3ImoGQCA8TO93wXs4H1Jfn13OpRSPprk3UmeSPKtJLOTvCzJr5RSLqq1fqXHNQIAMEFaC6s/TLIkyXXd1z1JZo12cinlpekE1UeSnFtrvb27/9wkVyX5bCnlqlrr6nGtGgCAcdFUWK21/vnw7VLKrrq8p9v+ybag2n2fH5ZSPpXk3yT5rST/rZd1AgAwMZq6Z3V3lFL2SnJ+d/PyEU7Ztu+CiakIAIBem7RhNcmJ6dwisKLWumyE4zd228UTVxIAAL3U1G0Au+mIbjtSUE2tdX0pZXWS/Uopc2uta3f1hqWUW0Y5dOzg4GCuvPLKPauUpqxfvz5JjOcUYTynFuM59RjTqWVwcHDCv+dkDqv7dNvHd3LO+iTzk8xNssuwCjAVrdlY893lW/KLRwezYUvN7OklJ+43kPMWTM+8WbucGwDQV5M5rPZcrfXkkfaXUm4ZGBg46fzzzx/pMJPMtr/ujefUYDxHt2Hz1nzoilty+Q3Lsnnr8CWra255ZDBX3L01F52xKB+44KTMnjGtb3UOZzynHmM6tQwMTPwdpJM5rK7rtnvv5Jw53dZVVeBpZcPmrXnTZ67Nj+9eNeo5m7fWfP7a+3LXinX53FvPbiawAgw3mSdY3ddtF450sJQyJ51bAB4dy/2qAFPJh664ZadBdbgf370qH7ri1nGuCGDPTOaweluSjUkOKqUsGOH4s7vtkokrCaD/Hl67IZffMOLc01FdfsPSrFi7cZwqAthzkzas1lqfSLJtauFrRzjlom57xcRUBNCGL163dId7VHdt89aaL16/dJwqAthzkzasdn2k2763lHL8tp3dx62+PcnqJJ/uQ10AfbFxy9Z8558f3qO+P7rrkR5XA/DUNTXBqpTyqiTvG7ZrZnf/j4bt+3Ct9etJUmv9TinlY0neneSnpZRvd/u8LElJ8pZa6+qJqB1gom0drLnj4XW5adnqLFm2OkuWrcnPH1ibTVv3bB3EdRu39LhCgKeuqbCa5KAkzxlh/3N2OGdIrfX3Sik/TfK76YTUTUm+k06o/cE41QkwoWqtuW/V47lp2ZosWdoJpjffvyaPb9ras++xz6zWfiUANBZWa62XJrl0ovoBtOrBNRu2u2K6ZNmarHli85j6TislW+vu3bOaJOccc8Bu9wEYb02FVYCno0fXb8qS5Z0rpjctW5Mly1bn4THOzJ82UHL8wfvktIXzs3jRvJy2cH7223tmXvRf/2m3JlnNmFZy8ZmL9vSfADBuhFWACbR+45b8bPma7a6Y3rdqZ0+N3t7RB87J4oXzsnjh/Jy2cF5OPnxe9pr5y4v5X3TGwnz+2rHP7r/ojEU5aO6sMZ8PMFGEVYBxsnHL1vzzA2uzZNnq3LS0E1DvWLEuY/2E/vB5s7O4e8V08YL5OXXhvMzba8aY+n7ggpNz14r1Y3owwHOO3j8fuOCksRUFMMGEVYAe2LJ1MLc/vC4/W7ame6/pmvz8wcfG/FH8/nNmbnfFdPHC+U/pSufsGdPyubeenQ9dcWsuv2H0dVdfeMKB+cs3nOlRq0CzhFWA3VRrzT2PPL7dFdNb7n8sT2we28z8fWZNz6kL5g2F08UL52XhfnullNLTOmfPmJY/e82pec/LTsgXr1+aH931SNZt3JKlqx7PynWbkiSzpk8TVIGmCasAO1FrzYOPbRgKpUu6E6Ae2zC2NUlnTh/IyYfv25kA1Q2nxxw4JwMDvQ2mO3PQ3Fl514uPy7tefFyS5KrbHs6bP3tdkuQff/5wHl67IQfPnT1h9QDsDmEVYJhV6zd1PsbfFk6Xr8mK3ZiZf8Ihc4c+xl+8cF5OPHRuZkxr62GB5x1/UA6fNzv3r9mQrYM1X7pxed7xwmP7XRbAiIRV4Glr3cYt+dmyJ6+Y3rRsdZY9+sSY+x9z0JztrpiefPi+k+Ij9WkDJa89c1E+9o+3J0kuu25p3v6CY3p+GwJALwirwNPChs1bc+sDj3We/rS8s2TUnbsxM3/B/L22mwB1ysJ52Xf22Gbmt+i1Zy7Mx6+8PbUmd69cn2vvXpXneCgA0CBhFZhytmwdzC8eWteZANW9cnrbg2uzZXBsyfTAfWYOfYx/2sLOklEH7jO11iBduN/eef5xB+aa21cm6VxdFVaBFgmrwKQ2WGseerzmKz9ZPrRk1C33r8mGzYNj6j931vScOnzJqEXzc/i82U+Lj8Rfd9YRQ2H1Gzc/kA/82sljXscVYKIIq8CkUWvN/Ws2bPdY0p/cuyFPbEmSn+6y/6zpAzllwbycumBeTlvUCahHHzCxM/Nb8tKTDs7+c2Zm1fpN2bB5MF+76f684Zwj+10WwHaEVaBZj6zbODTxaduSUdvWB92V6QMlJx46d7tF9k84ZJ9Mb2xmfj/Nmj4tF56+IJ/+3t1Jksuuu09YBZojrAJNeGzD5ty8bM3QFdMly9Zk+eqxzcwvSY49eJ8s3rbQ/qL5OemwyTEzv98uOWvRUFi9efljuXn5mpyyYF6fqwJ4krAKjGrF2o257Lr78uO7V2Xdxi3ZZ9b0nHPMAbn4zEVP6VGgGzZvzS33P7bdklF3rVg/5v4L99traMmorSvuypH7DuRVv/LCPa7n6eyEQ+bm2UfMz433rU6SfPH6pcIq0BRhFfglGzZvzYeuuCWX37Dsl54pf83tK/PR7/wiF52xKB+44KRdXr3cvHUwtz24NkuWrcnPlnceT/qLh3ZnZv6sJxfZXzQvixfMywHDZuZfeeW9u/8PZDuXnLVoKKx++SfL8/++8pmuSgPNEFaB7WzYvDVv+sy1+fHdq0Y9Z/PWms9fe1/uWrEun3vr2UPBZnCw5q6V67e7Ynrr/Y9l45axzczfd/b0oSWjFi+cn9MWzcuh+z49Zub3068uPjx/fMWtWb9pa9Zu2JJv3vxgXn36gn6XBZBEWAV28KErbtlpUB3ux3evyts+d31OXrBvlixdk5uXr8najVvG1Hf2jIGccviToXTxwvk56oC9BdM+mDNrei447fB84bqlSZIvXHefsAo0Q1gFhjy8dkMuv2HZbvX53h0r8707Vu70nBnTSp5x6L7dK6adYHr8wWbmt+TisxYNhdUf3bUq96xcn6MOnNPnqgCEVWCYL1639JfuUd1dpSTHHbTPdldMn3HoXPdANu70RZ2lvX7x0LoknYlW/+4Vz+hzVQDCKjDMWD/+39GB+8zMb7/gmCxeOD+nLJiXfWb50TLZlFJyyVlH5MN/d2uS5G9vWJb3vOwEV7+BvvNTCBiyboz3m+5o0f5757dfcGzOOeYAQXUSu/D0BZkxrXPP8Iq1G/NPt63oc0UAwiowzJ4GTQF1ath/zsz8ysmHDm1f1r2HFaCfhFVgyHOO3n+P+p1zzAE9roR+ed1Zi4a+/qfbHs5Dj23oYzUAwiowzMVnLRr6GHisZkwrufjMRbs+kUnheccemAXz90qSbB2su706BECvCavAkIPnzs5FZyzcrT4XnfHUHr1KWwYGtv/j44vXL83gGJ82BjAehFVgOx+44OQx3w5w9lH75wMXnDTOFTHRXnvmwmx7NsO9jzy+x6tEAPSCsApsZ/aMafncW8/O688+Ype3BLz69MOtnzoFHT5/r7zwhIOGti+77r4+VgM83QmrwC+ZPWNa/uw1p+YHf/iS/MHLT8x5xx+Y04+Yn/OOPzCnLpg3dN6nv3e3j4inqEuG3QrwjZsfzJrHN/exGuDpzHozwKgOmjsr73rxcXnXi48b2nf3yvU5/79dlVqTO1esz7dufSivOOXQnbwLk9FLnnlIDpgzM4+s35RNWwbz1ZuW543nHtXvsoCnIVdWgd1y9IFz8spTDhva/uTVd6ZWV1enmpnTB/Ibwybbff7apcYZ6AthFdht73jhsUNf37R0dX545yN9rIbxMnxVgH9+4LHcvPyxPlYDPF0Jq8BuO3XhvJx3/IFD25+8+s4+VsN4Oe7gfXLmkfsNbV92vYlWwMQTVoE98s4XPXl19ZrbV+Zny9b0sRrGyyXDnmj11Z/cnyc2be1jNcDTkbAK7JFzjzkgpy2aP7T9KVdXp6RXLT4s+8zqzMVdu3FLvvGzB/pcEfB0I6wCe6SUkncOu3f1Gzc/kLtWrOtjRYyHvWdOzwWnHT60fdn1S/tYDfB0JKwCe+xXTjokxx40J0lSa/JX372rzxUxHl437FaAa+9e5Y8SYEIJq8AeGxgo260M8H9vXJYH12zoY0WMh8UL5+UZh84d2nZ1FZhIwirwlPz6sxbksHmzkySbt9Z85vt397kieq2Ust1Eq/97w/Js3jrYx4qApxNhFXhKZk4fyNvOO2Zo+3//6F6P5pyCLjx9QWZO7/zKWLluY678+cN9rgh4uhBWgafsdWctyvy9ZyRJ1m/amr/54T39LYiem7/3zLz85Ccfq3vZdW4FACaGsAo8ZXNmTc+bn3vU0PZnf3CP9TinoOETra667WH3JwMTQlgFeuJN5x6VvWZMS5KsWr8pXzQJZ8o595gDsmj/vZIkgzW5/AZjDIw/YRXoif3mzMzrzz5iaPuvvnuXSThTzMBAycVnPHl19bLrl2ZwsPaxIuDpQFgFeuZt5x2dGdNKkmT56idyxU3397kieu2iMxdmoDPEWbrqifzwrkf6WxAw5QmrQM8cPn+vvPpZC4a2P3X1na68TTGHzdsrLzrx4KFtE62A8SasAj319hcek9K98vaLh9ZZ4mgKGr7m6jdvfjCPrt/Ux2qAqU5YBXrquIPn5ldOOmRo+xNX3ZFaXV2dSs5/xsE5cJ9ZSZJNWwfzlZ8u73NFwFQmrAI9984XHTf09Y33rc61d6/qYzX02oxpA/mNM5683eOy65b6gwQYN8Iq0HPPWjQ/zz32gKHtT159Zx+rYTxccuaTtwL8/MG1WbJsTR+rAaYyYRUYF+980bFDX19124rccr8wM5Ucc9A+Ofuo/Ye2v2CiFTBOhFVgXDz/uANzyoJ9h7Y/dfVdfayG8TB8otUVN92fxzdt6WM1wFQlrALjopSSd77wyXtXv77k/tz7yPo+VkSvvfLUwzJ31vQkybqNW/L1JQ/0uSJgKhJWgXHzilMOzdEHzknSeTznX33X1dWpZK+Z0/Jrzzp8aNuaq8B4EFaBcTNtoOTtLzhmaPtvb1iWh9du6GNF9NrrznryEbvX3/to7nh4bR+rAaYiYRUYVxc+e0EOnttdk3PLYD7zvXv6WxA9dcqCfXPSYU/em/zF65f1sRpgKhJWgXE1a/q0vO28o4e2//eP7s1jGzb3sSJ6qZSy3USr/3vDsmzaMtjHioCpRlgFxt1vPufI7Du7MxFn7cYt+V8/urfPFdFLr37Wgsyc3vl18sj6TfnHf36ozxUBU4mwCoy7fWZNz5uee9TQ9me+d3c2bN7av4LoqXl7z8grTzl0aPuy6020AnpHWAUmxJufe1Rmz+j8yFm5blP+9gb3Nk4lFw+7FeDqX6zI/auf6GM1wFQirAIT4oB9Zm33iM6/+u6d2bLVvY1TxTlHH5AjD9g7SVJr8rcmWgE9IqwCE+ZfveCYTBsoSZKlq57I139mEfmpYmCg5OJhf4x88fqlGRysfawImCqEVWDCLNxv7/z6aU8uIv/Jq+5MrQLNVHHRGQuH/hhZvvqJfP/OlX2uCJgKhFVgQr3jRccOff3zB9fmqttW9LEaeumQfWfnxSceNLT9BU+0AnpAWAUm1AmHzM1Ln3nI0PYnr7qzj9XQa5cMe6LVt295KKvWb+pjNcBUIKwCE+6dw66uXnvPqlx/z6o+VkMvvfjEg558YtnWwXz5J8v7XBEw2QmrwIQ748j9cvbR+w9tu7o6dUyfNpDfOGPh0PZl193nvmTgKRFWgb4YfnX1H3/+cH7+4GN9rIZeGr4qwC8eWpefLl3dv2KASU9YBfriRScclGcetu/Q9l9efVcfq6GXjj5wTs455skr55eZaAU8BcIq0BellO2urn7tpvuzdNXjfayIXrpk2BOtvnbT/Vm3cUsfqwEmM2EV6JtXnnJojti/89SjrYM1//MaV1enin9xymGZO3t6kuTxTVvz9SX397kiYLISVoG+mT5tIL/9gmOGti+7bmlWrtvYx4roldkzpuXC0xcMbbsVANhTwirQVxedsTAH7tNZ6mjjlsFc+v17+lsQPTN8otWN963OLx5a28dqgMlKWAX6avaMafmt5x89tP25H96TtRs297EieuWUBfNyyoInJ9G5ugrsCWEV6Lv/55wjMndW5/7GtRu25P/8+L4+V0SvDH+i1Zd/sjwbt2ztYzXAZCSsAn237+wZ+ZfnHjm0/dffuzsbNgs1U8GvnXZ4Zk3v/KpZtX5TvnPrw32uCJhshFWgCW993tGZ2Q01K9Zu9JjOKWLeXjPyqlMPG9r+wnWumgO7R1gFmnDQ3Fm5+MwnH9P5l1ffma2DHtM5FQxfc/V7d6zMsketpwuMnbAKNOO3zzs2A6Xz9T2PPJ6/v/mB/hZET5x99P45+sA5SZJak7+9flmfKwImE2EVaMYRB+ydX118+ND2J6+6M7W6ujrZlVK2W8bqb69f6qo5MGbCKtCU4Y9gveX+x3LN7Sv7WA298htnLMi07mXz+9dsyPfuMK7A2AirQFOeedi+efGJBw1tf+KqO/pYDb1y8NzZeckzDh7avsxEK2CMhFWgOe980XFDX//orlW58b5H+1gNvTJ8otW3b30oj3i0LjAGwirQnLOO2i9nHLnf0Panrrqzj9XQKy884aAcsm/n0bqbt1bLkwFjIqwCzSml5HeG3bv6rVsfyh0Pe678ZDd92kBee8aTV1e/cN1SE+iAXRJWgSa9+MSDc+Ihc4e2P3nVXX2shl4ZvirAHQ+vc4sHsEvCKtCkgYGSd7zomKHtr/50eZavfqKPFdELRxywd5577AFD21+4dmkfqwEmA2EVaNavLj48C+bvlSTZMljz19e4ujoVDJ9o9XdLHsjaDZv7WA3QOmEVaNaMaQN5+wufvLr6hWuXZtX6TX2siF54+cmHZt5eM5IkT2zemr9b4kllwOiEVaBprz1jUQ6YMzNJJ9hc+oN7+lsQT9nsGdNy4ekLhra/cJ1bAYDRCatA0/aaOS1ved5RQ9uf+8E9Wb9xS/8KoieG3wpw09LV+fmDj/WxGqBlwirQvDecc1TmzJyWJFnzxOZ8/lpPP5rsnnnYvlm8cN7Q9mWurgKjEFaB5s3be0b+5TlHDm3/9TV3Z+OWrX2siF4YfnX1yz9ZbkyBEQmrwKTw1ucfnZnTOj+yHnxsQ776k/v7XBFP1a+ddnj2mtG5Yr768c351i0P9bkioEXCKjApHLLv7PzGGU9OyvnUd+/M1kFPP5rM5s6ekVeeetjQtlsBgJEIq8Ck8dsvODYDpfP1XSvW59u3PtjfgnjKXnf2k7cCfO+OlVnx+GAfqwFaNL3fBfRCKWWvJH+U5HVJjkiyKsk3k7yv1rq8n7UBvXP0gXPyL049LF/vrsv5ga/dkgOmb87GrTWfvfvHOeeYA3LxmYty0NxZfa6UsTrzyP1yzEFzcteK9UmS/3LDpsybGeMJDJn0V1ZLKbOTXJnkfUn2SfLVJEuTvCXJT0opx+ykOzDJvHXYMlYPPbYxt64azJ1raq65fWX+yz/cluf+p3/MH33pZ9mw2WSdyWDjlsHsO/vJ6yYrn6jGE9jOpA+rSd6b5JwkP0xyQq31klrrc5L82yQHJflMP4sDemfD5q35z9+8bafnbN5a8/lr78ubPnOtgNO4DZu35k2fuTY/Xbpm1HOMJzCpw2opZWaS3+1uvqvWum7bsVrrR5IsSfLCUsoZ/agP6K0PXXFLfnz3qjGd++O7V+VDV9w6zhXxVBhPYCwmdVhN8rwk85LcWWv9yQjHL++2F0xcScB4eHjthlx+w7Ld6nP5DUuzYu3GcaqIp8J4AmM12cPqad32xlGOb9u/eAJqAcbRF69bms1bd2+pqs1ba754veWQWmQ8gbGa7KsBHNFtR/vzfNv+I0c5vp1Syi2jHDp2cHAwV1555e7URqPWr+/MOjaek8vf37BnV9S+cf3teWb1eNbWGM+nDz9zp5bBwYlfXm6yX1ndp9s+Psrx9d127gTUAoyjDVv27AEAe9qP8WU8gbGa7FdWe6rWevJI+0sptwwMDJx0/vnnT3RJjINtf90bz8nls3f/OHeuWbnb/Q4/+ICcf/5zxqEingrj+fThZ+7UMjAw8dc5J/uV1W2z//ce5ficbrt2AmoBxtFzjt5/j/qdc8wBPa6EXjCewFhN9rC67calhaMc37b/3gmoBRhHF5+1KDOmld3qM2NaycVnLtr1iUw44wmM1WQPqzd122ePcnzb/iUTUAswjg6eOzsXnTHa36Uju+gMj+pslfEExmqyh9XvJ1mT5NhSyrNGOH5Rt71iwioCxs0HLjh5zB8fP+fo/fOBC04a54p4KownMBaTOqzWWjcl+R/dzb8opWy7RzWllPeks77q1bXWG/pRH9Bbs2dMy+feenZef/YRo36EPGNayevPPiKfe+vZmT1j2gRXyO4wnsBYTIXVAP4kyUuTPDfJ7aWUa9JZV/U5SVYkeWsfawN6bPaMafmz15ya97zshHzx+qX5xvW3Z8OWmsMPPiDnHHNALj7TR8WTifEEdmXSh9Va64ZSyouT/FGS30zy6iSrklya5H211t17nh8wKRw0d1be9eLjhhaIt5zR5GY8gdFM+rCaJLXWJ5K8v/sCAGCKmNT3rAIAMLUJqwAANEtYBQCgWcIqAADNElYBAGiWsAoAQLOEVQAAmiWsAgDQLGEVAIBmCasAADRLWAUAoFnCKgAAzRJWAQBolrAKAECzhFUAAJolrAIA0CxhFQCAZgmrAAA0S1gFAKBZwioAAM0SVgEAaJawCgBAs4RVAACaJawCANAsYRUAgGYJqwAANEtYBQCgWcIqAADNElYBAGiWsAoAQLOEVQAAmiWsAgDQLGEVAIBmCasAADRLWAUAoFnCKgAAzRJWAQBolrAKAECzhFUAAJolrAIA0CxhFQCAZgmrAAA0S1gFAKBZwioAAM0SVgEAaJawCgBAs4RVAACaJawCANAsYRUAgGYJqwAANEtYBQCgWcIqAADNElYBAGiWsAoAQLOEVQAAmiWsAgDQLGEVAIBmCasAADRLWAUAoFnCKgAAzRJWAQBolrAKAECzhFUAAJolrAIA0CxhFQCAZgmrAAA0S1gFAKBZwioAAM0SVgEAaJawCgBAs4RVAACaJawCANAsYRUAgGYJqwAANEtYBQCgWcIqAADNElYBAGiWsAoAQLOEVQAAmiWsAgDQLGEVAIBmCasAADRLWAUAoFnCKgAAzRJWAQBolrAKAECzhFUAAJolrAIA0CxhFQCAZgmrAAA0S1gFAKBZwioAAM0SVgEAaJawCgBAs4RVAACaJawCANCsJsJqKWVOKeUNpZT/Xkr5cSllYymlllI+OIa+C0spny2l3F9K2VBK+UUp5UOllNkTUDoAAONoer8L6Do+yd/sbqdSynFJfpjkwCQ3J7kmyZlJ3p/kJaWUl9RaN/ayUAAAJk4TV1aTrE3y6STvSHJGOmFzLC5NJ6h+vNZ6aq31kiQnJvlykucl+aPelwoAwERpIqzWWu+stb6t1vqXtdYbk2zeVZ9SytnpBNKHk/y7Ye+1Jck7u+/xb0oprVw9BgBgNzURVvfQq7rtFTt+1F9rfSidWwL2S/L8iS4MAIDemMxh9bRue+Mox7ftXzwBtQAAMA4m80fkR3TbZaMc37b/yLG+YSnlllEOHTs4OJgrr7xyrG9Fw9avX58kxnOKMJ5Ti/Gceozp1DI4ODjh33MyX1ndp9s+Psrx9d127gTUAgDAOOjJldVSypeTPHM3u72x1nptL75/r9RaTx5pfynlloGBgZPOP//8iS6JcbDtr3vjOTUYz6nFeE49xnRqGRiY+OucvboN4Oh0lozaHXs/xe+5bhfvM6fbrn2K3wcAgD7pSVittT6rF++zm+5LcnqShaMc37b/3okpBwCAXpvM96ze1G2fPcrxbfuXTEAtAACMg8kcVr/ebS8opcwafqCUckiS85I8muT7E10YAAC9MWnDandy1veTHJzkz7ft7z6x6hNJZqTzGNZdPg0LAIA2NbPOandFgcO6m4d327eVUl7R/fqBWuuFO3R7S5IfJnl3KeX8JLcmOSvJMUl+kOTPxrdqAADGUzNhNZ3JUjsu4L+g+0pGmChVa729lHJ6kj9O8ookF6Yz8erDSf50x8ewAgAwuTQTVmutR+1hv6XpXGEFAGCKmbT3rAIAMPUJqwAANEtYBQCgWcIqAADNElYBAGiWsAoAQLOEVQAAmiWsAgDQLGEVAIBmCasAADRLWAUAoFnCKgAAzRJWAQBolrAKAECzhFUAAJolrAIA0CxhFQCAZgmrAAA0S1gFAKBZwioAAM0SVgEAaJawCgBAs4RVAACaJawCANAsYRUAgGYJqwAANEtYBQCgWcIqAADNElYBAGiWsAoAQLOEVQAAmiWsAgDQLGEVAIBmCasAADRLWAUAoFnCKgAAzRJWAQBolrAKAECzhFUAAJolrAIA0CxhFQCAZgmrAAA0S1gFAKBZwioAAM0SVgEAaJawCgBAs4RVAACaJawCANAsYRUAgGYJqwAANEtYBQCgWcIqAADNElYBAGiWsAoAQLOEVQAAmiWsAgDQLGEVAIBmCasAADRLWAUAoFnCKgAAzRJWAQBolrAKAECzhFUAAJolrAIA0CxhFQCAZgmrAAA0S1gFAKBZwioAAM0SVgEAaJawCgBAs4RVAACaJawCANAsYRUAgGYJqwAANEtYBQCgWcIqAADNElYBAGiWsAoAQLOEVQAAmiWsAgDQLGEVAIBmCasAADRLWAUAoFnCKgAAzRJWAQBolrAKAECzhFUAAJolrAIA0CxhFQCAZgmrAAA0S1gFAKBZwioAAM0SVgEAaJawCgBAs4RVAACaJawCANCsJsJqKeUZpZR/X0r5p1LKylLK5lLKg6WUL5VSzttF34WllM+WUu4vpWwopfyilPKhUsrsiaofAIDx0URYTfKdJP8pyZlJfpLkS0lWJLkwydWllN8bqVMp5bju+W9O8kiSryaZluT9Sb5TSpk13oUDADB+WgmrP0/yxiQH1VpfVmu9pNZ6apJ3JClJ/msp5aQR+l2a5MAkH6+1nlprvSTJiUm+nOR5Sf5oQqoHAGBcNBFWa60vrbX+f7XWDTvs/8sk30rnaulrhx8rpZydTiB9OMm/G9ZnS5J3Jtmc5N+UUqaPc/kAAIyTJsLqLtzUbQ/fYf+ruu0VtdaNww/UWh9Kck2S/ZI8f3zLAwBgvEyGsHpMt31wh/2nddsbR+m3bf/inlcEAMCEaPoj8lLKsUl+tbv5tR0OH9Ftl43Sfdv+I3fj+90yyqFnLF++PEcdddRY34qGDQ4OJkkGBibD32rsivGcWozn1GNMp5bly5cnyaKJ/J7NhtXuvaaXJpmV5LJa6w07nLJPt318lLdY323n9qCcgS1btgzee++9P+/Be9F/x3bbO/taBb1iPKcW4zn1GNOp5RlJ9prIb9iTsFpK+XKSZ+5mtzfWWq/dyfGPp3O/6V1JfmdPa9sdtdaTR9q/7YrraMeZXIzn1GI8pxbjOfUY06llJ59Cj5teXVk9Op0lo3bH3qMdKKX8h3Rm9D+U5OW11lUjnLZuF+8zp9uu3c26AABoRE/Caq31Wb14nyQppbwjyZ8kWZPkFbXWO0Y59b4kpydZOMrxbfvv7VVtAABMrKbudi6lvC7JX6RzH+qraq0/3cnp25a0evYox7ftX9Kb6gAAmGjNhNVSyiuT/E2SLUkurLV+fxddvt5tL9jxsaqllEOSnJfk0SS7eh8AABrVRFgtpTwvyeXpPFr1klrrt3bVpzs56/tJDk7y58Pea3qSTySZkc5jWDePS9EAAIy7Umvtdw0ppTyaZH6Su5N8d5TTvldr/esd+h2f5IdJDkjysyS3JjkrnQcJ/CDJ+Ts+3QoAgMmjlbA6liI+V2t98wh9FyX54ySvSLJ/OhOvPp/kT2utG3pZJwAAE6uJsAoAACNp4p5VAAAYibAKAECzhFUAAJolrAIA0CxhFQCAZgmrAAA0S1gdRSnlGaWUf19K+adSyspSyuZSyoOllC+VUs7bRd+FpZTPllLuL6VsKKX8opTyoVLK7Imqn+2VUuaUUt5QSvnvpZQfl1I2llJqKeWDY+hrPBtUStmrlPLH3fHY0B2fz5RSFvS7Nn5ZKeWMUsofdn+GLuv+/7fLtRNLKW8upVxbSllXSllVSvlGKeW5E1Ezoyul7F1KeXUp5dOllNu6/w+uL6XcVEp5fylln530NaYNKqW8p/v/5+2llDXd35P3llL+ppRy6k76jft4Wmd1FKWUZUkWJFmX5EdJViU5KckpSWqS99RaPzpCv+PSearWgUluTuepWmem81St7yd5iadqTbxSyrOS/GSEQx+qtX5wJ/2MZ4O6fyj8U5JzkjyQ5JokRyU5O8mKJOfUWu/qW4H8klLKV5L8+o77a61lJ30+muTdSZ5I8q0ks5O8JJ1Hc19Ua/3KOJTKGJRS3pbkf3Y3/zmdn4/7JnlukrlJfp7khbXWh3fo99EY0yaVUlYmmZNkSZLl3d0nJzkhyeYkr6m1/t0OfT6aiRjPWqvXCK8k30nyhiSzd9j/9nTC6pYkJ43Q73vd4x8btm96ki9193+w3/+2p+MrybFJ/ro7fs9O8r6xjIfxbPOV5E+6//1/kGSfYfvf091/Vb9r9PqlMfv36Txt8IIkhybZ0PkVNOr5L+2O5cokxw/bf26SjUkeTTK/3/+up+sryZuS/GWSZ+6w/7AkN3bH7v8Y08nzSvK8HTNPd//vdMftwSTT+zGeff+PMxlfSf6hO0Af2GH/2d39DyWZtcOxQ5JsSucK7fSJqNNrp2P4h7sKm8azzVeSmUlWd8fm9BGO39Q9dka/a/Xa6TjuKqx+ozuOvzfCsY91j/3bfv87vEYcu3O747MhyUxjOvlfSe7ojs/ifoyne1b3zE3d9vAd9r+q215Rd/houNb6UDofVe6X5PnjWx49Yjzb9Lwk85LcWWsd6daOy7vtBRNXEr1UStkryfndzctHOMUYt23b78hZSQ5IjOkUsLnbbkomfjyF1T1zTLd9cIf9p3XbG0fpt23/4p5XxHgwnm0yLlPfiekEnRW11mUjHDfGbdv2O3JzOp8+JcZ00iqlvCGd8bu9+0omeDyn9+JNnk5KKccm+dXu5td2OHxEtx1p4IbvP7LXdTEujGebjMvUt9MxrrWuL6WsTrJfKWVurXXthFXGWLy7235z2KdSxnSSKKX8QToTq+YkeWb36/uTvL7WurV72oSOp7C6G0op05Ncms5fE5fVWm/Y4ZRtS3U8PspbrO+2c3tfHePAeLbJuEx9uxrjpDPO89MZZ8GmEaWUVyb5rXSuqr5v2CFjOnm8PJ0Z/dvcm+SNO2SeCR3PKRtWSylfTucvgt3xxlrrtTs5/vF07k+8K53ZcUyQcRpPAHqklPKMJP8rnWWL/qDWetMuutCgWutLk6SUMj/JqUnen+TqUsp7a63/sR81TdmwmuTodO6p2B17j3aglPIfkrwznZnhL6+1rhrhtHW7eJ853dZfjLuvp+M5RsazTcZl6tvVGCfGuSndh3F8M51Jpx+ptX5sh1OM6SRTa12d5Jru1fIfJvlwKeVbtdbrMsHjOWXDaq31Wb16r1LKO9JZ13FNklfUWu8Y5dT7kpyeZOEox7ftv7dXtT1d9HI8d4PxbNN93da4TF07HeNSypx0Pl581L2N/VdK2T+dBeGPTPLZJL8/wmnGdJKqtW4upVyW5Ix0ZvdflwkeT6sB7EIp5XVJ/iKd+zJeVWv96U5O3/aRx7NHOb5t/5LeVMc4M55tMi5T323pLCp+0CiPzzXGjeg+VvXv03nC45eS/KvaXWhzB8Z0clvZbQ/qthM6nsLqTnQvff9NOk+rurDW+v1ddPl6t72glDJrh/c6JMl56TzRYVfvQxuMZ5u+n86nHMd2H6O7o4u67RUTVhE9VWt9IsmV3c3XjnCKMW5A9+fiV9N5gMo/ZPvZ4tsxppPeC7vtncnEj6ewOopSyvPSWdS2JLmk1vqtXfXpTub5fpKDk/z5sPeanuQTSWYk+XitdfPI70BLjGebaq2bkvyP7uZfdD9uSpKUUt6Tzrp+V4+wWgeTy0e67XtLKcdv21lKOTedxyavTvLpPtRFklLKtCSfT2dh+GvSeW78pl10M6aNKqU8r5TyilLKwA77Z5RS/nU6j59/Isllww5P2HiWka/WU0p5NJ37Le5O8t1RTvterfWvd+h3fDo3Ih+Q5GdJbk1yVjqLJP8gyfk7Pg2JidFdUeCw7ubhSRYlWZ4n14l7oNZ64Q59jGeDSimzk1yV5DlJHkjnl+WR3e0VSc6ptd7VtwL5JaWUV2X7pYzOTudiwI+H7ftwrfXrw/p8NJ01Ox9P8u10HrX7sm6/i2qtXxnfqhlNKeXdST7a3fxyksdGOfX3a63bPkI2po0qpbw5nfuNVya5IckjSQ5MZzWAw9J5dO6baq1f3KHfRzMB4ymsjqKUMpb/MJ+rtb55hL6Lkvxxklck2T+dG5E/n+RPa60belknY1dKuSc7Xyj+3lrrUSP0M54N6j7u74+S/GY6f3isSmc28vtGeaIKfTTsl+HOvKXWeukI/X43naXrNiX5UTqh9ge9r5KxKqV8MMkHxnDq0bXWe3bo++YY06aUUo5O8rZ0Pu4/Jp2guinJPel83P/x0SaXT8R4CqsAADTLPasAADRLWAUAoFnCKgAAzRJWAQBolrAKAECzhFUAAJolrAIA0CxhFQCAZgmrAAA0S1gFAKBZwioAAM0SVgEAaJawCgBAs4RVAACaJawCANAsYRUAgGYJqwAANOv/B8ID3ikFzTD3AAAAAElFTkSuQmCC\n",
          "text/plain": "<Figure size 750x750 with 1 Axes>"
         },
         "metadata": {
          "needs_background": "light"
         },
         "output_type": "display_data"
        }
       ]
      }
     },
     "7d2bb5bcee784471850be880d83fd6d5": {
      "model_module": "@jupyter-widgets/controls",
      "model_module_version": "1.5.0",
      "model_name": "IntSliderModel",
      "state": {
       "description": "dn",
       "layout": "IPY_MODEL_a36eccd4923f4bb8b05faf3874a4166c",
       "max": 20,
       "min": 1,
       "style": "IPY_MODEL_9e511a9e6c884f7ba8dd5636047654b1",
       "value": 10
      }
     },
     "7f9b647107ab4b6f86e8be691e6f9e2c": {
      "model_module": "@jupyter-widgets/controls",
      "model_module_version": "1.5.0",
      "model_name": "SliderStyleModel",
      "state": {
       "description_width": ""
      }
     },
     "8237e311b7324e63b890a1588b2290c4": {
      "model_module": "@jupyter-widgets/controls",
      "model_module_version": "1.5.0",
      "model_name": "IntSliderModel",
      "state": {
       "description": "bn",
       "layout": "IPY_MODEL_dc7d000bb40345189ad9356fd3cfa639",
       "max": 20,
       "min": 1,
       "style": "IPY_MODEL_e34998f1410e4a80bb6fae5a2b981451",
       "value": 10
      }
     },
     "8419f1b84aee4ce4a6b687e13d09ef4c": {
      "model_module": "@jupyter-widgets/controls",
      "model_module_version": "1.5.0",
      "model_name": "IntSliderModel",
      "state": {
       "description": "cn",
       "layout": "IPY_MODEL_50e8afce2769454281522bf7004a6e39",
       "max": 20,
       "min": 1,
       "style": "IPY_MODEL_fd22a6cb01ea4115a24a41352bdd4376",
       "value": 10
      }
     },
     "85a988b312d14fb8be699d57e8e27c10": {
      "model_module": "@jupyter-widgets/base",
      "model_module_version": "1.2.0",
      "model_name": "LayoutModel",
      "state": {}
     },
     "8aabfa5087e14ec19f65d05b01c8c64c": {
      "model_module": "@jupyter-widgets/controls",
      "model_module_version": "1.5.0",
      "model_name": "SliderStyleModel",
      "state": {
       "description_width": ""
      }
     },
     "8b06f4590b8946b8a0ba2a8631b102b6": {
      "model_module": "@jupyter-widgets/controls",
      "model_module_version": "1.5.0",
      "model_name": "FloatSliderModel",
      "state": {
       "description": "thetan",
       "layout": "IPY_MODEL_b08938e4186947dbb0f8bee739a19997",
       "max": 12.566370614359172,
       "step": 0.1,
       "style": "IPY_MODEL_4903cacad1284ccd8f00a8829d602996",
       "value": 7.6
      }
     },
     "8bdbb76818bb4b91952397bc76975617": {
      "model_module": "@jupyter-widgets/controls",
      "model_module_version": "1.5.0",
      "model_name": "SliderStyleModel",
      "state": {
       "description_width": ""
      }
     },
     "8fdf4379c7954330838669cbaf8370a7": {
      "model_module": "@jupyter-widgets/controls",
      "model_module_version": "1.5.0",
      "model_name": "VBoxModel",
      "state": {
       "_dom_classes": [
        "widget-interact"
       ],
       "children": [
        "IPY_MODEL_a5fa3ec863764be6b14b896195bcaead",
        "IPY_MODEL_8237e311b7324e63b890a1588b2290c4",
        "IPY_MODEL_8419f1b84aee4ce4a6b687e13d09ef4c",
        "IPY_MODEL_e3032790379e499ba22bc7e6a116a957",
        "IPY_MODEL_8b06f4590b8946b8a0ba2a8631b102b6",
        "IPY_MODEL_eb8ed039d0e5485b97a7f61d1b9d00fe"
       ],
       "layout": "IPY_MODEL_ef3c5d4186034665b8916b322a4e4a8c"
      }
     },
     "919420f4784a41a3be95572623b50bd6": {
      "model_module": "@jupyter-widgets/output",
      "model_module_version": "1.0.0",
      "model_name": "OutputModel",
      "state": {
       "layout": "IPY_MODEL_65d638082d0a4da2b5b0291a9be34dd4",
       "outputs": [
        {
         "name": "stdout",
         "output_type": "stream",
         "text": "Não-Grashof\n"
        },
        {
         "data": {
          "image/png": "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\n",
          "text/plain": "<Figure size 750x750 with 1 Axes>"
         },
         "metadata": {
          "needs_background": "light"
         },
         "output_type": "display_data"
        }
       ]
      }
     },
     "91e43a24050f412995b86cddf39ec70e": {
      "model_module": "@jupyter-widgets/controls",
      "model_module_version": "1.5.0",
      "model_name": "SliderStyleModel",
      "state": {
       "description_width": ""
      }
     },
     "93c05e85d0854e0d8f974eb777415ccc": {
      "model_module": "@jupyter-widgets/controls",
      "model_module_version": "1.5.0",
      "model_name": "IntSliderModel",
      "state": {
       "description": "bn",
       "layout": "IPY_MODEL_64d3b3099cab4d9d9f7527b404461918",
       "max": 20,
       "min": 1,
       "style": "IPY_MODEL_7f9b647107ab4b6f86e8be691e6f9e2c",
       "value": 10
      }
     },
     "96799371bc0d405cb1e43f0545f3069b": {
      "model_module": "@jupyter-widgets/controls",
      "model_module_version": "1.5.0",
      "model_name": "FloatSliderModel",
      "state": {
       "description": "thetan",
       "layout": "IPY_MODEL_124feb46515f493aaf303d9c5eb78ca9",
       "max": 12.566370614359172,
       "step": 0.1,
       "style": "IPY_MODEL_057810a24e494ff689587e485c364113",
       "value": 6.283185307179586
      }
     },
     "97b4e6a424b646e588f7163430650eea": {
      "model_module": "@jupyter-widgets/base",
      "model_module_version": "1.2.0",
      "model_name": "LayoutModel",
      "state": {}
     },
     "9884640535fc41b487093d0337f06c10": {
      "model_module": "@jupyter-widgets/base",
      "model_module_version": "1.2.0",
      "model_name": "LayoutModel",
      "state": {}
     },
     "9d74f5a036014b7299fe839df75f4c2f": {
      "model_module": "@jupyter-widgets/controls",
      "model_module_version": "1.5.0",
      "model_name": "IntSliderModel",
      "state": {
       "description": "cn",
       "layout": "IPY_MODEL_d62c48c392d84befa8c43bd73b9defc8",
       "max": 20,
       "min": 1,
       "style": "IPY_MODEL_f584970036d64074970e92612ae90f6a",
       "value": 10
      }
     },
     "9da78f405f7c4689885c7bdf45358c89": {
      "model_module": "@jupyter-widgets/base",
      "model_module_version": "1.2.0",
      "model_name": "LayoutModel",
      "state": {}
     },
     "9e511a9e6c884f7ba8dd5636047654b1": {
      "model_module": "@jupyter-widgets/controls",
      "model_module_version": "1.5.0",
      "model_name": "SliderStyleModel",
      "state": {
       "description_width": ""
      }
     },
     "a035647897094c208429c06cdc7ba79f": {
      "model_module": "@jupyter-widgets/controls",
      "model_module_version": "1.5.0",
      "model_name": "SliderStyleModel",
      "state": {
       "description_width": ""
      }
     },
     "a2ff4b1c7b144b96a3cc2ea112a18f29": {
      "model_module": "@jupyter-widgets/controls",
      "model_module_version": "1.5.0",
      "model_name": "VBoxModel",
      "state": {
       "_dom_classes": [
        "widget-interact"
       ],
       "children": [
        "IPY_MODEL_d0dc406e98da45a097b0c6eab8d17dc1",
        "IPY_MODEL_f470906a1fbb4c2b9be7027b77ce651e",
        "IPY_MODEL_40a0e22e593c490fbafb939b38a87615",
        "IPY_MODEL_792762cfe19a4f0aae64d011efb583bd",
        "IPY_MODEL_daa7d96fe48b4dff8d7ce4a014060248",
        "IPY_MODEL_919420f4784a41a3be95572623b50bd6"
       ],
       "layout": "IPY_MODEL_85a988b312d14fb8be699d57e8e27c10"
      }
     },
     "a36eccd4923f4bb8b05faf3874a4166c": {
      "model_module": "@jupyter-widgets/base",
      "model_module_version": "1.2.0",
      "model_name": "LayoutModel",
      "state": {}
     },
     "a3e03a238a4a43ff90a6768c30387ed2": {
      "model_module": "@jupyter-widgets/controls",
      "model_module_version": "1.5.0",
      "model_name": "SliderStyleModel",
      "state": {
       "description_width": ""
      }
     },
     "a5fa3ec863764be6b14b896195bcaead": {
      "model_module": "@jupyter-widgets/controls",
      "model_module_version": "1.5.0",
      "model_name": "IntSliderModel",
      "state": {
       "description": "an",
       "layout": "IPY_MODEL_abbcf0cd100c4a66ae2a4e0cc78e5690",
       "max": 20,
       "min": 1,
       "style": "IPY_MODEL_e58faf2902c949f8abd41ca94e2b725d",
       "value": 7
      }
     },
     "ab26f86fc2ef445b813211c3027abc83": {
      "model_module": "@jupyter-widgets/base",
      "model_module_version": "1.2.0",
      "model_name": "LayoutModel",
      "state": {}
     },
     "abbcf0cd100c4a66ae2a4e0cc78e5690": {
      "model_module": "@jupyter-widgets/base",
      "model_module_version": "1.2.0",
      "model_name": "LayoutModel",
      "state": {}
     },
     "ae38ad102f7b4202afcdf31b636f1ac6": {
      "model_module": "@jupyter-widgets/base",
      "model_module_version": "1.2.0",
      "model_name": "LayoutModel",
      "state": {}
     },
     "afa39164265642cca115cc6aac255a90": {
      "model_module": "@jupyter-widgets/base",
      "model_module_version": "1.2.0",
      "model_name": "LayoutModel",
      "state": {}
     },
     "b08938e4186947dbb0f8bee739a19997": {
      "model_module": "@jupyter-widgets/base",
      "model_module_version": "1.2.0",
      "model_name": "LayoutModel",
      "state": {}
     },
     "b4f29f431ca943e186acd638d28403e1": {
      "model_module": "@jupyter-widgets/base",
      "model_module_version": "1.2.0",
      "model_name": "LayoutModel",
      "state": {}
     },
     "b574e731d8274857b2ace108f6bde762": {
      "model_module": "@jupyter-widgets/controls",
      "model_module_version": "1.5.0",
      "model_name": "IntSliderModel",
      "state": {
       "description": "bn",
       "layout": "IPY_MODEL_afa39164265642cca115cc6aac255a90",
       "max": 20,
       "min": 1,
       "style": "IPY_MODEL_42adb2838a6644f8a6d51dcc243a0a88",
       "value": 10
      }
     },
     "b619ba5cd68c4930b0b50d68a240c503": {
      "model_module": "@jupyter-widgets/base",
      "model_module_version": "1.2.0",
      "model_name": "LayoutModel",
      "state": {}
     },
     "b8bf732420414d158dee86ce5499d08e": {
      "model_module": "@jupyter-widgets/base",
      "model_module_version": "1.2.0",
      "model_name": "LayoutModel",
      "state": {}
     },
     "bab885a127ad4d48954dca2978ec50b2": {
      "model_module": "@jupyter-widgets/controls",
      "model_module_version": "1.5.0",
      "model_name": "IntSliderModel",
      "state": {
       "description": "an",
       "layout": "IPY_MODEL_77fa36fd3cf347f19d803edd36c871c4",
       "max": 20,
       "min": 1,
       "step": 2,
       "style": "IPY_MODEL_91e43a24050f412995b86cddf39ec70e",
       "value": 15
      }
     },
     "be539025f8254ae5b5d596af29d20d00": {
      "model_module": "@jupyter-widgets/controls",
      "model_module_version": "1.5.0",
      "model_name": "IntSliderModel",
      "state": {
       "description": "dn",
       "layout": "IPY_MODEL_de7b2cc3af9445b794c7c0bdf0c0b6fa",
       "max": 20,
       "min": 1,
       "style": "IPY_MODEL_a3e03a238a4a43ff90a6768c30387ed2",
       "value": 13
      }
     },
     "bf0992874479438c862928a4364e2239": {
      "model_module": "@jupyter-widgets/controls",
      "model_module_version": "1.5.0",
      "model_name": "SliderStyleModel",
      "state": {
       "description_width": ""
      }
     },
     "bfd68ede1b654572affe57efb55414ff": {
      "model_module": "@jupyter-widgets/base",
      "model_module_version": "1.2.0",
      "model_name": "LayoutModel",
      "state": {}
     },
     "c07c1dfc56994dbf80c9c66fffe4488d": {
      "model_module": "@jupyter-widgets/controls",
      "model_module_version": "1.5.0",
      "model_name": "IntSliderModel",
      "state": {
       "description": "cn",
       "layout": "IPY_MODEL_733bd66bcd6b4f4a881e17e8b2042096",
       "max": 20,
       "min": 1,
       "style": "IPY_MODEL_dbc50313769c4d418fdcbe138c00fb23",
       "value": 15
      }
     },
     "c23d689ae9cf4684904bb9f79556d9a8": {
      "model_module": "@jupyter-widgets/controls",
      "model_module_version": "1.5.0",
      "model_name": "SliderStyleModel",
      "state": {
       "description_width": ""
      }
     },
     "c38e4bf8efac4988bdf53f6db8a8d069": {
      "model_module": "@jupyter-widgets/controls",
      "model_module_version": "1.5.0",
      "model_name": "SliderStyleModel",
      "state": {
       "description_width": ""
      }
     },
     "c6342a220cd14dc99369ed3afb27c884": {
      "model_module": "@jupyter-widgets/base",
      "model_module_version": "1.2.0",
      "model_name": "LayoutModel",
      "state": {}
     },
     "cb09880e27da4c29b3b7bd42156ac924": {
      "model_module": "@jupyter-widgets/base",
      "model_module_version": "1.2.0",
      "model_name": "LayoutModel",
      "state": {}
     },
     "d0dc406e98da45a097b0c6eab8d17dc1": {
      "model_module": "@jupyter-widgets/controls",
      "model_module_version": "1.5.0",
      "model_name": "IntSliderModel",
      "state": {
       "description": "an",
       "layout": "IPY_MODEL_2138628862484b16979c45940d5ad8fc",
       "max": 20,
       "min": 1,
       "style": "IPY_MODEL_3ee5350627ae4de186c9fd338a9c77f6",
       "value": 13
      }
     },
     "d62b8c4932184b77b61b59ee0025d643": {
      "model_module": "@jupyter-widgets/controls",
      "model_module_version": "1.5.0",
      "model_name": "FloatSliderModel",
      "state": {
       "description": "thetan",
       "layout": "IPY_MODEL_ae38ad102f7b4202afcdf31b636f1ac6",
       "max": 12.566370614359172,
       "step": 0.1,
       "style": "IPY_MODEL_6fd0d4c39d3f4809b710c910f279c89a",
       "value": 2
      }
     },
     "d62c48c392d84befa8c43bd73b9defc8": {
      "model_module": "@jupyter-widgets/base",
      "model_module_version": "1.2.0",
      "model_name": "LayoutModel",
      "state": {}
     },
     "d78bede0c0e143669f38ff60beb58789": {
      "model_module": "@jupyter-widgets/base",
      "model_module_version": "1.2.0",
      "model_name": "LayoutModel",
      "state": {}
     },
     "daa7d96fe48b4dff8d7ce4a014060248": {
      "model_module": "@jupyter-widgets/controls",
      "model_module_version": "1.5.0",
      "model_name": "FloatSliderModel",
      "state": {
       "description": "thetan",
       "layout": "IPY_MODEL_b4f29f431ca943e186acd638d28403e1",
       "max": 12.566370614359172,
       "step": 0.1,
       "style": "IPY_MODEL_c23d689ae9cf4684904bb9f79556d9a8",
       "value": 6.8
      }
     },
     "dbc50313769c4d418fdcbe138c00fb23": {
      "model_module": "@jupyter-widgets/controls",
      "model_module_version": "1.5.0",
      "model_name": "SliderStyleModel",
      "state": {
       "description_width": ""
      }
     },
     "dc7d000bb40345189ad9356fd3cfa639": {
      "model_module": "@jupyter-widgets/base",
      "model_module_version": "1.2.0",
      "model_name": "LayoutModel",
      "state": {}
     },
     "de7b2cc3af9445b794c7c0bdf0c0b6fa": {
      "model_module": "@jupyter-widgets/base",
      "model_module_version": "1.2.0",
      "model_name": "LayoutModel",
      "state": {}
     },
     "e3032790379e499ba22bc7e6a116a957": {
      "model_module": "@jupyter-widgets/controls",
      "model_module_version": "1.5.0",
      "model_name": "IntSliderModel",
      "state": {
       "description": "dn",
       "layout": "IPY_MODEL_57c54f8e0de14d10846284838bfa73fc",
       "max": 20,
       "min": 1,
       "style": "IPY_MODEL_4c7625a0c03e485f8735698f4b456241",
       "value": 10
      }
     },
     "e34998f1410e4a80bb6fae5a2b981451": {
      "model_module": "@jupyter-widgets/controls",
      "model_module_version": "1.5.0",
      "model_name": "SliderStyleModel",
      "state": {
       "description_width": ""
      }
     },
     "e58faf2902c949f8abd41ca94e2b725d": {
      "model_module": "@jupyter-widgets/controls",
      "model_module_version": "1.5.0",
      "model_name": "SliderStyleModel",
      "state": {
       "description_width": ""
      }
     },
     "eb8ed039d0e5485b97a7f61d1b9d00fe": {
      "model_module": "@jupyter-widgets/output",
      "model_module_version": "1.0.0",
      "model_name": "OutputModel",
      "state": {
       "layout": "IPY_MODEL_97b4e6a424b646e588f7163430650eea",
       "outputs": [
        {
         "name": "stdout",
         "output_type": "stream",
         "text": "Grashof\n"
        },
        {
         "data": {
          "image/png": "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\n",
          "text/plain": "<Figure size 750x750 with 1 Axes>"
         },
         "metadata": {
          "needs_background": "light"
         },
         "output_type": "display_data"
        }
       ]
      }
     },
     "ef3c5d4186034665b8916b322a4e4a8c": {
      "model_module": "@jupyter-widgets/base",
      "model_module_version": "1.2.0",
      "model_name": "LayoutModel",
      "state": {}
     },
     "f12793bc35c9412ba6966ea883e46a4c": {
      "model_module": "@jupyter-widgets/controls",
      "model_module_version": "1.5.0",
      "model_name": "SliderStyleModel",
      "state": {
       "description_width": ""
      }
     },
     "f470906a1fbb4c2b9be7027b77ce651e": {
      "model_module": "@jupyter-widgets/controls",
      "model_module_version": "1.5.0",
      "model_name": "IntSliderModel",
      "state": {
       "description": "bn",
       "layout": "IPY_MODEL_6b05cd0a94da4f28b63cdb4dd1c6cb42",
       "max": 20,
       "min": 1,
       "style": "IPY_MODEL_f9152e7724db41ec90e1db46749c7e4b",
       "value": 11
      }
     },
     "f584970036d64074970e92612ae90f6a": {
      "model_module": "@jupyter-widgets/controls",
      "model_module_version": "1.5.0",
      "model_name": "SliderStyleModel",
      "state": {
       "description_width": ""
      }
     },
     "f7450cc405614f6eab2fbfccdd28cdff": {
      "model_module": "@jupyter-widgets/controls",
      "model_module_version": "1.5.0",
      "model_name": "VBoxModel",
      "state": {
       "_dom_classes": [
        "widget-interact"
       ],
       "children": [
        "IPY_MODEL_21d9c60f5f1b482ca0e0c4f196874cae",
        "IPY_MODEL_722e088fadeb4142847e63a4ccfc52ff",
        "IPY_MODEL_c07c1dfc56994dbf80c9c66fffe4488d",
        "IPY_MODEL_be539025f8254ae5b5d596af29d20d00",
        "IPY_MODEL_47247fce72bb4d69a69126d42b68d344",
        "IPY_MODEL_2a77e0af97d543cd91fb5c7253394cd9"
       ],
       "layout": "IPY_MODEL_bfd68ede1b654572affe57efb55414ff"
      }
     },
     "f9152e7724db41ec90e1db46749c7e4b": {
      "model_module": "@jupyter-widgets/controls",
      "model_module_version": "1.5.0",
      "model_name": "SliderStyleModel",
      "state": {
       "description_width": ""
      }
     },
     "fb5b704e252341dc8411b6ceb665b9b3": {
      "model_module": "@jupyter-widgets/controls",
      "model_module_version": "1.5.0",
      "model_name": "IntSliderModel",
      "state": {
       "description": "an",
       "layout": "IPY_MODEL_cb09880e27da4c29b3b7bd42156ac924",
       "max": 20,
       "min": 1,
       "style": "IPY_MODEL_c38e4bf8efac4988bdf53f6db8a8d069",
       "value": 8
      }
     },
     "fb8425718cd54380a7aa3f99fb96bc09": {
      "model_module": "@jupyter-widgets/controls",
      "model_module_version": "1.5.0",
      "model_name": "IntSliderModel",
      "state": {
       "description": "dn",
       "layout": "IPY_MODEL_ab26f86fc2ef445b813211c3027abc83",
       "max": 20,
       "min": 1,
       "style": "IPY_MODEL_8bdbb76818bb4b91952397bc76975617",
       "value": 10
      }
     },
     "fd22a6cb01ea4115a24a41352bdd4376": {
      "model_module": "@jupyter-widgets/controls",
      "model_module_version": "1.5.0",
      "model_name": "SliderStyleModel",
      "state": {
       "description_width": ""
      }
     }
    },
    "version_major": 2,
    "version_minor": 0
   }
  }
 },
 "nbformat": 4,
 "nbformat_minor": 4
}
