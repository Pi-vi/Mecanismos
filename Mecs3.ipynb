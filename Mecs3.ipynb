{
 "cells": [
  {
   "cell_type": "markdown",
   "metadata": {
    "slideshow": {
     "slide_type": "slide"
    }
   },
   "source": [
    "# 3. Síntese Gráfica de Mecanismos\n",
    "Professor Paulo Victor <br>\n",
    "CEFET/RJ Campus Angra dos Reis <br>\n",
    "*Este material serve apenas como um guia para estudos e para as aulas, não substituindo a leitura dos livros indicados e é de uso exclusivo dos alunos do CEFET/RJ campus Angra dos Reis.* \n",
    "  "
   ]
  },
  {
   "cell_type": "markdown",
   "metadata": {
    "slideshow": {
     "slide_type": "slide"
    }
   },
   "source": [
    "## 3.1 Introdução"
   ]
  },
  {
   "cell_type": "markdown",
   "metadata": {
    "slideshow": {
     "slide_type": "subslide"
    }
   },
   "source": [
    "Muitas práticas de engenharia envolvem uma combinação de síntese e análise; <br>\n",
    "Muitos problemas de projeto de máquinas requerem a criação de mecanismos com características de movimentos particulares."
   ]
  },
  {
   "cell_type": "markdown",
   "metadata": {
    "slideshow": {
     "slide_type": "slide"
    }
   },
   "source": [
    "## 3.2 Síntese"
   ]
  },
  {
   "cell_type": "markdown",
   "metadata": {
    "slideshow": {
     "slide_type": "subslide"
    }
   },
   "source": [
    "### Síntese qualitativa\n",
    "\n",
    "Significa a criação de soluções potenciais na ausência de algoritmos bem definidos que configuram ou preveem a solução.\n",
    "* Existem muitas ferramentas e técnicas para auxiliá-lo nesse processo:\n",
    "    - Prancheta de desenho\n",
    "    - CAD\n",
    "    - CAE\n",
    "    \n",
    "O processo então se torna do tipo projeto qualitativo por análises sucessivas, o qual realmente é uma interação entre síntese e análise. "
   ]
  },
  {
   "cell_type": "markdown",
   "metadata": {
    "slideshow": {
     "slide_type": "subslide"
    }
   },
   "source": [
    "### Síntese de tipo\n",
    "Refere-se à definição do tipo adequado de mecanismo para resolver, da melhor forma possível, o problema (é uma forma de síntese qualitativa). <br>\n",
    "**Projetar é basicamente um exercício de escolhas baseadas em recomendações**. <br>\n",
    "Será o seu trabalho como engenheiro de projeto balancear os contrapontos e achar a solução que dê a melhor relação de funcionalidade contra custo, viabilidade e outros fatores de interesse."
   ]
  },
  {
   "cell_type": "markdown",
   "metadata": {
    "slideshow": {
     "slide_type": "subslide"
    }
   },
   "source": [
    "### Síntese quantitativa ou síntese analítica\n",
    "\n",
    "Significa a geração de uma ou mais soluções em que há um algorítmo de síntese definido. Como o nome sugere, esse tipo de solução pode ser quantificada, já que um número definido de equações gera uma resposta numérica. "
   ]
  },
  {
   "cell_type": "markdown",
   "metadata": {
    "slideshow": {
     "slide_type": "slide"
    }
   },
   "source": [
    "## 3.3 Geração de Caminho, Função e Movimento"
   ]
  },
  {
   "cell_type": "markdown",
   "metadata": {
    "slideshow": {
     "slide_type": "subslide"
    }
   },
   "source": [
    "### Geração de Função\n",
    "É definida como a correlação entre o movimento de entrada e o movimento de saída do mecanismo. <br>\n",
    "O gerador de função é conceitualmente uma \"caixa preta\" que fornece algumas saídas previsíveis em respota a uma entrada conhecida. \n",
    "### Geração de Caminho ou Trajetória\n",
    "É definido como controle de um ponto no plano e que segue uma trajetória definida\n",
    "### Geração de Movimento\n",
    "É definida como o controle de uma linha, no plano, tal que assuma algumas sequências de posições determinadas. \n",
    "### Mecanismos Planos versus Mecanismos Espaciais\n",
    "O projeto de mecanismos espaciais são muito mais complexos que o dos mecanismos planos.<br>\n",
    "Observa-se que que muitos dispositivos em três dimensões são consruídos com múltiplos conjuntos de dispositivos 2D conjugados entre si. "
   ]
  },
  {
   "cell_type": "code",
   "execution_count": 1,
   "metadata": {},
   "outputs": [],
   "source": [
    "from IPython.display import IFrame"
   ]
  },
  {
   "cell_type": "code",
   "execution_count": 2,
   "metadata": {},
   "outputs": [
    {
     "data": {
      "text/html": [
       "\n",
       "        <iframe\n",
       "            width=\"640\"\n",
       "            height=\"360\"\n",
       "            src=\"https://www.youtube.com/embed/IgF3OX8nT0w\"\n",
       "            frameborder=\"0\"\n",
       "            allowfullscreen\n",
       "            \n",
       "        ></iframe>\n",
       "        "
      ],
      "text/plain": [
       "<IPython.lib.display.IFrame at 0x7fc2369a6e90>"
      ]
     },
     "execution_count": 2,
     "metadata": {},
     "output_type": "execute_result"
    }
   ],
   "source": [
    "IFrame(\"https://www.youtube.com/embed/IgF3OX8nT0w\",640,360)"
   ]
  },
  {
   "cell_type": "markdown",
   "metadata": {
    "slideshow": {
     "slide_type": "subslide"
    }
   },
   "source": [
    "![](fig3-00.jpg)"
   ]
  },
  {
   "cell_type": "markdown",
   "metadata": {
    "slideshow": {
     "slide_type": "subslide"
    }
   },
   "source": [
    "![](https://i.pinimg.com/564x/34/ff/3f/34ff3fa64a909abe090ca182c4071dea.jpg)"
   ]
  },
  {
   "cell_type": "markdown",
   "metadata": {
    "slideshow": {
     "slide_type": "slide"
    }
   },
   "source": [
    "## 3.4 Condições Limitantes"
   ]
  },
  {
   "cell_type": "markdown",
   "metadata": {
    "slideshow": {
     "slide_type": "subslide"
    }
   },
   "source": [
    "As técnicas de síntese manual, gráfica e dimensional apresentadas aqui e as técnicas de síntese analítica e computadorizada apresentada à frente são maneiras razoavelmente rápidas para se obter soluções simples para um problema de movimento. <br>\n",
    "Ninguém quer perder muito tempo analisando, em pequenos detalhes, um projeto que por avaliações simples e rápidas mostra ser inadequado. "
   ]
  },
  {
   "cell_type": "markdown",
   "metadata": {
    "slideshow": {
     "slide_type": "subslide"
    }
   },
   "source": [
    "### Posições de Ponto Morto ou Singularidades\n",
    "Você precisa verificar se o mecanismo pode, de fato, alcançar todas as posições definidas no projeto sem encontrar uma posição limitante.\n",
    "![](fig3-1.jpg)"
   ]
  },
  {
   "cell_type": "markdown",
   "metadata": {
    "slideshow": {
     "slide_type": "subslide"
    }
   },
   "source": [
    "### Posições Estacionárias\n",
    "São aquelas posições em que algum elo do mecanismo não consegue realizar um determinado movimento em uma determinada configuração. <br>\n",
    "Em determindas circunstâncias, o ponto morto pode ser útil. Ele pode fornecer umas característica de autotravamento quando o mecanismo é movido ligeiramente além da posição de ponto morto e contra um ponto de parada fixo. Então qualquer tentativa de reverter o movimento do mecanismo causa, simplesmente, uma compressão contra o ponto de parada. Ele deve ser manualmente tirado \"além do centro\" da posição de ponto morto, antes de o mecanismo se mover. \n",
    "![](fig3-2.jpg)"
   ]
  },
  {
   "cell_type": "markdown",
   "metadata": {
    "slideshow": {
     "slide_type": "subslide"
    }
   },
   "source": [
    "### Ângulo de Transmissão"
   ]
  },
  {
   "cell_type": "markdown",
   "metadata": {
    "slideshow": {
     "slide_type": "fragment"
    }
   },
   "source": [
    "É definido como ângulo entre o elo de saída e o acoplador. <br>\n",
    "Ele é normalmente tomado como o valor absoluto do ângulo agudo do par de ângulos na intersecção dos dois elos e varia continuamente de um mínimo a um máximo valor, assim que o mecanismo vai até o extremo do seu movimento. <br>\n",
    "O valor ideal do ângulo de transmissão é 90°. Muitos projetistas tentam manter o ângulo de transmissão mínimo acima de 40°.\n",
    "![](fig3-3.jpg)"
   ]
  },
  {
   "cell_type": "markdown",
   "metadata": {
    "slideshow": {
     "slide_type": "slide"
    }
   },
   "source": [
    "## 3.5 Síntese Dimensional "
   ]
  },
  {
   "cell_type": "markdown",
   "metadata": {
    "slideshow": {
     "slide_type": "subslide"
    }
   },
   "source": [
    "É a determinação das proporções (comprimentos) dos elos necessários para se obter os movimentos desejados. <br>\n",
    "Esta seção assume que, por meio de *sínteses de tipo*, você já determinou que um mecanismo é a solução mais apropriada para o problema. <br>\n",
    "Existem muitas técnicas para realizar essa tarefa de **síntese dimensional de um mecanismo de quatro barras**. Os métodos mais rápidos e simples são gráficos. Estes trabalham bem para projetos com até três posições. Além desse número, um método de síntese numérica e analítica usando computador (como veremos posteriormente) geralmente é necessário. <br>\n",
    "**Compasso, transferidor** e **régua** são os únicos instrumentos necessários para síntese gráfica de mecanismos. "
   ]
  },
  {
   "cell_type": "markdown",
   "metadata": {
    "slideshow": {
     "slide_type": "subslide"
    }
   },
   "source": [
    "### Síntese de duas posições\n",
    "Subdividide-se em duas categorias: **saída no seguidor** é mais apropriada para situações nos quais o mecanismo tipo Grashof manivela seguidor é desejado e é, de fato, um caso trivial de geração de função na qual a função de saída gera duas posições angulares discretas do seguidor. "
   ]
  },
  {
   "cell_type": "markdown",
   "metadata": {
    "slideshow": {
     "slide_type": "subslide"
    }
   },
   "source": [
    "**Exemplo 1:**\n",
    "Projetar um mecanismo Grashof manivela seguidor de quatro barras para fornecer 45° de rotação do seguidor com mesmo tempo de avanço e retorno, para uma velocidade de entrada do motor constante."
   ]
  },
  {
   "cell_type": "markdown",
   "metadata": {
    "slideshow": {
     "slide_type": "subslide"
    }
   },
   "source": [
    "![](fig3-4.jpg)"
   ]
  },
  {
   "cell_type": "markdown",
   "metadata": {
    "slideshow": {
     "slide_type": "subslide"
    }
   },
   "source": [
    "*Solução:*\n",
    "1. Desenhe o elo de saída $O_4 B$ nas duas posições extremas, $B_1$ e $B_2$, em qualquer local conveniente, com o ângulo de movimento $\\theta_4$ desejado sendo atendido.\n",
    "2. Desenhe a corda $B_1 B_2$ e estenda-a para as duas direções\n",
    "3. Selecione um ponto conveniente $O_2$ na reta $B_1 B_2$ estendida. \n",
    "4. Divida o segmento $B_1 B_2$ ao meio e desenhe uma circunferência de raio igual à metade de $B_1 B_2$ e centro em $O_2$. \n",
    "5. Identifique os pontos de interseção da circunferência com $B_1 B_2$ entendido, $A_1$ e $A_2$. \n",
    "6. Meça o comprimento do acoplador como sendo $A_1 B_1$ ou $A_2 B_2$\n",
    "7. Meça o terra (comprimento 1), elo manivela (comprimento 2) e o elo seguidor (comprimento 4).\n",
    "8. Calcule a condição de Grashof para o mecanismo. Se não for satisfatória, refaça os passos de 3 a 8 com $O_2$ mais afastados de $O_4$.\n",
    "9. Faça um modelo do mecanismo e cheque sua função e ângulos de transmissão. "
   ]
  },
  {
   "cell_type": "markdown",
   "metadata": {
    "slideshow": {
     "slide_type": "subslide"
    }
   },
   "source": [
    "Tivemos de tomar muitas decisões arbitrárias e suposições para prosseguir, porque havia muito mais variáveis que \"equações\" fornecidas. Somos frequentemente forçados a fazer \"escolhas livres\" de um \"ângulo ou comprimento conveniente\". Essas escolhas livres são na realidade definições de parâmetros de projeto. Uma escolha pobre levará a um projeto pobre. Assim, elas são modos de **sínteses qualitativas** e requerem processos iterativos, mesmo para esse exemplo simples. A primeira solução que você alcançar não será satisfatória, e muitas tentativas (iterações) devem ser presumidamente necessárias. "
   ]
  },
  {
   "cell_type": "markdown",
   "metadata": {
    "slideshow": {
     "slide_type": "slide"
    }
   },
   "source": [
    "## 3.6 Mecanismo de Retorno Rápido"
   ]
  },
  {
   "cell_type": "markdown",
   "metadata": {
    "slideshow": {
     "slide_type": "subslide"
    }
   },
   "source": [
    "Muitas aplicações de projetos de máquinas necessitam de uma diferença de módulos de velocidades entre seu movimento de \"avanço\" e de \"retorno\". Tipicamente, algum trabalho externo está sendo feito pelo mecanismo no movimento de avanço, e o movimento de retorno precisa ser realizado o mais rápido possível, para que o máximo de tempo esteja disponível para o trabalho do movimento. Muitos arranjos de mecanismos fornecerão essa característica. O único problema é sintetizar o correto.\n"
   ]
  },
  {
   "cell_type": "markdown",
   "metadata": {
    "slideshow": {
     "slide_type": "subslide"
    }
   },
   "source": [
    "### Mecanismo de quatro barras com retorno rápido                                                                                    \n",
    "Se o centro da manivela $O_2$ está localizado fora da corda $B_1 B_2$ etendida, como mostrado na figura a seguir, então ângulos diferentes serão varridos pela manivela entre a posição de ponto morto (definida como a colinearidade entre a manivela e o acoplador).Ângulos diferentes fornecerão tempos diferentes, quando a manivela rotacionar com velocidade constante. Esse ângulos são chamados de $\\alpha$ e $\\beta$ e sua relação $\\alpha/\\beta$ é chamada de **relação de tempo** $T_R$ e define o grau de retorno rápido do mecanismo.\n",
    "$$ T_R = \\dfrac{\\alpha}{\\beta} $$\n",
    "$$ \\alpha + \\beta = 360^{\\circ} $$\n",
    "Também devemos definir um ângulo de construção:\n",
    "$$ \\delta = |180^{\\circ} - \\alpha | = |180 - \\beta |$$"
   ]
  },
  {
   "cell_type": "markdown",
   "metadata": {
    "slideshow": {
     "slide_type": "subslide"
    }
   },
   "source": [
    "![](fig3-5.jpg)"
   ]
  },
  {
   "cell_type": "markdown",
   "metadata": {
    "slideshow": {
     "slide_type": "fragment"
    }
   },
   "source": [
    "**Exemplo:**<br>\n",
    "Reprojetar o primeiro exemplo para fornecer uma relação de tempo de 1:1,25 com movimento de saída do seguidor de $45^{\\circ}$."
   ]
  },
  {
   "cell_type": "markdown",
   "metadata": {
    "slideshow": {
     "slide_type": "fragment"
    }
   },
   "source": [
    "*Solução:*\n",
    "1. Desenhe o elo de saída $O_4B$ nas duas posições extremas, em qualquer local conveniente, de forma que o ângulo de movimento desejado, $\\theta_4$, seja formado.\n",
    "2. Calcule, $\\alpha$, $\\beta$, e $\\delta$. Nesse exemplo, $\\alpha = 160^{\\circ}$, $\\beta = 200^{\\circ}$ e $\\delta = 20^{\\circ}$.\n",
    "3. Desenhe uma linha de construção passando pelo ponto $B_1$ em qualquer ângulo conveniente. \n",
    "4. Desenhe uma linha de construção passando pelo ponto $B_2$ com ângulo $\\delta$ em relação à primeira linha.\n",
    "5. Chame a intersecção das duas linhas de construção de $O_2$.\n",
    "6. Agora, a linha $O_2 O_4$ define o elo terra.\n",
    "7. Calcule os comprimentos da manivela e do acoplador medindo $O_2 B_1$ e $O_2 B_2$ simultaneamente:\n",
    "$$Acoplador+manivela=O_2 B_1$$\n",
    "$$Acoplador-manivela=O_2 B_2$$\n",
    "ou você pode construir o comprimento da manivela traçando um arco centrado em $O_1$ de $B_1$ até passar a extensão da linha $O_2 B_2$. Chame essa intersecção de $B_1$'. A linha $B_2 B_1$ tem o dobro do comprimento da manivela. Encontre a metade desse segmento para medir o comprimento da manivela.\n",
    "8. Calcule a condição de Grashof. Se não for Grashof, repita os passos de 3 a 8 com $O_2$ mais distante de $O_4$.\n",
    "9. Construa um modelo de mecanismo e articule-o para verificar os seu funcionamento.\n",
    "10. Verifique os ângulos de transmissão. \n",
    "Esse método funciona bem para relações de tempo de até 1:1,15. Acima desse valor, os ângulos de transmissão se tornam ruins, e um mecanismo mais complexo é necessário. "
   ]
  },
  {
   "cell_type": "markdown",
   "metadata": {
    "slideshow": {
     "slide_type": "slide"
    }
   },
   "source": [
    "## 3.7 Curvas de Acoplador"
   ]
  },
  {
   "cell_type": "markdown",
   "metadata": {
    "slideshow": {
     "slide_type": "subslide"
    }
   },
   "source": [
    "Um **acoplador** é o elo mais interessante em qualquer mecanismo. Ele tem movimento complexo; dessa forma, os pontos no acoplador poder ter trajetórias de alta ordem. <br>\n",
    "Em geral, quanto mais elos, maior será o grau da curva gerada, onde **grau** significa *a maior potência de qualquer termo de sua equação*. \n",
    "* O mecanismo *biela-manivela* de quatro barras tem, em geral, curvas de acoplador de quarto grau.\n",
    "* O mecanismo de quatro barras com junta pinada tem, em geral, curvas de acoplador de até sexto grau.\n",
    "Wunderlich derivou uma expressão para o maior grau de $m$ possível para uma curva de acoplador de um mecanismo de $n$ elos conectado apenas com juntas pinadas:\n",
    "$$m=2 \\times 3^{(n/2-1)}$$"
   ]
  },
  {
   "cell_type": "code",
   "execution_count": 1,
   "metadata": {
    "slideshow": {
     "slide_type": "subslide"
    }
   },
   "outputs": [],
   "source": [
    "def m(n):\n",
    "    return 2*3**(n/2 -1)"
   ]
  },
  {
   "cell_type": "code",
   "execution_count": 2,
   "metadata": {
    "slideshow": {
     "slide_type": "fragment"
    }
   },
   "outputs": [
    {
     "data": {
      "text/plain": [
       "6.0"
      ]
     },
     "execution_count": 2,
     "metadata": {},
     "output_type": "execute_result"
    }
   ],
   "source": [
    "m(4)"
   ]
  },
  {
   "cell_type": "code",
   "execution_count": 3,
   "metadata": {
    "slideshow": {
     "slide_type": "fragment"
    }
   },
   "outputs": [
    {
     "data": {
      "text/plain": [
       "18.0"
      ]
     },
     "execution_count": 3,
     "metadata": {},
     "output_type": "execute_result"
    }
   ],
   "source": [
    "m(6)"
   ]
  },
  {
   "cell_type": "code",
   "execution_count": 4,
   "metadata": {
    "slideshow": {
     "slide_type": "fragment"
    }
   },
   "outputs": [
    {
     "data": {
      "text/plain": [
       "54.0"
      ]
     },
     "execution_count": 4,
     "metadata": {},
     "output_type": "execute_result"
    }
   ],
   "source": [
    "m(8)"
   ]
  },
  {
   "cell_type": "markdown",
   "metadata": {
    "slideshow": {
     "slide_type": "subslide"
    }
   },
   "source": [
    "![](fig3-8.jpg)"
   ]
  },
  {
   "cell_type": "markdown",
   "metadata": {
    "slideshow": {
     "slide_type": "subslide"
    }
   },
   "source": [
    "O *Atlas Hrones e Nelson (H&N)* de curvas de acopladores de quatro barras é uma referência útil, que pode dar ao projetista um ponto de partida para o projeto e análise. Ele contém cerca de 7000 curvas de acoplador e define a geometria de um mecanismo para cada um dos mecanismos manivela seguidor Grashof. "
   ]
  },
  {
   "cell_type": "markdown",
   "metadata": {
    "slideshow": {
     "slide_type": "subslide"
    }
   },
   "source": [
    "![](fig3-9.jpg)"
   ]
  },
  {
   "cell_type": "markdown",
   "metadata": {
    "slideshow": {
     "slide_type": "subslide"
    }
   },
   "source": [
    "![](fig3-10.jpg)"
   ]
  },
  {
   "cell_type": "markdown",
   "metadata": {
    "slideshow": {
     "slide_type": "subslide"
    }
   },
   "source": [
    "### Curvas simétricas do acoplador do mecanismo de quatro barras\n",
    "Quando uma geometria de mecanismo de quatro barras é tal que o acoplador e o seguidor possuem o mesmo comprimento de um pino ao outro, todos os pontos do acoplador que existem em um círculo centralizado na junta acoplador seguidor com raio igual ao comprimento do acoplador irão gerar uma curva do acoplador simétrica.<br>\n"
   ]
  },
  {
   "cell_type": "markdown",
   "metadata": {
    "slideshow": {
     "slide_type": "subslide"
    }
   },
   "source": [
    "![](fig3-11.jpg)"
   ]
  },
  {
   "cell_type": "markdown",
   "metadata": {
    "slideshow": {
     "slide_type": "subslide"
    }
   },
   "source": [
    "Utilizando a notação da figura, o critério para a simetria da curva do acoplador pode ser declarado como: <br>\n",
    "$$AB = O_4B = BP$$"
   ]
  },
  {
   "cell_type": "markdown",
   "metadata": {
    "slideshow": {
     "slide_type": "slide"
    }
   },
   "source": [
    "## 3.8 Mecanismos Cognatos"
   ]
  },
  {
   "cell_type": "markdown",
   "metadata": {
    "slideshow": {
     "slide_type": "subslide"
    }
   },
   "source": [
    "Algumas vezes, acontece de uma boa solução para um problemas de síntese de mecanismo de barras ser encontrada para satisfazer as restrições da geração de trajetória, mas os pivôs fixos estarem em locais impróprios para anexar ao plano fixo ou estrutura disponível. Nesse caso, a utilização de um **cognato** do mecanismo de barras pode ser útil. O termo **cognato** foi usado por Hartenberg e Denavit para descrever **um mecanismo de barras, de geometria diferente, que gera a mesma curva do acoplador**."
   ]
  },
  {
   "cell_type": "markdown",
   "metadata": {
    "slideshow": {
     "slide_type": "subslide"
    }
   },
   "source": [
    "**Diagrama de Cayley:**"
   ]
  },
  {
   "cell_type": "markdown",
   "metadata": {
    "slideshow": {
     "slide_type": "fragment"
    }
   },
   "source": [
    "![](fig3-12.jpg)"
   ]
  },
  {
   "cell_type": "markdown",
   "metadata": {
    "slideshow": {
     "slide_type": "subslide"
    }
   },
   "source": [
    "![](fig3-13.jpg)"
   ]
  },
  {
   "cell_type": "markdown",
   "metadata": {
    "slideshow": {
     "slide_type": "subslide"
    }
   },
   "source": [
    "### Teorema de Roberts-Chebyschev\n",
    "Três diferentes mecanismos de quatro barras planares e com juntas pinada traçarão curvas do acoplador idênticas. "
   ]
  },
  {
   "cell_type": "markdown",
   "metadata": {
    "slideshow": {
     "slide_type": "subslide"
    }
   },
   "source": [
    "*Hartenberg e Denavit apresentaram extensos estudos desse teorema para a biela-manivela e para os mecanismos de seis barras:*\n",
    "* Dois diferentes mecanismos biela-manivela planares traçarão curvas do acoplador idênticas.\n",
    "* A curva do ponto do acoplador de um mecanismo de quatro barras planar é também descrita por uma junta diade de um mecanismo de seis barras apropriado. "
   ]
  },
  {
   "cell_type": "markdown",
   "metadata": {
    "slideshow": {
     "slide_type": "slide"
    }
   },
   "source": [
    "## 3.9 Mecanismo para Movimento Linear"
   ]
  },
  {
   "cell_type": "markdown",
   "metadata": {
    "slideshow": {
     "slide_type": "subslide"
    }
   },
   "source": [
    "Uma aplicação muito comum das curvas do acoplador é a geração de um movimento linear aproximado. <br>\n",
    "Muitos cinemáticos como Watt, Chebyschev, Peaucellier, Kempe, Evans e Hoeken (além de outros), por volta de um século atrás, desenvolveram ou descobriram uma aproximação ou exatos mecanismos de barras para movimentação linear, e seus nomes estão associados com esses dispositivos nos dias de hoje."
   ]
  },
  {
   "cell_type": "markdown",
   "metadata": {
    "slideshow": {
     "slide_type": "subslide"
    }
   },
   "source": [
    "![](fig3-14.jpg)"
   ]
  },
  {
   "cell_type": "markdown",
   "metadata": {
    "slideshow": {
     "slide_type": "subslide"
    }
   },
   "source": [
    "![](fig3-15.jpg)"
   ]
  },
  {
   "cell_type": "markdown",
   "metadata": {
    "slideshow": {
     "slide_type": "subslide"
    }
   },
   "source": [
    "O mecanismo de barras tipo Hoeken oferece uma combinação ótima de retilinidade e velocidade constante aproximada e é um mecanismo manivela seguidor; então pode ser acionado por um motor. Sua geometria, dimensões e trajetória do acoplador são mostradas na figura a seguir. Esse é um mecanismo de quatro barras simétrico. Desde que o ângulo $\\gamma$ da $BP$ seja especificado e $L_3 = L_4 = BP$, somente duas razões de elos são necessárias para definir sua geometria, digamos $L_1 / L_2$ e $L_3 / L_2$. Se a manivela $L_2$ for dirigida a uma velocidade angular $\\omega_2$, a velocidade linear $V_x$ ao longo da porção em linha reta $\\Delta x$ da trajetória de acoplador será muito perto de constante ao longo de uma parte significante da trajetória da manivela $\\Delta \\beta$"
   ]
  },
  {
   "cell_type": "markdown",
   "metadata": {
    "slideshow": {
     "slide_type": "subslide"
    }
   },
   "source": [
    "![](fig3-16.jpg)"
   ]
  },
  {
   "cell_type": "markdown",
   "metadata": {
    "slideshow": {
     "slide_type": "subslide"
    }
   },
   "source": [
    "![](fig3-18.jpg)"
   ]
  },
  {
   "cell_type": "markdown",
   "metadata": {
    "slideshow": {
     "slide_type": "subslide"
    }
   },
   "source": [
    "![](fig3-17.jpg)"
   ]
  },
  {
   "cell_type": "markdown",
   "metadata": {
    "slideshow": {
     "slide_type": "subslide"
    }
   },
   "source": [
    "Um estudo foi feito para determinar os erros de retilinidade e velocidade constante do mecanismo de barras tipo Hoeken por meio de várias frações $\\Delta \\beta$ do ciclo manivela como uma função das razões de elos. O erro estrutural na posição (isto é, retilinidade) $\\epsilon_S$ e o erro estrutural na velocidade $\\epsilon_V$ são definidos na notação da figura acima como:\n",
    "$$ \\epsilon_S = \\dfrac{MAX^{n}_{i=1}(C_{yi})-MIN^{n}_{i=1}(C_{yi}}{\\Delta x} $$\n",
    "$$ \\epsilon_V = \\dfrac{MAX^{n}_{i=1}(V_{xi}) - MIN_{i=1}^{n}(V_{xi})}{\\bar{V}_x}$$"
   ]
  },
  {
   "cell_type": "markdown",
   "metadata": {
    "slideshow": {
     "slide_type": "slide"
    }
   },
   "source": [
    "# 3.10 Mecanismos com Tempo de Espera"
   ]
  },
  {
   "cell_type": "markdown",
   "metadata": {
    "slideshow": {
     "slide_type": "subslide"
    }
   },
   "source": [
    "Um requisito comum em problemas de projeto de máquinas é a necessidade de um tempo de espera nos movimentos de saída. Um tempo de espera é definido como movimento de saída zero para algum movimento de entrada diferente de zero. Em outras palavras, o motor se mantém funcionando, mas o elo de saída para de se mover. "
   ]
  },
  {
   "cell_type": "markdown",
   "metadata": {
    "slideshow": {
     "slide_type": "subslide"
    }
   },
   "source": [
    "### Mecanismos com tempo de espera simples\n",
    "Existem duas aproximações para projetar mecanismos com tempo de espera simples. Ambos resultam em **mecanismos de seis barras**, e ambos requerem que primeiro se encontre um mecanismo de quatro barras com uma curva do acoplador adequada. <br>\n",
    "Uma díade é adicionada para produzir um elo de saída com as características de tempo de espera desejadas."
   ]
  },
  {
   "cell_type": "markdown",
   "metadata": {
    "slideshow": {
     "slide_type": "subslide"
    }
   },
   "source": [
    "![](fig3-18.jpg)"
   ]
  },
  {
   "cell_type": "markdown",
   "metadata": {
    "slideshow": {
     "slide_type": "skip"
    }
   },
   "source": [
    " [Voltar para o capítulo anterior](Mecs2.ipynb)     $\\qquad$   [Avançar para o próximo capítulo](Mecs4.ipynb)"
   ]
  }
 ],
 "metadata": {
  "kernelspec": {
   "display_name": "Python 3 (ipykernel)",
   "language": "python",
   "name": "python3"
  },
  "language_info": {
   "codemirror_mode": {
    "name": "ipython",
    "version": 3
   },
   "file_extension": ".py",
   "mimetype": "text/x-python",
   "name": "python",
   "nbconvert_exporter": "python",
   "pygments_lexer": "ipython3",
   "version": "3.10.6"
  }
 },
 "nbformat": 4,
 "nbformat_minor": 4
}
