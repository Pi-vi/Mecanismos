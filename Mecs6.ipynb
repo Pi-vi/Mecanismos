{
 "cells": [
  {
   "cell_type": "markdown",
   "metadata": {
    "slideshow": {
     "slide_type": "slide"
    }
   },
   "source": [
    "# 6. Análise de Velocidade\n",
    "Professor Paulo Victor <br>\n",
    "e-mail: paulo.gomes@cefet-rj.br <br>\n",
    "CEFET/RJ Campus Angra dos Reis - Sala 6E"
   ]
  },
  {
   "cell_type": "markdown",
   "metadata": {
    "slideshow": {
     "slide_type": "subslide"
    }
   },
   "source": [
    "* Uma vez que uma análise de posição já foi feita, o próximo passo é determinar as velocidades de todos os elos e pontos de interesse no mecanismo. \n",
    "* Existem muitos métodos e abordagens para encontrar as velocidades em mecanismos, vamos estudar apenas alguns desses métodos aqui."
   ]
  },
  {
   "cell_type": "markdown",
   "metadata": {
    "slideshow": {
     "slide_type": "slide"
    }
   },
   "source": [
    "## 6.1 Definição de Velocidade"
   ]
  },
  {
   "cell_type": "markdown",
   "metadata": {
    "slideshow": {
     "slide_type": "subslide"
    }
   },
   "source": [
    "A velocidade pode ser angular ou linear.\n",
    "$$ \\omega = \\dfrac{d \\theta}{dt}; \\qquad \\vec{V} = \\dfrac{d\\vec{R}}{dt}$$"
   ]
  },
  {
   "cell_type": "markdown",
   "metadata": {
    "slideshow": {
     "slide_type": "subslide"
    }
   },
   "source": [
    "![](fig6-0.svg)"
   ]
  },
  {
   "cell_type": "markdown",
   "metadata": {
    "slideshow": {
     "slide_type": "fragment"
    }
   },
   "source": [
    "$$\\vec{R}_{PA} = pe^{i \\theta}$$\n",
    "Onde $p$ é o módulo do vetor $\\vec{R}_{PA}$. \n",
    "$$ \\vec{V}_{PA} = \\dfrac{d \\vec{R}_{PA}}{dt} = p i e^{i \\theta} \\dfrac{d \\theta}{dt} = p \\omega i e^{i \\theta}$$a \n",
    "Substituindo a identidade de Euler nessa equação:\n",
    "$$\\vec{V}_{PA} = p \\omega i \\left( \\cos \\theta + i \\sin \\theta \\right) = p \\omega \\left( - \\sin \\theta + i \\cos \\theta \\right)$$\n",
    "A velocidade $\\vec{V}_{PA}$ pode ser referida como velocidade absoluta. Como tal, nós poderíamos ter nos referido a ela como $\\vec{V}_P$, sem o segundo subscrito, indicando que se refere ao sistema de coordenadas global. "
   ]
  },
  {
   "cell_type": "markdown",
   "metadata": {
    "slideshow": {
     "slide_type": "subslide"
    }
   },
   "source": [
    "![](fig6-2.jpg)"
   ]
  },
  {
   "cell_type": "markdown",
   "metadata": {
    "slideshow": {
     "slide_type": "fragment"
    }
   },
   "source": [
    "Para o exemplo acima, A velocidade absoluta $\\vec{V}_P$ tem de ser obtida por meio da equação da diferença de posição, cuja a solução gráfica é mostrada na figura (b). \n",
    "$$\\vec{V}_P = \\vec{V}_A + \\vec{V}_{PA}$$\n",
    "Podemos ter duas situações:\n",
    "* Dois pontos no mesmo corpo -> diferença de velocidade\n",
    "* Dois pontos em corpos diferentes -> velocidade relativa\n"
   ]
  },
  {
   "cell_type": "markdown",
   "metadata": {
    "slideshow": {
     "slide_type": "slide"
    }
   },
   "source": [
    "## 6.2 Análise Gráfica de Velocidades"
   ]
  },
  {
   "cell_type": "markdown",
   "metadata": {
    "slideshow": {
     "slide_type": "subslide"
    }
   },
   "source": [
    "Antes que computadores e calculadoras programáveis estivessem amplamente disponíveis para engenheiros, métodos gráficos eram os únicos meios práticos de resolver esses problemas de velocidade. \n",
    "\n",
    "Com alguma prática e ferramentas apropriadas, como um pacote CAD, pode-se, de forma relativamente rápida, encontrar as velocidades de alguns pontos em um mecanismo  para dada posição de entrada, desenhando-se diagramas vetoriais. Entretanto, esse é um processo entediante, se for preciso encontrar as velocidades para muitas posições do mecanismo.\n"
   ]
  },
  {
   "cell_type": "markdown",
   "metadata": {
    "slideshow": {
     "slide_type": "subslide"
    }
   },
   "source": [
    "**Exemplo:**\n",
    "\n",
    "Queremos determinar as velocidades angulares dos elos 3 e 4 ($\\omega_3$, $\\omega_4$) e as velocidades lineares dos pontos $A$, $B$ e $C$ ($\\vec{V}_A$, $\\vec{V}_B$, $\\vec{V}_C$). O ponto $C$ representa qualquer ponto de interesse geral. \n",
    "* Para resolver esse problema, precisamos saber os comprimentos e as posições angulares de todos os elos, e a velocidade instantânea de entrada de qualquer elo ou ponto motor. "
   ]
  },
  {
   "cell_type": "markdown",
   "metadata": {
    "slideshow": {
     "slide_type": "fragment"
    }
   },
   "source": [
    "![](fig6-4.jpg)"
   ]
  },
  {
   "cell_type": "markdown",
   "metadata": {
    "slideshow": {
     "slide_type": "fragment"
    }
   },
   "source": [
    "**Problema:** Dados $\\theta_2$, $\\theta_3$, $\\theta_4$, $\\omega_2$, encontre $\\omega_3$, $\\omega_4$, $\\vec{V}_A$, $\\vec{V}_B$, $\\vec{V}_C$ com métodos gráficos. \n",
    "\n",
    "**Solução:**\n",
    "1. Inicie pela extremidade do mecanismo do qual você possui mais informação, nesse caso o lado esquerdo. Calcule o módulo da velocidade do ponto $A$. \n",
    "2. Desenhe o vetor velocidade $\\vec{V}_A$.\n",
    "3. Vá para algum ponto do qual você tenha alguma informação. Note que a direção de velocidade de $B$ é previsível, desde que ele seja pivotado com rotação pura ao redor de $O_4$. \n",
    "4. Escreva a equação vetorial da diferença de velocidade para o ponto $B$ em relação ao ponto $A$ -> $\\vec{V}_B = \\vec{V}_A + \\vec{V}_{BA}$. Conhecemos o módulo e a direção de $\\vec{V}_A$ e a direção de $\\vec{V}_B$. Precisamos conhecer mais um parâmetro. \n",
    "5. Se assumirmos que o elo $BA$ é rígido, então não pode haver componente de $\\vec{V}_{BA}$ na direção da linha $BA$, porque o ponto $B$ não pode se aproximar ou se afastar do ponto $A$. Consequentemente, a direção de $\\vec{V}_{BA}$ tem de ser perpendicular à linha $BA$. Desenhe a linha de construção $qq$ passando pelo ponto $B$ e perpendicular a $BA$ para representar a direção de $\\vec{V}_{BA}$.\n",
    "6. Resolve-se a equação vetorial graficamente, desenhando-se o diagrama vetorial. Ferramentas de desenho ou um pacote CAD são necessários para esse passo. Primeiro, desenhe o vetor velocidade $\\vec{V}_A$ cuidadosamente em alguma escala, mantendo sua direção. A equação no passo 4 diz para somar $\\vec{V}_{BA}$ a $\\vec{V}_{A}$, então desenhe uma linha paralela a $pp$ passando pela origem de $\\vec{V}_A$. A intersecção dessas duas linhas paralelas a $pp$ e a $qq$ define os comprimentos de $\\vec{V}_{B}$ e $\\vec{V}_{BA}$. Os sentidos dos vetores são determinados pela equação. $\\vec{V}_{A}$ foi somada a $\\vec{V}_{BA}$, então elas devem ser dispostas como vértice com origem. $\\vec{V}_{B}$ é o resultado, então ela deve ir da origem do primeiro até o vértice do último. \n",
    "7. As velocidades angulares dos elos 3 e 4 podem ser caulculados da seguinte forma: $\\omega_4 = \\dfrac{v_B}{BO_4}$ e $\\omega_3 = \\dfrac{v_{BA}}{BA}$.\n",
    "8. Podemos calcular o módulo de $\\vec{V}_{CA}$ usando $V_{ca} = c \\omega_3$. A partir disso, podemos calcular $\\vec{V}_C$ usando $\\vec{V}_{C} = \\vec{V}_A + \\vec{V}_{CA}$"
   ]
  },
  {
   "cell_type": "markdown",
   "metadata": {
    "slideshow": {
     "slide_type": "fragment"
    }
   },
   "source": [
    "**Observa-se que:**\n",
    "$$Velcidade = componente \\ de \\ rotação + componente \\ de \\ translação$$\n",
    "\n",
    "Essas são as componentes de movimento definidas pelo teorema de Chasles. O teorema de Chasles também se aplica para a velocidade. **Essas duas componentes do movimento, translação e rotação, são independentes entre si.** "
   ]
  },
  {
   "cell_type": "markdown",
   "metadata": {
    "slideshow": {
     "slide_type": "slide"
    }
   },
   "source": [
    "## 6.3 Centros Instantâneos de Velocidade"
   ]
  },
  {
   "cell_type": "markdown",
   "metadata": {
    "slideshow": {
     "slide_type": "subslide"
    }
   },
   "source": [
    "A definição de **centro instantâneo** de velocidade é um ponto, comum as dois corpos no plano de movimento, em que o ponto tem a mesma velocidade instantânea em cada corpo. Centros instantâneos de rotação algumas vezes também são chamados de polos de rotação. \n",
    "\n",
    "Uma vez que são necessários dois corpos ou elos para criar um centro instantâneo de velocidade (*CIV*), podemos predizer qual a quantidade de centros instantâneos de rotação que podemos esperar em um conjunto de elos. \n",
    "\n",
    "$$ C = \\dfrac{n(n-1)}{2}$$"
   ]
  },
  {
   "cell_type": "markdown",
   "metadata": {
    "slideshow": {
     "slide_type": "subslide"
    }
   },
   "source": [
    "**Teorema de Aronhold-Kennedy ou Regra de Kennedy:**\n",
    "\n",
    "Quaisquer três corpos em movimento plano terão exatamente três centros instantâneos, e **eles serão colineares**."
   ]
  },
  {
   "cell_type": "markdown",
   "metadata": {
    "slideshow": {
     "slide_type": "subslide"
    }
   },
   "source": [
    "**Problema:** Dado um mecanismo de quatro barras em uma posição, econtre todos os *CIVs* por métodos gráficos.\n",
    "\n",
    "**Solução:**"
   ]
  },
  {
   "cell_type": "markdown",
   "metadata": {
    "slideshow": {
     "slide_type": "fragment"
    }
   },
   "source": [
    "![](fig6-5.jpg)"
   ]
  },
  {
   "cell_type": "markdown",
   "metadata": {
    "slideshow": {
     "slide_type": "fragment"
    }
   },
   "source": [
    "1. Desenhe um círculo com pontos numerados sobre a circunferência, representando todos os elos.\n",
    "2. Localize o maior número de *CIVs* por inspeção. Todas as juntas pinadas serão CIVs permanentes. Conecte os pontos numerados dos elos do círculo para criar um diagrama de barras e marcar os *CIVs* encontrados.\n",
    "3. Identifique uma combinação de elos no diagrama de barras que ainda não teve o *CIV* encontrado, e desenhe uma linha tracejada conectando os pontos numerados dos elos. Identifique dois triângulos, no diagrama, que contenham a linha tracejada e que os outros dois lados sejam linhas sólidas que representam *CIVs* previamente encontrados. \n",
    "4. No diagrama do mecanismo, desenhe uma linha que passe pelos *CIVs* conhecidos que formam um triângulo com o *CIV* desconhecido. Repita para o outro trio. O princípio disso é a aplicação da regra de Kennedy. Na figura (b), uma linha foi desenhada passando por $I_{1,2}$ e por $I_{2,3}$ e estendida. $I_{1,3}$ deve pertencer a essa reta. Outra linha foi desenhada passando por $I_{1,4}$ e $I_{3,4}$ e estendida até intersectar a primeira linha. Pela regra de Kennedy, o centro instantâneo $I_{1,3}$ também deve pertencer a essa linha, então $I_{1,3}$ é a interseção delas.\n",
    "5. Conecte os pontos numerados dos elos 2 e 4 com uma linha tracejada no diagrama de barras, figura (c). Essa linha forma um triângulo com lados 24, 23 e 34, e outro triângulo com lados 24, 12 e 14. Esses lados representam trios de *CIVs* que odedecem à regra de Kennedy. Dessa forma, os *CIVs* 24, 23 e 34 devem pertencer a uma mesma linha reta. E os *CIVs* 24, 12 e 14 também devem pertencer à outra linha reta. \n",
    "6. No diagrama do mecanismo, desenhe uma linha que passe pelos dois *CIVs* conhecidos que formam um trio com o *CIV* desconhecido. Repita para o outro trio. Na figura (c) doi desenhada uma linha passando por $I_{1,2}$ e por $I_{1,4}$ e estendendo-se. $I_{2,4}$ deve pertencer a essa reta. Outra linha foi desenhada passando por $I_{2,3}$ e $I_{3,4}$ e estendida até intersectar a primeira linha. Pela regra de Kennedy, o centro instantâneo $I_{2,4}$ também deve pertencer a essa linha, então $I_{2,4}$ é a interseção delas.\n",
    "7. Se houver mais elos, esse procedimento deve ser repetido até todos os *CIVs* serem encontrados. "
   ]
  },
  {
   "cell_type": "markdown",
   "metadata": {
    "slideshow": {
     "slide_type": "subslide"
    }
   },
   "source": [
    "**Observação:**\n",
    "\n",
    "Uma junta do tipo cursor terá seu centro instantâneo no infinito junto a uma linha perpendicular à direção de deslizamento, como mostrado na figura a seguir. \n",
    "![](fig6-6.jpg)\n",
    "\n",
    "![](fig6-7.jpg)"
   ]
  },
  {
   "cell_type": "markdown",
   "metadata": {
    "slideshow": {
     "slide_type": "subslide"
    }
   },
   "source": [
    "**Observação:** <br>\n",
    "Para um mecanismo came-seguidor a presença de meias juntas nesse, ou em qualquer outro mecanismo, torna um pouco mais complicada a localização de centros instantâneos. Temos de reconhecer que o centro instantâneo entre quaisquer dois elos ficará junto a uma linha que é perpendicular ao vetor velocidade relativa entre os elos na meia junta.\n",
    "![](fig6-8.jpg)"
   ]
  },
  {
   "cell_type": "markdown",
   "metadata": {
    "slideshow": {
     "slide_type": "slide"
    }
   },
   "source": [
    "## 6.4 Análise de Velocidades com Centros Instantâneos"
   ]
  },
  {
   "cell_type": "markdown",
   "metadata": {
    "slideshow": {
     "slide_type": "subslide"
    }
   },
   "source": [
    "Uma vez encontrados os *CIVs*, eles podem ser usados para fazer análise gráfica bem rápida do mecanismo\n",
    "![](fig6-9.jpg)"
   ]
  },
  {
   "cell_type": "markdown",
   "metadata": {
    "slideshow": {
     "slide_type": "fragment"
    }
   },
   "source": [
    "Da definição de centro instantâneo, os elos que compartilham esse centro instantâneo terão velocidades idênticas nesse ponto. O centro instantâneo $I_{1,3}$ envolve o acoplador (elo 3), que tem movimento complexo, e o elo 1 terra, que é estacionário. Todos os pontos do elo 1 têm velocidade zero no sistema de coordenadas global. Se $I_{1,3}$ tem velocidade zero, então ele pode ser considerado um pivô fixo instantâneo em relação ao elo 1. \n",
    "$$ \\omega_3 = \\dfrac{v_a}{\\left( A I_{1,3} \\right)}$$\n",
    "\n",
    "$$ v_B = \\left( B I_{1,3} \\right) \\omega_3 $$\n",
    "\n",
    "$$ \\omega_4 = \\dfrac{v_B}{B O_4} $$\n",
    "\n",
    "$$v_C = \\left( C I_{1,3} \\right) \\omega_3 $$\n",
    "\n",
    "Note que essas equações fornecem apenas a magnitude escalar desses vetores velocidade. Temos de determinar a direção deles a partir da informação no diagrama em escala. "
   ]
  },
  {
   "cell_type": "markdown",
   "metadata": {
    "slideshow": {
     "slide_type": "subslide"
    }
   },
   "source": [
    "### Relação de velocidade angular\n",
    "\n",
    "É definida como a velocidade angular de saída dividida pela velocidade angular de entrada. \n",
    "\n",
    "$$m_V = \\dfrac{\\omega_4}{\\omega_2} $$"
   ]
  },
  {
   "cell_type": "markdown",
   "metadata": {
    "slideshow": {
     "slide_type": "subslide"
    }
   },
   "source": [
    "### Vantagem mecânica\n",
    "\n",
    "A potência $P$ em um sistema mecânico pode ser definida como o produto escalar do vetor força e do vetor velocidade em qualquer ponto: \n",
    "\n",
    "$$P = \\vec{F} . \\vec{V}$$\n",
    "\n",
    "Para um sistema rotativo: \n",
    "\n",
    "$$ P = T . \\omega$$\n",
    "\n",
    "A potência flui pelo sistema passivo e:\n",
    "\n",
    "$$P_{entrada} = P_{saída} + perdas$$\n",
    "\n",
    "O rendimento mecânico pode ser definido como: \n",
    "\n",
    "$$\\epsilon = \\dfrac{P_{saída}}{P_{entrada}} $$\n",
    "\n",
    "Sistemas mecânicos podem ser muito eficientes se forem feitos com rolamentos de baixo atrito em todos os pivôs. Perdas, normalmente, representam menos de 10%.\n",
    "\n",
    "A **vantagem mecânica** $(m_A)$ pode ser definida como: \n",
    "\n",
    "$$ m_A = \\dfrac{F_{saída}}{F_{entrada}} $$"
   ]
  },
  {
   "cell_type": "markdown",
   "metadata": {
    "slideshow": {
     "slide_type": "slide"
    }
   },
   "source": [
    "## 6.5 Centroides "
   ]
  },
  {
   "cell_type": "markdown",
   "metadata": {
    "slideshow": {
     "slide_type": "subslide"
    }
   },
   "source": [
    "Sucessivas posições do centro instantâneo formam a sua própria trajetória. Esse caminho, ou trajeto, do centro instantâneo é chamado de **centroide**. \n",
    "![](fig6-14.jpg)"
   ]
  },
  {
   "cell_type": "markdown",
   "metadata": {
    "slideshow": {
     "slide_type": "fragment"
    }
   },
   "source": [
    "Na figura (a) é mostrado o trajeto do centro instantâneo $I_{1,3}$ projetado sobre o elo 1. Pelo fato de o elo 1 ser estacionário, ou fixo, ele é chamado de **centroide fixo**. Invertendo temporariamente o mecanismo e fixando o elo 3 como terra, conforme mostrado na figura (b), podemos mover o elo 1 como se fosse o acoplador e projetar a posição de $I_{1,3}$ sobre o elo 3. Na montagem original, o elo 3 era o acoplador móvel, por isso é chamado de **centroide móvel**."
   ]
  },
  {
   "cell_type": "markdown",
   "metadata": {
    "slideshow": {
     "slide_type": "subslide"
    }
   },
   "source": [
    "### Mecanismos \"sem elos\"\n",
    "\n",
    "Um exemplo comum de um mecanismo feito de centroides é mostrado na figura a seguir.\n",
    "\n",
    "![](fig6-16.jpg)"
   ]
  },
  {
   "cell_type": "markdown",
   "metadata": {
    "slideshow": {
     "slide_type": "subslide"
    }
   },
   "source": [
    "### Cúspide\n",
    "\n",
    "A cúspide é a ponta ou a extremidade aguda de uma curva. Outro exemplo de centroide que você provavelmente deve ver frequentemente é o rastro do pneu do seu carro ou da bicicleta. Quando o pneu começa a rolar sobre a pista sem deslizar, a pista se torna o centroide fixo e a circunferência do pneu é o centroide móvel. O pneu é, na verdade, o acoplador do mecanismo sem elos de quatro barras. Todos os pontos na superfície de contato do pneu se movem ao longa das curvas cicloidais do acoplador e passam pela cúspide de veloicidade zero quando alcançam o centroide fixo na superfpicie da pista. Todos os outros pontos do pneu e do conjunto da roda se deslocam ao longo das curvas do acoplador que não possuem cúspides. *Se um ponto do acoplador é escolhido para estar em uma das extremidades da trajetória do centroide móvel (isto é, em uma das posições de $I_{1,3}$), então terá uma cúspide no acoplador.*\n",
    "\n",
    "![](fig6-17.jpg)"
   ]
  },
  {
   "cell_type": "markdown",
   "metadata": {
    "slideshow": {
     "slide_type": "slide"
    }
   },
   "source": [
    "## 6.6 Velocidade de Deslizamento"
   ]
  },
  {
   "cell_type": "markdown",
   "metadata": {
    "slideshow": {
     "slide_type": "subslide"
    }
   },
   "source": [
    "Quando há uma junta deslizante entre dois elos, e nenhum deles é o elo terra, a análise da velocidade é mais complicada. \n",
    "\n",
    "O **eixo de transmissão** é definido como perpendicular ao eixo de deslizamento e passante pela junta deslizante em A. Esse eixo de transmissão é a **única linha** ao longo da qual podemos transmitir movimento ou força sobre a junta de deslizamento, com exceção da força de atrito. \n",
    "![](fig6-18.jpg)\n",
    "![](fig6-19.jpg)"
   ]
  },
  {
   "cell_type": "markdown",
   "metadata": {
    "slideshow": {
     "slide_type": "slide"
    }
   },
   "source": [
    "## 6.7 Soluções Analíticas para Análises de Velocidades"
   ]
  },
  {
   "cell_type": "markdown",
   "metadata": {
    "slideshow": {
     "slide_type": "subslide"
    }
   },
   "source": [
    "![](fig6-20.jpg)"
   ]
  },
  {
   "cell_type": "markdown",
   "metadata": {
    "slideshow": {
     "slide_type": "fragment"
    }
   },
   "source": [
    "Equação vetorial de malha fechada:\n",
    "$$\\vec{R}_2 + \\vec{R}_3 - \\vec{R}_4 - \\vec{R}_1 = 0 $$"
   ]
  },
  {
   "cell_type": "markdown",
   "metadata": {
    "slideshow": {
     "slide_type": "fragment"
    }
   },
   "source": [
    "Como antes, substituímos os vetores para a notação de números complexos, nomeando os seus comprimentos escalares como $a$, $b$, $c$, $d$. "
   ]
  },
  {
   "cell_type": "code",
   "execution_count": 1,
   "metadata": {
    "slideshow": {
     "slide_type": "fragment"
    }
   },
   "outputs": [],
   "source": [
    "from sympy import *"
   ]
  },
  {
   "cell_type": "code",
   "execution_count": 2,
   "metadata": {
    "slideshow": {
     "slide_type": "fragment"
    }
   },
   "outputs": [],
   "source": [
    "a,b,c,d,t,th1= symbols('a b c d t theta_1')\n",
    "th2 = Function('theta_2')(t)\n",
    "th3 = Function('theta_3')(t)\n",
    "th4 = Function('theta_4')(t)\n",
    "#th2,th3,th4 = [Function('theta_2')(t),Function('theta_3')(t),Function('theta_4')(t)]\n",
    "e = E\n",
    "i = I"
   ]
  },
  {
   "cell_type": "code",
   "execution_count": 3,
   "metadata": {
    "slideshow": {
     "slide_type": "fragment"
    }
   },
   "outputs": [
    {
     "data": {
      "text/latex": [
       "$\\displaystyle a e^{i \\theta_{2}{\\left(t \\right)}} + b e^{i \\theta_{3}{\\left(t \\right)}} - c e^{i \\theta_{4}{\\left(t \\right)}} - d e^{i \\theta_{1}}$"
      ],
      "text/plain": [
       "a*exp(I*theta_2(t)) + b*exp(I*theta_3(t)) - c*exp(I*theta_4(t)) - d*exp(I*theta_1)"
      ]
     },
     "execution_count": 3,
     "metadata": {},
     "output_type": "execute_result"
    }
   ],
   "source": [
    "Eq1 = a*e**(i*th2) + b*e**(i*th3) - c*e**(i*th4) - d*e**(i*th1)\n",
    "Eq1"
   ]
  },
  {
   "cell_type": "markdown",
   "metadata": {
    "slideshow": {
     "slide_type": "fragment"
    }
   },
   "source": [
    "Primeiramente, queremos encontrar $\\omega_3$ e $\\omega_4$"
   ]
  },
  {
   "cell_type": "code",
   "execution_count": 4,
   "metadata": {
    "slideshow": {
     "slide_type": "fragment"
    }
   },
   "outputs": [
    {
     "data": {
      "text/latex": [
       "$\\displaystyle i a e^{i \\theta_{2}{\\left(t \\right)}} \\frac{d}{d t} \\theta_{2}{\\left(t \\right)} + i b e^{i \\theta_{3}{\\left(t \\right)}} \\frac{d}{d t} \\theta_{3}{\\left(t \\right)} - i c e^{i \\theta_{4}{\\left(t \\right)}} \\frac{d}{d t} \\theta_{4}{\\left(t \\right)}$"
      ],
      "text/plain": [
       "I*a*exp(I*theta_2(t))*Derivative(theta_2(t), t) + I*b*exp(I*theta_3(t))*Derivative(theta_3(t), t) - I*c*exp(I*theta_4(t))*Derivative(theta_4(t), t)"
      ]
     },
     "execution_count": 4,
     "metadata": {},
     "output_type": "execute_result"
    }
   ],
   "source": [
    "Eq2 = Eq1.diff(t)\n",
    "Eq2"
   ]
  },
  {
   "cell_type": "code",
   "execution_count": 5,
   "metadata": {
    "slideshow": {
     "slide_type": "fragment"
    }
   },
   "outputs": [],
   "source": [
    "omega2,omega3,omega4 = symbols('omega_2 omega_3 omega_4')\n",
    "dic_omega = {th2.diff(t):omega2,th3.diff(t):omega3,th4.diff(t):omega4}"
   ]
  },
  {
   "cell_type": "code",
   "execution_count": 6,
   "metadata": {
    "slideshow": {
     "slide_type": "fragment"
    }
   },
   "outputs": [
    {
     "data": {
      "text/latex": [
       "$\\displaystyle i a \\omega_{2} e^{i \\theta_{2}{\\left(t \\right)}} + i b \\omega_{3} e^{i \\theta_{3}{\\left(t \\right)}} - i c \\omega_{4} e^{i \\theta_{4}{\\left(t \\right)}}$"
      ],
      "text/plain": [
       "I*a*omega_2*exp(I*theta_2(t)) + I*b*omega_3*exp(I*theta_3(t)) - I*c*omega_4*exp(I*theta_4(t))"
      ]
     },
     "execution_count": 6,
     "metadata": {},
     "output_type": "execute_result"
    }
   ],
   "source": [
    "Eq2 = Eq2.subs(dic_omega)\n",
    "Eq2"
   ]
  },
  {
   "cell_type": "markdown",
   "metadata": {
    "slideshow": {
     "slide_type": "fragment"
    }
   },
   "source": [
    "$$\\vec{V}_A = i a \\omega_2 e^{i \\theta_2}$$\n",
    "\n",
    "$$\\vec{V}_{BA} = i b \\omega_3 e^{i \\theta_3}$$\n",
    "\n",
    "$$\\vec{V}_B = i c \\omega_4 e^{i \\theta_4}$$"
   ]
  },
  {
   "cell_type": "code",
   "execution_count": 7,
   "metadata": {
    "slideshow": {
     "slide_type": "fragment"
    }
   },
   "outputs": [],
   "source": [
    "Va = i*a*omega2*e**(i*th2)\n",
    "Vba = i*b*omega3*e**(i*th3)\n",
    "Vb = i*c*omega4*e**(i*th4)"
   ]
  },
  {
   "cell_type": "code",
   "execution_count": 8,
   "metadata": {
    "slideshow": {
     "slide_type": "fragment"
    }
   },
   "outputs": [],
   "source": [
    "id_euler = {e**(i*th2):cos(th2) + i*sin(th2),e**(i*th3):cos(th3) + i*sin(th3),e**(i*th4):cos(th4) + i*sin(th4)}"
   ]
  },
  {
   "cell_type": "code",
   "execution_count": 9,
   "metadata": {
    "slideshow": {
     "slide_type": "fragment"
    }
   },
   "outputs": [
    {
     "data": {
      "text/latex": [
       "$\\displaystyle i a \\omega_{2} \\left(i \\sin{\\left(\\theta_{2}{\\left(t \\right)} \\right)} + \\cos{\\left(\\theta_{2}{\\left(t \\right)} \\right)}\\right) + i b \\omega_{3} \\left(i \\sin{\\left(\\theta_{3}{\\left(t \\right)} \\right)} + \\cos{\\left(\\theta_{3}{\\left(t \\right)} \\right)}\\right) - i c \\omega_{4} \\left(i \\sin{\\left(\\theta_{4}{\\left(t \\right)} \\right)} + \\cos{\\left(\\theta_{4}{\\left(t \\right)} \\right)}\\right)$"
      ],
      "text/plain": [
       "I*a*omega_2*(I*sin(theta_2(t)) + cos(theta_2(t))) + I*b*omega_3*(I*sin(theta_3(t)) + cos(theta_3(t))) - I*c*omega_4*(I*sin(theta_4(t)) + cos(theta_4(t)))"
      ]
     },
     "execution_count": 9,
     "metadata": {},
     "output_type": "execute_result"
    }
   ],
   "source": [
    "Eq3 = Eq2.subs(id_euler)\n",
    "Eq3"
   ]
  },
  {
   "cell_type": "code",
   "execution_count": 10,
   "metadata": {
    "slideshow": {
     "slide_type": "fragment"
    }
   },
   "outputs": [
    {
     "data": {
      "text/latex": [
       "$\\displaystyle - a \\omega_{2} \\sin{\\left(\\theta_{2}{\\left(t \\right)} \\right)} + i a \\omega_{2} \\cos{\\left(\\theta_{2}{\\left(t \\right)} \\right)} - b \\omega_{3} \\sin{\\left(\\theta_{3}{\\left(t \\right)} \\right)} + i b \\omega_{3} \\cos{\\left(\\theta_{3}{\\left(t \\right)} \\right)} + c \\omega_{4} \\sin{\\left(\\theta_{4}{\\left(t \\right)} \\right)} - i c \\omega_{4} \\cos{\\left(\\theta_{4}{\\left(t \\right)} \\right)}$"
      ],
      "text/plain": [
       "-a*omega_2*sin(theta_2(t)) + I*a*omega_2*cos(theta_2(t)) - b*omega_3*sin(theta_3(t)) + I*b*omega_3*cos(theta_3(t)) + c*omega_4*sin(theta_4(t)) - I*c*omega_4*cos(theta_4(t))"
      ]
     },
     "execution_count": 10,
     "metadata": {},
     "output_type": "execute_result"
    }
   ],
   "source": [
    "Eq3 = Eq3.expand()\n",
    "Eq3"
   ]
  },
  {
   "cell_type": "code",
   "execution_count": 11,
   "metadata": {
    "slideshow": {
     "slide_type": "fragment"
    }
   },
   "outputs": [
    {
     "data": {
      "text/latex": [
       "$\\displaystyle - a \\omega_{2} \\sin{\\left(\\theta_{2}{\\left(t \\right)} \\right)} - b \\omega_{3} \\sin{\\left(\\theta_{3}{\\left(t \\right)} \\right)} + c \\omega_{4} \\sin{\\left(\\theta_{4}{\\left(t \\right)} \\right)}$"
      ],
      "text/plain": [
       "-a*omega_2*sin(theta_2(t)) - b*omega_3*sin(theta_3(t)) + c*omega_4*sin(theta_4(t))"
      ]
     },
     "execution_count": 11,
     "metadata": {},
     "output_type": "execute_result"
    }
   ],
   "source": [
    "Eq3_real = Eq3.subs(i,0)\n",
    "Eq3_real"
   ]
  },
  {
   "cell_type": "code",
   "execution_count": 12,
   "metadata": {
    "slideshow": {
     "slide_type": "fragment"
    }
   },
   "outputs": [
    {
     "data": {
      "text/latex": [
       "$\\displaystyle a \\omega_{2} \\cos{\\left(\\theta_{2}{\\left(t \\right)} \\right)} + b \\omega_{3} \\cos{\\left(\\theta_{3}{\\left(t \\right)} \\right)} - c \\omega_{4} \\cos{\\left(\\theta_{4}{\\left(t \\right)} \\right)}$"
      ],
      "text/plain": [
       "a*omega_2*cos(theta_2(t)) + b*omega_3*cos(theta_3(t)) - c*omega_4*cos(theta_4(t))"
      ]
     },
     "execution_count": 12,
     "metadata": {},
     "output_type": "execute_result"
    }
   ],
   "source": [
    "Eq3_im = (Eq3 - Eq3_real).subs(i,1)\n",
    "Eq3_im"
   ]
  },
  {
   "cell_type": "code",
   "execution_count": 13,
   "metadata": {
    "slideshow": {
     "slide_type": "fragment"
    }
   },
   "outputs": [],
   "source": [
    "omega_sols = solve([Eq3_im,Eq3_real],omega3,omega4)"
   ]
  },
  {
   "cell_type": "markdown",
   "metadata": {
    "slideshow": {
     "slide_type": "fragment"
    }
   },
   "source": [
    "Velocidades angulares:"
   ]
  },
  {
   "cell_type": "code",
   "execution_count": 14,
   "metadata": {
    "scrolled": true,
    "slideshow": {
     "slide_type": "fragment"
    }
   },
   "outputs": [
    {
     "data": {
      "text/latex": [
       "$\\displaystyle - \\frac{a \\omega_{2} \\sin{\\left(\\theta_{2}{\\left(t \\right)} - \\theta_{4}{\\left(t \\right)} \\right)}}{b \\sin{\\left(\\theta_{3}{\\left(t \\right)} - \\theta_{4}{\\left(t \\right)} \\right)}}$"
      ],
      "text/plain": [
       "-a*omega_2*sin(theta_2(t) - theta_4(t))/(b*sin(theta_3(t) - theta_4(t)))"
      ]
     },
     "execution_count": 14,
     "metadata": {},
     "output_type": "execute_result"
    }
   ],
   "source": [
    "omega_sols[omega3]"
   ]
  },
  {
   "cell_type": "code",
   "execution_count": 15,
   "metadata": {
    "slideshow": {
     "slide_type": "fragment"
    }
   },
   "outputs": [
    {
     "data": {
      "text/latex": [
       "$\\displaystyle - \\frac{a \\omega_{2} \\sin{\\left(\\theta_{2}{\\left(t \\right)} - \\theta_{3}{\\left(t \\right)} \\right)}}{c \\sin{\\left(\\theta_{3}{\\left(t \\right)} - \\theta_{4}{\\left(t \\right)} \\right)}}$"
      ],
      "text/plain": [
       "-a*omega_2*sin(theta_2(t) - theta_3(t))/(c*sin(theta_3(t) - theta_4(t)))"
      ]
     },
     "execution_count": 15,
     "metadata": {},
     "output_type": "execute_result"
    }
   ],
   "source": [
    "omega_sols[omega4]"
   ]
  },
  {
   "cell_type": "markdown",
   "metadata": {
    "slideshow": {
     "slide_type": "fragment"
    }
   },
   "source": [
    "Velocidades lineares:"
   ]
  },
  {
   "cell_type": "code",
   "execution_count": 16,
   "metadata": {
    "scrolled": true,
    "slideshow": {
     "slide_type": "fragment"
    }
   },
   "outputs": [
    {
     "data": {
      "text/latex": [
       "$\\displaystyle i a \\omega_{2} e^{i \\theta_{2}{\\left(t \\right)}}$"
      ],
      "text/plain": [
       "I*a*omega_2*exp(I*theta_2(t))"
      ]
     },
     "execution_count": 16,
     "metadata": {},
     "output_type": "execute_result"
    }
   ],
   "source": [
    "Va.subs(omega_sols)"
   ]
  },
  {
   "cell_type": "code",
   "execution_count": 17,
   "metadata": {
    "slideshow": {
     "slide_type": "fragment"
    }
   },
   "outputs": [
    {
     "data": {
      "text/latex": [
       "$\\displaystyle - \\frac{i a \\omega_{2} e^{i \\theta_{3}{\\left(t \\right)}} \\sin{\\left(\\theta_{2}{\\left(t \\right)} - \\theta_{4}{\\left(t \\right)} \\right)}}{\\sin{\\left(\\theta_{3}{\\left(t \\right)} - \\theta_{4}{\\left(t \\right)} \\right)}}$"
      ],
      "text/plain": [
       "-I*a*omega_2*exp(I*theta_3(t))*sin(theta_2(t) - theta_4(t))/sin(theta_3(t) - theta_4(t))"
      ]
     },
     "execution_count": 17,
     "metadata": {},
     "output_type": "execute_result"
    }
   ],
   "source": [
    "Vba.subs(omega_sols)"
   ]
  },
  {
   "cell_type": "code",
   "execution_count": 18,
   "metadata": {
    "slideshow": {
     "slide_type": "fragment"
    }
   },
   "outputs": [
    {
     "data": {
      "text/latex": [
       "$\\displaystyle - \\frac{i a \\omega_{2} e^{i \\theta_{4}{\\left(t \\right)}} \\sin{\\left(\\theta_{2}{\\left(t \\right)} - \\theta_{3}{\\left(t \\right)} \\right)}}{\\sin{\\left(\\theta_{3}{\\left(t \\right)} - \\theta_{4}{\\left(t \\right)} \\right)}}$"
      ],
      "text/plain": [
       "-I*a*omega_2*exp(I*theta_4(t))*sin(theta_2(t) - theta_3(t))/sin(theta_3(t) - theta_4(t))"
      ]
     },
     "execution_count": 18,
     "metadata": {},
     "output_type": "execute_result"
    }
   ],
   "source": [
    "Vb.subs(omega_sols)"
   ]
  },
  {
   "cell_type": "markdown",
   "metadata": {
    "slideshow": {
     "slide_type": "subslide"
    }
   },
   "source": [
    "Vamos agora plotar a razão de velocidade para um mecanismo de 4 barras com os seguintes comprimentos dos elos:\n",
    "\n",
    "| Símbolo | Valor |\n",
    "|---------|-------|\n",
    "| $a$ | 90 mm |\n",
    "| $b$ | 120 mm |\n",
    "| $c$ | 150mm |\n",
    "| $d$ | 130 mm |"
   ]
  },
  {
   "cell_type": "markdown",
   "metadata": {
    "slideshow": {
     "slide_type": "fragment"
    }
   },
   "source": [
    "Do capítulo 4 obtemos:"
   ]
  },
  {
   "cell_type": "code",
   "execution_count": 19,
   "metadata": {
    "slideshow": {
     "slide_type": "fragment"
    }
   },
   "outputs": [
    {
     "data": {
      "text/latex": [
       "$\\displaystyle - 2 \\operatorname{atan}{\\left(\\frac{2 a b \\sin{\\left(\\theta_{2}{\\left(t \\right)} \\right)} - \\sqrt{- a^{4} + 4 a^{3} d \\cos{\\left(\\theta_{2}{\\left(t \\right)} \\right)} + 4 a^{2} b^{2} \\sin^{2}{\\left(\\theta_{2}{\\left(t \\right)} \\right)} + 4 a^{2} b^{2} \\cos^{2}{\\left(\\theta_{2}{\\left(t \\right)} \\right)} - 2 a^{2} b^{2} + 2 a^{2} c^{2} - 4 a^{2} d^{2} \\cos^{2}{\\left(\\theta_{2}{\\left(t \\right)} \\right)} - 2 a^{2} d^{2} - 4 a b^{2} d \\cos{\\left(\\theta_{2}{\\left(t \\right)} \\right)} - 4 a c^{2} d \\cos{\\left(\\theta_{2}{\\left(t \\right)} \\right)} + 4 a d^{3} \\cos{\\left(\\theta_{2}{\\left(t \\right)} \\right)} - b^{4} + 2 b^{2} c^{2} + 2 b^{2} d^{2} - c^{4} + 2 c^{2} d^{2} - d^{4}}}{a^{2} - 2 a b \\cos{\\left(\\theta_{2}{\\left(t \\right)} \\right)} - 2 a d \\cos{\\left(\\theta_{2}{\\left(t \\right)} \\right)} + b^{2} + 2 b d - c^{2} + d^{2}} \\right)}$"
      ],
      "text/plain": [
       "-2*atan((2*a*b*sin(theta_2(t)) - sqrt(-a**4 + 4*a**3*d*cos(theta_2(t)) + 4*a**2*b**2*sin(theta_2(t))**2 + 4*a**2*b**2*cos(theta_2(t))**2 - 2*a**2*b**2 + 2*a**2*c**2 - 4*a**2*d**2*cos(theta_2(t))**2 - 2*a**2*d**2 - 4*a*b**2*d*cos(theta_2(t)) - 4*a*c**2*d*cos(theta_2(t)) + 4*a*d**3*cos(theta_2(t)) - b**4 + 2*b**2*c**2 + 2*b**2*d**2 - c**4 + 2*c**2*d**2 - d**4))/(a**2 - 2*a*b*cos(theta_2(t)) - 2*a*d*cos(theta_2(t)) + b**2 + 2*b*d - c**2 + d**2))"
      ]
     },
     "execution_count": 19,
     "metadata": {},
     "output_type": "execute_result"
    }
   ],
   "source": [
    "th3_sol = -2*atan((2*a*b*sin(th2) - sqrt(-a**4 + 4*a**3*d*cos(th2) + 4*a**2*b**2*sin(th2)**2 + 4*a**2*b**2*cos(th2)**2 - 2*a**2*b**2 + 2*a**2*c**2 - 4*a**2*d**2*cos(th2)**2 - 2*a**2*d**2 - 4*a*b**2*d*cos(th2) - 4*a*c**2*d*cos(th2) + 4*a*d**3*cos(th2) - b**4 + 2*b**2*c**2 + 2*b**2*d**2 - c**4 + 2*c**2*d**2 - d**4))/(a**2 - 2*a*b*cos(th2) - 2*a*d*cos(th2) + b**2 + 2*b*d - c**2 + d**2))\n",
    "th3_sol"
   ]
  },
  {
   "cell_type": "code",
   "execution_count": 20,
   "metadata": {
    "slideshow": {
     "slide_type": "fragment"
    }
   },
   "outputs": [
    {
     "data": {
      "text/latex": [
       "$\\displaystyle 2 \\operatorname{atan}{\\left(\\frac{2 a c \\sin{\\left(\\theta_{2}{\\left(t \\right)} \\right)} - \\sqrt{- a^{4} + 4 a^{3} d \\cos{\\left(\\theta_{2}{\\left(t \\right)} \\right)} + 2 a^{2} b^{2} + 4 a^{2} c^{2} \\sin^{2}{\\left(\\theta_{2}{\\left(t \\right)} \\right)} + 4 a^{2} c^{2} \\cos^{2}{\\left(\\theta_{2}{\\left(t \\right)} \\right)} - 2 a^{2} c^{2} - 4 a^{2} d^{2} \\cos^{2}{\\left(\\theta_{2}{\\left(t \\right)} \\right)} - 2 a^{2} d^{2} - 4 a b^{2} d \\cos{\\left(\\theta_{2}{\\left(t \\right)} \\right)} - 4 a c^{2} d \\cos{\\left(\\theta_{2}{\\left(t \\right)} \\right)} + 4 a d^{3} \\cos{\\left(\\theta_{2}{\\left(t \\right)} \\right)} - b^{4} + 2 b^{2} c^{2} + 2 b^{2} d^{2} - c^{4} + 2 c^{2} d^{2} - d^{4}}}{a^{2} + 2 a c \\cos{\\left(\\theta_{2}{\\left(t \\right)} \\right)} - 2 a d \\cos{\\left(\\theta_{2}{\\left(t \\right)} \\right)} - b^{2} + c^{2} - 2 c d + d^{2}} \\right)}$"
      ],
      "text/plain": [
       "2*atan((2*a*c*sin(theta_2(t)) - sqrt(-a**4 + 4*a**3*d*cos(theta_2(t)) + 2*a**2*b**2 + 4*a**2*c**2*sin(theta_2(t))**2 + 4*a**2*c**2*cos(theta_2(t))**2 - 2*a**2*c**2 - 4*a**2*d**2*cos(theta_2(t))**2 - 2*a**2*d**2 - 4*a*b**2*d*cos(theta_2(t)) - 4*a*c**2*d*cos(theta_2(t)) + 4*a*d**3*cos(theta_2(t)) - b**4 + 2*b**2*c**2 + 2*b**2*d**2 - c**4 + 2*c**2*d**2 - d**4))/(a**2 + 2*a*c*cos(theta_2(t)) - 2*a*d*cos(theta_2(t)) - b**2 + c**2 - 2*c*d + d**2))"
      ]
     },
     "execution_count": 20,
     "metadata": {},
     "output_type": "execute_result"
    }
   ],
   "source": [
    "th4_sol = 2*atan((2*a*c*sin(th2) - sqrt(-a**4 + 4*a**3*d*cos(th2) + 2*a**2*b**2 + 4*a**2*c**2*sin(th2)**2 + 4*a**2*c**2*cos(th2)**2 - 2*a**2*c**2 - 4*a**2*d**2*cos(th2)**2 - 2*a**2*d**2 - 4*a*b**2*d*cos(th2) - 4*a*c**2*d*cos(th2) + 4*a*d**3*cos(th2) - b**4 + 2*b**2*c**2 + 2*b**2*d**2 - c**4 + 2*c**2*d**2 - d**4))/(a**2 + 2*a*c*cos(th2) - 2*a*d*cos(th2) - b**2 + c**2 - 2*c*d + d**2))\n",
    "th4_sol"
   ]
  },
  {
   "cell_type": "code",
   "execution_count": 21,
   "metadata": {
    "slideshow": {
     "slide_type": "fragment"
    }
   },
   "outputs": [
    {
     "data": {
      "text/latex": [
       "$\\displaystyle - \\frac{a \\sin{\\left(\\theta_{2}{\\left(t \\right)} - \\theta_{3}{\\left(t \\right)} \\right)}}{c \\sin{\\left(\\theta_{3}{\\left(t \\right)} - \\theta_{4}{\\left(t \\right)} \\right)}}$"
      ],
      "text/plain": [
       "-a*sin(theta_2(t) - theta_3(t))/(c*sin(theta_3(t) - theta_4(t)))"
      ]
     },
     "execution_count": 21,
     "metadata": {},
     "output_type": "execute_result"
    }
   ],
   "source": [
    "Mv = omega_sols[omega4]/omega2\n",
    "Mv"
   ]
  },
  {
   "cell_type": "code",
   "execution_count": 22,
   "metadata": {
    "slideshow": {
     "slide_type": "fragment"
    }
   },
   "outputs": [],
   "source": [
    "Mv = Mv.subs(th3,th3_sol)\n",
    "Mv = Mv.subs(th4,th4_sol)"
   ]
  },
  {
   "cell_type": "code",
   "execution_count": 23,
   "metadata": {
    "slideshow": {
     "slide_type": "fragment"
    }
   },
   "outputs": [],
   "source": [
    "elos = {a: 90, b: 120, c: 150, d: 130}\n",
    "Mv = Mv.subs(elos)"
   ]
  },
  {
   "cell_type": "code",
   "execution_count": 24,
   "metadata": {
    "slideshow": {
     "slide_type": "fragment"
    }
   },
   "outputs": [],
   "source": [
    "import numpy as np"
   ]
  },
  {
   "cell_type": "code",
   "execution_count": 25,
   "metadata": {
    "slideshow": {
     "slide_type": "fragment"
    }
   },
   "outputs": [],
   "source": [
    "th2_lista = np.linspace(0,2*np.pi,360)"
   ]
  },
  {
   "cell_type": "code",
   "execution_count": 26,
   "metadata": {
    "slideshow": {
     "slide_type": "fragment"
    }
   },
   "outputs": [],
   "source": [
    "Mv_lista = []\n",
    "for i in range(0,len(th2_lista)):\n",
    "    Mv_lista.append(Mv.subs(th2,th2_lista[i]))"
   ]
  },
  {
   "cell_type": "code",
   "execution_count": 27,
   "metadata": {
    "slideshow": {
     "slide_type": "fragment"
    }
   },
   "outputs": [],
   "source": [
    "import matplotlib.pyplot as plt"
   ]
  },
  {
   "cell_type": "code",
   "execution_count": 28,
   "metadata": {
    "slideshow": {
     "slide_type": "fragment"
    }
   },
   "outputs": [
    {
     "data": {
      "image/png": "[encoded data removed]",
      "text/plain": [
       "<Figure size 1800x1200 with 1 Axes>"
      ]
     },
     "metadata": {
      "needs_background": "light"
     },
     "output_type": "display_data"
    }
   ],
   "source": [
    "plt.figure(dpi=300)\n",
    "plt.plot(th2_lista,Mv_lista)\n",
    "plt.xlabel(r'$\\theta_2(t)$')\n",
    "plt.ylabel(r'$M_v$')\n",
    "plt.title('Razão de velocidades')\n",
    "plt.grid(True)"
   ]
  },
  {
   "cell_type": "markdown",
   "metadata": {
    "slideshow": {
     "slide_type": "skip"
    }
   },
   "source": [
    "[Voltar para o capítulo anterior](Mecs5.ipynb)     $\\qquad$   [Avançar para o próximo capítulo](Mecs7.ipynb)"
   ]
  }
 ],
 "metadata": {
  "kernelspec": {
   "display_name": "Python 3",
   "language": "python",
   "name": "python3"
  },
  "language_info": {
   "codemirror_mode": {
    "name": "ipython",
    "version": 3
   },
   "file_extension": ".py",
   "mimetype": "text/x-python",
   "name": "python",
   "nbconvert_exporter": "python",
   "pygments_lexer": "ipython3",
   "version": "3.8.10"
  }
 },
 "nbformat": 4,
 "nbformat_minor": 4
}
