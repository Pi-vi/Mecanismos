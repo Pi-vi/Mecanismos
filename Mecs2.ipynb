{
 "cells": [
  {
   "cell_type": "markdown",
   "metadata": {
    "slideshow": {
     "slide_type": "slide"
    }
   },
   "source": [
    "# 2 - Fundamentos da Cinemática e Mecanismos Articulados\n",
    "Professor Paulo Victor <br>\n",
    "e-mail: paulo.gomes@cefet-rj.br <br>\n",
    "CEFET/RJ Campus Angra dos Reis - Sala 6E"
   ]
  },
  {
   "cell_type": "markdown",
   "metadata": {
    "slideshow": {
     "slide_type": "slide"
    }
   },
   "source": [
    "## 2.1 Graus de liberdade"
   ]
  },
  {
   "cell_type": "markdown",
   "metadata": {
    "slideshow": {
     "slide_type": "subslide"
    }
   },
   "source": [
    "A **mobilidade (M)** de um sistema mecânico pode ser classificada de acordo com o número de **graus de liberdade (GDL)**. \n",
    "\n",
    "Os GDL de um sistema são iguais ao número de parâmetros independentes (medidas) necessários para definir um única posição no espaço em qualquer instante de tempo\n"
   ]
  },
  {
   "cell_type": "markdown",
   "metadata": {
    "slideshow": {
     "slide_type": "subslide"
    }
   },
   "source": [
    "* Exemplos\n",
    "![Lápis em uma mesa](lapis.png)\n",
    "> o lápis representa um **corpo rígido**, ou **elo**\n",
    ">> corpo rígido é incapaz de sofrer deformações\n"
   ]
  },
  {
   "cell_type": "markdown",
   "metadata": {
    "slideshow": {
     "slide_type": "subslide"
    }
   },
   "source": [
    "**Nessa matéria, focaremos nos sistemas em 2D**"
   ]
  },
  {
   "cell_type": "markdown",
   "metadata": {
    "slideshow": {
     "slide_type": "slide"
    }
   },
   "source": [
    "## 2.2 Tipos de Movimento"
   ]
  },
  {
   "cell_type": "markdown",
   "metadata": {
    "slideshow": {
     "slide_type": "subslide"
    }
   },
   "source": [
    "### Rotação Pura:\n",
    "\n",
    "O corpo possui um ponto (centro de rotação) que não apresenta movimento com relação à estrutura estacionária de referência (sistema de referência inercial). Todos os outros pontos do corpo descrevem arcos ao redor daquele centro. Uma linha de referência desenhada no corpo através do centro muda somente a orientação angular"
   ]
  },
  {
   "cell_type": "markdown",
   "metadata": {
    "slideshow": {
     "slide_type": "subslide"
    }
   },
   "source": [
    "### Translação Pura:\n",
    "\n",
    "Todos os pontos do corpo descrevem caminhos paralelos (curvilíneos ou retilíneos). A linha de referência desenhada no corpo muda de posição linear, mas não muda a orientação angular. \n"
   ]
  },
  {
   "cell_type": "markdown",
   "metadata": {
    "slideshow": {
     "slide_type": "subslide"
    }
   },
   "source": [
    "\n",
    "### Movimento Complexo: \n",
    "\n",
    "Uma combinação simultânea de rotação e translação. Qualquer linha de referência desenhada no corpo mudará a posição linear e a orientação angular. Pontos no corpo terão caminhos não paralelos e haverá, a cada instante, um centro de rotação que mudará de localização constantemente. \n"
   ]
  },
  {
   "cell_type": "markdown",
   "metadata": {
    "slideshow": {
     "slide_type": "slide"
    }
   },
   "source": [
    "\n",
    "\n",
    "\n",
    "## 2.3 Elos, Juntas ou Articulações e Cadeias CInemáticas\n",
    "\n"
   ]
  },
  {
   "cell_type": "markdown",
   "metadata": {
    "slideshow": {
     "slide_type": "subslide"
    }
   },
   "source": [
    "### Elo \n",
    "\n",
    "É um corpo rígido que possui ao menos dois nós que são pontos para se anexar aos outros elos."
   ]
  },
  {
   "cell_type": "markdown",
   "metadata": {
    "slideshow": {
     "slide_type": "subslide"
    }
   },
   "source": [
    "* Elo binário -> possui 2 nós\n",
    "\n",
    "![Elo binário](elo-binario.png \"Elo Binário\")"
   ]
  },
  {
   "cell_type": "markdown",
   "metadata": {
    "slideshow": {
     "slide_type": "subslide"
    }
   },
   "source": [
    "* Elo terciário -> possui 3 nós\n",
    "\n",
    "![Elo terciário](elo-terciariopng.png \"Elo Terciário\")"
   ]
  },
  {
   "cell_type": "markdown",
   "metadata": {
    "slideshow": {
     "slide_type": "subslide"
    }
   },
   "source": [
    "\n",
    "* Elo quaternário -> possui 4 nós\n",
    "\n",
    "![Elo quaternário](elo-quaternario.png \"Elo Quaternário\")\n"
   ]
  },
  {
   "cell_type": "markdown",
   "metadata": {
    "slideshow": {
     "slide_type": "subslide"
    }
   },
   "source": [
    "### Junta\n",
    "\n",
    "É uma conexão entre dois ou mais elos (em seus nós) que permite o mesmo movimento, ou movimento potencial entre os elos conectados. \n"
   ]
  },
  {
   "cell_type": "markdown",
   "metadata": {
    "slideshow": {
     "slide_type": "subslide"
    }
   },
   "source": [
    "As juntas( ou **pares cinemáticos**) podem ser classificadas de diferentes maneiras: \n",
    "\n",
    "1. Pelo tipo de contato entre os elementos, linha, ponto ou superfície\n",
    "\n",
    "2. Pelo número de graus de liberdade permitidos na junta\n",
    "\n",
    "3. Pelo tipo de fechamento físico da junta: tanto força como forma fechada\n",
    "\n",
    "4. Pelo número de elos unidos\n"
   ]
  },
  {
   "cell_type": "markdown",
   "metadata": {
    "slideshow": {
     "slide_type": "subslide"
    }
   },
   "source": [
    "Reuleaux criou o termo **par inferior** para descrever juntas com superfície de contato e o termo **par superior** para descrever juntas com ponto ou linha de contato. \n",
    "\n",
    "\n",
    "Os seis pares inferiores:\n",
    "\n",
    "| Nome (Símbolo) | GDL | Conteúdo |\n",
    "| ---------------|-----|----------|\n",
    "|Revolução (R)   |  1  |    R     |\n",
    "|Prismático (P)  |  1  |    P     |\n",
    "|Helicoidal (H)  |  1  |   RP     |\n",
    "|Cilíndrico (C)  |  2  |   RP     |\n",
    "|Esférico (S)    |  3  |   RRR    |\n",
    "Plano (P)        |  3  |   RPP    |\n"
   ]
  },
  {
   "cell_type": "markdown",
   "metadata": {
    "slideshow": {
     "slide_type": "subslide"
    }
   },
   "source": [
    "**Os pares R e P são os blocos básicos de construção de todos os outros pares.**\n",
    "\n",
    "\n",
    "![Juntas de Vários Tipos](fig2-1.jpg \"Junstas de Vários Tipo\")\n",
    "\n",
    "\n",
    "![Juntas Esféricas](jesfericas.jpg \"Juntas Esféricas\")"
   ]
  },
  {
   "cell_type": "markdown",
   "metadata": {
    "slideshow": {
     "slide_type": "subslide"
    }
   },
   "source": [
    "Uma junta com mais de um grau de liberdade também pode ser um **par superior**.\n",
    "\n",
    "Juntas completas (pares inferiores) e meias juntas (pares superiores) são utilizadas em mecanismos planos (2D) e espaciais (3D)\n",
    "\n",
    "* A ordem da junta é definida como o número de elos menos 1.\n"
   ]
  },
  {
   "cell_type": "markdown",
   "metadata": {
    "slideshow": {
     "slide_type": "subslide"
    }
   },
   "source": [
    "### Uma cadeia cinemática é definida como:\n",
    "\n",
    "* Um conjunto de elos e juntas interconectadas de uma maneira que possibilite um movimento de saída controlado em resposta a um movimento de entrada fornecido. \n",
    "\n",
    "Ou:\n",
    "\n",
    "* Quando vários corpos estão conectados de maneira móvel por juntas, este conjunto é denominado de cadeia cinemática."
   ]
  },
  {
   "cell_type": "markdown",
   "metadata": {
    "slideshow": {
     "slide_type": "subslide"
    }
   },
   "source": [
    "### Um mecanismo é definido como:\n",
    "\n",
    "Uma cadeia cinemática em que pelo menos uma ligação foi \"aterrada\", ou presa, à estrutura de referência (que pode estar em movimento)."
   ]
  },
  {
   "cell_type": "markdown",
   "metadata": {
    "slideshow": {
     "slide_type": "subslide"
    }
   },
   "source": [
    "### Uma máquina é definida como:\n",
    "\n",
    "Uma combinação de corpos resistentes organizados para compelir as forças mecânicas da natureza a fim de realizar um trabalho acompanhado por movimentos determinados.\n",
    "\n",
    "Pela definição de Reuleaux, uma máquina é uma coleção de mecanismos organizada para transmitir forças e realizar trabalhos."
   ]
  },
  {
   "cell_type": "markdown",
   "metadata": {
    "slideshow": {
     "slide_type": "slide"
    }
   },
   "source": [
    "## 2.4 Desenhando Diagramas Cinemáticos"
   ]
  },
  {
   "cell_type": "markdown",
   "metadata": {
    "slideshow": {
     "slide_type": "subslide"
    }
   },
   "source": [
    "Analisar a cinemática de mecanismos requer que desenhemos de forma limpa e simples o diagrama esquemático da cinemática dos elos e juntas que o compõe."
   ]
  },
  {
   "cell_type": "markdown",
   "metadata": {
    "slideshow": {
     "slide_type": "subslide"
    }
   },
   "source": [
    "![Exemplos de Diagramas](fig2-2.jpg \"Exemplos de Diagramas\")"
   ]
  },
  {
   "cell_type": "markdown",
   "metadata": {
    "slideshow": {
     "slide_type": "subslide"
    }
   },
   "source": [
    "![Exemplo Aparelho de Musculação](fig2-3.jpg \"Exemplo Aparelho de Musculação\")"
   ]
  },
  {
   "cell_type": "markdown",
   "metadata": {
    "slideshow": {
     "slide_type": "subslide"
    }
   },
   "source": [
    "Este mecanismos de levantamento de peso possui sei elos pinados denominados de $L_1$ a $L_6$ e sete juntas pinadas.\n",
    "\n",
    "\n",
    "Os **pivôs** do movimento são denominados de $A$ a $D$; $O_2$, $O_4$ e $O_6$ denotam os **pivôs** fixados ao número respectivo de seus elos. Embora as ligações estejam em planos paralelos separados por uma distância na direção $Z$, ela ainda pode ser analisada cinematicamente, como se todos os elos estivessem em um plano comum. A geometria do mecanismo é projetada para dar um rendimento mecânico variável que corresponde à habilidade humana para fornecer força ao longo do movimento da perna."
   ]
  },
  {
   "cell_type": "markdown",
   "metadata": {
    "slideshow": {
     "slide_type": "subslide"
    }
   },
   "source": [
    "Na figura a seguir, são mostrados exemplos de robôs paralelos de 3 GDL.\n",
    "![Exemplos de Robôs Paralelos de 3GDL](fig2-4.jpg \"Exemplos de Robôs Paralelos de 3GDL\")"
   ]
  },
  {
   "cell_type": "markdown",
   "metadata": {
    "slideshow": {
     "slide_type": "slide"
    }
   },
   "source": [
    "## 2.5 Determinando os Graus de Liberdade ou Mobilidade"
   ]
  },
  {
   "cell_type": "markdown",
   "metadata": {
    "slideshow": {
     "slide_type": "subslide"
    }
   },
   "source": [
    "Podemos definir o GDL rapidamente como: \n",
    "\n",
    "* O número de entradas que precisam ser dadas para criar uma saída previsível; \n",
    "    Ou:\n",
    "* O número de coordenadas independentes necessárias para definir sua posição. \n"
   ]
  },
  {
   "cell_type": "markdown",
   "metadata": {
    "slideshow": {
     "slide_type": "subslide"
    }
   },
   "source": [
    "### Cadeia cinemática aberta\n",
    "\n",
    "Um mecanismo aberto de mais de um elo terá sempre mais de um grau de liberdade, requerendo assim tantos atuadores quanto o número de graus de liberdade.\n",
    "* Uma cadeia cinemática aberta de dois elos binários e uma junta é chamada de **díade**"
   ]
  },
  {
   "cell_type": "markdown",
   "metadata": {
    "slideshow": {
     "slide_type": "subslide"
    }
   },
   "source": [
    "![Robô de cadeia cinemática aberta](rob1.jpg \"Robô de cadeia cinemática aberta\")"
   ]
  },
  {
   "cell_type": "markdown",
   "metadata": {
    "slideshow": {
     "slide_type": "subslide"
    }
   },
   "source": [
    "### Cadeia cinemática fechada\n",
    "\n",
    "Se casa elo está conectado a ao menos outros dois elos, esta configuração é denominada cadeia cinemática fechada. \n"
   ]
  },
  {
   "cell_type": "markdown",
   "metadata": {
    "slideshow": {
     "slide_type": "subslide"
    }
   },
   "source": [
    "![Robô de cadeia cinemática fechada](rob2.jpg \"Robô de cadeia cinemática fechada\")"
   ]
  },
  {
   "cell_type": "markdown",
   "metadata": {
    "slideshow": {
     "slide_type": "subslide"
    }
   },
   "source": [
    "![Robô de cadeia cinemática fechada](rob3.png \"Robô de cadeia cinemática fechada\")"
   ]
  },
  {
   "cell_type": "markdown",
   "metadata": {
    "slideshow": {
     "slide_type": "subslide"
    }
   },
   "source": [
    "### Grau de liberdade (mobilidade) em mecanismos planos\n",
    "\n",
    "* Condição de Grueber -> Qualquer elo em um plano possui três graus de liberdade. Entretanto, um sistema de $L$ elos desconectados em um mesmo plano terá $3L$ GDL"
   ]
  },
  {
   "cell_type": "markdown",
   "metadata": {
    "slideshow": {
     "slide_type": "subslide"
    }
   },
   "source": [
    "#### Equação de Gruebler\n",
    "\n",
    "$$ M = 3L - 2J - 3G $$\n",
    "\n",
    "Onde:\n",
    "\n",
    "$M$ = graus de liberdade ou mobilidade do mecanismo /\n",
    "$L$ = número de elos /\n",
    "$J$ = número de juntas /\n",
    "$G$ = número de elos fixados\n"
   ]
  },
  {
   "cell_type": "markdown",
   "metadata": {
    "slideshow": {
     "slide_type": "subslide"
    }
   },
   "source": [
    "Note que em qualquer mecanismo real, mesmo se mais de um elo da cadeia cinemática estiver fixado, o efeito líquido será criar um elo fixo maior, de ordem superior, por poder ter somente um plano fixo. Assim, $G$ é sempre um, e a equação de Gruebler muda para:\n",
    "\n",
    "$$ M = 3(L-1) - 2J $$\n",
    "\n",
    "\n",
    "O valor de $J$ deve indicar o valor de todas as juntas no mecanismo. Isto é, meias juntas contam como 1/2 porque removem apenas um GDL."
   ]
  },
  {
   "cell_type": "markdown",
   "metadata": {
    "slideshow": {
     "slide_type": "subslide"
    }
   },
   "source": [
    "Uma alternativa a esta equação é utilizarmos a modificação de **Kutzbach**:\n",
    "\n",
    "$$ M = 3(L-1) - 2J_1 - J_2 $$\n",
    "\n",
    "Onde:\n",
    "\n",
    "$M$ = graus de liberdade ou mobilidade\n",
    "$L$ = número de elos\n",
    "$J_1$ = número de juntas com 1GDL (completa)\n",
    "$J_2$ = número de juntas com 2 GDL (meia junta)"
   ]
  },
  {
   "cell_type": "markdown",
   "metadata": {
    "slideshow": {
     "slide_type": "subslide"
    }
   },
   "source": [
    "### Grau de liberdade (mobilidade) em mecanismos espaciais\n",
    "\n",
    "A aproximação usada para determinar a mobilidade de um mecanismo plano pode ser facilmente estendida para três dimensões.  \n",
    "$$ M = 6(L-1) - 5J_1 - 4J_2 - 3J_3 - 2J_4 - J_5 $$\n",
    "\n",
    "**Nesta disciplina, focaremos em mecanismos 2D.** "
   ]
  },
  {
   "cell_type": "markdown",
   "metadata": {
    "slideshow": {
     "slide_type": "slide"
    }
   },
   "source": [
    "## 2.6 Mecanismos e Estruturas"
   ]
  },
  {
   "cell_type": "markdown",
   "metadata": {
    "slideshow": {
     "slide_type": "subslide"
    }
   },
   "source": [
    "Os GDL de uma montagem de elos predizem completamente seu comportamento:\n",
    "* Se $GDL > 0$ a montagem será um mecanismo\n",
    "* Se $GDL = 0$ a montagem será uma estrutura\n",
    "* Se $GDL < 0$ a montagem será uma estrutura pré-carregada (estrutura hiperestática) "
   ]
  },
  {
   "cell_type": "code",
   "execution_count": 1,
   "metadata": {
    "slideshow": {
     "slide_type": "subslide"
    }
   },
   "outputs": [],
   "source": [
    "def M(L,J1,J2):\n",
    "    return 3*(L-1) - 2*J1 - J2"
   ]
  },
  {
   "cell_type": "markdown",
   "metadata": {
    "slideshow": {
     "slide_type": "subslide"
    }
   },
   "source": [
    "## Exemplos: \n",
    "\n",
    "Determine o número de graus de liberdade do sistema articulado representado nas figuras a seguir. Diga se retrata uma estrutura ou um mecanismo. \n",
    "\n",
    "![Exemplo 1](3barras.svg)"
   ]
  },
  {
   "cell_type": "code",
   "execution_count": 2,
   "metadata": {
    "slideshow": {
     "slide_type": "subslide"
    }
   },
   "outputs": [
    {
     "data": {
      "text/plain": [
       "0"
      ]
     },
     "execution_count": 2,
     "metadata": {},
     "output_type": "execute_result"
    }
   ],
   "source": [
    "M(3,3,0)"
   ]
  },
  {
   "cell_type": "markdown",
   "metadata": {
    "slideshow": {
     "slide_type": "subslide"
    }
   },
   "source": [
    "![Exemplo2](hiperestatica4barras.svg)"
   ]
  },
  {
   "cell_type": "code",
   "execution_count": 3,
   "metadata": {
    "slideshow": {
     "slide_type": "subslide"
    }
   },
   "outputs": [
    {
     "data": {
      "text/plain": [
       "-1"
      ]
     },
     "execution_count": 3,
     "metadata": {},
     "output_type": "execute_result"
    }
   ],
   "source": [
    "M(4,5,0)"
   ]
  },
  {
   "cell_type": "markdown",
   "metadata": {
    "slideshow": {
     "slide_type": "subslide"
    }
   },
   "source": [
    "![Exemplo3](4barras.svg)"
   ]
  },
  {
   "cell_type": "code",
   "execution_count": 4,
   "metadata": {
    "slideshow": {
     "slide_type": "subslide"
    }
   },
   "outputs": [
    {
     "data": {
      "text/plain": [
       "1"
      ]
     },
     "execution_count": 4,
     "metadata": {},
     "output_type": "execute_result"
    }
   ],
   "source": [
    "M(4,4,0)"
   ]
  },
  {
   "cell_type": "markdown",
   "metadata": {
    "slideshow": {
     "slide_type": "subslide"
    }
   },
   "source": [
    "![Exemplo4](4barrasB.svg)"
   ]
  },
  {
   "cell_type": "code",
   "execution_count": 5,
   "metadata": {
    "slideshow": {
     "slide_type": "subslide"
    }
   },
   "outputs": [
    {
     "data": {
      "text/plain": [
       "1"
      ]
     },
     "execution_count": 5,
     "metadata": {},
     "output_type": "execute_result"
    }
   ],
   "source": [
    "M(4,4,0)"
   ]
  },
  {
   "cell_type": "markdown",
   "metadata": {
    "slideshow": {
     "slide_type": "subslide"
    }
   },
   "source": [
    "![Exemplo5](3barrasB.svg) "
   ]
  },
  {
   "cell_type": "code",
   "execution_count": 6,
   "metadata": {
    "slideshow": {
     "slide_type": "subslide"
    }
   },
   "outputs": [
    {
     "data": {
      "text/plain": [
       "1"
      ]
     },
     "execution_count": 6,
     "metadata": {},
     "output_type": "execute_result"
    }
   ],
   "source": [
    "M(3,2,1)"
   ]
  },
  {
   "cell_type": "markdown",
   "metadata": {
    "slideshow": {
     "slide_type": "slide"
    }
   },
   "source": [
    "# 2.7 Número de Síntese"
   ]
  },
  {
   "cell_type": "markdown",
   "metadata": {
    "slideshow": {
     "slide_type": "subslide"
    }
   },
   "source": [
    "* O termo **número de síntese** tem sido usado para indicar a *determinação do número e ordem dos elos e juntas necessários para produzir movimento de um GDL particular.* \n",
    "* O valor do número de síntese permite a determinação exaustiva de todas as combinações possíveis de elos que vão resultar qualquer GDL escolhido."
   ]
  },
  {
   "cell_type": "markdown",
   "metadata": {
    "slideshow": {
     "slide_type": "subslide"
    }
   },
   "source": [
    "## Exemplo: \n",
    "Obter todas as possíveis combinações de elos para 1 GDL. A princípio, vamos considerar apenas as juntas rotativas. \n",
    "\n",
    "* Se todas as juntas forem completas, um número ímpar de GDL requer um número par de elos e vice-versa"
   ]
  },
  {
   "cell_type": "markdown",
   "metadata": {
    "slideshow": {
     "slide_type": "subslide"
    }
   },
   "source": [
    "A ordem dos elos será representada por: \n",
    "* $B$ = número de elos binários\n",
    "* $T$ = número de elos terciários\n",
    "* $Q$ = número de elos quaternários\n",
    "* $P$ = número de elos pentagonais\n",
    "* $H$ = número de elos hexagonais\n",
    "\n",
    "$$ L = B + T + Q + P + H $$"
   ]
  },
  {
   "cell_type": "markdown",
   "metadata": {
    "slideshow": {
     "slide_type": "subslide"
    }
   },
   "source": [
    "São necessários dois nós de elos para fazer uma junta:\n",
    "$$J = \\dfrac{nós}{2}$$\n",
    "Onde *nós = ordem do elo x número de elos daquela ordem*\n",
    "$$J = \\dfrac{(2B + 3T + 4Q + 5P + 6H + ...)}{2}$$"
   ]
  },
  {
   "cell_type": "markdown",
   "metadata": {
    "slideshow": {
     "slide_type": "subslide"
    }
   },
   "source": [
    "Substituindo na equação de Gruebler: \n",
    "$$ M = 3(B + T + Q + P + H -1) - 2 \\left( \\dfrac{2B + 3T + 4Q + 5P + 6H + ...}{2} \\right) $$\n",
    "$$ M = B - Q - 2P - 3H - 3$$\n",
    "\n",
    "* Observa-se que cada elo terciário só pode criar ou remover $3/2$ de elo. Logo, devemos somar ou subtrair os elos terciários em pares. A adição ou subtração de elos terciários em pares não afeta o GDL do mecanismo"
   ]
  },
  {
   "cell_type": "markdown",
   "metadata": {
    "slideshow": {
     "slide_type": "subslide"
    }
   },
   "source": [
    "Combinando a equação de Gruebler com a equação do número de juntas em função das ordens dos elos, obtemos:\n",
    "$$ \\dfrac{3}{2}(L-1) - \\dfrac{M}{2} = \\dfrac{(2B + 3T + 4Q + 5P + 6H)}{2} $$\n",
    "$$ 3L - 3 - M = T + 2Q + 3P + 4H $$\n",
    "\n",
    "Vamos resolver essas duas equações de modo simultâneo para determinar todas as combinações compatíveis de elos para 1 GDL."
   ]
  },
  {
   "cell_type": "markdown",
   "metadata": {
    "slideshow": {
     "slide_type": "subslide"
    }
   },
   "source": [
    "#### Caso 1 -> L = 2\n",
    "$$L - 4 = T + 2Q + 3P + 4H = -2 $$\n",
    "Impossível"
   ]
  },
  {
   "cell_type": "markdown",
   "metadata": {
    "slideshow": {
     "slide_type": "subslide"
    }
   },
   "source": [
    "#### Caso 2 -> L =4\n",
    "$$ L -4 = T +2Q + 3P + 4H = 0$$\n",
    "$$ L = B + 0 = 4 $$\n",
    "Para esse caso $B=4$. Temos então o mecanismo de 4 barras. "
   ]
  },
  {
   "cell_type": "markdown",
   "metadata": {
    "slideshow": {
     "slide_type": "subslide"
    }
   },
   "source": [
    "#### Caso 3 -> L = 6\n",
    "$$L-4 = T + 2Q + 3P + 4H = 2$$\n",
    "Então: $P=H=0$; $T$ tem de ser $0$, $1$ ou $2$; $Q$ deve ser somente $0$ ou $1$. \n",
    "* Se $Q=0$, então $T$ tem de ser $2$:\n",
    "    $L=B+2T + 0Q = 6 \\qquad B=4 \\qquad T=2$\n",
    "* Se $Q=1$, então $T$ tem de ser $2$:\n",
    "    $L=B + 0T + 1Q = 6 \\qquad B = 5 \\qquad Q=1$\n",
    "Observe que a primeira possibilidade é o mecanismo de 4 barras com 2 elos terciários."
   ]
  },
  {
   "cell_type": "markdown",
   "metadata": {
    "slideshow": {
     "slide_type": "subslide"
    }
   },
   "source": [
    "####  Caso 4 -> L = 8          \n",
    "![Tabela do número de síntese para 8 elos](nsintese.jpg)"
   ]
  },
  {
   "cell_type": "markdown",
   "metadata": {
    "slideshow": {
     "slide_type": "subslide"
    }
   },
   "source": [
    "![Tabela do número de síntese para 1GDL](nsintese2.jpg)"
   ]
  },
  {
   "cell_type": "markdown",
   "metadata": {
    "slideshow": {
     "slide_type": "slide"
    }
   },
   "source": [
    "# 2.8 Paradoxos"
   ]
  },
  {
   "cell_type": "markdown",
   "metadata": {
    "slideshow": {
     "slide_type": "subslide"
    }
   },
   "source": [
    "* A equação de Gruebler pode nos levar a resultados enganosos, por não levar em conta o comprimento e a forma dos elos. \n",
    "* Existem diversos casos de paradoxos que desobedecem a equação de Gruebler."
   ]
  },
  {
   "cell_type": "markdown",
   "metadata": {
    "slideshow": {
     "slide_type": "subslide"
    }
   },
   "source": [
    "![Exemplos de paradoxos](paradoxo1.jpg)"
   ]
  },
  {
   "cell_type": "markdown",
   "metadata": {
    "slideshow": {
     "slide_type": "subslide"
    }
   },
   "source": [
    "**É necessária uma análise completa dos movimentos do mecanismo para garantir a mobilidade**"
   ]
  },
  {
   "cell_type": "markdown",
   "metadata": {
    "slideshow": {
     "slide_type": "slide"
    }
   },
   "source": [
    "## 2.9 Isômeros"
   ]
  },
  {
   "cell_type": "markdown",
   "metadata": {
    "slideshow": {
     "slide_type": "subslide"
    }
   },
   "source": [
    "* Mecanismos isômeros são aqueles em que os elos tem vários nós disponíveis para ligar a outros nós de elos. \n",
    "\n",
    "* Dependendo das conexões particulares dos elos disponíveis, a montagem terá propriedades de movimento diferentes. \n",
    "\n",
    "* Um isômeros só é exclusivo se as interligações entre os tipos de elos forem diferentes. \n",
    "\n",
    "* As formas e os comprimentos dos elos não importam no critério de Gruebler, assim como a isomeria também não. "
   ]
  },
  {
   "cell_type": "markdown",
   "metadata": {
    "slideshow": {
     "slide_type": "subslide"
    }
   },
   "source": [
    "**Notação Condensada para Síntese de Estruturas** de Franke:\n",
    "\n",
    "1. Cada elo de ordem superior é mostrado como um círculo, com os números de nós escritos nele.\n",
    "2. Esse círculos são ligados com um número de linhas que saem de cada círculo que possui um número de nós iguais ao seu.\n",
    "3. Um número é colocado em cada linha para representar a quantidade de elos binários nessa conexão."
   ]
  },
  {
   "cell_type": "markdown",
   "metadata": {
    "slideshow": {
     "slide_type": "subslide"
    }
   },
   "source": [
    "![Exemplos de Isômeros](isomero1.png)"
   ]
  },
  {
   "cell_type": "markdown",
   "metadata": {
    "slideshow": {
     "slide_type": "subslide"
    }
   },
   "source": [
    "![Todos os 8 barras válidos de 1-GDL isoméricas](isomero2.jpg)"
   ]
  },
  {
   "cell_type": "markdown",
   "metadata": {
    "slideshow": {
     "slide_type": "slide"
    }
   },
   "source": [
    "## 2.10 Transformação de Mecanismos"
   ]
  },
  {
   "cell_type": "markdown",
   "metadata": {
    "slideshow": {
     "slide_type": "subslide"
    }
   },
   "source": [
    "Se considerarmos outros tipos de juntas além da junta de revolução, poderemos transformar esses mecanismos básicos em uma larga variedade de mecanismos muito mais úteis. "
   ]
  },
  {
   "cell_type": "markdown",
   "metadata": {
    "slideshow": {
     "slide_type": "fragment"
    }
   },
   "source": [
    "1. Juntas de revolução em qualquer loop podem ser trocadas por juntas prismáticas sem mudar o GDL do mecanismo, feito isso, pelo menos duas juntas de revolução vão sobrar no loop.\n",
    "2. Qualquer junta pode ser substituída por meia junta, mas isso vai aumentar em um o *GDL*.\n",
    "3. A remoção de um elo vai reduzir em um o *GDL*.\n",
    "4. A combinação das regras 2 e 3 acima vão deixar o *GDL* original inalterado.\n",
    "5. Qualquer elo terciário ou de ordem maior pode ser parcialmente \"encolhido\" para um de ordem menor fundindo os nós. Isso vai criar uma junta múltipla, mas não vai mudar o *GDL* do mecanismo.\n",
    "6. O completo encolhimento de um elo de ordem maior é equivalente à remoção. Uma junta múltipla será criada e o *GDL*, reduzido. "
   ]
  },
  {
   "cell_type": "markdown",
   "metadata": {
    "slideshow": {
     "slide_type": "subslide"
    }
   },
   "source": [
    "![Transformação de uma manivela seguidor de quatro barras em uma biela-manivela](transf1a.png)"
   ]
  },
  {
   "cell_type": "markdown",
   "metadata": {
    "slideshow": {
     "slide_type": "subslide"
    }
   },
   "source": [
    "![Transformando uma biela-manivela em um garfo escocês](transf1b.png)"
   ]
  },
  {
   "cell_type": "markdown",
   "metadata": {
    "slideshow": {
     "slide_type": "subslide"
    }
   },
   "source": [
    "![O mecanismo came seguidor tem um mecanismo equivalente de quatro barras](transf1c.png)"
   ]
  },
  {
   "cell_type": "markdown",
   "metadata": {
    "slideshow": {
     "slide_type": "subslide"
    }
   },
   "source": [
    "![](transf2.jpg)"
   ]
  },
  {
   "cell_type": "markdown",
   "metadata": {
    "slideshow": {
     "slide_type": "slide"
    }
   },
   "source": [
    "## 2.11 Movimento Intermitente"
   ]
  },
  {
   "cell_type": "markdown",
   "metadata": {
    "slideshow": {
     "slide_type": "subslide"
    }
   },
   "source": [
    "O **movimento intermitente** é uma sequência de movimentos e tempos de espera. Um **tempo de espera** é um período no qual o elo de saída se mantêm em estado estacionário, enquanto o elo de entrada continua se movendo. "
   ]
  },
  {
   "cell_type": "markdown",
   "metadata": {
    "slideshow": {
     "slide_type": "subslide"
    }
   },
   "source": [
    "### Mecanismos de Genebra"
   ]
  },
  {
   "cell_type": "markdown",
   "metadata": {
    "slideshow": {
     "slide_type": "fragment"
    }
   },
   "source": [
    "É um mecanismo de quatro barras transformado, no qual o acoplador foi substituido por uma meia junta. A manivela de entrada é tipicamente um motor com velocidade constante. A manivela tem um pino que entra em uma das fendas radias e faz com que a roda de Genebra vire dutante um trecho de uma revolução. Quando o pino deixa o canal, a roda de Genebra se mantém parada até que o pino entre no próximo canal. O resultado é a rotação intermitente da roda de Genebra.<br>\n",
    "O número de canais determina o número de paradas do mecanismo.\n",
    "\n",
    "[Youtube - Roda de Genebra](https://www.youtube.com/watch?v=Le-PVXUCl0M&list=PLeUgPx38mX9QMwDpImVD1asQShjmzOodL&index=8)"
   ]
  },
  {
   "cell_type": "markdown",
   "metadata": {
    "slideshow": {
     "slide_type": "subslide"
    }
   },
   "source": [
    "![Roda de Genebra](genebra1.png)"
   ]
  },
  {
   "cell_type": "markdown",
   "metadata": {
    "slideshow": {
     "slide_type": "subslide"
    }
   },
   "source": [
    "### Catraca e Lingueta"
   ]
  },
  {
   "cell_type": "markdown",
   "metadata": {
    "slideshow": {
     "slide_type": "fragment"
    }
   },
   "source": [
    "A **lingueta direcionadora** gira a roda de catraca no sentido anti-horário e não faz nada no retorno (sentido horário). <br>\n",
    "A **lingueta de travamento** evita que a catraca inverta a direção enquanto a lingeta direcionadora retorna. "
   ]
  },
  {
   "cell_type": "markdown",
   "metadata": {
    "slideshow": {
     "slide_type": "subslide"
    }
   },
   "source": [
    "![Catraca](catraca.png)"
   ]
  },
  {
   "cell_type": "markdown",
   "metadata": {
    "slideshow": {
     "slide_type": "subslide"
    }
   },
   "source": [
    "### Mecanismo Linear de Genebra"
   ]
  },
  {
   "cell_type": "markdown",
   "metadata": {
    "slideshow": {
     "slide_type": "fragment"
    }
   },
   "source": [
    "Existe também uma variação do mecanismo de Genebra que tem saída linear de translação. "
   ]
  },
  {
   "cell_type": "markdown",
   "metadata": {
    "slideshow": {
     "slide_type": "subslide"
    }
   },
   "source": [
    "![Genebra Linear](genebra2.png)"
   ]
  },
  {
   "cell_type": "markdown",
   "metadata": {
    "slideshow": {
     "slide_type": "slide"
    }
   },
   "source": [
    "## 2.12 Inversão"
   ]
  },
  {
   "cell_type": "markdown",
   "metadata": {
    "slideshow": {
     "slide_type": "subslide"
    }
   },
   "source": [
    "Uma **inversão** é criada pelo fato de aterrar um elo diferente na cadeia cinemática. Assim, existem tantas inversões quanto o número de elos existentes no mecanismo. <br>\n",
    "Os movimentos resultantes de cada inversão podem ser bastante diferentes, mas algumas inversões de uma ligação podem produzir movimentos semelhantes a outras inversões da mesma ligação. <br>\n",
    "Denotaremos as inversões que têm movimentos distintamente diferentes como **inversões distintas**. "
   ]
  },
  {
   "cell_type": "markdown",
   "metadata": {
    "slideshow": {
     "slide_type": "subslide"
    }
   },
   "source": [
    "![Inversões](inv2.jpg)"
   ]
  },
  {
   "cell_type": "markdown",
   "metadata": {
    "slideshow": {
     "slide_type": "slide"
    }
   },
   "source": [
    "## 2.13 Condição de Grashof"
   ]
  },
  {
   "cell_type": "markdown",
   "metadata": {},
   "source": [
    "O **mecanismos de quatro barras** com junta pinada é o mais simples possível para movimentos de um grau de liberdade. Ele é o dispositivo mais comum e usual em mecanismos e possui uma grande diversidade de movimentos que pode gerar. <br>\n",
    "**O mecanismo de quatro barras deve estar entre as primeiras soluções para os problemas de controle de movimento a serem investigadas.**"
   ]
  },
  {
   "cell_type": "markdown",
   "metadata": {},
   "source": [
    "A condição de Grashof prevê a condição de rotação ou rotatividade de inversões do mecanismo de quatro barras com base apenas no comprimento dos elos.\n",
    "$$S + L \\leq P + Q$$\n",
    "Onde: <br>\n",
    "$S =$ comprimento do elo menor <br>\n",
    "$L =$ comprimento do elo maior <br>\n",
    "$P =$ comprimento do elo remanescente <br>\n",
    "$Q =$ comprimento do outro elo remanescente."
   ]
  },
  {
   "cell_type": "markdown",
   "metadata": {},
   "source": [
    "* Cadeia cinemática de Classe I, $S + L < P + Q$:\n",
    "     - A montagem atende a condição de Grashof -> pelo menos um dos elos é capaz de fazer uma revolução completa em torno do elo de referência. \n",
    "* Cadeia cinemática de Classe II, $S + L > P + Q$:\n",
    "     - A condição de Grashof não é atendida -> nenhum elo será capaz de girar totalmente em torno do elo de referência. \n",
    "* Cadeia cinemática de Classe III, $S + L = P + Q$:\n",
    "    - Configuração incerta -> Terão dois pontos de mudança para cada revolução da manivela de entrada quando os elos ficarem colineares; "
   ]
  },
  {
   "cell_type": "markdown",
   "metadata": {},
   "source": [
    "Os movimentos possíveis para o mecanimos de quatro barras vão depender da condição de Grashof e da inversão escolhida.  <br>\n",
    "A condição de Grashof não apresenta nenhum ponto negativo nem positivo. Cada mecanismo de todas as três condições é útil para determinada aplicação"
   ]
  },
  {
   "cell_type": "code",
   "execution_count": 13,
   "metadata": {},
   "outputs": [],
   "source": [
    "S = 1\n",
    "L = 1\n",
    "P = 1 \n",
    "Q = 1\n",
    "\n",
    "def CondGrashof(S,L,P,Q):\n",
    "    if (S + L) < (P + Q):\n",
    "        return print('Mecanismo de Classe I')\n",
    "    elif (S + L) > (P + Q):\n",
    "        return print ('Mecanismo de Classe II')\n",
    "    else: \n",
    "        return print('Mecanismo de Classe III')"
   ]
  },
  {
   "cell_type": "code",
   "execution_count": 14,
   "metadata": {},
   "outputs": [
    {
     "name": "stdout",
     "output_type": "stream",
     "text": [
      "Mecanismo de Classe III\n"
     ]
    }
   ],
   "source": [
    "CondGrashof(S,L,P,Q)"
   ]
  },
  {
   "cell_type": "markdown",
   "metadata": {},
   "source": [
    "[Site de animações do mecanismo de 4 barras](https://dynref.engr.illinois.edu/aml.html)"
   ]
  },
  {
   "cell_type": "markdown",
   "metadata": {},
   "source": [
    "### Classificação dos mecanismos de quatro barras\n",
    "\n",
    "Barker desenvolveu um esquema de classificação que permite prever o tipo de movimento esperado de um mecanismo de quatro barras com base no valor da razão entre os elos.<br>\n",
    "\n",
    "$$\\lambda_1 = r_1/r_2$$\n",
    "$$\\lambda_3 = r_3/r_2 $$\n",
    "$$\\lambda_4 = r_4/r_2$$\n",
    "Onde $r_1$ é o elo fixado, $r_2$ é o elo motor, $r_3$ é o elo acoplador e $r_4$ é o elo de saída. \n"
   ]
  },
  {
   "cell_type": "markdown",
   "metadata": {},
   "source": [
    "Para cada elo, será também atribuída uma letra de designação baseada no tipo de movimento quando conectado com outros elos. \n",
    "* M -> manivela: o elo pode fazer uma rotação completa em relação aos outros elos\n",
    "* S -> seguidor: o elo não pode fazer uma rotação completa em relação aos outros elos\n",
    "* G (prefixo) -> mecanismo de Grashof\n",
    "* C (prefixo) -> caso especial de Grashof\n",
    "* sem prefixo indica um mecanismo não Grashof"
   ]
  },
  {
   "cell_type": "markdown",
   "metadata": {},
   "source": [
    "![Barker](Barker1.jpg)"
   ]
  },
  {
   "cell_type": "markdown",
   "metadata": {},
   "source": [
    "**Observação:** <br>\n",
    "Para que os elos sejam montados: $L < (S+P+Q)$ <br>\n",
    "Se $L = (S + P + Q)$, então os elos podem ser montados, porém não se moverão. "
   ]
  },
  {
   "cell_type": "markdown",
   "metadata": {},
   "source": [
    "## 2.14 Montagens com Mais de Quatro Barras"
   ]
  },
  {
   "cell_type": "markdown",
   "metadata": {},
   "source": [
    "### Mecanismo de cinco barras engrenados\n",
    "O mecanismo de 5 barras engrenado proporciona movimentos mais complexos do que os de quatro barras graças ao elo adicionado e ao jogo de engrenagens.\n"
   ]
  },
  {
   "cell_type": "markdown",
   "metadata": {},
   "source": [
    "![5 barras](5barras1.jpg)"
   ]
  },
  {
   "cell_type": "markdown",
   "metadata": {},
   "source": [
    "### Mecanismos de seis barras\n",
    "O mecanismo de seis barras de Watt pode ser visto como dois mecanismos de quatro barras conectados em série compartilhando dois elos.<br>\n",
    "O mecanismo de seis barras de Stephenson pode ser visto como dois mecanismos de quatro barras conectados em paralelo compartilhando dois elos. <br>\n",
    "**Muitos problemas reais de projeto exigirão soluções constituídas por mais do que quatro barras.**"
   ]
  },
  {
   "cell_type": "markdown",
   "metadata": {},
   "source": [
    "### Critério de rotacionalidade do tipo Grashof para mecanismos de ordem superior\n",
    "* Rotacionalidade: é a habilidade de pelo menos um dos elos da cadeia cinemática conseguir completar uma revolução em relação aos outros elos e define a cadeia como Classe I, II e III. \n",
    "* Capacidade de revolução: refere-se a um elo específico de uma cadeia e indica ele é um dos elos que consegue rotacionar. "
   ]
  },
  {
   "cell_type": "markdown",
   "metadata": {},
   "source": [
    "#### Rotacionalidade de um mecanismo de N-barras\n",
    "Denotamos os elos de um mecanismo de N-barras como $L_i(i=1,2,...,N)$ com $L_1 \\leq L_2... \\leq L_N$. Os elos não precisam estar conectados em uma determinada ordem. <br>\n",
    "Um mecanismo de uma única volta com junta de revolução de $N$ elos terá $(N-3)$ $GDL$. A condição necessária e suficiente para a montagem de um mecanismo de N-barras é:\n",
    "$$ L_N \\leq \\sum^{N-1}_{k=1}L_k$$"
   ]
  },
  {
   "cell_type": "markdown",
   "metadata": {},
   "source": [
    "Haverá três elos maiores e $N-3$ elos menores em qualquer mecanismo desse tipo.<br>\n",
    "* Classe I: $L_N + (L_1 + L_2 + ...+ L_{N-3}) < L_{N-2} + L_{N-1}$ \n",
    "* Classe II: $L_N + (L_1 + L_2 + ...+ L_{N-3}) > L_{N-2} + L_{N-1}$ \n",
    "* Classe III: $L_N + (L_1 + L_2 + ...+ L_{N-3}) = L_{N-2} + L_{N-1}$ "
   ]
  },
  {
   "cell_type": "markdown",
   "metadata": {},
   "source": [
    "A capacidade de revolução de qualquer elo $L$, é definida como a habilidade de rotacionar completamente em relação aos outros elos da cadeia:\n",
    "$$ L_i + L_N \\leq \\sum^{N-1}_{k=1,k \\neq i} L_k $$"
   ]
  },
  {
   "cell_type": "markdown",
   "metadata": {},
   "source": [
    "## 2.15 Elos de Molas"
   ]
  },
  {
   "cell_type": "markdown",
   "metadata": {},
   "source": [
    "Muitos mecanismos utilizam molas para contrabalancear as cargas estáticas. Em certos casos, a mola atua para reduzir o *GDL* do mecanismos para zero. Entretanto, o sistema pode volar a ter 1 *GDL* quando a força da mola é superada. <br>\n",
    "Uma mola linear pode ser caracterizada pela constante de mola,$k = F/x$."
   ]
  },
  {
   "cell_type": "markdown",
   "metadata": {},
   "source": [
    "## 2.16 Mecanismos Flexíveis (Elásticos)"
   ]
  },
  {
   "cell_type": "markdown",
   "metadata": {},
   "source": [
    "Mecanismos flexíveis podem oferecer movimentos similares com um número menor de partes e (até nulo) de juntas físicas. <br> \n",
    "Um membro ou um \"elo\" flexível é capaz de uma siginificante deflexão na resposta às cargas. <br> \n",
    "[Vídeo sobre mecanismos flexíveis](https://www.youtube.com/watch?v=97t7Xj_iBv0) (é possível ativar legendas em português) "
   ]
  },
  {
   "cell_type": "markdown",
   "metadata": {},
   "source": [
    "![Mecanismo flexível 1](compliant.jpg)"
   ]
  },
  {
   "cell_type": "markdown",
   "metadata": {},
   "source": [
    "![Mecanismo flexível 2](compliant2.jpg)"
   ]
  },
  {
   "cell_type": "markdown",
   "metadata": {},
   "source": [
    "## 2.17 Sistemas Microeletromecânicos (MEMS)"
   ]
  },
  {
   "cell_type": "markdown",
   "metadata": {},
   "source": [
    "Esses dispositivos possuem dimensões medidas com micrômetros e com microequipamentos que abrangem de alguns micrômetros até alguns milímetros. "
   ]
  },
  {
   "cell_type": "markdown",
   "metadata": {},
   "source": [
    "![MEMS](mems1.jpg)"
   ]
  },
  {
   "cell_type": "markdown",
   "metadata": {},
   "source": [
    "## 2.18 Considerações Práticas"
   ]
  },
  {
   "cell_type": "markdown",
   "metadata": {},
   "source": [
    "Há muitos fatores que precisam ser considerados para criar projetos de boa qualidade. <br>\n",
    "No projeto é envolvida grande parte da **arte baseada na experiência**. "
   ]
  },
  {
   "cell_type": "markdown",
   "metadata": {},
   "source": [
    "### Juntas pinadas *versus* juntas deslizantes e juntas cilíndricas (meias juntas)\n",
    "A seleção do material apropriado e uma boa lubrificação são as chaves para uma vida longa em qualquer situação. <br>\n",
    "Uma interface onde há o atrito entre dois materiais é chamada de **mancal**. "
   ]
  },
  {
   "cell_type": "markdown",
   "metadata": {},
   "source": [
    "#### Juntas de revolução (por pinos)"
   ]
  },
  {
   "cell_type": "markdown",
   "metadata": {},
   "source": [
    "#### Juntas prismáticas (deslizantes)"
   ]
  },
  {
   "cell_type": "markdown",
   "metadata": {},
   "source": [
    "#### Juntas (meia) superiores"
   ]
  },
  {
   "cell_type": "markdown",
   "metadata": {},
   "source": [
    "### Montagem em balanço ou biapoiada? "
   ]
  },
  {
   "cell_type": "markdown",
   "metadata": {},
   "source": [
    "## 2.19 Motores e Acionadores"
   ]
  },
  {
   "cell_type": "markdown",
   "metadata": {},
   "source": [
    "A não ser quando for operado manualmente, um mecanimos necessitará de um tipo de dispositivo acionador para fornecer a movimentação e energias iniciais. "
   ]
  },
  {
   "cell_type": "markdown",
   "metadata": {},
   "source": [
    "![Motores](motores1.jpg)"
   ]
  },
  {
   "cell_type": "markdown",
   "metadata": {},
   "source": [
    "* Motores CC\n",
    "* Motores CA\n",
    "* Motorredutores\n",
    "* Motores de passo\n",
    "* Servomotores\n",
    "* Motores hidráulicos e pneumáticos\n",
    "* Solenoides"
   ]
  }
 ],
 "metadata": {
  "kernelspec": {
   "display_name": "Python 3",
   "language": "python",
   "name": "python3"
  },
  "language_info": {
   "codemirror_mode": {
    "name": "ipython",
    "version": 3
   },
   "file_extension": ".py",
   "mimetype": "text/x-python",
   "name": "python",
   "nbconvert_exporter": "python",
   "pygments_lexer": "ipython3",
   "version": "3.8.5"
  }
 },
 "nbformat": 4,
 "nbformat_minor": 4
}
