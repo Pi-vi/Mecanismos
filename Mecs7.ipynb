{
 "cells": [
  {
   "cell_type": "markdown",
   "metadata": {
    "slideshow": {
     "slide_type": "slide"
    }
   },
   "source": [
    "# 7. Análise de Aceleração\n",
    "Professor Paulo Victor <br>\n",
    "e-mail: paulo.gomes@cefet-rj.br <br>\n",
    "CEFET/RJ Campus Angra dos Reis - Sala 6E"
   ]
  },
  {
   "cell_type": "markdown",
   "metadata": {
    "slideshow": {
     "slide_type": "subslide"
    }
   },
   "source": [
    "Uma vez que a análise de velocidade tenha sido feita, o próximo passo é determinar a aceleração de todos os elos e pontos de interessa do mecanismo ou máquina. Precisamos conhecer as acelerações para calcular as forças dinâmicas a partir de $\\vec{F} = m \\vec{a}$. Existem muitos métodos e abordagens para a determinação da aceleração de mecanismos. Examinaremos aqui apenas alguns desses métodos."
   ]
  },
  {
   "cell_type": "markdown",
   "metadata": {
    "slideshow": {
     "slide_type": "slide"
    }
   },
   "source": [
    "## 7.1 Definição de Aceleração"
   ]
  },
  {
   "cell_type": "markdown",
   "metadata": {
    "slideshow": {
     "slide_type": "subslide"
    }
   },
   "source": [
    "A aceleração é definida como a taxa de variação da velocidade.\n",
    "$$ \\alpha = \\dfrac{d \\omega}{dt}; \\qquad \\vec{A} = \\dfrac{d \\vec{V}}{dt} $$"
   ]
  },
  {
   "cell_type": "markdown",
   "metadata": {
    "slideshow": {
     "slide_type": "subslide"
    }
   },
   "source": [
    "![](fig7-1.jpg)\n",
    "\n",
    "$$\\vec{R}_{PA} = p e^{i \\theta}$$\n",
    "$$ \\vec{V}_{PA} = p i e^{i \\theta}\\dfrac{d \\theta}{dt} = p \\omega i e^{i \\theta}$$\n",
    "Podemos obter a aceleração do ponto $P$ como: \n",
    "$$\\vec{A}_{PA} = \\dfrac{d \\vec{V}_{PA}}{dt} = \\dfrac{d \\left( p \\omega i e^{i \\theta} \\right)}{dt}$$\n",
    "$$\\vec{A}_{PA} = i p \\left( e^{i \\theta} \\dfrac{d \\omega}{dt} + \\omega i e^{i \\theta}\\dfrac{d \\theta}{dt}\\right)$$\n",
    "$$\\vec{A}_{PA} = p \\alpha i e^{i \\theta} - p\\omega^{2}e^{i \\theta}$$\n",
    "$$\\vec{A}_{PA} = \\vec{A}{}^{t}_{PA} + \\vec{A}{}^{n}_{PA}$$\n",
    "\n",
    "Essa aceleração pode ser referida como a **aceleração absoluta**. Como tal, poderíamos tê-la referido como $\\vec{A}_{P}$."
   ]
  },
  {
   "cell_type": "markdown",
   "metadata": {
    "slideshow": {
     "slide_type": "subslide"
    }
   },
   "source": [
    "![](fig7-2.jpg)\n",
    "$$\\vec{A}_{P} = \\vec{A}_{A} + \\vec{A}_{PA}$$\n",
    "$$\\left(\\vec{A}{}^{t}_{P} + \\vec{A}{}^{n}_{P}\\right) = \\left(\\vec{A}{}^{t}_{A} + \\vec{A}{}^{n}_{A}\\right) + \\left(\\vec{A}{}^{t}_{PA} + \\vec{A}{}^{n}_{PA}\\right)$$\n",
    "\n",
    "* Dois pontos no mesmo corpo: **diferença de aceleração**\n",
    "* Dois pontos em corpos diferentes: **aceleração relativa**"
   ]
  },
  {
   "cell_type": "markdown",
   "metadata": {
    "slideshow": {
     "slide_type": "slide"
    }
   },
   "source": [
    "## 7.2 Análise Gráfica de Acelerações"
   ]
  },
  {
   "cell_type": "markdown",
   "metadata": {
    "slideshow": {
     "slide_type": "subslide"
    }
   },
   "source": [
    "$$| \\vec{A}{}^{t} | = A^t = r \\alpha$$\n",
    "$$| \\vec{A}{}^{n} | = r \\omega^2 $$"
   ]
  },
  {
   "cell_type": "markdown",
   "metadata": {
    "slideshow": {
     "slide_type": "subslide"
    }
   },
   "source": [
    "![](fig7-4.jpg)\n",
    "\n",
    "Para resolvermos esse problema, precisamos conhecer o comprimento de todos os elos, a posição angular de todos os elos, a velocidade angular de todos os elos e a aceleração angular de todos os elos e a aceleração instantânea de entrada de qualquer elo acionado ou ponto motriz. Assumindo que projetamos esse mecanismo, poderemos então conhecer o comprimento dos elos. Precisamos, inicialmente, fazer uma **análise completa da posição e da velocidade** para encontrar os ângulos dos elos $\\theta_3$ e $\\theta_4$ e as velocidades angulares $\\omega_3$ e $\\omega_4$ dada a posição inicial do elo $\\theta_2$, a velocidade angular inicial $\\omega_2$, e a aceleração inicial $\\alpha_2$. \n",
    "\n",
    "**Problema:** Dados $\\theta_2$, $\\theta_3$, $\\theta_4$, $\\omega_2$, $\\omega_3$, $\\omega_4$ e $\\alpha_2$, encontre $\\alpha_3$, $\\alpha_4$, $\\vec{A}_{A}$, $\\vec{A}_{B}$, $\\vec{A}_{P}$ por métodos gráficos. \n",
    "\n"
   ]
  },
  {
   "cell_type": "markdown",
   "metadata": {
    "slideshow": {
     "slide_type": "subslide"
    }
   },
   "source": [
    "**Solução:**\n",
    "\n",
    "1. Comece no final do elo do qual você tem mais informação. Calcule a magnitude das componentes centrípetas e tangencial da aceleração no ponto $A$ utilizando: $$A^{n}_{A} = (AO_2)\\omega^2 \\qquad A^{t}_A = (AO_2)\\alpha_2$$\n",
    "2. No diagrama do mecanismo, desenhe os vetores das componentes de aceleração $\\vec{A}{}^{n}_{A}$ e $\\vec{A}{}^{t}_{A}$ com seus comprimentos iguais às suas magnitudes em uma escala conveniente. Posicione suas bases no ponto $A$ com suas direções junto e perpendiculares ao raio $AO_2$. O sentido de $\\vec{A}{}^{t}_{A}$ é definido por $\\alpha_2$ (de acordo com a regra da mão direita), e o sentido de $\\vec{A}{}^{n}_{A}$ é o oposto ao sentido do vetor $\\vec{R}_A$. \n",
    "3. Mova para o próximo ponto do qual você tem alguma informação, como $B$ no elo 4. Note que as direções das componentes tangencial e normal da aceleração do ponto $B$ são previsíveis, visto que esse elo está em rotação pura em torno do ponto $O_4$. Desenhe a linha de construção $pp$ através do ponto $B$, perpendicular a $BO_4$, para representar a direção de $\\vec{A}^{t}_{B}$. \n",
    "4. Escreva a equação do vetor diferença de acelerações para o ponto $B$ versus o ponto $A$. $$\\vec{A}_B = \\vec{A}_A + \\vec{A}_{BA}$$ Substitua as componentes normal e tangencial para cada termo: $$\\left(\\vec{A}{}^{t}_{B} + \\vec{A}{}^{n}_{B}\\right) = \\left(\\vec{A}{}^{t}_{A} + \\vec{A}{}^{n}_{A}\\right) + \\left(\\vec{A}{}^{t}_{BA} + \\vec{A}{}^{n}_{BA}\\right)$$ Iremos utilizar o ponto $A$ como referência para encontrar $\\vec{A}_B$ porque $A$ econtra-se no mesmo elo que $B$.\n",
    "5. A magnitude de $\\vec{A}{}^{n}_{BA}$ pode ser calculada. A direção de $\\vec{A}{}^{t}_{BA}$deve então ser perpendicular à linha $BA$. Desenhe a linha de construção $pp$ através do ponto $B$ e perpendicular a $BA$ para representar a direção de $\\vec{A}{}^{t}_{BA}$. A magnitude e direção calculadas do componente $\\vec{A}{}^{n}_{BA}$ e a direção conhecida de $\\vec{A}^{t}_{BA}$ nos fornecem os três parâmetros adicionais necessários. \n",
    "6. Agora a equação vetorial pode ser resolvida graficamente por meio do desenho de um diagrama vetorial. Instrumentos de desenho ou pacotes CAD são necessários nessa etapa. A estratégia é desenhar primeiro todos os vetores dos quais conhecemos a magnitude e a direção. \n",
    "    Primeiro, desenhe os vetores aceleração $\\vec{A}{}^{n}_{A}$ e $\\vec{A}{}^{t}_{A}$, respeitando uma escala e mantendo suas direções. Note que a soma desses dois componentes é o vetor $\\vec{A}_A$. A equação da etapa 4 nos diz para adicionarmos $\\vec{A}_{BA}$ à $\\vec{A}_A$. Como conhecemos $\\vec{A}{}^{n}_{BA}$, podemos desenhar esse componente no final de $\\vec{A}_A$. Conhecemos também $\\vec{A}{}^{n}_{B}$, porém, como esse componente se encontra no lado esquerdo da equação, devemos subtraí-lo. Desenhe o negativo (o sentido oposto) de $\\vec{A}{}^{n}_{B}$ no final de $\\vec{A}{}^{n}_{BA}$. \n",
    "    Isso finaliza a determinação dos componentes com magnitude e direção conhecidas. Nossas incógnitas remanescentes são as direções de $\\vec{A}{}^{t}_{B}$ e $\\vec{A}{}^{t}_{BA}$ que se encontram ao longo das linhas $pp$ e $qq$, respectivamente. Desenhe uma linha paralela à linha $pp$ através da ponta do diagrama vetorial a partir da base (raiz) do primeiro vetor desenhado ($\\vec{A}_{A}$) até a ponta da seta do último, portanto, desenhe uma linha paralela a $pp$ através da base de $\\vec{A}_{A}$. A interseção dessas linhas, paralelas a $pp$ e a $qq$, definem os comprimentos de $\\vec{A}{}^{t}_{B}$ e $\\vec{A}{}^{t}_{BA}$. O vetor $\\vec{A}_{B}$ é a resultante.\n",
    "7. A aceleração angular dos elos 3 e 4 podem ser calculados da seguinte forma: $$\\alpha_4 = \\dfrac{A^{t}_{B}}{BO_4} \\qquad \\alpha_3 = \\dfrac{A^{t}_{BA}}{BA}$$\n",
    "8. Finalmente, podemos determinar $\\vec{A}_C$. Selecionamos qualquer ponto do elo 3, cuja velocidade absoluta é conhecida, como referência, por exemplo, o ponto $A$. $$\\vec{A}_C = \\vec{A}_A + \\vec{A}_{CA}$$ Nesse caso, podemos calcular a magnitude de $\\vec{A}{}^{t}_{CA}$, pois já determinamos $\\alpha_3$, $$A^{t}_{CA} = c \\alpha_3$$ A magnitude do componente $\\vec{A}{}^{n}_{CA}$ pode ser encontrada usando $\\omega_3$. $$A^{n}_{CA} = c \\omega_3^2$$ Uma vez que $\\vec{A}_A$ e $\\vec{A}_{CA}$ são conhecidos, o diagrama vetorial pode ser imediatamente desenhado. O vetor $\\vec{A}_C$ é a resultante que fecha o diagrama vetorial. \n",
    "    "
   ]
  },
  {
   "cell_type": "markdown",
   "metadata": {
    "slideshow": {
     "slide_type": "slide"
    }
   },
   "source": [
    "## 7.3 Soluções Analíticas para a Análise de Acelerações"
   ]
  },
  {
   "cell_type": "markdown",
   "metadata": {
    "slideshow": {
     "slide_type": "subslide"
    }
   },
   "source": [
    "![](fig7-5.jpg)"
   ]
  },
  {
   "cell_type": "markdown",
   "metadata": {
    "slideshow": {
     "slide_type": "fragment"
    }
   },
   "source": [
    "Equação vetorial de malha fechada:\n",
    "$$\\vec{R}_2 + \\vec{R}_3 - \\vec{R}_4 - \\vec{R}_1 = 0 $$"
   ]
  },
  {
   "cell_type": "markdown",
   "metadata": {
    "slideshow": {
     "slide_type": "subslide"
    }
   },
   "source": [
    "Como antes, substituímos os vetores para a notação de números complexos, nomeando os seus comprimentos escalares como $a$, $b$, $c$, $d$. "
   ]
  },
  {
   "cell_type": "code",
   "execution_count": 1,
   "metadata": {
    "slideshow": {
     "slide_type": "fragment"
    }
   },
   "outputs": [],
   "source": [
    "from sympy import *"
   ]
  },
  {
   "cell_type": "code",
   "execution_count": 2,
   "metadata": {
    "slideshow": {
     "slide_type": "fragment"
    }
   },
   "outputs": [],
   "source": [
    "a,b,c,d,t,theta1= symbols('a b c d t theta1')\n",
    "theta2 = Function('theta2')(t)\n",
    "theta3 = Function('theta3')(t)\n",
    "theta4 = Function('theta4')(t)\n",
    "e = E\n",
    "i = I"
   ]
  },
  {
   "cell_type": "code",
   "execution_count": 3,
   "metadata": {
    "slideshow": {
     "slide_type": "fragment"
    }
   },
   "outputs": [
    {
     "data": {
      "text/latex": [
       "$\\displaystyle a e^{i \\theta_{2}{\\left(t \\right)}} + b e^{i \\theta_{3}{\\left(t \\right)}} - c e^{i \\theta_{4}{\\left(t \\right)}} - d e^{i \\theta_{1}}$"
      ],
      "text/plain": [
       "a*exp(I*theta2(t)) + b*exp(I*theta3(t)) - c*exp(I*theta4(t)) - d*exp(I*theta1)"
      ]
     },
     "execution_count": 3,
     "metadata": {},
     "output_type": "execute_result"
    }
   ],
   "source": [
    "Eq1 = a*e**(i*theta2) + b*e**(i*theta3) - c*e**(i*theta4) - d*e**(i*theta1)\n",
    "Eq1"
   ]
  },
  {
   "cell_type": "code",
   "execution_count": 4,
   "metadata": {
    "slideshow": {
     "slide_type": "fragment"
    }
   },
   "outputs": [
    {
     "data": {
      "text/latex": [
       "$\\displaystyle i a e^{i \\theta_{2}{\\left(t \\right)}} \\frac{d}{d t} \\theta_{2}{\\left(t \\right)} + i b e^{i \\theta_{3}{\\left(t \\right)}} \\frac{d}{d t} \\theta_{3}{\\left(t \\right)} - i c e^{i \\theta_{4}{\\left(t \\right)}} \\frac{d}{d t} \\theta_{4}{\\left(t \\right)}$"
      ],
      "text/plain": [
       "I*a*exp(I*theta2(t))*Derivative(theta2(t), t) + I*b*exp(I*theta3(t))*Derivative(theta3(t), t) - I*c*exp(I*theta4(t))*Derivative(theta4(t), t)"
      ]
     },
     "execution_count": 4,
     "metadata": {},
     "output_type": "execute_result"
    }
   ],
   "source": [
    "Eq2 = Eq1.diff(t)\n",
    "Eq2"
   ]
  },
  {
   "cell_type": "code",
   "execution_count": 5,
   "metadata": {
    "slideshow": {
     "slide_type": "fragment"
    }
   },
   "outputs": [],
   "source": [
    "omega2 = Function('omega2')(t)\n",
    "omega3 = Function('omega3')(t)\n",
    "omega4 = Function('omega4')(t)\n",
    "dic_omega = {theta2.diff(t):omega2,theta3.diff(t):omega3,theta4.diff(t):omega4}"
   ]
  },
  {
   "cell_type": "code",
   "execution_count": 6,
   "metadata": {
    "slideshow": {
     "slide_type": "fragment"
    }
   },
   "outputs": [
    {
     "data": {
      "text/latex": [
       "$\\displaystyle i a \\omega_{2}{\\left(t \\right)} e^{i \\theta_{2}{\\left(t \\right)}} + i b \\omega_{3}{\\left(t \\right)} e^{i \\theta_{3}{\\left(t \\right)}} - i c \\omega_{4}{\\left(t \\right)} e^{i \\theta_{4}{\\left(t \\right)}}$"
      ],
      "text/plain": [
       "I*a*omega2(t)*exp(I*theta2(t)) + I*b*omega3(t)*exp(I*theta3(t)) - I*c*omega4(t)*exp(I*theta4(t))"
      ]
     },
     "execution_count": 6,
     "metadata": {},
     "output_type": "execute_result"
    }
   ],
   "source": [
    "Eq2 = Eq2.subs(dic_omega)\n",
    "Eq2"
   ]
  },
  {
   "cell_type": "code",
   "execution_count": 7,
   "metadata": {
    "slideshow": {
     "slide_type": "fragment"
    }
   },
   "outputs": [
    {
     "data": {
      "text/latex": [
       "$\\displaystyle - a \\omega_{2}{\\left(t \\right)} e^{i \\theta_{2}{\\left(t \\right)}} \\frac{d}{d t} \\theta_{2}{\\left(t \\right)} + i a e^{i \\theta_{2}{\\left(t \\right)}} \\frac{d}{d t} \\omega_{2}{\\left(t \\right)} - b \\omega_{3}{\\left(t \\right)} e^{i \\theta_{3}{\\left(t \\right)}} \\frac{d}{d t} \\theta_{3}{\\left(t \\right)} + i b e^{i \\theta_{3}{\\left(t \\right)}} \\frac{d}{d t} \\omega_{3}{\\left(t \\right)} + c \\omega_{4}{\\left(t \\right)} e^{i \\theta_{4}{\\left(t \\right)}} \\frac{d}{d t} \\theta_{4}{\\left(t \\right)} - i c e^{i \\theta_{4}{\\left(t \\right)}} \\frac{d}{d t} \\omega_{4}{\\left(t \\right)}$"
      ],
      "text/plain": [
       "-a*omega2(t)*exp(I*theta2(t))*Derivative(theta2(t), t) + I*a*exp(I*theta2(t))*Derivative(omega2(t), t) - b*omega3(t)*exp(I*theta3(t))*Derivative(theta3(t), t) + I*b*exp(I*theta3(t))*Derivative(omega3(t), t) + c*omega4(t)*exp(I*theta4(t))*Derivative(theta4(t), t) - I*c*exp(I*theta4(t))*Derivative(omega4(t), t)"
      ]
     },
     "execution_count": 7,
     "metadata": {},
     "output_type": "execute_result"
    }
   ],
   "source": [
    "Eq3 = Eq2.diff(t)\n",
    "Eq3"
   ]
  },
  {
   "cell_type": "code",
   "execution_count": 8,
   "metadata": {
    "slideshow": {
     "slide_type": "fragment"
    }
   },
   "outputs": [
    {
     "data": {
      "text/latex": [
       "$\\displaystyle - a \\omega_{2}^{2}{\\left(t \\right)} e^{i \\theta_{2}{\\left(t \\right)}} + i a e^{i \\theta_{2}{\\left(t \\right)}} \\frac{d}{d t} \\omega_{2}{\\left(t \\right)} - b \\omega_{3}^{2}{\\left(t \\right)} e^{i \\theta_{3}{\\left(t \\right)}} + i b e^{i \\theta_{3}{\\left(t \\right)}} \\frac{d}{d t} \\omega_{3}{\\left(t \\right)} + c \\omega_{4}^{2}{\\left(t \\right)} e^{i \\theta_{4}{\\left(t \\right)}} - i c e^{i \\theta_{4}{\\left(t \\right)}} \\frac{d}{d t} \\omega_{4}{\\left(t \\right)}$"
      ],
      "text/plain": [
       "-a*omega2(t)**2*exp(I*theta2(t)) + I*a*exp(I*theta2(t))*Derivative(omega2(t), t) - b*omega3(t)**2*exp(I*theta3(t)) + I*b*exp(I*theta3(t))*Derivative(omega3(t), t) + c*omega4(t)**2*exp(I*theta4(t)) - I*c*exp(I*theta4(t))*Derivative(omega4(t), t)"
      ]
     },
     "execution_count": 8,
     "metadata": {},
     "output_type": "execute_result"
    }
   ],
   "source": [
    "Eq3 = Eq3.subs(dic_omega)\n",
    "Eq3"
   ]
  },
  {
   "cell_type": "code",
   "execution_count": 9,
   "metadata": {
    "slideshow": {
     "slide_type": "fragment"
    }
   },
   "outputs": [],
   "source": [
    "alpha2 = Function('alpha2')(t)\n",
    "alpha3 = Function('alpha3')(t)\n",
    "alpha4 = Function('alpha4')(t)\n",
    "dic_alpha = {omega2.diff(t):alpha2,omega3.diff(t):alpha3,omega4.diff(t):alpha4}"
   ]
  },
  {
   "cell_type": "code",
   "execution_count": 10,
   "metadata": {
    "slideshow": {
     "slide_type": "fragment"
    }
   },
   "outputs": [
    {
     "data": {
      "text/latex": [
       "$\\displaystyle i a \\alpha_{2}{\\left(t \\right)} e^{i \\theta_{2}{\\left(t \\right)}} - a \\omega_{2}^{2}{\\left(t \\right)} e^{i \\theta_{2}{\\left(t \\right)}} + i b \\alpha_{3}{\\left(t \\right)} e^{i \\theta_{3}{\\left(t \\right)}} - b \\omega_{3}^{2}{\\left(t \\right)} e^{i \\theta_{3}{\\left(t \\right)}} - i c \\alpha_{4}{\\left(t \\right)} e^{i \\theta_{4}{\\left(t \\right)}} + c \\omega_{4}^{2}{\\left(t \\right)} e^{i \\theta_{4}{\\left(t \\right)}}$"
      ],
      "text/plain": [
       "I*a*alpha2(t)*exp(I*theta2(t)) - a*omega2(t)**2*exp(I*theta2(t)) + I*b*alpha3(t)*exp(I*theta3(t)) - b*omega3(t)**2*exp(I*theta3(t)) - I*c*alpha4(t)*exp(I*theta4(t)) + c*omega4(t)**2*exp(I*theta4(t))"
      ]
     },
     "execution_count": 10,
     "metadata": {},
     "output_type": "execute_result"
    }
   ],
   "source": [
    "Eq3 = Eq3.subs(dic_alpha)\n",
    "Eq3"
   ]
  },
  {
   "cell_type": "markdown",
   "metadata": {
    "slideshow": {
     "slide_type": "fragment"
    }
   },
   "source": [
    "$$\\vec{A}_{A} + \\vec{A}_{BA} - \\vec{A}_B = 0$$"
   ]
  },
  {
   "cell_type": "code",
   "execution_count": 11,
   "metadata": {
    "slideshow": {
     "slide_type": "fragment"
    }
   },
   "outputs": [
    {
     "data": {
      "text/latex": [
       "$\\displaystyle i a \\alpha_{2}{\\left(t \\right)} e^{i \\theta_{2}{\\left(t \\right)}} - a \\omega_{2}^{2}{\\left(t \\right)} e^{i \\theta_{2}{\\left(t \\right)}}$"
      ],
      "text/plain": [
       "I*a*alpha2(t)*exp(I*theta2(t)) - a*omega2(t)**2*exp(I*theta2(t))"
      ]
     },
     "execution_count": 11,
     "metadata": {},
     "output_type": "execute_result"
    }
   ],
   "source": [
    "A_A = i*a*alpha2*e**(i*theta2) - a*omega2**2*e**(i*theta2)\n",
    "A_A"
   ]
  },
  {
   "cell_type": "code",
   "execution_count": 12,
   "metadata": {
    "slideshow": {
     "slide_type": "fragment"
    }
   },
   "outputs": [
    {
     "data": {
      "text/latex": [
       "$\\displaystyle i b \\alpha_{3}{\\left(t \\right)} e^{i \\theta_{3}{\\left(t \\right)}} - b \\omega_{3}^{2}{\\left(t \\right)} e^{i \\theta_{3}{\\left(t \\right)}}$"
      ],
      "text/plain": [
       "I*b*alpha3(t)*exp(I*theta3(t)) - b*omega3(t)**2*exp(I*theta3(t))"
      ]
     },
     "execution_count": 12,
     "metadata": {},
     "output_type": "execute_result"
    }
   ],
   "source": [
    "A_BA = i*b*alpha3*e**(i*theta3) - b*omega3**2*e**(i*theta3)\n",
    "A_BA"
   ]
  },
  {
   "cell_type": "code",
   "execution_count": 13,
   "metadata": {
    "slideshow": {
     "slide_type": "fragment"
    }
   },
   "outputs": [
    {
     "data": {
      "text/latex": [
       "$\\displaystyle i c \\alpha_{4}{\\left(t \\right)} e^{i \\theta_{4}{\\left(t \\right)}} - c \\omega_{4}^{2}{\\left(t \\right)} e^{i \\theta_{4}{\\left(t \\right)}}$"
      ],
      "text/plain": [
       "I*c*alpha4(t)*exp(I*theta4(t)) - c*omega4(t)**2*exp(I*theta4(t))"
      ]
     },
     "execution_count": 13,
     "metadata": {},
     "output_type": "execute_result"
    }
   ],
   "source": [
    "A_B = i*c*alpha4*e**(i*theta4) - c*omega4**2*e**(i*theta4)\n",
    "A_B"
   ]
  },
  {
   "cell_type": "code",
   "execution_count": 14,
   "metadata": {
    "slideshow": {
     "slide_type": "fragment"
    }
   },
   "outputs": [],
   "source": [
    "id_euler = {e**(i*theta2):cos(theta2) + i*sin(theta2),\n",
    "            e**(i*theta3):cos(theta3) + i*sin(theta3),\n",
    "            e**(i*theta4):cos(theta4) + i*sin(theta4)}"
   ]
  },
  {
   "cell_type": "code",
   "execution_count": 15,
   "metadata": {
    "slideshow": {
     "slide_type": "fragment"
    }
   },
   "outputs": [
    {
     "data": {
      "text/latex": [
       "$\\displaystyle i a \\left(i \\sin{\\left(\\theta_{2}{\\left(t \\right)} \\right)} + \\cos{\\left(\\theta_{2}{\\left(t \\right)} \\right)}\\right) \\alpha_{2}{\\left(t \\right)} - a \\left(i \\sin{\\left(\\theta_{2}{\\left(t \\right)} \\right)} + \\cos{\\left(\\theta_{2}{\\left(t \\right)} \\right)}\\right) \\omega_{2}^{2}{\\left(t \\right)} + i b \\left(i \\sin{\\left(\\theta_{3}{\\left(t \\right)} \\right)} + \\cos{\\left(\\theta_{3}{\\left(t \\right)} \\right)}\\right) \\alpha_{3}{\\left(t \\right)} - b \\left(i \\sin{\\left(\\theta_{3}{\\left(t \\right)} \\right)} + \\cos{\\left(\\theta_{3}{\\left(t \\right)} \\right)}\\right) \\omega_{3}^{2}{\\left(t \\right)} - i c \\left(i \\sin{\\left(\\theta_{4}{\\left(t \\right)} \\right)} + \\cos{\\left(\\theta_{4}{\\left(t \\right)} \\right)}\\right) \\alpha_{4}{\\left(t \\right)} + c \\left(i \\sin{\\left(\\theta_{4}{\\left(t \\right)} \\right)} + \\cos{\\left(\\theta_{4}{\\left(t \\right)} \\right)}\\right) \\omega_{4}^{2}{\\left(t \\right)}$"
      ],
      "text/plain": [
       "I*a*(I*sin(theta2(t)) + cos(theta2(t)))*alpha2(t) - a*(I*sin(theta2(t)) + cos(theta2(t)))*omega2(t)**2 + I*b*(I*sin(theta3(t)) + cos(theta3(t)))*alpha3(t) - b*(I*sin(theta3(t)) + cos(theta3(t)))*omega3(t)**2 - I*c*(I*sin(theta4(t)) + cos(theta4(t)))*alpha4(t) + c*(I*sin(theta4(t)) + cos(theta4(t)))*omega4(t)**2"
      ]
     },
     "execution_count": 15,
     "metadata": {},
     "output_type": "execute_result"
    }
   ],
   "source": [
    "Eq4 = Eq3.subs(id_euler)\n",
    "Eq4"
   ]
  },
  {
   "cell_type": "code",
   "execution_count": 16,
   "metadata": {
    "slideshow": {
     "slide_type": "fragment"
    }
   },
   "outputs": [
    {
     "data": {
      "text/latex": [
       "$\\displaystyle - a \\alpha_{2}{\\left(t \\right)} \\sin{\\left(\\theta_{2}{\\left(t \\right)} \\right)} + i a \\alpha_{2}{\\left(t \\right)} \\cos{\\left(\\theta_{2}{\\left(t \\right)} \\right)} - i a \\omega_{2}^{2}{\\left(t \\right)} \\sin{\\left(\\theta_{2}{\\left(t \\right)} \\right)} - a \\omega_{2}^{2}{\\left(t \\right)} \\cos{\\left(\\theta_{2}{\\left(t \\right)} \\right)} - b \\alpha_{3}{\\left(t \\right)} \\sin{\\left(\\theta_{3}{\\left(t \\right)} \\right)} + i b \\alpha_{3}{\\left(t \\right)} \\cos{\\left(\\theta_{3}{\\left(t \\right)} \\right)} - i b \\omega_{3}^{2}{\\left(t \\right)} \\sin{\\left(\\theta_{3}{\\left(t \\right)} \\right)} - b \\omega_{3}^{2}{\\left(t \\right)} \\cos{\\left(\\theta_{3}{\\left(t \\right)} \\right)} + c \\alpha_{4}{\\left(t \\right)} \\sin{\\left(\\theta_{4}{\\left(t \\right)} \\right)} - i c \\alpha_{4}{\\left(t \\right)} \\cos{\\left(\\theta_{4}{\\left(t \\right)} \\right)} + i c \\omega_{4}^{2}{\\left(t \\right)} \\sin{\\left(\\theta_{4}{\\left(t \\right)} \\right)} + c \\omega_{4}^{2}{\\left(t \\right)} \\cos{\\left(\\theta_{4}{\\left(t \\right)} \\right)}$"
      ],
      "text/plain": [
       "-a*alpha2(t)*sin(theta2(t)) + I*a*alpha2(t)*cos(theta2(t)) - I*a*omega2(t)**2*sin(theta2(t)) - a*omega2(t)**2*cos(theta2(t)) - b*alpha3(t)*sin(theta3(t)) + I*b*alpha3(t)*cos(theta3(t)) - I*b*omega3(t)**2*sin(theta3(t)) - b*omega3(t)**2*cos(theta3(t)) + c*alpha4(t)*sin(theta4(t)) - I*c*alpha4(t)*cos(theta4(t)) + I*c*omega4(t)**2*sin(theta4(t)) + c*omega4(t)**2*cos(theta4(t))"
      ]
     },
     "execution_count": 16,
     "metadata": {},
     "output_type": "execute_result"
    }
   ],
   "source": [
    "Eq4 = Eq4.expand()\n",
    "Eq4"
   ]
  },
  {
   "cell_type": "code",
   "execution_count": 17,
   "metadata": {
    "slideshow": {
     "slide_type": "fragment"
    }
   },
   "outputs": [
    {
     "data": {
      "text/latex": [
       "$\\displaystyle - a \\alpha_{2}{\\left(t \\right)} \\sin{\\left(\\theta_{2}{\\left(t \\right)} \\right)} - a \\omega_{2}^{2}{\\left(t \\right)} \\cos{\\left(\\theta_{2}{\\left(t \\right)} \\right)} - b \\alpha_{3}{\\left(t \\right)} \\sin{\\left(\\theta_{3}{\\left(t \\right)} \\right)} - b \\omega_{3}^{2}{\\left(t \\right)} \\cos{\\left(\\theta_{3}{\\left(t \\right)} \\right)} + c \\alpha_{4}{\\left(t \\right)} \\sin{\\left(\\theta_{4}{\\left(t \\right)} \\right)} + c \\omega_{4}^{2}{\\left(t \\right)} \\cos{\\left(\\theta_{4}{\\left(t \\right)} \\right)}$"
      ],
      "text/plain": [
       "-a*alpha2(t)*sin(theta2(t)) - a*omega2(t)**2*cos(theta2(t)) - b*alpha3(t)*sin(theta3(t)) - b*omega3(t)**2*cos(theta3(t)) + c*alpha4(t)*sin(theta4(t)) + c*omega4(t)**2*cos(theta4(t))"
      ]
     },
     "execution_count": 17,
     "metadata": {},
     "output_type": "execute_result"
    }
   ],
   "source": [
    "Eq4_real = Eq4.subs(i,0)\n",
    "Eq4_real"
   ]
  },
  {
   "cell_type": "code",
   "execution_count": 18,
   "metadata": {
    "slideshow": {
     "slide_type": "fragment"
    }
   },
   "outputs": [
    {
     "data": {
      "text/latex": [
       "$\\displaystyle a \\alpha_{2}{\\left(t \\right)} \\cos{\\left(\\theta_{2}{\\left(t \\right)} \\right)} - a \\omega_{2}^{2}{\\left(t \\right)} \\sin{\\left(\\theta_{2}{\\left(t \\right)} \\right)} + b \\alpha_{3}{\\left(t \\right)} \\cos{\\left(\\theta_{3}{\\left(t \\right)} \\right)} - b \\omega_{3}^{2}{\\left(t \\right)} \\sin{\\left(\\theta_{3}{\\left(t \\right)} \\right)} - c \\alpha_{4}{\\left(t \\right)} \\cos{\\left(\\theta_{4}{\\left(t \\right)} \\right)} + c \\omega_{4}^{2}{\\left(t \\right)} \\sin{\\left(\\theta_{4}{\\left(t \\right)} \\right)}$"
      ],
      "text/plain": [
       "a*alpha2(t)*cos(theta2(t)) - a*omega2(t)**2*sin(theta2(t)) + b*alpha3(t)*cos(theta3(t)) - b*omega3(t)**2*sin(theta3(t)) - c*alpha4(t)*cos(theta4(t)) + c*omega4(t)**2*sin(theta4(t))"
      ]
     },
     "execution_count": 18,
     "metadata": {},
     "output_type": "execute_result"
    }
   ],
   "source": [
    "Eq4_im = (Eq4 - Eq4_real).subs(i,1)\n",
    "Eq4_im"
   ]
  },
  {
   "cell_type": "code",
   "execution_count": 19,
   "metadata": {
    "slideshow": {
     "slide_type": "fragment"
    }
   },
   "outputs": [],
   "source": [
    "alpha_sols = solve([Eq4_real,Eq4_im],alpha3,alpha4)"
   ]
  },
  {
   "cell_type": "code",
   "execution_count": 20,
   "metadata": {
    "slideshow": {
     "slide_type": "fragment"
    }
   },
   "outputs": [
    {
     "data": {
      "text/latex": [
       "$\\displaystyle \\frac{- a \\alpha_{2}{\\left(t \\right)} \\sin{\\left(\\theta_{2}{\\left(t \\right)} - \\theta_{4}{\\left(t \\right)} \\right)} - a \\omega_{2}^{2}{\\left(t \\right)} \\cos{\\left(\\theta_{2}{\\left(t \\right)} - \\theta_{4}{\\left(t \\right)} \\right)} - b \\omega_{3}^{2}{\\left(t \\right)} \\cos{\\left(\\theta_{3}{\\left(t \\right)} - \\theta_{4}{\\left(t \\right)} \\right)} + c \\omega_{4}^{2}{\\left(t \\right)}}{b \\sin{\\left(\\theta_{3}{\\left(t \\right)} - \\theta_{4}{\\left(t \\right)} \\right)}}$"
      ],
      "text/plain": [
       "(-a*alpha2(t)*sin(theta2(t) - theta4(t)) - a*omega2(t)**2*cos(theta2(t) - theta4(t)) - b*omega3(t)**2*cos(theta3(t) - theta4(t)) + c*omega4(t)**2)/(b*sin(theta3(t) - theta4(t)))"
      ]
     },
     "execution_count": 20,
     "metadata": {},
     "output_type": "execute_result"
    }
   ],
   "source": [
    "alpha_sols[alpha3]"
   ]
  },
  {
   "cell_type": "code",
   "execution_count": 21,
   "metadata": {
    "slideshow": {
     "slide_type": "fragment"
    }
   },
   "outputs": [
    {
     "data": {
      "text/latex": [
       "$\\displaystyle \\frac{- a \\alpha_{2}{\\left(t \\right)} \\sin{\\left(\\theta_{2}{\\left(t \\right)} - \\theta_{3}{\\left(t \\right)} \\right)} - a \\omega_{2}^{2}{\\left(t \\right)} \\cos{\\left(\\theta_{2}{\\left(t \\right)} - \\theta_{3}{\\left(t \\right)} \\right)} - b \\omega_{3}^{2}{\\left(t \\right)} + c \\omega_{4}^{2}{\\left(t \\right)} \\cos{\\left(\\theta_{3}{\\left(t \\right)} - \\theta_{4}{\\left(t \\right)} \\right)}}{c \\sin{\\left(\\theta_{3}{\\left(t \\right)} - \\theta_{4}{\\left(t \\right)} \\right)}}$"
      ],
      "text/plain": [
       "(-a*alpha2(t)*sin(theta2(t) - theta3(t)) - a*omega2(t)**2*cos(theta2(t) - theta3(t)) - b*omega3(t)**2 + c*omega4(t)**2*cos(theta3(t) - theta4(t)))/(c*sin(theta3(t) - theta4(t)))"
      ]
     },
     "execution_count": 21,
     "metadata": {},
     "output_type": "execute_result"
    }
   ],
   "source": [
    "alpha_sols[alpha4]"
   ]
  },
  {
   "cell_type": "markdown",
   "metadata": {
    "slideshow": {
     "slide_type": "fragment"
    }
   },
   "source": [
    "Do capítulo 6 obtemos:"
   ]
  },
  {
   "cell_type": "code",
   "execution_count": 22,
   "metadata": {
    "slideshow": {
     "slide_type": "fragment"
    }
   },
   "outputs": [],
   "source": [
    "omega_sols = {omega3: -a*omega2*sin(theta2 - theta4)/(b*sin(theta3 - theta4)),\n",
    " omega4: -a*omega2*sin(theta2 - theta3)/(c*sin(theta3 - theta4))}"
   ]
  },
  {
   "cell_type": "markdown",
   "metadata": {
    "slideshow": {
     "slide_type": "fragment"
    }
   },
   "source": [
    "Do capítulo 4 obtemos:"
   ]
  },
  {
   "cell_type": "code",
   "execution_count": 23,
   "metadata": {
    "slideshow": {
     "slide_type": "fragment"
    }
   },
   "outputs": [
    {
     "data": {
      "text/latex": [
       "$\\displaystyle - 2 \\operatorname{atan}{\\left(\\frac{2 a b \\sin{\\left(\\theta_{2}{\\left(t \\right)} \\right)} - \\sqrt{- a^{4} + 4 a^{3} d \\cos{\\left(\\theta_{2}{\\left(t \\right)} \\right)} + 4 a^{2} b^{2} \\sin^{2}{\\left(\\theta_{2}{\\left(t \\right)} \\right)} + 4 a^{2} b^{2} \\cos^{2}{\\left(\\theta_{2}{\\left(t \\right)} \\right)} - 2 a^{2} b^{2} + 2 a^{2} c^{2} - 4 a^{2} d^{2} \\cos^{2}{\\left(\\theta_{2}{\\left(t \\right)} \\right)} - 2 a^{2} d^{2} - 4 a b^{2} d \\cos{\\left(\\theta_{2}{\\left(t \\right)} \\right)} - 4 a c^{2} d \\cos{\\left(\\theta_{2}{\\left(t \\right)} \\right)} + 4 a d^{3} \\cos{\\left(\\theta_{2}{\\left(t \\right)} \\right)} - b^{4} + 2 b^{2} c^{2} + 2 b^{2} d^{2} - c^{4} + 2 c^{2} d^{2} - d^{4}}}{a^{2} - 2 a b \\cos{\\left(\\theta_{2}{\\left(t \\right)} \\right)} - 2 a d \\cos{\\left(\\theta_{2}{\\left(t \\right)} \\right)} + b^{2} + 2 b d - c^{2} + d^{2}} \\right)}$"
      ],
      "text/plain": [
       "-2*atan((2*a*b*sin(theta2(t)) - sqrt(-a**4 + 4*a**3*d*cos(theta2(t)) + 4*a**2*b**2*sin(theta2(t))**2 + 4*a**2*b**2*cos(theta2(t))**2 - 2*a**2*b**2 + 2*a**2*c**2 - 4*a**2*d**2*cos(theta2(t))**2 - 2*a**2*d**2 - 4*a*b**2*d*cos(theta2(t)) - 4*a*c**2*d*cos(theta2(t)) + 4*a*d**3*cos(theta2(t)) - b**4 + 2*b**2*c**2 + 2*b**2*d**2 - c**4 + 2*c**2*d**2 - d**4))/(a**2 - 2*a*b*cos(theta2(t)) - 2*a*d*cos(theta2(t)) + b**2 + 2*b*d - c**2 + d**2))"
      ]
     },
     "execution_count": 23,
     "metadata": {},
     "output_type": "execute_result"
    }
   ],
   "source": [
    "theta3_sol = -2*atan((2*a*b*sin(theta2) - sqrt(-a**4 + 4*a**3*d*cos(theta2) + 4*a**2*b**2*sin(theta2)**2 + 4*a**2*b**2*cos(theta2)**2 - 2*a**2*b**2 + 2*a**2*c**2 - 4*a**2*d**2*cos(theta2)**2 - 2*a**2*d**2 - 4*a*b**2*d*cos(theta2) - 4*a*c**2*d*cos(theta2) + 4*a*d**3*cos(theta2) - b**4 + 2*b**2*c**2 + 2*b**2*d**2 - c**4 + 2*c**2*d**2 - d**4))/(a**2 - 2*a*b*cos(theta2) - 2*a*d*cos(theta2) + b**2 + 2*b*d - c**2 + d**2))\n",
    "theta3_sol"
   ]
  },
  {
   "cell_type": "code",
   "execution_count": 24,
   "metadata": {
    "slideshow": {
     "slide_type": "fragment"
    }
   },
   "outputs": [
    {
     "data": {
      "text/latex": [
       "$\\displaystyle 2 \\operatorname{atan}{\\left(\\frac{2 a c \\sin{\\left(\\theta_{2}{\\left(t \\right)} \\right)} - \\sqrt{- a^{4} + 4 a^{3} d \\cos{\\left(\\theta_{2}{\\left(t \\right)} \\right)} + 2 a^{2} b^{2} + 4 a^{2} c^{2} \\sin^{2}{\\left(\\theta_{2}{\\left(t \\right)} \\right)} + 4 a^{2} c^{2} \\cos^{2}{\\left(\\theta_{2}{\\left(t \\right)} \\right)} - 2 a^{2} c^{2} - 4 a^{2} d^{2} \\cos^{2}{\\left(\\theta_{2}{\\left(t \\right)} \\right)} - 2 a^{2} d^{2} - 4 a b^{2} d \\cos{\\left(\\theta_{2}{\\left(t \\right)} \\right)} - 4 a c^{2} d \\cos{\\left(\\theta_{2}{\\left(t \\right)} \\right)} + 4 a d^{3} \\cos{\\left(\\theta_{2}{\\left(t \\right)} \\right)} - b^{4} + 2 b^{2} c^{2} + 2 b^{2} d^{2} - c^{4} + 2 c^{2} d^{2} - d^{4}}}{a^{2} + 2 a c \\cos{\\left(\\theta_{2}{\\left(t \\right)} \\right)} - 2 a d \\cos{\\left(\\theta_{2}{\\left(t \\right)} \\right)} - b^{2} + c^{2} - 2 c d + d^{2}} \\right)}$"
      ],
      "text/plain": [
       "2*atan((2*a*c*sin(theta2(t)) - sqrt(-a**4 + 4*a**3*d*cos(theta2(t)) + 2*a**2*b**2 + 4*a**2*c**2*sin(theta2(t))**2 + 4*a**2*c**2*cos(theta2(t))**2 - 2*a**2*c**2 - 4*a**2*d**2*cos(theta2(t))**2 - 2*a**2*d**2 - 4*a*b**2*d*cos(theta2(t)) - 4*a*c**2*d*cos(theta2(t)) + 4*a*d**3*cos(theta2(t)) - b**4 + 2*b**2*c**2 + 2*b**2*d**2 - c**4 + 2*c**2*d**2 - d**4))/(a**2 + 2*a*c*cos(theta2(t)) - 2*a*d*cos(theta2(t)) - b**2 + c**2 - 2*c*d + d**2))"
      ]
     },
     "execution_count": 24,
     "metadata": {},
     "output_type": "execute_result"
    }
   ],
   "source": [
    "theta4_sol = 2*atan((2*a*c*sin(theta2) - sqrt(-a**4 + 4*a**3*d*cos(theta2) + 2*a**2*b**2 + 4*a**2*c**2*sin(theta2)**2 + 4*a**2*c**2*cos(theta2)**2 - 2*a**2*c**2 - 4*a**2*d**2*cos(theta2)**2 - 2*a**2*d**2 - 4*a*b**2*d*cos(theta2) - 4*a*c**2*d*cos(theta2) + 4*a*d**3*cos(theta2) - b**4 + 2*b**2*c**2 + 2*b**2*d**2 - c**4 + 2*c**2*d**2 - d**4))/(a**2 + 2*a*c*cos(theta2) - 2*a*d*cos(theta2) - b**2 + c**2 - 2*c*d + d**2))\n",
    "theta4_sol"
   ]
  },
  {
   "cell_type": "code",
   "execution_count": 25,
   "metadata": {
    "slideshow": {
     "slide_type": "fragment"
    }
   },
   "outputs": [],
   "source": [
    "theta_sols = {theta3:theta3_sol,theta4:theta4_sol}"
   ]
  },
  {
   "cell_type": "code",
   "execution_count": 26,
   "metadata": {
    "slideshow": {
     "slide_type": "fragment"
    }
   },
   "outputs": [],
   "source": [
    "alpha4_sol = alpha_sols[alpha4].subs(omega_sols).subs(theta_sols)"
   ]
  },
  {
   "cell_type": "markdown",
   "metadata": {
    "slideshow": {
     "slide_type": "fragment"
    }
   },
   "source": [
    "Vamos plotar os valores da aceleração angular e linear do elo de saída em função do ângulo da manivela ($\\theta_2$)\n",
    "\n",
    "\n",
    "| Símbolo | Valor |\n",
    "|---------|-------|\n",
    "| $a$ | 90 mm |\n",
    "| $b$ | 120 mm |\n",
    "| $c$ | 150mm |\n",
    "| $d$ | 130 mm |\n",
    "|$\\omega_2$ | 10 rad/s |\n",
    "|$\\alpha_2$ | 0 rad/s² |"
   ]
  },
  {
   "cell_type": "code",
   "execution_count": 27,
   "metadata": {
    "slideshow": {
     "slide_type": "fragment"
    }
   },
   "outputs": [],
   "source": [
    "parametros = {a: 90, b: 120, c: 150, d: 130, omega2:10,alpha2:0}"
   ]
  },
  {
   "cell_type": "code",
   "execution_count": 32,
   "metadata": {},
   "outputs": [
    {
     "data": {
      "text/latex": [
       "$\\displaystyle 375.034079227589$"
      ],
      "text/plain": [
       "375.034079227589"
      ]
     },
     "execution_count": 32,
     "metadata": {},
     "output_type": "execute_result"
    }
   ],
   "source": [
    "alpha4_sol.subs(parametros).subs(theta2,pi/6).evalf()"
   ]
  },
  {
   "cell_type": "code",
   "execution_count": null,
   "metadata": {
    "slideshow": {
     "slide_type": "fragment"
    }
   },
   "outputs": [],
   "source": [
    "import numpy as np\n",
    "theta2_lista = np.linspace(0,2*np.pi,360)"
   ]
  },
  {
   "cell_type": "code",
   "execution_count": null,
   "metadata": {
    "slideshow": {
     "slide_type": "fragment"
    }
   },
   "outputs": [],
   "source": [
    "alpha4_lista = []\n",
    "\n",
    "for j in range(0,360):\n",
    "    alpha4_lista.append(alpha4_sol.subs(parametros).subs(theta2,theta2_lista[j]))"
   ]
  },
  {
   "cell_type": "code",
   "execution_count": null,
   "metadata": {
    "slideshow": {
     "slide_type": "fragment"
    }
   },
   "outputs": [],
   "source": [
    "import matplotlib.pyplot as plt"
   ]
  },
  {
   "cell_type": "code",
   "execution_count": null,
   "metadata": {
    "slideshow": {
     "slide_type": "fragment"
    }
   },
   "outputs": [],
   "source": [
    "plt.figure(dpi=300)\n",
    "plt.plot(theta2_lista,alpha4_lista)\n",
    "plt.title('Aceleração angular do elo de saída pelo ângulo da manivela')\n",
    "plt.xlabel(r'$\\theta_2(t)$')\n",
    "plt.ylabel(r'$\\alpha_4(t)$')\n",
    "plt.grid(True)\n",
    "plt.show()"
   ]
  },
  {
   "cell_type": "markdown",
   "metadata": {
    "slideshow": {
     "slide_type": "fragment"
    }
   },
   "source": [
    "A aceleração linear $\\vec{A}_B$ é divida em uma componente normal $\\vec{A}{}^{n}_{B}$ e uma componente tangencial $\\vec{A}{}^{t}_{B}$ ao elo:"
   ]
  },
  {
   "cell_type": "code",
   "execution_count": null,
   "metadata": {
    "scrolled": true,
    "slideshow": {
     "slide_type": "fragment"
    }
   },
   "outputs": [],
   "source": [
    "A_B"
   ]
  },
  {
   "cell_type": "code",
   "execution_count": null,
   "metadata": {
    "slideshow": {
     "slide_type": "fragment"
    }
   },
   "outputs": [],
   "source": [
    "A_B = A_B.subs(id_euler).expand()\n",
    "A_B"
   ]
  },
  {
   "cell_type": "code",
   "execution_count": null,
   "metadata": {
    "slideshow": {
     "slide_type": "fragment"
    }
   },
   "outputs": [],
   "source": [
    "A_B_nor = A_B.subs(i,0)\n",
    "A_B_nor"
   ]
  },
  {
   "cell_type": "code",
   "execution_count": null,
   "metadata": {
    "slideshow": {
     "slide_type": "fragment"
    }
   },
   "outputs": [],
   "source": [
    "A_B_tan = (A_B - A_B_nor).subs(i,1)\n",
    "A_B_tan"
   ]
  },
  {
   "cell_type": "code",
   "execution_count": null,
   "metadata": {
    "slideshow": {
     "slide_type": "fragment"
    }
   },
   "outputs": [],
   "source": [
    "A_B_nor = A_B_nor.subs(alpha_sols).subs(omega_sols).subs(theta_sols)"
   ]
  },
  {
   "cell_type": "code",
   "execution_count": null,
   "metadata": {
    "slideshow": {
     "slide_type": "fragment"
    }
   },
   "outputs": [],
   "source": [
    "A_B_tan = A_B_tan.subs(alpha_sols).subs(omega_sols).subs(theta_sols)"
   ]
  },
  {
   "cell_type": "code",
   "execution_count": null,
   "metadata": {
    "slideshow": {
     "slide_type": "fragment"
    }
   },
   "outputs": [],
   "source": [
    "A_B_nor_lista = []\n",
    "A_B_tan_lista = []\n",
    "for j in range(0,360):\n",
    "    A_B_nor_lista.append(A_B_nor.subs(parametros).subs(theta2,theta2_lista[j]))\n",
    "    A_B_tan_lista.append(A_B_tan.subs(parametros).subs(theta2,theta2_lista[j]))"
   ]
  },
  {
   "cell_type": "code",
   "execution_count": null,
   "metadata": {
    "slideshow": {
     "slide_type": "fragment"
    }
   },
   "outputs": [],
   "source": [
    "plt.figure(dpi=300)\n",
    "plt.plot(theta2_lista,A_B_nor_lista)\n",
    "plt.title('Aceleração normal do elo de saída pelo ângulo da manivela')\n",
    "plt.xlabel(r'$\\theta_2(t)[rad/s]$')\n",
    "plt.ylabel(r'$A^{n}_B(t)[mm/s^2]$')\n",
    "plt.grid(True)\n",
    "plt.show()"
   ]
  },
  {
   "cell_type": "code",
   "execution_count": null,
   "metadata": {
    "scrolled": false,
    "slideshow": {
     "slide_type": "fragment"
    }
   },
   "outputs": [],
   "source": [
    "plt.figure(dpi=300)\n",
    "plt.plot(theta2_lista,A_B_tan_lista)\n",
    "plt.title('Aceleração tangencial do elo de saída pelo ângulo da manivela')\n",
    "plt.xlabel(r'$\\theta_2(t)[rad/s]$')\n",
    "plt.ylabel(r'$A^{t}_B(t)$[mm/s^2]')\n",
    "plt.grid(True)\n",
    "plt.show()"
   ]
  },
  {
   "cell_type": "markdown",
   "metadata": {},
   "source": [
    "### Aceleração de Coriolis"
   ]
  },
  {
   "cell_type": "markdown",
   "metadata": {},
   "source": [
    "Quando existem juntas deslizantes em um elo de rotação, está presente uma componente adicional da aceleração, que foi denominada **componente de Coriolis**, devido ao seu descobridor. "
   ]
  },
  {
   "cell_type": "markdown",
   "metadata": {},
   "source": [
    "![](fig7-7.jpg)"
   ]
  },
  {
   "cell_type": "markdown",
   "metadata": {},
   "source": [
    "A posição instantânea do bloco é definida por um vetor posição ($\\vec{R}_P$) referido a origem global, no centro do elo. *Esse vetor rotaciona e modifica a sua magnitude conforme o sistema se movimenta*. Esse é um sistema de dois graus de liberdade. As **duas entradas do sistema** são a aceleração angular do elo ($\\alpha$) e a velocidade de deslizamento linear do bloco em relação ao elo ($\\vec{V}_{Pdesl}$). A velocidade angular $\\omega$ é a resultante do histórico temporal da aceleração angular. \n",
    "$$\\vec{R}_P = pe^{i\\theta_2}$$"
   ]
  },
  {
   "cell_type": "code",
   "execution_count": null,
   "metadata": {},
   "outputs": [],
   "source": [
    "p = Function('p')(t)\n",
    "theta2 = Function('theta2')(t)\n",
    "Rp = p*e**(i*theta2)\n",
    "Rp"
   ]
  },
  {
   "cell_type": "code",
   "execution_count": null,
   "metadata": {},
   "outputs": [],
   "source": [
    "Vp = diff(Rp,t)\n",
    "Vp"
   ]
  },
  {
   "cell_type": "code",
   "execution_count": null,
   "metadata": {},
   "outputs": [],
   "source": [
    "Vp = Vp.subs(diff(theta2,t),omega2)\n",
    "Vp"
   ]
  },
  {
   "cell_type": "code",
   "execution_count": null,
   "metadata": {
    "scrolled": true
   },
   "outputs": [],
   "source": [
    "print(latex(Vp))"
   ]
  },
  {
   "cell_type": "markdown",
   "metadata": {},
   "source": [
    "$$\\vec{V}_P = i \\omega_{2}{\\left(t \\right)} p{\\left(t \\right)} e^{i \\theta_{2}{\\left(t \\right)}} + e^{i \\theta_{2}{\\left(t \\right)}} \\frac{d}{d t} p{\\left(t \\right)}$$"
   ]
  },
  {
   "cell_type": "markdown",
   "metadata": {},
   "source": [
    "$$\\vec{V}_P = \\vec{V}_{Ptrans} + V_{Pdesl}$$"
   ]
  },
  {
   "cell_type": "code",
   "execution_count": null,
   "metadata": {},
   "outputs": [],
   "source": [
    "Ap = diff(Vp,t)\n",
    "Ap"
   ]
  },
  {
   "cell_type": "code",
   "execution_count": null,
   "metadata": {},
   "outputs": [],
   "source": [
    "Ap = Ap.subs({diff(theta2,t):omega2,diff(omega2,t):alpha2})\n",
    "Ap"
   ]
  },
  {
   "cell_type": "code",
   "execution_count": null,
   "metadata": {},
   "outputs": [],
   "source": [
    "print(latex(Ap))"
   ]
  },
  {
   "cell_type": "markdown",
   "metadata": {},
   "source": [
    "$$vec{A}_P = i \\alpha_{2}{\\left(t \\right)} p{\\left(t \\right)} e^{i \\theta_{2}{\\left(t \\right)}} - \\omega_{2}^{2}{\\left(t \\right)} p{\\left(t \\right)} e^{i \\theta_{2}{\\left(t \\right)}} + 2 i \\omega_{2}{\\left(t \\right)} e^{i \\theta_{2}{\\left(t \\right)}} \\frac{d}{d t} p{\\left(t \\right)} + e^{i \\theta_{2}{\\left(t \\right)}} \\frac{d^{2}}{d t^{2}} p{\\left(t \\right)}$$\n",
    "$$\\vec{A}_P = \\vec{A}_{P_{tangencial}} + \\vec{A}_{P_{normal}} + \\vec{A}_{P_{coriolis}} + \\vec{A}_{P_{desl}}$$"
   ]
  },
  {
   "cell_type": "markdown",
   "metadata": {},
   "source": [
    "### Aceleração de qualquer ponto do mecanismo"
   ]
  },
  {
   "cell_type": "markdown",
   "metadata": {},
   "source": [
    "Uma vez que a aceleração angular de todos os elos foi encontrada, fica fácil determinar e calcular a aceleração *em qualquer ponto do mecanismo* para uma posição de entrada."
   ]
  },
  {
   "cell_type": "markdown",
   "metadata": {},
   "source": [
    "![](fig7-9.jpg)"
   ]
  },
  {
   "cell_type": "markdown",
   "metadata": {},
   "source": [
    "$$\\vec{R}_{SO_2} = \\vec{R}_S = se^{i(\\theta_2 + \\delta_2)}$$\n",
    "$$\\vec{R}_{UO_4} = ue^{i(\\theta_4 + \\delta_4)}$$\n",
    "$$\\vec{R}_{PA} = pe^{i(\\theta3 + \\delta_3)}$$\n",
    "$$\\vec{R}_P = \\vec{R}_A + \\vec{R}_{PA}$$"
   ]
  },
  {
   "cell_type": "code",
   "execution_count": null,
   "metadata": {},
   "outputs": [],
   "source": [
    "p,delta3 = symbols('p delta3')"
   ]
  },
  {
   "cell_type": "code",
   "execution_count": null,
   "metadata": {},
   "outputs": [],
   "source": [
    "R_PA = p*e**(i*(theta3 + delta3))\n",
    "R_PA"
   ]
  },
  {
   "cell_type": "code",
   "execution_count": null,
   "metadata": {},
   "outputs": [],
   "source": [
    "R_P = R_PA + a*e**(i*theta2)\n",
    "R_P"
   ]
  },
  {
   "cell_type": "code",
   "execution_count": null,
   "metadata": {},
   "outputs": [],
   "source": [
    "V_P = diff(R_P,t).subs(dic_omega)\n",
    "V_P"
   ]
  },
  {
   "cell_type": "code",
   "execution_count": null,
   "metadata": {},
   "outputs": [],
   "source": [
    "A_P = diff(V_P,t).subs(dic_omega).subs(dic_alpha)\n",
    "A_P"
   ]
  },
  {
   "cell_type": "markdown",
   "metadata": {},
   "source": [
    "## 7.4 A tolerância humana à aceleração"
   ]
  },
  {
   "cell_type": "markdown",
   "metadata": {},
   "source": [
    "Viajando à noite, em um avião comercial, a uma velocidade de 500 mph, não temos sensação alguma de movimento se o voo for suave. Os canais semicirculares dentro do ouvido são acelerômetros sensíveis, que nos reportam a qualquer aceleração que experimentamos. \n",
    "\n",
    "Acelerações produzem forças dinâmicas em sistemas físicos, como expresso na segunda lei de Newton, $\\vec{F} = m\\vec{a}$. Força é proporcional à aceleração, para uma massa constante. As forças dinâmicas produzidas em um corpo humano em resposta à aceleração podem ser perigosas, se em excesso.\n",
    "![](fig7-10.jpg)"
   ]
  },
  {
   "cell_type": "markdown",
   "metadata": {},
   "source": [
    "Valores comuns da aceleração em atividades humanas\n",
    "\n",
    "| Atividade | Aceleração |\n",
    "|-----------|------------|\n",
    "| Aceleração suave em um automóvel | +0,1g |\n",
    "| Decolagem de um jato comercial | +0,3g |\n",
    "| Aceleração forte em um automóvel | +0,5g |\n",
    "| Parada repentina em um automóvel | -0,7g |\n",
    "| Virada rápida em um carro esporte (por exemplo BMW, Porsche , Ferrari) | +0,9g |\n",
    "| Carro de corrida da Fórmula 1 | + 2,0g - 4,0g |"
   ]
  },
  {
   "cell_type": "markdown",
   "metadata": {},
   "source": [
    "## 7.5 Pulso"
   ]
  },
  {
   "cell_type": "markdown",
   "metadata": {},
   "source": [
    "A **derivada da aceleração pelo tempo** é chamada de *pulso* ou *choque*. \n",
    "* Uma mudança rápida da aceleração significa uma mudança rápida da força. \n",
    "Geralmente é interessante controlar e minimizar o pulso em uma máquina projetada, especialmente se pouca vibração é desejada. Grandes magnitudes de pulso tendem a excitar a frequência natural da vibração da máquina ou estrutura em que o mecanismo se encontra fixo, causando aumento de vibração e ruído. O controle do pulso é de maior interesse no projeto de cames do que no de mecanismos. \n",
    "\n",
    "O pulso angular é representado por: \n",
    "$$ \\phi = \\dfrac{d \\alpha}{d t} $$\n",
    "\n",
    "e o pulso linear por: \n",
    "$$\\vec{J} = \\dfrac{d \\vec{A}}{d t} $$"
   ]
  },
  {
   "cell_type": "code",
   "execution_count": null,
   "metadata": {},
   "outputs": [],
   "source": [
    "Eq5 = Eq3.diff(t)\n",
    "Eq5 = Eq5.subs(dic_omega).subs(dic_alpha)\n",
    "Eq5"
   ]
  },
  {
   "cell_type": "code",
   "execution_count": null,
   "metadata": {},
   "outputs": [],
   "source": [
    "phi2,phi3,phi4 = [Function('phi2')(t),Function('phi3')(t),Function('phi4')(t)]\n",
    "dic_phi = {diff(alpha2,t):phi2,diff(alpha3,t):phi3,diff(alpha4,t):phi4}"
   ]
  },
  {
   "cell_type": "code",
   "execution_count": null,
   "metadata": {},
   "outputs": [],
   "source": [
    "Eq5 = Eq5.subs(dic_phi)\n",
    "Eq5"
   ]
  },
  {
   "cell_type": "code",
   "execution_count": null,
   "metadata": {},
   "outputs": [],
   "source": [
    "Eq6 = Eq5.subs(id_euler)\n",
    "Eq6 = Eq6.expand()\n",
    "Eq6"
   ]
  },
  {
   "cell_type": "code",
   "execution_count": null,
   "metadata": {},
   "outputs": [],
   "source": [
    "Eq6_real = Eq6.subs(i,0)\n",
    "Eq6_real"
   ]
  },
  {
   "cell_type": "code",
   "execution_count": null,
   "metadata": {},
   "outputs": [],
   "source": [
    "Eq6_im = (Eq6 - Eq6_real).subs(i,1)\n",
    "Eq6_im"
   ]
  },
  {
   "cell_type": "code",
   "execution_count": null,
   "metadata": {},
   "outputs": [],
   "source": [
    "phi_sols = solve([Eq6_real,Eq6_im],phi3,phi4)"
   ]
  },
  {
   "cell_type": "code",
   "execution_count": null,
   "metadata": {},
   "outputs": [],
   "source": [
    "phi3_sol = phi_sols[phi3]\n",
    "phi3_sol"
   ]
  },
  {
   "cell_type": "code",
   "execution_count": null,
   "metadata": {},
   "outputs": [],
   "source": [
    "phi4_sol = phi_sols[phi4]\n",
    "phi4_sol"
   ]
  },
  {
   "cell_type": "markdown",
   "metadata": {},
   "source": [
    "## 7.6 Mecanismos de N barras"
   ]
  },
  {
   "cell_type": "markdown",
   "metadata": {},
   "source": [
    "As mesmas técnicas de análises apresentadas aqui para posição, velocidade, aceleração e pulso, usando mecanismos de quatro barras como exemplos, podem ser estendidas para montagens mais complexas de elos. Múltiplas equações vetoriais de malha fechada podem ser escritas ao redor de um mecanismo de complexidade arbitrária. Os resultados das equações vetoriais podem ser diferenciados e resolvidos simultaneamente para as variáveis de interesse. Em alguns casos, é necessário, para a solução, a resolução de um conjunto de equações simultâneas não lineares. Um algoritmo para encontrar raízes, como o método de Newton-Raphson, será necessário para solução de casos mais complexos. "
   ]
  },
  {
   "cell_type": "markdown",
   "metadata": {
    "slideshow": {
     "slide_type": "skip"
    }
   },
   "source": [
    "[Voltar para o capítulo anterior](Mecs6.ipynb)     $\\qquad$   [Avançar para o próximo capítulo](Mecs8.ipynb)"
   ]
  }
 ],
 "metadata": {
  "kernelspec": {
   "display_name": "Python 3",
   "language": "python",
   "name": "python3"
  },
  "language_info": {
   "codemirror_mode": {
    "name": "ipython",
    "version": 3
   },
   "file_extension": ".py",
   "mimetype": "text/x-python",
   "name": "python",
   "nbconvert_exporter": "python",
   "pygments_lexer": "ipython3",
   "version": "3.8.10"
  }
 },
 "nbformat": 4,
 "nbformat_minor": 4
}
