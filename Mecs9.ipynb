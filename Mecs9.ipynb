{
 "cells": [
  {
   "cell_type": "markdown",
   "metadata": {
    "slideshow": {
     "slide_type": "slide"
    }
   },
   "source": [
    "# 9. Transmissão por Engrenagens\n",
    "Professor Paulo Victor <br>\n",
    "e-mail: paulo.gomes@cefet-rj.br <br>\n",
    "CEFET/RJ Campus Angra dos Reis - Sala 6E"
   ]
  },
  {
   "cell_type": "markdown",
   "metadata": {
    "slideshow": {
     "slide_type": "subslide"
    }
   },
   "source": [
    "* Transmissões por engrenagens são amplamente aplicadas em máquinas e mecanismos, desde abridores de latas até porta-aviões. Quando é necessária\n",
    "* O projeto cinemático de transmissões por engrenagens inclui a escolha de relações de redução apropriadas e diâmetros de engrenagens."
   ]
  },
  {
   "cell_type": "code",
   "execution_count": 1,
   "metadata": {},
   "outputs": [],
   "source": [
    "from IPython.display import IFrame"
   ]
  },
  {
   "cell_type": "code",
   "execution_count": 2,
   "metadata": {},
   "outputs": [
    {
     "data": {
      "text/html": [
       "\n",
       "        <iframe\n",
       "            width=\"720\"\n",
       "            height=\"405\"\n",
       "            src=\"https://www.youtube.com/embed/TvkQzNKCaqg\"\n",
       "            frameborder=\"0\"\n",
       "            allowfullscreen\n",
       "            \n",
       "        ></iframe>\n",
       "        "
      ],
      "text/plain": [
       "<IPython.lib.display.IFrame at 0x7f62acde4df0>"
      ]
     },
     "execution_count": 2,
     "metadata": {},
     "output_type": "execute_result"
    }
   ],
   "source": [
    "IFrame(\"https://www.youtube.com/embed/TvkQzNKCaqg\",720,405)"
   ]
  },
  {
   "cell_type": "markdown",
   "metadata": {
    "slideshow": {
     "slide_type": "slide"
    }
   },
   "source": [
    "## 9.1 Rodas de atrito"
   ]
  },
  {
   "cell_type": "markdown",
   "metadata": {
    "slideshow": {
     "slide_type": "subslide"
    }
   },
   "source": [
    "Esse tipo de transmissão de movimento foi uma das primeiras criadas pelo ser humano. A transmissão por engrenagens surgiu de uma evolução desse mecanismos. \n",
    "\n",
    "Atualmente, esse tipo de transmissão está sendo muito utilizado no esporte de combate de robôs para as classes de peso mais baixas. \n",
    "\n",
    "![](fig9-1.jpg)"
   ]
  },
  {
   "cell_type": "markdown",
   "metadata": {},
   "source": [
    "Uma variação desse mecanismos é a transmissão por correias (planas ou em V). \n",
    "\n",
    "Quando sincronismo absoluto não for necessário e os níveis de potência transmitidos não forem muito altos, uma transmissão por correias será a melhor opção.\n",
    "\n",
    "Elas são relativamente silenciosas, não necessitam de lubrificação e possuem um custo muito menor quando comparadas com transmissões por correntes e engrenagens. \n",
    "\n",
    "![](fig9-2.jpg)"
   ]
  },
  {
   "cell_type": "markdown",
   "metadata": {},
   "source": [
    "A transmissão CVT (*Constant Velocity Transmission*) utilizada em muitos automóveis também é uma transmissão por correia em $V$ e polia na qual as polias ajustam seu espaçamentoe deste modo modificam seus diâmetros."
   ]
  },
  {
   "cell_type": "code",
   "execution_count": 3,
   "metadata": {},
   "outputs": [
    {
     "data": {
      "text/html": [
       "\n",
       "        <iframe\n",
       "            width=\"640\"\n",
       "            height=\"360\"\n",
       "            src=\"https://www.youtube.com/embed/xHWqlfDZnmQ\"\n",
       "            frameborder=\"0\"\n",
       "            allowfullscreen\n",
       "            \n",
       "        ></iframe>\n",
       "        "
      ],
      "text/plain": [
       "<IPython.lib.display.IFrame at 0x7f62acde4f70>"
      ]
     },
     "execution_count": 3,
     "metadata": {},
     "output_type": "execute_result"
    }
   ],
   "source": [
    "IFrame(\"https://www.youtube.com/embed/xHWqlfDZnmQ\",640,360)"
   ]
  },
  {
   "cell_type": "markdown",
   "metadata": {},
   "source": [
    "Observa-se que transmissões por engrenagens e por correia possuem mecanismos de quatro barras para qualquer posição no tempo.\n",
    "\n",
    "![](fig9-3.jpg)"
   ]
  },
  {
   "cell_type": "markdown",
   "metadata": {},
   "source": [
    "## 9.2 Lei Fundamental do Engrenamento"
   ]
  },
  {
   "cell_type": "markdown",
   "metadata": {},
   "source": [
    "**Lei fundamental de engrenamento**\n",
    "\n",
    "*A relação da velocidade angular entre as engrenagens de um par de engrenagens permanece constantes durante o funcionamento.* \n",
    "\n",
    "Não é qualquer formato de dente de engrenagem que irá atender a essa lei. Existe uma grande variedade de formatos de dentes que a atendem, mas, por razões práticas, apenas um pequeno número de formatos é de fato utilizado."
   ]
  },
  {
   "cell_type": "markdown",
   "metadata": {},
   "source": [
    "A relação da velocidade angular ($m_V$) à qual se refere essa lei é a mesma que encontramos para o mecanismo de quatro barras. Para o caso do par de engrenagens, essa relação será igual a razão entre os raios das engrenagens de entrada e saída.\n",
    "$$m_V = \\dfrac{\\omega_{saída}}{\\omega_{entrada}} = \\pm \\dfrac{r_{entrada}}{r_{saída}} = \\pm \\dfrac{d_{entrada}}{d_{saída}}$$"
   ]
  },
  {
   "cell_type": "markdown",
   "metadata": {},
   "source": [
    "A **razão de torque** ($m_T$) é o inverso da relação de velocidade.\n",
    "\n",
    "$$m_T = \\dfrac{\\omega_{entrada}}{\\omega_{saída}} = \\pm \\dfrac{r_{saída}}{r_{entrada}} = \\pm \\dfrac{d_{saída}}{d_{entrada}}$$\n",
    "\n",
    "**Um par de engrenagens é essencialmente um dispositivo para transformar torque em velocidade ou vice-versa**. \n",
    "\n",
    "Sua aplicação mais comum é a de reduzir a velocidade e aumentar o torque para o acionamento de altas cargas.\n",
    "\n",
    "Obs.: Os sinais positivos ou negativos das equações anteriores se referem a montagens com cilindros internos ou externos. Na montagem na qual temos um dos cilindros internos ou uma transmissão por correia ou corrente, a direção de rotação será a mesma da entrada (sinal positivo). \n",
    "\n",
    "![](fig9-extra1.png)"
   ]
  },
  {
   "cell_type": "markdown",
   "metadata": {},
   "source": [
    "Os raios e diâmetros dos pares de engrenagens das equações anteriores referem-se às **circunferências primitivas**."
   ]
  },
  {
   "cell_type": "markdown",
   "metadata": {},
   "source": [
    "### A forma de dente evolvente\n",
    "\n",
    "A curva evolvente pode ser gerada desenrolando-se uma corda do cilindro (chamado gerador). Pode-se afirmar sobre a curva evolvente que:\n",
    "* A corda é sempre tangente ao cilindro\n",
    "* O centro de curvatura é sempre o ponto de tangência entre o cilindro e a corda\n",
    "* Uma tangente à evolvente é sempre normal à corda, seu comprimento é o raio de curvatura da evolvente neste instante.\n",
    "![](fig9-5.jpg)\n",
    "\n",
    "Os cilindros dos quais as evolventes se originam são chamados de **circunferência de base** das respectivas engrenagens."
   ]
  },
  {
   "cell_type": "markdown",
   "metadata": {},
   "source": [
    "![](fig9-6.jpg)"
   ]
  },
  {
   "cell_type": "markdown",
   "metadata": {},
   "source": [
    "A partir da observação do comportamento da evolvente, podemos redefirnir a **lei fundamental de engrenamento** da seguinte maneira:\n",
    "\n",
    "*a normal comum dos perfis dos dentes, em todos os pontos de contato quando unidos, deve sempre passar por um ponto fixo nas linhas de centro, chamado ponto primitivo.*\n",
    "\n",
    "A relação de velocidades do par de engrenagens será, então, uma constante definida pela razão dos respectivos raios das engrenagens em relação ao ponto primitivo.\n",
    "\n",
    "Os pontos de início e término de contato entre os dentes definem o **engrenamento** do pinhão e da engrenagem. A distância da linha de ação entre esses pontos ao longo do engrenamento é chamadade **comprimento de ação**, $Z$, definida pela intersecção dos respectivos círculos de adendo com a linha de ação.\n",
    "\n",
    "$$Z = \\sqrt{(r_p + a_p)^2 - (r_p \\cos \\phi)^2} + \\sqrt{(r_g + a_g)^2 - (r_g \\cos \\phi)^2} - C \\sin \\phi$$"
   ]
  },
  {
   "cell_type": "markdown",
   "metadata": {},
   "source": [
    "![](fig9-7.jpg)"
   ]
  },
  {
   "cell_type": "markdown",
   "metadata": {},
   "source": [
    "### Ângulo de pressão\n",
    "\n",
    "O **ângulo de pressão** é definido como o ângulo entre o eixo de transmissão ou linha de ação (normal comum) e a direção da velocidade no ponto primitivo. \n",
    "\n",
    "Os valores-padrão para o ângulo de pressão são 14,5°, 20° e 25°, porém o mais utilizado é o ângulo de 20°, sendo o ângulo de 14,5° considerado obsoleto. "
   ]
  },
  {
   "cell_type": "markdown",
   "metadata": {},
   "source": [
    "### Alterando a distância entre centros\n",
    "Com a forma evolvente do dente de engrenagem, erros na distância entre centros não afetam a relação de velocidades. Esta é a principal vantagem da forma evolvente em relação a outras possíveis formas de dentes e a razão pela qual esta forma é quase universalmente utilizada para dentes de engrenagens.\n",
    "\n",
    "Observa-se que o ângulo de pressão é alterado quando há erro na distância entre os dentes. \n",
    "\n",
    "Observa-se ainda que a relação de velocidade não é alterada com a mudança da distância entre centros. \n",
    "\n",
    "![](fig9-8.jpg)"
   ]
  },
  {
   "cell_type": "markdown",
   "metadata": {},
   "source": [
    "### Jogo nos dentes\n",
    "O **jogo nos dentes** é definido como o vão entre os dentes em contato medido na circunferência primitiva. Tolerâncias de fabricação evitam folgas iguais a zero, pois nem todos os dentes possuem as mesmas dimensões e todos devem engrenar. Portanto, deve haver uma pequena diferença entre a espessura dos dentes e o espaçamento entre eles. \n",
    "\n",
    "Se a distância entre centros for definidas exatamente para obedecer ao valor teórico definido para o conjunto de engrenagens, a tolerância de jogo deve variar na faixa de 0,003 a 0,018 mm para engrenagens de precisão.\n",
    "\n",
    "O aumento do jogo angular em função do erro na distância entre centros é aproximadamente $\\theta_B = 43 200 (\\Delta C) \\dfrac{\\tan \\phi}{\\pi d}$ minutos  de arco"
   ]
  },
  {
   "cell_type": "markdown",
   "metadata": {},
   "source": [
    "## 9.3 Nomenclatura de Dentes de Engrenagens"
   ]
  },
  {
   "cell_type": "markdown",
   "metadata": {},
   "source": [
    "Na figura a seguir é mostrado dois dentes de engrenagem com a nomenclatura-padrão definida\n",
    "![](fig9-9.jpg)"
   ]
  },
  {
   "cell_type": "markdown",
   "metadata": {},
   "source": [
    "O **passo circular** $p_c$ é o comprimento do arco ao longo da circunferência primitiva medido de um ponto em um dente ao mesmo ponto no dente seguinte.\n",
    "\n",
    "$$p_c = \\dfrac{\\pi d}{N}$$\n",
    "\n",
    "Onde $d$ é o diâmetro primitivo e $N$ é o número de dentes. \n",
    "\n",
    "O passo do dente também pode ser medido ao longo do círculo da circunferência de base e é chamado de **passo de base** $p_b$.\n",
    "\n",
    "$$p_b = p_c \\cos \\phi$$\n",
    "\n",
    "A unidade de $p_b$ e $p_c$ é milímetros."
   ]
  },
  {
   "cell_type": "markdown",
   "metadata": {},
   "source": [
    "Uma maneira mais comum e conveniente de definir o tamanho dos dentes é relacionar esse tamanho ao diâmetro da circunferência primitiva, em vez de seu perímetro. No sistema SI, o **módulo** $m$ é representado por\n",
    "$$m = \\dfrac{d}{N}$$"
   ]
  },
  {
   "cell_type": "markdown",
   "metadata": {},
   "source": [
    "A **relação de velocidade** e a **razão de torque** do par de engrenagens podem ser expressas como:\n",
    "$$m_V = \\pm \\dfrac{d_{entrada}}{d_{saída}} = \\pm \\dfrac{N_{entrada}}{N_{saída}}$$\n",
    "\n",
    "\n",
    "$$m_T = \\pm \\dfrac{d_{saída}}{d_{entrada}} = \\pm \\dfrac{N_{saída}}{N_{entrada}}$$"
   ]
  },
  {
   "cell_type": "markdown",
   "metadata": {},
   "source": [
    "Define-se a **relação de transmissão** $m_G$ como:\n",
    "$$m_G = |m_V| $$\n",
    "ou\n",
    "$$m_G = |m_T|$$\n",
    "de modo que $m_G \\geq 1$"
   ]
  },
  {
   "cell_type": "markdown",
   "metadata": {},
   "source": [
    "Em engrenagens padronizadas, o adendo da engrenagem motora e movida é o mesmo, e o dedendo é um pouco maior para haver folga. As dimensões dos dentes de uma engrenagem padronizada são definidas de acordo com o módulo.\n",
    "![](tab9-1.jpg)"
   ]
  },
  {
   "cell_type": "markdown",
   "metadata": {},
   "source": [
    "## 9.4 Interferência e Adelgamento"
   ]
  },
  {
   "cell_type": "markdown",
   "metadata": {},
   "source": [
    "Em alguns casos, por conta dos processos de fabricação, o dedendo será suficientemente largo, de modo que a proporção abaixo da circunferência de base não será evolvente. Isto causará interferência entre o dedendo e a ponta da engrenagem do outro par (que é evolvente). \n",
    "\n",
    "Se a engrenagem for usinada com uma ferramenta de corte padronizada ou uma \"fresa caracol\", a ferramenta de corte também irá interferir com as proporções do dente abaixo da circunferência de base e irá eliminar o material que causa interferência. Nomeia-se esse processo de adelgamento e observa-se que ele enfraquece a raiz do dente.\n",
    "\n",
    "![](fig9-12.jpg)"
   ]
  },
  {
   "cell_type": "markdown",
   "metadata": {},
   "source": [
    "![](fig9-13.jpg)"
   ]
  },
  {
   "cell_type": "markdown",
   "metadata": {},
   "source": [
    "## Razão de Contato ou Grau de Recobrimento"
   ]
  },
  {
   "cell_type": "markdown",
   "metadata": {},
   "source": [
    "A **razão de contato** ou grau de **recobrimento** define o número médio de dentes em contato em um determinado instante como:\n",
    "$$m_p = \\dfrac{Z}{p_b}$$\n",
    "\n",
    "Ou, em função do módulo:\n",
    "\n",
    "$$m_p = \\dfrac{Z}{\\pi m \\cos\\phi}$$"
   ]
  },
  {
   "cell_type": "markdown",
   "metadata": {},
   "source": [
    "A menor razão de contato aceitável para operações leves é de 1,2. Uma razão de contato de 1,4 é preferencial, e quanto maior melhor. A maior parte dos conjuntos de engrenagens cilíndricas de dentes retos terá razão de contato entre 1,4 e 2."
   ]
  },
  {
   "cell_type": "markdown",
   "metadata": {},
   "source": [
    "### Exemplo 1\n",
    "Encontre a relação de transmissão, o passo circular, passo de base, os diâmetros primitivos, os raios primitivos, a distância entre centros, o adendo, o dedendo, a profundidade do dente, a folga, os diâmetros externos e o grau de recobrimento do par de engrenagens com os parâmetros dados. Se a distância entre centros aumentar 2%, qual será o novo ângulo de pressão e aumento do jogo? \n",
    "\n",
    "Dados: m=4mm, ângulo de pressão de 20°, 19 dentes no pinhão e 37 dentes na engrenagem. "
   ]
  },
  {
   "cell_type": "markdown",
   "metadata": {},
   "source": [
    "Para resolver esse exemplo, criaremos uma classe em Python. A programação orientada a objetos é uma das abordagens mais eficientes para escrever software. Na programação orientada a objetos, escrevemos classes que representam entidades e situações do mundo real, e criamos objetos com base nessas classes. Quando escrevemos uma classe, definimos o comportamento geral que toda uma categoria de objetos pode ter. "
   ]
  },
  {
   "cell_type": "code",
   "execution_count": 4,
   "metadata": {},
   "outputs": [],
   "source": [
    "from numpy import pi,cos,sin,arccos,tan"
   ]
  },
  {
   "cell_type": "code",
   "execution_count": 5,
   "metadata": {},
   "outputs": [],
   "source": [
    "class Par_de_Engrenagens():\n",
    "    \n",
    "    def __init__(self,m,Npinhao,Ncoroa,phi):\n",
    "        self.m = m  # armazena o módulo\n",
    "        self.Npinhao = Npinhao # armazena o número de dentes do pinhão\n",
    "        self.Ncoroa = Ncoroa # armazena o número de dentes da coroa\n",
    "        self.phi = phi # armazena o ângulo de pressão\n",
    "        \n",
    "    def mg(self):\n",
    "        mg = self.Ncoroa/self.Npinhao # razão de engrenamento\n",
    "        return mg\n",
    "        \n",
    "    def pc(self): # passo circular\n",
    "        pc = pi*self.m\n",
    "        return pc\n",
    "    \n",
    "    def pb(self): # passo de base\n",
    "        pb = self.pc()*cos(self.phi*pi/180)\n",
    "        return pb\n",
    "    \n",
    "    def dp(self):\n",
    "        dp = self.Npinhao*self.m # diâmetro primitivo do pinhão\n",
    "        return dp\n",
    "    \n",
    "    def rp(self):\n",
    "        rp = self.dp()/2 # raio primitivo do pinhão\n",
    "        return rp\n",
    "    \n",
    "    def dc(self):\n",
    "        dc = self.Ncoroa*self.m # diâmetro primitivo da coroa\n",
    "        return dc\n",
    "    \n",
    "    def rc(self):\n",
    "        rc = self.dc()/2 # raio primitivo da coroa\n",
    "        return rc\n",
    "    \n",
    "    def C(self):\n",
    "        C = self.rp() + self.rc() # distância entre centros\n",
    "        return C\n",
    "    \n",
    "    def adendo(self):\n",
    "        adendo = self.m\n",
    "        return adendo\n",
    "    \n",
    "    def dedendo(self):\n",
    "        if self.m >= 1.25:\n",
    "            return 1.25*self.m\n",
    "        else:\n",
    "            return 1.4*self.m \n",
    "    \n",
    "    def ht(self): \n",
    "        ht = self.adendo() + self.dedendo()  # profundidade total do dente\n",
    "        return(ht)\n",
    "    \n",
    "    def folga(self):\n",
    "        folga = self.dedendo() - self.adendo()\n",
    "        return folga\n",
    "    \n",
    "    def Dop(self):\n",
    "        Dop = self.dp() + 2*self.adendo() # diâmetro externo do pinhão\n",
    "        return Dop\n",
    "    \n",
    "    def Doc(self):\n",
    "        Doc = self.dc() + 2*self.adendo() # diâmetro externo da coroa\n",
    "        return Doc\n",
    "    \n",
    "    def Z(self):\n",
    "        Z = ((self.rp() + self.adendo())**2 - (self.rp()*cos(self.phi*pi/180))**2)**(1/2) + ((self.rc() + self.adendo())**2 - (self.rc()*cos(self.phi*pi/180))**2)**(1/2) - self.C()*sin(self.phi*pi/180) \n",
    "        return Z\n",
    "\n",
    "    def mp(self):\n",
    "        mp = self.Z()/self.pb() # grau de recobrimento\n",
    "        return mp\n",
    "    \n",
    "    def updateC(self,upC):\n",
    "        por = upC/self.C() # porcentagem de aumento da distância entre centros\n",
    "        self.phi = arccos(cos(self.phi*pi/180)/por)*180/pi # atualizou o valor do ângulo de pressão\n",
    "        thB = 43200*(upC - self.C())*tan(self.phi*pi/180)/(pi*self.dp())\n",
    "        print('O jogo é de: ' + str(thB) + ' minutos de arco')\n",
    "        "
   ]
  },
  {
   "cell_type": "markdown",
   "metadata": {},
   "source": [
    "Criando um par de engrenagens a partir da classe definida:"
   ]
  },
  {
   "cell_type": "code",
   "execution_count": 6,
   "metadata": {},
   "outputs": [],
   "source": [
    "Eng1 = Par_de_Engrenagens(4,19,37,20)"
   ]
  },
  {
   "cell_type": "markdown",
   "metadata": {},
   "source": [
    "Razão de engrenamento:"
   ]
  },
  {
   "cell_type": "code",
   "execution_count": 7,
   "metadata": {},
   "outputs": [
    {
     "data": {
      "text/plain": [
       "1.9473684210526316"
      ]
     },
     "execution_count": 7,
     "metadata": {},
     "output_type": "execute_result"
    }
   ],
   "source": [
    "Eng1.mg()"
   ]
  },
  {
   "cell_type": "markdown",
   "metadata": {},
   "source": [
    "Passo circular:"
   ]
  },
  {
   "cell_type": "code",
   "execution_count": 8,
   "metadata": {},
   "outputs": [
    {
     "data": {
      "text/plain": [
       "12.566370614359172"
      ]
     },
     "execution_count": 8,
     "metadata": {},
     "output_type": "execute_result"
    }
   ],
   "source": [
    "Eng1.pc()"
   ]
  },
  {
   "cell_type": "markdown",
   "metadata": {},
   "source": [
    "Passo de base:"
   ]
  },
  {
   "cell_type": "code",
   "execution_count": 9,
   "metadata": {},
   "outputs": [
    {
     "data": {
      "text/plain": [
       "11.808525736374197"
      ]
     },
     "execution_count": 9,
     "metadata": {},
     "output_type": "execute_result"
    }
   ],
   "source": [
    "Eng1.pb()"
   ]
  },
  {
   "cell_type": "markdown",
   "metadata": {},
   "source": [
    "Diâmetro primitivo do pinhão:"
   ]
  },
  {
   "cell_type": "code",
   "execution_count": 10,
   "metadata": {},
   "outputs": [
    {
     "data": {
      "text/plain": [
       "76"
      ]
     },
     "execution_count": 10,
     "metadata": {},
     "output_type": "execute_result"
    }
   ],
   "source": [
    "Eng1.dp()"
   ]
  },
  {
   "cell_type": "markdown",
   "metadata": {},
   "source": [
    "Diâmetro primitivo da coroa:"
   ]
  },
  {
   "cell_type": "code",
   "execution_count": 11,
   "metadata": {},
   "outputs": [
    {
     "data": {
      "text/plain": [
       "148"
      ]
     },
     "execution_count": 11,
     "metadata": {},
     "output_type": "execute_result"
    }
   ],
   "source": [
    "Eng1.dc()"
   ]
  },
  {
   "cell_type": "markdown",
   "metadata": {},
   "source": [
    "Raio primitivo do pinhão:"
   ]
  },
  {
   "cell_type": "code",
   "execution_count": 12,
   "metadata": {},
   "outputs": [
    {
     "data": {
      "text/plain": [
       "38.0"
      ]
     },
     "execution_count": 12,
     "metadata": {},
     "output_type": "execute_result"
    }
   ],
   "source": [
    "Eng1.rp()"
   ]
  },
  {
   "cell_type": "markdown",
   "metadata": {},
   "source": [
    "Raio primitivo da coroa:"
   ]
  },
  {
   "cell_type": "code",
   "execution_count": 13,
   "metadata": {},
   "outputs": [
    {
     "data": {
      "text/plain": [
       "74.0"
      ]
     },
     "execution_count": 13,
     "metadata": {},
     "output_type": "execute_result"
    }
   ],
   "source": [
    "Eng1.rc()"
   ]
  },
  {
   "cell_type": "markdown",
   "metadata": {},
   "source": [
    "Distância entre centros:"
   ]
  },
  {
   "cell_type": "code",
   "execution_count": 14,
   "metadata": {},
   "outputs": [
    {
     "data": {
      "text/plain": [
       "112.0"
      ]
     },
     "execution_count": 14,
     "metadata": {},
     "output_type": "execute_result"
    }
   ],
   "source": [
    "Eng1.C()"
   ]
  },
  {
   "cell_type": "markdown",
   "metadata": {},
   "source": [
    "Profundidade do dente:"
   ]
  },
  {
   "cell_type": "code",
   "execution_count": 15,
   "metadata": {},
   "outputs": [
    {
     "data": {
      "text/plain": [
       "9.0"
      ]
     },
     "execution_count": 15,
     "metadata": {},
     "output_type": "execute_result"
    }
   ],
   "source": [
    "Eng1.ht()"
   ]
  },
  {
   "cell_type": "markdown",
   "metadata": {},
   "source": [
    "Folga:"
   ]
  },
  {
   "cell_type": "code",
   "execution_count": 16,
   "metadata": {},
   "outputs": [
    {
     "data": {
      "text/plain": [
       "1.0"
      ]
     },
     "execution_count": 16,
     "metadata": {},
     "output_type": "execute_result"
    }
   ],
   "source": [
    "Eng1.folga()"
   ]
  },
  {
   "cell_type": "markdown",
   "metadata": {},
   "source": [
    "Diâmetro externo do pinhão:"
   ]
  },
  {
   "cell_type": "code",
   "execution_count": 17,
   "metadata": {},
   "outputs": [
    {
     "data": {
      "text/plain": [
       "84"
      ]
     },
     "execution_count": 17,
     "metadata": {},
     "output_type": "execute_result"
    }
   ],
   "source": [
    "Eng1.Dop()"
   ]
  },
  {
   "cell_type": "markdown",
   "metadata": {},
   "source": [
    "Diâmetro externo da coroa:"
   ]
  },
  {
   "cell_type": "code",
   "execution_count": 18,
   "metadata": {},
   "outputs": [
    {
     "data": {
      "text/plain": [
       "156"
      ]
     },
     "execution_count": 18,
     "metadata": {},
     "output_type": "execute_result"
    }
   ],
   "source": [
    "Eng1.Doc()"
   ]
  },
  {
   "cell_type": "raw",
   "metadata": {
    "slideshow": {
     "slide_type": "fragment"
    }
   },
   "source": [
    "Grau de recobrimento:"
   ]
  },
  {
   "cell_type": "code",
   "execution_count": 19,
   "metadata": {},
   "outputs": [
    {
     "data": {
      "text/plain": [
       "19.140301431287128"
      ]
     },
     "execution_count": 19,
     "metadata": {},
     "output_type": "execute_result"
    }
   ],
   "source": [
    "Eng1.Z()"
   ]
  },
  {
   "cell_type": "code",
   "execution_count": 20,
   "metadata": {},
   "outputs": [
    {
     "data": {
      "text/plain": [
       "1.620888319049737"
      ]
     },
     "execution_count": 20,
     "metadata": {},
     "output_type": "execute_result"
    }
   ],
   "source": [
    "Eng1.mp()"
   ]
  },
  {
   "cell_type": "markdown",
   "metadata": {},
   "source": [
    "Nova distância entre centros:"
   ]
  },
  {
   "cell_type": "code",
   "execution_count": 21,
   "metadata": {},
   "outputs": [
    {
     "name": "stdout",
     "output_type": "stream",
     "text": [
      "O jogo é de: 171.10164658679147 minutos de arco\n"
     ]
    }
   ],
   "source": [
    "Eng1.updateC(Eng1.C()*1.02)"
   ]
  },
  {
   "cell_type": "code",
   "execution_count": 22,
   "metadata": {
    "scrolled": true
   },
   "outputs": [
    {
     "data": {
      "text/plain": [
       "22.887942253587646"
      ]
     },
     "execution_count": 22,
     "metadata": {},
     "output_type": "execute_result"
    }
   ],
   "source": [
    "Eng1.phi"
   ]
  },
  {
   "cell_type": "markdown",
   "metadata": {},
   "source": [
    "## 9.6 Tipos de Engrenagens"
   ]
  },
  {
   "cell_type": "markdown",
   "metadata": {},
   "source": [
    "Engrenagens são fabricadas com várias configurações para aplicações particulares. Os tipos mais comuns são:\n",
    "\n",
    "* engrenagens cilíndricas de dentes retos\n",
    "* engrenagens de dentes helicoidais\n",
    "* rosca sem fim e coroa\n",
    "* pinhão e cremalheira\n",
    "* engrenagens cônicas\n",
    "* engrenagens hipoidais"
   ]
  },
  {
   "cell_type": "markdown",
   "metadata": {},
   "source": [
    "**Engrenagens Retas**"
   ]
  },
  {
   "cell_type": "markdown",
   "metadata": {},
   "source": [
    "![](fig9-14.jpg)"
   ]
  },
  {
   "cell_type": "markdown",
   "metadata": {},
   "source": [
    "**Engrenagens Helicoidais**"
   ]
  },
  {
   "cell_type": "markdown",
   "metadata": {},
   "source": [
    "![](fig9-16.jpg)"
   ]
  },
  {
   "cell_type": "markdown",
   "metadata": {},
   "source": [
    "![](fig9-15.jpg)"
   ]
  },
  {
   "cell_type": "markdown",
   "metadata": {},
   "source": [
    "![](fig9-17.jpg)"
   ]
  },
  {
   "cell_type": "markdown",
   "metadata": {},
   "source": [
    "**Engrenagem Rosca Sem Fim Coroa**"
   ]
  },
  {
   "cell_type": "markdown",
   "metadata": {},
   "source": [
    "![](fig9-18.jpg)"
   ]
  },
  {
   "cell_type": "markdown",
   "metadata": {},
   "source": [
    "**Pinhão e Cremalheira**"
   ]
  },
  {
   "cell_type": "markdown",
   "metadata": {},
   "source": [
    "![](fig9-19.jpg)"
   ]
  },
  {
   "cell_type": "markdown",
   "metadata": {},
   "source": [
    "**Engrenagens Cônicas**"
   ]
  },
  {
   "cell_type": "markdown",
   "metadata": {},
   "source": [
    "![](fig9-20.jpg)"
   ]
  },
  {
   "cell_type": "markdown",
   "metadata": {},
   "source": [
    "![](fig9-21.jpg)"
   ]
  },
  {
   "cell_type": "markdown",
   "metadata": {},
   "source": [
    "**Engrenagens Hipoidas**"
   ]
  },
  {
   "cell_type": "markdown",
   "metadata": {},
   "source": [
    "![](fig9-22.jpg)"
   ]
  },
  {
   "cell_type": "markdown",
   "metadata": {},
   "source": [
    "**Engrenagens não circulares**\n",
    "\n",
    "Engrenagens não circulares são baseadas em centroides rolantes de um mecanismo de quatro barras Grashof dupla manivela.\n",
    "![engrenagem nautilus](nautilus-gear.jpg)"
   ]
  },
  {
   "cell_type": "code",
   "execution_count": null,
   "metadata": {},
   "outputs": [],
   "source": []
  },
  {
   "cell_type": "markdown",
   "metadata": {},
   "source": [
    "**Correias e Correntes**\n",
    "![](fig9-25.jpg)"
   ]
  },
  {
   "cell_type": "markdown",
   "metadata": {},
   "source": [
    "## 9.7 Transmissões por Engrenagens Simples"
   ]
  },
  {
   "cell_type": "markdown",
   "metadata": {},
   "source": [
    "Uma transmissão por engrenagens é um conjunto de duas ou mais engrenagens que se engrenam. Uma transmissão por engrenagens simples é aquela em que cada eixo possui apenas uma engrenagem, sendo o seu exemplo mais básico, de duas engrenagens. \n",
    "\n",
    "![](trem_de_engrenagens_simples.png)\n",
    "\n",
    "$$m_V= \\left( -\\dfrac{N_2}{N_3}\\right)\\left( -\\dfrac{N_3}{N_4}\\right)\\left( -\\dfrac{N_4}{N_5}\\right)\\left( -\\dfrac{N_5}{N_6}\\right) = + \\dfrac{N_2}{N_6} $$\n",
    "\n",
    "de modo geral:\n",
    "\n",
    "$$m_V = \\pm \\dfrac{N_{entrada}}{N_{saída}}$$"
   ]
  },
  {
   "cell_type": "markdown",
   "metadata": {},
   "source": [
    "## 9.8 Transmissão por Engrenagens Compostas"
   ]
  },
  {
   "cell_type": "markdown",
   "metadata": {},
   "source": [
    "Para obter uma relação maior que 10:1 com engrenagens cilíndricas de dentes retos, helicoidais ou cônicos (ou qualquer combinação delas), é necessário **compor a transmissão** (a menos que uma transmissão epicicloidal seja usada). \n",
    "\n",
    "Uma **transmissão composta** é aquela em que pelo menos um eixo carrega mais de uma engrenagem. "
   ]
  },
  {
   "cell_type": "markdown",
   "metadata": {},
   "source": [
    "![](fig9-29.jpg)\n",
    "\n",
    "$$m_V = \\left(-\\dfrac{N_2}{N3}\\right)\\left(-\\dfrac{N_4}{N5}\\right)$$\n",
    "\n",
    "ou:\n",
    "\n",
    "$$m_V = \\pm \\dfrac{produto \\quad dos \\quad números \\quad de \\quad dentes \\quad das \\quad engrenagens \\quad motoras}{produto \\quad dos \\quad números \\quad de \\quad dentes \\quad das \\quad engrenagens \\quad movidas} $$"
   ]
  },
  {
   "cell_type": "markdown",
   "metadata": {},
   "source": [
    "* O redutor de engrenagens cujos eixos de entrada e saída não são coincidentes, é chamado de **transmissão composta não reversa**. \n",
    "* O redutor de engrenagens cujos eixos de entrada e saída são coincidentes, é chamado de **transmissão composta reversa**.\n"
   ]
  },
  {
   "cell_type": "markdown",
   "metadata": {},
   "source": [
    "Para o trem de engrenagens composto:\n",
    "$$r_2 + r_3 = r_4 + r_5$$\n",
    "\n",
    "Se o módulo for o mesmo para todas as engrenagens:\n",
    "$$N_2 + N_3 = N_4 + N_5 $$"
   ]
  },
  {
   "cell_type": "markdown",
   "metadata": {},
   "source": [
    "![](fig9-32.jpg)"
   ]
  },
  {
   "cell_type": "markdown",
   "metadata": {},
   "source": [
    "## Transmissões por Engrenagens Planetárias ou Epicicloidais"
   ]
  },
  {
   "cell_type": "markdown",
   "metadata": {},
   "source": [
    "Todas as transmissões por engrenagens convencionais descritas na seção anterior são dispositivos de um grau de liberdade. Outra classe de transmissões por engrenagens, a qual tem ampla aplicação, é a transmissão epicicloidal ou transmissão planetária.\n",
    "\n",
    "Esse é um dispositivo de dois graus de liberdade. Duas entradas são necessárias para obter uma saída previsível. "
   ]
  },
  {
   "cell_type": "markdown",
   "metadata": {},
   "source": [
    "![](Planetary_Gear_Animation.gif)"
   ]
  },
  {
   "cell_type": "code",
   "execution_count": 23,
   "metadata": {},
   "outputs": [
    {
     "data": {
      "text/html": [
       "\n",
       "        <iframe\n",
       "            width=\"720\"\n",
       "            height=\"405\"\n",
       "            src=\"https://www.youtube.com/embed/A3aSLLXTnzo\"\n",
       "            frameborder=\"0\"\n",
       "            allowfullscreen\n",
       "            \n",
       "        ></iframe>\n",
       "        "
      ],
      "text/plain": [
       "<IPython.lib.display.IFrame at 0x7f628836d9f0>"
      ]
     },
     "execution_count": 23,
     "metadata": {},
     "output_type": "execute_result"
    }
   ],
   "source": [
    "IFrame('https://www.youtube.com/embed/A3aSLLXTnzo',720,405)"
   ]
  },
  {
   "cell_type": "markdown",
   "metadata": {},
   "source": [
    "![](shigley-7-33.png)"
   ]
  },
  {
   "cell_type": "markdown",
   "metadata": {},
   "source": [
    "![](fig9-33.jpg)"
   ]
  },
  {
   "cell_type": "markdown",
   "metadata": {},
   "source": [
    "A velocidade de uma engrenagem de um sistema de engrenagem epicicloidal pode ser obtida ao+ encontrar os pontos de velocidades iguais (pontos de contato) entre as engrenagens acopladas e, a partir disto, obter as razões de velocidades."
   ]
  },
  {
   "cell_type": "markdown",
   "metadata": {},
   "source": [
    "### Exemplo\n",
    "\n",
    "Considere a transmissão mostrada na figura a seguir, que possui os seguintes números de dentes e condições iniciais:\n",
    "\n",
    "| Engrenagem | Números de dentes e condições iniciais |\n",
    "| --- | --- |\n",
    "| Engrenagem solar | $N_2$ = 40 dentes - engrenagem externa |\n",
    "| Engrenagem planetária | $N_3$ = 20 dentes - engrenagem externa |\n",
    "| Engrenagem anelar | $N_4$ = 80 dentes - engrenagem interna |\n",
    "| Entrada pelo braço | 200 rpm, sentido horário |\n",
    "| Entrada pela engrenagem solar | 100 rpm, sentido horário |"
   ]
  },
  {
   "cell_type": "markdown",
   "metadata": {},
   "source": [
    "![](fig9-34.jpg)\n",
    "\n",
    "**Obtenha a rotação por minuto da engrenagem anelar (engrenagem de saída).**"
   ]
  },
  {
   "cell_type": "markdown",
   "metadata": {},
   "source": [
    "**Solução:**"
   ]
  },
  {
   "cell_type": "markdown",
   "metadata": {},
   "source": [
    "Inicialmente, precisamos determinar os sentidos de rotação das engrenagens movidas. Para isto, observa-se que a velocidade angular do braço é maior que a velocidade angular da engrenagem sol e ambas estão girando no mesmo sentido, logo, observa-se que a engrenagem planeta precisa girar no mesmo sentido que a engrenagem sol de modo que as suas velocidades sejam somadas. "
   ]
  },
  {
   "cell_type": "markdown",
   "metadata": {},
   "source": [
    "![](eng-planetarias.png)"
   ]
  },
  {
   "cell_type": "markdown",
   "metadata": {},
   "source": [
    "Podemos escrever os raios das engrenagens em função do número de dentes e do módulo. Observa-se que, para que ocorra o engrenamento, os módulos em todas as engrenagens devem ser iguais. \n",
    "\n",
    "$r_{sol} = \\dfrac{m N_2}{2} \\qquad r_{planeta} = \\dfrac{m N_3}{2} \\qquad r_{anel} = \\dfrac{m N_4}{2} \\qquad r_{braço} = \\dfrac{m(N_2 + N_3)}{2} $ \n",
    "\n",
    "Escreve-se a velocidade do ponto de contado entre a engrenagem sol e a engrenagem planeta, ponto $A$, e do centro de rotação da engrenagem planeta, ponto $O_3$ como:\n",
    "\n",
    "$V_A = \\dfrac {m N_2}{2} \\omega_{sol} \\qquad V_{O3} = \\dfrac{m(N_2 + N_3)}{2} \\omega_{braço} $\n",
    "\n",
    "A velocidade absoluta do ponto $O_3$ é igual a velocidade absoluta do ponto $A$ mais a velocidade relativa de $O_3$ para $A$:\n",
    "\n",
    "$V_{O3} = V_{O3A} + V_{A}$\n",
    "\n",
    "Substituindo os termos da equação anterior e dividindo ambos os lados da equação pelo módulo, temos que:\n",
    "\n",
    "$(N_2 + N_3) \\omega_{braço} = N_2 \\omega_{planeta} + N_2 \\omega_{sol}$\n",
    "\n",
    "Deste modo, obtém-se a velocidade angular da engrenagem planeta:\n",
    "\n",
    "$ \\omega_{planeta} = \\dfrac{(N_2 + N_3) \\omega_{braço} - N_2 \\omega_{sol}}{N_2} $\n",
    "\n",
    "A velocidade absoluta do ponto de contato entre a engrenagem planeta e a engrenagem anel, ponto $B$ é igual a soma da velocidade absoluta do ponto $O_3$ mais a velocidade relativa de $B$ para $O_3$:\n",
    "\n",
    "$V_B = V_{O3} + V_{BO3} $\n",
    "\n",
    "Substituindo os termos da equação anterior e dividindo ambos os lados da equação pelo módulo, temos que:\n",
    "\n",
    "$N_4 \\omega_{anel} = (N_2 + N_3) \\omega_{braço} + (N_3) \\omega_{planeta} $\n",
    "\n",
    "Finalmente, é obtido a velocidade da engrenagem anel, velocidade de saída do mecanismo: \n",
    "\n",
    "$\\omega_{anel} = \\dfrac{(N_2 + N_3) \\omega_{braço} + N_3 \\omega_{planeta}}{N_4} $"
   ]
  },
  {
   "cell_type": "code",
   "execution_count": 24,
   "metadata": {},
   "outputs": [],
   "source": [
    "# Dados do problema:\n",
    "N2 = 40\n",
    "N3 = 20\n",
    "N4 = 80\n",
    "rpm_braço = 200\n",
    "rpm_sol = 100"
   ]
  },
  {
   "cell_type": "code",
   "execution_count": 25,
   "metadata": {},
   "outputs": [],
   "source": [
    "w_sol = 2*pi*rpm_sol/60\n",
    "w_braço = 2*pi*rpm_braço/60"
   ]
  },
  {
   "cell_type": "code",
   "execution_count": 26,
   "metadata": {},
   "outputs": [
    {
     "data": {
      "text/plain": [
       "200"
      ]
     },
     "execution_count": 26,
     "metadata": {},
     "output_type": "execute_result"
    }
   ],
   "source": [
    "w_planeta = ((N2+N3)*w_braço - N2*w_sol)/N2\n",
    "rpm_planeta = w_planeta*60/(2*pi)\n",
    "round(rpm_planeta)"
   ]
  },
  {
   "cell_type": "code",
   "execution_count": 27,
   "metadata": {},
   "outputs": [
    {
     "data": {
      "text/plain": [
       "200"
      ]
     },
     "execution_count": 27,
     "metadata": {},
     "output_type": "execute_result"
    }
   ],
   "source": [
    "w_anel = (N2+N3)*w_braço + N3*w_planeta\n",
    "rpm_anel = (w_anel*60/(2*pi))/N4\n",
    "round(rpm_anel)"
   ]
  },
  {
   "cell_type": "markdown",
   "metadata": {},
   "source": [
    "### Paradoxo de Ferguson\n",
    "\n",
    "O Paradoxo de Ferguson consiste em uma transmissão epicicloidal composta com engrenagem planetária de 20 dentes (engrenagem 5) movida através do braço e ligada simultaneamente com três engrenagens solares. Essas engrenagens solares têm 100 (engrenagem 2), 99 (engrenagem 3) e 101 (engrenagem 4) dentes. A distância entre centros de todas as engrenagens solares e planetária é a mesma, apesar da pequena diferença nos seus diâmetros primitivos. Isto é possível por causa das propriedades da forma evolvente do dente."
   ]
  },
  {
   "cell_type": "markdown",
   "metadata": {},
   "source": [
    "![](fig9-39.jpg)"
   ]
  },
  {
   "cell_type": "code",
   "execution_count": 28,
   "metadata": {},
   "outputs": [
    {
     "data": {
      "text/html": [
       "\n",
       "        <iframe\n",
       "            width=\"720\"\n",
       "            height=\"405\"\n",
       "            src=\"https://www.youtube.com/embed/PSDn6F1A5oc\"\n",
       "            frameborder=\"0\"\n",
       "            allowfullscreen\n",
       "            \n",
       "        ></iframe>\n",
       "        "
      ],
      "text/plain": [
       "<IPython.lib.display.IFrame at 0x7f628836d420>"
      ]
     },
     "execution_count": 28,
     "metadata": {},
     "output_type": "execute_result"
    }
   ],
   "source": [
    "IFrame(\"https://www.youtube.com/embed/PSDn6F1A5oc\",720,405)"
   ]
  },
  {
   "cell_type": "markdown",
   "metadata": {},
   "source": [
    "## 9.9 Diferenciais"
   ]
  },
  {
   "cell_type": "markdown",
   "metadata": {},
   "source": [
    "Um diferencial é o dispositivo que permite uma diferença de velocidade (e deslocamento) entre dois elementos.\n",
    "\n",
    "![](fig9-50.jpg)"
   ]
  },
  {
   "cell_type": "code",
   "execution_count": 29,
   "metadata": {},
   "outputs": [
    {
     "data": {
      "text/html": [
       "\n",
       "        <iframe\n",
       "            width=\"560\"\n",
       "            height=\"315\"\n",
       "            src=\"https://www.youtube.com/embed/yYAw79386WI\"\n",
       "            frameborder=\"0\"\n",
       "            allowfullscreen\n",
       "            \n",
       "        ></iframe>\n",
       "        "
      ],
      "text/plain": [
       "<IPython.lib.display.IFrame at 0x7f628836d1e0>"
      ]
     },
     "execution_count": 29,
     "metadata": {},
     "output_type": "execute_result"
    }
   ],
   "source": [
    "IFrame(\"https://www.youtube.com/embed/yYAw79386WI\",560,315)"
   ]
  },
  {
   "cell_type": "code",
   "execution_count": 30,
   "metadata": {},
   "outputs": [
    {
     "data": {
      "text/html": [
       "\n",
       "        <iframe\n",
       "            width=\"720\"\n",
       "            height=\"405\"\n",
       "            src=\"https://www.youtube.com/embed/8AYt0sNHjHs\"\n",
       "            frameborder=\"0\"\n",
       "            allowfullscreen\n",
       "            \n",
       "        ></iframe>\n",
       "        "
      ],
      "text/plain": [
       "<IPython.lib.display.IFrame at 0x7f628836d810>"
      ]
     },
     "execution_count": 30,
     "metadata": {},
     "output_type": "execute_result"
    }
   ],
   "source": [
    "IFrame(\"https://www.youtube.com/embed/8AYt0sNHjHs\",720,405)"
   ]
  },
  {
   "cell_type": "markdown",
   "metadata": {},
   "source": [
    "![](fig9-51.jpg)"
   ]
  },
  {
   "cell_type": "markdown",
   "metadata": {},
   "source": [
    "![](fig9-53.jpg)"
   ]
  },
  {
   "cell_type": "code",
   "execution_count": 31,
   "metadata": {},
   "outputs": [
    {
     "data": {
      "text/html": [
       "\n",
       "        <iframe\n",
       "            width=\"720\"\n",
       "            height=\"405\"\n",
       "            src=\"https://www.youtube.com/embed/WeLm7wHvdxQ\"\n",
       "            frameborder=\"0\"\n",
       "            allowfullscreen\n",
       "            \n",
       "        ></iframe>\n",
       "        "
      ],
      "text/plain": [
       "<IPython.lib.display.IFrame at 0x7f628836c280>"
      ]
     },
     "execution_count": 31,
     "metadata": {},
     "output_type": "execute_result"
    }
   ],
   "source": [
    "IFrame(\"https://www.youtube.com/embed/WeLm7wHvdxQ\",720,405)"
   ]
  },
  {
   "cell_type": "code",
   "execution_count": 32,
   "metadata": {},
   "outputs": [
    {
     "data": {
      "text/html": [
       "\n",
       "        <iframe\n",
       "            width=\"720\"\n",
       "            height=\"405\"\n",
       "            src=\"https://www.youtube.com/embed/JEiSTzK-A2A\"\n",
       "            frameborder=\"0\"\n",
       "            allowfullscreen\n",
       "            \n",
       "        ></iframe>\n",
       "        "
      ],
      "text/plain": [
       "<IPython.lib.display.IFrame at 0x7f628836e7d0>"
      ]
     },
     "execution_count": 32,
     "metadata": {},
     "output_type": "execute_result"
    }
   ],
   "source": [
    "IFrame(\"https://www.youtube.com/embed/JEiSTzK-A2A\",720,405)"
   ]
  },
  {
   "cell_type": "markdown",
   "metadata": {},
   "source": [
    "[Voltar para a página inicial](LEIAME.ipynb)"
   ]
  }
 ],
 "metadata": {
  "kernelspec": {
   "display_name": "Python 3 (ipykernel)",
   "language": "python",
   "name": "python3"
  },
  "language_info": {
   "codemirror_mode": {
    "name": "ipython",
    "version": 3
   },
   "file_extension": ".py",
   "mimetype": "text/x-python",
   "name": "python",
   "nbconvert_exporter": "python",
   "pygments_lexer": "ipython3",
   "version": "3.10.4"
  }
 },
 "nbformat": 4,
 "nbformat_minor": 4
}
