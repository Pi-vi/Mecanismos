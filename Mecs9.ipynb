{
 "cells": [
  {
   "cell_type": "markdown",
   "metadata": {},
   "source": [
    "# 9. Transmissão por Engrenagens\n",
    "Professor Paulo Victor <br>\n",
    "e-mail: paulo.gomes@cefet-rj.br <br>\n",
    "CEFET/RJ Campus Angra dos Reis - Sala 6E"
   ]
  },
  {
   "cell_type": "markdown",
   "metadata": {},
   "source": [
    "* Transmissões por engrenagens são amplamente aplicadas em máquinas e mecanismos, desde abridores de latas até porta-aviões. Quando é necessária\n",
    "* O projeto cinemático de transmissões por engrenagens inclui a escolha de relações de redução apropriadas e diâmetros de engrenagens."
   ]
  },
  {
   "cell_type": "markdown",
   "metadata": {},
   "source": [
    "## 9.1 Rodas de atrito"
   ]
  },
  {
   "cell_type": "markdown",
   "metadata": {},
   "source": [
    "Esse tipo de transmissão de movimento foi uma das primeiras criadas pelo ser humano. A transmissão por engrenagens surgiu de uma evolução desse mecanismos. \n",
    "\n",
    "Atualmente, esse tipo de transmissão está sendo muito utilizado no esporte de combate de robôs para as classes de peso mais baixas. \n",
    "\n",
    "![](fig9-1.jpg)"
   ]
  },
  {
   "cell_type": "markdown",
   "metadata": {},
   "source": [
    "Uma variação desse mecanismos é a transmissão por correias (planas ou em V). \n",
    "\n",
    "Quando sincronismo absoluto não for necessário e os níveis de potência transmitidos não forem muito altos, uma transmissão por correias será a melhor opção.\n",
    "\n",
    "Elas são relativamente silenciosas, não necessitam de lubrificação e possuem um custo muito menor quando comparadas com transmissões por correntes e engrenagens. \n",
    "\n",
    "![](fig9-2.jpg)"
   ]
  },
  {
   "cell_type": "markdown",
   "metadata": {},
   "source": [
    "A transmissão CVT (*Constant Velocity Transmission*) utilizada em muitos automóveis também é uma transmissão por correia em $V$ e polia na qual as polias ajustam seu espaçamentoe deste modo modificam seus diâmetros."
   ]
  },
  {
   "cell_type": "code",
   "execution_count": 1,
   "metadata": {},
   "outputs": [],
   "source": [
    "from IPython.display import IFrame"
   ]
  },
  {
   "cell_type": "code",
   "execution_count": 2,
   "metadata": {},
   "outputs": [
    {
     "data": {
      "text/html": [
       "\n",
       "        <iframe\n",
       "            width=\"640\"\n",
       "            height=\"360\"\n",
       "            src=\"https://www.youtube.com/embed/xHWqlfDZnmQ\"\n",
       "            frameborder=\"0\"\n",
       "            allowfullscreen\n",
       "        ></iframe>\n",
       "        "
      ],
      "text/plain": [
       "<IPython.lib.display.IFrame at 0x7f13ec78d220>"
      ]
     },
     "execution_count": 2,
     "metadata": {},
     "output_type": "execute_result"
    }
   ],
   "source": [
    "IFrame(\"https://www.youtube.com/embed/xHWqlfDZnmQ\",640,360)"
   ]
  },
  {
   "cell_type": "markdown",
   "metadata": {},
   "source": [
    "Observa-se que transmissões por engrenagens e por correia possuem mecanismos de quatro barras para qualquer posição no tempo.\n",
    "\n",
    "![](fig9-3.jpg)"
   ]
  },
  {
   "cell_type": "markdown",
   "metadata": {},
   "source": [
    "## 9.2 Lei Fundamental do Engrenamento"
   ]
  },
  {
   "cell_type": "markdown",
   "metadata": {},
   "source": [
    "**Lei fundamental de engrenamento**\n",
    "\n",
    "*A relação da velocidade angular entre as engrenagens de um par de engrenagens permanece constantes durante o funcionamento.* \n",
    "\n",
    "Não é qualquer formato de dente de engrenagem que irá atender a essa lei. Existe uma grande variedade de formatos de dentes que a atendem, mas, por razões práticas, apenas um pequeno número de formatos é de fato utilizado."
   ]
  },
  {
   "cell_type": "markdown",
   "metadata": {},
   "source": [
    "A relação da velocidade angular ($m_V$) à qual se refere essa lei é a mesma que encontramos para o mecanismo de quatro barras. Para o caso do par de engrenagens, essa relação será igual a razão entre os raios das engrenagens de entrada e saída.\n",
    "$$m_V = \\dfrac{\\omega_{saída}}{\\omega_{entrada}} = \\pm \\dfrac{r_{entrada}}{r_{saída}} = \\pm \\dfrac{d_{entrada}}{d_{saída}}$$"
   ]
  },
  {
   "cell_type": "markdown",
   "metadata": {},
   "source": [
    "A **razão de torque** ($m_T$) é o inverso da relação de velocidade.\n",
    "\n",
    "$$m_T = \\dfrac{\\omega_{entrada}}{\\omega_{saída}} = \\pm \\dfrac{r_{saída}}{r_{entrada}} = \\pm \\dfrac{d_{saída}}{d_{entrada}}$$\n",
    "\n",
    "**Um par de engrenagens é essencialmente um dispositivo para transformar torque em velocidade ou vice-versa**. \n",
    "\n",
    "Sua aplicação mais comum é a de reduzir a velocidade e aumentar o torque para o acionamento de altas cargas.\n",
    "\n",
    "Obs.: Os sinais positivos ou negativos das equações anteriores se referem a montagens com cilindros internos ou externos. Na montagem na qual temos um dos cilindros internos ou uma transmissão por correia ou corrente, a direção de rotação será a mesma da entrada (sinal positivo). \n",
    "\n",
    "![](fig9-extra1.png)"
   ]
  },
  {
   "cell_type": "markdown",
   "metadata": {},
   "source": [
    "Os raios e diâmetros dos pares de engrenagens das equações anteriores referem-se às **circunferências primitivas**."
   ]
  },
  {
   "cell_type": "markdown",
   "metadata": {},
   "source": [
    "### A forma de dente evolvente\n",
    "\n",
    "A curva evolvente pode ser gerada desenrolando-se uma corda do cilindro (chamado gerador). Pode-se afirmar sobre a curva evolvente que:\n",
    "* A corda é sempre tangente ao cilindro\n",
    "* O centro de curvatura é sempre o ponto de tangência entre o cilindro e a corda\n",
    "* Uma tangente à evolvente é sempre normal à corda, seu comprimento é o raio de curvatura da evolvente neste instante.\n",
    "![](fig9-5.jpg)\n",
    "\n",
    "Os cilindros dos quais as evolventes se originam são chamados de **circunferência de base** das respectivas engrenagens."
   ]
  },
  {
   "cell_type": "markdown",
   "metadata": {},
   "source": [
    "![](fig9-6.jpg)"
   ]
  },
  {
   "cell_type": "markdown",
   "metadata": {},
   "source": [
    "A partir da observação do comportamento da evolvente, podemos redefirnir a **lei fundamental de engrenamento** da seguinte maneira:\n",
    "\n",
    "*a normal comum dos perfis dos dentes, em todos os pontos de contato quando unidos, deve sempre passar por um ponto fixo nas linhas de centro, chamado ponto primitivo.*\n",
    "\n",
    "A relação de velocidades do par de engrenagens será, então, uma constante definida pela razão dos respectivos raios das engrenagens em relação ao ponto primitivo.\n",
    "\n",
    "Os pontos de início e término de contato entre os dentes definem o **engrenamento** do pinhão e da engrenagem. A distância da linha de ação entre esses pontos ao longo do engrenamento é chamadade **comprimento de ação**, $Z$, definida pela intersecção dos respectivos círculos de adendo com a linha de ação.\n",
    "\n",
    "$$Z = \\sqrt{(r_p + a_p)^2 - (r_p \\cos \\phi)^2} + \\sqrt{(r_g + a_g)^2 - (r_g \\cos \\phi)^2} - C \\sin \\phi$$"
   ]
  },
  {
   "cell_type": "markdown",
   "metadata": {},
   "source": [
    "![](fig9-7.jpg)"
   ]
  },
  {
   "cell_type": "markdown",
   "metadata": {},
   "source": [
    "### Ângulo de pressão\n",
    "\n",
    "O **ângulo de pressão** é definido como o ângulo entre o eixo de transmissão ou linha de ação (normal comum) e a direção da velocidade no ponto primitivo. \n",
    "\n",
    "Os valores-padrão para o ângulo de pressão são 14,5°, 20° e 25°, porém o mais utilizado é o ângulo de 20°, sendo o ângulo de 14,5° considerado obsoleto. "
   ]
  },
  {
   "cell_type": "markdown",
   "metadata": {},
   "source": [
    "### Alterando a distância entre centros\n",
    "Com a forma evolvente do dente de engrenagem, erros na distância entre centros não afetam a relação de velocidades. Esta é a principal vantagem da forma evolvente em relação a outras possíveis formas de dentes e a razão pela qual esta forma é quase universalmente utilizada para dentes de engrenagens.\n",
    "\n",
    "Observa-se que o ângulo de pressão é alterado quando há erro na distância entre os dentes. \n",
    "\n",
    "Observa-se ainda que a relação de velocidade não é alterada com a mudança da distância entre centros. \n",
    "\n",
    "![](fig9-8.jpg)"
   ]
  },
  {
   "cell_type": "markdown",
   "metadata": {},
   "source": [
    "### Jogo nos dentes\n",
    "O **jogo nos dentes** é definido como o vão entre os dentes em contato medido na circunferência primitiva. Tolerâncias de fabricação evitam folgas iguais a zero, pois nem todos os dentes possuem as mesmas dimensões e todos devem engrenar. Portanto, deve haver uma pequena diferença entre a espessura dos dentes e o espaçamento entre eles. \n",
    "\n",
    "Se a distância entre centros for definidas exatamente para obedecer ao valor teórico definido para o conjunto de engrenagens, a tolerância de jogo deve variar na faixa de 0,003 a 0,018 mm para engrenagens de precisão.\n",
    "\n",
    "O aumento do jogo angular em função do erro na distância entre centros é aproximadamente $\\theta_B = 43 200 (\\Delta C) \\dfrac{\\tan \\phi}{\\pi d}$ minutos  de arco"
   ]
  },
  {
   "cell_type": "code",
   "execution_count": null,
   "metadata": {},
   "outputs": [],
   "source": []
  }
 ],
 "metadata": {
  "kernelspec": {
   "display_name": "Python 3",
   "language": "python",
   "name": "python3"
  },
  "language_info": {
   "codemirror_mode": {
    "name": "ipython",
    "version": 3
   },
   "file_extension": ".py",
   "mimetype": "text/x-python",
   "name": "python",
   "nbconvert_exporter": "python",
   "pygments_lexer": "ipython3",
   "version": "3.8.10"
  }
 },
 "nbformat": 4,
 "nbformat_minor": 4
}
